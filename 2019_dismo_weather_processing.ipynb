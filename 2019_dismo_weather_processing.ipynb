{
  "nbformat": 4,
  "nbformat_minor": 0,
  "metadata": {
    "colab": {
      "name": "2019_dismo_weather_processing.ipynb",
      "provenance": [],
      "collapsed_sections": [],
      "toc_visible": true,
      "authorship_tag": "ABX9TyOgW1ThtTUYSaEyo9Q08VTl",
      "include_colab_link": true
    },
    "kernelspec": {
      "name": "python3",
      "display_name": "Python 3"
    },
    "accelerator": "GPU"
  },
  "cells": [
    {
      "cell_type": "markdown",
      "metadata": {
        "id": "view-in-github",
        "colab_type": "text"
      },
      "source": [
        "<a href=\"https://colab.research.google.com/github/samsoe/mpg_notebooks/blob/master/2019_dismo_weather_processing.ipynb\" target=\"_parent\"><img src=\"https://colab.research.google.com/assets/colab-badge.svg\" alt=\"Open In Colab\"/></a>"
      ]
    },
    {
      "cell_type": "markdown",
      "metadata": {
        "id": "ekEy8tRjAJDW",
        "colab_type": "text"
      },
      "source": [
        "based off [build%20dataset%20for%20R%20analysis.ipynb](https://nbviewer.jupyter.org/github/samsoe/matrix/blob/master/notebooks/build%20dataset%20for%20R%20analysis.ipynb)\n"
      ]
    },
    {
      "cell_type": "markdown",
      "metadata": {
        "id": "mJB989mcAJGG",
        "colab_type": "text"
      },
      "source": [
        "# 2012 - 2019 MPG Ranch Weather Data \n",
        "Structure, parse, aggregate for processing with R 'dismo' package"
      ]
    },
    {
      "cell_type": "markdown",
      "metadata": {
        "id": "DOY5AaPTA4QF",
        "colab_type": "text"
      },
      "source": [
        "### Load"
      ]
    },
    {
      "cell_type": "code",
      "metadata": {
        "id": "vSc5dzaTA6Fa",
        "colab_type": "code",
        "colab": {}
      },
      "source": [
        "# python package for data frames\n",
        "import pandas as pd"
      ],
      "execution_count": 0,
      "outputs": []
    },
    {
      "cell_type": "code",
      "metadata": {
        "id": "5LYHczz9Ae7R",
        "colab_type": "code",
        "colab": {}
      },
      "source": [
        "# data source: 2012_2019_mpg_weather.csv\n",
        "# https://drive.google.com/open?id=1dvy1a_5PTLpmF6t8MBWL9gyIwoB0T-cK\n",
        "\n",
        "# remember to change 'open?id' to 'uc?id'\n",
        "src = 'https://drive.google.com/uc?id=1dvy1a_5PTLpmF6t8MBWL9gyIwoB0T-cK' "
      ],
      "execution_count": 0,
      "outputs": []
    },
    {
      "cell_type": "code",
      "metadata": {
        "id": "lKqcEbEJAzp-",
        "colab_type": "code",
        "colab": {}
      },
      "source": [
        "df = pd.read_csv(src, parse_dates=['Date Time '])"
      ],
      "execution_count": 0,
      "outputs": []
    },
    {
      "cell_type": "markdown",
      "metadata": {
        "id": "qNUO_dWMBXIv",
        "colab_type": "text"
      },
      "source": [
        "## Structure"
      ]
    },
    {
      "cell_type": "code",
      "metadata": {
        "id": "iSOgoDuwBBYD",
        "colab_type": "code",
        "colab": {}
      },
      "source": [
        "# set index to a date and time aware index\n",
        "df = df.set_index('Date Time ')"
      ],
      "execution_count": 0,
      "outputs": []
    },
    {
      "cell_type": "code",
      "metadata": {
        "id": "gezj-wR0FDaT",
        "colab_type": "code",
        "colab": {}
      },
      "source": [
        "# rename index for clarity\n",
        "df.index.names = ['datetime']"
      ],
      "execution_count": 0,
      "outputs": []
    },
    {
      "cell_type": "markdown",
      "metadata": {
        "id": "OnyPGFcfIUhS",
        "colab_type": "text"
      },
      "source": [
        "### Temperature"
      ]
    },
    {
      "cell_type": "code",
      "metadata": {
        "id": "vGd1x-Y7BfIJ",
        "colab_type": "code",
        "colab": {}
      },
      "source": [
        "# subselect columns for basic temperature measurement\n",
        "temp_f = df.iloc[:, [1, 8, 15, 22, 29, 36]]"
      ],
      "execution_count": 0,
      "outputs": []
    },
    {
      "cell_type": "code",
      "metadata": {
        "id": "Vl4Pr7VyGW74",
        "colab_type": "code",
        "colab": {}
      },
      "source": [
        "# 2012 and 2013 are incomplete, exclude them\n",
        "temp_f = temp_f['2014':'2019']"
      ],
      "execution_count": 0,
      "outputs": []
    },
    {
      "cell_type": "code",
      "metadata": {
        "id": "1OXaSOocB17E",
        "colab_type": "code",
        "outputId": "30cb4c50-cf31-4735-f2a5-6c5140323374",
        "colab": {
          "base_uri": "https://localhost:8080/",
          "height": 204
        }
      },
      "source": [
        "temp_f.info()"
      ],
      "execution_count": 0,
      "outputs": [
        {
          "output_type": "stream",
          "text": [
            "<class 'pandas.core.frame.DataFrame'>\n",
            "DatetimeIndex: 105117 entries, 2014-01-01 00:00:00 to 2019-12-31 23:30:00\n",
            "Data columns (total 6 columns):\n",
            "Outside Temperature TX1 (°F)    103900 non-null float64\n",
            "Outside Temperature TX2 (°F)    89682 non-null float64\n",
            "Outside Temperature TX3 (°F)    89844 non-null float64\n",
            "Outside Temperature TX4 (°F)    103794 non-null float64\n",
            "Outside Temperature TX5 (°F)    105089 non-null float64\n",
            "Outside Temperature TX6 (°F)    95357 non-null float64\n",
            "dtypes: float64(6)\n",
            "memory usage: 5.6 MB\n"
          ],
          "name": "stdout"
        }
      ]
    },
    {
      "cell_type": "markdown",
      "metadata": {
        "id": "7lnT0hhJCmOv",
        "colab_type": "text"
      },
      "source": [
        "\\* consider deviating from referenced notebook \n",
        "* select max and min values and then average"
      ]
    },
    {
      "cell_type": "code",
      "metadata": {
        "id": "iS4QeYJoB3-u",
        "colab_type": "code",
        "outputId": "6c821f86-7d78-4135-d47d-c1d96d1f3dd9",
        "colab": {
          "base_uri": "https://localhost:8080/",
          "height": 337
        }
      },
      "source": [
        "temp_f.head()"
      ],
      "execution_count": 0,
      "outputs": [
        {
          "output_type": "execute_result",
          "data": {
            "text/html": [
              "<div>\n",
              "<style scoped>\n",
              "    .dataframe tbody tr th:only-of-type {\n",
              "        vertical-align: middle;\n",
              "    }\n",
              "\n",
              "    .dataframe tbody tr th {\n",
              "        vertical-align: top;\n",
              "    }\n",
              "\n",
              "    .dataframe thead th {\n",
              "        text-align: right;\n",
              "    }\n",
              "</style>\n",
              "<table border=\"1\" class=\"dataframe\">\n",
              "  <thead>\n",
              "    <tr style=\"text-align: right;\">\n",
              "      <th></th>\n",
              "      <th>Outside Temperature TX1 (°F)</th>\n",
              "      <th>Outside Temperature TX2 (°F)</th>\n",
              "      <th>Outside Temperature TX3 (°F)</th>\n",
              "      <th>Outside Temperature TX4 (°F)</th>\n",
              "      <th>Outside Temperature TX5 (°F)</th>\n",
              "      <th>Outside Temperature TX6 (°F)</th>\n",
              "    </tr>\n",
              "    <tr>\n",
              "      <th>datetime</th>\n",
              "      <th></th>\n",
              "      <th></th>\n",
              "      <th></th>\n",
              "      <th></th>\n",
              "      <th></th>\n",
              "      <th></th>\n",
              "    </tr>\n",
              "  </thead>\n",
              "  <tbody>\n",
              "    <tr>\n",
              "      <th>2014-01-01 00:00:00</th>\n",
              "      <td>24.8</td>\n",
              "      <td>NaN</td>\n",
              "      <td>26.8</td>\n",
              "      <td>30.0</td>\n",
              "      <td>31.0</td>\n",
              "      <td>33.5</td>\n",
              "    </tr>\n",
              "    <tr>\n",
              "      <th>2014-01-01 00:30:00</th>\n",
              "      <td>25.0</td>\n",
              "      <td>NaN</td>\n",
              "      <td>25.6</td>\n",
              "      <td>30.2</td>\n",
              "      <td>30.7</td>\n",
              "      <td>33.9</td>\n",
              "    </tr>\n",
              "    <tr>\n",
              "      <th>2014-01-01 01:00:00</th>\n",
              "      <td>24.9</td>\n",
              "      <td>NaN</td>\n",
              "      <td>26.4</td>\n",
              "      <td>30.1</td>\n",
              "      <td>27.6</td>\n",
              "      <td>33.4</td>\n",
              "    </tr>\n",
              "    <tr>\n",
              "      <th>2014-01-01 01:30:00</th>\n",
              "      <td>25.2</td>\n",
              "      <td>NaN</td>\n",
              "      <td>NaN</td>\n",
              "      <td>30.5</td>\n",
              "      <td>27.4</td>\n",
              "      <td>32.0</td>\n",
              "    </tr>\n",
              "    <tr>\n",
              "      <th>2014-01-01 02:00:00</th>\n",
              "      <td>25.2</td>\n",
              "      <td>NaN</td>\n",
              "      <td>NaN</td>\n",
              "      <td>30.1</td>\n",
              "      <td>30.1</td>\n",
              "      <td>31.0</td>\n",
              "    </tr>\n",
              "  </tbody>\n",
              "</table>\n",
              "</div>"
            ],
            "text/plain": [
              "                     Outside Temperature TX1 (°F)  ...  Outside Temperature TX6 (°F)\n",
              "datetime                                           ...                              \n",
              "2014-01-01 00:00:00                          24.8  ...                          33.5\n",
              "2014-01-01 00:30:00                          25.0  ...                          33.9\n",
              "2014-01-01 01:00:00                          24.9  ...                          33.4\n",
              "2014-01-01 01:30:00                          25.2  ...                          32.0\n",
              "2014-01-01 02:00:00                          25.2  ...                          31.0\n",
              "\n",
              "[5 rows x 6 columns]"
            ]
          },
          "metadata": {
            "tags": []
          },
          "execution_count": 45
        }
      ]
    },
    {
      "cell_type": "markdown",
      "metadata": {
        "id": "giLbbDMmIXnu",
        "colab_type": "text"
      },
      "source": [
        "### Precipitation"
      ]
    },
    {
      "cell_type": "code",
      "metadata": {
        "id": "99fDCjzzIZ3V",
        "colab_type": "code",
        "colab": {}
      },
      "source": [
        "# subselect columns for basic precipitation measurement\n",
        "precip_in = df.iloc[:, [6, 13, 20, 27, 34, 41]]"
      ],
      "execution_count": 0,
      "outputs": []
    },
    {
      "cell_type": "code",
      "metadata": {
        "id": "vTjFV1DoIZ6U",
        "colab_type": "code",
        "outputId": "52c5b079-e0eb-495b-d431-7be3f24413df",
        "colab": {
          "base_uri": "https://localhost:8080/",
          "height": 297
        }
      },
      "source": [
        "precip_in.describe()"
      ],
      "execution_count": 0,
      "outputs": [
        {
          "output_type": "execute_result",
          "data": {
            "text/html": [
              "<div>\n",
              "<style scoped>\n",
              "    .dataframe tbody tr th:only-of-type {\n",
              "        vertical-align: middle;\n",
              "    }\n",
              "\n",
              "    .dataframe tbody tr th {\n",
              "        vertical-align: top;\n",
              "    }\n",
              "\n",
              "    .dataframe thead th {\n",
              "        text-align: right;\n",
              "    }\n",
              "</style>\n",
              "<table border=\"1\" class=\"dataframe\">\n",
              "  <thead>\n",
              "    <tr style=\"text-align: right;\">\n",
              "      <th></th>\n",
              "      <th>Rain Amount TX1 (in)</th>\n",
              "      <th>Rain Amount TX2 (in)</th>\n",
              "      <th>Rain Amount TX3 (in)</th>\n",
              "      <th>Rain Amount TX4 (in)</th>\n",
              "      <th>Rain Amount TX5 (in)</th>\n",
              "      <th>Rain Amount TX6 (in)</th>\n",
              "    </tr>\n",
              "  </thead>\n",
              "  <tbody>\n",
              "    <tr>\n",
              "      <th>count</th>\n",
              "      <td>212994.000000</td>\n",
              "      <td>212994.000000</td>\n",
              "      <td>212994.000000</td>\n",
              "      <td>212994.000000</td>\n",
              "      <td>212994.000000</td>\n",
              "      <td>210689.000000</td>\n",
              "    </tr>\n",
              "    <tr>\n",
              "      <th>mean</th>\n",
              "      <td>0.000336</td>\n",
              "      <td>0.000415</td>\n",
              "      <td>0.000370</td>\n",
              "      <td>0.000373</td>\n",
              "      <td>0.000407</td>\n",
              "      <td>0.000309</td>\n",
              "    </tr>\n",
              "    <tr>\n",
              "      <th>std</th>\n",
              "      <td>0.003835</td>\n",
              "      <td>0.004259</td>\n",
              "      <td>0.003717</td>\n",
              "      <td>0.004057</td>\n",
              "      <td>0.004173</td>\n",
              "      <td>0.003630</td>\n",
              "    </tr>\n",
              "    <tr>\n",
              "      <th>min</th>\n",
              "      <td>0.000000</td>\n",
              "      <td>0.000000</td>\n",
              "      <td>0.000000</td>\n",
              "      <td>0.000000</td>\n",
              "      <td>0.000000</td>\n",
              "      <td>0.000000</td>\n",
              "    </tr>\n",
              "    <tr>\n",
              "      <th>25%</th>\n",
              "      <td>0.000000</td>\n",
              "      <td>0.000000</td>\n",
              "      <td>0.000000</td>\n",
              "      <td>0.000000</td>\n",
              "      <td>0.000000</td>\n",
              "      <td>0.000000</td>\n",
              "    </tr>\n",
              "    <tr>\n",
              "      <th>50%</th>\n",
              "      <td>0.000000</td>\n",
              "      <td>0.000000</td>\n",
              "      <td>0.000000</td>\n",
              "      <td>0.000000</td>\n",
              "      <td>0.000000</td>\n",
              "      <td>0.000000</td>\n",
              "    </tr>\n",
              "    <tr>\n",
              "      <th>75%</th>\n",
              "      <td>0.000000</td>\n",
              "      <td>0.000000</td>\n",
              "      <td>0.000000</td>\n",
              "      <td>0.000000</td>\n",
              "      <td>0.000000</td>\n",
              "      <td>0.000000</td>\n",
              "    </tr>\n",
              "    <tr>\n",
              "      <th>max</th>\n",
              "      <td>0.470000</td>\n",
              "      <td>0.410000</td>\n",
              "      <td>0.280000</td>\n",
              "      <td>0.580000</td>\n",
              "      <td>0.780000</td>\n",
              "      <td>0.480000</td>\n",
              "    </tr>\n",
              "  </tbody>\n",
              "</table>\n",
              "</div>"
            ],
            "text/plain": [
              "       Rain Amount TX1 (in)  ...  Rain Amount TX6 (in)\n",
              "count         212994.000000  ...         210689.000000\n",
              "mean               0.000336  ...              0.000309\n",
              "std                0.003835  ...              0.003630\n",
              "min                0.000000  ...              0.000000\n",
              "25%                0.000000  ...              0.000000\n",
              "50%                0.000000  ...              0.000000\n",
              "75%                0.000000  ...              0.000000\n",
              "max                0.470000  ...              0.480000\n",
              "\n",
              "[8 rows x 6 columns]"
            ]
          },
          "metadata": {
            "tags": []
          },
          "execution_count": 70
        }
      ]
    },
    {
      "cell_type": "markdown",
      "metadata": {
        "id": "C-mitKQvE005",
        "colab_type": "text"
      },
      "source": [
        "## Aggregate"
      ]
    },
    {
      "cell_type": "markdown",
      "metadata": {
        "id": "Xai7q5YCHTuv",
        "colab_type": "text"
      },
      "source": [
        "### Temperature"
      ]
    },
    {
      "cell_type": "code",
      "metadata": {
        "id": "3nySW_JNDN7f",
        "colab_type": "code",
        "colab": {}
      },
      "source": [
        "# average each row, mean function excludes NaN values\n",
        "mean_temp_f = temp_f.mean(axis=1).to_frame(name='temp_f')"
      ],
      "execution_count": 0,
      "outputs": []
    },
    {
      "cell_type": "code",
      "metadata": {
        "id": "WHf7GEx9DqVy",
        "colab_type": "code",
        "outputId": "f12ed992-20be-4c1e-85a4-bf433901b112",
        "colab": {
          "base_uri": "https://localhost:8080/",
          "height": 235
        }
      },
      "source": [
        "# select min temp values for each month\n",
        "mean_temp_f_min = mean_temp_f.groupby(pd.Grouper(freq='M')).min()\n",
        "mean_temp_f_min.columns = ['tmin_f']\n",
        "mean_temp_f_min.head()"
      ],
      "execution_count": 0,
      "outputs": [
        {
          "output_type": "execute_result",
          "data": {
            "text/html": [
              "<div>\n",
              "<style scoped>\n",
              "    .dataframe tbody tr th:only-of-type {\n",
              "        vertical-align: middle;\n",
              "    }\n",
              "\n",
              "    .dataframe tbody tr th {\n",
              "        vertical-align: top;\n",
              "    }\n",
              "\n",
              "    .dataframe thead th {\n",
              "        text-align: right;\n",
              "    }\n",
              "</style>\n",
              "<table border=\"1\" class=\"dataframe\">\n",
              "  <thead>\n",
              "    <tr style=\"text-align: right;\">\n",
              "      <th></th>\n",
              "      <th>tmin_f</th>\n",
              "    </tr>\n",
              "    <tr>\n",
              "      <th>datetime</th>\n",
              "      <th></th>\n",
              "    </tr>\n",
              "  </thead>\n",
              "  <tbody>\n",
              "    <tr>\n",
              "      <th>2014-01-31</th>\n",
              "      <td>10.520000</td>\n",
              "    </tr>\n",
              "    <tr>\n",
              "      <th>2014-02-28</th>\n",
              "      <td>-16.333333</td>\n",
              "    </tr>\n",
              "    <tr>\n",
              "      <th>2014-03-31</th>\n",
              "      <td>-4.425000</td>\n",
              "    </tr>\n",
              "    <tr>\n",
              "      <th>2014-04-30</th>\n",
              "      <td>22.166667</td>\n",
              "    </tr>\n",
              "    <tr>\n",
              "      <th>2014-05-31</th>\n",
              "      <td>30.600000</td>\n",
              "    </tr>\n",
              "  </tbody>\n",
              "</table>\n",
              "</div>"
            ],
            "text/plain": [
              "               tmin_f\n",
              "datetime             \n",
              "2014-01-31  10.520000\n",
              "2014-02-28 -16.333333\n",
              "2014-03-31  -4.425000\n",
              "2014-04-30  22.166667\n",
              "2014-05-31  30.600000"
            ]
          },
          "metadata": {
            "tags": []
          },
          "execution_count": 47
        }
      ]
    },
    {
      "cell_type": "code",
      "metadata": {
        "id": "kU3K9V49Dtyp",
        "colab_type": "code",
        "outputId": "86417566-43b0-4205-afae-cd729e82ddb8",
        "colab": {
          "base_uri": "https://localhost:8080/",
          "height": 297
        }
      },
      "source": [
        "mean_temp_f_min.describe()"
      ],
      "execution_count": 0,
      "outputs": [
        {
          "output_type": "execute_result",
          "data": {
            "text/html": [
              "<div>\n",
              "<style scoped>\n",
              "    .dataframe tbody tr th:only-of-type {\n",
              "        vertical-align: middle;\n",
              "    }\n",
              "\n",
              "    .dataframe tbody tr th {\n",
              "        vertical-align: top;\n",
              "    }\n",
              "\n",
              "    .dataframe thead th {\n",
              "        text-align: right;\n",
              "    }\n",
              "</style>\n",
              "<table border=\"1\" class=\"dataframe\">\n",
              "  <thead>\n",
              "    <tr style=\"text-align: right;\">\n",
              "      <th></th>\n",
              "      <th>tmin_f</th>\n",
              "    </tr>\n",
              "  </thead>\n",
              "  <tbody>\n",
              "    <tr>\n",
              "      <th>count</th>\n",
              "      <td>72.000000</td>\n",
              "    </tr>\n",
              "    <tr>\n",
              "      <th>mean</th>\n",
              "      <td>22.709491</td>\n",
              "    </tr>\n",
              "    <tr>\n",
              "      <th>std</th>\n",
              "      <td>17.092767</td>\n",
              "    </tr>\n",
              "    <tr>\n",
              "      <th>min</th>\n",
              "      <td>-16.333333</td>\n",
              "    </tr>\n",
              "    <tr>\n",
              "      <th>25%</th>\n",
              "      <td>9.608750</td>\n",
              "    </tr>\n",
              "    <tr>\n",
              "      <th>50%</th>\n",
              "      <td>24.691667</td>\n",
              "    </tr>\n",
              "    <tr>\n",
              "      <th>75%</th>\n",
              "      <td>36.404167</td>\n",
              "    </tr>\n",
              "    <tr>\n",
              "      <th>max</th>\n",
              "      <td>51.475000</td>\n",
              "    </tr>\n",
              "  </tbody>\n",
              "</table>\n",
              "</div>"
            ],
            "text/plain": [
              "          tmin_f\n",
              "count  72.000000\n",
              "mean   22.709491\n",
              "std    17.092767\n",
              "min   -16.333333\n",
              "25%     9.608750\n",
              "50%    24.691667\n",
              "75%    36.404167\n",
              "max    51.475000"
            ]
          },
          "metadata": {
            "tags": []
          },
          "execution_count": 51
        }
      ]
    },
    {
      "cell_type": "code",
      "metadata": {
        "id": "c4ELSyT3Gwy7",
        "colab_type": "code",
        "colab": {}
      },
      "source": [
        "# select max temp values for each month\n",
        "mean_temp_f_max = mean_temp_f.groupby(pd.Grouper(freq='M')).max()\n",
        "mean_temp_f_max.columns = ['tmax_f']"
      ],
      "execution_count": 0,
      "outputs": []
    },
    {
      "cell_type": "code",
      "metadata": {
        "id": "36N_nRVJHG5c",
        "colab_type": "code",
        "outputId": "14d75093-7c16-486c-c817-eb9b0ec885ff",
        "colab": {
          "base_uri": "https://localhost:8080/",
          "height": 235
        }
      },
      "source": [
        "mean_temp_f_max.head()"
      ],
      "execution_count": 0,
      "outputs": [
        {
          "output_type": "execute_result",
          "data": {
            "text/html": [
              "<div>\n",
              "<style scoped>\n",
              "    .dataframe tbody tr th:only-of-type {\n",
              "        vertical-align: middle;\n",
              "    }\n",
              "\n",
              "    .dataframe tbody tr th {\n",
              "        vertical-align: top;\n",
              "    }\n",
              "\n",
              "    .dataframe thead th {\n",
              "        text-align: right;\n",
              "    }\n",
              "</style>\n",
              "<table border=\"1\" class=\"dataframe\">\n",
              "  <thead>\n",
              "    <tr style=\"text-align: right;\">\n",
              "      <th></th>\n",
              "      <th>tmax_f</th>\n",
              "    </tr>\n",
              "    <tr>\n",
              "      <th>datetime</th>\n",
              "      <th></th>\n",
              "    </tr>\n",
              "  </thead>\n",
              "  <tbody>\n",
              "    <tr>\n",
              "      <th>2014-01-31</th>\n",
              "      <td>44.850000</td>\n",
              "    </tr>\n",
              "    <tr>\n",
              "      <th>2014-02-28</th>\n",
              "      <td>42.416667</td>\n",
              "    </tr>\n",
              "    <tr>\n",
              "      <th>2014-03-31</th>\n",
              "      <td>57.600000</td>\n",
              "    </tr>\n",
              "    <tr>\n",
              "      <th>2014-04-30</th>\n",
              "      <td>65.966667</td>\n",
              "    </tr>\n",
              "    <tr>\n",
              "      <th>2014-05-31</th>\n",
              "      <td>78.950000</td>\n",
              "    </tr>\n",
              "  </tbody>\n",
              "</table>\n",
              "</div>"
            ],
            "text/plain": [
              "               tmax_f\n",
              "datetime             \n",
              "2014-01-31  44.850000\n",
              "2014-02-28  42.416667\n",
              "2014-03-31  57.600000\n",
              "2014-04-30  65.966667\n",
              "2014-05-31  78.950000"
            ]
          },
          "metadata": {
            "tags": []
          },
          "execution_count": 53
        }
      ]
    },
    {
      "cell_type": "code",
      "metadata": {
        "id": "osyEE_BQHIPT",
        "colab_type": "code",
        "outputId": "766ebb2c-4b67-4e1d-9e0d-e337c269bb81",
        "colab": {
          "base_uri": "https://localhost:8080/",
          "height": 297
        }
      },
      "source": [
        "mean_temp_f_max.describe()"
      ],
      "execution_count": 0,
      "outputs": [
        {
          "output_type": "execute_result",
          "data": {
            "text/html": [
              "<div>\n",
              "<style scoped>\n",
              "    .dataframe tbody tr th:only-of-type {\n",
              "        vertical-align: middle;\n",
              "    }\n",
              "\n",
              "    .dataframe tbody tr th {\n",
              "        vertical-align: top;\n",
              "    }\n",
              "\n",
              "    .dataframe thead th {\n",
              "        text-align: right;\n",
              "    }\n",
              "</style>\n",
              "<table border=\"1\" class=\"dataframe\">\n",
              "  <thead>\n",
              "    <tr style=\"text-align: right;\">\n",
              "      <th></th>\n",
              "      <th>tmax_f</th>\n",
              "    </tr>\n",
              "  </thead>\n",
              "  <tbody>\n",
              "    <tr>\n",
              "      <th>count</th>\n",
              "      <td>72.000000</td>\n",
              "    </tr>\n",
              "    <tr>\n",
              "      <th>mean</th>\n",
              "      <td>68.478796</td>\n",
              "    </tr>\n",
              "    <tr>\n",
              "      <th>std</th>\n",
              "      <td>16.738876</td>\n",
              "    </tr>\n",
              "    <tr>\n",
              "      <th>min</th>\n",
              "      <td>38.975000</td>\n",
              "    </tr>\n",
              "    <tr>\n",
              "      <th>25%</th>\n",
              "      <td>53.758333</td>\n",
              "    </tr>\n",
              "    <tr>\n",
              "      <th>50%</th>\n",
              "      <td>69.483333</td>\n",
              "    </tr>\n",
              "    <tr>\n",
              "      <th>75%</th>\n",
              "      <td>85.116667</td>\n",
              "    </tr>\n",
              "    <tr>\n",
              "      <th>max</th>\n",
              "      <td>95.600000</td>\n",
              "    </tr>\n",
              "  </tbody>\n",
              "</table>\n",
              "</div>"
            ],
            "text/plain": [
              "          tmax_f\n",
              "count  72.000000\n",
              "mean   68.478796\n",
              "std    16.738876\n",
              "min    38.975000\n",
              "25%    53.758333\n",
              "50%    69.483333\n",
              "75%    85.116667\n",
              "max    95.600000"
            ]
          },
          "metadata": {
            "tags": []
          },
          "execution_count": 54
        }
      ]
    },
    {
      "cell_type": "code",
      "metadata": {
        "id": "wDkLKtQsHNG5",
        "colab_type": "code",
        "colab": {}
      },
      "source": [
        "# combine temperature max and min\n",
        "temperature = pd.concat([mean_temp_f_max, mean_temp_f_min], axis=1)"
      ],
      "execution_count": 0,
      "outputs": []
    },
    {
      "cell_type": "code",
      "metadata": {
        "id": "rEPzU8wqHgoa",
        "colab_type": "code",
        "outputId": "96e13456-4dd0-40b8-84ad-b0ed3ac2eee7",
        "colab": {
          "base_uri": "https://localhost:8080/",
          "height": 450
        }
      },
      "source": [
        "temperature"
      ],
      "execution_count": 0,
      "outputs": [
        {
          "output_type": "execute_result",
          "data": {
            "text/html": [
              "<div>\n",
              "<style scoped>\n",
              "    .dataframe tbody tr th:only-of-type {\n",
              "        vertical-align: middle;\n",
              "    }\n",
              "\n",
              "    .dataframe tbody tr th {\n",
              "        vertical-align: top;\n",
              "    }\n",
              "\n",
              "    .dataframe thead th {\n",
              "        text-align: right;\n",
              "    }\n",
              "</style>\n",
              "<table border=\"1\" class=\"dataframe\">\n",
              "  <thead>\n",
              "    <tr style=\"text-align: right;\">\n",
              "      <th></th>\n",
              "      <th>tmax_f</th>\n",
              "      <th>tmin_f</th>\n",
              "    </tr>\n",
              "    <tr>\n",
              "      <th>datetime</th>\n",
              "      <th></th>\n",
              "      <th></th>\n",
              "    </tr>\n",
              "  </thead>\n",
              "  <tbody>\n",
              "    <tr>\n",
              "      <th>2014-01-31</th>\n",
              "      <td>44.850000</td>\n",
              "      <td>10.520000</td>\n",
              "    </tr>\n",
              "    <tr>\n",
              "      <th>2014-02-28</th>\n",
              "      <td>42.416667</td>\n",
              "      <td>-16.333333</td>\n",
              "    </tr>\n",
              "    <tr>\n",
              "      <th>2014-03-31</th>\n",
              "      <td>57.600000</td>\n",
              "      <td>-4.425000</td>\n",
              "    </tr>\n",
              "    <tr>\n",
              "      <th>2014-04-30</th>\n",
              "      <td>65.966667</td>\n",
              "      <td>22.166667</td>\n",
              "    </tr>\n",
              "    <tr>\n",
              "      <th>2014-05-31</th>\n",
              "      <td>78.950000</td>\n",
              "      <td>30.600000</td>\n",
              "    </tr>\n",
              "    <tr>\n",
              "      <th>...</th>\n",
              "      <td>...</td>\n",
              "      <td>...</td>\n",
              "    </tr>\n",
              "    <tr>\n",
              "      <th>2019-08-31</th>\n",
              "      <td>88.366667</td>\n",
              "      <td>46.483333</td>\n",
              "    </tr>\n",
              "    <tr>\n",
              "      <th>2019-09-30</th>\n",
              "      <td>85.533333</td>\n",
              "      <td>26.725000</td>\n",
              "    </tr>\n",
              "    <tr>\n",
              "      <th>2019-10-31</th>\n",
              "      <td>67.300000</td>\n",
              "      <td>3.325000</td>\n",
              "    </tr>\n",
              "    <tr>\n",
              "      <th>2019-11-30</th>\n",
              "      <td>53.866667</td>\n",
              "      <td>8.975000</td>\n",
              "    </tr>\n",
              "    <tr>\n",
              "      <th>2019-12-31</th>\n",
              "      <td>53.400000</td>\n",
              "      <td>14.550000</td>\n",
              "    </tr>\n",
              "  </tbody>\n",
              "</table>\n",
              "<p>72 rows × 2 columns</p>\n",
              "</div>"
            ],
            "text/plain": [
              "               tmax_f     tmin_f\n",
              "datetime                        \n",
              "2014-01-31  44.850000  10.520000\n",
              "2014-02-28  42.416667 -16.333333\n",
              "2014-03-31  57.600000  -4.425000\n",
              "2014-04-30  65.966667  22.166667\n",
              "2014-05-31  78.950000  30.600000\n",
              "...               ...        ...\n",
              "2019-08-31  88.366667  46.483333\n",
              "2019-09-30  85.533333  26.725000\n",
              "2019-10-31  67.300000   3.325000\n",
              "2019-11-30  53.866667   8.975000\n",
              "2019-12-31  53.400000  14.550000\n",
              "\n",
              "[72 rows x 2 columns]"
            ]
          },
          "metadata": {
            "tags": []
          },
          "execution_count": 56
        }
      ]
    },
    {
      "cell_type": "markdown",
      "metadata": {
        "id": "S1E3oAvfHlwe",
        "colab_type": "text"
      },
      "source": [
        "### Precipitation"
      ]
    },
    {
      "cell_type": "code",
      "metadata": {
        "id": "9dVEMfpAIL63",
        "colab_type": "code",
        "colab": {}
      },
      "source": [
        "# average each row, mean function excludes NaN values\n",
        "mean_precip_in = precip_in.mean(axis=1).to_frame(name='psum_in')"
      ],
      "execution_count": 0,
      "outputs": []
    },
    {
      "cell_type": "code",
      "metadata": {
        "id": "ONDAqkZgJq6v",
        "colab_type": "code",
        "outputId": "e5d4a393-56be-4935-9df1-7aa85332b3cf",
        "colab": {
          "base_uri": "https://localhost:8080/",
          "height": 297
        }
      },
      "source": [
        "mean_precip_in.describe()"
      ],
      "execution_count": 0,
      "outputs": [
        {
          "output_type": "execute_result",
          "data": {
            "text/html": [
              "<div>\n",
              "<style scoped>\n",
              "    .dataframe tbody tr th:only-of-type {\n",
              "        vertical-align: middle;\n",
              "    }\n",
              "\n",
              "    .dataframe tbody tr th {\n",
              "        vertical-align: top;\n",
              "    }\n",
              "\n",
              "    .dataframe thead th {\n",
              "        text-align: right;\n",
              "    }\n",
              "</style>\n",
              "<table border=\"1\" class=\"dataframe\">\n",
              "  <thead>\n",
              "    <tr style=\"text-align: right;\">\n",
              "      <th></th>\n",
              "      <th>psum_in</th>\n",
              "    </tr>\n",
              "  </thead>\n",
              "  <tbody>\n",
              "    <tr>\n",
              "      <th>count</th>\n",
              "      <td>212994.000000</td>\n",
              "    </tr>\n",
              "    <tr>\n",
              "      <th>mean</th>\n",
              "      <td>0.000368</td>\n",
              "    </tr>\n",
              "    <tr>\n",
              "      <th>std</th>\n",
              "      <td>0.003118</td>\n",
              "    </tr>\n",
              "    <tr>\n",
              "      <th>min</th>\n",
              "      <td>0.000000</td>\n",
              "    </tr>\n",
              "    <tr>\n",
              "      <th>25%</th>\n",
              "      <td>0.000000</td>\n",
              "    </tr>\n",
              "    <tr>\n",
              "      <th>50%</th>\n",
              "      <td>0.000000</td>\n",
              "    </tr>\n",
              "    <tr>\n",
              "      <th>75%</th>\n",
              "      <td>0.000000</td>\n",
              "    </tr>\n",
              "    <tr>\n",
              "      <th>max</th>\n",
              "      <td>0.216667</td>\n",
              "    </tr>\n",
              "  </tbody>\n",
              "</table>\n",
              "</div>"
            ],
            "text/plain": [
              "             psum_in\n",
              "count  212994.000000\n",
              "mean        0.000368\n",
              "std         0.003118\n",
              "min         0.000000\n",
              "25%         0.000000\n",
              "50%         0.000000\n",
              "75%         0.000000\n",
              "max         0.216667"
            ]
          },
          "metadata": {
            "tags": []
          },
          "execution_count": 79
        }
      ]
    },
    {
      "cell_type": "code",
      "metadata": {
        "id": "zutmSQeTJsoY",
        "colab_type": "code",
        "colab": {}
      },
      "source": [
        "# 2012 and 2013 are incomplete, exclude them\n",
        "mean_precip_in = mean_precip_in['2014':'2019']"
      ],
      "execution_count": 0,
      "outputs": []
    },
    {
      "cell_type": "code",
      "metadata": {
        "id": "-uZC96eOKBwh",
        "colab_type": "code",
        "colab": {}
      },
      "source": [
        "# sum by month\n",
        "precipication_in = mean_precip_in.groupby(pd.Grouper(freq='M')).sum()"
      ],
      "execution_count": 0,
      "outputs": []
    },
    {
      "cell_type": "code",
      "metadata": {
        "id": "_GvpwmjCKS3v",
        "colab_type": "code",
        "outputId": "fdfe1f4d-c6dd-4463-c1f3-a2a2102cc0d0",
        "colab": {
          "base_uri": "https://localhost:8080/",
          "height": 235
        }
      },
      "source": [
        "precipication_in.head()"
      ],
      "execution_count": 0,
      "outputs": [
        {
          "output_type": "execute_result",
          "data": {
            "text/html": [
              "<div>\n",
              "<style scoped>\n",
              "    .dataframe tbody tr th:only-of-type {\n",
              "        vertical-align: middle;\n",
              "    }\n",
              "\n",
              "    .dataframe tbody tr th {\n",
              "        vertical-align: top;\n",
              "    }\n",
              "\n",
              "    .dataframe thead th {\n",
              "        text-align: right;\n",
              "    }\n",
              "</style>\n",
              "<table border=\"1\" class=\"dataframe\">\n",
              "  <thead>\n",
              "    <tr style=\"text-align: right;\">\n",
              "      <th></th>\n",
              "      <th>psum_in</th>\n",
              "    </tr>\n",
              "    <tr>\n",
              "      <th>datetime</th>\n",
              "      <th></th>\n",
              "    </tr>\n",
              "  </thead>\n",
              "  <tbody>\n",
              "    <tr>\n",
              "      <th>2014-01-31</th>\n",
              "      <td>0.605000</td>\n",
              "    </tr>\n",
              "    <tr>\n",
              "      <th>2014-02-28</th>\n",
              "      <td>0.531667</td>\n",
              "    </tr>\n",
              "    <tr>\n",
              "      <th>2014-03-31</th>\n",
              "      <td>1.608333</td>\n",
              "    </tr>\n",
              "    <tr>\n",
              "      <th>2014-04-30</th>\n",
              "      <td>0.316667</td>\n",
              "    </tr>\n",
              "    <tr>\n",
              "      <th>2014-05-31</th>\n",
              "      <td>0.733333</td>\n",
              "    </tr>\n",
              "  </tbody>\n",
              "</table>\n",
              "</div>"
            ],
            "text/plain": [
              "             psum_in\n",
              "datetime            \n",
              "2014-01-31  0.605000\n",
              "2014-02-28  0.531667\n",
              "2014-03-31  1.608333\n",
              "2014-04-30  0.316667\n",
              "2014-05-31  0.733333"
            ]
          },
          "metadata": {
            "tags": []
          },
          "execution_count": 82
        }
      ]
    },
    {
      "cell_type": "markdown",
      "metadata": {
        "id": "DPQ9IrRRKrBu",
        "colab_type": "text"
      },
      "source": [
        "## Combine Results"
      ]
    },
    {
      "cell_type": "code",
      "metadata": {
        "id": "DhBmBJrRKse_",
        "colab_type": "code",
        "colab": {}
      },
      "source": [
        "temperature_precipitation = pd.concat([temperature.round(1), precipication_in.round(2)], axis=1)"
      ],
      "execution_count": 0,
      "outputs": []
    },
    {
      "cell_type": "code",
      "metadata": {
        "id": "E4FToo-cK8ZH",
        "colab_type": "code",
        "outputId": "ff3af481-59db-405e-891b-b653ac11db93",
        "colab": {
          "base_uri": "https://localhost:8080/",
          "height": 235
        }
      },
      "source": [
        "temperature_precipitation.tail()"
      ],
      "execution_count": 0,
      "outputs": [
        {
          "output_type": "execute_result",
          "data": {
            "text/html": [
              "<div>\n",
              "<style scoped>\n",
              "    .dataframe tbody tr th:only-of-type {\n",
              "        vertical-align: middle;\n",
              "    }\n",
              "\n",
              "    .dataframe tbody tr th {\n",
              "        vertical-align: top;\n",
              "    }\n",
              "\n",
              "    .dataframe thead th {\n",
              "        text-align: right;\n",
              "    }\n",
              "</style>\n",
              "<table border=\"1\" class=\"dataframe\">\n",
              "  <thead>\n",
              "    <tr style=\"text-align: right;\">\n",
              "      <th></th>\n",
              "      <th>tmax_f</th>\n",
              "      <th>tmin_f</th>\n",
              "      <th>psum_in</th>\n",
              "    </tr>\n",
              "    <tr>\n",
              "      <th>datetime</th>\n",
              "      <th></th>\n",
              "      <th></th>\n",
              "      <th></th>\n",
              "    </tr>\n",
              "  </thead>\n",
              "  <tbody>\n",
              "    <tr>\n",
              "      <th>2019-08-31</th>\n",
              "      <td>88.4</td>\n",
              "      <td>46.5</td>\n",
              "      <td>0.87</td>\n",
              "    </tr>\n",
              "    <tr>\n",
              "      <th>2019-09-30</th>\n",
              "      <td>85.5</td>\n",
              "      <td>26.7</td>\n",
              "      <td>1.86</td>\n",
              "    </tr>\n",
              "    <tr>\n",
              "      <th>2019-10-31</th>\n",
              "      <td>67.3</td>\n",
              "      <td>3.3</td>\n",
              "      <td>0.33</td>\n",
              "    </tr>\n",
              "    <tr>\n",
              "      <th>2019-11-30</th>\n",
              "      <td>53.9</td>\n",
              "      <td>9.0</td>\n",
              "      <td>0.47</td>\n",
              "    </tr>\n",
              "    <tr>\n",
              "      <th>2019-12-31</th>\n",
              "      <td>53.4</td>\n",
              "      <td>14.6</td>\n",
              "      <td>0.53</td>\n",
              "    </tr>\n",
              "  </tbody>\n",
              "</table>\n",
              "</div>"
            ],
            "text/plain": [
              "            tmax_f  tmin_f  psum_in\n",
              "datetime                           \n",
              "2019-08-31    88.4    46.5     0.87\n",
              "2019-09-30    85.5    26.7     1.86\n",
              "2019-10-31    67.3     3.3     0.33\n",
              "2019-11-30    53.9     9.0     0.47\n",
              "2019-12-31    53.4    14.6     0.53"
            ]
          },
          "metadata": {
            "tags": []
          },
          "execution_count": 87
        }
      ]
    },
    {
      "cell_type": "code",
      "metadata": {
        "id": "c7tpWI0ILBNc",
        "colab_type": "code",
        "colab": {}
      },
      "source": [
        "output = 'temperature_precip-200113.csv'\n",
        "temperature_precipitation.to_csv(output)"
      ],
      "execution_count": 0,
      "outputs": []
    },
    {
      "cell_type": "markdown",
      "metadata": {
        "id": "ltHGAAFjUwwC",
        "colab_type": "text"
      },
      "source": [
        "output hosted on Google Drive: [temperature_precip-200113.csv](https://drive.google.com/open?id=1MOiwMAOFIEf5Dso1PoV0l3TCbwXUW9E8)"
      ]
    },
    {
      "cell_type": "markdown",
      "metadata": {
        "id": "xA17AjOMP2IK",
        "colab_type": "text"
      },
      "source": [
        "## Visualize"
      ]
    },
    {
      "cell_type": "code",
      "metadata": {
        "id": "19mh9JZRP3LM",
        "colab_type": "code",
        "outputId": "2b22469a-f2a6-4e34-8965-5ef509b7e200",
        "colab": {
          "base_uri": "https://localhost:8080/",
          "height": 298
        }
      },
      "source": [
        "# temperature\n",
        "temperature_precipitation[['tmax_f', 'tmin_f']].plot()"
      ],
      "execution_count": 0,
      "outputs": [
        {
          "output_type": "execute_result",
          "data": {
            "text/plain": [
              "<matplotlib.axes._subplots.AxesSubplot at 0x7f9d50798c50>"
            ]
          },
          "metadata": {
            "tags": []
          },
          "execution_count": 92
        },
        {
          "output_type": "display_data",
          "data": {
            "image/png": "[encoded data removed]",
            "text/plain": [
              "<Figure size 432x288 with 1 Axes>"
            ]
          },
          "metadata": {
            "tags": []
          }
        }
      ]
    },
    {
      "cell_type": "code",
      "metadata": {
        "id": "jChHr9YwQV6C",
        "colab_type": "code",
        "outputId": "c0e73788-9f9b-449f-da60-e71eae6f23b5",
        "colab": {
          "base_uri": "https://localhost:8080/",
          "height": 296
        }
      },
      "source": [
        "# precipitation\n",
        "temperature_precipitation[['psum_in']].plot()"
      ],
      "execution_count": 0,
      "outputs": [
        {
          "output_type": "execute_result",
          "data": {
            "text/plain": [
              "<matplotlib.axes._subplots.AxesSubplot at 0x7f9d50910ef0>"
            ]
          },
          "metadata": {
            "tags": []
          },
          "execution_count": 94
        },
        {
          "output_type": "display_data",
          "data": {
            "image/png": "[encoded data removed]",
            "text/plain": [
              "<Figure size 432x288 with 1 Axes>"
            ]
          },
          "metadata": {
            "tags": []
          }
        }
      ]
    }
  ]
}