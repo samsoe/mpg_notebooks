{
  "nbformat": 4,
  "nbformat_minor": 0,
  "metadata": {
    "colab": {
      "name": "gridVeg_habitat_type-wrangle.ipynb",
      "provenance": [],
      "collapsed_sections": [],
      "toc_visible": true,
      "include_colab_link": true
    },
    "language_info": {
      "codemirror_mode": "r",
      "file_extension": ".r",
      "mimetype": "text/x-r-source",
      "name": "R",
      "pygments_lexer": "r",
      "version": "3.3.1"
    },
    "kernelspec": {
      "display_name": "R",
      "language": "R",
      "name": "ir"
    },
    "accelerator": "GPU"
  },
  "cells": [
    {
      "cell_type": "markdown",
      "metadata": {
        "id": "view-in-github",
        "colab_type": "text"
      },
      "source": [
        "<a href=\"https://colab.research.google.com/github/samsoe/mpg_notebooks/blob/master/gridVeg_habitat_type_wrangle.ipynb\" target=\"_parent\"><img src=\"https://colab.research.google.com/assets/colab-badge.svg\" alt=\"Open In Colab\"/></a>"
      ]
    },
    {
      "cell_type": "markdown",
      "metadata": {
        "id": "BhOI1uU2Koum",
        "colab_type": "text"
      },
      "source": [
        "# Tools"
      ]
    },
    {
      "cell_type": "code",
      "metadata": {
        "id": "VxYkYhQTKouo",
        "colab_type": "code",
        "colab": {}
      },
      "source": [
        "library(tidyverse)"
      ],
      "execution_count": 0,
      "outputs": []
    },
    {
      "cell_type": "markdown",
      "metadata": {
        "id": "vI-IqFMmd6Ay",
        "colab_type": "text"
      },
      "source": [
        "# Source"
      ]
    },
    {
      "cell_type": "code",
      "metadata": {
        "id": "ihI70_BPKouq",
        "colab_type": "code",
        "outputId": "b482a06f-766c-48f4-b26e-064bab696c29",
        "colab": {
          "base_uri": "https://localhost:8080/",
          "height": 136
        }
      },
      "source": [
        "# 2020-05-07_gridVeg_survey_grid_point_metadata.csv\n",
        "src = \"https://drive.google.com/uc?id=1f7IZVTEGfs561suD5sGWRRsJtUdwcCEd\"\n",
        "df = read_csv(src)"
      ],
      "execution_count": 3,
      "outputs": [
        {
          "output_type": "stream",
          "text": [
            "Parsed with column specification:\n",
            "cols(\n",
            "  grid_point = \u001b[32mcol_double()\u001b[39m,\n",
            "  cover_type_2016_gridVeg = \u001b[31mcol_character()\u001b[39m,\n",
            "  habitat_type_2016_gridVeg = \u001b[31mcol_character()\u001b[39m\n",
            ")\n",
            "\n"
          ],
          "name": "stderr"
        }
      ]
    },
    {
      "cell_type": "code",
      "metadata": {
        "id": "jg6HCyhNd-W7",
        "colab_type": "code",
        "colab": {
          "base_uri": "https://localhost:8080/",
          "height": 34
        },
        "outputId": "b10c2942-8af7-4d34-94c2-397c2862d0a4"
      },
      "source": [
        "dim(df)"
      ],
      "execution_count": 4,
      "outputs": [
        {
          "output_type": "display_data",
          "data": {
            "text/plain": [
              "[1] 571   3"
            ],
            "text/latex": "\\begin{enumerate*}\n\\item 571\n\\item 3\n\\end{enumerate*}\n",
            "text/markdown": "1. 571\n2. 3\n\n\n",
            "text/html": [
              "<style>\n",
              ".list-inline {list-style: none; margin:0; padding: 0}\n",
              ".list-inline>li {display: inline-block}\n",
              ".list-inline>li:not(:last-child)::after {content: \"\\00b7\"; padding: 0 .5ex}\n",
              "</style>\n",
              "<ol class=list-inline><li>571</li><li>3</li></ol>\n"
            ]
          },
          "metadata": {
            "tags": []
          }
        }
      ]
    },
    {
      "cell_type": "code",
      "metadata": {
        "id": "_MtZzv9HeNZN",
        "colab_type": "code",
        "colab": {
          "base_uri": "https://localhost:8080/",
          "height": 187
        },
        "outputId": "2aecc6e3-4774-4803-8b40-de21e577d88f"
      },
      "source": [
        "str(df)"
      ],
      "execution_count": 8,
      "outputs": [
        {
          "output_type": "stream",
          "text": [
            "tibble [571 × 3] (S3: spec_tbl_df/tbl_df/tbl/data.frame)\n",
            " $ grid_point               : num [1:571] 1 2 3 4 5 6 7 8 9 10 ...\n",
            " $ cover_type_2016_gridVeg  : chr [1:571] \"woodland/forest\" \"non-irrigated grasslands\" \"shrubland\" \"shrubland\" ...\n",
            " $ habitat_type_2016_gridVeg: chr [1:571] \"PSEMEN/PHYMAL PHYMAL HT\" \"PSESPI/POASEC\" \"PURTRI/PSESPI\" \"PURTRI/PSESPI\" ...\n",
            " - attr(*, \"spec\")=\n",
            "  .. cols(\n",
            "  ..   grid_point = \u001b[32mcol_double()\u001b[39m,\n",
            "  ..   cover_type_2016_gridVeg = \u001b[31mcol_character()\u001b[39m,\n",
            "  ..   habitat_type_2016_gridVeg = \u001b[31mcol_character()\u001b[39m\n",
            "  .. )\n"
          ],
          "name": "stdout"
        }
      ]
    },
    {
      "cell_type": "markdown",
      "metadata": {
        "id": "kxZdb9kieUiW",
        "colab_type": "text"
      },
      "source": [
        "# Explore"
      ]
    },
    {
      "cell_type": "markdown",
      "metadata": {
        "id": "0rCr6oQUeX2L",
        "colab_type": "text"
      },
      "source": [
        "## grid_point"
      ]
    },
    {
      "cell_type": "code",
      "metadata": {
        "id": "uIVHm9G4eV8R",
        "colab_type": "code",
        "colab": {
          "base_uri": "https://localhost:8080/",
          "height": 170
        },
        "outputId": "a33211f2-2758-4b34-e1b3-cad3f738a308"
      },
      "source": [
        "sort(unique(df$grid_point))"
      ],
      "execution_count": 10,
      "outputs": [
        {
          "output_type": "display_data",
          "data": {
            "text/plain": [
              "  [1]   1   2   3   4   5   6   7   8   9  10  11  12  13  14  15  16  17  18\n",
              " [19]  19  20  21  22  23  24  25  26  27  28  29  30  31  32  33  34  35  36\n",
              " [37]  37  38  39  40  41  42  43  44  45  46  47  48  49  50  51  52  53  54\n",
              " [55]  55  56  57  58  59  60  61  62  63  64  65  66  67  68  69  70  71  72\n",
              " [73]  73  74  75  76  77  78  79  80  81  82  83  84  85  86  87  88  89  90\n",
              " [91]  91  92  93  94  95  96  97  98  99 100 101 102 103 104 105 106 107 108\n",
              "[109] 109 110 111 112 113 114 115 116 117 118 119 120 121 122 123 124 125 126\n",
              "[127] 127 128 129 130 131 132 133 134 135 136 137 138 139 140 141 142 143 144\n",
              "[145] 145 146 147 148 149 150 151 152 153 154 155 156 157 158 159 160 161 162\n",
              "[163] 163 164 165 166 167 168 169 170 171 172 173 174 175 176 177 178 179 180\n",
              "[181] 181 182 183 184 185 186 187 188 189 190 191 192 193 194 195 196 197 198\n",
              "[199] 199 200 201 202 203 204 205 206 207 208 209 210 211 212 213 214 215 216\n",
              "[217] 217 218 219 220 221 222 223 224 225 226 227 228 229 230 231 232 233 234\n",
              "[235] 235 236 237 238 239 240 241 242 243 244 245 246 247 248 249 250 251 252\n",
              "[253] 253 254 255 256 257 258 259 260 261 262 263 264 265 266 267 268 269 270\n",
              "[271] 271 272 273 274 275 276 277 278 279 280 281 282 283 284 285 286 287 288\n",
              "[289] 289 290 291 292 293 294 295 296 297 298 299 300 301 302 303 304 305 306\n",
              "[307] 307 308 309 310 311 312 313 314 315 316 317 318 319 320 321 322 323 324\n",
              "[325] 325 326 327 328 329 330 331 332 333 334 335 336 337 338 339 340 341 342\n",
              "[343] 343 344 345 346 347 348 349 350 351 352 353 354 355 356 357 358 359 360\n",
              "[361] 361 362 363 364 365 366 367 368 369 370 371 372 373 374 375 376 377 378\n",
              "[379] 379 380 381 382 383 384 385 386 387 388 389 390 391 392 393 394 395 396\n",
              "[397] 397 398 399 400 401 402 403 404 405 406 407 408 409 410 411 412 413 414\n",
              "[415] 415 416 417 418 419 420 421 422 423 424 425 426 427 428 429 430 431 432\n",
              "[433] 433 434 435 436 437 438 439 440 441 442 443 444 445 446 447 448 449 450\n",
              "[451] 451 452 453 454 455 456 457 458 459 460 461 462 463 464 465 466 467 468\n",
              "[469] 469 470 471 472 473 474 475 476 477 478 479 480 481 482 483 484 485 486\n",
              "[487] 487 488 489 490 491 492 493 494 495 496 497 499 500 501 503 504 505 506\n",
              "[505] 507 508 509 510 511 512 513 514 515 516 517 518 519 520 521 522 523 524\n",
              "[523] 525 526 527 528 529 530 531 532 533 534 535 536 538 539 540 541 542 543\n",
              "[541] 544 545 546 547 548 549 550 552 553 554 555 556 557 558 559 560 561 562\n",
              "[559] 563 564 565 566 567 568 569 570 571 572 573 574 575"
            ],
            "text/latex": "\\begin{enumerate*}\n\\item 1\n\\item 2\n\\item 3\n\\item 4\n\\item 5\n\\item 6\n\\item 7\n\\item 8\n\\item 9\n\\item 10\n\\item 11\n\\item 12\n\\item 13\n\\item 14\n\\item 15\n\\item 16\n\\item 17\n\\item 18\n\\item 19\n\\item 20\n\\item 21\n\\item 22\n\\item 23\n\\item 24\n\\item 25\n\\item 26\n\\item 27\n\\item 28\n\\item 29\n\\item 30\n\\item 31\n\\item 32\n\\item 33\n\\item 34\n\\item 35\n\\item 36\n\\item 37\n\\item 38\n\\item 39\n\\item 40\n\\item 41\n\\item 42\n\\item 43\n\\item 44\n\\item 45\n\\item 46\n\\item 47\n\\item 48\n\\item 49\n\\item 50\n\\item 51\n\\item 52\n\\item 53\n\\item 54\n\\item 55\n\\item 56\n\\item 57\n\\item 58\n\\item 59\n\\item 60\n\\item 61\n\\item 62\n\\item 63\n\\item 64\n\\item 65\n\\item 66\n\\item 67\n\\item 68\n\\item 69\n\\item 70\n\\item 71\n\\item 72\n\\item 73\n\\item 74\n\\item 75\n\\item 76\n\\item 77\n\\item 78\n\\item 79\n\\item 80\n\\item 81\n\\item 82\n\\item 83\n\\item 84\n\\item 85\n\\item 86\n\\item 87\n\\item 88\n\\item 89\n\\item 90\n\\item 91\n\\item 92\n\\item 93\n\\item 94\n\\item 95\n\\item 96\n\\item 97\n\\item 98\n\\item 99\n\\item 100\n\\item 101\n\\item 102\n\\item 103\n\\item 104\n\\item 105\n\\item 106\n\\item 107\n\\item 108\n\\item 109\n\\item 110\n\\item 111\n\\item 112\n\\item 113\n\\item 114\n\\item 115\n\\item 116\n\\item 117\n\\item 118\n\\item 119\n\\item 120\n\\item 121\n\\item 122\n\\item 123\n\\item 124\n\\item 125\n\\item 126\n\\item 127\n\\item 128\n\\item 129\n\\item 130\n\\item 131\n\\item 132\n\\item 133\n\\item 134\n\\item 135\n\\item 136\n\\item 137\n\\item 138\n\\item 139\n\\item 140\n\\item 141\n\\item 142\n\\item 143\n\\item 144\n\\item 145\n\\item 146\n\\item 147\n\\item 148\n\\item 149\n\\item 150\n\\item 151\n\\item 152\n\\item 153\n\\item 154\n\\item 155\n\\item 156\n\\item 157\n\\item 158\n\\item 159\n\\item 160\n\\item 161\n\\item 162\n\\item 163\n\\item 164\n\\item 165\n\\item 166\n\\item 167\n\\item 168\n\\item 169\n\\item 170\n\\item 171\n\\item 172\n\\item 173\n\\item 174\n\\item 175\n\\item 176\n\\item 177\n\\item 178\n\\item 179\n\\item 180\n\\item 181\n\\item 182\n\\item 183\n\\item 184\n\\item 185\n\\item 186\n\\item 187\n\\item 188\n\\item 189\n\\item 190\n\\item 191\n\\item 192\n\\item 193\n\\item 194\n\\item 195\n\\item 196\n\\item 197\n\\item 198\n\\item 199\n\\item 200\n\\item ⋯\n\\item 372\n\\item 373\n\\item 374\n\\item 375\n\\item 376\n\\item 377\n\\item 378\n\\item 379\n\\item 380\n\\item 381\n\\item 382\n\\item 383\n\\item 384\n\\item 385\n\\item 386\n\\item 387\n\\item 388\n\\item 389\n\\item 390\n\\item 391\n\\item 392\n\\item 393\n\\item 394\n\\item 395\n\\item 396\n\\item 397\n\\item 398\n\\item 399\n\\item 400\n\\item 401\n\\item 402\n\\item 403\n\\item 404\n\\item 405\n\\item 406\n\\item 407\n\\item 408\n\\item 409\n\\item 410\n\\item 411\n\\item 412\n\\item 413\n\\item 414\n\\item 415\n\\item 416\n\\item 417\n\\item 418\n\\item 419\n\\item 420\n\\item 421\n\\item 422\n\\item 423\n\\item 424\n\\item 425\n\\item 426\n\\item 427\n\\item 428\n\\item 429\n\\item 430\n\\item 431\n\\item 432\n\\item 433\n\\item 434\n\\item 435\n\\item 436\n\\item 437\n\\item 438\n\\item 439\n\\item 440\n\\item 441\n\\item 442\n\\item 443\n\\item 444\n\\item 445\n\\item 446\n\\item 447\n\\item 448\n\\item 449\n\\item 450\n\\item 451\n\\item 452\n\\item 453\n\\item 454\n\\item 455\n\\item 456\n\\item 457\n\\item 458\n\\item 459\n\\item 460\n\\item 461\n\\item 462\n\\item 463\n\\item 464\n\\item 465\n\\item 466\n\\item 467\n\\item 468\n\\item 469\n\\item 470\n\\item 471\n\\item 472\n\\item 473\n\\item 474\n\\item 475\n\\item 476\n\\item 477\n\\item 478\n\\item 479\n\\item 480\n\\item 481\n\\item 482\n\\item 483\n\\item 484\n\\item 485\n\\item 486\n\\item 487\n\\item 488\n\\item 489\n\\item 490\n\\item 491\n\\item 492\n\\item 493\n\\item 494\n\\item 495\n\\item 496\n\\item 497\n\\item 499\n\\item 500\n\\item 501\n\\item 503\n\\item 504\n\\item 505\n\\item 506\n\\item 507\n\\item 508\n\\item 509\n\\item 510\n\\item 511\n\\item 512\n\\item 513\n\\item 514\n\\item 515\n\\item 516\n\\item 517\n\\item 518\n\\item 519\n\\item 520\n\\item 521\n\\item 522\n\\item 523\n\\item 524\n\\item 525\n\\item 526\n\\item 527\n\\item 528\n\\item 529\n\\item 530\n\\item 531\n\\item 532\n\\item 533\n\\item 534\n\\item 535\n\\item 536\n\\item 538\n\\item 539\n\\item 540\n\\item 541\n\\item 542\n\\item 543\n\\item 544\n\\item 545\n\\item 546\n\\item 547\n\\item 548\n\\item 549\n\\item 550\n\\item 552\n\\item 553\n\\item 554\n\\item 555\n\\item 556\n\\item 557\n\\item 558\n\\item 559\n\\item 560\n\\item 561\n\\item 562\n\\item 563\n\\item 564\n\\item 565\n\\item 566\n\\item 567\n\\item 568\n\\item 569\n\\item 570\n\\item 571\n\\item 572\n\\item 573\n\\item 574\n\\item 575\n\\end{enumerate*}\n",
            "text/markdown": "1. 1\n2. 2\n3. 3\n4. 4\n5. 5\n6. 6\n7. 7\n8. 8\n9. 9\n10. 10\n11. 11\n12. 12\n13. 13\n14. 14\n15. 15\n16. 16\n17. 17\n18. 18\n19. 19\n20. 20\n21. 21\n22. 22\n23. 23\n24. 24\n25. 25\n26. 26\n27. 27\n28. 28\n29. 29\n30. 30\n31. 31\n32. 32\n33. 33\n34. 34\n35. 35\n36. 36\n37. 37\n38. 38\n39. 39\n40. 40\n41. 41\n42. 42\n43. 43\n44. 44\n45. 45\n46. 46\n47. 47\n48. 48\n49. 49\n50. 50\n51. 51\n52. 52\n53. 53\n54. 54\n55. 55\n56. 56\n57. 57\n58. 58\n59. 59\n60. 60\n61. 61\n62. 62\n63. 63\n64. 64\n65. 65\n66. 66\n67. 67\n68. 68\n69. 69\n70. 70\n71. 71\n72. 72\n73. 73\n74. 74\n75. 75\n76. 76\n77. 77\n78. 78\n79. 79\n80. 80\n81. 81\n82. 82\n83. 83\n84. 84\n85. 85\n86. 86\n87. 87\n88. 88\n89. 89\n90. 90\n91. 91\n92. 92\n93. 93\n94. 94\n95. 95\n96. 96\n97. 97\n98. 98\n99. 99\n100. 100\n101. 101\n102. 102\n103. 103\n104. 104\n105. 105\n106. 106\n107. 107\n108. 108\n109. 109\n110. 110\n111. 111\n112. 112\n113. 113\n114. 114\n115. 115\n116. 116\n117. 117\n118. 118\n119. 119\n120. 120\n121. 121\n122. 122\n123. 123\n124. 124\n125. 125\n126. 126\n127. 127\n128. 128\n129. 129\n130. 130\n131. 131\n132. 132\n133. 133\n134. 134\n135. 135\n136. 136\n137. 137\n138. 138\n139. 139\n140. 140\n141. 141\n142. 142\n143. 143\n144. 144\n145. 145\n146. 146\n147. 147\n148. 148\n149. 149\n150. 150\n151. 151\n152. 152\n153. 153\n154. 154\n155. 155\n156. 156\n157. 157\n158. 158\n159. 159\n160. 160\n161. 161\n162. 162\n163. 163\n164. 164\n165. 165\n166. 166\n167. 167\n168. 168\n169. 169\n170. 170\n171. 171\n172. 172\n173. 173\n174. 174\n175. 175\n176. 176\n177. 177\n178. 178\n179. 179\n180. 180\n181. 181\n182. 182\n183. 183\n184. 184\n185. 185\n186. 186\n187. 187\n188. 188\n189. 189\n190. 190\n191. 191\n192. 192\n193. 193\n194. 194\n195. 195\n196. 196\n197. 197\n198. 198\n199. 199\n200. 200\n201. ⋯\n202. 372\n203. 373\n204. 374\n205. 375\n206. 376\n207. 377\n208. 378\n209. 379\n210. 380\n211. 381\n212. 382\n213. 383\n214. 384\n215. 385\n216. 386\n217. 387\n218. 388\n219. 389\n220. 390\n221. 391\n222. 392\n223. 393\n224. 394\n225. 395\n226. 396\n227. 397\n228. 398\n229. 399\n230. 400\n231. 401\n232. 402\n233. 403\n234. 404\n235. 405\n236. 406\n237. 407\n238. 408\n239. 409\n240. 410\n241. 411\n242. 412\n243. 413\n244. 414\n245. 415\n246. 416\n247. 417\n248. 418\n249. 419\n250. 420\n251. 421\n252. 422\n253. 423\n254. 424\n255. 425\n256. 426\n257. 427\n258. 428\n259. 429\n260. 430\n261. 431\n262. 432\n263. 433\n264. 434\n265. 435\n266. 436\n267. 437\n268. 438\n269. 439\n270. 440\n271. 441\n272. 442\n273. 443\n274. 444\n275. 445\n276. 446\n277. 447\n278. 448\n279. 449\n280. 450\n281. 451\n282. 452\n283. 453\n284. 454\n285. 455\n286. 456\n287. 457\n288. 458\n289. 459\n290. 460\n291. 461\n292. 462\n293. 463\n294. 464\n295. 465\n296. 466\n297. 467\n298. 468\n299. 469\n300. 470\n301. 471\n302. 472\n303. 473\n304. 474\n305. 475\n306. 476\n307. 477\n308. 478\n309. 479\n310. 480\n311. 481\n312. 482\n313. 483\n314. 484\n315. 485\n316. 486\n317. 487\n318. 488\n319. 489\n320. 490\n321. 491\n322. 492\n323. 493\n324. 494\n325. 495\n326. 496\n327. 497\n328. 499\n329. 500\n330. 501\n331. 503\n332. 504\n333. 505\n334. 506\n335. 507\n336. 508\n337. 509\n338. 510\n339. 511\n340. 512\n341. 513\n342. 514\n343. 515\n344. 516\n345. 517\n346. 518\n347. 519\n348. 520\n349. 521\n350. 522\n351. 523\n352. 524\n353. 525\n354. 526\n355. 527\n356. 528\n357. 529\n358. 530\n359. 531\n360. 532\n361. 533\n362. 534\n363. 535\n364. 536\n365. 538\n366. 539\n367. 540\n368. 541\n369. 542\n370. 543\n371. 544\n372. 545\n373. 546\n374. 547\n375. 548\n376. 549\n377. 550\n378. 552\n379. 553\n380. 554\n381. 555\n382. 556\n383. 557\n384. 558\n385. 559\n386. 560\n387. 561\n388. 562\n389. 563\n390. 564\n391. 565\n392. 566\n393. 567\n394. 568\n395. 569\n396. 570\n397. 571\n398. 572\n399. 573\n400. 574\n401. 575\n\n\n",
            "text/html": [
              "<style>\n",
              ".list-inline {list-style: none; margin:0; padding: 0}\n",
              ".list-inline>li {display: inline-block}\n",
              ".list-inline>li:not(:last-child)::after {content: \"\\00b7\"; padding: 0 .5ex}\n",
              "</style>\n",
              "<ol class=list-inline><li>1</li><li>2</li><li>3</li><li>4</li><li>5</li><li>6</li><li>7</li><li>8</li><li>9</li><li>10</li><li>11</li><li>12</li><li>13</li><li>14</li><li>15</li><li>16</li><li>17</li><li>18</li><li>19</li><li>20</li><li>21</li><li>22</li><li>23</li><li>24</li><li>25</li><li>26</li><li>27</li><li>28</li><li>29</li><li>30</li><li>31</li><li>32</li><li>33</li><li>34</li><li>35</li><li>36</li><li>37</li><li>38</li><li>39</li><li>40</li><li>41</li><li>42</li><li>43</li><li>44</li><li>45</li><li>46</li><li>47</li><li>48</li><li>49</li><li>50</li><li>51</li><li>52</li><li>53</li><li>54</li><li>55</li><li>56</li><li>57</li><li>58</li><li>59</li><li>60</li><li>61</li><li>62</li><li>63</li><li>64</li><li>65</li><li>66</li><li>67</li><li>68</li><li>69</li><li>70</li><li>71</li><li>72</li><li>73</li><li>74</li><li>75</li><li>76</li><li>77</li><li>78</li><li>79</li><li>80</li><li>81</li><li>82</li><li>83</li><li>84</li><li>85</li><li>86</li><li>87</li><li>88</li><li>89</li><li>90</li><li>91</li><li>92</li><li>93</li><li>94</li><li>95</li><li>96</li><li>97</li><li>98</li><li>99</li><li>100</li><li>101</li><li>102</li><li>103</li><li>104</li><li>105</li><li>106</li><li>107</li><li>108</li><li>109</li><li>110</li><li>111</li><li>112</li><li>113</li><li>114</li><li>115</li><li>116</li><li>117</li><li>118</li><li>119</li><li>120</li><li>121</li><li>122</li><li>123</li><li>124</li><li>125</li><li>126</li><li>127</li><li>128</li><li>129</li><li>130</li><li>131</li><li>132</li><li>133</li><li>134</li><li>135</li><li>136</li><li>137</li><li>138</li><li>139</li><li>140</li><li>141</li><li>142</li><li>143</li><li>144</li><li>145</li><li>146</li><li>147</li><li>148</li><li>149</li><li>150</li><li>151</li><li>152</li><li>153</li><li>154</li><li>155</li><li>156</li><li>157</li><li>158</li><li>159</li><li>160</li><li>161</li><li>162</li><li>163</li><li>164</li><li>165</li><li>166</li><li>167</li><li>168</li><li>169</li><li>170</li><li>171</li><li>172</li><li>173</li><li>174</li><li>175</li><li>176</li><li>177</li><li>178</li><li>179</li><li>180</li><li>181</li><li>182</li><li>183</li><li>184</li><li>185</li><li>186</li><li>187</li><li>188</li><li>189</li><li>190</li><li>191</li><li>192</li><li>193</li><li>194</li><li>195</li><li>196</li><li>197</li><li>198</li><li>199</li><li>200</li><li>⋯</li><li>372</li><li>373</li><li>374</li><li>375</li><li>376</li><li>377</li><li>378</li><li>379</li><li>380</li><li>381</li><li>382</li><li>383</li><li>384</li><li>385</li><li>386</li><li>387</li><li>388</li><li>389</li><li>390</li><li>391</li><li>392</li><li>393</li><li>394</li><li>395</li><li>396</li><li>397</li><li>398</li><li>399</li><li>400</li><li>401</li><li>402</li><li>403</li><li>404</li><li>405</li><li>406</li><li>407</li><li>408</li><li>409</li><li>410</li><li>411</li><li>412</li><li>413</li><li>414</li><li>415</li><li>416</li><li>417</li><li>418</li><li>419</li><li>420</li><li>421</li><li>422</li><li>423</li><li>424</li><li>425</li><li>426</li><li>427</li><li>428</li><li>429</li><li>430</li><li>431</li><li>432</li><li>433</li><li>434</li><li>435</li><li>436</li><li>437</li><li>438</li><li>439</li><li>440</li><li>441</li><li>442</li><li>443</li><li>444</li><li>445</li><li>446</li><li>447</li><li>448</li><li>449</li><li>450</li><li>451</li><li>452</li><li>453</li><li>454</li><li>455</li><li>456</li><li>457</li><li>458</li><li>459</li><li>460</li><li>461</li><li>462</li><li>463</li><li>464</li><li>465</li><li>466</li><li>467</li><li>468</li><li>469</li><li>470</li><li>471</li><li>472</li><li>473</li><li>474</li><li>475</li><li>476</li><li>477</li><li>478</li><li>479</li><li>480</li><li>481</li><li>482</li><li>483</li><li>484</li><li>485</li><li>486</li><li>487</li><li>488</li><li>489</li><li>490</li><li>491</li><li>492</li><li>493</li><li>494</li><li>495</li><li>496</li><li>497</li><li>499</li><li>500</li><li>501</li><li>503</li><li>504</li><li>505</li><li>506</li><li>507</li><li>508</li><li>509</li><li>510</li><li>511</li><li>512</li><li>513</li><li>514</li><li>515</li><li>516</li><li>517</li><li>518</li><li>519</li><li>520</li><li>521</li><li>522</li><li>523</li><li>524</li><li>525</li><li>526</li><li>527</li><li>528</li><li>529</li><li>530</li><li>531</li><li>532</li><li>533</li><li>534</li><li>535</li><li>536</li><li>538</li><li>539</li><li>540</li><li>541</li><li>542</li><li>543</li><li>544</li><li>545</li><li>546</li><li>547</li><li>548</li><li>549</li><li>550</li><li>552</li><li>553</li><li>554</li><li>555</li><li>556</li><li>557</li><li>558</li><li>559</li><li>560</li><li>561</li><li>562</li><li>563</li><li>564</li><li>565</li><li>566</li><li>567</li><li>568</li><li>569</li><li>570</li><li>571</li><li>572</li><li>573</li><li>574</li><li>575</li></ol>\n"
            ]
          },
          "metadata": {
            "tags": []
          }
        }
      ]
    },
    {
      "cell_type": "markdown",
      "metadata": {
        "id": "lXrNjtwUeweL",
        "colab_type": "text"
      },
      "source": [
        "## cover_type_2016_gridVeg"
      ]
    },
    {
      "cell_type": "code",
      "metadata": {
        "id": "ndMCvzv3f5-k",
        "colab_type": "code",
        "colab": {
          "base_uri": "https://localhost:8080/",
          "height": 225
        },
        "outputId": "ebd484b4-52f0-4969-b72e-82f4e5fc861e"
      },
      "source": [
        "df %>%\n",
        "  count(cover_type_2016_gridVeg)"
      ],
      "execution_count": 19,
      "outputs": [
        {
          "output_type": "display_data",
          "data": {
            "text/plain": [
              "  cover_type_2016_gridVeg       n  \n",
              "1 irrigated field                23\n",
              "2 non-irrigated grasslands       86\n",
              "3 non-irrigated planted grasses  89\n",
              "4 riparian                       27\n",
              "5 shrubland                     164\n",
              "6 woodland/forest               147\n",
              "7 woody draw                     35"
            ],
            "text/latex": "A tibble: 7 × 2\n\\begin{tabular}{ll}\n cover\\_type\\_2016\\_gridVeg & n\\\\\n <chr> & <int>\\\\\n\\hline\n\t irrigated field               &  23\\\\\n\t non-irrigated grasslands      &  86\\\\\n\t non-irrigated planted grasses &  89\\\\\n\t riparian                      &  27\\\\\n\t shrubland                     & 164\\\\\n\t woodland/forest               & 147\\\\\n\t woody draw                    &  35\\\\\n\\end{tabular}\n",
            "text/markdown": "\nA tibble: 7 × 2\n\n| cover_type_2016_gridVeg &lt;chr&gt; | n &lt;int&gt; |\n|---|---|\n| irrigated field               |  23 |\n| non-irrigated grasslands      |  86 |\n| non-irrigated planted grasses |  89 |\n| riparian                      |  27 |\n| shrubland                     | 164 |\n| woodland/forest               | 147 |\n| woody draw                    |  35 |\n\n",
            "text/html": [
              "<table>\n",
              "<caption>A tibble: 7 × 2</caption>\n",
              "<thead>\n",
              "\t<tr><th scope=col>cover_type_2016_gridVeg</th><th scope=col>n</th></tr>\n",
              "\t<tr><th scope=col>&lt;chr&gt;</th><th scope=col>&lt;int&gt;</th></tr>\n",
              "</thead>\n",
              "<tbody>\n",
              "\t<tr><td>irrigated field              </td><td> 23</td></tr>\n",
              "\t<tr><td>non-irrigated grasslands     </td><td> 86</td></tr>\n",
              "\t<tr><td>non-irrigated planted grasses</td><td> 89</td></tr>\n",
              "\t<tr><td>riparian                     </td><td> 27</td></tr>\n",
              "\t<tr><td>shrubland                    </td><td>164</td></tr>\n",
              "\t<tr><td>woodland/forest              </td><td>147</td></tr>\n",
              "\t<tr><td>woody draw                   </td><td> 35</td></tr>\n",
              "</tbody>\n",
              "</table>\n"
            ]
          },
          "metadata": {
            "tags": []
          }
        }
      ]
    },
    {
      "cell_type": "code",
      "metadata": {
        "id": "dMdfYWyzgFBb",
        "colab_type": "code",
        "colab": {
          "base_uri": "https://localhost:8080/",
          "height": 34
        },
        "outputId": "59a59905-8bf5-4c44-85c1-85bdc295bb82"
      },
      "source": [
        "# count number of classes\n",
        "nlevels(as.factor(df$cover_type_2016_gridVeg))"
      ],
      "execution_count": 20,
      "outputs": [
        {
          "output_type": "display_data",
          "data": {
            "text/plain": [
              "[1] 7"
            ],
            "text/latex": "7",
            "text/markdown": "7",
            "text/html": [
              "7"
            ]
          },
          "metadata": {
            "tags": []
          }
        }
      ]
    },
    {
      "cell_type": "markdown",
      "metadata": {
        "id": "slz5FzACfMHo",
        "colab_type": "text"
      },
      "source": [
        "## habitat_type_2016_gridVeg"
      ]
    },
    {
      "cell_type": "code",
      "metadata": {
        "id": "F0JZfkIpfRoA",
        "colab_type": "code",
        "colab": {
          "base_uri": "https://localhost:8080/",
          "height": 939
        },
        "outputId": "4e5c9874-bc7d-44c3-a55e-3885d00ecb25"
      },
      "source": [
        "df %>%\n",
        "  count(habitat_type_2016_gridVeg)"
      ],
      "execution_count": 21,
      "outputs": [
        {
          "output_type": "display_data",
          "data": {
            "text/plain": [
              "   habitat_type_2016_gridVeg              n  \n",
              "1  ABIGRA                                   1\n",
              "2  ABILAS/VACGLO                            1\n",
              "3  ABILAS/VACMEM                            1\n",
              "4  ARTTRI/FESCAM                           10\n",
              "5  ARTTRI/FESIDA                           14\n",
              "6  ARTTRI/PSESPI                           41\n",
              "7  CRADOU/PRUVIR                            1\n",
              "8  FESCAM/FESIDA                            3\n",
              "9  FESCAM/PSESPI                            4\n",
              "10 FESIDA/PSESPI                           20\n",
              "11 HESCOM/BOUGRA                            5\n",
              "12 Indeterminate                          128\n",
              "13 PINPON/FESIDA - FESCAM phase             2\n",
              "14 PINPON/FESIDA - FESIDA                   2\n",
              "15 PINPON/PRUVIR                            1\n",
              "16 PINPON/PSESPI                            8\n",
              "17 PINPON/PURTRI-FESIDA                     1\n",
              "18 PINPON/PURTRI-PSESPI phase               5\n",
              "19 PINPON/SYMALB-MAHREP                     2\n",
              "20 PINPON/SYMALB-SYMALB                     2\n",
              "21 POPBAL HT                                8\n",
              "22 POPTRE HT                               12\n",
              "23 PRUVIR CT                               13\n",
              "24 PSEMEN                                   4\n",
              "25 PSEMEN/CALRUB                            4\n",
              "26 PSEMEN/CARGEY                            8\n",
              "27 PSEMEN/CORSER HT                         1\n",
              "28 PSEMEN/PHYMAL                           57\n",
              "29 PSEMEN/PHYMAL CALRUB HT                 30\n",
              "30 PSEMEN/PHYMAL PHYMAL HT                 13\n",
              "31 PSEMEN/PSESPI                            9\n",
              "32 PSEMEN/VACMEM-VACMEM                     7\n",
              "33 PSESPI/POASEC                           38\n",
              "34 PURTRI/FESCAM                            2\n",
              "35 PURTRI/FESIDA                            4\n",
              "36 PURTRI/PSESPI                           94\n",
              "37 Riparian/Wetland                        10\n",
              "38 Riparian/Wetland\\nPINPON/SYMALB-SYMALB   1\n",
              "39 Salix  CT                                1\n",
              "40 SYMALB CT                                2\n",
              "41 NA                                       1"
            ],
            "text/latex": "A tibble: 41 × 2\n\\begin{tabular}{ll}\n habitat\\_type\\_2016\\_gridVeg & n\\\\\n <chr> & <int>\\\\\n\\hline\n\t ABIGRA                                 &   1\\\\\n\t ABILAS/VACGLO                          &   1\\\\\n\t ABILAS/VACMEM                          &   1\\\\\n\t ARTTRI/FESCAM                          &  10\\\\\n\t ARTTRI/FESIDA                          &  14\\\\\n\t ARTTRI/PSESPI                          &  41\\\\\n\t CRADOU/PRUVIR                          &   1\\\\\n\t FESCAM/FESIDA                          &   3\\\\\n\t FESCAM/PSESPI                          &   4\\\\\n\t FESIDA/PSESPI                          &  20\\\\\n\t HESCOM/BOUGRA                          &   5\\\\\n\t Indeterminate                          & 128\\\\\n\t PINPON/FESIDA - FESCAM phase           &   2\\\\\n\t PINPON/FESIDA - FESIDA                 &   2\\\\\n\t PINPON/PRUVIR                          &   1\\\\\n\t PINPON/PSESPI                          &   8\\\\\n\t PINPON/PURTRI-FESIDA                   &   1\\\\\n\t PINPON/PURTRI-PSESPI phase             &   5\\\\\n\t PINPON/SYMALB-MAHREP                   &   2\\\\\n\t PINPON/SYMALB-SYMALB                   &   2\\\\\n\t POPBAL HT                              &   8\\\\\n\t POPTRE HT                              &  12\\\\\n\t PRUVIR CT                              &  13\\\\\n\t PSEMEN                                 &   4\\\\\n\t PSEMEN/CALRUB                          &   4\\\\\n\t PSEMEN/CARGEY                          &   8\\\\\n\t PSEMEN/CORSER HT                       &   1\\\\\n\t PSEMEN/PHYMAL                          &  57\\\\\n\t PSEMEN/PHYMAL CALRUB HT                &  30\\\\\n\t PSEMEN/PHYMAL PHYMAL HT                &  13\\\\\n\t PSEMEN/PSESPI                          &   9\\\\\n\t PSEMEN/VACMEM-VACMEM                   &   7\\\\\n\t PSESPI/POASEC                          &  38\\\\\n\t PURTRI/FESCAM                          &   2\\\\\n\t PURTRI/FESIDA                          &   4\\\\\n\t PURTRI/PSESPI                          &  94\\\\\n\t Riparian/Wetland                       &  10\\\\\n\t Riparian/Wetland\nPINPON/SYMALB-SYMALB &   1\\\\\n\t Salix  CT                              &   1\\\\\n\t SYMALB CT                              &   2\\\\\n\t NA                                     &   1\\\\\n\\end{tabular}\n",
            "text/markdown": "\nA tibble: 41 × 2\n\n| habitat_type_2016_gridVeg &lt;chr&gt; | n &lt;int&gt; |\n|---|---|\n| ABIGRA                                 |   1 |\n| ABILAS/VACGLO                          |   1 |\n| ABILAS/VACMEM                          |   1 |\n| ARTTRI/FESCAM                          |  10 |\n| ARTTRI/FESIDA                          |  14 |\n| ARTTRI/PSESPI                          |  41 |\n| CRADOU/PRUVIR                          |   1 |\n| FESCAM/FESIDA                          |   3 |\n| FESCAM/PSESPI                          |   4 |\n| FESIDA/PSESPI                          |  20 |\n| HESCOM/BOUGRA                          |   5 |\n| Indeterminate                          | 128 |\n| PINPON/FESIDA - FESCAM phase           |   2 |\n| PINPON/FESIDA - FESIDA                 |   2 |\n| PINPON/PRUVIR                          |   1 |\n| PINPON/PSESPI                          |   8 |\n| PINPON/PURTRI-FESIDA                   |   1 |\n| PINPON/PURTRI-PSESPI phase             |   5 |\n| PINPON/SYMALB-MAHREP                   |   2 |\n| PINPON/SYMALB-SYMALB                   |   2 |\n| POPBAL HT                              |   8 |\n| POPTRE HT                              |  12 |\n| PRUVIR CT                              |  13 |\n| PSEMEN                                 |   4 |\n| PSEMEN/CALRUB                          |   4 |\n| PSEMEN/CARGEY                          |   8 |\n| PSEMEN/CORSER HT                       |   1 |\n| PSEMEN/PHYMAL                          |  57 |\n| PSEMEN/PHYMAL CALRUB HT                |  30 |\n| PSEMEN/PHYMAL PHYMAL HT                |  13 |\n| PSEMEN/PSESPI                          |   9 |\n| PSEMEN/VACMEM-VACMEM                   |   7 |\n| PSESPI/POASEC                          |  38 |\n| PURTRI/FESCAM                          |   2 |\n| PURTRI/FESIDA                          |   4 |\n| PURTRI/PSESPI                          |  94 |\n| Riparian/Wetland                       |  10 |\n| Riparian/Wetland\nPINPON/SYMALB-SYMALB |   1 |\n| Salix  CT                              |   1 |\n| SYMALB CT                              |   2 |\n| NA                                     |   1 |\n\n",
            "text/html": [
              "<table>\n",
              "<caption>A tibble: 41 × 2</caption>\n",
              "<thead>\n",
              "\t<tr><th scope=col>habitat_type_2016_gridVeg</th><th scope=col>n</th></tr>\n",
              "\t<tr><th scope=col>&lt;chr&gt;</th><th scope=col>&lt;int&gt;</th></tr>\n",
              "</thead>\n",
              "<tbody>\n",
              "\t<tr><td>ABIGRA                                </td><td>  1</td></tr>\n",
              "\t<tr><td>ABILAS/VACGLO                         </td><td>  1</td></tr>\n",
              "\t<tr><td>ABILAS/VACMEM                         </td><td>  1</td></tr>\n",
              "\t<tr><td>ARTTRI/FESCAM                         </td><td> 10</td></tr>\n",
              "\t<tr><td>ARTTRI/FESIDA                         </td><td> 14</td></tr>\n",
              "\t<tr><td>ARTTRI/PSESPI                         </td><td> 41</td></tr>\n",
              "\t<tr><td>CRADOU/PRUVIR                         </td><td>  1</td></tr>\n",
              "\t<tr><td>FESCAM/FESIDA                         </td><td>  3</td></tr>\n",
              "\t<tr><td>FESCAM/PSESPI                         </td><td>  4</td></tr>\n",
              "\t<tr><td>FESIDA/PSESPI                         </td><td> 20</td></tr>\n",
              "\t<tr><td>HESCOM/BOUGRA                         </td><td>  5</td></tr>\n",
              "\t<tr><td>Indeterminate                         </td><td>128</td></tr>\n",
              "\t<tr><td>PINPON/FESIDA - FESCAM phase          </td><td>  2</td></tr>\n",
              "\t<tr><td>PINPON/FESIDA - FESIDA                </td><td>  2</td></tr>\n",
              "\t<tr><td>PINPON/PRUVIR                         </td><td>  1</td></tr>\n",
              "\t<tr><td>PINPON/PSESPI                         </td><td>  8</td></tr>\n",
              "\t<tr><td>PINPON/PURTRI-FESIDA                  </td><td>  1</td></tr>\n",
              "\t<tr><td>PINPON/PURTRI-PSESPI phase            </td><td>  5</td></tr>\n",
              "\t<tr><td>PINPON/SYMALB-MAHREP                  </td><td>  2</td></tr>\n",
              "\t<tr><td>PINPON/SYMALB-SYMALB                  </td><td>  2</td></tr>\n",
              "\t<tr><td>POPBAL HT                             </td><td>  8</td></tr>\n",
              "\t<tr><td>POPTRE HT                             </td><td> 12</td></tr>\n",
              "\t<tr><td>PRUVIR CT                             </td><td> 13</td></tr>\n",
              "\t<tr><td>PSEMEN                                </td><td>  4</td></tr>\n",
              "\t<tr><td>PSEMEN/CALRUB                         </td><td>  4</td></tr>\n",
              "\t<tr><td>PSEMEN/CARGEY                         </td><td>  8</td></tr>\n",
              "\t<tr><td>PSEMEN/CORSER HT                      </td><td>  1</td></tr>\n",
              "\t<tr><td>PSEMEN/PHYMAL                         </td><td> 57</td></tr>\n",
              "\t<tr><td>PSEMEN/PHYMAL CALRUB HT               </td><td> 30</td></tr>\n",
              "\t<tr><td>PSEMEN/PHYMAL PHYMAL HT               </td><td> 13</td></tr>\n",
              "\t<tr><td>PSEMEN/PSESPI                         </td><td>  9</td></tr>\n",
              "\t<tr><td>PSEMEN/VACMEM-VACMEM                  </td><td>  7</td></tr>\n",
              "\t<tr><td>PSESPI/POASEC                         </td><td> 38</td></tr>\n",
              "\t<tr><td>PURTRI/FESCAM                         </td><td>  2</td></tr>\n",
              "\t<tr><td>PURTRI/FESIDA                         </td><td>  4</td></tr>\n",
              "\t<tr><td>PURTRI/PSESPI                         </td><td> 94</td></tr>\n",
              "\t<tr><td>Riparian/Wetland                      </td><td> 10</td></tr>\n",
              "\t<tr><td>Riparian/Wetland\n",
              "PINPON/SYMALB-SYMALB</td><td>  1</td></tr>\n",
              "\t<tr><td>Salix  CT                             </td><td>  1</td></tr>\n",
              "\t<tr><td>SYMALB CT                             </td><td>  2</td></tr>\n",
              "\t<tr><td>NA                                    </td><td>  1</td></tr>\n",
              "</tbody>\n",
              "</table>\n"
            ]
          },
          "metadata": {
            "tags": []
          }
        }
      ]
    },
    {
      "cell_type": "code",
      "metadata": {
        "id": "i4dJca2hgjEk",
        "colab_type": "code",
        "colab": {
          "base_uri": "https://localhost:8080/",
          "height": 34
        },
        "outputId": "6c5c8d94-99a9-4b1e-ccfd-dd9bae3a57ca"
      },
      "source": [
        "nlevels(as.factor(df$habitat_type_2016_gridVeg))"
      ],
      "execution_count": 22,
      "outputs": [
        {
          "output_type": "display_data",
          "data": {
            "text/plain": [
              "[1] 40"
            ],
            "text/latex": "40",
            "text/markdown": "40",
            "text/html": [
              "40"
            ]
          },
          "metadata": {
            "tags": []
          }
        }
      ]
    },
    {
      "cell_type": "markdown",
      "metadata": {
        "id": "Mn0xVCCKg2Mo",
        "colab_type": "text"
      },
      "source": [
        "# Clean"
      ]
    },
    {
      "cell_type": "code",
      "metadata": {
        "id": "Kybt2dMag2-d",
        "colab_type": "code",
        "colab": {}
      },
      "source": [
        "# no cleaning necessary at present"
      ],
      "execution_count": 0,
      "outputs": []
    }
  ]
}