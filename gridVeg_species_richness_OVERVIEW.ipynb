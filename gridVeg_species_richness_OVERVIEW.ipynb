{
  "nbformat": 4,
  "nbformat_minor": 0,
  "metadata": {
    "colab": {
      "name": "gridVeg_species_richness-OVERVIEW.ipynb",
      "provenance": [],
      "collapsed_sections": [],
      "include_colab_link": true
    },
    "language_info": {
      "codemirror_mode": "r",
      "file_extension": ".r",
      "mimetype": "text/x-r-source",
      "name": "R",
      "pygments_lexer": "r",
      "version": "3.3.1"
    },
    "kernelspec": {
      "display_name": "R",
      "language": "R",
      "name": "ir"
    }
  },
  "cells": [
    {
      "cell_type": "markdown",
      "metadata": {
        "id": "view-in-github",
        "colab_type": "text"
      },
      "source": [
        "<a href=\"https://colab.research.google.com/github/samsoe/mpg_notebooks/blob/master/gridVeg_species_richness_OVERVIEW.ipynb\" target=\"_parent\"><img src=\"https://colab.research.google.com/assets/colab-badge.svg\" alt=\"Open In Colab\"/></a>"
      ]
    },
    {
      "cell_type": "markdown",
      "metadata": {
        "id": "BhOI1uU2Koum",
        "colab_type": "text"
      },
      "source": [
        "# Security"
      ]
    },
    {
      "cell_type": "markdown",
      "metadata": {
        "id": "hgB3r3wvA9Pn",
        "colab_type": "text"
      },
      "source": [
        "* The user must load a `json` file containing the BigQuery API key into the local directory `/content/...`\n",
        "* The user must have a Google Maps API key to enable mapping. \n",
        "   * CAUTION make sure the key is deleted from the current instance of the notebook before sharing"
      ]
    },
    {
      "cell_type": "markdown",
      "metadata": {
        "id": "MnG0ah7OA59c",
        "colab_type": "text"
      },
      "source": [
        "# Tools"
      ]
    },
    {
      "cell_type": "code",
      "metadata": {
        "id": "Y6y4EWeYpVBJ",
        "colab_type": "code",
        "colab": {}
      },
      "source": [
        "library(tidyverse)"
      ],
      "execution_count": null,
      "outputs": []
    },
    {
      "cell_type": "markdown",
      "metadata": {
        "id": "eUw-It3JBBrQ",
        "colab_type": "text"
      },
      "source": [
        "* Remember that the file containing authorization keys for Big Query must be loaded into the virutual envrionment manually."
      ]
    },
    {
      "cell_type": "code",
      "metadata": {
        "id": "VxYkYhQTKouo",
        "colab_type": "code",
        "colab": {}
      },
      "source": [
        "install.packages(\"bigrquery\")\n",
        "library(bigrquery)"
      ],
      "execution_count": null,
      "outputs": []
    },
    {
      "cell_type": "markdown",
      "metadata": {
        "id": "H1I9aQ_SBH3n",
        "colab_type": "text"
      },
      "source": [
        "# Source"
      ]
    },
    {
      "cell_type": "markdown",
      "metadata": {
        "id": "Bfb7MHpGBJMO",
        "colab_type": "text"
      },
      "source": [
        "## Database Connection"
      ]
    },
    {
      "cell_type": "code",
      "metadata": {
        "id": "ihI70_BPKouq",
        "colab_type": "code",
        "colab": {}
      },
      "source": [
        "# BigQuery API Key\n",
        "bq_auth(path = \"/content/mpg-data-warehouse-api_key-master.json\")"
      ],
      "execution_count": 3,
      "outputs": []
    },
    {
      "cell_type": "code",
      "metadata": {
        "id": "8YxL8wHoBNxV",
        "colab_type": "code",
        "colab": {}
      },
      "source": [
        "Sys.setenv(BIGQUERY_TEST_PROJECT = \"mpg-data-warehouse\")"
      ],
      "execution_count": 4,
      "outputs": []
    },
    {
      "cell_type": "code",
      "metadata": {
        "id": "yevfizb5BQXm",
        "colab_type": "code",
        "colab": {}
      },
      "source": [
        "billing <- bq_test_project()"
      ],
      "execution_count": 5,
      "outputs": []
    },
    {
      "cell_type": "markdown",
      "metadata": {
        "id": "TTFGwELPN7NP",
        "colab_type": "text"
      },
      "source": [
        "# Load Data"
      ]
    },
    {
      "cell_type": "markdown",
      "metadata": {
        "id": "JN4Z34yRp2-k",
        "colab_type": "text"
      },
      "source": [
        "### gridVeg_species_richness"
      ]
    },
    {
      "cell_type": "code",
      "metadata": {
        "id": "26UqASAoB2p0",
        "colab_type": "code",
        "colab": {}
      },
      "source": [
        "sql_species_richness <- \"SELECT *\n",
        "               FROM `mpg-data-warehouse.vegetation_gridVeg_summaries.gridVeg_species_richness`\""
      ],
      "execution_count": 7,
      "outputs": []
    },
    {
      "cell_type": "code",
      "metadata": {
        "id": "VSXOoJkcB3dn",
        "colab_type": "code",
        "colab": {}
      },
      "source": [
        "bq_species_richness <- bq_project_query(billing, sql_species_richness)"
      ],
      "execution_count": 8,
      "outputs": []
    },
    {
      "cell_type": "code",
      "metadata": {
        "id": "KpZnymzzB5Ms",
        "colab_type": "code",
        "colab": {}
      },
      "source": [
        "tb_species_richness <- bq_table_download(bq_species_richness)"
      ],
      "execution_count": 9,
      "outputs": []
    },
    {
      "cell_type": "code",
      "metadata": {
        "id": "VcoNMCO1B6gY",
        "colab_type": "code",
        "colab": {}
      },
      "source": [
        "df_species_richness <- as.data.frame(tb_species_richness)"
      ],
      "execution_count": 11,
      "outputs": []
    },
    {
      "cell_type": "markdown",
      "metadata": {
        "id": "xlqJvhZ1OjAJ",
        "colab_type": "text"
      },
      "source": [
        "# Diagnostics"
      ]
    },
    {
      "cell_type": "code",
      "metadata": {
        "id": "BAWDqTrgOegl",
        "colab_type": "code",
        "colab": {
          "base_uri": "https://localhost:8080/",
          "height": 357
        },
        "outputId": "d9a520df-a5a1-4001-e0fc-eaa1d9962536"
      },
      "source": [
        "glimpse(df_species_richness)"
      ],
      "execution_count": 12,
      "outputs": [
        {
          "output_type": "stream",
          "text": [
            "Rows: 36,433\n",
            "Columns: 18\n",
            "$ survey_ID                   \u001b[3m\u001b[90m<chr>\u001b[39m\u001b[23m \"234\", \"234\", \"234\", \"234\", \"234\", \"234\",…\n",
            "$ year                        \u001b[3m\u001b[90m<int>\u001b[39m\u001b[23m 2011, 2011, 2011, 2011, 2011, 2011, 2011,…\n",
            "$ survey_sequence             \u001b[3m\u001b[90m<chr>\u001b[39m\u001b[23m \"2011-12\", \"2011-12\", \"2011-12\", \"2011-12…\n",
            "$ grid_point                  \u001b[3m\u001b[90m<int>\u001b[39m\u001b[23m 48, 48, 48, 48, 48, 48, 48, 48, 48, 48, 4…\n",
            "$ aspect_mean_deg             \u001b[3m\u001b[90m<dbl>\u001b[39m\u001b[23m 247.132, 247.132, 247.132, 247.132, 247.1…\n",
            "$ elevation_mean_m            \u001b[3m\u001b[90m<dbl>\u001b[39m\u001b[23m 1157.82, 1157.82, 1157.82, 1157.82, 1157.…\n",
            "$ slope_mean_deg              \u001b[3m\u001b[90m<dbl>\u001b[39m\u001b[23m 6.73779, 6.73779, 6.73779, 6.73779, 6.737…\n",
            "$ cover_type_2016_gridVeg     \u001b[3m\u001b[90m<chr>\u001b[39m\u001b[23m \"non-irrigated grasslands\", \"non-irrigate…\n",
            "$ type3_vegetation_indicators \u001b[3m\u001b[90m<chr>\u001b[39m\u001b[23m \"uncultivated grassland native or degrade…\n",
            "$ type4_indicators_history    \u001b[3m\u001b[90m<chr>\u001b[39m\u001b[23m \"uncultivated grassland native or degrade…\n",
            "$ detection_type              \u001b[3m\u001b[90m<chr>\u001b[39m\u001b[23m \"supplemental_obs\", \"supplemental_obs\", \"…\n",
            "$ key_plant_species           \u001b[3m\u001b[90m<int>\u001b[39m\u001b[23m 5, 31, 61, 82, 88, 135, 154, 187, 211, 23…\n",
            "$ key_plant_code              \u001b[3m\u001b[90m<chr>\u001b[39m\u001b[23m \"ACHMIL\", \"ANTDIM\", \"ARTFRI\", \"BROTEC\", \"…\n",
            "$ plant_name_sci              \u001b[3m\u001b[90m<chr>\u001b[39m\u001b[23m \"Achillea millefolium\", \"Antennaria dimor…\n",
            "$ plant_name_common           \u001b[3m\u001b[90m<chr>\u001b[39m\u001b[23m \"western yarrow\", \"low pussytoes\", \"fring…\n",
            "$ plant_native_status         \u001b[3m\u001b[90m<chr>\u001b[39m\u001b[23m \"native\", \"native\", \"native\", \"nonnative\"…\n",
            "$ plant_life_cycle            \u001b[3m\u001b[90m<chr>\u001b[39m\u001b[23m \"perennial\", \"perennial\", \"perennial\", \"a…\n",
            "$ plant_life_form             \u001b[3m\u001b[90m<chr>\u001b[39m\u001b[23m \"forb\", \"forb\", \"shrub\", \"graminoid\", \"gr…\n"
          ],
          "name": "stdout"
        }
      ]
    }
  ]
}