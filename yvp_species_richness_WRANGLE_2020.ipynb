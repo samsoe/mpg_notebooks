{
  "nbformat": 4,
  "nbformat_minor": 0,
  "metadata": {
    "colab": {
      "name": "yvp_species_richness-WRANGLE-2020.ipynb",
      "provenance": [],
      "collapsed_sections": [],
      "toc_visible": true,
      "include_colab_link": true
    },
    "language_info": {
      "codemirror_mode": "r",
      "file_extension": ".r",
      "mimetype": "text/x-r-source",
      "name": "R",
      "pygments_lexer": "r",
      "version": "3.3.1"
    },
    "kernelspec": {
      "display_name": "R",
      "language": "R",
      "name": "ir"
    }
  },
  "cells": [
    {
      "cell_type": "markdown",
      "metadata": {
        "id": "view-in-github",
        "colab_type": "text"
      },
      "source": [
        "<a href=\"https://colab.research.google.com/github/samsoe/mpg_notebooks/blob/master/yvp_species_richness_WRANGLE_2020.ipynb\" target=\"_parent\"><img src=\"https://colab.research.google.com/assets/colab-badge.svg\" alt=\"Open In Colab\"/></a>"
      ]
    },
    {
      "cell_type": "markdown",
      "metadata": {
        "id": "YnczPP3cJIzL"
      },
      "source": [
        "# Documentation"
      ]
    },
    {
      "cell_type": "markdown",
      "metadata": {
        "id": "nmfMradDJLix"
      },
      "source": [
        "[Readme fixed plot vegetation data](https://docs.google.com/document/d/16-Aq8u9Rudd78fSzfjvpCXyQgE-BstC-d2PjYfmLtcw/edit?usp=sharing)"
      ]
    },
    {
      "cell_type": "markdown",
      "metadata": {
        "id": "BhOI1uU2Koum"
      },
      "source": [
        "# Security"
      ]
    },
    {
      "cell_type": "markdown",
      "metadata": {
        "id": "hgB3r3wvA9Pn"
      },
      "source": [
        "* The user must load a `json` file containing the BigQuery API key into the local directory `/content/...`\n",
        "* The user must have a Google Maps API key to enable mapping. \n",
        "   * CAUTION make sure the key is deleted from the current instance of the notebook before sharing"
      ]
    },
    {
      "cell_type": "markdown",
      "metadata": {
        "id": "MnG0ah7OA59c"
      },
      "source": [
        "# Tools"
      ]
    },
    {
      "cell_type": "code",
      "metadata": {
        "id": "Y6y4EWeYpVBJ",
        "outputId": "321fb761-5ebf-407f-de61-b6339db774d2",
        "colab": {
          "base_uri": "https://localhost:8080/"
        }
      },
      "source": [
        "library(tidyverse)"
      ],
      "execution_count": 1,
      "outputs": [
        {
          "output_type": "stream",
          "text": [
            "── \u001b[1mAttaching packages\u001b[22m ─────────────────────────────────────── tidyverse 1.3.0 ──\n",
            "\n",
            "\u001b[32m✔\u001b[39m \u001b[34mggplot2\u001b[39m 3.3.2     \u001b[32m✔\u001b[39m \u001b[34mpurrr  \u001b[39m 0.3.4\n",
            "\u001b[32m✔\u001b[39m \u001b[34mtibble \u001b[39m 3.0.4     \u001b[32m✔\u001b[39m \u001b[34mdplyr  \u001b[39m 1.0.2\n",
            "\u001b[32m✔\u001b[39m \u001b[34mtidyr  \u001b[39m 1.1.2     \u001b[32m✔\u001b[39m \u001b[34mstringr\u001b[39m 1.4.0\n",
            "\u001b[32m✔\u001b[39m \u001b[34mreadr  \u001b[39m 1.4.0     \u001b[32m✔\u001b[39m \u001b[34mforcats\u001b[39m 0.5.0\n",
            "\n",
            "── \u001b[1mConflicts\u001b[22m ────────────────────────────────────────── tidyverse_conflicts() ──\n",
            "\u001b[31m✖\u001b[39m \u001b[34mdplyr\u001b[39m::\u001b[32mfilter()\u001b[39m masks \u001b[34mstats\u001b[39m::filter()\n",
            "\u001b[31m✖\u001b[39m \u001b[34mdplyr\u001b[39m::\u001b[32mlag()\u001b[39m    masks \u001b[34mstats\u001b[39m::lag()\n",
            "\n"
          ],
          "name": "stderr"
        }
      ]
    },
    {
      "cell_type": "markdown",
      "metadata": {
        "id": "eUw-It3JBBrQ"
      },
      "source": [
        "* Remember that the file containing authorization keys for Big Query must be loaded into the virutual envrionment manually."
      ]
    },
    {
      "cell_type": "code",
      "metadata": {
        "id": "VxYkYhQTKouo",
        "outputId": "ead2aa2e-55ac-477b-ca01-dd5cbdde57fa",
        "colab": {
          "base_uri": "https://localhost:8080/"
        }
      },
      "source": [
        "install.packages(\"bigrquery\")\n",
        "library(bigrquery)"
      ],
      "execution_count": 2,
      "outputs": [
        {
          "output_type": "stream",
          "text": [
            "Installing package into ‘/usr/local/lib/R/site-library’\n",
            "(as ‘lib’ is unspecified)\n",
            "\n",
            "also installing the dependencies ‘bit’, ‘bit64’, ‘gargle’, ‘rapidjsonr’\n",
            "\n",
            "\n"
          ],
          "name": "stderr"
        }
      ]
    },
    {
      "cell_type": "markdown",
      "metadata": {
        "id": "H1I9aQ_SBH3n"
      },
      "source": [
        "# Source"
      ]
    },
    {
      "cell_type": "markdown",
      "metadata": {
        "id": "Ia2nCN3_nU4A"
      },
      "source": [
        "In this view of the yvp data, species from the cover-based and additional species summaries will be vertically combined for each grid point. Since the additional species summary records species presence only, this view will be limited entirely to species presence. The result will be the plant species richness for each grid point, and this is useful for comparing plant communities, finding the locations of rarer species, or identifying grid points where non-native species are just getting established. After these data are processed, we will want to retain knowledge of whether a species was detected during point-intercept of additional species surveys so that we can evaluate the potential rarity of a given species. The new variable detection_type will allow us to do this."
      ]
    },
    {
      "cell_type": "markdown",
      "metadata": {
        "id": "Bfb7MHpGBJMO"
      },
      "source": [
        "## Database Connection"
      ]
    },
    {
      "cell_type": "code",
      "metadata": {
        "id": "ihI70_BPKouq"
      },
      "source": [
        "# BigQuery API Key\n",
        "bq_auth(path = \"/content/mpg-data-warehouse-api_key-master.json\")"
      ],
      "execution_count": 3,
      "outputs": []
    },
    {
      "cell_type": "code",
      "metadata": {
        "id": "8YxL8wHoBNxV"
      },
      "source": [
        "Sys.setenv(BIGQUERY_TEST_PROJECT = \"mpg-data-warehouse\")"
      ],
      "execution_count": 4,
      "outputs": []
    },
    {
      "cell_type": "code",
      "metadata": {
        "id": "yevfizb5BQXm"
      },
      "source": [
        "billing <- bq_test_project()"
      ],
      "execution_count": 5,
      "outputs": []
    },
    {
      "cell_type": "markdown",
      "metadata": {
        "id": "JN4Z34yRp2-k"
      },
      "source": [
        "### yvp_vegetation_cover"
      ]
    },
    {
      "cell_type": "code",
      "metadata": {
        "id": "26UqASAoB2p0"
      },
      "source": [
        "sql_vegetation_cover <- \n",
        "\"\n",
        "SELECT\n",
        "  CONCAT(plot_code, \\\" \\\", date) AS survey_code,\n",
        "  plot_code,\n",
        "  SUBSTR(SAFE_CAST(date AS STRING), 0, 4) AS year,\n",
        "  plot_loc,\n",
        "  plot_rep,\n",
        "  grid_point,\n",
        "  (\\\"cover_est\\\") AS detection_type,\n",
        "  key_plant_species\n",
        "FROM\n",
        "  `mpg-data-warehouse.vegetation_fixed_plot_yvp.yvp_vegetation_cover`\n",
        "WHERE\n",
        "  cover_pct != 0\n",
        "\""
      ],
      "execution_count": 28,
      "outputs": []
    },
    {
      "cell_type": "code",
      "metadata": {
        "id": "VSXOoJkcB3dn"
      },
      "source": [
        "bq_vegetation_cover <- bq_project_query(billing, sql_vegetation_cover)"
      ],
      "execution_count": 29,
      "outputs": []
    },
    {
      "cell_type": "code",
      "metadata": {
        "id": "KpZnymzzB5Ms"
      },
      "source": [
        "tb_vegetation_cover <- bq_table_download(bq_vegetation_cover)"
      ],
      "execution_count": 30,
      "outputs": []
    },
    {
      "cell_type": "code",
      "metadata": {
        "id": "VcoNMCO1B6gY"
      },
      "source": [
        "df_vegetation_cover <- as.data.frame(tb_vegetation_cover)"
      ],
      "execution_count": 31,
      "outputs": []
    },
    {
      "cell_type": "code",
      "metadata": {
        "id": "_Fbm6COOIgg_",
        "outputId": "8f9a8261-f2f8-489e-ee13-bf552e464e43",
        "colab": {
          "base_uri": "https://localhost:8080/"
        }
      },
      "source": [
        "df_vegetation_cover %>% glimpse() "
      ],
      "execution_count": 32,
      "outputs": [
        {
          "output_type": "stream",
          "text": [
            "Rows: 27,281\n",
            "Columns: 8\n",
            "$ survey_code       \u001b[3m\u001b[90m<chr>\u001b[39m\u001b[23m \"YVP N348 2017-07-18\", \"YVP 10 2017-06-09\", \"YVP 10…\n",
            "$ plot_code         \u001b[3m\u001b[90m<chr>\u001b[39m\u001b[23m \"YVP N348\", \"YVP 10\", \"YVP 10\", \"YVP 10\", \"YVP 10\",…\n",
            "$ year              \u001b[3m\u001b[90m<chr>\u001b[39m\u001b[23m \"2017\", \"2017\", \"2019\", \"2018\", \"2018\", \"2018\", \"20…\n",
            "$ plot_loc          \u001b[3m\u001b[90m<chr>\u001b[39m\u001b[23m \"N\", NA, NA, NA, NA, NA, NA, NA, NA, NA, NA, NA, NA…\n",
            "$ plot_rep          \u001b[3m\u001b[90m<chr>\u001b[39m\u001b[23m NA, NA, NA, NA, NA, NA, NA, NA, NA, NA, NA, NA, NA,…\n",
            "$ grid_point        \u001b[3m\u001b[90m<int>\u001b[39m\u001b[23m 348, 10, 10, 10, 10, 10, 10, 12, 12, 12, 12, 12, 12…\n",
            "$ detection_type    \u001b[3m\u001b[90m<chr>\u001b[39m\u001b[23m \"cover_est\", \"cover_est\", \"cover_est\", \"cover_est\",…\n",
            "$ key_plant_species \u001b[3m\u001b[90m<int>\u001b[39m\u001b[23m 3, 5, 5, 5, 5, 5, 5, 5, 5, 5, 5, 5, 5, 5, 5, 5, 5, …\n"
          ],
          "name": "stdout"
        }
      ]
    },
    {
      "cell_type": "markdown",
      "metadata": {
        "id": "Fws0jJQJmiqN"
      },
      "source": [
        "### yvp_additional_species"
      ]
    },
    {
      "cell_type": "code",
      "metadata": {
        "id": "A0b7sFbomnQI"
      },
      "source": [
        "sql_additional_species <- \"\n",
        "SELECT \n",
        "  CONCAT(plot_code, \\\" \\\", date) AS survey_code,\n",
        "  plot_code,\n",
        "  SUBSTR(SAFE_CAST(date AS STRING), 0, 4) AS year,\n",
        "  plot_loc,\n",
        "  plot_rep,\n",
        "  grid_point,\n",
        "  (\\\"supplemental_obs\\\") AS detection_type,\n",
        "  key_plant_species\n",
        "FROM\n",
        "  `mpg-data-warehouse.vegetation_fixed_plot_yvp.yvp_additional_species`\n",
        "\""
      ],
      "execution_count": 33,
      "outputs": []
    },
    {
      "cell_type": "code",
      "metadata": {
        "id": "r6DRQa8UnfyC"
      },
      "source": [
        "bq_additional_species <- bq_project_query(billing, sql_additional_species)"
      ],
      "execution_count": 34,
      "outputs": []
    },
    {
      "cell_type": "code",
      "metadata": {
        "id": "M2BeqR2cnseW"
      },
      "source": [
        "tb_additional_species <- bq_table_download(bq_additional_species)"
      ],
      "execution_count": 35,
      "outputs": []
    },
    {
      "cell_type": "code",
      "metadata": {
        "id": "durzVSnInsbc"
      },
      "source": [
        "df_additional_species <- as.data.frame(tb_additional_species)"
      ],
      "execution_count": 36,
      "outputs": []
    },
    {
      "cell_type": "code",
      "metadata": {
        "id": "ICrJWRYYn4gb",
        "outputId": "ed408461-eafa-47ab-ab76-04f5243ce3d7",
        "colab": {
          "base_uri": "https://localhost:8080/"
        }
      },
      "source": [
        "df_additional_species %>% glimpse()"
      ],
      "execution_count": 37,
      "outputs": [
        {
          "output_type": "stream",
          "text": [
            "Rows: 1,990\n",
            "Columns: 8\n",
            "$ survey_code       \u001b[3m\u001b[90m<chr>\u001b[39m\u001b[23m \"YVP 10 2020-06-27\", \"YVP 10 2020-06-27\", \"YVP 10 2…\n",
            "$ plot_code         \u001b[3m\u001b[90m<chr>\u001b[39m\u001b[23m \"YVP 10\", \"YVP 10\", \"YVP 10\", \"YVP 10\", \"YVP 12\", \"…\n",
            "$ year              \u001b[3m\u001b[90m<chr>\u001b[39m\u001b[23m \"2020\", \"2020\", \"2020\", \"2020\", \"2020\", \"2020\", \"20…\n",
            "$ plot_loc          \u001b[3m\u001b[90m<chr>\u001b[39m\u001b[23m NA, NA, NA, NA, NA, NA, NA, NA, NA, NA, NA, NA, NA,…\n",
            "$ plot_rep          \u001b[3m\u001b[90m<chr>\u001b[39m\u001b[23m NA, NA, NA, NA, NA, NA, NA, NA, NA, NA, NA, NA, NA,…\n",
            "$ grid_point        \u001b[3m\u001b[90m<int>\u001b[39m\u001b[23m 10, 10, 10, 10, 12, 12, 12, 12, 12, 20, 20, 20, 20,…\n",
            "$ detection_type    \u001b[3m\u001b[90m<chr>\u001b[39m\u001b[23m \"supplemental_obs\", \"supplemental_obs\", \"supplement…\n",
            "$ key_plant_species \u001b[3m\u001b[90m<int>\u001b[39m\u001b[23m 169, 163, 72, 16, 365, 63, 212, 250, 220, 315, 163,…\n"
          ],
          "name": "stdout"
        }
      ]
    },
    {
      "cell_type": "markdown",
      "metadata": {
        "id": "xmB4X0Ym6eDK"
      },
      "source": [
        "### location_position_classification"
      ]
    },
    {
      "cell_type": "code",
      "metadata": {
        "id": "yllLu5I16dvs"
      },
      "source": [
        "sql_position_classification <- \"\n",
        "SELECT\n",
        "  grid_point,\n",
        "  aspect_mean_deg,\n",
        "  elevation_mean_m,\n",
        "  slope_mean_deg,\n",
        "  cover_type_2016_gridVeg,\n",
        "  type3_vegetation_indicators,\n",
        "  type4_indicators_history\n",
        "FROM\n",
        "  `mpg-data-warehouse.grid_point_summaries.location_position_classification`\n",
        "\""
      ],
      "execution_count": 38,
      "outputs": []
    },
    {
      "cell_type": "code",
      "metadata": {
        "id": "AccyJAYq6v1t"
      },
      "source": [
        "bq_position_classification <- bq_project_query(billing, sql_position_classification)"
      ],
      "execution_count": 39,
      "outputs": []
    },
    {
      "cell_type": "code",
      "metadata": {
        "id": "9DHuZhlG6vyi"
      },
      "source": [
        "tb_position_classification <- bq_table_download(bq_position_classification)"
      ],
      "execution_count": 40,
      "outputs": []
    },
    {
      "cell_type": "code",
      "metadata": {
        "id": "rxd5pyB_6vvQ"
      },
      "source": [
        "df_position_classification <- as.data.frame(tb_position_classification)"
      ],
      "execution_count": 41,
      "outputs": []
    },
    {
      "cell_type": "code",
      "metadata": {
        "id": "lvXkgUyG6_ZD",
        "outputId": "6fef9e12-f999-4ecc-a2e7-dafa1022ade3",
        "colab": {
          "base_uri": "https://localhost:8080/"
        }
      },
      "source": [
        "df_position_classification %>% glimpse()"
      ],
      "execution_count": 42,
      "outputs": [
        {
          "output_type": "stream",
          "text": [
            "Rows: 582\n",
            "Columns: 7\n",
            "$ grid_point                  \u001b[3m\u001b[90m<int>\u001b[39m\u001b[23m 1, 2, 3, 4, 5, 6, 7, 8, 9, 10, 11, 12, 13…\n",
            "$ aspect_mean_deg             \u001b[3m\u001b[90m<dbl>\u001b[39m\u001b[23m 334.7050, 45.3030, 221.3340, 290.4890, 28…\n",
            "$ elevation_mean_m            \u001b[3m\u001b[90m<dbl>\u001b[39m\u001b[23m 1395.64, 1456.09, 1126.90, 1166.33, 1179.…\n",
            "$ slope_mean_deg              \u001b[3m\u001b[90m<dbl>\u001b[39m\u001b[23m 28.44230, 12.22630, 4.25130, 2.68361, 4.2…\n",
            "$ cover_type_2016_gridVeg     \u001b[3m\u001b[90m<chr>\u001b[39m\u001b[23m \"woodland/forest\", \"non-irrigated grassla…\n",
            "$ type3_vegetation_indicators \u001b[3m\u001b[90m<chr>\u001b[39m\u001b[23m \"mixed canopy conifer\", \"uncultivated gra…\n",
            "$ type4_indicators_history    \u001b[3m\u001b[90m<chr>\u001b[39m\u001b[23m \"mixed canopy conifer\", \"uncultivated gra…\n"
          ],
          "name": "stdout"
        }
      ]
    },
    {
      "cell_type": "markdown",
      "metadata": {
        "id": "F5tKtcbtiKCz"
      },
      "source": [
        "### vegetation_species_metadata"
      ]
    },
    {
      "cell_type": "code",
      "metadata": {
        "id": "mS4JUaOZiTZJ"
      },
      "source": [
        "sql_species_metadata <- \"\n",
        "SELECT\n",
        "  key_plant_species,\n",
        "  key_plant_code,\n",
        "  plant_name_sci,\n",
        "  plant_name_common,\n",
        "  plant_native_status,\n",
        "  plant_life_cycle,\n",
        "  plant_life_form\n",
        "FROM\n",
        "  `mpg-data-warehouse.vegetation_species_metadata.vegetation_species_metadata`\""
      ],
      "execution_count": 43,
      "outputs": []
    },
    {
      "cell_type": "code",
      "metadata": {
        "id": "epyc-RsviSiG"
      },
      "source": [
        "bq_species_metadata <- bq_project_query(billing, sql_species_metadata)"
      ],
      "execution_count": 44,
      "outputs": []
    },
    {
      "cell_type": "code",
      "metadata": {
        "id": "PCyRmeWFjRds"
      },
      "source": [
        "tb_species_metadata <- bq_table_download(bq_species_metadata)"
      ],
      "execution_count": 45,
      "outputs": []
    },
    {
      "cell_type": "code",
      "metadata": {
        "id": "m_rQRK7ajRZ3"
      },
      "source": [
        "df_species_metadata <- as.data.frame(tb_species_metadata)"
      ],
      "execution_count": 46,
      "outputs": []
    },
    {
      "cell_type": "code",
      "metadata": {
        "id": "lPg0i28AjRWo",
        "outputId": "be6418b1-44b2-40b5-bc68-d79b16b01e70",
        "colab": {
          "base_uri": "https://localhost:8080/"
        }
      },
      "source": [
        "df_species_metadata %>% glimpse()"
      ],
      "execution_count": 47,
      "outputs": [
        {
          "output_type": "stream",
          "text": [
            "Rows: 754\n",
            "Columns: 7\n",
            "$ key_plant_species   \u001b[3m\u001b[90m<int>\u001b[39m\u001b[23m 360, 13, 26, 53, 738, 75, 76, 746, 83, 88, 86, 87…\n",
            "$ key_plant_code      \u001b[3m\u001b[90m<chr>\u001b[39m\u001b[23m \"NV\", \"AGRSCA\", \"ANDGER\", \"ARIPUR\", \"BOUCUR\", \"BO…\n",
            "$ plant_name_sci      \u001b[3m\u001b[90m<chr>\u001b[39m\u001b[23m \"no vegetation\", \"Agrostis scabra\", \"Andropogon g…\n",
            "$ plant_name_common   \u001b[3m\u001b[90m<chr>\u001b[39m\u001b[23m \"no vegetation\", \"rough bentgrass\", \"big bluestem…\n",
            "$ plant_native_status \u001b[3m\u001b[90m<chr>\u001b[39m\u001b[23m \"none\", \"native\", \"native\", \"native\", \"native\", \"…\n",
            "$ plant_life_cycle    \u001b[3m\u001b[90m<chr>\u001b[39m\u001b[23m \"unknown\", \"perennial\", \"perennial\", \"perennial\",…\n",
            "$ plant_life_form     \u001b[3m\u001b[90m<chr>\u001b[39m\u001b[23m \"none\", \"graminoid\", \"graminoid\", \"graminoid\", \"g…\n"
          ],
          "name": "stdout"
        }
      ]
    },
    {
      "cell_type": "markdown",
      "metadata": {
        "id": "CnYKNnT0I4ZF"
      },
      "source": [
        "# Wrangle"
      ]
    },
    {
      "cell_type": "markdown",
      "metadata": {
        "id": "AZFkpMUrJBo9"
      },
      "source": [
        "With the data from yvp_vegetation_cover, species lists must first be summarized as distinct key_plant_species values within survey_code values. This is because the raw data are estimated in 10 subplots per transect, and species names will often be redundant among subplots. Then the yvp_vegetation_cover data can be vertically bound to the yvp_additional_species data after some light coercion of field names.\n",
        "\n",
        "One caution with these data. According to protocol, a plant species is only included in the additional species table if it was not found during cover-based surveys. In practice, I assume that this is routinely violated because it isn’t easy to remember all the species surveyed, nor is it efficient to check time after time. It’s important that we eliminate duplicate species for a given grid point. When duplication exists, default to detection_type = “cover_est”. This will prevent upward bias of richness estimates and will make downstream analyses less complicated. Some operation that again summarizes distinct key_plant_species values within survey_code values will be necessary. For additional information on this point, please see instructions for a similar operation with the point-intercept data in the gridVeg [Readme](https://docs.google.com/document/d/1JWnhxNjeSQZkSnGhtHP68i_l1mDj4vPFMBdUvGqN0TA/edit#heading=h.hnb7ex8jlp42).\n"
      ]
    },
    {
      "cell_type": "markdown",
      "metadata": {
        "id": "ysIVNx_K4Gyc"
      },
      "source": [
        "## Remove duplicates"
      ]
    },
    {
      "cell_type": "markdown",
      "metadata": {
        "id": "7PBA6mwdn-gJ"
      },
      "source": [
        "### yvp_vegetation_cover"
      ]
    },
    {
      "cell_type": "code",
      "metadata": {
        "id": "Cofz7mosKJZm",
        "outputId": "73dd45f3-124a-4689-cee8-8633e339ebc4",
        "colab": {
          "base_uri": "https://localhost:8080/"
        }
      },
      "source": [
        "df_vegetation_cover %>% glimpse()"
      ],
      "execution_count": 48,
      "outputs": [
        {
          "output_type": "stream",
          "text": [
            "Rows: 27,281\n",
            "Columns: 8\n",
            "$ survey_code       \u001b[3m\u001b[90m<chr>\u001b[39m\u001b[23m \"YVP N348 2017-07-18\", \"YVP 10 2017-06-09\", \"YVP 10…\n",
            "$ plot_code         \u001b[3m\u001b[90m<chr>\u001b[39m\u001b[23m \"YVP N348\", \"YVP 10\", \"YVP 10\", \"YVP 10\", \"YVP 10\",…\n",
            "$ year              \u001b[3m\u001b[90m<chr>\u001b[39m\u001b[23m \"2017\", \"2017\", \"2019\", \"2018\", \"2018\", \"2018\", \"20…\n",
            "$ plot_loc          \u001b[3m\u001b[90m<chr>\u001b[39m\u001b[23m \"N\", NA, NA, NA, NA, NA, NA, NA, NA, NA, NA, NA, NA…\n",
            "$ plot_rep          \u001b[3m\u001b[90m<chr>\u001b[39m\u001b[23m NA, NA, NA, NA, NA, NA, NA, NA, NA, NA, NA, NA, NA,…\n",
            "$ grid_point        \u001b[3m\u001b[90m<int>\u001b[39m\u001b[23m 348, 10, 10, 10, 10, 10, 10, 12, 12, 12, 12, 12, 12…\n",
            "$ detection_type    \u001b[3m\u001b[90m<chr>\u001b[39m\u001b[23m \"cover_est\", \"cover_est\", \"cover_est\", \"cover_est\",…\n",
            "$ key_plant_species \u001b[3m\u001b[90m<int>\u001b[39m\u001b[23m 3, 5, 5, 5, 5, 5, 5, 5, 5, 5, 5, 5, 5, 5, 5, 5, 5, …\n"
          ],
          "name": "stdout"
        }
      ]
    },
    {
      "cell_type": "code",
      "metadata": {
        "id": "cmOQB9iO5GFH",
        "outputId": "4a4e4709-52f9-4166-e962-d297e0ac384b",
        "colab": {
          "base_uri": "https://localhost:8080/",
          "height": 1000
        }
      },
      "source": [
        "df_vegetation_cover %>%\n",
        "  group_by(survey_code, key_plant_species) %>%\n",
        "  arrange(survey_code, key_plant_species)"
      ],
      "execution_count": 51,
      "outputs": [
        {
          "output_type": "display_data",
          "data": {
            "text/plain": [
              "      survey_code          plot_code year plot_loc plot_rep grid_point\n",
              "1     YVP 10 2017-06-09    YVP 10    2017 NA       NA       10        \n",
              "2     YVP 10 2017-06-09    YVP 10    2017 NA       NA       10        \n",
              "3     YVP 10 2017-06-09    YVP 10    2017 NA       NA       10        \n",
              "4     YVP 10 2017-06-09    YVP 10    2017 NA       NA       10        \n",
              "5     YVP 10 2017-06-09    YVP 10    2017 NA       NA       10        \n",
              "6     YVP 10 2017-06-09    YVP 10    2017 NA       NA       10        \n",
              "7     YVP 10 2017-06-09    YVP 10    2017 NA       NA       10        \n",
              "8     YVP 10 2017-06-09    YVP 10    2017 NA       NA       10        \n",
              "9     YVP 10 2017-06-09    YVP 10    2017 NA       NA       10        \n",
              "10    YVP 10 2017-06-09    YVP 10    2017 NA       NA       10        \n",
              "11    YVP 10 2017-06-09    YVP 10    2017 NA       NA       10        \n",
              "12    YVP 10 2017-06-09    YVP 10    2017 NA       NA       10        \n",
              "13    YVP 10 2017-06-09    YVP 10    2017 NA       NA       10        \n",
              "14    YVP 10 2017-06-09    YVP 10    2017 NA       NA       10        \n",
              "15    YVP 10 2017-06-09    YVP 10    2017 NA       NA       10        \n",
              "16    YVP 10 2017-06-09    YVP 10    2017 NA       NA       10        \n",
              "17    YVP 10 2017-06-09    YVP 10    2017 NA       NA       10        \n",
              "18    YVP 10 2017-06-09    YVP 10    2017 NA       NA       10        \n",
              "19    YVP 10 2017-06-09    YVP 10    2017 NA       NA       10        \n",
              "20    YVP 10 2017-06-09    YVP 10    2017 NA       NA       10        \n",
              "21    YVP 10 2017-06-09    YVP 10    2017 NA       NA       10        \n",
              "22    YVP 10 2017-06-09    YVP 10    2017 NA       NA       10        \n",
              "23    YVP 10 2017-06-09    YVP 10    2017 NA       NA       10        \n",
              "24    YVP 10 2017-06-09    YVP 10    2017 NA       NA       10        \n",
              "25    YVP 10 2017-06-09    YVP 10    2017 NA       NA       10        \n",
              "26    YVP 10 2017-06-09    YVP 10    2017 NA       NA       10        \n",
              "27    YVP 10 2017-06-09    YVP 10    2017 NA       NA       10        \n",
              "28    YVP 10 2017-06-09    YVP 10    2017 NA       NA       10        \n",
              "29    YVP 10 2017-06-09    YVP 10    2017 NA       NA       10        \n",
              "30    YVP 10 2017-06-09    YVP 10    2017 NA       NA       10        \n",
              "⋮     ⋮                    ⋮         ⋮    ⋮        ⋮        ⋮         \n",
              "27252 YVP NC294 2020-05-09 YVP NC294 2020 N        C        294       \n",
              "27253 YVP NC294 2020-05-09 YVP NC294 2020 N        C        294       \n",
              "27254 YVP NC294 2020-05-09 YVP NC294 2020 N        C        294       \n",
              "27255 YVP NC294 2020-05-09 YVP NC294 2020 N        C        294       \n",
              "27256 YVP NC294 2020-05-09 YVP NC294 2020 N        C        294       \n",
              "27257 YVP NC294 2020-05-09 YVP NC294 2020 N        C        294       \n",
              "27258 YVP NC294 2020-05-09 YVP NC294 2020 N        C        294       \n",
              "27259 YVP NC294 2020-05-09 YVP NC294 2020 N        C        294       \n",
              "27260 YVP NC294 2020-05-09 YVP NC294 2020 N        C        294       \n",
              "27261 YVP NC294 2020-05-09 YVP NC294 2020 N        C        294       \n",
              "27262 YVP NC294 2020-05-09 YVP NC294 2020 N        C        294       \n",
              "27263 YVP NC294 2020-05-09 YVP NC294 2020 N        C        294       \n",
              "27264 YVP NC294 2020-05-09 YVP NC294 2020 N        C        294       \n",
              "27265 YVP NC294 2020-05-09 YVP NC294 2020 N        C        294       \n",
              "27266 YVP NC294 2020-05-09 YVP NC294 2020 N        C        294       \n",
              "27267 YVP NC294 2020-05-09 YVP NC294 2020 N        C        294       \n",
              "27268 YVP NC294 2020-05-09 YVP NC294 2020 N        C        294       \n",
              "27269 YVP NC294 2020-05-09 YVP NC294 2020 N        C        294       \n",
              "27270 YVP NC294 2020-05-09 YVP NC294 2020 N        C        294       \n",
              "27271 YVP NC294 2020-05-09 YVP NC294 2020 N        C        294       \n",
              "27272 YVP NC294 2020-05-09 YVP NC294 2020 N        C        294       \n",
              "27273 YVP NC294 2020-05-09 YVP NC294 2020 N        C        294       \n",
              "27274 YVP NC294 2020-05-09 YVP NC294 2020 N        C        294       \n",
              "27275 YVP NC294 2020-05-09 YVP NC294 2020 N        C        294       \n",
              "27276 YVP NC294 2020-05-09 YVP NC294 2020 N        C        294       \n",
              "27277 YVP NC294 2020-05-09 YVP NC294 2020 N        C        294       \n",
              "27278 YVP NC294 2020-05-09 YVP NC294 2020 N        C        294       \n",
              "27279 YVP NC294 2020-05-09 YVP NC294 2020 N        C        294       \n",
              "27280 YVP NC294 2020-05-09 YVP NC294 2020 N        C        294       \n",
              "27281 YVP NC294 2020-05-09 YVP NC294 2020 N        C        294       \n",
              "      detection_type key_plant_species\n",
              "1     cover_est        5              \n",
              "2     cover_est       37              \n",
              "3     cover_est       37              \n",
              "4     cover_est       39              \n",
              "5     cover_est       39              \n",
              "6     cover_est       51              \n",
              "7     cover_est       82              \n",
              "8     cover_est       84              \n",
              "9     cover_est       90              \n",
              "10    cover_est       90              \n",
              "11    cover_est      153              \n",
              "12    cover_est      153              \n",
              "13    cover_est      163              \n",
              "14    cover_est      163              \n",
              "15    cover_est      169              \n",
              "16    cover_est      187              \n",
              "17    cover_est      187              \n",
              "18    cover_est      187              \n",
              "19    cover_est      202              \n",
              "20    cover_est      230              \n",
              "21    cover_est      230              \n",
              "22    cover_est      230              \n",
              "23    cover_est      230              \n",
              "24    cover_est      230              \n",
              "25    cover_est      230              \n",
              "26    cover_est      230              \n",
              "27    cover_est      232              \n",
              "28    cover_est      232              \n",
              "29    cover_est      232              \n",
              "30    cover_est      232              \n",
              "⋮     ⋮              ⋮                \n",
              "27252 cover_est      428              \n",
              "27253 cover_est      437              \n",
              "27254 cover_est      437              \n",
              "27255 cover_est      437              \n",
              "27256 cover_est      437              \n",
              "27257 cover_est      437              \n",
              "27258 cover_est      437              \n",
              "27259 cover_est      437              \n",
              "27260 cover_est      437              \n",
              "27261 cover_est      439              \n",
              "27262 cover_est      439              \n",
              "27263 cover_est      439              \n",
              "27264 cover_est      484              \n",
              "27265 cover_est      522              \n",
              "27266 cover_est      522              \n",
              "27267 cover_est      529              \n",
              "27268 cover_est      529              \n",
              "27269 cover_est      529              \n",
              "27270 cover_est      529              \n",
              "27271 cover_est      529              \n",
              "27272 cover_est      529              \n",
              "27273 cover_est      529              \n",
              "27274 cover_est      529              \n",
              "27275 cover_est      562              \n",
              "27276 cover_est      562              \n",
              "27277 cover_est      562              \n",
              "27278 cover_est      576              \n",
              "27279 cover_est      576              \n",
              "27280 cover_est      576              \n",
              "27281 cover_est      576              "
            ],
            "text/latex": "A grouped\\_df: 27281 × 8\n\\begin{tabular}{llllllll}\n survey\\_code & plot\\_code & year & plot\\_loc & plot\\_rep & grid\\_point & detection\\_type & key\\_plant\\_species\\\\\n <chr> & <chr> & <chr> & <chr> & <chr> & <int> & <chr> & <int>\\\\\n\\hline\n\t YVP 10 2017-06-09 & YVP 10 & 2017 & NA & NA & 10 & cover\\_est &   5\\\\\n\t YVP 10 2017-06-09 & YVP 10 & 2017 & NA & NA & 10 & cover\\_est &  37\\\\\n\t YVP 10 2017-06-09 & YVP 10 & 2017 & NA & NA & 10 & cover\\_est &  37\\\\\n\t YVP 10 2017-06-09 & YVP 10 & 2017 & NA & NA & 10 & cover\\_est &  39\\\\\n\t YVP 10 2017-06-09 & YVP 10 & 2017 & NA & NA & 10 & cover\\_est &  39\\\\\n\t YVP 10 2017-06-09 & YVP 10 & 2017 & NA & NA & 10 & cover\\_est &  51\\\\\n\t YVP 10 2017-06-09 & YVP 10 & 2017 & NA & NA & 10 & cover\\_est &  82\\\\\n\t YVP 10 2017-06-09 & YVP 10 & 2017 & NA & NA & 10 & cover\\_est &  84\\\\\n\t YVP 10 2017-06-09 & YVP 10 & 2017 & NA & NA & 10 & cover\\_est &  90\\\\\n\t YVP 10 2017-06-09 & YVP 10 & 2017 & NA & NA & 10 & cover\\_est &  90\\\\\n\t YVP 10 2017-06-09 & YVP 10 & 2017 & NA & NA & 10 & cover\\_est & 153\\\\\n\t YVP 10 2017-06-09 & YVP 10 & 2017 & NA & NA & 10 & cover\\_est & 153\\\\\n\t YVP 10 2017-06-09 & YVP 10 & 2017 & NA & NA & 10 & cover\\_est & 163\\\\\n\t YVP 10 2017-06-09 & YVP 10 & 2017 & NA & NA & 10 & cover\\_est & 163\\\\\n\t YVP 10 2017-06-09 & YVP 10 & 2017 & NA & NA & 10 & cover\\_est & 169\\\\\n\t YVP 10 2017-06-09 & YVP 10 & 2017 & NA & NA & 10 & cover\\_est & 187\\\\\n\t YVP 10 2017-06-09 & YVP 10 & 2017 & NA & NA & 10 & cover\\_est & 187\\\\\n\t YVP 10 2017-06-09 & YVP 10 & 2017 & NA & NA & 10 & cover\\_est & 187\\\\\n\t YVP 10 2017-06-09 & YVP 10 & 2017 & NA & NA & 10 & cover\\_est & 202\\\\\n\t YVP 10 2017-06-09 & YVP 10 & 2017 & NA & NA & 10 & cover\\_est & 230\\\\\n\t YVP 10 2017-06-09 & YVP 10 & 2017 & NA & NA & 10 & cover\\_est & 230\\\\\n\t YVP 10 2017-06-09 & YVP 10 & 2017 & NA & NA & 10 & cover\\_est & 230\\\\\n\t YVP 10 2017-06-09 & YVP 10 & 2017 & NA & NA & 10 & cover\\_est & 230\\\\\n\t YVP 10 2017-06-09 & YVP 10 & 2017 & NA & NA & 10 & cover\\_est & 230\\\\\n\t YVP 10 2017-06-09 & YVP 10 & 2017 & NA & NA & 10 & cover\\_est & 230\\\\\n\t YVP 10 2017-06-09 & YVP 10 & 2017 & NA & NA & 10 & cover\\_est & 230\\\\\n\t YVP 10 2017-06-09 & YVP 10 & 2017 & NA & NA & 10 & cover\\_est & 232\\\\\n\t YVP 10 2017-06-09 & YVP 10 & 2017 & NA & NA & 10 & cover\\_est & 232\\\\\n\t YVP 10 2017-06-09 & YVP 10 & 2017 & NA & NA & 10 & cover\\_est & 232\\\\\n\t YVP 10 2017-06-09 & YVP 10 & 2017 & NA & NA & 10 & cover\\_est & 232\\\\\n\t ⋮ & ⋮ & ⋮ & ⋮ & ⋮ & ⋮ & ⋮ & ⋮\\\\\n\t YVP NC294 2020-05-09 & YVP NC294 & 2020 & N & C & 294 & cover\\_est & 428\\\\\n\t YVP NC294 2020-05-09 & YVP NC294 & 2020 & N & C & 294 & cover\\_est & 437\\\\\n\t YVP NC294 2020-05-09 & YVP NC294 & 2020 & N & C & 294 & cover\\_est & 437\\\\\n\t YVP NC294 2020-05-09 & YVP NC294 & 2020 & N & C & 294 & cover\\_est & 437\\\\\n\t YVP NC294 2020-05-09 & YVP NC294 & 2020 & N & C & 294 & cover\\_est & 437\\\\\n\t YVP NC294 2020-05-09 & YVP NC294 & 2020 & N & C & 294 & cover\\_est & 437\\\\\n\t YVP NC294 2020-05-09 & YVP NC294 & 2020 & N & C & 294 & cover\\_est & 437\\\\\n\t YVP NC294 2020-05-09 & YVP NC294 & 2020 & N & C & 294 & cover\\_est & 437\\\\\n\t YVP NC294 2020-05-09 & YVP NC294 & 2020 & N & C & 294 & cover\\_est & 437\\\\\n\t YVP NC294 2020-05-09 & YVP NC294 & 2020 & N & C & 294 & cover\\_est & 439\\\\\n\t YVP NC294 2020-05-09 & YVP NC294 & 2020 & N & C & 294 & cover\\_est & 439\\\\\n\t YVP NC294 2020-05-09 & YVP NC294 & 2020 & N & C & 294 & cover\\_est & 439\\\\\n\t YVP NC294 2020-05-09 & YVP NC294 & 2020 & N & C & 294 & cover\\_est & 484\\\\\n\t YVP NC294 2020-05-09 & YVP NC294 & 2020 & N & C & 294 & cover\\_est & 522\\\\\n\t YVP NC294 2020-05-09 & YVP NC294 & 2020 & N & C & 294 & cover\\_est & 522\\\\\n\t YVP NC294 2020-05-09 & YVP NC294 & 2020 & N & C & 294 & cover\\_est & 529\\\\\n\t YVP NC294 2020-05-09 & YVP NC294 & 2020 & N & C & 294 & cover\\_est & 529\\\\\n\t YVP NC294 2020-05-09 & YVP NC294 & 2020 & N & C & 294 & cover\\_est & 529\\\\\n\t YVP NC294 2020-05-09 & YVP NC294 & 2020 & N & C & 294 & cover\\_est & 529\\\\\n\t YVP NC294 2020-05-09 & YVP NC294 & 2020 & N & C & 294 & cover\\_est & 529\\\\\n\t YVP NC294 2020-05-09 & YVP NC294 & 2020 & N & C & 294 & cover\\_est & 529\\\\\n\t YVP NC294 2020-05-09 & YVP NC294 & 2020 & N & C & 294 & cover\\_est & 529\\\\\n\t YVP NC294 2020-05-09 & YVP NC294 & 2020 & N & C & 294 & cover\\_est & 529\\\\\n\t YVP NC294 2020-05-09 & YVP NC294 & 2020 & N & C & 294 & cover\\_est & 562\\\\\n\t YVP NC294 2020-05-09 & YVP NC294 & 2020 & N & C & 294 & cover\\_est & 562\\\\\n\t YVP NC294 2020-05-09 & YVP NC294 & 2020 & N & C & 294 & cover\\_est & 562\\\\\n\t YVP NC294 2020-05-09 & YVP NC294 & 2020 & N & C & 294 & cover\\_est & 576\\\\\n\t YVP NC294 2020-05-09 & YVP NC294 & 2020 & N & C & 294 & cover\\_est & 576\\\\\n\t YVP NC294 2020-05-09 & YVP NC294 & 2020 & N & C & 294 & cover\\_est & 576\\\\\n\t YVP NC294 2020-05-09 & YVP NC294 & 2020 & N & C & 294 & cover\\_est & 576\\\\\n\\end{tabular}\n",
            "text/markdown": "\nA grouped_df: 27281 × 8\n\n| survey_code &lt;chr&gt; | plot_code &lt;chr&gt; | year &lt;chr&gt; | plot_loc &lt;chr&gt; | plot_rep &lt;chr&gt; | grid_point &lt;int&gt; | detection_type &lt;chr&gt; | key_plant_species &lt;int&gt; |\n|---|---|---|---|---|---|---|---|\n| YVP 10 2017-06-09 | YVP 10 | 2017 | NA | NA | 10 | cover_est |   5 |\n| YVP 10 2017-06-09 | YVP 10 | 2017 | NA | NA | 10 | cover_est |  37 |\n| YVP 10 2017-06-09 | YVP 10 | 2017 | NA | NA | 10 | cover_est |  37 |\n| YVP 10 2017-06-09 | YVP 10 | 2017 | NA | NA | 10 | cover_est |  39 |\n| YVP 10 2017-06-09 | YVP 10 | 2017 | NA | NA | 10 | cover_est |  39 |\n| YVP 10 2017-06-09 | YVP 10 | 2017 | NA | NA | 10 | cover_est |  51 |\n| YVP 10 2017-06-09 | YVP 10 | 2017 | NA | NA | 10 | cover_est |  82 |\n| YVP 10 2017-06-09 | YVP 10 | 2017 | NA | NA | 10 | cover_est |  84 |\n| YVP 10 2017-06-09 | YVP 10 | 2017 | NA | NA | 10 | cover_est |  90 |\n| YVP 10 2017-06-09 | YVP 10 | 2017 | NA | NA | 10 | cover_est |  90 |\n| YVP 10 2017-06-09 | YVP 10 | 2017 | NA | NA | 10 | cover_est | 153 |\n| YVP 10 2017-06-09 | YVP 10 | 2017 | NA | NA | 10 | cover_est | 153 |\n| YVP 10 2017-06-09 | YVP 10 | 2017 | NA | NA | 10 | cover_est | 163 |\n| YVP 10 2017-06-09 | YVP 10 | 2017 | NA | NA | 10 | cover_est | 163 |\n| YVP 10 2017-06-09 | YVP 10 | 2017 | NA | NA | 10 | cover_est | 169 |\n| YVP 10 2017-06-09 | YVP 10 | 2017 | NA | NA | 10 | cover_est | 187 |\n| YVP 10 2017-06-09 | YVP 10 | 2017 | NA | NA | 10 | cover_est | 187 |\n| YVP 10 2017-06-09 | YVP 10 | 2017 | NA | NA | 10 | cover_est | 187 |\n| YVP 10 2017-06-09 | YVP 10 | 2017 | NA | NA | 10 | cover_est | 202 |\n| YVP 10 2017-06-09 | YVP 10 | 2017 | NA | NA | 10 | cover_est | 230 |\n| YVP 10 2017-06-09 | YVP 10 | 2017 | NA | NA | 10 | cover_est | 230 |\n| YVP 10 2017-06-09 | YVP 10 | 2017 | NA | NA | 10 | cover_est | 230 |\n| YVP 10 2017-06-09 | YVP 10 | 2017 | NA | NA | 10 | cover_est | 230 |\n| YVP 10 2017-06-09 | YVP 10 | 2017 | NA | NA | 10 | cover_est | 230 |\n| YVP 10 2017-06-09 | YVP 10 | 2017 | NA | NA | 10 | cover_est | 230 |\n| YVP 10 2017-06-09 | YVP 10 | 2017 | NA | NA | 10 | cover_est | 230 |\n| YVP 10 2017-06-09 | YVP 10 | 2017 | NA | NA | 10 | cover_est | 232 |\n| YVP 10 2017-06-09 | YVP 10 | 2017 | NA | NA | 10 | cover_est | 232 |\n| YVP 10 2017-06-09 | YVP 10 | 2017 | NA | NA | 10 | cover_est | 232 |\n| YVP 10 2017-06-09 | YVP 10 | 2017 | NA | NA | 10 | cover_est | 232 |\n| ⋮ | ⋮ | ⋮ | ⋮ | ⋮ | ⋮ | ⋮ | ⋮ |\n| YVP NC294 2020-05-09 | YVP NC294 | 2020 | N | C | 294 | cover_est | 428 |\n| YVP NC294 2020-05-09 | YVP NC294 | 2020 | N | C | 294 | cover_est | 437 |\n| YVP NC294 2020-05-09 | YVP NC294 | 2020 | N | C | 294 | cover_est | 437 |\n| YVP NC294 2020-05-09 | YVP NC294 | 2020 | N | C | 294 | cover_est | 437 |\n| YVP NC294 2020-05-09 | YVP NC294 | 2020 | N | C | 294 | cover_est | 437 |\n| YVP NC294 2020-05-09 | YVP NC294 | 2020 | N | C | 294 | cover_est | 437 |\n| YVP NC294 2020-05-09 | YVP NC294 | 2020 | N | C | 294 | cover_est | 437 |\n| YVP NC294 2020-05-09 | YVP NC294 | 2020 | N | C | 294 | cover_est | 437 |\n| YVP NC294 2020-05-09 | YVP NC294 | 2020 | N | C | 294 | cover_est | 437 |\n| YVP NC294 2020-05-09 | YVP NC294 | 2020 | N | C | 294 | cover_est | 439 |\n| YVP NC294 2020-05-09 | YVP NC294 | 2020 | N | C | 294 | cover_est | 439 |\n| YVP NC294 2020-05-09 | YVP NC294 | 2020 | N | C | 294 | cover_est | 439 |\n| YVP NC294 2020-05-09 | YVP NC294 | 2020 | N | C | 294 | cover_est | 484 |\n| YVP NC294 2020-05-09 | YVP NC294 | 2020 | N | C | 294 | cover_est | 522 |\n| YVP NC294 2020-05-09 | YVP NC294 | 2020 | N | C | 294 | cover_est | 522 |\n| YVP NC294 2020-05-09 | YVP NC294 | 2020 | N | C | 294 | cover_est | 529 |\n| YVP NC294 2020-05-09 | YVP NC294 | 2020 | N | C | 294 | cover_est | 529 |\n| YVP NC294 2020-05-09 | YVP NC294 | 2020 | N | C | 294 | cover_est | 529 |\n| YVP NC294 2020-05-09 | YVP NC294 | 2020 | N | C | 294 | cover_est | 529 |\n| YVP NC294 2020-05-09 | YVP NC294 | 2020 | N | C | 294 | cover_est | 529 |\n| YVP NC294 2020-05-09 | YVP NC294 | 2020 | N | C | 294 | cover_est | 529 |\n| YVP NC294 2020-05-09 | YVP NC294 | 2020 | N | C | 294 | cover_est | 529 |\n| YVP NC294 2020-05-09 | YVP NC294 | 2020 | N | C | 294 | cover_est | 529 |\n| YVP NC294 2020-05-09 | YVP NC294 | 2020 | N | C | 294 | cover_est | 562 |\n| YVP NC294 2020-05-09 | YVP NC294 | 2020 | N | C | 294 | cover_est | 562 |\n| YVP NC294 2020-05-09 | YVP NC294 | 2020 | N | C | 294 | cover_est | 562 |\n| YVP NC294 2020-05-09 | YVP NC294 | 2020 | N | C | 294 | cover_est | 576 |\n| YVP NC294 2020-05-09 | YVP NC294 | 2020 | N | C | 294 | cover_est | 576 |\n| YVP NC294 2020-05-09 | YVP NC294 | 2020 | N | C | 294 | cover_est | 576 |\n| YVP NC294 2020-05-09 | YVP NC294 | 2020 | N | C | 294 | cover_est | 576 |\n\n",
            "text/html": [
              "<table>\n",
              "<caption>A grouped_df: 27281 × 8</caption>\n",
              "<thead>\n",
              "\t<tr><th scope=col>survey_code</th><th scope=col>plot_code</th><th scope=col>year</th><th scope=col>plot_loc</th><th scope=col>plot_rep</th><th scope=col>grid_point</th><th scope=col>detection_type</th><th scope=col>key_plant_species</th></tr>\n",
              "\t<tr><th scope=col>&lt;chr&gt;</th><th scope=col>&lt;chr&gt;</th><th scope=col>&lt;chr&gt;</th><th scope=col>&lt;chr&gt;</th><th scope=col>&lt;chr&gt;</th><th scope=col>&lt;int&gt;</th><th scope=col>&lt;chr&gt;</th><th scope=col>&lt;int&gt;</th></tr>\n",
              "</thead>\n",
              "<tbody>\n",
              "\t<tr><td>YVP 10 2017-06-09</td><td>YVP 10</td><td>2017</td><td>NA</td><td>NA</td><td>10</td><td>cover_est</td><td>  5</td></tr>\n",
              "\t<tr><td>YVP 10 2017-06-09</td><td>YVP 10</td><td>2017</td><td>NA</td><td>NA</td><td>10</td><td>cover_est</td><td> 37</td></tr>\n",
              "\t<tr><td>YVP 10 2017-06-09</td><td>YVP 10</td><td>2017</td><td>NA</td><td>NA</td><td>10</td><td>cover_est</td><td> 37</td></tr>\n",
              "\t<tr><td>YVP 10 2017-06-09</td><td>YVP 10</td><td>2017</td><td>NA</td><td>NA</td><td>10</td><td>cover_est</td><td> 39</td></tr>\n",
              "\t<tr><td>YVP 10 2017-06-09</td><td>YVP 10</td><td>2017</td><td>NA</td><td>NA</td><td>10</td><td>cover_est</td><td> 39</td></tr>\n",
              "\t<tr><td>YVP 10 2017-06-09</td><td>YVP 10</td><td>2017</td><td>NA</td><td>NA</td><td>10</td><td>cover_est</td><td> 51</td></tr>\n",
              "\t<tr><td>YVP 10 2017-06-09</td><td>YVP 10</td><td>2017</td><td>NA</td><td>NA</td><td>10</td><td>cover_est</td><td> 82</td></tr>\n",
              "\t<tr><td>YVP 10 2017-06-09</td><td>YVP 10</td><td>2017</td><td>NA</td><td>NA</td><td>10</td><td>cover_est</td><td> 84</td></tr>\n",
              "\t<tr><td>YVP 10 2017-06-09</td><td>YVP 10</td><td>2017</td><td>NA</td><td>NA</td><td>10</td><td>cover_est</td><td> 90</td></tr>\n",
              "\t<tr><td>YVP 10 2017-06-09</td><td>YVP 10</td><td>2017</td><td>NA</td><td>NA</td><td>10</td><td>cover_est</td><td> 90</td></tr>\n",
              "\t<tr><td>YVP 10 2017-06-09</td><td>YVP 10</td><td>2017</td><td>NA</td><td>NA</td><td>10</td><td>cover_est</td><td>153</td></tr>\n",
              "\t<tr><td>YVP 10 2017-06-09</td><td>YVP 10</td><td>2017</td><td>NA</td><td>NA</td><td>10</td><td>cover_est</td><td>153</td></tr>\n",
              "\t<tr><td>YVP 10 2017-06-09</td><td>YVP 10</td><td>2017</td><td>NA</td><td>NA</td><td>10</td><td>cover_est</td><td>163</td></tr>\n",
              "\t<tr><td>YVP 10 2017-06-09</td><td>YVP 10</td><td>2017</td><td>NA</td><td>NA</td><td>10</td><td>cover_est</td><td>163</td></tr>\n",
              "\t<tr><td>YVP 10 2017-06-09</td><td>YVP 10</td><td>2017</td><td>NA</td><td>NA</td><td>10</td><td>cover_est</td><td>169</td></tr>\n",
              "\t<tr><td>YVP 10 2017-06-09</td><td>YVP 10</td><td>2017</td><td>NA</td><td>NA</td><td>10</td><td>cover_est</td><td>187</td></tr>\n",
              "\t<tr><td>YVP 10 2017-06-09</td><td>YVP 10</td><td>2017</td><td>NA</td><td>NA</td><td>10</td><td>cover_est</td><td>187</td></tr>\n",
              "\t<tr><td>YVP 10 2017-06-09</td><td>YVP 10</td><td>2017</td><td>NA</td><td>NA</td><td>10</td><td>cover_est</td><td>187</td></tr>\n",
              "\t<tr><td>YVP 10 2017-06-09</td><td>YVP 10</td><td>2017</td><td>NA</td><td>NA</td><td>10</td><td>cover_est</td><td>202</td></tr>\n",
              "\t<tr><td>YVP 10 2017-06-09</td><td>YVP 10</td><td>2017</td><td>NA</td><td>NA</td><td>10</td><td>cover_est</td><td>230</td></tr>\n",
              "\t<tr><td>YVP 10 2017-06-09</td><td>YVP 10</td><td>2017</td><td>NA</td><td>NA</td><td>10</td><td>cover_est</td><td>230</td></tr>\n",
              "\t<tr><td>YVP 10 2017-06-09</td><td>YVP 10</td><td>2017</td><td>NA</td><td>NA</td><td>10</td><td>cover_est</td><td>230</td></tr>\n",
              "\t<tr><td>YVP 10 2017-06-09</td><td>YVP 10</td><td>2017</td><td>NA</td><td>NA</td><td>10</td><td>cover_est</td><td>230</td></tr>\n",
              "\t<tr><td>YVP 10 2017-06-09</td><td>YVP 10</td><td>2017</td><td>NA</td><td>NA</td><td>10</td><td>cover_est</td><td>230</td></tr>\n",
              "\t<tr><td>YVP 10 2017-06-09</td><td>YVP 10</td><td>2017</td><td>NA</td><td>NA</td><td>10</td><td>cover_est</td><td>230</td></tr>\n",
              "\t<tr><td>YVP 10 2017-06-09</td><td>YVP 10</td><td>2017</td><td>NA</td><td>NA</td><td>10</td><td>cover_est</td><td>230</td></tr>\n",
              "\t<tr><td>YVP 10 2017-06-09</td><td>YVP 10</td><td>2017</td><td>NA</td><td>NA</td><td>10</td><td>cover_est</td><td>232</td></tr>\n",
              "\t<tr><td>YVP 10 2017-06-09</td><td>YVP 10</td><td>2017</td><td>NA</td><td>NA</td><td>10</td><td>cover_est</td><td>232</td></tr>\n",
              "\t<tr><td>YVP 10 2017-06-09</td><td>YVP 10</td><td>2017</td><td>NA</td><td>NA</td><td>10</td><td>cover_est</td><td>232</td></tr>\n",
              "\t<tr><td>YVP 10 2017-06-09</td><td>YVP 10</td><td>2017</td><td>NA</td><td>NA</td><td>10</td><td>cover_est</td><td>232</td></tr>\n",
              "\t<tr><td>⋮</td><td>⋮</td><td>⋮</td><td>⋮</td><td>⋮</td><td>⋮</td><td>⋮</td><td>⋮</td></tr>\n",
              "\t<tr><td>YVP NC294 2020-05-09</td><td>YVP NC294</td><td>2020</td><td>N</td><td>C</td><td>294</td><td>cover_est</td><td>428</td></tr>\n",
              "\t<tr><td>YVP NC294 2020-05-09</td><td>YVP NC294</td><td>2020</td><td>N</td><td>C</td><td>294</td><td>cover_est</td><td>437</td></tr>\n",
              "\t<tr><td>YVP NC294 2020-05-09</td><td>YVP NC294</td><td>2020</td><td>N</td><td>C</td><td>294</td><td>cover_est</td><td>437</td></tr>\n",
              "\t<tr><td>YVP NC294 2020-05-09</td><td>YVP NC294</td><td>2020</td><td>N</td><td>C</td><td>294</td><td>cover_est</td><td>437</td></tr>\n",
              "\t<tr><td>YVP NC294 2020-05-09</td><td>YVP NC294</td><td>2020</td><td>N</td><td>C</td><td>294</td><td>cover_est</td><td>437</td></tr>\n",
              "\t<tr><td>YVP NC294 2020-05-09</td><td>YVP NC294</td><td>2020</td><td>N</td><td>C</td><td>294</td><td>cover_est</td><td>437</td></tr>\n",
              "\t<tr><td>YVP NC294 2020-05-09</td><td>YVP NC294</td><td>2020</td><td>N</td><td>C</td><td>294</td><td>cover_est</td><td>437</td></tr>\n",
              "\t<tr><td>YVP NC294 2020-05-09</td><td>YVP NC294</td><td>2020</td><td>N</td><td>C</td><td>294</td><td>cover_est</td><td>437</td></tr>\n",
              "\t<tr><td>YVP NC294 2020-05-09</td><td>YVP NC294</td><td>2020</td><td>N</td><td>C</td><td>294</td><td>cover_est</td><td>437</td></tr>\n",
              "\t<tr><td>YVP NC294 2020-05-09</td><td>YVP NC294</td><td>2020</td><td>N</td><td>C</td><td>294</td><td>cover_est</td><td>439</td></tr>\n",
              "\t<tr><td>YVP NC294 2020-05-09</td><td>YVP NC294</td><td>2020</td><td>N</td><td>C</td><td>294</td><td>cover_est</td><td>439</td></tr>\n",
              "\t<tr><td>YVP NC294 2020-05-09</td><td>YVP NC294</td><td>2020</td><td>N</td><td>C</td><td>294</td><td>cover_est</td><td>439</td></tr>\n",
              "\t<tr><td>YVP NC294 2020-05-09</td><td>YVP NC294</td><td>2020</td><td>N</td><td>C</td><td>294</td><td>cover_est</td><td>484</td></tr>\n",
              "\t<tr><td>YVP NC294 2020-05-09</td><td>YVP NC294</td><td>2020</td><td>N</td><td>C</td><td>294</td><td>cover_est</td><td>522</td></tr>\n",
              "\t<tr><td>YVP NC294 2020-05-09</td><td>YVP NC294</td><td>2020</td><td>N</td><td>C</td><td>294</td><td>cover_est</td><td>522</td></tr>\n",
              "\t<tr><td>YVP NC294 2020-05-09</td><td>YVP NC294</td><td>2020</td><td>N</td><td>C</td><td>294</td><td>cover_est</td><td>529</td></tr>\n",
              "\t<tr><td>YVP NC294 2020-05-09</td><td>YVP NC294</td><td>2020</td><td>N</td><td>C</td><td>294</td><td>cover_est</td><td>529</td></tr>\n",
              "\t<tr><td>YVP NC294 2020-05-09</td><td>YVP NC294</td><td>2020</td><td>N</td><td>C</td><td>294</td><td>cover_est</td><td>529</td></tr>\n",
              "\t<tr><td>YVP NC294 2020-05-09</td><td>YVP NC294</td><td>2020</td><td>N</td><td>C</td><td>294</td><td>cover_est</td><td>529</td></tr>\n",
              "\t<tr><td>YVP NC294 2020-05-09</td><td>YVP NC294</td><td>2020</td><td>N</td><td>C</td><td>294</td><td>cover_est</td><td>529</td></tr>\n",
              "\t<tr><td>YVP NC294 2020-05-09</td><td>YVP NC294</td><td>2020</td><td>N</td><td>C</td><td>294</td><td>cover_est</td><td>529</td></tr>\n",
              "\t<tr><td>YVP NC294 2020-05-09</td><td>YVP NC294</td><td>2020</td><td>N</td><td>C</td><td>294</td><td>cover_est</td><td>529</td></tr>\n",
              "\t<tr><td>YVP NC294 2020-05-09</td><td>YVP NC294</td><td>2020</td><td>N</td><td>C</td><td>294</td><td>cover_est</td><td>529</td></tr>\n",
              "\t<tr><td>YVP NC294 2020-05-09</td><td>YVP NC294</td><td>2020</td><td>N</td><td>C</td><td>294</td><td>cover_est</td><td>562</td></tr>\n",
              "\t<tr><td>YVP NC294 2020-05-09</td><td>YVP NC294</td><td>2020</td><td>N</td><td>C</td><td>294</td><td>cover_est</td><td>562</td></tr>\n",
              "\t<tr><td>YVP NC294 2020-05-09</td><td>YVP NC294</td><td>2020</td><td>N</td><td>C</td><td>294</td><td>cover_est</td><td>562</td></tr>\n",
              "\t<tr><td>YVP NC294 2020-05-09</td><td>YVP NC294</td><td>2020</td><td>N</td><td>C</td><td>294</td><td>cover_est</td><td>576</td></tr>\n",
              "\t<tr><td>YVP NC294 2020-05-09</td><td>YVP NC294</td><td>2020</td><td>N</td><td>C</td><td>294</td><td>cover_est</td><td>576</td></tr>\n",
              "\t<tr><td>YVP NC294 2020-05-09</td><td>YVP NC294</td><td>2020</td><td>N</td><td>C</td><td>294</td><td>cover_est</td><td>576</td></tr>\n",
              "\t<tr><td>YVP NC294 2020-05-09</td><td>YVP NC294</td><td>2020</td><td>N</td><td>C</td><td>294</td><td>cover_est</td><td>576</td></tr>\n",
              "</tbody>\n",
              "</table>\n"
            ]
          },
          "metadata": {
            "tags": []
          }
        }
      ]
    },
    {
      "cell_type": "code",
      "metadata": {
        "id": "ZyjOWuewcPKs",
        "outputId": "96877640-9b52-4288-86ce-995bae67b6de",
        "colab": {
          "base_uri": "https://localhost:8080/"
        }
      },
      "source": [
        "# remove duplicate species records per survey\n",
        "df_vegetation_cover <- df_vegetation_cover %>%\n",
        "  group_by(survey_code) %>%\n",
        "  distinct() %>%\n",
        "  arrange(desc(survey_code), key_plant_species) %>% glimpse()"
      ],
      "execution_count": 53,
      "outputs": [
        {
          "output_type": "stream",
          "text": [
            "Rows: 6,622\n",
            "Columns: 8\n",
            "Groups: survey_code [233]\n",
            "$ survey_code       \u001b[3m\u001b[90m<chr>\u001b[39m\u001b[23m \"YVP NC294 2020-05-09\", \"YVP NC294 2020-05-09\", \"YV…\n",
            "$ plot_code         \u001b[3m\u001b[90m<chr>\u001b[39m\u001b[23m \"YVP NC294\", \"YVP NC294\", \"YVP NC294\", \"YVP NC294\",…\n",
            "$ year              \u001b[3m\u001b[90m<chr>\u001b[39m\u001b[23m \"2020\", \"2020\", \"2020\", \"2020\", \"2020\", \"2020\", \"20…\n",
            "$ plot_loc          \u001b[3m\u001b[90m<chr>\u001b[39m\u001b[23m \"N\", \"N\", \"N\", \"N\", \"N\", \"N\", \"N\", \"N\", \"N\", \"N\", \"…\n",
            "$ plot_rep          \u001b[3m\u001b[90m<chr>\u001b[39m\u001b[23m \"C\", \"C\", \"C\", \"C\", \"C\", \"C\", \"C\", \"C\", \"C\", \"C\", \"…\n",
            "$ grid_point        \u001b[3m\u001b[90m<int>\u001b[39m\u001b[23m 294, 294, 294, 294, 294, 294, 294, 294, 294, 294, 2…\n",
            "$ detection_type    \u001b[3m\u001b[90m<chr>\u001b[39m\u001b[23m \"cover_est\", \"cover_est\", \"cover_est\", \"cover_est\",…\n",
            "$ key_plant_species \u001b[3m\u001b[90m<int>\u001b[39m\u001b[23m 5, 20, 52, 57, 72, 74, 82, 174, 183, 187, 220, 230,…\n"
          ],
          "name": "stdout"
        }
      ]
    },
    {
      "cell_type": "markdown",
      "metadata": {
        "id": "GZGdgx0XoJXj"
      },
      "source": [
        "### yvp_additional_species"
      ]
    },
    {
      "cell_type": "code",
      "metadata": {
        "id": "qdU3Oh9voFGI",
        "outputId": "6578d081-7e70-478a-9670-01da3719de19",
        "colab": {
          "base_uri": "https://localhost:8080/"
        }
      },
      "source": [
        "df_additional_species %>% glimpse()"
      ],
      "execution_count": 54,
      "outputs": [
        {
          "output_type": "stream",
          "text": [
            "Rows: 1,990\n",
            "Columns: 8\n",
            "$ survey_code       \u001b[3m\u001b[90m<chr>\u001b[39m\u001b[23m \"YVP 10 2020-06-27\", \"YVP 10 2020-06-27\", \"YVP 10 2…\n",
            "$ plot_code         \u001b[3m\u001b[90m<chr>\u001b[39m\u001b[23m \"YVP 10\", \"YVP 10\", \"YVP 10\", \"YVP 10\", \"YVP 12\", \"…\n",
            "$ year              \u001b[3m\u001b[90m<chr>\u001b[39m\u001b[23m \"2020\", \"2020\", \"2020\", \"2020\", \"2020\", \"2020\", \"20…\n",
            "$ plot_loc          \u001b[3m\u001b[90m<chr>\u001b[39m\u001b[23m NA, NA, NA, NA, NA, NA, NA, NA, NA, NA, NA, NA, NA,…\n",
            "$ plot_rep          \u001b[3m\u001b[90m<chr>\u001b[39m\u001b[23m NA, NA, NA, NA, NA, NA, NA, NA, NA, NA, NA, NA, NA,…\n",
            "$ grid_point        \u001b[3m\u001b[90m<int>\u001b[39m\u001b[23m 10, 10, 10, 10, 12, 12, 12, 12, 12, 20, 20, 20, 20,…\n",
            "$ detection_type    \u001b[3m\u001b[90m<chr>\u001b[39m\u001b[23m \"supplemental_obs\", \"supplemental_obs\", \"supplement…\n",
            "$ key_plant_species \u001b[3m\u001b[90m<int>\u001b[39m\u001b[23m 169, 163, 72, 16, 365, 63, 212, 250, 220, 315, 163,…\n"
          ],
          "name": "stdout"
        }
      ]
    },
    {
      "cell_type": "code",
      "metadata": {
        "id": "xeTRKyTEoFC_",
        "outputId": "a4e091b4-63d2-4aa9-c08d-d58cc032a3b3",
        "colab": {
          "base_uri": "https://localhost:8080/"
        }
      },
      "source": [
        "# remove duplicates per survey\n",
        "df_additional_species <- df_additional_species %>%\n",
        "  group_by(survey_code) %>%\n",
        "  distinct() %>%\n",
        "  arrange(desc(survey_code), key_plant_species) %>% glimpse()"
      ],
      "execution_count": 56,
      "outputs": [
        {
          "output_type": "stream",
          "text": [
            "Rows: 1,977\n",
            "Columns: 8\n",
            "Groups: survey_code [236]\n",
            "$ survey_code       \u001b[3m\u001b[90m<chr>\u001b[39m\u001b[23m \"YVP NC294 2020-05-09\", \"YVP NC294 2020-05-09\", \"YV…\n",
            "$ plot_code         \u001b[3m\u001b[90m<chr>\u001b[39m\u001b[23m \"YVP NC294\", \"YVP NC294\", \"YVP NC294\", \"YVP NC294\",…\n",
            "$ year              \u001b[3m\u001b[90m<chr>\u001b[39m\u001b[23m \"2020\", \"2020\", \"2020\", \"2020\", \"2020\", \"2020\", \"20…\n",
            "$ plot_loc          \u001b[3m\u001b[90m<chr>\u001b[39m\u001b[23m \"N\", \"N\", \"N\", \"N\", \"N\", \"N\", \"N\", \"N\", \"N\", \"N\", \"…\n",
            "$ plot_rep          \u001b[3m\u001b[90m<chr>\u001b[39m\u001b[23m \"C\", \"C\", \"C\", \"C\", \"C\", \"C\", \"C\", \"C\", \"C\", \"C\", \"…\n",
            "$ grid_point        \u001b[3m\u001b[90m<int>\u001b[39m\u001b[23m 294, 294, 294, 294, 294, 294, 294, 294, 294, 294, 2…\n",
            "$ detection_type    \u001b[3m\u001b[90m<chr>\u001b[39m\u001b[23m \"supplemental_obs\", \"supplemental_obs\", \"supplement…\n",
            "$ key_plant_species \u001b[3m\u001b[90m<int>\u001b[39m\u001b[23m 31, 36, 84, 178, 183, 216, 316, 342, 362, 484, 31, …\n"
          ],
          "name": "stdout"
        }
      ]
    },
    {
      "cell_type": "markdown",
      "metadata": {
        "id": "_YIqQyt44NR-"
      },
      "source": [
        "## Combine dataframes"
      ]
    },
    {
      "cell_type": "code",
      "metadata": {
        "id": "xHrPqTn5oE_y",
        "outputId": "564e297f-43e1-4b55-e535-98d7ad6fcf10",
        "colab": {
          "base_uri": "https://localhost:8080/"
        }
      },
      "source": [
        "species_richness <- union(df_vegetation_cover, df_additional_species) %>% glimpse()"
      ],
      "execution_count": 57,
      "outputs": [
        {
          "output_type": "stream",
          "text": [
            "Rows: 8,599\n",
            "Columns: 8\n",
            "Groups: survey_code [245]\n",
            "$ survey_code       \u001b[3m\u001b[90m<chr>\u001b[39m\u001b[23m \"YVP NC294 2020-05-09\", \"YVP NC294 2020-05-09\", \"YV…\n",
            "$ plot_code         \u001b[3m\u001b[90m<chr>\u001b[39m\u001b[23m \"YVP NC294\", \"YVP NC294\", \"YVP NC294\", \"YVP NC294\",…\n",
            "$ year              \u001b[3m\u001b[90m<chr>\u001b[39m\u001b[23m \"2020\", \"2020\", \"2020\", \"2020\", \"2020\", \"2020\", \"20…\n",
            "$ plot_loc          \u001b[3m\u001b[90m<chr>\u001b[39m\u001b[23m \"N\", \"N\", \"N\", \"N\", \"N\", \"N\", \"N\", \"N\", \"N\", \"N\", \"…\n",
            "$ plot_rep          \u001b[3m\u001b[90m<chr>\u001b[39m\u001b[23m \"C\", \"C\", \"C\", \"C\", \"C\", \"C\", \"C\", \"C\", \"C\", \"C\", \"…\n",
            "$ grid_point        \u001b[3m\u001b[90m<int>\u001b[39m\u001b[23m 294, 294, 294, 294, 294, 294, 294, 294, 294, 294, 2…\n",
            "$ detection_type    \u001b[3m\u001b[90m<chr>\u001b[39m\u001b[23m \"cover_est\", \"cover_est\", \"cover_est\", \"cover_est\",…\n",
            "$ key_plant_species \u001b[3m\u001b[90m<int>\u001b[39m\u001b[23m 5, 20, 52, 57, 72, 74, 82, 174, 183, 187, 220, 230,…\n"
          ],
          "name": "stdout"
        }
      ]
    },
    {
      "cell_type": "code",
      "metadata": {
        "id": "2QTpItz6oE8y",
        "outputId": "8e6e32d1-5762-40ca-a1c5-1d16231e4de1",
        "colab": {
          "base_uri": "https://localhost:8080/"
        }
      },
      "source": [
        "# look for duplicates\n",
        "duplicate_detections <- species_richness %>%\n",
        "  group_by(survey_code) %>%\n",
        "  count(key_plant_species) %>%\n",
        "  filter(n > 1) %>%\n",
        "  arrange(survey_code, key_plant_species) %>% glimpse()"
      ],
      "execution_count": 58,
      "outputs": [
        {
          "output_type": "stream",
          "text": [
            "Rows: 292\n",
            "Columns: 3\n",
            "Groups: survey_code [115]\n",
            "$ survey_code       \u001b[3m\u001b[90m<chr>\u001b[39m\u001b[23m \"YVP 10 2018-07-12\", \"YVP 10 2018-07-12\", \"YVP 10 2…\n",
            "$ key_plant_species \u001b[3m\u001b[90m<int>\u001b[39m\u001b[23m 16, 433, 16, 220, 433, 16, 163, 169, 212, 433, 39, …\n",
            "$ n                 \u001b[3m\u001b[90m<int>\u001b[39m\u001b[23m 2, 2, 2, 2, 2, 2, 2, 2, 2, 2, 2, 2, 2, 2, 2, 2, 2, …\n"
          ],
          "name": "stdout"
        }
      ]
    },
    {
      "cell_type": "markdown",
      "metadata": {
        "id": "KHWZRiD59t9A"
      },
      "source": [
        "## Remove redundant detections"
      ]
    },
    {
      "cell_type": "code",
      "metadata": {
        "id": "e6XuByNoZEDH",
        "outputId": "d58f737e-8c9a-418a-fbff-75798856326d",
        "colab": {
          "base_uri": "https://localhost:8080/"
        }
      },
      "source": [
        "duplicate_detections <- duplicate_detections %>%\n",
        "  mutate(mask = paste(survey_code, key_plant_species)) %>%\n",
        "  select(!n) %>%\n",
        "  ungroup() %>% glimpse()"
      ],
      "execution_count": 59,
      "outputs": [
        {
          "output_type": "stream",
          "text": [
            "Rows: 292\n",
            "Columns: 3\n",
            "$ survey_code       \u001b[3m\u001b[90m<chr>\u001b[39m\u001b[23m \"YVP 10 2018-07-12\", \"YVP 10 2018-07-12\", \"YVP 10 2…\n",
            "$ key_plant_species \u001b[3m\u001b[90m<int>\u001b[39m\u001b[23m 16, 433, 16, 220, 433, 16, 163, 169, 212, 433, 39, …\n",
            "$ mask              \u001b[3m\u001b[90m<chr>\u001b[39m\u001b[23m \"YVP 10 2018-07-12 16\", \"YVP 10 2018-07-12 433\", \"Y…\n"
          ],
          "name": "stdout"
        }
      ]
    },
    {
      "cell_type": "code",
      "metadata": {
        "id": "_csMCmeA9vig",
        "outputId": "e14ff9a2-25b9-4d59-fb7a-e3fa9f9ef23f",
        "colab": {
          "base_uri": "https://localhost:8080/"
        }
      },
      "source": [
        "# subset surveys with no redundancy\n",
        "species_richness_x <- species_richness %>%\n",
        "  ungroup() %>%\n",
        "  mutate(mask = paste(survey_code, key_plant_species)) %>%\n",
        "  filter(!mask %in% duplicate_detections$mask) %>%\n",
        "  arrange(survey_code, key_plant_species) %>% glimpse()"
      ],
      "execution_count": 60,
      "outputs": [
        {
          "output_type": "stream",
          "text": [
            "Rows: 8,015\n",
            "Columns: 9\n",
            "$ survey_code       \u001b[3m\u001b[90m<chr>\u001b[39m\u001b[23m \"YVP 10 2017-06-09\", \"YVP 10 2017-06-09\", \"YVP 10 2…\n",
            "$ plot_code         \u001b[3m\u001b[90m<chr>\u001b[39m\u001b[23m \"YVP 10\", \"YVP 10\", \"YVP 10\", \"YVP 10\", \"YVP 10\", \"…\n",
            "$ year              \u001b[3m\u001b[90m<chr>\u001b[39m\u001b[23m \"2017\", \"2017\", \"2017\", \"2017\", \"2017\", \"2017\", \"20…\n",
            "$ plot_loc          \u001b[3m\u001b[90m<chr>\u001b[39m\u001b[23m NA, NA, NA, NA, NA, NA, NA, NA, NA, NA, NA, NA, NA,…\n",
            "$ plot_rep          \u001b[3m\u001b[90m<chr>\u001b[39m\u001b[23m NA, NA, NA, NA, NA, NA, NA, NA, NA, NA, NA, NA, NA,…\n",
            "$ grid_point        \u001b[3m\u001b[90m<int>\u001b[39m\u001b[23m 10, 10, 10, 10, 10, 10, 10, 10, 10, 10, 10, 10, 10,…\n",
            "$ detection_type    \u001b[3m\u001b[90m<chr>\u001b[39m\u001b[23m \"cover_est\", \"cover_est\", \"cover_est\", \"cover_est\",…\n",
            "$ key_plant_species \u001b[3m\u001b[90m<int>\u001b[39m\u001b[23m 5, 37, 39, 51, 72, 82, 84, 90, 153, 163, 169, 187, …\n",
            "$ mask              \u001b[3m\u001b[90m<chr>\u001b[39m\u001b[23m \"YVP 10 2017-06-09 5\", \"YVP 10 2017-06-09 37\", \"YVP…\n"
          ],
          "name": "stdout"
        }
      ]
    },
    {
      "cell_type": "code",
      "metadata": {
        "id": "kKI-ZlHT2gFL",
        "outputId": "936a3d25-a22d-4415-d3d8-7d83a60e508a",
        "colab": {
          "base_uri": "https://localhost:8080/"
        }
      },
      "source": [
        "# subset surveys with redundancy\n",
        "species_richness_y <- species_richness %>%\n",
        "  ungroup() %>%\n",
        "  mutate(mask = paste(survey_code, key_plant_species)) %>%\n",
        "  filter(mask %in% duplicate_detections$mask, detection_type != \"supplemental_obs\") %>%\n",
        "  arrange(survey_code, key_plant_species) %>% glimpse()"
      ],
      "execution_count": 61,
      "outputs": [
        {
          "output_type": "stream",
          "text": [
            "Rows: 289\n",
            "Columns: 9\n",
            "$ survey_code       \u001b[3m\u001b[90m<chr>\u001b[39m\u001b[23m \"YVP 10 2018-07-12\", \"YVP 10 2018-07-12\", \"YVP 10 2…\n",
            "$ plot_code         \u001b[3m\u001b[90m<chr>\u001b[39m\u001b[23m \"YVP 10\", \"YVP 10\", \"YVP 10\", \"YVP 10\", \"YVP 10\", \"…\n",
            "$ year              \u001b[3m\u001b[90m<chr>\u001b[39m\u001b[23m \"2018\", \"2018\", \"2019\", \"2019\", \"2019\", \"2020\", \"20…\n",
            "$ plot_loc          \u001b[3m\u001b[90m<chr>\u001b[39m\u001b[23m NA, NA, NA, NA, NA, NA, NA, NA, NA, NA, NA, NA, NA,…\n",
            "$ plot_rep          \u001b[3m\u001b[90m<chr>\u001b[39m\u001b[23m NA, NA, NA, NA, NA, NA, NA, NA, NA, NA, NA, NA, NA,…\n",
            "$ grid_point        \u001b[3m\u001b[90m<int>\u001b[39m\u001b[23m 10, 10, 10, 10, 10, 10, 10, 10, 10, 10, 112, 112, 1…\n",
            "$ detection_type    \u001b[3m\u001b[90m<chr>\u001b[39m\u001b[23m \"cover_est\", \"cover_est\", \"cover_est\", \"cover_est\",…\n",
            "$ key_plant_species \u001b[3m\u001b[90m<int>\u001b[39m\u001b[23m 16, 433, 16, 220, 433, 16, 163, 169, 212, 433, 39, …\n",
            "$ mask              \u001b[3m\u001b[90m<chr>\u001b[39m\u001b[23m \"YVP 10 2018-07-12 16\", \"YVP 10 2018-07-12 433\", \"Y…\n"
          ],
          "name": "stdout"
        }
      ]
    },
    {
      "cell_type": "code",
      "metadata": {
        "id": "awS2zkzK93AD"
      },
      "source": [
        "# union x and y\n",
        "species_richness <- union(species_richness_x, species_richness_y)"
      ],
      "execution_count": 62,
      "outputs": []
    },
    {
      "cell_type": "code",
      "metadata": {
        "id": "G4Mf_bKG3bIl",
        "outputId": "0513153b-0bf9-477e-a784-f78972a09648",
        "colab": {
          "base_uri": "https://localhost:8080/"
        }
      },
      "source": [
        "species_richness <- species_richness %>%\n",
        "  select(!mask) %>%\n",
        "  group_by(survey_code) %>%\n",
        "  arrange(survey_code, key_plant_species) %>% glimpse()"
      ],
      "execution_count": 63,
      "outputs": [
        {
          "output_type": "stream",
          "text": [
            "Rows: 8,304\n",
            "Columns: 8\n",
            "Groups: survey_code [245]\n",
            "$ survey_code       \u001b[3m\u001b[90m<chr>\u001b[39m\u001b[23m \"YVP 10 2017-06-09\", \"YVP 10 2017-06-09\", \"YVP 10 2…\n",
            "$ plot_code         \u001b[3m\u001b[90m<chr>\u001b[39m\u001b[23m \"YVP 10\", \"YVP 10\", \"YVP 10\", \"YVP 10\", \"YVP 10\", \"…\n",
            "$ year              \u001b[3m\u001b[90m<chr>\u001b[39m\u001b[23m \"2017\", \"2017\", \"2017\", \"2017\", \"2017\", \"2017\", \"20…\n",
            "$ plot_loc          \u001b[3m\u001b[90m<chr>\u001b[39m\u001b[23m NA, NA, NA, NA, NA, NA, NA, NA, NA, NA, NA, NA, NA,…\n",
            "$ plot_rep          \u001b[3m\u001b[90m<chr>\u001b[39m\u001b[23m NA, NA, NA, NA, NA, NA, NA, NA, NA, NA, NA, NA, NA,…\n",
            "$ grid_point        \u001b[3m\u001b[90m<int>\u001b[39m\u001b[23m 10, 10, 10, 10, 10, 10, 10, 10, 10, 10, 10, 10, 10,…\n",
            "$ detection_type    \u001b[3m\u001b[90m<chr>\u001b[39m\u001b[23m \"cover_est\", \"cover_est\", \"cover_est\", \"cover_est\",…\n",
            "$ key_plant_species \u001b[3m\u001b[90m<int>\u001b[39m\u001b[23m 5, 37, 39, 51, 72, 82, 84, 90, 153, 163, 169, 187, …\n"
          ],
          "name": "stdout"
        }
      ]
    },
    {
      "cell_type": "markdown",
      "metadata": {
        "id": "v4bCekzq5QRR"
      },
      "source": [
        "# Join "
      ]
    },
    {
      "cell_type": "markdown",
      "metadata": {
        "id": "zfqtGrs6h4Cd"
      },
      "source": [
        "## location_position_classification"
      ]
    },
    {
      "cell_type": "code",
      "metadata": {
        "id": "SoibA4ey7F71"
      },
      "source": [
        "species_richness <- species_richness %>%\n",
        "  left_join(df_position_classification, by = c(\"grid_point\" = \"grid_point\"))"
      ],
      "execution_count": 65,
      "outputs": []
    },
    {
      "cell_type": "markdown",
      "metadata": {
        "id": "di6xaYvLh8y2"
      },
      "source": [
        "## vegetation_species_metadata"
      ]
    },
    {
      "cell_type": "code",
      "metadata": {
        "id": "DRh72yW09BfJ"
      },
      "source": [
        "species_richness <- species_richness %>%\n",
        "  left_join(df_species_metadata, by = c(\"key_plant_species\" = \"key_plant_species\"))"
      ],
      "execution_count": 67,
      "outputs": []
    },
    {
      "cell_type": "code",
      "metadata": {
        "id": "H2qwvdd0khxD",
        "outputId": "73292834-256c-4259-cd9a-ec5550e1eda0",
        "colab": {
          "base_uri": "https://localhost:8080/",
          "height": 51
        }
      },
      "source": [
        "names(species_richness)"
      ],
      "execution_count": 68,
      "outputs": [
        {
          "output_type": "display_data",
          "data": {
            "text/plain": [
              " [1] \"survey_code\"                 \"plot_code\"                  \n",
              " [3] \"year\"                        \"plot_loc\"                   \n",
              " [5] \"plot_rep\"                    \"grid_point\"                 \n",
              " [7] \"detection_type\"              \"key_plant_species\"          \n",
              " [9] \"aspect_mean_deg\"             \"elevation_mean_m\"           \n",
              "[11] \"slope_mean_deg\"              \"cover_type_2016_gridVeg\"    \n",
              "[13] \"type3_vegetation_indicators\" \"type4_indicators_history\"   \n",
              "[15] \"key_plant_code\"              \"plant_name_sci\"             \n",
              "[17] \"plant_name_common\"           \"plant_native_status\"        \n",
              "[19] \"plant_life_cycle\"            \"plant_life_form\"            "
            ],
            "text/latex": "\\begin{enumerate*}\n\\item 'survey\\_code'\n\\item 'plot\\_code'\n\\item 'year'\n\\item 'plot\\_loc'\n\\item 'plot\\_rep'\n\\item 'grid\\_point'\n\\item 'detection\\_type'\n\\item 'key\\_plant\\_species'\n\\item 'aspect\\_mean\\_deg'\n\\item 'elevation\\_mean\\_m'\n\\item 'slope\\_mean\\_deg'\n\\item 'cover\\_type\\_2016\\_gridVeg'\n\\item 'type3\\_vegetation\\_indicators'\n\\item 'type4\\_indicators\\_history'\n\\item 'key\\_plant\\_code'\n\\item 'plant\\_name\\_sci'\n\\item 'plant\\_name\\_common'\n\\item 'plant\\_native\\_status'\n\\item 'plant\\_life\\_cycle'\n\\item 'plant\\_life\\_form'\n\\end{enumerate*}\n",
            "text/markdown": "1. 'survey_code'\n2. 'plot_code'\n3. 'year'\n4. 'plot_loc'\n5. 'plot_rep'\n6. 'grid_point'\n7. 'detection_type'\n8. 'key_plant_species'\n9. 'aspect_mean_deg'\n10. 'elevation_mean_m'\n11. 'slope_mean_deg'\n12. 'cover_type_2016_gridVeg'\n13. 'type3_vegetation_indicators'\n14. 'type4_indicators_history'\n15. 'key_plant_code'\n16. 'plant_name_sci'\n17. 'plant_name_common'\n18. 'plant_native_status'\n19. 'plant_life_cycle'\n20. 'plant_life_form'\n\n\n",
            "text/html": [
              "<style>\n",
              ".list-inline {list-style: none; margin:0; padding: 0}\n",
              ".list-inline>li {display: inline-block}\n",
              ".list-inline>li:not(:last-child)::after {content: \"\\00b7\"; padding: 0 .5ex}\n",
              "</style>\n",
              "<ol class=list-inline><li>'survey_code'</li><li>'plot_code'</li><li>'year'</li><li>'plot_loc'</li><li>'plot_rep'</li><li>'grid_point'</li><li>'detection_type'</li><li>'key_plant_species'</li><li>'aspect_mean_deg'</li><li>'elevation_mean_m'</li><li>'slope_mean_deg'</li><li>'cover_type_2016_gridVeg'</li><li>'type3_vegetation_indicators'</li><li>'type4_indicators_history'</li><li>'key_plant_code'</li><li>'plant_name_sci'</li><li>'plant_name_common'</li><li>'plant_native_status'</li><li>'plant_life_cycle'</li><li>'plant_life_form'</li></ol>\n"
            ]
          },
          "metadata": {
            "tags": []
          }
        }
      ]
    },
    {
      "cell_type": "code",
      "metadata": {
        "id": "hp41f18ylJd8"
      },
      "source": [
        "# reorder columns\n",
        "species_richness <- species_richness %>%\n",
        "  select(survey_code, plot_code, year, plot_loc, plot_rep, grid_point, detection_type, key_plant_species, key_plant_code, plant_name_sci,\n",
        "         plant_name_common, plant_native_status, plant_life_cycle, plant_life_form)"
      ],
      "execution_count": 71,
      "outputs": []
    },
    {
      "cell_type": "code",
      "metadata": {
        "id": "3Ab4cS5Ssn34",
        "outputId": "328b2580-2ccb-4339-aded-69ab57d013c8",
        "colab": {
          "base_uri": "https://localhost:8080/"
        }
      },
      "source": [
        "species_richness %>% glimpse()"
      ],
      "execution_count": 72,
      "outputs": [
        {
          "output_type": "stream",
          "text": [
            "Rows: 8,304\n",
            "Columns: 14\n",
            "Groups: survey_code [245]\n",
            "$ survey_code         \u001b[3m\u001b[90m<chr>\u001b[39m\u001b[23m \"YVP 10 2017-06-09\", \"YVP 10 2017-06-09\", \"YVP 10…\n",
            "$ plot_code           \u001b[3m\u001b[90m<chr>\u001b[39m\u001b[23m \"YVP 10\", \"YVP 10\", \"YVP 10\", \"YVP 10\", \"YVP 10\",…\n",
            "$ year                \u001b[3m\u001b[90m<chr>\u001b[39m\u001b[23m \"2017\", \"2017\", \"2017\", \"2017\", \"2017\", \"2017\", \"…\n",
            "$ plot_loc            \u001b[3m\u001b[90m<chr>\u001b[39m\u001b[23m NA, NA, NA, NA, NA, NA, NA, NA, NA, NA, NA, NA, N…\n",
            "$ plot_rep            \u001b[3m\u001b[90m<chr>\u001b[39m\u001b[23m NA, NA, NA, NA, NA, NA, NA, NA, NA, NA, NA, NA, N…\n",
            "$ grid_point          \u001b[3m\u001b[90m<int>\u001b[39m\u001b[23m 10, 10, 10, 10, 10, 10, 10, 10, 10, 10, 10, 10, 1…\n",
            "$ detection_type      \u001b[3m\u001b[90m<chr>\u001b[39m\u001b[23m \"cover_est\", \"cover_est\", \"cover_est\", \"cover_est…\n",
            "$ key_plant_species   \u001b[3m\u001b[90m<int>\u001b[39m\u001b[23m 5, 37, 39, 51, 72, 82, 84, 90, 153, 163, 169, 187…\n",
            "$ key_plant_code      \u001b[3m\u001b[90m<chr>\u001b[39m\u001b[23m \"ACHMIL\", \"ANTE_SP\", \"APEINT\", \"ARECON\", \"BALSAG\"…\n",
            "$ plant_name_sci      \u001b[3m\u001b[90m<chr>\u001b[39m\u001b[23m \"Achillea millefolium\", \"Antennaria spp.\", \"Apera…\n",
            "$ plant_name_common   \u001b[3m\u001b[90m<chr>\u001b[39m\u001b[23m \"western yarrow\", \"pussytoes\", \"dense silkybent\",…\n",
            "$ plant_native_status \u001b[3m\u001b[90m<chr>\u001b[39m\u001b[23m \"native\", \"native\", \"nonnative\", \"native\", \"nativ…\n",
            "$ plant_life_cycle    \u001b[3m\u001b[90m<chr>\u001b[39m\u001b[23m \"perennial\", \"perennial\", \"annual\", \"perennial\", …\n",
            "$ plant_life_form     \u001b[3m\u001b[90m<chr>\u001b[39m\u001b[23m \"forb\", \"forb\", \"graminoid\", \"forb\", \"forb\", \"gra…\n"
          ],
          "name": "stdout"
        }
      ]
    },
    {
      "cell_type": "code",
      "metadata": {
        "id": "JtUFvX7OzySQ"
      },
      "source": [
        "# update year datatype to integer\n",
        "species_richness$year <- as.integer(species_richness$year)"
      ],
      "execution_count": 74,
      "outputs": []
    },
    {
      "cell_type": "code",
      "metadata": {
        "id": "yNh2I7jBznJS",
        "outputId": "765fa182-f740-491d-cec0-f01e23bfddd2",
        "colab": {
          "base_uri": "https://localhost:8080/"
        }
      },
      "source": [
        "# filter for 2020 only\n",
        "species_richness %>%\n",
        "  filter(year == 2020) %>%\n",
        "  glimpse()"
      ],
      "execution_count": 76,
      "outputs": [
        {
          "output_type": "stream",
          "text": [
            "Rows: 2,200\n",
            "Columns: 14\n",
            "Groups: survey_code [58]\n",
            "$ survey_code         \u001b[3m\u001b[90m<chr>\u001b[39m\u001b[23m \"YVP 10 2020-06-27\", \"YVP 10 2020-06-27\", \"YVP 10…\n",
            "$ plot_code           \u001b[3m\u001b[90m<chr>\u001b[39m\u001b[23m \"YVP 10\", \"YVP 10\", \"YVP 10\", \"YVP 10\", \"YVP 10\",…\n",
            "$ year                \u001b[3m\u001b[90m<int>\u001b[39m\u001b[23m 2020, 2020, 2020, 2020, 2020, 2020, 2020, 2020, 2…\n",
            "$ plot_loc            \u001b[3m\u001b[90m<chr>\u001b[39m\u001b[23m NA, NA, NA, NA, NA, NA, NA, NA, NA, NA, NA, NA, N…\n",
            "$ plot_rep            \u001b[3m\u001b[90m<chr>\u001b[39m\u001b[23m NA, NA, NA, NA, NA, NA, NA, NA, NA, NA, NA, NA, N…\n",
            "$ grid_point          \u001b[3m\u001b[90m<int>\u001b[39m\u001b[23m 10, 10, 10, 10, 10, 10, 10, 10, 10, 10, 10, 10, 1…\n",
            "$ detection_type      \u001b[3m\u001b[90m<chr>\u001b[39m\u001b[23m \"cover_est\", \"cover_est\", \"cover_est\", \"cover_est…\n",
            "$ key_plant_species   \u001b[3m\u001b[90m<int>\u001b[39m\u001b[23m 5, 16, 37, 39, 51, 52, 72, 82, 90, 153, 163, 169,…\n",
            "$ key_plant_code      \u001b[3m\u001b[90m<chr>\u001b[39m\u001b[23m \"ACHMIL\", \"ALLCER\", \"ANTE_SP\", \"APEINT\", \"ARECON\"…\n",
            "$ plant_name_sci      \u001b[3m\u001b[90m<chr>\u001b[39m\u001b[23m \"Achillea millefolium\", \"Allium cernuum\", \"Antenn…\n",
            "$ plant_name_common   \u001b[3m\u001b[90m<chr>\u001b[39m\u001b[23m \"western yarrow\", \"nodding onion\", \"pussytoes\", \"…\n",
            "$ plant_native_status \u001b[3m\u001b[90m<chr>\u001b[39m\u001b[23m \"native\", \"native\", \"native\", \"nonnative\", \"nativ…\n",
            "$ plant_life_cycle    \u001b[3m\u001b[90m<chr>\u001b[39m\u001b[23m \"perennial\", \"perennial\", \"perennial\", \"annual\", …\n",
            "$ plant_life_form     \u001b[3m\u001b[90m<chr>\u001b[39m\u001b[23m \"forb\", \"forb\", \"forb\", \"graminoid\", \"forb\", \"for…\n"
          ],
          "name": "stdout"
        }
      ]
    },
    {
      "cell_type": "code",
      "metadata": {
        "id": "AWcnXSTV01Vi",
        "outputId": "f55607bc-3d28-4d09-9ace-656ed8b0f89e",
        "colab": {
          "base_uri": "https://localhost:8080/",
          "height": 493
        }
      },
      "source": [
        "summary(species_richness)"
      ],
      "execution_count": 79,
      "outputs": [
        {
          "output_type": "display_data",
          "data": {
            "text/plain": [
              " survey_code         plot_code              year        plot_loc        \n",
              " Length:8304        Length:8304        Min.   :2017   Length:8304       \n",
              " Class :character   Class :character   1st Qu.:2018   Class :character  \n",
              " Mode  :character   Mode  :character   Median :2019   Mode  :character  \n",
              "                                       Mean   :2019                     \n",
              "                                       3rd Qu.:2020                     \n",
              "                                       Max.   :2020                     \n",
              "   plot_rep           grid_point    detection_type     key_plant_species\n",
              " Length:8304        Min.   :  7.0   Length:8304        Min.   :  3.0    \n",
              " Class :character   1st Qu.:110.0   Class :character   1st Qu.:125.0    \n",
              " Mode  :character   Median :209.0   Mode  :character   Median :250.0    \n",
              "                    Mean   :249.6                      Mean   :266.4    \n",
              "                    3rd Qu.:395.0                      3rd Qu.:405.0    \n",
              "                    Max.   :571.0                      Max.   :784.0    \n",
              " key_plant_code     plant_name_sci     plant_name_common  plant_native_status\n",
              " Length:8304        Length:8304        Length:8304        Length:8304        \n",
              " Class :character   Class :character   Class :character   Class :character   \n",
              " Mode  :character   Mode  :character   Mode  :character   Mode  :character   \n",
              "                                                                             \n",
              "                                                                             \n",
              "                                                                             \n",
              " plant_life_cycle   plant_life_form   \n",
              " Length:8304        Length:8304       \n",
              " Class :character   Class :character  \n",
              " Mode  :character   Mode  :character  \n",
              "                                      \n",
              "                                      \n",
              "                                      "
            ]
          },
          "metadata": {
            "tags": []
          }
        }
      ]
    },
    {
      "cell_type": "markdown",
      "metadata": {
        "id": "dZePEFVMs2TG"
      },
      "source": [
        "# Output"
      ]
    },
    {
      "cell_type": "code",
      "metadata": {
        "id": "eis0tV1Ls1O-"
      },
      "source": [
        "# Output 2020-11-03 ES\n",
        "write_csv(species_richness, file = \"yvp_species_richness-WRANGLE-2020.csv\")"
      ],
      "execution_count": 78,
      "outputs": []
    }
  ]
}