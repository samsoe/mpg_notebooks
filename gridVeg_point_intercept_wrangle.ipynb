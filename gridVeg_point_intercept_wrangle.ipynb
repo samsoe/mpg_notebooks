{
  "nbformat": 4,
  "nbformat_minor": 0,
  "metadata": {
    "colab": {
      "name": "gridVeg_point_intercept_wrangle.ipynb",
      "provenance": [],
      "collapsed_sections": [],
      "include_colab_link": true
    },
    "language_info": {
      "codemirror_mode": "r",
      "file_extension": ".r",
      "mimetype": "text/x-r-source",
      "name": "R",
      "pygments_lexer": "r",
      "version": "3.3.1"
    },
    "kernelspec": {
      "display_name": "R",
      "language": "R",
      "name": "ir"
    },
    "accelerator": "GPU"
  },
  "cells": [
    {
      "cell_type": "markdown",
      "metadata": {
        "id": "view-in-github",
        "colab_type": "text"
      },
      "source": [
        "<a href=\"https://colab.research.google.com/github/samsoe/mpg_notebooks/blob/master/gridVeg_point_intercept_wrangle.ipynb\" target=\"_parent\"><img src=\"https://colab.research.google.com/assets/colab-badge.svg\" alt=\"Open In Colab\"/></a>"
      ]
    },
    {
      "cell_type": "markdown",
      "metadata": {
        "id": "BhOI1uU2Koum",
        "colab_type": "text"
      },
      "source": [
        "# Documentation"
      ]
    },
    {
      "cell_type": "markdown",
      "metadata": {
        "id": "tn3htZCH143K",
        "colab_type": "text"
      },
      "source": [
        "[Readme - vegetation point transect survey](https://docs.google.com/document/d/1JWnhxNjeSQZkSnGhtHP68i_l1mDj4vPFMBdUvGqN0TA/edit?usp=sharing)"
      ]
    },
    {
      "cell_type": "markdown",
      "metadata": {
        "id": "2h5YDpJM1tC-",
        "colab_type": "text"
      },
      "source": [
        "# Tools"
      ]
    },
    {
      "cell_type": "code",
      "metadata": {
        "id": "VxYkYhQTKouo",
        "colab_type": "code",
        "colab": {
          "base_uri": "https://localhost:8080/",
          "height": 204
        },
        "outputId": "15f89ad9-de98-4f8c-bc35-f75ca6475343"
      },
      "source": [
        "library(tidyverse)"
      ],
      "execution_count": 1,
      "outputs": [
        {
          "output_type": "stream",
          "text": [
            "── \u001b[1mAttaching packages\u001b[22m ─────────────────────────────────────── tidyverse 1.3.0 ──\n",
            "\n",
            "\u001b[32m✔\u001b[39m \u001b[34mggplot2\u001b[39m 3.3.1     \u001b[32m✔\u001b[39m \u001b[34mpurrr  \u001b[39m 0.3.4\n",
            "\u001b[32m✔\u001b[39m \u001b[34mtibble \u001b[39m 3.0.1     \u001b[32m✔\u001b[39m \u001b[34mdplyr  \u001b[39m 1.0.0\n",
            "\u001b[32m✔\u001b[39m \u001b[34mtidyr  \u001b[39m 1.1.0     \u001b[32m✔\u001b[39m \u001b[34mstringr\u001b[39m 1.4.0\n",
            "\u001b[32m✔\u001b[39m \u001b[34mreadr  \u001b[39m 1.3.1     \u001b[32m✔\u001b[39m \u001b[34mforcats\u001b[39m 0.5.0\n",
            "\n",
            "── \u001b[1mConflicts\u001b[22m ────────────────────────────────────────── tidyverse_conflicts() ──\n",
            "\u001b[31m✖\u001b[39m \u001b[34mdplyr\u001b[39m::\u001b[32mfilter()\u001b[39m masks \u001b[34mstats\u001b[39m::filter()\n",
            "\u001b[31m✖\u001b[39m \u001b[34mdplyr\u001b[39m::\u001b[32mlag()\u001b[39m    masks \u001b[34mstats\u001b[39m::lag()\n",
            "\n"
          ],
          "name": "stderr"
        }
      ]
    },
    {
      "cell_type": "markdown",
      "metadata": {
        "id": "oudCHLG11zIO",
        "colab_type": "text"
      },
      "source": [
        "# Source"
      ]
    },
    {
      "cell_type": "code",
      "metadata": {
        "id": "ihI70_BPKouq",
        "colab_type": "code",
        "colab": {}
      },
      "source": [
        "# 2020-06-17_gridVeg_point_intercepts_SOURCE.csv\n",
        "src_intercept <- \"https://drive.google.com/uc?export=download&id=1Uj8Nvo0GtFueZt6_Yli2D8jWiqACNssv\""
      ],
      "execution_count": 2,
      "outputs": []
    },
    {
      "cell_type": "code",
      "metadata": {
        "id": "1UKHUcqW3601",
        "colab_type": "code",
        "colab": {}
      },
      "source": [
        "df_pt <- read_csv(src_intercept, col_types = cols(\"Survey Data::__kp_Survey\" = col_character(),\n",
        "                                                  \"_kf_Hit2_serial\" = col_character(),\n",
        "                                                  \"_kf_Hit3_serial\" = col_character(),\n",
        "                                                  \"_kf_Hit4_serial\" = col_character()))"
      ],
      "execution_count": 3,
      "outputs": []
    },
    {
      "cell_type": "code",
      "metadata": {
        "id": "ihNrRcUn5Pq7",
        "colab_type": "code",
        "colab": {
          "base_uri": "https://localhost:8080/",
          "height": 241
        },
        "outputId": "e5180b9b-92a0-487f-94da-5b0492941ccd"
      },
      "source": [
        "head(df_pt)"
      ],
      "execution_count": 4,
      "outputs": [
        {
          "output_type": "display_data",
          "data": {
            "text/plain": [
              "  Survey Data::__kp_Survey Survey Data::_kf_Site Survey Data::SurveyDate\n",
              "1 5                        108                   11/15/2010             \n",
              "2 5                        108                   11/15/2010             \n",
              "3 5                        108                   11/15/2010             \n",
              "4 5                        108                   11/15/2010             \n",
              "5 5                        108                   11/15/2010             \n",
              "6 5                        108                   11/15/2010             \n",
              "  Survey Data::SurveyYear PointTrans _kf_Hit1_serial Height _kf_Hit2_serial\n",
              "1 2010                    N1         406             20     NA             \n",
              "2 2010                    N2          12             27     NA             \n",
              "3 2010                    N3          12             16     NA             \n",
              "4 2010                    N4          12             17     NA             \n",
              "5 2010                    N5          12             16     NA             \n",
              "6 2010                    N6          12             16     NA             \n",
              "  _kf_Hit3_serial _kf_Hit4_serial GroundCover\n",
              "1 NA              NA              NA         \n",
              "2 NA              NA              NA         \n",
              "3 NA              NA              NA         \n",
              "4 NA              NA              NA         \n",
              "5 NA              NA              NA         \n",
              "6 NA              NA              NA         "
            ],
            "text/latex": "A tibble: 6 × 11\n\\begin{tabular}{lllllllllll}\n Survey Data::\\_\\_kp\\_Survey & Survey Data::\\_kf\\_Site & Survey Data::SurveyDate & Survey Data::SurveyYear & PointTrans & \\_kf\\_Hit1\\_serial & Height & \\_kf\\_Hit2\\_serial & \\_kf\\_Hit3\\_serial & \\_kf\\_Hit4\\_serial & GroundCover\\\\\n <chr> & <dbl> & <chr> & <dbl> & <chr> & <dbl> & <dbl> & <chr> & <chr> & <chr> & <chr>\\\\\n\\hline\n\t 5 & 108 & 11/15/2010 & 2010 & N1 & 406 & 20 & NA & NA & NA & NA\\\\\n\t 5 & 108 & 11/15/2010 & 2010 & N2 &  12 & 27 & NA & NA & NA & NA\\\\\n\t 5 & 108 & 11/15/2010 & 2010 & N3 &  12 & 16 & NA & NA & NA & NA\\\\\n\t 5 & 108 & 11/15/2010 & 2010 & N4 &  12 & 17 & NA & NA & NA & NA\\\\\n\t 5 & 108 & 11/15/2010 & 2010 & N5 &  12 & 16 & NA & NA & NA & NA\\\\\n\t 5 & 108 & 11/15/2010 & 2010 & N6 &  12 & 16 & NA & NA & NA & NA\\\\\n\\end{tabular}\n",
            "text/markdown": "\nA tibble: 6 × 11\n\n| Survey Data::__kp_Survey &lt;chr&gt; | Survey Data::_kf_Site &lt;dbl&gt; | Survey Data::SurveyDate &lt;chr&gt; | Survey Data::SurveyYear &lt;dbl&gt; | PointTrans &lt;chr&gt; | _kf_Hit1_serial &lt;dbl&gt; | Height &lt;dbl&gt; | _kf_Hit2_serial &lt;chr&gt; | _kf_Hit3_serial &lt;chr&gt; | _kf_Hit4_serial &lt;chr&gt; | GroundCover &lt;chr&gt; |\n|---|---|---|---|---|---|---|---|---|---|---|\n| 5 | 108 | 11/15/2010 | 2010 | N1 | 406 | 20 | NA | NA | NA | NA |\n| 5 | 108 | 11/15/2010 | 2010 | N2 |  12 | 27 | NA | NA | NA | NA |\n| 5 | 108 | 11/15/2010 | 2010 | N3 |  12 | 16 | NA | NA | NA | NA |\n| 5 | 108 | 11/15/2010 | 2010 | N4 |  12 | 17 | NA | NA | NA | NA |\n| 5 | 108 | 11/15/2010 | 2010 | N5 |  12 | 16 | NA | NA | NA | NA |\n| 5 | 108 | 11/15/2010 | 2010 | N6 |  12 | 16 | NA | NA | NA | NA |\n\n",
            "text/html": [
              "<table>\n",
              "<caption>A tibble: 6 × 11</caption>\n",
              "<thead>\n",
              "\t<tr><th scope=col>Survey Data::__kp_Survey</th><th scope=col>Survey Data::_kf_Site</th><th scope=col>Survey Data::SurveyDate</th><th scope=col>Survey Data::SurveyYear</th><th scope=col>PointTrans</th><th scope=col>_kf_Hit1_serial</th><th scope=col>Height</th><th scope=col>_kf_Hit2_serial</th><th scope=col>_kf_Hit3_serial</th><th scope=col>_kf_Hit4_serial</th><th scope=col>GroundCover</th></tr>\n",
              "\t<tr><th scope=col>&lt;chr&gt;</th><th scope=col>&lt;dbl&gt;</th><th scope=col>&lt;chr&gt;</th><th scope=col>&lt;dbl&gt;</th><th scope=col>&lt;chr&gt;</th><th scope=col>&lt;dbl&gt;</th><th scope=col>&lt;dbl&gt;</th><th scope=col>&lt;chr&gt;</th><th scope=col>&lt;chr&gt;</th><th scope=col>&lt;chr&gt;</th><th scope=col>&lt;chr&gt;</th></tr>\n",
              "</thead>\n",
              "<tbody>\n",
              "\t<tr><td>5</td><td>108</td><td>11/15/2010</td><td>2010</td><td>N1</td><td>406</td><td>20</td><td>NA</td><td>NA</td><td>NA</td><td>NA</td></tr>\n",
              "\t<tr><td>5</td><td>108</td><td>11/15/2010</td><td>2010</td><td>N2</td><td> 12</td><td>27</td><td>NA</td><td>NA</td><td>NA</td><td>NA</td></tr>\n",
              "\t<tr><td>5</td><td>108</td><td>11/15/2010</td><td>2010</td><td>N3</td><td> 12</td><td>16</td><td>NA</td><td>NA</td><td>NA</td><td>NA</td></tr>\n",
              "\t<tr><td>5</td><td>108</td><td>11/15/2010</td><td>2010</td><td>N4</td><td> 12</td><td>17</td><td>NA</td><td>NA</td><td>NA</td><td>NA</td></tr>\n",
              "\t<tr><td>5</td><td>108</td><td>11/15/2010</td><td>2010</td><td>N5</td><td> 12</td><td>16</td><td>NA</td><td>NA</td><td>NA</td><td>NA</td></tr>\n",
              "\t<tr><td>5</td><td>108</td><td>11/15/2010</td><td>2010</td><td>N6</td><td> 12</td><td>16</td><td>NA</td><td>NA</td><td>NA</td><td>NA</td></tr>\n",
              "</tbody>\n",
              "</table>\n"
            ]
          },
          "metadata": {
            "tags": []
          }
        }
      ]
    },
    {
      "cell_type": "markdown",
      "metadata": {
        "id": "lEcRaxTP76XY",
        "colab_type": "text"
      },
      "source": [
        "# Wrangle"
      ]
    },
    {
      "cell_type": "markdown",
      "metadata": {
        "id": "MSzW2Lgy79y7",
        "colab_type": "text"
      },
      "source": [
        "## Rename"
      ]
    },
    {
      "cell_type": "code",
      "metadata": {
        "id": "Uw10I9Vl5Ult",
        "colab_type": "code",
        "colab": {
          "base_uri": "https://localhost:8080/",
          "height": 51
        },
        "outputId": "670ed3ad-3206-40fb-d7d3-a042b3606ab2"
      },
      "source": [
        "names(df_pt)"
      ],
      "execution_count": 5,
      "outputs": [
        {
          "output_type": "display_data",
          "data": {
            "text/plain": [
              " [1] \"Survey Data::__kp_Survey\" \"Survey Data::_kf_Site\"   \n",
              " [3] \"Survey Data::SurveyDate\"  \"Survey Data::SurveyYear\" \n",
              " [5] \"PointTrans\"               \"_kf_Hit1_serial\"         \n",
              " [7] \"Height\"                   \"_kf_Hit2_serial\"         \n",
              " [9] \"_kf_Hit3_serial\"          \"_kf_Hit4_serial\"         \n",
              "[11] \"GroundCover\"             "
            ],
            "text/latex": "\\begin{enumerate*}\n\\item 'Survey Data::\\_\\_kp\\_Survey'\n\\item 'Survey Data::\\_kf\\_Site'\n\\item 'Survey Data::SurveyDate'\n\\item 'Survey Data::SurveyYear'\n\\item 'PointTrans'\n\\item '\\_kf\\_Hit1\\_serial'\n\\item 'Height'\n\\item '\\_kf\\_Hit2\\_serial'\n\\item '\\_kf\\_Hit3\\_serial'\n\\item '\\_kf\\_Hit4\\_serial'\n\\item 'GroundCover'\n\\end{enumerate*}\n",
            "text/markdown": "1. 'Survey Data::__kp_Survey'\n2. 'Survey Data::_kf_Site'\n3. 'Survey Data::SurveyDate'\n4. 'Survey Data::SurveyYear'\n5. 'PointTrans'\n6. '_kf_Hit1_serial'\n7. 'Height'\n8. '_kf_Hit2_serial'\n9. '_kf_Hit3_serial'\n10. '_kf_Hit4_serial'\n11. 'GroundCover'\n\n\n",
            "text/html": [
              "<style>\n",
              ".list-inline {list-style: none; margin:0; padding: 0}\n",
              ".list-inline>li {display: inline-block}\n",
              ".list-inline>li:not(:last-child)::after {content: \"\\00b7\"; padding: 0 .5ex}\n",
              "</style>\n",
              "<ol class=list-inline><li>'Survey Data::__kp_Survey'</li><li>'Survey Data::_kf_Site'</li><li>'Survey Data::SurveyDate'</li><li>'Survey Data::SurveyYear'</li><li>'PointTrans'</li><li>'_kf_Hit1_serial'</li><li>'Height'</li><li>'_kf_Hit2_serial'</li><li>'_kf_Hit3_serial'</li><li>'_kf_Hit4_serial'</li><li>'GroundCover'</li></ol>\n"
            ]
          },
          "metadata": {
            "tags": []
          }
        }
      ]
    },
    {
      "cell_type": "code",
      "metadata": {
        "id": "Vs3Sb4Hc6Oj-",
        "colab_type": "code",
        "colab": {}
      },
      "source": [
        "oldnames = c('Survey Data::__kp_Survey','Survey Data::_kf_Site','Survey Data::SurveyDate',\n",
        "             'Survey Data::SurveyYear','PointTrans','_kf_Hit1_serial','Height',\n",
        "             '_kf_Hit2_serial','_kf_Hit3_serial','_kf_Hit4_serial','GroundCover')\n",
        "          \n",
        "newnames = c('survey_ID', 'grid_point', 'date', 'year', \n",
        "             'transect_point', 'intercept_1', 'height_intercept_1', 'intercept_2',\n",
        "             'intercept_3', 'intercept_4', 'intercept_ground_code')\n",
        "\n",
        "df_pt <- df_pt %>% rename_at(vars(all_of(oldnames)), ~ newnames)"
      ],
      "execution_count": 6,
      "outputs": []
    },
    {
      "cell_type": "code",
      "metadata": {
        "id": "zPWFgkoT9tzL",
        "colab_type": "code",
        "colab": {
          "base_uri": "https://localhost:8080/",
          "height": 224
        },
        "outputId": "a88f507a-bd5d-4435-8f8b-dfba2388ca6e"
      },
      "source": [
        "head(df_pt)"
      ],
      "execution_count": 7,
      "outputs": [
        {
          "output_type": "display_data",
          "data": {
            "text/plain": [
              "  survey_ID grid_point date       year transect_point intercept_1\n",
              "1 5         108        11/15/2010 2010 N1             406        \n",
              "2 5         108        11/15/2010 2010 N2              12        \n",
              "3 5         108        11/15/2010 2010 N3              12        \n",
              "4 5         108        11/15/2010 2010 N4              12        \n",
              "5 5         108        11/15/2010 2010 N5              12        \n",
              "6 5         108        11/15/2010 2010 N6              12        \n",
              "  height_intercept_1 intercept_2 intercept_3 intercept_4 intercept_ground_code\n",
              "1 20                 NA          NA          NA          NA                   \n",
              "2 27                 NA          NA          NA          NA                   \n",
              "3 16                 NA          NA          NA          NA                   \n",
              "4 17                 NA          NA          NA          NA                   \n",
              "5 16                 NA          NA          NA          NA                   \n",
              "6 16                 NA          NA          NA          NA                   "
            ],
            "text/latex": "A tibble: 6 × 11\n\\begin{tabular}{lllllllllll}\n survey\\_ID & grid\\_point & date & year & transect\\_point & intercept\\_1 & height\\_intercept\\_1 & intercept\\_2 & intercept\\_3 & intercept\\_4 & intercept\\_ground\\_code\\\\\n <chr> & <dbl> & <chr> & <dbl> & <chr> & <dbl> & <dbl> & <chr> & <chr> & <chr> & <chr>\\\\\n\\hline\n\t 5 & 108 & 11/15/2010 & 2010 & N1 & 406 & 20 & NA & NA & NA & NA\\\\\n\t 5 & 108 & 11/15/2010 & 2010 & N2 &  12 & 27 & NA & NA & NA & NA\\\\\n\t 5 & 108 & 11/15/2010 & 2010 & N3 &  12 & 16 & NA & NA & NA & NA\\\\\n\t 5 & 108 & 11/15/2010 & 2010 & N4 &  12 & 17 & NA & NA & NA & NA\\\\\n\t 5 & 108 & 11/15/2010 & 2010 & N5 &  12 & 16 & NA & NA & NA & NA\\\\\n\t 5 & 108 & 11/15/2010 & 2010 & N6 &  12 & 16 & NA & NA & NA & NA\\\\\n\\end{tabular}\n",
            "text/markdown": "\nA tibble: 6 × 11\n\n| survey_ID &lt;chr&gt; | grid_point &lt;dbl&gt; | date &lt;chr&gt; | year &lt;dbl&gt; | transect_point &lt;chr&gt; | intercept_1 &lt;dbl&gt; | height_intercept_1 &lt;dbl&gt; | intercept_2 &lt;chr&gt; | intercept_3 &lt;chr&gt; | intercept_4 &lt;chr&gt; | intercept_ground_code &lt;chr&gt; |\n|---|---|---|---|---|---|---|---|---|---|---|\n| 5 | 108 | 11/15/2010 | 2010 | N1 | 406 | 20 | NA | NA | NA | NA |\n| 5 | 108 | 11/15/2010 | 2010 | N2 |  12 | 27 | NA | NA | NA | NA |\n| 5 | 108 | 11/15/2010 | 2010 | N3 |  12 | 16 | NA | NA | NA | NA |\n| 5 | 108 | 11/15/2010 | 2010 | N4 |  12 | 17 | NA | NA | NA | NA |\n| 5 | 108 | 11/15/2010 | 2010 | N5 |  12 | 16 | NA | NA | NA | NA |\n| 5 | 108 | 11/15/2010 | 2010 | N6 |  12 | 16 | NA | NA | NA | NA |\n\n",
            "text/html": [
              "<table>\n",
              "<caption>A tibble: 6 × 11</caption>\n",
              "<thead>\n",
              "\t<tr><th scope=col>survey_ID</th><th scope=col>grid_point</th><th scope=col>date</th><th scope=col>year</th><th scope=col>transect_point</th><th scope=col>intercept_1</th><th scope=col>height_intercept_1</th><th scope=col>intercept_2</th><th scope=col>intercept_3</th><th scope=col>intercept_4</th><th scope=col>intercept_ground_code</th></tr>\n",
              "\t<tr><th scope=col>&lt;chr&gt;</th><th scope=col>&lt;dbl&gt;</th><th scope=col>&lt;chr&gt;</th><th scope=col>&lt;dbl&gt;</th><th scope=col>&lt;chr&gt;</th><th scope=col>&lt;dbl&gt;</th><th scope=col>&lt;dbl&gt;</th><th scope=col>&lt;chr&gt;</th><th scope=col>&lt;chr&gt;</th><th scope=col>&lt;chr&gt;</th><th scope=col>&lt;chr&gt;</th></tr>\n",
              "</thead>\n",
              "<tbody>\n",
              "\t<tr><td>5</td><td>108</td><td>11/15/2010</td><td>2010</td><td>N1</td><td>406</td><td>20</td><td>NA</td><td>NA</td><td>NA</td><td>NA</td></tr>\n",
              "\t<tr><td>5</td><td>108</td><td>11/15/2010</td><td>2010</td><td>N2</td><td> 12</td><td>27</td><td>NA</td><td>NA</td><td>NA</td><td>NA</td></tr>\n",
              "\t<tr><td>5</td><td>108</td><td>11/15/2010</td><td>2010</td><td>N3</td><td> 12</td><td>16</td><td>NA</td><td>NA</td><td>NA</td><td>NA</td></tr>\n",
              "\t<tr><td>5</td><td>108</td><td>11/15/2010</td><td>2010</td><td>N4</td><td> 12</td><td>17</td><td>NA</td><td>NA</td><td>NA</td><td>NA</td></tr>\n",
              "\t<tr><td>5</td><td>108</td><td>11/15/2010</td><td>2010</td><td>N5</td><td> 12</td><td>16</td><td>NA</td><td>NA</td><td>NA</td><td>NA</td></tr>\n",
              "\t<tr><td>5</td><td>108</td><td>11/15/2010</td><td>2010</td><td>N6</td><td> 12</td><td>16</td><td>NA</td><td>NA</td><td>NA</td><td>NA</td></tr>\n",
              "</tbody>\n",
              "</table>\n"
            ]
          },
          "metadata": {
            "tags": []
          }
        }
      ]
    },
    {
      "cell_type": "markdown",
      "metadata": {
        "id": "rRC9RX57-sGc",
        "colab_type": "text"
      },
      "source": [
        "## Filter"
      ]
    },
    {
      "cell_type": "code",
      "metadata": {
        "id": "YBJv4WMq-umH",
        "colab_type": "code",
        "colab": {}
      },
      "source": [
        "# remove 2010\n",
        "df_pt <- df_pt %>%\n",
        "  filter(year > 2010)"
      ],
      "execution_count": 8,
      "outputs": []
    },
    {
      "cell_type": "markdown",
      "metadata": {
        "id": "NGGMjZwaAnHJ",
        "colab_type": "text"
      },
      "source": [
        "## Explore"
      ]
    },
    {
      "cell_type": "markdown",
      "metadata": {
        "id": "Qw-AZUI4Uo4h",
        "colab_type": "text"
      },
      "source": [
        "### grid_point"
      ]
    },
    {
      "cell_type": "code",
      "metadata": {
        "id": "I0zLaAktUuJJ",
        "colab_type": "code",
        "colab": {}
      },
      "source": [
        "df_pt %>%\n",
        "  distinct(grid_point) %>%\n",
        "  arrange(grid_point)"
      ],
      "execution_count": null,
      "outputs": []
    },
    {
      "cell_type": "markdown",
      "metadata": {
        "id": "0sgrhvjmGPhz",
        "colab_type": "text"
      },
      "source": [
        "### transect_point"
      ]
    },
    {
      "cell_type": "markdown",
      "metadata": {
        "id": "YKW-pcjMJzax",
        "colab_type": "text"
      },
      "source": [
        "* output distinct values and inspect in a sheet: [transect_point_distinct](https://docs.google.com/spreadsheets/d/1Wr41ySG3C3RKK01VhNX9l5MxE0DNAaefTvk6qm_L5fA/edit?usp=sharing)"
      ]
    },
    {
      "cell_type": "code",
      "metadata": {
        "id": "SSSGxH97N5pf",
        "colab_type": "code",
        "colab": {}
      },
      "source": [
        "# capitalize\n",
        "# df_pt <- df_pt %>%\n",
        "#   mutate(transect_point = toupper(transect_point))"
      ],
      "execution_count": 56,
      "outputs": []
    },
    {
      "cell_type": "code",
      "metadata": {
        "id": "uFQFMVOzC7ED",
        "colab_type": "code",
        "colab": {}
      },
      "source": [
        "write_csv(df_pt %>%\n",
        "  distinct(transect_point) %>%\n",
        "  arrange(transect_point), path = \"transect_point_distinct.csv\")"
      ],
      "execution_count": 16,
      "outputs": []
    },
    {
      "cell_type": "markdown",
      "metadata": {
        "id": "MdPK2JQoKXZH",
        "colab_type": "text"
      },
      "source": [
        "* identify the outliers: [outlier](https://docs.google.com/spreadsheets/d/1Wr41ySG3C3RKK01VhNX9l5MxE0DNAaefTvk6qm_L5fA/edit?usp=sharing)"
      ]
    },
    {
      "cell_type": "code",
      "metadata": {
        "id": "jTKkh9qK8k2Y",
        "colab_type": "code",
        "colab": {}
      },
      "source": [
        "df_pt %>%\n",
        "  distinct(transect_point) %>%\n",
        "  arrange(transect_point)"
      ],
      "execution_count": null,
      "outputs": []
    },
    {
      "cell_type": "code",
      "metadata": {
        "id": "MKfFr6gGXWMF",
        "colab_type": "code",
        "colab": {}
      },
      "source": [
        "# set outliers to NA\n",
        "outliers <- c(\"se\", \"T\", \"W21E\")\n",
        "\n",
        "df_pt <- df_pt %>%\n",
        "  mutate(transect_point = ifelse(transect_point == \"se\" |\n",
        "                                 transect_point == \"T\" |\n",
        "                                 transect_point == \"W21E\", NA, transect_point))"
      ],
      "execution_count": 24,
      "outputs": []
    },
    {
      "cell_type": "markdown",
      "metadata": {
        "id": "Rlp2mASyXO9U",
        "colab_type": "text"
      },
      "source": [
        "### intercept_ground_code"
      ]
    },
    {
      "cell_type": "code",
      "metadata": {
        "id": "jdOnVnKPGbAM",
        "colab_type": "code",
        "colab": {
          "base_uri": "https://localhost:8080/",
          "height": 498
        },
        "outputId": "9727c79a-d4ad-40a4-c839-69120bab7961"
      },
      "source": [
        "df_pt %>%\n",
        "  distinct(intercept_ground_code) %>%\n",
        "  arrange(intercept_ground_code)"
      ],
      "execution_count": 58,
      "outputs": [
        {
          "output_type": "display_data",
          "data": {
            "text/plain": [
              "   intercept_ground_code\n",
              "1  BG                   \n",
              "2  BV                   \n",
              "3  G                    \n",
              "4  L                    \n",
              "5  LIC                  \n",
              "6  M                    \n",
              "7  M/L                  \n",
              "8  NDC                  \n",
              "9  OTHER                \n",
              "10 R                    \n",
              "11 SC                   \n",
              "12 SD                   \n",
              "13 SE                   \n",
              "14 SH                   \n",
              "15 SU                   \n",
              "16 WDL                  \n",
              "17 WDS                  \n",
              "18 WDSTUMP              \n",
              "19 WDT                  \n",
              "20 NA                   "
            ],
            "text/latex": "A tibble: 20 × 1\n\\begin{tabular}{l}\n intercept\\_ground\\_code\\\\\n <chr>\\\\\n\\hline\n\t BG     \\\\\n\t BV     \\\\\n\t G      \\\\\n\t L      \\\\\n\t LIC    \\\\\n\t M      \\\\\n\t M/L    \\\\\n\t NDC    \\\\\n\t OTHER  \\\\\n\t R      \\\\\n\t SC     \\\\\n\t SD     \\\\\n\t SE     \\\\\n\t SH     \\\\\n\t SU     \\\\\n\t WDL    \\\\\n\t WDS    \\\\\n\t WDSTUMP\\\\\n\t WDT    \\\\\n\t NA     \\\\\n\\end{tabular}\n",
            "text/markdown": "\nA tibble: 20 × 1\n\n| intercept_ground_code &lt;chr&gt; |\n|---|\n| BG      |\n| BV      |\n| G       |\n| L       |\n| LIC     |\n| M       |\n| M/L     |\n| NDC     |\n| OTHER   |\n| R       |\n| SC      |\n| SD      |\n| SE      |\n| SH      |\n| SU      |\n| WDL     |\n| WDS     |\n| WDSTUMP |\n| WDT     |\n| NA      |\n\n",
            "text/html": [
              "<table>\n",
              "<caption>A tibble: 20 × 1</caption>\n",
              "<thead>\n",
              "\t<tr><th scope=col>intercept_ground_code</th></tr>\n",
              "\t<tr><th scope=col>&lt;chr&gt;</th></tr>\n",
              "</thead>\n",
              "<tbody>\n",
              "\t<tr><td>BG     </td></tr>\n",
              "\t<tr><td>BV     </td></tr>\n",
              "\t<tr><td>G      </td></tr>\n",
              "\t<tr><td>L      </td></tr>\n",
              "\t<tr><td>LIC    </td></tr>\n",
              "\t<tr><td>M      </td></tr>\n",
              "\t<tr><td>M/L    </td></tr>\n",
              "\t<tr><td>NDC    </td></tr>\n",
              "\t<tr><td>OTHER  </td></tr>\n",
              "\t<tr><td>R      </td></tr>\n",
              "\t<tr><td>SC     </td></tr>\n",
              "\t<tr><td>SD     </td></tr>\n",
              "\t<tr><td>SE     </td></tr>\n",
              "\t<tr><td>SH     </td></tr>\n",
              "\t<tr><td>SU     </td></tr>\n",
              "\t<tr><td>WDL    </td></tr>\n",
              "\t<tr><td>WDS    </td></tr>\n",
              "\t<tr><td>WDSTUMP</td></tr>\n",
              "\t<tr><td>WDT    </td></tr>\n",
              "\t<tr><td>NA     </td></tr>\n",
              "</tbody>\n",
              "</table>\n"
            ]
          },
          "metadata": {
            "tags": []
          }
        }
      ]
    },
    {
      "cell_type": "code",
      "metadata": {
        "id": "eaL7oqMUOey0",
        "colab_type": "code",
        "colab": {}
      },
      "source": [
        "not_in_list <- c(\"NDC\", \"WDSTUMP\")\n",
        "\n",
        "df_pt <- df_pt %>%\n",
        "  mutate(intercept_ground_code = ifelse(intercept_ground_code == \"NDC\" |\n",
        "                                        intercept_ground_code == \"WDSTUMP\", NA, intercept_ground_code))"
      ],
      "execution_count": 60,
      "outputs": []
    },
    {
      "cell_type": "code",
      "metadata": {
        "id": "LHfkR_eiPArV",
        "colab_type": "code",
        "colab": {
          "base_uri": "https://localhost:8080/",
          "height": 456
        },
        "outputId": "5e6d93fe-9783-4f69-ddc9-1869a7cc41c2"
      },
      "source": [
        "df_pt %>%\n",
        "  distinct(intercept_ground_code) %>%\n",
        "  arrange(intercept_ground_code)"
      ],
      "execution_count": 61,
      "outputs": [
        {
          "output_type": "display_data",
          "data": {
            "text/plain": [
              "   intercept_ground_code\n",
              "1  BG                   \n",
              "2  BV                   \n",
              "3  G                    \n",
              "4  L                    \n",
              "5  LIC                  \n",
              "6  M                    \n",
              "7  M/L                  \n",
              "8  OTHER                \n",
              "9  R                    \n",
              "10 SC                   \n",
              "11 SD                   \n",
              "12 SE                   \n",
              "13 SH                   \n",
              "14 SU                   \n",
              "15 WDL                  \n",
              "16 WDS                  \n",
              "17 WDT                  \n",
              "18 NA                   "
            ],
            "text/latex": "A tibble: 18 × 1\n\\begin{tabular}{l}\n intercept\\_ground\\_code\\\\\n <chr>\\\\\n\\hline\n\t BG   \\\\\n\t BV   \\\\\n\t G    \\\\\n\t L    \\\\\n\t LIC  \\\\\n\t M    \\\\\n\t M/L  \\\\\n\t OTHER\\\\\n\t R    \\\\\n\t SC   \\\\\n\t SD   \\\\\n\t SE   \\\\\n\t SH   \\\\\n\t SU   \\\\\n\t WDL  \\\\\n\t WDS  \\\\\n\t WDT  \\\\\n\t NA   \\\\\n\\end{tabular}\n",
            "text/markdown": "\nA tibble: 18 × 1\n\n| intercept_ground_code &lt;chr&gt; |\n|---|\n| BG    |\n| BV    |\n| G     |\n| L     |\n| LIC   |\n| M     |\n| M/L   |\n| OTHER |\n| R     |\n| SC    |\n| SD    |\n| SE    |\n| SH    |\n| SU    |\n| WDL   |\n| WDS   |\n| WDT   |\n| NA    |\n\n",
            "text/html": [
              "<table>\n",
              "<caption>A tibble: 18 × 1</caption>\n",
              "<thead>\n",
              "\t<tr><th scope=col>intercept_ground_code</th></tr>\n",
              "\t<tr><th scope=col>&lt;chr&gt;</th></tr>\n",
              "</thead>\n",
              "<tbody>\n",
              "\t<tr><td>BG   </td></tr>\n",
              "\t<tr><td>BV   </td></tr>\n",
              "\t<tr><td>G    </td></tr>\n",
              "\t<tr><td>L    </td></tr>\n",
              "\t<tr><td>LIC  </td></tr>\n",
              "\t<tr><td>M    </td></tr>\n",
              "\t<tr><td>M/L  </td></tr>\n",
              "\t<tr><td>OTHER</td></tr>\n",
              "\t<tr><td>R    </td></tr>\n",
              "\t<tr><td>SC   </td></tr>\n",
              "\t<tr><td>SD   </td></tr>\n",
              "\t<tr><td>SE   </td></tr>\n",
              "\t<tr><td>SH   </td></tr>\n",
              "\t<tr><td>SU   </td></tr>\n",
              "\t<tr><td>WDL  </td></tr>\n",
              "\t<tr><td>WDS  </td></tr>\n",
              "\t<tr><td>WDT  </td></tr>\n",
              "\t<tr><td>NA   </td></tr>\n",
              "</tbody>\n",
              "</table>\n"
            ]
          },
          "metadata": {
            "tags": []
          }
        }
      ]
    },
    {
      "cell_type": "markdown",
      "metadata": {
        "id": "jOVkUZHVFFNW",
        "colab_type": "text"
      },
      "source": [
        "## Data Types"
      ]
    },
    {
      "cell_type": "code",
      "metadata": {
        "id": "-c0QZ21zFGnu",
        "colab_type": "code",
        "colab": {
          "base_uri": "https://localhost:8080/",
          "height": 238
        },
        "outputId": "8426cbfe-1d59-4859-f6bf-c73712473f18"
      },
      "source": [
        "glimpse(df_pt)"
      ],
      "execution_count": 62,
      "outputs": [
        {
          "output_type": "stream",
          "text": [
            "Rows: 248,645\n",
            "Columns: 11\n",
            "$ survey_ID             \u001b[3m\u001b[90m<chr>\u001b[39m\u001b[23m \"69\", \"69\", \"69\", \"69\", \"69\", \"69\", \"69\", \"69\",…\n",
            "$ grid_point            \u001b[3m\u001b[90m<int>\u001b[39m\u001b[23m 329, 329, 329, 329, 329, 329, 329, 329, 329, 32…\n",
            "$ date                  \u001b[3m\u001b[90m<date>\u001b[39m\u001b[23m 2020-07-18, 2020-07-18, 2020-07-18, 2020-07-18…\n",
            "$ year                  \u001b[3m\u001b[90m<int>\u001b[39m\u001b[23m 2011, 2011, 2011, 2011, 2011, 2011, 2011, 2011,…\n",
            "$ transect_point        \u001b[3m\u001b[90m<chr>\u001b[39m\u001b[23m \"N1\", \"N2\", \"N3\", \"N4\", \"N5\", \"N6\", \"N7\", \"N8\",…\n",
            "$ intercept_1           \u001b[3m\u001b[90m<int>\u001b[39m\u001b[23m 497, 497, 497, 497, 497, 497, 497, 12, 82, 82, …\n",
            "$ height_intercept_1    \u001b[3m\u001b[90m<int>\u001b[39m\u001b[23m 60, 67, 55, 62, 65, 70, 40, 40, 5, 15, 15, 1, 7…\n",
            "$ intercept_2           \u001b[3m\u001b[90m<int>\u001b[39m\u001b[23m 82, 82, 82, 82, 82, 82, 82, 82, NA, NA, NA, NA,…\n",
            "$ intercept_3           \u001b[3m\u001b[90m<int>\u001b[39m\u001b[23m NA, NA, NA, NA, NA, 12, NA, NA, NA, NA, NA, NA,…\n",
            "$ intercept_4           \u001b[3m\u001b[90m<int>\u001b[39m\u001b[23m NA, NA, NA, NA, NA, NA, NA, NA, NA, NA, NA, NA,…\n",
            "$ intercept_ground_code \u001b[3m\u001b[90m<chr>\u001b[39m\u001b[23m \"L\", \"L\", \"L\", \"L\", \"L\", \"BV\", \"L\", \"BV\", \"BV\",…\n"
          ],
          "name": "stdout"
        }
      ]
    },
    {
      "cell_type": "code",
      "metadata": {
        "id": "TLXrtYKaHMFv",
        "colab_type": "code",
        "colab": {}
      },
      "source": [
        "df_pt$grid_point <- as.integer(df_pt$grid_point)\n",
        "df_pt$date <- as.Date(df_pt$date, \"%m/%d/%y\")\n",
        "df_pt$year <- as.integer(df_pt$year)\n",
        "df_pt$intercept_1 <- as.integer(df_pt$intercept_1)\n",
        "df_pt$height_intercept_1 <- as.integer(df_pt$height_intercept_1)\n",
        "df_pt$intercept_2 <- as.integer(df_pt$intercept_2)\n",
        "df_pt$intercept_3 <- as.integer(df_pt$intercept_3)\n",
        "df_pt$intercept_4 <- as.integer(df_pt$intercept_4)"
      ],
      "execution_count": 63,
      "outputs": []
    },
    {
      "cell_type": "code",
      "metadata": {
        "id": "-a-NpGQtI2g0",
        "colab_type": "code",
        "colab": {
          "base_uri": "https://localhost:8080/",
          "height": 238
        },
        "outputId": "92eb3670-2b9a-4579-94c7-a0b784888aca"
      },
      "source": [
        "glimpse(df_pt)"
      ],
      "execution_count": 49,
      "outputs": [
        {
          "output_type": "stream",
          "text": [
            "Rows: 248,645\n",
            "Columns: 11\n",
            "$ survey_ID             \u001b[3m\u001b[90m<chr>\u001b[39m\u001b[23m \"69\", \"69\", \"69\", \"69\", \"69\", \"69\", \"69\", \"69\",…\n",
            "$ grid_point            \u001b[3m\u001b[90m<int>\u001b[39m\u001b[23m 329, 329, 329, 329, 329, 329, 329, 329, 329, 32…\n",
            "$ date                  \u001b[3m\u001b[90m<date>\u001b[39m\u001b[23m 2020-07-18, 2020-07-18, 2020-07-18, 2020-07-18…\n",
            "$ year                  \u001b[3m\u001b[90m<int>\u001b[39m\u001b[23m 2011, 2011, 2011, 2011, 2011, 2011, 2011, 2011,…\n",
            "$ transect_point        \u001b[3m\u001b[90m<chr>\u001b[39m\u001b[23m \"N1\", \"N2\", \"N3\", \"N4\", \"N5\", \"N6\", \"N7\", \"N8\",…\n",
            "$ intercept_1           \u001b[3m\u001b[90m<int>\u001b[39m\u001b[23m 497, 497, 497, 497, 497, 497, 497, 12, 82, 82, …\n",
            "$ height_intercept_1    \u001b[3m\u001b[90m<int>\u001b[39m\u001b[23m 60, 67, 55, 62, 65, 70, 40, 40, 5, 15, 15, 1, 7…\n",
            "$ intercept_2           \u001b[3m\u001b[90m<int>\u001b[39m\u001b[23m 82, 82, 82, 82, 82, 82, 82, 82, NA, NA, NA, NA,…\n",
            "$ intercept_3           \u001b[3m\u001b[90m<int>\u001b[39m\u001b[23m NA, NA, NA, NA, NA, 12, NA, NA, NA, NA, NA, NA,…\n",
            "$ intercept_4           \u001b[3m\u001b[90m<int>\u001b[39m\u001b[23m NA, NA, NA, NA, NA, NA, NA, NA, NA, NA, NA, NA,…\n",
            "$ intercept_ground_code \u001b[3m\u001b[90m<chr>\u001b[39m\u001b[23m \"L\", \"L\", \"L\", \"L\", \"L\", \"BV\", \"L\", \"BV\", \"BV\",…\n"
          ],
          "name": "stdout"
        }
      ]
    },
    {
      "cell_type": "markdown",
      "metadata": {
        "id": "o1TSQkMDatX8",
        "colab_type": "text"
      },
      "source": [
        "# Table Structure"
      ]
    },
    {
      "cell_type": "markdown",
      "metadata": {
        "id": "ISm3RH5ha1--",
        "colab_type": "text"
      },
      "source": [
        "## gridVeg_point_intercept_vegetation"
      ]
    },
    {
      "cell_type": "code",
      "metadata": {
        "id": "AGgE7d87a1Pr",
        "colab_type": "code",
        "colab": {}
      },
      "source": [
        "df_veg <- df_pt[, c(\"survey_ID\", \"grid_point\", \"date\", \"year\",\n",
        "          \"transect_point\", \"height_intercept_1\",\n",
        "          \"intercept_1\", \"intercept_2\", \"intercept_3\", \"intercept_4\")]"
      ],
      "execution_count": 64,
      "outputs": []
    },
    {
      "cell_type": "code",
      "metadata": {
        "id": "sJvMp6_jJzbt",
        "colab_type": "code",
        "colab": {
          "base_uri": "https://localhost:8080/",
          "height": 221
        },
        "outputId": "5f5240d6-4a58-4656-b0bb-9666c75eba93"
      },
      "source": [
        "glimpse(df_veg)"
      ],
      "execution_count": 65,
      "outputs": [
        {
          "output_type": "stream",
          "text": [
            "Rows: 248,645\n",
            "Columns: 10\n",
            "$ survey_ID          \u001b[3m\u001b[90m<chr>\u001b[39m\u001b[23m \"69\", \"69\", \"69\", \"69\", \"69\", \"69\", \"69\", \"69\", \"6…\n",
            "$ grid_point         \u001b[3m\u001b[90m<int>\u001b[39m\u001b[23m 329, 329, 329, 329, 329, 329, 329, 329, 329, 329, …\n",
            "$ date               \u001b[3m\u001b[90m<date>\u001b[39m\u001b[23m 2020-07-18, 2020-07-18, 2020-07-18, 2020-07-18, 2…\n",
            "$ year               \u001b[3m\u001b[90m<int>\u001b[39m\u001b[23m 2011, 2011, 2011, 2011, 2011, 2011, 2011, 2011, 20…\n",
            "$ transect_point     \u001b[3m\u001b[90m<chr>\u001b[39m\u001b[23m \"N1\", \"N2\", \"N3\", \"N4\", \"N5\", \"N6\", \"N7\", \"N8\", \"N…\n",
            "$ height_intercept_1 \u001b[3m\u001b[90m<int>\u001b[39m\u001b[23m 60, 67, 55, 62, 65, 70, 40, 40, 5, 15, 15, 1, 7, 5…\n",
            "$ intercept_1        \u001b[3m\u001b[90m<int>\u001b[39m\u001b[23m 497, 497, 497, 497, 497, 497, 497, 12, 82, 82, 82,…\n",
            "$ intercept_2        \u001b[3m\u001b[90m<int>\u001b[39m\u001b[23m 82, 82, 82, 82, 82, 82, 82, 82, NA, NA, NA, NA, NA…\n",
            "$ intercept_3        \u001b[3m\u001b[90m<int>\u001b[39m\u001b[23m NA, NA, NA, NA, NA, 12, NA, NA, NA, NA, NA, NA, NA…\n",
            "$ intercept_4        \u001b[3m\u001b[90m<int>\u001b[39m\u001b[23m NA, NA, NA, NA, NA, NA, NA, NA, NA, NA, NA, NA, NA…\n"
          ],
          "name": "stdout"
        }
      ]
    },
    {
      "cell_type": "markdown",
      "metadata": {
        "id": "7MFOev3-L2NT",
        "colab_type": "text"
      },
      "source": [
        "### Output"
      ]
    },
    {
      "cell_type": "code",
      "metadata": {
        "id": "XuibQtYGL35e",
        "colab_type": "code",
        "colab": {}
      },
      "source": [
        "write_csv(df_veg, path = \"gridVeg_point_intercept_vegetation_WRANGLE.csv\")"
      ],
      "execution_count": 70,
      "outputs": []
    },
    {
      "cell_type": "markdown",
      "metadata": {
        "id": "lysnnGA7a8Wu",
        "colab_type": "text"
      },
      "source": [
        "## gridVeg_point_intercept_ground"
      ]
    },
    {
      "cell_type": "code",
      "metadata": {
        "id": "7KBMIOQmbATy",
        "colab_type": "code",
        "colab": {}
      },
      "source": [
        "df_gnd <- df_pt[, c(\"survey_ID\", \"grid_point\", \"date\", \"year\", \n",
        "          \"transect_point\", \"intercept_ground_code\")]"
      ],
      "execution_count": 67,
      "outputs": []
    },
    {
      "cell_type": "code",
      "metadata": {
        "id": "x4dHTMFHJ6sb",
        "colab_type": "code",
        "colab": {
          "base_uri": "https://localhost:8080/",
          "height": 153
        },
        "outputId": "73c30648-0ebc-4310-c43a-4bc971db0372"
      },
      "source": [
        "glimpse(df_gnd)"
      ],
      "execution_count": 68,
      "outputs": [
        {
          "output_type": "stream",
          "text": [
            "Rows: 248,645\n",
            "Columns: 6\n",
            "$ survey_ID             \u001b[3m\u001b[90m<chr>\u001b[39m\u001b[23m \"69\", \"69\", \"69\", \"69\", \"69\", \"69\", \"69\", \"69\",…\n",
            "$ grid_point            \u001b[3m\u001b[90m<int>\u001b[39m\u001b[23m 329, 329, 329, 329, 329, 329, 329, 329, 329, 32…\n",
            "$ date                  \u001b[3m\u001b[90m<date>\u001b[39m\u001b[23m 2020-07-18, 2020-07-18, 2020-07-18, 2020-07-18…\n",
            "$ year                  \u001b[3m\u001b[90m<int>\u001b[39m\u001b[23m 2011, 2011, 2011, 2011, 2011, 2011, 2011, 2011,…\n",
            "$ transect_point        \u001b[3m\u001b[90m<chr>\u001b[39m\u001b[23m \"N1\", \"N2\", \"N3\", \"N4\", \"N5\", \"N6\", \"N7\", \"N8\",…\n",
            "$ intercept_ground_code \u001b[3m\u001b[90m<chr>\u001b[39m\u001b[23m \"L\", \"L\", \"L\", \"L\", \"L\", \"BV\", \"L\", \"BV\", \"BV\",…\n"
          ],
          "name": "stdout"
        }
      ]
    },
    {
      "cell_type": "markdown",
      "metadata": {
        "id": "UQ8haB0qMHfC",
        "colab_type": "text"
      },
      "source": [
        "### Output"
      ]
    },
    {
      "cell_type": "code",
      "metadata": {
        "id": "1WPB0syDMIPx",
        "colab_type": "code",
        "colab": {}
      },
      "source": [
        "write_csv(df_gnd, path = \"gridVeg_point_intercept_ground_WRANGLE.csv\")"
      ],
      "execution_count": 71,
      "outputs": []
    }
  ]
}