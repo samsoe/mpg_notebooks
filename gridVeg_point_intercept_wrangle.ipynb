{
  "nbformat": 4,
  "nbformat_minor": 0,
  "metadata": {
    "colab": {
      "name": "gridVeg_point_intercept_wrangle.ipynb",
      "provenance": [],
      "collapsed_sections": [],
      "toc_visible": true,
      "include_colab_link": true
    },
    "language_info": {
      "codemirror_mode": "r",
      "file_extension": ".r",
      "mimetype": "text/x-r-source",
      "name": "R",
      "pygments_lexer": "r",
      "version": "3.3.1"
    },
    "kernelspec": {
      "display_name": "R",
      "language": "R",
      "name": "ir"
    },
    "accelerator": "GPU"
  },
  "cells": [
    {
      "cell_type": "markdown",
      "metadata": {
        "id": "view-in-github",
        "colab_type": "text"
      },
      "source": [
        "<a href=\"https://colab.research.google.com/github/samsoe/mpg_notebooks/blob/master/gridVeg_point_intercept_wrangle.ipynb\" target=\"_parent\"><img src=\"https://colab.research.google.com/assets/colab-badge.svg\" alt=\"Open In Colab\"/></a>"
      ]
    },
    {
      "cell_type": "markdown",
      "metadata": {
        "id": "BhOI1uU2Koum"
      },
      "source": [
        "# Documentation"
      ]
    },
    {
      "cell_type": "markdown",
      "metadata": {
        "id": "tn3htZCH143K"
      },
      "source": [
        "[Readme - vegetation point transect survey](https://docs.google.com/document/d/1JWnhxNjeSQZkSnGhtHP68i_l1mDj4vPFMBdUvGqN0TA/edit?usp=sharing)"
      ]
    },
    {
      "cell_type": "markdown",
      "metadata": {
        "id": "2h5YDpJM1tC-"
      },
      "source": [
        "# Tools"
      ]
    },
    {
      "cell_type": "code",
      "metadata": {
        "id": "VxYkYhQTKouo",
        "colab": {
          "base_uri": "https://localhost:8080/"
        },
        "outputId": "3565dfc5-76b9-4b76-bd7c-5a2cb23a4973"
      },
      "source": [
        "library(tidyverse)"
      ],
      "execution_count": null,
      "outputs": [
        {
          "output_type": "stream",
          "text": [
            "── \u001b[1mAttaching packages\u001b[22m ─────────────────────────────────────── tidyverse 1.3.0 ──\n",
            "\n",
            "\u001b[32m✔\u001b[39m \u001b[34mggplot2\u001b[39m 3.3.3     \u001b[32m✔\u001b[39m \u001b[34mpurrr  \u001b[39m 0.3.4\n",
            "\u001b[32m✔\u001b[39m \u001b[34mtibble \u001b[39m 3.0.4     \u001b[32m✔\u001b[39m \u001b[34mdplyr  \u001b[39m 1.0.2\n",
            "\u001b[32m✔\u001b[39m \u001b[34mtidyr  \u001b[39m 1.1.2     \u001b[32m✔\u001b[39m \u001b[34mstringr\u001b[39m 1.4.0\n",
            "\u001b[32m✔\u001b[39m \u001b[34mreadr  \u001b[39m 1.4.0     \u001b[32m✔\u001b[39m \u001b[34mforcats\u001b[39m 0.5.0\n",
            "\n",
            "── \u001b[1mConflicts\u001b[22m ────────────────────────────────────────── tidyverse_conflicts() ──\n",
            "\u001b[31m✖\u001b[39m \u001b[34mdplyr\u001b[39m::\u001b[32mfilter()\u001b[39m masks \u001b[34mstats\u001b[39m::filter()\n",
            "\u001b[31m✖\u001b[39m \u001b[34mdplyr\u001b[39m::\u001b[32mlag()\u001b[39m    masks \u001b[34mstats\u001b[39m::lag()\n",
            "\n"
          ],
          "name": "stderr"
        }
      ]
    },
    {
      "cell_type": "markdown",
      "metadata": {
        "id": "oudCHLG11zIO"
      },
      "source": [
        "# Source"
      ]
    },
    {
      "cell_type": "code",
      "metadata": {
        "id": "ihI70_BPKouq"
      },
      "source": [
        "# 2020-06-17_gridVeg_point_intercepts_SOURCE.csv\n",
        "src_intercept <- \"https://drive.google.com/uc?export=download&id=1Uj8Nvo0GtFueZt6_Yli2D8jWiqACNssv\""
      ],
      "execution_count": null,
      "outputs": []
    },
    {
      "cell_type": "code",
      "metadata": {
        "id": "1UKHUcqW3601"
      },
      "source": [
        "df_pt <- read_csv(src_intercept, col_types = cols(\"Survey Data::__kp_Survey\" = col_character(),\n",
        "                                                  \"_kf_Hit2_serial\" = col_character(),\n",
        "                                                  \"_kf_Hit3_serial\" = col_character(),\n",
        "                                                  \"_kf_Hit4_serial\" = col_character()))"
      ],
      "execution_count": null,
      "outputs": []
    },
    {
      "cell_type": "code",
      "metadata": {
        "id": "ihNrRcUn5Pq7",
        "colab": {
          "base_uri": "https://localhost:8080/",
          "height": 241
        },
        "outputId": "c22b06ed-bceb-4d79-b7a8-e335b714f59b"
      },
      "source": [
        "head(df_pt)"
      ],
      "execution_count": null,
      "outputs": [
        {
          "output_type": "display_data",
          "data": {
            "text/plain": [
              "  Survey Data::__kp_Survey Survey Data::_kf_Site Survey Data::SurveyDate\n",
              "1 5                        108                   11/15/2010             \n",
              "2 5                        108                   11/15/2010             \n",
              "3 5                        108                   11/15/2010             \n",
              "4 5                        108                   11/15/2010             \n",
              "5 5                        108                   11/15/2010             \n",
              "6 5                        108                   11/15/2010             \n",
              "  Survey Data::SurveyYear PointTrans _kf_Hit1_serial Height _kf_Hit2_serial\n",
              "1 2010                    N1         406             20     NA             \n",
              "2 2010                    N2          12             27     NA             \n",
              "3 2010                    N3          12             16     NA             \n",
              "4 2010                    N4          12             17     NA             \n",
              "5 2010                    N5          12             16     NA             \n",
              "6 2010                    N6          12             16     NA             \n",
              "  _kf_Hit3_serial _kf_Hit4_serial GroundCover\n",
              "1 NA              NA              NA         \n",
              "2 NA              NA              NA         \n",
              "3 NA              NA              NA         \n",
              "4 NA              NA              NA         \n",
              "5 NA              NA              NA         \n",
              "6 NA              NA              NA         "
            ],
            "text/latex": "A tibble: 6 × 11\n\\begin{tabular}{lllllllllll}\n Survey Data::\\_\\_kp\\_Survey & Survey Data::\\_kf\\_Site & Survey Data::SurveyDate & Survey Data::SurveyYear & PointTrans & \\_kf\\_Hit1\\_serial & Height & \\_kf\\_Hit2\\_serial & \\_kf\\_Hit3\\_serial & \\_kf\\_Hit4\\_serial & GroundCover\\\\\n <chr> & <dbl> & <chr> & <dbl> & <chr> & <dbl> & <dbl> & <chr> & <chr> & <chr> & <chr>\\\\\n\\hline\n\t 5 & 108 & 11/15/2010 & 2010 & N1 & 406 & 20 & NA & NA & NA & NA\\\\\n\t 5 & 108 & 11/15/2010 & 2010 & N2 &  12 & 27 & NA & NA & NA & NA\\\\\n\t 5 & 108 & 11/15/2010 & 2010 & N3 &  12 & 16 & NA & NA & NA & NA\\\\\n\t 5 & 108 & 11/15/2010 & 2010 & N4 &  12 & 17 & NA & NA & NA & NA\\\\\n\t 5 & 108 & 11/15/2010 & 2010 & N5 &  12 & 16 & NA & NA & NA & NA\\\\\n\t 5 & 108 & 11/15/2010 & 2010 & N6 &  12 & 16 & NA & NA & NA & NA\\\\\n\\end{tabular}\n",
            "text/markdown": "\nA tibble: 6 × 11\n\n| Survey Data::__kp_Survey &lt;chr&gt; | Survey Data::_kf_Site &lt;dbl&gt; | Survey Data::SurveyDate &lt;chr&gt; | Survey Data::SurveyYear &lt;dbl&gt; | PointTrans &lt;chr&gt; | _kf_Hit1_serial &lt;dbl&gt; | Height &lt;dbl&gt; | _kf_Hit2_serial &lt;chr&gt; | _kf_Hit3_serial &lt;chr&gt; | _kf_Hit4_serial &lt;chr&gt; | GroundCover &lt;chr&gt; |\n|---|---|---|---|---|---|---|---|---|---|---|\n| 5 | 108 | 11/15/2010 | 2010 | N1 | 406 | 20 | NA | NA | NA | NA |\n| 5 | 108 | 11/15/2010 | 2010 | N2 |  12 | 27 | NA | NA | NA | NA |\n| 5 | 108 | 11/15/2010 | 2010 | N3 |  12 | 16 | NA | NA | NA | NA |\n| 5 | 108 | 11/15/2010 | 2010 | N4 |  12 | 17 | NA | NA | NA | NA |\n| 5 | 108 | 11/15/2010 | 2010 | N5 |  12 | 16 | NA | NA | NA | NA |\n| 5 | 108 | 11/15/2010 | 2010 | N6 |  12 | 16 | NA | NA | NA | NA |\n\n",
            "text/html": [
              "<table>\n",
              "<caption>A tibble: 6 × 11</caption>\n",
              "<thead>\n",
              "\t<tr><th scope=col>Survey Data::__kp_Survey</th><th scope=col>Survey Data::_kf_Site</th><th scope=col>Survey Data::SurveyDate</th><th scope=col>Survey Data::SurveyYear</th><th scope=col>PointTrans</th><th scope=col>_kf_Hit1_serial</th><th scope=col>Height</th><th scope=col>_kf_Hit2_serial</th><th scope=col>_kf_Hit3_serial</th><th scope=col>_kf_Hit4_serial</th><th scope=col>GroundCover</th></tr>\n",
              "\t<tr><th scope=col>&lt;chr&gt;</th><th scope=col>&lt;dbl&gt;</th><th scope=col>&lt;chr&gt;</th><th scope=col>&lt;dbl&gt;</th><th scope=col>&lt;chr&gt;</th><th scope=col>&lt;dbl&gt;</th><th scope=col>&lt;dbl&gt;</th><th scope=col>&lt;chr&gt;</th><th scope=col>&lt;chr&gt;</th><th scope=col>&lt;chr&gt;</th><th scope=col>&lt;chr&gt;</th></tr>\n",
              "</thead>\n",
              "<tbody>\n",
              "\t<tr><td>5</td><td>108</td><td>11/15/2010</td><td>2010</td><td>N1</td><td>406</td><td>20</td><td>NA</td><td>NA</td><td>NA</td><td>NA</td></tr>\n",
              "\t<tr><td>5</td><td>108</td><td>11/15/2010</td><td>2010</td><td>N2</td><td> 12</td><td>27</td><td>NA</td><td>NA</td><td>NA</td><td>NA</td></tr>\n",
              "\t<tr><td>5</td><td>108</td><td>11/15/2010</td><td>2010</td><td>N3</td><td> 12</td><td>16</td><td>NA</td><td>NA</td><td>NA</td><td>NA</td></tr>\n",
              "\t<tr><td>5</td><td>108</td><td>11/15/2010</td><td>2010</td><td>N4</td><td> 12</td><td>17</td><td>NA</td><td>NA</td><td>NA</td><td>NA</td></tr>\n",
              "\t<tr><td>5</td><td>108</td><td>11/15/2010</td><td>2010</td><td>N5</td><td> 12</td><td>16</td><td>NA</td><td>NA</td><td>NA</td><td>NA</td></tr>\n",
              "\t<tr><td>5</td><td>108</td><td>11/15/2010</td><td>2010</td><td>N6</td><td> 12</td><td>16</td><td>NA</td><td>NA</td><td>NA</td><td>NA</td></tr>\n",
              "</tbody>\n",
              "</table>\n"
            ]
          },
          "metadata": {
            "tags": []
          }
        }
      ]
    },
    {
      "cell_type": "markdown",
      "metadata": {
        "id": "lEcRaxTP76XY"
      },
      "source": [
        "# Wrangle"
      ]
    },
    {
      "cell_type": "markdown",
      "metadata": {
        "id": "MSzW2Lgy79y7"
      },
      "source": [
        "## Rename"
      ]
    },
    {
      "cell_type": "code",
      "metadata": {
        "id": "Uw10I9Vl5Ult",
        "colab": {
          "base_uri": "https://localhost:8080/",
          "height": 34
        },
        "outputId": "94709724-3c0c-4b42-8720-b0b2be12f0fd"
      },
      "source": [
        "names(df_pt)"
      ],
      "execution_count": null,
      "outputs": [
        {
          "output_type": "display_data",
          "data": {
            "text/plain": [
              " [1] \"Survey Data::__kp_Survey\" \"Survey Data::_kf_Site\"   \n",
              " [3] \"Survey Data::SurveyDate\"  \"Survey Data::SurveyYear\" \n",
              " [5] \"PointTrans\"               \"_kf_Hit1_serial\"         \n",
              " [7] \"Height\"                   \"_kf_Hit2_serial\"         \n",
              " [9] \"_kf_Hit3_serial\"          \"_kf_Hit4_serial\"         \n",
              "[11] \"GroundCover\"             "
            ],
            "text/latex": "\\begin{enumerate*}\n\\item 'Survey Data::\\_\\_kp\\_Survey'\n\\item 'Survey Data::\\_kf\\_Site'\n\\item 'Survey Data::SurveyDate'\n\\item 'Survey Data::SurveyYear'\n\\item 'PointTrans'\n\\item '\\_kf\\_Hit1\\_serial'\n\\item 'Height'\n\\item '\\_kf\\_Hit2\\_serial'\n\\item '\\_kf\\_Hit3\\_serial'\n\\item '\\_kf\\_Hit4\\_serial'\n\\item 'GroundCover'\n\\end{enumerate*}\n",
            "text/markdown": "1. 'Survey Data::__kp_Survey'\n2. 'Survey Data::_kf_Site'\n3. 'Survey Data::SurveyDate'\n4. 'Survey Data::SurveyYear'\n5. 'PointTrans'\n6. '_kf_Hit1_serial'\n7. 'Height'\n8. '_kf_Hit2_serial'\n9. '_kf_Hit3_serial'\n10. '_kf_Hit4_serial'\n11. 'GroundCover'\n\n\n",
            "text/html": [
              "<style>\n",
              ".list-inline {list-style: none; margin:0; padding: 0}\n",
              ".list-inline>li {display: inline-block}\n",
              ".list-inline>li:not(:last-child)::after {content: \"\\00b7\"; padding: 0 .5ex}\n",
              "</style>\n",
              "<ol class=list-inline><li>'Survey Data::__kp_Survey'</li><li>'Survey Data::_kf_Site'</li><li>'Survey Data::SurveyDate'</li><li>'Survey Data::SurveyYear'</li><li>'PointTrans'</li><li>'_kf_Hit1_serial'</li><li>'Height'</li><li>'_kf_Hit2_serial'</li><li>'_kf_Hit3_serial'</li><li>'_kf_Hit4_serial'</li><li>'GroundCover'</li></ol>\n"
            ]
          },
          "metadata": {
            "tags": []
          }
        }
      ]
    },
    {
      "cell_type": "code",
      "metadata": {
        "id": "Vs3Sb4Hc6Oj-"
      },
      "source": [
        "oldnames = c('Survey Data::__kp_Survey','Survey Data::_kf_Site','Survey Data::SurveyDate',\n",
        "             'Survey Data::SurveyYear','PointTrans','_kf_Hit1_serial','Height',\n",
        "             '_kf_Hit2_serial','_kf_Hit3_serial','_kf_Hit4_serial','GroundCover')\n",
        "          \n",
        "newnames = c('survey_ID', 'grid_point', 'date', 'year', \n",
        "             'transect_point', 'intercept_1', 'height_intercept_1', 'intercept_2',\n",
        "             'intercept_3', 'intercept_4', 'intercept_ground_code')\n",
        "\n",
        "df_pt <- df_pt %>% rename_at(vars(all_of(oldnames)), ~ newnames)"
      ],
      "execution_count": null,
      "outputs": []
    },
    {
      "cell_type": "code",
      "metadata": {
        "id": "zPWFgkoT9tzL",
        "colab": {
          "base_uri": "https://localhost:8080/",
          "height": 204
        },
        "outputId": "5cb75ea2-95e8-4ec3-cd48-32ef0364ee04"
      },
      "source": [
        "head(df_pt)"
      ],
      "execution_count": null,
      "outputs": [
        {
          "output_type": "display_data",
          "data": {
            "text/plain": [
              "  survey_ID grid_point date       year transect_point intercept_1\n",
              "1 5         108        11/15/2010 2010 N1             406        \n",
              "2 5         108        11/15/2010 2010 N2              12        \n",
              "3 5         108        11/15/2010 2010 N3              12        \n",
              "4 5         108        11/15/2010 2010 N4              12        \n",
              "5 5         108        11/15/2010 2010 N5              12        \n",
              "6 5         108        11/15/2010 2010 N6              12        \n",
              "  height_intercept_1 intercept_2 intercept_3 intercept_4 intercept_ground_code\n",
              "1 20                 NA          NA          NA          NA                   \n",
              "2 27                 NA          NA          NA          NA                   \n",
              "3 16                 NA          NA          NA          NA                   \n",
              "4 17                 NA          NA          NA          NA                   \n",
              "5 16                 NA          NA          NA          NA                   \n",
              "6 16                 NA          NA          NA          NA                   "
            ],
            "text/latex": "A tibble: 6 × 11\n\\begin{tabular}{lllllllllll}\n survey\\_ID & grid\\_point & date & year & transect\\_point & intercept\\_1 & height\\_intercept\\_1 & intercept\\_2 & intercept\\_3 & intercept\\_4 & intercept\\_ground\\_code\\\\\n <chr> & <dbl> & <chr> & <dbl> & <chr> & <dbl> & <dbl> & <chr> & <chr> & <chr> & <chr>\\\\\n\\hline\n\t 5 & 108 & 11/15/2010 & 2010 & N1 & 406 & 20 & NA & NA & NA & NA\\\\\n\t 5 & 108 & 11/15/2010 & 2010 & N2 &  12 & 27 & NA & NA & NA & NA\\\\\n\t 5 & 108 & 11/15/2010 & 2010 & N3 &  12 & 16 & NA & NA & NA & NA\\\\\n\t 5 & 108 & 11/15/2010 & 2010 & N4 &  12 & 17 & NA & NA & NA & NA\\\\\n\t 5 & 108 & 11/15/2010 & 2010 & N5 &  12 & 16 & NA & NA & NA & NA\\\\\n\t 5 & 108 & 11/15/2010 & 2010 & N6 &  12 & 16 & NA & NA & NA & NA\\\\\n\\end{tabular}\n",
            "text/markdown": "\nA tibble: 6 × 11\n\n| survey_ID &lt;chr&gt; | grid_point &lt;dbl&gt; | date &lt;chr&gt; | year &lt;dbl&gt; | transect_point &lt;chr&gt; | intercept_1 &lt;dbl&gt; | height_intercept_1 &lt;dbl&gt; | intercept_2 &lt;chr&gt; | intercept_3 &lt;chr&gt; | intercept_4 &lt;chr&gt; | intercept_ground_code &lt;chr&gt; |\n|---|---|---|---|---|---|---|---|---|---|---|\n| 5 | 108 | 11/15/2010 | 2010 | N1 | 406 | 20 | NA | NA | NA | NA |\n| 5 | 108 | 11/15/2010 | 2010 | N2 |  12 | 27 | NA | NA | NA | NA |\n| 5 | 108 | 11/15/2010 | 2010 | N3 |  12 | 16 | NA | NA | NA | NA |\n| 5 | 108 | 11/15/2010 | 2010 | N4 |  12 | 17 | NA | NA | NA | NA |\n| 5 | 108 | 11/15/2010 | 2010 | N5 |  12 | 16 | NA | NA | NA | NA |\n| 5 | 108 | 11/15/2010 | 2010 | N6 |  12 | 16 | NA | NA | NA | NA |\n\n",
            "text/html": [
              "<table>\n",
              "<caption>A tibble: 6 × 11</caption>\n",
              "<thead>\n",
              "\t<tr><th scope=col>survey_ID</th><th scope=col>grid_point</th><th scope=col>date</th><th scope=col>year</th><th scope=col>transect_point</th><th scope=col>intercept_1</th><th scope=col>height_intercept_1</th><th scope=col>intercept_2</th><th scope=col>intercept_3</th><th scope=col>intercept_4</th><th scope=col>intercept_ground_code</th></tr>\n",
              "\t<tr><th scope=col>&lt;chr&gt;</th><th scope=col>&lt;dbl&gt;</th><th scope=col>&lt;chr&gt;</th><th scope=col>&lt;dbl&gt;</th><th scope=col>&lt;chr&gt;</th><th scope=col>&lt;dbl&gt;</th><th scope=col>&lt;dbl&gt;</th><th scope=col>&lt;chr&gt;</th><th scope=col>&lt;chr&gt;</th><th scope=col>&lt;chr&gt;</th><th scope=col>&lt;chr&gt;</th></tr>\n",
              "</thead>\n",
              "<tbody>\n",
              "\t<tr><td>5</td><td>108</td><td>11/15/2010</td><td>2010</td><td>N1</td><td>406</td><td>20</td><td>NA</td><td>NA</td><td>NA</td><td>NA</td></tr>\n",
              "\t<tr><td>5</td><td>108</td><td>11/15/2010</td><td>2010</td><td>N2</td><td> 12</td><td>27</td><td>NA</td><td>NA</td><td>NA</td><td>NA</td></tr>\n",
              "\t<tr><td>5</td><td>108</td><td>11/15/2010</td><td>2010</td><td>N3</td><td> 12</td><td>16</td><td>NA</td><td>NA</td><td>NA</td><td>NA</td></tr>\n",
              "\t<tr><td>5</td><td>108</td><td>11/15/2010</td><td>2010</td><td>N4</td><td> 12</td><td>17</td><td>NA</td><td>NA</td><td>NA</td><td>NA</td></tr>\n",
              "\t<tr><td>5</td><td>108</td><td>11/15/2010</td><td>2010</td><td>N5</td><td> 12</td><td>16</td><td>NA</td><td>NA</td><td>NA</td><td>NA</td></tr>\n",
              "\t<tr><td>5</td><td>108</td><td>11/15/2010</td><td>2010</td><td>N6</td><td> 12</td><td>16</td><td>NA</td><td>NA</td><td>NA</td><td>NA</td></tr>\n",
              "</tbody>\n",
              "</table>\n"
            ]
          },
          "metadata": {
            "tags": []
          }
        }
      ]
    },
    {
      "cell_type": "markdown",
      "metadata": {
        "id": "rRC9RX57-sGc"
      },
      "source": [
        "## Filter"
      ]
    },
    {
      "cell_type": "code",
      "metadata": {
        "id": "YBJv4WMq-umH"
      },
      "source": [
        "# remove 2010\n",
        "df_pt <- df_pt %>%\n",
        "  filter(year > 2010)"
      ],
      "execution_count": null,
      "outputs": []
    },
    {
      "cell_type": "markdown",
      "metadata": {
        "id": "NGGMjZwaAnHJ"
      },
      "source": [
        "## Explore"
      ]
    },
    {
      "cell_type": "markdown",
      "metadata": {
        "id": "Qw-AZUI4Uo4h"
      },
      "source": [
        "### grid_point"
      ]
    },
    {
      "cell_type": "code",
      "metadata": {
        "id": "I0zLaAktUuJJ",
        "colab": {
          "base_uri": "https://localhost:8080/",
          "height": 1000
        },
        "outputId": "e3b1c5d1-9fe4-4e22-dc32-311e3c76c722"
      },
      "source": [
        "df_pt %>%\n",
        "  distinct(grid_point) %>%\n",
        "  arrange(grid_point)"
      ],
      "execution_count": null,
      "outputs": [
        {
          "output_type": "display_data",
          "data": {
            "text/plain": [
              "    grid_point\n",
              "1    1        \n",
              "2    2        \n",
              "3    3        \n",
              "4    4        \n",
              "5    5        \n",
              "6    6        \n",
              "7    7        \n",
              "8    8        \n",
              "9    9        \n",
              "10  10        \n",
              "11  11        \n",
              "12  12        \n",
              "13  13        \n",
              "14  14        \n",
              "15  15        \n",
              "16  16        \n",
              "17  17        \n",
              "18  18        \n",
              "19  19        \n",
              "20  20        \n",
              "21  21        \n",
              "22  22        \n",
              "23  23        \n",
              "24  24        \n",
              "25  25        \n",
              "26  26        \n",
              "27  27        \n",
              "28  28        \n",
              "29  29        \n",
              "30  30        \n",
              "⋮   ⋮         \n",
              "553 554       \n",
              "554 555       \n",
              "555 556       \n",
              "556 557       \n",
              "557 558       \n",
              "558 559       \n",
              "559 560       \n",
              "560 561       \n",
              "561 562       \n",
              "562 563       \n",
              "563 564       \n",
              "564 565       \n",
              "565 566       \n",
              "566 567       \n",
              "567 568       \n",
              "568 569       \n",
              "569 570       \n",
              "570 571       \n",
              "571 572       \n",
              "572 573       \n",
              "573 574       \n",
              "574 575       \n",
              "575 576       \n",
              "576 577       \n",
              "577 578       \n",
              "578 579       \n",
              "579 580       \n",
              "580 581       \n",
              "581 582       \n",
              "582 583       "
            ],
            "text/latex": "A tibble: 582 × 1\n\\begin{tabular}{l}\n grid\\_point\\\\\n <dbl>\\\\\n\\hline\n\t  1\\\\\n\t  2\\\\\n\t  3\\\\\n\t  4\\\\\n\t  5\\\\\n\t  6\\\\\n\t  7\\\\\n\t  8\\\\\n\t  9\\\\\n\t 10\\\\\n\t 11\\\\\n\t 12\\\\\n\t 13\\\\\n\t 14\\\\\n\t 15\\\\\n\t 16\\\\\n\t 17\\\\\n\t 18\\\\\n\t 19\\\\\n\t 20\\\\\n\t 21\\\\\n\t 22\\\\\n\t 23\\\\\n\t 24\\\\\n\t 25\\\\\n\t 26\\\\\n\t 27\\\\\n\t 28\\\\\n\t 29\\\\\n\t 30\\\\\n\t ⋮\\\\\n\t 554\\\\\n\t 555\\\\\n\t 556\\\\\n\t 557\\\\\n\t 558\\\\\n\t 559\\\\\n\t 560\\\\\n\t 561\\\\\n\t 562\\\\\n\t 563\\\\\n\t 564\\\\\n\t 565\\\\\n\t 566\\\\\n\t 567\\\\\n\t 568\\\\\n\t 569\\\\\n\t 570\\\\\n\t 571\\\\\n\t 572\\\\\n\t 573\\\\\n\t 574\\\\\n\t 575\\\\\n\t 576\\\\\n\t 577\\\\\n\t 578\\\\\n\t 579\\\\\n\t 580\\\\\n\t 581\\\\\n\t 582\\\\\n\t 583\\\\\n\\end{tabular}\n",
            "text/markdown": "\nA tibble: 582 × 1\n\n| grid_point &lt;dbl&gt; |\n|---|\n|  1 |\n|  2 |\n|  3 |\n|  4 |\n|  5 |\n|  6 |\n|  7 |\n|  8 |\n|  9 |\n| 10 |\n| 11 |\n| 12 |\n| 13 |\n| 14 |\n| 15 |\n| 16 |\n| 17 |\n| 18 |\n| 19 |\n| 20 |\n| 21 |\n| 22 |\n| 23 |\n| 24 |\n| 25 |\n| 26 |\n| 27 |\n| 28 |\n| 29 |\n| 30 |\n| ⋮ |\n| 554 |\n| 555 |\n| 556 |\n| 557 |\n| 558 |\n| 559 |\n| 560 |\n| 561 |\n| 562 |\n| 563 |\n| 564 |\n| 565 |\n| 566 |\n| 567 |\n| 568 |\n| 569 |\n| 570 |\n| 571 |\n| 572 |\n| 573 |\n| 574 |\n| 575 |\n| 576 |\n| 577 |\n| 578 |\n| 579 |\n| 580 |\n| 581 |\n| 582 |\n| 583 |\n\n",
            "text/html": [
              "<table>\n",
              "<caption>A tibble: 582 × 1</caption>\n",
              "<thead>\n",
              "\t<tr><th scope=col>grid_point</th></tr>\n",
              "\t<tr><th scope=col>&lt;dbl&gt;</th></tr>\n",
              "</thead>\n",
              "<tbody>\n",
              "\t<tr><td> 1</td></tr>\n",
              "\t<tr><td> 2</td></tr>\n",
              "\t<tr><td> 3</td></tr>\n",
              "\t<tr><td> 4</td></tr>\n",
              "\t<tr><td> 5</td></tr>\n",
              "\t<tr><td> 6</td></tr>\n",
              "\t<tr><td> 7</td></tr>\n",
              "\t<tr><td> 8</td></tr>\n",
              "\t<tr><td> 9</td></tr>\n",
              "\t<tr><td>10</td></tr>\n",
              "\t<tr><td>11</td></tr>\n",
              "\t<tr><td>12</td></tr>\n",
              "\t<tr><td>13</td></tr>\n",
              "\t<tr><td>14</td></tr>\n",
              "\t<tr><td>15</td></tr>\n",
              "\t<tr><td>16</td></tr>\n",
              "\t<tr><td>17</td></tr>\n",
              "\t<tr><td>18</td></tr>\n",
              "\t<tr><td>19</td></tr>\n",
              "\t<tr><td>20</td></tr>\n",
              "\t<tr><td>21</td></tr>\n",
              "\t<tr><td>22</td></tr>\n",
              "\t<tr><td>23</td></tr>\n",
              "\t<tr><td>24</td></tr>\n",
              "\t<tr><td>25</td></tr>\n",
              "\t<tr><td>26</td></tr>\n",
              "\t<tr><td>27</td></tr>\n",
              "\t<tr><td>28</td></tr>\n",
              "\t<tr><td>29</td></tr>\n",
              "\t<tr><td>30</td></tr>\n",
              "\t<tr><td>⋮</td></tr>\n",
              "\t<tr><td>554</td></tr>\n",
              "\t<tr><td>555</td></tr>\n",
              "\t<tr><td>556</td></tr>\n",
              "\t<tr><td>557</td></tr>\n",
              "\t<tr><td>558</td></tr>\n",
              "\t<tr><td>559</td></tr>\n",
              "\t<tr><td>560</td></tr>\n",
              "\t<tr><td>561</td></tr>\n",
              "\t<tr><td>562</td></tr>\n",
              "\t<tr><td>563</td></tr>\n",
              "\t<tr><td>564</td></tr>\n",
              "\t<tr><td>565</td></tr>\n",
              "\t<tr><td>566</td></tr>\n",
              "\t<tr><td>567</td></tr>\n",
              "\t<tr><td>568</td></tr>\n",
              "\t<tr><td>569</td></tr>\n",
              "\t<tr><td>570</td></tr>\n",
              "\t<tr><td>571</td></tr>\n",
              "\t<tr><td>572</td></tr>\n",
              "\t<tr><td>573</td></tr>\n",
              "\t<tr><td>574</td></tr>\n",
              "\t<tr><td>575</td></tr>\n",
              "\t<tr><td>576</td></tr>\n",
              "\t<tr><td>577</td></tr>\n",
              "\t<tr><td>578</td></tr>\n",
              "\t<tr><td>579</td></tr>\n",
              "\t<tr><td>580</td></tr>\n",
              "\t<tr><td>581</td></tr>\n",
              "\t<tr><td>582</td></tr>\n",
              "\t<tr><td>583</td></tr>\n",
              "</tbody>\n",
              "</table>\n"
            ]
          },
          "metadata": {
            "tags": []
          }
        }
      ]
    },
    {
      "cell_type": "markdown",
      "metadata": {
        "id": "0sgrhvjmGPhz"
      },
      "source": [
        "### transect_point"
      ]
    },
    {
      "cell_type": "code",
      "metadata": {
        "id": "jTKkh9qK8k2Y",
        "colab": {
          "base_uri": "https://localhost:8080/",
          "height": 1000
        },
        "outputId": "eea1a2d5-40bb-44d4-b1cf-4fae3be4c022"
      },
      "source": [
        "df_pt %>%\n",
        "  distinct(transect_point) %>%\n",
        "  arrange(transect_point)"
      ],
      "execution_count": null,
      "outputs": [
        {
          "output_type": "display_data",
          "data": {
            "text/plain": [
              "    transect_point\n",
              "1   E1            \n",
              "2   E10           \n",
              "3   E11           \n",
              "4   E12           \n",
              "5   E13           \n",
              "6   E14           \n",
              "7   E15           \n",
              "8   E16           \n",
              "9   E17           \n",
              "10  E18           \n",
              "11  E19           \n",
              "12  E2            \n",
              "13  E20           \n",
              "14  E21           \n",
              "15  E22           \n",
              "16  E23           \n",
              "17  E24           \n",
              "18  E25           \n",
              "19  E26           \n",
              "20  E27           \n",
              "21  E28           \n",
              "22  E29           \n",
              "23  E3            \n",
              "24  E30           \n",
              "25  E31           \n",
              "26  E32           \n",
              "27  E33           \n",
              "28  E34           \n",
              "29  E35           \n",
              "30  E36           \n",
              "⋮   ⋮             \n",
              "175 W28           \n",
              "176 W29           \n",
              "177 W3            \n",
              "178 W30           \n",
              "179 W31           \n",
              "180 W32           \n",
              "181 W33           \n",
              "182 W34           \n",
              "183 W35           \n",
              "184 W36           \n",
              "185 W37           \n",
              "186 W38           \n",
              "187 W39           \n",
              "188 W4            \n",
              "189 W40           \n",
              "190 W41           \n",
              "191 W42           \n",
              "192 W43           \n",
              "193 W44           \n",
              "194 W45           \n",
              "195 W46           \n",
              "196 W47           \n",
              "197 W48           \n",
              "198 W49           \n",
              "199 W5            \n",
              "200 W50           \n",
              "201 W6            \n",
              "202 W7            \n",
              "203 W8            \n",
              "204 W9            "
            ],
            "text/latex": "A tibble: 204 × 1\n\\begin{tabular}{l}\n transect\\_point\\\\\n <chr>\\\\\n\\hline\n\t E1 \\\\\n\t E10\\\\\n\t E11\\\\\n\t E12\\\\\n\t E13\\\\\n\t E14\\\\\n\t E15\\\\\n\t E16\\\\\n\t E17\\\\\n\t E18\\\\\n\t E19\\\\\n\t E2 \\\\\n\t E20\\\\\n\t E21\\\\\n\t E22\\\\\n\t E23\\\\\n\t E24\\\\\n\t E25\\\\\n\t E26\\\\\n\t E27\\\\\n\t E28\\\\\n\t E29\\\\\n\t E3 \\\\\n\t E30\\\\\n\t E31\\\\\n\t E32\\\\\n\t E33\\\\\n\t E34\\\\\n\t E35\\\\\n\t E36\\\\\n\t ⋮\\\\\n\t W28\\\\\n\t W29\\\\\n\t W3 \\\\\n\t W30\\\\\n\t W31\\\\\n\t W32\\\\\n\t W33\\\\\n\t W34\\\\\n\t W35\\\\\n\t W36\\\\\n\t W37\\\\\n\t W38\\\\\n\t W39\\\\\n\t W4 \\\\\n\t W40\\\\\n\t W41\\\\\n\t W42\\\\\n\t W43\\\\\n\t W44\\\\\n\t W45\\\\\n\t W46\\\\\n\t W47\\\\\n\t W48\\\\\n\t W49\\\\\n\t W5 \\\\\n\t W50\\\\\n\t W6 \\\\\n\t W7 \\\\\n\t W8 \\\\\n\t W9 \\\\\n\\end{tabular}\n",
            "text/markdown": "\nA tibble: 204 × 1\n\n| transect_point &lt;chr&gt; |\n|---|\n| E1  |\n| E10 |\n| E11 |\n| E12 |\n| E13 |\n| E14 |\n| E15 |\n| E16 |\n| E17 |\n| E18 |\n| E19 |\n| E2  |\n| E20 |\n| E21 |\n| E22 |\n| E23 |\n| E24 |\n| E25 |\n| E26 |\n| E27 |\n| E28 |\n| E29 |\n| E3  |\n| E30 |\n| E31 |\n| E32 |\n| E33 |\n| E34 |\n| E35 |\n| E36 |\n| ⋮ |\n| W28 |\n| W29 |\n| W3  |\n| W30 |\n| W31 |\n| W32 |\n| W33 |\n| W34 |\n| W35 |\n| W36 |\n| W37 |\n| W38 |\n| W39 |\n| W4  |\n| W40 |\n| W41 |\n| W42 |\n| W43 |\n| W44 |\n| W45 |\n| W46 |\n| W47 |\n| W48 |\n| W49 |\n| W5  |\n| W50 |\n| W6  |\n| W7  |\n| W8  |\n| W9  |\n\n",
            "text/html": [
              "<table>\n",
              "<caption>A tibble: 204 × 1</caption>\n",
              "<thead>\n",
              "\t<tr><th scope=col>transect_point</th></tr>\n",
              "\t<tr><th scope=col>&lt;chr&gt;</th></tr>\n",
              "</thead>\n",
              "<tbody>\n",
              "\t<tr><td>E1 </td></tr>\n",
              "\t<tr><td>E10</td></tr>\n",
              "\t<tr><td>E11</td></tr>\n",
              "\t<tr><td>E12</td></tr>\n",
              "\t<tr><td>E13</td></tr>\n",
              "\t<tr><td>E14</td></tr>\n",
              "\t<tr><td>E15</td></tr>\n",
              "\t<tr><td>E16</td></tr>\n",
              "\t<tr><td>E17</td></tr>\n",
              "\t<tr><td>E18</td></tr>\n",
              "\t<tr><td>E19</td></tr>\n",
              "\t<tr><td>E2 </td></tr>\n",
              "\t<tr><td>E20</td></tr>\n",
              "\t<tr><td>E21</td></tr>\n",
              "\t<tr><td>E22</td></tr>\n",
              "\t<tr><td>E23</td></tr>\n",
              "\t<tr><td>E24</td></tr>\n",
              "\t<tr><td>E25</td></tr>\n",
              "\t<tr><td>E26</td></tr>\n",
              "\t<tr><td>E27</td></tr>\n",
              "\t<tr><td>E28</td></tr>\n",
              "\t<tr><td>E29</td></tr>\n",
              "\t<tr><td>E3 </td></tr>\n",
              "\t<tr><td>E30</td></tr>\n",
              "\t<tr><td>E31</td></tr>\n",
              "\t<tr><td>E32</td></tr>\n",
              "\t<tr><td>E33</td></tr>\n",
              "\t<tr><td>E34</td></tr>\n",
              "\t<tr><td>E35</td></tr>\n",
              "\t<tr><td>E36</td></tr>\n",
              "\t<tr><td>⋮</td></tr>\n",
              "\t<tr><td>W28</td></tr>\n",
              "\t<tr><td>W29</td></tr>\n",
              "\t<tr><td>W3 </td></tr>\n",
              "\t<tr><td>W30</td></tr>\n",
              "\t<tr><td>W31</td></tr>\n",
              "\t<tr><td>W32</td></tr>\n",
              "\t<tr><td>W33</td></tr>\n",
              "\t<tr><td>W34</td></tr>\n",
              "\t<tr><td>W35</td></tr>\n",
              "\t<tr><td>W36</td></tr>\n",
              "\t<tr><td>W37</td></tr>\n",
              "\t<tr><td>W38</td></tr>\n",
              "\t<tr><td>W39</td></tr>\n",
              "\t<tr><td>W4 </td></tr>\n",
              "\t<tr><td>W40</td></tr>\n",
              "\t<tr><td>W41</td></tr>\n",
              "\t<tr><td>W42</td></tr>\n",
              "\t<tr><td>W43</td></tr>\n",
              "\t<tr><td>W44</td></tr>\n",
              "\t<tr><td>W45</td></tr>\n",
              "\t<tr><td>W46</td></tr>\n",
              "\t<tr><td>W47</td></tr>\n",
              "\t<tr><td>W48</td></tr>\n",
              "\t<tr><td>W49</td></tr>\n",
              "\t<tr><td>W5 </td></tr>\n",
              "\t<tr><td>W50</td></tr>\n",
              "\t<tr><td>W6 </td></tr>\n",
              "\t<tr><td>W7 </td></tr>\n",
              "\t<tr><td>W8 </td></tr>\n",
              "\t<tr><td>W9 </td></tr>\n",
              "</tbody>\n",
              "</table>\n"
            ]
          },
          "metadata": {
            "tags": []
          }
        }
      ]
    },
    {
      "cell_type": "code",
      "metadata": {
        "id": "MKfFr6gGXWMF"
      },
      "source": [
        "# set outliers to NA\n",
        "outliers <- c(\"se\", \"T\", \"W21E\")\n",
        "\n",
        "df_pt <- df_pt %>%\n",
        "  mutate(transect_point = ifelse(transect_point == \"se\" |\n",
        "                                 transect_point == \"T\" |\n",
        "                                 transect_point == \"W21E\", NA, transect_point))"
      ],
      "execution_count": null,
      "outputs": []
    },
    {
      "cell_type": "markdown",
      "metadata": {
        "id": "Rlp2mASyXO9U"
      },
      "source": [
        "### intercept_ground_code"
      ]
    },
    {
      "cell_type": "code",
      "metadata": {
        "id": "jdOnVnKPGbAM",
        "colab": {
          "base_uri": "https://localhost:8080/",
          "height": 498
        },
        "outputId": "ac766e0c-f5ee-4eb5-8862-e63df517d4e2"
      },
      "source": [
        "df_pt %>%\n",
        "  distinct(intercept_ground_code) %>%\n",
        "  arrange(intercept_ground_code)"
      ],
      "execution_count": null,
      "outputs": [
        {
          "output_type": "display_data",
          "data": {
            "text/plain": [
              "   intercept_ground_code\n",
              "1  BG                   \n",
              "2  BV                   \n",
              "3  G                    \n",
              "4  L                    \n",
              "5  LIC                  \n",
              "6  M                    \n",
              "7  M/L                  \n",
              "8  NDC                  \n",
              "9  OTHER                \n",
              "10 R                    \n",
              "11 SC                   \n",
              "12 SD                   \n",
              "13 SE                   \n",
              "14 SH                   \n",
              "15 SU                   \n",
              "16 WDL                  \n",
              "17 WDS                  \n",
              "18 WDSTUMP              \n",
              "19 WDT                  \n",
              "20 NA                   "
            ],
            "text/latex": "A tibble: 20 × 1\n\\begin{tabular}{l}\n intercept\\_ground\\_code\\\\\n <chr>\\\\\n\\hline\n\t BG     \\\\\n\t BV     \\\\\n\t G      \\\\\n\t L      \\\\\n\t LIC    \\\\\n\t M      \\\\\n\t M/L    \\\\\n\t NDC    \\\\\n\t OTHER  \\\\\n\t R      \\\\\n\t SC     \\\\\n\t SD     \\\\\n\t SE     \\\\\n\t SH     \\\\\n\t SU     \\\\\n\t WDL    \\\\\n\t WDS    \\\\\n\t WDSTUMP\\\\\n\t WDT    \\\\\n\t NA     \\\\\n\\end{tabular}\n",
            "text/markdown": "\nA tibble: 20 × 1\n\n| intercept_ground_code &lt;chr&gt; |\n|---|\n| BG      |\n| BV      |\n| G       |\n| L       |\n| LIC     |\n| M       |\n| M/L     |\n| NDC     |\n| OTHER   |\n| R       |\n| SC      |\n| SD      |\n| SE      |\n| SH      |\n| SU      |\n| WDL     |\n| WDS     |\n| WDSTUMP |\n| WDT     |\n| NA      |\n\n",
            "text/html": [
              "<table>\n",
              "<caption>A tibble: 20 × 1</caption>\n",
              "<thead>\n",
              "\t<tr><th scope=col>intercept_ground_code</th></tr>\n",
              "\t<tr><th scope=col>&lt;chr&gt;</th></tr>\n",
              "</thead>\n",
              "<tbody>\n",
              "\t<tr><td>BG     </td></tr>\n",
              "\t<tr><td>BV     </td></tr>\n",
              "\t<tr><td>G      </td></tr>\n",
              "\t<tr><td>L      </td></tr>\n",
              "\t<tr><td>LIC    </td></tr>\n",
              "\t<tr><td>M      </td></tr>\n",
              "\t<tr><td>M/L    </td></tr>\n",
              "\t<tr><td>NDC    </td></tr>\n",
              "\t<tr><td>OTHER  </td></tr>\n",
              "\t<tr><td>R      </td></tr>\n",
              "\t<tr><td>SC     </td></tr>\n",
              "\t<tr><td>SD     </td></tr>\n",
              "\t<tr><td>SE     </td></tr>\n",
              "\t<tr><td>SH     </td></tr>\n",
              "\t<tr><td>SU     </td></tr>\n",
              "\t<tr><td>WDL    </td></tr>\n",
              "\t<tr><td>WDS    </td></tr>\n",
              "\t<tr><td>WDSTUMP</td></tr>\n",
              "\t<tr><td>WDT    </td></tr>\n",
              "\t<tr><td>NA     </td></tr>\n",
              "</tbody>\n",
              "</table>\n"
            ]
          },
          "metadata": {
            "tags": []
          }
        }
      ]
    },
    {
      "cell_type": "code",
      "metadata": {
        "id": "eaL7oqMUOey0"
      },
      "source": [
        "not_in_list <- c(\"NDC\")\n",
        "\n",
        "df_pt <- df_pt %>%\n",
        "  mutate(intercept_ground_code = ifelse(intercept_ground_code == \"NDC\", NA, intercept_ground_code))"
      ],
      "execution_count": null,
      "outputs": []
    },
    {
      "cell_type": "code",
      "metadata": {
        "id": "LHfkR_eiPArV",
        "colab": {
          "base_uri": "https://localhost:8080/",
          "height": 477
        },
        "outputId": "9b8076b0-a106-4a90-e264-919a70cf6394"
      },
      "source": [
        "df_pt %>%\n",
        "  distinct(intercept_ground_code) %>%\n",
        "  arrange(intercept_ground_code)"
      ],
      "execution_count": null,
      "outputs": [
        {
          "output_type": "display_data",
          "data": {
            "text/plain": [
              "   intercept_ground_code\n",
              "1  BG                   \n",
              "2  BV                   \n",
              "3  G                    \n",
              "4  L                    \n",
              "5  LIC                  \n",
              "6  M                    \n",
              "7  M/L                  \n",
              "8  OTHER                \n",
              "9  R                    \n",
              "10 SC                   \n",
              "11 SD                   \n",
              "12 SE                   \n",
              "13 SH                   \n",
              "14 SU                   \n",
              "15 WDL                  \n",
              "16 WDS                  \n",
              "17 WDSTUMP              \n",
              "18 WDT                  \n",
              "19 NA                   "
            ],
            "text/latex": "A tibble: 19 × 1\n\\begin{tabular}{l}\n intercept\\_ground\\_code\\\\\n <chr>\\\\\n\\hline\n\t BG     \\\\\n\t BV     \\\\\n\t G      \\\\\n\t L      \\\\\n\t LIC    \\\\\n\t M      \\\\\n\t M/L    \\\\\n\t OTHER  \\\\\n\t R      \\\\\n\t SC     \\\\\n\t SD     \\\\\n\t SE     \\\\\n\t SH     \\\\\n\t SU     \\\\\n\t WDL    \\\\\n\t WDS    \\\\\n\t WDSTUMP\\\\\n\t WDT    \\\\\n\t NA     \\\\\n\\end{tabular}\n",
            "text/markdown": "\nA tibble: 19 × 1\n\n| intercept_ground_code &lt;chr&gt; |\n|---|\n| BG      |\n| BV      |\n| G       |\n| L       |\n| LIC     |\n| M       |\n| M/L     |\n| OTHER   |\n| R       |\n| SC      |\n| SD      |\n| SE      |\n| SH      |\n| SU      |\n| WDL     |\n| WDS     |\n| WDSTUMP |\n| WDT     |\n| NA      |\n\n",
            "text/html": [
              "<table>\n",
              "<caption>A tibble: 19 × 1</caption>\n",
              "<thead>\n",
              "\t<tr><th scope=col>intercept_ground_code</th></tr>\n",
              "\t<tr><th scope=col>&lt;chr&gt;</th></tr>\n",
              "</thead>\n",
              "<tbody>\n",
              "\t<tr><td>BG     </td></tr>\n",
              "\t<tr><td>BV     </td></tr>\n",
              "\t<tr><td>G      </td></tr>\n",
              "\t<tr><td>L      </td></tr>\n",
              "\t<tr><td>LIC    </td></tr>\n",
              "\t<tr><td>M      </td></tr>\n",
              "\t<tr><td>M/L    </td></tr>\n",
              "\t<tr><td>OTHER  </td></tr>\n",
              "\t<tr><td>R      </td></tr>\n",
              "\t<tr><td>SC     </td></tr>\n",
              "\t<tr><td>SD     </td></tr>\n",
              "\t<tr><td>SE     </td></tr>\n",
              "\t<tr><td>SH     </td></tr>\n",
              "\t<tr><td>SU     </td></tr>\n",
              "\t<tr><td>WDL    </td></tr>\n",
              "\t<tr><td>WDS    </td></tr>\n",
              "\t<tr><td>WDSTUMP</td></tr>\n",
              "\t<tr><td>WDT    </td></tr>\n",
              "\t<tr><td>NA     </td></tr>\n",
              "</tbody>\n",
              "</table>\n"
            ]
          },
          "metadata": {
            "tags": []
          }
        }
      ]
    },
    {
      "cell_type": "markdown",
      "metadata": {
        "id": "jOVkUZHVFFNW"
      },
      "source": [
        "## Data Types"
      ]
    },
    {
      "cell_type": "code",
      "metadata": {
        "id": "-c0QZ21zFGnu",
        "colab": {
          "base_uri": "https://localhost:8080/"
        },
        "outputId": "a9aa74b8-ae9c-4bd4-f198-1b39fd3eac3a"
      },
      "source": [
        "glimpse(df_pt)"
      ],
      "execution_count": null,
      "outputs": [
        {
          "output_type": "stream",
          "text": [
            "Rows: 248,645\n",
            "Columns: 11\n",
            "$ survey_ID             \u001b[3m\u001b[90m<chr>\u001b[39m\u001b[23m \"69\", \"69\", \"69\", \"69\", \"69\", \"69\", \"69\", \"69\",…\n",
            "$ grid_point            \u001b[3m\u001b[90m<dbl>\u001b[39m\u001b[23m 329, 329, 329, 329, 329, 329, 329, 329, 329, 32…\n",
            "$ date                  \u001b[3m\u001b[90m<chr>\u001b[39m\u001b[23m \"07/18/2011\", \"07/18/2011\", \"07/18/2011\", \"07/1…\n",
            "$ year                  \u001b[3m\u001b[90m<dbl>\u001b[39m\u001b[23m 2011, 2011, 2011, 2011, 2011, 2011, 2011, 2011,…\n",
            "$ transect_point        \u001b[3m\u001b[90m<chr>\u001b[39m\u001b[23m \"N1\", \"N2\", \"N3\", \"N4\", \"N5\", \"N6\", \"N7\", \"N8\",…\n",
            "$ intercept_1           \u001b[3m\u001b[90m<dbl>\u001b[39m\u001b[23m 497, 497, 497, 497, 497, 497, 497, 12, 82, 82, …\n",
            "$ height_intercept_1    \u001b[3m\u001b[90m<dbl>\u001b[39m\u001b[23m 60.0, 67.0, 55.0, 62.5, 65.0, 70.0, 40.0, 40.0,…\n",
            "$ intercept_2           \u001b[3m\u001b[90m<chr>\u001b[39m\u001b[23m \"82\", \"82\", \"82\", \"82\", \"82\", \"82\", \"82\", \"82\",…\n",
            "$ intercept_3           \u001b[3m\u001b[90m<chr>\u001b[39m\u001b[23m NA, NA, NA, NA, NA, \"12\", NA, NA, NA, NA, NA, N…\n",
            "$ intercept_4           \u001b[3m\u001b[90m<chr>\u001b[39m\u001b[23m NA, NA, NA, NA, NA, NA, NA, NA, NA, NA, NA, NA,…\n",
            "$ intercept_ground_code \u001b[3m\u001b[90m<chr>\u001b[39m\u001b[23m \"L\", \"L\", \"L\", \"L\", \"L\", \"BV\", \"L\", \"BV\", \"BV\",…\n"
          ],
          "name": "stdout"
        }
      ]
    },
    {
      "cell_type": "code",
      "metadata": {
        "id": "TLXrtYKaHMFv"
      },
      "source": [
        "df_pt$grid_point <- as.integer(df_pt$grid_point)\n",
        "df_pt$date <- as.Date(df_pt$date, \"%m/%d/%Y\")\n",
        "df_pt$year <- as.integer(df_pt$year)\n",
        "df_pt$intercept_1 <- as.integer(df_pt$intercept_1)\n",
        "df_pt$height_intercept_1 <- as.integer(df_pt$height_intercept_1)\n",
        "df_pt$intercept_2 <- as.integer(df_pt$intercept_2)\n",
        "df_pt$intercept_3 <- as.integer(df_pt$intercept_3)\n",
        "df_pt$intercept_4 <- as.integer(df_pt$intercept_4)"
      ],
      "execution_count": null,
      "outputs": []
    },
    {
      "cell_type": "code",
      "metadata": {
        "id": "-a-NpGQtI2g0",
        "colab": {
          "base_uri": "https://localhost:8080/"
        },
        "outputId": "6718b6a4-8522-40c4-b1ee-ccc8ab0366f6"
      },
      "source": [
        "glimpse(df_pt)"
      ],
      "execution_count": null,
      "outputs": [
        {
          "output_type": "stream",
          "text": [
            "Rows: 248,645\n",
            "Columns: 11\n",
            "$ survey_ID             \u001b[3m\u001b[90m<chr>\u001b[39m\u001b[23m \"69\", \"69\", \"69\", \"69\", \"69\", \"69\", \"69\", \"69\",…\n",
            "$ grid_point            \u001b[3m\u001b[90m<int>\u001b[39m\u001b[23m 329, 329, 329, 329, 329, 329, 329, 329, 329, 32…\n",
            "$ date                  \u001b[3m\u001b[90m<date>\u001b[39m\u001b[23m 2011-07-18, 2011-07-18, 2011-07-18, 2011-07-18…\n",
            "$ year                  \u001b[3m\u001b[90m<int>\u001b[39m\u001b[23m 2011, 2011, 2011, 2011, 2011, 2011, 2011, 2011,…\n",
            "$ transect_point        \u001b[3m\u001b[90m<chr>\u001b[39m\u001b[23m \"N1\", \"N2\", \"N3\", \"N4\", \"N5\", \"N6\", \"N7\", \"N8\",…\n",
            "$ intercept_1           \u001b[3m\u001b[90m<int>\u001b[39m\u001b[23m 497, 497, 497, 497, 497, 497, 497, 12, 82, 82, …\n",
            "$ height_intercept_1    \u001b[3m\u001b[90m<int>\u001b[39m\u001b[23m 60, 67, 55, 62, 65, 70, 40, 40, 5, 15, 15, 1, 7…\n",
            "$ intercept_2           \u001b[3m\u001b[90m<int>\u001b[39m\u001b[23m 82, 82, 82, 82, 82, 82, 82, 82, NA, NA, NA, NA,…\n",
            "$ intercept_3           \u001b[3m\u001b[90m<int>\u001b[39m\u001b[23m NA, NA, NA, NA, NA, 12, NA, NA, NA, NA, NA, NA,…\n",
            "$ intercept_4           \u001b[3m\u001b[90m<int>\u001b[39m\u001b[23m NA, NA, NA, NA, NA, NA, NA, NA, NA, NA, NA, NA,…\n",
            "$ intercept_ground_code \u001b[3m\u001b[90m<chr>\u001b[39m\u001b[23m \"L\", \"L\", \"L\", \"L\", \"L\", \"BV\", \"L\", \"BV\", \"BV\",…\n"
          ],
          "name": "stdout"
        }
      ]
    },
    {
      "cell_type": "markdown",
      "metadata": {
        "id": "gi_XdWyyVDIV"
      },
      "source": [
        "### Testing assumptions\n",
        "1. When ground cover = bare ground, there was no vegetation intercepted above it\n",
        "   1. Not true. Bare ground is synonymous with \"soil\" in these data\n",
        "1. When ground cover = similar to bare ground (e.g., gravel, rock, wood), there was no vegetation intercepted above it"
      ]
    },
    {
      "cell_type": "code",
      "metadata": {
        "colab": {
          "base_uri": "https://localhost:8080/",
          "height": 1000
        },
        "id": "8ePBDf_uVfAI",
        "outputId": "b05929d4-c7dd-4c64-c9da-c10aac344f96"
      },
      "source": [
        "df_pt %>% filter(intercept_ground_code == \"BG\") %>% select(intercept_1, intercept_2, intercept_3, intercept_4, intercept_ground_code) %>% distinct()"
      ],
      "execution_count": null,
      "outputs": [
        {
          "output_type": "display_data",
          "data": {
            "text/plain": [
              "     intercept_1 intercept_2 intercept_3 intercept_4 intercept_ground_code\n",
              "1    360          NA         NA          NA          BG                   \n",
              "2     82          NA         NA          NA          BG                   \n",
              "3     90          82         NA          NA          BG                   \n",
              "4     82          90         NA          NA          BG                   \n",
              "5     72          NA         NA          NA          BG                   \n",
              "6    437         411         NA          NA          BG                   \n",
              "7    437          NA         NA          NA          BG                   \n",
              "8    411          82         NA          NA          BG                   \n",
              "9    411          NA         NA          NA          BG                   \n",
              "10    72         437         NA          NA          BG                   \n",
              "11    63          NA         NA          NA          BG                   \n",
              "12   265          NA         NA          NA          BG                   \n",
              "13   437         125         NA          NA          BG                   \n",
              "14   529          NA         NA          NA          BG                   \n",
              "15   411         405         NA          NA          BG                   \n",
              "16   437         265         NA          NA          BG                   \n",
              "17   525          NA         NA          NA          BG                   \n",
              "18    53          NA         NA          NA          BG                   \n",
              "19    12          NA         NA          NA          BG                   \n",
              "20    20          NA         NA          NA          BG                   \n",
              "21   496          82         20          NA          BG                   \n",
              "22    82          20         NA          NA          BG                   \n",
              "23   496          82         NA          NA          BG                   \n",
              "24   496          NA         NA          NA          BG                   \n",
              "25    82         496         20          NA          BG                   \n",
              "26   496          20         NA          NA          BG                   \n",
              "27   496          20         82          NA          BG                   \n",
              "28    61          82         NA          NA          BG                   \n",
              "29    43         265         NA          NA          BG                   \n",
              "30    82          67         NA          NA          BG                   \n",
              "⋮    ⋮           ⋮           ⋮           ⋮           ⋮                    \n",
              "1907 633         575         373         NA          BG                   \n",
              "1908 575         414          NA         NA          BG                   \n",
              "1909 334         492          NA         NA          BG                   \n",
              "1910 334         414          NA         NA          BG                   \n",
              "1911 334         544          NA         NA          BG                   \n",
              "1912 334         689          NA         NA          BG                   \n",
              "1913 437          20          82         NA          BG                   \n",
              "1914 125         230          NA         NA          BG                   \n",
              "1915   3          82          NA         NA          BG                   \n",
              "1916 125         146          NA         NA          BG                   \n",
              "1917 437         287          NA         NA          BG                   \n",
              "1918  82         149          NA         NA          BG                   \n",
              "1919 389         230          NA         NA          BG                   \n",
              "1920 433         125          NA         NA          BG                   \n",
              "1921  24         146          NA         NA          BG                   \n",
              "1922  62          NA          NA         NA          BG                   \n",
              "1923 428           5          NA         NA          BG                   \n",
              "1924 232         101          NA         NA          BG                   \n",
              "1925 433         516         167         NA          BG                   \n",
              "1926 357         405         125         NA          BG                   \n",
              "1927 496         357          NA         NA          BG                   \n",
              "1928 125          87         327         NA          BG                   \n",
              "1929 146         415          NA         NA          BG                   \n",
              "1930 415         101          NA         NA          BG                   \n",
              "1931 516          20          NA         NA          BG                   \n",
              "1932 320         101          NA         NA          BG                   \n",
              "1933 395          52          NA         NA          BG                   \n",
              "1934  72         395          NA         NA          BG                   \n",
              "1935 233         221          NA         NA          BG                   \n",
              "1936 516         395          NA         NA          BG                   "
            ],
            "text/latex": "A tibble: 1936 × 5\n\\begin{tabular}{lllll}\n intercept\\_1 & intercept\\_2 & intercept\\_3 & intercept\\_4 & intercept\\_ground\\_code\\\\\n <int> & <int> & <int> & <int> & <chr>\\\\\n\\hline\n\t 360 &  NA & NA & NA & BG\\\\\n\t  82 &  NA & NA & NA & BG\\\\\n\t  90 &  82 & NA & NA & BG\\\\\n\t  82 &  90 & NA & NA & BG\\\\\n\t  72 &  NA & NA & NA & BG\\\\\n\t 437 & 411 & NA & NA & BG\\\\\n\t 437 &  NA & NA & NA & BG\\\\\n\t 411 &  82 & NA & NA & BG\\\\\n\t 411 &  NA & NA & NA & BG\\\\\n\t  72 & 437 & NA & NA & BG\\\\\n\t  63 &  NA & NA & NA & BG\\\\\n\t 265 &  NA & NA & NA & BG\\\\\n\t 437 & 125 & NA & NA & BG\\\\\n\t 529 &  NA & NA & NA & BG\\\\\n\t 411 & 405 & NA & NA & BG\\\\\n\t 437 & 265 & NA & NA & BG\\\\\n\t 525 &  NA & NA & NA & BG\\\\\n\t  53 &  NA & NA & NA & BG\\\\\n\t  12 &  NA & NA & NA & BG\\\\\n\t  20 &  NA & NA & NA & BG\\\\\n\t 496 &  82 & 20 & NA & BG\\\\\n\t  82 &  20 & NA & NA & BG\\\\\n\t 496 &  82 & NA & NA & BG\\\\\n\t 496 &  NA & NA & NA & BG\\\\\n\t  82 & 496 & 20 & NA & BG\\\\\n\t 496 &  20 & NA & NA & BG\\\\\n\t 496 &  20 & 82 & NA & BG\\\\\n\t  61 &  82 & NA & NA & BG\\\\\n\t  43 & 265 & NA & NA & BG\\\\\n\t  82 &  67 & NA & NA & BG\\\\\n\t ⋮ & ⋮ & ⋮ & ⋮ & ⋮\\\\\n\t 633 & 575 & 373 & NA & BG\\\\\n\t 575 & 414 &  NA & NA & BG\\\\\n\t 334 & 492 &  NA & NA & BG\\\\\n\t 334 & 414 &  NA & NA & BG\\\\\n\t 334 & 544 &  NA & NA & BG\\\\\n\t 334 & 689 &  NA & NA & BG\\\\\n\t 437 &  20 &  82 & NA & BG\\\\\n\t 125 & 230 &  NA & NA & BG\\\\\n\t   3 &  82 &  NA & NA & BG\\\\\n\t 125 & 146 &  NA & NA & BG\\\\\n\t 437 & 287 &  NA & NA & BG\\\\\n\t  82 & 149 &  NA & NA & BG\\\\\n\t 389 & 230 &  NA & NA & BG\\\\\n\t 433 & 125 &  NA & NA & BG\\\\\n\t  24 & 146 &  NA & NA & BG\\\\\n\t  62 &  NA &  NA & NA & BG\\\\\n\t 428 &   5 &  NA & NA & BG\\\\\n\t 232 & 101 &  NA & NA & BG\\\\\n\t 433 & 516 & 167 & NA & BG\\\\\n\t 357 & 405 & 125 & NA & BG\\\\\n\t 496 & 357 &  NA & NA & BG\\\\\n\t 125 &  87 & 327 & NA & BG\\\\\n\t 146 & 415 &  NA & NA & BG\\\\\n\t 415 & 101 &  NA & NA & BG\\\\\n\t 516 &  20 &  NA & NA & BG\\\\\n\t 320 & 101 &  NA & NA & BG\\\\\n\t 395 &  52 &  NA & NA & BG\\\\\n\t  72 & 395 &  NA & NA & BG\\\\\n\t 233 & 221 &  NA & NA & BG\\\\\n\t 516 & 395 &  NA & NA & BG\\\\\n\\end{tabular}\n",
            "text/markdown": "\nA tibble: 1936 × 5\n\n| intercept_1 &lt;int&gt; | intercept_2 &lt;int&gt; | intercept_3 &lt;int&gt; | intercept_4 &lt;int&gt; | intercept_ground_code &lt;chr&gt; |\n|---|---|---|---|---|\n| 360 |  NA | NA | NA | BG |\n|  82 |  NA | NA | NA | BG |\n|  90 |  82 | NA | NA | BG |\n|  82 |  90 | NA | NA | BG |\n|  72 |  NA | NA | NA | BG |\n| 437 | 411 | NA | NA | BG |\n| 437 |  NA | NA | NA | BG |\n| 411 |  82 | NA | NA | BG |\n| 411 |  NA | NA | NA | BG |\n|  72 | 437 | NA | NA | BG |\n|  63 |  NA | NA | NA | BG |\n| 265 |  NA | NA | NA | BG |\n| 437 | 125 | NA | NA | BG |\n| 529 |  NA | NA | NA | BG |\n| 411 | 405 | NA | NA | BG |\n| 437 | 265 | NA | NA | BG |\n| 525 |  NA | NA | NA | BG |\n|  53 |  NA | NA | NA | BG |\n|  12 |  NA | NA | NA | BG |\n|  20 |  NA | NA | NA | BG |\n| 496 |  82 | 20 | NA | BG |\n|  82 |  20 | NA | NA | BG |\n| 496 |  82 | NA | NA | BG |\n| 496 |  NA | NA | NA | BG |\n|  82 | 496 | 20 | NA | BG |\n| 496 |  20 | NA | NA | BG |\n| 496 |  20 | 82 | NA | BG |\n|  61 |  82 | NA | NA | BG |\n|  43 | 265 | NA | NA | BG |\n|  82 |  67 | NA | NA | BG |\n| ⋮ | ⋮ | ⋮ | ⋮ | ⋮ |\n| 633 | 575 | 373 | NA | BG |\n| 575 | 414 |  NA | NA | BG |\n| 334 | 492 |  NA | NA | BG |\n| 334 | 414 |  NA | NA | BG |\n| 334 | 544 |  NA | NA | BG |\n| 334 | 689 |  NA | NA | BG |\n| 437 |  20 |  82 | NA | BG |\n| 125 | 230 |  NA | NA | BG |\n|   3 |  82 |  NA | NA | BG |\n| 125 | 146 |  NA | NA | BG |\n| 437 | 287 |  NA | NA | BG |\n|  82 | 149 |  NA | NA | BG |\n| 389 | 230 |  NA | NA | BG |\n| 433 | 125 |  NA | NA | BG |\n|  24 | 146 |  NA | NA | BG |\n|  62 |  NA |  NA | NA | BG |\n| 428 |   5 |  NA | NA | BG |\n| 232 | 101 |  NA | NA | BG |\n| 433 | 516 | 167 | NA | BG |\n| 357 | 405 | 125 | NA | BG |\n| 496 | 357 |  NA | NA | BG |\n| 125 |  87 | 327 | NA | BG |\n| 146 | 415 |  NA | NA | BG |\n| 415 | 101 |  NA | NA | BG |\n| 516 |  20 |  NA | NA | BG |\n| 320 | 101 |  NA | NA | BG |\n| 395 |  52 |  NA | NA | BG |\n|  72 | 395 |  NA | NA | BG |\n| 233 | 221 |  NA | NA | BG |\n| 516 | 395 |  NA | NA | BG |\n\n",
            "text/html": [
              "<table>\n",
              "<caption>A tibble: 1936 × 5</caption>\n",
              "<thead>\n",
              "\t<tr><th scope=col>intercept_1</th><th scope=col>intercept_2</th><th scope=col>intercept_3</th><th scope=col>intercept_4</th><th scope=col>intercept_ground_code</th></tr>\n",
              "\t<tr><th scope=col>&lt;int&gt;</th><th scope=col>&lt;int&gt;</th><th scope=col>&lt;int&gt;</th><th scope=col>&lt;int&gt;</th><th scope=col>&lt;chr&gt;</th></tr>\n",
              "</thead>\n",
              "<tbody>\n",
              "\t<tr><td>360</td><td> NA</td><td>NA</td><td>NA</td><td>BG</td></tr>\n",
              "\t<tr><td> 82</td><td> NA</td><td>NA</td><td>NA</td><td>BG</td></tr>\n",
              "\t<tr><td> 90</td><td> 82</td><td>NA</td><td>NA</td><td>BG</td></tr>\n",
              "\t<tr><td> 82</td><td> 90</td><td>NA</td><td>NA</td><td>BG</td></tr>\n",
              "\t<tr><td> 72</td><td> NA</td><td>NA</td><td>NA</td><td>BG</td></tr>\n",
              "\t<tr><td>437</td><td>411</td><td>NA</td><td>NA</td><td>BG</td></tr>\n",
              "\t<tr><td>437</td><td> NA</td><td>NA</td><td>NA</td><td>BG</td></tr>\n",
              "\t<tr><td>411</td><td> 82</td><td>NA</td><td>NA</td><td>BG</td></tr>\n",
              "\t<tr><td>411</td><td> NA</td><td>NA</td><td>NA</td><td>BG</td></tr>\n",
              "\t<tr><td> 72</td><td>437</td><td>NA</td><td>NA</td><td>BG</td></tr>\n",
              "\t<tr><td> 63</td><td> NA</td><td>NA</td><td>NA</td><td>BG</td></tr>\n",
              "\t<tr><td>265</td><td> NA</td><td>NA</td><td>NA</td><td>BG</td></tr>\n",
              "\t<tr><td>437</td><td>125</td><td>NA</td><td>NA</td><td>BG</td></tr>\n",
              "\t<tr><td>529</td><td> NA</td><td>NA</td><td>NA</td><td>BG</td></tr>\n",
              "\t<tr><td>411</td><td>405</td><td>NA</td><td>NA</td><td>BG</td></tr>\n",
              "\t<tr><td>437</td><td>265</td><td>NA</td><td>NA</td><td>BG</td></tr>\n",
              "\t<tr><td>525</td><td> NA</td><td>NA</td><td>NA</td><td>BG</td></tr>\n",
              "\t<tr><td> 53</td><td> NA</td><td>NA</td><td>NA</td><td>BG</td></tr>\n",
              "\t<tr><td> 12</td><td> NA</td><td>NA</td><td>NA</td><td>BG</td></tr>\n",
              "\t<tr><td> 20</td><td> NA</td><td>NA</td><td>NA</td><td>BG</td></tr>\n",
              "\t<tr><td>496</td><td> 82</td><td>20</td><td>NA</td><td>BG</td></tr>\n",
              "\t<tr><td> 82</td><td> 20</td><td>NA</td><td>NA</td><td>BG</td></tr>\n",
              "\t<tr><td>496</td><td> 82</td><td>NA</td><td>NA</td><td>BG</td></tr>\n",
              "\t<tr><td>496</td><td> NA</td><td>NA</td><td>NA</td><td>BG</td></tr>\n",
              "\t<tr><td> 82</td><td>496</td><td>20</td><td>NA</td><td>BG</td></tr>\n",
              "\t<tr><td>496</td><td> 20</td><td>NA</td><td>NA</td><td>BG</td></tr>\n",
              "\t<tr><td>496</td><td> 20</td><td>82</td><td>NA</td><td>BG</td></tr>\n",
              "\t<tr><td> 61</td><td> 82</td><td>NA</td><td>NA</td><td>BG</td></tr>\n",
              "\t<tr><td> 43</td><td>265</td><td>NA</td><td>NA</td><td>BG</td></tr>\n",
              "\t<tr><td> 82</td><td> 67</td><td>NA</td><td>NA</td><td>BG</td></tr>\n",
              "\t<tr><td>⋮</td><td>⋮</td><td>⋮</td><td>⋮</td><td>⋮</td></tr>\n",
              "\t<tr><td>633</td><td>575</td><td>373</td><td>NA</td><td>BG</td></tr>\n",
              "\t<tr><td>575</td><td>414</td><td> NA</td><td>NA</td><td>BG</td></tr>\n",
              "\t<tr><td>334</td><td>492</td><td> NA</td><td>NA</td><td>BG</td></tr>\n",
              "\t<tr><td>334</td><td>414</td><td> NA</td><td>NA</td><td>BG</td></tr>\n",
              "\t<tr><td>334</td><td>544</td><td> NA</td><td>NA</td><td>BG</td></tr>\n",
              "\t<tr><td>334</td><td>689</td><td> NA</td><td>NA</td><td>BG</td></tr>\n",
              "\t<tr><td>437</td><td> 20</td><td> 82</td><td>NA</td><td>BG</td></tr>\n",
              "\t<tr><td>125</td><td>230</td><td> NA</td><td>NA</td><td>BG</td></tr>\n",
              "\t<tr><td>  3</td><td> 82</td><td> NA</td><td>NA</td><td>BG</td></tr>\n",
              "\t<tr><td>125</td><td>146</td><td> NA</td><td>NA</td><td>BG</td></tr>\n",
              "\t<tr><td>437</td><td>287</td><td> NA</td><td>NA</td><td>BG</td></tr>\n",
              "\t<tr><td> 82</td><td>149</td><td> NA</td><td>NA</td><td>BG</td></tr>\n",
              "\t<tr><td>389</td><td>230</td><td> NA</td><td>NA</td><td>BG</td></tr>\n",
              "\t<tr><td>433</td><td>125</td><td> NA</td><td>NA</td><td>BG</td></tr>\n",
              "\t<tr><td> 24</td><td>146</td><td> NA</td><td>NA</td><td>BG</td></tr>\n",
              "\t<tr><td> 62</td><td> NA</td><td> NA</td><td>NA</td><td>BG</td></tr>\n",
              "\t<tr><td>428</td><td>  5</td><td> NA</td><td>NA</td><td>BG</td></tr>\n",
              "\t<tr><td>232</td><td>101</td><td> NA</td><td>NA</td><td>BG</td></tr>\n",
              "\t<tr><td>433</td><td>516</td><td>167</td><td>NA</td><td>BG</td></tr>\n",
              "\t<tr><td>357</td><td>405</td><td>125</td><td>NA</td><td>BG</td></tr>\n",
              "\t<tr><td>496</td><td>357</td><td> NA</td><td>NA</td><td>BG</td></tr>\n",
              "\t<tr><td>125</td><td> 87</td><td>327</td><td>NA</td><td>BG</td></tr>\n",
              "\t<tr><td>146</td><td>415</td><td> NA</td><td>NA</td><td>BG</td></tr>\n",
              "\t<tr><td>415</td><td>101</td><td> NA</td><td>NA</td><td>BG</td></tr>\n",
              "\t<tr><td>516</td><td> 20</td><td> NA</td><td>NA</td><td>BG</td></tr>\n",
              "\t<tr><td>320</td><td>101</td><td> NA</td><td>NA</td><td>BG</td></tr>\n",
              "\t<tr><td>395</td><td> 52</td><td> NA</td><td>NA</td><td>BG</td></tr>\n",
              "\t<tr><td> 72</td><td>395</td><td> NA</td><td>NA</td><td>BG</td></tr>\n",
              "\t<tr><td>233</td><td>221</td><td> NA</td><td>NA</td><td>BG</td></tr>\n",
              "\t<tr><td>516</td><td>395</td><td> NA</td><td>NA</td><td>BG</td></tr>\n",
              "</tbody>\n",
              "</table>\n"
            ]
          },
          "metadata": {
            "tags": []
          }
        }
      ]
    },
    {
      "cell_type": "markdown",
      "metadata": {
        "id": "o1TSQkMDatX8"
      },
      "source": [
        "# Table Structure"
      ]
    },
    {
      "cell_type": "markdown",
      "metadata": {
        "id": "ISm3RH5ha1--"
      },
      "source": [
        "## gridVeg_point_intercept_vegetation"
      ]
    },
    {
      "cell_type": "code",
      "metadata": {
        "id": "AGgE7d87a1Pr"
      },
      "source": [
        "df_veg <- df_pt[, c(\"survey_ID\", \"grid_point\", \"date\", \"year\",\n",
        "          \"transect_point\", \"height_intercept_1\",\n",
        "          \"intercept_1\", \"intercept_2\", \"intercept_3\", \"intercept_4\")]"
      ],
      "execution_count": null,
      "outputs": []
    },
    {
      "cell_type": "code",
      "metadata": {
        "id": "sJvMp6_jJzbt",
        "colab": {
          "base_uri": "https://localhost:8080/"
        },
        "outputId": "1240e225-ca23-4ca5-a913-7a2a02581db4"
      },
      "source": [
        "glimpse(df_veg)"
      ],
      "execution_count": null,
      "outputs": [
        {
          "output_type": "stream",
          "text": [
            "Rows: 248,645\n",
            "Columns: 10\n",
            "$ survey_ID          \u001b[3m\u001b[90m<chr>\u001b[39m\u001b[23m \"69\", \"69\", \"69\", \"69\", \"69\", \"69\", \"69\", \"69\", \"6…\n",
            "$ grid_point         \u001b[3m\u001b[90m<int>\u001b[39m\u001b[23m 329, 329, 329, 329, 329, 329, 329, 329, 329, 329, …\n",
            "$ date               \u001b[3m\u001b[90m<date>\u001b[39m\u001b[23m 2011-07-18, 2011-07-18, 2011-07-18, 2011-07-18, 2…\n",
            "$ year               \u001b[3m\u001b[90m<int>\u001b[39m\u001b[23m 2011, 2011, 2011, 2011, 2011, 2011, 2011, 2011, 20…\n",
            "$ transect_point     \u001b[3m\u001b[90m<chr>\u001b[39m\u001b[23m \"N1\", \"N2\", \"N3\", \"N4\", \"N5\", \"N6\", \"N7\", \"N8\", \"N…\n",
            "$ height_intercept_1 \u001b[3m\u001b[90m<int>\u001b[39m\u001b[23m 60, 67, 55, 62, 65, 70, 40, 40, 5, 15, 15, 1, 7, 5…\n",
            "$ intercept_1        \u001b[3m\u001b[90m<int>\u001b[39m\u001b[23m 497, 497, 497, 497, 497, 497, 497, 12, 82, 82, 82,…\n",
            "$ intercept_2        \u001b[3m\u001b[90m<int>\u001b[39m\u001b[23m 82, 82, 82, 82, 82, 82, 82, 82, NA, NA, NA, NA, NA…\n",
            "$ intercept_3        \u001b[3m\u001b[90m<int>\u001b[39m\u001b[23m NA, NA, NA, NA, NA, 12, NA, NA, NA, NA, NA, NA, NA…\n",
            "$ intercept_4        \u001b[3m\u001b[90m<int>\u001b[39m\u001b[23m NA, NA, NA, NA, NA, NA, NA, NA, NA, NA, NA, NA, NA…\n"
          ],
          "name": "stdout"
        }
      ]
    },
    {
      "cell_type": "markdown",
      "metadata": {
        "id": "7MFOev3-L2NT"
      },
      "source": [
        "### Output"
      ]
    },
    {
      "cell_type": "code",
      "metadata": {
        "id": "XuibQtYGL35e",
        "colab": {
          "base_uri": "https://localhost:8080/"
        },
        "outputId": "f098b04f-a0d1-4abd-d6ff-436ea2038ad7"
      },
      "source": [
        "write_csv(df_veg, path = \"gridVeg_point_intercept_vegetation_WRANGLE.csv\")"
      ],
      "execution_count": null,
      "outputs": [
        {
          "output_type": "stream",
          "text": [
            "Warning message:\n",
            "“The `path` argument of `write_csv()` is deprecated as of readr 1.4.0.\n",
            "Please use the `file` argument instead.\n",
            "\u001b[90mThis warning is displayed once every 8 hours.\u001b[39m\n",
            "\u001b[90mCall `lifecycle::last_warnings()` to see where this warning was generated.\u001b[39m”\n"
          ],
          "name": "stderr"
        }
      ]
    },
    {
      "cell_type": "markdown",
      "metadata": {
        "id": "lysnnGA7a8Wu"
      },
      "source": [
        "## gridVeg_point_intercept_ground"
      ]
    },
    {
      "cell_type": "code",
      "metadata": {
        "id": "7KBMIOQmbATy"
      },
      "source": [
        "df_gnd <- df_pt[, c(\"survey_ID\", \"grid_point\", \"date\", \"year\", \n",
        "          \"transect_point\", \"intercept_ground_code\")]"
      ],
      "execution_count": null,
      "outputs": []
    },
    {
      "cell_type": "code",
      "metadata": {
        "id": "x4dHTMFHJ6sb",
        "colab": {
          "base_uri": "https://localhost:8080/",
          "height": 153
        },
        "outputId": "fd2cc34a-b116-419e-99fb-138499aa78ee"
      },
      "source": [
        "glimpse(df_gnd)"
      ],
      "execution_count": null,
      "outputs": [
        {
          "output_type": "stream",
          "text": [
            "Rows: 248,645\n",
            "Columns: 6\n",
            "$ survey_ID             \u001b[3m\u001b[90m<chr>\u001b[39m\u001b[23m \"69\", \"69\", \"69\", \"69\", \"69\", \"69\", \"69\", \"69\",…\n",
            "$ grid_point            \u001b[3m\u001b[90m<int>\u001b[39m\u001b[23m 329, 329, 329, 329, 329, 329, 329, 329, 329, 32…\n",
            "$ date                  \u001b[3m\u001b[90m<date>\u001b[39m\u001b[23m 2011-07-18, 2011-07-18, 2011-07-18, 2011-07-18…\n",
            "$ year                  \u001b[3m\u001b[90m<int>\u001b[39m\u001b[23m 2011, 2011, 2011, 2011, 2011, 2011, 2011, 2011,…\n",
            "$ transect_point        \u001b[3m\u001b[90m<chr>\u001b[39m\u001b[23m \"N1\", \"N2\", \"N3\", \"N4\", \"N5\", \"N6\", \"N7\", \"N8\",…\n",
            "$ intercept_ground_code \u001b[3m\u001b[90m<chr>\u001b[39m\u001b[23m \"L\", \"L\", \"L\", \"L\", \"L\", \"BV\", \"L\", \"BV\", \"BV\",…\n"
          ],
          "name": "stdout"
        }
      ]
    },
    {
      "cell_type": "markdown",
      "metadata": {
        "id": "UQ8haB0qMHfC"
      },
      "source": [
        "### Output"
      ]
    },
    {
      "cell_type": "code",
      "metadata": {
        "id": "1WPB0syDMIPx"
      },
      "source": [
        "write_csv(df_gnd, path = \"gridVeg_point_intercept_ground_WRANGLE.csv\")"
      ],
      "execution_count": null,
      "outputs": []
    }
  ]
}