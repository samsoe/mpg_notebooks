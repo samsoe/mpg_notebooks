{
  "nbformat": 4,
  "nbformat_minor": 0,
  "metadata": {
    "colab": {
      "name": "gridVeg_point_intercept_wrangle.ipynb",
      "provenance": [],
      "collapsed_sections": [],
      "include_colab_link": true
    },
    "language_info": {
      "codemirror_mode": "r",
      "file_extension": ".r",
      "mimetype": "text/x-r-source",
      "name": "R",
      "pygments_lexer": "r",
      "version": "3.3.1"
    },
    "kernelspec": {
      "display_name": "R",
      "language": "R",
      "name": "ir"
    },
    "accelerator": "GPU"
  },
  "cells": [
    {
      "cell_type": "markdown",
      "metadata": {
        "id": "view-in-github",
        "colab_type": "text"
      },
      "source": [
        "<a href=\"https://colab.research.google.com/github/samsoe/mpg_notebooks/blob/master/gridVeg_point_intercept_wrangle.ipynb\" target=\"_parent\"><img src=\"https://colab.research.google.com/assets/colab-badge.svg\" alt=\"Open In Colab\"/></a>"
      ]
    },
    {
      "cell_type": "markdown",
      "metadata": {
        "id": "BhOI1uU2Koum",
        "colab_type": "text"
      },
      "source": [
        "# Documentation"
      ]
    },
    {
      "cell_type": "markdown",
      "metadata": {
        "id": "tn3htZCH143K",
        "colab_type": "text"
      },
      "source": [
        "[Readme - vegetation point transect survey](https://docs.google.com/document/d/1JWnhxNjeSQZkSnGhtHP68i_l1mDj4vPFMBdUvGqN0TA/edit?usp=sharing)"
      ]
    },
    {
      "cell_type": "markdown",
      "metadata": {
        "id": "2h5YDpJM1tC-",
        "colab_type": "text"
      },
      "source": [
        "# Tools"
      ]
    },
    {
      "cell_type": "code",
      "metadata": {
        "id": "VxYkYhQTKouo",
        "colab_type": "code",
        "colab": {
          "base_uri": "https://localhost:8080/",
          "height": 204
        },
        "outputId": "512f8d7c-ddc4-4330-ee14-1ef60919c073"
      },
      "source": [
        "library(tidyverse)"
      ],
      "execution_count": 1,
      "outputs": [
        {
          "output_type": "stream",
          "text": [
            "── \u001b[1mAttaching packages\u001b[22m ─────────────────────────────────────── tidyverse 1.3.0 ──\n",
            "\n",
            "\u001b[32m✔\u001b[39m \u001b[34mggplot2\u001b[39m 3.3.2     \u001b[32m✔\u001b[39m \u001b[34mpurrr  \u001b[39m 0.3.4\n",
            "\u001b[32m✔\u001b[39m \u001b[34mtibble \u001b[39m 3.0.1     \u001b[32m✔\u001b[39m \u001b[34mdplyr  \u001b[39m 1.0.0\n",
            "\u001b[32m✔\u001b[39m \u001b[34mtidyr  \u001b[39m 1.1.0     \u001b[32m✔\u001b[39m \u001b[34mstringr\u001b[39m 1.4.0\n",
            "\u001b[32m✔\u001b[39m \u001b[34mreadr  \u001b[39m 1.3.1     \u001b[32m✔\u001b[39m \u001b[34mforcats\u001b[39m 0.5.0\n",
            "\n",
            "── \u001b[1mConflicts\u001b[22m ────────────────────────────────────────── tidyverse_conflicts() ──\n",
            "\u001b[31m✖\u001b[39m \u001b[34mdplyr\u001b[39m::\u001b[32mfilter()\u001b[39m masks \u001b[34mstats\u001b[39m::filter()\n",
            "\u001b[31m✖\u001b[39m \u001b[34mdplyr\u001b[39m::\u001b[32mlag()\u001b[39m    masks \u001b[34mstats\u001b[39m::lag()\n",
            "\n"
          ],
          "name": "stderr"
        }
      ]
    },
    {
      "cell_type": "markdown",
      "metadata": {
        "id": "oudCHLG11zIO",
        "colab_type": "text"
      },
      "source": [
        "# Source"
      ]
    },
    {
      "cell_type": "code",
      "metadata": {
        "id": "ihI70_BPKouq",
        "colab_type": "code",
        "colab": {}
      },
      "source": [
        "# 2020-06-17_gridVeg_point_intercepts_SOURCE.csv\n",
        "src_intercept <- \"https://drive.google.com/uc?export=download&id=1Uj8Nvo0GtFueZt6_Yli2D8jWiqACNssv\""
      ],
      "execution_count": 2,
      "outputs": []
    },
    {
      "cell_type": "code",
      "metadata": {
        "id": "1UKHUcqW3601",
        "colab_type": "code",
        "colab": {}
      },
      "source": [
        "df_pt <- read_csv(src_intercept, col_types = cols(\"Survey Data::__kp_Survey\" = col_character(),\n",
        "                                                  \"_kf_Hit2_serial\" = col_character(),\n",
        "                                                  \"_kf_Hit3_serial\" = col_character(),\n",
        "                                                  \"_kf_Hit4_serial\" = col_character()))"
      ],
      "execution_count": 3,
      "outputs": []
    },
    {
      "cell_type": "code",
      "metadata": {
        "id": "ihNrRcUn5Pq7",
        "colab_type": "code",
        "colab": {
          "base_uri": "https://localhost:8080/",
          "height": 204
        },
        "outputId": "438b56ef-cb78-4b9e-ba8e-beae0ce67bde"
      },
      "source": [
        "head(df_pt)"
      ],
      "execution_count": 4,
      "outputs": [
        {
          "output_type": "display_data",
          "data": {
            "text/plain": [
              "  Survey Data::__kp_Survey Survey Data::_kf_Site Survey Data::SurveyDate\n",
              "1 5                        108                   11/15/2010             \n",
              "2 5                        108                   11/15/2010             \n",
              "3 5                        108                   11/15/2010             \n",
              "4 5                        108                   11/15/2010             \n",
              "5 5                        108                   11/15/2010             \n",
              "6 5                        108                   11/15/2010             \n",
              "  Survey Data::SurveyYear PointTrans _kf_Hit1_serial Height _kf_Hit2_serial\n",
              "1 2010                    N1         406             20     NA             \n",
              "2 2010                    N2          12             27     NA             \n",
              "3 2010                    N3          12             16     NA             \n",
              "4 2010                    N4          12             17     NA             \n",
              "5 2010                    N5          12             16     NA             \n",
              "6 2010                    N6          12             16     NA             \n",
              "  _kf_Hit3_serial _kf_Hit4_serial GroundCover\n",
              "1 NA              NA              NA         \n",
              "2 NA              NA              NA         \n",
              "3 NA              NA              NA         \n",
              "4 NA              NA              NA         \n",
              "5 NA              NA              NA         \n",
              "6 NA              NA              NA         "
            ],
            "text/latex": "A tibble: 6 × 11\n\\begin{tabular}{lllllllllll}\n Survey Data::\\_\\_kp\\_Survey & Survey Data::\\_kf\\_Site & Survey Data::SurveyDate & Survey Data::SurveyYear & PointTrans & \\_kf\\_Hit1\\_serial & Height & \\_kf\\_Hit2\\_serial & \\_kf\\_Hit3\\_serial & \\_kf\\_Hit4\\_serial & GroundCover\\\\\n <chr> & <dbl> & <chr> & <dbl> & <chr> & <dbl> & <dbl> & <chr> & <chr> & <chr> & <chr>\\\\\n\\hline\n\t 5 & 108 & 11/15/2010 & 2010 & N1 & 406 & 20 & NA & NA & NA & NA\\\\\n\t 5 & 108 & 11/15/2010 & 2010 & N2 &  12 & 27 & NA & NA & NA & NA\\\\\n\t 5 & 108 & 11/15/2010 & 2010 & N3 &  12 & 16 & NA & NA & NA & NA\\\\\n\t 5 & 108 & 11/15/2010 & 2010 & N4 &  12 & 17 & NA & NA & NA & NA\\\\\n\t 5 & 108 & 11/15/2010 & 2010 & N5 &  12 & 16 & NA & NA & NA & NA\\\\\n\t 5 & 108 & 11/15/2010 & 2010 & N6 &  12 & 16 & NA & NA & NA & NA\\\\\n\\end{tabular}\n",
            "text/markdown": "\nA tibble: 6 × 11\n\n| Survey Data::__kp_Survey &lt;chr&gt; | Survey Data::_kf_Site &lt;dbl&gt; | Survey Data::SurveyDate &lt;chr&gt; | Survey Data::SurveyYear &lt;dbl&gt; | PointTrans &lt;chr&gt; | _kf_Hit1_serial &lt;dbl&gt; | Height &lt;dbl&gt; | _kf_Hit2_serial &lt;chr&gt; | _kf_Hit3_serial &lt;chr&gt; | _kf_Hit4_serial &lt;chr&gt; | GroundCover &lt;chr&gt; |\n|---|---|---|---|---|---|---|---|---|---|---|\n| 5 | 108 | 11/15/2010 | 2010 | N1 | 406 | 20 | NA | NA | NA | NA |\n| 5 | 108 | 11/15/2010 | 2010 | N2 |  12 | 27 | NA | NA | NA | NA |\n| 5 | 108 | 11/15/2010 | 2010 | N3 |  12 | 16 | NA | NA | NA | NA |\n| 5 | 108 | 11/15/2010 | 2010 | N4 |  12 | 17 | NA | NA | NA | NA |\n| 5 | 108 | 11/15/2010 | 2010 | N5 |  12 | 16 | NA | NA | NA | NA |\n| 5 | 108 | 11/15/2010 | 2010 | N6 |  12 | 16 | NA | NA | NA | NA |\n\n",
            "text/html": [
              "<table>\n",
              "<caption>A tibble: 6 × 11</caption>\n",
              "<thead>\n",
              "\t<tr><th scope=col>Survey Data::__kp_Survey</th><th scope=col>Survey Data::_kf_Site</th><th scope=col>Survey Data::SurveyDate</th><th scope=col>Survey Data::SurveyYear</th><th scope=col>PointTrans</th><th scope=col>_kf_Hit1_serial</th><th scope=col>Height</th><th scope=col>_kf_Hit2_serial</th><th scope=col>_kf_Hit3_serial</th><th scope=col>_kf_Hit4_serial</th><th scope=col>GroundCover</th></tr>\n",
              "\t<tr><th scope=col>&lt;chr&gt;</th><th scope=col>&lt;dbl&gt;</th><th scope=col>&lt;chr&gt;</th><th scope=col>&lt;dbl&gt;</th><th scope=col>&lt;chr&gt;</th><th scope=col>&lt;dbl&gt;</th><th scope=col>&lt;dbl&gt;</th><th scope=col>&lt;chr&gt;</th><th scope=col>&lt;chr&gt;</th><th scope=col>&lt;chr&gt;</th><th scope=col>&lt;chr&gt;</th></tr>\n",
              "</thead>\n",
              "<tbody>\n",
              "\t<tr><td>5</td><td>108</td><td>11/15/2010</td><td>2010</td><td>N1</td><td>406</td><td>20</td><td>NA</td><td>NA</td><td>NA</td><td>NA</td></tr>\n",
              "\t<tr><td>5</td><td>108</td><td>11/15/2010</td><td>2010</td><td>N2</td><td> 12</td><td>27</td><td>NA</td><td>NA</td><td>NA</td><td>NA</td></tr>\n",
              "\t<tr><td>5</td><td>108</td><td>11/15/2010</td><td>2010</td><td>N3</td><td> 12</td><td>16</td><td>NA</td><td>NA</td><td>NA</td><td>NA</td></tr>\n",
              "\t<tr><td>5</td><td>108</td><td>11/15/2010</td><td>2010</td><td>N4</td><td> 12</td><td>17</td><td>NA</td><td>NA</td><td>NA</td><td>NA</td></tr>\n",
              "\t<tr><td>5</td><td>108</td><td>11/15/2010</td><td>2010</td><td>N5</td><td> 12</td><td>16</td><td>NA</td><td>NA</td><td>NA</td><td>NA</td></tr>\n",
              "\t<tr><td>5</td><td>108</td><td>11/15/2010</td><td>2010</td><td>N6</td><td> 12</td><td>16</td><td>NA</td><td>NA</td><td>NA</td><td>NA</td></tr>\n",
              "</tbody>\n",
              "</table>\n"
            ]
          },
          "metadata": {
            "tags": []
          }
        }
      ]
    },
    {
      "cell_type": "markdown",
      "metadata": {
        "id": "lEcRaxTP76XY",
        "colab_type": "text"
      },
      "source": [
        "# Wrangle"
      ]
    },
    {
      "cell_type": "markdown",
      "metadata": {
        "id": "MSzW2Lgy79y7",
        "colab_type": "text"
      },
      "source": [
        "## Rename"
      ]
    },
    {
      "cell_type": "code",
      "metadata": {
        "id": "Uw10I9Vl5Ult",
        "colab_type": "code",
        "colab": {
          "base_uri": "https://localhost:8080/",
          "height": 34
        },
        "outputId": "0266f5f1-8d6f-4efc-8c70-b9104ff3086c"
      },
      "source": [
        "names(df_pt)"
      ],
      "execution_count": 5,
      "outputs": [
        {
          "output_type": "display_data",
          "data": {
            "text/plain": [
              " [1] \"Survey Data::__kp_Survey\" \"Survey Data::_kf_Site\"   \n",
              " [3] \"Survey Data::SurveyDate\"  \"Survey Data::SurveyYear\" \n",
              " [5] \"PointTrans\"               \"_kf_Hit1_serial\"         \n",
              " [7] \"Height\"                   \"_kf_Hit2_serial\"         \n",
              " [9] \"_kf_Hit3_serial\"          \"_kf_Hit4_serial\"         \n",
              "[11] \"GroundCover\"             "
            ],
            "text/latex": "\\begin{enumerate*}\n\\item 'Survey Data::\\_\\_kp\\_Survey'\n\\item 'Survey Data::\\_kf\\_Site'\n\\item 'Survey Data::SurveyDate'\n\\item 'Survey Data::SurveyYear'\n\\item 'PointTrans'\n\\item '\\_kf\\_Hit1\\_serial'\n\\item 'Height'\n\\item '\\_kf\\_Hit2\\_serial'\n\\item '\\_kf\\_Hit3\\_serial'\n\\item '\\_kf\\_Hit4\\_serial'\n\\item 'GroundCover'\n\\end{enumerate*}\n",
            "text/markdown": "1. 'Survey Data::__kp_Survey'\n2. 'Survey Data::_kf_Site'\n3. 'Survey Data::SurveyDate'\n4. 'Survey Data::SurveyYear'\n5. 'PointTrans'\n6. '_kf_Hit1_serial'\n7. 'Height'\n8. '_kf_Hit2_serial'\n9. '_kf_Hit3_serial'\n10. '_kf_Hit4_serial'\n11. 'GroundCover'\n\n\n",
            "text/html": [
              "<style>\n",
              ".list-inline {list-style: none; margin:0; padding: 0}\n",
              ".list-inline>li {display: inline-block}\n",
              ".list-inline>li:not(:last-child)::after {content: \"\\00b7\"; padding: 0 .5ex}\n",
              "</style>\n",
              "<ol class=list-inline><li>'Survey Data::__kp_Survey'</li><li>'Survey Data::_kf_Site'</li><li>'Survey Data::SurveyDate'</li><li>'Survey Data::SurveyYear'</li><li>'PointTrans'</li><li>'_kf_Hit1_serial'</li><li>'Height'</li><li>'_kf_Hit2_serial'</li><li>'_kf_Hit3_serial'</li><li>'_kf_Hit4_serial'</li><li>'GroundCover'</li></ol>\n"
            ]
          },
          "metadata": {
            "tags": []
          }
        }
      ]
    },
    {
      "cell_type": "code",
      "metadata": {
        "id": "Vs3Sb4Hc6Oj-",
        "colab_type": "code",
        "colab": {}
      },
      "source": [
        "oldnames = c('Survey Data::__kp_Survey','Survey Data::_kf_Site','Survey Data::SurveyDate',\n",
        "             'Survey Data::SurveyYear','PointTrans','_kf_Hit1_serial','Height',\n",
        "             '_kf_Hit2_serial','_kf_Hit3_serial','_kf_Hit4_serial','GroundCover')\n",
        "          \n",
        "newnames = c('survey_ID', 'grid_point', 'date', 'year', \n",
        "             'transect_point', 'intercept_1', 'height_intercept_1', 'intercept_2',\n",
        "             'intercept_3', 'intercept_4', 'intercept_ground_code')\n",
        "\n",
        "df_pt <- df_pt %>% rename_at(vars(all_of(oldnames)), ~ newnames)"
      ],
      "execution_count": 6,
      "outputs": []
    },
    {
      "cell_type": "code",
      "metadata": {
        "id": "zPWFgkoT9tzL",
        "colab_type": "code",
        "colab": {
          "base_uri": "https://localhost:8080/",
          "height": 204
        },
        "outputId": "15ffec5a-319f-46fa-8824-0019a744f3d9"
      },
      "source": [
        "head(df_pt)"
      ],
      "execution_count": 7,
      "outputs": [
        {
          "output_type": "display_data",
          "data": {
            "text/plain": [
              "  survey_ID grid_point date       year transect_point intercept_1\n",
              "1 5         108        11/15/2010 2010 N1             406        \n",
              "2 5         108        11/15/2010 2010 N2              12        \n",
              "3 5         108        11/15/2010 2010 N3              12        \n",
              "4 5         108        11/15/2010 2010 N4              12        \n",
              "5 5         108        11/15/2010 2010 N5              12        \n",
              "6 5         108        11/15/2010 2010 N6              12        \n",
              "  height_intercept_1 intercept_2 intercept_3 intercept_4 intercept_ground_code\n",
              "1 20                 NA          NA          NA          NA                   \n",
              "2 27                 NA          NA          NA          NA                   \n",
              "3 16                 NA          NA          NA          NA                   \n",
              "4 17                 NA          NA          NA          NA                   \n",
              "5 16                 NA          NA          NA          NA                   \n",
              "6 16                 NA          NA          NA          NA                   "
            ],
            "text/latex": "A tibble: 6 × 11\n\\begin{tabular}{lllllllllll}\n survey\\_ID & grid\\_point & date & year & transect\\_point & intercept\\_1 & height\\_intercept\\_1 & intercept\\_2 & intercept\\_3 & intercept\\_4 & intercept\\_ground\\_code\\\\\n <chr> & <dbl> & <chr> & <dbl> & <chr> & <dbl> & <dbl> & <chr> & <chr> & <chr> & <chr>\\\\\n\\hline\n\t 5 & 108 & 11/15/2010 & 2010 & N1 & 406 & 20 & NA & NA & NA & NA\\\\\n\t 5 & 108 & 11/15/2010 & 2010 & N2 &  12 & 27 & NA & NA & NA & NA\\\\\n\t 5 & 108 & 11/15/2010 & 2010 & N3 &  12 & 16 & NA & NA & NA & NA\\\\\n\t 5 & 108 & 11/15/2010 & 2010 & N4 &  12 & 17 & NA & NA & NA & NA\\\\\n\t 5 & 108 & 11/15/2010 & 2010 & N5 &  12 & 16 & NA & NA & NA & NA\\\\\n\t 5 & 108 & 11/15/2010 & 2010 & N6 &  12 & 16 & NA & NA & NA & NA\\\\\n\\end{tabular}\n",
            "text/markdown": "\nA tibble: 6 × 11\n\n| survey_ID &lt;chr&gt; | grid_point &lt;dbl&gt; | date &lt;chr&gt; | year &lt;dbl&gt; | transect_point &lt;chr&gt; | intercept_1 &lt;dbl&gt; | height_intercept_1 &lt;dbl&gt; | intercept_2 &lt;chr&gt; | intercept_3 &lt;chr&gt; | intercept_4 &lt;chr&gt; | intercept_ground_code &lt;chr&gt; |\n|---|---|---|---|---|---|---|---|---|---|---|\n| 5 | 108 | 11/15/2010 | 2010 | N1 | 406 | 20 | NA | NA | NA | NA |\n| 5 | 108 | 11/15/2010 | 2010 | N2 |  12 | 27 | NA | NA | NA | NA |\n| 5 | 108 | 11/15/2010 | 2010 | N3 |  12 | 16 | NA | NA | NA | NA |\n| 5 | 108 | 11/15/2010 | 2010 | N4 |  12 | 17 | NA | NA | NA | NA |\n| 5 | 108 | 11/15/2010 | 2010 | N5 |  12 | 16 | NA | NA | NA | NA |\n| 5 | 108 | 11/15/2010 | 2010 | N6 |  12 | 16 | NA | NA | NA | NA |\n\n",
            "text/html": [
              "<table>\n",
              "<caption>A tibble: 6 × 11</caption>\n",
              "<thead>\n",
              "\t<tr><th scope=col>survey_ID</th><th scope=col>grid_point</th><th scope=col>date</th><th scope=col>year</th><th scope=col>transect_point</th><th scope=col>intercept_1</th><th scope=col>height_intercept_1</th><th scope=col>intercept_2</th><th scope=col>intercept_3</th><th scope=col>intercept_4</th><th scope=col>intercept_ground_code</th></tr>\n",
              "\t<tr><th scope=col>&lt;chr&gt;</th><th scope=col>&lt;dbl&gt;</th><th scope=col>&lt;chr&gt;</th><th scope=col>&lt;dbl&gt;</th><th scope=col>&lt;chr&gt;</th><th scope=col>&lt;dbl&gt;</th><th scope=col>&lt;dbl&gt;</th><th scope=col>&lt;chr&gt;</th><th scope=col>&lt;chr&gt;</th><th scope=col>&lt;chr&gt;</th><th scope=col>&lt;chr&gt;</th></tr>\n",
              "</thead>\n",
              "<tbody>\n",
              "\t<tr><td>5</td><td>108</td><td>11/15/2010</td><td>2010</td><td>N1</td><td>406</td><td>20</td><td>NA</td><td>NA</td><td>NA</td><td>NA</td></tr>\n",
              "\t<tr><td>5</td><td>108</td><td>11/15/2010</td><td>2010</td><td>N2</td><td> 12</td><td>27</td><td>NA</td><td>NA</td><td>NA</td><td>NA</td></tr>\n",
              "\t<tr><td>5</td><td>108</td><td>11/15/2010</td><td>2010</td><td>N3</td><td> 12</td><td>16</td><td>NA</td><td>NA</td><td>NA</td><td>NA</td></tr>\n",
              "\t<tr><td>5</td><td>108</td><td>11/15/2010</td><td>2010</td><td>N4</td><td> 12</td><td>17</td><td>NA</td><td>NA</td><td>NA</td><td>NA</td></tr>\n",
              "\t<tr><td>5</td><td>108</td><td>11/15/2010</td><td>2010</td><td>N5</td><td> 12</td><td>16</td><td>NA</td><td>NA</td><td>NA</td><td>NA</td></tr>\n",
              "\t<tr><td>5</td><td>108</td><td>11/15/2010</td><td>2010</td><td>N6</td><td> 12</td><td>16</td><td>NA</td><td>NA</td><td>NA</td><td>NA</td></tr>\n",
              "</tbody>\n",
              "</table>\n"
            ]
          },
          "metadata": {
            "tags": []
          }
        }
      ]
    },
    {
      "cell_type": "markdown",
      "metadata": {
        "id": "rRC9RX57-sGc",
        "colab_type": "text"
      },
      "source": [
        "## Filter"
      ]
    },
    {
      "cell_type": "code",
      "metadata": {
        "id": "YBJv4WMq-umH",
        "colab_type": "code",
        "colab": {}
      },
      "source": [
        "# remove 2010\n",
        "df_pt <- df_pt %>%\n",
        "  filter(year > 2010)"
      ],
      "execution_count": 8,
      "outputs": []
    },
    {
      "cell_type": "markdown",
      "metadata": {
        "id": "NGGMjZwaAnHJ",
        "colab_type": "text"
      },
      "source": [
        "## Explore"
      ]
    },
    {
      "cell_type": "markdown",
      "metadata": {
        "id": "Qw-AZUI4Uo4h",
        "colab_type": "text"
      },
      "source": [
        "### grid_point"
      ]
    },
    {
      "cell_type": "code",
      "metadata": {
        "id": "I0zLaAktUuJJ",
        "colab_type": "code",
        "colab": {}
      },
      "source": [
        "df_pt %>%\n",
        "  distinct(grid_point) %>%\n",
        "  arrange(grid_point)"
      ],
      "execution_count": null,
      "outputs": []
    },
    {
      "cell_type": "markdown",
      "metadata": {
        "id": "0sgrhvjmGPhz",
        "colab_type": "text"
      },
      "source": [
        "### transect_point"
      ]
    },
    {
      "cell_type": "code",
      "metadata": {
        "id": "jTKkh9qK8k2Y",
        "colab_type": "code",
        "colab": {
          "base_uri": "https://localhost:8080/",
          "height": 1000
        },
        "outputId": "cd76f55a-8162-49cd-d561-67094a42e283"
      },
      "source": [
        "df_pt %>%\n",
        "  distinct(transect_point) %>%\n",
        "  arrange(transect_point)"
      ],
      "execution_count": null,
      "outputs": [
        {
          "output_type": "display_data",
          "data": {
            "text/plain": [
              "    transect_point\n",
              "1   E1            \n",
              "2   E10           \n",
              "3   E11           \n",
              "4   E12           \n",
              "5   E13           \n",
              "6   E14           \n",
              "7   E15           \n",
              "8   E16           \n",
              "9   E17           \n",
              "10  E18           \n",
              "11  E19           \n",
              "12  E2            \n",
              "13  E20           \n",
              "14  E21           \n",
              "15  E22           \n",
              "16  E23           \n",
              "17  E24           \n",
              "18  E25           \n",
              "19  E26           \n",
              "20  E27           \n",
              "21  E28           \n",
              "22  E29           \n",
              "23  E3            \n",
              "24  E30           \n",
              "25  E31           \n",
              "26  E32           \n",
              "27  E33           \n",
              "28  E34           \n",
              "29  E35           \n",
              "30  E36           \n",
              "⋮   ⋮             \n",
              "175 W28           \n",
              "176 W29           \n",
              "177 W3            \n",
              "178 W30           \n",
              "179 W31           \n",
              "180 W32           \n",
              "181 W33           \n",
              "182 W34           \n",
              "183 W35           \n",
              "184 W36           \n",
              "185 W37           \n",
              "186 W38           \n",
              "187 W39           \n",
              "188 W4            \n",
              "189 W40           \n",
              "190 W41           \n",
              "191 W42           \n",
              "192 W43           \n",
              "193 W44           \n",
              "194 W45           \n",
              "195 W46           \n",
              "196 W47           \n",
              "197 W48           \n",
              "198 W49           \n",
              "199 W5            \n",
              "200 W50           \n",
              "201 W6            \n",
              "202 W7            \n",
              "203 W8            \n",
              "204 W9            "
            ],
            "text/latex": "A tibble: 204 × 1\n\\begin{tabular}{l}\n transect\\_point\\\\\n <chr>\\\\\n\\hline\n\t E1 \\\\\n\t E10\\\\\n\t E11\\\\\n\t E12\\\\\n\t E13\\\\\n\t E14\\\\\n\t E15\\\\\n\t E16\\\\\n\t E17\\\\\n\t E18\\\\\n\t E19\\\\\n\t E2 \\\\\n\t E20\\\\\n\t E21\\\\\n\t E22\\\\\n\t E23\\\\\n\t E24\\\\\n\t E25\\\\\n\t E26\\\\\n\t E27\\\\\n\t E28\\\\\n\t E29\\\\\n\t E3 \\\\\n\t E30\\\\\n\t E31\\\\\n\t E32\\\\\n\t E33\\\\\n\t E34\\\\\n\t E35\\\\\n\t E36\\\\\n\t ⋮\\\\\n\t W28\\\\\n\t W29\\\\\n\t W3 \\\\\n\t W30\\\\\n\t W31\\\\\n\t W32\\\\\n\t W33\\\\\n\t W34\\\\\n\t W35\\\\\n\t W36\\\\\n\t W37\\\\\n\t W38\\\\\n\t W39\\\\\n\t W4 \\\\\n\t W40\\\\\n\t W41\\\\\n\t W42\\\\\n\t W43\\\\\n\t W44\\\\\n\t W45\\\\\n\t W46\\\\\n\t W47\\\\\n\t W48\\\\\n\t W49\\\\\n\t W5 \\\\\n\t W50\\\\\n\t W6 \\\\\n\t W7 \\\\\n\t W8 \\\\\n\t W9 \\\\\n\\end{tabular}\n",
            "text/markdown": "\nA tibble: 204 × 1\n\n| transect_point &lt;chr&gt; |\n|---|\n| E1  |\n| E10 |\n| E11 |\n| E12 |\n| E13 |\n| E14 |\n| E15 |\n| E16 |\n| E17 |\n| E18 |\n| E19 |\n| E2  |\n| E20 |\n| E21 |\n| E22 |\n| E23 |\n| E24 |\n| E25 |\n| E26 |\n| E27 |\n| E28 |\n| E29 |\n| E3  |\n| E30 |\n| E31 |\n| E32 |\n| E33 |\n| E34 |\n| E35 |\n| E36 |\n| ⋮ |\n| W28 |\n| W29 |\n| W3  |\n| W30 |\n| W31 |\n| W32 |\n| W33 |\n| W34 |\n| W35 |\n| W36 |\n| W37 |\n| W38 |\n| W39 |\n| W4  |\n| W40 |\n| W41 |\n| W42 |\n| W43 |\n| W44 |\n| W45 |\n| W46 |\n| W47 |\n| W48 |\n| W49 |\n| W5  |\n| W50 |\n| W6  |\n| W7  |\n| W8  |\n| W9  |\n\n",
            "text/html": [
              "<table>\n",
              "<caption>A tibble: 204 × 1</caption>\n",
              "<thead>\n",
              "\t<tr><th scope=col>transect_point</th></tr>\n",
              "\t<tr><th scope=col>&lt;chr&gt;</th></tr>\n",
              "</thead>\n",
              "<tbody>\n",
              "\t<tr><td>E1 </td></tr>\n",
              "\t<tr><td>E10</td></tr>\n",
              "\t<tr><td>E11</td></tr>\n",
              "\t<tr><td>E12</td></tr>\n",
              "\t<tr><td>E13</td></tr>\n",
              "\t<tr><td>E14</td></tr>\n",
              "\t<tr><td>E15</td></tr>\n",
              "\t<tr><td>E16</td></tr>\n",
              "\t<tr><td>E17</td></tr>\n",
              "\t<tr><td>E18</td></tr>\n",
              "\t<tr><td>E19</td></tr>\n",
              "\t<tr><td>E2 </td></tr>\n",
              "\t<tr><td>E20</td></tr>\n",
              "\t<tr><td>E21</td></tr>\n",
              "\t<tr><td>E22</td></tr>\n",
              "\t<tr><td>E23</td></tr>\n",
              "\t<tr><td>E24</td></tr>\n",
              "\t<tr><td>E25</td></tr>\n",
              "\t<tr><td>E26</td></tr>\n",
              "\t<tr><td>E27</td></tr>\n",
              "\t<tr><td>E28</td></tr>\n",
              "\t<tr><td>E29</td></tr>\n",
              "\t<tr><td>E3 </td></tr>\n",
              "\t<tr><td>E30</td></tr>\n",
              "\t<tr><td>E31</td></tr>\n",
              "\t<tr><td>E32</td></tr>\n",
              "\t<tr><td>E33</td></tr>\n",
              "\t<tr><td>E34</td></tr>\n",
              "\t<tr><td>E35</td></tr>\n",
              "\t<tr><td>E36</td></tr>\n",
              "\t<tr><td>⋮</td></tr>\n",
              "\t<tr><td>W28</td></tr>\n",
              "\t<tr><td>W29</td></tr>\n",
              "\t<tr><td>W3 </td></tr>\n",
              "\t<tr><td>W30</td></tr>\n",
              "\t<tr><td>W31</td></tr>\n",
              "\t<tr><td>W32</td></tr>\n",
              "\t<tr><td>W33</td></tr>\n",
              "\t<tr><td>W34</td></tr>\n",
              "\t<tr><td>W35</td></tr>\n",
              "\t<tr><td>W36</td></tr>\n",
              "\t<tr><td>W37</td></tr>\n",
              "\t<tr><td>W38</td></tr>\n",
              "\t<tr><td>W39</td></tr>\n",
              "\t<tr><td>W4 </td></tr>\n",
              "\t<tr><td>W40</td></tr>\n",
              "\t<tr><td>W41</td></tr>\n",
              "\t<tr><td>W42</td></tr>\n",
              "\t<tr><td>W43</td></tr>\n",
              "\t<tr><td>W44</td></tr>\n",
              "\t<tr><td>W45</td></tr>\n",
              "\t<tr><td>W46</td></tr>\n",
              "\t<tr><td>W47</td></tr>\n",
              "\t<tr><td>W48</td></tr>\n",
              "\t<tr><td>W49</td></tr>\n",
              "\t<tr><td>W5 </td></tr>\n",
              "\t<tr><td>W50</td></tr>\n",
              "\t<tr><td>W6 </td></tr>\n",
              "\t<tr><td>W7 </td></tr>\n",
              "\t<tr><td>W8 </td></tr>\n",
              "\t<tr><td>W9 </td></tr>\n",
              "</tbody>\n",
              "</table>\n"
            ]
          },
          "metadata": {
            "tags": []
          }
        }
      ]
    },
    {
      "cell_type": "code",
      "metadata": {
        "id": "MKfFr6gGXWMF",
        "colab_type": "code",
        "colab": {}
      },
      "source": [
        "# set outliers to NA\n",
        "outliers <- c(\"se\", \"T\", \"W21E\")\n",
        "\n",
        "df_pt <- df_pt %>%\n",
        "  mutate(transect_point = ifelse(transect_point == \"se\" |\n",
        "                                 transect_point == \"T\" |\n",
        "                                 transect_point == \"W21E\", NA, transect_point))"
      ],
      "execution_count": null,
      "outputs": []
    },
    {
      "cell_type": "markdown",
      "metadata": {
        "id": "Rlp2mASyXO9U",
        "colab_type": "text"
      },
      "source": [
        "### intercept_ground_code"
      ]
    },
    {
      "cell_type": "code",
      "metadata": {
        "id": "jdOnVnKPGbAM",
        "colab_type": "code",
        "colab": {
          "base_uri": "https://localhost:8080/",
          "height": 498
        },
        "outputId": "e2d3773d-a318-4a5c-e1f6-5f09f173d7d4"
      },
      "source": [
        "df_pt %>%\n",
        "  distinct(intercept_ground_code) %>%\n",
        "  arrange(intercept_ground_code)"
      ],
      "execution_count": null,
      "outputs": [
        {
          "output_type": "display_data",
          "data": {
            "text/plain": [
              "   intercept_ground_code\n",
              "1  BG                   \n",
              "2  BV                   \n",
              "3  G                    \n",
              "4  L                    \n",
              "5  LIC                  \n",
              "6  M                    \n",
              "7  M/L                  \n",
              "8  NDC                  \n",
              "9  OTHER                \n",
              "10 R                    \n",
              "11 SC                   \n",
              "12 SD                   \n",
              "13 SE                   \n",
              "14 SH                   \n",
              "15 SU                   \n",
              "16 WDL                  \n",
              "17 WDS                  \n",
              "18 WDSTUMP              \n",
              "19 WDT                  \n",
              "20 NA                   "
            ],
            "text/latex": "A tibble: 20 × 1\n\\begin{tabular}{l}\n intercept\\_ground\\_code\\\\\n <chr>\\\\\n\\hline\n\t BG     \\\\\n\t BV     \\\\\n\t G      \\\\\n\t L      \\\\\n\t LIC    \\\\\n\t M      \\\\\n\t M/L    \\\\\n\t NDC    \\\\\n\t OTHER  \\\\\n\t R      \\\\\n\t SC     \\\\\n\t SD     \\\\\n\t SE     \\\\\n\t SH     \\\\\n\t SU     \\\\\n\t WDL    \\\\\n\t WDS    \\\\\n\t WDSTUMP\\\\\n\t WDT    \\\\\n\t NA     \\\\\n\\end{tabular}\n",
            "text/markdown": "\nA tibble: 20 × 1\n\n| intercept_ground_code &lt;chr&gt; |\n|---|\n| BG      |\n| BV      |\n| G       |\n| L       |\n| LIC     |\n| M       |\n| M/L     |\n| NDC     |\n| OTHER   |\n| R       |\n| SC      |\n| SD      |\n| SE      |\n| SH      |\n| SU      |\n| WDL     |\n| WDS     |\n| WDSTUMP |\n| WDT     |\n| NA      |\n\n",
            "text/html": [
              "<table>\n",
              "<caption>A tibble: 20 × 1</caption>\n",
              "<thead>\n",
              "\t<tr><th scope=col>intercept_ground_code</th></tr>\n",
              "\t<tr><th scope=col>&lt;chr&gt;</th></tr>\n",
              "</thead>\n",
              "<tbody>\n",
              "\t<tr><td>BG     </td></tr>\n",
              "\t<tr><td>BV     </td></tr>\n",
              "\t<tr><td>G      </td></tr>\n",
              "\t<tr><td>L      </td></tr>\n",
              "\t<tr><td>LIC    </td></tr>\n",
              "\t<tr><td>M      </td></tr>\n",
              "\t<tr><td>M/L    </td></tr>\n",
              "\t<tr><td>NDC    </td></tr>\n",
              "\t<tr><td>OTHER  </td></tr>\n",
              "\t<tr><td>R      </td></tr>\n",
              "\t<tr><td>SC     </td></tr>\n",
              "\t<tr><td>SD     </td></tr>\n",
              "\t<tr><td>SE     </td></tr>\n",
              "\t<tr><td>SH     </td></tr>\n",
              "\t<tr><td>SU     </td></tr>\n",
              "\t<tr><td>WDL    </td></tr>\n",
              "\t<tr><td>WDS    </td></tr>\n",
              "\t<tr><td>WDSTUMP</td></tr>\n",
              "\t<tr><td>WDT    </td></tr>\n",
              "\t<tr><td>NA     </td></tr>\n",
              "</tbody>\n",
              "</table>\n"
            ]
          },
          "metadata": {
            "tags": []
          }
        }
      ]
    },
    {
      "cell_type": "code",
      "metadata": {
        "id": "eaL7oqMUOey0",
        "colab_type": "code",
        "colab": {}
      },
      "source": [
        "not_in_list <- c(\"NDC\")\n",
        "\n",
        "df_pt <- df_pt %>%\n",
        "  mutate(intercept_ground_code = ifelse(intercept_ground_code == \"NDC\", NA, intercept_ground_code))"
      ],
      "execution_count": null,
      "outputs": []
    },
    {
      "cell_type": "code",
      "metadata": {
        "id": "LHfkR_eiPArV",
        "colab_type": "code",
        "colab": {
          "base_uri": "https://localhost:8080/",
          "height": 477
        },
        "outputId": "9c91e201-5293-4579-9ed4-9dcb2c710bb0"
      },
      "source": [
        "df_pt %>%\n",
        "  distinct(intercept_ground_code) %>%\n",
        "  arrange(intercept_ground_code)"
      ],
      "execution_count": null,
      "outputs": [
        {
          "output_type": "display_data",
          "data": {
            "text/plain": [
              "   intercept_ground_code\n",
              "1  BG                   \n",
              "2  BV                   \n",
              "3  G                    \n",
              "4  L                    \n",
              "5  LIC                  \n",
              "6  M                    \n",
              "7  M/L                  \n",
              "8  OTHER                \n",
              "9  R                    \n",
              "10 SC                   \n",
              "11 SD                   \n",
              "12 SE                   \n",
              "13 SH                   \n",
              "14 SU                   \n",
              "15 WDL                  \n",
              "16 WDS                  \n",
              "17 WDSTUMP              \n",
              "18 WDT                  \n",
              "19 NA                   "
            ],
            "text/latex": "A tibble: 19 × 1\n\\begin{tabular}{l}\n intercept\\_ground\\_code\\\\\n <chr>\\\\\n\\hline\n\t BG     \\\\\n\t BV     \\\\\n\t G      \\\\\n\t L      \\\\\n\t LIC    \\\\\n\t M      \\\\\n\t M/L    \\\\\n\t OTHER  \\\\\n\t R      \\\\\n\t SC     \\\\\n\t SD     \\\\\n\t SE     \\\\\n\t SH     \\\\\n\t SU     \\\\\n\t WDL    \\\\\n\t WDS    \\\\\n\t WDSTUMP\\\\\n\t WDT    \\\\\n\t NA     \\\\\n\\end{tabular}\n",
            "text/markdown": "\nA tibble: 19 × 1\n\n| intercept_ground_code &lt;chr&gt; |\n|---|\n| BG      |\n| BV      |\n| G       |\n| L       |\n| LIC     |\n| M       |\n| M/L     |\n| OTHER   |\n| R       |\n| SC      |\n| SD      |\n| SE      |\n| SH      |\n| SU      |\n| WDL     |\n| WDS     |\n| WDSTUMP |\n| WDT     |\n| NA      |\n\n",
            "text/html": [
              "<table>\n",
              "<caption>A tibble: 19 × 1</caption>\n",
              "<thead>\n",
              "\t<tr><th scope=col>intercept_ground_code</th></tr>\n",
              "\t<tr><th scope=col>&lt;chr&gt;</th></tr>\n",
              "</thead>\n",
              "<tbody>\n",
              "\t<tr><td>BG     </td></tr>\n",
              "\t<tr><td>BV     </td></tr>\n",
              "\t<tr><td>G      </td></tr>\n",
              "\t<tr><td>L      </td></tr>\n",
              "\t<tr><td>LIC    </td></tr>\n",
              "\t<tr><td>M      </td></tr>\n",
              "\t<tr><td>M/L    </td></tr>\n",
              "\t<tr><td>OTHER  </td></tr>\n",
              "\t<tr><td>R      </td></tr>\n",
              "\t<tr><td>SC     </td></tr>\n",
              "\t<tr><td>SD     </td></tr>\n",
              "\t<tr><td>SE     </td></tr>\n",
              "\t<tr><td>SH     </td></tr>\n",
              "\t<tr><td>SU     </td></tr>\n",
              "\t<tr><td>WDL    </td></tr>\n",
              "\t<tr><td>WDS    </td></tr>\n",
              "\t<tr><td>WDSTUMP</td></tr>\n",
              "\t<tr><td>WDT    </td></tr>\n",
              "\t<tr><td>NA     </td></tr>\n",
              "</tbody>\n",
              "</table>\n"
            ]
          },
          "metadata": {
            "tags": []
          }
        }
      ]
    },
    {
      "cell_type": "markdown",
      "metadata": {
        "id": "jOVkUZHVFFNW",
        "colab_type": "text"
      },
      "source": [
        "## Data Types"
      ]
    },
    {
      "cell_type": "code",
      "metadata": {
        "id": "-c0QZ21zFGnu",
        "colab_type": "code",
        "colab": {
          "base_uri": "https://localhost:8080/",
          "height": 238
        },
        "outputId": "da763746-6adc-4668-895e-f91e661f0cc2"
      },
      "source": [
        "glimpse(df_pt)"
      ],
      "execution_count": null,
      "outputs": [
        {
          "output_type": "stream",
          "text": [
            "Rows: 248,645\n",
            "Columns: 11\n",
            "$ survey_ID             \u001b[3m\u001b[90m<chr>\u001b[39m\u001b[23m \"69\", \"69\", \"69\", \"69\", \"69\", \"69\", \"69\", \"69\",…\n",
            "$ grid_point            \u001b[3m\u001b[90m<dbl>\u001b[39m\u001b[23m 329, 329, 329, 329, 329, 329, 329, 329, 329, 32…\n",
            "$ date                  \u001b[3m\u001b[90m<chr>\u001b[39m\u001b[23m \"07/18/2011\", \"07/18/2011\", \"07/18/2011\", \"07/1…\n",
            "$ year                  \u001b[3m\u001b[90m<dbl>\u001b[39m\u001b[23m 2011, 2011, 2011, 2011, 2011, 2011, 2011, 2011,…\n",
            "$ transect_point        \u001b[3m\u001b[90m<chr>\u001b[39m\u001b[23m \"N1\", \"N2\", \"N3\", \"N4\", \"N5\", \"N6\", \"N7\", \"N8\",…\n",
            "$ intercept_1           \u001b[3m\u001b[90m<dbl>\u001b[39m\u001b[23m 497, 497, 497, 497, 497, 497, 497, 12, 82, 82, …\n",
            "$ height_intercept_1    \u001b[3m\u001b[90m<dbl>\u001b[39m\u001b[23m 60.0, 67.0, 55.0, 62.5, 65.0, 70.0, 40.0, 40.0,…\n",
            "$ intercept_2           \u001b[3m\u001b[90m<chr>\u001b[39m\u001b[23m \"82\", \"82\", \"82\", \"82\", \"82\", \"82\", \"82\", \"82\",…\n",
            "$ intercept_3           \u001b[3m\u001b[90m<chr>\u001b[39m\u001b[23m NA, NA, NA, NA, NA, \"12\", NA, NA, NA, NA, NA, N…\n",
            "$ intercept_4           \u001b[3m\u001b[90m<chr>\u001b[39m\u001b[23m NA, NA, NA, NA, NA, NA, NA, NA, NA, NA, NA, NA,…\n",
            "$ intercept_ground_code \u001b[3m\u001b[90m<chr>\u001b[39m\u001b[23m \"L\", \"L\", \"L\", \"L\", \"L\", \"BV\", \"L\", \"BV\", \"BV\",…\n"
          ],
          "name": "stdout"
        }
      ]
    },
    {
      "cell_type": "code",
      "metadata": {
        "id": "TLXrtYKaHMFv",
        "colab_type": "code",
        "colab": {}
      },
      "source": [
        "df_pt$grid_point <- as.integer(df_pt$grid_point)\n",
        "df_pt$date <- as.Date(df_pt$date, \"%m/%d/%Y\")\n",
        "df_pt$year <- as.integer(df_pt$year)\n",
        "df_pt$intercept_1 <- as.integer(df_pt$intercept_1)\n",
        "df_pt$height_intercept_1 <- as.integer(df_pt$height_intercept_1)\n",
        "df_pt$intercept_2 <- as.integer(df_pt$intercept_2)\n",
        "df_pt$intercept_3 <- as.integer(df_pt$intercept_3)\n",
        "df_pt$intercept_4 <- as.integer(df_pt$intercept_4)"
      ],
      "execution_count": null,
      "outputs": []
    },
    {
      "cell_type": "code",
      "metadata": {
        "id": "-a-NpGQtI2g0",
        "colab_type": "code",
        "colab": {
          "base_uri": "https://localhost:8080/",
          "height": 238
        },
        "outputId": "66bf287b-f1cd-4b19-9b36-52ab1b38ae28"
      },
      "source": [
        "glimpse(df_pt)"
      ],
      "execution_count": null,
      "outputs": [
        {
          "output_type": "stream",
          "text": [
            "Rows: 248,645\n",
            "Columns: 11\n",
            "$ survey_ID             \u001b[3m\u001b[90m<chr>\u001b[39m\u001b[23m \"69\", \"69\", \"69\", \"69\", \"69\", \"69\", \"69\", \"69\",…\n",
            "$ grid_point            \u001b[3m\u001b[90m<int>\u001b[39m\u001b[23m 329, 329, 329, 329, 329, 329, 329, 329, 329, 32…\n",
            "$ date                  \u001b[3m\u001b[90m<date>\u001b[39m\u001b[23m 2011-07-18, 2011-07-18, 2011-07-18, 2011-07-18…\n",
            "$ year                  \u001b[3m\u001b[90m<int>\u001b[39m\u001b[23m 2011, 2011, 2011, 2011, 2011, 2011, 2011, 2011,…\n",
            "$ transect_point        \u001b[3m\u001b[90m<chr>\u001b[39m\u001b[23m \"N1\", \"N2\", \"N3\", \"N4\", \"N5\", \"N6\", \"N7\", \"N8\",…\n",
            "$ intercept_1           \u001b[3m\u001b[90m<int>\u001b[39m\u001b[23m 497, 497, 497, 497, 497, 497, 497, 12, 82, 82, …\n",
            "$ height_intercept_1    \u001b[3m\u001b[90m<int>\u001b[39m\u001b[23m 60, 67, 55, 62, 65, 70, 40, 40, 5, 15, 15, 1, 7…\n",
            "$ intercept_2           \u001b[3m\u001b[90m<int>\u001b[39m\u001b[23m 82, 82, 82, 82, 82, 82, 82, 82, NA, NA, NA, NA,…\n",
            "$ intercept_3           \u001b[3m\u001b[90m<int>\u001b[39m\u001b[23m NA, NA, NA, NA, NA, 12, NA, NA, NA, NA, NA, NA,…\n",
            "$ intercept_4           \u001b[3m\u001b[90m<int>\u001b[39m\u001b[23m NA, NA, NA, NA, NA, NA, NA, NA, NA, NA, NA, NA,…\n",
            "$ intercept_ground_code \u001b[3m\u001b[90m<chr>\u001b[39m\u001b[23m \"L\", \"L\", \"L\", \"L\", \"L\", \"BV\", \"L\", \"BV\", \"BV\",…\n"
          ],
          "name": "stdout"
        }
      ]
    },
    {
      "cell_type": "markdown",
      "metadata": {
        "id": "o1TSQkMDatX8",
        "colab_type": "text"
      },
      "source": [
        "# Table Structure"
      ]
    },
    {
      "cell_type": "markdown",
      "metadata": {
        "id": "ISm3RH5ha1--",
        "colab_type": "text"
      },
      "source": [
        "## gridVeg_point_intercept_vegetation"
      ]
    },
    {
      "cell_type": "code",
      "metadata": {
        "id": "AGgE7d87a1Pr",
        "colab_type": "code",
        "colab": {}
      },
      "source": [
        "df_veg <- df_pt[, c(\"survey_ID\", \"grid_point\", \"date\", \"year\",\n",
        "          \"transect_point\", \"height_intercept_1\",\n",
        "          \"intercept_1\", \"intercept_2\", \"intercept_3\", \"intercept_4\")]"
      ],
      "execution_count": null,
      "outputs": []
    },
    {
      "cell_type": "code",
      "metadata": {
        "id": "sJvMp6_jJzbt",
        "colab_type": "code",
        "colab": {
          "base_uri": "https://localhost:8080/",
          "height": 221
        },
        "outputId": "96d7aa19-ec87-4358-bfe2-922a302f8add"
      },
      "source": [
        "glimpse(df_veg)"
      ],
      "execution_count": null,
      "outputs": [
        {
          "output_type": "stream",
          "text": [
            "Rows: 248,645\n",
            "Columns: 10\n",
            "$ survey_ID          \u001b[3m\u001b[90m<chr>\u001b[39m\u001b[23m \"69\", \"69\", \"69\", \"69\", \"69\", \"69\", \"69\", \"69\", \"6…\n",
            "$ grid_point         \u001b[3m\u001b[90m<int>\u001b[39m\u001b[23m 329, 329, 329, 329, 329, 329, 329, 329, 329, 329, …\n",
            "$ date               \u001b[3m\u001b[90m<date>\u001b[39m\u001b[23m 2011-07-18, 2011-07-18, 2011-07-18, 2011-07-18, 2…\n",
            "$ year               \u001b[3m\u001b[90m<int>\u001b[39m\u001b[23m 2011, 2011, 2011, 2011, 2011, 2011, 2011, 2011, 20…\n",
            "$ transect_point     \u001b[3m\u001b[90m<chr>\u001b[39m\u001b[23m \"N1\", \"N2\", \"N3\", \"N4\", \"N5\", \"N6\", \"N7\", \"N8\", \"N…\n",
            "$ height_intercept_1 \u001b[3m\u001b[90m<int>\u001b[39m\u001b[23m 60, 67, 55, 62, 65, 70, 40, 40, 5, 15, 15, 1, 7, 5…\n",
            "$ intercept_1        \u001b[3m\u001b[90m<int>\u001b[39m\u001b[23m 497, 497, 497, 497, 497, 497, 497, 12, 82, 82, 82,…\n",
            "$ intercept_2        \u001b[3m\u001b[90m<int>\u001b[39m\u001b[23m 82, 82, 82, 82, 82, 82, 82, 82, NA, NA, NA, NA, NA…\n",
            "$ intercept_3        \u001b[3m\u001b[90m<int>\u001b[39m\u001b[23m NA, NA, NA, NA, NA, 12, NA, NA, NA, NA, NA, NA, NA…\n",
            "$ intercept_4        \u001b[3m\u001b[90m<int>\u001b[39m\u001b[23m NA, NA, NA, NA, NA, NA, NA, NA, NA, NA, NA, NA, NA…\n"
          ],
          "name": "stdout"
        }
      ]
    },
    {
      "cell_type": "markdown",
      "metadata": {
        "id": "7MFOev3-L2NT",
        "colab_type": "text"
      },
      "source": [
        "### Output"
      ]
    },
    {
      "cell_type": "code",
      "metadata": {
        "id": "XuibQtYGL35e",
        "colab_type": "code",
        "colab": {}
      },
      "source": [
        "write_csv(df_veg, path = \"gridVeg_point_intercept_vegetation_WRANGLE.csv\")"
      ],
      "execution_count": null,
      "outputs": []
    },
    {
      "cell_type": "markdown",
      "metadata": {
        "id": "lysnnGA7a8Wu",
        "colab_type": "text"
      },
      "source": [
        "## gridVeg_point_intercept_ground"
      ]
    },
    {
      "cell_type": "code",
      "metadata": {
        "id": "7KBMIOQmbATy",
        "colab_type": "code",
        "colab": {}
      },
      "source": [
        "df_gnd <- df_pt[, c(\"survey_ID\", \"grid_point\", \"date\", \"year\", \n",
        "          \"transect_point\", \"intercept_ground_code\")]"
      ],
      "execution_count": null,
      "outputs": []
    },
    {
      "cell_type": "code",
      "metadata": {
        "id": "x4dHTMFHJ6sb",
        "colab_type": "code",
        "colab": {
          "base_uri": "https://localhost:8080/",
          "height": 153
        },
        "outputId": "e1d9f010-7a32-48df-b36d-0b508e4ba097"
      },
      "source": [
        "glimpse(df_gnd)"
      ],
      "execution_count": null,
      "outputs": [
        {
          "output_type": "stream",
          "text": [
            "Rows: 248,645\n",
            "Columns: 6\n",
            "$ survey_ID             \u001b[3m\u001b[90m<chr>\u001b[39m\u001b[23m \"69\", \"69\", \"69\", \"69\", \"69\", \"69\", \"69\", \"69\",…\n",
            "$ grid_point            \u001b[3m\u001b[90m<int>\u001b[39m\u001b[23m 329, 329, 329, 329, 329, 329, 329, 329, 329, 32…\n",
            "$ date                  \u001b[3m\u001b[90m<date>\u001b[39m\u001b[23m 2011-07-18, 2011-07-18, 2011-07-18, 2011-07-18…\n",
            "$ year                  \u001b[3m\u001b[90m<int>\u001b[39m\u001b[23m 2011, 2011, 2011, 2011, 2011, 2011, 2011, 2011,…\n",
            "$ transect_point        \u001b[3m\u001b[90m<chr>\u001b[39m\u001b[23m \"N1\", \"N2\", \"N3\", \"N4\", \"N5\", \"N6\", \"N7\", \"N8\",…\n",
            "$ intercept_ground_code \u001b[3m\u001b[90m<chr>\u001b[39m\u001b[23m \"L\", \"L\", \"L\", \"L\", \"L\", \"BV\", \"L\", \"BV\", \"BV\",…\n"
          ],
          "name": "stdout"
        }
      ]
    },
    {
      "cell_type": "markdown",
      "metadata": {
        "id": "UQ8haB0qMHfC",
        "colab_type": "text"
      },
      "source": [
        "### Output"
      ]
    },
    {
      "cell_type": "code",
      "metadata": {
        "id": "1WPB0syDMIPx",
        "colab_type": "code",
        "colab": {}
      },
      "source": [
        "write_csv(df_gnd, path = \"gridVeg_point_intercept_ground_WRANGLE.csv\")"
      ],
      "execution_count": null,
      "outputs": []
    }
  ]
}