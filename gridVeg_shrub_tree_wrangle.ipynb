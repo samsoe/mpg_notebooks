{
  "nbformat": 4,
  "nbformat_minor": 0,
  "metadata": {
    "colab": {
      "name": "gridVeg_shrub_tree_wrangle.ipynb",
      "provenance": [],
      "collapsed_sections": [],
      "include_colab_link": true
    },
    "language_info": {
      "codemirror_mode": "r",
      "file_extension": ".r",
      "mimetype": "text/x-r-source",
      "name": "R",
      "pygments_lexer": "r",
      "version": "3.3.1"
    },
    "kernelspec": {
      "display_name": "R",
      "language": "R",
      "name": "ir"
    },
    "accelerator": "GPU"
  },
  "cells": [
    {
      "cell_type": "markdown",
      "metadata": {
        "id": "view-in-github",
        "colab_type": "text"
      },
      "source": [
        "<a href=\"https://colab.research.google.com/github/samsoe/mpg_notebooks/blob/master/gridVeg_shrub_tree_wrangle.ipynb\" target=\"_parent\"><img src=\"https://colab.research.google.com/assets/colab-badge.svg\" alt=\"Open In Colab\"/></a>"
      ]
    },
    {
      "cell_type": "markdown",
      "metadata": {
        "id": "BhOI1uU2Koum",
        "colab_type": "text"
      },
      "source": [
        "# Documentation\n",
        "[Readme - vegetation point transect survey](https://docs.google.com/document/d/1JWnhxNjeSQZkSnGhtHP68i_l1mDj4vPFMBdUvGqN0TA/edit?usp=sharing)"
      ]
    },
    {
      "cell_type": "markdown",
      "metadata": {
        "id": "FOWThbwbui5-",
        "colab_type": "text"
      },
      "source": [
        "# Tools"
      ]
    },
    {
      "cell_type": "code",
      "metadata": {
        "id": "ZcrBrXYgujZP",
        "colab_type": "code",
        "colab": {}
      },
      "source": [
        "library(tidyverse)"
      ],
      "execution_count": 8,
      "outputs": []
    },
    {
      "cell_type": "markdown",
      "metadata": {
        "id": "0QYwOVzxuQ2a",
        "colab_type": "text"
      },
      "source": [
        "# Source"
      ]
    },
    {
      "cell_type": "code",
      "metadata": {
        "id": "VxYkYhQTKouo",
        "colab_type": "code",
        "colab": {}
      },
      "source": [
        "# 2020-06-15_gridVeg_shrub_tree_SOURCE.csv\n",
        "src <- \"https://drive.google.com/uc?export=download&id=1FYgqp4Q90rC_6BcS5opXX4nEbYHg3r3q\""
      ],
      "execution_count": 9,
      "outputs": []
    },
    {
      "cell_type": "code",
      "metadata": {
        "id": "ihI70_BPKouq",
        "colab_type": "code",
        "colab": {
          "base_uri": "https://localhost:8080/",
          "height": 357
        },
        "outputId": "cdbf1e51-b3ba-4f9b-d458-b447ddeb8bbb"
      },
      "source": [
        "df_ts <- read_csv(src)"
      ],
      "execution_count": 10,
      "outputs": [
        {
          "output_type": "stream",
          "text": [
            "Parsed with column specification:\n",
            "cols(\n",
            "  `__kp_Survey` = \u001b[31mcol_character()\u001b[39m,\n",
            "  `_kf_Site` = \u001b[32mcol_double()\u001b[39m,\n",
            "  SurveyDate = \u001b[31mcol_character()\u001b[39m,\n",
            "  SurveyYear = \u001b[32mcol_double()\u001b[39m,\n",
            "  ShrubCvr = \u001b[32mcol_double()\u001b[39m,\n",
            "  ShrubDistribution = \u001b[31mcol_character()\u001b[39m,\n",
            "  ShrubMinHt = \u001b[32mcol_double()\u001b[39m,\n",
            "  ShrubCharHt = \u001b[32mcol_double()\u001b[39m,\n",
            "  ShrubMaxHt = \u001b[32mcol_double()\u001b[39m,\n",
            "  TreeMinHt = \u001b[32mcol_double()\u001b[39m,\n",
            "  TreeCharHt = \u001b[32mcol_double()\u001b[39m,\n",
            "  TreeMaxHt = \u001b[32mcol_double()\u001b[39m,\n",
            "  TreeMinDBH = \u001b[32mcol_double()\u001b[39m,\n",
            "  TreeCharDBH = \u001b[32mcol_double()\u001b[39m,\n",
            "  TreeMaxDBH = \u001b[32mcol_double()\u001b[39m,\n",
            "  CanopyDensity = \u001b[32mcol_double()\u001b[39m\n",
            ")\n",
            "\n"
          ],
          "name": "stderr"
        }
      ]
    },
    {
      "cell_type": "markdown",
      "metadata": {
        "id": "JNIlIdcszO-q",
        "colab_type": "text"
      },
      "source": [
        "# Wrangle"
      ]
    },
    {
      "cell_type": "code",
      "metadata": {
        "id": "9DDGgCILugpe",
        "colab_type": "code",
        "colab": {
          "base_uri": "https://localhost:8080/",
          "height": 34
        },
        "outputId": "c2e632b6-4133-4966-a15d-2ba0411f4753"
      },
      "source": [
        "dim(df_ts)"
      ],
      "execution_count": 11,
      "outputs": [
        {
          "output_type": "display_data",
          "data": {
            "text/plain": [
              "[1] 752  16"
            ],
            "text/latex": "\\begin{enumerate*}\n\\item 752\n\\item 16\n\\end{enumerate*}\n",
            "text/markdown": "1. 752\n2. 16\n\n\n",
            "text/html": [
              "<style>\n",
              ".list-inline {list-style: none; margin:0; padding: 0}\n",
              ".list-inline>li {display: inline-block}\n",
              ".list-inline>li:not(:last-child)::after {content: \"\\00b7\"; padding: 0 .5ex}\n",
              "</style>\n",
              "<ol class=list-inline><li>752</li><li>16</li></ol>\n"
            ]
          },
          "metadata": {
            "tags": []
          }
        }
      ]
    },
    {
      "cell_type": "code",
      "metadata": {
        "id": "62dyzS7CzRO3",
        "colab_type": "code",
        "colab": {
          "base_uri": "https://localhost:8080/",
          "height": 561
        },
        "outputId": "f24db217-d0a6-469c-f8ba-b54b994a09cf"
      },
      "source": [
        "summary(df_ts)"
      ],
      "execution_count": 12,
      "outputs": [
        {
          "output_type": "display_data",
          "data": {
            "text/plain": [
              " __kp_Survey           _kf_Site      SurveyDate          SurveyYear  \n",
              " Length:752         Min.   :  1.0   Length:752         Min.   :2011  \n",
              " Class :character   1st Qu.:154.0   Class :character   1st Qu.:2012  \n",
              " Mode  :character   Median :378.5   Mode  :character   Median :2016  \n",
              "                    Mean   :325.5                      Mean   :2014  \n",
              "                    3rd Qu.:475.0                      3rd Qu.:2016  \n",
              "                    Max.   :581.0                      Max.   :2017  \n",
              "                                                                     \n",
              "    ShrubCvr     ShrubDistribution    ShrubMinHt     ShrubCharHt   \n",
              " Min.   :1.000   Length:752         Min.   :1.000   Min.   :1.000  \n",
              " 1st Qu.:3.000   Class :character   1st Qu.:1.000   1st Qu.:2.000  \n",
              " Median :4.000   Mode  :character   Median :1.000   Median :2.000  \n",
              " Mean   :3.652                      Mean   :1.094   Mean   :2.052  \n",
              " 3rd Qu.:5.000                      3rd Qu.:1.000   3rd Qu.:2.000  \n",
              " Max.   :5.000                      Max.   :3.000   Max.   :4.000  \n",
              " NA's   :30                         NA's   :28      NA's   :28     \n",
              "   ShrubMaxHt      TreeMinHt       TreeCharHt      TreeMaxHt    \n",
              " Min.   :1.000   Min.   :1.000   Min.   :1.000   Min.   :1.000  \n",
              " 1st Qu.:2.000   1st Qu.:1.000   1st Qu.:3.000   1st Qu.:3.000  \n",
              " Median :2.000   Median :1.000   Median :3.000   Median :4.000  \n",
              " Mean   :2.636   Mean   :1.592   Mean   :2.987   Mean   :3.487  \n",
              " 3rd Qu.:3.000   3rd Qu.:2.000   3rd Qu.:3.000   3rd Qu.:4.000  \n",
              " Max.   :4.000   Max.   :4.000   Max.   :4.000   Max.   :4.000  \n",
              " NA's   :29      NA's   :362     NA's   :362     NA's   :362    \n",
              "   TreeMinDBH     TreeCharDBH      TreeMaxDBH    CanopyDensity   \n",
              " Min.   :1.000   Min.   :1.000   Min.   :1.000   Min.   :  0.00  \n",
              " 1st Qu.:1.000   1st Qu.:3.000   1st Qu.:3.000   1st Qu.: 19.00  \n",
              " Median :1.000   Median :3.000   Median :4.000   Median : 40.66  \n",
              " Mean   :1.653   Mean   :3.062   Mean   :3.596   Mean   : 42.14  \n",
              " 3rd Qu.:2.000   3rd Qu.:4.000   3rd Qu.:4.000   3rd Qu.: 63.59  \n",
              " Max.   :4.000   Max.   :4.000   Max.   :4.000   Max.   :100.08  \n",
              " NA's   :363     NA's   :363     NA's   :363     NA's   :347     "
            ]
          },
          "metadata": {
            "tags": []
          }
        }
      ]
    },
    {
      "cell_type": "markdown",
      "metadata": {
        "id": "3-yFZIi6zYvE",
        "colab_type": "text"
      },
      "source": [
        "## Rename Columns"
      ]
    },
    {
      "cell_type": "code",
      "metadata": {
        "id": "sqjGAcjfzqd9",
        "colab_type": "code",
        "colab": {
          "base_uri": "https://localhost:8080/",
          "height": 51
        },
        "outputId": "24d6120d-4cc6-41d4-8182-55ce4774e2e1"
      },
      "source": [
        "names(df_ts)"
      ],
      "execution_count": 13,
      "outputs": [
        {
          "output_type": "display_data",
          "data": {
            "text/plain": [
              " [1] \"__kp_Survey\"       \"_kf_Site\"          \"SurveyDate\"       \n",
              " [4] \"SurveyYear\"        \"ShrubCvr\"          \"ShrubDistribution\"\n",
              " [7] \"ShrubMinHt\"        \"ShrubCharHt\"       \"ShrubMaxHt\"       \n",
              "[10] \"TreeMinHt\"         \"TreeCharHt\"        \"TreeMaxHt\"        \n",
              "[13] \"TreeMinDBH\"        \"TreeCharDBH\"       \"TreeMaxDBH\"       \n",
              "[16] \"CanopyDensity\"    "
            ],
            "text/latex": "\\begin{enumerate*}\n\\item '\\_\\_kp\\_Survey'\n\\item '\\_kf\\_Site'\n\\item 'SurveyDate'\n\\item 'SurveyYear'\n\\item 'ShrubCvr'\n\\item 'ShrubDistribution'\n\\item 'ShrubMinHt'\n\\item 'ShrubCharHt'\n\\item 'ShrubMaxHt'\n\\item 'TreeMinHt'\n\\item 'TreeCharHt'\n\\item 'TreeMaxHt'\n\\item 'TreeMinDBH'\n\\item 'TreeCharDBH'\n\\item 'TreeMaxDBH'\n\\item 'CanopyDensity'\n\\end{enumerate*}\n",
            "text/markdown": "1. '__kp_Survey'\n2. '_kf_Site'\n3. 'SurveyDate'\n4. 'SurveyYear'\n5. 'ShrubCvr'\n6. 'ShrubDistribution'\n7. 'ShrubMinHt'\n8. 'ShrubCharHt'\n9. 'ShrubMaxHt'\n10. 'TreeMinHt'\n11. 'TreeCharHt'\n12. 'TreeMaxHt'\n13. 'TreeMinDBH'\n14. 'TreeCharDBH'\n15. 'TreeMaxDBH'\n16. 'CanopyDensity'\n\n\n",
            "text/html": [
              "<style>\n",
              ".list-inline {list-style: none; margin:0; padding: 0}\n",
              ".list-inline>li {display: inline-block}\n",
              ".list-inline>li:not(:last-child)::after {content: \"\\00b7\"; padding: 0 .5ex}\n",
              "</style>\n",
              "<ol class=list-inline><li>'__kp_Survey'</li><li>'_kf_Site'</li><li>'SurveyDate'</li><li>'SurveyYear'</li><li>'ShrubCvr'</li><li>'ShrubDistribution'</li><li>'ShrubMinHt'</li><li>'ShrubCharHt'</li><li>'ShrubMaxHt'</li><li>'TreeMinHt'</li><li>'TreeCharHt'</li><li>'TreeMaxHt'</li><li>'TreeMinDBH'</li><li>'TreeCharDBH'</li><li>'TreeMaxDBH'</li><li>'CanopyDensity'</li></ol>\n"
            ]
          },
          "metadata": {
            "tags": []
          }
        }
      ]
    },
    {
      "cell_type": "code",
      "metadata": {
        "id": "9z_fWTYUzTAM",
        "colab_type": "code",
        "colab": {}
      },
      "source": [
        "oldnames = c('__kp_Survey', '_kf_Site', 'SurveyDate', 'SurveyYear', \n",
        "             'ShrubCvr', 'ShrubDistribution', 'ShrubMinHt', 'ShrubCharHt', \n",
        "             'ShrubMaxHt', 'TreeMinHt', 'TreeCharHt', 'TreeMaxHt', \n",
        "             'TreeMinDBH', 'TreeCharDBH', 'TreeMaxDBH', 'CanopyDensity')\n",
        "newnames = c('survey_ID', 'grid_point', 'date', 'year', \n",
        "             'shrub_cover', 'shrub_dist', 'shrub_ht_min', 'shrub_ht_char', \n",
        "             'shrub_ht_max', 'tree_ht_min', 'tree_ht_char', 'tree_ht_max',\n",
        "             'tree_dbh_min', 'tree_dbh_char', 'tree_dbh_max', 'canopy_density')\n",
        "\n",
        "df_ts <- df_ts %>% rename_at(vars(all_of(oldnames)), ~ newnames)"
      ],
      "execution_count": 14,
      "outputs": []
    },
    {
      "cell_type": "code",
      "metadata": {
        "id": "Cwzoa8fLzite",
        "colab_type": "code",
        "colab": {
          "base_uri": "https://localhost:8080/",
          "height": 323
        },
        "outputId": "80997ee2-038c-44dc-e9b0-6963b8c6c0de"
      },
      "source": [
        "glimpse(df_ts)"
      ],
      "execution_count": 17,
      "outputs": [
        {
          "output_type": "stream",
          "text": [
            "Rows: 752\n",
            "Columns: 16\n",
            "$ survey_ID      \u001b[3m\u001b[90m<chr>\u001b[39m\u001b[23m \"436\", \"558\", \"565\", \"582\", \"696\", \"439\", \"440\", \"441\"…\n",
            "$ grid_point     \u001b[3m\u001b[90m<dbl>\u001b[39m\u001b[23m 1, 6, 13, 14, 15, 16, 17, 18, 25, 26, 29, 30, 31, 35, …\n",
            "$ date           \u001b[3m\u001b[90m<chr>\u001b[39m\u001b[23m \"7/26/11\", \"7/19/11\", \"7/28/11\", \"7/21/11\", \"7/21/11\",…\n",
            "$ year           \u001b[3m\u001b[90m<dbl>\u001b[39m\u001b[23m 2011, 2011, 2011, 2011, 2011, 2011, 2011, 2011, 2011, …\n",
            "$ shrub_cover    \u001b[3m\u001b[90m<dbl>\u001b[39m\u001b[23m 2, 5, 4, 3, 3, 3, 5, 5, 4, 3, 4, 3, 4, 3, 4, 5, 2, 4, …\n",
            "$ shrub_dist     \u001b[3m\u001b[90m<chr>\u001b[39m\u001b[23m \"Scattered\", \"Scattered\", \"Scattered\", \"Scattered\", \"S…\n",
            "$ shrub_ht_min   \u001b[3m\u001b[90m<dbl>\u001b[39m\u001b[23m 1, 1, 1, 1, 1, 1, 1, 1, 1, 1, 1, 1, 1, 1, 1, 2, 1, 1, …\n",
            "$ shrub_ht_char  \u001b[3m\u001b[90m<dbl>\u001b[39m\u001b[23m 2, 2, 2, 2, 2, 2, 2, 2, 2, 1, 2, 2, 2, 2, 1, 2, 2, 2, …\n",
            "$ shrub_ht_max   \u001b[3m\u001b[90m<dbl>\u001b[39m\u001b[23m 2, 3, 3, 3, 2, 3, 2, 2, 2, 2, 3, 3, 3, 3, 2, 3, 2, 3, …\n",
            "$ tree_ht_min    \u001b[3m\u001b[90m<dbl>\u001b[39m\u001b[23m 2, NA, NA, NA, NA, 1, 1, 3, 3, NA, NA, NA, NA, NA, NA,…\n",
            "$ tree_ht_char   \u001b[3m\u001b[90m<dbl>\u001b[39m\u001b[23m 3, NA, NA, NA, NA, 3, 4, 4, 3, NA, NA, NA, NA, NA, NA,…\n",
            "$ tree_ht_max    \u001b[3m\u001b[90m<dbl>\u001b[39m\u001b[23m 4, NA, NA, NA, NA, 3, 4, 4, 4, NA, NA, NA, NA, NA, NA,…\n",
            "$ tree_dbh_min   \u001b[3m\u001b[90m<dbl>\u001b[39m\u001b[23m 2, NA, NA, NA, NA, 1, 1, 2, 2, NA, NA, NA, NA, NA, NA,…\n",
            "$ tree_dbh_char  \u001b[3m\u001b[90m<dbl>\u001b[39m\u001b[23m 3, NA, NA, NA, NA, 4, 3, 4, 3, NA, NA, NA, NA, NA, NA,…\n",
            "$ tree_dbh_max   \u001b[3m\u001b[90m<dbl>\u001b[39m\u001b[23m 4, NA, NA, NA, NA, 4, 3, 4, 4, NA, NA, NA, NA, NA, NA,…\n",
            "$ canopy_density \u001b[3m\u001b[90m<dbl>\u001b[39m\u001b[23m 48, NA, NA, NA, NA, 35, 50, 59, 27, NA, NA, NA, NA, NA…\n"
          ],
          "name": "stdout"
        }
      ]
    },
    {
      "cell_type": "markdown",
      "metadata": {
        "id": "SMQCmQOxADkN",
        "colab_type": "text"
      },
      "source": [
        "## Set Data Types"
      ]
    },
    {
      "cell_type": "code",
      "metadata": {
        "id": "qEAkx9u9AH-6",
        "colab_type": "code",
        "colab": {}
      },
      "source": [
        "df_ts$grid_point <- as.integer(df_ts$grid_point)\n",
        "df_ts$date <- as.Date(df_ts$date, \"%m/%d/%y\")\n",
        "df_ts$year <- as.integer(df_ts$year)\n",
        "df_ts$shrub_cover <- as.integer(df_ts$shrub_cover)\n",
        "df_ts$shrub_ht_min <- as.integer(df_ts$shrub_ht_min)\n",
        "df_ts$shrub_ht_char <- as.integer(df_ts$shrub_ht_char)\n",
        "df_ts$shrub_ht_max <- as.integer(df_ts$shrub_ht_max)\n",
        "df_ts$tree_ht_min <- as.integer(df_ts$tree_ht_min)\n",
        "df_ts$tree_ht_char <- as.integer(df_ts$tree_ht_char)\n",
        "df_ts$tree_ht_max <- as.integer(df_ts$tree_ht_max)\n",
        "df_ts$tree_dbh_min <- as.integer(df_ts$tree_dbh_min)\n",
        "df_ts$tree_dbh_char <- as.integer(df_ts$tree_dbh_char)\n",
        "df_ts$tree_dbh_max <- as.integer(df_ts$tree_dbh_max)"
      ],
      "execution_count": 20,
      "outputs": []
    },
    {
      "cell_type": "code",
      "metadata": {
        "id": "dzbodSk3Agc-",
        "colab_type": "code",
        "colab": {
          "base_uri": "https://localhost:8080/",
          "height": 323
        },
        "outputId": "1e2934f8-f20c-4fb3-8920-cfb82ccef631"
      },
      "source": [
        "glimpse(df_ts)"
      ],
      "execution_count": 21,
      "outputs": [
        {
          "output_type": "stream",
          "text": [
            "Rows: 752\n",
            "Columns: 16\n",
            "$ survey_ID      \u001b[3m\u001b[90m<chr>\u001b[39m\u001b[23m \"436\", \"558\", \"565\", \"582\", \"696\", \"439\", \"440\", \"441\"…\n",
            "$ grid_point     \u001b[3m\u001b[90m<int>\u001b[39m\u001b[23m 1, 6, 13, 14, 15, 16, 17, 18, 25, 26, 29, 30, 31, 35, …\n",
            "$ date           \u001b[3m\u001b[90m<date>\u001b[39m\u001b[23m 2011-07-26, 2011-07-19, 2011-07-28, 2011-07-21, 2011-…\n",
            "$ year           \u001b[3m\u001b[90m<int>\u001b[39m\u001b[23m 2011, 2011, 2011, 2011, 2011, 2011, 2011, 2011, 2011, …\n",
            "$ shrub_cover    \u001b[3m\u001b[90m<int>\u001b[39m\u001b[23m 2, 5, 4, 3, 3, 3, 5, 5, 4, 3, 4, 3, 4, 3, 4, 5, 2, 4, …\n",
            "$ shrub_dist     \u001b[3m\u001b[90m<chr>\u001b[39m\u001b[23m \"Scattered\", \"Scattered\", \"Scattered\", \"Scattered\", \"S…\n",
            "$ shrub_ht_min   \u001b[3m\u001b[90m<int>\u001b[39m\u001b[23m 1, 1, 1, 1, 1, 1, 1, 1, 1, 1, 1, 1, 1, 1, 1, 2, 1, 1, …\n",
            "$ shrub_ht_char  \u001b[3m\u001b[90m<int>\u001b[39m\u001b[23m 2, 2, 2, 2, 2, 2, 2, 2, 2, 1, 2, 2, 2, 2, 1, 2, 2, 2, …\n",
            "$ shrub_ht_max   \u001b[3m\u001b[90m<int>\u001b[39m\u001b[23m 2, 3, 3, 3, 2, 3, 2, 2, 2, 2, 3, 3, 3, 3, 2, 3, 2, 3, …\n",
            "$ tree_ht_min    \u001b[3m\u001b[90m<int>\u001b[39m\u001b[23m 2, NA, NA, NA, NA, 1, 1, 3, 3, NA, NA, NA, NA, NA, NA,…\n",
            "$ tree_ht_char   \u001b[3m\u001b[90m<int>\u001b[39m\u001b[23m 3, NA, NA, NA, NA, 3, 4, 4, 3, NA, NA, NA, NA, NA, NA,…\n",
            "$ tree_ht_max    \u001b[3m\u001b[90m<int>\u001b[39m\u001b[23m 4, NA, NA, NA, NA, 3, 4, 4, 4, NA, NA, NA, NA, NA, NA,…\n",
            "$ tree_dbh_min   \u001b[3m\u001b[90m<int>\u001b[39m\u001b[23m 2, NA, NA, NA, NA, 1, 1, 2, 2, NA, NA, NA, NA, NA, NA,…\n",
            "$ tree_dbh_char  \u001b[3m\u001b[90m<int>\u001b[39m\u001b[23m 3, NA, NA, NA, NA, 4, 3, 4, 3, NA, NA, NA, NA, NA, NA,…\n",
            "$ tree_dbh_max   \u001b[3m\u001b[90m<int>\u001b[39m\u001b[23m 4, NA, NA, NA, NA, 4, 3, 4, 4, NA, NA, NA, NA, NA, NA,…\n",
            "$ canopy_density \u001b[3m\u001b[90m<dbl>\u001b[39m\u001b[23m 48, NA, NA, NA, NA, 35, 50, 59, 27, NA, NA, NA, NA, NA…\n"
          ],
          "name": "stdout"
        }
      ]
    },
    {
      "cell_type": "markdown",
      "metadata": {
        "id": "FqCvihLLCiKf",
        "colab_type": "text"
      },
      "source": [
        "## Explore"
      ]
    },
    {
      "cell_type": "markdown",
      "metadata": {
        "id": "JgK0ko6LELNx",
        "colab_type": "text"
      },
      "source": [
        "Each column was reviewed with distinct and arrange to look for outlier values"
      ]
    },
    {
      "cell_type": "code",
      "metadata": {
        "id": "IC6BMj4QCZsw",
        "colab_type": "code",
        "colab": {}
      },
      "source": [
        "df_ts %>%\n",
        "  distinct(canopy_density) %>%\n",
        "  arrange(canopy_density)"
      ],
      "execution_count": null,
      "outputs": []
    },
    {
      "cell_type": "markdown",
      "metadata": {
        "id": "-x76civPEbH3",
        "colab_type": "text"
      },
      "source": [
        "# Output"
      ]
    },
    {
      "cell_type": "code",
      "metadata": {
        "id": "SBUpHMs3DZxS",
        "colab_type": "code",
        "colab": {}
      },
      "source": [
        "output <- \"gridVeg_shrub_tree_WRANGLE.csv\"\n",
        "write_csv(df_ts, path = output)"
      ],
      "execution_count": 43,
      "outputs": []
    }
  ]
}