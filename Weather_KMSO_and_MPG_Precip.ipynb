{
  "nbformat": 4,
  "nbformat_minor": 0,
  "metadata": {
    "colab": {
      "name": "Weather - KMSO and MPG Precip.ipynb",
      "provenance": [],
      "authorship_tag": "ABX9TyOZpIhSLWu+U11Mzh6qPIj0",
      "include_colab_link": true
    },
    "kernelspec": {
      "name": "python3",
      "display_name": "Python 3"
    }
  },
  "cells": [
    {
      "cell_type": "markdown",
      "metadata": {
        "id": "view-in-github",
        "colab_type": "text"
      },
      "source": [
        "<a href=\"https://colab.research.google.com/github/samsoe/mpg_notebooks/blob/master/Weather_KMSO_and_MPG_Precip.ipynb\" target=\"_parent\"><img src=\"https://colab.research.google.com/assets/colab-badge.svg\" alt=\"Open In Colab\"/></a>"
      ]
    },
    {
      "cell_type": "markdown",
      "metadata": {
        "id": "sy5wk92v5mLS",
        "colab_type": "text"
      },
      "source": [
        "Wrangle Notebook"
      ]
    },
    {
      "cell_type": "markdown",
      "metadata": {
        "id": "sdVhARE15sI7",
        "colab_type": "text"
      },
      "source": [
        "# Load Tools"
      ]
    },
    {
      "cell_type": "code",
      "metadata": {
        "id": "iTdDjABu5rra",
        "colab_type": "code",
        "colab": {}
      },
      "source": [
        "import pandas as pd"
      ],
      "execution_count": 0,
      "outputs": []
    },
    {
      "cell_type": "markdown",
      "metadata": {
        "id": "zWjoa_vA5v_v",
        "colab_type": "text"
      },
      "source": [
        "# Query BigQuery"
      ]
    },
    {
      "cell_type": "markdown",
      "metadata": {
        "id": "obzUTp6_53d6",
        "colab_type": "text"
      },
      "source": [
        "## KMSO"
      ]
    },
    {
      "cell_type": "code",
      "metadata": {
        "id": "OaPuoT2h7Pf3",
        "colab_type": "code",
        "colab": {}
      },
      "source": [
        "kmso_query = \"\"\"\n",
        "SELECT\n",
        "  day,\n",
        "  precip_sum_in\n",
        "FROM\n",
        "  `mpg-data-warehouse.weather_noaa.noaa_gsod_rename`\n",
        "\"\"\""
      ],
      "execution_count": 0,
      "outputs": []
    },
    {
      "cell_type": "code",
      "metadata": {
        "id": "2yNn-CuL5wKk",
        "colab_type": "code",
        "colab": {}
      },
      "source": [
        "# send query to BigQuery\n",
        "df_kmso = pd.read_gbq(query=kmso_query, project_id='mpg-data-warehouse', dialect='standard')"
      ],
      "execution_count": 0,
      "outputs": []
    },
    {
      "cell_type": "code",
      "metadata": {
        "id": "8yArdZLV8PNa",
        "colab_type": "code",
        "outputId": "ec05d983-2cc2-4a68-cd03-4098fed119a0",
        "colab": {
          "base_uri": "https://localhost:8080/",
          "height": 34
        }
      },
      "source": [
        "# years collected\n",
        "df_kmso.day.dt.year.unique()"
      ],
      "execution_count": 0,
      "outputs": [
        {
          "output_type": "execute_result",
          "data": {
            "text/plain": [
              "array([2019, 2018, 2017, 2016, 2015, 2014, 2013, 2012, 2011, 2010])"
            ]
          },
          "metadata": {
            "tags": []
          },
          "execution_count": 11
        }
      ]
    },
    {
      "cell_type": "code",
      "metadata": {
        "id": "7b7K-DSWCEHY",
        "colab_type": "code",
        "colab": {}
      },
      "source": [
        "# rename column\n",
        "df_kmso.columns = ['day', 'kmso']"
      ],
      "execution_count": 0,
      "outputs": []
    },
    {
      "cell_type": "code",
      "metadata": {
        "id": "eigRcjMw_ahX",
        "colab_type": "code",
        "outputId": "42d6ca39-4837-458a-e196-2b9b17f433aa",
        "colab": {
          "base_uri": "https://localhost:8080/",
          "height": 111
        }
      },
      "source": [
        "df_kmso.head(2)"
      ],
      "execution_count": 0,
      "outputs": [
        {
          "output_type": "execute_result",
          "data": {
            "text/html": [
              "<div>\n",
              "<style scoped>\n",
              "    .dataframe tbody tr th:only-of-type {\n",
              "        vertical-align: middle;\n",
              "    }\n",
              "\n",
              "    .dataframe tbody tr th {\n",
              "        vertical-align: top;\n",
              "    }\n",
              "\n",
              "    .dataframe thead th {\n",
              "        text-align: right;\n",
              "    }\n",
              "</style>\n",
              "<table border=\"1\" class=\"dataframe\">\n",
              "  <thead>\n",
              "    <tr style=\"text-align: right;\">\n",
              "      <th></th>\n",
              "      <th>day</th>\n",
              "      <th>kmso</th>\n",
              "    </tr>\n",
              "  </thead>\n",
              "  <tbody>\n",
              "    <tr>\n",
              "      <th>0</th>\n",
              "      <td>2019-12-31</td>\n",
              "      <td>0.01</td>\n",
              "    </tr>\n",
              "    <tr>\n",
              "      <th>1</th>\n",
              "      <td>2019-12-30</td>\n",
              "      <td>0.04</td>\n",
              "    </tr>\n",
              "  </tbody>\n",
              "</table>\n",
              "</div>"
            ],
            "text/plain": [
              "         day  kmso\n",
              "0 2019-12-31  0.01\n",
              "1 2019-12-30  0.04"
            ]
          },
          "metadata": {
            "tags": []
          },
          "execution_count": 42
        }
      ]
    },
    {
      "cell_type": "code",
      "metadata": {
        "id": "ToVSLCNvDsBX",
        "colab_type": "code",
        "outputId": "340c0e1f-6ddf-4173-b795-c9975910f9f1",
        "colab": {
          "base_uri": "https://localhost:8080/",
          "height": 170
        }
      },
      "source": [
        "df_kmso.info()"
      ],
      "execution_count": 0,
      "outputs": [
        {
          "output_type": "stream",
          "text": [
            "<class 'pandas.core.frame.DataFrame'>\n",
            "RangeIndex: 3652 entries, 0 to 3651\n",
            "Data columns (total 2 columns):\n",
            " #   Column  Non-Null Count  Dtype         \n",
            "---  ------  --------------  -----         \n",
            " 0   day     3652 non-null   datetime64[ns]\n",
            " 1   kmso    3652 non-null   float64       \n",
            "dtypes: datetime64[ns](1), float64(1)\n",
            "memory usage: 57.2 KB\n"
          ],
          "name": "stdout"
        }
      ]
    },
    {
      "cell_type": "markdown",
      "metadata": {
        "id": "id31BO0u57E-",
        "colab_type": "text"
      },
      "source": [
        "## MPG"
      ]
    },
    {
      "cell_type": "code",
      "metadata": {
        "id": "HdxAZp_i5wf7",
        "colab_type": "code",
        "colab": {}
      },
      "source": [
        "mpg_query = \"\"\"\n",
        "SELECT\n",
        "  day,\n",
        "  station,\n",
        "  precip_sum_in\n",
        "FROM\n",
        "  `mpg-data-warehouse.weather_mpg.daily`\n",
        "\"\"\""
      ],
      "execution_count": 0,
      "outputs": []
    },
    {
      "cell_type": "code",
      "metadata": {
        "id": "_p78O_QG-RKj",
        "colab_type": "code",
        "colab": {}
      },
      "source": [
        "# send query to BigQuery\n",
        "df_mpg = pd.read_gbq(query=mpg_query, project_id='mpg-data-warehouse', dialect='standard')"
      ],
      "execution_count": 0,
      "outputs": []
    },
    {
      "cell_type": "code",
      "metadata": {
        "id": "sJgNjBS6-cyL",
        "colab_type": "code",
        "outputId": "616a8c69-b933-47a0-c170-11a3b55b7ddb",
        "colab": {
          "base_uri": "https://localhost:8080/",
          "height": 187
        }
      },
      "source": [
        "df_mpg.info()"
      ],
      "execution_count": 0,
      "outputs": [
        {
          "output_type": "stream",
          "text": [
            "<class 'pandas.core.frame.DataFrame'>\n",
            "RangeIndex: 15918 entries, 0 to 15917\n",
            "Data columns (total 3 columns):\n",
            " #   Column         Non-Null Count  Dtype  \n",
            "---  ------         --------------  -----  \n",
            " 0   day            15918 non-null  object \n",
            " 1   station        15918 non-null  object \n",
            " 2   precip_sum_in  15909 non-null  float64\n",
            "dtypes: float64(1), object(2)\n",
            "memory usage: 373.2+ KB\n"
          ],
          "name": "stdout"
        }
      ]
    },
    {
      "cell_type": "code",
      "metadata": {
        "id": "OLMPBGa__de8",
        "colab_type": "code",
        "outputId": "a9b6e00f-d7ae-49fe-902a-3741c4934978",
        "colab": {
          "base_uri": "https://localhost:8080/",
          "height": 111
        }
      },
      "source": [
        "df_mpg.tail(2)"
      ],
      "execution_count": 0,
      "outputs": [
        {
          "output_type": "execute_result",
          "data": {
            "text/html": [
              "<div>\n",
              "<style scoped>\n",
              "    .dataframe tbody tr th:only-of-type {\n",
              "        vertical-align: middle;\n",
              "    }\n",
              "\n",
              "    .dataframe tbody tr th {\n",
              "        vertical-align: top;\n",
              "    }\n",
              "\n",
              "    .dataframe thead th {\n",
              "        text-align: right;\n",
              "    }\n",
              "</style>\n",
              "<table border=\"1\" class=\"dataframe\">\n",
              "  <thead>\n",
              "    <tr style=\"text-align: right;\">\n",
              "      <th></th>\n",
              "      <th>day</th>\n",
              "      <th>station</th>\n",
              "      <th>precip_sum_in</th>\n",
              "    </tr>\n",
              "  </thead>\n",
              "  <tbody>\n",
              "    <tr>\n",
              "      <th>15916</th>\n",
              "      <td>2016-03-14</td>\n",
              "      <td>baldy summit</td>\n",
              "      <td>0.0</td>\n",
              "    </tr>\n",
              "    <tr>\n",
              "      <th>15917</th>\n",
              "      <td>2016-03-15</td>\n",
              "      <td>baldy summit</td>\n",
              "      <td>0.0</td>\n",
              "    </tr>\n",
              "  </tbody>\n",
              "</table>\n",
              "</div>"
            ],
            "text/plain": [
              "              day       station  precip_sum_in\n",
              "15916  2016-03-14  baldy summit            0.0\n",
              "15917  2016-03-15  baldy summit            0.0"
            ]
          },
          "metadata": {
            "tags": []
          },
          "execution_count": 23
        }
      ]
    },
    {
      "cell_type": "markdown",
      "metadata": {
        "id": "mKUq8q3B5wrK",
        "colab_type": "text"
      },
      "source": [
        "# ReStructure"
      ]
    },
    {
      "cell_type": "markdown",
      "metadata": {
        "id": "IbgqBuih_nj8",
        "colab_type": "text"
      },
      "source": [
        "## Long to Wide"
      ]
    },
    {
      "cell_type": "markdown",
      "metadata": {
        "id": "UuY620YM-3WO",
        "colab_type": "text"
      },
      "source": [
        "### KMSO"
      ]
    },
    {
      "cell_type": "code",
      "metadata": {
        "id": "JSagUafF5w0L",
        "colab_type": "code",
        "colab": {}
      },
      "source": [
        "df_mpg = df_mpg.pivot(index='day', columns='station', values='precip_sum_in')"
      ],
      "execution_count": 0,
      "outputs": []
    },
    {
      "cell_type": "code",
      "metadata": {
        "id": "SIO7uz_KCZV8",
        "colab_type": "code",
        "colab": {}
      },
      "source": [
        "df_mpg.columns.name = 'precip_sum_in'"
      ],
      "execution_count": 0,
      "outputs": []
    },
    {
      "cell_type": "code",
      "metadata": {
        "id": "V27Vdw9PDNUM",
        "colab_type": "code",
        "colab": {}
      },
      "source": [
        "df_mpg = df_mpg.reset_index()"
      ],
      "execution_count": 0,
      "outputs": []
    },
    {
      "cell_type": "code",
      "metadata": {
        "id": "44U-2xmqDf9_",
        "colab_type": "code",
        "colab": {}
      },
      "source": [
        "# set datetime datatype\n",
        "df_mpg.day = pd.to_datetime(df_mpg.day)"
      ],
      "execution_count": 0,
      "outputs": []
    },
    {
      "cell_type": "code",
      "metadata": {
        "id": "QjCRjKszFYKm",
        "colab_type": "code",
        "colab": {}
      },
      "source": [
        "# update column names to comply with BigQuery naming conventions\n",
        "df_mpg.columns = ['day', 'baldy_draw', 'baldy_summit', 'indian_ridge', 'orchard_house',\n",
        "       'sanfoin_bench', 'south_baldy']"
      ],
      "execution_count": 0,
      "outputs": []
    },
    {
      "cell_type": "code",
      "metadata": {
        "id": "s7Ecc7Je_iz9",
        "colab_type": "code",
        "outputId": "f4c14ddc-d380-40f4-8c80-a0e6a38cbac9",
        "colab": {
          "base_uri": "https://localhost:8080/",
          "height": 111
        }
      },
      "source": [
        "df_mpg.head(2)"
      ],
      "execution_count": 0,
      "outputs": [
        {
          "output_type": "execute_result",
          "data": {
            "text/html": [
              "<div>\n",
              "<style scoped>\n",
              "    .dataframe tbody tr th:only-of-type {\n",
              "        vertical-align: middle;\n",
              "    }\n",
              "\n",
              "    .dataframe tbody tr th {\n",
              "        vertical-align: top;\n",
              "    }\n",
              "\n",
              "    .dataframe thead th {\n",
              "        text-align: right;\n",
              "    }\n",
              "</style>\n",
              "<table border=\"1\" class=\"dataframe\">\n",
              "  <thead>\n",
              "    <tr style=\"text-align: right;\">\n",
              "      <th></th>\n",
              "      <th>day</th>\n",
              "      <th>baldy_draw</th>\n",
              "      <th>baldy_summit</th>\n",
              "      <th>indian_ridge</th>\n",
              "      <th>orchard_house</th>\n",
              "      <th>sanfoin_bench</th>\n",
              "      <th>south_baldy</th>\n",
              "    </tr>\n",
              "  </thead>\n",
              "  <tbody>\n",
              "    <tr>\n",
              "      <th>0</th>\n",
              "      <td>2012-06-19</td>\n",
              "      <td>0.0</td>\n",
              "      <td>0.0</td>\n",
              "      <td>NaN</td>\n",
              "      <td>0.0</td>\n",
              "      <td>0.0</td>\n",
              "      <td>0.0</td>\n",
              "    </tr>\n",
              "    <tr>\n",
              "      <th>1</th>\n",
              "      <td>2012-06-20</td>\n",
              "      <td>0.0</td>\n",
              "      <td>0.1</td>\n",
              "      <td>NaN</td>\n",
              "      <td>0.0</td>\n",
              "      <td>0.0</td>\n",
              "      <td>0.0</td>\n",
              "    </tr>\n",
              "  </tbody>\n",
              "</table>\n",
              "</div>"
            ],
            "text/plain": [
              "         day  baldy_draw  ...  sanfoin_bench  south_baldy\n",
              "0 2012-06-19         0.0  ...            0.0          0.0\n",
              "1 2012-06-20         0.0  ...            0.0          0.0\n",
              "\n",
              "[2 rows x 7 columns]"
            ]
          },
          "metadata": {
            "tags": []
          },
          "execution_count": 72
        }
      ]
    },
    {
      "cell_type": "code",
      "metadata": {
        "id": "mBYhhMfFDAEd",
        "colab_type": "code",
        "outputId": "2650b194-9260-4bfe-b33c-695300008a5d",
        "colab": {
          "base_uri": "https://localhost:8080/",
          "height": 255
        }
      },
      "source": [
        "df_mpg.info()"
      ],
      "execution_count": 0,
      "outputs": [
        {
          "output_type": "stream",
          "text": [
            "<class 'pandas.core.frame.DataFrame'>\n",
            "RangeIndex: 2653 entries, 0 to 2652\n",
            "Data columns (total 7 columns):\n",
            " #   Column         Non-Null Count  Dtype         \n",
            "---  ------         --------------  -----         \n",
            " 0   day            2653 non-null   datetime64[ns]\n",
            " 1   baldy_draw     2653 non-null   float64       \n",
            " 2   baldy_summit   2653 non-null   float64       \n",
            " 3   indian_ridge   2644 non-null   float64       \n",
            " 4   orchard_house  2653 non-null   float64       \n",
            " 5   sanfoin_bench  2653 non-null   float64       \n",
            " 6   south_baldy    2653 non-null   float64       \n",
            "dtypes: datetime64[ns](1), float64(6)\n",
            "memory usage: 145.2 KB\n"
          ],
          "name": "stdout"
        }
      ]
    },
    {
      "cell_type": "markdown",
      "metadata": {
        "id": "0vTJ5MO15w9_",
        "colab_type": "text"
      },
      "source": [
        "## Join DataFrames"
      ]
    },
    {
      "cell_type": "code",
      "metadata": {
        "id": "u9b_btBTA_JV",
        "colab_type": "code",
        "colab": {}
      },
      "source": [
        "left = df_mpg\n",
        "right = df_kmso"
      ],
      "execution_count": 0,
      "outputs": []
    },
    {
      "cell_type": "code",
      "metadata": {
        "id": "-kbvTWoc5xGX",
        "colab_type": "code",
        "colab": {}
      },
      "source": [
        "df = pd.merge(left, right, on='day')"
      ],
      "execution_count": 0,
      "outputs": []
    },
    {
      "cell_type": "markdown",
      "metadata": {
        "id": "0W8-EteqEZeD",
        "colab_type": "text"
      },
      "source": [
        "# Push to BigQuery"
      ]
    },
    {
      "cell_type": "code",
      "metadata": {
        "id": "qa81crH5E3gN",
        "colab_type": "code",
        "colab": {}
      },
      "source": [
        "table_name = 'mpg_kmso_precip'"
      ],
      "execution_count": 0,
      "outputs": []
    },
    {
      "cell_type": "code",
      "metadata": {
        "id": "FzD8aT0zEWFK",
        "colab_type": "code",
        "outputId": "bc3fbb48-ec73-4b1b-f8df-6ff8e2340271",
        "colab": {
          "base_uri": "https://localhost:8080/",
          "height": 34
        }
      },
      "source": [
        "df.to_gbq('weather_views.' + table_name, 'mpg-data-warehouse')"
      ],
      "execution_count": 0,
      "outputs": [
        {
          "output_type": "stream",
          "text": [
            "1it [00:03,  3.40s/it]\n"
          ],
          "name": "stderr"
        }
      ]
    }
  ]
}