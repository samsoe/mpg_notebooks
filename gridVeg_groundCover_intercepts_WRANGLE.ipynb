{
  "nbformat": 4,
  "nbformat_minor": 0,
  "metadata": {
    "colab": {
      "name": "gridVeg_groundCover_intercepts-WRANGLE.ipynb",
      "provenance": [],
      "collapsed_sections": [],
      "toc_visible": true,
      "include_colab_link": true
    },
    "language_info": {
      "codemirror_mode": "r",
      "file_extension": ".r",
      "mimetype": "text/x-r-source",
      "name": "R",
      "pygments_lexer": "r",
      "version": "3.3.1"
    },
    "kernelspec": {
      "display_name": "R",
      "language": "R",
      "name": "ir"
    }
  },
  "cells": [
    {
      "cell_type": "markdown",
      "metadata": {
        "id": "view-in-github",
        "colab_type": "text"
      },
      "source": [
        "<a href=\"https://colab.research.google.com/github/samsoe/mpg_notebooks/blob/master/gridVeg_groundCover_intercepts_WRANGLE.ipynb\" target=\"_parent\"><img src=\"https://colab.research.google.com/assets/colab-badge.svg\" alt=\"Open In Colab\"/></a>"
      ]
    },
    {
      "cell_type": "markdown",
      "metadata": {
        "id": "BhOI1uU2Koum",
        "colab_type": "text"
      },
      "source": [
        "# Security"
      ]
    },
    {
      "cell_type": "markdown",
      "metadata": {
        "id": "hgB3r3wvA9Pn",
        "colab_type": "text"
      },
      "source": [
        "* The user must load a `json` file containing the BigQuery API key into the local directory `/content/...`\n",
        "* The user must have a Google Maps API key to enable mapping. \n",
        "   * CAUTION make sure the key is deleted from the current instance of the notebook before sharing"
      ]
    },
    {
      "cell_type": "markdown",
      "metadata": {
        "id": "MnG0ah7OA59c",
        "colab_type": "text"
      },
      "source": [
        "# Tools"
      ]
    },
    {
      "cell_type": "code",
      "metadata": {
        "id": "Y6y4EWeYpVBJ",
        "colab_type": "code",
        "colab": {}
      },
      "source": [
        "# Package and library installation\n",
        "packages_needed = c(\"tidyverse\", \"knitr\") # comma delimited vector of package names\n",
        "packages_installed = packages_needed %in% rownames(installed.packages())\n",
        "\n",
        "if (any(! packages_installed))\n",
        "  install.packages(packages_needed[! packages_installed])\n",
        "for (i in 1:length(packages_needed)) {\n",
        "  library(packages_needed[i], character.only = T)\n",
        "}"
      ],
      "execution_count": null,
      "outputs": []
    },
    {
      "cell_type": "markdown",
      "metadata": {
        "id": "eUw-It3JBBrQ",
        "colab_type": "text"
      },
      "source": [
        "* Remember that the file containing authorization keys for Big Query must be loaded into the virutual envrionment manually."
      ]
    },
    {
      "cell_type": "code",
      "metadata": {
        "id": "VxYkYhQTKouo",
        "colab_type": "code",
        "colab": {
          "base_uri": "https://localhost:8080/",
          "height": 68
        },
        "outputId": "38f127fa-d489-407b-b170-d1468020f03b"
      },
      "source": [
        "install.packages(\"bigrquery\")\n",
        "library(bigrquery)"
      ],
      "execution_count": null,
      "outputs": [
        {
          "output_type": "stream",
          "text": [
            "Installing package into ‘/usr/local/lib/R/site-library’\n",
            "(as ‘lib’ is unspecified)\n",
            "\n"
          ],
          "name": "stderr"
        }
      ]
    },
    {
      "cell_type": "markdown",
      "metadata": {
        "id": "H1I9aQ_SBH3n",
        "colab_type": "text"
      },
      "source": [
        "# Source"
      ]
    },
    {
      "cell_type": "markdown",
      "metadata": {
        "id": "Bfb7MHpGBJMO",
        "colab_type": "text"
      },
      "source": [
        "## Database Connection"
      ]
    },
    {
      "cell_type": "code",
      "metadata": {
        "id": "ihI70_BPKouq",
        "colab_type": "code",
        "colab": {}
      },
      "source": [
        "# BigQuery API Key\n",
        "bq_auth(path = \"/content/mpg-data-warehouse-api_key-master.json\")"
      ],
      "execution_count": null,
      "outputs": []
    },
    {
      "cell_type": "code",
      "metadata": {
        "id": "8YxL8wHoBNxV",
        "colab_type": "code",
        "colab": {}
      },
      "source": [
        "Sys.setenv(BIGQUERY_TEST_PROJECT = \"mpg-data-warehouse\")"
      ],
      "execution_count": null,
      "outputs": []
    },
    {
      "cell_type": "code",
      "metadata": {
        "id": "yevfizb5BQXm",
        "colab_type": "code",
        "colab": {}
      },
      "source": [
        "billing <- bq_test_project()"
      ],
      "execution_count": null,
      "outputs": []
    },
    {
      "cell_type": "markdown",
      "metadata": {
        "id": "JN4Z34yRp2-k",
        "colab_type": "text"
      },
      "source": [
        "### vegetation_point_intercept_gridVeg"
      ]
    },
    {
      "cell_type": "code",
      "metadata": {
        "id": "mKsvG7zTBXl3",
        "colab_type": "code",
        "colab": {}
      },
      "source": [
        "con_point_intercept <- dbConnect(\n",
        "  bigrquery::bigquery(),\n",
        "  project = \"mpg-data-warehouse\",\n",
        "  dataset = \"vegetation_point_intercept_gridVeg\",\n",
        "  billing = billing\n",
        ")"
      ],
      "execution_count": null,
      "outputs": []
    },
    {
      "cell_type": "code",
      "metadata": {
        "id": "64HvPjFbBZem",
        "colab_type": "code",
        "colab": {
          "base_uri": "https://localhost:8080/",
          "height": 34
        },
        "outputId": "1000e728-f513-4812-a6a9-dd8e4cf06b26"
      },
      "source": [
        "dbListTables(con_point_intercept)"
      ],
      "execution_count": null,
      "outputs": [
        {
          "output_type": "display_data",
          "data": {
            "text/plain": [
              "[1] \"gridVeg_additional_species\"         \"gridVeg_ground_cover_metadata\"     \n",
              "[3] \"gridVeg_image_metadata\"             \"gridVeg_point_intercept_ground\"    \n",
              "[5] \"gridVeg_point_intercept_vegetation\" \"gridVeg_shrub_tree\"                \n",
              "[7] \"gridVeg_survey_metadata\"           "
            ],
            "text/latex": "\\begin{enumerate*}\n\\item 'gridVeg\\_additional\\_species'\n\\item 'gridVeg\\_ground\\_cover\\_metadata'\n\\item 'gridVeg\\_image\\_metadata'\n\\item 'gridVeg\\_point\\_intercept\\_ground'\n\\item 'gridVeg\\_point\\_intercept\\_vegetation'\n\\item 'gridVeg\\_shrub\\_tree'\n\\item 'gridVeg\\_survey\\_metadata'\n\\end{enumerate*}\n",
            "text/markdown": "1. 'gridVeg_additional_species'\n2. 'gridVeg_ground_cover_metadata'\n3. 'gridVeg_image_metadata'\n4. 'gridVeg_point_intercept_ground'\n5. 'gridVeg_point_intercept_vegetation'\n6. 'gridVeg_shrub_tree'\n7. 'gridVeg_survey_metadata'\n\n\n",
            "text/html": [
              "<style>\n",
              ".list-inline {list-style: none; margin:0; padding: 0}\n",
              ".list-inline>li {display: inline-block}\n",
              ".list-inline>li:not(:last-child)::after {content: \"\\00b7\"; padding: 0 .5ex}\n",
              "</style>\n",
              "<ol class=list-inline><li>'gridVeg_additional_species'</li><li>'gridVeg_ground_cover_metadata'</li><li>'gridVeg_image_metadata'</li><li>'gridVeg_point_intercept_ground'</li><li>'gridVeg_point_intercept_vegetation'</li><li>'gridVeg_shrub_tree'</li><li>'gridVeg_survey_metadata'</li></ol>\n"
            ]
          },
          "metadata": {
            "tags": []
          }
        }
      ]
    },
    {
      "cell_type": "code",
      "metadata": {
        "id": "26UqASAoB2p0",
        "colab_type": "code",
        "colab": {
          "base_uri": "https://localhost:8080/",
          "height": 119
        },
        "outputId": "966d3ba5-2f36-4f06-ab20-e6a88bb34479"
      },
      "source": [
        "ground_point_intercept_sql <- \n",
        "\"\n",
        "  SELECT\n",
        "    survey_ID,\n",
        "    grid_point,\n",
        "    intercept_ground_code,\n",
        "    COUNT(intercept_ground_code) / 2 AS intercepts_pct\n",
        "  FROM \n",
        "    `mpg-data-warehouse.vegetation_point_intercept_gridVeg.gridVeg_point_intercept_ground`\n",
        "  GROUP BY\n",
        "    survey_ID, grid_point, intercept_ground_code\n",
        "\"\n",
        "bq_ground_point_intercept <- bq_project_query(billing, ground_point_intercept_sql)\n",
        "tb_ground_point_intercept <- bq_table_download(bq_ground_point_intercept)\n",
        "# Drop NA rows. These only occur in intercept_ground_code, are always associated with \n",
        "# zero values in intercepts_pct, and will be expanded to true values later using complete()\n",
        "df_ground_point_intercept <- as.data.frame(tb_ground_point_intercept) %>% drop_na() %>% glimpse()"
      ],
      "execution_count": null,
      "outputs": [
        {
          "output_type": "stream",
          "text": [
            "Rows: 8,599\n",
            "Columns: 4\n",
            "$ survey_ID             \u001b[3m\u001b[90m<chr>\u001b[39m\u001b[23m \"69\", \"234\", \"236\", \"237\", \"238\", \"239\", \"249\",…\n",
            "$ grid_point            \u001b[3m\u001b[90m<int>\u001b[39m\u001b[23m 329, 48, 295, 209, 61, 68, 67, 40, 41, 208, 145…\n",
            "$ intercept_ground_code \u001b[3m\u001b[90m<chr>\u001b[39m\u001b[23m \"G\", \"G\", \"G\", \"G\", \"G\", \"G\", \"G\", \"G\", \"G\", \"G…\n",
            "$ intercepts_pct        \u001b[3m\u001b[90m<dbl>\u001b[39m\u001b[23m 2.0, 16.5, 17.5, 6.0, 16.0, 1.5, 4.0, 3.5, 1.0,…\n"
          ],
          "name": "stdout"
        }
      ]
    },
    {
      "cell_type": "markdown",
      "metadata": {
        "id": "EaBs_FPytWWS",
        "colab_type": "text"
      },
      "source": [
        "### gridVeg_survey_metadata"
      ]
    },
    {
      "cell_type": "code",
      "metadata": {
        "id": "pE0V7V6stegC",
        "colab_type": "code",
        "colab": {
          "base_uri": "https://localhost:8080/",
          "height": 102
        },
        "outputId": "c6410f60-86a5-4f66-b5f7-6f5758ea749f"
      },
      "source": [
        "survey_metadata_sql <-\n",
        "\"\n",
        "  SELECT\n",
        "    survey_ID,\n",
        "    year,\n",
        "    survey_sequence\n",
        "  FROM\n",
        "    `mpg-data-warehouse.vegetation_point_intercept_gridVeg.gridVeg_survey_metadata`\n",
        "\"\n",
        "bq_survey_metadata <- bq_project_query(billing, survey_metadata_sql)\n",
        "tb_survey_metadata <- bq_table_download(bq_survey_metadata)\n",
        "df_survey_metadata <- as.data.frame(tb_survey_metadata) %>% glimpse()"
      ],
      "execution_count": null,
      "outputs": [
        {
          "output_type": "stream",
          "text": [
            "Rows: 1,472\n",
            "Columns: 3\n",
            "$ survey_ID       \u001b[3m\u001b[90m<chr>\u001b[39m\u001b[23m \"F31C56A8-912D-410C-A17D-4C2DD75F71A4\", \"A19E87E6-A89…\n",
            "$ year            \u001b[3m\u001b[90m<int>\u001b[39m\u001b[23m 2016, 2016, 2016, 2016, 2016, 2016, 2016, 2016, 2016,…\n",
            "$ survey_sequence \u001b[3m\u001b[90m<chr>\u001b[39m\u001b[23m \"2016\", \"2016\", \"2016\", \"2016\", \"2016\", \"2016\", \"2016…\n"
          ],
          "name": "stdout"
        }
      ]
    },
    {
      "cell_type": "markdown",
      "metadata": {
        "id": "uy5N7olev4SO",
        "colab_type": "text"
      },
      "source": [
        "### ground_cover_metadata"
      ]
    },
    {
      "cell_type": "code",
      "metadata": {
        "id": "eaXFui3Hv7OI",
        "colab_type": "code",
        "colab": {
          "base_uri": "https://localhost:8080/",
          "height": 85
        },
        "outputId": "ce3bdec9-1b6d-473d-891c-054ad575f996"
      },
      "source": [
        "sql_ground_meta <- \n",
        "\"\n",
        "SELECT\n",
        "  intercept_ground_code,\n",
        "  ground_group\n",
        "FROM\n",
        "  `mpg-data-warehouse.vegetation_point_intercept_gridVeg.gridVeg_ground_cover_metadata`\n",
        "\"\n",
        "bq_ground_meta <- bq_project_query(billing, sql_ground_meta)\n",
        "tb_ground_meta <- bq_table_download(bq_ground_meta)\n",
        "df_ground_meta <- as.data.frame(tb_ground_meta) %>% arrange(intercept_ground_code) %>% glimpse()"
      ],
      "execution_count": null,
      "outputs": [
        {
          "output_type": "stream",
          "text": [
            "Rows: 18\n",
            "Columns: 2\n",
            "$ intercept_ground_code \u001b[3m\u001b[90m<chr>\u001b[39m\u001b[23m \"BG\", \"BV\", \"G\", \"L\", \"LIC\", \"M\", \"M/L\", \"OTHER…\n",
            "$ ground_group          \u001b[3m\u001b[90m<chr>\u001b[39m\u001b[23m \"inorganic\", \"vas_plant\", \"inorganic\", \"litter\"…\n"
          ],
          "name": "stdout"
        }
      ]
    },
    {
      "cell_type": "markdown",
      "metadata": {
        "id": "e0mtSVpAtWME",
        "colab_type": "text"
      },
      "source": [
        "# Wrangle"
      ]
    },
    {
      "cell_type": "code",
      "metadata": {
        "id": "M87ef8Ni0vHx",
        "colab_type": "code",
        "colab": {
          "base_uri": "https://localhost:8080/",
          "height": 456
        },
        "outputId": "e34ac5a9-b821-4162-d227-fb8b7627d7a2"
      },
      "source": [
        "# show unique intercept ground codes\n",
        "df_ground_point_intercept %>%\n",
        "  distinct(intercept_ground_code) %>% \n",
        "  arrange(intercept_ground_code)"
      ],
      "execution_count": null,
      "outputs": [
        {
          "output_type": "display_data",
          "data": {
            "text/plain": [
              "   intercept_ground_code\n",
              "1  BG                   \n",
              "2  BV                   \n",
              "3  G                    \n",
              "4  L                    \n",
              "5  LIC                  \n",
              "6  M                    \n",
              "7  M/L                  \n",
              "8  OTHER                \n",
              "9  R                    \n",
              "10 SC                   \n",
              "11 SD                   \n",
              "12 SE                   \n",
              "13 SH                   \n",
              "14 SU                   \n",
              "15 WDL                  \n",
              "16 WDS                  \n",
              "17 WDSTUMP              \n",
              "18 WDT                  "
            ],
            "text/latex": "A data.frame: 18 × 1\n\\begin{tabular}{l}\n intercept\\_ground\\_code\\\\\n <chr>\\\\\n\\hline\n\t BG     \\\\\n\t BV     \\\\\n\t G      \\\\\n\t L      \\\\\n\t LIC    \\\\\n\t M      \\\\\n\t M/L    \\\\\n\t OTHER  \\\\\n\t R      \\\\\n\t SC     \\\\\n\t SD     \\\\\n\t SE     \\\\\n\t SH     \\\\\n\t SU     \\\\\n\t WDL    \\\\\n\t WDS    \\\\\n\t WDSTUMP\\\\\n\t WDT    \\\\\n\\end{tabular}\n",
            "text/markdown": "\nA data.frame: 18 × 1\n\n| intercept_ground_code &lt;chr&gt; |\n|---|\n| BG      |\n| BV      |\n| G       |\n| L       |\n| LIC     |\n| M       |\n| M/L     |\n| OTHER   |\n| R       |\n| SC      |\n| SD      |\n| SE      |\n| SH      |\n| SU      |\n| WDL     |\n| WDS     |\n| WDSTUMP |\n| WDT     |\n\n",
            "text/html": [
              "<table>\n",
              "<caption>A data.frame: 18 × 1</caption>\n",
              "<thead>\n",
              "\t<tr><th scope=col>intercept_ground_code</th></tr>\n",
              "\t<tr><th scope=col>&lt;chr&gt;</th></tr>\n",
              "</thead>\n",
              "<tbody>\n",
              "\t<tr><td>BG     </td></tr>\n",
              "\t<tr><td>BV     </td></tr>\n",
              "\t<tr><td>G      </td></tr>\n",
              "\t<tr><td>L      </td></tr>\n",
              "\t<tr><td>LIC    </td></tr>\n",
              "\t<tr><td>M      </td></tr>\n",
              "\t<tr><td>M/L    </td></tr>\n",
              "\t<tr><td>OTHER  </td></tr>\n",
              "\t<tr><td>R      </td></tr>\n",
              "\t<tr><td>SC     </td></tr>\n",
              "\t<tr><td>SD     </td></tr>\n",
              "\t<tr><td>SE     </td></tr>\n",
              "\t<tr><td>SH     </td></tr>\n",
              "\t<tr><td>SU     </td></tr>\n",
              "\t<tr><td>WDL    </td></tr>\n",
              "\t<tr><td>WDS    </td></tr>\n",
              "\t<tr><td>WDSTUMP</td></tr>\n",
              "\t<tr><td>WDT    </td></tr>\n",
              "</tbody>\n",
              "</table>\n"
            ]
          },
          "metadata": {
            "tags": []
          }
        }
      ]
    },
    {
      "cell_type": "markdown",
      "metadata": {
        "id": "Eus6GpnJ-Dje",
        "colab_type": "text"
      },
      "source": [
        "## Complete intercept_ground_code\n",
        "- Complete the data frame for `intercept_ground_code` and fill null cells with 0\n",
        "- As of 2020-08-24: with 18 ground cover codes and 1244 survey IDs, we should end up with 22,392 rows after completeing the data frame\n",
        "- We should also end up with 1244 distinct combinations of survey_ID and grid_point"
      ]
    },
    {
      "cell_type": "code",
      "metadata": {
        "id": "9Yjq4_JgWqor",
        "colab_type": "code",
        "colab": {
          "base_uri": "https://localhost:8080/",
          "height": 235
        },
        "outputId": "7ab653fe-4e1f-42a4-fca1-f7654a21df2e"
      },
      "source": [
        "df_ground_point_intercept_fill <- \n",
        "  df_ground_point_intercept %>%\n",
        "  complete(intercept_ground_code, nesting(survey_ID, grid_point), fill= list(intercepts_pct = 0)) %>%\n",
        "  glimpse()\n",
        "\n",
        "df_ground_point_intercept_fill %>% \n",
        "  distinct(survey_ID, grid_point) %>% \n",
        "  count()"
      ],
      "execution_count": null,
      "outputs": [
        {
          "output_type": "stream",
          "text": [
            "Rows: 22,392\n",
            "Columns: 4\n",
            "$ intercept_ground_code \u001b[3m\u001b[90m<chr>\u001b[39m\u001b[23m \"BG\", \"BG\", \"BG\", \"BG\", \"BG\", \"BG\", \"BG\", \"BG\",…\n",
            "$ survey_ID             \u001b[3m\u001b[90m<chr>\u001b[39m\u001b[23m \"012C5FAD-2451-41B0-9E2F-432D1ECEB55C\", \"013380…\n",
            "$ grid_point            \u001b[3m\u001b[90m<int>\u001b[39m\u001b[23m 285, 505, 401, 23, 323, 511, 402, 196, 226, 564…\n",
            "$ intercepts_pct        \u001b[3m\u001b[90m<dbl>\u001b[39m\u001b[23m 15.5, 14.5, 16.5, 16.5, 0.0, 0.0, 19.5, 37.0, 3…\n"
          ],
          "name": "stdout"
        },
        {
          "output_type": "display_data",
          "data": {
            "text/plain": [
              "  n   \n",
              "1 1244"
            ],
            "text/latex": "A tibble: 1 × 1\n\\begin{tabular}{l}\n n\\\\\n <int>\\\\\n\\hline\n\t 1244\\\\\n\\end{tabular}\n",
            "text/markdown": "\nA tibble: 1 × 1\n\n| n &lt;int&gt; |\n|---|\n| 1244 |\n\n",
            "text/html": [
              "<table>\n",
              "<caption>A tibble: 1 × 1</caption>\n",
              "<thead>\n",
              "\t<tr><th scope=col>n</th></tr>\n",
              "\t<tr><th scope=col>&lt;int&gt;</th></tr>\n",
              "</thead>\n",
              "<tbody>\n",
              "\t<tr><td>1244</td></tr>\n",
              "</tbody>\n",
              "</table>\n"
            ]
          },
          "metadata": {
            "tags": []
          }
        }
      ]
    },
    {
      "cell_type": "markdown",
      "metadata": {
        "id": "AZkD9TtM-IPm",
        "colab_type": "text"
      },
      "source": [
        "## Join datasets"
      ]
    },
    {
      "cell_type": "code",
      "metadata": {
        "id": "OvH4Li_9rr2M",
        "colab_type": "code",
        "colab": {
          "base_uri": "https://localhost:8080/",
          "height": 170
        },
        "outputId": "db425650-e2b1-4802-cd92-de84f7c4406e"
      },
      "source": [
        "df_gridVeg_groundCover_intercepts <- \n",
        "  df_ground_point_intercept_fill %>%\n",
        "  left_join(df_survey_metadata, by = \"survey_ID\") %>% \n",
        "  left_join(df_ground_meta, by = \"intercept_ground_code\") %>% \n",
        "  select(survey_ID, year, survey_sequence, grid_point, intercept_ground_code, ground_group, intercepts_pct) %>% \n",
        "  glimpse()"
      ],
      "execution_count": null,
      "outputs": [
        {
          "output_type": "stream",
          "text": [
            "Rows: 22,392\n",
            "Columns: 7\n",
            "$ survey_ID             \u001b[3m\u001b[90m<chr>\u001b[39m\u001b[23m \"012C5FAD-2451-41B0-9E2F-432D1ECEB55C\", \"013380…\n",
            "$ year                  \u001b[3m\u001b[90m<int>\u001b[39m\u001b[23m 2016, 2016, 2017, 2016, 2015, 2016, 2015, 2016,…\n",
            "$ survey_sequence       \u001b[3m\u001b[90m<chr>\u001b[39m\u001b[23m \"2016\", \"2016\", \"2017\", \"2016\", \"2015\", \"2016\",…\n",
            "$ grid_point            \u001b[3m\u001b[90m<int>\u001b[39m\u001b[23m 285, 505, 401, 23, 323, 511, 402, 196, 226, 564…\n",
            "$ intercept_ground_code \u001b[3m\u001b[90m<chr>\u001b[39m\u001b[23m \"BG\", \"BG\", \"BG\", \"BG\", \"BG\", \"BG\", \"BG\", \"BG\",…\n",
            "$ ground_group          \u001b[3m\u001b[90m<chr>\u001b[39m\u001b[23m \"inorganic\", \"inorganic\", \"inorganic\", \"inorgan…\n",
            "$ intercepts_pct        \u001b[3m\u001b[90m<dbl>\u001b[39m\u001b[23m 15.5, 14.5, 16.5, 16.5, 0.0, 0.0, 19.5, 37.0, 3…\n"
          ],
          "name": "stdout"
        }
      ]
    },
    {
      "cell_type": "markdown",
      "metadata": {
        "id": "2vBmVFNmXc11",
        "colab_type": "text"
      },
      "source": [
        "## QC\n",
        "* No rows contain missing data, and this makes sense since `complete()` was used to fill response variables.\n",
        "* Numeric variables appear correct in the summary"
      ]
    },
    {
      "cell_type": "code",
      "metadata": {
        "id": "pY1ZWbr1XQgQ",
        "colab_type": "code",
        "colab": {
          "base_uri": "https://localhost:8080/",
          "height": 78
        },
        "outputId": "e2e63fc9-0f49-45e1-faba-04177031ab5a"
      },
      "source": [
        "df_gridVeg_groundCover_intercepts[which(!complete.cases(df_gridVeg_groundCover_intercepts)), ]"
      ],
      "execution_count": null,
      "outputs": [
        {
          "output_type": "display_data",
          "data": {
            "text/plain": [
              "     survey_ID year survey_sequence grid_point intercept_ground_code\n",
              "     ground_group intercepts_pct"
            ],
            "text/latex": "A tibble: 0 × 7\n\\begin{tabular}{lllllll}\n survey\\_ID & year & survey\\_sequence & grid\\_point & intercept\\_ground\\_code & ground\\_group & intercepts\\_pct\\\\\n <chr> & <int> & <chr> & <int> & <chr> & <chr> & <dbl>\\\\\n\\hline\n\\end{tabular}\n",
            "text/markdown": "\nA tibble: 0 × 7\n\n| survey_ID &lt;chr&gt; | year &lt;int&gt; | survey_sequence &lt;chr&gt; | grid_point &lt;int&gt; | intercept_ground_code &lt;chr&gt; | ground_group &lt;chr&gt; | intercepts_pct &lt;dbl&gt; |\n|---|---|---|---|---|---|---|\n\n",
            "text/html": [
              "<table>\n",
              "<caption>A tibble: 0 × 7</caption>\n",
              "<thead>\n",
              "\t<tr><th scope=col>survey_ID</th><th scope=col>year</th><th scope=col>survey_sequence</th><th scope=col>grid_point</th><th scope=col>intercept_ground_code</th><th scope=col>ground_group</th><th scope=col>intercepts_pct</th></tr>\n",
              "\t<tr><th scope=col>&lt;chr&gt;</th><th scope=col>&lt;int&gt;</th><th scope=col>&lt;chr&gt;</th><th scope=col>&lt;int&gt;</th><th scope=col>&lt;chr&gt;</th><th scope=col>&lt;chr&gt;</th><th scope=col>&lt;dbl&gt;</th></tr>\n",
              "</thead>\n",
              "<tbody>\n",
              "</tbody>\n",
              "</table>\n"
            ]
          },
          "metadata": {
            "tags": []
          }
        }
      ]
    },
    {
      "cell_type": "code",
      "metadata": {
        "id": "h9cF-aNXXmnQ",
        "colab_type": "code",
        "colab": {
          "base_uri": "https://localhost:8080/",
          "height": 255
        },
        "outputId": "9d2abfb8-c8cf-4cb8-b42f-86bc21750288"
      },
      "source": [
        "summary(df_gridVeg_groundCover_intercepts)"
      ],
      "execution_count": null,
      "outputs": [
        {
          "output_type": "display_data",
          "data": {
            "text/plain": [
              "  survey_ID              year      survey_sequence      grid_point   \n",
              " Length:22392       Min.   :2011   Length:22392       Min.   :  1.0  \n",
              " Class :character   1st Qu.:2011   Class :character   1st Qu.:136.8  \n",
              " Mode  :character   Median :2015   Mode  :character   Median :290.0  \n",
              "                    Mean   :2014                      Mean   :286.3  \n",
              "                    3rd Qu.:2016                      3rd Qu.:431.0  \n",
              "                    Max.   :2017                      Max.   :583.0  \n",
              " intercept_ground_code ground_group       intercepts_pct  \n",
              " Length:22392          Length:22392       Min.   : 0.000  \n",
              " Class :character      Class :character   1st Qu.: 0.000  \n",
              " Mode  :character      Mode  :character   Median : 0.000  \n",
              "                                          Mean   : 5.545  \n",
              "                                          3rd Qu.: 2.000  \n",
              "                                          Max.   :99.500  "
            ]
          },
          "metadata": {
            "tags": []
          }
        }
      ]
    },
    {
      "cell_type": "code",
      "metadata": {
        "id": "in9gvrrLYvC-",
        "colab_type": "code",
        "colab": {
          "base_uri": "https://localhost:8080/",
          "height": 456
        },
        "outputId": "09097db2-8c81-4896-bce8-f0771842719f"
      },
      "source": [
        "df_gridVeg_groundCover_intercepts %>% filter(survey_ID == 234)"
      ],
      "execution_count": null,
      "outputs": [
        {
          "output_type": "display_data",
          "data": {
            "text/plain": [
              "   survey_ID year survey_sequence grid_point intercept_ground_code ground_group\n",
              "1  234       2011 2011-12         48         BG                    inorganic   \n",
              "2  234       2011 2011-12         48         BV                    vas_plant   \n",
              "3  234       2011 2011-12         48         G                     inorganic   \n",
              "4  234       2011 2011-12         48         L                     litter      \n",
              "5  234       2011 2011-12         48         LIC                   lichen      \n",
              "6  234       2011 2011-12         48         M                     nonvas_plant\n",
              "7  234       2011 2011-12         48         M/L                   nonvas_plant\n",
              "8  234       2011 2011-12         48         OTHER                 inorganic   \n",
              "9  234       2011 2011-12         48         R                     inorganic   \n",
              "10 234       2011 2011-12         48         SC                    dung        \n",
              "11 234       2011 2011-12         48         SD                    dung        \n",
              "12 234       2011 2011-12         48         SE                    dung        \n",
              "13 234       2011 2011-12         48         SH                    dung        \n",
              "14 234       2011 2011-12         48         SU                    dung        \n",
              "15 234       2011 2011-12         48         WDL                   woody       \n",
              "16 234       2011 2011-12         48         WDS                   woody       \n",
              "17 234       2011 2011-12         48         WDSTUMP               woody       \n",
              "18 234       2011 2011-12         48         WDT                   woody       \n",
              "   intercepts_pct\n",
              "1   6.5          \n",
              "2  19.5          \n",
              "3  16.5          \n",
              "4  41.5          \n",
              "5   0.0          \n",
              "6   0.0          \n",
              "7  12.0          \n",
              "8   0.0          \n",
              "9   3.0          \n",
              "10  0.5          \n",
              "11  0.0          \n",
              "12  0.5          \n",
              "13  0.0          \n",
              "14  0.0          \n",
              "15  0.0          \n",
              "16  0.0          \n",
              "17  0.0          \n",
              "18  0.0          "
            ],
            "text/latex": "A tibble: 18 × 7\n\\begin{tabular}{lllllll}\n survey\\_ID & year & survey\\_sequence & grid\\_point & intercept\\_ground\\_code & ground\\_group & intercepts\\_pct\\\\\n <chr> & <int> & <chr> & <int> & <chr> & <chr> & <dbl>\\\\\n\\hline\n\t 234 & 2011 & 2011-12 & 48 & BG      & inorganic    &  6.5\\\\\n\t 234 & 2011 & 2011-12 & 48 & BV      & vas\\_plant    & 19.5\\\\\n\t 234 & 2011 & 2011-12 & 48 & G       & inorganic    & 16.5\\\\\n\t 234 & 2011 & 2011-12 & 48 & L       & litter       & 41.5\\\\\n\t 234 & 2011 & 2011-12 & 48 & LIC     & lichen       &  0.0\\\\\n\t 234 & 2011 & 2011-12 & 48 & M       & nonvas\\_plant &  0.0\\\\\n\t 234 & 2011 & 2011-12 & 48 & M/L     & nonvas\\_plant & 12.0\\\\\n\t 234 & 2011 & 2011-12 & 48 & OTHER   & inorganic    &  0.0\\\\\n\t 234 & 2011 & 2011-12 & 48 & R       & inorganic    &  3.0\\\\\n\t 234 & 2011 & 2011-12 & 48 & SC      & dung         &  0.5\\\\\n\t 234 & 2011 & 2011-12 & 48 & SD      & dung         &  0.0\\\\\n\t 234 & 2011 & 2011-12 & 48 & SE      & dung         &  0.5\\\\\n\t 234 & 2011 & 2011-12 & 48 & SH      & dung         &  0.0\\\\\n\t 234 & 2011 & 2011-12 & 48 & SU      & dung         &  0.0\\\\\n\t 234 & 2011 & 2011-12 & 48 & WDL     & woody        &  0.0\\\\\n\t 234 & 2011 & 2011-12 & 48 & WDS     & woody        &  0.0\\\\\n\t 234 & 2011 & 2011-12 & 48 & WDSTUMP & woody        &  0.0\\\\\n\t 234 & 2011 & 2011-12 & 48 & WDT     & woody        &  0.0\\\\\n\\end{tabular}\n",
            "text/markdown": "\nA tibble: 18 × 7\n\n| survey_ID &lt;chr&gt; | year &lt;int&gt; | survey_sequence &lt;chr&gt; | grid_point &lt;int&gt; | intercept_ground_code &lt;chr&gt; | ground_group &lt;chr&gt; | intercepts_pct &lt;dbl&gt; |\n|---|---|---|---|---|---|---|\n| 234 | 2011 | 2011-12 | 48 | BG      | inorganic    |  6.5 |\n| 234 | 2011 | 2011-12 | 48 | BV      | vas_plant    | 19.5 |\n| 234 | 2011 | 2011-12 | 48 | G       | inorganic    | 16.5 |\n| 234 | 2011 | 2011-12 | 48 | L       | litter       | 41.5 |\n| 234 | 2011 | 2011-12 | 48 | LIC     | lichen       |  0.0 |\n| 234 | 2011 | 2011-12 | 48 | M       | nonvas_plant |  0.0 |\n| 234 | 2011 | 2011-12 | 48 | M/L     | nonvas_plant | 12.0 |\n| 234 | 2011 | 2011-12 | 48 | OTHER   | inorganic    |  0.0 |\n| 234 | 2011 | 2011-12 | 48 | R       | inorganic    |  3.0 |\n| 234 | 2011 | 2011-12 | 48 | SC      | dung         |  0.5 |\n| 234 | 2011 | 2011-12 | 48 | SD      | dung         |  0.0 |\n| 234 | 2011 | 2011-12 | 48 | SE      | dung         |  0.5 |\n| 234 | 2011 | 2011-12 | 48 | SH      | dung         |  0.0 |\n| 234 | 2011 | 2011-12 | 48 | SU      | dung         |  0.0 |\n| 234 | 2011 | 2011-12 | 48 | WDL     | woody        |  0.0 |\n| 234 | 2011 | 2011-12 | 48 | WDS     | woody        |  0.0 |\n| 234 | 2011 | 2011-12 | 48 | WDSTUMP | woody        |  0.0 |\n| 234 | 2011 | 2011-12 | 48 | WDT     | woody        |  0.0 |\n\n",
            "text/html": [
              "<table>\n",
              "<caption>A tibble: 18 × 7</caption>\n",
              "<thead>\n",
              "\t<tr><th scope=col>survey_ID</th><th scope=col>year</th><th scope=col>survey_sequence</th><th scope=col>grid_point</th><th scope=col>intercept_ground_code</th><th scope=col>ground_group</th><th scope=col>intercepts_pct</th></tr>\n",
              "\t<tr><th scope=col>&lt;chr&gt;</th><th scope=col>&lt;int&gt;</th><th scope=col>&lt;chr&gt;</th><th scope=col>&lt;int&gt;</th><th scope=col>&lt;chr&gt;</th><th scope=col>&lt;chr&gt;</th><th scope=col>&lt;dbl&gt;</th></tr>\n",
              "</thead>\n",
              "<tbody>\n",
              "\t<tr><td>234</td><td>2011</td><td>2011-12</td><td>48</td><td>BG     </td><td>inorganic   </td><td> 6.5</td></tr>\n",
              "\t<tr><td>234</td><td>2011</td><td>2011-12</td><td>48</td><td>BV     </td><td>vas_plant   </td><td>19.5</td></tr>\n",
              "\t<tr><td>234</td><td>2011</td><td>2011-12</td><td>48</td><td>G      </td><td>inorganic   </td><td>16.5</td></tr>\n",
              "\t<tr><td>234</td><td>2011</td><td>2011-12</td><td>48</td><td>L      </td><td>litter      </td><td>41.5</td></tr>\n",
              "\t<tr><td>234</td><td>2011</td><td>2011-12</td><td>48</td><td>LIC    </td><td>lichen      </td><td> 0.0</td></tr>\n",
              "\t<tr><td>234</td><td>2011</td><td>2011-12</td><td>48</td><td>M      </td><td>nonvas_plant</td><td> 0.0</td></tr>\n",
              "\t<tr><td>234</td><td>2011</td><td>2011-12</td><td>48</td><td>M/L    </td><td>nonvas_plant</td><td>12.0</td></tr>\n",
              "\t<tr><td>234</td><td>2011</td><td>2011-12</td><td>48</td><td>OTHER  </td><td>inorganic   </td><td> 0.0</td></tr>\n",
              "\t<tr><td>234</td><td>2011</td><td>2011-12</td><td>48</td><td>R      </td><td>inorganic   </td><td> 3.0</td></tr>\n",
              "\t<tr><td>234</td><td>2011</td><td>2011-12</td><td>48</td><td>SC     </td><td>dung        </td><td> 0.5</td></tr>\n",
              "\t<tr><td>234</td><td>2011</td><td>2011-12</td><td>48</td><td>SD     </td><td>dung        </td><td> 0.0</td></tr>\n",
              "\t<tr><td>234</td><td>2011</td><td>2011-12</td><td>48</td><td>SE     </td><td>dung        </td><td> 0.5</td></tr>\n",
              "\t<tr><td>234</td><td>2011</td><td>2011-12</td><td>48</td><td>SH     </td><td>dung        </td><td> 0.0</td></tr>\n",
              "\t<tr><td>234</td><td>2011</td><td>2011-12</td><td>48</td><td>SU     </td><td>dung        </td><td> 0.0</td></tr>\n",
              "\t<tr><td>234</td><td>2011</td><td>2011-12</td><td>48</td><td>WDL    </td><td>woody       </td><td> 0.0</td></tr>\n",
              "\t<tr><td>234</td><td>2011</td><td>2011-12</td><td>48</td><td>WDS    </td><td>woody       </td><td> 0.0</td></tr>\n",
              "\t<tr><td>234</td><td>2011</td><td>2011-12</td><td>48</td><td>WDSTUMP</td><td>woody       </td><td> 0.0</td></tr>\n",
              "\t<tr><td>234</td><td>2011</td><td>2011-12</td><td>48</td><td>WDT    </td><td>woody       </td><td> 0.0</td></tr>\n",
              "</tbody>\n",
              "</table>\n"
            ]
          },
          "metadata": {
            "tags": []
          }
        }
      ]
    },
    {
      "cell_type": "markdown",
      "metadata": {
        "id": "w_7j_Z6uA5R-",
        "colab_type": "text"
      },
      "source": [
        "# Output"
      ]
    },
    {
      "cell_type": "code",
      "metadata": {
        "id": "QCohybyBAx6w",
        "colab_type": "code",
        "colab": {}
      },
      "source": [
        "write_csv(df_gridVeg_groundCover_intercepts, path = \"gridVeg_groundCover_intercepts_WRANGLE.csv\")"
      ],
      "execution_count": null,
      "outputs": []
    }
  ]
}