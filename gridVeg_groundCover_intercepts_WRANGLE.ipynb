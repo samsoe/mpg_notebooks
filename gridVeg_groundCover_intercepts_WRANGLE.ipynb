{
  "nbformat": 4,
  "nbformat_minor": 0,
  "metadata": {
    "colab": {
      "name": "gridVeg_groundCover_intercepts-WRANGLE.ipynb",
      "provenance": [],
      "collapsed_sections": [],
      "toc_visible": true,
      "include_colab_link": true
    },
    "language_info": {
      "codemirror_mode": "r",
      "file_extension": ".r",
      "mimetype": "text/x-r-source",
      "name": "R",
      "pygments_lexer": "r",
      "version": "3.3.1"
    },
    "kernelspec": {
      "display_name": "R",
      "language": "R",
      "name": "ir"
    }
  },
  "cells": [
    {
      "cell_type": "markdown",
      "metadata": {
        "id": "view-in-github",
        "colab_type": "text"
      },
      "source": [
        "<a href=\"https://colab.research.google.com/github/samsoe/mpg_notebooks/blob/master/gridVeg_groundCover_intercepts_WRANGLE.ipynb\" target=\"_parent\"><img src=\"https://colab.research.google.com/assets/colab-badge.svg\" alt=\"Open In Colab\"/></a>"
      ]
    },
    {
      "cell_type": "markdown",
      "metadata": {
        "id": "BhOI1uU2Koum",
        "colab_type": "text"
      },
      "source": [
        "# Security"
      ]
    },
    {
      "cell_type": "markdown",
      "metadata": {
        "id": "hgB3r3wvA9Pn",
        "colab_type": "text"
      },
      "source": [
        "* The user must load a `json` file containing the BigQuery API key into the local directory `/content/...`\n",
        "* The user must have a Google Maps API key to enable mapping. \n",
        "   * CAUTION make sure the key is deleted from the current instance of the notebook before sharing"
      ]
    },
    {
      "cell_type": "markdown",
      "metadata": {
        "id": "MnG0ah7OA59c",
        "colab_type": "text"
      },
      "source": [
        "# Tools"
      ]
    },
    {
      "cell_type": "code",
      "metadata": {
        "id": "Y6y4EWeYpVBJ",
        "colab_type": "code",
        "colab": {
          "base_uri": "https://localhost:8080/",
          "height": 204
        },
        "outputId": "bf43409f-cfb4-4b39-9c77-e62db7452c21"
      },
      "source": [
        "library(tidyverse)"
      ],
      "execution_count": 1,
      "outputs": [
        {
          "output_type": "stream",
          "text": [
            "── \u001b[1mAttaching packages\u001b[22m ─────────────────────────────────────── tidyverse 1.3.0 ──\n",
            "\n",
            "\u001b[32m✔\u001b[39m \u001b[34mggplot2\u001b[39m 3.3.2     \u001b[32m✔\u001b[39m \u001b[34mpurrr  \u001b[39m 0.3.4\n",
            "\u001b[32m✔\u001b[39m \u001b[34mtibble \u001b[39m 3.0.3     \u001b[32m✔\u001b[39m \u001b[34mdplyr  \u001b[39m 1.0.0\n",
            "\u001b[32m✔\u001b[39m \u001b[34mtidyr  \u001b[39m 1.1.0     \u001b[32m✔\u001b[39m \u001b[34mstringr\u001b[39m 1.4.0\n",
            "\u001b[32m✔\u001b[39m \u001b[34mreadr  \u001b[39m 1.3.1     \u001b[32m✔\u001b[39m \u001b[34mforcats\u001b[39m 0.5.0\n",
            "\n",
            "── \u001b[1mConflicts\u001b[22m ────────────────────────────────────────── tidyverse_conflicts() ──\n",
            "\u001b[31m✖\u001b[39m \u001b[34mdplyr\u001b[39m::\u001b[32mfilter()\u001b[39m masks \u001b[34mstats\u001b[39m::filter()\n",
            "\u001b[31m✖\u001b[39m \u001b[34mdplyr\u001b[39m::\u001b[32mlag()\u001b[39m    masks \u001b[34mstats\u001b[39m::lag()\n",
            "\n"
          ],
          "name": "stderr"
        }
      ]
    },
    {
      "cell_type": "markdown",
      "metadata": {
        "id": "eUw-It3JBBrQ",
        "colab_type": "text"
      },
      "source": [
        "* Remember that the file containing authorization keys for Big Query must be loaded into the virutual envrionment manually."
      ]
    },
    {
      "cell_type": "code",
      "metadata": {
        "id": "VxYkYhQTKouo",
        "colab_type": "code",
        "colab": {
          "base_uri": "https://localhost:8080/",
          "height": 119
        },
        "outputId": "85dab5f0-9bc1-4b76-a0bf-d45f6cd0d25e"
      },
      "source": [
        "install.packages(\"bigrquery\")\n",
        "library(bigrquery)"
      ],
      "execution_count": 2,
      "outputs": [
        {
          "output_type": "stream",
          "text": [
            "Installing package into ‘/usr/local/lib/R/site-library’\n",
            "(as ‘lib’ is unspecified)\n",
            "\n",
            "also installing the dependencies ‘bit’, ‘bit64’, ‘gargle’, ‘rapidjsonr’\n",
            "\n",
            "\n"
          ],
          "name": "stderr"
        }
      ]
    },
    {
      "cell_type": "markdown",
      "metadata": {
        "id": "H1I9aQ_SBH3n",
        "colab_type": "text"
      },
      "source": [
        "# Source"
      ]
    },
    {
      "cell_type": "markdown",
      "metadata": {
        "id": "Bfb7MHpGBJMO",
        "colab_type": "text"
      },
      "source": [
        "## Database Connection"
      ]
    },
    {
      "cell_type": "code",
      "metadata": {
        "id": "ihI70_BPKouq",
        "colab_type": "code",
        "colab": {}
      },
      "source": [
        "# BigQuery API Key\n",
        "bq_auth(path = \"/content/mpg-data-warehouse-api_key-master.json\")"
      ],
      "execution_count": 3,
      "outputs": []
    },
    {
      "cell_type": "code",
      "metadata": {
        "id": "8YxL8wHoBNxV",
        "colab_type": "code",
        "colab": {}
      },
      "source": [
        "Sys.setenv(BIGQUERY_TEST_PROJECT = \"mpg-data-warehouse\")"
      ],
      "execution_count": 4,
      "outputs": []
    },
    {
      "cell_type": "code",
      "metadata": {
        "id": "yevfizb5BQXm",
        "colab_type": "code",
        "colab": {}
      },
      "source": [
        "billing <- bq_test_project()"
      ],
      "execution_count": 5,
      "outputs": []
    },
    {
      "cell_type": "markdown",
      "metadata": {
        "id": "JN4Z34yRp2-k",
        "colab_type": "text"
      },
      "source": [
        "### vegetation_point_intercept_gridVeg"
      ]
    },
    {
      "cell_type": "code",
      "metadata": {
        "id": "mKsvG7zTBXl3",
        "colab_type": "code",
        "colab": {}
      },
      "source": [
        "con_point_intercept <- dbConnect(\n",
        "  bigrquery::bigquery(),\n",
        "  project = \"mpg-data-warehouse\",\n",
        "  dataset = \"vegetation_point_intercept_gridVeg\",\n",
        "  billing = billing\n",
        ")"
      ],
      "execution_count": 6,
      "outputs": []
    },
    {
      "cell_type": "code",
      "metadata": {
        "id": "64HvPjFbBZem",
        "colab_type": "code",
        "colab": {
          "base_uri": "https://localhost:8080/",
          "height": 68
        },
        "outputId": "82c46095-bfb8-424e-a1a7-0f303d56ff48"
      },
      "source": [
        "dbListTables(con_point_intercept)"
      ],
      "execution_count": 7,
      "outputs": [
        {
          "output_type": "display_data",
          "data": {
            "text/plain": [
              "[1] \"gridVeg_additional_species\"         \"gridVeg_ground_cover_metadata\"     \n",
              "[3] \"gridVeg_image_metadata\"             \"gridVeg_point_intercept_ground\"    \n",
              "[5] \"gridVeg_point_intercept_vegetation\" \"gridVeg_shrub_tree\"                \n",
              "[7] \"gridVeg_survey_metadata\"           "
            ],
            "text/latex": "\\begin{enumerate*}\n\\item 'gridVeg\\_additional\\_species'\n\\item 'gridVeg\\_ground\\_cover\\_metadata'\n\\item 'gridVeg\\_image\\_metadata'\n\\item 'gridVeg\\_point\\_intercept\\_ground'\n\\item 'gridVeg\\_point\\_intercept\\_vegetation'\n\\item 'gridVeg\\_shrub\\_tree'\n\\item 'gridVeg\\_survey\\_metadata'\n\\end{enumerate*}\n",
            "text/markdown": "1. 'gridVeg_additional_species'\n2. 'gridVeg_ground_cover_metadata'\n3. 'gridVeg_image_metadata'\n4. 'gridVeg_point_intercept_ground'\n5. 'gridVeg_point_intercept_vegetation'\n6. 'gridVeg_shrub_tree'\n7. 'gridVeg_survey_metadata'\n\n\n",
            "text/html": [
              "<style>\n",
              ".list-inline {list-style: none; margin:0; padding: 0}\n",
              ".list-inline>li {display: inline-block}\n",
              ".list-inline>li:not(:last-child)::after {content: \"\\00b7\"; padding: 0 .5ex}\n",
              "</style>\n",
              "<ol class=list-inline><li>'gridVeg_additional_species'</li><li>'gridVeg_ground_cover_metadata'</li><li>'gridVeg_image_metadata'</li><li>'gridVeg_point_intercept_ground'</li><li>'gridVeg_point_intercept_vegetation'</li><li>'gridVeg_shrub_tree'</li><li>'gridVeg_survey_metadata'</li></ol>\n"
            ]
          },
          "metadata": {
            "tags": []
          }
        }
      ]
    },
    {
      "cell_type": "code",
      "metadata": {
        "id": "26UqASAoB2p0",
        "colab_type": "code",
        "colab": {}
      },
      "source": [
        "ground_point_intercept_sql <- \n",
        "\"\n",
        "  SELECT\n",
        "    survey_ID,\n",
        "    grid_point,\n",
        "    intercept_ground_code,\n",
        "    COUNT(intercept_ground_code) / 2 AS intercepts_pct\n",
        "  FROM \n",
        "    `mpg-data-warehouse.vegetation_point_intercept_gridVeg.gridVeg_point_intercept_ground`\n",
        "  GROUP BY\n",
        "    survey_ID, grid_point, intercept_ground_code\n",
        "\""
      ],
      "execution_count": 8,
      "outputs": []
    },
    {
      "cell_type": "code",
      "metadata": {
        "id": "VSXOoJkcB3dn",
        "colab_type": "code",
        "colab": {}
      },
      "source": [
        "bq_ground_point_intercept <- bq_project_query(billing, ground_point_intercept_sql)"
      ],
      "execution_count": 9,
      "outputs": []
    },
    {
      "cell_type": "code",
      "metadata": {
        "id": "KpZnymzzB5Ms",
        "colab_type": "code",
        "colab": {}
      },
      "source": [
        "tb_ground_point_intercept <- bq_table_download(bq_ground_point_intercept)"
      ],
      "execution_count": 10,
      "outputs": []
    },
    {
      "cell_type": "code",
      "metadata": {
        "id": "VcoNMCO1B6gY",
        "colab_type": "code",
        "colab": {}
      },
      "source": [
        "df_ground_point_intercept <- as.data.frame(tb_ground_point_intercept)"
      ],
      "execution_count": 11,
      "outputs": []
    },
    {
      "cell_type": "code",
      "metadata": {
        "id": "QG99Tc1huf3J",
        "colab_type": "code",
        "colab": {
          "base_uri": "https://localhost:8080/",
          "height": 162
        },
        "outputId": "e2a01845-c752-4336-8fba-4a6e76ba251d"
      },
      "source": [
        "head(df_ground_point_intercept, n=4)"
      ],
      "execution_count": 12,
      "outputs": [
        {
          "output_type": "display_data",
          "data": {
            "text/plain": [
              "  survey_ID grid_point intercept_ground_code intercepts_pct\n",
              "1 2         373        NA                    0             \n",
              "2 338       141        NA                    0             \n",
              "3 433       332        NA                    0             \n",
              "4 569        26        NA                    0             "
            ],
            "text/latex": "A data.frame: 4 × 4\n\\begin{tabular}{r|llll}\n  & survey\\_ID & grid\\_point & intercept\\_ground\\_code & intercepts\\_pct\\\\\n  & <chr> & <int> & <chr> & <dbl>\\\\\n\\hline\n\t1 & 2   & 373 & NA & 0\\\\\n\t2 & 338 & 141 & NA & 0\\\\\n\t3 & 433 & 332 & NA & 0\\\\\n\t4 & 569 &  26 & NA & 0\\\\\n\\end{tabular}\n",
            "text/markdown": "\nA data.frame: 4 × 4\n\n| <!--/--> | survey_ID &lt;chr&gt; | grid_point &lt;int&gt; | intercept_ground_code &lt;chr&gt; | intercepts_pct &lt;dbl&gt; |\n|---|---|---|---|---|\n| 1 | 2   | 373 | NA | 0 |\n| 2 | 338 | 141 | NA | 0 |\n| 3 | 433 | 332 | NA | 0 |\n| 4 | 569 |  26 | NA | 0 |\n\n",
            "text/html": [
              "<table>\n",
              "<caption>A data.frame: 4 × 4</caption>\n",
              "<thead>\n",
              "\t<tr><th></th><th scope=col>survey_ID</th><th scope=col>grid_point</th><th scope=col>intercept_ground_code</th><th scope=col>intercepts_pct</th></tr>\n",
              "\t<tr><th></th><th scope=col>&lt;chr&gt;</th><th scope=col>&lt;int&gt;</th><th scope=col>&lt;chr&gt;</th><th scope=col>&lt;dbl&gt;</th></tr>\n",
              "</thead>\n",
              "<tbody>\n",
              "\t<tr><th scope=row>1</th><td>2  </td><td>373</td><td>NA</td><td>0</td></tr>\n",
              "\t<tr><th scope=row>2</th><td>338</td><td>141</td><td>NA</td><td>0</td></tr>\n",
              "\t<tr><th scope=row>3</th><td>433</td><td>332</td><td>NA</td><td>0</td></tr>\n",
              "\t<tr><th scope=row>4</th><td>569</td><td> 26</td><td>NA</td><td>0</td></tr>\n",
              "</tbody>\n",
              "</table>\n"
            ]
          },
          "metadata": {
            "tags": []
          }
        }
      ]
    },
    {
      "cell_type": "code",
      "metadata": {
        "id": "jyYMdbu4HkYP",
        "colab_type": "code",
        "colab": {
          "base_uri": "https://localhost:8080/",
          "height": 183
        },
        "outputId": "d38c3409-bdb2-4f1c-aa1f-9a1aa910ad84"
      },
      "source": [
        "df_ground_point_intercept %>%\n",
        "  filter(survey_ID == '027F5AE0-F90B-4E4D-81D8-E7674D600243')"
      ],
      "execution_count": 13,
      "outputs": [
        {
          "output_type": "display_data",
          "data": {
            "text/plain": [
              "  survey_ID                            grid_point intercept_ground_code\n",
              "1 027F5AE0-F90B-4E4D-81D8-E7674D600243 323        G                    \n",
              "2 027F5AE0-F90B-4E4D-81D8-E7674D600243 323        L                    \n",
              "3 027F5AE0-F90B-4E4D-81D8-E7674D600243 323        R                    \n",
              "4 027F5AE0-F90B-4E4D-81D8-E7674D600243 323        BV                   \n",
              "5 027F5AE0-F90B-4E4D-81D8-E7674D600243 323        M/L                  \n",
              "  intercepts_pct\n",
              "1  3.0          \n",
              "2 42.5          \n",
              "3  1.0          \n",
              "4  5.0          \n",
              "5 48.5          "
            ],
            "text/latex": "A data.frame: 5 × 4\n\\begin{tabular}{llll}\n survey\\_ID & grid\\_point & intercept\\_ground\\_code & intercepts\\_pct\\\\\n <chr> & <int> & <chr> & <dbl>\\\\\n\\hline\n\t 027F5AE0-F90B-4E4D-81D8-E7674D600243 & 323 & G   &  3.0\\\\\n\t 027F5AE0-F90B-4E4D-81D8-E7674D600243 & 323 & L   & 42.5\\\\\n\t 027F5AE0-F90B-4E4D-81D8-E7674D600243 & 323 & R   &  1.0\\\\\n\t 027F5AE0-F90B-4E4D-81D8-E7674D600243 & 323 & BV  &  5.0\\\\\n\t 027F5AE0-F90B-4E4D-81D8-E7674D600243 & 323 & M/L & 48.5\\\\\n\\end{tabular}\n",
            "text/markdown": "\nA data.frame: 5 × 4\n\n| survey_ID &lt;chr&gt; | grid_point &lt;int&gt; | intercept_ground_code &lt;chr&gt; | intercepts_pct &lt;dbl&gt; |\n|---|---|---|---|\n| 027F5AE0-F90B-4E4D-81D8-E7674D600243 | 323 | G   |  3.0 |\n| 027F5AE0-F90B-4E4D-81D8-E7674D600243 | 323 | L   | 42.5 |\n| 027F5AE0-F90B-4E4D-81D8-E7674D600243 | 323 | R   |  1.0 |\n| 027F5AE0-F90B-4E4D-81D8-E7674D600243 | 323 | BV  |  5.0 |\n| 027F5AE0-F90B-4E4D-81D8-E7674D600243 | 323 | M/L | 48.5 |\n\n",
            "text/html": [
              "<table>\n",
              "<caption>A data.frame: 5 × 4</caption>\n",
              "<thead>\n",
              "\t<tr><th scope=col>survey_ID</th><th scope=col>grid_point</th><th scope=col>intercept_ground_code</th><th scope=col>intercepts_pct</th></tr>\n",
              "\t<tr><th scope=col>&lt;chr&gt;</th><th scope=col>&lt;int&gt;</th><th scope=col>&lt;chr&gt;</th><th scope=col>&lt;dbl&gt;</th></tr>\n",
              "</thead>\n",
              "<tbody>\n",
              "\t<tr><td>027F5AE0-F90B-4E4D-81D8-E7674D600243</td><td>323</td><td>G  </td><td> 3.0</td></tr>\n",
              "\t<tr><td>027F5AE0-F90B-4E4D-81D8-E7674D600243</td><td>323</td><td>L  </td><td>42.5</td></tr>\n",
              "\t<tr><td>027F5AE0-F90B-4E4D-81D8-E7674D600243</td><td>323</td><td>R  </td><td> 1.0</td></tr>\n",
              "\t<tr><td>027F5AE0-F90B-4E4D-81D8-E7674D600243</td><td>323</td><td>BV </td><td> 5.0</td></tr>\n",
              "\t<tr><td>027F5AE0-F90B-4E4D-81D8-E7674D600243</td><td>323</td><td>M/L</td><td>48.5</td></tr>\n",
              "</tbody>\n",
              "</table>\n"
            ]
          },
          "metadata": {
            "tags": []
          }
        }
      ]
    },
    {
      "cell_type": "markdown",
      "metadata": {
        "id": "EaBs_FPytWWS",
        "colab_type": "text"
      },
      "source": [
        "### gridVeg_survey_metadata"
      ]
    },
    {
      "cell_type": "code",
      "metadata": {
        "id": "pE0V7V6stegC",
        "colab_type": "code",
        "colab": {}
      },
      "source": [
        "survey_metadata_sql <-\n",
        "\"\n",
        "  SELECT\n",
        "    survey_ID,\n",
        "    year,\n",
        "    survey_sequence\n",
        "  FROM\n",
        "    `mpg-data-warehouse.vegetation_point_intercept_gridVeg.gridVeg_survey_metadata`\n",
        "\""
      ],
      "execution_count": 14,
      "outputs": []
    },
    {
      "cell_type": "code",
      "metadata": {
        "id": "PnU_vgAqtvHE",
        "colab_type": "code",
        "colab": {}
      },
      "source": [
        "bq_survey_metadata <- bq_project_query(billing, survey_metadata_sql)"
      ],
      "execution_count": 15,
      "outputs": []
    },
    {
      "cell_type": "code",
      "metadata": {
        "id": "q1fzxNfYtvDF",
        "colab_type": "code",
        "colab": {}
      },
      "source": [
        "tb_survey_metadata <- bq_table_download(bq_survey_metadata)"
      ],
      "execution_count": 16,
      "outputs": []
    },
    {
      "cell_type": "code",
      "metadata": {
        "id": "btphqi4EuKIA",
        "colab_type": "code",
        "colab": {}
      },
      "source": [
        "df_survey_metadata <- as.data.frame(tb_survey_metadata)"
      ],
      "execution_count": 17,
      "outputs": []
    },
    {
      "cell_type": "code",
      "metadata": {
        "id": "W2bf0oKSuNZo",
        "colab_type": "code",
        "colab": {
          "base_uri": "https://localhost:8080/",
          "height": 162
        },
        "outputId": "a6ad2c3d-b5d8-4d3e-8453-eff6133685f9"
      },
      "source": [
        "head(df_survey_metadata, n=4)"
      ],
      "execution_count": 18,
      "outputs": [
        {
          "output_type": "display_data",
          "data": {
            "text/plain": [
              "  survey_ID                            year survey_sequence\n",
              "1 F31C56A8-912D-410C-A17D-4C2DD75F71A4 2016 2016           \n",
              "2 A19E87E6-A89C-4993-B550-802226730D54 2016 2016           \n",
              "3 6F1D71D3-9F87-4C93-B179-A12C8938D18D 2016 2016           \n",
              "4 9C67C9F1-1E89-4FD2-ADC0-0390E0022D62 2016 2016           "
            ],
            "text/latex": "A data.frame: 4 × 3\n\\begin{tabular}{r|lll}\n  & survey\\_ID & year & survey\\_sequence\\\\\n  & <chr> & <int> & <chr>\\\\\n\\hline\n\t1 & F31C56A8-912D-410C-A17D-4C2DD75F71A4 & 2016 & 2016\\\\\n\t2 & A19E87E6-A89C-4993-B550-802226730D54 & 2016 & 2016\\\\\n\t3 & 6F1D71D3-9F87-4C93-B179-A12C8938D18D & 2016 & 2016\\\\\n\t4 & 9C67C9F1-1E89-4FD2-ADC0-0390E0022D62 & 2016 & 2016\\\\\n\\end{tabular}\n",
            "text/markdown": "\nA data.frame: 4 × 3\n\n| <!--/--> | survey_ID &lt;chr&gt; | year &lt;int&gt; | survey_sequence &lt;chr&gt; |\n|---|---|---|---|\n| 1 | F31C56A8-912D-410C-A17D-4C2DD75F71A4 | 2016 | 2016 |\n| 2 | A19E87E6-A89C-4993-B550-802226730D54 | 2016 | 2016 |\n| 3 | 6F1D71D3-9F87-4C93-B179-A12C8938D18D | 2016 | 2016 |\n| 4 | 9C67C9F1-1E89-4FD2-ADC0-0390E0022D62 | 2016 | 2016 |\n\n",
            "text/html": [
              "<table>\n",
              "<caption>A data.frame: 4 × 3</caption>\n",
              "<thead>\n",
              "\t<tr><th></th><th scope=col>survey_ID</th><th scope=col>year</th><th scope=col>survey_sequence</th></tr>\n",
              "\t<tr><th></th><th scope=col>&lt;chr&gt;</th><th scope=col>&lt;int&gt;</th><th scope=col>&lt;chr&gt;</th></tr>\n",
              "</thead>\n",
              "<tbody>\n",
              "\t<tr><th scope=row>1</th><td>F31C56A8-912D-410C-A17D-4C2DD75F71A4</td><td>2016</td><td>2016</td></tr>\n",
              "\t<tr><th scope=row>2</th><td>A19E87E6-A89C-4993-B550-802226730D54</td><td>2016</td><td>2016</td></tr>\n",
              "\t<tr><th scope=row>3</th><td>6F1D71D3-9F87-4C93-B179-A12C8938D18D</td><td>2016</td><td>2016</td></tr>\n",
              "\t<tr><th scope=row>4</th><td>9C67C9F1-1E89-4FD2-ADC0-0390E0022D62</td><td>2016</td><td>2016</td></tr>\n",
              "</tbody>\n",
              "</table>\n"
            ]
          },
          "metadata": {
            "tags": []
          }
        }
      ]
    },
    {
      "cell_type": "markdown",
      "metadata": {
        "id": "uy5N7olev4SO",
        "colab_type": "text"
      },
      "source": [
        "### ground_cover_metadata"
      ]
    },
    {
      "cell_type": "code",
      "metadata": {
        "id": "eaXFui3Hv7OI",
        "colab_type": "code",
        "colab": {}
      },
      "source": [
        "sql_ground_meta <- \n",
        "\"\n",
        "SELECT\n",
        "  intercept_ground_code,\n",
        "  ground_group\n",
        "FROM\n",
        "  `mpg-data-warehouse.vegetation_point_intercept_gridVeg.gridVeg_ground_cover_metadata`\n",
        "\""
      ],
      "execution_count": 19,
      "outputs": []
    },
    {
      "cell_type": "code",
      "metadata": {
        "id": "v6jMKNbmwTcP",
        "colab_type": "code",
        "colab": {}
      },
      "source": [
        "bq_ground_meta <- bq_project_query(billing, sql_ground_meta)"
      ],
      "execution_count": 20,
      "outputs": []
    },
    {
      "cell_type": "code",
      "metadata": {
        "id": "jmpDHelOwTY8",
        "colab_type": "code",
        "colab": {}
      },
      "source": [
        "tb_ground_meta <- bq_table_download(bq_ground_meta)"
      ],
      "execution_count": 21,
      "outputs": []
    },
    {
      "cell_type": "code",
      "metadata": {
        "id": "kTLde0gpwTVr",
        "colab_type": "code",
        "colab": {}
      },
      "source": [
        "df_ground_meta <- as.data.frame(tb_ground_meta)"
      ],
      "execution_count": 22,
      "outputs": []
    },
    {
      "cell_type": "code",
      "metadata": {
        "id": "6z9QkFHlwTSd",
        "colab_type": "code",
        "colab": {
          "base_uri": "https://localhost:8080/",
          "height": 456
        },
        "outputId": "8d5dfcf7-2179-4501-d39d-b7921e603b1a"
      },
      "source": [
        "df_ground_meta %>% arrange(intercept_ground_code)"
      ],
      "execution_count": 23,
      "outputs": [
        {
          "output_type": "display_data",
          "data": {
            "text/plain": [
              "   intercept_ground_code ground_group     \n",
              "1  BG                    inorganic        \n",
              "2  BV                    living vegetation\n",
              "3  G                     inorganic        \n",
              "4  L                     dead vegetation  \n",
              "5  LIC                   living vegetation\n",
              "6  M                     living vegetation\n",
              "7  M/L                   living vegetation\n",
              "8  OTHER                 inorganic        \n",
              "9  R                     inorganic        \n",
              "10 SC                    dung             \n",
              "11 SD                    dung             \n",
              "12 SE                    dung             \n",
              "13 SH                    dung             \n",
              "14 SU                    dung             \n",
              "15 WDL                   dead vegetation  \n",
              "16 WDS                   dead vegetation  \n",
              "17 WDSTUMP               dead vegetation  \n",
              "18 WDT                   dead vegetation  "
            ],
            "text/latex": "A data.frame: 18 × 2\n\\begin{tabular}{ll}\n intercept\\_ground\\_code & ground\\_group\\\\\n <chr> & <chr>\\\\\n\\hline\n\t BG      & inorganic        \\\\\n\t BV      & living vegetation\\\\\n\t G       & inorganic        \\\\\n\t L       & dead vegetation  \\\\\n\t LIC     & living vegetation\\\\\n\t M       & living vegetation\\\\\n\t M/L     & living vegetation\\\\\n\t OTHER   & inorganic        \\\\\n\t R       & inorganic        \\\\\n\t SC      & dung             \\\\\n\t SD      & dung             \\\\\n\t SE      & dung             \\\\\n\t SH      & dung             \\\\\n\t SU      & dung             \\\\\n\t WDL     & dead vegetation  \\\\\n\t WDS     & dead vegetation  \\\\\n\t WDSTUMP & dead vegetation  \\\\\n\t WDT     & dead vegetation  \\\\\n\\end{tabular}\n",
            "text/markdown": "\nA data.frame: 18 × 2\n\n| intercept_ground_code &lt;chr&gt; | ground_group &lt;chr&gt; |\n|---|---|\n| BG      | inorganic         |\n| BV      | living vegetation |\n| G       | inorganic         |\n| L       | dead vegetation   |\n| LIC     | living vegetation |\n| M       | living vegetation |\n| M/L     | living vegetation |\n| OTHER   | inorganic         |\n| R       | inorganic         |\n| SC      | dung              |\n| SD      | dung              |\n| SE      | dung              |\n| SH      | dung              |\n| SU      | dung              |\n| WDL     | dead vegetation   |\n| WDS     | dead vegetation   |\n| WDSTUMP | dead vegetation   |\n| WDT     | dead vegetation   |\n\n",
            "text/html": [
              "<table>\n",
              "<caption>A data.frame: 18 × 2</caption>\n",
              "<thead>\n",
              "\t<tr><th scope=col>intercept_ground_code</th><th scope=col>ground_group</th></tr>\n",
              "\t<tr><th scope=col>&lt;chr&gt;</th><th scope=col>&lt;chr&gt;</th></tr>\n",
              "</thead>\n",
              "<tbody>\n",
              "\t<tr><td>BG     </td><td>inorganic        </td></tr>\n",
              "\t<tr><td>BV     </td><td>living vegetation</td></tr>\n",
              "\t<tr><td>G      </td><td>inorganic        </td></tr>\n",
              "\t<tr><td>L      </td><td>dead vegetation  </td></tr>\n",
              "\t<tr><td>LIC    </td><td>living vegetation</td></tr>\n",
              "\t<tr><td>M      </td><td>living vegetation</td></tr>\n",
              "\t<tr><td>M/L    </td><td>living vegetation</td></tr>\n",
              "\t<tr><td>OTHER  </td><td>inorganic        </td></tr>\n",
              "\t<tr><td>R      </td><td>inorganic        </td></tr>\n",
              "\t<tr><td>SC     </td><td>dung             </td></tr>\n",
              "\t<tr><td>SD     </td><td>dung             </td></tr>\n",
              "\t<tr><td>SE     </td><td>dung             </td></tr>\n",
              "\t<tr><td>SH     </td><td>dung             </td></tr>\n",
              "\t<tr><td>SU     </td><td>dung             </td></tr>\n",
              "\t<tr><td>WDL    </td><td>dead vegetation  </td></tr>\n",
              "\t<tr><td>WDS    </td><td>dead vegetation  </td></tr>\n",
              "\t<tr><td>WDSTUMP</td><td>dead vegetation  </td></tr>\n",
              "\t<tr><td>WDT    </td><td>dead vegetation  </td></tr>\n",
              "</tbody>\n",
              "</table>\n"
            ]
          },
          "metadata": {
            "tags": []
          }
        }
      ]
    },
    {
      "cell_type": "markdown",
      "metadata": {
        "id": "e0mtSVpAtWME",
        "colab_type": "text"
      },
      "source": [
        "# Wrangle"
      ]
    },
    {
      "cell_type": "code",
      "metadata": {
        "id": "M87ef8Ni0vHx",
        "colab_type": "code",
        "colab": {
          "base_uri": "https://localhost:8080/",
          "height": 477
        },
        "outputId": "f3b2453b-6949-488a-efdc-d4e38f025919"
      },
      "source": [
        "# show unique intercept ground codes\n",
        "df_ground_point_intercept %>%\n",
        "  distinct(intercept_ground_code) %>% \n",
        "  arrange(intercept_ground_code)"
      ],
      "execution_count": 24,
      "outputs": [
        {
          "output_type": "display_data",
          "data": {
            "text/plain": [
              "   intercept_ground_code\n",
              "1  BG                   \n",
              "2  BV                   \n",
              "3  G                    \n",
              "4  L                    \n",
              "5  LIC                  \n",
              "6  M                    \n",
              "7  M/L                  \n",
              "8  OTHER                \n",
              "9  R                    \n",
              "10 SC                   \n",
              "11 SD                   \n",
              "12 SE                   \n",
              "13 SH                   \n",
              "14 SU                   \n",
              "15 WDL                  \n",
              "16 WDS                  \n",
              "17 WDSTUMP              \n",
              "18 WDT                  \n",
              "19 NA                   "
            ],
            "text/latex": "A data.frame: 19 × 1\n\\begin{tabular}{l}\n intercept\\_ground\\_code\\\\\n <chr>\\\\\n\\hline\n\t BG     \\\\\n\t BV     \\\\\n\t G      \\\\\n\t L      \\\\\n\t LIC    \\\\\n\t M      \\\\\n\t M/L    \\\\\n\t OTHER  \\\\\n\t R      \\\\\n\t SC     \\\\\n\t SD     \\\\\n\t SE     \\\\\n\t SH     \\\\\n\t SU     \\\\\n\t WDL    \\\\\n\t WDS    \\\\\n\t WDSTUMP\\\\\n\t WDT    \\\\\n\t NA     \\\\\n\\end{tabular}\n",
            "text/markdown": "\nA data.frame: 19 × 1\n\n| intercept_ground_code &lt;chr&gt; |\n|---|\n| BG      |\n| BV      |\n| G       |\n| L       |\n| LIC     |\n| M       |\n| M/L     |\n| OTHER   |\n| R       |\n| SC      |\n| SD      |\n| SE      |\n| SH      |\n| SU      |\n| WDL     |\n| WDS     |\n| WDSTUMP |\n| WDT     |\n| NA      |\n\n",
            "text/html": [
              "<table>\n",
              "<caption>A data.frame: 19 × 1</caption>\n",
              "<thead>\n",
              "\t<tr><th scope=col>intercept_ground_code</th></tr>\n",
              "\t<tr><th scope=col>&lt;chr&gt;</th></tr>\n",
              "</thead>\n",
              "<tbody>\n",
              "\t<tr><td>BG     </td></tr>\n",
              "\t<tr><td>BV     </td></tr>\n",
              "\t<tr><td>G      </td></tr>\n",
              "\t<tr><td>L      </td></tr>\n",
              "\t<tr><td>LIC    </td></tr>\n",
              "\t<tr><td>M      </td></tr>\n",
              "\t<tr><td>M/L    </td></tr>\n",
              "\t<tr><td>OTHER  </td></tr>\n",
              "\t<tr><td>R      </td></tr>\n",
              "\t<tr><td>SC     </td></tr>\n",
              "\t<tr><td>SD     </td></tr>\n",
              "\t<tr><td>SE     </td></tr>\n",
              "\t<tr><td>SH     </td></tr>\n",
              "\t<tr><td>SU     </td></tr>\n",
              "\t<tr><td>WDL    </td></tr>\n",
              "\t<tr><td>WDS    </td></tr>\n",
              "\t<tr><td>WDSTUMP</td></tr>\n",
              "\t<tr><td>WDT    </td></tr>\n",
              "\t<tr><td>NA     </td></tr>\n",
              "</tbody>\n",
              "</table>\n"
            ]
          },
          "metadata": {
            "tags": []
          }
        }
      ]
    },
    {
      "cell_type": "markdown",
      "metadata": {
        "id": "Eus6GpnJ-Dje",
        "colab_type": "text"
      },
      "source": [
        "## Fill missing ground code"
      ]
    },
    {
      "cell_type": "code",
      "metadata": {
        "id": "I2kxbDSE260P",
        "colab_type": "code",
        "colab": {
          "base_uri": "https://localhost:8080/",
          "height": 119
        },
        "outputId": "1c11910f-cc8b-407b-8970-7630cdb91bc3"
      },
      "source": [
        "df_ground_point_intercept_fill <- df_ground_point_intercept %>%\n",
        "  # include all intercept_ground variables for each survey_ID if not previously present set to 0\n",
        "  complete(survey_ID, nesting(intercept_ground_code), fill= list(intercepts_pct = 0)) %>%\n",
        "  fill(grid_point) %>%\n",
        "  filter(intercept_ground_code != 'NA') %>% \n",
        "  glimpse()"
      ],
      "execution_count": 27,
      "outputs": [
        {
          "output_type": "stream",
          "text": [
            "Rows: 22,392\n",
            "Columns: 4\n",
            "$ survey_ID             \u001b[3m\u001b[90m<chr>\u001b[39m\u001b[23m \"012C5FAD-2451-41B0-9E2F-432D1ECEB55C\", \"012C5F…\n",
            "$ intercept_ground_code \u001b[3m\u001b[90m<chr>\u001b[39m\u001b[23m \"BG\", \"BV\", \"G\", \"L\", \"LIC\", \"M\", \"M/L\", \"OTHER…\n",
            "$ grid_point            \u001b[3m\u001b[90m<int>\u001b[39m\u001b[23m 285, 285, 285, 285, 285, 285, 285, 285, 285, 28…\n",
            "$ intercepts_pct        \u001b[3m\u001b[90m<dbl>\u001b[39m\u001b[23m 15.5, 8.5, 8.5, 62.0, 0.0, 1.5, 0.0, 0.0, 1.5, …\n"
          ],
          "name": "stdout"
        }
      ]
    },
    {
      "cell_type": "code",
      "metadata": {
        "id": "MeOytv33HyMr",
        "colab_type": "code",
        "colab": {
          "base_uri": "https://localhost:8080/",
          "height": 456
        },
        "outputId": "a96cfe5b-ab67-46ad-9ca7-ba4bdc6dc4dc"
      },
      "source": [
        "df_ground_point_intercept_fill %>%\n",
        "  filter(survey_ID == '027F5AE0-F90B-4E4D-81D8-E7674D600243')"
      ],
      "execution_count": 29,
      "outputs": [
        {
          "output_type": "display_data",
          "data": {
            "text/plain": [
              "   survey_ID                            intercept_ground_code grid_point\n",
              "1  027F5AE0-F90B-4E4D-81D8-E7674D600243 BG                     23       \n",
              "2  027F5AE0-F90B-4E4D-81D8-E7674D600243 BV                    323       \n",
              "3  027F5AE0-F90B-4E4D-81D8-E7674D600243 G                     323       \n",
              "4  027F5AE0-F90B-4E4D-81D8-E7674D600243 L                     323       \n",
              "5  027F5AE0-F90B-4E4D-81D8-E7674D600243 LIC                   323       \n",
              "6  027F5AE0-F90B-4E4D-81D8-E7674D600243 M                     323       \n",
              "7  027F5AE0-F90B-4E4D-81D8-E7674D600243 M/L                   323       \n",
              "8  027F5AE0-F90B-4E4D-81D8-E7674D600243 OTHER                 323       \n",
              "9  027F5AE0-F90B-4E4D-81D8-E7674D600243 R                     323       \n",
              "10 027F5AE0-F90B-4E4D-81D8-E7674D600243 SC                    323       \n",
              "11 027F5AE0-F90B-4E4D-81D8-E7674D600243 SD                    323       \n",
              "12 027F5AE0-F90B-4E4D-81D8-E7674D600243 SE                    323       \n",
              "13 027F5AE0-F90B-4E4D-81D8-E7674D600243 SH                    323       \n",
              "14 027F5AE0-F90B-4E4D-81D8-E7674D600243 SU                    323       \n",
              "15 027F5AE0-F90B-4E4D-81D8-E7674D600243 WDL                   323       \n",
              "16 027F5AE0-F90B-4E4D-81D8-E7674D600243 WDS                   323       \n",
              "17 027F5AE0-F90B-4E4D-81D8-E7674D600243 WDSTUMP               323       \n",
              "18 027F5AE0-F90B-4E4D-81D8-E7674D600243 WDT                   323       \n",
              "   intercepts_pct\n",
              "1   0.0          \n",
              "2   5.0          \n",
              "3   3.0          \n",
              "4  42.5          \n",
              "5   0.0          \n",
              "6   0.0          \n",
              "7  48.5          \n",
              "8   0.0          \n",
              "9   1.0          \n",
              "10  0.0          \n",
              "11  0.0          \n",
              "12  0.0          \n",
              "13  0.0          \n",
              "14  0.0          \n",
              "15  0.0          \n",
              "16  0.0          \n",
              "17  0.0          \n",
              "18  0.0          "
            ],
            "text/latex": "A tibble: 18 × 4\n\\begin{tabular}{llll}\n survey\\_ID & intercept\\_ground\\_code & grid\\_point & intercepts\\_pct\\\\\n <chr> & <chr> & <int> & <dbl>\\\\\n\\hline\n\t 027F5AE0-F90B-4E4D-81D8-E7674D600243 & BG      &  23 &  0.0\\\\\n\t 027F5AE0-F90B-4E4D-81D8-E7674D600243 & BV      & 323 &  5.0\\\\\n\t 027F5AE0-F90B-4E4D-81D8-E7674D600243 & G       & 323 &  3.0\\\\\n\t 027F5AE0-F90B-4E4D-81D8-E7674D600243 & L       & 323 & 42.5\\\\\n\t 027F5AE0-F90B-4E4D-81D8-E7674D600243 & LIC     & 323 &  0.0\\\\\n\t 027F5AE0-F90B-4E4D-81D8-E7674D600243 & M       & 323 &  0.0\\\\\n\t 027F5AE0-F90B-4E4D-81D8-E7674D600243 & M/L     & 323 & 48.5\\\\\n\t 027F5AE0-F90B-4E4D-81D8-E7674D600243 & OTHER   & 323 &  0.0\\\\\n\t 027F5AE0-F90B-4E4D-81D8-E7674D600243 & R       & 323 &  1.0\\\\\n\t 027F5AE0-F90B-4E4D-81D8-E7674D600243 & SC      & 323 &  0.0\\\\\n\t 027F5AE0-F90B-4E4D-81D8-E7674D600243 & SD      & 323 &  0.0\\\\\n\t 027F5AE0-F90B-4E4D-81D8-E7674D600243 & SE      & 323 &  0.0\\\\\n\t 027F5AE0-F90B-4E4D-81D8-E7674D600243 & SH      & 323 &  0.0\\\\\n\t 027F5AE0-F90B-4E4D-81D8-E7674D600243 & SU      & 323 &  0.0\\\\\n\t 027F5AE0-F90B-4E4D-81D8-E7674D600243 & WDL     & 323 &  0.0\\\\\n\t 027F5AE0-F90B-4E4D-81D8-E7674D600243 & WDS     & 323 &  0.0\\\\\n\t 027F5AE0-F90B-4E4D-81D8-E7674D600243 & WDSTUMP & 323 &  0.0\\\\\n\t 027F5AE0-F90B-4E4D-81D8-E7674D600243 & WDT     & 323 &  0.0\\\\\n\\end{tabular}\n",
            "text/markdown": "\nA tibble: 18 × 4\n\n| survey_ID &lt;chr&gt; | intercept_ground_code &lt;chr&gt; | grid_point &lt;int&gt; | intercepts_pct &lt;dbl&gt; |\n|---|---|---|---|\n| 027F5AE0-F90B-4E4D-81D8-E7674D600243 | BG      |  23 |  0.0 |\n| 027F5AE0-F90B-4E4D-81D8-E7674D600243 | BV      | 323 |  5.0 |\n| 027F5AE0-F90B-4E4D-81D8-E7674D600243 | G       | 323 |  3.0 |\n| 027F5AE0-F90B-4E4D-81D8-E7674D600243 | L       | 323 | 42.5 |\n| 027F5AE0-F90B-4E4D-81D8-E7674D600243 | LIC     | 323 |  0.0 |\n| 027F5AE0-F90B-4E4D-81D8-E7674D600243 | M       | 323 |  0.0 |\n| 027F5AE0-F90B-4E4D-81D8-E7674D600243 | M/L     | 323 | 48.5 |\n| 027F5AE0-F90B-4E4D-81D8-E7674D600243 | OTHER   | 323 |  0.0 |\n| 027F5AE0-F90B-4E4D-81D8-E7674D600243 | R       | 323 |  1.0 |\n| 027F5AE0-F90B-4E4D-81D8-E7674D600243 | SC      | 323 |  0.0 |\n| 027F5AE0-F90B-4E4D-81D8-E7674D600243 | SD      | 323 |  0.0 |\n| 027F5AE0-F90B-4E4D-81D8-E7674D600243 | SE      | 323 |  0.0 |\n| 027F5AE0-F90B-4E4D-81D8-E7674D600243 | SH      | 323 |  0.0 |\n| 027F5AE0-F90B-4E4D-81D8-E7674D600243 | SU      | 323 |  0.0 |\n| 027F5AE0-F90B-4E4D-81D8-E7674D600243 | WDL     | 323 |  0.0 |\n| 027F5AE0-F90B-4E4D-81D8-E7674D600243 | WDS     | 323 |  0.0 |\n| 027F5AE0-F90B-4E4D-81D8-E7674D600243 | WDSTUMP | 323 |  0.0 |\n| 027F5AE0-F90B-4E4D-81D8-E7674D600243 | WDT     | 323 |  0.0 |\n\n",
            "text/html": [
              "<table>\n",
              "<caption>A tibble: 18 × 4</caption>\n",
              "<thead>\n",
              "\t<tr><th scope=col>survey_ID</th><th scope=col>intercept_ground_code</th><th scope=col>grid_point</th><th scope=col>intercepts_pct</th></tr>\n",
              "\t<tr><th scope=col>&lt;chr&gt;</th><th scope=col>&lt;chr&gt;</th><th scope=col>&lt;int&gt;</th><th scope=col>&lt;dbl&gt;</th></tr>\n",
              "</thead>\n",
              "<tbody>\n",
              "\t<tr><td>027F5AE0-F90B-4E4D-81D8-E7674D600243</td><td>BG     </td><td> 23</td><td> 0.0</td></tr>\n",
              "\t<tr><td>027F5AE0-F90B-4E4D-81D8-E7674D600243</td><td>BV     </td><td>323</td><td> 5.0</td></tr>\n",
              "\t<tr><td>027F5AE0-F90B-4E4D-81D8-E7674D600243</td><td>G      </td><td>323</td><td> 3.0</td></tr>\n",
              "\t<tr><td>027F5AE0-F90B-4E4D-81D8-E7674D600243</td><td>L      </td><td>323</td><td>42.5</td></tr>\n",
              "\t<tr><td>027F5AE0-F90B-4E4D-81D8-E7674D600243</td><td>LIC    </td><td>323</td><td> 0.0</td></tr>\n",
              "\t<tr><td>027F5AE0-F90B-4E4D-81D8-E7674D600243</td><td>M      </td><td>323</td><td> 0.0</td></tr>\n",
              "\t<tr><td>027F5AE0-F90B-4E4D-81D8-E7674D600243</td><td>M/L    </td><td>323</td><td>48.5</td></tr>\n",
              "\t<tr><td>027F5AE0-F90B-4E4D-81D8-E7674D600243</td><td>OTHER  </td><td>323</td><td> 0.0</td></tr>\n",
              "\t<tr><td>027F5AE0-F90B-4E4D-81D8-E7674D600243</td><td>R      </td><td>323</td><td> 1.0</td></tr>\n",
              "\t<tr><td>027F5AE0-F90B-4E4D-81D8-E7674D600243</td><td>SC     </td><td>323</td><td> 0.0</td></tr>\n",
              "\t<tr><td>027F5AE0-F90B-4E4D-81D8-E7674D600243</td><td>SD     </td><td>323</td><td> 0.0</td></tr>\n",
              "\t<tr><td>027F5AE0-F90B-4E4D-81D8-E7674D600243</td><td>SE     </td><td>323</td><td> 0.0</td></tr>\n",
              "\t<tr><td>027F5AE0-F90B-4E4D-81D8-E7674D600243</td><td>SH     </td><td>323</td><td> 0.0</td></tr>\n",
              "\t<tr><td>027F5AE0-F90B-4E4D-81D8-E7674D600243</td><td>SU     </td><td>323</td><td> 0.0</td></tr>\n",
              "\t<tr><td>027F5AE0-F90B-4E4D-81D8-E7674D600243</td><td>WDL    </td><td>323</td><td> 0.0</td></tr>\n",
              "\t<tr><td>027F5AE0-F90B-4E4D-81D8-E7674D600243</td><td>WDS    </td><td>323</td><td> 0.0</td></tr>\n",
              "\t<tr><td>027F5AE0-F90B-4E4D-81D8-E7674D600243</td><td>WDSTUMP</td><td>323</td><td> 0.0</td></tr>\n",
              "\t<tr><td>027F5AE0-F90B-4E4D-81D8-E7674D600243</td><td>WDT    </td><td>323</td><td> 0.0</td></tr>\n",
              "</tbody>\n",
              "</table>\n"
            ]
          },
          "metadata": {
            "tags": []
          }
        }
      ]
    },
    {
      "cell_type": "markdown",
      "metadata": {
        "id": "AZkD9TtM-IPm",
        "colab_type": "text"
      },
      "source": [
        "## Join datasets"
      ]
    },
    {
      "cell_type": "code",
      "metadata": {
        "id": "OvH4Li_9rr2M",
        "colab_type": "code",
        "colab": {
          "base_uri": "https://localhost:8080/",
          "height": 170
        },
        "outputId": "565e32c1-5dc9-4603-8dac-2f1d19133472"
      },
      "source": [
        "df_gridVeg_groundCover_intercepts <- \n",
        "  df_ground_point_intercept_fill %>%\n",
        "  left_join(df_survey_metadata, by = \"survey_ID\") %>% \n",
        "  left_join(df_ground_meta, by = \"intercept_ground_code\") %>% \n",
        "  select(survey_ID, year, survey_sequence, grid_point, intercept_ground_code, ground_group, intercepts_pct) %>% \n",
        "  glimpse()"
      ],
      "execution_count": null,
      "outputs": [
        {
          "output_type": "stream",
          "text": [
            "Rows: 22,392\n",
            "Columns: 7\n",
            "$ survey_ID             \u001b[3m\u001b[90m<chr>\u001b[39m\u001b[23m \"012C5FAD-2451-41B0-9E2F-432D1ECEB55C\", \"012C5F…\n",
            "$ year                  \u001b[3m\u001b[90m<int>\u001b[39m\u001b[23m 2016, 2016, 2016, 2016, 2016, 2016, 2016, 2016,…\n",
            "$ survey_sequence       \u001b[3m\u001b[90m<chr>\u001b[39m\u001b[23m \"2016\", \"2016\", \"2016\", \"2016\", \"2016\", \"2016\",…\n",
            "$ grid_point            \u001b[3m\u001b[90m<int>\u001b[39m\u001b[23m 285, 285, 285, 285, 285, 285, 285, 285, 285, 28…\n",
            "$ intercept_ground_code \u001b[3m\u001b[90m<chr>\u001b[39m\u001b[23m \"BG\", \"BV\", \"G\", \"L\", \"LIC\", \"M\", \"M/L\", \"OTHER…\n",
            "$ ground_group          \u001b[3m\u001b[90m<chr>\u001b[39m\u001b[23m \"inorganic\", \"living vegetation\", \"inorganic\", …\n",
            "$ intercepts_pct        \u001b[3m\u001b[90m<dbl>\u001b[39m\u001b[23m 15.5, 8.5, 8.5, 62.0, 0.0, 1.5, 0.0, 0.0, 1.5, …\n"
          ],
          "name": "stdout"
        }
      ]
    },
    {
      "cell_type": "markdown",
      "metadata": {
        "id": "2vBmVFNmXc11",
        "colab_type": "text"
      },
      "source": [
        "## QC\n",
        "* No rows contain missing data, and this makes sense since `complete()` was used to fill response variables.\n",
        "* Numeric variables appear correct in the summary"
      ]
    },
    {
      "cell_type": "code",
      "metadata": {
        "id": "pY1ZWbr1XQgQ",
        "colab_type": "code",
        "colab": {
          "base_uri": "https://localhost:8080/",
          "height": 78
        },
        "outputId": "39dd6c04-f04a-45ad-ff43-9abee8cad6a5"
      },
      "source": [
        "df_gridVeg_groundCover_intercepts[which(!complete.cases(df_gridVeg_groundCover_intercepts)), ]"
      ],
      "execution_count": null,
      "outputs": [
        {
          "output_type": "display_data",
          "data": {
            "text/plain": [
              "     survey_ID year survey_sequence grid_point intercept_ground_code\n",
              "     ground_group intercepts_pct"
            ],
            "text/latex": "A tibble: 0 × 7\n\\begin{tabular}{lllllll}\n survey\\_ID & year & survey\\_sequence & grid\\_point & intercept\\_ground\\_code & ground\\_group & intercepts\\_pct\\\\\n <chr> & <int> & <chr> & <int> & <chr> & <chr> & <dbl>\\\\\n\\hline\n\\end{tabular}\n",
            "text/markdown": "\nA tibble: 0 × 7\n\n| survey_ID &lt;chr&gt; | year &lt;int&gt; | survey_sequence &lt;chr&gt; | grid_point &lt;int&gt; | intercept_ground_code &lt;chr&gt; | ground_group &lt;chr&gt; | intercepts_pct &lt;dbl&gt; |\n|---|---|---|---|---|---|---|\n\n",
            "text/html": [
              "<table>\n",
              "<caption>A tibble: 0 × 7</caption>\n",
              "<thead>\n",
              "\t<tr><th scope=col>survey_ID</th><th scope=col>year</th><th scope=col>survey_sequence</th><th scope=col>grid_point</th><th scope=col>intercept_ground_code</th><th scope=col>ground_group</th><th scope=col>intercepts_pct</th></tr>\n",
              "\t<tr><th scope=col>&lt;chr&gt;</th><th scope=col>&lt;int&gt;</th><th scope=col>&lt;chr&gt;</th><th scope=col>&lt;int&gt;</th><th scope=col>&lt;chr&gt;</th><th scope=col>&lt;chr&gt;</th><th scope=col>&lt;dbl&gt;</th></tr>\n",
              "</thead>\n",
              "<tbody>\n",
              "</tbody>\n",
              "</table>\n"
            ]
          },
          "metadata": {
            "tags": []
          }
        }
      ]
    },
    {
      "cell_type": "code",
      "metadata": {
        "id": "h9cF-aNXXmnQ",
        "colab_type": "code",
        "colab": {
          "base_uri": "https://localhost:8080/",
          "height": 255
        },
        "outputId": "42f2022d-4110-442a-f2e8-ded0c3fba7fe"
      },
      "source": [
        "summary(df_gridVeg_groundCover_intercepts)"
      ],
      "execution_count": null,
      "outputs": [
        {
          "output_type": "display_data",
          "data": {
            "text/plain": [
              "  survey_ID              year      survey_sequence      grid_point   \n",
              " Length:22392       Min.   :2011   Length:22392       Min.   :  1.0  \n",
              " Class :character   1st Qu.:2011   Class :character   1st Qu.:136.0  \n",
              " Mode  :character   Median :2015   Mode  :character   Median :288.0  \n",
              "                    Mean   :2014                      Mean   :285.7  \n",
              "                    3rd Qu.:2016                      3rd Qu.:430.0  \n",
              "                    Max.   :2017                      Max.   :583.0  \n",
              " intercept_ground_code ground_group       intercepts_pct  \n",
              " Length:22392          Length:22392       Min.   : 0.000  \n",
              " Class :character      Class :character   1st Qu.: 0.000  \n",
              " Mode  :character      Mode  :character   Median : 0.000  \n",
              "                                          Mean   : 5.545  \n",
              "                                          3rd Qu.: 2.000  \n",
              "                                          Max.   :99.500  "
            ]
          },
          "metadata": {
            "tags": []
          }
        }
      ]
    },
    {
      "cell_type": "code",
      "metadata": {
        "id": "in9gvrrLYvC-",
        "colab_type": "code",
        "colab": {
          "base_uri": "https://localhost:8080/",
          "height": 456
        },
        "outputId": "d29f5821-39db-4113-8aa1-e41d2031c5fc"
      },
      "source": [
        "df_gridVeg_groundCover_intercepts %>% filter(survey_ID == 234)"
      ],
      "execution_count": null,
      "outputs": [
        {
          "output_type": "display_data",
          "data": {
            "text/plain": [
              "   survey_ID year survey_sequence grid_point intercept_ground_code\n",
              "1  234       2011 2011-12         48         BG                   \n",
              "2  234       2011 2011-12         48         BV                   \n",
              "3  234       2011 2011-12         48         G                    \n",
              "4  234       2011 2011-12         48         L                    \n",
              "5  234       2011 2011-12         48         LIC                  \n",
              "6  234       2011 2011-12         48         M                    \n",
              "7  234       2011 2011-12         48         M/L                  \n",
              "8  234       2011 2011-12         48         OTHER                \n",
              "9  234       2011 2011-12         48         R                    \n",
              "10 234       2011 2011-12         48         SC                   \n",
              "11 234       2011 2011-12         48         SD                   \n",
              "12 234       2011 2011-12         48         SE                   \n",
              "13 234       2011 2011-12         48         SH                   \n",
              "14 234       2011 2011-12         48         SU                   \n",
              "15 234       2011 2011-12         48         WDL                  \n",
              "16 234       2011 2011-12         48         WDS                  \n",
              "17 234       2011 2011-12         48         WDSTUMP              \n",
              "18 234       2011 2011-12         48         WDT                  \n",
              "   ground_group      intercepts_pct\n",
              "1  inorganic          6.5          \n",
              "2  living vegetation 19.5          \n",
              "3  inorganic         16.5          \n",
              "4  dead vegetation   41.5          \n",
              "5  living vegetation  0.0          \n",
              "6  living vegetation  0.0          \n",
              "7  living vegetation 12.0          \n",
              "8  inorganic          0.0          \n",
              "9  inorganic          3.0          \n",
              "10 dung               0.5          \n",
              "11 dung               0.0          \n",
              "12 dung               0.5          \n",
              "13 dung               0.0          \n",
              "14 dung               0.0          \n",
              "15 dead vegetation    0.0          \n",
              "16 dead vegetation    0.0          \n",
              "17 dead vegetation    0.0          \n",
              "18 dead vegetation    0.0          "
            ],
            "text/latex": "A tibble: 18 × 7\n\\begin{tabular}{lllllll}\n survey\\_ID & year & survey\\_sequence & grid\\_point & intercept\\_ground\\_code & ground\\_group & intercepts\\_pct\\\\\n <chr> & <int> & <chr> & <int> & <chr> & <chr> & <dbl>\\\\\n\\hline\n\t 234 & 2011 & 2011-12 & 48 & BG      & inorganic         &  6.5\\\\\n\t 234 & 2011 & 2011-12 & 48 & BV      & living vegetation & 19.5\\\\\n\t 234 & 2011 & 2011-12 & 48 & G       & inorganic         & 16.5\\\\\n\t 234 & 2011 & 2011-12 & 48 & L       & dead vegetation   & 41.5\\\\\n\t 234 & 2011 & 2011-12 & 48 & LIC     & living vegetation &  0.0\\\\\n\t 234 & 2011 & 2011-12 & 48 & M       & living vegetation &  0.0\\\\\n\t 234 & 2011 & 2011-12 & 48 & M/L     & living vegetation & 12.0\\\\\n\t 234 & 2011 & 2011-12 & 48 & OTHER   & inorganic         &  0.0\\\\\n\t 234 & 2011 & 2011-12 & 48 & R       & inorganic         &  3.0\\\\\n\t 234 & 2011 & 2011-12 & 48 & SC      & dung              &  0.5\\\\\n\t 234 & 2011 & 2011-12 & 48 & SD      & dung              &  0.0\\\\\n\t 234 & 2011 & 2011-12 & 48 & SE      & dung              &  0.5\\\\\n\t 234 & 2011 & 2011-12 & 48 & SH      & dung              &  0.0\\\\\n\t 234 & 2011 & 2011-12 & 48 & SU      & dung              &  0.0\\\\\n\t 234 & 2011 & 2011-12 & 48 & WDL     & dead vegetation   &  0.0\\\\\n\t 234 & 2011 & 2011-12 & 48 & WDS     & dead vegetation   &  0.0\\\\\n\t 234 & 2011 & 2011-12 & 48 & WDSTUMP & dead vegetation   &  0.0\\\\\n\t 234 & 2011 & 2011-12 & 48 & WDT     & dead vegetation   &  0.0\\\\\n\\end{tabular}\n",
            "text/markdown": "\nA tibble: 18 × 7\n\n| survey_ID &lt;chr&gt; | year &lt;int&gt; | survey_sequence &lt;chr&gt; | grid_point &lt;int&gt; | intercept_ground_code &lt;chr&gt; | ground_group &lt;chr&gt; | intercepts_pct &lt;dbl&gt; |\n|---|---|---|---|---|---|---|\n| 234 | 2011 | 2011-12 | 48 | BG      | inorganic         |  6.5 |\n| 234 | 2011 | 2011-12 | 48 | BV      | living vegetation | 19.5 |\n| 234 | 2011 | 2011-12 | 48 | G       | inorganic         | 16.5 |\n| 234 | 2011 | 2011-12 | 48 | L       | dead vegetation   | 41.5 |\n| 234 | 2011 | 2011-12 | 48 | LIC     | living vegetation |  0.0 |\n| 234 | 2011 | 2011-12 | 48 | M       | living vegetation |  0.0 |\n| 234 | 2011 | 2011-12 | 48 | M/L     | living vegetation | 12.0 |\n| 234 | 2011 | 2011-12 | 48 | OTHER   | inorganic         |  0.0 |\n| 234 | 2011 | 2011-12 | 48 | R       | inorganic         |  3.0 |\n| 234 | 2011 | 2011-12 | 48 | SC      | dung              |  0.5 |\n| 234 | 2011 | 2011-12 | 48 | SD      | dung              |  0.0 |\n| 234 | 2011 | 2011-12 | 48 | SE      | dung              |  0.5 |\n| 234 | 2011 | 2011-12 | 48 | SH      | dung              |  0.0 |\n| 234 | 2011 | 2011-12 | 48 | SU      | dung              |  0.0 |\n| 234 | 2011 | 2011-12 | 48 | WDL     | dead vegetation   |  0.0 |\n| 234 | 2011 | 2011-12 | 48 | WDS     | dead vegetation   |  0.0 |\n| 234 | 2011 | 2011-12 | 48 | WDSTUMP | dead vegetation   |  0.0 |\n| 234 | 2011 | 2011-12 | 48 | WDT     | dead vegetation   |  0.0 |\n\n",
            "text/html": [
              "<table>\n",
              "<caption>A tibble: 18 × 7</caption>\n",
              "<thead>\n",
              "\t<tr><th scope=col>survey_ID</th><th scope=col>year</th><th scope=col>survey_sequence</th><th scope=col>grid_point</th><th scope=col>intercept_ground_code</th><th scope=col>ground_group</th><th scope=col>intercepts_pct</th></tr>\n",
              "\t<tr><th scope=col>&lt;chr&gt;</th><th scope=col>&lt;int&gt;</th><th scope=col>&lt;chr&gt;</th><th scope=col>&lt;int&gt;</th><th scope=col>&lt;chr&gt;</th><th scope=col>&lt;chr&gt;</th><th scope=col>&lt;dbl&gt;</th></tr>\n",
              "</thead>\n",
              "<tbody>\n",
              "\t<tr><td>234</td><td>2011</td><td>2011-12</td><td>48</td><td>BG     </td><td>inorganic        </td><td> 6.5</td></tr>\n",
              "\t<tr><td>234</td><td>2011</td><td>2011-12</td><td>48</td><td>BV     </td><td>living vegetation</td><td>19.5</td></tr>\n",
              "\t<tr><td>234</td><td>2011</td><td>2011-12</td><td>48</td><td>G      </td><td>inorganic        </td><td>16.5</td></tr>\n",
              "\t<tr><td>234</td><td>2011</td><td>2011-12</td><td>48</td><td>L      </td><td>dead vegetation  </td><td>41.5</td></tr>\n",
              "\t<tr><td>234</td><td>2011</td><td>2011-12</td><td>48</td><td>LIC    </td><td>living vegetation</td><td> 0.0</td></tr>\n",
              "\t<tr><td>234</td><td>2011</td><td>2011-12</td><td>48</td><td>M      </td><td>living vegetation</td><td> 0.0</td></tr>\n",
              "\t<tr><td>234</td><td>2011</td><td>2011-12</td><td>48</td><td>M/L    </td><td>living vegetation</td><td>12.0</td></tr>\n",
              "\t<tr><td>234</td><td>2011</td><td>2011-12</td><td>48</td><td>OTHER  </td><td>inorganic        </td><td> 0.0</td></tr>\n",
              "\t<tr><td>234</td><td>2011</td><td>2011-12</td><td>48</td><td>R      </td><td>inorganic        </td><td> 3.0</td></tr>\n",
              "\t<tr><td>234</td><td>2011</td><td>2011-12</td><td>48</td><td>SC     </td><td>dung             </td><td> 0.5</td></tr>\n",
              "\t<tr><td>234</td><td>2011</td><td>2011-12</td><td>48</td><td>SD     </td><td>dung             </td><td> 0.0</td></tr>\n",
              "\t<tr><td>234</td><td>2011</td><td>2011-12</td><td>48</td><td>SE     </td><td>dung             </td><td> 0.5</td></tr>\n",
              "\t<tr><td>234</td><td>2011</td><td>2011-12</td><td>48</td><td>SH     </td><td>dung             </td><td> 0.0</td></tr>\n",
              "\t<tr><td>234</td><td>2011</td><td>2011-12</td><td>48</td><td>SU     </td><td>dung             </td><td> 0.0</td></tr>\n",
              "\t<tr><td>234</td><td>2011</td><td>2011-12</td><td>48</td><td>WDL    </td><td>dead vegetation  </td><td> 0.0</td></tr>\n",
              "\t<tr><td>234</td><td>2011</td><td>2011-12</td><td>48</td><td>WDS    </td><td>dead vegetation  </td><td> 0.0</td></tr>\n",
              "\t<tr><td>234</td><td>2011</td><td>2011-12</td><td>48</td><td>WDSTUMP</td><td>dead vegetation  </td><td> 0.0</td></tr>\n",
              "\t<tr><td>234</td><td>2011</td><td>2011-12</td><td>48</td><td>WDT    </td><td>dead vegetation  </td><td> 0.0</td></tr>\n",
              "</tbody>\n",
              "</table>\n"
            ]
          },
          "metadata": {
            "tags": []
          }
        }
      ]
    },
    {
      "cell_type": "markdown",
      "metadata": {
        "id": "w_7j_Z6uA5R-",
        "colab_type": "text"
      },
      "source": [
        "# Output"
      ]
    },
    {
      "cell_type": "code",
      "metadata": {
        "id": "QCohybyBAx6w",
        "colab_type": "code",
        "colab": {}
      },
      "source": [
        "write_csv(df_gridVeg_groundCover_intercepts, path = \"gridVeg_groundCover_intercepts_WRANGLE.csv\")"
      ],
      "execution_count": null,
      "outputs": []
    }
  ]
}