{
  "nbformat": 4,
  "nbformat_minor": 0,
  "metadata": {
    "colab": {
      "name": "yvp_plant_functional_groups-WRANGLE.ipynb",
      "provenance": [],
      "collapsed_sections": [],
      "toc_visible": true,
      "include_colab_link": true
    },
    "language_info": {
      "codemirror_mode": "r",
      "file_extension": ".r",
      "mimetype": "text/x-r-source",
      "name": "R",
      "pygments_lexer": "r",
      "version": "3.3.1"
    },
    "kernelspec": {
      "display_name": "R",
      "language": "R",
      "name": "ir"
    }
  },
  "cells": [
    {
      "cell_type": "markdown",
      "metadata": {
        "id": "view-in-github",
        "colab_type": "text"
      },
      "source": [
        "<a href=\"https://colab.research.google.com/github/samsoe/mpg_notebooks/blob/master/yvp_plant_functional_groups_WRANGLE.ipynb\" target=\"_parent\"><img src=\"https://colab.research.google.com/assets/colab-badge.svg\" alt=\"Open In Colab\"/></a>"
      ]
    },
    {
      "cell_type": "markdown",
      "metadata": {
        "id": "dn0f3TzegBcl",
        "colab_type": "text"
      },
      "source": [
        "# Documentation"
      ]
    },
    {
      "cell_type": "markdown",
      "metadata": {
        "id": "atjSKaTvgFap",
        "colab_type": "text"
      },
      "source": [
        "[Readme fixed plot vegetation data](https://docs.google.com/document/d/16-Aq8u9Rudd78fSzfjvpCXyQgE-BstC-d2PjYfmLtcw/edit?usp=sharing)"
      ]
    },
    {
      "cell_type": "markdown",
      "metadata": {
        "id": "BhOI1uU2Koum",
        "colab_type": "text"
      },
      "source": [
        "# Security"
      ]
    },
    {
      "cell_type": "markdown",
      "metadata": {
        "id": "hgB3r3wvA9Pn",
        "colab_type": "text"
      },
      "source": [
        "* The user must load a `json` file containing the BigQuery API key into the local directory `/content/...`\n",
        "* The user must have a Google Maps API key to enable mapping. \n",
        "   * CAUTION make sure the key is deleted from the current instance of the notebook before sharing"
      ]
    },
    {
      "cell_type": "markdown",
      "metadata": {
        "id": "MnG0ah7OA59c",
        "colab_type": "text"
      },
      "source": [
        "# Tools"
      ]
    },
    {
      "cell_type": "code",
      "metadata": {
        "id": "Y6y4EWeYpVBJ",
        "colab_type": "code",
        "colab": {
          "base_uri": "https://localhost:8080/",
          "height": 204
        },
        "outputId": "c9d05e14-795a-47a4-f782-3c23d513603f"
      },
      "source": [
        "library(tidyverse)"
      ],
      "execution_count": 1,
      "outputs": [
        {
          "output_type": "stream",
          "text": [
            "── \u001b[1mAttaching packages\u001b[22m ─────────────────────────────────────── tidyverse 1.3.0 ──\n",
            "\n",
            "\u001b[32m✔\u001b[39m \u001b[34mggplot2\u001b[39m 3.3.2     \u001b[32m✔\u001b[39m \u001b[34mpurrr  \u001b[39m 0.3.4\n",
            "\u001b[32m✔\u001b[39m \u001b[34mtibble \u001b[39m 3.0.2     \u001b[32m✔\u001b[39m \u001b[34mdplyr  \u001b[39m 1.0.0\n",
            "\u001b[32m✔\u001b[39m \u001b[34mtidyr  \u001b[39m 1.1.0     \u001b[32m✔\u001b[39m \u001b[34mstringr\u001b[39m 1.4.0\n",
            "\u001b[32m✔\u001b[39m \u001b[34mreadr  \u001b[39m 1.3.1     \u001b[32m✔\u001b[39m \u001b[34mforcats\u001b[39m 0.5.0\n",
            "\n",
            "── \u001b[1mConflicts\u001b[22m ────────────────────────────────────────── tidyverse_conflicts() ──\n",
            "\u001b[31m✖\u001b[39m \u001b[34mdplyr\u001b[39m::\u001b[32mfilter()\u001b[39m masks \u001b[34mstats\u001b[39m::filter()\n",
            "\u001b[31m✖\u001b[39m \u001b[34mdplyr\u001b[39m::\u001b[32mlag()\u001b[39m    masks \u001b[34mstats\u001b[39m::lag()\n",
            "\n"
          ],
          "name": "stderr"
        }
      ]
    },
    {
      "cell_type": "code",
      "metadata": {
        "id": "HlRwSk6zCM0w",
        "colab_type": "code",
        "colab": {
          "base_uri": "https://localhost:8080/",
          "height": 170
        },
        "outputId": "d55c72bd-e29b-409d-b5ff-85755f4fca36"
      },
      "source": [
        "library(lubridate)"
      ],
      "execution_count": 2,
      "outputs": [
        {
          "output_type": "stream",
          "text": [
            "\n",
            "Attaching package: ‘lubridate’\n",
            "\n",
            "\n",
            "The following objects are masked from ‘package:base’:\n",
            "\n",
            "    date, intersect, setdiff, union\n",
            "\n",
            "\n"
          ],
          "name": "stderr"
        }
      ]
    },
    {
      "cell_type": "markdown",
      "metadata": {
        "id": "eUw-It3JBBrQ",
        "colab_type": "text"
      },
      "source": [
        "* Remember that the file containing authorization keys for Big Query must be loaded into the virutual envrionment manually."
      ]
    },
    {
      "cell_type": "code",
      "metadata": {
        "id": "VxYkYhQTKouo",
        "colab_type": "code",
        "colab": {
          "base_uri": "https://localhost:8080/",
          "height": 119
        },
        "outputId": "a65e2099-0707-4c56-b131-41f3a3b9f275"
      },
      "source": [
        "install.packages(\"bigrquery\")\n",
        "library(bigrquery)"
      ],
      "execution_count": 3,
      "outputs": [
        {
          "output_type": "stream",
          "text": [
            "Installing package into ‘/usr/local/lib/R/site-library’\n",
            "(as ‘lib’ is unspecified)\n",
            "\n",
            "also installing the dependencies ‘bit’, ‘bit64’, ‘gargle’, ‘rapidjsonr’\n",
            "\n",
            "\n"
          ],
          "name": "stderr"
        }
      ]
    },
    {
      "cell_type": "markdown",
      "metadata": {
        "id": "H1I9aQ_SBH3n",
        "colab_type": "text"
      },
      "source": [
        "# Source"
      ]
    },
    {
      "cell_type": "markdown",
      "metadata": {
        "id": "Bfb7MHpGBJMO",
        "colab_type": "text"
      },
      "source": [
        "## Database Connection"
      ]
    },
    {
      "cell_type": "code",
      "metadata": {
        "id": "ihI70_BPKouq",
        "colab_type": "code",
        "colab": {}
      },
      "source": [
        "# BigQuery API Key\n",
        "bq_auth(path = \"/content/mpg-data-warehouse-api_key-master.json\")"
      ],
      "execution_count": 5,
      "outputs": []
    },
    {
      "cell_type": "code",
      "metadata": {
        "id": "8YxL8wHoBNxV",
        "colab_type": "code",
        "colab": {}
      },
      "source": [
        "Sys.setenv(BIGQUERY_TEST_PROJECT = \"mpg-data-warehouse\")"
      ],
      "execution_count": 6,
      "outputs": []
    },
    {
      "cell_type": "code",
      "metadata": {
        "id": "yevfizb5BQXm",
        "colab_type": "code",
        "colab": {}
      },
      "source": [
        "billing <- bq_test_project()"
      ],
      "execution_count": 7,
      "outputs": []
    },
    {
      "cell_type": "markdown",
      "metadata": {
        "id": "ERudBSncbzYR",
        "colab_type": "text"
      },
      "source": [
        "## Database Query"
      ]
    },
    {
      "cell_type": "markdown",
      "metadata": {
        "id": "JN4Z34yRp2-k",
        "colab_type": "text"
      },
      "source": [
        "### yvp_vegetation_cover\n"
      ]
    },
    {
      "cell_type": "code",
      "metadata": {
        "id": "26UqASAoB2p0",
        "colab_type": "code",
        "colab": {}
      },
      "source": [
        "sql_vegetation_cover <- \"SELECT *\n",
        "               FROM `mpg-data-warehouse.vegetation_fixed_plot_yvp.yvp_vegetation_cover`\""
      ],
      "execution_count": 49,
      "outputs": []
    },
    {
      "cell_type": "code",
      "metadata": {
        "id": "VSXOoJkcB3dn",
        "colab_type": "code",
        "colab": {}
      },
      "source": [
        "bq_vegetation_cover <- bq_project_query(billing, sql_vegetation_cover)"
      ],
      "execution_count": 50,
      "outputs": []
    },
    {
      "cell_type": "code",
      "metadata": {
        "id": "KpZnymzzB5Ms",
        "colab_type": "code",
        "colab": {}
      },
      "source": [
        "tb_vegetation_cover <- bq_table_download(bq_vegetation_cover)"
      ],
      "execution_count": 47,
      "outputs": []
    },
    {
      "cell_type": "code",
      "metadata": {
        "id": "VcoNMCO1B6gY",
        "colab_type": "code",
        "colab": {
          "base_uri": "https://localhost:8080/",
          "height": 204
        },
        "outputId": "b37846ca-4cc3-4ca4-9001-048649122c09"
      },
      "source": [
        "df_vegetation_cover <- as.data.frame(tb_vegetation_cover) %>% glimpse()"
      ],
      "execution_count": 95,
      "outputs": [
        {
          "output_type": "stream",
          "text": [
            "Rows: 21,682\n",
            "Columns: 9\n",
            "$ plot_code    \u001b[3m\u001b[90m<chr>\u001b[39m\u001b[23m \"YVP N7\", \"YVP N7\", \"YVP N7\", \"YVP N7\", \"YVP N7\", \"YVP N…\n",
            "$ plot_loc     \u001b[3m\u001b[90m<chr>\u001b[39m\u001b[23m \"N\", \"N\", \"N\", \"N\", \"N\", \"N\", \"N\", \"N\", \"N\", \"N\", \"N\", \"…\n",
            "$ plot_rep     \u001b[3m\u001b[90m<chr>\u001b[39m\u001b[23m \"NA\", \"NA\", \"NA\", \"NA\", \"NA\", \"NA\", \"NA\", \"NA\", \"NA\", \"N…\n",
            "$ plot_num     \u001b[3m\u001b[90m<int>\u001b[39m\u001b[23m 7, 7, 7, 7, 7, 7, 7, 7, 7, 7, 7, 7, 7, 7, 7, 7, 7, 7, 7,…\n",
            "$ date         \u001b[3m\u001b[90m<date>\u001b[39m\u001b[23m 2017-06-08, 2017-06-08, 2017-06-08, 2017-06-08, 2017-06…\n",
            "$ subplot      \u001b[3m\u001b[90m<int>\u001b[39m\u001b[23m 1, 1, 1, 1, 1, 1, 1, 1, 1, 1, 1, 1, 1, 1, 1, 1, 1, 1, 1,…\n",
            "$ species_key  \u001b[3m\u001b[90m<int>\u001b[39m\u001b[23m 82, 113, 153, 187, 233, 266, 286, 320, 389, 411, 437, 56…\n",
            "$ species_code \u001b[3m\u001b[90m<chr>\u001b[39m\u001b[23m \"BROTEC\", \"CARE_SP\", \"COLLIN\", \"DRAVER\", \"FESIDA\", \"HETV…\n",
            "$ cover_pct    \u001b[3m\u001b[90m<int>\u001b[39m\u001b[23m 4, 3, 5, 1, 3, 10, 4, 5, 4, 4, 10, 5, 10, 1, 5, 1, 2, 4,…\n"
          ],
          "name": "stdout"
        }
      ]
    },
    {
      "cell_type": "code",
      "metadata": {
        "id": "-WQX3GIJhr0u",
        "colab_type": "code",
        "colab": {}
      },
      "source": [
        ""
      ],
      "execution_count": null,
      "outputs": []
    },
    {
      "cell_type": "markdown",
      "metadata": {
        "id": "hwJ952Y2b8cN",
        "colab_type": "text"
      },
      "source": [
        "### vegetation_species_metadata"
      ]
    },
    {
      "cell_type": "code",
      "metadata": {
        "id": "FduLB8ijcBxf",
        "colab_type": "code",
        "colab": {}
      },
      "source": [
        "sql_species_metadata <- \"SELECT *\n",
        "                         FROM `mpg-data-warehouse.vegetation_species_metadata.vegetation_species_metadata`\""
      ],
      "execution_count": 52,
      "outputs": []
    },
    {
      "cell_type": "code",
      "metadata": {
        "id": "auKASEcKcSsO",
        "colab_type": "code",
        "colab": {}
      },
      "source": [
        "bq_species_metadata <- bq_project_query(billing, sql_species_metadata)"
      ],
      "execution_count": 53,
      "outputs": []
    },
    {
      "cell_type": "code",
      "metadata": {
        "id": "-31MHcnwcbty",
        "colab_type": "code",
        "colab": {}
      },
      "source": [
        "tb_species_metadata <- bq_table_download(bq_species_metadata)"
      ],
      "execution_count": 54,
      "outputs": []
    },
    {
      "cell_type": "code",
      "metadata": {
        "id": "9j9fCzwycbk1",
        "colab_type": "code",
        "colab": {
          "base_uri": "https://localhost:8080/",
          "height": 204
        },
        "outputId": "9aa46954-ac87-44e1-ca75-a10f6814d658"
      },
      "source": [
        "df_species_metadata <- as.data.frame(tb_species_metadata) %>% glimpse()"
      ],
      "execution_count": 107,
      "outputs": [
        {
          "output_type": "stream",
          "text": [
            "Rows: 754\n",
            "Columns: 9\n",
            "$ key_plant_species   \u001b[3m\u001b[90m<int>\u001b[39m\u001b[23m 360, 13, 26, 53, 738, 75, 76, 746, 83, 88, 86, 87…\n",
            "$ key_plant_code      \u001b[3m\u001b[90m<chr>\u001b[39m\u001b[23m \"NV\", \"AGRSCA\", \"ANDGER\", \"ARIPUR\", \"BOUCUR\", \"BO…\n",
            "$ plant_name_sci      \u001b[3m\u001b[90m<chr>\u001b[39m\u001b[23m \"no vegetation\", \"Agrostis scabra\", \"Andropogon g…\n",
            "$ plant_name_syn      \u001b[3m\u001b[90m<chr>\u001b[39m\u001b[23m NA, NA, NA, \"Aristida longiseta\", NA, NA, NA, NA,…\n",
            "$ plant_name_common   \u001b[3m\u001b[90m<chr>\u001b[39m\u001b[23m \"no vegetation\", \"rough bentgrass\", \"big bluestem…\n",
            "$ plant_name_family   \u001b[3m\u001b[90m<chr>\u001b[39m\u001b[23m \"None\", \"Poaceae\", \"Poaceae\", \"Poaceae\", \"Poaceae…\n",
            "$ plant_native_status \u001b[3m\u001b[90m<chr>\u001b[39m\u001b[23m \"none\", \"native\", \"native\", \"native\", \"native\", \"…\n",
            "$ plant_life_cycle    \u001b[3m\u001b[90m<chr>\u001b[39m\u001b[23m \"unknown\", \"perennial\", \"perennial\", \"perennial\",…\n",
            "$ plant_life_form     \u001b[3m\u001b[90m<chr>\u001b[39m\u001b[23m \"none\", \"graminoid\", \"graminoid\", \"graminoid\", \"g…\n"
          ],
          "name": "stdout"
        }
      ]
    },
    {
      "cell_type": "markdown",
      "metadata": {
        "id": "bA9KX97-SkOD",
        "colab_type": "text"
      },
      "source": [
        "### location_position_classification"
      ]
    },
    {
      "cell_type": "code",
      "metadata": {
        "id": "aLY5ufkISp3c",
        "colab_type": "code",
        "colab": {}
      },
      "source": [
        "sql_position_classification <- \"\n",
        "SELECT \n",
        "  grid_point,\n",
        "  aspect_mean_deg,\n",
        "  elevation_mean_m,\n",
        "  slope_mean_deg,\n",
        "  cover_type_2016_gridVeg,\n",
        "  type3_vegetation_indicators,\n",
        "  type4_indicators_history\n",
        "FROM\n",
        "  `mpg-data-warehouse.grid_point_summaries.location_position_classification`\n",
        "\""
      ],
      "execution_count": 57,
      "outputs": []
    },
    {
      "cell_type": "code",
      "metadata": {
        "id": "Q-O2jGa8TNl5",
        "colab_type": "code",
        "colab": {}
      },
      "source": [
        "bq_position_classification <- bq_project_query(billing, sql_position_classification)"
      ],
      "execution_count": 58,
      "outputs": []
    },
    {
      "cell_type": "code",
      "metadata": {
        "id": "dU4_yClpTNjc",
        "colab_type": "code",
        "colab": {}
      },
      "source": [
        "tb_position_classification <- bq_table_download(bq_position_classification)"
      ],
      "execution_count": 59,
      "outputs": []
    },
    {
      "cell_type": "code",
      "metadata": {
        "id": "nCY1z5crTNgX",
        "colab_type": "code",
        "colab": {
          "base_uri": "https://localhost:8080/",
          "height": 170
        },
        "outputId": "14f23faa-99b6-481f-dce1-9c41f6f32ea5"
      },
      "source": [
        "df_position_classification <- as.data.frame(tb_position_classification) %>% glimpse()"
      ],
      "execution_count": 60,
      "outputs": [
        {
          "output_type": "stream",
          "text": [
            "Rows: 582\n",
            "Columns: 7\n",
            "$ grid_point                  \u001b[3m\u001b[90m<int>\u001b[39m\u001b[23m 1, 2, 3, 4, 5, 6, 7, 8, 9, 10, 11, 12, 13…\n",
            "$ aspect_mean_deg             \u001b[3m\u001b[90m<dbl>\u001b[39m\u001b[23m 334.7050, 45.3030, 221.3340, 290.4890, 28…\n",
            "$ elevation_mean_m            \u001b[3m\u001b[90m<dbl>\u001b[39m\u001b[23m 1395.64, 1456.09, 1126.90, 1166.33, 1179.…\n",
            "$ slope_mean_deg              \u001b[3m\u001b[90m<dbl>\u001b[39m\u001b[23m 28.44230, 12.22630, 4.25130, 2.68361, 4.2…\n",
            "$ cover_type_2016_gridVeg     \u001b[3m\u001b[90m<chr>\u001b[39m\u001b[23m \"woodland/forest\", \"non-irrigated grassla…\n",
            "$ type3_vegetation_indicators \u001b[3m\u001b[90m<chr>\u001b[39m\u001b[23m \"mixed canopy conifer\", \"uncultivated gra…\n",
            "$ type4_indicators_history    \u001b[3m\u001b[90m<chr>\u001b[39m\u001b[23m \"mixed canopy conifer\", \"uncultivated gra…\n"
          ],
          "name": "stdout"
        }
      ]
    },
    {
      "cell_type": "markdown",
      "metadata": {
        "id": "dZaBmigXX963",
        "colab_type": "text"
      },
      "source": [
        "# Wrangle"
      ]
    },
    {
      "cell_type": "markdown",
      "metadata": {
        "id": "EXkNi6CtdtjH",
        "colab_type": "text"
      },
      "source": [
        "## Filter"
      ]
    },
    {
      "cell_type": "code",
      "metadata": {
        "id": "gCXdoS2j5Hdz",
        "colab_type": "code",
        "colab": {
          "base_uri": "https://localhost:8080/",
          "height": 99
        },
        "outputId": "da6e2249-ecda-4e8e-c985-a216bdb97ceb"
      },
      "source": [
        "# view \"NV\"\n",
        "df_species_metadata %>%\n",
        "  filter(key_plant_code == \"NV\")"
      ],
      "execution_count": 108,
      "outputs": [
        {
          "output_type": "display_data",
          "data": {
            "text/plain": [
              "  key_plant_species key_plant_code plant_name_sci plant_name_syn\n",
              "1 360               NV             no vegetation  NA            \n",
              "  plant_name_common plant_name_family plant_native_status plant_life_cycle\n",
              "1 no vegetation     None              none                unknown         \n",
              "  plant_life_form\n",
              "1 none           "
            ],
            "text/latex": "A data.frame: 1 × 9\n\\begin{tabular}{lllllllll}\n key\\_plant\\_species & key\\_plant\\_code & plant\\_name\\_sci & plant\\_name\\_syn & plant\\_name\\_common & plant\\_name\\_family & plant\\_native\\_status & plant\\_life\\_cycle & plant\\_life\\_form\\\\\n <int> & <chr> & <chr> & <chr> & <chr> & <chr> & <chr> & <chr> & <chr>\\\\\n\\hline\n\t 360 & NV & no vegetation & NA & no vegetation & None & none & unknown & none\\\\\n\\end{tabular}\n",
            "text/markdown": "\nA data.frame: 1 × 9\n\n| key_plant_species &lt;int&gt; | key_plant_code &lt;chr&gt; | plant_name_sci &lt;chr&gt; | plant_name_syn &lt;chr&gt; | plant_name_common &lt;chr&gt; | plant_name_family &lt;chr&gt; | plant_native_status &lt;chr&gt; | plant_life_cycle &lt;chr&gt; | plant_life_form &lt;chr&gt; |\n|---|---|---|---|---|---|---|---|---|\n| 360 | NV | no vegetation | NA | no vegetation | None | none | unknown | none |\n\n",
            "text/html": [
              "<table>\n",
              "<caption>A data.frame: 1 × 9</caption>\n",
              "<thead>\n",
              "\t<tr><th scope=col>key_plant_species</th><th scope=col>key_plant_code</th><th scope=col>plant_name_sci</th><th scope=col>plant_name_syn</th><th scope=col>plant_name_common</th><th scope=col>plant_name_family</th><th scope=col>plant_native_status</th><th scope=col>plant_life_cycle</th><th scope=col>plant_life_form</th></tr>\n",
              "\t<tr><th scope=col>&lt;int&gt;</th><th scope=col>&lt;chr&gt;</th><th scope=col>&lt;chr&gt;</th><th scope=col>&lt;chr&gt;</th><th scope=col>&lt;chr&gt;</th><th scope=col>&lt;chr&gt;</th><th scope=col>&lt;chr&gt;</th><th scope=col>&lt;chr&gt;</th><th scope=col>&lt;chr&gt;</th></tr>\n",
              "</thead>\n",
              "<tbody>\n",
              "\t<tr><td>360</td><td>NV</td><td>no vegetation</td><td>NA</td><td>no vegetation</td><td>None</td><td>none</td><td>unknown</td><td>none</td></tr>\n",
              "</tbody>\n",
              "</table>\n"
            ]
          },
          "metadata": {
            "tags": []
          }
        }
      ]
    },
    {
      "cell_type": "code",
      "metadata": {
        "id": "9ys_bQIjdsu7",
        "colab_type": "code",
        "colab": {}
      },
      "source": [
        "# remove \"NV\"\n",
        "df_species_metadata <- df_species_metadata %>%\n",
        "  filter(key_plant_code != \"NV\")"
      ],
      "execution_count": 61,
      "outputs": []
    },
    {
      "cell_type": "code",
      "metadata": {
        "id": "_P4iCvMD5SxR",
        "colab_type": "code",
        "colab": {
          "base_uri": "https://localhost:8080/",
          "height": 99
        },
        "outputId": "389fe982-22ff-436e-af14-3e933f836547"
      },
      "source": [
        "# view \"unknown\"\n",
        "df_species_metadata %>%\n",
        "  filter(plant_life_form == \"unknown\")"
      ],
      "execution_count": 109,
      "outputs": [
        {
          "output_type": "display_data",
          "data": {
            "text/plain": [
              "  key_plant_species key_plant_code plant_name_sci plant_name_syn\n",
              "1 784               UNKN_SP        Unknown        NA            \n",
              "  plant_name_common plant_name_family plant_native_status plant_life_cycle\n",
              "1 unknown           unknown           unknown             unknown         \n",
              "  plant_life_form\n",
              "1 unknown        "
            ],
            "text/latex": "A data.frame: 1 × 9\n\\begin{tabular}{lllllllll}\n key\\_plant\\_species & key\\_plant\\_code & plant\\_name\\_sci & plant\\_name\\_syn & plant\\_name\\_common & plant\\_name\\_family & plant\\_native\\_status & plant\\_life\\_cycle & plant\\_life\\_form\\\\\n <int> & <chr> & <chr> & <chr> & <chr> & <chr> & <chr> & <chr> & <chr>\\\\\n\\hline\n\t 784 & UNKN\\_SP & Unknown & NA & unknown & unknown & unknown & unknown & unknown\\\\\n\\end{tabular}\n",
            "text/markdown": "\nA data.frame: 1 × 9\n\n| key_plant_species &lt;int&gt; | key_plant_code &lt;chr&gt; | plant_name_sci &lt;chr&gt; | plant_name_syn &lt;chr&gt; | plant_name_common &lt;chr&gt; | plant_name_family &lt;chr&gt; | plant_native_status &lt;chr&gt; | plant_life_cycle &lt;chr&gt; | plant_life_form &lt;chr&gt; |\n|---|---|---|---|---|---|---|---|---|\n| 784 | UNKN_SP | Unknown | NA | unknown | unknown | unknown | unknown | unknown |\n\n",
            "text/html": [
              "<table>\n",
              "<caption>A data.frame: 1 × 9</caption>\n",
              "<thead>\n",
              "\t<tr><th scope=col>key_plant_species</th><th scope=col>key_plant_code</th><th scope=col>plant_name_sci</th><th scope=col>plant_name_syn</th><th scope=col>plant_name_common</th><th scope=col>plant_name_family</th><th scope=col>plant_native_status</th><th scope=col>plant_life_cycle</th><th scope=col>plant_life_form</th></tr>\n",
              "\t<tr><th scope=col>&lt;int&gt;</th><th scope=col>&lt;chr&gt;</th><th scope=col>&lt;chr&gt;</th><th scope=col>&lt;chr&gt;</th><th scope=col>&lt;chr&gt;</th><th scope=col>&lt;chr&gt;</th><th scope=col>&lt;chr&gt;</th><th scope=col>&lt;chr&gt;</th><th scope=col>&lt;chr&gt;</th></tr>\n",
              "</thead>\n",
              "<tbody>\n",
              "\t<tr><td>784</td><td>UNKN_SP</td><td>Unknown</td><td>NA</td><td>unknown</td><td>unknown</td><td>unknown</td><td>unknown</td><td>unknown</td></tr>\n",
              "</tbody>\n",
              "</table>\n"
            ]
          },
          "metadata": {
            "tags": []
          }
        }
      ]
    },
    {
      "cell_type": "code",
      "metadata": {
        "id": "11mbVN_beet7",
        "colab_type": "code",
        "colab": {}
      },
      "source": [
        "# remove single \"unknown\" row\n",
        "df_species_metadata <- df_species_metadata %>%\n",
        "  filter(plant_life_form != \"unknown\")"
      ],
      "execution_count": 62,
      "outputs": []
    },
    {
      "cell_type": "markdown",
      "metadata": {
        "id": "sKacrvuvBhid",
        "colab_type": "text"
      },
      "source": [
        "## Create 'year'"
      ]
    },
    {
      "cell_type": "code",
      "metadata": {
        "id": "1XyTjWU9BhSp",
        "colab_type": "code",
        "colab": {}
      },
      "source": [
        "df_vegetation_cover_year <- df_vegetation_cover %>%\n",
        "  mutate(year = year(date))"
      ],
      "execution_count": 110,
      "outputs": []
    },
    {
      "cell_type": "markdown",
      "metadata": {
        "id": "GgQWKHXfRE5P",
        "colab_type": "text"
      },
      "source": [
        "## Join"
      ]
    },
    {
      "cell_type": "markdown",
      "metadata": {
        "id": "KfK6Ij_KGbuY",
        "colab_type": "text"
      },
      "source": [
        "### vegetation_species_metadata"
      ]
    },
    {
      "cell_type": "code",
      "metadata": {
        "id": "H2gi2S1tQM6b",
        "colab_type": "code",
        "colab": {
          "base_uri": "https://localhost:8080/",
          "height": 357
        },
        "outputId": "49044da7-7df2-44b4-f18e-8933ff473c37"
      },
      "source": [
        "# vegetation_cover and species_metadata\n",
        "df_join <- df_vegetation_cover_year %>%\n",
        "  left_join(df_species_metadata, by = c(\"species_key\" = \"key_plant_species\")) %>% glimpse()"
      ],
      "execution_count": 135,
      "outputs": [
        {
          "output_type": "stream",
          "text": [
            "Rows: 21,682\n",
            "Columns: 18\n",
            "$ plot_code           \u001b[3m\u001b[90m<chr>\u001b[39m\u001b[23m \"YVP N7\", \"YVP N7\", \"YVP N7\", \"YVP N7\", \"YVP N7\",…\n",
            "$ plot_loc            \u001b[3m\u001b[90m<chr>\u001b[39m\u001b[23m \"N\", \"N\", \"N\", \"N\", \"N\", \"N\", \"N\", \"N\", \"N\", \"N\",…\n",
            "$ plot_rep            \u001b[3m\u001b[90m<chr>\u001b[39m\u001b[23m \"NA\", \"NA\", \"NA\", \"NA\", \"NA\", \"NA\", \"NA\", \"NA\", \"…\n",
            "$ plot_num            \u001b[3m\u001b[90m<int>\u001b[39m\u001b[23m 7, 7, 7, 7, 7, 7, 7, 7, 7, 7, 7, 7, 7, 7, 7, 7, 7…\n",
            "$ date                \u001b[3m\u001b[90m<date>\u001b[39m\u001b[23m 2017-06-08, 2017-06-08, 2017-06-08, 2017-06-08, …\n",
            "$ subplot             \u001b[3m\u001b[90m<int>\u001b[39m\u001b[23m 1, 1, 1, 1, 1, 1, 1, 1, 1, 1, 1, 1, 1, 1, 1, 1, 1…\n",
            "$ species_key         \u001b[3m\u001b[90m<int>\u001b[39m\u001b[23m 82, 113, 153, 187, 233, 266, 286, 320, 389, 411, …\n",
            "$ species_code        \u001b[3m\u001b[90m<chr>\u001b[39m\u001b[23m \"BROTEC\", \"CARE_SP\", \"COLLIN\", \"DRAVER\", \"FESIDA\"…\n",
            "$ cover_pct           \u001b[3m\u001b[90m<int>\u001b[39m\u001b[23m 4, 3, 5, 1, 3, 10, 4, 5, 4, 4, 10, 5, 10, 1, 5, 1…\n",
            "$ year                \u001b[3m\u001b[90m<dbl>\u001b[39m\u001b[23m 2017, 2017, 2017, 2017, 2017, 2017, 2017, 2017, 2…\n",
            "$ key_plant_code      \u001b[3m\u001b[90m<chr>\u001b[39m\u001b[23m \"BROTEC\", \"CARE_SP\", \"COLLIN\", \"DRAVER\", \"FESIDA\"…\n",
            "$ plant_name_sci      \u001b[3m\u001b[90m<chr>\u001b[39m\u001b[23m \"Bromus tectorum\", \"Carex spp.\", \"Collomia linear…\n",
            "$ plant_name_syn      \u001b[3m\u001b[90m<chr>\u001b[39m\u001b[23m NA, NA, NA, NA, NA, NA, NA, NA, NA, \"Poa sandberg…\n",
            "$ plant_name_common   \u001b[3m\u001b[90m<chr>\u001b[39m\u001b[23m \"cheatgrass\", \"sedges\", \"narrow-leaved collomia\",…\n",
            "$ plant_name_family   \u001b[3m\u001b[90m<chr>\u001b[39m\u001b[23m \"Poaceae\", \"Cyperaceae\", \"Polemoniaceae\", \"Brassi…\n",
            "$ plant_native_status \u001b[3m\u001b[90m<chr>\u001b[39m\u001b[23m \"nonnative\", \"native\", \"native\", \"nonnative\", \"na…\n",
            "$ plant_life_cycle    \u001b[3m\u001b[90m<chr>\u001b[39m\u001b[23m \"annual\", \"perennial\", \"annual\", \"annual\", \"peren…\n",
            "$ plant_life_form     \u001b[3m\u001b[90m<chr>\u001b[39m\u001b[23m \"graminoid\", \"graminoid\", \"forb\", \"forb\", \"gramin…\n"
          ],
          "name": "stdout"
        }
      ]
    },
    {
      "cell_type": "markdown",
      "metadata": {
        "id": "ZKpQ4XhxGoKX",
        "colab_type": "text"
      },
      "source": [
        "## Recode plant_life_cycle"
      ]
    },
    {
      "cell_type": "code",
      "metadata": {
        "id": "zerc8yRCQMzr",
        "colab_type": "code",
        "colab": {
          "base_uri": "https://localhost:8080/",
          "height": 357
        },
        "outputId": "04631448-a11d-466f-e6b2-1828788cc44f"
      },
      "source": [
        "# recode the levels of plant_life_cycle to simplify them\n",
        "df_recode_levels <- df_join %>%\n",
        "  mutate(plant_life_cycle = ifelse(plant_life_cycle == \"biennial perennial\" |\n",
        "                                   plant_life_cycle == \"annual perennial\" |\n",
        "                                   plant_life_cycle == \"annual biennial perennial\" |\n",
        "                                   plant_life_cycle == \"annual biennial\"\n",
        "                                   , \"multiple\", plant_life_cycle)) %>% glimpse()"
      ],
      "execution_count": 136,
      "outputs": [
        {
          "output_type": "stream",
          "text": [
            "Rows: 21,682\n",
            "Columns: 18\n",
            "$ plot_code           \u001b[3m\u001b[90m<chr>\u001b[39m\u001b[23m \"YVP N7\", \"YVP N7\", \"YVP N7\", \"YVP N7\", \"YVP N7\",…\n",
            "$ plot_loc            \u001b[3m\u001b[90m<chr>\u001b[39m\u001b[23m \"N\", \"N\", \"N\", \"N\", \"N\", \"N\", \"N\", \"N\", \"N\", \"N\",…\n",
            "$ plot_rep            \u001b[3m\u001b[90m<chr>\u001b[39m\u001b[23m \"NA\", \"NA\", \"NA\", \"NA\", \"NA\", \"NA\", \"NA\", \"NA\", \"…\n",
            "$ plot_num            \u001b[3m\u001b[90m<int>\u001b[39m\u001b[23m 7, 7, 7, 7, 7, 7, 7, 7, 7, 7, 7, 7, 7, 7, 7, 7, 7…\n",
            "$ date                \u001b[3m\u001b[90m<date>\u001b[39m\u001b[23m 2017-06-08, 2017-06-08, 2017-06-08, 2017-06-08, …\n",
            "$ subplot             \u001b[3m\u001b[90m<int>\u001b[39m\u001b[23m 1, 1, 1, 1, 1, 1, 1, 1, 1, 1, 1, 1, 1, 1, 1, 1, 1…\n",
            "$ species_key         \u001b[3m\u001b[90m<int>\u001b[39m\u001b[23m 82, 113, 153, 187, 233, 266, 286, 320, 389, 411, …\n",
            "$ species_code        \u001b[3m\u001b[90m<chr>\u001b[39m\u001b[23m \"BROTEC\", \"CARE_SP\", \"COLLIN\", \"DRAVER\", \"FESIDA\"…\n",
            "$ cover_pct           \u001b[3m\u001b[90m<int>\u001b[39m\u001b[23m 4, 3, 5, 1, 3, 10, 4, 5, 4, 4, 10, 5, 10, 1, 5, 1…\n",
            "$ year                \u001b[3m\u001b[90m<dbl>\u001b[39m\u001b[23m 2017, 2017, 2017, 2017, 2017, 2017, 2017, 2017, 2…\n",
            "$ key_plant_code      \u001b[3m\u001b[90m<chr>\u001b[39m\u001b[23m \"BROTEC\", \"CARE_SP\", \"COLLIN\", \"DRAVER\", \"FESIDA\"…\n",
            "$ plant_name_sci      \u001b[3m\u001b[90m<chr>\u001b[39m\u001b[23m \"Bromus tectorum\", \"Carex spp.\", \"Collomia linear…\n",
            "$ plant_name_syn      \u001b[3m\u001b[90m<chr>\u001b[39m\u001b[23m NA, NA, NA, NA, NA, NA, NA, NA, NA, \"Poa sandberg…\n",
            "$ plant_name_common   \u001b[3m\u001b[90m<chr>\u001b[39m\u001b[23m \"cheatgrass\", \"sedges\", \"narrow-leaved collomia\",…\n",
            "$ plant_name_family   \u001b[3m\u001b[90m<chr>\u001b[39m\u001b[23m \"Poaceae\", \"Cyperaceae\", \"Polemoniaceae\", \"Brassi…\n",
            "$ plant_native_status \u001b[3m\u001b[90m<chr>\u001b[39m\u001b[23m \"nonnative\", \"native\", \"native\", \"nonnative\", \"na…\n",
            "$ plant_life_cycle    \u001b[3m\u001b[90m<chr>\u001b[39m\u001b[23m \"annual\", \"perennial\", \"annual\", \"annual\", \"peren…\n",
            "$ plant_life_form     \u001b[3m\u001b[90m<chr>\u001b[39m\u001b[23m \"graminoid\", \"graminoid\", \"forb\", \"forb\", \"gramin…\n"
          ],
          "name": "stdout"
        }
      ]
    },
    {
      "cell_type": "code",
      "metadata": {
        "id": "47AdLxHykSO9",
        "colab_type": "code",
        "colab": {
          "base_uri": "https://localhost:8080/",
          "height": 540
        },
        "outputId": "3794f134-cb21-401e-bfa3-d13fcd49ef91"
      },
      "source": [
        "df_recode_levels %>%\n",
        "  # mutate(survey_code = paste(plot_code, date)) %>%\n",
        "  distinct(plant_native_status, plant_life_cycle, plant_life_form) %>%\n",
        "  arrange(plant_native_status, plant_life_cycle, plant_life_form)"
      ],
      "execution_count": 200,
      "outputs": [
        {
          "output_type": "display_data",
          "data": {
            "text/plain": [
              "   plant_native_status plant_life_cycle plant_life_form\n",
              "1  native              annual           forb           \n",
              "2  native              annual           graminoid      \n",
              "3  native              biennial         forb           \n",
              "4  native              multiple         forb           \n",
              "5  native              perennial        forb           \n",
              "6  native              perennial        graminoid      \n",
              "7  native              perennial        shrub          \n",
              "8  native              perennial        tree           \n",
              "9  native              unknown          forb           \n",
              "10 nonnative           annual           forb           \n",
              "11 nonnative           annual           graminoid      \n",
              "12 nonnative           biennial         forb           \n",
              "13 nonnative           multiple         forb           \n",
              "14 nonnative           perennial        forb           \n",
              "15 nonnative           perennial        graminoid      \n",
              "16 nonnative           unknown          graminoid      \n",
              "17 unknown             annual           forb           \n",
              "18 unknown             perennial        forb           \n",
              "19 unknown             perennial        graminoid      \n",
              "20 unknown             unknown          forb           \n",
              "21 unknown             unknown          graminoid      \n",
              "22 unknown             unknown          unknown        "
            ],
            "text/latex": "A data.frame: 22 × 3\n\\begin{tabular}{lll}\n plant\\_native\\_status & plant\\_life\\_cycle & plant\\_life\\_form\\\\\n <chr> & <chr> & <chr>\\\\\n\\hline\n\t native    & annual    & forb     \\\\\n\t native    & annual    & graminoid\\\\\n\t native    & biennial  & forb     \\\\\n\t native    & multiple  & forb     \\\\\n\t native    & perennial & forb     \\\\\n\t native    & perennial & graminoid\\\\\n\t native    & perennial & shrub    \\\\\n\t native    & perennial & tree     \\\\\n\t native    & unknown   & forb     \\\\\n\t nonnative & annual    & forb     \\\\\n\t nonnative & annual    & graminoid\\\\\n\t nonnative & biennial  & forb     \\\\\n\t nonnative & multiple  & forb     \\\\\n\t nonnative & perennial & forb     \\\\\n\t nonnative & perennial & graminoid\\\\\n\t nonnative & unknown   & graminoid\\\\\n\t unknown   & annual    & forb     \\\\\n\t unknown   & perennial & forb     \\\\\n\t unknown   & perennial & graminoid\\\\\n\t unknown   & unknown   & forb     \\\\\n\t unknown   & unknown   & graminoid\\\\\n\t unknown   & unknown   & unknown  \\\\\n\\end{tabular}\n",
            "text/markdown": "\nA data.frame: 22 × 3\n\n| plant_native_status &lt;chr&gt; | plant_life_cycle &lt;chr&gt; | plant_life_form &lt;chr&gt; |\n|---|---|---|\n| native    | annual    | forb      |\n| native    | annual    | graminoid |\n| native    | biennial  | forb      |\n| native    | multiple  | forb      |\n| native    | perennial | forb      |\n| native    | perennial | graminoid |\n| native    | perennial | shrub     |\n| native    | perennial | tree      |\n| native    | unknown   | forb      |\n| nonnative | annual    | forb      |\n| nonnative | annual    | graminoid |\n| nonnative | biennial  | forb      |\n| nonnative | multiple  | forb      |\n| nonnative | perennial | forb      |\n| nonnative | perennial | graminoid |\n| nonnative | unknown   | graminoid |\n| unknown   | annual    | forb      |\n| unknown   | perennial | forb      |\n| unknown   | perennial | graminoid |\n| unknown   | unknown   | forb      |\n| unknown   | unknown   | graminoid |\n| unknown   | unknown   | unknown   |\n\n",
            "text/html": [
              "<table>\n",
              "<caption>A data.frame: 22 × 3</caption>\n",
              "<thead>\n",
              "\t<tr><th scope=col>plant_native_status</th><th scope=col>plant_life_cycle</th><th scope=col>plant_life_form</th></tr>\n",
              "\t<tr><th scope=col>&lt;chr&gt;</th><th scope=col>&lt;chr&gt;</th><th scope=col>&lt;chr&gt;</th></tr>\n",
              "</thead>\n",
              "<tbody>\n",
              "\t<tr><td>native   </td><td>annual   </td><td>forb     </td></tr>\n",
              "\t<tr><td>native   </td><td>annual   </td><td>graminoid</td></tr>\n",
              "\t<tr><td>native   </td><td>biennial </td><td>forb     </td></tr>\n",
              "\t<tr><td>native   </td><td>multiple </td><td>forb     </td></tr>\n",
              "\t<tr><td>native   </td><td>perennial</td><td>forb     </td></tr>\n",
              "\t<tr><td>native   </td><td>perennial</td><td>graminoid</td></tr>\n",
              "\t<tr><td>native   </td><td>perennial</td><td>shrub    </td></tr>\n",
              "\t<tr><td>native   </td><td>perennial</td><td>tree     </td></tr>\n",
              "\t<tr><td>native   </td><td>unknown  </td><td>forb     </td></tr>\n",
              "\t<tr><td>nonnative</td><td>annual   </td><td>forb     </td></tr>\n",
              "\t<tr><td>nonnative</td><td>annual   </td><td>graminoid</td></tr>\n",
              "\t<tr><td>nonnative</td><td>biennial </td><td>forb     </td></tr>\n",
              "\t<tr><td>nonnative</td><td>multiple </td><td>forb     </td></tr>\n",
              "\t<tr><td>nonnative</td><td>perennial</td><td>forb     </td></tr>\n",
              "\t<tr><td>nonnative</td><td>perennial</td><td>graminoid</td></tr>\n",
              "\t<tr><td>nonnative</td><td>unknown  </td><td>graminoid</td></tr>\n",
              "\t<tr><td>unknown  </td><td>annual   </td><td>forb     </td></tr>\n",
              "\t<tr><td>unknown  </td><td>perennial</td><td>forb     </td></tr>\n",
              "\t<tr><td>unknown  </td><td>perennial</td><td>graminoid</td></tr>\n",
              "\t<tr><td>unknown  </td><td>unknown  </td><td>forb     </td></tr>\n",
              "\t<tr><td>unknown  </td><td>unknown  </td><td>graminoid</td></tr>\n",
              "\t<tr><td>unknown  </td><td>unknown  </td><td>unknown  </td></tr>\n",
              "</tbody>\n",
              "</table>\n"
            ]
          },
          "metadata": {
            "tags": []
          }
        }
      ]
    },
    {
      "cell_type": "markdown",
      "metadata": {
        "id": "j7JCb0Di99gi",
        "colab_type": "text"
      },
      "source": [
        "## Create 'survey_code'"
      ]
    },
    {
      "cell_type": "code",
      "metadata": {
        "id": "iKevxnr9WFRI",
        "colab_type": "code",
        "colab": {
          "base_uri": "https://localhost:8080/",
          "height": 374
        },
        "outputId": "cd1a6a81-c7a6-4a65-dd4c-75d171c15653"
      },
      "source": [
        "# create survey_code variable\n",
        "df_survey_code <- df_recode_levels %>%\n",
        "  mutate(survey_code = paste(plot_code, date)) %>% glimpse()"
      ],
      "execution_count": 138,
      "outputs": [
        {
          "output_type": "stream",
          "text": [
            "Rows: 21,682\n",
            "Columns: 19\n",
            "$ plot_code           \u001b[3m\u001b[90m<chr>\u001b[39m\u001b[23m \"YVP N7\", \"YVP N7\", \"YVP N7\", \"YVP N7\", \"YVP N7\",…\n",
            "$ plot_loc            \u001b[3m\u001b[90m<chr>\u001b[39m\u001b[23m \"N\", \"N\", \"N\", \"N\", \"N\", \"N\", \"N\", \"N\", \"N\", \"N\",…\n",
            "$ plot_rep            \u001b[3m\u001b[90m<chr>\u001b[39m\u001b[23m \"NA\", \"NA\", \"NA\", \"NA\", \"NA\", \"NA\", \"NA\", \"NA\", \"…\n",
            "$ plot_num            \u001b[3m\u001b[90m<int>\u001b[39m\u001b[23m 7, 7, 7, 7, 7, 7, 7, 7, 7, 7, 7, 7, 7, 7, 7, 7, 7…\n",
            "$ date                \u001b[3m\u001b[90m<date>\u001b[39m\u001b[23m 2017-06-08, 2017-06-08, 2017-06-08, 2017-06-08, …\n",
            "$ subplot             \u001b[3m\u001b[90m<int>\u001b[39m\u001b[23m 1, 1, 1, 1, 1, 1, 1, 1, 1, 1, 1, 1, 1, 1, 1, 1, 1…\n",
            "$ species_key         \u001b[3m\u001b[90m<int>\u001b[39m\u001b[23m 82, 113, 153, 187, 233, 266, 286, 320, 389, 411, …\n",
            "$ species_code        \u001b[3m\u001b[90m<chr>\u001b[39m\u001b[23m \"BROTEC\", \"CARE_SP\", \"COLLIN\", \"DRAVER\", \"FESIDA\"…\n",
            "$ cover_pct           \u001b[3m\u001b[90m<int>\u001b[39m\u001b[23m 4, 3, 5, 1, 3, 10, 4, 5, 4, 4, 10, 5, 10, 1, 5, 1…\n",
            "$ year                \u001b[3m\u001b[90m<dbl>\u001b[39m\u001b[23m 2017, 2017, 2017, 2017, 2017, 2017, 2017, 2017, 2…\n",
            "$ key_plant_code      \u001b[3m\u001b[90m<chr>\u001b[39m\u001b[23m \"BROTEC\", \"CARE_SP\", \"COLLIN\", \"DRAVER\", \"FESIDA\"…\n",
            "$ plant_name_sci      \u001b[3m\u001b[90m<chr>\u001b[39m\u001b[23m \"Bromus tectorum\", \"Carex spp.\", \"Collomia linear…\n",
            "$ plant_name_syn      \u001b[3m\u001b[90m<chr>\u001b[39m\u001b[23m NA, NA, NA, NA, NA, NA, NA, NA, NA, \"Poa sandberg…\n",
            "$ plant_name_common   \u001b[3m\u001b[90m<chr>\u001b[39m\u001b[23m \"cheatgrass\", \"sedges\", \"narrow-leaved collomia\",…\n",
            "$ plant_name_family   \u001b[3m\u001b[90m<chr>\u001b[39m\u001b[23m \"Poaceae\", \"Cyperaceae\", \"Polemoniaceae\", \"Brassi…\n",
            "$ plant_native_status \u001b[3m\u001b[90m<chr>\u001b[39m\u001b[23m \"nonnative\", \"native\", \"native\", \"nonnative\", \"na…\n",
            "$ plant_life_cycle    \u001b[3m\u001b[90m<chr>\u001b[39m\u001b[23m \"annual\", \"perennial\", \"annual\", \"annual\", \"peren…\n",
            "$ plant_life_form     \u001b[3m\u001b[90m<chr>\u001b[39m\u001b[23m \"graminoid\", \"graminoid\", \"forb\", \"forb\", \"gramin…\n",
            "$ survey_code         \u001b[3m\u001b[90m<chr>\u001b[39m\u001b[23m \"YVP N7 2017-06-08\", \"YVP N7 2017-06-08\", \"YVP N7…\n"
          ],
          "name": "stdout"
        }
      ]
    },
    {
      "cell_type": "code",
      "metadata": {
        "id": "P4Vdqyk8iTNM",
        "colab_type": "code",
        "colab": {}
      },
      "source": [
        "# use df_survey_code to join _loc _rep etc back into df\n",
        "# or make df with only variables"
      ],
      "execution_count": null,
      "outputs": []
    },
    {
      "cell_type": "markdown",
      "metadata": {
        "id": "nl3U8t6YCzbR",
        "colab_type": "text"
      },
      "source": [
        "## Create 'cover_pct_avg'"
      ]
    },
    {
      "cell_type": "code",
      "metadata": {
        "id": "Aim8-6fhaguk",
        "colab_type": "code",
        "colab": {
          "base_uri": "https://localhost:8080/",
          "height": 187
        },
        "outputId": "626aca45-a48a-4d2a-935c-89e51375705e"
      },
      "source": [
        "# calculate cover_pct_sum\n",
        "df_cover_sum <- df_survey_code %>%\n",
        "  group_by(survey_code, subplot, plant_native_status, plant_life_cycle, plant_life_form) %>%\n",
        "  summarise(cover_pct_sum = (sum(cover_pct))) %>% ungroup() %>% \n",
        "  glimpse()"
      ],
      "execution_count": 178,
      "outputs": [
        {
          "output_type": "stream",
          "text": [
            "`summarise()` regrouping output by 'survey_code', 'subplot', 'plant_native_status', 'plant_life_cycle' (override with `.groups` argument)\n",
            "\n"
          ],
          "name": "stderr"
        },
        {
          "output_type": "stream",
          "text": [
            "Rows: 9,999\n",
            "Columns: 6\n",
            "$ survey_code         \u001b[3m\u001b[90m<chr>\u001b[39m\u001b[23m \"YVP 10 2017-06-09\", \"YVP 10 2017-06-09\", \"YVP 10…\n",
            "$ subplot             \u001b[3m\u001b[90m<int>\u001b[39m\u001b[23m 1, 1, 1, 1, 1, 1, 2, 2, 2, 2, 2, 3, 3, 3, 3, 4, 4…\n",
            "$ plant_native_status \u001b[3m\u001b[90m<chr>\u001b[39m\u001b[23m \"native\", \"native\", \"native\", \"native\", \"nonnativ…\n",
            "$ plant_life_cycle    \u001b[3m\u001b[90m<chr>\u001b[39m\u001b[23m \"annual\", \"multiple\", \"perennial\", \"perennial\", \"…\n",
            "$ plant_life_form     \u001b[3m\u001b[90m<chr>\u001b[39m\u001b[23m \"forb\", \"forb\", \"forb\", \"graminoid\", \"forb\", \"for…\n",
            "$ cover_pct_sum       \u001b[3m\u001b[90m<int>\u001b[39m\u001b[23m 1, 1, 49, 50, 3, 5, 29, 60, 2, 4, 5, 67, 25, 3, 3…\n"
          ],
          "name": "stdout"
        }
      ]
    },
    {
      "cell_type": "code",
      "metadata": {
        "id": "n9T2rKulbnJI",
        "colab_type": "code",
        "colab": {
          "base_uri": "https://localhost:8080/",
          "height": 170
        },
        "outputId": "84ed4697-6779-4f71-8c4f-55c9209cca4b"
      },
      "source": [
        "df_cover_avg <- df_cover_sum %>%\n",
        "  group_by(survey_code, plant_native_status, plant_life_cycle, plant_life_form) %>%\n",
        "  summarise(cover_pct_avg = sum(cover_pct_sum) / 10) %>% ungroup() %>%\n",
        "  glimpse()"
      ],
      "execution_count": 179,
      "outputs": [
        {
          "output_type": "stream",
          "text": [
            "`summarise()` regrouping output by 'survey_code', 'plant_native_status', 'plant_life_cycle' (override with `.groups` argument)\n",
            "\n"
          ],
          "name": "stderr"
        },
        {
          "output_type": "stream",
          "text": [
            "Rows: 1,525\n",
            "Columns: 5\n",
            "$ survey_code         \u001b[3m\u001b[90m<chr>\u001b[39m\u001b[23m \"YVP 10 2017-06-09\", \"YVP 10 2017-06-09\", \"YVP 10…\n",
            "$ plant_native_status \u001b[3m\u001b[90m<chr>\u001b[39m\u001b[23m \"native\", \"native\", \"native\", \"native\", \"nonnativ…\n",
            "$ plant_life_cycle    \u001b[3m\u001b[90m<chr>\u001b[39m\u001b[23m \"annual\", \"multiple\", \"perennial\", \"perennial\", \"…\n",
            "$ plant_life_form     \u001b[3m\u001b[90m<chr>\u001b[39m\u001b[23m \"forb\", \"forb\", \"forb\", \"graminoid\", \"forb\", \"gra…\n",
            "$ cover_pct_avg       \u001b[3m\u001b[90m<dbl>\u001b[39m\u001b[23m 0.8, 0.2, 32.9, 49.5, 3.7, 2.0, 1.1, 4.5, 4.1, 0.…\n"
          ],
          "name": "stdout"
        }
      ]
    },
    {
      "cell_type": "markdown",
      "metadata": {
        "id": "MUyi1axy-JFd",
        "colab_type": "text"
      },
      "source": [
        "## Review"
      ]
    },
    {
      "cell_type": "markdown",
      "metadata": {
        "id": "t5ShFBzUuYjl",
        "colab_type": "text"
      },
      "source": [
        "I'm curious why these don't add up to 100"
      ]
    },
    {
      "cell_type": "markdown",
      "metadata": {
        "id": "uBwgBmHq9ZkO",
        "colab_type": "text"
      },
      "source": [
        "### YVP 10 2017-06-09"
      ]
    },
    {
      "cell_type": "code",
      "metadata": {
        "id": "_oJ6niwtxYHb",
        "colab_type": "code",
        "colab": {
          "base_uri": "https://localhost:8080/",
          "height": 34
        },
        "outputId": "d8ab1015-3be1-45f3-9e2c-3a50ec87c8d5"
      },
      "source": [
        "df_cover_avg %>% \n",
        "  ungroup() %>% \n",
        "  filter(survey_code == \"YVP 10 2017-06-09\") %>% \n",
        "  select(cover_pct_avg) %>%\n",
        "  sum()"
      ],
      "execution_count": 180,
      "outputs": [
        {
          "output_type": "display_data",
          "data": {
            "text/plain": [
              "[1] 94.7"
            ],
            "text/latex": "94.7",
            "text/markdown": "94.7",
            "text/html": [
              "94.7"
            ]
          },
          "metadata": {
            "tags": []
          }
        }
      ]
    },
    {
      "cell_type": "code",
      "metadata": {
        "id": "RYKKCGtu9jlx",
        "colab_type": "code",
        "colab": {
          "base_uri": "https://localhost:8080/",
          "height": 246
        },
        "outputId": "07b40e7e-11ec-4c47-c25f-a94dc2903e44"
      },
      "source": [
        "df_cover_pct %>% \n",
        "  ungroup() %>%\n",
        "  filter(survey_code == \"YVP 10 2017-06-09\")"
      ],
      "execution_count": 181,
      "outputs": [
        {
          "output_type": "display_data",
          "data": {
            "text/plain": [
              "  survey_code       plot_code plant_native_status plant_life_cycle\n",
              "1 YVP 10 2017-06-09 YVP 10    native              annual          \n",
              "2 YVP 10 2017-06-09 YVP 10    native              multiple        \n",
              "3 YVP 10 2017-06-09 YVP 10    native              perennial       \n",
              "4 YVP 10 2017-06-09 YVP 10    native              perennial       \n",
              "5 YVP 10 2017-06-09 YVP 10    nonnative           annual          \n",
              "6 YVP 10 2017-06-09 YVP 10    nonnative           annual          \n",
              "7 YVP 10 2017-06-09 YVP 10    nonnative           multiple        \n",
              "8 YVP 10 2017-06-09 YVP 10    nonnative           perennial       \n",
              "  plant_life_form cover_pct_avg\n",
              "1 forb             0.8         \n",
              "2 forb             0.2         \n",
              "3 forb            32.9         \n",
              "4 graminoid       49.5         \n",
              "5 forb             3.7         \n",
              "6 graminoid        2.0         \n",
              "7 forb             1.1         \n",
              "8 forb             4.5         "
            ],
            "text/latex": "A tibble: 8 × 6\n\\begin{tabular}{llllll}\n survey\\_code & plot\\_code & plant\\_native\\_status & plant\\_life\\_cycle & plant\\_life\\_form & cover\\_pct\\_avg\\\\\n <chr> & <chr> & <chr> & <chr> & <chr> & <dbl>\\\\\n\\hline\n\t YVP 10 2017-06-09 & YVP 10 & native    & annual    & forb      &  0.8\\\\\n\t YVP 10 2017-06-09 & YVP 10 & native    & multiple  & forb      &  0.2\\\\\n\t YVP 10 2017-06-09 & YVP 10 & native    & perennial & forb      & 32.9\\\\\n\t YVP 10 2017-06-09 & YVP 10 & native    & perennial & graminoid & 49.5\\\\\n\t YVP 10 2017-06-09 & YVP 10 & nonnative & annual    & forb      &  3.7\\\\\n\t YVP 10 2017-06-09 & YVP 10 & nonnative & annual    & graminoid &  2.0\\\\\n\t YVP 10 2017-06-09 & YVP 10 & nonnative & multiple  & forb      &  1.1\\\\\n\t YVP 10 2017-06-09 & YVP 10 & nonnative & perennial & forb      &  4.5\\\\\n\\end{tabular}\n",
            "text/markdown": "\nA tibble: 8 × 6\n\n| survey_code &lt;chr&gt; | plot_code &lt;chr&gt; | plant_native_status &lt;chr&gt; | plant_life_cycle &lt;chr&gt; | plant_life_form &lt;chr&gt; | cover_pct_avg &lt;dbl&gt; |\n|---|---|---|---|---|---|\n| YVP 10 2017-06-09 | YVP 10 | native    | annual    | forb      |  0.8 |\n| YVP 10 2017-06-09 | YVP 10 | native    | multiple  | forb      |  0.2 |\n| YVP 10 2017-06-09 | YVP 10 | native    | perennial | forb      | 32.9 |\n| YVP 10 2017-06-09 | YVP 10 | native    | perennial | graminoid | 49.5 |\n| YVP 10 2017-06-09 | YVP 10 | nonnative | annual    | forb      |  3.7 |\n| YVP 10 2017-06-09 | YVP 10 | nonnative | annual    | graminoid |  2.0 |\n| YVP 10 2017-06-09 | YVP 10 | nonnative | multiple  | forb      |  1.1 |\n| YVP 10 2017-06-09 | YVP 10 | nonnative | perennial | forb      |  4.5 |\n\n",
            "text/html": [
              "<table>\n",
              "<caption>A tibble: 8 × 6</caption>\n",
              "<thead>\n",
              "\t<tr><th scope=col>survey_code</th><th scope=col>plot_code</th><th scope=col>plant_native_status</th><th scope=col>plant_life_cycle</th><th scope=col>plant_life_form</th><th scope=col>cover_pct_avg</th></tr>\n",
              "\t<tr><th scope=col>&lt;chr&gt;</th><th scope=col>&lt;chr&gt;</th><th scope=col>&lt;chr&gt;</th><th scope=col>&lt;chr&gt;</th><th scope=col>&lt;chr&gt;</th><th scope=col>&lt;dbl&gt;</th></tr>\n",
              "</thead>\n",
              "<tbody>\n",
              "\t<tr><td>YVP 10 2017-06-09</td><td>YVP 10</td><td>native   </td><td>annual   </td><td>forb     </td><td> 0.8</td></tr>\n",
              "\t<tr><td>YVP 10 2017-06-09</td><td>YVP 10</td><td>native   </td><td>multiple </td><td>forb     </td><td> 0.2</td></tr>\n",
              "\t<tr><td>YVP 10 2017-06-09</td><td>YVP 10</td><td>native   </td><td>perennial</td><td>forb     </td><td>32.9</td></tr>\n",
              "\t<tr><td>YVP 10 2017-06-09</td><td>YVP 10</td><td>native   </td><td>perennial</td><td>graminoid</td><td>49.5</td></tr>\n",
              "\t<tr><td>YVP 10 2017-06-09</td><td>YVP 10</td><td>nonnative</td><td>annual   </td><td>forb     </td><td> 3.7</td></tr>\n",
              "\t<tr><td>YVP 10 2017-06-09</td><td>YVP 10</td><td>nonnative</td><td>annual   </td><td>graminoid</td><td> 2.0</td></tr>\n",
              "\t<tr><td>YVP 10 2017-06-09</td><td>YVP 10</td><td>nonnative</td><td>multiple </td><td>forb     </td><td> 1.1</td></tr>\n",
              "\t<tr><td>YVP 10 2017-06-09</td><td>YVP 10</td><td>nonnative</td><td>perennial</td><td>forb     </td><td> 4.5</td></tr>\n",
              "</tbody>\n",
              "</table>\n"
            ]
          },
          "metadata": {
            "tags": []
          }
        }
      ]
    },
    {
      "cell_type": "markdown",
      "metadata": {
        "id": "xNXlKIZeuc7Y",
        "colab_type": "text"
      },
      "source": [
        "### YVP N571 2019-06-11"
      ]
    },
    {
      "cell_type": "code",
      "metadata": {
        "id": "U0Uu4XOruSbB",
        "colab_type": "code",
        "colab": {
          "base_uri": "https://localhost:8080/",
          "height": 34
        },
        "outputId": "d7b411da-f3bc-4c0a-988b-41a26a6d75ff"
      },
      "source": [
        "# YVP N571 2019-06-11\n",
        "df_cover_pct %>% \n",
        "  ungroup() %>% \n",
        "  filter(survey_code == \"YVP N571 2019-06-11\") %>% \n",
        "  select(cover_pct_avg) %>%\n",
        "  sum()"
      ],
      "execution_count": 146,
      "outputs": [
        {
          "output_type": "display_data",
          "data": {
            "text/plain": [
              "[1] 51.5"
            ],
            "text/latex": "51.5",
            "text/markdown": "51.5",
            "text/html": [
              "51.5"
            ]
          },
          "metadata": {
            "tags": []
          }
        }
      ]
    },
    {
      "cell_type": "code",
      "metadata": {
        "id": "LP2RuNu79hCD",
        "colab_type": "code",
        "colab": {
          "base_uri": "https://localhost:8080/",
          "height": 288
        },
        "outputId": "ceacf1b2-139d-41bf-eec1-dd85dbb30a29"
      },
      "source": [
        "# YVP N571 2019-06-11\n",
        "df_cover_pct %>% \n",
        "  filter(survey_code == \"YVP N571 2019-06-11\")"
      ],
      "execution_count": 148,
      "outputs": [
        {
          "output_type": "display_data",
          "data": {
            "text/plain": [
              "   survey_code         plot_code plant_native_status plant_life_cycle\n",
              "1  YVP N571 2019-06-11 YVP N571  native              annual          \n",
              "2  YVP N571 2019-06-11 YVP N571  native              perennial       \n",
              "3  YVP N571 2019-06-11 YVP N571  native              perennial       \n",
              "4  YVP N571 2019-06-11 YVP N571  nonnative           annual          \n",
              "5  YVP N571 2019-06-11 YVP N571  nonnative           annual          \n",
              "6  YVP N571 2019-06-11 YVP N571  nonnative           multiple        \n",
              "7  YVP N571 2019-06-11 YVP N571  nonnative           perennial       \n",
              "8  YVP N571 2019-06-11 YVP N571  nonnative           perennial       \n",
              "9  YVP N571 2019-06-11 YVP N571  nonnative           unknown         \n",
              "10 YVP N571 2019-06-11 YVP N571  unknown             unknown         \n",
              "   plant_life_form cover_pct_avg\n",
              "1  forb             0.9         \n",
              "2  forb            14.2         \n",
              "3  graminoid        7.6         \n",
              "4  forb             0.0         \n",
              "5  graminoid        4.1         \n",
              "6  forb             1.3         \n",
              "7  forb            14.0         \n",
              "8  graminoid        7.3         \n",
              "9  graminoid        2.0         \n",
              "10 forb             0.1         "
            ],
            "text/latex": "A grouped\\_df: 10 × 6\n\\begin{tabular}{llllll}\n survey\\_code & plot\\_code & plant\\_native\\_status & plant\\_life\\_cycle & plant\\_life\\_form & cover\\_pct\\_avg\\\\\n <chr> & <chr> & <chr> & <chr> & <chr> & <dbl>\\\\\n\\hline\n\t YVP N571 2019-06-11 & YVP N571 & native    & annual    & forb      &  0.9\\\\\n\t YVP N571 2019-06-11 & YVP N571 & native    & perennial & forb      & 14.2\\\\\n\t YVP N571 2019-06-11 & YVP N571 & native    & perennial & graminoid &  7.6\\\\\n\t YVP N571 2019-06-11 & YVP N571 & nonnative & annual    & forb      &  0.0\\\\\n\t YVP N571 2019-06-11 & YVP N571 & nonnative & annual    & graminoid &  4.1\\\\\n\t YVP N571 2019-06-11 & YVP N571 & nonnative & multiple  & forb      &  1.3\\\\\n\t YVP N571 2019-06-11 & YVP N571 & nonnative & perennial & forb      & 14.0\\\\\n\t YVP N571 2019-06-11 & YVP N571 & nonnative & perennial & graminoid &  7.3\\\\\n\t YVP N571 2019-06-11 & YVP N571 & nonnative & unknown   & graminoid &  2.0\\\\\n\t YVP N571 2019-06-11 & YVP N571 & unknown   & unknown   & forb      &  0.1\\\\\n\\end{tabular}\n",
            "text/markdown": "\nA grouped_df: 10 × 6\n\n| survey_code &lt;chr&gt; | plot_code &lt;chr&gt; | plant_native_status &lt;chr&gt; | plant_life_cycle &lt;chr&gt; | plant_life_form &lt;chr&gt; | cover_pct_avg &lt;dbl&gt; |\n|---|---|---|---|---|---|\n| YVP N571 2019-06-11 | YVP N571 | native    | annual    | forb      |  0.9 |\n| YVP N571 2019-06-11 | YVP N571 | native    | perennial | forb      | 14.2 |\n| YVP N571 2019-06-11 | YVP N571 | native    | perennial | graminoid |  7.6 |\n| YVP N571 2019-06-11 | YVP N571 | nonnative | annual    | forb      |  0.0 |\n| YVP N571 2019-06-11 | YVP N571 | nonnative | annual    | graminoid |  4.1 |\n| YVP N571 2019-06-11 | YVP N571 | nonnative | multiple  | forb      |  1.3 |\n| YVP N571 2019-06-11 | YVP N571 | nonnative | perennial | forb      | 14.0 |\n| YVP N571 2019-06-11 | YVP N571 | nonnative | perennial | graminoid |  7.3 |\n| YVP N571 2019-06-11 | YVP N571 | nonnative | unknown   | graminoid |  2.0 |\n| YVP N571 2019-06-11 | YVP N571 | unknown   | unknown   | forb      |  0.1 |\n\n",
            "text/html": [
              "<table>\n",
              "<caption>A grouped_df: 10 × 6</caption>\n",
              "<thead>\n",
              "\t<tr><th scope=col>survey_code</th><th scope=col>plot_code</th><th scope=col>plant_native_status</th><th scope=col>plant_life_cycle</th><th scope=col>plant_life_form</th><th scope=col>cover_pct_avg</th></tr>\n",
              "\t<tr><th scope=col>&lt;chr&gt;</th><th scope=col>&lt;chr&gt;</th><th scope=col>&lt;chr&gt;</th><th scope=col>&lt;chr&gt;</th><th scope=col>&lt;chr&gt;</th><th scope=col>&lt;dbl&gt;</th></tr>\n",
              "</thead>\n",
              "<tbody>\n",
              "\t<tr><td>YVP N571 2019-06-11</td><td>YVP N571</td><td>native   </td><td>annual   </td><td>forb     </td><td> 0.9</td></tr>\n",
              "\t<tr><td>YVP N571 2019-06-11</td><td>YVP N571</td><td>native   </td><td>perennial</td><td>forb     </td><td>14.2</td></tr>\n",
              "\t<tr><td>YVP N571 2019-06-11</td><td>YVP N571</td><td>native   </td><td>perennial</td><td>graminoid</td><td> 7.6</td></tr>\n",
              "\t<tr><td>YVP N571 2019-06-11</td><td>YVP N571</td><td>nonnative</td><td>annual   </td><td>forb     </td><td> 0.0</td></tr>\n",
              "\t<tr><td>YVP N571 2019-06-11</td><td>YVP N571</td><td>nonnative</td><td>annual   </td><td>graminoid</td><td> 4.1</td></tr>\n",
              "\t<tr><td>YVP N571 2019-06-11</td><td>YVP N571</td><td>nonnative</td><td>multiple </td><td>forb     </td><td> 1.3</td></tr>\n",
              "\t<tr><td>YVP N571 2019-06-11</td><td>YVP N571</td><td>nonnative</td><td>perennial</td><td>forb     </td><td>14.0</td></tr>\n",
              "\t<tr><td>YVP N571 2019-06-11</td><td>YVP N571</td><td>nonnative</td><td>perennial</td><td>graminoid</td><td> 7.3</td></tr>\n",
              "\t<tr><td>YVP N571 2019-06-11</td><td>YVP N571</td><td>nonnative</td><td>unknown  </td><td>graminoid</td><td> 2.0</td></tr>\n",
              "\t<tr><td>YVP N571 2019-06-11</td><td>YVP N571</td><td>unknown  </td><td>unknown  </td><td>forb     </td><td> 0.1</td></tr>\n",
              "</tbody>\n",
              "</table>\n"
            ]
          },
          "metadata": {
            "tags": []
          }
        }
      ]
    },
    {
      "cell_type": "markdown",
      "metadata": {
        "id": "JDMT1_At-NjW",
        "colab_type": "text"
      },
      "source": [
        "## Join\n",
        "* in dev"
      ]
    },
    {
      "cell_type": "code",
      "metadata": {
        "id": "4f9rOgiHN9l3",
        "colab_type": "code",
        "colab": {
          "base_uri": "https://localhost:8080/",
          "height": 170
        },
        "outputId": "1e077a58-aa98-4eaf-840d-3a4dc4dfa9aa"
      },
      "source": [
        "# df_cover_pct %>%\n",
        "#   glimpse()"
      ],
      "execution_count": 70,
      "outputs": [
        {
          "output_type": "stream",
          "text": [
            "Rows: 9,999\n",
            "Columns: 6\n",
            "Groups: survey_code, subplot, plant_native_status, plant_life_cycle [6,811]\n",
            "$ survey_code         \u001b[3m\u001b[90m<chr>\u001b[39m\u001b[23m \"YVP 10 2017-06-09\", \"YVP 10 2017-06-09\", \"YVP 10…\n",
            "$ subplot             \u001b[3m\u001b[90m<int>\u001b[39m\u001b[23m 1, 1, 1, 1, 1, 1, 2, 2, 2, 2, 2, 3, 3, 3, 3, 4, 4…\n",
            "$ plant_native_status \u001b[3m\u001b[90m<chr>\u001b[39m\u001b[23m \"native\", \"native\", \"native\", \"native\", \"nonnativ…\n",
            "$ plant_life_cycle    \u001b[3m\u001b[90m<chr>\u001b[39m\u001b[23m \"annual\", \"multiple\", \"perennial\", \"perennial\", \"…\n",
            "$ plant_life_form     \u001b[3m\u001b[90m<chr>\u001b[39m\u001b[23m \"forb\", \"forb\", \"forb\", \"graminoid\", \"forb\", \"for…\n",
            "$ cover_pct_avg       \u001b[3m\u001b[90m<dbl>\u001b[39m\u001b[23m 0.1, 0.1, 4.9, 5.0, 0.3, 0.5, 2.9, 6.0, 0.2, 0.4,…\n"
          ],
          "name": "stdout"
        }
      ]
    },
    {
      "cell_type": "code",
      "metadata": {
        "id": "cvVuywBH-aYg",
        "colab_type": "code",
        "colab": {
          "base_uri": "https://localhost:8080/",
          "height": 153
        },
        "outputId": "6ad3ec07-19b4-4598-f781-3fc1ebb3e055"
      },
      "source": [
        "# # df_main <- \n",
        "# df_survey_code %>%\n",
        "#   group_by(survey_code, subplot, plant_native_status, plant_life_cycle, plant_life_form) %>% \n",
        "#   distinct(survey_code, subplot, plant_native_status, plant_life_cycle, plant_life_form) %>%\n",
        "#   glimpse()\n",
        "#   # head()"
      ],
      "execution_count": 35,
      "outputs": [
        {
          "output_type": "stream",
          "text": [
            "Rows: 9,999\n",
            "Columns: 5\n",
            "Groups: survey_code, subplot, plant_native_status, plant_life_cycle, plant_life_form [9,999]\n",
            "$ subplot             \u001b[3m\u001b[90m<int>\u001b[39m\u001b[23m 1, 1, 1, 1, 1, 1, 1, 1, 1, 1, 1, 1, 1, 1, 1, 1, 1…\n",
            "$ plant_native_status \u001b[3m\u001b[90m<chr>\u001b[39m\u001b[23m \"nonnative\", \"native\", \"native\", \"nonnative\", \"na…\n",
            "$ plant_life_cycle    \u001b[3m\u001b[90m<chr>\u001b[39m\u001b[23m \"annual\", \"perennial\", \"annual\", \"annual\", \"peren…\n",
            "$ plant_life_form     \u001b[3m\u001b[90m<chr>\u001b[39m\u001b[23m \"graminoid\", \"graminoid\", \"forb\", \"forb\", \"forb\",…\n",
            "$ survey_code         \u001b[3m\u001b[90m<chr>\u001b[39m\u001b[23m \"YVP N7 2017-06-08\", \"YVP N7 2017-06-08\", \"YVP N7…\n"
          ],
          "name": "stdout"
        }
      ]
    },
    {
      "cell_type": "markdown",
      "metadata": {
        "id": "d-PDapd_FX4g",
        "colab_type": "text"
      },
      "source": [
        "## Complete"
      ]
    },
    {
      "cell_type": "markdown",
      "metadata": {
        "id": "PRWIID4WFotj",
        "colab_type": "text"
      },
      "source": [
        "After simplifying the functional groups and producing transect averages of plant cover, make sure all combinations of functional groups that are found in the data are represented in each survey_code. For those groups which were not detected at a survey_code, fill the detection_rate with 0. This makes it possible to produce meaningful averages of functional group detections within habitat polygons or years without creating a positive bias for rarer functional groups. In other words, zero detection of a functional group at a grid point is a real zero, not a missing value."
      ]
    },
    {
      "cell_type": "code",
      "metadata": {
        "id": "GC2LhxuRg12f",
        "colab_type": "code",
        "colab": {
          "base_uri": "https://localhost:8080/",
          "height": 170
        },
        "outputId": "ba5c2344-7c49-4083-a444-c9d40ad772f6"
      },
      "source": [
        "df_cover_pct %>% glimpse()"
      ],
      "execution_count": 188,
      "outputs": [
        {
          "output_type": "stream",
          "text": [
            "Rows: 1,525\n",
            "Columns: 6\n",
            "Groups: survey_code, plot_code, plant_native_status, plant_life_cycle [965]\n",
            "$ survey_code         \u001b[3m\u001b[90m<chr>\u001b[39m\u001b[23m \"YVP 10 2017-06-09\", \"YVP 10 2017-06-09\", \"YVP 10…\n",
            "$ plot_code           \u001b[3m\u001b[90m<chr>\u001b[39m\u001b[23m \"YVP 10\", \"YVP 10\", \"YVP 10\", \"YVP 10\", \"YVP 10\",…\n",
            "$ plant_native_status \u001b[3m\u001b[90m<chr>\u001b[39m\u001b[23m \"native\", \"native\", \"native\", \"native\", \"nonnativ…\n",
            "$ plant_life_cycle    \u001b[3m\u001b[90m<chr>\u001b[39m\u001b[23m \"annual\", \"multiple\", \"perennial\", \"perennial\", \"…\n",
            "$ plant_life_form     \u001b[3m\u001b[90m<chr>\u001b[39m\u001b[23m \"forb\", \"forb\", \"forb\", \"graminoid\", \"forb\", \"gra…\n",
            "$ cover_pct_avg       \u001b[3m\u001b[90m<dbl>\u001b[39m\u001b[23m 0.8, 0.2, 32.9, 49.5, 3.7, 2.0, 1.1, 4.5, 4.1, 0.…\n"
          ],
          "name": "stdout"
        }
      ]
    },
    {
      "cell_type": "code",
      "metadata": {
        "id": "0j3iMJ3cQMnL",
        "colab_type": "code",
        "colab": {
          "base_uri": "https://localhost:8080/",
          "height": 170
        },
        "outputId": "62504816-7ac5-4f8f-9436-97271913d590"
      },
      "source": [
        "df_complete <- df_cover_pct %>%\n",
        "  complete(survey_code,\n",
        "           nesting(plant_native_status, plant_life_cycle, plant_life_form),\n",
        "           fill = list(cover_pct_avg = 0)) %>%\n",
        "  arrange(survey_code, plot_code, plant_native_status, plant_life_cycle, plant_life_form) %>% glimpse()"
      ],
      "execution_count": 202,
      "outputs": [
        {
          "output_type": "stream",
          "text": [
            "Rows: 1,525\n",
            "Columns: 6\n",
            "Groups: survey_code, plot_code, plant_native_status, plant_life_cycle [965]\n",
            "$ plot_code           \u001b[3m\u001b[90m<chr>\u001b[39m\u001b[23m \"YVP 10\", \"YVP 10\", \"YVP 10\", \"YVP 10\", \"YVP 10\",…\n",
            "$ survey_code         \u001b[3m\u001b[90m<chr>\u001b[39m\u001b[23m \"YVP 10 2017-06-09\", \"YVP 10 2017-06-09\", \"YVP 10…\n",
            "$ plant_native_status \u001b[3m\u001b[90m<chr>\u001b[39m\u001b[23m \"native\", \"native\", \"native\", \"native\", \"nonnativ…\n",
            "$ plant_life_cycle    \u001b[3m\u001b[90m<chr>\u001b[39m\u001b[23m \"annual\", \"multiple\", \"perennial\", \"perennial\", \"…\n",
            "$ plant_life_form     \u001b[3m\u001b[90m<chr>\u001b[39m\u001b[23m \"forb\", \"forb\", \"forb\", \"graminoid\", \"forb\", \"gra…\n",
            "$ cover_pct_avg       \u001b[3m\u001b[90m<dbl>\u001b[39m\u001b[23m 0.8, 0.2, 32.9, 49.5, 3.7, 2.0, 1.1, 4.5, 4.1, 0.…\n"
          ],
          "name": "stdout"
        }
      ]
    },
    {
      "cell_type": "code",
      "metadata": {
        "id": "AtsNzgkjmLHE",
        "colab_type": "code",
        "colab": {}
      },
      "source": [
        "# recover plot_num, plot_loc, plot_rep\n",
        "# join on plot_code substring and call plot_num grid_point\n",
        "\n",
        "# follow yvp - vegetation cover data -wrangle with the ex\n",
        "\n",
        "#grid_point instead of plot_num"
      ],
      "execution_count": null,
      "outputs": []
    }
  ]
}