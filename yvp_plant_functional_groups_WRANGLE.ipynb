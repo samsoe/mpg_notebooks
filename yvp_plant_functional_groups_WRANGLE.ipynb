{
  "nbformat": 4,
  "nbformat_minor": 0,
  "metadata": {
    "colab": {
      "name": "yvp_plant_functional_groups-WRANGLE.ipynb",
      "provenance": [],
      "collapsed_sections": [],
      "toc_visible": true,
      "include_colab_link": true
    },
    "language_info": {
      "codemirror_mode": "r",
      "file_extension": ".r",
      "mimetype": "text/x-r-source",
      "name": "R",
      "pygments_lexer": "r",
      "version": "3.3.1"
    },
    "kernelspec": {
      "display_name": "R",
      "language": "R",
      "name": "ir"
    }
  },
  "cells": [
    {
      "cell_type": "markdown",
      "metadata": {
        "id": "view-in-github",
        "colab_type": "text"
      },
      "source": [
        "<a href=\"https://colab.research.google.com/github/samsoe/mpg_notebooks/blob/master/yvp_plant_functional_groups_WRANGLE.ipynb\" target=\"_parent\"><img src=\"https://colab.research.google.com/assets/colab-badge.svg\" alt=\"Open In Colab\"/></a>"
      ]
    },
    {
      "cell_type": "markdown",
      "metadata": {
        "id": "dn0f3TzegBcl",
        "colab_type": "text"
      },
      "source": [
        "# Documentation"
      ]
    },
    {
      "cell_type": "markdown",
      "metadata": {
        "id": "atjSKaTvgFap",
        "colab_type": "text"
      },
      "source": [
        "[Readme fixed plot vegetation data](https://docs.google.com/document/d/16-Aq8u9Rudd78fSzfjvpCXyQgE-BstC-d2PjYfmLtcw/edit?usp=sharing)"
      ]
    },
    {
      "cell_type": "markdown",
      "metadata": {
        "id": "BhOI1uU2Koum",
        "colab_type": "text"
      },
      "source": [
        "# Security"
      ]
    },
    {
      "cell_type": "markdown",
      "metadata": {
        "id": "hgB3r3wvA9Pn",
        "colab_type": "text"
      },
      "source": [
        "* The user must load a `json` file containing the BigQuery API key into the local directory `/content/...`\n",
        "* The user must have a Google Maps API key to enable mapping. \n",
        "   * CAUTION make sure the key is deleted from the current instance of the notebook before sharing"
      ]
    },
    {
      "cell_type": "markdown",
      "metadata": {
        "id": "MnG0ah7OA59c",
        "colab_type": "text"
      },
      "source": [
        "# Tools"
      ]
    },
    {
      "cell_type": "code",
      "metadata": {
        "id": "Y6y4EWeYpVBJ",
        "colab_type": "code",
        "colab": {
          "base_uri": "https://localhost:8080/",
          "height": 204
        },
        "outputId": "4bf44e39-04f6-4828-ad57-5d10d170f899"
      },
      "source": [
        "library(tidyverse)"
      ],
      "execution_count": 2,
      "outputs": [
        {
          "output_type": "stream",
          "text": [
            "── \u001b[1mAttaching packages\u001b[22m ─────────────────────────────────────── tidyverse 1.3.0 ──\n",
            "\n",
            "\u001b[32m✔\u001b[39m \u001b[34mggplot2\u001b[39m 3.3.2     \u001b[32m✔\u001b[39m \u001b[34mpurrr  \u001b[39m 0.3.4\n",
            "\u001b[32m✔\u001b[39m \u001b[34mtibble \u001b[39m 3.0.2     \u001b[32m✔\u001b[39m \u001b[34mdplyr  \u001b[39m 1.0.0\n",
            "\u001b[32m✔\u001b[39m \u001b[34mtidyr  \u001b[39m 1.1.0     \u001b[32m✔\u001b[39m \u001b[34mstringr\u001b[39m 1.4.0\n",
            "\u001b[32m✔\u001b[39m \u001b[34mreadr  \u001b[39m 1.3.1     \u001b[32m✔\u001b[39m \u001b[34mforcats\u001b[39m 0.5.0\n",
            "\n",
            "── \u001b[1mConflicts\u001b[22m ────────────────────────────────────────── tidyverse_conflicts() ──\n",
            "\u001b[31m✖\u001b[39m \u001b[34mdplyr\u001b[39m::\u001b[32mfilter()\u001b[39m masks \u001b[34mstats\u001b[39m::filter()\n",
            "\u001b[31m✖\u001b[39m \u001b[34mdplyr\u001b[39m::\u001b[32mlag()\u001b[39m    masks \u001b[34mstats\u001b[39m::lag()\n",
            "\n"
          ],
          "name": "stderr"
        }
      ]
    },
    {
      "cell_type": "code",
      "metadata": {
        "id": "HlRwSk6zCM0w",
        "colab_type": "code",
        "colab": {
          "base_uri": "https://localhost:8080/",
          "height": 170
        },
        "outputId": "27e1e5cd-510c-47b1-dbae-f002de0a733d"
      },
      "source": [
        "library(lubridate)"
      ],
      "execution_count": 3,
      "outputs": [
        {
          "output_type": "stream",
          "text": [
            "\n",
            "Attaching package: ‘lubridate’\n",
            "\n",
            "\n",
            "The following objects are masked from ‘package:base’:\n",
            "\n",
            "    date, intersect, setdiff, union\n",
            "\n",
            "\n"
          ],
          "name": "stderr"
        }
      ]
    },
    {
      "cell_type": "markdown",
      "metadata": {
        "id": "eUw-It3JBBrQ",
        "colab_type": "text"
      },
      "source": [
        "* Remember that the file containing authorization keys for Big Query must be loaded into the virutual envrionment manually."
      ]
    },
    {
      "cell_type": "code",
      "metadata": {
        "id": "VxYkYhQTKouo",
        "colab_type": "code",
        "colab": {
          "base_uri": "https://localhost:8080/",
          "height": 119
        },
        "outputId": "27c8c7e0-8aad-4517-8f29-255479e9d0fd"
      },
      "source": [
        "install.packages(\"bigrquery\")\n",
        "library(bigrquery)"
      ],
      "execution_count": 4,
      "outputs": [
        {
          "output_type": "stream",
          "text": [
            "Installing package into ‘/usr/local/lib/R/site-library’\n",
            "(as ‘lib’ is unspecified)\n",
            "\n",
            "also installing the dependencies ‘bit’, ‘bit64’, ‘gargle’, ‘rapidjsonr’\n",
            "\n",
            "\n"
          ],
          "name": "stderr"
        }
      ]
    },
    {
      "cell_type": "markdown",
      "metadata": {
        "id": "H1I9aQ_SBH3n",
        "colab_type": "text"
      },
      "source": [
        "# Source"
      ]
    },
    {
      "cell_type": "markdown",
      "metadata": {
        "id": "Bfb7MHpGBJMO",
        "colab_type": "text"
      },
      "source": [
        "## Database Connection"
      ]
    },
    {
      "cell_type": "code",
      "metadata": {
        "id": "ihI70_BPKouq",
        "colab_type": "code",
        "colab": {}
      },
      "source": [
        "# BigQuery API Key\n",
        "bq_auth(path = \"/content/mpg-data-warehouse-api_key-master.json\")"
      ],
      "execution_count": 6,
      "outputs": []
    },
    {
      "cell_type": "code",
      "metadata": {
        "id": "8YxL8wHoBNxV",
        "colab_type": "code",
        "colab": {}
      },
      "source": [
        "Sys.setenv(BIGQUERY_TEST_PROJECT = \"mpg-data-warehouse\")"
      ],
      "execution_count": 7,
      "outputs": []
    },
    {
      "cell_type": "code",
      "metadata": {
        "id": "yevfizb5BQXm",
        "colab_type": "code",
        "colab": {}
      },
      "source": [
        "billing <- bq_test_project()"
      ],
      "execution_count": 8,
      "outputs": []
    },
    {
      "cell_type": "markdown",
      "metadata": {
        "id": "ERudBSncbzYR",
        "colab_type": "text"
      },
      "source": [
        "## Database Query"
      ]
    },
    {
      "cell_type": "markdown",
      "metadata": {
        "id": "JN4Z34yRp2-k",
        "colab_type": "text"
      },
      "source": [
        "### yvp_vegetation_cover\n"
      ]
    },
    {
      "cell_type": "code",
      "metadata": {
        "id": "26UqASAoB2p0",
        "colab_type": "code",
        "colab": {}
      },
      "source": [
        "sql_vegetation_cover <- \"SELECT *\n",
        "               FROM `mpg-data-warehouse.vegetation_fixed_plot_yvp.yvp_vegetation_cover`\""
      ],
      "execution_count": 9,
      "outputs": []
    },
    {
      "cell_type": "code",
      "metadata": {
        "id": "VSXOoJkcB3dn",
        "colab_type": "code",
        "colab": {}
      },
      "source": [
        "bq_vegetation_cover <- bq_project_query(billing, sql_vegetation_cover)"
      ],
      "execution_count": 10,
      "outputs": []
    },
    {
      "cell_type": "code",
      "metadata": {
        "id": "KpZnymzzB5Ms",
        "colab_type": "code",
        "colab": {}
      },
      "source": [
        "tb_vegetation_cover <- bq_table_download(bq_vegetation_cover)"
      ],
      "execution_count": 11,
      "outputs": []
    },
    {
      "cell_type": "code",
      "metadata": {
        "id": "VcoNMCO1B6gY",
        "colab_type": "code",
        "colab": {
          "base_uri": "https://localhost:8080/",
          "height": 204
        },
        "outputId": "4da76630-bf32-484d-ae41-fb842d23a315"
      },
      "source": [
        "df_vegetation_cover <- as.data.frame(tb_vegetation_cover) %>% glimpse()"
      ],
      "execution_count": 12,
      "outputs": [
        {
          "output_type": "stream",
          "text": [
            "Rows: 21,682\n",
            "Columns: 9\n",
            "$ plot_code    \u001b[3m\u001b[90m<chr>\u001b[39m\u001b[23m \"YVP N7\", \"YVP N7\", \"YVP N7\", \"YVP N7\", \"YVP N7\", \"YVP N…\n",
            "$ plot_loc     \u001b[3m\u001b[90m<chr>\u001b[39m\u001b[23m \"N\", \"N\", \"N\", \"N\", \"N\", \"N\", \"N\", \"N\", \"N\", \"N\", \"N\", \"…\n",
            "$ plot_rep     \u001b[3m\u001b[90m<chr>\u001b[39m\u001b[23m \"NA\", \"NA\", \"NA\", \"NA\", \"NA\", \"NA\", \"NA\", \"NA\", \"NA\", \"N…\n",
            "$ plot_num     \u001b[3m\u001b[90m<int>\u001b[39m\u001b[23m 7, 7, 7, 7, 7, 7, 7, 7, 7, 7, 7, 7, 7, 7, 7, 7, 7, 7, 7,…\n",
            "$ date         \u001b[3m\u001b[90m<date>\u001b[39m\u001b[23m 2017-06-08, 2017-06-08, 2017-06-08, 2017-06-08, 2017-06…\n",
            "$ subplot      \u001b[3m\u001b[90m<int>\u001b[39m\u001b[23m 1, 1, 1, 1, 1, 1, 1, 1, 1, 1, 1, 1, 1, 1, 1, 1, 1, 1, 1,…\n",
            "$ species_key  \u001b[3m\u001b[90m<int>\u001b[39m\u001b[23m 82, 113, 153, 187, 233, 266, 286, 320, 389, 411, 437, 56…\n",
            "$ species_code \u001b[3m\u001b[90m<chr>\u001b[39m\u001b[23m \"BROTEC\", \"CARE_SP\", \"COLLIN\", \"DRAVER\", \"FESIDA\", \"HETV…\n",
            "$ cover_pct    \u001b[3m\u001b[90m<int>\u001b[39m\u001b[23m 4, 3, 5, 1, 3, 10, 4, 5, 4, 4, 10, 5, 10, 1, 5, 1, 2, 4,…\n"
          ],
          "name": "stdout"
        }
      ]
    },
    {
      "cell_type": "markdown",
      "metadata": {
        "id": "hwJ952Y2b8cN",
        "colab_type": "text"
      },
      "source": [
        "### vegetation_species_metadata"
      ]
    },
    {
      "cell_type": "code",
      "metadata": {
        "id": "FduLB8ijcBxf",
        "colab_type": "code",
        "colab": {}
      },
      "source": [
        "sql_species_metadata <- \"SELECT *\n",
        "                         FROM `mpg-data-warehouse.vegetation_species_metadata.vegetation_species_metadata`\""
      ],
      "execution_count": 13,
      "outputs": []
    },
    {
      "cell_type": "code",
      "metadata": {
        "id": "auKASEcKcSsO",
        "colab_type": "code",
        "colab": {}
      },
      "source": [
        "bq_species_metadata <- bq_project_query(billing, sql_species_metadata)"
      ],
      "execution_count": 14,
      "outputs": []
    },
    {
      "cell_type": "code",
      "metadata": {
        "id": "-31MHcnwcbty",
        "colab_type": "code",
        "colab": {}
      },
      "source": [
        "tb_species_metadata <- bq_table_download(bq_species_metadata)"
      ],
      "execution_count": 15,
      "outputs": []
    },
    {
      "cell_type": "code",
      "metadata": {
        "id": "9j9fCzwycbk1",
        "colab_type": "code",
        "colab": {
          "base_uri": "https://localhost:8080/",
          "height": 204
        },
        "outputId": "98b015ba-8d9e-434d-8a19-24c5dada4b9d"
      },
      "source": [
        "df_species_metadata <- as.data.frame(tb_species_metadata) %>% glimpse()"
      ],
      "execution_count": 16,
      "outputs": [
        {
          "output_type": "stream",
          "text": [
            "Rows: 754\n",
            "Columns: 9\n",
            "$ key_plant_species   \u001b[3m\u001b[90m<int>\u001b[39m\u001b[23m 360, 13, 26, 53, 738, 75, 76, 746, 83, 88, 86, 87…\n",
            "$ key_plant_code      \u001b[3m\u001b[90m<chr>\u001b[39m\u001b[23m \"NV\", \"AGRSCA\", \"ANDGER\", \"ARIPUR\", \"BOUCUR\", \"BO…\n",
            "$ plant_name_sci      \u001b[3m\u001b[90m<chr>\u001b[39m\u001b[23m \"no vegetation\", \"Agrostis scabra\", \"Andropogon g…\n",
            "$ plant_name_syn      \u001b[3m\u001b[90m<chr>\u001b[39m\u001b[23m NA, NA, NA, \"Aristida longiseta\", NA, NA, NA, NA,…\n",
            "$ plant_name_common   \u001b[3m\u001b[90m<chr>\u001b[39m\u001b[23m \"no vegetation\", \"rough bentgrass\", \"big bluestem…\n",
            "$ plant_name_family   \u001b[3m\u001b[90m<chr>\u001b[39m\u001b[23m \"None\", \"Poaceae\", \"Poaceae\", \"Poaceae\", \"Poaceae…\n",
            "$ plant_native_status \u001b[3m\u001b[90m<chr>\u001b[39m\u001b[23m \"none\", \"native\", \"native\", \"native\", \"native\", \"…\n",
            "$ plant_life_cycle    \u001b[3m\u001b[90m<chr>\u001b[39m\u001b[23m \"unknown\", \"perennial\", \"perennial\", \"perennial\",…\n",
            "$ plant_life_form     \u001b[3m\u001b[90m<chr>\u001b[39m\u001b[23m \"none\", \"graminoid\", \"graminoid\", \"graminoid\", \"g…\n"
          ],
          "name": "stdout"
        }
      ]
    },
    {
      "cell_type": "markdown",
      "metadata": {
        "id": "bA9KX97-SkOD",
        "colab_type": "text"
      },
      "source": [
        "### location_position_classification"
      ]
    },
    {
      "cell_type": "code",
      "metadata": {
        "id": "aLY5ufkISp3c",
        "colab_type": "code",
        "colab": {}
      },
      "source": [
        "sql_position_classification <- \"\n",
        "SELECT \n",
        "  grid_point,\n",
        "  aspect_mean_deg,\n",
        "  elevation_mean_m,\n",
        "  slope_mean_deg,\n",
        "  cover_type_2016_gridVeg,\n",
        "  type3_vegetation_indicators,\n",
        "  type4_indicators_history\n",
        "FROM\n",
        "  `mpg-data-warehouse.grid_point_summaries.location_position_classification`\n",
        "\""
      ],
      "execution_count": 17,
      "outputs": []
    },
    {
      "cell_type": "code",
      "metadata": {
        "id": "Q-O2jGa8TNl5",
        "colab_type": "code",
        "colab": {}
      },
      "source": [
        "bq_position_classification <- bq_project_query(billing, sql_position_classification)"
      ],
      "execution_count": 18,
      "outputs": []
    },
    {
      "cell_type": "code",
      "metadata": {
        "id": "dU4_yClpTNjc",
        "colab_type": "code",
        "colab": {}
      },
      "source": [
        "tb_position_classification <- bq_table_download(bq_position_classification)"
      ],
      "execution_count": 19,
      "outputs": []
    },
    {
      "cell_type": "code",
      "metadata": {
        "id": "nCY1z5crTNgX",
        "colab_type": "code",
        "colab": {
          "base_uri": "https://localhost:8080/",
          "height": 170
        },
        "outputId": "2866eb49-f2b1-4e05-ff1c-7454c907b19e"
      },
      "source": [
        "df_position_classification <- as.data.frame(tb_position_classification) %>% glimpse()"
      ],
      "execution_count": 20,
      "outputs": [
        {
          "output_type": "stream",
          "text": [
            "Rows: 582\n",
            "Columns: 7\n",
            "$ grid_point                  \u001b[3m\u001b[90m<int>\u001b[39m\u001b[23m 1, 2, 3, 4, 5, 6, 7, 8, 9, 10, 11, 12, 13…\n",
            "$ aspect_mean_deg             \u001b[3m\u001b[90m<dbl>\u001b[39m\u001b[23m 334.7050, 45.3030, 221.3340, 290.4890, 28…\n",
            "$ elevation_mean_m            \u001b[3m\u001b[90m<dbl>\u001b[39m\u001b[23m 1395.64, 1456.09, 1126.90, 1166.33, 1179.…\n",
            "$ slope_mean_deg              \u001b[3m\u001b[90m<dbl>\u001b[39m\u001b[23m 28.44230, 12.22630, 4.25130, 2.68361, 4.2…\n",
            "$ cover_type_2016_gridVeg     \u001b[3m\u001b[90m<chr>\u001b[39m\u001b[23m \"woodland/forest\", \"non-irrigated grassla…\n",
            "$ type3_vegetation_indicators \u001b[3m\u001b[90m<chr>\u001b[39m\u001b[23m \"mixed canopy conifer\", \"uncultivated gra…\n",
            "$ type4_indicators_history    \u001b[3m\u001b[90m<chr>\u001b[39m\u001b[23m \"mixed canopy conifer\", \"uncultivated gra…\n"
          ],
          "name": "stdout"
        }
      ]
    },
    {
      "cell_type": "markdown",
      "metadata": {
        "id": "dZaBmigXX963",
        "colab_type": "text"
      },
      "source": [
        "# Wrangle"
      ]
    },
    {
      "cell_type": "markdown",
      "metadata": {
        "id": "sKacrvuvBhid",
        "colab_type": "text"
      },
      "source": [
        "## Create 'year'"
      ]
    },
    {
      "cell_type": "code",
      "metadata": {
        "id": "1XyTjWU9BhSp",
        "colab_type": "code",
        "colab": {}
      },
      "source": [
        "# df_vegetation_cover_year <- df_vegetation_cover %>%\n",
        "#   mutate(year = year(date))"
      ],
      "execution_count": 21,
      "outputs": []
    },
    {
      "cell_type": "markdown",
      "metadata": {
        "id": "GgQWKHXfRE5P",
        "colab_type": "text"
      },
      "source": [
        "## Join"
      ]
    },
    {
      "cell_type": "markdown",
      "metadata": {
        "id": "KfK6Ij_KGbuY",
        "colab_type": "text"
      },
      "source": [
        "### vegetation_species_metadata"
      ]
    },
    {
      "cell_type": "code",
      "metadata": {
        "id": "H2gi2S1tQM6b",
        "colab_type": "code",
        "colab": {
          "base_uri": "https://localhost:8080/",
          "height": 357
        },
        "outputId": "ffeb0902-6a32-4f37-bfee-302c91efcdbf"
      },
      "source": [
        "# vegetation_cover and species_metadata\n",
        "df_join <- df_vegetation_cover_year %>%\n",
        "  left_join(df_species_metadata, by = c(\"species_key\" = \"key_plant_species\")) %>% glimpse()"
      ],
      "execution_count": 22,
      "outputs": [
        {
          "output_type": "stream",
          "text": [
            "Rows: 21,682\n",
            "Columns: 18\n",
            "$ plot_code           \u001b[3m\u001b[90m<chr>\u001b[39m\u001b[23m \"YVP N7\", \"YVP N7\", \"YVP N7\", \"YVP N7\", \"YVP N7\",…\n",
            "$ plot_loc            \u001b[3m\u001b[90m<chr>\u001b[39m\u001b[23m \"N\", \"N\", \"N\", \"N\", \"N\", \"N\", \"N\", \"N\", \"N\", \"N\",…\n",
            "$ plot_rep            \u001b[3m\u001b[90m<chr>\u001b[39m\u001b[23m \"NA\", \"NA\", \"NA\", \"NA\", \"NA\", \"NA\", \"NA\", \"NA\", \"…\n",
            "$ plot_num            \u001b[3m\u001b[90m<int>\u001b[39m\u001b[23m 7, 7, 7, 7, 7, 7, 7, 7, 7, 7, 7, 7, 7, 7, 7, 7, 7…\n",
            "$ date                \u001b[3m\u001b[90m<date>\u001b[39m\u001b[23m 2017-06-08, 2017-06-08, 2017-06-08, 2017-06-08, …\n",
            "$ subplot             \u001b[3m\u001b[90m<int>\u001b[39m\u001b[23m 1, 1, 1, 1, 1, 1, 1, 1, 1, 1, 1, 1, 1, 1, 1, 1, 1…\n",
            "$ species_key         \u001b[3m\u001b[90m<int>\u001b[39m\u001b[23m 82, 113, 153, 187, 233, 266, 286, 320, 389, 411, …\n",
            "$ species_code        \u001b[3m\u001b[90m<chr>\u001b[39m\u001b[23m \"BROTEC\", \"CARE_SP\", \"COLLIN\", \"DRAVER\", \"FESIDA\"…\n",
            "$ cover_pct           \u001b[3m\u001b[90m<int>\u001b[39m\u001b[23m 4, 3, 5, 1, 3, 10, 4, 5, 4, 4, 10, 5, 10, 1, 5, 1…\n",
            "$ year                \u001b[3m\u001b[90m<dbl>\u001b[39m\u001b[23m 2017, 2017, 2017, 2017, 2017, 2017, 2017, 2017, 2…\n",
            "$ key_plant_code      \u001b[3m\u001b[90m<chr>\u001b[39m\u001b[23m \"BROTEC\", \"CARE_SP\", \"COLLIN\", \"DRAVER\", \"FESIDA\"…\n",
            "$ plant_name_sci      \u001b[3m\u001b[90m<chr>\u001b[39m\u001b[23m \"Bromus tectorum\", \"Carex spp.\", \"Collomia linear…\n",
            "$ plant_name_syn      \u001b[3m\u001b[90m<chr>\u001b[39m\u001b[23m NA, NA, NA, NA, NA, NA, NA, NA, NA, \"Poa sandberg…\n",
            "$ plant_name_common   \u001b[3m\u001b[90m<chr>\u001b[39m\u001b[23m \"cheatgrass\", \"sedges\", \"narrow-leaved collomia\",…\n",
            "$ plant_name_family   \u001b[3m\u001b[90m<chr>\u001b[39m\u001b[23m \"Poaceae\", \"Cyperaceae\", \"Polemoniaceae\", \"Brassi…\n",
            "$ plant_native_status \u001b[3m\u001b[90m<chr>\u001b[39m\u001b[23m \"nonnative\", \"native\", \"native\", \"nonnative\", \"na…\n",
            "$ plant_life_cycle    \u001b[3m\u001b[90m<chr>\u001b[39m\u001b[23m \"annual\", \"perennial\", \"annual\", \"annual\", \"peren…\n",
            "$ plant_life_form     \u001b[3m\u001b[90m<chr>\u001b[39m\u001b[23m \"graminoid\", \"graminoid\", \"forb\", \"forb\", \"gramin…\n"
          ],
          "name": "stdout"
        }
      ]
    },
    {
      "cell_type": "markdown",
      "metadata": {
        "id": "ZKpQ4XhxGoKX",
        "colab_type": "text"
      },
      "source": [
        "## Recode plant_life_cycle"
      ]
    },
    {
      "cell_type": "code",
      "metadata": {
        "id": "zerc8yRCQMzr",
        "colab_type": "code",
        "colab": {
          "base_uri": "https://localhost:8080/",
          "height": 357
        },
        "outputId": "4683f9d6-9017-4d20-baac-49532d225be9"
      },
      "source": [
        "# recode the levels of plant_life_cycle to simplify them\n",
        "df_recode_levels <- df_join %>%\n",
        "  mutate(plant_life_cycle = ifelse(plant_life_cycle == \"biennial perennial\" |\n",
        "                                   plant_life_cycle == \"annual perennial\" |\n",
        "                                   plant_life_cycle == \"annual biennial perennial\" |\n",
        "                                   plant_life_cycle == \"annual biennial\"\n",
        "                                   , \"multiple\", plant_life_cycle)) %>% glimpse()"
      ],
      "execution_count": 23,
      "outputs": [
        {
          "output_type": "stream",
          "text": [
            "Rows: 21,682\n",
            "Columns: 18\n",
            "$ plot_code           \u001b[3m\u001b[90m<chr>\u001b[39m\u001b[23m \"YVP N7\", \"YVP N7\", \"YVP N7\", \"YVP N7\", \"YVP N7\",…\n",
            "$ plot_loc            \u001b[3m\u001b[90m<chr>\u001b[39m\u001b[23m \"N\", \"N\", \"N\", \"N\", \"N\", \"N\", \"N\", \"N\", \"N\", \"N\",…\n",
            "$ plot_rep            \u001b[3m\u001b[90m<chr>\u001b[39m\u001b[23m \"NA\", \"NA\", \"NA\", \"NA\", \"NA\", \"NA\", \"NA\", \"NA\", \"…\n",
            "$ plot_num            \u001b[3m\u001b[90m<int>\u001b[39m\u001b[23m 7, 7, 7, 7, 7, 7, 7, 7, 7, 7, 7, 7, 7, 7, 7, 7, 7…\n",
            "$ date                \u001b[3m\u001b[90m<date>\u001b[39m\u001b[23m 2017-06-08, 2017-06-08, 2017-06-08, 2017-06-08, …\n",
            "$ subplot             \u001b[3m\u001b[90m<int>\u001b[39m\u001b[23m 1, 1, 1, 1, 1, 1, 1, 1, 1, 1, 1, 1, 1, 1, 1, 1, 1…\n",
            "$ species_key         \u001b[3m\u001b[90m<int>\u001b[39m\u001b[23m 82, 113, 153, 187, 233, 266, 286, 320, 389, 411, …\n",
            "$ species_code        \u001b[3m\u001b[90m<chr>\u001b[39m\u001b[23m \"BROTEC\", \"CARE_SP\", \"COLLIN\", \"DRAVER\", \"FESIDA\"…\n",
            "$ cover_pct           \u001b[3m\u001b[90m<int>\u001b[39m\u001b[23m 4, 3, 5, 1, 3, 10, 4, 5, 4, 4, 10, 5, 10, 1, 5, 1…\n",
            "$ year                \u001b[3m\u001b[90m<dbl>\u001b[39m\u001b[23m 2017, 2017, 2017, 2017, 2017, 2017, 2017, 2017, 2…\n",
            "$ key_plant_code      \u001b[3m\u001b[90m<chr>\u001b[39m\u001b[23m \"BROTEC\", \"CARE_SP\", \"COLLIN\", \"DRAVER\", \"FESIDA\"…\n",
            "$ plant_name_sci      \u001b[3m\u001b[90m<chr>\u001b[39m\u001b[23m \"Bromus tectorum\", \"Carex spp.\", \"Collomia linear…\n",
            "$ plant_name_syn      \u001b[3m\u001b[90m<chr>\u001b[39m\u001b[23m NA, NA, NA, NA, NA, NA, NA, NA, NA, \"Poa sandberg…\n",
            "$ plant_name_common   \u001b[3m\u001b[90m<chr>\u001b[39m\u001b[23m \"cheatgrass\", \"sedges\", \"narrow-leaved collomia\",…\n",
            "$ plant_name_family   \u001b[3m\u001b[90m<chr>\u001b[39m\u001b[23m \"Poaceae\", \"Cyperaceae\", \"Polemoniaceae\", \"Brassi…\n",
            "$ plant_native_status \u001b[3m\u001b[90m<chr>\u001b[39m\u001b[23m \"nonnative\", \"native\", \"native\", \"nonnative\", \"na…\n",
            "$ plant_life_cycle    \u001b[3m\u001b[90m<chr>\u001b[39m\u001b[23m \"annual\", \"perennial\", \"annual\", \"annual\", \"peren…\n",
            "$ plant_life_form     \u001b[3m\u001b[90m<chr>\u001b[39m\u001b[23m \"graminoid\", \"graminoid\", \"forb\", \"forb\", \"gramin…\n"
          ],
          "name": "stdout"
        }
      ]
    },
    {
      "cell_type": "code",
      "metadata": {
        "id": "47AdLxHykSO9",
        "colab_type": "code",
        "colab": {
          "base_uri": "https://localhost:8080/",
          "height": 540
        },
        "outputId": "b2b820fe-3cbb-4465-d82c-84f2de97d799"
      },
      "source": [
        "# view levels\n",
        "df_recode_levels %>%\n",
        "  # mutate(survey_code = paste(plot_code, date)) %>%\n",
        "  distinct(plant_native_status, plant_life_cycle, plant_life_form) %>%\n",
        "  arrange(plant_native_status, plant_life_cycle, plant_life_form)"
      ],
      "execution_count": 24,
      "outputs": [
        {
          "output_type": "display_data",
          "data": {
            "text/plain": [
              "   plant_native_status plant_life_cycle plant_life_form\n",
              "1  native              annual           forb           \n",
              "2  native              annual           graminoid      \n",
              "3  native              biennial         forb           \n",
              "4  native              multiple         forb           \n",
              "5  native              perennial        forb           \n",
              "6  native              perennial        graminoid      \n",
              "7  native              perennial        shrub          \n",
              "8  native              perennial        tree           \n",
              "9  native              unknown          forb           \n",
              "10 nonnative           annual           forb           \n",
              "11 nonnative           annual           graminoid      \n",
              "12 nonnative           biennial         forb           \n",
              "13 nonnative           multiple         forb           \n",
              "14 nonnative           perennial        forb           \n",
              "15 nonnative           perennial        graminoid      \n",
              "16 nonnative           unknown          graminoid      \n",
              "17 unknown             annual           forb           \n",
              "18 unknown             perennial        forb           \n",
              "19 unknown             perennial        graminoid      \n",
              "20 unknown             unknown          forb           \n",
              "21 unknown             unknown          graminoid      \n",
              "22 unknown             unknown          unknown        "
            ],
            "text/latex": "A data.frame: 22 × 3\n\\begin{tabular}{lll}\n plant\\_native\\_status & plant\\_life\\_cycle & plant\\_life\\_form\\\\\n <chr> & <chr> & <chr>\\\\\n\\hline\n\t native    & annual    & forb     \\\\\n\t native    & annual    & graminoid\\\\\n\t native    & biennial  & forb     \\\\\n\t native    & multiple  & forb     \\\\\n\t native    & perennial & forb     \\\\\n\t native    & perennial & graminoid\\\\\n\t native    & perennial & shrub    \\\\\n\t native    & perennial & tree     \\\\\n\t native    & unknown   & forb     \\\\\n\t nonnative & annual    & forb     \\\\\n\t nonnative & annual    & graminoid\\\\\n\t nonnative & biennial  & forb     \\\\\n\t nonnative & multiple  & forb     \\\\\n\t nonnative & perennial & forb     \\\\\n\t nonnative & perennial & graminoid\\\\\n\t nonnative & unknown   & graminoid\\\\\n\t unknown   & annual    & forb     \\\\\n\t unknown   & perennial & forb     \\\\\n\t unknown   & perennial & graminoid\\\\\n\t unknown   & unknown   & forb     \\\\\n\t unknown   & unknown   & graminoid\\\\\n\t unknown   & unknown   & unknown  \\\\\n\\end{tabular}\n",
            "text/markdown": "\nA data.frame: 22 × 3\n\n| plant_native_status &lt;chr&gt; | plant_life_cycle &lt;chr&gt; | plant_life_form &lt;chr&gt; |\n|---|---|---|\n| native    | annual    | forb      |\n| native    | annual    | graminoid |\n| native    | biennial  | forb      |\n| native    | multiple  | forb      |\n| native    | perennial | forb      |\n| native    | perennial | graminoid |\n| native    | perennial | shrub     |\n| native    | perennial | tree      |\n| native    | unknown   | forb      |\n| nonnative | annual    | forb      |\n| nonnative | annual    | graminoid |\n| nonnative | biennial  | forb      |\n| nonnative | multiple  | forb      |\n| nonnative | perennial | forb      |\n| nonnative | perennial | graminoid |\n| nonnative | unknown   | graminoid |\n| unknown   | annual    | forb      |\n| unknown   | perennial | forb      |\n| unknown   | perennial | graminoid |\n| unknown   | unknown   | forb      |\n| unknown   | unknown   | graminoid |\n| unknown   | unknown   | unknown   |\n\n",
            "text/html": [
              "<table>\n",
              "<caption>A data.frame: 22 × 3</caption>\n",
              "<thead>\n",
              "\t<tr><th scope=col>plant_native_status</th><th scope=col>plant_life_cycle</th><th scope=col>plant_life_form</th></tr>\n",
              "\t<tr><th scope=col>&lt;chr&gt;</th><th scope=col>&lt;chr&gt;</th><th scope=col>&lt;chr&gt;</th></tr>\n",
              "</thead>\n",
              "<tbody>\n",
              "\t<tr><td>native   </td><td>annual   </td><td>forb     </td></tr>\n",
              "\t<tr><td>native   </td><td>annual   </td><td>graminoid</td></tr>\n",
              "\t<tr><td>native   </td><td>biennial </td><td>forb     </td></tr>\n",
              "\t<tr><td>native   </td><td>multiple </td><td>forb     </td></tr>\n",
              "\t<tr><td>native   </td><td>perennial</td><td>forb     </td></tr>\n",
              "\t<tr><td>native   </td><td>perennial</td><td>graminoid</td></tr>\n",
              "\t<tr><td>native   </td><td>perennial</td><td>shrub    </td></tr>\n",
              "\t<tr><td>native   </td><td>perennial</td><td>tree     </td></tr>\n",
              "\t<tr><td>native   </td><td>unknown  </td><td>forb     </td></tr>\n",
              "\t<tr><td>nonnative</td><td>annual   </td><td>forb     </td></tr>\n",
              "\t<tr><td>nonnative</td><td>annual   </td><td>graminoid</td></tr>\n",
              "\t<tr><td>nonnative</td><td>biennial </td><td>forb     </td></tr>\n",
              "\t<tr><td>nonnative</td><td>multiple </td><td>forb     </td></tr>\n",
              "\t<tr><td>nonnative</td><td>perennial</td><td>forb     </td></tr>\n",
              "\t<tr><td>nonnative</td><td>perennial</td><td>graminoid</td></tr>\n",
              "\t<tr><td>nonnative</td><td>unknown  </td><td>graminoid</td></tr>\n",
              "\t<tr><td>unknown  </td><td>annual   </td><td>forb     </td></tr>\n",
              "\t<tr><td>unknown  </td><td>perennial</td><td>forb     </td></tr>\n",
              "\t<tr><td>unknown  </td><td>perennial</td><td>graminoid</td></tr>\n",
              "\t<tr><td>unknown  </td><td>unknown  </td><td>forb     </td></tr>\n",
              "\t<tr><td>unknown  </td><td>unknown  </td><td>graminoid</td></tr>\n",
              "\t<tr><td>unknown  </td><td>unknown  </td><td>unknown  </td></tr>\n",
              "</tbody>\n",
              "</table>\n"
            ]
          },
          "metadata": {
            "tags": []
          }
        }
      ]
    },
    {
      "cell_type": "markdown",
      "metadata": {
        "id": "j7JCb0Di99gi",
        "colab_type": "text"
      },
      "source": [
        "## Create 'survey_code'"
      ]
    },
    {
      "cell_type": "code",
      "metadata": {
        "id": "iKevxnr9WFRI",
        "colab_type": "code",
        "colab": {
          "base_uri": "https://localhost:8080/",
          "height": 374
        },
        "outputId": "60a2afb7-a52e-4a43-d6f3-72653f8643bf"
      },
      "source": [
        "# create survey_code variable\n",
        "df_survey_code <- df_recode_levels %>%\n",
        "  mutate(survey_code = paste(plot_code, date)) %>% glimpse()"
      ],
      "execution_count": 25,
      "outputs": [
        {
          "output_type": "stream",
          "text": [
            "Rows: 21,682\n",
            "Columns: 19\n",
            "$ plot_code           \u001b[3m\u001b[90m<chr>\u001b[39m\u001b[23m \"YVP N7\", \"YVP N7\", \"YVP N7\", \"YVP N7\", \"YVP N7\",…\n",
            "$ plot_loc            \u001b[3m\u001b[90m<chr>\u001b[39m\u001b[23m \"N\", \"N\", \"N\", \"N\", \"N\", \"N\", \"N\", \"N\", \"N\", \"N\",…\n",
            "$ plot_rep            \u001b[3m\u001b[90m<chr>\u001b[39m\u001b[23m \"NA\", \"NA\", \"NA\", \"NA\", \"NA\", \"NA\", \"NA\", \"NA\", \"…\n",
            "$ plot_num            \u001b[3m\u001b[90m<int>\u001b[39m\u001b[23m 7, 7, 7, 7, 7, 7, 7, 7, 7, 7, 7, 7, 7, 7, 7, 7, 7…\n",
            "$ date                \u001b[3m\u001b[90m<date>\u001b[39m\u001b[23m 2017-06-08, 2017-06-08, 2017-06-08, 2017-06-08, …\n",
            "$ subplot             \u001b[3m\u001b[90m<int>\u001b[39m\u001b[23m 1, 1, 1, 1, 1, 1, 1, 1, 1, 1, 1, 1, 1, 1, 1, 1, 1…\n",
            "$ species_key         \u001b[3m\u001b[90m<int>\u001b[39m\u001b[23m 82, 113, 153, 187, 233, 266, 286, 320, 389, 411, …\n",
            "$ species_code        \u001b[3m\u001b[90m<chr>\u001b[39m\u001b[23m \"BROTEC\", \"CARE_SP\", \"COLLIN\", \"DRAVER\", \"FESIDA\"…\n",
            "$ cover_pct           \u001b[3m\u001b[90m<int>\u001b[39m\u001b[23m 4, 3, 5, 1, 3, 10, 4, 5, 4, 4, 10, 5, 10, 1, 5, 1…\n",
            "$ year                \u001b[3m\u001b[90m<dbl>\u001b[39m\u001b[23m 2017, 2017, 2017, 2017, 2017, 2017, 2017, 2017, 2…\n",
            "$ key_plant_code      \u001b[3m\u001b[90m<chr>\u001b[39m\u001b[23m \"BROTEC\", \"CARE_SP\", \"COLLIN\", \"DRAVER\", \"FESIDA\"…\n",
            "$ plant_name_sci      \u001b[3m\u001b[90m<chr>\u001b[39m\u001b[23m \"Bromus tectorum\", \"Carex spp.\", \"Collomia linear…\n",
            "$ plant_name_syn      \u001b[3m\u001b[90m<chr>\u001b[39m\u001b[23m NA, NA, NA, NA, NA, NA, NA, NA, NA, \"Poa sandberg…\n",
            "$ plant_name_common   \u001b[3m\u001b[90m<chr>\u001b[39m\u001b[23m \"cheatgrass\", \"sedges\", \"narrow-leaved collomia\",…\n",
            "$ plant_name_family   \u001b[3m\u001b[90m<chr>\u001b[39m\u001b[23m \"Poaceae\", \"Cyperaceae\", \"Polemoniaceae\", \"Brassi…\n",
            "$ plant_native_status \u001b[3m\u001b[90m<chr>\u001b[39m\u001b[23m \"nonnative\", \"native\", \"native\", \"nonnative\", \"na…\n",
            "$ plant_life_cycle    \u001b[3m\u001b[90m<chr>\u001b[39m\u001b[23m \"annual\", \"perennial\", \"annual\", \"annual\", \"peren…\n",
            "$ plant_life_form     \u001b[3m\u001b[90m<chr>\u001b[39m\u001b[23m \"graminoid\", \"graminoid\", \"forb\", \"forb\", \"gramin…\n",
            "$ survey_code         \u001b[3m\u001b[90m<chr>\u001b[39m\u001b[23m \"YVP N7 2017-06-08\", \"YVP N7 2017-06-08\", \"YVP N7…\n"
          ],
          "name": "stdout"
        }
      ]
    },
    {
      "cell_type": "code",
      "metadata": {
        "id": "P4Vdqyk8iTNM",
        "colab_type": "code",
        "colab": {}
      },
      "source": [
        "# use df_survey_code to join _loc _rep etc back into df\n",
        "# or make df with only variables"
      ],
      "execution_count": null,
      "outputs": []
    },
    {
      "cell_type": "markdown",
      "metadata": {
        "id": "nl3U8t6YCzbR",
        "colab_type": "text"
      },
      "source": [
        "## Create 'cover_pct_avg'"
      ]
    },
    {
      "cell_type": "code",
      "metadata": {
        "id": "Aim8-6fhaguk",
        "colab_type": "code",
        "colab": {
          "base_uri": "https://localhost:8080/",
          "height": 207
        },
        "outputId": "c07d7ccb-3030-4cfe-993c-8593429ed48a"
      },
      "source": [
        "# calculate cover_pct_sum\n",
        "df_cover_sum <- df_survey_code %>%\n",
        "  group_by(survey_code, subplot, plant_native_status, plant_life_cycle, plant_life_form) %>%\n",
        "  summarise(cover_pct_sum = (sum(cover_pct))) %>% ungroup() %>% \n",
        "  glimpse()"
      ],
      "execution_count": 26,
      "outputs": [
        {
          "output_type": "stream",
          "text": [
            "`summarise()` regrouping output by 'survey_code', 'subplot', 'plant_native_status', 'plant_life_cycle' (override with `.groups` argument)\n",
            "\n"
          ],
          "name": "stderr"
        },
        {
          "output_type": "stream",
          "text": [
            "Rows: 9,999\n",
            "Columns: 6\n",
            "$ survey_code         \u001b[3m\u001b[90m<chr>\u001b[39m\u001b[23m \"YVP 10 2017-06-09\", \"YVP 10 2017-06-09\", \"YVP 10…\n",
            "$ subplot             \u001b[3m\u001b[90m<int>\u001b[39m\u001b[23m 1, 1, 1, 1, 1, 1, 2, 2, 2, 2, 2, 3, 3, 3, 3, 4, 4…\n",
            "$ plant_native_status \u001b[3m\u001b[90m<chr>\u001b[39m\u001b[23m \"native\", \"native\", \"native\", \"native\", \"nonnativ…\n",
            "$ plant_life_cycle    \u001b[3m\u001b[90m<chr>\u001b[39m\u001b[23m \"annual\", \"multiple\", \"perennial\", \"perennial\", \"…\n",
            "$ plant_life_form     \u001b[3m\u001b[90m<chr>\u001b[39m\u001b[23m \"forb\", \"forb\", \"forb\", \"graminoid\", \"forb\", \"for…\n",
            "$ cover_pct_sum       \u001b[3m\u001b[90m<int>\u001b[39m\u001b[23m 1, 1, 49, 50, 3, 5, 29, 60, 2, 4, 5, 67, 25, 3, 3…\n"
          ],
          "name": "stdout"
        }
      ]
    },
    {
      "cell_type": "code",
      "metadata": {
        "id": "n9T2rKulbnJI",
        "colab_type": "code",
        "colab": {
          "base_uri": "https://localhost:8080/",
          "height": 190
        },
        "outputId": "cc68836c-7c1f-4303-f12d-899b6b7882ec"
      },
      "source": [
        "df_cover_avg <- df_cover_sum %>%\n",
        "  group_by(survey_code, plant_native_status, plant_life_cycle, plant_life_form) %>%\n",
        "  summarise(cover_pct_avg = sum(cover_pct_sum) / 10) %>% ungroup() %>% ungroup() %>%\n",
        "  glimpse()"
      ],
      "execution_count": 27,
      "outputs": [
        {
          "output_type": "stream",
          "text": [
            "`summarise()` regrouping output by 'survey_code', 'plant_native_status', 'plant_life_cycle' (override with `.groups` argument)\n",
            "\n"
          ],
          "name": "stderr"
        },
        {
          "output_type": "stream",
          "text": [
            "Rows: 1,525\n",
            "Columns: 5\n",
            "$ survey_code         \u001b[3m\u001b[90m<chr>\u001b[39m\u001b[23m \"YVP 10 2017-06-09\", \"YVP 10 2017-06-09\", \"YVP 10…\n",
            "$ plant_native_status \u001b[3m\u001b[90m<chr>\u001b[39m\u001b[23m \"native\", \"native\", \"native\", \"native\", \"nonnativ…\n",
            "$ plant_life_cycle    \u001b[3m\u001b[90m<chr>\u001b[39m\u001b[23m \"annual\", \"multiple\", \"perennial\", \"perennial\", \"…\n",
            "$ plant_life_form     \u001b[3m\u001b[90m<chr>\u001b[39m\u001b[23m \"forb\", \"forb\", \"forb\", \"graminoid\", \"forb\", \"gra…\n",
            "$ cover_pct_avg       \u001b[3m\u001b[90m<dbl>\u001b[39m\u001b[23m 0.8, 0.2, 32.9, 49.5, 3.7, 2.0, 1.1, 4.5, 4.1, 0.…\n"
          ],
          "name": "stdout"
        }
      ]
    },
    {
      "cell_type": "markdown",
      "metadata": {
        "id": "d-PDapd_FX4g",
        "colab_type": "text"
      },
      "source": [
        "## Complete"
      ]
    },
    {
      "cell_type": "markdown",
      "metadata": {
        "id": "PRWIID4WFotj",
        "colab_type": "text"
      },
      "source": [
        "After simplifying the functional groups and producing transect averages of plant cover, make sure all combinations of functional groups that are found in the data are represented in each survey_code. For those groups which were not detected at a survey_code, fill the detection_rate with 0. This makes it possible to produce meaningful averages of functional group detections within habitat polygons or years without creating a positive bias for rarer functional groups. In other words, zero detection of a functional group at a grid point is a real zero, not a missing value."
      ]
    },
    {
      "cell_type": "code",
      "metadata": {
        "id": "GC2LhxuRg12f",
        "colab_type": "code",
        "colab": {
          "base_uri": "https://localhost:8080/",
          "height": 136
        },
        "outputId": "6a2d0163-a477-49a3-bc2f-fb326874fb91"
      },
      "source": [
        "df_cover_avg %>% glimpse()"
      ],
      "execution_count": 29,
      "outputs": [
        {
          "output_type": "stream",
          "text": [
            "Rows: 1,525\n",
            "Columns: 5\n",
            "$ survey_code         \u001b[3m\u001b[90m<chr>\u001b[39m\u001b[23m \"YVP 10 2017-06-09\", \"YVP 10 2017-06-09\", \"YVP 10…\n",
            "$ plant_native_status \u001b[3m\u001b[90m<chr>\u001b[39m\u001b[23m \"native\", \"native\", \"native\", \"native\", \"nonnativ…\n",
            "$ plant_life_cycle    \u001b[3m\u001b[90m<chr>\u001b[39m\u001b[23m \"annual\", \"multiple\", \"perennial\", \"perennial\", \"…\n",
            "$ plant_life_form     \u001b[3m\u001b[90m<chr>\u001b[39m\u001b[23m \"forb\", \"forb\", \"forb\", \"graminoid\", \"forb\", \"gra…\n",
            "$ cover_pct_avg       \u001b[3m\u001b[90m<dbl>\u001b[39m\u001b[23m 0.8, 0.2, 32.9, 49.5, 3.7, 2.0, 1.1, 4.5, 4.1, 0.…\n"
          ],
          "name": "stdout"
        }
      ]
    },
    {
      "cell_type": "code",
      "metadata": {
        "id": "0j3iMJ3cQMnL",
        "colab_type": "code",
        "colab": {
          "base_uri": "https://localhost:8080/",
          "height": 136
        },
        "outputId": "f5853cdf-1095-4a66-9d8e-cf058508c778"
      },
      "source": [
        "df_complete <- df_cover_avg %>%\n",
        "  complete(survey_code,\n",
        "           nesting(plant_native_status, plant_life_cycle, plant_life_form),\n",
        "           fill = list(cover_pct_avg = 0)) %>%\n",
        "  arrange(survey_code, plant_native_status, plant_life_cycle, plant_life_form) %>% glimpse()"
      ],
      "execution_count": 30,
      "outputs": [
        {
          "output_type": "stream",
          "text": [
            "Rows: 3,850\n",
            "Columns: 5\n",
            "$ survey_code         \u001b[3m\u001b[90m<chr>\u001b[39m\u001b[23m \"YVP 10 2017-06-09\", \"YVP 10 2017-06-09\", \"YVP 10…\n",
            "$ plant_native_status \u001b[3m\u001b[90m<chr>\u001b[39m\u001b[23m \"native\", \"native\", \"native\", \"native\", \"native\",…\n",
            "$ plant_life_cycle    \u001b[3m\u001b[90m<chr>\u001b[39m\u001b[23m \"annual\", \"annual\", \"biennial\", \"multiple\", \"pere…\n",
            "$ plant_life_form     \u001b[3m\u001b[90m<chr>\u001b[39m\u001b[23m \"forb\", \"graminoid\", \"forb\", \"forb\", \"forb\", \"gra…\n",
            "$ cover_pct_avg       \u001b[3m\u001b[90m<dbl>\u001b[39m\u001b[23m 0.8, 0.0, 0.0, 0.2, 32.9, 49.5, 0.0, 0.0, 0.0, 3.…\n"
          ],
          "name": "stdout"
        }
      ]
    },
    {
      "cell_type": "markdown",
      "metadata": {
        "id": "__IGnWQLycLR",
        "colab_type": "text"
      },
      "source": [
        "## year"
      ]
    },
    {
      "cell_type": "code",
      "metadata": {
        "id": "fGcuzxK8yFTj",
        "colab_type": "code",
        "colab": {
          "base_uri": "https://localhost:8080/",
          "height": 153
        },
        "outputId": "7de10fe9-7065-48aa-8c85-4ffc30166ea7"
      },
      "source": [
        "df_year <- df_complete %>%\n",
        "  mutate(year = substring(survey_code, nchar(survey_code)-9, nchar(survey_code)-6)) %>% glimpse()"
      ],
      "execution_count": 75,
      "outputs": [
        {
          "output_type": "stream",
          "text": [
            "Rows: 3,850\n",
            "Columns: 6\n",
            "$ survey_code         \u001b[3m\u001b[90m<chr>\u001b[39m\u001b[23m \"YVP 10 2017-06-09\", \"YVP 10 2017-06-09\", \"YVP 10…\n",
            "$ plant_native_status \u001b[3m\u001b[90m<chr>\u001b[39m\u001b[23m \"native\", \"native\", \"native\", \"native\", \"native\",…\n",
            "$ plant_life_cycle    \u001b[3m\u001b[90m<chr>\u001b[39m\u001b[23m \"annual\", \"annual\", \"biennial\", \"multiple\", \"pere…\n",
            "$ plant_life_form     \u001b[3m\u001b[90m<chr>\u001b[39m\u001b[23m \"forb\", \"graminoid\", \"forb\", \"forb\", \"forb\", \"gra…\n",
            "$ cover_pct_avg       \u001b[3m\u001b[90m<dbl>\u001b[39m\u001b[23m 0.8, 0.0, 0.0, 0.2, 32.9, 49.5, 0.0, 0.0, 0.0, 3.…\n",
            "$ year                \u001b[3m\u001b[90m<chr>\u001b[39m\u001b[23m \"2017\", \"2017\", \"2017\", \"2017\", \"2017\", \"2017\", \"…\n"
          ],
          "name": "stdout"
        }
      ]
    },
    {
      "cell_type": "markdown",
      "metadata": {
        "id": "fvV3zj3uvsGU",
        "colab_type": "text"
      },
      "source": [
        "## plot_code"
      ]
    },
    {
      "cell_type": "code",
      "metadata": {
        "id": "lkHOGonCvtpY",
        "colab_type": "code",
        "colab": {
          "base_uri": "https://localhost:8080/",
          "height": 170
        },
        "outputId": "167a915f-44e1-4a5d-b311-51f5bfcca598"
      },
      "source": [
        "# bring plot_code back in by removing date\n",
        " df_plot_code <- df_year %>%\n",
        "  mutate(plot_code = substring(survey_code, 1,nchar(survey_code)-11)) %>% glimpse()"
      ],
      "execution_count": 76,
      "outputs": [
        {
          "output_type": "stream",
          "text": [
            "Rows: 3,850\n",
            "Columns: 7\n",
            "$ survey_code         \u001b[3m\u001b[90m<chr>\u001b[39m\u001b[23m \"YVP 10 2017-06-09\", \"YVP 10 2017-06-09\", \"YVP 10…\n",
            "$ plant_native_status \u001b[3m\u001b[90m<chr>\u001b[39m\u001b[23m \"native\", \"native\", \"native\", \"native\", \"native\",…\n",
            "$ plant_life_cycle    \u001b[3m\u001b[90m<chr>\u001b[39m\u001b[23m \"annual\", \"annual\", \"biennial\", \"multiple\", \"pere…\n",
            "$ plant_life_form     \u001b[3m\u001b[90m<chr>\u001b[39m\u001b[23m \"forb\", \"graminoid\", \"forb\", \"forb\", \"forb\", \"gra…\n",
            "$ cover_pct_avg       \u001b[3m\u001b[90m<dbl>\u001b[39m\u001b[23m 0.8, 0.0, 0.0, 0.2, 32.9, 49.5, 0.0, 0.0, 0.0, 3.…\n",
            "$ year                \u001b[3m\u001b[90m<chr>\u001b[39m\u001b[23m \"2017\", \"2017\", \"2017\", \"2017\", \"2017\", \"2017\", \"…\n",
            "$ plot_code           \u001b[3m\u001b[90m<chr>\u001b[39m\u001b[23m \"YVP 10\", \"YVP 10\", \"YVP 10\", \"YVP 10\", \"YVP 10\",…\n"
          ],
          "name": "stdout"
        }
      ]
    },
    {
      "cell_type": "markdown",
      "metadata": {
        "id": "HzV9R6ddq2tp",
        "colab_type": "text"
      },
      "source": [
        "## plot_loc"
      ]
    },
    {
      "cell_type": "code",
      "metadata": {
        "id": "B13X_89wswt5",
        "colab_type": "code",
        "colab": {
          "base_uri": "https://localhost:8080/",
          "height": 187
        },
        "outputId": "2d89d9c1-d4d1-439a-b180-67c482d84cde"
      },
      "source": [
        "# detect \"N\" in 'plot_code' and write to new column 'plot_loc'\n",
        "df_plot_loc <- df_plot_code %>%\n",
        "  mutate(plot_loc = ifelse(str_detect(plot_code, \"N\"), \"N\", NA)) %>% glimpse()"
      ],
      "execution_count": 78,
      "outputs": [
        {
          "output_type": "stream",
          "text": [
            "Rows: 3,850\n",
            "Columns: 8\n",
            "$ survey_code         \u001b[3m\u001b[90m<chr>\u001b[39m\u001b[23m \"YVP 10 2017-06-09\", \"YVP 10 2017-06-09\", \"YVP 10…\n",
            "$ plant_native_status \u001b[3m\u001b[90m<chr>\u001b[39m\u001b[23m \"native\", \"native\", \"native\", \"native\", \"native\",…\n",
            "$ plant_life_cycle    \u001b[3m\u001b[90m<chr>\u001b[39m\u001b[23m \"annual\", \"annual\", \"biennial\", \"multiple\", \"pere…\n",
            "$ plant_life_form     \u001b[3m\u001b[90m<chr>\u001b[39m\u001b[23m \"forb\", \"graminoid\", \"forb\", \"forb\", \"forb\", \"gra…\n",
            "$ cover_pct_avg       \u001b[3m\u001b[90m<dbl>\u001b[39m\u001b[23m 0.8, 0.0, 0.0, 0.2, 32.9, 49.5, 0.0, 0.0, 0.0, 3.…\n",
            "$ year                \u001b[3m\u001b[90m<chr>\u001b[39m\u001b[23m \"2017\", \"2017\", \"2017\", \"2017\", \"2017\", \"2017\", \"…\n",
            "$ plot_code           \u001b[3m\u001b[90m<chr>\u001b[39m\u001b[23m \"YVP 10\", \"YVP 10\", \"YVP 10\", \"YVP 10\", \"YVP 10\",…\n",
            "$ plot_loc            \u001b[3m\u001b[90m<chr>\u001b[39m\u001b[23m NA, NA, NA, NA, NA, NA, NA, NA, NA, NA, NA, NA, N…\n"
          ],
          "name": "stdout"
        }
      ]
    },
    {
      "cell_type": "markdown",
      "metadata": {
        "id": "AJ0UHbgmq87E",
        "colab_type": "text"
      },
      "source": [
        "## plot_rep"
      ]
    },
    {
      "cell_type": "code",
      "metadata": {
        "id": "niB0f1CZohJL",
        "colab_type": "code",
        "colab": {
          "base_uri": "https://localhost:8080/",
          "height": 204
        },
        "outputId": "3d43826b-cfbe-4870-8a44-14c9b7693971"
      },
      "source": [
        "# detect \"A\", \"B\", \"C\" characters in plot_code and if present write to 'plot_rep'\n",
        "df_plot_rep <- df_plot_loc %>%\n",
        "  mutate(plot_rep = case_when(str_detect(plot_code, \"A\")~\"A\",\n",
        "                              str_detect(plot_code, \"B\")~\"B\",\n",
        "                              str_detect(plot_code, \"C\")~\"C\")) %>% glimpse()"
      ],
      "execution_count": 79,
      "outputs": [
        {
          "output_type": "stream",
          "text": [
            "Rows: 3,850\n",
            "Columns: 9\n",
            "$ survey_code         \u001b[3m\u001b[90m<chr>\u001b[39m\u001b[23m \"YVP 10 2017-06-09\", \"YVP 10 2017-06-09\", \"YVP 10…\n",
            "$ plant_native_status \u001b[3m\u001b[90m<chr>\u001b[39m\u001b[23m \"native\", \"native\", \"native\", \"native\", \"native\",…\n",
            "$ plant_life_cycle    \u001b[3m\u001b[90m<chr>\u001b[39m\u001b[23m \"annual\", \"annual\", \"biennial\", \"multiple\", \"pere…\n",
            "$ plant_life_form     \u001b[3m\u001b[90m<chr>\u001b[39m\u001b[23m \"forb\", \"graminoid\", \"forb\", \"forb\", \"forb\", \"gra…\n",
            "$ cover_pct_avg       \u001b[3m\u001b[90m<dbl>\u001b[39m\u001b[23m 0.8, 0.0, 0.0, 0.2, 32.9, 49.5, 0.0, 0.0, 0.0, 3.…\n",
            "$ year                \u001b[3m\u001b[90m<chr>\u001b[39m\u001b[23m \"2017\", \"2017\", \"2017\", \"2017\", \"2017\", \"2017\", \"…\n",
            "$ plot_code           \u001b[3m\u001b[90m<chr>\u001b[39m\u001b[23m \"YVP 10\", \"YVP 10\", \"YVP 10\", \"YVP 10\", \"YVP 10\",…\n",
            "$ plot_loc            \u001b[3m\u001b[90m<chr>\u001b[39m\u001b[23m NA, NA, NA, NA, NA, NA, NA, NA, NA, NA, NA, NA, N…\n",
            "$ plot_rep            \u001b[3m\u001b[90m<chr>\u001b[39m\u001b[23m NA, NA, NA, NA, NA, NA, NA, NA, NA, NA, NA, NA, N…\n"
          ],
          "name": "stdout"
        }
      ]
    },
    {
      "cell_type": "markdown",
      "metadata": {
        "id": "g7-RhgZwrATm",
        "colab_type": "text"
      },
      "source": [
        "## grid_point"
      ]
    },
    {
      "cell_type": "code",
      "metadata": {
        "id": "jIX2Zkf5ohGR",
        "colab_type": "code",
        "colab": {
          "base_uri": "https://localhost:8080/",
          "height": 221
        },
        "outputId": "ad95bf05-5178-4be2-8af3-431986a1c162"
      },
      "source": [
        "# use digital values from 'plot_code' and to populate 'plot_num'\n",
        "df_grid_point <- df_plot_rep %>%\n",
        "  mutate(grid_point = str_extract(plot_code, \"[:digit:].*\"),\n",
        "         grid_point = as.integer(grid_point)) %>% glimpse()"
      ],
      "execution_count": 81,
      "outputs": [
        {
          "output_type": "stream",
          "text": [
            "Rows: 3,850\n",
            "Columns: 10\n",
            "$ survey_code         \u001b[3m\u001b[90m<chr>\u001b[39m\u001b[23m \"YVP 10 2017-06-09\", \"YVP 10 2017-06-09\", \"YVP 10…\n",
            "$ plant_native_status \u001b[3m\u001b[90m<chr>\u001b[39m\u001b[23m \"native\", \"native\", \"native\", \"native\", \"native\",…\n",
            "$ plant_life_cycle    \u001b[3m\u001b[90m<chr>\u001b[39m\u001b[23m \"annual\", \"annual\", \"biennial\", \"multiple\", \"pere…\n",
            "$ plant_life_form     \u001b[3m\u001b[90m<chr>\u001b[39m\u001b[23m \"forb\", \"graminoid\", \"forb\", \"forb\", \"forb\", \"gra…\n",
            "$ cover_pct_avg       \u001b[3m\u001b[90m<dbl>\u001b[39m\u001b[23m 0.8, 0.0, 0.0, 0.2, 32.9, 49.5, 0.0, 0.0, 0.0, 3.…\n",
            "$ year                \u001b[3m\u001b[90m<chr>\u001b[39m\u001b[23m \"2017\", \"2017\", \"2017\", \"2017\", \"2017\", \"2017\", \"…\n",
            "$ plot_code           \u001b[3m\u001b[90m<chr>\u001b[39m\u001b[23m \"YVP 10\", \"YVP 10\", \"YVP 10\", \"YVP 10\", \"YVP 10\",…\n",
            "$ plot_loc            \u001b[3m\u001b[90m<chr>\u001b[39m\u001b[23m NA, NA, NA, NA, NA, NA, NA, NA, NA, NA, NA, NA, N…\n",
            "$ plot_rep            \u001b[3m\u001b[90m<chr>\u001b[39m\u001b[23m NA, NA, NA, NA, NA, NA, NA, NA, NA, NA, NA, NA, N…\n",
            "$ grid_point          \u001b[3m\u001b[90m<int>\u001b[39m\u001b[23m 10, 10, 10, 10, 10, 10, 10, 10, 10, 10, 10, 10, 1…\n"
          ],
          "name": "stdout"
        }
      ]
    },
    {
      "cell_type": "markdown",
      "metadata": {
        "id": "O4yrnXRzxAPW",
        "colab_type": "text"
      },
      "source": [
        "## Join"
      ]
    },
    {
      "cell_type": "markdown",
      "metadata": {
        "id": "DByHfKAlxC5Y",
        "colab_type": "text"
      },
      "source": [
        "### location_position_classification"
      ]
    },
    {
      "cell_type": "code",
      "metadata": {
        "id": "90n2NMJ2xOtb",
        "colab_type": "code",
        "colab": {
          "base_uri": "https://localhost:8080/",
          "height": 170
        },
        "outputId": "c7658b86-bbf9-45b3-c23a-a4196a2780f4"
      },
      "source": [
        "df_position_classification %>% glimpse()"
      ],
      "execution_count": 82,
      "outputs": [
        {
          "output_type": "stream",
          "text": [
            "Rows: 582\n",
            "Columns: 7\n",
            "$ grid_point                  \u001b[3m\u001b[90m<int>\u001b[39m\u001b[23m 1, 2, 3, 4, 5, 6, 7, 8, 9, 10, 11, 12, 13…\n",
            "$ aspect_mean_deg             \u001b[3m\u001b[90m<dbl>\u001b[39m\u001b[23m 334.7050, 45.3030, 221.3340, 290.4890, 28…\n",
            "$ elevation_mean_m            \u001b[3m\u001b[90m<dbl>\u001b[39m\u001b[23m 1395.64, 1456.09, 1126.90, 1166.33, 1179.…\n",
            "$ slope_mean_deg              \u001b[3m\u001b[90m<dbl>\u001b[39m\u001b[23m 28.44230, 12.22630, 4.25130, 2.68361, 4.2…\n",
            "$ cover_type_2016_gridVeg     \u001b[3m\u001b[90m<chr>\u001b[39m\u001b[23m \"woodland/forest\", \"non-irrigated grassla…\n",
            "$ type3_vegetation_indicators \u001b[3m\u001b[90m<chr>\u001b[39m\u001b[23m \"mixed canopy conifer\", \"uncultivated gra…\n",
            "$ type4_indicators_history    \u001b[3m\u001b[90m<chr>\u001b[39m\u001b[23m \"mixed canopy conifer\", \"uncultivated gra…\n"
          ],
          "name": "stdout"
        }
      ]
    },
    {
      "cell_type": "code",
      "metadata": {
        "id": "cDDj7T0jwvxB",
        "colab_type": "code",
        "colab": {
          "base_uri": "https://localhost:8080/",
          "height": 357
        },
        "outputId": "27a6b145-fcaa-4aba-d82f-533e765d6e50"
      },
      "source": [
        "df_join_position_class <- df_grid_point %>%\n",
        "  left_join(df_position_classification) %>% glimpse()"
      ],
      "execution_count": 83,
      "outputs": [
        {
          "output_type": "stream",
          "text": [
            "Joining, by = \"grid_point\"\n",
            "\n"
          ],
          "name": "stderr"
        },
        {
          "output_type": "stream",
          "text": [
            "Rows: 3,850\n",
            "Columns: 16\n",
            "$ survey_code                 \u001b[3m\u001b[90m<chr>\u001b[39m\u001b[23m \"YVP 10 2017-06-09\", \"YVP 10 2017-06-09\",…\n",
            "$ plant_native_status         \u001b[3m\u001b[90m<chr>\u001b[39m\u001b[23m \"native\", \"native\", \"native\", \"native\", \"…\n",
            "$ plant_life_cycle            \u001b[3m\u001b[90m<chr>\u001b[39m\u001b[23m \"annual\", \"annual\", \"biennial\", \"multiple…\n",
            "$ plant_life_form             \u001b[3m\u001b[90m<chr>\u001b[39m\u001b[23m \"forb\", \"graminoid\", \"forb\", \"forb\", \"for…\n",
            "$ cover_pct_avg               \u001b[3m\u001b[90m<dbl>\u001b[39m\u001b[23m 0.8, 0.0, 0.0, 0.2, 32.9, 49.5, 0.0, 0.0,…\n",
            "$ year                        \u001b[3m\u001b[90m<chr>\u001b[39m\u001b[23m \"2017\", \"2017\", \"2017\", \"2017\", \"2017\", \"…\n",
            "$ plot_code                   \u001b[3m\u001b[90m<chr>\u001b[39m\u001b[23m \"YVP 10\", \"YVP 10\", \"YVP 10\", \"YVP 10\", \"…\n",
            "$ plot_loc                    \u001b[3m\u001b[90m<chr>\u001b[39m\u001b[23m NA, NA, NA, NA, NA, NA, NA, NA, NA, NA, N…\n",
            "$ plot_rep                    \u001b[3m\u001b[90m<chr>\u001b[39m\u001b[23m NA, NA, NA, NA, NA, NA, NA, NA, NA, NA, N…\n",
            "$ grid_point                  \u001b[3m\u001b[90m<int>\u001b[39m\u001b[23m 10, 10, 10, 10, 10, 10, 10, 10, 10, 10, 1…\n",
            "$ aspect_mean_deg             \u001b[3m\u001b[90m<dbl>\u001b[39m\u001b[23m 18.8095, 18.8095, 18.8095, 18.8095, 18.80…\n",
            "$ elevation_mean_m            \u001b[3m\u001b[90m<dbl>\u001b[39m\u001b[23m 1146.9, 1146.9, 1146.9, 1146.9, 1146.9, 1…\n",
            "$ slope_mean_deg              \u001b[3m\u001b[90m<dbl>\u001b[39m\u001b[23m 20.794, 20.794, 20.794, 20.794, 20.794, 2…\n",
            "$ cover_type_2016_gridVeg     \u001b[3m\u001b[90m<chr>\u001b[39m\u001b[23m \"non-irrigated grasslands\", \"non-irrigate…\n",
            "$ type3_vegetation_indicators \u001b[3m\u001b[90m<chr>\u001b[39m\u001b[23m \"wooded draw\", \"wooded draw\", \"wooded dra…\n",
            "$ type4_indicators_history    \u001b[3m\u001b[90m<chr>\u001b[39m\u001b[23m \"wooded draw\", \"wooded draw\", \"wooded dra…\n"
          ],
          "name": "stdout"
        }
      ]
    },
    {
      "cell_type": "markdown",
      "metadata": {
        "id": "emQbouLu11ct",
        "colab_type": "text"
      },
      "source": [
        "## Reorder"
      ]
    },
    {
      "cell_type": "code",
      "metadata": {
        "id": "0zec8NEiwvuC",
        "colab_type": "code",
        "colab": {
          "base_uri": "https://localhost:8080/",
          "height": 51
        },
        "outputId": "63a45e0c-cba1-4d22-840e-bcec2caff044"
      },
      "source": [
        "names(df_join_position_class)"
      ],
      "execution_count": 84,
      "outputs": [
        {
          "output_type": "display_data",
          "data": {
            "text/plain": [
              " [1] \"survey_code\"                 \"plant_native_status\"        \n",
              " [3] \"plant_life_cycle\"            \"plant_life_form\"            \n",
              " [5] \"cover_pct_avg\"               \"year\"                       \n",
              " [7] \"plot_code\"                   \"plot_loc\"                   \n",
              " [9] \"plot_rep\"                    \"grid_point\"                 \n",
              "[11] \"aspect_mean_deg\"             \"elevation_mean_m\"           \n",
              "[13] \"slope_mean_deg\"              \"cover_type_2016_gridVeg\"    \n",
              "[15] \"type3_vegetation_indicators\" \"type4_indicators_history\"   "
            ],
            "text/latex": "\\begin{enumerate*}\n\\item 'survey\\_code'\n\\item 'plant\\_native\\_status'\n\\item 'plant\\_life\\_cycle'\n\\item 'plant\\_life\\_form'\n\\item 'cover\\_pct\\_avg'\n\\item 'year'\n\\item 'plot\\_code'\n\\item 'plot\\_loc'\n\\item 'plot\\_rep'\n\\item 'grid\\_point'\n\\item 'aspect\\_mean\\_deg'\n\\item 'elevation\\_mean\\_m'\n\\item 'slope\\_mean\\_deg'\n\\item 'cover\\_type\\_2016\\_gridVeg'\n\\item 'type3\\_vegetation\\_indicators'\n\\item 'type4\\_indicators\\_history'\n\\end{enumerate*}\n",
            "text/markdown": "1. 'survey_code'\n2. 'plant_native_status'\n3. 'plant_life_cycle'\n4. 'plant_life_form'\n5. 'cover_pct_avg'\n6. 'year'\n7. 'plot_code'\n8. 'plot_loc'\n9. 'plot_rep'\n10. 'grid_point'\n11. 'aspect_mean_deg'\n12. 'elevation_mean_m'\n13. 'slope_mean_deg'\n14. 'cover_type_2016_gridVeg'\n15. 'type3_vegetation_indicators'\n16. 'type4_indicators_history'\n\n\n",
            "text/html": [
              "<style>\n",
              ".list-inline {list-style: none; margin:0; padding: 0}\n",
              ".list-inline>li {display: inline-block}\n",
              ".list-inline>li:not(:last-child)::after {content: \"\\00b7\"; padding: 0 .5ex}\n",
              "</style>\n",
              "<ol class=list-inline><li>'survey_code'</li><li>'plant_native_status'</li><li>'plant_life_cycle'</li><li>'plant_life_form'</li><li>'cover_pct_avg'</li><li>'year'</li><li>'plot_code'</li><li>'plot_loc'</li><li>'plot_rep'</li><li>'grid_point'</li><li>'aspect_mean_deg'</li><li>'elevation_mean_m'</li><li>'slope_mean_deg'</li><li>'cover_type_2016_gridVeg'</li><li>'type3_vegetation_indicators'</li><li>'type4_indicators_history'</li></ol>\n"
            ]
          },
          "metadata": {
            "tags": []
          }
        }
      ]
    },
    {
      "cell_type": "code",
      "metadata": {
        "id": "0Nr1lz2uwvrJ",
        "colab_type": "code",
        "colab": {
          "base_uri": "https://localhost:8080/",
          "height": 323
        },
        "outputId": "242106db-bf8f-4925-8754-98727d36150a"
      },
      "source": [
        "df_yvp_plant_functional_groups <-\n",
        "df_join_position_class[c(\"survey_code\",\"plot_code\",\"year\",\"plot_loc\",\"plot_rep\",\n",
        "                         \"grid_point\",\"aspect_mean_deg\",\"elevation_mean_m\",\"slope_mean_deg\",\n",
        "                         \"cover_type_2016_gridVeg\",\"type3_vegetation_indicators\",\"type4_indicators_history\",\n",
        "                         \"plant_native_status\",\"plant_life_cycle\",\"plant_life_form\",\"cover_pct_avg\")] %>%\n",
        "  glimpse()"
      ],
      "execution_count": 87,
      "outputs": [
        {
          "output_type": "stream",
          "text": [
            "Rows: 3,850\n",
            "Columns: 16\n",
            "$ survey_code                 \u001b[3m\u001b[90m<chr>\u001b[39m\u001b[23m \"YVP 10 2017-06-09\", \"YVP 10 2017-06-09\",…\n",
            "$ plot_code                   \u001b[3m\u001b[90m<chr>\u001b[39m\u001b[23m \"YVP 10\", \"YVP 10\", \"YVP 10\", \"YVP 10\", \"…\n",
            "$ year                        \u001b[3m\u001b[90m<chr>\u001b[39m\u001b[23m \"2017\", \"2017\", \"2017\", \"2017\", \"2017\", \"…\n",
            "$ plot_loc                    \u001b[3m\u001b[90m<chr>\u001b[39m\u001b[23m NA, NA, NA, NA, NA, NA, NA, NA, NA, NA, N…\n",
            "$ plot_rep                    \u001b[3m\u001b[90m<chr>\u001b[39m\u001b[23m NA, NA, NA, NA, NA, NA, NA, NA, NA, NA, N…\n",
            "$ grid_point                  \u001b[3m\u001b[90m<int>\u001b[39m\u001b[23m 10, 10, 10, 10, 10, 10, 10, 10, 10, 10, 1…\n",
            "$ aspect_mean_deg             \u001b[3m\u001b[90m<dbl>\u001b[39m\u001b[23m 18.8095, 18.8095, 18.8095, 18.8095, 18.80…\n",
            "$ elevation_mean_m            \u001b[3m\u001b[90m<dbl>\u001b[39m\u001b[23m 1146.9, 1146.9, 1146.9, 1146.9, 1146.9, 1…\n",
            "$ slope_mean_deg              \u001b[3m\u001b[90m<dbl>\u001b[39m\u001b[23m 20.794, 20.794, 20.794, 20.794, 20.794, 2…\n",
            "$ cover_type_2016_gridVeg     \u001b[3m\u001b[90m<chr>\u001b[39m\u001b[23m \"non-irrigated grasslands\", \"non-irrigate…\n",
            "$ type3_vegetation_indicators \u001b[3m\u001b[90m<chr>\u001b[39m\u001b[23m \"wooded draw\", \"wooded draw\", \"wooded dra…\n",
            "$ type4_indicators_history    \u001b[3m\u001b[90m<chr>\u001b[39m\u001b[23m \"wooded draw\", \"wooded draw\", \"wooded dra…\n",
            "$ plant_native_status         \u001b[3m\u001b[90m<chr>\u001b[39m\u001b[23m \"native\", \"native\", \"native\", \"native\", \"…\n",
            "$ plant_life_cycle            \u001b[3m\u001b[90m<chr>\u001b[39m\u001b[23m \"annual\", \"annual\", \"biennial\", \"multiple…\n",
            "$ plant_life_form             \u001b[3m\u001b[90m<chr>\u001b[39m\u001b[23m \"forb\", \"graminoid\", \"forb\", \"forb\", \"for…\n",
            "$ cover_pct_avg               \u001b[3m\u001b[90m<dbl>\u001b[39m\u001b[23m 0.8, 0.0, 0.0, 0.2, 32.9, 49.5, 0.0, 0.0,…\n"
          ],
          "name": "stdout"
        }
      ]
    },
    {
      "cell_type": "markdown",
      "metadata": {
        "id": "TI6Wppn93rVM",
        "colab_type": "text"
      },
      "source": [
        "# Output"
      ]
    },
    {
      "cell_type": "code",
      "metadata": {
        "id": "rg0XfQmUohDT",
        "colab_type": "code",
        "colab": {}
      },
      "source": [
        "write_csv(df_yvp_plant_functional_groups, path=\"yvp_plant_functional_groups-WRANGLE.csv\")"
      ],
      "execution_count": 88,
      "outputs": []
    }
  ]
}