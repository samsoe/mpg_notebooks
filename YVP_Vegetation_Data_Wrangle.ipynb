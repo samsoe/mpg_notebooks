{
  "nbformat": 4,
  "nbformat_minor": 0,
  "metadata": {
    "colab": {
      "name": "YVP - Vegetation Data - Wrangle.ipynb",
      "provenance": [],
      "authorship_tag": "ABX9TyMqT/P333hgpYM0CKfrUGIi",
      "include_colab_link": true
    },
    "kernelspec": {
      "name": "ir",
      "display_name": "R"
    }
  },
  "cells": [
    {
      "cell_type": "markdown",
      "metadata": {
        "id": "view-in-github",
        "colab_type": "text"
      },
      "source": [
        "<a href=\"https://colab.research.google.com/github/samsoe/mpg_notebooks/blob/master/YVP_Vegetation_Data_Wrangle.ipynb\" target=\"_parent\"><img src=\"https://colab.research.google.com/assets/colab-badge.svg\" alt=\"Open In Colab\"/></a>"
      ]
    },
    {
      "cell_type": "markdown",
      "metadata": {
        "id": "sLoATLEdI-hh",
        "colab_type": "text"
      },
      "source": [
        "*R Notebook*"
      ]
    },
    {
      "cell_type": "markdown",
      "metadata": {
        "id": "YZbGHbTzJQrV",
        "colab_type": "text"
      },
      "source": [
        "# README"
      ]
    },
    {
      "cell_type": "markdown",
      "metadata": {
        "id": "G095KjDNJS6E",
        "colab_type": "text"
      },
      "source": [
        "* [Readme fixed grid plot vegetation data](https://docs.google.com/document/d/16-Aq8u9Rudd78fSzfjvpCXyQgE-BstC-d2PjYfmLtcw/edit?usp=sharing)"
      ]
    },
    {
      "cell_type": "markdown",
      "metadata": {
        "id": "RKBdNw56BzwD",
        "colab_type": "text"
      },
      "source": [
        "# Source"
      ]
    },
    {
      "cell_type": "code",
      "metadata": {
        "id": "X9t3Ks1oB3gG",
        "colab_type": "code",
        "colab": {}
      },
      "source": [
        "# 2020-04-28_yvp_vegetation_cover\n",
        "src = 'https://drive.google.com/uc?id=1pemnlKIlfAQw2JSMN7yDlYMG5QhUW-NP'"
      ],
      "execution_count": 0,
      "outputs": []
    },
    {
      "cell_type": "code",
      "metadata": {
        "id": "fvU8xi8iB4SI",
        "colab_type": "code",
        "colab": {}
      },
      "source": [
        "veg_csv <- read.csv(file = src)"
      ],
      "execution_count": 0,
      "outputs": []
    },
    {
      "cell_type": "code",
      "metadata": {
        "id": "YDY7IDdmB4PN",
        "colab_type": "code",
        "outputId": "a04bdaee-f229-4a25-c3dc-7872bc2ef929",
        "colab": {
          "base_uri": "https://localhost:8080/",
          "height": 141
        }
      },
      "source": [
        "head(veg_csv, n=3)"
      ],
      "execution_count": 3,
      "outputs": [
        {
          "output_type": "display_data",
          "data": {
            "text/plain": [
              "  plot_code date       subplot species_code cover_pct\n",
              "1 YVP 10    2017-06-09 1       BOESPP       1        \n",
              "2 YVP 10    2017-06-09 1       CREINT       1        \n",
              "3 YVP 10    2017-06-09 1       EUPESU       5        "
            ],
            "text/latex": "A data.frame: 3 × 5\n\\begin{tabular}{r|lllll}\n  & plot\\_code & date & subplot & species\\_code & cover\\_pct\\\\\n  & <fct> & <fct> & <int> & <fct> & <int>\\\\\n\\hline\n\t1 & YVP 10 & 2017-06-09 & 1 & BOESPP & 1\\\\\n\t2 & YVP 10 & 2017-06-09 & 1 & CREINT & 1\\\\\n\t3 & YVP 10 & 2017-06-09 & 1 & EUPESU & 5\\\\\n\\end{tabular}\n",
            "text/markdown": "\nA data.frame: 3 × 5\n\n| <!--/--> | plot_code &lt;fct&gt; | date &lt;fct&gt; | subplot &lt;int&gt; | species_code &lt;fct&gt; | cover_pct &lt;int&gt; |\n|---|---|---|---|---|---|\n| 1 | YVP 10 | 2017-06-09 | 1 | BOESPP | 1 |\n| 2 | YVP 10 | 2017-06-09 | 1 | CREINT | 1 |\n| 3 | YVP 10 | 2017-06-09 | 1 | EUPESU | 5 |\n\n",
            "text/html": [
              "<table>\n",
              "<caption>A data.frame: 3 × 5</caption>\n",
              "<thead>\n",
              "\t<tr><th></th><th scope=col>plot_code</th><th scope=col>date</th><th scope=col>subplot</th><th scope=col>species_code</th><th scope=col>cover_pct</th></tr>\n",
              "\t<tr><th></th><th scope=col>&lt;fct&gt;</th><th scope=col>&lt;fct&gt;</th><th scope=col>&lt;int&gt;</th><th scope=col>&lt;fct&gt;</th><th scope=col>&lt;int&gt;</th></tr>\n",
              "</thead>\n",
              "<tbody>\n",
              "\t<tr><th scope=row>1</th><td>YVP 10</td><td>2017-06-09</td><td>1</td><td>BOESPP</td><td>1</td></tr>\n",
              "\t<tr><th scope=row>2</th><td>YVP 10</td><td>2017-06-09</td><td>1</td><td>CREINT</td><td>1</td></tr>\n",
              "\t<tr><th scope=row>3</th><td>YVP 10</td><td>2017-06-09</td><td>1</td><td>EUPESU</td><td>5</td></tr>\n",
              "</tbody>\n",
              "</table>\n"
            ]
          },
          "metadata": {
            "tags": []
          }
        }
      ]
    }
  ]
}