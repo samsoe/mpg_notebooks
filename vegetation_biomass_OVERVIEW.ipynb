{
  "nbformat": 4,
  "nbformat_minor": 0,
  "metadata": {
    "colab": {
      "name": "vegetation_biomass_OVERVIEW",
      "provenance": [],
      "collapsed_sections": [],
      "toc_visible": true,
      "include_colab_link": true
    },
    "kernelspec": {
      "name": "ir",
      "display_name": "R"
    },
    "accelerator": "GPU"
  },
  "cells": [
    {
      "cell_type": "markdown",
      "metadata": {
        "id": "view-in-github",
        "colab_type": "text"
      },
      "source": [
        "<a href=\"https://colab.research.google.com/github/samsoe/mpg_notebooks/blob/master/vegetation_biomass_OVERVIEW.ipynb\" target=\"_parent\"><img src=\"https://colab.research.google.com/assets/colab-badge.svg\" alt=\"Open In Colab\"/></a>"
      ]
    },
    {
      "cell_type": "markdown",
      "metadata": {
        "id": "eNsz2cqfWBuB",
        "colab_type": "text"
      },
      "source": [
        "bigrquery [Documentation](https://www.rdocumentation.org/packages/bigrquery/versions/1.2.0)\n",
        "* billing [documentation](https://github.com/r-dbi/bigrquery/issues/366)"
      ]
    },
    {
      "cell_type": "markdown",
      "metadata": {
        "id": "Cq2Ghrnq4OaF",
        "colab_type": "text"
      },
      "source": [
        "This is an R Notebook.  An API key needs to be generated externally and uploaded for reasons."
      ]
    },
    {
      "cell_type": "markdown",
      "metadata": {
        "id": "QnsZ7WkjFadJ",
        "colab_type": "text"
      },
      "source": [
        "# Gather Tools"
      ]
    },
    {
      "cell_type": "code",
      "metadata": {
        "id": "5j51mLbKS_UX",
        "colab_type": "code",
        "colab": {
          "base_uri": "https://localhost:8080/",
          "height": 187
        },
        "outputId": "c2911e3f-1a65-4298-a214-4c7fdea6ff66"
      },
      "source": [
        "# Package and library installation\n",
        "packages_needed = c(\"tidyverse\", \"bigrquery\", \"httpuv\", \"googleAuthR\", \"knitr\") # comma delimited vector of package names\n",
        "packages_installed = packages_needed %in% rownames(installed.packages())\n",
        "\n",
        "if (any(! packages_installed))\n",
        "  install.packages(packages_needed[! packages_installed])\n",
        "for (i in 1:length(packages_needed)) {\n",
        "  library(packages_needed[i], character.only = T)\n",
        "}"
      ],
      "execution_count": null,
      "outputs": [
        {
          "output_type": "stream",
          "text": [
            "── \u001b[1mAttaching packages\u001b[22m ─────────────────────────────────────── tidyverse 1.3.0 ──\n",
            "\n",
            "\u001b[32m✔\u001b[39m \u001b[34mtibble \u001b[39m 3.0.3     \u001b[32m✔\u001b[39m \u001b[34mstringr\u001b[39m 1.4.0\n",
            "\u001b[32m✔\u001b[39m \u001b[34mreadr  \u001b[39m 1.3.1     \u001b[32m✔\u001b[39m \u001b[34mforcats\u001b[39m 0.5.0\n",
            "\u001b[32m✔\u001b[39m \u001b[34mpurrr  \u001b[39m 0.3.4     \n",
            "\n",
            "── \u001b[1mConflicts\u001b[22m ────────────────────────────────────────── tidyverse_conflicts() ──\n",
            "\u001b[31m✖\u001b[39m \u001b[34mdplyr\u001b[39m::\u001b[32mfilter()\u001b[39m masks \u001b[34mstats\u001b[39m::filter()\n",
            "\u001b[31m✖\u001b[39m \u001b[34mdplyr\u001b[39m::\u001b[32mlag()\u001b[39m    masks \u001b[34mstats\u001b[39m::lag()\n",
            "\n"
          ],
          "name": "stderr"
        }
      ]
    },
    {
      "cell_type": "code",
      "metadata": {
        "id": "GhYSJvsGKO6U",
        "colab_type": "code",
        "colab": {}
      },
      "source": [
        "# set display width\n",
        "library(repr)\n",
        "options(repr.plot.width=17)"
      ],
      "execution_count": null,
      "outputs": []
    },
    {
      "cell_type": "markdown",
      "metadata": {
        "id": "hvU4eSoeFeq1",
        "colab_type": "text"
      },
      "source": [
        "# Database Connection"
      ]
    },
    {
      "cell_type": "code",
      "metadata": {
        "id": "0xg2GBARfMEJ",
        "colab_type": "code",
        "colab": {}
      },
      "source": [
        "# BigQuery API Key\n",
        "bq_auth(path = \"/content/mpg-data-warehouse-api_key-master.json\")"
      ],
      "execution_count": null,
      "outputs": []
    },
    {
      "cell_type": "code",
      "metadata": {
        "id": "sLzd7hNSsodn",
        "colab_type": "code",
        "colab": {}
      },
      "source": [
        "Sys.setenv(BIGQUERY_TEST_PROJECT = \"mpg-data-warehouse\")"
      ],
      "execution_count": null,
      "outputs": []
    },
    {
      "cell_type": "code",
      "metadata": {
        "id": "M2tWFYLyrxjw",
        "colab_type": "code",
        "colab": {}
      },
      "source": [
        "billing <- bq_test_project()"
      ],
      "execution_count": null,
      "outputs": []
    },
    {
      "cell_type": "markdown",
      "metadata": {
        "id": "O1yrTU6EO91c",
        "colab_type": "text"
      },
      "source": [
        "# Combined"
      ]
    },
    {
      "cell_type": "markdown",
      "metadata": {
        "id": "G_wXhcVQH9dm",
        "colab_type": "text"
      },
      "source": [
        "## Query Database"
      ]
    },
    {
      "cell_type": "code",
      "metadata": {
        "id": "RrSHNP1RNin2",
        "colab_type": "code",
        "colab": {}
      },
      "source": [
        "sql <- \"SELECT \n",
        "          grid_point, \n",
        "          date, \n",
        "          year, \n",
        "          season, \n",
        "          grass_g,\n",
        "          forb_g,\n",
        "          pooled_g\n",
        "        FROM \n",
        "          `mpg-data-warehouse.vegetation_biomass.vegetation_biomass`\""
      ],
      "execution_count": null,
      "outputs": []
    },
    {
      "cell_type": "code",
      "metadata": {
        "id": "VCS3vdw-NrPs",
        "colab_type": "code",
        "colab": {}
      },
      "source": [
        "tb <- bq_project_query(billing, sql)"
      ],
      "execution_count": null,
      "outputs": []
    },
    {
      "cell_type": "code",
      "metadata": {
        "id": "ICDrRddYNySf",
        "colab_type": "code",
        "colab": {}
      },
      "source": [
        "combined_result = bq_table_download(tb)"
      ],
      "execution_count": null,
      "outputs": []
    },
    {
      "cell_type": "code",
      "metadata": {
        "id": "DuvhjBzjO3eS",
        "colab_type": "code",
        "colab": {
          "base_uri": "https://localhost:8080/",
          "height": 34
        },
        "outputId": "231b7bcd-9cb1-4d9f-bd18-d220b4b0a9b5"
      },
      "source": [
        "class(combined_result)"
      ],
      "execution_count": null,
      "outputs": [
        {
          "output_type": "display_data",
          "data": {
            "text/plain": [
              "[1] \"tbl_df\"     \"tbl\"        \"data.frame\""
            ],
            "text/latex": "\\begin{enumerate*}\n\\item 'tbl\\_df'\n\\item 'tbl'\n\\item 'data.frame'\n\\end{enumerate*}\n",
            "text/markdown": "1. 'tbl_df'\n2. 'tbl'\n3. 'data.frame'\n\n\n",
            "text/html": [
              "<style>\n",
              ".list-inline {list-style: none; margin:0; padding: 0}\n",
              ".list-inline>li {display: inline-block}\n",
              ".list-inline>li:not(:last-child)::after {content: \"\\00b7\"; padding: 0 .5ex}\n",
              "</style>\n",
              "<ol class=list-inline><li>'tbl_df'</li><li>'tbl'</li><li>'data.frame'</li></ol>\n"
            ]
          },
          "metadata": {
            "tags": []
          }
        }
      ]
    },
    {
      "cell_type": "markdown",
      "metadata": {
        "id": "q43CktoJIBJL",
        "colab_type": "text"
      },
      "source": [
        "## Format"
      ]
    },
    {
      "cell_type": "code",
      "metadata": {
        "id": "x__SxQLHP0x3",
        "colab_type": "code",
        "colab": {}
      },
      "source": [
        "# convert to data frame\n",
        "combined <- as.data.frame(combined_result)"
      ],
      "execution_count": null,
      "outputs": []
    },
    {
      "cell_type": "code",
      "metadata": {
        "id": "NlXNhJ33QEe5",
        "colab_type": "code",
        "colab": {}
      },
      "source": [
        "combined$year <- as.factor(combined$year)"
      ],
      "execution_count": null,
      "outputs": []
    },
    {
      "cell_type": "code",
      "metadata": {
        "id": "NEw-kk1fQXgj",
        "colab_type": "code",
        "colab": {}
      },
      "source": [
        "combined$season <- as.factor(combined$season)"
      ],
      "execution_count": null,
      "outputs": []
    },
    {
      "cell_type": "code",
      "metadata": {
        "id": "8cpzj8IgQQaY",
        "colab_type": "code",
        "colab": {
          "base_uri": "https://localhost:8080/",
          "height": 204
        },
        "outputId": "e99d426e-b258-4cea-e5d0-db2117995099"
      },
      "source": [
        "head(combined)"
      ],
      "execution_count": null,
      "outputs": [
        {
          "output_type": "display_data",
          "data": {
            "text/plain": [
              "  grid_point date year season grass_g forb_g pooled_g\n",
              "1 3          <NA> 2010 fall   NA      NA     7.3050  \n",
              "2 4          <NA> 2010 fall   NA      NA     1.5125  \n",
              "3 5          <NA> 2010 fall   NA      NA     7.4350  \n",
              "4 6          <NA> 2010 fall   NA      NA     3.9150  \n",
              "5 7          <NA> 2010 fall   NA      NA     3.1950  \n",
              "6 8          <NA> 2010 fall   NA      NA     6.4750  "
            ],
            "text/latex": "A data.frame: 6 × 7\n\\begin{tabular}{r|lllllll}\n  & grid\\_point & date & year & season & grass\\_g & forb\\_g & pooled\\_g\\\\\n  & <int> & <date> & <fct> & <fct> & <dbl> & <dbl> & <dbl>\\\\\n\\hline\n\t1 & 3 & NA & 2010 & fall & NA & NA & 7.3050\\\\\n\t2 & 4 & NA & 2010 & fall & NA & NA & 1.5125\\\\\n\t3 & 5 & NA & 2010 & fall & NA & NA & 7.4350\\\\\n\t4 & 6 & NA & 2010 & fall & NA & NA & 3.9150\\\\\n\t5 & 7 & NA & 2010 & fall & NA & NA & 3.1950\\\\\n\t6 & 8 & NA & 2010 & fall & NA & NA & 6.4750\\\\\n\\end{tabular}\n",
            "text/markdown": "\nA data.frame: 6 × 7\n\n| <!--/--> | grid_point &lt;int&gt; | date &lt;date&gt; | year &lt;fct&gt; | season &lt;fct&gt; | grass_g &lt;dbl&gt; | forb_g &lt;dbl&gt; | pooled_g &lt;dbl&gt; |\n|---|---|---|---|---|---|---|---|\n| 1 | 3 | NA | 2010 | fall | NA | NA | 7.3050 |\n| 2 | 4 | NA | 2010 | fall | NA | NA | 1.5125 |\n| 3 | 5 | NA | 2010 | fall | NA | NA | 7.4350 |\n| 4 | 6 | NA | 2010 | fall | NA | NA | 3.9150 |\n| 5 | 7 | NA | 2010 | fall | NA | NA | 3.1950 |\n| 6 | 8 | NA | 2010 | fall | NA | NA | 6.4750 |\n\n",
            "text/html": [
              "<table>\n",
              "<caption>A data.frame: 6 × 7</caption>\n",
              "<thead>\n",
              "\t<tr><th></th><th scope=col>grid_point</th><th scope=col>date</th><th scope=col>year</th><th scope=col>season</th><th scope=col>grass_g</th><th scope=col>forb_g</th><th scope=col>pooled_g</th></tr>\n",
              "\t<tr><th></th><th scope=col>&lt;int&gt;</th><th scope=col>&lt;date&gt;</th><th scope=col>&lt;fct&gt;</th><th scope=col>&lt;fct&gt;</th><th scope=col>&lt;dbl&gt;</th><th scope=col>&lt;dbl&gt;</th><th scope=col>&lt;dbl&gt;</th></tr>\n",
              "</thead>\n",
              "<tbody>\n",
              "\t<tr><th scope=row>1</th><td>3</td><td>NA</td><td>2010</td><td>fall</td><td>NA</td><td>NA</td><td>7.3050</td></tr>\n",
              "\t<tr><th scope=row>2</th><td>4</td><td>NA</td><td>2010</td><td>fall</td><td>NA</td><td>NA</td><td>1.5125</td></tr>\n",
              "\t<tr><th scope=row>3</th><td>5</td><td>NA</td><td>2010</td><td>fall</td><td>NA</td><td>NA</td><td>7.4350</td></tr>\n",
              "\t<tr><th scope=row>4</th><td>6</td><td>NA</td><td>2010</td><td>fall</td><td>NA</td><td>NA</td><td>3.9150</td></tr>\n",
              "\t<tr><th scope=row>5</th><td>7</td><td>NA</td><td>2010</td><td>fall</td><td>NA</td><td>NA</td><td>3.1950</td></tr>\n",
              "\t<tr><th scope=row>6</th><td>8</td><td>NA</td><td>2010</td><td>fall</td><td>NA</td><td>NA</td><td>6.4750</td></tr>\n",
              "</tbody>\n",
              "</table>\n"
            ]
          },
          "metadata": {
            "tags": []
          }
        }
      ]
    },
    {
      "cell_type": "code",
      "metadata": {
        "id": "_emqWoZnKdxC",
        "colab_type": "code",
        "colab": {}
      },
      "source": [
        "combined$ave_g <- rowSums(combined[,c(\"grass_g\", \"forb_g\", \"pooled_g\")], na.rm=TRUE)"
      ],
      "execution_count": null,
      "outputs": []
    },
    {
      "cell_type": "code",
      "metadata": {
        "id": "ILs4kmWHKelI",
        "colab_type": "code",
        "colab": {
          "base_uri": "https://localhost:8080/",
          "height": 204
        },
        "outputId": "32a1f161-2e8d-432d-fdb6-fb6144faf2eb"
      },
      "source": [
        "head(combined)"
      ],
      "execution_count": null,
      "outputs": [
        {
          "output_type": "display_data",
          "data": {
            "text/plain": [
              "  grid_point date year season grass_g forb_g pooled_g ave_g \n",
              "1 3          <NA> 2010 fall   NA      NA     7.3050   7.3050\n",
              "2 4          <NA> 2010 fall   NA      NA     1.5125   1.5125\n",
              "3 5          <NA> 2010 fall   NA      NA     7.4350   7.4350\n",
              "4 6          <NA> 2010 fall   NA      NA     3.9150   3.9150\n",
              "5 7          <NA> 2010 fall   NA      NA     3.1950   3.1950\n",
              "6 8          <NA> 2010 fall   NA      NA     6.4750   6.4750"
            ],
            "text/latex": "A data.frame: 6 × 8\n\\begin{tabular}{r|llllllll}\n  & grid\\_point & date & year & season & grass\\_g & forb\\_g & pooled\\_g & ave\\_g\\\\\n  & <int> & <date> & <fct> & <fct> & <dbl> & <dbl> & <dbl> & <dbl>\\\\\n\\hline\n\t1 & 3 & NA & 2010 & fall & NA & NA & 7.3050 & 7.3050\\\\\n\t2 & 4 & NA & 2010 & fall & NA & NA & 1.5125 & 1.5125\\\\\n\t3 & 5 & NA & 2010 & fall & NA & NA & 7.4350 & 7.4350\\\\\n\t4 & 6 & NA & 2010 & fall & NA & NA & 3.9150 & 3.9150\\\\\n\t5 & 7 & NA & 2010 & fall & NA & NA & 3.1950 & 3.1950\\\\\n\t6 & 8 & NA & 2010 & fall & NA & NA & 6.4750 & 6.4750\\\\\n\\end{tabular}\n",
            "text/markdown": "\nA data.frame: 6 × 8\n\n| <!--/--> | grid_point &lt;int&gt; | date &lt;date&gt; | year &lt;fct&gt; | season &lt;fct&gt; | grass_g &lt;dbl&gt; | forb_g &lt;dbl&gt; | pooled_g &lt;dbl&gt; | ave_g &lt;dbl&gt; |\n|---|---|---|---|---|---|---|---|---|\n| 1 | 3 | NA | 2010 | fall | NA | NA | 7.3050 | 7.3050 |\n| 2 | 4 | NA | 2010 | fall | NA | NA | 1.5125 | 1.5125 |\n| 3 | 5 | NA | 2010 | fall | NA | NA | 7.4350 | 7.4350 |\n| 4 | 6 | NA | 2010 | fall | NA | NA | 3.9150 | 3.9150 |\n| 5 | 7 | NA | 2010 | fall | NA | NA | 3.1950 | 3.1950 |\n| 6 | 8 | NA | 2010 | fall | NA | NA | 6.4750 | 6.4750 |\n\n",
            "text/html": [
              "<table>\n",
              "<caption>A data.frame: 6 × 8</caption>\n",
              "<thead>\n",
              "\t<tr><th></th><th scope=col>grid_point</th><th scope=col>date</th><th scope=col>year</th><th scope=col>season</th><th scope=col>grass_g</th><th scope=col>forb_g</th><th scope=col>pooled_g</th><th scope=col>ave_g</th></tr>\n",
              "\t<tr><th></th><th scope=col>&lt;int&gt;</th><th scope=col>&lt;date&gt;</th><th scope=col>&lt;fct&gt;</th><th scope=col>&lt;fct&gt;</th><th scope=col>&lt;dbl&gt;</th><th scope=col>&lt;dbl&gt;</th><th scope=col>&lt;dbl&gt;</th><th scope=col>&lt;dbl&gt;</th></tr>\n",
              "</thead>\n",
              "<tbody>\n",
              "\t<tr><th scope=row>1</th><td>3</td><td>NA</td><td>2010</td><td>fall</td><td>NA</td><td>NA</td><td>7.3050</td><td>7.3050</td></tr>\n",
              "\t<tr><th scope=row>2</th><td>4</td><td>NA</td><td>2010</td><td>fall</td><td>NA</td><td>NA</td><td>1.5125</td><td>1.5125</td></tr>\n",
              "\t<tr><th scope=row>3</th><td>5</td><td>NA</td><td>2010</td><td>fall</td><td>NA</td><td>NA</td><td>7.4350</td><td>7.4350</td></tr>\n",
              "\t<tr><th scope=row>4</th><td>6</td><td>NA</td><td>2010</td><td>fall</td><td>NA</td><td>NA</td><td>3.9150</td><td>3.9150</td></tr>\n",
              "\t<tr><th scope=row>5</th><td>7</td><td>NA</td><td>2010</td><td>fall</td><td>NA</td><td>NA</td><td>3.1950</td><td>3.1950</td></tr>\n",
              "\t<tr><th scope=row>6</th><td>8</td><td>NA</td><td>2010</td><td>fall</td><td>NA</td><td>NA</td><td>6.4750</td><td>6.4750</td></tr>\n",
              "</tbody>\n",
              "</table>\n"
            ]
          },
          "metadata": {
            "tags": []
          }
        }
      ]
    },
    {
      "cell_type": "markdown",
      "metadata": {
        "id": "OkUW6-muGKFD",
        "colab_type": "text"
      },
      "source": [
        "## Diagnostics\n",
        "* NA values"
      ]
    },
    {
      "cell_type": "code",
      "metadata": {
        "id": "KXCIqvxiGOrM",
        "colab_type": "code",
        "colab": {
          "base_uri": "https://localhost:8080/",
          "height": 289
        },
        "outputId": "b52a3ee1-af1d-46d3-f8b7-f9febb2ca606"
      },
      "source": [
        "summary(combined)"
      ],
      "execution_count": null,
      "outputs": [
        {
          "output_type": "display_data",
          "data": {
            "text/plain": [
              "   grid_point         date           year        season        grass_g      \n",
              " Min.   :  2.0   Min.   :NA     2019   :309   fall  :1272   Min.   : 0.000  \n",
              " 1st Qu.: 71.0   1st Qu.:NA     2012   :296   spring:1186   1st Qu.: 1.020  \n",
              " Median :157.0   Median :NA     2016   :273                 Median : 3.472  \n",
              " Mean   :182.2   Mean   :NA     2013   :261                 Mean   : 6.139  \n",
              " 3rd Qu.:288.0   3rd Qu.:NA     2017   :249                 3rd Qu.: 8.868  \n",
              " Max.   :574.0   Max.   :NA     2015   :233                 Max.   :52.780  \n",
              "                 NA's   :2458   (Other):837                 NA's   :1784    \n",
              "     forb_g           pooled_g          ave_g       \n",
              " Min.   : 0.0000   Min.   : 0.000   Min.   : 0.000  \n",
              " 1st Qu.: 0.0000   1st Qu.: 2.474   1st Qu.: 2.433  \n",
              " Median : 0.6233   Median : 5.383   Median : 5.472  \n",
              " Mean   : 2.7076   Mean   : 7.766   Mean   : 8.037  \n",
              " 3rd Qu.: 3.0267   3rd Qu.:10.222   3rd Qu.:10.906  \n",
              " Max.   :49.0250   Max.   :95.249   Max.   :95.249  \n",
              " NA's   :1781      NA's   :683                      "
            ]
          },
          "metadata": {
            "tags": []
          }
        }
      ]
    },
    {
      "cell_type": "code",
      "metadata": {
        "id": "nKx64zflIXdt",
        "colab_type": "code",
        "colab": {
          "base_uri": "https://localhost:8080/",
          "height": 1000
        },
        "outputId": "375f3a9d-e1b5-4107-adc0-06e43cc03770"
      },
      "source": [
        "combined %>% \n",
        "  filter(is.na(pooled_g)) %>% \n",
        "  kable(format = \"pandoc\")"
      ],
      "execution_count": null,
      "outputs": [
        {
          "output_type": "display_data",
          "data": {
            "text/plain": [
              "\n",
              "\n",
              " grid_point  date   year   season       grass_g       forb_g   pooled_g        ave_g\n",
              "-----------  -----  -----  -------  -----------  -----------  ---------  -----------\n",
              "          2  NA     2016   fall      19.7900000    1.4833333         NA   21.2733333\n",
              "          2  NA     2016   spring     2.5600000    0.2200000         NA    2.7800000\n",
              "          3  NA     2016   fall       7.3933333    0.3533333         NA    7.7466667\n",
              "          3  NA     2016   spring     3.3233333    0.6833333         NA    4.0066667\n",
              "          4  NA     2016   fall       6.9766667    1.2033333         NA    8.1800000\n",
              "          4  NA     2016   spring     0.4133333    0.0000000         NA    0.4133333\n",
              "          5  NA     2016   fall       2.5433333    8.6700000         NA   11.2133333\n",
              "          5  NA     2016   spring     1.4400000    3.0266667         NA    4.4666667\n",
              "          7  NA     2016   fall      15.6700000    0.5866667         NA   16.2566667\n",
              "          7  NA     2016   spring     7.0133333    1.6733333         NA    8.6866667\n",
              "          8  NA     2016   fall       4.3200000    4.9133333         NA    9.2333333\n",
              "          8  NA     2016   spring     0.4166667    8.2933333         NA    8.7100000\n",
              "          9  NA     2016   fall       3.9100000    3.2433333         NA    7.1533333\n",
              "          9  NA     2016   spring     3.9500000    0.1066667         NA    4.0566667\n",
              "         11  NA     2016   fall       9.9166667    0.3833333         NA   10.3000000\n",
              "         11  NA     2016   spring     5.3200000    1.1300000         NA    6.4500000\n",
              "         12  NA     2016   fall       9.2000000    0.8733333         NA   10.0733333\n",
              "         12  NA     2016   spring     3.0066667    1.5733333         NA    4.5800000\n",
              "         13  NA     2016   fall       1.4600000    4.5833333         NA    6.0433333\n",
              "         13  NA     2016   spring     1.9000000    9.8800000         NA   11.7800000\n",
              "         14  NA     2016   fall       7.3133333    6.0366667         NA   13.3500000\n",
              "         14  NA     2016   spring     1.0433333    2.5900000         NA    3.6333333\n",
              "         15  NA     2016   fall      23.2766667    2.6533333         NA   25.9300000\n",
              "         15  NA     2016   spring     6.2933333    2.1033333         NA    8.3966667\n",
              "         19  NA     2016   fall       0.2866667    0.0000000         NA    0.2866667\n",
              "         19  NA     2016   spring     0.3466667    1.1366667         NA    1.4833333\n",
              "         20  NA     2016   fall       8.9833333    0.6066667         NA    9.5900000\n",
              "         20  NA     2016   spring     7.2200000    0.1800000         NA    7.4000000\n",
              "         21  NA     2016   fall       2.0833333    0.2366667         NA    2.3200000\n",
              "         21  NA     2016   spring     1.3133333    0.0000000         NA    1.3133333\n",
              "         23  NA     2016   fall       1.5433333    1.4433333         NA    2.9866667\n",
              "         23  NA     2016   spring     3.6766667    0.5633333         NA    4.2400000\n",
              "         27  NA     2016   fall       1.6566667    9.9566667         NA   11.6133333\n",
              "         27  NA     2016   spring     4.4833333    2.8633333         NA    7.3466667\n",
              "         28  NA     2016   fall       0.3666667    0.0000000         NA    0.3666667\n",
              "         28  NA     2016   spring     0.1666667    0.0000000         NA    0.1666667\n",
              "         29  NA     2016   fall       1.0200000    1.7233333         NA    2.7433333\n",
              "         29  NA     2016   spring     0.0000000    0.0000000         NA    0.0000000\n",
              "         30  NA     2016   fall       1.9666667    0.0000000         NA    1.9666667\n",
              "         30  NA     2016   spring     1.1033333    0.0000000         NA    1.1033333\n",
              "         31  NA     2016   fall       0.2366667    0.0266667         NA    0.2633333\n",
              "         31  NA     2016   spring     1.3700000    0.0000000         NA    1.3700000\n",
              "         36  NA     2016   fall       3.9366667    5.9100000         NA    9.8466667\n",
              "         36  NA     2016   spring     5.0133333    2.0933333         NA    7.1066667\n",
              "         39  NA     2016   fall       0.7033333    0.1433333         NA    0.8466667\n",
              "         39  NA     2016   spring     2.0133333    0.0000000         NA    2.0133333\n",
              "         40  NA     2016   fall       9.6966667    0.0566667         NA    9.7533333\n",
              "         40  NA     2016   spring     5.1766667    0.0000000         NA    5.1766667\n",
              "         45  NA     2016   fall       7.9833333    3.9300000         NA   11.9133333\n",
              "         45  NA     2016   spring     1.1900000    0.0000000         NA    1.1900000\n",
              "         46  NA     2016   fall       3.9200000    1.4200000         NA    5.3400000\n",
              "         46  NA     2016   spring     0.1700000    0.0566667         NA    0.2266667\n",
              "         47  NA     2016   fall       0.7933333    0.0533333         NA    0.8466667\n",
              "         47  NA     2016   spring     0.7133333    2.7466667         NA    3.4600000\n",
              "         48  NA     2016   fall       0.7133333    0.0000000         NA    0.7133333\n",
              "         48  NA     2016   spring     4.1300000    0.0000000         NA    4.1300000\n",
              "         49  NA     2016   fall       0.8600000    3.7266667         NA    4.5866667\n",
              "         49  NA     2016   spring     2.1100000    0.0933333         NA    2.2033333\n",
              "         50  NA     2016   fall       0.4133333    1.2966667         NA    1.7100000\n",
              "         50  NA     2016   spring     2.3866667    2.8366667         NA    5.2233333\n",
              "         51  NA     2016   fall       5.1400000    0.3033333         NA    5.4433333\n",
              "         51  NA     2016   spring     0.5833333    0.6333333         NA    1.2166667\n",
              "         52  NA     2016   fall       0.9100000    0.0966667         NA    1.0066667\n",
              "         52  NA     2016   spring     0.2400000    2.9700000         NA    3.2100000\n",
              "         53  NA     2016   fall       7.4700000    1.6800000         NA    9.1500000\n",
              "         53  NA     2016   spring     2.2066667    0.0000000         NA    2.2066667\n",
              "         55  NA     2016   fall       6.3466667    1.4400000         NA    7.7866667\n",
              "         55  NA     2016   spring     0.4433333    1.0400000         NA    1.4833333\n",
              "         60  NA     2016   fall       0.5133333    0.6566667         NA    1.1700000\n",
              "         60  NA     2016   spring     0.3466667    1.5933333         NA    1.9400000\n",
              "         61  NA     2016   fall       1.5533333    0.0000000         NA    1.5533333\n",
              "         61  NA     2016   spring     3.1233333    2.6600000         NA    5.7833333\n",
              "         70  NA     2016   fall      12.7400000    4.6166667         NA   17.3566667\n",
              "         70  NA     2016   fall       0.0000000           NA         NA    0.0000000\n",
              "         70  NA     2016   spring     2.0100000    0.3400000         NA    2.3500000\n",
              "         71  NA     2016   fall       2.4233333    1.0433333         NA    3.4666667\n",
              "         71  NA     2016   spring     0.5866667    0.4300000         NA    1.0166667\n",
              "         73  NA     2016   fall       1.0300000    0.6766667         NA    1.7066667\n",
              "         73  NA     2016   spring     5.0533333    0.0000000         NA    5.0533333\n",
              "         74  NA     2016   fall       7.7800000    8.1333333         NA   15.9133333\n",
              "         74  NA     2016   spring     0.2933333    0.0000000         NA    0.2933333\n",
              "         77  NA     2016   fall       0.0000000   10.9533333         NA   10.9533333\n",
              "         77  NA     2016   spring     0.0000000    0.7033333         NA    0.7033333\n",
              "         78  NA     2016   fall      11.0133333    1.8800000         NA   12.8933333\n",
              "         78  NA     2016   spring     1.0066667    0.2100000         NA    1.2166667\n",
              "         80  NA     2016   fall       5.1566667    2.1333333         NA    7.2900000\n",
              "         80  NA     2016   spring     0.4133333    1.2433333         NA    1.6566667\n",
              "         81  NA     2016   fall      12.5233333    0.2500000         NA   12.7733333\n",
              "         81  NA     2016   spring     0.7566667    0.0000000         NA    0.7566667\n",
              "         82  NA     2016   fall      10.4600000    0.1000000         NA   10.5600000\n",
              "         82  NA     2016   spring     1.6633333    0.0000000         NA    1.6633333\n",
              "         83  NA     2016   fall      17.4400000    0.4100000         NA   17.8500000\n",
              "         83  NA     2016   spring     2.0966667    0.0000000         NA    2.0966667\n",
              "         84  NA     2016   fall      15.8500000    0.8133333         NA   16.6633333\n",
              "         84  NA     2016   spring     0.5300000    0.0000000         NA    0.5300000\n",
              "         86  NA     2016   fall       3.4933333    1.2066667         NA    4.7000000\n",
              "         86  NA     2016   spring     7.6400000    0.0000000         NA    7.6400000\n",
              "         87  NA     2016   fall       7.0466667    3.9966667         NA   11.0433333\n",
              "         87  NA     2016   spring     3.9333333    0.0000000         NA    3.9333333\n",
              "         98  NA     2016   fall       9.0866667    0.0000000         NA    9.0866667\n",
              "         98  NA     2016   spring            NA    0.0000000         NA    0.0000000\n",
              "        107  NA     2016   fall       1.5800000    0.6633333         NA    2.2433333\n",
              "        107  NA     2016   spring    12.5250000    0.0000000         NA   12.5250000\n",
              "        108  NA     2016   fall       0.9666667    5.5766667         NA    6.5433333\n",
              "        108  NA     2016   spring     8.1933333    1.3333333         NA    9.5266667\n",
              "        113  NA     2016   fall       3.2233333    0.9333333         NA    4.1566667\n",
              "        113  NA     2016   spring     4.6566667    1.7200000         NA    6.3766667\n",
              "        118  NA     2016   fall      13.2266667    0.0000000         NA   13.2266667\n",
              "        118  NA     2016   spring     2.4000000    3.2166667         NA    5.6166667\n",
              "        121  NA     2016   fall       4.1566667    0.3533333         NA    4.5100000\n",
              "        121  NA     2016   spring     1.0666667    0.4166667         NA    1.4833333\n",
              "        122  NA     2016   fall      16.5266667    0.7033333         NA   17.2300000\n",
              "        122  NA     2016   spring    10.2800000    0.0000000         NA   10.2800000\n",
              "        134  NA     2016   fall      14.6333333   18.8900000         NA   33.5233333\n",
              "        134  NA     2016   spring    21.9150000    0.0000000         NA   21.9150000\n",
              "        137  NA     2016   fall       7.4866667    0.5866667         NA    8.0733333\n",
              "        137  NA     2016   spring     2.1466667    0.2333333         NA    2.3800000\n",
              "        140  NA     2016   fall       8.1366667    0.0000000         NA    8.1366667\n",
              "        140  NA     2016   spring     2.7000000    0.0000000         NA    2.7000000\n",
              "        141  NA     2016   fall      12.8900000    0.0000000         NA   12.8900000\n",
              "        141  NA     2016   spring     8.5066667    0.0000000         NA    8.5066667\n",
              "        143  NA     2016   fall       1.5300000    0.0000000         NA    1.5300000\n",
              "        143  NA     2016   spring     0.0466667    0.5700000         NA    0.6166667\n",
              "        153  NA     2016   fall       2.1900000    0.0800000         NA    2.2700000\n",
              "        153  NA     2016   spring     0.6433333    2.2866667         NA    2.9300000\n",
              "        156  NA     2016   fall       5.5066667    0.0000000         NA    5.5066667\n",
              "        156  NA     2016   spring     2.5533333    1.0333333         NA    3.5866667\n",
              "        157  NA     2016   fall      12.5366667    0.1466667         NA   12.6833333\n",
              "        157  NA     2016   spring     0.8900000    0.2733333         NA    1.1633333\n",
              "        159  NA     2016   fall      15.8166667    0.0000000         NA   15.8166667\n",
              "        159  NA     2016   spring     9.1133333    0.0000000         NA    9.1133333\n",
              "        167  NA     2016   fall       6.6333333    7.8400000         NA   14.4733333\n",
              "        167  NA     2016   spring     2.5300000    1.4933333         NA    4.0233333\n",
              "        180  NA     2016   fall       4.1866667    0.0000000         NA    4.1866667\n",
              "        180  NA     2016   spring     2.0533333    2.4866667         NA    4.5400000\n",
              "        189  NA     2016   fall       0.5500000    5.6833333         NA    6.2333333\n",
              "        189  NA     2016   spring     0.0666667    0.3066667         NA    0.3733333\n",
              "        191  NA     2016   fall      21.3466667   36.7866667         NA   58.1333333\n",
              "        191  NA     2016   spring     1.6666667    0.4933333         NA    2.1600000\n",
              "        192  NA     2016   spring     9.1666667    1.5633333         NA   10.7300000\n",
              "        193  NA     2016   fall       9.7800000    0.0000000         NA    9.7800000\n",
              "        193  NA     2016   spring    14.7266667    0.0000000         NA   14.7266667\n",
              "        194  NA     2016   fall       8.1600000    0.0000000         NA    8.1600000\n",
              "        194  NA     2016   spring     2.2700000    0.4600000         NA    2.7300000\n",
              "        195  NA     2016   fall       3.5600000    0.0000000         NA    3.5600000\n",
              "        195  NA     2016   spring     4.1250000    0.4633333         NA    4.5883333\n",
              "        199  NA     2016   fall       0.0000000   19.9766667         NA   19.9766667\n",
              "        199  NA     2016   spring            NA    0.0000000         NA    0.0000000\n",
              "        200  NA     2016   fall      18.1400000   10.2400000         NA   28.3800000\n",
              "        200  NA     2016   spring    24.5233333    0.0000000         NA   24.5233333\n",
              "        203  NA     2016   fall       3.1600000    0.0000000         NA    3.1600000\n",
              "        203  NA     2016   spring     4.9033333    3.7633333         NA    8.6666667\n",
              "        204  NA     2016   fall       7.1600000    0.0000000         NA    7.1600000\n",
              "        204  NA     2016   spring     0.8900000    1.2433333         NA    2.1333333\n",
              "        205  NA     2016   fall      17.5300000    0.0000000         NA   17.5300000\n",
              "        205  NA     2016   spring     1.0233333    0.0000000         NA    1.0233333\n",
              "        206  NA     2016   fall       7.7900000    0.0000000         NA    7.7900000\n",
              "        206  NA     2016   spring            NA    0.0000000         NA    0.0000000\n",
              "        207  NA     2016   fall       7.4933333    0.0033333         NA    7.4966667\n",
              "        207  NA     2016   spring     1.8200000    0.0000000         NA    1.8200000\n",
              "        212  NA     2016   fall       5.1133333    0.0000000         NA    5.1133333\n",
              "        212  NA     2016   spring     0.4400000    0.0000000         NA    0.4400000\n",
              "        213  NA     2016   fall       2.4666667    3.2266667         NA    5.6933333\n",
              "        213  NA     2016   spring    11.3366667    0.6600000         NA   11.9966667\n",
              "        215  NA     2016   fall       6.9866667    0.0000000         NA    6.9866667\n",
              "        215  NA     2016   spring     0.6066667    0.0000000         NA    0.6066667\n",
              "        225  NA     2016   fall       9.6366667   14.2200000         NA   23.8566667\n",
              "        225  NA     2016   spring     2.6166667    0.2300000         NA    2.8466667\n",
              "        226  NA     2016   fall       1.0400000   30.4300000         NA   31.4700000\n",
              "        226  NA     2016   spring     0.6100000    0.0000000         NA    0.6100000\n",
              "        227  NA     2016   fall       3.9733333    0.0133333         NA    3.9866667\n",
              "        227  NA     2016   spring     1.9900000    0.0000000         NA    1.9900000\n",
              "        228  NA     2016   fall       2.4766667    0.0000000         NA    2.4766667\n",
              "        228  NA     2016   spring     0.0000000           NA         NA    0.0000000\n",
              "        240  NA     2016   fall       2.5133333   35.3866667         NA   37.9000000\n",
              "        240  NA     2016   spring     0.0000000    0.0000000         NA    0.0000000\n",
              "        241  NA     2016   fall      22.9866667    9.7333333         NA   32.7200000\n",
              "        241  NA     2016   spring     1.4866667    2.6700000         NA    4.1566667\n",
              "        243  NA     2016   fall       0.9533333    7.1266667         NA    8.0800000\n",
              "        243  NA     2016   spring     0.0000000    5.2300000         NA    5.2300000\n",
              "        244  NA     2016   fall      26.9266667    0.1333333         NA   27.0600000\n",
              "        244  NA     2016   spring     0.4300000    0.0666667         NA    0.4966667\n",
              "        245  NA     2016   fall       2.9366667    1.1133333         NA    4.0500000\n",
              "        245  NA     2016   spring     0.0000000    0.0033333         NA    0.0033333\n",
              "        246  NA     2016   fall      10.4000000    0.0000000         NA   10.4000000\n",
              "        246  NA     2016   spring     0.0000000    2.4433333         NA    2.4433333\n",
              "        247  NA     2016   fall       2.5800000    0.0066667         NA    2.5866667\n",
              "        247  NA     2016   spring     0.0000000    0.0000000         NA    0.0000000\n",
              "        249  NA     2016   fall       1.3933333    2.9300000         NA    4.3233333\n",
              "        249  NA     2016   spring     4.0766667    2.1433333         NA    6.2200000\n",
              "        258  NA     2016   fall       0.0000000   17.5100000         NA   17.5100000\n",
              "        258  NA     2016   spring     0.0000000    0.6533333         NA    0.6533333\n",
              "        259  NA     2016   fall      15.2433333   21.8833333         NA   37.1266667\n",
              "        259  NA     2016   spring     1.6600000    0.0000000         NA    1.6600000\n",
              "        260  NA     2016   fall      20.6766667    0.6500000         NA   21.3266667\n",
              "        260  NA     2016   spring     0.9266667    0.0000000         NA    0.9266667\n",
              "        263  NA     2016   fall       1.2466667    0.0533333         NA    1.3000000\n",
              "        263  NA     2016   spring     0.0000000    0.0000000         NA    0.0000000\n",
              "        272  NA     2016   fall       1.2433333    9.8633333         NA   11.1066667\n",
              "        272  NA     2016   spring     0.8600000    0.0000000         NA    0.8600000\n",
              "        273  NA     2016   fall              NA    0.0000000         NA    0.0000000\n",
              "        273  NA     2016   fall       6.7000000    6.2850000         NA   12.9850000\n",
              "        273  NA     2016   fall       0.0000000           NA         NA    0.0000000\n",
              "        273  NA     2016   spring     0.1566667    0.0000000         NA    0.1566667\n",
              "        278  NA     2016   fall       3.3766667    0.7533333         NA    4.1300000\n",
              "        278  NA     2016   spring     0.4066667    0.1666667         NA    0.5733333\n",
              "        291  NA     2016   fall       1.1366667    3.1166667         NA    4.2533333\n",
              "        291  NA     2016   spring     0.4400000    0.4700000         NA    0.9100000\n",
              "        296  NA     2016   fall       3.0150000    2.7450000         NA    5.7600000\n",
              "        296  NA     2016   spring     6.3866667    0.0000000         NA    6.3866667\n",
              "        297  NA     2016   fall       1.8533333    9.8333333         NA   11.6866667\n",
              "        297  NA     2016   spring     0.7233333    1.4533333         NA    2.1766667\n",
              "        302  NA     2016   fall      13.1600000    0.3666667         NA   13.5266667\n",
              "        302  NA     2016   spring     0.5466667    0.0000000         NA    0.5466667\n",
              "        303  NA     2016   fall       3.6733333    0.0200000         NA    3.6933333\n",
              "        303  NA     2016   spring     0.0600000    0.3333333         NA    0.3933333\n",
              "        304  NA     2016   fall              NA    0.0000000         NA    0.0000000\n",
              "        304  NA     2016   fall       1.4966667    0.0000000         NA    1.4966667\n",
              "        304  NA     2016   spring     1.2566667    0.0000000         NA    1.2566667\n",
              "        305  NA     2016   fall      10.1966667    0.0000000         NA   10.1966667\n",
              "        305  NA     2016   spring     2.5733333    0.0000000         NA    2.5733333\n",
              "        306  NA     2016   fall      12.1900000    0.0000000         NA   12.1900000\n",
              "        306  NA     2016   spring     0.6566667    0.0000000         NA    0.6566667\n",
              "        309  NA     2016   fall       6.9066667    4.1133333         NA   11.0200000\n",
              "        309  NA     2016   spring     3.6200000    8.6200000         NA   12.2400000\n",
              "        314  NA     2016   fall              NA           NA         NA    0.0000000\n",
              "        314  NA     2016   spring     0.0000000    0.0000000         NA    0.0000000\n",
              "        315  NA     2016   fall       0.0000000   15.0600000         NA   15.0600000\n",
              "        315  NA     2016   spring     0.0000000    1.6766667         NA    1.6766667\n",
              "        316  NA     2016   fall       0.0000000    4.2000000         NA    4.2000000\n",
              "        316  NA     2016   spring     0.0000000    0.1666667         NA    0.1666667\n",
              "        317  NA     2016   fall      14.3600000    0.2800000         NA   14.6400000\n",
              "        317  NA     2016   spring     0.0000000    0.0000000         NA    0.0000000\n",
              "        318  NA     2016   fall              NA    0.0000000         NA    0.0000000\n",
              "        318  NA     2016   fall      11.3833333    0.3750000         NA   11.7583333\n",
              "        318  NA     2016   spring     5.4466667    0.0000000         NA    5.4466667\n",
              "        323  NA     2016   fall       8.9466667    3.1633333         NA   12.1100000\n",
              "        323  NA     2016   spring     7.5333333    0.5500000         NA    8.0833333\n",
              "        324  NA     2016   fall       6.0633333   12.1000000         NA   18.1633333\n",
              "        324  NA     2016   spring     0.8000000    0.0000000         NA    0.8000000\n",
              "        327  NA     2016   fall      11.1833333    3.1666667         NA   14.3500000\n",
              "        327  NA     2016   spring     2.9066667    0.7900000         NA    3.6966667\n",
              "        328  NA     2016   fall       7.2066667    4.5166667         NA   11.7233333\n",
              "        328  NA     2016   spring     0.0000000    5.8766667         NA    5.8766667\n",
              "        330  NA     2016   fall      42.3633333    0.0000000         NA   42.3633333\n",
              "        330  NA     2016   spring     5.4533333    0.0000000         NA    5.4533333\n",
              "        341  NA     2016   fall       0.0000000    0.0000000         NA    0.0000000\n",
              "        341  NA     2016   spring     0.5533333    0.3133333         NA    0.8666667\n",
              "        345  NA     2016   fall       0.0000000   16.4900000         NA   16.4900000\n",
              "        345  NA     2016   spring     0.0000000    0.2900000         NA    0.2900000\n",
              "        367  NA     2016   fall       2.8666667    0.6133333         NA    3.4800000\n",
              "        367  NA     2016   spring     1.7233333    3.1366667         NA    4.8600000\n",
              "        386  NA     2016   fall      13.5500000    4.0166667         NA   17.5666667\n",
              "        386  NA     2016   spring     0.3600000    0.0000000         NA    0.3600000\n",
              "        403  NA     2016   fall       4.0066667    1.2100000         NA    5.2166667\n",
              "        403  NA     2016   spring     1.1000000    0.0000000         NA    1.1000000\n",
              "        419  NA     2016   fall      28.2966667    4.1900000         NA   32.4866667\n",
              "        419  NA     2016   spring     8.5233333    3.4700000         NA   11.9933333\n",
              "        467  NA     2016   fall       5.1233333    4.7600000         NA    9.8833333\n",
              "        467  NA     2016   spring     0.4366667    0.0000000         NA    0.4366667\n",
              "        471  NA     2016   fall      16.4266667    2.7866667         NA   19.2133333\n",
              "        471  NA     2016   spring    17.3200000    2.8733333         NA   20.1933333\n",
              "        480  NA     2016   fall       8.7400000    0.3200000         NA    9.0600000\n",
              "        480  NA     2016   spring     6.8633333    0.0000000         NA    6.8633333\n",
              "        481  NA     2016   fall              NA    0.0000000         NA    0.0000000\n",
              "        481  NA     2016   fall       5.0433333    2.3050000         NA    7.3483333\n",
              "        481  NA     2016   spring     5.3533333    0.0000000         NA    5.3533333\n",
              "        482  NA     2016   fall      16.3700000    0.0000000         NA   16.3700000\n",
              "        482  NA     2016   spring    20.7400000    0.0000000         NA   20.7400000\n",
              "        484  NA     2016   fall      16.2966667    0.0000000         NA   16.2966667\n",
              "        484  NA     2016   spring     2.9066667    0.0000000         NA    2.9066667\n",
              "        571  NA     2016   fall       0.9433333    1.0366667         NA    1.9800000\n",
              "        571  NA     2016   spring     0.4433333    1.6066667         NA    2.0500000\n",
              "          2  NA     2017   spring     1.7133333    1.6133333         NA    3.3266667\n",
              "          3  NA     2017   fall       2.9000000    0.0000000         NA    2.9000000\n",
              "          3  NA     2017   spring     4.4366667    4.3433333         NA    8.7800000\n",
              "          4  NA     2017   fall       8.6233333    0.0050000         NA    8.6283333\n",
              "          4  NA     2017   spring     4.7433333    0.0000000         NA    4.7433333\n",
              "          5  NA     2017   fall       4.0300000    1.5050000         NA    5.5350000\n",
              "          5  NA     2017   spring    11.4600000    3.3833333         NA   14.8433333\n",
              "          7  NA     2017   spring     3.9500000    4.4800000         NA    8.4300000\n",
              "          8  NA     2017   spring     4.9466667    0.6700000         NA    5.6166667\n",
              "          9  NA     2017   fall       0.3766667    0.4400000         NA    0.8166667\n",
              "          9  NA     2017   spring     5.7733333    4.2866667         NA   10.0600000\n",
              "         11  NA     2017   fall       1.9233333    1.1150000         NA    3.0383333\n",
              "         11  NA     2017   spring     9.8433333    3.3900000         NA   13.2333333\n",
              "         12  NA     2017   fall       6.7100000    0.0100000         NA    6.7200000\n",
              "         12  NA     2017   spring     9.2133333    0.8350000         NA   10.0483333\n",
              "         13  NA     2017   fall       0.8566667    4.2400000         NA    5.0966667\n",
              "         13  NA     2017   spring     4.4200000    0.2766667         NA    4.6966667\n",
              "         14  NA     2017   fall       8.9000000    5.0250000         NA   13.9250000\n",
              "         14  NA     2017   spring     7.3333333    3.9166667         NA   11.2500000\n",
              "         15  NA     2017   spring     5.7633333    2.7133333         NA    8.4766667\n",
              "         19  NA     2017   fall       0.9066667    0.1200000         NA    1.0266667\n",
              "         19  NA     2017   spring     2.3033333    0.3266667         NA    2.6300000\n",
              "         20  NA     2017   fall      12.4233333    0.0000000         NA   12.4233333\n",
              "         20  NA     2017   spring     2.1433333    0.6900000         NA    2.8333333\n",
              "         21  NA     2017   fall      13.0600000    0.0000000         NA   13.0600000\n",
              "         21  NA     2017   spring     2.7266667    0.0866667         NA    2.8133333\n",
              "         23  NA     2017   fall       2.2633333    1.6200000         NA    3.8833333\n",
              "         23  NA     2017   spring    12.3900000    1.7700000         NA   14.1600000\n",
              "         26  NA     2017   fall       3.4366667    0.0000000         NA    3.4366667\n",
              "         27  NA     2017   fall       0.9033333    1.6850000         NA    2.5883333\n",
              "         27  NA     2017   spring     0.5933333    0.9133333         NA    1.5066667\n",
              "         28  NA     2017   fall       4.9333333    2.1300000         NA    7.0633333\n",
              "         28  NA     2017   spring     0.4650000    0.0000000         NA    0.4650000\n",
              "         29  NA     2017   fall       4.3266667    2.2400000         NA    6.5666667\n",
              "         29  NA     2017   spring     1.4666667    3.4333333         NA    4.9000000\n",
              "         30  NA     2017   fall       1.0633333    5.0850000         NA    6.1483333\n",
              "         30  NA     2017   spring     6.8200000    0.0000000         NA    6.8200000\n",
              "         31  NA     2017   fall       0.3166667    0.3500000         NA    0.6666667\n",
              "         31  NA     2017   spring     0.9333333    0.1500000         NA    1.0833333\n",
              "         36  NA     2017   fall       4.8033333    1.3850000         NA    6.1883333\n",
              "         36  NA     2017   spring     0.6200000    3.3833333         NA    4.0033333\n",
              "         39  NA     2017   fall       3.5933333    0.0000000         NA    3.5933333\n",
              "         39  NA     2017   spring     1.9000000    0.0333333         NA    1.9333333\n",
              "         40  NA     2017   fall      11.3850000    0.0000000         NA   11.3850000\n",
              "         40  NA     2017   spring     7.5933333    0.0000000         NA    7.5933333\n",
              "         45  NA     2017   fall      31.4300000    0.0000000         NA   31.4300000\n",
              "         45  NA     2017   spring     4.1966667    0.0000000         NA    4.1966667\n",
              "         46  NA     2017   fall       2.2200000    1.7550000         NA    3.9750000\n",
              "         46  NA     2017   spring     0.7566667    0.0166667         NA    0.7733333\n",
              "         47  NA     2017   fall       7.9666667    0.0000000         NA    7.9666667\n",
              "         47  NA     2017   spring     0.1700000    0.0333333         NA    0.2033333\n",
              "         48  NA     2017   fall      14.1766667    0.0000000         NA   14.1766667\n",
              "         48  NA     2017   spring     2.5666667    0.0000000         NA    2.5666667\n",
              "         49  NA     2017   fall       3.0166667    0.0000000         NA    3.0166667\n",
              "         49  NA     2017   spring     0.6800000    0.0033333         NA    0.6833333\n",
              "         50  NA     2017   fall      15.1733333    4.8150000         NA   19.9883333\n",
              "         50  NA     2017   spring     1.2233333    5.1400000         NA    6.3633333\n",
              "         51  NA     2017   fall       7.8466667    0.0000000         NA    7.8466667\n",
              "         51  NA     2017   spring     0.6566667    0.0066667         NA    0.6633333\n",
              "         52  NA     2017   fall       5.3066667    0.0000000         NA    5.3066667\n",
              "         52  NA     2017   spring     7.2766667    0.0033333         NA    7.2800000\n",
              "         53  NA     2017   fall      45.3300000    0.0000000         NA   45.3300000\n",
              "         53  NA     2017   spring     1.9133333    0.0000000         NA    1.9133333\n",
              "         55  NA     2017   fall       2.2633333   31.6500000         NA   33.9133333\n",
              "         55  NA     2017   spring     0.4100000    0.0000000         NA    0.4100000\n",
              "         60  NA     2017   fall       6.1333333    2.4250000         NA    8.5583333\n",
              "         60  NA     2017   spring     1.3166667    0.6700000         NA    1.9866667\n",
              "         61  NA     2017   fall       4.1066667    0.0000000         NA    4.1066667\n",
              "         61  NA     2017   spring     0.0100000    3.0966667         NA    3.1066667\n",
              "         70  NA     2017   fall      31.1966667    3.0800000         NA   34.2766667\n",
              "         70  NA     2017   spring     1.2866667    0.6900000         NA    1.9766667\n",
              "         71  NA     2017   fall      14.2966667    0.0000000         NA   14.2966667\n",
              "         71  NA     2017   spring     4.0833333    0.6233333         NA    4.7066667\n",
              "         73  NA     2017   fall       3.3633333    6.6400000         NA   10.0033333\n",
              "         73  NA     2017   spring     0.8333333    0.0000000         NA    0.8333333\n",
              "         74  NA     2017   fall      22.1266667    0.0000000         NA   22.1266667\n",
              "         74  NA     2017   spring     8.0833333    0.0000000         NA    8.0833333\n",
              "         77  NA     2017   fall       0.0000000   11.5500000         NA   11.5500000\n",
              "         77  NA     2017   spring     0.0000000   10.3233333         NA   10.3233333\n",
              "         78  NA     2017   fall       0.0000000    6.9400000         NA    6.9400000\n",
              "         78  NA     2017   spring     2.9366667    0.0000000         NA    2.9366667\n",
              "         80  NA     2017   fall      10.8233333    0.0000000         NA   10.8233333\n",
              "         80  NA     2017   spring     0.8266667    0.0000000         NA    0.8266667\n",
              "         81  NA     2017   fall       4.4966667    0.0000000         NA    4.4966667\n",
              "         81  NA     2017   spring     0.2866667    0.0000000         NA    0.2866667\n",
              "         82  NA     2017   fall      11.4033333    0.0000000         NA   11.4033333\n",
              "         82  NA     2017   spring     1.8566667    0.0000000         NA    1.8566667\n",
              "         83  NA     2017   fall      16.4833333    0.0000000         NA   16.4833333\n",
              "         83  NA     2017   spring     0.7333333    0.0066667         NA    0.7400000\n",
              "         84  NA     2017   fall       4.1633333    0.0000000         NA    4.1633333\n",
              "         84  NA     2017   spring     3.1533333    0.0000000         NA    3.1533333\n",
              "         86  NA     2017   fall       0.0000000   20.1300000         NA   20.1300000\n",
              "         86  NA     2017   spring     0.8500000    2.1966667         NA    3.0466667\n",
              "         87  NA     2017   fall       0.0000000   10.1100000         NA   10.1100000\n",
              "         87  NA     2017   spring     3.0700000    1.4466667         NA    4.5166667\n",
              "         98  NA     2017   fall      18.7166667    0.4200000         NA   19.1366667\n",
              "         98  NA     2017   spring     1.6433333    0.0000000         NA    1.6433333\n",
              "        107  NA     2017   fall       3.1433333    7.5550000         NA   10.6983333\n",
              "        107  NA     2017   spring     1.1666667    2.5666667         NA    3.7333333\n",
              "        108  NA     2017   fall       0.0000000    7.1300000         NA    7.1300000\n",
              "        108  NA     2017   spring     1.6533333    1.6600000         NA    3.3133333\n",
              "        113  NA     2017   spring     2.1400000    0.9400000         NA    3.0800000\n",
              "        118  NA     2017   fall       8.3966667    3.1050000         NA   11.5016667\n",
              "        118  NA     2017   spring    11.0900000    0.0000000         NA   11.0900000\n",
              "        121  NA     2017   fall      10.6933333    1.0150000         NA   11.7083333\n",
              "        121  NA     2017   spring     3.8600000    0.0000000         NA    3.8600000\n",
              "        122  NA     2017   fall      20.9633333    1.0200000         NA   21.9833333\n",
              "        122  NA     2017   spring     1.9800000    0.0000000         NA    1.9800000\n",
              "        134  NA     2017   fall       0.5066667   13.9000000         NA   14.4066667\n",
              "        134  NA     2017   spring     7.7066667    7.2133333         NA   14.9200000\n",
              "        137  NA     2017   fall      11.6833333   49.0250000         NA   60.7083333\n",
              "        137  NA     2017   spring     1.3500000    2.5466667         NA    3.8966667\n",
              "        140  NA     2017   fall      11.9466667    1.1800000         NA   13.1266667\n",
              "        140  NA     2017   spring     1.1033333    0.0000000         NA    1.1033333\n",
              "        141  NA     2017   fall      19.8133333    0.0000000         NA   19.8133333\n",
              "        141  NA     2017   spring     5.5600000    0.0000000         NA    5.5600000\n",
              "        143  NA     2017   fall      10.5433333    0.1300000         NA   10.6733333\n",
              "        143  NA     2017   spring    15.3800000    0.0000000         NA   15.3800000\n",
              "        153  NA     2017   fall       1.3166667    0.1800000         NA    1.4966667\n",
              "        153  NA     2017   spring     5.6533333    0.0000000         NA    5.6533333\n",
              "        156  NA     2017   spring     2.5466667    1.0733333         NA    3.6200000\n",
              "        157  NA     2017   spring     1.3266667    0.0000000         NA    1.3266667\n",
              "        159  NA     2017   spring     3.2000000    1.0433333         NA    4.2433333\n",
              "        167  NA     2017   spring     2.6133333    1.4400000         NA    4.0533333\n",
              "        180  NA     2017   fall       6.3633333    2.9550000         NA    9.3183333\n",
              "        180  NA     2017   spring     8.9133333    3.5433333         NA   12.4566667\n",
              "        189  NA     2017   fall       4.2833333    1.0150000         NA    5.2983333\n",
              "        189  NA     2017   spring     0.1066667    1.4866667         NA    1.5933333\n",
              "        191  NA     2017   fall       1.5400000    9.2500000         NA   10.7900000\n",
              "        191  NA     2017   spring    14.7100000    2.1100000         NA   16.8200000\n",
              "        192  NA     2017   fall      14.2166667    1.5650000         NA   15.7816667\n",
              "        192  NA     2017   spring     2.0600000    0.0000000         NA    2.0600000\n",
              "        193  NA     2017   fall      13.3666667    1.7350000         NA   15.1016667\n",
              "        193  NA     2017   spring     1.9266667    0.0000000         NA    1.9266667\n",
              "        194  NA     2017   spring     1.8166667    0.0000000         NA    1.8166667\n",
              "        195  NA     2017   fall       4.6700000    1.0650000         NA    5.7350000\n",
              "        195  NA     2017   spring     1.1066667    0.9900000         NA    2.0966667\n",
              "        199  NA     2017   fall       2.8566667    5.1300000         NA    7.9866667\n",
              "        199  NA     2017   spring     1.9933333    0.0000000         NA    1.9933333\n",
              "        200  NA     2017   fall       5.3200000    6.4000000         NA   11.7200000\n",
              "        200  NA     2017   spring    11.9200000    1.6266667         NA   13.5466667\n",
              "        203  NA     2017   fall       8.0766667   16.1900000         NA   24.2666667\n",
              "        203  NA     2017   spring     3.0200000    7.5433333         NA   10.5633333\n",
              "        204  NA     2017   fall       9.2600000    2.8900000         NA   12.1500000\n",
              "        204  NA     2017   spring    10.4300000    2.6333333         NA   13.0633333\n",
              "        205  NA     2017   spring     6.0833333    0.0000000         NA    6.0833333\n",
              "        206  NA     2017   spring    13.6366667    0.5100000         NA   14.1466667\n",
              "        207  NA     2017   spring     7.5300000    0.9900000         NA    8.5200000\n",
              "        212  NA     2017   fall       7.6833333    0.0000000         NA    7.6833333\n",
              "        212  NA     2017   spring     6.7200000    0.0000000         NA    6.7200000\n",
              "        213  NA     2017   fall      10.5033333    1.0200000         NA   11.5233333\n",
              "        213  NA     2017   spring     1.4966667    4.1066667         NA    5.6033333\n",
              "        215  NA     2017   spring     8.1300000    4.2733333         NA   12.4033333\n",
              "        225  NA     2017   fall      19.2100000   11.5800000         NA   30.7900000\n",
              "        225  NA     2017   spring     3.6066667    1.2433333         NA    4.8500000\n",
              "        226  NA     2017   spring     0.7333333    3.8566667         NA    4.5900000\n",
              "        227  NA     2017   fall      25.0466667    0.0000000         NA   25.0466667\n",
              "        227  NA     2017   spring     0.4600000    0.0000000         NA    0.4600000\n",
              "        228  NA     2017   fall       9.9000000    4.8300000         NA   14.7300000\n",
              "        228  NA     2017   spring     0.5666667    0.0000000         NA    0.5666667\n",
              "        238  NA     2017   fall      10.3850000    4.3500000         NA   14.7350000\n",
              "        240  NA     2017   fall       7.2500000   23.5800000         NA   30.8300000\n",
              "        240  NA     2017   spring     0.2300000    5.7466667         NA    5.9766667\n",
              "        241  NA     2017   fall      22.7800000    3.1150000         NA   25.8950000\n",
              "        241  NA     2017   spring     0.7900000    1.7366667         NA    2.5266667\n",
              "        243  NA     2017   fall      31.1700000           NA         NA   31.1700000\n",
              "        243  NA     2017   spring     6.1900000    2.1266667         NA    8.3166667\n",
              "        244  NA     2017   fall      27.7966667    0.0000000         NA   27.7966667\n",
              "        244  NA     2017   spring    13.3733333    3.3233333         NA   16.6966667\n",
              "        245  NA     2017   fall       2.4100000    0.4450000         NA    2.8550000\n",
              "        245  NA     2017   spring     0.7033333    4.6466667         NA    5.3500000\n",
              "        246  NA     2017   fall      13.0366667    0.5400000         NA   13.5766667\n",
              "        246  NA     2017   spring     6.5933333    0.0000000         NA    6.5933333\n",
              "        247  NA     2017   spring     2.7733333    0.0000000         NA    2.7733333\n",
              "        249  NA     2017   spring    10.0850000    8.2900000         NA   18.3750000\n",
              "        258  NA     2017   fall       0.0000000   31.1800000         NA   31.1800000\n",
              "        258  NA     2017   spring     0.0000000    4.2366667         NA    4.2366667\n",
              "        259  NA     2017   fall      15.8566667    0.0000000         NA   15.8566667\n",
              "        259  NA     2017   spring     1.2766667    0.2133333         NA    1.4900000\n",
              "        260  NA     2017   fall      11.4766667    0.0000000         NA   11.4766667\n",
              "        260  NA     2017   spring     5.9300000    0.0000000         NA    5.9300000\n",
              "        263  NA     2017   spring     0.0000000    8.6200000         NA    8.6200000\n",
              "        272  NA     2017   fall       4.2500000    4.3550000         NA    8.6050000\n",
              "        272  NA     2017   spring     0.0000000    9.1300000         NA    9.1300000\n",
              "        273  NA     2017   fall       2.1900000    2.3750000         NA    4.5650000\n",
              "        273  NA     2017   spring     5.2733333    0.0000000         NA    5.2733333\n",
              "        278  NA     2017   fall      26.7033333   10.7700000         NA   37.4733333\n",
              "        278  NA     2017   spring     0.2200000    0.0000000         NA    0.2200000\n",
              "        287  NA     2017   spring     1.8200000    2.6866667         NA    4.5066667\n",
              "        291  NA     2017   fall      26.8166667    6.3550000         NA   33.1716667\n",
              "        291  NA     2017   spring     0.1666667    9.3900000         NA    9.5566667\n",
              "        296  NA     2017   fall      25.5133333    3.8700000         NA   29.3833333\n",
              "        296  NA     2017   spring     1.6066667    1.9533333         NA    3.5600000\n",
              "        297  NA     2017   fall      24.3700000    9.4300000         NA   33.8000000\n",
              "        297  NA     2017   spring    10.3433333    1.2600000         NA   11.6033333\n",
              "        302  NA     2017   fall      12.9400000    0.0000000         NA   12.9400000\n",
              "        302  NA     2017   spring    13.1700000    0.0000000         NA   13.1700000\n",
              "        303  NA     2017   fall       4.6433333    5.5750000         NA   10.2183333\n",
              "        303  NA     2017   spring     2.2150000    1.9566667         NA    4.1716667\n",
              "        304  NA     2017   fall       4.5333333    0.2150000         NA    4.7483333\n",
              "        304  NA     2017   spring     6.6700000    0.0000000         NA    6.6700000\n",
              "        305  NA     2017   fall      16.6033333    0.0000000         NA   16.6033333\n",
              "        305  NA     2017   spring     6.4600000    0.0000000         NA    6.4600000\n",
              "        306  NA     2017   fall       3.9433333    0.3350000         NA    4.2783333\n",
              "        306  NA     2017   spring     9.1200000    0.0000000         NA    9.1200000\n",
              "        309  NA     2017   fall      13.8600000    0.0000000         NA   13.8600000\n",
              "        309  NA     2017   spring     0.5466667   27.9933333         NA   28.5400000\n",
              "        314  NA     2017   fall      11.2066667    0.0000000         NA   11.2066667\n",
              "        314  NA     2017   spring     0.0000000    5.7500000         NA    5.7500000\n",
              "        315  NA     2017   fall       2.2600000    8.6600000         NA   10.9200000\n",
              "        315  NA     2017   spring     1.0133333    6.0366667         NA    7.0500000\n",
              "        316  NA     2017   fall       8.0600000    3.9350000         NA   11.9950000\n",
              "        316  NA     2017   spring     0.2066667    2.6833333         NA    2.8900000\n",
              "        317  NA     2017   fall      16.1900000    4.1300000         NA   20.3200000\n",
              "        317  NA     2017   spring     5.4133333    0.0000000         NA    5.4133333\n",
              "        318  NA     2017   fall      20.4433333    0.0000000         NA   20.4433333\n",
              "        318  NA     2017   spring     0.6866667    0.0000000         NA    0.6866667\n",
              "        323  NA     2017   fall      25.2933333   19.3050000         NA   44.5983333\n",
              "        323  NA     2017   spring     3.5766667    0.4900000         NA    4.0666667\n",
              "        324  NA     2017   fall      12.2533333    0.3000000         NA   12.5533333\n",
              "        324  NA     2017   spring     3.7233333    1.2166667         NA    4.9400000\n",
              "        327  NA     2017   fall      14.4000000    7.9450000         NA   22.3450000\n",
              "        327  NA     2017   spring     3.5833333    1.6166667         NA    5.2000000\n",
              "        328  NA     2017   fall      10.8466667   15.8500000         NA   26.6966667\n",
              "        328  NA     2017   spring     0.9966667    8.3123333         NA    9.3090000\n",
              "        330  NA     2017   fall      52.7800000    0.0000000         NA   52.7800000\n",
              "        330  NA     2017   spring     9.8400000    0.0000000         NA    9.8400000\n",
              "        341  NA     2017   fall       1.0366667    8.5850000         NA    9.6216667\n",
              "        341  NA     2017   spring     0.0833333    0.0433333         NA    0.1266667\n",
              "        345  NA     2017   fall       0.0000000   26.9450000         NA   26.9450000\n",
              "        345  NA     2017   spring     0.7166667    6.6033333         NA    7.3200000\n",
              "        367  NA     2017   spring     1.2066667    0.0000000         NA    1.2066667\n",
              "        386  NA     2017   spring     1.0200000    0.0000000         NA    1.0200000\n",
              "        403  NA     2017   spring     0.8933333    0.0000000         NA    0.8933333\n",
              "        419  NA     2017   spring     4.1766667    0.7200000         NA    4.8966667\n",
              "        467  NA     2017   fall       5.3366667    9.3700000         NA   14.7066667\n",
              "        467  NA     2017   spring     3.3433333    2.5800000         NA    5.9233333\n",
              "        471  NA     2017   fall      19.8766667    0.0000000         NA   19.8766667\n",
              "        471  NA     2017   spring    13.3400000    0.0000000         NA   13.3400000\n",
              "        480  NA     2017   fall      27.8900000    0.0000000         NA   27.8900000\n",
              "        480  NA     2017   spring    18.0666667    0.0000000         NA   18.0666667\n",
              "        481  NA     2017   fall              NA           NA         NA    0.0000000\n",
              "        481  NA     2017   spring    23.3633333    3.6233333         NA   26.9866667\n",
              "        482  NA     2017   fall      17.4166667    1.5550000         NA   18.9716667\n",
              "        482  NA     2017   spring    15.4966667    0.0000000         NA   15.4966667\n",
              "        484  NA     2017   fall      13.8766667    0.4800000         NA   14.3566667\n",
              "        484  NA     2017   spring     5.4700000    0.0000000         NA    5.4700000\n",
              "        571  NA     2017   fall       6.5033333    0.0000000         NA    6.5033333\n",
              "        571  NA     2017   spring     0.1200000    1.3600000         NA    1.4800000\n",
              "          3  NA     2018   spring    13.4400000    0.0000000         NA   13.4400000\n",
              "          4  NA     2018   spring     5.9866667    0.0000000         NA    5.9866667\n",
              "          5  NA     2018   spring     6.5300000    4.3766667         NA   10.9066667\n",
              "          9  NA     2018   spring     8.3466667    4.0300000         NA   12.3766667\n",
              "         11  NA     2018   spring    18.1600000    0.0000000         NA   18.1600000\n",
              "         12  NA     2018   spring    10.3366667    1.9700000         NA   12.3066667\n",
              "         13  NA     2018   spring     1.1866667    2.4633333         NA    3.6500000\n",
              "         14  NA     2018   spring    26.3566667    5.0633333         NA   31.4200000\n",
              "         19  NA     2018   spring     6.4266667    1.6233333         NA    8.0500000\n",
              "         20  NA     2018   spring     9.7000000    0.0000000         NA    9.7000000\n",
              "         21  NA     2018   spring     0.7500000    0.0000000         NA    0.7500000\n",
              "         23  NA     2018   spring     1.3766667    0.3733333         NA    1.7500000\n",
              "         26  NA     2018   spring     0.0000000    1.8933333         NA    1.8933333\n",
              "         27  NA     2018   spring     0.3233333    2.3300000         NA    2.6533333\n",
              "         28  NA     2018   spring     0.1066667    0.0000000         NA    0.1066667\n",
              "         29  NA     2018   spring     0.1566667    0.0000000         NA    0.1566667\n",
              "         30  NA     2018   spring     0.9466667    1.9300000         NA    2.8766667\n",
              "         31  NA     2018   spring     0.2200000    0.4300000         NA    0.6500000\n",
              "         36  NA     2018   spring     1.0900000    2.6500000         NA    3.7400000\n",
              "         39  NA     2018   spring     0.4466667    0.0000000         NA    0.4466667\n",
              "         40  NA     2018   spring     2.3800000    0.2933333         NA    2.6733333\n",
              "         45  NA     2018   spring     4.5533333    0.0000000         NA    4.5533333\n",
              "         46  NA     2018   spring     3.5833333    4.3600000         NA    7.9433333\n",
              "         47  NA     2018   spring     0.5533333    0.1966667         NA    0.7500000\n",
              "         48  NA     2018   spring     2.5866667    1.0266667         NA    3.6133333\n",
              "         49  NA     2018   spring     0.8233333    0.0100000         NA    0.8333333\n",
              "         50  NA     2018   spring     6.9233333    0.5700000         NA    7.4933333\n",
              "         51  NA     2018   spring     4.2933333    1.1533333         NA    5.4466667\n",
              "         52  NA     2018   spring     1.5033333    0.3233333         NA    1.8266667\n",
              "         53  NA     2018   spring     4.3466667    0.0000000         NA    4.3466667\n",
              "         55  NA     2018   spring     6.8900000    1.4566667         NA    8.3466667\n",
              "         60  NA     2018   spring     1.0100000    0.6966667         NA    1.7066667\n",
              "         61  NA     2018   spring     1.9266667    0.0000000         NA    1.9266667\n",
              "         70  NA     2018   fall      20.1000000    4.5100000         NA   24.6100000\n",
              "         70  NA     2018   spring     3.3600000    0.5000000         NA    3.8600000\n",
              "         71  NA     2018   fall       2.5933333    7.9333333         NA   10.5266667\n",
              "         71  NA     2018   spring     1.7600000    0.5233333         NA    2.2833333\n",
              "         73  NA     2018   spring     1.2600000    1.4333333         NA    2.6933333\n",
              "         74  NA     2018   spring     3.1833333    0.0000000         NA    3.1833333\n",
              "         77  NA     2018   fall       1.3833333    0.8766667         NA    2.2600000\n",
              "         77  NA     2018   spring     0.4033333    0.5800000         NA    0.9833333\n",
              "         78  NA     2018   spring    11.0566667    2.5900000         NA   13.6466667\n",
              "         80  NA     2018   spring     1.4700000    0.0000000         NA    1.4700000\n",
              "         81  NA     2018   spring     0.5566667    0.1766667         NA    0.7333333\n",
              "         82  NA     2018   spring     0.8633333    0.1900000         NA    1.0533333\n",
              "         83  NA     2018   spring     0.9733333    0.0000000         NA    0.9733333\n",
              "         84  NA     2018   spring     2.7866667    0.0000000         NA    2.7866667\n",
              "         86  NA     2018   fall       0.0833333   22.2900000         NA   22.3733333\n",
              "         86  NA     2018   spring     0.0000000   10.5800000         NA   10.5800000\n",
              "         87  NA     2018   fall       8.7066667   19.0633333         NA   27.7700000\n",
              "         87  NA     2018   spring     0.6000000    3.6233333         NA    4.2233333\n",
              "         98  NA     2018   spring     0.9533333    0.4933333         NA    1.4466667\n",
              "        107  NA     2018   fall      10.4933333    7.4000000         NA   17.8933333\n",
              "        107  NA     2018   spring     0.4600000    0.8466667         NA    1.3066667\n",
              "        108  NA     2018   fall       0.0000000   12.8133333         NA   12.8133333\n",
              "        108  NA     2018   spring     0.0000000    1.4866667         NA    1.4866667\n",
              "        118  NA     2018   fall      12.1666667    0.2633333         NA   12.4300000\n",
              "        118  NA     2018   spring     2.8533333    0.0000000         NA    2.8533333\n",
              "        121  NA     2018   fall      15.9800000    0.6033333         NA   16.5833333\n",
              "        121  NA     2018   spring     1.8633333    0.0166667         NA    1.8800000\n",
              "        122  NA     2018   fall      12.0266667    2.2466667         NA   14.2733333\n",
              "        122  NA     2018   spring     2.2466667    1.5333333         NA    3.7800000\n",
              "        134  NA     2018   fall       6.1366667    2.7800000         NA    8.9166667\n",
              "        134  NA     2018   spring     0.1400000    7.3400000         NA    7.4800000\n",
              "        137  NA     2018   spring     0.4666667    3.3100000         NA    3.7766667\n",
              "        140  NA     2018   spring     1.8266667    0.0033333         NA    1.8300000\n",
              "        141  NA     2018   spring     2.7900000    0.0066667         NA    2.7966667\n",
              "        143  NA     2018   spring     1.5033333    0.0766667         NA    1.5800000\n",
              "        153  NA     2018   spring     0.3600000    0.3500000         NA    0.7100000\n",
              "        180  NA     2018   spring     2.4966667    1.9500000         NA    4.4466667\n",
              "        189  NA     2018   fall       0.5600000    0.0000000         NA    0.5600000\n",
              "        189  NA     2018   spring     0.4000000    0.0000000         NA    0.4000000\n",
              "        191  NA     2018   fall       9.0400000    0.0666667         NA    9.1066667\n",
              "        191  NA     2018   spring     1.0000000    0.5766667         NA    1.5766667\n",
              "        192  NA     2018   fall       5.5900000    1.6133333         NA    7.2033333\n",
              "        192  NA     2018   spring    26.0533333    0.3166667         NA   26.3700000\n",
              "        193  NA     2018   spring     7.1333333    0.0700000         NA    7.2033333\n",
              "        195  NA     2018   spring     1.5900000    0.0000000         NA    1.5900000\n",
              "        199  NA     2018   fall       5.5200000    4.4266667         NA    9.9466667\n",
              "        199  NA     2018   spring     0.2433333    1.5566667         NA    1.8000000\n",
              "        200  NA     2018   fall       6.1100000    5.1366667         NA   11.2466667\n",
              "        200  NA     2018   spring     8.3433333    0.9733333         NA    9.3166667\n",
              "        203  NA     2018   spring     4.5800000    3.4900000         NA    8.0700000\n",
              "        204  NA     2018   spring     3.3833333    0.0000000         NA    3.3833333\n",
              "        212  NA     2018   spring     1.1600000    0.0700000         NA    1.2300000\n",
              "        213  NA     2018   spring    12.8400000    0.9700000         NA   13.8100000\n",
              "        225  NA     2018   fall      15.3633333    8.8166667         NA   24.1800000\n",
              "        225  NA     2018   spring     9.1066667    5.4666667         NA   14.5733333\n",
              "        227  NA     2018   fall       4.7500000   11.3266667         NA   16.0766667\n",
              "        227  NA     2018   spring     0.2833333    0.0000000         NA    0.2833333\n",
              "        228  NA     2018   fall      11.6266667    4.5766667         NA   16.2033333\n",
              "        228  NA     2018   spring     0.2300000    0.0000000         NA    0.2300000\n",
              "        238  NA     2018   spring     0.0000000    0.0000000         NA    0.0000000\n",
              "        240  NA     2018   fall       6.6333333   10.8666667         NA   17.5000000\n",
              "        240  NA     2018   spring     6.9400000    8.7200000         NA   15.6600000\n",
              "        241  NA     2018   fall       4.1900000    7.3833333         NA   11.5733333\n",
              "        241  NA     2018   spring     9.9033333    9.7566667         NA   19.6600000\n",
              "        243  NA     2018   fall      13.8766667    2.6566667         NA   16.5333333\n",
              "        243  NA     2018   spring     3.2366667    0.7700000         NA    4.0066667\n",
              "        244  NA     2018   fall      25.0333333    7.1633333         NA   32.1966667\n",
              "        244  NA     2018   spring    10.1900000    0.0600000         NA   10.2500000\n",
              "        245  NA     2018   fall       1.2233333    0.8600000         NA    2.0833333\n",
              "        245  NA     2018   spring     0.1200000    0.0000000         NA    0.1200000\n",
              "        246  NA     2018   spring     1.7366667    0.0366667         NA    1.7733333\n",
              "        258  NA     2018   spring     0.0000000    3.0200000         NA    3.0200000\n",
              "        259  NA     2018   fall      42.6000000    2.6300000         NA   45.2300000\n",
              "        259  NA     2018   spring     3.1800000    0.0500000         NA    3.2300000\n",
              "        260  NA     2018   fall       2.9500000    1.7800000         NA    4.7300000\n",
              "        260  NA     2018   spring     3.4500000    0.1333333         NA    3.5833333\n",
              "        272  NA     2018   fall       2.6000000    0.0000000         NA    2.6000000\n",
              "        272  NA     2018   spring     5.7933333    0.0000000         NA    5.7933333\n",
              "        273  NA     2018   spring     2.4566667    0.8100000         NA    3.2666667\n",
              "        278  NA     2018   spring     1.7333333    4.7100000         NA    6.4433333\n",
              "        291  NA     2018   spring     4.6466667    0.9100000         NA    5.5566667\n",
              "        296  NA     2018   spring     8.8333333    2.3000000         NA   11.1333333\n",
              "        297  NA     2018   spring     2.8366667    4.6733333         NA    7.5100000\n",
              "        302  NA     2018   fall      18.4800000    0.0000000         NA   18.4800000\n",
              "        302  NA     2018   spring     9.5200000    0.7100000         NA   10.2300000\n",
              "        303  NA     2018   fall       1.3866667    3.5533333         NA    4.9400000\n",
              "        303  NA     2018   spring     6.2133333    5.6833333         NA   11.8966667\n",
              "        304  NA     2018   fall      13.9366667    0.1866667         NA   14.1233333\n",
              "        304  NA     2018   spring     1.9100000    0.0000000         NA    1.9100000\n",
              "        305  NA     2018   fall      18.7000000    0.0466667         NA   18.7466667\n",
              "        305  NA     2018   spring     5.1966667    0.0000000         NA    5.1966667\n",
              "        306  NA     2018   spring     3.9366667    1.4800000         NA    5.4166667\n",
              "        309  NA     2018   spring     6.1566667    3.7933333         NA    9.9500000\n",
              "        314  NA     2018   fall       0.0000000   13.8233333         NA   13.8233333\n",
              "        314  NA     2018   spring     0.0000000    7.2466667         NA    7.2466667\n",
              "        315  NA     2018   fall      15.1366667    4.0066667         NA   19.1433333\n",
              "        315  NA     2018   spring     4.1266667    9.1600000         NA   13.2866667\n",
              "        316  NA     2018   fall       7.4333333    0.2500000         NA    7.6833333\n",
              "        316  NA     2018   spring    11.0366667    1.0000000         NA   12.0366667\n",
              "        317  NA     2018   fall      17.7400000    0.2766667         NA   18.0166667\n",
              "        317  NA     2018   spring     6.4600000    0.0000000         NA    6.4600000\n",
              "        318  NA     2018   spring     2.9166667    1.0400000         NA    3.9566667\n",
              "        323  NA     2018   spring     6.7133333    0.6666667         NA    7.3800000\n",
              "        324  NA     2018   spring     5.7266667    0.1033333         NA    5.8300000\n",
              "        327  NA     2018   fall       8.8800000    4.3200000         NA   13.2000000\n",
              "        327  NA     2018   spring    16.1233333   25.1066667         NA   41.2300000\n",
              "        328  NA     2018   fall       1.2933333   33.4666667         NA   34.7600000\n",
              "        328  NA     2018   spring    16.3300000   18.0133333         NA   34.3433333\n",
              "        330  NA     2018   fall      17.0966667    0.9800000         NA   18.0766667\n",
              "        330  NA     2018   spring    46.6533333    0.0000000         NA   46.6533333\n",
              "        341  NA     2018   fall       6.9633333    2.1700000         NA    9.1333333\n",
              "        341  NA     2018   spring     8.3500000    9.0266667         NA   17.3766667\n",
              "        345  NA     2018   fall       5.7466667   10.3600000         NA   16.1066667\n",
              "        345  NA     2018   spring     0.0000000   26.5633333         NA   26.5633333\n",
              "        467  NA     2018   fall       0.8600000    1.5700000         NA    2.4300000\n",
              "        467  NA     2018   spring     1.7066667    0.5733333         NA    2.2800000\n",
              "        471  NA     2018   fall      21.8600000    0.6166667         NA   22.4766667\n",
              "        471  NA     2018   spring    16.3766667    6.6300000         NA   23.0066667\n",
              "        480  NA     2018   fall      26.0566667    1.3833333         NA   27.4400000\n",
              "        480  NA     2018   spring    26.3566667    0.0000000         NA   26.3566667\n",
              "        481  NA     2018   fall       4.5266667    5.0333333         NA    9.5600000\n",
              "        481  NA     2018   spring    11.5366667    0.0000000         NA   11.5366667\n",
              "        482  NA     2018   fall       0.0000000    0.0000000         NA    0.0000000\n",
              "        482  NA     2018   spring    11.2300000    0.0000000         NA   11.2300000\n",
              "        484  NA     2018   fall      12.1500000    0.8566667         NA   13.0066667\n",
              "        484  NA     2018   spring     6.5300000    1.1766667         NA    7.7066667\n",
              "        571  NA     2018   fall       1.7266667   10.6733333         NA   12.4000000\n",
              "        571  NA     2018   spring     3.1600000    1.2033333         NA    4.3633333"
            ]
          },
          "metadata": {
            "tags": []
          }
        }
      ]
    },
    {
      "cell_type": "code",
      "metadata": {
        "id": "If7USNScNK3U",
        "colab_type": "code",
        "colab": {}
      },
      "source": [
        "# # output dataframe for future use\n",
        "# output = \"biomass_combined-2020_04_13.csv\"\n",
        "# write.csv(combined, output)"
      ],
      "execution_count": null,
      "outputs": []
    },
    {
      "cell_type": "markdown",
      "metadata": {
        "id": "F2k61Y8CIEMV",
        "colab_type": "text"
      },
      "source": [
        "# Display"
      ]
    },
    {
      "cell_type": "markdown",
      "metadata": {
        "id": "WQMWeqDxKEYb",
        "colab_type": "text"
      },
      "source": [
        "### Spring"
      ]
    },
    {
      "cell_type": "code",
      "metadata": {
        "id": "ywsNxCdeQI8w",
        "colab_type": "code",
        "colab": {
          "base_uri": "https://localhost:8080/",
          "height": 437
        },
        "outputId": "e29f58cb-1100-4c1c-f0ea-d3f2ac6167a3"
      },
      "source": [
        "p <- ggplot(data = filter(combined, season == \"spring\")) +\n",
        "  geom_boxplot(aes(x=year, y=ave_g), na.rm=TRUE)\n",
        "\n",
        "p +\n",
        "  scale_y_continuous(name=\"Combined Spring Veg Biomass (g)\", limits=c(0,60)) +\n",
        "  theme_gray(base_size=23) +\n",
        "  facet_wrap(~ season)"
      ],
      "execution_count": null,
      "outputs": [
        {
          "output_type": "display_data",
          "data": {
            "image/png": "[encoded data removed]",
            "text/plain": [
              "plot without title"
            ]
          },
          "metadata": {
            "tags": [],
            "image/png": {
              "width": 1020,
              "height": 420
            },
            "text/plain": {
              "width": 1020,
              "height": 420
            }
          }
        }
      ]
    },
    {
      "cell_type": "markdown",
      "metadata": {
        "id": "a21Dn5t4KMY0",
        "colab_type": "text"
      },
      "source": [
        "### Fall"
      ]
    },
    {
      "cell_type": "code",
      "metadata": {
        "id": "-dPX8bwkKKpG",
        "colab_type": "code",
        "colab": {
          "base_uri": "https://localhost:8080/",
          "height": 437
        },
        "outputId": "cdbae349-1ce4-4b93-9621-cbd639133a22"
      },
      "source": [
        "p <- ggplot(data = filter(combined, season == \"fall\")) +\n",
        "  geom_boxplot(aes(x=year, y=ave_g), na.rm=TRUE)\n",
        "\n",
        "p +\n",
        "  scale_y_continuous(name=\"Combined Fall Veg Biomass (g)\", limits=c(0,60)) +\n",
        "  theme_gray(base_size=23) +\n",
        "  facet_wrap(~ season)"
      ],
      "execution_count": null,
      "outputs": [
        {
          "output_type": "display_data",
          "data": {
            "image/png": "[encoded data removed]",
            "text/plain": [
              "plot without title"
            ]
          },
          "metadata": {
            "tags": [],
            "image/png": {
              "width": 1020,
              "height": 420
            },
            "text/plain": {
              "width": 1020,
              "height": 420
            }
          }
        }
      ]
    }
  ]
}