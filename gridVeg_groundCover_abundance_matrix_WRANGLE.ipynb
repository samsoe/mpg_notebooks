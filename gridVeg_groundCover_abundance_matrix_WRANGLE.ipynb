{
  "nbformat": 4,
  "nbformat_minor": 0,
  "metadata": {
    "colab": {
      "name": "gridVeg_groundCover_abundance_matrix-WRANGLE.ipynb",
      "provenance": [],
      "collapsed_sections": [],
      "toc_visible": true,
      "include_colab_link": true
    },
    "language_info": {
      "codemirror_mode": "r",
      "file_extension": ".r",
      "mimetype": "text/x-r-source",
      "name": "R",
      "pygments_lexer": "r",
      "version": "3.3.1"
    },
    "kernelspec": {
      "display_name": "R",
      "language": "R",
      "name": "ir"
    }
  },
  "cells": [
    {
      "cell_type": "markdown",
      "metadata": {
        "id": "view-in-github",
        "colab_type": "text"
      },
      "source": [
        "<a href=\"https://colab.research.google.com/github/samsoe/mpg_notebooks/blob/master/gridVeg_groundCover_abundance_matrix_WRANGLE.ipynb\" target=\"_parent\"><img src=\"https://colab.research.google.com/assets/colab-badge.svg\" alt=\"Open In Colab\"/></a>"
      ]
    },
    {
      "cell_type": "markdown",
      "metadata": {
        "id": "BhOI1uU2Koum"
      },
      "source": [
        "# Documentation\n",
        "\n",
        "This table will structure the point-intercept data as a species by samples matrix that is useful for multivariate analysis and visualization. In this case, the species are ground cover types, one per column, and the samples are survey IDs. The survey IDs join to various survey metadata and allow the analyst to subset or cluster the response data to facilitate various analyses.\n",
        "\n",
        "See the appropriate section in the [Readme](https://docs.google.com/document/d/1JWnhxNjeSQZkSnGhtHP68i_l1mDj4vPFMBdUvGqN0TA/edit#heading=h.b1khpgg2so3y) for more information."
      ]
    },
    {
      "cell_type": "markdown",
      "metadata": {
        "id": "o02ynJKvK-0L"
      },
      "source": [
        "# Tools"
      ]
    },
    {
      "cell_type": "code",
      "metadata": {
        "id": "youRC15ygAW1"
      },
      "source": [
        "# Package and library installation\n",
        "packages_needed = c(\"tidyverse\", \"rjson\", \"knitr\") # comma delimited vector of package names\n",
        "packages_installed = packages_needed %in% rownames(installed.packages())\n",
        "\n",
        "if (any(! packages_installed))\n",
        "  install.packages(packages_needed[! packages_installed])\n",
        "for (i in 1:length(packages_needed)) {\n",
        "  library(packages_needed[i], character.only = T)\n",
        "}"
      ],
      "execution_count": null,
      "outputs": []
    },
    {
      "cell_type": "code",
      "metadata": {
        "id": "VxYkYhQTKouo",
        "colab": {
          "base_uri": "https://localhost:8080/"
        },
        "outputId": "bdfd40bd-633e-4870-8432-2f7e1ad0c1b7"
      },
      "source": [
        "# Package and library installation\n",
        "packages_needed = c(\"bigrquery\") # comma delimited vector of package names\n",
        "packages_installed = packages_needed %in% rownames(installed.packages())\n",
        "\n",
        "if (any(! packages_installed))\n",
        "  install.packages(packages_needed[! packages_installed])\n",
        "for (i in 1:length(packages_needed)) {\n",
        "  library(packages_needed[i], character.only = T)\n",
        "}"
      ],
      "execution_count": 2,
      "outputs": [
        {
          "output_type": "stream",
          "text": [
            "Installing package into ‘/usr/local/lib/R/site-library’\n",
            "(as ‘lib’ is unspecified)\n",
            "\n",
            "also installing the dependencies ‘bit’, ‘bit64’, ‘gargle’, ‘rapidjsonr’\n",
            "\n",
            "\n"
          ],
          "name": "stderr"
        }
      ]
    },
    {
      "cell_type": "markdown",
      "metadata": {
        "id": "mKgbFzgmOpjE"
      },
      "source": [
        "# Source"
      ]
    },
    {
      "cell_type": "markdown",
      "metadata": {
        "id": "pjss4xHGPPp2"
      },
      "source": [
        "## Database Connection"
      ]
    },
    {
      "cell_type": "code",
      "metadata": {
        "id": "ihI70_BPKouq"
      },
      "source": [
        "# BigQuery API Key\n",
        "bq_auth(path = \"/content/mpg-data-warehouse-api_key-master.json\")"
      ],
      "execution_count": 3,
      "outputs": []
    },
    {
      "cell_type": "code",
      "metadata": {
        "id": "_7r50vgaPVxp"
      },
      "source": [
        "Sys.setenv(BIGQUERY_TEST_PROJECT = \"mpg-data-warehouse\")"
      ],
      "execution_count": 4,
      "outputs": []
    },
    {
      "cell_type": "code",
      "metadata": {
        "id": "hXy-DXlOPV5K"
      },
      "source": [
        "billing <- bq_test_project()"
      ],
      "execution_count": 5,
      "outputs": []
    },
    {
      "cell_type": "markdown",
      "metadata": {
        "id": "ym4yIt_nZMG9"
      },
      "source": [
        "## Survey Data: Ground Cover"
      ]
    },
    {
      "cell_type": "code",
      "metadata": {
        "id": "bWdOLDtRPV0x"
      },
      "source": [
        "con_ground <- dbConnect(\n",
        "  bigrquery::bigquery(),\n",
        "  project = \"mpg-data-warehouse\",\n",
        "  dataset = \"vegetation_gridVeg_summaries\",\n",
        "  billing = billing\n",
        ")"
      ],
      "execution_count": 6,
      "outputs": []
    },
    {
      "cell_type": "code",
      "metadata": {
        "id": "0t_71V3gPVuY",
        "colab": {
          "base_uri": "https://localhost:8080/",
          "height": 68
        },
        "outputId": "d6ba23ca-28a1-48d8-8d4f-325c819f3827"
      },
      "source": [
        "dbListTables(con_ground)"
      ],
      "execution_count": 7,
      "outputs": [
        {
          "output_type": "display_data",
          "data": {
            "text/plain": [
              "[1] \"gridVeg_foliar_cover_all\"            \n",
              "[2] \"gridVeg_foliar_cover_top\"            \n",
              "[3] \"gridVeg_groundCover_abundance_matrix\"\n",
              "[4] \"gridVeg_groundCover_intercepts\"      \n",
              "[5] \"gridVeg_plant_abundance_matrix\"      \n",
              "[6] \"gridVeg_plant_binary_matrix\"         \n",
              "[7] \"gridVeg_plant_functional_groups\"     \n",
              "[8] \"gridVeg_species_richness\"            \n",
              "[9] \"gridVeg_survey_effort\"               "
            ],
            "text/latex": "\\begin{enumerate*}\n\\item 'gridVeg\\_foliar\\_cover\\_all'\n\\item 'gridVeg\\_foliar\\_cover\\_top'\n\\item 'gridVeg\\_groundCover\\_abundance\\_matrix'\n\\item 'gridVeg\\_groundCover\\_intercepts'\n\\item 'gridVeg\\_plant\\_abundance\\_matrix'\n\\item 'gridVeg\\_plant\\_binary\\_matrix'\n\\item 'gridVeg\\_plant\\_functional\\_groups'\n\\item 'gridVeg\\_species\\_richness'\n\\item 'gridVeg\\_survey\\_effort'\n\\end{enumerate*}\n",
            "text/markdown": "1. 'gridVeg_foliar_cover_all'\n2. 'gridVeg_foliar_cover_top'\n3. 'gridVeg_groundCover_abundance_matrix'\n4. 'gridVeg_groundCover_intercepts'\n5. 'gridVeg_plant_abundance_matrix'\n6. 'gridVeg_plant_binary_matrix'\n7. 'gridVeg_plant_functional_groups'\n8. 'gridVeg_species_richness'\n9. 'gridVeg_survey_effort'\n\n\n",
            "text/html": [
              "<style>\n",
              ".list-inline {list-style: none; margin:0; padding: 0}\n",
              ".list-inline>li {display: inline-block}\n",
              ".list-inline>li:not(:last-child)::after {content: \"\\00b7\"; padding: 0 .5ex}\n",
              "</style>\n",
              "<ol class=list-inline><li>'gridVeg_foliar_cover_all'</li><li>'gridVeg_foliar_cover_top'</li><li>'gridVeg_groundCover_abundance_matrix'</li><li>'gridVeg_groundCover_intercepts'</li><li>'gridVeg_plant_abundance_matrix'</li><li>'gridVeg_plant_binary_matrix'</li><li>'gridVeg_plant_functional_groups'</li><li>'gridVeg_species_richness'</li><li>'gridVeg_survey_effort'</li></ol>\n"
            ]
          },
          "metadata": {
            "tags": []
          }
        }
      ]
    },
    {
      "cell_type": "code",
      "metadata": {
        "id": "kUhVNJNSZ7lt",
        "colab": {
          "base_uri": "https://localhost:8080/"
        },
        "outputId": "6f907464-6f86-4d37-99c0-bb1909939ca2"
      },
      "source": [
        "sql_ground <- \n",
        "  \"\n",
        "  SELECT * \n",
        "  FROM `mpg-data-warehouse.vegetation_gridVeg_summaries.gridVeg_groundCover_intercepts`\n",
        "  \"\n",
        "bq_ground <- bq_project_query(billing, sql_ground)\n",
        "tb_ground <- bq_table_download(bq_ground)\n",
        "df_ground <- as.data.frame(tb_ground) %>% arrange(year, grid_point, intercept_ground_code) %>% glimpse()"
      ],
      "execution_count": 8,
      "outputs": [
        {
          "output_type": "stream",
          "text": [
            "Rows: 23,636\n",
            "Columns: 7\n",
            "$ survey_ID             \u001b[3m\u001b[90m<chr>\u001b[39m\u001b[23m \"436\", \"436\", \"436\", \"436\", \"436\", \"436\", \"436\"…\n",
            "$ year                  \u001b[3m\u001b[90m<int>\u001b[39m\u001b[23m 2011, 2011, 2011, 2011, 2011, 2011, 2011, 2011,…\n",
            "$ survey_sequence       \u001b[3m\u001b[90m<chr>\u001b[39m\u001b[23m \"2011-12\", \"2011-12\", \"2011-12\", \"2011-12\", \"20…\n",
            "$ grid_point            \u001b[3m\u001b[90m<int>\u001b[39m\u001b[23m 1, 1, 1, 1, 1, 1, 1, 1, 1, 1, 1, 1, 1, 1, 1, 1,…\n",
            "$ intercept_ground_code \u001b[3m\u001b[90m<chr>\u001b[39m\u001b[23m \"BG\", \"BV\", \"G\", \"L\", \"LIC\", \"M\", \"M/L\", \"OTHER…\n",
            "$ ground_group          \u001b[3m\u001b[90m<chr>\u001b[39m\u001b[23m \"inorganic\", \"vas_plant\", \"inorganic\", \"litter\"…\n",
            "$ intercepts_pct        \u001b[3m\u001b[90m<dbl>\u001b[39m\u001b[23m 2.0, 3.0, 3.5, 32.0, 0.0, 0.0, 54.0, 0.0, 2.5, …\n"
          ],
          "name": "stdout"
        }
      ]
    },
    {
      "cell_type": "markdown",
      "metadata": {
        "id": "AWg06ZerOtR8"
      },
      "source": [
        "# Wrangle\n",
        "- Pivot the data frame into a species-samples matrix\n",
        "- Fix inconsistent codes for bryophytes\n",
        "  - Before 2015, intercepts of moss or lichen were coded as “M/L” for “moss/lichen”. After 2015, mosses, liverworts, and hornworts were coded as \"M\", and lichens were coded as \"LIC\". This will make comparison across years impossible. Because the old code “M/L” is inseparable, entries of “M” or “LIC” must be re-coded to match the old code. The \"M/L\" code will not be read properly because of the slash, so a new one \"M_L\" will be created. Here, this is accomplished by using `mutate()` and summing all the bryophyte columns into a new one with the new code.\n"
      ]
    },
    {
      "cell_type": "code",
      "metadata": {
        "id": "2PUt5HAsigsK",
        "colab": {
          "base_uri": "https://localhost:8080/"
        },
        "outputId": "804d9a2e-0bda-4440-fa69-ace66e437d5a"
      },
      "source": [
        "df_ground_wide <-\n",
        "  df_ground %>% \n",
        "  select(-ground_group) %>% \n",
        "  pivot_wider(id_cols = c(survey_ID, year, survey_sequence, grid_point), names_from = intercept_ground_code, values_from = intercepts_pct, values_fill = 0) %>% \n",
        "  mutate(M_L = LIC + M + `M/L`) %>% \n",
        "  select(survey_ID, year, survey_sequence, grid_point, BG, BV, G, L, M_L, everything(), -LIC, -M, -`M/L`) %>% \n",
        "  glimpse()"
      ],
      "execution_count": 9,
      "outputs": [
        {
          "output_type": "stream",
          "text": [
            "Rows: 1,244\n",
            "Columns: 21\n",
            "$ survey_ID       \u001b[3m\u001b[90m<chr>\u001b[39m\u001b[23m \"436\", \"437\", \"561\", \"560\", \"559\", \"558\", \"695\", \"438…\n",
            "$ year            \u001b[3m\u001b[90m<int>\u001b[39m\u001b[23m 2011, 2011, 2011, 2011, 2011, 2011, 2011, 2011, 2011,…\n",
            "$ survey_sequence \u001b[3m\u001b[90m<chr>\u001b[39m\u001b[23m \"2011-12\", \"2011-12\", \"2011-12\", \"2011-12\", \"2011-12\"…\n",
            "$ grid_point      \u001b[3m\u001b[90m<int>\u001b[39m\u001b[23m 1, 2, 3, 4, 5, 6, 7, 8, 9, 11, 12, 13, 14, 15, 16, 17…\n",
            "$ BG              \u001b[3m\u001b[90m<dbl>\u001b[39m\u001b[23m 2.0, 2.5, 0.0, 1.0, 0.0, 0.0, 1.0, 11.0, 0.0, 1.5, 0.…\n",
            "$ BV              \u001b[3m\u001b[90m<dbl>\u001b[39m\u001b[23m 3.0, 18.5, 5.5, 12.0, 7.5, 2.0, 12.0, 12.5, 10.0, 8.5…\n",
            "$ G               \u001b[3m\u001b[90m<dbl>\u001b[39m\u001b[23m 3.5, 5.0, 2.5, 10.5, 0.0, 0.0, 0.5, 7.5, 1.0, 2.5, 0.…\n",
            "$ L               \u001b[3m\u001b[90m<dbl>\u001b[39m\u001b[23m 32.0, 43.0, 84.0, 63.0, 82.5, 87.0, 76.0, 47.5, 81.5,…\n",
            "$ M_L             \u001b[3m\u001b[90m<dbl>\u001b[39m\u001b[23m 54.0, 23.5, 3.5, 9.5, 0.5, 7.5, 3.0, 5.0, 4.5, 1.0, 1…\n",
            "$ OTHER           \u001b[3m\u001b[90m<dbl>\u001b[39m\u001b[23m 0.0, 0.0, 0.0, 0.0, 0.0, 0.0, 0.0, 0.0, 0.0, 0.0, 0.0…\n",
            "$ R               \u001b[3m\u001b[90m<dbl>\u001b[39m\u001b[23m 2.5, 0.0, 0.0, 0.0, 0.0, 0.5, 0.5, 4.0, 0.0, 0.0, 0.5…\n",
            "$ S               \u001b[3m\u001b[90m<dbl>\u001b[39m\u001b[23m 1.5, 7.0, 3.0, 2.5, 7.0, 0.0, 5.5, 11.0, 2.5, 4.5, 4.…\n",
            "$ SC              \u001b[3m\u001b[90m<dbl>\u001b[39m\u001b[23m 0.0, 0.0, 1.0, 0.5, 1.5, 0.0, 0.0, 0.0, 0.0, 0.0, 0.5…\n",
            "$ SD              \u001b[3m\u001b[90m<dbl>\u001b[39m\u001b[23m 0.0, 0.0, 0.0, 0.0, 0.0, 0.0, 0.0, 0.5, 0.0, 0.0, 0.0…\n",
            "$ SE              \u001b[3m\u001b[90m<dbl>\u001b[39m\u001b[23m 0.0, 0.5, 0.5, 0.0, 0.5, 0.0, 0.0, 1.0, 0.0, 0.0, 0.0…\n",
            "$ SH              \u001b[3m\u001b[90m<dbl>\u001b[39m\u001b[23m 0.0, 0.0, 0.0, 1.0, 0.0, 0.0, 0.0, 0.0, 0.0, 0.0, 0.5…\n",
            "$ SU              \u001b[3m\u001b[90m<dbl>\u001b[39m\u001b[23m 0, 0, 0, 0, 0, 0, 0, 0, 0, 0, 0, 0, 0, 0, 0, 0, 0, 0,…\n",
            "$ WDL             \u001b[3m\u001b[90m<dbl>\u001b[39m\u001b[23m 0.0, 0.0, 0.0, 0.0, 0.0, 1.5, 0.0, 0.0, 0.0, 0.0, 0.0…\n",
            "$ WDS             \u001b[3m\u001b[90m<dbl>\u001b[39m\u001b[23m 1.5, 0.0, 0.0, 0.0, 0.5, 1.0, 0.0, 0.0, 0.5, 0.0, 0.0…\n",
            "$ WDSTUMP         \u001b[3m\u001b[90m<dbl>\u001b[39m\u001b[23m 0, 0, 0, 0, 0, 0, 0, 0, 0, 0, 0, 0, 0, 0, 0, 0, 0, 0,…\n",
            "$ WDT             \u001b[3m\u001b[90m<dbl>\u001b[39m\u001b[23m 0.0, 0.0, 0.0, 0.0, 0.0, 0.5, 0.0, 0.0, 0.0, 0.0, 0.0…\n"
          ],
          "name": "stdout"
        }
      ]
    },
    {
      "cell_type": "code",
      "metadata": {
        "id": "VrwzlJqupJCi",
        "colab": {
          "base_uri": "https://localhost:8080/",
          "height": 234
        },
        "outputId": "de4cf3fb-e26a-4d8e-82d7-eeef18b92383"
      },
      "source": [
        "df_ground_wide[which(!complete.cases(df_ground_wide)), ]"
      ],
      "execution_count": 10,
      "outputs": [
        {
          "output_type": "stream",
          "text": [
            "Warning message in cbind(parts$left, ellip_h, parts$right, deparse.level = 0L):\n",
            "“number of rows of result is not a multiple of vector length (arg 2)”\n",
            "Warning message in cbind(parts$left, ellip_h, parts$right, deparse.level = 0L):\n",
            "“number of rows of result is not a multiple of vector length (arg 2)”\n",
            "Warning message in cbind(parts$left, ellip_h, parts$right, deparse.level = 0L):\n",
            "“number of rows of result is not a multiple of vector length (arg 2)”\n",
            "Warning message in cbind(parts$left, ellip_h, parts$right, deparse.level = 0L):\n",
            "“number of rows of result is not a multiple of vector length (arg 2)”\n"
          ],
          "name": "stderr"
        },
        {
          "output_type": "display_data",
          "data": {
            "text/plain": [
              "     survey_ID year survey_sequence grid_point BG BV G L M_L OTHER ⋯ S SC SD SE\n",
              "     SH SU WDL WDS WDSTUMP WDT"
            ],
            "text/latex": "A tibble: 0 × 21\n\\begin{tabular}{lllllllllllllllllllll}\n survey\\_ID & year & survey\\_sequence & grid\\_point & BG & BV & G & L & M\\_L & OTHER & ⋯ & S & SC & SD & SE & SH & SU & WDL & WDS & WDSTUMP & WDT\\\\\n <chr> & <int> & <chr> & <int> & <dbl> & <dbl> & <dbl> & <dbl> & <dbl> & <dbl> & ⋯ & <dbl> & <dbl> & <dbl> & <dbl> & <dbl> & <dbl> & <dbl> & <dbl> & <dbl> & <dbl>\\\\\n\\hline\n\\end{tabular}\n",
            "text/markdown": "\nA tibble: 0 × 21\n\n| survey_ID &lt;chr&gt; | year &lt;int&gt; | survey_sequence &lt;chr&gt; | grid_point &lt;int&gt; | BG &lt;dbl&gt; | BV &lt;dbl&gt; | G &lt;dbl&gt; | L &lt;dbl&gt; | M_L &lt;dbl&gt; | OTHER &lt;dbl&gt; | ⋯ ⋯ | S &lt;dbl&gt; | SC &lt;dbl&gt; | SD &lt;dbl&gt; | SE &lt;dbl&gt; | SH &lt;dbl&gt; | SU &lt;dbl&gt; | WDL &lt;dbl&gt; | WDS &lt;dbl&gt; | WDSTUMP &lt;dbl&gt; | WDT &lt;dbl&gt; |\n|---|---|---|---|---|---|---|---|---|---|---|---|---|---|---|---|---|---|---|---|---|\n\n",
            "text/html": [
              "<table>\n",
              "<caption>A tibble: 0 × 21</caption>\n",
              "<thead>\n",
              "\t<tr><th scope=col>survey_ID</th><th scope=col>year</th><th scope=col>survey_sequence</th><th scope=col>grid_point</th><th scope=col>BG</th><th scope=col>BV</th><th scope=col>G</th><th scope=col>L</th><th scope=col>M_L</th><th scope=col>OTHER</th><th scope=col>⋯</th><th scope=col>S</th><th scope=col>SC</th><th scope=col>SD</th><th scope=col>SE</th><th scope=col>SH</th><th scope=col>SU</th><th scope=col>WDL</th><th scope=col>WDS</th><th scope=col>WDSTUMP</th><th scope=col>WDT</th></tr>\n",
              "\t<tr><th scope=col>&lt;chr&gt;</th><th scope=col>&lt;int&gt;</th><th scope=col>&lt;chr&gt;</th><th scope=col>&lt;int&gt;</th><th scope=col>&lt;dbl&gt;</th><th scope=col>&lt;dbl&gt;</th><th scope=col>&lt;dbl&gt;</th><th scope=col>&lt;dbl&gt;</th><th scope=col>&lt;dbl&gt;</th><th scope=col>&lt;dbl&gt;</th><th scope=col>⋯</th><th scope=col>&lt;dbl&gt;</th><th scope=col>&lt;dbl&gt;</th><th scope=col>&lt;dbl&gt;</th><th scope=col>&lt;dbl&gt;</th><th scope=col>&lt;dbl&gt;</th><th scope=col>&lt;dbl&gt;</th><th scope=col>&lt;dbl&gt;</th><th scope=col>&lt;dbl&gt;</th><th scope=col>&lt;dbl&gt;</th><th scope=col>&lt;dbl&gt;</th></tr>\n",
              "</thead>\n",
              "<tbody>\n",
              "</tbody>\n",
              "</table>\n"
            ]
          },
          "metadata": {
            "tags": []
          }
        }
      ]
    },
    {
      "cell_type": "markdown",
      "metadata": {
        "id": "PKMMZMg0OwGi"
      },
      "source": [
        "# Output"
      ]
    },
    {
      "cell_type": "code",
      "metadata": {
        "id": "FdV8tLx3OyDi",
        "colab": {
          "base_uri": "https://localhost:8080/"
        },
        "outputId": "9f71090a-3b22-4b2c-f551-e710df90d00e"
      },
      "source": [
        "# updated output 2021-01-26\n",
        "write_csv(df_ground_wide, file = \"gridVeg_groundCover_abundance_matrix_WRANGLE.csv\")"
      ],
      "execution_count": 11,
      "outputs": [
        {
          "output_type": "stream",
          "text": [
            "Warning message:\n",
            "“The `path` argument of `write_csv()` is deprecated as of readr 1.4.0.\n",
            "Please use the `file` argument instead.\n",
            "\u001b[90mThis warning is displayed once every 8 hours.\u001b[39m\n",
            "\u001b[90mCall `lifecycle::last_warnings()` to see where this warning was generated.\u001b[39m”\n"
          ],
          "name": "stderr"
        }
      ]
    }
  ]
}