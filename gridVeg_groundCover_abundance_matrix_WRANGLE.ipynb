{
  "nbformat": 4,
  "nbformat_minor": 0,
  "metadata": {
    "colab": {
      "name": "gridVeg_groundCover_abundance_matrix-WRANGLE.ipynb",
      "provenance": [],
      "collapsed_sections": [],
      "include_colab_link": true
    },
    "language_info": {
      "codemirror_mode": "r",
      "file_extension": ".r",
      "mimetype": "text/x-r-source",
      "name": "R",
      "pygments_lexer": "r",
      "version": "3.3.1"
    },
    "kernelspec": {
      "display_name": "R",
      "language": "R",
      "name": "ir"
    },
    "accelerator": "GPU"
  },
  "cells": [
    {
      "cell_type": "markdown",
      "metadata": {
        "id": "view-in-github",
        "colab_type": "text"
      },
      "source": [
        "<a href=\"https://colab.research.google.com/github/samsoe/mpg_notebooks/blob/master/gridVeg_groundCover_abundance_matrix_WRANGLE.ipynb\" target=\"_parent\"><img src=\"https://colab.research.google.com/assets/colab-badge.svg\" alt=\"Open In Colab\"/></a>"
      ]
    },
    {
      "cell_type": "markdown",
      "metadata": {
        "id": "BhOI1uU2Koum",
        "colab_type": "text"
      },
      "source": [
        "# Documentation"
      ]
    },
    {
      "cell_type": "markdown",
      "metadata": {
        "id": "VXJr1VEcJN8U",
        "colab_type": "text"
      },
      "source": [
        "[Readme](https://docs.google.com/document/d/1JWnhxNjeSQZkSnGhtHP68i_l1mDj4vPFMBdUvGqN0TA/edit#heading=h.b1khpgg2so3y)"
      ]
    },
    {
      "cell_type": "markdown",
      "metadata": {
        "id": "o02ynJKvK-0L",
        "colab_type": "text"
      },
      "source": [
        "# Tools"
      ]
    },
    {
      "cell_type": "code",
      "metadata": {
        "id": "VxYkYhQTKouo",
        "colab_type": "code",
        "colab": {
          "base_uri": "https://localhost:8080/",
          "height": 306
        },
        "outputId": "3cf20a33-e3b0-451e-fdd6-044d8cb9511d"
      },
      "source": [
        "install.packages(\"bigrquery\")\n",
        "library(bigrquery)\n",
        "library(tidyverse)"
      ],
      "execution_count": null,
      "outputs": [
        {
          "output_type": "stream",
          "text": [
            "Installing package into ‘/usr/local/lib/R/site-library’\n",
            "(as ‘lib’ is unspecified)\n",
            "\n",
            "also installing the dependencies ‘bit’, ‘bit64’, ‘gargle’, ‘rapidjsonr’\n",
            "\n",
            "\n",
            "── \u001b[1mAttaching packages\u001b[22m ─────────────────────────────────────── tidyverse 1.3.0 ──\n",
            "\n",
            "\u001b[32m✔\u001b[39m \u001b[34mggplot2\u001b[39m 3.3.2     \u001b[32m✔\u001b[39m \u001b[34mpurrr  \u001b[39m 0.3.4\n",
            "\u001b[32m✔\u001b[39m \u001b[34mtibble \u001b[39m 3.0.3     \u001b[32m✔\u001b[39m \u001b[34mdplyr  \u001b[39m 1.0.0\n",
            "\u001b[32m✔\u001b[39m \u001b[34mtidyr  \u001b[39m 1.1.0     \u001b[32m✔\u001b[39m \u001b[34mstringr\u001b[39m 1.4.0\n",
            "\u001b[32m✔\u001b[39m \u001b[34mreadr  \u001b[39m 1.3.1     \u001b[32m✔\u001b[39m \u001b[34mforcats\u001b[39m 0.5.0\n",
            "\n",
            "── \u001b[1mConflicts\u001b[22m ────────────────────────────────────────── tidyverse_conflicts() ──\n",
            "\u001b[31m✖\u001b[39m \u001b[34mdplyr\u001b[39m::\u001b[32mfilter()\u001b[39m masks \u001b[34mstats\u001b[39m::filter()\n",
            "\u001b[31m✖\u001b[39m \u001b[34mdplyr\u001b[39m::\u001b[32mlag()\u001b[39m    masks \u001b[34mstats\u001b[39m::lag()\n",
            "\n"
          ],
          "name": "stderr"
        }
      ]
    },
    {
      "cell_type": "markdown",
      "metadata": {
        "id": "mKgbFzgmOpjE",
        "colab_type": "text"
      },
      "source": [
        "# Source"
      ]
    },
    {
      "cell_type": "markdown",
      "metadata": {
        "id": "pjss4xHGPPp2",
        "colab_type": "text"
      },
      "source": [
        "## Database Connection"
      ]
    },
    {
      "cell_type": "code",
      "metadata": {
        "id": "ihI70_BPKouq",
        "colab_type": "code",
        "colab": {}
      },
      "source": [
        "# BigQuery API Key\n",
        "bq_auth(path = \"/content/mpg-data-warehouse-api_key-master.json\")"
      ],
      "execution_count": null,
      "outputs": []
    },
    {
      "cell_type": "code",
      "metadata": {
        "id": "_7r50vgaPVxp",
        "colab_type": "code",
        "colab": {}
      },
      "source": [
        "Sys.setenv(BIGQUERY_TEST_PROJECT = \"mpg-data-warehouse\")"
      ],
      "execution_count": null,
      "outputs": []
    },
    {
      "cell_type": "code",
      "metadata": {
        "id": "hXy-DXlOPV5K",
        "colab_type": "code",
        "colab": {}
      },
      "source": [
        "billing <- bq_test_project()"
      ],
      "execution_count": null,
      "outputs": []
    },
    {
      "cell_type": "markdown",
      "metadata": {
        "id": "ym4yIt_nZMG9",
        "colab_type": "text"
      },
      "source": [
        "# Survey Data: Ground Cover"
      ]
    },
    {
      "cell_type": "code",
      "metadata": {
        "id": "bWdOLDtRPV0x",
        "colab_type": "code",
        "colab": {}
      },
      "source": [
        "con_ground <- dbConnect(\n",
        "  bigrquery::bigquery(),\n",
        "  project = \"mpg-data-warehouse\",\n",
        "  dataset = \"vegetation_gridVeg_summaries\",\n",
        "  billing = billing\n",
        ")"
      ],
      "execution_count": null,
      "outputs": []
    },
    {
      "cell_type": "code",
      "metadata": {
        "id": "0t_71V3gPVuY",
        "colab_type": "code",
        "colab": {
          "base_uri": "https://localhost:8080/",
          "height": 34
        },
        "outputId": "d1f8ed07-54b3-46e1-a621-a057d2fe3352"
      },
      "source": [
        "dbListTables(con_ground)"
      ],
      "execution_count": null,
      "outputs": [
        {
          "output_type": "display_data",
          "data": {
            "text/plain": [
              "[1] \"gridVeg_groundCover_abundance_matrix\"\n",
              "[2] \"gridVeg_groundCover_intercepts\"      \n",
              "[3] \"gridVeg_plant_abundance_matrix\"      \n",
              "[4] \"gridVeg_plant_binary_matrix\"         \n",
              "[5] \"gridVeg_plant_functional_groups\"     \n",
              "[6] \"gridVeg_plant_intercepts\"            \n",
              "[7] \"gridVeg_species_richness\"            \n",
              "[8] \"gridVeg_survey_effort\"               "
            ],
            "text/latex": "\\begin{enumerate*}\n\\item 'gridVeg\\_groundCover\\_abundance\\_matrix'\n\\item 'gridVeg\\_groundCover\\_intercepts'\n\\item 'gridVeg\\_plant\\_abundance\\_matrix'\n\\item 'gridVeg\\_plant\\_binary\\_matrix'\n\\item 'gridVeg\\_plant\\_functional\\_groups'\n\\item 'gridVeg\\_plant\\_intercepts'\n\\item 'gridVeg\\_species\\_richness'\n\\item 'gridVeg\\_survey\\_effort'\n\\end{enumerate*}\n",
            "text/markdown": "1. 'gridVeg_groundCover_abundance_matrix'\n2. 'gridVeg_groundCover_intercepts'\n3. 'gridVeg_plant_abundance_matrix'\n4. 'gridVeg_plant_binary_matrix'\n5. 'gridVeg_plant_functional_groups'\n6. 'gridVeg_plant_intercepts'\n7. 'gridVeg_species_richness'\n8. 'gridVeg_survey_effort'\n\n\n",
            "text/html": [
              "<style>\n",
              ".list-inline {list-style: none; margin:0; padding: 0}\n",
              ".list-inline>li {display: inline-block}\n",
              ".list-inline>li:not(:last-child)::after {content: \"\\00b7\"; padding: 0 .5ex}\n",
              "</style>\n",
              "<ol class=list-inline><li>'gridVeg_groundCover_abundance_matrix'</li><li>'gridVeg_groundCover_intercepts'</li><li>'gridVeg_plant_abundance_matrix'</li><li>'gridVeg_plant_binary_matrix'</li><li>'gridVeg_plant_functional_groups'</li><li>'gridVeg_plant_intercepts'</li><li>'gridVeg_species_richness'</li><li>'gridVeg_survey_effort'</li></ol>\n"
            ]
          },
          "metadata": {
            "tags": []
          }
        }
      ]
    },
    {
      "cell_type": "code",
      "metadata": {
        "id": "kUhVNJNSZ7lt",
        "colab_type": "code",
        "colab": {}
      },
      "source": [
        "sql_ground <- \"SELECT * FROM `mpg-data-warehouse.vegetation_gridVeg_summaries.gridVeg_groundCover_intercepts`\""
      ],
      "execution_count": null,
      "outputs": []
    },
    {
      "cell_type": "code",
      "metadata": {
        "id": "N444dg9GaFUT",
        "colab_type": "code",
        "colab": {}
      },
      "source": [
        "bq_ground <- bq_project_query(billing, sql_ground)"
      ],
      "execution_count": null,
      "outputs": []
    },
    {
      "cell_type": "code",
      "metadata": {
        "id": "K5uckHvbaMH1",
        "colab_type": "code",
        "colab": {}
      },
      "source": [
        "tb_ground <- bq_table_download(bq_ground)"
      ],
      "execution_count": null,
      "outputs": []
    },
    {
      "cell_type": "code",
      "metadata": {
        "id": "FTImjqfzaRBg",
        "colab_type": "code",
        "colab": {}
      },
      "source": [
        "df_ground <- as.data.frame(tb_ground)"
      ],
      "execution_count": null,
      "outputs": []
    },
    {
      "cell_type": "code",
      "metadata": {
        "id": "ggTUPlqEaU3T",
        "colab_type": "code",
        "colab": {
          "base_uri": "https://localhost:8080/",
          "height": 170
        },
        "outputId": "779b426a-f72d-4042-a656-99fcdd7f7fc4"
      },
      "source": [
        "glimpse(df_ground)"
      ],
      "execution_count": null,
      "outputs": [
        {
          "output_type": "stream",
          "text": [
            "Rows: 22,392\n",
            "Columns: 7\n",
            "$ survey_ID             \u001b[3m\u001b[90m<chr>\u001b[39m\u001b[23m \"234\", \"234\", \"234\", \"234\", \"234\", \"236\", \"236\"…\n",
            "$ year                  \u001b[3m\u001b[90m<int>\u001b[39m\u001b[23m 2011, 2011, 2011, 2011, 2011, 2011, 2011, 2011,…\n",
            "$ survey_sequence       \u001b[3m\u001b[90m<chr>\u001b[39m\u001b[23m \"2011-12\", \"2011-12\", \"2011-12\", \"2011-12\", \"20…\n",
            "$ grid_point            \u001b[3m\u001b[90m<int>\u001b[39m\u001b[23m 48, 48, 48, 48, 48, 295, 295, 295, 295, 295, 20…\n",
            "$ intercept_ground_code \u001b[3m\u001b[90m<chr>\u001b[39m\u001b[23m \"SC\", \"SD\", \"SE\", \"SH\", \"SU\", \"SC\", \"SD\", \"SE\",…\n",
            "$ ground_group          \u001b[3m\u001b[90m<chr>\u001b[39m\u001b[23m \"dung\", \"dung\", \"dung\", \"dung\", \"dung\", \"dung\",…\n",
            "$ intercepts_pct        \u001b[3m\u001b[90m<dbl>\u001b[39m\u001b[23m 0.5, 0.0, 0.5, 0.0, 0.0, 0.0, 0.0, 0.0, 0.0, 0.…\n"
          ],
          "name": "stdout"
        }
      ]
    },
    {
      "cell_type": "code",
      "metadata": {
        "id": "rGPqE8cwgocV",
        "colab_type": "code",
        "colab": {
          "base_uri": "https://localhost:8080/",
          "height": 354
        },
        "outputId": "774c7dd5-3e1c-45c6-f17e-2e2fefd6d537"
      },
      "source": [
        "df_ground %>% \n",
        "  distinct(survey_ID) %>% \n",
        "  count()\n",
        "\n",
        "df_ground %>% \n",
        "  distinct(year)"
      ],
      "execution_count": null,
      "outputs": [
        {
          "output_type": "display_data",
          "data": {
            "text/plain": [
              "  n   \n",
              "1 1244"
            ],
            "text/latex": "A data.frame: 1 × 1\n\\begin{tabular}{l}\n n\\\\\n <int>\\\\\n\\hline\n\t 1244\\\\\n\\end{tabular}\n",
            "text/markdown": "\nA data.frame: 1 × 1\n\n| n &lt;int&gt; |\n|---|\n| 1244 |\n\n",
            "text/html": [
              "<table>\n",
              "<caption>A data.frame: 1 × 1</caption>\n",
              "<thead>\n",
              "\t<tr><th scope=col>n</th></tr>\n",
              "\t<tr><th scope=col>&lt;int&gt;</th></tr>\n",
              "</thead>\n",
              "<tbody>\n",
              "\t<tr><td>1244</td></tr>\n",
              "</tbody>\n",
              "</table>\n"
            ]
          },
          "metadata": {
            "tags": []
          }
        },
        {
          "output_type": "display_data",
          "data": {
            "text/plain": [
              "  year\n",
              "1 2011\n",
              "2 2012\n",
              "3 2013\n",
              "4 2015\n",
              "5 2016\n",
              "6 2017"
            ],
            "text/latex": "A data.frame: 6 × 1\n\\begin{tabular}{l}\n year\\\\\n <int>\\\\\n\\hline\n\t 2011\\\\\n\t 2012\\\\\n\t 2013\\\\\n\t 2015\\\\\n\t 2016\\\\\n\t 2017\\\\\n\\end{tabular}\n",
            "text/markdown": "\nA data.frame: 6 × 1\n\n| year &lt;int&gt; |\n|---|\n| 2011 |\n| 2012 |\n| 2013 |\n| 2015 |\n| 2016 |\n| 2017 |\n\n",
            "text/html": [
              "<table>\n",
              "<caption>A data.frame: 6 × 1</caption>\n",
              "<thead>\n",
              "\t<tr><th scope=col>year</th></tr>\n",
              "\t<tr><th scope=col>&lt;int&gt;</th></tr>\n",
              "</thead>\n",
              "<tbody>\n",
              "\t<tr><td>2011</td></tr>\n",
              "\t<tr><td>2012</td></tr>\n",
              "\t<tr><td>2013</td></tr>\n",
              "\t<tr><td>2015</td></tr>\n",
              "\t<tr><td>2016</td></tr>\n",
              "\t<tr><td>2017</td></tr>\n",
              "</tbody>\n",
              "</table>\n"
            ]
          },
          "metadata": {
            "tags": []
          }
        }
      ]
    },
    {
      "cell_type": "code",
      "metadata": {
        "id": "DlG7tn9PibN8",
        "colab_type": "code",
        "colab": {}
      },
      "source": [
        "df_ground_select <-\n",
        "  df_ground %>%\n",
        "    select(!ground_group)"
      ],
      "execution_count": null,
      "outputs": []
    },
    {
      "cell_type": "code",
      "metadata": {
        "id": "Th-dxm4Pj8Z6",
        "colab_type": "code",
        "colab": {}
      },
      "source": [
        "df_ground_select %>% \n",
        "  "
      ],
      "execution_count": null,
      "outputs": []
    },
    {
      "cell_type": "markdown",
      "metadata": {
        "id": "AWg06ZerOtR8",
        "colab_type": "text"
      },
      "source": [
        "# Wrangle"
      ]
    },
    {
      "cell_type": "markdown",
      "metadata": {
        "id": "P9XIb3h7cOzx",
        "colab_type": "text"
      },
      "source": [
        "## Search and Replace"
      ]
    },
    {
      "cell_type": "code",
      "metadata": {
        "id": "F41-zQZ7cSRC",
        "colab_type": "code",
        "colab": {
          "base_uri": "https://localhost:8080/",
          "height": 153
        },
        "outputId": "dae12472-3618-4e4f-bf5f-ef900f3b2508"
      },
      "source": [
        "df_ground_sr <-\n",
        "  df_ground_select %>% \n",
        "    mutate(intercept_ground_code = case_when(\n",
        "      intercept_ground_code == \"BG\" ~ \"BG\",\n",
        "      intercept_ground_code == \"BV\" ~ \"BV\",\n",
        "      intercept_ground_code == \"G\" ~ \"G\",\n",
        "      intercept_ground_code == \"L\" ~ \"M_L\",\n",
        "      intercept_ground_code == \"LIC\" ~ \"LIC\",\n",
        "      intercept_ground_code == \"M\" ~ \"M_L\",\n",
        "      intercept_ground_code == \"M/L\" ~ \"M_L\",\n",
        "      intercept_ground_code == \"OTHER\" ~ \"OTHER\",\n",
        "      intercept_ground_code == \"R\" ~ \"R\",\n",
        "      intercept_ground_code == \"SC\" ~ \"SC\",\n",
        "      intercept_ground_code == \"SD\" ~ \"SD\",\n",
        "      intercept_ground_code == \"SE\" ~ \"SE\",\n",
        "      intercept_ground_code == \"SH\" ~ \"SH\",\n",
        "      intercept_ground_code == \"SU\" ~ \"SU\",\n",
        "      intercept_ground_code == \"WDL\" ~ \"WDL\",\n",
        "      intercept_ground_code == \"WDS\" ~ \"WDS\",\n",
        "      intercept_ground_code == \"WDSTUMP\" ~ \"WDSTUMP\",\n",
        "      intercept_ground_code == \"WDT\" ~ \"WDT\"\n",
        "    )) %>% glimpse()"
      ],
      "execution_count": null,
      "outputs": [
        {
          "output_type": "stream",
          "text": [
            "Rows: 22,392\n",
            "Columns: 6\n",
            "$ survey_ID             \u001b[3m\u001b[90m<chr>\u001b[39m\u001b[23m \"234\", \"234\", \"234\", \"234\", \"234\", \"236\", \"236\"…\n",
            "$ year                  \u001b[3m\u001b[90m<int>\u001b[39m\u001b[23m 2011, 2011, 2011, 2011, 2011, 2011, 2011, 2011,…\n",
            "$ survey_sequence       \u001b[3m\u001b[90m<chr>\u001b[39m\u001b[23m \"2011-12\", \"2011-12\", \"2011-12\", \"2011-12\", \"20…\n",
            "$ grid_point            \u001b[3m\u001b[90m<int>\u001b[39m\u001b[23m 48, 48, 48, 48, 48, 295, 295, 295, 295, 295, 20…\n",
            "$ intercept_ground_code \u001b[3m\u001b[90m<chr>\u001b[39m\u001b[23m \"SC\", \"SD\", \"SE\", \"SH\", \"SU\", \"SC\", \"SD\", \"SE\",…\n",
            "$ intercepts_pct        \u001b[3m\u001b[90m<dbl>\u001b[39m\u001b[23m 0.5, 0.0, 0.5, 0.0, 0.0, 0.0, 0.0, 0.0, 0.0, 0.…\n"
          ],
          "name": "stdout"
        }
      ]
    },
    {
      "cell_type": "code",
      "metadata": {
        "id": "1b25_4gEyUOE",
        "colab_type": "code",
        "colab": {
          "base_uri": "https://localhost:8080/",
          "height": 414
        },
        "outputId": "34d4c462-dff7-4e91-9219-96739ac24d73"
      },
      "source": [
        "# this shows extra 'M_L' because the rows have not been summed\n",
        "df_ground_sr %>%\n",
        "  group_by(intercept_ground_code) %>%\n",
        "  count()"
      ],
      "execution_count": null,
      "outputs": [
        {
          "output_type": "display_data",
          "data": {
            "text/plain": [
              "   intercept_ground_code n   \n",
              "1  BG                    1244\n",
              "2  BV                    1244\n",
              "3  G                     1244\n",
              "4  LIC                   1244\n",
              "5  M_L                   3732\n",
              "6  OTHER                 1244\n",
              "7  R                     1244\n",
              "8  SC                    1244\n",
              "9  SD                    1244\n",
              "10 SE                    1244\n",
              "11 SH                    1244\n",
              "12 SU                    1244\n",
              "13 WDL                   1244\n",
              "14 WDS                   1244\n",
              "15 WDSTUMP               1244\n",
              "16 WDT                   1244"
            ],
            "text/latex": "A grouped\\_df: 16 × 2\n\\begin{tabular}{ll}\n intercept\\_ground\\_code & n\\\\\n <chr> & <int>\\\\\n\\hline\n\t BG      & 1244\\\\\n\t BV      & 1244\\\\\n\t G       & 1244\\\\\n\t LIC     & 1244\\\\\n\t M\\_L     & 3732\\\\\n\t OTHER   & 1244\\\\\n\t R       & 1244\\\\\n\t SC      & 1244\\\\\n\t SD      & 1244\\\\\n\t SE      & 1244\\\\\n\t SH      & 1244\\\\\n\t SU      & 1244\\\\\n\t WDL     & 1244\\\\\n\t WDS     & 1244\\\\\n\t WDSTUMP & 1244\\\\\n\t WDT     & 1244\\\\\n\\end{tabular}\n",
            "text/markdown": "\nA grouped_df: 16 × 2\n\n| intercept_ground_code &lt;chr&gt; | n &lt;int&gt; |\n|---|---|\n| BG      | 1244 |\n| BV      | 1244 |\n| G       | 1244 |\n| LIC     | 1244 |\n| M_L     | 3732 |\n| OTHER   | 1244 |\n| R       | 1244 |\n| SC      | 1244 |\n| SD      | 1244 |\n| SE      | 1244 |\n| SH      | 1244 |\n| SU      | 1244 |\n| WDL     | 1244 |\n| WDS     | 1244 |\n| WDSTUMP | 1244 |\n| WDT     | 1244 |\n\n",
            "text/html": [
              "<table>\n",
              "<caption>A grouped_df: 16 × 2</caption>\n",
              "<thead>\n",
              "\t<tr><th scope=col>intercept_ground_code</th><th scope=col>n</th></tr>\n",
              "\t<tr><th scope=col>&lt;chr&gt;</th><th scope=col>&lt;int&gt;</th></tr>\n",
              "</thead>\n",
              "<tbody>\n",
              "\t<tr><td>BG     </td><td>1244</td></tr>\n",
              "\t<tr><td>BV     </td><td>1244</td></tr>\n",
              "\t<tr><td>G      </td><td>1244</td></tr>\n",
              "\t<tr><td>LIC    </td><td>1244</td></tr>\n",
              "\t<tr><td>M_L    </td><td>3732</td></tr>\n",
              "\t<tr><td>OTHER  </td><td>1244</td></tr>\n",
              "\t<tr><td>R      </td><td>1244</td></tr>\n",
              "\t<tr><td>SC     </td><td>1244</td></tr>\n",
              "\t<tr><td>SD     </td><td>1244</td></tr>\n",
              "\t<tr><td>SE     </td><td>1244</td></tr>\n",
              "\t<tr><td>SH     </td><td>1244</td></tr>\n",
              "\t<tr><td>SU     </td><td>1244</td></tr>\n",
              "\t<tr><td>WDL    </td><td>1244</td></tr>\n",
              "\t<tr><td>WDS    </td><td>1244</td></tr>\n",
              "\t<tr><td>WDSTUMP</td><td>1244</td></tr>\n",
              "\t<tr><td>WDT    </td><td>1244</td></tr>\n",
              "</tbody>\n",
              "</table>\n"
            ]
          },
          "metadata": {
            "tags": []
          }
        }
      ]
    },
    {
      "cell_type": "code",
      "metadata": {
        "id": "N85GnoIuAS94",
        "colab_type": "code",
        "colab": {}
      },
      "source": [
        ""
      ],
      "execution_count": null,
      "outputs": []
    },
    {
      "cell_type": "markdown",
      "metadata": {
        "id": "gj2WAURkkrYS",
        "colab_type": "text"
      },
      "source": [
        "## Sum\n",
        "* Sum 'M_L' values for each survey_ID"
      ]
    },
    {
      "cell_type": "code",
      "metadata": {
        "id": "NhaK5-famBO9",
        "colab_type": "code",
        "colab": {
          "base_uri": "https://localhost:8080/",
          "height": 425
        },
        "outputId": "5035c7bf-4e74-46d6-cfb3-4f70e276ab06"
      },
      "source": [
        "df_ground_sum <-\n",
        "  df_ground_sr %>%\n",
        "    # split by survey_ID\n",
        "    group_by(survey_ID, year, survey_sequence, grid_point, intercept_ground_code) %>%\n",
        "    # sum intercept_ground_code, this should only change 'M_L' rows\n",
        "    summarize(intercepts_pct = sum(intercepts_pct)) %>%\n",
        "    # combine\n",
        "    spread(intercept_ground_code, intercepts_pct) %>%\n",
        "    replace(is.na(.), 0) %>% \n",
        "    ungroup() %>% glimpse()"
      ],
      "execution_count": null,
      "outputs": [
        {
          "output_type": "stream",
          "text": [
            "`summarise()` regrouping output by 'survey_ID', 'year', 'survey_sequence', 'grid_point' (override with `.groups` argument)\n",
            "\n"
          ],
          "name": "stderr"
        },
        {
          "output_type": "stream",
          "text": [
            "Rows: 1,334\n",
            "Columns: 20\n",
            "$ survey_ID       \u001b[3m\u001b[90m<chr>\u001b[39m\u001b[23m \"012C5FAD-2451-41B0-9E2F-432D1ECEB55C\", \"0133805F-823…\n",
            "$ year            \u001b[3m\u001b[90m<int>\u001b[39m\u001b[23m 2016, 2016, 2017, 2016, 2015, 2015, 2016, 2016, 2015,…\n",
            "$ survey_sequence \u001b[3m\u001b[90m<chr>\u001b[39m\u001b[23m \"2016\", \"2016\", \"2017\", \"2016\", \"2015\", \"2015\", \"2016…\n",
            "$ grid_point      \u001b[3m\u001b[90m<int>\u001b[39m\u001b[23m 285, 505, 401, 23, 23, 323, 323, 511, 402, 196, 226, …\n",
            "$ BG              \u001b[3m\u001b[90m<dbl>\u001b[39m\u001b[23m 15.5, 14.5, 16.5, 16.5, 0.0, 0.0, 0.0, 0.0, 19.5, 37.…\n",
            "$ BV              \u001b[3m\u001b[90m<dbl>\u001b[39m\u001b[23m 8.5, 1.0, 12.5, 8.0, 0.0, 5.0, 0.0, 22.0, 8.0, 8.0, 0…\n",
            "$ G               \u001b[3m\u001b[90m<dbl>\u001b[39m\u001b[23m 8.5, 9.5, 3.5, 6.5, 0.0, 3.0, 0.0, 0.0, 0.0, 24.5, 13…\n",
            "$ LIC             \u001b[3m\u001b[90m<dbl>\u001b[39m\u001b[23m 0.0, 2.0, 0.0, 8.5, 0.0, 0.0, 0.0, 0.0, 0.0, 2.5, 0.0…\n",
            "$ M_L             \u001b[3m\u001b[90m<dbl>\u001b[39m\u001b[23m 63.5, 60.5, 61.0, 59.5, 0.0, 91.0, 0.0, 61.0, 71.0, 1…\n",
            "$ OTHER           \u001b[3m\u001b[90m<dbl>\u001b[39m\u001b[23m 0, 0, 0, 0, 0, 0, 0, 0, 0, 0, 0, 0, 0, 0, 0, 0, 0, 0,…\n",
            "$ R               \u001b[3m\u001b[90m<dbl>\u001b[39m\u001b[23m 1.5, 12.0, 0.0, 0.0, 0.0, 1.0, 0.0, 1.0, 0.5, 8.0, 0.…\n",
            "$ SC              \u001b[3m\u001b[90m<dbl>\u001b[39m\u001b[23m 0, 0, 0, 0, 0, 0, 0, 0, 0, 0, 0, 0, 0, 0, 0, 0, 0, 0,…\n",
            "$ SD              \u001b[3m\u001b[90m<dbl>\u001b[39m\u001b[23m 0.5, 0.0, 0.0, 0.0, 0.0, 0.0, 0.0, 0.0, 0.0, 0.0, 0.0…\n",
            "$ SE              \u001b[3m\u001b[90m<dbl>\u001b[39m\u001b[23m 0.0, 0.0, 0.0, 0.5, 0.0, 0.0, 0.0, 0.0, 0.5, 0.0, 0.0…\n",
            "$ SH              \u001b[3m\u001b[90m<dbl>\u001b[39m\u001b[23m 0.0, 0.0, 0.5, 0.0, 0.0, 0.0, 0.0, 0.0, 0.0, 0.0, 0.0…\n",
            "$ SU              \u001b[3m\u001b[90m<dbl>\u001b[39m\u001b[23m 0, 0, 0, 0, 0, 0, 0, 0, 0, 0, 0, 0, 0, 0, 0, 0, 0, 0,…\n",
            "$ WDL             \u001b[3m\u001b[90m<dbl>\u001b[39m\u001b[23m 0.0, 0.5, 1.0, 0.0, 0.0, 0.0, 0.0, 4.5, 0.0, 0.0, 0.0…\n",
            "$ WDS             \u001b[3m\u001b[90m<dbl>\u001b[39m\u001b[23m 2.0, 0.0, 5.0, 0.5, 0.0, 0.0, 0.0, 11.5, 0.0, 0.5, 0.…\n",
            "$ WDSTUMP         \u001b[3m\u001b[90m<dbl>\u001b[39m\u001b[23m 0, 0, 0, 0, 0, 0, 0, 0, 0, 0, 0, 0, 0, 0, 0, 0, 0, 0,…\n",
            "$ WDT             \u001b[3m\u001b[90m<dbl>\u001b[39m\u001b[23m 0.0, 0.0, 0.0, 0.0, 0.0, 0.0, 0.0, 0.0, 0.0, 0.0, 0.0…\n"
          ],
          "name": "stdout"
        }
      ]
    },
    {
      "cell_type": "code",
      "metadata": {
        "id": "JvvbmwAxiTc9",
        "colab_type": "code",
        "colab": {
          "base_uri": "https://localhost:8080/",
          "height": 133
        },
        "outputId": "5193433b-fd6f-4393-cbe1-8dbd45dafcb9"
      },
      "source": [
        "df_ground_sum %>% \n",
        "  distinct(survey_ID) %>% \n",
        "  count()"
      ],
      "execution_count": null,
      "outputs": [
        {
          "output_type": "display_data",
          "data": {
            "text/plain": [
              "  n   \n",
              "1 1244"
            ],
            "text/latex": "A tibble: 1 × 1\n\\begin{tabular}{l}\n n\\\\\n <int>\\\\\n\\hline\n\t 1244\\\\\n\\end{tabular}\n",
            "text/markdown": "\nA tibble: 1 × 1\n\n| n &lt;int&gt; |\n|---|\n| 1244 |\n\n",
            "text/html": [
              "<table>\n",
              "<caption>A tibble: 1 × 1</caption>\n",
              "<thead>\n",
              "\t<tr><th scope=col>n</th></tr>\n",
              "\t<tr><th scope=col>&lt;int&gt;</th></tr>\n",
              "</thead>\n",
              "<tbody>\n",
              "\t<tr><td>1244</td></tr>\n",
              "</tbody>\n",
              "</table>\n"
            ]
          },
          "metadata": {
            "tags": []
          }
        }
      ]
    },
    {
      "cell_type": "code",
      "metadata": {
        "id": "0pn8YHOmre0w",
        "colab_type": "code",
        "colab": {
          "base_uri": "https://localhost:8080/",
          "height": 204
        },
        "outputId": "00a9d92d-eb4c-4ee2-dd00-9e08afa4161c"
      },
      "source": [
        "head(df_ground_sum)"
      ],
      "execution_count": null,
      "outputs": [
        {
          "output_type": "display_data",
          "data": {
            "text/plain": [
              "  survey_ID                            year survey_sequence grid_point BG  \n",
              "1 012C5FAD-2451-41B0-9E2F-432D1ECEB55C 2016 2016            285        15.5\n",
              "2 0133805F-8237-4190-B125-14E883158664 2016 2016            505        14.5\n",
              "3 0155DA4F-B744-4B92-BAE3-326ABC3C586F 2017 2017            401        16.5\n",
              "4 0159CEF8-3C0B-42D1-B961-03DA47A2C274 2016 2016             23        16.5\n",
              "5 027F5AE0-F90B-4E4D-81D8-E7674D600243 2015 2015             23         0.0\n",
              "6 027F5AE0-F90B-4E4D-81D8-E7674D600243 2015 2015            323         0.0\n",
              "  BV   G   LIC M_L  OTHER R    SC SD  SE  SH  SU WDL WDS WDSTUMP WDT\n",
              "1  8.5 8.5 0.0 63.5 0      1.5 0  0.5 0.0 0.0 0  0.0 2.0 0       0  \n",
              "2  1.0 9.5 2.0 60.5 0     12.0 0  0.0 0.0 0.0 0  0.5 0.0 0       0  \n",
              "3 12.5 3.5 0.0 61.0 0      0.0 0  0.0 0.0 0.5 0  1.0 5.0 0       0  \n",
              "4  8.0 6.5 8.5 59.5 0      0.0 0  0.0 0.5 0.0 0  0.0 0.5 0       0  \n",
              "5  0.0 0.0 0.0  0.0 0      0.0 0  0.0 0.0 0.0 0  0.0 0.0 0       0  \n",
              "6  5.0 3.0 0.0 91.0 0      1.0 0  0.0 0.0 0.0 0  0.0 0.0 0       0  "
            ],
            "text/latex": "A tibble: 6 × 20\n\\begin{tabular}{llllllllllllllllllll}\n survey\\_ID & year & survey\\_sequence & grid\\_point & BG & BV & G & LIC & M\\_L & OTHER & R & SC & SD & SE & SH & SU & WDL & WDS & WDSTUMP & WDT\\\\\n <chr> & <int> & <chr> & <int> & <dbl> & <dbl> & <dbl> & <dbl> & <dbl> & <dbl> & <dbl> & <dbl> & <dbl> & <dbl> & <dbl> & <dbl> & <dbl> & <dbl> & <dbl> & <dbl>\\\\\n\\hline\n\t 012C5FAD-2451-41B0-9E2F-432D1ECEB55C & 2016 & 2016 & 285 & 15.5 &  8.5 & 8.5 & 0.0 & 63.5 & 0 &  1.5 & 0 & 0.5 & 0.0 & 0.0 & 0 & 0.0 & 2.0 & 0 & 0\\\\\n\t 0133805F-8237-4190-B125-14E883158664 & 2016 & 2016 & 505 & 14.5 &  1.0 & 9.5 & 2.0 & 60.5 & 0 & 12.0 & 0 & 0.0 & 0.0 & 0.0 & 0 & 0.5 & 0.0 & 0 & 0\\\\\n\t 0155DA4F-B744-4B92-BAE3-326ABC3C586F & 2017 & 2017 & 401 & 16.5 & 12.5 & 3.5 & 0.0 & 61.0 & 0 &  0.0 & 0 & 0.0 & 0.0 & 0.5 & 0 & 1.0 & 5.0 & 0 & 0\\\\\n\t 0159CEF8-3C0B-42D1-B961-03DA47A2C274 & 2016 & 2016 &  23 & 16.5 &  8.0 & 6.5 & 8.5 & 59.5 & 0 &  0.0 & 0 & 0.0 & 0.5 & 0.0 & 0 & 0.0 & 0.5 & 0 & 0\\\\\n\t 027F5AE0-F90B-4E4D-81D8-E7674D600243 & 2015 & 2015 &  23 &  0.0 &  0.0 & 0.0 & 0.0 &  0.0 & 0 &  0.0 & 0 & 0.0 & 0.0 & 0.0 & 0 & 0.0 & 0.0 & 0 & 0\\\\\n\t 027F5AE0-F90B-4E4D-81D8-E7674D600243 & 2015 & 2015 & 323 &  0.0 &  5.0 & 3.0 & 0.0 & 91.0 & 0 &  1.0 & 0 & 0.0 & 0.0 & 0.0 & 0 & 0.0 & 0.0 & 0 & 0\\\\\n\\end{tabular}\n",
            "text/markdown": "\nA tibble: 6 × 20\n\n| survey_ID &lt;chr&gt; | year &lt;int&gt; | survey_sequence &lt;chr&gt; | grid_point &lt;int&gt; | BG &lt;dbl&gt; | BV &lt;dbl&gt; | G &lt;dbl&gt; | LIC &lt;dbl&gt; | M_L &lt;dbl&gt; | OTHER &lt;dbl&gt; | R &lt;dbl&gt; | SC &lt;dbl&gt; | SD &lt;dbl&gt; | SE &lt;dbl&gt; | SH &lt;dbl&gt; | SU &lt;dbl&gt; | WDL &lt;dbl&gt; | WDS &lt;dbl&gt; | WDSTUMP &lt;dbl&gt; | WDT &lt;dbl&gt; |\n|---|---|---|---|---|---|---|---|---|---|---|---|---|---|---|---|---|---|---|---|\n| 012C5FAD-2451-41B0-9E2F-432D1ECEB55C | 2016 | 2016 | 285 | 15.5 |  8.5 | 8.5 | 0.0 | 63.5 | 0 |  1.5 | 0 | 0.5 | 0.0 | 0.0 | 0 | 0.0 | 2.0 | 0 | 0 |\n| 0133805F-8237-4190-B125-14E883158664 | 2016 | 2016 | 505 | 14.5 |  1.0 | 9.5 | 2.0 | 60.5 | 0 | 12.0 | 0 | 0.0 | 0.0 | 0.0 | 0 | 0.5 | 0.0 | 0 | 0 |\n| 0155DA4F-B744-4B92-BAE3-326ABC3C586F | 2017 | 2017 | 401 | 16.5 | 12.5 | 3.5 | 0.0 | 61.0 | 0 |  0.0 | 0 | 0.0 | 0.0 | 0.5 | 0 | 1.0 | 5.0 | 0 | 0 |\n| 0159CEF8-3C0B-42D1-B961-03DA47A2C274 | 2016 | 2016 |  23 | 16.5 |  8.0 | 6.5 | 8.5 | 59.5 | 0 |  0.0 | 0 | 0.0 | 0.5 | 0.0 | 0 | 0.0 | 0.5 | 0 | 0 |\n| 027F5AE0-F90B-4E4D-81D8-E7674D600243 | 2015 | 2015 |  23 |  0.0 |  0.0 | 0.0 | 0.0 |  0.0 | 0 |  0.0 | 0 | 0.0 | 0.0 | 0.0 | 0 | 0.0 | 0.0 | 0 | 0 |\n| 027F5AE0-F90B-4E4D-81D8-E7674D600243 | 2015 | 2015 | 323 |  0.0 |  5.0 | 3.0 | 0.0 | 91.0 | 0 |  1.0 | 0 | 0.0 | 0.0 | 0.0 | 0 | 0.0 | 0.0 | 0 | 0 |\n\n",
            "text/html": [
              "<table>\n",
              "<caption>A tibble: 6 × 20</caption>\n",
              "<thead>\n",
              "\t<tr><th scope=col>survey_ID</th><th scope=col>year</th><th scope=col>survey_sequence</th><th scope=col>grid_point</th><th scope=col>BG</th><th scope=col>BV</th><th scope=col>G</th><th scope=col>LIC</th><th scope=col>M_L</th><th scope=col>OTHER</th><th scope=col>R</th><th scope=col>SC</th><th scope=col>SD</th><th scope=col>SE</th><th scope=col>SH</th><th scope=col>SU</th><th scope=col>WDL</th><th scope=col>WDS</th><th scope=col>WDSTUMP</th><th scope=col>WDT</th></tr>\n",
              "\t<tr><th scope=col>&lt;chr&gt;</th><th scope=col>&lt;int&gt;</th><th scope=col>&lt;chr&gt;</th><th scope=col>&lt;int&gt;</th><th scope=col>&lt;dbl&gt;</th><th scope=col>&lt;dbl&gt;</th><th scope=col>&lt;dbl&gt;</th><th scope=col>&lt;dbl&gt;</th><th scope=col>&lt;dbl&gt;</th><th scope=col>&lt;dbl&gt;</th><th scope=col>&lt;dbl&gt;</th><th scope=col>&lt;dbl&gt;</th><th scope=col>&lt;dbl&gt;</th><th scope=col>&lt;dbl&gt;</th><th scope=col>&lt;dbl&gt;</th><th scope=col>&lt;dbl&gt;</th><th scope=col>&lt;dbl&gt;</th><th scope=col>&lt;dbl&gt;</th><th scope=col>&lt;dbl&gt;</th><th scope=col>&lt;dbl&gt;</th></tr>\n",
              "</thead>\n",
              "<tbody>\n",
              "\t<tr><td>012C5FAD-2451-41B0-9E2F-432D1ECEB55C</td><td>2016</td><td>2016</td><td>285</td><td>15.5</td><td> 8.5</td><td>8.5</td><td>0.0</td><td>63.5</td><td>0</td><td> 1.5</td><td>0</td><td>0.5</td><td>0.0</td><td>0.0</td><td>0</td><td>0.0</td><td>2.0</td><td>0</td><td>0</td></tr>\n",
              "\t<tr><td>0133805F-8237-4190-B125-14E883158664</td><td>2016</td><td>2016</td><td>505</td><td>14.5</td><td> 1.0</td><td>9.5</td><td>2.0</td><td>60.5</td><td>0</td><td>12.0</td><td>0</td><td>0.0</td><td>0.0</td><td>0.0</td><td>0</td><td>0.5</td><td>0.0</td><td>0</td><td>0</td></tr>\n",
              "\t<tr><td>0155DA4F-B744-4B92-BAE3-326ABC3C586F</td><td>2017</td><td>2017</td><td>401</td><td>16.5</td><td>12.5</td><td>3.5</td><td>0.0</td><td>61.0</td><td>0</td><td> 0.0</td><td>0</td><td>0.0</td><td>0.0</td><td>0.5</td><td>0</td><td>1.0</td><td>5.0</td><td>0</td><td>0</td></tr>\n",
              "\t<tr><td>0159CEF8-3C0B-42D1-B961-03DA47A2C274</td><td>2016</td><td>2016</td><td> 23</td><td>16.5</td><td> 8.0</td><td>6.5</td><td>8.5</td><td>59.5</td><td>0</td><td> 0.0</td><td>0</td><td>0.0</td><td>0.5</td><td>0.0</td><td>0</td><td>0.0</td><td>0.5</td><td>0</td><td>0</td></tr>\n",
              "\t<tr><td>027F5AE0-F90B-4E4D-81D8-E7674D600243</td><td>2015</td><td>2015</td><td> 23</td><td> 0.0</td><td> 0.0</td><td>0.0</td><td>0.0</td><td> 0.0</td><td>0</td><td> 0.0</td><td>0</td><td>0.0</td><td>0.0</td><td>0.0</td><td>0</td><td>0.0</td><td>0.0</td><td>0</td><td>0</td></tr>\n",
              "\t<tr><td>027F5AE0-F90B-4E4D-81D8-E7674D600243</td><td>2015</td><td>2015</td><td>323</td><td> 0.0</td><td> 5.0</td><td>3.0</td><td>0.0</td><td>91.0</td><td>0</td><td> 1.0</td><td>0</td><td>0.0</td><td>0.0</td><td>0.0</td><td>0</td><td>0.0</td><td>0.0</td><td>0</td><td>0</td></tr>\n",
              "</tbody>\n",
              "</table>\n"
            ]
          },
          "metadata": {
            "tags": []
          }
        }
      ]
    },
    {
      "cell_type": "markdown",
      "metadata": {
        "id": "PKMMZMg0OwGi",
        "colab_type": "text"
      },
      "source": [
        "# Output"
      ]
    },
    {
      "cell_type": "code",
      "metadata": {
        "id": "FdV8tLx3OyDi",
        "colab_type": "code",
        "colab": {}
      },
      "source": [
        "# output pending comment response\n",
        "# write_csv(df_ground_sum, path = \"gridVeg_groundCover_abundance_matrix_WRANGLE.csv\")"
      ],
      "execution_count": null,
      "outputs": []
    }
  ]
}