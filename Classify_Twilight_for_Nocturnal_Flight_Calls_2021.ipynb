{
  "nbformat": 4,
  "nbformat_minor": 0,
  "metadata": {
    "colab": {
      "name": "Classify Twilight for Nocturnal Flight Calls - 2021.ipynb",
      "provenance": [],
      "include_colab_link": true
    },
    "kernelspec": {
      "name": "python3",
      "display_name": "Python 3"
    }
  },
  "cells": [
    {
      "cell_type": "markdown",
      "metadata": {
        "id": "view-in-github",
        "colab_type": "text"
      },
      "source": [
        "<a href=\"https://colab.research.google.com/github/samsoe/mpg_notebooks/blob/master/Classify_Twilight_for_Nocturnal_Flight_Calls_2021.ipynb\" target=\"_parent\"><img src=\"https://colab.research.google.com/assets/colab-badge.svg\" alt=\"Open In Colab\"/></a>"
      ]
    },
    {
      "cell_type": "markdown",
      "metadata": {
        "id": "jkrq1M5U35sA"
      },
      "source": [
        "# Load Tools"
      ]
    },
    {
      "cell_type": "code",
      "metadata": {
        "id": "y-Qirxxt36rF"
      },
      "source": [
        "from urllib.request import urlopen\n",
        "from datetime import timedelta, date, datetime\n",
        "from dateutil import tz\n",
        "import json\n",
        "import pandas as pd\n",
        "import time\n",
        "import os.path"
      ],
      "execution_count": 1,
      "outputs": []
    },
    {
      "cell_type": "markdown",
      "metadata": {
        "id": "1GsN8W6-39hA"
      },
      "source": [
        "# Load Source"
      ]
    },
    {
      "cell_type": "markdown",
      "metadata": {
        "id": "_uKmaYg5BooD"
      },
      "source": [
        "## Select NFC's"
      ]
    },
    {
      "cell_type": "code",
      "metadata": {
        "id": "m7_13H4lBoCR"
      },
      "source": [
        "# 2012_to_2020NFCBandingData_20210106.csv\n",
        "src_nfc = \"https://drive.google.com/uc?id=1r2esEc-UdAqoBvptlELey6tbfGmvHbGI\""
      ],
      "execution_count": 14,
      "outputs": []
    },
    {
      "cell_type": "code",
      "metadata": {
        "id": "het82LIdB6Dv"
      },
      "source": [
        "df_nfc = pd.read_csv(src_nfc, sep=',')"
      ],
      "execution_count": 55,
      "outputs": []
    },
    {
      "cell_type": "code",
      "metadata": {
        "colab": {
          "base_uri": "https://localhost:8080/"
        },
        "id": "5H3C6TuRNi85",
        "outputId": "e0aa7257-bc14-4d91-aef4-98ba2386cfd5"
      },
      "source": [
        "df_nfc.info()"
      ],
      "execution_count": 21,
      "outputs": [
        {
          "output_type": "stream",
          "text": [
            "<class 'pandas.core.frame.DataFrame'>\n",
            "RangeIndex: 63599 entries, 0 to 63598\n",
            "Data columns (total 23 columns):\n",
            " #   Column                   Non-Null Count  Dtype  \n",
            "---  ------                   --------------  -----  \n",
            " 0   season                   63599 non-null  object \n",
            " 1   year                     63599 non-null  int64  \n",
            " 2   detector                 63599 non-null  object \n",
            " 3   species                  63599 non-null  object \n",
            " 4   site                     63599 non-null  object \n",
            " 5   date                     63599 non-null  object \n",
            " 6   recording_start          63599 non-null  object \n",
            " 7   recording_length         63599 non-null  object \n",
            " 8   elapsed_detection_time   63599 non-null  object \n",
            " 9   real_detection_time      63599 non-null  object \n",
            " 10  real_detection_datetime  63599 non-null  object \n",
            " 11  rounded_to_half_hour     63599 non-null  object \n",
            " 12  duplicate                62568 non-null  object \n",
            " 13  sunset                   63599 non-null  object \n",
            " 14  civil_dusk               63599 non-null  object \n",
            " 15  nautical_dusk            63599 non-null  object \n",
            " 16  astronomical_dusk        63599 non-null  object \n",
            " 17  astronomical_dawn        63599 non-null  object \n",
            " 18  nautical_dawn            63599 non-null  object \n",
            " 19  civil_dawn               63599 non-null  object \n",
            " 20  sunrise                  63599 non-null  object \n",
            " 21  moon_altitude            63599 non-null  float64\n",
            " 22  moon_illumination        63599 non-null  float64\n",
            "dtypes: float64(2), int64(1), object(20)\n",
            "memory usage: 11.2+ MB\n"
          ],
          "name": "stdout"
        }
      ]
    },
    {
      "cell_type": "code",
      "metadata": {
        "colab": {
          "base_uri": "https://localhost:8080/",
          "height": 213
        },
        "id": "ARqQuSf0NlQV",
        "outputId": "1a87c8cc-5aba-423c-aad5-bc3507e9c238"
      },
      "source": [
        "df_nfc.head(n=3)"
      ],
      "execution_count": 56,
      "outputs": [
        {
          "output_type": "execute_result",
          "data": {
            "text/html": [
              "<div>\n",
              "<style scoped>\n",
              "    .dataframe tbody tr th:only-of-type {\n",
              "        vertical-align: middle;\n",
              "    }\n",
              "\n",
              "    .dataframe tbody tr th {\n",
              "        vertical-align: top;\n",
              "    }\n",
              "\n",
              "    .dataframe thead th {\n",
              "        text-align: right;\n",
              "    }\n",
              "</style>\n",
              "<table border=\"1\" class=\"dataframe\">\n",
              "  <thead>\n",
              "    <tr style=\"text-align: right;\">\n",
              "      <th></th>\n",
              "      <th>season</th>\n",
              "      <th>year</th>\n",
              "      <th>detector</th>\n",
              "      <th>species</th>\n",
              "      <th>site</th>\n",
              "      <th>date</th>\n",
              "      <th>recording_start</th>\n",
              "      <th>recording_length</th>\n",
              "      <th>elapsed_detection_time</th>\n",
              "      <th>real_detection_time</th>\n",
              "      <th>real_detection_datetime</th>\n",
              "      <th>rounded_to_half_hour</th>\n",
              "      <th>duplicate</th>\n",
              "      <th>sunset</th>\n",
              "      <th>civil_dusk</th>\n",
              "      <th>nautical_dusk</th>\n",
              "      <th>astronomical_dusk</th>\n",
              "      <th>astronomical_dawn</th>\n",
              "      <th>nautical_dawn</th>\n",
              "      <th>civil_dawn</th>\n",
              "      <th>sunrise</th>\n",
              "      <th>moon_altitude</th>\n",
              "      <th>moon_illumination</th>\n",
              "    </tr>\n",
              "  </thead>\n",
              "  <tbody>\n",
              "    <tr>\n",
              "      <th>0</th>\n",
              "      <td>Fall</td>\n",
              "      <td>2015</td>\n",
              "      <td>thrush</td>\n",
              "      <td>amco</td>\n",
              "      <td>flood</td>\n",
              "      <td>8/23/2015</td>\n",
              "      <td>20:03:00</td>\n",
              "      <td>6:45:47</td>\n",
              "      <td>4:19:13</td>\n",
              "      <td>0:22:13</td>\n",
              "      <td>8/24/2015 0:22</td>\n",
              "      <td>0:30:00</td>\n",
              "      <td>no</td>\n",
              "      <td>8/23/2015 20:32</td>\n",
              "      <td>8/23/2015 21:04</td>\n",
              "      <td>8/23/2015 21:43</td>\n",
              "      <td>8/23/2015 22:26</td>\n",
              "      <td>8/24/2015 4:51</td>\n",
              "      <td>8/24/2015 5:33</td>\n",
              "      <td>8/24/2015 6:13</td>\n",
              "      <td>8/24/2015 6:45</td>\n",
              "      <td>7.0</td>\n",
              "      <td>64.8</td>\n",
              "    </tr>\n",
              "    <tr>\n",
              "      <th>1</th>\n",
              "      <td>Fall</td>\n",
              "      <td>2015</td>\n",
              "      <td>thrush</td>\n",
              "      <td>amco</td>\n",
              "      <td>flood</td>\n",
              "      <td>8/23/2015</td>\n",
              "      <td>2:48:46</td>\n",
              "      <td>4:26:16</td>\n",
              "      <td>0:18:59</td>\n",
              "      <td>3:07:44</td>\n",
              "      <td>8/24/2015 3:07</td>\n",
              "      <td>3:00:00</td>\n",
              "      <td>no</td>\n",
              "      <td>8/23/2015 20:32</td>\n",
              "      <td>8/23/2015 21:04</td>\n",
              "      <td>8/23/2015 21:43</td>\n",
              "      <td>8/23/2015 22:26</td>\n",
              "      <td>8/24/2015 4:51</td>\n",
              "      <td>8/24/2015 5:33</td>\n",
              "      <td>8/24/2015 6:13</td>\n",
              "      <td>8/24/2015 6:45</td>\n",
              "      <td>-18.1</td>\n",
              "      <td>65.9</td>\n",
              "    </tr>\n",
              "    <tr>\n",
              "      <th>2</th>\n",
              "      <td>Fall</td>\n",
              "      <td>2015</td>\n",
              "      <td>thrush</td>\n",
              "      <td>amco</td>\n",
              "      <td>flood</td>\n",
              "      <td>9/15/2015</td>\n",
              "      <td>2:03:46</td>\n",
              "      <td>5:41:16</td>\n",
              "      <td>3:08:40</td>\n",
              "      <td>5:12:26</td>\n",
              "      <td>9/16/2015 5:12</td>\n",
              "      <td>5:00:00</td>\n",
              "      <td>no</td>\n",
              "      <td>9/15/2015 19:48</td>\n",
              "      <td>9/15/2015 20:18</td>\n",
              "      <td>9/15/2015 20:54</td>\n",
              "      <td>9/15/2015 21:31</td>\n",
              "      <td>9/16/2015 5:31</td>\n",
              "      <td>9/16/2015 6:08</td>\n",
              "      <td>9/16/2015 6:44</td>\n",
              "      <td>9/16/2015 7:15</td>\n",
              "      <td>-47.8</td>\n",
              "      <td>8.9</td>\n",
              "    </tr>\n",
              "  </tbody>\n",
              "</table>\n",
              "</div>"
            ],
            "text/plain": [
              "  season  year detector  ...         sunrise moon_altitude moon_illumination\n",
              "0   Fall  2015   thrush  ...  8/24/2015 6:45           7.0              64.8\n",
              "1   Fall  2015   thrush  ...  8/24/2015 6:45         -18.1              65.9\n",
              "2   Fall  2015   thrush  ...  9/16/2015 7:15         -47.8               8.9\n",
              "\n",
              "[3 rows x 23 columns]"
            ]
          },
          "metadata": {
            "tags": []
          },
          "execution_count": 56
        }
      ]
    },
    {
      "cell_type": "markdown",
      "metadata": {
        "id": "LSpDZhD9QTJY"
      },
      "source": [
        "# Wrangle"
      ]
    },
    {
      "cell_type": "markdown",
      "metadata": {
        "id": "RuQ7xs_nkb2n"
      },
      "source": [
        "## Date Format"
      ]
    },
    {
      "cell_type": "code",
      "metadata": {
        "colab": {
          "base_uri": "https://localhost:8080/"
        },
        "id": "FJNepakjkpa9",
        "outputId": "266d7165-e7b1-40d0-ced0-fb331345d9e9"
      },
      "source": [
        "df_nfc.info()"
      ],
      "execution_count": 57,
      "outputs": [
        {
          "output_type": "stream",
          "text": [
            "<class 'pandas.core.frame.DataFrame'>\n",
            "RangeIndex: 63599 entries, 0 to 63598\n",
            "Data columns (total 23 columns):\n",
            " #   Column                   Non-Null Count  Dtype  \n",
            "---  ------                   --------------  -----  \n",
            " 0   season                   63599 non-null  object \n",
            " 1   year                     63599 non-null  int64  \n",
            " 2   detector                 63599 non-null  object \n",
            " 3   species                  63599 non-null  object \n",
            " 4   site                     63599 non-null  object \n",
            " 5   date                     63599 non-null  object \n",
            " 6   recording_start          63599 non-null  object \n",
            " 7   recording_length         63599 non-null  object \n",
            " 8   elapsed_detection_time   63599 non-null  object \n",
            " 9   real_detection_time      63599 non-null  object \n",
            " 10  real_detection_datetime  63599 non-null  object \n",
            " 11  rounded_to_half_hour     63599 non-null  object \n",
            " 12  duplicate                62568 non-null  object \n",
            " 13  sunset                   63599 non-null  object \n",
            " 14  civil_dusk               63599 non-null  object \n",
            " 15  nautical_dusk            63599 non-null  object \n",
            " 16  astronomical_dusk        63599 non-null  object \n",
            " 17  astronomical_dawn        63599 non-null  object \n",
            " 18  nautical_dawn            63599 non-null  object \n",
            " 19  civil_dawn               63599 non-null  object \n",
            " 20  sunrise                  63599 non-null  object \n",
            " 21  moon_altitude            63599 non-null  float64\n",
            " 22  moon_illumination        63599 non-null  float64\n",
            "dtypes: float64(2), int64(1), object(20)\n",
            "memory usage: 11.2+ MB\n"
          ],
          "name": "stdout"
        }
      ]
    },
    {
      "cell_type": "code",
      "metadata": {
        "id": "2ct1iBKUhOKP"
      },
      "source": [
        "date_columns = ['real_detection_datetime', 'sunset', 'civil_dusk', 'nautical_dusk', 'astronomical_dusk',\\\n",
        "          'astronomical_dawn', 'nautical_dawn', 'civil_dawn', 'sunrise']"
      ],
      "execution_count": 58,
      "outputs": []
    },
    {
      "cell_type": "code",
      "metadata": {
        "id": "eijkWjA5hUnR"
      },
      "source": [
        "for column in date_columns:\n",
        "    df_nfc[column] = pd.to_datetime(df_nfc.loc[:, column]).dt.tz_localize('US/Mountain')"
      ],
      "execution_count": 59,
      "outputs": []
    },
    {
      "cell_type": "code",
      "metadata": {
        "colab": {
          "base_uri": "https://localhost:8080/"
        },
        "id": "LDEBv-_Fhgln",
        "outputId": "f4df38d3-bb55-4b43-fe6e-8bb494fb9478"
      },
      "source": [
        "df_nfc.info()"
      ],
      "execution_count": 60,
      "outputs": [
        {
          "output_type": "stream",
          "text": [
            "<class 'pandas.core.frame.DataFrame'>\n",
            "RangeIndex: 63599 entries, 0 to 63598\n",
            "Data columns (total 23 columns):\n",
            " #   Column                   Non-Null Count  Dtype                      \n",
            "---  ------                   --------------  -----                      \n",
            " 0   season                   63599 non-null  object                     \n",
            " 1   year                     63599 non-null  int64                      \n",
            " 2   detector                 63599 non-null  object                     \n",
            " 3   species                  63599 non-null  object                     \n",
            " 4   site                     63599 non-null  object                     \n",
            " 5   date                     63599 non-null  object                     \n",
            " 6   recording_start          63599 non-null  object                     \n",
            " 7   recording_length         63599 non-null  object                     \n",
            " 8   elapsed_detection_time   63599 non-null  object                     \n",
            " 9   real_detection_time      63599 non-null  object                     \n",
            " 10  real_detection_datetime  63599 non-null  datetime64[ns, US/Mountain]\n",
            " 11  rounded_to_half_hour     63599 non-null  object                     \n",
            " 12  duplicate                62568 non-null  object                     \n",
            " 13  sunset                   63599 non-null  datetime64[ns, US/Mountain]\n",
            " 14  civil_dusk               63599 non-null  datetime64[ns, US/Mountain]\n",
            " 15  nautical_dusk            63599 non-null  datetime64[ns, US/Mountain]\n",
            " 16  astronomical_dusk        63599 non-null  datetime64[ns, US/Mountain]\n",
            " 17  astronomical_dawn        63599 non-null  datetime64[ns, US/Mountain]\n",
            " 18  nautical_dawn            63599 non-null  datetime64[ns, US/Mountain]\n",
            " 19  civil_dawn               63599 non-null  datetime64[ns, US/Mountain]\n",
            " 20  sunrise                  63599 non-null  datetime64[ns, US/Mountain]\n",
            " 21  moon_altitude            63599 non-null  float64                    \n",
            " 22  moon_illumination        63599 non-null  float64                    \n",
            "dtypes: datetime64[ns, US/Mountain](9), float64(2), int64(1), object(11)\n",
            "memory usage: 11.2+ MB\n"
          ],
          "name": "stdout"
        }
      ]
    },
    {
      "cell_type": "markdown",
      "metadata": {
        "id": "orpdZQMUkY1E"
      },
      "source": [
        "## Classify"
      ]
    },
    {
      "cell_type": "code",
      "metadata": {
        "id": "0ifAgjUHQS3W"
      },
      "source": [
        "def dusk_dawn(row):\n",
        "    detection = row['real_detection_datetime']\n",
        "    \n",
        "    if row['sunset'] <= detection < row['civil_dusk']:\n",
        "        return 'civil_dusk'\n",
        "    elif row['civil_dusk'] <= detection < row['nautical_dusk']:\n",
        "        return 'nautical_dusk'\n",
        "    elif row['nautical_dusk'] <= detection < row['astronomical_dusk']:\n",
        "        return 'astronomical_dusk'\n",
        "    elif row['astronomical_dusk'] <= detection < row['astronomical_dawn']:\n",
        "        return 'night'\n",
        "    elif row['astronomical_dawn'] <= detection < row['nautical_dawn']:\n",
        "        return 'astronomical_dawn'\n",
        "    elif row['nautical_dawn'] <= detection < row['civil_dawn']:\n",
        "        return 'nautical_dawn'\n",
        "    elif row['civil_dawn'] <= detection < row['sunrise']:\n",
        "        return 'civil_dawn'\n",
        "    else:\n",
        "        print('Row out of range')"
      ],
      "execution_count": 61,
      "outputs": []
    },
    {
      "cell_type": "code",
      "metadata": {
        "id": "dk0sJ-l8iV1X"
      },
      "source": [
        "df_nfc['light_classification'] = df_nfc.apply(dusk_dawn, axis=1)"
      ],
      "execution_count": 62,
      "outputs": []
    },
    {
      "cell_type": "code",
      "metadata": {
        "colab": {
          "base_uri": "https://localhost:8080/",
          "height": 479
        },
        "id": "OX2s9kLnoG7E",
        "outputId": "4213d61b-cb0a-4126-d1f5-839cc5a24aba"
      },
      "source": [
        "df_nfc.head()"
      ],
      "execution_count": 67,
      "outputs": [
        {
          "output_type": "execute_result",
          "data": {
            "text/html": [
              "<div>\n",
              "<style scoped>\n",
              "    .dataframe tbody tr th:only-of-type {\n",
              "        vertical-align: middle;\n",
              "    }\n",
              "\n",
              "    .dataframe tbody tr th {\n",
              "        vertical-align: top;\n",
              "    }\n",
              "\n",
              "    .dataframe thead th {\n",
              "        text-align: right;\n",
              "    }\n",
              "</style>\n",
              "<table border=\"1\" class=\"dataframe\">\n",
              "  <thead>\n",
              "    <tr style=\"text-align: right;\">\n",
              "      <th></th>\n",
              "      <th>season</th>\n",
              "      <th>year</th>\n",
              "      <th>detector</th>\n",
              "      <th>species</th>\n",
              "      <th>site</th>\n",
              "      <th>date</th>\n",
              "      <th>recording_start</th>\n",
              "      <th>recording_length</th>\n",
              "      <th>elapsed_detection_time</th>\n",
              "      <th>real_detection_time</th>\n",
              "      <th>real_detection_datetime</th>\n",
              "      <th>rounded_to_half_hour</th>\n",
              "      <th>duplicate</th>\n",
              "      <th>sunset</th>\n",
              "      <th>civil_dusk</th>\n",
              "      <th>nautical_dusk</th>\n",
              "      <th>astronomical_dusk</th>\n",
              "      <th>astronomical_dawn</th>\n",
              "      <th>nautical_dawn</th>\n",
              "      <th>civil_dawn</th>\n",
              "      <th>sunrise</th>\n",
              "      <th>moon_altitude</th>\n",
              "      <th>moon_illumination</th>\n",
              "      <th>light_classification</th>\n",
              "    </tr>\n",
              "  </thead>\n",
              "  <tbody>\n",
              "    <tr>\n",
              "      <th>0</th>\n",
              "      <td>Fall</td>\n",
              "      <td>2015</td>\n",
              "      <td>thrush</td>\n",
              "      <td>amco</td>\n",
              "      <td>flood</td>\n",
              "      <td>8/23/2015</td>\n",
              "      <td>20:03:00</td>\n",
              "      <td>6:45:47</td>\n",
              "      <td>4:19:13</td>\n",
              "      <td>0:22:13</td>\n",
              "      <td>2015-08-24 00:22:00-06:00</td>\n",
              "      <td>0:30:00</td>\n",
              "      <td>no</td>\n",
              "      <td>2015-08-23 20:32:00-06:00</td>\n",
              "      <td>2015-08-23 21:04:00-06:00</td>\n",
              "      <td>2015-08-23 21:43:00-06:00</td>\n",
              "      <td>2015-08-23 22:26:00-06:00</td>\n",
              "      <td>2015-08-24 04:51:00-06:00</td>\n",
              "      <td>2015-08-24 05:33:00-06:00</td>\n",
              "      <td>2015-08-24 06:13:00-06:00</td>\n",
              "      <td>2015-08-24 06:45:00-06:00</td>\n",
              "      <td>7.0</td>\n",
              "      <td>64.8</td>\n",
              "      <td>night</td>\n",
              "    </tr>\n",
              "    <tr>\n",
              "      <th>1</th>\n",
              "      <td>Fall</td>\n",
              "      <td>2015</td>\n",
              "      <td>thrush</td>\n",
              "      <td>amco</td>\n",
              "      <td>flood</td>\n",
              "      <td>8/23/2015</td>\n",
              "      <td>2:48:46</td>\n",
              "      <td>4:26:16</td>\n",
              "      <td>0:18:59</td>\n",
              "      <td>3:07:44</td>\n",
              "      <td>2015-08-24 03:07:00-06:00</td>\n",
              "      <td>3:00:00</td>\n",
              "      <td>no</td>\n",
              "      <td>2015-08-23 20:32:00-06:00</td>\n",
              "      <td>2015-08-23 21:04:00-06:00</td>\n",
              "      <td>2015-08-23 21:43:00-06:00</td>\n",
              "      <td>2015-08-23 22:26:00-06:00</td>\n",
              "      <td>2015-08-24 04:51:00-06:00</td>\n",
              "      <td>2015-08-24 05:33:00-06:00</td>\n",
              "      <td>2015-08-24 06:13:00-06:00</td>\n",
              "      <td>2015-08-24 06:45:00-06:00</td>\n",
              "      <td>-18.1</td>\n",
              "      <td>65.9</td>\n",
              "      <td>night</td>\n",
              "    </tr>\n",
              "    <tr>\n",
              "      <th>2</th>\n",
              "      <td>Fall</td>\n",
              "      <td>2015</td>\n",
              "      <td>thrush</td>\n",
              "      <td>amco</td>\n",
              "      <td>flood</td>\n",
              "      <td>9/15/2015</td>\n",
              "      <td>2:03:46</td>\n",
              "      <td>5:41:16</td>\n",
              "      <td>3:08:40</td>\n",
              "      <td>5:12:26</td>\n",
              "      <td>2015-09-16 05:12:00-06:00</td>\n",
              "      <td>5:00:00</td>\n",
              "      <td>no</td>\n",
              "      <td>2015-09-15 19:48:00-06:00</td>\n",
              "      <td>2015-09-15 20:18:00-06:00</td>\n",
              "      <td>2015-09-15 20:54:00-06:00</td>\n",
              "      <td>2015-09-15 21:31:00-06:00</td>\n",
              "      <td>2015-09-16 05:31:00-06:00</td>\n",
              "      <td>2015-09-16 06:08:00-06:00</td>\n",
              "      <td>2015-09-16 06:44:00-06:00</td>\n",
              "      <td>2015-09-16 07:15:00-06:00</td>\n",
              "      <td>-47.8</td>\n",
              "      <td>8.9</td>\n",
              "      <td>night</td>\n",
              "    </tr>\n",
              "    <tr>\n",
              "      <th>3</th>\n",
              "      <td>Fall</td>\n",
              "      <td>2015</td>\n",
              "      <td>thrush</td>\n",
              "      <td>amco</td>\n",
              "      <td>flood</td>\n",
              "      <td>9/15/2015</td>\n",
              "      <td>2:03:46</td>\n",
              "      <td>5:41:16</td>\n",
              "      <td>3:08:41</td>\n",
              "      <td>5:12:26</td>\n",
              "      <td>2015-09-16 05:12:00-06:00</td>\n",
              "      <td>5:00:00</td>\n",
              "      <td>yes</td>\n",
              "      <td>2015-09-15 19:48:00-06:00</td>\n",
              "      <td>2015-09-15 20:18:00-06:00</td>\n",
              "      <td>2015-09-15 20:54:00-06:00</td>\n",
              "      <td>2015-09-15 21:31:00-06:00</td>\n",
              "      <td>2015-09-16 05:31:00-06:00</td>\n",
              "      <td>2015-09-16 06:08:00-06:00</td>\n",
              "      <td>2015-09-16 06:44:00-06:00</td>\n",
              "      <td>2015-09-16 07:15:00-06:00</td>\n",
              "      <td>-47.8</td>\n",
              "      <td>8.9</td>\n",
              "      <td>night</td>\n",
              "    </tr>\n",
              "    <tr>\n",
              "      <th>4</th>\n",
              "      <td>Fall</td>\n",
              "      <td>2016</td>\n",
              "      <td>thrush</td>\n",
              "      <td>amco</td>\n",
              "      <td>flood</td>\n",
              "      <td>8/28/2016</td>\n",
              "      <td>19:52:00</td>\n",
              "      <td>6:45:47</td>\n",
              "      <td>5:45:28</td>\n",
              "      <td>1:37:28</td>\n",
              "      <td>2016-08-29 01:37:00-06:00</td>\n",
              "      <td>1:30:00</td>\n",
              "      <td>no</td>\n",
              "      <td>2016-08-28 20:21:00-06:00</td>\n",
              "      <td>2016-08-28 20:53:00-06:00</td>\n",
              "      <td>2016-08-28 21:31:00-06:00</td>\n",
              "      <td>2016-08-28 22:12:00-06:00</td>\n",
              "      <td>2016-08-29 05:01:00-06:00</td>\n",
              "      <td>2016-08-29 05:42:00-06:00</td>\n",
              "      <td>2016-08-29 06:21:00-06:00</td>\n",
              "      <td>2016-08-29 06:52:00-06:00</td>\n",
              "      <td>-19.2</td>\n",
              "      <td>10.0</td>\n",
              "      <td>night</td>\n",
              "    </tr>\n",
              "  </tbody>\n",
              "</table>\n",
              "</div>"
            ],
            "text/plain": [
              "  season  year detector  ... moon_altitude moon_illumination light_classification\n",
              "0   Fall  2015   thrush  ...           7.0              64.8                night\n",
              "1   Fall  2015   thrush  ...         -18.1              65.9                night\n",
              "2   Fall  2015   thrush  ...         -47.8               8.9                night\n",
              "3   Fall  2015   thrush  ...         -47.8               8.9                night\n",
              "4   Fall  2016   thrush  ...         -19.2              10.0                night\n",
              "\n",
              "[5 rows x 24 columns]"
            ]
          },
          "metadata": {
            "tags": []
          },
          "execution_count": 67
        }
      ]
    },
    {
      "cell_type": "code",
      "metadata": {
        "colab": {
          "base_uri": "https://localhost:8080/",
          "height": 69
        },
        "id": "1NUHU-lerER6",
        "outputId": "202c56a6-2963-4e37-986a-974f65fefae3"
      },
      "source": [
        "# Look for unclassified rows\n",
        "df_nfc.loc[df_nfc['light_classification'] == 'Row out of range']"
      ],
      "execution_count": 71,
      "outputs": [
        {
          "output_type": "execute_result",
          "data": {
            "text/html": [
              "<div>\n",
              "<style scoped>\n",
              "    .dataframe tbody tr th:only-of-type {\n",
              "        vertical-align: middle;\n",
              "    }\n",
              "\n",
              "    .dataframe tbody tr th {\n",
              "        vertical-align: top;\n",
              "    }\n",
              "\n",
              "    .dataframe thead th {\n",
              "        text-align: right;\n",
              "    }\n",
              "</style>\n",
              "<table border=\"1\" class=\"dataframe\">\n",
              "  <thead>\n",
              "    <tr style=\"text-align: right;\">\n",
              "      <th></th>\n",
              "      <th>season</th>\n",
              "      <th>year</th>\n",
              "      <th>detector</th>\n",
              "      <th>species</th>\n",
              "      <th>site</th>\n",
              "      <th>date</th>\n",
              "      <th>recording_start</th>\n",
              "      <th>recording_length</th>\n",
              "      <th>elapsed_detection_time</th>\n",
              "      <th>real_detection_time</th>\n",
              "      <th>real_detection_datetime</th>\n",
              "      <th>rounded_to_half_hour</th>\n",
              "      <th>duplicate</th>\n",
              "      <th>sunset</th>\n",
              "      <th>civil_dusk</th>\n",
              "      <th>nautical_dusk</th>\n",
              "      <th>astronomical_dusk</th>\n",
              "      <th>astronomical_dawn</th>\n",
              "      <th>nautical_dawn</th>\n",
              "      <th>civil_dawn</th>\n",
              "      <th>sunrise</th>\n",
              "      <th>moon_altitude</th>\n",
              "      <th>moon_illumination</th>\n",
              "      <th>light_classification</th>\n",
              "    </tr>\n",
              "  </thead>\n",
              "  <tbody>\n",
              "  </tbody>\n",
              "</table>\n",
              "</div>"
            ],
            "text/plain": [
              "Empty DataFrame\n",
              "Columns: [season, year, detector, species, site, date, recording_start, recording_length, elapsed_detection_time, real_detection_time, real_detection_datetime, rounded_to_half_hour, duplicate, sunset, civil_dusk, nautical_dusk, astronomical_dusk, astronomical_dawn, nautical_dawn, civil_dawn, sunrise, moon_altitude, moon_illumination, light_classification]\n",
              "Index: []"
            ]
          },
          "metadata": {
            "tags": []
          },
          "execution_count": 71
        }
      ]
    },
    {
      "cell_type": "markdown",
      "metadata": {
        "id": "zcxPx_erlOu0"
      },
      "source": [
        "# Output"
      ]
    },
    {
      "cell_type": "code",
      "metadata": {
        "id": "HkL1Zm1plPlw"
      },
      "source": [
        "output_filename = '2012_to_2020NFCBandingData_20210106_lightclassified.csv'\n",
        "df_nfc.to_csv(output_filename, index=False)"
      ],
      "execution_count": 70,
      "outputs": []
    },
    {
      "cell_type": "markdown",
      "metadata": {
        "id": "pHLL1QhJnWNg"
      },
      "source": [
        "# Note"
      ]
    },
    {
      "cell_type": "markdown",
      "metadata": {
        "id": "AeFpMxa_nYBy"
      },
      "source": [
        "These classifications assume that the twilight datetimes provided are appropriate for the lat long of the station."
      ]
    }
  ]
}