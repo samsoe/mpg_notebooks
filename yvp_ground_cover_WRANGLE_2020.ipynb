{
  "nbformat": 4,
  "nbformat_minor": 0,
  "metadata": {
    "colab": {
      "name": "yvp_ground_cover-WRANGLE-2020.ipynb",
      "provenance": [],
      "collapsed_sections": [],
      "toc_visible": true,
      "include_colab_link": true
    },
    "language_info": {
      "codemirror_mode": "r",
      "file_extension": ".r",
      "mimetype": "text/x-r-source",
      "name": "R",
      "pygments_lexer": "r",
      "version": "3.3.1"
    },
    "kernelspec": {
      "display_name": "R",
      "language": "R",
      "name": "ir"
    }
  },
  "cells": [
    {
      "cell_type": "markdown",
      "metadata": {
        "id": "view-in-github",
        "colab_type": "text"
      },
      "source": [
        "<a href=\"https://colab.research.google.com/github/samsoe/mpg_notebooks/blob/master/yvp_ground_cover_WRANGLE_2020.ipynb\" target=\"_parent\"><img src=\"https://colab.research.google.com/assets/colab-badge.svg\" alt=\"Open In Colab\"/></a>"
      ]
    },
    {
      "cell_type": "markdown",
      "metadata": {
        "id": "H1ycex_2hNjQ"
      },
      "source": [
        "# Documentation"
      ]
    },
    {
      "cell_type": "markdown",
      "metadata": {
        "id": "F-VD4WalhRUr"
      },
      "source": [
        "[Readme fixed plot vegetation data](https://docs.google.com/document/d/16-Aq8u9Rudd78fSzfjvpCXyQgE-BstC-d2PjYfmLtcw/edit?usp=sharing)"
      ]
    },
    {
      "cell_type": "markdown",
      "metadata": {
        "id": "BhOI1uU2Koum"
      },
      "source": [
        "# Security"
      ]
    },
    {
      "cell_type": "markdown",
      "metadata": {
        "id": "hgB3r3wvA9Pn"
      },
      "source": [
        "* The user must load a `json` file containing the BigQuery API key into the local directory `/content/...`\n",
        "* The user must have a Google Maps API key to enable mapping. \n",
        "   * CAUTION make sure the key is deleted from the current instance of the notebook before sharing"
      ]
    },
    {
      "cell_type": "markdown",
      "metadata": {
        "id": "MnG0ah7OA59c"
      },
      "source": [
        "# Tools"
      ]
    },
    {
      "cell_type": "code",
      "metadata": {
        "id": "Y6y4EWeYpVBJ",
        "outputId": "8c29953d-6a32-40ce-faa3-4aac98a42aa6",
        "colab": {
          "base_uri": "https://localhost:8080/"
        }
      },
      "source": [
        "library(tidyverse)\n",
        "library(lubridate)"
      ],
      "execution_count": null,
      "outputs": [
        {
          "output_type": "stream",
          "text": [
            "── \u001b[1mAttaching packages\u001b[22m ─────────────────────────────────────── tidyverse 1.3.0 ──\n",
            "\n",
            "\u001b[32m✔\u001b[39m \u001b[34mggplot2\u001b[39m 3.3.2     \u001b[32m✔\u001b[39m \u001b[34mpurrr  \u001b[39m 0.3.4\n",
            "\u001b[32m✔\u001b[39m \u001b[34mtibble \u001b[39m 3.0.4     \u001b[32m✔\u001b[39m \u001b[34mdplyr  \u001b[39m 1.0.2\n",
            "\u001b[32m✔\u001b[39m \u001b[34mtidyr  \u001b[39m 1.1.2     \u001b[32m✔\u001b[39m \u001b[34mstringr\u001b[39m 1.4.0\n",
            "\u001b[32m✔\u001b[39m \u001b[34mreadr  \u001b[39m 1.4.0     \u001b[32m✔\u001b[39m \u001b[34mforcats\u001b[39m 0.5.0\n",
            "\n",
            "── \u001b[1mConflicts\u001b[22m ────────────────────────────────────────── tidyverse_conflicts() ──\n",
            "\u001b[31m✖\u001b[39m \u001b[34mdplyr\u001b[39m::\u001b[32mfilter()\u001b[39m masks \u001b[34mstats\u001b[39m::filter()\n",
            "\u001b[31m✖\u001b[39m \u001b[34mdplyr\u001b[39m::\u001b[32mlag()\u001b[39m    masks \u001b[34mstats\u001b[39m::lag()\n",
            "\n",
            "\n",
            "Attaching package: ‘lubridate’\n",
            "\n",
            "\n",
            "The following objects are masked from ‘package:base’:\n",
            "\n",
            "    date, intersect, setdiff, union\n",
            "\n",
            "\n"
          ],
          "name": "stderr"
        }
      ]
    },
    {
      "cell_type": "markdown",
      "metadata": {
        "id": "H1I9aQ_SBH3n"
      },
      "source": [
        "# Source"
      ]
    },
    {
      "cell_type": "markdown",
      "metadata": {
        "id": "ujUI5SN7Mz_g"
      },
      "source": [
        "## CSV"
      ]
    },
    {
      "cell_type": "markdown",
      "metadata": {
        "id": "IzuX_NmXmdKl"
      },
      "source": [
        "### df_groundcover"
      ]
    },
    {
      "cell_type": "code",
      "metadata": {
        "id": "xZ1dvNudM2XR"
      },
      "source": [
        "# 2020-10-22_yvp_ground_cover_SOURCE.csv\n",
        "# https://drive.google.com/file/d/1gm88qr4nHmKt7OnWCH-uaBT7DNdl5KCd/view?usp=sharing\n",
        "src_ground <- 'https://drive.google.com/uc?id=1gm88qr4nHmKt7OnWCH-uaBT7DNdl5KCd'"
      ],
      "execution_count": null,
      "outputs": []
    },
    {
      "cell_type": "code",
      "metadata": {
        "id": "C52X3LUaNsF6",
        "outputId": "3f589600-627f-4d74-d463-b80a6393dd07",
        "colab": {
          "base_uri": "https://localhost:8080/"
        }
      },
      "source": [
        "df_groundcover <- read_csv(src_ground)"
      ],
      "execution_count": null,
      "outputs": [
        {
          "output_type": "stream",
          "text": [
            "\n",
            "\u001b[36m──\u001b[39m \u001b[1m\u001b[1mColumn specification\u001b[1m\u001b[22m \u001b[36m────────────────────────────────────────────────────────\u001b[39m\n",
            "cols(\n",
            "  plot_num = \u001b[32mcol_double()\u001b[39m,\n",
            "  plot_code = \u001b[31mcol_character()\u001b[39m,\n",
            "  date = \u001b[33mcol_logical()\u001b[39m,\n",
            "  subplot = \u001b[32mcol_double()\u001b[39m,\n",
            "  groundcover_type = \u001b[31mcol_character()\u001b[39m,\n",
            "  groundcover_pct = \u001b[32mcol_double()\u001b[39m,\n",
            "  comments = \u001b[31mcol_character()\u001b[39m\n",
            ")\n",
            "\n",
            "\n"
          ],
          "name": "stderr"
        }
      ]
    },
    {
      "cell_type": "code",
      "metadata": {
        "id": "EOkPB_4YhBCu",
        "outputId": "eccc6a04-fc5f-4149-e73e-34da4f6bf927",
        "colab": {
          "base_uri": "https://localhost:8080/"
        }
      },
      "source": [
        "df_groundcover %>% glimpse()"
      ],
      "execution_count": null,
      "outputs": [
        {
          "output_type": "stream",
          "text": [
            "Rows: 4,640\n",
            "Columns: 7\n",
            "$ plot_num         \u001b[3m\u001b[90m<dbl>\u001b[39m\u001b[23m 10, 10, 10, 10, 10, 10, 10, 10, 10, 10, 10, 10, 10, …\n",
            "$ plot_code        \u001b[3m\u001b[90m<chr>\u001b[39m\u001b[23m \"YVP 10\", \"YVP 10\", \"YVP 10\", \"YVP 10\", \"YVP 10\", \"Y…\n",
            "$ date             \u001b[3m\u001b[90m<lgl>\u001b[39m\u001b[23m NA, NA, NA, NA, NA, NA, NA, NA, NA, NA, NA, NA, NA, …\n",
            "$ subplot          \u001b[3m\u001b[90m<dbl>\u001b[39m\u001b[23m 1, 1, 1, 1, 1, 1, 1, 1, 2, 2, 2, 2, 2, 2, 2, 2, 3, 3…\n",
            "$ groundcover_type \u001b[3m\u001b[90m<chr>\u001b[39m\u001b[23m \"BV\", \"L\", \"LIC\", \"M\", \"G\", \"BG\", \"R\", \"WD\", \"BV\", \"…\n",
            "$ groundcover_pct  \u001b[3m\u001b[90m<dbl>\u001b[39m\u001b[23m 70, 20, 5, 5, 1, 0, 0, 0, 50, 30, 20, 2, 1, 1, 0, 0,…\n",
            "$ comments         \u001b[3m\u001b[90m<chr>\u001b[39m\u001b[23m NA, NA, NA, NA, NA, NA, NA, NA, NA, NA, NA, NA, NA, …\n"
          ],
          "name": "stdout"
        }
      ]
    },
    {
      "cell_type": "code",
      "metadata": {
        "id": "pKOQlbtvmH1j",
        "outputId": "02b553b7-e561-4a6c-c1ed-1130e4d18802",
        "colab": {
          "base_uri": "https://localhost:8080/",
          "height": 204
        }
      },
      "source": [
        "df_groundcover %>% head()"
      ],
      "execution_count": null,
      "outputs": [
        {
          "output_type": "display_data",
          "data": {
            "text/plain": [
              "  plot_num plot_code date subplot groundcover_type groundcover_pct comments\n",
              "1 10       YVP 10    NA   1       BV               70              NA      \n",
              "2 10       YVP 10    NA   1       L                20              NA      \n",
              "3 10       YVP 10    NA   1       LIC               5              NA      \n",
              "4 10       YVP 10    NA   1       M                 5              NA      \n",
              "5 10       YVP 10    NA   1       G                 1              NA      \n",
              "6 10       YVP 10    NA   1       BG                0              NA      "
            ],
            "text/latex": "A tibble: 6 × 7\n\\begin{tabular}{lllllll}\n plot\\_num & plot\\_code & date & subplot & groundcover\\_type & groundcover\\_pct & comments\\\\\n <dbl> & <chr> & <lgl> & <dbl> & <chr> & <dbl> & <chr>\\\\\n\\hline\n\t 10 & YVP 10 & NA & 1 & BV  & 70 & NA\\\\\n\t 10 & YVP 10 & NA & 1 & L   & 20 & NA\\\\\n\t 10 & YVP 10 & NA & 1 & LIC &  5 & NA\\\\\n\t 10 & YVP 10 & NA & 1 & M   &  5 & NA\\\\\n\t 10 & YVP 10 & NA & 1 & G   &  1 & NA\\\\\n\t 10 & YVP 10 & NA & 1 & BG  &  0 & NA\\\\\n\\end{tabular}\n",
            "text/markdown": "\nA tibble: 6 × 7\n\n| plot_num &lt;dbl&gt; | plot_code &lt;chr&gt; | date &lt;lgl&gt; | subplot &lt;dbl&gt; | groundcover_type &lt;chr&gt; | groundcover_pct &lt;dbl&gt; | comments &lt;chr&gt; |\n|---|---|---|---|---|---|---|\n| 10 | YVP 10 | NA | 1 | BV  | 70 | NA |\n| 10 | YVP 10 | NA | 1 | L   | 20 | NA |\n| 10 | YVP 10 | NA | 1 | LIC |  5 | NA |\n| 10 | YVP 10 | NA | 1 | M   |  5 | NA |\n| 10 | YVP 10 | NA | 1 | G   |  1 | NA |\n| 10 | YVP 10 | NA | 1 | BG  |  0 | NA |\n\n",
            "text/html": [
              "<table>\n",
              "<caption>A tibble: 6 × 7</caption>\n",
              "<thead>\n",
              "\t<tr><th scope=col>plot_num</th><th scope=col>plot_code</th><th scope=col>date</th><th scope=col>subplot</th><th scope=col>groundcover_type</th><th scope=col>groundcover_pct</th><th scope=col>comments</th></tr>\n",
              "\t<tr><th scope=col>&lt;dbl&gt;</th><th scope=col>&lt;chr&gt;</th><th scope=col>&lt;lgl&gt;</th><th scope=col>&lt;dbl&gt;</th><th scope=col>&lt;chr&gt;</th><th scope=col>&lt;dbl&gt;</th><th scope=col>&lt;chr&gt;</th></tr>\n",
              "</thead>\n",
              "<tbody>\n",
              "\t<tr><td>10</td><td>YVP 10</td><td>NA</td><td>1</td><td>BV </td><td>70</td><td>NA</td></tr>\n",
              "\t<tr><td>10</td><td>YVP 10</td><td>NA</td><td>1</td><td>L  </td><td>20</td><td>NA</td></tr>\n",
              "\t<tr><td>10</td><td>YVP 10</td><td>NA</td><td>1</td><td>LIC</td><td> 5</td><td>NA</td></tr>\n",
              "\t<tr><td>10</td><td>YVP 10</td><td>NA</td><td>1</td><td>M  </td><td> 5</td><td>NA</td></tr>\n",
              "\t<tr><td>10</td><td>YVP 10</td><td>NA</td><td>1</td><td>G  </td><td> 1</td><td>NA</td></tr>\n",
              "\t<tr><td>10</td><td>YVP 10</td><td>NA</td><td>1</td><td>BG </td><td> 0</td><td>NA</td></tr>\n",
              "</tbody>\n",
              "</table>\n"
            ]
          },
          "metadata": {
            "tags": []
          }
        }
      ]
    },
    {
      "cell_type": "markdown",
      "metadata": {
        "id": "r0Q1BTlWmhzS"
      },
      "source": [
        "### df_meta"
      ]
    },
    {
      "cell_type": "code",
      "metadata": {
        "id": "LMNIMacbmj39"
      },
      "source": [
        "# 2020-10-22_yvp_survey_metadata_SOURCE.csv\n",
        "# https://drive.google.com/file/d/19I0quIj8ALzP91VkxxIR-D1PWgXRZ_90/view?usp=sharing\n",
        "src_meta <- 'https://drive.google.com/uc?id=19I0quIj8ALzP91VkxxIR-D1PWgXRZ_90'"
      ],
      "execution_count": null,
      "outputs": []
    },
    {
      "cell_type": "code",
      "metadata": {
        "id": "zmOlbRibm4Q9",
        "outputId": "a4772eeb-d043-4433-95ba-ea190462f11d",
        "colab": {
          "base_uri": "https://localhost:8080/"
        }
      },
      "source": [
        "df_meta_full <- read_csv(src_meta) %>% glimpse()"
      ],
      "execution_count": null,
      "outputs": [
        {
          "output_type": "stream",
          "text": [
            "\n",
            "\u001b[36m──\u001b[39m \u001b[1m\u001b[1mColumn specification\u001b[1m\u001b[22m \u001b[36m────────────────────────────────────────────────────────\u001b[39m\n",
            "cols(\n",
            "  Plot = \u001b[31mcol_character()\u001b[39m,\n",
            "  Date = \u001b[31mcol_character()\u001b[39m,\n",
            "  Initials = \u001b[31mcol_character()\u001b[39m,\n",
            "  `GPS Lat 1` = \u001b[32mcol_double()\u001b[39m,\n",
            "  `GPS Long 1` = \u001b[32mcol_double()\u001b[39m,\n",
            "  `GPS Lat 2` = \u001b[32mcol_double()\u001b[39m,\n",
            "  `GPS Long 2` = \u001b[32mcol_double()\u001b[39m,\n",
            "  Azimuth = \u001b[32mcol_double()\u001b[39m,\n",
            "  `comments 2020` = \u001b[31mcol_character()\u001b[39m,\n",
            "  `Comments 2019` = \u001b[31mcol_character()\u001b[39m,\n",
            "  `Comments 2018` = \u001b[31mcol_character()\u001b[39m,\n",
            "  `Comments 2017` = \u001b[31mcol_character()\u001b[39m\n",
            ")\n",
            "\n",
            "\n"
          ],
          "name": "stderr"
        },
        {
          "output_type": "stream",
          "text": [
            "Rows: 232\n",
            "Columns: 12\n",
            "$ Plot            \u001b[3m\u001b[90m<chr>\u001b[39m\u001b[23m \"NA294\", \"NB294\", \"NC294\", \"N278\", \"NA292\", \"NB292\", …\n",
            "$ Date            \u001b[3m\u001b[90m<chr>\u001b[39m\u001b[23m \"5/8/17\", \"5/8/17\", \"5/8/17\", \"5/9/17\", \"5/9/17\", \"5/…\n",
            "$ Initials        \u001b[3m\u001b[90m<chr>\u001b[39m\u001b[23m \"MED\", \"MED\", \"MED\", \"MED\", \"MED\", \"MED\", \"MED\", \"MED…\n",
            "$ `GPS Lat 1`     \u001b[3m\u001b[90m<dbl>\u001b[39m\u001b[23m 46.67863, 46.67960, 46.68005, 46.68213, 46.67934, 46.…\n",
            "$ `GPS Long 1`    \u001b[3m\u001b[90m<dbl>\u001b[39m\u001b[23m -113.9934, -113.9935, -113.9933, -114.0009, -113.9995…\n",
            "$ `GPS Lat 2`     \u001b[3m\u001b[90m<dbl>\u001b[39m\u001b[23m 46.67869, 46.67915, 46.68049, 46.68192, 46.67976, 46.…\n",
            "$ `GPS Long 2`    \u001b[3m\u001b[90m<dbl>\u001b[39m\u001b[23m -113.9928, -113.9936, -113.9932, -114.0015, -113.9993…\n",
            "$ Azimuth         \u001b[3m\u001b[90m<dbl>\u001b[39m\u001b[23m 118, 189, 13, 248, 25, 287, 21, 234, 101, 193, 220, 1…\n",
            "$ `comments 2020` \u001b[3m\u001b[90m<chr>\u001b[39m\u001b[23m \"this transect was challenging to match the sp. due t…\n",
            "$ `Comments 2019` \u001b[3m\u001b[90m<chr>\u001b[39m\u001b[23m NA, NA, NA, NA, NA, NA, NA, NA, NA, NA, NA, NA, NA, N…\n",
            "$ `Comments 2018` \u001b[3m\u001b[90m<chr>\u001b[39m\u001b[23m \"Line reset in 2018. Pull tape taut between end point…\n",
            "$ `Comments 2017` \u001b[3m\u001b[90m<chr>\u001b[39m\u001b[23m \"line curves around slope, stay contour to slope azim…\n"
          ],
          "name": "stdout"
        }
      ]
    },
    {
      "cell_type": "code",
      "metadata": {
        "id": "Ic8qoqa0_8xp"
      },
      "source": [
        "# cast to date datatype\n",
        "df_meta_full$Date <- mdy(df_meta_full$Date)"
      ],
      "execution_count": null,
      "outputs": []
    },
    {
      "cell_type": "code",
      "metadata": {
        "id": "0m-rS1wzm_AK",
        "outputId": "0ad9e91a-d6eb-4fe6-dd3b-559695f95002",
        "colab": {
          "base_uri": "https://localhost:8080/"
        }
      },
      "source": [
        "df_meta <- df_meta_full %>%\n",
        "  filter(year(df_meta_full$Date) == 2020) %>%\n",
        "  glimpse()"
      ],
      "execution_count": null,
      "outputs": [
        {
          "output_type": "stream",
          "text": [
            "Rows: 58\n",
            "Columns: 12\n",
            "$ Plot            \u001b[3m\u001b[90m<chr>\u001b[39m\u001b[23m \"NA294\", \"NB294\", \"NC294\", \"N324\", \"N321\", \"NA292\", \"…\n",
            "$ Date            \u001b[3m\u001b[90m<date>\u001b[39m\u001b[23m 2020-05-09, 2020-05-09, 2020-05-09, 2020-05-09, 2020…\n",
            "$ Initials        \u001b[3m\u001b[90m<chr>\u001b[39m\u001b[23m \"MED\", \"MED\", \"MED\", \"MED\", \"MED\", \"MED\", \"MED\", \"MED…\n",
            "$ `GPS Lat 1`     \u001b[3m\u001b[90m<dbl>\u001b[39m\u001b[23m 46.67863, 46.67960, 46.68005, 46.67728, 46.67698, 46.…\n",
            "$ `GPS Long 1`    \u001b[3m\u001b[90m<dbl>\u001b[39m\u001b[23m -113.9934, -113.9935, 113.9933, -113.9933, -114.0028,…\n",
            "$ `GPS Lat 2`     \u001b[3m\u001b[90m<dbl>\u001b[39m\u001b[23m 46.67869, 46.67915, 46.68049, 46.67702, 46.67738, 46.…\n",
            "$ `GPS Long 2`    \u001b[3m\u001b[90m<dbl>\u001b[39m\u001b[23m -113.9928, -113.9936, -113.9932, -113.9938, -114.0026…\n",
            "$ Azimuth         \u001b[3m\u001b[90m<dbl>\u001b[39m\u001b[23m 118, 189, 13, 234, 21, 25, 287, 212, 101, 193, 162, 3…\n",
            "$ `comments 2020` \u001b[3m\u001b[90m<chr>\u001b[39m\u001b[23m NA, NA, NA, NA, NA, NA, NA, \"Sagebrush in this plot h…\n",
            "$ `Comments 2019` \u001b[3m\u001b[90m<chr>\u001b[39m\u001b[23m \"5/14/2019 MK\", \"5/13/2019 MK Still has barbed wire. …\n",
            "$ `Comments 2018` \u001b[3m\u001b[90m<chr>\u001b[39m\u001b[23m \"Line reset in 2018. Pull tape taut between end point…\n",
            "$ `Comments 2017` \u001b[3m\u001b[90m<chr>\u001b[39m\u001b[23m \"line curves around slope, stay contour to slope azim…\n"
          ],
          "name": "stdout"
        }
      ]
    },
    {
      "cell_type": "markdown",
      "metadata": {
        "id": "S1Z7QBdNjjmW"
      },
      "source": [
        "# Wrangle"
      ]
    },
    {
      "cell_type": "markdown",
      "metadata": {
        "id": "CM_N72ZNm_bD"
      },
      "source": [
        "### plot_loc"
      ]
    },
    {
      "cell_type": "code",
      "metadata": {
        "id": "dzkXh2y9nCZ1",
        "outputId": "382d53a5-7c6d-45e8-9317-3199c6721935",
        "colab": {
          "base_uri": "https://localhost:8080/"
        }
      },
      "source": [
        "# detect \"N\" in 'plot_code' and write to new column 'plot_loc'\n",
        "df_plot_loc <- df_groundcover %>% \n",
        "  mutate(plot_loc = ifelse(str_detect(plot_code, \"N\"), \"N\", NA)) %>% \n",
        "  # comments variable is dropped here, not included in schema\n",
        "  select(plot_num, plot_code, plot_loc, date, subplot, groundcover_type, groundcover_pct) %>%\n",
        "  glimpse()"
      ],
      "execution_count": null,
      "outputs": [
        {
          "output_type": "stream",
          "text": [
            "Rows: 4,640\n",
            "Columns: 7\n",
            "$ plot_num         \u001b[3m\u001b[90m<dbl>\u001b[39m\u001b[23m 10, 10, 10, 10, 10, 10, 10, 10, 10, 10, 10, 10, 10, …\n",
            "$ plot_code        \u001b[3m\u001b[90m<chr>\u001b[39m\u001b[23m \"YVP 10\", \"YVP 10\", \"YVP 10\", \"YVP 10\", \"YVP 10\", \"Y…\n",
            "$ plot_loc         \u001b[3m\u001b[90m<chr>\u001b[39m\u001b[23m NA, NA, NA, NA, NA, NA, NA, NA, NA, NA, NA, NA, NA, …\n",
            "$ date             \u001b[3m\u001b[90m<lgl>\u001b[39m\u001b[23m NA, NA, NA, NA, NA, NA, NA, NA, NA, NA, NA, NA, NA, …\n",
            "$ subplot          \u001b[3m\u001b[90m<dbl>\u001b[39m\u001b[23m 1, 1, 1, 1, 1, 1, 1, 1, 2, 2, 2, 2, 2, 2, 2, 2, 3, 3…\n",
            "$ groundcover_type \u001b[3m\u001b[90m<chr>\u001b[39m\u001b[23m \"BV\", \"L\", \"LIC\", \"M\", \"G\", \"BG\", \"R\", \"WD\", \"BV\", \"…\n",
            "$ groundcover_pct  \u001b[3m\u001b[90m<dbl>\u001b[39m\u001b[23m 70, 20, 5, 5, 1, 0, 0, 0, 50, 30, 20, 2, 1, 1, 0, 0,…\n"
          ],
          "name": "stdout"
        }
      ]
    },
    {
      "cell_type": "markdown",
      "metadata": {
        "id": "Wc-u1gqKs1gb"
      },
      "source": [
        "### plot_rep"
      ]
    },
    {
      "cell_type": "code",
      "metadata": {
        "id": "_wqo1VoFs3We",
        "outputId": "55c85de0-80d7-4349-b404-bb6b3091b36e",
        "colab": {
          "base_uri": "https://localhost:8080/"
        }
      },
      "source": [
        "# detect \"A\", \"B\", \"C\" characters in plot_code and if present write to 'plot_rep'\n",
        "df_plot_rep <- df_plot_loc %>%\n",
        "  mutate(plot_rep = case_when(str_detect(plot_code, \"A\")~\"A\",\n",
        "                              str_detect(plot_code, \"B\")~\"B\",\n",
        "                              str_detect(plot_code, \"C\")~\"C\")) %>%\n",
        "  select(plot_num, plot_code, plot_loc, plot_rep, date, subplot, groundcover_type, groundcover_pct) %>%\n",
        "  glimpse()"
      ],
      "execution_count": null,
      "outputs": [
        {
          "output_type": "stream",
          "text": [
            "Rows: 4,640\n",
            "Columns: 8\n",
            "$ plot_num         \u001b[3m\u001b[90m<dbl>\u001b[39m\u001b[23m 10, 10, 10, 10, 10, 10, 10, 10, 10, 10, 10, 10, 10, …\n",
            "$ plot_code        \u001b[3m\u001b[90m<chr>\u001b[39m\u001b[23m \"YVP 10\", \"YVP 10\", \"YVP 10\", \"YVP 10\", \"YVP 10\", \"Y…\n",
            "$ plot_loc         \u001b[3m\u001b[90m<chr>\u001b[39m\u001b[23m NA, NA, NA, NA, NA, NA, NA, NA, NA, NA, NA, NA, NA, …\n",
            "$ plot_rep         \u001b[3m\u001b[90m<chr>\u001b[39m\u001b[23m NA, NA, NA, NA, NA, NA, NA, NA, NA, NA, NA, NA, NA, …\n",
            "$ date             \u001b[3m\u001b[90m<lgl>\u001b[39m\u001b[23m NA, NA, NA, NA, NA, NA, NA, NA, NA, NA, NA, NA, NA, …\n",
            "$ subplot          \u001b[3m\u001b[90m<dbl>\u001b[39m\u001b[23m 1, 1, 1, 1, 1, 1, 1, 1, 2, 2, 2, 2, 2, 2, 2, 2, 3, 3…\n",
            "$ groundcover_type \u001b[3m\u001b[90m<chr>\u001b[39m\u001b[23m \"BV\", \"L\", \"LIC\", \"M\", \"G\", \"BG\", \"R\", \"WD\", \"BV\", \"…\n",
            "$ groundcover_pct  \u001b[3m\u001b[90m<dbl>\u001b[39m\u001b[23m 70, 20, 5, 5, 1, 0, 0, 0, 50, 30, 20, 2, 1, 1, 0, 0,…\n"
          ],
          "name": "stdout"
        }
      ]
    },
    {
      "cell_type": "markdown",
      "metadata": {
        "id": "CaBG1mJhnois"
      },
      "source": [
        "### grid_point"
      ]
    },
    {
      "cell_type": "code",
      "metadata": {
        "id": "hmtwdzu6nn66",
        "outputId": "eabcf662-288f-4ec9-fa36-a52051fb4c5c",
        "colab": {
          "base_uri": "https://localhost:8080/"
        }
      },
      "source": [
        "# rename plot_num grid_point and drop duplicate\n",
        "df_grid_point <- df_plot_rep %>%\n",
        "  mutate(grid_point = plot_num) %>%\n",
        "  select(grid_point, plot_code, plot_loc, plot_rep, date, subplot, groundcover_type, groundcover_pct) %>%\n",
        "  glimpse()"
      ],
      "execution_count": null,
      "outputs": [
        {
          "output_type": "stream",
          "text": [
            "Rows: 4,640\n",
            "Columns: 8\n",
            "$ grid_point       \u001b[3m\u001b[90m<dbl>\u001b[39m\u001b[23m 10, 10, 10, 10, 10, 10, 10, 10, 10, 10, 10, 10, 10, …\n",
            "$ plot_code        \u001b[3m\u001b[90m<chr>\u001b[39m\u001b[23m \"YVP 10\", \"YVP 10\", \"YVP 10\", \"YVP 10\", \"YVP 10\", \"Y…\n",
            "$ plot_loc         \u001b[3m\u001b[90m<chr>\u001b[39m\u001b[23m NA, NA, NA, NA, NA, NA, NA, NA, NA, NA, NA, NA, NA, …\n",
            "$ plot_rep         \u001b[3m\u001b[90m<chr>\u001b[39m\u001b[23m NA, NA, NA, NA, NA, NA, NA, NA, NA, NA, NA, NA, NA, …\n",
            "$ date             \u001b[3m\u001b[90m<lgl>\u001b[39m\u001b[23m NA, NA, NA, NA, NA, NA, NA, NA, NA, NA, NA, NA, NA, …\n",
            "$ subplot          \u001b[3m\u001b[90m<dbl>\u001b[39m\u001b[23m 1, 1, 1, 1, 1, 1, 1, 1, 2, 2, 2, 2, 2, 2, 2, 2, 3, 3…\n",
            "$ groundcover_type \u001b[3m\u001b[90m<chr>\u001b[39m\u001b[23m \"BV\", \"L\", \"LIC\", \"M\", \"G\", \"BG\", \"R\", \"WD\", \"BV\", \"…\n",
            "$ groundcover_pct  \u001b[3m\u001b[90m<dbl>\u001b[39m\u001b[23m 70, 20, 5, 5, 1, 0, 0, 0, 50, 30, 20, 2, 1, 1, 0, 0,…\n"
          ],
          "name": "stdout"
        }
      ]
    },
    {
      "cell_type": "code",
      "metadata": {
        "id": "LscM0toiwBrj"
      },
      "source": [
        "# cast dbl grid_point datatype to int\n",
        "df_grid_point$grid_point <- as.integer(df_grid_point$grid_point)"
      ],
      "execution_count": null,
      "outputs": []
    },
    {
      "cell_type": "code",
      "metadata": {
        "id": "MkeIGuDdw000",
        "outputId": "868af353-8a1e-493d-b649-09614693ea38",
        "colab": {
          "base_uri": "https://localhost:8080/"
        }
      },
      "source": [
        "df_grid_point %>% glimpse()"
      ],
      "execution_count": null,
      "outputs": [
        {
          "output_type": "stream",
          "text": [
            "Rows: 4,640\n",
            "Columns: 8\n",
            "$ grid_point       \u001b[3m\u001b[90m<int>\u001b[39m\u001b[23m 10, 10, 10, 10, 10, 10, 10, 10, 10, 10, 10, 10, 10, …\n",
            "$ plot_code        \u001b[3m\u001b[90m<chr>\u001b[39m\u001b[23m \"YVP 10\", \"YVP 10\", \"YVP 10\", \"YVP 10\", \"YVP 10\", \"Y…\n",
            "$ plot_loc         \u001b[3m\u001b[90m<chr>\u001b[39m\u001b[23m NA, NA, NA, NA, NA, NA, NA, NA, NA, NA, NA, NA, NA, …\n",
            "$ plot_rep         \u001b[3m\u001b[90m<chr>\u001b[39m\u001b[23m NA, NA, NA, NA, NA, NA, NA, NA, NA, NA, NA, NA, NA, …\n",
            "$ date             \u001b[3m\u001b[90m<lgl>\u001b[39m\u001b[23m NA, NA, NA, NA, NA, NA, NA, NA, NA, NA, NA, NA, NA, …\n",
            "$ subplot          \u001b[3m\u001b[90m<dbl>\u001b[39m\u001b[23m 1, 1, 1, 1, 1, 1, 1, 1, 2, 2, 2, 2, 2, 2, 2, 2, 3, 3…\n",
            "$ groundcover_type \u001b[3m\u001b[90m<chr>\u001b[39m\u001b[23m \"BV\", \"L\", \"LIC\", \"M\", \"G\", \"BG\", \"R\", \"WD\", \"BV\", \"…\n",
            "$ groundcover_pct  \u001b[3m\u001b[90m<dbl>\u001b[39m\u001b[23m 70, 20, 5, 5, 1, 0, 0, 0, 50, 30, 20, 2, 1, 1, 0, 0,…\n"
          ],
          "name": "stdout"
        }
      ]
    },
    {
      "cell_type": "code",
      "metadata": {
        "id": "rqmap8Pb2UEQ",
        "outputId": "9469d4ce-0fae-4e15-ae7c-b61c0432315a",
        "colab": {
          "base_uri": "https://localhost:8080/"
        }
      },
      "source": [
        "df_meta %>% glimpse()"
      ],
      "execution_count": null,
      "outputs": [
        {
          "output_type": "stream",
          "text": [
            "Rows: 58\n",
            "Columns: 12\n",
            "$ Plot            \u001b[3m\u001b[90m<chr>\u001b[39m\u001b[23m \"NA294\", \"NB294\", \"NC294\", \"N324\", \"N321\", \"NA292\", \"…\n",
            "$ Date            \u001b[3m\u001b[90m<date>\u001b[39m\u001b[23m 2020-05-09, 2020-05-09, 2020-05-09, 2020-05-09, 2020…\n",
            "$ Initials        \u001b[3m\u001b[90m<chr>\u001b[39m\u001b[23m \"MED\", \"MED\", \"MED\", \"MED\", \"MED\", \"MED\", \"MED\", \"MED…\n",
            "$ `GPS Lat 1`     \u001b[3m\u001b[90m<dbl>\u001b[39m\u001b[23m 46.67863, 46.67960, 46.68005, 46.67728, 46.67698, 46.…\n",
            "$ `GPS Long 1`    \u001b[3m\u001b[90m<dbl>\u001b[39m\u001b[23m -113.9934, -113.9935, 113.9933, -113.9933, -114.0028,…\n",
            "$ `GPS Lat 2`     \u001b[3m\u001b[90m<dbl>\u001b[39m\u001b[23m 46.67869, 46.67915, 46.68049, 46.67702, 46.67738, 46.…\n",
            "$ `GPS Long 2`    \u001b[3m\u001b[90m<dbl>\u001b[39m\u001b[23m -113.9928, -113.9936, -113.9932, -113.9938, -114.0026…\n",
            "$ Azimuth         \u001b[3m\u001b[90m<dbl>\u001b[39m\u001b[23m 118, 189, 13, 234, 21, 25, 287, 212, 101, 193, 162, 3…\n",
            "$ `comments 2020` \u001b[3m\u001b[90m<chr>\u001b[39m\u001b[23m NA, NA, NA, NA, NA, NA, NA, \"Sagebrush in this plot h…\n",
            "$ `Comments 2019` \u001b[3m\u001b[90m<chr>\u001b[39m\u001b[23m \"5/14/2019 MK\", \"5/13/2019 MK Still has barbed wire. …\n",
            "$ `Comments 2018` \u001b[3m\u001b[90m<chr>\u001b[39m\u001b[23m \"Line reset in 2018. Pull tape taut between end point…\n",
            "$ `Comments 2017` \u001b[3m\u001b[90m<chr>\u001b[39m\u001b[23m \"line curves around slope, stay contour to slope azim…\n"
          ],
          "name": "stdout"
        }
      ]
    },
    {
      "cell_type": "markdown",
      "metadata": {
        "id": "Df_oHweAnhg2"
      },
      "source": [
        "### date"
      ]
    },
    {
      "cell_type": "code",
      "metadata": {
        "id": "Yd1hDNzg4zQR",
        "outputId": "236e11c0-cac9-406f-8324-6055d9da82a8",
        "colab": {
          "base_uri": "https://localhost:8080/"
        }
      },
      "source": [
        "# create Plot in df_grid_point to enable join\n",
        "df_join <- df_grid_point %>% \n",
        "  mutate(Plot = str_sub(plot_code, 5)) %>% glimpse()"
      ],
      "execution_count": null,
      "outputs": [
        {
          "output_type": "stream",
          "text": [
            "Rows: 4,640\n",
            "Columns: 9\n",
            "$ grid_point       \u001b[3m\u001b[90m<int>\u001b[39m\u001b[23m 10, 10, 10, 10, 10, 10, 10, 10, 10, 10, 10, 10, 10, …\n",
            "$ plot_code        \u001b[3m\u001b[90m<chr>\u001b[39m\u001b[23m \"YVP 10\", \"YVP 10\", \"YVP 10\", \"YVP 10\", \"YVP 10\", \"Y…\n",
            "$ plot_loc         \u001b[3m\u001b[90m<chr>\u001b[39m\u001b[23m NA, NA, NA, NA, NA, NA, NA, NA, NA, NA, NA, NA, NA, …\n",
            "$ plot_rep         \u001b[3m\u001b[90m<chr>\u001b[39m\u001b[23m NA, NA, NA, NA, NA, NA, NA, NA, NA, NA, NA, NA, NA, …\n",
            "$ date             \u001b[3m\u001b[90m<lgl>\u001b[39m\u001b[23m NA, NA, NA, NA, NA, NA, NA, NA, NA, NA, NA, NA, NA, …\n",
            "$ subplot          \u001b[3m\u001b[90m<dbl>\u001b[39m\u001b[23m 1, 1, 1, 1, 1, 1, 1, 1, 2, 2, 2, 2, 2, 2, 2, 2, 3, 3…\n",
            "$ groundcover_type \u001b[3m\u001b[90m<chr>\u001b[39m\u001b[23m \"BV\", \"L\", \"LIC\", \"M\", \"G\", \"BG\", \"R\", \"WD\", \"BV\", \"…\n",
            "$ groundcover_pct  \u001b[3m\u001b[90m<dbl>\u001b[39m\u001b[23m 70, 20, 5, 5, 1, 0, 0, 0, 50, 30, 20, 2, 1, 1, 0, 0,…\n",
            "$ Plot             \u001b[3m\u001b[90m<chr>\u001b[39m\u001b[23m \"10\", \"10\", \"10\", \"10\", \"10\", \"10\", \"10\", \"10\", \"10\"…\n"
          ],
          "name": "stdout"
        }
      ]
    },
    {
      "cell_type": "code",
      "metadata": {
        "id": "zOTwhe3dng_2"
      },
      "source": [
        "# join in date from df_meta\n",
        "df_date <- df_join %>%\n",
        "  left_join(df_meta %>% select(Plot, Date), by = c(\"Plot\" = \"Plot\")) %>%\n",
        "  mutate(date = Date) %>%\n",
        "  select(,-c(9,10))"
      ],
      "execution_count": null,
      "outputs": []
    },
    {
      "cell_type": "code",
      "metadata": {
        "id": "g2Q7OU07B4Lg",
        "outputId": "76d1916a-bece-4add-e309-0b6d025db7a0",
        "colab": {
          "base_uri": "https://localhost:8080/"
        }
      },
      "source": [
        "df_date %>% glimpse()"
      ],
      "execution_count": null,
      "outputs": [
        {
          "output_type": "stream",
          "text": [
            "Rows: 4,640\n",
            "Columns: 8\n",
            "$ grid_point       \u001b[3m\u001b[90m<int>\u001b[39m\u001b[23m 10, 10, 10, 10, 10, 10, 10, 10, 10, 10, 10, 10, 10, …\n",
            "$ plot_code        \u001b[3m\u001b[90m<chr>\u001b[39m\u001b[23m \"YVP 10\", \"YVP 10\", \"YVP 10\", \"YVP 10\", \"YVP 10\", \"Y…\n",
            "$ plot_loc         \u001b[3m\u001b[90m<chr>\u001b[39m\u001b[23m NA, NA, NA, NA, NA, NA, NA, NA, NA, NA, NA, NA, NA, …\n",
            "$ plot_rep         \u001b[3m\u001b[90m<chr>\u001b[39m\u001b[23m NA, NA, NA, NA, NA, NA, NA, NA, NA, NA, NA, NA, NA, …\n",
            "$ date             \u001b[3m\u001b[90m<date>\u001b[39m\u001b[23m 2020-06-27, 2020-06-27, 2020-06-27, 2020-06-27, 202…\n",
            "$ subplot          \u001b[3m\u001b[90m<dbl>\u001b[39m\u001b[23m 1, 1, 1, 1, 1, 1, 1, 1, 2, 2, 2, 2, 2, 2, 2, 2, 3, 3…\n",
            "$ groundcover_type \u001b[3m\u001b[90m<chr>\u001b[39m\u001b[23m \"BV\", \"L\", \"LIC\", \"M\", \"G\", \"BG\", \"R\", \"WD\", \"BV\", \"…\n",
            "$ groundcover_pct  \u001b[3m\u001b[90m<dbl>\u001b[39m\u001b[23m 70, 20, 5, 5, 1, 0, 0, 0, 50, 30, 20, 2, 1, 1, 0, 0,…\n"
          ],
          "name": "stdout"
        }
      ]
    },
    {
      "cell_type": "markdown",
      "metadata": {
        "id": "WCvWK11M97MA"
      },
      "source": [
        "### groundcover_pct"
      ]
    },
    {
      "cell_type": "code",
      "metadata": {
        "id": "o-hgOuno96Ts"
      },
      "source": [
        "# cast double data type to int\n",
        "df_date$groundcover_pct <- \n",
        "  as.integer(df_date$groundcover_pct)"
      ],
      "execution_count": null,
      "outputs": []
    },
    {
      "cell_type": "code",
      "metadata": {
        "id": "pe0f5OeI-pfm",
        "outputId": "affc2c14-3437-4c53-b1c6-09ff47d1cff7",
        "colab": {
          "base_uri": "https://localhost:8080/"
        }
      },
      "source": [
        "df_date %>% glimpse()"
      ],
      "execution_count": null,
      "outputs": [
        {
          "output_type": "stream",
          "text": [
            "Rows: 4,640\n",
            "Columns: 8\n",
            "$ grid_point       \u001b[3m\u001b[90m<int>\u001b[39m\u001b[23m 10, 10, 10, 10, 10, 10, 10, 10, 10, 10, 10, 10, 10, …\n",
            "$ plot_code        \u001b[3m\u001b[90m<chr>\u001b[39m\u001b[23m \"YVP 10\", \"YVP 10\", \"YVP 10\", \"YVP 10\", \"YVP 10\", \"Y…\n",
            "$ plot_loc         \u001b[3m\u001b[90m<chr>\u001b[39m\u001b[23m NA, NA, NA, NA, NA, NA, NA, NA, NA, NA, NA, NA, NA, …\n",
            "$ plot_rep         \u001b[3m\u001b[90m<chr>\u001b[39m\u001b[23m NA, NA, NA, NA, NA, NA, NA, NA, NA, NA, NA, NA, NA, …\n",
            "$ date             \u001b[3m\u001b[90m<date>\u001b[39m\u001b[23m 2020-06-27, 2020-06-27, 2020-06-27, 2020-06-27, 202…\n",
            "$ subplot          \u001b[3m\u001b[90m<dbl>\u001b[39m\u001b[23m 1, 1, 1, 1, 1, 1, 1, 1, 2, 2, 2, 2, 2, 2, 2, 2, 3, 3…\n",
            "$ groundcover_type \u001b[3m\u001b[90m<chr>\u001b[39m\u001b[23m \"BV\", \"L\", \"LIC\", \"M\", \"G\", \"BG\", \"R\", \"WD\", \"BV\", \"…\n",
            "$ groundcover_pct  \u001b[3m\u001b[90m<int>\u001b[39m\u001b[23m 70, 20, 5, 5, 1, 0, 0, 0, 50, 30, 20, 2, 1, 1, 0, 0,…\n"
          ],
          "name": "stdout"
        }
      ]
    },
    {
      "cell_type": "code",
      "metadata": {
        "id": "JELdzn7WP5Jj"
      },
      "source": [
        "df_output <- df_date"
      ],
      "execution_count": null,
      "outputs": []
    },
    {
      "cell_type": "markdown",
      "metadata": {
        "id": "4NybnRS-D0m9"
      },
      "source": [
        "# Summary"
      ]
    },
    {
      "cell_type": "code",
      "metadata": {
        "id": "agVU6WdesGFW",
        "outputId": "2ce62428-48d5-49cc-8040-6129607d1fe5",
        "colab": {
          "base_uri": "https://localhost:8080/",
          "height": 255
        }
      },
      "source": [
        "df_output %>% summary()"
      ],
      "execution_count": null,
      "outputs": [
        {
          "output_type": "display_data",
          "data": {
            "text/plain": [
              "   grid_point     plot_code           plot_loc           plot_rep        \n",
              " Min.   :  7.0   Length:4640        Length:4640        Length:4640       \n",
              " 1st Qu.:110.0   Class :character   Class :character   Class :character  \n",
              " Median :212.5   Mode  :character   Mode  :character   Mode  :character  \n",
              " Mean   :254.3                                                           \n",
              " 3rd Qu.:395.0                                                           \n",
              " Max.   :571.0                                                           \n",
              "      date               subplot     groundcover_type   groundcover_pct\n",
              " Min.   :2020-05-09   Min.   : 1.0   Length:4640        Min.   : 0.00  \n",
              " 1st Qu.:2020-05-22   1st Qu.: 3.0   Class :character   1st Qu.: 0.00  \n",
              " Median :2020-06-02   Median : 5.5   Mode  :character   Median : 3.00  \n",
              " Mean   :2020-06-02   Mean   : 5.5                      Mean   :12.59  \n",
              " 3rd Qu.:2020-06-17   3rd Qu.: 8.0                      3rd Qu.:20.00  \n",
              " Max.   :2020-07-01   Max.   :10.0                      Max.   :85.00  "
            ]
          },
          "metadata": {
            "tags": []
          }
        }
      ]
    },
    {
      "cell_type": "code",
      "metadata": {
        "id": "-pikktoMsLex",
        "outputId": "21d6ec36-2eb6-421c-b2fd-9e729b739be7",
        "colab": {
          "base_uri": "https://localhost:8080/",
          "height": 78
        }
      },
      "source": [
        "df_output %>% filter(is.na(plot_code) | is.na(groundcover_type))"
      ],
      "execution_count": null,
      "outputs": [
        {
          "output_type": "display_data",
          "data": {
            "text/plain": [
              "     grid_point plot_code plot_loc plot_rep date subplot groundcover_type\n",
              "     groundcover_pct"
            ],
            "text/latex": "A tibble: 0 × 8\n\\begin{tabular}{llllllll}\n grid\\_point & plot\\_code & plot\\_loc & plot\\_rep & date & subplot & groundcover\\_type & groundcover\\_pct\\\\\n <int> & <chr> & <chr> & <chr> & <date> & <dbl> & <chr> & <int>\\\\\n\\hline\n\\end{tabular}\n",
            "text/markdown": "\nA tibble: 0 × 8\n\n| grid_point &lt;int&gt; | plot_code &lt;chr&gt; | plot_loc &lt;chr&gt; | plot_rep &lt;chr&gt; | date &lt;date&gt; | subplot &lt;dbl&gt; | groundcover_type &lt;chr&gt; | groundcover_pct &lt;int&gt; |\n|---|---|---|---|---|---|---|---|\n\n",
            "text/html": [
              "<table>\n",
              "<caption>A tibble: 0 × 8</caption>\n",
              "<thead>\n",
              "\t<tr><th scope=col>grid_point</th><th scope=col>plot_code</th><th scope=col>plot_loc</th><th scope=col>plot_rep</th><th scope=col>date</th><th scope=col>subplot</th><th scope=col>groundcover_type</th><th scope=col>groundcover_pct</th></tr>\n",
              "\t<tr><th scope=col>&lt;int&gt;</th><th scope=col>&lt;chr&gt;</th><th scope=col>&lt;chr&gt;</th><th scope=col>&lt;chr&gt;</th><th scope=col>&lt;date&gt;</th><th scope=col>&lt;dbl&gt;</th><th scope=col>&lt;chr&gt;</th><th scope=col>&lt;int&gt;</th></tr>\n",
              "</thead>\n",
              "<tbody>\n",
              "</tbody>\n",
              "</table>\n"
            ]
          },
          "metadata": {
            "tags": []
          }
        }
      ]
    },
    {
      "cell_type": "markdown",
      "metadata": {
        "id": "TfUOye6Kskfx"
      },
      "source": [
        "No NA values found in numeric variables via `summary()`, and no NA values found in the character variables plot_code or groundcover_type. The other character variables, plot_loc and plot_rep, contain numerous NA values, but these are expected. "
      ]
    },
    {
      "cell_type": "markdown",
      "metadata": {
        "id": "OebX0Pe_tkVX"
      },
      "source": [
        "# Output"
      ]
    },
    {
      "cell_type": "code",
      "metadata": {
        "id": "H69YSh87pMp9"
      },
      "source": [
        "# Output \n",
        "write_csv(df_output, file = \"yvp_ground_cover-WRANGLE-2020.csv\")"
      ],
      "execution_count": null,
      "outputs": []
    }
  ]
}