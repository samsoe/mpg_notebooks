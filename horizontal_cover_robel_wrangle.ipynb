{
  "nbformat": 4,
  "nbformat_minor": 0,
  "metadata": {
    "colab": {
      "name": "horizontal_cover-robel wrangle",
      "provenance": [],
      "toc_visible": true,
      "authorship_tag": "ABX9TyOODmfpcxHxZ3Ek5J6ctWW6",
      "include_colab_link": true
    },
    "kernelspec": {
      "name": "python3",
      "display_name": "Python 3"
    }
  },
  "cells": [
    {
      "cell_type": "markdown",
      "metadata": {
        "id": "view-in-github",
        "colab_type": "text"
      },
      "source": [
        "<a href=\"https://colab.research.google.com/github/samsoe/mpg_notebooks/blob/master/horizontal_cover_robel_wrangle.ipynb\" target=\"_parent\"><img src=\"https://colab.research.google.com/assets/colab-badge.svg\" alt=\"Open In Colab\"/></a>"
      ]
    },
    {
      "cell_type": "markdown",
      "metadata": {
        "id": "Kx6Zr8K7EozC",
        "colab_type": "text"
      },
      "source": [
        "# Description"
      ]
    },
    {
      "cell_type": "markdown",
      "metadata": {
        "id": "7ejBsm2pErhr",
        "colab_type": "text"
      },
      "source": [
        "## Documentation\n",
        "* [Readme vegetation biomass](https://docs.google.com/document/d/1AF8qh7YRqEJ_5DjX0GrA3Z52RfGp2f22Jc2uLonGa2I/edit#heading=h.4py25fcybipz)"
      ]
    },
    {
      "cell_type": "markdown",
      "metadata": {
        "id": "F0B2jl1LalYK",
        "colab_type": "text"
      },
      "source": [
        "## Schema"
      ]
    },
    {
      "cell_type": "markdown",
      "metadata": {
        "id": "UOvUSv8lbCgQ",
        "colab_type": "text"
      },
      "source": [
        "* grid_point: INT\n",
        "* date: DATETIME\n",
        "* year: DATE (\"yyyy\")\n",
        "* season: STRING (\"spring\", \"fall\")\n",
        "* robel_avg: INT"
      ]
    },
    {
      "cell_type": "markdown",
      "metadata": {
        "id": "8Z9B__7ECBHy",
        "colab_type": "text"
      },
      "source": [
        "# Load Tools"
      ]
    },
    {
      "cell_type": "code",
      "metadata": {
        "id": "5F99d9LUB3m_",
        "colab_type": "code",
        "colab": {}
      },
      "source": [
        "import pandas as pd"
      ],
      "execution_count": 0,
      "outputs": []
    },
    {
      "cell_type": "markdown",
      "metadata": {
        "id": "luzjmixpB8Hv",
        "colab_type": "text"
      },
      "source": [
        "# Data Source"
      ]
    },
    {
      "cell_type": "markdown",
      "metadata": {
        "id": "MDVLLeaPuRC1",
        "colab_type": "text"
      },
      "source": [
        "## 2020"
      ]
    },
    {
      "cell_type": "code",
      "metadata": {
        "id": "7FMCLJW7uYsI",
        "colab_type": "code",
        "colab": {}
      },
      "source": [
        "# '2020-04-21_spring_biomass_data - Sheet1.csv'\n",
        "src_2020_spring = 'https://drive.google.com/uc?id=1Q1SvzROHySWxIjG7qSFYK9luwJB6RIJ0'"
      ],
      "execution_count": 0,
      "outputs": []
    },
    {
      "cell_type": "markdown",
      "metadata": {
        "id": "Ec0h2h6vFR3B",
        "colab_type": "text"
      },
      "source": [
        "## 2019"
      ]
    },
    {
      "cell_type": "code",
      "metadata": {
        "id": "j5-elVXhCHBZ",
        "colab_type": "code",
        "colab": {}
      },
      "source": [
        "# '2019 Biomass Data.xlsx'\n",
        "# url = 'https://drive.google.com/open?id=1dd5F8R-mD6l7H2morac1r9ongf80xpff'\n",
        "src_2019 = 'https://drive.google.com/uc?id=1dd5F8R-mD6l7H2morac1r9ongf80xpff'\n",
        "sheet_2019 = 'All Data - redone'"
      ],
      "execution_count": 0,
      "outputs": []
    },
    {
      "cell_type": "markdown",
      "metadata": {
        "id": "Jt639ytRFThB",
        "colab_type": "text"
      },
      "source": [
        "## 2018"
      ]
    },
    {
      "cell_type": "code",
      "metadata": {
        "id": "1wsMI8-_D8dz",
        "colab_type": "code",
        "colab": {}
      },
      "source": [
        "# 'MPG vegetation biomass 2010-1018.xlsx'\n",
        "# url = 'https://drive.google.com/open?id=1a9Kzg6DF8c4KEkCzBVFaBOjzW5zp2B0L'\n",
        "src_2018 = 'https://drive.google.com/uc?id=1a9Kzg6DF8c4KEkCzBVFaBOjzW5zp2B0L'\n",
        "sheet_2018_spring = '2018 Spring'\n",
        "sheet_2018_fall = '2018 Fall'"
      ],
      "execution_count": 0,
      "outputs": []
    },
    {
      "cell_type": "markdown",
      "metadata": {
        "id": "tpZt_wSaKsKC",
        "colab_type": "text"
      },
      "source": [
        "## 2017"
      ]
    },
    {
      "cell_type": "code",
      "metadata": {
        "id": "u5gWWWs-D8Va",
        "colab_type": "code",
        "colab": {}
      },
      "source": [
        "# 'MPG vegetation biomass 2010-1018.xlsx'\n",
        "# url = 'https://drive.google.com/open?id=1a9Kzg6DF8c4KEkCzBVFaBOjzW5zp2B0L'\n",
        "src_2017 = 'https://drive.google.com/uc?id=1a9Kzg6DF8c4KEkCzBVFaBOjzW5zp2B0L'\n",
        "sheet_2017_spring = '2017 Spring'\n",
        "sheet_2017_fall = '2017 Fall'"
      ],
      "execution_count": 0,
      "outputs": []
    },
    {
      "cell_type": "markdown",
      "metadata": {
        "id": "TKrwA_N9X8U4",
        "colab_type": "text"
      },
      "source": [
        "## 2016"
      ]
    },
    {
      "cell_type": "code",
      "metadata": {
        "id": "WpJFbRQ_X-Pi",
        "colab_type": "code",
        "colab": {}
      },
      "source": [
        "# MPGBiomass_2016_013017.xlsx\n",
        "src_2016 = 'https://drive.google.com/uc?id=1t2JdFItRJRY8PjjSGcm3FaPgB64qMLG3'\n",
        "sheet_2016_spring = 'Spring16_Pellets-Robel'\n",
        "sheet_2016_fall = 'Fall16_Pellets-Robel'"
      ],
      "execution_count": 0,
      "outputs": []
    },
    {
      "cell_type": "markdown",
      "metadata": {
        "id": "xqe3A4IU2xGM",
        "colab_type": "text"
      },
      "source": [
        "## 2011 - 2015"
      ]
    },
    {
      "cell_type": "code",
      "metadata": {
        "id": "Y4ik1Vu72_JC",
        "colab_type": "code",
        "colab": {}
      },
      "source": [
        "# 'MPGBiomass_2010-2015_MASTER_031116.xlsx'\n",
        "src_2011_2015 = 'https://drive.google.com/uc?id=1xk-TCLUmxDL0DcVe8KDBhi8ldn1S9_ni'\n",
        "sheet_2011_2015 = 'Non-RestorationPts-Avg_SPSS'"
      ],
      "execution_count": 0,
      "outputs": []
    },
    {
      "cell_type": "markdown",
      "metadata": {
        "id": "Kcv9qcPbD9SR",
        "colab_type": "text"
      },
      "source": [
        "# Wrangle Data"
      ]
    },
    {
      "cell_type": "markdown",
      "metadata": {
        "id": "32ZloidMv90I",
        "colab_type": "text"
      },
      "source": [
        "## 2020"
      ]
    },
    {
      "cell_type": "markdown",
      "metadata": {
        "id": "6MT3SU10wBiy",
        "colab_type": "text"
      },
      "source": [
        "### Spring"
      ]
    },
    {
      "cell_type": "code",
      "metadata": {
        "id": "3F2rRCOawDcr",
        "colab_type": "code",
        "colab": {}
      },
      "source": [
        "df_2020_spring = pd.read_csv(src_2020_spring)"
      ],
      "execution_count": 0,
      "outputs": []
    },
    {
      "cell_type": "code",
      "metadata": {
        "id": "1APOzsh0wPuI",
        "colab_type": "code",
        "colab": {}
      },
      "source": [
        "# subselect columns of interest\n",
        "df_2020_spring = df_2020_spring.loc[:, ['Plot', 'year', 'season', 'robel_N', 'robel_E', 'robel_S', 'robel_W']]"
      ],
      "execution_count": 0,
      "outputs": []
    },
    {
      "cell_type": "code",
      "metadata": {
        "id": "T9LhLEMgwPny",
        "colab_type": "code",
        "colab": {}
      },
      "source": [
        "# average robel columns\n",
        "df_2020_spring['robel_avg'] = df_2020_spring.loc[:, ['robel_N', 'robel_E', 'robel_S', 'robel_W']].mean(axis=1)"
      ],
      "execution_count": 0,
      "outputs": []
    },
    {
      "cell_type": "code",
      "metadata": {
        "id": "WnRnhqTKwPkp",
        "colab_type": "code",
        "colab": {}
      },
      "source": [
        "# subselect to remove columns used in generating average\n",
        "df_2020_spring = df_2020_spring.loc[:, ['Plot', 'year', 'season', 'robel_avg']]"
      ],
      "execution_count": 0,
      "outputs": []
    },
    {
      "cell_type": "code",
      "metadata": {
        "id": "1n7I8elkwPhi",
        "colab_type": "code",
        "colab": {}
      },
      "source": [
        "# rename columns to conform to schema\n",
        "df_2020_spring.columns = ['grid_point', 'year', 'season', 'robel_avg']"
      ],
      "execution_count": 0,
      "outputs": []
    },
    {
      "cell_type": "code",
      "metadata": {
        "id": "Wict2UW2wPGu",
        "colab_type": "code",
        "colab": {}
      },
      "source": [
        "# dates are not available fill with NaT\n",
        "df_2020_spring['date'] = pd.NaT"
      ],
      "execution_count": 0,
      "outputs": []
    },
    {
      "cell_type": "code",
      "metadata": {
        "id": "oMe69wgdykut",
        "colab_type": "code",
        "colab": {}
      },
      "source": [
        "# reorder columns to match schema\n",
        "df_2020_spring = df_2020_spring.loc[:, ['grid_point', 'date', 'year', 'season', 'robel_avg']]"
      ],
      "execution_count": 0,
      "outputs": []
    },
    {
      "cell_type": "code",
      "metadata": {
        "id": "YhPMeFxq1XH_",
        "colab_type": "code",
        "outputId": "071c2ae4-5928-47ef-bfb0-944d5af46676",
        "colab": {
          "base_uri": "https://localhost:8080/",
          "height": 111
        }
      },
      "source": [
        "df_2020_spring.head(2)"
      ],
      "execution_count": 108,
      "outputs": [
        {
          "output_type": "execute_result",
          "data": {
            "text/html": [
              "<div>\n",
              "<style scoped>\n",
              "    .dataframe tbody tr th:only-of-type {\n",
              "        vertical-align: middle;\n",
              "    }\n",
              "\n",
              "    .dataframe tbody tr th {\n",
              "        vertical-align: top;\n",
              "    }\n",
              "\n",
              "    .dataframe thead th {\n",
              "        text-align: right;\n",
              "    }\n",
              "</style>\n",
              "<table border=\"1\" class=\"dataframe\">\n",
              "  <thead>\n",
              "    <tr style=\"text-align: right;\">\n",
              "      <th></th>\n",
              "      <th>grid_point</th>\n",
              "      <th>date</th>\n",
              "      <th>year</th>\n",
              "      <th>season</th>\n",
              "      <th>robel_avg</th>\n",
              "    </tr>\n",
              "  </thead>\n",
              "  <tbody>\n",
              "    <tr>\n",
              "      <th>0</th>\n",
              "      <td>9</td>\n",
              "      <td>NaT</td>\n",
              "      <td>2020</td>\n",
              "      <td>spring</td>\n",
              "      <td>1.25</td>\n",
              "    </tr>\n",
              "    <tr>\n",
              "      <th>1</th>\n",
              "      <td>10</td>\n",
              "      <td>NaT</td>\n",
              "      <td>2020</td>\n",
              "      <td>spring</td>\n",
              "      <td>7.75</td>\n",
              "    </tr>\n",
              "  </tbody>\n",
              "</table>\n",
              "</div>"
            ],
            "text/plain": [
              "   grid_point date  year  season  robel_avg\n",
              "0           9  NaT  2020  spring       1.25\n",
              "1          10  NaT  2020  spring       7.75"
            ]
          },
          "metadata": {
            "tags": []
          },
          "execution_count": 108
        }
      ]
    },
    {
      "cell_type": "markdown",
      "metadata": {
        "id": "fa8sFzaGER6f",
        "colab_type": "text"
      },
      "source": [
        "## 2019"
      ]
    },
    {
      "cell_type": "code",
      "metadata": {
        "id": "XsFqLvttD-OM",
        "colab_type": "code",
        "colab": {}
      },
      "source": [
        "df_2019 = pd.read_excel(src_2019, sheet_name=sheet_2019)"
      ],
      "execution_count": 0,
      "outputs": []
    },
    {
      "cell_type": "code",
      "metadata": {
        "id": "W2JS-hOBEJBP",
        "colab_type": "code",
        "outputId": "399c902d-22fa-405f-c04c-fa4980339edd",
        "colab": {
          "base_uri": "https://localhost:8080/",
          "height": 213
        }
      },
      "source": [
        "df_2019.head(2)"
      ],
      "execution_count": 110,
      "outputs": [
        {
          "output_type": "execute_result",
          "data": {
            "text/html": [
              "<div>\n",
              "<style scoped>\n",
              "    .dataframe tbody tr th:only-of-type {\n",
              "        vertical-align: middle;\n",
              "    }\n",
              "\n",
              "    .dataframe tbody tr th {\n",
              "        vertical-align: top;\n",
              "    }\n",
              "\n",
              "    .dataframe thead th {\n",
              "        text-align: right;\n",
              "    }\n",
              "</style>\n",
              "<table border=\"1\" class=\"dataframe\">\n",
              "  <thead>\n",
              "    <tr style=\"text-align: right;\">\n",
              "      <th></th>\n",
              "      <th>Plot</th>\n",
              "      <th>Date</th>\n",
              "      <th>Robel Reading</th>\n",
              "      <th>Unnamed: 3</th>\n",
              "      <th>Unnamed: 4</th>\n",
              "      <th>Unnamed: 5</th>\n",
              "      <th>Biomass Weight (g-spring)(pennyweight for fall)</th>\n",
              "      <th>Unnamed: 7</th>\n",
              "      <th>Unnamed: 8</th>\n",
              "      <th>Deer</th>\n",
              "      <th>Elk</th>\n",
              "      <th>Horse</th>\n",
              "      <th>Biomass</th>\n",
              "      <th>Unnamed: 13</th>\n",
              "      <th>Robel</th>\n",
              "      <th>Unnamed: 15</th>\n",
              "      <th>Unnamed: 16</th>\n",
              "    </tr>\n",
              "  </thead>\n",
              "  <tbody>\n",
              "    <tr>\n",
              "      <th>0</th>\n",
              "      <td>9</td>\n",
              "      <td>2019-09-24</td>\n",
              "      <td>4.0</td>\n",
              "      <td>8.0</td>\n",
              "      <td>6.0</td>\n",
              "      <td>14.0</td>\n",
              "      <td>6.82</td>\n",
              "      <td>5.78</td>\n",
              "      <td>4.98</td>\n",
              "      <td>2.0</td>\n",
              "      <td>3.0</td>\n",
              "      <td>2.0</td>\n",
              "      <td>23.440000</td>\n",
              "      <td>36.451544</td>\n",
              "      <td>8.0</td>\n",
              "      <td>NaN</td>\n",
              "      <td>23.44</td>\n",
              "    </tr>\n",
              "    <tr>\n",
              "      <th>1</th>\n",
              "      <td>10</td>\n",
              "      <td>2019-09-24</td>\n",
              "      <td>6.0</td>\n",
              "      <td>4.0</td>\n",
              "      <td>2.0</td>\n",
              "      <td>4.0</td>\n",
              "      <td>15.95</td>\n",
              "      <td>1.36</td>\n",
              "      <td>17.30</td>\n",
              "      <td>0.0</td>\n",
              "      <td>1.0</td>\n",
              "      <td>2.0</td>\n",
              "      <td>46.146667</td>\n",
              "      <td>71.762681</td>\n",
              "      <td>4.0</td>\n",
              "      <td>NaN</td>\n",
              "      <td>93.76</td>\n",
              "    </tr>\n",
              "  </tbody>\n",
              "</table>\n",
              "</div>"
            ],
            "text/plain": [
              "   Plot       Date  Robel Reading  ...  Robel  Unnamed: 15  Unnamed: 16\n",
              "0     9 2019-09-24            4.0  ...    8.0          NaN        23.44\n",
              "1    10 2019-09-24            6.0  ...    4.0          NaN        93.76\n",
              "\n",
              "[2 rows x 17 columns]"
            ]
          },
          "metadata": {
            "tags": []
          },
          "execution_count": 110
        }
      ]
    },
    {
      "cell_type": "code",
      "metadata": {
        "id": "tYd_fKqRcDYH",
        "colab_type": "code",
        "outputId": "6e92d3a9-da9d-4d51-c924-0b7b1c7ae09f",
        "colab": {
          "base_uri": "https://localhost:8080/",
          "height": 102
        }
      },
      "source": [
        "df_2019.columns"
      ],
      "execution_count": 111,
      "outputs": [
        {
          "output_type": "execute_result",
          "data": {
            "text/plain": [
              "Index(['Plot', 'Date', 'Robel Reading', 'Unnamed: 3', 'Unnamed: 4',\n",
              "       'Unnamed: 5', '   Biomass Weight (g-spring)(pennyweight for fall) ',\n",
              "       'Unnamed: 7', 'Unnamed: 8', 'Deer', 'Elk', 'Horse', 'Biomass',\n",
              "       'Unnamed: 13', 'Robel', 'Unnamed: 15', 'Unnamed: 16'],\n",
              "      dtype='object')"
            ]
          },
          "metadata": {
            "tags": []
          },
          "execution_count": 111
        }
      ]
    },
    {
      "cell_type": "code",
      "metadata": {
        "id": "aOJeS6hzEXmQ",
        "colab_type": "code",
        "colab": {}
      },
      "source": [
        "# slice to pertinent columns\n",
        "df_2019 = df_2019.loc[:, ['Plot', 'Date', 'Robel']]"
      ],
      "execution_count": 0,
      "outputs": []
    },
    {
      "cell_type": "code",
      "metadata": {
        "id": "cRKIU9p8cQ5t",
        "colab_type": "code",
        "outputId": "766d9dd3-5f54-43bc-f32c-f8d3a3a58c52",
        "colab": {
          "base_uri": "https://localhost:8080/",
          "height": 111
        }
      },
      "source": [
        "df_2019.head(2)"
      ],
      "execution_count": 113,
      "outputs": [
        {
          "output_type": "execute_result",
          "data": {
            "text/html": [
              "<div>\n",
              "<style scoped>\n",
              "    .dataframe tbody tr th:only-of-type {\n",
              "        vertical-align: middle;\n",
              "    }\n",
              "\n",
              "    .dataframe tbody tr th {\n",
              "        vertical-align: top;\n",
              "    }\n",
              "\n",
              "    .dataframe thead th {\n",
              "        text-align: right;\n",
              "    }\n",
              "</style>\n",
              "<table border=\"1\" class=\"dataframe\">\n",
              "  <thead>\n",
              "    <tr style=\"text-align: right;\">\n",
              "      <th></th>\n",
              "      <th>Plot</th>\n",
              "      <th>Date</th>\n",
              "      <th>Robel</th>\n",
              "    </tr>\n",
              "  </thead>\n",
              "  <tbody>\n",
              "    <tr>\n",
              "      <th>0</th>\n",
              "      <td>9</td>\n",
              "      <td>2019-09-24</td>\n",
              "      <td>8.0</td>\n",
              "    </tr>\n",
              "    <tr>\n",
              "      <th>1</th>\n",
              "      <td>10</td>\n",
              "      <td>2019-09-24</td>\n",
              "      <td>4.0</td>\n",
              "    </tr>\n",
              "  </tbody>\n",
              "</table>\n",
              "</div>"
            ],
            "text/plain": [
              "   Plot       Date  Robel\n",
              "0     9 2019-09-24    8.0\n",
              "1    10 2019-09-24    4.0"
            ]
          },
          "metadata": {
            "tags": []
          },
          "execution_count": 113
        }
      ]
    },
    {
      "cell_type": "code",
      "metadata": {
        "id": "n1Gtw6MKcZbM",
        "colab_type": "code",
        "colab": {}
      },
      "source": [
        "# standarize column names\n",
        "df_2019.columns = ['grid_point', 'date', 'robel_avg']"
      ],
      "execution_count": 0,
      "outputs": []
    },
    {
      "cell_type": "code",
      "metadata": {
        "id": "53V1pWgmdFrA",
        "colab_type": "code",
        "outputId": "f1bb56c2-cfac-4554-bc48-31f999e3490f",
        "colab": {
          "base_uri": "https://localhost:8080/",
          "height": 187
        }
      },
      "source": [
        "df_2019.info()"
      ],
      "execution_count": 115,
      "outputs": [
        {
          "output_type": "stream",
          "text": [
            "<class 'pandas.core.frame.DataFrame'>\n",
            "RangeIndex: 347 entries, 0 to 346\n",
            "Data columns (total 3 columns):\n",
            " #   Column      Non-Null Count  Dtype         \n",
            "---  ------      --------------  -----         \n",
            " 0   grid_point  347 non-null    int64         \n",
            " 1   date        325 non-null    datetime64[ns]\n",
            " 2   robel_avg   319 non-null    float64       \n",
            "dtypes: datetime64[ns](1), float64(1), int64(1)\n",
            "memory usage: 8.3 KB\n"
          ],
          "name": "stdout"
        }
      ]
    },
    {
      "cell_type": "code",
      "metadata": {
        "id": "yi32kMXcdFnJ",
        "colab_type": "code",
        "outputId": "94eb2ab3-f5e5-4c4a-e223-fd10c1d32f7b",
        "colab": {
          "base_uri": "https://localhost:8080/",
          "height": 80
        }
      },
      "source": [
        "# date is missing in this row\n",
        "# the row is in the midst of a consistent stream of 9/24/2019\n",
        "df_2019.loc[(df_2019.date.isna()) & (~df_2019.robel_avg.isna())]"
      ],
      "execution_count": 116,
      "outputs": [
        {
          "output_type": "execute_result",
          "data": {
            "text/html": [
              "<div>\n",
              "<style scoped>\n",
              "    .dataframe tbody tr th:only-of-type {\n",
              "        vertical-align: middle;\n",
              "    }\n",
              "\n",
              "    .dataframe tbody tr th {\n",
              "        vertical-align: top;\n",
              "    }\n",
              "\n",
              "    .dataframe thead th {\n",
              "        text-align: right;\n",
              "    }\n",
              "</style>\n",
              "<table border=\"1\" class=\"dataframe\">\n",
              "  <thead>\n",
              "    <tr style=\"text-align: right;\">\n",
              "      <th></th>\n",
              "      <th>grid_point</th>\n",
              "      <th>date</th>\n",
              "      <th>robel_avg</th>\n",
              "    </tr>\n",
              "  </thead>\n",
              "  <tbody>\n",
              "    <tr>\n",
              "      <th>102</th>\n",
              "      <td>197</td>\n",
              "      <td>NaT</td>\n",
              "      <td>14.0</td>\n",
              "    </tr>\n",
              "  </tbody>\n",
              "</table>\n",
              "</div>"
            ],
            "text/plain": [
              "     grid_point date  robel_avg\n",
              "102         197  NaT       14.0"
            ]
          },
          "metadata": {
            "tags": []
          },
          "execution_count": 116
        }
      ]
    },
    {
      "cell_type": "code",
      "metadata": {
        "id": "YaBLBIh6frah",
        "colab_type": "code",
        "colab": {}
      },
      "source": [
        "df_2019.loc[(df_2019.date.isna()) & (~df_2019.robel_avg.isna()), 'date'] = pd.Timestamp('2019-09-24')"
      ],
      "execution_count": 0,
      "outputs": []
    },
    {
      "cell_type": "code",
      "metadata": {
        "id": "GB8BYUu-eZvY",
        "colab_type": "code",
        "outputId": "ced35443-a496-4146-c3d8-1310c8091802",
        "colab": {
          "base_uri": "https://localhost:8080/",
          "height": 85
        }
      },
      "source": [
        "df_2019.iloc[102]"
      ],
      "execution_count": 118,
      "outputs": [
        {
          "output_type": "execute_result",
          "data": {
            "text/plain": [
              "grid_point                    197\n",
              "date          2019-09-24 00:00:00\n",
              "robel_avg                      14\n",
              "Name: 102, dtype: object"
            ]
          },
          "metadata": {
            "tags": []
          },
          "execution_count": 118
        }
      ]
    },
    {
      "cell_type": "code",
      "metadata": {
        "id": "Q7BhtyBfdFgc",
        "colab_type": "code",
        "colab": {}
      },
      "source": [
        "# set seasons\n",
        "## spring\n",
        "df_2019.loc[(df_2019.date < '2019-06'), 'season'] = 'spring'\n",
        "\n",
        "## fall\n",
        "df_2019.loc[(df_2019.date > '2019-06'), 'season'] = 'fall'"
      ],
      "execution_count": 0,
      "outputs": []
    },
    {
      "cell_type": "code",
      "metadata": {
        "id": "t1z5iWKagQRS",
        "colab_type": "code",
        "colab": {}
      },
      "source": [
        "# set year\n",
        "df_2019['year'] = 2019"
      ],
      "execution_count": 0,
      "outputs": []
    },
    {
      "cell_type": "code",
      "metadata": {
        "id": "1TWRHAqwgQJ9",
        "colab_type": "code",
        "colab": {}
      },
      "source": [
        "# order columns\n",
        "df_2019 = df_2019[['grid_point', 'date', 'year', 'season', 'robel_avg']]"
      ],
      "execution_count": 0,
      "outputs": []
    },
    {
      "cell_type": "code",
      "metadata": {
        "id": "a9FxzKRgh-jL",
        "colab_type": "code",
        "outputId": "67198db8-b6e9-49de-e4d1-5c0eeefbcff3",
        "colab": {
          "base_uri": "https://localhost:8080/",
          "height": 111
        }
      },
      "source": [
        "df_2019.head(2)"
      ],
      "execution_count": 122,
      "outputs": [
        {
          "output_type": "execute_result",
          "data": {
            "text/html": [
              "<div>\n",
              "<style scoped>\n",
              "    .dataframe tbody tr th:only-of-type {\n",
              "        vertical-align: middle;\n",
              "    }\n",
              "\n",
              "    .dataframe tbody tr th {\n",
              "        vertical-align: top;\n",
              "    }\n",
              "\n",
              "    .dataframe thead th {\n",
              "        text-align: right;\n",
              "    }\n",
              "</style>\n",
              "<table border=\"1\" class=\"dataframe\">\n",
              "  <thead>\n",
              "    <tr style=\"text-align: right;\">\n",
              "      <th></th>\n",
              "      <th>grid_point</th>\n",
              "      <th>date</th>\n",
              "      <th>year</th>\n",
              "      <th>season</th>\n",
              "      <th>robel_avg</th>\n",
              "    </tr>\n",
              "  </thead>\n",
              "  <tbody>\n",
              "    <tr>\n",
              "      <th>0</th>\n",
              "      <td>9</td>\n",
              "      <td>2019-09-24</td>\n",
              "      <td>2019</td>\n",
              "      <td>fall</td>\n",
              "      <td>8.0</td>\n",
              "    </tr>\n",
              "    <tr>\n",
              "      <th>1</th>\n",
              "      <td>10</td>\n",
              "      <td>2019-09-24</td>\n",
              "      <td>2019</td>\n",
              "      <td>fall</td>\n",
              "      <td>4.0</td>\n",
              "    </tr>\n",
              "  </tbody>\n",
              "</table>\n",
              "</div>"
            ],
            "text/plain": [
              "   grid_point       date  year season  robel_avg\n",
              "0           9 2019-09-24  2019   fall        8.0\n",
              "1          10 2019-09-24  2019   fall        4.0"
            ]
          },
          "metadata": {
            "tags": []
          },
          "execution_count": 122
        }
      ]
    },
    {
      "cell_type": "markdown",
      "metadata": {
        "id": "Eh4du8ypijAQ",
        "colab_type": "text"
      },
      "source": [
        "## 2018"
      ]
    },
    {
      "cell_type": "markdown",
      "metadata": {
        "id": "UnNVd5CdkVpm",
        "colab_type": "text"
      },
      "source": [
        "### Spring"
      ]
    },
    {
      "cell_type": "code",
      "metadata": {
        "id": "yNQTYNDTiyIB",
        "colab_type": "code",
        "colab": {}
      },
      "source": [
        "df_2018_spring = pd.read_excel(src_2018, sheet_name=sheet_2018_spring, skiprows=1)"
      ],
      "execution_count": 0,
      "outputs": []
    },
    {
      "cell_type": "code",
      "metadata": {
        "id": "OY5ipC-3i_Xy",
        "colab_type": "code",
        "outputId": "49d2a466-ea57-4b05-8b8e-51ac326393d9",
        "colab": {
          "base_uri": "https://localhost:8080/",
          "height": 182
        }
      },
      "source": [
        "df_2018_spring.head(2)"
      ],
      "execution_count": 124,
      "outputs": [
        {
          "output_type": "execute_result",
          "data": {
            "text/html": [
              "<div>\n",
              "<style scoped>\n",
              "    .dataframe tbody tr th:only-of-type {\n",
              "        vertical-align: middle;\n",
              "    }\n",
              "\n",
              "    .dataframe tbody tr th {\n",
              "        vertical-align: top;\n",
              "    }\n",
              "\n",
              "    .dataframe thead th {\n",
              "        text-align: right;\n",
              "    }\n",
              "</style>\n",
              "<table border=\"1\" class=\"dataframe\">\n",
              "  <thead>\n",
              "    <tr style=\"text-align: right;\">\n",
              "      <th></th>\n",
              "      <th>Plot</th>\n",
              "      <th>Date</th>\n",
              "      <th>N</th>\n",
              "      <th>E</th>\n",
              "      <th>S</th>\n",
              "      <th>W</th>\n",
              "      <th>60</th>\n",
              "      <th>180</th>\n",
              "      <th>330</th>\n",
              "      <th>Plot.1</th>\n",
              "      <th>Species</th>\n",
              "      <th>% cover</th>\n",
              "      <th>Deer</th>\n",
              "      <th>Elk</th>\n",
              "      <th>Horse</th>\n",
              "      <th>grams</th>\n",
              "      <th>grams.1</th>\n",
              "      <th>grams.2</th>\n",
              "      <th>grams.3</th>\n",
              "      <th>grams.4</th>\n",
              "      <th>grams.5</th>\n",
              "      <th>Unnamed: 21</th>\n",
              "      <th>Unnamed: 22</th>\n",
              "      <th>Unnamed: 23</th>\n",
              "      <th>Unnamed: 24</th>\n",
              "      <th>Unnamed: 25</th>\n",
              "    </tr>\n",
              "  </thead>\n",
              "  <tbody>\n",
              "    <tr>\n",
              "      <th>0</th>\n",
              "      <td>3</td>\n",
              "      <td>2018-04-10</td>\n",
              "      <td>2.0</td>\n",
              "      <td>4.0</td>\n",
              "      <td>2.0</td>\n",
              "      <td>2.0</td>\n",
              "      <td>G</td>\n",
              "      <td>G</td>\n",
              "      <td>G</td>\n",
              "      <td>NaN</td>\n",
              "      <td>NaN</td>\n",
              "      <td>NaN</td>\n",
              "      <td>2.0</td>\n",
              "      <td>0.0</td>\n",
              "      <td>1.0</td>\n",
              "      <td>9.33</td>\n",
              "      <td>0.0</td>\n",
              "      <td>20.55</td>\n",
              "      <td>0.0</td>\n",
              "      <td>10.44</td>\n",
              "      <td>0.0</td>\n",
              "      <td>NaN</td>\n",
              "      <td>NaN</td>\n",
              "      <td>NaN</td>\n",
              "      <td>NaN</td>\n",
              "      <td></td>\n",
              "    </tr>\n",
              "    <tr>\n",
              "      <th>1</th>\n",
              "      <td>4</td>\n",
              "      <td>2018-04-10</td>\n",
              "      <td>2.0</td>\n",
              "      <td>2.0</td>\n",
              "      <td>4.0</td>\n",
              "      <td>2.0</td>\n",
              "      <td>G</td>\n",
              "      <td>G</td>\n",
              "      <td>G</td>\n",
              "      <td>NaN</td>\n",
              "      <td>NaN</td>\n",
              "      <td>NaN</td>\n",
              "      <td>2.0</td>\n",
              "      <td>6.0</td>\n",
              "      <td>0.0</td>\n",
              "      <td>2.31</td>\n",
              "      <td>0.0</td>\n",
              "      <td>3.44</td>\n",
              "      <td>0.0</td>\n",
              "      <td>12.21</td>\n",
              "      <td>0.0</td>\n",
              "      <td>NaN</td>\n",
              "      <td>NaN</td>\n",
              "      <td>NaN</td>\n",
              "      <td>NaN</td>\n",
              "      <td>NaN</td>\n",
              "    </tr>\n",
              "  </tbody>\n",
              "</table>\n",
              "</div>"
            ],
            "text/plain": [
              "   Plot       Date    N    E  ...  Unnamed: 22  Unnamed: 23 Unnamed: 24 Unnamed: 25\n",
              "0     3 2018-04-10  2.0  4.0  ...          NaN          NaN         NaN            \n",
              "1     4 2018-04-10  2.0  2.0  ...          NaN          NaN         NaN         NaN\n",
              "\n",
              "[2 rows x 26 columns]"
            ]
          },
          "metadata": {
            "tags": []
          },
          "execution_count": 124
        }
      ]
    },
    {
      "cell_type": "code",
      "metadata": {
        "id": "RFBUmlPVjY1u",
        "colab_type": "code",
        "colab": {}
      },
      "source": [
        "# keep these columns\n",
        "df_2018_spring = df_2018_spring.loc[:, ['Plot', 'Date', 'N', 'E', 'S', 'W']]"
      ],
      "execution_count": 0,
      "outputs": []
    },
    {
      "cell_type": "code",
      "metadata": {
        "id": "5pKJ7m0JkjoJ",
        "colab_type": "code",
        "outputId": "bf43758e-2e18-46e9-8411-17e72b226142",
        "colab": {
          "base_uri": "https://localhost:8080/",
          "height": 111
        }
      },
      "source": [
        "df_2018_spring.head(2)"
      ],
      "execution_count": 126,
      "outputs": [
        {
          "output_type": "execute_result",
          "data": {
            "text/html": [
              "<div>\n",
              "<style scoped>\n",
              "    .dataframe tbody tr th:only-of-type {\n",
              "        vertical-align: middle;\n",
              "    }\n",
              "\n",
              "    .dataframe tbody tr th {\n",
              "        vertical-align: top;\n",
              "    }\n",
              "\n",
              "    .dataframe thead th {\n",
              "        text-align: right;\n",
              "    }\n",
              "</style>\n",
              "<table border=\"1\" class=\"dataframe\">\n",
              "  <thead>\n",
              "    <tr style=\"text-align: right;\">\n",
              "      <th></th>\n",
              "      <th>Plot</th>\n",
              "      <th>Date</th>\n",
              "      <th>N</th>\n",
              "      <th>E</th>\n",
              "      <th>S</th>\n",
              "      <th>W</th>\n",
              "    </tr>\n",
              "  </thead>\n",
              "  <tbody>\n",
              "    <tr>\n",
              "      <th>0</th>\n",
              "      <td>3</td>\n",
              "      <td>2018-04-10</td>\n",
              "      <td>2.0</td>\n",
              "      <td>4.0</td>\n",
              "      <td>2.0</td>\n",
              "      <td>2.0</td>\n",
              "    </tr>\n",
              "    <tr>\n",
              "      <th>1</th>\n",
              "      <td>4</td>\n",
              "      <td>2018-04-10</td>\n",
              "      <td>2.0</td>\n",
              "      <td>2.0</td>\n",
              "      <td>4.0</td>\n",
              "      <td>2.0</td>\n",
              "    </tr>\n",
              "  </tbody>\n",
              "</table>\n",
              "</div>"
            ],
            "text/plain": [
              "   Plot       Date    N    E    S    W\n",
              "0     3 2018-04-10  2.0  4.0  2.0  2.0\n",
              "1     4 2018-04-10  2.0  2.0  4.0  2.0"
            ]
          },
          "metadata": {
            "tags": []
          },
          "execution_count": 126
        }
      ]
    },
    {
      "cell_type": "markdown",
      "metadata": {
        "id": "bGPWuEvSknCH",
        "colab_type": "text"
      },
      "source": [
        "### Fall"
      ]
    },
    {
      "cell_type": "code",
      "metadata": {
        "id": "DICvbjJ3kLA3",
        "colab_type": "code",
        "colab": {}
      },
      "source": [
        "df_2018_fall = pd.read_excel(src_2018, sheet_name=sheet_2018_fall, skiprows=1)"
      ],
      "execution_count": 0,
      "outputs": []
    },
    {
      "cell_type": "code",
      "metadata": {
        "id": "JSSEeJczkK5Q",
        "colab_type": "code",
        "colab": {}
      },
      "source": [
        "df_2018_fall = df_2018_fall.loc[:, ['Plot', 'Date', 'N', 'E', 'S', 'W']]"
      ],
      "execution_count": 0,
      "outputs": []
    },
    {
      "cell_type": "code",
      "metadata": {
        "id": "HeHq5BdckK2C",
        "colab_type": "code",
        "outputId": "99764fa4-cab4-4bee-c602-a497804c577c",
        "colab": {
          "base_uri": "https://localhost:8080/",
          "height": 111
        }
      },
      "source": [
        "df_2018_fall.head(2)"
      ],
      "execution_count": 129,
      "outputs": [
        {
          "output_type": "execute_result",
          "data": {
            "text/html": [
              "<div>\n",
              "<style scoped>\n",
              "    .dataframe tbody tr th:only-of-type {\n",
              "        vertical-align: middle;\n",
              "    }\n",
              "\n",
              "    .dataframe tbody tr th {\n",
              "        vertical-align: top;\n",
              "    }\n",
              "\n",
              "    .dataframe thead th {\n",
              "        text-align: right;\n",
              "    }\n",
              "</style>\n",
              "<table border=\"1\" class=\"dataframe\">\n",
              "  <thead>\n",
              "    <tr style=\"text-align: right;\">\n",
              "      <th></th>\n",
              "      <th>Plot</th>\n",
              "      <th>Date</th>\n",
              "      <th>N</th>\n",
              "      <th>E</th>\n",
              "      <th>S</th>\n",
              "      <th>W</th>\n",
              "    </tr>\n",
              "  </thead>\n",
              "  <tbody>\n",
              "    <tr>\n",
              "      <th>0</th>\n",
              "      <td>70</td>\n",
              "      <td>2018-10-15</td>\n",
              "      <td>14</td>\n",
              "      <td>7</td>\n",
              "      <td>8</td>\n",
              "      <td>3</td>\n",
              "    </tr>\n",
              "    <tr>\n",
              "      <th>1</th>\n",
              "      <td>71</td>\n",
              "      <td>2018-10-15</td>\n",
              "      <td>1</td>\n",
              "      <td>1</td>\n",
              "      <td>1</td>\n",
              "      <td>2</td>\n",
              "    </tr>\n",
              "  </tbody>\n",
              "</table>\n",
              "</div>"
            ],
            "text/plain": [
              "   Plot       Date   N  E  S  W\n",
              "0    70 2018-10-15  14  7  8  3\n",
              "1    71 2018-10-15   1  1  1  2"
            ]
          },
          "metadata": {
            "tags": []
          },
          "execution_count": 129
        }
      ]
    },
    {
      "cell_type": "markdown",
      "metadata": {
        "id": "ZjdMFRhGn4gj",
        "colab_type": "text"
      },
      "source": [
        "### Full Year"
      ]
    },
    {
      "cell_type": "code",
      "metadata": {
        "id": "LiTWVE_CkKqx",
        "colab_type": "code",
        "colab": {}
      },
      "source": [
        "df_2018 = pd.concat([df_2018_spring, df_2018_fall], ignore_index=True, sort=False)"
      ],
      "execution_count": 0,
      "outputs": []
    },
    {
      "cell_type": "code",
      "metadata": {
        "id": "_Dvivn4ToZzc",
        "colab_type": "code",
        "colab": {}
      },
      "source": [
        "# average measurement columns\n",
        "df_2018['robel_avg'] = df_2018.loc[:, ['N', 'E', 'S', 'W']].mean(axis=1)"
      ],
      "execution_count": 0,
      "outputs": []
    },
    {
      "cell_type": "code",
      "metadata": {
        "id": "h59u0MnFo42E",
        "colab_type": "code",
        "colab": {}
      },
      "source": [
        "# slice to keep pertinent columns\n",
        "df_2018 = df_2018.loc[:, ['Plot', 'Date', 'robel_avg']]"
      ],
      "execution_count": 0,
      "outputs": []
    },
    {
      "cell_type": "code",
      "metadata": {
        "id": "rnuJyG1UpP4C",
        "colab_type": "code",
        "colab": {}
      },
      "source": [
        "# standardize column names\n",
        "df_2018.columns = ['grid_point', 'date', 'robel_avg']"
      ],
      "execution_count": 0,
      "outputs": []
    },
    {
      "cell_type": "code",
      "metadata": {
        "id": "r1oG6VXSpT2C",
        "colab_type": "code",
        "colab": {}
      },
      "source": [
        "# set column 'year' value\n",
        "df_2018['year'] = 2018"
      ],
      "execution_count": 0,
      "outputs": []
    },
    {
      "cell_type": "code",
      "metadata": {
        "id": "JQTGsRWnpfZA",
        "colab_type": "code",
        "colab": {}
      },
      "source": [
        "# set column 'season'\n",
        "## spring\n",
        "df_2018.loc[(df_2018.date < '2018-06'), 'season'] = 'spring'\n",
        "\n",
        "## fall\n",
        "df_2018.loc[(df_2018.date > '2018-06'), 'season'] = 'fall'"
      ],
      "execution_count": 0,
      "outputs": []
    },
    {
      "cell_type": "code",
      "metadata": {
        "id": "UAkHnGzTqBYE",
        "colab_type": "code",
        "colab": {}
      },
      "source": [
        "# order columns\n",
        "df_2018 = df_2018[['grid_point', 'date', 'year', 'season', 'robel_avg']]"
      ],
      "execution_count": 0,
      "outputs": []
    },
    {
      "cell_type": "code",
      "metadata": {
        "id": "Mh1mMD2VqUbk",
        "colab_type": "code",
        "outputId": "c57b936d-6a3a-4b4e-d208-1730864bd0b8",
        "colab": {
          "base_uri": "https://localhost:8080/",
          "height": 111
        }
      },
      "source": [
        "df_2018.head(2)"
      ],
      "execution_count": 137,
      "outputs": [
        {
          "output_type": "execute_result",
          "data": {
            "text/html": [
              "<div>\n",
              "<style scoped>\n",
              "    .dataframe tbody tr th:only-of-type {\n",
              "        vertical-align: middle;\n",
              "    }\n",
              "\n",
              "    .dataframe tbody tr th {\n",
              "        vertical-align: top;\n",
              "    }\n",
              "\n",
              "    .dataframe thead th {\n",
              "        text-align: right;\n",
              "    }\n",
              "</style>\n",
              "<table border=\"1\" class=\"dataframe\">\n",
              "  <thead>\n",
              "    <tr style=\"text-align: right;\">\n",
              "      <th></th>\n",
              "      <th>grid_point</th>\n",
              "      <th>date</th>\n",
              "      <th>year</th>\n",
              "      <th>season</th>\n",
              "      <th>robel_avg</th>\n",
              "    </tr>\n",
              "  </thead>\n",
              "  <tbody>\n",
              "    <tr>\n",
              "      <th>0</th>\n",
              "      <td>3</td>\n",
              "      <td>2018-04-10</td>\n",
              "      <td>2018</td>\n",
              "      <td>spring</td>\n",
              "      <td>3.0</td>\n",
              "    </tr>\n",
              "    <tr>\n",
              "      <th>1</th>\n",
              "      <td>4</td>\n",
              "      <td>2018-04-10</td>\n",
              "      <td>2018</td>\n",
              "      <td>spring</td>\n",
              "      <td>2.0</td>\n",
              "    </tr>\n",
              "  </tbody>\n",
              "</table>\n",
              "</div>"
            ],
            "text/plain": [
              "   grid_point       date  year  season  robel_avg\n",
              "0           3 2018-04-10  2018  spring        3.0\n",
              "1           4 2018-04-10  2018  spring        2.0"
            ]
          },
          "metadata": {
            "tags": []
          },
          "execution_count": 137
        }
      ]
    },
    {
      "cell_type": "markdown",
      "metadata": {
        "id": "w4PwHTprqan4",
        "colab_type": "text"
      },
      "source": [
        "## 2017"
      ]
    },
    {
      "cell_type": "markdown",
      "metadata": {
        "id": "c99hLiVZqgpc",
        "colab_type": "text"
      },
      "source": [
        "### Spring"
      ]
    },
    {
      "cell_type": "code",
      "metadata": {
        "id": "tGmUoFe3qkdU",
        "colab_type": "code",
        "colab": {}
      },
      "source": [
        "df_2017_spring = pd.read_excel(src_2017, sheet_name = sheet_2017_spring, skiprows=1)"
      ],
      "execution_count": 0,
      "outputs": []
    },
    {
      "cell_type": "code",
      "metadata": {
        "id": "-fTTwX30rBLZ",
        "colab_type": "code",
        "colab": {}
      },
      "source": [
        "df_2017_spring = df_2017_spring.loc[:, ['Plot', 'Date', 'N', 'E', 'S', 'W']]"
      ],
      "execution_count": 0,
      "outputs": []
    },
    {
      "cell_type": "code",
      "metadata": {
        "id": "p6If7RFTrpZB",
        "colab_type": "code",
        "outputId": "06fe1a36-08a3-4010-8509-7ef8a889c8b9",
        "colab": {
          "base_uri": "https://localhost:8080/",
          "height": 111
        }
      },
      "source": [
        "df_2017_spring.head(2)"
      ],
      "execution_count": 140,
      "outputs": [
        {
          "output_type": "execute_result",
          "data": {
            "text/html": [
              "<div>\n",
              "<style scoped>\n",
              "    .dataframe tbody tr th:only-of-type {\n",
              "        vertical-align: middle;\n",
              "    }\n",
              "\n",
              "    .dataframe tbody tr th {\n",
              "        vertical-align: top;\n",
              "    }\n",
              "\n",
              "    .dataframe thead th {\n",
              "        text-align: right;\n",
              "    }\n",
              "</style>\n",
              "<table border=\"1\" class=\"dataframe\">\n",
              "  <thead>\n",
              "    <tr style=\"text-align: right;\">\n",
              "      <th></th>\n",
              "      <th>Plot</th>\n",
              "      <th>Date</th>\n",
              "      <th>N</th>\n",
              "      <th>E</th>\n",
              "      <th>S</th>\n",
              "      <th>W</th>\n",
              "    </tr>\n",
              "  </thead>\n",
              "  <tbody>\n",
              "    <tr>\n",
              "      <th>0</th>\n",
              "      <td>2</td>\n",
              "      <td>2017-04-05</td>\n",
              "      <td>2.0</td>\n",
              "      <td>1.0</td>\n",
              "      <td>1.0</td>\n",
              "      <td>1.0</td>\n",
              "    </tr>\n",
              "    <tr>\n",
              "      <th>1</th>\n",
              "      <td>3</td>\n",
              "      <td>2017-04-05</td>\n",
              "      <td>2.0</td>\n",
              "      <td>3.0</td>\n",
              "      <td>2.0</td>\n",
              "      <td>16.0</td>\n",
              "    </tr>\n",
              "  </tbody>\n",
              "</table>\n",
              "</div>"
            ],
            "text/plain": [
              "   Plot       Date    N    E    S     W\n",
              "0     2 2017-04-05  2.0  1.0  1.0   1.0\n",
              "1     3 2017-04-05  2.0  3.0  2.0  16.0"
            ]
          },
          "metadata": {
            "tags": []
          },
          "execution_count": 140
        }
      ]
    },
    {
      "cell_type": "markdown",
      "metadata": {
        "id": "dHt2axvzrNG7",
        "colab_type": "text"
      },
      "source": [
        "### Fall"
      ]
    },
    {
      "cell_type": "code",
      "metadata": {
        "id": "PAwyKU_KqkXW",
        "colab_type": "code",
        "colab": {}
      },
      "source": [
        "df_2017_fall = pd.read_excel(src_2017, sheet_name = sheet_2017_fall, skiprows=1)"
      ],
      "execution_count": 0,
      "outputs": []
    },
    {
      "cell_type": "code",
      "metadata": {
        "id": "4g85PDqMqkP6",
        "colab_type": "code",
        "colab": {}
      },
      "source": [
        "df_2017_fall= df_2017_fall.loc[:, ['Plot', 'Date', 'N', 'E', 'S', 'W']]"
      ],
      "execution_count": 0,
      "outputs": []
    },
    {
      "cell_type": "code",
      "metadata": {
        "id": "1uM2_ceHr6eH",
        "colab_type": "code",
        "outputId": "0798764c-2c1c-44cc-e615-dff327e17ec8",
        "colab": {
          "base_uri": "https://localhost:8080/",
          "height": 111
        }
      },
      "source": [
        "df_2017_fall.head(2)"
      ],
      "execution_count": 143,
      "outputs": [
        {
          "output_type": "execute_result",
          "data": {
            "text/html": [
              "<div>\n",
              "<style scoped>\n",
              "    .dataframe tbody tr th:only-of-type {\n",
              "        vertical-align: middle;\n",
              "    }\n",
              "\n",
              "    .dataframe tbody tr th {\n",
              "        vertical-align: top;\n",
              "    }\n",
              "\n",
              "    .dataframe thead th {\n",
              "        text-align: right;\n",
              "    }\n",
              "</style>\n",
              "<table border=\"1\" class=\"dataframe\">\n",
              "  <thead>\n",
              "    <tr style=\"text-align: right;\">\n",
              "      <th></th>\n",
              "      <th>Plot</th>\n",
              "      <th>Date</th>\n",
              "      <th>N</th>\n",
              "      <th>E</th>\n",
              "      <th>S</th>\n",
              "      <th>W</th>\n",
              "    </tr>\n",
              "  </thead>\n",
              "  <tbody>\n",
              "    <tr>\n",
              "      <th>0</th>\n",
              "      <td>3</td>\n",
              "      <td>2017-10-09</td>\n",
              "      <td>4.0</td>\n",
              "      <td>2.0</td>\n",
              "      <td>2.0</td>\n",
              "      <td>2.0</td>\n",
              "    </tr>\n",
              "    <tr>\n",
              "      <th>1</th>\n",
              "      <td>4</td>\n",
              "      <td>2017-10-09</td>\n",
              "      <td>6.0</td>\n",
              "      <td>3.0</td>\n",
              "      <td>2.0</td>\n",
              "      <td>4.0</td>\n",
              "    </tr>\n",
              "  </tbody>\n",
              "</table>\n",
              "</div>"
            ],
            "text/plain": [
              "   Plot       Date    N    E    S    W\n",
              "0     3 2017-10-09  4.0  2.0  2.0  2.0\n",
              "1     4 2017-10-09  6.0  3.0  2.0  4.0"
            ]
          },
          "metadata": {
            "tags": []
          },
          "execution_count": 143
        }
      ]
    },
    {
      "cell_type": "markdown",
      "metadata": {
        "id": "aZn4oc_Vqgfz",
        "colab_type": "text"
      },
      "source": [
        "### Full Year"
      ]
    },
    {
      "cell_type": "code",
      "metadata": {
        "id": "X_HQWHu6qlFd",
        "colab_type": "code",
        "colab": {}
      },
      "source": [
        "# combine spring and fall dataframes\n",
        "df_2017 = pd.concat([df_2017_spring, df_2017_fall], ignore_index=True, sort=False)"
      ],
      "execution_count": 0,
      "outputs": []
    },
    {
      "cell_type": "code",
      "metadata": {
        "id": "9xYmvy_Aqk_T",
        "colab_type": "code",
        "outputId": "3b051f26-5b26-4d4e-cd7c-096407c9a484",
        "colab": {
          "base_uri": "https://localhost:8080/",
          "height": 111
        }
      },
      "source": [
        "df_2017.head(2)"
      ],
      "execution_count": 145,
      "outputs": [
        {
          "output_type": "execute_result",
          "data": {
            "text/html": [
              "<div>\n",
              "<style scoped>\n",
              "    .dataframe tbody tr th:only-of-type {\n",
              "        vertical-align: middle;\n",
              "    }\n",
              "\n",
              "    .dataframe tbody tr th {\n",
              "        vertical-align: top;\n",
              "    }\n",
              "\n",
              "    .dataframe thead th {\n",
              "        text-align: right;\n",
              "    }\n",
              "</style>\n",
              "<table border=\"1\" class=\"dataframe\">\n",
              "  <thead>\n",
              "    <tr style=\"text-align: right;\">\n",
              "      <th></th>\n",
              "      <th>Plot</th>\n",
              "      <th>Date</th>\n",
              "      <th>N</th>\n",
              "      <th>E</th>\n",
              "      <th>S</th>\n",
              "      <th>W</th>\n",
              "    </tr>\n",
              "  </thead>\n",
              "  <tbody>\n",
              "    <tr>\n",
              "      <th>0</th>\n",
              "      <td>2</td>\n",
              "      <td>2017-04-05</td>\n",
              "      <td>2.0</td>\n",
              "      <td>1.0</td>\n",
              "      <td>1.0</td>\n",
              "      <td>1.0</td>\n",
              "    </tr>\n",
              "    <tr>\n",
              "      <th>1</th>\n",
              "      <td>3</td>\n",
              "      <td>2017-04-05</td>\n",
              "      <td>2.0</td>\n",
              "      <td>3.0</td>\n",
              "      <td>2.0</td>\n",
              "      <td>16.0</td>\n",
              "    </tr>\n",
              "  </tbody>\n",
              "</table>\n",
              "</div>"
            ],
            "text/plain": [
              "   Plot       Date    N    E    S     W\n",
              "0     2 2017-04-05  2.0  1.0  1.0   1.0\n",
              "1     3 2017-04-05  2.0  3.0  2.0  16.0"
            ]
          },
          "metadata": {
            "tags": []
          },
          "execution_count": 145
        }
      ]
    },
    {
      "cell_type": "code",
      "metadata": {
        "id": "LfiTSwqhqWKk",
        "colab_type": "code",
        "colab": {}
      },
      "source": [
        "# remove nulls\n",
        "df_2017 = df_2017.loc[~df_2017.Date.isnull()]"
      ],
      "execution_count": 0,
      "outputs": []
    },
    {
      "cell_type": "code",
      "metadata": {
        "id": "28Ylhdn8t544",
        "colab_type": "code",
        "colab": {}
      },
      "source": [
        "# set 'year' column\n",
        "df_2017['year'] = 2017"
      ],
      "execution_count": 0,
      "outputs": []
    },
    {
      "cell_type": "code",
      "metadata": {
        "id": "nTiFfK0Ft_8E",
        "colab_type": "code",
        "colab": {}
      },
      "source": [
        "# set 'season' column\n",
        "\n",
        "## spring\n",
        "df_2017.loc[df_2017.Date < '2017-06', 'season'] = 'spring'\n",
        "## fall\n",
        "df_2017.loc[df_2017.Date > '2017-06', 'season'] = 'fall'"
      ],
      "execution_count": 0,
      "outputs": []
    },
    {
      "cell_type": "code",
      "metadata": {
        "id": "uFhdowSGuchN",
        "colab_type": "code",
        "colab": {}
      },
      "source": [
        "# average measurement columns\n",
        "df_2017['robel_avg'] = df_2017.loc[:, ['N', 'E', 'S', 'W']].mean(axis=1)"
      ],
      "execution_count": 0,
      "outputs": []
    },
    {
      "cell_type": "code",
      "metadata": {
        "id": "de7g8vykv7gD",
        "colab_type": "code",
        "colab": {}
      },
      "source": [
        "df_2017 = df_2017[['Plot', 'Date', 'year', 'season', 'robel_avg']]"
      ],
      "execution_count": 0,
      "outputs": []
    },
    {
      "cell_type": "code",
      "metadata": {
        "id": "iHVknY25u4iN",
        "colab_type": "code",
        "colab": {}
      },
      "source": [
        "# rename columns to standard\n",
        "df_2017.columns = ['grid_point', 'date', 'year', 'season', 'robel_avg']"
      ],
      "execution_count": 0,
      "outputs": []
    },
    {
      "cell_type": "code",
      "metadata": {
        "id": "STVkAOd-vl6S",
        "colab_type": "code",
        "outputId": "d55a327c-fa98-428d-d039-86123e037baf",
        "colab": {
          "base_uri": "https://localhost:8080/",
          "height": 111
        }
      },
      "source": [
        "df_2017.head(2)"
      ],
      "execution_count": 152,
      "outputs": [
        {
          "output_type": "execute_result",
          "data": {
            "text/html": [
              "<div>\n",
              "<style scoped>\n",
              "    .dataframe tbody tr th:only-of-type {\n",
              "        vertical-align: middle;\n",
              "    }\n",
              "\n",
              "    .dataframe tbody tr th {\n",
              "        vertical-align: top;\n",
              "    }\n",
              "\n",
              "    .dataframe thead th {\n",
              "        text-align: right;\n",
              "    }\n",
              "</style>\n",
              "<table border=\"1\" class=\"dataframe\">\n",
              "  <thead>\n",
              "    <tr style=\"text-align: right;\">\n",
              "      <th></th>\n",
              "      <th>grid_point</th>\n",
              "      <th>date</th>\n",
              "      <th>year</th>\n",
              "      <th>season</th>\n",
              "      <th>robel_avg</th>\n",
              "    </tr>\n",
              "  </thead>\n",
              "  <tbody>\n",
              "    <tr>\n",
              "      <th>0</th>\n",
              "      <td>2</td>\n",
              "      <td>2017-04-05</td>\n",
              "      <td>2017</td>\n",
              "      <td>spring</td>\n",
              "      <td>1.25</td>\n",
              "    </tr>\n",
              "    <tr>\n",
              "      <th>1</th>\n",
              "      <td>3</td>\n",
              "      <td>2017-04-05</td>\n",
              "      <td>2017</td>\n",
              "      <td>spring</td>\n",
              "      <td>5.75</td>\n",
              "    </tr>\n",
              "  </tbody>\n",
              "</table>\n",
              "</div>"
            ],
            "text/plain": [
              "   grid_point       date  year  season  robel_avg\n",
              "0           2 2017-04-05  2017  spring       1.25\n",
              "1           3 2017-04-05  2017  spring       5.75"
            ]
          },
          "metadata": {
            "tags": []
          },
          "execution_count": 152
        }
      ]
    },
    {
      "cell_type": "markdown",
      "metadata": {
        "id": "ypl3EtG7YlVr",
        "colab_type": "text"
      },
      "source": [
        "## 2016"
      ]
    },
    {
      "cell_type": "markdown",
      "metadata": {
        "id": "7-djTfCIYpZW",
        "colab_type": "text"
      },
      "source": [
        "### Spring"
      ]
    },
    {
      "cell_type": "code",
      "metadata": {
        "id": "yb6HZEACYquL",
        "colab_type": "code",
        "colab": {}
      },
      "source": [
        "# load source into DataFrame\n",
        "df_2016_spring = pd.read_excel(src_2016, sheet_name=sheet_2016_spring)"
      ],
      "execution_count": 0,
      "outputs": []
    },
    {
      "cell_type": "code",
      "metadata": {
        "id": "T1NPUM7iYrjo",
        "colab_type": "code",
        "colab": {}
      },
      "source": [
        "# remove null point values\n",
        "df_2016_spring = df_2016_spring[df_2016_spring.Point.notnull()]"
      ],
      "execution_count": 0,
      "outputs": []
    },
    {
      "cell_type": "code",
      "metadata": {
        "id": "4xRlmSwpYrgP",
        "colab_type": "code",
        "colab": {}
      },
      "source": [
        "# select for Robel values\n",
        "df_2016_spring = df_2016_spring.loc[:, ['Point', 'AvgRobel']]"
      ],
      "execution_count": 0,
      "outputs": []
    },
    {
      "cell_type": "code",
      "metadata": {
        "id": "twg9K8zIYrc6",
        "colab_type": "code",
        "colab": {}
      },
      "source": [
        "# rename columns\n",
        "df_2016_spring.columns = ['grid_point', 'robel_avg']"
      ],
      "execution_count": 0,
      "outputs": []
    },
    {
      "cell_type": "code",
      "metadata": {
        "id": "OyyS5qSGYrZR",
        "colab_type": "code",
        "colab": {}
      },
      "source": [
        "# set value for date\n",
        "df_2016_spring['date'] = pd.NaT\n",
        "\n",
        "# set value for season\n",
        "df_2016_spring['season'] = 'spring'\n",
        "\n",
        "# set value for year\n",
        "df_2016_spring['year'] = 2016"
      ],
      "execution_count": 0,
      "outputs": []
    },
    {
      "cell_type": "code",
      "metadata": {
        "id": "7UZA1QcQYrVv",
        "colab_type": "code",
        "colab": {}
      },
      "source": [
        "# reorder columns\n",
        "df_2016_spring = df_2016_spring.loc[:, ['grid_point', 'date', 'year', 'season', 'robel_avg']]"
      ],
      "execution_count": 0,
      "outputs": []
    },
    {
      "cell_type": "code",
      "metadata": {
        "id": "4RAbOSJ1YrS7",
        "colab_type": "code",
        "colab": {}
      },
      "source": [
        "# coerce grid_point datatype from float to int\n",
        "df_2016_spring = df_2016_spring.astype({'grid_point': 'int32'})"
      ],
      "execution_count": 0,
      "outputs": []
    },
    {
      "cell_type": "code",
      "metadata": {
        "id": "IfMyqQ3BYrO_",
        "colab_type": "code",
        "outputId": "2b0e7c02-8fa7-45d7-9dea-2a7cb45ffeb2",
        "colab": {
          "base_uri": "https://localhost:8080/",
          "height": 221
        }
      },
      "source": [
        "df_2016_spring.info()"
      ],
      "execution_count": 160,
      "outputs": [
        {
          "output_type": "stream",
          "text": [
            "<class 'pandas.core.frame.DataFrame'>\n",
            "Int64Index: 134 entries, 0 to 299\n",
            "Data columns (total 5 columns):\n",
            " #   Column      Non-Null Count  Dtype         \n",
            "---  ------      --------------  -----         \n",
            " 0   grid_point  134 non-null    int32         \n",
            " 1   date        0 non-null      datetime64[ns]\n",
            " 2   year        134 non-null    int64         \n",
            " 3   season      134 non-null    object        \n",
            " 4   robel_avg   134 non-null    float64       \n",
            "dtypes: datetime64[ns](1), float64(1), int32(1), int64(1), object(1)\n",
            "memory usage: 5.8+ KB\n"
          ],
          "name": "stdout"
        }
      ]
    },
    {
      "cell_type": "markdown",
      "metadata": {
        "id": "J1hMBcs2YsWb",
        "colab_type": "text"
      },
      "source": [
        "### Fall"
      ]
    },
    {
      "cell_type": "code",
      "metadata": {
        "id": "hveNY6HKYuEW",
        "colab_type": "code",
        "colab": {}
      },
      "source": [
        "# load source into DataFrame\n",
        "df_2016_fall = pd.read_excel(src_2016, sheet_2016_fall)"
      ],
      "execution_count": 0,
      "outputs": []
    },
    {
      "cell_type": "code",
      "metadata": {
        "id": "Sa8jBEzEYurt",
        "colab_type": "code",
        "colab": {}
      },
      "source": [
        "# remove NA Point rows\n",
        "df_2016_fall = df_2016_fall[df_2016_fall.Point.notnull()]"
      ],
      "execution_count": 0,
      "outputs": []
    },
    {
      "cell_type": "code",
      "metadata": {
        "id": "Ta2TyVhzYugs",
        "colab_type": "code",
        "colab": {}
      },
      "source": [
        "# select robel values drop the rest\n",
        "df_2016_fall = df_2016_fall.loc[:, ['Point', 'AvgRobel']]"
      ],
      "execution_count": 0,
      "outputs": []
    },
    {
      "cell_type": "code",
      "metadata": {
        "id": "YhdOcsSieXGA",
        "colab_type": "code",
        "colab": {}
      },
      "source": [
        "# coerce 'Point' column from float to int datatype\n",
        "df_2016_fall = df_2016_fall.astype({'Point': 'int32'})"
      ],
      "execution_count": 0,
      "outputs": []
    },
    {
      "cell_type": "code",
      "metadata": {
        "id": "QYYyH_aYen41",
        "colab_type": "code",
        "colab": {}
      },
      "source": [
        "# rename columns\n",
        "df_2016_fall.columns = ['grid_point', 'robel_avg']"
      ],
      "execution_count": 0,
      "outputs": []
    },
    {
      "cell_type": "code",
      "metadata": {
        "id": "bq0hcq2Fen1x",
        "colab_type": "code",
        "colab": {}
      },
      "source": [
        "# set value for date\n",
        "df_2016_fall['date'] = pd.NaT\n",
        "\n",
        "# set value for season\n",
        "df_2016_fall['season'] = 'fall'\n",
        "\n",
        "# set value for year\n",
        "df_2016_fall['year'] = 2016"
      ],
      "execution_count": 0,
      "outputs": []
    },
    {
      "cell_type": "code",
      "metadata": {
        "id": "HZlKAL7zeny1",
        "colab_type": "code",
        "colab": {}
      },
      "source": [
        "# reorder columns to match schema\n",
        "df_2016_fall = df_2016_fall.loc[:, ['grid_point', 'date', 'year', 'season', 'robel_avg']]"
      ],
      "execution_count": 0,
      "outputs": []
    },
    {
      "cell_type": "code",
      "metadata": {
        "id": "GQQ73-Eqenv7",
        "colab_type": "code",
        "outputId": "3459d38d-4c72-451f-e19c-22ea32f22f3d",
        "colab": {
          "base_uri": "https://localhost:8080/",
          "height": 221
        }
      },
      "source": [
        "df_2016_fall.info()"
      ],
      "execution_count": 168,
      "outputs": [
        {
          "output_type": "stream",
          "text": [
            "<class 'pandas.core.frame.DataFrame'>\n",
            "Int64Index: 133 entries, 0 to 299\n",
            "Data columns (total 5 columns):\n",
            " #   Column      Non-Null Count  Dtype         \n",
            "---  ------      --------------  -----         \n",
            " 0   grid_point  133 non-null    int32         \n",
            " 1   date        0 non-null      datetime64[ns]\n",
            " 2   year        133 non-null    int64         \n",
            " 3   season      133 non-null    object        \n",
            " 4   robel_avg   133 non-null    float64       \n",
            "dtypes: datetime64[ns](1), float64(1), int32(1), int64(1), object(1)\n",
            "memory usage: 5.7+ KB\n"
          ],
          "name": "stdout"
        }
      ]
    },
    {
      "cell_type": "markdown",
      "metadata": {
        "id": "z-0WQdxGfXjD",
        "colab_type": "text"
      },
      "source": [
        "### Full Year"
      ]
    },
    {
      "cell_type": "code",
      "metadata": {
        "id": "shFbG9NffXKa",
        "colab_type": "code",
        "colab": {}
      },
      "source": [
        "df_2016 = pd.concat([df_2016_spring, df_2016_fall], ignore_index=True, sort=False)"
      ],
      "execution_count": 0,
      "outputs": []
    },
    {
      "cell_type": "code",
      "metadata": {
        "id": "xqhN5qjqfpIW",
        "colab_type": "code",
        "outputId": "eb8c9d80-77f1-45aa-9a1c-1c7c23542a8c",
        "colab": {
          "base_uri": "https://localhost:8080/",
          "height": 221
        }
      },
      "source": [
        "df_2016.info()"
      ],
      "execution_count": 170,
      "outputs": [
        {
          "output_type": "stream",
          "text": [
            "<class 'pandas.core.frame.DataFrame'>\n",
            "RangeIndex: 267 entries, 0 to 266\n",
            "Data columns (total 5 columns):\n",
            " #   Column      Non-Null Count  Dtype         \n",
            "---  ------      --------------  -----         \n",
            " 0   grid_point  267 non-null    int32         \n",
            " 1   date        0 non-null      datetime64[ns]\n",
            " 2   year        267 non-null    int64         \n",
            " 3   season      267 non-null    object        \n",
            " 4   robel_avg   267 non-null    float64       \n",
            "dtypes: datetime64[ns](1), float64(1), int32(1), int64(1), object(1)\n",
            "memory usage: 9.5+ KB\n"
          ],
          "name": "stdout"
        }
      ]
    },
    {
      "cell_type": "markdown",
      "metadata": {
        "id": "9z4x8SQS2XyD",
        "colab_type": "text"
      },
      "source": [
        "## 2011 - 2015"
      ]
    },
    {
      "cell_type": "code",
      "metadata": {
        "id": "I7YaMGXp2pWn",
        "colab_type": "code",
        "colab": {}
      },
      "source": [
        "# load 2011-2015 robel data into DataFrame\n",
        "df_2011_2015 = pd.read_excel(src_2011_2015, sheet_name=sheet_2011_2015)"
      ],
      "execution_count": 0,
      "outputs": []
    },
    {
      "cell_type": "code",
      "metadata": {
        "id": "FNTw_3GE2pTF",
        "colab_type": "code",
        "colab": {}
      },
      "source": [
        "# subselect to robel\n",
        "df_2011_2015 = df_2011_2015.loc[:, ['GridPt', 'Season', 'Year', 'Robel']]"
      ],
      "execution_count": 0,
      "outputs": []
    },
    {
      "cell_type": "code",
      "metadata": {
        "id": "HcsqQpvq2pQX",
        "colab_type": "code",
        "colab": {}
      },
      "source": [
        "# 2010 does not contain any robel data remove it\n",
        "df_2011_2015 = df_2011_2015[(df_2011_2015.Year > 2010)]"
      ],
      "execution_count": 0,
      "outputs": []
    },
    {
      "cell_type": "code",
      "metadata": {
        "id": "NaiSxD1W2pNI",
        "colab_type": "code",
        "colab": {}
      },
      "source": [
        "# subselect to rows with Robel data\n",
        "df_2011_2015 = df_2011_2015[df_2011_2015.Robel.notnull()]"
      ],
      "execution_count": 0,
      "outputs": []
    },
    {
      "cell_type": "code",
      "metadata": {
        "id": "fxDkxzjP2pKI",
        "colab_type": "code",
        "outputId": "ee77afce-2170-44bf-e4df-714894d03160",
        "colab": {
          "base_uri": "https://localhost:8080/",
          "height": 111
        }
      },
      "source": [
        "df_2011_2015.head(2)"
      ],
      "execution_count": 175,
      "outputs": [
        {
          "output_type": "execute_result",
          "data": {
            "text/html": [
              "<div>\n",
              "<style scoped>\n",
              "    .dataframe tbody tr th:only-of-type {\n",
              "        vertical-align: middle;\n",
              "    }\n",
              "\n",
              "    .dataframe tbody tr th {\n",
              "        vertical-align: top;\n",
              "    }\n",
              "\n",
              "    .dataframe thead th {\n",
              "        text-align: right;\n",
              "    }\n",
              "</style>\n",
              "<table border=\"1\" class=\"dataframe\">\n",
              "  <thead>\n",
              "    <tr style=\"text-align: right;\">\n",
              "      <th></th>\n",
              "      <th>GridPt</th>\n",
              "      <th>Season</th>\n",
              "      <th>Year</th>\n",
              "      <th>Robel</th>\n",
              "    </tr>\n",
              "  </thead>\n",
              "  <tbody>\n",
              "    <tr>\n",
              "      <th>218</th>\n",
              "      <td>2</td>\n",
              "      <td>Fall</td>\n",
              "      <td>2011</td>\n",
              "      <td>0.000000</td>\n",
              "    </tr>\n",
              "    <tr>\n",
              "      <th>219</th>\n",
              "      <td>3</td>\n",
              "      <td>Fall</td>\n",
              "      <td>2011</td>\n",
              "      <td>3.333333</td>\n",
              "    </tr>\n",
              "  </tbody>\n",
              "</table>\n",
              "</div>"
            ],
            "text/plain": [
              "     GridPt Season  Year     Robel\n",
              "218       2   Fall  2011  0.000000\n",
              "219       3   Fall  2011  3.333333"
            ]
          },
          "metadata": {
            "tags": []
          },
          "execution_count": 175
        }
      ]
    },
    {
      "cell_type": "code",
      "metadata": {
        "id": "A0UY53tq2pHB",
        "colab_type": "code",
        "colab": {}
      },
      "source": [
        "# 'grid_point', 'date', 'year', 'season', 'robel_avg'\n",
        "df_2011_2015.columns = ['grid_point', 'season', 'year', 'robel_avg']"
      ],
      "execution_count": 0,
      "outputs": []
    },
    {
      "cell_type": "code",
      "metadata": {
        "id": "VAhRYukv2pCF",
        "colab_type": "code",
        "colab": {}
      },
      "source": [
        "# add date column with NaT\n",
        "df_2011_2015['date'] = pd.NaT"
      ],
      "execution_count": 0,
      "outputs": []
    },
    {
      "cell_type": "code",
      "metadata": {
        "id": "sFJBeGFA2o47",
        "colab_type": "code",
        "colab": {}
      },
      "source": [
        "# update capitalization on season strings\n",
        "df_2011_2015.loc[(df_2011_2015.season == 'Fall'), 'season'] = 'fall'\n",
        "df_2011_2015.loc[(df_2011_2015.season == 'Spring'), 'season'] = 'spring'"
      ],
      "execution_count": 0,
      "outputs": []
    },
    {
      "cell_type": "code",
      "metadata": {
        "id": "doGzbQ86CNQB",
        "colab_type": "code",
        "colab": {}
      },
      "source": [
        "# reorder columns to match schema\n",
        "df_2011_2015 = df_2011_2015.loc[:, ['grid_point', 'date', 'year', 'season', 'robel_avg']]"
      ],
      "execution_count": 0,
      "outputs": []
    },
    {
      "cell_type": "code",
      "metadata": {
        "id": "IT36AGjnDRR6",
        "colab_type": "code",
        "outputId": "49099301-b7c3-4285-cef5-1444237b7962",
        "colab": {
          "base_uri": "https://localhost:8080/",
          "height": 221
        }
      },
      "source": [
        "df_2011_2015.info()"
      ],
      "execution_count": 180,
      "outputs": [
        {
          "output_type": "stream",
          "text": [
            "<class 'pandas.core.frame.DataFrame'>\n",
            "Int64Index: 584 entries, 218 to 2397\n",
            "Data columns (total 5 columns):\n",
            " #   Column      Non-Null Count  Dtype         \n",
            "---  ------      --------------  -----         \n",
            " 0   grid_point  584 non-null    int64         \n",
            " 1   date        0 non-null      datetime64[ns]\n",
            " 2   year        584 non-null    int64         \n",
            " 3   season      584 non-null    object        \n",
            " 4   robel_avg   584 non-null    float64       \n",
            "dtypes: datetime64[ns](1), float64(1), int64(2), object(1)\n",
            "memory usage: 27.4+ KB\n"
          ],
          "name": "stdout"
        }
      ]
    },
    {
      "cell_type": "markdown",
      "metadata": {
        "id": "N2GPzKPvwpCW",
        "colab_type": "text"
      },
      "source": [
        "# Concatenate all Years"
      ]
    },
    {
      "cell_type": "code",
      "metadata": {
        "id": "CRH2Y_xEwlQB",
        "colab_type": "code",
        "colab": {}
      },
      "source": [
        "df_2011_2020 = pd.concat([df_2020_spring, df_2019, df_2018, df_2017, df_2016, df_2011_2015], ignore_index=True, sort=False)"
      ],
      "execution_count": 0,
      "outputs": []
    },
    {
      "cell_type": "code",
      "metadata": {
        "id": "RORkbt-Xf7qC",
        "colab_type": "code",
        "outputId": "25615c7f-152a-4eab-c94b-275bb68c8277",
        "colab": {
          "base_uri": "https://localhost:8080/",
          "height": 34
        }
      },
      "source": [
        "df_2011_2020.year.unique()"
      ],
      "execution_count": 186,
      "outputs": [
        {
          "output_type": "execute_result",
          "data": {
            "text/plain": [
              "array([2020, 2019, 2018, 2017, 2016, 2011, 2012, 2013, 2014, 2015])"
            ]
          },
          "metadata": {
            "tags": []
          },
          "execution_count": 186
        }
      ]
    },
    {
      "cell_type": "code",
      "metadata": {
        "id": "ShANuZJDw66O",
        "colab_type": "code",
        "outputId": "c4cb5cda-bebf-4c76-ef27-1efd23687172",
        "colab": {
          "base_uri": "https://localhost:8080/",
          "height": 221
        }
      },
      "source": [
        "df_2011_2020.info()"
      ],
      "execution_count": 187,
      "outputs": [
        {
          "output_type": "stream",
          "text": [
            "<class 'pandas.core.frame.DataFrame'>\n",
            "RangeIndex: 1768 entries, 0 to 1767\n",
            "Data columns (total 5 columns):\n",
            " #   Column      Non-Null Count  Dtype         \n",
            "---  ------      --------------  -----         \n",
            " 0   grid_point  1768 non-null   int64         \n",
            " 1   date        733 non-null    datetime64[ns]\n",
            " 2   year        1768 non-null   int64         \n",
            " 3   season      1746 non-null   object        \n",
            " 4   robel_avg   1738 non-null   float64       \n",
            "dtypes: datetime64[ns](1), float64(1), int64(2), object(1)\n",
            "memory usage: 69.2+ KB\n"
          ],
          "name": "stdout"
        }
      ]
    },
    {
      "cell_type": "code",
      "metadata": {
        "id": "PyP34qMcw_br",
        "colab_type": "code",
        "colab": {}
      },
      "source": [
        "# remove rows with null 'robel_avg'\n",
        "df_2011_2020 = df_2011_2020.loc[df_2011_2020['robel_avg'].notnull()]"
      ],
      "execution_count": 0,
      "outputs": []
    },
    {
      "cell_type": "code",
      "metadata": {
        "id": "kT9h-M7Uxf3s",
        "colab_type": "code",
        "outputId": "7e43f50f-f11d-408b-9d50-bb8889074613",
        "colab": {
          "base_uri": "https://localhost:8080/",
          "height": 221
        }
      },
      "source": [
        "df_2011_2020.info()"
      ],
      "execution_count": 189,
      "outputs": [
        {
          "output_type": "stream",
          "text": [
            "<class 'pandas.core.frame.DataFrame'>\n",
            "Int64Index: 1738 entries, 0 to 1767\n",
            "Data columns (total 5 columns):\n",
            " #   Column      Non-Null Count  Dtype         \n",
            "---  ------      --------------  -----         \n",
            " 0   grid_point  1738 non-null   int64         \n",
            " 1   date        725 non-null    datetime64[ns]\n",
            " 2   year        1738 non-null   int64         \n",
            " 3   season      1738 non-null   object        \n",
            " 4   robel_avg   1738 non-null   float64       \n",
            "dtypes: datetime64[ns](1), float64(1), int64(2), object(1)\n",
            "memory usage: 81.5+ KB\n"
          ],
          "name": "stdout"
        }
      ]
    },
    {
      "cell_type": "markdown",
      "metadata": {
        "id": "kMWH-9tCwsXW",
        "colab_type": "text"
      },
      "source": [
        "# Push to BigQuery"
      ]
    },
    {
      "cell_type": "code",
      "metadata": {
        "id": "pmJJaPSLwtpb",
        "colab_type": "code",
        "outputId": "7cea808e-5b96-4578-cb8d-3fa11c76f6fc",
        "colab": {
          "base_uri": "https://localhost:8080/",
          "height": 34
        }
      },
      "source": [
        "df_2011_2020.to_gbq('vegetation_biomass.horizontal_cover_robel', 'mpg-data-warehouse', if_exists='replace')"
      ],
      "execution_count": 190,
      "outputs": [
        {
          "output_type": "stream",
          "text": [
            "1it [00:21, 21.29s/it]\n"
          ],
          "name": "stderr"
        }
      ]
    }
  ]
}