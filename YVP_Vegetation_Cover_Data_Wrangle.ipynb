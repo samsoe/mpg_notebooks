{
  "nbformat": 4,
  "nbformat_minor": 0,
  "metadata": {
    "colab": {
      "name": "YVP - Vegetation Cover Data - Wrangle.ipynb",
      "provenance": [],
      "collapsed_sections": [],
      "toc_visible": true,
      "authorship_tag": "ABX9TyOPGYAhvakcK4cyY7B3T105",
      "include_colab_link": true
    },
    "kernelspec": {
      "name": "ir",
      "display_name": "R"
    }
  },
  "cells": [
    {
      "cell_type": "markdown",
      "metadata": {
        "id": "view-in-github",
        "colab_type": "text"
      },
      "source": [
        "<a href=\"https://colab.research.google.com/github/samsoe/mpg_notebooks/blob/master/YVP_Vegetation_Cover_Data_Wrangle.ipynb\" target=\"_parent\"><img src=\"https://colab.research.google.com/assets/colab-badge.svg\" alt=\"Open In Colab\"/></a>"
      ]
    },
    {
      "cell_type": "markdown",
      "metadata": {
        "id": "sLoATLEdI-hh",
        "colab_type": "text"
      },
      "source": [
        "*R Notebook*"
      ]
    },
    {
      "cell_type": "markdown",
      "metadata": {
        "id": "YZbGHbTzJQrV",
        "colab_type": "text"
      },
      "source": [
        "# README"
      ]
    },
    {
      "cell_type": "markdown",
      "metadata": {
        "id": "G095KjDNJS6E",
        "colab_type": "text"
      },
      "source": [
        "* [Readme fixed grid plot vegetation data](https://docs.google.com/document/d/16-Aq8u9Rudd78fSzfjvpCXyQgE-BstC-d2PjYfmLtcw/edit?usp=sharing)"
      ]
    },
    {
      "cell_type": "markdown",
      "metadata": {
        "id": "DTleZaOpPUo-",
        "colab_type": "text"
      },
      "source": [
        "# Load Tools"
      ]
    },
    {
      "cell_type": "code",
      "metadata": {
        "id": "nQA2WSBCPXuD",
        "colab_type": "code",
        "colab": {}
      },
      "source": [
        "library(tidyverse)"
      ],
      "execution_count": 0,
      "outputs": []
    },
    {
      "cell_type": "markdown",
      "metadata": {
        "id": "RKBdNw56BzwD",
        "colab_type": "text"
      },
      "source": [
        "# Source"
      ]
    },
    {
      "cell_type": "code",
      "metadata": {
        "id": "X9t3Ks1oB3gG",
        "colab_type": "code",
        "colab": {}
      },
      "source": [
        "# 2020-04-28_yvp_vegetation_cover\n",
        "src = 'https://drive.google.com/uc?id=1pemnlKIlfAQw2JSMN7yDlYMG5QhUW-NP'"
      ],
      "execution_count": 0,
      "outputs": []
    },
    {
      "cell_type": "code",
      "metadata": {
        "id": "fvU8xi8iB4SI",
        "colab_type": "code",
        "colab": {}
      },
      "source": [
        "df <- read.csv(file = src)"
      ],
      "execution_count": 0,
      "outputs": []
    },
    {
      "cell_type": "code",
      "metadata": {
        "id": "YDY7IDdmB4PN",
        "colab_type": "code",
        "outputId": "6fd69708-b104-45c2-96d7-947bd9dcc86a",
        "colab": {
          "base_uri": "https://localhost:8080/",
          "height": 120
        }
      },
      "source": [
        "head(df, n=2)"
      ],
      "execution_count": 368,
      "outputs": [
        {
          "output_type": "display_data",
          "data": {
            "text/plain": [
              "  plot_code date       subplot species_code cover_pct\n",
              "1 YVP 10    2017-06-09 1       BOESPP       1        \n",
              "2 YVP 10    2017-06-09 1       CREINT       1        "
            ],
            "text/latex": "A data.frame: 2 × 5\n\\begin{tabular}{r|lllll}\n  & plot\\_code & date & subplot & species\\_code & cover\\_pct\\\\\n  & <fct> & <fct> & <int> & <fct> & <int>\\\\\n\\hline\n\t1 & YVP 10 & 2017-06-09 & 1 & BOESPP & 1\\\\\n\t2 & YVP 10 & 2017-06-09 & 1 & CREINT & 1\\\\\n\\end{tabular}\n",
            "text/markdown": "\nA data.frame: 2 × 5\n\n| <!--/--> | plot_code &lt;fct&gt; | date &lt;fct&gt; | subplot &lt;int&gt; | species_code &lt;fct&gt; | cover_pct &lt;int&gt; |\n|---|---|---|---|---|---|\n| 1 | YVP 10 | 2017-06-09 | 1 | BOESPP | 1 |\n| 2 | YVP 10 | 2017-06-09 | 1 | CREINT | 1 |\n\n",
            "text/html": [
              "<table>\n",
              "<caption>A data.frame: 2 × 5</caption>\n",
              "<thead>\n",
              "\t<tr><th></th><th scope=col>plot_code</th><th scope=col>date</th><th scope=col>subplot</th><th scope=col>species_code</th><th scope=col>cover_pct</th></tr>\n",
              "\t<tr><th></th><th scope=col>&lt;fct&gt;</th><th scope=col>&lt;fct&gt;</th><th scope=col>&lt;int&gt;</th><th scope=col>&lt;fct&gt;</th><th scope=col>&lt;int&gt;</th></tr>\n",
              "</thead>\n",
              "<tbody>\n",
              "\t<tr><th scope=row>1</th><td>YVP 10</td><td>2017-06-09</td><td>1</td><td>BOESPP</td><td>1</td></tr>\n",
              "\t<tr><th scope=row>2</th><td>YVP 10</td><td>2017-06-09</td><td>1</td><td>CREINT</td><td>1</td></tr>\n",
              "</tbody>\n",
              "</table>\n"
            ]
          },
          "metadata": {
            "tags": []
          }
        }
      ]
    },
    {
      "cell_type": "markdown",
      "metadata": {
        "id": "hH-_99bsKRVn",
        "colab_type": "text"
      },
      "source": [
        "# Wrangle"
      ]
    },
    {
      "cell_type": "markdown",
      "metadata": {
        "id": "P_3Rq2-4OVsJ",
        "colab_type": "text"
      },
      "source": [
        "## Structure columns"
      ]
    },
    {
      "cell_type": "markdown",
      "metadata": {
        "id": "801b78aYKc5B",
        "colab_type": "text"
      },
      "source": [
        "### plot_code"
      ]
    },
    {
      "cell_type": "code",
      "metadata": {
        "id": "ky8xiSEzKSCb",
        "colab_type": "code",
        "colab": {}
      },
      "source": [
        "# convert to string\n",
        "df$plot_code <- as.character(df$plot_code)"
      ],
      "execution_count": 0,
      "outputs": []
    },
    {
      "cell_type": "markdown",
      "metadata": {
        "id": "L2yzHLKuP4oz",
        "colab_type": "text"
      },
      "source": [
        "### plot_ loc"
      ]
    },
    {
      "cell_type": "code",
      "metadata": {
        "id": "x42pThVsQeuS",
        "colab_type": "code",
        "colab": {}
      },
      "source": [
        "# detect \"N\" in 'plot_code' and write to new column 'plot_loc'\n",
        "df <- df %>%\n",
        "  mutate(plot_loc = ifelse(str_detect(plot_code, \"N\"), \"N\", NA))"
      ],
      "execution_count": 0,
      "outputs": []
    },
    {
      "cell_type": "code",
      "metadata": {
        "id": "yihV0YgNVpEt",
        "colab_type": "code",
        "colab": {}
      },
      "source": [
        "# reorder columns\n",
        "df <- df[,c(1,6,2,3,4,5)]"
      ],
      "execution_count": 0,
      "outputs": []
    },
    {
      "cell_type": "markdown",
      "metadata": {
        "id": "0FWBUqUqWSNm",
        "colab_type": "text"
      },
      "source": [
        "### plot_rep"
      ]
    },
    {
      "cell_type": "code",
      "metadata": {
        "id": "qNVlve_WWY9a",
        "colab_type": "code",
        "colab": {}
      },
      "source": [
        "# detect \"A\", \"B\", \"C\" characters in plot_code and if present write to 'plot_rep'\n",
        "df <- df %>%\n",
        "  mutate(plot_rep = case_when(str_detect(plot_code, \"A\")~\"A\",\n",
        "                              str_detect(plot_code, \"B\")~\"B\",\n",
        "                              str_detect(plot_code, \"C\")~\"C\"))"
      ],
      "execution_count": 0,
      "outputs": []
    },
    {
      "cell_type": "code",
      "metadata": {
        "id": "vRxYtG1eYPbf",
        "colab_type": "code",
        "colab": {}
      },
      "source": [
        "# reorder columns\n",
        "df <- df[,c(1,2,7,3,4,5,6)]"
      ],
      "execution_count": 0,
      "outputs": []
    },
    {
      "cell_type": "markdown",
      "metadata": {
        "id": "R8DYL00Fb0Lu",
        "colab_type": "text"
      },
      "source": [
        "### plot_num"
      ]
    },
    {
      "cell_type": "code",
      "metadata": {
        "id": "GB_RxW35YO39",
        "colab_type": "code",
        "colab": {}
      },
      "source": [
        "# use digital values from 'plot_code' and to populate 'plot_num'\n",
        "df <- df %>%\n",
        "  mutate(plot_num = str_extract(plot_code, \"[:digit:].*\"))"
      ],
      "execution_count": 0,
      "outputs": []
    },
    {
      "cell_type": "code",
      "metadata": {
        "id": "pQUe2ZVzYO1J",
        "colab_type": "code",
        "colab": {}
      },
      "source": [
        "# reorder columns\n",
        "df <- df[,c(1,2,3,8,4,5,6,7)]"
      ],
      "execution_count": 0,
      "outputs": []
    },
    {
      "cell_type": "markdown",
      "metadata": {
        "id": "ULsKFbhjNZ3p",
        "colab_type": "text"
      },
      "source": [
        "### date"
      ]
    },
    {
      "cell_type": "code",
      "metadata": {
        "id": "qJREtrbNNBro",
        "colab_type": "code",
        "colab": {}
      },
      "source": [
        "# convert to date\n",
        "df$date <- as.Date(df$date)"
      ],
      "execution_count": 0,
      "outputs": []
    },
    {
      "cell_type": "markdown",
      "metadata": {
        "id": "uRiMTPiIpiFj",
        "colab_type": "text"
      },
      "source": [
        "### subplot"
      ]
    },
    {
      "cell_type": "code",
      "metadata": {
        "id": "Dr40XXIQpje1",
        "colab_type": "code",
        "colab": {}
      },
      "source": [
        "# convert to integer\n",
        "df$subplot <- as.integer(df$subplot)"
      ],
      "execution_count": 0,
      "outputs": []
    },
    {
      "cell_type": "markdown",
      "metadata": {
        "id": "H_G-7PpcpTP8",
        "colab_type": "text"
      },
      "source": [
        "### species_key"
      ]
    },
    {
      "cell_type": "markdown",
      "metadata": {
        "id": "4wgbJusKpZWd",
        "colab_type": "text"
      },
      "source": [
        "This will be imported from the plant species metadata table, and we can use it to join and correct species codes in the future\n"
      ]
    },
    {
      "cell_type": "code",
      "metadata": {
        "id": "aWBrK2g8pVqh",
        "colab_type": "code",
        "colab": {}
      },
      "source": [
        "# set to NA for now\n",
        "df$species_key <- NA"
      ],
      "execution_count": 0,
      "outputs": []
    },
    {
      "cell_type": "code",
      "metadata": {
        "id": "UlI8k0uquKnf",
        "colab_type": "code",
        "colab": {}
      },
      "source": [
        "# convert to string\n",
        "df$species_key <- as.character(df$species_key)"
      ],
      "execution_count": 0,
      "outputs": []
    },
    {
      "cell_type": "code",
      "metadata": {
        "id": "CzTuPwSjuWTH",
        "colab_type": "code",
        "colab": {}
      },
      "source": [
        "# reorder columns\n",
        "df <- df[,c(1,2,3,4,5,6,9,7,8)]"
      ],
      "execution_count": 0,
      "outputs": []
    },
    {
      "cell_type": "markdown",
      "metadata": {
        "id": "d7RW6V3ZWGmg",
        "colab_type": "text"
      },
      "source": [
        "### species_code"
      ]
    },
    {
      "cell_type": "code",
      "metadata": {
        "id": "1CmtWg-EWIDc",
        "colab_type": "code",
        "colab": {}
      },
      "source": [
        "# convert to string\n",
        "df$species_code <- as.character(df$species_code)"
      ],
      "execution_count": 0,
      "outputs": []
    },
    {
      "cell_type": "code",
      "metadata": {
        "id": "sAQb5D1gt3L6",
        "colab_type": "code",
        "outputId": "084f9701-cc1f-431e-811f-1b3f14584f30",
        "colab": {
          "base_uri": "https://localhost:8080/",
          "height": 120
        }
      },
      "source": [
        "head(df, n=2)"
      ],
      "execution_count": 382,
      "outputs": [
        {
          "output_type": "display_data",
          "data": {
            "text/plain": [
              "  plot_code plot_loc plot_rep plot_num date       subplot species_key\n",
              "1 YVP 10    NA       NA       10       2017-06-09 1       NA         \n",
              "2 YVP 10    NA       NA       10       2017-06-09 1       NA         \n",
              "  species_code cover_pct\n",
              "1 BOESPP       1        \n",
              "2 CREINT       1        "
            ],
            "text/latex": "A data.frame: 2 × 9\n\\begin{tabular}{r|lllllllll}\n  & plot\\_code & plot\\_loc & plot\\_rep & plot\\_num & date & subplot & species\\_key & species\\_code & cover\\_pct\\\\\n  & <chr> & <chr> & <chr> & <chr> & <date> & <int> & <chr> & <chr> & <int>\\\\\n\\hline\n\t1 & YVP 10 & NA & NA & 10 & 2017-06-09 & 1 & NA & BOESPP & 1\\\\\n\t2 & YVP 10 & NA & NA & 10 & 2017-06-09 & 1 & NA & CREINT & 1\\\\\n\\end{tabular}\n",
            "text/markdown": "\nA data.frame: 2 × 9\n\n| <!--/--> | plot_code &lt;chr&gt; | plot_loc &lt;chr&gt; | plot_rep &lt;chr&gt; | plot_num &lt;chr&gt; | date &lt;date&gt; | subplot &lt;int&gt; | species_key &lt;chr&gt; | species_code &lt;chr&gt; | cover_pct &lt;int&gt; |\n|---|---|---|---|---|---|---|---|---|---|\n| 1 | YVP 10 | NA | NA | 10 | 2017-06-09 | 1 | NA | BOESPP | 1 |\n| 2 | YVP 10 | NA | NA | 10 | 2017-06-09 | 1 | NA | CREINT | 1 |\n\n",
            "text/html": [
              "<table>\n",
              "<caption>A data.frame: 2 × 9</caption>\n",
              "<thead>\n",
              "\t<tr><th></th><th scope=col>plot_code</th><th scope=col>plot_loc</th><th scope=col>plot_rep</th><th scope=col>plot_num</th><th scope=col>date</th><th scope=col>subplot</th><th scope=col>species_key</th><th scope=col>species_code</th><th scope=col>cover_pct</th></tr>\n",
              "\t<tr><th></th><th scope=col>&lt;chr&gt;</th><th scope=col>&lt;chr&gt;</th><th scope=col>&lt;chr&gt;</th><th scope=col>&lt;chr&gt;</th><th scope=col>&lt;date&gt;</th><th scope=col>&lt;int&gt;</th><th scope=col>&lt;chr&gt;</th><th scope=col>&lt;chr&gt;</th><th scope=col>&lt;int&gt;</th></tr>\n",
              "</thead>\n",
              "<tbody>\n",
              "\t<tr><th scope=row>1</th><td>YVP 10</td><td>NA</td><td>NA</td><td>10</td><td>2017-06-09</td><td>1</td><td>NA</td><td>BOESPP</td><td>1</td></tr>\n",
              "\t<tr><th scope=row>2</th><td>YVP 10</td><td>NA</td><td>NA</td><td>10</td><td>2017-06-09</td><td>1</td><td>NA</td><td>CREINT</td><td>1</td></tr>\n",
              "</tbody>\n",
              "</table>\n"
            ]
          },
          "metadata": {
            "tags": []
          }
        }
      ]
    },
    {
      "cell_type": "markdown",
      "metadata": {
        "id": "S5UZM86eOSi-",
        "colab_type": "text"
      },
      "source": [
        "## Identify Double Counting"
      ]
    },
    {
      "cell_type": "code",
      "metadata": {
        "id": "S1zKtNFnjSp8",
        "colab_type": "code",
        "colab": {
          "base_uri": "https://localhost:8080/",
          "height": 187
        },
        "outputId": "ded31a5b-9099-486b-f73c-1a5130c81392"
      },
      "source": [
        "str(df)"
      ],
      "execution_count": 383,
      "outputs": [
        {
          "output_type": "stream",
          "text": [
            "'data.frame':\t21728 obs. of  9 variables:\n",
            " $ plot_code   : chr  \"YVP 10\" \"YVP 10\" \"YVP 10\" \"YVP 10\" ...\n",
            " $ plot_loc    : chr  NA NA NA NA ...\n",
            " $ plot_rep    : chr  NA NA NA NA ...\n",
            " $ plot_num    : chr  \"10\" \"10\" \"10\" \"10\" ...\n",
            " $ date        : Date, format: \"2017-06-09\" \"2017-06-09\" ...\n",
            " $ subplot     : int  1 1 1 1 1 1 1 1 1 1 ...\n",
            " $ species_key : chr  NA NA NA NA ...\n",
            " $ species_code: chr  \"BOESPP\" \"CREINT\" \"EUPESU\" \"FESCAM\" ...\n",
            " $ cover_pct   : int  1 1 5 25 25 10 1 1 5 1 ...\n"
          ],
          "name": "stdout"
        }
      ]
    },
    {
      "cell_type": "code",
      "metadata": {
        "id": "94AhZCRwAaOw",
        "colab_type": "code",
        "colab": {
          "base_uri": "https://localhost:8080/",
          "height": 204
        },
        "outputId": "393ef0df-dee2-4330-eb9e-afe4860130a3"
      },
      "source": [
        "head(df)"
      ],
      "execution_count": 384,
      "outputs": [
        {
          "output_type": "display_data",
          "data": {
            "text/plain": [
              "  plot_code plot_loc plot_rep plot_num date       subplot species_key\n",
              "1 YVP 10    NA       NA       10       2017-06-09 1       NA         \n",
              "2 YVP 10    NA       NA       10       2017-06-09 1       NA         \n",
              "3 YVP 10    NA       NA       10       2017-06-09 1       NA         \n",
              "4 YVP 10    NA       NA       10       2017-06-09 1       NA         \n",
              "5 YVP 10    NA       NA       10       2017-06-09 1       NA         \n",
              "6 YVP 10    NA       NA       10       2017-06-09 1       NA         \n",
              "  species_code cover_pct\n",
              "1 BOESPP        1       \n",
              "2 CREINT        1       \n",
              "3 EUPESU        5       \n",
              "4 FESCAM       25       \n",
              "5 FESIDA       25       \n",
              "6 GEUTRI       10       "
            ],
            "text/latex": "A data.frame: 6 × 9\n\\begin{tabular}{r|lllllllll}\n  & plot\\_code & plot\\_loc & plot\\_rep & plot\\_num & date & subplot & species\\_key & species\\_code & cover\\_pct\\\\\n  & <chr> & <chr> & <chr> & <chr> & <date> & <int> & <chr> & <chr> & <int>\\\\\n\\hline\n\t1 & YVP 10 & NA & NA & 10 & 2017-06-09 & 1 & NA & BOESPP &  1\\\\\n\t2 & YVP 10 & NA & NA & 10 & 2017-06-09 & 1 & NA & CREINT &  1\\\\\n\t3 & YVP 10 & NA & NA & 10 & 2017-06-09 & 1 & NA & EUPESU &  5\\\\\n\t4 & YVP 10 & NA & NA & 10 & 2017-06-09 & 1 & NA & FESCAM & 25\\\\\n\t5 & YVP 10 & NA & NA & 10 & 2017-06-09 & 1 & NA & FESIDA & 25\\\\\n\t6 & YVP 10 & NA & NA & 10 & 2017-06-09 & 1 & NA & GEUTRI & 10\\\\\n\\end{tabular}\n",
            "text/markdown": "\nA data.frame: 6 × 9\n\n| <!--/--> | plot_code &lt;chr&gt; | plot_loc &lt;chr&gt; | plot_rep &lt;chr&gt; | plot_num &lt;chr&gt; | date &lt;date&gt; | subplot &lt;int&gt; | species_key &lt;chr&gt; | species_code &lt;chr&gt; | cover_pct &lt;int&gt; |\n|---|---|---|---|---|---|---|---|---|---|\n| 1 | YVP 10 | NA | NA | 10 | 2017-06-09 | 1 | NA | BOESPP |  1 |\n| 2 | YVP 10 | NA | NA | 10 | 2017-06-09 | 1 | NA | CREINT |  1 |\n| 3 | YVP 10 | NA | NA | 10 | 2017-06-09 | 1 | NA | EUPESU |  5 |\n| 4 | YVP 10 | NA | NA | 10 | 2017-06-09 | 1 | NA | FESCAM | 25 |\n| 5 | YVP 10 | NA | NA | 10 | 2017-06-09 | 1 | NA | FESIDA | 25 |\n| 6 | YVP 10 | NA | NA | 10 | 2017-06-09 | 1 | NA | GEUTRI | 10 |\n\n",
            "text/html": [
              "<table>\n",
              "<caption>A data.frame: 6 × 9</caption>\n",
              "<thead>\n",
              "\t<tr><th></th><th scope=col>plot_code</th><th scope=col>plot_loc</th><th scope=col>plot_rep</th><th scope=col>plot_num</th><th scope=col>date</th><th scope=col>subplot</th><th scope=col>species_key</th><th scope=col>species_code</th><th scope=col>cover_pct</th></tr>\n",
              "\t<tr><th></th><th scope=col>&lt;chr&gt;</th><th scope=col>&lt;chr&gt;</th><th scope=col>&lt;chr&gt;</th><th scope=col>&lt;chr&gt;</th><th scope=col>&lt;date&gt;</th><th scope=col>&lt;int&gt;</th><th scope=col>&lt;chr&gt;</th><th scope=col>&lt;chr&gt;</th><th scope=col>&lt;int&gt;</th></tr>\n",
              "</thead>\n",
              "<tbody>\n",
              "\t<tr><th scope=row>1</th><td>YVP 10</td><td>NA</td><td>NA</td><td>10</td><td>2017-06-09</td><td>1</td><td>NA</td><td>BOESPP</td><td> 1</td></tr>\n",
              "\t<tr><th scope=row>2</th><td>YVP 10</td><td>NA</td><td>NA</td><td>10</td><td>2017-06-09</td><td>1</td><td>NA</td><td>CREINT</td><td> 1</td></tr>\n",
              "\t<tr><th scope=row>3</th><td>YVP 10</td><td>NA</td><td>NA</td><td>10</td><td>2017-06-09</td><td>1</td><td>NA</td><td>EUPESU</td><td> 5</td></tr>\n",
              "\t<tr><th scope=row>4</th><td>YVP 10</td><td>NA</td><td>NA</td><td>10</td><td>2017-06-09</td><td>1</td><td>NA</td><td>FESCAM</td><td>25</td></tr>\n",
              "\t<tr><th scope=row>5</th><td>YVP 10</td><td>NA</td><td>NA</td><td>10</td><td>2017-06-09</td><td>1</td><td>NA</td><td>FESIDA</td><td>25</td></tr>\n",
              "\t<tr><th scope=row>6</th><td>YVP 10</td><td>NA</td><td>NA</td><td>10</td><td>2017-06-09</td><td>1</td><td>NA</td><td>GEUTRI</td><td>10</td></tr>\n",
              "</tbody>\n",
              "</table>\n"
            ]
          },
          "metadata": {
            "tags": []
          }
        }
      ]
    },
    {
      "cell_type": "code",
      "metadata": {
        "id": "r8QoSvBgUfnC",
        "colab_type": "code",
        "outputId": "86944e34-6977-454b-e768-6797457f909a",
        "colab": {
          "base_uri": "https://localhost:8080/",
          "height": 850
        }
      },
      "source": [
        "# Find instances where a plant species is counted twice in the same year-plot-subplot combination\n",
        "dbl_counts <- df %>%\n",
        "  group_by(year = as.numeric(substring(date,0,4)), plot_code, subplot, species_code) %>%\n",
        "  summarize(counted = n()) %>% \n",
        "  ungroup() %>%\n",
        "  arrange(year, plot_code, subplot, desc(counted)) %>%\n",
        "  filter(counted > 1) %>%\n",
        "  print(n=Inf)"
      ],
      "execution_count": 385,
      "outputs": [
        {
          "output_type": "stream",
          "text": [
            "\u001b[90m# A tibble: 46 x 5\u001b[39m\n",
            "    year plot_code subplot species_code counted\n",
            "   \u001b[3m\u001b[90m<dbl>\u001b[39m\u001b[23m \u001b[3m\u001b[90m<chr>\u001b[39m\u001b[23m       \u001b[3m\u001b[90m<int>\u001b[39m\u001b[23m \u001b[3m\u001b[90m<chr>\u001b[39m\u001b[23m          \u001b[3m\u001b[90m<int>\u001b[39m\u001b[23m\n",
            "\u001b[90m 1\u001b[39m  \u001b[4m2\u001b[24m017 YVP 144         2 VERVER             2\n",
            "\u001b[90m 2\u001b[39m  \u001b[4m2\u001b[24m017 YVP 180         7 FRIPUD             2\n",
            "\u001b[90m 3\u001b[39m  \u001b[4m2\u001b[24m017 YVP 203         4 COLLIN             2\n",
            "\u001b[90m 4\u001b[39m  \u001b[4m2\u001b[24m017 YVP 355        10 PSESPI             2\n",
            "\u001b[90m 5\u001b[39m  \u001b[4m2\u001b[24m017 YVP 44          9 ORTTEN             2\n",
            "\u001b[90m 6\u001b[39m  \u001b[4m2\u001b[24m017 YVP N111        2 DRAVER             2\n",
            "\u001b[90m 7\u001b[39m  \u001b[4m2\u001b[24m017 YVP NB294       8 MICGRA             2\n",
            "\u001b[90m 8\u001b[39m  \u001b[4m2\u001b[24m018 YVP 112         9 ALYALY             2\n",
            "\u001b[90m 9\u001b[39m  \u001b[4m2\u001b[24m018 YVP 12          4 HOLUMB             2\n",
            "\u001b[90m10\u001b[39m  \u001b[4m2\u001b[24m018 YVP 144        10 ACHMIL             2\n",
            "\u001b[90m11\u001b[39m  \u001b[4m2\u001b[24m018 YVP 184         4 HOLUMB             2\n",
            "\u001b[90m12\u001b[39m  \u001b[4m2\u001b[24m018 YVP 185         1 DRAVER             2\n",
            "\u001b[90m13\u001b[39m  \u001b[4m2\u001b[24m018 YVP 185         1 FRIPUD             2\n",
            "\u001b[90m14\u001b[39m  \u001b[4m2\u001b[24m018 YVP 185         1 MYOMIC             2\n",
            "\u001b[90m15\u001b[39m  \u001b[4m2\u001b[24m018 YVP 185         3 HOLUMB             2\n",
            "\u001b[90m16\u001b[39m  \u001b[4m2\u001b[24m018 YVP 185         4 ARANUT             2\n",
            "\u001b[90m17\u001b[39m  \u001b[4m2\u001b[24m018 YVP 185         4 EPIBRA             2\n",
            "\u001b[90m18\u001b[39m  \u001b[4m2\u001b[24m018 YVP 20          2 VERVER             2\n",
            "\u001b[90m19\u001b[39m  \u001b[4m2\u001b[24m018 YVP 203         4 COLLIN             2\n",
            "\u001b[90m20\u001b[39m  \u001b[4m2\u001b[24m018 YVP 209         5 ALYALY             2\n",
            "\u001b[90m21\u001b[39m  \u001b[4m2\u001b[24m018 YVP 213         4 ARIPUR             2\n",
            "\u001b[90m22\u001b[39m  \u001b[4m2\u001b[24m018 YVP 22          2 FESCAM             2\n",
            "\u001b[90m23\u001b[39m  \u001b[4m2\u001b[24m018 YVP 355         7 DODPUL             2\n",
            "\u001b[90m24\u001b[39m  \u001b[4m2\u001b[24m018 YVP 412         9 MICGRA             2\n",
            "\u001b[90m25\u001b[39m  \u001b[4m2\u001b[24m018 YVP 56          1 HOLUMB             2\n",
            "\u001b[90m26\u001b[39m  \u001b[4m2\u001b[24m018 YVP 62          3 KOEMAC             2\n",
            "\u001b[90m27\u001b[39m  \u001b[4m2\u001b[24m018 YVP 62          4 HOLUMB             2\n",
            "\u001b[90m28\u001b[39m  \u001b[4m2\u001b[24m018 YVP 62          8 ORTTEN             2\n",
            "\u001b[90m29\u001b[39m  \u001b[4m2\u001b[24m018 YVP N110        5 MYOMIC             2\n",
            "\u001b[90m30\u001b[39m  \u001b[4m2\u001b[24m018 YVP N278        2 ARESER             2\n",
            "\u001b[90m31\u001b[39m  \u001b[4m2\u001b[24m018 YVP N501       10 ARECON             2\n",
            "\u001b[90m32\u001b[39m  \u001b[4m2\u001b[24m018 YVP N522        1 LITRUD             2\n",
            "\u001b[90m33\u001b[39m  \u001b[4m2\u001b[24m018 YVP N558        7 COLLIN             2\n",
            "\u001b[90m34\u001b[39m  \u001b[4m2\u001b[24m018 YVP NB294       8 MICGRA             2\n",
            "\u001b[90m35\u001b[39m  \u001b[4m2\u001b[24m019 YVP 113         4 DRAVER             2\n",
            "\u001b[90m36\u001b[39m  \u001b[4m2\u001b[24m019 YVP 180         8 PLAPAT             2\n",
            "\u001b[90m37\u001b[39m  \u001b[4m2\u001b[24m019 YVP 209         5 ASTINF             2\n",
            "\u001b[90m38\u001b[39m  \u001b[4m2\u001b[24m019 YVP 468         2 UNKN SP            2\n",
            "\u001b[90m39\u001b[39m  \u001b[4m2\u001b[24m019 YVP N111        3 EPIBRA             2\n",
            "\u001b[90m40\u001b[39m  \u001b[4m2\u001b[24m019 YVP N158        3 EPIBRA             2\n",
            "\u001b[90m41\u001b[39m  \u001b[4m2\u001b[24m019 YVP N158        4 EPIBRA             2\n",
            "\u001b[90m42\u001b[39m  \u001b[4m2\u001b[24m019 YVP N348        5 CIRARV             2\n",
            "\u001b[90m43\u001b[39m  \u001b[4m2\u001b[24m019 YVP N386        1 EPIBRA             2\n",
            "\u001b[90m44\u001b[39m  \u001b[4m2\u001b[24m019 YVP N501        1 FRIPUD             2\n",
            "\u001b[90m45\u001b[39m  \u001b[4m2\u001b[24m019 YVP NC294       4 MYOMIC             2\n",
            "\u001b[90m46\u001b[39m  \u001b[4m2\u001b[24m019 YVP NC294       6 ERIPUM             2\n"
          ],
          "name": "stdout"
        }
      ]
    },
    {
      "cell_type": "code",
      "metadata": {
        "id": "y0wKttne2T3V",
        "colab_type": "code",
        "outputId": "0c1a5ed6-5b5d-4c77-f773-63f5a5c95f39",
        "colab": {
          "base_uri": "https://localhost:8080/",
          "height": 51
        }
      },
      "source": [
        "view_doubles  <- dbl_counts %>%\n",
        "  left_join(df %>% mutate(year = as.numeric(substring(date,0,4))))"
      ],
      "execution_count": 386,
      "outputs": [
        {
          "output_type": "stream",
          "text": [
            "Joining, by = c(\"year\", \"plot_code\", \"subplot\", \"species_code\")\n",
            "\n"
          ],
          "name": "stderr"
        }
      ]
    },
    {
      "cell_type": "code",
      "metadata": {
        "id": "6-swjMioA9AE",
        "colab_type": "code",
        "colab": {
          "base_uri": "https://localhost:8080/",
          "height": 221
        },
        "outputId": "05d4a109-d583-4716-b75c-80ddaa72ee2e"
      },
      "source": [
        "str(view_doubles)"
      ],
      "execution_count": 387,
      "outputs": [
        {
          "output_type": "stream",
          "text": [
            "tibble [92 × 11] (S3: tbl_df/tbl/data.frame)\n",
            " $ year        : num [1:92] 2017 2017 2017 2017 2017 ...\n",
            " $ plot_code   : chr [1:92] \"YVP 144\" \"YVP 144\" \"YVP 180\" \"YVP 180\" ...\n",
            " $ subplot     : int [1:92] 2 2 7 7 4 4 10 10 9 9 ...\n",
            " $ species_code: chr [1:92] \"VERVER\" \"VERVER\" \"FRIPUD\" \"FRIPUD\" ...\n",
            " $ counted     : int [1:92] 2 2 2 2 2 2 2 2 2 2 ...\n",
            " $ plot_loc    : chr [1:92] NA NA NA NA ...\n",
            " $ plot_rep    : chr [1:92] NA NA NA NA ...\n",
            " $ plot_num    : chr [1:92] \"144\" \"144\" \"180\" \"180\" ...\n",
            " $ date        : Date[1:92], format: \"2017-05-30\" \"2017-05-30\" ...\n",
            " $ species_key : chr [1:92] NA NA NA NA ...\n",
            " $ cover_pct   : int [1:92] 3 4 1 1 10 1 20 2 4 1 ...\n"
          ],
          "name": "stdout"
        }
      ]
    },
    {
      "cell_type": "code",
      "metadata": {
        "id": "-tdGvvioDJWq",
        "colab_type": "code",
        "colab": {
          "base_uri": "https://localhost:8080/",
          "height": 1000
        },
        "outputId": "29c54832-d36b-42e3-b0c5-2a4ca1b65edc"
      },
      "source": [
        "view_doubles %>%\n",
        "  distinct(date, plot_code, species_code, subplot) %>%\n",
        "  arrange(date, plot_code, species_code)"
      ],
      "execution_count": 388,
      "outputs": [
        {
          "output_type": "display_data",
          "data": {
            "text/plain": [
              "   date       plot_code species_code subplot\n",
              "1  2017-05-08 YVP NB294 MICGRA        8     \n",
              "2  2017-05-18 YVP 203   COLLIN        4     \n",
              "3  2017-05-25 YVP N111  DRAVER        2     \n",
              "4  2017-05-30 YVP 144   VERVER        2     \n",
              "5  2017-05-31 YVP 180   FRIPUD        7     \n",
              "6  2017-06-02 YVP 355   PSESPI       10     \n",
              "7  2017-06-06 YVP 44    ORTTEN        9     \n",
              "8  2018-05-28 YVP 144   ACHMIL       10     \n",
              "9  2018-05-28 YVP N278  ARESER        2     \n",
              "10 2018-05-28 YVP N522  LITRUD        1     \n",
              "11 2018-05-30 YVP 184   HOLUMB        4     \n",
              "12 2018-05-30 YVP 185   ARANUT        4     \n",
              "13 2018-05-30 YVP 185   DRAVER        1     \n",
              "14 2018-05-30 YVP 185   EPIBRA        4     \n",
              "15 2018-05-30 YVP 185   FRIPUD        1     \n",
              "16 2018-05-30 YVP 185   HOLUMB        3     \n",
              "17 2018-05-30 YVP 185   MYOMIC        1     \n",
              "18 2018-05-30 YVP N110  MYOMIC        5     \n",
              "19 2018-05-30 YVP NB294 MICGRA        8     \n",
              "20 2018-05-31 YVP 112   ALYALY        9     \n",
              "21 2018-05-31 YVP 209   ALYALY        5     \n",
              "22 2018-06-04 YVP 203   COLLIN        4     \n",
              "23 2018-06-04 YVP 213   ARIPUR        4     \n",
              "24 2018-06-11 YVP 56    HOLUMB        1     \n",
              "25 2018-06-25 YVP 355   DODPUL        7     \n",
              "26 2018-06-26 YVP N558  COLLIN        7     \n",
              "27 2018-07-02 YVP 412   MICGRA        9     \n",
              "28 2018-07-02 YVP 62    HOLUMB        4     \n",
              "29 2018-07-02 YVP 62    KOEMAC        3     \n",
              "30 2018-07-02 YVP 62    ORTTEN        8     \n",
              "31 2018-07-09 YVP N501  ARECON       10     \n",
              "32 2018-07-10 YVP 12    HOLUMB        4     \n",
              "33 2018-07-12 YVP 20    VERVER        2     \n",
              "34 2018-07-12 YVP 22    FESCAM        2     \n",
              "35 2019-05-09 YVP NC294 ERIPUM        6     \n",
              "36 2019-05-09 YVP NC294 MYOMIC        4     \n",
              "37 2019-05-23 YVP 209   ASTINF        5     \n",
              "38 2019-05-23 YVP N111  EPIBRA        3     \n",
              "39 2019-05-30 YVP N501  FRIPUD        1     \n",
              "40 2019-06-10 YVP 113   DRAVER        4     \n",
              "41 2019-06-10 YVP 180   PLAPAT        8     \n",
              "42 2019-06-17 YVP N158  EPIBRA        3     \n",
              "43 2019-06-17 YVP N158  EPIBRA        4     \n",
              "44 2019-07-01 YVP N386  EPIBRA        1     \n",
              "45 2019-07-05 YVP N348  CIRARV        5     \n",
              "46 2019-07-16 YVP 468   UNKN SP       2     "
            ],
            "text/latex": "A tibble: 46 × 4\n\\begin{tabular}{llll}\n date & plot\\_code & species\\_code & subplot\\\\\n <date> & <chr> & <chr> & <int>\\\\\n\\hline\n\t 2017-05-08 & YVP NB294 & MICGRA  &  8\\\\\n\t 2017-05-18 & YVP 203   & COLLIN  &  4\\\\\n\t 2017-05-25 & YVP N111  & DRAVER  &  2\\\\\n\t 2017-05-30 & YVP 144   & VERVER  &  2\\\\\n\t 2017-05-31 & YVP 180   & FRIPUD  &  7\\\\\n\t 2017-06-02 & YVP 355   & PSESPI  & 10\\\\\n\t 2017-06-06 & YVP 44    & ORTTEN  &  9\\\\\n\t 2018-05-28 & YVP 144   & ACHMIL  & 10\\\\\n\t 2018-05-28 & YVP N278  & ARESER  &  2\\\\\n\t 2018-05-28 & YVP N522  & LITRUD  &  1\\\\\n\t 2018-05-30 & YVP 184   & HOLUMB  &  4\\\\\n\t 2018-05-30 & YVP 185   & ARANUT  &  4\\\\\n\t 2018-05-30 & YVP 185   & DRAVER  &  1\\\\\n\t 2018-05-30 & YVP 185   & EPIBRA  &  4\\\\\n\t 2018-05-30 & YVP 185   & FRIPUD  &  1\\\\\n\t 2018-05-30 & YVP 185   & HOLUMB  &  3\\\\\n\t 2018-05-30 & YVP 185   & MYOMIC  &  1\\\\\n\t 2018-05-30 & YVP N110  & MYOMIC  &  5\\\\\n\t 2018-05-30 & YVP NB294 & MICGRA  &  8\\\\\n\t 2018-05-31 & YVP 112   & ALYALY  &  9\\\\\n\t 2018-05-31 & YVP 209   & ALYALY  &  5\\\\\n\t 2018-06-04 & YVP 203   & COLLIN  &  4\\\\\n\t 2018-06-04 & YVP 213   & ARIPUR  &  4\\\\\n\t 2018-06-11 & YVP 56    & HOLUMB  &  1\\\\\n\t 2018-06-25 & YVP 355   & DODPUL  &  7\\\\\n\t 2018-06-26 & YVP N558  & COLLIN  &  7\\\\\n\t 2018-07-02 & YVP 412   & MICGRA  &  9\\\\\n\t 2018-07-02 & YVP 62    & HOLUMB  &  4\\\\\n\t 2018-07-02 & YVP 62    & KOEMAC  &  3\\\\\n\t 2018-07-02 & YVP 62    & ORTTEN  &  8\\\\\n\t 2018-07-09 & YVP N501  & ARECON  & 10\\\\\n\t 2018-07-10 & YVP 12    & HOLUMB  &  4\\\\\n\t 2018-07-12 & YVP 20    & VERVER  &  2\\\\\n\t 2018-07-12 & YVP 22    & FESCAM  &  2\\\\\n\t 2019-05-09 & YVP NC294 & ERIPUM  &  6\\\\\n\t 2019-05-09 & YVP NC294 & MYOMIC  &  4\\\\\n\t 2019-05-23 & YVP 209   & ASTINF  &  5\\\\\n\t 2019-05-23 & YVP N111  & EPIBRA  &  3\\\\\n\t 2019-05-30 & YVP N501  & FRIPUD  &  1\\\\\n\t 2019-06-10 & YVP 113   & DRAVER  &  4\\\\\n\t 2019-06-10 & YVP 180   & PLAPAT  &  8\\\\\n\t 2019-06-17 & YVP N158  & EPIBRA  &  3\\\\\n\t 2019-06-17 & YVP N158  & EPIBRA  &  4\\\\\n\t 2019-07-01 & YVP N386  & EPIBRA  &  1\\\\\n\t 2019-07-05 & YVP N348  & CIRARV  &  5\\\\\n\t 2019-07-16 & YVP 468   & UNKN SP &  2\\\\\n\\end{tabular}\n",
            "text/markdown": "\nA tibble: 46 × 4\n\n| date &lt;date&gt; | plot_code &lt;chr&gt; | species_code &lt;chr&gt; | subplot &lt;int&gt; |\n|---|---|---|---|\n| 2017-05-08 | YVP NB294 | MICGRA  |  8 |\n| 2017-05-18 | YVP 203   | COLLIN  |  4 |\n| 2017-05-25 | YVP N111  | DRAVER  |  2 |\n| 2017-05-30 | YVP 144   | VERVER  |  2 |\n| 2017-05-31 | YVP 180   | FRIPUD  |  7 |\n| 2017-06-02 | YVP 355   | PSESPI  | 10 |\n| 2017-06-06 | YVP 44    | ORTTEN  |  9 |\n| 2018-05-28 | YVP 144   | ACHMIL  | 10 |\n| 2018-05-28 | YVP N278  | ARESER  |  2 |\n| 2018-05-28 | YVP N522  | LITRUD  |  1 |\n| 2018-05-30 | YVP 184   | HOLUMB  |  4 |\n| 2018-05-30 | YVP 185   | ARANUT  |  4 |\n| 2018-05-30 | YVP 185   | DRAVER  |  1 |\n| 2018-05-30 | YVP 185   | EPIBRA  |  4 |\n| 2018-05-30 | YVP 185   | FRIPUD  |  1 |\n| 2018-05-30 | YVP 185   | HOLUMB  |  3 |\n| 2018-05-30 | YVP 185   | MYOMIC  |  1 |\n| 2018-05-30 | YVP N110  | MYOMIC  |  5 |\n| 2018-05-30 | YVP NB294 | MICGRA  |  8 |\n| 2018-05-31 | YVP 112   | ALYALY  |  9 |\n| 2018-05-31 | YVP 209   | ALYALY  |  5 |\n| 2018-06-04 | YVP 203   | COLLIN  |  4 |\n| 2018-06-04 | YVP 213   | ARIPUR  |  4 |\n| 2018-06-11 | YVP 56    | HOLUMB  |  1 |\n| 2018-06-25 | YVP 355   | DODPUL  |  7 |\n| 2018-06-26 | YVP N558  | COLLIN  |  7 |\n| 2018-07-02 | YVP 412   | MICGRA  |  9 |\n| 2018-07-02 | YVP 62    | HOLUMB  |  4 |\n| 2018-07-02 | YVP 62    | KOEMAC  |  3 |\n| 2018-07-02 | YVP 62    | ORTTEN  |  8 |\n| 2018-07-09 | YVP N501  | ARECON  | 10 |\n| 2018-07-10 | YVP 12    | HOLUMB  |  4 |\n| 2018-07-12 | YVP 20    | VERVER  |  2 |\n| 2018-07-12 | YVP 22    | FESCAM  |  2 |\n| 2019-05-09 | YVP NC294 | ERIPUM  |  6 |\n| 2019-05-09 | YVP NC294 | MYOMIC  |  4 |\n| 2019-05-23 | YVP 209   | ASTINF  |  5 |\n| 2019-05-23 | YVP N111  | EPIBRA  |  3 |\n| 2019-05-30 | YVP N501  | FRIPUD  |  1 |\n| 2019-06-10 | YVP 113   | DRAVER  |  4 |\n| 2019-06-10 | YVP 180   | PLAPAT  |  8 |\n| 2019-06-17 | YVP N158  | EPIBRA  |  3 |\n| 2019-06-17 | YVP N158  | EPIBRA  |  4 |\n| 2019-07-01 | YVP N386  | EPIBRA  |  1 |\n| 2019-07-05 | YVP N348  | CIRARV  |  5 |\n| 2019-07-16 | YVP 468   | UNKN SP |  2 |\n\n",
            "text/html": [
              "<table>\n",
              "<caption>A tibble: 46 × 4</caption>\n",
              "<thead>\n",
              "\t<tr><th scope=col>date</th><th scope=col>plot_code</th><th scope=col>species_code</th><th scope=col>subplot</th></tr>\n",
              "\t<tr><th scope=col>&lt;date&gt;</th><th scope=col>&lt;chr&gt;</th><th scope=col>&lt;chr&gt;</th><th scope=col>&lt;int&gt;</th></tr>\n",
              "</thead>\n",
              "<tbody>\n",
              "\t<tr><td>2017-05-08</td><td>YVP NB294</td><td>MICGRA </td><td> 8</td></tr>\n",
              "\t<tr><td>2017-05-18</td><td>YVP 203  </td><td>COLLIN </td><td> 4</td></tr>\n",
              "\t<tr><td>2017-05-25</td><td>YVP N111 </td><td>DRAVER </td><td> 2</td></tr>\n",
              "\t<tr><td>2017-05-30</td><td>YVP 144  </td><td>VERVER </td><td> 2</td></tr>\n",
              "\t<tr><td>2017-05-31</td><td>YVP 180  </td><td>FRIPUD </td><td> 7</td></tr>\n",
              "\t<tr><td>2017-06-02</td><td>YVP 355  </td><td>PSESPI </td><td>10</td></tr>\n",
              "\t<tr><td>2017-06-06</td><td>YVP 44   </td><td>ORTTEN </td><td> 9</td></tr>\n",
              "\t<tr><td>2018-05-28</td><td>YVP 144  </td><td>ACHMIL </td><td>10</td></tr>\n",
              "\t<tr><td>2018-05-28</td><td>YVP N278 </td><td>ARESER </td><td> 2</td></tr>\n",
              "\t<tr><td>2018-05-28</td><td>YVP N522 </td><td>LITRUD </td><td> 1</td></tr>\n",
              "\t<tr><td>2018-05-30</td><td>YVP 184  </td><td>HOLUMB </td><td> 4</td></tr>\n",
              "\t<tr><td>2018-05-30</td><td>YVP 185  </td><td>ARANUT </td><td> 4</td></tr>\n",
              "\t<tr><td>2018-05-30</td><td>YVP 185  </td><td>DRAVER </td><td> 1</td></tr>\n",
              "\t<tr><td>2018-05-30</td><td>YVP 185  </td><td>EPIBRA </td><td> 4</td></tr>\n",
              "\t<tr><td>2018-05-30</td><td>YVP 185  </td><td>FRIPUD </td><td> 1</td></tr>\n",
              "\t<tr><td>2018-05-30</td><td>YVP 185  </td><td>HOLUMB </td><td> 3</td></tr>\n",
              "\t<tr><td>2018-05-30</td><td>YVP 185  </td><td>MYOMIC </td><td> 1</td></tr>\n",
              "\t<tr><td>2018-05-30</td><td>YVP N110 </td><td>MYOMIC </td><td> 5</td></tr>\n",
              "\t<tr><td>2018-05-30</td><td>YVP NB294</td><td>MICGRA </td><td> 8</td></tr>\n",
              "\t<tr><td>2018-05-31</td><td>YVP 112  </td><td>ALYALY </td><td> 9</td></tr>\n",
              "\t<tr><td>2018-05-31</td><td>YVP 209  </td><td>ALYALY </td><td> 5</td></tr>\n",
              "\t<tr><td>2018-06-04</td><td>YVP 203  </td><td>COLLIN </td><td> 4</td></tr>\n",
              "\t<tr><td>2018-06-04</td><td>YVP 213  </td><td>ARIPUR </td><td> 4</td></tr>\n",
              "\t<tr><td>2018-06-11</td><td>YVP 56   </td><td>HOLUMB </td><td> 1</td></tr>\n",
              "\t<tr><td>2018-06-25</td><td>YVP 355  </td><td>DODPUL </td><td> 7</td></tr>\n",
              "\t<tr><td>2018-06-26</td><td>YVP N558 </td><td>COLLIN </td><td> 7</td></tr>\n",
              "\t<tr><td>2018-07-02</td><td>YVP 412  </td><td>MICGRA </td><td> 9</td></tr>\n",
              "\t<tr><td>2018-07-02</td><td>YVP 62   </td><td>HOLUMB </td><td> 4</td></tr>\n",
              "\t<tr><td>2018-07-02</td><td>YVP 62   </td><td>KOEMAC </td><td> 3</td></tr>\n",
              "\t<tr><td>2018-07-02</td><td>YVP 62   </td><td>ORTTEN </td><td> 8</td></tr>\n",
              "\t<tr><td>2018-07-09</td><td>YVP N501 </td><td>ARECON </td><td>10</td></tr>\n",
              "\t<tr><td>2018-07-10</td><td>YVP 12   </td><td>HOLUMB </td><td> 4</td></tr>\n",
              "\t<tr><td>2018-07-12</td><td>YVP 20   </td><td>VERVER </td><td> 2</td></tr>\n",
              "\t<tr><td>2018-07-12</td><td>YVP 22   </td><td>FESCAM </td><td> 2</td></tr>\n",
              "\t<tr><td>2019-05-09</td><td>YVP NC294</td><td>ERIPUM </td><td> 6</td></tr>\n",
              "\t<tr><td>2019-05-09</td><td>YVP NC294</td><td>MYOMIC </td><td> 4</td></tr>\n",
              "\t<tr><td>2019-05-23</td><td>YVP 209  </td><td>ASTINF </td><td> 5</td></tr>\n",
              "\t<tr><td>2019-05-23</td><td>YVP N111 </td><td>EPIBRA </td><td> 3</td></tr>\n",
              "\t<tr><td>2019-05-30</td><td>YVP N501 </td><td>FRIPUD </td><td> 1</td></tr>\n",
              "\t<tr><td>2019-06-10</td><td>YVP 113  </td><td>DRAVER </td><td> 4</td></tr>\n",
              "\t<tr><td>2019-06-10</td><td>YVP 180  </td><td>PLAPAT </td><td> 8</td></tr>\n",
              "\t<tr><td>2019-06-17</td><td>YVP N158 </td><td>EPIBRA </td><td> 3</td></tr>\n",
              "\t<tr><td>2019-06-17</td><td>YVP N158 </td><td>EPIBRA </td><td> 4</td></tr>\n",
              "\t<tr><td>2019-07-01</td><td>YVP N386 </td><td>EPIBRA </td><td> 1</td></tr>\n",
              "\t<tr><td>2019-07-05</td><td>YVP N348 </td><td>CIRARV </td><td> 5</td></tr>\n",
              "\t<tr><td>2019-07-16</td><td>YVP 468  </td><td>UNKN SP</td><td> 2</td></tr>\n",
              "</tbody>\n",
              "</table>\n"
            ]
          },
          "metadata": {
            "tags": []
          }
        }
      ]
    },
    {
      "cell_type": "code",
      "metadata": {
        "id": "E0WImCHS5CQE",
        "colab_type": "code",
        "outputId": "3959f7db-fe5a-49a2-9f30-54b4f613b7d2",
        "colab": {
          "base_uri": "https://localhost:8080/",
          "height": 981
        }
      },
      "source": [
        "view_doubles %>%\n",
        "  distinct(date, plot_code, subplot, plot_loc) %>%\n",
        "  arrange(date, plot_code)"
      ],
      "execution_count": 389,
      "outputs": [
        {
          "output_type": "display_data",
          "data": {
            "text/plain": [
              "   date       plot_code subplot plot_loc\n",
              "1  2017-05-08 YVP NB294  8      N       \n",
              "2  2017-05-18 YVP 203    4      NA      \n",
              "3  2017-05-25 YVP N111   2      N       \n",
              "4  2017-05-30 YVP 144    2      NA      \n",
              "5  2017-05-31 YVP 180    7      NA      \n",
              "6  2017-06-02 YVP 355   10      NA      \n",
              "7  2017-06-06 YVP 44     9      NA      \n",
              "8  2018-05-28 YVP 144   10      NA      \n",
              "9  2018-05-28 YVP N278   2      N       \n",
              "10 2018-05-28 YVP N522   1      N       \n",
              "11 2018-05-30 YVP 184    4      NA      \n",
              "12 2018-05-30 YVP 185    1      NA      \n",
              "13 2018-05-30 YVP 185    3      NA      \n",
              "14 2018-05-30 YVP 185    4      NA      \n",
              "15 2018-05-30 YVP N110   5      N       \n",
              "16 2018-05-30 YVP NB294  8      N       \n",
              "17 2018-05-31 YVP 112    9      NA      \n",
              "18 2018-05-31 YVP 209    5      NA      \n",
              "19 2018-06-04 YVP 203    4      NA      \n",
              "20 2018-06-04 YVP 213    4      NA      \n",
              "21 2018-06-11 YVP 56     1      NA      \n",
              "22 2018-06-25 YVP 355    7      NA      \n",
              "23 2018-06-26 YVP N558   7      N       \n",
              "24 2018-07-02 YVP 412    9      NA      \n",
              "25 2018-07-02 YVP 62     3      NA      \n",
              "26 2018-07-02 YVP 62     4      NA      \n",
              "27 2018-07-02 YVP 62     8      NA      \n",
              "28 2018-07-09 YVP N501  10      N       \n",
              "29 2018-07-10 YVP 12     4      NA      \n",
              "30 2018-07-12 YVP 20     2      NA      \n",
              "31 2018-07-12 YVP 22     2      NA      \n",
              "32 2019-05-09 YVP NC294  4      N       \n",
              "33 2019-05-09 YVP NC294  6      N       \n",
              "34 2019-05-23 YVP 209    5      NA      \n",
              "35 2019-05-23 YVP N111   3      N       \n",
              "36 2019-05-30 YVP N501   1      N       \n",
              "37 2019-06-10 YVP 113    4      NA      \n",
              "38 2019-06-10 YVP 180    8      NA      \n",
              "39 2019-06-17 YVP N158   3      N       \n",
              "40 2019-06-17 YVP N158   4      N       \n",
              "41 2019-07-01 YVP N386   1      N       \n",
              "42 2019-07-05 YVP N348   5      N       \n",
              "43 2019-07-16 YVP 468    2      NA      "
            ],
            "text/latex": "A tibble: 43 × 4\n\\begin{tabular}{llll}\n date & plot\\_code & subplot & plot\\_loc\\\\\n <date> & <chr> & <int> & <chr>\\\\\n\\hline\n\t 2017-05-08 & YVP NB294 &  8 & N \\\\\n\t 2017-05-18 & YVP 203   &  4 & NA\\\\\n\t 2017-05-25 & YVP N111  &  2 & N \\\\\n\t 2017-05-30 & YVP 144   &  2 & NA\\\\\n\t 2017-05-31 & YVP 180   &  7 & NA\\\\\n\t 2017-06-02 & YVP 355   & 10 & NA\\\\\n\t 2017-06-06 & YVP 44    &  9 & NA\\\\\n\t 2018-05-28 & YVP 144   & 10 & NA\\\\\n\t 2018-05-28 & YVP N278  &  2 & N \\\\\n\t 2018-05-28 & YVP N522  &  1 & N \\\\\n\t 2018-05-30 & YVP 184   &  4 & NA\\\\\n\t 2018-05-30 & YVP 185   &  1 & NA\\\\\n\t 2018-05-30 & YVP 185   &  3 & NA\\\\\n\t 2018-05-30 & YVP 185   &  4 & NA\\\\\n\t 2018-05-30 & YVP N110  &  5 & N \\\\\n\t 2018-05-30 & YVP NB294 &  8 & N \\\\\n\t 2018-05-31 & YVP 112   &  9 & NA\\\\\n\t 2018-05-31 & YVP 209   &  5 & NA\\\\\n\t 2018-06-04 & YVP 203   &  4 & NA\\\\\n\t 2018-06-04 & YVP 213   &  4 & NA\\\\\n\t 2018-06-11 & YVP 56    &  1 & NA\\\\\n\t 2018-06-25 & YVP 355   &  7 & NA\\\\\n\t 2018-06-26 & YVP N558  &  7 & N \\\\\n\t 2018-07-02 & YVP 412   &  9 & NA\\\\\n\t 2018-07-02 & YVP 62    &  3 & NA\\\\\n\t 2018-07-02 & YVP 62    &  4 & NA\\\\\n\t 2018-07-02 & YVP 62    &  8 & NA\\\\\n\t 2018-07-09 & YVP N501  & 10 & N \\\\\n\t 2018-07-10 & YVP 12    &  4 & NA\\\\\n\t 2018-07-12 & YVP 20    &  2 & NA\\\\\n\t 2018-07-12 & YVP 22    &  2 & NA\\\\\n\t 2019-05-09 & YVP NC294 &  4 & N \\\\\n\t 2019-05-09 & YVP NC294 &  6 & N \\\\\n\t 2019-05-23 & YVP 209   &  5 & NA\\\\\n\t 2019-05-23 & YVP N111  &  3 & N \\\\\n\t 2019-05-30 & YVP N501  &  1 & N \\\\\n\t 2019-06-10 & YVP 113   &  4 & NA\\\\\n\t 2019-06-10 & YVP 180   &  8 & NA\\\\\n\t 2019-06-17 & YVP N158  &  3 & N \\\\\n\t 2019-06-17 & YVP N158  &  4 & N \\\\\n\t 2019-07-01 & YVP N386  &  1 & N \\\\\n\t 2019-07-05 & YVP N348  &  5 & N \\\\\n\t 2019-07-16 & YVP 468   &  2 & NA\\\\\n\\end{tabular}\n",
            "text/markdown": "\nA tibble: 43 × 4\n\n| date &lt;date&gt; | plot_code &lt;chr&gt; | subplot &lt;int&gt; | plot_loc &lt;chr&gt; |\n|---|---|---|---|\n| 2017-05-08 | YVP NB294 |  8 | N  |\n| 2017-05-18 | YVP 203   |  4 | NA |\n| 2017-05-25 | YVP N111  |  2 | N  |\n| 2017-05-30 | YVP 144   |  2 | NA |\n| 2017-05-31 | YVP 180   |  7 | NA |\n| 2017-06-02 | YVP 355   | 10 | NA |\n| 2017-06-06 | YVP 44    |  9 | NA |\n| 2018-05-28 | YVP 144   | 10 | NA |\n| 2018-05-28 | YVP N278  |  2 | N  |\n| 2018-05-28 | YVP N522  |  1 | N  |\n| 2018-05-30 | YVP 184   |  4 | NA |\n| 2018-05-30 | YVP 185   |  1 | NA |\n| 2018-05-30 | YVP 185   |  3 | NA |\n| 2018-05-30 | YVP 185   |  4 | NA |\n| 2018-05-30 | YVP N110  |  5 | N  |\n| 2018-05-30 | YVP NB294 |  8 | N  |\n| 2018-05-31 | YVP 112   |  9 | NA |\n| 2018-05-31 | YVP 209   |  5 | NA |\n| 2018-06-04 | YVP 203   |  4 | NA |\n| 2018-06-04 | YVP 213   |  4 | NA |\n| 2018-06-11 | YVP 56    |  1 | NA |\n| 2018-06-25 | YVP 355   |  7 | NA |\n| 2018-06-26 | YVP N558  |  7 | N  |\n| 2018-07-02 | YVP 412   |  9 | NA |\n| 2018-07-02 | YVP 62    |  3 | NA |\n| 2018-07-02 | YVP 62    |  4 | NA |\n| 2018-07-02 | YVP 62    |  8 | NA |\n| 2018-07-09 | YVP N501  | 10 | N  |\n| 2018-07-10 | YVP 12    |  4 | NA |\n| 2018-07-12 | YVP 20    |  2 | NA |\n| 2018-07-12 | YVP 22    |  2 | NA |\n| 2019-05-09 | YVP NC294 |  4 | N  |\n| 2019-05-09 | YVP NC294 |  6 | N  |\n| 2019-05-23 | YVP 209   |  5 | NA |\n| 2019-05-23 | YVP N111  |  3 | N  |\n| 2019-05-30 | YVP N501  |  1 | N  |\n| 2019-06-10 | YVP 113   |  4 | NA |\n| 2019-06-10 | YVP 180   |  8 | NA |\n| 2019-06-17 | YVP N158  |  3 | N  |\n| 2019-06-17 | YVP N158  |  4 | N  |\n| 2019-07-01 | YVP N386  |  1 | N  |\n| 2019-07-05 | YVP N348  |  5 | N  |\n| 2019-07-16 | YVP 468   |  2 | NA |\n\n",
            "text/html": [
              "<table>\n",
              "<caption>A tibble: 43 × 4</caption>\n",
              "<thead>\n",
              "\t<tr><th scope=col>date</th><th scope=col>plot_code</th><th scope=col>subplot</th><th scope=col>plot_loc</th></tr>\n",
              "\t<tr><th scope=col>&lt;date&gt;</th><th scope=col>&lt;chr&gt;</th><th scope=col>&lt;int&gt;</th><th scope=col>&lt;chr&gt;</th></tr>\n",
              "</thead>\n",
              "<tbody>\n",
              "\t<tr><td>2017-05-08</td><td>YVP NB294</td><td> 8</td><td>N </td></tr>\n",
              "\t<tr><td>2017-05-18</td><td>YVP 203  </td><td> 4</td><td>NA</td></tr>\n",
              "\t<tr><td>2017-05-25</td><td>YVP N111 </td><td> 2</td><td>N </td></tr>\n",
              "\t<tr><td>2017-05-30</td><td>YVP 144  </td><td> 2</td><td>NA</td></tr>\n",
              "\t<tr><td>2017-05-31</td><td>YVP 180  </td><td> 7</td><td>NA</td></tr>\n",
              "\t<tr><td>2017-06-02</td><td>YVP 355  </td><td>10</td><td>NA</td></tr>\n",
              "\t<tr><td>2017-06-06</td><td>YVP 44   </td><td> 9</td><td>NA</td></tr>\n",
              "\t<tr><td>2018-05-28</td><td>YVP 144  </td><td>10</td><td>NA</td></tr>\n",
              "\t<tr><td>2018-05-28</td><td>YVP N278 </td><td> 2</td><td>N </td></tr>\n",
              "\t<tr><td>2018-05-28</td><td>YVP N522 </td><td> 1</td><td>N </td></tr>\n",
              "\t<tr><td>2018-05-30</td><td>YVP 184  </td><td> 4</td><td>NA</td></tr>\n",
              "\t<tr><td>2018-05-30</td><td>YVP 185  </td><td> 1</td><td>NA</td></tr>\n",
              "\t<tr><td>2018-05-30</td><td>YVP 185  </td><td> 3</td><td>NA</td></tr>\n",
              "\t<tr><td>2018-05-30</td><td>YVP 185  </td><td> 4</td><td>NA</td></tr>\n",
              "\t<tr><td>2018-05-30</td><td>YVP N110 </td><td> 5</td><td>N </td></tr>\n",
              "\t<tr><td>2018-05-30</td><td>YVP NB294</td><td> 8</td><td>N </td></tr>\n",
              "\t<tr><td>2018-05-31</td><td>YVP 112  </td><td> 9</td><td>NA</td></tr>\n",
              "\t<tr><td>2018-05-31</td><td>YVP 209  </td><td> 5</td><td>NA</td></tr>\n",
              "\t<tr><td>2018-06-04</td><td>YVP 203  </td><td> 4</td><td>NA</td></tr>\n",
              "\t<tr><td>2018-06-04</td><td>YVP 213  </td><td> 4</td><td>NA</td></tr>\n",
              "\t<tr><td>2018-06-11</td><td>YVP 56   </td><td> 1</td><td>NA</td></tr>\n",
              "\t<tr><td>2018-06-25</td><td>YVP 355  </td><td> 7</td><td>NA</td></tr>\n",
              "\t<tr><td>2018-06-26</td><td>YVP N558 </td><td> 7</td><td>N </td></tr>\n",
              "\t<tr><td>2018-07-02</td><td>YVP 412  </td><td> 9</td><td>NA</td></tr>\n",
              "\t<tr><td>2018-07-02</td><td>YVP 62   </td><td> 3</td><td>NA</td></tr>\n",
              "\t<tr><td>2018-07-02</td><td>YVP 62   </td><td> 4</td><td>NA</td></tr>\n",
              "\t<tr><td>2018-07-02</td><td>YVP 62   </td><td> 8</td><td>NA</td></tr>\n",
              "\t<tr><td>2018-07-09</td><td>YVP N501 </td><td>10</td><td>N </td></tr>\n",
              "\t<tr><td>2018-07-10</td><td>YVP 12   </td><td> 4</td><td>NA</td></tr>\n",
              "\t<tr><td>2018-07-12</td><td>YVP 20   </td><td> 2</td><td>NA</td></tr>\n",
              "\t<tr><td>2018-07-12</td><td>YVP 22   </td><td> 2</td><td>NA</td></tr>\n",
              "\t<tr><td>2019-05-09</td><td>YVP NC294</td><td> 4</td><td>N </td></tr>\n",
              "\t<tr><td>2019-05-09</td><td>YVP NC294</td><td> 6</td><td>N </td></tr>\n",
              "\t<tr><td>2019-05-23</td><td>YVP 209  </td><td> 5</td><td>NA</td></tr>\n",
              "\t<tr><td>2019-05-23</td><td>YVP N111 </td><td> 3</td><td>N </td></tr>\n",
              "\t<tr><td>2019-05-30</td><td>YVP N501 </td><td> 1</td><td>N </td></tr>\n",
              "\t<tr><td>2019-06-10</td><td>YVP 113  </td><td> 4</td><td>NA</td></tr>\n",
              "\t<tr><td>2019-06-10</td><td>YVP 180  </td><td> 8</td><td>NA</td></tr>\n",
              "\t<tr><td>2019-06-17</td><td>YVP N158 </td><td> 3</td><td>N </td></tr>\n",
              "\t<tr><td>2019-06-17</td><td>YVP N158 </td><td> 4</td><td>N </td></tr>\n",
              "\t<tr><td>2019-07-01</td><td>YVP N386 </td><td> 1</td><td>N </td></tr>\n",
              "\t<tr><td>2019-07-05</td><td>YVP N348 </td><td> 5</td><td>N </td></tr>\n",
              "\t<tr><td>2019-07-16</td><td>YVP 468  </td><td> 2</td><td>NA</td></tr>\n",
              "</tbody>\n",
              "</table>\n"
            ]
          },
          "metadata": {
            "tags": []
          }
        }
      ]
    },
    {
      "cell_type": "markdown",
      "metadata": {
        "id": "IbaHfAeS-9IR",
        "colab_type": "text"
      },
      "source": [
        "## Resolve double counts"
      ]
    },
    {
      "cell_type": "markdown",
      "metadata": {
        "id": "0ZWFM4kp_HXL",
        "colab_type": "text"
      },
      "source": [
        "* If the 'cover_pct' values are equal, delete one of the rows\n",
        "* If the 'cover_pct' values are not equal, delete one of the rows and change cover_pct for the remaining one to NA"
      ]
    },
    {
      "cell_type": "code",
      "metadata": {
        "id": "16kN6oA2j8Wv",
        "colab_type": "code",
        "colab": {
          "base_uri": "https://localhost:8080/",
          "height": 221
        },
        "outputId": "a80bd5fc-163c-421d-b71b-a9c3ea17ec94"
      },
      "source": [
        "str(view_doubles)"
      ],
      "execution_count": 390,
      "outputs": [
        {
          "output_type": "stream",
          "text": [
            "tibble [92 × 11] (S3: tbl_df/tbl/data.frame)\n",
            " $ year        : num [1:92] 2017 2017 2017 2017 2017 ...\n",
            " $ plot_code   : chr [1:92] \"YVP 144\" \"YVP 144\" \"YVP 180\" \"YVP 180\" ...\n",
            " $ subplot     : int [1:92] 2 2 7 7 4 4 10 10 9 9 ...\n",
            " $ species_code: chr [1:92] \"VERVER\" \"VERVER\" \"FRIPUD\" \"FRIPUD\" ...\n",
            " $ counted     : int [1:92] 2 2 2 2 2 2 2 2 2 2 ...\n",
            " $ plot_loc    : chr [1:92] NA NA NA NA ...\n",
            " $ plot_rep    : chr [1:92] NA NA NA NA ...\n",
            " $ plot_num    : chr [1:92] \"144\" \"144\" \"180\" \"180\" ...\n",
            " $ date        : Date[1:92], format: \"2017-05-30\" \"2017-05-30\" ...\n",
            " $ species_key : chr [1:92] NA NA NA NA ...\n",
            " $ cover_pct   : int [1:92] 3 4 1 1 10 1 20 2 4 1 ...\n"
          ],
          "name": "stdout"
        }
      ]
    },
    {
      "cell_type": "code",
      "metadata": {
        "id": "AIcOzMO05c6N",
        "colab_type": "code",
        "colab": {}
      },
      "source": [
        "distinct_doubles <- view_doubles %>%\n",
        "  distinct(date, plot_code, subplot, species_code) %>%\n",
        "  arrange(date, plot_code)"
      ],
      "execution_count": 0,
      "outputs": []
    },
    {
      "cell_type": "code",
      "metadata": {
        "id": "TGN0N_GXjmaG",
        "colab_type": "code",
        "colab": {
          "base_uri": "https://localhost:8080/",
          "height": 102
        },
        "outputId": "a3ba17fa-554e-482c-d054-ad5ebe501195"
      },
      "source": [
        "str(distinct_doubles)"
      ],
      "execution_count": 392,
      "outputs": [
        {
          "output_type": "stream",
          "text": [
            "tibble [46 × 4] (S3: tbl_df/tbl/data.frame)\n",
            " $ date        : Date[1:46], format: \"2017-05-08\" \"2017-05-18\" ...\n",
            " $ plot_code   : chr [1:46] \"YVP NB294\" \"YVP 203\" \"YVP N111\" \"YVP 144\" ...\n",
            " $ subplot     : int [1:46] 8 4 2 2 7 10 9 10 2 1 ...\n",
            " $ species_code: chr [1:46] \"MICGRA\" \"COLLIN\" \"DRAVER\" \"VERVER\" ...\n"
          ],
          "name": "stdout"
        }
      ]
    },
    {
      "cell_type": "code",
      "metadata": {
        "id": "2smHqF1olcUm",
        "colab_type": "code",
        "colab": {
          "base_uri": "https://localhost:8080/",
          "height": 34
        },
        "outputId": "aceebe23-8bf7-484d-fad1-92fb5c170706"
      },
      "source": [
        "nrow(distinct_doubles)"
      ],
      "execution_count": 393,
      "outputs": [
        {
          "output_type": "display_data",
          "data": {
            "text/plain": [
              "[1] 46"
            ],
            "text/latex": "46",
            "text/markdown": "46",
            "text/html": [
              "46"
            ]
          },
          "metadata": {
            "tags": []
          }
        }
      ]
    },
    {
      "cell_type": "code",
      "metadata": {
        "id": "KymT73qv9dwQ",
        "colab_type": "code",
        "colab": {
          "base_uri": "https://localhost:8080/",
          "height": 1000
        },
        "outputId": "2a529e76-f2eb-4fb3-f888-3ae042822534"
      },
      "source": [
        "for (row in 1:nrow(distinct_doubles)) {\n",
        "  dbl_ref <- distinct_doubles[row, ]\n",
        "  \n",
        "  # date, plot_code, species_code, subplot\n",
        "  selected_rows <- filter(df, date == dbl_ref$date &\n",
        "                        plot_code == dbl_ref$plot_code &\n",
        "                        species_code == dbl_ref$species_code &\n",
        "                        subplot == dbl_ref$subplot)\n",
        "                        \n",
        "  # identify indicies of duplicate observationos in original dataframe\n",
        "  selected_indices <- which(df$date == dbl_ref$date &\n",
        "                        df$plot_code == dbl_ref$plot_code &\n",
        "                        df$species_code == dbl_ref$species_code &\n",
        "                        df$subplot == dbl_ref$subplot)\n",
        "\n",
        "  # Display for Review\n",
        "  print(selected_rows)\n",
        "\n",
        "  # compare \"cover_pct\" observations for equality\n",
        "  if(var(selected_rows$cover_pct) == 0) {\n",
        "    print(\"EQUAL\")\n",
        "    # drop duplicate observation\n",
        "    df <- df[-c(last(selected_indices)), ]    \n",
        "  } else if (var(selected_rows$cover_pct) != 0) {\n",
        "    print(\"NOT EQUAL\")\n",
        "    # set first row \"cover_pct\" to NA\n",
        "    df[c(first(selected_indices)), ]$cover_pct = NA\n",
        "\n",
        "    # drop duplicate observation\n",
        "    df <- df[-c(last(selected_indices)), ]\n",
        "  }\n",
        "}"
      ],
      "execution_count": 394,
      "outputs": [
        {
          "output_type": "stream",
          "text": [
            "  plot_code plot_loc plot_rep plot_num       date subplot species_key\n",
            "1 YVP NB294        N        B      294 2017-05-08       8        <NA>\n",
            "2 YVP NB294        N        B      294 2017-05-08       8        <NA>\n",
            "  species_code cover_pct\n",
            "1       MICGRA         1\n",
            "2       MICGRA         1\n",
            "[1] \"EQUAL\"\n",
            "  plot_code plot_loc plot_rep plot_num       date subplot species_key\n",
            "1   YVP 203     <NA>     <NA>      203 2017-05-18       4        <NA>\n",
            "2   YVP 203     <NA>     <NA>      203 2017-05-18       4        <NA>\n",
            "  species_code cover_pct\n",
            "1       COLLIN        10\n",
            "2       COLLIN         1\n",
            "[1] \"NOT EQUAL\"\n",
            "  plot_code plot_loc plot_rep plot_num       date subplot species_key\n",
            "1  YVP N111        N     <NA>      111 2017-05-25       2        <NA>\n",
            "2  YVP N111        N     <NA>      111 2017-05-25       2        <NA>\n",
            "  species_code cover_pct\n",
            "1       DRAVER         1\n",
            "2       DRAVER         1\n",
            "[1] \"EQUAL\"\n",
            "  plot_code plot_loc plot_rep plot_num       date subplot species_key\n",
            "1   YVP 144     <NA>     <NA>      144 2017-05-30       2        <NA>\n",
            "2   YVP 144     <NA>     <NA>      144 2017-05-30       2        <NA>\n",
            "  species_code cover_pct\n",
            "1       VERVER         3\n",
            "2       VERVER         4\n",
            "[1] \"NOT EQUAL\"\n",
            "  plot_code plot_loc plot_rep plot_num       date subplot species_key\n",
            "1   YVP 180     <NA>     <NA>      180 2017-05-31       7        <NA>\n",
            "2   YVP 180     <NA>     <NA>      180 2017-05-31       7        <NA>\n",
            "  species_code cover_pct\n",
            "1       FRIPUD         1\n",
            "2       FRIPUD         1\n",
            "[1] \"EQUAL\"\n",
            "  plot_code plot_loc plot_rep plot_num       date subplot species_key\n",
            "1   YVP 355     <NA>     <NA>      355 2017-06-02      10        <NA>\n",
            "2   YVP 355     <NA>     <NA>      355 2017-06-02      10        <NA>\n",
            "  species_code cover_pct\n",
            "1       PSESPI        20\n",
            "2       PSESPI         2\n",
            "[1] \"NOT EQUAL\"\n",
            "  plot_code plot_loc plot_rep plot_num       date subplot species_key\n",
            "1    YVP 44     <NA>     <NA>       44 2017-06-06       9        <NA>\n",
            "2    YVP 44     <NA>     <NA>       44 2017-06-06       9        <NA>\n",
            "  species_code cover_pct\n",
            "1       ORTTEN         4\n",
            "2       ORTTEN         1\n",
            "[1] \"NOT EQUAL\"\n",
            "  plot_code plot_loc plot_rep plot_num       date subplot species_key\n",
            "1   YVP 144     <NA>     <NA>      144 2018-05-28      10        <NA>\n",
            "2   YVP 144     <NA>     <NA>      144 2018-05-28      10        <NA>\n",
            "  species_code cover_pct\n",
            "1       ACHMIL         5\n",
            "2       ACHMIL         5\n",
            "[1] \"EQUAL\"\n",
            "  plot_code plot_loc plot_rep plot_num       date subplot species_key\n",
            "1  YVP N278        N     <NA>      278 2018-05-28       2        <NA>\n",
            "2  YVP N278        N     <NA>      278 2018-05-28       2        <NA>\n",
            "  species_code cover_pct\n",
            "1       ARESER         2\n",
            "2       ARESER         1\n",
            "[1] \"NOT EQUAL\"\n",
            "  plot_code plot_loc plot_rep plot_num       date subplot species_key\n",
            "1  YVP N522        N     <NA>      522 2018-05-28       1        <NA>\n",
            "2  YVP N522        N     <NA>      522 2018-05-28       1        <NA>\n",
            "  species_code cover_pct\n",
            "1       LITRUD        10\n",
            "2       LITRUD         1\n",
            "[1] \"NOT EQUAL\"\n",
            "  plot_code plot_loc plot_rep plot_num       date subplot species_key\n",
            "1   YVP 184     <NA>     <NA>      184 2018-05-30       4        <NA>\n",
            "2   YVP 184     <NA>     <NA>      184 2018-05-30       4        <NA>\n",
            "  species_code cover_pct\n",
            "1       HOLUMB         1\n",
            "2       HOLUMB         2\n",
            "[1] \"NOT EQUAL\"\n",
            "  plot_code plot_loc plot_rep plot_num       date subplot species_key\n",
            "1   YVP 185     <NA>     <NA>      185 2018-05-30       1        <NA>\n",
            "2   YVP 185     <NA>     <NA>      185 2018-05-30       1        <NA>\n",
            "  species_code cover_pct\n",
            "1       DRAVER         1\n",
            "2       DRAVER         1\n",
            "[1] \"EQUAL\"\n",
            "  plot_code plot_loc plot_rep plot_num       date subplot species_key\n",
            "1   YVP 185     <NA>     <NA>      185 2018-05-30       1        <NA>\n",
            "2   YVP 185     <NA>     <NA>      185 2018-05-30       1        <NA>\n",
            "  species_code cover_pct\n",
            "1       FRIPUD         1\n",
            "2       FRIPUD         1\n",
            "[1] \"EQUAL\"\n",
            "  plot_code plot_loc plot_rep plot_num       date subplot species_key\n",
            "1   YVP 185     <NA>     <NA>      185 2018-05-30       1        <NA>\n",
            "2   YVP 185     <NA>     <NA>      185 2018-05-30       1        <NA>\n",
            "  species_code cover_pct\n",
            "1       MYOMIC         1\n",
            "2       MYOMIC         5\n",
            "[1] \"NOT EQUAL\"\n",
            "  plot_code plot_loc plot_rep plot_num       date subplot species_key\n",
            "1   YVP 185     <NA>     <NA>      185 2018-05-30       3        <NA>\n",
            "2   YVP 185     <NA>     <NA>      185 2018-05-30       3        <NA>\n",
            "  species_code cover_pct\n",
            "1       HOLUMB         1\n",
            "2       HOLUMB         1\n",
            "[1] \"EQUAL\"\n",
            "  plot_code plot_loc plot_rep plot_num       date subplot species_key\n",
            "1   YVP 185     <NA>     <NA>      185 2018-05-30       4        <NA>\n",
            "2   YVP 185     <NA>     <NA>      185 2018-05-30       4        <NA>\n",
            "  species_code cover_pct\n",
            "1       ARANUT         1\n",
            "2       ARANUT         1\n",
            "[1] \"EQUAL\"\n",
            "  plot_code plot_loc plot_rep plot_num       date subplot species_key\n",
            "1   YVP 185     <NA>     <NA>      185 2018-05-30       4        <NA>\n",
            "2   YVP 185     <NA>     <NA>      185 2018-05-30       4        <NA>\n",
            "  species_code cover_pct\n",
            "1       EPIBRA         1\n",
            "2       EPIBRA         1\n",
            "[1] \"EQUAL\"\n",
            "  plot_code plot_loc plot_rep plot_num       date subplot species_key\n",
            "1  YVP N110        N     <NA>      110 2018-05-30       5        <NA>\n",
            "2  YVP N110        N     <NA>      110 2018-05-30       5        <NA>\n",
            "  species_code cover_pct\n",
            "1       MYOMIC         1\n",
            "2       MYOMIC         1\n",
            "[1] \"EQUAL\"\n",
            "  plot_code plot_loc plot_rep plot_num       date subplot species_key\n",
            "1 YVP NB294        N        B      294 2018-05-30       8        <NA>\n",
            "2 YVP NB294        N        B      294 2018-05-30       8        <NA>\n",
            "  species_code cover_pct\n",
            "1       MICGRA         1\n",
            "2       MICGRA         1\n",
            "[1] \"EQUAL\"\n",
            "  plot_code plot_loc plot_rep plot_num       date subplot species_key\n",
            "1   YVP 112     <NA>     <NA>      112 2018-05-31       9        <NA>\n",
            "2   YVP 112     <NA>     <NA>      112 2018-05-31       9        <NA>\n",
            "  species_code cover_pct\n",
            "1       ALYALY        10\n",
            "2       ALYALY         5\n",
            "[1] \"NOT EQUAL\"\n",
            "  plot_code plot_loc plot_rep plot_num       date subplot species_key\n",
            "1   YVP 209     <NA>     <NA>      209 2018-05-31       5        <NA>\n",
            "2   YVP 209     <NA>     <NA>      209 2018-05-31       5        <NA>\n",
            "  species_code cover_pct\n",
            "1       ALYALY         1\n",
            "2       ALYALY         1\n",
            "[1] \"EQUAL\"\n",
            "  plot_code plot_loc plot_rep plot_num       date subplot species_key\n",
            "1   YVP 203     <NA>     <NA>      203 2018-06-04       4        <NA>\n",
            "2   YVP 203     <NA>     <NA>      203 2018-06-04       4        <NA>\n",
            "  species_code cover_pct\n",
            "1       COLLIN         0\n",
            "2       COLLIN         0\n",
            "[1] \"EQUAL\"\n",
            "  plot_code plot_loc plot_rep plot_num       date subplot species_key\n",
            "1   YVP 213     <NA>     <NA>      213 2018-06-04       4        <NA>\n",
            "2   YVP 213     <NA>     <NA>      213 2018-06-04       4        <NA>\n",
            "  species_code cover_pct\n",
            "1       ARIPUR         5\n",
            "2       ARIPUR         4\n",
            "[1] \"NOT EQUAL\"\n",
            "  plot_code plot_loc plot_rep plot_num       date subplot species_key\n",
            "1    YVP 56     <NA>     <NA>       56 2018-06-11       1        <NA>\n",
            "2    YVP 56     <NA>     <NA>       56 2018-06-11       1        <NA>\n",
            "  species_code cover_pct\n",
            "1       HOLUMB         1\n",
            "2       HOLUMB         1\n",
            "[1] \"EQUAL\"\n",
            "  plot_code plot_loc plot_rep plot_num       date subplot species_key\n",
            "1   YVP 355     <NA>     <NA>      355 2018-06-25       7        <NA>\n",
            "2   YVP 355     <NA>     <NA>      355 2018-06-25       7        <NA>\n",
            "  species_code cover_pct\n",
            "1       DODPUL         2\n",
            "2       DODPUL         3\n",
            "[1] \"NOT EQUAL\"\n",
            "  plot_code plot_loc plot_rep plot_num       date subplot species_key\n",
            "1  YVP N558        N     <NA>      558 2018-06-26       7        <NA>\n",
            "2  YVP N558        N     <NA>      558 2018-06-26       7        <NA>\n",
            "  species_code cover_pct\n",
            "1       COLLIN         1\n",
            "2       COLLIN         1\n",
            "[1] \"EQUAL\"\n",
            "  plot_code plot_loc plot_rep plot_num       date subplot species_key\n",
            "1   YVP 412     <NA>     <NA>      412 2018-07-02       9        <NA>\n",
            "2   YVP 412     <NA>     <NA>      412 2018-07-02       9        <NA>\n",
            "  species_code cover_pct\n",
            "1       MICGRA         1\n",
            "2       MICGRA         2\n",
            "[1] \"NOT EQUAL\"\n",
            "  plot_code plot_loc plot_rep plot_num       date subplot species_key\n",
            "1    YVP 62     <NA>     <NA>       62 2018-07-02       3        <NA>\n",
            "2    YVP 62     <NA>     <NA>       62 2018-07-02       3        <NA>\n",
            "  species_code cover_pct\n",
            "1       KOEMAC        35\n",
            "2       KOEMAC         1\n",
            "[1] \"NOT EQUAL\"\n",
            "  plot_code plot_loc plot_rep plot_num       date subplot species_key\n",
            "1    YVP 62     <NA>     <NA>       62 2018-07-02       4        <NA>\n",
            "2    YVP 62     <NA>     <NA>       62 2018-07-02       4        <NA>\n",
            "  species_code cover_pct\n",
            "1       HOLUMB         1\n",
            "2       HOLUMB         1\n",
            "[1] \"EQUAL\"\n",
            "  plot_code plot_loc plot_rep plot_num       date subplot species_key\n",
            "1    YVP 62     <NA>     <NA>       62 2018-07-02       8        <NA>\n",
            "2    YVP 62     <NA>     <NA>       62 2018-07-02       8        <NA>\n",
            "  species_code cover_pct\n",
            "1       ORTTEN         1\n",
            "2       ORTTEN         1\n",
            "[1] \"EQUAL\"\n",
            "  plot_code plot_loc plot_rep plot_num       date subplot species_key\n",
            "1  YVP N501        N     <NA>      501 2018-07-09      10        <NA>\n",
            "2  YVP N501        N     <NA>      501 2018-07-09      10        <NA>\n",
            "  species_code cover_pct\n",
            "1       ARECON         1\n",
            "2       ARECON         1\n",
            "[1] \"EQUAL\"\n",
            "  plot_code plot_loc plot_rep plot_num       date subplot species_key\n",
            "1    YVP 12     <NA>     <NA>       12 2018-07-10       4        <NA>\n",
            "2    YVP 12     <NA>     <NA>       12 2018-07-10       4        <NA>\n",
            "  species_code cover_pct\n",
            "1       HOLUMB         1\n",
            "2       HOLUMB         1\n",
            "[1] \"EQUAL\"\n",
            "  plot_code plot_loc plot_rep plot_num       date subplot species_key\n",
            "1    YVP 20     <NA>     <NA>       20 2018-07-12       2        <NA>\n",
            "2    YVP 20     <NA>     <NA>       20 2018-07-12       2        <NA>\n",
            "  species_code cover_pct\n",
            "1       VERVER         3\n",
            "2       VERVER         3\n",
            "[1] \"EQUAL\"\n",
            "  plot_code plot_loc plot_rep plot_num       date subplot species_key\n",
            "1    YVP 22     <NA>     <NA>       22 2018-07-12       2        <NA>\n",
            "2    YVP 22     <NA>     <NA>       22 2018-07-12       2        <NA>\n",
            "  species_code cover_pct\n",
            "1       FESCAM         1\n",
            "2       FESCAM         1\n",
            "[1] \"EQUAL\"\n",
            "  plot_code plot_loc plot_rep plot_num       date subplot species_key\n",
            "1 YVP NC294        N        C      294 2019-05-09       4        <NA>\n",
            "2 YVP NC294        N        C      294 2019-05-09       4        <NA>\n",
            "  species_code cover_pct\n",
            "1       MYOMIC         1\n",
            "2       MYOMIC         1\n",
            "[1] \"EQUAL\"\n",
            "  plot_code plot_loc plot_rep plot_num       date subplot species_key\n",
            "1 YVP NC294        N        C      294 2019-05-09       6        <NA>\n",
            "2 YVP NC294        N        C      294 2019-05-09       6        <NA>\n",
            "  species_code cover_pct\n",
            "1       ERIPUM         1\n",
            "2       ERIPUM         2\n",
            "[1] \"NOT EQUAL\"\n",
            "  plot_code plot_loc plot_rep plot_num       date subplot species_key\n",
            "1   YVP 209     <NA>     <NA>      209 2019-05-23       5        <NA>\n",
            "2   YVP 209     <NA>     <NA>      209 2019-05-23       5        <NA>\n",
            "  species_code cover_pct\n",
            "1       ASTINF         1\n",
            "2       ASTINF         1\n",
            "[1] \"EQUAL\"\n",
            "  plot_code plot_loc plot_rep plot_num       date subplot species_key\n",
            "1  YVP N111        N     <NA>      111 2019-05-23       3        <NA>\n",
            "2  YVP N111        N     <NA>      111 2019-05-23       3        <NA>\n",
            "  species_code cover_pct\n",
            "1       EPIBRA         1\n",
            "2       EPIBRA         1\n",
            "[1] \"EQUAL\"\n",
            "  plot_code plot_loc plot_rep plot_num       date subplot species_key\n",
            "1  YVP N501        N     <NA>      501 2019-05-30       1        <NA>\n",
            "2  YVP N501        N     <NA>      501 2019-05-30       1        <NA>\n",
            "  species_code cover_pct\n",
            "1       FRIPUD         2\n",
            "2       FRIPUD         2\n",
            "[1] \"EQUAL\"\n",
            "  plot_code plot_loc plot_rep plot_num       date subplot species_key\n",
            "1   YVP 113     <NA>     <NA>      113 2019-06-10       4        <NA>\n",
            "2   YVP 113     <NA>     <NA>      113 2019-06-10       4        <NA>\n",
            "  species_code cover_pct\n",
            "1       DRAVER         4\n",
            "2       DRAVER         5\n",
            "[1] \"NOT EQUAL\"\n",
            "  plot_code plot_loc plot_rep plot_num       date subplot species_key\n",
            "1   YVP 180     <NA>     <NA>      180 2019-06-10       8        <NA>\n",
            "2   YVP 180     <NA>     <NA>      180 2019-06-10       8        <NA>\n",
            "  species_code cover_pct\n",
            "1       PLAPAT         1\n",
            "2       PLAPAT         1\n",
            "[1] \"EQUAL\"\n",
            "  plot_code plot_loc plot_rep plot_num       date subplot species_key\n",
            "1  YVP N158        N     <NA>      158 2019-06-17       3        <NA>\n",
            "2  YVP N158        N     <NA>      158 2019-06-17       3        <NA>\n",
            "  species_code cover_pct\n",
            "1       EPIBRA         1\n",
            "2       EPIBRA         1\n",
            "[1] \"EQUAL\"\n",
            "  plot_code plot_loc plot_rep plot_num       date subplot species_key\n",
            "1  YVP N158        N     <NA>      158 2019-06-17       4        <NA>\n",
            "2  YVP N158        N     <NA>      158 2019-06-17       4        <NA>\n",
            "  species_code cover_pct\n",
            "1       EPIBRA         1\n",
            "2       EPIBRA         1\n",
            "[1] \"EQUAL\"\n",
            "  plot_code plot_loc plot_rep plot_num       date subplot species_key\n",
            "1  YVP N386        N     <NA>      386 2019-07-01       1        <NA>\n",
            "2  YVP N386        N     <NA>      386 2019-07-01       1        <NA>\n",
            "  species_code cover_pct\n",
            "1       EPIBRA         1\n",
            "2       EPIBRA         1\n",
            "[1] \"EQUAL\"\n",
            "  plot_code plot_loc plot_rep plot_num       date subplot species_key\n",
            "1  YVP N348        N     <NA>      348 2019-07-05       5        <NA>\n",
            "2  YVP N348        N     <NA>      348 2019-07-05       5        <NA>\n",
            "  species_code cover_pct\n",
            "1       CIRARV         5\n",
            "2       CIRARV        10\n",
            "[1] \"NOT EQUAL\"\n",
            "  plot_code plot_loc plot_rep plot_num       date subplot species_key\n",
            "1   YVP 468     <NA>     <NA>      468 2019-07-16       2        <NA>\n",
            "2   YVP 468     <NA>     <NA>      468 2019-07-16       2        <NA>\n",
            "  species_code cover_pct\n",
            "1      UNKN SP         1\n",
            "2      UNKN SP         5\n",
            "[1] \"NOT EQUAL\"\n"
          ],
          "name": "stdout"
        }
      ]
    },
    {
      "cell_type": "code",
      "metadata": {
        "id": "-kEiYsIkjKOQ",
        "colab_type": "code",
        "colab": {
          "base_uri": "https://localhost:8080/",
          "height": 187
        },
        "outputId": "5893af8b-ac60-480a-b6bb-b718e76d1bf7"
      },
      "source": [
        "str(df)"
      ],
      "execution_count": 395,
      "outputs": [
        {
          "output_type": "stream",
          "text": [
            "'data.frame':\t21682 obs. of  9 variables:\n",
            " $ plot_code   : chr  \"YVP 10\" \"YVP 10\" \"YVP 10\" \"YVP 10\" ...\n",
            " $ plot_loc    : chr  NA NA NA NA ...\n",
            " $ plot_rep    : chr  NA NA NA NA ...\n",
            " $ plot_num    : chr  \"10\" \"10\" \"10\" \"10\" ...\n",
            " $ date        : Date, format: \"2017-06-09\" \"2017-06-09\" ...\n",
            " $ subplot     : int  1 1 1 1 1 1 1 1 1 1 ...\n",
            " $ species_key : chr  NA NA NA NA ...\n",
            " $ species_code: chr  \"BOESPP\" \"CREINT\" \"EUPESU\" \"FESCAM\" ...\n",
            " $ cover_pct   : int  1 1 5 25 25 10 1 1 5 1 ...\n"
          ],
          "name": "stdout"
        }
      ]
    },
    {
      "cell_type": "code",
      "metadata": {
        "id": "gIQGGEI5izjG",
        "colab_type": "code",
        "colab": {
          "base_uri": "https://localhost:8080/",
          "height": 68
        },
        "outputId": "6c0dad44-209f-4174-954c-e388c24e1906"
      },
      "source": [
        "# rescan for double observations\n",
        "# Find instances where a plant species is counted twice in the same year-plot-subplot combination\n",
        "dbl_recount <- df %>%\n",
        "  group_by(year = as.numeric(substring(date,0,4)), plot_code, subplot, species_code) %>%\n",
        "  summarize(counted = n()) %>% \n",
        "  ungroup() %>%\n",
        "  arrange(year, plot_code, subplot, desc(counted)) %>%\n",
        "  filter(counted > 1) %>%\n",
        "  print(n=Inf)"
      ],
      "execution_count": 396,
      "outputs": [
        {
          "output_type": "stream",
          "text": [
            "\u001b[90m# A tibble: 0 x 5\u001b[39m\n",
            "\u001b[90m# … with 5 variables: year \u001b[3m\u001b[90m<dbl>\u001b[90m\u001b[23m, plot_code \u001b[3m\u001b[90m<chr>\u001b[90m\u001b[23m, subplot \u001b[3m\u001b[90m<int>\u001b[90m\u001b[23m,\u001b[39m\n",
            "\u001b[90m#   species_code \u001b[3m\u001b[90m<chr>\u001b[90m\u001b[23m, counted \u001b[3m\u001b[90m<int>\u001b[90m\u001b[23m\u001b[39m\n"
          ],
          "name": "stdout"
        }
      ]
    },
    {
      "cell_type": "code",
      "metadata": {
        "id": "QbJO0zRemgt0",
        "colab_type": "code",
        "colab": {
          "base_uri": "https://localhost:8080/",
          "height": 1000
        },
        "outputId": "34e8e721-7b7f-431e-ce4a-1709c3076ab2"
      },
      "source": [
        "# display previously duplicated plots for review\n",
        "for (row in 1:nrow(distinct_doubles)) {\n",
        "  dbl_ref <- distinct_doubles[row, ]\n",
        "\n",
        "  # date, plot_code, species_code, subplot\n",
        "  selected_rows <- filter(df, date == dbl_ref$date &\n",
        "                        plot_code == dbl_ref$plot_code &\n",
        "                        species_code == dbl_ref$species_code &\n",
        "                        subplot == dbl_ref$subplot)\n",
        "  print(selected_rows[,c(1,5,6,8,9)])\n",
        "}"
      ],
      "execution_count": 409,
      "outputs": [
        {
          "output_type": "stream",
          "text": [
            "  plot_code       date subplot species_code cover_pct\n",
            "1 YVP NB294 2017-05-08       8       MICGRA         1\n",
            "  plot_code       date subplot species_code cover_pct\n",
            "1   YVP 203 2017-05-18       4       COLLIN        NA\n",
            "  plot_code       date subplot species_code cover_pct\n",
            "1  YVP N111 2017-05-25       2       DRAVER         1\n",
            "  plot_code       date subplot species_code cover_pct\n",
            "1   YVP 144 2017-05-30       2       VERVER        NA\n",
            "  plot_code       date subplot species_code cover_pct\n",
            "1   YVP 180 2017-05-31       7       FRIPUD         1\n",
            "  plot_code       date subplot species_code cover_pct\n",
            "1   YVP 355 2017-06-02      10       PSESPI        NA\n",
            "  plot_code       date subplot species_code cover_pct\n",
            "1    YVP 44 2017-06-06       9       ORTTEN        NA\n",
            "  plot_code       date subplot species_code cover_pct\n",
            "1   YVP 144 2018-05-28      10       ACHMIL         5\n",
            "  plot_code       date subplot species_code cover_pct\n",
            "1  YVP N278 2018-05-28       2       ARESER        NA\n",
            "  plot_code       date subplot species_code cover_pct\n",
            "1  YVP N522 2018-05-28       1       LITRUD        NA\n",
            "  plot_code       date subplot species_code cover_pct\n",
            "1   YVP 184 2018-05-30       4       HOLUMB        NA\n",
            "  plot_code       date subplot species_code cover_pct\n",
            "1   YVP 185 2018-05-30       1       DRAVER         1\n",
            "  plot_code       date subplot species_code cover_pct\n",
            "1   YVP 185 2018-05-30       1       FRIPUD         1\n",
            "  plot_code       date subplot species_code cover_pct\n",
            "1   YVP 185 2018-05-30       1       MYOMIC        NA\n",
            "  plot_code       date subplot species_code cover_pct\n",
            "1   YVP 185 2018-05-30       3       HOLUMB         1\n",
            "  plot_code       date subplot species_code cover_pct\n",
            "1   YVP 185 2018-05-30       4       ARANUT         1\n",
            "  plot_code       date subplot species_code cover_pct\n",
            "1   YVP 185 2018-05-30       4       EPIBRA         1\n",
            "  plot_code       date subplot species_code cover_pct\n",
            "1  YVP N110 2018-05-30       5       MYOMIC         1\n",
            "  plot_code       date subplot species_code cover_pct\n",
            "1 YVP NB294 2018-05-30       8       MICGRA         1\n",
            "  plot_code       date subplot species_code cover_pct\n",
            "1   YVP 112 2018-05-31       9       ALYALY        NA\n",
            "  plot_code       date subplot species_code cover_pct\n",
            "1   YVP 209 2018-05-31       5       ALYALY         1\n",
            "  plot_code       date subplot species_code cover_pct\n",
            "1   YVP 203 2018-06-04       4       COLLIN         0\n",
            "  plot_code       date subplot species_code cover_pct\n",
            "1   YVP 213 2018-06-04       4       ARIPUR        NA\n",
            "  plot_code       date subplot species_code cover_pct\n",
            "1    YVP 56 2018-06-11       1       HOLUMB         1\n",
            "  plot_code       date subplot species_code cover_pct\n",
            "1   YVP 355 2018-06-25       7       DODPUL        NA\n",
            "  plot_code       date subplot species_code cover_pct\n",
            "1  YVP N558 2018-06-26       7       COLLIN         1\n",
            "  plot_code       date subplot species_code cover_pct\n",
            "1   YVP 412 2018-07-02       9       MICGRA        NA\n",
            "  plot_code       date subplot species_code cover_pct\n",
            "1    YVP 62 2018-07-02       3       KOEMAC        NA\n",
            "  plot_code       date subplot species_code cover_pct\n",
            "1    YVP 62 2018-07-02       4       HOLUMB         1\n",
            "  plot_code       date subplot species_code cover_pct\n",
            "1    YVP 62 2018-07-02       8       ORTTEN         1\n",
            "  plot_code       date subplot species_code cover_pct\n",
            "1  YVP N501 2018-07-09      10       ARECON         1\n",
            "  plot_code       date subplot species_code cover_pct\n",
            "1    YVP 12 2018-07-10       4       HOLUMB         1\n",
            "  plot_code       date subplot species_code cover_pct\n",
            "1    YVP 20 2018-07-12       2       VERVER         3\n",
            "  plot_code       date subplot species_code cover_pct\n",
            "1    YVP 22 2018-07-12       2       FESCAM         1\n",
            "  plot_code       date subplot species_code cover_pct\n",
            "1 YVP NC294 2019-05-09       4       MYOMIC         1\n",
            "  plot_code       date subplot species_code cover_pct\n",
            "1 YVP NC294 2019-05-09       6       ERIPUM        NA\n",
            "  plot_code       date subplot species_code cover_pct\n",
            "1   YVP 209 2019-05-23       5       ASTINF         1\n",
            "  plot_code       date subplot species_code cover_pct\n",
            "1  YVP N111 2019-05-23       3       EPIBRA         1\n",
            "  plot_code       date subplot species_code cover_pct\n",
            "1  YVP N501 2019-05-30       1       FRIPUD         2\n",
            "  plot_code       date subplot species_code cover_pct\n",
            "1   YVP 113 2019-06-10       4       DRAVER        NA\n",
            "  plot_code       date subplot species_code cover_pct\n",
            "1   YVP 180 2019-06-10       8       PLAPAT         1\n",
            "  plot_code       date subplot species_code cover_pct\n",
            "1  YVP N158 2019-06-17       3       EPIBRA         1\n",
            "  plot_code       date subplot species_code cover_pct\n",
            "1  YVP N158 2019-06-17       4       EPIBRA         1\n",
            "  plot_code       date subplot species_code cover_pct\n",
            "1  YVP N386 2019-07-01       1       EPIBRA         1\n",
            "  plot_code       date subplot species_code cover_pct\n",
            "1  YVP N348 2019-07-05       5       CIRARV        NA\n",
            "  plot_code       date subplot species_code cover_pct\n",
            "1   YVP 468 2019-07-16       2      UNKN SP        NA\n"
          ],
          "name": "stdout"
        }
      ]
    },
    {
      "cell_type": "markdown",
      "metadata": {
        "id": "wZedeWaU7qty",
        "colab_type": "text"
      },
      "source": [
        "### Export View Doubles"
      ]
    },
    {
      "cell_type": "code",
      "metadata": {
        "id": "FKRdVva67thP",
        "colab_type": "code",
        "colab": {}
      },
      "source": [
        "write.csv(view_doubles, 'view_doubles.csv')"
      ],
      "execution_count": 0,
      "outputs": []
    }
  ]
}