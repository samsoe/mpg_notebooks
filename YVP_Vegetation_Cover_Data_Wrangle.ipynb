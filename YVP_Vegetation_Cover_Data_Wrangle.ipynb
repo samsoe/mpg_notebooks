{
  "nbformat": 4,
  "nbformat_minor": 0,
  "metadata": {
    "colab": {
      "name": "YVP - Vegetation Cover Data - Wrangle",
      "provenance": [],
      "collapsed_sections": [],
      "toc_visible": true,
      "include_colab_link": true
    },
    "kernelspec": {
      "name": "ir",
      "display_name": "R"
    }
  },
  "cells": [
    {
      "cell_type": "markdown",
      "metadata": {
        "id": "view-in-github",
        "colab_type": "text"
      },
      "source": [
        "<a href=\"https://colab.research.google.com/github/samsoe/mpg_notebooks/blob/master/YVP_Vegetation_Cover_Data_Wrangle.ipynb\" target=\"_parent\"><img src=\"https://colab.research.google.com/assets/colab-badge.svg\" alt=\"Open In Colab\"/></a>"
      ]
    },
    {
      "cell_type": "markdown",
      "metadata": {
        "id": "sLoATLEdI-hh"
      },
      "source": [
        "*R Notebook*"
      ]
    },
    {
      "cell_type": "markdown",
      "metadata": {
        "id": "YZbGHbTzJQrV"
      },
      "source": [
        "# README"
      ]
    },
    {
      "cell_type": "markdown",
      "metadata": {
        "id": "G095KjDNJS6E"
      },
      "source": [
        "* [Readme fixed grid plot vegetation data](https://docs.google.com/document/d/16-Aq8u9Rudd78fSzfjvpCXyQgE-BstC-d2PjYfmLtcw/edit?usp=sharing)"
      ]
    },
    {
      "cell_type": "markdown",
      "metadata": {
        "id": "DTleZaOpPUo-"
      },
      "source": [
        "# Load Tools"
      ]
    },
    {
      "cell_type": "code",
      "metadata": {
        "id": "nQA2WSBCPXuD",
        "outputId": "71c96aee-21fb-43e4-f740-aeaa464b7198",
        "colab": {
          "base_uri": "https://localhost:8080/"
        }
      },
      "source": [
        "# Package and library installation\n",
        "packages_needed = c(\"tidyverse\", \"gsheet\") # comma delimited vector of package names\n",
        "packages_installed = packages_needed %in% rownames(installed.packages())\n",
        "\n",
        "if (any(! packages_installed))\n",
        "  install.packages(packages_needed[! packages_installed])\n",
        "for (i in 1:length(packages_needed)) {\n",
        "  library(packages_needed[i], character.only = T)\n",
        "}"
      ],
      "execution_count": null,
      "outputs": [
        {
          "output_type": "stream",
          "text": [
            "Installing package into ‘/usr/local/lib/R/site-library’\n",
            "(as ‘lib’ is unspecified)\n",
            "\n",
            "── \u001b[1mAttaching packages\u001b[22m ─────────────────────────────────────── tidyverse 1.3.0 ──\n",
            "\n",
            "\u001b[32m✔\u001b[39m \u001b[34mggplot2\u001b[39m 3.3.2     \u001b[32m✔\u001b[39m \u001b[34mpurrr  \u001b[39m 0.3.4\n",
            "\u001b[32m✔\u001b[39m \u001b[34mtibble \u001b[39m 3.0.4     \u001b[32m✔\u001b[39m \u001b[34mdplyr  \u001b[39m 1.0.2\n",
            "\u001b[32m✔\u001b[39m \u001b[34mtidyr  \u001b[39m 1.1.2     \u001b[32m✔\u001b[39m \u001b[34mstringr\u001b[39m 1.4.0\n",
            "\u001b[32m✔\u001b[39m \u001b[34mreadr  \u001b[39m 1.4.0     \u001b[32m✔\u001b[39m \u001b[34mforcats\u001b[39m 0.5.0\n",
            "\n",
            "── \u001b[1mConflicts\u001b[22m ────────────────────────────────────────── tidyverse_conflicts() ──\n",
            "\u001b[31m✖\u001b[39m \u001b[34mdplyr\u001b[39m::\u001b[32mfilter()\u001b[39m masks \u001b[34mstats\u001b[39m::filter()\n",
            "\u001b[31m✖\u001b[39m \u001b[34mdplyr\u001b[39m::\u001b[32mlag()\u001b[39m    masks \u001b[34mstats\u001b[39m::lag()\n",
            "\n"
          ],
          "name": "stderr"
        }
      ]
    },
    {
      "cell_type": "markdown",
      "metadata": {
        "id": "RKBdNw56BzwD"
      },
      "source": [
        "# Source"
      ]
    },
    {
      "cell_type": "code",
      "metadata": {
        "id": "X9t3Ks1oB3gG"
      },
      "source": [
        "# 2020-04-28_yvp_vegetation_cover\n",
        "src = 'https://drive.google.com/uc?id=1pemnlKIlfAQw2JSMN7yDlYMG5QhUW-NP'"
      ],
      "execution_count": null,
      "outputs": []
    },
    {
      "cell_type": "code",
      "metadata": {
        "id": "fvU8xi8iB4SI"
      },
      "source": [
        "df <- read.csv(file = src)"
      ],
      "execution_count": null,
      "outputs": []
    },
    {
      "cell_type": "code",
      "metadata": {
        "id": "YDY7IDdmB4PN",
        "outputId": "99ce9476-4216-4f6d-a688-361e281fed32",
        "colab": {
          "base_uri": "https://localhost:8080/",
          "height": 120
        }
      },
      "source": [
        "head(df, n=2)"
      ],
      "execution_count": null,
      "outputs": [
        {
          "output_type": "display_data",
          "data": {
            "text/plain": [
              "  plot_code date       subplot species_code cover_pct\n",
              "1 YVP 10    2017-06-09 1       BOESPP       1        \n",
              "2 YVP 10    2017-06-09 1       CREINT       1        "
            ],
            "text/latex": "A data.frame: 2 × 5\n\\begin{tabular}{r|lllll}\n  & plot\\_code & date & subplot & species\\_code & cover\\_pct\\\\\n  & <chr> & <chr> & <int> & <chr> & <int>\\\\\n\\hline\n\t1 & YVP 10 & 2017-06-09 & 1 & BOESPP & 1\\\\\n\t2 & YVP 10 & 2017-06-09 & 1 & CREINT & 1\\\\\n\\end{tabular}\n",
            "text/markdown": "\nA data.frame: 2 × 5\n\n| <!--/--> | plot_code &lt;chr&gt; | date &lt;chr&gt; | subplot &lt;int&gt; | species_code &lt;chr&gt; | cover_pct &lt;int&gt; |\n|---|---|---|---|---|---|\n| 1 | YVP 10 | 2017-06-09 | 1 | BOESPP | 1 |\n| 2 | YVP 10 | 2017-06-09 | 1 | CREINT | 1 |\n\n",
            "text/html": [
              "<table>\n",
              "<caption>A data.frame: 2 × 5</caption>\n",
              "<thead>\n",
              "\t<tr><th></th><th scope=col>plot_code</th><th scope=col>date</th><th scope=col>subplot</th><th scope=col>species_code</th><th scope=col>cover_pct</th></tr>\n",
              "\t<tr><th></th><th scope=col>&lt;chr&gt;</th><th scope=col>&lt;chr&gt;</th><th scope=col>&lt;int&gt;</th><th scope=col>&lt;chr&gt;</th><th scope=col>&lt;int&gt;</th></tr>\n",
              "</thead>\n",
              "<tbody>\n",
              "\t<tr><th scope=row>1</th><td>YVP 10</td><td>2017-06-09</td><td>1</td><td>BOESPP</td><td>1</td></tr>\n",
              "\t<tr><th scope=row>2</th><td>YVP 10</td><td>2017-06-09</td><td>1</td><td>CREINT</td><td>1</td></tr>\n",
              "</tbody>\n",
              "</table>\n"
            ]
          },
          "metadata": {
            "tags": []
          }
        }
      ]
    },
    {
      "cell_type": "markdown",
      "metadata": {
        "id": "hH-_99bsKRVn"
      },
      "source": [
        "# Wrangle"
      ]
    },
    {
      "cell_type": "markdown",
      "metadata": {
        "id": "P_3Rq2-4OVsJ"
      },
      "source": [
        "## Structure columns"
      ]
    },
    {
      "cell_type": "markdown",
      "metadata": {
        "id": "v3OVKR2zFNXG"
      },
      "source": [
        "### Plot Code Transformation\n",
        "The plot code used in the source data is a complex string. It is needed to provide a unique key to each survey location, but because it is a string it is difficult to sort or filter plots. Further, the plot codes used here will be difficult to associate with the extensive grid point metadata stored elsewhere in the MPG Data Warehouse. \n",
        "\n",
        "Solution: paste the separate identifers from the plot code into separate fields, but retain the original character string for internal use."
      ]
    },
    {
      "cell_type": "markdown",
      "metadata": {
        "id": "801b78aYKc5B"
      },
      "source": [
        "#### plot_code"
      ]
    },
    {
      "cell_type": "code",
      "metadata": {
        "id": "ky8xiSEzKSCb"
      },
      "source": [
        "# convert to string\n",
        "df$plot_code <- as.character(df$plot_code)"
      ],
      "execution_count": null,
      "outputs": []
    },
    {
      "cell_type": "markdown",
      "metadata": {
        "id": "L2yzHLKuP4oz"
      },
      "source": [
        "#### plot_ loc"
      ]
    },
    {
      "cell_type": "code",
      "metadata": {
        "id": "x42pThVsQeuS"
      },
      "source": [
        "# detect \"N\" in 'plot_code' and write to new column 'plot_loc'\n",
        "df <- df %>%\n",
        "  mutate(plot_loc = ifelse(str_detect(plot_code, \"N\"), \"N\", NA))"
      ],
      "execution_count": null,
      "outputs": []
    },
    {
      "cell_type": "code",
      "metadata": {
        "id": "yihV0YgNVpEt"
      },
      "source": [
        "# reorder columns\n",
        "df <- df[,c(1,6,2,3,4,5)]"
      ],
      "execution_count": null,
      "outputs": []
    },
    {
      "cell_type": "markdown",
      "metadata": {
        "id": "0FWBUqUqWSNm"
      },
      "source": [
        "#### plot_rep"
      ]
    },
    {
      "cell_type": "code",
      "metadata": {
        "id": "qNVlve_WWY9a"
      },
      "source": [
        "# detect \"A\", \"B\", \"C\" characters in plot_code and if present write to 'plot_rep'\n",
        "df <- df %>%\n",
        "  mutate(plot_rep = case_when(str_detect(plot_code, \"A\")~\"A\",\n",
        "                              str_detect(plot_code, \"B\")~\"B\",\n",
        "                              str_detect(plot_code, \"C\")~\"C\"))"
      ],
      "execution_count": null,
      "outputs": []
    },
    {
      "cell_type": "code",
      "metadata": {
        "id": "vRxYtG1eYPbf"
      },
      "source": [
        "# reorder columns\n",
        "df <- df[,c(1,2,7,3,4,5,6)]"
      ],
      "execution_count": null,
      "outputs": []
    },
    {
      "cell_type": "markdown",
      "metadata": {
        "id": "R8DYL00Fb0Lu"
      },
      "source": [
        "#### plot_num"
      ]
    },
    {
      "cell_type": "code",
      "metadata": {
        "id": "GB_RxW35YO39"
      },
      "source": [
        "# use digital values from 'plot_code' and to populate 'plot_num'\n",
        "df <- df %>%\n",
        "  mutate(plot_num = str_extract(plot_code, \"[:digit:].*\"),\n",
        "         plot_num = as.integer(plot_num))"
      ],
      "execution_count": null,
      "outputs": []
    },
    {
      "cell_type": "code",
      "metadata": {
        "id": "pQUe2ZVzYO1J"
      },
      "source": [
        "# reorder columns\n",
        "df <- df[,c(1,2,3,8,4,5,6,7)]"
      ],
      "execution_count": null,
      "outputs": []
    },
    {
      "cell_type": "markdown",
      "metadata": {
        "id": "ULsKFbhjNZ3p"
      },
      "source": [
        "### date"
      ]
    },
    {
      "cell_type": "code",
      "metadata": {
        "id": "qJREtrbNNBro"
      },
      "source": [
        "# convert to date\n",
        "df$date <- as.Date(df$date)"
      ],
      "execution_count": null,
      "outputs": []
    },
    {
      "cell_type": "markdown",
      "metadata": {
        "id": "uRiMTPiIpiFj"
      },
      "source": [
        "### subplot"
      ]
    },
    {
      "cell_type": "code",
      "metadata": {
        "id": "Dr40XXIQpje1"
      },
      "source": [
        "# convert to integer\n",
        "df$subplot <- as.integer(df$subplot)"
      ],
      "execution_count": null,
      "outputs": []
    },
    {
      "cell_type": "markdown",
      "metadata": {
        "id": "H_G-7PpcpTP8"
      },
      "source": [
        "### species_key"
      ]
    },
    {
      "cell_type": "markdown",
      "metadata": {
        "id": "4wgbJusKpZWd"
      },
      "source": [
        "This will be imported from the plant species metadata table, and we can use it to join and correct species codes in the future. But because joining the key to the species codes will require that the codes be corrected first, we will skip this step for now.\n"
      ]
    },
    {
      "cell_type": "markdown",
      "metadata": {
        "id": "d7RW6V3ZWGmg"
      },
      "source": [
        "### species_code"
      ]
    },
    {
      "cell_type": "code",
      "metadata": {
        "id": "1CmtWg-EWIDc"
      },
      "source": [
        "# convert to string\n",
        "df$species_code <- as.character(df$species_code)"
      ],
      "execution_count": null,
      "outputs": []
    },
    {
      "cell_type": "code",
      "metadata": {
        "id": "sAQb5D1gt3L6",
        "outputId": "b3b19f25-ce59-47a4-a955-a12d82bdbfee",
        "colab": {
          "base_uri": "https://localhost:8080/",
          "height": 120
        }
      },
      "source": [
        "head(df, n=2)"
      ],
      "execution_count": null,
      "outputs": [
        {
          "output_type": "display_data",
          "data": {
            "text/plain": [
              "  plot_code plot_loc plot_rep plot_num date       subplot species_code\n",
              "1 YVP 10    NA       NA       10       2017-06-09 1       BOESPP      \n",
              "2 YVP 10    NA       NA       10       2017-06-09 1       CREINT      \n",
              "  cover_pct\n",
              "1 1        \n",
              "2 1        "
            ],
            "text/latex": "A data.frame: 2 × 8\n\\begin{tabular}{r|llllllll}\n  & plot\\_code & plot\\_loc & plot\\_rep & plot\\_num & date & subplot & species\\_code & cover\\_pct\\\\\n  & <chr> & <chr> & <chr> & <int> & <date> & <int> & <chr> & <int>\\\\\n\\hline\n\t1 & YVP 10 & NA & NA & 10 & 2017-06-09 & 1 & BOESPP & 1\\\\\n\t2 & YVP 10 & NA & NA & 10 & 2017-06-09 & 1 & CREINT & 1\\\\\n\\end{tabular}\n",
            "text/markdown": "\nA data.frame: 2 × 8\n\n| <!--/--> | plot_code &lt;chr&gt; | plot_loc &lt;chr&gt; | plot_rep &lt;chr&gt; | plot_num &lt;int&gt; | date &lt;date&gt; | subplot &lt;int&gt; | species_code &lt;chr&gt; | cover_pct &lt;int&gt; |\n|---|---|---|---|---|---|---|---|---|\n| 1 | YVP 10 | NA | NA | 10 | 2017-06-09 | 1 | BOESPP | 1 |\n| 2 | YVP 10 | NA | NA | 10 | 2017-06-09 | 1 | CREINT | 1 |\n\n",
            "text/html": [
              "<table>\n",
              "<caption>A data.frame: 2 × 8</caption>\n",
              "<thead>\n",
              "\t<tr><th></th><th scope=col>plot_code</th><th scope=col>plot_loc</th><th scope=col>plot_rep</th><th scope=col>plot_num</th><th scope=col>date</th><th scope=col>subplot</th><th scope=col>species_code</th><th scope=col>cover_pct</th></tr>\n",
              "\t<tr><th></th><th scope=col>&lt;chr&gt;</th><th scope=col>&lt;chr&gt;</th><th scope=col>&lt;chr&gt;</th><th scope=col>&lt;int&gt;</th><th scope=col>&lt;date&gt;</th><th scope=col>&lt;int&gt;</th><th scope=col>&lt;chr&gt;</th><th scope=col>&lt;int&gt;</th></tr>\n",
              "</thead>\n",
              "<tbody>\n",
              "\t<tr><th scope=row>1</th><td>YVP 10</td><td>NA</td><td>NA</td><td>10</td><td>2017-06-09</td><td>1</td><td>BOESPP</td><td>1</td></tr>\n",
              "\t<tr><th scope=row>2</th><td>YVP 10</td><td>NA</td><td>NA</td><td>10</td><td>2017-06-09</td><td>1</td><td>CREINT</td><td>1</td></tr>\n",
              "</tbody>\n",
              "</table>\n"
            ]
          },
          "metadata": {
            "tags": []
          }
        }
      ]
    },
    {
      "cell_type": "markdown",
      "metadata": {
        "id": "S5UZM86eOSi-"
      },
      "source": [
        "## Identify Double Counted Species\n",
        "In a few instances, a plant species is counted twice in the same survey subplot. This could inflate the cover reported for that species. In these cases, the desired end product is to have just one row for each. When the reported percent cover differs between repeated entries, we cannot tell which one is correct. We used the following algorithm to process these repeated or double counts:\n",
        "\n",
        "* If the cover_pct values are equal, simply delete one of the rows\n",
        "* If the cover_pct values are not equal, delete one of the rows and change cover_pct for the remaining one to NA"
      ]
    },
    {
      "cell_type": "code",
      "metadata": {
        "id": "S1zKtNFnjSp8",
        "outputId": "1a31c128-3059-40a4-b451-752a734a2cc0",
        "colab": {
          "base_uri": "https://localhost:8080/",
          "height": 170
        }
      },
      "source": [
        "str(df)"
      ],
      "execution_count": null,
      "outputs": [
        {
          "output_type": "stream",
          "text": [
            "'data.frame':\t21728 obs. of  8 variables:\n",
            " $ plot_code   : chr  \"YVP 10\" \"YVP 10\" \"YVP 10\" \"YVP 10\" ...\n",
            " $ plot_loc    : chr  NA NA NA NA ...\n",
            " $ plot_rep    : chr  NA NA NA NA ...\n",
            " $ plot_num    : int  10 10 10 10 10 10 10 10 10 10 ...\n",
            " $ date        : Date, format: \"2017-06-09\" \"2017-06-09\" ...\n",
            " $ subplot     : int  1 1 1 1 1 1 1 1 1 1 ...\n",
            " $ species_code: chr  \"BOESPP\" \"CREINT\" \"EUPESU\" \"FESCAM\" ...\n",
            " $ cover_pct   : int  1 1 5 25 25 10 1 1 5 1 ...\n"
          ],
          "name": "stdout"
        }
      ]
    },
    {
      "cell_type": "code",
      "metadata": {
        "id": "94AhZCRwAaOw",
        "outputId": "0ebf9289-1707-4085-81bd-3019de967c48",
        "colab": {
          "base_uri": "https://localhost:8080/",
          "height": 204
        }
      },
      "source": [
        "head(df)"
      ],
      "execution_count": null,
      "outputs": [
        {
          "output_type": "display_data",
          "data": {
            "text/plain": [
              "  plot_code plot_loc plot_rep plot_num date       subplot species_code\n",
              "1 YVP 10    NA       NA       10       2017-06-09 1       BOESPP      \n",
              "2 YVP 10    NA       NA       10       2017-06-09 1       CREINT      \n",
              "3 YVP 10    NA       NA       10       2017-06-09 1       EUPESU      \n",
              "4 YVP 10    NA       NA       10       2017-06-09 1       FESCAM      \n",
              "5 YVP 10    NA       NA       10       2017-06-09 1       FESIDA      \n",
              "6 YVP 10    NA       NA       10       2017-06-09 1       GEUTRI      \n",
              "  cover_pct\n",
              "1  1       \n",
              "2  1       \n",
              "3  5       \n",
              "4 25       \n",
              "5 25       \n",
              "6 10       "
            ],
            "text/latex": "A data.frame: 6 × 8\n\\begin{tabular}{r|llllllll}\n  & plot\\_code & plot\\_loc & plot\\_rep & plot\\_num & date & subplot & species\\_code & cover\\_pct\\\\\n  & <chr> & <chr> & <chr> & <int> & <date> & <int> & <chr> & <int>\\\\\n\\hline\n\t1 & YVP 10 & NA & NA & 10 & 2017-06-09 & 1 & BOESPP &  1\\\\\n\t2 & YVP 10 & NA & NA & 10 & 2017-06-09 & 1 & CREINT &  1\\\\\n\t3 & YVP 10 & NA & NA & 10 & 2017-06-09 & 1 & EUPESU &  5\\\\\n\t4 & YVP 10 & NA & NA & 10 & 2017-06-09 & 1 & FESCAM & 25\\\\\n\t5 & YVP 10 & NA & NA & 10 & 2017-06-09 & 1 & FESIDA & 25\\\\\n\t6 & YVP 10 & NA & NA & 10 & 2017-06-09 & 1 & GEUTRI & 10\\\\\n\\end{tabular}\n",
            "text/markdown": "\nA data.frame: 6 × 8\n\n| <!--/--> | plot_code &lt;chr&gt; | plot_loc &lt;chr&gt; | plot_rep &lt;chr&gt; | plot_num &lt;int&gt; | date &lt;date&gt; | subplot &lt;int&gt; | species_code &lt;chr&gt; | cover_pct &lt;int&gt; |\n|---|---|---|---|---|---|---|---|---|\n| 1 | YVP 10 | NA | NA | 10 | 2017-06-09 | 1 | BOESPP |  1 |\n| 2 | YVP 10 | NA | NA | 10 | 2017-06-09 | 1 | CREINT |  1 |\n| 3 | YVP 10 | NA | NA | 10 | 2017-06-09 | 1 | EUPESU |  5 |\n| 4 | YVP 10 | NA | NA | 10 | 2017-06-09 | 1 | FESCAM | 25 |\n| 5 | YVP 10 | NA | NA | 10 | 2017-06-09 | 1 | FESIDA | 25 |\n| 6 | YVP 10 | NA | NA | 10 | 2017-06-09 | 1 | GEUTRI | 10 |\n\n",
            "text/html": [
              "<table>\n",
              "<caption>A data.frame: 6 × 8</caption>\n",
              "<thead>\n",
              "\t<tr><th></th><th scope=col>plot_code</th><th scope=col>plot_loc</th><th scope=col>plot_rep</th><th scope=col>plot_num</th><th scope=col>date</th><th scope=col>subplot</th><th scope=col>species_code</th><th scope=col>cover_pct</th></tr>\n",
              "\t<tr><th></th><th scope=col>&lt;chr&gt;</th><th scope=col>&lt;chr&gt;</th><th scope=col>&lt;chr&gt;</th><th scope=col>&lt;int&gt;</th><th scope=col>&lt;date&gt;</th><th scope=col>&lt;int&gt;</th><th scope=col>&lt;chr&gt;</th><th scope=col>&lt;int&gt;</th></tr>\n",
              "</thead>\n",
              "<tbody>\n",
              "\t<tr><th scope=row>1</th><td>YVP 10</td><td>NA</td><td>NA</td><td>10</td><td>2017-06-09</td><td>1</td><td>BOESPP</td><td> 1</td></tr>\n",
              "\t<tr><th scope=row>2</th><td>YVP 10</td><td>NA</td><td>NA</td><td>10</td><td>2017-06-09</td><td>1</td><td>CREINT</td><td> 1</td></tr>\n",
              "\t<tr><th scope=row>3</th><td>YVP 10</td><td>NA</td><td>NA</td><td>10</td><td>2017-06-09</td><td>1</td><td>EUPESU</td><td> 5</td></tr>\n",
              "\t<tr><th scope=row>4</th><td>YVP 10</td><td>NA</td><td>NA</td><td>10</td><td>2017-06-09</td><td>1</td><td>FESCAM</td><td>25</td></tr>\n",
              "\t<tr><th scope=row>5</th><td>YVP 10</td><td>NA</td><td>NA</td><td>10</td><td>2017-06-09</td><td>1</td><td>FESIDA</td><td>25</td></tr>\n",
              "\t<tr><th scope=row>6</th><td>YVP 10</td><td>NA</td><td>NA</td><td>10</td><td>2017-06-09</td><td>1</td><td>GEUTRI</td><td>10</td></tr>\n",
              "</tbody>\n",
              "</table>\n"
            ]
          },
          "metadata": {
            "tags": []
          }
        }
      ]
    },
    {
      "cell_type": "code",
      "metadata": {
        "id": "r8QoSvBgUfnC",
        "outputId": "11f1c7fc-7b5c-4a1d-cfaa-8d29419a5fbe",
        "colab": {
          "base_uri": "https://localhost:8080/",
          "height": 850
        }
      },
      "source": [
        "# Find instances where a plant species is counted twice in the same year-plot-subplot combination\n",
        "dbl_counts <- df %>%\n",
        "  group_by(year = as.numeric(substring(date,0,4)), plot_code, subplot, species_code) %>%\n",
        "  summarize(counted = n()) %>% \n",
        "  ungroup() %>%\n",
        "  arrange(year, plot_code, subplot, desc(counted)) %>%\n",
        "  filter(counted > 1) %>%\n",
        "  print(n=Inf)"
      ],
      "execution_count": null,
      "outputs": [
        {
          "output_type": "stream",
          "text": [
            "\u001b[90m# A tibble: 46 x 5\u001b[39m\n",
            "    year plot_code subplot species_code counted\n",
            "   \u001b[3m\u001b[90m<dbl>\u001b[39m\u001b[23m \u001b[3m\u001b[90m<chr>\u001b[39m\u001b[23m       \u001b[3m\u001b[90m<int>\u001b[39m\u001b[23m \u001b[3m\u001b[90m<chr>\u001b[39m\u001b[23m          \u001b[3m\u001b[90m<int>\u001b[39m\u001b[23m\n",
            "\u001b[90m 1\u001b[39m  \u001b[4m2\u001b[24m017 YVP 144         2 VERVER             2\n",
            "\u001b[90m 2\u001b[39m  \u001b[4m2\u001b[24m017 YVP 180         7 FRIPUD             2\n",
            "\u001b[90m 3\u001b[39m  \u001b[4m2\u001b[24m017 YVP 203         4 COLLIN             2\n",
            "\u001b[90m 4\u001b[39m  \u001b[4m2\u001b[24m017 YVP 355        10 PSESPI             2\n",
            "\u001b[90m 5\u001b[39m  \u001b[4m2\u001b[24m017 YVP 44          9 ORTTEN             2\n",
            "\u001b[90m 6\u001b[39m  \u001b[4m2\u001b[24m017 YVP N111        2 DRAVER             2\n",
            "\u001b[90m 7\u001b[39m  \u001b[4m2\u001b[24m017 YVP NB294       8 MICGRA             2\n",
            "\u001b[90m 8\u001b[39m  \u001b[4m2\u001b[24m018 YVP 112         9 ALYALY             2\n",
            "\u001b[90m 9\u001b[39m  \u001b[4m2\u001b[24m018 YVP 12          4 HOLUMB             2\n",
            "\u001b[90m10\u001b[39m  \u001b[4m2\u001b[24m018 YVP 144        10 ACHMIL             2\n",
            "\u001b[90m11\u001b[39m  \u001b[4m2\u001b[24m018 YVP 184         4 HOLUMB             2\n",
            "\u001b[90m12\u001b[39m  \u001b[4m2\u001b[24m018 YVP 185         1 DRAVER             2\n",
            "\u001b[90m13\u001b[39m  \u001b[4m2\u001b[24m018 YVP 185         1 FRIPUD             2\n",
            "\u001b[90m14\u001b[39m  \u001b[4m2\u001b[24m018 YVP 185         1 MYOMIC             2\n",
            "\u001b[90m15\u001b[39m  \u001b[4m2\u001b[24m018 YVP 185         3 HOLUMB             2\n",
            "\u001b[90m16\u001b[39m  \u001b[4m2\u001b[24m018 YVP 185         4 ARANUT             2\n",
            "\u001b[90m17\u001b[39m  \u001b[4m2\u001b[24m018 YVP 185         4 EPIBRA             2\n",
            "\u001b[90m18\u001b[39m  \u001b[4m2\u001b[24m018 YVP 20          2 VERVER             2\n",
            "\u001b[90m19\u001b[39m  \u001b[4m2\u001b[24m018 YVP 203         4 COLLIN             2\n",
            "\u001b[90m20\u001b[39m  \u001b[4m2\u001b[24m018 YVP 209         5 ALYALY             2\n",
            "\u001b[90m21\u001b[39m  \u001b[4m2\u001b[24m018 YVP 213         4 ARIPUR             2\n",
            "\u001b[90m22\u001b[39m  \u001b[4m2\u001b[24m018 YVP 22          2 FESCAM             2\n",
            "\u001b[90m23\u001b[39m  \u001b[4m2\u001b[24m018 YVP 355         7 DODPUL             2\n",
            "\u001b[90m24\u001b[39m  \u001b[4m2\u001b[24m018 YVP 412         9 MICGRA             2\n",
            "\u001b[90m25\u001b[39m  \u001b[4m2\u001b[24m018 YVP 56          1 HOLUMB             2\n",
            "\u001b[90m26\u001b[39m  \u001b[4m2\u001b[24m018 YVP 62          3 KOEMAC             2\n",
            "\u001b[90m27\u001b[39m  \u001b[4m2\u001b[24m018 YVP 62          4 HOLUMB             2\n",
            "\u001b[90m28\u001b[39m  \u001b[4m2\u001b[24m018 YVP 62          8 ORTTEN             2\n",
            "\u001b[90m29\u001b[39m  \u001b[4m2\u001b[24m018 YVP N110        5 MYOMIC             2\n",
            "\u001b[90m30\u001b[39m  \u001b[4m2\u001b[24m018 YVP N278        2 ARESER             2\n",
            "\u001b[90m31\u001b[39m  \u001b[4m2\u001b[24m018 YVP N501       10 ARECON             2\n",
            "\u001b[90m32\u001b[39m  \u001b[4m2\u001b[24m018 YVP N522        1 LITRUD             2\n",
            "\u001b[90m33\u001b[39m  \u001b[4m2\u001b[24m018 YVP N558        7 COLLIN             2\n",
            "\u001b[90m34\u001b[39m  \u001b[4m2\u001b[24m018 YVP NB294       8 MICGRA             2\n",
            "\u001b[90m35\u001b[39m  \u001b[4m2\u001b[24m019 YVP 113         4 DRAVER             2\n",
            "\u001b[90m36\u001b[39m  \u001b[4m2\u001b[24m019 YVP 180         8 PLAPAT             2\n",
            "\u001b[90m37\u001b[39m  \u001b[4m2\u001b[24m019 YVP 209         5 ASTINF             2\n",
            "\u001b[90m38\u001b[39m  \u001b[4m2\u001b[24m019 YVP 468         2 UNKN SP            2\n",
            "\u001b[90m39\u001b[39m  \u001b[4m2\u001b[24m019 YVP N111        3 EPIBRA             2\n",
            "\u001b[90m40\u001b[39m  \u001b[4m2\u001b[24m019 YVP N158        3 EPIBRA             2\n",
            "\u001b[90m41\u001b[39m  \u001b[4m2\u001b[24m019 YVP N158        4 EPIBRA             2\n",
            "\u001b[90m42\u001b[39m  \u001b[4m2\u001b[24m019 YVP N348        5 CIRARV             2\n",
            "\u001b[90m43\u001b[39m  \u001b[4m2\u001b[24m019 YVP N386        1 EPIBRA             2\n",
            "\u001b[90m44\u001b[39m  \u001b[4m2\u001b[24m019 YVP N501        1 FRIPUD             2\n",
            "\u001b[90m45\u001b[39m  \u001b[4m2\u001b[24m019 YVP NC294       4 MYOMIC             2\n",
            "\u001b[90m46\u001b[39m  \u001b[4m2\u001b[24m019 YVP NC294       6 ERIPUM             2\n"
          ],
          "name": "stdout"
        }
      ]
    },
    {
      "cell_type": "code",
      "metadata": {
        "id": "y0wKttne2T3V",
        "outputId": "bdf99bc8-6478-4a74-fa67-ff15a1f8090b",
        "colab": {
          "base_uri": "https://localhost:8080/",
          "height": 51
        }
      },
      "source": [
        "view_doubles  <- dbl_counts %>%\n",
        "  left_join(df %>% mutate(year = as.numeric(substring(date,0,4))))"
      ],
      "execution_count": null,
      "outputs": [
        {
          "output_type": "stream",
          "text": [
            "Joining, by = c(\"year\", \"plot_code\", \"subplot\", \"species_code\")\n",
            "\n"
          ],
          "name": "stderr"
        }
      ]
    },
    {
      "cell_type": "code",
      "metadata": {
        "id": "6-swjMioA9AE",
        "outputId": "483200b3-744a-4daa-c1e8-6d3f092ef14f",
        "colab": {
          "base_uri": "https://localhost:8080/",
          "height": 204
        }
      },
      "source": [
        "str(view_doubles)"
      ],
      "execution_count": null,
      "outputs": [
        {
          "output_type": "stream",
          "text": [
            "tibble [92 × 10] (S3: tbl_df/tbl/data.frame)\n",
            " $ year        : num [1:92] 2017 2017 2017 2017 2017 ...\n",
            " $ plot_code   : chr [1:92] \"YVP 144\" \"YVP 144\" \"YVP 180\" \"YVP 180\" ...\n",
            " $ subplot     : int [1:92] 2 2 7 7 4 4 10 10 9 9 ...\n",
            " $ species_code: chr [1:92] \"VERVER\" \"VERVER\" \"FRIPUD\" \"FRIPUD\" ...\n",
            " $ counted     : int [1:92] 2 2 2 2 2 2 2 2 2 2 ...\n",
            " $ plot_loc    : chr [1:92] NA NA NA NA ...\n",
            " $ plot_rep    : chr [1:92] NA NA NA NA ...\n",
            " $ plot_num    : int [1:92] 144 144 180 180 203 203 355 355 44 44 ...\n",
            " $ date        : Date[1:92], format: \"2017-05-30\" \"2017-05-30\" ...\n",
            " $ cover_pct   : int [1:92] 3 4 1 1 10 1 20 2 4 1 ...\n"
          ],
          "name": "stdout"
        }
      ]
    },
    {
      "cell_type": "code",
      "metadata": {
        "id": "-tdGvvioDJWq",
        "outputId": "a011186b-3247-4676-f13f-db5ddf1d2fc0",
        "colab": {
          "base_uri": "https://localhost:8080/",
          "height": 1000
        }
      },
      "source": [
        "view_doubles %>%\n",
        "  distinct(date, plot_code, species_code, subplot) %>%\n",
        "  arrange(date, plot_code, species_code)"
      ],
      "execution_count": null,
      "outputs": [
        {
          "output_type": "display_data",
          "data": {
            "text/plain": [
              "   date       plot_code species_code subplot\n",
              "1  2017-05-08 YVP NB294 MICGRA        8     \n",
              "2  2017-05-18 YVP 203   COLLIN        4     \n",
              "3  2017-05-25 YVP N111  DRAVER        2     \n",
              "4  2017-05-30 YVP 144   VERVER        2     \n",
              "5  2017-05-31 YVP 180   FRIPUD        7     \n",
              "6  2017-06-02 YVP 355   PSESPI       10     \n",
              "7  2017-06-06 YVP 44    ORTTEN        9     \n",
              "8  2018-05-28 YVP 144   ACHMIL       10     \n",
              "9  2018-05-28 YVP N278  ARESER        2     \n",
              "10 2018-05-28 YVP N522  LITRUD        1     \n",
              "11 2018-05-30 YVP 184   HOLUMB        4     \n",
              "12 2018-05-30 YVP 185   ARANUT        4     \n",
              "13 2018-05-30 YVP 185   DRAVER        1     \n",
              "14 2018-05-30 YVP 185   EPIBRA        4     \n",
              "15 2018-05-30 YVP 185   FRIPUD        1     \n",
              "16 2018-05-30 YVP 185   HOLUMB        3     \n",
              "17 2018-05-30 YVP 185   MYOMIC        1     \n",
              "18 2018-05-30 YVP N110  MYOMIC        5     \n",
              "19 2018-05-30 YVP NB294 MICGRA        8     \n",
              "20 2018-05-31 YVP 112   ALYALY        9     \n",
              "21 2018-05-31 YVP 209   ALYALY        5     \n",
              "22 2018-06-04 YVP 203   COLLIN        4     \n",
              "23 2018-06-04 YVP 213   ARIPUR        4     \n",
              "24 2018-06-11 YVP 56    HOLUMB        1     \n",
              "25 2018-06-25 YVP 355   DODPUL        7     \n",
              "26 2018-06-26 YVP N558  COLLIN        7     \n",
              "27 2018-07-02 YVP 412   MICGRA        9     \n",
              "28 2018-07-02 YVP 62    HOLUMB        4     \n",
              "29 2018-07-02 YVP 62    KOEMAC        3     \n",
              "30 2018-07-02 YVP 62    ORTTEN        8     \n",
              "31 2018-07-09 YVP N501  ARECON       10     \n",
              "32 2018-07-10 YVP 12    HOLUMB        4     \n",
              "33 2018-07-12 YVP 20    VERVER        2     \n",
              "34 2018-07-12 YVP 22    FESCAM        2     \n",
              "35 2019-05-09 YVP NC294 ERIPUM        6     \n",
              "36 2019-05-09 YVP NC294 MYOMIC        4     \n",
              "37 2019-05-23 YVP 209   ASTINF        5     \n",
              "38 2019-05-23 YVP N111  EPIBRA        3     \n",
              "39 2019-05-30 YVP N501  FRIPUD        1     \n",
              "40 2019-06-10 YVP 113   DRAVER        4     \n",
              "41 2019-06-10 YVP 180   PLAPAT        8     \n",
              "42 2019-06-17 YVP N158  EPIBRA        3     \n",
              "43 2019-06-17 YVP N158  EPIBRA        4     \n",
              "44 2019-07-01 YVP N386  EPIBRA        1     \n",
              "45 2019-07-05 YVP N348  CIRARV        5     \n",
              "46 2019-07-16 YVP 468   UNKN SP       2     "
            ],
            "text/latex": "A tibble: 46 × 4\n\\begin{tabular}{llll}\n date & plot\\_code & species\\_code & subplot\\\\\n <date> & <chr> & <chr> & <int>\\\\\n\\hline\n\t 2017-05-08 & YVP NB294 & MICGRA  &  8\\\\\n\t 2017-05-18 & YVP 203   & COLLIN  &  4\\\\\n\t 2017-05-25 & YVP N111  & DRAVER  &  2\\\\\n\t 2017-05-30 & YVP 144   & VERVER  &  2\\\\\n\t 2017-05-31 & YVP 180   & FRIPUD  &  7\\\\\n\t 2017-06-02 & YVP 355   & PSESPI  & 10\\\\\n\t 2017-06-06 & YVP 44    & ORTTEN  &  9\\\\\n\t 2018-05-28 & YVP 144   & ACHMIL  & 10\\\\\n\t 2018-05-28 & YVP N278  & ARESER  &  2\\\\\n\t 2018-05-28 & YVP N522  & LITRUD  &  1\\\\\n\t 2018-05-30 & YVP 184   & HOLUMB  &  4\\\\\n\t 2018-05-30 & YVP 185   & ARANUT  &  4\\\\\n\t 2018-05-30 & YVP 185   & DRAVER  &  1\\\\\n\t 2018-05-30 & YVP 185   & EPIBRA  &  4\\\\\n\t 2018-05-30 & YVP 185   & FRIPUD  &  1\\\\\n\t 2018-05-30 & YVP 185   & HOLUMB  &  3\\\\\n\t 2018-05-30 & YVP 185   & MYOMIC  &  1\\\\\n\t 2018-05-30 & YVP N110  & MYOMIC  &  5\\\\\n\t 2018-05-30 & YVP NB294 & MICGRA  &  8\\\\\n\t 2018-05-31 & YVP 112   & ALYALY  &  9\\\\\n\t 2018-05-31 & YVP 209   & ALYALY  &  5\\\\\n\t 2018-06-04 & YVP 203   & COLLIN  &  4\\\\\n\t 2018-06-04 & YVP 213   & ARIPUR  &  4\\\\\n\t 2018-06-11 & YVP 56    & HOLUMB  &  1\\\\\n\t 2018-06-25 & YVP 355   & DODPUL  &  7\\\\\n\t 2018-06-26 & YVP N558  & COLLIN  &  7\\\\\n\t 2018-07-02 & YVP 412   & MICGRA  &  9\\\\\n\t 2018-07-02 & YVP 62    & HOLUMB  &  4\\\\\n\t 2018-07-02 & YVP 62    & KOEMAC  &  3\\\\\n\t 2018-07-02 & YVP 62    & ORTTEN  &  8\\\\\n\t 2018-07-09 & YVP N501  & ARECON  & 10\\\\\n\t 2018-07-10 & YVP 12    & HOLUMB  &  4\\\\\n\t 2018-07-12 & YVP 20    & VERVER  &  2\\\\\n\t 2018-07-12 & YVP 22    & FESCAM  &  2\\\\\n\t 2019-05-09 & YVP NC294 & ERIPUM  &  6\\\\\n\t 2019-05-09 & YVP NC294 & MYOMIC  &  4\\\\\n\t 2019-05-23 & YVP 209   & ASTINF  &  5\\\\\n\t 2019-05-23 & YVP N111  & EPIBRA  &  3\\\\\n\t 2019-05-30 & YVP N501  & FRIPUD  &  1\\\\\n\t 2019-06-10 & YVP 113   & DRAVER  &  4\\\\\n\t 2019-06-10 & YVP 180   & PLAPAT  &  8\\\\\n\t 2019-06-17 & YVP N158  & EPIBRA  &  3\\\\\n\t 2019-06-17 & YVP N158  & EPIBRA  &  4\\\\\n\t 2019-07-01 & YVP N386  & EPIBRA  &  1\\\\\n\t 2019-07-05 & YVP N348  & CIRARV  &  5\\\\\n\t 2019-07-16 & YVP 468   & UNKN SP &  2\\\\\n\\end{tabular}\n",
            "text/markdown": "\nA tibble: 46 × 4\n\n| date &lt;date&gt; | plot_code &lt;chr&gt; | species_code &lt;chr&gt; | subplot &lt;int&gt; |\n|---|---|---|---|\n| 2017-05-08 | YVP NB294 | MICGRA  |  8 |\n| 2017-05-18 | YVP 203   | COLLIN  |  4 |\n| 2017-05-25 | YVP N111  | DRAVER  |  2 |\n| 2017-05-30 | YVP 144   | VERVER  |  2 |\n| 2017-05-31 | YVP 180   | FRIPUD  |  7 |\n| 2017-06-02 | YVP 355   | PSESPI  | 10 |\n| 2017-06-06 | YVP 44    | ORTTEN  |  9 |\n| 2018-05-28 | YVP 144   | ACHMIL  | 10 |\n| 2018-05-28 | YVP N278  | ARESER  |  2 |\n| 2018-05-28 | YVP N522  | LITRUD  |  1 |\n| 2018-05-30 | YVP 184   | HOLUMB  |  4 |\n| 2018-05-30 | YVP 185   | ARANUT  |  4 |\n| 2018-05-30 | YVP 185   | DRAVER  |  1 |\n| 2018-05-30 | YVP 185   | EPIBRA  |  4 |\n| 2018-05-30 | YVP 185   | FRIPUD  |  1 |\n| 2018-05-30 | YVP 185   | HOLUMB  |  3 |\n| 2018-05-30 | YVP 185   | MYOMIC  |  1 |\n| 2018-05-30 | YVP N110  | MYOMIC  |  5 |\n| 2018-05-30 | YVP NB294 | MICGRA  |  8 |\n| 2018-05-31 | YVP 112   | ALYALY  |  9 |\n| 2018-05-31 | YVP 209   | ALYALY  |  5 |\n| 2018-06-04 | YVP 203   | COLLIN  |  4 |\n| 2018-06-04 | YVP 213   | ARIPUR  |  4 |\n| 2018-06-11 | YVP 56    | HOLUMB  |  1 |\n| 2018-06-25 | YVP 355   | DODPUL  |  7 |\n| 2018-06-26 | YVP N558  | COLLIN  |  7 |\n| 2018-07-02 | YVP 412   | MICGRA  |  9 |\n| 2018-07-02 | YVP 62    | HOLUMB  |  4 |\n| 2018-07-02 | YVP 62    | KOEMAC  |  3 |\n| 2018-07-02 | YVP 62    | ORTTEN  |  8 |\n| 2018-07-09 | YVP N501  | ARECON  | 10 |\n| 2018-07-10 | YVP 12    | HOLUMB  |  4 |\n| 2018-07-12 | YVP 20    | VERVER  |  2 |\n| 2018-07-12 | YVP 22    | FESCAM  |  2 |\n| 2019-05-09 | YVP NC294 | ERIPUM  |  6 |\n| 2019-05-09 | YVP NC294 | MYOMIC  |  4 |\n| 2019-05-23 | YVP 209   | ASTINF  |  5 |\n| 2019-05-23 | YVP N111  | EPIBRA  |  3 |\n| 2019-05-30 | YVP N501  | FRIPUD  |  1 |\n| 2019-06-10 | YVP 113   | DRAVER  |  4 |\n| 2019-06-10 | YVP 180   | PLAPAT  |  8 |\n| 2019-06-17 | YVP N158  | EPIBRA  |  3 |\n| 2019-06-17 | YVP N158  | EPIBRA  |  4 |\n| 2019-07-01 | YVP N386  | EPIBRA  |  1 |\n| 2019-07-05 | YVP N348  | CIRARV  |  5 |\n| 2019-07-16 | YVP 468   | UNKN SP |  2 |\n\n",
            "text/html": [
              "<table>\n",
              "<caption>A tibble: 46 × 4</caption>\n",
              "<thead>\n",
              "\t<tr><th scope=col>date</th><th scope=col>plot_code</th><th scope=col>species_code</th><th scope=col>subplot</th></tr>\n",
              "\t<tr><th scope=col>&lt;date&gt;</th><th scope=col>&lt;chr&gt;</th><th scope=col>&lt;chr&gt;</th><th scope=col>&lt;int&gt;</th></tr>\n",
              "</thead>\n",
              "<tbody>\n",
              "\t<tr><td>2017-05-08</td><td>YVP NB294</td><td>MICGRA </td><td> 8</td></tr>\n",
              "\t<tr><td>2017-05-18</td><td>YVP 203  </td><td>COLLIN </td><td> 4</td></tr>\n",
              "\t<tr><td>2017-05-25</td><td>YVP N111 </td><td>DRAVER </td><td> 2</td></tr>\n",
              "\t<tr><td>2017-05-30</td><td>YVP 144  </td><td>VERVER </td><td> 2</td></tr>\n",
              "\t<tr><td>2017-05-31</td><td>YVP 180  </td><td>FRIPUD </td><td> 7</td></tr>\n",
              "\t<tr><td>2017-06-02</td><td>YVP 355  </td><td>PSESPI </td><td>10</td></tr>\n",
              "\t<tr><td>2017-06-06</td><td>YVP 44   </td><td>ORTTEN </td><td> 9</td></tr>\n",
              "\t<tr><td>2018-05-28</td><td>YVP 144  </td><td>ACHMIL </td><td>10</td></tr>\n",
              "\t<tr><td>2018-05-28</td><td>YVP N278 </td><td>ARESER </td><td> 2</td></tr>\n",
              "\t<tr><td>2018-05-28</td><td>YVP N522 </td><td>LITRUD </td><td> 1</td></tr>\n",
              "\t<tr><td>2018-05-30</td><td>YVP 184  </td><td>HOLUMB </td><td> 4</td></tr>\n",
              "\t<tr><td>2018-05-30</td><td>YVP 185  </td><td>ARANUT </td><td> 4</td></tr>\n",
              "\t<tr><td>2018-05-30</td><td>YVP 185  </td><td>DRAVER </td><td> 1</td></tr>\n",
              "\t<tr><td>2018-05-30</td><td>YVP 185  </td><td>EPIBRA </td><td> 4</td></tr>\n",
              "\t<tr><td>2018-05-30</td><td>YVP 185  </td><td>FRIPUD </td><td> 1</td></tr>\n",
              "\t<tr><td>2018-05-30</td><td>YVP 185  </td><td>HOLUMB </td><td> 3</td></tr>\n",
              "\t<tr><td>2018-05-30</td><td>YVP 185  </td><td>MYOMIC </td><td> 1</td></tr>\n",
              "\t<tr><td>2018-05-30</td><td>YVP N110 </td><td>MYOMIC </td><td> 5</td></tr>\n",
              "\t<tr><td>2018-05-30</td><td>YVP NB294</td><td>MICGRA </td><td> 8</td></tr>\n",
              "\t<tr><td>2018-05-31</td><td>YVP 112  </td><td>ALYALY </td><td> 9</td></tr>\n",
              "\t<tr><td>2018-05-31</td><td>YVP 209  </td><td>ALYALY </td><td> 5</td></tr>\n",
              "\t<tr><td>2018-06-04</td><td>YVP 203  </td><td>COLLIN </td><td> 4</td></tr>\n",
              "\t<tr><td>2018-06-04</td><td>YVP 213  </td><td>ARIPUR </td><td> 4</td></tr>\n",
              "\t<tr><td>2018-06-11</td><td>YVP 56   </td><td>HOLUMB </td><td> 1</td></tr>\n",
              "\t<tr><td>2018-06-25</td><td>YVP 355  </td><td>DODPUL </td><td> 7</td></tr>\n",
              "\t<tr><td>2018-06-26</td><td>YVP N558 </td><td>COLLIN </td><td> 7</td></tr>\n",
              "\t<tr><td>2018-07-02</td><td>YVP 412  </td><td>MICGRA </td><td> 9</td></tr>\n",
              "\t<tr><td>2018-07-02</td><td>YVP 62   </td><td>HOLUMB </td><td> 4</td></tr>\n",
              "\t<tr><td>2018-07-02</td><td>YVP 62   </td><td>KOEMAC </td><td> 3</td></tr>\n",
              "\t<tr><td>2018-07-02</td><td>YVP 62   </td><td>ORTTEN </td><td> 8</td></tr>\n",
              "\t<tr><td>2018-07-09</td><td>YVP N501 </td><td>ARECON </td><td>10</td></tr>\n",
              "\t<tr><td>2018-07-10</td><td>YVP 12   </td><td>HOLUMB </td><td> 4</td></tr>\n",
              "\t<tr><td>2018-07-12</td><td>YVP 20   </td><td>VERVER </td><td> 2</td></tr>\n",
              "\t<tr><td>2018-07-12</td><td>YVP 22   </td><td>FESCAM </td><td> 2</td></tr>\n",
              "\t<tr><td>2019-05-09</td><td>YVP NC294</td><td>ERIPUM </td><td> 6</td></tr>\n",
              "\t<tr><td>2019-05-09</td><td>YVP NC294</td><td>MYOMIC </td><td> 4</td></tr>\n",
              "\t<tr><td>2019-05-23</td><td>YVP 209  </td><td>ASTINF </td><td> 5</td></tr>\n",
              "\t<tr><td>2019-05-23</td><td>YVP N111 </td><td>EPIBRA </td><td> 3</td></tr>\n",
              "\t<tr><td>2019-05-30</td><td>YVP N501 </td><td>FRIPUD </td><td> 1</td></tr>\n",
              "\t<tr><td>2019-06-10</td><td>YVP 113  </td><td>DRAVER </td><td> 4</td></tr>\n",
              "\t<tr><td>2019-06-10</td><td>YVP 180  </td><td>PLAPAT </td><td> 8</td></tr>\n",
              "\t<tr><td>2019-06-17</td><td>YVP N158 </td><td>EPIBRA </td><td> 3</td></tr>\n",
              "\t<tr><td>2019-06-17</td><td>YVP N158 </td><td>EPIBRA </td><td> 4</td></tr>\n",
              "\t<tr><td>2019-07-01</td><td>YVP N386 </td><td>EPIBRA </td><td> 1</td></tr>\n",
              "\t<tr><td>2019-07-05</td><td>YVP N348 </td><td>CIRARV </td><td> 5</td></tr>\n",
              "\t<tr><td>2019-07-16</td><td>YVP 468  </td><td>UNKN SP</td><td> 2</td></tr>\n",
              "</tbody>\n",
              "</table>\n"
            ]
          },
          "metadata": {
            "tags": []
          }
        }
      ]
    },
    {
      "cell_type": "code",
      "metadata": {
        "id": "E0WImCHS5CQE",
        "outputId": "4060a931-0c35-4763-82e2-9193f0593f7b",
        "colab": {
          "base_uri": "https://localhost:8080/",
          "height": 981
        }
      },
      "source": [
        "view_doubles %>%\n",
        "  distinct(date, plot_code, subplot, plot_loc) %>%\n",
        "  arrange(date, plot_code)"
      ],
      "execution_count": null,
      "outputs": [
        {
          "output_type": "display_data",
          "data": {
            "text/plain": [
              "   date       plot_code subplot plot_loc\n",
              "1  2017-05-08 YVP NB294  8      N       \n",
              "2  2017-05-18 YVP 203    4      NA      \n",
              "3  2017-05-25 YVP N111   2      N       \n",
              "4  2017-05-30 YVP 144    2      NA      \n",
              "5  2017-05-31 YVP 180    7      NA      \n",
              "6  2017-06-02 YVP 355   10      NA      \n",
              "7  2017-06-06 YVP 44     9      NA      \n",
              "8  2018-05-28 YVP 144   10      NA      \n",
              "9  2018-05-28 YVP N278   2      N       \n",
              "10 2018-05-28 YVP N522   1      N       \n",
              "11 2018-05-30 YVP 184    4      NA      \n",
              "12 2018-05-30 YVP 185    1      NA      \n",
              "13 2018-05-30 YVP 185    3      NA      \n",
              "14 2018-05-30 YVP 185    4      NA      \n",
              "15 2018-05-30 YVP N110   5      N       \n",
              "16 2018-05-30 YVP NB294  8      N       \n",
              "17 2018-05-31 YVP 112    9      NA      \n",
              "18 2018-05-31 YVP 209    5      NA      \n",
              "19 2018-06-04 YVP 203    4      NA      \n",
              "20 2018-06-04 YVP 213    4      NA      \n",
              "21 2018-06-11 YVP 56     1      NA      \n",
              "22 2018-06-25 YVP 355    7      NA      \n",
              "23 2018-06-26 YVP N558   7      N       \n",
              "24 2018-07-02 YVP 412    9      NA      \n",
              "25 2018-07-02 YVP 62     3      NA      \n",
              "26 2018-07-02 YVP 62     4      NA      \n",
              "27 2018-07-02 YVP 62     8      NA      \n",
              "28 2018-07-09 YVP N501  10      N       \n",
              "29 2018-07-10 YVP 12     4      NA      \n",
              "30 2018-07-12 YVP 20     2      NA      \n",
              "31 2018-07-12 YVP 22     2      NA      \n",
              "32 2019-05-09 YVP NC294  4      N       \n",
              "33 2019-05-09 YVP NC294  6      N       \n",
              "34 2019-05-23 YVP 209    5      NA      \n",
              "35 2019-05-23 YVP N111   3      N       \n",
              "36 2019-05-30 YVP N501   1      N       \n",
              "37 2019-06-10 YVP 113    4      NA      \n",
              "38 2019-06-10 YVP 180    8      NA      \n",
              "39 2019-06-17 YVP N158   3      N       \n",
              "40 2019-06-17 YVP N158   4      N       \n",
              "41 2019-07-01 YVP N386   1      N       \n",
              "42 2019-07-05 YVP N348   5      N       \n",
              "43 2019-07-16 YVP 468    2      NA      "
            ],
            "text/latex": "A tibble: 43 × 4\n\\begin{tabular}{llll}\n date & plot\\_code & subplot & plot\\_loc\\\\\n <date> & <chr> & <int> & <chr>\\\\\n\\hline\n\t 2017-05-08 & YVP NB294 &  8 & N \\\\\n\t 2017-05-18 & YVP 203   &  4 & NA\\\\\n\t 2017-05-25 & YVP N111  &  2 & N \\\\\n\t 2017-05-30 & YVP 144   &  2 & NA\\\\\n\t 2017-05-31 & YVP 180   &  7 & NA\\\\\n\t 2017-06-02 & YVP 355   & 10 & NA\\\\\n\t 2017-06-06 & YVP 44    &  9 & NA\\\\\n\t 2018-05-28 & YVP 144   & 10 & NA\\\\\n\t 2018-05-28 & YVP N278  &  2 & N \\\\\n\t 2018-05-28 & YVP N522  &  1 & N \\\\\n\t 2018-05-30 & YVP 184   &  4 & NA\\\\\n\t 2018-05-30 & YVP 185   &  1 & NA\\\\\n\t 2018-05-30 & YVP 185   &  3 & NA\\\\\n\t 2018-05-30 & YVP 185   &  4 & NA\\\\\n\t 2018-05-30 & YVP N110  &  5 & N \\\\\n\t 2018-05-30 & YVP NB294 &  8 & N \\\\\n\t 2018-05-31 & YVP 112   &  9 & NA\\\\\n\t 2018-05-31 & YVP 209   &  5 & NA\\\\\n\t 2018-06-04 & YVP 203   &  4 & NA\\\\\n\t 2018-06-04 & YVP 213   &  4 & NA\\\\\n\t 2018-06-11 & YVP 56    &  1 & NA\\\\\n\t 2018-06-25 & YVP 355   &  7 & NA\\\\\n\t 2018-06-26 & YVP N558  &  7 & N \\\\\n\t 2018-07-02 & YVP 412   &  9 & NA\\\\\n\t 2018-07-02 & YVP 62    &  3 & NA\\\\\n\t 2018-07-02 & YVP 62    &  4 & NA\\\\\n\t 2018-07-02 & YVP 62    &  8 & NA\\\\\n\t 2018-07-09 & YVP N501  & 10 & N \\\\\n\t 2018-07-10 & YVP 12    &  4 & NA\\\\\n\t 2018-07-12 & YVP 20    &  2 & NA\\\\\n\t 2018-07-12 & YVP 22    &  2 & NA\\\\\n\t 2019-05-09 & YVP NC294 &  4 & N \\\\\n\t 2019-05-09 & YVP NC294 &  6 & N \\\\\n\t 2019-05-23 & YVP 209   &  5 & NA\\\\\n\t 2019-05-23 & YVP N111  &  3 & N \\\\\n\t 2019-05-30 & YVP N501  &  1 & N \\\\\n\t 2019-06-10 & YVP 113   &  4 & NA\\\\\n\t 2019-06-10 & YVP 180   &  8 & NA\\\\\n\t 2019-06-17 & YVP N158  &  3 & N \\\\\n\t 2019-06-17 & YVP N158  &  4 & N \\\\\n\t 2019-07-01 & YVP N386  &  1 & N \\\\\n\t 2019-07-05 & YVP N348  &  5 & N \\\\\n\t 2019-07-16 & YVP 468   &  2 & NA\\\\\n\\end{tabular}\n",
            "text/markdown": "\nA tibble: 43 × 4\n\n| date &lt;date&gt; | plot_code &lt;chr&gt; | subplot &lt;int&gt; | plot_loc &lt;chr&gt; |\n|---|---|---|---|\n| 2017-05-08 | YVP NB294 |  8 | N  |\n| 2017-05-18 | YVP 203   |  4 | NA |\n| 2017-05-25 | YVP N111  |  2 | N  |\n| 2017-05-30 | YVP 144   |  2 | NA |\n| 2017-05-31 | YVP 180   |  7 | NA |\n| 2017-06-02 | YVP 355   | 10 | NA |\n| 2017-06-06 | YVP 44    |  9 | NA |\n| 2018-05-28 | YVP 144   | 10 | NA |\n| 2018-05-28 | YVP N278  |  2 | N  |\n| 2018-05-28 | YVP N522  |  1 | N  |\n| 2018-05-30 | YVP 184   |  4 | NA |\n| 2018-05-30 | YVP 185   |  1 | NA |\n| 2018-05-30 | YVP 185   |  3 | NA |\n| 2018-05-30 | YVP 185   |  4 | NA |\n| 2018-05-30 | YVP N110  |  5 | N  |\n| 2018-05-30 | YVP NB294 |  8 | N  |\n| 2018-05-31 | YVP 112   |  9 | NA |\n| 2018-05-31 | YVP 209   |  5 | NA |\n| 2018-06-04 | YVP 203   |  4 | NA |\n| 2018-06-04 | YVP 213   |  4 | NA |\n| 2018-06-11 | YVP 56    |  1 | NA |\n| 2018-06-25 | YVP 355   |  7 | NA |\n| 2018-06-26 | YVP N558  |  7 | N  |\n| 2018-07-02 | YVP 412   |  9 | NA |\n| 2018-07-02 | YVP 62    |  3 | NA |\n| 2018-07-02 | YVP 62    |  4 | NA |\n| 2018-07-02 | YVP 62    |  8 | NA |\n| 2018-07-09 | YVP N501  | 10 | N  |\n| 2018-07-10 | YVP 12    |  4 | NA |\n| 2018-07-12 | YVP 20    |  2 | NA |\n| 2018-07-12 | YVP 22    |  2 | NA |\n| 2019-05-09 | YVP NC294 |  4 | N  |\n| 2019-05-09 | YVP NC294 |  6 | N  |\n| 2019-05-23 | YVP 209   |  5 | NA |\n| 2019-05-23 | YVP N111  |  3 | N  |\n| 2019-05-30 | YVP N501  |  1 | N  |\n| 2019-06-10 | YVP 113   |  4 | NA |\n| 2019-06-10 | YVP 180   |  8 | NA |\n| 2019-06-17 | YVP N158  |  3 | N  |\n| 2019-06-17 | YVP N158  |  4 | N  |\n| 2019-07-01 | YVP N386  |  1 | N  |\n| 2019-07-05 | YVP N348  |  5 | N  |\n| 2019-07-16 | YVP 468   |  2 | NA |\n\n",
            "text/html": [
              "<table>\n",
              "<caption>A tibble: 43 × 4</caption>\n",
              "<thead>\n",
              "\t<tr><th scope=col>date</th><th scope=col>plot_code</th><th scope=col>subplot</th><th scope=col>plot_loc</th></tr>\n",
              "\t<tr><th scope=col>&lt;date&gt;</th><th scope=col>&lt;chr&gt;</th><th scope=col>&lt;int&gt;</th><th scope=col>&lt;chr&gt;</th></tr>\n",
              "</thead>\n",
              "<tbody>\n",
              "\t<tr><td>2017-05-08</td><td>YVP NB294</td><td> 8</td><td>N </td></tr>\n",
              "\t<tr><td>2017-05-18</td><td>YVP 203  </td><td> 4</td><td>NA</td></tr>\n",
              "\t<tr><td>2017-05-25</td><td>YVP N111 </td><td> 2</td><td>N </td></tr>\n",
              "\t<tr><td>2017-05-30</td><td>YVP 144  </td><td> 2</td><td>NA</td></tr>\n",
              "\t<tr><td>2017-05-31</td><td>YVP 180  </td><td> 7</td><td>NA</td></tr>\n",
              "\t<tr><td>2017-06-02</td><td>YVP 355  </td><td>10</td><td>NA</td></tr>\n",
              "\t<tr><td>2017-06-06</td><td>YVP 44   </td><td> 9</td><td>NA</td></tr>\n",
              "\t<tr><td>2018-05-28</td><td>YVP 144  </td><td>10</td><td>NA</td></tr>\n",
              "\t<tr><td>2018-05-28</td><td>YVP N278 </td><td> 2</td><td>N </td></tr>\n",
              "\t<tr><td>2018-05-28</td><td>YVP N522 </td><td> 1</td><td>N </td></tr>\n",
              "\t<tr><td>2018-05-30</td><td>YVP 184  </td><td> 4</td><td>NA</td></tr>\n",
              "\t<tr><td>2018-05-30</td><td>YVP 185  </td><td> 1</td><td>NA</td></tr>\n",
              "\t<tr><td>2018-05-30</td><td>YVP 185  </td><td> 3</td><td>NA</td></tr>\n",
              "\t<tr><td>2018-05-30</td><td>YVP 185  </td><td> 4</td><td>NA</td></tr>\n",
              "\t<tr><td>2018-05-30</td><td>YVP N110 </td><td> 5</td><td>N </td></tr>\n",
              "\t<tr><td>2018-05-30</td><td>YVP NB294</td><td> 8</td><td>N </td></tr>\n",
              "\t<tr><td>2018-05-31</td><td>YVP 112  </td><td> 9</td><td>NA</td></tr>\n",
              "\t<tr><td>2018-05-31</td><td>YVP 209  </td><td> 5</td><td>NA</td></tr>\n",
              "\t<tr><td>2018-06-04</td><td>YVP 203  </td><td> 4</td><td>NA</td></tr>\n",
              "\t<tr><td>2018-06-04</td><td>YVP 213  </td><td> 4</td><td>NA</td></tr>\n",
              "\t<tr><td>2018-06-11</td><td>YVP 56   </td><td> 1</td><td>NA</td></tr>\n",
              "\t<tr><td>2018-06-25</td><td>YVP 355  </td><td> 7</td><td>NA</td></tr>\n",
              "\t<tr><td>2018-06-26</td><td>YVP N558 </td><td> 7</td><td>N </td></tr>\n",
              "\t<tr><td>2018-07-02</td><td>YVP 412  </td><td> 9</td><td>NA</td></tr>\n",
              "\t<tr><td>2018-07-02</td><td>YVP 62   </td><td> 3</td><td>NA</td></tr>\n",
              "\t<tr><td>2018-07-02</td><td>YVP 62   </td><td> 4</td><td>NA</td></tr>\n",
              "\t<tr><td>2018-07-02</td><td>YVP 62   </td><td> 8</td><td>NA</td></tr>\n",
              "\t<tr><td>2018-07-09</td><td>YVP N501 </td><td>10</td><td>N </td></tr>\n",
              "\t<tr><td>2018-07-10</td><td>YVP 12   </td><td> 4</td><td>NA</td></tr>\n",
              "\t<tr><td>2018-07-12</td><td>YVP 20   </td><td> 2</td><td>NA</td></tr>\n",
              "\t<tr><td>2018-07-12</td><td>YVP 22   </td><td> 2</td><td>NA</td></tr>\n",
              "\t<tr><td>2019-05-09</td><td>YVP NC294</td><td> 4</td><td>N </td></tr>\n",
              "\t<tr><td>2019-05-09</td><td>YVP NC294</td><td> 6</td><td>N </td></tr>\n",
              "\t<tr><td>2019-05-23</td><td>YVP 209  </td><td> 5</td><td>NA</td></tr>\n",
              "\t<tr><td>2019-05-23</td><td>YVP N111 </td><td> 3</td><td>N </td></tr>\n",
              "\t<tr><td>2019-05-30</td><td>YVP N501 </td><td> 1</td><td>N </td></tr>\n",
              "\t<tr><td>2019-06-10</td><td>YVP 113  </td><td> 4</td><td>NA</td></tr>\n",
              "\t<tr><td>2019-06-10</td><td>YVP 180  </td><td> 8</td><td>NA</td></tr>\n",
              "\t<tr><td>2019-06-17</td><td>YVP N158 </td><td> 3</td><td>N </td></tr>\n",
              "\t<tr><td>2019-06-17</td><td>YVP N158 </td><td> 4</td><td>N </td></tr>\n",
              "\t<tr><td>2019-07-01</td><td>YVP N386 </td><td> 1</td><td>N </td></tr>\n",
              "\t<tr><td>2019-07-05</td><td>YVP N348 </td><td> 5</td><td>N </td></tr>\n",
              "\t<tr><td>2019-07-16</td><td>YVP 468  </td><td> 2</td><td>NA</td></tr>\n",
              "</tbody>\n",
              "</table>\n"
            ]
          },
          "metadata": {
            "tags": []
          }
        }
      ]
    },
    {
      "cell_type": "markdown",
      "metadata": {
        "id": "IbaHfAeS-9IR"
      },
      "source": [
        "### Resolve double counts"
      ]
    },
    {
      "cell_type": "markdown",
      "metadata": {
        "id": "0ZWFM4kp_HXL"
      },
      "source": [
        "* If the 'cover_pct' values are equal, delete one of the rows\n",
        "* If the 'cover_pct' values are not equal, delete one of the rows and change cover_pct for the remaining one to NA"
      ]
    },
    {
      "cell_type": "code",
      "metadata": {
        "id": "16kN6oA2j8Wv",
        "outputId": "86b05cbc-cdf3-4157-d647-9f5112063dcb",
        "colab": {
          "base_uri": "https://localhost:8080/",
          "height": 204
        }
      },
      "source": [
        "str(view_doubles)"
      ],
      "execution_count": null,
      "outputs": [
        {
          "output_type": "stream",
          "text": [
            "tibble [92 × 10] (S3: tbl_df/tbl/data.frame)\n",
            " $ year        : num [1:92] 2017 2017 2017 2017 2017 ...\n",
            " $ plot_code   : chr [1:92] \"YVP 144\" \"YVP 144\" \"YVP 180\" \"YVP 180\" ...\n",
            " $ subplot     : int [1:92] 2 2 7 7 4 4 10 10 9 9 ...\n",
            " $ species_code: chr [1:92] \"VERVER\" \"VERVER\" \"FRIPUD\" \"FRIPUD\" ...\n",
            " $ counted     : int [1:92] 2 2 2 2 2 2 2 2 2 2 ...\n",
            " $ plot_loc    : chr [1:92] NA NA NA NA ...\n",
            " $ plot_rep    : chr [1:92] NA NA NA NA ...\n",
            " $ plot_num    : int [1:92] 144 144 180 180 203 203 355 355 44 44 ...\n",
            " $ date        : Date[1:92], format: \"2017-05-30\" \"2017-05-30\" ...\n",
            " $ cover_pct   : int [1:92] 3 4 1 1 10 1 20 2 4 1 ...\n"
          ],
          "name": "stdout"
        }
      ]
    },
    {
      "cell_type": "code",
      "metadata": {
        "id": "AIcOzMO05c6N"
      },
      "source": [
        "distinct_doubles <- view_doubles %>%\n",
        "  distinct(date, plot_code, subplot, species_code) %>%\n",
        "  arrange(date, plot_code)"
      ],
      "execution_count": null,
      "outputs": []
    },
    {
      "cell_type": "code",
      "metadata": {
        "id": "TGN0N_GXjmaG",
        "outputId": "ba71cada-cc7b-465a-9504-6820aa387182",
        "colab": {
          "base_uri": "https://localhost:8080/",
          "height": 102
        }
      },
      "source": [
        "str(distinct_doubles)"
      ],
      "execution_count": null,
      "outputs": [
        {
          "output_type": "stream",
          "text": [
            "tibble [46 × 4] (S3: tbl_df/tbl/data.frame)\n",
            " $ date        : Date[1:46], format: \"2017-05-08\" \"2017-05-18\" ...\n",
            " $ plot_code   : chr [1:46] \"YVP NB294\" \"YVP 203\" \"YVP N111\" \"YVP 144\" ...\n",
            " $ subplot     : int [1:46] 8 4 2 2 7 10 9 10 2 1 ...\n",
            " $ species_code: chr [1:46] \"MICGRA\" \"COLLIN\" \"DRAVER\" \"VERVER\" ...\n"
          ],
          "name": "stdout"
        }
      ]
    },
    {
      "cell_type": "code",
      "metadata": {
        "id": "2smHqF1olcUm",
        "outputId": "e22fd08d-077d-470c-d36c-4728043c3b4b",
        "colab": {
          "base_uri": "https://localhost:8080/",
          "height": 34
        }
      },
      "source": [
        "nrow(distinct_doubles)"
      ],
      "execution_count": null,
      "outputs": [
        {
          "output_type": "display_data",
          "data": {
            "text/plain": [
              "[1] 46"
            ],
            "text/latex": "46",
            "text/markdown": "46",
            "text/html": [
              "46"
            ]
          },
          "metadata": {
            "tags": []
          }
        }
      ]
    },
    {
      "cell_type": "code",
      "metadata": {
        "id": "KymT73qv9dwQ"
      },
      "source": [
        "for (row in 1:nrow(distinct_doubles)) {\n",
        "  dbl_ref <- distinct_doubles[row, ]\n",
        "  \n",
        "  # date, plot_code, species_code, subplot\n",
        "  selected_rows <- filter(df, date == dbl_ref$date &\n",
        "                        plot_code == dbl_ref$plot_code &\n",
        "                        species_code == dbl_ref$species_code &\n",
        "                        subplot == dbl_ref$subplot)\n",
        "                        \n",
        "  # identify indicies of duplicate observationos in original dataframe\n",
        "  selected_indices <- which(df$date == dbl_ref$date &\n",
        "                        df$plot_code == dbl_ref$plot_code &\n",
        "                        df$species_code == dbl_ref$species_code &\n",
        "                        df$subplot == dbl_ref$subplot)\n",
        "\n",
        "  # Display for Review\n",
        "  print(selected_rows)\n",
        "\n",
        "  # compare \"cover_pct\" observations for equality\n",
        "  if(var(selected_rows$cover_pct) == 0) {\n",
        "    print(\"EQUAL\")\n",
        "    # drop duplicate observation\n",
        "    df <- df[-c(last(selected_indices)), ]    \n",
        "  } else if (var(selected_rows$cover_pct) != 0) {\n",
        "    print(\"NOT EQUAL\")\n",
        "    # set first row \"cover_pct\" to NA\n",
        "    df[c(first(selected_indices)), ]$cover_pct = NA\n",
        "\n",
        "    # drop duplicate observation\n",
        "    df <- df[-c(last(selected_indices)), ]\n",
        "  }\n",
        "}"
      ],
      "execution_count": null,
      "outputs": []
    },
    {
      "cell_type": "code",
      "metadata": {
        "id": "-kEiYsIkjKOQ",
        "outputId": "2e06d13e-639e-46db-ce49-51f7ec56418b",
        "colab": {
          "base_uri": "https://localhost:8080/",
          "height": 170
        }
      },
      "source": [
        "str(df)"
      ],
      "execution_count": null,
      "outputs": [
        {
          "output_type": "stream",
          "text": [
            "'data.frame':\t21682 obs. of  8 variables:\n",
            " $ plot_code   : chr  \"YVP 10\" \"YVP 10\" \"YVP 10\" \"YVP 10\" ...\n",
            " $ plot_loc    : chr  NA NA NA NA ...\n",
            " $ plot_rep    : chr  NA NA NA NA ...\n",
            " $ plot_num    : chr  \"10\" \"10\" \"10\" \"10\" ...\n",
            " $ date        : Date, format: \"2017-06-09\" \"2017-06-09\" ...\n",
            " $ subplot     : int  1 1 1 1 1 1 1 1 1 1 ...\n",
            " $ species_code: chr  \"BOESPP\" \"CREINT\" \"EUPESU\" \"FESCAM\" ...\n",
            " $ cover_pct   : int  1 1 5 25 25 10 1 1 5 1 ...\n"
          ],
          "name": "stdout"
        }
      ]
    },
    {
      "cell_type": "code",
      "metadata": {
        "id": "gIQGGEI5izjG",
        "outputId": "06f73ac2-235f-4894-883d-7d0d600f362e",
        "colab": {
          "base_uri": "https://localhost:8080/",
          "height": 68
        }
      },
      "source": [
        "# rescan for double observations\n",
        "# Find instances where a plant species is counted twice in the same year-plot-subplot combination\n",
        "dbl_recount <- df %>%\n",
        "  group_by(year = as.numeric(substring(date,0,4)), plot_code, subplot, species_code) %>%\n",
        "  summarize(counted = n()) %>% \n",
        "  ungroup() %>%\n",
        "  arrange(year, plot_code, subplot, desc(counted)) %>%\n",
        "  filter(counted > 1) %>%\n",
        "  print(n=Inf)"
      ],
      "execution_count": null,
      "outputs": [
        {
          "output_type": "stream",
          "text": [
            "\u001b[90m# A tibble: 0 x 5\u001b[39m\n",
            "\u001b[90m# … with 5 variables: year \u001b[3m\u001b[90m<dbl>\u001b[90m\u001b[23m, plot_code \u001b[3m\u001b[90m<chr>\u001b[90m\u001b[23m, subplot \u001b[3m\u001b[90m<int>\u001b[90m\u001b[23m,\u001b[39m\n",
            "\u001b[90m#   species_code \u001b[3m\u001b[90m<chr>\u001b[90m\u001b[23m, counted \u001b[3m\u001b[90m<int>\u001b[90m\u001b[23m\u001b[39m\n"
          ],
          "name": "stdout"
        }
      ]
    },
    {
      "cell_type": "code",
      "metadata": {
        "id": "QbJO0zRemgt0",
        "outputId": "de40449b-2ec8-43ba-db59-0ab0ecdd395e",
        "colab": {
          "base_uri": "https://localhost:8080/",
          "height": 1000
        }
      },
      "source": [
        "# display previously duplicated plots for review\n",
        "for (row in 1:nrow(distinct_doubles)) {\n",
        "  dbl_ref <- distinct_doubles[row, ]\n",
        "\n",
        "  # date, plot_code, species_code, subplot\n",
        "  selected_rows <- filter(df, date == dbl_ref$date &\n",
        "                        plot_code == dbl_ref$plot_code &\n",
        "                        species_code == dbl_ref$species_code &\n",
        "                        subplot == dbl_ref$subplot)\n",
        "  print(selected_rows[,c(1,5,6,7,8)])\n",
        "}"
      ],
      "execution_count": null,
      "outputs": [
        {
          "output_type": "stream",
          "text": [
            "  plot_code       date subplot species_code cover_pct\n",
            "1 YVP NB294 2017-05-08       8       MICGRA         1\n",
            "  plot_code       date subplot species_code cover_pct\n",
            "1   YVP 203 2017-05-18       4       COLLIN        NA\n",
            "  plot_code       date subplot species_code cover_pct\n",
            "1  YVP N111 2017-05-25       2       DRAVER         1\n",
            "  plot_code       date subplot species_code cover_pct\n",
            "1   YVP 144 2017-05-30       2       VERVER        NA\n",
            "  plot_code       date subplot species_code cover_pct\n",
            "1   YVP 180 2017-05-31       7       FRIPUD         1\n",
            "  plot_code       date subplot species_code cover_pct\n",
            "1   YVP 355 2017-06-02      10       PSESPI        NA\n",
            "  plot_code       date subplot species_code cover_pct\n",
            "1    YVP 44 2017-06-06       9       ORTTEN        NA\n",
            "  plot_code       date subplot species_code cover_pct\n",
            "1   YVP 144 2018-05-28      10       ACHMIL         5\n",
            "  plot_code       date subplot species_code cover_pct\n",
            "1  YVP N278 2018-05-28       2       ARESER        NA\n",
            "  plot_code       date subplot species_code cover_pct\n",
            "1  YVP N522 2018-05-28       1       LITRUD        NA\n",
            "  plot_code       date subplot species_code cover_pct\n",
            "1   YVP 184 2018-05-30       4       HOLUMB        NA\n",
            "  plot_code       date subplot species_code cover_pct\n",
            "1   YVP 185 2018-05-30       1       DRAVER         1\n",
            "  plot_code       date subplot species_code cover_pct\n",
            "1   YVP 185 2018-05-30       1       FRIPUD         1\n",
            "  plot_code       date subplot species_code cover_pct\n",
            "1   YVP 185 2018-05-30       1       MYOMIC        NA\n",
            "  plot_code       date subplot species_code cover_pct\n",
            "1   YVP 185 2018-05-30       3       HOLUMB         1\n",
            "  plot_code       date subplot species_code cover_pct\n",
            "1   YVP 185 2018-05-30       4       ARANUT         1\n",
            "  plot_code       date subplot species_code cover_pct\n",
            "1   YVP 185 2018-05-30       4       EPIBRA         1\n",
            "  plot_code       date subplot species_code cover_pct\n",
            "1  YVP N110 2018-05-30       5       MYOMIC         1\n",
            "  plot_code       date subplot species_code cover_pct\n",
            "1 YVP NB294 2018-05-30       8       MICGRA         1\n",
            "  plot_code       date subplot species_code cover_pct\n",
            "1   YVP 112 2018-05-31       9       ALYALY        NA\n",
            "  plot_code       date subplot species_code cover_pct\n",
            "1   YVP 209 2018-05-31       5       ALYALY         1\n",
            "  plot_code       date subplot species_code cover_pct\n",
            "1   YVP 203 2018-06-04       4       COLLIN         0\n",
            "  plot_code       date subplot species_code cover_pct\n",
            "1   YVP 213 2018-06-04       4       ARIPUR        NA\n",
            "  plot_code       date subplot species_code cover_pct\n",
            "1    YVP 56 2018-06-11       1       HOLUMB         1\n",
            "  plot_code       date subplot species_code cover_pct\n",
            "1   YVP 355 2018-06-25       7       DODPUL        NA\n",
            "  plot_code       date subplot species_code cover_pct\n",
            "1  YVP N558 2018-06-26       7       COLLIN         1\n",
            "  plot_code       date subplot species_code cover_pct\n",
            "1   YVP 412 2018-07-02       9       MICGRA        NA\n",
            "  plot_code       date subplot species_code cover_pct\n",
            "1    YVP 62 2018-07-02       3       KOEMAC        NA\n",
            "  plot_code       date subplot species_code cover_pct\n",
            "1    YVP 62 2018-07-02       4       HOLUMB         1\n",
            "  plot_code       date subplot species_code cover_pct\n",
            "1    YVP 62 2018-07-02       8       ORTTEN         1\n",
            "  plot_code       date subplot species_code cover_pct\n",
            "1  YVP N501 2018-07-09      10       ARECON         1\n",
            "  plot_code       date subplot species_code cover_pct\n",
            "1    YVP 12 2018-07-10       4       HOLUMB         1\n",
            "  plot_code       date subplot species_code cover_pct\n",
            "1    YVP 20 2018-07-12       2       VERVER         3\n",
            "  plot_code       date subplot species_code cover_pct\n",
            "1    YVP 22 2018-07-12       2       FESCAM         1\n",
            "  plot_code       date subplot species_code cover_pct\n",
            "1 YVP NC294 2019-05-09       4       MYOMIC         1\n",
            "  plot_code       date subplot species_code cover_pct\n",
            "1 YVP NC294 2019-05-09       6       ERIPUM        NA\n",
            "  plot_code       date subplot species_code cover_pct\n",
            "1   YVP 209 2019-05-23       5       ASTINF         1\n",
            "  plot_code       date subplot species_code cover_pct\n",
            "1  YVP N111 2019-05-23       3       EPIBRA         1\n",
            "  plot_code       date subplot species_code cover_pct\n",
            "1  YVP N501 2019-05-30       1       FRIPUD         2\n",
            "  plot_code       date subplot species_code cover_pct\n",
            "1   YVP 113 2019-06-10       4       DRAVER        NA\n",
            "  plot_code       date subplot species_code cover_pct\n",
            "1   YVP 180 2019-06-10       8       PLAPAT         1\n",
            "  plot_code       date subplot species_code cover_pct\n",
            "1  YVP N158 2019-06-17       3       EPIBRA         1\n",
            "  plot_code       date subplot species_code cover_pct\n",
            "1  YVP N158 2019-06-17       4       EPIBRA         1\n",
            "  plot_code       date subplot species_code cover_pct\n",
            "1  YVP N386 2019-07-01       1       EPIBRA         1\n",
            "  plot_code       date subplot species_code cover_pct\n",
            "1  YVP N348 2019-07-05       5       CIRARV        NA\n",
            "  plot_code       date subplot species_code cover_pct\n",
            "1   YVP 468 2019-07-16       2      UNKN SP        NA\n"
          ],
          "name": "stdout"
        }
      ]
    },
    {
      "cell_type": "markdown",
      "metadata": {
        "id": "DUlLTjDzKqDW"
      },
      "source": [
        "## Correct errors in species codes\n",
        "The species codes used in the source data contain numerous errors, and they also in some cases represent old taxonomy where species names have been revised. This can cause all sorts of problems, like artificially creating new species or making it impossible to join with available species metadata. Several steps must be accomplished here:\n",
        "\n",
        "1. Trim leading or trailing spaces from the code (this was done in excel before source CSV files were created)\n",
        "2. Read in master list of species metadata and query YVP species codes to identify which ones don't align\n",
        "3. Align the species codes, identify the ones that are wrong and correct them\n",
        "4. Import the numeric key from the species metadata so that future aligments are easier and errors are less common"
      ]
    },
    {
      "cell_type": "markdown",
      "metadata": {
        "id": "ww3eU-zc15kT"
      },
      "source": [
        "### Read in master list of species metadata and codes\n"
      ]
    },
    {
      "cell_type": "code",
      "metadata": {
        "id": "3lRWXJzFMPwA",
        "outputId": "b71fde47-33b0-4247-bd5f-f4c5d8647618",
        "colab": {
          "base_uri": "https://localhost:8080/",
          "height": 204
        }
      },
      "source": [
        "# 2020-04-27_MPGR_plant_species_list\n",
        "spp = gsheet2tbl(\"https://docs.google.com/spreadsheets/d/1wPen7yeimXtY4qK5Nj4JPvlgHYamoogR0YJekaF7i9Y\") %>% \n",
        "as_tibble() %>% glimpse()"
      ],
      "execution_count": null,
      "outputs": [
        {
          "output_type": "stream",
          "text": [
            "Rows: 754\n",
            "Columns: 9\n",
            "$ key_PlantSpecies \u001b[3m\u001b[90m<dbl>\u001b[39m\u001b[23m 784, 783, 782, 781, 780, 779, 778, 777, 776, 775, 77…\n",
            "$ key_PlantCode    \u001b[3m\u001b[90m<chr>\u001b[39m\u001b[23m \"UNKN_SP\", \"CRYP_SP\", \"RUME_SP\", \"HIER_SP\", \"BOEC_SP…\n",
            "$ NameScientific   \u001b[3m\u001b[90m<chr>\u001b[39m\u001b[23m \"Unknown\", \"Cryptantha spp.\", \"Rumex spp.\", \"Hieraci…\n",
            "$ NameSynonym      \u001b[3m\u001b[90m<chr>\u001b[39m\u001b[23m NA, NA, NA, NA, \"Arabis spp.\", NA, NA, NA, NA, NA, N…\n",
            "$ NameCommon       \u001b[3m\u001b[90m<chr>\u001b[39m\u001b[23m \"unknown\", \"cryptantha\", \"dock\", \"hawkweed\", \"rockcr…\n",
            "$ NameFamily       \u001b[3m\u001b[90m<chr>\u001b[39m\u001b[23m \"unknown\", \"Boraginaceae\", \"Polygonaceae\", \"Asterace…\n",
            "$ NativeStatus     \u001b[3m\u001b[90m<chr>\u001b[39m\u001b[23m \"unknown\", \"native\", \"nonnative\", \"unknown\", \"native…\n",
            "$ LifeCycle        \u001b[3m\u001b[90m<chr>\u001b[39m\u001b[23m \"unknown\", \"unknown\", \"Perennial\", \"Perennial\", \"Bie…\n",
            "$ LifeForm         \u001b[3m\u001b[90m<chr>\u001b[39m\u001b[23m \"unknown\", \"forb\", \"forb\", \"forb\", \"forb\", \"forb\", \"…\n"
          ],
          "name": "stdout"
        }
      ]
    },
    {
      "cell_type": "markdown",
      "metadata": {
        "id": "LrDekiW92cuH"
      },
      "source": [
        "### Align species codes and identify mistakes\n"
      ]
    },
    {
      "cell_type": "code",
      "metadata": {
        "id": "pOFU9VmmXPA-",
        "outputId": "0d5ae34c-ebd3-4d0e-d225-d321e63eca5c",
        "colab": {
          "base_uri": "https://localhost:8080/",
          "height": 1000
        }
      },
      "source": [
        "# Align the species codes \n",
        "# Produce df of codes that don't match the master list\n",
        "collisions_species_codes = \n",
        "df %>% \n",
        "anti_join(spp, by = c(\"species_code\" = \"key_PlantCode\")) %>% \n",
        "group_by(species_code) %>% \n",
        "distinct(species_code) %>% \n",
        "arrange(species_code) %>% \n",
        "print(n = Inf)"
      ],
      "execution_count": null,
      "outputs": [
        {
          "output_type": "stream",
          "text": [
            "\u001b[90m# A tibble: 60 x 1\u001b[39m\n",
            "\u001b[90m# Groups:   species_code [60]\u001b[39m\n",
            "   species_code       \n",
            "   \u001b[3m\u001b[90m<chr>\u001b[39m\u001b[23m              \n",
            "\u001b[90m 1\u001b[39m AGOS SP            \n",
            "\u001b[90m 2\u001b[39m AGROSP             \n",
            "\u001b[90m 3\u001b[39m ALOP SP            \n",
            "\u001b[90m 4\u001b[39m ANDOCCUAL          \n",
            "\u001b[90m 5\u001b[39m ANTE SP            \n",
            "\u001b[90m 6\u001b[39m ANTSPP             \n",
            "\u001b[90m 7\u001b[39m ARNCOR?            \n",
            "\u001b[90m 8\u001b[39m ARTE SP            \n",
            "\u001b[90m 9\u001b[39m ARTSPP             \n",
            "\u001b[90m10\u001b[39m BOEC SP            \n",
            "\u001b[90m11\u001b[39m BOESPP             \n",
            "\u001b[90m12\u001b[39m CARE SP            \n",
            "\u001b[90m13\u001b[39m CARE SP2           \n",
            "\u001b[90m14\u001b[39m CARE SP4           \n",
            "\u001b[90m15\u001b[39m CARSPP             \n",
            "\u001b[90m16\u001b[39m CARSPP 1           \n",
            "\u001b[90m17\u001b[39m CARSPP 2           \n",
            "\u001b[90m18\u001b[39m CARSPP 4           \n",
            "\u001b[90m19\u001b[39m CARSPP2            \n",
            "\u001b[90m20\u001b[39m CASSPP             \n",
            "\u001b[90m21\u001b[39m CAST SP            \n",
            "\u001b[90m22\u001b[39m CERA SP            \n",
            "\u001b[90m23\u001b[39m CERINT             \n",
            "\u001b[90m24\u001b[39m CHEN SP            \n",
            "\u001b[90m25\u001b[39m CREIINT            \n",
            "\u001b[90m26\u001b[39m CREP SP            \n",
            "\u001b[90m27\u001b[39m CRYP SP            \n",
            "\u001b[90m28\u001b[39m DESC SP            \n",
            "\u001b[90m29\u001b[39m DODE SP            \n",
            "\u001b[90m30\u001b[39m DODOUL             \n",
            "\u001b[90m31\u001b[39m DODSPP             \n",
            "\u001b[90m32\u001b[39m DODSSP             \n",
            "\u001b[90m33\u001b[39m DRASPP             \n",
            "\u001b[90m34\u001b[39m ELYM SP            \n",
            "\u001b[90m35\u001b[39m ELYSPP             \n",
            "\u001b[90m36\u001b[39m EPISPP             \n",
            "\u001b[90m37\u001b[39m EQUI SP            \n",
            "\u001b[90m38\u001b[39m EQUSPP             \n",
            "\u001b[90m39\u001b[39m ERIG SP            \n",
            "\u001b[90m40\u001b[39m ERISPP             \n",
            "\u001b[90m41\u001b[39m HIERSP             \n",
            "\u001b[90m42\u001b[39m LEURED             \n",
            "\u001b[90m43\u001b[39m LUWRED             \n",
            "\u001b[90m44\u001b[39m POA SP             \n",
            "\u001b[90m45\u001b[39m POTE SP            \n",
            "\u001b[90m46\u001b[39m POTSPP             \n",
            "\u001b[90m47\u001b[39m PSEPSI             \n",
            "\u001b[90m48\u001b[39m RUME SP            \n",
            "\u001b[90m49\u001b[39m SALI SP            \n",
            "\u001b[90m50\u001b[39m SELDEN             \n",
            "\u001b[90m51\u001b[39m SOLCAN             \n",
            "\u001b[90m52\u001b[39m STIP SP            \n",
            "\u001b[90m53\u001b[39m SYMP SP            \n",
            "\u001b[90m54\u001b[39m SYMPHYOTRICHUM APP.\n",
            "\u001b[90m55\u001b[39m SYMSPP             \n",
            "\u001b[90m56\u001b[39m TADUB              \n",
            "\u001b[90m57\u001b[39m TRIDUB             \n",
            "\u001b[90m58\u001b[39m TRIF SP            \n",
            "\u001b[90m59\u001b[39m TRISPP             \n",
            "\u001b[90m60\u001b[39m UNKN SP            \n"
          ],
          "name": "stdout"
        }
      ]
    },
    {
      "cell_type": "markdown",
      "metadata": {
        "id": "izWcD-3x2pAX"
      },
      "source": [
        "### Create file that associates errors with corrections"
      ]
    },
    {
      "cell_type": "code",
      "metadata": {
        "id": "27wu7uQ4ht9S",
        "outputId": "5eef928e-fad5-4421-ad9d-97e865c01741",
        "colab": {
          "base_uri": "https://localhost:8080/",
          "height": 51
        }
      },
      "source": [
        "# Produce file `collisions_species_codes` for work in spreadsheet outside of this environment\n",
        "# The file will save to the `content` folder in the drive tree\n",
        "# BL downloaded the file to his desktop to produce a new naming key file\n",
        "filename = \"collisions_species_codes.csv\"\n",
        "if (filename %in% list.files(getwd())) {\n",
        "  cat(\"file already exists in working directory: \", filename, \"\\n\", \"working directory: \", getwd(), \"\\n\")\n",
        "} else {\n",
        "  write.csv(collisions_species_codes, filename)\n",
        "  cat(filename, \" written to working directory \\n\", \"working directory: \", getwd(), \"\\n\")\n",
        "}\n"
      ],
      "execution_count": null,
      "outputs": [
        {
          "output_type": "stream",
          "text": [
            "file already exists in working directory:  collisions_species_codes.csv \n",
            " working directory:  /content \n"
          ],
          "name": "stdout"
        }
      ]
    },
    {
      "cell_type": "code",
      "metadata": {
        "id": "15DrHPYnzwfM",
        "outputId": "91a334f9-83f1-4093-c88c-f0b8d8d87a92",
        "colab": {
          "base_uri": "https://localhost:8080/",
          "height": 85
        }
      },
      "source": [
        "# Import csv file with the updated codes \n",
        "# This file was produced by visually aligning the codes with a file that Rebecca Durham provided\n",
        "code_corrections <- read.csv(file = \"https://drive.google.com/uc?id=1D0j3U4Or2PviFS02F3rxTRXr1SpGOB0a\",\n",
        "  colClasses = c(\"character\", \"character\")) %>% \n",
        "glimpse()"
      ],
      "execution_count": null,
      "outputs": [
        {
          "output_type": "stream",
          "text": [
            "Rows: 60\n",
            "Columns: 2\n",
            "$ plantcode_incorrect \u001b[3m\u001b[90m<chr>\u001b[39m\u001b[23m \"AGOS SP\", \"ALOP SP\", \"ANDOCCUAL\", \"ARNCOR?\", \"AR…\n",
            "$ plantcode_corrected \u001b[3m\u001b[90m<chr>\u001b[39m\u001b[23m \"AGOS_SP\", \"ALOP_SP\", \"ANDOCC\", \"ARNCOR\", \"ARTDRA…\n"
          ],
          "name": "stdout"
        }
      ]
    },
    {
      "cell_type": "markdown",
      "metadata": {
        "id": "TM1FKHi32yCK"
      },
      "source": [
        "### Cascade changes through dataset\n"
      ]
    },
    {
      "cell_type": "code",
      "metadata": {
        "id": "Xg2cshWG23U5",
        "outputId": "3391794d-b007-41e9-c553-861b007b521d",
        "colab": {
          "base_uri": "https://localhost:8080/",
          "height": 187
        }
      },
      "source": [
        "# Create new df to hold corrected information\n",
        "# Change species_code to character variable to avoid problems with levels later\n",
        "yvp_veg_cover_correct = df %>% mutate(species_code = as.character(species_code)) %>% glimpse()"
      ],
      "execution_count": null,
      "outputs": [
        {
          "output_type": "stream",
          "text": [
            "Rows: 21,682\n",
            "Columns: 8\n",
            "$ plot_code    \u001b[3m\u001b[90m<chr>\u001b[39m\u001b[23m \"YVP 10\", \"YVP 10\", \"YVP 10\", \"YVP 10\", \"YVP 10\", \"YVP 1…\n",
            "$ plot_loc     \u001b[3m\u001b[90m<chr>\u001b[39m\u001b[23m NA, NA, NA, NA, NA, NA, NA, NA, NA, NA, NA, NA, NA, NA, …\n",
            "$ plot_rep     \u001b[3m\u001b[90m<chr>\u001b[39m\u001b[23m NA, NA, NA, NA, NA, NA, NA, NA, NA, NA, NA, NA, NA, NA, …\n",
            "$ plot_num     \u001b[3m\u001b[90m<int>\u001b[39m\u001b[23m 10, 10, 10, 10, 10, 10, 10, 10, 10, 10, 10, 10, 10, 10, …\n",
            "$ date         \u001b[3m\u001b[90m<date>\u001b[39m\u001b[23m 2017-06-09, 2017-06-09, 2017-06-09, 2017-06-09, 2017-06…\n",
            "$ subplot      \u001b[3m\u001b[90m<int>\u001b[39m\u001b[23m 1, 1, 1, 1, 1, 1, 1, 1, 1, 1, 1, 1, 1, 1, 1, 1, 1, 1, 1,…\n",
            "$ species_code \u001b[3m\u001b[90m<chr>\u001b[39m\u001b[23m \"BOESPP\", \"CREINT\", \"EUPESU\", \"FESCAM\", \"FESIDA\", \"GEUTR…\n",
            "$ cover_pct    \u001b[3m\u001b[90m<int>\u001b[39m\u001b[23m 1, 1, 5, 25, 25, 10, 1, 1, 5, 1, 30, 2, 2, 1, 3, 0, 1, 0…\n"
          ],
          "name": "stdout"
        }
      ]
    },
    {
      "cell_type": "code",
      "metadata": {
        "id": "dY8lqL4aOWyJ",
        "outputId": "fbca43bb-a215-47d4-aa9f-4be0c1ba7740",
        "colab": {
          "base_uri": "https://localhost:8080/",
          "height": 1000
        }
      },
      "source": [
        "# Loop operation used to update each instance of an incorrect code\n",
        "# Embed logic control to prevent errors if this loop is run on a df with corrected codes\n",
        "# Variable to track loop cycles\n",
        "cycles = 0\n",
        "\n",
        "for (i in 1:length(code_corrections[, 1])) {\n",
        "  index = which(yvp_veg_cover_correct$species_code == code_corrections$plantcode_incorrect[i])\n",
        "\n",
        "  if (length(index != 0)) {\n",
        "    cat(\"number of incorrect code entries: \", length(index), \"\\n\")\n",
        "    cat(\"incorrect code: \", code_corrections$plantcode_incorrect[i], \"\\n\")\n",
        "    yvp_veg_cover_correct[index, ]$species_code = code_corrections$plantcode_corrected[i]\n",
        "    print(yvp_veg_cover_correct[index, c(1,5,6,7,8)])\n",
        "    cycles = cycles + length(index)\n",
        "    cat(\"\\n\")\n",
        "  } else {\n",
        "    cat(\"no incorrect code entries were found \\n\")\n",
        "  }\n",
        "\n",
        "  cat(\"number of corrections made (cumulative): \", cycles, \"\\n\\n\\n\")\n",
        "\n",
        "}"
      ],
      "execution_count": null,
      "outputs": [
        {
          "output_type": "stream",
          "text": [
            "number of incorrect code entries:  1 \n",
            "incorrect code:  AGOS SP \n",
            "      plot_code       date subplot species_code cover_pct\n",
            "19181   YVP 205 2019-06-26       4      AGOS_SP         1\n",
            "\n",
            "number of corrections made (cumulative):  1 \n",
            "\n",
            "\n",
            "number of incorrect code entries:  9 \n",
            "incorrect code:  ALOP SP \n",
            "      plot_code       date subplot species_code cover_pct\n",
            "21124  YVP N348 2019-07-05       2      ALOP_SP        40\n",
            "21135  YVP N348 2019-07-05       3      ALOP_SP        10\n",
            "21144  YVP N348 2019-07-05       4      ALOP_SP        50\n",
            "21155  YVP N348 2019-07-05       5      ALOP_SP        80\n",
            "21164  YVP N348 2019-07-05       6      ALOP_SP        10\n",
            "21179  YVP N348 2019-07-05       7      ALOP_SP        65\n",
            "21188  YVP N348 2019-07-05       8      ALOP_SP        25\n",
            "21198  YVP N348 2019-07-05       9      ALOP_SP        60\n",
            "21205  YVP N348 2019-07-05      10      ALOP_SP         2\n",
            "\n",
            "number of corrections made (cumulative):  10 \n",
            "\n",
            "\n",
            "number of incorrect code entries:  2 \n",
            "incorrect code:  ANDOCCUAL \n",
            "     plot_code       date subplot species_code cover_pct\n",
            "3045   YVP 205 2017-06-05       3       ANDOCC         1\n",
            "3087   YVP 205 2017-06-05       4       ANDOCC         1\n",
            "\n",
            "number of corrections made (cumulative):  12 \n",
            "\n",
            "\n",
            "number of incorrect code entries:  2 \n",
            "incorrect code:  ARNCOR? \n",
            "     plot_code       date subplot species_code cover_pct\n",
            "8827  YVP N348 2018-07-11       1       ARNCOR        15\n",
            "8842  YVP N348 2018-07-11       2       ARNCOR         5\n",
            "\n",
            "number of corrections made (cumulative):  14 \n",
            "\n",
            "\n",
            "number of incorrect code entries:  5 \n",
            "incorrect code:  ARTSPP \n",
            "     plot_code       date subplot species_code cover_pct\n",
            "1772   YVP 184 2017-05-11       3       ARTDRA         5\n",
            "1839   YVP 184 2017-05-11       6       ARTDRA        10\n",
            "2956   YVP 203 2017-05-18      10       ARTDRA         1\n",
            "3422   YVP 209 2017-05-11       4       ARTDRA         2\n",
            "3437   YVP 209 2018-05-31       4       ARTDRA         0\n",
            "\n",
            "number of corrections made (cumulative):  19 \n",
            "\n",
            "\n",
            "number of incorrect code entries:  9 \n",
            "incorrect code:  CARE SP \n",
            "      plot_code       date subplot species_code cover_pct\n",
            "20158    YVP N7 2019-07-01       1      CARE_SP         3\n",
            "20188    YVP N7 2019-07-01       3      CARE_SP         5\n",
            "20217    YVP N7 2019-07-01       5      CARE_SP         1\n",
            "20239    YVP N7 2019-07-01       6      CARE_SP         1\n",
            "20257    YVP N7 2019-07-01       7      CARE_SP         1\n",
            "20294    YVP N7 2019-07-01       9      CARE_SP         3\n",
            "20312    YVP N7 2019-07-01      10      CARE_SP         2\n",
            "21550   YVP 468 2019-07-16       5      CARE_SP         3\n",
            "21626   YVP 485 2019-07-16       4      CARE_SP         3\n",
            "\n",
            "number of corrections made (cumulative):  28 \n",
            "\n",
            "\n",
            "number of incorrect code entries:  6 \n",
            "incorrect code:  CARE SP2 \n",
            "      plot_code       date subplot species_code cover_pct\n",
            "21217   YVP 479 2019-07-15       1      CARE_SP        10\n",
            "21240   YVP 479 2019-07-15       2      CARE_SP         5\n",
            "21261   YVP 479 2019-07-15       3      CARE_SP         3\n",
            "21283   YVP 479 2019-07-15       4      CARE_SP         1\n",
            "21323   YVP 479 2019-07-15       7      CARE_SP        10\n",
            "21341   YVP 479 2019-07-15       8      CARE_SP         1\n",
            "\n",
            "number of corrections made (cumulative):  34 \n",
            "\n",
            "\n",
            "number of incorrect code entries:  1 \n",
            "incorrect code:  CARE SP4 \n",
            "      plot_code       date subplot species_code cover_pct\n",
            "21342   YVP 479 2019-07-15       8      CARE_SP         5\n",
            "\n",
            "number of corrections made (cumulative):  35 \n",
            "\n",
            "\n",
            "number of incorrect code entries:  22 \n",
            "incorrect code:  CARSPP \n",
            "      plot_code       date subplot species_code cover_pct\n",
            "4883    YVP 355 2017-06-02      10      CARE_SP        20\n",
            "5904    YVP 468 2017-07-06       2      CARE_SP         5\n",
            "5930    YVP 468 2017-07-06       4      CARE_SP         3\n",
            "5944    YVP 468 2017-07-06       5      CARE_SP         5\n",
            "5950    YVP 468 2018-07-17       5      CARE_SP         2\n",
            "5956    YVP 468 2017-07-06       6      CARE_SP        10\n",
            "5968    YVP 468 2017-07-06       7      CARE_SP         5\n",
            "5980    YVP 468 2017-07-06       8      CARE_SP         2\n",
            "5993    YVP 468 2017-07-06       9      CARE_SP         3\n",
            "6002    YVP 468 2017-07-06      10      CARE_SP         3\n",
            "6775    YVP 485 2017-07-06       4      CARE_SP         3\n",
            "6782    YVP 485 2018-07-16       4      CARE_SP         3\n",
            "6799    YVP 485 2017-07-06       6      CARE_SP         4\n",
            "6822    YVP 485 2017-07-06       8      CARE_SP         5\n",
            "6835    YVP 485 2017-07-06       9      CARE_SP         5\n",
            "6850    YVP 485 2017-07-06      10      CARE_SP        10\n",
            "11982    YVP N7 2017-06-08       1      CARE_SP         3\n",
            "11997    YVP N7 2018-07-09       1      CARE_SP         2\n",
            "12035    YVP N7 2017-06-08       3      CARE_SP         2\n",
            "12051    YVP N7 2018-07-09       3      CARE_SP        10\n",
            "12132    YVP N7 2018-07-09       6      CARE_SP         1\n",
            "12224    YVP N7 2018-07-09       9      CARE_SP         2\n",
            "\n",
            "number of corrections made (cumulative):  57 \n",
            "\n",
            "\n",
            "number of incorrect code entries:  5 \n",
            "incorrect code:  CARSPP 1 \n",
            "     plot_code       date subplot species_code cover_pct\n",
            "6242   YVP 479 2017-07-06       1      CARE_SP        25\n",
            "6314   YVP 479 2017-07-06       3      CARE_SP        10\n",
            "6455   YVP 479 2017-07-06       8      CARE_SP         5\n",
            "6489   YVP 479 2017-07-06       9      CARE_SP        10\n",
            "6677   YVP 481 2017-07-06       8      CARE_SP         2\n",
            "\n",
            "number of corrections made (cumulative):  62 \n",
            "\n",
            "\n",
            "number of incorrect code entries:  12 \n",
            "incorrect code:  CARSPP 2 \n",
            "     plot_code       date subplot species_code cover_pct\n",
            "5916   YVP 468 2017-07-06       3      CARE_SP         3\n",
            "6258   YVP 479 2018-07-16       1      CARE_SP         5\n",
            "6278   YVP 479 2017-07-06       2      CARE_SP         2\n",
            "6295   YVP 479 2018-07-16       2      CARE_SP        10\n",
            "6334   YVP 479 2018-07-16       3      CARE_SP        20\n",
            "6354   YVP 479 2017-07-06       4      CARE_SP         5\n",
            "6371   YVP 479 2018-07-16       4      CARE_SP        15\n",
            "6408   YVP 479 2017-07-06       6      CARE_SP         5\n",
            "6456   YVP 479 2017-07-06       8      CARE_SP         5\n",
            "6472   YVP 479 2018-07-16       8      CARE_SP         1\n",
            "6581   YVP 481 2017-07-06       3      CARE_SP         4\n",
            "6599   YVP 481 2017-07-06       4      CARE_SP        10\n",
            "\n",
            "number of corrections made (cumulative):  74 \n",
            "\n",
            "\n",
            "number of incorrect code entries:  1 \n",
            "incorrect code:  CARSPP 4 \n",
            "     plot_code       date subplot species_code cover_pct\n",
            "6473   YVP 479 2018-07-16       8      CARE_SP         2\n",
            "\n",
            "number of corrections made (cumulative):  75 \n",
            "\n",
            "\n",
            "number of incorrect code entries:  2 \n",
            "incorrect code:  CARSPP2 \n",
            "     plot_code       date subplot species_code cover_pct\n",
            "6430   YVP 479 2017-07-06       7      CARE_SP        10\n",
            "6442   YVP 479 2018-07-16       7      CARE_SP        15\n",
            "\n",
            "number of corrections made (cumulative):  77 \n",
            "\n",
            "\n",
            "number of incorrect code entries:  9 \n",
            "incorrect code:  CASSPP \n",
            "      plot_code       date subplot species_code cover_pct\n",
            "8699   YVP N324 2017-05-10       7      CAST_SP         1\n",
            "8734   YVP N324 2017-05-10       8      CAST_SP         1\n",
            "8789   YVP N324 2017-05-10      10      CAST_SP         1\n",
            "10417  YVP N550 2017-06-07       2      CAST_SP         1\n",
            "10434  YVP N550 2018-07-09       2      CAST_SP         0\n",
            "10641  YVP N550 2017-06-07       8      CAST_SP         1\n",
            "10656  YVP N550 2018-07-09       8      CAST_SP         0\n",
            "10674  YVP N550 2017-06-07       9      CAST_SP         1\n",
            "10693  YVP N550 2018-07-09       9      CAST_SP         0\n",
            "\n",
            "number of corrections made (cumulative):  86 \n",
            "\n",
            "\n",
            "number of incorrect code entries:  1 \n",
            "incorrect code:  CERINT \n",
            "      plot_code       date subplot species_code cover_pct\n",
            "10397  YVP N550 2018-07-09       1       CREINT         2\n",
            "\n",
            "number of corrections made (cumulative):  87 \n",
            "\n",
            "\n",
            "number of incorrect code entries:  5 \n",
            "incorrect code:  CHEN SP \n",
            "      plot_code       date subplot species_code cover_pct\n",
            "18396  YVP N570 2019-06-11       1      CHEN_SP         2\n",
            "18410  YVP N570 2019-06-11       3      CHEN_SP         4\n",
            "18417  YVP N570 2019-06-11       4      CHEN_SP         1\n",
            "18427  YVP N570 2019-06-11       5      CHEN_SP         1\n",
            "18505  YVP N571 2019-06-11       7      CHEN_SP         1\n",
            "\n",
            "number of corrections made (cumulative):  92 \n",
            "\n",
            "\n",
            "number of incorrect code entries:  4 \n",
            "incorrect code:  CREIINT \n",
            "      plot_code       date subplot species_code cover_pct\n",
            "5446    YVP 412 2017-06-06      10       CREINT         4\n",
            "5464    YVP 412 2018-07-02      10       CREINT         4\n",
            "10033  YVP N501 2017-06-07       9       CREINT         2\n",
            "10048  YVP N501 2018-07-09       9       CREINT         3\n",
            "\n",
            "number of corrections made (cumulative):  96 \n",
            "\n",
            "\n",
            "number of incorrect code entries:  1 \n",
            "incorrect code:  DODOUL \n",
            "      plot_code       date subplot species_code cover_pct\n",
            "12900 YVP NB294 2017-05-08       6       DODPUL         1\n",
            "\n",
            "number of corrections made (cumulative):  97 \n",
            "\n",
            "\n",
            "number of incorrect code entries:  3 \n",
            "incorrect code:  DODSPP \n",
            "     plot_code       date subplot species_code cover_pct\n",
            "2439    YVP 20 2018-07-12       6      DODE_SP         1\n",
            "9019  YVP N386 2018-07-05       2      DODE_SP         1\n",
            "9807  YVP N501 2018-07-09       1      DODE_SP         1\n",
            "\n",
            "number of corrections made (cumulative):  100 \n",
            "\n",
            "\n",
            "number of incorrect code entries:  1 \n",
            "incorrect code:  DODSSP \n",
            "     plot_code       date subplot species_code cover_pct\n",
            "9837  YVP N501 2018-07-09       2      DODE_SP         1\n",
            "\n",
            "number of corrections made (cumulative):  101 \n",
            "\n",
            "\n",
            "number of incorrect code entries:  1 \n",
            "incorrect code:  DRASPP \n",
            "      plot_code       date subplot species_code cover_pct\n",
            "13004 YVP NB294 2017-05-08      10      DRAB_SP         1\n",
            "\n",
            "number of corrections made (cumulative):  102 \n",
            "\n",
            "\n",
            "number of incorrect code entries:  1 \n",
            "incorrect code:  ELYSPP \n",
            "     plot_code       date subplot species_code cover_pct\n",
            "8959  YVP N348 2018-07-11       9      ELYM_SP         3\n",
            "\n",
            "number of corrections made (cumulative):  103 \n",
            "\n",
            "\n",
            "number of incorrect code entries:  1 \n",
            "incorrect code:  EPISPP \n",
            "     plot_code       date subplot species_code cover_pct\n",
            "6004   YVP 468 2017-07-06      10      EPIL_SP        10\n",
            "\n",
            "number of corrections made (cumulative):  104 \n",
            "\n",
            "\n",
            "number of incorrect code entries:  9 \n",
            "incorrect code:  EQUSPP \n",
            "     plot_code       date subplot species_code cover_pct\n",
            "6261   YVP 479 2018-07-16       1      EQUI_SP         3\n",
            "6297   YVP 479 2018-07-16       2      EQUI_SP         2\n",
            "6316   YVP 479 2017-07-06       3      EQUI_SP         1\n",
            "6337   YVP 479 2018-07-16       3      EQUI_SP         2\n",
            "6432   YVP 479 2017-07-06       7      EQUI_SP         2\n",
            "6457   YVP 479 2017-07-06       8      EQUI_SP         1\n",
            "6534   YVP 479 2018-07-16      10      EQUI_SP         2\n",
            "6551   YVP 481 2017-07-06       1      EQUI_SP         1\n",
            "6584   YVP 481 2017-07-06       3      EQUI_SP         2\n",
            "\n",
            "number of corrections made (cumulative):  113 \n",
            "\n",
            "\n",
            "number of incorrect code entries:  7 \n",
            "incorrect code:  ERISPP \n",
            "      plot_code       date subplot species_code cover_pct\n",
            "1944    YVP 184 2017-05-11      10      ERIG_SP         1\n",
            "6106     YVP 47 2017-05-23       5      ERIG_SP         2\n",
            "6339    YVP 479 2018-07-16       3      ERIG_SP         1\n",
            "7458   YVP N110 2017-05-25       4      ERIG_SP         2\n",
            "8251   YVP N278 2017-05-09       7      ERIG_SP         2\n",
            "8263   YVP N278 2018-05-28       7      ERIG_SP         2\n",
            "13108 YVP NC294 2017-05-08       4      ERIG_SP         1\n",
            "\n",
            "number of corrections made (cumulative):  120 \n",
            "\n",
            "\n",
            "number of incorrect code entries:  1 \n",
            "incorrect code:  LEURED \n",
            "     plot_code       date subplot species_code cover_pct\n",
            "4146    YVP 22 2018-07-12       5       LEWRED         1\n",
            "\n",
            "number of corrections made (cumulative):  121 \n",
            "\n",
            "\n",
            "number of incorrect code entries:  1 \n",
            "incorrect code:  LUWRED \n",
            "      plot_code       date subplot species_code cover_pct\n",
            "11923   YVP N58 2018-06-25       8       LEWRED         1\n",
            "\n",
            "number of corrections made (cumulative):  122 \n",
            "\n",
            "\n",
            "number of incorrect code entries:  2 \n",
            "incorrect code:  POA SP \n",
            "      plot_code       date subplot species_code cover_pct\n",
            "11671  YVP N571 2018-06-06       2       POA_SP        20\n",
            "18475  YVP N571 2019-06-11       2       POA_SP        20\n",
            "\n",
            "number of corrections made (cumulative):  124 \n",
            "\n",
            "\n",
            "number of incorrect code entries:  1 \n",
            "incorrect code:  POTSPP \n",
            "     plot_code       date subplot species_code cover_pct\n",
            "8848  YVP N348 2018-07-11       2      POTE_SP         1\n",
            "\n",
            "number of corrections made (cumulative):  125 \n",
            "\n",
            "\n",
            "number of incorrect code entries:  2 \n",
            "incorrect code:  PSEPSI \n",
            "      plot_code       date subplot species_code cover_pct\n",
            "11690  YVP N571 2018-06-06       7       PSESPI         5\n",
            "11707  YVP N571 2018-06-06      10       PSESPI         5\n",
            "\n",
            "number of corrections made (cumulative):  127 \n",
            "\n",
            "\n",
            "number of incorrect code entries:  18 \n",
            "incorrect code:  SELDEN \n",
            "      plot_code       date subplot species_code cover_pct\n",
            "15584   YVP 355 2019-05-28       3       SELSCO         4\n",
            "15606   YVP 355 2019-05-28       4       SELSCO        15\n",
            "15627   YVP 355 2019-05-28       5       SELSCO        15\n",
            "15649   YVP 355 2019-05-28       6       SELSCO         5\n",
            "15671   YVP 355 2019-05-28       7       SELSCO        10\n",
            "18547   YVP 395 2019-06-17       1       SELSCO         1\n",
            "20039  YVP N386 2019-07-01       4       SELSCO        10\n",
            "20113  YVP N386 2019-07-01       8       SELSCO         3\n",
            "20132  YVP N386 2019-07-01       9       SELSCO         1\n",
            "20345    YVP 10 2019-07-02       1       SELSCO        50\n",
            "20362    YVP 10 2019-07-02       2       SELSCO        30\n",
            "20378    YVP 10 2019-07-02       3       SELSCO        45\n",
            "20398    YVP 10 2019-07-02       4       SELSCO         1\n",
            "20912    YVP 22 2019-07-02       1       SELSCO         2\n",
            "21052    YVP 22 2019-07-02       7       SELSCO         1\n",
            "21074    YVP 22 2019-07-02       8       SELSCO        75\n",
            "21093    YVP 22 2019-07-02       9       SELSCO        80\n",
            "21111    YVP 22 2019-07-02      10       SELSCO         5\n",
            "\n",
            "number of corrections made (cumulative):  145 \n",
            "\n",
            "\n",
            "number of incorrect code entries:  5 \n",
            "incorrect code:  SOLCAN \n",
            "      plot_code       date subplot species_code cover_pct\n",
            "21231   YVP 479 2019-07-15       1       SOLLEP         5\n",
            "21355   YVP 479 2019-07-15       8       SOLLEP         0\n",
            "21390   YVP 479 2019-07-15      10       SOLLEP         5\n",
            "21473   YVP 481 2019-07-15       7       SOLLEP         4\n",
            "21501   YVP 481 2019-07-15       9       SOLLEP        10\n",
            "\n",
            "number of corrections made (cumulative):  150 \n",
            "\n",
            "\n",
            "number of incorrect code entries:  2 \n",
            "incorrect code:  STIP SP \n",
            "      plot_code       date subplot species_code cover_pct\n",
            "7539   YVP N110 2018-05-30       7      STIP_SP         1\n",
            "19485   YVP 412 2019-06-26       8      STIP_SP         1\n",
            "\n",
            "number of corrections made (cumulative):  152 \n",
            "\n",
            "\n",
            "number of incorrect code entries:  1 \n",
            "incorrect code:  SYMPHYOTRICHUM APP. \n",
            "     plot_code       date subplot species_code cover_pct\n",
            "5813    YVP 46 2018-06-12       6      SYMP_SP         1\n",
            "\n",
            "number of corrections made (cumulative):  153 \n",
            "\n",
            "\n",
            "number of incorrect code entries:  1 \n",
            "incorrect code:  SYMSPP \n",
            "     plot_code       date subplot species_code cover_pct\n",
            "6123    YVP 47 2018-06-12       5      SYMP_SP         5\n",
            "\n",
            "number of corrections made (cumulative):  154 \n",
            "\n",
            "\n",
            "number of incorrect code entries:  1 \n",
            "incorrect code:  TADUB \n",
            "     plot_code       date subplot species_code cover_pct\n",
            "4469   YVP 247 2018-06-04       1       TRADUB         4\n",
            "\n",
            "number of corrections made (cumulative):  155 \n",
            "\n",
            "\n",
            "number of incorrect code entries:  1 \n",
            "incorrect code:  TRIDUB \n",
            "     plot_code       date subplot species_code cover_pct\n",
            "4054    YVP 22 2018-07-12       2       TRADUB         2\n",
            "\n",
            "number of corrections made (cumulative):  156 \n",
            "\n",
            "\n",
            "number of incorrect code entries:  39 \n",
            "incorrect code:  TRISPP \n",
            "     plot_code       date subplot species_code cover_pct\n",
            "3661   YVP 212 2017-06-01       2      TRIF_SP         1\n",
            "3669   YVP 212 2018-06-29       2      TRIF_SP         0\n",
            "3675   YVP 212 2017-06-01       3      TRIF_SP         1\n",
            "3682   YVP 212 2018-06-29       3      TRIF_SP         0\n",
            "3689   YVP 212 2017-06-01       4      TRIF_SP         1\n",
            "3696   YVP 212 2018-06-29       4      TRIF_SP         0\n",
            "3704   YVP 212 2017-06-01       5      TRIF_SP         1\n",
            "3712   YVP 212 2018-06-29       5      TRIF_SP         0\n",
            "3719   YVP 212 2017-06-01       6      TRIF_SP         1\n",
            "3728   YVP 212 2018-06-29       6      TRIF_SP         0\n",
            "3734   YVP 212 2017-06-01       7      TRIF_SP         1\n",
            "3742   YVP 212 2018-06-29       7      TRIF_SP         0\n",
            "3751   YVP 212 2017-06-01       8      TRIF_SP         1\n",
            "3762   YVP 212 2018-06-29       8      TRIF_SP         0\n",
            "3770   YVP 212 2017-06-01       9      TRIF_SP         1\n",
            "3779   YVP 212 2018-06-29       9      TRIF_SP         0\n",
            "3786   YVP 212 2017-06-01      10      TRIF_SP         2\n",
            "3797   YVP 212 2018-06-29      10      TRIF_SP         0\n",
            "4348   YVP 246 2017-06-01       2      TRIF_SP         2\n",
            "4356   YVP 246 2018-06-23       2      TRIF_SP         0\n",
            "4362   YVP 246 2017-06-01       3      TRIF_SP         1\n",
            "4369   YVP 246 2018-06-23       3      TRIF_SP         1\n",
            "4374   YVP 246 2017-06-01       4      TRIF_SP         1\n",
            "4379   YVP 246 2018-06-23       4      TRIF_SP         0\n",
            "4385   YVP 246 2017-06-01       5      TRIF_SP         2\n",
            "4391   YVP 246 2018-06-23       5      TRIF_SP         0\n",
            "4396   YVP 246 2017-06-01       6      TRIF_SP         2\n",
            "4401   YVP 246 2018-06-23       6      TRIF_SP         0\n",
            "4407   YVP 246 2017-06-01       7      TRIF_SP         1\n",
            "4413   YVP 246 2018-06-23       7      TRIF_SP         0\n",
            "4418   YVP 246 2017-06-01       8      TRIF_SP         1\n",
            "4423   YVP 246 2018-06-23       8      TRIF_SP         0\n",
            "4443   YVP 246 2017-06-01      10      TRIF_SP         2\n",
            "4451   YVP 246 2018-06-23      10      TRIF_SP         0\n",
            "5936   YVP 468 2017-07-06       4      TRIF_SP         2\n",
            "6766   YVP 485 2017-07-06       3      TRIF_SP         1\n",
            "6772   YVP 485 2018-07-16       3      TRIF_SP         1\n",
            "8840  YVP N348 2017-07-18       2      TRIF_SP         2\n",
            "8851  YVP N348 2018-07-11       2      TRIF_SP         4\n",
            "\n",
            "number of corrections made (cumulative):  195 \n",
            "\n",
            "\n",
            "number of incorrect code entries:  2 \n",
            "incorrect code:  AGROSP \n",
            "     plot_code       date subplot species_code cover_pct\n",
            "5889   YVP 468 2017-07-06       1      AGRO_SP         4\n",
            "5928   YVP 468 2017-07-06       4      AGRO_SP         2\n",
            "\n",
            "number of corrections made (cumulative):  197 \n",
            "\n",
            "\n",
            "number of incorrect code entries:  45 \n",
            "incorrect code:  ANTE SP \n",
            "      plot_code       date subplot species_code cover_pct\n",
            "13503 YVP NB294 2019-05-13       7      ANTE_SP         0\n",
            "13568  YVP N324 2019-05-14       1      ANTE_SP        10\n",
            "15149  YVP N278 2019-05-23       4      ANTE_SP         4\n",
            "15217  YVP N278 2019-05-23       8      ANTE_SP         2\n",
            "15233  YVP N278 2019-05-23       9      ANTE_SP         1\n",
            "15355   YVP N58 2019-05-27       1      ANTE_SP         3\n",
            "15567   YVP 355 2019-05-28       3      ANTE_SP        10\n",
            "15655   YVP 355 2019-05-28       7      ANTE_SP         2\n",
            "15691   YVP 355 2019-05-28       9      ANTE_SP        10\n",
            "15963  YVP N550 2019-05-28       4      ANTE_SP         2\n",
            "15987  YVP N550 2019-05-28       5      ANTE_SP         4\n",
            "16009  YVP N550 2019-05-28       6      ANTE_SP         3\n",
            "16033  YVP N550 2019-05-28       7      ANTE_SP         2\n",
            "16076  YVP N550 2019-05-28       9      ANTE_SP         5\n",
            "16096  YVP N550 2019-05-28      10      ANTE_SP         3\n",
            "16841  YVP N501 2019-05-30       3      ANTE_SP         1\n",
            "16905  YVP N501 2019-05-30       6      ANTE_SP        15\n",
            "18568   YVP 395 2019-06-17       3      ANTE_SP         3\n",
            "18607   YVP 395 2019-06-17       5      ANTE_SP         3\n",
            "18641   YVP 395 2019-06-17       7      ANTE_SP         2\n",
            "18659   YVP 395 2019-06-17       8      ANTE_SP         2\n",
            "19120   YVP 205 2019-06-26       1      ANTE_SP         1\n",
            "19160   YVP 205 2019-06-26       3      ANTE_SP         2\n",
            "19275   YVP 205 2019-06-26       8      ANTE_SP         5\n",
            "19545  YVP N402 2019-06-26       2      ANTE_SP         1\n",
            "19674    YVP 44 2019-06-27       1      ANTE_SP        10\n",
            "19688    YVP 44 2019-06-27       2      ANTE_SP         4\n",
            "19701    YVP 44 2019-06-27       3      ANTE_SP         5\n",
            "19728    YVP 44 2019-06-27       5      ANTE_SP         1\n",
            "19771    YVP 44 2019-06-27       8      ANTE_SP         1\n",
            "19784    YVP 44 2019-06-27       9      ANTE_SP         5\n",
            "19799    YVP 44 2019-06-27      10      ANTE_SP         1\n",
            "19967  YVP N386 2019-07-01       1      ANTE_SP         1\n",
            "20023  YVP N386 2019-07-01       4      ANTE_SP         0\n",
            "20058  YVP N386 2019-07-01       6      ANTE_SP         3\n",
            "20115  YVP N386 2019-07-01       9      ANTE_SP        10\n",
            "20332    YVP 10 2019-07-02       1      ANTE_SP         1\n",
            "20424    YVP 10 2019-07-02       6      ANTE_SP         5\n",
            "20485    YVP 10 2019-07-02       9      ANTE_SP         0\n",
            "20595    YVP 12 2019-07-02       5      ANTE_SP         1\n",
            "20666    YVP 12 2019-07-02       8      ANTE_SP         2\n",
            "20797    YVP 20 2019-07-02       5      ANTE_SP         1\n",
            "21078    YVP 22 2019-07-02       9      ANTE_SP         1\n",
            "21098    YVP 22 2019-07-02      10      ANTE_SP         3\n",
            "21398   YVP 481 2019-07-15       1      ANTE_SP         1\n",
            "\n",
            "number of corrections made (cumulative):  242 \n",
            "\n",
            "\n",
            "number of incorrect code entries:  91 \n",
            "incorrect code:  ANTSPP \n",
            "      plot_code       date subplot species_code cover_pct\n",
            "15       YVP 10 2018-07-12       1      ANTE_SP         3\n",
            "31       YVP 10 2017-06-09       2      ANTE_SP         1\n",
            "161      YVP 10 2018-07-12       6      ANTE_SP         2\n",
            "251      YVP 10 2018-07-12       9      ANTE_SP         4\n",
            "270      YVP 10 2017-06-09      10      ANTE_SP         2\n",
            "777      YVP 12 2017-06-09       5      ANTE_SP         3\n",
            "796      YVP 12 2018-07-10       5      ANTE_SP         1\n",
            "896      YVP 12 2017-06-09       8      ANTE_SP         2\n",
            "910      YVP 12 2018-07-10       8      ANTE_SP         5\n",
            "2410     YVP 20 2018-07-12       5      ANTE_SP         3\n",
            "2981    YVP 205 2017-06-05       1      ANTE_SP         2\n",
            "2996    YVP 205 2018-06-28       1      ANTE_SP         1\n",
            "3014    YVP 205 2017-06-05       2      ANTE_SP         1\n",
            "3067    YVP 205 2018-06-28       3      ANTE_SP         3\n",
            "3207    YVP 205 2018-06-28       7      ANTE_SP         3\n",
            "3243    YVP 205 2018-06-28       8      ANTE_SP         2\n",
            "4267     YVP 22 2017-06-09       9      ANTE_SP         1\n",
            "4281     YVP 22 2018-07-12       9      ANTE_SP        10\n",
            "4300     YVP 22 2017-06-09      10      ANTE_SP         2\n",
            "4315     YVP 22 2018-07-12      10      ANTE_SP         5\n",
            "4670    YVP 355 2017-06-02       3      ANTE_SP         2\n",
            "4685    YVP 355 2018-06-25       3      ANTE_SP         5\n",
            "4791    YVP 355 2017-06-02       7      ANTE_SP         1\n",
            "4808    YVP 355 2018-06-25       7      ANTE_SP         2\n",
            "4853    YVP 355 2017-06-02       9      ANTE_SP         1\n",
            "4866    YVP 355 2018-06-25       9      ANTE_SP        15\n",
            "4967    YVP 395 2017-06-05       3      ANTE_SP         2\n",
            "4982    YVP 395 2018-07-05       3      ANTE_SP         1\n",
            "5038    YVP 395 2018-07-05       5      ANTE_SP         2\n",
            "5084    YVP 395 2017-06-05       7      ANTE_SP         2\n",
            "5100    YVP 395 2018-07-05       7      ANTE_SP         2\n",
            "5118    YVP 395 2017-06-05       8      ANTE_SP         2\n",
            "5132    YVP 395 2018-07-05       8      ANTE_SP         2\n",
            "5150    YVP 395 2017-06-05       9      ANTE_SP         2\n",
            "5164    YVP 395 2018-07-05       9      ANTE_SP         5\n",
            "5479     YVP 44 2017-06-06       1      ANTE_SP         3\n",
            "5488     YVP 44 2018-07-04       1      ANTE_SP         3\n",
            "5501     YVP 44 2017-06-06       2      ANTE_SP         3\n",
            "5510     YVP 44 2018-07-04       2      ANTE_SP         1\n",
            "5530     YVP 44 2018-07-04       3      ANTE_SP        15\n",
            "5569     YVP 44 2017-06-06       5      ANTE_SP         1\n",
            "5578     YVP 44 2018-07-04       5      ANTE_SP         1\n",
            "5665     YVP 44 2017-06-06       9      ANTE_SP         2\n",
            "5678     YVP 44 2018-07-04       9      ANTE_SP        10\n",
            "5692     YVP 44 2017-06-06      10      ANTE_SP         1\n",
            "5703     YVP 44 2018-07-04      10      ANTE_SP         3\n",
            "7607   YVP N111 2017-05-25       2      ANTE_SP         4\n",
            "7628   YVP N111 2017-05-25       3      ANTE_SP         1\n",
            "8146   YVP N278 2018-05-28       3      ANTE_SP         1\n",
            "8159   YVP N278 2017-05-09       4      ANTE_SP         2\n",
            "8170   YVP N278 2018-05-28       4      ANTE_SP         1\n",
            "8273   YVP N278 2017-05-09       8      ANTE_SP         1\n",
            "8282   YVP N278 2018-05-28       8      ANTE_SP         1\n",
            "8309   YVP N278 2018-05-28       9      ANTE_SP         1\n",
            "8323   YVP N278 2017-05-09      10      ANTE_SP         1\n",
            "8545   YVP N324 2017-05-10       1      ANTE_SP         3\n",
            "8557   YVP N324 2018-05-29       1      ANTE_SP        10\n",
            "8598   YVP N324 2017-05-10       3      ANTE_SP         1\n",
            "8696   YVP N324 2017-05-10       7      ANTE_SP         1\n",
            "8761   YVP N324 2017-05-10       9      ANTE_SP         1\n",
            "8980   YVP N386 2017-06-08       1      ANTE_SP         1\n",
            "8993   YVP N386 2018-07-05       1      ANTE_SP         1\n",
            "9063   YVP N386 2017-06-08       4      ANTE_SP         1\n",
            "9076   YVP N386 2018-07-05       4      ANTE_SP         0\n",
            "9120   YVP N386 2017-06-08       6      ANTE_SP         1\n",
            "9133   YVP N386 2018-07-05       6      ANTE_SP         4\n",
            "9212   YVP N386 2017-06-08       9      ANTE_SP         2\n",
            "9224   YVP N386 2018-07-05       9      ANTE_SP        15\n",
            "9308   YVP N402 2017-06-06       2      ANTE_SP         1\n",
            "9325   YVP N402 2018-07-02       2      ANTE_SP         5\n",
            "9865   YVP N501 2018-07-09       3      ANTE_SP         1\n",
            "9943   YVP N501 2017-06-07       6      ANTE_SP         5\n",
            "9956   YVP N501 2018-07-09       6      ANTE_SP         3\n",
            "10486  YVP N550 2017-06-07       4      ANTE_SP         1\n",
            "10501  YVP N550 2018-07-09       4      ANTE_SP         2\n",
            "10523  YVP N550 2017-06-07       5      ANTE_SP         3\n",
            "10542  YVP N550 2018-07-09       5      ANTE_SP         5\n",
            "10563  YVP N550 2017-06-07       6      ANTE_SP         1\n",
            "10580  YVP N550 2018-07-09       6      ANTE_SP         3\n",
            "10616  YVP N550 2018-07-09       7      ANTE_SP         2\n",
            "10670  YVP N550 2017-06-07       9      ANTE_SP         2\n",
            "10688  YVP N550 2018-07-09       9      ANTE_SP         4\n",
            "10708  YVP N550 2017-06-07      10      ANTE_SP         1\n",
            "10720  YVP N550 2018-07-09      10      ANTE_SP         2\n",
            "10874  YVP N552 2017-06-07       6      ANTE_SP         1\n",
            "11722   YVP N58 2018-06-25       1      ANTE_SP         2\n",
            "11752   YVP N58 2018-06-25       2      ANTE_SP         3\n",
            "11955   YVP N58 2017-05-23      10      ANTE_SP         5\n",
            "11967   YVP N58 2018-06-25      10      ANTE_SP        10\n",
            "12918 YVP NB294 2017-05-08       7      ANTE_SP         1\n",
            "12934 YVP NB294 2018-05-30       7      ANTE_SP         1\n",
            "\n",
            "number of corrections made (cumulative):  333 \n",
            "\n",
            "\n",
            "number of incorrect code entries:  1 \n",
            "incorrect code:  ARTE SP \n",
            "      plot_code       date subplot species_code cover_pct\n",
            "14719   YVP 209 2019-05-23       4      ARTE_SP         0\n",
            "\n",
            "number of corrections made (cumulative):  334 \n",
            "\n",
            "\n",
            "number of incorrect code entries:  16 \n",
            "incorrect code:  BOEC SP \n",
            "      plot_code       date subplot species_code cover_pct\n",
            "13813  YVP N321 2019-05-15       2      BOEC_SP         1\n",
            "14328   YVP 184 2019-05-22       2      BOEC_SP         0\n",
            "14420   YVP 184 2019-05-22       8      BOEC_SP         1\n",
            "14464   YVP 185 2019-05-22       1      BOEC_SP         1\n",
            "14484   YVP 185 2019-05-22       2      BOEC_SP         1\n",
            "14543   YVP 185 2019-05-22       5      BOEC_SP         1\n",
            "14564   YVP 185 2019-05-22       6      BOEC_SP         1\n",
            "14598   YVP 185 2019-05-22       8      BOEC_SP         1\n",
            "14700   YVP 209 2019-05-23       3      BOEC_SP         0\n",
            "15171  YVP N278 2019-05-23       5      BOEC_SP         1\n",
            "18623   YVP 395 2019-06-17       6      BOEC_SP         0\n",
            "19080  YVP N558 2019-06-18       8      BOEC_SP         1\n",
            "19884    YVP 62 2019-06-27       5      BOEC_SP         1\n",
            "20117  YVP N386 2019-07-01       9      BOEC_SP         0\n",
            "20237    YVP N7 2019-07-01       6      BOEC_SP         1\n",
            "20333    YVP 10 2019-07-02       1      BOEC_SP         1\n",
            "\n",
            "number of corrections made (cumulative):  350 \n",
            "\n",
            "\n",
            "number of incorrect code entries:  16 \n",
            "incorrect code:  BOESPP \n",
            "     plot_code       date subplot species_code cover_pct\n",
            "1       YVP 10 2017-06-09       1      BOEC_SP         1\n",
            "16      YVP 10 2018-07-12       1      BOEC_SP         0\n",
            "212     YVP 10 2017-06-09       8      BOEC_SP         1\n",
            "1757   YVP 184 2018-05-30       2      BOEC_SP         1\n",
            "1903   YVP 184 2018-05-30       8      BOEC_SP         1\n",
            "1985   YVP 185 2018-05-30       1      BOEC_SP         1\n",
            "2018   YVP 185 2018-05-30       2      BOEC_SP         1\n",
            "2111   YVP 185 2018-05-30       5      BOEC_SP         1\n",
            "2144   YVP 185 2018-05-30       6      BOEC_SP         1\n",
            "2203   YVP 185 2018-05-30       8      BOEC_SP         1\n",
            "3405   YVP 209 2018-05-31       3      BOEC_SP         2\n",
            "5052   YVP 395 2017-06-05       6      BOEC_SP         1\n",
            "5068   YVP 395 2018-07-05       6      BOEC_SP         1\n",
            "8189  YVP N278 2017-05-09       5      BOEC_SP         1\n",
            "8207  YVP N278 2018-05-28       5      BOEC_SP         0\n",
            "9226  YVP N386 2018-07-05       9      BOEC_SP         1\n",
            "\n",
            "number of corrections made (cumulative):  366 \n",
            "\n",
            "\n",
            "number of incorrect code entries:  4 \n",
            "incorrect code:  CAST SP \n",
            "      plot_code       date subplot species_code cover_pct\n",
            "15133  YVP N278 2019-05-23       3      CAST_SP         1\n",
            "15928  YVP N550 2019-05-28       2      CAST_SP         0\n",
            "16060  YVP N550 2019-05-28       8      CAST_SP         0\n",
            "16081  YVP N550 2019-05-28       9      CAST_SP         0\n",
            "\n",
            "number of corrections made (cumulative):  370 \n",
            "\n",
            "\n",
            "number of incorrect code entries:  1 \n",
            "incorrect code:  CERA SP \n",
            "      plot_code       date subplot species_code cover_pct\n",
            "21170  YVP N348 2019-07-05       6      CERA_SP         0\n",
            "\n",
            "number of corrections made (cumulative):  371 \n",
            "\n",
            "\n",
            "number of incorrect code entries:  3 \n",
            "incorrect code:  CREP SP \n",
            "      plot_code       date subplot species_code cover_pct\n",
            "17741  YVP N522 2019-06-06       4      CREP_SP         1\n",
            "17758  YVP N522 2019-06-06       5      CREP_SP         2\n",
            "18787  YVP N158 2019-06-17       5      CREP_SP         1\n",
            "\n",
            "number of corrections made (cumulative):  374 \n",
            "\n",
            "\n",
            "number of incorrect code entries:  2 \n",
            "incorrect code:  CRYP SP \n",
            "      plot_code       date subplot species_code cover_pct\n",
            "15116  YVP N278 2019-05-23       1      CRYP_SP         1\n",
            "15146  YVP N278 2019-05-23       3      CRYP_SP         0\n",
            "\n",
            "number of corrections made (cumulative):  376 \n",
            "\n",
            "\n",
            "number of incorrect code entries:  1 \n",
            "incorrect code:  DESC SP \n",
            "      plot_code       date subplot species_code cover_pct\n",
            "13789 YVP NA294 2019-05-14       8      DESC_SP         1\n",
            "\n",
            "number of corrections made (cumulative):  377 \n",
            "\n",
            "\n",
            "number of incorrect code entries:  4 \n",
            "incorrect code:  DODE SP \n",
            "      plot_code       date subplot species_code cover_pct\n",
            "16806  YVP N501 2019-05-30       1      DODE_SP         0\n",
            "16825  YVP N501 2019-05-30       2      DODE_SP         1\n",
            "19989  YVP N386 2019-07-01       2      DODE_SP         1\n",
            "20816    YVP 20 2019-07-02       6      DODE_SP         0\n",
            "\n",
            "number of corrections made (cumulative):  381 \n",
            "\n",
            "\n",
            "number of incorrect code entries:  1 \n",
            "incorrect code:  ELYM SP \n",
            "      plot_code       date subplot species_code cover_pct\n",
            "21199  YVP N348 2019-07-05       9      ELYM_SP        15\n",
            "\n",
            "number of corrections made (cumulative):  382 \n",
            "\n",
            "\n",
            "number of incorrect code entries:  6 \n",
            "incorrect code:  EQUI SP \n",
            "      plot_code       date subplot species_code cover_pct\n",
            "21220   YVP 479 2019-07-15       1      EQUI_SP         2\n",
            "21243   YVP 479 2019-07-15       2      EQUI_SP         3\n",
            "21264   YVP 479 2019-07-15       3      EQUI_SP         3\n",
            "21346   YVP 479 2019-07-15       8      EQUI_SP         1\n",
            "21364   YVP 479 2019-07-15       9      EQUI_SP         2\n",
            "21382   YVP 479 2019-07-15      10      EQUI_SP         1\n",
            "\n",
            "number of corrections made (cumulative):  388 \n",
            "\n",
            "\n",
            "number of incorrect code entries:  2 \n",
            "incorrect code:  ERIG SP \n",
            "      plot_code       date subplot species_code cover_pct\n",
            "13316 YVP NC294 2019-05-09       4      ERIG_SP         0\n",
            "21266   YVP 479 2019-07-15       3      ERIG_SP         0\n",
            "\n",
            "number of corrections made (cumulative):  390 \n",
            "\n",
            "\n",
            "number of incorrect code entries:  1 \n",
            "incorrect code:  HIERSP \n",
            "     plot_code       date subplot species_code cover_pct\n",
            "7929  YVP N158 2017-05-30       5      HIER_SP         2\n",
            "\n",
            "number of corrections made (cumulative):  391 \n",
            "\n",
            "\n",
            "number of incorrect code entries:  1 \n",
            "incorrect code:  POTE SP \n",
            "      plot_code       date subplot species_code cover_pct\n",
            "21130  YVP N348 2019-07-05       2      POTE_SP         0\n",
            "\n",
            "number of corrections made (cumulative):  392 \n",
            "\n",
            "\n",
            "number of incorrect code entries:  1 \n",
            "incorrect code:  RUME SP \n",
            "      plot_code       date subplot species_code cover_pct\n",
            "21631   YVP 485 2019-07-16       4      RUME_SP         0\n",
            "\n",
            "number of corrections made (cumulative):  393 \n",
            "\n",
            "\n",
            "number of incorrect code entries:  1 \n",
            "incorrect code:  SALI SP \n",
            "      plot_code       date subplot species_code cover_pct\n",
            "21201  YVP N348 2019-07-05       9      SALI_SP         2\n",
            "\n",
            "number of corrections made (cumulative):  394 \n",
            "\n",
            "\n",
            "number of incorrect code entries:  2 \n",
            "incorrect code:  SYMP SP \n",
            "      plot_code       date subplot species_code cover_pct\n",
            "16507    YVP 46 2019-05-29       6      SYMP_SP         3\n",
            "16620    YVP 47 2019-05-29       5      SYMP_SP         5\n",
            "\n",
            "number of corrections made (cumulative):  396 \n",
            "\n",
            "\n",
            "number of incorrect code entries:  19 \n",
            "incorrect code:  TRIF SP \n",
            "      plot_code       date subplot species_code cover_pct\n",
            "17531   YVP 212 2019-06-04       2      TRIF_SP         0\n",
            "17537   YVP 212 2019-06-04       3      TRIF_SP         0\n",
            "17545   YVP 212 2019-06-04       4      TRIF_SP         0\n",
            "17554   YVP 212 2019-06-04       5      TRIF_SP         0\n",
            "17563   YVP 212 2019-06-04       6      TRIF_SP         0\n",
            "17573   YVP 212 2019-06-04       7      TRIF_SP         0\n",
            "17586   YVP 212 2019-06-04       8      TRIF_SP         0\n",
            "17596   YVP 212 2019-06-04       9      TRIF_SP         0\n",
            "17609   YVP 212 2019-06-04      10      TRIF_SP         0\n",
            "17627   YVP 246 2019-06-04       2      TRIF_SP         0\n",
            "17634   YVP 246 2019-06-04       3      TRIF_SP         0\n",
            "17639   YVP 246 2019-06-04       4      TRIF_SP         0\n",
            "17645   YVP 246 2019-06-04       5      TRIF_SP         0\n",
            "17652   YVP 246 2019-06-04       6      TRIF_SP         0\n",
            "17659   YVP 246 2019-06-04       7      TRIF_SP         0\n",
            "17666   YVP 246 2019-06-04       8      TRIF_SP         0\n",
            "17681   YVP 246 2019-06-04      10      TRIF_SP         0\n",
            "21133  YVP N348 2019-07-05       2      TRIF_SP         0\n",
            "21621   YVP 485 2019-07-16       3      TRIF_SP         0\n",
            "\n",
            "number of corrections made (cumulative):  415 \n",
            "\n",
            "\n",
            "number of incorrect code entries:  21 \n",
            "incorrect code:  UNKN SP \n",
            "      plot_code       date subplot species_code cover_pct\n",
            "17754  YVP N522 2019-06-06       4      UNKN_SP         1\n",
            "19092  YVP N558 2019-06-18       8      UNKN_SP         1\n",
            "21152  YVP N348 2019-07-05       4      UNKN_SP         3\n",
            "21203  YVP N348 2019-07-05       9      UNKN_SP         5\n",
            "21213  YVP N348 2019-07-05      10      UNKN_SP         3\n",
            "21280   YVP 479 2019-07-15       3      UNKN_SP         2\n",
            "21522   YVP 468 2019-07-16       1      UNKN_SP        10\n",
            "21529   YVP 468 2019-07-16       2      UNKN_SP        NA\n",
            "21537   YVP 468 2019-07-16       3      UNKN_SP         5\n",
            "21547   YVP 468 2019-07-16       4      UNKN_SP         5\n",
            "21555   YVP 468 2019-07-16       5      UNKN_SP         4\n",
            "21564   YVP 468 2019-07-16       6      UNKN_SP         2\n",
            "21574   YVP 468 2019-07-16       7      UNKN_SP         1\n",
            "21585   YVP 468 2019-07-16       8      UNKN_SP         1\n",
            "21591   YVP 468 2019-07-16       9      UNKN_SP         1\n",
            "21598   YVP 468 2019-07-16      10      UNKN_SP         1\n",
            "21608   YVP 485 2019-07-16       1      UNKN_SP         5\n",
            "21615   YVP 485 2019-07-16       2      UNKN_SP         3\n",
            "21623   YVP 485 2019-07-16       3      UNKN_SP         5\n",
            "21633   YVP 485 2019-07-16       4      UNKN_SP         1\n",
            "21656   YVP 485 2019-07-16       7      UNKN_SP         1\n",
            "\n",
            "number of corrections made (cumulative):  436 \n",
            "\n",
            "\n"
          ],
          "name": "stdout"
        }
      ]
    },
    {
      "cell_type": "code",
      "metadata": {
        "id": "Lx445iA3Lcx1",
        "outputId": "e287a289-2b6d-4e7c-b869-91d3b5285848",
        "colab": {
          "base_uri": "https://localhost:8080/",
          "height": 95
        }
      },
      "source": [
        "# Rescan for incorrect species codes\n",
        "yvp_veg_cover_correct %>% \n",
        "anti_join(spp, by = c(\"species_code\" = \"key_PlantCode\")) %>% \n",
        "group_by(species_code) %>% distinct(species_code) %>% arrange(species_code)"
      ],
      "execution_count": null,
      "outputs": [
        {
          "output_type": "display_data",
          "data": {
            "text/plain": [
              "     species_code"
            ],
            "text/latex": "A grouped\\_df: 0 × 1\n\\begin{tabular}{l}\n species\\_code\\\\\n <chr>\\\\\n\\hline\n\\end{tabular}\n",
            "text/markdown": "\nA grouped_df: 0 × 1\n\n| species_code &lt;chr&gt; |\n|---|\n\n",
            "text/html": [
              "<table>\n",
              "<caption>A grouped_df: 0 × 1</caption>\n",
              "<thead>\n",
              "\t<tr><th scope=col>species_code</th></tr>\n",
              "\t<tr><th scope=col>&lt;chr&gt;</th></tr>\n",
              "</thead>\n",
              "<tbody>\n",
              "</tbody>\n",
              "</table>\n"
            ]
          },
          "metadata": {
            "tags": []
          }
        }
      ]
    },
    {
      "cell_type": "code",
      "metadata": {
        "id": "7XNL3E1KdR39",
        "outputId": "bdcf23ef-6ea8-4a6f-e62b-90419e606d3a",
        "colab": {
          "base_uri": "https://localhost:8080/",
          "height": 204
        }
      },
      "source": [
        "# Incorporate serial key for species codes\n",
        "yvp_vegetation_cover_FINAL = \n",
        "yvp_veg_cover_correct %>% \n",
        "left_join(spp %>% select(key_PlantSpecies, key_PlantCode), by = c(\"species_code\" = \"key_PlantCode\")) %>% \n",
        "rename(species_key = key_PlantSpecies) %>% \n",
        "select(c(1,2,3,4,5,6,9,7,8)) %>% \n",
        "glimpse()"
      ],
      "execution_count": null,
      "outputs": [
        {
          "output_type": "stream",
          "text": [
            "Rows: 21,682\n",
            "Columns: 9\n",
            "$ plot_code    \u001b[3m\u001b[90m<chr>\u001b[39m\u001b[23m \"YVP 10\", \"YVP 10\", \"YVP 10\", \"YVP 10\", \"YVP 10\", \"YVP 1…\n",
            "$ plot_loc     \u001b[3m\u001b[90m<chr>\u001b[39m\u001b[23m NA, NA, NA, NA, NA, NA, NA, NA, NA, NA, NA, NA, NA, NA, …\n",
            "$ plot_rep     \u001b[3m\u001b[90m<chr>\u001b[39m\u001b[23m NA, NA, NA, NA, NA, NA, NA, NA, NA, NA, NA, NA, NA, NA, …\n",
            "$ plot_num     \u001b[3m\u001b[90m<int>\u001b[39m\u001b[23m 10, 10, 10, 10, 10, 10, 10, 10, 10, 10, 10, 10, 10, 10, …\n",
            "$ date         \u001b[3m\u001b[90m<date>\u001b[39m\u001b[23m 2017-06-09, 2017-06-09, 2017-06-09, 2017-06-09, 2017-06…\n",
            "$ subplot      \u001b[3m\u001b[90m<int>\u001b[39m\u001b[23m 1, 1, 1, 1, 1, 1, 1, 1, 1, 1, 1, 1, 1, 1, 1, 1, 1, 1, 1,…\n",
            "$ species_key  \u001b[3m\u001b[90m<dbl>\u001b[39m\u001b[23m 780, 163, 230, 232, 233, 250, 84, 316, 320, 343, 483, 57…\n",
            "$ species_code \u001b[3m\u001b[90m<chr>\u001b[39m\u001b[23m \"BOEC_SP\", \"CREINT\", \"EUPESU\", \"FESCAM\", \"FESIDA\", \"GEUT…\n",
            "$ cover_pct    \u001b[3m\u001b[90m<int>\u001b[39m\u001b[23m 1, 1, 5, 25, 25, 10, 1, 1, 5, 1, 30, 2, 2, 1, 3, 0, 1, 0…\n"
          ],
          "name": "stdout"
        }
      ]
    },
    {
      "cell_type": "code",
      "metadata": {
        "id": "TUR0BSONNwCa",
        "outputId": "d5f607ce-4c4b-42d1-a226-fd50da1a0435",
        "colab": {
          "base_uri": "https://localhost:8080/",
          "height": 425
        }
      },
      "source": [
        "summary(yvp_vegetation_cover_FINAL)"
      ],
      "execution_count": null,
      "outputs": [
        {
          "output_type": "display_data",
          "data": {
            "text/plain": [
              "  plot_code           plot_loc           plot_rep            plot_num    \n",
              " Length:21682       Length:21682       Length:21682       Min.   :  7.0  \n",
              " Class :character   Class :character   Class :character   1st Qu.: 62.0  \n",
              " Mode  :character   Mode  :character   Mode  :character   Median :209.0  \n",
              "                                                          Mean   :244.9  \n",
              "                                                          3rd Qu.:386.0  \n",
              "                                                          Max.   :571.0  \n",
              "                                                                         \n",
              "      date               subplot        species_key    species_code      \n",
              " Min.   :2017-05-08   Min.   : 1.000   Min.   :  3.0   Length:21682      \n",
              " 1st Qu.:2017-06-09   1st Qu.: 3.000   1st Qu.:153.0   Class :character  \n",
              " Median :2018-07-02   Median : 5.000   Median :274.0   Mode  :character  \n",
              " Mean   :2018-07-22   Mean   : 5.499   Mean   :280.1                     \n",
              " 3rd Qu.:2019-05-28   3rd Qu.: 8.000   3rd Qu.:411.0                     \n",
              " Max.   :2019-07-16   Max.   :10.000   Max.   :784.0                     \n",
              "                                                                         \n",
              "   cover_pct      \n",
              " Min.   :  0.000  \n",
              " 1st Qu.:  1.000  \n",
              " Median :  2.000  \n",
              " Mean   :  6.701  \n",
              " 3rd Qu.:  5.000  \n",
              " Max.   :100.000  \n",
              " NA's   :17       "
            ]
          },
          "metadata": {
            "tags": []
          }
        }
      ]
    },
    {
      "cell_type": "markdown",
      "metadata": {
        "id": "wqrk0hpb86zD"
      },
      "source": [
        "# Output"
      ]
    },
    {
      "cell_type": "markdown",
      "metadata": {
        "id": "wZedeWaU7qty"
      },
      "source": [
        "## Export Wrangled DataFrame to CSV \n",
        "Export the full data set so that we can push it to the BQ database\n",
        "\n",
        "\n"
      ]
    },
    {
      "cell_type": "code",
      "metadata": {
        "id": "FKRdVva67thP",
        "outputId": "1b7cdd95-4992-498d-fd0d-00b4bca48b0a",
        "colab": {
          "base_uri": "https://localhost:8080/",
          "height": 51
        }
      },
      "source": [
        "filename_final = \"yvp_vegetation_cover_FINAL.csv\"\n",
        "\n",
        "if (filename_final %in% list.files(getwd())) {\n",
        "  cat(\"file already exists in working directory:\", filename_final, \"\\n\", \"working directory:\", getwd(), \"\\n\")\n",
        "} else {\n",
        "  write.csv(yvp_vegetation_cover_FINAL, filename_final)\n",
        "  cat(filename_final, \"written to working directory \\n\", \"working directory:\", getwd(), \"\\n\")\n",
        "}"
      ],
      "execution_count": null,
      "outputs": [
        {
          "output_type": "stream",
          "text": [
            "yvp_vegetation_cover_FINAL.csv written to working directory \n",
            " working directory: /content \n"
          ],
          "name": "stdout"
        }
      ]
    },
    {
      "cell_type": "markdown",
      "metadata": {
        "id": "e_gWG69yLdlF"
      },
      "source": [
        "## Push to BigQuery"
      ]
    },
    {
      "cell_type": "markdown",
      "metadata": {
        "id": "5w-bW-2YMgSI"
      },
      "source": [
        "\"yvp_vegetation_cover_FINAL.csv\" uploaded manually to BigQuery"
      ]
    },
    {
      "cell_type": "markdown",
      "metadata": {
        "id": "TxPBf5Rk8dOS"
      },
      "source": [
        "## Export field datasheet version\n",
        "Field datasheets need to have a complete, cumulative species list for each plot recorded in a table, with the cover_pct column set to 0. This allows field techs to change the 0 to some number if the species is found. The date column is blank so that field techs can fill in the appropriate date. Do not include columns that are needed for data analysis, like plot_loc, plot_rep, plot_num, and species_key. \n",
        "\n",
        "**Schema for field data sheet**\n",
        "\n",
        "* plot_num (helps for sorting and finding plots)\n",
        "* plot_code\n",
        "* date\n",
        "* species_code\n",
        "* cover_pct"
      ]
    },
    {
      "cell_type": "code",
      "metadata": {
        "id": "dBaIyvdz9JWU",
        "outputId": "e4089a56-c0e0-4378-88e5-8f8a09574644",
        "colab": {
          "base_uri": "https://localhost:8080/",
          "height": 170
        }
      },
      "source": [
        "field_datasheet = \n",
        "yvp_vegetation_cover_FINAL %>% \n",
        "select(plot_num, plot_code, subplot, species_code) %>% \n",
        "group_by(plot_num, plot_code, subplot) %>% \n",
        "distinct(species_code) %>% \n",
        "select(-species_code, species_code) %>% \n",
        "add_column(date = NA, .after = \"plot_code\") %>% \n",
        "add_column(cover_pct = 0) %>% \n",
        "arrange(plot_num, plot_code, subplot, species_code) %>% \n",
        "glimpse()"
      ],
      "execution_count": null,
      "outputs": [
        {
          "output_type": "stream",
          "text": [
            "Rows: 8,861\n",
            "Columns: 6\n",
            "Groups: plot_num, plot_code, subplot [580]\n",
            "$ plot_num     \u001b[3m\u001b[90m<int>\u001b[39m\u001b[23m 7, 7, 7, 7, 7, 7, 7, 7, 7, 7, 7, 7, 7, 7, 7, 7, 7, 7, 7,…\n",
            "$ plot_code    \u001b[3m\u001b[90m<chr>\u001b[39m\u001b[23m \"YVP N7\", \"YVP N7\", \"YVP N7\", \"YVP N7\", \"YVP N7\", \"YVP N…\n",
            "$ date         \u001b[3m\u001b[90m<lgl>\u001b[39m\u001b[23m NA, NA, NA, NA, NA, NA, NA, NA, NA, NA, NA, NA, NA, NA, …\n",
            "$ subplot      \u001b[3m\u001b[90m<int>\u001b[39m\u001b[23m 1, 1, 1, 1, 1, 1, 1, 1, 1, 1, 1, 1, 1, 1, 1, 1, 1, 2, 2,…\n",
            "$ species_code \u001b[3m\u001b[90m<chr>\u001b[39m\u001b[23m \"ACHMIL\", \"ALYALY\", \"BROTEC\", \"CAMMIC\", \"CARE_SP\", \"COLL…\n",
            "$ cover_pct    \u001b[3m\u001b[90m<dbl>\u001b[39m\u001b[23m 0, 0, 0, 0, 0, 0, 0, 0, 0, 0, 0, 0, 0, 0, 0, 0, 0, 0, 0,…\n"
          ],
          "name": "stdout"
        }
      ]
    },
    {
      "cell_type": "code",
      "metadata": {
        "id": "gvuDq6wgEGH5",
        "outputId": "5922cbd3-a65e-4817-b01c-43fcd6f52345",
        "colab": {
          "base_uri": "https://localhost:8080/",
          "height": 51
        }
      },
      "source": [
        "filename_field_datasheet = \"yvp_vegetation_cover_field_datasheet_FINAL.csv\"\n",
        "\n",
        "if (filename_field_datasheet %in% list.files(getwd())) {\n",
        "  cat(\"file already exists in working directory:\", filename_final, \"\\n\", \"working directory:\", getwd(), \"\\n\")\n",
        "} else {\n",
        "  write.csv(field_datasheet, filename_field_datasheet)\n",
        "  cat(filename_final, \"written to working directory \\n\", \"working directory:\", getwd(), \"\\n\")\n",
        "}"
      ],
      "execution_count": null,
      "outputs": [
        {
          "output_type": "stream",
          "text": [
            "yvp_vegetation_cover_FINAL.csv written to working directory \n",
            " working directory: /content \n"
          ],
          "name": "stdout"
        }
      ]
    }
  ]
}