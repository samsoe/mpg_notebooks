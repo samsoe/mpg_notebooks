{
  "nbformat": 4,
  "nbformat_minor": 0,
  "metadata": {
    "colab": {
      "name": "YVP - Vegetation Cover Data - Wrangle.ipynb",
      "provenance": [],
      "collapsed_sections": [],
      "authorship_tag": "ABX9TyOx4vEsHn3iNu/xHvAgXi/A",
      "include_colab_link": true
    },
    "kernelspec": {
      "name": "ir",
      "display_name": "R"
    }
  },
  "cells": [
    {
      "cell_type": "markdown",
      "metadata": {
        "id": "view-in-github",
        "colab_type": "text"
      },
      "source": [
        "<a href=\"https://colab.research.google.com/github/samsoe/mpg_notebooks/blob/master/YVP_Vegetation_Cover_Data_Wrangle.ipynb\" target=\"_parent\"><img src=\"https://colab.research.google.com/assets/colab-badge.svg\" alt=\"Open In Colab\"/></a>"
      ]
    },
    {
      "cell_type": "markdown",
      "metadata": {
        "id": "sLoATLEdI-hh",
        "colab_type": "text"
      },
      "source": [
        "*R Notebook*"
      ]
    },
    {
      "cell_type": "markdown",
      "metadata": {
        "id": "YZbGHbTzJQrV",
        "colab_type": "text"
      },
      "source": [
        "# README"
      ]
    },
    {
      "cell_type": "markdown",
      "metadata": {
        "id": "G095KjDNJS6E",
        "colab_type": "text"
      },
      "source": [
        "* [Readme fixed grid plot vegetation data](https://docs.google.com/document/d/16-Aq8u9Rudd78fSzfjvpCXyQgE-BstC-d2PjYfmLtcw/edit?usp=sharing)"
      ]
    },
    {
      "cell_type": "markdown",
      "metadata": {
        "id": "DTleZaOpPUo-",
        "colab_type": "text"
      },
      "source": [
        "# Load Tools"
      ]
    },
    {
      "cell_type": "code",
      "metadata": {
        "id": "nQA2WSBCPXuD",
        "colab_type": "code",
        "colab": {
          "base_uri": "https://localhost:8080/",
          "height": 204
        },
        "outputId": "c6d4ba94-d5b3-4559-9123-3a3c077c0053"
      },
      "source": [
        "library(tidyverse)"
      ],
      "execution_count": 1,
      "outputs": [
        {
          "output_type": "stream",
          "text": [
            "── \u001b[1mAttaching packages\u001b[22m ─────────────────────────────────────── tidyverse 1.3.0 ──\n",
            "\n",
            "\u001b[32m✔\u001b[39m \u001b[34mggplot2\u001b[39m 3.3.0     \u001b[32m✔\u001b[39m \u001b[34mpurrr  \u001b[39m 0.3.3\n",
            "\u001b[32m✔\u001b[39m \u001b[34mtibble \u001b[39m 3.0.0     \u001b[32m✔\u001b[39m \u001b[34mdplyr  \u001b[39m 0.8.5\n",
            "\u001b[32m✔\u001b[39m \u001b[34mtidyr  \u001b[39m 1.0.2     \u001b[32m✔\u001b[39m \u001b[34mstringr\u001b[39m 1.4.0\n",
            "\u001b[32m✔\u001b[39m \u001b[34mreadr  \u001b[39m 1.3.1     \u001b[32m✔\u001b[39m \u001b[34mforcats\u001b[39m 0.5.0\n",
            "\n",
            "── \u001b[1mConflicts\u001b[22m ────────────────────────────────────────── tidyverse_conflicts() ──\n",
            "\u001b[31m✖\u001b[39m \u001b[34mdplyr\u001b[39m::\u001b[32mfilter()\u001b[39m masks \u001b[34mstats\u001b[39m::filter()\n",
            "\u001b[31m✖\u001b[39m \u001b[34mdplyr\u001b[39m::\u001b[32mlag()\u001b[39m    masks \u001b[34mstats\u001b[39m::lag()\n",
            "\n"
          ],
          "name": "stderr"
        }
      ]
    },
    {
      "cell_type": "markdown",
      "metadata": {
        "id": "RKBdNw56BzwD",
        "colab_type": "text"
      },
      "source": [
        "# Source"
      ]
    },
    {
      "cell_type": "code",
      "metadata": {
        "id": "X9t3Ks1oB3gG",
        "colab_type": "code",
        "colab": {}
      },
      "source": [
        "# 2020-04-28_yvp_vegetation_cover\n",
        "src = 'https://drive.google.com/uc?id=1pemnlKIlfAQw2JSMN7yDlYMG5QhUW-NP'"
      ],
      "execution_count": 0,
      "outputs": []
    },
    {
      "cell_type": "code",
      "metadata": {
        "id": "fvU8xi8iB4SI",
        "colab_type": "code",
        "colab": {}
      },
      "source": [
        "df <- read.csv(file = src)"
      ],
      "execution_count": 0,
      "outputs": []
    },
    {
      "cell_type": "code",
      "metadata": {
        "id": "YDY7IDdmB4PN",
        "colab_type": "code",
        "outputId": "36394acd-7173-4a26-c0c8-34557d1237e3",
        "colab": {
          "base_uri": "https://localhost:8080/",
          "height": 120
        }
      },
      "source": [
        "head(df, n=2)"
      ],
      "execution_count": 4,
      "outputs": [
        {
          "output_type": "display_data",
          "data": {
            "text/plain": [
              "  plot_code date       subplot species_code cover_pct\n",
              "1 YVP 10    2017-06-09 1       BOESPP       1        \n",
              "2 YVP 10    2017-06-09 1       CREINT       1        "
            ],
            "text/latex": "A data.frame: 2 × 5\n\\begin{tabular}{r|lllll}\n  & plot\\_code & date & subplot & species\\_code & cover\\_pct\\\\\n  & <fct> & <fct> & <int> & <fct> & <int>\\\\\n\\hline\n\t1 & YVP 10 & 2017-06-09 & 1 & BOESPP & 1\\\\\n\t2 & YVP 10 & 2017-06-09 & 1 & CREINT & 1\\\\\n\\end{tabular}\n",
            "text/markdown": "\nA data.frame: 2 × 5\n\n| <!--/--> | plot_code &lt;fct&gt; | date &lt;fct&gt; | subplot &lt;int&gt; | species_code &lt;fct&gt; | cover_pct &lt;int&gt; |\n|---|---|---|---|---|---|\n| 1 | YVP 10 | 2017-06-09 | 1 | BOESPP | 1 |\n| 2 | YVP 10 | 2017-06-09 | 1 | CREINT | 1 |\n\n",
            "text/html": [
              "<table>\n",
              "<caption>A data.frame: 2 × 5</caption>\n",
              "<thead>\n",
              "\t<tr><th></th><th scope=col>plot_code</th><th scope=col>date</th><th scope=col>subplot</th><th scope=col>species_code</th><th scope=col>cover_pct</th></tr>\n",
              "\t<tr><th></th><th scope=col>&lt;fct&gt;</th><th scope=col>&lt;fct&gt;</th><th scope=col>&lt;int&gt;</th><th scope=col>&lt;fct&gt;</th><th scope=col>&lt;int&gt;</th></tr>\n",
              "</thead>\n",
              "<tbody>\n",
              "\t<tr><th scope=row>1</th><td>YVP 10</td><td>2017-06-09</td><td>1</td><td>BOESPP</td><td>1</td></tr>\n",
              "\t<tr><th scope=row>2</th><td>YVP 10</td><td>2017-06-09</td><td>1</td><td>CREINT</td><td>1</td></tr>\n",
              "</tbody>\n",
              "</table>\n"
            ]
          },
          "metadata": {
            "tags": []
          }
        }
      ]
    },
    {
      "cell_type": "markdown",
      "metadata": {
        "id": "hH-_99bsKRVn",
        "colab_type": "text"
      },
      "source": [
        "# Wrangle"
      ]
    },
    {
      "cell_type": "markdown",
      "metadata": {
        "id": "P_3Rq2-4OVsJ",
        "colab_type": "text"
      },
      "source": [
        "## Structure columns"
      ]
    },
    {
      "cell_type": "markdown",
      "metadata": {
        "id": "801b78aYKc5B",
        "colab_type": "text"
      },
      "source": [
        "### plot_code"
      ]
    },
    {
      "cell_type": "code",
      "metadata": {
        "id": "ky8xiSEzKSCb",
        "colab_type": "code",
        "colab": {}
      },
      "source": [
        "# convert to string\n",
        "df$plot_code <- as.character(df$plot_code)"
      ],
      "execution_count": 0,
      "outputs": []
    },
    {
      "cell_type": "markdown",
      "metadata": {
        "id": "L2yzHLKuP4oz",
        "colab_type": "text"
      },
      "source": [
        "### plot_ loc"
      ]
    },
    {
      "cell_type": "code",
      "metadata": {
        "id": "x42pThVsQeuS",
        "colab_type": "code",
        "colab": {}
      },
      "source": [
        "# detect \"N\" in 'plot_code' and write to new column 'plot_loc'\n",
        "df <- df %>%\n",
        "  mutate(plot_loc = ifelse(str_detect(plot_code, \"N\"), \"N\", NA))"
      ],
      "execution_count": 0,
      "outputs": []
    },
    {
      "cell_type": "code",
      "metadata": {
        "id": "_QbPNISMm1Cu",
        "colab_type": "code",
        "colab": {}
      },
      "source": [
        "# # strip \"N\" from 'plot_code' if present\n",
        "# df$plot_code <- str_remove(df$plot_code, \"N\")"
      ],
      "execution_count": 0,
      "outputs": []
    },
    {
      "cell_type": "code",
      "metadata": {
        "id": "yihV0YgNVpEt",
        "colab_type": "code",
        "colab": {}
      },
      "source": [
        "# reorder columns\n",
        "df <- df[,c(1,6,2,3,4,5)]"
      ],
      "execution_count": 0,
      "outputs": []
    },
    {
      "cell_type": "markdown",
      "metadata": {
        "id": "0FWBUqUqWSNm",
        "colab_type": "text"
      },
      "source": [
        "### plot_rep"
      ]
    },
    {
      "cell_type": "code",
      "metadata": {
        "id": "qNVlve_WWY9a",
        "colab_type": "code",
        "colab": {}
      },
      "source": [
        "# detect \"A\", \"B\", \"C\" characters in plot_code and if present write to 'plot_rep'\n",
        "df <- df %>%\n",
        "  mutate(plot_rep = case_when(str_detect(plot_code, \"A\")~\"A\",\n",
        "                              str_detect(plot_code, \"B\")~\"B\",\n",
        "                              str_detect(plot_code, \"C\")~\"C\"))"
      ],
      "execution_count": 0,
      "outputs": []
    },
    {
      "cell_type": "code",
      "metadata": {
        "id": "Hqv6L7jaYPeQ",
        "colab_type": "code",
        "colab": {}
      },
      "source": [
        "# # strip \"A\", \"B\", \"C\" from plot_code\n",
        "# df$plot_code <- str_remove(df$plot_code, \"[ABC]\")"
      ],
      "execution_count": 0,
      "outputs": []
    },
    {
      "cell_type": "code",
      "metadata": {
        "id": "vRxYtG1eYPbf",
        "colab_type": "code",
        "colab": {}
      },
      "source": [
        "# reorder columns\n",
        "df <- df[,c(1,2,7,3,4,5,6)]"
      ],
      "execution_count": 0,
      "outputs": []
    },
    {
      "cell_type": "markdown",
      "metadata": {
        "id": "R8DYL00Fb0Lu",
        "colab_type": "text"
      },
      "source": [
        "### plot_num"
      ]
    },
    {
      "cell_type": "code",
      "metadata": {
        "id": "GB_RxW35YO39",
        "colab_type": "code",
        "colab": {}
      },
      "source": [
        "# use digital values from 'plot_code' and to populate 'plot_num'\n",
        "df <- df %>%\n",
        "  mutate(plot_num = str_extract(plot_code, \"[:digit:].*\"))"
      ],
      "execution_count": 0,
      "outputs": []
    },
    {
      "cell_type": "code",
      "metadata": {
        "id": "pQUe2ZVzYO1J",
        "colab_type": "code",
        "colab": {}
      },
      "source": [
        "# reorder columns\n",
        "df <- df[,c(1,2,3,8,4,5,6,7)]"
      ],
      "execution_count": 0,
      "outputs": []
    },
    {
      "cell_type": "markdown",
      "metadata": {
        "id": "ULsKFbhjNZ3p",
        "colab_type": "text"
      },
      "source": [
        "### date"
      ]
    },
    {
      "cell_type": "code",
      "metadata": {
        "id": "qJREtrbNNBro",
        "colab_type": "code",
        "colab": {}
      },
      "source": [
        "# convert to date\n",
        "df$date <- as.Date(df$date)"
      ],
      "execution_count": 0,
      "outputs": []
    },
    {
      "cell_type": "markdown",
      "metadata": {
        "id": "uRiMTPiIpiFj",
        "colab_type": "text"
      },
      "source": [
        "### subplot"
      ]
    },
    {
      "cell_type": "code",
      "metadata": {
        "id": "Dr40XXIQpje1",
        "colab_type": "code",
        "colab": {}
      },
      "source": [
        "# convert to integer\n",
        "df$subplot <- as.integer(df$subplot)"
      ],
      "execution_count": 0,
      "outputs": []
    },
    {
      "cell_type": "markdown",
      "metadata": {
        "id": "H_G-7PpcpTP8",
        "colab_type": "text"
      },
      "source": [
        "### species_key"
      ]
    },
    {
      "cell_type": "markdown",
      "metadata": {
        "id": "4wgbJusKpZWd",
        "colab_type": "text"
      },
      "source": [
        "This will be imported from the plant species metadata table, and we can use it to join and correct species codes in the future\n"
      ]
    },
    {
      "cell_type": "code",
      "metadata": {
        "id": "aWBrK2g8pVqh",
        "colab_type": "code",
        "colab": {}
      },
      "source": [
        "# set to NA for now\n",
        "df$species_key <- NA"
      ],
      "execution_count": 0,
      "outputs": []
    },
    {
      "cell_type": "code",
      "metadata": {
        "id": "UlI8k0uquKnf",
        "colab_type": "code",
        "colab": {}
      },
      "source": [
        "# convert to string\n",
        "df$species_key <- as.character(df$species_key)"
      ],
      "execution_count": 0,
      "outputs": []
    },
    {
      "cell_type": "code",
      "metadata": {
        "id": "CzTuPwSjuWTH",
        "colab_type": "code",
        "colab": {}
      },
      "source": [
        "# reorder columns\n",
        "df <- df[,c(1,2,3,4,5,6,9,7,8)]"
      ],
      "execution_count": 0,
      "outputs": []
    },
    {
      "cell_type": "markdown",
      "metadata": {
        "id": "d7RW6V3ZWGmg",
        "colab_type": "text"
      },
      "source": [
        "### species_code"
      ]
    },
    {
      "cell_type": "code",
      "metadata": {
        "id": "1CmtWg-EWIDc",
        "colab_type": "code",
        "colab": {}
      },
      "source": [
        "# convert to string\n",
        "df$species_code <- as.character(df$species_code)"
      ],
      "execution_count": 0,
      "outputs": []
    },
    {
      "cell_type": "code",
      "metadata": {
        "id": "sAQb5D1gt3L6",
        "colab_type": "code",
        "outputId": "795e74a1-ad82-45c0-84ff-fb1377964ad4",
        "colab": {
          "base_uri": "https://localhost:8080/",
          "height": 204
        }
      },
      "source": [
        "head(df)"
      ],
      "execution_count": 0,
      "outputs": [
        {
          "output_type": "display_data",
          "data": {
            "text/plain": [
              "  plot_code plot_loc plot_rep plot_num date       subplot species_key\n",
              "1 YVP 10    NA       NA       10       2017-06-09 1       NA         \n",
              "2 YVP 10    NA       NA       10       2017-06-09 1       NA         \n",
              "3 YVP 10    NA       NA       10       2017-06-09 1       NA         \n",
              "4 YVP 10    NA       NA       10       2017-06-09 1       NA         \n",
              "5 YVP 10    NA       NA       10       2017-06-09 1       NA         \n",
              "6 YVP 10    NA       NA       10       2017-06-09 1       NA         \n",
              "  species_code cover_pct\n",
              "1 BOESPP        1       \n",
              "2 CREINT        1       \n",
              "3 EUPESU        5       \n",
              "4 FESCAM       25       \n",
              "5 FESIDA       25       \n",
              "6 GEUTRI       10       "
            ],
            "text/latex": "A data.frame: 6 × 9\n\\begin{tabular}{r|lllllllll}\n  & plot\\_code & plot\\_loc & plot\\_rep & plot\\_num & date & subplot & species\\_key & species\\_code & cover\\_pct\\\\\n  & <chr> & <chr> & <chr> & <chr> & <date> & <int> & <chr> & <chr> & <int>\\\\\n\\hline\n\t1 & YVP 10 & NA & NA & 10 & 2017-06-09 & 1 & NA & BOESPP &  1\\\\\n\t2 & YVP 10 & NA & NA & 10 & 2017-06-09 & 1 & NA & CREINT &  1\\\\\n\t3 & YVP 10 & NA & NA & 10 & 2017-06-09 & 1 & NA & EUPESU &  5\\\\\n\t4 & YVP 10 & NA & NA & 10 & 2017-06-09 & 1 & NA & FESCAM & 25\\\\\n\t5 & YVP 10 & NA & NA & 10 & 2017-06-09 & 1 & NA & FESIDA & 25\\\\\n\t6 & YVP 10 & NA & NA & 10 & 2017-06-09 & 1 & NA & GEUTRI & 10\\\\\n\\end{tabular}\n",
            "text/markdown": "\nA data.frame: 6 × 9\n\n| <!--/--> | plot_code &lt;chr&gt; | plot_loc &lt;chr&gt; | plot_rep &lt;chr&gt; | plot_num &lt;chr&gt; | date &lt;date&gt; | subplot &lt;int&gt; | species_key &lt;chr&gt; | species_code &lt;chr&gt; | cover_pct &lt;int&gt; |\n|---|---|---|---|---|---|---|---|---|---|\n| 1 | YVP 10 | NA | NA | 10 | 2017-06-09 | 1 | NA | BOESPP |  1 |\n| 2 | YVP 10 | NA | NA | 10 | 2017-06-09 | 1 | NA | CREINT |  1 |\n| 3 | YVP 10 | NA | NA | 10 | 2017-06-09 | 1 | NA | EUPESU |  5 |\n| 4 | YVP 10 | NA | NA | 10 | 2017-06-09 | 1 | NA | FESCAM | 25 |\n| 5 | YVP 10 | NA | NA | 10 | 2017-06-09 | 1 | NA | FESIDA | 25 |\n| 6 | YVP 10 | NA | NA | 10 | 2017-06-09 | 1 | NA | GEUTRI | 10 |\n\n",
            "text/html": [
              "<table>\n",
              "<caption>A data.frame: 6 × 9</caption>\n",
              "<thead>\n",
              "\t<tr><th></th><th scope=col>plot_code</th><th scope=col>plot_loc</th><th scope=col>plot_rep</th><th scope=col>plot_num</th><th scope=col>date</th><th scope=col>subplot</th><th scope=col>species_key</th><th scope=col>species_code</th><th scope=col>cover_pct</th></tr>\n",
              "\t<tr><th></th><th scope=col>&lt;chr&gt;</th><th scope=col>&lt;chr&gt;</th><th scope=col>&lt;chr&gt;</th><th scope=col>&lt;chr&gt;</th><th scope=col>&lt;date&gt;</th><th scope=col>&lt;int&gt;</th><th scope=col>&lt;chr&gt;</th><th scope=col>&lt;chr&gt;</th><th scope=col>&lt;int&gt;</th></tr>\n",
              "</thead>\n",
              "<tbody>\n",
              "\t<tr><th scope=row>1</th><td>YVP 10</td><td>NA</td><td>NA</td><td>10</td><td>2017-06-09</td><td>1</td><td>NA</td><td>BOESPP</td><td> 1</td></tr>\n",
              "\t<tr><th scope=row>2</th><td>YVP 10</td><td>NA</td><td>NA</td><td>10</td><td>2017-06-09</td><td>1</td><td>NA</td><td>CREINT</td><td> 1</td></tr>\n",
              "\t<tr><th scope=row>3</th><td>YVP 10</td><td>NA</td><td>NA</td><td>10</td><td>2017-06-09</td><td>1</td><td>NA</td><td>EUPESU</td><td> 5</td></tr>\n",
              "\t<tr><th scope=row>4</th><td>YVP 10</td><td>NA</td><td>NA</td><td>10</td><td>2017-06-09</td><td>1</td><td>NA</td><td>FESCAM</td><td>25</td></tr>\n",
              "\t<tr><th scope=row>5</th><td>YVP 10</td><td>NA</td><td>NA</td><td>10</td><td>2017-06-09</td><td>1</td><td>NA</td><td>FESIDA</td><td>25</td></tr>\n",
              "\t<tr><th scope=row>6</th><td>YVP 10</td><td>NA</td><td>NA</td><td>10</td><td>2017-06-09</td><td>1</td><td>NA</td><td>GEUTRI</td><td>10</td></tr>\n",
              "</tbody>\n",
              "</table>\n"
            ]
          },
          "metadata": {
            "tags": []
          }
        }
      ]
    },
    {
      "cell_type": "markdown",
      "metadata": {
        "id": "S5UZM86eOSi-",
        "colab_type": "text"
      },
      "source": [
        "## Identify Double Counting"
      ]
    },
    {
      "cell_type": "code",
      "metadata": {
        "id": "r8QoSvBgUfnC",
        "colab_type": "code",
        "outputId": "b16f9263-b07e-4d4d-cf8f-505961b4861e",
        "colab": {
          "base_uri": "https://localhost:8080/",
          "height": 850
        }
      },
      "source": [
        "# Find instances where a plant species is counted twice in the same year-plot-subplot combination\n",
        "dbl_counts <- df %>%\n",
        "  group_by(year = as.numeric(substring(date,0,4)), plot_code, subplot, species_code) %>%\n",
        "  summarize(counted = n()) %>% \n",
        "  ungroup() %>%\n",
        "  arrange(year, plot_code, subplot, desc(counted)) %>%\n",
        "  filter(counted > 1) %>%\n",
        "  print(n=Inf)"
      ],
      "execution_count": 0,
      "outputs": [
        {
          "output_type": "stream",
          "text": [
            "\u001b[90m# A tibble: 46 x 5\u001b[39m\n",
            "    year plot_code subplot species_code counted\n",
            "   \u001b[3m\u001b[90m<dbl>\u001b[39m\u001b[23m \u001b[3m\u001b[90m<chr>\u001b[39m\u001b[23m       \u001b[3m\u001b[90m<int>\u001b[39m\u001b[23m \u001b[3m\u001b[90m<chr>\u001b[39m\u001b[23m          \u001b[3m\u001b[90m<int>\u001b[39m\u001b[23m\n",
            "\u001b[90m 1\u001b[39m  \u001b[4m2\u001b[24m017 YVP 144         2 VERVER             2\n",
            "\u001b[90m 2\u001b[39m  \u001b[4m2\u001b[24m017 YVP 180         7 FRIPUD             2\n",
            "\u001b[90m 3\u001b[39m  \u001b[4m2\u001b[24m017 YVP 203         4 COLLIN             2\n",
            "\u001b[90m 4\u001b[39m  \u001b[4m2\u001b[24m017 YVP 355        10 PSESPI             2\n",
            "\u001b[90m 5\u001b[39m  \u001b[4m2\u001b[24m017 YVP 44          9 ORTTEN             2\n",
            "\u001b[90m 6\u001b[39m  \u001b[4m2\u001b[24m017 YVP N111        2 DRAVER             2\n",
            "\u001b[90m 7\u001b[39m  \u001b[4m2\u001b[24m017 YVP NB294       8 MICGRA             2\n",
            "\u001b[90m 8\u001b[39m  \u001b[4m2\u001b[24m018 YVP 112         9 ALYALY             2\n",
            "\u001b[90m 9\u001b[39m  \u001b[4m2\u001b[24m018 YVP 12          4 HOLUMB             2\n",
            "\u001b[90m10\u001b[39m  \u001b[4m2\u001b[24m018 YVP 144        10 ACHMIL             2\n",
            "\u001b[90m11\u001b[39m  \u001b[4m2\u001b[24m018 YVP 184         4 HOLUMB             2\n",
            "\u001b[90m12\u001b[39m  \u001b[4m2\u001b[24m018 YVP 185         1 DRAVER             2\n",
            "\u001b[90m13\u001b[39m  \u001b[4m2\u001b[24m018 YVP 185         1 FRIPUD             2\n",
            "\u001b[90m14\u001b[39m  \u001b[4m2\u001b[24m018 YVP 185         1 MYOMIC             2\n",
            "\u001b[90m15\u001b[39m  \u001b[4m2\u001b[24m018 YVP 185         3 HOLUMB             2\n",
            "\u001b[90m16\u001b[39m  \u001b[4m2\u001b[24m018 YVP 185         4 ARANUT             2\n",
            "\u001b[90m17\u001b[39m  \u001b[4m2\u001b[24m018 YVP 185         4 EPIBRA             2\n",
            "\u001b[90m18\u001b[39m  \u001b[4m2\u001b[24m018 YVP 20          2 VERVER             2\n",
            "\u001b[90m19\u001b[39m  \u001b[4m2\u001b[24m018 YVP 203         4 COLLIN             2\n",
            "\u001b[90m20\u001b[39m  \u001b[4m2\u001b[24m018 YVP 209         5 ALYALY             2\n",
            "\u001b[90m21\u001b[39m  \u001b[4m2\u001b[24m018 YVP 213         4 ARIPUR             2\n",
            "\u001b[90m22\u001b[39m  \u001b[4m2\u001b[24m018 YVP 22          2 FESCAM             2\n",
            "\u001b[90m23\u001b[39m  \u001b[4m2\u001b[24m018 YVP 355         7 DODPUL             2\n",
            "\u001b[90m24\u001b[39m  \u001b[4m2\u001b[24m018 YVP 412         9 MICGRA             2\n",
            "\u001b[90m25\u001b[39m  \u001b[4m2\u001b[24m018 YVP 56          1 HOLUMB             2\n",
            "\u001b[90m26\u001b[39m  \u001b[4m2\u001b[24m018 YVP 62          3 KOEMAC             2\n",
            "\u001b[90m27\u001b[39m  \u001b[4m2\u001b[24m018 YVP 62          4 HOLUMB             2\n",
            "\u001b[90m28\u001b[39m  \u001b[4m2\u001b[24m018 YVP 62          8 ORTTEN             2\n",
            "\u001b[90m29\u001b[39m  \u001b[4m2\u001b[24m018 YVP N110        5 MYOMIC             2\n",
            "\u001b[90m30\u001b[39m  \u001b[4m2\u001b[24m018 YVP N278        2 ARESER             2\n",
            "\u001b[90m31\u001b[39m  \u001b[4m2\u001b[24m018 YVP N501       10 ARECON             2\n",
            "\u001b[90m32\u001b[39m  \u001b[4m2\u001b[24m018 YVP N522        1 LITRUD             2\n",
            "\u001b[90m33\u001b[39m  \u001b[4m2\u001b[24m018 YVP N558        7 COLLIN             2\n",
            "\u001b[90m34\u001b[39m  \u001b[4m2\u001b[24m018 YVP NB294       8 MICGRA             2\n",
            "\u001b[90m35\u001b[39m  \u001b[4m2\u001b[24m019 YVP 113         4 DRAVER             2\n",
            "\u001b[90m36\u001b[39m  \u001b[4m2\u001b[24m019 YVP 180         8 PLAPAT             2\n",
            "\u001b[90m37\u001b[39m  \u001b[4m2\u001b[24m019 YVP 209         5 ASTINF             2\n",
            "\u001b[90m38\u001b[39m  \u001b[4m2\u001b[24m019 YVP 468         2 UNKN SP            2\n",
            "\u001b[90m39\u001b[39m  \u001b[4m2\u001b[24m019 YVP N111        3 EPIBRA             2\n",
            "\u001b[90m40\u001b[39m  \u001b[4m2\u001b[24m019 YVP N158        3 EPIBRA             2\n",
            "\u001b[90m41\u001b[39m  \u001b[4m2\u001b[24m019 YVP N158        4 EPIBRA             2\n",
            "\u001b[90m42\u001b[39m  \u001b[4m2\u001b[24m019 YVP N348        5 CIRARV             2\n",
            "\u001b[90m43\u001b[39m  \u001b[4m2\u001b[24m019 YVP N386        1 EPIBRA             2\n",
            "\u001b[90m44\u001b[39m  \u001b[4m2\u001b[24m019 YVP N501        1 FRIPUD             2\n",
            "\u001b[90m45\u001b[39m  \u001b[4m2\u001b[24m019 YVP NC294       4 MYOMIC             2\n",
            "\u001b[90m46\u001b[39m  \u001b[4m2\u001b[24m019 YVP NC294       6 ERIPUM             2\n"
          ],
          "name": "stdout"
        }
      ]
    },
    {
      "cell_type": "code",
      "metadata": {
        "id": "y0wKttne2T3V",
        "colab_type": "code",
        "outputId": "54977c9f-886d-45c1-ec6f-5cbf0006b0f0",
        "colab": {
          "base_uri": "https://localhost:8080/",
          "height": 51
        }
      },
      "source": [
        "view_doubles  <- dbl_counts %>%\n",
        "  left_join(df %>% mutate(year = as.numeric(substring(date,0,4))))"
      ],
      "execution_count": 0,
      "outputs": [
        {
          "output_type": "stream",
          "text": [
            "Joining, by = c(\"year\", \"plot_code\", \"subplot\", \"species_code\")\n",
            "\n"
          ],
          "name": "stderr"
        }
      ]
    },
    {
      "cell_type": "code",
      "metadata": {
        "id": "E0WImCHS5CQE",
        "colab_type": "code",
        "outputId": "1cefe8e7-0f1f-4925-d71c-ab9e413b5ac6",
        "colab": {
          "base_uri": "https://localhost:8080/",
          "height": 1000
        }
      },
      "source": [
        "head(view_doubles, n=46)"
      ],
      "execution_count": 0,
      "outputs": [
        {
          "output_type": "display_data",
          "data": {
            "text/plain": [
              "   year plot_code subplot species_code counted plot_loc plot_rep plot_num\n",
              "1  2017 YVP 144    2      VERVER       2       NA       NA       144     \n",
              "2  2017 YVP 144    2      VERVER       2       NA       NA       144     \n",
              "3  2017 YVP 180    7      FRIPUD       2       NA       NA       180     \n",
              "4  2017 YVP 180    7      FRIPUD       2       NA       NA       180     \n",
              "5  2017 YVP 203    4      COLLIN       2       NA       NA       203     \n",
              "6  2017 YVP 203    4      COLLIN       2       NA       NA       203     \n",
              "7  2017 YVP 355   10      PSESPI       2       NA       NA       355     \n",
              "8  2017 YVP 355   10      PSESPI       2       NA       NA       355     \n",
              "9  2017 YVP 44     9      ORTTEN       2       NA       NA       44      \n",
              "10 2017 YVP 44     9      ORTTEN       2       NA       NA       44      \n",
              "11 2017 YVP N111   2      DRAVER       2       N        NA       111     \n",
              "12 2017 YVP N111   2      DRAVER       2       N        NA       111     \n",
              "13 2017 YVP NB294  8      MICGRA       2       N        B        294     \n",
              "14 2017 YVP NB294  8      MICGRA       2       N        B        294     \n",
              "15 2018 YVP 112    9      ALYALY       2       NA       NA       112     \n",
              "16 2018 YVP 112    9      ALYALY       2       NA       NA       112     \n",
              "17 2018 YVP 12     4      HOLUMB       2       NA       NA       12      \n",
              "18 2018 YVP 12     4      HOLUMB       2       NA       NA       12      \n",
              "19 2018 YVP 144   10      ACHMIL       2       NA       NA       144     \n",
              "20 2018 YVP 144   10      ACHMIL       2       NA       NA       144     \n",
              "21 2018 YVP 184    4      HOLUMB       2       NA       NA       184     \n",
              "22 2018 YVP 184    4      HOLUMB       2       NA       NA       184     \n",
              "23 2018 YVP 185    1      DRAVER       2       NA       NA       185     \n",
              "24 2018 YVP 185    1      DRAVER       2       NA       NA       185     \n",
              "25 2018 YVP 185    1      FRIPUD       2       NA       NA       185     \n",
              "26 2018 YVP 185    1      FRIPUD       2       NA       NA       185     \n",
              "27 2018 YVP 185    1      MYOMIC       2       NA       NA       185     \n",
              "28 2018 YVP 185    1      MYOMIC       2       NA       NA       185     \n",
              "29 2018 YVP 185    3      HOLUMB       2       NA       NA       185     \n",
              "30 2018 YVP 185    3      HOLUMB       2       NA       NA       185     \n",
              "31 2018 YVP 185    4      ARANUT       2       NA       NA       185     \n",
              "32 2018 YVP 185    4      ARANUT       2       NA       NA       185     \n",
              "33 2018 YVP 185    4      EPIBRA       2       NA       NA       185     \n",
              "34 2018 YVP 185    4      EPIBRA       2       NA       NA       185     \n",
              "35 2018 YVP 20     2      VERVER       2       NA       NA       20      \n",
              "36 2018 YVP 20     2      VERVER       2       NA       NA       20      \n",
              "37 2018 YVP 203    4      COLLIN       2       NA       NA       203     \n",
              "38 2018 YVP 203    4      COLLIN       2       NA       NA       203     \n",
              "39 2018 YVP 209    5      ALYALY       2       NA       NA       209     \n",
              "40 2018 YVP 209    5      ALYALY       2       NA       NA       209     \n",
              "41 2018 YVP 213    4      ARIPUR       2       NA       NA       213     \n",
              "42 2018 YVP 213    4      ARIPUR       2       NA       NA       213     \n",
              "43 2018 YVP 22     2      FESCAM       2       NA       NA       22      \n",
              "44 2018 YVP 22     2      FESCAM       2       NA       NA       22      \n",
              "45 2018 YVP 355    7      DODPUL       2       NA       NA       355     \n",
              "46 2018 YVP 355    7      DODPUL       2       NA       NA       355     \n",
              "   date       species_key cover_pct\n",
              "1  2017-05-30 NA           3       \n",
              "2  2017-05-30 NA           4       \n",
              "3  2017-05-31 NA           1       \n",
              "4  2017-05-31 NA           1       \n",
              "5  2017-05-18 NA          10       \n",
              "6  2017-05-18 NA           1       \n",
              "7  2017-06-02 NA          20       \n",
              "8  2017-06-02 NA           2       \n",
              "9  2017-06-06 NA           4       \n",
              "10 2017-06-06 NA           1       \n",
              "11 2017-05-25 NA           1       \n",
              "12 2017-05-25 NA           1       \n",
              "13 2017-05-08 NA           1       \n",
              "14 2017-05-08 NA           1       \n",
              "15 2018-05-31 NA          10       \n",
              "16 2018-05-31 NA           5       \n",
              "17 2018-07-10 NA           1       \n",
              "18 2018-07-10 NA           1       \n",
              "19 2018-05-28 NA           5       \n",
              "20 2018-05-28 NA           5       \n",
              "21 2018-05-30 NA           1       \n",
              "22 2018-05-30 NA           2       \n",
              "23 2018-05-30 NA           1       \n",
              "24 2018-05-30 NA           1       \n",
              "25 2018-05-30 NA           1       \n",
              "26 2018-05-30 NA           1       \n",
              "27 2018-05-30 NA           1       \n",
              "28 2018-05-30 NA           5       \n",
              "29 2018-05-30 NA           1       \n",
              "30 2018-05-30 NA           1       \n",
              "31 2018-05-30 NA           1       \n",
              "32 2018-05-30 NA           1       \n",
              "33 2018-05-30 NA           1       \n",
              "34 2018-05-30 NA           1       \n",
              "35 2018-07-12 NA           3       \n",
              "36 2018-07-12 NA           3       \n",
              "37 2018-06-04 NA           0       \n",
              "38 2018-06-04 NA           0       \n",
              "39 2018-05-31 NA           1       \n",
              "40 2018-05-31 NA           1       \n",
              "41 2018-06-04 NA           5       \n",
              "42 2018-06-04 NA           4       \n",
              "43 2018-07-12 NA           1       \n",
              "44 2018-07-12 NA           1       \n",
              "45 2018-06-25 NA           2       \n",
              "46 2018-06-25 NA           3       "
            ],
            "text/latex": "A tibble: 46 × 11\n\\begin{tabular}{lllllllllll}\n year & plot\\_code & subplot & species\\_code & counted & plot\\_loc & plot\\_rep & plot\\_num & date & species\\_key & cover\\_pct\\\\\n <dbl> & <chr> & <int> & <chr> & <int> & <chr> & <chr> & <chr> & <date> & <chr> & <int>\\\\\n\\hline\n\t 2017 & YVP 144   &  2 & VERVER & 2 & NA & NA & 144 & 2017-05-30 & NA &  3\\\\\n\t 2017 & YVP 144   &  2 & VERVER & 2 & NA & NA & 144 & 2017-05-30 & NA &  4\\\\\n\t 2017 & YVP 180   &  7 & FRIPUD & 2 & NA & NA & 180 & 2017-05-31 & NA &  1\\\\\n\t 2017 & YVP 180   &  7 & FRIPUD & 2 & NA & NA & 180 & 2017-05-31 & NA &  1\\\\\n\t 2017 & YVP 203   &  4 & COLLIN & 2 & NA & NA & 203 & 2017-05-18 & NA & 10\\\\\n\t 2017 & YVP 203   &  4 & COLLIN & 2 & NA & NA & 203 & 2017-05-18 & NA &  1\\\\\n\t 2017 & YVP 355   & 10 & PSESPI & 2 & NA & NA & 355 & 2017-06-02 & NA & 20\\\\\n\t 2017 & YVP 355   & 10 & PSESPI & 2 & NA & NA & 355 & 2017-06-02 & NA &  2\\\\\n\t 2017 & YVP 44    &  9 & ORTTEN & 2 & NA & NA & 44  & 2017-06-06 & NA &  4\\\\\n\t 2017 & YVP 44    &  9 & ORTTEN & 2 & NA & NA & 44  & 2017-06-06 & NA &  1\\\\\n\t 2017 & YVP N111  &  2 & DRAVER & 2 & N  & NA & 111 & 2017-05-25 & NA &  1\\\\\n\t 2017 & YVP N111  &  2 & DRAVER & 2 & N  & NA & 111 & 2017-05-25 & NA &  1\\\\\n\t 2017 & YVP NB294 &  8 & MICGRA & 2 & N  & B  & 294 & 2017-05-08 & NA &  1\\\\\n\t 2017 & YVP NB294 &  8 & MICGRA & 2 & N  & B  & 294 & 2017-05-08 & NA &  1\\\\\n\t 2018 & YVP 112   &  9 & ALYALY & 2 & NA & NA & 112 & 2018-05-31 & NA & 10\\\\\n\t 2018 & YVP 112   &  9 & ALYALY & 2 & NA & NA & 112 & 2018-05-31 & NA &  5\\\\\n\t 2018 & YVP 12    &  4 & HOLUMB & 2 & NA & NA & 12  & 2018-07-10 & NA &  1\\\\\n\t 2018 & YVP 12    &  4 & HOLUMB & 2 & NA & NA & 12  & 2018-07-10 & NA &  1\\\\\n\t 2018 & YVP 144   & 10 & ACHMIL & 2 & NA & NA & 144 & 2018-05-28 & NA &  5\\\\\n\t 2018 & YVP 144   & 10 & ACHMIL & 2 & NA & NA & 144 & 2018-05-28 & NA &  5\\\\\n\t 2018 & YVP 184   &  4 & HOLUMB & 2 & NA & NA & 184 & 2018-05-30 & NA &  1\\\\\n\t 2018 & YVP 184   &  4 & HOLUMB & 2 & NA & NA & 184 & 2018-05-30 & NA &  2\\\\\n\t 2018 & YVP 185   &  1 & DRAVER & 2 & NA & NA & 185 & 2018-05-30 & NA &  1\\\\\n\t 2018 & YVP 185   &  1 & DRAVER & 2 & NA & NA & 185 & 2018-05-30 & NA &  1\\\\\n\t 2018 & YVP 185   &  1 & FRIPUD & 2 & NA & NA & 185 & 2018-05-30 & NA &  1\\\\\n\t 2018 & YVP 185   &  1 & FRIPUD & 2 & NA & NA & 185 & 2018-05-30 & NA &  1\\\\\n\t 2018 & YVP 185   &  1 & MYOMIC & 2 & NA & NA & 185 & 2018-05-30 & NA &  1\\\\\n\t 2018 & YVP 185   &  1 & MYOMIC & 2 & NA & NA & 185 & 2018-05-30 & NA &  5\\\\\n\t 2018 & YVP 185   &  3 & HOLUMB & 2 & NA & NA & 185 & 2018-05-30 & NA &  1\\\\\n\t 2018 & YVP 185   &  3 & HOLUMB & 2 & NA & NA & 185 & 2018-05-30 & NA &  1\\\\\n\t 2018 & YVP 185   &  4 & ARANUT & 2 & NA & NA & 185 & 2018-05-30 & NA &  1\\\\\n\t 2018 & YVP 185   &  4 & ARANUT & 2 & NA & NA & 185 & 2018-05-30 & NA &  1\\\\\n\t 2018 & YVP 185   &  4 & EPIBRA & 2 & NA & NA & 185 & 2018-05-30 & NA &  1\\\\\n\t 2018 & YVP 185   &  4 & EPIBRA & 2 & NA & NA & 185 & 2018-05-30 & NA &  1\\\\\n\t 2018 & YVP 20    &  2 & VERVER & 2 & NA & NA & 20  & 2018-07-12 & NA &  3\\\\\n\t 2018 & YVP 20    &  2 & VERVER & 2 & NA & NA & 20  & 2018-07-12 & NA &  3\\\\\n\t 2018 & YVP 203   &  4 & COLLIN & 2 & NA & NA & 203 & 2018-06-04 & NA &  0\\\\\n\t 2018 & YVP 203   &  4 & COLLIN & 2 & NA & NA & 203 & 2018-06-04 & NA &  0\\\\\n\t 2018 & YVP 209   &  5 & ALYALY & 2 & NA & NA & 209 & 2018-05-31 & NA &  1\\\\\n\t 2018 & YVP 209   &  5 & ALYALY & 2 & NA & NA & 209 & 2018-05-31 & NA &  1\\\\\n\t 2018 & YVP 213   &  4 & ARIPUR & 2 & NA & NA & 213 & 2018-06-04 & NA &  5\\\\\n\t 2018 & YVP 213   &  4 & ARIPUR & 2 & NA & NA & 213 & 2018-06-04 & NA &  4\\\\\n\t 2018 & YVP 22    &  2 & FESCAM & 2 & NA & NA & 22  & 2018-07-12 & NA &  1\\\\\n\t 2018 & YVP 22    &  2 & FESCAM & 2 & NA & NA & 22  & 2018-07-12 & NA &  1\\\\\n\t 2018 & YVP 355   &  7 & DODPUL & 2 & NA & NA & 355 & 2018-06-25 & NA &  2\\\\\n\t 2018 & YVP 355   &  7 & DODPUL & 2 & NA & NA & 355 & 2018-06-25 & NA &  3\\\\\n\\end{tabular}\n",
            "text/markdown": "\nA tibble: 46 × 11\n\n| year &lt;dbl&gt; | plot_code &lt;chr&gt; | subplot &lt;int&gt; | species_code &lt;chr&gt; | counted &lt;int&gt; | plot_loc &lt;chr&gt; | plot_rep &lt;chr&gt; | plot_num &lt;chr&gt; | date &lt;date&gt; | species_key &lt;chr&gt; | cover_pct &lt;int&gt; |\n|---|---|---|---|---|---|---|---|---|---|---|\n| 2017 | YVP 144   |  2 | VERVER | 2 | NA | NA | 144 | 2017-05-30 | NA |  3 |\n| 2017 | YVP 144   |  2 | VERVER | 2 | NA | NA | 144 | 2017-05-30 | NA |  4 |\n| 2017 | YVP 180   |  7 | FRIPUD | 2 | NA | NA | 180 | 2017-05-31 | NA |  1 |\n| 2017 | YVP 180   |  7 | FRIPUD | 2 | NA | NA | 180 | 2017-05-31 | NA |  1 |\n| 2017 | YVP 203   |  4 | COLLIN | 2 | NA | NA | 203 | 2017-05-18 | NA | 10 |\n| 2017 | YVP 203   |  4 | COLLIN | 2 | NA | NA | 203 | 2017-05-18 | NA |  1 |\n| 2017 | YVP 355   | 10 | PSESPI | 2 | NA | NA | 355 | 2017-06-02 | NA | 20 |\n| 2017 | YVP 355   | 10 | PSESPI | 2 | NA | NA | 355 | 2017-06-02 | NA |  2 |\n| 2017 | YVP 44    |  9 | ORTTEN | 2 | NA | NA | 44  | 2017-06-06 | NA |  4 |\n| 2017 | YVP 44    |  9 | ORTTEN | 2 | NA | NA | 44  | 2017-06-06 | NA |  1 |\n| 2017 | YVP N111  |  2 | DRAVER | 2 | N  | NA | 111 | 2017-05-25 | NA |  1 |\n| 2017 | YVP N111  |  2 | DRAVER | 2 | N  | NA | 111 | 2017-05-25 | NA |  1 |\n| 2017 | YVP NB294 |  8 | MICGRA | 2 | N  | B  | 294 | 2017-05-08 | NA |  1 |\n| 2017 | YVP NB294 |  8 | MICGRA | 2 | N  | B  | 294 | 2017-05-08 | NA |  1 |\n| 2018 | YVP 112   |  9 | ALYALY | 2 | NA | NA | 112 | 2018-05-31 | NA | 10 |\n| 2018 | YVP 112   |  9 | ALYALY | 2 | NA | NA | 112 | 2018-05-31 | NA |  5 |\n| 2018 | YVP 12    |  4 | HOLUMB | 2 | NA | NA | 12  | 2018-07-10 | NA |  1 |\n| 2018 | YVP 12    |  4 | HOLUMB | 2 | NA | NA | 12  | 2018-07-10 | NA |  1 |\n| 2018 | YVP 144   | 10 | ACHMIL | 2 | NA | NA | 144 | 2018-05-28 | NA |  5 |\n| 2018 | YVP 144   | 10 | ACHMIL | 2 | NA | NA | 144 | 2018-05-28 | NA |  5 |\n| 2018 | YVP 184   |  4 | HOLUMB | 2 | NA | NA | 184 | 2018-05-30 | NA |  1 |\n| 2018 | YVP 184   |  4 | HOLUMB | 2 | NA | NA | 184 | 2018-05-30 | NA |  2 |\n| 2018 | YVP 185   |  1 | DRAVER | 2 | NA | NA | 185 | 2018-05-30 | NA |  1 |\n| 2018 | YVP 185   |  1 | DRAVER | 2 | NA | NA | 185 | 2018-05-30 | NA |  1 |\n| 2018 | YVP 185   |  1 | FRIPUD | 2 | NA | NA | 185 | 2018-05-30 | NA |  1 |\n| 2018 | YVP 185   |  1 | FRIPUD | 2 | NA | NA | 185 | 2018-05-30 | NA |  1 |\n| 2018 | YVP 185   |  1 | MYOMIC | 2 | NA | NA | 185 | 2018-05-30 | NA |  1 |\n| 2018 | YVP 185   |  1 | MYOMIC | 2 | NA | NA | 185 | 2018-05-30 | NA |  5 |\n| 2018 | YVP 185   |  3 | HOLUMB | 2 | NA | NA | 185 | 2018-05-30 | NA |  1 |\n| 2018 | YVP 185   |  3 | HOLUMB | 2 | NA | NA | 185 | 2018-05-30 | NA |  1 |\n| 2018 | YVP 185   |  4 | ARANUT | 2 | NA | NA | 185 | 2018-05-30 | NA |  1 |\n| 2018 | YVP 185   |  4 | ARANUT | 2 | NA | NA | 185 | 2018-05-30 | NA |  1 |\n| 2018 | YVP 185   |  4 | EPIBRA | 2 | NA | NA | 185 | 2018-05-30 | NA |  1 |\n| 2018 | YVP 185   |  4 | EPIBRA | 2 | NA | NA | 185 | 2018-05-30 | NA |  1 |\n| 2018 | YVP 20    |  2 | VERVER | 2 | NA | NA | 20  | 2018-07-12 | NA |  3 |\n| 2018 | YVP 20    |  2 | VERVER | 2 | NA | NA | 20  | 2018-07-12 | NA |  3 |\n| 2018 | YVP 203   |  4 | COLLIN | 2 | NA | NA | 203 | 2018-06-04 | NA |  0 |\n| 2018 | YVP 203   |  4 | COLLIN | 2 | NA | NA | 203 | 2018-06-04 | NA |  0 |\n| 2018 | YVP 209   |  5 | ALYALY | 2 | NA | NA | 209 | 2018-05-31 | NA |  1 |\n| 2018 | YVP 209   |  5 | ALYALY | 2 | NA | NA | 209 | 2018-05-31 | NA |  1 |\n| 2018 | YVP 213   |  4 | ARIPUR | 2 | NA | NA | 213 | 2018-06-04 | NA |  5 |\n| 2018 | YVP 213   |  4 | ARIPUR | 2 | NA | NA | 213 | 2018-06-04 | NA |  4 |\n| 2018 | YVP 22    |  2 | FESCAM | 2 | NA | NA | 22  | 2018-07-12 | NA |  1 |\n| 2018 | YVP 22    |  2 | FESCAM | 2 | NA | NA | 22  | 2018-07-12 | NA |  1 |\n| 2018 | YVP 355   |  7 | DODPUL | 2 | NA | NA | 355 | 2018-06-25 | NA |  2 |\n| 2018 | YVP 355   |  7 | DODPUL | 2 | NA | NA | 355 | 2018-06-25 | NA |  3 |\n\n",
            "text/html": [
              "<table>\n",
              "<caption>A tibble: 46 × 11</caption>\n",
              "<thead>\n",
              "\t<tr><th scope=col>year</th><th scope=col>plot_code</th><th scope=col>subplot</th><th scope=col>species_code</th><th scope=col>counted</th><th scope=col>plot_loc</th><th scope=col>plot_rep</th><th scope=col>plot_num</th><th scope=col>date</th><th scope=col>species_key</th><th scope=col>cover_pct</th></tr>\n",
              "\t<tr><th scope=col>&lt;dbl&gt;</th><th scope=col>&lt;chr&gt;</th><th scope=col>&lt;int&gt;</th><th scope=col>&lt;chr&gt;</th><th scope=col>&lt;int&gt;</th><th scope=col>&lt;chr&gt;</th><th scope=col>&lt;chr&gt;</th><th scope=col>&lt;chr&gt;</th><th scope=col>&lt;date&gt;</th><th scope=col>&lt;chr&gt;</th><th scope=col>&lt;int&gt;</th></tr>\n",
              "</thead>\n",
              "<tbody>\n",
              "\t<tr><td>2017</td><td>YVP 144  </td><td> 2</td><td>VERVER</td><td>2</td><td>NA</td><td>NA</td><td>144</td><td>2017-05-30</td><td>NA</td><td> 3</td></tr>\n",
              "\t<tr><td>2017</td><td>YVP 144  </td><td> 2</td><td>VERVER</td><td>2</td><td>NA</td><td>NA</td><td>144</td><td>2017-05-30</td><td>NA</td><td> 4</td></tr>\n",
              "\t<tr><td>2017</td><td>YVP 180  </td><td> 7</td><td>FRIPUD</td><td>2</td><td>NA</td><td>NA</td><td>180</td><td>2017-05-31</td><td>NA</td><td> 1</td></tr>\n",
              "\t<tr><td>2017</td><td>YVP 180  </td><td> 7</td><td>FRIPUD</td><td>2</td><td>NA</td><td>NA</td><td>180</td><td>2017-05-31</td><td>NA</td><td> 1</td></tr>\n",
              "\t<tr><td>2017</td><td>YVP 203  </td><td> 4</td><td>COLLIN</td><td>2</td><td>NA</td><td>NA</td><td>203</td><td>2017-05-18</td><td>NA</td><td>10</td></tr>\n",
              "\t<tr><td>2017</td><td>YVP 203  </td><td> 4</td><td>COLLIN</td><td>2</td><td>NA</td><td>NA</td><td>203</td><td>2017-05-18</td><td>NA</td><td> 1</td></tr>\n",
              "\t<tr><td>2017</td><td>YVP 355  </td><td>10</td><td>PSESPI</td><td>2</td><td>NA</td><td>NA</td><td>355</td><td>2017-06-02</td><td>NA</td><td>20</td></tr>\n",
              "\t<tr><td>2017</td><td>YVP 355  </td><td>10</td><td>PSESPI</td><td>2</td><td>NA</td><td>NA</td><td>355</td><td>2017-06-02</td><td>NA</td><td> 2</td></tr>\n",
              "\t<tr><td>2017</td><td>YVP 44   </td><td> 9</td><td>ORTTEN</td><td>2</td><td>NA</td><td>NA</td><td>44 </td><td>2017-06-06</td><td>NA</td><td> 4</td></tr>\n",
              "\t<tr><td>2017</td><td>YVP 44   </td><td> 9</td><td>ORTTEN</td><td>2</td><td>NA</td><td>NA</td><td>44 </td><td>2017-06-06</td><td>NA</td><td> 1</td></tr>\n",
              "\t<tr><td>2017</td><td>YVP N111 </td><td> 2</td><td>DRAVER</td><td>2</td><td>N </td><td>NA</td><td>111</td><td>2017-05-25</td><td>NA</td><td> 1</td></tr>\n",
              "\t<tr><td>2017</td><td>YVP N111 </td><td> 2</td><td>DRAVER</td><td>2</td><td>N </td><td>NA</td><td>111</td><td>2017-05-25</td><td>NA</td><td> 1</td></tr>\n",
              "\t<tr><td>2017</td><td>YVP NB294</td><td> 8</td><td>MICGRA</td><td>2</td><td>N </td><td>B </td><td>294</td><td>2017-05-08</td><td>NA</td><td> 1</td></tr>\n",
              "\t<tr><td>2017</td><td>YVP NB294</td><td> 8</td><td>MICGRA</td><td>2</td><td>N </td><td>B </td><td>294</td><td>2017-05-08</td><td>NA</td><td> 1</td></tr>\n",
              "\t<tr><td>2018</td><td>YVP 112  </td><td> 9</td><td>ALYALY</td><td>2</td><td>NA</td><td>NA</td><td>112</td><td>2018-05-31</td><td>NA</td><td>10</td></tr>\n",
              "\t<tr><td>2018</td><td>YVP 112  </td><td> 9</td><td>ALYALY</td><td>2</td><td>NA</td><td>NA</td><td>112</td><td>2018-05-31</td><td>NA</td><td> 5</td></tr>\n",
              "\t<tr><td>2018</td><td>YVP 12   </td><td> 4</td><td>HOLUMB</td><td>2</td><td>NA</td><td>NA</td><td>12 </td><td>2018-07-10</td><td>NA</td><td> 1</td></tr>\n",
              "\t<tr><td>2018</td><td>YVP 12   </td><td> 4</td><td>HOLUMB</td><td>2</td><td>NA</td><td>NA</td><td>12 </td><td>2018-07-10</td><td>NA</td><td> 1</td></tr>\n",
              "\t<tr><td>2018</td><td>YVP 144  </td><td>10</td><td>ACHMIL</td><td>2</td><td>NA</td><td>NA</td><td>144</td><td>2018-05-28</td><td>NA</td><td> 5</td></tr>\n",
              "\t<tr><td>2018</td><td>YVP 144  </td><td>10</td><td>ACHMIL</td><td>2</td><td>NA</td><td>NA</td><td>144</td><td>2018-05-28</td><td>NA</td><td> 5</td></tr>\n",
              "\t<tr><td>2018</td><td>YVP 184  </td><td> 4</td><td>HOLUMB</td><td>2</td><td>NA</td><td>NA</td><td>184</td><td>2018-05-30</td><td>NA</td><td> 1</td></tr>\n",
              "\t<tr><td>2018</td><td>YVP 184  </td><td> 4</td><td>HOLUMB</td><td>2</td><td>NA</td><td>NA</td><td>184</td><td>2018-05-30</td><td>NA</td><td> 2</td></tr>\n",
              "\t<tr><td>2018</td><td>YVP 185  </td><td> 1</td><td>DRAVER</td><td>2</td><td>NA</td><td>NA</td><td>185</td><td>2018-05-30</td><td>NA</td><td> 1</td></tr>\n",
              "\t<tr><td>2018</td><td>YVP 185  </td><td> 1</td><td>DRAVER</td><td>2</td><td>NA</td><td>NA</td><td>185</td><td>2018-05-30</td><td>NA</td><td> 1</td></tr>\n",
              "\t<tr><td>2018</td><td>YVP 185  </td><td> 1</td><td>FRIPUD</td><td>2</td><td>NA</td><td>NA</td><td>185</td><td>2018-05-30</td><td>NA</td><td> 1</td></tr>\n",
              "\t<tr><td>2018</td><td>YVP 185  </td><td> 1</td><td>FRIPUD</td><td>2</td><td>NA</td><td>NA</td><td>185</td><td>2018-05-30</td><td>NA</td><td> 1</td></tr>\n",
              "\t<tr><td>2018</td><td>YVP 185  </td><td> 1</td><td>MYOMIC</td><td>2</td><td>NA</td><td>NA</td><td>185</td><td>2018-05-30</td><td>NA</td><td> 1</td></tr>\n",
              "\t<tr><td>2018</td><td>YVP 185  </td><td> 1</td><td>MYOMIC</td><td>2</td><td>NA</td><td>NA</td><td>185</td><td>2018-05-30</td><td>NA</td><td> 5</td></tr>\n",
              "\t<tr><td>2018</td><td>YVP 185  </td><td> 3</td><td>HOLUMB</td><td>2</td><td>NA</td><td>NA</td><td>185</td><td>2018-05-30</td><td>NA</td><td> 1</td></tr>\n",
              "\t<tr><td>2018</td><td>YVP 185  </td><td> 3</td><td>HOLUMB</td><td>2</td><td>NA</td><td>NA</td><td>185</td><td>2018-05-30</td><td>NA</td><td> 1</td></tr>\n",
              "\t<tr><td>2018</td><td>YVP 185  </td><td> 4</td><td>ARANUT</td><td>2</td><td>NA</td><td>NA</td><td>185</td><td>2018-05-30</td><td>NA</td><td> 1</td></tr>\n",
              "\t<tr><td>2018</td><td>YVP 185  </td><td> 4</td><td>ARANUT</td><td>2</td><td>NA</td><td>NA</td><td>185</td><td>2018-05-30</td><td>NA</td><td> 1</td></tr>\n",
              "\t<tr><td>2018</td><td>YVP 185  </td><td> 4</td><td>EPIBRA</td><td>2</td><td>NA</td><td>NA</td><td>185</td><td>2018-05-30</td><td>NA</td><td> 1</td></tr>\n",
              "\t<tr><td>2018</td><td>YVP 185  </td><td> 4</td><td>EPIBRA</td><td>2</td><td>NA</td><td>NA</td><td>185</td><td>2018-05-30</td><td>NA</td><td> 1</td></tr>\n",
              "\t<tr><td>2018</td><td>YVP 20   </td><td> 2</td><td>VERVER</td><td>2</td><td>NA</td><td>NA</td><td>20 </td><td>2018-07-12</td><td>NA</td><td> 3</td></tr>\n",
              "\t<tr><td>2018</td><td>YVP 20   </td><td> 2</td><td>VERVER</td><td>2</td><td>NA</td><td>NA</td><td>20 </td><td>2018-07-12</td><td>NA</td><td> 3</td></tr>\n",
              "\t<tr><td>2018</td><td>YVP 203  </td><td> 4</td><td>COLLIN</td><td>2</td><td>NA</td><td>NA</td><td>203</td><td>2018-06-04</td><td>NA</td><td> 0</td></tr>\n",
              "\t<tr><td>2018</td><td>YVP 203  </td><td> 4</td><td>COLLIN</td><td>2</td><td>NA</td><td>NA</td><td>203</td><td>2018-06-04</td><td>NA</td><td> 0</td></tr>\n",
              "\t<tr><td>2018</td><td>YVP 209  </td><td> 5</td><td>ALYALY</td><td>2</td><td>NA</td><td>NA</td><td>209</td><td>2018-05-31</td><td>NA</td><td> 1</td></tr>\n",
              "\t<tr><td>2018</td><td>YVP 209  </td><td> 5</td><td>ALYALY</td><td>2</td><td>NA</td><td>NA</td><td>209</td><td>2018-05-31</td><td>NA</td><td> 1</td></tr>\n",
              "\t<tr><td>2018</td><td>YVP 213  </td><td> 4</td><td>ARIPUR</td><td>2</td><td>NA</td><td>NA</td><td>213</td><td>2018-06-04</td><td>NA</td><td> 5</td></tr>\n",
              "\t<tr><td>2018</td><td>YVP 213  </td><td> 4</td><td>ARIPUR</td><td>2</td><td>NA</td><td>NA</td><td>213</td><td>2018-06-04</td><td>NA</td><td> 4</td></tr>\n",
              "\t<tr><td>2018</td><td>YVP 22   </td><td> 2</td><td>FESCAM</td><td>2</td><td>NA</td><td>NA</td><td>22 </td><td>2018-07-12</td><td>NA</td><td> 1</td></tr>\n",
              "\t<tr><td>2018</td><td>YVP 22   </td><td> 2</td><td>FESCAM</td><td>2</td><td>NA</td><td>NA</td><td>22 </td><td>2018-07-12</td><td>NA</td><td> 1</td></tr>\n",
              "\t<tr><td>2018</td><td>YVP 355  </td><td> 7</td><td>DODPUL</td><td>2</td><td>NA</td><td>NA</td><td>355</td><td>2018-06-25</td><td>NA</td><td> 2</td></tr>\n",
              "\t<tr><td>2018</td><td>YVP 355  </td><td> 7</td><td>DODPUL</td><td>2</td><td>NA</td><td>NA</td><td>355</td><td>2018-06-25</td><td>NA</td><td> 3</td></tr>\n",
              "</tbody>\n",
              "</table>\n"
            ]
          },
          "metadata": {
            "tags": []
          }
        }
      ]
    },
    {
      "cell_type": "code",
      "metadata": {
        "id": "AIcOzMO05c6N",
        "colab_type": "code",
        "outputId": "fc038047-602d-43ae-9c37-7d029678c849",
        "colab": {
          "base_uri": "https://localhost:8080/",
          "height": 1000
        }
      },
      "source": [
        "tail(view_doubles, n=46)"
      ],
      "execution_count": 0,
      "outputs": [
        {
          "output_type": "display_data",
          "data": {
            "text/plain": [
              "   year plot_code subplot species_code counted plot_loc plot_rep plot_num\n",
              "1  2018 YVP 412    9      MICGRA       2       NA       NA       412     \n",
              "2  2018 YVP 412    9      MICGRA       2       NA       NA       412     \n",
              "3  2018 YVP 56     1      HOLUMB       2       NA       NA       56      \n",
              "4  2018 YVP 56     1      HOLUMB       2       NA       NA       56      \n",
              "5  2018 YVP 62     3      KOEMAC       2       NA       NA       62      \n",
              "6  2018 YVP 62     3      KOEMAC       2       NA       NA       62      \n",
              "7  2018 YVP 62     4      HOLUMB       2       NA       NA       62      \n",
              "8  2018 YVP 62     4      HOLUMB       2       NA       NA       62      \n",
              "9  2018 YVP 62     8      ORTTEN       2       NA       NA       62      \n",
              "10 2018 YVP 62     8      ORTTEN       2       NA       NA       62      \n",
              "11 2018 YVP N110   5      MYOMIC       2       N        NA       110     \n",
              "12 2018 YVP N110   5      MYOMIC       2       N        NA       110     \n",
              "13 2018 YVP N278   2      ARESER       2       N        NA       278     \n",
              "14 2018 YVP N278   2      ARESER       2       N        NA       278     \n",
              "15 2018 YVP N501  10      ARECON       2       N        NA       501     \n",
              "16 2018 YVP N501  10      ARECON       2       N        NA       501     \n",
              "17 2018 YVP N522   1      LITRUD       2       N        NA       522     \n",
              "18 2018 YVP N522   1      LITRUD       2       N        NA       522     \n",
              "19 2018 YVP N558   7      COLLIN       2       N        NA       558     \n",
              "20 2018 YVP N558   7      COLLIN       2       N        NA       558     \n",
              "21 2018 YVP NB294  8      MICGRA       2       N        B        294     \n",
              "22 2018 YVP NB294  8      MICGRA       2       N        B        294     \n",
              "23 2019 YVP 113    4      DRAVER       2       NA       NA       113     \n",
              "24 2019 YVP 113    4      DRAVER       2       NA       NA       113     \n",
              "25 2019 YVP 180    8      PLAPAT       2       NA       NA       180     \n",
              "26 2019 YVP 180    8      PLAPAT       2       NA       NA       180     \n",
              "27 2019 YVP 209    5      ASTINF       2       NA       NA       209     \n",
              "28 2019 YVP 209    5      ASTINF       2       NA       NA       209     \n",
              "29 2019 YVP 468    2      UNKN SP      2       NA       NA       468     \n",
              "30 2019 YVP 468    2      UNKN SP      2       NA       NA       468     \n",
              "31 2019 YVP N111   3      EPIBRA       2       N        NA       111     \n",
              "32 2019 YVP N111   3      EPIBRA       2       N        NA       111     \n",
              "33 2019 YVP N158   3      EPIBRA       2       N        NA       158     \n",
              "34 2019 YVP N158   3      EPIBRA       2       N        NA       158     \n",
              "35 2019 YVP N158   4      EPIBRA       2       N        NA       158     \n",
              "36 2019 YVP N158   4      EPIBRA       2       N        NA       158     \n",
              "37 2019 YVP N348   5      CIRARV       2       N        NA       348     \n",
              "38 2019 YVP N348   5      CIRARV       2       N        NA       348     \n",
              "39 2019 YVP N386   1      EPIBRA       2       N        NA       386     \n",
              "40 2019 YVP N386   1      EPIBRA       2       N        NA       386     \n",
              "41 2019 YVP N501   1      FRIPUD       2       N        NA       501     \n",
              "42 2019 YVP N501   1      FRIPUD       2       N        NA       501     \n",
              "43 2019 YVP NC294  4      MYOMIC       2       N        C        294     \n",
              "44 2019 YVP NC294  4      MYOMIC       2       N        C        294     \n",
              "45 2019 YVP NC294  6      ERIPUM       2       N        C        294     \n",
              "46 2019 YVP NC294  6      ERIPUM       2       N        C        294     \n",
              "   date       species_key cover_pct\n",
              "1  2018-07-02 NA           1       \n",
              "2  2018-07-02 NA           2       \n",
              "3  2018-06-11 NA           1       \n",
              "4  2018-06-11 NA           1       \n",
              "5  2018-07-02 NA          35       \n",
              "6  2018-07-02 NA           1       \n",
              "7  2018-07-02 NA           1       \n",
              "8  2018-07-02 NA           1       \n",
              "9  2018-07-02 NA           1       \n",
              "10 2018-07-02 NA           1       \n",
              "11 2018-05-30 NA           1       \n",
              "12 2018-05-30 NA           1       \n",
              "13 2018-05-28 NA           2       \n",
              "14 2018-05-28 NA           1       \n",
              "15 2018-07-09 NA           1       \n",
              "16 2018-07-09 NA           1       \n",
              "17 2018-05-28 NA          10       \n",
              "18 2018-05-28 NA           1       \n",
              "19 2018-06-26 NA           1       \n",
              "20 2018-06-26 NA           1       \n",
              "21 2018-05-30 NA           1       \n",
              "22 2018-05-30 NA           1       \n",
              "23 2019-06-10 NA           4       \n",
              "24 2019-06-10 NA           5       \n",
              "25 2019-06-10 NA           1       \n",
              "26 2019-06-10 NA           1       \n",
              "27 2019-05-23 NA           1       \n",
              "28 2019-05-23 NA           1       \n",
              "29 2019-07-16 NA           1       \n",
              "30 2019-07-16 NA           5       \n",
              "31 2019-05-23 NA           1       \n",
              "32 2019-05-23 NA           1       \n",
              "33 2019-06-17 NA           1       \n",
              "34 2019-06-17 NA           1       \n",
              "35 2019-06-17 NA           1       \n",
              "36 2019-06-17 NA           1       \n",
              "37 2019-07-05 NA           5       \n",
              "38 2019-07-05 NA          10       \n",
              "39 2019-07-01 NA           1       \n",
              "40 2019-07-01 NA           1       \n",
              "41 2019-05-30 NA           2       \n",
              "42 2019-05-30 NA           2       \n",
              "43 2019-05-09 NA           1       \n",
              "44 2019-05-09 NA           1       \n",
              "45 2019-05-09 NA           1       \n",
              "46 2019-05-09 NA           2       "
            ],
            "text/latex": "A tibble: 46 × 11\n\\begin{tabular}{lllllllllll}\n year & plot\\_code & subplot & species\\_code & counted & plot\\_loc & plot\\_rep & plot\\_num & date & species\\_key & cover\\_pct\\\\\n <dbl> & <chr> & <int> & <chr> & <int> & <chr> & <chr> & <chr> & <date> & <chr> & <int>\\\\\n\\hline\n\t 2018 & YVP 412   &  9 & MICGRA  & 2 & NA & NA & 412 & 2018-07-02 & NA &  1\\\\\n\t 2018 & YVP 412   &  9 & MICGRA  & 2 & NA & NA & 412 & 2018-07-02 & NA &  2\\\\\n\t 2018 & YVP 56    &  1 & HOLUMB  & 2 & NA & NA & 56  & 2018-06-11 & NA &  1\\\\\n\t 2018 & YVP 56    &  1 & HOLUMB  & 2 & NA & NA & 56  & 2018-06-11 & NA &  1\\\\\n\t 2018 & YVP 62    &  3 & KOEMAC  & 2 & NA & NA & 62  & 2018-07-02 & NA & 35\\\\\n\t 2018 & YVP 62    &  3 & KOEMAC  & 2 & NA & NA & 62  & 2018-07-02 & NA &  1\\\\\n\t 2018 & YVP 62    &  4 & HOLUMB  & 2 & NA & NA & 62  & 2018-07-02 & NA &  1\\\\\n\t 2018 & YVP 62    &  4 & HOLUMB  & 2 & NA & NA & 62  & 2018-07-02 & NA &  1\\\\\n\t 2018 & YVP 62    &  8 & ORTTEN  & 2 & NA & NA & 62  & 2018-07-02 & NA &  1\\\\\n\t 2018 & YVP 62    &  8 & ORTTEN  & 2 & NA & NA & 62  & 2018-07-02 & NA &  1\\\\\n\t 2018 & YVP N110  &  5 & MYOMIC  & 2 & N  & NA & 110 & 2018-05-30 & NA &  1\\\\\n\t 2018 & YVP N110  &  5 & MYOMIC  & 2 & N  & NA & 110 & 2018-05-30 & NA &  1\\\\\n\t 2018 & YVP N278  &  2 & ARESER  & 2 & N  & NA & 278 & 2018-05-28 & NA &  2\\\\\n\t 2018 & YVP N278  &  2 & ARESER  & 2 & N  & NA & 278 & 2018-05-28 & NA &  1\\\\\n\t 2018 & YVP N501  & 10 & ARECON  & 2 & N  & NA & 501 & 2018-07-09 & NA &  1\\\\\n\t 2018 & YVP N501  & 10 & ARECON  & 2 & N  & NA & 501 & 2018-07-09 & NA &  1\\\\\n\t 2018 & YVP N522  &  1 & LITRUD  & 2 & N  & NA & 522 & 2018-05-28 & NA & 10\\\\\n\t 2018 & YVP N522  &  1 & LITRUD  & 2 & N  & NA & 522 & 2018-05-28 & NA &  1\\\\\n\t 2018 & YVP N558  &  7 & COLLIN  & 2 & N  & NA & 558 & 2018-06-26 & NA &  1\\\\\n\t 2018 & YVP N558  &  7 & COLLIN  & 2 & N  & NA & 558 & 2018-06-26 & NA &  1\\\\\n\t 2018 & YVP NB294 &  8 & MICGRA  & 2 & N  & B  & 294 & 2018-05-30 & NA &  1\\\\\n\t 2018 & YVP NB294 &  8 & MICGRA  & 2 & N  & B  & 294 & 2018-05-30 & NA &  1\\\\\n\t 2019 & YVP 113   &  4 & DRAVER  & 2 & NA & NA & 113 & 2019-06-10 & NA &  4\\\\\n\t 2019 & YVP 113   &  4 & DRAVER  & 2 & NA & NA & 113 & 2019-06-10 & NA &  5\\\\\n\t 2019 & YVP 180   &  8 & PLAPAT  & 2 & NA & NA & 180 & 2019-06-10 & NA &  1\\\\\n\t 2019 & YVP 180   &  8 & PLAPAT  & 2 & NA & NA & 180 & 2019-06-10 & NA &  1\\\\\n\t 2019 & YVP 209   &  5 & ASTINF  & 2 & NA & NA & 209 & 2019-05-23 & NA &  1\\\\\n\t 2019 & YVP 209   &  5 & ASTINF  & 2 & NA & NA & 209 & 2019-05-23 & NA &  1\\\\\n\t 2019 & YVP 468   &  2 & UNKN SP & 2 & NA & NA & 468 & 2019-07-16 & NA &  1\\\\\n\t 2019 & YVP 468   &  2 & UNKN SP & 2 & NA & NA & 468 & 2019-07-16 & NA &  5\\\\\n\t 2019 & YVP N111  &  3 & EPIBRA  & 2 & N  & NA & 111 & 2019-05-23 & NA &  1\\\\\n\t 2019 & YVP N111  &  3 & EPIBRA  & 2 & N  & NA & 111 & 2019-05-23 & NA &  1\\\\\n\t 2019 & YVP N158  &  3 & EPIBRA  & 2 & N  & NA & 158 & 2019-06-17 & NA &  1\\\\\n\t 2019 & YVP N158  &  3 & EPIBRA  & 2 & N  & NA & 158 & 2019-06-17 & NA &  1\\\\\n\t 2019 & YVP N158  &  4 & EPIBRA  & 2 & N  & NA & 158 & 2019-06-17 & NA &  1\\\\\n\t 2019 & YVP N158  &  4 & EPIBRA  & 2 & N  & NA & 158 & 2019-06-17 & NA &  1\\\\\n\t 2019 & YVP N348  &  5 & CIRARV  & 2 & N  & NA & 348 & 2019-07-05 & NA &  5\\\\\n\t 2019 & YVP N348  &  5 & CIRARV  & 2 & N  & NA & 348 & 2019-07-05 & NA & 10\\\\\n\t 2019 & YVP N386  &  1 & EPIBRA  & 2 & N  & NA & 386 & 2019-07-01 & NA &  1\\\\\n\t 2019 & YVP N386  &  1 & EPIBRA  & 2 & N  & NA & 386 & 2019-07-01 & NA &  1\\\\\n\t 2019 & YVP N501  &  1 & FRIPUD  & 2 & N  & NA & 501 & 2019-05-30 & NA &  2\\\\\n\t 2019 & YVP N501  &  1 & FRIPUD  & 2 & N  & NA & 501 & 2019-05-30 & NA &  2\\\\\n\t 2019 & YVP NC294 &  4 & MYOMIC  & 2 & N  & C  & 294 & 2019-05-09 & NA &  1\\\\\n\t 2019 & YVP NC294 &  4 & MYOMIC  & 2 & N  & C  & 294 & 2019-05-09 & NA &  1\\\\\n\t 2019 & YVP NC294 &  6 & ERIPUM  & 2 & N  & C  & 294 & 2019-05-09 & NA &  1\\\\\n\t 2019 & YVP NC294 &  6 & ERIPUM  & 2 & N  & C  & 294 & 2019-05-09 & NA &  2\\\\\n\\end{tabular}\n",
            "text/markdown": "\nA tibble: 46 × 11\n\n| year &lt;dbl&gt; | plot_code &lt;chr&gt; | subplot &lt;int&gt; | species_code &lt;chr&gt; | counted &lt;int&gt; | plot_loc &lt;chr&gt; | plot_rep &lt;chr&gt; | plot_num &lt;chr&gt; | date &lt;date&gt; | species_key &lt;chr&gt; | cover_pct &lt;int&gt; |\n|---|---|---|---|---|---|---|---|---|---|---|\n| 2018 | YVP 412   |  9 | MICGRA  | 2 | NA | NA | 412 | 2018-07-02 | NA |  1 |\n| 2018 | YVP 412   |  9 | MICGRA  | 2 | NA | NA | 412 | 2018-07-02 | NA |  2 |\n| 2018 | YVP 56    |  1 | HOLUMB  | 2 | NA | NA | 56  | 2018-06-11 | NA |  1 |\n| 2018 | YVP 56    |  1 | HOLUMB  | 2 | NA | NA | 56  | 2018-06-11 | NA |  1 |\n| 2018 | YVP 62    |  3 | KOEMAC  | 2 | NA | NA | 62  | 2018-07-02 | NA | 35 |\n| 2018 | YVP 62    |  3 | KOEMAC  | 2 | NA | NA | 62  | 2018-07-02 | NA |  1 |\n| 2018 | YVP 62    |  4 | HOLUMB  | 2 | NA | NA | 62  | 2018-07-02 | NA |  1 |\n| 2018 | YVP 62    |  4 | HOLUMB  | 2 | NA | NA | 62  | 2018-07-02 | NA |  1 |\n| 2018 | YVP 62    |  8 | ORTTEN  | 2 | NA | NA | 62  | 2018-07-02 | NA |  1 |\n| 2018 | YVP 62    |  8 | ORTTEN  | 2 | NA | NA | 62  | 2018-07-02 | NA |  1 |\n| 2018 | YVP N110  |  5 | MYOMIC  | 2 | N  | NA | 110 | 2018-05-30 | NA |  1 |\n| 2018 | YVP N110  |  5 | MYOMIC  | 2 | N  | NA | 110 | 2018-05-30 | NA |  1 |\n| 2018 | YVP N278  |  2 | ARESER  | 2 | N  | NA | 278 | 2018-05-28 | NA |  2 |\n| 2018 | YVP N278  |  2 | ARESER  | 2 | N  | NA | 278 | 2018-05-28 | NA |  1 |\n| 2018 | YVP N501  | 10 | ARECON  | 2 | N  | NA | 501 | 2018-07-09 | NA |  1 |\n| 2018 | YVP N501  | 10 | ARECON  | 2 | N  | NA | 501 | 2018-07-09 | NA |  1 |\n| 2018 | YVP N522  |  1 | LITRUD  | 2 | N  | NA | 522 | 2018-05-28 | NA | 10 |\n| 2018 | YVP N522  |  1 | LITRUD  | 2 | N  | NA | 522 | 2018-05-28 | NA |  1 |\n| 2018 | YVP N558  |  7 | COLLIN  | 2 | N  | NA | 558 | 2018-06-26 | NA |  1 |\n| 2018 | YVP N558  |  7 | COLLIN  | 2 | N  | NA | 558 | 2018-06-26 | NA |  1 |\n| 2018 | YVP NB294 |  8 | MICGRA  | 2 | N  | B  | 294 | 2018-05-30 | NA |  1 |\n| 2018 | YVP NB294 |  8 | MICGRA  | 2 | N  | B  | 294 | 2018-05-30 | NA |  1 |\n| 2019 | YVP 113   |  4 | DRAVER  | 2 | NA | NA | 113 | 2019-06-10 | NA |  4 |\n| 2019 | YVP 113   |  4 | DRAVER  | 2 | NA | NA | 113 | 2019-06-10 | NA |  5 |\n| 2019 | YVP 180   |  8 | PLAPAT  | 2 | NA | NA | 180 | 2019-06-10 | NA |  1 |\n| 2019 | YVP 180   |  8 | PLAPAT  | 2 | NA | NA | 180 | 2019-06-10 | NA |  1 |\n| 2019 | YVP 209   |  5 | ASTINF  | 2 | NA | NA | 209 | 2019-05-23 | NA |  1 |\n| 2019 | YVP 209   |  5 | ASTINF  | 2 | NA | NA | 209 | 2019-05-23 | NA |  1 |\n| 2019 | YVP 468   |  2 | UNKN SP | 2 | NA | NA | 468 | 2019-07-16 | NA |  1 |\n| 2019 | YVP 468   |  2 | UNKN SP | 2 | NA | NA | 468 | 2019-07-16 | NA |  5 |\n| 2019 | YVP N111  |  3 | EPIBRA  | 2 | N  | NA | 111 | 2019-05-23 | NA |  1 |\n| 2019 | YVP N111  |  3 | EPIBRA  | 2 | N  | NA | 111 | 2019-05-23 | NA |  1 |\n| 2019 | YVP N158  |  3 | EPIBRA  | 2 | N  | NA | 158 | 2019-06-17 | NA |  1 |\n| 2019 | YVP N158  |  3 | EPIBRA  | 2 | N  | NA | 158 | 2019-06-17 | NA |  1 |\n| 2019 | YVP N158  |  4 | EPIBRA  | 2 | N  | NA | 158 | 2019-06-17 | NA |  1 |\n| 2019 | YVP N158  |  4 | EPIBRA  | 2 | N  | NA | 158 | 2019-06-17 | NA |  1 |\n| 2019 | YVP N348  |  5 | CIRARV  | 2 | N  | NA | 348 | 2019-07-05 | NA |  5 |\n| 2019 | YVP N348  |  5 | CIRARV  | 2 | N  | NA | 348 | 2019-07-05 | NA | 10 |\n| 2019 | YVP N386  |  1 | EPIBRA  | 2 | N  | NA | 386 | 2019-07-01 | NA |  1 |\n| 2019 | YVP N386  |  1 | EPIBRA  | 2 | N  | NA | 386 | 2019-07-01 | NA |  1 |\n| 2019 | YVP N501  |  1 | FRIPUD  | 2 | N  | NA | 501 | 2019-05-30 | NA |  2 |\n| 2019 | YVP N501  |  1 | FRIPUD  | 2 | N  | NA | 501 | 2019-05-30 | NA |  2 |\n| 2019 | YVP NC294 |  4 | MYOMIC  | 2 | N  | C  | 294 | 2019-05-09 | NA |  1 |\n| 2019 | YVP NC294 |  4 | MYOMIC  | 2 | N  | C  | 294 | 2019-05-09 | NA |  1 |\n| 2019 | YVP NC294 |  6 | ERIPUM  | 2 | N  | C  | 294 | 2019-05-09 | NA |  1 |\n| 2019 | YVP NC294 |  6 | ERIPUM  | 2 | N  | C  | 294 | 2019-05-09 | NA |  2 |\n\n",
            "text/html": [
              "<table>\n",
              "<caption>A tibble: 46 × 11</caption>\n",
              "<thead>\n",
              "\t<tr><th scope=col>year</th><th scope=col>plot_code</th><th scope=col>subplot</th><th scope=col>species_code</th><th scope=col>counted</th><th scope=col>plot_loc</th><th scope=col>plot_rep</th><th scope=col>plot_num</th><th scope=col>date</th><th scope=col>species_key</th><th scope=col>cover_pct</th></tr>\n",
              "\t<tr><th scope=col>&lt;dbl&gt;</th><th scope=col>&lt;chr&gt;</th><th scope=col>&lt;int&gt;</th><th scope=col>&lt;chr&gt;</th><th scope=col>&lt;int&gt;</th><th scope=col>&lt;chr&gt;</th><th scope=col>&lt;chr&gt;</th><th scope=col>&lt;chr&gt;</th><th scope=col>&lt;date&gt;</th><th scope=col>&lt;chr&gt;</th><th scope=col>&lt;int&gt;</th></tr>\n",
              "</thead>\n",
              "<tbody>\n",
              "\t<tr><td>2018</td><td>YVP 412  </td><td> 9</td><td>MICGRA </td><td>2</td><td>NA</td><td>NA</td><td>412</td><td>2018-07-02</td><td>NA</td><td> 1</td></tr>\n",
              "\t<tr><td>2018</td><td>YVP 412  </td><td> 9</td><td>MICGRA </td><td>2</td><td>NA</td><td>NA</td><td>412</td><td>2018-07-02</td><td>NA</td><td> 2</td></tr>\n",
              "\t<tr><td>2018</td><td>YVP 56   </td><td> 1</td><td>HOLUMB </td><td>2</td><td>NA</td><td>NA</td><td>56 </td><td>2018-06-11</td><td>NA</td><td> 1</td></tr>\n",
              "\t<tr><td>2018</td><td>YVP 56   </td><td> 1</td><td>HOLUMB </td><td>2</td><td>NA</td><td>NA</td><td>56 </td><td>2018-06-11</td><td>NA</td><td> 1</td></tr>\n",
              "\t<tr><td>2018</td><td>YVP 62   </td><td> 3</td><td>KOEMAC </td><td>2</td><td>NA</td><td>NA</td><td>62 </td><td>2018-07-02</td><td>NA</td><td>35</td></tr>\n",
              "\t<tr><td>2018</td><td>YVP 62   </td><td> 3</td><td>KOEMAC </td><td>2</td><td>NA</td><td>NA</td><td>62 </td><td>2018-07-02</td><td>NA</td><td> 1</td></tr>\n",
              "\t<tr><td>2018</td><td>YVP 62   </td><td> 4</td><td>HOLUMB </td><td>2</td><td>NA</td><td>NA</td><td>62 </td><td>2018-07-02</td><td>NA</td><td> 1</td></tr>\n",
              "\t<tr><td>2018</td><td>YVP 62   </td><td> 4</td><td>HOLUMB </td><td>2</td><td>NA</td><td>NA</td><td>62 </td><td>2018-07-02</td><td>NA</td><td> 1</td></tr>\n",
              "\t<tr><td>2018</td><td>YVP 62   </td><td> 8</td><td>ORTTEN </td><td>2</td><td>NA</td><td>NA</td><td>62 </td><td>2018-07-02</td><td>NA</td><td> 1</td></tr>\n",
              "\t<tr><td>2018</td><td>YVP 62   </td><td> 8</td><td>ORTTEN </td><td>2</td><td>NA</td><td>NA</td><td>62 </td><td>2018-07-02</td><td>NA</td><td> 1</td></tr>\n",
              "\t<tr><td>2018</td><td>YVP N110 </td><td> 5</td><td>MYOMIC </td><td>2</td><td>N </td><td>NA</td><td>110</td><td>2018-05-30</td><td>NA</td><td> 1</td></tr>\n",
              "\t<tr><td>2018</td><td>YVP N110 </td><td> 5</td><td>MYOMIC </td><td>2</td><td>N </td><td>NA</td><td>110</td><td>2018-05-30</td><td>NA</td><td> 1</td></tr>\n",
              "\t<tr><td>2018</td><td>YVP N278 </td><td> 2</td><td>ARESER </td><td>2</td><td>N </td><td>NA</td><td>278</td><td>2018-05-28</td><td>NA</td><td> 2</td></tr>\n",
              "\t<tr><td>2018</td><td>YVP N278 </td><td> 2</td><td>ARESER </td><td>2</td><td>N </td><td>NA</td><td>278</td><td>2018-05-28</td><td>NA</td><td> 1</td></tr>\n",
              "\t<tr><td>2018</td><td>YVP N501 </td><td>10</td><td>ARECON </td><td>2</td><td>N </td><td>NA</td><td>501</td><td>2018-07-09</td><td>NA</td><td> 1</td></tr>\n",
              "\t<tr><td>2018</td><td>YVP N501 </td><td>10</td><td>ARECON </td><td>2</td><td>N </td><td>NA</td><td>501</td><td>2018-07-09</td><td>NA</td><td> 1</td></tr>\n",
              "\t<tr><td>2018</td><td>YVP N522 </td><td> 1</td><td>LITRUD </td><td>2</td><td>N </td><td>NA</td><td>522</td><td>2018-05-28</td><td>NA</td><td>10</td></tr>\n",
              "\t<tr><td>2018</td><td>YVP N522 </td><td> 1</td><td>LITRUD </td><td>2</td><td>N </td><td>NA</td><td>522</td><td>2018-05-28</td><td>NA</td><td> 1</td></tr>\n",
              "\t<tr><td>2018</td><td>YVP N558 </td><td> 7</td><td>COLLIN </td><td>2</td><td>N </td><td>NA</td><td>558</td><td>2018-06-26</td><td>NA</td><td> 1</td></tr>\n",
              "\t<tr><td>2018</td><td>YVP N558 </td><td> 7</td><td>COLLIN </td><td>2</td><td>N </td><td>NA</td><td>558</td><td>2018-06-26</td><td>NA</td><td> 1</td></tr>\n",
              "\t<tr><td>2018</td><td>YVP NB294</td><td> 8</td><td>MICGRA </td><td>2</td><td>N </td><td>B </td><td>294</td><td>2018-05-30</td><td>NA</td><td> 1</td></tr>\n",
              "\t<tr><td>2018</td><td>YVP NB294</td><td> 8</td><td>MICGRA </td><td>2</td><td>N </td><td>B </td><td>294</td><td>2018-05-30</td><td>NA</td><td> 1</td></tr>\n",
              "\t<tr><td>2019</td><td>YVP 113  </td><td> 4</td><td>DRAVER </td><td>2</td><td>NA</td><td>NA</td><td>113</td><td>2019-06-10</td><td>NA</td><td> 4</td></tr>\n",
              "\t<tr><td>2019</td><td>YVP 113  </td><td> 4</td><td>DRAVER </td><td>2</td><td>NA</td><td>NA</td><td>113</td><td>2019-06-10</td><td>NA</td><td> 5</td></tr>\n",
              "\t<tr><td>2019</td><td>YVP 180  </td><td> 8</td><td>PLAPAT </td><td>2</td><td>NA</td><td>NA</td><td>180</td><td>2019-06-10</td><td>NA</td><td> 1</td></tr>\n",
              "\t<tr><td>2019</td><td>YVP 180  </td><td> 8</td><td>PLAPAT </td><td>2</td><td>NA</td><td>NA</td><td>180</td><td>2019-06-10</td><td>NA</td><td> 1</td></tr>\n",
              "\t<tr><td>2019</td><td>YVP 209  </td><td> 5</td><td>ASTINF </td><td>2</td><td>NA</td><td>NA</td><td>209</td><td>2019-05-23</td><td>NA</td><td> 1</td></tr>\n",
              "\t<tr><td>2019</td><td>YVP 209  </td><td> 5</td><td>ASTINF </td><td>2</td><td>NA</td><td>NA</td><td>209</td><td>2019-05-23</td><td>NA</td><td> 1</td></tr>\n",
              "\t<tr><td>2019</td><td>YVP 468  </td><td> 2</td><td>UNKN SP</td><td>2</td><td>NA</td><td>NA</td><td>468</td><td>2019-07-16</td><td>NA</td><td> 1</td></tr>\n",
              "\t<tr><td>2019</td><td>YVP 468  </td><td> 2</td><td>UNKN SP</td><td>2</td><td>NA</td><td>NA</td><td>468</td><td>2019-07-16</td><td>NA</td><td> 5</td></tr>\n",
              "\t<tr><td>2019</td><td>YVP N111 </td><td> 3</td><td>EPIBRA </td><td>2</td><td>N </td><td>NA</td><td>111</td><td>2019-05-23</td><td>NA</td><td> 1</td></tr>\n",
              "\t<tr><td>2019</td><td>YVP N111 </td><td> 3</td><td>EPIBRA </td><td>2</td><td>N </td><td>NA</td><td>111</td><td>2019-05-23</td><td>NA</td><td> 1</td></tr>\n",
              "\t<tr><td>2019</td><td>YVP N158 </td><td> 3</td><td>EPIBRA </td><td>2</td><td>N </td><td>NA</td><td>158</td><td>2019-06-17</td><td>NA</td><td> 1</td></tr>\n",
              "\t<tr><td>2019</td><td>YVP N158 </td><td> 3</td><td>EPIBRA </td><td>2</td><td>N </td><td>NA</td><td>158</td><td>2019-06-17</td><td>NA</td><td> 1</td></tr>\n",
              "\t<tr><td>2019</td><td>YVP N158 </td><td> 4</td><td>EPIBRA </td><td>2</td><td>N </td><td>NA</td><td>158</td><td>2019-06-17</td><td>NA</td><td> 1</td></tr>\n",
              "\t<tr><td>2019</td><td>YVP N158 </td><td> 4</td><td>EPIBRA </td><td>2</td><td>N </td><td>NA</td><td>158</td><td>2019-06-17</td><td>NA</td><td> 1</td></tr>\n",
              "\t<tr><td>2019</td><td>YVP N348 </td><td> 5</td><td>CIRARV </td><td>2</td><td>N </td><td>NA</td><td>348</td><td>2019-07-05</td><td>NA</td><td> 5</td></tr>\n",
              "\t<tr><td>2019</td><td>YVP N348 </td><td> 5</td><td>CIRARV </td><td>2</td><td>N </td><td>NA</td><td>348</td><td>2019-07-05</td><td>NA</td><td>10</td></tr>\n",
              "\t<tr><td>2019</td><td>YVP N386 </td><td> 1</td><td>EPIBRA </td><td>2</td><td>N </td><td>NA</td><td>386</td><td>2019-07-01</td><td>NA</td><td> 1</td></tr>\n",
              "\t<tr><td>2019</td><td>YVP N386 </td><td> 1</td><td>EPIBRA </td><td>2</td><td>N </td><td>NA</td><td>386</td><td>2019-07-01</td><td>NA</td><td> 1</td></tr>\n",
              "\t<tr><td>2019</td><td>YVP N501 </td><td> 1</td><td>FRIPUD </td><td>2</td><td>N </td><td>NA</td><td>501</td><td>2019-05-30</td><td>NA</td><td> 2</td></tr>\n",
              "\t<tr><td>2019</td><td>YVP N501 </td><td> 1</td><td>FRIPUD </td><td>2</td><td>N </td><td>NA</td><td>501</td><td>2019-05-30</td><td>NA</td><td> 2</td></tr>\n",
              "\t<tr><td>2019</td><td>YVP NC294</td><td> 4</td><td>MYOMIC </td><td>2</td><td>N </td><td>C </td><td>294</td><td>2019-05-09</td><td>NA</td><td> 1</td></tr>\n",
              "\t<tr><td>2019</td><td>YVP NC294</td><td> 4</td><td>MYOMIC </td><td>2</td><td>N </td><td>C </td><td>294</td><td>2019-05-09</td><td>NA</td><td> 1</td></tr>\n",
              "\t<tr><td>2019</td><td>YVP NC294</td><td> 6</td><td>ERIPUM </td><td>2</td><td>N </td><td>C </td><td>294</td><td>2019-05-09</td><td>NA</td><td> 1</td></tr>\n",
              "\t<tr><td>2019</td><td>YVP NC294</td><td> 6</td><td>ERIPUM </td><td>2</td><td>N </td><td>C </td><td>294</td><td>2019-05-09</td><td>NA</td><td> 2</td></tr>\n",
              "</tbody>\n",
              "</table>\n"
            ]
          },
          "metadata": {
            "tags": []
          }
        }
      ]
    },
    {
      "cell_type": "code",
      "metadata": {
        "id": "KymT73qv9dwQ",
        "colab_type": "code",
        "colab": {}
      },
      "source": [
        ""
      ],
      "execution_count": 0,
      "outputs": []
    },
    {
      "cell_type": "markdown",
      "metadata": {
        "id": "wZedeWaU7qty",
        "colab_type": "text"
      },
      "source": [
        "### Export View Doubles"
      ]
    },
    {
      "cell_type": "code",
      "metadata": {
        "id": "FKRdVva67thP",
        "colab_type": "code",
        "colab": {}
      },
      "source": [
        "write.csv(view_doubles, 'view_doubles.csv')"
      ],
      "execution_count": 0,
      "outputs": []
    },
    {
      "cell_type": "code",
      "metadata": {
        "id": "gfot183c8EbG",
        "colab_type": "code",
        "colab": {}
      },
      "source": [
        ""
      ],
      "execution_count": 0,
      "outputs": []
    },
    {
      "cell_type": "code",
      "metadata": {
        "id": "FiAxMEoV8EYS",
        "colab_type": "code",
        "colab": {}
      },
      "source": [
        ""
      ],
      "execution_count": 0,
      "outputs": []
    },
    {
      "cell_type": "code",
      "metadata": {
        "id": "MsyGZ2Gw8EUz",
        "colab_type": "code",
        "colab": {}
      },
      "source": [
        ""
      ],
      "execution_count": 0,
      "outputs": []
    },
    {
      "cell_type": "code",
      "metadata": {
        "id": "Qyk3NYg-XdWO",
        "colab_type": "code",
        "outputId": "138b3287-b6e6-4c51-d7b6-497a7aff22e1",
        "colab": {
          "base_uri": "https://localhost:8080/",
          "height": 120
        }
      },
      "source": [
        "# example where cover_pct value is different\n",
        "# 2017\tYVP 144\t2\tVERVER\n",
        "df %>%\n",
        "  filter(as.numeric(substring(date,0,4)) == 2017,\n",
        "          plot_code == 'YVP 144',\n",
        "          subplot == '2',\n",
        "          species_code == 'VERVER')"
      ],
      "execution_count": 0,
      "outputs": [
        {
          "output_type": "display_data",
          "data": {
            "text/plain": [
              "  plot_code plot_loc plot_rep plot_num date       subplot species_key\n",
              "1 YVP 144   NA       NA       144      2017-05-30 2       NA         \n",
              "2 YVP 144   NA       NA       144      2017-05-30 2       NA         \n",
              "  species_code cover_pct\n",
              "1 VERVER       3        \n",
              "2 VERVER       4        "
            ],
            "text/latex": "A data.frame: 2 × 9\n\\begin{tabular}{lllllllll}\n plot\\_code & plot\\_loc & plot\\_rep & plot\\_num & date & subplot & species\\_key & species\\_code & cover\\_pct\\\\\n <chr> & <chr> & <chr> & <chr> & <date> & <int> & <chr> & <chr> & <int>\\\\\n\\hline\n\t YVP 144 & NA & NA & 144 & 2017-05-30 & 2 & NA & VERVER & 3\\\\\n\t YVP 144 & NA & NA & 144 & 2017-05-30 & 2 & NA & VERVER & 4\\\\\n\\end{tabular}\n",
            "text/markdown": "\nA data.frame: 2 × 9\n\n| plot_code &lt;chr&gt; | plot_loc &lt;chr&gt; | plot_rep &lt;chr&gt; | plot_num &lt;chr&gt; | date &lt;date&gt; | subplot &lt;int&gt; | species_key &lt;chr&gt; | species_code &lt;chr&gt; | cover_pct &lt;int&gt; |\n|---|---|---|---|---|---|---|---|---|\n| YVP 144 | NA | NA | 144 | 2017-05-30 | 2 | NA | VERVER | 3 |\n| YVP 144 | NA | NA | 144 | 2017-05-30 | 2 | NA | VERVER | 4 |\n\n",
            "text/html": [
              "<table>\n",
              "<caption>A data.frame: 2 × 9</caption>\n",
              "<thead>\n",
              "\t<tr><th scope=col>plot_code</th><th scope=col>plot_loc</th><th scope=col>plot_rep</th><th scope=col>plot_num</th><th scope=col>date</th><th scope=col>subplot</th><th scope=col>species_key</th><th scope=col>species_code</th><th scope=col>cover_pct</th></tr>\n",
              "\t<tr><th scope=col>&lt;chr&gt;</th><th scope=col>&lt;chr&gt;</th><th scope=col>&lt;chr&gt;</th><th scope=col>&lt;chr&gt;</th><th scope=col>&lt;date&gt;</th><th scope=col>&lt;int&gt;</th><th scope=col>&lt;chr&gt;</th><th scope=col>&lt;chr&gt;</th><th scope=col>&lt;int&gt;</th></tr>\n",
              "</thead>\n",
              "<tbody>\n",
              "\t<tr><td>YVP 144</td><td>NA</td><td>NA</td><td>144</td><td>2017-05-30</td><td>2</td><td>NA</td><td>VERVER</td><td>3</td></tr>\n",
              "\t<tr><td>YVP 144</td><td>NA</td><td>NA</td><td>144</td><td>2017-05-30</td><td>2</td><td>NA</td><td>VERVER</td><td>4</td></tr>\n",
              "</tbody>\n",
              "</table>\n"
            ]
          },
          "metadata": {
            "tags": []
          }
        }
      ]
    },
    {
      "cell_type": "code",
      "metadata": {
        "id": "-9p2VAQkbPf_",
        "colab_type": "code",
        "outputId": "f5b26b4f-aa47-438e-af9f-7b580012084f",
        "colab": {
          "base_uri": "https://localhost:8080/",
          "height": 120
        }
      },
      "source": [
        "# example where cover_pct value is the same\n",
        "# 2017\tYVP 180\t7\tFRIPUD\n",
        "df %>%\n",
        "  filter(as.numeric(substring(date,0,4)) == 2017,\n",
        "          plot_code == 'YVP 180',\n",
        "          subplot == '7',\n",
        "          species_code == 'FRIPUD')"
      ],
      "execution_count": 0,
      "outputs": [
        {
          "output_type": "display_data",
          "data": {
            "text/plain": [
              "  plot_code plot_loc plot_rep plot_num date       subplot species_key\n",
              "1 YVP 180   NA       NA       180      2017-05-31 7       NA         \n",
              "2 YVP 180   NA       NA       180      2017-05-31 7       NA         \n",
              "  species_code cover_pct\n",
              "1 FRIPUD       1        \n",
              "2 FRIPUD       1        "
            ],
            "text/latex": "A data.frame: 2 × 9\n\\begin{tabular}{lllllllll}\n plot\\_code & plot\\_loc & plot\\_rep & plot\\_num & date & subplot & species\\_key & species\\_code & cover\\_pct\\\\\n <chr> & <chr> & <chr> & <chr> & <date> & <int> & <chr> & <chr> & <int>\\\\\n\\hline\n\t YVP 180 & NA & NA & 180 & 2017-05-31 & 7 & NA & FRIPUD & 1\\\\\n\t YVP 180 & NA & NA & 180 & 2017-05-31 & 7 & NA & FRIPUD & 1\\\\\n\\end{tabular}\n",
            "text/markdown": "\nA data.frame: 2 × 9\n\n| plot_code &lt;chr&gt; | plot_loc &lt;chr&gt; | plot_rep &lt;chr&gt; | plot_num &lt;chr&gt; | date &lt;date&gt; | subplot &lt;int&gt; | species_key &lt;chr&gt; | species_code &lt;chr&gt; | cover_pct &lt;int&gt; |\n|---|---|---|---|---|---|---|---|---|\n| YVP 180 | NA | NA | 180 | 2017-05-31 | 7 | NA | FRIPUD | 1 |\n| YVP 180 | NA | NA | 180 | 2017-05-31 | 7 | NA | FRIPUD | 1 |\n\n",
            "text/html": [
              "<table>\n",
              "<caption>A data.frame: 2 × 9</caption>\n",
              "<thead>\n",
              "\t<tr><th scope=col>plot_code</th><th scope=col>plot_loc</th><th scope=col>plot_rep</th><th scope=col>plot_num</th><th scope=col>date</th><th scope=col>subplot</th><th scope=col>species_key</th><th scope=col>species_code</th><th scope=col>cover_pct</th></tr>\n",
              "\t<tr><th scope=col>&lt;chr&gt;</th><th scope=col>&lt;chr&gt;</th><th scope=col>&lt;chr&gt;</th><th scope=col>&lt;chr&gt;</th><th scope=col>&lt;date&gt;</th><th scope=col>&lt;int&gt;</th><th scope=col>&lt;chr&gt;</th><th scope=col>&lt;chr&gt;</th><th scope=col>&lt;int&gt;</th></tr>\n",
              "</thead>\n",
              "<tbody>\n",
              "\t<tr><td>YVP 180</td><td>NA</td><td>NA</td><td>180</td><td>2017-05-31</td><td>7</td><td>NA</td><td>FRIPUD</td><td>1</td></tr>\n",
              "\t<tr><td>YVP 180</td><td>NA</td><td>NA</td><td>180</td><td>2017-05-31</td><td>7</td><td>NA</td><td>FRIPUD</td><td>1</td></tr>\n",
              "</tbody>\n",
              "</table>\n"
            ]
          },
          "metadata": {
            "tags": []
          }
        }
      ]
    },
    {
      "cell_type": "code",
      "metadata": {
        "id": "K4QFTaECbv1K",
        "colab_type": "code",
        "outputId": "e7729d9b-02bd-4fb9-cff9-5cc540791513",
        "colab": {
          "base_uri": "https://localhost:8080/",
          "height": 141
        }
      },
      "source": [
        "# example where cover_pct value is different\n",
        "# 2019\tYVP NC294\t6\tERIPUM\n",
        "df %>%\n",
        "  filter(as.numeric(substring(date,0,4)) == 2019,\n",
        "          plot_code == 'YVP 294',\n",
        "          subplot == '6',\n",
        "          species_code == 'ERIPUM')"
      ],
      "execution_count": 0,
      "outputs": [
        {
          "output_type": "display_data",
          "data": {
            "text/plain": [
              "  plot_code plot_loc plot_rep plot_num date       subplot species_key\n",
              "1 YVP 294   N        C        294      2019-05-09 6       NA         \n",
              "2 YVP 294   N        C        294      2019-05-09 6       NA         \n",
              "3 YVP 294   N        B        294      2019-05-13 6       NA         \n",
              "  species_code cover_pct\n",
              "1 ERIPUM       1        \n",
              "2 ERIPUM       2        \n",
              "3 ERIPUM       0        "
            ],
            "text/latex": "A data.frame: 3 × 9\n\\begin{tabular}{lllllllll}\n plot\\_code & plot\\_loc & plot\\_rep & plot\\_num & date & subplot & species\\_key & species\\_code & cover\\_pct\\\\\n <chr> & <chr> & <chr> & <chr> & <date> & <int> & <chr> & <chr> & <int>\\\\\n\\hline\n\t YVP 294 & N & C & 294 & 2019-05-09 & 6 & NA & ERIPUM & 1\\\\\n\t YVP 294 & N & C & 294 & 2019-05-09 & 6 & NA & ERIPUM & 2\\\\\n\t YVP 294 & N & B & 294 & 2019-05-13 & 6 & NA & ERIPUM & 0\\\\\n\\end{tabular}\n",
            "text/markdown": "\nA data.frame: 3 × 9\n\n| plot_code &lt;chr&gt; | plot_loc &lt;chr&gt; | plot_rep &lt;chr&gt; | plot_num &lt;chr&gt; | date &lt;date&gt; | subplot &lt;int&gt; | species_key &lt;chr&gt; | species_code &lt;chr&gt; | cover_pct &lt;int&gt; |\n|---|---|---|---|---|---|---|---|---|\n| YVP 294 | N | C | 294 | 2019-05-09 | 6 | NA | ERIPUM | 1 |\n| YVP 294 | N | C | 294 | 2019-05-09 | 6 | NA | ERIPUM | 2 |\n| YVP 294 | N | B | 294 | 2019-05-13 | 6 | NA | ERIPUM | 0 |\n\n",
            "text/html": [
              "<table>\n",
              "<caption>A data.frame: 3 × 9</caption>\n",
              "<thead>\n",
              "\t<tr><th scope=col>plot_code</th><th scope=col>plot_loc</th><th scope=col>plot_rep</th><th scope=col>plot_num</th><th scope=col>date</th><th scope=col>subplot</th><th scope=col>species_key</th><th scope=col>species_code</th><th scope=col>cover_pct</th></tr>\n",
              "\t<tr><th scope=col>&lt;chr&gt;</th><th scope=col>&lt;chr&gt;</th><th scope=col>&lt;chr&gt;</th><th scope=col>&lt;chr&gt;</th><th scope=col>&lt;date&gt;</th><th scope=col>&lt;int&gt;</th><th scope=col>&lt;chr&gt;</th><th scope=col>&lt;chr&gt;</th><th scope=col>&lt;int&gt;</th></tr>\n",
              "</thead>\n",
              "<tbody>\n",
              "\t<tr><td>YVP 294</td><td>N</td><td>C</td><td>294</td><td>2019-05-09</td><td>6</td><td>NA</td><td>ERIPUM</td><td>1</td></tr>\n",
              "\t<tr><td>YVP 294</td><td>N</td><td>C</td><td>294</td><td>2019-05-09</td><td>6</td><td>NA</td><td>ERIPUM</td><td>2</td></tr>\n",
              "\t<tr><td>YVP 294</td><td>N</td><td>B</td><td>294</td><td>2019-05-13</td><td>6</td><td>NA</td><td>ERIPUM</td><td>0</td></tr>\n",
              "</tbody>\n",
              "</table>\n"
            ]
          },
          "metadata": {
            "tags": []
          }
        }
      ]
    },
    {
      "cell_type": "markdown",
      "metadata": {
        "id": "WDYPLgKr13B7",
        "colab_type": "text"
      },
      "source": [
        "Display all rows contained in matching "
      ]
    },
    {
      "cell_type": "markdown",
      "metadata": {
        "id": "EOdlWnwWdhiN",
        "colab_type": "text"
      },
      "source": [
        "## Address Double Counting"
      ]
    },
    {
      "cell_type": "markdown",
      "metadata": {
        "id": "5XxF4Qq7zsbH",
        "colab_type": "text"
      },
      "source": [
        ""
      ]
    },
    {
      "cell_type": "code",
      "metadata": {
        "id": "AirX3eGwdkjT",
        "colab_type": "code",
        "colab": {}
      },
      "source": [
        "# ?"
      ],
      "execution_count": 0,
      "outputs": []
    }
  ]
}