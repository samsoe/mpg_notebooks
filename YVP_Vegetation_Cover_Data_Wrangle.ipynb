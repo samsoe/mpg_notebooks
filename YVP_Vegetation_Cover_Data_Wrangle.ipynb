{
  "nbformat": 4,
  "nbformat_minor": 0,
  "metadata": {
    "colab": {
      "name": "YVP - Vegetation Cover Data - Wrangle.ipynb",
      "provenance": [],
      "collapsed_sections": [],
      "toc_visible": true,
      "authorship_tag": "ABX9TyM8jmse8TXcY/+VwKgv23oz",
      "include_colab_link": true
    },
    "kernelspec": {
      "name": "ir",
      "display_name": "R"
    }
  },
  "cells": [
    {
      "cell_type": "markdown",
      "metadata": {
        "id": "view-in-github",
        "colab_type": "text"
      },
      "source": [
        "<a href=\"https://colab.research.google.com/github/samsoe/mpg_notebooks/blob/master/YVP_Vegetation_Cover_Data_Wrangle.ipynb\" target=\"_parent\"><img src=\"https://colab.research.google.com/assets/colab-badge.svg\" alt=\"Open In Colab\"/></a>"
      ]
    },
    {
      "cell_type": "markdown",
      "metadata": {
        "id": "sLoATLEdI-hh",
        "colab_type": "text"
      },
      "source": [
        "*R Notebook*"
      ]
    },
    {
      "cell_type": "markdown",
      "metadata": {
        "id": "YZbGHbTzJQrV",
        "colab_type": "text"
      },
      "source": [
        "# README"
      ]
    },
    {
      "cell_type": "markdown",
      "metadata": {
        "id": "G095KjDNJS6E",
        "colab_type": "text"
      },
      "source": [
        "* [Readme fixed grid plot vegetation data](https://docs.google.com/document/d/16-Aq8u9Rudd78fSzfjvpCXyQgE-BstC-d2PjYfmLtcw/edit?usp=sharing)"
      ]
    },
    {
      "cell_type": "markdown",
      "metadata": {
        "id": "DTleZaOpPUo-",
        "colab_type": "text"
      },
      "source": [
        "# Load Tools"
      ]
    },
    {
      "cell_type": "code",
      "metadata": {
        "id": "nQA2WSBCPXuD",
        "colab_type": "code",
        "colab": {}
      },
      "source": [
        "library(tidyverse)"
      ],
      "execution_count": 0,
      "outputs": []
    },
    {
      "cell_type": "markdown",
      "metadata": {
        "id": "RKBdNw56BzwD",
        "colab_type": "text"
      },
      "source": [
        "# Source"
      ]
    },
    {
      "cell_type": "code",
      "metadata": {
        "id": "X9t3Ks1oB3gG",
        "colab_type": "code",
        "colab": {}
      },
      "source": [
        "# 2020-04-28_yvp_vegetation_cover\n",
        "src = 'https://drive.google.com/uc?id=1pemnlKIlfAQw2JSMN7yDlYMG5QhUW-NP'"
      ],
      "execution_count": 0,
      "outputs": []
    },
    {
      "cell_type": "code",
      "metadata": {
        "id": "fvU8xi8iB4SI",
        "colab_type": "code",
        "colab": {}
      },
      "source": [
        "df <- read.csv(file = src)"
      ],
      "execution_count": 0,
      "outputs": []
    },
    {
      "cell_type": "code",
      "metadata": {
        "id": "YDY7IDdmB4PN",
        "colab_type": "code",
        "outputId": "0a9b8a6f-b57a-4c4b-bfe3-d528198598c3",
        "colab": {
          "base_uri": "https://localhost:8080/",
          "height": 120
        }
      },
      "source": [
        "head(df, n=2)"
      ],
      "execution_count": 146,
      "outputs": [
        {
          "output_type": "display_data",
          "data": {
            "text/plain": [
              "  plot_code date       subplot species_code cover_pct\n",
              "1 YVP 10    2017-06-09 1       BOESPP       1        \n",
              "2 YVP 10    2017-06-09 1       CREINT       1        "
            ],
            "text/latex": "A data.frame: 2 × 5\n\\begin{tabular}{r|lllll}\n  & plot\\_code & date & subplot & species\\_code & cover\\_pct\\\\\n  & <fct> & <fct> & <int> & <fct> & <int>\\\\\n\\hline\n\t1 & YVP 10 & 2017-06-09 & 1 & BOESPP & 1\\\\\n\t2 & YVP 10 & 2017-06-09 & 1 & CREINT & 1\\\\\n\\end{tabular}\n",
            "text/markdown": "\nA data.frame: 2 × 5\n\n| <!--/--> | plot_code &lt;fct&gt; | date &lt;fct&gt; | subplot &lt;int&gt; | species_code &lt;fct&gt; | cover_pct &lt;int&gt; |\n|---|---|---|---|---|---|\n| 1 | YVP 10 | 2017-06-09 | 1 | BOESPP | 1 |\n| 2 | YVP 10 | 2017-06-09 | 1 | CREINT | 1 |\n\n",
            "text/html": [
              "<table>\n",
              "<caption>A data.frame: 2 × 5</caption>\n",
              "<thead>\n",
              "\t<tr><th></th><th scope=col>plot_code</th><th scope=col>date</th><th scope=col>subplot</th><th scope=col>species_code</th><th scope=col>cover_pct</th></tr>\n",
              "\t<tr><th></th><th scope=col>&lt;fct&gt;</th><th scope=col>&lt;fct&gt;</th><th scope=col>&lt;int&gt;</th><th scope=col>&lt;fct&gt;</th><th scope=col>&lt;int&gt;</th></tr>\n",
              "</thead>\n",
              "<tbody>\n",
              "\t<tr><th scope=row>1</th><td>YVP 10</td><td>2017-06-09</td><td>1</td><td>BOESPP</td><td>1</td></tr>\n",
              "\t<tr><th scope=row>2</th><td>YVP 10</td><td>2017-06-09</td><td>1</td><td>CREINT</td><td>1</td></tr>\n",
              "</tbody>\n",
              "</table>\n"
            ]
          },
          "metadata": {
            "tags": []
          }
        }
      ]
    },
    {
      "cell_type": "markdown",
      "metadata": {
        "id": "hH-_99bsKRVn",
        "colab_type": "text"
      },
      "source": [
        "# Wrangle"
      ]
    },
    {
      "cell_type": "markdown",
      "metadata": {
        "id": "P_3Rq2-4OVsJ",
        "colab_type": "text"
      },
      "source": [
        "## Structure columns"
      ]
    },
    {
      "cell_type": "markdown",
      "metadata": {
        "id": "801b78aYKc5B",
        "colab_type": "text"
      },
      "source": [
        "### plot_code"
      ]
    },
    {
      "cell_type": "code",
      "metadata": {
        "id": "ky8xiSEzKSCb",
        "colab_type": "code",
        "colab": {}
      },
      "source": [
        "# coerce to string\n",
        "df$plot_code <- as.character(df$plot_code)"
      ],
      "execution_count": 0,
      "outputs": []
    },
    {
      "cell_type": "markdown",
      "metadata": {
        "id": "L2yzHLKuP4oz",
        "colab_type": "text"
      },
      "source": [
        "### plot_ loc"
      ]
    },
    {
      "cell_type": "code",
      "metadata": {
        "id": "x42pThVsQeuS",
        "colab_type": "code",
        "colab": {}
      },
      "source": [
        "# detect \"N\" in 'plot_code' and write to new column 'plot_loc'\n",
        "df <- df %>%\n",
        "  mutate(plot_loc = ifelse(str_detect(plot_code, \"N\"), \"N\", NA))"
      ],
      "execution_count": 0,
      "outputs": []
    },
    {
      "cell_type": "code",
      "metadata": {
        "id": "_QbPNISMm1Cu",
        "colab_type": "code",
        "colab": {}
      },
      "source": [
        "# strip \"N\" from 'plot_code' if present\n",
        "df$plot_code <- str_remove(df$plot_code, \"N\")"
      ],
      "execution_count": 0,
      "outputs": []
    },
    {
      "cell_type": "code",
      "metadata": {
        "id": "yihV0YgNVpEt",
        "colab_type": "code",
        "colab": {}
      },
      "source": [
        "# reorder columns\n",
        "df <- df[,c(1,6,2,3,4,5)]"
      ],
      "execution_count": 0,
      "outputs": []
    },
    {
      "cell_type": "markdown",
      "metadata": {
        "id": "0FWBUqUqWSNm",
        "colab_type": "text"
      },
      "source": [
        "### plot_rep"
      ]
    },
    {
      "cell_type": "code",
      "metadata": {
        "id": "qNVlve_WWY9a",
        "colab_type": "code",
        "colab": {}
      },
      "source": [
        "# detect \"A\", \"B\", \"C\" characters in plot_code and if present write to 'plot_rep'\n",
        "df <- df %>%\n",
        "  mutate(plot_rep = case_when(str_detect(plot_code, \"A\")~\"A\",\n",
        "                              str_detect(plot_code, \"B\")~\"B\",\n",
        "                              str_detect(plot_code, \"C\")~\"C\"))"
      ],
      "execution_count": 0,
      "outputs": []
    },
    {
      "cell_type": "code",
      "metadata": {
        "id": "Hqv6L7jaYPeQ",
        "colab_type": "code",
        "colab": {}
      },
      "source": [
        "# strip \"A\", \"B\", \"C\" from plot_code\n",
        "df$plot_code <- str_remove(df$plot_code, \"[ABC]\")"
      ],
      "execution_count": 0,
      "outputs": []
    },
    {
      "cell_type": "code",
      "metadata": {
        "id": "vRxYtG1eYPbf",
        "colab_type": "code",
        "colab": {}
      },
      "source": [
        "# reorder columns\n",
        "df <- df[,c(1,2,7,3,4,5,6)]"
      ],
      "execution_count": 0,
      "outputs": []
    },
    {
      "cell_type": "markdown",
      "metadata": {
        "id": "R8DYL00Fb0Lu",
        "colab_type": "text"
      },
      "source": [
        "### plot_num"
      ]
    },
    {
      "cell_type": "code",
      "metadata": {
        "id": "GB_RxW35YO39",
        "colab_type": "code",
        "colab": {}
      },
      "source": [
        "# use digital values from 'plot_code' and to populate 'plot_num'\n",
        "df <- df %>%\n",
        "  mutate(plot_num = str_extract(plot_code, \"[:digit:].*\"))"
      ],
      "execution_count": 0,
      "outputs": []
    },
    {
      "cell_type": "code",
      "metadata": {
        "id": "pQUe2ZVzYO1J",
        "colab_type": "code",
        "colab": {}
      },
      "source": [
        "# reorder columns\n",
        "df <- df[,c(1,2,3,8,4,5,6,7)]"
      ],
      "execution_count": 0,
      "outputs": []
    },
    {
      "cell_type": "markdown",
      "metadata": {
        "id": "ULsKFbhjNZ3p",
        "colab_type": "text"
      },
      "source": [
        "### date"
      ]
    },
    {
      "cell_type": "code",
      "metadata": {
        "id": "qJREtrbNNBro",
        "colab_type": "code",
        "colab": {}
      },
      "source": [
        "# convert to date\n",
        "df$date <- as.Date(df$date)"
      ],
      "execution_count": 0,
      "outputs": []
    },
    {
      "cell_type": "markdown",
      "metadata": {
        "id": "uRiMTPiIpiFj",
        "colab_type": "text"
      },
      "source": [
        "### subplot"
      ]
    },
    {
      "cell_type": "code",
      "metadata": {
        "id": "Dr40XXIQpje1",
        "colab_type": "code",
        "colab": {}
      },
      "source": [
        "# convert to integer\n",
        "df$subplot <- as.integer(df$subplot)"
      ],
      "execution_count": 0,
      "outputs": []
    },
    {
      "cell_type": "markdown",
      "metadata": {
        "id": "H_G-7PpcpTP8",
        "colab_type": "text"
      },
      "source": [
        "### species_key"
      ]
    },
    {
      "cell_type": "markdown",
      "metadata": {
        "id": "4wgbJusKpZWd",
        "colab_type": "text"
      },
      "source": [
        "This will be imported from the plant species metadata table, and we can use it to join and correct species codes in the future\n"
      ]
    },
    {
      "cell_type": "code",
      "metadata": {
        "id": "aWBrK2g8pVqh",
        "colab_type": "code",
        "colab": {}
      },
      "source": [
        ""
      ],
      "execution_count": 0,
      "outputs": []
    },
    {
      "cell_type": "markdown",
      "metadata": {
        "id": "d7RW6V3ZWGmg",
        "colab_type": "text"
      },
      "source": [
        "### species_code"
      ]
    },
    {
      "cell_type": "code",
      "metadata": {
        "id": "1CmtWg-EWIDc",
        "colab_type": "code",
        "colab": {}
      },
      "source": [
        "# coerce to string\n",
        "df$species_code <- as.character(df$species_code)"
      ],
      "execution_count": 0,
      "outputs": []
    },
    {
      "cell_type": "markdown",
      "metadata": {
        "id": "S5UZM86eOSi-",
        "colab_type": "text"
      },
      "source": [
        "## Identify Double Counting"
      ]
    },
    {
      "cell_type": "code",
      "metadata": {
        "id": "r8QoSvBgUfnC",
        "colab_type": "code",
        "outputId": "2dbe2d93-4aa3-4bd5-8218-ef2f62977652",
        "colab": {
          "base_uri": "https://localhost:8080/",
          "height": 1000
        }
      },
      "source": [
        "# Find instances where a plant species is counted twice in the same year-plot-subplot combination\n",
        "df %>%\n",
        "  group_by(year = as.numeric(substring(date,0,4)), plot_code, subplot, species_code) %>%\n",
        "  summarize(counted = n()) %>%\n",
        "  arrange(year, plot_code, subplot, desc(counted)) %>%\n",
        "  filter(counted > 1)"
      ],
      "execution_count": 0,
      "outputs": [
        {
          "output_type": "display_data",
          "data": {
            "text/plain": [
              "   year plot_code subplot species_code counted\n",
              "1  2017 YVP 144    2      VERVER       2      \n",
              "2  2017 YVP 180    7      FRIPUD       2      \n",
              "3  2017 YVP 203    4      COLLIN       2      \n",
              "4  2017 YVP 355   10      PSESPI       2      \n",
              "5  2017 YVP 44     9      ORTTEN       2      \n",
              "6  2017 YVP N111   2      DRAVER       2      \n",
              "7  2017 YVP NB294  8      MICGRA       2      \n",
              "8  2018 YVP 112    9      ALYALY       2      \n",
              "9  2018 YVP 12     4      HOLUMB       2      \n",
              "10 2018 YVP 144   10      ACHMIL       2      \n",
              "11 2018 YVP 184    4      HOLUMB       2      \n",
              "12 2018 YVP 185    1      DRAVER       2      \n",
              "13 2018 YVP 185    1      FRIPUD       2      \n",
              "14 2018 YVP 185    1      MYOMIC       2      \n",
              "15 2018 YVP 185    3      HOLUMB       2      \n",
              "16 2018 YVP 185    4      ARANUT       2      \n",
              "17 2018 YVP 185    4      EPIBRA       2      \n",
              "18 2018 YVP 20     2      VERVER       2      \n",
              "19 2018 YVP 203    4      COLLIN       2      \n",
              "20 2018 YVP 209    5      ALYALY       2      \n",
              "21 2018 YVP 213    4      ARIPUR       2      \n",
              "22 2018 YVP 22     2      FESCAM       2      \n",
              "23 2018 YVP 355    7      DODPUL       2      \n",
              "24 2018 YVP 412    9      MICGRA       2      \n",
              "25 2018 YVP 56     1      HOLUMB       2      \n",
              "26 2018 YVP 62     3      KOEMAC       2      \n",
              "27 2018 YVP 62     4      HOLUMB       2      \n",
              "28 2018 YVP 62     8      ORTTEN       2      \n",
              "29 2018 YVP N110   5      MYOMIC       2      \n",
              "30 2018 YVP N278   2      ARESER       2      \n",
              "31 2018 YVP N501  10      ARECON       2      \n",
              "32 2018 YVP N522   1      LITRUD       2      \n",
              "33 2018 YVP N558   7      COLLIN       2      \n",
              "34 2018 YVP NB294  8      MICGRA       2      \n",
              "35 2019 YVP 113    4      DRAVER       2      \n",
              "36 2019 YVP 180    8      PLAPAT       2      \n",
              "37 2019 YVP 209    5      ASTINF       2      \n",
              "38 2019 YVP 468    2      UNKN SP      2      \n",
              "39 2019 YVP N111   3      EPIBRA       2      \n",
              "40 2019 YVP N158   3      EPIBRA       2      \n",
              "41 2019 YVP N158   4      EPIBRA       2      \n",
              "42 2019 YVP N348   5      CIRARV       2      \n",
              "43 2019 YVP N386   1      EPIBRA       2      \n",
              "44 2019 YVP N501   1      FRIPUD       2      \n",
              "45 2019 YVP NC294  4      MYOMIC       2      \n",
              "46 2019 YVP NC294  6      ERIPUM       2      "
            ],
            "text/latex": "A grouped\\_df: 46 × 5\n\\begin{tabular}{lllll}\n year & plot\\_code & subplot & species\\_code & counted\\\\\n <dbl> & <chr> & <int> & <chr> & <int>\\\\\n\\hline\n\t 2017 & YVP 144   &  2 & VERVER  & 2\\\\\n\t 2017 & YVP 180   &  7 & FRIPUD  & 2\\\\\n\t 2017 & YVP 203   &  4 & COLLIN  & 2\\\\\n\t 2017 & YVP 355   & 10 & PSESPI  & 2\\\\\n\t 2017 & YVP 44    &  9 & ORTTEN  & 2\\\\\n\t 2017 & YVP N111  &  2 & DRAVER  & 2\\\\\n\t 2017 & YVP NB294 &  8 & MICGRA  & 2\\\\\n\t 2018 & YVP 112   &  9 & ALYALY  & 2\\\\\n\t 2018 & YVP 12    &  4 & HOLUMB  & 2\\\\\n\t 2018 & YVP 144   & 10 & ACHMIL  & 2\\\\\n\t 2018 & YVP 184   &  4 & HOLUMB  & 2\\\\\n\t 2018 & YVP 185   &  1 & DRAVER  & 2\\\\\n\t 2018 & YVP 185   &  1 & FRIPUD  & 2\\\\\n\t 2018 & YVP 185   &  1 & MYOMIC  & 2\\\\\n\t 2018 & YVP 185   &  3 & HOLUMB  & 2\\\\\n\t 2018 & YVP 185   &  4 & ARANUT  & 2\\\\\n\t 2018 & YVP 185   &  4 & EPIBRA  & 2\\\\\n\t 2018 & YVP 20    &  2 & VERVER  & 2\\\\\n\t 2018 & YVP 203   &  4 & COLLIN  & 2\\\\\n\t 2018 & YVP 209   &  5 & ALYALY  & 2\\\\\n\t 2018 & YVP 213   &  4 & ARIPUR  & 2\\\\\n\t 2018 & YVP 22    &  2 & FESCAM  & 2\\\\\n\t 2018 & YVP 355   &  7 & DODPUL  & 2\\\\\n\t 2018 & YVP 412   &  9 & MICGRA  & 2\\\\\n\t 2018 & YVP 56    &  1 & HOLUMB  & 2\\\\\n\t 2018 & YVP 62    &  3 & KOEMAC  & 2\\\\\n\t 2018 & YVP 62    &  4 & HOLUMB  & 2\\\\\n\t 2018 & YVP 62    &  8 & ORTTEN  & 2\\\\\n\t 2018 & YVP N110  &  5 & MYOMIC  & 2\\\\\n\t 2018 & YVP N278  &  2 & ARESER  & 2\\\\\n\t 2018 & YVP N501  & 10 & ARECON  & 2\\\\\n\t 2018 & YVP N522  &  1 & LITRUD  & 2\\\\\n\t 2018 & YVP N558  &  7 & COLLIN  & 2\\\\\n\t 2018 & YVP NB294 &  8 & MICGRA  & 2\\\\\n\t 2019 & YVP 113   &  4 & DRAVER  & 2\\\\\n\t 2019 & YVP 180   &  8 & PLAPAT  & 2\\\\\n\t 2019 & YVP 209   &  5 & ASTINF  & 2\\\\\n\t 2019 & YVP 468   &  2 & UNKN SP & 2\\\\\n\t 2019 & YVP N111  &  3 & EPIBRA  & 2\\\\\n\t 2019 & YVP N158  &  3 & EPIBRA  & 2\\\\\n\t 2019 & YVP N158  &  4 & EPIBRA  & 2\\\\\n\t 2019 & YVP N348  &  5 & CIRARV  & 2\\\\\n\t 2019 & YVP N386  &  1 & EPIBRA  & 2\\\\\n\t 2019 & YVP N501  &  1 & FRIPUD  & 2\\\\\n\t 2019 & YVP NC294 &  4 & MYOMIC  & 2\\\\\n\t 2019 & YVP NC294 &  6 & ERIPUM  & 2\\\\\n\\end{tabular}\n",
            "text/markdown": "\nA grouped_df: 46 × 5\n\n| year &lt;dbl&gt; | plot_code &lt;chr&gt; | subplot &lt;int&gt; | species_code &lt;chr&gt; | counted &lt;int&gt; |\n|---|---|---|---|---|\n| 2017 | YVP 144   |  2 | VERVER  | 2 |\n| 2017 | YVP 180   |  7 | FRIPUD  | 2 |\n| 2017 | YVP 203   |  4 | COLLIN  | 2 |\n| 2017 | YVP 355   | 10 | PSESPI  | 2 |\n| 2017 | YVP 44    |  9 | ORTTEN  | 2 |\n| 2017 | YVP N111  |  2 | DRAVER  | 2 |\n| 2017 | YVP NB294 |  8 | MICGRA  | 2 |\n| 2018 | YVP 112   |  9 | ALYALY  | 2 |\n| 2018 | YVP 12    |  4 | HOLUMB  | 2 |\n| 2018 | YVP 144   | 10 | ACHMIL  | 2 |\n| 2018 | YVP 184   |  4 | HOLUMB  | 2 |\n| 2018 | YVP 185   |  1 | DRAVER  | 2 |\n| 2018 | YVP 185   |  1 | FRIPUD  | 2 |\n| 2018 | YVP 185   |  1 | MYOMIC  | 2 |\n| 2018 | YVP 185   |  3 | HOLUMB  | 2 |\n| 2018 | YVP 185   |  4 | ARANUT  | 2 |\n| 2018 | YVP 185   |  4 | EPIBRA  | 2 |\n| 2018 | YVP 20    |  2 | VERVER  | 2 |\n| 2018 | YVP 203   |  4 | COLLIN  | 2 |\n| 2018 | YVP 209   |  5 | ALYALY  | 2 |\n| 2018 | YVP 213   |  4 | ARIPUR  | 2 |\n| 2018 | YVP 22    |  2 | FESCAM  | 2 |\n| 2018 | YVP 355   |  7 | DODPUL  | 2 |\n| 2018 | YVP 412   |  9 | MICGRA  | 2 |\n| 2018 | YVP 56    |  1 | HOLUMB  | 2 |\n| 2018 | YVP 62    |  3 | KOEMAC  | 2 |\n| 2018 | YVP 62    |  4 | HOLUMB  | 2 |\n| 2018 | YVP 62    |  8 | ORTTEN  | 2 |\n| 2018 | YVP N110  |  5 | MYOMIC  | 2 |\n| 2018 | YVP N278  |  2 | ARESER  | 2 |\n| 2018 | YVP N501  | 10 | ARECON  | 2 |\n| 2018 | YVP N522  |  1 | LITRUD  | 2 |\n| 2018 | YVP N558  |  7 | COLLIN  | 2 |\n| 2018 | YVP NB294 |  8 | MICGRA  | 2 |\n| 2019 | YVP 113   |  4 | DRAVER  | 2 |\n| 2019 | YVP 180   |  8 | PLAPAT  | 2 |\n| 2019 | YVP 209   |  5 | ASTINF  | 2 |\n| 2019 | YVP 468   |  2 | UNKN SP | 2 |\n| 2019 | YVP N111  |  3 | EPIBRA  | 2 |\n| 2019 | YVP N158  |  3 | EPIBRA  | 2 |\n| 2019 | YVP N158  |  4 | EPIBRA  | 2 |\n| 2019 | YVP N348  |  5 | CIRARV  | 2 |\n| 2019 | YVP N386  |  1 | EPIBRA  | 2 |\n| 2019 | YVP N501  |  1 | FRIPUD  | 2 |\n| 2019 | YVP NC294 |  4 | MYOMIC  | 2 |\n| 2019 | YVP NC294 |  6 | ERIPUM  | 2 |\n\n",
            "text/html": [
              "<table>\n",
              "<caption>A grouped_df: 46 × 5</caption>\n",
              "<thead>\n",
              "\t<tr><th scope=col>year</th><th scope=col>plot_code</th><th scope=col>subplot</th><th scope=col>species_code</th><th scope=col>counted</th></tr>\n",
              "\t<tr><th scope=col>&lt;dbl&gt;</th><th scope=col>&lt;chr&gt;</th><th scope=col>&lt;int&gt;</th><th scope=col>&lt;chr&gt;</th><th scope=col>&lt;int&gt;</th></tr>\n",
              "</thead>\n",
              "<tbody>\n",
              "\t<tr><td>2017</td><td>YVP 144  </td><td> 2</td><td>VERVER </td><td>2</td></tr>\n",
              "\t<tr><td>2017</td><td>YVP 180  </td><td> 7</td><td>FRIPUD </td><td>2</td></tr>\n",
              "\t<tr><td>2017</td><td>YVP 203  </td><td> 4</td><td>COLLIN </td><td>2</td></tr>\n",
              "\t<tr><td>2017</td><td>YVP 355  </td><td>10</td><td>PSESPI </td><td>2</td></tr>\n",
              "\t<tr><td>2017</td><td>YVP 44   </td><td> 9</td><td>ORTTEN </td><td>2</td></tr>\n",
              "\t<tr><td>2017</td><td>YVP N111 </td><td> 2</td><td>DRAVER </td><td>2</td></tr>\n",
              "\t<tr><td>2017</td><td>YVP NB294</td><td> 8</td><td>MICGRA </td><td>2</td></tr>\n",
              "\t<tr><td>2018</td><td>YVP 112  </td><td> 9</td><td>ALYALY </td><td>2</td></tr>\n",
              "\t<tr><td>2018</td><td>YVP 12   </td><td> 4</td><td>HOLUMB </td><td>2</td></tr>\n",
              "\t<tr><td>2018</td><td>YVP 144  </td><td>10</td><td>ACHMIL </td><td>2</td></tr>\n",
              "\t<tr><td>2018</td><td>YVP 184  </td><td> 4</td><td>HOLUMB </td><td>2</td></tr>\n",
              "\t<tr><td>2018</td><td>YVP 185  </td><td> 1</td><td>DRAVER </td><td>2</td></tr>\n",
              "\t<tr><td>2018</td><td>YVP 185  </td><td> 1</td><td>FRIPUD </td><td>2</td></tr>\n",
              "\t<tr><td>2018</td><td>YVP 185  </td><td> 1</td><td>MYOMIC </td><td>2</td></tr>\n",
              "\t<tr><td>2018</td><td>YVP 185  </td><td> 3</td><td>HOLUMB </td><td>2</td></tr>\n",
              "\t<tr><td>2018</td><td>YVP 185  </td><td> 4</td><td>ARANUT </td><td>2</td></tr>\n",
              "\t<tr><td>2018</td><td>YVP 185  </td><td> 4</td><td>EPIBRA </td><td>2</td></tr>\n",
              "\t<tr><td>2018</td><td>YVP 20   </td><td> 2</td><td>VERVER </td><td>2</td></tr>\n",
              "\t<tr><td>2018</td><td>YVP 203  </td><td> 4</td><td>COLLIN </td><td>2</td></tr>\n",
              "\t<tr><td>2018</td><td>YVP 209  </td><td> 5</td><td>ALYALY </td><td>2</td></tr>\n",
              "\t<tr><td>2018</td><td>YVP 213  </td><td> 4</td><td>ARIPUR </td><td>2</td></tr>\n",
              "\t<tr><td>2018</td><td>YVP 22   </td><td> 2</td><td>FESCAM </td><td>2</td></tr>\n",
              "\t<tr><td>2018</td><td>YVP 355  </td><td> 7</td><td>DODPUL </td><td>2</td></tr>\n",
              "\t<tr><td>2018</td><td>YVP 412  </td><td> 9</td><td>MICGRA </td><td>2</td></tr>\n",
              "\t<tr><td>2018</td><td>YVP 56   </td><td> 1</td><td>HOLUMB </td><td>2</td></tr>\n",
              "\t<tr><td>2018</td><td>YVP 62   </td><td> 3</td><td>KOEMAC </td><td>2</td></tr>\n",
              "\t<tr><td>2018</td><td>YVP 62   </td><td> 4</td><td>HOLUMB </td><td>2</td></tr>\n",
              "\t<tr><td>2018</td><td>YVP 62   </td><td> 8</td><td>ORTTEN </td><td>2</td></tr>\n",
              "\t<tr><td>2018</td><td>YVP N110 </td><td> 5</td><td>MYOMIC </td><td>2</td></tr>\n",
              "\t<tr><td>2018</td><td>YVP N278 </td><td> 2</td><td>ARESER </td><td>2</td></tr>\n",
              "\t<tr><td>2018</td><td>YVP N501 </td><td>10</td><td>ARECON </td><td>2</td></tr>\n",
              "\t<tr><td>2018</td><td>YVP N522 </td><td> 1</td><td>LITRUD </td><td>2</td></tr>\n",
              "\t<tr><td>2018</td><td>YVP N558 </td><td> 7</td><td>COLLIN </td><td>2</td></tr>\n",
              "\t<tr><td>2018</td><td>YVP NB294</td><td> 8</td><td>MICGRA </td><td>2</td></tr>\n",
              "\t<tr><td>2019</td><td>YVP 113  </td><td> 4</td><td>DRAVER </td><td>2</td></tr>\n",
              "\t<tr><td>2019</td><td>YVP 180  </td><td> 8</td><td>PLAPAT </td><td>2</td></tr>\n",
              "\t<tr><td>2019</td><td>YVP 209  </td><td> 5</td><td>ASTINF </td><td>2</td></tr>\n",
              "\t<tr><td>2019</td><td>YVP 468  </td><td> 2</td><td>UNKN SP</td><td>2</td></tr>\n",
              "\t<tr><td>2019</td><td>YVP N111 </td><td> 3</td><td>EPIBRA </td><td>2</td></tr>\n",
              "\t<tr><td>2019</td><td>YVP N158 </td><td> 3</td><td>EPIBRA </td><td>2</td></tr>\n",
              "\t<tr><td>2019</td><td>YVP N158 </td><td> 4</td><td>EPIBRA </td><td>2</td></tr>\n",
              "\t<tr><td>2019</td><td>YVP N348 </td><td> 5</td><td>CIRARV </td><td>2</td></tr>\n",
              "\t<tr><td>2019</td><td>YVP N386 </td><td> 1</td><td>EPIBRA </td><td>2</td></tr>\n",
              "\t<tr><td>2019</td><td>YVP N501 </td><td> 1</td><td>FRIPUD </td><td>2</td></tr>\n",
              "\t<tr><td>2019</td><td>YVP NC294</td><td> 4</td><td>MYOMIC </td><td>2</td></tr>\n",
              "\t<tr><td>2019</td><td>YVP NC294</td><td> 6</td><td>ERIPUM </td><td>2</td></tr>\n",
              "</tbody>\n",
              "</table>\n"
            ]
          },
          "metadata": {
            "tags": []
          }
        }
      ]
    },
    {
      "cell_type": "code",
      "metadata": {
        "id": "Qyk3NYg-XdWO",
        "colab_type": "code",
        "outputId": "e11c6b33-5adf-4720-ea10-9b91bffc9604",
        "colab": {
          "base_uri": "https://localhost:8080/",
          "height": 120
        }
      },
      "source": [
        "# example where cover_pct value is different\n",
        "# 2017\tYVP 144\t2\tVERVER\n",
        "df %>%\n",
        "  filter(as.numeric(substring(date,0,4)) == 2017,\n",
        "          plot_code == 'YVP 144',\n",
        "          subplot == '2',\n",
        "          species_code == 'VERVER')"
      ],
      "execution_count": 0,
      "outputs": [
        {
          "output_type": "display_data",
          "data": {
            "text/plain": [
              "  plot_code date       subplot species_code cover_pct\n",
              "1 YVP 144   2017-05-30 2       VERVER       3        \n",
              "2 YVP 144   2017-05-30 2       VERVER       4        "
            ],
            "text/latex": "A data.frame: 2 × 5\n\\begin{tabular}{lllll}\n plot\\_code & date & subplot & species\\_code & cover\\_pct\\\\\n <chr> & <date> & <int> & <chr> & <int>\\\\\n\\hline\n\t YVP 144 & 2017-05-30 & 2 & VERVER & 3\\\\\n\t YVP 144 & 2017-05-30 & 2 & VERVER & 4\\\\\n\\end{tabular}\n",
            "text/markdown": "\nA data.frame: 2 × 5\n\n| plot_code &lt;chr&gt; | date &lt;date&gt; | subplot &lt;int&gt; | species_code &lt;chr&gt; | cover_pct &lt;int&gt; |\n|---|---|---|---|---|\n| YVP 144 | 2017-05-30 | 2 | VERVER | 3 |\n| YVP 144 | 2017-05-30 | 2 | VERVER | 4 |\n\n",
            "text/html": [
              "<table>\n",
              "<caption>A data.frame: 2 × 5</caption>\n",
              "<thead>\n",
              "\t<tr><th scope=col>plot_code</th><th scope=col>date</th><th scope=col>subplot</th><th scope=col>species_code</th><th scope=col>cover_pct</th></tr>\n",
              "\t<tr><th scope=col>&lt;chr&gt;</th><th scope=col>&lt;date&gt;</th><th scope=col>&lt;int&gt;</th><th scope=col>&lt;chr&gt;</th><th scope=col>&lt;int&gt;</th></tr>\n",
              "</thead>\n",
              "<tbody>\n",
              "\t<tr><td>YVP 144</td><td>2017-05-30</td><td>2</td><td>VERVER</td><td>3</td></tr>\n",
              "\t<tr><td>YVP 144</td><td>2017-05-30</td><td>2</td><td>VERVER</td><td>4</td></tr>\n",
              "</tbody>\n",
              "</table>\n"
            ]
          },
          "metadata": {
            "tags": []
          }
        }
      ]
    },
    {
      "cell_type": "code",
      "metadata": {
        "id": "-9p2VAQkbPf_",
        "colab_type": "code",
        "outputId": "42bbc612-9066-40ab-de9d-9e6fdf4db267",
        "colab": {
          "base_uri": "https://localhost:8080/",
          "height": 120
        }
      },
      "source": [
        "# example where cover_pct value is the same\n",
        "# 2017\tYVP 180\t7\tFRIPUD\n",
        "df %>%\n",
        "  filter(as.numeric(substring(date,0,4)) == 2017,\n",
        "          plot_code == 'YVP 180',\n",
        "          subplot == '7',\n",
        "          species_code == 'FRIPUD')"
      ],
      "execution_count": 0,
      "outputs": [
        {
          "output_type": "display_data",
          "data": {
            "text/plain": [
              "  plot_code date       subplot species_code cover_pct\n",
              "1 YVP 180   2017-05-31 7       FRIPUD       1        \n",
              "2 YVP 180   2017-05-31 7       FRIPUD       1        "
            ],
            "text/latex": "A data.frame: 2 × 5\n\\begin{tabular}{lllll}\n plot\\_code & date & subplot & species\\_code & cover\\_pct\\\\\n <chr> & <date> & <int> & <chr> & <int>\\\\\n\\hline\n\t YVP 180 & 2017-05-31 & 7 & FRIPUD & 1\\\\\n\t YVP 180 & 2017-05-31 & 7 & FRIPUD & 1\\\\\n\\end{tabular}\n",
            "text/markdown": "\nA data.frame: 2 × 5\n\n| plot_code &lt;chr&gt; | date &lt;date&gt; | subplot &lt;int&gt; | species_code &lt;chr&gt; | cover_pct &lt;int&gt; |\n|---|---|---|---|---|\n| YVP 180 | 2017-05-31 | 7 | FRIPUD | 1 |\n| YVP 180 | 2017-05-31 | 7 | FRIPUD | 1 |\n\n",
            "text/html": [
              "<table>\n",
              "<caption>A data.frame: 2 × 5</caption>\n",
              "<thead>\n",
              "\t<tr><th scope=col>plot_code</th><th scope=col>date</th><th scope=col>subplot</th><th scope=col>species_code</th><th scope=col>cover_pct</th></tr>\n",
              "\t<tr><th scope=col>&lt;chr&gt;</th><th scope=col>&lt;date&gt;</th><th scope=col>&lt;int&gt;</th><th scope=col>&lt;chr&gt;</th><th scope=col>&lt;int&gt;</th></tr>\n",
              "</thead>\n",
              "<tbody>\n",
              "\t<tr><td>YVP 180</td><td>2017-05-31</td><td>7</td><td>FRIPUD</td><td>1</td></tr>\n",
              "\t<tr><td>YVP 180</td><td>2017-05-31</td><td>7</td><td>FRIPUD</td><td>1</td></tr>\n",
              "</tbody>\n",
              "</table>\n"
            ]
          },
          "metadata": {
            "tags": []
          }
        }
      ]
    },
    {
      "cell_type": "code",
      "metadata": {
        "id": "K4QFTaECbv1K",
        "colab_type": "code",
        "outputId": "801787dd-f4ff-4ee0-d32c-598cd5de61de",
        "colab": {
          "base_uri": "https://localhost:8080/",
          "height": 120
        }
      },
      "source": [
        "# example where cover_pct value is different\n",
        "# 2019\tYVP NC294\t6\tERIPUM\n",
        "df %>%\n",
        "  filter(as.numeric(substring(date,0,4)) == 2019,\n",
        "          plot_code == 'YVP NC294',\n",
        "          subplot == '6',\n",
        "          species_code == 'ERIPUM')"
      ],
      "execution_count": 0,
      "outputs": [
        {
          "output_type": "display_data",
          "data": {
            "text/plain": [
              "  plot_code date       subplot species_code cover_pct\n",
              "1 YVP NC294 2019-05-09 6       ERIPUM       1        \n",
              "2 YVP NC294 2019-05-09 6       ERIPUM       2        "
            ],
            "text/latex": "A data.frame: 2 × 5\n\\begin{tabular}{lllll}\n plot\\_code & date & subplot & species\\_code & cover\\_pct\\\\\n <chr> & <date> & <int> & <chr> & <int>\\\\\n\\hline\n\t YVP NC294 & 2019-05-09 & 6 & ERIPUM & 1\\\\\n\t YVP NC294 & 2019-05-09 & 6 & ERIPUM & 2\\\\\n\\end{tabular}\n",
            "text/markdown": "\nA data.frame: 2 × 5\n\n| plot_code &lt;chr&gt; | date &lt;date&gt; | subplot &lt;int&gt; | species_code &lt;chr&gt; | cover_pct &lt;int&gt; |\n|---|---|---|---|---|\n| YVP NC294 | 2019-05-09 | 6 | ERIPUM | 1 |\n| YVP NC294 | 2019-05-09 | 6 | ERIPUM | 2 |\n\n",
            "text/html": [
              "<table>\n",
              "<caption>A data.frame: 2 × 5</caption>\n",
              "<thead>\n",
              "\t<tr><th scope=col>plot_code</th><th scope=col>date</th><th scope=col>subplot</th><th scope=col>species_code</th><th scope=col>cover_pct</th></tr>\n",
              "\t<tr><th scope=col>&lt;chr&gt;</th><th scope=col>&lt;date&gt;</th><th scope=col>&lt;int&gt;</th><th scope=col>&lt;chr&gt;</th><th scope=col>&lt;int&gt;</th></tr>\n",
              "</thead>\n",
              "<tbody>\n",
              "\t<tr><td>YVP NC294</td><td>2019-05-09</td><td>6</td><td>ERIPUM</td><td>1</td></tr>\n",
              "\t<tr><td>YVP NC294</td><td>2019-05-09</td><td>6</td><td>ERIPUM</td><td>2</td></tr>\n",
              "</tbody>\n",
              "</table>\n"
            ]
          },
          "metadata": {
            "tags": []
          }
        }
      ]
    },
    {
      "cell_type": "markdown",
      "metadata": {
        "id": "EOdlWnwWdhiN",
        "colab_type": "text"
      },
      "source": [
        "## Address Double Counting"
      ]
    },
    {
      "cell_type": "code",
      "metadata": {
        "id": "AirX3eGwdkjT",
        "colab_type": "code",
        "colab": {}
      },
      "source": [
        "# ?"
      ],
      "execution_count": 0,
      "outputs": []
    }
  ]
}