{
  "nbformat": 4,
  "nbformat_minor": 0,
  "metadata": {
    "colab": {
      "name": "yvp_species_richness-WRANGLE.ipynb",
      "provenance": [],
      "collapsed_sections": [],
      "toc_visible": true,
      "include_colab_link": true
    },
    "language_info": {
      "codemirror_mode": "r",
      "file_extension": ".r",
      "mimetype": "text/x-r-source",
      "name": "R",
      "pygments_lexer": "r",
      "version": "3.3.1"
    },
    "kernelspec": {
      "display_name": "R",
      "language": "R",
      "name": "ir"
    }
  },
  "cells": [
    {
      "cell_type": "markdown",
      "metadata": {
        "id": "view-in-github",
        "colab_type": "text"
      },
      "source": [
        "<a href=\"https://colab.research.google.com/github/samsoe/mpg_notebooks/blob/master/yvp_species_richness_WRANGLE.ipynb\" target=\"_parent\"><img src=\"https://colab.research.google.com/assets/colab-badge.svg\" alt=\"Open In Colab\"/></a>"
      ]
    },
    {
      "cell_type": "markdown",
      "metadata": {
        "id": "YnczPP3cJIzL",
        "colab_type": "text"
      },
      "source": [
        "# Documentation"
      ]
    },
    {
      "cell_type": "markdown",
      "metadata": {
        "id": "nmfMradDJLix",
        "colab_type": "text"
      },
      "source": [
        "[Readme fixed plot vegetation data](https://docs.google.com/document/d/16-Aq8u9Rudd78fSzfjvpCXyQgE-BstC-d2PjYfmLtcw/edit?usp=sharing)"
      ]
    },
    {
      "cell_type": "markdown",
      "metadata": {
        "id": "BhOI1uU2Koum",
        "colab_type": "text"
      },
      "source": [
        "# Security"
      ]
    },
    {
      "cell_type": "markdown",
      "metadata": {
        "id": "hgB3r3wvA9Pn",
        "colab_type": "text"
      },
      "source": [
        "* The user must load a `json` file containing the BigQuery API key into the local directory `/content/...`\n",
        "* The user must have a Google Maps API key to enable mapping. \n",
        "   * CAUTION make sure the key is deleted from the current instance of the notebook before sharing"
      ]
    },
    {
      "cell_type": "markdown",
      "metadata": {
        "id": "MnG0ah7OA59c",
        "colab_type": "text"
      },
      "source": [
        "# Tools"
      ]
    },
    {
      "cell_type": "code",
      "metadata": {
        "id": "Y6y4EWeYpVBJ",
        "colab_type": "code",
        "colab": {
          "base_uri": "https://localhost:8080/",
          "height": 204
        },
        "outputId": "ecb31be5-bbc1-45f0-efb3-0931de4783f3"
      },
      "source": [
        "library(tidyverse)"
      ],
      "execution_count": 1,
      "outputs": [
        {
          "output_type": "stream",
          "text": [
            "── \u001b[1mAttaching packages\u001b[22m ─────────────────────────────────────── tidyverse 1.3.0 ──\n",
            "\n",
            "\u001b[32m✔\u001b[39m \u001b[34mggplot2\u001b[39m 3.3.2     \u001b[32m✔\u001b[39m \u001b[34mpurrr  \u001b[39m 0.3.4\n",
            "\u001b[32m✔\u001b[39m \u001b[34mtibble \u001b[39m 3.0.2     \u001b[32m✔\u001b[39m \u001b[34mdplyr  \u001b[39m 1.0.0\n",
            "\u001b[32m✔\u001b[39m \u001b[34mtidyr  \u001b[39m 1.1.0     \u001b[32m✔\u001b[39m \u001b[34mstringr\u001b[39m 1.4.0\n",
            "\u001b[32m✔\u001b[39m \u001b[34mreadr  \u001b[39m 1.3.1     \u001b[32m✔\u001b[39m \u001b[34mforcats\u001b[39m 0.5.0\n",
            "\n",
            "── \u001b[1mConflicts\u001b[22m ────────────────────────────────────────── tidyverse_conflicts() ──\n",
            "\u001b[31m✖\u001b[39m \u001b[34mdplyr\u001b[39m::\u001b[32mfilter()\u001b[39m masks \u001b[34mstats\u001b[39m::filter()\n",
            "\u001b[31m✖\u001b[39m \u001b[34mdplyr\u001b[39m::\u001b[32mlag()\u001b[39m    masks \u001b[34mstats\u001b[39m::lag()\n",
            "\n"
          ],
          "name": "stderr"
        }
      ]
    },
    {
      "cell_type": "markdown",
      "metadata": {
        "id": "eUw-It3JBBrQ",
        "colab_type": "text"
      },
      "source": [
        "* Remember that the file containing authorization keys for Big Query must be loaded into the virutual envrionment manually."
      ]
    },
    {
      "cell_type": "code",
      "metadata": {
        "id": "VxYkYhQTKouo",
        "colab_type": "code",
        "colab": {
          "base_uri": "https://localhost:8080/",
          "height": 119
        },
        "outputId": "980ad79e-0c70-44e4-ca04-4d35f4c020a7"
      },
      "source": [
        "install.packages(\"bigrquery\")\n",
        "library(bigrquery)"
      ],
      "execution_count": 2,
      "outputs": [
        {
          "output_type": "stream",
          "text": [
            "Installing package into ‘/usr/local/lib/R/site-library’\n",
            "(as ‘lib’ is unspecified)\n",
            "\n",
            "also installing the dependencies ‘bit’, ‘bit64’, ‘gargle’, ‘rapidjsonr’\n",
            "\n",
            "\n"
          ],
          "name": "stderr"
        }
      ]
    },
    {
      "cell_type": "markdown",
      "metadata": {
        "id": "H1I9aQ_SBH3n",
        "colab_type": "text"
      },
      "source": [
        "# Source"
      ]
    },
    {
      "cell_type": "markdown",
      "metadata": {
        "id": "Ia2nCN3_nU4A",
        "colab_type": "text"
      },
      "source": [
        "In this view of the yvp data, species from the cover-based and additional species summaries will be vertically combined for each grid point. Since the additional species summary records species presence only, this view will be limited entirely to species presence. The result will be the plant species richness for each grid point, and this is useful for comparing plant communities, finding the locations of rarer species, or identifying grid points where non-native species are just getting established. After these data are processed, we will want to retain knowledge of whether a species was detected during point-intercept of additional species surveys so that we can evaluate the potential rarity of a given species. The new variable detection_type will allow us to do this."
      ]
    },
    {
      "cell_type": "markdown",
      "metadata": {
        "id": "Bfb7MHpGBJMO",
        "colab_type": "text"
      },
      "source": [
        "## Database Connection"
      ]
    },
    {
      "cell_type": "code",
      "metadata": {
        "id": "ihI70_BPKouq",
        "colab_type": "code",
        "colab": {}
      },
      "source": [
        "# BigQuery API Key\n",
        "bq_auth(path = \"/content/mpg-data-warehouse-api_key-master.json\")"
      ],
      "execution_count": 3,
      "outputs": []
    },
    {
      "cell_type": "code",
      "metadata": {
        "id": "8YxL8wHoBNxV",
        "colab_type": "code",
        "colab": {}
      },
      "source": [
        "Sys.setenv(BIGQUERY_TEST_PROJECT = \"mpg-data-warehouse\")"
      ],
      "execution_count": 4,
      "outputs": []
    },
    {
      "cell_type": "code",
      "metadata": {
        "id": "yevfizb5BQXm",
        "colab_type": "code",
        "colab": {}
      },
      "source": [
        "billing <- bq_test_project()"
      ],
      "execution_count": 5,
      "outputs": []
    },
    {
      "cell_type": "markdown",
      "metadata": {
        "id": "JN4Z34yRp2-k",
        "colab_type": "text"
      },
      "source": [
        "### yvp_vegetation_cover"
      ]
    },
    {
      "cell_type": "code",
      "metadata": {
        "id": "26UqASAoB2p0",
        "colab_type": "code",
        "colab": {}
      },
      "source": [
        "sql_vegetation_cover <- \n",
        "\"\n",
        "SELECT\n",
        "  CONCAT(plot_code, \\\" \\\", date) AS survey_code,\n",
        "  plot_code,\n",
        "  SUBSTR(SAFE_CAST(date AS STRING), 0, 4) AS year,\n",
        "  plot_loc,\n",
        "  plot_rep,\n",
        "  plot_num,\n",
        "  (\\\"cover_est\\\") AS detection_type,\n",
        "  species_key\n",
        "FROM\n",
        "  `mpg-data-warehouse.vegetation_fixed_plot_yvp.yvp_vegetation_cover`\n",
        "WHERE\n",
        "  cover_pct != 0\n",
        "\""
      ],
      "execution_count": 6,
      "outputs": []
    },
    {
      "cell_type": "code",
      "metadata": {
        "id": "VSXOoJkcB3dn",
        "colab_type": "code",
        "colab": {}
      },
      "source": [
        "bq_vegetation_cover <- bq_project_query(billing, sql_vegetation_cover)"
      ],
      "execution_count": 7,
      "outputs": []
    },
    {
      "cell_type": "code",
      "metadata": {
        "id": "KpZnymzzB5Ms",
        "colab_type": "code",
        "colab": {}
      },
      "source": [
        "tb_vegetation_cover <- bq_table_download(bq_vegetation_cover)"
      ],
      "execution_count": 8,
      "outputs": []
    },
    {
      "cell_type": "code",
      "metadata": {
        "id": "VcoNMCO1B6gY",
        "colab_type": "code",
        "colab": {}
      },
      "source": [
        "df_vegetation_cover <- as.data.frame(tb_vegetation_cover)"
      ],
      "execution_count": 9,
      "outputs": []
    },
    {
      "cell_type": "code",
      "metadata": {
        "id": "_Fbm6COOIgg_",
        "colab_type": "code",
        "colab": {
          "base_uri": "https://localhost:8080/",
          "height": 187
        },
        "outputId": "9daf3f09-1f4b-4eca-d17d-bb0bcf95205c"
      },
      "source": [
        "df_vegetation_cover %>% glimpse() "
      ],
      "execution_count": 10,
      "outputs": [
        {
          "output_type": "stream",
          "text": [
            "Rows: 19,994\n",
            "Columns: 8\n",
            "$ survey_code    \u001b[3m\u001b[90m<chr>\u001b[39m\u001b[23m \"YVP N7 2017-06-08\", \"YVP N7 2017-06-08\", \"YVP N7 2017…\n",
            "$ plot_code      \u001b[3m\u001b[90m<chr>\u001b[39m\u001b[23m \"YVP N7\", \"YVP N7\", \"YVP N7\", \"YVP N7\", \"YVP N7\", \"YVP…\n",
            "$ year           \u001b[3m\u001b[90m<chr>\u001b[39m\u001b[23m \"2017\", \"2017\", \"2017\", \"2017\", \"2017\", \"2017\", \"2017\"…\n",
            "$ plot_loc       \u001b[3m\u001b[90m<chr>\u001b[39m\u001b[23m \"N\", \"N\", \"N\", \"N\", \"N\", \"N\", \"N\", \"N\", \"N\", \"N\", \"N\",…\n",
            "$ plot_rep       \u001b[3m\u001b[90m<chr>\u001b[39m\u001b[23m \"NA\", \"NA\", \"NA\", \"NA\", \"NA\", \"NA\", \"NA\", \"NA\", \"NA\", …\n",
            "$ plot_num       \u001b[3m\u001b[90m<int>\u001b[39m\u001b[23m 7, 7, 7, 7, 7, 7, 7, 7, 7, 7, 7, 7, 7, 7, 7, 7, 7, 7, …\n",
            "$ detection_type \u001b[3m\u001b[90m<chr>\u001b[39m\u001b[23m \"cover_est\", \"cover_est\", \"cover_est\", \"cover_est\", \"c…\n",
            "$ species_key    \u001b[3m\u001b[90m<int>\u001b[39m\u001b[23m 82, 113, 153, 187, 233, 266, 286, 320, 389, 411, 437, …\n"
          ],
          "name": "stdout"
        }
      ]
    },
    {
      "cell_type": "markdown",
      "metadata": {
        "id": "Fws0jJQJmiqN",
        "colab_type": "text"
      },
      "source": [
        "### yvp_additional_species"
      ]
    },
    {
      "cell_type": "code",
      "metadata": {
        "id": "A0b7sFbomnQI",
        "colab_type": "code",
        "colab": {}
      },
      "source": [
        "sql_additional_species <- \"\n",
        "SELECT \n",
        "  CONCAT(plot_code, \\\" \\\", date) AS survey_code,\n",
        "  plot_code,\n",
        "  SUBSTR(SAFE_CAST(date AS STRING), 0, 4) AS year,\n",
        "  plot_loc,\n",
        "  plot_rep,\n",
        "  plot_num,\n",
        "  (\\\"supplemental_obs\\\") AS detection_type,\n",
        "  species_key\n",
        "FROM\n",
        "  `mpg-data-warehouse.vegetation_fixed_plot_yvp.yvp_additional_species`\n",
        "\""
      ],
      "execution_count": 11,
      "outputs": []
    },
    {
      "cell_type": "code",
      "metadata": {
        "id": "r6DRQa8UnfyC",
        "colab_type": "code",
        "colab": {}
      },
      "source": [
        "bq_additional_species <- bq_project_query(billing, sql_additional_species)"
      ],
      "execution_count": 12,
      "outputs": []
    },
    {
      "cell_type": "code",
      "metadata": {
        "id": "M2BeqR2cnseW",
        "colab_type": "code",
        "colab": {}
      },
      "source": [
        "tb_additional_species <- bq_table_download(bq_additional_species)"
      ],
      "execution_count": 13,
      "outputs": []
    },
    {
      "cell_type": "code",
      "metadata": {
        "id": "durzVSnInsbc",
        "colab_type": "code",
        "colab": {}
      },
      "source": [
        "df_additional_species <- as.data.frame(tb_additional_species)"
      ],
      "execution_count": 14,
      "outputs": []
    },
    {
      "cell_type": "code",
      "metadata": {
        "id": "ICrJWRYYn4gb",
        "colab_type": "code",
        "colab": {
          "base_uri": "https://localhost:8080/",
          "height": 187
        },
        "outputId": "3560cb94-3ca3-4a20-f343-3da71f4f6bb2"
      },
      "source": [
        "df_additional_species %>% glimpse()"
      ],
      "execution_count": 15,
      "outputs": [
        {
          "output_type": "stream",
          "text": [
            "Rows: 1,280\n",
            "Columns: 8\n",
            "$ survey_code    \u001b[3m\u001b[90m<chr>\u001b[39m\u001b[23m \"YVP 12 2018-07-10\", \"YVP 12 2018-07-10\", \"YVP 12 2018…\n",
            "$ plot_code      \u001b[3m\u001b[90m<chr>\u001b[39m\u001b[23m \"YVP 12\", \"YVP 12\", \"YVP 12\", \"YVP 12\", \"YVP 12\", \"YVP…\n",
            "$ year           \u001b[3m\u001b[90m<chr>\u001b[39m\u001b[23m \"2018\", \"2018\", \"2018\", \"2018\", \"2018\", \"2018\", \"2018\"…\n",
            "$ plot_loc       \u001b[3m\u001b[90m<chr>\u001b[39m\u001b[23m \"NA\", \"NA\", \"NA\", \"NA\", \"NA\", \"NA\", \"NA\", \"NA\", \"NA\", …\n",
            "$ plot_rep       \u001b[3m\u001b[90m<chr>\u001b[39m\u001b[23m \"NA\", \"NA\", \"NA\", \"NA\", \"NA\", \"NA\", \"NA\", \"NA\", \"NA\", …\n",
            "$ plot_num       \u001b[3m\u001b[90m<int>\u001b[39m\u001b[23m 12, 12, 12, 12, 12, 246, 246, 246, 246, 571, 571, 571,…\n",
            "$ detection_type \u001b[3m\u001b[90m<chr>\u001b[39m\u001b[23m \"supplemental_obs\", \"supplemental_obs\", \"supplemental_…\n",
            "$ species_key    \u001b[3m\u001b[90m<int>\u001b[39m\u001b[23m 72, 179, 426, 63, 484, 402, 53, 274, 334, 496, 240, 56…\n"
          ],
          "name": "stdout"
        }
      ]
    },
    {
      "cell_type": "markdown",
      "metadata": {
        "id": "xmB4X0Ym6eDK",
        "colab_type": "text"
      },
      "source": [
        "### location_position_classification"
      ]
    },
    {
      "cell_type": "code",
      "metadata": {
        "id": "yllLu5I16dvs",
        "colab_type": "code",
        "colab": {}
      },
      "source": [
        "sql_position_classification <- \"\n",
        "SELECT\n",
        "  grid_point,\n",
        "  aspect_mean_deg,\n",
        "  elevation_mean_m,\n",
        "  slope_mean_deg,\n",
        "  cover_type_2016_gridVeg,\n",
        "  type3_vegetation_indicators,\n",
        "  type4_indicators_history\n",
        "FROM\n",
        "  `mpg-data-warehouse.grid_point_summaries.location_position_classification`\n",
        "\""
      ],
      "execution_count": 16,
      "outputs": []
    },
    {
      "cell_type": "code",
      "metadata": {
        "id": "AccyJAYq6v1t",
        "colab_type": "code",
        "colab": {}
      },
      "source": [
        "bq_position_classification <- bq_project_query(billing, sql_position_classification)"
      ],
      "execution_count": 17,
      "outputs": []
    },
    {
      "cell_type": "code",
      "metadata": {
        "id": "9DHuZhlG6vyi",
        "colab_type": "code",
        "colab": {}
      },
      "source": [
        "tb_position_classification <- bq_table_download(bq_position_classification)"
      ],
      "execution_count": 18,
      "outputs": []
    },
    {
      "cell_type": "code",
      "metadata": {
        "id": "rxd5pyB_6vvQ",
        "colab_type": "code",
        "colab": {}
      },
      "source": [
        "df_position_classification <- as.data.frame(tb_position_classification)"
      ],
      "execution_count": 19,
      "outputs": []
    },
    {
      "cell_type": "code",
      "metadata": {
        "id": "lvXkgUyG6_ZD",
        "colab_type": "code",
        "colab": {
          "base_uri": "https://localhost:8080/",
          "height": 170
        },
        "outputId": "cc5154c4-ba5d-464f-81e2-639924bbd66a"
      },
      "source": [
        "df_position_classification %>% glimpse()"
      ],
      "execution_count": 20,
      "outputs": [
        {
          "output_type": "stream",
          "text": [
            "Rows: 582\n",
            "Columns: 7\n",
            "$ grid_point                  \u001b[3m\u001b[90m<int>\u001b[39m\u001b[23m 1, 2, 3, 4, 5, 6, 7, 8, 9, 10, 11, 12, 13…\n",
            "$ aspect_mean_deg             \u001b[3m\u001b[90m<dbl>\u001b[39m\u001b[23m 334.7050, 45.3030, 221.3340, 290.4890, 28…\n",
            "$ elevation_mean_m            \u001b[3m\u001b[90m<dbl>\u001b[39m\u001b[23m 1395.64, 1456.09, 1126.90, 1166.33, 1179.…\n",
            "$ slope_mean_deg              \u001b[3m\u001b[90m<dbl>\u001b[39m\u001b[23m 28.44230, 12.22630, 4.25130, 2.68361, 4.2…\n",
            "$ cover_type_2016_gridVeg     \u001b[3m\u001b[90m<chr>\u001b[39m\u001b[23m \"woodland/forest\", \"non-irrigated grassla…\n",
            "$ type3_vegetation_indicators \u001b[3m\u001b[90m<chr>\u001b[39m\u001b[23m \"mixed canopy conifer\", \"uncultivated gra…\n",
            "$ type4_indicators_history    \u001b[3m\u001b[90m<chr>\u001b[39m\u001b[23m \"mixed canopy conifer\", \"uncultivated gra…\n"
          ],
          "name": "stdout"
        }
      ]
    },
    {
      "cell_type": "markdown",
      "metadata": {
        "id": "F5tKtcbtiKCz",
        "colab_type": "text"
      },
      "source": [
        "### vegetation_species_metadata"
      ]
    },
    {
      "cell_type": "code",
      "metadata": {
        "id": "mS4JUaOZiTZJ",
        "colab_type": "code",
        "colab": {}
      },
      "source": [
        "sql_species_metadata <- \"\n",
        "SELECT\n",
        "  key_plant_species,\n",
        "  key_plant_code,\n",
        "  plant_name_sci,\n",
        "  plant_name_common,\n",
        "  plant_native_status,\n",
        "  plant_life_cycle,\n",
        "  plant_life_form\n",
        "FROM\n",
        "  `mpg-data-warehouse.vegetation_species_metadata.vegetation_species_metadata`\""
      ],
      "execution_count": 21,
      "outputs": []
    },
    {
      "cell_type": "code",
      "metadata": {
        "id": "epyc-RsviSiG",
        "colab_type": "code",
        "colab": {}
      },
      "source": [
        "bq_species_metadata <- bq_project_query(billing, sql_species_metadata)"
      ],
      "execution_count": 22,
      "outputs": []
    },
    {
      "cell_type": "code",
      "metadata": {
        "id": "PCyRmeWFjRds",
        "colab_type": "code",
        "colab": {}
      },
      "source": [
        "tb_species_metadata <- bq_table_download(bq_species_metadata)"
      ],
      "execution_count": 23,
      "outputs": []
    },
    {
      "cell_type": "code",
      "metadata": {
        "id": "m_rQRK7ajRZ3",
        "colab_type": "code",
        "colab": {}
      },
      "source": [
        "df_species_metadata <- as.data.frame(tb_species_metadata)"
      ],
      "execution_count": 24,
      "outputs": []
    },
    {
      "cell_type": "code",
      "metadata": {
        "id": "lPg0i28AjRWo",
        "colab_type": "code",
        "colab": {
          "base_uri": "https://localhost:8080/",
          "height": 170
        },
        "outputId": "97cd551b-e9ae-4148-9527-159552536b1e"
      },
      "source": [
        "df_species_metadata %>% glimpse()"
      ],
      "execution_count": 25,
      "outputs": [
        {
          "output_type": "stream",
          "text": [
            "Rows: 754\n",
            "Columns: 7\n",
            "$ key_plant_species   \u001b[3m\u001b[90m<int>\u001b[39m\u001b[23m 360, 13, 26, 53, 738, 75, 76, 746, 83, 88, 86, 87…\n",
            "$ key_plant_code      \u001b[3m\u001b[90m<chr>\u001b[39m\u001b[23m \"NV\", \"AGRSCA\", \"ANDGER\", \"ARIPUR\", \"BOUCUR\", \"BO…\n",
            "$ plant_name_sci      \u001b[3m\u001b[90m<chr>\u001b[39m\u001b[23m \"no vegetation\", \"Agrostis scabra\", \"Andropogon g…\n",
            "$ plant_name_common   \u001b[3m\u001b[90m<chr>\u001b[39m\u001b[23m \"no vegetation\", \"rough bentgrass\", \"big bluestem…\n",
            "$ plant_native_status \u001b[3m\u001b[90m<chr>\u001b[39m\u001b[23m \"none\", \"native\", \"native\", \"native\", \"native\", \"…\n",
            "$ plant_life_cycle    \u001b[3m\u001b[90m<chr>\u001b[39m\u001b[23m \"unknown\", \"perennial\", \"perennial\", \"perennial\",…\n",
            "$ plant_life_form     \u001b[3m\u001b[90m<chr>\u001b[39m\u001b[23m \"none\", \"graminoid\", \"graminoid\", \"graminoid\", \"g…\n"
          ],
          "name": "stdout"
        }
      ]
    },
    {
      "cell_type": "markdown",
      "metadata": {
        "id": "CnYKNnT0I4ZF",
        "colab_type": "text"
      },
      "source": [
        "# Wrangle"
      ]
    },
    {
      "cell_type": "markdown",
      "metadata": {
        "id": "AZFkpMUrJBo9",
        "colab_type": "text"
      },
      "source": [
        "With the data from yvp_vegetation_cover, species lists must first be summarized as distinct key_plant_species values within survey_code values. This is because the raw data are estimated in 10 subplots per transect, and species names will often be redundant among subplots. Then the yvp_vegetation_cover data can be vertically bound to the yvp_additional_species data after some light coercion of field names.\n",
        "\n",
        "One caution with these data. According to protocol, a plant species is only included in the additional species table if it was not found during cover-based surveys. In practice, I assume that this is routinely violated because it isn’t easy to remember all the species surveyed, nor is it efficient to check time after time. It’s important that we eliminate duplicate species for a given grid point. When duplication exists, default to detection_type = “cover_est”. This will prevent upward bias of richness estimates and will make downstream analyses less complicated. Some operation that again summarizes distinct key_plant_species values within survey_code values will be necessary. For additional information on this point, please see instructions for a similar operation with the point-intercept data in the gridVeg [Readme](https://docs.google.com/document/d/1JWnhxNjeSQZkSnGhtHP68i_l1mDj4vPFMBdUvGqN0TA/edit#heading=h.hnb7ex8jlp42).\n"
      ]
    },
    {
      "cell_type": "markdown",
      "metadata": {
        "id": "ysIVNx_K4Gyc",
        "colab_type": "text"
      },
      "source": [
        "## Remove duplicates"
      ]
    },
    {
      "cell_type": "markdown",
      "metadata": {
        "id": "7PBA6mwdn-gJ",
        "colab_type": "text"
      },
      "source": [
        "### yvp_vegetation_cover"
      ]
    },
    {
      "cell_type": "code",
      "metadata": {
        "id": "Cofz7mosKJZm",
        "colab_type": "code",
        "colab": {
          "base_uri": "https://localhost:8080/",
          "height": 187
        },
        "outputId": "cf02a320-0b27-48a4-9864-78bd0406f0fd"
      },
      "source": [
        "df_vegetation_cover %>% glimpse()"
      ],
      "execution_count": 26,
      "outputs": [
        {
          "output_type": "stream",
          "text": [
            "Rows: 19,994\n",
            "Columns: 8\n",
            "$ survey_code    \u001b[3m\u001b[90m<chr>\u001b[39m\u001b[23m \"YVP N7 2017-06-08\", \"YVP N7 2017-06-08\", \"YVP N7 2017…\n",
            "$ plot_code      \u001b[3m\u001b[90m<chr>\u001b[39m\u001b[23m \"YVP N7\", \"YVP N7\", \"YVP N7\", \"YVP N7\", \"YVP N7\", \"YVP…\n",
            "$ year           \u001b[3m\u001b[90m<chr>\u001b[39m\u001b[23m \"2017\", \"2017\", \"2017\", \"2017\", \"2017\", \"2017\", \"2017\"…\n",
            "$ plot_loc       \u001b[3m\u001b[90m<chr>\u001b[39m\u001b[23m \"N\", \"N\", \"N\", \"N\", \"N\", \"N\", \"N\", \"N\", \"N\", \"N\", \"N\",…\n",
            "$ plot_rep       \u001b[3m\u001b[90m<chr>\u001b[39m\u001b[23m \"NA\", \"NA\", \"NA\", \"NA\", \"NA\", \"NA\", \"NA\", \"NA\", \"NA\", …\n",
            "$ plot_num       \u001b[3m\u001b[90m<int>\u001b[39m\u001b[23m 7, 7, 7, 7, 7, 7, 7, 7, 7, 7, 7, 7, 7, 7, 7, 7, 7, 7, …\n",
            "$ detection_type \u001b[3m\u001b[90m<chr>\u001b[39m\u001b[23m \"cover_est\", \"cover_est\", \"cover_est\", \"cover_est\", \"c…\n",
            "$ species_key    \u001b[3m\u001b[90m<int>\u001b[39m\u001b[23m 82, 113, 153, 187, 233, 266, 286, 320, 389, 411, 437, …\n"
          ],
          "name": "stdout"
        }
      ]
    },
    {
      "cell_type": "code",
      "metadata": {
        "id": "cmOQB9iO5GFH",
        "colab_type": "code",
        "colab": {
          "base_uri": "https://localhost:8080/",
          "height": 1000
        },
        "outputId": "070a63ce-bed8-47e4-ac9c-e0ef45f52cc3"
      },
      "source": [
        "df_vegetation_cover %>%\n",
        "  group_by(survey_code, species_key) %>%\n",
        "  # count() %>%\n",
        "  arrange(survey_code, species_key)"
      ],
      "execution_count": 27,
      "outputs": [
        {
          "output_type": "display_data",
          "data": {
            "text/plain": [
              "      survey_code          plot_code year plot_loc plot_rep plot_num\n",
              "1     YVP 10 2017-06-09    YVP 10    2017 NA       NA       10      \n",
              "2     YVP 10 2017-06-09    YVP 10    2017 NA       NA       10      \n",
              "3     YVP 10 2017-06-09    YVP 10    2017 NA       NA       10      \n",
              "4     YVP 10 2017-06-09    YVP 10    2017 NA       NA       10      \n",
              "5     YVP 10 2017-06-09    YVP 10    2017 NA       NA       10      \n",
              "6     YVP 10 2017-06-09    YVP 10    2017 NA       NA       10      \n",
              "7     YVP 10 2017-06-09    YVP 10    2017 NA       NA       10      \n",
              "8     YVP 10 2017-06-09    YVP 10    2017 NA       NA       10      \n",
              "9     YVP 10 2017-06-09    YVP 10    2017 NA       NA       10      \n",
              "10    YVP 10 2017-06-09    YVP 10    2017 NA       NA       10      \n",
              "11    YVP 10 2017-06-09    YVP 10    2017 NA       NA       10      \n",
              "12    YVP 10 2017-06-09    YVP 10    2017 NA       NA       10      \n",
              "13    YVP 10 2017-06-09    YVP 10    2017 NA       NA       10      \n",
              "14    YVP 10 2017-06-09    YVP 10    2017 NA       NA       10      \n",
              "15    YVP 10 2017-06-09    YVP 10    2017 NA       NA       10      \n",
              "16    YVP 10 2017-06-09    YVP 10    2017 NA       NA       10      \n",
              "17    YVP 10 2017-06-09    YVP 10    2017 NA       NA       10      \n",
              "18    YVP 10 2017-06-09    YVP 10    2017 NA       NA       10      \n",
              "19    YVP 10 2017-06-09    YVP 10    2017 NA       NA       10      \n",
              "20    YVP 10 2017-06-09    YVP 10    2017 NA       NA       10      \n",
              "21    YVP 10 2017-06-09    YVP 10    2017 NA       NA       10      \n",
              "22    YVP 10 2017-06-09    YVP 10    2017 NA       NA       10      \n",
              "23    YVP 10 2017-06-09    YVP 10    2017 NA       NA       10      \n",
              "24    YVP 10 2017-06-09    YVP 10    2017 NA       NA       10      \n",
              "25    YVP 10 2017-06-09    YVP 10    2017 NA       NA       10      \n",
              "26    YVP 10 2017-06-09    YVP 10    2017 NA       NA       10      \n",
              "27    YVP 10 2017-06-09    YVP 10    2017 NA       NA       10      \n",
              "28    YVP 10 2017-06-09    YVP 10    2017 NA       NA       10      \n",
              "29    YVP 10 2017-06-09    YVP 10    2017 NA       NA       10      \n",
              "30    YVP 10 2017-06-09    YVP 10    2017 NA       NA       10      \n",
              "⋮     ⋮                    ⋮         ⋮    ⋮        ⋮        ⋮       \n",
              "19965 YVP NC294 2019-05-09 YVP NC294 2019 N        C        294     \n",
              "19966 YVP NC294 2019-05-09 YVP NC294 2019 N        C        294     \n",
              "19967 YVP NC294 2019-05-09 YVP NC294 2019 N        C        294     \n",
              "19968 YVP NC294 2019-05-09 YVP NC294 2019 N        C        294     \n",
              "19969 YVP NC294 2019-05-09 YVP NC294 2019 N        C        294     \n",
              "19970 YVP NC294 2019-05-09 YVP NC294 2019 N        C        294     \n",
              "19971 YVP NC294 2019-05-09 YVP NC294 2019 N        C        294     \n",
              "19972 YVP NC294 2019-05-09 YVP NC294 2019 N        C        294     \n",
              "19973 YVP NC294 2019-05-09 YVP NC294 2019 N        C        294     \n",
              "19974 YVP NC294 2019-05-09 YVP NC294 2019 N        C        294     \n",
              "19975 YVP NC294 2019-05-09 YVP NC294 2019 N        C        294     \n",
              "19976 YVP NC294 2019-05-09 YVP NC294 2019 N        C        294     \n",
              "19977 YVP NC294 2019-05-09 YVP NC294 2019 N        C        294     \n",
              "19978 YVP NC294 2019-05-09 YVP NC294 2019 N        C        294     \n",
              "19979 YVP NC294 2019-05-09 YVP NC294 2019 N        C        294     \n",
              "19980 YVP NC294 2019-05-09 YVP NC294 2019 N        C        294     \n",
              "19981 YVP NC294 2019-05-09 YVP NC294 2019 N        C        294     \n",
              "19982 YVP NC294 2019-05-09 YVP NC294 2019 N        C        294     \n",
              "19983 YVP NC294 2019-05-09 YVP NC294 2019 N        C        294     \n",
              "19984 YVP NC294 2019-05-09 YVP NC294 2019 N        C        294     \n",
              "19985 YVP NC294 2019-05-09 YVP NC294 2019 N        C        294     \n",
              "19986 YVP NC294 2019-05-09 YVP NC294 2019 N        C        294     \n",
              "19987 YVP NC294 2019-05-09 YVP NC294 2019 N        C        294     \n",
              "19988 YVP NC294 2019-05-09 YVP NC294 2019 N        C        294     \n",
              "19989 YVP NC294 2019-05-09 YVP NC294 2019 N        C        294     \n",
              "19990 YVP NC294 2019-05-09 YVP NC294 2019 N        C        294     \n",
              "19991 YVP NC294 2019-05-09 YVP NC294 2019 N        C        294     \n",
              "19992 YVP NC294 2019-05-09 YVP NC294 2019 N        C        294     \n",
              "19993 YVP NC294 2019-05-09 YVP NC294 2019 N        C        294     \n",
              "19994 YVP NC294 2019-05-09 YVP NC294 2019 N        C        294     \n",
              "      detection_type species_key\n",
              "1     cover_est        5        \n",
              "2     cover_est       37        \n",
              "3     cover_est       37        \n",
              "4     cover_est       39        \n",
              "5     cover_est       39        \n",
              "6     cover_est       51        \n",
              "7     cover_est       82        \n",
              "8     cover_est       84        \n",
              "9     cover_est       90        \n",
              "10    cover_est       90        \n",
              "11    cover_est      153        \n",
              "12    cover_est      153        \n",
              "13    cover_est      163        \n",
              "14    cover_est      163        \n",
              "15    cover_est      169        \n",
              "16    cover_est      187        \n",
              "17    cover_est      187        \n",
              "18    cover_est      187        \n",
              "19    cover_est      202        \n",
              "20    cover_est      230        \n",
              "21    cover_est      230        \n",
              "22    cover_est      230        \n",
              "23    cover_est      230        \n",
              "24    cover_est      230        \n",
              "25    cover_est      230        \n",
              "26    cover_est      230        \n",
              "27    cover_est      232        \n",
              "28    cover_est      232        \n",
              "29    cover_est      232        \n",
              "30    cover_est      232        \n",
              "⋮     ⋮              ⋮          \n",
              "19965 cover_est      437        \n",
              "19966 cover_est      437        \n",
              "19967 cover_est      437        \n",
              "19968 cover_est      437        \n",
              "19969 cover_est      437        \n",
              "19970 cover_est      437        \n",
              "19971 cover_est      439        \n",
              "19972 cover_est      439        \n",
              "19973 cover_est      484        \n",
              "19974 cover_est      484        \n",
              "19975 cover_est      522        \n",
              "19976 cover_est      522        \n",
              "19977 cover_est      522        \n",
              "19978 cover_est      522        \n",
              "19979 cover_est      522        \n",
              "19980 cover_est      529        \n",
              "19981 cover_est      529        \n",
              "19982 cover_est      529        \n",
              "19983 cover_est      529        \n",
              "19984 cover_est      529        \n",
              "19985 cover_est      529        \n",
              "19986 cover_est      529        \n",
              "19987 cover_est      529        \n",
              "19988 cover_est      562        \n",
              "19989 cover_est      562        \n",
              "19990 cover_est      562        \n",
              "19991 cover_est      576        \n",
              "19992 cover_est      576        \n",
              "19993 cover_est      576        \n",
              "19994 cover_est      576        "
            ],
            "text/latex": "A grouped\\_df: 19994 × 8\n\\begin{tabular}{llllllll}\n survey\\_code & plot\\_code & year & plot\\_loc & plot\\_rep & plot\\_num & detection\\_type & species\\_key\\\\\n <chr> & <chr> & <chr> & <chr> & <chr> & <int> & <chr> & <int>\\\\\n\\hline\n\t YVP 10 2017-06-09 & YVP 10 & 2017 & NA & NA & 10 & cover\\_est &   5\\\\\n\t YVP 10 2017-06-09 & YVP 10 & 2017 & NA & NA & 10 & cover\\_est &  37\\\\\n\t YVP 10 2017-06-09 & YVP 10 & 2017 & NA & NA & 10 & cover\\_est &  37\\\\\n\t YVP 10 2017-06-09 & YVP 10 & 2017 & NA & NA & 10 & cover\\_est &  39\\\\\n\t YVP 10 2017-06-09 & YVP 10 & 2017 & NA & NA & 10 & cover\\_est &  39\\\\\n\t YVP 10 2017-06-09 & YVP 10 & 2017 & NA & NA & 10 & cover\\_est &  51\\\\\n\t YVP 10 2017-06-09 & YVP 10 & 2017 & NA & NA & 10 & cover\\_est &  82\\\\\n\t YVP 10 2017-06-09 & YVP 10 & 2017 & NA & NA & 10 & cover\\_est &  84\\\\\n\t YVP 10 2017-06-09 & YVP 10 & 2017 & NA & NA & 10 & cover\\_est &  90\\\\\n\t YVP 10 2017-06-09 & YVP 10 & 2017 & NA & NA & 10 & cover\\_est &  90\\\\\n\t YVP 10 2017-06-09 & YVP 10 & 2017 & NA & NA & 10 & cover\\_est & 153\\\\\n\t YVP 10 2017-06-09 & YVP 10 & 2017 & NA & NA & 10 & cover\\_est & 153\\\\\n\t YVP 10 2017-06-09 & YVP 10 & 2017 & NA & NA & 10 & cover\\_est & 163\\\\\n\t YVP 10 2017-06-09 & YVP 10 & 2017 & NA & NA & 10 & cover\\_est & 163\\\\\n\t YVP 10 2017-06-09 & YVP 10 & 2017 & NA & NA & 10 & cover\\_est & 169\\\\\n\t YVP 10 2017-06-09 & YVP 10 & 2017 & NA & NA & 10 & cover\\_est & 187\\\\\n\t YVP 10 2017-06-09 & YVP 10 & 2017 & NA & NA & 10 & cover\\_est & 187\\\\\n\t YVP 10 2017-06-09 & YVP 10 & 2017 & NA & NA & 10 & cover\\_est & 187\\\\\n\t YVP 10 2017-06-09 & YVP 10 & 2017 & NA & NA & 10 & cover\\_est & 202\\\\\n\t YVP 10 2017-06-09 & YVP 10 & 2017 & NA & NA & 10 & cover\\_est & 230\\\\\n\t YVP 10 2017-06-09 & YVP 10 & 2017 & NA & NA & 10 & cover\\_est & 230\\\\\n\t YVP 10 2017-06-09 & YVP 10 & 2017 & NA & NA & 10 & cover\\_est & 230\\\\\n\t YVP 10 2017-06-09 & YVP 10 & 2017 & NA & NA & 10 & cover\\_est & 230\\\\\n\t YVP 10 2017-06-09 & YVP 10 & 2017 & NA & NA & 10 & cover\\_est & 230\\\\\n\t YVP 10 2017-06-09 & YVP 10 & 2017 & NA & NA & 10 & cover\\_est & 230\\\\\n\t YVP 10 2017-06-09 & YVP 10 & 2017 & NA & NA & 10 & cover\\_est & 230\\\\\n\t YVP 10 2017-06-09 & YVP 10 & 2017 & NA & NA & 10 & cover\\_est & 232\\\\\n\t YVP 10 2017-06-09 & YVP 10 & 2017 & NA & NA & 10 & cover\\_est & 232\\\\\n\t YVP 10 2017-06-09 & YVP 10 & 2017 & NA & NA & 10 & cover\\_est & 232\\\\\n\t YVP 10 2017-06-09 & YVP 10 & 2017 & NA & NA & 10 & cover\\_est & 232\\\\\n\t ⋮ & ⋮ & ⋮ & ⋮ & ⋮ & ⋮ & ⋮ & ⋮\\\\\n\t YVP NC294 2019-05-09 & YVP NC294 & 2019 & N & C & 294 & cover\\_est & 437\\\\\n\t YVP NC294 2019-05-09 & YVP NC294 & 2019 & N & C & 294 & cover\\_est & 437\\\\\n\t YVP NC294 2019-05-09 & YVP NC294 & 2019 & N & C & 294 & cover\\_est & 437\\\\\n\t YVP NC294 2019-05-09 & YVP NC294 & 2019 & N & C & 294 & cover\\_est & 437\\\\\n\t YVP NC294 2019-05-09 & YVP NC294 & 2019 & N & C & 294 & cover\\_est & 437\\\\\n\t YVP NC294 2019-05-09 & YVP NC294 & 2019 & N & C & 294 & cover\\_est & 437\\\\\n\t YVP NC294 2019-05-09 & YVP NC294 & 2019 & N & C & 294 & cover\\_est & 439\\\\\n\t YVP NC294 2019-05-09 & YVP NC294 & 2019 & N & C & 294 & cover\\_est & 439\\\\\n\t YVP NC294 2019-05-09 & YVP NC294 & 2019 & N & C & 294 & cover\\_est & 484\\\\\n\t YVP NC294 2019-05-09 & YVP NC294 & 2019 & N & C & 294 & cover\\_est & 484\\\\\n\t YVP NC294 2019-05-09 & YVP NC294 & 2019 & N & C & 294 & cover\\_est & 522\\\\\n\t YVP NC294 2019-05-09 & YVP NC294 & 2019 & N & C & 294 & cover\\_est & 522\\\\\n\t YVP NC294 2019-05-09 & YVP NC294 & 2019 & N & C & 294 & cover\\_est & 522\\\\\n\t YVP NC294 2019-05-09 & YVP NC294 & 2019 & N & C & 294 & cover\\_est & 522\\\\\n\t YVP NC294 2019-05-09 & YVP NC294 & 2019 & N & C & 294 & cover\\_est & 522\\\\\n\t YVP NC294 2019-05-09 & YVP NC294 & 2019 & N & C & 294 & cover\\_est & 529\\\\\n\t YVP NC294 2019-05-09 & YVP NC294 & 2019 & N & C & 294 & cover\\_est & 529\\\\\n\t YVP NC294 2019-05-09 & YVP NC294 & 2019 & N & C & 294 & cover\\_est & 529\\\\\n\t YVP NC294 2019-05-09 & YVP NC294 & 2019 & N & C & 294 & cover\\_est & 529\\\\\n\t YVP NC294 2019-05-09 & YVP NC294 & 2019 & N & C & 294 & cover\\_est & 529\\\\\n\t YVP NC294 2019-05-09 & YVP NC294 & 2019 & N & C & 294 & cover\\_est & 529\\\\\n\t YVP NC294 2019-05-09 & YVP NC294 & 2019 & N & C & 294 & cover\\_est & 529\\\\\n\t YVP NC294 2019-05-09 & YVP NC294 & 2019 & N & C & 294 & cover\\_est & 529\\\\\n\t YVP NC294 2019-05-09 & YVP NC294 & 2019 & N & C & 294 & cover\\_est & 562\\\\\n\t YVP NC294 2019-05-09 & YVP NC294 & 2019 & N & C & 294 & cover\\_est & 562\\\\\n\t YVP NC294 2019-05-09 & YVP NC294 & 2019 & N & C & 294 & cover\\_est & 562\\\\\n\t YVP NC294 2019-05-09 & YVP NC294 & 2019 & N & C & 294 & cover\\_est & 576\\\\\n\t YVP NC294 2019-05-09 & YVP NC294 & 2019 & N & C & 294 & cover\\_est & 576\\\\\n\t YVP NC294 2019-05-09 & YVP NC294 & 2019 & N & C & 294 & cover\\_est & 576\\\\\n\t YVP NC294 2019-05-09 & YVP NC294 & 2019 & N & C & 294 & cover\\_est & 576\\\\\n\\end{tabular}\n",
            "text/markdown": "\nA grouped_df: 19994 × 8\n\n| survey_code &lt;chr&gt; | plot_code &lt;chr&gt; | year &lt;chr&gt; | plot_loc &lt;chr&gt; | plot_rep &lt;chr&gt; | plot_num &lt;int&gt; | detection_type &lt;chr&gt; | species_key &lt;int&gt; |\n|---|---|---|---|---|---|---|---|\n| YVP 10 2017-06-09 | YVP 10 | 2017 | NA | NA | 10 | cover_est |   5 |\n| YVP 10 2017-06-09 | YVP 10 | 2017 | NA | NA | 10 | cover_est |  37 |\n| YVP 10 2017-06-09 | YVP 10 | 2017 | NA | NA | 10 | cover_est |  37 |\n| YVP 10 2017-06-09 | YVP 10 | 2017 | NA | NA | 10 | cover_est |  39 |\n| YVP 10 2017-06-09 | YVP 10 | 2017 | NA | NA | 10 | cover_est |  39 |\n| YVP 10 2017-06-09 | YVP 10 | 2017 | NA | NA | 10 | cover_est |  51 |\n| YVP 10 2017-06-09 | YVP 10 | 2017 | NA | NA | 10 | cover_est |  82 |\n| YVP 10 2017-06-09 | YVP 10 | 2017 | NA | NA | 10 | cover_est |  84 |\n| YVP 10 2017-06-09 | YVP 10 | 2017 | NA | NA | 10 | cover_est |  90 |\n| YVP 10 2017-06-09 | YVP 10 | 2017 | NA | NA | 10 | cover_est |  90 |\n| YVP 10 2017-06-09 | YVP 10 | 2017 | NA | NA | 10 | cover_est | 153 |\n| YVP 10 2017-06-09 | YVP 10 | 2017 | NA | NA | 10 | cover_est | 153 |\n| YVP 10 2017-06-09 | YVP 10 | 2017 | NA | NA | 10 | cover_est | 163 |\n| YVP 10 2017-06-09 | YVP 10 | 2017 | NA | NA | 10 | cover_est | 163 |\n| YVP 10 2017-06-09 | YVP 10 | 2017 | NA | NA | 10 | cover_est | 169 |\n| YVP 10 2017-06-09 | YVP 10 | 2017 | NA | NA | 10 | cover_est | 187 |\n| YVP 10 2017-06-09 | YVP 10 | 2017 | NA | NA | 10 | cover_est | 187 |\n| YVP 10 2017-06-09 | YVP 10 | 2017 | NA | NA | 10 | cover_est | 187 |\n| YVP 10 2017-06-09 | YVP 10 | 2017 | NA | NA | 10 | cover_est | 202 |\n| YVP 10 2017-06-09 | YVP 10 | 2017 | NA | NA | 10 | cover_est | 230 |\n| YVP 10 2017-06-09 | YVP 10 | 2017 | NA | NA | 10 | cover_est | 230 |\n| YVP 10 2017-06-09 | YVP 10 | 2017 | NA | NA | 10 | cover_est | 230 |\n| YVP 10 2017-06-09 | YVP 10 | 2017 | NA | NA | 10 | cover_est | 230 |\n| YVP 10 2017-06-09 | YVP 10 | 2017 | NA | NA | 10 | cover_est | 230 |\n| YVP 10 2017-06-09 | YVP 10 | 2017 | NA | NA | 10 | cover_est | 230 |\n| YVP 10 2017-06-09 | YVP 10 | 2017 | NA | NA | 10 | cover_est | 230 |\n| YVP 10 2017-06-09 | YVP 10 | 2017 | NA | NA | 10 | cover_est | 232 |\n| YVP 10 2017-06-09 | YVP 10 | 2017 | NA | NA | 10 | cover_est | 232 |\n| YVP 10 2017-06-09 | YVP 10 | 2017 | NA | NA | 10 | cover_est | 232 |\n| YVP 10 2017-06-09 | YVP 10 | 2017 | NA | NA | 10 | cover_est | 232 |\n| ⋮ | ⋮ | ⋮ | ⋮ | ⋮ | ⋮ | ⋮ | ⋮ |\n| YVP NC294 2019-05-09 | YVP NC294 | 2019 | N | C | 294 | cover_est | 437 |\n| YVP NC294 2019-05-09 | YVP NC294 | 2019 | N | C | 294 | cover_est | 437 |\n| YVP NC294 2019-05-09 | YVP NC294 | 2019 | N | C | 294 | cover_est | 437 |\n| YVP NC294 2019-05-09 | YVP NC294 | 2019 | N | C | 294 | cover_est | 437 |\n| YVP NC294 2019-05-09 | YVP NC294 | 2019 | N | C | 294 | cover_est | 437 |\n| YVP NC294 2019-05-09 | YVP NC294 | 2019 | N | C | 294 | cover_est | 437 |\n| YVP NC294 2019-05-09 | YVP NC294 | 2019 | N | C | 294 | cover_est | 439 |\n| YVP NC294 2019-05-09 | YVP NC294 | 2019 | N | C | 294 | cover_est | 439 |\n| YVP NC294 2019-05-09 | YVP NC294 | 2019 | N | C | 294 | cover_est | 484 |\n| YVP NC294 2019-05-09 | YVP NC294 | 2019 | N | C | 294 | cover_est | 484 |\n| YVP NC294 2019-05-09 | YVP NC294 | 2019 | N | C | 294 | cover_est | 522 |\n| YVP NC294 2019-05-09 | YVP NC294 | 2019 | N | C | 294 | cover_est | 522 |\n| YVP NC294 2019-05-09 | YVP NC294 | 2019 | N | C | 294 | cover_est | 522 |\n| YVP NC294 2019-05-09 | YVP NC294 | 2019 | N | C | 294 | cover_est | 522 |\n| YVP NC294 2019-05-09 | YVP NC294 | 2019 | N | C | 294 | cover_est | 522 |\n| YVP NC294 2019-05-09 | YVP NC294 | 2019 | N | C | 294 | cover_est | 529 |\n| YVP NC294 2019-05-09 | YVP NC294 | 2019 | N | C | 294 | cover_est | 529 |\n| YVP NC294 2019-05-09 | YVP NC294 | 2019 | N | C | 294 | cover_est | 529 |\n| YVP NC294 2019-05-09 | YVP NC294 | 2019 | N | C | 294 | cover_est | 529 |\n| YVP NC294 2019-05-09 | YVP NC294 | 2019 | N | C | 294 | cover_est | 529 |\n| YVP NC294 2019-05-09 | YVP NC294 | 2019 | N | C | 294 | cover_est | 529 |\n| YVP NC294 2019-05-09 | YVP NC294 | 2019 | N | C | 294 | cover_est | 529 |\n| YVP NC294 2019-05-09 | YVP NC294 | 2019 | N | C | 294 | cover_est | 529 |\n| YVP NC294 2019-05-09 | YVP NC294 | 2019 | N | C | 294 | cover_est | 562 |\n| YVP NC294 2019-05-09 | YVP NC294 | 2019 | N | C | 294 | cover_est | 562 |\n| YVP NC294 2019-05-09 | YVP NC294 | 2019 | N | C | 294 | cover_est | 562 |\n| YVP NC294 2019-05-09 | YVP NC294 | 2019 | N | C | 294 | cover_est | 576 |\n| YVP NC294 2019-05-09 | YVP NC294 | 2019 | N | C | 294 | cover_est | 576 |\n| YVP NC294 2019-05-09 | YVP NC294 | 2019 | N | C | 294 | cover_est | 576 |\n| YVP NC294 2019-05-09 | YVP NC294 | 2019 | N | C | 294 | cover_est | 576 |\n\n",
            "text/html": [
              "<table>\n",
              "<caption>A grouped_df: 19994 × 8</caption>\n",
              "<thead>\n",
              "\t<tr><th scope=col>survey_code</th><th scope=col>plot_code</th><th scope=col>year</th><th scope=col>plot_loc</th><th scope=col>plot_rep</th><th scope=col>plot_num</th><th scope=col>detection_type</th><th scope=col>species_key</th></tr>\n",
              "\t<tr><th scope=col>&lt;chr&gt;</th><th scope=col>&lt;chr&gt;</th><th scope=col>&lt;chr&gt;</th><th scope=col>&lt;chr&gt;</th><th scope=col>&lt;chr&gt;</th><th scope=col>&lt;int&gt;</th><th scope=col>&lt;chr&gt;</th><th scope=col>&lt;int&gt;</th></tr>\n",
              "</thead>\n",
              "<tbody>\n",
              "\t<tr><td>YVP 10 2017-06-09</td><td>YVP 10</td><td>2017</td><td>NA</td><td>NA</td><td>10</td><td>cover_est</td><td>  5</td></tr>\n",
              "\t<tr><td>YVP 10 2017-06-09</td><td>YVP 10</td><td>2017</td><td>NA</td><td>NA</td><td>10</td><td>cover_est</td><td> 37</td></tr>\n",
              "\t<tr><td>YVP 10 2017-06-09</td><td>YVP 10</td><td>2017</td><td>NA</td><td>NA</td><td>10</td><td>cover_est</td><td> 37</td></tr>\n",
              "\t<tr><td>YVP 10 2017-06-09</td><td>YVP 10</td><td>2017</td><td>NA</td><td>NA</td><td>10</td><td>cover_est</td><td> 39</td></tr>\n",
              "\t<tr><td>YVP 10 2017-06-09</td><td>YVP 10</td><td>2017</td><td>NA</td><td>NA</td><td>10</td><td>cover_est</td><td> 39</td></tr>\n",
              "\t<tr><td>YVP 10 2017-06-09</td><td>YVP 10</td><td>2017</td><td>NA</td><td>NA</td><td>10</td><td>cover_est</td><td> 51</td></tr>\n",
              "\t<tr><td>YVP 10 2017-06-09</td><td>YVP 10</td><td>2017</td><td>NA</td><td>NA</td><td>10</td><td>cover_est</td><td> 82</td></tr>\n",
              "\t<tr><td>YVP 10 2017-06-09</td><td>YVP 10</td><td>2017</td><td>NA</td><td>NA</td><td>10</td><td>cover_est</td><td> 84</td></tr>\n",
              "\t<tr><td>YVP 10 2017-06-09</td><td>YVP 10</td><td>2017</td><td>NA</td><td>NA</td><td>10</td><td>cover_est</td><td> 90</td></tr>\n",
              "\t<tr><td>YVP 10 2017-06-09</td><td>YVP 10</td><td>2017</td><td>NA</td><td>NA</td><td>10</td><td>cover_est</td><td> 90</td></tr>\n",
              "\t<tr><td>YVP 10 2017-06-09</td><td>YVP 10</td><td>2017</td><td>NA</td><td>NA</td><td>10</td><td>cover_est</td><td>153</td></tr>\n",
              "\t<tr><td>YVP 10 2017-06-09</td><td>YVP 10</td><td>2017</td><td>NA</td><td>NA</td><td>10</td><td>cover_est</td><td>153</td></tr>\n",
              "\t<tr><td>YVP 10 2017-06-09</td><td>YVP 10</td><td>2017</td><td>NA</td><td>NA</td><td>10</td><td>cover_est</td><td>163</td></tr>\n",
              "\t<tr><td>YVP 10 2017-06-09</td><td>YVP 10</td><td>2017</td><td>NA</td><td>NA</td><td>10</td><td>cover_est</td><td>163</td></tr>\n",
              "\t<tr><td>YVP 10 2017-06-09</td><td>YVP 10</td><td>2017</td><td>NA</td><td>NA</td><td>10</td><td>cover_est</td><td>169</td></tr>\n",
              "\t<tr><td>YVP 10 2017-06-09</td><td>YVP 10</td><td>2017</td><td>NA</td><td>NA</td><td>10</td><td>cover_est</td><td>187</td></tr>\n",
              "\t<tr><td>YVP 10 2017-06-09</td><td>YVP 10</td><td>2017</td><td>NA</td><td>NA</td><td>10</td><td>cover_est</td><td>187</td></tr>\n",
              "\t<tr><td>YVP 10 2017-06-09</td><td>YVP 10</td><td>2017</td><td>NA</td><td>NA</td><td>10</td><td>cover_est</td><td>187</td></tr>\n",
              "\t<tr><td>YVP 10 2017-06-09</td><td>YVP 10</td><td>2017</td><td>NA</td><td>NA</td><td>10</td><td>cover_est</td><td>202</td></tr>\n",
              "\t<tr><td>YVP 10 2017-06-09</td><td>YVP 10</td><td>2017</td><td>NA</td><td>NA</td><td>10</td><td>cover_est</td><td>230</td></tr>\n",
              "\t<tr><td>YVP 10 2017-06-09</td><td>YVP 10</td><td>2017</td><td>NA</td><td>NA</td><td>10</td><td>cover_est</td><td>230</td></tr>\n",
              "\t<tr><td>YVP 10 2017-06-09</td><td>YVP 10</td><td>2017</td><td>NA</td><td>NA</td><td>10</td><td>cover_est</td><td>230</td></tr>\n",
              "\t<tr><td>YVP 10 2017-06-09</td><td>YVP 10</td><td>2017</td><td>NA</td><td>NA</td><td>10</td><td>cover_est</td><td>230</td></tr>\n",
              "\t<tr><td>YVP 10 2017-06-09</td><td>YVP 10</td><td>2017</td><td>NA</td><td>NA</td><td>10</td><td>cover_est</td><td>230</td></tr>\n",
              "\t<tr><td>YVP 10 2017-06-09</td><td>YVP 10</td><td>2017</td><td>NA</td><td>NA</td><td>10</td><td>cover_est</td><td>230</td></tr>\n",
              "\t<tr><td>YVP 10 2017-06-09</td><td>YVP 10</td><td>2017</td><td>NA</td><td>NA</td><td>10</td><td>cover_est</td><td>230</td></tr>\n",
              "\t<tr><td>YVP 10 2017-06-09</td><td>YVP 10</td><td>2017</td><td>NA</td><td>NA</td><td>10</td><td>cover_est</td><td>232</td></tr>\n",
              "\t<tr><td>YVP 10 2017-06-09</td><td>YVP 10</td><td>2017</td><td>NA</td><td>NA</td><td>10</td><td>cover_est</td><td>232</td></tr>\n",
              "\t<tr><td>YVP 10 2017-06-09</td><td>YVP 10</td><td>2017</td><td>NA</td><td>NA</td><td>10</td><td>cover_est</td><td>232</td></tr>\n",
              "\t<tr><td>YVP 10 2017-06-09</td><td>YVP 10</td><td>2017</td><td>NA</td><td>NA</td><td>10</td><td>cover_est</td><td>232</td></tr>\n",
              "\t<tr><td>⋮</td><td>⋮</td><td>⋮</td><td>⋮</td><td>⋮</td><td>⋮</td><td>⋮</td><td>⋮</td></tr>\n",
              "\t<tr><td>YVP NC294 2019-05-09</td><td>YVP NC294</td><td>2019</td><td>N</td><td>C</td><td>294</td><td>cover_est</td><td>437</td></tr>\n",
              "\t<tr><td>YVP NC294 2019-05-09</td><td>YVP NC294</td><td>2019</td><td>N</td><td>C</td><td>294</td><td>cover_est</td><td>437</td></tr>\n",
              "\t<tr><td>YVP NC294 2019-05-09</td><td>YVP NC294</td><td>2019</td><td>N</td><td>C</td><td>294</td><td>cover_est</td><td>437</td></tr>\n",
              "\t<tr><td>YVP NC294 2019-05-09</td><td>YVP NC294</td><td>2019</td><td>N</td><td>C</td><td>294</td><td>cover_est</td><td>437</td></tr>\n",
              "\t<tr><td>YVP NC294 2019-05-09</td><td>YVP NC294</td><td>2019</td><td>N</td><td>C</td><td>294</td><td>cover_est</td><td>437</td></tr>\n",
              "\t<tr><td>YVP NC294 2019-05-09</td><td>YVP NC294</td><td>2019</td><td>N</td><td>C</td><td>294</td><td>cover_est</td><td>437</td></tr>\n",
              "\t<tr><td>YVP NC294 2019-05-09</td><td>YVP NC294</td><td>2019</td><td>N</td><td>C</td><td>294</td><td>cover_est</td><td>439</td></tr>\n",
              "\t<tr><td>YVP NC294 2019-05-09</td><td>YVP NC294</td><td>2019</td><td>N</td><td>C</td><td>294</td><td>cover_est</td><td>439</td></tr>\n",
              "\t<tr><td>YVP NC294 2019-05-09</td><td>YVP NC294</td><td>2019</td><td>N</td><td>C</td><td>294</td><td>cover_est</td><td>484</td></tr>\n",
              "\t<tr><td>YVP NC294 2019-05-09</td><td>YVP NC294</td><td>2019</td><td>N</td><td>C</td><td>294</td><td>cover_est</td><td>484</td></tr>\n",
              "\t<tr><td>YVP NC294 2019-05-09</td><td>YVP NC294</td><td>2019</td><td>N</td><td>C</td><td>294</td><td>cover_est</td><td>522</td></tr>\n",
              "\t<tr><td>YVP NC294 2019-05-09</td><td>YVP NC294</td><td>2019</td><td>N</td><td>C</td><td>294</td><td>cover_est</td><td>522</td></tr>\n",
              "\t<tr><td>YVP NC294 2019-05-09</td><td>YVP NC294</td><td>2019</td><td>N</td><td>C</td><td>294</td><td>cover_est</td><td>522</td></tr>\n",
              "\t<tr><td>YVP NC294 2019-05-09</td><td>YVP NC294</td><td>2019</td><td>N</td><td>C</td><td>294</td><td>cover_est</td><td>522</td></tr>\n",
              "\t<tr><td>YVP NC294 2019-05-09</td><td>YVP NC294</td><td>2019</td><td>N</td><td>C</td><td>294</td><td>cover_est</td><td>522</td></tr>\n",
              "\t<tr><td>YVP NC294 2019-05-09</td><td>YVP NC294</td><td>2019</td><td>N</td><td>C</td><td>294</td><td>cover_est</td><td>529</td></tr>\n",
              "\t<tr><td>YVP NC294 2019-05-09</td><td>YVP NC294</td><td>2019</td><td>N</td><td>C</td><td>294</td><td>cover_est</td><td>529</td></tr>\n",
              "\t<tr><td>YVP NC294 2019-05-09</td><td>YVP NC294</td><td>2019</td><td>N</td><td>C</td><td>294</td><td>cover_est</td><td>529</td></tr>\n",
              "\t<tr><td>YVP NC294 2019-05-09</td><td>YVP NC294</td><td>2019</td><td>N</td><td>C</td><td>294</td><td>cover_est</td><td>529</td></tr>\n",
              "\t<tr><td>YVP NC294 2019-05-09</td><td>YVP NC294</td><td>2019</td><td>N</td><td>C</td><td>294</td><td>cover_est</td><td>529</td></tr>\n",
              "\t<tr><td>YVP NC294 2019-05-09</td><td>YVP NC294</td><td>2019</td><td>N</td><td>C</td><td>294</td><td>cover_est</td><td>529</td></tr>\n",
              "\t<tr><td>YVP NC294 2019-05-09</td><td>YVP NC294</td><td>2019</td><td>N</td><td>C</td><td>294</td><td>cover_est</td><td>529</td></tr>\n",
              "\t<tr><td>YVP NC294 2019-05-09</td><td>YVP NC294</td><td>2019</td><td>N</td><td>C</td><td>294</td><td>cover_est</td><td>529</td></tr>\n",
              "\t<tr><td>YVP NC294 2019-05-09</td><td>YVP NC294</td><td>2019</td><td>N</td><td>C</td><td>294</td><td>cover_est</td><td>562</td></tr>\n",
              "\t<tr><td>YVP NC294 2019-05-09</td><td>YVP NC294</td><td>2019</td><td>N</td><td>C</td><td>294</td><td>cover_est</td><td>562</td></tr>\n",
              "\t<tr><td>YVP NC294 2019-05-09</td><td>YVP NC294</td><td>2019</td><td>N</td><td>C</td><td>294</td><td>cover_est</td><td>562</td></tr>\n",
              "\t<tr><td>YVP NC294 2019-05-09</td><td>YVP NC294</td><td>2019</td><td>N</td><td>C</td><td>294</td><td>cover_est</td><td>576</td></tr>\n",
              "\t<tr><td>YVP NC294 2019-05-09</td><td>YVP NC294</td><td>2019</td><td>N</td><td>C</td><td>294</td><td>cover_est</td><td>576</td></tr>\n",
              "\t<tr><td>YVP NC294 2019-05-09</td><td>YVP NC294</td><td>2019</td><td>N</td><td>C</td><td>294</td><td>cover_est</td><td>576</td></tr>\n",
              "\t<tr><td>YVP NC294 2019-05-09</td><td>YVP NC294</td><td>2019</td><td>N</td><td>C</td><td>294</td><td>cover_est</td><td>576</td></tr>\n",
              "</tbody>\n",
              "</table>\n"
            ]
          },
          "metadata": {
            "tags": []
          }
        }
      ]
    },
    {
      "cell_type": "code",
      "metadata": {
        "id": "ZyjOWuewcPKs",
        "colab_type": "code",
        "colab": {
          "base_uri": "https://localhost:8080/",
          "height": 204
        },
        "outputId": "2090f21b-0eaa-4ba8-a3db-e5f5d0d127fe"
      },
      "source": [
        "# remove duplicate species records per survey\n",
        "df_vegetation_cover <- df_vegetation_cover %>%\n",
        "  group_by(survey_code) %>%\n",
        "  distinct() %>%\n",
        "  arrange(desc(survey_code), species_key) %>% glimpse()"
      ],
      "execution_count": 28,
      "outputs": [
        {
          "output_type": "stream",
          "text": [
            "Rows: 4,933\n",
            "Columns: 8\n",
            "Groups: survey_code [175]\n",
            "$ survey_code    \u001b[3m\u001b[90m<chr>\u001b[39m\u001b[23m \"YVP NC294 2019-05-09\", \"YVP NC294 2019-05-09\", \"YVP N…\n",
            "$ plot_code      \u001b[3m\u001b[90m<chr>\u001b[39m\u001b[23m \"YVP NC294\", \"YVP NC294\", \"YVP NC294\", \"YVP NC294\", \"Y…\n",
            "$ year           \u001b[3m\u001b[90m<chr>\u001b[39m\u001b[23m \"2019\", \"2019\", \"2019\", \"2019\", \"2019\", \"2019\", \"2019\"…\n",
            "$ plot_loc       \u001b[3m\u001b[90m<chr>\u001b[39m\u001b[23m \"N\", \"N\", \"N\", \"N\", \"N\", \"N\", \"N\", \"N\", \"N\", \"N\", \"N\",…\n",
            "$ plot_rep       \u001b[3m\u001b[90m<chr>\u001b[39m\u001b[23m \"C\", \"C\", \"C\", \"C\", \"C\", \"C\", \"C\", \"C\", \"C\", \"C\", \"C\",…\n",
            "$ plot_num       \u001b[3m\u001b[90m<int>\u001b[39m\u001b[23m 294, 294, 294, 294, 294, 294, 294, 294, 294, 294, 294,…\n",
            "$ detection_type \u001b[3m\u001b[90m<chr>\u001b[39m\u001b[23m \"cover_est\", \"cover_est\", \"cover_est\", \"cover_est\", \"c…\n",
            "$ species_key    \u001b[3m\u001b[90m<int>\u001b[39m\u001b[23m 5, 20, 57, 72, 74, 82, 153, 154, 174, 187, 202, 220, 2…\n"
          ],
          "name": "stdout"
        }
      ]
    },
    {
      "cell_type": "markdown",
      "metadata": {
        "id": "GZGdgx0XoJXj",
        "colab_type": "text"
      },
      "source": [
        "### yvp_additional_species"
      ]
    },
    {
      "cell_type": "code",
      "metadata": {
        "id": "qdU3Oh9voFGI",
        "colab_type": "code",
        "colab": {
          "base_uri": "https://localhost:8080/",
          "height": 187
        },
        "outputId": "02b7ba47-be69-4b73-d24c-5e7e35419ee2"
      },
      "source": [
        "df_additional_species %>% glimpse()"
      ],
      "execution_count": 29,
      "outputs": [
        {
          "output_type": "stream",
          "text": [
            "Rows: 1,280\n",
            "Columns: 8\n",
            "$ survey_code    \u001b[3m\u001b[90m<chr>\u001b[39m\u001b[23m \"YVP 12 2018-07-10\", \"YVP 12 2018-07-10\", \"YVP 12 2018…\n",
            "$ plot_code      \u001b[3m\u001b[90m<chr>\u001b[39m\u001b[23m \"YVP 12\", \"YVP 12\", \"YVP 12\", \"YVP 12\", \"YVP 12\", \"YVP…\n",
            "$ year           \u001b[3m\u001b[90m<chr>\u001b[39m\u001b[23m \"2018\", \"2018\", \"2018\", \"2018\", \"2018\", \"2018\", \"2018\"…\n",
            "$ plot_loc       \u001b[3m\u001b[90m<chr>\u001b[39m\u001b[23m \"NA\", \"NA\", \"NA\", \"NA\", \"NA\", \"NA\", \"NA\", \"NA\", \"NA\", …\n",
            "$ plot_rep       \u001b[3m\u001b[90m<chr>\u001b[39m\u001b[23m \"NA\", \"NA\", \"NA\", \"NA\", \"NA\", \"NA\", \"NA\", \"NA\", \"NA\", …\n",
            "$ plot_num       \u001b[3m\u001b[90m<int>\u001b[39m\u001b[23m 12, 12, 12, 12, 12, 246, 246, 246, 246, 571, 571, 571,…\n",
            "$ detection_type \u001b[3m\u001b[90m<chr>\u001b[39m\u001b[23m \"supplemental_obs\", \"supplemental_obs\", \"supplemental_…\n",
            "$ species_key    \u001b[3m\u001b[90m<int>\u001b[39m\u001b[23m 72, 179, 426, 63, 484, 402, 53, 274, 334, 496, 240, 56…\n"
          ],
          "name": "stdout"
        }
      ]
    },
    {
      "cell_type": "code",
      "metadata": {
        "id": "xeTRKyTEoFC_",
        "colab_type": "code",
        "colab": {
          "base_uri": "https://localhost:8080/",
          "height": 204
        },
        "outputId": "cb09545b-6c79-49e9-866c-83ddefab99f6"
      },
      "source": [
        "# remove duplicates per survey\n",
        "df_additional_species <- df_additional_species %>%\n",
        "  group_by(survey_code) %>%\n",
        "  distinct() %>%\n",
        "  arrange(desc(survey_code), species_key) %>% glimpse()"
      ],
      "execution_count": 30,
      "outputs": [
        {
          "output_type": "stream",
          "text": [
            "Rows: 1,275\n",
            "Columns: 8\n",
            "Groups: survey_code [178]\n",
            "$ survey_code    \u001b[3m\u001b[90m<chr>\u001b[39m\u001b[23m \"YVP NC294 2019-05-09\", \"YVP NC294 2019-05-09\", \"YVP N…\n",
            "$ plot_code      \u001b[3m\u001b[90m<chr>\u001b[39m\u001b[23m \"YVP NC294\", \"YVP NC294\", \"YVP NC294\", \"YVP NC294\", \"Y…\n",
            "$ year           \u001b[3m\u001b[90m<chr>\u001b[39m\u001b[23m \"2019\", \"2019\", \"2019\", \"2019\", \"2019\", \"2019\", \"2019\"…\n",
            "$ plot_loc       \u001b[3m\u001b[90m<chr>\u001b[39m\u001b[23m \"N\", \"N\", \"N\", \"N\", \"N\", \"N\", \"N\", \"N\", \"N\", \"N\", \"N\",…\n",
            "$ plot_rep       \u001b[3m\u001b[90m<chr>\u001b[39m\u001b[23m \"C\", \"C\", \"C\", \"C\", \"C\", \"C\", \"C\", \"C\", \"C\", \"C\", \"C\",…\n",
            "$ plot_num       \u001b[3m\u001b[90m<int>\u001b[39m\u001b[23m 294, 294, 294, 294, 294, 294, 294, 294, 294, 294, 294,…\n",
            "$ detection_type \u001b[3m\u001b[90m<chr>\u001b[39m\u001b[23m \"supplemental_obs\", \"supplemental_obs\", \"supplemental_…\n",
            "$ species_key    \u001b[3m\u001b[90m<int>\u001b[39m\u001b[23m 31, 36, 84, 178, 183, 316, 362, 36, 216, 316, 342, 362…\n"
          ],
          "name": "stdout"
        }
      ]
    },
    {
      "cell_type": "markdown",
      "metadata": {
        "id": "_YIqQyt44NR-",
        "colab_type": "text"
      },
      "source": [
        "## Combine dataframes"
      ]
    },
    {
      "cell_type": "code",
      "metadata": {
        "id": "xHrPqTn5oE_y",
        "colab_type": "code",
        "colab": {
          "base_uri": "https://localhost:8080/",
          "height": 204
        },
        "outputId": "89af812c-d425-4eee-d539-818391a14422"
      },
      "source": [
        "species_richness <- union(df_vegetation_cover, df_additional_species) %>% glimpse()"
      ],
      "execution_count": 31,
      "outputs": [
        {
          "output_type": "stream",
          "text": [
            "Rows: 6,208\n",
            "Columns: 8\n",
            "Groups: survey_code [187]\n",
            "$ survey_code    \u001b[3m\u001b[90m<chr>\u001b[39m\u001b[23m \"YVP NC294 2019-05-09\", \"YVP NC294 2019-05-09\", \"YVP N…\n",
            "$ plot_code      \u001b[3m\u001b[90m<chr>\u001b[39m\u001b[23m \"YVP NC294\", \"YVP NC294\", \"YVP NC294\", \"YVP NC294\", \"Y…\n",
            "$ year           \u001b[3m\u001b[90m<chr>\u001b[39m\u001b[23m \"2019\", \"2019\", \"2019\", \"2019\", \"2019\", \"2019\", \"2019\"…\n",
            "$ plot_loc       \u001b[3m\u001b[90m<chr>\u001b[39m\u001b[23m \"N\", \"N\", \"N\", \"N\", \"N\", \"N\", \"N\", \"N\", \"N\", \"N\", \"N\",…\n",
            "$ plot_rep       \u001b[3m\u001b[90m<chr>\u001b[39m\u001b[23m \"C\", \"C\", \"C\", \"C\", \"C\", \"C\", \"C\", \"C\", \"C\", \"C\", \"C\",…\n",
            "$ plot_num       \u001b[3m\u001b[90m<int>\u001b[39m\u001b[23m 294, 294, 294, 294, 294, 294, 294, 294, 294, 294, 294,…\n",
            "$ detection_type \u001b[3m\u001b[90m<chr>\u001b[39m\u001b[23m \"cover_est\", \"cover_est\", \"cover_est\", \"cover_est\", \"c…\n",
            "$ species_key    \u001b[3m\u001b[90m<int>\u001b[39m\u001b[23m 5, 20, 57, 72, 74, 82, 153, 154, 174, 187, 202, 220, 2…\n"
          ],
          "name": "stdout"
        }
      ]
    },
    {
      "cell_type": "code",
      "metadata": {
        "id": "2QTpItz6oE8y",
        "colab_type": "code",
        "colab": {
          "base_uri": "https://localhost:8080/",
          "height": 119
        },
        "outputId": "bc2c5df4-53b0-4873-c41f-56365a48d010"
      },
      "source": [
        "# look for duplicates\n",
        "duplicate_detections <- species_richness %>%\n",
        "  group_by(survey_code) %>%\n",
        "  count(species_key) %>%\n",
        "  filter(n > 1) %>%\n",
        "  arrange(survey_code, species_key) %>% glimpse()"
      ],
      "execution_count": 32,
      "outputs": [
        {
          "output_type": "stream",
          "text": [
            "Rows: 104\n",
            "Columns: 3\n",
            "Groups: survey_code [62]\n",
            "$ survey_code \u001b[3m\u001b[90m<chr>\u001b[39m\u001b[23m \"YVP 10 2018-07-12\", \"YVP 10 2018-07-12\", \"YVP 10 2019-07…\n",
            "$ species_key \u001b[3m\u001b[90m<int>\u001b[39m\u001b[23m 16, 433, 16, 220, 433, 308, 220, 51, 51, 439, 576, 211, 2…\n",
            "$ n           \u001b[3m\u001b[90m<int>\u001b[39m\u001b[23m 2, 2, 2, 2, 2, 2, 2, 2, 2, 2, 2, 2, 2, 2, 2, 2, 2, 2, 2, …\n"
          ],
          "name": "stdout"
        }
      ]
    },
    {
      "cell_type": "markdown",
      "metadata": {
        "id": "KHWZRiD59t9A",
        "colab_type": "text"
      },
      "source": [
        "## Remove redundant detections"
      ]
    },
    {
      "cell_type": "code",
      "metadata": {
        "id": "e6XuByNoZEDH",
        "colab_type": "code",
        "colab": {
          "base_uri": "https://localhost:8080/",
          "height": 102
        },
        "outputId": "06d7b093-2df4-46e9-ff55-0d929d56a2c7"
      },
      "source": [
        "duplicate_detections <- duplicate_detections %>%\n",
        "  mutate(mask = paste(survey_code, species_key)) %>%\n",
        "  select(!n) %>%\n",
        "  ungroup() %>% glimpse()"
      ],
      "execution_count": 33,
      "outputs": [
        {
          "output_type": "stream",
          "text": [
            "Rows: 104\n",
            "Columns: 3\n",
            "$ survey_code \u001b[3m\u001b[90m<chr>\u001b[39m\u001b[23m \"YVP 10 2018-07-12\", \"YVP 10 2018-07-12\", \"YVP 10 2019-07…\n",
            "$ species_key \u001b[3m\u001b[90m<int>\u001b[39m\u001b[23m 16, 433, 16, 220, 433, 308, 220, 51, 51, 439, 576, 211, 2…\n",
            "$ mask        \u001b[3m\u001b[90m<chr>\u001b[39m\u001b[23m \"YVP 10 2018-07-12 16\", \"YVP 10 2018-07-12 433\", \"YVP 10 …\n"
          ],
          "name": "stdout"
        }
      ]
    },
    {
      "cell_type": "code",
      "metadata": {
        "id": "_csMCmeA9vig",
        "colab_type": "code",
        "colab": {
          "base_uri": "https://localhost:8080/",
          "height": 204
        },
        "outputId": "c7714d1f-ccdf-4ea7-89cd-cc5d329d30ac"
      },
      "source": [
        "# subset surveys with no redundancy\n",
        "species_richness_x <- species_richness %>%\n",
        "  ungroup() %>%\n",
        "  mutate(mask = paste(survey_code, species_key)) %>%\n",
        "  filter(!mask %in% duplicate_detections$mask) %>%\n",
        "  arrange(survey_code, species_key) %>% glimpse()"
      ],
      "execution_count": 34,
      "outputs": [
        {
          "output_type": "stream",
          "text": [
            "Rows: 6,000\n",
            "Columns: 9\n",
            "$ survey_code    \u001b[3m\u001b[90m<chr>\u001b[39m\u001b[23m \"YVP 10 2017-06-09\", \"YVP 10 2017-06-09\", \"YVP 10 2017…\n",
            "$ plot_code      \u001b[3m\u001b[90m<chr>\u001b[39m\u001b[23m \"YVP 10\", \"YVP 10\", \"YVP 10\", \"YVP 10\", \"YVP 10\", \"YVP…\n",
            "$ year           \u001b[3m\u001b[90m<chr>\u001b[39m\u001b[23m \"2017\", \"2017\", \"2017\", \"2017\", \"2017\", \"2017\", \"2017\"…\n",
            "$ plot_loc       \u001b[3m\u001b[90m<chr>\u001b[39m\u001b[23m \"NA\", \"NA\", \"NA\", \"NA\", \"NA\", \"NA\", \"NA\", \"NA\", \"NA\", …\n",
            "$ plot_rep       \u001b[3m\u001b[90m<chr>\u001b[39m\u001b[23m \"NA\", \"NA\", \"NA\", \"NA\", \"NA\", \"NA\", \"NA\", \"NA\", \"NA\", …\n",
            "$ plot_num       \u001b[3m\u001b[90m<int>\u001b[39m\u001b[23m 10, 10, 10, 10, 10, 10, 10, 10, 10, 10, 10, 10, 10, 10…\n",
            "$ detection_type \u001b[3m\u001b[90m<chr>\u001b[39m\u001b[23m \"cover_est\", \"cover_est\", \"cover_est\", \"cover_est\", \"s…\n",
            "$ species_key    \u001b[3m\u001b[90m<int>\u001b[39m\u001b[23m 5, 37, 39, 51, 72, 82, 84, 90, 153, 163, 169, 187, 202…\n",
            "$ mask           \u001b[3m\u001b[90m<chr>\u001b[39m\u001b[23m \"YVP 10 2017-06-09 5\", \"YVP 10 2017-06-09 37\", \"YVP 10…\n"
          ],
          "name": "stdout"
        }
      ]
    },
    {
      "cell_type": "code",
      "metadata": {
        "id": "kKI-ZlHT2gFL",
        "colab_type": "code",
        "colab": {
          "base_uri": "https://localhost:8080/",
          "height": 204
        },
        "outputId": "d0357466-f97f-4431-ab31-c404da245701"
      },
      "source": [
        "# subset surveys with redundancy\n",
        "species_richness_y <- species_richness %>%\n",
        "  ungroup() %>%\n",
        "  mutate(mask = paste(survey_code, species_key)) %>%\n",
        "  filter(mask %in% duplicate_detections$mask, detection_type != \"supplemental_obs\") %>%\n",
        "  arrange(survey_code, species_key) %>% glimpse()"
      ],
      "execution_count": 35,
      "outputs": [
        {
          "output_type": "stream",
          "text": [
            "Rows: 104\n",
            "Columns: 9\n",
            "$ survey_code    \u001b[3m\u001b[90m<chr>\u001b[39m\u001b[23m \"YVP 10 2018-07-12\", \"YVP 10 2018-07-12\", \"YVP 10 2019…\n",
            "$ plot_code      \u001b[3m\u001b[90m<chr>\u001b[39m\u001b[23m \"YVP 10\", \"YVP 10\", \"YVP 10\", \"YVP 10\", \"YVP 10\", \"YVP…\n",
            "$ year           \u001b[3m\u001b[90m<chr>\u001b[39m\u001b[23m \"2018\", \"2018\", \"2019\", \"2019\", \"2019\", \"2017\", \"2019\"…\n",
            "$ plot_loc       \u001b[3m\u001b[90m<chr>\u001b[39m\u001b[23m \"NA\", \"NA\", \"NA\", \"NA\", \"NA\", \"NA\", \"NA\", \"NA\", \"NA\", …\n",
            "$ plot_rep       \u001b[3m\u001b[90m<chr>\u001b[39m\u001b[23m \"NA\", \"NA\", \"NA\", \"NA\", \"NA\", \"NA\", \"NA\", \"NA\", \"NA\", …\n",
            "$ plot_num       \u001b[3m\u001b[90m<int>\u001b[39m\u001b[23m 10, 10, 10, 10, 10, 113, 12, 144, 144, 144, 144, 181, …\n",
            "$ detection_type \u001b[3m\u001b[90m<chr>\u001b[39m\u001b[23m \"cover_est\", \"cover_est\", \"cover_est\", \"cover_est\", \"c…\n",
            "$ species_key    \u001b[3m\u001b[90m<int>\u001b[39m\u001b[23m 16, 433, 16, 220, 433, 308, 220, 51, 51, 439, 576, 211…\n",
            "$ mask           \u001b[3m\u001b[90m<chr>\u001b[39m\u001b[23m \"YVP 10 2018-07-12 16\", \"YVP 10 2018-07-12 433\", \"YVP …\n"
          ],
          "name": "stdout"
        }
      ]
    },
    {
      "cell_type": "code",
      "metadata": {
        "id": "awS2zkzK93AD",
        "colab_type": "code",
        "colab": {}
      },
      "source": [
        "# union x and y\n",
        "species_richness <- union(species_richness_x, species_richness_y)"
      ],
      "execution_count": 36,
      "outputs": []
    },
    {
      "cell_type": "code",
      "metadata": {
        "id": "G4Mf_bKG3bIl",
        "colab_type": "code",
        "colab": {
          "base_uri": "https://localhost:8080/",
          "height": 204
        },
        "outputId": "5ff6c63f-a9eb-40f0-c9b8-c2bb08fb23e3"
      },
      "source": [
        "species_richness <- species_richness %>%\n",
        "  select(!mask) %>%\n",
        "  group_by(survey_code) %>%\n",
        "  arrange(survey_code, species_key) %>% glimpse()"
      ],
      "execution_count": 37,
      "outputs": [
        {
          "output_type": "stream",
          "text": [
            "Rows: 6,104\n",
            "Columns: 8\n",
            "Groups: survey_code [187]\n",
            "$ survey_code    \u001b[3m\u001b[90m<chr>\u001b[39m\u001b[23m \"YVP 10 2017-06-09\", \"YVP 10 2017-06-09\", \"YVP 10 2017…\n",
            "$ plot_code      \u001b[3m\u001b[90m<chr>\u001b[39m\u001b[23m \"YVP 10\", \"YVP 10\", \"YVP 10\", \"YVP 10\", \"YVP 10\", \"YVP…\n",
            "$ year           \u001b[3m\u001b[90m<chr>\u001b[39m\u001b[23m \"2017\", \"2017\", \"2017\", \"2017\", \"2017\", \"2017\", \"2017\"…\n",
            "$ plot_loc       \u001b[3m\u001b[90m<chr>\u001b[39m\u001b[23m \"NA\", \"NA\", \"NA\", \"NA\", \"NA\", \"NA\", \"NA\", \"NA\", \"NA\", …\n",
            "$ plot_rep       \u001b[3m\u001b[90m<chr>\u001b[39m\u001b[23m \"NA\", \"NA\", \"NA\", \"NA\", \"NA\", \"NA\", \"NA\", \"NA\", \"NA\", …\n",
            "$ plot_num       \u001b[3m\u001b[90m<int>\u001b[39m\u001b[23m 10, 10, 10, 10, 10, 10, 10, 10, 10, 10, 10, 10, 10, 10…\n",
            "$ detection_type \u001b[3m\u001b[90m<chr>\u001b[39m\u001b[23m \"cover_est\", \"cover_est\", \"cover_est\", \"cover_est\", \"s…\n",
            "$ species_key    \u001b[3m\u001b[90m<int>\u001b[39m\u001b[23m 5, 37, 39, 51, 72, 82, 84, 90, 153, 163, 169, 187, 202…\n"
          ],
          "name": "stdout"
        }
      ]
    },
    {
      "cell_type": "markdown",
      "metadata": {
        "id": "v4bCekzq5QRR",
        "colab_type": "text"
      },
      "source": [
        "# Join "
      ]
    },
    {
      "cell_type": "markdown",
      "metadata": {
        "id": "zfqtGrs6h4Cd",
        "colab_type": "text"
      },
      "source": [
        "## location_position_classification"
      ]
    },
    {
      "cell_type": "code",
      "metadata": {
        "id": "SoibA4ey7F71",
        "colab_type": "code",
        "colab": {}
      },
      "source": [
        "species_richness <- species_richness %>%\n",
        "  left_join(df_position_classification, by = c(\"plot_num\" = \"grid_point\"))"
      ],
      "execution_count": 38,
      "outputs": []
    },
    {
      "cell_type": "markdown",
      "metadata": {
        "id": "di6xaYvLh8y2",
        "colab_type": "text"
      },
      "source": [
        "## vegetation_species_metadata"
      ]
    },
    {
      "cell_type": "code",
      "metadata": {
        "id": "DRh72yW09BfJ",
        "colab_type": "code",
        "colab": {}
      },
      "source": [
        "species_richness <- species_richness %>%\n",
        "  left_join(df_species_metadata, by = c(\"species_key\" = \"key_plant_species\"))"
      ],
      "execution_count": 39,
      "outputs": []
    },
    {
      "cell_type": "code",
      "metadata": {
        "id": "H2qwvdd0khxD",
        "colab_type": "code",
        "colab": {
          "base_uri": "https://localhost:8080/",
          "height": 85
        },
        "outputId": "ccef1f55-9c30-4c0d-8228-ae8aa279e3da"
      },
      "source": [
        "names(species_richness)"
      ],
      "execution_count": 42,
      "outputs": [
        {
          "output_type": "display_data",
          "data": {
            "text/plain": [
              " [1] \"survey_code\"                 \"plot_code\"                  \n",
              " [3] \"year\"                        \"plot_loc\"                   \n",
              " [5] \"plot_rep\"                    \"plot_num\"                   \n",
              " [7] \"aspect_mean_deg\"             \"elevation_mean_m\"           \n",
              " [9] \"slope_mean_deg\"              \"cover_type_2016_gridVeg\"    \n",
              "[11] \"type3_vegetation_indicators\" \"type4_indicators_history\"   \n",
              "[13] \"detection_type\"              \"species_key\"                \n",
              "[15] \"key_plant_code\"              \"plant_name_sci\"             \n",
              "[17] \"plant_name_common\"           \"plant_native_status\"        \n",
              "[19] \"plant_life_cycle\"            \"plant_life_form\"            "
            ],
            "text/latex": "\\begin{enumerate*}\n\\item 'survey\\_code'\n\\item 'plot\\_code'\n\\item 'year'\n\\item 'plot\\_loc'\n\\item 'plot\\_rep'\n\\item 'plot\\_num'\n\\item 'aspect\\_mean\\_deg'\n\\item 'elevation\\_mean\\_m'\n\\item 'slope\\_mean\\_deg'\n\\item 'cover\\_type\\_2016\\_gridVeg'\n\\item 'type3\\_vegetation\\_indicators'\n\\item 'type4\\_indicators\\_history'\n\\item 'detection\\_type'\n\\item 'species\\_key'\n\\item 'key\\_plant\\_code'\n\\item 'plant\\_name\\_sci'\n\\item 'plant\\_name\\_common'\n\\item 'plant\\_native\\_status'\n\\item 'plant\\_life\\_cycle'\n\\item 'plant\\_life\\_form'\n\\end{enumerate*}\n",
            "text/markdown": "1. 'survey_code'\n2. 'plot_code'\n3. 'year'\n4. 'plot_loc'\n5. 'plot_rep'\n6. 'plot_num'\n7. 'aspect_mean_deg'\n8. 'elevation_mean_m'\n9. 'slope_mean_deg'\n10. 'cover_type_2016_gridVeg'\n11. 'type3_vegetation_indicators'\n12. 'type4_indicators_history'\n13. 'detection_type'\n14. 'species_key'\n15. 'key_plant_code'\n16. 'plant_name_sci'\n17. 'plant_name_common'\n18. 'plant_native_status'\n19. 'plant_life_cycle'\n20. 'plant_life_form'\n\n\n",
            "text/html": [
              "<style>\n",
              ".list-inline {list-style: none; margin:0; padding: 0}\n",
              ".list-inline>li {display: inline-block}\n",
              ".list-inline>li:not(:last-child)::after {content: \"\\00b7\"; padding: 0 .5ex}\n",
              "</style>\n",
              "<ol class=list-inline><li>'survey_code'</li><li>'plot_code'</li><li>'year'</li><li>'plot_loc'</li><li>'plot_rep'</li><li>'plot_num'</li><li>'aspect_mean_deg'</li><li>'elevation_mean_m'</li><li>'slope_mean_deg'</li><li>'cover_type_2016_gridVeg'</li><li>'type3_vegetation_indicators'</li><li>'type4_indicators_history'</li><li>'detection_type'</li><li>'species_key'</li><li>'key_plant_code'</li><li>'plant_name_sci'</li><li>'plant_name_common'</li><li>'plant_native_status'</li><li>'plant_life_cycle'</li><li>'plant_life_form'</li></ol>\n"
            ]
          },
          "metadata": {
            "tags": []
          }
        }
      ]
    },
    {
      "cell_type": "code",
      "metadata": {
        "id": "hp41f18ylJd8",
        "colab_type": "code",
        "colab": {}
      },
      "source": [
        "# reorder columns\n",
        "species_richness <- species_richness %>%\n",
        "  select(1:6, 9:14, 7, 8, 15:20)"
      ],
      "execution_count": 43,
      "outputs": []
    },
    {
      "cell_type": "code",
      "metadata": {
        "id": "3Ab4cS5Ssn34",
        "colab_type": "code",
        "colab": {
          "base_uri": "https://localhost:8080/",
          "height": 408
        },
        "outputId": "613c9400-7779-409c-ba75-998d4c311f54"
      },
      "source": [
        "species_richness %>% glimpse()"
      ],
      "execution_count": 44,
      "outputs": [
        {
          "output_type": "stream",
          "text": [
            "Rows: 6,104\n",
            "Columns: 20\n",
            "Groups: survey_code [187]\n",
            "$ survey_code                 \u001b[3m\u001b[90m<chr>\u001b[39m\u001b[23m \"YVP 10 2017-06-09\", \"YVP 10 2017-06-09\",…\n",
            "$ plot_code                   \u001b[3m\u001b[90m<chr>\u001b[39m\u001b[23m \"YVP 10\", \"YVP 10\", \"YVP 10\", \"YVP 10\", \"…\n",
            "$ year                        \u001b[3m\u001b[90m<chr>\u001b[39m\u001b[23m \"2017\", \"2017\", \"2017\", \"2017\", \"2017\", \"…\n",
            "$ plot_loc                    \u001b[3m\u001b[90m<chr>\u001b[39m\u001b[23m \"NA\", \"NA\", \"NA\", \"NA\", \"NA\", \"NA\", \"NA\",…\n",
            "$ plot_rep                    \u001b[3m\u001b[90m<chr>\u001b[39m\u001b[23m \"NA\", \"NA\", \"NA\", \"NA\", \"NA\", \"NA\", \"NA\",…\n",
            "$ plot_num                    \u001b[3m\u001b[90m<int>\u001b[39m\u001b[23m 10, 10, 10, 10, 10, 10, 10, 10, 10, 10, 1…\n",
            "$ slope_mean_deg              \u001b[3m\u001b[90m<dbl>\u001b[39m\u001b[23m 20.794, 20.794, 20.794, 20.794, 20.794, 2…\n",
            "$ cover_type_2016_gridVeg     \u001b[3m\u001b[90m<chr>\u001b[39m\u001b[23m \"non-irrigated grasslands\", \"non-irrigate…\n",
            "$ type3_vegetation_indicators \u001b[3m\u001b[90m<chr>\u001b[39m\u001b[23m \"wooded draw\", \"wooded draw\", \"wooded dra…\n",
            "$ type4_indicators_history    \u001b[3m\u001b[90m<chr>\u001b[39m\u001b[23m \"wooded draw\", \"wooded draw\", \"wooded dra…\n",
            "$ detection_type              \u001b[3m\u001b[90m<chr>\u001b[39m\u001b[23m \"cover_est\", \"cover_est\", \"cover_est\", \"c…\n",
            "$ species_key                 \u001b[3m\u001b[90m<int>\u001b[39m\u001b[23m 5, 37, 39, 51, 72, 82, 84, 90, 153, 163, …\n",
            "$ aspect_mean_deg             \u001b[3m\u001b[90m<dbl>\u001b[39m\u001b[23m 18.8095, 18.8095, 18.8095, 18.8095, 18.80…\n",
            "$ elevation_mean_m            \u001b[3m\u001b[90m<dbl>\u001b[39m\u001b[23m 1146.9, 1146.9, 1146.9, 1146.9, 1146.9, 1…\n",
            "$ key_plant_code              \u001b[3m\u001b[90m<chr>\u001b[39m\u001b[23m \"ACHMIL\", \"ANTE_SP\", \"APEINT\", \"ARECON\", …\n",
            "$ plant_name_sci              \u001b[3m\u001b[90m<chr>\u001b[39m\u001b[23m \"Achillea millefolium\", \"Antennaria spp.\"…\n",
            "$ plant_name_common           \u001b[3m\u001b[90m<chr>\u001b[39m\u001b[23m \"western yarrow\", \"pussytoes\", \"dense sil…\n",
            "$ plant_native_status         \u001b[3m\u001b[90m<chr>\u001b[39m\u001b[23m \"native\", \"native\", \"nonnative\", \"native\"…\n",
            "$ plant_life_cycle            \u001b[3m\u001b[90m<chr>\u001b[39m\u001b[23m \"perennial\", \"perennial\", \"annual\", \"pere…\n",
            "$ plant_life_form             \u001b[3m\u001b[90m<chr>\u001b[39m\u001b[23m \"forb\", \"forb\", \"graminoid\", \"forb\", \"for…\n"
          ],
          "name": "stdout"
        }
      ]
    },
    {
      "cell_type": "markdown",
      "metadata": {
        "id": "dZePEFVMs2TG",
        "colab_type": "text"
      },
      "source": [
        "# Output"
      ]
    },
    {
      "cell_type": "code",
      "metadata": {
        "id": "eis0tV1Ls1O-",
        "colab_type": "code",
        "colab": {}
      },
      "source": [
        "# output update 2020-07-21\n",
        "write_csv(species_richness, path = \"yvp_species_richness-WRANGLE.csv\")"
      ],
      "execution_count": 45,
      "outputs": []
    }
  ]
}