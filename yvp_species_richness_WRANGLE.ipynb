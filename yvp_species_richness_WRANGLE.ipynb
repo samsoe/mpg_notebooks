{
  "nbformat": 4,
  "nbformat_minor": 0,
  "metadata": {
    "colab": {
      "name": "yvp_species_richness-WRANGLE.ipynb",
      "provenance": [],
      "collapsed_sections": [],
      "include_colab_link": true
    },
    "language_info": {
      "codemirror_mode": "r",
      "file_extension": ".r",
      "mimetype": "text/x-r-source",
      "name": "R",
      "pygments_lexer": "r",
      "version": "3.3.1"
    },
    "kernelspec": {
      "display_name": "R",
      "language": "R",
      "name": "ir"
    }
  },
  "cells": [
    {
      "cell_type": "markdown",
      "metadata": {
        "id": "view-in-github",
        "colab_type": "text"
      },
      "source": [
        "<a href=\"https://colab.research.google.com/github/samsoe/mpg_notebooks/blob/master/yvp_species_richness_WRANGLE.ipynb\" target=\"_parent\"><img src=\"https://colab.research.google.com/assets/colab-badge.svg\" alt=\"Open In Colab\"/></a>"
      ]
    },
    {
      "cell_type": "markdown",
      "metadata": {
        "id": "YnczPP3cJIzL",
        "colab_type": "text"
      },
      "source": [
        "# Documentation"
      ]
    },
    {
      "cell_type": "markdown",
      "metadata": {
        "id": "nmfMradDJLix",
        "colab_type": "text"
      },
      "source": [
        "[Readme fixed plot vegetation data](https://docs.google.com/document/d/16-Aq8u9Rudd78fSzfjvpCXyQgE-BstC-d2PjYfmLtcw/edit?usp=sharing)"
      ]
    },
    {
      "cell_type": "markdown",
      "metadata": {
        "id": "BhOI1uU2Koum",
        "colab_type": "text"
      },
      "source": [
        "# Security"
      ]
    },
    {
      "cell_type": "markdown",
      "metadata": {
        "id": "hgB3r3wvA9Pn",
        "colab_type": "text"
      },
      "source": [
        "* The user must load a `json` file containing the BigQuery API key into the local directory `/content/...`\n",
        "* The user must have a Google Maps API key to enable mapping. \n",
        "   * CAUTION make sure the key is deleted from the current instance of the notebook before sharing"
      ]
    },
    {
      "cell_type": "markdown",
      "metadata": {
        "id": "MnG0ah7OA59c",
        "colab_type": "text"
      },
      "source": [
        "# Tools"
      ]
    },
    {
      "cell_type": "code",
      "metadata": {
        "id": "Y6y4EWeYpVBJ",
        "colab_type": "code",
        "colab": {}
      },
      "source": [
        "library(tidyverse)"
      ],
      "execution_count": 65,
      "outputs": []
    },
    {
      "cell_type": "markdown",
      "metadata": {
        "id": "eUw-It3JBBrQ",
        "colab_type": "text"
      },
      "source": [
        "* Remember that the file containing authorization keys for Big Query must be loaded into the virutual envrionment manually."
      ]
    },
    {
      "cell_type": "code",
      "metadata": {
        "id": "VxYkYhQTKouo",
        "colab_type": "code",
        "colab": {
          "base_uri": "https://localhost:8080/",
          "height": 68
        },
        "outputId": "f5c26d82-4e65-43c4-918b-f854c2e42cc5"
      },
      "source": [
        "install.packages(\"bigrquery\")\n",
        "library(bigrquery)"
      ],
      "execution_count": 66,
      "outputs": [
        {
          "output_type": "stream",
          "text": [
            "Installing package into ‘/usr/local/lib/R/site-library’\n",
            "(as ‘lib’ is unspecified)\n",
            "\n"
          ],
          "name": "stderr"
        }
      ]
    },
    {
      "cell_type": "markdown",
      "metadata": {
        "id": "H1I9aQ_SBH3n",
        "colab_type": "text"
      },
      "source": [
        "# Source"
      ]
    },
    {
      "cell_type": "markdown",
      "metadata": {
        "id": "Ia2nCN3_nU4A",
        "colab_type": "text"
      },
      "source": [
        "In this view of the yvp data, species from the cover-based and additional species summaries will be vertically combined for each grid point. Since the additional species summary records species presence only, this view will be limited entirely to species presence. The result will be the plant species richness for each grid point, and this is useful for comparing plant communities, finding the locations of rarer species, or identifying grid points where non-native species are just getting established. After these data are processed, we will want to retain knowledge of whether a species was detected during point-intercept of additional species surveys so that we can evaluate the potential rarity of a given species. The new variable detection_type will allow us to do this."
      ]
    },
    {
      "cell_type": "markdown",
      "metadata": {
        "id": "Bfb7MHpGBJMO",
        "colab_type": "text"
      },
      "source": [
        "## Database Connection"
      ]
    },
    {
      "cell_type": "code",
      "metadata": {
        "id": "ihI70_BPKouq",
        "colab_type": "code",
        "colab": {}
      },
      "source": [
        "# BigQuery API Key\n",
        "bq_auth(path = \"/content/mpg-data-warehouse-api_key-master.json\")"
      ],
      "execution_count": 99,
      "outputs": []
    },
    {
      "cell_type": "code",
      "metadata": {
        "id": "8YxL8wHoBNxV",
        "colab_type": "code",
        "colab": {}
      },
      "source": [
        "Sys.setenv(BIGQUERY_TEST_PROJECT = \"mpg-data-warehouse\")"
      ],
      "execution_count": 100,
      "outputs": []
    },
    {
      "cell_type": "code",
      "metadata": {
        "id": "yevfizb5BQXm",
        "colab_type": "code",
        "colab": {}
      },
      "source": [
        "billing <- bq_test_project()"
      ],
      "execution_count": 101,
      "outputs": []
    },
    {
      "cell_type": "markdown",
      "metadata": {
        "id": "JN4Z34yRp2-k",
        "colab_type": "text"
      },
      "source": [
        "### yvp_vegetation_cover"
      ]
    },
    {
      "cell_type": "code",
      "metadata": {
        "id": "26UqASAoB2p0",
        "colab_type": "code",
        "colab": {}
      },
      "source": [
        "sql_vegetation_cover <- \n",
        "\"\n",
        "SELECT\n",
        "  CONCAT(plot_code, \\\" \\\", date) AS survey_code,\n",
        "  plot_code,\n",
        "  SUBSTR(SAFE_CAST(date AS STRING), 0, 4) AS year,\n",
        "  plot_loc,\n",
        "  plot_rep,\n",
        "  plot_num,\n",
        "  (\\\"cover_est\\\") AS detection_type,\n",
        "  species_key\n",
        "FROM\n",
        "  `mpg-data-warehouse.vegetation_fixed_plot_yvp.yvp_vegetation_cover`\n",
        "\""
      ],
      "execution_count": 74,
      "outputs": []
    },
    {
      "cell_type": "code",
      "metadata": {
        "id": "VSXOoJkcB3dn",
        "colab_type": "code",
        "colab": {
          "base_uri": "https://localhost:8080/",
          "height": 51
        },
        "outputId": "53249697-dfd8-4d96-ecbf-50f3f037f31a"
      },
      "source": [
        "bq_vegetation_cover <- bq_project_query(billing, sql_vegetation_cover)"
      ],
      "execution_count": 76,
      "outputs": [
        {
          "output_type": "stream",
          "text": [
            "Auto-refreshing stale OAuth token.\n",
            "\n"
          ],
          "name": "stderr"
        }
      ]
    },
    {
      "cell_type": "code",
      "metadata": {
        "id": "KpZnymzzB5Ms",
        "colab_type": "code",
        "colab": {}
      },
      "source": [
        "tb_vegetation_cover <- bq_table_download(bq_vegetation_cover)"
      ],
      "execution_count": 77,
      "outputs": []
    },
    {
      "cell_type": "code",
      "metadata": {
        "id": "VcoNMCO1B6gY",
        "colab_type": "code",
        "colab": {}
      },
      "source": [
        "df_vegetation_cover <- as.data.frame(tb_vegetation_cover)"
      ],
      "execution_count": 78,
      "outputs": []
    },
    {
      "cell_type": "code",
      "metadata": {
        "id": "_Fbm6COOIgg_",
        "colab_type": "code",
        "colab": {
          "base_uri": "https://localhost:8080/",
          "height": 187
        },
        "outputId": "ff4bdfe1-f0b8-44f8-e04a-736311d8c1f9"
      },
      "source": [
        "df_vegetation_cover %>% glimpse() "
      ],
      "execution_count": 79,
      "outputs": [
        {
          "output_type": "stream",
          "text": [
            "Rows: 21,682\n",
            "Columns: 8\n",
            "$ survey_code    \u001b[3m\u001b[90m<chr>\u001b[39m\u001b[23m \"YVP N7 2017-06-08\", \"YVP N7 2017-06-08\", \"YVP N7 2017…\n",
            "$ plot_code      \u001b[3m\u001b[90m<chr>\u001b[39m\u001b[23m \"YVP N7\", \"YVP N7\", \"YVP N7\", \"YVP N7\", \"YVP N7\", \"YVP…\n",
            "$ year           \u001b[3m\u001b[90m<chr>\u001b[39m\u001b[23m \"2017\", \"2017\", \"2017\", \"2017\", \"2017\", \"2017\", \"2017\"…\n",
            "$ plot_loc       \u001b[3m\u001b[90m<chr>\u001b[39m\u001b[23m \"N\", \"N\", \"N\", \"N\", \"N\", \"N\", \"N\", \"N\", \"N\", \"N\", \"N\",…\n",
            "$ plot_rep       \u001b[3m\u001b[90m<chr>\u001b[39m\u001b[23m \"NA\", \"NA\", \"NA\", \"NA\", \"NA\", \"NA\", \"NA\", \"NA\", \"NA\", …\n",
            "$ plot_num       \u001b[3m\u001b[90m<int>\u001b[39m\u001b[23m 7, 7, 7, 7, 7, 7, 7, 7, 7, 7, 7, 7, 7, 7, 7, 7, 7, 7, …\n",
            "$ detection_type \u001b[3m\u001b[90m<chr>\u001b[39m\u001b[23m \"cover_est\", \"cover_est\", \"cover_est\", \"cover_est\", \"c…\n",
            "$ species_key    \u001b[3m\u001b[90m<int>\u001b[39m\u001b[23m 82, 113, 153, 187, 233, 266, 286, 320, 389, 411, 437, …\n"
          ],
          "name": "stdout"
        }
      ]
    },
    {
      "cell_type": "markdown",
      "metadata": {
        "id": "Fws0jJQJmiqN",
        "colab_type": "text"
      },
      "source": [
        "### yvp_additional_species"
      ]
    },
    {
      "cell_type": "code",
      "metadata": {
        "id": "A0b7sFbomnQI",
        "colab_type": "code",
        "colab": {}
      },
      "source": [
        "sql_additional_species <- \"\n",
        "SELECT \n",
        "  CONCAT(plot_code, \\\" \\\", date) AS survey_code,\n",
        "  plot_code,\n",
        "  SUBSTR(SAFE_CAST(date AS STRING), 0, 4) AS year,\n",
        "  plot_loc,\n",
        "  plot_rep,\n",
        "  plot_num,\n",
        "  (\\\"supplemental_obs\\\") AS detection_type,\n",
        "  species_key\n",
        "FROM\n",
        "  `mpg-data-warehouse.vegetation_fixed_plot_yvp.yvp_additional_species`\n",
        "\""
      ],
      "execution_count": 105,
      "outputs": []
    },
    {
      "cell_type": "code",
      "metadata": {
        "id": "r6DRQa8UnfyC",
        "colab_type": "code",
        "colab": {}
      },
      "source": [
        "bq_additional_species <- bq_project_query(billing, sql_additional_species)"
      ],
      "execution_count": 107,
      "outputs": []
    },
    {
      "cell_type": "code",
      "metadata": {
        "id": "M2BeqR2cnseW",
        "colab_type": "code",
        "colab": {}
      },
      "source": [
        "tb_additional_species <- bq_table_download(bq_additional_species)"
      ],
      "execution_count": 108,
      "outputs": []
    },
    {
      "cell_type": "code",
      "metadata": {
        "id": "durzVSnInsbc",
        "colab_type": "code",
        "colab": {}
      },
      "source": [
        "df_additional_species <- as.data.frame(tb_additional_species)"
      ],
      "execution_count": 109,
      "outputs": []
    },
    {
      "cell_type": "code",
      "metadata": {
        "id": "ICrJWRYYn4gb",
        "colab_type": "code",
        "colab": {
          "base_uri": "https://localhost:8080/",
          "height": 187
        },
        "outputId": "381adbc5-3ea2-473c-f3a1-98f1309b7f01"
      },
      "source": [
        "df_additional_species %>% glimpse()"
      ],
      "execution_count": 110,
      "outputs": [
        {
          "output_type": "stream",
          "text": [
            "Rows: 1,280\n",
            "Columns: 8\n",
            "$ survey_code    \u001b[3m\u001b[90m<chr>\u001b[39m\u001b[23m \"YVP 12 2018-07-10\", \"YVP 12 2018-07-10\", \"YVP 12 2018…\n",
            "$ plot_code      \u001b[3m\u001b[90m<chr>\u001b[39m\u001b[23m \"YVP 12\", \"YVP 12\", \"YVP 12\", \"YVP 12\", \"YVP 12\", \"YVP…\n",
            "$ year           \u001b[3m\u001b[90m<chr>\u001b[39m\u001b[23m \"2018\", \"2018\", \"2018\", \"2018\", \"2018\", \"2018\", \"2018\"…\n",
            "$ plot_loc       \u001b[3m\u001b[90m<chr>\u001b[39m\u001b[23m \"NA\", \"NA\", \"NA\", \"NA\", \"NA\", \"NA\", \"NA\", \"NA\", \"NA\", …\n",
            "$ plot_rep       \u001b[3m\u001b[90m<chr>\u001b[39m\u001b[23m \"NA\", \"NA\", \"NA\", \"NA\", \"NA\", \"NA\", \"NA\", \"NA\", \"NA\", …\n",
            "$ plot_num       \u001b[3m\u001b[90m<int>\u001b[39m\u001b[23m 12, 12, 12, 12, 12, 246, 246, 246, 246, 571, 571, 571,…\n",
            "$ detection_type \u001b[3m\u001b[90m<chr>\u001b[39m\u001b[23m \"supplemental_obs\", \"supplemental_obs\", \"supplemental_…\n",
            "$ species_key    \u001b[3m\u001b[90m<int>\u001b[39m\u001b[23m 72, 179, 426, 63, 484, 402, 53, 274, 334, 496, 240, 56…\n"
          ],
          "name": "stdout"
        }
      ]
    },
    {
      "cell_type": "markdown",
      "metadata": {
        "id": "CnYKNnT0I4ZF",
        "colab_type": "text"
      },
      "source": [
        "# Wrangle"
      ]
    },
    {
      "cell_type": "markdown",
      "metadata": {
        "id": "AZFkpMUrJBo9",
        "colab_type": "text"
      },
      "source": [
        "With the data from yvp_vegetation_cover, species lists must first be summarized as distinct key_plant_species values within survey_code values. This is because the raw data are estimated in 10 subplots per transect, and species names will often be redundant among subplots. Then the yvp_vegetation_cover data can be vertically bound to the yvp_additional_species data after some light coercion of field names.\n",
        "\n",
        "One caution with these data. According to protocol, a plant species is only included in the additional species table if it was not found during cover-based surveys. In practice, I assume that this is routinely violated because it isn’t easy to remember all the species surveyed, nor is it efficient to check time after time. It’s important that we eliminate duplicate species for a given grid point. When duplication exists, default to detection_type = “cover_est”. This will prevent upward bias of richness estimates and will make downstream analyses less complicated. Some operation that again summarizes distinct key_plant_species values within survey_code values will be necessary. For additional information on this point, please see instructions for a similar operation with the point-intercept data in the gridVeg [Readme](https://docs.google.com/document/d/1JWnhxNjeSQZkSnGhtHP68i_l1mDj4vPFMBdUvGqN0TA/edit#heading=h.hnb7ex8jlp42).\n"
      ]
    },
    {
      "cell_type": "markdown",
      "metadata": {
        "id": "ysIVNx_K4Gyc",
        "colab_type": "text"
      },
      "source": [
        "## Remove duplicates"
      ]
    },
    {
      "cell_type": "markdown",
      "metadata": {
        "id": "7PBA6mwdn-gJ",
        "colab_type": "text"
      },
      "source": [
        "### yvp_vegetation_cover"
      ]
    },
    {
      "cell_type": "code",
      "metadata": {
        "id": "Cofz7mosKJZm",
        "colab_type": "code",
        "colab": {
          "base_uri": "https://localhost:8080/",
          "height": 187
        },
        "outputId": "a6a3f02e-331f-4390-a9a3-939d0f2222ce"
      },
      "source": [
        "df_vegetation_cover %>% glimpse()"
      ],
      "execution_count": 81,
      "outputs": [
        {
          "output_type": "stream",
          "text": [
            "Rows: 21,682\n",
            "Columns: 8\n",
            "$ survey_code    \u001b[3m\u001b[90m<chr>\u001b[39m\u001b[23m \"YVP N7 2017-06-08\", \"YVP N7 2017-06-08\", \"YVP N7 2017…\n",
            "$ plot_code      \u001b[3m\u001b[90m<chr>\u001b[39m\u001b[23m \"YVP N7\", \"YVP N7\", \"YVP N7\", \"YVP N7\", \"YVP N7\", \"YVP…\n",
            "$ year           \u001b[3m\u001b[90m<chr>\u001b[39m\u001b[23m \"2017\", \"2017\", \"2017\", \"2017\", \"2017\", \"2017\", \"2017\"…\n",
            "$ plot_loc       \u001b[3m\u001b[90m<chr>\u001b[39m\u001b[23m \"N\", \"N\", \"N\", \"N\", \"N\", \"N\", \"N\", \"N\", \"N\", \"N\", \"N\",…\n",
            "$ plot_rep       \u001b[3m\u001b[90m<chr>\u001b[39m\u001b[23m \"NA\", \"NA\", \"NA\", \"NA\", \"NA\", \"NA\", \"NA\", \"NA\", \"NA\", …\n",
            "$ plot_num       \u001b[3m\u001b[90m<int>\u001b[39m\u001b[23m 7, 7, 7, 7, 7, 7, 7, 7, 7, 7, 7, 7, 7, 7, 7, 7, 7, 7, …\n",
            "$ detection_type \u001b[3m\u001b[90m<chr>\u001b[39m\u001b[23m \"cover_est\", \"cover_est\", \"cover_est\", \"cover_est\", \"c…\n",
            "$ species_key    \u001b[3m\u001b[90m<int>\u001b[39m\u001b[23m 82, 113, 153, 187, 233, 266, 286, 320, 389, 411, 437, …\n"
          ],
          "name": "stdout"
        }
      ]
    },
    {
      "cell_type": "code",
      "metadata": {
        "id": "ZyjOWuewcPKs",
        "colab_type": "code",
        "colab": {
          "base_uri": "https://localhost:8080/",
          "height": 204
        },
        "outputId": "cc2f02e0-49a4-4122-8b33-232e7a8c56fd"
      },
      "source": [
        "# remove duplicate species records per survey\n",
        "df_vegetation_cover <- df_vegetation_cover %>%\n",
        "  group_by(survey_code) %>%\n",
        "  distinct() %>%\n",
        "  arrange(desc(survey_code), species_key) %>% glimpse()"
      ],
      "execution_count": 131,
      "outputs": [
        {
          "output_type": "stream",
          "text": [
            "Rows: 5,292\n",
            "Columns: 8\n",
            "Groups: survey_code [175]\n",
            "$ survey_code    \u001b[3m\u001b[90m<chr>\u001b[39m\u001b[23m \"YVP NC294 2019-05-09\", \"YVP NC294 2019-05-09\", \"YVP N…\n",
            "$ plot_code      \u001b[3m\u001b[90m<chr>\u001b[39m\u001b[23m \"YVP NC294\", \"YVP NC294\", \"YVP NC294\", \"YVP NC294\", \"Y…\n",
            "$ year           \u001b[3m\u001b[90m<chr>\u001b[39m\u001b[23m \"2019\", \"2019\", \"2019\", \"2019\", \"2019\", \"2019\", \"2019\"…\n",
            "$ plot_loc       \u001b[3m\u001b[90m<chr>\u001b[39m\u001b[23m \"N\", \"N\", \"N\", \"N\", \"N\", \"N\", \"N\", \"N\", \"N\", \"N\", \"N\",…\n",
            "$ plot_rep       \u001b[3m\u001b[90m<chr>\u001b[39m\u001b[23m \"C\", \"C\", \"C\", \"C\", \"C\", \"C\", \"C\", \"C\", \"C\", \"C\", \"C\",…\n",
            "$ plot_num       \u001b[3m\u001b[90m<int>\u001b[39m\u001b[23m 294, 294, 294, 294, 294, 294, 294, 294, 294, 294, 294,…\n",
            "$ detection_type \u001b[3m\u001b[90m<chr>\u001b[39m\u001b[23m \"cover_est\", \"cover_est\", \"cover_est\", \"cover_est\", \"c…\n",
            "$ species_key    \u001b[3m\u001b[90m<int>\u001b[39m\u001b[23m 5, 20, 39, 52, 57, 67, 72, 74, 82, 90, 153, 154, 174, …\n"
          ],
          "name": "stdout"
        }
      ]
    },
    {
      "cell_type": "markdown",
      "metadata": {
        "id": "GZGdgx0XoJXj",
        "colab_type": "text"
      },
      "source": [
        "### yvp_additional_species"
      ]
    },
    {
      "cell_type": "code",
      "metadata": {
        "id": "qdU3Oh9voFGI",
        "colab_type": "code",
        "colab": {
          "base_uri": "https://localhost:8080/",
          "height": 187
        },
        "outputId": "c895fb34-c500-4345-b918-b5a561ef1fdb"
      },
      "source": [
        "df_additional_species %>% glimpse()"
      ],
      "execution_count": 111,
      "outputs": [
        {
          "output_type": "stream",
          "text": [
            "Rows: 1,280\n",
            "Columns: 8\n",
            "$ survey_code    \u001b[3m\u001b[90m<chr>\u001b[39m\u001b[23m \"YVP 12 2018-07-10\", \"YVP 12 2018-07-10\", \"YVP 12 2018…\n",
            "$ plot_code      \u001b[3m\u001b[90m<chr>\u001b[39m\u001b[23m \"YVP 12\", \"YVP 12\", \"YVP 12\", \"YVP 12\", \"YVP 12\", \"YVP…\n",
            "$ year           \u001b[3m\u001b[90m<chr>\u001b[39m\u001b[23m \"2018\", \"2018\", \"2018\", \"2018\", \"2018\", \"2018\", \"2018\"…\n",
            "$ plot_loc       \u001b[3m\u001b[90m<chr>\u001b[39m\u001b[23m \"NA\", \"NA\", \"NA\", \"NA\", \"NA\", \"NA\", \"NA\", \"NA\", \"NA\", …\n",
            "$ plot_rep       \u001b[3m\u001b[90m<chr>\u001b[39m\u001b[23m \"NA\", \"NA\", \"NA\", \"NA\", \"NA\", \"NA\", \"NA\", \"NA\", \"NA\", …\n",
            "$ plot_num       \u001b[3m\u001b[90m<int>\u001b[39m\u001b[23m 12, 12, 12, 12, 12, 246, 246, 246, 246, 571, 571, 571,…\n",
            "$ detection_type \u001b[3m\u001b[90m<chr>\u001b[39m\u001b[23m \"supplemental_obs\", \"supplemental_obs\", \"supplemental_…\n",
            "$ species_key    \u001b[3m\u001b[90m<int>\u001b[39m\u001b[23m 72, 179, 426, 63, 484, 402, 53, 274, 334, 496, 240, 56…\n"
          ],
          "name": "stdout"
        }
      ]
    },
    {
      "cell_type": "code",
      "metadata": {
        "id": "xeTRKyTEoFC_",
        "colab_type": "code",
        "colab": {
          "base_uri": "https://localhost:8080/",
          "height": 204
        },
        "outputId": "87f17d1c-2072-4d39-c47b-9bc323ce8589"
      },
      "source": [
        "# remove duplicates\n",
        "df_additional_species <- df_additional_species %>%\n",
        "  group_by(survey_code) %>%\n",
        "  distinct() %>%\n",
        "  arrange(desc(survey_code), species_key) %>% glimpse()"
      ],
      "execution_count": 130,
      "outputs": [
        {
          "output_type": "stream",
          "text": [
            "Rows: 1,275\n",
            "Columns: 8\n",
            "Groups: survey_code [178]\n",
            "$ survey_code    \u001b[3m\u001b[90m<chr>\u001b[39m\u001b[23m \"YVP NC294 2019-05-09\", \"YVP NC294 2019-05-09\", \"YVP N…\n",
            "$ plot_code      \u001b[3m\u001b[90m<chr>\u001b[39m\u001b[23m \"YVP NC294\", \"YVP NC294\", \"YVP NC294\", \"YVP NC294\", \"Y…\n",
            "$ year           \u001b[3m\u001b[90m<chr>\u001b[39m\u001b[23m \"2019\", \"2019\", \"2019\", \"2019\", \"2019\", \"2019\", \"2019\"…\n",
            "$ plot_loc       \u001b[3m\u001b[90m<chr>\u001b[39m\u001b[23m \"N\", \"N\", \"N\", \"N\", \"N\", \"N\", \"N\", \"N\", \"N\", \"N\", \"N\",…\n",
            "$ plot_rep       \u001b[3m\u001b[90m<chr>\u001b[39m\u001b[23m \"C\", \"C\", \"C\", \"C\", \"C\", \"C\", \"C\", \"C\", \"C\", \"C\", \"C\",…\n",
            "$ plot_num       \u001b[3m\u001b[90m<int>\u001b[39m\u001b[23m 294, 294, 294, 294, 294, 294, 294, 294, 294, 294, 294,…\n",
            "$ detection_type \u001b[3m\u001b[90m<chr>\u001b[39m\u001b[23m \"supplemental_obs\", \"supplemental_obs\", \"supplemental_…\n",
            "$ species_key    \u001b[3m\u001b[90m<int>\u001b[39m\u001b[23m 31, 36, 84, 178, 183, 316, 362, 36, 216, 316, 342, 362…\n"
          ],
          "name": "stdout"
        }
      ]
    },
    {
      "cell_type": "markdown",
      "metadata": {
        "id": "_YIqQyt44NR-",
        "colab_type": "text"
      },
      "source": [
        "## Combine dataframes"
      ]
    },
    {
      "cell_type": "code",
      "metadata": {
        "id": "xHrPqTn5oE_y",
        "colab_type": "code",
        "colab": {
          "base_uri": "https://localhost:8080/",
          "height": 204
        },
        "outputId": "2b5787b3-2005-4433-91b0-a02d2376bde5"
      },
      "source": [
        "species_richness <- union_all(df_vegetation_cover, df_additional_species) %>% glimpse()"
      ],
      "execution_count": 133,
      "outputs": [
        {
          "output_type": "stream",
          "text": [
            "Rows: 6,567\n",
            "Columns: 8\n",
            "Groups: survey_code [187]\n",
            "$ survey_code    \u001b[3m\u001b[90m<chr>\u001b[39m\u001b[23m \"YVP NC294 2019-05-09\", \"YVP NC294 2019-05-09\", \"YVP N…\n",
            "$ plot_code      \u001b[3m\u001b[90m<chr>\u001b[39m\u001b[23m \"YVP NC294\", \"YVP NC294\", \"YVP NC294\", \"YVP NC294\", \"Y…\n",
            "$ year           \u001b[3m\u001b[90m<chr>\u001b[39m\u001b[23m \"2019\", \"2019\", \"2019\", \"2019\", \"2019\", \"2019\", \"2019\"…\n",
            "$ plot_loc       \u001b[3m\u001b[90m<chr>\u001b[39m\u001b[23m \"N\", \"N\", \"N\", \"N\", \"N\", \"N\", \"N\", \"N\", \"N\", \"N\", \"N\",…\n",
            "$ plot_rep       \u001b[3m\u001b[90m<chr>\u001b[39m\u001b[23m \"C\", \"C\", \"C\", \"C\", \"C\", \"C\", \"C\", \"C\", \"C\", \"C\", \"C\",…\n",
            "$ plot_num       \u001b[3m\u001b[90m<int>\u001b[39m\u001b[23m 294, 294, 294, 294, 294, 294, 294, 294, 294, 294, 294,…\n",
            "$ detection_type \u001b[3m\u001b[90m<chr>\u001b[39m\u001b[23m \"cover_est\", \"cover_est\", \"cover_est\", \"cover_est\", \"c…\n",
            "$ species_key    \u001b[3m\u001b[90m<int>\u001b[39m\u001b[23m 5, 20, 39, 52, 57, 67, 72, 74, 82, 90, 153, 154, 174, …\n"
          ],
          "name": "stdout"
        }
      ]
    },
    {
      "cell_type": "code",
      "metadata": {
        "id": "2QTpItz6oE8y",
        "colab_type": "code",
        "colab": {
          "base_uri": "https://localhost:8080/",
          "height": 1000
        },
        "outputId": "923a0290-7599-475a-f38d-6fecf76df8b4"
      },
      "source": [
        "# look for duplicates\n",
        "species_richness %>%\n",
        "  group_by(survey_code) %>%\n",
        "  filter(survey_code == \"YVP NC294 2019-05-09\") %>% \n",
        "  count(species_key) %>%\n",
        "  arrange(desc(n))"
      ],
      "execution_count": 152,
      "outputs": [
        {
          "output_type": "display_data",
          "data": {
            "text/plain": [
              "   survey_code          species_key n\n",
              "1  YVP NC294 2019-05-09 183         2\n",
              "2  YVP NC294 2019-05-09   5         1\n",
              "3  YVP NC294 2019-05-09  20         1\n",
              "4  YVP NC294 2019-05-09  31         1\n",
              "5  YVP NC294 2019-05-09  36         1\n",
              "6  YVP NC294 2019-05-09  39         1\n",
              "7  YVP NC294 2019-05-09  52         1\n",
              "8  YVP NC294 2019-05-09  57         1\n",
              "9  YVP NC294 2019-05-09  67         1\n",
              "10 YVP NC294 2019-05-09  72         1\n",
              "11 YVP NC294 2019-05-09  74         1\n",
              "12 YVP NC294 2019-05-09  82         1\n",
              "13 YVP NC294 2019-05-09  84         1\n",
              "14 YVP NC294 2019-05-09  90         1\n",
              "15 YVP NC294 2019-05-09 153         1\n",
              "16 YVP NC294 2019-05-09 154         1\n",
              "17 YVP NC294 2019-05-09 174         1\n",
              "18 YVP NC294 2019-05-09 178         1\n",
              "19 YVP NC294 2019-05-09 187         1\n",
              "20 YVP NC294 2019-05-09 202         1\n",
              "21 YVP NC294 2019-05-09 220         1\n",
              "22 YVP NC294 2019-05-09 222         1\n",
              "23 YVP NC294 2019-05-09 230         1\n",
              "24 YVP NC294 2019-05-09 239         1\n",
              "25 YVP NC294 2019-05-09 265         1\n",
              "26 YVP NC294 2019-05-09 286         1\n",
              "27 YVP NC294 2019-05-09 287         1\n",
              "28 YVP NC294 2019-05-09 307         1\n",
              "29 YVP NC294 2019-05-09 308         1\n",
              "30 YVP NC294 2019-05-09 316         1\n",
              "31 YVP NC294 2019-05-09 320         1\n",
              "32 YVP NC294 2019-05-09 342         1\n",
              "33 YVP NC294 2019-05-09 343         1\n",
              "34 YVP NC294 2019-05-09 355         1\n",
              "35 YVP NC294 2019-05-09 362         1\n",
              "36 YVP NC294 2019-05-09 402         1\n",
              "37 YVP NC294 2019-05-09 405         1\n",
              "38 YVP NC294 2019-05-09 411         1\n",
              "39 YVP NC294 2019-05-09 428         1\n",
              "40 YVP NC294 2019-05-09 437         1\n",
              "41 YVP NC294 2019-05-09 439         1\n",
              "42 YVP NC294 2019-05-09 484         1\n",
              "43 YVP NC294 2019-05-09 522         1\n",
              "44 YVP NC294 2019-05-09 529         1\n",
              "45 YVP NC294 2019-05-09 562         1\n",
              "46 YVP NC294 2019-05-09 576         1"
            ],
            "text/latex": "A grouped\\_df: 46 × 3\n\\begin{tabular}{lll}\n survey\\_code & species\\_key & n\\\\\n <chr> & <int> & <int>\\\\\n\\hline\n\t YVP NC294 2019-05-09 & 183 & 2\\\\\n\t YVP NC294 2019-05-09 &   5 & 1\\\\\n\t YVP NC294 2019-05-09 &  20 & 1\\\\\n\t YVP NC294 2019-05-09 &  31 & 1\\\\\n\t YVP NC294 2019-05-09 &  36 & 1\\\\\n\t YVP NC294 2019-05-09 &  39 & 1\\\\\n\t YVP NC294 2019-05-09 &  52 & 1\\\\\n\t YVP NC294 2019-05-09 &  57 & 1\\\\\n\t YVP NC294 2019-05-09 &  67 & 1\\\\\n\t YVP NC294 2019-05-09 &  72 & 1\\\\\n\t YVP NC294 2019-05-09 &  74 & 1\\\\\n\t YVP NC294 2019-05-09 &  82 & 1\\\\\n\t YVP NC294 2019-05-09 &  84 & 1\\\\\n\t YVP NC294 2019-05-09 &  90 & 1\\\\\n\t YVP NC294 2019-05-09 & 153 & 1\\\\\n\t YVP NC294 2019-05-09 & 154 & 1\\\\\n\t YVP NC294 2019-05-09 & 174 & 1\\\\\n\t YVP NC294 2019-05-09 & 178 & 1\\\\\n\t YVP NC294 2019-05-09 & 187 & 1\\\\\n\t YVP NC294 2019-05-09 & 202 & 1\\\\\n\t YVP NC294 2019-05-09 & 220 & 1\\\\\n\t YVP NC294 2019-05-09 & 222 & 1\\\\\n\t YVP NC294 2019-05-09 & 230 & 1\\\\\n\t YVP NC294 2019-05-09 & 239 & 1\\\\\n\t YVP NC294 2019-05-09 & 265 & 1\\\\\n\t YVP NC294 2019-05-09 & 286 & 1\\\\\n\t YVP NC294 2019-05-09 & 287 & 1\\\\\n\t YVP NC294 2019-05-09 & 307 & 1\\\\\n\t YVP NC294 2019-05-09 & 308 & 1\\\\\n\t YVP NC294 2019-05-09 & 316 & 1\\\\\n\t YVP NC294 2019-05-09 & 320 & 1\\\\\n\t YVP NC294 2019-05-09 & 342 & 1\\\\\n\t YVP NC294 2019-05-09 & 343 & 1\\\\\n\t YVP NC294 2019-05-09 & 355 & 1\\\\\n\t YVP NC294 2019-05-09 & 362 & 1\\\\\n\t YVP NC294 2019-05-09 & 402 & 1\\\\\n\t YVP NC294 2019-05-09 & 405 & 1\\\\\n\t YVP NC294 2019-05-09 & 411 & 1\\\\\n\t YVP NC294 2019-05-09 & 428 & 1\\\\\n\t YVP NC294 2019-05-09 & 437 & 1\\\\\n\t YVP NC294 2019-05-09 & 439 & 1\\\\\n\t YVP NC294 2019-05-09 & 484 & 1\\\\\n\t YVP NC294 2019-05-09 & 522 & 1\\\\\n\t YVP NC294 2019-05-09 & 529 & 1\\\\\n\t YVP NC294 2019-05-09 & 562 & 1\\\\\n\t YVP NC294 2019-05-09 & 576 & 1\\\\\n\\end{tabular}\n",
            "text/markdown": "\nA grouped_df: 46 × 3\n\n| survey_code &lt;chr&gt; | species_key &lt;int&gt; | n &lt;int&gt; |\n|---|---|---|\n| YVP NC294 2019-05-09 | 183 | 2 |\n| YVP NC294 2019-05-09 |   5 | 1 |\n| YVP NC294 2019-05-09 |  20 | 1 |\n| YVP NC294 2019-05-09 |  31 | 1 |\n| YVP NC294 2019-05-09 |  36 | 1 |\n| YVP NC294 2019-05-09 |  39 | 1 |\n| YVP NC294 2019-05-09 |  52 | 1 |\n| YVP NC294 2019-05-09 |  57 | 1 |\n| YVP NC294 2019-05-09 |  67 | 1 |\n| YVP NC294 2019-05-09 |  72 | 1 |\n| YVP NC294 2019-05-09 |  74 | 1 |\n| YVP NC294 2019-05-09 |  82 | 1 |\n| YVP NC294 2019-05-09 |  84 | 1 |\n| YVP NC294 2019-05-09 |  90 | 1 |\n| YVP NC294 2019-05-09 | 153 | 1 |\n| YVP NC294 2019-05-09 | 154 | 1 |\n| YVP NC294 2019-05-09 | 174 | 1 |\n| YVP NC294 2019-05-09 | 178 | 1 |\n| YVP NC294 2019-05-09 | 187 | 1 |\n| YVP NC294 2019-05-09 | 202 | 1 |\n| YVP NC294 2019-05-09 | 220 | 1 |\n| YVP NC294 2019-05-09 | 222 | 1 |\n| YVP NC294 2019-05-09 | 230 | 1 |\n| YVP NC294 2019-05-09 | 239 | 1 |\n| YVP NC294 2019-05-09 | 265 | 1 |\n| YVP NC294 2019-05-09 | 286 | 1 |\n| YVP NC294 2019-05-09 | 287 | 1 |\n| YVP NC294 2019-05-09 | 307 | 1 |\n| YVP NC294 2019-05-09 | 308 | 1 |\n| YVP NC294 2019-05-09 | 316 | 1 |\n| YVP NC294 2019-05-09 | 320 | 1 |\n| YVP NC294 2019-05-09 | 342 | 1 |\n| YVP NC294 2019-05-09 | 343 | 1 |\n| YVP NC294 2019-05-09 | 355 | 1 |\n| YVP NC294 2019-05-09 | 362 | 1 |\n| YVP NC294 2019-05-09 | 402 | 1 |\n| YVP NC294 2019-05-09 | 405 | 1 |\n| YVP NC294 2019-05-09 | 411 | 1 |\n| YVP NC294 2019-05-09 | 428 | 1 |\n| YVP NC294 2019-05-09 | 437 | 1 |\n| YVP NC294 2019-05-09 | 439 | 1 |\n| YVP NC294 2019-05-09 | 484 | 1 |\n| YVP NC294 2019-05-09 | 522 | 1 |\n| YVP NC294 2019-05-09 | 529 | 1 |\n| YVP NC294 2019-05-09 | 562 | 1 |\n| YVP NC294 2019-05-09 | 576 | 1 |\n\n",
            "text/html": [
              "<table>\n",
              "<caption>A grouped_df: 46 × 3</caption>\n",
              "<thead>\n",
              "\t<tr><th scope=col>survey_code</th><th scope=col>species_key</th><th scope=col>n</th></tr>\n",
              "\t<tr><th scope=col>&lt;chr&gt;</th><th scope=col>&lt;int&gt;</th><th scope=col>&lt;int&gt;</th></tr>\n",
              "</thead>\n",
              "<tbody>\n",
              "\t<tr><td>YVP NC294 2019-05-09</td><td>183</td><td>2</td></tr>\n",
              "\t<tr><td>YVP NC294 2019-05-09</td><td>  5</td><td>1</td></tr>\n",
              "\t<tr><td>YVP NC294 2019-05-09</td><td> 20</td><td>1</td></tr>\n",
              "\t<tr><td>YVP NC294 2019-05-09</td><td> 31</td><td>1</td></tr>\n",
              "\t<tr><td>YVP NC294 2019-05-09</td><td> 36</td><td>1</td></tr>\n",
              "\t<tr><td>YVP NC294 2019-05-09</td><td> 39</td><td>1</td></tr>\n",
              "\t<tr><td>YVP NC294 2019-05-09</td><td> 52</td><td>1</td></tr>\n",
              "\t<tr><td>YVP NC294 2019-05-09</td><td> 57</td><td>1</td></tr>\n",
              "\t<tr><td>YVP NC294 2019-05-09</td><td> 67</td><td>1</td></tr>\n",
              "\t<tr><td>YVP NC294 2019-05-09</td><td> 72</td><td>1</td></tr>\n",
              "\t<tr><td>YVP NC294 2019-05-09</td><td> 74</td><td>1</td></tr>\n",
              "\t<tr><td>YVP NC294 2019-05-09</td><td> 82</td><td>1</td></tr>\n",
              "\t<tr><td>YVP NC294 2019-05-09</td><td> 84</td><td>1</td></tr>\n",
              "\t<tr><td>YVP NC294 2019-05-09</td><td> 90</td><td>1</td></tr>\n",
              "\t<tr><td>YVP NC294 2019-05-09</td><td>153</td><td>1</td></tr>\n",
              "\t<tr><td>YVP NC294 2019-05-09</td><td>154</td><td>1</td></tr>\n",
              "\t<tr><td>YVP NC294 2019-05-09</td><td>174</td><td>1</td></tr>\n",
              "\t<tr><td>YVP NC294 2019-05-09</td><td>178</td><td>1</td></tr>\n",
              "\t<tr><td>YVP NC294 2019-05-09</td><td>187</td><td>1</td></tr>\n",
              "\t<tr><td>YVP NC294 2019-05-09</td><td>202</td><td>1</td></tr>\n",
              "\t<tr><td>YVP NC294 2019-05-09</td><td>220</td><td>1</td></tr>\n",
              "\t<tr><td>YVP NC294 2019-05-09</td><td>222</td><td>1</td></tr>\n",
              "\t<tr><td>YVP NC294 2019-05-09</td><td>230</td><td>1</td></tr>\n",
              "\t<tr><td>YVP NC294 2019-05-09</td><td>239</td><td>1</td></tr>\n",
              "\t<tr><td>YVP NC294 2019-05-09</td><td>265</td><td>1</td></tr>\n",
              "\t<tr><td>YVP NC294 2019-05-09</td><td>286</td><td>1</td></tr>\n",
              "\t<tr><td>YVP NC294 2019-05-09</td><td>287</td><td>1</td></tr>\n",
              "\t<tr><td>YVP NC294 2019-05-09</td><td>307</td><td>1</td></tr>\n",
              "\t<tr><td>YVP NC294 2019-05-09</td><td>308</td><td>1</td></tr>\n",
              "\t<tr><td>YVP NC294 2019-05-09</td><td>316</td><td>1</td></tr>\n",
              "\t<tr><td>YVP NC294 2019-05-09</td><td>320</td><td>1</td></tr>\n",
              "\t<tr><td>YVP NC294 2019-05-09</td><td>342</td><td>1</td></tr>\n",
              "\t<tr><td>YVP NC294 2019-05-09</td><td>343</td><td>1</td></tr>\n",
              "\t<tr><td>YVP NC294 2019-05-09</td><td>355</td><td>1</td></tr>\n",
              "\t<tr><td>YVP NC294 2019-05-09</td><td>362</td><td>1</td></tr>\n",
              "\t<tr><td>YVP NC294 2019-05-09</td><td>402</td><td>1</td></tr>\n",
              "\t<tr><td>YVP NC294 2019-05-09</td><td>405</td><td>1</td></tr>\n",
              "\t<tr><td>YVP NC294 2019-05-09</td><td>411</td><td>1</td></tr>\n",
              "\t<tr><td>YVP NC294 2019-05-09</td><td>428</td><td>1</td></tr>\n",
              "\t<tr><td>YVP NC294 2019-05-09</td><td>437</td><td>1</td></tr>\n",
              "\t<tr><td>YVP NC294 2019-05-09</td><td>439</td><td>1</td></tr>\n",
              "\t<tr><td>YVP NC294 2019-05-09</td><td>484</td><td>1</td></tr>\n",
              "\t<tr><td>YVP NC294 2019-05-09</td><td>522</td><td>1</td></tr>\n",
              "\t<tr><td>YVP NC294 2019-05-09</td><td>529</td><td>1</td></tr>\n",
              "\t<tr><td>YVP NC294 2019-05-09</td><td>562</td><td>1</td></tr>\n",
              "\t<tr><td>YVP NC294 2019-05-09</td><td>576</td><td>1</td></tr>\n",
              "</tbody>\n",
              "</table>\n"
            ]
          },
          "metadata": {
            "tags": []
          }
        }
      ]
    }
  ]
}