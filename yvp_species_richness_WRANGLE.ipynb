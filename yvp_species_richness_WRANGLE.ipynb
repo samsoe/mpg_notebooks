{
  "nbformat": 4,
  "nbformat_minor": 0,
  "metadata": {
    "colab": {
      "name": "yvp_species_richness-WRANGLE.ipynb",
      "provenance": [],
      "collapsed_sections": [],
      "include_colab_link": true
    },
    "language_info": {
      "codemirror_mode": "r",
      "file_extension": ".r",
      "mimetype": "text/x-r-source",
      "name": "R",
      "pygments_lexer": "r",
      "version": "3.3.1"
    },
    "kernelspec": {
      "display_name": "R",
      "language": "R",
      "name": "ir"
    }
  },
  "cells": [
    {
      "cell_type": "markdown",
      "metadata": {
        "id": "view-in-github",
        "colab_type": "text"
      },
      "source": [
        "<a href=\"https://colab.research.google.com/github/samsoe/mpg_notebooks/blob/master/yvp_species_richness_WRANGLE.ipynb\" target=\"_parent\"><img src=\"https://colab.research.google.com/assets/colab-badge.svg\" alt=\"Open In Colab\"/></a>"
      ]
    },
    {
      "cell_type": "markdown",
      "metadata": {
        "id": "YnczPP3cJIzL",
        "colab_type": "text"
      },
      "source": [
        "# Documentation"
      ]
    },
    {
      "cell_type": "markdown",
      "metadata": {
        "id": "nmfMradDJLix",
        "colab_type": "text"
      },
      "source": [
        "[Readme fixed plot vegetation data](https://docs.google.com/document/d/16-Aq8u9Rudd78fSzfjvpCXyQgE-BstC-d2PjYfmLtcw/edit?usp=sharing)"
      ]
    },
    {
      "cell_type": "markdown",
      "metadata": {
        "id": "BhOI1uU2Koum",
        "colab_type": "text"
      },
      "source": [
        "# Security"
      ]
    },
    {
      "cell_type": "markdown",
      "metadata": {
        "id": "hgB3r3wvA9Pn",
        "colab_type": "text"
      },
      "source": [
        "* The user must load a `json` file containing the BigQuery API key into the local directory `/content/...`\n",
        "* The user must have a Google Maps API key to enable mapping. \n",
        "   * CAUTION make sure the key is deleted from the current instance of the notebook before sharing"
      ]
    },
    {
      "cell_type": "markdown",
      "metadata": {
        "id": "MnG0ah7OA59c",
        "colab_type": "text"
      },
      "source": [
        "# Tools"
      ]
    },
    {
      "cell_type": "code",
      "metadata": {
        "id": "Y6y4EWeYpVBJ",
        "colab_type": "code",
        "colab": {}
      },
      "source": [
        "library(tidyverse)"
      ],
      "execution_count": null,
      "outputs": []
    },
    {
      "cell_type": "markdown",
      "metadata": {
        "id": "eUw-It3JBBrQ",
        "colab_type": "text"
      },
      "source": [
        "* Remember that the file containing authorization keys for Big Query must be loaded into the virutual envrionment manually."
      ]
    },
    {
      "cell_type": "code",
      "metadata": {
        "id": "VxYkYhQTKouo",
        "colab_type": "code",
        "colab": {}
      },
      "source": [
        "install.packages(\"bigrquery\")\n",
        "library(bigrquery)"
      ],
      "execution_count": 3,
      "outputs": []
    },
    {
      "cell_type": "markdown",
      "metadata": {
        "id": "H1I9aQ_SBH3n",
        "colab_type": "text"
      },
      "source": [
        "# Source"
      ]
    },
    {
      "cell_type": "markdown",
      "metadata": {
        "id": "Ia2nCN3_nU4A",
        "colab_type": "text"
      },
      "source": [
        "In this view of the yvp data, species from the cover-based and additional species summaries will be vertically combined for each grid point. Since the additional species summary records species presence only, this view will be limited entirely to species presence. The result will be the plant species richness for each grid point, and this is useful for comparing plant communities, finding the locations of rarer species, or identifying grid points where non-native species are just getting established. After these data are processed, we will want to retain knowledge of whether a species was detected during point-intercept of additional species surveys so that we can evaluate the potential rarity of a given species. The new variable detection_type will allow us to do this."
      ]
    },
    {
      "cell_type": "markdown",
      "metadata": {
        "id": "Bfb7MHpGBJMO",
        "colab_type": "text"
      },
      "source": [
        "## Database Connection"
      ]
    },
    {
      "cell_type": "code",
      "metadata": {
        "id": "ihI70_BPKouq",
        "colab_type": "code",
        "colab": {}
      },
      "source": [
        "# BigQuery API Key\n",
        "bq_auth(path = \"/content/mpg-data-warehouse-api_key-master.json\")"
      ],
      "execution_count": 6,
      "outputs": []
    },
    {
      "cell_type": "code",
      "metadata": {
        "id": "8YxL8wHoBNxV",
        "colab_type": "code",
        "colab": {}
      },
      "source": [
        "Sys.setenv(BIGQUERY_TEST_PROJECT = \"mpg-data-warehouse\")"
      ],
      "execution_count": 7,
      "outputs": []
    },
    {
      "cell_type": "code",
      "metadata": {
        "id": "yevfizb5BQXm",
        "colab_type": "code",
        "colab": {}
      },
      "source": [
        "billing <- bq_test_project()"
      ],
      "execution_count": 8,
      "outputs": []
    },
    {
      "cell_type": "markdown",
      "metadata": {
        "id": "JN4Z34yRp2-k",
        "colab_type": "text"
      },
      "source": [
        "### yvp_vegetation_cover"
      ]
    },
    {
      "cell_type": "code",
      "metadata": {
        "id": "26UqASAoB2p0",
        "colab_type": "code",
        "colab": {}
      },
      "source": [
        "sql_vegetation_cover <- \n",
        "\"\n",
        "SELECT\n",
        "  CONCAT(plot_code, \\\" \\\", date) AS survey_code,\n",
        "  plot_code,\n",
        "  SUBSTR(SAFE_CAST(date AS STRING), 0, 4) AS year,\n",
        "  plot_loc,\n",
        "  plot_rep,\n",
        "  plot_num,\n",
        "  (\\\"cover_est\\\") AS detection_type,\n",
        "  species_key\n",
        "FROM\n",
        "  `mpg-data-warehouse.vegetation_fixed_plot_yvp.yvp_vegetation_cover`\n",
        "\""
      ],
      "execution_count": 9,
      "outputs": []
    },
    {
      "cell_type": "code",
      "metadata": {
        "id": "VSXOoJkcB3dn",
        "colab_type": "code",
        "colab": {}
      },
      "source": [
        "bq_vegetation_cover <- bq_project_query(billing, sql_vegetation_cover)"
      ],
      "execution_count": 10,
      "outputs": []
    },
    {
      "cell_type": "code",
      "metadata": {
        "id": "KpZnymzzB5Ms",
        "colab_type": "code",
        "colab": {}
      },
      "source": [
        "tb_vegetation_cover <- bq_table_download(bq_vegetation_cover)"
      ],
      "execution_count": 11,
      "outputs": []
    },
    {
      "cell_type": "code",
      "metadata": {
        "id": "VcoNMCO1B6gY",
        "colab_type": "code",
        "colab": {}
      },
      "source": [
        "df_vegetation_cover <- as.data.frame(tb_vegetation_cover)"
      ],
      "execution_count": 12,
      "outputs": []
    },
    {
      "cell_type": "code",
      "metadata": {
        "id": "_Fbm6COOIgg_",
        "colab_type": "code",
        "colab": {
          "base_uri": "https://localhost:8080/",
          "height": 187
        },
        "outputId": "2b58198a-fce7-4120-d62f-5828a10e78eb"
      },
      "source": [
        "df_vegetation_cover %>% glimpse() "
      ],
      "execution_count": 13,
      "outputs": [
        {
          "output_type": "stream",
          "text": [
            "Rows: 21,682\n",
            "Columns: 8\n",
            "$ survey_code    \u001b[3m\u001b[90m<chr>\u001b[39m\u001b[23m \"YVP N7 2017-06-08\", \"YVP N7 2017-06-08\", \"YVP N7 2017…\n",
            "$ plot_code      \u001b[3m\u001b[90m<chr>\u001b[39m\u001b[23m \"YVP N7\", \"YVP N7\", \"YVP N7\", \"YVP N7\", \"YVP N7\", \"YVP…\n",
            "$ year           \u001b[3m\u001b[90m<chr>\u001b[39m\u001b[23m \"2017\", \"2017\", \"2017\", \"2017\", \"2017\", \"2017\", \"2017\"…\n",
            "$ plot_loc       \u001b[3m\u001b[90m<chr>\u001b[39m\u001b[23m \"N\", \"N\", \"N\", \"N\", \"N\", \"N\", \"N\", \"N\", \"N\", \"N\", \"N\",…\n",
            "$ plot_rep       \u001b[3m\u001b[90m<chr>\u001b[39m\u001b[23m \"NA\", \"NA\", \"NA\", \"NA\", \"NA\", \"NA\", \"NA\", \"NA\", \"NA\", …\n",
            "$ plot_num       \u001b[3m\u001b[90m<int>\u001b[39m\u001b[23m 7, 7, 7, 7, 7, 7, 7, 7, 7, 7, 7, 7, 7, 7, 7, 7, 7, 7, …\n",
            "$ detection_type \u001b[3m\u001b[90m<chr>\u001b[39m\u001b[23m \"cover_est\", \"cover_est\", \"cover_est\", \"cover_est\", \"c…\n",
            "$ species_key    \u001b[3m\u001b[90m<int>\u001b[39m\u001b[23m 82, 113, 153, 187, 233, 266, 286, 320, 389, 411, 437, …\n"
          ],
          "name": "stdout"
        }
      ]
    },
    {
      "cell_type": "markdown",
      "metadata": {
        "id": "Fws0jJQJmiqN",
        "colab_type": "text"
      },
      "source": [
        "### yvp_additional_species"
      ]
    },
    {
      "cell_type": "code",
      "metadata": {
        "id": "A0b7sFbomnQI",
        "colab_type": "code",
        "colab": {}
      },
      "source": [
        "sql_additional_species <- \"\n",
        "SELECT \n",
        "  CONCAT(plot_code, \\\" \\\", date) AS survey_code,\n",
        "  plot_code,\n",
        "  SUBSTR(SAFE_CAST(date AS STRING), 0, 4) AS year,\n",
        "  plot_loc,\n",
        "  plot_rep,\n",
        "  plot_num,\n",
        "  (\\\"supplemental_obs\\\") AS detection_type,\n",
        "  species_key\n",
        "FROM\n",
        "  `mpg-data-warehouse.vegetation_fixed_plot_yvp.yvp_additional_species`\n",
        "\""
      ],
      "execution_count": 14,
      "outputs": []
    },
    {
      "cell_type": "code",
      "metadata": {
        "id": "r6DRQa8UnfyC",
        "colab_type": "code",
        "colab": {}
      },
      "source": [
        "bq_additional_species <- bq_project_query(billing, sql_additional_species)"
      ],
      "execution_count": 15,
      "outputs": []
    },
    {
      "cell_type": "code",
      "metadata": {
        "id": "M2BeqR2cnseW",
        "colab_type": "code",
        "colab": {}
      },
      "source": [
        "tb_additional_species <- bq_table_download(bq_additional_species)"
      ],
      "execution_count": 16,
      "outputs": []
    },
    {
      "cell_type": "code",
      "metadata": {
        "id": "durzVSnInsbc",
        "colab_type": "code",
        "colab": {}
      },
      "source": [
        "df_additional_species <- as.data.frame(tb_additional_species)"
      ],
      "execution_count": 17,
      "outputs": []
    },
    {
      "cell_type": "code",
      "metadata": {
        "id": "ICrJWRYYn4gb",
        "colab_type": "code",
        "colab": {
          "base_uri": "https://localhost:8080/",
          "height": 187
        },
        "outputId": "d2c10b8f-55cb-42c0-b06c-d52bfe8c6ff7"
      },
      "source": [
        "df_additional_species %>% glimpse()"
      ],
      "execution_count": 18,
      "outputs": [
        {
          "output_type": "stream",
          "text": [
            "Rows: 1,280\n",
            "Columns: 8\n",
            "$ survey_code    \u001b[3m\u001b[90m<chr>\u001b[39m\u001b[23m \"YVP 12 2018-07-10\", \"YVP 12 2018-07-10\", \"YVP 12 2018…\n",
            "$ plot_code      \u001b[3m\u001b[90m<chr>\u001b[39m\u001b[23m \"YVP 12\", \"YVP 12\", \"YVP 12\", \"YVP 12\", \"YVP 12\", \"YVP…\n",
            "$ year           \u001b[3m\u001b[90m<chr>\u001b[39m\u001b[23m \"2018\", \"2018\", \"2018\", \"2018\", \"2018\", \"2018\", \"2018\"…\n",
            "$ plot_loc       \u001b[3m\u001b[90m<chr>\u001b[39m\u001b[23m \"NA\", \"NA\", \"NA\", \"NA\", \"NA\", \"NA\", \"NA\", \"NA\", \"NA\", …\n",
            "$ plot_rep       \u001b[3m\u001b[90m<chr>\u001b[39m\u001b[23m \"NA\", \"NA\", \"NA\", \"NA\", \"NA\", \"NA\", \"NA\", \"NA\", \"NA\", …\n",
            "$ plot_num       \u001b[3m\u001b[90m<int>\u001b[39m\u001b[23m 12, 12, 12, 12, 12, 246, 246, 246, 246, 571, 571, 571,…\n",
            "$ detection_type \u001b[3m\u001b[90m<chr>\u001b[39m\u001b[23m \"supplemental_obs\", \"supplemental_obs\", \"supplemental_…\n",
            "$ species_key    \u001b[3m\u001b[90m<int>\u001b[39m\u001b[23m 72, 179, 426, 63, 484, 402, 53, 274, 334, 496, 240, 56…\n"
          ],
          "name": "stdout"
        }
      ]
    },
    {
      "cell_type": "markdown",
      "metadata": {
        "id": "xmB4X0Ym6eDK",
        "colab_type": "text"
      },
      "source": [
        "### location_position_classification"
      ]
    },
    {
      "cell_type": "code",
      "metadata": {
        "id": "yllLu5I16dvs",
        "colab_type": "code",
        "colab": {}
      },
      "source": [
        "sql_position_classification <- \"\n",
        "SELECT\n",
        "  grid_point,\n",
        "  aspect_mean_deg,\n",
        "  elevation_mean_m,\n",
        "  slope_mean_deg,\n",
        "  cover_type_2016_gridVeg,\n",
        "  type3_vegetation_indicators,\n",
        "  type4_indicators_history\n",
        "FROM\n",
        "  `mpg-data-warehouse.grid_point_summaries.location_position_classification`\n",
        "\""
      ],
      "execution_count": 19,
      "outputs": []
    },
    {
      "cell_type": "code",
      "metadata": {
        "id": "AccyJAYq6v1t",
        "colab_type": "code",
        "colab": {}
      },
      "source": [
        "bq_position_classification <- bq_project_query(billing, sql_position_classification)"
      ],
      "execution_count": 20,
      "outputs": []
    },
    {
      "cell_type": "code",
      "metadata": {
        "id": "9DHuZhlG6vyi",
        "colab_type": "code",
        "colab": {}
      },
      "source": [
        "tb_position_classification <- bq_table_download(bq_position_classification)"
      ],
      "execution_count": 21,
      "outputs": []
    },
    {
      "cell_type": "code",
      "metadata": {
        "id": "rxd5pyB_6vvQ",
        "colab_type": "code",
        "colab": {}
      },
      "source": [
        "df_position_classification <- as.data.frame(tb_position_classification)"
      ],
      "execution_count": 22,
      "outputs": []
    },
    {
      "cell_type": "code",
      "metadata": {
        "id": "lvXkgUyG6_ZD",
        "colab_type": "code",
        "colab": {
          "base_uri": "https://localhost:8080/",
          "height": 170
        },
        "outputId": "101e4d1a-2b90-4425-a0bb-d30acaf8d4df"
      },
      "source": [
        "df_position_classification %>% glimpse()"
      ],
      "execution_count": 23,
      "outputs": [
        {
          "output_type": "stream",
          "text": [
            "Rows: 582\n",
            "Columns: 7\n",
            "$ grid_point                  \u001b[3m\u001b[90m<int>\u001b[39m\u001b[23m 1, 2, 3, 4, 5, 6, 7, 8, 9, 10, 11, 12, 13…\n",
            "$ aspect_mean_deg             \u001b[3m\u001b[90m<dbl>\u001b[39m\u001b[23m 334.7050, 45.3030, 221.3340, 290.4890, 28…\n",
            "$ elevation_mean_m            \u001b[3m\u001b[90m<dbl>\u001b[39m\u001b[23m 1395.64, 1456.09, 1126.90, 1166.33, 1179.…\n",
            "$ slope_mean_deg              \u001b[3m\u001b[90m<dbl>\u001b[39m\u001b[23m 28.44230, 12.22630, 4.25130, 2.68361, 4.2…\n",
            "$ cover_type_2016_gridVeg     \u001b[3m\u001b[90m<chr>\u001b[39m\u001b[23m \"woodland/forest\", \"non-irrigated grassla…\n",
            "$ type3_vegetation_indicators \u001b[3m\u001b[90m<chr>\u001b[39m\u001b[23m \"mixed canopy conifer\", \"uncultivated gra…\n",
            "$ type4_indicators_history    \u001b[3m\u001b[90m<chr>\u001b[39m\u001b[23m \"mixed canopy conifer\", \"uncultivated gra…\n"
          ],
          "name": "stdout"
        }
      ]
    },
    {
      "cell_type": "markdown",
      "metadata": {
        "id": "F5tKtcbtiKCz",
        "colab_type": "text"
      },
      "source": [
        "### vegetation_species_metadata"
      ]
    },
    {
      "cell_type": "code",
      "metadata": {
        "id": "mS4JUaOZiTZJ",
        "colab_type": "code",
        "colab": {}
      },
      "source": [
        "sql_species_metadata <- \"\n",
        "SELECT\n",
        "  key_plant_species,\n",
        "  key_plant_code,\n",
        "  plant_name_sci,\n",
        "  plant_name_common,\n",
        "  plant_native_status,\n",
        "  plant_life_cycle,\n",
        "  plant_life_form\n",
        "FROM\n",
        "  `mpg-data-warehouse.vegetation_species_metadata.vegetation_species_metadata`\""
      ],
      "execution_count": 39,
      "outputs": []
    },
    {
      "cell_type": "code",
      "metadata": {
        "id": "epyc-RsviSiG",
        "colab_type": "code",
        "colab": {}
      },
      "source": [
        "bq_species_metadata <- bq_project_query(billing, sql_species_metadata)"
      ],
      "execution_count": 42,
      "outputs": []
    },
    {
      "cell_type": "code",
      "metadata": {
        "id": "PCyRmeWFjRds",
        "colab_type": "code",
        "colab": {}
      },
      "source": [
        "tb_species_metadata <- bq_table_download(bq_species_metadata)"
      ],
      "execution_count": 43,
      "outputs": []
    },
    {
      "cell_type": "code",
      "metadata": {
        "id": "m_rQRK7ajRZ3",
        "colab_type": "code",
        "colab": {}
      },
      "source": [
        "df_species_metadata <- as.data.frame(tb_species_metadata)"
      ],
      "execution_count": 44,
      "outputs": []
    },
    {
      "cell_type": "code",
      "metadata": {
        "id": "lPg0i28AjRWo",
        "colab_type": "code",
        "colab": {
          "base_uri": "https://localhost:8080/",
          "height": 170
        },
        "outputId": "808fec90-61b4-4a3b-a37b-34e08e90b064"
      },
      "source": [
        "df_species_metadata %>% glimpse()"
      ],
      "execution_count": 45,
      "outputs": [
        {
          "output_type": "stream",
          "text": [
            "Rows: 754\n",
            "Columns: 7\n",
            "$ key_plant_species   \u001b[3m\u001b[90m<int>\u001b[39m\u001b[23m 360, 13, 26, 53, 738, 75, 76, 746, 83, 88, 86, 87…\n",
            "$ key_plant_code      \u001b[3m\u001b[90m<chr>\u001b[39m\u001b[23m \"NV\", \"AGRSCA\", \"ANDGER\", \"ARIPUR\", \"BOUCUR\", \"BO…\n",
            "$ plant_name_sci      \u001b[3m\u001b[90m<chr>\u001b[39m\u001b[23m \"no vegetation\", \"Agrostis scabra\", \"Andropogon g…\n",
            "$ plant_name_common   \u001b[3m\u001b[90m<chr>\u001b[39m\u001b[23m \"no vegetation\", \"rough bentgrass\", \"big bluestem…\n",
            "$ plant_native_status \u001b[3m\u001b[90m<chr>\u001b[39m\u001b[23m \"none\", \"native\", \"native\", \"native\", \"native\", \"…\n",
            "$ plant_life_cycle    \u001b[3m\u001b[90m<chr>\u001b[39m\u001b[23m \"unknown\", \"perennial\", \"perennial\", \"perennial\",…\n",
            "$ plant_life_form     \u001b[3m\u001b[90m<chr>\u001b[39m\u001b[23m \"none\", \"graminoid\", \"graminoid\", \"graminoid\", \"g…\n"
          ],
          "name": "stdout"
        }
      ]
    },
    {
      "cell_type": "markdown",
      "metadata": {
        "id": "CnYKNnT0I4ZF",
        "colab_type": "text"
      },
      "source": [
        "# Wrangle"
      ]
    },
    {
      "cell_type": "markdown",
      "metadata": {
        "id": "AZFkpMUrJBo9",
        "colab_type": "text"
      },
      "source": [
        "With the data from yvp_vegetation_cover, species lists must first be summarized as distinct key_plant_species values within survey_code values. This is because the raw data are estimated in 10 subplots per transect, and species names will often be redundant among subplots. Then the yvp_vegetation_cover data can be vertically bound to the yvp_additional_species data after some light coercion of field names.\n",
        "\n",
        "One caution with these data. According to protocol, a plant species is only included in the additional species table if it was not found during cover-based surveys. In practice, I assume that this is routinely violated because it isn’t easy to remember all the species surveyed, nor is it efficient to check time after time. It’s important that we eliminate duplicate species for a given grid point. When duplication exists, default to detection_type = “cover_est”. This will prevent upward bias of richness estimates and will make downstream analyses less complicated. Some operation that again summarizes distinct key_plant_species values within survey_code values will be necessary. For additional information on this point, please see instructions for a similar operation with the point-intercept data in the gridVeg [Readme](https://docs.google.com/document/d/1JWnhxNjeSQZkSnGhtHP68i_l1mDj4vPFMBdUvGqN0TA/edit#heading=h.hnb7ex8jlp42).\n"
      ]
    },
    {
      "cell_type": "markdown",
      "metadata": {
        "id": "ysIVNx_K4Gyc",
        "colab_type": "text"
      },
      "source": [
        "## Remove duplicates"
      ]
    },
    {
      "cell_type": "markdown",
      "metadata": {
        "id": "7PBA6mwdn-gJ",
        "colab_type": "text"
      },
      "source": [
        "### yvp_vegetation_cover"
      ]
    },
    {
      "cell_type": "code",
      "metadata": {
        "id": "Cofz7mosKJZm",
        "colab_type": "code",
        "colab": {
          "base_uri": "https://localhost:8080/",
          "height": 187
        },
        "outputId": "5b79c2fd-2c2e-4bd6-ed5d-6c8f255b50df"
      },
      "source": [
        "df_vegetation_cover %>% glimpse()"
      ],
      "execution_count": 24,
      "outputs": [
        {
          "output_type": "stream",
          "text": [
            "Rows: 21,682\n",
            "Columns: 8\n",
            "$ survey_code    \u001b[3m\u001b[90m<chr>\u001b[39m\u001b[23m \"YVP N7 2017-06-08\", \"YVP N7 2017-06-08\", \"YVP N7 2017…\n",
            "$ plot_code      \u001b[3m\u001b[90m<chr>\u001b[39m\u001b[23m \"YVP N7\", \"YVP N7\", \"YVP N7\", \"YVP N7\", \"YVP N7\", \"YVP…\n",
            "$ year           \u001b[3m\u001b[90m<chr>\u001b[39m\u001b[23m \"2017\", \"2017\", \"2017\", \"2017\", \"2017\", \"2017\", \"2017\"…\n",
            "$ plot_loc       \u001b[3m\u001b[90m<chr>\u001b[39m\u001b[23m \"N\", \"N\", \"N\", \"N\", \"N\", \"N\", \"N\", \"N\", \"N\", \"N\", \"N\",…\n",
            "$ plot_rep       \u001b[3m\u001b[90m<chr>\u001b[39m\u001b[23m \"NA\", \"NA\", \"NA\", \"NA\", \"NA\", \"NA\", \"NA\", \"NA\", \"NA\", …\n",
            "$ plot_num       \u001b[3m\u001b[90m<int>\u001b[39m\u001b[23m 7, 7, 7, 7, 7, 7, 7, 7, 7, 7, 7, 7, 7, 7, 7, 7, 7, 7, …\n",
            "$ detection_type \u001b[3m\u001b[90m<chr>\u001b[39m\u001b[23m \"cover_est\", \"cover_est\", \"cover_est\", \"cover_est\", \"c…\n",
            "$ species_key    \u001b[3m\u001b[90m<int>\u001b[39m\u001b[23m 82, 113, 153, 187, 233, 266, 286, 320, 389, 411, 437, …\n"
          ],
          "name": "stdout"
        }
      ]
    },
    {
      "cell_type": "code",
      "metadata": {
        "id": "cmOQB9iO5GFH",
        "colab_type": "code",
        "colab": {}
      },
      "source": [
        "df_vegetation_cover %>%\n",
        "  group_by(survey_code, species_key) %>%\n",
        "  # count() %>%\n",
        "  arrange(survey_code, species_key)"
      ],
      "execution_count": null,
      "outputs": []
    },
    {
      "cell_type": "code",
      "metadata": {
        "id": "ZyjOWuewcPKs",
        "colab_type": "code",
        "colab": {}
      },
      "source": [
        "# remove duplicate species records per survey\n",
        "df_vegetation_cover <- df_vegetation_cover %>%\n",
        "  group_by(survey_code) %>%\n",
        "  distinct() %>%\n",
        "  arrange(desc(survey_code), species_key) %>% glimpse()"
      ],
      "execution_count": null,
      "outputs": []
    },
    {
      "cell_type": "markdown",
      "metadata": {
        "id": "GZGdgx0XoJXj",
        "colab_type": "text"
      },
      "source": [
        "### yvp_additional_species"
      ]
    },
    {
      "cell_type": "code",
      "metadata": {
        "id": "qdU3Oh9voFGI",
        "colab_type": "code",
        "colab": {
          "base_uri": "https://localhost:8080/",
          "height": 187
        },
        "outputId": "3786da3d-46e3-48f7-8668-b692362d56c7"
      },
      "source": [
        "df_additional_species %>% glimpse()"
      ],
      "execution_count": 26,
      "outputs": [
        {
          "output_type": "stream",
          "text": [
            "Rows: 1,280\n",
            "Columns: 8\n",
            "$ survey_code    \u001b[3m\u001b[90m<chr>\u001b[39m\u001b[23m \"YVP 12 2018-07-10\", \"YVP 12 2018-07-10\", \"YVP 12 2018…\n",
            "$ plot_code      \u001b[3m\u001b[90m<chr>\u001b[39m\u001b[23m \"YVP 12\", \"YVP 12\", \"YVP 12\", \"YVP 12\", \"YVP 12\", \"YVP…\n",
            "$ year           \u001b[3m\u001b[90m<chr>\u001b[39m\u001b[23m \"2018\", \"2018\", \"2018\", \"2018\", \"2018\", \"2018\", \"2018\"…\n",
            "$ plot_loc       \u001b[3m\u001b[90m<chr>\u001b[39m\u001b[23m \"NA\", \"NA\", \"NA\", \"NA\", \"NA\", \"NA\", \"NA\", \"NA\", \"NA\", …\n",
            "$ plot_rep       \u001b[3m\u001b[90m<chr>\u001b[39m\u001b[23m \"NA\", \"NA\", \"NA\", \"NA\", \"NA\", \"NA\", \"NA\", \"NA\", \"NA\", …\n",
            "$ plot_num       \u001b[3m\u001b[90m<int>\u001b[39m\u001b[23m 12, 12, 12, 12, 12, 246, 246, 246, 246, 571, 571, 571,…\n",
            "$ detection_type \u001b[3m\u001b[90m<chr>\u001b[39m\u001b[23m \"supplemental_obs\", \"supplemental_obs\", \"supplemental_…\n",
            "$ species_key    \u001b[3m\u001b[90m<int>\u001b[39m\u001b[23m 72, 179, 426, 63, 484, 402, 53, 274, 334, 496, 240, 56…\n"
          ],
          "name": "stdout"
        }
      ]
    },
    {
      "cell_type": "code",
      "metadata": {
        "id": "xeTRKyTEoFC_",
        "colab_type": "code",
        "colab": {
          "base_uri": "https://localhost:8080/",
          "height": 204
        },
        "outputId": "a3f7adc2-fd1d-4eae-c218-10c96dca417f"
      },
      "source": [
        "# remove duplicates per survey\n",
        "df_additional_species <- df_additional_species %>%\n",
        "  group_by(survey_code) %>%\n",
        "  distinct() %>%\n",
        "  arrange(desc(survey_code), species_key) %>% glimpse()"
      ],
      "execution_count": 27,
      "outputs": [
        {
          "output_type": "stream",
          "text": [
            "Rows: 1,275\n",
            "Columns: 8\n",
            "Groups: survey_code [178]\n",
            "$ survey_code    \u001b[3m\u001b[90m<chr>\u001b[39m\u001b[23m \"YVP NC294 2019-05-09\", \"YVP NC294 2019-05-09\", \"YVP N…\n",
            "$ plot_code      \u001b[3m\u001b[90m<chr>\u001b[39m\u001b[23m \"YVP NC294\", \"YVP NC294\", \"YVP NC294\", \"YVP NC294\", \"Y…\n",
            "$ year           \u001b[3m\u001b[90m<chr>\u001b[39m\u001b[23m \"2019\", \"2019\", \"2019\", \"2019\", \"2019\", \"2019\", \"2019\"…\n",
            "$ plot_loc       \u001b[3m\u001b[90m<chr>\u001b[39m\u001b[23m \"N\", \"N\", \"N\", \"N\", \"N\", \"N\", \"N\", \"N\", \"N\", \"N\", \"N\",…\n",
            "$ plot_rep       \u001b[3m\u001b[90m<chr>\u001b[39m\u001b[23m \"C\", \"C\", \"C\", \"C\", \"C\", \"C\", \"C\", \"C\", \"C\", \"C\", \"C\",…\n",
            "$ plot_num       \u001b[3m\u001b[90m<int>\u001b[39m\u001b[23m 294, 294, 294, 294, 294, 294, 294, 294, 294, 294, 294,…\n",
            "$ detection_type \u001b[3m\u001b[90m<chr>\u001b[39m\u001b[23m \"supplemental_obs\", \"supplemental_obs\", \"supplemental_…\n",
            "$ species_key    \u001b[3m\u001b[90m<int>\u001b[39m\u001b[23m 31, 36, 84, 178, 183, 316, 362, 36, 216, 316, 342, 362…\n"
          ],
          "name": "stdout"
        }
      ]
    },
    {
      "cell_type": "markdown",
      "metadata": {
        "id": "_YIqQyt44NR-",
        "colab_type": "text"
      },
      "source": [
        "## Combine dataframes"
      ]
    },
    {
      "cell_type": "code",
      "metadata": {
        "id": "xHrPqTn5oE_y",
        "colab_type": "code",
        "colab": {
          "base_uri": "https://localhost:8080/",
          "height": 204
        },
        "outputId": "286cbafe-72e1-4754-9da9-6ad0259eb70b"
      },
      "source": [
        "species_richness <- union(df_vegetation_cover, df_additional_species) %>% glimpse()"
      ],
      "execution_count": 28,
      "outputs": [
        {
          "output_type": "stream",
          "text": [
            "Rows: 6,567\n",
            "Columns: 8\n",
            "Groups: survey_code [187]\n",
            "$ survey_code    \u001b[3m\u001b[90m<chr>\u001b[39m\u001b[23m \"YVP N7 2017-06-08\", \"YVP N7 2017-06-08\", \"YVP N7 2017…\n",
            "$ plot_code      \u001b[3m\u001b[90m<chr>\u001b[39m\u001b[23m \"YVP N7\", \"YVP N7\", \"YVP N7\", \"YVP N7\", \"YVP N7\", \"YVP…\n",
            "$ year           \u001b[3m\u001b[90m<chr>\u001b[39m\u001b[23m \"2017\", \"2017\", \"2017\", \"2017\", \"2017\", \"2017\", \"2017\"…\n",
            "$ plot_loc       \u001b[3m\u001b[90m<chr>\u001b[39m\u001b[23m \"N\", \"N\", \"N\", \"N\", \"N\", \"N\", \"N\", \"N\", \"N\", \"N\", \"N\",…\n",
            "$ plot_rep       \u001b[3m\u001b[90m<chr>\u001b[39m\u001b[23m \"NA\", \"NA\", \"NA\", \"NA\", \"NA\", \"NA\", \"NA\", \"NA\", \"NA\", …\n",
            "$ plot_num       \u001b[3m\u001b[90m<int>\u001b[39m\u001b[23m 7, 7, 7, 7, 7, 7, 7, 7, 7, 7, 7, 7, 7, 7, 7, 7, 7, 7, …\n",
            "$ detection_type \u001b[3m\u001b[90m<chr>\u001b[39m\u001b[23m \"cover_est\", \"cover_est\", \"cover_est\", \"cover_est\", \"c…\n",
            "$ species_key    \u001b[3m\u001b[90m<int>\u001b[39m\u001b[23m 82, 113, 153, 187, 233, 266, 286, 320, 389, 411, 437, …\n"
          ],
          "name": "stdout"
        }
      ]
    },
    {
      "cell_type": "code",
      "metadata": {
        "id": "2QTpItz6oE8y",
        "colab_type": "code",
        "colab": {
          "base_uri": "https://localhost:8080/",
          "height": 119
        },
        "outputId": "7d9f0856-0ef5-4d0b-9f53-09e60d45fb4a"
      },
      "source": [
        "# look for duplicates\n",
        "duplicate_detections <- species_richness %>%\n",
        "  group_by(survey_code) %>%\n",
        "  count(species_key) %>%\n",
        "  filter(n > 1) %>%\n",
        "  arrange(survey_code, species_key) %>% glimpse()"
      ],
      "execution_count": 29,
      "outputs": [
        {
          "output_type": "stream",
          "text": [
            "Rows: 163\n",
            "Columns: 3\n",
            "Groups: survey_code [75]\n",
            "$ survey_code \u001b[3m\u001b[90m<chr>\u001b[39m\u001b[23m \"YVP 10 2018-07-12\", \"YVP 10 2018-07-12\", \"YVP 10 2018-07…\n",
            "$ species_key \u001b[3m\u001b[90m<int>\u001b[39m\u001b[23m 16, 163, 169, 433, 16, 163, 169, 220, 433, 389, 439, 308,…\n",
            "$ n           \u001b[3m\u001b[90m<int>\u001b[39m\u001b[23m 2, 2, 2, 2, 2, 2, 2, 2, 2, 2, 2, 2, 2, 2, 2, 2, 2, 2, 2, …\n"
          ],
          "name": "stdout"
        }
      ]
    },
    {
      "cell_type": "markdown",
      "metadata": {
        "id": "KHWZRiD59t9A",
        "colab_type": "text"
      },
      "source": [
        "## Remove redundant detections"
      ]
    },
    {
      "cell_type": "code",
      "metadata": {
        "id": "e6XuByNoZEDH",
        "colab_type": "code",
        "colab": {
          "base_uri": "https://localhost:8080/",
          "height": 102
        },
        "outputId": "748d40d8-be14-45f6-c923-5c9a92e6b028"
      },
      "source": [
        "duplicate_detections <- duplicate_detections %>%\n",
        "  mutate(mask = paste(survey_code, species_key)) %>%\n",
        "  select(!n) %>%\n",
        "  ungroup() %>% glimpse()"
      ],
      "execution_count": 30,
      "outputs": [
        {
          "output_type": "stream",
          "text": [
            "Rows: 163\n",
            "Columns: 3\n",
            "$ survey_code \u001b[3m\u001b[90m<chr>\u001b[39m\u001b[23m \"YVP 10 2018-07-12\", \"YVP 10 2018-07-12\", \"YVP 10 2018-07…\n",
            "$ species_key \u001b[3m\u001b[90m<int>\u001b[39m\u001b[23m 16, 163, 169, 433, 16, 163, 169, 220, 433, 389, 439, 308,…\n",
            "$ mask        \u001b[3m\u001b[90m<chr>\u001b[39m\u001b[23m \"YVP 10 2018-07-12 16\", \"YVP 10 2018-07-12 163\", \"YVP 10 …\n"
          ],
          "name": "stdout"
        }
      ]
    },
    {
      "cell_type": "code",
      "metadata": {
        "id": "_csMCmeA9vig",
        "colab_type": "code",
        "colab": {
          "base_uri": "https://localhost:8080/",
          "height": 204
        },
        "outputId": "661e547a-5f3a-4645-8bc1-bd335559e7dd"
      },
      "source": [
        "# subset surveys with no redundancy\n",
        "species_richness_x <- species_richness %>%\n",
        "  ungroup() %>%\n",
        "  mutate(mask = paste(survey_code, species_key)) %>%\n",
        "  filter(!mask %in% duplicate_detections$mask) %>%\n",
        "  arrange(survey_code, species_key) %>% glimpse()"
      ],
      "execution_count": 31,
      "outputs": [
        {
          "output_type": "stream",
          "text": [
            "Rows: 6,241\n",
            "Columns: 9\n",
            "$ survey_code    \u001b[3m\u001b[90m<chr>\u001b[39m\u001b[23m \"YVP 10 2017-06-09\", \"YVP 10 2017-06-09\", \"YVP 10 2017…\n",
            "$ plot_code      \u001b[3m\u001b[90m<chr>\u001b[39m\u001b[23m \"YVP 10\", \"YVP 10\", \"YVP 10\", \"YVP 10\", \"YVP 10\", \"YVP…\n",
            "$ year           \u001b[3m\u001b[90m<chr>\u001b[39m\u001b[23m \"2017\", \"2017\", \"2017\", \"2017\", \"2017\", \"2017\", \"2017\"…\n",
            "$ plot_loc       \u001b[3m\u001b[90m<chr>\u001b[39m\u001b[23m \"NA\", \"NA\", \"NA\", \"NA\", \"NA\", \"NA\", \"NA\", \"NA\", \"NA\", …\n",
            "$ plot_rep       \u001b[3m\u001b[90m<chr>\u001b[39m\u001b[23m \"NA\", \"NA\", \"NA\", \"NA\", \"NA\", \"NA\", \"NA\", \"NA\", \"NA\", …\n",
            "$ plot_num       \u001b[3m\u001b[90m<int>\u001b[39m\u001b[23m 10, 10, 10, 10, 10, 10, 10, 10, 10, 10, 10, 10, 10, 10…\n",
            "$ detection_type \u001b[3m\u001b[90m<chr>\u001b[39m\u001b[23m \"cover_est\", \"cover_est\", \"cover_est\", \"cover_est\", \"s…\n",
            "$ species_key    \u001b[3m\u001b[90m<int>\u001b[39m\u001b[23m 5, 37, 39, 51, 72, 82, 84, 90, 153, 163, 169, 187, 202…\n",
            "$ mask           \u001b[3m\u001b[90m<chr>\u001b[39m\u001b[23m \"YVP 10 2017-06-09 5\", \"YVP 10 2017-06-09 37\", \"YVP 10…\n"
          ],
          "name": "stdout"
        }
      ]
    },
    {
      "cell_type": "code",
      "metadata": {
        "id": "kKI-ZlHT2gFL",
        "colab_type": "code",
        "colab": {
          "base_uri": "https://localhost:8080/",
          "height": 204
        },
        "outputId": "4d44d90b-6116-4e3d-b867-cc7d213233fc"
      },
      "source": [
        "# subset surveys with redundancy\n",
        "species_richness_y <- species_richness %>%\n",
        "  ungroup() %>%\n",
        "  mutate(mask = paste(survey_code, species_key)) %>%\n",
        "  filter(mask %in% duplicate_detections$mask, detection_type != \"supplemental_obs\") %>%\n",
        "  arrange(survey_code, species_key) %>% glimpse()"
      ],
      "execution_count": 32,
      "outputs": [
        {
          "output_type": "stream",
          "text": [
            "Rows: 163\n",
            "Columns: 9\n",
            "$ survey_code    \u001b[3m\u001b[90m<chr>\u001b[39m\u001b[23m \"YVP 10 2018-07-12\", \"YVP 10 2018-07-12\", \"YVP 10 2018…\n",
            "$ plot_code      \u001b[3m\u001b[90m<chr>\u001b[39m\u001b[23m \"YVP 10\", \"YVP 10\", \"YVP 10\", \"YVP 10\", \"YVP 10\", \"YVP…\n",
            "$ year           \u001b[3m\u001b[90m<chr>\u001b[39m\u001b[23m \"2018\", \"2018\", \"2018\", \"2018\", \"2019\", \"2019\", \"2019\"…\n",
            "$ plot_loc       \u001b[3m\u001b[90m<chr>\u001b[39m\u001b[23m \"NA\", \"NA\", \"NA\", \"NA\", \"NA\", \"NA\", \"NA\", \"NA\", \"NA\", …\n",
            "$ plot_rep       \u001b[3m\u001b[90m<chr>\u001b[39m\u001b[23m \"NA\", \"NA\", \"NA\", \"NA\", \"NA\", \"NA\", \"NA\", \"NA\", \"NA\", …\n",
            "$ plot_num       \u001b[3m\u001b[90m<int>\u001b[39m\u001b[23m 10, 10, 10, 10, 10, 10, 10, 10, 10, 112, 112, 113, 113…\n",
            "$ detection_type \u001b[3m\u001b[90m<chr>\u001b[39m\u001b[23m \"cover_est\", \"cover_est\", \"cover_est\", \"cover_est\", \"c…\n",
            "$ species_key    \u001b[3m\u001b[90m<int>\u001b[39m\u001b[23m 16, 163, 169, 433, 16, 163, 169, 220, 433, 389, 439, 3…\n",
            "$ mask           \u001b[3m\u001b[90m<chr>\u001b[39m\u001b[23m \"YVP 10 2018-07-12 16\", \"YVP 10 2018-07-12 163\", \"YVP …\n"
          ],
          "name": "stdout"
        }
      ]
    },
    {
      "cell_type": "code",
      "metadata": {
        "id": "awS2zkzK93AD",
        "colab_type": "code",
        "colab": {}
      },
      "source": [
        "# union x and y\n",
        "species_richness <- union(species_richness_x, species_richness_y)"
      ],
      "execution_count": 33,
      "outputs": []
    },
    {
      "cell_type": "code",
      "metadata": {
        "id": "G4Mf_bKG3bIl",
        "colab_type": "code",
        "colab": {
          "base_uri": "https://localhost:8080/",
          "height": 204
        },
        "outputId": "6206078b-77df-47b2-956a-044fa9ef2f79"
      },
      "source": [
        "species_richness <- species_richness %>%\n",
        "  select(!mask) %>%\n",
        "  group_by(survey_code) %>%\n",
        "  arrange(survey_code, species_key) %>% glimpse()"
      ],
      "execution_count": 34,
      "outputs": [
        {
          "output_type": "stream",
          "text": [
            "Rows: 6,404\n",
            "Columns: 8\n",
            "Groups: survey_code [187]\n",
            "$ survey_code    \u001b[3m\u001b[90m<chr>\u001b[39m\u001b[23m \"YVP 10 2017-06-09\", \"YVP 10 2017-06-09\", \"YVP 10 2017…\n",
            "$ plot_code      \u001b[3m\u001b[90m<chr>\u001b[39m\u001b[23m \"YVP 10\", \"YVP 10\", \"YVP 10\", \"YVP 10\", \"YVP 10\", \"YVP…\n",
            "$ year           \u001b[3m\u001b[90m<chr>\u001b[39m\u001b[23m \"2017\", \"2017\", \"2017\", \"2017\", \"2017\", \"2017\", \"2017\"…\n",
            "$ plot_loc       \u001b[3m\u001b[90m<chr>\u001b[39m\u001b[23m \"NA\", \"NA\", \"NA\", \"NA\", \"NA\", \"NA\", \"NA\", \"NA\", \"NA\", …\n",
            "$ plot_rep       \u001b[3m\u001b[90m<chr>\u001b[39m\u001b[23m \"NA\", \"NA\", \"NA\", \"NA\", \"NA\", \"NA\", \"NA\", \"NA\", \"NA\", …\n",
            "$ plot_num       \u001b[3m\u001b[90m<int>\u001b[39m\u001b[23m 10, 10, 10, 10, 10, 10, 10, 10, 10, 10, 10, 10, 10, 10…\n",
            "$ detection_type \u001b[3m\u001b[90m<chr>\u001b[39m\u001b[23m \"cover_est\", \"cover_est\", \"cover_est\", \"cover_est\", \"s…\n",
            "$ species_key    \u001b[3m\u001b[90m<int>\u001b[39m\u001b[23m 5, 37, 39, 51, 72, 82, 84, 90, 153, 163, 169, 187, 202…\n"
          ],
          "name": "stdout"
        }
      ]
    },
    {
      "cell_type": "markdown",
      "metadata": {
        "id": "v4bCekzq5QRR",
        "colab_type": "text"
      },
      "source": [
        "# Join "
      ]
    },
    {
      "cell_type": "markdown",
      "metadata": {
        "id": "zfqtGrs6h4Cd",
        "colab_type": "text"
      },
      "source": [
        "## location_position_classification"
      ]
    },
    {
      "cell_type": "code",
      "metadata": {
        "id": "SoibA4ey7F71",
        "colab_type": "code",
        "colab": {}
      },
      "source": [
        "species_richness <- species_richness %>%\n",
        "  left_join(df_position_classification, by = c(\"plot_num\" = \"grid_point\"))"
      ],
      "execution_count": 35,
      "outputs": []
    },
    {
      "cell_type": "markdown",
      "metadata": {
        "id": "di6xaYvLh8y2",
        "colab_type": "text"
      },
      "source": [
        "## vegetation_species_metadata"
      ]
    },
    {
      "cell_type": "code",
      "metadata": {
        "id": "DRh72yW09BfJ",
        "colab_type": "code",
        "colab": {}
      },
      "source": [
        "species_richness <- species_richness %>%\n",
        "  left_join(df_species_metadata, by = c(\"species_key\" = \"key_plant_species\"))"
      ],
      "execution_count": 49,
      "outputs": []
    },
    {
      "cell_type": "code",
      "metadata": {
        "id": "H2qwvdd0khxD",
        "colab_type": "code",
        "colab": {
          "base_uri": "https://localhost:8080/",
          "height": 34
        },
        "outputId": "aaa95ebf-9b7e-4c2d-b1e0-c34db593f3cc"
      },
      "source": [
        "namencos(species_richness)"
      ],
      "execution_count": 78,
      "outputs": [
        {
          "output_type": "display_data",
          "data": {
            "text/plain": [
              "[1] 20"
            ],
            "text/latex": "20",
            "text/markdown": "20",
            "text/html": [
              "20"
            ]
          },
          "metadata": {
            "tags": []
          }
        }
      ]
    },
    {
      "cell_type": "code",
      "metadata": {
        "id": "hp41f18ylJd8",
        "colab_type": "code",
        "colab": {}
      },
      "source": [
        "# reorder columns\n",
        "species_richness <- species_richness %>%\n",
        "  select(1:6, 9:14, 7, 8, 15:20)"
      ],
      "execution_count": 80,
      "outputs": []
    },
    {
      "cell_type": "code",
      "metadata": {
        "id": "3Ab4cS5Ssn34",
        "colab_type": "code",
        "colab": {
          "base_uri": "https://localhost:8080/",
          "height": 408
        },
        "outputId": "b7058698-3d2a-4fa5-ac52-d1c7b91bdc42"
      },
      "source": [
        "species_richness %>% glimpse()"
      ],
      "execution_count": 82,
      "outputs": [
        {
          "output_type": "stream",
          "text": [
            "Rows: 6,404\n",
            "Columns: 20\n",
            "Groups: survey_code [187]\n",
            "$ survey_code                 \u001b[3m\u001b[90m<chr>\u001b[39m\u001b[23m \"YVP 10 2017-06-09\", \"YVP 10 2017-06-09\",…\n",
            "$ plot_code                   \u001b[3m\u001b[90m<chr>\u001b[39m\u001b[23m \"YVP 10\", \"YVP 10\", \"YVP 10\", \"YVP 10\", \"…\n",
            "$ year                        \u001b[3m\u001b[90m<chr>\u001b[39m\u001b[23m \"2017\", \"2017\", \"2017\", \"2017\", \"2017\", \"…\n",
            "$ plot_loc                    \u001b[3m\u001b[90m<chr>\u001b[39m\u001b[23m \"NA\", \"NA\", \"NA\", \"NA\", \"NA\", \"NA\", \"NA\",…\n",
            "$ plot_rep                    \u001b[3m\u001b[90m<chr>\u001b[39m\u001b[23m \"NA\", \"NA\", \"NA\", \"NA\", \"NA\", \"NA\", \"NA\",…\n",
            "$ plot_num                    \u001b[3m\u001b[90m<int>\u001b[39m\u001b[23m 10, 10, 10, 10, 10, 10, 10, 10, 10, 10, 1…\n",
            "$ aspect_mean_deg             \u001b[3m\u001b[90m<dbl>\u001b[39m\u001b[23m 18.8095, 18.8095, 18.8095, 18.8095, 18.80…\n",
            "$ elevation_mean_m            \u001b[3m\u001b[90m<dbl>\u001b[39m\u001b[23m 1146.9, 1146.9, 1146.9, 1146.9, 1146.9, 1…\n",
            "$ slope_mean_deg              \u001b[3m\u001b[90m<dbl>\u001b[39m\u001b[23m 20.794, 20.794, 20.794, 20.794, 20.794, 2…\n",
            "$ cover_type_2016_gridVeg     \u001b[3m\u001b[90m<chr>\u001b[39m\u001b[23m \"non-irrigated grasslands\", \"non-irrigate…\n",
            "$ type3_vegetation_indicators \u001b[3m\u001b[90m<chr>\u001b[39m\u001b[23m \"wooded draw\", \"wooded draw\", \"wooded dra…\n",
            "$ type4_indicators_history    \u001b[3m\u001b[90m<chr>\u001b[39m\u001b[23m \"wooded draw\", \"wooded draw\", \"wooded dra…\n",
            "$ detection_type              \u001b[3m\u001b[90m<chr>\u001b[39m\u001b[23m \"cover_est\", \"cover_est\", \"cover_est\", \"c…\n",
            "$ species_key                 \u001b[3m\u001b[90m<int>\u001b[39m\u001b[23m 5, 37, 39, 51, 72, 82, 84, 90, 153, 163, …\n",
            "$ key_plant_code              \u001b[3m\u001b[90m<chr>\u001b[39m\u001b[23m \"ACHMIL\", \"ANTE_SP\", \"APEINT\", \"ARECON\", …\n",
            "$ plant_name_sci              \u001b[3m\u001b[90m<chr>\u001b[39m\u001b[23m \"Achillea millefolium\", \"Antennaria spp.\"…\n",
            "$ plant_name_common           \u001b[3m\u001b[90m<chr>\u001b[39m\u001b[23m \"western yarrow\", \"pussytoes\", \"dense sil…\n",
            "$ plant_native_status         \u001b[3m\u001b[90m<chr>\u001b[39m\u001b[23m \"native\", \"native\", \"nonnative\", \"native\"…\n",
            "$ plant_life_cycle            \u001b[3m\u001b[90m<chr>\u001b[39m\u001b[23m \"perennial\", \"perennial\", \"annual\", \"pere…\n",
            "$ plant_life_form             \u001b[3m\u001b[90m<chr>\u001b[39m\u001b[23m \"forb\", \"forb\", \"graminoid\", \"forb\", \"for…\n"
          ],
          "name": "stdout"
        }
      ]
    },
    {
      "cell_type": "markdown",
      "metadata": {
        "id": "dZePEFVMs2TG",
        "colab_type": "text"
      },
      "source": [
        "# Output"
      ]
    },
    {
      "cell_type": "code",
      "metadata": {
        "id": "eis0tV1Ls1O-",
        "colab_type": "code",
        "colab": {}
      },
      "source": [
        "write_csv(species_richness, path = \"yvp_species_richness-WRANGLE.csv\")"
      ],
      "execution_count": 83,
      "outputs": []
    }
  ]
}