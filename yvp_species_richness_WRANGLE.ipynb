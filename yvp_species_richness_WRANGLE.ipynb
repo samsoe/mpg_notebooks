{
  "nbformat": 4,
  "nbformat_minor": 0,
  "metadata": {
    "colab": {
      "name": "yvp_species_richness-WRANGLE.ipynb",
      "provenance": [],
      "collapsed_sections": [],
      "toc_visible": true,
      "include_colab_link": true
    },
    "language_info": {
      "codemirror_mode": "r",
      "file_extension": ".r",
      "mimetype": "text/x-r-source",
      "name": "R",
      "pygments_lexer": "r",
      "version": "3.3.1"
    },
    "kernelspec": {
      "display_name": "R",
      "language": "R",
      "name": "ir"
    }
  },
  "cells": [
    {
      "cell_type": "markdown",
      "metadata": {
        "id": "view-in-github",
        "colab_type": "text"
      },
      "source": [
        "<a href=\"https://colab.research.google.com/github/samsoe/mpg_notebooks/blob/master/yvp_species_richness_WRANGLE.ipynb\" target=\"_parent\"><img src=\"https://colab.research.google.com/assets/colab-badge.svg\" alt=\"Open In Colab\"/></a>"
      ]
    },
    {
      "cell_type": "markdown",
      "metadata": {
        "id": "YnczPP3cJIzL",
        "colab_type": "text"
      },
      "source": [
        "# Documentation"
      ]
    },
    {
      "cell_type": "markdown",
      "metadata": {
        "id": "nmfMradDJLix",
        "colab_type": "text"
      },
      "source": [
        "[Readme fixed plot vegetation data](https://docs.google.com/document/d/16-Aq8u9Rudd78fSzfjvpCXyQgE-BstC-d2PjYfmLtcw/edit?usp=sharing)"
      ]
    },
    {
      "cell_type": "markdown",
      "metadata": {
        "id": "BhOI1uU2Koum",
        "colab_type": "text"
      },
      "source": [
        "# Security"
      ]
    },
    {
      "cell_type": "markdown",
      "metadata": {
        "id": "hgB3r3wvA9Pn",
        "colab_type": "text"
      },
      "source": [
        "* The user must load a `json` file containing the BigQuery API key into the local directory `/content/...`\n",
        "* The user must have a Google Maps API key to enable mapping. \n",
        "   * CAUTION make sure the key is deleted from the current instance of the notebook before sharing"
      ]
    },
    {
      "cell_type": "markdown",
      "metadata": {
        "id": "MnG0ah7OA59c",
        "colab_type": "text"
      },
      "source": [
        "# Tools"
      ]
    },
    {
      "cell_type": "code",
      "metadata": {
        "id": "Y6y4EWeYpVBJ",
        "colab_type": "code",
        "colab": {}
      },
      "source": [
        "library(tidyverse)"
      ],
      "execution_count": null,
      "outputs": []
    },
    {
      "cell_type": "markdown",
      "metadata": {
        "id": "eUw-It3JBBrQ",
        "colab_type": "text"
      },
      "source": [
        "* Remember that the file containing authorization keys for Big Query must be loaded into the virutual envrionment manually."
      ]
    },
    {
      "cell_type": "code",
      "metadata": {
        "id": "VxYkYhQTKouo",
        "colab_type": "code",
        "colab": {}
      },
      "source": [
        "install.packages(\"bigrquery\")\n",
        "library(bigrquery)"
      ],
      "execution_count": null,
      "outputs": []
    },
    {
      "cell_type": "markdown",
      "metadata": {
        "id": "H1I9aQ_SBH3n",
        "colab_type": "text"
      },
      "source": [
        "# Source"
      ]
    },
    {
      "cell_type": "markdown",
      "metadata": {
        "id": "Bfb7MHpGBJMO",
        "colab_type": "text"
      },
      "source": [
        "## Database Connection"
      ]
    },
    {
      "cell_type": "code",
      "metadata": {
        "id": "ihI70_BPKouq",
        "colab_type": "code",
        "colab": {}
      },
      "source": [
        "# BigQuery API Key\n",
        "bq_auth(path = \"/content/mpg-data-warehouse-api_key-master.json\")"
      ],
      "execution_count": 3,
      "outputs": []
    },
    {
      "cell_type": "code",
      "metadata": {
        "id": "8YxL8wHoBNxV",
        "colab_type": "code",
        "colab": {}
      },
      "source": [
        "Sys.setenv(BIGQUERY_TEST_PROJECT = \"mpg-data-warehouse\")"
      ],
      "execution_count": 4,
      "outputs": []
    },
    {
      "cell_type": "code",
      "metadata": {
        "id": "yevfizb5BQXm",
        "colab_type": "code",
        "colab": {}
      },
      "source": [
        "billing <- bq_test_project()"
      ],
      "execution_count": 5,
      "outputs": []
    },
    {
      "cell_type": "markdown",
      "metadata": {
        "id": "JN4Z34yRp2-k",
        "colab_type": "text"
      },
      "source": [
        "### vegetation_point_intercept_gridVeg"
      ]
    },
    {
      "cell_type": "markdown",
      "metadata": {
        "id": "FsEnlux5I0zj",
        "colab_type": "text"
      },
      "source": [
        "In this view of the yvp data, species from the cover-based and additional species summaries will be vertically combined for each grid point. Since the additional species summary records species presence only, this view will be limited entirely to species presence. The result will be the plant species richness for each grid point, and this is useful for comparing plant communities, finding the locations of rarer species, or identifying grid points where non-native species are just getting established. After these data are processed, we will want to retain knowledge of whether a species was detected during point-intercept of additional species surveys so that we can evaluate the potential rarity of a given species. The new variable detection_type will allow us to do this.\n"
      ]
    },
    {
      "cell_type": "code",
      "metadata": {
        "id": "26UqASAoB2p0",
        "colab_type": "code",
        "colab": {}
      },
      "source": [
        "sql_vegetation_cover <- \n",
        "\"\n",
        "SELECT\n",
        "  CONCAT(plot_code, \\\" \\\", date) AS survey_code,\n",
        "  plot_code,\n",
        "  SUBSTR(SAFE_CAST(date AS STRING), 0, 4) AS year,\n",
        "  plot_loc,\n",
        "  plot_rep,\n",
        "  plot_num,\n",
        "  (\\\"cover_est\\\") AS detection_type,\n",
        "  species_key\n",
        "FROM\n",
        "  `mpg-data-warehouse.vegetation_fixed_plot_yvp.yvp_vegetation_cover`"
      ],
      "execution_count": 16,
      "outputs": []
    },
    {
      "cell_type": "code",
      "metadata": {
        "id": "VSXOoJkcB3dn",
        "colab_type": "code",
        "colab": {}
      },
      "source": [
        "bq_yvp <- bq_project_query(billing, sql_yvp)"
      ],
      "execution_count": 17,
      "outputs": []
    },
    {
      "cell_type": "code",
      "metadata": {
        "id": "KpZnymzzB5Ms",
        "colab_type": "code",
        "colab": {}
      },
      "source": [
        "tb_yvp <- bq_table_download(bq_yvp)"
      ],
      "execution_count": 18,
      "outputs": []
    },
    {
      "cell_type": "code",
      "metadata": {
        "id": "VcoNMCO1B6gY",
        "colab_type": "code",
        "colab": {}
      },
      "source": [
        "df_yvp <- as.data.frame(tb_yvp)"
      ],
      "execution_count": 19,
      "outputs": []
    },
    {
      "cell_type": "code",
      "metadata": {
        "id": "_Fbm6COOIgg_",
        "colab_type": "code",
        "colab": {
          "base_uri": "https://localhost:8080/",
          "height": 187
        },
        "outputId": "fcbc7880-b3c8-4402-a762-2f3755cf893a"
      },
      "source": [
        "df_yvp %>% glimpse() "
      ],
      "execution_count": 64,
      "outputs": [
        {
          "output_type": "stream",
          "text": [
            "Rows: 22,962\n",
            "Columns: 8\n",
            "$ survey_code    \u001b[3m\u001b[90m<chr>\u001b[39m\u001b[23m \"YVP 12 2018-07-10\", \"YVP 12 2018-07-10\", \"YVP 12 2018…\n",
            "$ plot_code      \u001b[3m\u001b[90m<chr>\u001b[39m\u001b[23m \"YVP 12\", \"YVP 12\", \"YVP 12\", \"YVP 12\", \"YVP 12\", \"YVP…\n",
            "$ year           \u001b[3m\u001b[90m<chr>\u001b[39m\u001b[23m \"2018\", \"2018\", \"2018\", \"2018\", \"2018\", \"2018\", \"2018\"…\n",
            "$ plot_loc       \u001b[3m\u001b[90m<chr>\u001b[39m\u001b[23m \"NA\", \"NA\", \"NA\", \"NA\", \"NA\", \"NA\", \"NA\", \"NA\", \"NA\", …\n",
            "$ plot_rep       \u001b[3m\u001b[90m<chr>\u001b[39m\u001b[23m \"NA\", \"NA\", \"NA\", \"NA\", \"NA\", \"NA\", \"NA\", \"NA\", \"NA\", …\n",
            "$ plot_num       \u001b[3m\u001b[90m<int>\u001b[39m\u001b[23m 12, 12, 12, 12, 12, 246, 246, 246, 246, 571, 571, 571,…\n",
            "$ detection_type \u001b[3m\u001b[90m<chr>\u001b[39m\u001b[23m \"supplemental_obs\", \"supplemental_obs\", \"supplemental_…\n",
            "$ species_key    \u001b[3m\u001b[90m<int>\u001b[39m\u001b[23m 72, 179, 426, 63, 484, 402, 53, 274, 334, 496, 240, 56…\n"
          ],
          "name": "stdout"
        }
      ]
    },
    {
      "cell_type": "markdown",
      "metadata": {
        "id": "CnYKNnT0I4ZF",
        "colab_type": "text"
      },
      "source": [
        "# Wrangle"
      ]
    },
    {
      "cell_type": "markdown",
      "metadata": {
        "id": "AZFkpMUrJBo9",
        "colab_type": "text"
      },
      "source": [
        "With the data from yvp_vegetation_cover, species lists must first be summarized as distinct key_plant_species values within survey_code values. This is because the raw data are estimated in 10 subplots per transect, and species names will often be redundant among subplots. Then the yvp_vegetation_cover data can be vertically bound to the yvp_additional_species data after some light coercion of field names.\n",
        "\n",
        "One caution with these data. According to protocol, a plant species is only included in the additional species table if it was not found during cover-based surveys. In practice, I assume that this is routinely violated because it isn’t easy to remember all the species surveyed, nor is it efficient to check time after time. It’s important that we eliminate duplicate species for a given grid point. When duplication exists, default to detection_type = “cover_est”. This will prevent upward bias of richness estimates and will make downstream analyses less complicated. Some operation that again summarizes distinct key_plant_species values within survey_code values will be necessary. For additional information on this point, please see instructions for a similar operation with the point-intercept data in the gridVeg [Readme](https://docs.google.com/document/d/1JWnhxNjeSQZkSnGhtHP68i_l1mDj4vPFMBdUvGqN0TA/edit#heading=h.hnb7ex8jlp42).\n"
      ]
    },
    {
      "cell_type": "code",
      "metadata": {
        "id": "Cofz7mosKJZm",
        "colab_type": "code",
        "colab": {
          "base_uri": "https://localhost:8080/",
          "height": 187
        },
        "outputId": "e4babb6b-95c2-4d5b-c8f1-74b8535a4e4d"
      },
      "source": [
        "df_yvp %>% glimpse()"
      ],
      "execution_count": 25,
      "outputs": [
        {
          "output_type": "stream",
          "text": [
            "Rows: 22,962\n",
            "Columns: 8\n",
            "$ survey_code    \u001b[3m\u001b[90m<chr>\u001b[39m\u001b[23m \"YVP 12 2018-07-10\", \"YVP 12 2018-07-10\", \"YVP 12 2018…\n",
            "$ plot_code      \u001b[3m\u001b[90m<chr>\u001b[39m\u001b[23m \"YVP 12\", \"YVP 12\", \"YVP 12\", \"YVP 12\", \"YVP 12\", \"YVP…\n",
            "$ year           \u001b[3m\u001b[90m<chr>\u001b[39m\u001b[23m \"2018\", \"2018\", \"2018\", \"2018\", \"2018\", \"2018\", \"2018\"…\n",
            "$ plot_loc       \u001b[3m\u001b[90m<chr>\u001b[39m\u001b[23m \"NA\", \"NA\", \"NA\", \"NA\", \"NA\", \"NA\", \"NA\", \"NA\", \"NA\", …\n",
            "$ plot_rep       \u001b[3m\u001b[90m<chr>\u001b[39m\u001b[23m \"NA\", \"NA\", \"NA\", \"NA\", \"NA\", \"NA\", \"NA\", \"NA\", \"NA\", …\n",
            "$ plot_num       \u001b[3m\u001b[90m<int>\u001b[39m\u001b[23m 12, 12, 12, 12, 12, 246, 246, 246, 246, 571, 571, 571,…\n",
            "$ detection_type \u001b[3m\u001b[90m<chr>\u001b[39m\u001b[23m \"supplemental_obs\", \"supplemental_obs\", \"supplemental_…\n",
            "$ species_key    \u001b[3m\u001b[90m<int>\u001b[39m\u001b[23m 72, 179, 426, 63, 484, 402, 53, 274, 334, 496, 240, 56…\n"
          ],
          "name": "stdout"
        }
      ]
    },
    {
      "cell_type": "code",
      "metadata": {
        "id": "ZyjOWuewcPKs",
        "colab_type": "code",
        "colab": {
          "base_uri": "https://localhost:8080/",
          "height": 288
        },
        "outputId": "f3d3e473-44e5-4fc2-f352-8522e17e1bd2"
      },
      "source": [
        "df_yvp %>%\n",
        "  filter(survey_code == \"YVP 10 2017-06-09\", species_key == \"232\")"
      ],
      "execution_count": 63,
      "outputs": [
        {
          "output_type": "display_data",
          "data": {
            "text/plain": [
              "   survey_code       plot_code year plot_loc plot_rep plot_num detection_type\n",
              "1  YVP 10 2017-06-09 YVP 10    2017 NA       NA       10       cover_est     \n",
              "2  YVP 10 2017-06-09 YVP 10    2017 NA       NA       10       cover_est     \n",
              "3  YVP 10 2017-06-09 YVP 10    2017 NA       NA       10       cover_est     \n",
              "4  YVP 10 2017-06-09 YVP 10    2017 NA       NA       10       cover_est     \n",
              "5  YVP 10 2017-06-09 YVP 10    2017 NA       NA       10       cover_est     \n",
              "6  YVP 10 2017-06-09 YVP 10    2017 NA       NA       10       cover_est     \n",
              "7  YVP 10 2017-06-09 YVP 10    2017 NA       NA       10       cover_est     \n",
              "8  YVP 10 2017-06-09 YVP 10    2017 NA       NA       10       cover_est     \n",
              "9  YVP 10 2017-06-09 YVP 10    2017 NA       NA       10       cover_est     \n",
              "10 YVP 10 2017-06-09 YVP 10    2017 NA       NA       10       cover_est     \n",
              "   species_key\n",
              "1  232        \n",
              "2  232        \n",
              "3  232        \n",
              "4  232        \n",
              "5  232        \n",
              "6  232        \n",
              "7  232        \n",
              "8  232        \n",
              "9  232        \n",
              "10 232        "
            ],
            "text/latex": "A data.frame: 10 × 8\n\\begin{tabular}{llllllll}\n survey\\_code & plot\\_code & year & plot\\_loc & plot\\_rep & plot\\_num & detection\\_type & species\\_key\\\\\n <chr> & <chr> & <chr> & <chr> & <chr> & <int> & <chr> & <int>\\\\\n\\hline\n\t YVP 10 2017-06-09 & YVP 10 & 2017 & NA & NA & 10 & cover\\_est & 232\\\\\n\t YVP 10 2017-06-09 & YVP 10 & 2017 & NA & NA & 10 & cover\\_est & 232\\\\\n\t YVP 10 2017-06-09 & YVP 10 & 2017 & NA & NA & 10 & cover\\_est & 232\\\\\n\t YVP 10 2017-06-09 & YVP 10 & 2017 & NA & NA & 10 & cover\\_est & 232\\\\\n\t YVP 10 2017-06-09 & YVP 10 & 2017 & NA & NA & 10 & cover\\_est & 232\\\\\n\t YVP 10 2017-06-09 & YVP 10 & 2017 & NA & NA & 10 & cover\\_est & 232\\\\\n\t YVP 10 2017-06-09 & YVP 10 & 2017 & NA & NA & 10 & cover\\_est & 232\\\\\n\t YVP 10 2017-06-09 & YVP 10 & 2017 & NA & NA & 10 & cover\\_est & 232\\\\\n\t YVP 10 2017-06-09 & YVP 10 & 2017 & NA & NA & 10 & cover\\_est & 232\\\\\n\t YVP 10 2017-06-09 & YVP 10 & 2017 & NA & NA & 10 & cover\\_est & 232\\\\\n\\end{tabular}\n",
            "text/markdown": "\nA data.frame: 10 × 8\n\n| survey_code &lt;chr&gt; | plot_code &lt;chr&gt; | year &lt;chr&gt; | plot_loc &lt;chr&gt; | plot_rep &lt;chr&gt; | plot_num &lt;int&gt; | detection_type &lt;chr&gt; | species_key &lt;int&gt; |\n|---|---|---|---|---|---|---|---|\n| YVP 10 2017-06-09 | YVP 10 | 2017 | NA | NA | 10 | cover_est | 232 |\n| YVP 10 2017-06-09 | YVP 10 | 2017 | NA | NA | 10 | cover_est | 232 |\n| YVP 10 2017-06-09 | YVP 10 | 2017 | NA | NA | 10 | cover_est | 232 |\n| YVP 10 2017-06-09 | YVP 10 | 2017 | NA | NA | 10 | cover_est | 232 |\n| YVP 10 2017-06-09 | YVP 10 | 2017 | NA | NA | 10 | cover_est | 232 |\n| YVP 10 2017-06-09 | YVP 10 | 2017 | NA | NA | 10 | cover_est | 232 |\n| YVP 10 2017-06-09 | YVP 10 | 2017 | NA | NA | 10 | cover_est | 232 |\n| YVP 10 2017-06-09 | YVP 10 | 2017 | NA | NA | 10 | cover_est | 232 |\n| YVP 10 2017-06-09 | YVP 10 | 2017 | NA | NA | 10 | cover_est | 232 |\n| YVP 10 2017-06-09 | YVP 10 | 2017 | NA | NA | 10 | cover_est | 232 |\n\n",
            "text/html": [
              "<table>\n",
              "<caption>A data.frame: 10 × 8</caption>\n",
              "<thead>\n",
              "\t<tr><th scope=col>survey_code</th><th scope=col>plot_code</th><th scope=col>year</th><th scope=col>plot_loc</th><th scope=col>plot_rep</th><th scope=col>plot_num</th><th scope=col>detection_type</th><th scope=col>species_key</th></tr>\n",
              "\t<tr><th scope=col>&lt;chr&gt;</th><th scope=col>&lt;chr&gt;</th><th scope=col>&lt;chr&gt;</th><th scope=col>&lt;chr&gt;</th><th scope=col>&lt;chr&gt;</th><th scope=col>&lt;int&gt;</th><th scope=col>&lt;chr&gt;</th><th scope=col>&lt;int&gt;</th></tr>\n",
              "</thead>\n",
              "<tbody>\n",
              "\t<tr><td>YVP 10 2017-06-09</td><td>YVP 10</td><td>2017</td><td>NA</td><td>NA</td><td>10</td><td>cover_est</td><td>232</td></tr>\n",
              "\t<tr><td>YVP 10 2017-06-09</td><td>YVP 10</td><td>2017</td><td>NA</td><td>NA</td><td>10</td><td>cover_est</td><td>232</td></tr>\n",
              "\t<tr><td>YVP 10 2017-06-09</td><td>YVP 10</td><td>2017</td><td>NA</td><td>NA</td><td>10</td><td>cover_est</td><td>232</td></tr>\n",
              "\t<tr><td>YVP 10 2017-06-09</td><td>YVP 10</td><td>2017</td><td>NA</td><td>NA</td><td>10</td><td>cover_est</td><td>232</td></tr>\n",
              "\t<tr><td>YVP 10 2017-06-09</td><td>YVP 10</td><td>2017</td><td>NA</td><td>NA</td><td>10</td><td>cover_est</td><td>232</td></tr>\n",
              "\t<tr><td>YVP 10 2017-06-09</td><td>YVP 10</td><td>2017</td><td>NA</td><td>NA</td><td>10</td><td>cover_est</td><td>232</td></tr>\n",
              "\t<tr><td>YVP 10 2017-06-09</td><td>YVP 10</td><td>2017</td><td>NA</td><td>NA</td><td>10</td><td>cover_est</td><td>232</td></tr>\n",
              "\t<tr><td>YVP 10 2017-06-09</td><td>YVP 10</td><td>2017</td><td>NA</td><td>NA</td><td>10</td><td>cover_est</td><td>232</td></tr>\n",
              "\t<tr><td>YVP 10 2017-06-09</td><td>YVP 10</td><td>2017</td><td>NA</td><td>NA</td><td>10</td><td>cover_est</td><td>232</td></tr>\n",
              "\t<tr><td>YVP 10 2017-06-09</td><td>YVP 10</td><td>2017</td><td>NA</td><td>NA</td><td>10</td><td>cover_est</td><td>232</td></tr>\n",
              "</tbody>\n",
              "</table>\n"
            ]
          },
          "metadata": {
            "tags": []
          }
        }
      ]
    },
    {
      "cell_type": "code",
      "metadata": {
        "id": "PpuS3yvRbBoR",
        "colab_type": "code",
        "colab": {
          "base_uri": "https://localhost:8080/",
          "height": 1000
        },
        "outputId": "b7ec5729-0c90-450a-cf1a-5106d6738a00"
      },
      "source": [
        "df_yvp %>%\n",
        "  group_by(survey_code, species_key) %>%\n",
        "  # distinct(detection_type) # %>%\n",
        "  count(species_key) #%>%\n",
        "  # filter(n > 1) %>%\n",
        "  # arrange(desc(n), survey_code, species_key) %>%\n",
        "  # select(survey_code, species_key) %>%\n",
        "  # head()"
      ],
      "execution_count": 62,
      "outputs": [
        {
          "output_type": "display_data",
          "data": {
            "text/plain": [
              "     survey_code          species_key n \n",
              "1    YVP 10 2017-06-09      5          1\n",
              "2    YVP 10 2017-06-09     37          2\n",
              "3    YVP 10 2017-06-09     39          2\n",
              "4    YVP 10 2017-06-09     51          1\n",
              "5    YVP 10 2017-06-09     72          1\n",
              "6    YVP 10 2017-06-09     82          1\n",
              "7    YVP 10 2017-06-09     84          1\n",
              "8    YVP 10 2017-06-09     90          2\n",
              "9    YVP 10 2017-06-09    153          2\n",
              "10   YVP 10 2017-06-09    163          2\n",
              "11   YVP 10 2017-06-09    169          1\n",
              "12   YVP 10 2017-06-09    187          3\n",
              "13   YVP 10 2017-06-09    202          1\n",
              "14   YVP 10 2017-06-09    212          1\n",
              "15   YVP 10 2017-06-09    218          1\n",
              "16   YVP 10 2017-06-09    220          1\n",
              "17   YVP 10 2017-06-09    230          7\n",
              "18   YVP 10 2017-06-09    232         10\n",
              "19   YVP 10 2017-06-09    233         10\n",
              "20   YVP 10 2017-06-09    239          5\n",
              "21   YVP 10 2017-06-09    240          3\n",
              "22   YVP 10 2017-06-09    250          5\n",
              "23   YVP 10 2017-06-09    274          4\n",
              "24   YVP 10 2017-06-09    286          7\n",
              "25   YVP 10 2017-06-09    298          1\n",
              "26   YVP 10 2017-06-09    308          4\n",
              "27   YVP 10 2017-06-09    316          2\n",
              "28   YVP 10 2017-06-09    320          9\n",
              "29   YVP 10 2017-06-09    343          2\n",
              "30   YVP 10 2017-06-09    355          1\n",
              "⋮    ⋮                    ⋮           ⋮ \n",
              "6375 YVP NC294 2019-05-09 178          1\n",
              "6376 YVP NC294 2019-05-09 183          2\n",
              "6377 YVP NC294 2019-05-09 187          1\n",
              "6378 YVP NC294 2019-05-09 202          1\n",
              "6379 YVP NC294 2019-05-09 220          4\n",
              "6380 YVP NC294 2019-05-09 222          1\n",
              "6381 YVP NC294 2019-05-09 230          8\n",
              "6382 YVP NC294 2019-05-09 239          1\n",
              "6383 YVP NC294 2019-05-09 265          3\n",
              "6384 YVP NC294 2019-05-09 286          4\n",
              "6385 YVP NC294 2019-05-09 287          1\n",
              "6386 YVP NC294 2019-05-09 307          4\n",
              "6387 YVP NC294 2019-05-09 308          3\n",
              "6388 YVP NC294 2019-05-09 316          1\n",
              "6389 YVP NC294 2019-05-09 320          4\n",
              "6390 YVP NC294 2019-05-09 342          2\n",
              "6391 YVP NC294 2019-05-09 343          1\n",
              "6392 YVP NC294 2019-05-09 355          8\n",
              "6393 YVP NC294 2019-05-09 362          1\n",
              "6394 YVP NC294 2019-05-09 402          1\n",
              "6395 YVP NC294 2019-05-09 405         10\n",
              "6396 YVP NC294 2019-05-09 411          6\n",
              "6397 YVP NC294 2019-05-09 428         10\n",
              "6398 YVP NC294 2019-05-09 437          8\n",
              "6399 YVP NC294 2019-05-09 439          3\n",
              "6400 YVP NC294 2019-05-09 484          2\n",
              "6401 YVP NC294 2019-05-09 522          5\n",
              "6402 YVP NC294 2019-05-09 529          8\n",
              "6403 YVP NC294 2019-05-09 562          3\n",
              "6404 YVP NC294 2019-05-09 576          4"
            ],
            "text/latex": "A grouped\\_df: 6404 × 3\n\\begin{tabular}{lll}\n survey\\_code & species\\_key & n\\\\\n <chr> & <int> & <int>\\\\\n\\hline\n\t YVP 10 2017-06-09 &   5 &  1\\\\\n\t YVP 10 2017-06-09 &  37 &  2\\\\\n\t YVP 10 2017-06-09 &  39 &  2\\\\\n\t YVP 10 2017-06-09 &  51 &  1\\\\\n\t YVP 10 2017-06-09 &  72 &  1\\\\\n\t YVP 10 2017-06-09 &  82 &  1\\\\\n\t YVP 10 2017-06-09 &  84 &  1\\\\\n\t YVP 10 2017-06-09 &  90 &  2\\\\\n\t YVP 10 2017-06-09 & 153 &  2\\\\\n\t YVP 10 2017-06-09 & 163 &  2\\\\\n\t YVP 10 2017-06-09 & 169 &  1\\\\\n\t YVP 10 2017-06-09 & 187 &  3\\\\\n\t YVP 10 2017-06-09 & 202 &  1\\\\\n\t YVP 10 2017-06-09 & 212 &  1\\\\\n\t YVP 10 2017-06-09 & 218 &  1\\\\\n\t YVP 10 2017-06-09 & 220 &  1\\\\\n\t YVP 10 2017-06-09 & 230 &  7\\\\\n\t YVP 10 2017-06-09 & 232 & 10\\\\\n\t YVP 10 2017-06-09 & 233 & 10\\\\\n\t YVP 10 2017-06-09 & 239 &  5\\\\\n\t YVP 10 2017-06-09 & 240 &  3\\\\\n\t YVP 10 2017-06-09 & 250 &  5\\\\\n\t YVP 10 2017-06-09 & 274 &  4\\\\\n\t YVP 10 2017-06-09 & 286 &  7\\\\\n\t YVP 10 2017-06-09 & 298 &  1\\\\\n\t YVP 10 2017-06-09 & 308 &  4\\\\\n\t YVP 10 2017-06-09 & 316 &  2\\\\\n\t YVP 10 2017-06-09 & 320 &  9\\\\\n\t YVP 10 2017-06-09 & 343 &  2\\\\\n\t YVP 10 2017-06-09 & 355 &  1\\\\\n\t ⋮ & ⋮ & ⋮\\\\\n\t YVP NC294 2019-05-09 & 178 &  1\\\\\n\t YVP NC294 2019-05-09 & 183 &  2\\\\\n\t YVP NC294 2019-05-09 & 187 &  1\\\\\n\t YVP NC294 2019-05-09 & 202 &  1\\\\\n\t YVP NC294 2019-05-09 & 220 &  4\\\\\n\t YVP NC294 2019-05-09 & 222 &  1\\\\\n\t YVP NC294 2019-05-09 & 230 &  8\\\\\n\t YVP NC294 2019-05-09 & 239 &  1\\\\\n\t YVP NC294 2019-05-09 & 265 &  3\\\\\n\t YVP NC294 2019-05-09 & 286 &  4\\\\\n\t YVP NC294 2019-05-09 & 287 &  1\\\\\n\t YVP NC294 2019-05-09 & 307 &  4\\\\\n\t YVP NC294 2019-05-09 & 308 &  3\\\\\n\t YVP NC294 2019-05-09 & 316 &  1\\\\\n\t YVP NC294 2019-05-09 & 320 &  4\\\\\n\t YVP NC294 2019-05-09 & 342 &  2\\\\\n\t YVP NC294 2019-05-09 & 343 &  1\\\\\n\t YVP NC294 2019-05-09 & 355 &  8\\\\\n\t YVP NC294 2019-05-09 & 362 &  1\\\\\n\t YVP NC294 2019-05-09 & 402 &  1\\\\\n\t YVP NC294 2019-05-09 & 405 & 10\\\\\n\t YVP NC294 2019-05-09 & 411 &  6\\\\\n\t YVP NC294 2019-05-09 & 428 & 10\\\\\n\t YVP NC294 2019-05-09 & 437 &  8\\\\\n\t YVP NC294 2019-05-09 & 439 &  3\\\\\n\t YVP NC294 2019-05-09 & 484 &  2\\\\\n\t YVP NC294 2019-05-09 & 522 &  5\\\\\n\t YVP NC294 2019-05-09 & 529 &  8\\\\\n\t YVP NC294 2019-05-09 & 562 &  3\\\\\n\t YVP NC294 2019-05-09 & 576 &  4\\\\\n\\end{tabular}\n",
            "text/markdown": "\nA grouped_df: 6404 × 3\n\n| survey_code &lt;chr&gt; | species_key &lt;int&gt; | n &lt;int&gt; |\n|---|---|---|\n| YVP 10 2017-06-09 |   5 |  1 |\n| YVP 10 2017-06-09 |  37 |  2 |\n| YVP 10 2017-06-09 |  39 |  2 |\n| YVP 10 2017-06-09 |  51 |  1 |\n| YVP 10 2017-06-09 |  72 |  1 |\n| YVP 10 2017-06-09 |  82 |  1 |\n| YVP 10 2017-06-09 |  84 |  1 |\n| YVP 10 2017-06-09 |  90 |  2 |\n| YVP 10 2017-06-09 | 153 |  2 |\n| YVP 10 2017-06-09 | 163 |  2 |\n| YVP 10 2017-06-09 | 169 |  1 |\n| YVP 10 2017-06-09 | 187 |  3 |\n| YVP 10 2017-06-09 | 202 |  1 |\n| YVP 10 2017-06-09 | 212 |  1 |\n| YVP 10 2017-06-09 | 218 |  1 |\n| YVP 10 2017-06-09 | 220 |  1 |\n| YVP 10 2017-06-09 | 230 |  7 |\n| YVP 10 2017-06-09 | 232 | 10 |\n| YVP 10 2017-06-09 | 233 | 10 |\n| YVP 10 2017-06-09 | 239 |  5 |\n| YVP 10 2017-06-09 | 240 |  3 |\n| YVP 10 2017-06-09 | 250 |  5 |\n| YVP 10 2017-06-09 | 274 |  4 |\n| YVP 10 2017-06-09 | 286 |  7 |\n| YVP 10 2017-06-09 | 298 |  1 |\n| YVP 10 2017-06-09 | 308 |  4 |\n| YVP 10 2017-06-09 | 316 |  2 |\n| YVP 10 2017-06-09 | 320 |  9 |\n| YVP 10 2017-06-09 | 343 |  2 |\n| YVP 10 2017-06-09 | 355 |  1 |\n| ⋮ | ⋮ | ⋮ |\n| YVP NC294 2019-05-09 | 178 |  1 |\n| YVP NC294 2019-05-09 | 183 |  2 |\n| YVP NC294 2019-05-09 | 187 |  1 |\n| YVP NC294 2019-05-09 | 202 |  1 |\n| YVP NC294 2019-05-09 | 220 |  4 |\n| YVP NC294 2019-05-09 | 222 |  1 |\n| YVP NC294 2019-05-09 | 230 |  8 |\n| YVP NC294 2019-05-09 | 239 |  1 |\n| YVP NC294 2019-05-09 | 265 |  3 |\n| YVP NC294 2019-05-09 | 286 |  4 |\n| YVP NC294 2019-05-09 | 287 |  1 |\n| YVP NC294 2019-05-09 | 307 |  4 |\n| YVP NC294 2019-05-09 | 308 |  3 |\n| YVP NC294 2019-05-09 | 316 |  1 |\n| YVP NC294 2019-05-09 | 320 |  4 |\n| YVP NC294 2019-05-09 | 342 |  2 |\n| YVP NC294 2019-05-09 | 343 |  1 |\n| YVP NC294 2019-05-09 | 355 |  8 |\n| YVP NC294 2019-05-09 | 362 |  1 |\n| YVP NC294 2019-05-09 | 402 |  1 |\n| YVP NC294 2019-05-09 | 405 | 10 |\n| YVP NC294 2019-05-09 | 411 |  6 |\n| YVP NC294 2019-05-09 | 428 | 10 |\n| YVP NC294 2019-05-09 | 437 |  8 |\n| YVP NC294 2019-05-09 | 439 |  3 |\n| YVP NC294 2019-05-09 | 484 |  2 |\n| YVP NC294 2019-05-09 | 522 |  5 |\n| YVP NC294 2019-05-09 | 529 |  8 |\n| YVP NC294 2019-05-09 | 562 |  3 |\n| YVP NC294 2019-05-09 | 576 |  4 |\n\n",
            "text/html": [
              "<table>\n",
              "<caption>A grouped_df: 6404 × 3</caption>\n",
              "<thead>\n",
              "\t<tr><th scope=col>survey_code</th><th scope=col>species_key</th><th scope=col>n</th></tr>\n",
              "\t<tr><th scope=col>&lt;chr&gt;</th><th scope=col>&lt;int&gt;</th><th scope=col>&lt;int&gt;</th></tr>\n",
              "</thead>\n",
              "<tbody>\n",
              "\t<tr><td>YVP 10 2017-06-09</td><td>  5</td><td> 1</td></tr>\n",
              "\t<tr><td>YVP 10 2017-06-09</td><td> 37</td><td> 2</td></tr>\n",
              "\t<tr><td>YVP 10 2017-06-09</td><td> 39</td><td> 2</td></tr>\n",
              "\t<tr><td>YVP 10 2017-06-09</td><td> 51</td><td> 1</td></tr>\n",
              "\t<tr><td>YVP 10 2017-06-09</td><td> 72</td><td> 1</td></tr>\n",
              "\t<tr><td>YVP 10 2017-06-09</td><td> 82</td><td> 1</td></tr>\n",
              "\t<tr><td>YVP 10 2017-06-09</td><td> 84</td><td> 1</td></tr>\n",
              "\t<tr><td>YVP 10 2017-06-09</td><td> 90</td><td> 2</td></tr>\n",
              "\t<tr><td>YVP 10 2017-06-09</td><td>153</td><td> 2</td></tr>\n",
              "\t<tr><td>YVP 10 2017-06-09</td><td>163</td><td> 2</td></tr>\n",
              "\t<tr><td>YVP 10 2017-06-09</td><td>169</td><td> 1</td></tr>\n",
              "\t<tr><td>YVP 10 2017-06-09</td><td>187</td><td> 3</td></tr>\n",
              "\t<tr><td>YVP 10 2017-06-09</td><td>202</td><td> 1</td></tr>\n",
              "\t<tr><td>YVP 10 2017-06-09</td><td>212</td><td> 1</td></tr>\n",
              "\t<tr><td>YVP 10 2017-06-09</td><td>218</td><td> 1</td></tr>\n",
              "\t<tr><td>YVP 10 2017-06-09</td><td>220</td><td> 1</td></tr>\n",
              "\t<tr><td>YVP 10 2017-06-09</td><td>230</td><td> 7</td></tr>\n",
              "\t<tr><td>YVP 10 2017-06-09</td><td>232</td><td>10</td></tr>\n",
              "\t<tr><td>YVP 10 2017-06-09</td><td>233</td><td>10</td></tr>\n",
              "\t<tr><td>YVP 10 2017-06-09</td><td>239</td><td> 5</td></tr>\n",
              "\t<tr><td>YVP 10 2017-06-09</td><td>240</td><td> 3</td></tr>\n",
              "\t<tr><td>YVP 10 2017-06-09</td><td>250</td><td> 5</td></tr>\n",
              "\t<tr><td>YVP 10 2017-06-09</td><td>274</td><td> 4</td></tr>\n",
              "\t<tr><td>YVP 10 2017-06-09</td><td>286</td><td> 7</td></tr>\n",
              "\t<tr><td>YVP 10 2017-06-09</td><td>298</td><td> 1</td></tr>\n",
              "\t<tr><td>YVP 10 2017-06-09</td><td>308</td><td> 4</td></tr>\n",
              "\t<tr><td>YVP 10 2017-06-09</td><td>316</td><td> 2</td></tr>\n",
              "\t<tr><td>YVP 10 2017-06-09</td><td>320</td><td> 9</td></tr>\n",
              "\t<tr><td>YVP 10 2017-06-09</td><td>343</td><td> 2</td></tr>\n",
              "\t<tr><td>YVP 10 2017-06-09</td><td>355</td><td> 1</td></tr>\n",
              "\t<tr><td>⋮</td><td>⋮</td><td>⋮</td></tr>\n",
              "\t<tr><td>YVP NC294 2019-05-09</td><td>178</td><td> 1</td></tr>\n",
              "\t<tr><td>YVP NC294 2019-05-09</td><td>183</td><td> 2</td></tr>\n",
              "\t<tr><td>YVP NC294 2019-05-09</td><td>187</td><td> 1</td></tr>\n",
              "\t<tr><td>YVP NC294 2019-05-09</td><td>202</td><td> 1</td></tr>\n",
              "\t<tr><td>YVP NC294 2019-05-09</td><td>220</td><td> 4</td></tr>\n",
              "\t<tr><td>YVP NC294 2019-05-09</td><td>222</td><td> 1</td></tr>\n",
              "\t<tr><td>YVP NC294 2019-05-09</td><td>230</td><td> 8</td></tr>\n",
              "\t<tr><td>YVP NC294 2019-05-09</td><td>239</td><td> 1</td></tr>\n",
              "\t<tr><td>YVP NC294 2019-05-09</td><td>265</td><td> 3</td></tr>\n",
              "\t<tr><td>YVP NC294 2019-05-09</td><td>286</td><td> 4</td></tr>\n",
              "\t<tr><td>YVP NC294 2019-05-09</td><td>287</td><td> 1</td></tr>\n",
              "\t<tr><td>YVP NC294 2019-05-09</td><td>307</td><td> 4</td></tr>\n",
              "\t<tr><td>YVP NC294 2019-05-09</td><td>308</td><td> 3</td></tr>\n",
              "\t<tr><td>YVP NC294 2019-05-09</td><td>316</td><td> 1</td></tr>\n",
              "\t<tr><td>YVP NC294 2019-05-09</td><td>320</td><td> 4</td></tr>\n",
              "\t<tr><td>YVP NC294 2019-05-09</td><td>342</td><td> 2</td></tr>\n",
              "\t<tr><td>YVP NC294 2019-05-09</td><td>343</td><td> 1</td></tr>\n",
              "\t<tr><td>YVP NC294 2019-05-09</td><td>355</td><td> 8</td></tr>\n",
              "\t<tr><td>YVP NC294 2019-05-09</td><td>362</td><td> 1</td></tr>\n",
              "\t<tr><td>YVP NC294 2019-05-09</td><td>402</td><td> 1</td></tr>\n",
              "\t<tr><td>YVP NC294 2019-05-09</td><td>405</td><td>10</td></tr>\n",
              "\t<tr><td>YVP NC294 2019-05-09</td><td>411</td><td> 6</td></tr>\n",
              "\t<tr><td>YVP NC294 2019-05-09</td><td>428</td><td>10</td></tr>\n",
              "\t<tr><td>YVP NC294 2019-05-09</td><td>437</td><td> 8</td></tr>\n",
              "\t<tr><td>YVP NC294 2019-05-09</td><td>439</td><td> 3</td></tr>\n",
              "\t<tr><td>YVP NC294 2019-05-09</td><td>484</td><td> 2</td></tr>\n",
              "\t<tr><td>YVP NC294 2019-05-09</td><td>522</td><td> 5</td></tr>\n",
              "\t<tr><td>YVP NC294 2019-05-09</td><td>529</td><td> 8</td></tr>\n",
              "\t<tr><td>YVP NC294 2019-05-09</td><td>562</td><td> 3</td></tr>\n",
              "\t<tr><td>YVP NC294 2019-05-09</td><td>576</td><td> 4</td></tr>\n",
              "</tbody>\n",
              "</table>\n"
            ]
          },
          "metadata": {
            "tags": []
          }
        }
      ]
    },
    {
      "cell_type": "code",
      "metadata": {
        "id": "mNWeDeuwI5Nh",
        "colab_type": "code",
        "colab": {
          "base_uri": "https://localhost:8080/",
          "height": 204
        },
        "outputId": "3ff9cd38-9ac8-457f-d0be-6bc7ea743081"
      },
      "source": [
        "df_yvp %>%\n",
        "  group_by(survey_code, species_key) %>%\n",
        "  distinct(detection_type) %>%\n",
        "  count(species_key) %>%\n",
        "  filter(n > 1) %>%\n",
        "  arrange(desc(n), survey_code, species_key) %>%\n",
        "  select(survey_code, species_key) %>%\n",
        "  head()"
      ],
      "execution_count": 57,
      "outputs": [
        {
          "output_type": "display_data",
          "data": {
            "text/plain": [
              "  survey_code       species_key\n",
              "1 YVP 10 2018-07-12  16        \n",
              "2 YVP 10 2018-07-12 163        \n",
              "3 YVP 10 2018-07-12 169        \n",
              "4 YVP 10 2018-07-12 433        \n",
              "5 YVP 10 2019-07-02  16        \n",
              "6 YVP 10 2019-07-02 163        "
            ],
            "text/latex": "A grouped\\_df: 6 × 2\n\\begin{tabular}{ll}\n survey\\_code & species\\_key\\\\\n <chr> & <int>\\\\\n\\hline\n\t YVP 10 2018-07-12 &  16\\\\\n\t YVP 10 2018-07-12 & 163\\\\\n\t YVP 10 2018-07-12 & 169\\\\\n\t YVP 10 2018-07-12 & 433\\\\\n\t YVP 10 2019-07-02 &  16\\\\\n\t YVP 10 2019-07-02 & 163\\\\\n\\end{tabular}\n",
            "text/markdown": "\nA grouped_df: 6 × 2\n\n| survey_code &lt;chr&gt; | species_key &lt;int&gt; |\n|---|---|\n| YVP 10 2018-07-12 |  16 |\n| YVP 10 2018-07-12 | 163 |\n| YVP 10 2018-07-12 | 169 |\n| YVP 10 2018-07-12 | 433 |\n| YVP 10 2019-07-02 |  16 |\n| YVP 10 2019-07-02 | 163 |\n\n",
            "text/html": [
              "<table>\n",
              "<caption>A grouped_df: 6 × 2</caption>\n",
              "<thead>\n",
              "\t<tr><th scope=col>survey_code</th><th scope=col>species_key</th></tr>\n",
              "\t<tr><th scope=col>&lt;chr&gt;</th><th scope=col>&lt;int&gt;</th></tr>\n",
              "</thead>\n",
              "<tbody>\n",
              "\t<tr><td>YVP 10 2018-07-12</td><td> 16</td></tr>\n",
              "\t<tr><td>YVP 10 2018-07-12</td><td>163</td></tr>\n",
              "\t<tr><td>YVP 10 2018-07-12</td><td>169</td></tr>\n",
              "\t<tr><td>YVP 10 2018-07-12</td><td>433</td></tr>\n",
              "\t<tr><td>YVP 10 2019-07-02</td><td> 16</td></tr>\n",
              "\t<tr><td>YVP 10 2019-07-02</td><td>163</td></tr>\n",
              "</tbody>\n",
              "</table>\n"
            ]
          },
          "metadata": {
            "tags": []
          }
        }
      ]
    },
    {
      "cell_type": "code",
      "metadata": {
        "id": "i-fLKJY6LTDh",
        "colab_type": "code",
        "colab": {
          "base_uri": "https://localhost:8080/",
          "height": 120
        },
        "outputId": "18568db4-ff67-4678-aca4-e9bc4f2aee6d"
      },
      "source": [
        "df_yvp %>%\n",
        "  filter(survey_code == \"YVP 10 2018-07-12\" &\n",
        "         species_key == 16)"
      ],
      "execution_count": 36,
      "outputs": [
        {
          "output_type": "display_data",
          "data": {
            "text/plain": [
              "  survey_code       plot_code year plot_loc plot_rep plot_num detection_type  \n",
              "1 YVP 10 2018-07-12 YVP 10    2018 NA       NA       10       supplemental_obs\n",
              "2 YVP 10 2018-07-12 YVP 10    2018 NA       NA       10       cover_est       \n",
              "  species_key\n",
              "1 16         \n",
              "2 16         "
            ],
            "text/latex": "A data.frame: 2 × 8\n\\begin{tabular}{llllllll}\n survey\\_code & plot\\_code & year & plot\\_loc & plot\\_rep & plot\\_num & detection\\_type & species\\_key\\\\\n <chr> & <chr> & <chr> & <chr> & <chr> & <int> & <chr> & <int>\\\\\n\\hline\n\t YVP 10 2018-07-12 & YVP 10 & 2018 & NA & NA & 10 & supplemental\\_obs & 16\\\\\n\t YVP 10 2018-07-12 & YVP 10 & 2018 & NA & NA & 10 & cover\\_est        & 16\\\\\n\\end{tabular}\n",
            "text/markdown": "\nA data.frame: 2 × 8\n\n| survey_code &lt;chr&gt; | plot_code &lt;chr&gt; | year &lt;chr&gt; | plot_loc &lt;chr&gt; | plot_rep &lt;chr&gt; | plot_num &lt;int&gt; | detection_type &lt;chr&gt; | species_key &lt;int&gt; |\n|---|---|---|---|---|---|---|---|\n| YVP 10 2018-07-12 | YVP 10 | 2018 | NA | NA | 10 | supplemental_obs | 16 |\n| YVP 10 2018-07-12 | YVP 10 | 2018 | NA | NA | 10 | cover_est        | 16 |\n\n",
            "text/html": [
              "<table>\n",
              "<caption>A data.frame: 2 × 8</caption>\n",
              "<thead>\n",
              "\t<tr><th scope=col>survey_code</th><th scope=col>plot_code</th><th scope=col>year</th><th scope=col>plot_loc</th><th scope=col>plot_rep</th><th scope=col>plot_num</th><th scope=col>detection_type</th><th scope=col>species_key</th></tr>\n",
              "\t<tr><th scope=col>&lt;chr&gt;</th><th scope=col>&lt;chr&gt;</th><th scope=col>&lt;chr&gt;</th><th scope=col>&lt;chr&gt;</th><th scope=col>&lt;chr&gt;</th><th scope=col>&lt;int&gt;</th><th scope=col>&lt;chr&gt;</th><th scope=col>&lt;int&gt;</th></tr>\n",
              "</thead>\n",
              "<tbody>\n",
              "\t<tr><td>YVP 10 2018-07-12</td><td>YVP 10</td><td>2018</td><td>NA</td><td>NA</td><td>10</td><td>supplemental_obs</td><td>16</td></tr>\n",
              "\t<tr><td>YVP 10 2018-07-12</td><td>YVP 10</td><td>2018</td><td>NA</td><td>NA</td><td>10</td><td>cover_est       </td><td>16</td></tr>\n",
              "</tbody>\n",
              "</table>\n"
            ]
          },
          "metadata": {
            "tags": []
          }
        }
      ]
    },
    {
      "cell_type": "code",
      "metadata": {
        "id": "gxIwcFrxPPDR",
        "colab_type": "code",
        "colab": {}
      },
      "source": [
        "duplicates <- df_yvp %>%\n",
        "  group_by(survey_code, species_key) %>%\n",
        "  distinct(detection_type) %>%\n",
        "  count(species_key) %>%\n",
        "  filter(n > 1) %>%\n",
        "  arrange(desc(n), survey_code, species_key) %>%\n",
        "  select(survey_code, species_key) %>%\n",
        "  head()"
      ],
      "execution_count": 51,
      "outputs": []
    },
    {
      "cell_type": "code",
      "metadata": {
        "id": "w1OtRx19PVBd",
        "colab_type": "code",
        "colab": {
          "base_uri": "https://localhost:8080/",
          "height": 759
        },
        "outputId": "fefd4ac1-9869-40da-96f0-8ac708cfe4be"
      },
      "source": [
        "vars <- c(\"survey_code\", \"species_key\")\n",
        "\n",
        "df_yvp %>%\n",
        "  filter(.data)"
      ],
      "execution_count": 53,
      "outputs": [
        {
          "output_type": "error",
          "ename": "ERROR",
          "evalue": "ignored",
          "traceback": [
            "Error: Must subset the data pronoun with a string.\nTraceback:\n",
            "1. df_yvp %>% filter(survey_code == .data[[duplicates[1]]])",
            "2. withVisible(eval(quote(`_fseq`(`_lhs`)), env, env))",
            "3. eval(quote(`_fseq`(`_lhs`)), env, env)",
            "4. eval(quote(`_fseq`(`_lhs`)), env, env)",
            "5. `_fseq`(`_lhs`)",
            "6. freduce(value, `_function_list`)",
            "7. withVisible(function_list[[k]](value))",
            "8. function_list[[k]](value)",
            "9. filter(., survey_code == .data[[duplicates[1]]])",
            "10. filter.data.frame(., survey_code == .data[[duplicates[1]]])",
            "11. filter_rows(.data, ...)",
            "12. tryCatch(mask$eval_all_filter(dots, env_filter), simpleError = function(e) {\n  .     stop_dplyr(env_filter$current_expression, dots, fn = \"filter\", \n  .         problem = conditionMessage(e))\n  . })",
            "13. tryCatchList(expr, classes, parentenv, handlers)",
            "14. tryCatchOne(expr, names, parentenv, handlers[[1L]])",
            "15. doTryCatch(return(expr), name, parentenv, handler)",
            "16. mask$eval_all_filter(dots, env_filter)",
            "17. .data[[structure(list(survey_code = c(\"YVP 10 2018-07-12\", \"YVP 10 2018-07-12\", \n  . \"YVP 10 2018-07-12\", \"YVP 10 2018-07-12\", \"YVP 10 2019-07-02\", \n  . \"YVP 10 2019-07-02\")), row.names = c(NA, -6L), groups = structure(list(\n  .     survey_code = c(\"YVP 10 2018-07-12\", \"YVP 10 2019-07-02\"), \n  .     .rows = structure(list(1:4, 5:6), ptype = integer(0), class = c(\"vctrs_list_of\", \n  .     \"vctrs_vctr\", \"list\"))), row.names = 1:2, class = c(\"tbl_df\", \n  . \"tbl\", \"data.frame\"), .drop = TRUE), class = c(\"grouped_df\", \n  . \"tbl_df\", \"tbl\", \"data.frame\"))]]",
            "18. `[[.rlang_data_pronoun`(.data, structure(list(survey_code = c(\"YVP 10 2018-07-12\", \n  . \"YVP 10 2018-07-12\", \"YVP 10 2018-07-12\", \"YVP 10 2018-07-12\", \n  . \"YVP 10 2019-07-02\", \"YVP 10 2019-07-02\")), row.names = c(NA, \n  . -6L), groups = structure(list(survey_code = c(\"YVP 10 2018-07-12\", \n  . \"YVP 10 2019-07-02\"), .rows = structure(list(1:4, 5:6), ptype = integer(0), class = c(\"vctrs_list_of\", \n  . \"vctrs_vctr\", \"list\"))), row.names = 1:2, class = c(\"tbl_df\", \n  . \"tbl\", \"data.frame\"), .drop = TRUE), class = c(\"grouped_df\", \n  . \"tbl_df\", \"tbl\", \"data.frame\")))",
            "19. data_pronoun_get(x, i)",
            "20. abort(\"Must subset the data pronoun with a string.\")",
            "21. signal_abort(cnd)"
          ]
        }
      ]
    }
  ]
}