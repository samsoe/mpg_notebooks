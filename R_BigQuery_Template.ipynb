{
  "nbformat": 4,
  "nbformat_minor": 0,
  "metadata": {
    "colab": {
      "name": "R_BigQuery-Template.ipynb",
      "provenance": [],
      "collapsed_sections": [],
      "toc_visible": true,
      "include_colab_link": true
    },
    "language_info": {
      "codemirror_mode": "r",
      "file_extension": ".r",
      "mimetype": "text/x-r-source",
      "name": "R",
      "pygments_lexer": "r",
      "version": "3.3.1"
    },
    "kernelspec": {
      "display_name": "R",
      "language": "R",
      "name": "ir"
    }
  },
  "cells": [
    {
      "cell_type": "markdown",
      "metadata": {
        "id": "view-in-github",
        "colab_type": "text"
      },
      "source": [
        "<a href=\"https://colab.research.google.com/github/samsoe/mpg_notebooks/blob/master/R_BigQuery_Template.ipynb\" target=\"_parent\"><img src=\"https://colab.research.google.com/assets/colab-badge.svg\" alt=\"Open In Colab\"/></a>"
      ]
    },
    {
      "cell_type": "markdown",
      "metadata": {
        "id": "BhOI1uU2Koum",
        "colab_type": "text"
      },
      "source": [
        "# Security"
      ]
    },
    {
      "cell_type": "markdown",
      "metadata": {
        "id": "hgB3r3wvA9Pn",
        "colab_type": "text"
      },
      "source": [
        "* The user must load a `json` file containing the BigQuery API key into the local directory `/content/...`\n",
        "* The user must have a Google Maps API key to enable mapping. \n",
        "   * CAUTION make sure the key is deleted from the current instance of the notebook before sharing"
      ]
    },
    {
      "cell_type": "markdown",
      "metadata": {
        "id": "MnG0ah7OA59c",
        "colab_type": "text"
      },
      "source": [
        "# Tools"
      ]
    },
    {
      "cell_type": "code",
      "metadata": {
        "id": "Y6y4EWeYpVBJ",
        "colab_type": "code",
        "colab": {}
      },
      "source": [
        "library(tidyverse)"
      ],
      "execution_count": null,
      "outputs": []
    },
    {
      "cell_type": "markdown",
      "metadata": {
        "id": "eUw-It3JBBrQ",
        "colab_type": "text"
      },
      "source": [
        "* Remember that the file containing authorization keys for Big Query must be loaded into the virutual envrionment manually."
      ]
    },
    {
      "cell_type": "code",
      "metadata": {
        "id": "VxYkYhQTKouo",
        "colab_type": "code",
        "colab": {
          "base_uri": "https://localhost:8080/",
          "height": 119
        },
        "outputId": "a73c6a62-57b9-4b06-da05-cfbbfe30e7d5"
      },
      "source": [
        "install.packages(\"bigrquery\")\n",
        "library(bigrquery)"
      ],
      "execution_count": null,
      "outputs": [
        {
          "output_type": "stream",
          "text": [
            "Installing package into ‘/usr/local/lib/R/site-library’\n",
            "(as ‘lib’ is unspecified)\n",
            "\n",
            "also installing the dependencies ‘bit’, ‘bit64’, ‘gargle’, ‘rapidjsonr’\n",
            "\n",
            "\n"
          ],
          "name": "stderr"
        }
      ]
    },
    {
      "cell_type": "markdown",
      "metadata": {
        "id": "H1I9aQ_SBH3n",
        "colab_type": "text"
      },
      "source": [
        "# Source"
      ]
    },
    {
      "cell_type": "markdown",
      "metadata": {
        "id": "Bfb7MHpGBJMO",
        "colab_type": "text"
      },
      "source": [
        "## Database Connection"
      ]
    },
    {
      "cell_type": "code",
      "metadata": {
        "id": "ihI70_BPKouq",
        "colab_type": "code",
        "colab": {}
      },
      "source": [
        "# BigQuery API Key\n",
        "bq_auth(path = \"/content/mpg-data-warehouse-api_key-master.json\")"
      ],
      "execution_count": null,
      "outputs": []
    },
    {
      "cell_type": "code",
      "metadata": {
        "id": "8YxL8wHoBNxV",
        "colab_type": "code",
        "colab": {}
      },
      "source": [
        "Sys.setenv(BIGQUERY_TEST_PROJECT = \"mpg-data-warehouse\")"
      ],
      "execution_count": null,
      "outputs": []
    },
    {
      "cell_type": "code",
      "metadata": {
        "id": "yevfizb5BQXm",
        "colab_type": "code",
        "colab": {}
      },
      "source": [
        "billing <- bq_test_project()"
      ],
      "execution_count": null,
      "outputs": []
    },
    {
      "cell_type": "markdown",
      "metadata": {
        "id": "JN4Z34yRp2-k",
        "colab_type": "text"
      },
      "source": [
        "### vegetation_point_intercept_gridVeg"
      ]
    },
    {
      "cell_type": "code",
      "metadata": {
        "id": "26UqASAoB2p0",
        "colab_type": "code",
        "colab": {}
      },
      "source": [
        "survey_sql <- \"SELECT *\n",
        "               FROM `mpg-data-warehouse.vegetation_gridVeg_summaries.gridVeg_survey_effort`\""
      ],
      "execution_count": null,
      "outputs": []
    },
    {
      "cell_type": "code",
      "metadata": {
        "id": "VSXOoJkcB3dn",
        "colab_type": "code",
        "colab": {}
      },
      "source": [
        "bq_survey <- bq_project_query(billing, survey_sql)"
      ],
      "execution_count": null,
      "outputs": []
    },
    {
      "cell_type": "code",
      "metadata": {
        "id": "KpZnymzzB5Ms",
        "colab_type": "code",
        "colab": {}
      },
      "source": [
        "tb_survey <- bq_table_download(bq_survey)"
      ],
      "execution_count": null,
      "outputs": []
    },
    {
      "cell_type": "code",
      "metadata": {
        "id": "VcoNMCO1B6gY",
        "colab_type": "code",
        "colab": {}
      },
      "source": [
        "df_survey <- as.data.frame(tb_survey)"
      ],
      "execution_count": null,
      "outputs": []
    }
  ]
}