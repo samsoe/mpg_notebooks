{
  "nbformat": 4,
  "nbformat_minor": 0,
  "metadata": {
    "colab": {
      "name": "vegMethods_ground_cover.ipynb",
      "provenance": [],
      "collapsed_sections": [],
      "toc_visible": true,
      "include_colab_link": true
    },
    "language_info": {
      "codemirror_mode": "r",
      "file_extension": ".r",
      "mimetype": "text/x-r-source",
      "name": "R",
      "pygments_lexer": "r",
      "version": "3.3.1"
    },
    "kernelspec": {
      "display_name": "R",
      "language": "R",
      "name": "ir"
    }
  },
  "cells": [
    {
      "cell_type": "markdown",
      "metadata": {
        "id": "view-in-github",
        "colab_type": "text"
      },
      "source": [
        "<a href=\"https://colab.research.google.com/github/samsoe/mpg_notebooks/blob/master/vegMethods_ground_cover.ipynb\" target=\"_parent\"><img src=\"https://colab.research.google.com/assets/colab-badge.svg\" alt=\"Open In Colab\"/></a>"
      ]
    },
    {
      "cell_type": "markdown",
      "metadata": {
        "id": "VhtaKYYE9Vb8",
        "colab_type": "text"
      },
      "source": [
        "# Documentation"
      ]
    },
    {
      "cell_type": "markdown",
      "metadata": {
        "id": "n0_1bGcL9Yjz",
        "colab_type": "text"
      },
      "source": [
        "Create the notebook **vegMethods_ground_cover** and load **vegetation_fixed_plot_yvp_summaries:yvp_groundCover_cover** and **vegetation_gridVeg_summaries:gridVeg_groundCover_intercepts** from BQ"
      ]
    },
    {
      "cell_type": "markdown",
      "metadata": {
        "id": "BhOI1uU2Koum",
        "colab_type": "text"
      },
      "source": [
        "# Security"
      ]
    },
    {
      "cell_type": "markdown",
      "metadata": {
        "id": "hgB3r3wvA9Pn",
        "colab_type": "text"
      },
      "source": [
        "* The user must load a `json` file containing the BigQuery API key into the local directory `/content/...`\n",
        "* The user must have a Google Maps API key to enable mapping. \n",
        "   * CAUTION make sure the key is deleted from the current instance of the notebook before sharing"
      ]
    },
    {
      "cell_type": "markdown",
      "metadata": {
        "id": "MnG0ah7OA59c",
        "colab_type": "text"
      },
      "source": [
        "# Tools"
      ]
    },
    {
      "cell_type": "code",
      "metadata": {
        "id": "Y6y4EWeYpVBJ",
        "colab_type": "code",
        "colab": {
          "base_uri": "https://localhost:8080/",
          "height": 204
        },
        "outputId": "388ede6f-1050-4f29-ef45-2bcdf298ac6d"
      },
      "source": [
        "library(tidyverse)"
      ],
      "execution_count": 2,
      "outputs": [
        {
          "output_type": "stream",
          "text": [
            "── \u001b[1mAttaching packages\u001b[22m ─────────────────────────────────────── tidyverse 1.3.0 ──\n",
            "\n",
            "\u001b[32m✔\u001b[39m \u001b[34mggplot2\u001b[39m 3.3.2     \u001b[32m✔\u001b[39m \u001b[34mpurrr  \u001b[39m 0.3.4\n",
            "\u001b[32m✔\u001b[39m \u001b[34mtibble \u001b[39m 3.0.2     \u001b[32m✔\u001b[39m \u001b[34mdplyr  \u001b[39m 1.0.0\n",
            "\u001b[32m✔\u001b[39m \u001b[34mtidyr  \u001b[39m 1.1.0     \u001b[32m✔\u001b[39m \u001b[34mstringr\u001b[39m 1.4.0\n",
            "\u001b[32m✔\u001b[39m \u001b[34mreadr  \u001b[39m 1.3.1     \u001b[32m✔\u001b[39m \u001b[34mforcats\u001b[39m 0.5.0\n",
            "\n",
            "── \u001b[1mConflicts\u001b[22m ────────────────────────────────────────── tidyverse_conflicts() ──\n",
            "\u001b[31m✖\u001b[39m \u001b[34mdplyr\u001b[39m::\u001b[32mfilter()\u001b[39m masks \u001b[34mstats\u001b[39m::filter()\n",
            "\u001b[31m✖\u001b[39m \u001b[34mdplyr\u001b[39m::\u001b[32mlag()\u001b[39m    masks \u001b[34mstats\u001b[39m::lag()\n",
            "\n"
          ],
          "name": "stderr"
        }
      ]
    },
    {
      "cell_type": "markdown",
      "metadata": {
        "id": "eUw-It3JBBrQ",
        "colab_type": "text"
      },
      "source": [
        "* Remember that the file containing authorization keys for Big Query must be loaded into the virutual envrionment manually."
      ]
    },
    {
      "cell_type": "code",
      "metadata": {
        "id": "VxYkYhQTKouo",
        "colab_type": "code",
        "colab": {
          "base_uri": "https://localhost:8080/",
          "height": 119
        },
        "outputId": "0486942f-3155-4133-bbf1-5d52e1878994"
      },
      "source": [
        "install.packages(\"bigrquery\")\n",
        "library(bigrquery)"
      ],
      "execution_count": 1,
      "outputs": [
        {
          "output_type": "stream",
          "text": [
            "Installing package into ‘/usr/local/lib/R/site-library’\n",
            "(as ‘lib’ is unspecified)\n",
            "\n",
            "also installing the dependencies ‘bit’, ‘bit64’, ‘gargle’, ‘rapidjsonr’\n",
            "\n",
            "\n"
          ],
          "name": "stderr"
        }
      ]
    },
    {
      "cell_type": "markdown",
      "metadata": {
        "id": "H1I9aQ_SBH3n",
        "colab_type": "text"
      },
      "source": [
        "# Source"
      ]
    },
    {
      "cell_type": "markdown",
      "metadata": {
        "id": "Bfb7MHpGBJMO",
        "colab_type": "text"
      },
      "source": [
        "## Database Connection"
      ]
    },
    {
      "cell_type": "code",
      "metadata": {
        "id": "ihI70_BPKouq",
        "colab_type": "code",
        "colab": {}
      },
      "source": [
        "# BigQuery API Key\n",
        "bq_auth(path = \"/content/mpg-data-warehouse-api_key-master.json\")"
      ],
      "execution_count": 3,
      "outputs": []
    },
    {
      "cell_type": "code",
      "metadata": {
        "id": "8YxL8wHoBNxV",
        "colab_type": "code",
        "colab": {}
      },
      "source": [
        "Sys.setenv(BIGQUERY_TEST_PROJECT = \"mpg-data-warehouse\")"
      ],
      "execution_count": 4,
      "outputs": []
    },
    {
      "cell_type": "code",
      "metadata": {
        "id": "yevfizb5BQXm",
        "colab_type": "code",
        "colab": {}
      },
      "source": [
        "billing <- bq_test_project()"
      ],
      "execution_count": 5,
      "outputs": []
    },
    {
      "cell_type": "markdown",
      "metadata": {
        "id": "NAYwybFm9i_C",
        "colab_type": "text"
      },
      "source": [
        "## Database Query"
      ]
    },
    {
      "cell_type": "markdown",
      "metadata": {
        "id": "JN4Z34yRp2-k",
        "colab_type": "text"
      },
      "source": [
        "### yvp_groundCover_cover"
      ]
    },
    {
      "cell_type": "code",
      "metadata": {
        "id": "26UqASAoB2p0",
        "colab_type": "code",
        "colab": {}
      },
      "source": [
        "sql_groundCover_cover <- \"SELECT *\n",
        "               FROM `mpg-data-warehouse.vegetation_fixed_plot_yvp_summaries.yvp_groundCover_cover`\""
      ],
      "execution_count": 6,
      "outputs": []
    },
    {
      "cell_type": "code",
      "metadata": {
        "id": "VSXOoJkcB3dn",
        "colab_type": "code",
        "colab": {}
      },
      "source": [
        "bq_groundCover_cover <- bq_project_query(billing, sql_groundCover_cover)"
      ],
      "execution_count": 7,
      "outputs": []
    },
    {
      "cell_type": "code",
      "metadata": {
        "id": "KpZnymzzB5Ms",
        "colab_type": "code",
        "colab": {}
      },
      "source": [
        "tb_groundCover_cover <- bq_table_download(bq_groundCover_cover)"
      ],
      "execution_count": 8,
      "outputs": []
    },
    {
      "cell_type": "code",
      "metadata": {
        "id": "VcoNMCO1B6gY",
        "colab_type": "code",
        "colab": {}
      },
      "source": [
        "df_groundCover_cover <- as.data.frame(tb_groundCover_cover)"
      ],
      "execution_count": 9,
      "outputs": []
    },
    {
      "cell_type": "markdown",
      "metadata": {
        "id": "PHQJ9PDw94sa",
        "colab_type": "text"
      },
      "source": [
        "### gridVeg_groundCover_intercepts"
      ]
    },
    {
      "cell_type": "code",
      "metadata": {
        "id": "3aC-RbWo9-IU",
        "colab_type": "code",
        "colab": {}
      },
      "source": [
        "sql_gridVeg_groundCover_intercepts <- \"\n",
        "  SELECT *\n",
        "  FROM `mpg-data-warehouse.vegetation_gridVeg_summaries.gridVeg_groundCover_intercepts`\n",
        "\""
      ],
      "execution_count": 10,
      "outputs": []
    },
    {
      "cell_type": "code",
      "metadata": {
        "id": "WcU3bc3j-LKM",
        "colab_type": "code",
        "colab": {}
      },
      "source": [
        "bq_gridVeg_groundCover_intercepts <- bq_project_query(billing, sql_gridVeg_groundCover_intercepts)"
      ],
      "execution_count": 11,
      "outputs": []
    },
    {
      "cell_type": "code",
      "metadata": {
        "id": "XosVxlF6-ONG",
        "colab_type": "code",
        "colab": {}
      },
      "source": [
        "tb_gridVeg_groundCover_intercepts <- bq_table_download(bq_gridVeg_groundCover_intercepts)"
      ],
      "execution_count": 12,
      "outputs": []
    },
    {
      "cell_type": "code",
      "metadata": {
        "id": "z16fh-XP-SXz",
        "colab_type": "code",
        "colab": {
          "base_uri": "https://localhost:8080/",
          "height": 272
        },
        "outputId": "80bb9662-4970-4dc5-dbde-38908a62a383"
      },
      "source": [
        "df_gridVeg_groundCover_intercepts <- as.data.frame(tb_gridVeg_groundCover_intercepts) %>% glimpse()"
      ],
      "execution_count": 13,
      "outputs": [
        {
          "output_type": "stream",
          "text": [
            "Rows: 23,636\n",
            "Columns: 13\n",
            "$ survey_ID                   \u001b[3m\u001b[90m<chr>\u001b[39m\u001b[23m \"289A487F-27D8-4D22-916B-F582740D2E41\", \"…\n",
            "$ intercept_ground_code       \u001b[3m\u001b[90m<chr>\u001b[39m\u001b[23m \"BV\", \"G\", \"L\", \"LIC\", \"M\", \"M/L\", \"OTHER…\n",
            "$ grid_point                  \u001b[3m\u001b[90m<int>\u001b[39m\u001b[23m 476, 476, 476, 476, 476, 476, 476, 476, 4…\n",
            "$ intercepts_pct              \u001b[3m\u001b[90m<dbl>\u001b[39m\u001b[23m 3.5, 0.0, 84.0, 1.0, 9.0, 0.0, 0.0, 0.0, …\n",
            "$ year                        \u001b[3m\u001b[90m<int>\u001b[39m\u001b[23m 2016, 2016, 2016, 2016, 2016, 2016, 2016,…\n",
            "$ survey_sequence             \u001b[3m\u001b[90m<chr>\u001b[39m\u001b[23m \"2016\", \"2016\", \"2016\", \"2016\", \"2016\", \"…\n",
            "$ aspect_mean_deg             \u001b[3m\u001b[90m<dbl>\u001b[39m\u001b[23m -1, -1, -1, -1, -1, -1, -1, -1, -1, -1, -…\n",
            "$ elevation_mean_m            \u001b[3m\u001b[90m<dbl>\u001b[39m\u001b[23m 964, 964, 964, 964, 964, 964, 964, 964, 9…\n",
            "$ slope_mean_deg              \u001b[3m\u001b[90m<dbl>\u001b[39m\u001b[23m 0, 0, 0, 0, 0, 0, 0, 0, 0, 0, 0, 0, 0, 0,…\n",
            "$ cover_type_2016_gridVeg     \u001b[3m\u001b[90m<chr>\u001b[39m\u001b[23m \"riparian\", \"riparian\", \"riparian\", \"ripa…\n",
            "$ type3_vegetation_indicators \u001b[3m\u001b[90m<chr>\u001b[39m\u001b[23m \"NA\", \"NA\", \"NA\", \"NA\", \"NA\", \"NA\", \"NA\",…\n",
            "$ type4_indicators_history    \u001b[3m\u001b[90m<chr>\u001b[39m\u001b[23m \"NA\", \"NA\", \"NA\", \"NA\", \"NA\", \"NA\", \"NA\",…\n",
            "$ ground_group                \u001b[3m\u001b[90m<chr>\u001b[39m\u001b[23m \"living vegetation\", \"inorganic\", \"dead v…\n"
          ],
          "name": "stdout"
        }
      ]
    }
  ]
}