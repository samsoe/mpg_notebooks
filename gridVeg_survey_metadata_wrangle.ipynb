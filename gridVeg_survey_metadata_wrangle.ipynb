{
  "nbformat": 4,
  "nbformat_minor": 0,
  "metadata": {
    "colab": {
      "name": "gridVeg_survey_metadata-wrangle.ipynb",
      "provenance": [],
      "collapsed_sections": [],
      "include_colab_link": true
    },
    "language_info": {
      "codemirror_mode": "r",
      "file_extension": ".r",
      "mimetype": "text/x-r-source",
      "name": "R",
      "pygments_lexer": "r",
      "version": "3.3.1"
    },
    "kernelspec": {
      "display_name": "R",
      "language": "R",
      "name": "ir"
    },
    "accelerator": "GPU"
  },
  "cells": [
    {
      "cell_type": "markdown",
      "metadata": {
        "id": "view-in-github",
        "colab_type": "text"
      },
      "source": [
        "<a href=\"https://colab.research.google.com/github/samsoe/mpg_notebooks/blob/master/gridVeg_survey_metadata_wrangle.ipynb\" target=\"_parent\"><img src=\"https://colab.research.google.com/assets/colab-badge.svg\" alt=\"Open In Colab\"/></a>"
      ]
    },
    {
      "cell_type": "markdown",
      "metadata": {
        "id": "J9m9uOdHh-hP",
        "colab_type": "text"
      },
      "source": [
        "# Tools"
      ]
    },
    {
      "cell_type": "code",
      "metadata": {
        "id": "wQCBovJKiB1t",
        "colab_type": "code",
        "colab": {}
      },
      "source": [
        "library(tidyverse)"
      ],
      "execution_count": 0,
      "outputs": []
    },
    {
      "cell_type": "markdown",
      "metadata": {
        "id": "BhOI1uU2Koum",
        "colab_type": "text"
      },
      "source": [
        "# Source"
      ]
    },
    {
      "cell_type": "code",
      "metadata": {
        "id": "VxYkYhQTKouo",
        "colab_type": "code",
        "colab": {}
      },
      "source": [
        "# 2020-06-15_gridVeg_survey_metadata_SOURCE.csv\n",
        "src <- \"https://drive.google.com/uc?export=download&id=12FgxXQbpC3XotrATbBLx-SYKypUKkXPt\""
      ],
      "execution_count": 0,
      "outputs": []
    },
    {
      "cell_type": "code",
      "metadata": {
        "id": "ihI70_BPKouq",
        "colab_type": "code",
        "outputId": "4aa9e979-63a2-4421-d4ef-4e0d70e0cdcc",
        "colab": {
          "base_uri": "https://localhost:8080/",
          "height": 170
        }
      },
      "source": [
        "df_gridVeg <- read_csv(src)"
      ],
      "execution_count": 23,
      "outputs": [
        {
          "output_type": "stream",
          "text": [
            "Parsed with column specification:\n",
            "cols(\n",
            "  `__kp_Survey` = \u001b[31mcol_character()\u001b[39m,\n",
            "  `_kf_Site` = \u001b[32mcol_double()\u001b[39m,\n",
            "  SurveyYear = \u001b[32mcol_double()\u001b[39m,\n",
            "  SurveyDate = \u001b[31mcol_character()\u001b[39m,\n",
            "  Surveyor1 = \u001b[31mcol_character()\u001b[39m\n",
            ")\n",
            "\n"
          ],
          "name": "stderr"
        }
      ]
    },
    {
      "cell_type": "markdown",
      "metadata": {
        "id": "QNQV9Ykdi4FZ",
        "colab_type": "text"
      },
      "source": [
        "# Structure"
      ]
    },
    {
      "cell_type": "markdown",
      "metadata": {
        "id": "nKC9_MyOkQfL",
        "colab_type": "text"
      },
      "source": [
        "## Rename\n",
        "* name according to schema specification"
      ]
    },
    {
      "cell_type": "code",
      "metadata": {
        "id": "jN0W4GaqlHZA",
        "colab_type": "code",
        "colab": {
          "base_uri": "https://localhost:8080/",
          "height": 34
        },
        "outputId": "83c66081-1cc7-4449-95df-f016096ca190"
      },
      "source": [
        "colnames(df_gridVeg)"
      ],
      "execution_count": 16,
      "outputs": [
        {
          "output_type": "display_data",
          "data": {
            "text/plain": [
              "[1] \"__kp_Survey\" \"_kf_Site\"    \"SurveyYear\"  \"SurveyDate\"  \"Surveyor1\"  "
            ],
            "text/latex": "\\begin{enumerate*}\n\\item '\\_\\_kp\\_Survey'\n\\item '\\_kf\\_Site'\n\\item 'SurveyYear'\n\\item 'SurveyDate'\n\\item 'Surveyor1'\n\\end{enumerate*}\n",
            "text/markdown": "1. '__kp_Survey'\n2. '_kf_Site'\n3. 'SurveyYear'\n4. 'SurveyDate'\n5. 'Surveyor1'\n\n\n",
            "text/html": [
              "<style>\n",
              ".list-inline {list-style: none; margin:0; padding: 0}\n",
              ".list-inline>li {display: inline-block}\n",
              ".list-inline>li:not(:last-child)::after {content: \"\\00b7\"; padding: 0 .5ex}\n",
              "</style>\n",
              "<ol class=list-inline><li>'__kp_Survey'</li><li>'_kf_Site'</li><li>'SurveyYear'</li><li>'SurveyDate'</li><li>'Surveyor1'</li></ol>\n"
            ]
          },
          "metadata": {
            "tags": []
          }
        }
      ]
    },
    {
      "cell_type": "code",
      "metadata": {
        "id": "IbyekUfDkWlo",
        "colab_type": "code",
        "colab": {}
      },
      "source": [
        "oldnames = c('__kp_Survey', '_kf_Site', 'SurveyYear', 'SurveyDate', 'Surveyor1') \n",
        "newnames = c('survey_ID', 'grid_point', 'year', 'date', 'surveyor')\n",
        "\n",
        "df_gridVeg <- df_gridVeg %>% rename_at(vars(oldnames), ~ newnames)"
      ],
      "execution_count": 0,
      "outputs": []
    },
    {
      "cell_type": "markdown",
      "metadata": {
        "id": "nmFTtkG_jKkg",
        "colab_type": "text"
      },
      "source": [
        "## Data Type"
      ]
    },
    {
      "cell_type": "code",
      "metadata": {
        "id": "ZY3yKWTRnilf",
        "colab_type": "code",
        "colab": {
          "base_uri": "https://localhost:8080/",
          "height": 255
        },
        "outputId": "d104e5f8-8c3a-42a0-fe2e-cc4fa5336dae"
      },
      "source": [
        "str(df_gridVeg)"
      ],
      "execution_count": 28,
      "outputs": [
        {
          "output_type": "stream",
          "text": [
            "tibble [1,472 × 5] (S3: spec_tbl_df/tbl_df/tbl/data.frame)\n",
            " $ survey_ID : chr [1:1472] \"108\" \"107\" \"106\" \"105\" ...\n",
            " $ grid_point: num [1:1472] 3 4 5 6 7 8 9 10 11 12 ...\n",
            " $ year      : num [1:1472] 2010 2010 2010 2010 2010 2010 2010 2010 2010 2010 ...\n",
            " $ date      : chr [1:1472] \"8/17/10\" \"8/17/10\" \"8/17/10\" \"8/17/10\" ...\n",
            " $ surveyor  : chr [1:1472] \"EAR\" \"EAR\" \"EAR\" \"EAR\" ...\n",
            " - attr(*, \"spec\")=\n",
            "  .. cols(\n",
            "  ..   `__kp_Survey` = \u001b[31mcol_character()\u001b[39m,\n",
            "  ..   `_kf_Site` = \u001b[32mcol_double()\u001b[39m,\n",
            "  ..   SurveyYear = \u001b[32mcol_double()\u001b[39m,\n",
            "  ..   SurveyDate = \u001b[31mcol_character()\u001b[39m,\n",
            "  ..   Surveyor1 = \u001b[31mcol_character()\u001b[39m\n",
            "  .. )\n"
          ],
          "name": "stdout"
        }
      ]
    },
    {
      "cell_type": "code",
      "metadata": {
        "id": "QbyMWSjnh8c1",
        "colab_type": "code",
        "colab": {}
      },
      "source": [
        "df_gridVeg$grid_point <- as.integer(df_gridVeg$grid_point)"
      ],
      "execution_count": 0,
      "outputs": []
    },
    {
      "cell_type": "code",
      "metadata": {
        "id": "J8kQtiRRowEs",
        "colab_type": "code",
        "colab": {}
      },
      "source": [
        "df_gridVeg$year <- as.integer(df_gridVeg$year)"
      ],
      "execution_count": 0,
      "outputs": []
    },
    {
      "cell_type": "code",
      "metadata": {
        "id": "9xM4Z145pHSa",
        "colab_type": "code",
        "colab": {}
      },
      "source": [
        "df_gridVeg$date <- as.Date(df_gridVeg$date, \"%m/%d/%y\")"
      ],
      "execution_count": 0,
      "outputs": []
    },
    {
      "cell_type": "code",
      "metadata": {
        "id": "gjji-qkBjtHc",
        "colab_type": "code",
        "colab": {
          "base_uri": "https://localhost:8080/",
          "height": 255
        },
        "outputId": "ffb3a550-d182-4c15-fb7f-d54942d659d4"
      },
      "source": [
        "str(df_gridVeg)"
      ],
      "execution_count": 35,
      "outputs": [
        {
          "output_type": "stream",
          "text": [
            "tibble [1,472 × 5] (S3: spec_tbl_df/tbl_df/tbl/data.frame)\n",
            " $ survey_ID : chr [1:1472] \"108\" \"107\" \"106\" \"105\" ...\n",
            " $ grid_point: int [1:1472] 3 4 5 6 7 8 9 10 11 12 ...\n",
            " $ year      : int [1:1472] 2010 2010 2010 2010 2010 2010 2010 2010 2010 2010 ...\n",
            " $ date      : Date[1:1472], format: \"2010-08-17\" \"2010-08-17\" ...\n",
            " $ surveyor  : chr [1:1472] \"EAR\" \"EAR\" \"EAR\" \"EAR\" ...\n",
            " - attr(*, \"spec\")=\n",
            "  .. cols(\n",
            "  ..   `__kp_Survey` = \u001b[31mcol_character()\u001b[39m,\n",
            "  ..   `_kf_Site` = \u001b[32mcol_double()\u001b[39m,\n",
            "  ..   SurveyYear = \u001b[32mcol_double()\u001b[39m,\n",
            "  ..   SurveyDate = \u001b[31mcol_character()\u001b[39m,\n",
            "  ..   Surveyor1 = \u001b[31mcol_character()\u001b[39m\n",
            "  .. )\n"
          ],
          "name": "stdout"
        }
      ]
    },
    {
      "cell_type": "markdown",
      "metadata": {
        "id": "dcQrUOXopW06",
        "colab_type": "text"
      },
      "source": [
        "# Explore"
      ]
    },
    {
      "cell_type": "code",
      "metadata": {
        "id": "K0oscYU1pV6w",
        "colab_type": "code",
        "colab": {
          "base_uri": "https://localhost:8080/",
          "height": 255
        },
        "outputId": "61bb02e9-f198-4a8b-d74d-3d83f019399b"
      },
      "source": [
        "summary(df_gridVeg)"
      ],
      "execution_count": 36,
      "outputs": [
        {
          "output_type": "display_data",
          "data": {
            "text/plain": [
              "  survey_ID           grid_point         year           date           \n",
              " Length:1472        Min.   :  1.0   Min.   :2010   Min.   :2010-08-10  \n",
              " Class :character   1st Qu.:118.0   1st Qu.:2011   1st Qu.:2011-07-08  \n",
              " Mode  :character   Median :264.0   Median :2012   Median :2012-07-23  \n",
              "                    Mean   :268.8   Mean   :2013   Mean   :2013-09-15  \n",
              "                    3rd Qu.:406.2   3rd Qu.:2016   3rd Qu.:2016-06-27  \n",
              "                    Max.   :583.0   Max.   :2017   Max.   :2017-07-12  \n",
              "   surveyor        \n",
              " Length:1472       \n",
              " Class :character  \n",
              " Mode  :character  \n",
              "                   \n",
              "                   \n",
              "                   "
            ]
          },
          "metadata": {
            "tags": []
          }
        }
      ]
    },
    {
      "cell_type": "markdown",
      "metadata": {
        "id": "o7OkxxG_p620",
        "colab_type": "text"
      },
      "source": [
        "# Output"
      ]
    },
    {
      "cell_type": "code",
      "metadata": {
        "id": "u5OcFQDpp7i7",
        "colab_type": "code",
        "colab": {}
      },
      "source": [
        "output = '2020-06-15_gridVeg_survey_metadata_WRANGLE.csv'\n",
        "write_csv(df_gridVeg, path = output)"
      ],
      "execution_count": 0,
      "outputs": []
    }
  ]
}