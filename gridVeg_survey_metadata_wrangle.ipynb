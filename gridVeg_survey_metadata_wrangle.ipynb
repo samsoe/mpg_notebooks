{
  "nbformat": 4,
  "nbformat_minor": 0,
  "metadata": {
    "colab": {
      "name": "gridVeg_survey_metadata-wrangle.ipynb",
      "provenance": [],
      "collapsed_sections": [],
      "toc_visible": true,
      "include_colab_link": true
    },
    "language_info": {
      "codemirror_mode": "r",
      "file_extension": ".r",
      "mimetype": "text/x-r-source",
      "name": "R",
      "pygments_lexer": "r",
      "version": "3.3.1"
    },
    "kernelspec": {
      "display_name": "R",
      "language": "R",
      "name": "ir"
    },
    "accelerator": "GPU"
  },
  "cells": [
    {
      "cell_type": "markdown",
      "metadata": {
        "id": "view-in-github",
        "colab_type": "text"
      },
      "source": [
        "<a href=\"https://colab.research.google.com/github/samsoe/mpg_notebooks/blob/master/gridVeg_survey_metadata_wrangle.ipynb\" target=\"_parent\"><img src=\"https://colab.research.google.com/assets/colab-badge.svg\" alt=\"Open In Colab\"/></a>"
      ]
    },
    {
      "cell_type": "markdown",
      "metadata": {
        "id": "J9m9uOdHh-hP",
        "colab_type": "text"
      },
      "source": [
        "# Tools"
      ]
    },
    {
      "cell_type": "code",
      "metadata": {
        "id": "wQCBovJKiB1t",
        "colab_type": "code",
        "colab": {
          "base_uri": "https://localhost:8080/",
          "height": 204
        },
        "outputId": "f7eedfe4-c46a-4a24-f457-097eba933027"
      },
      "source": [
        "library(tidyverse)"
      ],
      "execution_count": 1,
      "outputs": [
        {
          "output_type": "stream",
          "text": [
            "── \u001b[1mAttaching packages\u001b[22m ─────────────────────────────────────── tidyverse 1.3.0 ──\n",
            "\n",
            "\u001b[32m✔\u001b[39m \u001b[34mggplot2\u001b[39m 3.3.1     \u001b[32m✔\u001b[39m \u001b[34mpurrr  \u001b[39m 0.3.4\n",
            "\u001b[32m✔\u001b[39m \u001b[34mtibble \u001b[39m 3.0.1     \u001b[32m✔\u001b[39m \u001b[34mdplyr  \u001b[39m 1.0.0\n",
            "\u001b[32m✔\u001b[39m \u001b[34mtidyr  \u001b[39m 1.1.0     \u001b[32m✔\u001b[39m \u001b[34mstringr\u001b[39m 1.4.0\n",
            "\u001b[32m✔\u001b[39m \u001b[34mreadr  \u001b[39m 1.3.1     \u001b[32m✔\u001b[39m \u001b[34mforcats\u001b[39m 0.5.0\n",
            "\n",
            "── \u001b[1mConflicts\u001b[22m ────────────────────────────────────────── tidyverse_conflicts() ──\n",
            "\u001b[31m✖\u001b[39m \u001b[34mdplyr\u001b[39m::\u001b[32mfilter()\u001b[39m masks \u001b[34mstats\u001b[39m::filter()\n",
            "\u001b[31m✖\u001b[39m \u001b[34mdplyr\u001b[39m::\u001b[32mlag()\u001b[39m    masks \u001b[34mstats\u001b[39m::lag()\n",
            "\n"
          ],
          "name": "stderr"
        }
      ]
    },
    {
      "cell_type": "markdown",
      "metadata": {
        "id": "BhOI1uU2Koum",
        "colab_type": "text"
      },
      "source": [
        "# Source"
      ]
    },
    {
      "cell_type": "code",
      "metadata": {
        "id": "VxYkYhQTKouo",
        "colab_type": "code",
        "colab": {}
      },
      "source": [
        "# 2020-06-15_gridVeg_survey_metadata_SOURCE.csv\n",
        "src <- \"https://drive.google.com/uc?export=download&id=12FgxXQbpC3XotrATbBLx-SYKypUKkXPt\""
      ],
      "execution_count": 2,
      "outputs": []
    },
    {
      "cell_type": "code",
      "metadata": {
        "id": "ihI70_BPKouq",
        "colab_type": "code",
        "colab": {
          "base_uri": "https://localhost:8080/",
          "height": 170
        },
        "outputId": "62824e10-355e-4440-d49a-27969da75343"
      },
      "source": [
        "df_gridVeg <- read_csv(src)"
      ],
      "execution_count": 3,
      "outputs": [
        {
          "output_type": "stream",
          "text": [
            "Parsed with column specification:\n",
            "cols(\n",
            "  `__kp_Survey` = \u001b[31mcol_character()\u001b[39m,\n",
            "  `_kf_Site` = \u001b[32mcol_double()\u001b[39m,\n",
            "  SurveyYear = \u001b[32mcol_double()\u001b[39m,\n",
            "  SurveyDate = \u001b[31mcol_character()\u001b[39m,\n",
            "  Surveyor1 = \u001b[31mcol_character()\u001b[39m\n",
            ")\n",
            "\n"
          ],
          "name": "stderr"
        }
      ]
    },
    {
      "cell_type": "markdown",
      "metadata": {
        "id": "QNQV9Ykdi4FZ",
        "colab_type": "text"
      },
      "source": [
        "# Structure"
      ]
    },
    {
      "cell_type": "markdown",
      "metadata": {
        "id": "nKC9_MyOkQfL",
        "colab_type": "text"
      },
      "source": [
        "## Rename\n",
        "* name according to schema specification"
      ]
    },
    {
      "cell_type": "code",
      "metadata": {
        "id": "jN0W4GaqlHZA",
        "colab_type": "code",
        "colab": {
          "base_uri": "https://localhost:8080/",
          "height": 34
        },
        "outputId": "00446a5b-6fa6-4039-e2d7-1d53b70a0d25"
      },
      "source": [
        "colnames(df_gridVeg)"
      ],
      "execution_count": 4,
      "outputs": [
        {
          "output_type": "display_data",
          "data": {
            "text/plain": [
              "[1] \"__kp_Survey\" \"_kf_Site\"    \"SurveyYear\"  \"SurveyDate\"  \"Surveyor1\"  "
            ],
            "text/latex": "\\begin{enumerate*}\n\\item '\\_\\_kp\\_Survey'\n\\item '\\_kf\\_Site'\n\\item 'SurveyYear'\n\\item 'SurveyDate'\n\\item 'Surveyor1'\n\\end{enumerate*}\n",
            "text/markdown": "1. '__kp_Survey'\n2. '_kf_Site'\n3. 'SurveyYear'\n4. 'SurveyDate'\n5. 'Surveyor1'\n\n\n",
            "text/html": [
              "<style>\n",
              ".list-inline {list-style: none; margin:0; padding: 0}\n",
              ".list-inline>li {display: inline-block}\n",
              ".list-inline>li:not(:last-child)::after {content: \"\\00b7\"; padding: 0 .5ex}\n",
              "</style>\n",
              "<ol class=list-inline><li>'__kp_Survey'</li><li>'_kf_Site'</li><li>'SurveyYear'</li><li>'SurveyDate'</li><li>'Surveyor1'</li></ol>\n"
            ]
          },
          "metadata": {
            "tags": []
          }
        }
      ]
    },
    {
      "cell_type": "code",
      "metadata": {
        "id": "IbyekUfDkWlo",
        "colab_type": "code",
        "colab": {
          "base_uri": "https://localhost:8080/",
          "height": 102
        },
        "outputId": "5e2b82f1-17a7-416f-ab3f-38e7897092f7"
      },
      "source": [
        "oldnames = c('__kp_Survey', '_kf_Site', 'SurveyYear', 'SurveyDate', 'Surveyor1') \n",
        "newnames = c('survey_ID', 'grid_point', 'year', 'date', 'surveyor')\n",
        "\n",
        "df_gridVeg <- df_gridVeg %>% rename_at(vars(oldnames), ~ newnames)"
      ],
      "execution_count": 5,
      "outputs": [
        {
          "output_type": "stream",
          "text": [
            "Note: Using an external vector in selections is ambiguous.\n",
            "\u001b[34mℹ\u001b[39m Use `all_of(oldnames)` instead of `oldnames` to silence this message.\n",
            "\u001b[34mℹ\u001b[39m See <https://tidyselect.r-lib.org/reference/faq-external-vector.html>.\n",
            "\u001b[90mThis message is displayed once per session.\u001b[39m\n",
            "\n"
          ],
          "name": "stderr"
        }
      ]
    },
    {
      "cell_type": "markdown",
      "metadata": {
        "id": "nmFTtkG_jKkg",
        "colab_type": "text"
      },
      "source": [
        "## Data Type"
      ]
    },
    {
      "cell_type": "code",
      "metadata": {
        "id": "ZY3yKWTRnilf",
        "colab_type": "code",
        "colab": {
          "base_uri": "https://localhost:8080/",
          "height": 255
        },
        "outputId": "ab2feb14-eb20-4e90-9c5a-1127ee980531"
      },
      "source": [
        "str(df_gridVeg)"
      ],
      "execution_count": 6,
      "outputs": [
        {
          "output_type": "stream",
          "text": [
            "tibble [1,472 × 5] (S3: spec_tbl_df/tbl_df/tbl/data.frame)\n",
            " $ survey_ID : chr [1:1472] \"108\" \"107\" \"106\" \"105\" ...\n",
            " $ grid_point: num [1:1472] 3 4 5 6 7 8 9 10 11 12 ...\n",
            " $ year      : num [1:1472] 2010 2010 2010 2010 2010 2010 2010 2010 2010 2010 ...\n",
            " $ date      : chr [1:1472] \"8/17/10\" \"8/17/10\" \"8/17/10\" \"8/17/10\" ...\n",
            " $ surveyor  : chr [1:1472] \"EAR\" \"EAR\" \"EAR\" \"EAR\" ...\n",
            " - attr(*, \"spec\")=\n",
            "  .. cols(\n",
            "  ..   `__kp_Survey` = \u001b[31mcol_character()\u001b[39m,\n",
            "  ..   `_kf_Site` = \u001b[32mcol_double()\u001b[39m,\n",
            "  ..   SurveyYear = \u001b[32mcol_double()\u001b[39m,\n",
            "  ..   SurveyDate = \u001b[31mcol_character()\u001b[39m,\n",
            "  ..   Surveyor1 = \u001b[31mcol_character()\u001b[39m\n",
            "  .. )\n"
          ],
          "name": "stdout"
        }
      ]
    },
    {
      "cell_type": "code",
      "metadata": {
        "id": "QbyMWSjnh8c1",
        "colab_type": "code",
        "colab": {}
      },
      "source": [
        "df_gridVeg$grid_point <- as.integer(df_gridVeg$grid_point)"
      ],
      "execution_count": 7,
      "outputs": []
    },
    {
      "cell_type": "code",
      "metadata": {
        "id": "J8kQtiRRowEs",
        "colab_type": "code",
        "colab": {}
      },
      "source": [
        "df_gridVeg$year <- as.integer(df_gridVeg$year)"
      ],
      "execution_count": 8,
      "outputs": []
    },
    {
      "cell_type": "code",
      "metadata": {
        "id": "9xM4Z145pHSa",
        "colab_type": "code",
        "colab": {}
      },
      "source": [
        "df_gridVeg$date <- as.Date(df_gridVeg$date, \"%m/%d/%y\")"
      ],
      "execution_count": 9,
      "outputs": []
    },
    {
      "cell_type": "code",
      "metadata": {
        "id": "gjji-qkBjtHc",
        "colab_type": "code",
        "colab": {
          "base_uri": "https://localhost:8080/",
          "height": 255
        },
        "outputId": "c8c71666-f80f-4829-b301-e53012c0e0ab"
      },
      "source": [
        "str(df_gridVeg)"
      ],
      "execution_count": 10,
      "outputs": [
        {
          "output_type": "stream",
          "text": [
            "tibble [1,472 × 5] (S3: spec_tbl_df/tbl_df/tbl/data.frame)\n",
            " $ survey_ID : chr [1:1472] \"108\" \"107\" \"106\" \"105\" ...\n",
            " $ grid_point: int [1:1472] 3 4 5 6 7 8 9 10 11 12 ...\n",
            " $ year      : int [1:1472] 2010 2010 2010 2010 2010 2010 2010 2010 2010 2010 ...\n",
            " $ date      : Date[1:1472], format: \"2010-08-17\" \"2010-08-17\" ...\n",
            " $ surveyor  : chr [1:1472] \"EAR\" \"EAR\" \"EAR\" \"EAR\" ...\n",
            " - attr(*, \"spec\")=\n",
            "  .. cols(\n",
            "  ..   `__kp_Survey` = \u001b[31mcol_character()\u001b[39m,\n",
            "  ..   `_kf_Site` = \u001b[32mcol_double()\u001b[39m,\n",
            "  ..   SurveyYear = \u001b[32mcol_double()\u001b[39m,\n",
            "  ..   SurveyDate = \u001b[31mcol_character()\u001b[39m,\n",
            "  ..   Surveyor1 = \u001b[31mcol_character()\u001b[39m\n",
            "  .. )\n"
          ],
          "name": "stdout"
        }
      ]
    },
    {
      "cell_type": "markdown",
      "metadata": {
        "id": "dcQrUOXopW06",
        "colab_type": "text"
      },
      "source": [
        "# Explore"
      ]
    },
    {
      "cell_type": "code",
      "metadata": {
        "id": "K0oscYU1pV6w",
        "colab_type": "code",
        "colab": {
          "base_uri": "https://localhost:8080/",
          "height": 255
        },
        "outputId": "de511aa5-cbeb-4062-8564-50d642e8ee7e"
      },
      "source": [
        "summary(df_gridVeg)"
      ],
      "execution_count": 11,
      "outputs": [
        {
          "output_type": "display_data",
          "data": {
            "text/plain": [
              "  survey_ID           grid_point         year           date           \n",
              " Length:1472        Min.   :  1.0   Min.   :2010   Min.   :2010-08-10  \n",
              " Class :character   1st Qu.:118.0   1st Qu.:2011   1st Qu.:2011-07-08  \n",
              " Mode  :character   Median :264.0   Median :2012   Median :2012-07-23  \n",
              "                    Mean   :268.8   Mean   :2013   Mean   :2013-09-15  \n",
              "                    3rd Qu.:406.2   3rd Qu.:2016   3rd Qu.:2016-06-27  \n",
              "                    Max.   :583.0   Max.   :2017   Max.   :2017-07-12  \n",
              "   surveyor        \n",
              " Length:1472       \n",
              " Class :character  \n",
              " Mode  :character  \n",
              "                   \n",
              "                   \n",
              "                   "
            ]
          },
          "metadata": {
            "tags": []
          }
        }
      ]
    },
    {
      "cell_type": "code",
      "metadata": {
        "id": "vcZc77rV_Reu",
        "colab_type": "code",
        "colab": {
          "base_uri": "https://localhost:8080/",
          "height": 431
        },
        "outputId": "b02f83a5-f538-43ca-c452-3f02b8aed7d4"
      },
      "source": [
        "df_gridVeg %>%\n",
        "  distinct(surveyor)"
      ],
      "execution_count": 12,
      "outputs": [
        {
          "output_type": "display_data",
          "data": {
            "text/plain": [
              "   surveyor\n",
              "1  EAR     \n",
              "2  MAW     \n",
              "3  MAE     \n",
              "4  PAW     \n",
              "5  RDW     \n",
              "6  JCR     \n",
              "7  TAH     \n",
              "8  MPK     \n",
              "9  RDW\\n   \n",
              "10 RAD     \n",
              "11 SLV     \n",
              "12 JMM     \n",
              "13 ALG     \n",
              "14 MED     \n",
              "15 Med     \n",
              "16 med     "
            ],
            "text/latex": "A tibble: 16 × 1\n\\begin{tabular}{l}\n surveyor\\\\\n <chr>\\\\\n\\hline\n\t EAR  \\\\\n\t MAW  \\\\\n\t MAE  \\\\\n\t PAW  \\\\\n\t RDW  \\\\\n\t JCR  \\\\\n\t TAH  \\\\\n\t MPK  \\\\\n\t RDW\n\\\\\n\t RAD  \\\\\n\t SLV  \\\\\n\t JMM  \\\\\n\t ALG  \\\\\n\t MED  \\\\\n\t Med  \\\\\n\t med  \\\\\n\\end{tabular}\n",
            "text/markdown": "\nA tibble: 16 × 1\n\n| surveyor &lt;chr&gt; |\n|---|\n| EAR   |\n| MAW   |\n| MAE   |\n| PAW   |\n| RDW   |\n| JCR   |\n| TAH   |\n| MPK   |\n| RDW\n |\n| RAD   |\n| SLV   |\n| JMM   |\n| ALG   |\n| MED   |\n| Med   |\n| med   |\n\n",
            "text/html": [
              "<table>\n",
              "<caption>A tibble: 16 × 1</caption>\n",
              "<thead>\n",
              "\t<tr><th scope=col>surveyor</th></tr>\n",
              "\t<tr><th scope=col>&lt;chr&gt;</th></tr>\n",
              "</thead>\n",
              "<tbody>\n",
              "\t<tr><td>EAR  </td></tr>\n",
              "\t<tr><td>MAW  </td></tr>\n",
              "\t<tr><td>MAE  </td></tr>\n",
              "\t<tr><td>PAW  </td></tr>\n",
              "\t<tr><td>RDW  </td></tr>\n",
              "\t<tr><td>JCR  </td></tr>\n",
              "\t<tr><td>TAH  </td></tr>\n",
              "\t<tr><td>MPK  </td></tr>\n",
              "\t<tr><td>RDW\n",
              "</td></tr>\n",
              "\t<tr><td>RAD  </td></tr>\n",
              "\t<tr><td>SLV  </td></tr>\n",
              "\t<tr><td>JMM  </td></tr>\n",
              "\t<tr><td>ALG  </td></tr>\n",
              "\t<tr><td>MED  </td></tr>\n",
              "\t<tr><td>Med  </td></tr>\n",
              "\t<tr><td>med  </td></tr>\n",
              "</tbody>\n",
              "</table>\n"
            ]
          },
          "metadata": {
            "tags": []
          }
        }
      ]
    },
    {
      "cell_type": "code",
      "metadata": {
        "id": "x1GYnsjgAyNL",
        "colab_type": "code",
        "colab": {
          "base_uri": "https://localhost:8080/",
          "height": 225
        },
        "outputId": "6444b4ef-c07b-4bf7-ef94-612074fd891f"
      },
      "source": [
        "values <- c('Med', 'med')\n",
        "\n",
        "df_gridVeg %>%\n",
        "  filter(surveyor %in% values)"
      ],
      "execution_count": 13,
      "outputs": [
        {
          "output_type": "display_data",
          "data": {
            "text/plain": [
              "  survey_ID                            grid_point year date       surveyor\n",
              "1 93FE2753-53F1-4525-8C0B-391CF7DDD8DD  80        2016 2016-05-23 Med     \n",
              "2 C6C3B9F6-EA22-40C8-80CA-AA41151681B0 104        2016 2016-06-02 Med     \n",
              "3 9820BB50-8B2D-4CEB-ABBB-F920D39C5F49 112        2016 2016-05-16 med     \n",
              "4 9F3E5065-5B34-401C-8BA5-5BCCD3B597AC 271        2016 2016-05-12 med     \n",
              "5 0ADBB23B-6019-460A-A03C-C207752A1B44 309        2016 2016-05-17 med     \n",
              "6 4FCB1E58-7B13-47C5-BC0F-63A029F73E5A 322        2016 2016-05-11 med     \n",
              "7 2DADFDB5-9B4D-4E61-9ABD-E7E84FD942AA 384        2016 2016-05-26 Med     "
            ],
            "text/latex": "A spec\\_tbl\\_df: 7 × 5\n\\begin{tabular}{lllll}\n survey\\_ID & grid\\_point & year & date & surveyor\\\\\n <chr> & <int> & <int> & <date> & <chr>\\\\\n\\hline\n\t 93FE2753-53F1-4525-8C0B-391CF7DDD8DD &  80 & 2016 & 2016-05-23 & Med\\\\\n\t C6C3B9F6-EA22-40C8-80CA-AA41151681B0 & 104 & 2016 & 2016-06-02 & Med\\\\\n\t 9820BB50-8B2D-4CEB-ABBB-F920D39C5F49 & 112 & 2016 & 2016-05-16 & med\\\\\n\t 9F3E5065-5B34-401C-8BA5-5BCCD3B597AC & 271 & 2016 & 2016-05-12 & med\\\\\n\t 0ADBB23B-6019-460A-A03C-C207752A1B44 & 309 & 2016 & 2016-05-17 & med\\\\\n\t 4FCB1E58-7B13-47C5-BC0F-63A029F73E5A & 322 & 2016 & 2016-05-11 & med\\\\\n\t 2DADFDB5-9B4D-4E61-9ABD-E7E84FD942AA & 384 & 2016 & 2016-05-26 & Med\\\\\n\\end{tabular}\n",
            "text/markdown": "\nA spec_tbl_df: 7 × 5\n\n| survey_ID &lt;chr&gt; | grid_point &lt;int&gt; | year &lt;int&gt; | date &lt;date&gt; | surveyor &lt;chr&gt; |\n|---|---|---|---|---|\n| 93FE2753-53F1-4525-8C0B-391CF7DDD8DD |  80 | 2016 | 2016-05-23 | Med |\n| C6C3B9F6-EA22-40C8-80CA-AA41151681B0 | 104 | 2016 | 2016-06-02 | Med |\n| 9820BB50-8B2D-4CEB-ABBB-F920D39C5F49 | 112 | 2016 | 2016-05-16 | med |\n| 9F3E5065-5B34-401C-8BA5-5BCCD3B597AC | 271 | 2016 | 2016-05-12 | med |\n| 0ADBB23B-6019-460A-A03C-C207752A1B44 | 309 | 2016 | 2016-05-17 | med |\n| 4FCB1E58-7B13-47C5-BC0F-63A029F73E5A | 322 | 2016 | 2016-05-11 | med |\n| 2DADFDB5-9B4D-4E61-9ABD-E7E84FD942AA | 384 | 2016 | 2016-05-26 | Med |\n\n",
            "text/html": [
              "<table>\n",
              "<caption>A spec_tbl_df: 7 × 5</caption>\n",
              "<thead>\n",
              "\t<tr><th scope=col>survey_ID</th><th scope=col>grid_point</th><th scope=col>year</th><th scope=col>date</th><th scope=col>surveyor</th></tr>\n",
              "\t<tr><th scope=col>&lt;chr&gt;</th><th scope=col>&lt;int&gt;</th><th scope=col>&lt;int&gt;</th><th scope=col>&lt;date&gt;</th><th scope=col>&lt;chr&gt;</th></tr>\n",
              "</thead>\n",
              "<tbody>\n",
              "\t<tr><td>93FE2753-53F1-4525-8C0B-391CF7DDD8DD</td><td> 80</td><td>2016</td><td>2016-05-23</td><td>Med</td></tr>\n",
              "\t<tr><td>C6C3B9F6-EA22-40C8-80CA-AA41151681B0</td><td>104</td><td>2016</td><td>2016-06-02</td><td>Med</td></tr>\n",
              "\t<tr><td>9820BB50-8B2D-4CEB-ABBB-F920D39C5F49</td><td>112</td><td>2016</td><td>2016-05-16</td><td>med</td></tr>\n",
              "\t<tr><td>9F3E5065-5B34-401C-8BA5-5BCCD3B597AC</td><td>271</td><td>2016</td><td>2016-05-12</td><td>med</td></tr>\n",
              "\t<tr><td>0ADBB23B-6019-460A-A03C-C207752A1B44</td><td>309</td><td>2016</td><td>2016-05-17</td><td>med</td></tr>\n",
              "\t<tr><td>4FCB1E58-7B13-47C5-BC0F-63A029F73E5A</td><td>322</td><td>2016</td><td>2016-05-11</td><td>med</td></tr>\n",
              "\t<tr><td>2DADFDB5-9B4D-4E61-9ABD-E7E84FD942AA</td><td>384</td><td>2016</td><td>2016-05-26</td><td>Med</td></tr>\n",
              "</tbody>\n",
              "</table>\n"
            ]
          },
          "metadata": {
            "tags": []
          }
        }
      ]
    },
    {
      "cell_type": "markdown",
      "metadata": {
        "id": "VqQx8vTFAIAn",
        "colab_type": "text"
      },
      "source": [
        "# Tidy\n"
      ]
    },
    {
      "cell_type": "code",
      "metadata": {
        "id": "H2i3BB5KAR8p",
        "colab_type": "code",
        "colab": {}
      },
      "source": [
        "# standardize surveyor values\n",
        "values <- c('Med', 'med')\n",
        "\n",
        "df_gridVeg <- df_gridVeg %>%\n",
        "  mutate(surveyor = ifelse(surveyor %in% values, 'MED', surveyor))"
      ],
      "execution_count": 14,
      "outputs": []
    },
    {
      "cell_type": "code",
      "metadata": {
        "id": "rygzO5N5BCoq",
        "colab_type": "code",
        "colab": {
          "base_uri": "https://localhost:8080/",
          "height": 389
        },
        "outputId": "6ed4c299-69b5-4215-d3cc-ae2b595190d8"
      },
      "source": [
        "df_gridVeg %>%\n",
        "  distinct(surveyor)"
      ],
      "execution_count": 15,
      "outputs": [
        {
          "output_type": "display_data",
          "data": {
            "text/plain": [
              "   surveyor\n",
              "1  EAR     \n",
              "2  MAW     \n",
              "3  MAE     \n",
              "4  PAW     \n",
              "5  RDW     \n",
              "6  JCR     \n",
              "7  TAH     \n",
              "8  MPK     \n",
              "9  RDW\\n   \n",
              "10 RAD     \n",
              "11 SLV     \n",
              "12 JMM     \n",
              "13 ALG     \n",
              "14 MED     "
            ],
            "text/latex": "A tibble: 14 × 1\n\\begin{tabular}{l}\n surveyor\\\\\n <chr>\\\\\n\\hline\n\t EAR  \\\\\n\t MAW  \\\\\n\t MAE  \\\\\n\t PAW  \\\\\n\t RDW  \\\\\n\t JCR  \\\\\n\t TAH  \\\\\n\t MPK  \\\\\n\t RDW\n\\\\\n\t RAD  \\\\\n\t SLV  \\\\\n\t JMM  \\\\\n\t ALG  \\\\\n\t MED  \\\\\n\\end{tabular}\n",
            "text/markdown": "\nA tibble: 14 × 1\n\n| surveyor &lt;chr&gt; |\n|---|\n| EAR   |\n| MAW   |\n| MAE   |\n| PAW   |\n| RDW   |\n| JCR   |\n| TAH   |\n| MPK   |\n| RDW\n |\n| RAD   |\n| SLV   |\n| JMM   |\n| ALG   |\n| MED   |\n\n",
            "text/html": [
              "<table>\n",
              "<caption>A tibble: 14 × 1</caption>\n",
              "<thead>\n",
              "\t<tr><th scope=col>surveyor</th></tr>\n",
              "\t<tr><th scope=col>&lt;chr&gt;</th></tr>\n",
              "</thead>\n",
              "<tbody>\n",
              "\t<tr><td>EAR  </td></tr>\n",
              "\t<tr><td>MAW  </td></tr>\n",
              "\t<tr><td>MAE  </td></tr>\n",
              "\t<tr><td>PAW  </td></tr>\n",
              "\t<tr><td>RDW  </td></tr>\n",
              "\t<tr><td>JCR  </td></tr>\n",
              "\t<tr><td>TAH  </td></tr>\n",
              "\t<tr><td>MPK  </td></tr>\n",
              "\t<tr><td>RDW\n",
              "</td></tr>\n",
              "\t<tr><td>RAD  </td></tr>\n",
              "\t<tr><td>SLV  </td></tr>\n",
              "\t<tr><td>JMM  </td></tr>\n",
              "\t<tr><td>ALG  </td></tr>\n",
              "\t<tr><td>MED  </td></tr>\n",
              "</tbody>\n",
              "</table>\n"
            ]
          },
          "metadata": {
            "tags": []
          }
        }
      ]
    },
    {
      "cell_type": "markdown",
      "metadata": {
        "id": "v7pzV2dd9fYp",
        "colab_type": "text"
      },
      "source": [
        "# Update\n"
      ]
    },
    {
      "cell_type": "markdown",
      "metadata": {
        "id": "TyysjohX-DHw",
        "colab_type": "text"
      },
      "source": [
        "2020-06-18 add survey_sequence variable \n",
        "\n",
        "this variable allows us to collapse records from 2011 and 2012 into a single year for analysis and graphics. Surveys in those two years together constitute the baseline survey.\n",
        "\n",
        "create this new variable from `year`. Recode 2011 and 2012 to 2011-12. Leave all other years the same. The new variable survey_sequence will be in {​2010, 2011-12, 2013, 2015, 2016, 2017} "
      ]
    },
    {
      "cell_type": "code",
      "metadata": {
        "id": "N50M1JpE9iP3",
        "colab_type": "code",
        "colab": {}
      },
      "source": [
        "df_gridVeg <- df_gridVeg %>%\n",
        "  mutate(survey_sequence = ifelse((year == 2011 | year == 2012), \"2011-12\", as.character(year)))"
      ],
      "execution_count": 27,
      "outputs": []
    },
    {
      "cell_type": "markdown",
      "metadata": {
        "id": "o7OkxxG_p620",
        "colab_type": "text"
      },
      "source": [
        "# Output"
      ]
    },
    {
      "cell_type": "code",
      "metadata": {
        "id": "u5OcFQDpp7i7",
        "colab_type": "code",
        "colab": {}
      },
      "source": [
        "# updated output by esamsoe on 2020-06-18\n",
        "output = '2020-06-15_gridVeg_survey_metadata_WRANGLE.csv'\n",
        "write_csv(df_gridVeg, path = output)"
      ],
      "execution_count": 28,
      "outputs": []
    }
  ]
}