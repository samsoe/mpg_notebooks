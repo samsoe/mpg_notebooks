{
  "nbformat": 4,
  "nbformat_minor": 0,
  "metadata": {
    "colab": {
      "name": "Bee Database Write.ipynb",
      "provenance": [],
      "authorship_tag": "ABX9TyMSn6C9D8VL6ihbK6ftF3un",
      "include_colab_link": true
    },
    "kernelspec": {
      "name": "python3",
      "display_name": "Python 3"
    },
    "accelerator": "GPU"
  },
  "cells": [
    {
      "cell_type": "markdown",
      "metadata": {
        "id": "view-in-github",
        "colab_type": "text"
      },
      "source": [
        "<a href=\"https://colab.research.google.com/github/samsoe/mpg_notebooks/blob/master/Bee_Database_Write.ipynb\" target=\"_parent\"><img src=\"https://colab.research.google.com/assets/colab-badge.svg\" alt=\"Open In Colab\"/></a>"
      ]
    },
    {
      "cell_type": "markdown",
      "metadata": {
        "id": "YVXJoCh-Dsa9",
        "colab_type": "text"
      },
      "source": [
        "2020-04-08 Erik Samsoe"
      ]
    },
    {
      "cell_type": "markdown",
      "metadata": {
        "id": "YKN120dn7mml",
        "colab_type": "text"
      },
      "source": [
        "* Link to source\n",
        "* Identify file type\n",
        "* Convert file\n",
        "* Remove commas\n",
        "* Load into BigQuery"
      ]
    },
    {
      "cell_type": "code",
      "metadata": {
        "id": "wVhmlGBA72Rt",
        "colab_type": "code",
        "colab": {}
      },
      "source": [
        "import pandas as pd"
      ],
      "execution_count": 0,
      "outputs": []
    },
    {
      "cell_type": "markdown",
      "metadata": {
        "id": "Xc8A8Wcg8YdR",
        "colab_type": "text"
      },
      "source": [
        "* \"MPG_textport.txt\" shared by H through \"Box\".  \n",
        "* Marirose shared the link in Slack with Erik.\n",
        "* Original File is hosted on Drive here: [MPG_textport.txt](https://drive.google.com/open?id=1-4VDXNMHJpgoB_BZENVhF3BaGJyYBBoI)\n",
        "* This file is loaded into a text editor.  VIM in this case.  The .txt file appears to be in tsv format.\n",
        "  * Remove commas with search and replace\n",
        "  * Replace tabs with commas\n",
        "* Upload file to Notebook (because of large size)\n",
        "* Check file type"
      ]
    },
    {
      "cell_type": "code",
      "metadata": {
        "id": "csBb6WLx8nPV",
        "colab_type": "code",
        "colab": {}
      },
      "source": [
        "# MPG_textport_nocommas.csv\n",
        "src = 'MPG_textport_nocommas.csv'"
      ],
      "execution_count": 0,
      "outputs": []
    },
    {
      "cell_type": "code",
      "metadata": {
        "id": "ajL-Ge00Bn2T",
        "colab_type": "code",
        "colab": {}
      },
      "source": [
        "df = pd.read_csv(src, encoding='utf-16')"
      ],
      "execution_count": 0,
      "outputs": []
    },
    {
      "cell_type": "code",
      "metadata": {
        "id": "9qa0x_pjC1P7",
        "colab_type": "code",
        "outputId": "ff16717c-d7db-4735-ceba-297c6a7e3d5e",
        "colab": {
          "base_uri": "https://localhost:8080/",
          "height": 267
        }
      },
      "source": [
        "df.head(2)"
      ],
      "execution_count": 0,
      "outputs": [
        {
          "output_type": "execute_result",
          "data": {
            "text/html": [
              "<div>\n",
              "<style scoped>\n",
              "    .dataframe tbody tr th:only-of-type {\n",
              "        vertical-align: middle;\n",
              "    }\n",
              "\n",
              "    .dataframe tbody tr th {\n",
              "        vertical-align: top;\n",
              "    }\n",
              "\n",
              "    .dataframe thead th {\n",
              "        text-align: right;\n",
              "    }\n",
              "</style>\n",
              "<table border=\"1\" class=\"dataframe\">\n",
              "  <thead>\n",
              "    <tr style=\"text-align: right;\">\n",
              "      <th></th>\n",
              "      <th>BarcodeID</th>\n",
              "      <th>OtherCATALOG</th>\n",
              "      <th>Questionable_recordDATA</th>\n",
              "      <th>NestingDATA_Avalible</th>\n",
              "      <th>MicrosatDATA_Avalible</th>\n",
              "      <th>#ofmeasurements</th>\n",
              "      <th>#ofPHOTOS</th>\n",
              "      <th>Floralspec_INDEX</th>\n",
              "      <th>#of_Determinations</th>\n",
              "      <th>Specimen_status</th>\n",
              "      <th>modifier</th>\n",
              "      <th>typeSTATUS</th>\n",
              "      <th>Gynandromorph</th>\n",
              "      <th>Stylops</th>\n",
              "      <th>Mites</th>\n",
              "      <th>M</th>\n",
              "      <th>F</th>\n",
              "      <th>Queen</th>\n",
              "      <th>Nomen_key</th>\n",
              "      <th>GenusName</th>\n",
              "      <th>Subgenus</th>\n",
              "      <th>Species</th>\n",
              "      <th>Subspecies</th>\n",
              "      <th>AuthorDATE</th>\n",
              "      <th>MappedGenus</th>\n",
              "      <th>Mapped_subgenus</th>\n",
              "      <th>MappedSpeceis</th>\n",
              "      <th>MappedBEE</th>\n",
              "      <th>determiner</th>\n",
              "      <th>JD_date</th>\n",
              "      <th>date</th>\n",
              "      <th>StartDay</th>\n",
              "      <th>startMon</th>\n",
              "      <th>Year0</th>\n",
              "      <th>endDay</th>\n",
              "      <th>endMon</th>\n",
              "      <th>Year1</th>\n",
              "      <th>starttime</th>\n",
              "      <th>endtime</th>\n",
              "      <th>DecimalLat</th>\n",
              "      <th>DecimalLon</th>\n",
              "      <th>Location Description</th>\n",
              "      <th>Location_Name</th>\n",
              "      <th>GAP_mapped</th>\n",
              "      <th>ECO_mapped</th>\n",
              "      <th>ECOEPA_name</th>\n",
              "      <th>GRID_link_B</th>\n",
              "      <th>Level0_name</th>\n",
              "      <th>Level1_name</th>\n",
              "      <th>Level2_Name</th>\n",
              "      <th>Elev_meters</th>\n",
              "      <th>Radius of collection in meters</th>\n",
              "      <th>Eventcode</th>\n",
              "      <th>CollMeth</th>\n",
              "      <th>CollMeth_modifier</th>\n",
              "      <th>collectors</th>\n",
              "      <th>ProjectName</th>\n",
              "      <th>ProjectDATA_Flag</th>\n",
              "      <th>ProjectID</th>\n",
              "      <th>Floral_association</th>\n",
              "      <th>bbsl_oldcode</th>\n",
              "      <th>code</th>\n",
              "      <th>Conditions</th>\n",
              "      <th>barmetricstart</th>\n",
              "      <th>barmetricend</th>\n",
              "      <th>windspeedstart</th>\n",
              "      <th>windspeedend</th>\n",
              "      <th>tempstart</th>\n",
              "      <th>tempend</th>\n",
              "      <th>noteblock</th>\n",
              "      <th>datecreated</th>\n",
              "    </tr>\n",
              "  </thead>\n",
              "  <tbody>\n",
              "    <tr>\n",
              "      <th>0</th>\n",
              "      <td>BBSL1000000</td>\n",
              "      <td>NaN</td>\n",
              "      <td>0</td>\n",
              "      <td>no</td>\n",
              "      <td>no</td>\n",
              "      <td>NaN</td>\n",
              "      <td>NaN</td>\n",
              "      <td>1.0</td>\n",
              "      <td>NaN</td>\n",
              "      <td>Pinned specimen</td>\n",
              "      <td>none</td>\n",
              "      <td>None</td>\n",
              "      <td>False</td>\n",
              "      <td>False</td>\n",
              "      <td>False</td>\n",
              "      <td>0</td>\n",
              "      <td>1</td>\n",
              "      <td>False</td>\n",
              "      <td>valid</td>\n",
              "      <td>Lasioglossum</td>\n",
              "      <td>(Evylaeus)</td>\n",
              "      <td>cooleyi</td>\n",
              "      <td>NaN</td>\n",
              "      <td>(Crawford 1906)</td>\n",
              "      <td>Lasioglossum</td>\n",
              "      <td>(Evylaeus)</td>\n",
              "      <td>cooleyi</td>\n",
              "      <td>1.0</td>\n",
              "      <td>S.J. Burrows 2016</td>\n",
              "      <td>124</td>\n",
              "      <td>4 May 2015</td>\n",
              "      <td>4.0</td>\n",
              "      <td>May</td>\n",
              "      <td>2015.0</td>\n",
              "      <td>NaN</td>\n",
              "      <td>NaN</td>\n",
              "      <td>NaN</td>\n",
              "      <td>8:25:00 AM</td>\n",
              "      <td>3:51:00 PM</td>\n",
              "      <td>46.6812</td>\n",
              "      <td>-114.03677</td>\n",
              "      <td>MPG Ranch: Plot 240</td>\n",
              "      <td>MPG240</td>\n",
              "      <td>NaN</td>\n",
              "      <td>Montana Valley and Foothill grasslands        ...</td>\n",
              "      <td>Middle Rockies                                ...</td>\n",
              "      <td>1533229.0</td>\n",
              "      <td>USA</td>\n",
              "      <td>Montana</td>\n",
              "      <td>Missoula</td>\n",
              "      <td>983.0</td>\n",
              "      <td>NaN</td>\n",
              "      <td>MPG-032</td>\n",
              "      <td>pt</td>\n",
              "      <td>Zero out of 21</td>\n",
              "      <td>E. Israel</td>\n",
              "      <td>MPG RANCH</td>\n",
              "      <td>NaN</td>\n",
              "      <td>101</td>\n",
              "      <td>No Floral Record</td>\n",
              "      <td>Logan</td>\n",
              "      <td>BBSL</td>\n",
              "      <td>Partly Cloudy (&gt;50% sun)</td>\n",
              "      <td>NaN</td>\n",
              "      <td>NaN</td>\n",
              "      <td>NaN</td>\n",
              "      <td>NaN</td>\n",
              "      <td>NaN</td>\n",
              "      <td>NaN</td>\n",
              "      <td>Notes-::Question notes-; mapped juristictions&gt;...</td>\n",
              "      <td>2016-01-10 22:49:43.843000000</td>\n",
              "    </tr>\n",
              "    <tr>\n",
              "      <th>1</th>\n",
              "      <td>BBSL1000001</td>\n",
              "      <td>NaN</td>\n",
              "      <td>0</td>\n",
              "      <td>no</td>\n",
              "      <td>no</td>\n",
              "      <td>NaN</td>\n",
              "      <td>NaN</td>\n",
              "      <td>1.0</td>\n",
              "      <td>NaN</td>\n",
              "      <td>Pinned specimen</td>\n",
              "      <td>none</td>\n",
              "      <td>None</td>\n",
              "      <td>False</td>\n",
              "      <td>False</td>\n",
              "      <td>False</td>\n",
              "      <td>0</td>\n",
              "      <td>1</td>\n",
              "      <td>False</td>\n",
              "      <td>valid</td>\n",
              "      <td>Lasioglossum</td>\n",
              "      <td>(Evylaeus)</td>\n",
              "      <td>cooleyi</td>\n",
              "      <td>NaN</td>\n",
              "      <td>(Crawford 1906)</td>\n",
              "      <td>Lasioglossum</td>\n",
              "      <td>(Evylaeus)</td>\n",
              "      <td>cooleyi</td>\n",
              "      <td>1.0</td>\n",
              "      <td>S.J. Burrows 2016</td>\n",
              "      <td>124</td>\n",
              "      <td>4 May 2015</td>\n",
              "      <td>4.0</td>\n",
              "      <td>May</td>\n",
              "      <td>2015.0</td>\n",
              "      <td>NaN</td>\n",
              "      <td>NaN</td>\n",
              "      <td>NaN</td>\n",
              "      <td>8:25:00 AM</td>\n",
              "      <td>3:51:00 PM</td>\n",
              "      <td>46.6812</td>\n",
              "      <td>-114.03677</td>\n",
              "      <td>MPG Ranch: Plot 240</td>\n",
              "      <td>MPG240</td>\n",
              "      <td>NaN</td>\n",
              "      <td>Montana Valley and Foothill grasslands        ...</td>\n",
              "      <td>Middle Rockies                                ...</td>\n",
              "      <td>1533229.0</td>\n",
              "      <td>USA</td>\n",
              "      <td>Montana</td>\n",
              "      <td>Missoula</td>\n",
              "      <td>983.0</td>\n",
              "      <td>NaN</td>\n",
              "      <td>MPG-032</td>\n",
              "      <td>pt</td>\n",
              "      <td>Zero out of 21</td>\n",
              "      <td>E. Israel</td>\n",
              "      <td>MPG RANCH</td>\n",
              "      <td>NaN</td>\n",
              "      <td>101</td>\n",
              "      <td>No Floral Record</td>\n",
              "      <td>Logan</td>\n",
              "      <td>BBSL</td>\n",
              "      <td>Partly Cloudy (&gt;50% sun)</td>\n",
              "      <td>NaN</td>\n",
              "      <td>NaN</td>\n",
              "      <td>NaN</td>\n",
              "      <td>NaN</td>\n",
              "      <td>NaN</td>\n",
              "      <td>NaN</td>\n",
              "      <td>Notes-::Question notes-; mapped juristictions&gt;...</td>\n",
              "      <td>2016-01-10 22:49:43.850000000</td>\n",
              "    </tr>\n",
              "  </tbody>\n",
              "</table>\n",
              "</div>"
            ],
            "text/plain": [
              "     BarcodeID  ...                    datecreated\n",
              "0  BBSL1000000  ...  2016-01-10 22:49:43.843000000\n",
              "1  BBSL1000001  ...  2016-01-10 22:49:43.850000000\n",
              "\n",
              "[2 rows x 71 columns]"
            ]
          },
          "metadata": {
            "tags": []
          },
          "execution_count": 6
        }
      ]
    },
    {
      "cell_type": "code",
      "metadata": {
        "id": "Bpzho58tSiN6",
        "colab_type": "code",
        "outputId": "2425b5f9-d32e-4f83-d0be-4bfe8748f857",
        "colab": {
          "base_uri": "https://localhost:8080/",
          "height": 341
        }
      },
      "source": [
        "df.astype({'Year0': 'int'})\n",
        "\n",
        "#df.Year0.unique()"
      ],
      "execution_count": 0,
      "outputs": [
        {
          "output_type": "error",
          "ename": "ValueError",
          "evalue": "ignored",
          "traceback": [
            "\u001b[0;31m---------------------------------------------------------------------------\u001b[0m",
            "\u001b[0;31mValueError\u001b[0m                                Traceback (most recent call last)",
            "\u001b[0;32m<ipython-input-10-37f3d401a9c9>\u001b[0m in \u001b[0;36m<module>\u001b[0;34m()\u001b[0m\n\u001b[0;32m----> 1\u001b[0;31m \u001b[0mdf\u001b[0m\u001b[0;34m.\u001b[0m\u001b[0mastype\u001b[0m\u001b[0;34m(\u001b[0m\u001b[0;34m{\u001b[0m\u001b[0;34m'Year0'\u001b[0m\u001b[0;34m:\u001b[0m \u001b[0;34m'int'\u001b[0m\u001b[0;34m}\u001b[0m\u001b[0;34m)\u001b[0m\u001b[0;34m\u001b[0m\u001b[0;34m\u001b[0m\u001b[0m\n\u001b[0m\u001b[1;32m      2\u001b[0m \u001b[0;34m\u001b[0m\u001b[0m\n\u001b[1;32m      3\u001b[0m \u001b[0;31m#df.Year0.unique()\u001b[0m\u001b[0;34m\u001b[0m\u001b[0;34m\u001b[0m\u001b[0;34m\u001b[0m\u001b[0m\n",
            "\u001b[0;32m/usr/local/lib/python3.6/dist-packages/pandas/core/generic.py\u001b[0m in \u001b[0;36mastype\u001b[0;34m(self, dtype, copy, errors)\u001b[0m\n\u001b[1;32m   5681\u001b[0m                 \u001b[0;32mif\u001b[0m \u001b[0mcol_name\u001b[0m \u001b[0;32min\u001b[0m \u001b[0mdtype\u001b[0m\u001b[0;34m:\u001b[0m\u001b[0;34m\u001b[0m\u001b[0;34m\u001b[0m\u001b[0m\n\u001b[1;32m   5682\u001b[0m                     results.append(\n\u001b[0;32m-> 5683\u001b[0;31m                         \u001b[0mcol\u001b[0m\u001b[0;34m.\u001b[0m\u001b[0mastype\u001b[0m\u001b[0;34m(\u001b[0m\u001b[0mdtype\u001b[0m\u001b[0;34m=\u001b[0m\u001b[0mdtype\u001b[0m\u001b[0;34m[\u001b[0m\u001b[0mcol_name\u001b[0m\u001b[0;34m]\u001b[0m\u001b[0;34m,\u001b[0m \u001b[0mcopy\u001b[0m\u001b[0;34m=\u001b[0m\u001b[0mcopy\u001b[0m\u001b[0;34m,\u001b[0m \u001b[0merrors\u001b[0m\u001b[0;34m=\u001b[0m\u001b[0merrors\u001b[0m\u001b[0;34m)\u001b[0m\u001b[0;34m\u001b[0m\u001b[0;34m\u001b[0m\u001b[0m\n\u001b[0m\u001b[1;32m   5684\u001b[0m                     )\n\u001b[1;32m   5685\u001b[0m                 \u001b[0;32melse\u001b[0m\u001b[0;34m:\u001b[0m\u001b[0;34m\u001b[0m\u001b[0;34m\u001b[0m\u001b[0m\n",
            "\u001b[0;32m/usr/local/lib/python3.6/dist-packages/pandas/core/generic.py\u001b[0m in \u001b[0;36mastype\u001b[0;34m(self, dtype, copy, errors)\u001b[0m\n\u001b[1;32m   5696\u001b[0m         \u001b[0;32melse\u001b[0m\u001b[0;34m:\u001b[0m\u001b[0;34m\u001b[0m\u001b[0;34m\u001b[0m\u001b[0m\n\u001b[1;32m   5697\u001b[0m             \u001b[0;31m# else, only a single dtype is given\u001b[0m\u001b[0;34m\u001b[0m\u001b[0;34m\u001b[0m\u001b[0;34m\u001b[0m\u001b[0m\n\u001b[0;32m-> 5698\u001b[0;31m             \u001b[0mnew_data\u001b[0m \u001b[0;34m=\u001b[0m \u001b[0mself\u001b[0m\u001b[0;34m.\u001b[0m\u001b[0m_data\u001b[0m\u001b[0;34m.\u001b[0m\u001b[0mastype\u001b[0m\u001b[0;34m(\u001b[0m\u001b[0mdtype\u001b[0m\u001b[0;34m=\u001b[0m\u001b[0mdtype\u001b[0m\u001b[0;34m,\u001b[0m \u001b[0mcopy\u001b[0m\u001b[0;34m=\u001b[0m\u001b[0mcopy\u001b[0m\u001b[0;34m,\u001b[0m \u001b[0merrors\u001b[0m\u001b[0;34m=\u001b[0m\u001b[0merrors\u001b[0m\u001b[0;34m)\u001b[0m\u001b[0;34m\u001b[0m\u001b[0;34m\u001b[0m\u001b[0m\n\u001b[0m\u001b[1;32m   5699\u001b[0m             \u001b[0;32mreturn\u001b[0m \u001b[0mself\u001b[0m\u001b[0;34m.\u001b[0m\u001b[0m_constructor\u001b[0m\u001b[0;34m(\u001b[0m\u001b[0mnew_data\u001b[0m\u001b[0;34m)\u001b[0m\u001b[0;34m.\u001b[0m\u001b[0m__finalize__\u001b[0m\u001b[0;34m(\u001b[0m\u001b[0mself\u001b[0m\u001b[0;34m)\u001b[0m\u001b[0;34m\u001b[0m\u001b[0;34m\u001b[0m\u001b[0m\n\u001b[1;32m   5700\u001b[0m \u001b[0;34m\u001b[0m\u001b[0m\n",
            "\u001b[0;32m/usr/local/lib/python3.6/dist-packages/pandas/core/internals/managers.py\u001b[0m in \u001b[0;36mastype\u001b[0;34m(self, dtype, copy, errors)\u001b[0m\n\u001b[1;32m    580\u001b[0m \u001b[0;34m\u001b[0m\u001b[0m\n\u001b[1;32m    581\u001b[0m     \u001b[0;32mdef\u001b[0m \u001b[0mastype\u001b[0m\u001b[0;34m(\u001b[0m\u001b[0mself\u001b[0m\u001b[0;34m,\u001b[0m \u001b[0mdtype\u001b[0m\u001b[0;34m,\u001b[0m \u001b[0mcopy\u001b[0m\u001b[0;34m:\u001b[0m \u001b[0mbool\u001b[0m \u001b[0;34m=\u001b[0m \u001b[0;32mFalse\u001b[0m\u001b[0;34m,\u001b[0m \u001b[0merrors\u001b[0m\u001b[0;34m:\u001b[0m \u001b[0mstr\u001b[0m \u001b[0;34m=\u001b[0m \u001b[0;34m\"raise\"\u001b[0m\u001b[0;34m)\u001b[0m\u001b[0;34m:\u001b[0m\u001b[0;34m\u001b[0m\u001b[0;34m\u001b[0m\u001b[0m\n\u001b[0;32m--> 582\u001b[0;31m         \u001b[0;32mreturn\u001b[0m \u001b[0mself\u001b[0m\u001b[0;34m.\u001b[0m\u001b[0mapply\u001b[0m\u001b[0;34m(\u001b[0m\u001b[0;34m\"astype\"\u001b[0m\u001b[0;34m,\u001b[0m \u001b[0mdtype\u001b[0m\u001b[0;34m=\u001b[0m\u001b[0mdtype\u001b[0m\u001b[0;34m,\u001b[0m \u001b[0mcopy\u001b[0m\u001b[0;34m=\u001b[0m\u001b[0mcopy\u001b[0m\u001b[0;34m,\u001b[0m \u001b[0merrors\u001b[0m\u001b[0;34m=\u001b[0m\u001b[0merrors\u001b[0m\u001b[0;34m)\u001b[0m\u001b[0;34m\u001b[0m\u001b[0;34m\u001b[0m\u001b[0m\n\u001b[0m\u001b[1;32m    583\u001b[0m \u001b[0;34m\u001b[0m\u001b[0m\n\u001b[1;32m    584\u001b[0m     \u001b[0;32mdef\u001b[0m \u001b[0mconvert\u001b[0m\u001b[0;34m(\u001b[0m\u001b[0mself\u001b[0m\u001b[0;34m,\u001b[0m \u001b[0;34m**\u001b[0m\u001b[0mkwargs\u001b[0m\u001b[0;34m)\u001b[0m\u001b[0;34m:\u001b[0m\u001b[0;34m\u001b[0m\u001b[0;34m\u001b[0m\u001b[0m\n",
            "\u001b[0;32m/usr/local/lib/python3.6/dist-packages/pandas/core/internals/managers.py\u001b[0m in \u001b[0;36mapply\u001b[0;34m(self, f, filter, **kwargs)\u001b[0m\n\u001b[1;32m    440\u001b[0m                 \u001b[0mapplied\u001b[0m \u001b[0;34m=\u001b[0m \u001b[0mb\u001b[0m\u001b[0;34m.\u001b[0m\u001b[0mapply\u001b[0m\u001b[0;34m(\u001b[0m\u001b[0mf\u001b[0m\u001b[0;34m,\u001b[0m \u001b[0;34m**\u001b[0m\u001b[0mkwargs\u001b[0m\u001b[0;34m)\u001b[0m\u001b[0;34m\u001b[0m\u001b[0;34m\u001b[0m\u001b[0m\n\u001b[1;32m    441\u001b[0m             \u001b[0;32melse\u001b[0m\u001b[0;34m:\u001b[0m\u001b[0;34m\u001b[0m\u001b[0;34m\u001b[0m\u001b[0m\n\u001b[0;32m--> 442\u001b[0;31m                 \u001b[0mapplied\u001b[0m \u001b[0;34m=\u001b[0m \u001b[0mgetattr\u001b[0m\u001b[0;34m(\u001b[0m\u001b[0mb\u001b[0m\u001b[0;34m,\u001b[0m \u001b[0mf\u001b[0m\u001b[0;34m)\u001b[0m\u001b[0;34m(\u001b[0m\u001b[0;34m**\u001b[0m\u001b[0mkwargs\u001b[0m\u001b[0;34m)\u001b[0m\u001b[0;34m\u001b[0m\u001b[0;34m\u001b[0m\u001b[0m\n\u001b[0m\u001b[1;32m    443\u001b[0m             \u001b[0mresult_blocks\u001b[0m \u001b[0;34m=\u001b[0m \u001b[0m_extend_blocks\u001b[0m\u001b[0;34m(\u001b[0m\u001b[0mapplied\u001b[0m\u001b[0;34m,\u001b[0m \u001b[0mresult_blocks\u001b[0m\u001b[0;34m)\u001b[0m\u001b[0;34m\u001b[0m\u001b[0;34m\u001b[0m\u001b[0m\n\u001b[1;32m    444\u001b[0m \u001b[0;34m\u001b[0m\u001b[0m\n",
            "\u001b[0;32m/usr/local/lib/python3.6/dist-packages/pandas/core/internals/blocks.py\u001b[0m in \u001b[0;36mastype\u001b[0;34m(self, dtype, copy, errors)\u001b[0m\n\u001b[1;32m    623\u001b[0m             \u001b[0mvals1d\u001b[0m \u001b[0;34m=\u001b[0m \u001b[0mvalues\u001b[0m\u001b[0;34m.\u001b[0m\u001b[0mravel\u001b[0m\u001b[0;34m(\u001b[0m\u001b[0;34m)\u001b[0m\u001b[0;34m\u001b[0m\u001b[0;34m\u001b[0m\u001b[0m\n\u001b[1;32m    624\u001b[0m             \u001b[0;32mtry\u001b[0m\u001b[0;34m:\u001b[0m\u001b[0;34m\u001b[0m\u001b[0;34m\u001b[0m\u001b[0m\n\u001b[0;32m--> 625\u001b[0;31m                 \u001b[0mvalues\u001b[0m \u001b[0;34m=\u001b[0m \u001b[0mastype_nansafe\u001b[0m\u001b[0;34m(\u001b[0m\u001b[0mvals1d\u001b[0m\u001b[0;34m,\u001b[0m \u001b[0mdtype\u001b[0m\u001b[0;34m,\u001b[0m \u001b[0mcopy\u001b[0m\u001b[0;34m=\u001b[0m\u001b[0;32mTrue\u001b[0m\u001b[0;34m)\u001b[0m\u001b[0;34m\u001b[0m\u001b[0;34m\u001b[0m\u001b[0m\n\u001b[0m\u001b[1;32m    626\u001b[0m             \u001b[0;32mexcept\u001b[0m \u001b[0;34m(\u001b[0m\u001b[0mValueError\u001b[0m\u001b[0;34m,\u001b[0m \u001b[0mTypeError\u001b[0m\u001b[0;34m)\u001b[0m\u001b[0;34m:\u001b[0m\u001b[0;34m\u001b[0m\u001b[0;34m\u001b[0m\u001b[0m\n\u001b[1;32m    627\u001b[0m                 \u001b[0;31m# e.g. astype_nansafe can fail on object-dtype of strings\u001b[0m\u001b[0;34m\u001b[0m\u001b[0;34m\u001b[0m\u001b[0;34m\u001b[0m\u001b[0m\n",
            "\u001b[0;32m/usr/local/lib/python3.6/dist-packages/pandas/core/dtypes/cast.py\u001b[0m in \u001b[0;36mastype_nansafe\u001b[0;34m(arr, dtype, copy, skipna)\u001b[0m\n\u001b[1;32m    866\u001b[0m \u001b[0;34m\u001b[0m\u001b[0m\n\u001b[1;32m    867\u001b[0m         \u001b[0;32mif\u001b[0m \u001b[0;32mnot\u001b[0m \u001b[0mnp\u001b[0m\u001b[0;34m.\u001b[0m\u001b[0misfinite\u001b[0m\u001b[0;34m(\u001b[0m\u001b[0marr\u001b[0m\u001b[0;34m)\u001b[0m\u001b[0;34m.\u001b[0m\u001b[0mall\u001b[0m\u001b[0;34m(\u001b[0m\u001b[0;34m)\u001b[0m\u001b[0;34m:\u001b[0m\u001b[0;34m\u001b[0m\u001b[0;34m\u001b[0m\u001b[0m\n\u001b[0;32m--> 868\u001b[0;31m             \u001b[0;32mraise\u001b[0m \u001b[0mValueError\u001b[0m\u001b[0;34m(\u001b[0m\u001b[0;34m\"Cannot convert non-finite values (NA or inf) to integer\"\u001b[0m\u001b[0;34m)\u001b[0m\u001b[0;34m\u001b[0m\u001b[0;34m\u001b[0m\u001b[0m\n\u001b[0m\u001b[1;32m    869\u001b[0m \u001b[0;34m\u001b[0m\u001b[0m\n\u001b[1;32m    870\u001b[0m     \u001b[0;32melif\u001b[0m \u001b[0mis_object_dtype\u001b[0m\u001b[0;34m(\u001b[0m\u001b[0marr\u001b[0m\u001b[0;34m)\u001b[0m\u001b[0;34m:\u001b[0m\u001b[0;34m\u001b[0m\u001b[0;34m\u001b[0m\u001b[0m\n",
            "\u001b[0;31mValueError\u001b[0m: Cannot convert non-finite values (NA or inf) to integer"
          ]
        }
      ]
    },
    {
      "cell_type": "code",
      "metadata": {
        "id": "hpyCOV-vTtEp",
        "colab_type": "code",
        "outputId": "c503f079-4cc6-4edc-950e-6fd3c267905a",
        "colab": {
          "base_uri": "https://localhost:8080/",
          "height": 34
        }
      },
      "source": [
        "df.Year0.unique()"
      ],
      "execution_count": 0,
      "outputs": [
        {
          "output_type": "execute_result",
          "data": {
            "text/plain": [
              "array([2015., 2014., 2016., 2017., 2018.,   nan, 2013.])"
            ]
          },
          "metadata": {
            "tags": []
          },
          "execution_count": 11
        }
      ]
    },
    {
      "cell_type": "markdown",
      "metadata": {
        "id": "jwNdrpIgTu1a",
        "colab_type": "text"
      },
      "source": [
        "# Load Data"
      ]
    },
    {
      "cell_type": "code",
      "metadata": {
        "id": "ATB1XMZGT3Q7",
        "colab_type": "code",
        "colab": {}
      },
      "source": [
        "src = 'MPG_bees_20-04-08.csv'"
      ],
      "execution_count": 0,
      "outputs": []
    },
    {
      "cell_type": "code",
      "metadata": {
        "id": "5cZXyP8vTyiQ",
        "colab_type": "code",
        "colab": {}
      },
      "source": [
        "df = pd.read_csv(src)"
      ],
      "execution_count": 0,
      "outputs": []
    },
    {
      "cell_type": "markdown",
      "metadata": {
        "id": "DkbX3YjhVojK",
        "colab_type": "text"
      },
      "source": [
        "### Rename columns \n",
        "* to comply with BigQuery naming conventions"
      ]
    },
    {
      "cell_type": "code",
      "metadata": {
        "id": "y-Ib9jNXVsXC",
        "colab_type": "code",
        "colab": {}
      },
      "source": [
        "df.columns = ['BarcodeID', 'OtherCATALOG', 'Questionable_recordDATA',\n",
        "       'NestingDATA_Avalible', 'MicrosatDATA_Avalible', 'num_ofmeasurements',\n",
        "       'num_ofPHOTOS', 'Floralspec_INDEX', 'num_of_Determinations',\n",
        "       'Specimen_status', 'modifier', 'typeSTATUS', 'Gynandromorph', 'Stylops',\n",
        "       'Mites', 'M', 'F', 'Queen', 'Nomen_key', 'GenusName', 'Subgenus',\n",
        "       'Species', 'Subspecies', 'AuthorDATE', 'MappedGenus', 'Mapped_subgenus',\n",
        "       'MappedSpeceis', 'MappedBEE', 'determiner', 'JD_date', 'date',\n",
        "       'StartDay', 'startMon', 'Year0', 'endDay', 'endMon', 'Year1',\n",
        "       'starttime', 'endtime', 'DecimalLat', 'DecimalLon',\n",
        "       'Location_Description', 'Location_Name', 'GAP_mapped', 'ECO_mapped',\n",
        "       'ECOEPA_name', 'GRID_link_B', 'Level0_name', 'Level1_name',\n",
        "       'Level2_Name', 'Elev_meters', 'Radius_of_collection_in_meters',\n",
        "       'Eventcode', 'CollMeth', 'CollMeth_modifier', 'collectors',\n",
        "       'ProjectName', 'ProjectDATA_Flag', 'ProjectID', 'Floral_association',\n",
        "       'bbsl_oldcode', 'code', 'Conditions', 'barmetricstart', 'barmetricend',\n",
        "       'windspeedstart', 'windspeedend', 'tempstart', 'tempend', 'noteblock',\n",
        "       'datecreated']"
      ],
      "execution_count": 0,
      "outputs": []
    },
    {
      "cell_type": "markdown",
      "metadata": {
        "id": "vguk5HLlRUFy",
        "colab_type": "text"
      },
      "source": [
        "### Set datatypes"
      ]
    },
    {
      "cell_type": "code",
      "metadata": {
        "id": "-A_gODG9RW4B",
        "colab_type": "code",
        "colab": {}
      },
      "source": [
        ""
      ],
      "execution_count": 0,
      "outputs": []
    },
    {
      "cell_type": "markdown",
      "metadata": {
        "id": "qFeo4JpDPI30",
        "colab_type": "text"
      },
      "source": [
        "# BigQuery"
      ]
    },
    {
      "cell_type": "markdown",
      "metadata": {
        "id": "pqv1yJQHPNZb",
        "colab_type": "text"
      },
      "source": [
        "### Authenticate"
      ]
    },
    {
      "cell_type": "code",
      "metadata": {
        "id": "iwmK8dyAPLLT",
        "colab_type": "code",
        "outputId": "0d96441a-f021-40dd-c038-20b17f6fdade",
        "colab": {
          "base_uri": "https://localhost:8080/",
          "height": 34
        }
      },
      "source": [
        "from google.colab import auth\n",
        "auth.authenticate_user()\n",
        "print('Authenticated')"
      ],
      "execution_count": 0,
      "outputs": [
        {
          "output_type": "stream",
          "text": [
            "Authenticated\n"
          ],
          "name": "stdout"
        }
      ]
    },
    {
      "cell_type": "code",
      "metadata": {
        "id": "3b84WCG1UYpq",
        "colab_type": "code",
        "colab": {}
      },
      "source": [
        "!pip install --upgrade google-cloud-bigquery\n",
        "!pip install --upgrade google-cloud-bigquery-storage\n",
        "!pip install --upgrade google-cloud-core"
      ],
      "execution_count": 0,
      "outputs": []
    },
    {
      "cell_type": "code",
      "metadata": {
        "id": "SBDId-jDUNhT",
        "colab_type": "code",
        "colab": {}
      },
      "source": [
        "#@title Enter GCP/BigQuery Project ID\n",
        "project_id = 'mpg-bees' #@param{type:\"string\"}\n",
        "\n",
        "# Packages used for interfacing w/ BigQuery from Python\n",
        "from google.cloud import bigquery\n",
        "from google.cloud import bigquery_storage_v1beta1\n",
        "\n",
        "# Create BigQuery client\n",
        "bq_client = bigquery.Client(project = project_id)\n",
        "\n",
        "# Create BigQuery storage client\n",
        "bq_storage_client = bigquery_storage_v1beta1.BigQueryStorageClient()"
      ],
      "execution_count": 0,
      "outputs": []
    },
    {
      "cell_type": "markdown",
      "metadata": {
        "id": "o2P13Pr9R_8v",
        "colab_type": "text"
      },
      "source": [
        "### Write to BigQuery"
      ]
    },
    {
      "cell_type": "code",
      "metadata": {
        "id": "eZBuOOXESBT3",
        "colab_type": "code",
        "outputId": "31e36830-8321-4652-f649-ca2529151fae",
        "colab": {
          "base_uri": "https://localhost:8080/",
          "height": 68
        }
      },
      "source": [
        "#@title Write All Weather Station Data to BigQuery Table\n",
        "#project = 'mpg-bees' #@param{type:'string'}\n",
        "output_dataset_id = 'bee_biology_systematics_lab' #@param{type:'string'}\n",
        "\n",
        "output_table_id = 'dev_apr' #@param{type:'string'}\n",
        "\n",
        "replace_or_append_output = 'replace' #@param{type:'string'} ['replace', 'append']\n",
        "\n",
        "# Combine project and dataset\n",
        "project_dataset = (bq_client.project + '.' + output_dataset_id)\n",
        "\n",
        "# Check to make sure output dataset exists, create it if not\n",
        "try:\n",
        " bq_client.get_dataset(output_dataset_id)\n",
        " print(\"Dataset \" + project_dataset + \" exists\\n\")\n",
        " \n",
        "except:\n",
        " print(\"Dataset \" + project_dataset + \" doesn't exist, so creating it\\n\")\n",
        " dataset = bq_client.create_dataset(bigquery.Dataset(project_dataset))\n",
        "\n",
        "job_config = bigquery.LoadJobConfig()\n",
        "\n",
        "# Modify job config depending on if we want to replace or append to table\n",
        "if(replace_or_append_output == 'replace'):\n",
        " job_config.write_disposition = bigquery.WriteDisposition.WRITE_TRUNCATE  \n",
        "else:  \n",
        " job_config.write_disposition = bigquery.WriteDisposition.WRITE_APPEND\n",
        "\n",
        "dataset_ref = bq_client.dataset(output_dataset_id)\n",
        "table_ref = dataset_ref.table(output_table_id)\n",
        "\n",
        "# # Get timestamp (UTC), add to data frame at granularity of seconds\n",
        "# all_station_fit_info['timestamp'] = pd.Timestamp.now(tz = 'UTC').ceil(freq = 's'\n",
        "#  )\n",
        "\n",
        "# Use client functionality to load BigQuery table from Pandas data frame\n",
        "bq_client.load_table_from_dataframe(\n",
        " dataframe = df,\n",
        " destination = table_ref,\n",
        " job_config = job_config\n",
        " ).result()\n",
        " \n",
        "# print('All Station Fit Info output (' + replace_or_append_output + ') to ' +\n",
        "#  project_dataset + '.' + output_table_id +\n",
        "#  '\\n')"
      ],
      "execution_count": 0,
      "outputs": [
        {
          "output_type": "stream",
          "text": [
            "Dataset mpg-bees.bee_biology_systematics_lab exists\n",
            "\n"
          ],
          "name": "stdout"
        },
        {
          "output_type": "execute_result",
          "data": {
            "text/plain": [
              "<google.cloud.bigquery.job.LoadJob at 0x7fb87fd35c50>"
            ]
          },
          "metadata": {
            "tags": []
          },
          "execution_count": 18
        }
      ]
    },
    {
      "cell_type": "code",
      "metadata": {
        "id": "6Buk3tqmUFd3",
        "colab_type": "code",
        "outputId": "da46828b-f538-4a75-b257-af9ef3eb37b3",
        "colab": {
          "base_uri": "https://localhost:8080/",
          "height": 34
        }
      },
      "source": [
        "bq_client.project"
      ],
      "execution_count": 0,
      "outputs": [
        {
          "output_type": "execute_result",
          "data": {
            "text/plain": [
              "'mpg-bees'"
            ]
          },
          "metadata": {
            "tags": []
          },
          "execution_count": 11
        }
      ]
    }
  ]
}