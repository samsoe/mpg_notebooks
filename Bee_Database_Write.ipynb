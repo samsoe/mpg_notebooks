{
  "nbformat": 4,
  "nbformat_minor": 0,
  "metadata": {
    "colab": {
      "name": "Bee Database Write.ipynb",
      "provenance": [],
      "authorship_tag": "ABX9TyMC9KXDTruhvoZxshACSaRj",
      "include_colab_link": true
    },
    "kernelspec": {
      "name": "python3",
      "display_name": "Python 3"
    },
    "accelerator": "GPU"
  },
  "cells": [
    {
      "cell_type": "markdown",
      "metadata": {
        "id": "view-in-github",
        "colab_type": "text"
      },
      "source": [
        "<a href=\"https://colab.research.google.com/github/samsoe/mpg_notebooks/blob/master/Bee_Database_Write.ipynb\" target=\"_parent\"><img src=\"https://colab.research.google.com/assets/colab-badge.svg\" alt=\"Open In Colab\"/></a>"
      ]
    },
    {
      "cell_type": "markdown",
      "metadata": {
        "id": "YVXJoCh-Dsa9",
        "colab_type": "text"
      },
      "source": [
        "2020-04-17 Erik Samsoe"
      ]
    },
    {
      "cell_type": "markdown",
      "metadata": {
        "id": "YKN120dn7mml",
        "colab_type": "text"
      },
      "source": [
        "* Link to source\n",
        "* Identify file type\n",
        "* Convert file\n",
        "* Remove commas\n",
        "* Load into BigQuery"
      ]
    },
    {
      "cell_type": "code",
      "metadata": {
        "id": "wVhmlGBA72Rt",
        "colab_type": "code",
        "colab": {}
      },
      "source": [
        "import pandas as pd"
      ],
      "execution_count": 0,
      "outputs": []
    },
    {
      "cell_type": "markdown",
      "metadata": {
        "id": "Xc8A8Wcg8YdR",
        "colab_type": "text"
      },
      "source": [
        "* \"MPG_textport.txt\" shared by H through \"Box\".  \n",
        "* Marirose shared the link in Slack with Erik.\n",
        "* Original File is hosted on Drive here: [MPG_textport.txt](https://drive.google.com/open?id=1-4VDXNMHJpgoB_BZENVhF3BaGJyYBBoI)\n",
        "* This file is loaded into a text editor.  VIM in this case.  The .txt file appears to be in tsv format.\n",
        "  * Remove commas with search and replace\n",
        "  * Replace tabs with commas\n",
        "* Upload file to Notebook (because of large size)\n",
        "* Check file type"
      ]
    },
    {
      "cell_type": "markdown",
      "metadata": {
        "id": "GMRoOINFlnEU",
        "colab_type": "text"
      },
      "source": [
        "## Mount Google Drive (Alterate Source Data Load)\n"
      ]
    },
    {
      "cell_type": "code",
      "metadata": {
        "id": "5cZXyP8vTyiQ",
        "colab_type": "code",
        "colab": {}
      },
      "source": [
        "# this will mount authenticated user google drive folders\n",
        "from google.colab import drive\n",
        "drive.mount('/content/drive/')"
      ],
      "execution_count": 0,
      "outputs": []
    },
    {
      "cell_type": "code",
      "metadata": {
        "id": "ey-1pJiLl_9h",
        "colab_type": "code",
        "colab": {}
      },
      "source": [
        "src_drive = '/content/drive/My Drive/MPG Ranch Datasets/Bees/Source/MPG_textport_nocommas.csv'"
      ],
      "execution_count": 0,
      "outputs": []
    },
    {
      "cell_type": "code",
      "metadata": {
        "id": "EPdJzgoKmFwZ",
        "colab_type": "code",
        "colab": {}
      },
      "source": [
        "df = pd.read_csv(src_drive, encoding='utf-16')"
      ],
      "execution_count": 0,
      "outputs": []
    },
    {
      "cell_type": "code",
      "metadata": {
        "id": "hECjmnklu9g3",
        "colab_type": "code",
        "colab": {
          "base_uri": "https://localhost:8080/",
          "height": 204
        },
        "outputId": "bac2ad05-23d3-42d1-fe42-1abcbdb06943"
      },
      "source": [
        "# DtypeWarning: Columns (1,35,52,57)\n",
        "df.iloc[:, [1,35,52,57]].info()"
      ],
      "execution_count": 31,
      "outputs": [
        {
          "output_type": "stream",
          "text": [
            "<class 'pandas.core.frame.DataFrame'>\n",
            "RangeIndex: 75205 entries, 0 to 75204\n",
            "Data columns (total 4 columns):\n",
            " #   Column            Non-Null Count  Dtype \n",
            "---  ------            --------------  ----- \n",
            " 0   OtherCATALOG      1289 non-null   object\n",
            " 1   endMon            626 non-null    object\n",
            " 2   Eventcode         48335 non-null  object\n",
            " 3   ProjectDATA_Flag  76 non-null     object\n",
            "dtypes: object(4)\n",
            "memory usage: 2.3+ MB\n"
          ],
          "name": "stdout"
        }
      ]
    },
    {
      "cell_type": "code",
      "metadata": {
        "id": "RK5hldSqnXim",
        "colab_type": "code",
        "colab": {
          "base_uri": "https://localhost:8080/",
          "height": 267
        },
        "outputId": "6d964b7a-4e3a-4815-deba-1ebe06e9fa04"
      },
      "source": [
        "df.head(2)"
      ],
      "execution_count": 26,
      "outputs": [
        {
          "output_type": "execute_result",
          "data": {
            "text/html": [
              "<div>\n",
              "<style scoped>\n",
              "    .dataframe tbody tr th:only-of-type {\n",
              "        vertical-align: middle;\n",
              "    }\n",
              "\n",
              "    .dataframe tbody tr th {\n",
              "        vertical-align: top;\n",
              "    }\n",
              "\n",
              "    .dataframe thead th {\n",
              "        text-align: right;\n",
              "    }\n",
              "</style>\n",
              "<table border=\"1\" class=\"dataframe\">\n",
              "  <thead>\n",
              "    <tr style=\"text-align: right;\">\n",
              "      <th></th>\n",
              "      <th>BarcodeID</th>\n",
              "      <th>OtherCATALOG</th>\n",
              "      <th>Questionable_recordDATA</th>\n",
              "      <th>NestingDATA_Avalible</th>\n",
              "      <th>MicrosatDATA_Avalible</th>\n",
              "      <th>#ofmeasurements</th>\n",
              "      <th>#ofPHOTOS</th>\n",
              "      <th>Floralspec_INDEX</th>\n",
              "      <th>#of_Determinations</th>\n",
              "      <th>Specimen_status</th>\n",
              "      <th>modifier</th>\n",
              "      <th>typeSTATUS</th>\n",
              "      <th>Gynandromorph</th>\n",
              "      <th>Stylops</th>\n",
              "      <th>Mites</th>\n",
              "      <th>M</th>\n",
              "      <th>F</th>\n",
              "      <th>Queen</th>\n",
              "      <th>Nomen_key</th>\n",
              "      <th>GenusName</th>\n",
              "      <th>Subgenus</th>\n",
              "      <th>Species</th>\n",
              "      <th>Subspecies</th>\n",
              "      <th>AuthorDATE</th>\n",
              "      <th>MappedGenus</th>\n",
              "      <th>Mapped_subgenus</th>\n",
              "      <th>MappedSpeceis</th>\n",
              "      <th>MappedBEE</th>\n",
              "      <th>determiner</th>\n",
              "      <th>JD_date</th>\n",
              "      <th>date</th>\n",
              "      <th>StartDay</th>\n",
              "      <th>startMon</th>\n",
              "      <th>Year0</th>\n",
              "      <th>endDay</th>\n",
              "      <th>endMon</th>\n",
              "      <th>Year1</th>\n",
              "      <th>starttime</th>\n",
              "      <th>endtime</th>\n",
              "      <th>DecimalLat</th>\n",
              "      <th>DecimalLon</th>\n",
              "      <th>Location Description</th>\n",
              "      <th>Location_Name</th>\n",
              "      <th>GAP_mapped</th>\n",
              "      <th>ECO_mapped</th>\n",
              "      <th>ECOEPA_name</th>\n",
              "      <th>GRID_link_B</th>\n",
              "      <th>Level0_name</th>\n",
              "      <th>Level1_name</th>\n",
              "      <th>Level2_Name</th>\n",
              "      <th>Elev_meters</th>\n",
              "      <th>Radius of collection in meters</th>\n",
              "      <th>Eventcode</th>\n",
              "      <th>CollMeth</th>\n",
              "      <th>CollMeth_modifier</th>\n",
              "      <th>collectors</th>\n",
              "      <th>ProjectName</th>\n",
              "      <th>ProjectDATA_Flag</th>\n",
              "      <th>ProjectID</th>\n",
              "      <th>Floral_association</th>\n",
              "      <th>bbsl_oldcode</th>\n",
              "      <th>code</th>\n",
              "      <th>Conditions</th>\n",
              "      <th>barmetricstart</th>\n",
              "      <th>barmetricend</th>\n",
              "      <th>windspeedstart</th>\n",
              "      <th>windspeedend</th>\n",
              "      <th>tempstart</th>\n",
              "      <th>tempend</th>\n",
              "      <th>noteblock</th>\n",
              "      <th>datecreated</th>\n",
              "    </tr>\n",
              "  </thead>\n",
              "  <tbody>\n",
              "    <tr>\n",
              "      <th>0</th>\n",
              "      <td>BBSL1000000</td>\n",
              "      <td>NaN</td>\n",
              "      <td>0</td>\n",
              "      <td>no</td>\n",
              "      <td>no</td>\n",
              "      <td>NaN</td>\n",
              "      <td>NaN</td>\n",
              "      <td>1.0</td>\n",
              "      <td>NaN</td>\n",
              "      <td>Pinned specimen</td>\n",
              "      <td>none</td>\n",
              "      <td>None</td>\n",
              "      <td>False</td>\n",
              "      <td>False</td>\n",
              "      <td>False</td>\n",
              "      <td>0</td>\n",
              "      <td>1</td>\n",
              "      <td>False</td>\n",
              "      <td>valid</td>\n",
              "      <td>Lasioglossum</td>\n",
              "      <td>(Evylaeus)</td>\n",
              "      <td>cooleyi</td>\n",
              "      <td>NaN</td>\n",
              "      <td>(Crawford 1906)</td>\n",
              "      <td>Lasioglossum</td>\n",
              "      <td>(Evylaeus)</td>\n",
              "      <td>cooleyi</td>\n",
              "      <td>1.0</td>\n",
              "      <td>S.J. Burrows 2016</td>\n",
              "      <td>124</td>\n",
              "      <td>4 May 2015</td>\n",
              "      <td>4.0</td>\n",
              "      <td>May</td>\n",
              "      <td>2015.0</td>\n",
              "      <td>NaN</td>\n",
              "      <td>NaN</td>\n",
              "      <td>NaN</td>\n",
              "      <td>8:25:00 AM</td>\n",
              "      <td>3:51:00 PM</td>\n",
              "      <td>46.6812</td>\n",
              "      <td>-114.03677</td>\n",
              "      <td>MPG Ranch: Plot 240</td>\n",
              "      <td>MPG240</td>\n",
              "      <td>NaN</td>\n",
              "      <td>Montana Valley and Foothill grasslands        ...</td>\n",
              "      <td>Middle Rockies                                ...</td>\n",
              "      <td>1533229.0</td>\n",
              "      <td>USA</td>\n",
              "      <td>Montana</td>\n",
              "      <td>Missoula</td>\n",
              "      <td>983.0</td>\n",
              "      <td>NaN</td>\n",
              "      <td>MPG-032</td>\n",
              "      <td>pt</td>\n",
              "      <td>Zero out of 21</td>\n",
              "      <td>E. Israel</td>\n",
              "      <td>MPG RANCH</td>\n",
              "      <td>NaN</td>\n",
              "      <td>101</td>\n",
              "      <td>No Floral Record</td>\n",
              "      <td>Logan</td>\n",
              "      <td>BBSL</td>\n",
              "      <td>Partly Cloudy (&gt;50% sun)</td>\n",
              "      <td>NaN</td>\n",
              "      <td>NaN</td>\n",
              "      <td>NaN</td>\n",
              "      <td>NaN</td>\n",
              "      <td>NaN</td>\n",
              "      <td>NaN</td>\n",
              "      <td>Notes-::Question notes-; mapped juristictions&gt;...</td>\n",
              "      <td>2016-01-10 22:49:43.843000000</td>\n",
              "    </tr>\n",
              "    <tr>\n",
              "      <th>1</th>\n",
              "      <td>BBSL1000001</td>\n",
              "      <td>NaN</td>\n",
              "      <td>0</td>\n",
              "      <td>no</td>\n",
              "      <td>no</td>\n",
              "      <td>NaN</td>\n",
              "      <td>NaN</td>\n",
              "      <td>1.0</td>\n",
              "      <td>NaN</td>\n",
              "      <td>Pinned specimen</td>\n",
              "      <td>none</td>\n",
              "      <td>None</td>\n",
              "      <td>False</td>\n",
              "      <td>False</td>\n",
              "      <td>False</td>\n",
              "      <td>0</td>\n",
              "      <td>1</td>\n",
              "      <td>False</td>\n",
              "      <td>valid</td>\n",
              "      <td>Lasioglossum</td>\n",
              "      <td>(Evylaeus)</td>\n",
              "      <td>cooleyi</td>\n",
              "      <td>NaN</td>\n",
              "      <td>(Crawford 1906)</td>\n",
              "      <td>Lasioglossum</td>\n",
              "      <td>(Evylaeus)</td>\n",
              "      <td>cooleyi</td>\n",
              "      <td>1.0</td>\n",
              "      <td>S.J. Burrows 2016</td>\n",
              "      <td>124</td>\n",
              "      <td>4 May 2015</td>\n",
              "      <td>4.0</td>\n",
              "      <td>May</td>\n",
              "      <td>2015.0</td>\n",
              "      <td>NaN</td>\n",
              "      <td>NaN</td>\n",
              "      <td>NaN</td>\n",
              "      <td>8:25:00 AM</td>\n",
              "      <td>3:51:00 PM</td>\n",
              "      <td>46.6812</td>\n",
              "      <td>-114.03677</td>\n",
              "      <td>MPG Ranch: Plot 240</td>\n",
              "      <td>MPG240</td>\n",
              "      <td>NaN</td>\n",
              "      <td>Montana Valley and Foothill grasslands        ...</td>\n",
              "      <td>Middle Rockies                                ...</td>\n",
              "      <td>1533229.0</td>\n",
              "      <td>USA</td>\n",
              "      <td>Montana</td>\n",
              "      <td>Missoula</td>\n",
              "      <td>983.0</td>\n",
              "      <td>NaN</td>\n",
              "      <td>MPG-032</td>\n",
              "      <td>pt</td>\n",
              "      <td>Zero out of 21</td>\n",
              "      <td>E. Israel</td>\n",
              "      <td>MPG RANCH</td>\n",
              "      <td>NaN</td>\n",
              "      <td>101</td>\n",
              "      <td>No Floral Record</td>\n",
              "      <td>Logan</td>\n",
              "      <td>BBSL</td>\n",
              "      <td>Partly Cloudy (&gt;50% sun)</td>\n",
              "      <td>NaN</td>\n",
              "      <td>NaN</td>\n",
              "      <td>NaN</td>\n",
              "      <td>NaN</td>\n",
              "      <td>NaN</td>\n",
              "      <td>NaN</td>\n",
              "      <td>Notes-::Question notes-; mapped juristictions&gt;...</td>\n",
              "      <td>2016-01-10 22:49:43.850000000</td>\n",
              "    </tr>\n",
              "  </tbody>\n",
              "</table>\n",
              "</div>"
            ],
            "text/plain": [
              "     BarcodeID  ...                    datecreated\n",
              "0  BBSL1000000  ...  2016-01-10 22:49:43.843000000\n",
              "1  BBSL1000001  ...  2016-01-10 22:49:43.850000000\n",
              "\n",
              "[2 rows x 71 columns]"
            ]
          },
          "metadata": {
            "tags": []
          },
          "execution_count": 26
        }
      ]
    },
    {
      "cell_type": "code",
      "metadata": {
        "id": "RfsCQqa8mt7C",
        "colab_type": "code",
        "colab": {
          "base_uri": "https://localhost:8080/",
          "height": 323
        },
        "outputId": "43834f9e-cb1d-443c-9aa0-36a1b3342c52"
      },
      "source": [
        "df.columns"
      ],
      "execution_count": 27,
      "outputs": [
        {
          "output_type": "execute_result",
          "data": {
            "text/plain": [
              "Index(['BarcodeID', 'OtherCATALOG', 'Questionable_recordDATA',\n",
              "       'NestingDATA_Avalible', 'MicrosatDATA_Avalible', '#ofmeasurements',\n",
              "       '#ofPHOTOS', 'Floralspec_INDEX', '#of_Determinations',\n",
              "       'Specimen_status', 'modifier', 'typeSTATUS', 'Gynandromorph', 'Stylops',\n",
              "       'Mites', 'M', 'F', 'Queen', 'Nomen_key', 'GenusName', 'Subgenus',\n",
              "       'Species', 'Subspecies', 'AuthorDATE', 'MappedGenus', 'Mapped_subgenus',\n",
              "       'MappedSpeceis', 'MappedBEE', 'determiner', 'JD_date', 'date',\n",
              "       'StartDay', 'startMon', 'Year0', 'endDay', 'endMon', 'Year1',\n",
              "       'starttime', 'endtime', 'DecimalLat', 'DecimalLon',\n",
              "       'Location Description', 'Location_Name', 'GAP_mapped', 'ECO_mapped',\n",
              "       'ECOEPA_name', 'GRID_link_B', 'Level0_name', 'Level1_name',\n",
              "       'Level2_Name', 'Elev_meters', 'Radius of collection in meters',\n",
              "       'Eventcode', 'CollMeth', 'CollMeth_modifier', 'collectors',\n",
              "       'ProjectName', 'ProjectDATA_Flag', 'ProjectID', 'Floral_association',\n",
              "       'bbsl_oldcode', 'code', 'Conditions', 'barmetricstart', 'barmetricend',\n",
              "       'windspeedstart', 'windspeedend', 'tempstart', 'tempend', 'noteblock',\n",
              "       'datecreated'],\n",
              "      dtype='object')"
            ]
          },
          "metadata": {
            "tags": []
          },
          "execution_count": 27
        }
      ]
    },
    {
      "cell_type": "code",
      "metadata": {
        "id": "5bJQfpHgm1AJ",
        "colab_type": "code",
        "colab": {}
      },
      "source": [
        "df = df[['BarcodeID', 'OtherCATALOG', 'Questionable_recordDATA',\n",
        "       'NestingDATA_Avalible', 'MicrosatDATA_Avalible', '#ofmeasurements',\n",
        "       '#ofPHOTOS', 'Floralspec_INDEX', '#of_Determinations',\n",
        "       'Specimen_status', 'modifier', 'typeSTATUS', 'Gynandromorph', 'Stylops',\n",
        "       'Mites', 'M', 'F', 'Queen', 'Nomen_key', 'GenusName', 'Subgenus',\n",
        "       'Species', 'Subspecies', 'AuthorDATE', 'MappedGenus', 'Mapped_subgenus',\n",
        "       'MappedSpeceis', 'MappedBEE', 'determiner', 'JD_date', 'date',\n",
        "       'StartDay', 'startMon', 'Year0', 'endDay', 'endMon', 'Year1',\n",
        "       'starttime', 'endtime', 'DecimalLat', 'DecimalLon',\n",
        "       'Location Description', 'Location_Name', 'GAP_mapped', 'ECO_mapped',\n",
        "       'ECOEPA_name', 'GRID_link_B', 'Level0_name', 'Level1_name',\n",
        "       'Level2_Name', 'Elev_meters', 'Radius of collection in meters',\n",
        "       'Eventcode', 'CollMeth', 'CollMeth_modifier', 'collectors',\n",
        "       'ProjectName', 'ProjectDATA_Flag', 'ProjectID', 'Floral_association',\n",
        "       'bbsl_oldcode', 'code', 'Conditions', 'barmetricstart', 'barmetricend',\n",
        "       'windspeedstart', 'windspeedend', 'tempstart', 'tempend', 'noteblock',\n",
        "       'datecreated']]"
      ],
      "execution_count": 0,
      "outputs": []
    },
    {
      "cell_type": "markdown",
      "metadata": {
        "id": "DkbX3YjhVojK",
        "colab_type": "text"
      },
      "source": [
        "### Rename columns \n",
        "* to comply with BigQuery naming conventions"
      ]
    },
    {
      "cell_type": "code",
      "metadata": {
        "id": "y-Ib9jNXVsXC",
        "colab_type": "code",
        "colab": {}
      },
      "source": [
        "df.columns = ['BarcodeID', 'OtherCATALOG', 'Questionable_recordDATA',\n",
        "       'NestingDATA_Avalible', 'MicrosatDATA_Avalible', 'num_ofmeasurements',\n",
        "       'num_ofPHOTOS', 'Floralspec_INDEX', 'num_of_Determinations',\n",
        "       'Specimen_status', 'modifier', 'typeSTATUS', 'Gynandromorph', 'Stylops',\n",
        "       'Mites', 'M', 'F', 'Queen', 'Nomen_key', 'GenusName', 'Subgenus',\n",
        "       'Species', 'Subspecies', 'AuthorDATE', 'MappedGenus', 'Mapped_subgenus',\n",
        "       'MappedSpeceis', 'MappedBEE', 'determiner', 'JD_date', 'date',\n",
        "       'StartDay', 'startMon', 'Year0', 'endDay', 'endMon', 'Year1',\n",
        "       'starttime', 'endtime', 'DecimalLat', 'DecimalLon',\n",
        "       'Location_Description', 'Location_Name', 'GAP_mapped', 'ECO_mapped',\n",
        "       'ECOEPA_name', 'GRID_link_B', 'Level0_name', 'Level1_name',\n",
        "       'Level2_Name', 'Elev_meters', 'Radius_of_collection_in_meters',\n",
        "       'Eventcode', 'CollMeth', 'CollMeth_modifier', 'collectors',\n",
        "       'ProjectName', 'ProjectDATA_Flag', 'ProjectID', 'Floral_association',\n",
        "       'bbsl_oldcode', 'code', 'Conditions', 'barmetricstart', 'barmetricend',\n",
        "       'windspeedstart', 'windspeedend', 'tempstart', 'tempend', 'noteblock',\n",
        "       'datecreated']"
      ],
      "execution_count": 0,
      "outputs": []
    },
    {
      "cell_type": "markdown",
      "metadata": {
        "id": "vguk5HLlRUFy",
        "colab_type": "text"
      },
      "source": [
        "### Set datatypes"
      ]
    },
    {
      "cell_type": "code",
      "metadata": {
        "id": "-A_gODG9RW4B",
        "colab_type": "code",
        "colab": {}
      },
      "source": [
        "# ?"
      ],
      "execution_count": 0,
      "outputs": []
    },
    {
      "cell_type": "markdown",
      "metadata": {
        "id": "qFeo4JpDPI30",
        "colab_type": "text"
      },
      "source": [
        "# Push to BigQuery"
      ]
    },
    {
      "cell_type": "code",
      "metadata": {
        "id": "TqG9hj20vZgv",
        "colab_type": "code",
        "colab": {}
      },
      "source": [
        "table_name = '20_04_17_dev'"
      ],
      "execution_count": 0,
      "outputs": []
    },
    {
      "cell_type": "code",
      "metadata": {
        "id": "eQL9bEFwv5bD",
        "colab_type": "code",
        "colab": {}
      },
      "source": [
        "df.to_gbq('bee_biology_systematics_lab.' + table_name, 'mpg-bees', if_exists='replace')"
      ],
      "execution_count": 0,
      "outputs": []
    }
  ]
}