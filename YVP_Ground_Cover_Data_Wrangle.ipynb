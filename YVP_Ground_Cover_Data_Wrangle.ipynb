{
  "nbformat": 4,
  "nbformat_minor": 0,
  "metadata": {
    "colab": {
      "name": "YVP - Ground Cover Data - Wrangle.ipynb",
      "provenance": [],
      "authorship_tag": "ABX9TyMRKehrZss+jhB9XXcKKWvG",
      "include_colab_link": true
    },
    "kernelspec": {
      "name": "ir",
      "display_name": "R"
    }
  },
  "cells": [
    {
      "cell_type": "markdown",
      "metadata": {
        "id": "view-in-github",
        "colab_type": "text"
      },
      "source": [
        "<a href=\"https://colab.research.google.com/github/samsoe/mpg_notebooks/blob/master/YVP_Ground_Cover_Data_Wrangle.ipynb\" target=\"_parent\"><img src=\"https://colab.research.google.com/assets/colab-badge.svg\" alt=\"Open In Colab\"/></a>"
      ]
    },
    {
      "cell_type": "markdown",
      "metadata": {
        "id": "grC8Ddy3ldae",
        "colab_type": "text"
      },
      "source": [
        "*R Notebook*"
      ]
    },
    {
      "cell_type": "markdown",
      "metadata": {
        "id": "7T3HmftDlixE",
        "colab_type": "text"
      },
      "source": [
        "# README"
      ]
    },
    {
      "cell_type": "markdown",
      "metadata": {
        "id": "OXXTPRr6llWt",
        "colab_type": "text"
      },
      "source": [
        "* Readme fixed plot vegetation data - [Ground Cover Data](https://docs.google.com/document/d/16-Aq8u9Rudd78fSzfjvpCXyQgE-BstC-d2PjYfmLtcw/edit#heading=h.a2v9q2quarai)"
      ]
    },
    {
      "cell_type": "markdown",
      "metadata": {
        "id": "bHYYw4xEmAqY",
        "colab_type": "text"
      },
      "source": [
        "# Load Tools"
      ]
    },
    {
      "cell_type": "code",
      "metadata": {
        "id": "GWJnfQK8mCfS",
        "colab_type": "code",
        "colab": {
          "base_uri": "https://localhost:8080/",
          "height": 255
        },
        "outputId": "0dd6a210-2d60-4559-e1c9-4f1d77fe0cff"
      },
      "source": [
        "library(dplyr)"
      ],
      "execution_count": 1,
      "outputs": [
        {
          "output_type": "stream",
          "text": [
            "\n",
            "Attaching package: ‘dplyr’\n",
            "\n",
            "\n",
            "The following objects are masked from ‘package:stats’:\n",
            "\n",
            "    filter, lag\n",
            "\n",
            "\n",
            "The following objects are masked from ‘package:base’:\n",
            "\n",
            "    intersect, setdiff, setequal, union\n",
            "\n",
            "\n"
          ],
          "name": "stderr"
        }
      ]
    },
    {
      "cell_type": "markdown",
      "metadata": {
        "id": "RKBdNw56BzwD",
        "colab_type": "text"
      },
      "source": [
        "# Source"
      ]
    },
    {
      "cell_type": "code",
      "metadata": {
        "id": "IWECZhebmKdk",
        "colab_type": "code",
        "colab": {}
      },
      "source": [
        "# '2020-04-28_yvp_ground_cover.csv'\n",
        "src = 'https://drive.google.com/uc?id=1JXlFaVP1UxuKmnHju8r6T-8ssrPYO9dV'"
      ],
      "execution_count": 0,
      "outputs": []
    },
    {
      "cell_type": "code",
      "metadata": {
        "id": "2M7BaocmmMTu",
        "colab_type": "code",
        "colab": {}
      },
      "source": [
        "df <- read.csv(file = src)"
      ],
      "execution_count": 0,
      "outputs": []
    },
    {
      "cell_type": "code",
      "metadata": {
        "id": "7aHyJ4cYmYi2",
        "colab_type": "code",
        "colab": {
          "base_uri": "https://localhost:8080/",
          "height": 120
        },
        "outputId": "ac5f1a3c-fa95-4437-e3bb-6acd7273f512"
      },
      "source": [
        "head(df, n=2)"
      ],
      "execution_count": 5,
      "outputs": [
        {
          "output_type": "display_data",
          "data": {
            "text/plain": [
              "  plot_code date       subplot groundcover_type groundcover_pct\n",
              "1 YVP 10    2017-06-09 1       BG                1             \n",
              "2 YVP 10    2017-06-09 1       BV               80             "
            ],
            "text/latex": "A data.frame: 2 × 5\n\\begin{tabular}{r|lllll}\n  & plot\\_code & date & subplot & groundcover\\_type & groundcover\\_pct\\\\\n  & <fct> & <fct> & <int> & <fct> & <int>\\\\\n\\hline\n\t1 & YVP 10 & 2017-06-09 & 1 & BG &  1\\\\\n\t2 & YVP 10 & 2017-06-09 & 1 & BV & 80\\\\\n\\end{tabular}\n",
            "text/markdown": "\nA data.frame: 2 × 5\n\n| <!--/--> | plot_code &lt;fct&gt; | date &lt;fct&gt; | subplot &lt;int&gt; | groundcover_type &lt;fct&gt; | groundcover_pct &lt;int&gt; |\n|---|---|---|---|---|---|\n| 1 | YVP 10 | 2017-06-09 | 1 | BG |  1 |\n| 2 | YVP 10 | 2017-06-09 | 1 | BV | 80 |\n\n",
            "text/html": [
              "<table>\n",
              "<caption>A data.frame: 2 × 5</caption>\n",
              "<thead>\n",
              "\t<tr><th></th><th scope=col>plot_code</th><th scope=col>date</th><th scope=col>subplot</th><th scope=col>groundcover_type</th><th scope=col>groundcover_pct</th></tr>\n",
              "\t<tr><th></th><th scope=col>&lt;fct&gt;</th><th scope=col>&lt;fct&gt;</th><th scope=col>&lt;int&gt;</th><th scope=col>&lt;fct&gt;</th><th scope=col>&lt;int&gt;</th></tr>\n",
              "</thead>\n",
              "<tbody>\n",
              "\t<tr><th scope=row>1</th><td>YVP 10</td><td>2017-06-09</td><td>1</td><td>BG</td><td> 1</td></tr>\n",
              "\t<tr><th scope=row>2</th><td>YVP 10</td><td>2017-06-09</td><td>1</td><td>BV</td><td>80</td></tr>\n",
              "</tbody>\n",
              "</table>\n"
            ]
          },
          "metadata": {
            "tags": []
          }
        }
      ]
    },
    {
      "cell_type": "markdown",
      "metadata": {
        "id": "GDjcfb4nmbZC",
        "colab_type": "text"
      },
      "source": [
        "# Wrangle"
      ]
    },
    {
      "cell_type": "markdown",
      "metadata": {
        "id": "dkKWzfnYmvRQ",
        "colab_type": "text"
      },
      "source": [
        "## Convert Data Types"
      ]
    },
    {
      "cell_type": "code",
      "metadata": {
        "id": "0xZaYY5EmZk2",
        "colab_type": "code",
        "colab": {}
      },
      "source": [
        "# convert to string\n",
        "df$plot_code <- as.character(df$plot_code)"
      ],
      "execution_count": 0,
      "outputs": []
    },
    {
      "cell_type": "code",
      "metadata": {
        "id": "E5hYwfMHmtjH",
        "colab_type": "code",
        "colab": {}
      },
      "source": [
        "# convert to date\n",
        "df$date <- as.Date(df$date)"
      ],
      "execution_count": 0,
      "outputs": []
    },
    {
      "cell_type": "markdown",
      "metadata": {
        "id": "DSl4q882qvNG",
        "colab_type": "text"
      },
      "source": [
        "## Review 'groundcover_type' levels"
      ]
    },
    {
      "cell_type": "markdown",
      "metadata": {
        "id": "bmmXQbK1qzR8",
        "colab_type": "text"
      },
      "source": [
        "Make sure that all levels of `groundcover_type` are present in each subplot of the data sheet (this is important for data collection)"
      ]
    },
    {
      "cell_type": "code",
      "metadata": {
        "id": "lzB8jAVOqry-",
        "colab_type": "code",
        "colab": {
          "base_uri": "https://localhost:8080/",
          "height": 204
        },
        "outputId": "0efceb63-5bea-4f58-80b3-2505e65d4465"
      },
      "source": [
        "head(df)"
      ],
      "execution_count": 11,
      "outputs": [
        {
          "output_type": "display_data",
          "data": {
            "text/plain": [
              "  plot_code date       subplot groundcover_type groundcover_pct\n",
              "1 YVP 10    2017-06-09 1       BG                1             \n",
              "2 YVP 10    2017-06-09 1       BV               80             \n",
              "3 YVP 10    2017-06-09 1       L                10             \n",
              "4 YVP 10    2017-06-09 1       WD                0             \n",
              "5 YVP 10    2017-06-09 1       M                 5             \n",
              "6 YVP 10    2017-06-09 1       LIC               4             "
            ],
            "text/latex": "A data.frame: 6 × 5\n\\begin{tabular}{r|lllll}\n  & plot\\_code & date & subplot & groundcover\\_type & groundcover\\_pct\\\\\n  & <chr> & <date> & <int> & <fct> & <int>\\\\\n\\hline\n\t1 & YVP 10 & 2017-06-09 & 1 & BG  &  1\\\\\n\t2 & YVP 10 & 2017-06-09 & 1 & BV  & 80\\\\\n\t3 & YVP 10 & 2017-06-09 & 1 & L   & 10\\\\\n\t4 & YVP 10 & 2017-06-09 & 1 & WD  &  0\\\\\n\t5 & YVP 10 & 2017-06-09 & 1 & M   &  5\\\\\n\t6 & YVP 10 & 2017-06-09 & 1 & LIC &  4\\\\\n\\end{tabular}\n",
            "text/markdown": "\nA data.frame: 6 × 5\n\n| <!--/--> | plot_code &lt;chr&gt; | date &lt;date&gt; | subplot &lt;int&gt; | groundcover_type &lt;fct&gt; | groundcover_pct &lt;int&gt; |\n|---|---|---|---|---|---|\n| 1 | YVP 10 | 2017-06-09 | 1 | BG  |  1 |\n| 2 | YVP 10 | 2017-06-09 | 1 | BV  | 80 |\n| 3 | YVP 10 | 2017-06-09 | 1 | L   | 10 |\n| 4 | YVP 10 | 2017-06-09 | 1 | WD  |  0 |\n| 5 | YVP 10 | 2017-06-09 | 1 | M   |  5 |\n| 6 | YVP 10 | 2017-06-09 | 1 | LIC |  4 |\n\n",
            "text/html": [
              "<table>\n",
              "<caption>A data.frame: 6 × 5</caption>\n",
              "<thead>\n",
              "\t<tr><th></th><th scope=col>plot_code</th><th scope=col>date</th><th scope=col>subplot</th><th scope=col>groundcover_type</th><th scope=col>groundcover_pct</th></tr>\n",
              "\t<tr><th></th><th scope=col>&lt;chr&gt;</th><th scope=col>&lt;date&gt;</th><th scope=col>&lt;int&gt;</th><th scope=col>&lt;fct&gt;</th><th scope=col>&lt;int&gt;</th></tr>\n",
              "</thead>\n",
              "<tbody>\n",
              "\t<tr><th scope=row>1</th><td>YVP 10</td><td>2017-06-09</td><td>1</td><td>BG </td><td> 1</td></tr>\n",
              "\t<tr><th scope=row>2</th><td>YVP 10</td><td>2017-06-09</td><td>1</td><td>BV </td><td>80</td></tr>\n",
              "\t<tr><th scope=row>3</th><td>YVP 10</td><td>2017-06-09</td><td>1</td><td>L  </td><td>10</td></tr>\n",
              "\t<tr><th scope=row>4</th><td>YVP 10</td><td>2017-06-09</td><td>1</td><td>WD </td><td> 0</td></tr>\n",
              "\t<tr><th scope=row>5</th><td>YVP 10</td><td>2017-06-09</td><td>1</td><td>M  </td><td> 5</td></tr>\n",
              "\t<tr><th scope=row>6</th><td>YVP 10</td><td>2017-06-09</td><td>1</td><td>LIC</td><td> 4</td></tr>\n",
              "</tbody>\n",
              "</table>\n"
            ]
          },
          "metadata": {
            "tags": []
          }
        }
      ]
    },
    {
      "cell_type": "code",
      "metadata": {
        "id": "ZUr8awGkrFCv",
        "colab_type": "code",
        "colab": {
          "base_uri": "https://localhost:8080/",
          "height": 246
        },
        "outputId": "3fb2538f-7d2e-4f9e-89b7-e0c28be0f366"
      },
      "source": [
        "# display distinct 'groundcover_type' for reference\n",
        "df %>%\n",
        "  distinct(groundcover_type) %>%\n",
        "  arrange(groundcover_type)"
      ],
      "execution_count": 14,
      "outputs": [
        {
          "output_type": "display_data",
          "data": {
            "text/plain": [
              "  groundcover_type\n",
              "1 BG              \n",
              "2 BV              \n",
              "3 G               \n",
              "4 L               \n",
              "5 LIC             \n",
              "6 M               \n",
              "7 R               \n",
              "8 WD              "
            ],
            "text/latex": "A data.frame: 8 × 1\n\\begin{tabular}{l}\n groundcover\\_type\\\\\n <fct>\\\\\n\\hline\n\t BG \\\\\n\t BV \\\\\n\t G  \\\\\n\t L  \\\\\n\t LIC\\\\\n\t M  \\\\\n\t R  \\\\\n\t WD \\\\\n\\end{tabular}\n",
            "text/markdown": "\nA data.frame: 8 × 1\n\n| groundcover_type &lt;fct&gt; |\n|---|\n| BG  |\n| BV  |\n| G   |\n| L   |\n| LIC |\n| M   |\n| R   |\n| WD  |\n\n",
            "text/html": [
              "<table>\n",
              "<caption>A data.frame: 8 × 1</caption>\n",
              "<thead>\n",
              "\t<tr><th scope=col>groundcover_type</th></tr>\n",
              "\t<tr><th scope=col>&lt;fct&gt;</th></tr>\n",
              "</thead>\n",
              "<tbody>\n",
              "\t<tr><td>BG </td></tr>\n",
              "\t<tr><td>BV </td></tr>\n",
              "\t<tr><td>G  </td></tr>\n",
              "\t<tr><td>L  </td></tr>\n",
              "\t<tr><td>LIC</td></tr>\n",
              "\t<tr><td>M  </td></tr>\n",
              "\t<tr><td>R  </td></tr>\n",
              "\t<tr><td>WD </td></tr>\n",
              "</tbody>\n",
              "</table>\n"
            ]
          },
          "metadata": {
            "tags": []
          }
        }
      ]
    },
    {
      "cell_type": "code",
      "metadata": {
        "id": "YDQ9WxDhsEwO",
        "colab_type": "code",
        "colab": {}
      },
      "source": [
        "groundcover_counts <- df %>%\n",
        "  group_by(year = as.numeric(substring(date,0,4)), plot_code, subplot) %>%\n",
        "  arrange(year, plot_code, subplot, groundcover_type) %>%\n",
        "  summarize(groundcover_type_counted = n())"
      ],
      "execution_count": 0,
      "outputs": []
    },
    {
      "cell_type": "code",
      "metadata": {
        "id": "RVdl-1_isOjm",
        "colab_type": "code",
        "colab": {
          "base_uri": "https://localhost:8080/",
          "height": 204
        },
        "outputId": "f1e79487-14fa-4533-8ceb-6bd3bb54f88d"
      },
      "source": [
        "head(groundcover_counts)"
      ],
      "execution_count": 34,
      "outputs": [
        {
          "output_type": "display_data",
          "data": {
            "text/plain": [
              "  year plot_code subplot groundcover_type_counted\n",
              "1 2017 YVP 10    1       8                       \n",
              "2 2017 YVP 10    2       8                       \n",
              "3 2017 YVP 10    3       8                       \n",
              "4 2017 YVP 10    4       8                       \n",
              "5 2017 YVP 10    5       8                       \n",
              "6 2017 YVP 10    6       8                       "
            ],
            "text/latex": "A grouped\\_df: 6 × 4\n\\begin{tabular}{llll}\n year & plot\\_code & subplot & groundcover\\_type\\_counted\\\\\n <dbl> & <chr> & <int> & <int>\\\\\n\\hline\n\t 2017 & YVP 10 & 1 & 8\\\\\n\t 2017 & YVP 10 & 2 & 8\\\\\n\t 2017 & YVP 10 & 3 & 8\\\\\n\t 2017 & YVP 10 & 4 & 8\\\\\n\t 2017 & YVP 10 & 5 & 8\\\\\n\t 2017 & YVP 10 & 6 & 8\\\\\n\\end{tabular}\n",
            "text/markdown": "\nA grouped_df: 6 × 4\n\n| year &lt;dbl&gt; | plot_code &lt;chr&gt; | subplot &lt;int&gt; | groundcover_type_counted &lt;int&gt; |\n|---|---|---|---|\n| 2017 | YVP 10 | 1 | 8 |\n| 2017 | YVP 10 | 2 | 8 |\n| 2017 | YVP 10 | 3 | 8 |\n| 2017 | YVP 10 | 4 | 8 |\n| 2017 | YVP 10 | 5 | 8 |\n| 2017 | YVP 10 | 6 | 8 |\n\n",
            "text/html": [
              "<table>\n",
              "<caption>A grouped_df: 6 × 4</caption>\n",
              "<thead>\n",
              "\t<tr><th scope=col>year</th><th scope=col>plot_code</th><th scope=col>subplot</th><th scope=col>groundcover_type_counted</th></tr>\n",
              "\t<tr><th scope=col>&lt;dbl&gt;</th><th scope=col>&lt;chr&gt;</th><th scope=col>&lt;int&gt;</th><th scope=col>&lt;int&gt;</th></tr>\n",
              "</thead>\n",
              "<tbody>\n",
              "\t<tr><td>2017</td><td>YVP 10</td><td>1</td><td>8</td></tr>\n",
              "\t<tr><td>2017</td><td>YVP 10</td><td>2</td><td>8</td></tr>\n",
              "\t<tr><td>2017</td><td>YVP 10</td><td>3</td><td>8</td></tr>\n",
              "\t<tr><td>2017</td><td>YVP 10</td><td>4</td><td>8</td></tr>\n",
              "\t<tr><td>2017</td><td>YVP 10</td><td>5</td><td>8</td></tr>\n",
              "\t<tr><td>2017</td><td>YVP 10</td><td>6</td><td>8</td></tr>\n",
              "</tbody>\n",
              "</table>\n"
            ]
          },
          "metadata": {
            "tags": []
          }
        }
      ]
    },
    {
      "cell_type": "code",
      "metadata": {
        "id": "rqFVfB8atzCZ",
        "colab_type": "code",
        "colab": {
          "base_uri": "https://localhost:8080/",
          "height": 34
        },
        "outputId": "d4ce84f1-4db1-4e24-c121-aa9958f5f799"
      },
      "source": [
        "unique(groundcover_counts$groundcover_type_counted)"
      ],
      "execution_count": 37,
      "outputs": [
        {
          "output_type": "display_data",
          "data": {
            "text/plain": [
              "[1] 8 7 9"
            ],
            "text/latex": "\\begin{enumerate*}\n\\item 8\n\\item 7\n\\item 9\n\\end{enumerate*}\n",
            "text/markdown": "1. 8\n2. 7\n3. 9\n\n\n",
            "text/html": [
              "<style>\n",
              ".list-inline {list-style: none; margin:0; padding: 0}\n",
              ".list-inline>li {display: inline-block}\n",
              ".list-inline>li:not(:last-child)::after {content: \"\\00b7\"; padding: 0 .5ex}\n",
              "</style>\n",
              "<ol class=list-inline><li>8</li><li>7</li><li>9</li></ol>\n"
            ]
          },
          "metadata": {
            "tags": []
          }
        }
      ]
    },
    {
      "cell_type": "code",
      "metadata": {
        "id": "rqMlU4AfuKfB",
        "colab_type": "code",
        "colab": {
          "base_uri": "https://localhost:8080/",
          "height": 225
        },
        "outputId": "8fe4ba8f-f487-4084-a96a-149edc9bc740"
      },
      "source": [
        "groundcover_counts %>%\n",
        "  filter(groundcover_type_counted != 8) %>%\n",
        "  arrange(groundcover_type_counted, year)"
      ],
      "execution_count": 45,
      "outputs": [
        {
          "output_type": "display_data",
          "data": {
            "text/plain": [
              "  year plot_code subplot groundcover_type_counted\n",
              "1 2017 YVP 355   1       7                       \n",
              "2 2017 YVP 481   1       7                       \n",
              "3 2018 YVP N278  5       7                       \n",
              "4 2018 YVP N57   8       7                       \n",
              "5 2019 YVP 481   1       7                       \n",
              "6 2018 YVP N278  6       9                       \n",
              "7 2018 YVP N57   2       9                       "
            ],
            "text/latex": "A grouped\\_df: 7 × 4\n\\begin{tabular}{llll}\n year & plot\\_code & subplot & groundcover\\_type\\_counted\\\\\n <dbl> & <chr> & <int> & <int>\\\\\n\\hline\n\t 2017 & YVP 355  & 1 & 7\\\\\n\t 2017 & YVP 481  & 1 & 7\\\\\n\t 2018 & YVP N278 & 5 & 7\\\\\n\t 2018 & YVP N57  & 8 & 7\\\\\n\t 2019 & YVP 481  & 1 & 7\\\\\n\t 2018 & YVP N278 & 6 & 9\\\\\n\t 2018 & YVP N57  & 2 & 9\\\\\n\\end{tabular}\n",
            "text/markdown": "\nA grouped_df: 7 × 4\n\n| year &lt;dbl&gt; | plot_code &lt;chr&gt; | subplot &lt;int&gt; | groundcover_type_counted &lt;int&gt; |\n|---|---|---|---|\n| 2017 | YVP 355  | 1 | 7 |\n| 2017 | YVP 481  | 1 | 7 |\n| 2018 | YVP N278 | 5 | 7 |\n| 2018 | YVP N57  | 8 | 7 |\n| 2019 | YVP 481  | 1 | 7 |\n| 2018 | YVP N278 | 6 | 9 |\n| 2018 | YVP N57  | 2 | 9 |\n\n",
            "text/html": [
              "<table>\n",
              "<caption>A grouped_df: 7 × 4</caption>\n",
              "<thead>\n",
              "\t<tr><th scope=col>year</th><th scope=col>plot_code</th><th scope=col>subplot</th><th scope=col>groundcover_type_counted</th></tr>\n",
              "\t<tr><th scope=col>&lt;dbl&gt;</th><th scope=col>&lt;chr&gt;</th><th scope=col>&lt;int&gt;</th><th scope=col>&lt;int&gt;</th></tr>\n",
              "</thead>\n",
              "<tbody>\n",
              "\t<tr><td>2017</td><td>YVP 355 </td><td>1</td><td>7</td></tr>\n",
              "\t<tr><td>2017</td><td>YVP 481 </td><td>1</td><td>7</td></tr>\n",
              "\t<tr><td>2018</td><td>YVP N278</td><td>5</td><td>7</td></tr>\n",
              "\t<tr><td>2018</td><td>YVP N57 </td><td>8</td><td>7</td></tr>\n",
              "\t<tr><td>2019</td><td>YVP 481 </td><td>1</td><td>7</td></tr>\n",
              "\t<tr><td>2018</td><td>YVP N278</td><td>6</td><td>9</td></tr>\n",
              "\t<tr><td>2018</td><td>YVP N57 </td><td>2</td><td>9</td></tr>\n",
              "</tbody>\n",
              "</table>\n"
            ]
          },
          "metadata": {
            "tags": []
          }
        }
      ]
    },
    {
      "cell_type": "code",
      "metadata": {
        "id": "fxKbjaMqul4l",
        "colab_type": "code",
        "colab": {
          "base_uri": "https://localhost:8080/",
          "height": 225
        },
        "outputId": "9a2cc79c-5a82-4532-d9bb-764312c1688c"
      },
      "source": [
        "# example of short one 'ground_cover' type\n",
        "df %>%\n",
        "  filter(as.numeric(substring(date,0,4)) == 2017,\n",
        "          plot_code == 'YVP 355',\n",
        "          subplot == 1)"
      ],
      "execution_count": 42,
      "outputs": [
        {
          "output_type": "display_data",
          "data": {
            "text/plain": [
              "  plot_code date       subplot groundcover_type groundcover_pct\n",
              "1 YVP 355   2017-06-02 1       BV               75             \n",
              "2 YVP 355   2017-06-02 1       L                10             \n",
              "3 YVP 355   2017-06-02 1       WD                0             \n",
              "4 YVP 355   2017-06-02 1       M                 5             \n",
              "5 YVP 355   2017-06-02 1       LIC              10             \n",
              "6 YVP 355   2017-06-02 1       G                 1             \n",
              "7 YVP 355   2017-06-02 1       R                 0             "
            ],
            "text/latex": "A data.frame: 7 × 5\n\\begin{tabular}{lllll}\n plot\\_code & date & subplot & groundcover\\_type & groundcover\\_pct\\\\\n <chr> & <date> & <int> & <fct> & <int>\\\\\n\\hline\n\t YVP 355 & 2017-06-02 & 1 & BV  & 75\\\\\n\t YVP 355 & 2017-06-02 & 1 & L   & 10\\\\\n\t YVP 355 & 2017-06-02 & 1 & WD  &  0\\\\\n\t YVP 355 & 2017-06-02 & 1 & M   &  5\\\\\n\t YVP 355 & 2017-06-02 & 1 & LIC & 10\\\\\n\t YVP 355 & 2017-06-02 & 1 & G   &  1\\\\\n\t YVP 355 & 2017-06-02 & 1 & R   &  0\\\\\n\\end{tabular}\n",
            "text/markdown": "\nA data.frame: 7 × 5\n\n| plot_code &lt;chr&gt; | date &lt;date&gt; | subplot &lt;int&gt; | groundcover_type &lt;fct&gt; | groundcover_pct &lt;int&gt; |\n|---|---|---|---|---|\n| YVP 355 | 2017-06-02 | 1 | BV  | 75 |\n| YVP 355 | 2017-06-02 | 1 | L   | 10 |\n| YVP 355 | 2017-06-02 | 1 | WD  |  0 |\n| YVP 355 | 2017-06-02 | 1 | M   |  5 |\n| YVP 355 | 2017-06-02 | 1 | LIC | 10 |\n| YVP 355 | 2017-06-02 | 1 | G   |  1 |\n| YVP 355 | 2017-06-02 | 1 | R   |  0 |\n\n",
            "text/html": [
              "<table>\n",
              "<caption>A data.frame: 7 × 5</caption>\n",
              "<thead>\n",
              "\t<tr><th scope=col>plot_code</th><th scope=col>date</th><th scope=col>subplot</th><th scope=col>groundcover_type</th><th scope=col>groundcover_pct</th></tr>\n",
              "\t<tr><th scope=col>&lt;chr&gt;</th><th scope=col>&lt;date&gt;</th><th scope=col>&lt;int&gt;</th><th scope=col>&lt;fct&gt;</th><th scope=col>&lt;int&gt;</th></tr>\n",
              "</thead>\n",
              "<tbody>\n",
              "\t<tr><td>YVP 355</td><td>2017-06-02</td><td>1</td><td>BV </td><td>75</td></tr>\n",
              "\t<tr><td>YVP 355</td><td>2017-06-02</td><td>1</td><td>L  </td><td>10</td></tr>\n",
              "\t<tr><td>YVP 355</td><td>2017-06-02</td><td>1</td><td>WD </td><td> 0</td></tr>\n",
              "\t<tr><td>YVP 355</td><td>2017-06-02</td><td>1</td><td>M  </td><td> 5</td></tr>\n",
              "\t<tr><td>YVP 355</td><td>2017-06-02</td><td>1</td><td>LIC</td><td>10</td></tr>\n",
              "\t<tr><td>YVP 355</td><td>2017-06-02</td><td>1</td><td>G  </td><td> 1</td></tr>\n",
              "\t<tr><td>YVP 355</td><td>2017-06-02</td><td>1</td><td>R  </td><td> 0</td></tr>\n",
              "</tbody>\n",
              "</table>\n"
            ]
          },
          "metadata": {
            "tags": []
          }
        }
      ]
    },
    {
      "cell_type": "code",
      "metadata": {
        "id": "qEh6g4FQvCxW",
        "colab_type": "code",
        "colab": {
          "base_uri": "https://localhost:8080/",
          "height": 267
        },
        "outputId": "f50a3752-de32-4a6e-b53e-c740318ee5f0"
      },
      "source": [
        "# example of one extra 'groundcover_type'\n",
        "df %>%\n",
        "  filter(as.numeric(substring(date,0,4)) == 2018,\n",
        "          plot_code == 'YVP N278',\n",
        "          subplot == 6) %>%\n",
        "  arrange(groundcover_type)"
      ],
      "execution_count": 47,
      "outputs": [
        {
          "output_type": "display_data",
          "data": {
            "text/plain": [
              "  plot_code date       subplot groundcover_type groundcover_pct\n",
              "1 YVP N278  2018-05-28 6       BG                1             \n",
              "2 YVP N278  2018-05-28 6       BV               20             \n",
              "3 YVP N278  2018-05-28 6       G                 4             \n",
              "4 YVP N278  2018-05-28 6       L                25             \n",
              "5 YVP N278  2018-05-28 6       LIC              10             \n",
              "6 YVP N278  2018-05-28 6       M                15             \n",
              "7 YVP N278  2018-05-28 6       M                40             \n",
              "8 YVP N278  2018-05-28 6       R                 0             \n",
              "9 YVP N278  2018-05-28 6       WD                0             "
            ],
            "text/latex": "A data.frame: 9 × 5\n\\begin{tabular}{lllll}\n plot\\_code & date & subplot & groundcover\\_type & groundcover\\_pct\\\\\n <chr> & <date> & <int> & <fct> & <int>\\\\\n\\hline\n\t YVP N278 & 2018-05-28 & 6 & BG  &  1\\\\\n\t YVP N278 & 2018-05-28 & 6 & BV  & 20\\\\\n\t YVP N278 & 2018-05-28 & 6 & G   &  4\\\\\n\t YVP N278 & 2018-05-28 & 6 & L   & 25\\\\\n\t YVP N278 & 2018-05-28 & 6 & LIC & 10\\\\\n\t YVP N278 & 2018-05-28 & 6 & M   & 15\\\\\n\t YVP N278 & 2018-05-28 & 6 & M   & 40\\\\\n\t YVP N278 & 2018-05-28 & 6 & R   &  0\\\\\n\t YVP N278 & 2018-05-28 & 6 & WD  &  0\\\\\n\\end{tabular}\n",
            "text/markdown": "\nA data.frame: 9 × 5\n\n| plot_code &lt;chr&gt; | date &lt;date&gt; | subplot &lt;int&gt; | groundcover_type &lt;fct&gt; | groundcover_pct &lt;int&gt; |\n|---|---|---|---|---|\n| YVP N278 | 2018-05-28 | 6 | BG  |  1 |\n| YVP N278 | 2018-05-28 | 6 | BV  | 20 |\n| YVP N278 | 2018-05-28 | 6 | G   |  4 |\n| YVP N278 | 2018-05-28 | 6 | L   | 25 |\n| YVP N278 | 2018-05-28 | 6 | LIC | 10 |\n| YVP N278 | 2018-05-28 | 6 | M   | 15 |\n| YVP N278 | 2018-05-28 | 6 | M   | 40 |\n| YVP N278 | 2018-05-28 | 6 | R   |  0 |\n| YVP N278 | 2018-05-28 | 6 | WD  |  0 |\n\n",
            "text/html": [
              "<table>\n",
              "<caption>A data.frame: 9 × 5</caption>\n",
              "<thead>\n",
              "\t<tr><th scope=col>plot_code</th><th scope=col>date</th><th scope=col>subplot</th><th scope=col>groundcover_type</th><th scope=col>groundcover_pct</th></tr>\n",
              "\t<tr><th scope=col>&lt;chr&gt;</th><th scope=col>&lt;date&gt;</th><th scope=col>&lt;int&gt;</th><th scope=col>&lt;fct&gt;</th><th scope=col>&lt;int&gt;</th></tr>\n",
              "</thead>\n",
              "<tbody>\n",
              "\t<tr><td>YVP N278</td><td>2018-05-28</td><td>6</td><td>BG </td><td> 1</td></tr>\n",
              "\t<tr><td>YVP N278</td><td>2018-05-28</td><td>6</td><td>BV </td><td>20</td></tr>\n",
              "\t<tr><td>YVP N278</td><td>2018-05-28</td><td>6</td><td>G  </td><td> 4</td></tr>\n",
              "\t<tr><td>YVP N278</td><td>2018-05-28</td><td>6</td><td>L  </td><td>25</td></tr>\n",
              "\t<tr><td>YVP N278</td><td>2018-05-28</td><td>6</td><td>LIC</td><td>10</td></tr>\n",
              "\t<tr><td>YVP N278</td><td>2018-05-28</td><td>6</td><td>M  </td><td>15</td></tr>\n",
              "\t<tr><td>YVP N278</td><td>2018-05-28</td><td>6</td><td>M  </td><td>40</td></tr>\n",
              "\t<tr><td>YVP N278</td><td>2018-05-28</td><td>6</td><td>R  </td><td> 0</td></tr>\n",
              "\t<tr><td>YVP N278</td><td>2018-05-28</td><td>6</td><td>WD </td><td> 0</td></tr>\n",
              "</tbody>\n",
              "</table>\n"
            ]
          },
          "metadata": {
            "tags": []
          }
        }
      ]
    }
  ]
}