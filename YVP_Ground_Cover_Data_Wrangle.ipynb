{
  "nbformat": 4,
  "nbformat_minor": 0,
  "metadata": {
    "colab": {
      "name": "YVP - Ground Cover Data - Wrangle.ipynb",
      "provenance": [],
      "collapsed_sections": [],
      "toc_visible": true,
      "include_colab_link": true
    },
    "kernelspec": {
      "name": "ir",
      "display_name": "R"
    }
  },
  "cells": [
    {
      "cell_type": "markdown",
      "metadata": {
        "id": "view-in-github",
        "colab_type": "text"
      },
      "source": [
        "<a href=\"https://colab.research.google.com/github/samsoe/mpg_notebooks/blob/master/YVP_Ground_Cover_Data_Wrangle.ipynb\" target=\"_parent\"><img src=\"https://colab.research.google.com/assets/colab-badge.svg\" alt=\"Open In Colab\"/></a>"
      ]
    },
    {
      "cell_type": "markdown",
      "metadata": {
        "id": "grC8Ddy3ldae"
      },
      "source": [
        "*R Notebook*"
      ]
    },
    {
      "cell_type": "markdown",
      "metadata": {
        "id": "7T3HmftDlixE"
      },
      "source": [
        "# README"
      ]
    },
    {
      "cell_type": "markdown",
      "metadata": {
        "id": "OXXTPRr6llWt"
      },
      "source": [
        "* Readme fixed plot vegetation data - [Ground Cover Data](https://docs.google.com/document/d/16-Aq8u9Rudd78fSzfjvpCXyQgE-BstC-d2PjYfmLtcw/edit#heading=h.a2v9q2quarai)"
      ]
    },
    {
      "cell_type": "markdown",
      "metadata": {
        "id": "bHYYw4xEmAqY"
      },
      "source": [
        "# Load Tools"
      ]
    },
    {
      "cell_type": "code",
      "metadata": {
        "id": "GWJnfQK8mCfS",
        "outputId": "672a426c-9791-44ab-fdfe-ec9cd5fbd60e",
        "colab": {
          "base_uri": "https://localhost:8080/"
        }
      },
      "source": [
        "library(tidyverse)"
      ],
      "execution_count": 1,
      "outputs": [
        {
          "output_type": "stream",
          "text": [
            "── \u001b[1mAttaching packages\u001b[22m ─────────────────────────────────────── tidyverse 1.3.0 ──\n",
            "\n",
            "\u001b[32m✔\u001b[39m \u001b[34mggplot2\u001b[39m 3.3.2     \u001b[32m✔\u001b[39m \u001b[34mpurrr  \u001b[39m 0.3.4\n",
            "\u001b[32m✔\u001b[39m \u001b[34mtibble \u001b[39m 3.0.4     \u001b[32m✔\u001b[39m \u001b[34mdplyr  \u001b[39m 1.0.2\n",
            "\u001b[32m✔\u001b[39m \u001b[34mtidyr  \u001b[39m 1.1.2     \u001b[32m✔\u001b[39m \u001b[34mstringr\u001b[39m 1.4.0\n",
            "\u001b[32m✔\u001b[39m \u001b[34mreadr  \u001b[39m 1.4.0     \u001b[32m✔\u001b[39m \u001b[34mforcats\u001b[39m 0.5.0\n",
            "\n",
            "── \u001b[1mConflicts\u001b[22m ────────────────────────────────────────── tidyverse_conflicts() ──\n",
            "\u001b[31m✖\u001b[39m \u001b[34mdplyr\u001b[39m::\u001b[32mfilter()\u001b[39m masks \u001b[34mstats\u001b[39m::filter()\n",
            "\u001b[31m✖\u001b[39m \u001b[34mdplyr\u001b[39m::\u001b[32mlag()\u001b[39m    masks \u001b[34mstats\u001b[39m::lag()\n",
            "\n"
          ],
          "name": "stderr"
        }
      ]
    },
    {
      "cell_type": "markdown",
      "metadata": {
        "id": "RKBdNw56BzwD"
      },
      "source": [
        "# Source"
      ]
    },
    {
      "cell_type": "code",
      "metadata": {
        "id": "IWECZhebmKdk"
      },
      "source": [
        "# '2020-04-28_yvp_ground_cover.csv'\n",
        "src = 'https://drive.google.com/uc?id=1JXlFaVP1UxuKmnHju8r6T-8ssrPYO9dV'"
      ],
      "execution_count": null,
      "outputs": []
    },
    {
      "cell_type": "code",
      "metadata": {
        "id": "2M7BaocmmMTu"
      },
      "source": [
        "df <- read.csv(file = src)"
      ],
      "execution_count": null,
      "outputs": []
    },
    {
      "cell_type": "code",
      "metadata": {
        "id": "7aHyJ4cYmYi2",
        "outputId": "a5431b27-7e55-4a66-f858-765df76e4f94",
        "colab": {
          "base_uri": "https://localhost:8080/",
          "height": 120
        }
      },
      "source": [
        "head(df, n=2)"
      ],
      "execution_count": null,
      "outputs": [
        {
          "output_type": "display_data",
          "data": {
            "text/plain": [
              "  plot_code date       subplot groundcover_type groundcover_pct\n",
              "1 YVP 10    2017-06-09 1       BG                1             \n",
              "2 YVP 10    2017-06-09 1       BV               80             "
            ],
            "text/latex": "A data.frame: 2 × 5\n\\begin{tabular}{r|lllll}\n  & plot\\_code & date & subplot & groundcover\\_type & groundcover\\_pct\\\\\n  & <fct> & <fct> & <int> & <fct> & <int>\\\\\n\\hline\n\t1 & YVP 10 & 2017-06-09 & 1 & BG &  1\\\\\n\t2 & YVP 10 & 2017-06-09 & 1 & BV & 80\\\\\n\\end{tabular}\n",
            "text/markdown": "\nA data.frame: 2 × 5\n\n| <!--/--> | plot_code &lt;fct&gt; | date &lt;fct&gt; | subplot &lt;int&gt; | groundcover_type &lt;fct&gt; | groundcover_pct &lt;int&gt; |\n|---|---|---|---|---|---|\n| 1 | YVP 10 | 2017-06-09 | 1 | BG |  1 |\n| 2 | YVP 10 | 2017-06-09 | 1 | BV | 80 |\n\n",
            "text/html": [
              "<table>\n",
              "<caption>A data.frame: 2 × 5</caption>\n",
              "<thead>\n",
              "\t<tr><th></th><th scope=col>plot_code</th><th scope=col>date</th><th scope=col>subplot</th><th scope=col>groundcover_type</th><th scope=col>groundcover_pct</th></tr>\n",
              "\t<tr><th></th><th scope=col>&lt;fct&gt;</th><th scope=col>&lt;fct&gt;</th><th scope=col>&lt;int&gt;</th><th scope=col>&lt;fct&gt;</th><th scope=col>&lt;int&gt;</th></tr>\n",
              "</thead>\n",
              "<tbody>\n",
              "\t<tr><th scope=row>1</th><td>YVP 10</td><td>2017-06-09</td><td>1</td><td>BG</td><td> 1</td></tr>\n",
              "\t<tr><th scope=row>2</th><td>YVP 10</td><td>2017-06-09</td><td>1</td><td>BV</td><td>80</td></tr>\n",
              "</tbody>\n",
              "</table>\n"
            ]
          },
          "metadata": {
            "tags": []
          }
        }
      ]
    },
    {
      "cell_type": "markdown",
      "metadata": {
        "id": "GDjcfb4nmbZC"
      },
      "source": [
        "# Wrangle"
      ]
    },
    {
      "cell_type": "markdown",
      "metadata": {
        "id": "dkKWzfnYmvRQ"
      },
      "source": [
        "## Structure Columns"
      ]
    },
    {
      "cell_type": "markdown",
      "metadata": {
        "id": "cnZKobd5zkO1"
      },
      "source": [
        "### plot_code"
      ]
    },
    {
      "cell_type": "code",
      "metadata": {
        "id": "0xZaYY5EmZk2"
      },
      "source": [
        "# convert to string\n",
        "df$plot_code <- as.character(df$plot_code)"
      ],
      "execution_count": null,
      "outputs": []
    },
    {
      "cell_type": "markdown",
      "metadata": {
        "id": "URHj0b3qzrfY"
      },
      "source": [
        "### plot_loc"
      ]
    },
    {
      "cell_type": "code",
      "metadata": {
        "id": "xMRoS1PNzui9"
      },
      "source": [
        "# detect \"N\" in 'plot_code' and write to new column 'plot_loc'\n",
        "df <- df %>%\n",
        "  mutate(plot_loc = ifelse(str_detect(plot_code, \"N\"), \"N\", NA))"
      ],
      "execution_count": null,
      "outputs": []
    },
    {
      "cell_type": "code",
      "metadata": {
        "id": "v_MeQR3szxIY"
      },
      "source": [
        "# reorder columns\n",
        "df <- df[, c(1,6,2,3,4,5)]"
      ],
      "execution_count": null,
      "outputs": []
    },
    {
      "cell_type": "markdown",
      "metadata": {
        "id": "s5oH3jj00fI-"
      },
      "source": [
        "### plot_rep"
      ]
    },
    {
      "cell_type": "code",
      "metadata": {
        "id": "cRIU7xC0zxCE"
      },
      "source": [
        "# detect \"A\", \"B\", \"C\" characters in plot_code and if present write to 'plot_rep'\n",
        "df <- df %>%\n",
        "  mutate(plot_rep = case_when(str_detect(plot_code, \"A\")~\"A\",\n",
        "                              str_detect(plot_code, \"B\")~\"B\",\n",
        "                              str_detect(plot_code, \"C\")~\"C\"))"
      ],
      "execution_count": null,
      "outputs": []
    },
    {
      "cell_type": "code",
      "metadata": {
        "id": "30GRRwr41Yzy"
      },
      "source": [
        "# reorder columns\n",
        "df <- df[,c(1,2,7,3,4,5,6)]"
      ],
      "execution_count": null,
      "outputs": []
    },
    {
      "cell_type": "markdown",
      "metadata": {
        "id": "taGZwVa32M6H"
      },
      "source": [
        "### plot_num"
      ]
    },
    {
      "cell_type": "code",
      "metadata": {
        "id": "w6kxIl9i1Yw7"
      },
      "source": [
        "# use digital values from 'plot_code' and to populate 'plot_num'\n",
        "df <- df %>%\n",
        "  mutate(plot_num = str_extract(plot_code, \"[:digit:].*\"),\n",
        "         plot_num = as.integer(plot_num))"
      ],
      "execution_count": null,
      "outputs": []
    },
    {
      "cell_type": "code",
      "metadata": {
        "id": "HwTQh_jq2Pz0"
      },
      "source": [
        "# reorder columns\n",
        "df <- df[,c(1,2,3,8,4,5,6,7)]"
      ],
      "execution_count": null,
      "outputs": []
    },
    {
      "cell_type": "markdown",
      "metadata": {
        "id": "WFY5t7dUzyJW"
      },
      "source": [
        "### date"
      ]
    },
    {
      "cell_type": "code",
      "metadata": {
        "id": "E5hYwfMHmtjH"
      },
      "source": [
        "# convert to date\n",
        "df$date <- as.Date(df$date)"
      ],
      "execution_count": null,
      "outputs": []
    },
    {
      "cell_type": "markdown",
      "metadata": {
        "id": "R91aHzc_2bzf"
      },
      "source": [
        "### subplot"
      ]
    },
    {
      "cell_type": "code",
      "metadata": {
        "id": "IdYj2GWz2bn0",
        "outputId": "e01d015d-2c11-4bcf-8daf-693a2b3ef632",
        "colab": {
          "base_uri": "https://localhost:8080/",
          "height": 34
        }
      },
      "source": [
        "typeof(df$subplot)"
      ],
      "execution_count": null,
      "outputs": [
        {
          "output_type": "display_data",
          "data": {
            "text/plain": [
              "[1] \"integer\""
            ],
            "text/latex": "'integer'",
            "text/markdown": "'integer'",
            "text/html": [
              "'integer'"
            ]
          },
          "metadata": {
            "tags": []
          }
        }
      ]
    },
    {
      "cell_type": "markdown",
      "metadata": {
        "id": "oGl3u_4z2tVZ"
      },
      "source": [
        "### groundcover_type"
      ]
    },
    {
      "cell_type": "code",
      "metadata": {
        "id": "WYNDY72c2soE"
      },
      "source": [
        "# convert to string\n",
        "df$groundcover_type <- as.character(df$groundcover_type)"
      ],
      "execution_count": null,
      "outputs": []
    },
    {
      "cell_type": "markdown",
      "metadata": {
        "id": "A3sTr4Sl3Cur"
      },
      "source": [
        "### groundcover_pct"
      ]
    },
    {
      "cell_type": "code",
      "metadata": {
        "id": "509hIDtl2blP",
        "outputId": "f5e1bbd8-8a1c-4227-915d-b76de3d20ed0",
        "colab": {
          "base_uri": "https://localhost:8080/",
          "height": 34
        }
      },
      "source": [
        "typeof(df$groundcover_pct)"
      ],
      "execution_count": null,
      "outputs": [
        {
          "output_type": "display_data",
          "data": {
            "text/plain": [
              "[1] \"integer\""
            ],
            "text/latex": "'integer'",
            "text/markdown": "'integer'",
            "text/html": [
              "'integer'"
            ]
          },
          "metadata": {
            "tags": []
          }
        }
      ]
    },
    {
      "cell_type": "code",
      "metadata": {
        "id": "B8o2cf2S9fFR",
        "outputId": "2256dc94-001a-4fea-b8c5-43d577fd9e03",
        "colab": {
          "base_uri": "https://localhost:8080/",
          "height": 170
        }
      },
      "source": [
        "str(df)"
      ],
      "execution_count": null,
      "outputs": [
        {
          "output_type": "stream",
          "text": [
            "'data.frame':\t13917 obs. of  8 variables:\n",
            " $ plot_code       : chr  \"YVP 10\" \"YVP 10\" \"YVP 10\" \"YVP 10\" ...\n",
            " $ plot_loc        : chr  NA NA NA NA ...\n",
            " $ plot_rep        : chr  NA NA NA NA ...\n",
            " $ plot_num        : int  10 10 10 10 10 10 10 10 10 10 ...\n",
            " $ date            : Date, format: \"2017-06-09\" \"2017-06-09\" ...\n",
            " $ subplot         : int  1 1 1 1 1 1 1 1 2 2 ...\n",
            " $ groundcover_type: chr  \"BG\" \"BV\" \"L\" \"WD\" ...\n",
            " $ groundcover_pct : int  1 80 10 0 5 4 1 0 2 70 ...\n"
          ],
          "name": "stdout"
        }
      ]
    },
    {
      "cell_type": "markdown",
      "metadata": {
        "id": "DSl4q882qvNG"
      },
      "source": [
        "## Review 'groundcover_type' levels"
      ]
    },
    {
      "cell_type": "markdown",
      "metadata": {
        "id": "bmmXQbK1qzR8"
      },
      "source": [
        "Make sure that all levels of `groundcover_type` are present in each subplot of the data sheet (this is important for data collection)"
      ]
    },
    {
      "cell_type": "code",
      "metadata": {
        "id": "lzB8jAVOqry-",
        "outputId": "b73dfccd-4c4c-4409-e6d4-1c5150525b69",
        "colab": {
          "base_uri": "https://localhost:8080/",
          "height": 204
        }
      },
      "source": [
        "head(df)"
      ],
      "execution_count": null,
      "outputs": [
        {
          "output_type": "display_data",
          "data": {
            "text/plain": [
              "  plot_code plot_loc plot_rep plot_num date       subplot groundcover_type\n",
              "1 YVP 10    NA       NA       10       2017-06-09 1       BG              \n",
              "2 YVP 10    NA       NA       10       2017-06-09 1       BV              \n",
              "3 YVP 10    NA       NA       10       2017-06-09 1       L               \n",
              "4 YVP 10    NA       NA       10       2017-06-09 1       WD              \n",
              "5 YVP 10    NA       NA       10       2017-06-09 1       M               \n",
              "6 YVP 10    NA       NA       10       2017-06-09 1       LIC             \n",
              "  groundcover_pct\n",
              "1  1             \n",
              "2 80             \n",
              "3 10             \n",
              "4  0             \n",
              "5  5             \n",
              "6  4             "
            ],
            "text/latex": "A data.frame: 6 × 8\n\\begin{tabular}{r|llllllll}\n  & plot\\_code & plot\\_loc & plot\\_rep & plot\\_num & date & subplot & groundcover\\_type & groundcover\\_pct\\\\\n  & <chr> & <chr> & <chr> & <int> & <date> & <int> & <chr> & <int>\\\\\n\\hline\n\t1 & YVP 10 & NA & NA & 10 & 2017-06-09 & 1 & BG  &  1\\\\\n\t2 & YVP 10 & NA & NA & 10 & 2017-06-09 & 1 & BV  & 80\\\\\n\t3 & YVP 10 & NA & NA & 10 & 2017-06-09 & 1 & L   & 10\\\\\n\t4 & YVP 10 & NA & NA & 10 & 2017-06-09 & 1 & WD  &  0\\\\\n\t5 & YVP 10 & NA & NA & 10 & 2017-06-09 & 1 & M   &  5\\\\\n\t6 & YVP 10 & NA & NA & 10 & 2017-06-09 & 1 & LIC &  4\\\\\n\\end{tabular}\n",
            "text/markdown": "\nA data.frame: 6 × 8\n\n| <!--/--> | plot_code &lt;chr&gt; | plot_loc &lt;chr&gt; | plot_rep &lt;chr&gt; | plot_num &lt;int&gt; | date &lt;date&gt; | subplot &lt;int&gt; | groundcover_type &lt;chr&gt; | groundcover_pct &lt;int&gt; |\n|---|---|---|---|---|---|---|---|---|\n| 1 | YVP 10 | NA | NA | 10 | 2017-06-09 | 1 | BG  |  1 |\n| 2 | YVP 10 | NA | NA | 10 | 2017-06-09 | 1 | BV  | 80 |\n| 3 | YVP 10 | NA | NA | 10 | 2017-06-09 | 1 | L   | 10 |\n| 4 | YVP 10 | NA | NA | 10 | 2017-06-09 | 1 | WD  |  0 |\n| 5 | YVP 10 | NA | NA | 10 | 2017-06-09 | 1 | M   |  5 |\n| 6 | YVP 10 | NA | NA | 10 | 2017-06-09 | 1 | LIC |  4 |\n\n",
            "text/html": [
              "<table>\n",
              "<caption>A data.frame: 6 × 8</caption>\n",
              "<thead>\n",
              "\t<tr><th></th><th scope=col>plot_code</th><th scope=col>plot_loc</th><th scope=col>plot_rep</th><th scope=col>plot_num</th><th scope=col>date</th><th scope=col>subplot</th><th scope=col>groundcover_type</th><th scope=col>groundcover_pct</th></tr>\n",
              "\t<tr><th></th><th scope=col>&lt;chr&gt;</th><th scope=col>&lt;chr&gt;</th><th scope=col>&lt;chr&gt;</th><th scope=col>&lt;int&gt;</th><th scope=col>&lt;date&gt;</th><th scope=col>&lt;int&gt;</th><th scope=col>&lt;chr&gt;</th><th scope=col>&lt;int&gt;</th></tr>\n",
              "</thead>\n",
              "<tbody>\n",
              "\t<tr><th scope=row>1</th><td>YVP 10</td><td>NA</td><td>NA</td><td>10</td><td>2017-06-09</td><td>1</td><td>BG </td><td> 1</td></tr>\n",
              "\t<tr><th scope=row>2</th><td>YVP 10</td><td>NA</td><td>NA</td><td>10</td><td>2017-06-09</td><td>1</td><td>BV </td><td>80</td></tr>\n",
              "\t<tr><th scope=row>3</th><td>YVP 10</td><td>NA</td><td>NA</td><td>10</td><td>2017-06-09</td><td>1</td><td>L  </td><td>10</td></tr>\n",
              "\t<tr><th scope=row>4</th><td>YVP 10</td><td>NA</td><td>NA</td><td>10</td><td>2017-06-09</td><td>1</td><td>WD </td><td> 0</td></tr>\n",
              "\t<tr><th scope=row>5</th><td>YVP 10</td><td>NA</td><td>NA</td><td>10</td><td>2017-06-09</td><td>1</td><td>M  </td><td> 5</td></tr>\n",
              "\t<tr><th scope=row>6</th><td>YVP 10</td><td>NA</td><td>NA</td><td>10</td><td>2017-06-09</td><td>1</td><td>LIC</td><td> 4</td></tr>\n",
              "</tbody>\n",
              "</table>\n"
            ]
          },
          "metadata": {
            "tags": []
          }
        }
      ]
    },
    {
      "cell_type": "code",
      "metadata": {
        "id": "ZUr8awGkrFCv",
        "outputId": "afb9b2bd-bd35-4628-98b1-b30abfc07cde",
        "colab": {
          "base_uri": "https://localhost:8080/",
          "height": 246
        }
      },
      "source": [
        "# display distinct 'groundcover_type' for reference\n",
        "df %>%\n",
        "  distinct(groundcover_type) %>%\n",
        "  arrange(groundcover_type)"
      ],
      "execution_count": null,
      "outputs": [
        {
          "output_type": "display_data",
          "data": {
            "text/plain": [
              "  groundcover_type\n",
              "1 BG              \n",
              "2 BV              \n",
              "3 G               \n",
              "4 L               \n",
              "5 LIC             \n",
              "6 M               \n",
              "7 R               \n",
              "8 WD              "
            ],
            "text/latex": "A data.frame: 8 × 1\n\\begin{tabular}{l}\n groundcover\\_type\\\\\n <chr>\\\\\n\\hline\n\t BG \\\\\n\t BV \\\\\n\t G  \\\\\n\t L  \\\\\n\t LIC\\\\\n\t M  \\\\\n\t R  \\\\\n\t WD \\\\\n\\end{tabular}\n",
            "text/markdown": "\nA data.frame: 8 × 1\n\n| groundcover_type &lt;chr&gt; |\n|---|\n| BG  |\n| BV  |\n| G   |\n| L   |\n| LIC |\n| M   |\n| R   |\n| WD  |\n\n",
            "text/html": [
              "<table>\n",
              "<caption>A data.frame: 8 × 1</caption>\n",
              "<thead>\n",
              "\t<tr><th scope=col>groundcover_type</th></tr>\n",
              "\t<tr><th scope=col>&lt;chr&gt;</th></tr>\n",
              "</thead>\n",
              "<tbody>\n",
              "\t<tr><td>BG </td></tr>\n",
              "\t<tr><td>BV </td></tr>\n",
              "\t<tr><td>G  </td></tr>\n",
              "\t<tr><td>L  </td></tr>\n",
              "\t<tr><td>LIC</td></tr>\n",
              "\t<tr><td>M  </td></tr>\n",
              "\t<tr><td>R  </td></tr>\n",
              "\t<tr><td>WD </td></tr>\n",
              "</tbody>\n",
              "</table>\n"
            ]
          },
          "metadata": {
            "tags": []
          }
        }
      ]
    },
    {
      "cell_type": "code",
      "metadata": {
        "id": "YDQ9WxDhsEwO"
      },
      "source": [
        "groundcover_counts <- df %>%\n",
        "  group_by(year = as.numeric(substring(date,0,4)), plot_code, subplot) %>%\n",
        "  arrange(year, plot_code, subplot, groundcover_type) %>%\n",
        "  summarize(groundcover_type_counted = n())"
      ],
      "execution_count": null,
      "outputs": []
    },
    {
      "cell_type": "code",
      "metadata": {
        "id": "RVdl-1_isOjm",
        "outputId": "0892851a-322c-476a-e64d-24f3c68d3305",
        "colab": {
          "base_uri": "https://localhost:8080/",
          "height": 204
        }
      },
      "source": [
        "head(groundcover_counts)"
      ],
      "execution_count": null,
      "outputs": [
        {
          "output_type": "display_data",
          "data": {
            "text/plain": [
              "  year plot_code subplot groundcover_type_counted\n",
              "1 2017 YVP 10    1       8                       \n",
              "2 2017 YVP 10    2       8                       \n",
              "3 2017 YVP 10    3       8                       \n",
              "4 2017 YVP 10    4       8                       \n",
              "5 2017 YVP 10    5       8                       \n",
              "6 2017 YVP 10    6       8                       "
            ],
            "text/latex": "A grouped\\_df: 6 × 4\n\\begin{tabular}{llll}\n year & plot\\_code & subplot & groundcover\\_type\\_counted\\\\\n <dbl> & <chr> & <int> & <int>\\\\\n\\hline\n\t 2017 & YVP 10 & 1 & 8\\\\\n\t 2017 & YVP 10 & 2 & 8\\\\\n\t 2017 & YVP 10 & 3 & 8\\\\\n\t 2017 & YVP 10 & 4 & 8\\\\\n\t 2017 & YVP 10 & 5 & 8\\\\\n\t 2017 & YVP 10 & 6 & 8\\\\\n\\end{tabular}\n",
            "text/markdown": "\nA grouped_df: 6 × 4\n\n| year &lt;dbl&gt; | plot_code &lt;chr&gt; | subplot &lt;int&gt; | groundcover_type_counted &lt;int&gt; |\n|---|---|---|---|\n| 2017 | YVP 10 | 1 | 8 |\n| 2017 | YVP 10 | 2 | 8 |\n| 2017 | YVP 10 | 3 | 8 |\n| 2017 | YVP 10 | 4 | 8 |\n| 2017 | YVP 10 | 5 | 8 |\n| 2017 | YVP 10 | 6 | 8 |\n\n",
            "text/html": [
              "<table>\n",
              "<caption>A grouped_df: 6 × 4</caption>\n",
              "<thead>\n",
              "\t<tr><th scope=col>year</th><th scope=col>plot_code</th><th scope=col>subplot</th><th scope=col>groundcover_type_counted</th></tr>\n",
              "\t<tr><th scope=col>&lt;dbl&gt;</th><th scope=col>&lt;chr&gt;</th><th scope=col>&lt;int&gt;</th><th scope=col>&lt;int&gt;</th></tr>\n",
              "</thead>\n",
              "<tbody>\n",
              "\t<tr><td>2017</td><td>YVP 10</td><td>1</td><td>8</td></tr>\n",
              "\t<tr><td>2017</td><td>YVP 10</td><td>2</td><td>8</td></tr>\n",
              "\t<tr><td>2017</td><td>YVP 10</td><td>3</td><td>8</td></tr>\n",
              "\t<tr><td>2017</td><td>YVP 10</td><td>4</td><td>8</td></tr>\n",
              "\t<tr><td>2017</td><td>YVP 10</td><td>5</td><td>8</td></tr>\n",
              "\t<tr><td>2017</td><td>YVP 10</td><td>6</td><td>8</td></tr>\n",
              "</tbody>\n",
              "</table>\n"
            ]
          },
          "metadata": {
            "tags": []
          }
        }
      ]
    },
    {
      "cell_type": "code",
      "metadata": {
        "id": "rqFVfB8atzCZ",
        "outputId": "10b59360-0289-4a27-fc75-e0f38413d247",
        "colab": {
          "base_uri": "https://localhost:8080/",
          "height": 34
        }
      },
      "source": [
        "unique(groundcover_counts$groundcover_type_counted)"
      ],
      "execution_count": null,
      "outputs": [
        {
          "output_type": "display_data",
          "data": {
            "text/plain": [
              "[1] 8 7 9"
            ],
            "text/latex": "\\begin{enumerate*}\n\\item 8\n\\item 7\n\\item 9\n\\end{enumerate*}\n",
            "text/markdown": "1. 8\n2. 7\n3. 9\n\n\n",
            "text/html": [
              "<style>\n",
              ".list-inline {list-style: none; margin:0; padding: 0}\n",
              ".list-inline>li {display: inline-block}\n",
              ".list-inline>li:not(:last-child)::after {content: \"\\00b7\"; padding: 0 .5ex}\n",
              "</style>\n",
              "<ol class=list-inline><li>8</li><li>7</li><li>9</li></ol>\n"
            ]
          },
          "metadata": {
            "tags": []
          }
        }
      ]
    },
    {
      "cell_type": "code",
      "metadata": {
        "id": "rqMlU4AfuKfB",
        "outputId": "dafe7c2b-4ca1-41a3-cc77-6a96215d60be",
        "colab": {
          "base_uri": "https://localhost:8080/",
          "height": 225
        }
      },
      "source": [
        "groundcover_counts %>%\n",
        "  filter(groundcover_type_counted != 8) %>%\n",
        "  arrange(groundcover_type_counted, year)"
      ],
      "execution_count": null,
      "outputs": [
        {
          "output_type": "display_data",
          "data": {
            "text/plain": [
              "  year plot_code subplot groundcover_type_counted\n",
              "1 2017 YVP 355   1       7                       \n",
              "2 2017 YVP 481   1       7                       \n",
              "3 2018 YVP N278  5       7                       \n",
              "4 2018 YVP N57   8       7                       \n",
              "5 2019 YVP 481   1       7                       \n",
              "6 2018 YVP N278  6       9                       \n",
              "7 2018 YVP N57   2       9                       "
            ],
            "text/latex": "A grouped\\_df: 7 × 4\n\\begin{tabular}{llll}\n year & plot\\_code & subplot & groundcover\\_type\\_counted\\\\\n <dbl> & <chr> & <int> & <int>\\\\\n\\hline\n\t 2017 & YVP 355  & 1 & 7\\\\\n\t 2017 & YVP 481  & 1 & 7\\\\\n\t 2018 & YVP N278 & 5 & 7\\\\\n\t 2018 & YVP N57  & 8 & 7\\\\\n\t 2019 & YVP 481  & 1 & 7\\\\\n\t 2018 & YVP N278 & 6 & 9\\\\\n\t 2018 & YVP N57  & 2 & 9\\\\\n\\end{tabular}\n",
            "text/markdown": "\nA grouped_df: 7 × 4\n\n| year &lt;dbl&gt; | plot_code &lt;chr&gt; | subplot &lt;int&gt; | groundcover_type_counted &lt;int&gt; |\n|---|---|---|---|\n| 2017 | YVP 355  | 1 | 7 |\n| 2017 | YVP 481  | 1 | 7 |\n| 2018 | YVP N278 | 5 | 7 |\n| 2018 | YVP N57  | 8 | 7 |\n| 2019 | YVP 481  | 1 | 7 |\n| 2018 | YVP N278 | 6 | 9 |\n| 2018 | YVP N57  | 2 | 9 |\n\n",
            "text/html": [
              "<table>\n",
              "<caption>A grouped_df: 7 × 4</caption>\n",
              "<thead>\n",
              "\t<tr><th scope=col>year</th><th scope=col>plot_code</th><th scope=col>subplot</th><th scope=col>groundcover_type_counted</th></tr>\n",
              "\t<tr><th scope=col>&lt;dbl&gt;</th><th scope=col>&lt;chr&gt;</th><th scope=col>&lt;int&gt;</th><th scope=col>&lt;int&gt;</th></tr>\n",
              "</thead>\n",
              "<tbody>\n",
              "\t<tr><td>2017</td><td>YVP 355 </td><td>1</td><td>7</td></tr>\n",
              "\t<tr><td>2017</td><td>YVP 481 </td><td>1</td><td>7</td></tr>\n",
              "\t<tr><td>2018</td><td>YVP N278</td><td>5</td><td>7</td></tr>\n",
              "\t<tr><td>2018</td><td>YVP N57 </td><td>8</td><td>7</td></tr>\n",
              "\t<tr><td>2019</td><td>YVP 481 </td><td>1</td><td>7</td></tr>\n",
              "\t<tr><td>2018</td><td>YVP N278</td><td>6</td><td>9</td></tr>\n",
              "\t<tr><td>2018</td><td>YVP N57 </td><td>2</td><td>9</td></tr>\n",
              "</tbody>\n",
              "</table>\n"
            ]
          },
          "metadata": {
            "tags": []
          }
        }
      ]
    },
    {
      "cell_type": "markdown",
      "metadata": {
        "id": "IdB-HKt55wHM"
      },
      "source": [
        "# Remove Duplicate Rows"
      ]
    },
    {
      "cell_type": "markdown",
      "metadata": {
        "id": "KC2ldND7_r6d"
      },
      "source": [
        "### Remove Row"
      ]
    },
    {
      "cell_type": "code",
      "metadata": {
        "id": "qEh6g4FQvCxW",
        "outputId": "797cd18e-adfa-43f6-c4d0-4339aa696d9c",
        "colab": {
          "base_uri": "https://localhost:8080/",
          "height": 246
        }
      },
      "source": [
        "# example of one extra 'groundcover_type'\n",
        "df %>%\n",
        "  filter(as.numeric(substring(date,0,4)) == 2018,\n",
        "          plot_code == 'YVP N278',\n",
        "          subplot == 6) %>%\n",
        "  arrange(groundcover_type)"
      ],
      "execution_count": null,
      "outputs": [
        {
          "output_type": "display_data",
          "data": {
            "text/plain": [
              "  plot_code plot_loc plot_rep plot_num date       subplot groundcover_type\n",
              "1 YVP N278  N        NA       278      2018-05-28 6       BG              \n",
              "2 YVP N278  N        NA       278      2018-05-28 6       BV              \n",
              "3 YVP N278  N        NA       278      2018-05-28 6       G               \n",
              "4 YVP N278  N        NA       278      2018-05-28 6       L               \n",
              "5 YVP N278  N        NA       278      2018-05-28 6       LIC             \n",
              "6 YVP N278  N        NA       278      2018-05-28 6       M               \n",
              "7 YVP N278  N        NA       278      2018-05-28 6       R               \n",
              "8 YVP N278  N        NA       278      2018-05-28 6       WD              \n",
              "  groundcover_pct\n",
              "1  1             \n",
              "2 20             \n",
              "3  4             \n",
              "4 25             \n",
              "5 10             \n",
              "6 40             \n",
              "7  0             \n",
              "8  0             "
            ],
            "text/latex": "A data.frame: 8 × 8\n\\begin{tabular}{llllllll}\n plot\\_code & plot\\_loc & plot\\_rep & plot\\_num & date & subplot & groundcover\\_type & groundcover\\_pct\\\\\n <chr> & <chr> & <chr> & <int> & <date> & <int> & <chr> & <int>\\\\\n\\hline\n\t YVP N278 & N & NA & 278 & 2018-05-28 & 6 & BG  &  1\\\\\n\t YVP N278 & N & NA & 278 & 2018-05-28 & 6 & BV  & 20\\\\\n\t YVP N278 & N & NA & 278 & 2018-05-28 & 6 & G   &  4\\\\\n\t YVP N278 & N & NA & 278 & 2018-05-28 & 6 & L   & 25\\\\\n\t YVP N278 & N & NA & 278 & 2018-05-28 & 6 & LIC & 10\\\\\n\t YVP N278 & N & NA & 278 & 2018-05-28 & 6 & M   & 40\\\\\n\t YVP N278 & N & NA & 278 & 2018-05-28 & 6 & R   &  0\\\\\n\t YVP N278 & N & NA & 278 & 2018-05-28 & 6 & WD  &  0\\\\\n\\end{tabular}\n",
            "text/markdown": "\nA data.frame: 8 × 8\n\n| plot_code &lt;chr&gt; | plot_loc &lt;chr&gt; | plot_rep &lt;chr&gt; | plot_num &lt;int&gt; | date &lt;date&gt; | subplot &lt;int&gt; | groundcover_type &lt;chr&gt; | groundcover_pct &lt;int&gt; |\n|---|---|---|---|---|---|---|---|\n| YVP N278 | N | NA | 278 | 2018-05-28 | 6 | BG  |  1 |\n| YVP N278 | N | NA | 278 | 2018-05-28 | 6 | BV  | 20 |\n| YVP N278 | N | NA | 278 | 2018-05-28 | 6 | G   |  4 |\n| YVP N278 | N | NA | 278 | 2018-05-28 | 6 | L   | 25 |\n| YVP N278 | N | NA | 278 | 2018-05-28 | 6 | LIC | 10 |\n| YVP N278 | N | NA | 278 | 2018-05-28 | 6 | M   | 40 |\n| YVP N278 | N | NA | 278 | 2018-05-28 | 6 | R   |  0 |\n| YVP N278 | N | NA | 278 | 2018-05-28 | 6 | WD  |  0 |\n\n",
            "text/html": [
              "<table>\n",
              "<caption>A data.frame: 8 × 8</caption>\n",
              "<thead>\n",
              "\t<tr><th scope=col>plot_code</th><th scope=col>plot_loc</th><th scope=col>plot_rep</th><th scope=col>plot_num</th><th scope=col>date</th><th scope=col>subplot</th><th scope=col>groundcover_type</th><th scope=col>groundcover_pct</th></tr>\n",
              "\t<tr><th scope=col>&lt;chr&gt;</th><th scope=col>&lt;chr&gt;</th><th scope=col>&lt;chr&gt;</th><th scope=col>&lt;int&gt;</th><th scope=col>&lt;date&gt;</th><th scope=col>&lt;int&gt;</th><th scope=col>&lt;chr&gt;</th><th scope=col>&lt;int&gt;</th></tr>\n",
              "</thead>\n",
              "<tbody>\n",
              "\t<tr><td>YVP N278</td><td>N</td><td>NA</td><td>278</td><td>2018-05-28</td><td>6</td><td>BG </td><td> 1</td></tr>\n",
              "\t<tr><td>YVP N278</td><td>N</td><td>NA</td><td>278</td><td>2018-05-28</td><td>6</td><td>BV </td><td>20</td></tr>\n",
              "\t<tr><td>YVP N278</td><td>N</td><td>NA</td><td>278</td><td>2018-05-28</td><td>6</td><td>G  </td><td> 4</td></tr>\n",
              "\t<tr><td>YVP N278</td><td>N</td><td>NA</td><td>278</td><td>2018-05-28</td><td>6</td><td>L  </td><td>25</td></tr>\n",
              "\t<tr><td>YVP N278</td><td>N</td><td>NA</td><td>278</td><td>2018-05-28</td><td>6</td><td>LIC</td><td>10</td></tr>\n",
              "\t<tr><td>YVP N278</td><td>N</td><td>NA</td><td>278</td><td>2018-05-28</td><td>6</td><td>M  </td><td>40</td></tr>\n",
              "\t<tr><td>YVP N278</td><td>N</td><td>NA</td><td>278</td><td>2018-05-28</td><td>6</td><td>R  </td><td> 0</td></tr>\n",
              "\t<tr><td>YVP N278</td><td>N</td><td>NA</td><td>278</td><td>2018-05-28</td><td>6</td><td>WD </td><td> 0</td></tr>\n",
              "</tbody>\n",
              "</table>\n"
            ]
          },
          "metadata": {
            "tags": []
          }
        }
      ]
    },
    {
      "cell_type": "code",
      "metadata": {
        "id": "IPz5zEmh5zbb"
      },
      "source": [
        "# remove row YVP N278\tN\tNA\t278\t2018-05-28\t6\tM\t15\n",
        "df <- df[!((as.numeric(substring(df$date,0,4)) == 2018 &\n",
        "          df$plot_code == 'YVP N278' &\n",
        "          df$subplot == 6 &\n",
        "          df$groundcover_type == 'M' &\n",
        "          df$groundcover_pct == 15)), ]"
      ],
      "execution_count": null,
      "outputs": []
    },
    {
      "cell_type": "markdown",
      "metadata": {
        "id": "GhOO14Fo_uL4"
      },
      "source": [
        "### Remove Row"
      ]
    },
    {
      "cell_type": "code",
      "metadata": {
        "id": "xuAzCN7_3dy4",
        "outputId": "94052a7c-b0c7-45f1-953b-07836f1f21fb",
        "colab": {
          "base_uri": "https://localhost:8080/",
          "height": 246
        }
      },
      "source": [
        "# example of one extra 'groundcover_type'\n",
        "# 2018\tYVP N57\t2\n",
        "df %>%\n",
        "  filter(as.numeric(substring(date,0,4)) == 2018,\n",
        "          plot_code == 'YVP N57',\n",
        "          subplot == 2) %>%\n",
        "  arrange(groundcover_type)"
      ],
      "execution_count": null,
      "outputs": [
        {
          "output_type": "display_data",
          "data": {
            "text/plain": [
              "  plot_code plot_loc plot_rep plot_num date       subplot groundcover_type\n",
              "1 YVP N57   N        NA       57       2018-06-08 2       BG              \n",
              "2 YVP N57   N        NA       57       2018-06-08 2       BV              \n",
              "3 YVP N57   N        NA       57       2018-06-08 2       G               \n",
              "4 YVP N57   N        NA       57       2018-06-08 2       L               \n",
              "5 YVP N57   N        NA       57       2018-06-08 2       LIC             \n",
              "6 YVP N57   N        NA       57       2018-06-08 2       M               \n",
              "7 YVP N57   N        NA       57       2018-06-08 2       R               \n",
              "8 YVP N57   N        NA       57       2018-06-08 2       WD              \n",
              "  groundcover_pct\n",
              "1  3             \n",
              "2 10             \n",
              "3  0             \n",
              "4 40             \n",
              "5  3             \n",
              "6 35             \n",
              "7  0             \n",
              "8 10             "
            ],
            "text/latex": "A data.frame: 8 × 8\n\\begin{tabular}{llllllll}\n plot\\_code & plot\\_loc & plot\\_rep & plot\\_num & date & subplot & groundcover\\_type & groundcover\\_pct\\\\\n <chr> & <chr> & <chr> & <int> & <date> & <int> & <chr> & <int>\\\\\n\\hline\n\t YVP N57 & N & NA & 57 & 2018-06-08 & 2 & BG  &  3\\\\\n\t YVP N57 & N & NA & 57 & 2018-06-08 & 2 & BV  & 10\\\\\n\t YVP N57 & N & NA & 57 & 2018-06-08 & 2 & G   &  0\\\\\n\t YVP N57 & N & NA & 57 & 2018-06-08 & 2 & L   & 40\\\\\n\t YVP N57 & N & NA & 57 & 2018-06-08 & 2 & LIC &  3\\\\\n\t YVP N57 & N & NA & 57 & 2018-06-08 & 2 & M   & 35\\\\\n\t YVP N57 & N & NA & 57 & 2018-06-08 & 2 & R   &  0\\\\\n\t YVP N57 & N & NA & 57 & 2018-06-08 & 2 & WD  & 10\\\\\n\\end{tabular}\n",
            "text/markdown": "\nA data.frame: 8 × 8\n\n| plot_code &lt;chr&gt; | plot_loc &lt;chr&gt; | plot_rep &lt;chr&gt; | plot_num &lt;int&gt; | date &lt;date&gt; | subplot &lt;int&gt; | groundcover_type &lt;chr&gt; | groundcover_pct &lt;int&gt; |\n|---|---|---|---|---|---|---|---|\n| YVP N57 | N | NA | 57 | 2018-06-08 | 2 | BG  |  3 |\n| YVP N57 | N | NA | 57 | 2018-06-08 | 2 | BV  | 10 |\n| YVP N57 | N | NA | 57 | 2018-06-08 | 2 | G   |  0 |\n| YVP N57 | N | NA | 57 | 2018-06-08 | 2 | L   | 40 |\n| YVP N57 | N | NA | 57 | 2018-06-08 | 2 | LIC |  3 |\n| YVP N57 | N | NA | 57 | 2018-06-08 | 2 | M   | 35 |\n| YVP N57 | N | NA | 57 | 2018-06-08 | 2 | R   |  0 |\n| YVP N57 | N | NA | 57 | 2018-06-08 | 2 | WD  | 10 |\n\n",
            "text/html": [
              "<table>\n",
              "<caption>A data.frame: 8 × 8</caption>\n",
              "<thead>\n",
              "\t<tr><th scope=col>plot_code</th><th scope=col>plot_loc</th><th scope=col>plot_rep</th><th scope=col>plot_num</th><th scope=col>date</th><th scope=col>subplot</th><th scope=col>groundcover_type</th><th scope=col>groundcover_pct</th></tr>\n",
              "\t<tr><th scope=col>&lt;chr&gt;</th><th scope=col>&lt;chr&gt;</th><th scope=col>&lt;chr&gt;</th><th scope=col>&lt;int&gt;</th><th scope=col>&lt;date&gt;</th><th scope=col>&lt;int&gt;</th><th scope=col>&lt;chr&gt;</th><th scope=col>&lt;int&gt;</th></tr>\n",
              "</thead>\n",
              "<tbody>\n",
              "\t<tr><td>YVP N57</td><td>N</td><td>NA</td><td>57</td><td>2018-06-08</td><td>2</td><td>BG </td><td> 3</td></tr>\n",
              "\t<tr><td>YVP N57</td><td>N</td><td>NA</td><td>57</td><td>2018-06-08</td><td>2</td><td>BV </td><td>10</td></tr>\n",
              "\t<tr><td>YVP N57</td><td>N</td><td>NA</td><td>57</td><td>2018-06-08</td><td>2</td><td>G  </td><td> 0</td></tr>\n",
              "\t<tr><td>YVP N57</td><td>N</td><td>NA</td><td>57</td><td>2018-06-08</td><td>2</td><td>L  </td><td>40</td></tr>\n",
              "\t<tr><td>YVP N57</td><td>N</td><td>NA</td><td>57</td><td>2018-06-08</td><td>2</td><td>LIC</td><td> 3</td></tr>\n",
              "\t<tr><td>YVP N57</td><td>N</td><td>NA</td><td>57</td><td>2018-06-08</td><td>2</td><td>M  </td><td>35</td></tr>\n",
              "\t<tr><td>YVP N57</td><td>N</td><td>NA</td><td>57</td><td>2018-06-08</td><td>2</td><td>R  </td><td> 0</td></tr>\n",
              "\t<tr><td>YVP N57</td><td>N</td><td>NA</td><td>57</td><td>2018-06-08</td><td>2</td><td>WD </td><td>10</td></tr>\n",
              "</tbody>\n",
              "</table>\n"
            ]
          },
          "metadata": {
            "tags": []
          }
        }
      ]
    },
    {
      "cell_type": "code",
      "metadata": {
        "id": "ft-XuLcKArJ_"
      },
      "source": [
        "# remove row YVP N57\tN\tNA\t57\t2018-06-08\t2\tM\t5\n",
        "df <- df[!((as.numeric(substring(df$date,0,4)) == 2018 &\n",
        "     df$plot_code == 'YVP N57' &\n",
        "     df$subplot == 2 &\n",
        "     df$groundcover_type == 'M' &\n",
        "     df$groundcover_pct == 5)), ]"
      ],
      "execution_count": null,
      "outputs": []
    },
    {
      "cell_type": "code",
      "metadata": {
        "id": "E_Jbh3C4A9FJ",
        "outputId": "6cb6e741-f921-46f6-de2f-9d0db1e2a622",
        "colab": {
          "base_uri": "https://localhost:8080/",
          "height": 170
        }
      },
      "source": [
        "str(df)"
      ],
      "execution_count": null,
      "outputs": [
        {
          "output_type": "stream",
          "text": [
            "'data.frame':\t13915 obs. of  8 variables:\n",
            " $ plot_code       : chr  \"YVP 10\" \"YVP 10\" \"YVP 10\" \"YVP 10\" ...\n",
            " $ plot_loc        : chr  NA NA NA NA ...\n",
            " $ plot_rep        : chr  NA NA NA NA ...\n",
            " $ plot_num        : int  10 10 10 10 10 10 10 10 10 10 ...\n",
            " $ date            : Date, format: \"2017-06-09\" \"2017-06-09\" ...\n",
            " $ subplot         : int  1 1 1 1 1 1 1 1 2 2 ...\n",
            " $ groundcover_type: chr  \"BG\" \"BV\" \"L\" \"WD\" ...\n",
            " $ groundcover_pct : int  1 80 10 0 5 4 1 0 2 70 ...\n"
          ],
          "name": "stdout"
        }
      ]
    },
    {
      "cell_type": "markdown",
      "metadata": {
        "id": "Fb0MTYdiBHgK"
      },
      "source": [
        "# Add Rows"
      ]
    },
    {
      "cell_type": "markdown",
      "metadata": {
        "id": "r8f1taX6FURg"
      },
      "source": [
        "Set missing 'groundcover_type' to NA"
      ]
    },
    {
      "cell_type": "code",
      "metadata": {
        "id": "9qdIP8iYBUL1",
        "outputId": "3bc4a544-4cc8-49b5-f064-11902d78eed4",
        "colab": {
          "base_uri": "https://localhost:8080/",
          "height": 225
        }
      },
      "source": [
        "groundcover_counts %>%\n",
        "  filter(groundcover_type_counted != 8) %>%\n",
        "  arrange(groundcover_type_counted, year)"
      ],
      "execution_count": null,
      "outputs": [
        {
          "output_type": "display_data",
          "data": {
            "text/plain": [
              "  year plot_code subplot groundcover_type_counted\n",
              "1 2017 YVP 355   1       7                       \n",
              "2 2017 YVP 481   1       7                       \n",
              "3 2018 YVP N278  5       7                       \n",
              "4 2018 YVP N57   8       7                       \n",
              "5 2019 YVP 481   1       7                       \n",
              "6 2018 YVP N278  6       9                       \n",
              "7 2018 YVP N57   2       9                       "
            ],
            "text/latex": "A grouped\\_df: 7 × 4\n\\begin{tabular}{llll}\n year & plot\\_code & subplot & groundcover\\_type\\_counted\\\\\n <dbl> & <chr> & <int> & <int>\\\\\n\\hline\n\t 2017 & YVP 355  & 1 & 7\\\\\n\t 2017 & YVP 481  & 1 & 7\\\\\n\t 2018 & YVP N278 & 5 & 7\\\\\n\t 2018 & YVP N57  & 8 & 7\\\\\n\t 2019 & YVP 481  & 1 & 7\\\\\n\t 2018 & YVP N278 & 6 & 9\\\\\n\t 2018 & YVP N57  & 2 & 9\\\\\n\\end{tabular}\n",
            "text/markdown": "\nA grouped_df: 7 × 4\n\n| year &lt;dbl&gt; | plot_code &lt;chr&gt; | subplot &lt;int&gt; | groundcover_type_counted &lt;int&gt; |\n|---|---|---|---|\n| 2017 | YVP 355  | 1 | 7 |\n| 2017 | YVP 481  | 1 | 7 |\n| 2018 | YVP N278 | 5 | 7 |\n| 2018 | YVP N57  | 8 | 7 |\n| 2019 | YVP 481  | 1 | 7 |\n| 2018 | YVP N278 | 6 | 9 |\n| 2018 | YVP N57  | 2 | 9 |\n\n",
            "text/html": [
              "<table>\n",
              "<caption>A grouped_df: 7 × 4</caption>\n",
              "<thead>\n",
              "\t<tr><th scope=col>year</th><th scope=col>plot_code</th><th scope=col>subplot</th><th scope=col>groundcover_type_counted</th></tr>\n",
              "\t<tr><th scope=col>&lt;dbl&gt;</th><th scope=col>&lt;chr&gt;</th><th scope=col>&lt;int&gt;</th><th scope=col>&lt;int&gt;</th></tr>\n",
              "</thead>\n",
              "<tbody>\n",
              "\t<tr><td>2017</td><td>YVP 355 </td><td>1</td><td>7</td></tr>\n",
              "\t<tr><td>2017</td><td>YVP 481 </td><td>1</td><td>7</td></tr>\n",
              "\t<tr><td>2018</td><td>YVP N278</td><td>5</td><td>7</td></tr>\n",
              "\t<tr><td>2018</td><td>YVP N57 </td><td>8</td><td>7</td></tr>\n",
              "\t<tr><td>2019</td><td>YVP 481 </td><td>1</td><td>7</td></tr>\n",
              "\t<tr><td>2018</td><td>YVP N278</td><td>6</td><td>9</td></tr>\n",
              "\t<tr><td>2018</td><td>YVP N57 </td><td>2</td><td>9</td></tr>\n",
              "</tbody>\n",
              "</table>\n"
            ]
          },
          "metadata": {
            "tags": []
          }
        }
      ]
    },
    {
      "cell_type": "markdown",
      "metadata": {
        "id": "AytKFYNkBcGc"
      },
      "source": [
        "5 \"plot_code\" \"subplot\" groups missing \"groundcover_type\" entries"
      ]
    },
    {
      "cell_type": "code",
      "metadata": {
        "id": "H12McdV_D3O8",
        "outputId": "9c0c3ffb-0f61-4e30-df2d-19a35fd5cc91",
        "colab": {
          "base_uri": "https://localhost:8080/",
          "height": 246
        }
      },
      "source": [
        "# types we are looking for\n",
        "# display distinct 'groundcover_type' for reference\n",
        "df %>%\n",
        "  distinct(groundcover_type) %>%\n",
        "  arrange(groundcover_type)"
      ],
      "execution_count": null,
      "outputs": [
        {
          "output_type": "display_data",
          "data": {
            "text/plain": [
              "  groundcover_type\n",
              "1 BG              \n",
              "2 BV              \n",
              "3 G               \n",
              "4 L               \n",
              "5 LIC             \n",
              "6 M               \n",
              "7 R               \n",
              "8 WD              "
            ],
            "text/latex": "A data.frame: 8 × 1\n\\begin{tabular}{l}\n groundcover\\_type\\\\\n <chr>\\\\\n\\hline\n\t BG \\\\\n\t BV \\\\\n\t G  \\\\\n\t L  \\\\\n\t LIC\\\\\n\t M  \\\\\n\t R  \\\\\n\t WD \\\\\n\\end{tabular}\n",
            "text/markdown": "\nA data.frame: 8 × 1\n\n| groundcover_type &lt;chr&gt; |\n|---|\n| BG  |\n| BV  |\n| G   |\n| L   |\n| LIC |\n| M   |\n| R   |\n| WD  |\n\n",
            "text/html": [
              "<table>\n",
              "<caption>A data.frame: 8 × 1</caption>\n",
              "<thead>\n",
              "\t<tr><th scope=col>groundcover_type</th></tr>\n",
              "\t<tr><th scope=col>&lt;chr&gt;</th></tr>\n",
              "</thead>\n",
              "<tbody>\n",
              "\t<tr><td>BG </td></tr>\n",
              "\t<tr><td>BV </td></tr>\n",
              "\t<tr><td>G  </td></tr>\n",
              "\t<tr><td>L  </td></tr>\n",
              "\t<tr><td>LIC</td></tr>\n",
              "\t<tr><td>M  </td></tr>\n",
              "\t<tr><td>R  </td></tr>\n",
              "\t<tr><td>WD </td></tr>\n",
              "</tbody>\n",
              "</table>\n"
            ]
          },
          "metadata": {
            "tags": []
          }
        }
      ]
    },
    {
      "cell_type": "markdown",
      "metadata": {
        "id": "45kAAHgtF_3d"
      },
      "source": [
        "### 2017 YVP 355 1"
      ]
    },
    {
      "cell_type": "code",
      "metadata": {
        "id": "DrsTHvgkBOK2",
        "outputId": "c4cb8eb5-7140-4911-f300-ad8fa548987f",
        "colab": {
          "base_uri": "https://localhost:8080/",
          "height": 246
        }
      },
      "source": [
        "# display\n",
        "df %>%\n",
        "  filter(as.numeric(substring(date,0,4)) == 2017,\n",
        "          plot_code == 'YVP 355',\n",
        "          subplot == 1) %>%\n",
        "  arrange(groundcover_type)\n",
        "\n",
        "# for all groundcover_type_counted find missing category and create row with groundcover_pct = NA\n",
        "# BG in this case"
      ],
      "execution_count": null,
      "outputs": [
        {
          "output_type": "display_data",
          "data": {
            "text/plain": [
              "  plot_code plot_loc plot_rep plot_num date       subplot groundcover_type\n",
              "1 YVP 355   NA       NA       355      2017-06-02 1       BG              \n",
              "2 YVP 355   NA       NA       355      2017-06-02 1       BV              \n",
              "3 YVP 355   NA       NA       355      2017-06-02 1       G               \n",
              "4 YVP 355   NA       NA       355      2017-06-02 1       L               \n",
              "5 YVP 355   NA       NA       355      2017-06-02 1       LIC             \n",
              "6 YVP 355   NA       NA       355      2017-06-02 1       M               \n",
              "7 YVP 355   NA       NA       355      2017-06-02 1       R               \n",
              "8 YVP 355   NA       NA       355      2017-06-02 1       WD              \n",
              "  groundcover_pct\n",
              "1 NA             \n",
              "2 75             \n",
              "3  1             \n",
              "4 10             \n",
              "5 10             \n",
              "6  5             \n",
              "7  0             \n",
              "8  0             "
            ],
            "text/latex": "A data.frame: 8 × 8\n\\begin{tabular}{llllllll}\n plot\\_code & plot\\_loc & plot\\_rep & plot\\_num & date & subplot & groundcover\\_type & groundcover\\_pct\\\\\n <chr> & <chr> & <chr> & <dbl> & <date> & <dbl> & <chr> & <int>\\\\\n\\hline\n\t YVP 355 & NA & NA & 355 & 2017-06-02 & 1 & BG  & NA\\\\\n\t YVP 355 & NA & NA & 355 & 2017-06-02 & 1 & BV  & 75\\\\\n\t YVP 355 & NA & NA & 355 & 2017-06-02 & 1 & G   &  1\\\\\n\t YVP 355 & NA & NA & 355 & 2017-06-02 & 1 & L   & 10\\\\\n\t YVP 355 & NA & NA & 355 & 2017-06-02 & 1 & LIC & 10\\\\\n\t YVP 355 & NA & NA & 355 & 2017-06-02 & 1 & M   &  5\\\\\n\t YVP 355 & NA & NA & 355 & 2017-06-02 & 1 & R   &  0\\\\\n\t YVP 355 & NA & NA & 355 & 2017-06-02 & 1 & WD  &  0\\\\\n\\end{tabular}\n",
            "text/markdown": "\nA data.frame: 8 × 8\n\n| plot_code &lt;chr&gt; | plot_loc &lt;chr&gt; | plot_rep &lt;chr&gt; | plot_num &lt;dbl&gt; | date &lt;date&gt; | subplot &lt;dbl&gt; | groundcover_type &lt;chr&gt; | groundcover_pct &lt;int&gt; |\n|---|---|---|---|---|---|---|---|\n| YVP 355 | NA | NA | 355 | 2017-06-02 | 1 | BG  | NA |\n| YVP 355 | NA | NA | 355 | 2017-06-02 | 1 | BV  | 75 |\n| YVP 355 | NA | NA | 355 | 2017-06-02 | 1 | G   |  1 |\n| YVP 355 | NA | NA | 355 | 2017-06-02 | 1 | L   | 10 |\n| YVP 355 | NA | NA | 355 | 2017-06-02 | 1 | LIC | 10 |\n| YVP 355 | NA | NA | 355 | 2017-06-02 | 1 | M   |  5 |\n| YVP 355 | NA | NA | 355 | 2017-06-02 | 1 | R   |  0 |\n| YVP 355 | NA | NA | 355 | 2017-06-02 | 1 | WD  |  0 |\n\n",
            "text/html": [
              "<table>\n",
              "<caption>A data.frame: 8 × 8</caption>\n",
              "<thead>\n",
              "\t<tr><th scope=col>plot_code</th><th scope=col>plot_loc</th><th scope=col>plot_rep</th><th scope=col>plot_num</th><th scope=col>date</th><th scope=col>subplot</th><th scope=col>groundcover_type</th><th scope=col>groundcover_pct</th></tr>\n",
              "\t<tr><th scope=col>&lt;chr&gt;</th><th scope=col>&lt;chr&gt;</th><th scope=col>&lt;chr&gt;</th><th scope=col>&lt;dbl&gt;</th><th scope=col>&lt;date&gt;</th><th scope=col>&lt;dbl&gt;</th><th scope=col>&lt;chr&gt;</th><th scope=col>&lt;int&gt;</th></tr>\n",
              "</thead>\n",
              "<tbody>\n",
              "\t<tr><td>YVP 355</td><td>NA</td><td>NA</td><td>355</td><td>2017-06-02</td><td>1</td><td>BG </td><td>NA</td></tr>\n",
              "\t<tr><td>YVP 355</td><td>NA</td><td>NA</td><td>355</td><td>2017-06-02</td><td>1</td><td>BV </td><td>75</td></tr>\n",
              "\t<tr><td>YVP 355</td><td>NA</td><td>NA</td><td>355</td><td>2017-06-02</td><td>1</td><td>G  </td><td> 1</td></tr>\n",
              "\t<tr><td>YVP 355</td><td>NA</td><td>NA</td><td>355</td><td>2017-06-02</td><td>1</td><td>L  </td><td>10</td></tr>\n",
              "\t<tr><td>YVP 355</td><td>NA</td><td>NA</td><td>355</td><td>2017-06-02</td><td>1</td><td>LIC</td><td>10</td></tr>\n",
              "\t<tr><td>YVP 355</td><td>NA</td><td>NA</td><td>355</td><td>2017-06-02</td><td>1</td><td>M  </td><td> 5</td></tr>\n",
              "\t<tr><td>YVP 355</td><td>NA</td><td>NA</td><td>355</td><td>2017-06-02</td><td>1</td><td>R  </td><td> 0</td></tr>\n",
              "\t<tr><td>YVP 355</td><td>NA</td><td>NA</td><td>355</td><td>2017-06-02</td><td>1</td><td>WD </td><td> 0</td></tr>\n",
              "</tbody>\n",
              "</table>\n"
            ]
          },
          "metadata": {
            "tags": []
          }
        }
      ]
    },
    {
      "cell_type": "code",
      "metadata": {
        "id": "CT0YqR2HD_dn"
      },
      "source": [
        "# add row with BG 'groundcover_type', set to NA\n",
        "df <- df %>%\n",
        "  add_row(plot_code = \"YVP 355\",\n",
        "          plot_loc = NA,\n",
        "          plot_rep = NA,\n",
        "          plot_num = 355,\n",
        "          date = as.Date('2017-06-02'),\n",
        "          subplot = 1,\n",
        "          groundcover_type = \"BG\",\n",
        "          groundcover_pct = NA)"
      ],
      "execution_count": null,
      "outputs": []
    },
    {
      "cell_type": "markdown",
      "metadata": {
        "id": "vqwiarGvF54p"
      },
      "source": [
        "### 2017\tYVP 481\t1"
      ]
    },
    {
      "cell_type": "code",
      "metadata": {
        "id": "zZ1yXg7zFdEU",
        "outputId": "6b25b4ca-6a18-4434-ba28-569443c78ca2",
        "colab": {
          "base_uri": "https://localhost:8080/",
          "height": 246
        }
      },
      "source": [
        "# display\n",
        "df %>%\n",
        "  filter(as.numeric(substring(date,0,4)) == 2017,\n",
        "          plot_code == 'YVP 481',\n",
        "          subplot == 1) %>%\n",
        "  arrange(groundcover_type)"
      ],
      "execution_count": null,
      "outputs": [
        {
          "output_type": "display_data",
          "data": {
            "text/plain": [
              "  plot_code plot_loc plot_rep plot_num date       subplot groundcover_type\n",
              "1 YVP 481   NA       NA       481      2017-07-06 1       BG              \n",
              "2 YVP 481   NA       NA       481      2017-07-06 1       BV              \n",
              "3 YVP 481   NA       NA       481      2017-07-06 1       G               \n",
              "4 YVP 481   NA       NA       481      2017-07-06 1       L               \n",
              "5 YVP 481   NA       NA       481      2017-07-06 1       LIC             \n",
              "6 YVP 481   NA       NA       481      2017-07-06 1       M               \n",
              "7 YVP 481   NA       NA       481      2017-07-06 1       R               \n",
              "8 YVP 481   NA       NA       481      2017-07-06 1       WD              \n",
              "  groundcover_pct\n",
              "1 NA             \n",
              "2 30             \n",
              "3  0             \n",
              "4 70             \n",
              "5  0             \n",
              "6  0             \n",
              "7  0             \n",
              "8  0             "
            ],
            "text/latex": "A data.frame: 8 × 8\n\\begin{tabular}{llllllll}\n plot\\_code & plot\\_loc & plot\\_rep & plot\\_num & date & subplot & groundcover\\_type & groundcover\\_pct\\\\\n <chr> & <chr> & <chr> & <dbl> & <date> & <dbl> & <chr> & <int>\\\\\n\\hline\n\t YVP 481 & NA & NA & 481 & 2017-07-06 & 1 & BG  & NA\\\\\n\t YVP 481 & NA & NA & 481 & 2017-07-06 & 1 & BV  & 30\\\\\n\t YVP 481 & NA & NA & 481 & 2017-07-06 & 1 & G   &  0\\\\\n\t YVP 481 & NA & NA & 481 & 2017-07-06 & 1 & L   & 70\\\\\n\t YVP 481 & NA & NA & 481 & 2017-07-06 & 1 & LIC &  0\\\\\n\t YVP 481 & NA & NA & 481 & 2017-07-06 & 1 & M   &  0\\\\\n\t YVP 481 & NA & NA & 481 & 2017-07-06 & 1 & R   &  0\\\\\n\t YVP 481 & NA & NA & 481 & 2017-07-06 & 1 & WD  &  0\\\\\n\\end{tabular}\n",
            "text/markdown": "\nA data.frame: 8 × 8\n\n| plot_code &lt;chr&gt; | plot_loc &lt;chr&gt; | plot_rep &lt;chr&gt; | plot_num &lt;dbl&gt; | date &lt;date&gt; | subplot &lt;dbl&gt; | groundcover_type &lt;chr&gt; | groundcover_pct &lt;int&gt; |\n|---|---|---|---|---|---|---|---|\n| YVP 481 | NA | NA | 481 | 2017-07-06 | 1 | BG  | NA |\n| YVP 481 | NA | NA | 481 | 2017-07-06 | 1 | BV  | 30 |\n| YVP 481 | NA | NA | 481 | 2017-07-06 | 1 | G   |  0 |\n| YVP 481 | NA | NA | 481 | 2017-07-06 | 1 | L   | 70 |\n| YVP 481 | NA | NA | 481 | 2017-07-06 | 1 | LIC |  0 |\n| YVP 481 | NA | NA | 481 | 2017-07-06 | 1 | M   |  0 |\n| YVP 481 | NA | NA | 481 | 2017-07-06 | 1 | R   |  0 |\n| YVP 481 | NA | NA | 481 | 2017-07-06 | 1 | WD  |  0 |\n\n",
            "text/html": [
              "<table>\n",
              "<caption>A data.frame: 8 × 8</caption>\n",
              "<thead>\n",
              "\t<tr><th scope=col>plot_code</th><th scope=col>plot_loc</th><th scope=col>plot_rep</th><th scope=col>plot_num</th><th scope=col>date</th><th scope=col>subplot</th><th scope=col>groundcover_type</th><th scope=col>groundcover_pct</th></tr>\n",
              "\t<tr><th scope=col>&lt;chr&gt;</th><th scope=col>&lt;chr&gt;</th><th scope=col>&lt;chr&gt;</th><th scope=col>&lt;dbl&gt;</th><th scope=col>&lt;date&gt;</th><th scope=col>&lt;dbl&gt;</th><th scope=col>&lt;chr&gt;</th><th scope=col>&lt;int&gt;</th></tr>\n",
              "</thead>\n",
              "<tbody>\n",
              "\t<tr><td>YVP 481</td><td>NA</td><td>NA</td><td>481</td><td>2017-07-06</td><td>1</td><td>BG </td><td>NA</td></tr>\n",
              "\t<tr><td>YVP 481</td><td>NA</td><td>NA</td><td>481</td><td>2017-07-06</td><td>1</td><td>BV </td><td>30</td></tr>\n",
              "\t<tr><td>YVP 481</td><td>NA</td><td>NA</td><td>481</td><td>2017-07-06</td><td>1</td><td>G  </td><td> 0</td></tr>\n",
              "\t<tr><td>YVP 481</td><td>NA</td><td>NA</td><td>481</td><td>2017-07-06</td><td>1</td><td>L  </td><td>70</td></tr>\n",
              "\t<tr><td>YVP 481</td><td>NA</td><td>NA</td><td>481</td><td>2017-07-06</td><td>1</td><td>LIC</td><td> 0</td></tr>\n",
              "\t<tr><td>YVP 481</td><td>NA</td><td>NA</td><td>481</td><td>2017-07-06</td><td>1</td><td>M  </td><td> 0</td></tr>\n",
              "\t<tr><td>YVP 481</td><td>NA</td><td>NA</td><td>481</td><td>2017-07-06</td><td>1</td><td>R  </td><td> 0</td></tr>\n",
              "\t<tr><td>YVP 481</td><td>NA</td><td>NA</td><td>481</td><td>2017-07-06</td><td>1</td><td>WD </td><td> 0</td></tr>\n",
              "</tbody>\n",
              "</table>\n"
            ]
          },
          "metadata": {
            "tags": []
          }
        }
      ]
    },
    {
      "cell_type": "code",
      "metadata": {
        "id": "s6ybfRBtFdBW"
      },
      "source": [
        "# add row with BG 'groundcover_type', set to NA\n",
        "df <- df %>%\n",
        "  add_row(plot_code = \"YVP 481\",\n",
        "          plot_loc = NA,\n",
        "          plot_rep = NA,\n",
        "          plot_num = 481,\n",
        "          date = as.Date('2017-07-06'),\n",
        "          subplot = 1,\n",
        "          groundcover_type = \"BG\",\n",
        "          groundcover_pct = NA)"
      ],
      "execution_count": null,
      "outputs": []
    },
    {
      "cell_type": "markdown",
      "metadata": {
        "id": "J3Ojd15WHQMg"
      },
      "source": [
        "### 2018\tYVP N278\t5"
      ]
    },
    {
      "cell_type": "code",
      "metadata": {
        "id": "qGGgOMYvFc-t",
        "outputId": "ad2ff115-ac9d-4aab-af7c-41fb5cecf977",
        "colab": {
          "base_uri": "https://localhost:8080/",
          "height": 246
        }
      },
      "source": [
        "# display\n",
        "df %>%\n",
        "  filter(as.numeric(substring(date,0,4)) == 2018,\n",
        "          plot_code == 'YVP N278',\n",
        "          subplot == 5) %>%\n",
        "  arrange(groundcover_type)"
      ],
      "execution_count": null,
      "outputs": [
        {
          "output_type": "display_data",
          "data": {
            "text/plain": [
              "  plot_code plot_loc plot_rep plot_num date       subplot groundcover_type\n",
              "1 YVP N278  N        NA       278      2018-05-28 5       BG              \n",
              "2 YVP N278  N        NA       278      2018-05-28 5       BV              \n",
              "3 YVP N278  N        NA       278      2018-05-28 5       G               \n",
              "4 YVP N278  N        NA       278      2018-05-28 5       L               \n",
              "5 YVP N278  N        NA       278      2018-05-28 5       LIC             \n",
              "6 YVP N278  N        NA       278      2018-05-28 5       M               \n",
              "7 YVP N278  N        NA       278      2018-05-28 5       R               \n",
              "8 YVP N278  N        NA       278      2018-05-28 5       WD              \n",
              "  groundcover_pct\n",
              "1  4             \n",
              "2 15             \n",
              "3  5             \n",
              "4 45             \n",
              "5 15             \n",
              "6 NA             \n",
              "7  0             \n",
              "8  0             "
            ],
            "text/latex": "A data.frame: 8 × 8\n\\begin{tabular}{llllllll}\n plot\\_code & plot\\_loc & plot\\_rep & plot\\_num & date & subplot & groundcover\\_type & groundcover\\_pct\\\\\n <chr> & <chr> & <chr> & <dbl> & <date> & <dbl> & <chr> & <int>\\\\\n\\hline\n\t YVP N278 & N & NA & 278 & 2018-05-28 & 5 & BG  &  4\\\\\n\t YVP N278 & N & NA & 278 & 2018-05-28 & 5 & BV  & 15\\\\\n\t YVP N278 & N & NA & 278 & 2018-05-28 & 5 & G   &  5\\\\\n\t YVP N278 & N & NA & 278 & 2018-05-28 & 5 & L   & 45\\\\\n\t YVP N278 & N & NA & 278 & 2018-05-28 & 5 & LIC & 15\\\\\n\t YVP N278 & N & NA & 278 & 2018-05-28 & 5 & M   & NA\\\\\n\t YVP N278 & N & NA & 278 & 2018-05-28 & 5 & R   &  0\\\\\n\t YVP N278 & N & NA & 278 & 2018-05-28 & 5 & WD  &  0\\\\\n\\end{tabular}\n",
            "text/markdown": "\nA data.frame: 8 × 8\n\n| plot_code &lt;chr&gt; | plot_loc &lt;chr&gt; | plot_rep &lt;chr&gt; | plot_num &lt;dbl&gt; | date &lt;date&gt; | subplot &lt;dbl&gt; | groundcover_type &lt;chr&gt; | groundcover_pct &lt;int&gt; |\n|---|---|---|---|---|---|---|---|\n| YVP N278 | N | NA | 278 | 2018-05-28 | 5 | BG  |  4 |\n| YVP N278 | N | NA | 278 | 2018-05-28 | 5 | BV  | 15 |\n| YVP N278 | N | NA | 278 | 2018-05-28 | 5 | G   |  5 |\n| YVP N278 | N | NA | 278 | 2018-05-28 | 5 | L   | 45 |\n| YVP N278 | N | NA | 278 | 2018-05-28 | 5 | LIC | 15 |\n| YVP N278 | N | NA | 278 | 2018-05-28 | 5 | M   | NA |\n| YVP N278 | N | NA | 278 | 2018-05-28 | 5 | R   |  0 |\n| YVP N278 | N | NA | 278 | 2018-05-28 | 5 | WD  |  0 |\n\n",
            "text/html": [
              "<table>\n",
              "<caption>A data.frame: 8 × 8</caption>\n",
              "<thead>\n",
              "\t<tr><th scope=col>plot_code</th><th scope=col>plot_loc</th><th scope=col>plot_rep</th><th scope=col>plot_num</th><th scope=col>date</th><th scope=col>subplot</th><th scope=col>groundcover_type</th><th scope=col>groundcover_pct</th></tr>\n",
              "\t<tr><th scope=col>&lt;chr&gt;</th><th scope=col>&lt;chr&gt;</th><th scope=col>&lt;chr&gt;</th><th scope=col>&lt;dbl&gt;</th><th scope=col>&lt;date&gt;</th><th scope=col>&lt;dbl&gt;</th><th scope=col>&lt;chr&gt;</th><th scope=col>&lt;int&gt;</th></tr>\n",
              "</thead>\n",
              "<tbody>\n",
              "\t<tr><td>YVP N278</td><td>N</td><td>NA</td><td>278</td><td>2018-05-28</td><td>5</td><td>BG </td><td> 4</td></tr>\n",
              "\t<tr><td>YVP N278</td><td>N</td><td>NA</td><td>278</td><td>2018-05-28</td><td>5</td><td>BV </td><td>15</td></tr>\n",
              "\t<tr><td>YVP N278</td><td>N</td><td>NA</td><td>278</td><td>2018-05-28</td><td>5</td><td>G  </td><td> 5</td></tr>\n",
              "\t<tr><td>YVP N278</td><td>N</td><td>NA</td><td>278</td><td>2018-05-28</td><td>5</td><td>L  </td><td>45</td></tr>\n",
              "\t<tr><td>YVP N278</td><td>N</td><td>NA</td><td>278</td><td>2018-05-28</td><td>5</td><td>LIC</td><td>15</td></tr>\n",
              "\t<tr><td>YVP N278</td><td>N</td><td>NA</td><td>278</td><td>2018-05-28</td><td>5</td><td>M  </td><td>NA</td></tr>\n",
              "\t<tr><td>YVP N278</td><td>N</td><td>NA</td><td>278</td><td>2018-05-28</td><td>5</td><td>R  </td><td> 0</td></tr>\n",
              "\t<tr><td>YVP N278</td><td>N</td><td>NA</td><td>278</td><td>2018-05-28</td><td>5</td><td>WD </td><td> 0</td></tr>\n",
              "</tbody>\n",
              "</table>\n"
            ]
          },
          "metadata": {
            "tags": []
          }
        }
      ]
    },
    {
      "cell_type": "code",
      "metadata": {
        "id": "C_FEiQY4Fc77"
      },
      "source": [
        "# Missing \"M\" 'groundcover_type' add a row and set it to NA\n",
        "df <- df %>%\n",
        "  add_row(plot_code = \"YVP N278\",\n",
        "          plot_loc = as.character('N'),\n",
        "          plot_rep = NA,\n",
        "          plot_num = 278,\n",
        "          date = as.Date('2018-05-28'),\n",
        "          subplot = 5,\n",
        "          groundcover_type = \"M\",\n",
        "          groundcover_pct = NA)"
      ],
      "execution_count": null,
      "outputs": []
    },
    {
      "cell_type": "markdown",
      "metadata": {
        "id": "mMbvnFD6ILKR"
      },
      "source": [
        "### 2018\tYVP N57\t8"
      ]
    },
    {
      "cell_type": "code",
      "metadata": {
        "id": "AAajrS4WFc5T",
        "outputId": "269868ef-b383-44fb-ac62-a60ab8a0290d",
        "colab": {
          "base_uri": "https://localhost:8080/",
          "height": 246
        }
      },
      "source": [
        "# display\n",
        "df %>%\n",
        "  filter(as.numeric(substring(date,0,4)) == 2018,\n",
        "          plot_code == 'YVP N57',\n",
        "          subplot == 8) %>%\n",
        "  arrange(groundcover_type)"
      ],
      "execution_count": null,
      "outputs": [
        {
          "output_type": "display_data",
          "data": {
            "text/plain": [
              "  plot_code plot_loc plot_rep plot_num date       subplot groundcover_type\n",
              "1 YVP N57   N        NA       57       2018-06-08 8       BG              \n",
              "2 YVP N57   N        NA       57       2018-06-08 8       BV              \n",
              "3 YVP N57   N        NA       57       2018-06-08 8       G               \n",
              "4 YVP N57   N        NA       57       2018-06-08 8       L               \n",
              "5 YVP N57   N        NA       57       2018-06-08 8       LIC             \n",
              "6 YVP N57   N        NA       57       2018-06-08 8       M               \n",
              "7 YVP N57   N        NA       57       2018-06-08 8       R               \n",
              "8 YVP N57   N        NA       57       2018-06-08 8       WD              \n",
              "  groundcover_pct\n",
              "1 30             \n",
              "2  5             \n",
              "3 40             \n",
              "4 10             \n",
              "5  5             \n",
              "6 NA             \n",
              "7  5             \n",
              "8  5             "
            ],
            "text/latex": "A data.frame: 8 × 8\n\\begin{tabular}{llllllll}\n plot\\_code & plot\\_loc & plot\\_rep & plot\\_num & date & subplot & groundcover\\_type & groundcover\\_pct\\\\\n <chr> & <chr> & <chr> & <dbl> & <date> & <dbl> & <chr> & <int>\\\\\n\\hline\n\t YVP N57 & N & NA & 57 & 2018-06-08 & 8 & BG  & 30\\\\\n\t YVP N57 & N & NA & 57 & 2018-06-08 & 8 & BV  &  5\\\\\n\t YVP N57 & N & NA & 57 & 2018-06-08 & 8 & G   & 40\\\\\n\t YVP N57 & N & NA & 57 & 2018-06-08 & 8 & L   & 10\\\\\n\t YVP N57 & N & NA & 57 & 2018-06-08 & 8 & LIC &  5\\\\\n\t YVP N57 & N & NA & 57 & 2018-06-08 & 8 & M   & NA\\\\\n\t YVP N57 & N & NA & 57 & 2018-06-08 & 8 & R   &  5\\\\\n\t YVP N57 & N & NA & 57 & 2018-06-08 & 8 & WD  &  5\\\\\n\\end{tabular}\n",
            "text/markdown": "\nA data.frame: 8 × 8\n\n| plot_code &lt;chr&gt; | plot_loc &lt;chr&gt; | plot_rep &lt;chr&gt; | plot_num &lt;dbl&gt; | date &lt;date&gt; | subplot &lt;dbl&gt; | groundcover_type &lt;chr&gt; | groundcover_pct &lt;int&gt; |\n|---|---|---|---|---|---|---|---|\n| YVP N57 | N | NA | 57 | 2018-06-08 | 8 | BG  | 30 |\n| YVP N57 | N | NA | 57 | 2018-06-08 | 8 | BV  |  5 |\n| YVP N57 | N | NA | 57 | 2018-06-08 | 8 | G   | 40 |\n| YVP N57 | N | NA | 57 | 2018-06-08 | 8 | L   | 10 |\n| YVP N57 | N | NA | 57 | 2018-06-08 | 8 | LIC |  5 |\n| YVP N57 | N | NA | 57 | 2018-06-08 | 8 | M   | NA |\n| YVP N57 | N | NA | 57 | 2018-06-08 | 8 | R   |  5 |\n| YVP N57 | N | NA | 57 | 2018-06-08 | 8 | WD  |  5 |\n\n",
            "text/html": [
              "<table>\n",
              "<caption>A data.frame: 8 × 8</caption>\n",
              "<thead>\n",
              "\t<tr><th scope=col>plot_code</th><th scope=col>plot_loc</th><th scope=col>plot_rep</th><th scope=col>plot_num</th><th scope=col>date</th><th scope=col>subplot</th><th scope=col>groundcover_type</th><th scope=col>groundcover_pct</th></tr>\n",
              "\t<tr><th scope=col>&lt;chr&gt;</th><th scope=col>&lt;chr&gt;</th><th scope=col>&lt;chr&gt;</th><th scope=col>&lt;dbl&gt;</th><th scope=col>&lt;date&gt;</th><th scope=col>&lt;dbl&gt;</th><th scope=col>&lt;chr&gt;</th><th scope=col>&lt;int&gt;</th></tr>\n",
              "</thead>\n",
              "<tbody>\n",
              "\t<tr><td>YVP N57</td><td>N</td><td>NA</td><td>57</td><td>2018-06-08</td><td>8</td><td>BG </td><td>30</td></tr>\n",
              "\t<tr><td>YVP N57</td><td>N</td><td>NA</td><td>57</td><td>2018-06-08</td><td>8</td><td>BV </td><td> 5</td></tr>\n",
              "\t<tr><td>YVP N57</td><td>N</td><td>NA</td><td>57</td><td>2018-06-08</td><td>8</td><td>G  </td><td>40</td></tr>\n",
              "\t<tr><td>YVP N57</td><td>N</td><td>NA</td><td>57</td><td>2018-06-08</td><td>8</td><td>L  </td><td>10</td></tr>\n",
              "\t<tr><td>YVP N57</td><td>N</td><td>NA</td><td>57</td><td>2018-06-08</td><td>8</td><td>LIC</td><td> 5</td></tr>\n",
              "\t<tr><td>YVP N57</td><td>N</td><td>NA</td><td>57</td><td>2018-06-08</td><td>8</td><td>M  </td><td>NA</td></tr>\n",
              "\t<tr><td>YVP N57</td><td>N</td><td>NA</td><td>57</td><td>2018-06-08</td><td>8</td><td>R  </td><td> 5</td></tr>\n",
              "\t<tr><td>YVP N57</td><td>N</td><td>NA</td><td>57</td><td>2018-06-08</td><td>8</td><td>WD </td><td> 5</td></tr>\n",
              "</tbody>\n",
              "</table>\n"
            ]
          },
          "metadata": {
            "tags": []
          }
        }
      ]
    },
    {
      "cell_type": "code",
      "metadata": {
        "id": "f4Ux1GtQIZIx"
      },
      "source": [
        "# Missing \"M\" 'groundcover_type' add a row and set it to NA\n",
        "df <- df %>%\n",
        "  add_row(plot_code = \"YVP N57\",\n",
        "          plot_loc = as.character('N'),\n",
        "          plot_rep = NA,\n",
        "          plot_num = 57,\n",
        "          date = as.Date('2018-06-08'),\n",
        "          subplot = 8,\n",
        "          groundcover_type = \"M\",\n",
        "          groundcover_pct = NA)"
      ],
      "execution_count": null,
      "outputs": []
    },
    {
      "cell_type": "markdown",
      "metadata": {
        "id": "Dcag7wZuIoan"
      },
      "source": [
        "### 2019\tYVP 481\t1"
      ]
    },
    {
      "cell_type": "code",
      "metadata": {
        "id": "-MMhzfnrIZGE",
        "outputId": "bcc7680b-f2cc-437a-928c-58e26290e6d9",
        "colab": {
          "base_uri": "https://localhost:8080/",
          "height": 246
        }
      },
      "source": [
        "# display\n",
        "df %>%\n",
        "  filter(as.numeric(substring(date,0,4)) == 2019,\n",
        "          plot_code == 'YVP 481',\n",
        "          subplot == 1) %>%\n",
        "  arrange(groundcover_type)"
      ],
      "execution_count": null,
      "outputs": [
        {
          "output_type": "display_data",
          "data": {
            "text/plain": [
              "  plot_code plot_loc plot_rep plot_num date       subplot groundcover_type\n",
              "1 YVP 481   NA       NA       481      2019-07-15 1       BG              \n",
              "2 YVP 481   NA       NA       481      2019-07-15 1       BV              \n",
              "3 YVP 481   NA       NA       481      2019-07-15 1       G               \n",
              "4 YVP 481   NA       NA       481      2019-07-15 1       L               \n",
              "5 YVP 481   NA       NA       481      2019-07-15 1       LIC             \n",
              "6 YVP 481   NA       NA       481      2019-07-15 1       M               \n",
              "7 YVP 481   NA       NA       481      2019-07-15 1       R               \n",
              "8 YVP 481   NA       NA       481      2019-07-15 1       WD              \n",
              "  groundcover_pct\n",
              "1 NA             \n",
              "2 30             \n",
              "3  0             \n",
              "4 65             \n",
              "5  0             \n",
              "6  3             \n",
              "7  0             \n",
              "8  3             "
            ],
            "text/latex": "A data.frame: 8 × 8\n\\begin{tabular}{llllllll}\n plot\\_code & plot\\_loc & plot\\_rep & plot\\_num & date & subplot & groundcover\\_type & groundcover\\_pct\\\\\n <chr> & <chr> & <chr> & <dbl> & <date> & <dbl> & <chr> & <int>\\\\\n\\hline\n\t YVP 481 & NA & NA & 481 & 2019-07-15 & 1 & BG  & NA\\\\\n\t YVP 481 & NA & NA & 481 & 2019-07-15 & 1 & BV  & 30\\\\\n\t YVP 481 & NA & NA & 481 & 2019-07-15 & 1 & G   &  0\\\\\n\t YVP 481 & NA & NA & 481 & 2019-07-15 & 1 & L   & 65\\\\\n\t YVP 481 & NA & NA & 481 & 2019-07-15 & 1 & LIC &  0\\\\\n\t YVP 481 & NA & NA & 481 & 2019-07-15 & 1 & M   &  3\\\\\n\t YVP 481 & NA & NA & 481 & 2019-07-15 & 1 & R   &  0\\\\\n\t YVP 481 & NA & NA & 481 & 2019-07-15 & 1 & WD  &  3\\\\\n\\end{tabular}\n",
            "text/markdown": "\nA data.frame: 8 × 8\n\n| plot_code &lt;chr&gt; | plot_loc &lt;chr&gt; | plot_rep &lt;chr&gt; | plot_num &lt;dbl&gt; | date &lt;date&gt; | subplot &lt;dbl&gt; | groundcover_type &lt;chr&gt; | groundcover_pct &lt;int&gt; |\n|---|---|---|---|---|---|---|---|\n| YVP 481 | NA | NA | 481 | 2019-07-15 | 1 | BG  | NA |\n| YVP 481 | NA | NA | 481 | 2019-07-15 | 1 | BV  | 30 |\n| YVP 481 | NA | NA | 481 | 2019-07-15 | 1 | G   |  0 |\n| YVP 481 | NA | NA | 481 | 2019-07-15 | 1 | L   | 65 |\n| YVP 481 | NA | NA | 481 | 2019-07-15 | 1 | LIC |  0 |\n| YVP 481 | NA | NA | 481 | 2019-07-15 | 1 | M   |  3 |\n| YVP 481 | NA | NA | 481 | 2019-07-15 | 1 | R   |  0 |\n| YVP 481 | NA | NA | 481 | 2019-07-15 | 1 | WD  |  3 |\n\n",
            "text/html": [
              "<table>\n",
              "<caption>A data.frame: 8 × 8</caption>\n",
              "<thead>\n",
              "\t<tr><th scope=col>plot_code</th><th scope=col>plot_loc</th><th scope=col>plot_rep</th><th scope=col>plot_num</th><th scope=col>date</th><th scope=col>subplot</th><th scope=col>groundcover_type</th><th scope=col>groundcover_pct</th></tr>\n",
              "\t<tr><th scope=col>&lt;chr&gt;</th><th scope=col>&lt;chr&gt;</th><th scope=col>&lt;chr&gt;</th><th scope=col>&lt;dbl&gt;</th><th scope=col>&lt;date&gt;</th><th scope=col>&lt;dbl&gt;</th><th scope=col>&lt;chr&gt;</th><th scope=col>&lt;int&gt;</th></tr>\n",
              "</thead>\n",
              "<tbody>\n",
              "\t<tr><td>YVP 481</td><td>NA</td><td>NA</td><td>481</td><td>2019-07-15</td><td>1</td><td>BG </td><td>NA</td></tr>\n",
              "\t<tr><td>YVP 481</td><td>NA</td><td>NA</td><td>481</td><td>2019-07-15</td><td>1</td><td>BV </td><td>30</td></tr>\n",
              "\t<tr><td>YVP 481</td><td>NA</td><td>NA</td><td>481</td><td>2019-07-15</td><td>1</td><td>G  </td><td> 0</td></tr>\n",
              "\t<tr><td>YVP 481</td><td>NA</td><td>NA</td><td>481</td><td>2019-07-15</td><td>1</td><td>L  </td><td>65</td></tr>\n",
              "\t<tr><td>YVP 481</td><td>NA</td><td>NA</td><td>481</td><td>2019-07-15</td><td>1</td><td>LIC</td><td> 0</td></tr>\n",
              "\t<tr><td>YVP 481</td><td>NA</td><td>NA</td><td>481</td><td>2019-07-15</td><td>1</td><td>M  </td><td> 3</td></tr>\n",
              "\t<tr><td>YVP 481</td><td>NA</td><td>NA</td><td>481</td><td>2019-07-15</td><td>1</td><td>R  </td><td> 0</td></tr>\n",
              "\t<tr><td>YVP 481</td><td>NA</td><td>NA</td><td>481</td><td>2019-07-15</td><td>1</td><td>WD </td><td> 3</td></tr>\n",
              "</tbody>\n",
              "</table>\n"
            ]
          },
          "metadata": {
            "tags": []
          }
        }
      ]
    },
    {
      "cell_type": "code",
      "metadata": {
        "id": "FU5tv8vtIZDr"
      },
      "source": [
        "# Missing \"BG\" 'groundcover_type' add a row and set it to NA\n",
        "df <- df %>%\n",
        "  add_row(plot_code = \"YVP 481\",\n",
        "          plot_loc = NA,\n",
        "          plot_rep = NA,\n",
        "          plot_num = 481,\n",
        "          date = as.Date('2019-07-15'),\n",
        "          subplot = 1,\n",
        "          groundcover_type = \"BG\",\n",
        "          groundcover_pct = NA)"
      ],
      "execution_count": null,
      "outputs": []
    },
    {
      "cell_type": "markdown",
      "metadata": {
        "id": "w6LT5wVlJMze"
      },
      "source": [
        "# Output"
      ]
    },
    {
      "cell_type": "markdown",
      "metadata": {
        "id": "FgJ_pbVf7-v_"
      },
      "source": [
        "## All data for upload to BQ"
      ]
    },
    {
      "cell_type": "code",
      "metadata": {
        "id": "V91pPdEA39qv",
        "outputId": "3dd0336f-2b81-4c6a-eaa6-67bc554fef58",
        "colab": {
          "base_uri": "https://localhost:8080/",
          "height": 289
        }
      },
      "source": [
        "summary(df)"
      ],
      "execution_count": null,
      "outputs": [
        {
          "output_type": "display_data",
          "data": {
            "text/plain": [
              "  plot_code           plot_loc           plot_rep            plot_num    \n",
              " Length:13920       Length:13920       Length:13920       Min.   :  7.0  \n",
              " Class :character   Class :character   Class :character   1st Qu.:110.0  \n",
              " Mode  :character   Mode  :character   Mode  :character   Median :212.5  \n",
              "                                                          Mean   :254.3  \n",
              "                                                          3rd Qu.:395.0  \n",
              "                                                          Max.   :571.0  \n",
              "                                                                         \n",
              "      date               subplot     groundcover_type   groundcover_pct\n",
              " Min.   :2017-05-08   Min.   : 1.0   Length:13920       Min.   : 0.00  \n",
              " 1st Qu.:2017-06-06   1st Qu.: 3.0   Class :character   1st Qu.: 0.00  \n",
              " Median :2018-06-17   Median : 5.5   Mode  :character   Median : 5.00  \n",
              " Mean   :2018-06-08   Mean   : 5.5                      Mean   :12.65  \n",
              " 3rd Qu.:2019-05-27   3rd Qu.: 8.0                      3rd Qu.:20.00  \n",
              " Max.   :2019-07-16   Max.   :10.0                      Max.   :95.00  \n",
              "                                                        NA's   :9      "
            ]
          },
          "metadata": {
            "tags": []
          }
        }
      ]
    },
    {
      "cell_type": "code",
      "metadata": {
        "id": "mFNBEO79IZBJ",
        "outputId": "f38ec590-b50a-48dc-8bf5-61ee805454a4",
        "colab": {
          "base_uri": "https://localhost:8080/",
          "height": 51
        }
      },
      "source": [
        "filename_final = \"yvp_ground_cover_FINAL.csv\"\n",
        "\n",
        "if (filename_final %in% list.files(getwd())) {\n",
        "  cat(\"file already exists in working directory:\", filename_final, \"\\n\", \"working directory:\", getwd(), \"\\n\")\n",
        "} else {\n",
        "  write.csv(df, filename_final)\n",
        "  cat(filename_final, \"written to working directory \\n\", \"working directory:\", getwd(), \"\\n\")\n",
        "}"
      ],
      "execution_count": null,
      "outputs": [
        {
          "output_type": "stream",
          "text": [
            "yvp_ground_cover_FINAL.csv written to working directory \n",
            " working directory: /content \n"
          ],
          "name": "stdout"
        }
      ]
    },
    {
      "cell_type": "markdown",
      "metadata": {
        "id": "l7yJB_-a8EMu"
      },
      "source": [
        "## Export field datasheet version\n",
        "Field datasheets need to have all levels of `groundcover_type` represented for each subplot, with `groundcover_pct` set to zero for each row. This allows field techs to change the 0 to some number depending on their observations. The date column is blank so that field techs can fill in the appropriate date. Do not include columns that are needed for data analysis, like plot_loc, plot_rep, plot_num, and species_key. \n",
        "\n",
        "**Schema for field data sheet**\n",
        "\n",
        "* plot_num (helps for sorting and finding plots)\n",
        "* plot_code\n",
        "* date\n",
        "* subplot\n",
        "* groundcover_type\n",
        "* groundcover_pct"
      ]
    },
    {
      "cell_type": "code",
      "metadata": {
        "id": "gwLOc-z59O_a",
        "outputId": "6f363197-c739-4cd9-9a2e-75b1dc49343b",
        "colab": {
          "base_uri": "https://localhost:8080/",
          "height": 170
        }
      },
      "source": [
        "field_datasheet = \n",
        "df %>% \n",
        "select(plot_num, plot_code, subplot, groundcover_type) %>% \n",
        "group_by(plot_num, plot_code, subplot) %>% \n",
        "distinct(groundcover_type) %>% \n",
        "select(-groundcover_type, groundcover_type) %>% \n",
        "add_column(date = NA, .after = \"plot_code\") %>% \n",
        "add_column(groundcover_pct = 0) %>% \n",
        "arrange(plot_num, plot_code, subplot, groundcover_type) %>% \n",
        "glimpse()"
      ],
      "execution_count": null,
      "outputs": [
        {
          "output_type": "stream",
          "text": [
            "Rows: 4,640\n",
            "Columns: 6\n",
            "Groups: plot_num, plot_code, subplot [580]\n",
            "$ plot_num         \u001b[3m\u001b[90m<dbl>\u001b[39m\u001b[23m 7, 7, 7, 7, 7, 7, 7, 7, 7, 7, 7, 7, 7, 7, 7, 7, 7, 7…\n",
            "$ plot_code        \u001b[3m\u001b[90m<chr>\u001b[39m\u001b[23m \"YVP N7\", \"YVP N7\", \"YVP N7\", \"YVP N7\", \"YVP N7\", \"Y…\n",
            "$ date             \u001b[3m\u001b[90m<lgl>\u001b[39m\u001b[23m NA, NA, NA, NA, NA, NA, NA, NA, NA, NA, NA, NA, NA, …\n",
            "$ subplot          \u001b[3m\u001b[90m<dbl>\u001b[39m\u001b[23m 1, 1, 1, 1, 1, 1, 1, 1, 2, 2, 2, 2, 2, 2, 2, 2, 3, 3…\n",
            "$ groundcover_type \u001b[3m\u001b[90m<chr>\u001b[39m\u001b[23m \"BG\", \"BV\", \"G\", \"L\", \"LIC\", \"M\", \"R\", \"WD\", \"BG\", \"…\n",
            "$ groundcover_pct  \u001b[3m\u001b[90m<dbl>\u001b[39m\u001b[23m 0, 0, 0, 0, 0, 0, 0, 0, 0, 0, 0, 0, 0, 0, 0, 0, 0, 0…\n"
          ],
          "name": "stdout"
        }
      ]
    },
    {
      "cell_type": "code",
      "metadata": {
        "id": "sCNA4k789r2j",
        "outputId": "6f6ebed9-35ed-4630-c5a3-806e6a939502",
        "colab": {
          "base_uri": "https://localhost:8080/",
          "height": 51
        }
      },
      "source": [
        "filename_field_datasheet = \"yvp_ground_cover_field_datasheet_FINAL.csv\"\n",
        "\n",
        "if (filename_field_datasheet %in% list.files(getwd())) {\n",
        "  cat(\"file already exists in working directory:\", filename_final, \"\\n\", \"working directory:\", getwd(), \"\\n\")\n",
        "} else {\n",
        "  write.csv(field_datasheet, filename_field_datasheet)\n",
        "  cat(filename_final, \"written to working directory \\n\", \"working directory:\", getwd(), \"\\n\")\n",
        "}"
      ],
      "execution_count": null,
      "outputs": [
        {
          "output_type": "stream",
          "text": [
            "yvp_ground_cover_FINAL.csv written to working directory \n",
            " working directory: /content \n"
          ],
          "name": "stdout"
        }
      ]
    }
  ]
}