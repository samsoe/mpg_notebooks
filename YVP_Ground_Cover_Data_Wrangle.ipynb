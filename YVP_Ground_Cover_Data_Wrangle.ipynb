{
  "nbformat": 4,
  "nbformat_minor": 0,
  "metadata": {
    "colab": {
      "name": "YVP - Ground Cover Data - Wrangle.ipynb",
      "provenance": [],
      "collapsed_sections": [],
      "authorship_tag": "ABX9TyPewNgI2mxCw4YAj32yxjR2",
      "include_colab_link": true
    },
    "kernelspec": {
      "name": "ir",
      "display_name": "R"
    }
  },
  "cells": [
    {
      "cell_type": "markdown",
      "metadata": {
        "id": "view-in-github",
        "colab_type": "text"
      },
      "source": [
        "<a href=\"https://colab.research.google.com/github/samsoe/mpg_notebooks/blob/master/YVP_Ground_Cover_Data_Wrangle.ipynb\" target=\"_parent\"><img src=\"https://colab.research.google.com/assets/colab-badge.svg\" alt=\"Open In Colab\"/></a>"
      ]
    },
    {
      "cell_type": "markdown",
      "metadata": {
        "id": "grC8Ddy3ldae",
        "colab_type": "text"
      },
      "source": [
        "*R Notebook*"
      ]
    },
    {
      "cell_type": "markdown",
      "metadata": {
        "id": "7T3HmftDlixE",
        "colab_type": "text"
      },
      "source": [
        "# README"
      ]
    },
    {
      "cell_type": "markdown",
      "metadata": {
        "id": "OXXTPRr6llWt",
        "colab_type": "text"
      },
      "source": [
        "* Readme fixed plot vegetation data - [Ground Cover Data](https://docs.google.com/document/d/16-Aq8u9Rudd78fSzfjvpCXyQgE-BstC-d2PjYfmLtcw/edit#heading=h.a2v9q2quarai)"
      ]
    },
    {
      "cell_type": "markdown",
      "metadata": {
        "id": "bHYYw4xEmAqY",
        "colab_type": "text"
      },
      "source": [
        "# Load Tools"
      ]
    },
    {
      "cell_type": "code",
      "metadata": {
        "id": "GWJnfQK8mCfS",
        "colab_type": "code",
        "colab": {
          "base_uri": "https://localhost:8080/",
          "height": 204
        },
        "outputId": "cc3e0d11-d849-4fd8-ebe2-d4f11ef35220"
      },
      "source": [
        "library(tidyverse)"
      ],
      "execution_count": 1,
      "outputs": [
        {
          "output_type": "stream",
          "text": [
            "── \u001b[1mAttaching packages\u001b[22m ─────────────────────────────────────── tidyverse 1.3.0 ──\n",
            "\n",
            "\u001b[32m✔\u001b[39m \u001b[34mggplot2\u001b[39m 3.3.0     \u001b[32m✔\u001b[39m \u001b[34mpurrr  \u001b[39m 0.3.3\n",
            "\u001b[32m✔\u001b[39m \u001b[34mtibble \u001b[39m 3.0.0     \u001b[32m✔\u001b[39m \u001b[34mdplyr  \u001b[39m 0.8.5\n",
            "\u001b[32m✔\u001b[39m \u001b[34mtidyr  \u001b[39m 1.0.2     \u001b[32m✔\u001b[39m \u001b[34mstringr\u001b[39m 1.4.0\n",
            "\u001b[32m✔\u001b[39m \u001b[34mreadr  \u001b[39m 1.3.1     \u001b[32m✔\u001b[39m \u001b[34mforcats\u001b[39m 0.5.0\n",
            "\n",
            "── \u001b[1mConflicts\u001b[22m ────────────────────────────────────────── tidyverse_conflicts() ──\n",
            "\u001b[31m✖\u001b[39m \u001b[34mdplyr\u001b[39m::\u001b[32mfilter()\u001b[39m masks \u001b[34mstats\u001b[39m::filter()\n",
            "\u001b[31m✖\u001b[39m \u001b[34mdplyr\u001b[39m::\u001b[32mlag()\u001b[39m    masks \u001b[34mstats\u001b[39m::lag()\n",
            "\n"
          ],
          "name": "stderr"
        }
      ]
    },
    {
      "cell_type": "markdown",
      "metadata": {
        "id": "RKBdNw56BzwD",
        "colab_type": "text"
      },
      "source": [
        "# Source"
      ]
    },
    {
      "cell_type": "code",
      "metadata": {
        "id": "IWECZhebmKdk",
        "colab_type": "code",
        "colab": {}
      },
      "source": [
        "# '2020-04-28_yvp_ground_cover.csv'\n",
        "src = 'https://drive.google.com/uc?id=1JXlFaVP1UxuKmnHju8r6T-8ssrPYO9dV'"
      ],
      "execution_count": 0,
      "outputs": []
    },
    {
      "cell_type": "code",
      "metadata": {
        "id": "2M7BaocmmMTu",
        "colab_type": "code",
        "colab": {}
      },
      "source": [
        "df <- read.csv(file = src)"
      ],
      "execution_count": 0,
      "outputs": []
    },
    {
      "cell_type": "code",
      "metadata": {
        "id": "7aHyJ4cYmYi2",
        "colab_type": "code",
        "outputId": "afe038ba-d100-4d91-edbb-4890d542e146",
        "colab": {
          "base_uri": "https://localhost:8080/",
          "height": 120
        }
      },
      "source": [
        "head(df, n=2)"
      ],
      "execution_count": 47,
      "outputs": [
        {
          "output_type": "display_data",
          "data": {
            "text/plain": [
              "  plot_code date       subplot groundcover_type groundcover_pct\n",
              "1 YVP 10    2017-06-09 1       BG                1             \n",
              "2 YVP 10    2017-06-09 1       BV               80             "
            ],
            "text/latex": "A data.frame: 2 × 5\n\\begin{tabular}{r|lllll}\n  & plot\\_code & date & subplot & groundcover\\_type & groundcover\\_pct\\\\\n  & <fct> & <fct> & <int> & <fct> & <int>\\\\\n\\hline\n\t1 & YVP 10 & 2017-06-09 & 1 & BG &  1\\\\\n\t2 & YVP 10 & 2017-06-09 & 1 & BV & 80\\\\\n\\end{tabular}\n",
            "text/markdown": "\nA data.frame: 2 × 5\n\n| <!--/--> | plot_code &lt;fct&gt; | date &lt;fct&gt; | subplot &lt;int&gt; | groundcover_type &lt;fct&gt; | groundcover_pct &lt;int&gt; |\n|---|---|---|---|---|---|\n| 1 | YVP 10 | 2017-06-09 | 1 | BG |  1 |\n| 2 | YVP 10 | 2017-06-09 | 1 | BV | 80 |\n\n",
            "text/html": [
              "<table>\n",
              "<caption>A data.frame: 2 × 5</caption>\n",
              "<thead>\n",
              "\t<tr><th></th><th scope=col>plot_code</th><th scope=col>date</th><th scope=col>subplot</th><th scope=col>groundcover_type</th><th scope=col>groundcover_pct</th></tr>\n",
              "\t<tr><th></th><th scope=col>&lt;fct&gt;</th><th scope=col>&lt;fct&gt;</th><th scope=col>&lt;int&gt;</th><th scope=col>&lt;fct&gt;</th><th scope=col>&lt;int&gt;</th></tr>\n",
              "</thead>\n",
              "<tbody>\n",
              "\t<tr><th scope=row>1</th><td>YVP 10</td><td>2017-06-09</td><td>1</td><td>BG</td><td> 1</td></tr>\n",
              "\t<tr><th scope=row>2</th><td>YVP 10</td><td>2017-06-09</td><td>1</td><td>BV</td><td>80</td></tr>\n",
              "</tbody>\n",
              "</table>\n"
            ]
          },
          "metadata": {
            "tags": []
          }
        }
      ]
    },
    {
      "cell_type": "markdown",
      "metadata": {
        "id": "GDjcfb4nmbZC",
        "colab_type": "text"
      },
      "source": [
        "# Wrangle"
      ]
    },
    {
      "cell_type": "markdown",
      "metadata": {
        "id": "dkKWzfnYmvRQ",
        "colab_type": "text"
      },
      "source": [
        "## Structure Columns"
      ]
    },
    {
      "cell_type": "markdown",
      "metadata": {
        "id": "cnZKobd5zkO1",
        "colab_type": "text"
      },
      "source": [
        "### plot_code"
      ]
    },
    {
      "cell_type": "code",
      "metadata": {
        "id": "0xZaYY5EmZk2",
        "colab_type": "code",
        "colab": {}
      },
      "source": [
        "# convert to string\n",
        "df$plot_code <- as.character(df$plot_code)"
      ],
      "execution_count": 0,
      "outputs": []
    },
    {
      "cell_type": "markdown",
      "metadata": {
        "id": "URHj0b3qzrfY",
        "colab_type": "text"
      },
      "source": [
        "### plot_loc"
      ]
    },
    {
      "cell_type": "code",
      "metadata": {
        "id": "xMRoS1PNzui9",
        "colab_type": "code",
        "colab": {}
      },
      "source": [
        "# detect \"N\" in 'plot_code' and write to new column 'plot_loc'\n",
        "df <- df %>%\n",
        "  mutate(plot_loc = ifelse(str_detect(plot_code, \"N\"), \"N\", NA))"
      ],
      "execution_count": 0,
      "outputs": []
    },
    {
      "cell_type": "code",
      "metadata": {
        "id": "UaXQkyBnzxLW",
        "colab_type": "code",
        "colab": {}
      },
      "source": [
        "# strip \"N\" from 'plot_code' if present\n",
        "df$plot_code <- str_remove(df$plot_code, \"N\")"
      ],
      "execution_count": 0,
      "outputs": []
    },
    {
      "cell_type": "code",
      "metadata": {
        "id": "v_MeQR3szxIY",
        "colab_type": "code",
        "colab": {}
      },
      "source": [
        "# reorder columns\n",
        "df <- df[, c(1,6,2,3,4,5)]"
      ],
      "execution_count": 0,
      "outputs": []
    },
    {
      "cell_type": "markdown",
      "metadata": {
        "id": "s5oH3jj00fI-",
        "colab_type": "text"
      },
      "source": [
        "### plot_rep"
      ]
    },
    {
      "cell_type": "code",
      "metadata": {
        "id": "cRIU7xC0zxCE",
        "colab_type": "code",
        "colab": {}
      },
      "source": [
        "# detect \"A\", \"B\", \"C\" characters in plot_code and if present write to 'plot_rep'\n",
        "df <- df %>%\n",
        "  mutate(plot_rep = case_when(str_detect(plot_code, \"A\")~\"A\",\n",
        "                              str_detect(plot_code, \"B\")~\"B\",\n",
        "                              str_detect(plot_code, \"C\")~\"C\"))"
      ],
      "execution_count": 0,
      "outputs": []
    },
    {
      "cell_type": "code",
      "metadata": {
        "id": "VE0YrqP3zw_D",
        "colab_type": "code",
        "colab": {}
      },
      "source": [
        "# strip \"A\", \"B\", \"C\" from plot_code\n",
        "df$plot_code <- str_remove(df$plot_code, \"[ABC]\")"
      ],
      "execution_count": 0,
      "outputs": []
    },
    {
      "cell_type": "code",
      "metadata": {
        "id": "30GRRwr41Yzy",
        "colab_type": "code",
        "colab": {}
      },
      "source": [
        "# reorder columns\n",
        "df <- df[,c(1,2,7,3,4,5,6)]"
      ],
      "execution_count": 0,
      "outputs": []
    },
    {
      "cell_type": "markdown",
      "metadata": {
        "id": "taGZwVa32M6H",
        "colab_type": "text"
      },
      "source": [
        "### plot_num"
      ]
    },
    {
      "cell_type": "code",
      "metadata": {
        "id": "w6kxIl9i1Yw7",
        "colab_type": "code",
        "colab": {}
      },
      "source": [
        "# use digital values from 'plot_code' and to populate 'plot_num'\n",
        "df <- df %>%\n",
        "  mutate(plot_num = str_extract(plot_code, \"[:digit:].*\"))"
      ],
      "execution_count": 0,
      "outputs": []
    },
    {
      "cell_type": "code",
      "metadata": {
        "id": "HwTQh_jq2Pz0",
        "colab_type": "code",
        "colab": {}
      },
      "source": [
        "# reorder columns\n",
        "df <- df[,c(1,2,3,8,4,5,6,7)]"
      ],
      "execution_count": 0,
      "outputs": []
    },
    {
      "cell_type": "markdown",
      "metadata": {
        "id": "WFY5t7dUzyJW",
        "colab_type": "text"
      },
      "source": [
        "### date"
      ]
    },
    {
      "cell_type": "code",
      "metadata": {
        "id": "E5hYwfMHmtjH",
        "colab_type": "code",
        "colab": {}
      },
      "source": [
        "# convert to date\n",
        "df$date <- as.Date(df$date)"
      ],
      "execution_count": 0,
      "outputs": []
    },
    {
      "cell_type": "markdown",
      "metadata": {
        "id": "R91aHzc_2bzf",
        "colab_type": "text"
      },
      "source": [
        "### subplot"
      ]
    },
    {
      "cell_type": "code",
      "metadata": {
        "id": "IdYj2GWz2bn0",
        "colab_type": "code",
        "colab": {
          "base_uri": "https://localhost:8080/",
          "height": 34
        },
        "outputId": "86bb4edb-887b-4906-c929-4faa91d02e1e"
      },
      "source": [
        "typeof(df$subplot)"
      ],
      "execution_count": 66,
      "outputs": [
        {
          "output_type": "display_data",
          "data": {
            "text/plain": [
              "[1] \"integer\""
            ],
            "text/latex": "'integer'",
            "text/markdown": "'integer'",
            "text/html": [
              "'integer'"
            ]
          },
          "metadata": {
            "tags": []
          }
        }
      ]
    },
    {
      "cell_type": "markdown",
      "metadata": {
        "id": "oGl3u_4z2tVZ",
        "colab_type": "text"
      },
      "source": [
        "### groundcover_type"
      ]
    },
    {
      "cell_type": "code",
      "metadata": {
        "id": "WYNDY72c2soE",
        "colab_type": "code",
        "colab": {}
      },
      "source": [
        "# convert to string\n",
        "df$groundcover_type <- as.character(df$groundcover_type)"
      ],
      "execution_count": 0,
      "outputs": []
    },
    {
      "cell_type": "markdown",
      "metadata": {
        "id": "A3sTr4Sl3Cur",
        "colab_type": "text"
      },
      "source": [
        "### groundcover_pct"
      ]
    },
    {
      "cell_type": "code",
      "metadata": {
        "id": "509hIDtl2blP",
        "colab_type": "code",
        "colab": {
          "base_uri": "https://localhost:8080/",
          "height": 34
        },
        "outputId": "8adec691-43f1-4359-994a-0c5e9f9a2c1e"
      },
      "source": [
        "typeof(df$groundcover_pct)"
      ],
      "execution_count": 72,
      "outputs": [
        {
          "output_type": "display_data",
          "data": {
            "text/plain": [
              "[1] \"integer\""
            ],
            "text/latex": "'integer'",
            "text/markdown": "'integer'",
            "text/html": [
              "'integer'"
            ]
          },
          "metadata": {
            "tags": []
          }
        }
      ]
    },
    {
      "cell_type": "markdown",
      "metadata": {
        "id": "DSl4q882qvNG",
        "colab_type": "text"
      },
      "source": [
        "## Review 'groundcover_type' levels"
      ]
    },
    {
      "cell_type": "markdown",
      "metadata": {
        "id": "bmmXQbK1qzR8",
        "colab_type": "text"
      },
      "source": [
        "Make sure that all levels of `groundcover_type` are present in each subplot of the data sheet (this is important for data collection)"
      ]
    },
    {
      "cell_type": "code",
      "metadata": {
        "id": "lzB8jAVOqry-",
        "colab_type": "code",
        "outputId": "beda7ba0-4579-4343-d752-0c869030536f",
        "colab": {
          "base_uri": "https://localhost:8080/",
          "height": 204
        }
      },
      "source": [
        "head(df)"
      ],
      "execution_count": 74,
      "outputs": [
        {
          "output_type": "display_data",
          "data": {
            "text/plain": [
              "  plot_code plot_loc plot_rep plot_num date       subplot groundcover_type\n",
              "1 YVP 10    NA       NA       10       2017-06-09 1       BG              \n",
              "2 YVP 10    NA       NA       10       2017-06-09 1       BV              \n",
              "3 YVP 10    NA       NA       10       2017-06-09 1       L               \n",
              "4 YVP 10    NA       NA       10       2017-06-09 1       WD              \n",
              "5 YVP 10    NA       NA       10       2017-06-09 1       M               \n",
              "6 YVP 10    NA       NA       10       2017-06-09 1       LIC             \n",
              "  groundcover_pct\n",
              "1  1             \n",
              "2 80             \n",
              "3 10             \n",
              "4  0             \n",
              "5  5             \n",
              "6  4             "
            ],
            "text/latex": "A data.frame: 6 × 8\n\\begin{tabular}{r|llllllll}\n  & plot\\_code & plot\\_loc & plot\\_rep & plot\\_num & date & subplot & groundcover\\_type & groundcover\\_pct\\\\\n  & <chr> & <chr> & <chr> & <chr> & <date> & <int> & <chr> & <int>\\\\\n\\hline\n\t1 & YVP 10 & NA & NA & 10 & 2017-06-09 & 1 & BG  &  1\\\\\n\t2 & YVP 10 & NA & NA & 10 & 2017-06-09 & 1 & BV  & 80\\\\\n\t3 & YVP 10 & NA & NA & 10 & 2017-06-09 & 1 & L   & 10\\\\\n\t4 & YVP 10 & NA & NA & 10 & 2017-06-09 & 1 & WD  &  0\\\\\n\t5 & YVP 10 & NA & NA & 10 & 2017-06-09 & 1 & M   &  5\\\\\n\t6 & YVP 10 & NA & NA & 10 & 2017-06-09 & 1 & LIC &  4\\\\\n\\end{tabular}\n",
            "text/markdown": "\nA data.frame: 6 × 8\n\n| <!--/--> | plot_code &lt;chr&gt; | plot_loc &lt;chr&gt; | plot_rep &lt;chr&gt; | plot_num &lt;chr&gt; | date &lt;date&gt; | subplot &lt;int&gt; | groundcover_type &lt;chr&gt; | groundcover_pct &lt;int&gt; |\n|---|---|---|---|---|---|---|---|---|\n| 1 | YVP 10 | NA | NA | 10 | 2017-06-09 | 1 | BG  |  1 |\n| 2 | YVP 10 | NA | NA | 10 | 2017-06-09 | 1 | BV  | 80 |\n| 3 | YVP 10 | NA | NA | 10 | 2017-06-09 | 1 | L   | 10 |\n| 4 | YVP 10 | NA | NA | 10 | 2017-06-09 | 1 | WD  |  0 |\n| 5 | YVP 10 | NA | NA | 10 | 2017-06-09 | 1 | M   |  5 |\n| 6 | YVP 10 | NA | NA | 10 | 2017-06-09 | 1 | LIC |  4 |\n\n",
            "text/html": [
              "<table>\n",
              "<caption>A data.frame: 6 × 8</caption>\n",
              "<thead>\n",
              "\t<tr><th></th><th scope=col>plot_code</th><th scope=col>plot_loc</th><th scope=col>plot_rep</th><th scope=col>plot_num</th><th scope=col>date</th><th scope=col>subplot</th><th scope=col>groundcover_type</th><th scope=col>groundcover_pct</th></tr>\n",
              "\t<tr><th></th><th scope=col>&lt;chr&gt;</th><th scope=col>&lt;chr&gt;</th><th scope=col>&lt;chr&gt;</th><th scope=col>&lt;chr&gt;</th><th scope=col>&lt;date&gt;</th><th scope=col>&lt;int&gt;</th><th scope=col>&lt;chr&gt;</th><th scope=col>&lt;int&gt;</th></tr>\n",
              "</thead>\n",
              "<tbody>\n",
              "\t<tr><th scope=row>1</th><td>YVP 10</td><td>NA</td><td>NA</td><td>10</td><td>2017-06-09</td><td>1</td><td>BG </td><td> 1</td></tr>\n",
              "\t<tr><th scope=row>2</th><td>YVP 10</td><td>NA</td><td>NA</td><td>10</td><td>2017-06-09</td><td>1</td><td>BV </td><td>80</td></tr>\n",
              "\t<tr><th scope=row>3</th><td>YVP 10</td><td>NA</td><td>NA</td><td>10</td><td>2017-06-09</td><td>1</td><td>L  </td><td>10</td></tr>\n",
              "\t<tr><th scope=row>4</th><td>YVP 10</td><td>NA</td><td>NA</td><td>10</td><td>2017-06-09</td><td>1</td><td>WD </td><td> 0</td></tr>\n",
              "\t<tr><th scope=row>5</th><td>YVP 10</td><td>NA</td><td>NA</td><td>10</td><td>2017-06-09</td><td>1</td><td>M  </td><td> 5</td></tr>\n",
              "\t<tr><th scope=row>6</th><td>YVP 10</td><td>NA</td><td>NA</td><td>10</td><td>2017-06-09</td><td>1</td><td>LIC</td><td> 4</td></tr>\n",
              "</tbody>\n",
              "</table>\n"
            ]
          },
          "metadata": {
            "tags": []
          }
        }
      ]
    },
    {
      "cell_type": "code",
      "metadata": {
        "id": "ZUr8awGkrFCv",
        "colab_type": "code",
        "outputId": "a997b36a-0134-4ca1-aae1-d1a0193e72b7",
        "colab": {
          "base_uri": "https://localhost:8080/",
          "height": 246
        }
      },
      "source": [
        "# display distinct 'groundcover_type' for reference\n",
        "df %>%\n",
        "  distinct(groundcover_type) %>%\n",
        "  arrange(groundcover_type)"
      ],
      "execution_count": 75,
      "outputs": [
        {
          "output_type": "display_data",
          "data": {
            "text/plain": [
              "  groundcover_type\n",
              "1 BG              \n",
              "2 BV              \n",
              "3 G               \n",
              "4 L               \n",
              "5 LIC             \n",
              "6 M               \n",
              "7 R               \n",
              "8 WD              "
            ],
            "text/latex": "A data.frame: 8 × 1\n\\begin{tabular}{l}\n groundcover\\_type\\\\\n <chr>\\\\\n\\hline\n\t BG \\\\\n\t BV \\\\\n\t G  \\\\\n\t L  \\\\\n\t LIC\\\\\n\t M  \\\\\n\t R  \\\\\n\t WD \\\\\n\\end{tabular}\n",
            "text/markdown": "\nA data.frame: 8 × 1\n\n| groundcover_type &lt;chr&gt; |\n|---|\n| BG  |\n| BV  |\n| G   |\n| L   |\n| LIC |\n| M   |\n| R   |\n| WD  |\n\n",
            "text/html": [
              "<table>\n",
              "<caption>A data.frame: 8 × 1</caption>\n",
              "<thead>\n",
              "\t<tr><th scope=col>groundcover_type</th></tr>\n",
              "\t<tr><th scope=col>&lt;chr&gt;</th></tr>\n",
              "</thead>\n",
              "<tbody>\n",
              "\t<tr><td>BG </td></tr>\n",
              "\t<tr><td>BV </td></tr>\n",
              "\t<tr><td>G  </td></tr>\n",
              "\t<tr><td>L  </td></tr>\n",
              "\t<tr><td>LIC</td></tr>\n",
              "\t<tr><td>M  </td></tr>\n",
              "\t<tr><td>R  </td></tr>\n",
              "\t<tr><td>WD </td></tr>\n",
              "</tbody>\n",
              "</table>\n"
            ]
          },
          "metadata": {
            "tags": []
          }
        }
      ]
    },
    {
      "cell_type": "code",
      "metadata": {
        "id": "YDQ9WxDhsEwO",
        "colab_type": "code",
        "colab": {}
      },
      "source": [
        "groundcover_counts <- df %>%\n",
        "  group_by(year = as.numeric(substring(date,0,4)), plot_code, subplot) %>%\n",
        "  arrange(year, plot_code, subplot, groundcover_type) %>%\n",
        "  summarize(groundcover_type_counted = n())"
      ],
      "execution_count": 0,
      "outputs": []
    },
    {
      "cell_type": "code",
      "metadata": {
        "id": "RVdl-1_isOjm",
        "colab_type": "code",
        "outputId": "518f5ce4-6502-4863-c822-a367c91dce4a",
        "colab": {
          "base_uri": "https://localhost:8080/",
          "height": 204
        }
      },
      "source": [
        "head(groundcover_counts)"
      ],
      "execution_count": 77,
      "outputs": [
        {
          "output_type": "display_data",
          "data": {
            "text/plain": [
              "  year plot_code subplot groundcover_type_counted\n",
              "1 2017 YVP 10    1       8                       \n",
              "2 2017 YVP 10    2       8                       \n",
              "3 2017 YVP 10    3       8                       \n",
              "4 2017 YVP 10    4       8                       \n",
              "5 2017 YVP 10    5       8                       \n",
              "6 2017 YVP 10    6       8                       "
            ],
            "text/latex": "A grouped\\_df: 6 × 4\n\\begin{tabular}{llll}\n year & plot\\_code & subplot & groundcover\\_type\\_counted\\\\\n <dbl> & <chr> & <int> & <int>\\\\\n\\hline\n\t 2017 & YVP 10 & 1 & 8\\\\\n\t 2017 & YVP 10 & 2 & 8\\\\\n\t 2017 & YVP 10 & 3 & 8\\\\\n\t 2017 & YVP 10 & 4 & 8\\\\\n\t 2017 & YVP 10 & 5 & 8\\\\\n\t 2017 & YVP 10 & 6 & 8\\\\\n\\end{tabular}\n",
            "text/markdown": "\nA grouped_df: 6 × 4\n\n| year &lt;dbl&gt; | plot_code &lt;chr&gt; | subplot &lt;int&gt; | groundcover_type_counted &lt;int&gt; |\n|---|---|---|---|\n| 2017 | YVP 10 | 1 | 8 |\n| 2017 | YVP 10 | 2 | 8 |\n| 2017 | YVP 10 | 3 | 8 |\n| 2017 | YVP 10 | 4 | 8 |\n| 2017 | YVP 10 | 5 | 8 |\n| 2017 | YVP 10 | 6 | 8 |\n\n",
            "text/html": [
              "<table>\n",
              "<caption>A grouped_df: 6 × 4</caption>\n",
              "<thead>\n",
              "\t<tr><th scope=col>year</th><th scope=col>plot_code</th><th scope=col>subplot</th><th scope=col>groundcover_type_counted</th></tr>\n",
              "\t<tr><th scope=col>&lt;dbl&gt;</th><th scope=col>&lt;chr&gt;</th><th scope=col>&lt;int&gt;</th><th scope=col>&lt;int&gt;</th></tr>\n",
              "</thead>\n",
              "<tbody>\n",
              "\t<tr><td>2017</td><td>YVP 10</td><td>1</td><td>8</td></tr>\n",
              "\t<tr><td>2017</td><td>YVP 10</td><td>2</td><td>8</td></tr>\n",
              "\t<tr><td>2017</td><td>YVP 10</td><td>3</td><td>8</td></tr>\n",
              "\t<tr><td>2017</td><td>YVP 10</td><td>4</td><td>8</td></tr>\n",
              "\t<tr><td>2017</td><td>YVP 10</td><td>5</td><td>8</td></tr>\n",
              "\t<tr><td>2017</td><td>YVP 10</td><td>6</td><td>8</td></tr>\n",
              "</tbody>\n",
              "</table>\n"
            ]
          },
          "metadata": {
            "tags": []
          }
        }
      ]
    },
    {
      "cell_type": "code",
      "metadata": {
        "id": "rqFVfB8atzCZ",
        "colab_type": "code",
        "outputId": "6a2b8d6e-4443-407a-c06b-958993035147",
        "colab": {
          "base_uri": "https://localhost:8080/",
          "height": 34
        }
      },
      "source": [
        "unique(groundcover_counts$groundcover_type_counted)"
      ],
      "execution_count": 78,
      "outputs": [
        {
          "output_type": "display_data",
          "data": {
            "text/plain": [
              "[1]  8 16 24  7  9"
            ],
            "text/latex": "\\begin{enumerate*}\n\\item 8\n\\item 16\n\\item 24\n\\item 7\n\\item 9\n\\end{enumerate*}\n",
            "text/markdown": "1. 8\n2. 16\n3. 24\n4. 7\n5. 9\n\n\n",
            "text/html": [
              "<style>\n",
              ".list-inline {list-style: none; margin:0; padding: 0}\n",
              ".list-inline>li {display: inline-block}\n",
              ".list-inline>li:not(:last-child)::after {content: \"\\00b7\"; padding: 0 .5ex}\n",
              "</style>\n",
              "<ol class=list-inline><li>8</li><li>16</li><li>24</li><li>7</li><li>9</li></ol>\n"
            ]
          },
          "metadata": {
            "tags": []
          }
        }
      ]
    },
    {
      "cell_type": "code",
      "metadata": {
        "id": "rqMlU4AfuKfB",
        "colab_type": "code",
        "outputId": "fd6e0c2f-08fd-452d-e6ba-907276253a53",
        "colab": {
          "base_uri": "https://localhost:8080/",
          "height": 1000
        }
      },
      "source": [
        "groundcover_counts %>%\n",
        "  filter(groundcover_type_counted != 8) %>%\n",
        "  arrange(groundcover_type_counted, year)"
      ],
      "execution_count": 79,
      "outputs": [
        {
          "output_type": "display_data",
          "data": {
            "text/plain": [
              "   year plot_code subplot groundcover_type_counted\n",
              "1  2017 YVP 355    1       7                      \n",
              "2  2017 YVP 481    1       7                      \n",
              "3  2018 YVP 278    5       7                      \n",
              "4  2018 YVP 57     8       7                      \n",
              "5  2019 YVP 481    1       7                      \n",
              "6  2018 YVP 278    6       9                      \n",
              "7  2018 YVP 57     2       9                      \n",
              "8  2017 YVP 292    1      16                      \n",
              "9  2017 YVP 292    2      16                      \n",
              "10 2017 YVP 292    3      16                      \n",
              "11 2017 YVP 292    4      16                      \n",
              "12 2017 YVP 292    5      16                      \n",
              "13 2017 YVP 292    6      16                      \n",
              "14 2017 YVP 292    7      16                      \n",
              "15 2017 YVP 292    8      16                      \n",
              "16 2017 YVP 292    9      16                      \n",
              "17 2017 YVP 292   10      16                      \n",
              "18 2018 YVP 292    1      16                      \n",
              "19 2018 YVP 292    2      16                      \n",
              "20 2018 YVP 292    3      16                      \n",
              "21 2018 YVP 292    4      16                      \n",
              "22 2018 YVP 292    5      16                      \n",
              "23 2018 YVP 292    6      16                      \n",
              "24 2018 YVP 292    7      16                      \n",
              "25 2018 YVP 292    8      16                      \n",
              "26 2018 YVP 292    9      16                      \n",
              "27 2018 YVP 292   10      16                      \n",
              "28 2019 YVP 292    1      16                      \n",
              "29 2019 YVP 292    2      16                      \n",
              "30 2019 YVP 292    3      16                      \n",
              "⋮  ⋮    ⋮         ⋮       ⋮                       \n",
              "38 2017 YVP 294    1      24                      \n",
              "39 2017 YVP 294    2      24                      \n",
              "40 2017 YVP 294    3      24                      \n",
              "41 2017 YVP 294    4      24                      \n",
              "42 2017 YVP 294    5      24                      \n",
              "43 2017 YVP 294    6      24                      \n",
              "44 2017 YVP 294    7      24                      \n",
              "45 2017 YVP 294    8      24                      \n",
              "46 2017 YVP 294    9      24                      \n",
              "47 2017 YVP 294   10      24                      \n",
              "48 2018 YVP 294    1      24                      \n",
              "49 2018 YVP 294    2      24                      \n",
              "50 2018 YVP 294    3      24                      \n",
              "51 2018 YVP 294    4      24                      \n",
              "52 2018 YVP 294    5      24                      \n",
              "53 2018 YVP 294    6      24                      \n",
              "54 2018 YVP 294    7      24                      \n",
              "55 2018 YVP 294    8      24                      \n",
              "56 2018 YVP 294    9      24                      \n",
              "57 2018 YVP 294   10      24                      \n",
              "58 2019 YVP 294    1      24                      \n",
              "59 2019 YVP 294    2      24                      \n",
              "60 2019 YVP 294    3      24                      \n",
              "61 2019 YVP 294    4      24                      \n",
              "62 2019 YVP 294    5      24                      \n",
              "63 2019 YVP 294    6      24                      \n",
              "64 2019 YVP 294    7      24                      \n",
              "65 2019 YVP 294    8      24                      \n",
              "66 2019 YVP 294    9      24                      \n",
              "67 2019 YVP 294   10      24                      "
            ],
            "text/latex": "A grouped\\_df: 67 × 4\n\\begin{tabular}{llll}\n year & plot\\_code & subplot & groundcover\\_type\\_counted\\\\\n <dbl> & <chr> & <int> & <int>\\\\\n\\hline\n\t 2017 & YVP 355 &  1 &  7\\\\\n\t 2017 & YVP 481 &  1 &  7\\\\\n\t 2018 & YVP 278 &  5 &  7\\\\\n\t 2018 & YVP 57  &  8 &  7\\\\\n\t 2019 & YVP 481 &  1 &  7\\\\\n\t 2018 & YVP 278 &  6 &  9\\\\\n\t 2018 & YVP 57  &  2 &  9\\\\\n\t 2017 & YVP 292 &  1 & 16\\\\\n\t 2017 & YVP 292 &  2 & 16\\\\\n\t 2017 & YVP 292 &  3 & 16\\\\\n\t 2017 & YVP 292 &  4 & 16\\\\\n\t 2017 & YVP 292 &  5 & 16\\\\\n\t 2017 & YVP 292 &  6 & 16\\\\\n\t 2017 & YVP 292 &  7 & 16\\\\\n\t 2017 & YVP 292 &  8 & 16\\\\\n\t 2017 & YVP 292 &  9 & 16\\\\\n\t 2017 & YVP 292 & 10 & 16\\\\\n\t 2018 & YVP 292 &  1 & 16\\\\\n\t 2018 & YVP 292 &  2 & 16\\\\\n\t 2018 & YVP 292 &  3 & 16\\\\\n\t 2018 & YVP 292 &  4 & 16\\\\\n\t 2018 & YVP 292 &  5 & 16\\\\\n\t 2018 & YVP 292 &  6 & 16\\\\\n\t 2018 & YVP 292 &  7 & 16\\\\\n\t 2018 & YVP 292 &  8 & 16\\\\\n\t 2018 & YVP 292 &  9 & 16\\\\\n\t 2018 & YVP 292 & 10 & 16\\\\\n\t 2019 & YVP 292 &  1 & 16\\\\\n\t 2019 & YVP 292 &  2 & 16\\\\\n\t 2019 & YVP 292 &  3 & 16\\\\\n\t ⋮ & ⋮ & ⋮ & ⋮\\\\\n\t 2017 & YVP 294 &  1 & 24\\\\\n\t 2017 & YVP 294 &  2 & 24\\\\\n\t 2017 & YVP 294 &  3 & 24\\\\\n\t 2017 & YVP 294 &  4 & 24\\\\\n\t 2017 & YVP 294 &  5 & 24\\\\\n\t 2017 & YVP 294 &  6 & 24\\\\\n\t 2017 & YVP 294 &  7 & 24\\\\\n\t 2017 & YVP 294 &  8 & 24\\\\\n\t 2017 & YVP 294 &  9 & 24\\\\\n\t 2017 & YVP 294 & 10 & 24\\\\\n\t 2018 & YVP 294 &  1 & 24\\\\\n\t 2018 & YVP 294 &  2 & 24\\\\\n\t 2018 & YVP 294 &  3 & 24\\\\\n\t 2018 & YVP 294 &  4 & 24\\\\\n\t 2018 & YVP 294 &  5 & 24\\\\\n\t 2018 & YVP 294 &  6 & 24\\\\\n\t 2018 & YVP 294 &  7 & 24\\\\\n\t 2018 & YVP 294 &  8 & 24\\\\\n\t 2018 & YVP 294 &  9 & 24\\\\\n\t 2018 & YVP 294 & 10 & 24\\\\\n\t 2019 & YVP 294 &  1 & 24\\\\\n\t 2019 & YVP 294 &  2 & 24\\\\\n\t 2019 & YVP 294 &  3 & 24\\\\\n\t 2019 & YVP 294 &  4 & 24\\\\\n\t 2019 & YVP 294 &  5 & 24\\\\\n\t 2019 & YVP 294 &  6 & 24\\\\\n\t 2019 & YVP 294 &  7 & 24\\\\\n\t 2019 & YVP 294 &  8 & 24\\\\\n\t 2019 & YVP 294 &  9 & 24\\\\\n\t 2019 & YVP 294 & 10 & 24\\\\\n\\end{tabular}\n",
            "text/markdown": "\nA grouped_df: 67 × 4\n\n| year &lt;dbl&gt; | plot_code &lt;chr&gt; | subplot &lt;int&gt; | groundcover_type_counted &lt;int&gt; |\n|---|---|---|---|\n| 2017 | YVP 355 |  1 |  7 |\n| 2017 | YVP 481 |  1 |  7 |\n| 2018 | YVP 278 |  5 |  7 |\n| 2018 | YVP 57  |  8 |  7 |\n| 2019 | YVP 481 |  1 |  7 |\n| 2018 | YVP 278 |  6 |  9 |\n| 2018 | YVP 57  |  2 |  9 |\n| 2017 | YVP 292 |  1 | 16 |\n| 2017 | YVP 292 |  2 | 16 |\n| 2017 | YVP 292 |  3 | 16 |\n| 2017 | YVP 292 |  4 | 16 |\n| 2017 | YVP 292 |  5 | 16 |\n| 2017 | YVP 292 |  6 | 16 |\n| 2017 | YVP 292 |  7 | 16 |\n| 2017 | YVP 292 |  8 | 16 |\n| 2017 | YVP 292 |  9 | 16 |\n| 2017 | YVP 292 | 10 | 16 |\n| 2018 | YVP 292 |  1 | 16 |\n| 2018 | YVP 292 |  2 | 16 |\n| 2018 | YVP 292 |  3 | 16 |\n| 2018 | YVP 292 |  4 | 16 |\n| 2018 | YVP 292 |  5 | 16 |\n| 2018 | YVP 292 |  6 | 16 |\n| 2018 | YVP 292 |  7 | 16 |\n| 2018 | YVP 292 |  8 | 16 |\n| 2018 | YVP 292 |  9 | 16 |\n| 2018 | YVP 292 | 10 | 16 |\n| 2019 | YVP 292 |  1 | 16 |\n| 2019 | YVP 292 |  2 | 16 |\n| 2019 | YVP 292 |  3 | 16 |\n| ⋮ | ⋮ | ⋮ | ⋮ |\n| 2017 | YVP 294 |  1 | 24 |\n| 2017 | YVP 294 |  2 | 24 |\n| 2017 | YVP 294 |  3 | 24 |\n| 2017 | YVP 294 |  4 | 24 |\n| 2017 | YVP 294 |  5 | 24 |\n| 2017 | YVP 294 |  6 | 24 |\n| 2017 | YVP 294 |  7 | 24 |\n| 2017 | YVP 294 |  8 | 24 |\n| 2017 | YVP 294 |  9 | 24 |\n| 2017 | YVP 294 | 10 | 24 |\n| 2018 | YVP 294 |  1 | 24 |\n| 2018 | YVP 294 |  2 | 24 |\n| 2018 | YVP 294 |  3 | 24 |\n| 2018 | YVP 294 |  4 | 24 |\n| 2018 | YVP 294 |  5 | 24 |\n| 2018 | YVP 294 |  6 | 24 |\n| 2018 | YVP 294 |  7 | 24 |\n| 2018 | YVP 294 |  8 | 24 |\n| 2018 | YVP 294 |  9 | 24 |\n| 2018 | YVP 294 | 10 | 24 |\n| 2019 | YVP 294 |  1 | 24 |\n| 2019 | YVP 294 |  2 | 24 |\n| 2019 | YVP 294 |  3 | 24 |\n| 2019 | YVP 294 |  4 | 24 |\n| 2019 | YVP 294 |  5 | 24 |\n| 2019 | YVP 294 |  6 | 24 |\n| 2019 | YVP 294 |  7 | 24 |\n| 2019 | YVP 294 |  8 | 24 |\n| 2019 | YVP 294 |  9 | 24 |\n| 2019 | YVP 294 | 10 | 24 |\n\n",
            "text/html": [
              "<table>\n",
              "<caption>A grouped_df: 67 × 4</caption>\n",
              "<thead>\n",
              "\t<tr><th scope=col>year</th><th scope=col>plot_code</th><th scope=col>subplot</th><th scope=col>groundcover_type_counted</th></tr>\n",
              "\t<tr><th scope=col>&lt;dbl&gt;</th><th scope=col>&lt;chr&gt;</th><th scope=col>&lt;int&gt;</th><th scope=col>&lt;int&gt;</th></tr>\n",
              "</thead>\n",
              "<tbody>\n",
              "\t<tr><td>2017</td><td>YVP 355</td><td> 1</td><td> 7</td></tr>\n",
              "\t<tr><td>2017</td><td>YVP 481</td><td> 1</td><td> 7</td></tr>\n",
              "\t<tr><td>2018</td><td>YVP 278</td><td> 5</td><td> 7</td></tr>\n",
              "\t<tr><td>2018</td><td>YVP 57 </td><td> 8</td><td> 7</td></tr>\n",
              "\t<tr><td>2019</td><td>YVP 481</td><td> 1</td><td> 7</td></tr>\n",
              "\t<tr><td>2018</td><td>YVP 278</td><td> 6</td><td> 9</td></tr>\n",
              "\t<tr><td>2018</td><td>YVP 57 </td><td> 2</td><td> 9</td></tr>\n",
              "\t<tr><td>2017</td><td>YVP 292</td><td> 1</td><td>16</td></tr>\n",
              "\t<tr><td>2017</td><td>YVP 292</td><td> 2</td><td>16</td></tr>\n",
              "\t<tr><td>2017</td><td>YVP 292</td><td> 3</td><td>16</td></tr>\n",
              "\t<tr><td>2017</td><td>YVP 292</td><td> 4</td><td>16</td></tr>\n",
              "\t<tr><td>2017</td><td>YVP 292</td><td> 5</td><td>16</td></tr>\n",
              "\t<tr><td>2017</td><td>YVP 292</td><td> 6</td><td>16</td></tr>\n",
              "\t<tr><td>2017</td><td>YVP 292</td><td> 7</td><td>16</td></tr>\n",
              "\t<tr><td>2017</td><td>YVP 292</td><td> 8</td><td>16</td></tr>\n",
              "\t<tr><td>2017</td><td>YVP 292</td><td> 9</td><td>16</td></tr>\n",
              "\t<tr><td>2017</td><td>YVP 292</td><td>10</td><td>16</td></tr>\n",
              "\t<tr><td>2018</td><td>YVP 292</td><td> 1</td><td>16</td></tr>\n",
              "\t<tr><td>2018</td><td>YVP 292</td><td> 2</td><td>16</td></tr>\n",
              "\t<tr><td>2018</td><td>YVP 292</td><td> 3</td><td>16</td></tr>\n",
              "\t<tr><td>2018</td><td>YVP 292</td><td> 4</td><td>16</td></tr>\n",
              "\t<tr><td>2018</td><td>YVP 292</td><td> 5</td><td>16</td></tr>\n",
              "\t<tr><td>2018</td><td>YVP 292</td><td> 6</td><td>16</td></tr>\n",
              "\t<tr><td>2018</td><td>YVP 292</td><td> 7</td><td>16</td></tr>\n",
              "\t<tr><td>2018</td><td>YVP 292</td><td> 8</td><td>16</td></tr>\n",
              "\t<tr><td>2018</td><td>YVP 292</td><td> 9</td><td>16</td></tr>\n",
              "\t<tr><td>2018</td><td>YVP 292</td><td>10</td><td>16</td></tr>\n",
              "\t<tr><td>2019</td><td>YVP 292</td><td> 1</td><td>16</td></tr>\n",
              "\t<tr><td>2019</td><td>YVP 292</td><td> 2</td><td>16</td></tr>\n",
              "\t<tr><td>2019</td><td>YVP 292</td><td> 3</td><td>16</td></tr>\n",
              "\t<tr><td>⋮</td><td>⋮</td><td>⋮</td><td>⋮</td></tr>\n",
              "\t<tr><td>2017</td><td>YVP 294</td><td> 1</td><td>24</td></tr>\n",
              "\t<tr><td>2017</td><td>YVP 294</td><td> 2</td><td>24</td></tr>\n",
              "\t<tr><td>2017</td><td>YVP 294</td><td> 3</td><td>24</td></tr>\n",
              "\t<tr><td>2017</td><td>YVP 294</td><td> 4</td><td>24</td></tr>\n",
              "\t<tr><td>2017</td><td>YVP 294</td><td> 5</td><td>24</td></tr>\n",
              "\t<tr><td>2017</td><td>YVP 294</td><td> 6</td><td>24</td></tr>\n",
              "\t<tr><td>2017</td><td>YVP 294</td><td> 7</td><td>24</td></tr>\n",
              "\t<tr><td>2017</td><td>YVP 294</td><td> 8</td><td>24</td></tr>\n",
              "\t<tr><td>2017</td><td>YVP 294</td><td> 9</td><td>24</td></tr>\n",
              "\t<tr><td>2017</td><td>YVP 294</td><td>10</td><td>24</td></tr>\n",
              "\t<tr><td>2018</td><td>YVP 294</td><td> 1</td><td>24</td></tr>\n",
              "\t<tr><td>2018</td><td>YVP 294</td><td> 2</td><td>24</td></tr>\n",
              "\t<tr><td>2018</td><td>YVP 294</td><td> 3</td><td>24</td></tr>\n",
              "\t<tr><td>2018</td><td>YVP 294</td><td> 4</td><td>24</td></tr>\n",
              "\t<tr><td>2018</td><td>YVP 294</td><td> 5</td><td>24</td></tr>\n",
              "\t<tr><td>2018</td><td>YVP 294</td><td> 6</td><td>24</td></tr>\n",
              "\t<tr><td>2018</td><td>YVP 294</td><td> 7</td><td>24</td></tr>\n",
              "\t<tr><td>2018</td><td>YVP 294</td><td> 8</td><td>24</td></tr>\n",
              "\t<tr><td>2018</td><td>YVP 294</td><td> 9</td><td>24</td></tr>\n",
              "\t<tr><td>2018</td><td>YVP 294</td><td>10</td><td>24</td></tr>\n",
              "\t<tr><td>2019</td><td>YVP 294</td><td> 1</td><td>24</td></tr>\n",
              "\t<tr><td>2019</td><td>YVP 294</td><td> 2</td><td>24</td></tr>\n",
              "\t<tr><td>2019</td><td>YVP 294</td><td> 3</td><td>24</td></tr>\n",
              "\t<tr><td>2019</td><td>YVP 294</td><td> 4</td><td>24</td></tr>\n",
              "\t<tr><td>2019</td><td>YVP 294</td><td> 5</td><td>24</td></tr>\n",
              "\t<tr><td>2019</td><td>YVP 294</td><td> 6</td><td>24</td></tr>\n",
              "\t<tr><td>2019</td><td>YVP 294</td><td> 7</td><td>24</td></tr>\n",
              "\t<tr><td>2019</td><td>YVP 294</td><td> 8</td><td>24</td></tr>\n",
              "\t<tr><td>2019</td><td>YVP 294</td><td> 9</td><td>24</td></tr>\n",
              "\t<tr><td>2019</td><td>YVP 294</td><td>10</td><td>24</td></tr>\n",
              "</tbody>\n",
              "</table>\n"
            ]
          },
          "metadata": {
            "tags": []
          }
        }
      ]
    },
    {
      "cell_type": "code",
      "metadata": {
        "id": "fxKbjaMqul4l",
        "colab_type": "code",
        "outputId": "24b444ad-8032-4f94-91f1-8455537ffb4f",
        "colab": {
          "base_uri": "https://localhost:8080/",
          "height": 225
        }
      },
      "source": [
        "# example of short one 'ground_cover'\n",
        "df %>%\n",
        "  filter(as.numeric(substring(date,0,4)) == 2017,\n",
        "          plot_code == 'YVP 355',\n",
        "          subplot == 1)"
      ],
      "execution_count": 80,
      "outputs": [
        {
          "output_type": "display_data",
          "data": {
            "text/plain": [
              "  plot_code plot_loc plot_rep plot_num date       subplot groundcover_type\n",
              "1 YVP 355   NA       NA       355      2017-06-02 1       BV              \n",
              "2 YVP 355   NA       NA       355      2017-06-02 1       L               \n",
              "3 YVP 355   NA       NA       355      2017-06-02 1       WD              \n",
              "4 YVP 355   NA       NA       355      2017-06-02 1       M               \n",
              "5 YVP 355   NA       NA       355      2017-06-02 1       LIC             \n",
              "6 YVP 355   NA       NA       355      2017-06-02 1       G               \n",
              "7 YVP 355   NA       NA       355      2017-06-02 1       R               \n",
              "  groundcover_pct\n",
              "1 75             \n",
              "2 10             \n",
              "3  0             \n",
              "4  5             \n",
              "5 10             \n",
              "6  1             \n",
              "7  0             "
            ],
            "text/latex": "A data.frame: 7 × 8\n\\begin{tabular}{llllllll}\n plot\\_code & plot\\_loc & plot\\_rep & plot\\_num & date & subplot & groundcover\\_type & groundcover\\_pct\\\\\n <chr> & <chr> & <chr> & <chr> & <date> & <int> & <chr> & <int>\\\\\n\\hline\n\t YVP 355 & NA & NA & 355 & 2017-06-02 & 1 & BV  & 75\\\\\n\t YVP 355 & NA & NA & 355 & 2017-06-02 & 1 & L   & 10\\\\\n\t YVP 355 & NA & NA & 355 & 2017-06-02 & 1 & WD  &  0\\\\\n\t YVP 355 & NA & NA & 355 & 2017-06-02 & 1 & M   &  5\\\\\n\t YVP 355 & NA & NA & 355 & 2017-06-02 & 1 & LIC & 10\\\\\n\t YVP 355 & NA & NA & 355 & 2017-06-02 & 1 & G   &  1\\\\\n\t YVP 355 & NA & NA & 355 & 2017-06-02 & 1 & R   &  0\\\\\n\\end{tabular}\n",
            "text/markdown": "\nA data.frame: 7 × 8\n\n| plot_code &lt;chr&gt; | plot_loc &lt;chr&gt; | plot_rep &lt;chr&gt; | plot_num &lt;chr&gt; | date &lt;date&gt; | subplot &lt;int&gt; | groundcover_type &lt;chr&gt; | groundcover_pct &lt;int&gt; |\n|---|---|---|---|---|---|---|---|\n| YVP 355 | NA | NA | 355 | 2017-06-02 | 1 | BV  | 75 |\n| YVP 355 | NA | NA | 355 | 2017-06-02 | 1 | L   | 10 |\n| YVP 355 | NA | NA | 355 | 2017-06-02 | 1 | WD  |  0 |\n| YVP 355 | NA | NA | 355 | 2017-06-02 | 1 | M   |  5 |\n| YVP 355 | NA | NA | 355 | 2017-06-02 | 1 | LIC | 10 |\n| YVP 355 | NA | NA | 355 | 2017-06-02 | 1 | G   |  1 |\n| YVP 355 | NA | NA | 355 | 2017-06-02 | 1 | R   |  0 |\n\n",
            "text/html": [
              "<table>\n",
              "<caption>A data.frame: 7 × 8</caption>\n",
              "<thead>\n",
              "\t<tr><th scope=col>plot_code</th><th scope=col>plot_loc</th><th scope=col>plot_rep</th><th scope=col>plot_num</th><th scope=col>date</th><th scope=col>subplot</th><th scope=col>groundcover_type</th><th scope=col>groundcover_pct</th></tr>\n",
              "\t<tr><th scope=col>&lt;chr&gt;</th><th scope=col>&lt;chr&gt;</th><th scope=col>&lt;chr&gt;</th><th scope=col>&lt;chr&gt;</th><th scope=col>&lt;date&gt;</th><th scope=col>&lt;int&gt;</th><th scope=col>&lt;chr&gt;</th><th scope=col>&lt;int&gt;</th></tr>\n",
              "</thead>\n",
              "<tbody>\n",
              "\t<tr><td>YVP 355</td><td>NA</td><td>NA</td><td>355</td><td>2017-06-02</td><td>1</td><td>BV </td><td>75</td></tr>\n",
              "\t<tr><td>YVP 355</td><td>NA</td><td>NA</td><td>355</td><td>2017-06-02</td><td>1</td><td>L  </td><td>10</td></tr>\n",
              "\t<tr><td>YVP 355</td><td>NA</td><td>NA</td><td>355</td><td>2017-06-02</td><td>1</td><td>WD </td><td> 0</td></tr>\n",
              "\t<tr><td>YVP 355</td><td>NA</td><td>NA</td><td>355</td><td>2017-06-02</td><td>1</td><td>M  </td><td> 5</td></tr>\n",
              "\t<tr><td>YVP 355</td><td>NA</td><td>NA</td><td>355</td><td>2017-06-02</td><td>1</td><td>LIC</td><td>10</td></tr>\n",
              "\t<tr><td>YVP 355</td><td>NA</td><td>NA</td><td>355</td><td>2017-06-02</td><td>1</td><td>G  </td><td> 1</td></tr>\n",
              "\t<tr><td>YVP 355</td><td>NA</td><td>NA</td><td>355</td><td>2017-06-02</td><td>1</td><td>R  </td><td> 0</td></tr>\n",
              "</tbody>\n",
              "</table>\n"
            ]
          },
          "metadata": {
            "tags": []
          }
        }
      ]
    },
    {
      "cell_type": "code",
      "metadata": {
        "id": "qEh6g4FQvCxW",
        "colab_type": "code",
        "outputId": "6b349b00-cedd-4c3d-f252-86ba0066169c",
        "colab": {
          "base_uri": "https://localhost:8080/",
          "height": 267
        }
      },
      "source": [
        "# example of one extra 'groundcover_type'\n",
        "df %>%\n",
        "  filter(as.numeric(substring(date,0,4)) == 2018,\n",
        "          plot_code == 'YVP 278',\n",
        "          subplot == 6) %>%\n",
        "  arrange(groundcover_type)"
      ],
      "execution_count": 81,
      "outputs": [
        {
          "output_type": "display_data",
          "data": {
            "text/plain": [
              "  plot_code plot_loc plot_rep plot_num date       subplot groundcover_type\n",
              "1 YVP 278   N        NA       278      2018-05-28 6       BG              \n",
              "2 YVP 278   N        NA       278      2018-05-28 6       BV              \n",
              "3 YVP 278   N        NA       278      2018-05-28 6       G               \n",
              "4 YVP 278   N        NA       278      2018-05-28 6       L               \n",
              "5 YVP 278   N        NA       278      2018-05-28 6       LIC             \n",
              "6 YVP 278   N        NA       278      2018-05-28 6       M               \n",
              "7 YVP 278   N        NA       278      2018-05-28 6       M               \n",
              "8 YVP 278   N        NA       278      2018-05-28 6       R               \n",
              "9 YVP 278   N        NA       278      2018-05-28 6       WD              \n",
              "  groundcover_pct\n",
              "1  1             \n",
              "2 20             \n",
              "3  4             \n",
              "4 25             \n",
              "5 10             \n",
              "6 15             \n",
              "7 40             \n",
              "8  0             \n",
              "9  0             "
            ],
            "text/latex": "A data.frame: 9 × 8\n\\begin{tabular}{llllllll}\n plot\\_code & plot\\_loc & plot\\_rep & plot\\_num & date & subplot & groundcover\\_type & groundcover\\_pct\\\\\n <chr> & <chr> & <chr> & <chr> & <date> & <int> & <chr> & <int>\\\\\n\\hline\n\t YVP 278 & N & NA & 278 & 2018-05-28 & 6 & BG  &  1\\\\\n\t YVP 278 & N & NA & 278 & 2018-05-28 & 6 & BV  & 20\\\\\n\t YVP 278 & N & NA & 278 & 2018-05-28 & 6 & G   &  4\\\\\n\t YVP 278 & N & NA & 278 & 2018-05-28 & 6 & L   & 25\\\\\n\t YVP 278 & N & NA & 278 & 2018-05-28 & 6 & LIC & 10\\\\\n\t YVP 278 & N & NA & 278 & 2018-05-28 & 6 & M   & 15\\\\\n\t YVP 278 & N & NA & 278 & 2018-05-28 & 6 & M   & 40\\\\\n\t YVP 278 & N & NA & 278 & 2018-05-28 & 6 & R   &  0\\\\\n\t YVP 278 & N & NA & 278 & 2018-05-28 & 6 & WD  &  0\\\\\n\\end{tabular}\n",
            "text/markdown": "\nA data.frame: 9 × 8\n\n| plot_code &lt;chr&gt; | plot_loc &lt;chr&gt; | plot_rep &lt;chr&gt; | plot_num &lt;chr&gt; | date &lt;date&gt; | subplot &lt;int&gt; | groundcover_type &lt;chr&gt; | groundcover_pct &lt;int&gt; |\n|---|---|---|---|---|---|---|---|\n| YVP 278 | N | NA | 278 | 2018-05-28 | 6 | BG  |  1 |\n| YVP 278 | N | NA | 278 | 2018-05-28 | 6 | BV  | 20 |\n| YVP 278 | N | NA | 278 | 2018-05-28 | 6 | G   |  4 |\n| YVP 278 | N | NA | 278 | 2018-05-28 | 6 | L   | 25 |\n| YVP 278 | N | NA | 278 | 2018-05-28 | 6 | LIC | 10 |\n| YVP 278 | N | NA | 278 | 2018-05-28 | 6 | M   | 15 |\n| YVP 278 | N | NA | 278 | 2018-05-28 | 6 | M   | 40 |\n| YVP 278 | N | NA | 278 | 2018-05-28 | 6 | R   |  0 |\n| YVP 278 | N | NA | 278 | 2018-05-28 | 6 | WD  |  0 |\n\n",
            "text/html": [
              "<table>\n",
              "<caption>A data.frame: 9 × 8</caption>\n",
              "<thead>\n",
              "\t<tr><th scope=col>plot_code</th><th scope=col>plot_loc</th><th scope=col>plot_rep</th><th scope=col>plot_num</th><th scope=col>date</th><th scope=col>subplot</th><th scope=col>groundcover_type</th><th scope=col>groundcover_pct</th></tr>\n",
              "\t<tr><th scope=col>&lt;chr&gt;</th><th scope=col>&lt;chr&gt;</th><th scope=col>&lt;chr&gt;</th><th scope=col>&lt;chr&gt;</th><th scope=col>&lt;date&gt;</th><th scope=col>&lt;int&gt;</th><th scope=col>&lt;chr&gt;</th><th scope=col>&lt;int&gt;</th></tr>\n",
              "</thead>\n",
              "<tbody>\n",
              "\t<tr><td>YVP 278</td><td>N</td><td>NA</td><td>278</td><td>2018-05-28</td><td>6</td><td>BG </td><td> 1</td></tr>\n",
              "\t<tr><td>YVP 278</td><td>N</td><td>NA</td><td>278</td><td>2018-05-28</td><td>6</td><td>BV </td><td>20</td></tr>\n",
              "\t<tr><td>YVP 278</td><td>N</td><td>NA</td><td>278</td><td>2018-05-28</td><td>6</td><td>G  </td><td> 4</td></tr>\n",
              "\t<tr><td>YVP 278</td><td>N</td><td>NA</td><td>278</td><td>2018-05-28</td><td>6</td><td>L  </td><td>25</td></tr>\n",
              "\t<tr><td>YVP 278</td><td>N</td><td>NA</td><td>278</td><td>2018-05-28</td><td>6</td><td>LIC</td><td>10</td></tr>\n",
              "\t<tr><td>YVP 278</td><td>N</td><td>NA</td><td>278</td><td>2018-05-28</td><td>6</td><td>M  </td><td>15</td></tr>\n",
              "\t<tr><td>YVP 278</td><td>N</td><td>NA</td><td>278</td><td>2018-05-28</td><td>6</td><td>M  </td><td>40</td></tr>\n",
              "\t<tr><td>YVP 278</td><td>N</td><td>NA</td><td>278</td><td>2018-05-28</td><td>6</td><td>R  </td><td> 0</td></tr>\n",
              "\t<tr><td>YVP 278</td><td>N</td><td>NA</td><td>278</td><td>2018-05-28</td><td>6</td><td>WD </td><td> 0</td></tr>\n",
              "</tbody>\n",
              "</table>\n"
            ]
          },
          "metadata": {
            "tags": []
          }
        }
      ]
    },
    {
      "cell_type": "code",
      "metadata": {
        "id": "xuAzCN7_3dy4",
        "colab_type": "code",
        "colab": {
          "base_uri": "https://localhost:8080/",
          "height": 414
        },
        "outputId": "1b671cf4-74f2-49ba-dbc9-b9b8617fbd83"
      },
      "source": [
        "# 2017\tYVP 292\t1\n",
        "df %>%\n",
        "  filter(as.numeric(substring(date,0,4)) == 2017,\n",
        "          plot_code == 'YVP 292',\n",
        "          subplot == 1) %>%\n",
        "  arrange(groundcover_type)"
      ],
      "execution_count": 82,
      "outputs": [
        {
          "output_type": "display_data",
          "data": {
            "text/plain": [
              "   plot_code plot_loc plot_rep plot_num date       subplot groundcover_type\n",
              "1  YVP 292   N        A        292      2017-05-09 1       BG              \n",
              "2  YVP 292   N        B        292      2017-05-09 1       BG              \n",
              "3  YVP 292   N        A        292      2017-05-09 1       BV              \n",
              "4  YVP 292   N        B        292      2017-05-09 1       BV              \n",
              "5  YVP 292   N        A        292      2017-05-09 1       G               \n",
              "6  YVP 292   N        B        292      2017-05-09 1       G               \n",
              "7  YVP 292   N        A        292      2017-05-09 1       L               \n",
              "8  YVP 292   N        B        292      2017-05-09 1       L               \n",
              "9  YVP 292   N        A        292      2017-05-09 1       LIC             \n",
              "10 YVP 292   N        B        292      2017-05-09 1       LIC             \n",
              "11 YVP 292   N        A        292      2017-05-09 1       M               \n",
              "12 YVP 292   N        B        292      2017-05-09 1       M               \n",
              "13 YVP 292   N        A        292      2017-05-09 1       R               \n",
              "14 YVP 292   N        B        292      2017-05-09 1       R               \n",
              "15 YVP 292   N        A        292      2017-05-09 1       WD              \n",
              "16 YVP 292   N        B        292      2017-05-09 1       WD              \n",
              "   groundcover_pct\n",
              "1  20             \n",
              "2   1             \n",
              "3  30             \n",
              "4  65             \n",
              "5  25             \n",
              "6   0             \n",
              "7  15             \n",
              "8  35             \n",
              "9   5             \n",
              "10  0             \n",
              "11  1             \n",
              "12  0             \n",
              "13  3             \n",
              "14  0             \n",
              "15  0             \n",
              "16  0             "
            ],
            "text/latex": "A data.frame: 16 × 8\n\\begin{tabular}{llllllll}\n plot\\_code & plot\\_loc & plot\\_rep & plot\\_num & date & subplot & groundcover\\_type & groundcover\\_pct\\\\\n <chr> & <chr> & <chr> & <chr> & <date> & <int> & <chr> & <int>\\\\\n\\hline\n\t YVP 292 & N & A & 292 & 2017-05-09 & 1 & BG  & 20\\\\\n\t YVP 292 & N & B & 292 & 2017-05-09 & 1 & BG  &  1\\\\\n\t YVP 292 & N & A & 292 & 2017-05-09 & 1 & BV  & 30\\\\\n\t YVP 292 & N & B & 292 & 2017-05-09 & 1 & BV  & 65\\\\\n\t YVP 292 & N & A & 292 & 2017-05-09 & 1 & G   & 25\\\\\n\t YVP 292 & N & B & 292 & 2017-05-09 & 1 & G   &  0\\\\\n\t YVP 292 & N & A & 292 & 2017-05-09 & 1 & L   & 15\\\\\n\t YVP 292 & N & B & 292 & 2017-05-09 & 1 & L   & 35\\\\\n\t YVP 292 & N & A & 292 & 2017-05-09 & 1 & LIC &  5\\\\\n\t YVP 292 & N & B & 292 & 2017-05-09 & 1 & LIC &  0\\\\\n\t YVP 292 & N & A & 292 & 2017-05-09 & 1 & M   &  1\\\\\n\t YVP 292 & N & B & 292 & 2017-05-09 & 1 & M   &  0\\\\\n\t YVP 292 & N & A & 292 & 2017-05-09 & 1 & R   &  3\\\\\n\t YVP 292 & N & B & 292 & 2017-05-09 & 1 & R   &  0\\\\\n\t YVP 292 & N & A & 292 & 2017-05-09 & 1 & WD  &  0\\\\\n\t YVP 292 & N & B & 292 & 2017-05-09 & 1 & WD  &  0\\\\\n\\end{tabular}\n",
            "text/markdown": "\nA data.frame: 16 × 8\n\n| plot_code &lt;chr&gt; | plot_loc &lt;chr&gt; | plot_rep &lt;chr&gt; | plot_num &lt;chr&gt; | date &lt;date&gt; | subplot &lt;int&gt; | groundcover_type &lt;chr&gt; | groundcover_pct &lt;int&gt; |\n|---|---|---|---|---|---|---|---|\n| YVP 292 | N | A | 292 | 2017-05-09 | 1 | BG  | 20 |\n| YVP 292 | N | B | 292 | 2017-05-09 | 1 | BG  |  1 |\n| YVP 292 | N | A | 292 | 2017-05-09 | 1 | BV  | 30 |\n| YVP 292 | N | B | 292 | 2017-05-09 | 1 | BV  | 65 |\n| YVP 292 | N | A | 292 | 2017-05-09 | 1 | G   | 25 |\n| YVP 292 | N | B | 292 | 2017-05-09 | 1 | G   |  0 |\n| YVP 292 | N | A | 292 | 2017-05-09 | 1 | L   | 15 |\n| YVP 292 | N | B | 292 | 2017-05-09 | 1 | L   | 35 |\n| YVP 292 | N | A | 292 | 2017-05-09 | 1 | LIC |  5 |\n| YVP 292 | N | B | 292 | 2017-05-09 | 1 | LIC |  0 |\n| YVP 292 | N | A | 292 | 2017-05-09 | 1 | M   |  1 |\n| YVP 292 | N | B | 292 | 2017-05-09 | 1 | M   |  0 |\n| YVP 292 | N | A | 292 | 2017-05-09 | 1 | R   |  3 |\n| YVP 292 | N | B | 292 | 2017-05-09 | 1 | R   |  0 |\n| YVP 292 | N | A | 292 | 2017-05-09 | 1 | WD  |  0 |\n| YVP 292 | N | B | 292 | 2017-05-09 | 1 | WD  |  0 |\n\n",
            "text/html": [
              "<table>\n",
              "<caption>A data.frame: 16 × 8</caption>\n",
              "<thead>\n",
              "\t<tr><th scope=col>plot_code</th><th scope=col>plot_loc</th><th scope=col>plot_rep</th><th scope=col>plot_num</th><th scope=col>date</th><th scope=col>subplot</th><th scope=col>groundcover_type</th><th scope=col>groundcover_pct</th></tr>\n",
              "\t<tr><th scope=col>&lt;chr&gt;</th><th scope=col>&lt;chr&gt;</th><th scope=col>&lt;chr&gt;</th><th scope=col>&lt;chr&gt;</th><th scope=col>&lt;date&gt;</th><th scope=col>&lt;int&gt;</th><th scope=col>&lt;chr&gt;</th><th scope=col>&lt;int&gt;</th></tr>\n",
              "</thead>\n",
              "<tbody>\n",
              "\t<tr><td>YVP 292</td><td>N</td><td>A</td><td>292</td><td>2017-05-09</td><td>1</td><td>BG </td><td>20</td></tr>\n",
              "\t<tr><td>YVP 292</td><td>N</td><td>B</td><td>292</td><td>2017-05-09</td><td>1</td><td>BG </td><td> 1</td></tr>\n",
              "\t<tr><td>YVP 292</td><td>N</td><td>A</td><td>292</td><td>2017-05-09</td><td>1</td><td>BV </td><td>30</td></tr>\n",
              "\t<tr><td>YVP 292</td><td>N</td><td>B</td><td>292</td><td>2017-05-09</td><td>1</td><td>BV </td><td>65</td></tr>\n",
              "\t<tr><td>YVP 292</td><td>N</td><td>A</td><td>292</td><td>2017-05-09</td><td>1</td><td>G  </td><td>25</td></tr>\n",
              "\t<tr><td>YVP 292</td><td>N</td><td>B</td><td>292</td><td>2017-05-09</td><td>1</td><td>G  </td><td> 0</td></tr>\n",
              "\t<tr><td>YVP 292</td><td>N</td><td>A</td><td>292</td><td>2017-05-09</td><td>1</td><td>L  </td><td>15</td></tr>\n",
              "\t<tr><td>YVP 292</td><td>N</td><td>B</td><td>292</td><td>2017-05-09</td><td>1</td><td>L  </td><td>35</td></tr>\n",
              "\t<tr><td>YVP 292</td><td>N</td><td>A</td><td>292</td><td>2017-05-09</td><td>1</td><td>LIC</td><td> 5</td></tr>\n",
              "\t<tr><td>YVP 292</td><td>N</td><td>B</td><td>292</td><td>2017-05-09</td><td>1</td><td>LIC</td><td> 0</td></tr>\n",
              "\t<tr><td>YVP 292</td><td>N</td><td>A</td><td>292</td><td>2017-05-09</td><td>1</td><td>M  </td><td> 1</td></tr>\n",
              "\t<tr><td>YVP 292</td><td>N</td><td>B</td><td>292</td><td>2017-05-09</td><td>1</td><td>M  </td><td> 0</td></tr>\n",
              "\t<tr><td>YVP 292</td><td>N</td><td>A</td><td>292</td><td>2017-05-09</td><td>1</td><td>R  </td><td> 3</td></tr>\n",
              "\t<tr><td>YVP 292</td><td>N</td><td>B</td><td>292</td><td>2017-05-09</td><td>1</td><td>R  </td><td> 0</td></tr>\n",
              "\t<tr><td>YVP 292</td><td>N</td><td>A</td><td>292</td><td>2017-05-09</td><td>1</td><td>WD </td><td> 0</td></tr>\n",
              "\t<tr><td>YVP 292</td><td>N</td><td>B</td><td>292</td><td>2017-05-09</td><td>1</td><td>WD </td><td> 0</td></tr>\n",
              "</tbody>\n",
              "</table>\n"
            ]
          },
          "metadata": {
            "tags": []
          }
        }
      ]
    }
  ]
}