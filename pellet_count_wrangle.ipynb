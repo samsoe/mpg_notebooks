{
  "nbformat": 4,
  "nbformat_minor": 0,
  "metadata": {
    "colab": {
      "name": "pellet_count wrangle.ipynb",
      "provenance": [],
      "collapsed_sections": [],
      "toc_visible": true,
      "authorship_tag": "ABX9TyO2f1F3Jw46CYl7R6Nu3hH3",
      "include_colab_link": true
    },
    "kernelspec": {
      "name": "python3",
      "display_name": "Python 3"
    }
  },
  "cells": [
    {
      "cell_type": "markdown",
      "metadata": {
        "id": "view-in-github",
        "colab_type": "text"
      },
      "source": [
        "<a href=\"https://colab.research.google.com/github/samsoe/mpg_notebooks/blob/master/pellet_count_wrangle.ipynb\" target=\"_parent\"><img src=\"https://colab.research.google.com/assets/colab-badge.svg\" alt=\"Open In Colab\"/></a>"
      ]
    },
    {
      "cell_type": "code",
      "metadata": {
        "id": "x_LjtZL7bg5g",
        "colab_type": "code",
        "colab": {}
      },
      "source": [
        "import pandas as pd"
      ],
      "execution_count": 0,
      "outputs": []
    },
    {
      "cell_type": "markdown",
      "metadata": {
        "id": "8jt4leyqbvL5",
        "colab_type": "text"
      },
      "source": [
        "# Source"
      ]
    },
    {
      "cell_type": "markdown",
      "metadata": {
        "id": "fSjj8WOQopEz",
        "colab_type": "text"
      },
      "source": [
        "## 2011 - 2018\n",
        "* dataset: ‘[to fall 2018 Biomass4](https://docs.google.com/spreadsheets/d/1j-5Wfuueyr8Zh39MXnDSZuPbwEHnriICf7sIx4ZQosw/edit?usp=sharing)’\n",
        "  * sheet: ‘[biomass per m^2 spss](https://docs.google.com/spreadsheets/d/1j-5Wfuueyr8Zh39MXnDSZuPbwEHnriICf7sIx4ZQosw/edit?usp=sharing)’\n"
      ]
    },
    {
      "cell_type": "code",
      "metadata": {
        "id": "B_tRcFribuIh",
        "colab_type": "code",
        "colab": {}
      },
      "source": [
        "# to fall 2018 Biomass4 - biomass per m^2 spss.csv\n",
        "# src = 'https://drive.google.com/uc?id=1KJRC9tTm5f-NJvIkNkfDIJ4YKPx4Prkk'"
      ],
      "execution_count": 0,
      "outputs": []
    },
    {
      "cell_type": "markdown",
      "metadata": {
        "id": "ZmPc6ycct7UK",
        "colab_type": "text"
      },
      "source": [
        "[Read Google Spreadsheet data into Pandas Dataframe](https://kanoki.org/2018/12/25/read-google-spreadsheet-data-into-pandas-dataframe/)"
      ]
    },
    {
      "cell_type": "code",
      "metadata": {
        "id": "d28EqTzNs3Ly",
        "colab_type": "code",
        "colab": {}
      },
      "source": [
        "# Google Sheet: 'to fall 2018 Biomass4 - biomass per m^2 spss'\n",
        "# url = 'https://docs.google.com/spreadsheets/d/1j-5Wfuueyr8Zh39MXnDSZuPbwEHnriICf7sIx4ZQosw/edit#gid=1101523461'\n",
        "src = 'https://docs.google.com/spreadsheets/d/1j-5Wfuueyr8Zh39MXnDSZuPbwEHnriICf7sIx4ZQosw/export?format=csv&gid=1101523461'"
      ],
      "execution_count": 0,
      "outputs": []
    },
    {
      "cell_type": "code",
      "metadata": {
        "id": "KtAm_D6QcOuN",
        "colab_type": "code",
        "colab": {}
      },
      "source": [
        "df = pd.read_csv(src)"
      ],
      "execution_count": 0,
      "outputs": []
    },
    {
      "cell_type": "code",
      "metadata": {
        "id": "7ORV0HJpuAvi",
        "colab_type": "code",
        "outputId": "d3dcc0f2-7336-405d-a55e-1edf6952113d",
        "colab": {
          "base_uri": "https://localhost:8080/",
          "height": 258
        }
      },
      "source": [
        "df.head()"
      ],
      "execution_count": 0,
      "outputs": [
        {
          "output_type": "execute_result",
          "data": {
            "text/html": [
              "<div>\n",
              "<style scoped>\n",
              "    .dataframe tbody tr th:only-of-type {\n",
              "        vertical-align: middle;\n",
              "    }\n",
              "\n",
              "    .dataframe tbody tr th {\n",
              "        vertical-align: top;\n",
              "    }\n",
              "\n",
              "    .dataframe thead th {\n",
              "        text-align: right;\n",
              "    }\n",
              "</style>\n",
              "<table border=\"1\" class=\"dataframe\">\n",
              "  <thead>\n",
              "    <tr style=\"text-align: right;\">\n",
              "      <th></th>\n",
              "      <th>GridPt</th>\n",
              "      <th>Year</th>\n",
              "      <th>Period</th>\n",
              "      <th>bmsmerm2</th>\n",
              "      <th>group_num</th>\n",
              "      <th>group</th>\n",
              "      <th>PropGrass</th>\n",
              "      <th>Elk_Pellets</th>\n",
              "      <th>Deer_Pellets</th>\n",
              "      <th>Horse_Pellets</th>\n",
              "      <th>Robel</th>\n",
              "      <th>%Forbs</th>\n",
              "      <th>pounds per acre</th>\n",
              "      <th>rain</th>\n",
              "      <th>prev_rain</th>\n",
              "      <th>GridPt.1</th>\n",
              "      <th>Year.1</th>\n",
              "      <th>Period.1</th>\n",
              "    </tr>\n",
              "  </thead>\n",
              "  <tbody>\n",
              "    <tr>\n",
              "      <th>0</th>\n",
              "      <td>3</td>\n",
              "      <td>2010</td>\n",
              "      <td>2</td>\n",
              "      <td>28.8</td>\n",
              "      <td>1</td>\n",
              "      <td>Range</td>\n",
              "      <td>NaN</td>\n",
              "      <td>NaN</td>\n",
              "      <td>NaN</td>\n",
              "      <td>NaN</td>\n",
              "      <td>NaN</td>\n",
              "      <td>NaN</td>\n",
              "      <td>285.7</td>\n",
              "      <td>16</td>\n",
              "      <td>11</td>\n",
              "      <td>3</td>\n",
              "      <td>2010</td>\n",
              "      <td>2</td>\n",
              "    </tr>\n",
              "    <tr>\n",
              "      <th>1</th>\n",
              "      <td>4</td>\n",
              "      <td>2010</td>\n",
              "      <td>2</td>\n",
              "      <td>8.1</td>\n",
              "      <td>1</td>\n",
              "      <td>Range</td>\n",
              "      <td>NaN</td>\n",
              "      <td>NaN</td>\n",
              "      <td>NaN</td>\n",
              "      <td>NaN</td>\n",
              "      <td>NaN</td>\n",
              "      <td>NaN</td>\n",
              "      <td>80.0</td>\n",
              "      <td>16</td>\n",
              "      <td>11</td>\n",
              "      <td>4</td>\n",
              "      <td>2010</td>\n",
              "      <td>2</td>\n",
              "    </tr>\n",
              "    <tr>\n",
              "      <th>2</th>\n",
              "      <td>5</td>\n",
              "      <td>2010</td>\n",
              "      <td>2</td>\n",
              "      <td>31.2</td>\n",
              "      <td>1</td>\n",
              "      <td>Range</td>\n",
              "      <td>NaN</td>\n",
              "      <td>NaN</td>\n",
              "      <td>NaN</td>\n",
              "      <td>NaN</td>\n",
              "      <td>NaN</td>\n",
              "      <td>NaN</td>\n",
              "      <td>309.8</td>\n",
              "      <td>16</td>\n",
              "      <td>11</td>\n",
              "      <td>5</td>\n",
              "      <td>2010</td>\n",
              "      <td>2</td>\n",
              "    </tr>\n",
              "    <tr>\n",
              "      <th>3</th>\n",
              "      <td>6</td>\n",
              "      <td>2010</td>\n",
              "      <td>2</td>\n",
              "      <td>9.6</td>\n",
              "      <td>1</td>\n",
              "      <td>Range</td>\n",
              "      <td>NaN</td>\n",
              "      <td>NaN</td>\n",
              "      <td>NaN</td>\n",
              "      <td>NaN</td>\n",
              "      <td>NaN</td>\n",
              "      <td>NaN</td>\n",
              "      <td>95.6</td>\n",
              "      <td>16</td>\n",
              "      <td>11</td>\n",
              "      <td>6</td>\n",
              "      <td>2010</td>\n",
              "      <td>2</td>\n",
              "    </tr>\n",
              "    <tr>\n",
              "      <th>4</th>\n",
              "      <td>7</td>\n",
              "      <td>2010</td>\n",
              "      <td>2</td>\n",
              "      <td>10.5</td>\n",
              "      <td>1</td>\n",
              "      <td>Range</td>\n",
              "      <td>NaN</td>\n",
              "      <td>NaN</td>\n",
              "      <td>NaN</td>\n",
              "      <td>NaN</td>\n",
              "      <td>NaN</td>\n",
              "      <td>NaN</td>\n",
              "      <td>104.5</td>\n",
              "      <td>16</td>\n",
              "      <td>11</td>\n",
              "      <td>7</td>\n",
              "      <td>2010</td>\n",
              "      <td>2</td>\n",
              "    </tr>\n",
              "  </tbody>\n",
              "</table>\n",
              "</div>"
            ],
            "text/plain": [
              "   GridPt  Year  Period  bmsmerm2  ...  prev_rain GridPt.1  Year.1  Period.1\n",
              "0       3  2010       2      28.8  ...         11        3    2010         2\n",
              "1       4  2010       2       8.1  ...         11        4    2010         2\n",
              "2       5  2010       2      31.2  ...         11        5    2010         2\n",
              "3       6  2010       2       9.6  ...         11        6    2010         2\n",
              "4       7  2010       2      10.5  ...         11        7    2010         2\n",
              "\n",
              "[5 rows x 18 columns]"
            ]
          },
          "metadata": {
            "tags": []
          },
          "execution_count": 4
        }
      ]
    },
    {
      "cell_type": "code",
      "metadata": {
        "id": "Gmot_R4AcTB5",
        "colab_type": "code",
        "colab": {}
      },
      "source": [
        "df = df[['GridPt', 'Year', 'Period', 'Elk_Pellets', 'Deer_Pellets', 'Horse_Pellets']]"
      ],
      "execution_count": 0,
      "outputs": []
    },
    {
      "cell_type": "code",
      "metadata": {
        "id": "ZLrPrNCbc3y6",
        "colab_type": "code",
        "outputId": "7617c657-e687-489b-f43f-6b369c6d193c",
        "colab": {
          "base_uri": "https://localhost:8080/",
          "height": 204
        }
      },
      "source": [
        "df.head()"
      ],
      "execution_count": 0,
      "outputs": [
        {
          "output_type": "execute_result",
          "data": {
            "text/html": [
              "<div>\n",
              "<style scoped>\n",
              "    .dataframe tbody tr th:only-of-type {\n",
              "        vertical-align: middle;\n",
              "    }\n",
              "\n",
              "    .dataframe tbody tr th {\n",
              "        vertical-align: top;\n",
              "    }\n",
              "\n",
              "    .dataframe thead th {\n",
              "        text-align: right;\n",
              "    }\n",
              "</style>\n",
              "<table border=\"1\" class=\"dataframe\">\n",
              "  <thead>\n",
              "    <tr style=\"text-align: right;\">\n",
              "      <th></th>\n",
              "      <th>GridPt</th>\n",
              "      <th>Year</th>\n",
              "      <th>Period</th>\n",
              "      <th>Elk_Pellets</th>\n",
              "      <th>Deer_Pellets</th>\n",
              "      <th>Horse_Pellets</th>\n",
              "    </tr>\n",
              "  </thead>\n",
              "  <tbody>\n",
              "    <tr>\n",
              "      <th>0</th>\n",
              "      <td>3</td>\n",
              "      <td>2010</td>\n",
              "      <td>2</td>\n",
              "      <td>NaN</td>\n",
              "      <td>NaN</td>\n",
              "      <td>NaN</td>\n",
              "    </tr>\n",
              "    <tr>\n",
              "      <th>1</th>\n",
              "      <td>4</td>\n",
              "      <td>2010</td>\n",
              "      <td>2</td>\n",
              "      <td>NaN</td>\n",
              "      <td>NaN</td>\n",
              "      <td>NaN</td>\n",
              "    </tr>\n",
              "    <tr>\n",
              "      <th>2</th>\n",
              "      <td>5</td>\n",
              "      <td>2010</td>\n",
              "      <td>2</td>\n",
              "      <td>NaN</td>\n",
              "      <td>NaN</td>\n",
              "      <td>NaN</td>\n",
              "    </tr>\n",
              "    <tr>\n",
              "      <th>3</th>\n",
              "      <td>6</td>\n",
              "      <td>2010</td>\n",
              "      <td>2</td>\n",
              "      <td>NaN</td>\n",
              "      <td>NaN</td>\n",
              "      <td>NaN</td>\n",
              "    </tr>\n",
              "    <tr>\n",
              "      <th>4</th>\n",
              "      <td>7</td>\n",
              "      <td>2010</td>\n",
              "      <td>2</td>\n",
              "      <td>NaN</td>\n",
              "      <td>NaN</td>\n",
              "      <td>NaN</td>\n",
              "    </tr>\n",
              "  </tbody>\n",
              "</table>\n",
              "</div>"
            ],
            "text/plain": [
              "   GridPt  Year  Period  Elk_Pellets  Deer_Pellets  Horse_Pellets\n",
              "0       3  2010       2          NaN           NaN            NaN\n",
              "1       4  2010       2          NaN           NaN            NaN\n",
              "2       5  2010       2          NaN           NaN            NaN\n",
              "3       6  2010       2          NaN           NaN            NaN\n",
              "4       7  2010       2          NaN           NaN            NaN"
            ]
          },
          "metadata": {
            "tags": []
          },
          "execution_count": 6
        }
      ]
    },
    {
      "cell_type": "markdown",
      "metadata": {
        "id": "WidkNK-oovmc",
        "colab_type": "text"
      },
      "source": [
        "## 2019\n",
        "* dataset: '[2019 Biomass Data.xlsx](https://drive.google.com/file/d/1dd5F8R-mD6l7H2morac1r9ongf80xpff/view?usp=sharing)'\n",
        "  * sheet: 'All Data - redone'"
      ]
    },
    {
      "cell_type": "code",
      "metadata": {
        "id": "NKmd4iCupxFn",
        "colab_type": "code",
        "colab": {}
      },
      "source": [
        "# 2019 Biomass Data - All Data - redone.csv\n",
        "src_19 = 'https://drive.google.com/uc?id=1dAv09PPnGgd4KlQ5YTQ1gKPjIgt3-cts'"
      ],
      "execution_count": 0,
      "outputs": []
    },
    {
      "cell_type": "code",
      "metadata": {
        "id": "nKzBy0lCp9JV",
        "colab_type": "code",
        "colab": {}
      },
      "source": [
        "df_19 = pd.read_csv(src_19)"
      ],
      "execution_count": 0,
      "outputs": []
    },
    {
      "cell_type": "code",
      "metadata": {
        "id": "-8ocSzIMqHsU",
        "colab_type": "code",
        "colab": {}
      },
      "source": [
        "# select columns of interest\n",
        "df_19 = df_19[['Plot', 'Date', 'Deer', 'Elk', 'Horse']]"
      ],
      "execution_count": 0,
      "outputs": []
    },
    {
      "cell_type": "code",
      "metadata": {
        "id": "PREeiiyt3KiF",
        "colab_type": "code",
        "colab": {}
      },
      "source": [
        "# rename columns\n",
        "df_19 = df_19.rename(columns={'Plot':'grid_point', 'Date':'date', 'Deer':'deer', 'Elk':'elk', 'Horse':'horse'})"
      ],
      "execution_count": 0,
      "outputs": []
    },
    {
      "cell_type": "code",
      "metadata": {
        "id": "HpsY-IKV3yFW",
        "colab_type": "code",
        "colab": {}
      },
      "source": [
        "# cast date to 'datetime' datatype\n",
        "df_19['date'] = pd.to_datetime(df_19.date)"
      ],
      "execution_count": 0,
      "outputs": []
    },
    {
      "cell_type": "code",
      "metadata": {
        "id": "CQfAaqtN4FlQ",
        "colab_type": "code",
        "outputId": "aa69c6de-c010-4523-8a40-61e5b18c01fc",
        "colab": {
          "base_uri": "https://localhost:8080/",
          "height": 187
        }
      },
      "source": [
        "df_19.info()"
      ],
      "execution_count": 0,
      "outputs": [
        {
          "output_type": "stream",
          "text": [
            "<class 'pandas.core.frame.DataFrame'>\n",
            "RangeIndex: 347 entries, 0 to 346\n",
            "Data columns (total 5 columns):\n",
            "grid_point    347 non-null int64\n",
            "date          325 non-null datetime64[ns]\n",
            "deer          319 non-null float64\n",
            "elk           319 non-null float64\n",
            "horse         319 non-null float64\n",
            "dtypes: datetime64[ns](1), float64(3), int64(1)\n",
            "memory usage: 13.7 KB\n"
          ],
          "name": "stdout"
        }
      ]
    },
    {
      "cell_type": "code",
      "metadata": {
        "id": "CRIH4X_cs54m",
        "colab_type": "code",
        "outputId": "9bfbf92b-5c04-4a7d-c81c-5c64e565c9aa",
        "colab": {
          "base_uri": "https://localhost:8080/",
          "height": 187
        }
      },
      "source": [
        "df_19.info()"
      ],
      "execution_count": 0,
      "outputs": [
        {
          "output_type": "stream",
          "text": [
            "<class 'pandas.core.frame.DataFrame'>\n",
            "RangeIndex: 347 entries, 0 to 346\n",
            "Data columns (total 5 columns):\n",
            "grid_point    347 non-null int64\n",
            "date          325 non-null datetime64[ns]\n",
            "deer          319 non-null float64\n",
            "elk           319 non-null float64\n",
            "horse         319 non-null float64\n",
            "dtypes: datetime64[ns](1), float64(3), int64(1)\n",
            "memory usage: 13.7 KB\n"
          ],
          "name": "stdout"
        }
      ]
    },
    {
      "cell_type": "code",
      "metadata": {
        "id": "J-M8V_V228LC",
        "colab_type": "code",
        "colab": {}
      },
      "source": [
        "for index, row in df_19.iterrows():\n",
        "  if row['date'] < pd.Timestamp('2019-06-01 00:00:00'):\n",
        "    df_19.loc[index, 'season'] = 'spring'\n",
        "  elif row['date'] > pd.Timestamp('2019-06-01 00:00:00'):\n",
        "    df_19.loc[index, 'season'] = 'fall'"
      ],
      "execution_count": 0,
      "outputs": []
    },
    {
      "cell_type": "code",
      "metadata": {
        "id": "CNoSKYRg4zXI",
        "colab_type": "code",
        "colab": {}
      },
      "source": [
        "# convert DataFrame from wide to long format\n",
        "df_19 = pd.melt(df_19, id_vars=['grid_point', 'date', 'season'], value_vars=['elk','deer','horse'],\n",
        "        var_name='species', value_name='pellet_clusters_count')"
      ],
      "execution_count": 0,
      "outputs": []
    },
    {
      "cell_type": "markdown",
      "metadata": {
        "id": "PBxbN-AyMoW1",
        "colab_type": "text"
      },
      "source": [
        "### Remove/revise NA"
      ]
    },
    {
      "cell_type": "code",
      "metadata": {
        "id": "mhinG39lEEFA",
        "colab_type": "code",
        "colab": {}
      },
      "source": [
        "# remove rows with null values\n",
        "df_19 = df_19[(df_19.pellet_clusters_count.notnull())]"
      ],
      "execution_count": 0,
      "outputs": []
    },
    {
      "cell_type": "code",
      "metadata": {
        "id": "HSRy8ROONroK",
        "colab_type": "code",
        "outputId": "dd04e41e-2956-4068-bb61-eea2ff410bf4",
        "colab": {
          "base_uri": "https://localhost:8080/",
          "height": 142
        }
      },
      "source": [
        "df_19[df_19.date.isnull()]"
      ],
      "execution_count": 0,
      "outputs": [
        {
          "output_type": "execute_result",
          "data": {
            "text/html": [
              "<div>\n",
              "<style scoped>\n",
              "    .dataframe tbody tr th:only-of-type {\n",
              "        vertical-align: middle;\n",
              "    }\n",
              "\n",
              "    .dataframe tbody tr th {\n",
              "        vertical-align: top;\n",
              "    }\n",
              "\n",
              "    .dataframe thead th {\n",
              "        text-align: right;\n",
              "    }\n",
              "</style>\n",
              "<table border=\"1\" class=\"dataframe\">\n",
              "  <thead>\n",
              "    <tr style=\"text-align: right;\">\n",
              "      <th></th>\n",
              "      <th>grid_point</th>\n",
              "      <th>date</th>\n",
              "      <th>season</th>\n",
              "      <th>species</th>\n",
              "      <th>pellet_clusters_count</th>\n",
              "    </tr>\n",
              "  </thead>\n",
              "  <tbody>\n",
              "    <tr>\n",
              "      <th>102</th>\n",
              "      <td>197</td>\n",
              "      <td>NaT</td>\n",
              "      <td>NaN</td>\n",
              "      <td>elk</td>\n",
              "      <td>0.0</td>\n",
              "    </tr>\n",
              "    <tr>\n",
              "      <th>449</th>\n",
              "      <td>197</td>\n",
              "      <td>NaT</td>\n",
              "      <td>NaN</td>\n",
              "      <td>deer</td>\n",
              "      <td>1.0</td>\n",
              "    </tr>\n",
              "    <tr>\n",
              "      <th>796</th>\n",
              "      <td>197</td>\n",
              "      <td>NaT</td>\n",
              "      <td>NaN</td>\n",
              "      <td>horse</td>\n",
              "      <td>1.0</td>\n",
              "    </tr>\n",
              "  </tbody>\n",
              "</table>\n",
              "</div>"
            ],
            "text/plain": [
              "     grid_point date season species  pellet_clusters_count\n",
              "102         197  NaT    NaN     elk                    0.0\n",
              "449         197  NaT    NaN    deer                    1.0\n",
              "796         197  NaT    NaN   horse                    1.0"
            ]
          },
          "metadata": {
            "tags": []
          },
          "execution_count": 367
        }
      ]
    },
    {
      "cell_type": "code",
      "metadata": {
        "id": "rNDT1bN9Q89D",
        "colab_type": "code",
        "colab": {}
      },
      "source": [
        "# update row with 'NaT' 'NaN' values\n",
        "df_19.loc[df_19.date.isnull(), 'season'] = 'fall'\n",
        "df_19.loc[df_19.date.isnull(), 'date'] = '2019-09-04'"
      ],
      "execution_count": 0,
      "outputs": []
    },
    {
      "cell_type": "code",
      "metadata": {
        "id": "X3WXLr51RHeb",
        "colab_type": "code",
        "outputId": "1ce583dd-cb57-4f5a-8343-1ba3f15564ae",
        "colab": {
          "base_uri": "https://localhost:8080/",
          "height": 142
        }
      },
      "source": [
        "# check the result\n",
        "df_19[df_19.grid_point == 197]"
      ],
      "execution_count": 0,
      "outputs": [
        {
          "output_type": "execute_result",
          "data": {
            "text/html": [
              "<div>\n",
              "<style scoped>\n",
              "    .dataframe tbody tr th:only-of-type {\n",
              "        vertical-align: middle;\n",
              "    }\n",
              "\n",
              "    .dataframe tbody tr th {\n",
              "        vertical-align: top;\n",
              "    }\n",
              "\n",
              "    .dataframe thead th {\n",
              "        text-align: right;\n",
              "    }\n",
              "</style>\n",
              "<table border=\"1\" class=\"dataframe\">\n",
              "  <thead>\n",
              "    <tr style=\"text-align: right;\">\n",
              "      <th></th>\n",
              "      <th>grid_point</th>\n",
              "      <th>date</th>\n",
              "      <th>season</th>\n",
              "      <th>species</th>\n",
              "      <th>pellet_clusters_count</th>\n",
              "    </tr>\n",
              "  </thead>\n",
              "  <tbody>\n",
              "    <tr>\n",
              "      <th>102</th>\n",
              "      <td>197</td>\n",
              "      <td>2019-09-04</td>\n",
              "      <td>fall</td>\n",
              "      <td>elk</td>\n",
              "      <td>0.0</td>\n",
              "    </tr>\n",
              "    <tr>\n",
              "      <th>449</th>\n",
              "      <td>197</td>\n",
              "      <td>2019-09-04</td>\n",
              "      <td>fall</td>\n",
              "      <td>deer</td>\n",
              "      <td>1.0</td>\n",
              "    </tr>\n",
              "    <tr>\n",
              "      <th>796</th>\n",
              "      <td>197</td>\n",
              "      <td>2019-09-04</td>\n",
              "      <td>fall</td>\n",
              "      <td>horse</td>\n",
              "      <td>1.0</td>\n",
              "    </tr>\n",
              "  </tbody>\n",
              "</table>\n",
              "</div>"
            ],
            "text/plain": [
              "     grid_point        date season species  pellet_clusters_count\n",
              "102         197  2019-09-04   fall     elk                    0.0\n",
              "449         197  2019-09-04   fall    deer                    1.0\n",
              "796         197  2019-09-04   fall   horse                    1.0"
            ]
          },
          "metadata": {
            "tags": []
          },
          "execution_count": 370
        }
      ]
    },
    {
      "cell_type": "markdown",
      "metadata": {
        "id": "i6RN-U6NZ4p-",
        "colab_type": "text"
      },
      "source": [
        "### Add year column"
      ]
    },
    {
      "cell_type": "code",
      "metadata": {
        "id": "6ES6ZU1uZ8ub",
        "colab_type": "code",
        "colab": {}
      },
      "source": [
        "df_19.loc[:, 'year'] = 2019"
      ],
      "execution_count": 0,
      "outputs": []
    },
    {
      "cell_type": "code",
      "metadata": {
        "id": "9mE1rYkihb8I",
        "colab_type": "code",
        "colab": {}
      },
      "source": [
        "# reorder columns and drop date\n",
        "df_19 = df_19[['grid_point', 'year', 'season', 'species', 'pellet_clusters_count']]"
      ],
      "execution_count": 0,
      "outputs": []
    },
    {
      "cell_type": "markdown",
      "metadata": {
        "id": "8BImOSXGPX5v",
        "colab_type": "text"
      },
      "source": [
        "## 2020"
      ]
    },
    {
      "cell_type": "code",
      "metadata": {
        "id": "WnXXDSJ-PZtz",
        "colab_type": "code",
        "colab": {}
      },
      "source": [
        "# 2020-04-21_spring_biomass_data - Sheet1.csv\n",
        "src_2020 = 'https://drive.google.com/uc?id=1Q1SvzROHySWxIjG7qSFYK9luwJB6RIJ0'"
      ],
      "execution_count": 0,
      "outputs": []
    },
    {
      "cell_type": "markdown",
      "metadata": {
        "id": "ObNLuGe8oaYt",
        "colab_type": "text"
      },
      "source": [
        "# Wrangle"
      ]
    },
    {
      "cell_type": "markdown",
      "metadata": {
        "id": "VeIWL2IZojbB",
        "colab_type": "text"
      },
      "source": [
        "## 2011 - 2018"
      ]
    },
    {
      "cell_type": "code",
      "metadata": {
        "id": "h7VPxxUBc4uw",
        "colab_type": "code",
        "colab": {}
      },
      "source": [
        "# remove 2010\n",
        "df = df[(df['Year'] >= 2011)]"
      ],
      "execution_count": 0,
      "outputs": []
    },
    {
      "cell_type": "code",
      "metadata": {
        "id": "vGoFhIksfa94",
        "colab_type": "code",
        "colab": {}
      },
      "source": [
        "# rename period to season\n",
        "df = df.rename(columns={\"GridPt\":\"grid_point\", \"Year\":\"year\", \"Elk_Pellets\":\"elk\", \n",
        "                        \"Deer_Pellets\":\"deer\", \"Horse_Pellets\":\"horse\"})"
      ],
      "execution_count": 0,
      "outputs": []
    },
    {
      "cell_type": "code",
      "metadata": {
        "id": "9SPtbUzOg-EW",
        "colab_type": "code",
        "colab": {}
      },
      "source": [
        "df = pd.melt(df, id_vars=['grid_point', 'year', 'Period'], value_vars=['elk', 'deer', 'horse'], \n",
        "             var_name='species', value_name='pellet_clusters_count')"
      ],
      "execution_count": 0,
      "outputs": []
    },
    {
      "cell_type": "code",
      "metadata": {
        "id": "FxvSLacL9UIi",
        "colab_type": "code",
        "colab": {}
      },
      "source": [
        "# classify 'season' based on 'Period'\n",
        "for index, row in df.iterrows():\n",
        "  if row['Period'] == 1:\n",
        "    df.loc[index, 'season'] = 'spring'\n",
        "  if row['Period'] == 2:\n",
        "    df.loc[index, 'season'] = 'fall'"
      ],
      "execution_count": 0,
      "outputs": []
    },
    {
      "cell_type": "code",
      "metadata": {
        "id": "OiZdeu6I-AIJ",
        "colab_type": "code",
        "colab": {}
      },
      "source": [
        "# drop 'Period' column\n",
        "df = df[['grid_point', 'year', 'season', 'species', 'pellet_clusters_count']]"
      ],
      "execution_count": 0,
      "outputs": []
    },
    {
      "cell_type": "code",
      "metadata": {
        "id": "pKpYNrVykt5b",
        "colab_type": "code",
        "outputId": "e2665930-405d-4d94-e129-1ef50a2f7cc1",
        "colab": {
          "base_uri": "https://localhost:8080/",
          "height": 204
        }
      },
      "source": [
        "df[df['year'] == 2011].head()"
      ],
      "execution_count": 0,
      "outputs": [
        {
          "output_type": "execute_result",
          "data": {
            "text/html": [
              "<div>\n",
              "<style scoped>\n",
              "    .dataframe tbody tr th:only-of-type {\n",
              "        vertical-align: middle;\n",
              "    }\n",
              "\n",
              "    .dataframe tbody tr th {\n",
              "        vertical-align: top;\n",
              "    }\n",
              "\n",
              "    .dataframe thead th {\n",
              "        text-align: right;\n",
              "    }\n",
              "</style>\n",
              "<table border=\"1\" class=\"dataframe\">\n",
              "  <thead>\n",
              "    <tr style=\"text-align: right;\">\n",
              "      <th></th>\n",
              "      <th>grid_point</th>\n",
              "      <th>year</th>\n",
              "      <th>season</th>\n",
              "      <th>species</th>\n",
              "      <th>pellet_clusters_count</th>\n",
              "    </tr>\n",
              "  </thead>\n",
              "  <tbody>\n",
              "    <tr>\n",
              "      <th>0</th>\n",
              "      <td>2</td>\n",
              "      <td>2011</td>\n",
              "      <td>spring</td>\n",
              "      <td>elk</td>\n",
              "      <td>NaN</td>\n",
              "    </tr>\n",
              "    <tr>\n",
              "      <th>1</th>\n",
              "      <td>3</td>\n",
              "      <td>2011</td>\n",
              "      <td>spring</td>\n",
              "      <td>elk</td>\n",
              "      <td>NaN</td>\n",
              "    </tr>\n",
              "    <tr>\n",
              "      <th>2</th>\n",
              "      <td>4</td>\n",
              "      <td>2011</td>\n",
              "      <td>spring</td>\n",
              "      <td>elk</td>\n",
              "      <td>NaN</td>\n",
              "    </tr>\n",
              "    <tr>\n",
              "      <th>3</th>\n",
              "      <td>5</td>\n",
              "      <td>2011</td>\n",
              "      <td>spring</td>\n",
              "      <td>elk</td>\n",
              "      <td>NaN</td>\n",
              "    </tr>\n",
              "    <tr>\n",
              "      <th>4</th>\n",
              "      <td>6</td>\n",
              "      <td>2011</td>\n",
              "      <td>spring</td>\n",
              "      <td>elk</td>\n",
              "      <td>NaN</td>\n",
              "    </tr>\n",
              "  </tbody>\n",
              "</table>\n",
              "</div>"
            ],
            "text/plain": [
              "   grid_point  year  season species  pellet_clusters_count\n",
              "0           2  2011  spring     elk                    NaN\n",
              "1           3  2011  spring     elk                    NaN\n",
              "2           4  2011  spring     elk                    NaN\n",
              "3           5  2011  spring     elk                    NaN\n",
              "4           6  2011  spring     elk                    NaN"
            ]
          },
          "metadata": {
            "tags": []
          },
          "execution_count": 398
        }
      ]
    },
    {
      "cell_type": "code",
      "metadata": {
        "id": "h1t_xo2x9dXc",
        "colab_type": "code",
        "outputId": "d5857331-cd35-4119-92db-966f24b53ceb",
        "colab": {
          "base_uri": "https://localhost:8080/",
          "height": 187
        }
      },
      "source": [
        "df.info()"
      ],
      "execution_count": 0,
      "outputs": [
        {
          "output_type": "stream",
          "text": [
            "<class 'pandas.core.frame.DataFrame'>\n",
            "RangeIndex: 5115 entries, 0 to 5114\n",
            "Data columns (total 5 columns):\n",
            "grid_point               5115 non-null int64\n",
            "year                     5115 non-null int64\n",
            "season                   5115 non-null object\n",
            "species                  5115 non-null object\n",
            "pellet_clusters_count    4202 non-null float64\n",
            "dtypes: float64(1), int64(2), object(2)\n",
            "memory usage: 199.9+ KB\n"
          ],
          "name": "stdout"
        }
      ]
    },
    {
      "cell_type": "markdown",
      "metadata": {
        "id": "tkF180l1TErK",
        "colab_type": "text"
      },
      "source": [
        "### Remove/revise NA\n"
      ]
    },
    {
      "cell_type": "code",
      "metadata": {
        "id": "5LGALXHwTIyS",
        "colab_type": "code",
        "colab": {}
      },
      "source": [
        "df = df[(df.pellet_clusters_count.notnull())]"
      ],
      "execution_count": 0,
      "outputs": []
    },
    {
      "cell_type": "markdown",
      "metadata": {
        "id": "jK2KoQz7qUDf",
        "colab_type": "text"
      },
      "source": [
        "## 2019"
      ]
    },
    {
      "cell_type": "markdown",
      "metadata": {
        "id": "96sklAuNZqVk",
        "colab_type": "text"
      },
      "source": [
        "## Combine 2011 - 2018 and 2019"
      ]
    },
    {
      "cell_type": "code",
      "metadata": {
        "id": "XVr3nu7bZqrM",
        "colab_type": "code",
        "outputId": "cf7e1e35-0163-416f-cee5-7ea82710284a",
        "colab": {
          "base_uri": "https://localhost:8080/",
          "height": 204
        }
      },
      "source": [
        "df.head()"
      ],
      "execution_count": 0,
      "outputs": [
        {
          "output_type": "execute_result",
          "data": {
            "text/html": [
              "<div>\n",
              "<style scoped>\n",
              "    .dataframe tbody tr th:only-of-type {\n",
              "        vertical-align: middle;\n",
              "    }\n",
              "\n",
              "    .dataframe tbody tr th {\n",
              "        vertical-align: top;\n",
              "    }\n",
              "\n",
              "    .dataframe thead th {\n",
              "        text-align: right;\n",
              "    }\n",
              "</style>\n",
              "<table border=\"1\" class=\"dataframe\">\n",
              "  <thead>\n",
              "    <tr style=\"text-align: right;\">\n",
              "      <th></th>\n",
              "      <th>grid_point</th>\n",
              "      <th>year</th>\n",
              "      <th>season</th>\n",
              "      <th>species</th>\n",
              "      <th>pellet_clusters_count</th>\n",
              "    </tr>\n",
              "  </thead>\n",
              "  <tbody>\n",
              "    <tr>\n",
              "      <th>69</th>\n",
              "      <td>2</td>\n",
              "      <td>2011</td>\n",
              "      <td>fall</td>\n",
              "      <td>elk</td>\n",
              "      <td>1.0</td>\n",
              "    </tr>\n",
              "    <tr>\n",
              "      <th>70</th>\n",
              "      <td>3</td>\n",
              "      <td>2011</td>\n",
              "      <td>fall</td>\n",
              "      <td>elk</td>\n",
              "      <td>2.0</td>\n",
              "    </tr>\n",
              "    <tr>\n",
              "      <th>71</th>\n",
              "      <td>4</td>\n",
              "      <td>2011</td>\n",
              "      <td>fall</td>\n",
              "      <td>elk</td>\n",
              "      <td>3.0</td>\n",
              "    </tr>\n",
              "    <tr>\n",
              "      <th>72</th>\n",
              "      <td>5</td>\n",
              "      <td>2011</td>\n",
              "      <td>fall</td>\n",
              "      <td>elk</td>\n",
              "      <td>2.0</td>\n",
              "    </tr>\n",
              "    <tr>\n",
              "      <th>73</th>\n",
              "      <td>6</td>\n",
              "      <td>2011</td>\n",
              "      <td>fall</td>\n",
              "      <td>elk</td>\n",
              "      <td>0.0</td>\n",
              "    </tr>\n",
              "  </tbody>\n",
              "</table>\n",
              "</div>"
            ],
            "text/plain": [
              "    grid_point  year season species  pellet_clusters_count\n",
              "69           2  2011   fall     elk                    1.0\n",
              "70           3  2011   fall     elk                    2.0\n",
              "71           4  2011   fall     elk                    3.0\n",
              "72           5  2011   fall     elk                    2.0\n",
              "73           6  2011   fall     elk                    0.0"
            ]
          },
          "metadata": {
            "tags": []
          },
          "execution_count": 373
        }
      ]
    },
    {
      "cell_type": "code",
      "metadata": {
        "id": "j_VYB6ZRZtam",
        "colab_type": "code",
        "outputId": "321fb100-897e-49fc-a916-1f1b10c41dd4",
        "colab": {
          "base_uri": "https://localhost:8080/",
          "height": 204
        }
      },
      "source": [
        "df_19.head()"
      ],
      "execution_count": 0,
      "outputs": [
        {
          "output_type": "execute_result",
          "data": {
            "text/html": [
              "<div>\n",
              "<style scoped>\n",
              "    .dataframe tbody tr th:only-of-type {\n",
              "        vertical-align: middle;\n",
              "    }\n",
              "\n",
              "    .dataframe tbody tr th {\n",
              "        vertical-align: top;\n",
              "    }\n",
              "\n",
              "    .dataframe thead th {\n",
              "        text-align: right;\n",
              "    }\n",
              "</style>\n",
              "<table border=\"1\" class=\"dataframe\">\n",
              "  <thead>\n",
              "    <tr style=\"text-align: right;\">\n",
              "      <th></th>\n",
              "      <th>grid_point</th>\n",
              "      <th>year</th>\n",
              "      <th>season</th>\n",
              "      <th>species</th>\n",
              "      <th>pellet_clusters_count</th>\n",
              "    </tr>\n",
              "  </thead>\n",
              "  <tbody>\n",
              "    <tr>\n",
              "      <th>0</th>\n",
              "      <td>9</td>\n",
              "      <td>2019</td>\n",
              "      <td>fall</td>\n",
              "      <td>elk</td>\n",
              "      <td>3.0</td>\n",
              "    </tr>\n",
              "    <tr>\n",
              "      <th>1</th>\n",
              "      <td>10</td>\n",
              "      <td>2019</td>\n",
              "      <td>fall</td>\n",
              "      <td>elk</td>\n",
              "      <td>1.0</td>\n",
              "    </tr>\n",
              "    <tr>\n",
              "      <th>2</th>\n",
              "      <td>11</td>\n",
              "      <td>2019</td>\n",
              "      <td>fall</td>\n",
              "      <td>elk</td>\n",
              "      <td>1.0</td>\n",
              "    </tr>\n",
              "    <tr>\n",
              "      <th>3</th>\n",
              "      <td>12</td>\n",
              "      <td>2019</td>\n",
              "      <td>fall</td>\n",
              "      <td>elk</td>\n",
              "      <td>2.0</td>\n",
              "    </tr>\n",
              "    <tr>\n",
              "      <th>4</th>\n",
              "      <td>19</td>\n",
              "      <td>2019</td>\n",
              "      <td>fall</td>\n",
              "      <td>elk</td>\n",
              "      <td>0.0</td>\n",
              "    </tr>\n",
              "  </tbody>\n",
              "</table>\n",
              "</div>"
            ],
            "text/plain": [
              "   grid_point  year season species  pellet_clusters_count\n",
              "0           9  2019   fall     elk                    3.0\n",
              "1          10  2019   fall     elk                    1.0\n",
              "2          11  2019   fall     elk                    1.0\n",
              "3          12  2019   fall     elk                    2.0\n",
              "4          19  2019   fall     elk                    0.0"
            ]
          },
          "metadata": {
            "tags": []
          },
          "execution_count": 374
        }
      ]
    },
    {
      "cell_type": "code",
      "metadata": {
        "id": "Gqo-8qDSikyG",
        "colab_type": "code",
        "colab": {}
      },
      "source": [
        "frames = [df, df_19]\n",
        "result = pd.concat(frames)"
      ],
      "execution_count": 0,
      "outputs": []
    },
    {
      "cell_type": "code",
      "metadata": {
        "id": "4Ue6TeBdiscL",
        "colab_type": "code",
        "outputId": "c9d0a1ac-bde7-46b9-93b7-3640f02305e6",
        "colab": {
          "base_uri": "https://localhost:8080/",
          "height": 204
        }
      },
      "source": [
        "result.tail()"
      ],
      "execution_count": 0,
      "outputs": [
        {
          "output_type": "execute_result",
          "data": {
            "text/html": [
              "<div>\n",
              "<style scoped>\n",
              "    .dataframe tbody tr th:only-of-type {\n",
              "        vertical-align: middle;\n",
              "    }\n",
              "\n",
              "    .dataframe tbody tr th {\n",
              "        vertical-align: top;\n",
              "    }\n",
              "\n",
              "    .dataframe thead th {\n",
              "        text-align: right;\n",
              "    }\n",
              "</style>\n",
              "<table border=\"1\" class=\"dataframe\">\n",
              "  <thead>\n",
              "    <tr style=\"text-align: right;\">\n",
              "      <th></th>\n",
              "      <th>grid_point</th>\n",
              "      <th>year</th>\n",
              "      <th>season</th>\n",
              "      <th>species</th>\n",
              "      <th>pellet_clusters_count</th>\n",
              "    </tr>\n",
              "  </thead>\n",
              "  <tbody>\n",
              "    <tr>\n",
              "      <th>1036</th>\n",
              "      <td>559</td>\n",
              "      <td>2019</td>\n",
              "      <td>spring</td>\n",
              "      <td>horse</td>\n",
              "      <td>0.0</td>\n",
              "    </tr>\n",
              "    <tr>\n",
              "      <th>1037</th>\n",
              "      <td>560</td>\n",
              "      <td>2019</td>\n",
              "      <td>spring</td>\n",
              "      <td>horse</td>\n",
              "      <td>0.0</td>\n",
              "    </tr>\n",
              "    <tr>\n",
              "      <th>1038</th>\n",
              "      <td>561</td>\n",
              "      <td>2019</td>\n",
              "      <td>spring</td>\n",
              "      <td>horse</td>\n",
              "      <td>0.0</td>\n",
              "    </tr>\n",
              "    <tr>\n",
              "      <th>1039</th>\n",
              "      <td>571</td>\n",
              "      <td>2019</td>\n",
              "      <td>spring</td>\n",
              "      <td>horse</td>\n",
              "      <td>0.0</td>\n",
              "    </tr>\n",
              "    <tr>\n",
              "      <th>1040</th>\n",
              "      <td>572</td>\n",
              "      <td>2019</td>\n",
              "      <td>spring</td>\n",
              "      <td>horse</td>\n",
              "      <td>0.0</td>\n",
              "    </tr>\n",
              "  </tbody>\n",
              "</table>\n",
              "</div>"
            ],
            "text/plain": [
              "      grid_point  year  season species  pellet_clusters_count\n",
              "1036         559  2019  spring   horse                    0.0\n",
              "1037         560  2019  spring   horse                    0.0\n",
              "1038         561  2019  spring   horse                    0.0\n",
              "1039         571  2019  spring   horse                    0.0\n",
              "1040         572  2019  spring   horse                    0.0"
            ]
          },
          "metadata": {
            "tags": []
          },
          "execution_count": 376
        }
      ]
    },
    {
      "cell_type": "markdown",
      "metadata": {
        "id": "e_w64pawkb_D",
        "colab_type": "text"
      },
      "source": [
        "## Wide format"
      ]
    },
    {
      "cell_type": "code",
      "metadata": {
        "id": "lDiD8Hdukc9z",
        "colab_type": "code",
        "colab": {}
      },
      "source": [
        "wide = result.set_index(['grid_point', 'year', 'season', 'species']).unstack(level=-1).reset_index()"
      ],
      "execution_count": 0,
      "outputs": []
    },
    {
      "cell_type": "code",
      "metadata": {
        "id": "S6kQp7fdpYn4",
        "colab_type": "code",
        "colab": {}
      },
      "source": [
        "wide.columns = ['grid_point', 'year', 'season', 'deer', 'elk', 'horse']"
      ],
      "execution_count": 0,
      "outputs": []
    },
    {
      "cell_type": "code",
      "metadata": {
        "id": "wHbssQTQrnPf",
        "colab_type": "code",
        "outputId": "01676575-bcd0-494d-edcc-60cfc23b8210",
        "colab": {
          "base_uri": "https://localhost:8080/",
          "height": 204
        }
      },
      "source": [
        "wide.info()"
      ],
      "execution_count": 0,
      "outputs": [
        {
          "output_type": "stream",
          "text": [
            "<class 'pandas.core.frame.DataFrame'>\n",
            "RangeIndex: 1946 entries, 0 to 1945\n",
            "Data columns (total 6 columns):\n",
            "grid_point    1946 non-null int64\n",
            "year          1946 non-null int64\n",
            "season        1946 non-null object\n",
            "deer          1946 non-null float64\n",
            "elk           1946 non-null float64\n",
            "horse         1267 non-null float64\n",
            "dtypes: float64(3), int64(2), object(1)\n",
            "memory usage: 91.3+ KB\n"
          ],
          "name": "stdout"
        }
      ]
    },
    {
      "cell_type": "code",
      "metadata": {
        "id": "ErDVtpb6-SWv",
        "colab_type": "code",
        "outputId": "f3aaded5-da28-484c-b1a3-b7545ee835d8",
        "colab": {
          "base_uri": "https://localhost:8080/",
          "height": 204
        }
      },
      "source": [
        "wide.tail()"
      ],
      "execution_count": 0,
      "outputs": [
        {
          "output_type": "execute_result",
          "data": {
            "text/html": [
              "<div>\n",
              "<style scoped>\n",
              "    .dataframe tbody tr th:only-of-type {\n",
              "        vertical-align: middle;\n",
              "    }\n",
              "\n",
              "    .dataframe tbody tr th {\n",
              "        vertical-align: top;\n",
              "    }\n",
              "\n",
              "    .dataframe thead th {\n",
              "        text-align: right;\n",
              "    }\n",
              "</style>\n",
              "<table border=\"1\" class=\"dataframe\">\n",
              "  <thead>\n",
              "    <tr style=\"text-align: right;\">\n",
              "      <th></th>\n",
              "      <th>grid_point</th>\n",
              "      <th>year</th>\n",
              "      <th>season</th>\n",
              "      <th>deer</th>\n",
              "      <th>elk</th>\n",
              "      <th>horse</th>\n",
              "    </tr>\n",
              "  </thead>\n",
              "  <tbody>\n",
              "    <tr>\n",
              "      <th>1941</th>\n",
              "      <td>571</td>\n",
              "      <td>2019</td>\n",
              "      <td>spring</td>\n",
              "      <td>0.0</td>\n",
              "      <td>0.0</td>\n",
              "      <td>0.0</td>\n",
              "    </tr>\n",
              "    <tr>\n",
              "      <th>1942</th>\n",
              "      <td>572</td>\n",
              "      <td>2019</td>\n",
              "      <td>fall</td>\n",
              "      <td>0.0</td>\n",
              "      <td>0.0</td>\n",
              "      <td>0.0</td>\n",
              "    </tr>\n",
              "    <tr>\n",
              "      <th>1943</th>\n",
              "      <td>572</td>\n",
              "      <td>2019</td>\n",
              "      <td>spring</td>\n",
              "      <td>0.0</td>\n",
              "      <td>0.0</td>\n",
              "      <td>0.0</td>\n",
              "    </tr>\n",
              "    <tr>\n",
              "      <th>1944</th>\n",
              "      <td>574</td>\n",
              "      <td>2015</td>\n",
              "      <td>fall</td>\n",
              "      <td>2.0</td>\n",
              "      <td>4.0</td>\n",
              "      <td>0.0</td>\n",
              "    </tr>\n",
              "    <tr>\n",
              "      <th>1945</th>\n",
              "      <td>574</td>\n",
              "      <td>2015</td>\n",
              "      <td>spring</td>\n",
              "      <td>5.0</td>\n",
              "      <td>0.0</td>\n",
              "      <td>0.0</td>\n",
              "    </tr>\n",
              "  </tbody>\n",
              "</table>\n",
              "</div>"
            ],
            "text/plain": [
              "      grid_point  year  season  deer  elk  horse\n",
              "1941         571  2019  spring   0.0  0.0    0.0\n",
              "1942         572  2019    fall   0.0  0.0    0.0\n",
              "1943         572  2019  spring   0.0  0.0    0.0\n",
              "1944         574  2015    fall   2.0  4.0    0.0\n",
              "1945         574  2015  spring   5.0  0.0    0.0"
            ]
          },
          "metadata": {
            "tags": []
          },
          "execution_count": 381
        }
      ]
    },
    {
      "cell_type": "code",
      "metadata": {
        "id": "siztDpuqospj",
        "colab_type": "code",
        "colab": {
          "base_uri": "https://localhost:8080/",
          "height": 130
        },
        "outputId": "9151bad3-119e-4c75-85c6-96382694e42a"
      },
      "source": [
        "# output 2020-03-24\n",
        "# used as source for BigQuery table 'pellet_count'\n",
        "wide.to_csv(\"pellet_count-2011_2019.csv\", index=None"
      ],
      "execution_count": 3,
      "outputs": [
        {
          "output_type": "error",
          "ename": "SyntaxError",
          "evalue": "ignored",
          "traceback": [
            "\u001b[0;36m  File \u001b[0;32m\"<ipython-input-3-6debc9e91e80>\"\u001b[0;36m, line \u001b[0;32m1\u001b[0m\n\u001b[0;31m    wide.to_csv(\"pellet_count-2011_2019.csv\", index=None\u001b[0m\n\u001b[0m                                                        ^\u001b[0m\n\u001b[0;31mSyntaxError\u001b[0m\u001b[0;31m:\u001b[0m unexpected EOF while parsing\n"
          ]
        }
      ]
    },
    {
      "cell_type": "markdown",
      "metadata": {
        "id": "pWst9RXSPm_N",
        "colab_type": "text"
      },
      "source": [
        "## 2020\n"
      ]
    },
    {
      "cell_type": "code",
      "metadata": {
        "id": "ralp9cExPpg3",
        "colab_type": "code",
        "colab": {}
      },
      "source": [
        "# load 2020 data into DataFrame\n",
        "df_2020 = pd.read_csv(src_2020)"
      ],
      "execution_count": 0,
      "outputs": []
    },
    {
      "cell_type": "code",
      "metadata": {
        "id": "pf-ijO0gPwiV",
        "colab_type": "code",
        "colab": {}
      },
      "source": [
        "# select columns pertinent to pellet counts\n",
        "df_2020 = df_2020.loc[:, ['Plot', 'year', 'season', 'pellets_Deer', 'pellets_Elk', 'pellets_Horse']]"
      ],
      "execution_count": 0,
      "outputs": []
    },
    {
      "cell_type": "code",
      "metadata": {
        "id": "t5xVaAzhQm6S",
        "colab_type": "code",
        "colab": {}
      },
      "source": [
        "# rename columns\n",
        "df_2020.columns = ['grid_point', 'year', 'season', 'deer', 'elk', 'horse']"
      ],
      "execution_count": 0,
      "outputs": []
    },
    {
      "cell_type": "code",
      "metadata": {
        "id": "VgIdmoEcSy2U",
        "colab_type": "code",
        "colab": {}
      },
      "source": [
        "# update columns datatypes to match BigQuery Table\n",
        "# 'season' to string\n",
        "df_2020['season'] = df_2020['season'].astype(str)\n",
        "\n",
        "# ['deer', 'elk', 'horse'] to float\n",
        "df_2020[\"deer\"] = pd.to_numeric(df_2020[\"deer\"], downcast=\"float\")\n",
        "df_2020[\"elk\"] = pd.to_numeric(df_2020[\"elk\"], downcast=\"float\")\n",
        "df_2020[\"horse\"] = pd.to_numeric(df_2020[\"horse\"], downcast=\"float\")"
      ],
      "execution_count": 0,
      "outputs": []
    },
    {
      "cell_type": "markdown",
      "metadata": {
        "id": "HmaUlcb2NGVh",
        "colab_type": "text"
      },
      "source": [
        "# Update"
      ]
    },
    {
      "cell_type": "markdown",
      "metadata": {
        "id": "GtkwryYzQ418",
        "colab_type": "text"
      },
      "source": [
        "BigQuery Table: [mpg-data-warehouse:vegetation_biomass.pellet_count](https://console.cloud.google.com/bigquery?project=mpg-data-warehouse&p=mpg-data-warehouse&d=vegetation_biomass&t=pellet_count&page=table)"
      ]
    },
    {
      "cell_type": "markdown",
      "metadata": {
        "id": "sLzX16sVSaZJ",
        "colab_type": "text"
      },
      "source": [
        "## 2020 Spring"
      ]
    },
    {
      "cell_type": "code",
      "metadata": {
        "id": "Kf1goXBtSPsF",
        "colab_type": "code",
        "colab": {
          "base_uri": "https://localhost:8080/",
          "height": 111
        },
        "outputId": "0b53f961-3c19-4e80-bb3d-d1ec99eba015"
      },
      "source": [
        "df_2020.head(2)"
      ],
      "execution_count": 45,
      "outputs": [
        {
          "output_type": "execute_result",
          "data": {
            "text/html": [
              "<div>\n",
              "<style scoped>\n",
              "    .dataframe tbody tr th:only-of-type {\n",
              "        vertical-align: middle;\n",
              "    }\n",
              "\n",
              "    .dataframe tbody tr th {\n",
              "        vertical-align: top;\n",
              "    }\n",
              "\n",
              "    .dataframe thead th {\n",
              "        text-align: right;\n",
              "    }\n",
              "</style>\n",
              "<table border=\"1\" class=\"dataframe\">\n",
              "  <thead>\n",
              "    <tr style=\"text-align: right;\">\n",
              "      <th></th>\n",
              "      <th>grid_point</th>\n",
              "      <th>year</th>\n",
              "      <th>season</th>\n",
              "      <th>deer</th>\n",
              "      <th>elk</th>\n",
              "      <th>horse</th>\n",
              "    </tr>\n",
              "  </thead>\n",
              "  <tbody>\n",
              "    <tr>\n",
              "      <th>0</th>\n",
              "      <td>9</td>\n",
              "      <td>2020</td>\n",
              "      <td>spring</td>\n",
              "      <td>0.0</td>\n",
              "      <td>2.0</td>\n",
              "      <td>0.0</td>\n",
              "    </tr>\n",
              "    <tr>\n",
              "      <th>1</th>\n",
              "      <td>10</td>\n",
              "      <td>2020</td>\n",
              "      <td>spring</td>\n",
              "      <td>2.0</td>\n",
              "      <td>3.0</td>\n",
              "      <td>1.0</td>\n",
              "    </tr>\n",
              "  </tbody>\n",
              "</table>\n",
              "</div>"
            ],
            "text/plain": [
              "   grid_point  year  season  deer  elk  horse\n",
              "0           9  2020  spring   0.0  2.0    0.0\n",
              "1          10  2020  spring   2.0  3.0    1.0"
            ]
          },
          "metadata": {
            "tags": []
          },
          "execution_count": 45
        }
      ]
    },
    {
      "cell_type": "code",
      "metadata": {
        "id": "2IXMYkFBSRPx",
        "colab_type": "code",
        "colab": {
          "base_uri": "https://localhost:8080/",
          "height": 238
        },
        "outputId": "0d545f5f-e3b5-432c-bf91-6a42e0f726ae"
      },
      "source": [
        "df_2020.info()"
      ],
      "execution_count": 46,
      "outputs": [
        {
          "output_type": "stream",
          "text": [
            "<class 'pandas.core.frame.DataFrame'>\n",
            "RangeIndex: 162 entries, 0 to 161\n",
            "Data columns (total 6 columns):\n",
            " #   Column      Non-Null Count  Dtype  \n",
            "---  ------      --------------  -----  \n",
            " 0   grid_point  162 non-null    int64  \n",
            " 1   year        162 non-null    int64  \n",
            " 2   season      162 non-null    object \n",
            " 3   deer        162 non-null    float32\n",
            " 4   elk         162 non-null    float32\n",
            " 5   horse       162 non-null    float32\n",
            "dtypes: float32(3), int64(2), object(1)\n",
            "memory usage: 5.8+ KB\n"
          ],
          "name": "stdout"
        }
      ]
    },
    {
      "cell_type": "code",
      "metadata": {
        "id": "cOJRyMI4QPJd",
        "colab_type": "code",
        "colab": {}
      },
      "source": [
        "# append 2020 Spring DataFrame to BigQuery table\n",
        "df_2020.to_gbq('vegetation_biomass.pellet_count', 'mpg-data-warehouse', if_exists='append')"
      ],
      "execution_count": 0,
      "outputs": []
    }
  ]
}