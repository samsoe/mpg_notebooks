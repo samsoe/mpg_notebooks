{
  "nbformat": 4,
  "nbformat_minor": 0,
  "metadata": {
    "colab": {
      "name": "gridVeg_plant_functional_groups-WRANGLE.ipynb",
      "provenance": [],
      "collapsed_sections": [],
      "toc_visible": true,
      "include_colab_link": true
    },
    "language_info": {
      "codemirror_mode": "r",
      "file_extension": ".r",
      "mimetype": "text/x-r-source",
      "name": "R",
      "pygments_lexer": "r",
      "version": "3.3.1"
    },
    "kernelspec": {
      "display_name": "R",
      "language": "R",
      "name": "ir"
    }
  },
  "cells": [
    {
      "cell_type": "markdown",
      "metadata": {
        "id": "view-in-github",
        "colab_type": "text"
      },
      "source": [
        "<a href=\"https://colab.research.google.com/github/samsoe/mpg_notebooks/blob/master/gridVeg_plant_functional_groups_WRANGLE.ipynb\" target=\"_parent\"><img src=\"https://colab.research.google.com/assets/colab-badge.svg\" alt=\"Open In Colab\"/></a>"
      ]
    },
    {
      "cell_type": "markdown",
      "metadata": {
        "id": "BhOI1uU2Koum"
      },
      "source": [
        "# Security"
      ]
    },
    {
      "cell_type": "markdown",
      "metadata": {
        "id": "hgB3r3wvA9Pn"
      },
      "source": [
        "* The user must load a `json` file containing the BigQuery API key into the local directory `/content/...`\n",
        "* The user must have a Google Maps API key to enable mapping. \n",
        "   * CAUTION make sure the key is deleted from the current instance of the notebook before sharing"
      ]
    },
    {
      "cell_type": "markdown",
      "metadata": {
        "id": "MnG0ah7OA59c"
      },
      "source": [
        "# Tools"
      ]
    },
    {
      "cell_type": "code",
      "metadata": {
        "id": "Y6y4EWeYpVBJ",
        "colab": {
          "base_uri": "https://localhost:8080/"
        },
        "outputId": "8bc868f1-8db9-4e8b-8ba0-454aed47aa1c"
      },
      "source": [
        "library(tidyverse)"
      ],
      "execution_count": 2,
      "outputs": [
        {
          "output_type": "stream",
          "text": [
            "── \u001b[1mAttaching packages\u001b[22m ─────────────────────────────────────── tidyverse 1.3.0 ──\n",
            "\n",
            "\u001b[32m✔\u001b[39m \u001b[34mggplot2\u001b[39m 3.3.3     \u001b[32m✔\u001b[39m \u001b[34mpurrr  \u001b[39m 0.3.4\n",
            "\u001b[32m✔\u001b[39m \u001b[34mtibble \u001b[39m 3.0.5     \u001b[32m✔\u001b[39m \u001b[34mdplyr  \u001b[39m 1.0.3\n",
            "\u001b[32m✔\u001b[39m \u001b[34mtidyr  \u001b[39m 1.1.2     \u001b[32m✔\u001b[39m \u001b[34mstringr\u001b[39m 1.4.0\n",
            "\u001b[32m✔\u001b[39m \u001b[34mreadr  \u001b[39m 1.4.0     \u001b[32m✔\u001b[39m \u001b[34mforcats\u001b[39m 0.5.0\n",
            "\n",
            "── \u001b[1mConflicts\u001b[22m ────────────────────────────────────────── tidyverse_conflicts() ──\n",
            "\u001b[31m✖\u001b[39m \u001b[34mdplyr\u001b[39m::\u001b[32mfilter()\u001b[39m masks \u001b[34mstats\u001b[39m::filter()\n",
            "\u001b[31m✖\u001b[39m \u001b[34mdplyr\u001b[39m::\u001b[32mlag()\u001b[39m    masks \u001b[34mstats\u001b[39m::lag()\n",
            "\n"
          ],
          "name": "stderr"
        }
      ]
    },
    {
      "cell_type": "markdown",
      "metadata": {
        "id": "eUw-It3JBBrQ"
      },
      "source": [
        "* Remember that the file containing authorization keys for Big Query must be loaded into the virutual envrionment manually."
      ]
    },
    {
      "cell_type": "code",
      "metadata": {
        "id": "VxYkYhQTKouo",
        "colab": {
          "base_uri": "https://localhost:8080/"
        },
        "outputId": "a2a1b101-e86d-4af5-ac8b-b2e4bbaf639a"
      },
      "source": [
        "install.packages(\"bigrquery\")\n",
        "library(bigrquery)"
      ],
      "execution_count": 1,
      "outputs": [
        {
          "output_type": "stream",
          "text": [
            "Installing package into ‘/usr/local/lib/R/site-library’\n",
            "(as ‘lib’ is unspecified)\n",
            "\n",
            "also installing the dependencies ‘bit’, ‘bit64’, ‘gargle’, ‘rapidjsonr’\n",
            "\n",
            "\n"
          ],
          "name": "stderr"
        }
      ]
    },
    {
      "cell_type": "markdown",
      "metadata": {
        "id": "H1I9aQ_SBH3n"
      },
      "source": [
        "# Source"
      ]
    },
    {
      "cell_type": "markdown",
      "metadata": {
        "id": "Bfb7MHpGBJMO"
      },
      "source": [
        "## Database Connection"
      ]
    },
    {
      "cell_type": "code",
      "metadata": {
        "id": "ihI70_BPKouq"
      },
      "source": [
        "# BigQuery API Key\n",
        "bq_auth(path = \"/content/mpg-data-warehouse-api_key-master.json\")"
      ],
      "execution_count": 3,
      "outputs": []
    },
    {
      "cell_type": "code",
      "metadata": {
        "id": "8YxL8wHoBNxV"
      },
      "source": [
        "Sys.setenv(BIGQUERY_TEST_PROJECT = \"mpg-data-warehouse\")"
      ],
      "execution_count": 4,
      "outputs": []
    },
    {
      "cell_type": "code",
      "metadata": {
        "id": "yevfizb5BQXm"
      },
      "source": [
        "billing <- bq_test_project()"
      ],
      "execution_count": 5,
      "outputs": []
    },
    {
      "cell_type": "markdown",
      "metadata": {
        "id": "ej7-Bwrr9Eo3"
      },
      "source": [
        "## Database Query"
      ]
    },
    {
      "cell_type": "markdown",
      "metadata": {
        "id": "JN4Z34yRp2-k"
      },
      "source": [
        "### gridVeg_plant_intercepts"
      ]
    },
    {
      "cell_type": "code",
      "metadata": {
        "id": "26UqASAoB2p0",
        "colab": {
          "base_uri": "https://localhost:8080/"
        },
        "outputId": "46550909-e213-4813-e57c-a17aec98676d"
      },
      "source": [
        "sql_plant_intercepts <- \n",
        "\"\n",
        "  SELECT \n",
        "    survey_ID,\n",
        "    grid_point,\n",
        "    key_plant_code,\n",
        "    plant_native_status,\n",
        "    plant_life_cycle,\n",
        "    plant_life_form,\n",
        "    intercepts_pct\n",
        "  FROM \n",
        "    `mpg-data-warehouse.vegetation_gridVeg_summaries.gridVeg_foliar_cover_all`\n",
        "\"\n",
        "bq_plant_intercepts <- bq_project_query(billing, sql_plant_intercepts)\n",
        "tb_plant_intercepts <- bq_table_download(bq_plant_intercepts)\n",
        "df_plant_intercepts <- as.data.frame(tb_plant_intercepts) %>% glimpse()"
      ],
      "execution_count": 6,
      "outputs": [
        {
          "output_type": "stream",
          "text": [
            "Rows: 23,857\n",
            "Columns: 7\n",
            "$ survey_ID           \u001b[3m\u001b[90m<chr>\u001b[39m\u001b[23m \"436\", \"436\", \"436\", \"436\", \"436\", \"436\", \"436\", …\n",
            "$ grid_point          \u001b[3m\u001b[90m<int>\u001b[39m\u001b[23m 1, 1, 1, 1, 1, 1, 1, 1, 1, 1, 1, 1, 1, 1, 1, 1, 1…\n",
            "$ key_plant_code      \u001b[3m\u001b[90m<chr>\u001b[39m\u001b[23m \"ELYTRA\", \"POAPAL\", \"FESCAM\", \"ARESER\", \"HEUCYL\",…\n",
            "$ plant_native_status \u001b[3m\u001b[90m<chr>\u001b[39m\u001b[23m \"native\", \"native\", \"native\", \"nonnative\", \"nativ…\n",
            "$ plant_life_cycle    \u001b[3m\u001b[90m<chr>\u001b[39m\u001b[23m \"perennial\", \"perennial\", \"perennial\", \"annual\", …\n",
            "$ plant_life_form     \u001b[3m\u001b[90m<chr>\u001b[39m\u001b[23m \"graminoid\", \"graminoid\", \"graminoid\", \"forb\", \"f…\n",
            "$ intercepts_pct      \u001b[3m\u001b[90m<dbl>\u001b[39m\u001b[23m 2.5, 1.5, 14.5, 1.0, 2.5, 1.0, 1.0, 0.5, 0.5, 0.5…\n"
          ],
          "name": "stdout"
        }
      ]
    },
    {
      "cell_type": "markdown",
      "metadata": {
        "id": "2GeNGcds9Ldu"
      },
      "source": [
        "### gridVeg_survey_metadata"
      ]
    },
    {
      "cell_type": "code",
      "metadata": {
        "id": "r_aY8pzP9SHY",
        "colab": {
          "base_uri": "https://localhost:8080/"
        },
        "outputId": "41574b9b-d626-4cf5-8b74-565f62d6f260"
      },
      "source": [
        "sql_survey_metadata <- \"\n",
        "  SELECT \n",
        "    survey_ID,\n",
        "    year,\n",
        "    survey_sequence,\n",
        "    grid_point\n",
        "  FROM\n",
        "    mpg-data-warehouse.vegetation_point_intercept_gridVeg.gridVeg_survey_metadata\n",
        "\"\n",
        "bq_survey_metadata <- bq_project_query(billing, sql_survey_metadata)\n",
        "tb_survey_metadata <- bq_table_download(bq_survey_metadata)\n",
        "df_survey_metadata <- as.data.frame(tb_survey_metadata) %>% glimpse()"
      ],
      "execution_count": 7,
      "outputs": [
        {
          "output_type": "stream",
          "text": [
            "Rows: 1,472\n",
            "Columns: 4\n",
            "$ survey_ID       \u001b[3m\u001b[90m<chr>\u001b[39m\u001b[23m \"F31C56A8-912D-410C-A17D-4C2DD75F71A4\", \"A19E87E6-A89…\n",
            "$ year            \u001b[3m\u001b[90m<int>\u001b[39m\u001b[23m 2016, 2016, 2016, 2016, 2016, 2016, 2016, 2016, 2016,…\n",
            "$ survey_sequence \u001b[3m\u001b[90m<chr>\u001b[39m\u001b[23m \"2016\", \"2016\", \"2016\", \"2016\", \"2016\", \"2016\", \"2016…\n",
            "$ grid_point      \u001b[3m\u001b[90m<int>\u001b[39m\u001b[23m 30, 31, 32, 94, 153, 154, 155, 159, 160, 207, 215, 21…\n"
          ],
          "name": "stdout"
        }
      ]
    },
    {
      "cell_type": "markdown",
      "metadata": {
        "id": "vwHjDqfcEL_5"
      },
      "source": [
        "# Wrangle"
      ]
    },
    {
      "cell_type": "markdown",
      "metadata": {
        "id": "KCzN4z6fHk8l"
      },
      "source": [
        "Start with the view vegetation_gridVeg_summaries:gridVeg_plant_intercepts. Remove records where key_plant_code = “NV” (corresponds with key_plant_species = 360)."
      ]
    },
    {
      "cell_type": "markdown",
      "metadata": {
        "id": "GCS6LTc8fWiP"
      },
      "source": [
        "## Explore key_plant_code \"NV\""
      ]
    },
    {
      "cell_type": "code",
      "metadata": {
        "id": "FCBLKCkBu7Ve",
        "colab": {
          "base_uri": "https://localhost:8080/"
        },
        "outputId": "2eeaca02-d454-451b-d4dc-3db0a62bef06"
      },
      "source": [
        "df_plant_intercepts %>%\n",
        "  filter(key_plant_code == \"NV\") %>% \n",
        "  glimpse() "
      ],
      "execution_count": 8,
      "outputs": [
        {
          "output_type": "stream",
          "text": [
            "Rows: 0\n",
            "Columns: 7\n",
            "$ survey_ID           \u001b[3m\u001b[90m<chr>\u001b[39m\u001b[23m \n",
            "$ grid_point          \u001b[3m\u001b[90m<int>\u001b[39m\u001b[23m \n",
            "$ key_plant_code      \u001b[3m\u001b[90m<chr>\u001b[39m\u001b[23m \n",
            "$ plant_native_status \u001b[3m\u001b[90m<chr>\u001b[39m\u001b[23m \n",
            "$ plant_life_cycle    \u001b[3m\u001b[90m<chr>\u001b[39m\u001b[23m \n",
            "$ plant_life_form     \u001b[3m\u001b[90m<chr>\u001b[39m\u001b[23m \n",
            "$ intercepts_pct      \u001b[3m\u001b[90m<dbl>\u001b[39m\u001b[23m \n"
          ],
          "name": "stdout"
        }
      ]
    },
    {
      "cell_type": "markdown",
      "metadata": {
        "id": "R1OTSXOBfhsv"
      },
      "source": [
        "## Remove key_plant_code \"NV\""
      ]
    },
    {
      "cell_type": "code",
      "metadata": {
        "id": "vDf_PdMVDOmx"
      },
      "source": [
        "df_plant_functional_groups <- df_plant_intercepts %>%\n",
        "  filter(key_plant_code != \"NV\")"
      ],
      "execution_count": 9,
      "outputs": []
    },
    {
      "cell_type": "markdown",
      "metadata": {
        "id": "JQPZQEfhfwkj"
      },
      "source": [
        "## Calculate Detection Rate"
      ]
    },
    {
      "cell_type": "markdown",
      "metadata": {
        "id": "pS1oSpDXIQ6r"
      },
      "source": [
        "Group the data on {survey_ID, plant_native_status, plant_life_cycle, plant_life_form}. Sum the intercepts_pct within each group, and divide the sums by 4 to obtain the detection_rate per 100 intercepts possible. "
      ]
    },
    {
      "cell_type": "code",
      "metadata": {
        "id": "xyylEVh1Ky-y",
        "colab": {
          "base_uri": "https://localhost:8080/",
          "height": 342
        },
        "outputId": "e37f8517-3a50-4fd8-815b-41697b988c53"
      },
      "source": [
        "df_plant_functional_groups %>%\n",
        "  group_by(survey_ID, plant_native_status, plant_life_cycle, plant_life_form) %>%\n",
        "  summarise(detection_rate = sum(intercepts_pct)) %>% ungroup() %>% \n",
        "  filter(survey_ID == \"436\")"
      ],
      "execution_count": 11,
      "outputs": [
        {
          "output_type": "stream",
          "text": [
            "`summarise()` has grouped output by 'survey_ID', 'plant_native_status', 'plant_life_cycle'. You can override using the `.groups` argument.\n",
            "\n"
          ],
          "name": "stderr"
        },
        {
          "output_type": "display_data",
          "data": {
            "text/plain": [
              "   survey_ID plant_native_status plant_life_cycle plant_life_form\n",
              "1  436       native              annual           forb           \n",
              "2  436       native              perennial        forb           \n",
              "3  436       native              perennial        graminoid      \n",
              "4  436       native              perennial        shrub          \n",
              "5  436       native              perennial        tree           \n",
              "6  436       native              unknown          forb           \n",
              "7  436       nonnative           annual           forb           \n",
              "8  436       nonnative           annual           graminoid      \n",
              "9  436       nonnative           perennial        forb           \n",
              "10 436       nonnative           unknown          forb           \n",
              "   detection_rate\n",
              "1   3.5          \n",
              "2   8.5          \n",
              "3  44.5          \n",
              "4  10.5          \n",
              "5   2.0          \n",
              "6   1.5          \n",
              "7   1.5          \n",
              "8   5.5          \n",
              "9   0.5          \n",
              "10  1.0          "
            ],
            "text/latex": "A tibble: 10 × 5\n\\begin{tabular}{lllll}\n survey\\_ID & plant\\_native\\_status & plant\\_life\\_cycle & plant\\_life\\_form & detection\\_rate\\\\\n <chr> & <chr> & <chr> & <chr> & <dbl>\\\\\n\\hline\n\t 436 & native    & annual    & forb      &  3.5\\\\\n\t 436 & native    & perennial & forb      &  8.5\\\\\n\t 436 & native    & perennial & graminoid & 44.5\\\\\n\t 436 & native    & perennial & shrub     & 10.5\\\\\n\t 436 & native    & perennial & tree      &  2.0\\\\\n\t 436 & native    & unknown   & forb      &  1.5\\\\\n\t 436 & nonnative & annual    & forb      &  1.5\\\\\n\t 436 & nonnative & annual    & graminoid &  5.5\\\\\n\t 436 & nonnative & perennial & forb      &  0.5\\\\\n\t 436 & nonnative & unknown   & forb      &  1.0\\\\\n\\end{tabular}\n",
            "text/markdown": "\nA tibble: 10 × 5\n\n| survey_ID &lt;chr&gt; | plant_native_status &lt;chr&gt; | plant_life_cycle &lt;chr&gt; | plant_life_form &lt;chr&gt; | detection_rate &lt;dbl&gt; |\n|---|---|---|---|---|\n| 436 | native    | annual    | forb      |  3.5 |\n| 436 | native    | perennial | forb      |  8.5 |\n| 436 | native    | perennial | graminoid | 44.5 |\n| 436 | native    | perennial | shrub     | 10.5 |\n| 436 | native    | perennial | tree      |  2.0 |\n| 436 | native    | unknown   | forb      |  1.5 |\n| 436 | nonnative | annual    | forb      |  1.5 |\n| 436 | nonnative | annual    | graminoid |  5.5 |\n| 436 | nonnative | perennial | forb      |  0.5 |\n| 436 | nonnative | unknown   | forb      |  1.0 |\n\n",
            "text/html": [
              "<table>\n",
              "<caption>A tibble: 10 × 5</caption>\n",
              "<thead>\n",
              "\t<tr><th scope=col>survey_ID</th><th scope=col>plant_native_status</th><th scope=col>plant_life_cycle</th><th scope=col>plant_life_form</th><th scope=col>detection_rate</th></tr>\n",
              "\t<tr><th scope=col>&lt;chr&gt;</th><th scope=col>&lt;chr&gt;</th><th scope=col>&lt;chr&gt;</th><th scope=col>&lt;chr&gt;</th><th scope=col>&lt;dbl&gt;</th></tr>\n",
              "</thead>\n",
              "<tbody>\n",
              "\t<tr><td>436</td><td>native   </td><td>annual   </td><td>forb     </td><td> 3.5</td></tr>\n",
              "\t<tr><td>436</td><td>native   </td><td>perennial</td><td>forb     </td><td> 8.5</td></tr>\n",
              "\t<tr><td>436</td><td>native   </td><td>perennial</td><td>graminoid</td><td>44.5</td></tr>\n",
              "\t<tr><td>436</td><td>native   </td><td>perennial</td><td>shrub    </td><td>10.5</td></tr>\n",
              "\t<tr><td>436</td><td>native   </td><td>perennial</td><td>tree     </td><td> 2.0</td></tr>\n",
              "\t<tr><td>436</td><td>native   </td><td>unknown  </td><td>forb     </td><td> 1.5</td></tr>\n",
              "\t<tr><td>436</td><td>nonnative</td><td>annual   </td><td>forb     </td><td> 1.5</td></tr>\n",
              "\t<tr><td>436</td><td>nonnative</td><td>annual   </td><td>graminoid</td><td> 5.5</td></tr>\n",
              "\t<tr><td>436</td><td>nonnative</td><td>perennial</td><td>forb     </td><td> 0.5</td></tr>\n",
              "\t<tr><td>436</td><td>nonnative</td><td>unknown  </td><td>forb     </td><td> 1.0</td></tr>\n",
              "</tbody>\n",
              "</table>\n"
            ]
          },
          "metadata": {
            "tags": []
          }
        }
      ]
    },
    {
      "cell_type": "code",
      "metadata": {
        "id": "YdiUSefAW90P",
        "colab": {
          "base_uri": "https://localhost:8080/"
        },
        "outputId": "1f79bb04-a823-4891-f81e-17a845a5368d"
      },
      "source": [
        "df_detection_rate <- df_plant_functional_groups %>%\n",
        "  group_by(survey_ID, plant_native_status, plant_life_cycle, plant_life_form) %>%\n",
        "  summarise(detection_rate = sum(intercepts_pct)) %>% \n",
        "  ungroup()"
      ],
      "execution_count": 12,
      "outputs": [
        {
          "output_type": "stream",
          "text": [
            "`summarise()` has grouped output by 'survey_ID', 'plant_native_status', 'plant_life_cycle'. You can override using the `.groups` argument.\n",
            "\n"
          ],
          "name": "stderr"
        }
      ]
    },
    {
      "cell_type": "code",
      "metadata": {
        "id": "ipPZuZf1zqaL",
        "colab": {
          "base_uri": "https://localhost:8080/"
        },
        "outputId": "97433fff-83bf-4a4f-aa60-f113eb330c60"
      },
      "source": [
        "df_detection_rate %>% glimpse()"
      ],
      "execution_count": 13,
      "outputs": [
        {
          "output_type": "stream",
          "text": [
            "Rows: 8,998\n",
            "Columns: 5\n",
            "$ survey_ID           \u001b[3m\u001b[90m<chr>\u001b[39m\u001b[23m \"012C5FAD-2451-41B0-9E2F-432D1ECEB55C\", \"012C5FAD…\n",
            "$ plant_native_status \u001b[3m\u001b[90m<chr>\u001b[39m\u001b[23m \"native\", \"native\", \"native\", \"native\", \"native\",…\n",
            "$ plant_life_cycle    \u001b[3m\u001b[90m<chr>\u001b[39m\u001b[23m \"annual\", \"perennial\", \"perennial\", \"perennial\", …\n",
            "$ plant_life_form     \u001b[3m\u001b[90m<chr>\u001b[39m\u001b[23m \"forb\", \"forb\", \"graminoid\", \"shrub\", \"forb\", \"fo…\n",
            "$ detection_rate      \u001b[3m\u001b[90m<dbl>\u001b[39m\u001b[23m 6.5, 14.5, 5.0, 8.5, 1.0, 5.0, 46.0, 25.0, 15.0, …\n"
          ],
          "name": "stdout"
        }
      ]
    },
    {
      "cell_type": "markdown",
      "metadata": {
        "id": "PtqafdxaYSYu"
      },
      "source": [
        "Then, make sure all combinations of functional groups that are found in the data are represented in each survey_ID. For those groups which were not detected at a survey_ID, fill the detection_rate with 0. This will complete the data set and make averages and other statistical comparisons more meaningful.\n",
        "\n",
        "The number of records produced in the final dataset should be predictable from the number of surveys and the possible combinations of plant functional groups (pfg). With 1242 surveys and 25 pfg, we should end up with 31,050 records in the final data set."
      ]
    },
    {
      "cell_type": "code",
      "metadata": {
        "id": "XLOqZJGd1bye",
        "colab": {
          "base_uri": "https://localhost:8080/",
          "height": 34
        },
        "outputId": "49f6e7e3-0b28-4bf1-d2e7-dfa2dcf73a93"
      },
      "source": [
        "# Number of surveys\n",
        "df_detection_rate$survey_ID %>% \n",
        "  unique() %>% \n",
        "  length()"
      ],
      "execution_count": 14,
      "outputs": [
        {
          "output_type": "display_data",
          "data": {
            "text/plain": [
              "[1] 1242"
            ],
            "text/latex": "1242",
            "text/markdown": "1242",
            "text/html": [
              "1242"
            ]
          },
          "metadata": {
            "tags": []
          }
        }
      ]
    },
    {
      "cell_type": "code",
      "metadata": {
        "id": "ez4pXfsVzR8M",
        "colab": {
          "base_uri": "https://localhost:8080/",
          "height": 561
        },
        "outputId": "dfc47877-3eb2-45cc-ecf7-0098d91b87af"
      },
      "source": [
        "# Possible combinations of pfg\n",
        "df_detection_rate %>% \n",
        "  select(plant_native_status, plant_life_cycle, plant_life_form) %>% \n",
        "  distinct() %>% \n",
        "  arrange(plant_native_status, plant_life_cycle)"
      ],
      "execution_count": 15,
      "outputs": [
        {
          "output_type": "display_data",
          "data": {
            "text/plain": [
              "   plant_native_status plant_life_cycle plant_life_form\n",
              "1  native              annual           forb           \n",
              "2  native              annual           graminoid      \n",
              "3  native              biennial         forb           \n",
              "4  native              perennial        forb           \n",
              "5  native              perennial        graminoid      \n",
              "6  native              perennial        shrub          \n",
              "7  native              perennial        tree           \n",
              "8  native              perennial        vine           \n",
              "9  native              unknown          forb           \n",
              "10 native              unknown          graminoid      \n",
              "11 nonnative           annual           forb           \n",
              "12 nonnative           annual           graminoid      \n",
              "13 nonnative           biennial         forb           \n",
              "14 nonnative           perennial        forb           \n",
              "15 nonnative           perennial        graminoid      \n",
              "16 nonnative           perennial        vine           \n",
              "17 nonnative           perennial        shrub          \n",
              "18 nonnative           unknown          forb           \n",
              "19 nonnative           unknown          graminoid      \n",
              "20 unknown             annual           forb           \n",
              "21 unknown             perennial        forb           \n",
              "22 unknown             unknown          forb           \n",
              "23 unknown             unknown          graminoid      "
            ],
            "text/latex": "A tibble: 23 × 3\n\\begin{tabular}{lll}\n plant\\_native\\_status & plant\\_life\\_cycle & plant\\_life\\_form\\\\\n <chr> & <chr> & <chr>\\\\\n\\hline\n\t native    & annual    & forb     \\\\\n\t native    & annual    & graminoid\\\\\n\t native    & biennial  & forb     \\\\\n\t native    & perennial & forb     \\\\\n\t native    & perennial & graminoid\\\\\n\t native    & perennial & shrub    \\\\\n\t native    & perennial & tree     \\\\\n\t native    & perennial & vine     \\\\\n\t native    & unknown   & forb     \\\\\n\t native    & unknown   & graminoid\\\\\n\t nonnative & annual    & forb     \\\\\n\t nonnative & annual    & graminoid\\\\\n\t nonnative & biennial  & forb     \\\\\n\t nonnative & perennial & forb     \\\\\n\t nonnative & perennial & graminoid\\\\\n\t nonnative & perennial & vine     \\\\\n\t nonnative & perennial & shrub    \\\\\n\t nonnative & unknown   & forb     \\\\\n\t nonnative & unknown   & graminoid\\\\\n\t unknown   & annual    & forb     \\\\\n\t unknown   & perennial & forb     \\\\\n\t unknown   & unknown   & forb     \\\\\n\t unknown   & unknown   & graminoid\\\\\n\\end{tabular}\n",
            "text/markdown": "\nA tibble: 23 × 3\n\n| plant_native_status &lt;chr&gt; | plant_life_cycle &lt;chr&gt; | plant_life_form &lt;chr&gt; |\n|---|---|---|\n| native    | annual    | forb      |\n| native    | annual    | graminoid |\n| native    | biennial  | forb      |\n| native    | perennial | forb      |\n| native    | perennial | graminoid |\n| native    | perennial | shrub     |\n| native    | perennial | tree      |\n| native    | perennial | vine      |\n| native    | unknown   | forb      |\n| native    | unknown   | graminoid |\n| nonnative | annual    | forb      |\n| nonnative | annual    | graminoid |\n| nonnative | biennial  | forb      |\n| nonnative | perennial | forb      |\n| nonnative | perennial | graminoid |\n| nonnative | perennial | vine      |\n| nonnative | perennial | shrub     |\n| nonnative | unknown   | forb      |\n| nonnative | unknown   | graminoid |\n| unknown   | annual    | forb      |\n| unknown   | perennial | forb      |\n| unknown   | unknown   | forb      |\n| unknown   | unknown   | graminoid |\n\n",
            "text/html": [
              "<table>\n",
              "<caption>A tibble: 23 × 3</caption>\n",
              "<thead>\n",
              "\t<tr><th scope=col>plant_native_status</th><th scope=col>plant_life_cycle</th><th scope=col>plant_life_form</th></tr>\n",
              "\t<tr><th scope=col>&lt;chr&gt;</th><th scope=col>&lt;chr&gt;</th><th scope=col>&lt;chr&gt;</th></tr>\n",
              "</thead>\n",
              "<tbody>\n",
              "\t<tr><td>native   </td><td>annual   </td><td>forb     </td></tr>\n",
              "\t<tr><td>native   </td><td>annual   </td><td>graminoid</td></tr>\n",
              "\t<tr><td>native   </td><td>biennial </td><td>forb     </td></tr>\n",
              "\t<tr><td>native   </td><td>perennial</td><td>forb     </td></tr>\n",
              "\t<tr><td>native   </td><td>perennial</td><td>graminoid</td></tr>\n",
              "\t<tr><td>native   </td><td>perennial</td><td>shrub    </td></tr>\n",
              "\t<tr><td>native   </td><td>perennial</td><td>tree     </td></tr>\n",
              "\t<tr><td>native   </td><td>perennial</td><td>vine     </td></tr>\n",
              "\t<tr><td>native   </td><td>unknown  </td><td>forb     </td></tr>\n",
              "\t<tr><td>native   </td><td>unknown  </td><td>graminoid</td></tr>\n",
              "\t<tr><td>nonnative</td><td>annual   </td><td>forb     </td></tr>\n",
              "\t<tr><td>nonnative</td><td>annual   </td><td>graminoid</td></tr>\n",
              "\t<tr><td>nonnative</td><td>biennial </td><td>forb     </td></tr>\n",
              "\t<tr><td>nonnative</td><td>perennial</td><td>forb     </td></tr>\n",
              "\t<tr><td>nonnative</td><td>perennial</td><td>graminoid</td></tr>\n",
              "\t<tr><td>nonnative</td><td>perennial</td><td>vine     </td></tr>\n",
              "\t<tr><td>nonnative</td><td>perennial</td><td>shrub    </td></tr>\n",
              "\t<tr><td>nonnative</td><td>unknown  </td><td>forb     </td></tr>\n",
              "\t<tr><td>nonnative</td><td>unknown  </td><td>graminoid</td></tr>\n",
              "\t<tr><td>unknown  </td><td>annual   </td><td>forb     </td></tr>\n",
              "\t<tr><td>unknown  </td><td>perennial</td><td>forb     </td></tr>\n",
              "\t<tr><td>unknown  </td><td>unknown  </td><td>forb     </td></tr>\n",
              "\t<tr><td>unknown  </td><td>unknown  </td><td>graminoid</td></tr>\n",
              "</tbody>\n",
              "</table>\n"
            ]
          },
          "metadata": {
            "tags": []
          }
        }
      ]
    },
    {
      "cell_type": "markdown",
      "metadata": {
        "id": "uF8wGLU39Ruo"
      },
      "source": [
        "## Group Fill\n",
        "Indeed, 31,050 records are produced. "
      ]
    },
    {
      "cell_type": "code",
      "metadata": {
        "id": "bG0J2nMVYF7n",
        "colab": {
          "base_uri": "https://localhost:8080/"
        },
        "outputId": "87da0dfc-5556-4af0-8e8b-68420823d39b"
      },
      "source": [
        "df_plant_functional_groups_comp <- \n",
        "  df_detection_rate %>%\n",
        "    complete(survey_ID, \n",
        "            nesting(plant_native_status, plant_life_cycle, plant_life_form), \n",
        "            fill = list(detection_rate = 0)) %>% \n",
        "    glimpse()"
      ],
      "execution_count": 16,
      "outputs": [
        {
          "output_type": "stream",
          "text": [
            "Rows: 28,566\n",
            "Columns: 5\n",
            "$ survey_ID           \u001b[3m\u001b[90m<chr>\u001b[39m\u001b[23m \"012C5FAD-2451-41B0-9E2F-432D1ECEB55C\", \"012C5FAD…\n",
            "$ plant_native_status \u001b[3m\u001b[90m<chr>\u001b[39m\u001b[23m \"native\", \"native\", \"native\", \"native\", \"native\",…\n",
            "$ plant_life_cycle    \u001b[3m\u001b[90m<chr>\u001b[39m\u001b[23m \"annual\", \"annual\", \"biennial\", \"perennial\", \"per…\n",
            "$ plant_life_form     \u001b[3m\u001b[90m<chr>\u001b[39m\u001b[23m \"forb\", \"graminoid\", \"forb\", \"forb\", \"graminoid\",…\n",
            "$ detection_rate      \u001b[3m\u001b[90m<dbl>\u001b[39m\u001b[23m 6.5, 0.0, 0.0, 14.5, 5.0, 8.5, 0.0, 0.0, 1.0, 0.0…\n"
          ],
          "name": "stdout"
        }
      ]
    },
    {
      "cell_type": "markdown",
      "metadata": {
        "id": "DYQfUWOGC9KE"
      },
      "source": [
        "## Join Metadata"
      ]
    },
    {
      "cell_type": "markdown",
      "metadata": {
        "id": "hCCLARdZC5HX"
      },
      "source": [
        "Finally, join the metadata from requested tables or views and complete the schema below. "
      ]
    },
    {
      "cell_type": "code",
      "metadata": {
        "id": "S6OtPBxfDGpC"
      },
      "source": [
        "# bring gridpoints back in\n",
        "grid_point_ref <- df_plant_intercepts %>%\n",
        "  select(survey_ID, grid_point) %>%\n",
        "  distinct(survey_ID, grid_point)"
      ],
      "execution_count": 17,
      "outputs": []
    },
    {
      "cell_type": "code",
      "metadata": {
        "id": "4Npb95CMDv8Z",
        "colab": {
          "base_uri": "https://localhost:8080/"
        },
        "outputId": "56184bde-5319-4108-94b5-e8df3782593c"
      },
      "source": [
        "df_plant_functional_groups_join <- \n",
        "  df_plant_functional_groups_comp %>%\n",
        "  left_join(df_survey_metadata, by = \"survey_ID\") %>% \n",
        "  select(survey_ID, year, survey_sequence, grid_point, everything()) %>% \n",
        "  arrange(year, grid_point) %>% \n",
        "  glimpse()"
      ],
      "execution_count": 18,
      "outputs": [
        {
          "output_type": "stream",
          "text": [
            "Rows: 28,566\n",
            "Columns: 8\n",
            "$ survey_ID           \u001b[3m\u001b[90m<chr>\u001b[39m\u001b[23m \"436\", \"436\", \"436\", \"436\", \"436\", \"436\", \"436\", …\n",
            "$ year                \u001b[3m\u001b[90m<int>\u001b[39m\u001b[23m 2011, 2011, 2011, 2011, 2011, 2011, 2011, 2011, 2…\n",
            "$ survey_sequence     \u001b[3m\u001b[90m<chr>\u001b[39m\u001b[23m \"2011-12\", \"2011-12\", \"2011-12\", \"2011-12\", \"2011…\n",
            "$ grid_point          \u001b[3m\u001b[90m<int>\u001b[39m\u001b[23m 1, 1, 1, 1, 1, 1, 1, 1, 1, 1, 1, 1, 1, 1, 1, 1, 1…\n",
            "$ plant_native_status \u001b[3m\u001b[90m<chr>\u001b[39m\u001b[23m \"native\", \"native\", \"native\", \"native\", \"native\",…\n",
            "$ plant_life_cycle    \u001b[3m\u001b[90m<chr>\u001b[39m\u001b[23m \"annual\", \"annual\", \"biennial\", \"perennial\", \"per…\n",
            "$ plant_life_form     \u001b[3m\u001b[90m<chr>\u001b[39m\u001b[23m \"forb\", \"graminoid\", \"forb\", \"forb\", \"graminoid\",…\n",
            "$ detection_rate      \u001b[3m\u001b[90m<dbl>\u001b[39m\u001b[23m 3.5, 0.0, 0.0, 8.5, 44.5, 10.5, 2.0, 0.0, 1.5, 0.…\n"
          ],
          "name": "stdout"
        }
      ]
    },
    {
      "cell_type": "markdown",
      "metadata": {
        "id": "lUMsTHt_FMgs"
      },
      "source": [
        "# Output"
      ]
    },
    {
      "cell_type": "code",
      "metadata": {
        "id": "BOTi2RyxFQYF",
        "colab": {
          "base_uri": "https://localhost:8080/"
        },
        "outputId": "adc11935-d0d6-4dd3-b67c-68c60abf61ec"
      },
      "source": [
        "# updated output 2021-01-26\n",
        "write_csv(df_plant_functional_groups_join, file = \"gridVeg_plant_functional_groups-WRANGLE.csv\")"
      ],
      "execution_count": 19,
      "outputs": [
        {
          "output_type": "stream",
          "text": [
            "Warning message:\n",
            "“The `path` argument of `write_csv()` is deprecated as of readr 1.4.0.\n",
            "Please use the `file` argument instead.\n",
            "\u001b[90mThis warning is displayed once every 8 hours.\u001b[39m\n",
            "\u001b[90mCall `lifecycle::last_warnings()` to see where this warning was generated.\u001b[39m”\n"
          ],
          "name": "stderr"
        }
      ]
    }
  ]
}