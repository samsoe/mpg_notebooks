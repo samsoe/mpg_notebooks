{
  "nbformat": 4,
  "nbformat_minor": 0,
  "metadata": {
    "colab": {
      "name": "gridVeg_plant_functional_groups-WRANGLE.ipynb",
      "provenance": [],
      "collapsed_sections": [],
      "toc_visible": true,
      "include_colab_link": true
    },
    "language_info": {
      "codemirror_mode": "r",
      "file_extension": ".r",
      "mimetype": "text/x-r-source",
      "name": "R",
      "pygments_lexer": "r",
      "version": "3.3.1"
    },
    "kernelspec": {
      "display_name": "R",
      "language": "R",
      "name": "ir"
    }
  },
  "cells": [
    {
      "cell_type": "markdown",
      "metadata": {
        "id": "view-in-github",
        "colab_type": "text"
      },
      "source": [
        "<a href=\"https://colab.research.google.com/github/samsoe/mpg_notebooks/blob/master/gridVeg_plant_functional_groups_WRANGLE.ipynb\" target=\"_parent\"><img src=\"https://colab.research.google.com/assets/colab-badge.svg\" alt=\"Open In Colab\"/></a>"
      ]
    },
    {
      "cell_type": "markdown",
      "metadata": {
        "id": "BhOI1uU2Koum",
        "colab_type": "text"
      },
      "source": [
        "# Security"
      ]
    },
    {
      "cell_type": "markdown",
      "metadata": {
        "id": "hgB3r3wvA9Pn",
        "colab_type": "text"
      },
      "source": [
        "* The user must load a `json` file containing the BigQuery API key into the local directory `/content/...`\n",
        "* The user must have a Google Maps API key to enable mapping. \n",
        "   * CAUTION make sure the key is deleted from the current instance of the notebook before sharing"
      ]
    },
    {
      "cell_type": "markdown",
      "metadata": {
        "id": "MnG0ah7OA59c",
        "colab_type": "text"
      },
      "source": [
        "# Tools"
      ]
    },
    {
      "cell_type": "code",
      "metadata": {
        "id": "Y6y4EWeYpVBJ",
        "colab_type": "code",
        "colab": {
          "base_uri": "https://localhost:8080/",
          "height": 204
        },
        "outputId": "f102991d-f5bc-40b2-f385-1e906677f38d"
      },
      "source": [
        "library(tidyverse)"
      ],
      "execution_count": null,
      "outputs": [
        {
          "output_type": "stream",
          "text": [
            "── \u001b[1mAttaching packages\u001b[22m ─────────────────────────────────────── tidyverse 1.3.0 ──\n",
            "\n",
            "\u001b[32m✔\u001b[39m \u001b[34mggplot2\u001b[39m 3.3.2     \u001b[32m✔\u001b[39m \u001b[34mpurrr  \u001b[39m 0.3.4\n",
            "\u001b[32m✔\u001b[39m \u001b[34mtibble \u001b[39m 3.0.3     \u001b[32m✔\u001b[39m \u001b[34mdplyr  \u001b[39m 1.0.0\n",
            "\u001b[32m✔\u001b[39m \u001b[34mtidyr  \u001b[39m 1.1.0     \u001b[32m✔\u001b[39m \u001b[34mstringr\u001b[39m 1.4.0\n",
            "\u001b[32m✔\u001b[39m \u001b[34mreadr  \u001b[39m 1.3.1     \u001b[32m✔\u001b[39m \u001b[34mforcats\u001b[39m 0.5.0\n",
            "\n",
            "── \u001b[1mConflicts\u001b[22m ────────────────────────────────────────── tidyverse_conflicts() ──\n",
            "\u001b[31m✖\u001b[39m \u001b[34mdplyr\u001b[39m::\u001b[32mfilter()\u001b[39m masks \u001b[34mstats\u001b[39m::filter()\n",
            "\u001b[31m✖\u001b[39m \u001b[34mdplyr\u001b[39m::\u001b[32mlag()\u001b[39m    masks \u001b[34mstats\u001b[39m::lag()\n",
            "\n"
          ],
          "name": "stderr"
        }
      ]
    },
    {
      "cell_type": "markdown",
      "metadata": {
        "id": "eUw-It3JBBrQ",
        "colab_type": "text"
      },
      "source": [
        "* Remember that the file containing authorization keys for Big Query must be loaded into the virutual envrionment manually."
      ]
    },
    {
      "cell_type": "code",
      "metadata": {
        "id": "VxYkYhQTKouo",
        "colab_type": "code",
        "colab": {
          "base_uri": "https://localhost:8080/",
          "height": 119
        },
        "outputId": "0cfb8c87-45fa-45d7-cff4-67fc5811e6ac"
      },
      "source": [
        "install.packages(\"bigrquery\")\n",
        "library(bigrquery)"
      ],
      "execution_count": null,
      "outputs": [
        {
          "output_type": "stream",
          "text": [
            "Installing package into ‘/usr/local/lib/R/site-library’\n",
            "(as ‘lib’ is unspecified)\n",
            "\n",
            "also installing the dependencies ‘bit’, ‘bit64’, ‘gargle’, ‘rapidjsonr’\n",
            "\n",
            "\n"
          ],
          "name": "stderr"
        }
      ]
    },
    {
      "cell_type": "markdown",
      "metadata": {
        "id": "H1I9aQ_SBH3n",
        "colab_type": "text"
      },
      "source": [
        "# Source"
      ]
    },
    {
      "cell_type": "markdown",
      "metadata": {
        "id": "Bfb7MHpGBJMO",
        "colab_type": "text"
      },
      "source": [
        "## Database Connection"
      ]
    },
    {
      "cell_type": "code",
      "metadata": {
        "id": "ihI70_BPKouq",
        "colab_type": "code",
        "colab": {}
      },
      "source": [
        "# BigQuery API Key\n",
        "bq_auth(path = \"/content/mpg-data-warehouse-api_key-master.json\")"
      ],
      "execution_count": null,
      "outputs": []
    },
    {
      "cell_type": "code",
      "metadata": {
        "id": "8YxL8wHoBNxV",
        "colab_type": "code",
        "colab": {}
      },
      "source": [
        "Sys.setenv(BIGQUERY_TEST_PROJECT = \"mpg-data-warehouse\")"
      ],
      "execution_count": null,
      "outputs": []
    },
    {
      "cell_type": "code",
      "metadata": {
        "id": "yevfizb5BQXm",
        "colab_type": "code",
        "colab": {}
      },
      "source": [
        "billing <- bq_test_project()"
      ],
      "execution_count": null,
      "outputs": []
    },
    {
      "cell_type": "markdown",
      "metadata": {
        "id": "ej7-Bwrr9Eo3",
        "colab_type": "text"
      },
      "source": [
        "## Database Query"
      ]
    },
    {
      "cell_type": "markdown",
      "metadata": {
        "id": "JN4Z34yRp2-k",
        "colab_type": "text"
      },
      "source": [
        "### gridVeg_plant_intercepts"
      ]
    },
    {
      "cell_type": "code",
      "metadata": {
        "id": "26UqASAoB2p0",
        "colab_type": "code",
        "colab": {}
      },
      "source": [
        "sql_plant_intercepts <- \n",
        "\"\n",
        "  SELECT \n",
        "    survey_ID,\n",
        "    grid_point,\n",
        "    key_plant_code,\n",
        "    plant_native_status,\n",
        "    plant_life_cycle,\n",
        "    plant_life_form,\n",
        "    intercepts_pct\n",
        "  FROM \n",
        "    `mpg-data-warehouse.vegetation_gridVeg_summaries.gridVeg_plant_intercepts`\n",
        "\""
      ],
      "execution_count": null,
      "outputs": []
    },
    {
      "cell_type": "code",
      "metadata": {
        "id": "VSXOoJkcB3dn",
        "colab_type": "code",
        "colab": {}
      },
      "source": [
        "bq_plant_intercepts <- bq_project_query(billing, sql_plant_intercepts)"
      ],
      "execution_count": null,
      "outputs": []
    },
    {
      "cell_type": "code",
      "metadata": {
        "id": "KpZnymzzB5Ms",
        "colab_type": "code",
        "colab": {}
      },
      "source": [
        "tb_plant_intercepts <- bq_table_download(bq_plant_intercepts)"
      ],
      "execution_count": null,
      "outputs": []
    },
    {
      "cell_type": "code",
      "metadata": {
        "id": "VcoNMCO1B6gY",
        "colab_type": "code",
        "colab": {}
      },
      "source": [
        "df_plant_intercepts <- as.data.frame(tb_plant_intercepts)"
      ],
      "execution_count": null,
      "outputs": []
    },
    {
      "cell_type": "code",
      "metadata": {
        "id": "hr8IOWZGDOpv",
        "colab_type": "code",
        "colab": {
          "base_uri": "https://localhost:8080/",
          "height": 162
        },
        "outputId": "7e1a22ef-fb5e-433b-e8ff-68c6754a597c"
      },
      "source": [
        "head(df_plant_intercepts, n=4)"
      ],
      "execution_count": null,
      "outputs": [
        {
          "output_type": "display_data",
          "data": {
            "text/plain": [
              "  survey_ID grid_point key_plant_code plant_native_status plant_life_cycle\n",
              "1 436       1          HEUCYL         native              perennial       \n",
              "2 436       1          ALLCER         native              perennial       \n",
              "3 436       1          GEUTRI         native              perennial       \n",
              "4 436       1          ERIG_SP        native              unknown         \n",
              "  plant_life_form intercepts_pct\n",
              "1 forb            2.5           \n",
              "2 forb            0.5           \n",
              "3 forb            1.0           \n",
              "4 forb            0.5           "
            ],
            "text/latex": "A data.frame: 4 × 7\n\\begin{tabular}{r|lllllll}\n  & survey\\_ID & grid\\_point & key\\_plant\\_code & plant\\_native\\_status & plant\\_life\\_cycle & plant\\_life\\_form & intercepts\\_pct\\\\\n  & <chr> & <int> & <chr> & <chr> & <chr> & <chr> & <dbl>\\\\\n\\hline\n\t1 & 436 & 1 & HEUCYL  & native & perennial & forb & 2.5\\\\\n\t2 & 436 & 1 & ALLCER  & native & perennial & forb & 0.5\\\\\n\t3 & 436 & 1 & GEUTRI  & native & perennial & forb & 1.0\\\\\n\t4 & 436 & 1 & ERIG\\_SP & native & unknown   & forb & 0.5\\\\\n\\end{tabular}\n",
            "text/markdown": "\nA data.frame: 4 × 7\n\n| <!--/--> | survey_ID &lt;chr&gt; | grid_point &lt;int&gt; | key_plant_code &lt;chr&gt; | plant_native_status &lt;chr&gt; | plant_life_cycle &lt;chr&gt; | plant_life_form &lt;chr&gt; | intercepts_pct &lt;dbl&gt; |\n|---|---|---|---|---|---|---|---|\n| 1 | 436 | 1 | HEUCYL  | native | perennial | forb | 2.5 |\n| 2 | 436 | 1 | ALLCER  | native | perennial | forb | 0.5 |\n| 3 | 436 | 1 | GEUTRI  | native | perennial | forb | 1.0 |\n| 4 | 436 | 1 | ERIG_SP | native | unknown   | forb | 0.5 |\n\n",
            "text/html": [
              "<table>\n",
              "<caption>A data.frame: 4 × 7</caption>\n",
              "<thead>\n",
              "\t<tr><th></th><th scope=col>survey_ID</th><th scope=col>grid_point</th><th scope=col>key_plant_code</th><th scope=col>plant_native_status</th><th scope=col>plant_life_cycle</th><th scope=col>plant_life_form</th><th scope=col>intercepts_pct</th></tr>\n",
              "\t<tr><th></th><th scope=col>&lt;chr&gt;</th><th scope=col>&lt;int&gt;</th><th scope=col>&lt;chr&gt;</th><th scope=col>&lt;chr&gt;</th><th scope=col>&lt;chr&gt;</th><th scope=col>&lt;chr&gt;</th><th scope=col>&lt;dbl&gt;</th></tr>\n",
              "</thead>\n",
              "<tbody>\n",
              "\t<tr><th scope=row>1</th><td>436</td><td>1</td><td>HEUCYL </td><td>native</td><td>perennial</td><td>forb</td><td>2.5</td></tr>\n",
              "\t<tr><th scope=row>2</th><td>436</td><td>1</td><td>ALLCER </td><td>native</td><td>perennial</td><td>forb</td><td>0.5</td></tr>\n",
              "\t<tr><th scope=row>3</th><td>436</td><td>1</td><td>GEUTRI </td><td>native</td><td>perennial</td><td>forb</td><td>1.0</td></tr>\n",
              "\t<tr><th scope=row>4</th><td>436</td><td>1</td><td>ERIG_SP</td><td>native</td><td>unknown  </td><td>forb</td><td>0.5</td></tr>\n",
              "</tbody>\n",
              "</table>\n"
            ]
          },
          "metadata": {
            "tags": []
          }
        }
      ]
    },
    {
      "cell_type": "markdown",
      "metadata": {
        "id": "2GeNGcds9Ldu",
        "colab_type": "text"
      },
      "source": [
        "### gridVeg_survey_metadata"
      ]
    },
    {
      "cell_type": "code",
      "metadata": {
        "id": "r_aY8pzP9SHY",
        "colab_type": "code",
        "colab": {}
      },
      "source": [
        "sql_survey_metadata <- \"\n",
        "  SELECT \n",
        "    survey_ID,\n",
        "    year,\n",
        "    survey_sequence\n",
        "  FROM\n",
        "    mpg-data-warehouse.vegetation_point_intercept_gridVeg.gridVeg_survey_metadata\n",
        "\""
      ],
      "execution_count": null,
      "outputs": []
    },
    {
      "cell_type": "code",
      "metadata": {
        "id": "CE6is6xm9oE9",
        "colab_type": "code",
        "colab": {}
      },
      "source": [
        "bq_survey_metadata <- bq_project_query(billing, sql_survey_metadata)"
      ],
      "execution_count": null,
      "outputs": []
    },
    {
      "cell_type": "code",
      "metadata": {
        "id": "3zokV_VG9xjC",
        "colab_type": "code",
        "colab": {}
      },
      "source": [
        "tb_survey_metadata <- bq_table_download(bq_survey_metadata)"
      ],
      "execution_count": null,
      "outputs": []
    },
    {
      "cell_type": "code",
      "metadata": {
        "id": "2GgFwP1P9xf5",
        "colab_type": "code",
        "colab": {}
      },
      "source": [
        "df_survey_metadata <- as.data.frame(tb_survey_metadata)"
      ],
      "execution_count": null,
      "outputs": []
    },
    {
      "cell_type": "markdown",
      "metadata": {
        "id": "vHnKAYlV-AID",
        "colab_type": "text"
      },
      "source": [
        "### location_position_classification"
      ]
    },
    {
      "cell_type": "code",
      "metadata": {
        "id": "VDJLxQYA-I08",
        "colab_type": "code",
        "colab": {}
      },
      "source": [
        "sql_position_class <- \"\n",
        "  SELECT\n",
        "    grid_point,\n",
        "    aspect_mean_deg,\n",
        "    elevation_mean_m,\n",
        "    slope_mean_deg,\n",
        "    cover_type_2016_gridVeg,\n",
        "    type3_vegetation_indicators,\n",
        "    type4_indicators_history\n",
        "  FROM\n",
        "    `mpg-data-warehouse.grid_point_summaries.location_position_classification` \n",
        "\""
      ],
      "execution_count": null,
      "outputs": []
    },
    {
      "cell_type": "code",
      "metadata": {
        "id": "A2j9g8OVCOvQ",
        "colab_type": "code",
        "colab": {}
      },
      "source": [
        "bq_position_class <- bq_project_query(billing, sql_position_class)"
      ],
      "execution_count": null,
      "outputs": []
    },
    {
      "cell_type": "code",
      "metadata": {
        "id": "gwya7JoXCjlq",
        "colab_type": "code",
        "colab": {}
      },
      "source": [
        "tb_position_class <- bq_table_download(bq_position_class)"
      ],
      "execution_count": null,
      "outputs": []
    },
    {
      "cell_type": "code",
      "metadata": {
        "id": "Zo5ELhQWCqPj",
        "colab_type": "code",
        "colab": {}
      },
      "source": [
        "df_position_class <- as.data.frame(tb_position_class)"
      ],
      "execution_count": null,
      "outputs": []
    },
    {
      "cell_type": "markdown",
      "metadata": {
        "id": "vwHjDqfcEL_5",
        "colab_type": "text"
      },
      "source": [
        "# Wrangle"
      ]
    },
    {
      "cell_type": "markdown",
      "metadata": {
        "id": "KCzN4z6fHk8l",
        "colab_type": "text"
      },
      "source": [
        "Start with the view vegetation_gridVeg_summaries:gridVeg_plant_intercepts. Remove records where key_plant_code = “NV” (corresponds with key_plant_species = 360)."
      ]
    },
    {
      "cell_type": "markdown",
      "metadata": {
        "id": "GCS6LTc8fWiP",
        "colab_type": "text"
      },
      "source": [
        "## Explore key_plant_code \"NV\""
      ]
    },
    {
      "cell_type": "code",
      "metadata": {
        "id": "FCBLKCkBu7Ve",
        "colab_type": "code",
        "colab": {}
      },
      "source": [
        "df_plant_intercepts %>%\n",
        "  filter(key_plant_code == \"NV\")"
      ],
      "execution_count": null,
      "outputs": []
    },
    {
      "cell_type": "markdown",
      "metadata": {
        "id": "R1OTSXOBfhsv",
        "colab_type": "text"
      },
      "source": [
        "## Remove key_plant_code \"NV\""
      ]
    },
    {
      "cell_type": "code",
      "metadata": {
        "id": "vDf_PdMVDOmx",
        "colab_type": "code",
        "colab": {}
      },
      "source": [
        "df_plant_functional_groups <- df_plant_intercepts %>%\n",
        "  filter(key_plant_code != \"NV\")"
      ],
      "execution_count": null,
      "outputs": []
    },
    {
      "cell_type": "markdown",
      "metadata": {
        "id": "91qrMWuffm-J",
        "colab_type": "text"
      },
      "source": [
        "## Recode"
      ]
    },
    {
      "cell_type": "markdown",
      "metadata": {
        "id": "rFFq-L3VIC_l",
        "colab_type": "text"
      },
      "source": [
        "Recode the levels of plant_life_cycle to simplify them (re-coded values are supplied in the Readme).\n"
      ]
    },
    {
      "cell_type": "code",
      "metadata": {
        "id": "d3LVjH6jDOj-",
        "colab_type": "code",
        "colab": {}
      },
      "source": [
        "df_plant_functional_groups <- df_plant_functional_groups %>%\n",
        "  mutate(plant_life_cycle = ifelse(plant_life_cycle == \"biennial perennial\" |\n",
        "                                   plant_life_cycle == \"annual perennial\" |\n",
        "                                   plant_life_cycle == \"annual biennial perennial\" |\n",
        "                                   plant_life_cycle == \"annual biennial\"\n",
        "                                   , \"multiple\", plant_life_cycle))"
      ],
      "execution_count": null,
      "outputs": []
    },
    {
      "cell_type": "markdown",
      "metadata": {
        "id": "JQPZQEfhfwkj",
        "colab_type": "text"
      },
      "source": [
        "## Calculate Detection Rate"
      ]
    },
    {
      "cell_type": "markdown",
      "metadata": {
        "id": "pS1oSpDXIQ6r",
        "colab_type": "text"
      },
      "source": [
        "Group the data on {survey_ID, plant_native_status, plant_life_cycle, plant_life_form}. Sum the intercepts_pct within each group, and divide the sums by 4 to obtain the detection_rate per 100 intercepts possible. "
      ]
    },
    {
      "cell_type": "code",
      "metadata": {
        "id": "xyylEVh1Ky-y",
        "colab_type": "code",
        "colab": {
          "base_uri": "https://localhost:8080/",
          "height": 343
        },
        "outputId": "701f2e77-f380-4997-934e-ad32747ffded"
      },
      "source": [
        "df_plant_functional_groups %>%\n",
        "  group_by(survey_ID, plant_native_status, plant_life_cycle, plant_life_form) %>%\n",
        "  summarise(intercepts_pct_sum = sum(intercepts_pct), detection_rate = sum(intercepts_pct)/4) %>% ungroup() %>% \n",
        "  filter(survey_ID == \"436\")"
      ],
      "execution_count": null,
      "outputs": [
        {
          "output_type": "stream",
          "text": [
            "`summarise()` regrouping output by 'survey_ID', 'plant_native_status', 'plant_life_cycle' (override with `.groups` argument)\n",
            "\n"
          ],
          "name": "stderr"
        },
        {
          "output_type": "display_data",
          "data": {
            "text/plain": [
              "   survey_ID plant_native_status plant_life_cycle plant_life_form\n",
              "1  436       native              annual           forb           \n",
              "2  436       native              multiple         forb           \n",
              "3  436       native              perennial        forb           \n",
              "4  436       native              perennial        graminoid      \n",
              "5  436       native              perennial        shrub          \n",
              "6  436       native              perennial        tree           \n",
              "7  436       native              unknown          forb           \n",
              "8  436       nonnative           annual           forb           \n",
              "9  436       nonnative           annual           graminoid      \n",
              "10 436       nonnative           multiple         forb           \n",
              "11 436       nonnative           perennial        forb           \n",
              "   intercepts_pct_sum detection_rate\n",
              "1   3.5                0.875        \n",
              "2   1.0                0.250        \n",
              "3   8.5                2.125        \n",
              "4  44.5               11.125        \n",
              "5  10.5                2.625        \n",
              "6   2.0                0.500        \n",
              "7   0.5                0.125        \n",
              "8   1.5                0.375        \n",
              "9   5.5                1.375        \n",
              "10  1.0                0.250        \n",
              "11  0.5                0.125        "
            ],
            "text/latex": "A tibble: 11 × 6\n\\begin{tabular}{llllll}\n survey\\_ID & plant\\_native\\_status & plant\\_life\\_cycle & plant\\_life\\_form & intercepts\\_pct\\_sum & detection\\_rate\\\\\n <chr> & <chr> & <chr> & <chr> & <dbl> & <dbl>\\\\\n\\hline\n\t 436 & native    & annual    & forb      &  3.5 &  0.875\\\\\n\t 436 & native    & multiple  & forb      &  1.0 &  0.250\\\\\n\t 436 & native    & perennial & forb      &  8.5 &  2.125\\\\\n\t 436 & native    & perennial & graminoid & 44.5 & 11.125\\\\\n\t 436 & native    & perennial & shrub     & 10.5 &  2.625\\\\\n\t 436 & native    & perennial & tree      &  2.0 &  0.500\\\\\n\t 436 & native    & unknown   & forb      &  0.5 &  0.125\\\\\n\t 436 & nonnative & annual    & forb      &  1.5 &  0.375\\\\\n\t 436 & nonnative & annual    & graminoid &  5.5 &  1.375\\\\\n\t 436 & nonnative & multiple  & forb      &  1.0 &  0.250\\\\\n\t 436 & nonnative & perennial & forb      &  0.5 &  0.125\\\\\n\\end{tabular}\n",
            "text/markdown": "\nA tibble: 11 × 6\n\n| survey_ID &lt;chr&gt; | plant_native_status &lt;chr&gt; | plant_life_cycle &lt;chr&gt; | plant_life_form &lt;chr&gt; | intercepts_pct_sum &lt;dbl&gt; | detection_rate &lt;dbl&gt; |\n|---|---|---|---|---|---|\n| 436 | native    | annual    | forb      |  3.5 |  0.875 |\n| 436 | native    | multiple  | forb      |  1.0 |  0.250 |\n| 436 | native    | perennial | forb      |  8.5 |  2.125 |\n| 436 | native    | perennial | graminoid | 44.5 | 11.125 |\n| 436 | native    | perennial | shrub     | 10.5 |  2.625 |\n| 436 | native    | perennial | tree      |  2.0 |  0.500 |\n| 436 | native    | unknown   | forb      |  0.5 |  0.125 |\n| 436 | nonnative | annual    | forb      |  1.5 |  0.375 |\n| 436 | nonnative | annual    | graminoid |  5.5 |  1.375 |\n| 436 | nonnative | multiple  | forb      |  1.0 |  0.250 |\n| 436 | nonnative | perennial | forb      |  0.5 |  0.125 |\n\n",
            "text/html": [
              "<table>\n",
              "<caption>A tibble: 11 × 6</caption>\n",
              "<thead>\n",
              "\t<tr><th scope=col>survey_ID</th><th scope=col>plant_native_status</th><th scope=col>plant_life_cycle</th><th scope=col>plant_life_form</th><th scope=col>intercepts_pct_sum</th><th scope=col>detection_rate</th></tr>\n",
              "\t<tr><th scope=col>&lt;chr&gt;</th><th scope=col>&lt;chr&gt;</th><th scope=col>&lt;chr&gt;</th><th scope=col>&lt;chr&gt;</th><th scope=col>&lt;dbl&gt;</th><th scope=col>&lt;dbl&gt;</th></tr>\n",
              "</thead>\n",
              "<tbody>\n",
              "\t<tr><td>436</td><td>native   </td><td>annual   </td><td>forb     </td><td> 3.5</td><td> 0.875</td></tr>\n",
              "\t<tr><td>436</td><td>native   </td><td>multiple </td><td>forb     </td><td> 1.0</td><td> 0.250</td></tr>\n",
              "\t<tr><td>436</td><td>native   </td><td>perennial</td><td>forb     </td><td> 8.5</td><td> 2.125</td></tr>\n",
              "\t<tr><td>436</td><td>native   </td><td>perennial</td><td>graminoid</td><td>44.5</td><td>11.125</td></tr>\n",
              "\t<tr><td>436</td><td>native   </td><td>perennial</td><td>shrub    </td><td>10.5</td><td> 2.625</td></tr>\n",
              "\t<tr><td>436</td><td>native   </td><td>perennial</td><td>tree     </td><td> 2.0</td><td> 0.500</td></tr>\n",
              "\t<tr><td>436</td><td>native   </td><td>unknown  </td><td>forb     </td><td> 0.5</td><td> 0.125</td></tr>\n",
              "\t<tr><td>436</td><td>nonnative</td><td>annual   </td><td>forb     </td><td> 1.5</td><td> 0.375</td></tr>\n",
              "\t<tr><td>436</td><td>nonnative</td><td>annual   </td><td>graminoid</td><td> 5.5</td><td> 1.375</td></tr>\n",
              "\t<tr><td>436</td><td>nonnative</td><td>multiple </td><td>forb     </td><td> 1.0</td><td> 0.250</td></tr>\n",
              "\t<tr><td>436</td><td>nonnative</td><td>perennial</td><td>forb     </td><td> 0.5</td><td> 0.125</td></tr>\n",
              "</tbody>\n",
              "</table>\n"
            ]
          },
          "metadata": {
            "tags": []
          }
        }
      ]
    },
    {
      "cell_type": "code",
      "metadata": {
        "id": "YdiUSefAW90P",
        "colab_type": "code",
        "colab": {
          "base_uri": "https://localhost:8080/",
          "height": 51
        },
        "outputId": "2a697d0c-ab15-44b5-e520-9402e9a40a80"
      },
      "source": [
        "df_plant_functional_groups <- df_plant_functional_groups %>%\n",
        "  group_by(survey_ID, plant_native_status, plant_life_cycle, plant_life_form) %>%\n",
        "  summarise(intercepts_pct_sum = sum(intercepts_pct), detection_rate = sum(intercepts_pct)/4) %>% \n",
        "  ungroup()"
      ],
      "execution_count": null,
      "outputs": [
        {
          "output_type": "stream",
          "text": [
            "`summarise()` regrouping output by 'survey_ID', 'plant_native_status', 'plant_life_cycle' (override with `.groups` argument)\n",
            "\n"
          ],
          "name": "stderr"
        }
      ]
    },
    {
      "cell_type": "code",
      "metadata": {
        "id": "ipPZuZf1zqaL",
        "colab_type": "code",
        "colab": {
          "base_uri": "https://localhost:8080/",
          "height": 153
        },
        "outputId": "8bf70610-89e9-4452-e21d-15d91860bb61"
      },
      "source": [
        "df_plant_functional_groups %>% glimpse()"
      ],
      "execution_count": null,
      "outputs": [
        {
          "output_type": "stream",
          "text": [
            "Rows: 9,015\n",
            "Columns: 6\n",
            "$ survey_ID           \u001b[3m\u001b[90m<chr>\u001b[39m\u001b[23m \"012C5FAD-2451-41B0-9E2F-432D1ECEB55C\", \"012C5FAD…\n",
            "$ plant_native_status \u001b[3m\u001b[90m<chr>\u001b[39m\u001b[23m \"native\", \"native\", \"native\", \"native\", \"native\",…\n",
            "$ plant_life_cycle    \u001b[3m\u001b[90m<chr>\u001b[39m\u001b[23m \"annual\", \"multiple\", \"perennial\", \"perennial\", \"…\n",
            "$ plant_life_form     \u001b[3m\u001b[90m<chr>\u001b[39m\u001b[23m \"forb\", \"forb\", \"forb\", \"graminoid\", \"shrub\", \"fo…\n",
            "$ intercepts_pct_sum  \u001b[3m\u001b[90m<dbl>\u001b[39m\u001b[23m 6.5, 1.0, 14.5, 5.0, 8.5, 5.0, 46.0, 15.0, 25.0, …\n",
            "$ detection_rate      \u001b[3m\u001b[90m<dbl>\u001b[39m\u001b[23m 1.625, 0.250, 3.625, 1.250, 2.125, 1.250, 11.500,…\n"
          ],
          "name": "stdout"
        }
      ]
    },
    {
      "cell_type": "markdown",
      "metadata": {
        "id": "PtqafdxaYSYu",
        "colab_type": "text"
      },
      "source": [
        "Then, make sure all combinations of functional groups that are found in the data are represented in each survey_ID. For those groups which were not detected at a survey_ID, fill the detection_rate with 0. This will complete the data set and make averages and other statistical comparisons more meaningful.\n",
        "\n",
        "The number of records produced in the final dataset should be predictable from the number of surveys and the possible combinations of plant functional groups (pfg). With 1242 surveys and 25 pfg, we should end up with 31,050 records in the final data set."
      ]
    },
    {
      "cell_type": "code",
      "metadata": {
        "id": "XLOqZJGd1bye",
        "colab_type": "code",
        "colab": {
          "base_uri": "https://localhost:8080/",
          "height": 34
        },
        "outputId": "fc02d8df-5186-43c3-9388-c2661b425a57"
      },
      "source": [
        "# Number of surveys\n",
        "df_plant_functional_groups$survey_ID %>% \n",
        "  unique() %>% \n",
        "  length()"
      ],
      "execution_count": null,
      "outputs": [
        {
          "output_type": "display_data",
          "data": {
            "text/plain": [
              "[1] 1242"
            ],
            "text/latex": "1242",
            "text/markdown": "1242",
            "text/html": [
              "1242"
            ]
          },
          "metadata": {
            "tags": []
          }
        }
      ]
    },
    {
      "cell_type": "code",
      "metadata": {
        "id": "ez4pXfsVzR8M",
        "colab_type": "code",
        "colab": {}
      },
      "source": [
        "# Possible combinations of pfg\n",
        "df_plant_functional_groups %>% \n",
        "  select(plant_native_status, plant_life_cycle, plant_life_form) %>% \n",
        "  distinct() %>% \n",
        "  arrange(plant_native_status, plant_life_cycle)"
      ],
      "execution_count": null,
      "outputs": []
    },
    {
      "cell_type": "markdown",
      "metadata": {
        "id": "uF8wGLU39Ruo",
        "colab_type": "text"
      },
      "source": [
        "## Group Fill\n",
        "Indeed, 31,050 records are produced. "
      ]
    },
    {
      "cell_type": "code",
      "metadata": {
        "id": "bG0J2nMVYF7n",
        "colab_type": "code",
        "colab": {
          "base_uri": "https://localhost:8080/",
          "height": 204
        },
        "outputId": "2f744267-b04b-4e74-a61e-a279fff0cb4e"
      },
      "source": [
        "df_plant_functional_groups <- \n",
        "  df_plant_functional_groups %>%\n",
        "    complete(survey_ID, \n",
        "            nesting(plant_native_status, plant_life_cycle, plant_life_form), \n",
        "            fill = list(intercepts_pct_sum = 0, detection_rate = 0)) %>% \n",
        "    glimpse()"
      ],
      "execution_count": null,
      "outputs": [
        {
          "output_type": "stream",
          "text": [
            "Rows: 31,050\n",
            "Columns: 9\n",
            "$ survey_ID           \u001b[3m\u001b[90m<chr>\u001b[39m\u001b[23m \"012C5FAD-2451-41B0-9E2F-432D1ECEB55C\", \"012C5FAD…\n",
            "$ plant_native_status \u001b[3m\u001b[90m<chr>\u001b[39m\u001b[23m \"native\", \"native\", \"native\", \"native\", \"native\",…\n",
            "$ plant_life_cycle    \u001b[3m\u001b[90m<chr>\u001b[39m\u001b[23m \"annual\", \"annual\", \"biennial\", \"multiple\", \"mult…\n",
            "$ plant_life_form     \u001b[3m\u001b[90m<chr>\u001b[39m\u001b[23m \"forb\", \"graminoid\", \"forb\", \"forb\", \"graminoid\",…\n",
            "$ intercepts_pct_sum  \u001b[3m\u001b[90m<dbl>\u001b[39m\u001b[23m 6.5, 0.0, 0.0, 1.0, 0.0, 14.5, 5.0, 8.5, 0.0, 0.0…\n",
            "$ detection_rate      \u001b[3m\u001b[90m<dbl>\u001b[39m\u001b[23m 1.625, 0.000, 0.000, 0.250, 0.000, 3.625, 1.250, …\n",
            "$ grid_point          \u001b[3m\u001b[90m<int>\u001b[39m\u001b[23m 285, 285, 285, 285, 285, 285, 285, 285, 285, 285,…\n",
            "$ year                \u001b[3m\u001b[90m<int>\u001b[39m\u001b[23m 2016, 2016, 2016, 2016, 2016, 2016, 2016, 2016, 2…\n",
            "$ survey_sequence     \u001b[3m\u001b[90m<chr>\u001b[39m\u001b[23m \"2016\", \"2016\", \"2016\", \"2016\", \"2016\", \"2016\", \"…\n"
          ],
          "name": "stdout"
        }
      ]
    },
    {
      "cell_type": "code",
      "metadata": {
        "id": "bcpu1rFq7kTG",
        "colab_type": "code",
        "colab": {
          "base_uri": "https://localhost:8080/",
          "height": 204
        },
        "outputId": "416e387e-615a-4a88-8efd-58090576d00f"
      },
      "source": [
        "df_plant_functional_groups %>% head()"
      ],
      "execution_count": null,
      "outputs": [
        {
          "output_type": "display_data",
          "data": {
            "text/plain": [
              "  survey_ID                            plant_native_status plant_life_cycle\n",
              "1 012C5FAD-2451-41B0-9E2F-432D1ECEB55C native              annual          \n",
              "2 012C5FAD-2451-41B0-9E2F-432D1ECEB55C native              annual          \n",
              "3 012C5FAD-2451-41B0-9E2F-432D1ECEB55C native              biennial        \n",
              "4 012C5FAD-2451-41B0-9E2F-432D1ECEB55C native              multiple        \n",
              "5 012C5FAD-2451-41B0-9E2F-432D1ECEB55C native              multiple        \n",
              "6 012C5FAD-2451-41B0-9E2F-432D1ECEB55C native              perennial       \n",
              "  plant_life_form intercepts_pct_sum detection_rate grid_point year\n",
              "1 forb             6.5               1.625          285        2016\n",
              "2 graminoid        0.0               0.000          285        2016\n",
              "3 forb             0.0               0.000          285        2016\n",
              "4 forb             1.0               0.250          285        2016\n",
              "5 graminoid        0.0               0.000          285        2016\n",
              "6 forb            14.5               3.625          285        2016\n",
              "  survey_sequence\n",
              "1 2016           \n",
              "2 2016           \n",
              "3 2016           \n",
              "4 2016           \n",
              "5 2016           \n",
              "6 2016           "
            ],
            "text/latex": "A tibble: 6 × 9\n\\begin{tabular}{lllllllll}\n survey\\_ID & plant\\_native\\_status & plant\\_life\\_cycle & plant\\_life\\_form & intercepts\\_pct\\_sum & detection\\_rate & grid\\_point & year & survey\\_sequence\\\\\n <chr> & <chr> & <chr> & <chr> & <dbl> & <dbl> & <int> & <int> & <chr>\\\\\n\\hline\n\t 012C5FAD-2451-41B0-9E2F-432D1ECEB55C & native & annual    & forb      &  6.5 & 1.625 & 285 & 2016 & 2016\\\\\n\t 012C5FAD-2451-41B0-9E2F-432D1ECEB55C & native & annual    & graminoid &  0.0 & 0.000 & 285 & 2016 & 2016\\\\\n\t 012C5FAD-2451-41B0-9E2F-432D1ECEB55C & native & biennial  & forb      &  0.0 & 0.000 & 285 & 2016 & 2016\\\\\n\t 012C5FAD-2451-41B0-9E2F-432D1ECEB55C & native & multiple  & forb      &  1.0 & 0.250 & 285 & 2016 & 2016\\\\\n\t 012C5FAD-2451-41B0-9E2F-432D1ECEB55C & native & multiple  & graminoid &  0.0 & 0.000 & 285 & 2016 & 2016\\\\\n\t 012C5FAD-2451-41B0-9E2F-432D1ECEB55C & native & perennial & forb      & 14.5 & 3.625 & 285 & 2016 & 2016\\\\\n\\end{tabular}\n",
            "text/markdown": "\nA tibble: 6 × 9\n\n| survey_ID &lt;chr&gt; | plant_native_status &lt;chr&gt; | plant_life_cycle &lt;chr&gt; | plant_life_form &lt;chr&gt; | intercepts_pct_sum &lt;dbl&gt; | detection_rate &lt;dbl&gt; | grid_point &lt;int&gt; | year &lt;int&gt; | survey_sequence &lt;chr&gt; |\n|---|---|---|---|---|---|---|---|---|\n| 012C5FAD-2451-41B0-9E2F-432D1ECEB55C | native | annual    | forb      |  6.5 | 1.625 | 285 | 2016 | 2016 |\n| 012C5FAD-2451-41B0-9E2F-432D1ECEB55C | native | annual    | graminoid |  0.0 | 0.000 | 285 | 2016 | 2016 |\n| 012C5FAD-2451-41B0-9E2F-432D1ECEB55C | native | biennial  | forb      |  0.0 | 0.000 | 285 | 2016 | 2016 |\n| 012C5FAD-2451-41B0-9E2F-432D1ECEB55C | native | multiple  | forb      |  1.0 | 0.250 | 285 | 2016 | 2016 |\n| 012C5FAD-2451-41B0-9E2F-432D1ECEB55C | native | multiple  | graminoid |  0.0 | 0.000 | 285 | 2016 | 2016 |\n| 012C5FAD-2451-41B0-9E2F-432D1ECEB55C | native | perennial | forb      | 14.5 | 3.625 | 285 | 2016 | 2016 |\n\n",
            "text/html": [
              "<table>\n",
              "<caption>A tibble: 6 × 9</caption>\n",
              "<thead>\n",
              "\t<tr><th scope=col>survey_ID</th><th scope=col>plant_native_status</th><th scope=col>plant_life_cycle</th><th scope=col>plant_life_form</th><th scope=col>intercepts_pct_sum</th><th scope=col>detection_rate</th><th scope=col>grid_point</th><th scope=col>year</th><th scope=col>survey_sequence</th></tr>\n",
              "\t<tr><th scope=col>&lt;chr&gt;</th><th scope=col>&lt;chr&gt;</th><th scope=col>&lt;chr&gt;</th><th scope=col>&lt;chr&gt;</th><th scope=col>&lt;dbl&gt;</th><th scope=col>&lt;dbl&gt;</th><th scope=col>&lt;int&gt;</th><th scope=col>&lt;int&gt;</th><th scope=col>&lt;chr&gt;</th></tr>\n",
              "</thead>\n",
              "<tbody>\n",
              "\t<tr><td>012C5FAD-2451-41B0-9E2F-432D1ECEB55C</td><td>native</td><td>annual   </td><td>forb     </td><td> 6.5</td><td>1.625</td><td>285</td><td>2016</td><td>2016</td></tr>\n",
              "\t<tr><td>012C5FAD-2451-41B0-9E2F-432D1ECEB55C</td><td>native</td><td>annual   </td><td>graminoid</td><td> 0.0</td><td>0.000</td><td>285</td><td>2016</td><td>2016</td></tr>\n",
              "\t<tr><td>012C5FAD-2451-41B0-9E2F-432D1ECEB55C</td><td>native</td><td>biennial </td><td>forb     </td><td> 0.0</td><td>0.000</td><td>285</td><td>2016</td><td>2016</td></tr>\n",
              "\t<tr><td>012C5FAD-2451-41B0-9E2F-432D1ECEB55C</td><td>native</td><td>multiple </td><td>forb     </td><td> 1.0</td><td>0.250</td><td>285</td><td>2016</td><td>2016</td></tr>\n",
              "\t<tr><td>012C5FAD-2451-41B0-9E2F-432D1ECEB55C</td><td>native</td><td>multiple </td><td>graminoid</td><td> 0.0</td><td>0.000</td><td>285</td><td>2016</td><td>2016</td></tr>\n",
              "\t<tr><td>012C5FAD-2451-41B0-9E2F-432D1ECEB55C</td><td>native</td><td>perennial</td><td>forb     </td><td>14.5</td><td>3.625</td><td>285</td><td>2016</td><td>2016</td></tr>\n",
              "</tbody>\n",
              "</table>\n"
            ]
          },
          "metadata": {
            "tags": []
          }
        }
      ]
    },
    {
      "cell_type": "markdown",
      "metadata": {
        "id": "DYQfUWOGC9KE",
        "colab_type": "text"
      },
      "source": [
        "## Join Metadata"
      ]
    },
    {
      "cell_type": "markdown",
      "metadata": {
        "id": "hCCLARdZC5HX",
        "colab_type": "text"
      },
      "source": [
        "Finally, join the metadata from requested tables or views and complete the schema below. "
      ]
    },
    {
      "cell_type": "code",
      "metadata": {
        "id": "S6OtPBxfDGpC",
        "colab_type": "code",
        "colab": {
          "base_uri": "https://localhost:8080/",
          "height": 51
        },
        "outputId": "2db535e4-574c-4b3b-a201-16b87ce328dd"
      },
      "source": [
        "# bring gridpoints back in\n",
        "grid_point_ref <- df_plant_intercepts %>%\n",
        "  select(survey_ID, grid_point) %>%\n",
        "  distinct(survey_ID, grid_point)\n",
        "\n",
        "df_plant_functional_groups <- df_plant_functional_groups %>%\n",
        "  left_join(grid_point_ref)"
      ],
      "execution_count": null,
      "outputs": [
        {
          "output_type": "stream",
          "text": [
            "Joining, by = c(\"survey_ID\", \"grid_point\")\n",
            "\n"
          ],
          "name": "stderr"
        }
      ]
    },
    {
      "cell_type": "code",
      "metadata": {
        "id": "4Npb95CMDv8Z",
        "colab_type": "code",
        "colab": {
          "base_uri": "https://localhost:8080/",
          "height": 238
        },
        "outputId": "566c5f37-3d09-45c5-8673-24a31d6ceffc"
      },
      "source": [
        "df_plant_functional_groups <- df_plant_functional_groups %>%\n",
        "  left_join(df_survey_metadata) %>%\n",
        "  glimpse()"
      ],
      "execution_count": null,
      "outputs": [
        {
          "output_type": "stream",
          "text": [
            "Joining, by = c(\"survey_ID\", \"year\", \"survey_sequence\")\n",
            "\n"
          ],
          "name": "stderr"
        },
        {
          "output_type": "stream",
          "text": [
            "Rows: 31,050\n",
            "Columns: 9\n",
            "$ survey_ID           \u001b[3m\u001b[90m<chr>\u001b[39m\u001b[23m \"012C5FAD-2451-41B0-9E2F-432D1ECEB55C\", \"012C5FAD…\n",
            "$ plant_native_status \u001b[3m\u001b[90m<chr>\u001b[39m\u001b[23m \"native\", \"native\", \"native\", \"native\", \"native\",…\n",
            "$ plant_life_cycle    \u001b[3m\u001b[90m<chr>\u001b[39m\u001b[23m \"annual\", \"annual\", \"biennial\", \"multiple\", \"mult…\n",
            "$ plant_life_form     \u001b[3m\u001b[90m<chr>\u001b[39m\u001b[23m \"forb\", \"graminoid\", \"forb\", \"forb\", \"graminoid\",…\n",
            "$ intercepts_pct_sum  \u001b[3m\u001b[90m<dbl>\u001b[39m\u001b[23m 6.5, 0.0, 0.0, 1.0, 0.0, 14.5, 5.0, 8.5, 0.0, 0.0…\n",
            "$ detection_rate      \u001b[3m\u001b[90m<dbl>\u001b[39m\u001b[23m 1.625, 0.000, 0.000, 0.250, 0.000, 3.625, 1.250, …\n",
            "$ grid_point          \u001b[3m\u001b[90m<int>\u001b[39m\u001b[23m 285, 285, 285, 285, 285, 285, 285, 285, 285, 285,…\n",
            "$ year                \u001b[3m\u001b[90m<int>\u001b[39m\u001b[23m 2016, 2016, 2016, 2016, 2016, 2016, 2016, 2016, 2…\n",
            "$ survey_sequence     \u001b[3m\u001b[90m<chr>\u001b[39m\u001b[23m \"2016\", \"2016\", \"2016\", \"2016\", \"2016\", \"2016\", \"…\n"
          ],
          "name": "stdout"
        }
      ]
    },
    {
      "cell_type": "code",
      "metadata": {
        "id": "HRvDGUL4DSRe",
        "colab_type": "code",
        "colab": {
          "base_uri": "https://localhost:8080/",
          "height": 340
        },
        "outputId": "8af90f23-e684-41d4-9284-3640a50e64da"
      },
      "source": [
        "df_plant_functional_groups <- df_plant_functional_groups %>%\n",
        "  left_join(df_position_class) %>%\n",
        "  glimpse()"
      ],
      "execution_count": null,
      "outputs": [
        {
          "output_type": "stream",
          "text": [
            "Joining, by = \"grid_point\"\n",
            "\n"
          ],
          "name": "stderr"
        },
        {
          "output_type": "stream",
          "text": [
            "Rows: 31,050\n",
            "Columns: 15\n",
            "$ survey_ID                   \u001b[3m\u001b[90m<chr>\u001b[39m\u001b[23m \"012C5FAD-2451-41B0-9E2F-432D1ECEB55C\", \"…\n",
            "$ plant_native_status         \u001b[3m\u001b[90m<chr>\u001b[39m\u001b[23m \"native\", \"native\", \"native\", \"native\", \"…\n",
            "$ plant_life_cycle            \u001b[3m\u001b[90m<chr>\u001b[39m\u001b[23m \"annual\", \"annual\", \"biennial\", \"multiple…\n",
            "$ plant_life_form             \u001b[3m\u001b[90m<chr>\u001b[39m\u001b[23m \"forb\", \"graminoid\", \"forb\", \"forb\", \"gra…\n",
            "$ intercepts_pct_sum          \u001b[3m\u001b[90m<dbl>\u001b[39m\u001b[23m 6.5, 0.0, 0.0, 1.0, 0.0, 14.5, 5.0, 8.5, …\n",
            "$ detection_rate              \u001b[3m\u001b[90m<dbl>\u001b[39m\u001b[23m 1.625, 0.000, 0.000, 0.250, 0.000, 3.625,…\n",
            "$ grid_point                  \u001b[3m\u001b[90m<int>\u001b[39m\u001b[23m 285, 285, 285, 285, 285, 285, 285, 285, 2…\n",
            "$ year                        \u001b[3m\u001b[90m<int>\u001b[39m\u001b[23m 2016, 2016, 2016, 2016, 2016, 2016, 2016,…\n",
            "$ survey_sequence             \u001b[3m\u001b[90m<chr>\u001b[39m\u001b[23m \"2016\", \"2016\", \"2016\", \"2016\", \"2016\", \"…\n",
            "$ aspect_mean_deg             \u001b[3m\u001b[90m<dbl>\u001b[39m\u001b[23m 138.749, 138.749, 138.749, 138.749, 138.7…\n",
            "$ elevation_mean_m            \u001b[3m\u001b[90m<dbl>\u001b[39m\u001b[23m 1352.10, 1352.10, 1352.10, 1352.10, 1352.…\n",
            "$ slope_mean_deg              \u001b[3m\u001b[90m<dbl>\u001b[39m\u001b[23m 24.5141, 24.5141, 24.5141, 24.5141, 24.51…\n",
            "$ cover_type_2016_gridVeg     \u001b[3m\u001b[90m<chr>\u001b[39m\u001b[23m \"shrubland\", \"shrubland\", \"shrubland\", \"s…\n",
            "$ type3_vegetation_indicators \u001b[3m\u001b[90m<chr>\u001b[39m\u001b[23m \"mixed sage and bitterbrush\", \"mixed sage…\n",
            "$ type4_indicators_history    \u001b[3m\u001b[90m<chr>\u001b[39m\u001b[23m \"mixed sage and bitterbrush\", \"mixed sage…\n"
          ],
          "name": "stdout"
        }
      ]
    },
    {
      "cell_type": "markdown",
      "metadata": {
        "id": "lUMsTHt_FMgs",
        "colab_type": "text"
      },
      "source": [
        "# Output"
      ]
    },
    {
      "cell_type": "code",
      "metadata": {
        "id": "BOTi2RyxFQYF",
        "colab_type": "code",
        "colab": {}
      },
      "source": [
        "write_csv(df_plant_functional_groups, path = \"gridVeg_plant_functional_groups-WRANGLE.csv\")"
      ],
      "execution_count": null,
      "outputs": []
    }
  ]
}