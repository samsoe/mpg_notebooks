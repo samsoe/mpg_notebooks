{
  "nbformat": 4,
  "nbformat_minor": 0,
  "metadata": {
    "colab": {
      "name": "yvp_vegetation_cover_WRANGLE",
      "provenance": [],
      "collapsed_sections": [],
      "toc_visible": true,
      "include_colab_link": true
    },
    "kernelspec": {
      "name": "ir",
      "display_name": "R"
    }
  },
  "cells": [
    {
      "cell_type": "markdown",
      "metadata": {
        "id": "view-in-github",
        "colab_type": "text"
      },
      "source": [
        "<a href=\"https://colab.research.google.com/github/samsoe/mpg_notebooks/blob/master/yvp_vegetation_cover_WRANGLE.ipynb\" target=\"_parent\"><img src=\"https://colab.research.google.com/assets/colab-badge.svg\" alt=\"Open In Colab\"/></a>"
      ]
    },
    {
      "cell_type": "markdown",
      "metadata": {
        "id": "sLoATLEdI-hh"
      },
      "source": [
        "*R Notebook*"
      ]
    },
    {
      "cell_type": "markdown",
      "metadata": {
        "id": "YZbGHbTzJQrV"
      },
      "source": [
        "# README"
      ]
    },
    {
      "cell_type": "markdown",
      "metadata": {
        "id": "G095KjDNJS6E"
      },
      "source": [
        "* [Readme fixed grid plot vegetation data](https://docs.google.com/document/d/16-Aq8u9Rudd78fSzfjvpCXyQgE-BstC-d2PjYfmLtcw/edit?usp=sharing)"
      ]
    },
    {
      "cell_type": "markdown",
      "metadata": {
        "id": "DTleZaOpPUo-"
      },
      "source": [
        "# Load Tools"
      ]
    },
    {
      "cell_type": "code",
      "metadata": {
        "id": "nQA2WSBCPXuD"
      },
      "source": [
        "# Package and library installation\n",
        "packages_needed = c(\"tidyverse\", \"gsheet\", \"lubridate\") # comma delimited vector of package names\n",
        "packages_installed = packages_needed %in% rownames(installed.packages())\n",
        "\n",
        "if (any(! packages_installed))\n",
        "  install.packages(packages_needed[! packages_installed])\n",
        "for (i in 1:length(packages_needed)) {\n",
        "  library(packages_needed[i], character.only = T)\n",
        "}"
      ],
      "execution_count": null,
      "outputs": []
    },
    {
      "cell_type": "code",
      "metadata": {
        "id": "N8eDSK58tR_s"
      },
      "source": [
        "# Package and library installation\n",
        "packages_needed = c(\"bigrquery\") # comma delimited vector of package names\n",
        "packages_installed = packages_needed %in% rownames(installed.packages())\n",
        "\n",
        "if (any(! packages_installed))\n",
        "  install.packages(packages_needed[! packages_installed])\n",
        "for (i in 1:length(packages_needed)) {\n",
        "  library(packages_needed[i], character.only = T)\n",
        "}"
      ],
      "execution_count": null,
      "outputs": []
    },
    {
      "cell_type": "markdown",
      "metadata": {
        "id": "RKBdNw56BzwD"
      },
      "source": [
        "# Source"
      ]
    },
    {
      "cell_type": "markdown",
      "metadata": {
        "id": "oHr8hbjZtKCR"
      },
      "source": [
        "## YVP vegetation cover"
      ]
    },
    {
      "cell_type": "code",
      "metadata": {
        "id": "X9t3Ks1oB3gG"
      },
      "source": [
        "# 2020-04-28_yvp_vegetation_cover\n",
        "src = 'https://drive.google.com/uc?id=1pemnlKIlfAQw2JSMN7yDlYMG5QhUW-NP'"
      ],
      "execution_count": null,
      "outputs": []
    },
    {
      "cell_type": "code",
      "metadata": {
        "id": "fvU8xi8iB4SI"
      },
      "source": [
        "df <- read.csv(file = src)"
      ],
      "execution_count": null,
      "outputs": []
    },
    {
      "cell_type": "code",
      "metadata": {
        "id": "YDY7IDdmB4PN",
        "outputId": "c7cf0c98-bae4-424d-efad-6624af11ff0f",
        "colab": {
          "base_uri": "https://localhost:8080/",
          "height": 120
        }
      },
      "source": [
        "head(df, n=2)"
      ],
      "execution_count": null,
      "outputs": [
        {
          "output_type": "display_data",
          "data": {
            "text/plain": [
              "  plot_code date       subplot species_code cover_pct\n",
              "1 YVP 10    2017-06-09 1       BOESPP       1        \n",
              "2 YVP 10    2017-06-09 1       CREINT       1        "
            ],
            "text/latex": "A data.frame: 2 × 5\n\\begin{tabular}{r|lllll}\n  & plot\\_code & date & subplot & species\\_code & cover\\_pct\\\\\n  & <chr> & <chr> & <int> & <chr> & <int>\\\\\n\\hline\n\t1 & YVP 10 & 2017-06-09 & 1 & BOESPP & 1\\\\\n\t2 & YVP 10 & 2017-06-09 & 1 & CREINT & 1\\\\\n\\end{tabular}\n",
            "text/markdown": "\nA data.frame: 2 × 5\n\n| <!--/--> | plot_code &lt;chr&gt; | date &lt;chr&gt; | subplot &lt;int&gt; | species_code &lt;chr&gt; | cover_pct &lt;int&gt; |\n|---|---|---|---|---|---|\n| 1 | YVP 10 | 2017-06-09 | 1 | BOESPP | 1 |\n| 2 | YVP 10 | 2017-06-09 | 1 | CREINT | 1 |\n\n",
            "text/html": [
              "<table>\n",
              "<caption>A data.frame: 2 × 5</caption>\n",
              "<thead>\n",
              "\t<tr><th></th><th scope=col>plot_code</th><th scope=col>date</th><th scope=col>subplot</th><th scope=col>species_code</th><th scope=col>cover_pct</th></tr>\n",
              "\t<tr><th></th><th scope=col>&lt;chr&gt;</th><th scope=col>&lt;chr&gt;</th><th scope=col>&lt;int&gt;</th><th scope=col>&lt;chr&gt;</th><th scope=col>&lt;int&gt;</th></tr>\n",
              "</thead>\n",
              "<tbody>\n",
              "\t<tr><th scope=row>1</th><td>YVP 10</td><td>2017-06-09</td><td>1</td><td>BOESPP</td><td>1</td></tr>\n",
              "\t<tr><th scope=row>2</th><td>YVP 10</td><td>2017-06-09</td><td>1</td><td>CREINT</td><td>1</td></tr>\n",
              "</tbody>\n",
              "</table>\n"
            ]
          },
          "metadata": {
            "tags": []
          }
        }
      ]
    },
    {
      "cell_type": "markdown",
      "metadata": {
        "id": "_IHxQ1E3tNZw"
      },
      "source": [
        "## Plant species metadata"
      ]
    },
    {
      "cell_type": "code",
      "metadata": {
        "id": "rBDjlwCbuKqe"
      },
      "source": [
        "# BigQuery API Key\n",
        "bq_auth(path = \"/content/mpg-data-warehouse-api_key-master.json\")\n",
        "Sys.setenv(BIGQUERY_TEST_PROJECT = \"mpg-data-warehouse\")\n",
        "billing <- bq_test_project()"
      ],
      "execution_count": null,
      "outputs": []
    },
    {
      "cell_type": "code",
      "metadata": {
        "id": "UGBEvIKZuM4U",
        "outputId": "08d657fd-085a-4eba-90d0-a65461299f2c",
        "colab": {
          "base_uri": "https://localhost:8080/"
        }
      },
      "source": [
        "spe_sq <- \"\n",
        "            SELECT *\n",
        "            FROM `mpg-data-warehouse.vegetation_species_metadata.vegetation_species_metadata`\n",
        "            \"\n",
        "spe_bq <- bq_project_query(billing, spe_sq)\n",
        "spe_tb <- bq_table_download(spe_bq)\n",
        "spe_df <- as.data.frame(spe_tb) %>% glimpse()"
      ],
      "execution_count": null,
      "outputs": [
        {
          "output_type": "stream",
          "text": [
            "Rows: 754\n",
            "Columns: 9\n",
            "$ key_plant_species   \u001b[3m\u001b[90m<int>\u001b[39m\u001b[23m 360, 13, 26, 53, 738, 75, 76, 746, 83, 88, 86, 87…\n",
            "$ key_plant_code      \u001b[3m\u001b[90m<chr>\u001b[39m\u001b[23m \"NV\", \"AGRSCA\", \"ANDGER\", \"ARIPUR\", \"BOUCUR\", \"BO…\n",
            "$ plant_name_sci      \u001b[3m\u001b[90m<chr>\u001b[39m\u001b[23m \"no vegetation\", \"Agrostis scabra\", \"Andropogon g…\n",
            "$ plant_name_syn      \u001b[3m\u001b[90m<chr>\u001b[39m\u001b[23m NA, NA, NA, \"Aristida longiseta\", NA, NA, NA, NA,…\n",
            "$ plant_name_common   \u001b[3m\u001b[90m<chr>\u001b[39m\u001b[23m \"no vegetation\", \"rough bentgrass\", \"big bluestem…\n",
            "$ plant_name_family   \u001b[3m\u001b[90m<chr>\u001b[39m\u001b[23m \"None\", \"Poaceae\", \"Poaceae\", \"Poaceae\", \"Poaceae…\n",
            "$ plant_native_status \u001b[3m\u001b[90m<chr>\u001b[39m\u001b[23m \"none\", \"native\", \"native\", \"native\", \"native\", \"…\n",
            "$ plant_life_cycle    \u001b[3m\u001b[90m<chr>\u001b[39m\u001b[23m \"unknown\", \"perennial\", \"perennial\", \"perennial\",…\n",
            "$ plant_life_form     \u001b[3m\u001b[90m<chr>\u001b[39m\u001b[23m \"none\", \"graminoid\", \"graminoid\", \"graminoid\", \"g…\n"
          ],
          "name": "stdout"
        }
      ]
    },
    {
      "cell_type": "markdown",
      "metadata": {
        "id": "hH-_99bsKRVn"
      },
      "source": [
        "# Wrangle"
      ]
    },
    {
      "cell_type": "markdown",
      "metadata": {
        "id": "P_3Rq2-4OVsJ"
      },
      "source": [
        "## Structure columns"
      ]
    },
    {
      "cell_type": "markdown",
      "metadata": {
        "id": "v3OVKR2zFNXG"
      },
      "source": [
        "## Plot Code Transformation\n",
        "The plot code used in the source data is a complex string. It is needed to provide a unique key to each survey location, but because it is a string it is difficult to sort or filter plots. Further, the plot codes used here will be difficult to associate with the extensive grid point metadata stored elsewhere in the MPG Data Warehouse. \n",
        "\n",
        "Solution: paste the separate identifers from the plot code into separate fields, but retain the original character string for internal use."
      ]
    },
    {
      "cell_type": "markdown",
      "metadata": {
        "id": "801b78aYKc5B"
      },
      "source": [
        "#### plot_code"
      ]
    },
    {
      "cell_type": "code",
      "metadata": {
        "id": "ky8xiSEzKSCb"
      },
      "source": [
        "# convert to string\n",
        "df$plot_code <- as.character(df$plot_code)"
      ],
      "execution_count": null,
      "outputs": []
    },
    {
      "cell_type": "markdown",
      "metadata": {
        "id": "L2yzHLKuP4oz"
      },
      "source": [
        "#### plot_ loc"
      ]
    },
    {
      "cell_type": "code",
      "metadata": {
        "id": "x42pThVsQeuS"
      },
      "source": [
        "# detect \"N\" in 'plot_code' and write to new column 'plot_loc'\n",
        "df <- df %>%\n",
        "  mutate(plot_loc = ifelse(str_detect(plot_code, \"N\"), \"N\", NA))"
      ],
      "execution_count": null,
      "outputs": []
    },
    {
      "cell_type": "code",
      "metadata": {
        "id": "yihV0YgNVpEt"
      },
      "source": [
        "# reorder columns\n",
        "df <- df[,c(1,6,2,3,4,5)]"
      ],
      "execution_count": null,
      "outputs": []
    },
    {
      "cell_type": "markdown",
      "metadata": {
        "id": "0FWBUqUqWSNm"
      },
      "source": [
        "#### plot_rep"
      ]
    },
    {
      "cell_type": "code",
      "metadata": {
        "id": "qNVlve_WWY9a"
      },
      "source": [
        "# detect \"A\", \"B\", \"C\" characters in plot_code and if present write to 'plot_rep'\n",
        "df <- df %>%\n",
        "  mutate(plot_rep = case_when(str_detect(plot_code, \"A\")~\"A\",\n",
        "                              str_detect(plot_code, \"B\")~\"B\",\n",
        "                              str_detect(plot_code, \"C\")~\"C\"))"
      ],
      "execution_count": null,
      "outputs": []
    },
    {
      "cell_type": "code",
      "metadata": {
        "id": "vRxYtG1eYPbf"
      },
      "source": [
        "# reorder columns\n",
        "df <- df[,c(1,2,7,3,4,5,6)]"
      ],
      "execution_count": null,
      "outputs": []
    },
    {
      "cell_type": "markdown",
      "metadata": {
        "id": "R8DYL00Fb0Lu"
      },
      "source": [
        "#### plot_num"
      ]
    },
    {
      "cell_type": "code",
      "metadata": {
        "id": "GB_RxW35YO39"
      },
      "source": [
        "# use digital values from 'plot_code' and to populate 'plot_num'\n",
        "df <- df %>%\n",
        "  mutate(plot_num = str_extract(plot_code, \"[:digit:].*\"),\n",
        "         plot_num = as.integer(plot_num))"
      ],
      "execution_count": null,
      "outputs": []
    },
    {
      "cell_type": "code",
      "metadata": {
        "id": "pQUe2ZVzYO1J"
      },
      "source": [
        "# reorder columns\n",
        "df <- df[,c(1,2,3,8,4,5,6,7)]"
      ],
      "execution_count": null,
      "outputs": []
    },
    {
      "cell_type": "markdown",
      "metadata": {
        "id": "ULsKFbhjNZ3p"
      },
      "source": [
        "### date\n",
        "* Convert to date\n",
        "* Add a year varaible to assist with wrangling later"
      ]
    },
    {
      "cell_type": "code",
      "metadata": {
        "id": "qJREtrbNNBro"
      },
      "source": [
        "# convert to date\n",
        "df$date <- as.Date(df$date)\n",
        "df$year <- year(df$date)"
      ],
      "execution_count": null,
      "outputs": []
    },
    {
      "cell_type": "code",
      "metadata": {
        "id": "tkRISIFZkHM_",
        "outputId": "12baae22-fd73-49d1-a058-5c91b0a09f44",
        "colab": {
          "base_uri": "https://localhost:8080/"
        }
      },
      "source": [
        "df %>% glimpse()"
      ],
      "execution_count": null,
      "outputs": [
        {
          "output_type": "stream",
          "text": [
            "Rows: 21,728\n",
            "Columns: 9\n",
            "$ plot_code    \u001b[3m\u001b[90m<chr>\u001b[39m\u001b[23m \"YVP 10\", \"YVP 10\", \"YVP 10\", \"YVP 10\", \"YVP 10\", \"YVP 1…\n",
            "$ plot_loc     \u001b[3m\u001b[90m<chr>\u001b[39m\u001b[23m NA, NA, NA, NA, NA, NA, NA, NA, NA, NA, NA, NA, NA, NA, …\n",
            "$ plot_rep     \u001b[3m\u001b[90m<chr>\u001b[39m\u001b[23m NA, NA, NA, NA, NA, NA, NA, NA, NA, NA, NA, NA, NA, NA, …\n",
            "$ plot_num     \u001b[3m\u001b[90m<int>\u001b[39m\u001b[23m 10, 10, 10, 10, 10, 10, 10, 10, 10, 10, 10, 10, 10, 10, …\n",
            "$ date         \u001b[3m\u001b[90m<date>\u001b[39m\u001b[23m 2017-06-09, 2017-06-09, 2017-06-09, 2017-06-09, 2017-06…\n",
            "$ subplot      \u001b[3m\u001b[90m<int>\u001b[39m\u001b[23m 1, 1, 1, 1, 1, 1, 1, 1, 1, 1, 1, 1, 1, 1, 1, 1, 1, 1, 1,…\n",
            "$ species_code \u001b[3m\u001b[90m<chr>\u001b[39m\u001b[23m \"BOESPP\", \"CREINT\", \"EUPESU\", \"FESCAM\", \"FESIDA\", \"GEUTR…\n",
            "$ cover_pct    \u001b[3m\u001b[90m<int>\u001b[39m\u001b[23m 1, 1, 5, 25, 25, 10, 1, 1, 5, 1, 30, 2, 2, 1, 3, 0, 1, 0…\n",
            "$ year         \u001b[3m\u001b[90m<dbl>\u001b[39m\u001b[23m 2017, 2017, 2017, 2017, 2017, 2017, 2017, 2017, 2017, 20…\n"
          ],
          "name": "stdout"
        }
      ]
    },
    {
      "cell_type": "markdown",
      "metadata": {
        "id": "uRiMTPiIpiFj"
      },
      "source": [
        "### subplot"
      ]
    },
    {
      "cell_type": "code",
      "metadata": {
        "id": "Dr40XXIQpje1"
      },
      "source": [
        "# convert to integer\n",
        "df$subplot <- as.integer(df$subplot)"
      ],
      "execution_count": null,
      "outputs": []
    },
    {
      "cell_type": "markdown",
      "metadata": {
        "id": "H_G-7PpcpTP8"
      },
      "source": [
        "### species_key"
      ]
    },
    {
      "cell_type": "markdown",
      "metadata": {
        "id": "4wgbJusKpZWd"
      },
      "source": [
        "This will be imported from the plant species metadata table, and we can use it to join and correct species codes in the future. But because joining the key to the species codes will require that the codes be corrected first, we will skip this step for now.\n",
        "\n",
        "Elsewhere in the warehouse, this variable is named `key_plant_species`, so we will maintain this convention here as well. \n"
      ]
    },
    {
      "cell_type": "markdown",
      "metadata": {
        "id": "d7RW6V3ZWGmg"
      },
      "source": [
        "### species_code\n",
        "\n",
        "Elsewhere in the warehouse, species_code is `key_plant_code`, wo we will maintain that convention here too. "
      ]
    },
    {
      "cell_type": "code",
      "metadata": {
        "id": "1CmtWg-EWIDc"
      },
      "source": [
        "# convert to string\n",
        "df$species_code <- as.character(df$species_code)"
      ],
      "execution_count": null,
      "outputs": []
    },
    {
      "cell_type": "code",
      "metadata": {
        "id": "nBSqthTWsX3j"
      },
      "source": [
        "df <-\n",
        "df %>% \n",
        "mutate(key_plant_code = species_code) %>% \n",
        "select(-species_code)"
      ],
      "execution_count": null,
      "outputs": []
    },
    {
      "cell_type": "markdown",
      "metadata": {
        "id": "S5UZM86eOSi-"
      },
      "source": [
        "## Identify Double Counted Species\n",
        "In a few instances, a plant species is counted twice in the same survey subplot. This could inflate the cover reported for that species. In these cases, the desired end product is to have just one row for each. Because there is no way to know which value of the two is correct, we will average the two values, treating them empirically as independent, legitimate cover estimates. "
      ]
    },
    {
      "cell_type": "code",
      "metadata": {
        "id": "oAXE_yATius0",
        "outputId": "fcda15d2-1805-497a-eb6e-010041d929d9",
        "colab": {
          "base_uri": "https://localhost:8080/",
          "height": 374
        }
      },
      "source": [
        "df %>% summary()"
      ],
      "execution_count": null,
      "outputs": [
        {
          "output_type": "display_data",
          "data": {
            "text/plain": [
              "  plot_code           plot_loc           plot_rep            plot_num    \n",
              " Length:21728       Length:21728       Length:21728       Min.   :  7.0  \n",
              " Class :character   Class :character   Class :character   1st Qu.: 62.0  \n",
              " Mode  :character   Mode  :character   Mode  :character   Median :209.0  \n",
              "                                                          Mean   :244.8  \n",
              "                                                          3rd Qu.:386.0  \n",
              "                                                          Max.   :571.0  \n",
              "      date               subplot         cover_pct            year     \n",
              " Min.   :2017-05-08   Min.   : 1.000   Min.   :  0.000   Min.   :2017  \n",
              " 1st Qu.:2017-06-09   1st Qu.: 3.000   1st Qu.:  1.000   1st Qu.:2017  \n",
              " Median :2018-07-02   Median : 5.000   Median :  2.000   Median :2018  \n",
              " Mean   :2018-07-22   Mean   : 5.497   Mean   :  6.691   Mean   :2018  \n",
              " 3rd Qu.:2019-05-28   3rd Qu.: 8.000   3rd Qu.:  5.000   3rd Qu.:2019  \n",
              " Max.   :2019-07-16   Max.   :10.000   Max.   :100.000   Max.   :2019  \n",
              " key_plant_code    \n",
              " Length:21728      \n",
              " Class :character  \n",
              " Mode  :character  \n",
              "                   \n",
              "                   \n",
              "                   "
            ]
          },
          "metadata": {
            "tags": []
          }
        }
      ]
    },
    {
      "cell_type": "markdown",
      "metadata": {
        "id": "ualnY5i8iy59"
      },
      "source": [
        "No NA values in the quantitative data. Data contains 21728 rows. "
      ]
    },
    {
      "cell_type": "code",
      "metadata": {
        "id": "U1vR2a3E5jdt",
        "outputId": "bea077c9-05ef-45eb-9c18-6f3525ec1c4e",
        "colab": {
          "base_uri": "https://localhost:8080/"
        }
      },
      "source": [
        "df %>%\n",
        "group_by(year = as.integer(year(df$date)), plot_code, subplot, key_plant_code) %>%\n",
        "summarize(counted = n()) %>% \n",
        "ungroup() %>%\n",
        "arrange(year, plot_code, subplot, desc(counted)) %>%\n",
        "filter(counted > 1) %>%\n",
        "print(n=Inf)"
      ],
      "execution_count": null,
      "outputs": [
        {
          "output_type": "stream",
          "text": [
            "`summarise()` regrouping output by 'year', 'plot_code', 'subplot' (override with `.groups` argument)\n",
            "\n"
          ],
          "name": "stderr"
        },
        {
          "output_type": "stream",
          "text": [
            "\u001b[90m# A tibble: 46 x 5\u001b[39m\n",
            "    year plot_code subplot key_plant_code counted\n",
            "   \u001b[3m\u001b[90m<int>\u001b[39m\u001b[23m \u001b[3m\u001b[90m<chr>\u001b[39m\u001b[23m       \u001b[3m\u001b[90m<int>\u001b[39m\u001b[23m \u001b[3m\u001b[90m<chr>\u001b[39m\u001b[23m            \u001b[3m\u001b[90m<int>\u001b[39m\u001b[23m\n",
            "\u001b[90m 1\u001b[39m  \u001b[4m2\u001b[24m017 YVP 144         2 VERVER               2\n",
            "\u001b[90m 2\u001b[39m  \u001b[4m2\u001b[24m017 YVP 180         7 FRIPUD               2\n",
            "\u001b[90m 3\u001b[39m  \u001b[4m2\u001b[24m017 YVP 203         4 COLLIN               2\n",
            "\u001b[90m 4\u001b[39m  \u001b[4m2\u001b[24m017 YVP 355        10 PSESPI               2\n",
            "\u001b[90m 5\u001b[39m  \u001b[4m2\u001b[24m017 YVP 44          9 ORTTEN               2\n",
            "\u001b[90m 6\u001b[39m  \u001b[4m2\u001b[24m017 YVP N111        2 DRAVER               2\n",
            "\u001b[90m 7\u001b[39m  \u001b[4m2\u001b[24m017 YVP NB294       8 MICGRA               2\n",
            "\u001b[90m 8\u001b[39m  \u001b[4m2\u001b[24m018 YVP 112         9 ALYALY               2\n",
            "\u001b[90m 9\u001b[39m  \u001b[4m2\u001b[24m018 YVP 12          4 HOLUMB               2\n",
            "\u001b[90m10\u001b[39m  \u001b[4m2\u001b[24m018 YVP 144        10 ACHMIL               2\n",
            "\u001b[90m11\u001b[39m  \u001b[4m2\u001b[24m018 YVP 184         4 HOLUMB               2\n",
            "\u001b[90m12\u001b[39m  \u001b[4m2\u001b[24m018 YVP 185         1 DRAVER               2\n",
            "\u001b[90m13\u001b[39m  \u001b[4m2\u001b[24m018 YVP 185         1 FRIPUD               2\n",
            "\u001b[90m14\u001b[39m  \u001b[4m2\u001b[24m018 YVP 185         1 MYOMIC               2\n",
            "\u001b[90m15\u001b[39m  \u001b[4m2\u001b[24m018 YVP 185         3 HOLUMB               2\n",
            "\u001b[90m16\u001b[39m  \u001b[4m2\u001b[24m018 YVP 185         4 ARANUT               2\n",
            "\u001b[90m17\u001b[39m  \u001b[4m2\u001b[24m018 YVP 185         4 EPIBRA               2\n",
            "\u001b[90m18\u001b[39m  \u001b[4m2\u001b[24m018 YVP 20          2 VERVER               2\n",
            "\u001b[90m19\u001b[39m  \u001b[4m2\u001b[24m018 YVP 203         4 COLLIN               2\n",
            "\u001b[90m20\u001b[39m  \u001b[4m2\u001b[24m018 YVP 209         5 ALYALY               2\n",
            "\u001b[90m21\u001b[39m  \u001b[4m2\u001b[24m018 YVP 213         4 ARIPUR               2\n",
            "\u001b[90m22\u001b[39m  \u001b[4m2\u001b[24m018 YVP 22          2 FESCAM               2\n",
            "\u001b[90m23\u001b[39m  \u001b[4m2\u001b[24m018 YVP 355         7 DODPUL               2\n",
            "\u001b[90m24\u001b[39m  \u001b[4m2\u001b[24m018 YVP 412         9 MICGRA               2\n",
            "\u001b[90m25\u001b[39m  \u001b[4m2\u001b[24m018 YVP 56          1 HOLUMB               2\n",
            "\u001b[90m26\u001b[39m  \u001b[4m2\u001b[24m018 YVP 62          3 KOEMAC               2\n",
            "\u001b[90m27\u001b[39m  \u001b[4m2\u001b[24m018 YVP 62          4 HOLUMB               2\n",
            "\u001b[90m28\u001b[39m  \u001b[4m2\u001b[24m018 YVP 62          8 ORTTEN               2\n",
            "\u001b[90m29\u001b[39m  \u001b[4m2\u001b[24m018 YVP N110        5 MYOMIC               2\n",
            "\u001b[90m30\u001b[39m  \u001b[4m2\u001b[24m018 YVP N278        2 ARESER               2\n",
            "\u001b[90m31\u001b[39m  \u001b[4m2\u001b[24m018 YVP N501       10 ARECON               2\n",
            "\u001b[90m32\u001b[39m  \u001b[4m2\u001b[24m018 YVP N522        1 LITRUD               2\n",
            "\u001b[90m33\u001b[39m  \u001b[4m2\u001b[24m018 YVP N558        7 COLLIN               2\n",
            "\u001b[90m34\u001b[39m  \u001b[4m2\u001b[24m018 YVP NB294       8 MICGRA               2\n",
            "\u001b[90m35\u001b[39m  \u001b[4m2\u001b[24m019 YVP 113         4 DRAVER               2\n",
            "\u001b[90m36\u001b[39m  \u001b[4m2\u001b[24m019 YVP 180         8 PLAPAT               2\n",
            "\u001b[90m37\u001b[39m  \u001b[4m2\u001b[24m019 YVP 209         5 ASTINF               2\n",
            "\u001b[90m38\u001b[39m  \u001b[4m2\u001b[24m019 YVP 468         2 UNKN SP              2\n",
            "\u001b[90m39\u001b[39m  \u001b[4m2\u001b[24m019 YVP N111        3 EPIBRA               2\n",
            "\u001b[90m40\u001b[39m  \u001b[4m2\u001b[24m019 YVP N158        3 EPIBRA               2\n",
            "\u001b[90m41\u001b[39m  \u001b[4m2\u001b[24m019 YVP N158        4 EPIBRA               2\n",
            "\u001b[90m42\u001b[39m  \u001b[4m2\u001b[24m019 YVP N348        5 CIRARV               2\n",
            "\u001b[90m43\u001b[39m  \u001b[4m2\u001b[24m019 YVP N386        1 EPIBRA               2\n",
            "\u001b[90m44\u001b[39m  \u001b[4m2\u001b[24m019 YVP N501        1 FRIPUD               2\n",
            "\u001b[90m45\u001b[39m  \u001b[4m2\u001b[24m019 YVP NC294       4 MYOMIC               2\n",
            "\u001b[90m46\u001b[39m  \u001b[4m2\u001b[24m019 YVP NC294       6 ERIPUM               2\n"
          ],
          "name": "stdout"
        }
      ]
    },
    {
      "cell_type": "code",
      "metadata": {
        "id": "r8QoSvBgUfnC",
        "outputId": "8afda700-a3da-4ccb-ab7b-fe460eef1a6d",
        "colab": {
          "base_uri": "https://localhost:8080/"
        }
      },
      "source": [
        "df <-\n",
        "  df %>%\n",
        "  group_by(year, plot_code, plot_loc, plot_rep, plot_num, date, subplot, key_plant_code) %>%\n",
        "  summarize(cover_pct = mean(cover_pct)) %>% \n",
        "  ungroup() %>% glimpse()"
      ],
      "execution_count": null,
      "outputs": [
        {
          "output_type": "stream",
          "text": [
            "`summarise()` regrouping output by 'year', 'plot_code', 'plot_loc', 'plot_rep', 'plot_num', 'date', 'subplot' (override with `.groups` argument)\n",
            "\n"
          ],
          "name": "stderr"
        },
        {
          "output_type": "stream",
          "text": [
            "Rows: 21,682\n",
            "Columns: 9\n",
            "$ year           \u001b[3m\u001b[90m<dbl>\u001b[39m\u001b[23m 2017, 2017, 2017, 2017, 2017, 2017, 2017, 2017, 2017, …\n",
            "$ plot_code      \u001b[3m\u001b[90m<chr>\u001b[39m\u001b[23m \"YVP 10\", \"YVP 10\", \"YVP 10\", \"YVP 10\", \"YVP 10\", \"YVP…\n",
            "$ plot_loc       \u001b[3m\u001b[90m<chr>\u001b[39m\u001b[23m NA, NA, NA, NA, NA, NA, NA, NA, NA, NA, NA, NA, NA, NA…\n",
            "$ plot_rep       \u001b[3m\u001b[90m<chr>\u001b[39m\u001b[23m NA, NA, NA, NA, NA, NA, NA, NA, NA, NA, NA, NA, NA, NA…\n",
            "$ plot_num       \u001b[3m\u001b[90m<int>\u001b[39m\u001b[23m 10, 10, 10, 10, 10, 10, 10, 10, 10, 10, 10, 10, 10, 10…\n",
            "$ date           \u001b[3m\u001b[90m<date>\u001b[39m\u001b[23m 2017-06-09, 2017-06-09, 2017-06-09, 2017-06-09, 2017-…\n",
            "$ subplot        \u001b[3m\u001b[90m<int>\u001b[39m\u001b[23m 1, 1, 1, 1, 1, 1, 1, 1, 1, 1, 1, 1, 1, 2, 2, 2, 2, 2, …\n",
            "$ key_plant_code \u001b[3m\u001b[90m<chr>\u001b[39m\u001b[23m \"BOESPP\", \"CREINT\", \"EUPESU\", \"FESCAM\", \"FESIDA\", \"GEU…\n",
            "$ cover_pct      \u001b[3m\u001b[90m<dbl>\u001b[39m\u001b[23m 1, 1, 5, 25, 25, 10, 1, 1, 5, 1, 30, 2, 2, 1, 4, 5, 40…\n"
          ],
          "name": "stdout"
        }
      ]
    },
    {
      "cell_type": "markdown",
      "metadata": {
        "id": "8W_k4z7fqirm"
      },
      "source": [
        "After averaging the doubles, the data frame contains 21682 rows, and there were 46 double counted species so that looks correct. Histograms and other diagnostics were produced in a scratch cell, and the process seems legitimate. "
      ]
    },
    {
      "cell_type": "markdown",
      "metadata": {
        "id": "DUlLTjDzKqDW"
      },
      "source": [
        "## Correct errors in species codes\n",
        "The species codes used in the source data contain numerous errors, and they also in some cases represent old taxonomy where species names have been revised. This can cause all sorts of problems, like artificially creating new species or making it impossible to join with available species metadata. Several steps must be accomplished here:\n",
        "\n",
        "1. Trim leading or trailing spaces from the code (this was done in excel before source CSV files were created)\n",
        "2. Read in master list of species metadata and query YVP species codes to identify which ones don't align\n",
        "3. Align the species codes, identify the ones that are wrong and correct them\n",
        "4. Import the numeric key from the species metadata so that future aligments are easier and errors are less common"
      ]
    },
    {
      "cell_type": "markdown",
      "metadata": {
        "id": "LrDekiW92cuH"
      },
      "source": [
        "### Align species codes and identify mistakes\n"
      ]
    },
    {
      "cell_type": "code",
      "metadata": {
        "id": "pOFU9VmmXPA-",
        "outputId": "395dbaf8-ffe9-402c-9200-a15834795150",
        "colab": {
          "base_uri": "https://localhost:8080/"
        }
      },
      "source": [
        "# Align the species codes \n",
        "# Produce df of codes that don't match the master list\n",
        "collisions_species_codes <- \n",
        "  df %>% \n",
        "  anti_join(spe_df, by = c(\"key_plant_code\" = \"key_plant_code\")) %>% \n",
        "  group_by(key_plant_code) %>% \n",
        "  distinct(key_plant_code) %>% \n",
        "  arrange(key_plant_code) %>% \n",
        "  print(n = Inf)"
      ],
      "execution_count": null,
      "outputs": [
        {
          "output_type": "stream",
          "text": [
            "\u001b[90m# A tibble: 60 x 1\u001b[39m\n",
            "\u001b[90m# Groups:   key_plant_code [60]\u001b[39m\n",
            "   key_plant_code     \n",
            "   \u001b[3m\u001b[90m<chr>\u001b[39m\u001b[23m              \n",
            "\u001b[90m 1\u001b[39m AGOS SP            \n",
            "\u001b[90m 2\u001b[39m AGROSP             \n",
            "\u001b[90m 3\u001b[39m ALOP SP            \n",
            "\u001b[90m 4\u001b[39m ANDOCCUAL          \n",
            "\u001b[90m 5\u001b[39m ANTE SP            \n",
            "\u001b[90m 6\u001b[39m ANTSPP             \n",
            "\u001b[90m 7\u001b[39m ARNCOR?            \n",
            "\u001b[90m 8\u001b[39m ARTE SP            \n",
            "\u001b[90m 9\u001b[39m ARTSPP             \n",
            "\u001b[90m10\u001b[39m BOEC SP            \n",
            "\u001b[90m11\u001b[39m BOESPP             \n",
            "\u001b[90m12\u001b[39m CARE SP            \n",
            "\u001b[90m13\u001b[39m CARE SP2           \n",
            "\u001b[90m14\u001b[39m CARE SP4           \n",
            "\u001b[90m15\u001b[39m CARSPP             \n",
            "\u001b[90m16\u001b[39m CARSPP 1           \n",
            "\u001b[90m17\u001b[39m CARSPP 2           \n",
            "\u001b[90m18\u001b[39m CARSPP 4           \n",
            "\u001b[90m19\u001b[39m CARSPP2            \n",
            "\u001b[90m20\u001b[39m CASSPP             \n",
            "\u001b[90m21\u001b[39m CAST SP            \n",
            "\u001b[90m22\u001b[39m CERA SP            \n",
            "\u001b[90m23\u001b[39m CERINT             \n",
            "\u001b[90m24\u001b[39m CHEN SP            \n",
            "\u001b[90m25\u001b[39m CREIINT            \n",
            "\u001b[90m26\u001b[39m CREP SP            \n",
            "\u001b[90m27\u001b[39m CRYP SP            \n",
            "\u001b[90m28\u001b[39m DESC SP            \n",
            "\u001b[90m29\u001b[39m DODE SP            \n",
            "\u001b[90m30\u001b[39m DODOUL             \n",
            "\u001b[90m31\u001b[39m DODSPP             \n",
            "\u001b[90m32\u001b[39m DODSSP             \n",
            "\u001b[90m33\u001b[39m DRASPP             \n",
            "\u001b[90m34\u001b[39m ELYM SP            \n",
            "\u001b[90m35\u001b[39m ELYSPP             \n",
            "\u001b[90m36\u001b[39m EPISPP             \n",
            "\u001b[90m37\u001b[39m EQUI SP            \n",
            "\u001b[90m38\u001b[39m EQUSPP             \n",
            "\u001b[90m39\u001b[39m ERIG SP            \n",
            "\u001b[90m40\u001b[39m ERISPP             \n",
            "\u001b[90m41\u001b[39m HIERSP             \n",
            "\u001b[90m42\u001b[39m LEURED             \n",
            "\u001b[90m43\u001b[39m LUWRED             \n",
            "\u001b[90m44\u001b[39m POA SP             \n",
            "\u001b[90m45\u001b[39m POTE SP            \n",
            "\u001b[90m46\u001b[39m POTSPP             \n",
            "\u001b[90m47\u001b[39m PSEPSI             \n",
            "\u001b[90m48\u001b[39m RUME SP            \n",
            "\u001b[90m49\u001b[39m SALI SP            \n",
            "\u001b[90m50\u001b[39m SELDEN             \n",
            "\u001b[90m51\u001b[39m SOLCAN             \n",
            "\u001b[90m52\u001b[39m STIP SP            \n",
            "\u001b[90m53\u001b[39m SYMP SP            \n",
            "\u001b[90m54\u001b[39m SYMPHYOTRICHUM APP.\n",
            "\u001b[90m55\u001b[39m SYMSPP             \n",
            "\u001b[90m56\u001b[39m TADUB              \n",
            "\u001b[90m57\u001b[39m TRIDUB             \n",
            "\u001b[90m58\u001b[39m TRIF SP            \n",
            "\u001b[90m59\u001b[39m TRISPP             \n",
            "\u001b[90m60\u001b[39m UNKN SP            \n"
          ],
          "name": "stdout"
        }
      ]
    },
    {
      "cell_type": "markdown",
      "metadata": {
        "id": "izWcD-3x2pAX"
      },
      "source": [
        "### Create file that associates errors with corrections"
      ]
    },
    {
      "cell_type": "code",
      "metadata": {
        "id": "27wu7uQ4ht9S",
        "outputId": "1ce15208-fe7c-40fa-e484-6345020c53c2",
        "colab": {
          "base_uri": "https://localhost:8080/"
        }
      },
      "source": [
        "# Produce file `collisions_species_codes` for work in spreadsheet outside of this environment\n",
        "# The file will save to the `content` folder in the drive tree\n",
        "# BL downloaded the file to his desktop to produce a new naming key file\n",
        "filename = \"collisions_species_codes.csv\"\n",
        "if (filename %in% list.files(getwd())) {\n",
        "  cat(\"file already exists in working directory: \", filename, \"\\n\", \"working directory: \", getwd(), \"\\n\")\n",
        "} else {\n",
        "  write.csv(collisions_species_codes, filename)\n",
        "  cat(filename, \" written to working directory \\n\", \"working directory: \", getwd(), \"\\n\")\n",
        "}\n"
      ],
      "execution_count": null,
      "outputs": [
        {
          "output_type": "stream",
          "text": [
            "collisions_species_codes.csv  written to working directory \n",
            " working directory:  /content \n"
          ],
          "name": "stdout"
        }
      ]
    },
    {
      "cell_type": "code",
      "metadata": {
        "id": "15DrHPYnzwfM",
        "outputId": "7cc84725-2a28-40dc-e6e6-a357a557edcb",
        "colab": {
          "base_uri": "https://localhost:8080/"
        }
      },
      "source": [
        "# Import csv file with the updated codes \n",
        "# This file was produced by visually aligning the codes with a file that Rebecca Durham provided\n",
        "code_corrections <- read.csv(file = \"https://drive.google.com/uc?id=1D0j3U4Or2PviFS02F3rxTRXr1SpGOB0a\",\n",
        "  colClasses = c(\"character\", \"character\")) %>% \n",
        "glimpse()"
      ],
      "execution_count": null,
      "outputs": [
        {
          "output_type": "stream",
          "text": [
            "Rows: 60\n",
            "Columns: 2\n",
            "$ plantcode_incorrect \u001b[3m\u001b[90m<chr>\u001b[39m\u001b[23m \"AGOS SP\", \"ALOP SP\", \"ANDOCCUAL\", \"ARNCOR?\", \"AR…\n",
            "$ plantcode_corrected \u001b[3m\u001b[90m<chr>\u001b[39m\u001b[23m \"AGOS_SP\", \"ALOP_SP\", \"ANDOCC\", \"ARNCOR\", \"ARTDRA…\n"
          ],
          "name": "stdout"
        }
      ]
    },
    {
      "cell_type": "markdown",
      "metadata": {
        "id": "TM1FKHi32yCK"
      },
      "source": [
        "### Cascade changes through dataset\n"
      ]
    },
    {
      "cell_type": "code",
      "metadata": {
        "id": "Xg2cshWG23U5",
        "outputId": "c2f43116-af2a-4bd2-c39c-466809d0dd21",
        "colab": {
          "base_uri": "https://localhost:8080/"
        }
      },
      "source": [
        "# Create new df to hold corrected information\n",
        "# Change species_code to character variable to avoid problems with levels later\n",
        "yvp_veg_cover_correct <- \n",
        "  df %>% \n",
        "  mutate(key_plant_code = as.character(key_plant_code)) %>% \n",
        "  select(-year) %>% \n",
        "  glimpse()"
      ],
      "execution_count": null,
      "outputs": [
        {
          "output_type": "stream",
          "text": [
            "Rows: 21,682\n",
            "Columns: 8\n",
            "$ plot_code      \u001b[3m\u001b[90m<chr>\u001b[39m\u001b[23m \"YVP 10\", \"YVP 10\", \"YVP 10\", \"YVP 10\", \"YVP 10\", \"YVP…\n",
            "$ plot_loc       \u001b[3m\u001b[90m<chr>\u001b[39m\u001b[23m NA, NA, NA, NA, NA, NA, NA, NA, NA, NA, NA, NA, NA, NA…\n",
            "$ plot_rep       \u001b[3m\u001b[90m<chr>\u001b[39m\u001b[23m NA, NA, NA, NA, NA, NA, NA, NA, NA, NA, NA, NA, NA, NA…\n",
            "$ plot_num       \u001b[3m\u001b[90m<int>\u001b[39m\u001b[23m 10, 10, 10, 10, 10, 10, 10, 10, 10, 10, 10, 10, 10, 10…\n",
            "$ date           \u001b[3m\u001b[90m<date>\u001b[39m\u001b[23m 2017-06-09, 2017-06-09, 2017-06-09, 2017-06-09, 2017-…\n",
            "$ subplot        \u001b[3m\u001b[90m<int>\u001b[39m\u001b[23m 1, 1, 1, 1, 1, 1, 1, 1, 1, 1, 1, 1, 1, 2, 2, 2, 2, 2, …\n",
            "$ key_plant_code \u001b[3m\u001b[90m<chr>\u001b[39m\u001b[23m \"BOESPP\", \"CREINT\", \"EUPESU\", \"FESCAM\", \"FESIDA\", \"GEU…\n",
            "$ cover_pct      \u001b[3m\u001b[90m<dbl>\u001b[39m\u001b[23m 1, 1, 5, 25, 25, 10, 1, 1, 5, 1, 30, 2, 2, 1, 4, 5, 40…\n"
          ],
          "name": "stdout"
        }
      ]
    },
    {
      "cell_type": "code",
      "metadata": {
        "id": "dY8lqL4aOWyJ",
        "outputId": "a54fbe4d-0be5-4946-fd57-c6c7fb55eb79",
        "colab": {
          "base_uri": "https://localhost:8080/"
        }
      },
      "source": [
        "# Loop operation used to update each instance of an incorrect code\n",
        "# Embed logic control to prevent errors if this loop is run on a df with corrected codes\n",
        "# Variable to track loop cycles\n",
        "cycles = 0\n",
        "\n",
        "for (i in 1:length(code_corrections[, 1])) {\n",
        "  index = which(yvp_veg_cover_correct$key_plant_code == code_corrections$plantcode_incorrect[i])\n",
        "\n",
        "  if (length(index != 0)) {\n",
        "    cat(\"number of incorrect code entries: \", length(index), \"\\n\")\n",
        "    cat(\"incorrect code: \", code_corrections$plantcode_incorrect[i], \"\\n\")\n",
        "    yvp_veg_cover_correct[index, ]$key_plant_code = code_corrections$plantcode_corrected[i]\n",
        "    print(yvp_veg_cover_correct[index, c(1,5,6,7,8)])\n",
        "    cycles = cycles + length(index)\n",
        "    cat(\"\\n\")\n",
        "  } else {\n",
        "    cat(\"no incorrect code entries were found \\n\")\n",
        "  }\n",
        "\n",
        "  cat(\"number of corrections made (cumulative): \", cycles, \"\\n\\n\\n\")\n",
        "\n",
        "}"
      ],
      "execution_count": null,
      "outputs": [
        {
          "output_type": "stream",
          "text": [
            "number of incorrect code entries:  1 \n",
            "incorrect code:  AGOS SP \n",
            "\u001b[90m# A tibble: 1 x 5\u001b[39m\n",
            "  plot_code date       subplot key_plant_code cover_pct\n",
            "  \u001b[3m\u001b[90m<chr>\u001b[39m\u001b[23m     \u001b[3m\u001b[90m<date>\u001b[39m\u001b[23m       \u001b[3m\u001b[90m<int>\u001b[39m\u001b[23m \u001b[3m\u001b[90m<chr>\u001b[39m\u001b[23m              \u001b[3m\u001b[90m<dbl>\u001b[39m\u001b[23m\n",
            "\u001b[90m1\u001b[39m YVP 205   2019-06-26       4 AGOS_SP                1\n",
            "\n",
            "number of corrections made (cumulative):  1 \n",
            "\n",
            "\n",
            "number of incorrect code entries:  9 \n",
            "incorrect code:  ALOP SP \n",
            "\u001b[90m# A tibble: 9 x 5\u001b[39m\n",
            "  plot_code date       subplot key_plant_code cover_pct\n",
            "  \u001b[3m\u001b[90m<chr>\u001b[39m\u001b[23m     \u001b[3m\u001b[90m<date>\u001b[39m\u001b[23m       \u001b[3m\u001b[90m<int>\u001b[39m\u001b[23m \u001b[3m\u001b[90m<chr>\u001b[39m\u001b[23m              \u001b[3m\u001b[90m<dbl>\u001b[39m\u001b[23m\n",
            "\u001b[90m1\u001b[39m YVP N348  2019-07-05       2 ALOP_SP               40\n",
            "\u001b[90m2\u001b[39m YVP N348  2019-07-05       3 ALOP_SP               10\n",
            "\u001b[90m3\u001b[39m YVP N348  2019-07-05       4 ALOP_SP               50\n",
            "\u001b[90m4\u001b[39m YVP N348  2019-07-05       5 ALOP_SP               80\n",
            "\u001b[90m5\u001b[39m YVP N348  2019-07-05       6 ALOP_SP               10\n",
            "\u001b[90m6\u001b[39m YVP N348  2019-07-05       7 ALOP_SP               65\n",
            "\u001b[90m7\u001b[39m YVP N348  2019-07-05       8 ALOP_SP               25\n",
            "\u001b[90m8\u001b[39m YVP N348  2019-07-05       9 ALOP_SP               60\n",
            "\u001b[90m9\u001b[39m YVP N348  2019-07-05      10 ALOP_SP                2\n",
            "\n",
            "number of corrections made (cumulative):  10 \n",
            "\n",
            "\n",
            "number of incorrect code entries:  2 \n",
            "incorrect code:  ANDOCCUAL \n",
            "\u001b[90m# A tibble: 2 x 5\u001b[39m\n",
            "  plot_code date       subplot key_plant_code cover_pct\n",
            "  \u001b[3m\u001b[90m<chr>\u001b[39m\u001b[23m     \u001b[3m\u001b[90m<date>\u001b[39m\u001b[23m       \u001b[3m\u001b[90m<int>\u001b[39m\u001b[23m \u001b[3m\u001b[90m<chr>\u001b[39m\u001b[23m              \u001b[3m\u001b[90m<dbl>\u001b[39m\u001b[23m\n",
            "\u001b[90m1\u001b[39m YVP 205   2017-06-05       3 ANDOCC                 1\n",
            "\u001b[90m2\u001b[39m YVP 205   2017-06-05       4 ANDOCC                 1\n",
            "\n",
            "number of corrections made (cumulative):  12 \n",
            "\n",
            "\n",
            "number of incorrect code entries:  2 \n",
            "incorrect code:  ARNCOR? \n",
            "\u001b[90m# A tibble: 2 x 5\u001b[39m\n",
            "  plot_code date       subplot key_plant_code cover_pct\n",
            "  \u001b[3m\u001b[90m<chr>\u001b[39m\u001b[23m     \u001b[3m\u001b[90m<date>\u001b[39m\u001b[23m       \u001b[3m\u001b[90m<int>\u001b[39m\u001b[23m \u001b[3m\u001b[90m<chr>\u001b[39m\u001b[23m              \u001b[3m\u001b[90m<dbl>\u001b[39m\u001b[23m\n",
            "\u001b[90m1\u001b[39m YVP N348  2018-07-11       1 ARNCOR                15\n",
            "\u001b[90m2\u001b[39m YVP N348  2018-07-11       2 ARNCOR                 5\n",
            "\n",
            "number of corrections made (cumulative):  14 \n",
            "\n",
            "\n",
            "number of incorrect code entries:  5 \n",
            "incorrect code:  ARTSPP \n",
            "\u001b[90m# A tibble: 5 x 5\u001b[39m\n",
            "  plot_code date       subplot key_plant_code cover_pct\n",
            "  \u001b[3m\u001b[90m<chr>\u001b[39m\u001b[23m     \u001b[3m\u001b[90m<date>\u001b[39m\u001b[23m       \u001b[3m\u001b[90m<int>\u001b[39m\u001b[23m \u001b[3m\u001b[90m<chr>\u001b[39m\u001b[23m              \u001b[3m\u001b[90m<dbl>\u001b[39m\u001b[23m\n",
            "\u001b[90m1\u001b[39m YVP 184   2017-05-11       3 ARTDRA                 5\n",
            "\u001b[90m2\u001b[39m YVP 184   2017-05-11       6 ARTDRA                10\n",
            "\u001b[90m3\u001b[39m YVP 203   2017-05-18      10 ARTDRA                 1\n",
            "\u001b[90m4\u001b[39m YVP 209   2017-05-11       4 ARTDRA                 2\n",
            "\u001b[90m5\u001b[39m YVP 209   2018-05-31       4 ARTDRA                 0\n",
            "\n",
            "number of corrections made (cumulative):  19 \n",
            "\n",
            "\n",
            "number of incorrect code entries:  9 \n",
            "incorrect code:  CARE SP \n",
            "\u001b[90m# A tibble: 9 x 5\u001b[39m\n",
            "  plot_code date       subplot key_plant_code cover_pct\n",
            "  \u001b[3m\u001b[90m<chr>\u001b[39m\u001b[23m     \u001b[3m\u001b[90m<date>\u001b[39m\u001b[23m       \u001b[3m\u001b[90m<int>\u001b[39m\u001b[23m \u001b[3m\u001b[90m<chr>\u001b[39m\u001b[23m              \u001b[3m\u001b[90m<dbl>\u001b[39m\u001b[23m\n",
            "\u001b[90m1\u001b[39m YVP 468   2019-07-16       5 CARE_SP                3\n",
            "\u001b[90m2\u001b[39m YVP 485   2019-07-16       4 CARE_SP                3\n",
            "\u001b[90m3\u001b[39m YVP N7    2019-07-01       1 CARE_SP                3\n",
            "\u001b[90m4\u001b[39m YVP N7    2019-07-01       3 CARE_SP                5\n",
            "\u001b[90m5\u001b[39m YVP N7    2019-07-01       5 CARE_SP                1\n",
            "\u001b[90m6\u001b[39m YVP N7    2019-07-01       6 CARE_SP                1\n",
            "\u001b[90m7\u001b[39m YVP N7    2019-07-01       7 CARE_SP                1\n",
            "\u001b[90m8\u001b[39m YVP N7    2019-07-01       9 CARE_SP                3\n",
            "\u001b[90m9\u001b[39m YVP N7    2019-07-01      10 CARE_SP                2\n",
            "\n",
            "number of corrections made (cumulative):  28 \n",
            "\n",
            "\n",
            "number of incorrect code entries:  6 \n",
            "incorrect code:  CARE SP2 \n",
            "\u001b[90m# A tibble: 6 x 5\u001b[39m\n",
            "  plot_code date       subplot key_plant_code cover_pct\n",
            "  \u001b[3m\u001b[90m<chr>\u001b[39m\u001b[23m     \u001b[3m\u001b[90m<date>\u001b[39m\u001b[23m       \u001b[3m\u001b[90m<int>\u001b[39m\u001b[23m \u001b[3m\u001b[90m<chr>\u001b[39m\u001b[23m              \u001b[3m\u001b[90m<dbl>\u001b[39m\u001b[23m\n",
            "\u001b[90m1\u001b[39m YVP 479   2019-07-15       1 CARE_SP               10\n",
            "\u001b[90m2\u001b[39m YVP 479   2019-07-15       2 CARE_SP                5\n",
            "\u001b[90m3\u001b[39m YVP 479   2019-07-15       3 CARE_SP                3\n",
            "\u001b[90m4\u001b[39m YVP 479   2019-07-15       4 CARE_SP                1\n",
            "\u001b[90m5\u001b[39m YVP 479   2019-07-15       7 CARE_SP               10\n",
            "\u001b[90m6\u001b[39m YVP 479   2019-07-15       8 CARE_SP                1\n",
            "\n",
            "number of corrections made (cumulative):  34 \n",
            "\n",
            "\n",
            "number of incorrect code entries:  1 \n",
            "incorrect code:  CARE SP4 \n",
            "\u001b[90m# A tibble: 1 x 5\u001b[39m\n",
            "  plot_code date       subplot key_plant_code cover_pct\n",
            "  \u001b[3m\u001b[90m<chr>\u001b[39m\u001b[23m     \u001b[3m\u001b[90m<date>\u001b[39m\u001b[23m       \u001b[3m\u001b[90m<int>\u001b[39m\u001b[23m \u001b[3m\u001b[90m<chr>\u001b[39m\u001b[23m              \u001b[3m\u001b[90m<dbl>\u001b[39m\u001b[23m\n",
            "\u001b[90m1\u001b[39m YVP 479   2019-07-15       8 CARE_SP                5\n",
            "\n",
            "number of corrections made (cumulative):  35 \n",
            "\n",
            "\n",
            "number of incorrect code entries:  22 \n",
            "incorrect code:  CARSPP \n",
            "\u001b[90m# A tibble: 22 x 5\u001b[39m\n",
            "   plot_code date       subplot key_plant_code cover_pct\n",
            "   \u001b[3m\u001b[90m<chr>\u001b[39m\u001b[23m     \u001b[3m\u001b[90m<date>\u001b[39m\u001b[23m       \u001b[3m\u001b[90m<int>\u001b[39m\u001b[23m \u001b[3m\u001b[90m<chr>\u001b[39m\u001b[23m              \u001b[3m\u001b[90m<dbl>\u001b[39m\u001b[23m\n",
            "\u001b[90m 1\u001b[39m YVP 355   2017-06-02      10 CARE_SP               20\n",
            "\u001b[90m 2\u001b[39m YVP 468   2017-07-06       2 CARE_SP                5\n",
            "\u001b[90m 3\u001b[39m YVP 468   2017-07-06       4 CARE_SP                3\n",
            "\u001b[90m 4\u001b[39m YVP 468   2017-07-06       5 CARE_SP                5\n",
            "\u001b[90m 5\u001b[39m YVP 468   2017-07-06       6 CARE_SP               10\n",
            "\u001b[90m 6\u001b[39m YVP 468   2017-07-06       7 CARE_SP                5\n",
            "\u001b[90m 7\u001b[39m YVP 468   2017-07-06       8 CARE_SP                2\n",
            "\u001b[90m 8\u001b[39m YVP 468   2017-07-06       9 CARE_SP                3\n",
            "\u001b[90m 9\u001b[39m YVP 468   2017-07-06      10 CARE_SP                3\n",
            "\u001b[90m10\u001b[39m YVP 485   2017-07-06       4 CARE_SP                3\n",
            "\u001b[90m# … with 12 more rows\u001b[39m\n",
            "\n",
            "number of corrections made (cumulative):  57 \n",
            "\n",
            "\n",
            "number of incorrect code entries:  5 \n",
            "incorrect code:  CARSPP 1 \n",
            "\u001b[90m# A tibble: 5 x 5\u001b[39m\n",
            "  plot_code date       subplot key_plant_code cover_pct\n",
            "  \u001b[3m\u001b[90m<chr>\u001b[39m\u001b[23m     \u001b[3m\u001b[90m<date>\u001b[39m\u001b[23m       \u001b[3m\u001b[90m<int>\u001b[39m\u001b[23m \u001b[3m\u001b[90m<chr>\u001b[39m\u001b[23m              \u001b[3m\u001b[90m<dbl>\u001b[39m\u001b[23m\n",
            "\u001b[90m1\u001b[39m YVP 479   2017-07-06       1 CARE_SP               25\n",
            "\u001b[90m2\u001b[39m YVP 479   2017-07-06       3 CARE_SP               10\n",
            "\u001b[90m3\u001b[39m YVP 479   2017-07-06       8 CARE_SP                5\n",
            "\u001b[90m4\u001b[39m YVP 479   2017-07-06       9 CARE_SP               10\n",
            "\u001b[90m5\u001b[39m YVP 481   2017-07-06       8 CARE_SP                2\n",
            "\n",
            "number of corrections made (cumulative):  62 \n",
            "\n",
            "\n",
            "number of incorrect code entries:  12 \n",
            "incorrect code:  CARSPP 2 \n",
            "\u001b[90m# A tibble: 12 x 5\u001b[39m\n",
            "   plot_code date       subplot key_plant_code cover_pct\n",
            "   \u001b[3m\u001b[90m<chr>\u001b[39m\u001b[23m     \u001b[3m\u001b[90m<date>\u001b[39m\u001b[23m       \u001b[3m\u001b[90m<int>\u001b[39m\u001b[23m \u001b[3m\u001b[90m<chr>\u001b[39m\u001b[23m              \u001b[3m\u001b[90m<dbl>\u001b[39m\u001b[23m\n",
            "\u001b[90m 1\u001b[39m YVP 468   2017-07-06       3 CARE_SP                3\n",
            "\u001b[90m 2\u001b[39m YVP 479   2017-07-06       2 CARE_SP                2\n",
            "\u001b[90m 3\u001b[39m YVP 479   2017-07-06       4 CARE_SP                5\n",
            "\u001b[90m 4\u001b[39m YVP 479   2017-07-06       6 CARE_SP                5\n",
            "\u001b[90m 5\u001b[39m YVP 479   2017-07-06       8 CARE_SP                5\n",
            "\u001b[90m 6\u001b[39m YVP 481   2017-07-06       3 CARE_SP                4\n",
            "\u001b[90m 7\u001b[39m YVP 481   2017-07-06       4 CARE_SP               10\n",
            "\u001b[90m 8\u001b[39m YVP 479   2018-07-16       1 CARE_SP                5\n",
            "\u001b[90m 9\u001b[39m YVP 479   2018-07-16       2 CARE_SP               10\n",
            "\u001b[90m10\u001b[39m YVP 479   2018-07-16       3 CARE_SP               20\n",
            "\u001b[90m11\u001b[39m YVP 479   2018-07-16       4 CARE_SP               15\n",
            "\u001b[90m12\u001b[39m YVP 479   2018-07-16       8 CARE_SP                1\n",
            "\n",
            "number of corrections made (cumulative):  74 \n",
            "\n",
            "\n",
            "number of incorrect code entries:  1 \n",
            "incorrect code:  CARSPP 4 \n",
            "\u001b[90m# A tibble: 1 x 5\u001b[39m\n",
            "  plot_code date       subplot key_plant_code cover_pct\n",
            "  \u001b[3m\u001b[90m<chr>\u001b[39m\u001b[23m     \u001b[3m\u001b[90m<date>\u001b[39m\u001b[23m       \u001b[3m\u001b[90m<int>\u001b[39m\u001b[23m \u001b[3m\u001b[90m<chr>\u001b[39m\u001b[23m              \u001b[3m\u001b[90m<dbl>\u001b[39m\u001b[23m\n",
            "\u001b[90m1\u001b[39m YVP 479   2018-07-16       8 CARE_SP                2\n",
            "\n",
            "number of corrections made (cumulative):  75 \n",
            "\n",
            "\n",
            "number of incorrect code entries:  2 \n",
            "incorrect code:  CARSPP2 \n",
            "\u001b[90m# A tibble: 2 x 5\u001b[39m\n",
            "  plot_code date       subplot key_plant_code cover_pct\n",
            "  \u001b[3m\u001b[90m<chr>\u001b[39m\u001b[23m     \u001b[3m\u001b[90m<date>\u001b[39m\u001b[23m       \u001b[3m\u001b[90m<int>\u001b[39m\u001b[23m \u001b[3m\u001b[90m<chr>\u001b[39m\u001b[23m              \u001b[3m\u001b[90m<dbl>\u001b[39m\u001b[23m\n",
            "\u001b[90m1\u001b[39m YVP 479   2017-07-06       7 CARE_SP               10\n",
            "\u001b[90m2\u001b[39m YVP 479   2018-07-16       7 CARE_SP               15\n",
            "\n",
            "number of corrections made (cumulative):  77 \n",
            "\n",
            "\n",
            "number of incorrect code entries:  9 \n",
            "incorrect code:  CASSPP \n",
            "\u001b[90m# A tibble: 9 x 5\u001b[39m\n",
            "  plot_code date       subplot key_plant_code cover_pct\n",
            "  \u001b[3m\u001b[90m<chr>\u001b[39m\u001b[23m     \u001b[3m\u001b[90m<date>\u001b[39m\u001b[23m       \u001b[3m\u001b[90m<int>\u001b[39m\u001b[23m \u001b[3m\u001b[90m<chr>\u001b[39m\u001b[23m              \u001b[3m\u001b[90m<dbl>\u001b[39m\u001b[23m\n",
            "\u001b[90m1\u001b[39m YVP N324  2017-05-10       7 CAST_SP                1\n",
            "\u001b[90m2\u001b[39m YVP N324  2017-05-10       8 CAST_SP                1\n",
            "\u001b[90m3\u001b[39m YVP N324  2017-05-10      10 CAST_SP                1\n",
            "\u001b[90m4\u001b[39m YVP N550  2017-06-07       2 CAST_SP                1\n",
            "\u001b[90m5\u001b[39m YVP N550  2017-06-07       8 CAST_SP                1\n",
            "\u001b[90m6\u001b[39m YVP N550  2017-06-07       9 CAST_SP                1\n",
            "\u001b[90m7\u001b[39m YVP N550  2018-07-09       2 CAST_SP                0\n",
            "\u001b[90m8\u001b[39m YVP N550  2018-07-09       8 CAST_SP                0\n",
            "\u001b[90m9\u001b[39m YVP N550  2018-07-09       9 CAST_SP                0\n",
            "\n",
            "number of corrections made (cumulative):  86 \n",
            "\n",
            "\n",
            "number of incorrect code entries:  1 \n",
            "incorrect code:  CERINT \n",
            "\u001b[90m# A tibble: 1 x 5\u001b[39m\n",
            "  plot_code date       subplot key_plant_code cover_pct\n",
            "  \u001b[3m\u001b[90m<chr>\u001b[39m\u001b[23m     \u001b[3m\u001b[90m<date>\u001b[39m\u001b[23m       \u001b[3m\u001b[90m<int>\u001b[39m\u001b[23m \u001b[3m\u001b[90m<chr>\u001b[39m\u001b[23m              \u001b[3m\u001b[90m<dbl>\u001b[39m\u001b[23m\n",
            "\u001b[90m1\u001b[39m YVP N550  2018-07-09       1 CREINT                 2\n",
            "\n",
            "number of corrections made (cumulative):  87 \n",
            "\n",
            "\n",
            "number of incorrect code entries:  5 \n",
            "incorrect code:  CHEN SP \n",
            "\u001b[90m# A tibble: 5 x 5\u001b[39m\n",
            "  plot_code date       subplot key_plant_code cover_pct\n",
            "  \u001b[3m\u001b[90m<chr>\u001b[39m\u001b[23m     \u001b[3m\u001b[90m<date>\u001b[39m\u001b[23m       \u001b[3m\u001b[90m<int>\u001b[39m\u001b[23m \u001b[3m\u001b[90m<chr>\u001b[39m\u001b[23m              \u001b[3m\u001b[90m<dbl>\u001b[39m\u001b[23m\n",
            "\u001b[90m1\u001b[39m YVP N570  2019-06-11       1 CHEN_SP                2\n",
            "\u001b[90m2\u001b[39m YVP N570  2019-06-11       3 CHEN_SP                4\n",
            "\u001b[90m3\u001b[39m YVP N570  2019-06-11       4 CHEN_SP                1\n",
            "\u001b[90m4\u001b[39m YVP N570  2019-06-11       5 CHEN_SP                1\n",
            "\u001b[90m5\u001b[39m YVP N571  2019-06-11       7 CHEN_SP                1\n",
            "\n",
            "number of corrections made (cumulative):  92 \n",
            "\n",
            "\n",
            "number of incorrect code entries:  4 \n",
            "incorrect code:  CREIINT \n",
            "\u001b[90m# A tibble: 4 x 5\u001b[39m\n",
            "  plot_code date       subplot key_plant_code cover_pct\n",
            "  \u001b[3m\u001b[90m<chr>\u001b[39m\u001b[23m     \u001b[3m\u001b[90m<date>\u001b[39m\u001b[23m       \u001b[3m\u001b[90m<int>\u001b[39m\u001b[23m \u001b[3m\u001b[90m<chr>\u001b[39m\u001b[23m              \u001b[3m\u001b[90m<dbl>\u001b[39m\u001b[23m\n",
            "\u001b[90m1\u001b[39m YVP 412   2017-06-06      10 CREINT                 4\n",
            "\u001b[90m2\u001b[39m YVP N501  2017-06-07       9 CREINT                 2\n",
            "\u001b[90m3\u001b[39m YVP 412   2018-07-02      10 CREINT                 4\n",
            "\u001b[90m4\u001b[39m YVP N501  2018-07-09       9 CREINT                 3\n",
            "\n",
            "number of corrections made (cumulative):  96 \n",
            "\n",
            "\n",
            "number of incorrect code entries:  1 \n",
            "incorrect code:  DODOUL \n",
            "\u001b[90m# A tibble: 1 x 5\u001b[39m\n",
            "  plot_code date       subplot key_plant_code cover_pct\n",
            "  \u001b[3m\u001b[90m<chr>\u001b[39m\u001b[23m     \u001b[3m\u001b[90m<date>\u001b[39m\u001b[23m       \u001b[3m\u001b[90m<int>\u001b[39m\u001b[23m \u001b[3m\u001b[90m<chr>\u001b[39m\u001b[23m              \u001b[3m\u001b[90m<dbl>\u001b[39m\u001b[23m\n",
            "\u001b[90m1\u001b[39m YVP NB294 2017-05-08       6 DODPUL                 1\n",
            "\n",
            "number of corrections made (cumulative):  97 \n",
            "\n",
            "\n",
            "number of incorrect code entries:  3 \n",
            "incorrect code:  DODSPP \n",
            "\u001b[90m# A tibble: 3 x 5\u001b[39m\n",
            "  plot_code date       subplot key_plant_code cover_pct\n",
            "  \u001b[3m\u001b[90m<chr>\u001b[39m\u001b[23m     \u001b[3m\u001b[90m<date>\u001b[39m\u001b[23m       \u001b[3m\u001b[90m<int>\u001b[39m\u001b[23m \u001b[3m\u001b[90m<chr>\u001b[39m\u001b[23m              \u001b[3m\u001b[90m<dbl>\u001b[39m\u001b[23m\n",
            "\u001b[90m1\u001b[39m YVP 20    2018-07-12       6 DODE_SP                1\n",
            "\u001b[90m2\u001b[39m YVP N386  2018-07-05       2 DODE_SP                1\n",
            "\u001b[90m3\u001b[39m YVP N501  2018-07-09       1 DODE_SP                1\n",
            "\n",
            "number of corrections made (cumulative):  100 \n",
            "\n",
            "\n",
            "number of incorrect code entries:  1 \n",
            "incorrect code:  DODSSP \n",
            "\u001b[90m# A tibble: 1 x 5\u001b[39m\n",
            "  plot_code date       subplot key_plant_code cover_pct\n",
            "  \u001b[3m\u001b[90m<chr>\u001b[39m\u001b[23m     \u001b[3m\u001b[90m<date>\u001b[39m\u001b[23m       \u001b[3m\u001b[90m<int>\u001b[39m\u001b[23m \u001b[3m\u001b[90m<chr>\u001b[39m\u001b[23m              \u001b[3m\u001b[90m<dbl>\u001b[39m\u001b[23m\n",
            "\u001b[90m1\u001b[39m YVP N501  2018-07-09       2 DODE_SP                1\n",
            "\n",
            "number of corrections made (cumulative):  101 \n",
            "\n",
            "\n",
            "number of incorrect code entries:  1 \n",
            "incorrect code:  DRASPP \n",
            "\u001b[90m# A tibble: 1 x 5\u001b[39m\n",
            "  plot_code date       subplot key_plant_code cover_pct\n",
            "  \u001b[3m\u001b[90m<chr>\u001b[39m\u001b[23m     \u001b[3m\u001b[90m<date>\u001b[39m\u001b[23m       \u001b[3m\u001b[90m<int>\u001b[39m\u001b[23m \u001b[3m\u001b[90m<chr>\u001b[39m\u001b[23m              \u001b[3m\u001b[90m<dbl>\u001b[39m\u001b[23m\n",
            "\u001b[90m1\u001b[39m YVP NB294 2017-05-08      10 DRAB_SP                1\n",
            "\n",
            "number of corrections made (cumulative):  102 \n",
            "\n",
            "\n",
            "number of incorrect code entries:  1 \n",
            "incorrect code:  ELYSPP \n",
            "\u001b[90m# A tibble: 1 x 5\u001b[39m\n",
            "  plot_code date       subplot key_plant_code cover_pct\n",
            "  \u001b[3m\u001b[90m<chr>\u001b[39m\u001b[23m     \u001b[3m\u001b[90m<date>\u001b[39m\u001b[23m       \u001b[3m\u001b[90m<int>\u001b[39m\u001b[23m \u001b[3m\u001b[90m<chr>\u001b[39m\u001b[23m              \u001b[3m\u001b[90m<dbl>\u001b[39m\u001b[23m\n",
            "\u001b[90m1\u001b[39m YVP N348  2018-07-11       9 ELYM_SP                3\n",
            "\n",
            "number of corrections made (cumulative):  103 \n",
            "\n",
            "\n",
            "number of incorrect code entries:  1 \n",
            "incorrect code:  EPISPP \n",
            "\u001b[90m# A tibble: 1 x 5\u001b[39m\n",
            "  plot_code date       subplot key_plant_code cover_pct\n",
            "  \u001b[3m\u001b[90m<chr>\u001b[39m\u001b[23m     \u001b[3m\u001b[90m<date>\u001b[39m\u001b[23m       \u001b[3m\u001b[90m<int>\u001b[39m\u001b[23m \u001b[3m\u001b[90m<chr>\u001b[39m\u001b[23m              \u001b[3m\u001b[90m<dbl>\u001b[39m\u001b[23m\n",
            "\u001b[90m1\u001b[39m YVP 468   2017-07-06      10 EPIL_SP               10\n",
            "\n",
            "number of corrections made (cumulative):  104 \n",
            "\n",
            "\n",
            "number of incorrect code entries:  9 \n",
            "incorrect code:  EQUSPP \n",
            "\u001b[90m# A tibble: 9 x 5\u001b[39m\n",
            "  plot_code date       subplot key_plant_code cover_pct\n",
            "  \u001b[3m\u001b[90m<chr>\u001b[39m\u001b[23m     \u001b[3m\u001b[90m<date>\u001b[39m\u001b[23m       \u001b[3m\u001b[90m<int>\u001b[39m\u001b[23m \u001b[3m\u001b[90m<chr>\u001b[39m\u001b[23m              \u001b[3m\u001b[90m<dbl>\u001b[39m\u001b[23m\n",
            "\u001b[90m1\u001b[39m YVP 479   2017-07-06       3 EQUI_SP                1\n",
            "\u001b[90m2\u001b[39m YVP 479   2017-07-06       7 EQUI_SP                2\n",
            "\u001b[90m3\u001b[39m YVP 479   2017-07-06       8 EQUI_SP                1\n",
            "\u001b[90m4\u001b[39m YVP 481   2017-07-06       1 EQUI_SP                1\n",
            "\u001b[90m5\u001b[39m YVP 481   2017-07-06       3 EQUI_SP                2\n",
            "\u001b[90m6\u001b[39m YVP 479   2018-07-16       1 EQUI_SP                3\n",
            "\u001b[90m7\u001b[39m YVP 479   2018-07-16       2 EQUI_SP                2\n",
            "\u001b[90m8\u001b[39m YVP 479   2018-07-16       3 EQUI_SP                2\n",
            "\u001b[90m9\u001b[39m YVP 479   2018-07-16      10 EQUI_SP                2\n",
            "\n",
            "number of corrections made (cumulative):  113 \n",
            "\n",
            "\n",
            "number of incorrect code entries:  7 \n",
            "incorrect code:  ERISPP \n",
            "\u001b[90m# A tibble: 7 x 5\u001b[39m\n",
            "  plot_code date       subplot key_plant_code cover_pct\n",
            "  \u001b[3m\u001b[90m<chr>\u001b[39m\u001b[23m     \u001b[3m\u001b[90m<date>\u001b[39m\u001b[23m       \u001b[3m\u001b[90m<int>\u001b[39m\u001b[23m \u001b[3m\u001b[90m<chr>\u001b[39m\u001b[23m              \u001b[3m\u001b[90m<dbl>\u001b[39m\u001b[23m\n",
            "\u001b[90m1\u001b[39m YVP 184   2017-05-11      10 ERIG_SP                1\n",
            "\u001b[90m2\u001b[39m YVP 47    2017-05-23       5 ERIG_SP                2\n",
            "\u001b[90m3\u001b[39m YVP N110  2017-05-25       4 ERIG_SP                2\n",
            "\u001b[90m4\u001b[39m YVP N278  2017-05-09       7 ERIG_SP                2\n",
            "\u001b[90m5\u001b[39m YVP NC294 2017-05-08       4 ERIG_SP                1\n",
            "\u001b[90m6\u001b[39m YVP 479   2018-07-16       3 ERIG_SP                1\n",
            "\u001b[90m7\u001b[39m YVP N278  2018-05-28       7 ERIG_SP                2\n",
            "\n",
            "number of corrections made (cumulative):  120 \n",
            "\n",
            "\n",
            "number of incorrect code entries:  1 \n",
            "incorrect code:  LEURED \n",
            "\u001b[90m# A tibble: 1 x 5\u001b[39m\n",
            "  plot_code date       subplot key_plant_code cover_pct\n",
            "  \u001b[3m\u001b[90m<chr>\u001b[39m\u001b[23m     \u001b[3m\u001b[90m<date>\u001b[39m\u001b[23m       \u001b[3m\u001b[90m<int>\u001b[39m\u001b[23m \u001b[3m\u001b[90m<chr>\u001b[39m\u001b[23m              \u001b[3m\u001b[90m<dbl>\u001b[39m\u001b[23m\n",
            "\u001b[90m1\u001b[39m YVP 22    2018-07-12       5 LEWRED                 1\n",
            "\n",
            "number of corrections made (cumulative):  121 \n",
            "\n",
            "\n",
            "number of incorrect code entries:  1 \n",
            "incorrect code:  LUWRED \n",
            "\u001b[90m# A tibble: 1 x 5\u001b[39m\n",
            "  plot_code date       subplot key_plant_code cover_pct\n",
            "  \u001b[3m\u001b[90m<chr>\u001b[39m\u001b[23m     \u001b[3m\u001b[90m<date>\u001b[39m\u001b[23m       \u001b[3m\u001b[90m<int>\u001b[39m\u001b[23m \u001b[3m\u001b[90m<chr>\u001b[39m\u001b[23m              \u001b[3m\u001b[90m<dbl>\u001b[39m\u001b[23m\n",
            "\u001b[90m1\u001b[39m YVP N58   2018-06-25       8 LEWRED                 1\n",
            "\n",
            "number of corrections made (cumulative):  122 \n",
            "\n",
            "\n",
            "number of incorrect code entries:  2 \n",
            "incorrect code:  POA SP \n",
            "\u001b[90m# A tibble: 2 x 5\u001b[39m\n",
            "  plot_code date       subplot key_plant_code cover_pct\n",
            "  \u001b[3m\u001b[90m<chr>\u001b[39m\u001b[23m     \u001b[3m\u001b[90m<date>\u001b[39m\u001b[23m       \u001b[3m\u001b[90m<int>\u001b[39m\u001b[23m \u001b[3m\u001b[90m<chr>\u001b[39m\u001b[23m              \u001b[3m\u001b[90m<dbl>\u001b[39m\u001b[23m\n",
            "\u001b[90m1\u001b[39m YVP N571  2018-06-06       2 POA_SP                20\n",
            "\u001b[90m2\u001b[39m YVP N571  2019-06-11       2 POA_SP                20\n",
            "\n",
            "number of corrections made (cumulative):  124 \n",
            "\n",
            "\n",
            "number of incorrect code entries:  1 \n",
            "incorrect code:  POTSPP \n",
            "\u001b[90m# A tibble: 1 x 5\u001b[39m\n",
            "  plot_code date       subplot key_plant_code cover_pct\n",
            "  \u001b[3m\u001b[90m<chr>\u001b[39m\u001b[23m     \u001b[3m\u001b[90m<date>\u001b[39m\u001b[23m       \u001b[3m\u001b[90m<int>\u001b[39m\u001b[23m \u001b[3m\u001b[90m<chr>\u001b[39m\u001b[23m              \u001b[3m\u001b[90m<dbl>\u001b[39m\u001b[23m\n",
            "\u001b[90m1\u001b[39m YVP N348  2018-07-11       2 POTE_SP                1\n",
            "\n",
            "number of corrections made (cumulative):  125 \n",
            "\n",
            "\n",
            "number of incorrect code entries:  2 \n",
            "incorrect code:  PSEPSI \n",
            "\u001b[90m# A tibble: 2 x 5\u001b[39m\n",
            "  plot_code date       subplot key_plant_code cover_pct\n",
            "  \u001b[3m\u001b[90m<chr>\u001b[39m\u001b[23m     \u001b[3m\u001b[90m<date>\u001b[39m\u001b[23m       \u001b[3m\u001b[90m<int>\u001b[39m\u001b[23m \u001b[3m\u001b[90m<chr>\u001b[39m\u001b[23m              \u001b[3m\u001b[90m<dbl>\u001b[39m\u001b[23m\n",
            "\u001b[90m1\u001b[39m YVP N571  2018-06-06       7 PSESPI                 5\n",
            "\u001b[90m2\u001b[39m YVP N571  2018-06-06      10 PSESPI                 5\n",
            "\n",
            "number of corrections made (cumulative):  127 \n",
            "\n",
            "\n",
            "number of incorrect code entries:  18 \n",
            "incorrect code:  SELDEN \n",
            "\u001b[90m# A tibble: 18 x 5\u001b[39m\n",
            "   plot_code date       subplot key_plant_code cover_pct\n",
            "   \u001b[3m\u001b[90m<chr>\u001b[39m\u001b[23m     \u001b[3m\u001b[90m<date>\u001b[39m\u001b[23m       \u001b[3m\u001b[90m<int>\u001b[39m\u001b[23m \u001b[3m\u001b[90m<chr>\u001b[39m\u001b[23m              \u001b[3m\u001b[90m<dbl>\u001b[39m\u001b[23m\n",
            "\u001b[90m 1\u001b[39m YVP 10    2019-07-02       1 SELSCO                50\n",
            "\u001b[90m 2\u001b[39m YVP 10    2019-07-02       2 SELSCO                30\n",
            "\u001b[90m 3\u001b[39m YVP 10    2019-07-02       3 SELSCO                45\n",
            "\u001b[90m 4\u001b[39m YVP 10    2019-07-02       4 SELSCO                 1\n",
            "\u001b[90m 5\u001b[39m YVP 22    2019-07-02       1 SELSCO                 2\n",
            "\u001b[90m 6\u001b[39m YVP 22    2019-07-02       7 SELSCO                 1\n",
            "\u001b[90m 7\u001b[39m YVP 22    2019-07-02       8 SELSCO                75\n",
            "\u001b[90m 8\u001b[39m YVP 22    2019-07-02       9 SELSCO                80\n",
            "\u001b[90m 9\u001b[39m YVP 22    2019-07-02      10 SELSCO                 5\n",
            "\u001b[90m10\u001b[39m YVP 355   2019-05-28       3 SELSCO                 4\n",
            "\u001b[90m11\u001b[39m YVP 355   2019-05-28       4 SELSCO                15\n",
            "\u001b[90m12\u001b[39m YVP 355   2019-05-28       5 SELSCO                15\n",
            "\u001b[90m13\u001b[39m YVP 355   2019-05-28       6 SELSCO                 5\n",
            "\u001b[90m14\u001b[39m YVP 355   2019-05-28       7 SELSCO                10\n",
            "\u001b[90m15\u001b[39m YVP 395   2019-06-17       1 SELSCO                 1\n",
            "\u001b[90m16\u001b[39m YVP N386  2019-07-01       4 SELSCO                10\n",
            "\u001b[90m17\u001b[39m YVP N386  2019-07-01       8 SELSCO                 3\n",
            "\u001b[90m18\u001b[39m YVP N386  2019-07-01       9 SELSCO                 1\n",
            "\n",
            "number of corrections made (cumulative):  145 \n",
            "\n",
            "\n",
            "number of incorrect code entries:  5 \n",
            "incorrect code:  SOLCAN \n",
            "\u001b[90m# A tibble: 5 x 5\u001b[39m\n",
            "  plot_code date       subplot key_plant_code cover_pct\n",
            "  \u001b[3m\u001b[90m<chr>\u001b[39m\u001b[23m     \u001b[3m\u001b[90m<date>\u001b[39m\u001b[23m       \u001b[3m\u001b[90m<int>\u001b[39m\u001b[23m \u001b[3m\u001b[90m<chr>\u001b[39m\u001b[23m              \u001b[3m\u001b[90m<dbl>\u001b[39m\u001b[23m\n",
            "\u001b[90m1\u001b[39m YVP 479   2019-07-15       1 SOLLEP                 5\n",
            "\u001b[90m2\u001b[39m YVP 479   2019-07-15       8 SOLLEP                 0\n",
            "\u001b[90m3\u001b[39m YVP 479   2019-07-15      10 SOLLEP                 5\n",
            "\u001b[90m4\u001b[39m YVP 481   2019-07-15       7 SOLLEP                 4\n",
            "\u001b[90m5\u001b[39m YVP 481   2019-07-15       9 SOLLEP                10\n",
            "\n",
            "number of corrections made (cumulative):  150 \n",
            "\n",
            "\n",
            "number of incorrect code entries:  2 \n",
            "incorrect code:  STIP SP \n",
            "\u001b[90m# A tibble: 2 x 5\u001b[39m\n",
            "  plot_code date       subplot key_plant_code cover_pct\n",
            "  \u001b[3m\u001b[90m<chr>\u001b[39m\u001b[23m     \u001b[3m\u001b[90m<date>\u001b[39m\u001b[23m       \u001b[3m\u001b[90m<int>\u001b[39m\u001b[23m \u001b[3m\u001b[90m<chr>\u001b[39m\u001b[23m              \u001b[3m\u001b[90m<dbl>\u001b[39m\u001b[23m\n",
            "\u001b[90m1\u001b[39m YVP N110  2018-05-30       7 STIP_SP                1\n",
            "\u001b[90m2\u001b[39m YVP 412   2019-06-26       8 STIP_SP                1\n",
            "\n",
            "number of corrections made (cumulative):  152 \n",
            "\n",
            "\n",
            "number of incorrect code entries:  1 \n",
            "incorrect code:  SYMPHYOTRICHUM APP. \n",
            "\u001b[90m# A tibble: 1 x 5\u001b[39m\n",
            "  plot_code date       subplot key_plant_code cover_pct\n",
            "  \u001b[3m\u001b[90m<chr>\u001b[39m\u001b[23m     \u001b[3m\u001b[90m<date>\u001b[39m\u001b[23m       \u001b[3m\u001b[90m<int>\u001b[39m\u001b[23m \u001b[3m\u001b[90m<chr>\u001b[39m\u001b[23m              \u001b[3m\u001b[90m<dbl>\u001b[39m\u001b[23m\n",
            "\u001b[90m1\u001b[39m YVP 46    2018-06-12       6 SYMP_SP                1\n",
            "\n",
            "number of corrections made (cumulative):  153 \n",
            "\n",
            "\n",
            "number of incorrect code entries:  1 \n",
            "incorrect code:  SYMSPP \n",
            "\u001b[90m# A tibble: 1 x 5\u001b[39m\n",
            "  plot_code date       subplot key_plant_code cover_pct\n",
            "  \u001b[3m\u001b[90m<chr>\u001b[39m\u001b[23m     \u001b[3m\u001b[90m<date>\u001b[39m\u001b[23m       \u001b[3m\u001b[90m<int>\u001b[39m\u001b[23m \u001b[3m\u001b[90m<chr>\u001b[39m\u001b[23m              \u001b[3m\u001b[90m<dbl>\u001b[39m\u001b[23m\n",
            "\u001b[90m1\u001b[39m YVP 47    2018-06-12       5 SYMP_SP                5\n",
            "\n",
            "number of corrections made (cumulative):  154 \n",
            "\n",
            "\n",
            "number of incorrect code entries:  1 \n",
            "incorrect code:  TADUB \n",
            "\u001b[90m# A tibble: 1 x 5\u001b[39m\n",
            "  plot_code date       subplot key_plant_code cover_pct\n",
            "  \u001b[3m\u001b[90m<chr>\u001b[39m\u001b[23m     \u001b[3m\u001b[90m<date>\u001b[39m\u001b[23m       \u001b[3m\u001b[90m<int>\u001b[39m\u001b[23m \u001b[3m\u001b[90m<chr>\u001b[39m\u001b[23m              \u001b[3m\u001b[90m<dbl>\u001b[39m\u001b[23m\n",
            "\u001b[90m1\u001b[39m YVP 247   2018-06-04       1 TRADUB                 4\n",
            "\n",
            "number of corrections made (cumulative):  155 \n",
            "\n",
            "\n",
            "number of incorrect code entries:  1 \n",
            "incorrect code:  TRIDUB \n",
            "\u001b[90m# A tibble: 1 x 5\u001b[39m\n",
            "  plot_code date       subplot key_plant_code cover_pct\n",
            "  \u001b[3m\u001b[90m<chr>\u001b[39m\u001b[23m     \u001b[3m\u001b[90m<date>\u001b[39m\u001b[23m       \u001b[3m\u001b[90m<int>\u001b[39m\u001b[23m \u001b[3m\u001b[90m<chr>\u001b[39m\u001b[23m              \u001b[3m\u001b[90m<dbl>\u001b[39m\u001b[23m\n",
            "\u001b[90m1\u001b[39m YVP 22    2018-07-12       2 TRADUB                 2\n",
            "\n",
            "number of corrections made (cumulative):  156 \n",
            "\n",
            "\n",
            "number of incorrect code entries:  39 \n",
            "incorrect code:  TRISPP \n",
            "\u001b[90m# A tibble: 39 x 5\u001b[39m\n",
            "   plot_code date       subplot key_plant_code cover_pct\n",
            "   \u001b[3m\u001b[90m<chr>\u001b[39m\u001b[23m     \u001b[3m\u001b[90m<date>\u001b[39m\u001b[23m       \u001b[3m\u001b[90m<int>\u001b[39m\u001b[23m \u001b[3m\u001b[90m<chr>\u001b[39m\u001b[23m              \u001b[3m\u001b[90m<dbl>\u001b[39m\u001b[23m\n",
            "\u001b[90m 1\u001b[39m YVP 212   2017-06-01       2 TRIF_SP                1\n",
            "\u001b[90m 2\u001b[39m YVP 212   2017-06-01       3 TRIF_SP                1\n",
            "\u001b[90m 3\u001b[39m YVP 212   2017-06-01       4 TRIF_SP                1\n",
            "\u001b[90m 4\u001b[39m YVP 212   2017-06-01       5 TRIF_SP                1\n",
            "\u001b[90m 5\u001b[39m YVP 212   2017-06-01       6 TRIF_SP                1\n",
            "\u001b[90m 6\u001b[39m YVP 212   2017-06-01       7 TRIF_SP                1\n",
            "\u001b[90m 7\u001b[39m YVP 212   2017-06-01       8 TRIF_SP                1\n",
            "\u001b[90m 8\u001b[39m YVP 212   2017-06-01       9 TRIF_SP                1\n",
            "\u001b[90m 9\u001b[39m YVP 212   2017-06-01      10 TRIF_SP                2\n",
            "\u001b[90m10\u001b[39m YVP 246   2017-06-01       2 TRIF_SP                2\n",
            "\u001b[90m# … with 29 more rows\u001b[39m\n",
            "\n",
            "number of corrections made (cumulative):  195 \n",
            "\n",
            "\n",
            "number of incorrect code entries:  2 \n",
            "incorrect code:  AGROSP \n",
            "\u001b[90m# A tibble: 2 x 5\u001b[39m\n",
            "  plot_code date       subplot key_plant_code cover_pct\n",
            "  \u001b[3m\u001b[90m<chr>\u001b[39m\u001b[23m     \u001b[3m\u001b[90m<date>\u001b[39m\u001b[23m       \u001b[3m\u001b[90m<int>\u001b[39m\u001b[23m \u001b[3m\u001b[90m<chr>\u001b[39m\u001b[23m              \u001b[3m\u001b[90m<dbl>\u001b[39m\u001b[23m\n",
            "\u001b[90m1\u001b[39m YVP 468   2017-07-06       1 AGRO_SP                4\n",
            "\u001b[90m2\u001b[39m YVP 468   2017-07-06       4 AGRO_SP                2\n",
            "\n",
            "number of corrections made (cumulative):  197 \n",
            "\n",
            "\n",
            "number of incorrect code entries:  45 \n",
            "incorrect code:  ANTE SP \n",
            "\u001b[90m# A tibble: 45 x 5\u001b[39m\n",
            "   plot_code date       subplot key_plant_code cover_pct\n",
            "   \u001b[3m\u001b[90m<chr>\u001b[39m\u001b[23m     \u001b[3m\u001b[90m<date>\u001b[39m\u001b[23m       \u001b[3m\u001b[90m<int>\u001b[39m\u001b[23m \u001b[3m\u001b[90m<chr>\u001b[39m\u001b[23m              \u001b[3m\u001b[90m<dbl>\u001b[39m\u001b[23m\n",
            "\u001b[90m 1\u001b[39m YVP 10    2019-07-02       1 ANTE_SP                1\n",
            "\u001b[90m 2\u001b[39m YVP 10    2019-07-02       6 ANTE_SP                5\n",
            "\u001b[90m 3\u001b[39m YVP 10    2019-07-02       9 ANTE_SP                0\n",
            "\u001b[90m 4\u001b[39m YVP 12    2019-07-02       5 ANTE_SP                1\n",
            "\u001b[90m 5\u001b[39m YVP 12    2019-07-02       8 ANTE_SP                2\n",
            "\u001b[90m 6\u001b[39m YVP 20    2019-07-02       5 ANTE_SP                1\n",
            "\u001b[90m 7\u001b[39m YVP 205   2019-06-26       1 ANTE_SP                1\n",
            "\u001b[90m 8\u001b[39m YVP 205   2019-06-26       3 ANTE_SP                2\n",
            "\u001b[90m 9\u001b[39m YVP 205   2019-06-26       8 ANTE_SP                5\n",
            "\u001b[90m10\u001b[39m YVP 22    2019-07-02       9 ANTE_SP                1\n",
            "\u001b[90m# … with 35 more rows\u001b[39m\n",
            "\n",
            "number of corrections made (cumulative):  242 \n",
            "\n",
            "\n",
            "number of incorrect code entries:  91 \n",
            "incorrect code:  ANTSPP \n",
            "\u001b[90m# A tibble: 91 x 5\u001b[39m\n",
            "   plot_code date       subplot key_plant_code cover_pct\n",
            "   \u001b[3m\u001b[90m<chr>\u001b[39m\u001b[23m     \u001b[3m\u001b[90m<date>\u001b[39m\u001b[23m       \u001b[3m\u001b[90m<int>\u001b[39m\u001b[23m \u001b[3m\u001b[90m<chr>\u001b[39m\u001b[23m              \u001b[3m\u001b[90m<dbl>\u001b[39m\u001b[23m\n",
            "\u001b[90m 1\u001b[39m YVP 10    2017-06-09       2 ANTE_SP                1\n",
            "\u001b[90m 2\u001b[39m YVP 10    2017-06-09      10 ANTE_SP                2\n",
            "\u001b[90m 3\u001b[39m YVP 12    2017-06-09       5 ANTE_SP                3\n",
            "\u001b[90m 4\u001b[39m YVP 12    2017-06-09       8 ANTE_SP                2\n",
            "\u001b[90m 5\u001b[39m YVP 205   2017-06-05       1 ANTE_SP                2\n",
            "\u001b[90m 6\u001b[39m YVP 205   2017-06-05       2 ANTE_SP                1\n",
            "\u001b[90m 7\u001b[39m YVP 22    2017-06-09       9 ANTE_SP                1\n",
            "\u001b[90m 8\u001b[39m YVP 22    2017-06-09      10 ANTE_SP                2\n",
            "\u001b[90m 9\u001b[39m YVP 355   2017-06-02       3 ANTE_SP                2\n",
            "\u001b[90m10\u001b[39m YVP 355   2017-06-02       7 ANTE_SP                1\n",
            "\u001b[90m# … with 81 more rows\u001b[39m\n",
            "\n",
            "number of corrections made (cumulative):  333 \n",
            "\n",
            "\n",
            "number of incorrect code entries:  1 \n",
            "incorrect code:  ARTE SP \n",
            "\u001b[90m# A tibble: 1 x 5\u001b[39m\n",
            "  plot_code date       subplot key_plant_code cover_pct\n",
            "  \u001b[3m\u001b[90m<chr>\u001b[39m\u001b[23m     \u001b[3m\u001b[90m<date>\u001b[39m\u001b[23m       \u001b[3m\u001b[90m<int>\u001b[39m\u001b[23m \u001b[3m\u001b[90m<chr>\u001b[39m\u001b[23m              \u001b[3m\u001b[90m<dbl>\u001b[39m\u001b[23m\n",
            "\u001b[90m1\u001b[39m YVP 209   2019-05-23       4 ARTE_SP                0\n",
            "\n",
            "number of corrections made (cumulative):  334 \n",
            "\n",
            "\n",
            "number of incorrect code entries:  16 \n",
            "incorrect code:  BOEC SP \n",
            "\u001b[90m# A tibble: 16 x 5\u001b[39m\n",
            "   plot_code date       subplot key_plant_code cover_pct\n",
            "   \u001b[3m\u001b[90m<chr>\u001b[39m\u001b[23m     \u001b[3m\u001b[90m<date>\u001b[39m\u001b[23m       \u001b[3m\u001b[90m<int>\u001b[39m\u001b[23m \u001b[3m\u001b[90m<chr>\u001b[39m\u001b[23m              \u001b[3m\u001b[90m<dbl>\u001b[39m\u001b[23m\n",
            "\u001b[90m 1\u001b[39m YVP 10    2019-07-02       1 BOEC_SP                1\n",
            "\u001b[90m 2\u001b[39m YVP 184   2019-05-22       2 BOEC_SP                0\n",
            "\u001b[90m 3\u001b[39m YVP 184   2019-05-22       8 BOEC_SP                1\n",
            "\u001b[90m 4\u001b[39m YVP 185   2019-05-22       1 BOEC_SP                1\n",
            "\u001b[90m 5\u001b[39m YVP 185   2019-05-22       2 BOEC_SP                1\n",
            "\u001b[90m 6\u001b[39m YVP 185   2019-05-22       5 BOEC_SP                1\n",
            "\u001b[90m 7\u001b[39m YVP 185   2019-05-22       6 BOEC_SP                1\n",
            "\u001b[90m 8\u001b[39m YVP 185   2019-05-22       8 BOEC_SP                1\n",
            "\u001b[90m 9\u001b[39m YVP 209   2019-05-23       3 BOEC_SP                0\n",
            "\u001b[90m10\u001b[39m YVP 395   2019-06-17       6 BOEC_SP                0\n",
            "\u001b[90m11\u001b[39m YVP 62    2019-06-27       5 BOEC_SP                1\n",
            "\u001b[90m12\u001b[39m YVP N278  2019-05-23       5 BOEC_SP                1\n",
            "\u001b[90m13\u001b[39m YVP N321  2019-05-15       2 BOEC_SP                1\n",
            "\u001b[90m14\u001b[39m YVP N386  2019-07-01       9 BOEC_SP                0\n",
            "\u001b[90m15\u001b[39m YVP N558  2019-06-18       8 BOEC_SP                1\n",
            "\u001b[90m16\u001b[39m YVP N7    2019-07-01       6 BOEC_SP                1\n",
            "\n",
            "number of corrections made (cumulative):  350 \n",
            "\n",
            "\n",
            "number of incorrect code entries:  16 \n",
            "incorrect code:  BOESPP \n",
            "\u001b[90m# A tibble: 16 x 5\u001b[39m\n",
            "   plot_code date       subplot key_plant_code cover_pct\n",
            "   \u001b[3m\u001b[90m<chr>\u001b[39m\u001b[23m     \u001b[3m\u001b[90m<date>\u001b[39m\u001b[23m       \u001b[3m\u001b[90m<int>\u001b[39m\u001b[23m \u001b[3m\u001b[90m<chr>\u001b[39m\u001b[23m              \u001b[3m\u001b[90m<dbl>\u001b[39m\u001b[23m\n",
            "\u001b[90m 1\u001b[39m YVP 10    2017-06-09       1 BOEC_SP                1\n",
            "\u001b[90m 2\u001b[39m YVP 10    2017-06-09       8 BOEC_SP                1\n",
            "\u001b[90m 3\u001b[39m YVP 395   2017-06-05       6 BOEC_SP                1\n",
            "\u001b[90m 4\u001b[39m YVP N278  2017-05-09       5 BOEC_SP                1\n",
            "\u001b[90m 5\u001b[39m YVP 10    2018-07-12       1 BOEC_SP                0\n",
            "\u001b[90m 6\u001b[39m YVP 184   2018-05-30       2 BOEC_SP                1\n",
            "\u001b[90m 7\u001b[39m YVP 184   2018-05-30       8 BOEC_SP                1\n",
            "\u001b[90m 8\u001b[39m YVP 185   2018-05-30       1 BOEC_SP                1\n",
            "\u001b[90m 9\u001b[39m YVP 185   2018-05-30       2 BOEC_SP                1\n",
            "\u001b[90m10\u001b[39m YVP 185   2018-05-30       5 BOEC_SP                1\n",
            "\u001b[90m11\u001b[39m YVP 185   2018-05-30       6 BOEC_SP                1\n",
            "\u001b[90m12\u001b[39m YVP 185   2018-05-30       8 BOEC_SP                1\n",
            "\u001b[90m13\u001b[39m YVP 209   2018-05-31       3 BOEC_SP                2\n",
            "\u001b[90m14\u001b[39m YVP 395   2018-07-05       6 BOEC_SP                1\n",
            "\u001b[90m15\u001b[39m YVP N278  2018-05-28       5 BOEC_SP                0\n",
            "\u001b[90m16\u001b[39m YVP N386  2018-07-05       9 BOEC_SP                1\n",
            "\n",
            "number of corrections made (cumulative):  366 \n",
            "\n",
            "\n",
            "number of incorrect code entries:  4 \n",
            "incorrect code:  CAST SP \n",
            "\u001b[90m# A tibble: 4 x 5\u001b[39m\n",
            "  plot_code date       subplot key_plant_code cover_pct\n",
            "  \u001b[3m\u001b[90m<chr>\u001b[39m\u001b[23m     \u001b[3m\u001b[90m<date>\u001b[39m\u001b[23m       \u001b[3m\u001b[90m<int>\u001b[39m\u001b[23m \u001b[3m\u001b[90m<chr>\u001b[39m\u001b[23m              \u001b[3m\u001b[90m<dbl>\u001b[39m\u001b[23m\n",
            "\u001b[90m1\u001b[39m YVP N278  2019-05-23       3 CAST_SP                1\n",
            "\u001b[90m2\u001b[39m YVP N550  2019-05-28       2 CAST_SP                0\n",
            "\u001b[90m3\u001b[39m YVP N550  2019-05-28       8 CAST_SP                0\n",
            "\u001b[90m4\u001b[39m YVP N550  2019-05-28       9 CAST_SP                0\n",
            "\n",
            "number of corrections made (cumulative):  370 \n",
            "\n",
            "\n",
            "number of incorrect code entries:  1 \n",
            "incorrect code:  CERA SP \n",
            "\u001b[90m# A tibble: 1 x 5\u001b[39m\n",
            "  plot_code date       subplot key_plant_code cover_pct\n",
            "  \u001b[3m\u001b[90m<chr>\u001b[39m\u001b[23m     \u001b[3m\u001b[90m<date>\u001b[39m\u001b[23m       \u001b[3m\u001b[90m<int>\u001b[39m\u001b[23m \u001b[3m\u001b[90m<chr>\u001b[39m\u001b[23m              \u001b[3m\u001b[90m<dbl>\u001b[39m\u001b[23m\n",
            "\u001b[90m1\u001b[39m YVP N348  2019-07-05       6 CERA_SP                0\n",
            "\n",
            "number of corrections made (cumulative):  371 \n",
            "\n",
            "\n",
            "number of incorrect code entries:  3 \n",
            "incorrect code:  CREP SP \n",
            "\u001b[90m# A tibble: 3 x 5\u001b[39m\n",
            "  plot_code date       subplot key_plant_code cover_pct\n",
            "  \u001b[3m\u001b[90m<chr>\u001b[39m\u001b[23m     \u001b[3m\u001b[90m<date>\u001b[39m\u001b[23m       \u001b[3m\u001b[90m<int>\u001b[39m\u001b[23m \u001b[3m\u001b[90m<chr>\u001b[39m\u001b[23m              \u001b[3m\u001b[90m<dbl>\u001b[39m\u001b[23m\n",
            "\u001b[90m1\u001b[39m YVP N158  2019-06-17       5 CREP_SP                1\n",
            "\u001b[90m2\u001b[39m YVP N522  2019-06-06       4 CREP_SP                1\n",
            "\u001b[90m3\u001b[39m YVP N522  2019-06-06       5 CREP_SP                2\n",
            "\n",
            "number of corrections made (cumulative):  374 \n",
            "\n",
            "\n",
            "number of incorrect code entries:  2 \n",
            "incorrect code:  CRYP SP \n",
            "\u001b[90m# A tibble: 2 x 5\u001b[39m\n",
            "  plot_code date       subplot key_plant_code cover_pct\n",
            "  \u001b[3m\u001b[90m<chr>\u001b[39m\u001b[23m     \u001b[3m\u001b[90m<date>\u001b[39m\u001b[23m       \u001b[3m\u001b[90m<int>\u001b[39m\u001b[23m \u001b[3m\u001b[90m<chr>\u001b[39m\u001b[23m              \u001b[3m\u001b[90m<dbl>\u001b[39m\u001b[23m\n",
            "\u001b[90m1\u001b[39m YVP N278  2019-05-23       1 CRYP_SP                1\n",
            "\u001b[90m2\u001b[39m YVP N278  2019-05-23       3 CRYP_SP                0\n",
            "\n",
            "number of corrections made (cumulative):  376 \n",
            "\n",
            "\n",
            "number of incorrect code entries:  1 \n",
            "incorrect code:  DESC SP \n",
            "\u001b[90m# A tibble: 1 x 5\u001b[39m\n",
            "  plot_code date       subplot key_plant_code cover_pct\n",
            "  \u001b[3m\u001b[90m<chr>\u001b[39m\u001b[23m     \u001b[3m\u001b[90m<date>\u001b[39m\u001b[23m       \u001b[3m\u001b[90m<int>\u001b[39m\u001b[23m \u001b[3m\u001b[90m<chr>\u001b[39m\u001b[23m              \u001b[3m\u001b[90m<dbl>\u001b[39m\u001b[23m\n",
            "\u001b[90m1\u001b[39m YVP NA294 2019-05-14       8 DESC_SP                1\n",
            "\n",
            "number of corrections made (cumulative):  377 \n",
            "\n",
            "\n",
            "number of incorrect code entries:  4 \n",
            "incorrect code:  DODE SP \n",
            "\u001b[90m# A tibble: 4 x 5\u001b[39m\n",
            "  plot_code date       subplot key_plant_code cover_pct\n",
            "  \u001b[3m\u001b[90m<chr>\u001b[39m\u001b[23m     \u001b[3m\u001b[90m<date>\u001b[39m\u001b[23m       \u001b[3m\u001b[90m<int>\u001b[39m\u001b[23m \u001b[3m\u001b[90m<chr>\u001b[39m\u001b[23m              \u001b[3m\u001b[90m<dbl>\u001b[39m\u001b[23m\n",
            "\u001b[90m1\u001b[39m YVP 20    2019-07-02       6 DODE_SP                0\n",
            "\u001b[90m2\u001b[39m YVP N386  2019-07-01       2 DODE_SP                1\n",
            "\u001b[90m3\u001b[39m YVP N501  2019-05-30       1 DODE_SP                0\n",
            "\u001b[90m4\u001b[39m YVP N501  2019-05-30       2 DODE_SP                1\n",
            "\n",
            "number of corrections made (cumulative):  381 \n",
            "\n",
            "\n",
            "number of incorrect code entries:  1 \n",
            "incorrect code:  ELYM SP \n",
            "\u001b[90m# A tibble: 1 x 5\u001b[39m\n",
            "  plot_code date       subplot key_plant_code cover_pct\n",
            "  \u001b[3m\u001b[90m<chr>\u001b[39m\u001b[23m     \u001b[3m\u001b[90m<date>\u001b[39m\u001b[23m       \u001b[3m\u001b[90m<int>\u001b[39m\u001b[23m \u001b[3m\u001b[90m<chr>\u001b[39m\u001b[23m              \u001b[3m\u001b[90m<dbl>\u001b[39m\u001b[23m\n",
            "\u001b[90m1\u001b[39m YVP N348  2019-07-05       9 ELYM_SP               15\n",
            "\n",
            "number of corrections made (cumulative):  382 \n",
            "\n",
            "\n",
            "number of incorrect code entries:  6 \n",
            "incorrect code:  EQUI SP \n",
            "\u001b[90m# A tibble: 6 x 5\u001b[39m\n",
            "  plot_code date       subplot key_plant_code cover_pct\n",
            "  \u001b[3m\u001b[90m<chr>\u001b[39m\u001b[23m     \u001b[3m\u001b[90m<date>\u001b[39m\u001b[23m       \u001b[3m\u001b[90m<int>\u001b[39m\u001b[23m \u001b[3m\u001b[90m<chr>\u001b[39m\u001b[23m              \u001b[3m\u001b[90m<dbl>\u001b[39m\u001b[23m\n",
            "\u001b[90m1\u001b[39m YVP 479   2019-07-15       1 EQUI_SP                2\n",
            "\u001b[90m2\u001b[39m YVP 479   2019-07-15       2 EQUI_SP                3\n",
            "\u001b[90m3\u001b[39m YVP 479   2019-07-15       3 EQUI_SP                3\n",
            "\u001b[90m4\u001b[39m YVP 479   2019-07-15       8 EQUI_SP                1\n",
            "\u001b[90m5\u001b[39m YVP 479   2019-07-15       9 EQUI_SP                2\n",
            "\u001b[90m6\u001b[39m YVP 479   2019-07-15      10 EQUI_SP                1\n",
            "\n",
            "number of corrections made (cumulative):  388 \n",
            "\n",
            "\n",
            "number of incorrect code entries:  2 \n",
            "incorrect code:  ERIG SP \n",
            "\u001b[90m# A tibble: 2 x 5\u001b[39m\n",
            "  plot_code date       subplot key_plant_code cover_pct\n",
            "  \u001b[3m\u001b[90m<chr>\u001b[39m\u001b[23m     \u001b[3m\u001b[90m<date>\u001b[39m\u001b[23m       \u001b[3m\u001b[90m<int>\u001b[39m\u001b[23m \u001b[3m\u001b[90m<chr>\u001b[39m\u001b[23m              \u001b[3m\u001b[90m<dbl>\u001b[39m\u001b[23m\n",
            "\u001b[90m1\u001b[39m YVP 479   2019-07-15       3 ERIG_SP                0\n",
            "\u001b[90m2\u001b[39m YVP NC294 2019-05-09       4 ERIG_SP                0\n",
            "\n",
            "number of corrections made (cumulative):  390 \n",
            "\n",
            "\n",
            "number of incorrect code entries:  1 \n",
            "incorrect code:  HIERSP \n",
            "\u001b[90m# A tibble: 1 x 5\u001b[39m\n",
            "  plot_code date       subplot key_plant_code cover_pct\n",
            "  \u001b[3m\u001b[90m<chr>\u001b[39m\u001b[23m     \u001b[3m\u001b[90m<date>\u001b[39m\u001b[23m       \u001b[3m\u001b[90m<int>\u001b[39m\u001b[23m \u001b[3m\u001b[90m<chr>\u001b[39m\u001b[23m              \u001b[3m\u001b[90m<dbl>\u001b[39m\u001b[23m\n",
            "\u001b[90m1\u001b[39m YVP N158  2017-05-30       5 HIER_SP                2\n",
            "\n",
            "number of corrections made (cumulative):  391 \n",
            "\n",
            "\n",
            "number of incorrect code entries:  1 \n",
            "incorrect code:  POTE SP \n",
            "\u001b[90m# A tibble: 1 x 5\u001b[39m\n",
            "  plot_code date       subplot key_plant_code cover_pct\n",
            "  \u001b[3m\u001b[90m<chr>\u001b[39m\u001b[23m     \u001b[3m\u001b[90m<date>\u001b[39m\u001b[23m       \u001b[3m\u001b[90m<int>\u001b[39m\u001b[23m \u001b[3m\u001b[90m<chr>\u001b[39m\u001b[23m              \u001b[3m\u001b[90m<dbl>\u001b[39m\u001b[23m\n",
            "\u001b[90m1\u001b[39m YVP N348  2019-07-05       2 POTE_SP                0\n",
            "\n",
            "number of corrections made (cumulative):  392 \n",
            "\n",
            "\n",
            "number of incorrect code entries:  1 \n",
            "incorrect code:  RUME SP \n",
            "\u001b[90m# A tibble: 1 x 5\u001b[39m\n",
            "  plot_code date       subplot key_plant_code cover_pct\n",
            "  \u001b[3m\u001b[90m<chr>\u001b[39m\u001b[23m     \u001b[3m\u001b[90m<date>\u001b[39m\u001b[23m       \u001b[3m\u001b[90m<int>\u001b[39m\u001b[23m \u001b[3m\u001b[90m<chr>\u001b[39m\u001b[23m              \u001b[3m\u001b[90m<dbl>\u001b[39m\u001b[23m\n",
            "\u001b[90m1\u001b[39m YVP 485   2019-07-16       4 RUME_SP                0\n",
            "\n",
            "number of corrections made (cumulative):  393 \n",
            "\n",
            "\n",
            "number of incorrect code entries:  1 \n",
            "incorrect code:  SALI SP \n",
            "\u001b[90m# A tibble: 1 x 5\u001b[39m\n",
            "  plot_code date       subplot key_plant_code cover_pct\n",
            "  \u001b[3m\u001b[90m<chr>\u001b[39m\u001b[23m     \u001b[3m\u001b[90m<date>\u001b[39m\u001b[23m       \u001b[3m\u001b[90m<int>\u001b[39m\u001b[23m \u001b[3m\u001b[90m<chr>\u001b[39m\u001b[23m              \u001b[3m\u001b[90m<dbl>\u001b[39m\u001b[23m\n",
            "\u001b[90m1\u001b[39m YVP N348  2019-07-05       9 SALI_SP                2\n",
            "\n",
            "number of corrections made (cumulative):  394 \n",
            "\n",
            "\n",
            "number of incorrect code entries:  2 \n",
            "incorrect code:  SYMP SP \n",
            "\u001b[90m# A tibble: 2 x 5\u001b[39m\n",
            "  plot_code date       subplot key_plant_code cover_pct\n",
            "  \u001b[3m\u001b[90m<chr>\u001b[39m\u001b[23m     \u001b[3m\u001b[90m<date>\u001b[39m\u001b[23m       \u001b[3m\u001b[90m<int>\u001b[39m\u001b[23m \u001b[3m\u001b[90m<chr>\u001b[39m\u001b[23m              \u001b[3m\u001b[90m<dbl>\u001b[39m\u001b[23m\n",
            "\u001b[90m1\u001b[39m YVP 46    2019-05-29       6 SYMP_SP                3\n",
            "\u001b[90m2\u001b[39m YVP 47    2019-05-29       5 SYMP_SP                5\n",
            "\n",
            "number of corrections made (cumulative):  396 \n",
            "\n",
            "\n",
            "number of incorrect code entries:  19 \n",
            "incorrect code:  TRIF SP \n",
            "\u001b[90m# A tibble: 19 x 5\u001b[39m\n",
            "   plot_code date       subplot key_plant_code cover_pct\n",
            "   \u001b[3m\u001b[90m<chr>\u001b[39m\u001b[23m     \u001b[3m\u001b[90m<date>\u001b[39m\u001b[23m       \u001b[3m\u001b[90m<int>\u001b[39m\u001b[23m \u001b[3m\u001b[90m<chr>\u001b[39m\u001b[23m              \u001b[3m\u001b[90m<dbl>\u001b[39m\u001b[23m\n",
            "\u001b[90m 1\u001b[39m YVP 212   2019-06-04       2 TRIF_SP                0\n",
            "\u001b[90m 2\u001b[39m YVP 212   2019-06-04       3 TRIF_SP                0\n",
            "\u001b[90m 3\u001b[39m YVP 212   2019-06-04       4 TRIF_SP                0\n",
            "\u001b[90m 4\u001b[39m YVP 212   2019-06-04       5 TRIF_SP                0\n",
            "\u001b[90m 5\u001b[39m YVP 212   2019-06-04       6 TRIF_SP                0\n",
            "\u001b[90m 6\u001b[39m YVP 212   2019-06-04       7 TRIF_SP                0\n",
            "\u001b[90m 7\u001b[39m YVP 212   2019-06-04       8 TRIF_SP                0\n",
            "\u001b[90m 8\u001b[39m YVP 212   2019-06-04       9 TRIF_SP                0\n",
            "\u001b[90m 9\u001b[39m YVP 212   2019-06-04      10 TRIF_SP                0\n",
            "\u001b[90m10\u001b[39m YVP 246   2019-06-04       2 TRIF_SP                0\n",
            "\u001b[90m11\u001b[39m YVP 246   2019-06-04       3 TRIF_SP                0\n",
            "\u001b[90m12\u001b[39m YVP 246   2019-06-04       4 TRIF_SP                0\n",
            "\u001b[90m13\u001b[39m YVP 246   2019-06-04       5 TRIF_SP                0\n",
            "\u001b[90m14\u001b[39m YVP 246   2019-06-04       6 TRIF_SP                0\n",
            "\u001b[90m15\u001b[39m YVP 246   2019-06-04       7 TRIF_SP                0\n",
            "\u001b[90m16\u001b[39m YVP 246   2019-06-04       8 TRIF_SP                0\n",
            "\u001b[90m17\u001b[39m YVP 246   2019-06-04      10 TRIF_SP                0\n",
            "\u001b[90m18\u001b[39m YVP 485   2019-07-16       3 TRIF_SP                0\n",
            "\u001b[90m19\u001b[39m YVP N348  2019-07-05       2 TRIF_SP                0\n",
            "\n",
            "number of corrections made (cumulative):  415 \n",
            "\n",
            "\n",
            "number of incorrect code entries:  21 \n",
            "incorrect code:  UNKN SP \n",
            "\u001b[90m# A tibble: 21 x 5\u001b[39m\n",
            "   plot_code date       subplot key_plant_code cover_pct\n",
            "   \u001b[3m\u001b[90m<chr>\u001b[39m\u001b[23m     \u001b[3m\u001b[90m<date>\u001b[39m\u001b[23m       \u001b[3m\u001b[90m<int>\u001b[39m\u001b[23m \u001b[3m\u001b[90m<chr>\u001b[39m\u001b[23m              \u001b[3m\u001b[90m<dbl>\u001b[39m\u001b[23m\n",
            "\u001b[90m 1\u001b[39m YVP 468   2019-07-16       1 UNKN_SP               10\n",
            "\u001b[90m 2\u001b[39m YVP 468   2019-07-16       2 UNKN_SP                3\n",
            "\u001b[90m 3\u001b[39m YVP 468   2019-07-16       3 UNKN_SP                5\n",
            "\u001b[90m 4\u001b[39m YVP 468   2019-07-16       4 UNKN_SP                5\n",
            "\u001b[90m 5\u001b[39m YVP 468   2019-07-16       5 UNKN_SP                4\n",
            "\u001b[90m 6\u001b[39m YVP 468   2019-07-16       6 UNKN_SP                2\n",
            "\u001b[90m 7\u001b[39m YVP 468   2019-07-16       7 UNKN_SP                1\n",
            "\u001b[90m 8\u001b[39m YVP 468   2019-07-16       8 UNKN_SP                1\n",
            "\u001b[90m 9\u001b[39m YVP 468   2019-07-16       9 UNKN_SP                1\n",
            "\u001b[90m10\u001b[39m YVP 468   2019-07-16      10 UNKN_SP                1\n",
            "\u001b[90m# … with 11 more rows\u001b[39m\n",
            "\n",
            "number of corrections made (cumulative):  436 \n",
            "\n",
            "\n"
          ],
          "name": "stdout"
        }
      ]
    },
    {
      "cell_type": "markdown",
      "metadata": {
        "id": "usGZu4Oivz3P"
      },
      "source": [
        "436 cumulative corrections as of 2020-11-06"
      ]
    },
    {
      "cell_type": "code",
      "metadata": {
        "id": "Lx445iA3Lcx1",
        "outputId": "dd81a924-505c-4e72-ee4a-e4ec0732c40b",
        "colab": {
          "base_uri": "https://localhost:8080/",
          "height": 95
        }
      },
      "source": [
        "# Rescan for incorrect species codes\n",
        "yvp_veg_cover_correct %>% \n",
        "anti_join(spe_df, by = c(\"key_plant_code\" = \"key_plant_code\")) %>% \n",
        "group_by(key_plant_code) %>% distinct(key_plant_code) %>% arrange(key_plant_code)"
      ],
      "execution_count": null,
      "outputs": [
        {
          "output_type": "display_data",
          "data": {
            "text/plain": [
              "     key_plant_code"
            ],
            "text/latex": "A grouped\\_df: 0 × 1\n\\begin{tabular}{l}\n key\\_plant\\_code\\\\\n <chr>\\\\\n\\hline\n\\end{tabular}\n",
            "text/markdown": "\nA grouped_df: 0 × 1\n\n| key_plant_code &lt;chr&gt; |\n|---|\n\n",
            "text/html": [
              "<table>\n",
              "<caption>A grouped_df: 0 × 1</caption>\n",
              "<thead>\n",
              "\t<tr><th scope=col>key_plant_code</th></tr>\n",
              "\t<tr><th scope=col>&lt;chr&gt;</th></tr>\n",
              "</thead>\n",
              "<tbody>\n",
              "</tbody>\n",
              "</table>\n"
            ]
          },
          "metadata": {
            "tags": []
          }
        }
      ]
    },
    {
      "cell_type": "markdown",
      "metadata": {
        "id": "nHbOZ8Hm3JjV"
      },
      "source": [
        "## Incorporate serial key for species codes"
      ]
    },
    {
      "cell_type": "code",
      "metadata": {
        "id": "7XNL3E1KdR39",
        "outputId": "56e0b9b8-6fc9-4eb2-ddfa-491539071133",
        "colab": {
          "base_uri": "https://localhost:8080/"
        }
      },
      "source": [
        "yvp_vegetation_cover_FINAL <- \n",
        "  yvp_veg_cover_correct %>% \n",
        "  left_join(spe_df %>% select(key_plant_species, key_plant_code), by = c(\"key_plant_code\" = \"key_plant_code\")) %>% \n",
        "  select(c(1,2,3,4,5,6,9,7,8)) %>% \n",
        "  rename(grid_point = plot_num) %>% \n",
        "  glimpse()"
      ],
      "execution_count": null,
      "outputs": [
        {
          "output_type": "stream",
          "text": [
            "Rows: 21,682\n",
            "Columns: 9\n",
            "$ plot_code         \u001b[3m\u001b[90m<chr>\u001b[39m\u001b[23m \"YVP 10\", \"YVP 10\", \"YVP 10\", \"YVP 10\", \"YVP 10\", \"…\n",
            "$ plot_loc          \u001b[3m\u001b[90m<chr>\u001b[39m\u001b[23m NA, NA, NA, NA, NA, NA, NA, NA, NA, NA, NA, NA, NA,…\n",
            "$ plot_rep          \u001b[3m\u001b[90m<chr>\u001b[39m\u001b[23m NA, NA, NA, NA, NA, NA, NA, NA, NA, NA, NA, NA, NA,…\n",
            "$ grid_point        \u001b[3m\u001b[90m<int>\u001b[39m\u001b[23m 10, 10, 10, 10, 10, 10, 10, 10, 10, 10, 10, 10, 10,…\n",
            "$ date              \u001b[3m\u001b[90m<date>\u001b[39m\u001b[23m 2017-06-09, 2017-06-09, 2017-06-09, 2017-06-09, 20…\n",
            "$ subplot           \u001b[3m\u001b[90m<int>\u001b[39m\u001b[23m 1, 1, 1, 1, 1, 1, 1, 1, 1, 1, 1, 1, 1, 2, 2, 2, 2, …\n",
            "$ key_plant_species \u001b[3m\u001b[90m<int>\u001b[39m\u001b[23m 780, 163, 230, 232, 233, 250, 84, 316, 320, 343, 48…\n",
            "$ key_plant_code    \u001b[3m\u001b[90m<chr>\u001b[39m\u001b[23m \"BOEC_SP\", \"CREINT\", \"EUPESU\", \"FESCAM\", \"FESIDA\", …\n",
            "$ cover_pct         \u001b[3m\u001b[90m<dbl>\u001b[39m\u001b[23m 1, 1, 5, 25, 25, 10, 1, 1, 5, 1, 30, 2, 2, 1, 4, 5,…\n"
          ],
          "name": "stdout"
        }
      ]
    },
    {
      "cell_type": "code",
      "metadata": {
        "id": "TUR0BSONNwCa",
        "outputId": "ac54f070-4011-4b72-e8e8-adc452850019",
        "colab": {
          "base_uri": "https://localhost:8080/",
          "height": 374
        }
      },
      "source": [
        "summary(yvp_vegetation_cover_FINAL)"
      ],
      "execution_count": null,
      "outputs": [
        {
          "output_type": "display_data",
          "data": {
            "text/plain": [
              "  plot_code           plot_loc           plot_rep           grid_point   \n",
              " Length:21682       Length:21682       Length:21682       Min.   :  7.0  \n",
              " Class :character   Class :character   Class :character   1st Qu.: 62.0  \n",
              " Mode  :character   Mode  :character   Mode  :character   Median :209.0  \n",
              "                                                          Mean   :244.9  \n",
              "                                                          3rd Qu.:386.0  \n",
              "                                                          Max.   :571.0  \n",
              "      date               subplot       key_plant_species key_plant_code    \n",
              " Min.   :2017-05-08   Min.   : 1.000   Min.   :  3.0     Length:21682      \n",
              " 1st Qu.:2017-06-09   1st Qu.: 3.000   1st Qu.:153.0     Class :character  \n",
              " Median :2018-07-02   Median : 5.000   Median :274.0     Mode  :character  \n",
              " Mean   :2018-07-22   Mean   : 5.499   Mean   :280.1                       \n",
              " 3rd Qu.:2019-05-28   3rd Qu.: 8.000   3rd Qu.:411.0                       \n",
              " Max.   :2019-07-16   Max.   :10.000   Max.   :784.0                       \n",
              "   cover_pct    \n",
              " Min.   :  0.0  \n",
              " 1st Qu.:  1.0  \n",
              " Median :  2.0  \n",
              " Mean   :  6.7  \n",
              " 3rd Qu.:  5.0  \n",
              " Max.   :100.0  "
            ]
          },
          "metadata": {
            "tags": []
          }
        }
      ]
    },
    {
      "cell_type": "markdown",
      "metadata": {
        "id": "wqrk0hpb86zD"
      },
      "source": [
        "# Output"
      ]
    },
    {
      "cell_type": "markdown",
      "metadata": {
        "id": "wZedeWaU7qty"
      },
      "source": [
        "## Export Wrangled DataFrame to CSV \n",
        "Export the full data set so that we can push it to the BQ database\n",
        "\n",
        "\n"
      ]
    },
    {
      "cell_type": "code",
      "metadata": {
        "id": "FKRdVva67thP",
        "outputId": "31ce147c-6b72-444a-8947-2896e441134e",
        "colab": {
          "base_uri": "https://localhost:8080/"
        }
      },
      "source": [
        "filename_final = \"yvp_vegetation_cover_FINAL.csv\"\n",
        "\n",
        "if (filename_final %in% list.files(getwd())) {\n",
        "  cat(\"file already exists in working directory:\", filename_final, \"\\n\", \"working directory:\", getwd(), \"\\n\")\n",
        "} else {\n",
        "  write.csv(yvp_vegetation_cover_FINAL, row.names = FALSE, filename_final)\n",
        "  cat(filename_final, \"written to working directory \\n\", \"working directory:\", getwd(), \"\\n\")\n",
        "}"
      ],
      "execution_count": null,
      "outputs": [
        {
          "output_type": "stream",
          "text": [
            "file already exists in working directory: yvp_vegetation_cover_FINAL.csv \n",
            " working directory: /content \n"
          ],
          "name": "stdout"
        }
      ]
    },
    {
      "cell_type": "markdown",
      "metadata": {
        "id": "e_gWG69yLdlF"
      },
      "source": [
        "## Push to BigQuery"
      ]
    },
    {
      "cell_type": "markdown",
      "metadata": {
        "id": "5w-bW-2YMgSI"
      },
      "source": [
        "\"yvp_vegetation_cover_FINAL.csv\" uploaded manually to BigQuery"
      ]
    },
    {
      "cell_type": "markdown",
      "metadata": {
        "id": "TxPBf5Rk8dOS"
      },
      "source": [
        "## Export field datasheet version\n",
        "Field datasheets need to have a complete, cumulative species list for each plot recorded in a table, with the cover_pct column set to 0. This allows field techs to change the 0 to some number if the species is found. The date column is blank so that field techs can fill in the appropriate date. Do not include columns that are needed for data analysis, like plot_loc, plot_rep, plot_num, and species_key. \n",
        "\n",
        "**Schema for field data sheet**\n",
        "\n",
        "* plot_num (helps for sorting and finding plots)\n",
        "* plot_code\n",
        "* date\n",
        "* species_code\n",
        "* cover_pct\n",
        "\n",
        "## Field data sheet production log\n",
        "* Produced for 2020 field season"
      ]
    },
    {
      "cell_type": "code",
      "metadata": {
        "id": "dBaIyvdz9JWU",
        "outputId": "e4089a56-c0e0-4378-88e5-8f8a09574644",
        "colab": {
          "base_uri": "https://localhost:8080/",
          "height": 170
        }
      },
      "source": [
        "field_datasheet = \n",
        "yvp_vegetation_cover_FINAL %>% \n",
        "select(plot_num, plot_code, subplot, species_code) %>% \n",
        "group_by(plot_num, plot_code, subplot) %>% \n",
        "distinct(species_code) %>% \n",
        "select(-species_code, species_code) %>% \n",
        "add_column(date = NA, .after = \"plot_code\") %>% \n",
        "add_column(cover_pct = 0) %>% \n",
        "arrange(plot_num, plot_code, subplot, species_code) %>% \n",
        "glimpse()"
      ],
      "execution_count": null,
      "outputs": [
        {
          "output_type": "stream",
          "text": [
            "Rows: 8,861\n",
            "Columns: 6\n",
            "Groups: plot_num, plot_code, subplot [580]\n",
            "$ plot_num     \u001b[3m\u001b[90m<int>\u001b[39m\u001b[23m 7, 7, 7, 7, 7, 7, 7, 7, 7, 7, 7, 7, 7, 7, 7, 7, 7, 7, 7,…\n",
            "$ plot_code    \u001b[3m\u001b[90m<chr>\u001b[39m\u001b[23m \"YVP N7\", \"YVP N7\", \"YVP N7\", \"YVP N7\", \"YVP N7\", \"YVP N…\n",
            "$ date         \u001b[3m\u001b[90m<lgl>\u001b[39m\u001b[23m NA, NA, NA, NA, NA, NA, NA, NA, NA, NA, NA, NA, NA, NA, …\n",
            "$ subplot      \u001b[3m\u001b[90m<int>\u001b[39m\u001b[23m 1, 1, 1, 1, 1, 1, 1, 1, 1, 1, 1, 1, 1, 1, 1, 1, 1, 2, 2,…\n",
            "$ species_code \u001b[3m\u001b[90m<chr>\u001b[39m\u001b[23m \"ACHMIL\", \"ALYALY\", \"BROTEC\", \"CAMMIC\", \"CARE_SP\", \"COLL…\n",
            "$ cover_pct    \u001b[3m\u001b[90m<dbl>\u001b[39m\u001b[23m 0, 0, 0, 0, 0, 0, 0, 0, 0, 0, 0, 0, 0, 0, 0, 0, 0, 0, 0,…\n"
          ],
          "name": "stdout"
        }
      ]
    },
    {
      "cell_type": "code",
      "metadata": {
        "id": "gvuDq6wgEGH5",
        "outputId": "a32b644e-70b2-4dfe-ec35-91dd98104881",
        "colab": {
          "base_uri": "https://localhost:8080/",
          "height": 232
        }
      },
      "source": [
        "filename_field_datasheet = \"yvp_vegetation_cover_field_datasheet_FINAL.csv\"\n",
        "\n",
        "if (filename_field_datasheet %in% list.files(getwd())) {\n",
        "  cat(\"file already exists in working directory:\", filename_final, \"\\n\", \"working directory:\", getwd(), \"\\n\")\n",
        "} else {\n",
        "  write.csv(field_datasheet, filename_field_datasheet)\n",
        "  cat(filename_final, \"written to working directory \\n\", \"working directory:\", getwd(), \"\\n\")\n",
        "}"
      ],
      "execution_count": null,
      "outputs": [
        {
          "output_type": "error",
          "ename": "ERROR",
          "evalue": "ignored",
          "traceback": [
            "Error in is.data.frame(x): object 'field_datasheet' not found\nTraceback:\n",
            "1. write.csv(field_datasheet, filename_field_datasheet)   # at line 6 of file <text>",
            "2. eval.parent(Call)",
            "3. eval(expr, p)",
            "4. eval(expr, p)",
            "5. write.table(field_datasheet, filename_field_datasheet, col.names = NA, \n .     sep = \",\", dec = \".\", qmethod = \"double\")",
            "6. is.data.frame(x)"
          ]
        }
      ]
    }
  ]
}