{
  "nbformat": 4,
  "nbformat_minor": 0,
  "metadata": {
    "colab": {
      "name": "yvp_plant_functional_groups-WRANGLE-2020.ipynb",
      "provenance": [],
      "collapsed_sections": [],
      "toc_visible": true,
      "include_colab_link": true
    },
    "language_info": {
      "codemirror_mode": "r",
      "file_extension": ".r",
      "mimetype": "text/x-r-source",
      "name": "R",
      "pygments_lexer": "r",
      "version": "3.3.1"
    },
    "kernelspec": {
      "display_name": "R",
      "language": "R",
      "name": "ir"
    }
  },
  "cells": [
    {
      "cell_type": "markdown",
      "metadata": {
        "id": "view-in-github",
        "colab_type": "text"
      },
      "source": [
        "<a href=\"https://colab.research.google.com/github/samsoe/mpg_notebooks/blob/master/yvp_plant_functional_groups_WRANGLE_2020.ipynb\" target=\"_parent\"><img src=\"https://colab.research.google.com/assets/colab-badge.svg\" alt=\"Open In Colab\"/></a>"
      ]
    },
    {
      "cell_type": "markdown",
      "metadata": {
        "id": "dn0f3TzegBcl"
      },
      "source": [
        "# Documentation"
      ]
    },
    {
      "cell_type": "markdown",
      "metadata": {
        "id": "atjSKaTvgFap"
      },
      "source": [
        "[Readme fixed plot vegetation data](https://docs.google.com/document/d/16-Aq8u9Rudd78fSzfjvpCXyQgE-BstC-d2PjYfmLtcw/edit?usp=sharing)"
      ]
    },
    {
      "cell_type": "markdown",
      "metadata": {
        "id": "BhOI1uU2Koum"
      },
      "source": [
        "# Security"
      ]
    },
    {
      "cell_type": "markdown",
      "metadata": {
        "id": "hgB3r3wvA9Pn"
      },
      "source": [
        "* The user must load a `json` file containing the BigQuery API key into the local directory `/content/...`\n",
        "* The user must have a Google Maps API key to enable mapping. \n",
        "   * CAUTION make sure the key is deleted from the current instance of the notebook before sharing"
      ]
    },
    {
      "cell_type": "markdown",
      "metadata": {
        "id": "MnG0ah7OA59c"
      },
      "source": [
        "# Tools"
      ]
    },
    {
      "cell_type": "code",
      "metadata": {
        "id": "Y6y4EWeYpVBJ",
        "colab": {
          "base_uri": "https://localhost:8080/"
        },
        "outputId": "771044f7-7b3a-41aa-825d-ab889d4b3166"
      },
      "source": [
        "library(tidyverse)"
      ],
      "execution_count": null,
      "outputs": [
        {
          "output_type": "stream",
          "text": [
            "── \u001b[1mAttaching packages\u001b[22m ─────────────────────────────────────── tidyverse 1.3.0 ──\n",
            "\n",
            "\u001b[32m✔\u001b[39m \u001b[34mggplot2\u001b[39m 3.3.2     \u001b[32m✔\u001b[39m \u001b[34mpurrr  \u001b[39m 0.3.4\n",
            "\u001b[32m✔\u001b[39m \u001b[34mtibble \u001b[39m 3.0.4     \u001b[32m✔\u001b[39m \u001b[34mdplyr  \u001b[39m 1.0.2\n",
            "\u001b[32m✔\u001b[39m \u001b[34mtidyr  \u001b[39m 1.1.2     \u001b[32m✔\u001b[39m \u001b[34mstringr\u001b[39m 1.4.0\n",
            "\u001b[32m✔\u001b[39m \u001b[34mreadr  \u001b[39m 1.4.0     \u001b[32m✔\u001b[39m \u001b[34mforcats\u001b[39m 0.5.0\n",
            "\n",
            "── \u001b[1mConflicts\u001b[22m ────────────────────────────────────────── tidyverse_conflicts() ──\n",
            "\u001b[31m✖\u001b[39m \u001b[34mdplyr\u001b[39m::\u001b[32mfilter()\u001b[39m masks \u001b[34mstats\u001b[39m::filter()\n",
            "\u001b[31m✖\u001b[39m \u001b[34mdplyr\u001b[39m::\u001b[32mlag()\u001b[39m    masks \u001b[34mstats\u001b[39m::lag()\n",
            "\n"
          ],
          "name": "stderr"
        }
      ]
    },
    {
      "cell_type": "code",
      "metadata": {
        "id": "HlRwSk6zCM0w",
        "colab": {
          "base_uri": "https://localhost:8080/"
        },
        "outputId": "5de7ce4c-57a0-4a39-f260-d25f3017406f"
      },
      "source": [
        "library(lubridate)"
      ],
      "execution_count": null,
      "outputs": [
        {
          "output_type": "stream",
          "text": [
            "\n",
            "Attaching package: ‘lubridate’\n",
            "\n",
            "\n",
            "The following objects are masked from ‘package:base’:\n",
            "\n",
            "    date, intersect, setdiff, union\n",
            "\n",
            "\n"
          ],
          "name": "stderr"
        }
      ]
    },
    {
      "cell_type": "markdown",
      "metadata": {
        "id": "eUw-It3JBBrQ"
      },
      "source": [
        "* Remember that the file containing authorization keys for Big Query must be loaded into the virutual envrionment manually."
      ]
    },
    {
      "cell_type": "code",
      "metadata": {
        "id": "VxYkYhQTKouo",
        "colab": {
          "base_uri": "https://localhost:8080/"
        },
        "outputId": "b7e097a8-495a-4370-dba3-19eb493f32ae"
      },
      "source": [
        "install.packages(\"bigrquery\")\n",
        "library(bigrquery)"
      ],
      "execution_count": null,
      "outputs": [
        {
          "output_type": "stream",
          "text": [
            "Installing package into ‘/usr/local/lib/R/site-library’\n",
            "(as ‘lib’ is unspecified)\n",
            "\n",
            "also installing the dependencies ‘bit’, ‘bit64’, ‘gargle’, ‘rapidjsonr’\n",
            "\n",
            "\n"
          ],
          "name": "stderr"
        }
      ]
    },
    {
      "cell_type": "markdown",
      "metadata": {
        "id": "H1I9aQ_SBH3n"
      },
      "source": [
        "# Source"
      ]
    },
    {
      "cell_type": "markdown",
      "metadata": {
        "id": "Bfb7MHpGBJMO"
      },
      "source": [
        "## Database Connection"
      ]
    },
    {
      "cell_type": "code",
      "metadata": {
        "id": "ihI70_BPKouq"
      },
      "source": [
        "# BigQuery API Key\n",
        "bq_auth(path = \"/content/mpg-data-warehouse-api_key-master.json\")"
      ],
      "execution_count": null,
      "outputs": []
    },
    {
      "cell_type": "code",
      "metadata": {
        "id": "8YxL8wHoBNxV"
      },
      "source": [
        "Sys.setenv(BIGQUERY_TEST_PROJECT = \"mpg-data-warehouse\")"
      ],
      "execution_count": null,
      "outputs": []
    },
    {
      "cell_type": "code",
      "metadata": {
        "id": "yevfizb5BQXm"
      },
      "source": [
        "billing <- bq_test_project()"
      ],
      "execution_count": null,
      "outputs": []
    },
    {
      "cell_type": "markdown",
      "metadata": {
        "id": "ERudBSncbzYR"
      },
      "source": [
        "## Database Query"
      ]
    },
    {
      "cell_type": "markdown",
      "metadata": {
        "id": "JN4Z34yRp2-k"
      },
      "source": [
        "### yvp_vegetation_cover\n"
      ]
    },
    {
      "cell_type": "code",
      "metadata": {
        "id": "26UqASAoB2p0"
      },
      "source": [
        "sql_vegetation_cover <- \"SELECT *\n",
        "               FROM `mpg-data-warehouse.vegetation_fixed_plot_yvp.yvp_vegetation_cover`\""
      ],
      "execution_count": null,
      "outputs": []
    },
    {
      "cell_type": "code",
      "metadata": {
        "id": "X5TtrljSF8Xr"
      },
      "source": [
        "# What does this look like without removing the NULL values? \n",
        "sql_vegetation_cover <- \"SELECT *\n",
        "               FROM `mpg-data-warehouse.vegetation_fixed_plot_yvp.yvp_vegetation_cover`\""
      ],
      "execution_count": null,
      "outputs": []
    },
    {
      "cell_type": "code",
      "metadata": {
        "id": "VSXOoJkcB3dn"
      },
      "source": [
        "bq_vegetation_cover <- bq_project_query(billing, sql_vegetation_cover)"
      ],
      "execution_count": null,
      "outputs": []
    },
    {
      "cell_type": "code",
      "metadata": {
        "id": "KpZnymzzB5Ms"
      },
      "source": [
        "tb_vegetation_cover <- bq_table_download(bq_vegetation_cover)"
      ],
      "execution_count": null,
      "outputs": []
    },
    {
      "cell_type": "code",
      "metadata": {
        "id": "VcoNMCO1B6gY",
        "colab": {
          "base_uri": "https://localhost:8080/"
        },
        "outputId": "68a173b7-84d5-4b1b-fc81-cc5e4200fe16"
      },
      "source": [
        "df_vegetation_cover <- as.data.frame(tb_vegetation_cover) %>% glimpse()"
      ],
      "execution_count": null,
      "outputs": [
        {
          "output_type": "stream",
          "text": [
            "Rows: 30,820\n",
            "Columns: 9\n",
            "$ plot_code         \u001b[3m\u001b[90m<chr>\u001b[39m\u001b[23m \"YVP N348\", \"YVP N348\", \"YVP N348\", \"YVP N348\", \"YV…\n",
            "$ plot_loc          \u001b[3m\u001b[90m<chr>\u001b[39m\u001b[23m \"N\", \"N\", \"N\", \"N\", \"N\", \"N\", \"N\", \"N\", \"N\", \"N\", \"…\n",
            "$ plot_rep          \u001b[3m\u001b[90m<chr>\u001b[39m\u001b[23m NA, NA, NA, NA, NA, NA, NA, NA, NA, NA, NA, NA, NA,…\n",
            "$ grid_point        \u001b[3m\u001b[90m<int>\u001b[39m\u001b[23m 348, 348, 348, 348, 348, 348, 348, 348, 348, 348, 3…\n",
            "$ date              \u001b[3m\u001b[90m<date>\u001b[39m\u001b[23m 2020-07-01, 2020-07-01, 2020-07-01, 2020-07-01, 20…\n",
            "$ subplot           \u001b[3m\u001b[90m<int>\u001b[39m\u001b[23m 1, 1, 1, 1, 1, 1, 1, 1, 1, 1, 1, 1, 1, 2, 2, 2, 2, …\n",
            "$ key_plant_species \u001b[3m\u001b[90m<int>\u001b[39m\u001b[23m 3, 24, 54, 161, 167, 199, 230, 410, 414, 433, 492, …\n",
            "$ key_plant_code    \u001b[3m\u001b[90m<chr>\u001b[39m\u001b[23m \"ACEGLA\", \"AMEALN\", \"ARNCOR\", \"CRADOU\", \"CYNOFF\", \"…\n",
            "$ cover_pct         \u001b[3m\u001b[90m<dbl>\u001b[39m\u001b[23m 1, 1, 5, 1, 1, 15, 1, 15, 0, 1, 4, 35, 1, 5, 1, 3, …\n"
          ],
          "name": "stdout"
        }
      ]
    },
    {
      "cell_type": "code",
      "metadata": {
        "id": "YwODkkpohZkf",
        "colab": {
          "base_uri": "https://localhost:8080/",
          "height": 994
        },
        "outputId": "a1712cd9-7a16-4d82-ecc8-8615a8a0086e"
      },
      "source": [
        "df_vegetation_cover %>% distinct(cover_pct) %>% arrange(cover_pct)"
      ],
      "execution_count": null,
      "outputs": [
        {
          "output_type": "display_data",
          "data": {
            "text/plain": [
              "   cover_pct\n",
              "1    0.0    \n",
              "2    0.5    \n",
              "3    1.0    \n",
              "4    1.5    \n",
              "5    2.0    \n",
              "6    2.5    \n",
              "7    3.0    \n",
              "8    3.5    \n",
              "9    4.0    \n",
              "10   4.5    \n",
              "11   5.0    \n",
              "12   5.5    \n",
              "13   6.0    \n",
              "14   7.5    \n",
              "15  10.0    \n",
              "16  11.0    \n",
              "17  12.0    \n",
              "18  13.0    \n",
              "19  15.0    \n",
              "20  16.0    \n",
              "21  18.0    \n",
              "22  20.0    \n",
              "23  25.0    \n",
              "24  26.0    \n",
              "25  30.0    \n",
              "26  32.0    \n",
              "27  35.0    \n",
              "28  40.0    \n",
              "29  42.0    \n",
              "30  45.0    \n",
              "31  50.0    \n",
              "32  55.0    \n",
              "33  60.0    \n",
              "34  65.0    \n",
              "35  70.0    \n",
              "36  75.0    \n",
              "37  80.0    \n",
              "38  85.0    \n",
              "39  89.0    \n",
              "40  90.0    \n",
              "41  95.0    \n",
              "42 100.0    "
            ],
            "text/latex": "A data.frame: 42 × 1\n\\begin{tabular}{l}\n cover\\_pct\\\\\n <dbl>\\\\\n\\hline\n\t   0.0\\\\\n\t   0.5\\\\\n\t   1.0\\\\\n\t   1.5\\\\\n\t   2.0\\\\\n\t   2.5\\\\\n\t   3.0\\\\\n\t   3.5\\\\\n\t   4.0\\\\\n\t   4.5\\\\\n\t   5.0\\\\\n\t   5.5\\\\\n\t   6.0\\\\\n\t   7.5\\\\\n\t  10.0\\\\\n\t  11.0\\\\\n\t  12.0\\\\\n\t  13.0\\\\\n\t  15.0\\\\\n\t  16.0\\\\\n\t  18.0\\\\\n\t  20.0\\\\\n\t  25.0\\\\\n\t  26.0\\\\\n\t  30.0\\\\\n\t  32.0\\\\\n\t  35.0\\\\\n\t  40.0\\\\\n\t  42.0\\\\\n\t  45.0\\\\\n\t  50.0\\\\\n\t  55.0\\\\\n\t  60.0\\\\\n\t  65.0\\\\\n\t  70.0\\\\\n\t  75.0\\\\\n\t  80.0\\\\\n\t  85.0\\\\\n\t  89.0\\\\\n\t  90.0\\\\\n\t  95.0\\\\\n\t 100.0\\\\\n\\end{tabular}\n",
            "text/markdown": "\nA data.frame: 42 × 1\n\n| cover_pct &lt;dbl&gt; |\n|---|\n|   0.0 |\n|   0.5 |\n|   1.0 |\n|   1.5 |\n|   2.0 |\n|   2.5 |\n|   3.0 |\n|   3.5 |\n|   4.0 |\n|   4.5 |\n|   5.0 |\n|   5.5 |\n|   6.0 |\n|   7.5 |\n|  10.0 |\n|  11.0 |\n|  12.0 |\n|  13.0 |\n|  15.0 |\n|  16.0 |\n|  18.0 |\n|  20.0 |\n|  25.0 |\n|  26.0 |\n|  30.0 |\n|  32.0 |\n|  35.0 |\n|  40.0 |\n|  42.0 |\n|  45.0 |\n|  50.0 |\n|  55.0 |\n|  60.0 |\n|  65.0 |\n|  70.0 |\n|  75.0 |\n|  80.0 |\n|  85.0 |\n|  89.0 |\n|  90.0 |\n|  95.0 |\n| 100.0 |\n\n",
            "text/html": [
              "<table>\n",
              "<caption>A data.frame: 42 × 1</caption>\n",
              "<thead>\n",
              "\t<tr><th scope=col>cover_pct</th></tr>\n",
              "\t<tr><th scope=col>&lt;dbl&gt;</th></tr>\n",
              "</thead>\n",
              "<tbody>\n",
              "\t<tr><td>  0.0</td></tr>\n",
              "\t<tr><td>  0.5</td></tr>\n",
              "\t<tr><td>  1.0</td></tr>\n",
              "\t<tr><td>  1.5</td></tr>\n",
              "\t<tr><td>  2.0</td></tr>\n",
              "\t<tr><td>  2.5</td></tr>\n",
              "\t<tr><td>  3.0</td></tr>\n",
              "\t<tr><td>  3.5</td></tr>\n",
              "\t<tr><td>  4.0</td></tr>\n",
              "\t<tr><td>  4.5</td></tr>\n",
              "\t<tr><td>  5.0</td></tr>\n",
              "\t<tr><td>  5.5</td></tr>\n",
              "\t<tr><td>  6.0</td></tr>\n",
              "\t<tr><td>  7.5</td></tr>\n",
              "\t<tr><td> 10.0</td></tr>\n",
              "\t<tr><td> 11.0</td></tr>\n",
              "\t<tr><td> 12.0</td></tr>\n",
              "\t<tr><td> 13.0</td></tr>\n",
              "\t<tr><td> 15.0</td></tr>\n",
              "\t<tr><td> 16.0</td></tr>\n",
              "\t<tr><td> 18.0</td></tr>\n",
              "\t<tr><td> 20.0</td></tr>\n",
              "\t<tr><td> 25.0</td></tr>\n",
              "\t<tr><td> 26.0</td></tr>\n",
              "\t<tr><td> 30.0</td></tr>\n",
              "\t<tr><td> 32.0</td></tr>\n",
              "\t<tr><td> 35.0</td></tr>\n",
              "\t<tr><td> 40.0</td></tr>\n",
              "\t<tr><td> 42.0</td></tr>\n",
              "\t<tr><td> 45.0</td></tr>\n",
              "\t<tr><td> 50.0</td></tr>\n",
              "\t<tr><td> 55.0</td></tr>\n",
              "\t<tr><td> 60.0</td></tr>\n",
              "\t<tr><td> 65.0</td></tr>\n",
              "\t<tr><td> 70.0</td></tr>\n",
              "\t<tr><td> 75.0</td></tr>\n",
              "\t<tr><td> 80.0</td></tr>\n",
              "\t<tr><td> 85.0</td></tr>\n",
              "\t<tr><td> 89.0</td></tr>\n",
              "\t<tr><td> 90.0</td></tr>\n",
              "\t<tr><td> 95.0</td></tr>\n",
              "\t<tr><td>100.0</td></tr>\n",
              "</tbody>\n",
              "</table>\n"
            ]
          },
          "metadata": {
            "tags": []
          }
        }
      ]
    },
    {
      "cell_type": "markdown",
      "metadata": {
        "id": "hwJ952Y2b8cN"
      },
      "source": [
        "### vegetation_species_metadata"
      ]
    },
    {
      "cell_type": "code",
      "metadata": {
        "id": "FduLB8ijcBxf"
      },
      "source": [
        "sql_species_metadata <- \"SELECT *\n",
        "                         FROM `mpg-data-warehouse.vegetation_species_metadata.vegetation_species_metadata`\""
      ],
      "execution_count": null,
      "outputs": []
    },
    {
      "cell_type": "code",
      "metadata": {
        "id": "auKASEcKcSsO"
      },
      "source": [
        "bq_species_metadata <- bq_project_query(billing, sql_species_metadata)"
      ],
      "execution_count": null,
      "outputs": []
    },
    {
      "cell_type": "code",
      "metadata": {
        "id": "-31MHcnwcbty"
      },
      "source": [
        "tb_species_metadata <- bq_table_download(bq_species_metadata)"
      ],
      "execution_count": null,
      "outputs": []
    },
    {
      "cell_type": "code",
      "metadata": {
        "id": "9j9fCzwycbk1",
        "colab": {
          "base_uri": "https://localhost:8080/"
        },
        "outputId": "c9b47275-a54a-4a9f-9d48-3a96c896bb6f"
      },
      "source": [
        "df_species_metadata <- as.data.frame(tb_species_metadata) %>% glimpse()"
      ],
      "execution_count": null,
      "outputs": [
        {
          "output_type": "stream",
          "text": [
            "Rows: 754\n",
            "Columns: 9\n",
            "$ key_plant_species   \u001b[3m\u001b[90m<int>\u001b[39m\u001b[23m 360, 13, 26, 53, 738, 75, 76, 746, 83, 88, 86, 87…\n",
            "$ key_plant_code      \u001b[3m\u001b[90m<chr>\u001b[39m\u001b[23m \"NV\", \"AGRSCA\", \"ANDGER\", \"ARIPUR\", \"BOUCUR\", \"BO…\n",
            "$ plant_name_sci      \u001b[3m\u001b[90m<chr>\u001b[39m\u001b[23m \"no vegetation\", \"Agrostis scabra\", \"Andropogon g…\n",
            "$ plant_name_syn      \u001b[3m\u001b[90m<chr>\u001b[39m\u001b[23m NA, NA, NA, \"Aristida longiseta\", NA, NA, NA, NA,…\n",
            "$ plant_name_common   \u001b[3m\u001b[90m<chr>\u001b[39m\u001b[23m \"no vegetation\", \"rough bentgrass\", \"big bluestem…\n",
            "$ plant_name_family   \u001b[3m\u001b[90m<chr>\u001b[39m\u001b[23m \"None\", \"Poaceae\", \"Poaceae\", \"Poaceae\", \"Poaceae…\n",
            "$ plant_native_status \u001b[3m\u001b[90m<chr>\u001b[39m\u001b[23m \"none\", \"native\", \"native\", \"native\", \"native\", \"…\n",
            "$ plant_life_cycle    \u001b[3m\u001b[90m<chr>\u001b[39m\u001b[23m \"unknown\", \"perennial\", \"perennial\", \"perennial\",…\n",
            "$ plant_life_form     \u001b[3m\u001b[90m<chr>\u001b[39m\u001b[23m \"none\", \"graminoid\", \"graminoid\", \"graminoid\", \"g…\n"
          ],
          "name": "stdout"
        }
      ]
    },
    {
      "cell_type": "markdown",
      "metadata": {
        "id": "bA9KX97-SkOD"
      },
      "source": [
        "### location_position_classification"
      ]
    },
    {
      "cell_type": "code",
      "metadata": {
        "id": "aLY5ufkISp3c"
      },
      "source": [
        "sql_position_classification <- \"\n",
        "SELECT \n",
        "  grid_point,\n",
        "  aspect_mean_deg,\n",
        "  elevation_mean_m,\n",
        "  slope_mean_deg,\n",
        "  cover_type_2016_gridVeg,\n",
        "  type3_vegetation_indicators,\n",
        "  type4_indicators_history\n",
        "FROM\n",
        "  `mpg-data-warehouse.grid_point_summaries.location_position_classification`\n",
        "\""
      ],
      "execution_count": null,
      "outputs": []
    },
    {
      "cell_type": "code",
      "metadata": {
        "id": "Q-O2jGa8TNl5"
      },
      "source": [
        "bq_position_classification <- bq_project_query(billing, sql_position_classification)"
      ],
      "execution_count": null,
      "outputs": []
    },
    {
      "cell_type": "code",
      "metadata": {
        "id": "dU4_yClpTNjc"
      },
      "source": [
        "tb_position_classification <- bq_table_download(bq_position_classification)"
      ],
      "execution_count": null,
      "outputs": []
    },
    {
      "cell_type": "code",
      "metadata": {
        "id": "nCY1z5crTNgX",
        "colab": {
          "base_uri": "https://localhost:8080/"
        },
        "outputId": "5d35d665-ee95-46ed-cea1-503c37ba6460"
      },
      "source": [
        "df_position_classification <- as.data.frame(tb_position_classification) %>% glimpse()"
      ],
      "execution_count": null,
      "outputs": [
        {
          "output_type": "stream",
          "text": [
            "Rows: 582\n",
            "Columns: 7\n",
            "$ grid_point                  \u001b[3m\u001b[90m<int>\u001b[39m\u001b[23m 1, 2, 3, 4, 5, 6, 7, 8, 9, 10, 11, 12, 13…\n",
            "$ aspect_mean_deg             \u001b[3m\u001b[90m<dbl>\u001b[39m\u001b[23m 334.7050, 45.3030, 221.3340, 290.4890, 28…\n",
            "$ elevation_mean_m            \u001b[3m\u001b[90m<dbl>\u001b[39m\u001b[23m 1395.64, 1456.09, 1126.90, 1166.33, 1179.…\n",
            "$ slope_mean_deg              \u001b[3m\u001b[90m<dbl>\u001b[39m\u001b[23m 28.44230, 12.22630, 4.25130, 2.68361, 4.2…\n",
            "$ cover_type_2016_gridVeg     \u001b[3m\u001b[90m<chr>\u001b[39m\u001b[23m \"woodland/forest\", \"non-irrigated grassla…\n",
            "$ type3_vegetation_indicators \u001b[3m\u001b[90m<chr>\u001b[39m\u001b[23m \"mixed canopy conifer\", \"uncultivated gra…\n",
            "$ type4_indicators_history    \u001b[3m\u001b[90m<chr>\u001b[39m\u001b[23m \"mixed canopy conifer\", \"uncultivated gra…\n"
          ],
          "name": "stdout"
        }
      ]
    },
    {
      "cell_type": "markdown",
      "metadata": {
        "id": "dZaBmigXX963"
      },
      "source": [
        "# Wrangle"
      ]
    },
    {
      "cell_type": "markdown",
      "metadata": {
        "id": "sKacrvuvBhid"
      },
      "source": [
        "## Create 'year'"
      ]
    },
    {
      "cell_type": "code",
      "metadata": {
        "id": "1XyTjWU9BhSp",
        "colab": {
          "base_uri": "https://localhost:8080/"
        },
        "outputId": "794a6831-b372-4cf5-a97e-0c7f85918610"
      },
      "source": [
        "df_vegetation_cover_year <- df_vegetation_cover %>%\n",
        "  mutate(year = year(date)) %>% glimpse()"
      ],
      "execution_count": null,
      "outputs": [
        {
          "output_type": "stream",
          "text": [
            "Rows: 30,820\n",
            "Columns: 10\n",
            "$ plot_code         \u001b[3m\u001b[90m<chr>\u001b[39m\u001b[23m \"YVP N348\", \"YVP N348\", \"YVP N348\", \"YVP N348\", \"YV…\n",
            "$ plot_loc          \u001b[3m\u001b[90m<chr>\u001b[39m\u001b[23m \"N\", \"N\", \"N\", \"N\", \"N\", \"N\", \"N\", \"N\", \"N\", \"N\", \"…\n",
            "$ plot_rep          \u001b[3m\u001b[90m<chr>\u001b[39m\u001b[23m NA, NA, NA, NA, NA, NA, NA, NA, NA, NA, NA, NA, NA,…\n",
            "$ grid_point        \u001b[3m\u001b[90m<int>\u001b[39m\u001b[23m 348, 348, 348, 348, 348, 348, 348, 348, 348, 348, 3…\n",
            "$ date              \u001b[3m\u001b[90m<date>\u001b[39m\u001b[23m 2020-07-01, 2020-07-01, 2020-07-01, 2020-07-01, 20…\n",
            "$ subplot           \u001b[3m\u001b[90m<int>\u001b[39m\u001b[23m 1, 1, 1, 1, 1, 1, 1, 1, 1, 1, 1, 1, 1, 2, 2, 2, 2, …\n",
            "$ key_plant_species \u001b[3m\u001b[90m<int>\u001b[39m\u001b[23m 3, 24, 54, 161, 167, 199, 230, 410, 414, 433, 492, …\n",
            "$ key_plant_code    \u001b[3m\u001b[90m<chr>\u001b[39m\u001b[23m \"ACEGLA\", \"AMEALN\", \"ARNCOR\", \"CRADOU\", \"CYNOFF\", \"…\n",
            "$ cover_pct         \u001b[3m\u001b[90m<dbl>\u001b[39m\u001b[23m 1, 1, 5, 1, 1, 15, 1, 15, 0, 1, 4, 35, 1, 5, 1, 3, …\n",
            "$ year              \u001b[3m\u001b[90m<dbl>\u001b[39m\u001b[23m 2020, 2020, 2020, 2020, 2020, 2020, 2020, 2020, 202…\n"
          ],
          "name": "stdout"
        }
      ]
    },
    {
      "cell_type": "markdown",
      "metadata": {
        "id": "GgQWKHXfRE5P"
      },
      "source": [
        "## Join"
      ]
    },
    {
      "cell_type": "markdown",
      "metadata": {
        "id": "KfK6Ij_KGbuY"
      },
      "source": [
        "### vegetation_species_metadata"
      ]
    },
    {
      "cell_type": "code",
      "metadata": {
        "id": "H2gi2S1tQM6b",
        "colab": {
          "base_uri": "https://localhost:8080/"
        },
        "outputId": "a040b11e-cbff-4886-e800-cd42fd87e636"
      },
      "source": [
        "# vegetation_cover and species_metadata\n",
        "df_join <- df_vegetation_cover_year %>%\n",
        "  left_join(df_species_metadata, by = c(\"key_plant_species\" = \"key_plant_species\")) %>% glimpse()"
      ],
      "execution_count": null,
      "outputs": [
        {
          "output_type": "stream",
          "text": [
            "Rows: 30,820\n",
            "Columns: 18\n",
            "$ plot_code           \u001b[3m\u001b[90m<chr>\u001b[39m\u001b[23m \"YVP N348\", \"YVP N348\", \"YVP N348\", \"YVP N348\", \"…\n",
            "$ plot_loc            \u001b[3m\u001b[90m<chr>\u001b[39m\u001b[23m \"N\", \"N\", \"N\", \"N\", \"N\", \"N\", \"N\", \"N\", \"N\", \"N\",…\n",
            "$ plot_rep            \u001b[3m\u001b[90m<chr>\u001b[39m\u001b[23m NA, NA, NA, NA, NA, NA, NA, NA, NA, NA, NA, NA, N…\n",
            "$ grid_point          \u001b[3m\u001b[90m<int>\u001b[39m\u001b[23m 348, 348, 348, 348, 348, 348, 348, 348, 348, 348,…\n",
            "$ date                \u001b[3m\u001b[90m<date>\u001b[39m\u001b[23m 2020-07-01, 2020-07-01, 2020-07-01, 2020-07-01, …\n",
            "$ subplot             \u001b[3m\u001b[90m<int>\u001b[39m\u001b[23m 1, 1, 1, 1, 1, 1, 1, 1, 1, 1, 1, 1, 1, 2, 2, 2, 2…\n",
            "$ key_plant_species   \u001b[3m\u001b[90m<int>\u001b[39m\u001b[23m 3, 24, 54, 161, 167, 199, 230, 410, 414, 433, 492…\n",
            "$ key_plant_code.x    \u001b[3m\u001b[90m<chr>\u001b[39m\u001b[23m \"ACEGLA\", \"AMEALN\", \"ARNCOR\", \"CRADOU\", \"CYNOFF\",…\n",
            "$ cover_pct           \u001b[3m\u001b[90m<dbl>\u001b[39m\u001b[23m 1, 1, 5, 1, 1, 15, 1, 15, 0, 1, 4, 35, 1, 5, 1, 3…\n",
            "$ year                \u001b[3m\u001b[90m<dbl>\u001b[39m\u001b[23m 2020, 2020, 2020, 2020, 2020, 2020, 2020, 2020, 2…\n",
            "$ key_plant_code.y    \u001b[3m\u001b[90m<chr>\u001b[39m\u001b[23m \"ACEGLA\", \"AMEALN\", \"ARNCOR\", \"CRADOU\", \"CYNOFF\",…\n",
            "$ plant_name_sci      \u001b[3m\u001b[90m<chr>\u001b[39m\u001b[23m \"Acer glabrum\", \"Amelanchier alnifolia\", \"Arnica …\n",
            "$ plant_name_syn      \u001b[3m\u001b[90m<chr>\u001b[39m\u001b[23m NA, NA, NA, NA, NA, \"Agropyron repens\", NA, NA, N…\n",
            "$ plant_name_common   \u001b[3m\u001b[90m<chr>\u001b[39m\u001b[23m \"Rocky Mountain maple\", \"saskatoon\", \"heartleaf a…\n",
            "$ plant_name_family   \u001b[3m\u001b[90m<chr>\u001b[39m\u001b[23m \"Aceraceae\", \"Rosaceae\", \"Asteraceae\", \"Rosaceae\"…\n",
            "$ plant_native_status \u001b[3m\u001b[90m<chr>\u001b[39m\u001b[23m \"native\", \"native\", \"native\", \"native\", \"nonnativ…\n",
            "$ plant_life_cycle    \u001b[3m\u001b[90m<chr>\u001b[39m\u001b[23m \"perennial\", \"perennial\", \"perennial\", \"perennial…\n",
            "$ plant_life_form     \u001b[3m\u001b[90m<chr>\u001b[39m\u001b[23m \"shrub\", \"shrub\", \"forb\", \"shrub\", \"forb\", \"grami…\n"
          ],
          "name": "stdout"
        }
      ]
    },
    {
      "cell_type": "markdown",
      "metadata": {
        "id": "ZKpQ4XhxGoKX"
      },
      "source": [
        "## Recode plant_life_cycle"
      ]
    },
    {
      "cell_type": "code",
      "metadata": {
        "id": "zerc8yRCQMzr",
        "colab": {
          "base_uri": "https://localhost:8080/"
        },
        "outputId": "b4b9a7dc-397b-40d3-b2b3-127c5a1180a7"
      },
      "source": [
        "# recode the levels of plant_life_cycle to simplify them\n",
        "df_recode_levels <- df_join %>%\n",
        "  mutate(plant_life_cycle = ifelse(plant_life_cycle == \"biennial perennial\" |\n",
        "                                   plant_life_cycle == \"annual perennial\" |\n",
        "                                   plant_life_cycle == \"annual biennial perennial\" |\n",
        "                                   plant_life_cycle == \"annual biennial\"\n",
        "                                   , \"multiple\", plant_life_cycle)) %>% glimpse()"
      ],
      "execution_count": null,
      "outputs": [
        {
          "output_type": "stream",
          "text": [
            "Rows: 30,820\n",
            "Columns: 18\n",
            "$ plot_code           \u001b[3m\u001b[90m<chr>\u001b[39m\u001b[23m \"YVP N348\", \"YVP N348\", \"YVP N348\", \"YVP N348\", \"…\n",
            "$ plot_loc            \u001b[3m\u001b[90m<chr>\u001b[39m\u001b[23m \"N\", \"N\", \"N\", \"N\", \"N\", \"N\", \"N\", \"N\", \"N\", \"N\",…\n",
            "$ plot_rep            \u001b[3m\u001b[90m<chr>\u001b[39m\u001b[23m NA, NA, NA, NA, NA, NA, NA, NA, NA, NA, NA, NA, N…\n",
            "$ grid_point          \u001b[3m\u001b[90m<int>\u001b[39m\u001b[23m 348, 348, 348, 348, 348, 348, 348, 348, 348, 348,…\n",
            "$ date                \u001b[3m\u001b[90m<date>\u001b[39m\u001b[23m 2020-07-01, 2020-07-01, 2020-07-01, 2020-07-01, …\n",
            "$ subplot             \u001b[3m\u001b[90m<int>\u001b[39m\u001b[23m 1, 1, 1, 1, 1, 1, 1, 1, 1, 1, 1, 1, 1, 2, 2, 2, 2…\n",
            "$ key_plant_species   \u001b[3m\u001b[90m<int>\u001b[39m\u001b[23m 3, 24, 54, 161, 167, 199, 230, 410, 414, 433, 492…\n",
            "$ key_plant_code.x    \u001b[3m\u001b[90m<chr>\u001b[39m\u001b[23m \"ACEGLA\", \"AMEALN\", \"ARNCOR\", \"CRADOU\", \"CYNOFF\",…\n",
            "$ cover_pct           \u001b[3m\u001b[90m<dbl>\u001b[39m\u001b[23m 1, 1, 5, 1, 1, 15, 1, 15, 0, 1, 4, 35, 1, 5, 1, 3…\n",
            "$ year                \u001b[3m\u001b[90m<dbl>\u001b[39m\u001b[23m 2020, 2020, 2020, 2020, 2020, 2020, 2020, 2020, 2…\n",
            "$ key_plant_code.y    \u001b[3m\u001b[90m<chr>\u001b[39m\u001b[23m \"ACEGLA\", \"AMEALN\", \"ARNCOR\", \"CRADOU\", \"CYNOFF\",…\n",
            "$ plant_name_sci      \u001b[3m\u001b[90m<chr>\u001b[39m\u001b[23m \"Acer glabrum\", \"Amelanchier alnifolia\", \"Arnica …\n",
            "$ plant_name_syn      \u001b[3m\u001b[90m<chr>\u001b[39m\u001b[23m NA, NA, NA, NA, NA, \"Agropyron repens\", NA, NA, N…\n",
            "$ plant_name_common   \u001b[3m\u001b[90m<chr>\u001b[39m\u001b[23m \"Rocky Mountain maple\", \"saskatoon\", \"heartleaf a…\n",
            "$ plant_name_family   \u001b[3m\u001b[90m<chr>\u001b[39m\u001b[23m \"Aceraceae\", \"Rosaceae\", \"Asteraceae\", \"Rosaceae\"…\n",
            "$ plant_native_status \u001b[3m\u001b[90m<chr>\u001b[39m\u001b[23m \"native\", \"native\", \"native\", \"native\", \"nonnativ…\n",
            "$ plant_life_cycle    \u001b[3m\u001b[90m<chr>\u001b[39m\u001b[23m \"perennial\", \"perennial\", \"perennial\", \"perennial…\n",
            "$ plant_life_form     \u001b[3m\u001b[90m<chr>\u001b[39m\u001b[23m \"shrub\", \"shrub\", \"forb\", \"shrub\", \"forb\", \"grami…\n"
          ],
          "name": "stdout"
        }
      ]
    },
    {
      "cell_type": "code",
      "metadata": {
        "id": "47AdLxHykSO9",
        "colab": {
          "base_uri": "https://localhost:8080/",
          "height": 540
        },
        "outputId": "acd8f3fc-52be-4dc0-de45-72e0297e75e6"
      },
      "source": [
        "# view levels\n",
        "df_recode_levels %>%\n",
        "  # mutate(survey_code = paste(plot_code, date)) %>%\n",
        "  distinct(plant_native_status, plant_life_cycle, plant_life_form) %>%\n",
        "  arrange(plant_native_status, plant_life_cycle, plant_life_form)"
      ],
      "execution_count": null,
      "outputs": [
        {
          "output_type": "display_data",
          "data": {
            "text/plain": [
              "   plant_native_status plant_life_cycle plant_life_form\n",
              "1  native              annual           forb           \n",
              "2  native              annual           graminoid      \n",
              "3  native              biennial         forb           \n",
              "4  native              multiple         forb           \n",
              "5  native              perennial        forb           \n",
              "6  native              perennial        graminoid      \n",
              "7  native              perennial        shrub          \n",
              "8  native              perennial        tree           \n",
              "9  native              unknown          forb           \n",
              "10 nonnative           annual           forb           \n",
              "11 nonnative           annual           graminoid      \n",
              "12 nonnative           biennial         forb           \n",
              "13 nonnative           multiple         forb           \n",
              "14 nonnative           perennial        forb           \n",
              "15 nonnative           perennial        graminoid      \n",
              "16 nonnative           unknown          graminoid      \n",
              "17 unknown             annual           forb           \n",
              "18 unknown             perennial        forb           \n",
              "19 unknown             perennial        graminoid      \n",
              "20 unknown             unknown          forb           \n",
              "21 unknown             unknown          graminoid      \n",
              "22 unknown             unknown          unknown        "
            ],
            "text/latex": "A data.frame: 22 × 3\n\\begin{tabular}{lll}\n plant\\_native\\_status & plant\\_life\\_cycle & plant\\_life\\_form\\\\\n <chr> & <chr> & <chr>\\\\\n\\hline\n\t native    & annual    & forb     \\\\\n\t native    & annual    & graminoid\\\\\n\t native    & biennial  & forb     \\\\\n\t native    & multiple  & forb     \\\\\n\t native    & perennial & forb     \\\\\n\t native    & perennial & graminoid\\\\\n\t native    & perennial & shrub    \\\\\n\t native    & perennial & tree     \\\\\n\t native    & unknown   & forb     \\\\\n\t nonnative & annual    & forb     \\\\\n\t nonnative & annual    & graminoid\\\\\n\t nonnative & biennial  & forb     \\\\\n\t nonnative & multiple  & forb     \\\\\n\t nonnative & perennial & forb     \\\\\n\t nonnative & perennial & graminoid\\\\\n\t nonnative & unknown   & graminoid\\\\\n\t unknown   & annual    & forb     \\\\\n\t unknown   & perennial & forb     \\\\\n\t unknown   & perennial & graminoid\\\\\n\t unknown   & unknown   & forb     \\\\\n\t unknown   & unknown   & graminoid\\\\\n\t unknown   & unknown   & unknown  \\\\\n\\end{tabular}\n",
            "text/markdown": "\nA data.frame: 22 × 3\n\n| plant_native_status &lt;chr&gt; | plant_life_cycle &lt;chr&gt; | plant_life_form &lt;chr&gt; |\n|---|---|---|\n| native    | annual    | forb      |\n| native    | annual    | graminoid |\n| native    | biennial  | forb      |\n| native    | multiple  | forb      |\n| native    | perennial | forb      |\n| native    | perennial | graminoid |\n| native    | perennial | shrub     |\n| native    | perennial | tree      |\n| native    | unknown   | forb      |\n| nonnative | annual    | forb      |\n| nonnative | annual    | graminoid |\n| nonnative | biennial  | forb      |\n| nonnative | multiple  | forb      |\n| nonnative | perennial | forb      |\n| nonnative | perennial | graminoid |\n| nonnative | unknown   | graminoid |\n| unknown   | annual    | forb      |\n| unknown   | perennial | forb      |\n| unknown   | perennial | graminoid |\n| unknown   | unknown   | forb      |\n| unknown   | unknown   | graminoid |\n| unknown   | unknown   | unknown   |\n\n",
            "text/html": [
              "<table>\n",
              "<caption>A data.frame: 22 × 3</caption>\n",
              "<thead>\n",
              "\t<tr><th scope=col>plant_native_status</th><th scope=col>plant_life_cycle</th><th scope=col>plant_life_form</th></tr>\n",
              "\t<tr><th scope=col>&lt;chr&gt;</th><th scope=col>&lt;chr&gt;</th><th scope=col>&lt;chr&gt;</th></tr>\n",
              "</thead>\n",
              "<tbody>\n",
              "\t<tr><td>native   </td><td>annual   </td><td>forb     </td></tr>\n",
              "\t<tr><td>native   </td><td>annual   </td><td>graminoid</td></tr>\n",
              "\t<tr><td>native   </td><td>biennial </td><td>forb     </td></tr>\n",
              "\t<tr><td>native   </td><td>multiple </td><td>forb     </td></tr>\n",
              "\t<tr><td>native   </td><td>perennial</td><td>forb     </td></tr>\n",
              "\t<tr><td>native   </td><td>perennial</td><td>graminoid</td></tr>\n",
              "\t<tr><td>native   </td><td>perennial</td><td>shrub    </td></tr>\n",
              "\t<tr><td>native   </td><td>perennial</td><td>tree     </td></tr>\n",
              "\t<tr><td>native   </td><td>unknown  </td><td>forb     </td></tr>\n",
              "\t<tr><td>nonnative</td><td>annual   </td><td>forb     </td></tr>\n",
              "\t<tr><td>nonnative</td><td>annual   </td><td>graminoid</td></tr>\n",
              "\t<tr><td>nonnative</td><td>biennial </td><td>forb     </td></tr>\n",
              "\t<tr><td>nonnative</td><td>multiple </td><td>forb     </td></tr>\n",
              "\t<tr><td>nonnative</td><td>perennial</td><td>forb     </td></tr>\n",
              "\t<tr><td>nonnative</td><td>perennial</td><td>graminoid</td></tr>\n",
              "\t<tr><td>nonnative</td><td>unknown  </td><td>graminoid</td></tr>\n",
              "\t<tr><td>unknown  </td><td>annual   </td><td>forb     </td></tr>\n",
              "\t<tr><td>unknown  </td><td>perennial</td><td>forb     </td></tr>\n",
              "\t<tr><td>unknown  </td><td>perennial</td><td>graminoid</td></tr>\n",
              "\t<tr><td>unknown  </td><td>unknown  </td><td>forb     </td></tr>\n",
              "\t<tr><td>unknown  </td><td>unknown  </td><td>graminoid</td></tr>\n",
              "\t<tr><td>unknown  </td><td>unknown  </td><td>unknown  </td></tr>\n",
              "</tbody>\n",
              "</table>\n"
            ]
          },
          "metadata": {
            "tags": []
          }
        }
      ]
    },
    {
      "cell_type": "markdown",
      "metadata": {
        "id": "j7JCb0Di99gi"
      },
      "source": [
        "## Create 'survey_code'"
      ]
    },
    {
      "cell_type": "code",
      "metadata": {
        "id": "iKevxnr9WFRI",
        "colab": {
          "base_uri": "https://localhost:8080/"
        },
        "outputId": "c72c6336-0e83-46e3-f4f0-df254452b9eb"
      },
      "source": [
        "# create survey_code variable\n",
        "df_survey_code <- df_recode_levels %>%\n",
        "  mutate(survey_code = paste(plot_code, date)) %>% glimpse()"
      ],
      "execution_count": null,
      "outputs": [
        {
          "output_type": "stream",
          "text": [
            "Rows: 30,820\n",
            "Columns: 19\n",
            "$ plot_code           \u001b[3m\u001b[90m<chr>\u001b[39m\u001b[23m \"YVP N348\", \"YVP N348\", \"YVP N348\", \"YVP N348\", \"…\n",
            "$ plot_loc            \u001b[3m\u001b[90m<chr>\u001b[39m\u001b[23m \"N\", \"N\", \"N\", \"N\", \"N\", \"N\", \"N\", \"N\", \"N\", \"N\",…\n",
            "$ plot_rep            \u001b[3m\u001b[90m<chr>\u001b[39m\u001b[23m NA, NA, NA, NA, NA, NA, NA, NA, NA, NA, NA, NA, N…\n",
            "$ grid_point          \u001b[3m\u001b[90m<int>\u001b[39m\u001b[23m 348, 348, 348, 348, 348, 348, 348, 348, 348, 348,…\n",
            "$ date                \u001b[3m\u001b[90m<date>\u001b[39m\u001b[23m 2020-07-01, 2020-07-01, 2020-07-01, 2020-07-01, …\n",
            "$ subplot             \u001b[3m\u001b[90m<int>\u001b[39m\u001b[23m 1, 1, 1, 1, 1, 1, 1, 1, 1, 1, 1, 1, 1, 2, 2, 2, 2…\n",
            "$ key_plant_species   \u001b[3m\u001b[90m<int>\u001b[39m\u001b[23m 3, 24, 54, 161, 167, 199, 230, 410, 414, 433, 492…\n",
            "$ key_plant_code.x    \u001b[3m\u001b[90m<chr>\u001b[39m\u001b[23m \"ACEGLA\", \"AMEALN\", \"ARNCOR\", \"CRADOU\", \"CYNOFF\",…\n",
            "$ cover_pct           \u001b[3m\u001b[90m<dbl>\u001b[39m\u001b[23m 1, 1, 5, 1, 1, 15, 1, 15, 0, 1, 4, 35, 1, 5, 1, 3…\n",
            "$ year                \u001b[3m\u001b[90m<dbl>\u001b[39m\u001b[23m 2020, 2020, 2020, 2020, 2020, 2020, 2020, 2020, 2…\n",
            "$ key_plant_code.y    \u001b[3m\u001b[90m<chr>\u001b[39m\u001b[23m \"ACEGLA\", \"AMEALN\", \"ARNCOR\", \"CRADOU\", \"CYNOFF\",…\n",
            "$ plant_name_sci      \u001b[3m\u001b[90m<chr>\u001b[39m\u001b[23m \"Acer glabrum\", \"Amelanchier alnifolia\", \"Arnica …\n",
            "$ plant_name_syn      \u001b[3m\u001b[90m<chr>\u001b[39m\u001b[23m NA, NA, NA, NA, NA, \"Agropyron repens\", NA, NA, N…\n",
            "$ plant_name_common   \u001b[3m\u001b[90m<chr>\u001b[39m\u001b[23m \"Rocky Mountain maple\", \"saskatoon\", \"heartleaf a…\n",
            "$ plant_name_family   \u001b[3m\u001b[90m<chr>\u001b[39m\u001b[23m \"Aceraceae\", \"Rosaceae\", \"Asteraceae\", \"Rosaceae\"…\n",
            "$ plant_native_status \u001b[3m\u001b[90m<chr>\u001b[39m\u001b[23m \"native\", \"native\", \"native\", \"native\", \"nonnativ…\n",
            "$ plant_life_cycle    \u001b[3m\u001b[90m<chr>\u001b[39m\u001b[23m \"perennial\", \"perennial\", \"perennial\", \"perennial…\n",
            "$ plant_life_form     \u001b[3m\u001b[90m<chr>\u001b[39m\u001b[23m \"shrub\", \"shrub\", \"forb\", \"shrub\", \"forb\", \"grami…\n",
            "$ survey_code         \u001b[3m\u001b[90m<chr>\u001b[39m\u001b[23m \"YVP N348 2020-07-01\", \"YVP N348 2020-07-01\", \"YV…\n"
          ],
          "name": "stdout"
        }
      ]
    },
    {
      "cell_type": "code",
      "metadata": {
        "id": "P4Vdqyk8iTNM"
      },
      "source": [
        "# use df_survey_code to join _loc _rep etc back into df\n",
        "# or make df with only variables"
      ],
      "execution_count": null,
      "outputs": []
    },
    {
      "cell_type": "markdown",
      "metadata": {
        "id": "nl3U8t6YCzbR"
      },
      "source": [
        "## Create 'cover_pct_avg'"
      ]
    },
    {
      "cell_type": "code",
      "metadata": {
        "id": "Aim8-6fhaguk",
        "colab": {
          "base_uri": "https://localhost:8080/"
        },
        "outputId": "124616da-2329-421f-bac2-acca95e4c9cb"
      },
      "source": [
        "# calculate cover_pct_sum\n",
        "df_cover_sum <- df_survey_code %>%\n",
        "  group_by(survey_code, subplot, plant_native_status, plant_life_cycle, plant_life_form) %>%\n",
        "  summarise(cover_pct_sum = (sum(cover_pct))) %>% ungroup() %>% \n",
        "  glimpse()"
      ],
      "execution_count": null,
      "outputs": [
        {
          "output_type": "stream",
          "text": [
            "`summarise()` regrouping output by 'survey_code', 'subplot', 'plant_native_status', 'plant_life_cycle' (override with `.groups` argument)\n",
            "\n"
          ],
          "name": "stderr"
        },
        {
          "output_type": "stream",
          "text": [
            "Rows: 13,811\n",
            "Columns: 6\n",
            "$ survey_code         \u001b[3m\u001b[90m<chr>\u001b[39m\u001b[23m \"YVP 10 2017-06-09\", \"YVP 10 2017-06-09\", \"YVP 10…\n",
            "$ subplot             \u001b[3m\u001b[90m<int>\u001b[39m\u001b[23m 1, 1, 1, 1, 1, 1, 2, 2, 2, 2, 2, 3, 3, 3, 3, 4, 4…\n",
            "$ plant_native_status \u001b[3m\u001b[90m<chr>\u001b[39m\u001b[23m \"native\", \"native\", \"native\", \"native\", \"nonnativ…\n",
            "$ plant_life_cycle    \u001b[3m\u001b[90m<chr>\u001b[39m\u001b[23m \"annual\", \"multiple\", \"perennial\", \"perennial\", \"…\n",
            "$ plant_life_form     \u001b[3m\u001b[90m<chr>\u001b[39m\u001b[23m \"forb\", \"forb\", \"forb\", \"graminoid\", \"forb\", \"for…\n",
            "$ cover_pct_sum       \u001b[3m\u001b[90m<dbl>\u001b[39m\u001b[23m 1, 1, 49, 50, 3, 5, 29, 60, 2, 4, 5, 67, 25, 3, 3…\n"
          ],
          "name": "stdout"
        }
      ]
    },
    {
      "cell_type": "code",
      "metadata": {
        "id": "n9T2rKulbnJI",
        "colab": {
          "base_uri": "https://localhost:8080/"
        },
        "outputId": "c8b4f06a-251a-474d-eab8-3268ff3471ce"
      },
      "source": [
        "df_cover_avg <- df_cover_sum %>%\n",
        "  group_by(survey_code, plant_native_status, plant_life_cycle, plant_life_form) %>%\n",
        "  summarise(cover_pct_avg = sum(cover_pct_sum) / 10) %>% ungroup() %>% ungroup() %>%\n",
        "  glimpse()"
      ],
      "execution_count": null,
      "outputs": [
        {
          "output_type": "stream",
          "text": [
            "`summarise()` regrouping output by 'survey_code', 'plant_native_status', 'plant_life_cycle' (override with `.groups` argument)\n",
            "\n"
          ],
          "name": "stderr"
        },
        {
          "output_type": "stream",
          "text": [
            "Rows: 2,088\n",
            "Columns: 5\n",
            "$ survey_code         \u001b[3m\u001b[90m<chr>\u001b[39m\u001b[23m \"YVP 10 2017-06-09\", \"YVP 10 2017-06-09\", \"YVP 10…\n",
            "$ plant_native_status \u001b[3m\u001b[90m<chr>\u001b[39m\u001b[23m \"native\", \"native\", \"native\", \"native\", \"nonnativ…\n",
            "$ plant_life_cycle    \u001b[3m\u001b[90m<chr>\u001b[39m\u001b[23m \"annual\", \"multiple\", \"perennial\", \"perennial\", \"…\n",
            "$ plant_life_form     \u001b[3m\u001b[90m<chr>\u001b[39m\u001b[23m \"forb\", \"forb\", \"forb\", \"graminoid\", \"forb\", \"gra…\n",
            "$ cover_pct_avg       \u001b[3m\u001b[90m<dbl>\u001b[39m\u001b[23m 0.8, 0.2, 32.9, 49.5, 3.7, 2.0, 1.1, 4.5, 4.1, 0.…\n"
          ],
          "name": "stdout"
        }
      ]
    },
    {
      "cell_type": "markdown",
      "metadata": {
        "id": "d-PDapd_FX4g"
      },
      "source": [
        "## Complete"
      ]
    },
    {
      "cell_type": "markdown",
      "metadata": {
        "id": "PRWIID4WFotj"
      },
      "source": [
        "After simplifying the functional groups and producing transect averages of plant cover, make sure all combinations of functional groups that are found in the data are represented in each survey_code. For those groups which were not detected at a survey_code, fill the detection_rate with 0. This makes it possible to produce meaningful averages of functional group detections within habitat polygons or years without creating a positive bias for rarer functional groups. In other words, zero detection of a functional group at a grid point is a real zero, not a missing value."
      ]
    },
    {
      "cell_type": "code",
      "metadata": {
        "id": "GC2LhxuRg12f",
        "colab": {
          "base_uri": "https://localhost:8080/"
        },
        "outputId": "6d74cecc-013b-4947-cae8-d4d71a1c1674"
      },
      "source": [
        "df_cover_avg %>% glimpse()"
      ],
      "execution_count": null,
      "outputs": [
        {
          "output_type": "stream",
          "text": [
            "Rows: 2,088\n",
            "Columns: 5\n",
            "$ survey_code         \u001b[3m\u001b[90m<chr>\u001b[39m\u001b[23m \"YVP 10 2017-06-09\", \"YVP 10 2017-06-09\", \"YVP 10…\n",
            "$ plant_native_status \u001b[3m\u001b[90m<chr>\u001b[39m\u001b[23m \"native\", \"native\", \"native\", \"native\", \"nonnativ…\n",
            "$ plant_life_cycle    \u001b[3m\u001b[90m<chr>\u001b[39m\u001b[23m \"annual\", \"multiple\", \"perennial\", \"perennial\", \"…\n",
            "$ plant_life_form     \u001b[3m\u001b[90m<chr>\u001b[39m\u001b[23m \"forb\", \"forb\", \"forb\", \"graminoid\", \"forb\", \"gra…\n",
            "$ cover_pct_avg       \u001b[3m\u001b[90m<dbl>\u001b[39m\u001b[23m 0.8, 0.2, 32.9, 49.5, 3.7, 2.0, 1.1, 4.5, 4.1, 0.…\n"
          ],
          "name": "stdout"
        }
      ]
    },
    {
      "cell_type": "code",
      "metadata": {
        "id": "0j3iMJ3cQMnL",
        "colab": {
          "base_uri": "https://localhost:8080/"
        },
        "outputId": "7a4c2cb9-19c0-461e-b60b-c8df05792629"
      },
      "source": [
        "df_complete <- df_cover_avg %>%\n",
        "  complete(survey_code,\n",
        "           nesting(plant_native_status, plant_life_cycle, plant_life_form),\n",
        "           fill = list(cover_pct_avg = 0)) %>%\n",
        "  arrange(survey_code, plant_native_status, plant_life_cycle, plant_life_form) %>% glimpse()"
      ],
      "execution_count": null,
      "outputs": [
        {
          "output_type": "stream",
          "text": [
            "Rows: 5,126\n",
            "Columns: 5\n",
            "$ survey_code         \u001b[3m\u001b[90m<chr>\u001b[39m\u001b[23m \"YVP 10 2017-06-09\", \"YVP 10 2017-06-09\", \"YVP 10…\n",
            "$ plant_native_status \u001b[3m\u001b[90m<chr>\u001b[39m\u001b[23m \"native\", \"native\", \"native\", \"native\", \"native\",…\n",
            "$ plant_life_cycle    \u001b[3m\u001b[90m<chr>\u001b[39m\u001b[23m \"annual\", \"annual\", \"biennial\", \"multiple\", \"pere…\n",
            "$ plant_life_form     \u001b[3m\u001b[90m<chr>\u001b[39m\u001b[23m \"forb\", \"graminoid\", \"forb\", \"forb\", \"forb\", \"gra…\n",
            "$ cover_pct_avg       \u001b[3m\u001b[90m<dbl>\u001b[39m\u001b[23m 0.8, 0.0, 0.0, 0.2, 32.9, 49.5, 0.0, 0.0, 0.0, 3.…\n"
          ],
          "name": "stdout"
        }
      ]
    },
    {
      "cell_type": "markdown",
      "metadata": {
        "id": "__IGnWQLycLR"
      },
      "source": [
        "## year"
      ]
    },
    {
      "cell_type": "code",
      "metadata": {
        "id": "fGcuzxK8yFTj",
        "colab": {
          "base_uri": "https://localhost:8080/"
        },
        "outputId": "9df10937-9c7e-4f4d-fa1d-dfb2e0fd98da"
      },
      "source": [
        "df_year <- df_complete %>%\n",
        "  mutate(year = substring(survey_code, nchar(survey_code)-9, nchar(survey_code)-6)) %>% glimpse()"
      ],
      "execution_count": null,
      "outputs": [
        {
          "output_type": "stream",
          "text": [
            "Rows: 5,126\n",
            "Columns: 6\n",
            "$ survey_code         \u001b[3m\u001b[90m<chr>\u001b[39m\u001b[23m \"YVP 10 2017-06-09\", \"YVP 10 2017-06-09\", \"YVP 10…\n",
            "$ plant_native_status \u001b[3m\u001b[90m<chr>\u001b[39m\u001b[23m \"native\", \"native\", \"native\", \"native\", \"native\",…\n",
            "$ plant_life_cycle    \u001b[3m\u001b[90m<chr>\u001b[39m\u001b[23m \"annual\", \"annual\", \"biennial\", \"multiple\", \"pere…\n",
            "$ plant_life_form     \u001b[3m\u001b[90m<chr>\u001b[39m\u001b[23m \"forb\", \"graminoid\", \"forb\", \"forb\", \"forb\", \"gra…\n",
            "$ cover_pct_avg       \u001b[3m\u001b[90m<dbl>\u001b[39m\u001b[23m 0.8, 0.0, 0.0, 0.2, 32.9, 49.5, 0.0, 0.0, 0.0, 3.…\n",
            "$ year                \u001b[3m\u001b[90m<chr>\u001b[39m\u001b[23m \"2017\", \"2017\", \"2017\", \"2017\", \"2017\", \"2017\", \"…\n"
          ],
          "name": "stdout"
        }
      ]
    },
    {
      "cell_type": "markdown",
      "metadata": {
        "id": "fvV3zj3uvsGU"
      },
      "source": [
        "## plot_code"
      ]
    },
    {
      "cell_type": "code",
      "metadata": {
        "id": "lkHOGonCvtpY",
        "colab": {
          "base_uri": "https://localhost:8080/"
        },
        "outputId": "0bfae6d2-b267-4099-9132-d72cec0af82a"
      },
      "source": [
        "# bring plot_code back in by removing date\n",
        " df_plot_code <- df_year %>%\n",
        "  mutate(plot_code = substring(survey_code, 1,nchar(survey_code)-11)) %>% glimpse()"
      ],
      "execution_count": null,
      "outputs": [
        {
          "output_type": "stream",
          "text": [
            "Rows: 5,126\n",
            "Columns: 7\n",
            "$ survey_code         \u001b[3m\u001b[90m<chr>\u001b[39m\u001b[23m \"YVP 10 2017-06-09\", \"YVP 10 2017-06-09\", \"YVP 10…\n",
            "$ plant_native_status \u001b[3m\u001b[90m<chr>\u001b[39m\u001b[23m \"native\", \"native\", \"native\", \"native\", \"native\",…\n",
            "$ plant_life_cycle    \u001b[3m\u001b[90m<chr>\u001b[39m\u001b[23m \"annual\", \"annual\", \"biennial\", \"multiple\", \"pere…\n",
            "$ plant_life_form     \u001b[3m\u001b[90m<chr>\u001b[39m\u001b[23m \"forb\", \"graminoid\", \"forb\", \"forb\", \"forb\", \"gra…\n",
            "$ cover_pct_avg       \u001b[3m\u001b[90m<dbl>\u001b[39m\u001b[23m 0.8, 0.0, 0.0, 0.2, 32.9, 49.5, 0.0, 0.0, 0.0, 3.…\n",
            "$ year                \u001b[3m\u001b[90m<chr>\u001b[39m\u001b[23m \"2017\", \"2017\", \"2017\", \"2017\", \"2017\", \"2017\", \"…\n",
            "$ plot_code           \u001b[3m\u001b[90m<chr>\u001b[39m\u001b[23m \"YVP 10\", \"YVP 10\", \"YVP 10\", \"YVP 10\", \"YVP 10\",…\n"
          ],
          "name": "stdout"
        }
      ]
    },
    {
      "cell_type": "markdown",
      "metadata": {
        "id": "HzV9R6ddq2tp"
      },
      "source": [
        "## plot_loc"
      ]
    },
    {
      "cell_type": "code",
      "metadata": {
        "id": "B13X_89wswt5",
        "colab": {
          "base_uri": "https://localhost:8080/"
        },
        "outputId": "bd4e8007-dfef-4240-ba0d-67a18e57d53e"
      },
      "source": [
        "# detect \"N\" in 'plot_code' and write to new column 'plot_loc'\n",
        "df_plot_loc <- df_plot_code %>%\n",
        "  mutate(plot_loc = ifelse(str_detect(plot_code, \"N\"), \"N\", NA)) %>% glimpse()"
      ],
      "execution_count": null,
      "outputs": [
        {
          "output_type": "stream",
          "text": [
            "Rows: 5,126\n",
            "Columns: 8\n",
            "$ survey_code         \u001b[3m\u001b[90m<chr>\u001b[39m\u001b[23m \"YVP 10 2017-06-09\", \"YVP 10 2017-06-09\", \"YVP 10…\n",
            "$ plant_native_status \u001b[3m\u001b[90m<chr>\u001b[39m\u001b[23m \"native\", \"native\", \"native\", \"native\", \"native\",…\n",
            "$ plant_life_cycle    \u001b[3m\u001b[90m<chr>\u001b[39m\u001b[23m \"annual\", \"annual\", \"biennial\", \"multiple\", \"pere…\n",
            "$ plant_life_form     \u001b[3m\u001b[90m<chr>\u001b[39m\u001b[23m \"forb\", \"graminoid\", \"forb\", \"forb\", \"forb\", \"gra…\n",
            "$ cover_pct_avg       \u001b[3m\u001b[90m<dbl>\u001b[39m\u001b[23m 0.8, 0.0, 0.0, 0.2, 32.9, 49.5, 0.0, 0.0, 0.0, 3.…\n",
            "$ year                \u001b[3m\u001b[90m<chr>\u001b[39m\u001b[23m \"2017\", \"2017\", \"2017\", \"2017\", \"2017\", \"2017\", \"…\n",
            "$ plot_code           \u001b[3m\u001b[90m<chr>\u001b[39m\u001b[23m \"YVP 10\", \"YVP 10\", \"YVP 10\", \"YVP 10\", \"YVP 10\",…\n",
            "$ plot_loc            \u001b[3m\u001b[90m<chr>\u001b[39m\u001b[23m NA, NA, NA, NA, NA, NA, NA, NA, NA, NA, NA, NA, N…\n"
          ],
          "name": "stdout"
        }
      ]
    },
    {
      "cell_type": "markdown",
      "metadata": {
        "id": "AJ0UHbgmq87E"
      },
      "source": [
        "## plot_rep"
      ]
    },
    {
      "cell_type": "code",
      "metadata": {
        "id": "niB0f1CZohJL",
        "colab": {
          "base_uri": "https://localhost:8080/"
        },
        "outputId": "d4adc017-c643-4594-ea1e-9b5e989c9f90"
      },
      "source": [
        "# detect \"A\", \"B\", \"C\" characters in plot_code and if present write to 'plot_rep'\n",
        "df_plot_rep <- df_plot_loc %>%\n",
        "  mutate(plot_rep = case_when(str_detect(plot_code, \"A\")~\"A\",\n",
        "                              str_detect(plot_code, \"B\")~\"B\",\n",
        "                              str_detect(plot_code, \"C\")~\"C\")) %>% glimpse()"
      ],
      "execution_count": null,
      "outputs": [
        {
          "output_type": "stream",
          "text": [
            "Rows: 5,126\n",
            "Columns: 9\n",
            "$ survey_code         \u001b[3m\u001b[90m<chr>\u001b[39m\u001b[23m \"YVP 10 2017-06-09\", \"YVP 10 2017-06-09\", \"YVP 10…\n",
            "$ plant_native_status \u001b[3m\u001b[90m<chr>\u001b[39m\u001b[23m \"native\", \"native\", \"native\", \"native\", \"native\",…\n",
            "$ plant_life_cycle    \u001b[3m\u001b[90m<chr>\u001b[39m\u001b[23m \"annual\", \"annual\", \"biennial\", \"multiple\", \"pere…\n",
            "$ plant_life_form     \u001b[3m\u001b[90m<chr>\u001b[39m\u001b[23m \"forb\", \"graminoid\", \"forb\", \"forb\", \"forb\", \"gra…\n",
            "$ cover_pct_avg       \u001b[3m\u001b[90m<dbl>\u001b[39m\u001b[23m 0.8, 0.0, 0.0, 0.2, 32.9, 49.5, 0.0, 0.0, 0.0, 3.…\n",
            "$ year                \u001b[3m\u001b[90m<chr>\u001b[39m\u001b[23m \"2017\", \"2017\", \"2017\", \"2017\", \"2017\", \"2017\", \"…\n",
            "$ plot_code           \u001b[3m\u001b[90m<chr>\u001b[39m\u001b[23m \"YVP 10\", \"YVP 10\", \"YVP 10\", \"YVP 10\", \"YVP 10\",…\n",
            "$ plot_loc            \u001b[3m\u001b[90m<chr>\u001b[39m\u001b[23m NA, NA, NA, NA, NA, NA, NA, NA, NA, NA, NA, NA, N…\n",
            "$ plot_rep            \u001b[3m\u001b[90m<chr>\u001b[39m\u001b[23m NA, NA, NA, NA, NA, NA, NA, NA, NA, NA, NA, NA, N…\n"
          ],
          "name": "stdout"
        }
      ]
    },
    {
      "cell_type": "markdown",
      "metadata": {
        "id": "g7-RhgZwrATm"
      },
      "source": [
        "## grid_point"
      ]
    },
    {
      "cell_type": "code",
      "metadata": {
        "id": "jIX2Zkf5ohGR",
        "colab": {
          "base_uri": "https://localhost:8080/"
        },
        "outputId": "db15d1c9-0214-4cb3-e8be-2e5697d11998"
      },
      "source": [
        "# use digital values from 'plot_code' to populate 'grid_point'\n",
        "df_grid_point <- df_plot_rep %>%\n",
        "  mutate(grid_point = str_extract(plot_code, \"[:digit:].*\"),\n",
        "         grid_point = as.integer(grid_point)) %>% glimpse()"
      ],
      "execution_count": null,
      "outputs": [
        {
          "output_type": "stream",
          "text": [
            "Rows: 5,126\n",
            "Columns: 10\n",
            "$ survey_code         \u001b[3m\u001b[90m<chr>\u001b[39m\u001b[23m \"YVP 10 2017-06-09\", \"YVP 10 2017-06-09\", \"YVP 10…\n",
            "$ plant_native_status \u001b[3m\u001b[90m<chr>\u001b[39m\u001b[23m \"native\", \"native\", \"native\", \"native\", \"native\",…\n",
            "$ plant_life_cycle    \u001b[3m\u001b[90m<chr>\u001b[39m\u001b[23m \"annual\", \"annual\", \"biennial\", \"multiple\", \"pere…\n",
            "$ plant_life_form     \u001b[3m\u001b[90m<chr>\u001b[39m\u001b[23m \"forb\", \"graminoid\", \"forb\", \"forb\", \"forb\", \"gra…\n",
            "$ cover_pct_avg       \u001b[3m\u001b[90m<dbl>\u001b[39m\u001b[23m 0.8, 0.0, 0.0, 0.2, 32.9, 49.5, 0.0, 0.0, 0.0, 3.…\n",
            "$ year                \u001b[3m\u001b[90m<chr>\u001b[39m\u001b[23m \"2017\", \"2017\", \"2017\", \"2017\", \"2017\", \"2017\", \"…\n",
            "$ plot_code           \u001b[3m\u001b[90m<chr>\u001b[39m\u001b[23m \"YVP 10\", \"YVP 10\", \"YVP 10\", \"YVP 10\", \"YVP 10\",…\n",
            "$ plot_loc            \u001b[3m\u001b[90m<chr>\u001b[39m\u001b[23m NA, NA, NA, NA, NA, NA, NA, NA, NA, NA, NA, NA, N…\n",
            "$ plot_rep            \u001b[3m\u001b[90m<chr>\u001b[39m\u001b[23m NA, NA, NA, NA, NA, NA, NA, NA, NA, NA, NA, NA, N…\n",
            "$ grid_point          \u001b[3m\u001b[90m<int>\u001b[39m\u001b[23m 10, 10, 10, 10, 10, 10, 10, 10, 10, 10, 10, 10, 1…\n"
          ],
          "name": "stdout"
        }
      ]
    },
    {
      "cell_type": "markdown",
      "metadata": {
        "id": "O4yrnXRzxAPW"
      },
      "source": [
        "## Join"
      ]
    },
    {
      "cell_type": "markdown",
      "metadata": {
        "id": "DByHfKAlxC5Y"
      },
      "source": [
        "### location_position_classification"
      ]
    },
    {
      "cell_type": "code",
      "metadata": {
        "id": "90n2NMJ2xOtb",
        "colab": {
          "base_uri": "https://localhost:8080/"
        },
        "outputId": "cad942a8-8dea-4ad9-c78f-58f85db44518"
      },
      "source": [
        "df_position_classification %>% glimpse()"
      ],
      "execution_count": null,
      "outputs": [
        {
          "output_type": "stream",
          "text": [
            "Rows: 582\n",
            "Columns: 7\n",
            "$ grid_point                  \u001b[3m\u001b[90m<int>\u001b[39m\u001b[23m 1, 2, 3, 4, 5, 6, 7, 8, 9, 10, 11, 12, 13…\n",
            "$ aspect_mean_deg             \u001b[3m\u001b[90m<dbl>\u001b[39m\u001b[23m 334.7050, 45.3030, 221.3340, 290.4890, 28…\n",
            "$ elevation_mean_m            \u001b[3m\u001b[90m<dbl>\u001b[39m\u001b[23m 1395.64, 1456.09, 1126.90, 1166.33, 1179.…\n",
            "$ slope_mean_deg              \u001b[3m\u001b[90m<dbl>\u001b[39m\u001b[23m 28.44230, 12.22630, 4.25130, 2.68361, 4.2…\n",
            "$ cover_type_2016_gridVeg     \u001b[3m\u001b[90m<chr>\u001b[39m\u001b[23m \"woodland/forest\", \"non-irrigated grassla…\n",
            "$ type3_vegetation_indicators \u001b[3m\u001b[90m<chr>\u001b[39m\u001b[23m \"mixed canopy conifer\", \"uncultivated gra…\n",
            "$ type4_indicators_history    \u001b[3m\u001b[90m<chr>\u001b[39m\u001b[23m \"mixed canopy conifer\", \"uncultivated gra…\n"
          ],
          "name": "stdout"
        }
      ]
    },
    {
      "cell_type": "code",
      "metadata": {
        "id": "cDDj7T0jwvxB",
        "colab": {
          "base_uri": "https://localhost:8080/"
        },
        "outputId": "f2a878b1-0c5f-4035-f88c-24e24533115f"
      },
      "source": [
        "df_join_position_class <- df_grid_point %>%\n",
        "  left_join(df_position_classification) %>% glimpse()"
      ],
      "execution_count": null,
      "outputs": [
        {
          "output_type": "stream",
          "text": [
            "Joining, by = \"grid_point\"\n",
            "\n"
          ],
          "name": "stderr"
        },
        {
          "output_type": "stream",
          "text": [
            "Rows: 5,126\n",
            "Columns: 16\n",
            "$ survey_code                 \u001b[3m\u001b[90m<chr>\u001b[39m\u001b[23m \"YVP 10 2017-06-09\", \"YVP 10 2017-06-09\",…\n",
            "$ plant_native_status         \u001b[3m\u001b[90m<chr>\u001b[39m\u001b[23m \"native\", \"native\", \"native\", \"native\", \"…\n",
            "$ plant_life_cycle            \u001b[3m\u001b[90m<chr>\u001b[39m\u001b[23m \"annual\", \"annual\", \"biennial\", \"multiple…\n",
            "$ plant_life_form             \u001b[3m\u001b[90m<chr>\u001b[39m\u001b[23m \"forb\", \"graminoid\", \"forb\", \"forb\", \"for…\n",
            "$ cover_pct_avg               \u001b[3m\u001b[90m<dbl>\u001b[39m\u001b[23m 0.8, 0.0, 0.0, 0.2, 32.9, 49.5, 0.0, 0.0,…\n",
            "$ year                        \u001b[3m\u001b[90m<chr>\u001b[39m\u001b[23m \"2017\", \"2017\", \"2017\", \"2017\", \"2017\", \"…\n",
            "$ plot_code                   \u001b[3m\u001b[90m<chr>\u001b[39m\u001b[23m \"YVP 10\", \"YVP 10\", \"YVP 10\", \"YVP 10\", \"…\n",
            "$ plot_loc                    \u001b[3m\u001b[90m<chr>\u001b[39m\u001b[23m NA, NA, NA, NA, NA, NA, NA, NA, NA, NA, N…\n",
            "$ plot_rep                    \u001b[3m\u001b[90m<chr>\u001b[39m\u001b[23m NA, NA, NA, NA, NA, NA, NA, NA, NA, NA, N…\n",
            "$ grid_point                  \u001b[3m\u001b[90m<int>\u001b[39m\u001b[23m 10, 10, 10, 10, 10, 10, 10, 10, 10, 10, 1…\n",
            "$ aspect_mean_deg             \u001b[3m\u001b[90m<dbl>\u001b[39m\u001b[23m 18.8095, 18.8095, 18.8095, 18.8095, 18.80…\n",
            "$ elevation_mean_m            \u001b[3m\u001b[90m<dbl>\u001b[39m\u001b[23m 1146.9, 1146.9, 1146.9, 1146.9, 1146.9, 1…\n",
            "$ slope_mean_deg              \u001b[3m\u001b[90m<dbl>\u001b[39m\u001b[23m 20.794, 20.794, 20.794, 20.794, 20.794, 2…\n",
            "$ cover_type_2016_gridVeg     \u001b[3m\u001b[90m<chr>\u001b[39m\u001b[23m \"non-irrigated grasslands\", \"non-irrigate…\n",
            "$ type3_vegetation_indicators \u001b[3m\u001b[90m<chr>\u001b[39m\u001b[23m \"wooded draw\", \"wooded draw\", \"wooded dra…\n",
            "$ type4_indicators_history    \u001b[3m\u001b[90m<chr>\u001b[39m\u001b[23m \"wooded draw\", \"wooded draw\", \"wooded dra…\n"
          ],
          "name": "stdout"
        }
      ]
    },
    {
      "cell_type": "markdown",
      "metadata": {
        "id": "emQbouLu11ct"
      },
      "source": [
        "## Reorder"
      ]
    },
    {
      "cell_type": "code",
      "metadata": {
        "id": "0zec8NEiwvuC",
        "colab": {
          "base_uri": "https://localhost:8080/",
          "height": 51
        },
        "outputId": "4dc7c97c-0593-496b-974d-305e62003eef"
      },
      "source": [
        "names(df_join_position_class)"
      ],
      "execution_count": null,
      "outputs": [
        {
          "output_type": "display_data",
          "data": {
            "text/plain": [
              " [1] \"survey_code\"                 \"plant_native_status\"        \n",
              " [3] \"plant_life_cycle\"            \"plant_life_form\"            \n",
              " [5] \"cover_pct_avg\"               \"year\"                       \n",
              " [7] \"plot_code\"                   \"plot_loc\"                   \n",
              " [9] \"plot_rep\"                    \"grid_point\"                 \n",
              "[11] \"aspect_mean_deg\"             \"elevation_mean_m\"           \n",
              "[13] \"slope_mean_deg\"              \"cover_type_2016_gridVeg\"    \n",
              "[15] \"type3_vegetation_indicators\" \"type4_indicators_history\"   "
            ],
            "text/latex": "\\begin{enumerate*}\n\\item 'survey\\_code'\n\\item 'plant\\_native\\_status'\n\\item 'plant\\_life\\_cycle'\n\\item 'plant\\_life\\_form'\n\\item 'cover\\_pct\\_avg'\n\\item 'year'\n\\item 'plot\\_code'\n\\item 'plot\\_loc'\n\\item 'plot\\_rep'\n\\item 'grid\\_point'\n\\item 'aspect\\_mean\\_deg'\n\\item 'elevation\\_mean\\_m'\n\\item 'slope\\_mean\\_deg'\n\\item 'cover\\_type\\_2016\\_gridVeg'\n\\item 'type3\\_vegetation\\_indicators'\n\\item 'type4\\_indicators\\_history'\n\\end{enumerate*}\n",
            "text/markdown": "1. 'survey_code'\n2. 'plant_native_status'\n3. 'plant_life_cycle'\n4. 'plant_life_form'\n5. 'cover_pct_avg'\n6. 'year'\n7. 'plot_code'\n8. 'plot_loc'\n9. 'plot_rep'\n10. 'grid_point'\n11. 'aspect_mean_deg'\n12. 'elevation_mean_m'\n13. 'slope_mean_deg'\n14. 'cover_type_2016_gridVeg'\n15. 'type3_vegetation_indicators'\n16. 'type4_indicators_history'\n\n\n",
            "text/html": [
              "<style>\n",
              ".list-inline {list-style: none; margin:0; padding: 0}\n",
              ".list-inline>li {display: inline-block}\n",
              ".list-inline>li:not(:last-child)::after {content: \"\\00b7\"; padding: 0 .5ex}\n",
              "</style>\n",
              "<ol class=list-inline><li>'survey_code'</li><li>'plant_native_status'</li><li>'plant_life_cycle'</li><li>'plant_life_form'</li><li>'cover_pct_avg'</li><li>'year'</li><li>'plot_code'</li><li>'plot_loc'</li><li>'plot_rep'</li><li>'grid_point'</li><li>'aspect_mean_deg'</li><li>'elevation_mean_m'</li><li>'slope_mean_deg'</li><li>'cover_type_2016_gridVeg'</li><li>'type3_vegetation_indicators'</li><li>'type4_indicators_history'</li></ol>\n"
            ]
          },
          "metadata": {
            "tags": []
          }
        }
      ]
    },
    {
      "cell_type": "code",
      "metadata": {
        "id": "0Nr1lz2uwvrJ",
        "colab": {
          "base_uri": "https://localhost:8080/"
        },
        "outputId": "f7ef101b-6452-4cc2-b508-0dbbf92c7f4f"
      },
      "source": [
        "df_yvp_plant_functional_groups <-\n",
        "df_join_position_class[c(\"survey_code\",\"plot_code\",\"year\",\"plot_loc\",\"plot_rep\",\n",
        "                         \"grid_point\", \"plant_native_status\",\"plant_life_cycle\",\"plant_life_form\",\"cover_pct_avg\")] %>%\n",
        "  glimpse()"
      ],
      "execution_count": null,
      "outputs": [
        {
          "output_type": "stream",
          "text": [
            "Rows: 5,126\n",
            "Columns: 10\n",
            "$ survey_code         \u001b[3m\u001b[90m<chr>\u001b[39m\u001b[23m \"YVP 10 2017-06-09\", \"YVP 10 2017-06-09\", \"YVP 10…\n",
            "$ plot_code           \u001b[3m\u001b[90m<chr>\u001b[39m\u001b[23m \"YVP 10\", \"YVP 10\", \"YVP 10\", \"YVP 10\", \"YVP 10\",…\n",
            "$ year                \u001b[3m\u001b[90m<chr>\u001b[39m\u001b[23m \"2017\", \"2017\", \"2017\", \"2017\", \"2017\", \"2017\", \"…\n",
            "$ plot_loc            \u001b[3m\u001b[90m<chr>\u001b[39m\u001b[23m NA, NA, NA, NA, NA, NA, NA, NA, NA, NA, NA, NA, N…\n",
            "$ plot_rep            \u001b[3m\u001b[90m<chr>\u001b[39m\u001b[23m NA, NA, NA, NA, NA, NA, NA, NA, NA, NA, NA, NA, N…\n",
            "$ grid_point          \u001b[3m\u001b[90m<int>\u001b[39m\u001b[23m 10, 10, 10, 10, 10, 10, 10, 10, 10, 10, 10, 10, 1…\n",
            "$ plant_native_status \u001b[3m\u001b[90m<chr>\u001b[39m\u001b[23m \"native\", \"native\", \"native\", \"native\", \"native\",…\n",
            "$ plant_life_cycle    \u001b[3m\u001b[90m<chr>\u001b[39m\u001b[23m \"annual\", \"annual\", \"biennial\", \"multiple\", \"pere…\n",
            "$ plant_life_form     \u001b[3m\u001b[90m<chr>\u001b[39m\u001b[23m \"forb\", \"graminoid\", \"forb\", \"forb\", \"forb\", \"gra…\n",
            "$ cover_pct_avg       \u001b[3m\u001b[90m<dbl>\u001b[39m\u001b[23m 0.8, 0.0, 0.0, 0.2, 32.9, 49.5, 0.0, 0.0, 0.0, 3.…\n"
          ],
          "name": "stdout"
        }
      ]
    },
    {
      "cell_type": "code",
      "metadata": {
        "id": "KxiDntn86bCY"
      },
      "source": [
        "# update year datatype\n",
        "df_yvp_plant_functional_groups$year <- as.integer(df_yvp_plant_functional_groups$year)"
      ],
      "execution_count": null,
      "outputs": []
    },
    {
      "cell_type": "code",
      "metadata": {
        "id": "ByICWPkF64hF",
        "colab": {
          "base_uri": "https://localhost:8080/",
          "height": 374
        },
        "outputId": "71a06567-9259-4b4d-9ff0-7acac5e6c9af"
      },
      "source": [
        "summary(df_yvp_plant_functional_groups)"
      ],
      "execution_count": null,
      "outputs": [
        {
          "output_type": "display_data",
          "data": {
            "text/plain": [
              " survey_code         plot_code              year        plot_loc        \n",
              " Length:5126        Length:5126        Min.   :2017   Length:5126       \n",
              " Class :character   Class :character   1st Qu.:2018   Class :character  \n",
              " Mode  :character   Mode  :character   Median :2019   Mode  :character  \n",
              "                                       Mean   :2019                     \n",
              "                                       3rd Qu.:2019                     \n",
              "                                       Max.   :2020                     \n",
              "   plot_rep           grid_point  plant_native_status plant_life_cycle  \n",
              " Length:5126        Min.   :  7   Length:5126         Length:5126       \n",
              " Class :character   1st Qu.:110   Class :character    Class :character  \n",
              " Mode  :character   Median :212   Mode  :character    Mode  :character  \n",
              "                    Mean   :254                                         \n",
              "                    3rd Qu.:395                                         \n",
              "                    Max.   :571                                         \n",
              " plant_life_form    cover_pct_avg   \n",
              " Length:5126        Min.   : 0.000  \n",
              " Class :character   1st Qu.: 0.000  \n",
              " Mode  :character   Median : 0.000  \n",
              "                    Mean   : 3.587  \n",
              "                    3rd Qu.: 1.500  \n",
              "                    Max.   :71.500  "
            ]
          },
          "metadata": {
            "tags": []
          }
        }
      ]
    },
    {
      "cell_type": "code",
      "metadata": {
        "id": "ZoGn3W5wiL54",
        "colab": {
          "base_uri": "https://localhost:8080/",
          "height": 1000
        },
        "outputId": "e7b72c16-64d8-4fef-fb8d-a2b9753f70b7"
      },
      "source": [
        "df_yvp_plant_functional_groups %>% distinct(cover_pct_avg) %>% arrange(cover_pct_avg)"
      ],
      "execution_count": null,
      "outputs": [
        {
          "output_type": "display_data",
          "data": {
            "text/plain": [
              "    cover_pct_avg\n",
              "1   0.00         \n",
              "2   0.05         \n",
              "3   0.10         \n",
              "4   0.20         \n",
              "5   0.30         \n",
              "6   0.40         \n",
              "7   0.50         \n",
              "8   0.60         \n",
              "9   0.70         \n",
              "10  0.80         \n",
              "11  0.85         \n",
              "12  0.90         \n",
              "13  1.00         \n",
              "14  1.10         \n",
              "15  1.20         \n",
              "16  1.30         \n",
              "17  1.35         \n",
              "18  1.40         \n",
              "19  1.50         \n",
              "20  1.60         \n",
              "21  1.70         \n",
              "22  1.80         \n",
              "23  1.90         \n",
              "24  2.00         \n",
              "25  2.10         \n",
              "26  2.20         \n",
              "27  2.30         \n",
              "28  2.40         \n",
              "29  2.50         \n",
              "30  2.55         \n",
              "⋮   ⋮            \n",
              "390 52.30        \n",
              "391 52.40        \n",
              "392 52.80        \n",
              "393 52.90        \n",
              "394 53.30        \n",
              "395 54.20        \n",
              "396 54.40        \n",
              "397 54.90        \n",
              "398 55.10        \n",
              "399 55.95        \n",
              "400 56.00        \n",
              "401 56.10        \n",
              "402 57.00        \n",
              "403 57.20        \n",
              "404 57.40        \n",
              "405 58.30        \n",
              "406 58.60        \n",
              "407 59.50        \n",
              "408 60.50        \n",
              "409 61.90        \n",
              "410 62.50        \n",
              "411 62.70        \n",
              "412 63.00        \n",
              "413 63.50        \n",
              "414 66.40        \n",
              "415 67.10        \n",
              "416 67.60        \n",
              "417 69.70        \n",
              "418 70.50        \n",
              "419 71.50        "
            ],
            "text/latex": "A tibble: 419 × 1\n\\begin{tabular}{l}\n cover\\_pct\\_avg\\\\\n <dbl>\\\\\n\\hline\n\t 0.00\\\\\n\t 0.05\\\\\n\t 0.10\\\\\n\t 0.20\\\\\n\t 0.30\\\\\n\t 0.40\\\\\n\t 0.50\\\\\n\t 0.60\\\\\n\t 0.70\\\\\n\t 0.80\\\\\n\t 0.85\\\\\n\t 0.90\\\\\n\t 1.00\\\\\n\t 1.10\\\\\n\t 1.20\\\\\n\t 1.30\\\\\n\t 1.35\\\\\n\t 1.40\\\\\n\t 1.50\\\\\n\t 1.60\\\\\n\t 1.70\\\\\n\t 1.80\\\\\n\t 1.90\\\\\n\t 2.00\\\\\n\t 2.10\\\\\n\t 2.20\\\\\n\t 2.30\\\\\n\t 2.40\\\\\n\t 2.50\\\\\n\t 2.55\\\\\n\t ⋮\\\\\n\t 52.30\\\\\n\t 52.40\\\\\n\t 52.80\\\\\n\t 52.90\\\\\n\t 53.30\\\\\n\t 54.20\\\\\n\t 54.40\\\\\n\t 54.90\\\\\n\t 55.10\\\\\n\t 55.95\\\\\n\t 56.00\\\\\n\t 56.10\\\\\n\t 57.00\\\\\n\t 57.20\\\\\n\t 57.40\\\\\n\t 58.30\\\\\n\t 58.60\\\\\n\t 59.50\\\\\n\t 60.50\\\\\n\t 61.90\\\\\n\t 62.50\\\\\n\t 62.70\\\\\n\t 63.00\\\\\n\t 63.50\\\\\n\t 66.40\\\\\n\t 67.10\\\\\n\t 67.60\\\\\n\t 69.70\\\\\n\t 70.50\\\\\n\t 71.50\\\\\n\\end{tabular}\n",
            "text/markdown": "\nA tibble: 419 × 1\n\n| cover_pct_avg &lt;dbl&gt; |\n|---|\n| 0.00 |\n| 0.05 |\n| 0.10 |\n| 0.20 |\n| 0.30 |\n| 0.40 |\n| 0.50 |\n| 0.60 |\n| 0.70 |\n| 0.80 |\n| 0.85 |\n| 0.90 |\n| 1.00 |\n| 1.10 |\n| 1.20 |\n| 1.30 |\n| 1.35 |\n| 1.40 |\n| 1.50 |\n| 1.60 |\n| 1.70 |\n| 1.80 |\n| 1.90 |\n| 2.00 |\n| 2.10 |\n| 2.20 |\n| 2.30 |\n| 2.40 |\n| 2.50 |\n| 2.55 |\n| ⋮ |\n| 52.30 |\n| 52.40 |\n| 52.80 |\n| 52.90 |\n| 53.30 |\n| 54.20 |\n| 54.40 |\n| 54.90 |\n| 55.10 |\n| 55.95 |\n| 56.00 |\n| 56.10 |\n| 57.00 |\n| 57.20 |\n| 57.40 |\n| 58.30 |\n| 58.60 |\n| 59.50 |\n| 60.50 |\n| 61.90 |\n| 62.50 |\n| 62.70 |\n| 63.00 |\n| 63.50 |\n| 66.40 |\n| 67.10 |\n| 67.60 |\n| 69.70 |\n| 70.50 |\n| 71.50 |\n\n",
            "text/html": [
              "<table>\n",
              "<caption>A tibble: 419 × 1</caption>\n",
              "<thead>\n",
              "\t<tr><th scope=col>cover_pct_avg</th></tr>\n",
              "\t<tr><th scope=col>&lt;dbl&gt;</th></tr>\n",
              "</thead>\n",
              "<tbody>\n",
              "\t<tr><td>0.00</td></tr>\n",
              "\t<tr><td>0.05</td></tr>\n",
              "\t<tr><td>0.10</td></tr>\n",
              "\t<tr><td>0.20</td></tr>\n",
              "\t<tr><td>0.30</td></tr>\n",
              "\t<tr><td>0.40</td></tr>\n",
              "\t<tr><td>0.50</td></tr>\n",
              "\t<tr><td>0.60</td></tr>\n",
              "\t<tr><td>0.70</td></tr>\n",
              "\t<tr><td>0.80</td></tr>\n",
              "\t<tr><td>0.85</td></tr>\n",
              "\t<tr><td>0.90</td></tr>\n",
              "\t<tr><td>1.00</td></tr>\n",
              "\t<tr><td>1.10</td></tr>\n",
              "\t<tr><td>1.20</td></tr>\n",
              "\t<tr><td>1.30</td></tr>\n",
              "\t<tr><td>1.35</td></tr>\n",
              "\t<tr><td>1.40</td></tr>\n",
              "\t<tr><td>1.50</td></tr>\n",
              "\t<tr><td>1.60</td></tr>\n",
              "\t<tr><td>1.70</td></tr>\n",
              "\t<tr><td>1.80</td></tr>\n",
              "\t<tr><td>1.90</td></tr>\n",
              "\t<tr><td>2.00</td></tr>\n",
              "\t<tr><td>2.10</td></tr>\n",
              "\t<tr><td>2.20</td></tr>\n",
              "\t<tr><td>2.30</td></tr>\n",
              "\t<tr><td>2.40</td></tr>\n",
              "\t<tr><td>2.50</td></tr>\n",
              "\t<tr><td>2.55</td></tr>\n",
              "\t<tr><td>⋮</td></tr>\n",
              "\t<tr><td>52.30</td></tr>\n",
              "\t<tr><td>52.40</td></tr>\n",
              "\t<tr><td>52.80</td></tr>\n",
              "\t<tr><td>52.90</td></tr>\n",
              "\t<tr><td>53.30</td></tr>\n",
              "\t<tr><td>54.20</td></tr>\n",
              "\t<tr><td>54.40</td></tr>\n",
              "\t<tr><td>54.90</td></tr>\n",
              "\t<tr><td>55.10</td></tr>\n",
              "\t<tr><td>55.95</td></tr>\n",
              "\t<tr><td>56.00</td></tr>\n",
              "\t<tr><td>56.10</td></tr>\n",
              "\t<tr><td>57.00</td></tr>\n",
              "\t<tr><td>57.20</td></tr>\n",
              "\t<tr><td>57.40</td></tr>\n",
              "\t<tr><td>58.30</td></tr>\n",
              "\t<tr><td>58.60</td></tr>\n",
              "\t<tr><td>59.50</td></tr>\n",
              "\t<tr><td>60.50</td></tr>\n",
              "\t<tr><td>61.90</td></tr>\n",
              "\t<tr><td>62.50</td></tr>\n",
              "\t<tr><td>62.70</td></tr>\n",
              "\t<tr><td>63.00</td></tr>\n",
              "\t<tr><td>63.50</td></tr>\n",
              "\t<tr><td>66.40</td></tr>\n",
              "\t<tr><td>67.10</td></tr>\n",
              "\t<tr><td>67.60</td></tr>\n",
              "\t<tr><td>69.70</td></tr>\n",
              "\t<tr><td>70.50</td></tr>\n",
              "\t<tr><td>71.50</td></tr>\n",
              "</tbody>\n",
              "</table>\n"
            ]
          },
          "metadata": {
            "tags": []
          }
        }
      ]
    },
    {
      "cell_type": "markdown",
      "metadata": {
        "id": "TI6Wppn93rVM"
      },
      "source": [
        "# Output"
      ]
    },
    {
      "cell_type": "code",
      "metadata": {
        "id": "rg0XfQmUohDT"
      },
      "source": [
        "# Output 2020-11-09 | ES\n",
        "write_csv(df_yvp_plant_functional_groups, file=\"yvp_plant_functional_groups-WRANGLE-2020.csv\")"
      ],
      "execution_count": null,
      "outputs": []
    }
  ]
}