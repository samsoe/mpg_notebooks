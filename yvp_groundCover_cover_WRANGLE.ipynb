{
  "nbformat": 4,
  "nbformat_minor": 0,
  "metadata": {
    "colab": {
      "name": "yvp_groundCover_cover-WRANGLE.ipynb",
      "provenance": [],
      "collapsed_sections": [],
      "toc_visible": true,
      "include_colab_link": true
    },
    "language_info": {
      "codemirror_mode": "r",
      "file_extension": ".r",
      "mimetype": "text/x-r-source",
      "name": "R",
      "pygments_lexer": "r",
      "version": "3.3.1"
    },
    "kernelspec": {
      "display_name": "R",
      "language": "R",
      "name": "ir"
    }
  },
  "cells": [
    {
      "cell_type": "markdown",
      "metadata": {
        "id": "view-in-github",
        "colab_type": "text"
      },
      "source": [
        "<a href=\"https://colab.research.google.com/github/samsoe/mpg_notebooks/blob/master/yvp_groundCover_cover_WRANGLE.ipynb\" target=\"_parent\"><img src=\"https://colab.research.google.com/assets/colab-badge.svg\" alt=\"Open In Colab\"/></a>"
      ]
    },
    {
      "cell_type": "markdown",
      "metadata": {
        "id": "H1ycex_2hNjQ",
        "colab_type": "text"
      },
      "source": [
        "# Documentation"
      ]
    },
    {
      "cell_type": "markdown",
      "metadata": {
        "id": "F-VD4WalhRUr",
        "colab_type": "text"
      },
      "source": [
        "[Readme fixed plot vegetation data](https://docs.google.com/document/d/16-Aq8u9Rudd78fSzfjvpCXyQgE-BstC-d2PjYfmLtcw/edit?usp=sharing)"
      ]
    },
    {
      "cell_type": "markdown",
      "metadata": {
        "id": "BhOI1uU2Koum",
        "colab_type": "text"
      },
      "source": [
        "# Security"
      ]
    },
    {
      "cell_type": "markdown",
      "metadata": {
        "id": "hgB3r3wvA9Pn",
        "colab_type": "text"
      },
      "source": [
        "* The user must load a `json` file containing the BigQuery API key into the local directory `/content/...`\n",
        "* The user must have a Google Maps API key to enable mapping. \n",
        "   * CAUTION make sure the key is deleted from the current instance of the notebook before sharing"
      ]
    },
    {
      "cell_type": "markdown",
      "metadata": {
        "id": "MnG0ah7OA59c",
        "colab_type": "text"
      },
      "source": [
        "# Tools"
      ]
    },
    {
      "cell_type": "code",
      "metadata": {
        "id": "Y6y4EWeYpVBJ",
        "colab_type": "code",
        "colab": {}
      },
      "source": [
        "library(tidyverse)"
      ],
      "execution_count": null,
      "outputs": []
    },
    {
      "cell_type": "markdown",
      "metadata": {
        "id": "eUw-It3JBBrQ",
        "colab_type": "text"
      },
      "source": [
        "* Remember that the file containing authorization keys for Big Query must be loaded into the virutual envrionment manually."
      ]
    },
    {
      "cell_type": "code",
      "metadata": {
        "id": "VxYkYhQTKouo",
        "colab_type": "code",
        "colab": {
          "base_uri": "https://localhost:8080/",
          "height": 119
        },
        "outputId": "247473f6-6805-4520-ca66-85403fdc21a3"
      },
      "source": [
        "install.packages(\"bigrquery\")\n",
        "library(bigrquery)"
      ],
      "execution_count": 2,
      "outputs": [
        {
          "output_type": "stream",
          "text": [
            "Installing package into ‘/usr/local/lib/R/site-library’\n",
            "(as ‘lib’ is unspecified)\n",
            "\n",
            "also installing the dependencies ‘bit’, ‘bit64’, ‘gargle’, ‘rapidjsonr’\n",
            "\n",
            "\n"
          ],
          "name": "stderr"
        }
      ]
    },
    {
      "cell_type": "markdown",
      "metadata": {
        "id": "H1I9aQ_SBH3n",
        "colab_type": "text"
      },
      "source": [
        "# Source"
      ]
    },
    {
      "cell_type": "markdown",
      "metadata": {
        "id": "Bfb7MHpGBJMO",
        "colab_type": "text"
      },
      "source": [
        "## Database Connection"
      ]
    },
    {
      "cell_type": "code",
      "metadata": {
        "id": "ihI70_BPKouq",
        "colab_type": "code",
        "colab": {}
      },
      "source": [
        "# BigQuery API Key\n",
        "bq_auth(path = \"/content/mpg-data-warehouse-api_key-master.json\")"
      ],
      "execution_count": 3,
      "outputs": []
    },
    {
      "cell_type": "code",
      "metadata": {
        "id": "8YxL8wHoBNxV",
        "colab_type": "code",
        "colab": {}
      },
      "source": [
        "Sys.setenv(BIGQUERY_TEST_PROJECT = \"mpg-data-warehouse\")"
      ],
      "execution_count": 4,
      "outputs": []
    },
    {
      "cell_type": "code",
      "metadata": {
        "id": "yevfizb5BQXm",
        "colab_type": "code",
        "colab": {}
      },
      "source": [
        "billing <- bq_test_project()"
      ],
      "execution_count": 5,
      "outputs": []
    },
    {
      "cell_type": "markdown",
      "metadata": {
        "id": "JN4Z34yRp2-k",
        "colab_type": "text"
      },
      "source": [
        "### yvp_ground_cover"
      ]
    },
    {
      "cell_type": "code",
      "metadata": {
        "id": "26UqASAoB2p0",
        "colab_type": "code",
        "colab": {}
      },
      "source": [
        "sql_ground_cover <- \"\n",
        "  SELECT\n",
        "    CONCAT(plot_code, \\\" \\\", date) AS survey_code,\n",
        "    plot_code,\n",
        "    SUBSTR(SAFE_CAST(date AS STRING), 0, 4) AS year,\n",
        "    plot_loc,\n",
        "    plot_rep,\n",
        "    plot_num,\n",
        "    subplot,\n",
        "    groundcover_type,\n",
        "    groundcover_pct\n",
        "  FROM\n",
        "    `mpg-data-warehouse.vegetation_fixed_plot_yvp.yvp_ground_cover`\n",
        "\""
      ],
      "execution_count": 20,
      "outputs": []
    },
    {
      "cell_type": "code",
      "metadata": {
        "id": "VSXOoJkcB3dn",
        "colab_type": "code",
        "colab": {}
      },
      "source": [
        "bq_ground_cover <- bq_project_query(billing, sql_ground_cover)"
      ],
      "execution_count": 24,
      "outputs": []
    },
    {
      "cell_type": "code",
      "metadata": {
        "id": "KpZnymzzB5Ms",
        "colab_type": "code",
        "colab": {}
      },
      "source": [
        "tb_ground_cover <- bq_table_download(bq_ground_cover)"
      ],
      "execution_count": 25,
      "outputs": []
    },
    {
      "cell_type": "code",
      "metadata": {
        "id": "VcoNMCO1B6gY",
        "colab_type": "code",
        "colab": {}
      },
      "source": [
        "df_groundcover <- as.data.frame(tb_ground_cover)"
      ],
      "execution_count": 64,
      "outputs": []
    },
    {
      "cell_type": "markdown",
      "metadata": {
        "id": "0YDnGZd7itlP",
        "colab_type": "text"
      },
      "source": [
        "### location_position_classification"
      ]
    },
    {
      "cell_type": "code",
      "metadata": {
        "id": "oPqWCXHfivhO",
        "colab_type": "code",
        "colab": {}
      },
      "source": [
        "sql_location_class <- \"\n",
        "  SELECT\n",
        "    grid_point,\n",
        "    aspect_mean_deg,\n",
        "    elevation_mean_m,\n",
        "    slope_mean_deg,\n",
        "    cover_type_2016_gridVeg,\n",
        "    type3_vegetation_indicators,\n",
        "    type4_indicators_history\n",
        "  FROM\n",
        "    `mpg-data-warehouse.grid_point_summaries.location_position_classification`\n",
        "\""
      ],
      "execution_count": 14,
      "outputs": []
    },
    {
      "cell_type": "code",
      "metadata": {
        "id": "nunvdEXrjXVW",
        "colab_type": "code",
        "colab": {}
      },
      "source": [
        "bq_location_class <- bq_project_query(billing, sql_location_class)"
      ],
      "execution_count": 15,
      "outputs": []
    },
    {
      "cell_type": "code",
      "metadata": {
        "id": "JW0_N-3pjdNB",
        "colab_type": "code",
        "colab": {}
      },
      "source": [
        "tb_location_class <- bq_table_download(bq_location_class)"
      ],
      "execution_count": 16,
      "outputs": []
    },
    {
      "cell_type": "code",
      "metadata": {
        "id": "tPF-5ocZjgcV",
        "colab_type": "code",
        "colab": {}
      },
      "source": [
        "df_location_class <- as.data.frame(tb_location_class)"
      ],
      "execution_count": 17,
      "outputs": []
    },
    {
      "cell_type": "markdown",
      "metadata": {
        "id": "S1Z7QBdNjjmW",
        "colab_type": "text"
      },
      "source": [
        "# Wrangle"
      ]
    },
    {
      "cell_type": "markdown",
      "metadata": {
        "id": "BuE4y4gVjpJF",
        "colab_type": "text"
      },
      "source": [
        "## Complete"
      ]
    },
    {
      "cell_type": "code",
      "metadata": {
        "id": "ohsqO9qNmpDo",
        "colab_type": "code",
        "colab": {
          "base_uri": "https://localhost:8080/",
          "height": 136
        },
        "outputId": "ae13e20e-84c9-4dc5-80ad-c7a54344b457"
      },
      "source": [
        "df_groundcover_complete <- df_groundcover %>%\n",
        "  complete(survey_code,\n",
        "           nesting(groundcover_type, subplot),\n",
        "           fill = list(groundcover_pct = 0)) %>%\n",
        "  group_by(survey_code, subplot) %>%\n",
        "  select(survey_code, groundcover_type, subplot, groundcover_pct) %>%\n",
        "  arrange(survey_code, subplot) %>% glimpse()"
      ],
      "execution_count": 67,
      "outputs": [
        {
          "output_type": "stream",
          "text": [
            "Rows: 14,080\n",
            "Columns: 4\n",
            "Groups: survey_code, subplot [1,760]\n",
            "$ survey_code      \u001b[3m\u001b[90m<chr>\u001b[39m\u001b[23m \"YVP 10 2017-06-09\", \"YVP 10 2017-06-09\", \"YVP 10 20…\n",
            "$ groundcover_type \u001b[3m\u001b[90m<chr>\u001b[39m\u001b[23m \"BG\", \"BV\", \"G\", \"L\", \"LIC\", \"M\", \"R\", \"WD\", \"BG\", \"…\n",
            "$ subplot          \u001b[3m\u001b[90m<int>\u001b[39m\u001b[23m 1, 1, 1, 1, 1, 1, 1, 1, 2, 2, 2, 2, 2, 2, 2, 2, 3, 3…\n",
            "$ groundcover_pct  \u001b[3m\u001b[90m<dbl>\u001b[39m\u001b[23m 1, 80, 1, 10, 4, 5, 0, 0, 2, 70, 0, 15, 5, 10, 0, 0,…\n"
          ],
          "name": "stdout"
        }
      ]
    },
    {
      "cell_type": "markdown",
      "metadata": {
        "id": "Ht2WYbLlo7OL",
        "colab_type": "text"
      },
      "source": [
        "## Generate Variables"
      ]
    },
    {
      "cell_type": "markdown",
      "metadata": {
        "id": "wqBAZdJBkQCN",
        "colab_type": "text"
      },
      "source": [
        "### groundcover_pct_avg"
      ]
    },
    {
      "cell_type": "markdown",
      "metadata": {
        "id": "5VsSGTlHkW_z",
        "colab_type": "text"
      },
      "source": [
        "The ground cover data only need to be summarized in one dimension. This makes processing a little easier than it was for the plant cover data. To process the data, sum the subplot-level ground cover values across each transect for each survey, and divide the sum by 10 to create an average for that ground cover type. Confirm that each value of ground cover possible is present in each survey. Confirm that the number of rows produced makes sense based on the source data (number of surveys * number of possible ground cover types). Join in metadata to produce the final view, as instructed in the table below. "
      ]
    },
    {
      "cell_type": "code",
      "metadata": {
        "id": "bOE8r4Jnj_jB",
        "colab_type": "code",
        "colab": {
          "base_uri": "https://localhost:8080/",
          "height": 136
        },
        "outputId": "2084cb16-0ac6-40b8-e5db-45464b968298"
      },
      "source": [
        "df_groundcover_sum <- \n",
        "df_groundcover_complete %>%\n",
        "  group_by(survey_code, groundcover_type) %>%\n",
        "  summarise(groundcover_sum = sum(groundcover_pct)) %>% ungroup() %>%\n",
        "  glimpse()"
      ],
      "execution_count": 117,
      "outputs": [
        {
          "output_type": "stream",
          "text": [
            "`summarise()` regrouping output by 'survey_code' (override with `.groups` argument)\n",
            "\n"
          ],
          "name": "stderr"
        },
        {
          "output_type": "stream",
          "text": [
            "Rows: 1,408\n",
            "Columns: 3\n",
            "$ survey_code      \u001b[3m\u001b[90m<chr>\u001b[39m\u001b[23m \"YVP 10 2017-06-09\", \"YVP 10 2017-06-09\", \"YVP 10 20…\n",
            "$ groundcover_type \u001b[3m\u001b[90m<chr>\u001b[39m\u001b[23m \"BG\", \"BV\", \"G\", \"L\", \"LIC\", \"M\", \"R\", \"WD\", \"BG\", \"…\n",
            "$ groundcover_sum  \u001b[3m\u001b[90m<dbl>\u001b[39m\u001b[23m 24, 665, 11, 155, 74, 100, 0, 0, 26, 505, 1, 250, 11…\n"
          ],
          "name": "stdout"
        }
      ]
    },
    {
      "cell_type": "code",
      "metadata": {
        "id": "WVqalPPBlYoK",
        "colab_type": "code",
        "colab": {
          "base_uri": "https://localhost:8080/",
          "height": 136
        },
        "outputId": "fbae8483-2f5b-47fb-e2e8-9c59dea2db7a"
      },
      "source": [
        "df_groundcover_avg <- df_groundcover_sum %>%\n",
        "  group_by(survey_code, groundcover_type) %>%\n",
        "  summarise(groundcover_pct_avg = groundcover_sum / 10) %>% ungroup() %>% \n",
        "  glimpse()"
      ],
      "execution_count": 121,
      "outputs": [
        {
          "output_type": "stream",
          "text": [
            "`summarise()` regrouping output by 'survey_code' (override with `.groups` argument)\n",
            "\n"
          ],
          "name": "stderr"
        },
        {
          "output_type": "stream",
          "text": [
            "Rows: 1,408\n",
            "Columns: 3\n",
            "$ survey_code         \u001b[3m\u001b[90m<chr>\u001b[39m\u001b[23m \"YVP 10 2017-06-09\", \"YVP 10 2017-06-09\", \"YVP 10…\n",
            "$ groundcover_type    \u001b[3m\u001b[90m<chr>\u001b[39m\u001b[23m \"BG\", \"BV\", \"G\", \"L\", \"LIC\", \"M\", \"R\", \"WD\", \"BG\"…\n",
            "$ groundcover_pct_avg \u001b[3m\u001b[90m<dbl>\u001b[39m\u001b[23m 2.4, 66.5, 1.1, 15.5, 7.4, 10.0, 0.0, 0.0, 2.6, 5…\n"
          ],
          "name": "stdout"
        }
      ]
    },
    {
      "cell_type": "markdown",
      "metadata": {
        "id": "x-Cj5pdQmmyN",
        "colab_type": "text"
      },
      "source": [
        "### plot_code"
      ]
    },
    {
      "cell_type": "code",
      "metadata": {
        "id": "S8AzivBEmrCi",
        "colab_type": "code",
        "colab": {
          "base_uri": "https://localhost:8080/",
          "height": 119
        },
        "outputId": "77f54f8e-9173-44ea-ced5-423461748b19"
      },
      "source": [
        "# bring plot_code back in by removing date\n",
        "df_plot_code <- df_groundcover_avg %>%\n",
        "  mutate(plot_code = substring(survey_code, 1,nchar(survey_code)-11)) %>% glimpse()"
      ],
      "execution_count": 122,
      "outputs": [
        {
          "output_type": "stream",
          "text": [
            "Rows: 1,408\n",
            "Columns: 4\n",
            "$ survey_code         \u001b[3m\u001b[90m<chr>\u001b[39m\u001b[23m \"YVP 10 2017-06-09\", \"YVP 10 2017-06-09\", \"YVP 10…\n",
            "$ groundcover_type    \u001b[3m\u001b[90m<chr>\u001b[39m\u001b[23m \"BG\", \"BV\", \"G\", \"L\", \"LIC\", \"M\", \"R\", \"WD\", \"BG\"…\n",
            "$ groundcover_pct_avg \u001b[3m\u001b[90m<dbl>\u001b[39m\u001b[23m 2.4, 66.5, 1.1, 15.5, 7.4, 10.0, 0.0, 0.0, 2.6, 5…\n",
            "$ plot_code           \u001b[3m\u001b[90m<chr>\u001b[39m\u001b[23m \"YVP 10\", \"YVP 10\", \"YVP 10\", \"YVP 10\", \"YVP 10\",…\n"
          ],
          "name": "stdout"
        }
      ]
    },
    {
      "cell_type": "markdown",
      "metadata": {
        "id": "CM_N72ZNm_bD",
        "colab_type": "text"
      },
      "source": [
        "### plot_loc"
      ]
    },
    {
      "cell_type": "code",
      "metadata": {
        "id": "dzkXh2y9nCZ1",
        "colab_type": "code",
        "colab": {
          "base_uri": "https://localhost:8080/",
          "height": 136
        },
        "outputId": "8aad71f7-94d0-4809-9a5f-2f33fc301827"
      },
      "source": [
        "# detect \"N\" in 'plot_code' and write to new column 'plot_loc'\n",
        "# df_plot_loc <- \n",
        "df_plot_loc <- df_plot_code %>%\n",
        "  mutate(plot_loc = ifelse(str_detect(plot_code, \"N\"), \"N\", NA)) %>% glimpse()"
      ],
      "execution_count": 123,
      "outputs": [
        {
          "output_type": "stream",
          "text": [
            "Rows: 1,408\n",
            "Columns: 5\n",
            "$ survey_code         \u001b[3m\u001b[90m<chr>\u001b[39m\u001b[23m \"YVP 10 2017-06-09\", \"YVP 10 2017-06-09\", \"YVP 10…\n",
            "$ groundcover_type    \u001b[3m\u001b[90m<chr>\u001b[39m\u001b[23m \"BG\", \"BV\", \"G\", \"L\", \"LIC\", \"M\", \"R\", \"WD\", \"BG\"…\n",
            "$ groundcover_pct_avg \u001b[3m\u001b[90m<dbl>\u001b[39m\u001b[23m 2.4, 66.5, 1.1, 15.5, 7.4, 10.0, 0.0, 0.0, 2.6, 5…\n",
            "$ plot_code           \u001b[3m\u001b[90m<chr>\u001b[39m\u001b[23m \"YVP 10\", \"YVP 10\", \"YVP 10\", \"YVP 10\", \"YVP 10\",…\n",
            "$ plot_loc            \u001b[3m\u001b[90m<chr>\u001b[39m\u001b[23m NA, NA, NA, NA, NA, NA, NA, NA, NA, NA, NA, NA, N…\n"
          ],
          "name": "stdout"
        }
      ]
    },
    {
      "cell_type": "markdown",
      "metadata": {
        "id": "Wc-u1gqKs1gb",
        "colab_type": "text"
      },
      "source": [
        "## plot_rep"
      ]
    },
    {
      "cell_type": "code",
      "metadata": {
        "id": "_wqo1VoFs3We",
        "colab_type": "code",
        "colab": {
          "base_uri": "https://localhost:8080/",
          "height": 153
        },
        "outputId": "cf15230b-70f8-4aef-c8f5-f4c3f5cd7202"
      },
      "source": [
        "# detect \"A\", \"B\", \"C\" characters in plot_code and if present write to 'plot_rep'\n",
        "df_plot_rep <- df_plot_loc %>%\n",
        "  mutate(plot_rep = case_when(str_detect(plot_code, \"A\")~\"A\",\n",
        "                              str_detect(plot_code, \"B\")~\"B\",\n",
        "                              str_detect(plot_code, \"C\")~\"C\")) %>% glimpse()"
      ],
      "execution_count": 130,
      "outputs": [
        {
          "output_type": "stream",
          "text": [
            "Rows: 1,408\n",
            "Columns: 6\n",
            "$ survey_code         \u001b[3m\u001b[90m<chr>\u001b[39m\u001b[23m \"YVP 10 2017-06-09\", \"YVP 10 2017-06-09\", \"YVP 10…\n",
            "$ groundcover_type    \u001b[3m\u001b[90m<chr>\u001b[39m\u001b[23m \"BG\", \"BV\", \"G\", \"L\", \"LIC\", \"M\", \"R\", \"WD\", \"BG\"…\n",
            "$ groundcover_pct_avg \u001b[3m\u001b[90m<dbl>\u001b[39m\u001b[23m 2.4, 66.5, 1.1, 15.5, 7.4, 10.0, 0.0, 0.0, 2.6, 5…\n",
            "$ plot_code           \u001b[3m\u001b[90m<chr>\u001b[39m\u001b[23m \"YVP 10\", \"YVP 10\", \"YVP 10\", \"YVP 10\", \"YVP 10\",…\n",
            "$ plot_loc            \u001b[3m\u001b[90m<chr>\u001b[39m\u001b[23m NA, NA, NA, NA, NA, NA, NA, NA, NA, NA, NA, NA, N…\n",
            "$ plot_rep            \u001b[3m\u001b[90m<chr>\u001b[39m\u001b[23m NA, NA, NA, NA, NA, NA, NA, NA, NA, NA, NA, NA, N…\n"
          ],
          "name": "stdout"
        }
      ]
    },
    {
      "cell_type": "markdown",
      "metadata": {
        "id": "CaBG1mJhnois",
        "colab_type": "text"
      },
      "source": [
        "### plot_num"
      ]
    },
    {
      "cell_type": "code",
      "metadata": {
        "id": "hmtwdzu6nn66",
        "colab_type": "code",
        "colab": {
          "base_uri": "https://localhost:8080/",
          "height": 170
        },
        "outputId": "d4aafc41-cf4f-40aa-e776-baaa4fae2a3d"
      },
      "source": [
        "# use digital values from 'plot_code' to populate 'plot_num'\n",
        "# df_grid_point <- \n",
        "df_plot_num <- df_plot_rep %>%\n",
        "  mutate(plot_num = str_extract(plot_code, \"[:digit:].*\"),\n",
        "         plot_num = as.integer(plot_num)) %>% glimpse()"
      ],
      "execution_count": 132,
      "outputs": [
        {
          "output_type": "stream",
          "text": [
            "Rows: 1,408\n",
            "Columns: 7\n",
            "$ survey_code         \u001b[3m\u001b[90m<chr>\u001b[39m\u001b[23m \"YVP 10 2017-06-09\", \"YVP 10 2017-06-09\", \"YVP 10…\n",
            "$ groundcover_type    \u001b[3m\u001b[90m<chr>\u001b[39m\u001b[23m \"BG\", \"BV\", \"G\", \"L\", \"LIC\", \"M\", \"R\", \"WD\", \"BG\"…\n",
            "$ groundcover_pct_avg \u001b[3m\u001b[90m<dbl>\u001b[39m\u001b[23m 2.4, 66.5, 1.1, 15.5, 7.4, 10.0, 0.0, 0.0, 2.6, 5…\n",
            "$ plot_code           \u001b[3m\u001b[90m<chr>\u001b[39m\u001b[23m \"YVP 10\", \"YVP 10\", \"YVP 10\", \"YVP 10\", \"YVP 10\",…\n",
            "$ plot_loc            \u001b[3m\u001b[90m<chr>\u001b[39m\u001b[23m NA, NA, NA, NA, NA, NA, NA, NA, NA, NA, NA, NA, N…\n",
            "$ plot_rep            \u001b[3m\u001b[90m<chr>\u001b[39m\u001b[23m NA, NA, NA, NA, NA, NA, NA, NA, NA, NA, NA, NA, N…\n",
            "$ plot_num            \u001b[3m\u001b[90m<int>\u001b[39m\u001b[23m 10, 10, 10, 10, 10, 10, 10, 10, 10, 10, 10, 10, 1…\n"
          ],
          "name": "stdout"
        }
      ]
    },
    {
      "cell_type": "markdown",
      "metadata": {
        "id": "lpYXVsNzoXdp",
        "colab_type": "text"
      },
      "source": [
        "### year"
      ]
    },
    {
      "cell_type": "code",
      "metadata": {
        "id": "qM6PaXxyoNZh",
        "colab_type": "code",
        "colab": {
          "base_uri": "https://localhost:8080/",
          "height": 187
        },
        "outputId": "4bf43ccd-ce09-4778-ec97-83d159040868"
      },
      "source": [
        " df_year <- df_plot_num %>%\n",
        "  mutate(year = substring(survey_code, nchar(survey_code)-9, nchar(survey_code)-6)) %>% glimpse()"
      ],
      "execution_count": 133,
      "outputs": [
        {
          "output_type": "stream",
          "text": [
            "Rows: 1,408\n",
            "Columns: 8\n",
            "$ survey_code         \u001b[3m\u001b[90m<chr>\u001b[39m\u001b[23m \"YVP 10 2017-06-09\", \"YVP 10 2017-06-09\", \"YVP 10…\n",
            "$ groundcover_type    \u001b[3m\u001b[90m<chr>\u001b[39m\u001b[23m \"BG\", \"BV\", \"G\", \"L\", \"LIC\", \"M\", \"R\", \"WD\", \"BG\"…\n",
            "$ groundcover_pct_avg \u001b[3m\u001b[90m<dbl>\u001b[39m\u001b[23m 2.4, 66.5, 1.1, 15.5, 7.4, 10.0, 0.0, 0.0, 2.6, 5…\n",
            "$ plot_code           \u001b[3m\u001b[90m<chr>\u001b[39m\u001b[23m \"YVP 10\", \"YVP 10\", \"YVP 10\", \"YVP 10\", \"YVP 10\",…\n",
            "$ plot_loc            \u001b[3m\u001b[90m<chr>\u001b[39m\u001b[23m NA, NA, NA, NA, NA, NA, NA, NA, NA, NA, NA, NA, N…\n",
            "$ plot_rep            \u001b[3m\u001b[90m<chr>\u001b[39m\u001b[23m NA, NA, NA, NA, NA, NA, NA, NA, NA, NA, NA, NA, N…\n",
            "$ plot_num            \u001b[3m\u001b[90m<int>\u001b[39m\u001b[23m 10, 10, 10, 10, 10, 10, 10, 10, 10, 10, 10, 10, 1…\n",
            "$ year                \u001b[3m\u001b[90m<chr>\u001b[39m\u001b[23m \"2017\", \"2017\", \"2017\", \"2017\", \"2017\", \"2017\", \"…\n"
          ],
          "name": "stdout"
        }
      ]
    },
    {
      "cell_type": "markdown",
      "metadata": {
        "id": "B5198XsVqBC0",
        "colab_type": "text"
      },
      "source": [
        "## Join"
      ]
    },
    {
      "cell_type": "code",
      "metadata": {
        "id": "WPVhlqifqQ6C",
        "colab_type": "code",
        "colab": {
          "base_uri": "https://localhost:8080/",
          "height": 187
        },
        "outputId": "c9ecc77f-047f-4c19-e965-ecd27a3c16f4"
      },
      "source": [
        "df_year %>% glimpse()"
      ],
      "execution_count": 134,
      "outputs": [
        {
          "output_type": "stream",
          "text": [
            "Rows: 1,408\n",
            "Columns: 8\n",
            "$ survey_code         \u001b[3m\u001b[90m<chr>\u001b[39m\u001b[23m \"YVP 10 2017-06-09\", \"YVP 10 2017-06-09\", \"YVP 10…\n",
            "$ groundcover_type    \u001b[3m\u001b[90m<chr>\u001b[39m\u001b[23m \"BG\", \"BV\", \"G\", \"L\", \"LIC\", \"M\", \"R\", \"WD\", \"BG\"…\n",
            "$ groundcover_pct_avg \u001b[3m\u001b[90m<dbl>\u001b[39m\u001b[23m 2.4, 66.5, 1.1, 15.5, 7.4, 10.0, 0.0, 0.0, 2.6, 5…\n",
            "$ plot_code           \u001b[3m\u001b[90m<chr>\u001b[39m\u001b[23m \"YVP 10\", \"YVP 10\", \"YVP 10\", \"YVP 10\", \"YVP 10\",…\n",
            "$ plot_loc            \u001b[3m\u001b[90m<chr>\u001b[39m\u001b[23m NA, NA, NA, NA, NA, NA, NA, NA, NA, NA, NA, NA, N…\n",
            "$ plot_rep            \u001b[3m\u001b[90m<chr>\u001b[39m\u001b[23m NA, NA, NA, NA, NA, NA, NA, NA, NA, NA, NA, NA, N…\n",
            "$ plot_num            \u001b[3m\u001b[90m<int>\u001b[39m\u001b[23m 10, 10, 10, 10, 10, 10, 10, 10, 10, 10, 10, 10, 1…\n",
            "$ year                \u001b[3m\u001b[90m<chr>\u001b[39m\u001b[23m \"2017\", \"2017\", \"2017\", \"2017\", \"2017\", \"2017\", \"…\n"
          ],
          "name": "stdout"
        }
      ]
    },
    {
      "cell_type": "code",
      "metadata": {
        "id": "Psh_2YyJqWFq",
        "colab_type": "code",
        "colab": {
          "base_uri": "https://localhost:8080/",
          "height": 170
        },
        "outputId": "b5413859-7e39-49db-e289-b761d4fd6685"
      },
      "source": [
        "df_location_class %>% glimpse()"
      ],
      "execution_count": 135,
      "outputs": [
        {
          "output_type": "stream",
          "text": [
            "Rows: 582\n",
            "Columns: 7\n",
            "$ grid_point                  \u001b[3m\u001b[90m<int>\u001b[39m\u001b[23m 1, 2, 3, 4, 5, 6, 7, 8, 9, 10, 11, 12, 13…\n",
            "$ aspect_mean_deg             \u001b[3m\u001b[90m<dbl>\u001b[39m\u001b[23m 334.7050, 45.3030, 221.3340, 290.4890, 28…\n",
            "$ elevation_mean_m            \u001b[3m\u001b[90m<dbl>\u001b[39m\u001b[23m 1395.64, 1456.09, 1126.90, 1166.33, 1179.…\n",
            "$ slope_mean_deg              \u001b[3m\u001b[90m<dbl>\u001b[39m\u001b[23m 28.44230, 12.22630, 4.25130, 2.68361, 4.2…\n",
            "$ cover_type_2016_gridVeg     \u001b[3m\u001b[90m<chr>\u001b[39m\u001b[23m \"woodland/forest\", \"non-irrigated grassla…\n",
            "$ type3_vegetation_indicators \u001b[3m\u001b[90m<chr>\u001b[39m\u001b[23m \"mixed canopy conifer\", \"uncultivated gra…\n",
            "$ type4_indicators_history    \u001b[3m\u001b[90m<chr>\u001b[39m\u001b[23m \"mixed canopy conifer\", \"uncultivated gra…\n"
          ],
          "name": "stdout"
        }
      ]
    },
    {
      "cell_type": "code",
      "metadata": {
        "id": "DUXGachcqC_J",
        "colab_type": "code",
        "colab": {
          "base_uri": "https://localhost:8080/",
          "height": 289
        },
        "outputId": "fd055f09-36aa-4ba9-a5d3-5b7ebf1b4444"
      },
      "source": [
        "df_join <- df_year %>%\n",
        "  left_join(df_location_class, by = c(\"plot_num\" = \"grid_point\")) %>% glimpse()"
      ],
      "execution_count": 136,
      "outputs": [
        {
          "output_type": "stream",
          "text": [
            "Rows: 1,408\n",
            "Columns: 14\n",
            "$ survey_code                 \u001b[3m\u001b[90m<chr>\u001b[39m\u001b[23m \"YVP 10 2017-06-09\", \"YVP 10 2017-06-09\",…\n",
            "$ groundcover_type            \u001b[3m\u001b[90m<chr>\u001b[39m\u001b[23m \"BG\", \"BV\", \"G\", \"L\", \"LIC\", \"M\", \"R\", \"W…\n",
            "$ groundcover_pct_avg         \u001b[3m\u001b[90m<dbl>\u001b[39m\u001b[23m 2.4, 66.5, 1.1, 15.5, 7.4, 10.0, 0.0, 0.0…\n",
            "$ plot_code                   \u001b[3m\u001b[90m<chr>\u001b[39m\u001b[23m \"YVP 10\", \"YVP 10\", \"YVP 10\", \"YVP 10\", \"…\n",
            "$ plot_loc                    \u001b[3m\u001b[90m<chr>\u001b[39m\u001b[23m NA, NA, NA, NA, NA, NA, NA, NA, NA, NA, N…\n",
            "$ plot_rep                    \u001b[3m\u001b[90m<chr>\u001b[39m\u001b[23m NA, NA, NA, NA, NA, NA, NA, NA, NA, NA, N…\n",
            "$ plot_num                    \u001b[3m\u001b[90m<int>\u001b[39m\u001b[23m 10, 10, 10, 10, 10, 10, 10, 10, 10, 10, 1…\n",
            "$ year                        \u001b[3m\u001b[90m<chr>\u001b[39m\u001b[23m \"2017\", \"2017\", \"2017\", \"2017\", \"2017\", \"…\n",
            "$ aspect_mean_deg             \u001b[3m\u001b[90m<dbl>\u001b[39m\u001b[23m 18.8095, 18.8095, 18.8095, 18.8095, 18.80…\n",
            "$ elevation_mean_m            \u001b[3m\u001b[90m<dbl>\u001b[39m\u001b[23m 1146.9, 1146.9, 1146.9, 1146.9, 1146.9, 1…\n",
            "$ slope_mean_deg              \u001b[3m\u001b[90m<dbl>\u001b[39m\u001b[23m 20.7940, 20.7940, 20.7940, 20.7940, 20.79…\n",
            "$ cover_type_2016_gridVeg     \u001b[3m\u001b[90m<chr>\u001b[39m\u001b[23m \"non-irrigated grasslands\", \"non-irrigate…\n",
            "$ type3_vegetation_indicators \u001b[3m\u001b[90m<chr>\u001b[39m\u001b[23m \"wooded draw\", \"wooded draw\", \"wooded dra…\n",
            "$ type4_indicators_history    \u001b[3m\u001b[90m<chr>\u001b[39m\u001b[23m \"wooded draw\", \"wooded draw\", \"wooded dra…\n"
          ],
          "name": "stdout"
        }
      ]
    },
    {
      "cell_type": "markdown",
      "metadata": {
        "id": "xt9Tjb7go2DE",
        "colab_type": "text"
      },
      "source": [
        "## Organise Columns"
      ]
    },
    {
      "cell_type": "code",
      "metadata": {
        "id": "Js_mNUSlo20C",
        "colab_type": "code",
        "colab": {
          "base_uri": "https://localhost:8080/",
          "height": 289
        },
        "outputId": "b27ddf03-63a5-4d87-f588-f0ccc5dd8ac1"
      },
      "source": [
        "df_reorder <- df_join[c(\"survey_code\",\"plot_code\",\"year\",\"plot_loc\",\"plot_rep\",\n",
        "                         \"plot_num\",\"aspect_mean_deg\",\"elevation_mean_m\",\n",
        "                         \"slope_mean_deg\",\"cover_type_2016_gridVeg\",\"type3_vegetation_indicators\",\n",
        "                         \"type4_indicators_history\",\"groundcover_type\",\"groundcover_pct_avg\")] %>% glimpse()"
      ],
      "execution_count": 142,
      "outputs": [
        {
          "output_type": "stream",
          "text": [
            "Rows: 1,408\n",
            "Columns: 14\n",
            "$ survey_code                 \u001b[3m\u001b[90m<chr>\u001b[39m\u001b[23m \"YVP 10 2017-06-09\", \"YVP 10 2017-06-09\",…\n",
            "$ plot_code                   \u001b[3m\u001b[90m<chr>\u001b[39m\u001b[23m \"YVP 10\", \"YVP 10\", \"YVP 10\", \"YVP 10\", \"…\n",
            "$ year                        \u001b[3m\u001b[90m<chr>\u001b[39m\u001b[23m \"2017\", \"2017\", \"2017\", \"2017\", \"2017\", \"…\n",
            "$ plot_loc                    \u001b[3m\u001b[90m<chr>\u001b[39m\u001b[23m NA, NA, NA, NA, NA, NA, NA, NA, NA, NA, N…\n",
            "$ plot_rep                    \u001b[3m\u001b[90m<chr>\u001b[39m\u001b[23m NA, NA, NA, NA, NA, NA, NA, NA, NA, NA, N…\n",
            "$ plot_num                    \u001b[3m\u001b[90m<int>\u001b[39m\u001b[23m 10, 10, 10, 10, 10, 10, 10, 10, 10, 10, 1…\n",
            "$ aspect_mean_deg             \u001b[3m\u001b[90m<dbl>\u001b[39m\u001b[23m 18.8095, 18.8095, 18.8095, 18.8095, 18.80…\n",
            "$ elevation_mean_m            \u001b[3m\u001b[90m<dbl>\u001b[39m\u001b[23m 1146.9, 1146.9, 1146.9, 1146.9, 1146.9, 1…\n",
            "$ slope_mean_deg              \u001b[3m\u001b[90m<dbl>\u001b[39m\u001b[23m 20.7940, 20.7940, 20.7940, 20.7940, 20.79…\n",
            "$ cover_type_2016_gridVeg     \u001b[3m\u001b[90m<chr>\u001b[39m\u001b[23m \"non-irrigated grasslands\", \"non-irrigate…\n",
            "$ type3_vegetation_indicators \u001b[3m\u001b[90m<chr>\u001b[39m\u001b[23m \"wooded draw\", \"wooded draw\", \"wooded dra…\n",
            "$ type4_indicators_history    \u001b[3m\u001b[90m<chr>\u001b[39m\u001b[23m \"wooded draw\", \"wooded draw\", \"wooded dra…\n",
            "$ groundcover_type            \u001b[3m\u001b[90m<chr>\u001b[39m\u001b[23m \"BG\", \"BV\", \"G\", \"L\", \"LIC\", \"M\", \"R\", \"W…\n",
            "$ groundcover_pct_avg         \u001b[3m\u001b[90m<dbl>\u001b[39m\u001b[23m 2.4, 66.5, 1.1, 15.5, 7.4, 10.0, 0.0, 0.0…\n"
          ],
          "name": "stdout"
        }
      ]
    },
    {
      "cell_type": "markdown",
      "metadata": {
        "id": "OebX0Pe_tkVX",
        "colab_type": "text"
      },
      "source": [
        "# Output"
      ]
    },
    {
      "cell_type": "code",
      "metadata": {
        "id": "ikBihP_9tpUR",
        "colab_type": "code",
        "colab": {}
      },
      "source": [
        "df_yvp_groundCover_cover <- df_reorder"
      ],
      "execution_count": 143,
      "outputs": []
    },
    {
      "cell_type": "code",
      "metadata": {
        "id": "H69YSh87pMp9",
        "colab_type": "code",
        "colab": {}
      },
      "source": [
        "write_csv(df_yvp_groundCover_cover, path = \"yvp_groundCover_cover-WRANGLE.csv\")"
      ],
      "execution_count": 144,
      "outputs": []
    }
  ]
}