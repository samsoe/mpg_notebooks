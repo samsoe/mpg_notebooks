{
  "nbformat": 4,
  "nbformat_minor": 0,
  "metadata": {
    "colab": {
      "name": "YVP - Additional Species - Wrangle.ipynb",
      "provenance": [],
      "collapsed_sections": [],
      "toc_visible": true,
      "include_colab_link": true
    },
    "kernelspec": {
      "name": "ir",
      "display_name": "R"
    }
  },
  "cells": [
    {
      "cell_type": "markdown",
      "metadata": {
        "id": "view-in-github",
        "colab_type": "text"
      },
      "source": [
        "<a href=\"https://colab.research.google.com/github/samsoe/mpg_notebooks/blob/master/YVP_Additional_Species_Wrangle.ipynb\" target=\"_parent\"><img src=\"https://colab.research.google.com/assets/colab-badge.svg\" alt=\"Open In Colab\"/></a>"
      ]
    },
    {
      "cell_type": "markdown",
      "metadata": {
        "id": "dY-V9Dd3rj8o",
        "colab_type": "text"
      },
      "source": [
        "*R Notebook*"
      ]
    },
    {
      "cell_type": "markdown",
      "metadata": {
        "id": "RKBdNw56BzwD",
        "colab_type": "text"
      },
      "source": [
        "# README"
      ]
    },
    {
      "cell_type": "markdown",
      "metadata": {
        "id": "1ASQ4BJUrqBe",
        "colab_type": "text"
      },
      "source": [
        "* Readme fixed plot vegetation data - [Additional Species Data](https://docs.google.com/document/d/16-Aq8u9Rudd78fSzfjvpCXyQgE-BstC-d2PjYfmLtcw/edit#heading=h.t9gebon1aetd)"
      ]
    },
    {
      "cell_type": "markdown",
      "metadata": {
        "id": "uHFtKHHfCDHX",
        "colab_type": "text"
      },
      "source": [
        "# Load Tools"
      ]
    },
    {
      "cell_type": "code",
      "metadata": {
        "id": "SmQYga2dsDO_",
        "colab_type": "code",
        "colab": {
          "base_uri": "https://localhost:8080/",
          "height": 0
        },
        "outputId": "5590be6e-d928-45af-f95d-884206832248"
      },
      "source": [
        "# Package and library installation\n",
        "packages_needed = c(\"tidyverse\", \"gsheet\") # comma delimited vector of package names\n",
        "packages_installed = packages_needed %in% rownames(installed.packages())\n",
        "\n",
        "if (any(! packages_installed))\n",
        "  install.packages(packages_needed[! packages_installed])\n",
        "for (i in 1:length(packages_needed)) {\n",
        "  library(packages_needed[i], character.only = T)\n",
        "}"
      ],
      "execution_count": 1,
      "outputs": [
        {
          "output_type": "stream",
          "text": [
            "Installing package into ‘/usr/local/lib/R/site-library’\n",
            "(as ‘lib’ is unspecified)\n",
            "\n",
            "── \u001b[1mAttaching packages\u001b[22m ─────────────────────────────────────── tidyverse 1.3.0 ──\n",
            "\n",
            "\u001b[32m✔\u001b[39m \u001b[34mggplot2\u001b[39m 3.3.2     \u001b[32m✔\u001b[39m \u001b[34mpurrr  \u001b[39m 0.3.4\n",
            "\u001b[32m✔\u001b[39m \u001b[34mtibble \u001b[39m 3.0.3     \u001b[32m✔\u001b[39m \u001b[34mdplyr  \u001b[39m 1.0.0\n",
            "\u001b[32m✔\u001b[39m \u001b[34mtidyr  \u001b[39m 1.1.0     \u001b[32m✔\u001b[39m \u001b[34mstringr\u001b[39m 1.4.0\n",
            "\u001b[32m✔\u001b[39m \u001b[34mreadr  \u001b[39m 1.3.1     \u001b[32m✔\u001b[39m \u001b[34mforcats\u001b[39m 0.5.0\n",
            "\n",
            "── \u001b[1mConflicts\u001b[22m ────────────────────────────────────────── tidyverse_conflicts() ──\n",
            "\u001b[31m✖\u001b[39m \u001b[34mdplyr\u001b[39m::\u001b[32mfilter()\u001b[39m masks \u001b[34mstats\u001b[39m::filter()\n",
            "\u001b[31m✖\u001b[39m \u001b[34mdplyr\u001b[39m::\u001b[32mlag()\u001b[39m    masks \u001b[34mstats\u001b[39m::lag()\n",
            "\n"
          ],
          "name": "stderr"
        }
      ]
    },
    {
      "cell_type": "markdown",
      "metadata": {
        "id": "lZtXwe94Cext",
        "colab_type": "text"
      },
      "source": [
        "# Source"
      ]
    },
    {
      "cell_type": "code",
      "metadata": {
        "id": "X9t3Ks1oB3gG",
        "colab_type": "code",
        "colab": {}
      },
      "source": [
        "# 2020-04-28_yvp_additional_species.csv\n",
        "src = 'https://drive.google.com/uc?id=1GWDvhXIHsrOUaRveq5SoozgZ7oUW9XJy'"
      ],
      "execution_count": 2,
      "outputs": []
    },
    {
      "cell_type": "code",
      "metadata": {
        "id": "fvU8xi8iB4SI",
        "colab_type": "code",
        "colab": {
          "base_uri": "https://localhost:8080/",
          "height": 153
        },
        "outputId": "ff9b95cc-eb68-49ab-88d8-de4791a6ac1c"
      },
      "source": [
        "df <- read_csv(file = src)"
      ],
      "execution_count": 5,
      "outputs": [
        {
          "output_type": "stream",
          "text": [
            "Parsed with column specification:\n",
            "cols(\n",
            "  plot_code = \u001b[31mcol_character()\u001b[39m,\n",
            "  date = \u001b[34mcol_date(format = \"\")\u001b[39m,\n",
            "  species_code = \u001b[31mcol_character()\u001b[39m,\n",
            "  cover_pct = \u001b[32mcol_double()\u001b[39m\n",
            ")\n",
            "\n"
          ],
          "name": "stderr"
        }
      ]
    },
    {
      "cell_type": "code",
      "metadata": {
        "id": "YDY7IDdmB4PN",
        "colab_type": "code",
        "colab": {
          "base_uri": "https://localhost:8080/",
          "height": 120
        },
        "outputId": "1ed8d818-d718-415c-e779-8e579ff92c23"
      },
      "source": [
        "head(df, n=2)"
      ],
      "execution_count": 6,
      "outputs": [
        {
          "output_type": "display_data",
          "data": {
            "text/plain": [
              "  plot_code date       species_code cover_pct\n",
              "1 YVP 10    2017-06-09 BALSAG       1        \n",
              "2 YVP 10    2017-06-09 ERICOR       1        "
            ],
            "text/latex": "A tibble: 2 × 4\n\\begin{tabular}{llll}\n plot\\_code & date & species\\_code & cover\\_pct\\\\\n <chr> & <date> & <chr> & <dbl>\\\\\n\\hline\n\t YVP 10 & 2017-06-09 & BALSAG & 1\\\\\n\t YVP 10 & 2017-06-09 & ERICOR & 1\\\\\n\\end{tabular}\n",
            "text/markdown": "\nA tibble: 2 × 4\n\n| plot_code &lt;chr&gt; | date &lt;date&gt; | species_code &lt;chr&gt; | cover_pct &lt;dbl&gt; |\n|---|---|---|---|\n| YVP 10 | 2017-06-09 | BALSAG | 1 |\n| YVP 10 | 2017-06-09 | ERICOR | 1 |\n\n",
            "text/html": [
              "<table>\n",
              "<caption>A tibble: 2 × 4</caption>\n",
              "<thead>\n",
              "\t<tr><th scope=col>plot_code</th><th scope=col>date</th><th scope=col>species_code</th><th scope=col>cover_pct</th></tr>\n",
              "\t<tr><th scope=col>&lt;chr&gt;</th><th scope=col>&lt;date&gt;</th><th scope=col>&lt;chr&gt;</th><th scope=col>&lt;dbl&gt;</th></tr>\n",
              "</thead>\n",
              "<tbody>\n",
              "\t<tr><td>YVP 10</td><td>2017-06-09</td><td>BALSAG</td><td>1</td></tr>\n",
              "\t<tr><td>YVP 10</td><td>2017-06-09</td><td>ERICOR</td><td>1</td></tr>\n",
              "</tbody>\n",
              "</table>\n"
            ]
          },
          "metadata": {
            "tags": []
          }
        }
      ]
    },
    {
      "cell_type": "markdown",
      "metadata": {
        "id": "BViuChRIscI_",
        "colab_type": "text"
      },
      "source": [
        "# Wrangle"
      ]
    },
    {
      "cell_type": "markdown",
      "metadata": {
        "id": "8nT3cJghuxNL",
        "colab_type": "text"
      },
      "source": [
        "## Structure Columns"
      ]
    },
    {
      "cell_type": "markdown",
      "metadata": {
        "id": "56efCg-N7Gv6",
        "colab_type": "text"
      },
      "source": [
        "### plot_code"
      ]
    },
    {
      "cell_type": "code",
      "metadata": {
        "id": "ys44V90P7Jdp",
        "colab_type": "code",
        "colab": {}
      },
      "source": [
        "# convert to string\n",
        "df$plot_code <- as.character(df$plot_code)"
      ],
      "execution_count": null,
      "outputs": []
    },
    {
      "cell_type": "markdown",
      "metadata": {
        "id": "iDUWAOa37cqq",
        "colab_type": "text"
      },
      "source": [
        "### plot_loc"
      ]
    },
    {
      "cell_type": "code",
      "metadata": {
        "id": "NwVFZ1b-7Jak",
        "colab_type": "code",
        "colab": {}
      },
      "source": [
        "# detect \"N\" in 'plot_code' and write to new column 'plot_loc'\n",
        "df <- df %>%\n",
        "  mutate(plot_loc = ifelse(str_detect(plot_code, \"N\"), \"N\", NA))"
      ],
      "execution_count": 7,
      "outputs": []
    },
    {
      "cell_type": "markdown",
      "metadata": {
        "id": "gbAUDppQ9Edt",
        "colab_type": "text"
      },
      "source": [
        "### plot_rep"
      ]
    },
    {
      "cell_type": "code",
      "metadata": {
        "id": "Unxc5snt7JOc",
        "colab_type": "code",
        "colab": {}
      },
      "source": [
        "# detect \"A\", \"B\", \"C\" characters in plot_code and if present write to 'plot_rep'\n",
        "df <- df %>%\n",
        "  mutate(plot_rep = case_when(str_detect(plot_code, \"A\")~\"A\",\n",
        "                              str_detect(plot_code, \"B\")~\"B\",\n",
        "                              str_detect(plot_code, \"C\")~\"C\"))"
      ],
      "execution_count": null,
      "outputs": []
    },
    {
      "cell_type": "markdown",
      "metadata": {
        "id": "jc2j13rl97z-",
        "colab_type": "text"
      },
      "source": [
        "### plot_num"
      ]
    },
    {
      "cell_type": "code",
      "metadata": {
        "id": "EHu59dv67JBr",
        "colab_type": "code",
        "colab": {}
      },
      "source": [
        "# use digital values from 'plot_code' and to populate 'plot_num'\n",
        "df <- df %>%\n",
        "  mutate(plot_num = str_extract(plot_code, \"[:digit:].*\"),\n",
        "         plot_num = as.integer(plot_num))"
      ],
      "execution_count": null,
      "outputs": []
    },
    {
      "cell_type": "markdown",
      "metadata": {
        "id": "R2yhuBgv-UC5",
        "colab_type": "text"
      },
      "source": [
        "### date"
      ]
    },
    {
      "cell_type": "code",
      "metadata": {
        "id": "7VOe0PQ3-Ai1",
        "colab_type": "code",
        "colab": {}
      },
      "source": [
        "# convert to date\n",
        "df$date <- as.Date(df$date)"
      ],
      "execution_count": null,
      "outputs": []
    },
    {
      "cell_type": "markdown",
      "metadata": {
        "id": "_qijroiQ-8Lk",
        "colab_type": "text"
      },
      "source": [
        "### species_key"
      ]
    },
    {
      "cell_type": "markdown",
      "metadata": {
        "id": "VKfO9qiA_DYm",
        "colab_type": "text"
      },
      "source": [
        "This will be imported from the plant species metadata table, and we can use it to join and correct species codes in the future. But because joining the key to the species codes will require that the codes be corrected first, we will skip this step for now."
      ]
    },
    {
      "cell_type": "markdown",
      "metadata": {
        "id": "dcGFiwV7_yvH",
        "colab_type": "text"
      },
      "source": [
        "### species_code"
      ]
    },
    {
      "cell_type": "code",
      "metadata": {
        "id": "mVZlmlJW_0nv",
        "colab_type": "code",
        "colab": {}
      },
      "source": [
        "# convert to string\n",
        "df$species_code <- as.character(df$species_code)"
      ],
      "execution_count": null,
      "outputs": []
    },
    {
      "cell_type": "markdown",
      "metadata": {
        "id": "yOxo-5-g_njM",
        "colab_type": "text"
      },
      "source": [
        "### cover_pct"
      ]
    },
    {
      "cell_type": "code",
      "metadata": {
        "id": "Me1DTfmI_p2G",
        "colab_type": "code",
        "colab": {
          "base_uri": "https://localhost:8080/",
          "height": 34
        },
        "outputId": "6de499bb-8c42-4aaf-d9cc-ccff4665397f"
      },
      "source": [
        "typeof(df$cover_pct)"
      ],
      "execution_count": null,
      "outputs": [
        {
          "output_type": "display_data",
          "data": {
            "text/plain": [
              "[1] \"integer\""
            ],
            "text/latex": "'integer'",
            "text/markdown": "'integer'",
            "text/html": [
              "'integer'"
            ]
          },
          "metadata": {
            "tags": []
          }
        }
      ]
    },
    {
      "cell_type": "code",
      "metadata": {
        "id": "xINOTHeY7IfN",
        "colab_type": "code",
        "colab": {
          "base_uri": "https://localhost:8080/",
          "height": 204
        },
        "outputId": "0017e846-a723-4ce9-cd4c-79d2aa1c7ddf"
      },
      "source": [
        "head(df)"
      ],
      "execution_count": null,
      "outputs": [
        {
          "output_type": "display_data",
          "data": {
            "text/plain": [
              "  plot_code date       species_code cover_pct plot_loc plot_rep plot_num\n",
              "1 YVP 10    2017-06-09 BALSAG        1        NA       NA       10      \n",
              "2 YVP 10    2017-06-09 ERICOR        1        NA       NA       10      \n",
              "3 YVP 10    2017-06-09 ERINAU        2        NA       NA       10      \n",
              "4 YVP 10    2017-06-09 ERIPUM        1        NA       NA       10      \n",
              "5 YVP 10    2017-06-09 LEWRED        1        NA       NA       10      \n",
              "6 YVP 10    2017-06-09 PURVIR       10        NA       NA       10      "
            ],
            "text/latex": "A data.frame: 6 × 7\n\\begin{tabular}{r|lllllll}\n  & plot\\_code & date & species\\_code & cover\\_pct & plot\\_loc & plot\\_rep & plot\\_num\\\\\n  & <chr> & <date> & <chr> & <int> & <chr> & <chr> & <int>\\\\\n\\hline\n\t1 & YVP 10 & 2017-06-09 & BALSAG &  1 & NA & NA & 10\\\\\n\t2 & YVP 10 & 2017-06-09 & ERICOR &  1 & NA & NA & 10\\\\\n\t3 & YVP 10 & 2017-06-09 & ERINAU &  2 & NA & NA & 10\\\\\n\t4 & YVP 10 & 2017-06-09 & ERIPUM &  1 & NA & NA & 10\\\\\n\t5 & YVP 10 & 2017-06-09 & LEWRED &  1 & NA & NA & 10\\\\\n\t6 & YVP 10 & 2017-06-09 & PURVIR & 10 & NA & NA & 10\\\\\n\\end{tabular}\n",
            "text/markdown": "\nA data.frame: 6 × 7\n\n| <!--/--> | plot_code &lt;chr&gt; | date &lt;date&gt; | species_code &lt;chr&gt; | cover_pct &lt;int&gt; | plot_loc &lt;chr&gt; | plot_rep &lt;chr&gt; | plot_num &lt;int&gt; |\n|---|---|---|---|---|---|---|---|\n| 1 | YVP 10 | 2017-06-09 | BALSAG |  1 | NA | NA | 10 |\n| 2 | YVP 10 | 2017-06-09 | ERICOR |  1 | NA | NA | 10 |\n| 3 | YVP 10 | 2017-06-09 | ERINAU |  2 | NA | NA | 10 |\n| 4 | YVP 10 | 2017-06-09 | ERIPUM |  1 | NA | NA | 10 |\n| 5 | YVP 10 | 2017-06-09 | LEWRED |  1 | NA | NA | 10 |\n| 6 | YVP 10 | 2017-06-09 | PURVIR | 10 | NA | NA | 10 |\n\n",
            "text/html": [
              "<table>\n",
              "<caption>A data.frame: 6 × 7</caption>\n",
              "<thead>\n",
              "\t<tr><th></th><th scope=col>plot_code</th><th scope=col>date</th><th scope=col>species_code</th><th scope=col>cover_pct</th><th scope=col>plot_loc</th><th scope=col>plot_rep</th><th scope=col>plot_num</th></tr>\n",
              "\t<tr><th></th><th scope=col>&lt;chr&gt;</th><th scope=col>&lt;date&gt;</th><th scope=col>&lt;chr&gt;</th><th scope=col>&lt;int&gt;</th><th scope=col>&lt;chr&gt;</th><th scope=col>&lt;chr&gt;</th><th scope=col>&lt;int&gt;</th></tr>\n",
              "</thead>\n",
              "<tbody>\n",
              "\t<tr><th scope=row>1</th><td>YVP 10</td><td>2017-06-09</td><td>BALSAG</td><td> 1</td><td>NA</td><td>NA</td><td>10</td></tr>\n",
              "\t<tr><th scope=row>2</th><td>YVP 10</td><td>2017-06-09</td><td>ERICOR</td><td> 1</td><td>NA</td><td>NA</td><td>10</td></tr>\n",
              "\t<tr><th scope=row>3</th><td>YVP 10</td><td>2017-06-09</td><td>ERINAU</td><td> 2</td><td>NA</td><td>NA</td><td>10</td></tr>\n",
              "\t<tr><th scope=row>4</th><td>YVP 10</td><td>2017-06-09</td><td>ERIPUM</td><td> 1</td><td>NA</td><td>NA</td><td>10</td></tr>\n",
              "\t<tr><th scope=row>5</th><td>YVP 10</td><td>2017-06-09</td><td>LEWRED</td><td> 1</td><td>NA</td><td>NA</td><td>10</td></tr>\n",
              "\t<tr><th scope=row>6</th><td>YVP 10</td><td>2017-06-09</td><td>PURVIR</td><td>10</td><td>NA</td><td>NA</td><td>10</td></tr>\n",
              "</tbody>\n",
              "</table>\n"
            ]
          },
          "metadata": {
            "tags": []
          }
        }
      ]
    },
    {
      "cell_type": "markdown",
      "metadata": {
        "id": "zaFLjC5gcVBH",
        "colab_type": "text"
      },
      "source": [
        "# Correct errors in species codes\n",
        "The species codes used in the source data contain numerous errors, and they also in some cases represent old taxonomy where species names have been revised. This can cause all sorts of problems, like artificially creating new species or making it impossible to join with available species metadata. Several steps must be accomplished here:\n",
        "\n",
        "1. Trim leading or trailing spaces from the code (this was done in excel before source CSV files were created)\n",
        "2. Read in master list of species metadata and query YVP species codes to identify which ones don't align\n",
        "3. Align the species codes, identify the ones that are wrong and correct them\n",
        "4. Import the numeric key from the species metadata so that future aligments are easier and errors are less common"
      ]
    },
    {
      "cell_type": "markdown",
      "metadata": {
        "id": "ow74P7COc7Aw",
        "colab_type": "text"
      },
      "source": [
        "### Read in master list of species metadata and codes"
      ]
    },
    {
      "cell_type": "code",
      "metadata": {
        "id": "jBZUWtPOc7wu",
        "colab_type": "code",
        "colab": {
          "base_uri": "https://localhost:8080/",
          "height": 204
        },
        "outputId": "2b0a9b85-4768-42fa-90f9-9a43f9d5cbaa"
      },
      "source": [
        "# 2020-04-27_MPGR_plant_species_list\n",
        "spp = gsheet2tbl(\"https://docs.google.com/spreadsheets/d/1wPen7yeimXtY4qK5Nj4JPvlgHYamoogR0YJekaF7i9Y\") %>% \n",
        "as_tibble() %>% glimpse()"
      ],
      "execution_count": null,
      "outputs": [
        {
          "output_type": "stream",
          "text": [
            "Rows: 754\n",
            "Columns: 9\n",
            "$ key_PlantSpecies \u001b[3m\u001b[90m<dbl>\u001b[39m\u001b[23m 784, 783, 782, 781, 780, 779, 778, 777, 776, 775, 77…\n",
            "$ key_PlantCode    \u001b[3m\u001b[90m<chr>\u001b[39m\u001b[23m \"UNKN_SP\", \"CRYP_SP\", \"RUME_SP\", \"HIER_SP\", \"BOEC_SP…\n",
            "$ NameScientific   \u001b[3m\u001b[90m<chr>\u001b[39m\u001b[23m \"Unknown\", \"Cryptantha spp.\", \"Rumex spp.\", \"Hieraci…\n",
            "$ NameSynonym      \u001b[3m\u001b[90m<chr>\u001b[39m\u001b[23m NA, NA, NA, NA, \"Arabis spp.\", NA, NA, NA, NA, NA, N…\n",
            "$ NameCommon       \u001b[3m\u001b[90m<chr>\u001b[39m\u001b[23m \"unknown\", \"cryptantha\", \"dock\", \"hawkweed\", \"rockcr…\n",
            "$ NameFamily       \u001b[3m\u001b[90m<chr>\u001b[39m\u001b[23m \"unknown\", \"Boraginaceae\", \"Polygonaceae\", \"Asterace…\n",
            "$ NativeStatus     \u001b[3m\u001b[90m<chr>\u001b[39m\u001b[23m \"unknown\", \"native\", \"nonnative\", \"unknown\", \"native…\n",
            "$ LifeCycle        \u001b[3m\u001b[90m<chr>\u001b[39m\u001b[23m \"unknown\", \"unknown\", \"Perennial\", \"Perennial\", \"Bie…\n",
            "$ LifeForm         \u001b[3m\u001b[90m<chr>\u001b[39m\u001b[23m \"unknown\", \"forb\", \"forb\", \"forb\", \"forb\", \"forb\", \"…\n"
          ],
          "name": "stdout"
        }
      ]
    },
    {
      "cell_type": "markdown",
      "metadata": {
        "id": "9OxD489QdYYX",
        "colab_type": "text"
      },
      "source": [
        "### Align species codes and identify mistakes\n"
      ]
    },
    {
      "cell_type": "code",
      "metadata": {
        "id": "tnQGAfWIdZYA",
        "colab_type": "code",
        "colab": {
          "base_uri": "https://localhost:8080/",
          "height": 578
        },
        "outputId": "b635d14a-dca9-490e-a9d6-9811f4b3804f"
      },
      "source": [
        "# Align the species codes \n",
        "# Produce df of codes that don't match the master list\n",
        "collisions_species_codes = \n",
        "df %>% \n",
        "anti_join(spp, by = c(\"species_code\" = \"key_PlantCode\")) %>% \n",
        "group_by(species_code) %>% \n",
        "distinct(species_code) %>% \n",
        "arrange(species_code) %>% \n",
        "print(n = Inf)"
      ],
      "execution_count": null,
      "outputs": [
        {
          "output_type": "stream",
          "text": [
            "\u001b[90m# A tibble: 29 x 1\u001b[39m\n",
            "\u001b[90m# Groups:   species_code [29]\u001b[39m\n",
            "   species_code      \n",
            "   \u001b[3m\u001b[90m<chr>\u001b[39m\u001b[23m             \n",
            "\u001b[90m 1\u001b[39m ANTE SP           \n",
            "\u001b[90m 2\u001b[39m ANTSPP            \n",
            "\u001b[90m 3\u001b[39m ANTSPP2           \n",
            "\u001b[90m 4\u001b[39m ARTSPP            \n",
            "\u001b[90m 5\u001b[39m ASTMIN            \n",
            "\u001b[90m 6\u001b[39m BOEC SP           \n",
            "\u001b[90m 7\u001b[39m BOESPP            \n",
            "\u001b[90m 8\u001b[39m CARE SP           \n",
            "\u001b[90m 9\u001b[39m CAREX SP          \n",
            "\u001b[90m10\u001b[39m CREACU            \n",
            "\u001b[90m11\u001b[39m DESC SP           \n",
            "\u001b[90m12\u001b[39m ERIG SP           \n",
            "\u001b[90m13\u001b[39m ERISPP            \n",
            "\u001b[90m14\u001b[39m ERITRA            \n",
            "\u001b[90m15\u001b[39m GAIARI?           \n",
            "\u001b[90m16\u001b[39m HEISCO            \n",
            "\u001b[90m17\u001b[39m HEISPP            \n",
            "\u001b[90m18\u001b[39m PENSPP            \n",
            "\u001b[90m19\u001b[39m PURVIR            \n",
            "\u001b[90m20\u001b[39m ROSSPP            \n",
            "\u001b[90m21\u001b[39m SALI SP           \n",
            "\u001b[90m22\u001b[39m SALIX SP          \n",
            "\u001b[90m23\u001b[39m SELDEN            \n",
            "\u001b[90m24\u001b[39m SENIINT           \n",
            "\u001b[90m25\u001b[39m SOLCAN            \n",
            "\u001b[90m26\u001b[39m UNKN SP           \n",
            "\u001b[90m27\u001b[39m UNKNOWN ASTERACEAE\n",
            "\u001b[90m28\u001b[39m UNKNOWN SHRUB     \n",
            "\u001b[90m29\u001b[39m VIOGLA?           \n"
          ],
          "name": "stdout"
        }
      ]
    },
    {
      "cell_type": "markdown",
      "metadata": {
        "id": "ZkNsAchNd-FJ",
        "colab_type": "text"
      },
      "source": [
        "### Create file that associates errors with corrections"
      ]
    },
    {
      "cell_type": "code",
      "metadata": {
        "id": "ruUQuZvdd-re",
        "colab_type": "code",
        "colab": {
          "base_uri": "https://localhost:8080/",
          "height": 51
        },
        "outputId": "8edbbd41-d6ae-46c5-cac8-b08cf1b539f8"
      },
      "source": [
        "# Produce file `collisions_species_codes` for work in spreadsheet outside of this environment\n",
        "# The file will save to the `content` folder in the drive tree\n",
        "# BL downloaded the file to his desktop to produce a new naming key file\n",
        "filename = \"collisions_species_codes.csv\"\n",
        "if (filename %in% list.files(getwd())) {\n",
        "  cat(\"file already exists in working directory: \", filename, \"\\n\", \"working directory: \", getwd(), \"\\n\")\n",
        "} else {\n",
        "  write.csv(collisions_species_codes, filename)\n",
        "  cat(filename, \" written to working directory \\n\", \"working directory: \", getwd(), \"\\n\")\n",
        "}"
      ],
      "execution_count": null,
      "outputs": [
        {
          "output_type": "stream",
          "text": [
            "file already exists in working directory:  collisions_species_codes.csv \n",
            " working directory:  /content \n"
          ],
          "name": "stdout"
        }
      ]
    },
    {
      "cell_type": "code",
      "metadata": {
        "id": "QCBgoKpej3NT",
        "colab_type": "code",
        "colab": {
          "base_uri": "https://localhost:8080/",
          "height": 85
        },
        "outputId": "dd11d778-186d-4fc3-9dec-0a9caf5f7239"
      },
      "source": [
        "# Import csv file with the updated codes \n",
        "# This file was produced by visually aligning the codes with a file that Rebecca Durham provided\n",
        "code_corrections <- read.csv(file = \"https://drive.google.com/uc?id=11Eo8DKXp0GR5qLXiRoAwBg9MPCpX1AXq\",\n",
        "  colClasses = c(\"character\", \"character\")) %>% \n",
        "glimpse()"
      ],
      "execution_count": null,
      "outputs": [
        {
          "output_type": "stream",
          "text": [
            "Rows: 29\n",
            "Columns: 2\n",
            "$ plantcode_incorrect \u001b[3m\u001b[90m<chr>\u001b[39m\u001b[23m \"ANTE SP\", \"ANTSPP\", \"ANTSPP2\", \"ARTSPP\", \"ASTMIN…\n",
            "$ plantcode_corrected \u001b[3m\u001b[90m<chr>\u001b[39m\u001b[23m \"ANTE_SP\", \"ANTE_SP\", \"ANTE_SP\", \"ARTE_SP\", \"ASTM…\n"
          ],
          "name": "stdout"
        }
      ]
    },
    {
      "cell_type": "markdown",
      "metadata": {
        "id": "FY95BuhZkHpd",
        "colab_type": "text"
      },
      "source": [
        "### Cascade changes through dataset\n"
      ]
    },
    {
      "cell_type": "code",
      "metadata": {
        "id": "azpVoEDWkIxZ",
        "colab_type": "code",
        "colab": {
          "base_uri": "https://localhost:8080/",
          "height": 170
        },
        "outputId": "a4c3b535-e932-4a3a-8aa4-31a7ee5f6d11"
      },
      "source": [
        "# Create new df to hold corrected information\n",
        "# Change species_code to character variable to avoid problems with levels later\n",
        "yvp_addtl_spp_correct = df %>% mutate(species_code = as.character(species_code)) %>% glimpse()"
      ],
      "execution_count": null,
      "outputs": [
        {
          "output_type": "stream",
          "text": [
            "Rows: 1,280\n",
            "Columns: 7\n",
            "$ plot_code    \u001b[3m\u001b[90m<chr>\u001b[39m\u001b[23m \"YVP 10\", \"YVP 10\", \"YVP 10\", \"YVP 10\", \"YVP 10\", \"YVP 1…\n",
            "$ date         \u001b[3m\u001b[90m<date>\u001b[39m\u001b[23m 2017-06-09, 2017-06-09, 2017-06-09, 2017-06-09, 2017-06…\n",
            "$ species_code \u001b[3m\u001b[90m<chr>\u001b[39m\u001b[23m \"BALSAG\", \"ERICOR\", \"ERINAU\", \"ERIPUM\", \"LEWRED\", \"PURVI…\n",
            "$ cover_pct    \u001b[3m\u001b[90m<int>\u001b[39m\u001b[23m 1, 1, 2, 1, 1, 10, 1, 1, 1, 1, 1, 1, 1, 1, 1, 1, 1, 1, 5…\n",
            "$ plot_loc     \u001b[3m\u001b[90m<chr>\u001b[39m\u001b[23m NA, NA, NA, NA, NA, NA, NA, NA, NA, NA, NA, NA, NA, NA, …\n",
            "$ plot_rep     \u001b[3m\u001b[90m<chr>\u001b[39m\u001b[23m NA, NA, NA, NA, NA, NA, NA, NA, NA, NA, NA, NA, NA, NA, …\n",
            "$ plot_num     \u001b[3m\u001b[90m<int>\u001b[39m\u001b[23m 10, 10, 10, 10, 10, 10, 10, 10, 10, 10, 10, 10, 10, 10, …\n"
          ],
          "name": "stdout"
        }
      ]
    },
    {
      "cell_type": "code",
      "metadata": {
        "id": "Givt0xeBkWAK",
        "colab_type": "code",
        "colab": {}
      },
      "source": [
        "# Loop operation used to update each instance of an incorrect code\n",
        "# Embed logic control to prevent errors if this loop is run on a df with corrected codes\n",
        "# Variable to track loop cycles\n",
        "cycles = 0\n",
        "\n",
        "for (i in 1:length(code_corrections[, 1])) {\n",
        "  index = which(yvp_addtl_spp_correct$species_code == code_corrections$plantcode_incorrect[i])\n",
        "\n",
        "  if (length(index != 0)) {\n",
        "    cat(\"number of incorrect code entries: \", length(index), \"\\n\")\n",
        "    cat(\"incorrect code: \", code_corrections$plantcode_incorrect[i], \"\\n\")\n",
        "    yvp_addtl_spp_correct[index, ]$species_code = code_corrections$plantcode_corrected[i]\n",
        "    print(yvp_addtl_spp_correct[index, c(1,5,6,7)])\n",
        "    cycles = cycles + length(index)\n",
        "    cat(\"\\n\")\n",
        "  } else {\n",
        "    cat(\"no incorrect code entries were found \\n\")\n",
        "  }\n",
        "\n",
        "  cat(\"number of corrections made (cumulative): \", cycles, \"\\n\\n\\n\")\n",
        "\n",
        "}"
      ],
      "execution_count": null,
      "outputs": []
    },
    {
      "cell_type": "code",
      "metadata": {
        "id": "e76vVZDBkzdQ",
        "colab_type": "code",
        "colab": {
          "base_uri": "https://localhost:8080/",
          "height": 95
        },
        "outputId": "7886ce2a-467d-4f21-96eb-b5762e08f6a9"
      },
      "source": [
        "# Rescan for incorrect species codes\n",
        "yvp_addtl_spp_correct %>% \n",
        "anti_join(spp, by = c(\"species_code\" = \"key_PlantCode\")) %>% \n",
        "group_by(species_code) %>% distinct(species_code) %>% arrange(species_code)"
      ],
      "execution_count": null,
      "outputs": [
        {
          "output_type": "display_data",
          "data": {
            "text/plain": [
              "     species_code"
            ],
            "text/latex": "A grouped\\_df: 0 × 1\n\\begin{tabular}{l}\n species\\_code\\\\\n <chr>\\\\\n\\hline\n\\end{tabular}\n",
            "text/markdown": "\nA grouped_df: 0 × 1\n\n| species_code &lt;chr&gt; |\n|---|\n\n",
            "text/html": [
              "<table>\n",
              "<caption>A grouped_df: 0 × 1</caption>\n",
              "<thead>\n",
              "\t<tr><th scope=col>species_code</th></tr>\n",
              "\t<tr><th scope=col>&lt;chr&gt;</th></tr>\n",
              "</thead>\n",
              "<tbody>\n",
              "</tbody>\n",
              "</table>\n"
            ]
          },
          "metadata": {
            "tags": []
          }
        }
      ]
    },
    {
      "cell_type": "markdown",
      "metadata": {
        "id": "uMMjGJ3i1CO2",
        "colab_type": "text"
      },
      "source": [
        "**Align column order to schema**\n",
        "* plot_code\n",
        "* plot_loc\n",
        "* plot_rep\n",
        "* plot_num\n",
        "* date\n",
        "* species_key\n",
        "* species_code\n",
        "* cover_pct"
      ]
    },
    {
      "cell_type": "code",
      "metadata": {
        "id": "TJusBmcUk5G1",
        "colab_type": "code",
        "colab": {
          "base_uri": "https://localhost:8080/",
          "height": 187
        },
        "outputId": "2f84ce2f-11b9-4a13-8206-30c1661f3e34"
      },
      "source": [
        "# Incorporate serial key for species codes\n",
        "yvp_addtl_spp_FINAL = \n",
        "yvp_addtl_spp_correct %>% \n",
        "left_join(spp %>% select(key_PlantSpecies, key_PlantCode), by = c(\"species_code\" = \"key_PlantCode\")) %>% \n",
        "rename(species_key = key_PlantSpecies) %>% \n",
        "select(plot_code, plot_loc, plot_rep, plot_num, date, species_key, species_code, cover_pct) %>% \n",
        "glimpse()"
      ],
      "execution_count": null,
      "outputs": [
        {
          "output_type": "stream",
          "text": [
            "Rows: 1,280\n",
            "Columns: 8\n",
            "$ plot_code    \u001b[3m\u001b[90m<chr>\u001b[39m\u001b[23m \"YVP 10\", \"YVP 10\", \"YVP 10\", \"YVP 10\", \"YVP 10\", \"YVP 1…\n",
            "$ plot_loc     \u001b[3m\u001b[90m<chr>\u001b[39m\u001b[23m NA, NA, NA, NA, NA, NA, NA, NA, NA, NA, NA, NA, NA, NA, …\n",
            "$ plot_rep     \u001b[3m\u001b[90m<chr>\u001b[39m\u001b[23m NA, NA, NA, NA, NA, NA, NA, NA, NA, NA, NA, NA, NA, NA, …\n",
            "$ plot_num     \u001b[3m\u001b[90m<int>\u001b[39m\u001b[23m 10, 10, 10, 10, 10, 10, 10, 10, 10, 10, 10, 10, 10, 10, …\n",
            "$ date         \u001b[3m\u001b[90m<date>\u001b[39m\u001b[23m 2017-06-09, 2017-06-09, 2017-06-09, 2017-06-09, 2017-06…\n",
            "$ species_key  \u001b[3m\u001b[90m<dbl>\u001b[39m\u001b[23m 72, 212, 218, 220, 298, 433, 16, 72, 163, 169, 212, 218,…\n",
            "$ species_code \u001b[3m\u001b[90m<chr>\u001b[39m\u001b[23m \"BALSAG\", \"ERICOR\", \"ERINAU\", \"ERIPUM\", \"LEWRED\", \"PRUVI…\n",
            "$ cover_pct    \u001b[3m\u001b[90m<int>\u001b[39m\u001b[23m 1, 1, 2, 1, 1, 10, 1, 1, 1, 1, 1, 1, 1, 1, 1, 1, 1, 1, 5…\n"
          ],
          "name": "stdout"
        }
      ]
    },
    {
      "cell_type": "code",
      "metadata": {
        "id": "OUonxlHYlTDf",
        "colab_type": "code",
        "colab": {
          "base_uri": "https://localhost:8080/",
          "height": 255
        },
        "outputId": "f6a1ecc7-5ed2-4f4e-96d3-9b38d4afc3c4"
      },
      "source": [
        "summary(yvp_addtl_spp_FINAL)"
      ],
      "execution_count": null,
      "outputs": [
        {
          "output_type": "display_data",
          "data": {
            "text/plain": [
              "  plot_code           plot_loc           plot_rep            plot_num    \n",
              " Length:1280        Length:1280        Length:1280        Min.   :  7.0  \n",
              " Class :character   Class :character   Class :character   1st Qu.:110.0  \n",
              " Mode  :character   Mode  :character   Mode  :character   Median :209.0  \n",
              "                                                          Mean   :250.1  \n",
              "                                                          3rd Qu.:386.0  \n",
              "                                                          Max.   :571.0  \n",
              "      date             species_key    species_code         cover_pct     \n",
              " Min.   :2017-05-08   Min.   :  3.0   Length:1280        Min.   : 0.000  \n",
              " 1st Qu.:2017-06-09   1st Qu.: 91.0   Class :character   1st Qu.: 1.000  \n",
              " Median :2018-07-02   Median :240.0   Mode  :character   Median : 1.000  \n",
              " Mean   :2018-07-17   Mean   :258.2                      Mean   : 1.635  \n",
              " 3rd Qu.:2019-05-29   3rd Qu.:405.0                      3rd Qu.: 1.000  \n",
              " Max.   :2019-07-16   Max.   :784.0                      Max.   :80.000  "
            ]
          },
          "metadata": {
            "tags": []
          }
        }
      ]
    },
    {
      "cell_type": "markdown",
      "metadata": {
        "id": "698tSPqtlZdi",
        "colab_type": "text"
      },
      "source": [
        "# Output\n",
        "## Export wrangled dataframe to csv\n",
        "Export the full dataset so we can push it to the BQ database"
      ]
    },
    {
      "cell_type": "code",
      "metadata": {
        "id": "AiwEcZgFlkbR",
        "colab_type": "code",
        "colab": {
          "base_uri": "https://localhost:8080/",
          "height": 51
        },
        "outputId": "77d12da4-f860-4486-f94f-e5a6d8b1ea0c"
      },
      "source": [
        "filename_final = \"yvp_additional_species_FINAL.csv\"\n",
        "\n",
        "if (filename_final %in% list.files(getwd())) {\n",
        "  cat(\"file already exists in working directory:\", filename_final, \"\\n\", \"working directory:\", getwd(), \"\\n\")\n",
        "} else {\n",
        "  write.csv(yvp_addtl_spp_FINAL, filename_final)\n",
        "  cat(filename_final, \"written to working directory \\n\", \"working directory:\", getwd(), \"\\n\")\n",
        "}"
      ],
      "execution_count": null,
      "outputs": [
        {
          "output_type": "stream",
          "text": [
            "yvp_additional_species_FINAL.csv written to working directory \n",
            " working directory: /content \n"
          ],
          "name": "stdout"
        }
      ]
    },
    {
      "cell_type": "markdown",
      "metadata": {
        "id": "cLeD8WpilwYp",
        "colab_type": "text"
      },
      "source": [
        "## Push to BigQuery\n",
        "* Source File: '[2020-05-06_yvp_additional_species_FINAL.csv](https://drive.google.com/open?id=1Y6RkyRdATmpRED70Juhq5X5EBFXwjKBs)'\n",
        "* Dataset: `mpg-data-warehouse:fixed_plot_vegetation`\n",
        "  * Table: `mpg-data-warehouse:fixed_plot_vegetation.additional_species`"
      ]
    },
    {
      "cell_type": "markdown",
      "metadata": {
        "id": "aCzfg4p2l48Z",
        "colab_type": "text"
      },
      "source": [
        "## Export field datasheet version\n",
        "Field datasheets need to have a complete, cumulative species list for each plot recorded in a table, with the cover_pct column set to 0. This allows field techs to change the 0 to some number if the species is found. The date column is blank so that field techs can fill in the appropriate date. Do not include columns that are needed for data analysis, like plot_loc, plot_rep, plot_num, and species_key. \n",
        "\n",
        "**Schema for field data sheet**\n",
        "\n",
        "* plot_num (helps for sorting and finding plots)\n",
        "* plot_code\n",
        "* date\n",
        "* species_code\n",
        "* cover_pct"
      ]
    },
    {
      "cell_type": "code",
      "metadata": {
        "id": "-L0cRC8il5qg",
        "colab_type": "code",
        "colab": {
          "base_uri": "https://localhost:8080/",
          "height": 153
        },
        "outputId": "eed97e2f-6d4c-4b1a-ca2f-7502af937ce5"
      },
      "source": [
        "field_datasheet = \n",
        "yvp_addtl_spp_FINAL %>% \n",
        "select(plot_num, plot_code, species_code) %>% \n",
        "group_by(plot_num, plot_code) %>% \n",
        "distinct(species_code) %>% \n",
        "select(-species_code, species_code) %>% \n",
        "add_column(date = NA, .after = \"plot_code\") %>% \n",
        "add_column(cover_pct = 0) %>% \n",
        "arrange(plot_num, plot_code, species_code) %>% \n",
        "glimpse()"
      ],
      "execution_count": null,
      "outputs": [
        {
          "output_type": "stream",
          "text": [
            "Rows: 702\n",
            "Columns: 5\n",
            "Groups: plot_num, plot_code [64]\n",
            "$ plot_num     \u001b[3m\u001b[90m<int>\u001b[39m\u001b[23m 7, 7, 7, 7, 7, 7, 7, 7, 7, 7, 7, 7, 7, 7, 7, 7, 7, 7, 7,…\n",
            "$ plot_code    \u001b[3m\u001b[90m<chr>\u001b[39m\u001b[23m \"YVP 7\", \"YVP 7\", \"YVP 7\", \"YVP 7\", \"YVP 7\", \"YVP 7\", \"Y…\n",
            "$ date         \u001b[3m\u001b[90m<lgl>\u001b[39m\u001b[23m NA, NA, NA, NA, NA, NA, NA, NA, NA, NA, NA, NA, NA, NA, …\n",
            "$ species_code \u001b[3m\u001b[90m<chr>\u001b[39m\u001b[23m \"ALLCER\", \"ANTE_SP\", \"ARECON\", \"ARTDRA\", \"CHRVIS\", \"CLAP…\n",
            "$ cover_pct    \u001b[3m\u001b[90m<dbl>\u001b[39m\u001b[23m 0, 0, 0, 0, 0, 0, 0, 0, 0, 0, 0, 0, 0, 0, 0, 0, 0, 0, 0,…\n"
          ],
          "name": "stdout"
        }
      ]
    },
    {
      "cell_type": "code",
      "metadata": {
        "id": "jDes2Nv9Ftxz",
        "colab_type": "code",
        "colab": {
          "base_uri": "https://localhost:8080/",
          "height": 51
        },
        "outputId": "097d72c4-7466-49b1-e287-da88522f140c"
      },
      "source": [
        "filename_field_datasheet = \"yvp_additional_species_field_datasheet_FINAL.csv\"\n",
        "\n",
        "if (filename_field_datasheet %in% list.files(getwd())) {\n",
        "  cat(\"file already exists in working directory:\", filename_final, \"\\n\", \"working directory:\", getwd(), \"\\n\")\n",
        "} else {\n",
        "  write.csv(field_datasheet, filename_field_datasheet)\n",
        "  cat(filename_final, \"written to working directory \\n\", \"working directory:\", getwd(), \"\\n\")\n",
        "}"
      ],
      "execution_count": null,
      "outputs": [
        {
          "output_type": "stream",
          "text": [
            "yvp_additional_species_FINAL.csv written to working directory \n",
            " working directory: /content \n"
          ],
          "name": "stdout"
        }
      ]
    }
  ]
}