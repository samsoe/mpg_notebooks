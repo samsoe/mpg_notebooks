{
  "nbformat": 4,
  "nbformat_minor": 0,
  "metadata": {
    "colab": {
      "name": "gridVeg_groundCover_intercepts.ipynb",
      "provenance": [],
      "collapsed_sections": [],
      "toc_visible": true,
      "include_colab_link": true
    },
    "language_info": {
      "codemirror_mode": "r",
      "file_extension": ".r",
      "mimetype": "text/x-r-source",
      "name": "R",
      "pygments_lexer": "r",
      "version": "3.3.1"
    },
    "kernelspec": {
      "display_name": "R",
      "language": "R",
      "name": "ir"
    }
  },
  "cells": [
    {
      "cell_type": "markdown",
      "metadata": {
        "id": "view-in-github",
        "colab_type": "text"
      },
      "source": [
        "<a href=\"https://colab.research.google.com/github/samsoe/mpg_notebooks/blob/master/gridVeg_groundCover_intercepts.ipynb\" target=\"_parent\"><img src=\"https://colab.research.google.com/assets/colab-badge.svg\" alt=\"Open In Colab\"/></a>"
      ]
    },
    {
      "cell_type": "markdown",
      "metadata": {
        "id": "BhOI1uU2Koum",
        "colab_type": "text"
      },
      "source": [
        "# Security"
      ]
    },
    {
      "cell_type": "markdown",
      "metadata": {
        "id": "hgB3r3wvA9Pn",
        "colab_type": "text"
      },
      "source": [
        "* The user must load a `json` file containing the BigQuery API key into the local directory `/content/...`\n",
        "* The user must have a Google Maps API key to enable mapping. \n",
        "   * CAUTION make sure the key is deleted from the current instance of the notebook before sharing"
      ]
    },
    {
      "cell_type": "markdown",
      "metadata": {
        "id": "MnG0ah7OA59c",
        "colab_type": "text"
      },
      "source": [
        "# Tools"
      ]
    },
    {
      "cell_type": "code",
      "metadata": {
        "id": "Y6y4EWeYpVBJ",
        "colab_type": "code",
        "colab": {
          "base_uri": "https://localhost:8080/",
          "height": 204
        },
        "outputId": "db725808-722f-46b1-f831-587b16ecee8d"
      },
      "source": [
        "library(tidyverse)"
      ],
      "execution_count": null,
      "outputs": [
        {
          "output_type": "stream",
          "text": [
            "── \u001b[1mAttaching packages\u001b[22m ─────────────────────────────────────── tidyverse 1.3.0 ──\n",
            "\n",
            "\u001b[32m✔\u001b[39m \u001b[34mggplot2\u001b[39m 3.3.2     \u001b[32m✔\u001b[39m \u001b[34mpurrr  \u001b[39m 0.3.4\n",
            "\u001b[32m✔\u001b[39m \u001b[34mtibble \u001b[39m 3.0.2     \u001b[32m✔\u001b[39m \u001b[34mdplyr  \u001b[39m 1.0.0\n",
            "\u001b[32m✔\u001b[39m \u001b[34mtidyr  \u001b[39m 1.1.0     \u001b[32m✔\u001b[39m \u001b[34mstringr\u001b[39m 1.4.0\n",
            "\u001b[32m✔\u001b[39m \u001b[34mreadr  \u001b[39m 1.3.1     \u001b[32m✔\u001b[39m \u001b[34mforcats\u001b[39m 0.5.0\n",
            "\n",
            "── \u001b[1mConflicts\u001b[22m ────────────────────────────────────────── tidyverse_conflicts() ──\n",
            "\u001b[31m✖\u001b[39m \u001b[34mdplyr\u001b[39m::\u001b[32mfilter()\u001b[39m masks \u001b[34mstats\u001b[39m::filter()\n",
            "\u001b[31m✖\u001b[39m \u001b[34mdplyr\u001b[39m::\u001b[32mlag()\u001b[39m    masks \u001b[34mstats\u001b[39m::lag()\n",
            "\n"
          ],
          "name": "stderr"
        }
      ]
    },
    {
      "cell_type": "markdown",
      "metadata": {
        "id": "eUw-It3JBBrQ",
        "colab_type": "text"
      },
      "source": [
        "* Remember that the file containing authorization keys for Big Query must be loaded into the virutual envrionment manually."
      ]
    },
    {
      "cell_type": "code",
      "metadata": {
        "id": "VxYkYhQTKouo",
        "colab_type": "code",
        "colab": {
          "base_uri": "https://localhost:8080/",
          "height": 119
        },
        "outputId": "c4ddc31f-f09b-40a6-b9d5-7ba2cac217db"
      },
      "source": [
        "install.packages(\"bigrquery\")\n",
        "library(bigrquery)"
      ],
      "execution_count": null,
      "outputs": [
        {
          "output_type": "stream",
          "text": [
            "Installing package into ‘/usr/local/lib/R/site-library’\n",
            "(as ‘lib’ is unspecified)\n",
            "\n",
            "also installing the dependencies ‘bit’, ‘bit64’, ‘gargle’, ‘rapidjsonr’\n",
            "\n",
            "\n"
          ],
          "name": "stderr"
        }
      ]
    },
    {
      "cell_type": "markdown",
      "metadata": {
        "id": "H1I9aQ_SBH3n",
        "colab_type": "text"
      },
      "source": [
        "# Source"
      ]
    },
    {
      "cell_type": "markdown",
      "metadata": {
        "id": "Bfb7MHpGBJMO",
        "colab_type": "text"
      },
      "source": [
        "## Database Connection"
      ]
    },
    {
      "cell_type": "code",
      "metadata": {
        "id": "ihI70_BPKouq",
        "colab_type": "code",
        "colab": {}
      },
      "source": [
        "# BigQuery API Key\n",
        "bq_auth(path = \"/content/mpg-data-warehouse-api_key-master.json\")"
      ],
      "execution_count": null,
      "outputs": []
    },
    {
      "cell_type": "code",
      "metadata": {
        "id": "8YxL8wHoBNxV",
        "colab_type": "code",
        "colab": {}
      },
      "source": [
        "Sys.setenv(BIGQUERY_TEST_PROJECT = \"mpg-data-warehouse\")"
      ],
      "execution_count": null,
      "outputs": []
    },
    {
      "cell_type": "code",
      "metadata": {
        "id": "yevfizb5BQXm",
        "colab_type": "code",
        "colab": {}
      },
      "source": [
        "billing <- bq_test_project()"
      ],
      "execution_count": null,
      "outputs": []
    },
    {
      "cell_type": "markdown",
      "metadata": {
        "id": "JN4Z34yRp2-k",
        "colab_type": "text"
      },
      "source": [
        "### vegetation_point_intercept_gridVeg"
      ]
    },
    {
      "cell_type": "code",
      "metadata": {
        "id": "mKsvG7zTBXl3",
        "colab_type": "code",
        "colab": {}
      },
      "source": [
        "con_point_intercept <- dbConnect(\n",
        "  bigrquery::bigquery(),\n",
        "  project = \"mpg-data-warehouse\",\n",
        "  dataset = \"vegetation_point_intercept_gridVeg\",\n",
        "  billing = billing\n",
        ")"
      ],
      "execution_count": null,
      "outputs": []
    },
    {
      "cell_type": "code",
      "metadata": {
        "id": "64HvPjFbBZem",
        "colab_type": "code",
        "colab": {
          "base_uri": "https://localhost:8080/",
          "height": 68
        },
        "outputId": "b4fb0644-de6c-4ee2-b09c-00e153549dba"
      },
      "source": [
        "dbListTables(con_point_intercept)"
      ],
      "execution_count": null,
      "outputs": [
        {
          "output_type": "display_data",
          "data": {
            "text/plain": [
              "[1] \"gridVeg_additional_species\"         \"gridVeg_ground_cover_metadata\"     \n",
              "[3] \"gridVeg_image_metadata\"             \"gridVeg_point_intercept_ground\"    \n",
              "[5] \"gridVeg_point_intercept_vegetation\" \"gridVeg_shrub_tree\"                \n",
              "[7] \"gridVeg_survey_metadata\"           "
            ],
            "text/latex": "\\begin{enumerate*}\n\\item 'gridVeg\\_additional\\_species'\n\\item 'gridVeg\\_ground\\_cover\\_metadata'\n\\item 'gridVeg\\_image\\_metadata'\n\\item 'gridVeg\\_point\\_intercept\\_ground'\n\\item 'gridVeg\\_point\\_intercept\\_vegetation'\n\\item 'gridVeg\\_shrub\\_tree'\n\\item 'gridVeg\\_survey\\_metadata'\n\\end{enumerate*}\n",
            "text/markdown": "1. 'gridVeg_additional_species'\n2. 'gridVeg_ground_cover_metadata'\n3. 'gridVeg_image_metadata'\n4. 'gridVeg_point_intercept_ground'\n5. 'gridVeg_point_intercept_vegetation'\n6. 'gridVeg_shrub_tree'\n7. 'gridVeg_survey_metadata'\n\n\n",
            "text/html": [
              "<style>\n",
              ".list-inline {list-style: none; margin:0; padding: 0}\n",
              ".list-inline>li {display: inline-block}\n",
              ".list-inline>li:not(:last-child)::after {content: \"\\00b7\"; padding: 0 .5ex}\n",
              "</style>\n",
              "<ol class=list-inline><li>'gridVeg_additional_species'</li><li>'gridVeg_ground_cover_metadata'</li><li>'gridVeg_image_metadata'</li><li>'gridVeg_point_intercept_ground'</li><li>'gridVeg_point_intercept_vegetation'</li><li>'gridVeg_shrub_tree'</li><li>'gridVeg_survey_metadata'</li></ol>\n"
            ]
          },
          "metadata": {
            "tags": []
          }
        }
      ]
    },
    {
      "cell_type": "code",
      "metadata": {
        "id": "26UqASAoB2p0",
        "colab_type": "code",
        "colab": {}
      },
      "source": [
        "ground_point_intercept_sql <- \n",
        "\"\n",
        "  SELECT\n",
        "    survey_ID,\n",
        "    grid_point,\n",
        "    intercept_ground_code,\n",
        "    COUNT(intercept_ground_code) / 2 AS intercepts_pct\n",
        "  FROM \n",
        "    `mpg-data-warehouse.vegetation_point_intercept_gridVeg.gridVeg_point_intercept_ground`\n",
        "  GROUP BY\n",
        "    survey_ID, grid_point, intercept_ground_code\n",
        "\""
      ],
      "execution_count": null,
      "outputs": []
    },
    {
      "cell_type": "code",
      "metadata": {
        "id": "VSXOoJkcB3dn",
        "colab_type": "code",
        "colab": {}
      },
      "source": [
        "bq_ground_point_intercept <- bq_project_query(billing, ground_point_intercept_sql)"
      ],
      "execution_count": null,
      "outputs": []
    },
    {
      "cell_type": "code",
      "metadata": {
        "id": "KpZnymzzB5Ms",
        "colab_type": "code",
        "colab": {}
      },
      "source": [
        "tb_ground_point_intercept <- bq_table_download(bq_ground_point_intercept)"
      ],
      "execution_count": null,
      "outputs": []
    },
    {
      "cell_type": "code",
      "metadata": {
        "id": "VcoNMCO1B6gY",
        "colab_type": "code",
        "colab": {}
      },
      "source": [
        "df_ground_point_intercept <- as.data.frame(tb_ground_point_intercept)"
      ],
      "execution_count": null,
      "outputs": []
    },
    {
      "cell_type": "code",
      "metadata": {
        "id": "QG99Tc1huf3J",
        "colab_type": "code",
        "colab": {
          "base_uri": "https://localhost:8080/",
          "height": 162
        },
        "outputId": "c6b716a2-a6b5-4621-c6c5-0499d9d2c65c"
      },
      "source": [
        "head(df_ground_point_intercept, n=4)"
      ],
      "execution_count": null,
      "outputs": [
        {
          "output_type": "display_data",
          "data": {
            "text/plain": [
              "  survey_ID grid_point intercept_ground_code intercepts_pct\n",
              "1 2         373        L                     27.5          \n",
              "2 2         373        BG                     0.5          \n",
              "3 2         373        NA                    71.5          \n",
              "4 2         373        WDT                    0.5          "
            ],
            "text/latex": "A data.frame: 4 × 4\n\\begin{tabular}{r|llll}\n  & survey\\_ID & grid\\_point & intercept\\_ground\\_code & intercepts\\_pct\\\\\n  & <chr> & <int> & <chr> & <dbl>\\\\\n\\hline\n\t1 & 2 & 373 & L   & 27.5\\\\\n\t2 & 2 & 373 & BG  &  0.5\\\\\n\t3 & 2 & 373 & NA  & 71.5\\\\\n\t4 & 2 & 373 & WDT &  0.5\\\\\n\\end{tabular}\n",
            "text/markdown": "\nA data.frame: 4 × 4\n\n| <!--/--> | survey_ID &lt;chr&gt; | grid_point &lt;int&gt; | intercept_ground_code &lt;chr&gt; | intercepts_pct &lt;dbl&gt; |\n|---|---|---|---|---|\n| 1 | 2 | 373 | L   | 27.5 |\n| 2 | 2 | 373 | BG  |  0.5 |\n| 3 | 2 | 373 | NA  | 71.5 |\n| 4 | 2 | 373 | WDT |  0.5 |\n\n",
            "text/html": [
              "<table>\n",
              "<caption>A data.frame: 4 × 4</caption>\n",
              "<thead>\n",
              "\t<tr><th></th><th scope=col>survey_ID</th><th scope=col>grid_point</th><th scope=col>intercept_ground_code</th><th scope=col>intercepts_pct</th></tr>\n",
              "\t<tr><th></th><th scope=col>&lt;chr&gt;</th><th scope=col>&lt;int&gt;</th><th scope=col>&lt;chr&gt;</th><th scope=col>&lt;dbl&gt;</th></tr>\n",
              "</thead>\n",
              "<tbody>\n",
              "\t<tr><th scope=row>1</th><td>2</td><td>373</td><td>L  </td><td>27.5</td></tr>\n",
              "\t<tr><th scope=row>2</th><td>2</td><td>373</td><td>BG </td><td> 0.5</td></tr>\n",
              "\t<tr><th scope=row>3</th><td>2</td><td>373</td><td>NA </td><td>71.5</td></tr>\n",
              "\t<tr><th scope=row>4</th><td>2</td><td>373</td><td>WDT</td><td> 0.5</td></tr>\n",
              "</tbody>\n",
              "</table>\n"
            ]
          },
          "metadata": {
            "tags": []
          }
        }
      ]
    },
    {
      "cell_type": "markdown",
      "metadata": {
        "id": "EaBs_FPytWWS",
        "colab_type": "text"
      },
      "source": [
        "### gridVeg_survey_metadata"
      ]
    },
    {
      "cell_type": "code",
      "metadata": {
        "id": "pE0V7V6stegC",
        "colab_type": "code",
        "colab": {}
      },
      "source": [
        "survey_metadata_sql <-\n",
        "\"\n",
        "  SELECT\n",
        "    survey_ID,\n",
        "    year,\n",
        "    survey_sequence\n",
        "  FROM\n",
        "    `mpg-data-warehouse.vegetation_point_intercept_gridVeg.gridVeg_survey_metadata`\n",
        "\""
      ],
      "execution_count": null,
      "outputs": []
    },
    {
      "cell_type": "code",
      "metadata": {
        "id": "PnU_vgAqtvHE",
        "colab_type": "code",
        "colab": {}
      },
      "source": [
        "bq_survey_metadata <- bq_project_query(billing, survey_metadata_sql)"
      ],
      "execution_count": null,
      "outputs": []
    },
    {
      "cell_type": "code",
      "metadata": {
        "id": "q1fzxNfYtvDF",
        "colab_type": "code",
        "colab": {}
      },
      "source": [
        "tb_survey_metadata <- bq_table_download(bq_survey_metadata)"
      ],
      "execution_count": null,
      "outputs": []
    },
    {
      "cell_type": "code",
      "metadata": {
        "id": "btphqi4EuKIA",
        "colab_type": "code",
        "colab": {}
      },
      "source": [
        "df_survey_metadata <- as.data.frame(tb_survey_metadata)"
      ],
      "execution_count": null,
      "outputs": []
    },
    {
      "cell_type": "code",
      "metadata": {
        "id": "W2bf0oKSuNZo",
        "colab_type": "code",
        "colab": {
          "base_uri": "https://localhost:8080/",
          "height": 162
        },
        "outputId": "dffbbf93-a249-484b-d264-60e61ed49f57"
      },
      "source": [
        "head(df_survey_metadata, n=4)"
      ],
      "execution_count": null,
      "outputs": [
        {
          "output_type": "display_data",
          "data": {
            "text/plain": [
              "  survey_ID                            year survey_sequence\n",
              "1 F31C56A8-912D-410C-A17D-4C2DD75F71A4 2016 2016           \n",
              "2 A19E87E6-A89C-4993-B550-802226730D54 2016 2016           \n",
              "3 6F1D71D3-9F87-4C93-B179-A12C8938D18D 2016 2016           \n",
              "4 9C67C9F1-1E89-4FD2-ADC0-0390E0022D62 2016 2016           "
            ],
            "text/latex": "A data.frame: 4 × 3\n\\begin{tabular}{r|lll}\n  & survey\\_ID & year & survey\\_sequence\\\\\n  & <chr> & <int> & <chr>\\\\\n\\hline\n\t1 & F31C56A8-912D-410C-A17D-4C2DD75F71A4 & 2016 & 2016\\\\\n\t2 & A19E87E6-A89C-4993-B550-802226730D54 & 2016 & 2016\\\\\n\t3 & 6F1D71D3-9F87-4C93-B179-A12C8938D18D & 2016 & 2016\\\\\n\t4 & 9C67C9F1-1E89-4FD2-ADC0-0390E0022D62 & 2016 & 2016\\\\\n\\end{tabular}\n",
            "text/markdown": "\nA data.frame: 4 × 3\n\n| <!--/--> | survey_ID &lt;chr&gt; | year &lt;int&gt; | survey_sequence &lt;chr&gt; |\n|---|---|---|---|\n| 1 | F31C56A8-912D-410C-A17D-4C2DD75F71A4 | 2016 | 2016 |\n| 2 | A19E87E6-A89C-4993-B550-802226730D54 | 2016 | 2016 |\n| 3 | 6F1D71D3-9F87-4C93-B179-A12C8938D18D | 2016 | 2016 |\n| 4 | 9C67C9F1-1E89-4FD2-ADC0-0390E0022D62 | 2016 | 2016 |\n\n",
            "text/html": [
              "<table>\n",
              "<caption>A data.frame: 4 × 3</caption>\n",
              "<thead>\n",
              "\t<tr><th></th><th scope=col>survey_ID</th><th scope=col>year</th><th scope=col>survey_sequence</th></tr>\n",
              "\t<tr><th></th><th scope=col>&lt;chr&gt;</th><th scope=col>&lt;int&gt;</th><th scope=col>&lt;chr&gt;</th></tr>\n",
              "</thead>\n",
              "<tbody>\n",
              "\t<tr><th scope=row>1</th><td>F31C56A8-912D-410C-A17D-4C2DD75F71A4</td><td>2016</td><td>2016</td></tr>\n",
              "\t<tr><th scope=row>2</th><td>A19E87E6-A89C-4993-B550-802226730D54</td><td>2016</td><td>2016</td></tr>\n",
              "\t<tr><th scope=row>3</th><td>6F1D71D3-9F87-4C93-B179-A12C8938D18D</td><td>2016</td><td>2016</td></tr>\n",
              "\t<tr><th scope=row>4</th><td>9C67C9F1-1E89-4FD2-ADC0-0390E0022D62</td><td>2016</td><td>2016</td></tr>\n",
              "</tbody>\n",
              "</table>\n"
            ]
          },
          "metadata": {
            "tags": []
          }
        }
      ]
    },
    {
      "cell_type": "markdown",
      "metadata": {
        "id": "NbF2bXUSujjR",
        "colab_type": "text"
      },
      "source": [
        "### location_position_classification"
      ]
    },
    {
      "cell_type": "code",
      "metadata": {
        "id": "6ggesTzGumVJ",
        "colab_type": "code",
        "colab": {}
      },
      "source": [
        "sql_position_class <-\n",
        "\"\n",
        "  SELECT\n",
        "    grid_point,\n",
        "    aspect_mean_deg,\n",
        "    elevation_mean_m,\n",
        "    slope_mean_deg,\n",
        "    cover_type_2016_gridVeg,\n",
        "    type3_vegetation_indicators,\n",
        "    type4_indicators_history\n",
        "  FROM\n",
        "    `mpg-data-warehouse.grid_point_summaries.location_position_classification`\n",
        "\""
      ],
      "execution_count": null,
      "outputs": []
    },
    {
      "cell_type": "code",
      "metadata": {
        "id": "2E9mTiAXvTj9",
        "colab_type": "code",
        "colab": {}
      },
      "source": [
        "bq_position_class <- bq_project_query(billing, sql_position_class)"
      ],
      "execution_count": null,
      "outputs": []
    },
    {
      "cell_type": "code",
      "metadata": {
        "id": "613XNvUOvThE",
        "colab_type": "code",
        "colab": {}
      },
      "source": [
        "tb_position_class <- bq_table_download(bq_position_class)"
      ],
      "execution_count": null,
      "outputs": []
    },
    {
      "cell_type": "code",
      "metadata": {
        "id": "A8R30YFDvTeK",
        "colab_type": "code",
        "colab": {}
      },
      "source": [
        "df_position_class <- as.data.frame(tb_position_class)"
      ],
      "execution_count": null,
      "outputs": []
    },
    {
      "cell_type": "code",
      "metadata": {
        "id": "Mugs_9mTvuUr",
        "colab_type": "code",
        "colab": {
          "base_uri": "https://localhost:8080/",
          "height": 233
        },
        "outputId": "abdaf6fa-1a2c-4e06-8e1f-ed20b0d2bea9"
      },
      "source": [
        "head(df_position_class, n=4)"
      ],
      "execution_count": null,
      "outputs": [
        {
          "output_type": "display_data",
          "data": {
            "text/plain": [
              "  grid_point aspect_mean_deg elevation_mean_m slope_mean_deg\n",
              "1 1          334.705         1395.64          28.44230      \n",
              "2 2           45.303         1456.09          12.22630      \n",
              "3 3          221.334         1126.90           4.25130      \n",
              "4 4          290.489         1166.33           2.68361      \n",
              "  cover_type_2016_gridVeg  type3_vegetation_indicators              \n",
              "1 woodland/forest          mixed canopy conifer                     \n",
              "2 non-irrigated grasslands uncultivated grassland native or degraded\n",
              "3 shrubland                uncultivated grassland native or degraded\n",
              "4 shrubland                uncultivated grassland native or degraded\n",
              "  type4_indicators_history                 \n",
              "1 mixed canopy conifer                     \n",
              "2 uncultivated grassland native or degraded\n",
              "3 uncultivated grassland native or degraded\n",
              "4 uncultivated grassland native or degraded"
            ],
            "text/latex": "A data.frame: 4 × 7\n\\begin{tabular}{r|lllllll}\n  & grid\\_point & aspect\\_mean\\_deg & elevation\\_mean\\_m & slope\\_mean\\_deg & cover\\_type\\_2016\\_gridVeg & type3\\_vegetation\\_indicators & type4\\_indicators\\_history\\\\\n  & <int> & <dbl> & <dbl> & <dbl> & <chr> & <chr> & <chr>\\\\\n\\hline\n\t1 & 1 & 334.705 & 1395.64 & 28.44230 & woodland/forest          & mixed canopy conifer                      & mixed canopy conifer                     \\\\\n\t2 & 2 &  45.303 & 1456.09 & 12.22630 & non-irrigated grasslands & uncultivated grassland native or degraded & uncultivated grassland native or degraded\\\\\n\t3 & 3 & 221.334 & 1126.90 &  4.25130 & shrubland                & uncultivated grassland native or degraded & uncultivated grassland native or degraded\\\\\n\t4 & 4 & 290.489 & 1166.33 &  2.68361 & shrubland                & uncultivated grassland native or degraded & uncultivated grassland native or degraded\\\\\n\\end{tabular}\n",
            "text/markdown": "\nA data.frame: 4 × 7\n\n| <!--/--> | grid_point &lt;int&gt; | aspect_mean_deg &lt;dbl&gt; | elevation_mean_m &lt;dbl&gt; | slope_mean_deg &lt;dbl&gt; | cover_type_2016_gridVeg &lt;chr&gt; | type3_vegetation_indicators &lt;chr&gt; | type4_indicators_history &lt;chr&gt; |\n|---|---|---|---|---|---|---|---|\n| 1 | 1 | 334.705 | 1395.64 | 28.44230 | woodland/forest          | mixed canopy conifer                      | mixed canopy conifer                      |\n| 2 | 2 |  45.303 | 1456.09 | 12.22630 | non-irrigated grasslands | uncultivated grassland native or degraded | uncultivated grassland native or degraded |\n| 3 | 3 | 221.334 | 1126.90 |  4.25130 | shrubland                | uncultivated grassland native or degraded | uncultivated grassland native or degraded |\n| 4 | 4 | 290.489 | 1166.33 |  2.68361 | shrubland                | uncultivated grassland native or degraded | uncultivated grassland native or degraded |\n\n",
            "text/html": [
              "<table>\n",
              "<caption>A data.frame: 4 × 7</caption>\n",
              "<thead>\n",
              "\t<tr><th></th><th scope=col>grid_point</th><th scope=col>aspect_mean_deg</th><th scope=col>elevation_mean_m</th><th scope=col>slope_mean_deg</th><th scope=col>cover_type_2016_gridVeg</th><th scope=col>type3_vegetation_indicators</th><th scope=col>type4_indicators_history</th></tr>\n",
              "\t<tr><th></th><th scope=col>&lt;int&gt;</th><th scope=col>&lt;dbl&gt;</th><th scope=col>&lt;dbl&gt;</th><th scope=col>&lt;dbl&gt;</th><th scope=col>&lt;chr&gt;</th><th scope=col>&lt;chr&gt;</th><th scope=col>&lt;chr&gt;</th></tr>\n",
              "</thead>\n",
              "<tbody>\n",
              "\t<tr><th scope=row>1</th><td>1</td><td>334.705</td><td>1395.64</td><td>28.44230</td><td>woodland/forest         </td><td>mixed canopy conifer                     </td><td>mixed canopy conifer                     </td></tr>\n",
              "\t<tr><th scope=row>2</th><td>2</td><td> 45.303</td><td>1456.09</td><td>12.22630</td><td>non-irrigated grasslands</td><td>uncultivated grassland native or degraded</td><td>uncultivated grassland native or degraded</td></tr>\n",
              "\t<tr><th scope=row>3</th><td>3</td><td>221.334</td><td>1126.90</td><td> 4.25130</td><td>shrubland               </td><td>uncultivated grassland native or degraded</td><td>uncultivated grassland native or degraded</td></tr>\n",
              "\t<tr><th scope=row>4</th><td>4</td><td>290.489</td><td>1166.33</td><td> 2.68361</td><td>shrubland               </td><td>uncultivated grassland native or degraded</td><td>uncultivated grassland native or degraded</td></tr>\n",
              "</tbody>\n",
              "</table>\n"
            ]
          },
          "metadata": {
            "tags": []
          }
        }
      ]
    },
    {
      "cell_type": "markdown",
      "metadata": {
        "id": "uy5N7olev4SO",
        "colab_type": "text"
      },
      "source": [
        "### ground_cover_metadata"
      ]
    },
    {
      "cell_type": "code",
      "metadata": {
        "id": "eaXFui3Hv7OI",
        "colab_type": "code",
        "colab": {}
      },
      "source": [
        "sql_ground_meta <- \n",
        "\"\n",
        "SELECT\n",
        "  intercept_ground_code,\n",
        "  ground_group\n",
        "FROM\n",
        "  `mpg-data-warehouse.vegetation_point_intercept_gridVeg.gridVeg_ground_cover_metadata`\n",
        "\""
      ],
      "execution_count": null,
      "outputs": []
    },
    {
      "cell_type": "code",
      "metadata": {
        "id": "v6jMKNbmwTcP",
        "colab_type": "code",
        "colab": {}
      },
      "source": [
        "bq_ground_meta <- bq_project_query(billing, sql_ground_meta)"
      ],
      "execution_count": null,
      "outputs": []
    },
    {
      "cell_type": "code",
      "metadata": {
        "id": "jmpDHelOwTY8",
        "colab_type": "code",
        "colab": {}
      },
      "source": [
        "tb_ground_meta <- bq_table_download(bq_ground_meta)"
      ],
      "execution_count": null,
      "outputs": []
    },
    {
      "cell_type": "code",
      "metadata": {
        "id": "kTLde0gpwTVr",
        "colab_type": "code",
        "colab": {}
      },
      "source": [
        "df_ground_meta <- as.data.frame(tb_ground_meta)"
      ],
      "execution_count": null,
      "outputs": []
    },
    {
      "cell_type": "code",
      "metadata": {
        "id": "6z9QkFHlwTSd",
        "colab_type": "code",
        "colab": {
          "base_uri": "https://localhost:8080/",
          "height": 456
        },
        "outputId": "0617d09d-055b-411f-88a3-a54b2966c7f3"
      },
      "source": [
        "df_ground_meta %>% arrange(intercept_ground_code)"
      ],
      "execution_count": null,
      "outputs": [
        {
          "output_type": "display_data",
          "data": {
            "text/plain": [
              "   intercept_ground_code ground_group     \n",
              "1  BG                    inorganic        \n",
              "2  BV                    living vegetation\n",
              "3  G                     inorganic        \n",
              "4  L                     dead vegetation  \n",
              "5  LIC                   living vegetation\n",
              "6  M                     living vegetation\n",
              "7  M/L                   living vegetation\n",
              "8  OTHER                 inorganic        \n",
              "9  R                     inorganic        \n",
              "10 SC                    dung             \n",
              "11 SD                    dung             \n",
              "12 SE                    dung             \n",
              "13 SH                    dung             \n",
              "14 SU                    dung             \n",
              "15 WDL                   dead vegetation  \n",
              "16 WDS                   dead vegetation  \n",
              "17 WDS                   dead vegetation  \n",
              "18 WDT                   dead vegetation  "
            ],
            "text/latex": "A data.frame: 18 × 2\n\\begin{tabular}{ll}\n intercept\\_ground\\_code & ground\\_group\\\\\n <chr> & <chr>\\\\\n\\hline\n\t BG    & inorganic        \\\\\n\t BV    & living vegetation\\\\\n\t G     & inorganic        \\\\\n\t L     & dead vegetation  \\\\\n\t LIC   & living vegetation\\\\\n\t M     & living vegetation\\\\\n\t M/L   & living vegetation\\\\\n\t OTHER & inorganic        \\\\\n\t R     & inorganic        \\\\\n\t SC    & dung             \\\\\n\t SD    & dung             \\\\\n\t SE    & dung             \\\\\n\t SH    & dung             \\\\\n\t SU    & dung             \\\\\n\t WDL   & dead vegetation  \\\\\n\t WDS   & dead vegetation  \\\\\n\t WDS   & dead vegetation  \\\\\n\t WDT   & dead vegetation  \\\\\n\\end{tabular}\n",
            "text/markdown": "\nA data.frame: 18 × 2\n\n| intercept_ground_code &lt;chr&gt; | ground_group &lt;chr&gt; |\n|---|---|\n| BG    | inorganic         |\n| BV    | living vegetation |\n| G     | inorganic         |\n| L     | dead vegetation   |\n| LIC   | living vegetation |\n| M     | living vegetation |\n| M/L   | living vegetation |\n| OTHER | inorganic         |\n| R     | inorganic         |\n| SC    | dung              |\n| SD    | dung              |\n| SE    | dung              |\n| SH    | dung              |\n| SU    | dung              |\n| WDL   | dead vegetation   |\n| WDS   | dead vegetation   |\n| WDS   | dead vegetation   |\n| WDT   | dead vegetation   |\n\n",
            "text/html": [
              "<table>\n",
              "<caption>A data.frame: 18 × 2</caption>\n",
              "<thead>\n",
              "\t<tr><th scope=col>intercept_ground_code</th><th scope=col>ground_group</th></tr>\n",
              "\t<tr><th scope=col>&lt;chr&gt;</th><th scope=col>&lt;chr&gt;</th></tr>\n",
              "</thead>\n",
              "<tbody>\n",
              "\t<tr><td>BG   </td><td>inorganic        </td></tr>\n",
              "\t<tr><td>BV   </td><td>living vegetation</td></tr>\n",
              "\t<tr><td>G    </td><td>inorganic        </td></tr>\n",
              "\t<tr><td>L    </td><td>dead vegetation  </td></tr>\n",
              "\t<tr><td>LIC  </td><td>living vegetation</td></tr>\n",
              "\t<tr><td>M    </td><td>living vegetation</td></tr>\n",
              "\t<tr><td>M/L  </td><td>living vegetation</td></tr>\n",
              "\t<tr><td>OTHER</td><td>inorganic        </td></tr>\n",
              "\t<tr><td>R    </td><td>inorganic        </td></tr>\n",
              "\t<tr><td>SC   </td><td>dung             </td></tr>\n",
              "\t<tr><td>SD   </td><td>dung             </td></tr>\n",
              "\t<tr><td>SE   </td><td>dung             </td></tr>\n",
              "\t<tr><td>SH   </td><td>dung             </td></tr>\n",
              "\t<tr><td>SU   </td><td>dung             </td></tr>\n",
              "\t<tr><td>WDL  </td><td>dead vegetation  </td></tr>\n",
              "\t<tr><td>WDS  </td><td>dead vegetation  </td></tr>\n",
              "\t<tr><td>WDS  </td><td>dead vegetation  </td></tr>\n",
              "\t<tr><td>WDT  </td><td>dead vegetation  </td></tr>\n",
              "</tbody>\n",
              "</table>\n"
            ]
          },
          "metadata": {
            "tags": []
          }
        }
      ]
    },
    {
      "cell_type": "markdown",
      "metadata": {
        "id": "e0mtSVpAtWME",
        "colab_type": "text"
      },
      "source": [
        "# Wrangle"
      ]
    },
    {
      "cell_type": "code",
      "metadata": {
        "id": "M87ef8Ni0vHx",
        "colab_type": "code",
        "colab": {
          "base_uri": "https://localhost:8080/",
          "height": 477
        },
        "outputId": "9790d093-b9fa-44aa-b93e-e693946d3a4f"
      },
      "source": [
        "# show unique intercept ground codes\n",
        "df_ground_point_intercept %>%\n",
        "  distinct(intercept_ground_code) %>% \n",
        "  arrange(intercept_ground_code)"
      ],
      "execution_count": null,
      "outputs": [
        {
          "output_type": "display_data",
          "data": {
            "text/plain": [
              "   intercept_ground_code\n",
              "1  BG                   \n",
              "2  BV                   \n",
              "3  G                    \n",
              "4  L                    \n",
              "5  LIC                  \n",
              "6  M                    \n",
              "7  M/L                  \n",
              "8  NA                   \n",
              "9  OTHER                \n",
              "10 R                    \n",
              "11 SC                   \n",
              "12 SD                   \n",
              "13 SE                   \n",
              "14 SH                   \n",
              "15 SU                   \n",
              "16 WDL                  \n",
              "17 WDS                  \n",
              "18 WDSTUMP              \n",
              "19 WDT                  "
            ],
            "text/latex": "A data.frame: 19 × 1\n\\begin{tabular}{l}\n intercept\\_ground\\_code\\\\\n <chr>\\\\\n\\hline\n\t BG     \\\\\n\t BV     \\\\\n\t G      \\\\\n\t L      \\\\\n\t LIC    \\\\\n\t M      \\\\\n\t M/L    \\\\\n\t NA     \\\\\n\t OTHER  \\\\\n\t R      \\\\\n\t SC     \\\\\n\t SD     \\\\\n\t SE     \\\\\n\t SH     \\\\\n\t SU     \\\\\n\t WDL    \\\\\n\t WDS    \\\\\n\t WDSTUMP\\\\\n\t WDT    \\\\\n\\end{tabular}\n",
            "text/markdown": "\nA data.frame: 19 × 1\n\n| intercept_ground_code &lt;chr&gt; |\n|---|\n| BG      |\n| BV      |\n| G       |\n| L       |\n| LIC     |\n| M       |\n| M/L     |\n| NA      |\n| OTHER   |\n| R       |\n| SC      |\n| SD      |\n| SE      |\n| SH      |\n| SU      |\n| WDL     |\n| WDS     |\n| WDSTUMP |\n| WDT     |\n\n",
            "text/html": [
              "<table>\n",
              "<caption>A data.frame: 19 × 1</caption>\n",
              "<thead>\n",
              "\t<tr><th scope=col>intercept_ground_code</th></tr>\n",
              "\t<tr><th scope=col>&lt;chr&gt;</th></tr>\n",
              "</thead>\n",
              "<tbody>\n",
              "\t<tr><td>BG     </td></tr>\n",
              "\t<tr><td>BV     </td></tr>\n",
              "\t<tr><td>G      </td></tr>\n",
              "\t<tr><td>L      </td></tr>\n",
              "\t<tr><td>LIC    </td></tr>\n",
              "\t<tr><td>M      </td></tr>\n",
              "\t<tr><td>M/L    </td></tr>\n",
              "\t<tr><td>NA     </td></tr>\n",
              "\t<tr><td>OTHER  </td></tr>\n",
              "\t<tr><td>R      </td></tr>\n",
              "\t<tr><td>SC     </td></tr>\n",
              "\t<tr><td>SD     </td></tr>\n",
              "\t<tr><td>SE     </td></tr>\n",
              "\t<tr><td>SH     </td></tr>\n",
              "\t<tr><td>SU     </td></tr>\n",
              "\t<tr><td>WDL    </td></tr>\n",
              "\t<tr><td>WDS    </td></tr>\n",
              "\t<tr><td>WDSTUMP</td></tr>\n",
              "\t<tr><td>WDT    </td></tr>\n",
              "</tbody>\n",
              "</table>\n"
            ]
          },
          "metadata": {
            "tags": []
          }
        }
      ]
    },
    {
      "cell_type": "markdown",
      "metadata": {
        "id": "Eus6GpnJ-Dje",
        "colab_type": "text"
      },
      "source": [
        "## Fill missing ground code"
      ]
    },
    {
      "cell_type": "code",
      "metadata": {
        "id": "I2kxbDSE260P",
        "colab_type": "code",
        "colab": {
          "base_uri": "https://localhost:8080/",
          "height": 119
        },
        "outputId": "b89fccfd-5421-463f-c727-e2f66e71f102"
      },
      "source": [
        "df_ground_point_intercept <- df_ground_point_intercept %>%\n",
        "  # include all intercept_ground variables for each survey_ID if not previously present set to 0\n",
        "  complete(survey_ID, nesting(intercept_ground_code), fill= list(intercepts_pct = 0)) %>%\n",
        "  fill(grid_point) %>%\n",
        "  filter(intercept_ground_code != 'NA') %>% \n",
        "  glimpse()"
      ],
      "execution_count": null,
      "outputs": [
        {
          "output_type": "stream",
          "text": [
            "Rows: 22,392\n",
            "Columns: 4\n",
            "$ survey_ID             \u001b[3m\u001b[90m<chr>\u001b[39m\u001b[23m \"012C5FAD-2451-41B0-9E2F-432D1ECEB55C\", \"012C5F…\n",
            "$ intercept_ground_code \u001b[3m\u001b[90m<chr>\u001b[39m\u001b[23m \"BG\", \"BV\", \"G\", \"L\", \"LIC\", \"M\", \"M/L\", \"OTHER…\n",
            "$ grid_point            \u001b[3m\u001b[90m<int>\u001b[39m\u001b[23m 285, 285, 285, 285, 285, 285, 285, 285, 285, 28…\n",
            "$ intercepts_pct        \u001b[3m\u001b[90m<dbl>\u001b[39m\u001b[23m 15.5, 8.5, 8.5, 62.0, 0.0, 1.5, 0.0, 0.0, 1.5, …\n"
          ],
          "name": "stdout"
        }
      ]
    },
    {
      "cell_type": "markdown",
      "metadata": {
        "id": "AZkD9TtM-IPm",
        "colab_type": "text"
      },
      "source": [
        "## Join datasets"
      ]
    },
    {
      "cell_type": "code",
      "metadata": {
        "id": "0_6pY9GX-BkW",
        "colab_type": "code",
        "colab": {
          "base_uri": "https://localhost:8080/",
          "height": 34
        },
        "outputId": "839bef73-8ebc-41cc-9514-94cdb2f79778"
      },
      "source": [
        "df_gridVeg_groundCover_intercepts <- df_ground_point_intercept %>%\n",
        "  left_join(df_survey_metadata, by = \"survey_ID\")\n",
        "dim(df_gridVeg_groundCover_intercepts)\n"
      ],
      "execution_count": null,
      "outputs": [
        {
          "output_type": "display_data",
          "data": {
            "text/plain": [
              "[1] 22392     6"
            ],
            "text/latex": "\\begin{enumerate*}\n\\item 22392\n\\item 6\n\\end{enumerate*}\n",
            "text/markdown": "1. 22392\n2. 6\n\n\n",
            "text/html": [
              "<style>\n",
              ".list-inline {list-style: none; margin:0; padding: 0}\n",
              ".list-inline>li {display: inline-block}\n",
              ".list-inline>li:not(:last-child)::after {content: \"\\00b7\"; padding: 0 .5ex}\n",
              "</style>\n",
              "<ol class=list-inline><li>22392</li><li>6</li></ol>\n"
            ]
          },
          "metadata": {
            "tags": []
          }
        }
      ]
    },
    {
      "cell_type": "code",
      "metadata": {
        "id": "DpPzKVSWAfBo",
        "colab_type": "code",
        "colab": {
          "base_uri": "https://localhost:8080/",
          "height": 34
        },
        "outputId": "247a01b2-5f0c-48df-a9e4-269db89df1fd"
      },
      "source": [
        "df_gridVeg_groundCover_intercepts <- df_gridVeg_groundCover_intercepts %>%\n",
        "  left_join(df_position_class, by = \"grid_point\")\n",
        "dim(df_gridVeg_groundCover_intercepts)"
      ],
      "execution_count": null,
      "outputs": [
        {
          "output_type": "display_data",
          "data": {
            "text/plain": [
              "[1] 22392    12"
            ],
            "text/latex": "\\begin{enumerate*}\n\\item 22392\n\\item 12\n\\end{enumerate*}\n",
            "text/markdown": "1. 22392\n2. 12\n\n\n",
            "text/html": [
              "<style>\n",
              ".list-inline {list-style: none; margin:0; padding: 0}\n",
              ".list-inline>li {display: inline-block}\n",
              ".list-inline>li:not(:last-child)::after {content: \"\\00b7\"; padding: 0 .5ex}\n",
              "</style>\n",
              "<ol class=list-inline><li>22392</li><li>12</li></ol>\n"
            ]
          },
          "metadata": {
            "tags": []
          }
        }
      ]
    },
    {
      "cell_type": "code",
      "metadata": {
        "id": "41Mi6QygAmBL",
        "colab_type": "code",
        "colab": {
          "base_uri": "https://localhost:8080/",
          "height": 272
        },
        "outputId": "61a9d6da-fcd1-4eb0-ceeb-9d048a099eac"
      },
      "source": [
        "df_gridVeg_groundCover_intercepts <- df_gridVeg_groundCover_intercepts %>%\n",
        "  left_join(df_ground_meta, by = \"intercept_ground_code\") %>% \n",
        "  glimpse()"
      ],
      "execution_count": null,
      "outputs": [
        {
          "output_type": "stream",
          "text": [
            "Rows: 23,636\n",
            "Columns: 13\n",
            "$ survey_ID                   \u001b[3m\u001b[90m<chr>\u001b[39m\u001b[23m \"012C5FAD-2451-41B0-9E2F-432D1ECEB55C\", \"…\n",
            "$ intercept_ground_code       \u001b[3m\u001b[90m<chr>\u001b[39m\u001b[23m \"BG\", \"BV\", \"G\", \"L\", \"LIC\", \"M\", \"M/L\", …\n",
            "$ grid_point                  \u001b[3m\u001b[90m<int>\u001b[39m\u001b[23m 285, 285, 285, 285, 285, 285, 285, 285, 2…\n",
            "$ intercepts_pct              \u001b[3m\u001b[90m<dbl>\u001b[39m\u001b[23m 15.5, 8.5, 8.5, 62.0, 0.0, 1.5, 0.0, 0.0,…\n",
            "$ year                        \u001b[3m\u001b[90m<int>\u001b[39m\u001b[23m 2016, 2016, 2016, 2016, 2016, 2016, 2016,…\n",
            "$ survey_sequence             \u001b[3m\u001b[90m<chr>\u001b[39m\u001b[23m \"2016\", \"2016\", \"2016\", \"2016\", \"2016\", \"…\n",
            "$ aspect_mean_deg             \u001b[3m\u001b[90m<dbl>\u001b[39m\u001b[23m 138.749, 138.749, 138.749, 138.749, 138.7…\n",
            "$ elevation_mean_m            \u001b[3m\u001b[90m<dbl>\u001b[39m\u001b[23m 1352.10, 1352.10, 1352.10, 1352.10, 1352.…\n",
            "$ slope_mean_deg              \u001b[3m\u001b[90m<dbl>\u001b[39m\u001b[23m 24.5141, 24.5141, 24.5141, 24.5141, 24.51…\n",
            "$ cover_type_2016_gridVeg     \u001b[3m\u001b[90m<chr>\u001b[39m\u001b[23m \"shrubland\", \"shrubland\", \"shrubland\", \"s…\n",
            "$ type3_vegetation_indicators \u001b[3m\u001b[90m<chr>\u001b[39m\u001b[23m \"mixed sage and bitterbrush\", \"mixed sage…\n",
            "$ type4_indicators_history    \u001b[3m\u001b[90m<chr>\u001b[39m\u001b[23m \"mixed sage and bitterbrush\", \"mixed sage…\n",
            "$ ground_group                \u001b[3m\u001b[90m<chr>\u001b[39m\u001b[23m \"inorganic\", \"living vegetation\", \"inorga…\n"
          ],
          "name": "stdout"
        }
      ]
    },
    {
      "cell_type": "code",
      "metadata": {
        "id": "OvH4Li_9rr2M",
        "colab_type": "code",
        "colab": {
          "base_uri": "https://localhost:8080/",
          "height": 646
        },
        "outputId": "35a12297-f31f-4a36-e084-c2cff4f5bec3"
      },
      "source": [
        "df_gridVeg_groundCover_intercepts <- \n",
        "  df_ground_point_intercept %>%\n",
        "  left_join(df_survey_metadata, by = \"survey_ID\") %>% \n",
        "  glimpse() %>% \n",
        "  left_join(df_position_class, by = \"grid_point\") %>% \n",
        "  glimpse() %>% \n",
        "  left_join(df_ground_meta, by = \"intercept_ground_code\") %>% \n",
        "  glimpse()"
      ],
      "execution_count": null,
      "outputs": [
        {
          "output_type": "stream",
          "text": [
            "Rows: 22,392\n",
            "Columns: 6\n",
            "$ survey_ID             \u001b[3m\u001b[90m<chr>\u001b[39m\u001b[23m \"012C5FAD-2451-41B0-9E2F-432D1ECEB55C\", \"012C5F…\n",
            "$ intercept_ground_code \u001b[3m\u001b[90m<chr>\u001b[39m\u001b[23m \"BG\", \"BV\", \"G\", \"L\", \"LIC\", \"M\", \"M/L\", \"OTHER…\n",
            "$ grid_point            \u001b[3m\u001b[90m<int>\u001b[39m\u001b[23m 285, 285, 285, 285, 285, 285, 285, 285, 285, 28…\n",
            "$ intercepts_pct        \u001b[3m\u001b[90m<dbl>\u001b[39m\u001b[23m 15.5, 8.5, 8.5, 62.0, 0.0, 1.5, 0.0, 0.0, 1.5, …\n",
            "$ year                  \u001b[3m\u001b[90m<int>\u001b[39m\u001b[23m 2016, 2016, 2016, 2016, 2016, 2016, 2016, 2016,…\n",
            "$ survey_sequence       \u001b[3m\u001b[90m<chr>\u001b[39m\u001b[23m \"2016\", \"2016\", \"2016\", \"2016\", \"2016\", \"2016\",…\n",
            "Rows: 22,392\n",
            "Columns: 12\n",
            "$ survey_ID                   \u001b[3m\u001b[90m<chr>\u001b[39m\u001b[23m \"012C5FAD-2451-41B0-9E2F-432D1ECEB55C\", \"…\n",
            "$ intercept_ground_code       \u001b[3m\u001b[90m<chr>\u001b[39m\u001b[23m \"BG\", \"BV\", \"G\", \"L\", \"LIC\", \"M\", \"M/L\", …\n",
            "$ grid_point                  \u001b[3m\u001b[90m<int>\u001b[39m\u001b[23m 285, 285, 285, 285, 285, 285, 285, 285, 2…\n",
            "$ intercepts_pct              \u001b[3m\u001b[90m<dbl>\u001b[39m\u001b[23m 15.5, 8.5, 8.5, 62.0, 0.0, 1.5, 0.0, 0.0,…\n",
            "$ year                        \u001b[3m\u001b[90m<int>\u001b[39m\u001b[23m 2016, 2016, 2016, 2016, 2016, 2016, 2016,…\n",
            "$ survey_sequence             \u001b[3m\u001b[90m<chr>\u001b[39m\u001b[23m \"2016\", \"2016\", \"2016\", \"2016\", \"2016\", \"…\n",
            "$ aspect_mean_deg             \u001b[3m\u001b[90m<dbl>\u001b[39m\u001b[23m 138.749, 138.749, 138.749, 138.749, 138.7…\n",
            "$ elevation_mean_m            \u001b[3m\u001b[90m<dbl>\u001b[39m\u001b[23m 1352.10, 1352.10, 1352.10, 1352.10, 1352.…\n",
            "$ slope_mean_deg              \u001b[3m\u001b[90m<dbl>\u001b[39m\u001b[23m 24.5141, 24.5141, 24.5141, 24.5141, 24.51…\n",
            "$ cover_type_2016_gridVeg     \u001b[3m\u001b[90m<chr>\u001b[39m\u001b[23m \"shrubland\", \"shrubland\", \"shrubland\", \"s…\n",
            "$ type3_vegetation_indicators \u001b[3m\u001b[90m<chr>\u001b[39m\u001b[23m \"mixed sage and bitterbrush\", \"mixed sage…\n",
            "$ type4_indicators_history    \u001b[3m\u001b[90m<chr>\u001b[39m\u001b[23m \"mixed sage and bitterbrush\", \"mixed sage…\n",
            "Rows: 23,636\n",
            "Columns: 13\n",
            "$ survey_ID                   \u001b[3m\u001b[90m<chr>\u001b[39m\u001b[23m \"012C5FAD-2451-41B0-9E2F-432D1ECEB55C\", \"…\n",
            "$ intercept_ground_code       \u001b[3m\u001b[90m<chr>\u001b[39m\u001b[23m \"BG\", \"BV\", \"G\", \"L\", \"LIC\", \"M\", \"M/L\", …\n",
            "$ grid_point                  \u001b[3m\u001b[90m<int>\u001b[39m\u001b[23m 285, 285, 285, 285, 285, 285, 285, 285, 2…\n",
            "$ intercepts_pct              \u001b[3m\u001b[90m<dbl>\u001b[39m\u001b[23m 15.5, 8.5, 8.5, 62.0, 0.0, 1.5, 0.0, 0.0,…\n",
            "$ year                        \u001b[3m\u001b[90m<int>\u001b[39m\u001b[23m 2016, 2016, 2016, 2016, 2016, 2016, 2016,…\n",
            "$ survey_sequence             \u001b[3m\u001b[90m<chr>\u001b[39m\u001b[23m \"2016\", \"2016\", \"2016\", \"2016\", \"2016\", \"…\n",
            "$ aspect_mean_deg             \u001b[3m\u001b[90m<dbl>\u001b[39m\u001b[23m 138.749, 138.749, 138.749, 138.749, 138.7…\n",
            "$ elevation_mean_m            \u001b[3m\u001b[90m<dbl>\u001b[39m\u001b[23m 1352.10, 1352.10, 1352.10, 1352.10, 1352.…\n",
            "$ slope_mean_deg              \u001b[3m\u001b[90m<dbl>\u001b[39m\u001b[23m 24.5141, 24.5141, 24.5141, 24.5141, 24.51…\n",
            "$ cover_type_2016_gridVeg     \u001b[3m\u001b[90m<chr>\u001b[39m\u001b[23m \"shrubland\", \"shrubland\", \"shrubland\", \"s…\n",
            "$ type3_vegetation_indicators \u001b[3m\u001b[90m<chr>\u001b[39m\u001b[23m \"mixed sage and bitterbrush\", \"mixed sage…\n",
            "$ type4_indicators_history    \u001b[3m\u001b[90m<chr>\u001b[39m\u001b[23m \"mixed sage and bitterbrush\", \"mixed sage…\n",
            "$ ground_group                \u001b[3m\u001b[90m<chr>\u001b[39m\u001b[23m \"inorganic\", \"living vegetation\", \"inorga…\n"
          ],
          "name": "stdout"
        }
      ]
    },
    {
      "cell_type": "markdown",
      "metadata": {
        "id": "w_7j_Z6uA5R-",
        "colab_type": "text"
      },
      "source": [
        "# Output"
      ]
    },
    {
      "cell_type": "code",
      "metadata": {
        "id": "QCohybyBAx6w",
        "colab_type": "code",
        "colab": {}
      },
      "source": [
        "write_csv(df_gridVeg_groundCover_intercepts, path = \"gridVeg_groundCover_intercepts_WRANGLE.csv\")"
      ],
      "execution_count": null,
      "outputs": []
    }
  ]
}