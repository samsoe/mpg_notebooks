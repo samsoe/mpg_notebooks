{
  "nbformat": 4,
  "nbformat_minor": 0,
  "metadata": {
    "colab": {
      "name": "mpg_weather_wrangle.ipynb",
      "provenance": [],
      "toc_visible": true,
      "authorship_tag": "ABX9TyP46QGe7ehcoLOcLsXOm8nk",
      "include_colab_link": true
    },
    "kernelspec": {
      "name": "python3",
      "display_name": "Python 3"
    },
    "accelerator": "GPU"
  },
  "cells": [
    {
      "cell_type": "markdown",
      "metadata": {
        "id": "view-in-github",
        "colab_type": "text"
      },
      "source": [
        "<a href=\"https://colab.research.google.com/github/samsoe/mpg_notebooks/blob/master/mpg_weather_wrangle.ipynb\" target=\"_parent\"><img src=\"https://colab.research.google.com/assets/colab-badge.svg\" alt=\"Open In Colab\"/></a>"
      ]
    },
    {
      "cell_type": "markdown",
      "metadata": {
        "id": "NzV37h96BOZr",
        "colab_type": "text"
      },
      "source": [
        "Primary author esamsoe@gmail.com<br>\n",
        "Github: [Link](https://github.com/samsoe/mpg_notebooks/blob/master/cumulative_weather_data.ipynb)"
      ]
    },
    {
      "cell_type": "code",
      "metadata": {
        "id": "RFrVaRT3TaZ3",
        "colab_type": "code",
        "colab": {}
      },
      "source": [
        "import pandas as pd"
      ],
      "execution_count": 0,
      "outputs": []
    },
    {
      "cell_type": "markdown",
      "metadata": {
        "id": "a7ElXIsiBZiR",
        "colab_type": "text"
      },
      "source": [
        "## Load Data"
      ]
    },
    {
      "cell_type": "markdown",
      "metadata": {
        "id": "eCQ_SvMZi72-",
        "colab_type": "text"
      },
      "source": [
        "### Majority"
      ]
    },
    {
      "cell_type": "code",
      "metadata": {
        "id": "hYBWmLFqTgMe",
        "colab_type": "code",
        "colab": {}
      },
      "source": [
        "# load 2012_2019_mpg_weather.csv\n",
        "src = 'https://drive.google.com/uc?id=1dvy1a_5PTLpmF6t8MBWL9gyIwoB0T-cK'\n",
        "df = pd.read_csv(src)"
      ],
      "execution_count": 0,
      "outputs": []
    },
    {
      "cell_type": "code",
      "metadata": {
        "id": "Z7Q4Ahh5_e0W",
        "colab_type": "code",
        "outputId": "3f68dcd7-ad11-41d2-f8e4-de213b07e843",
        "colab": {
          "base_uri": "https://localhost:8080/",
          "height": 267
        }
      },
      "source": [
        "df.head(2)"
      ],
      "execution_count": 3,
      "outputs": [
        {
          "output_type": "execute_result",
          "data": {
            "text/html": [
              "<div>\n",
              "<style scoped>\n",
              "    .dataframe tbody tr th:only-of-type {\n",
              "        vertical-align: middle;\n",
              "    }\n",
              "\n",
              "    .dataframe tbody tr th {\n",
              "        vertical-align: top;\n",
              "    }\n",
              "\n",
              "    .dataframe thead th {\n",
              "        text-align: right;\n",
              "    }\n",
              "</style>\n",
              "<table border=\"1\" class=\"dataframe\">\n",
              "  <thead>\n",
              "    <tr style=\"text-align: right;\">\n",
              "      <th></th>\n",
              "      <th>Date Time</th>\n",
              "      <th>Day of the Week</th>\n",
              "      <th>Outside Temperature TX1 (°F)</th>\n",
              "      <th>High Outside Temperature TX1 (°F)</th>\n",
              "      <th>Low Outside Temperature TX1 (°F)</th>\n",
              "      <th>Wind Speed TX1 (mph)</th>\n",
              "      <th>High Wind Speed TX1 (mph)</th>\n",
              "      <th>Rain Amount TX1 (in)</th>\n",
              "      <th>High Rain Rate TX1 (in/hr)</th>\n",
              "      <th>Outside Temperature TX2 (°F)</th>\n",
              "      <th>High Outside Temperature TX2 (°F)</th>\n",
              "      <th>Low Outside Temperature TX2 (°F)</th>\n",
              "      <th>Wind Speed TX2 (mph)</th>\n",
              "      <th>High Wind Speed TX2 (mph)</th>\n",
              "      <th>Rain Amount TX2 (in)</th>\n",
              "      <th>High Rain Rate TX2 (in/hr)</th>\n",
              "      <th>Outside Temperature TX3 (°F)</th>\n",
              "      <th>High Outside Temperature TX3 (°F)</th>\n",
              "      <th>Low Outside Temperature TX3 (°F)</th>\n",
              "      <th>Wind Speed TX3 (mph)</th>\n",
              "      <th>High Wind Speed TX3 (mph)</th>\n",
              "      <th>Rain Amount TX3 (in)</th>\n",
              "      <th>High Rain Rate TX3 (in/hr)</th>\n",
              "      <th>Outside Temperature TX4 (°F)</th>\n",
              "      <th>High Outside Temperature TX4 (°F)</th>\n",
              "      <th>Low Outside Temperature TX4 (°F)</th>\n",
              "      <th>Wind Speed TX4 (mph)</th>\n",
              "      <th>High Wind Speed TX4 (mph)</th>\n",
              "      <th>Rain Amount TX4 (in)</th>\n",
              "      <th>High Rain Rate TX4 (in/hr)</th>\n",
              "      <th>Outside Temperature TX5 (°F)</th>\n",
              "      <th>High Outside Temperature TX5 (°F)</th>\n",
              "      <th>Low Outside Temperature TX5 (°F)</th>\n",
              "      <th>Wind Speed TX5 (mph)</th>\n",
              "      <th>High Wind Speed TX5 (mph)</th>\n",
              "      <th>Rain Amount TX5 (in)</th>\n",
              "      <th>High Rain Rate TX5 (in/hr)</th>\n",
              "      <th>Outside Temperature TX6 (°F)</th>\n",
              "      <th>High Outside Temperature TX6 (°F)</th>\n",
              "      <th>Low Outside Temperature TX6 (°F)</th>\n",
              "      <th>Wind Speed TX6 (mph)</th>\n",
              "      <th>High Wind Speed TX6 (mph)</th>\n",
              "      <th>Rain Amount TX6 (in)</th>\n",
              "      <th>High Rain Rate TX6 (in/hr)</th>\n",
              "    </tr>\n",
              "  </thead>\n",
              "  <tbody>\n",
              "    <tr>\n",
              "      <th>0</th>\n",
              "      <td>2012-06-19 16:00:00</td>\n",
              "      <td>Tue</td>\n",
              "      <td>54.6</td>\n",
              "      <td>54.7</td>\n",
              "      <td>54.6</td>\n",
              "      <td>0.0</td>\n",
              "      <td>0.0</td>\n",
              "      <td>0.0</td>\n",
              "      <td>0.0</td>\n",
              "      <td>62.8</td>\n",
              "      <td>62.8</td>\n",
              "      <td>62.8</td>\n",
              "      <td>4.5</td>\n",
              "      <td>5.0</td>\n",
              "      <td>0.0</td>\n",
              "      <td>0.0</td>\n",
              "      <td>NaN</td>\n",
              "      <td>NaN</td>\n",
              "      <td>NaN</td>\n",
              "      <td>NaN</td>\n",
              "      <td>0.0</td>\n",
              "      <td>0.0</td>\n",
              "      <td>0.0</td>\n",
              "      <td>58.7</td>\n",
              "      <td>58.7</td>\n",
              "      <td>58.7</td>\n",
              "      <td>0.3</td>\n",
              "      <td>1.0</td>\n",
              "      <td>0.0</td>\n",
              "      <td>0.0</td>\n",
              "      <td>67.1</td>\n",
              "      <td>67.1</td>\n",
              "      <td>67.0</td>\n",
              "      <td>6.4</td>\n",
              "      <td>7.0</td>\n",
              "      <td>0.0</td>\n",
              "      <td>0.0</td>\n",
              "      <td>NaN</td>\n",
              "      <td>NaN</td>\n",
              "      <td>NaN</td>\n",
              "      <td>NaN</td>\n",
              "      <td>NaN</td>\n",
              "      <td>NaN</td>\n",
              "      <td>NaN</td>\n",
              "    </tr>\n",
              "    <tr>\n",
              "      <th>1</th>\n",
              "      <td>2012-06-19 16:05:00</td>\n",
              "      <td>Tue</td>\n",
              "      <td>54.9</td>\n",
              "      <td>54.9</td>\n",
              "      <td>54.6</td>\n",
              "      <td>0.0</td>\n",
              "      <td>0.0</td>\n",
              "      <td>0.0</td>\n",
              "      <td>0.0</td>\n",
              "      <td>63.4</td>\n",
              "      <td>63.4</td>\n",
              "      <td>62.6</td>\n",
              "      <td>4.4</td>\n",
              "      <td>16.0</td>\n",
              "      <td>0.0</td>\n",
              "      <td>0.0</td>\n",
              "      <td>NaN</td>\n",
              "      <td>NaN</td>\n",
              "      <td>NaN</td>\n",
              "      <td>NaN</td>\n",
              "      <td>0.0</td>\n",
              "      <td>0.0</td>\n",
              "      <td>0.0</td>\n",
              "      <td>58.5</td>\n",
              "      <td>59.0</td>\n",
              "      <td>58.5</td>\n",
              "      <td>7.7</td>\n",
              "      <td>14.0</td>\n",
              "      <td>0.0</td>\n",
              "      <td>0.0</td>\n",
              "      <td>67.4</td>\n",
              "      <td>67.5</td>\n",
              "      <td>67.1</td>\n",
              "      <td>6.1</td>\n",
              "      <td>10.0</td>\n",
              "      <td>0.0</td>\n",
              "      <td>0.0</td>\n",
              "      <td>NaN</td>\n",
              "      <td>NaN</td>\n",
              "      <td>NaN</td>\n",
              "      <td>NaN</td>\n",
              "      <td>NaN</td>\n",
              "      <td>NaN</td>\n",
              "      <td>NaN</td>\n",
              "    </tr>\n",
              "  </tbody>\n",
              "</table>\n",
              "</div>"
            ],
            "text/plain": [
              "            Date Time   ... High Rain Rate TX6 (in/hr)\n",
              "0  2012-06-19 16:00:00  ...                        NaN\n",
              "1  2012-06-19 16:05:00  ...                        NaN\n",
              "\n",
              "[2 rows x 44 columns]"
            ]
          },
          "metadata": {
            "tags": []
          },
          "execution_count": 3
        }
      ]
    },
    {
      "cell_type": "code",
      "metadata": {
        "id": "AQ3VNA5oQUYD",
        "colab_type": "code",
        "outputId": "b3d6b1b2-35b5-43b7-dc5c-402450399204",
        "colab": {
          "base_uri": "https://localhost:8080/",
          "height": 850
        }
      },
      "source": [
        "df.info()"
      ],
      "execution_count": 4,
      "outputs": [
        {
          "output_type": "stream",
          "text": [
            "<class 'pandas.core.frame.DataFrame'>\n",
            "RangeIndex: 212994 entries, 0 to 212993\n",
            "Data columns (total 44 columns):\n",
            "Date Time                            212994 non-null object\n",
            "Day of the Week                      212994 non-null object\n",
            "Outside Temperature TX1 (°F)         198574 non-null float64\n",
            "High Outside Temperature TX1 (°F)    198950 non-null float64\n",
            "Low Outside Temperature TX1 (°F)     198950 non-null float64\n",
            "Wind Speed TX1 (mph)                 198754 non-null float64\n",
            "High Wind Speed TX1 (mph)            212994 non-null float64\n",
            "Rain Amount TX1 (in)                 212994 non-null float64\n",
            "High Rain Rate TX1 (in/hr)           212994 non-null float64\n",
            "Outside Temperature TX2 (°F)         184677 non-null float64\n",
            "High Outside Temperature TX2 (°F)    186759 non-null float64\n",
            "Low Outside Temperature TX2 (°F)     186759 non-null float64\n",
            "Wind Speed TX2 (mph)                 186378 non-null float64\n",
            "High Wind Speed TX2 (mph)            212994 non-null float64\n",
            "Rain Amount TX2 (in)                 212994 non-null float64\n",
            "High Rain Rate TX2 (in/hr)           212994 non-null float64\n",
            "Outside Temperature TX3 (°F)         184190 non-null float64\n",
            "High Outside Temperature TX3 (°F)    185908 non-null float64\n",
            "Low Outside Temperature TX3 (°F)     185908 non-null float64\n",
            "Wind Speed TX3 (mph)                 185660 non-null float64\n",
            "High Wind Speed TX3 (mph)            212994 non-null float64\n",
            "Rain Amount TX3 (in)                 212994 non-null float64\n",
            "High Rain Rate TX3 (in/hr)           212994 non-null float64\n",
            "Outside Temperature TX4 (°F)         199535 non-null float64\n",
            "High Outside Temperature TX4 (°F)    199809 non-null float64\n",
            "Low Outside Temperature TX4 (°F)     199809 non-null float64\n",
            "Wind Speed TX4 (mph)                 199731 non-null float64\n",
            "High Wind Speed TX4 (mph)            212994 non-null float64\n",
            "Rain Amount TX4 (in)                 212994 non-null float64\n",
            "High Rain Rate TX4 (in/hr)           212994 non-null float64\n",
            "Outside Temperature TX5 (°F)         212963 non-null float64\n",
            "High Outside Temperature TX5 (°F)    212965 non-null float64\n",
            "Low Outside Temperature TX5 (°F)     212965 non-null float64\n",
            "Wind Speed TX5 (mph)                 212962 non-null float64\n",
            "High Wind Speed TX5 (mph)            212994 non-null float64\n",
            "Rain Amount TX5 (in)                 212994 non-null float64\n",
            "High Rain Rate TX5 (in/hr)           212994 non-null float64\n",
            "Outside Temperature TX6 (°F)         192513 non-null float64\n",
            "High Outside Temperature TX6 (°F)    193427 non-null float64\n",
            "Low Outside Temperature TX6 (°F)     193427 non-null float64\n",
            "Wind Speed TX6 (mph)                 193168 non-null float64\n",
            "High Wind Speed TX6 (mph)            210689 non-null float64\n",
            "Rain Amount TX6 (in)                 210689 non-null float64\n",
            "High Rain Rate TX6 (in/hr)           210689 non-null float64\n",
            "dtypes: float64(42), object(2)\n",
            "memory usage: 71.5+ MB\n"
          ],
          "name": "stdout"
        }
      ]
    },
    {
      "cell_type": "markdown",
      "metadata": {
        "id": "xJLg0j4ojAID",
        "colab_type": "text"
      },
      "source": [
        "### Wind"
      ]
    },
    {
      "cell_type": "code",
      "metadata": {
        "id": "I6JZVm1VjBNR",
        "colab_type": "code",
        "colab": {}
      },
      "source": [
        "# Wind/wind-13_19.csv\n",
        "wind_src = 'https://drive.google.com/uc?id=1V_uqObEy4Y9QPf9E9oorqb-LVsXl3DtZ'"
      ],
      "execution_count": 0,
      "outputs": []
    },
    {
      "cell_type": "code",
      "metadata": {
        "id": "-CJsS8vxjHm4",
        "colab_type": "code",
        "colab": {}
      },
      "source": [
        "wf = pd.read_csv(wind_src)"
      ],
      "execution_count": 0,
      "outputs": []
    },
    {
      "cell_type": "code",
      "metadata": {
        "id": "nDfbYtJ4jWBT",
        "colab_type": "code",
        "outputId": "c156b7f1-8835-4429-d8e8-7da6bdeafdfb",
        "colab": {
          "base_uri": "https://localhost:8080/",
          "height": 340
        }
      },
      "source": [
        "wf.info()"
      ],
      "execution_count": 7,
      "outputs": [
        {
          "output_type": "stream",
          "text": [
            "<class 'pandas.core.frame.DataFrame'>\n",
            "RangeIndex: 158027 entries, 0 to 158026\n",
            "Data columns (total 14 columns):\n",
            "Day of the Week          158027 non-null object\n",
            "Date Time                158027 non-null object\n",
            "High Wind Dir TX1        149503 non-null object\n",
            "Dominant Wind Dir TX1    149503 non-null object\n",
            "High Wind Dir TX2        117276 non-null object\n",
            "Dominant Wind Dir TX2    117221 non-null object\n",
            "High Wind Dir TX3        116195 non-null object\n",
            "Dominant Wind Dir TX3    116149 non-null object\n",
            "High Wind Dir TX4        151866 non-null object\n",
            "Dominant Wind Dir TX4    151874 non-null object\n",
            "High Wind Dir TX5        142865 non-null object\n",
            "Dominant Wind Dir TX5    142855 non-null object\n",
            "High Wind Dir TX6        132361 non-null object\n",
            "Dominant Wind Dir TX6    132357 non-null object\n",
            "dtypes: object(14)\n",
            "memory usage: 16.9+ MB\n"
          ],
          "name": "stdout"
        }
      ]
    },
    {
      "cell_type": "code",
      "metadata": {
        "id": "cEKYEEEBjbPK",
        "colab_type": "code",
        "outputId": "72b6f9a7-afa6-4657-cd3b-d98008214edc",
        "colab": {
          "base_uri": "https://localhost:8080/",
          "height": 230
        }
      },
      "source": [
        "wf.head(2)"
      ],
      "execution_count": 8,
      "outputs": [
        {
          "output_type": "execute_result",
          "data": {
            "text/html": [
              "<div>\n",
              "<style scoped>\n",
              "    .dataframe tbody tr th:only-of-type {\n",
              "        vertical-align: middle;\n",
              "    }\n",
              "\n",
              "    .dataframe tbody tr th {\n",
              "        vertical-align: top;\n",
              "    }\n",
              "\n",
              "    .dataframe thead th {\n",
              "        text-align: right;\n",
              "    }\n",
              "</style>\n",
              "<table border=\"1\" class=\"dataframe\">\n",
              "  <thead>\n",
              "    <tr style=\"text-align: right;\">\n",
              "      <th></th>\n",
              "      <th>Day of the Week</th>\n",
              "      <th>Date Time</th>\n",
              "      <th>High Wind Dir TX1</th>\n",
              "      <th>Dominant Wind Dir TX1</th>\n",
              "      <th>High Wind Dir TX2</th>\n",
              "      <th>Dominant Wind Dir TX2</th>\n",
              "      <th>High Wind Dir TX3</th>\n",
              "      <th>Dominant Wind Dir TX3</th>\n",
              "      <th>High Wind Dir TX4</th>\n",
              "      <th>Dominant Wind Dir TX4</th>\n",
              "      <th>High Wind Dir TX5</th>\n",
              "      <th>Dominant Wind Dir TX5</th>\n",
              "      <th>High Wind Dir TX6</th>\n",
              "      <th>Dominant Wind Dir TX6</th>\n",
              "    </tr>\n",
              "  </thead>\n",
              "  <tbody>\n",
              "    <tr>\n",
              "      <th>0</th>\n",
              "      <td>Tue</td>\n",
              "      <td>01-01-2013 00:00:00</td>\n",
              "      <td>W</td>\n",
              "      <td>W</td>\n",
              "      <td>E</td>\n",
              "      <td>E</td>\n",
              "      <td>ENE</td>\n",
              "      <td>ENE</td>\n",
              "      <td>NNE</td>\n",
              "      <td>NE</td>\n",
              "      <td>NaN</td>\n",
              "      <td>NaN</td>\n",
              "      <td>NE</td>\n",
              "      <td>NE</td>\n",
              "    </tr>\n",
              "    <tr>\n",
              "      <th>1</th>\n",
              "      <td>Tue</td>\n",
              "      <td>01-01-2013 00:05:00</td>\n",
              "      <td>W</td>\n",
              "      <td>W</td>\n",
              "      <td>E</td>\n",
              "      <td>E</td>\n",
              "      <td>ENE</td>\n",
              "      <td>ENE</td>\n",
              "      <td>NE</td>\n",
              "      <td>NE</td>\n",
              "      <td>NaN</td>\n",
              "      <td>NaN</td>\n",
              "      <td>NNE</td>\n",
              "      <td>NNE</td>\n",
              "    </tr>\n",
              "  </tbody>\n",
              "</table>\n",
              "</div>"
            ],
            "text/plain": [
              "  Day of the Week   ... Dominant Wind Dir TX6\n",
              "0              Tue  ...                    NE\n",
              "1              Tue  ...                   NNE\n",
              "\n",
              "[2 rows x 14 columns]"
            ]
          },
          "metadata": {
            "tags": []
          },
          "execution_count": 8
        }
      ]
    },
    {
      "cell_type": "markdown",
      "metadata": {
        "id": "xwuOwNJ0m5oz",
        "colab_type": "text"
      },
      "source": [
        "# Join datasets\n",
        "Combine wind with larger dataset"
      ]
    },
    {
      "cell_type": "markdown",
      "metadata": {
        "id": "3LQdW_oknuTj",
        "colab_type": "text"
      },
      "source": [
        "### Set datetime datatype"
      ]
    },
    {
      "cell_type": "code",
      "metadata": {
        "id": "4z_woC1MnGhY",
        "colab_type": "code",
        "colab": {}
      },
      "source": [
        "## larger dataset\n",
        "df['Date Time '] = pd.to_datetime(df['Date Time '])\n",
        "\n",
        "## wind\n",
        "wf['Date Time '] = pd.to_datetime(wf['Date Time '])"
      ],
      "execution_count": 0,
      "outputs": []
    },
    {
      "cell_type": "markdown",
      "metadata": {
        "id": "rf4MjrVMoAk2",
        "colab_type": "text"
      },
      "source": [
        "### Drop Column"
      ]
    },
    {
      "cell_type": "code",
      "metadata": {
        "id": "Di7MGYOUnGk0",
        "colab_type": "code",
        "colab": {}
      },
      "source": [
        "df = df.loc[:, df.columns != 'Day of the Week ']\n",
        "wf = wf.loc[:, wf.columns != 'Day of the Week ']"
      ],
      "execution_count": 0,
      "outputs": []
    },
    {
      "cell_type": "markdown",
      "metadata": {
        "id": "bbDS1D67oYt0",
        "colab_type": "text"
      },
      "source": [
        "### Set Index"
      ]
    },
    {
      "cell_type": "code",
      "metadata": {
        "id": "SLXYRT0xnGrn",
        "colab_type": "code",
        "colab": {}
      },
      "source": [
        "df = df.set_index('Date Time ')\n",
        "wf = wf.set_index('Date Time ')"
      ],
      "execution_count": 0,
      "outputs": []
    },
    {
      "cell_type": "markdown",
      "metadata": {
        "id": "87wRvo-TpbNo",
        "colab_type": "text"
      },
      "source": [
        "### Merge DataFrames"
      ]
    },
    {
      "cell_type": "code",
      "metadata": {
        "id": "Xu24nTMbnGvO",
        "colab_type": "code",
        "colab": {}
      },
      "source": [
        "# merged frame\n",
        "mf = pd.merge(df, wf, how='left', left_index=True, right_index=True)"
      ],
      "execution_count": 0,
      "outputs": []
    },
    {
      "cell_type": "code",
      "metadata": {
        "id": "l8rBUSq6ppaZ",
        "colab_type": "code",
        "colab": {
          "base_uri": "https://localhost:8080/",
          "height": 1000
        },
        "outputId": "f1b48cf1-c449-454c-efbc-f1a0f39e6343"
      },
      "source": [
        "mf.info()"
      ],
      "execution_count": 13,
      "outputs": [
        {
          "output_type": "stream",
          "text": [
            "<class 'pandas.core.frame.DataFrame'>\n",
            "DatetimeIndex: 212994 entries, 2012-06-19 16:00:00 to 2019-12-31 23:30:00\n",
            "Data columns (total 54 columns):\n",
            "Outside Temperature TX1 (°F)         198574 non-null float64\n",
            "High Outside Temperature TX1 (°F)    198950 non-null float64\n",
            "Low Outside Temperature TX1 (°F)     198950 non-null float64\n",
            "Wind Speed TX1 (mph)                 198754 non-null float64\n",
            "High Wind Speed TX1 (mph)            212994 non-null float64\n",
            "Rain Amount TX1 (in)                 212994 non-null float64\n",
            "High Rain Rate TX1 (in/hr)           212994 non-null float64\n",
            "Outside Temperature TX2 (°F)         184677 non-null float64\n",
            "High Outside Temperature TX2 (°F)    186759 non-null float64\n",
            "Low Outside Temperature TX2 (°F)     186759 non-null float64\n",
            "Wind Speed TX2 (mph)                 186378 non-null float64\n",
            "High Wind Speed TX2 (mph)            212994 non-null float64\n",
            "Rain Amount TX2 (in)                 212994 non-null float64\n",
            "High Rain Rate TX2 (in/hr)           212994 non-null float64\n",
            "Outside Temperature TX3 (°F)         184190 non-null float64\n",
            "High Outside Temperature TX3 (°F)    185908 non-null float64\n",
            "Low Outside Temperature TX3 (°F)     185908 non-null float64\n",
            "Wind Speed TX3 (mph)                 185660 non-null float64\n",
            "High Wind Speed TX3 (mph)            212994 non-null float64\n",
            "Rain Amount TX3 (in)                 212994 non-null float64\n",
            "High Rain Rate TX3 (in/hr)           212994 non-null float64\n",
            "Outside Temperature TX4 (°F)         199535 non-null float64\n",
            "High Outside Temperature TX4 (°F)    199809 non-null float64\n",
            "Low Outside Temperature TX4 (°F)     199809 non-null float64\n",
            "Wind Speed TX4 (mph)                 199731 non-null float64\n",
            "High Wind Speed TX4 (mph)            212994 non-null float64\n",
            "Rain Amount TX4 (in)                 212994 non-null float64\n",
            "High Rain Rate TX4 (in/hr)           212994 non-null float64\n",
            "Outside Temperature TX5 (°F)         212963 non-null float64\n",
            "High Outside Temperature TX5 (°F)    212965 non-null float64\n",
            "Low Outside Temperature TX5 (°F)     212965 non-null float64\n",
            "Wind Speed TX5 (mph)                 212962 non-null float64\n",
            "High Wind Speed TX5 (mph)            212994 non-null float64\n",
            "Rain Amount TX5 (in)                 212994 non-null float64\n",
            "High Rain Rate TX5 (in/hr)           212994 non-null float64\n",
            "Outside Temperature TX6 (°F)         192513 non-null float64\n",
            "High Outside Temperature TX6 (°F)    193427 non-null float64\n",
            "Low Outside Temperature TX6 (°F)     193427 non-null float64\n",
            "Wind Speed TX6 (mph)                 193168 non-null float64\n",
            "High Wind Speed TX6 (mph)            210689 non-null float64\n",
            "Rain Amount TX6 (in)                 210689 non-null float64\n",
            "High Rain Rate TX6 (in/hr)           210689 non-null float64\n",
            "High Wind Dir TX1                    149503 non-null object\n",
            "Dominant Wind Dir TX1                149503 non-null object\n",
            "High Wind Dir TX2                    117276 non-null object\n",
            "Dominant Wind Dir TX2                117221 non-null object\n",
            "High Wind Dir TX3                    116195 non-null object\n",
            "Dominant Wind Dir TX3                116149 non-null object\n",
            "High Wind Dir TX4                    151866 non-null object\n",
            "Dominant Wind Dir TX4                151874 non-null object\n",
            "High Wind Dir TX5                    142865 non-null object\n",
            "Dominant Wind Dir TX5                142855 non-null object\n",
            "High Wind Dir TX6                    132361 non-null object\n",
            "Dominant Wind Dir TX6                132357 non-null object\n",
            "dtypes: float64(42), object(12)\n",
            "memory usage: 99.4+ MB\n"
          ],
          "name": "stdout"
        }
      ]
    },
    {
      "cell_type": "code",
      "metadata": {
        "id": "Gu6DYdSbqThZ",
        "colab_type": "code",
        "colab": {
          "base_uri": "https://localhost:8080/",
          "height": 510
        },
        "outputId": "8420f039-3f38-4df4-f617-a888e46eea81"
      },
      "source": [
        "mf['2013'].head()"
      ],
      "execution_count": 14,
      "outputs": [
        {
          "output_type": "execute_result",
          "data": {
            "text/html": [
              "<div>\n",
              "<style scoped>\n",
              "    .dataframe tbody tr th:only-of-type {\n",
              "        vertical-align: middle;\n",
              "    }\n",
              "\n",
              "    .dataframe tbody tr th {\n",
              "        vertical-align: top;\n",
              "    }\n",
              "\n",
              "    .dataframe thead th {\n",
              "        text-align: right;\n",
              "    }\n",
              "</style>\n",
              "<table border=\"1\" class=\"dataframe\">\n",
              "  <thead>\n",
              "    <tr style=\"text-align: right;\">\n",
              "      <th></th>\n",
              "      <th>Outside Temperature TX1 (°F)</th>\n",
              "      <th>High Outside Temperature TX1 (°F)</th>\n",
              "      <th>Low Outside Temperature TX1 (°F)</th>\n",
              "      <th>Wind Speed TX1 (mph)</th>\n",
              "      <th>High Wind Speed TX1 (mph)</th>\n",
              "      <th>Rain Amount TX1 (in)</th>\n",
              "      <th>High Rain Rate TX1 (in/hr)</th>\n",
              "      <th>Outside Temperature TX2 (°F)</th>\n",
              "      <th>High Outside Temperature TX2 (°F)</th>\n",
              "      <th>Low Outside Temperature TX2 (°F)</th>\n",
              "      <th>Wind Speed TX2 (mph)</th>\n",
              "      <th>High Wind Speed TX2 (mph)</th>\n",
              "      <th>Rain Amount TX2 (in)</th>\n",
              "      <th>High Rain Rate TX2 (in/hr)</th>\n",
              "      <th>Outside Temperature TX3 (°F)</th>\n",
              "      <th>High Outside Temperature TX3 (°F)</th>\n",
              "      <th>Low Outside Temperature TX3 (°F)</th>\n",
              "      <th>Wind Speed TX3 (mph)</th>\n",
              "      <th>High Wind Speed TX3 (mph)</th>\n",
              "      <th>Rain Amount TX3 (in)</th>\n",
              "      <th>High Rain Rate TX3 (in/hr)</th>\n",
              "      <th>Outside Temperature TX4 (°F)</th>\n",
              "      <th>High Outside Temperature TX4 (°F)</th>\n",
              "      <th>Low Outside Temperature TX4 (°F)</th>\n",
              "      <th>Wind Speed TX4 (mph)</th>\n",
              "      <th>High Wind Speed TX4 (mph)</th>\n",
              "      <th>Rain Amount TX4 (in)</th>\n",
              "      <th>High Rain Rate TX4 (in/hr)</th>\n",
              "      <th>Outside Temperature TX5 (°F)</th>\n",
              "      <th>High Outside Temperature TX5 (°F)</th>\n",
              "      <th>Low Outside Temperature TX5 (°F)</th>\n",
              "      <th>Wind Speed TX5 (mph)</th>\n",
              "      <th>High Wind Speed TX5 (mph)</th>\n",
              "      <th>Rain Amount TX5 (in)</th>\n",
              "      <th>High Rain Rate TX5 (in/hr)</th>\n",
              "      <th>Outside Temperature TX6 (°F)</th>\n",
              "      <th>High Outside Temperature TX6 (°F)</th>\n",
              "      <th>Low Outside Temperature TX6 (°F)</th>\n",
              "      <th>Wind Speed TX6 (mph)</th>\n",
              "      <th>High Wind Speed TX6 (mph)</th>\n",
              "      <th>Rain Amount TX6 (in)</th>\n",
              "      <th>High Rain Rate TX6 (in/hr)</th>\n",
              "      <th>High Wind Dir TX1</th>\n",
              "      <th>Dominant Wind Dir TX1</th>\n",
              "      <th>High Wind Dir TX2</th>\n",
              "      <th>Dominant Wind Dir TX2</th>\n",
              "      <th>High Wind Dir TX3</th>\n",
              "      <th>Dominant Wind Dir TX3</th>\n",
              "      <th>High Wind Dir TX4</th>\n",
              "      <th>Dominant Wind Dir TX4</th>\n",
              "      <th>High Wind Dir TX5</th>\n",
              "      <th>Dominant Wind Dir TX5</th>\n",
              "      <th>High Wind Dir TX6</th>\n",
              "      <th>Dominant Wind Dir TX6</th>\n",
              "    </tr>\n",
              "    <tr>\n",
              "      <th>Date Time</th>\n",
              "      <th></th>\n",
              "      <th></th>\n",
              "      <th></th>\n",
              "      <th></th>\n",
              "      <th></th>\n",
              "      <th></th>\n",
              "      <th></th>\n",
              "      <th></th>\n",
              "      <th></th>\n",
              "      <th></th>\n",
              "      <th></th>\n",
              "      <th></th>\n",
              "      <th></th>\n",
              "      <th></th>\n",
              "      <th></th>\n",
              "      <th></th>\n",
              "      <th></th>\n",
              "      <th></th>\n",
              "      <th></th>\n",
              "      <th></th>\n",
              "      <th></th>\n",
              "      <th></th>\n",
              "      <th></th>\n",
              "      <th></th>\n",
              "      <th></th>\n",
              "      <th></th>\n",
              "      <th></th>\n",
              "      <th></th>\n",
              "      <th></th>\n",
              "      <th></th>\n",
              "      <th></th>\n",
              "      <th></th>\n",
              "      <th></th>\n",
              "      <th></th>\n",
              "      <th></th>\n",
              "      <th></th>\n",
              "      <th></th>\n",
              "      <th></th>\n",
              "      <th></th>\n",
              "      <th></th>\n",
              "      <th></th>\n",
              "      <th></th>\n",
              "      <th></th>\n",
              "      <th></th>\n",
              "      <th></th>\n",
              "      <th></th>\n",
              "      <th></th>\n",
              "      <th></th>\n",
              "      <th></th>\n",
              "      <th></th>\n",
              "      <th></th>\n",
              "      <th></th>\n",
              "      <th></th>\n",
              "      <th></th>\n",
              "    </tr>\n",
              "  </thead>\n",
              "  <tbody>\n",
              "    <tr>\n",
              "      <th>2013-01-01 00:00:00</th>\n",
              "      <td>13.9</td>\n",
              "      <td>13.9</td>\n",
              "      <td>13.8</td>\n",
              "      <td>3.0</td>\n",
              "      <td>5.0</td>\n",
              "      <td>0.0</td>\n",
              "      <td>0.0</td>\n",
              "      <td>18.5</td>\n",
              "      <td>18.5</td>\n",
              "      <td>18.4</td>\n",
              "      <td>0.4</td>\n",
              "      <td>2.0</td>\n",
              "      <td>0.0</td>\n",
              "      <td>0.0</td>\n",
              "      <td>19.7</td>\n",
              "      <td>19.7</td>\n",
              "      <td>19.5</td>\n",
              "      <td>0.9</td>\n",
              "      <td>3.0</td>\n",
              "      <td>0.0</td>\n",
              "      <td>0.0</td>\n",
              "      <td>17.6</td>\n",
              "      <td>17.6</td>\n",
              "      <td>17.4</td>\n",
              "      <td>1.3</td>\n",
              "      <td>2.0</td>\n",
              "      <td>0.0</td>\n",
              "      <td>0.0</td>\n",
              "      <td>19.9</td>\n",
              "      <td>19.9</td>\n",
              "      <td>19.9</td>\n",
              "      <td>0.0</td>\n",
              "      <td>0.0</td>\n",
              "      <td>0.0</td>\n",
              "      <td>0.0</td>\n",
              "      <td>20.9</td>\n",
              "      <td>21.7</td>\n",
              "      <td>20.9</td>\n",
              "      <td>3.0</td>\n",
              "      <td>5.0</td>\n",
              "      <td>0.0</td>\n",
              "      <td>0.0</td>\n",
              "      <td>W</td>\n",
              "      <td>W</td>\n",
              "      <td>E</td>\n",
              "      <td>E</td>\n",
              "      <td>ENE</td>\n",
              "      <td>ENE</td>\n",
              "      <td>NNE</td>\n",
              "      <td>NE</td>\n",
              "      <td>NaN</td>\n",
              "      <td>NaN</td>\n",
              "      <td>NE</td>\n",
              "      <td>NE</td>\n",
              "    </tr>\n",
              "    <tr>\n",
              "      <th>2013-01-01 00:05:00</th>\n",
              "      <td>14.0</td>\n",
              "      <td>14.0</td>\n",
              "      <td>13.9</td>\n",
              "      <td>4.7</td>\n",
              "      <td>6.0</td>\n",
              "      <td>0.0</td>\n",
              "      <td>0.0</td>\n",
              "      <td>18.1</td>\n",
              "      <td>18.5</td>\n",
              "      <td>18.1</td>\n",
              "      <td>0.3</td>\n",
              "      <td>2.0</td>\n",
              "      <td>0.0</td>\n",
              "      <td>0.0</td>\n",
              "      <td>19.3</td>\n",
              "      <td>19.7</td>\n",
              "      <td>19.3</td>\n",
              "      <td>0.3</td>\n",
              "      <td>1.0</td>\n",
              "      <td>0.0</td>\n",
              "      <td>0.0</td>\n",
              "      <td>17.7</td>\n",
              "      <td>17.7</td>\n",
              "      <td>17.6</td>\n",
              "      <td>0.8</td>\n",
              "      <td>2.0</td>\n",
              "      <td>0.0</td>\n",
              "      <td>0.0</td>\n",
              "      <td>19.9</td>\n",
              "      <td>19.9</td>\n",
              "      <td>19.9</td>\n",
              "      <td>0.0</td>\n",
              "      <td>0.0</td>\n",
              "      <td>0.0</td>\n",
              "      <td>0.0</td>\n",
              "      <td>20.6</td>\n",
              "      <td>20.9</td>\n",
              "      <td>20.6</td>\n",
              "      <td>3.9</td>\n",
              "      <td>5.0</td>\n",
              "      <td>0.0</td>\n",
              "      <td>0.0</td>\n",
              "      <td>W</td>\n",
              "      <td>W</td>\n",
              "      <td>E</td>\n",
              "      <td>E</td>\n",
              "      <td>ENE</td>\n",
              "      <td>ENE</td>\n",
              "      <td>NE</td>\n",
              "      <td>NE</td>\n",
              "      <td>NaN</td>\n",
              "      <td>NaN</td>\n",
              "      <td>NNE</td>\n",
              "      <td>NNE</td>\n",
              "    </tr>\n",
              "    <tr>\n",
              "      <th>2013-01-01 00:10:00</th>\n",
              "      <td>14.1</td>\n",
              "      <td>14.1</td>\n",
              "      <td>14.0</td>\n",
              "      <td>4.8</td>\n",
              "      <td>6.0</td>\n",
              "      <td>0.0</td>\n",
              "      <td>0.0</td>\n",
              "      <td>17.9</td>\n",
              "      <td>18.1</td>\n",
              "      <td>17.9</td>\n",
              "      <td>0.0</td>\n",
              "      <td>0.0</td>\n",
              "      <td>0.0</td>\n",
              "      <td>0.0</td>\n",
              "      <td>19.5</td>\n",
              "      <td>19.5</td>\n",
              "      <td>19.3</td>\n",
              "      <td>0.5</td>\n",
              "      <td>2.0</td>\n",
              "      <td>0.0</td>\n",
              "      <td>0.0</td>\n",
              "      <td>17.8</td>\n",
              "      <td>17.8</td>\n",
              "      <td>17.7</td>\n",
              "      <td>0.8</td>\n",
              "      <td>2.0</td>\n",
              "      <td>0.0</td>\n",
              "      <td>0.0</td>\n",
              "      <td>19.9</td>\n",
              "      <td>19.9</td>\n",
              "      <td>19.9</td>\n",
              "      <td>1.8</td>\n",
              "      <td>3.0</td>\n",
              "      <td>0.0</td>\n",
              "      <td>0.0</td>\n",
              "      <td>20.4</td>\n",
              "      <td>20.6</td>\n",
              "      <td>20.3</td>\n",
              "      <td>3.6</td>\n",
              "      <td>5.0</td>\n",
              "      <td>0.0</td>\n",
              "      <td>0.0</td>\n",
              "      <td>W</td>\n",
              "      <td>W</td>\n",
              "      <td>NaN</td>\n",
              "      <td>NaN</td>\n",
              "      <td>ENE</td>\n",
              "      <td>NE</td>\n",
              "      <td>NE</td>\n",
              "      <td>NE</td>\n",
              "      <td>NNE</td>\n",
              "      <td>NNE</td>\n",
              "      <td>NNE</td>\n",
              "      <td>NNE</td>\n",
              "    </tr>\n",
              "    <tr>\n",
              "      <th>2013-01-01 00:15:00</th>\n",
              "      <td>14.1</td>\n",
              "      <td>14.1</td>\n",
              "      <td>14.1</td>\n",
              "      <td>4.4</td>\n",
              "      <td>6.0</td>\n",
              "      <td>0.0</td>\n",
              "      <td>0.0</td>\n",
              "      <td>17.8</td>\n",
              "      <td>17.9</td>\n",
              "      <td>17.8</td>\n",
              "      <td>0.0</td>\n",
              "      <td>0.0</td>\n",
              "      <td>0.0</td>\n",
              "      <td>0.0</td>\n",
              "      <td>19.6</td>\n",
              "      <td>19.6</td>\n",
              "      <td>19.5</td>\n",
              "      <td>2.6</td>\n",
              "      <td>5.0</td>\n",
              "      <td>0.0</td>\n",
              "      <td>0.0</td>\n",
              "      <td>17.7</td>\n",
              "      <td>17.9</td>\n",
              "      <td>17.7</td>\n",
              "      <td>0.2</td>\n",
              "      <td>1.0</td>\n",
              "      <td>0.0</td>\n",
              "      <td>0.0</td>\n",
              "      <td>19.8</td>\n",
              "      <td>19.9</td>\n",
              "      <td>19.8</td>\n",
              "      <td>2.2</td>\n",
              "      <td>5.0</td>\n",
              "      <td>0.0</td>\n",
              "      <td>0.0</td>\n",
              "      <td>20.2</td>\n",
              "      <td>20.4</td>\n",
              "      <td>20.2</td>\n",
              "      <td>3.4</td>\n",
              "      <td>5.0</td>\n",
              "      <td>0.0</td>\n",
              "      <td>0.0</td>\n",
              "      <td>W</td>\n",
              "      <td>W</td>\n",
              "      <td>NaN</td>\n",
              "      <td>NaN</td>\n",
              "      <td>ENE</td>\n",
              "      <td>ENE</td>\n",
              "      <td>NE</td>\n",
              "      <td>NE</td>\n",
              "      <td>NNE</td>\n",
              "      <td>NNE</td>\n",
              "      <td>NNE</td>\n",
              "      <td>NNE</td>\n",
              "    </tr>\n",
              "    <tr>\n",
              "      <th>2013-01-01 00:20:00</th>\n",
              "      <td>14.0</td>\n",
              "      <td>14.1</td>\n",
              "      <td>14.0</td>\n",
              "      <td>4.4</td>\n",
              "      <td>6.0</td>\n",
              "      <td>0.0</td>\n",
              "      <td>0.0</td>\n",
              "      <td>17.8</td>\n",
              "      <td>17.9</td>\n",
              "      <td>17.8</td>\n",
              "      <td>0.0</td>\n",
              "      <td>0.0</td>\n",
              "      <td>0.0</td>\n",
              "      <td>0.0</td>\n",
              "      <td>19.7</td>\n",
              "      <td>19.7</td>\n",
              "      <td>19.6</td>\n",
              "      <td>3.6</td>\n",
              "      <td>5.0</td>\n",
              "      <td>0.0</td>\n",
              "      <td>0.0</td>\n",
              "      <td>17.5</td>\n",
              "      <td>17.8</td>\n",
              "      <td>17.5</td>\n",
              "      <td>1.1</td>\n",
              "      <td>3.0</td>\n",
              "      <td>0.0</td>\n",
              "      <td>0.0</td>\n",
              "      <td>19.5</td>\n",
              "      <td>19.8</td>\n",
              "      <td>19.5</td>\n",
              "      <td>4.3</td>\n",
              "      <td>6.0</td>\n",
              "      <td>0.0</td>\n",
              "      <td>0.0</td>\n",
              "      <td>20.2</td>\n",
              "      <td>20.2</td>\n",
              "      <td>20.2</td>\n",
              "      <td>4.4</td>\n",
              "      <td>6.0</td>\n",
              "      <td>0.0</td>\n",
              "      <td>0.0</td>\n",
              "      <td>W</td>\n",
              "      <td>W</td>\n",
              "      <td>NaN</td>\n",
              "      <td>NaN</td>\n",
              "      <td>ENE</td>\n",
              "      <td>ENE</td>\n",
              "      <td>NE</td>\n",
              "      <td>NE</td>\n",
              "      <td>NNE</td>\n",
              "      <td>NNE</td>\n",
              "      <td>NNE</td>\n",
              "      <td>NE</td>\n",
              "    </tr>\n",
              "  </tbody>\n",
              "</table>\n",
              "</div>"
            ],
            "text/plain": [
              "                     Outside Temperature TX1 (°F)  ...  Dominant Wind Dir TX6\n",
              "Date Time                                          ...                       \n",
              "2013-01-01 00:00:00                          13.9  ...                     NE\n",
              "2013-01-01 00:05:00                          14.0  ...                    NNE\n",
              "2013-01-01 00:10:00                          14.1  ...                    NNE\n",
              "2013-01-01 00:15:00                          14.1  ...                    NNE\n",
              "2013-01-01 00:20:00                          14.0  ...                     NE\n",
              "\n",
              "[5 rows x 54 columns]"
            ]
          },
          "metadata": {
            "tags": []
          },
          "execution_count": 14
        }
      ]
    },
    {
      "cell_type": "markdown",
      "metadata": {
        "id": "i_rF3YJUBe0Q",
        "colab_type": "text"
      },
      "source": [
        "# Restructure"
      ]
    },
    {
      "cell_type": "markdown",
      "metadata": {
        "id": "GDtPgRxSA2PG",
        "colab_type": "text"
      },
      "source": [
        "### Rename columns"
      ]
    },
    {
      "cell_type": "code",
      "metadata": {
        "id": "cPqA25R2pxiD",
        "colab_type": "code",
        "colab": {
          "base_uri": "https://localhost:8080/",
          "height": 459
        },
        "outputId": "0797dae9-736c-489c-c945-086ea3b191ae"
      },
      "source": [
        "# show existing columns\n",
        "mf.columns"
      ],
      "execution_count": 15,
      "outputs": [
        {
          "output_type": "execute_result",
          "data": {
            "text/plain": [
              "Index(['Outside Temperature TX1 (°F)', 'High Outside Temperature TX1 (°F)',\n",
              "       'Low Outside Temperature TX1 (°F)', 'Wind Speed TX1 (mph)',\n",
              "       'High Wind Speed TX1 (mph)', 'Rain Amount TX1 (in)',\n",
              "       'High Rain Rate TX1 (in/hr)', 'Outside Temperature TX2 (°F)',\n",
              "       'High Outside Temperature TX2 (°F)', 'Low Outside Temperature TX2 (°F)',\n",
              "       'Wind Speed TX2 (mph)', 'High Wind Speed TX2 (mph)',\n",
              "       'Rain Amount TX2 (in)', 'High Rain Rate TX2 (in/hr)',\n",
              "       'Outside Temperature TX3 (°F)', 'High Outside Temperature TX3 (°F)',\n",
              "       'Low Outside Temperature TX3 (°F)', 'Wind Speed TX3 (mph)',\n",
              "       'High Wind Speed TX3 (mph)', 'Rain Amount TX3 (in)',\n",
              "       'High Rain Rate TX3 (in/hr)', 'Outside Temperature TX4 (°F)',\n",
              "       'High Outside Temperature TX4 (°F)', 'Low Outside Temperature TX4 (°F)',\n",
              "       'Wind Speed TX4 (mph)', 'High Wind Speed TX4 (mph)',\n",
              "       'Rain Amount TX4 (in)', 'High Rain Rate TX4 (in/hr)',\n",
              "       'Outside Temperature TX5 (°F)', 'High Outside Temperature TX5 (°F)',\n",
              "       'Low Outside Temperature TX5 (°F)', 'Wind Speed TX5 (mph)',\n",
              "       'High Wind Speed TX5 (mph)', 'Rain Amount TX5 (in)',\n",
              "       'High Rain Rate TX5 (in/hr)', 'Outside Temperature TX6 (°F)',\n",
              "       'High Outside Temperature TX6 (°F)', 'Low Outside Temperature TX6 (°F)',\n",
              "       'Wind Speed TX6 (mph)', 'High Wind Speed TX6 (mph)',\n",
              "       'Rain Amount TX6 (in)', 'High Rain Rate TX6 (in/hr)',\n",
              "       'High Wind Dir TX1', 'Dominant Wind Dir TX1', 'High Wind Dir TX2',\n",
              "       'Dominant Wind Dir TX2', 'High Wind Dir TX3', 'Dominant Wind Dir TX3',\n",
              "       'High Wind Dir TX4', 'Dominant Wind Dir TX4', 'High Wind Dir TX5',\n",
              "       'Dominant Wind Dir TX5', 'High Wind Dir TX6', 'Dominant Wind Dir TX6'],\n",
              "      dtype='object')"
            ]
          },
          "metadata": {
            "tags": []
          },
          "execution_count": 15
        }
      ]
    },
    {
      "cell_type": "code",
      "metadata": {
        "id": "ymLqZwEj_tdD",
        "colab_type": "code",
        "colab": {}
      },
      "source": [
        "# rename columns\n",
        "mf = mf.rename(columns={\n",
        "'Outside Temperature TX1 (°F)': 'outside temperature baldy summit_f',\n",
        "'High Outside Temperature TX1 (°F)': 'high outside temperature baldy summit_f',\n",
        "'Low Outside Temperature TX1 (°F)': 'low outside temperature baldy summit_f',\n",
        "'Wind Speed TX1 (mph)': 'wind speed baldy summit_mph',\n",
        "'High Wind Speed TX1 (mph)': 'high wind speed baldy summit_mph',\n",
        "'Rain Amount TX1 (in)': 'rain amount baldy summit_in',\n",
        "'High Rain Rate TX1 (in/hr)': 'high rain rate baldy summit_in_hr',\n",
        "'Outside Temperature TX2 (°F)': 'outside temperature baldy draw_f',\n",
        "'High Outside Temperature TX2 (°F)': 'high outside temperature baldy draw_f',\n",
        "'Low Outside Temperature TX2 (°F)': 'low outside temperature baldy draw_f',\n",
        "'Wind Speed TX2 (mph)': 'wind speed baldy draw_mph',\n",
        "'High Wind Speed TX2 (mph)': 'high wind speed baldy draw_mph',\n",
        "'Rain Amount TX2 (in)': 'rain amount baldy draw_in',\n",
        "'High Rain Rate TX2 (in/hr)': 'high rain rate baldy draw_in_hr',\n",
        "'Outside Temperature TX3 (°F)': 'outside temperature sanfoin bench_f',\n",
        "'High Outside Temperature TX3 (°F)': 'high outside temperature sanfoin bench_f',\n",
        "'Low Outside Temperature TX3 (°F)': 'low outside temperature sanfoin bench_f',\n",
        "'Wind Speed TX3 (mph)': 'wind speed sanfoin bench_mph',\n",
        "'High Wind Speed TX3 (mph)': 'high wind speed sanfoin bench_mph',\n",
        "'Rain Amount TX3 (in)': 'rain amount sanfoin bench_in',\n",
        "'High Rain Rate TX3 (in/hr)': 'high rain rate sanfoin bench_in_hr',\n",
        "'Outside Temperature TX4 (°F)': 'outside temperature south baldy_f',\n",
        "'High Outside Temperature TX4 (°F)': 'high outside temperature south baldy_f',\n",
        "'Low Outside Temperature TX4 (°F)': 'low outside temperature south baldy_f',\n",
        "'Wind Speed TX4 (mph)': 'wind speed south baldy_mph',\n",
        "'High Wind Speed TX4 (mph)': 'high wind speed south baldy_mph',\n",
        "'Rain Amount TX4 (in)': 'rain amount south baldy_in',\n",
        "'High Rain Rate TX4 (in/hr)': 'high rain rate south baldy_in_hr',\n",
        "'Outside Temperature TX5 (°F)': 'outside temperature orchard house_f',\n",
        "'High Outside Temperature TX5 (°F)': 'high outside temperature orchard house_f',\n",
        "'Low Outside Temperature TX5 (°F)': 'low outside temperature orchard house_f',\n",
        "'Wind Speed TX5 (mph)': 'wind speed orchard house_mph',\n",
        "'High Wind Speed TX5 (mph)': 'high wind speed orchard house_mph',\n",
        "'Rain Amount TX5 (in)': 'rain amount orchard house_in',\n",
        "'High Rain Rate TX5 (in/hr)': 'high rain rate orchard house_in_hr',\n",
        "'Outside Temperature TX6 (°F)': 'outside temperature indian ridge_f',\n",
        "'High Outside Temperature TX6 (°F)': 'high outside temperature indian ridge_f',\n",
        "'Low Outside Temperature TX6 (°F)': 'low outside temperature indian ridge_f',\n",
        "'Wind Speed TX6 (mph)': 'wind speed indian ridge_mph',\n",
        "'High Wind Speed TX6 (mph)': 'high wind speed indian ridge_mph',\n",
        "'Rain Amount TX6 (in)': 'rain amount indian ridge_in',\n",
        "'High Rain Rate TX6 (in/hr)': 'high rain rate indian ridge_in_hr',\n",
        "'High Wind Dir TX1': 'high wind dir baldy summit',\n",
        "'Dominant Wind Dir TX1': 'dominant wind dir baldy summit',\n",
        "'High Wind Dir TX2': 'high wind dir baldy draw',\n",
        "'Dominant Wind Dir TX2': 'dominant wind dir baldy draw',\n",
        "'High Wind Dir TX3': 'high wind dir sanfoin bench',\n",
        "'Dominant Wind Dir TX3': 'dominant wind dir sanfoin bench',\n",
        "'High Wind Dir TX4': 'high wind dir south baldy',\n",
        "'Dominant Wind Dir TX4': 'dominant wind dir south baldy',\n",
        "'High Wind Dir TX5': 'high wind dir orchard house',\n",
        "'Dominant Wind Dir TX5': 'dominant wind dir orchard house',\n",
        "'High Wind Dir TX6': 'high wind dir indian ridge',\n",
        "'Dominant Wind Dir TX6': 'dominant wind dir indian ridge'})"
      ],
      "execution_count": 0,
      "outputs": []
    },
    {
      "cell_type": "code",
      "metadata": {
        "id": "xUlUdi1Er9ag",
        "colab_type": "code",
        "colab": {}
      },
      "source": [
        "# rename index\n",
        "mf.index.names = ['datetime']"
      ],
      "execution_count": 0,
      "outputs": []
    },
    {
      "cell_type": "markdown",
      "metadata": {
        "id": "rF2I0kPUA6hU",
        "colab_type": "text"
      },
      "source": [
        "### Wide to Long"
      ]
    },
    {
      "cell_type": "code",
      "metadata": {
        "id": "Q0C20NACXUBb",
        "colab_type": "code",
        "colab": {}
      },
      "source": [
        "# reset index\n",
        "mf = mf.reset_index()"
      ],
      "execution_count": 0,
      "outputs": []
    },
    {
      "cell_type": "code",
      "metadata": {
        "id": "pE1JQ9KLAkKv",
        "colab_type": "code",
        "colab": {}
      },
      "source": [
        "ml = mf.melt(id_vars=['datetime'])"
      ],
      "execution_count": 0,
      "outputs": []
    },
    {
      "cell_type": "code",
      "metadata": {
        "id": "Iw6gk0i3XfjZ",
        "colab_type": "code",
        "colab": {
          "base_uri": "https://localhost:8080/",
          "height": 204
        },
        "outputId": "edccb373-f2f9-4d3d-b9e0-a0a5b2a7ed01"
      },
      "source": [
        "ml.head()"
      ],
      "execution_count": 57,
      "outputs": [
        {
          "output_type": "execute_result",
          "data": {
            "text/html": [
              "<div>\n",
              "<style scoped>\n",
              "    .dataframe tbody tr th:only-of-type {\n",
              "        vertical-align: middle;\n",
              "    }\n",
              "\n",
              "    .dataframe tbody tr th {\n",
              "        vertical-align: top;\n",
              "    }\n",
              "\n",
              "    .dataframe thead th {\n",
              "        text-align: right;\n",
              "    }\n",
              "</style>\n",
              "<table border=\"1\" class=\"dataframe\">\n",
              "  <thead>\n",
              "    <tr style=\"text-align: right;\">\n",
              "      <th></th>\n",
              "      <th>datetime</th>\n",
              "      <th>variable</th>\n",
              "      <th>value</th>\n",
              "    </tr>\n",
              "  </thead>\n",
              "  <tbody>\n",
              "    <tr>\n",
              "      <th>0</th>\n",
              "      <td>2012-06-19 16:00:00</td>\n",
              "      <td>outside temperature baldy summit_f</td>\n",
              "      <td>54.6</td>\n",
              "    </tr>\n",
              "    <tr>\n",
              "      <th>1</th>\n",
              "      <td>2012-06-19 16:05:00</td>\n",
              "      <td>outside temperature baldy summit_f</td>\n",
              "      <td>54.9</td>\n",
              "    </tr>\n",
              "    <tr>\n",
              "      <th>2</th>\n",
              "      <td>2012-06-19 16:10:00</td>\n",
              "      <td>outside temperature baldy summit_f</td>\n",
              "      <td>55</td>\n",
              "    </tr>\n",
              "    <tr>\n",
              "      <th>3</th>\n",
              "      <td>2012-06-19 16:15:00</td>\n",
              "      <td>outside temperature baldy summit_f</td>\n",
              "      <td>54.9</td>\n",
              "    </tr>\n",
              "    <tr>\n",
              "      <th>4</th>\n",
              "      <td>2012-06-19 16:20:00</td>\n",
              "      <td>outside temperature baldy summit_f</td>\n",
              "      <td>54.8</td>\n",
              "    </tr>\n",
              "  </tbody>\n",
              "</table>\n",
              "</div>"
            ],
            "text/plain": [
              "             datetime                            variable value\n",
              "0 2012-06-19 16:00:00  outside temperature baldy summit_f  54.6\n",
              "1 2012-06-19 16:05:00  outside temperature baldy summit_f  54.9\n",
              "2 2012-06-19 16:10:00  outside temperature baldy summit_f    55\n",
              "3 2012-06-19 16:15:00  outside temperature baldy summit_f  54.9\n",
              "4 2012-06-19 16:20:00  outside temperature baldy summit_f  54.8"
            ]
          },
          "metadata": {
            "tags": []
          },
          "execution_count": 57
        }
      ]
    },
    {
      "cell_type": "markdown",
      "metadata": {
        "id": "lT3hbQUWB6k7",
        "colab_type": "text"
      },
      "source": [
        "### Identify Stations"
      ]
    },
    {
      "cell_type": "code",
      "metadata": {
        "id": "Fuqwfd5HBDhC",
        "colab_type": "code",
        "colab": {}
      },
      "source": [
        "stations = ['baldy summit', 'baldy draw', 'sanfoin bench', 'south baldy', 'orchard house', 'indian ridge']\n",
        "for station in stations:\n",
        "  ml.loc[ml['variable'].str.contains(station), 'station'] = station"
      ],
      "execution_count": 0,
      "outputs": []
    },
    {
      "cell_type": "code",
      "metadata": {
        "id": "iCuwI-mrBxsl",
        "colab_type": "code",
        "outputId": "4c1d2e5d-a142-4f0b-89c2-237befb818e3",
        "colab": {
          "base_uri": "https://localhost:8080/",
          "height": 111
        }
      },
      "source": [
        "ml.tail(2)"
      ],
      "execution_count": 59,
      "outputs": [
        {
          "output_type": "execute_result",
          "data": {
            "text/html": [
              "<div>\n",
              "<style scoped>\n",
              "    .dataframe tbody tr th:only-of-type {\n",
              "        vertical-align: middle;\n",
              "    }\n",
              "\n",
              "    .dataframe tbody tr th {\n",
              "        vertical-align: top;\n",
              "    }\n",
              "\n",
              "    .dataframe thead th {\n",
              "        text-align: right;\n",
              "    }\n",
              "</style>\n",
              "<table border=\"1\" class=\"dataframe\">\n",
              "  <thead>\n",
              "    <tr style=\"text-align: right;\">\n",
              "      <th></th>\n",
              "      <th>datetime</th>\n",
              "      <th>variable</th>\n",
              "      <th>value</th>\n",
              "      <th>station</th>\n",
              "    </tr>\n",
              "  </thead>\n",
              "  <tbody>\n",
              "    <tr>\n",
              "      <th>11501674</th>\n",
              "      <td>2019-12-31 23:00:00</td>\n",
              "      <td>dominant wind dir indian ridge</td>\n",
              "      <td>NNW</td>\n",
              "      <td>indian ridge</td>\n",
              "    </tr>\n",
              "    <tr>\n",
              "      <th>11501675</th>\n",
              "      <td>2019-12-31 23:30:00</td>\n",
              "      <td>dominant wind dir indian ridge</td>\n",
              "      <td>NNW</td>\n",
              "      <td>indian ridge</td>\n",
              "    </tr>\n",
              "  </tbody>\n",
              "</table>\n",
              "</div>"
            ],
            "text/plain": [
              "                    datetime  ...       station\n",
              "11501674 2019-12-31 23:00:00  ...  indian ridge\n",
              "11501675 2019-12-31 23:30:00  ...  indian ridge\n",
              "\n",
              "[2 rows x 4 columns]"
            ]
          },
          "metadata": {
            "tags": []
          },
          "execution_count": 59
        }
      ]
    },
    {
      "cell_type": "markdown",
      "metadata": {
        "id": "3IulldHWCBRH",
        "colab_type": "text"
      },
      "source": [
        "### Identify Measurement"
      ]
    },
    {
      "cell_type": "code",
      "metadata": {
        "id": "9tQfcs-lBzSB",
        "colab_type": "code",
        "colab": {}
      },
      "source": [
        "measures = ['outside temperature', 'high outside temperature', 'low outside temperature', 'wind speed', 'high wind speed', 'rain amount', 'high rain rate', 'dominant wind dir', 'high wind dir']\n",
        "\n",
        "for measure in measures:\n",
        "  ml.loc[ml['variable'].str.contains(measure), 'measure'] = measure"
      ],
      "execution_count": 0,
      "outputs": []
    },
    {
      "cell_type": "code",
      "metadata": {
        "id": "O6mGC2cCC0qu",
        "colab_type": "code",
        "outputId": "d4640f8f-78b1-4bb7-bca5-cdbe3a057987",
        "colab": {
          "base_uri": "https://localhost:8080/",
          "height": 111
        }
      },
      "source": [
        "ml.tail(2)"
      ],
      "execution_count": 61,
      "outputs": [
        {
          "output_type": "execute_result",
          "data": {
            "text/html": [
              "<div>\n",
              "<style scoped>\n",
              "    .dataframe tbody tr th:only-of-type {\n",
              "        vertical-align: middle;\n",
              "    }\n",
              "\n",
              "    .dataframe tbody tr th {\n",
              "        vertical-align: top;\n",
              "    }\n",
              "\n",
              "    .dataframe thead th {\n",
              "        text-align: right;\n",
              "    }\n",
              "</style>\n",
              "<table border=\"1\" class=\"dataframe\">\n",
              "  <thead>\n",
              "    <tr style=\"text-align: right;\">\n",
              "      <th></th>\n",
              "      <th>datetime</th>\n",
              "      <th>variable</th>\n",
              "      <th>value</th>\n",
              "      <th>station</th>\n",
              "      <th>measure</th>\n",
              "    </tr>\n",
              "  </thead>\n",
              "  <tbody>\n",
              "    <tr>\n",
              "      <th>11501674</th>\n",
              "      <td>2019-12-31 23:00:00</td>\n",
              "      <td>dominant wind dir indian ridge</td>\n",
              "      <td>NNW</td>\n",
              "      <td>indian ridge</td>\n",
              "      <td>dominant wind dir</td>\n",
              "    </tr>\n",
              "    <tr>\n",
              "      <th>11501675</th>\n",
              "      <td>2019-12-31 23:30:00</td>\n",
              "      <td>dominant wind dir indian ridge</td>\n",
              "      <td>NNW</td>\n",
              "      <td>indian ridge</td>\n",
              "      <td>dominant wind dir</td>\n",
              "    </tr>\n",
              "  </tbody>\n",
              "</table>\n",
              "</div>"
            ],
            "text/plain": [
              "                    datetime  ...            measure\n",
              "11501674 2019-12-31 23:00:00  ...  dominant wind dir\n",
              "11501675 2019-12-31 23:30:00  ...  dominant wind dir\n",
              "\n",
              "[2 rows x 5 columns]"
            ]
          },
          "metadata": {
            "tags": []
          },
          "execution_count": 61
        }
      ]
    },
    {
      "cell_type": "markdown",
      "metadata": {
        "id": "jl5mAtISD0Jh",
        "colab_type": "text"
      },
      "source": [
        "### Drop 'variable'\n",
        "Strings in 'variable' have been transposed to new 'station' and 'measure' columns"
      ]
    },
    {
      "cell_type": "code",
      "metadata": {
        "id": "08tQBv3UC1xZ",
        "colab_type": "code",
        "colab": {}
      },
      "source": [
        "# drop 'variable'\n",
        "ml = ml.loc[:, ml.columns != 'variable']"
      ],
      "execution_count": 0,
      "outputs": []
    },
    {
      "cell_type": "code",
      "metadata": {
        "id": "SjtyUIOGEGSA",
        "colab_type": "code",
        "outputId": "4fb355a3-fafd-420a-814c-bb81103362f7",
        "colab": {
          "base_uri": "https://localhost:8080/",
          "height": 111
        }
      },
      "source": [
        "ml.head(2)"
      ],
      "execution_count": 63,
      "outputs": [
        {
          "output_type": "execute_result",
          "data": {
            "text/html": [
              "<div>\n",
              "<style scoped>\n",
              "    .dataframe tbody tr th:only-of-type {\n",
              "        vertical-align: middle;\n",
              "    }\n",
              "\n",
              "    .dataframe tbody tr th {\n",
              "        vertical-align: top;\n",
              "    }\n",
              "\n",
              "    .dataframe thead th {\n",
              "        text-align: right;\n",
              "    }\n",
              "</style>\n",
              "<table border=\"1\" class=\"dataframe\">\n",
              "  <thead>\n",
              "    <tr style=\"text-align: right;\">\n",
              "      <th></th>\n",
              "      <th>datetime</th>\n",
              "      <th>value</th>\n",
              "      <th>station</th>\n",
              "      <th>measure</th>\n",
              "    </tr>\n",
              "  </thead>\n",
              "  <tbody>\n",
              "    <tr>\n",
              "      <th>0</th>\n",
              "      <td>2012-06-19 16:00:00</td>\n",
              "      <td>54.6</td>\n",
              "      <td>baldy summit</td>\n",
              "      <td>outside temperature</td>\n",
              "    </tr>\n",
              "    <tr>\n",
              "      <th>1</th>\n",
              "      <td>2012-06-19 16:05:00</td>\n",
              "      <td>54.9</td>\n",
              "      <td>baldy summit</td>\n",
              "      <td>outside temperature</td>\n",
              "    </tr>\n",
              "  </tbody>\n",
              "</table>\n",
              "</div>"
            ],
            "text/plain": [
              "             datetime value       station              measure\n",
              "0 2012-06-19 16:00:00  54.6  baldy summit  outside temperature\n",
              "1 2012-06-19 16:05:00  54.9  baldy summit  outside temperature"
            ]
          },
          "metadata": {
            "tags": []
          },
          "execution_count": 63
        }
      ]
    },
    {
      "cell_type": "code",
      "metadata": {
        "id": "SCO0mdriQCvX",
        "colab_type": "code",
        "outputId": "ca36c1e3-5415-4e1c-d544-baf4e3d3eeee",
        "colab": {
          "base_uri": "https://localhost:8080/",
          "height": 170
        }
      },
      "source": [
        "ml.info()"
      ],
      "execution_count": 64,
      "outputs": [
        {
          "output_type": "stream",
          "text": [
            "<class 'pandas.core.frame.DataFrame'>\n",
            "RangeIndex: 11501676 entries, 0 to 11501675\n",
            "Data columns (total 4 columns):\n",
            "datetime    datetime64[ns]\n",
            "value       object\n",
            "station     object\n",
            "measure     object\n",
            "dtypes: datetime64[ns](1), object(3)\n",
            "memory usage: 351.0+ MB\n"
          ],
          "name": "stdout"
        }
      ]
    },
    {
      "cell_type": "markdown",
      "metadata": {
        "id": "-RKNY1RkVyPA",
        "colab_type": "text"
      },
      "source": [
        "# Wrangle combined dataset"
      ]
    },
    {
      "cell_type": "markdown",
      "metadata": {
        "id": "T-wk56ndGcd8",
        "colab_type": "text"
      },
      "source": [
        "### Long to Wide"
      ]
    },
    {
      "cell_type": "code",
      "metadata": {
        "id": "A67aJaAhGhPV",
        "colab_type": "code",
        "colab": {}
      },
      "source": [
        "mw = ml.set_index(['datetime', 'station', 'measure'])"
      ],
      "execution_count": 0,
      "outputs": []
    },
    {
      "cell_type": "code",
      "metadata": {
        "id": "fkZLHGiFQ_ZA",
        "colab_type": "code",
        "outputId": "e2a81fb6-2e9a-4f02-b7c0-c418d63fac22",
        "colab": {
          "base_uri": "https://localhost:8080/",
          "height": 142
        }
      },
      "source": [
        "mw.tail(2)"
      ],
      "execution_count": 71,
      "outputs": [
        {
          "output_type": "execute_result",
          "data": {
            "text/html": [
              "<div>\n",
              "<style scoped>\n",
              "    .dataframe tbody tr th:only-of-type {\n",
              "        vertical-align: middle;\n",
              "    }\n",
              "\n",
              "    .dataframe tbody tr th {\n",
              "        vertical-align: top;\n",
              "    }\n",
              "\n",
              "    .dataframe thead th {\n",
              "        text-align: right;\n",
              "    }\n",
              "</style>\n",
              "<table border=\"1\" class=\"dataframe\">\n",
              "  <thead>\n",
              "    <tr style=\"text-align: right;\">\n",
              "      <th></th>\n",
              "      <th></th>\n",
              "      <th></th>\n",
              "      <th>value</th>\n",
              "    </tr>\n",
              "    <tr>\n",
              "      <th>datetime</th>\n",
              "      <th>station</th>\n",
              "      <th>measure</th>\n",
              "      <th></th>\n",
              "    </tr>\n",
              "  </thead>\n",
              "  <tbody>\n",
              "    <tr>\n",
              "      <th>2019-12-31 23:00:00</th>\n",
              "      <th>indian ridge</th>\n",
              "      <th>dominant wind dir</th>\n",
              "      <td>NNW</td>\n",
              "    </tr>\n",
              "    <tr>\n",
              "      <th>2019-12-31 23:30:00</th>\n",
              "      <th>indian ridge</th>\n",
              "      <th>dominant wind dir</th>\n",
              "      <td>NNW</td>\n",
              "    </tr>\n",
              "  </tbody>\n",
              "</table>\n",
              "</div>"
            ],
            "text/plain": [
              "                                                   value\n",
              "datetime            station      measure                \n",
              "2019-12-31 23:00:00 indian ridge dominant wind dir   NNW\n",
              "2019-12-31 23:30:00 indian ridge dominant wind dir   NNW"
            ]
          },
          "metadata": {
            "tags": []
          },
          "execution_count": 71
        }
      ]
    },
    {
      "cell_type": "code",
      "metadata": {
        "id": "e7UBsILHG-BB",
        "colab_type": "code",
        "colab": {}
      },
      "source": [
        "mw = mw.unstack()"
      ],
      "execution_count": 0,
      "outputs": []
    },
    {
      "cell_type": "code",
      "metadata": {
        "id": "LPO8ZOtx5K4Q",
        "colab_type": "code",
        "outputId": "7a93b9b3-b80d-456a-8171-6deda2aff859",
        "colab": {
          "base_uri": "https://localhost:8080/",
          "height": 241
        }
      },
      "source": [
        "mw.tail(2)"
      ],
      "execution_count": 77,
      "outputs": [
        {
          "output_type": "execute_result",
          "data": {
            "text/html": [
              "<div>\n",
              "<style scoped>\n",
              "    .dataframe tbody tr th:only-of-type {\n",
              "        vertical-align: middle;\n",
              "    }\n",
              "\n",
              "    .dataframe tbody tr th {\n",
              "        vertical-align: top;\n",
              "    }\n",
              "\n",
              "    .dataframe thead tr th {\n",
              "        text-align: left;\n",
              "    }\n",
              "\n",
              "    .dataframe thead tr:last-of-type th {\n",
              "        text-align: right;\n",
              "    }\n",
              "</style>\n",
              "<table border=\"1\" class=\"dataframe\">\n",
              "  <thead>\n",
              "    <tr>\n",
              "      <th></th>\n",
              "      <th></th>\n",
              "      <th colspan=\"9\" halign=\"left\">value</th>\n",
              "    </tr>\n",
              "    <tr>\n",
              "      <th></th>\n",
              "      <th>measure</th>\n",
              "      <th>dominant wind dir</th>\n",
              "      <th>high outside temperature</th>\n",
              "      <th>high rain rate</th>\n",
              "      <th>high wind dir</th>\n",
              "      <th>high wind speed</th>\n",
              "      <th>low outside temperature</th>\n",
              "      <th>outside temperature</th>\n",
              "      <th>rain amount</th>\n",
              "      <th>wind speed</th>\n",
              "    </tr>\n",
              "    <tr>\n",
              "      <th>datetime</th>\n",
              "      <th>station</th>\n",
              "      <th></th>\n",
              "      <th></th>\n",
              "      <th></th>\n",
              "      <th></th>\n",
              "      <th></th>\n",
              "      <th></th>\n",
              "      <th></th>\n",
              "      <th></th>\n",
              "      <th></th>\n",
              "    </tr>\n",
              "  </thead>\n",
              "  <tbody>\n",
              "    <tr>\n",
              "      <th rowspan=\"2\" valign=\"top\">2019-12-31 23:30:00</th>\n",
              "      <th>sanfoin bench</th>\n",
              "      <td>NW</td>\n",
              "      <td>41.7</td>\n",
              "      <td>0</td>\n",
              "      <td>NW</td>\n",
              "      <td>21</td>\n",
              "      <td>41.5</td>\n",
              "      <td>41.7</td>\n",
              "      <td>0</td>\n",
              "      <td>5.9</td>\n",
              "    </tr>\n",
              "    <tr>\n",
              "      <th>south baldy</th>\n",
              "      <td>NaN</td>\n",
              "      <td>NaN</td>\n",
              "      <td>0</td>\n",
              "      <td>NaN</td>\n",
              "      <td>0</td>\n",
              "      <td>NaN</td>\n",
              "      <td>NaN</td>\n",
              "      <td>0</td>\n",
              "      <td>NaN</td>\n",
              "    </tr>\n",
              "  </tbody>\n",
              "</table>\n",
              "</div>"
            ],
            "text/plain": [
              "                                              value  ...           \n",
              "measure                           dominant wind dir  ... wind speed\n",
              "datetime            station                          ...           \n",
              "2019-12-31 23:30:00 sanfoin bench                NW  ...        5.9\n",
              "                    south baldy                 NaN  ...        NaN\n",
              "\n",
              "[2 rows x 9 columns]"
            ]
          },
          "metadata": {
            "tags": []
          },
          "execution_count": 77
        }
      ]
    },
    {
      "cell_type": "code",
      "metadata": {
        "id": "aoF77VpIGfxP",
        "colab_type": "code",
        "colab": {}
      },
      "source": [
        "mw = mw.reset_index()"
      ],
      "execution_count": 0,
      "outputs": []
    },
    {
      "cell_type": "code",
      "metadata": {
        "id": "9h29ke49Wjdp",
        "colab_type": "code",
        "outputId": "f779bcb9-821e-4cf5-e9e9-5d33a478027c",
        "colab": {
          "base_uri": "https://localhost:8080/",
          "height": 244
        }
      },
      "source": [
        "mw.tail(2)"
      ],
      "execution_count": 79,
      "outputs": [
        {
          "output_type": "execute_result",
          "data": {
            "text/html": [
              "<div>\n",
              "<style scoped>\n",
              "    .dataframe tbody tr th:only-of-type {\n",
              "        vertical-align: middle;\n",
              "    }\n",
              "\n",
              "    .dataframe tbody tr th {\n",
              "        vertical-align: top;\n",
              "    }\n",
              "\n",
              "    .dataframe thead tr th {\n",
              "        text-align: left;\n",
              "    }\n",
              "</style>\n",
              "<table border=\"1\" class=\"dataframe\">\n",
              "  <thead>\n",
              "    <tr>\n",
              "      <th></th>\n",
              "      <th>datetime</th>\n",
              "      <th>station</th>\n",
              "      <th colspan=\"9\" halign=\"left\">value</th>\n",
              "    </tr>\n",
              "    <tr>\n",
              "      <th>measure</th>\n",
              "      <th></th>\n",
              "      <th></th>\n",
              "      <th>dominant wind dir</th>\n",
              "      <th>high outside temperature</th>\n",
              "      <th>high rain rate</th>\n",
              "      <th>high wind dir</th>\n",
              "      <th>high wind speed</th>\n",
              "      <th>low outside temperature</th>\n",
              "      <th>outside temperature</th>\n",
              "      <th>rain amount</th>\n",
              "      <th>wind speed</th>\n",
              "    </tr>\n",
              "  </thead>\n",
              "  <tbody>\n",
              "    <tr>\n",
              "      <th>1277962</th>\n",
              "      <td>2019-12-31 23:30:00</td>\n",
              "      <td>sanfoin bench</td>\n",
              "      <td>NW</td>\n",
              "      <td>41.7</td>\n",
              "      <td>0</td>\n",
              "      <td>NW</td>\n",
              "      <td>21</td>\n",
              "      <td>41.5</td>\n",
              "      <td>41.7</td>\n",
              "      <td>0</td>\n",
              "      <td>5.9</td>\n",
              "    </tr>\n",
              "    <tr>\n",
              "      <th>1277963</th>\n",
              "      <td>2019-12-31 23:30:00</td>\n",
              "      <td>south baldy</td>\n",
              "      <td>NaN</td>\n",
              "      <td>NaN</td>\n",
              "      <td>0</td>\n",
              "      <td>NaN</td>\n",
              "      <td>0</td>\n",
              "      <td>NaN</td>\n",
              "      <td>NaN</td>\n",
              "      <td>0</td>\n",
              "      <td>NaN</td>\n",
              "    </tr>\n",
              "  </tbody>\n",
              "</table>\n",
              "</div>"
            ],
            "text/plain": [
              "                   datetime        station  ...       value           \n",
              "measure                                     ... rain amount wind speed\n",
              "1277962 2019-12-31 23:30:00  sanfoin bench  ...           0        5.9\n",
              "1277963 2019-12-31 23:30:00    south baldy  ...           0        NaN\n",
              "\n",
              "[2 rows x 11 columns]"
            ]
          },
          "metadata": {
            "tags": []
          },
          "execution_count": 79
        }
      ]
    },
    {
      "cell_type": "markdown",
      "metadata": {
        "id": "krkzVGaW6Pds",
        "colab_type": "text"
      },
      "source": [
        "### Rename Columns"
      ]
    },
    {
      "cell_type": "code",
      "metadata": {
        "id": "UoIf3nhhc0dW",
        "colab_type": "code",
        "colab": {
          "base_uri": "https://localhost:8080/",
          "height": 221
        },
        "outputId": "cec90f9d-add7-479c-abfa-d51f25337bd6"
      },
      "source": [
        "mw.columns"
      ],
      "execution_count": 80,
      "outputs": [
        {
          "output_type": "execute_result",
          "data": {
            "text/plain": [
              "MultiIndex([('datetime',                         ''),\n",
              "            ( 'station',                         ''),\n",
              "            (   'value',        'dominant wind dir'),\n",
              "            (   'value', 'high outside temperature'),\n",
              "            (   'value',           'high rain rate'),\n",
              "            (   'value',            'high wind dir'),\n",
              "            (   'value',          'high wind speed'),\n",
              "            (   'value',  'low outside temperature'),\n",
              "            (   'value',      'outside temperature'),\n",
              "            (   'value',              'rain amount'),\n",
              "            (   'value',               'wind speed')],\n",
              "           names=[None, 'measure'])"
            ]
          },
          "metadata": {
            "tags": []
          },
          "execution_count": 80
        }
      ]
    },
    {
      "cell_type": "code",
      "metadata": {
        "id": "1F0ClQFbPVvS",
        "colab_type": "code",
        "colab": {}
      },
      "source": [
        "# rename columns\n",
        "mw.columns = ['datetime', 'station', 'dominant_wind_dir', 'high_temp_f', 'high_rain_in_hr', 'high_wind_dir', 'high_wind_speed_mph', 'low_temp_f', 'ave_temp_f', 'rain_amount_in', 'ave_wind_speed_mph']"
      ],
      "execution_count": 0,
      "outputs": []
    },
    {
      "cell_type": "code",
      "metadata": {
        "id": "LhP8PXrHPsLO",
        "colab_type": "code",
        "outputId": "be3c04cf-36c1-45fe-f75e-bf4daff9015c",
        "colab": {
          "base_uri": "https://localhost:8080/",
          "height": 199
        }
      },
      "source": [
        "mw.tail(2)"
      ],
      "execution_count": 91,
      "outputs": [
        {
          "output_type": "execute_result",
          "data": {
            "text/html": [
              "<div>\n",
              "<style scoped>\n",
              "    .dataframe tbody tr th:only-of-type {\n",
              "        vertical-align: middle;\n",
              "    }\n",
              "\n",
              "    .dataframe tbody tr th {\n",
              "        vertical-align: top;\n",
              "    }\n",
              "\n",
              "    .dataframe thead th {\n",
              "        text-align: right;\n",
              "    }\n",
              "</style>\n",
              "<table border=\"1\" class=\"dataframe\">\n",
              "  <thead>\n",
              "    <tr style=\"text-align: right;\">\n",
              "      <th></th>\n",
              "      <th>datetime</th>\n",
              "      <th>station</th>\n",
              "      <th>dominant_wind_dir</th>\n",
              "      <th>high_temp_f</th>\n",
              "      <th>high_rain_in_hr</th>\n",
              "      <th>high_wind_dir</th>\n",
              "      <th>high_wind_speed_mph</th>\n",
              "      <th>low_temp_f</th>\n",
              "      <th>ave_temp_f</th>\n",
              "      <th>rain_amount_in</th>\n",
              "      <th>ave_wind_speed_mph</th>\n",
              "    </tr>\n",
              "  </thead>\n",
              "  <tbody>\n",
              "    <tr>\n",
              "      <th>1277962</th>\n",
              "      <td>2019-12-31 23:30:00</td>\n",
              "      <td>sanfoin bench</td>\n",
              "      <td>NW</td>\n",
              "      <td>41.7</td>\n",
              "      <td>0</td>\n",
              "      <td>NW</td>\n",
              "      <td>21</td>\n",
              "      <td>41.5</td>\n",
              "      <td>41.7</td>\n",
              "      <td>0</td>\n",
              "      <td>5.9</td>\n",
              "    </tr>\n",
              "    <tr>\n",
              "      <th>1277963</th>\n",
              "      <td>2019-12-31 23:30:00</td>\n",
              "      <td>south baldy</td>\n",
              "      <td>NaN</td>\n",
              "      <td>NaN</td>\n",
              "      <td>0</td>\n",
              "      <td>NaN</td>\n",
              "      <td>0</td>\n",
              "      <td>NaN</td>\n",
              "      <td>NaN</td>\n",
              "      <td>0</td>\n",
              "      <td>NaN</td>\n",
              "    </tr>\n",
              "  </tbody>\n",
              "</table>\n",
              "</div>"
            ],
            "text/plain": [
              "                   datetime        station  ... rain_amount_in ave_wind_speed_mph\n",
              "1277962 2019-12-31 23:30:00  sanfoin bench  ...              0                5.9\n",
              "1277963 2019-12-31 23:30:00    south baldy  ...              0                NaN\n",
              "\n",
              "[2 rows x 11 columns]"
            ]
          },
          "metadata": {
            "tags": []
          },
          "execution_count": 91
        }
      ]
    },
    {
      "cell_type": "markdown",
      "metadata": {
        "id": "AKMGJsNb6gPX",
        "colab_type": "text"
      },
      "source": [
        "### Reorder Columns"
      ]
    },
    {
      "cell_type": "code",
      "metadata": {
        "id": "7bM2tgvsdXsZ",
        "colab_type": "code",
        "colab": {
          "base_uri": "https://localhost:8080/",
          "height": 85
        },
        "outputId": "9fb153ba-3fc4-4497-e216-e789313497d0"
      },
      "source": [
        "mw.columns"
      ],
      "execution_count": 92,
      "outputs": [
        {
          "output_type": "execute_result",
          "data": {
            "text/plain": [
              "Index(['datetime', 'station', 'dominant_wind_dir', 'high_temp_f',\n",
              "       'high_rain_in_hr', 'high_wind_dir', 'high_wind_speed_mph', 'low_temp_f',\n",
              "       'ave_temp_f', 'rain_amount_in', 'ave_wind_speed_mph'],\n",
              "      dtype='object')"
            ]
          },
          "metadata": {
            "tags": []
          },
          "execution_count": 92
        }
      ]
    },
    {
      "cell_type": "code",
      "metadata": {
        "id": "0DvyZXZ56hjI",
        "colab_type": "code",
        "colab": {}
      },
      "source": [
        "mw = mw[['datetime', 'station', 'high_temp_f', 'low_temp_f', 'ave_temp_f', 'rain_amount_in', 'high_rain_in_hr', 'high_wind_dir', 'high_wind_speed_mph', 'ave_wind_speed_mph', 'dominant_wind_dir']]"
      ],
      "execution_count": 0,
      "outputs": []
    },
    {
      "cell_type": "code",
      "metadata": {
        "id": "QiS4OUwO-qtQ",
        "colab_type": "code",
        "outputId": "2bce9157-9754-4f19-a4e9-4fd23d22de4f",
        "colab": {
          "base_uri": "https://localhost:8080/",
          "height": 199
        }
      },
      "source": [
        "mw.tail(2)"
      ],
      "execution_count": 98,
      "outputs": [
        {
          "output_type": "execute_result",
          "data": {
            "text/html": [
              "<div>\n",
              "<style scoped>\n",
              "    .dataframe tbody tr th:only-of-type {\n",
              "        vertical-align: middle;\n",
              "    }\n",
              "\n",
              "    .dataframe tbody tr th {\n",
              "        vertical-align: top;\n",
              "    }\n",
              "\n",
              "    .dataframe thead th {\n",
              "        text-align: right;\n",
              "    }\n",
              "</style>\n",
              "<table border=\"1\" class=\"dataframe\">\n",
              "  <thead>\n",
              "    <tr style=\"text-align: right;\">\n",
              "      <th></th>\n",
              "      <th>datetime</th>\n",
              "      <th>station</th>\n",
              "      <th>high_temp_f</th>\n",
              "      <th>low_temp_f</th>\n",
              "      <th>ave_temp_f</th>\n",
              "      <th>rain_amount_in</th>\n",
              "      <th>high_rain_in_hr</th>\n",
              "      <th>high_wind_dir</th>\n",
              "      <th>high_wind_speed_mph</th>\n",
              "      <th>ave_wind_speed_mph</th>\n",
              "      <th>dominant_wind_dir</th>\n",
              "    </tr>\n",
              "  </thead>\n",
              "  <tbody>\n",
              "    <tr>\n",
              "      <th>1277962</th>\n",
              "      <td>2019-12-31 23:30:00</td>\n",
              "      <td>sanfoin bench</td>\n",
              "      <td>41.7</td>\n",
              "      <td>41.5</td>\n",
              "      <td>41.7</td>\n",
              "      <td>0</td>\n",
              "      <td>0</td>\n",
              "      <td>NW</td>\n",
              "      <td>21</td>\n",
              "      <td>5.9</td>\n",
              "      <td>NW</td>\n",
              "    </tr>\n",
              "    <tr>\n",
              "      <th>1277963</th>\n",
              "      <td>2019-12-31 23:30:00</td>\n",
              "      <td>south baldy</td>\n",
              "      <td>NaN</td>\n",
              "      <td>NaN</td>\n",
              "      <td>NaN</td>\n",
              "      <td>0</td>\n",
              "      <td>0</td>\n",
              "      <td>NaN</td>\n",
              "      <td>0</td>\n",
              "      <td>NaN</td>\n",
              "      <td>NaN</td>\n",
              "    </tr>\n",
              "  </tbody>\n",
              "</table>\n",
              "</div>"
            ],
            "text/plain": [
              "                   datetime        station  ... ave_wind_speed_mph dominant_wind_dir\n",
              "1277962 2019-12-31 23:30:00  sanfoin bench  ...                5.9                NW\n",
              "1277963 2019-12-31 23:30:00    south baldy  ...                NaN               NaN\n",
              "\n",
              "[2 rows x 11 columns]"
            ]
          },
          "metadata": {
            "tags": []
          },
          "execution_count": 98
        }
      ]
    },
    {
      "cell_type": "code",
      "metadata": {
        "id": "FCP7AZbrfKQQ",
        "colab_type": "code",
        "colab": {
          "base_uri": "https://localhost:8080/",
          "height": 289
        },
        "outputId": "919f28ec-5afe-4212-d9f8-871f0cb9e6ce"
      },
      "source": [
        "mw.info()"
      ],
      "execution_count": 99,
      "outputs": [
        {
          "output_type": "stream",
          "text": [
            "<class 'pandas.core.frame.DataFrame'>\n",
            "RangeIndex: 1277964 entries, 0 to 1277963\n",
            "Data columns (total 11 columns):\n",
            "datetime               1277964 non-null datetime64[ns]\n",
            "station                1277964 non-null object\n",
            "high_temp_f            1177818 non-null object\n",
            "low_temp_f             1177818 non-null object\n",
            "ave_temp_f             1172452 non-null object\n",
            "rain_amount_in         1275659 non-null object\n",
            "high_rain_in_hr        1275659 non-null object\n",
            "high_wind_dir          810066 non-null object\n",
            "high_wind_speed_mph    1275659 non-null object\n",
            "ave_wind_speed_mph     1176653 non-null object\n",
            "dominant_wind_dir      809959 non-null object\n",
            "dtypes: datetime64[ns](1), object(10)\n",
            "memory usage: 107.3+ MB\n"
          ],
          "name": "stdout"
        }
      ]
    },
    {
      "cell_type": "markdown",
      "metadata": {
        "id": "eEbmPT7Pb18q",
        "colab_type": "text"
      },
      "source": [
        "# Output"
      ]
    },
    {
      "cell_type": "code",
      "metadata": {
        "id": "fdFpCWPQb3Ap",
        "colab_type": "code",
        "colab": {}
      },
      "source": [
        "# output includes all available variables 2013 - 2019\n",
        "output = 'mpg_orchard-house_weather.csv'\n",
        "mw.to_csv(output, index=False)"
      ],
      "execution_count": 0,
      "outputs": []
    },
    {
      "cell_type": "markdown",
      "metadata": {
        "id": "GjzHK5TfZUfA",
        "colab_type": "text"
      },
      "source": [
        "Output Hosted \n",
        "* ~/Project Datasets/Weather/Orchard House/[mpg_orchard-house_weather.csv](https://drive.google.com/open?id=1dvy1a_5PTLpmF6t8MBWL9gyIwoB0T-cK)"
      ]
    },
    {
      "cell_type": "markdown",
      "metadata": {
        "id": "Vv66aAbovQcj",
        "colab_type": "text"
      },
      "source": [
        "# Summaries"
      ]
    },
    {
      "cell_type": "markdown",
      "metadata": {
        "id": "4ifV7mF4wRVK",
        "colab_type": "text"
      },
      "source": [
        "### Load output"
      ]
    },
    {
      "cell_type": "code",
      "metadata": {
        "id": "ilKc1ekovVfb",
        "colab_type": "code",
        "colab": {}
      },
      "source": [
        "src = 'https://drive.google.com/uc?id=1dvy1a_5PTLpmF6t8MBWL9gyIwoB0T-cK'\n",
        "df = pd.read_csv(src)"
      ],
      "execution_count": 0,
      "outputs": []
    },
    {
      "cell_type": "code",
      "metadata": {
        "id": "Ex4CNbjzwoWM",
        "colab_type": "code",
        "outputId": "95a1d90d-8d01-4ec4-8c4d-6160fcdb3485",
        "colab": {
          "base_uri": "https://localhost:8080/",
          "height": 267
        }
      },
      "source": [
        "df.head(2)"
      ],
      "execution_count": 6,
      "outputs": [
        {
          "output_type": "execute_result",
          "data": {
            "text/html": [
              "<div>\n",
              "<style scoped>\n",
              "    .dataframe tbody tr th:only-of-type {\n",
              "        vertical-align: middle;\n",
              "    }\n",
              "\n",
              "    .dataframe tbody tr th {\n",
              "        vertical-align: top;\n",
              "    }\n",
              "\n",
              "    .dataframe thead th {\n",
              "        text-align: right;\n",
              "    }\n",
              "</style>\n",
              "<table border=\"1\" class=\"dataframe\">\n",
              "  <thead>\n",
              "    <tr style=\"text-align: right;\">\n",
              "      <th></th>\n",
              "      <th>Date Time</th>\n",
              "      <th>Day of the Week</th>\n",
              "      <th>Outside Temperature TX1 (°F)</th>\n",
              "      <th>High Outside Temperature TX1 (°F)</th>\n",
              "      <th>Low Outside Temperature TX1 (°F)</th>\n",
              "      <th>Wind Speed TX1 (mph)</th>\n",
              "      <th>High Wind Speed TX1 (mph)</th>\n",
              "      <th>Rain Amount TX1 (in)</th>\n",
              "      <th>High Rain Rate TX1 (in/hr)</th>\n",
              "      <th>Outside Temperature TX2 (°F)</th>\n",
              "      <th>High Outside Temperature TX2 (°F)</th>\n",
              "      <th>Low Outside Temperature TX2 (°F)</th>\n",
              "      <th>Wind Speed TX2 (mph)</th>\n",
              "      <th>High Wind Speed TX2 (mph)</th>\n",
              "      <th>Rain Amount TX2 (in)</th>\n",
              "      <th>High Rain Rate TX2 (in/hr)</th>\n",
              "      <th>Outside Temperature TX3 (°F)</th>\n",
              "      <th>High Outside Temperature TX3 (°F)</th>\n",
              "      <th>Low Outside Temperature TX3 (°F)</th>\n",
              "      <th>Wind Speed TX3 (mph)</th>\n",
              "      <th>High Wind Speed TX3 (mph)</th>\n",
              "      <th>Rain Amount TX3 (in)</th>\n",
              "      <th>High Rain Rate TX3 (in/hr)</th>\n",
              "      <th>Outside Temperature TX4 (°F)</th>\n",
              "      <th>High Outside Temperature TX4 (°F)</th>\n",
              "      <th>Low Outside Temperature TX4 (°F)</th>\n",
              "      <th>Wind Speed TX4 (mph)</th>\n",
              "      <th>High Wind Speed TX4 (mph)</th>\n",
              "      <th>Rain Amount TX4 (in)</th>\n",
              "      <th>High Rain Rate TX4 (in/hr)</th>\n",
              "      <th>Outside Temperature TX5 (°F)</th>\n",
              "      <th>High Outside Temperature TX5 (°F)</th>\n",
              "      <th>Low Outside Temperature TX5 (°F)</th>\n",
              "      <th>Wind Speed TX5 (mph)</th>\n",
              "      <th>High Wind Speed TX5 (mph)</th>\n",
              "      <th>Rain Amount TX5 (in)</th>\n",
              "      <th>High Rain Rate TX5 (in/hr)</th>\n",
              "      <th>Outside Temperature TX6 (°F)</th>\n",
              "      <th>High Outside Temperature TX6 (°F)</th>\n",
              "      <th>Low Outside Temperature TX6 (°F)</th>\n",
              "      <th>Wind Speed TX6 (mph)</th>\n",
              "      <th>High Wind Speed TX6 (mph)</th>\n",
              "      <th>Rain Amount TX6 (in)</th>\n",
              "      <th>High Rain Rate TX6 (in/hr)</th>\n",
              "    </tr>\n",
              "  </thead>\n",
              "  <tbody>\n",
              "    <tr>\n",
              "      <th>0</th>\n",
              "      <td>2012-06-19 16:00:00</td>\n",
              "      <td>Tue</td>\n",
              "      <td>54.6</td>\n",
              "      <td>54.7</td>\n",
              "      <td>54.6</td>\n",
              "      <td>0.0</td>\n",
              "      <td>0.0</td>\n",
              "      <td>0.0</td>\n",
              "      <td>0.0</td>\n",
              "      <td>62.8</td>\n",
              "      <td>62.8</td>\n",
              "      <td>62.8</td>\n",
              "      <td>4.5</td>\n",
              "      <td>5.0</td>\n",
              "      <td>0.0</td>\n",
              "      <td>0.0</td>\n",
              "      <td>NaN</td>\n",
              "      <td>NaN</td>\n",
              "      <td>NaN</td>\n",
              "      <td>NaN</td>\n",
              "      <td>0.0</td>\n",
              "      <td>0.0</td>\n",
              "      <td>0.0</td>\n",
              "      <td>58.7</td>\n",
              "      <td>58.7</td>\n",
              "      <td>58.7</td>\n",
              "      <td>0.3</td>\n",
              "      <td>1.0</td>\n",
              "      <td>0.0</td>\n",
              "      <td>0.0</td>\n",
              "      <td>67.1</td>\n",
              "      <td>67.1</td>\n",
              "      <td>67.0</td>\n",
              "      <td>6.4</td>\n",
              "      <td>7.0</td>\n",
              "      <td>0.0</td>\n",
              "      <td>0.0</td>\n",
              "      <td>NaN</td>\n",
              "      <td>NaN</td>\n",
              "      <td>NaN</td>\n",
              "      <td>NaN</td>\n",
              "      <td>NaN</td>\n",
              "      <td>NaN</td>\n",
              "      <td>NaN</td>\n",
              "    </tr>\n",
              "    <tr>\n",
              "      <th>1</th>\n",
              "      <td>2012-06-19 16:05:00</td>\n",
              "      <td>Tue</td>\n",
              "      <td>54.9</td>\n",
              "      <td>54.9</td>\n",
              "      <td>54.6</td>\n",
              "      <td>0.0</td>\n",
              "      <td>0.0</td>\n",
              "      <td>0.0</td>\n",
              "      <td>0.0</td>\n",
              "      <td>63.4</td>\n",
              "      <td>63.4</td>\n",
              "      <td>62.6</td>\n",
              "      <td>4.4</td>\n",
              "      <td>16.0</td>\n",
              "      <td>0.0</td>\n",
              "      <td>0.0</td>\n",
              "      <td>NaN</td>\n",
              "      <td>NaN</td>\n",
              "      <td>NaN</td>\n",
              "      <td>NaN</td>\n",
              "      <td>0.0</td>\n",
              "      <td>0.0</td>\n",
              "      <td>0.0</td>\n",
              "      <td>58.5</td>\n",
              "      <td>59.0</td>\n",
              "      <td>58.5</td>\n",
              "      <td>7.7</td>\n",
              "      <td>14.0</td>\n",
              "      <td>0.0</td>\n",
              "      <td>0.0</td>\n",
              "      <td>67.4</td>\n",
              "      <td>67.5</td>\n",
              "      <td>67.1</td>\n",
              "      <td>6.1</td>\n",
              "      <td>10.0</td>\n",
              "      <td>0.0</td>\n",
              "      <td>0.0</td>\n",
              "      <td>NaN</td>\n",
              "      <td>NaN</td>\n",
              "      <td>NaN</td>\n",
              "      <td>NaN</td>\n",
              "      <td>NaN</td>\n",
              "      <td>NaN</td>\n",
              "      <td>NaN</td>\n",
              "    </tr>\n",
              "  </tbody>\n",
              "</table>\n",
              "</div>"
            ],
            "text/plain": [
              "            Date Time   ... High Rain Rate TX6 (in/hr)\n",
              "0  2012-06-19 16:00:00  ...                        NaN\n",
              "1  2012-06-19 16:05:00  ...                        NaN\n",
              "\n",
              "[2 rows x 44 columns]"
            ]
          },
          "metadata": {
            "tags": []
          },
          "execution_count": 6
        }
      ]
    },
    {
      "cell_type": "code",
      "metadata": {
        "id": "Q0UqxDWbwpIv",
        "colab_type": "code",
        "colab": {
          "base_uri": "https://localhost:8080/",
          "height": 850
        },
        "outputId": "cdadf3cf-f83f-4fc1-c40c-fe5d20c31ebf"
      },
      "source": [
        "df.info()"
      ],
      "execution_count": 7,
      "outputs": [
        {
          "output_type": "stream",
          "text": [
            "<class 'pandas.core.frame.DataFrame'>\n",
            "RangeIndex: 212994 entries, 0 to 212993\n",
            "Data columns (total 44 columns):\n",
            "Date Time                            212994 non-null object\n",
            "Day of the Week                      212994 non-null object\n",
            "Outside Temperature TX1 (°F)         198574 non-null float64\n",
            "High Outside Temperature TX1 (°F)    198950 non-null float64\n",
            "Low Outside Temperature TX1 (°F)     198950 non-null float64\n",
            "Wind Speed TX1 (mph)                 198754 non-null float64\n",
            "High Wind Speed TX1 (mph)            212994 non-null float64\n",
            "Rain Amount TX1 (in)                 212994 non-null float64\n",
            "High Rain Rate TX1 (in/hr)           212994 non-null float64\n",
            "Outside Temperature TX2 (°F)         184677 non-null float64\n",
            "High Outside Temperature TX2 (°F)    186759 non-null float64\n",
            "Low Outside Temperature TX2 (°F)     186759 non-null float64\n",
            "Wind Speed TX2 (mph)                 186378 non-null float64\n",
            "High Wind Speed TX2 (mph)            212994 non-null float64\n",
            "Rain Amount TX2 (in)                 212994 non-null float64\n",
            "High Rain Rate TX2 (in/hr)           212994 non-null float64\n",
            "Outside Temperature TX3 (°F)         184190 non-null float64\n",
            "High Outside Temperature TX3 (°F)    185908 non-null float64\n",
            "Low Outside Temperature TX3 (°F)     185908 non-null float64\n",
            "Wind Speed TX3 (mph)                 185660 non-null float64\n",
            "High Wind Speed TX3 (mph)            212994 non-null float64\n",
            "Rain Amount TX3 (in)                 212994 non-null float64\n",
            "High Rain Rate TX3 (in/hr)           212994 non-null float64\n",
            "Outside Temperature TX4 (°F)         199535 non-null float64\n",
            "High Outside Temperature TX4 (°F)    199809 non-null float64\n",
            "Low Outside Temperature TX4 (°F)     199809 non-null float64\n",
            "Wind Speed TX4 (mph)                 199731 non-null float64\n",
            "High Wind Speed TX4 (mph)            212994 non-null float64\n",
            "Rain Amount TX4 (in)                 212994 non-null float64\n",
            "High Rain Rate TX4 (in/hr)           212994 non-null float64\n",
            "Outside Temperature TX5 (°F)         212963 non-null float64\n",
            "High Outside Temperature TX5 (°F)    212965 non-null float64\n",
            "Low Outside Temperature TX5 (°F)     212965 non-null float64\n",
            "Wind Speed TX5 (mph)                 212962 non-null float64\n",
            "High Wind Speed TX5 (mph)            212994 non-null float64\n",
            "Rain Amount TX5 (in)                 212994 non-null float64\n",
            "High Rain Rate TX5 (in/hr)           212994 non-null float64\n",
            "Outside Temperature TX6 (°F)         192513 non-null float64\n",
            "High Outside Temperature TX6 (°F)    193427 non-null float64\n",
            "Low Outside Temperature TX6 (°F)     193427 non-null float64\n",
            "Wind Speed TX6 (mph)                 193168 non-null float64\n",
            "High Wind Speed TX6 (mph)            210689 non-null float64\n",
            "Rain Amount TX6 (in)                 210689 non-null float64\n",
            "High Rain Rate TX6 (in/hr)           210689 non-null float64\n",
            "dtypes: float64(42), object(2)\n",
            "memory usage: 71.5+ MB\n"
          ],
          "name": "stdout"
        }
      ]
    },
    {
      "cell_type": "markdown",
      "metadata": {
        "id": "5bTG0lkhuA-x",
        "colab_type": "text"
      },
      "source": [
        "### NaN totals"
      ]
    },
    {
      "cell_type": "code",
      "metadata": {
        "id": "jjyyN3CatCyP",
        "colab_type": "code",
        "colab": {
          "base_uri": "https://localhost:8080/",
          "height": 782
        },
        "outputId": "f4cc8949-087c-4723-b709-8e937910dca9"
      },
      "source": [
        "# NaN totals for each column\n",
        "df.isnull().sum()"
      ],
      "execution_count": 10,
      "outputs": [
        {
          "output_type": "execute_result",
          "data": {
            "text/plain": [
              "Date Time                                0\n",
              "Day of the Week                          0\n",
              "Outside Temperature TX1 (°F)         14420\n",
              "High Outside Temperature TX1 (°F)    14044\n",
              "Low Outside Temperature TX1 (°F)     14044\n",
              "Wind Speed TX1 (mph)                 14240\n",
              "High Wind Speed TX1 (mph)                0\n",
              "Rain Amount TX1 (in)                     0\n",
              "High Rain Rate TX1 (in/hr)               0\n",
              "Outside Temperature TX2 (°F)         28317\n",
              "High Outside Temperature TX2 (°F)    26235\n",
              "Low Outside Temperature TX2 (°F)     26235\n",
              "Wind Speed TX2 (mph)                 26616\n",
              "High Wind Speed TX2 (mph)                0\n",
              "Rain Amount TX2 (in)                     0\n",
              "High Rain Rate TX2 (in/hr)               0\n",
              "Outside Temperature TX3 (°F)         28804\n",
              "High Outside Temperature TX3 (°F)    27086\n",
              "Low Outside Temperature TX3 (°F)     27086\n",
              "Wind Speed TX3 (mph)                 27334\n",
              "High Wind Speed TX3 (mph)                0\n",
              "Rain Amount TX3 (in)                     0\n",
              "High Rain Rate TX3 (in/hr)               0\n",
              "Outside Temperature TX4 (°F)         13459\n",
              "High Outside Temperature TX4 (°F)    13185\n",
              "Low Outside Temperature TX4 (°F)     13185\n",
              "Wind Speed TX4 (mph)                 13263\n",
              "High Wind Speed TX4 (mph)                0\n",
              "Rain Amount TX4 (in)                     0\n",
              "High Rain Rate TX4 (in/hr)               0\n",
              "Outside Temperature TX5 (°F)            31\n",
              "High Outside Temperature TX5 (°F)       29\n",
              "Low Outside Temperature TX5 (°F)        29\n",
              "Wind Speed TX5 (mph)                    32\n",
              "High Wind Speed TX5 (mph)                0\n",
              "Rain Amount TX5 (in)                     0\n",
              "High Rain Rate TX5 (in/hr)               0\n",
              "Outside Temperature TX6 (°F)         20481\n",
              "High Outside Temperature TX6 (°F)    19567\n",
              "Low Outside Temperature TX6 (°F)     19567\n",
              "Wind Speed TX6 (mph)                 19826\n",
              "High Wind Speed TX6 (mph)             2305\n",
              "Rain Amount TX6 (in)                  2305\n",
              "High Rain Rate TX6 (in/hr)            2305\n",
              "dtype: int64"
            ]
          },
          "metadata": {
            "tags": []
          },
          "execution_count": 10
        }
      ]
    }
  ]
}