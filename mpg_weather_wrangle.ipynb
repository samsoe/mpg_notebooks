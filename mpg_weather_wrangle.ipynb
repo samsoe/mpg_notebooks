{
  "nbformat": 4,
  "nbformat_minor": 0,
  "metadata": {
    "colab": {
      "name": "mpg_weather_wrangle.ipynb",
      "provenance": [],
      "toc_visible": true,
      "authorship_tag": "ABX9TyPPEzj74d45+UazisDLkERo",
      "include_colab_link": true
    },
    "kernelspec": {
      "name": "python3",
      "display_name": "Python 3"
    },
    "accelerator": "GPU"
  },
  "cells": [
    {
      "cell_type": "markdown",
      "metadata": {
        "id": "view-in-github",
        "colab_type": "text"
      },
      "source": [
        "<a href=\"https://colab.research.google.com/github/samsoe/mpg_notebooks/blob/master/mpg_weather_wrangle.ipynb\" target=\"_parent\"><img src=\"https://colab.research.google.com/assets/colab-badge.svg\" alt=\"Open In Colab\"/></a>"
      ]
    },
    {
      "cell_type": "markdown",
      "metadata": {
        "id": "NzV37h96BOZr",
        "colab_type": "text"
      },
      "source": [
        "Primary author esamsoe@gmail.com"
      ]
    },
    {
      "cell_type": "code",
      "metadata": {
        "id": "RFrVaRT3TaZ3",
        "colab_type": "code",
        "colab": {}
      },
      "source": [
        "import pandas as pd"
      ],
      "execution_count": 0,
      "outputs": []
    },
    {
      "cell_type": "markdown",
      "metadata": {
        "id": "a7ElXIsiBZiR",
        "colab_type": "text"
      },
      "source": [
        "## Load Data"
      ]
    },
    {
      "cell_type": "code",
      "metadata": {
        "id": "hYBWmLFqTgMe",
        "colab_type": "code",
        "colab": {}
      },
      "source": [
        "# load 2012_2019_mpg_weather.csv\n",
        "src = 'https://drive.google.com/uc?id=1dvy1a_5PTLpmF6t8MBWL9gyIwoB0T-cK'\n",
        "df = pd.read_csv(src)"
      ],
      "execution_count": 0,
      "outputs": []
    },
    {
      "cell_type": "code",
      "metadata": {
        "id": "Z7Q4Ahh5_e0W",
        "colab_type": "code",
        "outputId": "7ec8340f-7efe-4f73-980b-250c668c1f98",
        "colab": {
          "base_uri": "https://localhost:8080/",
          "height": 267
        }
      },
      "source": [
        "df.head(2)"
      ],
      "execution_count": 35,
      "outputs": [
        {
          "output_type": "execute_result",
          "data": {
            "text/html": [
              "<div>\n",
              "<style scoped>\n",
              "    .dataframe tbody tr th:only-of-type {\n",
              "        vertical-align: middle;\n",
              "    }\n",
              "\n",
              "    .dataframe tbody tr th {\n",
              "        vertical-align: top;\n",
              "    }\n",
              "\n",
              "    .dataframe thead th {\n",
              "        text-align: right;\n",
              "    }\n",
              "</style>\n",
              "<table border=\"1\" class=\"dataframe\">\n",
              "  <thead>\n",
              "    <tr style=\"text-align: right;\">\n",
              "      <th></th>\n",
              "      <th>Date Time</th>\n",
              "      <th>Day of the Week</th>\n",
              "      <th>Outside Temperature TX1 (°F)</th>\n",
              "      <th>High Outside Temperature TX1 (°F)</th>\n",
              "      <th>Low Outside Temperature TX1 (°F)</th>\n",
              "      <th>Wind Speed TX1 (mph)</th>\n",
              "      <th>High Wind Speed TX1 (mph)</th>\n",
              "      <th>Rain Amount TX1 (in)</th>\n",
              "      <th>High Rain Rate TX1 (in/hr)</th>\n",
              "      <th>Outside Temperature TX2 (°F)</th>\n",
              "      <th>High Outside Temperature TX2 (°F)</th>\n",
              "      <th>Low Outside Temperature TX2 (°F)</th>\n",
              "      <th>Wind Speed TX2 (mph)</th>\n",
              "      <th>High Wind Speed TX2 (mph)</th>\n",
              "      <th>Rain Amount TX2 (in)</th>\n",
              "      <th>High Rain Rate TX2 (in/hr)</th>\n",
              "      <th>Outside Temperature TX3 (°F)</th>\n",
              "      <th>High Outside Temperature TX3 (°F)</th>\n",
              "      <th>Low Outside Temperature TX3 (°F)</th>\n",
              "      <th>Wind Speed TX3 (mph)</th>\n",
              "      <th>High Wind Speed TX3 (mph)</th>\n",
              "      <th>Rain Amount TX3 (in)</th>\n",
              "      <th>High Rain Rate TX3 (in/hr)</th>\n",
              "      <th>Outside Temperature TX4 (°F)</th>\n",
              "      <th>High Outside Temperature TX4 (°F)</th>\n",
              "      <th>Low Outside Temperature TX4 (°F)</th>\n",
              "      <th>Wind Speed TX4 (mph)</th>\n",
              "      <th>High Wind Speed TX4 (mph)</th>\n",
              "      <th>Rain Amount TX4 (in)</th>\n",
              "      <th>High Rain Rate TX4 (in/hr)</th>\n",
              "      <th>Outside Temperature TX5 (°F)</th>\n",
              "      <th>High Outside Temperature TX5 (°F)</th>\n",
              "      <th>Low Outside Temperature TX5 (°F)</th>\n",
              "      <th>Wind Speed TX5 (mph)</th>\n",
              "      <th>High Wind Speed TX5 (mph)</th>\n",
              "      <th>Rain Amount TX5 (in)</th>\n",
              "      <th>High Rain Rate TX5 (in/hr)</th>\n",
              "      <th>Outside Temperature TX6 (°F)</th>\n",
              "      <th>High Outside Temperature TX6 (°F)</th>\n",
              "      <th>Low Outside Temperature TX6 (°F)</th>\n",
              "      <th>Wind Speed TX6 (mph)</th>\n",
              "      <th>High Wind Speed TX6 (mph)</th>\n",
              "      <th>Rain Amount TX6 (in)</th>\n",
              "      <th>High Rain Rate TX6 (in/hr)</th>\n",
              "    </tr>\n",
              "  </thead>\n",
              "  <tbody>\n",
              "    <tr>\n",
              "      <th>0</th>\n",
              "      <td>2012-06-19 16:00:00</td>\n",
              "      <td>Tue</td>\n",
              "      <td>54.6</td>\n",
              "      <td>54.7</td>\n",
              "      <td>54.6</td>\n",
              "      <td>0.0</td>\n",
              "      <td>0.0</td>\n",
              "      <td>0.0</td>\n",
              "      <td>0.0</td>\n",
              "      <td>62.8</td>\n",
              "      <td>62.8</td>\n",
              "      <td>62.8</td>\n",
              "      <td>4.5</td>\n",
              "      <td>5.0</td>\n",
              "      <td>0.0</td>\n",
              "      <td>0.0</td>\n",
              "      <td>NaN</td>\n",
              "      <td>NaN</td>\n",
              "      <td>NaN</td>\n",
              "      <td>NaN</td>\n",
              "      <td>0.0</td>\n",
              "      <td>0.0</td>\n",
              "      <td>0.0</td>\n",
              "      <td>58.7</td>\n",
              "      <td>58.7</td>\n",
              "      <td>58.7</td>\n",
              "      <td>0.3</td>\n",
              "      <td>1.0</td>\n",
              "      <td>0.0</td>\n",
              "      <td>0.0</td>\n",
              "      <td>67.1</td>\n",
              "      <td>67.1</td>\n",
              "      <td>67.0</td>\n",
              "      <td>6.4</td>\n",
              "      <td>7.0</td>\n",
              "      <td>0.0</td>\n",
              "      <td>0.0</td>\n",
              "      <td>NaN</td>\n",
              "      <td>NaN</td>\n",
              "      <td>NaN</td>\n",
              "      <td>NaN</td>\n",
              "      <td>NaN</td>\n",
              "      <td>NaN</td>\n",
              "      <td>NaN</td>\n",
              "    </tr>\n",
              "    <tr>\n",
              "      <th>1</th>\n",
              "      <td>2012-06-19 16:05:00</td>\n",
              "      <td>Tue</td>\n",
              "      <td>54.9</td>\n",
              "      <td>54.9</td>\n",
              "      <td>54.6</td>\n",
              "      <td>0.0</td>\n",
              "      <td>0.0</td>\n",
              "      <td>0.0</td>\n",
              "      <td>0.0</td>\n",
              "      <td>63.4</td>\n",
              "      <td>63.4</td>\n",
              "      <td>62.6</td>\n",
              "      <td>4.4</td>\n",
              "      <td>16.0</td>\n",
              "      <td>0.0</td>\n",
              "      <td>0.0</td>\n",
              "      <td>NaN</td>\n",
              "      <td>NaN</td>\n",
              "      <td>NaN</td>\n",
              "      <td>NaN</td>\n",
              "      <td>0.0</td>\n",
              "      <td>0.0</td>\n",
              "      <td>0.0</td>\n",
              "      <td>58.5</td>\n",
              "      <td>59.0</td>\n",
              "      <td>58.5</td>\n",
              "      <td>7.7</td>\n",
              "      <td>14.0</td>\n",
              "      <td>0.0</td>\n",
              "      <td>0.0</td>\n",
              "      <td>67.4</td>\n",
              "      <td>67.5</td>\n",
              "      <td>67.1</td>\n",
              "      <td>6.1</td>\n",
              "      <td>10.0</td>\n",
              "      <td>0.0</td>\n",
              "      <td>0.0</td>\n",
              "      <td>NaN</td>\n",
              "      <td>NaN</td>\n",
              "      <td>NaN</td>\n",
              "      <td>NaN</td>\n",
              "      <td>NaN</td>\n",
              "      <td>NaN</td>\n",
              "      <td>NaN</td>\n",
              "    </tr>\n",
              "  </tbody>\n",
              "</table>\n",
              "</div>"
            ],
            "text/plain": [
              "            Date Time   ... High Rain Rate TX6 (in/hr)\n",
              "0  2012-06-19 16:00:00  ...                        NaN\n",
              "1  2012-06-19 16:05:00  ...                        NaN\n",
              "\n",
              "[2 rows x 44 columns]"
            ]
          },
          "metadata": {
            "tags": []
          },
          "execution_count": 35
        }
      ]
    },
    {
      "cell_type": "markdown",
      "metadata": {
        "id": "i_rF3YJUBe0Q",
        "colab_type": "text"
      },
      "source": [
        "## Restructure"
      ]
    },
    {
      "cell_type": "markdown",
      "metadata": {
        "id": "7BxRg94qAv6J",
        "colab_type": "text"
      },
      "source": [
        "### Drop 'Day of the Week '"
      ]
    },
    {
      "cell_type": "code",
      "metadata": {
        "id": "1P_LnugF_mPz",
        "colab_type": "code",
        "colab": {}
      },
      "source": [
        "# drop day of the week\n",
        "df = df.loc[:, df.columns != 'Day of the Week ']"
      ],
      "execution_count": 0,
      "outputs": []
    },
    {
      "cell_type": "markdown",
      "metadata": {
        "id": "GDtPgRxSA2PG",
        "colab_type": "text"
      },
      "source": [
        "### Rename columns"
      ]
    },
    {
      "cell_type": "code",
      "metadata": {
        "id": "ymLqZwEj_tdD",
        "colab_type": "code",
        "colab": {}
      },
      "source": [
        "# rename columns\n",
        "rename_columns = ['datetime',\n",
        " 'Outside Temperature baldy summit_f',\n",
        " 'High Outside Temperature baldy summit_f',\n",
        " 'Low Outside Temperature baldy summit_f',\n",
        " 'Wind Speed baldy summit_mpg',\n",
        " 'High Wind Speed baldy summit_mpg',\n",
        " 'Rain Amount baldy summit_in',\n",
        " 'High Rain Rate baldy summit_in_hr',\n",
        " 'Outside Temperature baldy draw_f',\n",
        " 'High Outside Temperature baldy draw_f',\n",
        " 'Low Outside Temperature baldy draw_f',\n",
        " 'Wind Speed baldy draw_mpg',\n",
        " 'High Wind Speed baldy draw_mpg',\n",
        " 'Rain Amount baldy draw_in',\n",
        " 'High Rain Rate baldy draw_in_hr',\n",
        " 'Outside Temperature sanfoin bench_f',\n",
        " 'High Outside Temperature sanfoin bench_f',\n",
        " 'Low Outside Temperature sanfoin bench_f',\n",
        " 'Wind Speed sanfoin bench_mpg',\n",
        " 'High Wind Speed sanfoin bench_mpg',\n",
        " 'Rain Amount sanfoin bench_in',\n",
        " 'High Rain Rate sanfoin bench_in_hr',\n",
        " 'Outside Temperature south baldy_f',\n",
        " 'High Outside Temperature south baldy_f',\n",
        " 'Low Outside Temperature south baldy_f',\n",
        " 'Wind Speed south baldy_mpg',\n",
        " 'High Wind Speed south baldy_mpg',\n",
        " 'Rain Amount south baldy_in',\n",
        " 'High Rain Rate south baldy_in_hr',\n",
        " 'Outside Temperature orchard house_f',\n",
        " 'High Outside Temperature orchard house_f',\n",
        " 'Low Outside Temperature orchard house_f',\n",
        " 'Wind Speed orchard house_mpg',\n",
        " 'High Wind Speed orchard house_mpg',\n",
        " 'Rain Amount orchard house_in',\n",
        " 'High Rain Rate orchard house_in_hr',\n",
        " 'Outside Temperature indian ridge_f',\n",
        " 'High Outside Temperature indian ridge_f',\n",
        " 'Low Outside Temperature indian ridge_f',\n",
        " 'Wind Speed indian ridge_mpg',\n",
        " 'High Wind Speed indian ridge_mpg',\n",
        " 'Rain Amount indian ridge_in',\n",
        " 'High Rain Rate indian ridge_in_hr']\n",
        "\n",
        "df.columns = rename_columns"
      ],
      "execution_count": 0,
      "outputs": []
    },
    {
      "cell_type": "code",
      "metadata": {
        "id": "lSM0EH8uCWWr",
        "colab_type": "code",
        "outputId": "a648f573-6769-4452-fee2-a156fdce417e",
        "colab": {
          "base_uri": "https://localhost:8080/",
          "height": 267
        }
      },
      "source": [
        "df.head(2)"
      ],
      "execution_count": 39,
      "outputs": [
        {
          "output_type": "execute_result",
          "data": {
            "text/html": [
              "<div>\n",
              "<style scoped>\n",
              "    .dataframe tbody tr th:only-of-type {\n",
              "        vertical-align: middle;\n",
              "    }\n",
              "\n",
              "    .dataframe tbody tr th {\n",
              "        vertical-align: top;\n",
              "    }\n",
              "\n",
              "    .dataframe thead th {\n",
              "        text-align: right;\n",
              "    }\n",
              "</style>\n",
              "<table border=\"1\" class=\"dataframe\">\n",
              "  <thead>\n",
              "    <tr style=\"text-align: right;\">\n",
              "      <th></th>\n",
              "      <th>datetime</th>\n",
              "      <th>Outside Temperature baldy summit_f</th>\n",
              "      <th>High Outside Temperature baldy summit_f</th>\n",
              "      <th>Low Outside Temperature baldy summit_f</th>\n",
              "      <th>Wind Speed baldy summit_mpg</th>\n",
              "      <th>High Wind Speed baldy summit_mpg</th>\n",
              "      <th>Rain Amount baldy summit_in</th>\n",
              "      <th>High Rain Rate baldy summit_in_hr</th>\n",
              "      <th>Outside Temperature baldy draw_f</th>\n",
              "      <th>High Outside Temperature baldy draw_f</th>\n",
              "      <th>Low Outside Temperature baldy draw_f</th>\n",
              "      <th>Wind Speed baldy draw_mpg</th>\n",
              "      <th>High Wind Speed baldy draw_mpg</th>\n",
              "      <th>Rain Amount baldy draw_in</th>\n",
              "      <th>High Rain Rate baldy draw_in_hr</th>\n",
              "      <th>Outside Temperature sanfoin bench_f</th>\n",
              "      <th>High Outside Temperature sanfoin bench_f</th>\n",
              "      <th>Low Outside Temperature sanfoin bench_f</th>\n",
              "      <th>Wind Speed sanfoin bench_mpg</th>\n",
              "      <th>High Wind Speed sanfoin bench_mpg</th>\n",
              "      <th>Rain Amount sanfoin bench_in</th>\n",
              "      <th>High Rain Rate sanfoin bench_in_hr</th>\n",
              "      <th>Outside Temperature south baldy_f</th>\n",
              "      <th>High Outside Temperature south baldy_f</th>\n",
              "      <th>Low Outside Temperature south baldy_f</th>\n",
              "      <th>Wind Speed south baldy_mpg</th>\n",
              "      <th>High Wind Speed south baldy_mpg</th>\n",
              "      <th>Rain Amount south baldy_in</th>\n",
              "      <th>High Rain Rate south baldy_in_hr</th>\n",
              "      <th>Outside Temperature orchard house_f</th>\n",
              "      <th>High Outside Temperature orchard house_f</th>\n",
              "      <th>Low Outside Temperature orchard house_f</th>\n",
              "      <th>Wind Speed orchard house_mpg</th>\n",
              "      <th>High Wind Speed orchard house_mpg</th>\n",
              "      <th>Rain Amount orchard house_in</th>\n",
              "      <th>High Rain Rate orchard house_in_hr</th>\n",
              "      <th>Outside Temperature indian ridge_f</th>\n",
              "      <th>High Outside Temperature indian ridge_f</th>\n",
              "      <th>Low Outside Temperature indian ridge_f</th>\n",
              "      <th>Wind Speed indian ridge_mpg</th>\n",
              "      <th>High Wind Speed indian ridge_mpg</th>\n",
              "      <th>Rain Amount indian ridge_in</th>\n",
              "      <th>High Rain Rate indian ridge_in_hr</th>\n",
              "    </tr>\n",
              "  </thead>\n",
              "  <tbody>\n",
              "    <tr>\n",
              "      <th>0</th>\n",
              "      <td>2012-06-19 16:00:00</td>\n",
              "      <td>54.6</td>\n",
              "      <td>54.7</td>\n",
              "      <td>54.6</td>\n",
              "      <td>0.0</td>\n",
              "      <td>0.0</td>\n",
              "      <td>0.0</td>\n",
              "      <td>0.0</td>\n",
              "      <td>62.8</td>\n",
              "      <td>62.8</td>\n",
              "      <td>62.8</td>\n",
              "      <td>4.5</td>\n",
              "      <td>5.0</td>\n",
              "      <td>0.0</td>\n",
              "      <td>0.0</td>\n",
              "      <td>NaN</td>\n",
              "      <td>NaN</td>\n",
              "      <td>NaN</td>\n",
              "      <td>NaN</td>\n",
              "      <td>0.0</td>\n",
              "      <td>0.0</td>\n",
              "      <td>0.0</td>\n",
              "      <td>58.7</td>\n",
              "      <td>58.7</td>\n",
              "      <td>58.7</td>\n",
              "      <td>0.3</td>\n",
              "      <td>1.0</td>\n",
              "      <td>0.0</td>\n",
              "      <td>0.0</td>\n",
              "      <td>67.1</td>\n",
              "      <td>67.1</td>\n",
              "      <td>67.0</td>\n",
              "      <td>6.4</td>\n",
              "      <td>7.0</td>\n",
              "      <td>0.0</td>\n",
              "      <td>0.0</td>\n",
              "      <td>NaN</td>\n",
              "      <td>NaN</td>\n",
              "      <td>NaN</td>\n",
              "      <td>NaN</td>\n",
              "      <td>NaN</td>\n",
              "      <td>NaN</td>\n",
              "      <td>NaN</td>\n",
              "    </tr>\n",
              "    <tr>\n",
              "      <th>1</th>\n",
              "      <td>2012-06-19 16:05:00</td>\n",
              "      <td>54.9</td>\n",
              "      <td>54.9</td>\n",
              "      <td>54.6</td>\n",
              "      <td>0.0</td>\n",
              "      <td>0.0</td>\n",
              "      <td>0.0</td>\n",
              "      <td>0.0</td>\n",
              "      <td>63.4</td>\n",
              "      <td>63.4</td>\n",
              "      <td>62.6</td>\n",
              "      <td>4.4</td>\n",
              "      <td>16.0</td>\n",
              "      <td>0.0</td>\n",
              "      <td>0.0</td>\n",
              "      <td>NaN</td>\n",
              "      <td>NaN</td>\n",
              "      <td>NaN</td>\n",
              "      <td>NaN</td>\n",
              "      <td>0.0</td>\n",
              "      <td>0.0</td>\n",
              "      <td>0.0</td>\n",
              "      <td>58.5</td>\n",
              "      <td>59.0</td>\n",
              "      <td>58.5</td>\n",
              "      <td>7.7</td>\n",
              "      <td>14.0</td>\n",
              "      <td>0.0</td>\n",
              "      <td>0.0</td>\n",
              "      <td>67.4</td>\n",
              "      <td>67.5</td>\n",
              "      <td>67.1</td>\n",
              "      <td>6.1</td>\n",
              "      <td>10.0</td>\n",
              "      <td>0.0</td>\n",
              "      <td>0.0</td>\n",
              "      <td>NaN</td>\n",
              "      <td>NaN</td>\n",
              "      <td>NaN</td>\n",
              "      <td>NaN</td>\n",
              "      <td>NaN</td>\n",
              "      <td>NaN</td>\n",
              "      <td>NaN</td>\n",
              "    </tr>\n",
              "  </tbody>\n",
              "</table>\n",
              "</div>"
            ],
            "text/plain": [
              "              datetime  ...  High Rain Rate indian ridge_in_hr\n",
              "0  2012-06-19 16:00:00  ...                                NaN\n",
              "1  2012-06-19 16:05:00  ...                                NaN\n",
              "\n",
              "[2 rows x 43 columns]"
            ]
          },
          "metadata": {
            "tags": []
          },
          "execution_count": 39
        }
      ]
    },
    {
      "cell_type": "markdown",
      "metadata": {
        "id": "rF2I0kPUA6hU",
        "colab_type": "text"
      },
      "source": [
        "### Wide to Long"
      ]
    },
    {
      "cell_type": "code",
      "metadata": {
        "id": "pE1JQ9KLAkKv",
        "colab_type": "code",
        "outputId": "0038097f-9c55-41bb-9a5c-693250ae8cd3",
        "colab": {
          "base_uri": "https://localhost:8080/",
          "height": 204
        }
      },
      "source": [
        "ef = df.melt(id_vars=['datetime'])\n",
        "ef.head()"
      ],
      "execution_count": 40,
      "outputs": [
        {
          "output_type": "execute_result",
          "data": {
            "text/html": [
              "<div>\n",
              "<style scoped>\n",
              "    .dataframe tbody tr th:only-of-type {\n",
              "        vertical-align: middle;\n",
              "    }\n",
              "\n",
              "    .dataframe tbody tr th {\n",
              "        vertical-align: top;\n",
              "    }\n",
              "\n",
              "    .dataframe thead th {\n",
              "        text-align: right;\n",
              "    }\n",
              "</style>\n",
              "<table border=\"1\" class=\"dataframe\">\n",
              "  <thead>\n",
              "    <tr style=\"text-align: right;\">\n",
              "      <th></th>\n",
              "      <th>datetime</th>\n",
              "      <th>variable</th>\n",
              "      <th>value</th>\n",
              "    </tr>\n",
              "  </thead>\n",
              "  <tbody>\n",
              "    <tr>\n",
              "      <th>0</th>\n",
              "      <td>2012-06-19 16:00:00</td>\n",
              "      <td>Outside Temperature baldy summit_f</td>\n",
              "      <td>54.6</td>\n",
              "    </tr>\n",
              "    <tr>\n",
              "      <th>1</th>\n",
              "      <td>2012-06-19 16:05:00</td>\n",
              "      <td>Outside Temperature baldy summit_f</td>\n",
              "      <td>54.9</td>\n",
              "    </tr>\n",
              "    <tr>\n",
              "      <th>2</th>\n",
              "      <td>2012-06-19 16:10:00</td>\n",
              "      <td>Outside Temperature baldy summit_f</td>\n",
              "      <td>55.0</td>\n",
              "    </tr>\n",
              "    <tr>\n",
              "      <th>3</th>\n",
              "      <td>2012-06-19 16:15:00</td>\n",
              "      <td>Outside Temperature baldy summit_f</td>\n",
              "      <td>54.9</td>\n",
              "    </tr>\n",
              "    <tr>\n",
              "      <th>4</th>\n",
              "      <td>2012-06-19 16:20:00</td>\n",
              "      <td>Outside Temperature baldy summit_f</td>\n",
              "      <td>54.8</td>\n",
              "    </tr>\n",
              "  </tbody>\n",
              "</table>\n",
              "</div>"
            ],
            "text/plain": [
              "              datetime                            variable  value\n",
              "0  2012-06-19 16:00:00  Outside Temperature baldy summit_f   54.6\n",
              "1  2012-06-19 16:05:00  Outside Temperature baldy summit_f   54.9\n",
              "2  2012-06-19 16:10:00  Outside Temperature baldy summit_f   55.0\n",
              "3  2012-06-19 16:15:00  Outside Temperature baldy summit_f   54.9\n",
              "4  2012-06-19 16:20:00  Outside Temperature baldy summit_f   54.8"
            ]
          },
          "metadata": {
            "tags": []
          },
          "execution_count": 40
        }
      ]
    },
    {
      "cell_type": "markdown",
      "metadata": {
        "id": "lT3hbQUWB6k7",
        "colab_type": "text"
      },
      "source": [
        "### Identify Stations"
      ]
    },
    {
      "cell_type": "code",
      "metadata": {
        "id": "Fuqwfd5HBDhC",
        "colab_type": "code",
        "colab": {}
      },
      "source": [
        "stations = ['baldy summit', 'baldy draw', 'sanfoin bench', 'south baldy', 'orchard house', 'indian ridge']\n",
        "for station in stations:\n",
        "  ef.loc[ef['variable'].str.contains(station), 'station'] = station"
      ],
      "execution_count": 0,
      "outputs": []
    },
    {
      "cell_type": "code",
      "metadata": {
        "id": "iCuwI-mrBxsl",
        "colab_type": "code",
        "outputId": "8a0a86ae-1eb4-4f80-9c9a-bcbcf1bd71aa",
        "colab": {
          "base_uri": "https://localhost:8080/",
          "height": 111
        }
      },
      "source": [
        "ef.head(2)"
      ],
      "execution_count": 42,
      "outputs": [
        {
          "output_type": "execute_result",
          "data": {
            "text/html": [
              "<div>\n",
              "<style scoped>\n",
              "    .dataframe tbody tr th:only-of-type {\n",
              "        vertical-align: middle;\n",
              "    }\n",
              "\n",
              "    .dataframe tbody tr th {\n",
              "        vertical-align: top;\n",
              "    }\n",
              "\n",
              "    .dataframe thead th {\n",
              "        text-align: right;\n",
              "    }\n",
              "</style>\n",
              "<table border=\"1\" class=\"dataframe\">\n",
              "  <thead>\n",
              "    <tr style=\"text-align: right;\">\n",
              "      <th></th>\n",
              "      <th>datetime</th>\n",
              "      <th>variable</th>\n",
              "      <th>value</th>\n",
              "      <th>station</th>\n",
              "    </tr>\n",
              "  </thead>\n",
              "  <tbody>\n",
              "    <tr>\n",
              "      <th>0</th>\n",
              "      <td>2012-06-19 16:00:00</td>\n",
              "      <td>Outside Temperature baldy summit_f</td>\n",
              "      <td>54.6</td>\n",
              "      <td>baldy summit</td>\n",
              "    </tr>\n",
              "    <tr>\n",
              "      <th>1</th>\n",
              "      <td>2012-06-19 16:05:00</td>\n",
              "      <td>Outside Temperature baldy summit_f</td>\n",
              "      <td>54.9</td>\n",
              "      <td>baldy summit</td>\n",
              "    </tr>\n",
              "  </tbody>\n",
              "</table>\n",
              "</div>"
            ],
            "text/plain": [
              "              datetime                            variable  value       station\n",
              "0  2012-06-19 16:00:00  Outside Temperature baldy summit_f   54.6  baldy summit\n",
              "1  2012-06-19 16:05:00  Outside Temperature baldy summit_f   54.9  baldy summit"
            ]
          },
          "metadata": {
            "tags": []
          },
          "execution_count": 42
        }
      ]
    },
    {
      "cell_type": "markdown",
      "metadata": {
        "id": "3IulldHWCBRH",
        "colab_type": "text"
      },
      "source": [
        "### Identify Measurement"
      ]
    },
    {
      "cell_type": "code",
      "metadata": {
        "id": "9tQfcs-lBzSB",
        "colab_type": "code",
        "colab": {}
      },
      "source": [
        "measures = ['Outside Temperature', 'High Outside Temperature', 'Low Outside Temperature', 'Wind Speed', 'High Wind Speed', 'Rain Amount', 'High Rain Rate']\n",
        "for measure in measures:\n",
        "  ef.loc[ef['variable'].str.contains(measure), 'measure'] = measure"
      ],
      "execution_count": 0,
      "outputs": []
    },
    {
      "cell_type": "code",
      "metadata": {
        "id": "O6mGC2cCC0qu",
        "colab_type": "code",
        "outputId": "af6d093c-1d28-493e-c4ff-efe5e5b01bfe",
        "colab": {
          "base_uri": "https://localhost:8080/",
          "height": 111
        }
      },
      "source": [
        "ef.head(2)"
      ],
      "execution_count": 44,
      "outputs": [
        {
          "output_type": "execute_result",
          "data": {
            "text/html": [
              "<div>\n",
              "<style scoped>\n",
              "    .dataframe tbody tr th:only-of-type {\n",
              "        vertical-align: middle;\n",
              "    }\n",
              "\n",
              "    .dataframe tbody tr th {\n",
              "        vertical-align: top;\n",
              "    }\n",
              "\n",
              "    .dataframe thead th {\n",
              "        text-align: right;\n",
              "    }\n",
              "</style>\n",
              "<table border=\"1\" class=\"dataframe\">\n",
              "  <thead>\n",
              "    <tr style=\"text-align: right;\">\n",
              "      <th></th>\n",
              "      <th>datetime</th>\n",
              "      <th>variable</th>\n",
              "      <th>value</th>\n",
              "      <th>station</th>\n",
              "      <th>measure</th>\n",
              "    </tr>\n",
              "  </thead>\n",
              "  <tbody>\n",
              "    <tr>\n",
              "      <th>0</th>\n",
              "      <td>2012-06-19 16:00:00</td>\n",
              "      <td>Outside Temperature baldy summit_f</td>\n",
              "      <td>54.6</td>\n",
              "      <td>baldy summit</td>\n",
              "      <td>Outside Temperature</td>\n",
              "    </tr>\n",
              "    <tr>\n",
              "      <th>1</th>\n",
              "      <td>2012-06-19 16:05:00</td>\n",
              "      <td>Outside Temperature baldy summit_f</td>\n",
              "      <td>54.9</td>\n",
              "      <td>baldy summit</td>\n",
              "      <td>Outside Temperature</td>\n",
              "    </tr>\n",
              "  </tbody>\n",
              "</table>\n",
              "</div>"
            ],
            "text/plain": [
              "              datetime  ...              measure\n",
              "0  2012-06-19 16:00:00  ...  Outside Temperature\n",
              "1  2012-06-19 16:05:00  ...  Outside Temperature\n",
              "\n",
              "[2 rows x 5 columns]"
            ]
          },
          "metadata": {
            "tags": []
          },
          "execution_count": 44
        }
      ]
    },
    {
      "cell_type": "markdown",
      "metadata": {
        "id": "jl5mAtISD0Jh",
        "colab_type": "text"
      },
      "source": [
        "### Drop 'variable'\n",
        "Strings in 'variable' have been transposed to new 'station' and 'measure' columns"
      ]
    },
    {
      "cell_type": "code",
      "metadata": {
        "id": "08tQBv3UC1xZ",
        "colab_type": "code",
        "colab": {}
      },
      "source": [
        "# drop 'variable'\n",
        "ef = ef.loc[:, ef.columns != 'variable']"
      ],
      "execution_count": 0,
      "outputs": []
    },
    {
      "cell_type": "code",
      "metadata": {
        "id": "SjtyUIOGEGSA",
        "colab_type": "code",
        "outputId": "e18d9618-6379-4d65-e960-767c1ce527dd",
        "colab": {
          "base_uri": "https://localhost:8080/",
          "height": 111
        }
      },
      "source": [
        "ef.head(2)"
      ],
      "execution_count": 46,
      "outputs": [
        {
          "output_type": "execute_result",
          "data": {
            "text/html": [
              "<div>\n",
              "<style scoped>\n",
              "    .dataframe tbody tr th:only-of-type {\n",
              "        vertical-align: middle;\n",
              "    }\n",
              "\n",
              "    .dataframe tbody tr th {\n",
              "        vertical-align: top;\n",
              "    }\n",
              "\n",
              "    .dataframe thead th {\n",
              "        text-align: right;\n",
              "    }\n",
              "</style>\n",
              "<table border=\"1\" class=\"dataframe\">\n",
              "  <thead>\n",
              "    <tr style=\"text-align: right;\">\n",
              "      <th></th>\n",
              "      <th>datetime</th>\n",
              "      <th>value</th>\n",
              "      <th>station</th>\n",
              "      <th>measure</th>\n",
              "    </tr>\n",
              "  </thead>\n",
              "  <tbody>\n",
              "    <tr>\n",
              "      <th>0</th>\n",
              "      <td>2012-06-19 16:00:00</td>\n",
              "      <td>54.6</td>\n",
              "      <td>baldy summit</td>\n",
              "      <td>Outside Temperature</td>\n",
              "    </tr>\n",
              "    <tr>\n",
              "      <th>1</th>\n",
              "      <td>2012-06-19 16:05:00</td>\n",
              "      <td>54.9</td>\n",
              "      <td>baldy summit</td>\n",
              "      <td>Outside Temperature</td>\n",
              "    </tr>\n",
              "  </tbody>\n",
              "</table>\n",
              "</div>"
            ],
            "text/plain": [
              "              datetime  value       station              measure\n",
              "0  2012-06-19 16:00:00   54.6  baldy summit  Outside Temperature\n",
              "1  2012-06-19 16:05:00   54.9  baldy summit  Outside Temperature"
            ]
          },
          "metadata": {
            "tags": []
          },
          "execution_count": 46
        }
      ]
    },
    {
      "cell_type": "markdown",
      "metadata": {
        "id": "JiVoxX1_K-dZ",
        "colab_type": "text"
      },
      "source": [
        "# Wrangle Wind\n",
        "The csv export files processed above do not include directional wind data.<br> Process and add additional wind data in following cells."
      ]
    },
    {
      "cell_type": "markdown",
      "metadata": {
        "id": "dHTt3hNaPuB4",
        "colab_type": "text"
      },
      "source": [
        "### Load wind data"
      ]
    },
    {
      "cell_type": "code",
      "metadata": {
        "id": "J9U_G1iQLqaP",
        "colab_type": "code",
        "colab": {}
      },
      "source": [
        "# Wind/wind-13_19.csv\n",
        "wind_src = 'https://drive.google.com/uc?id=1V_uqObEy4Y9QPf9E9oorqb-LVsXl3DtZ'"
      ],
      "execution_count": 0,
      "outputs": []
    },
    {
      "cell_type": "code",
      "metadata": {
        "id": "db717o_VMIsS",
        "colab_type": "code",
        "colab": {}
      },
      "source": [
        "wf = pd.read_csv(wind_src)"
      ],
      "execution_count": 0,
      "outputs": []
    },
    {
      "cell_type": "code",
      "metadata": {
        "id": "Vyd5UQ9NMM4_",
        "colab_type": "code",
        "colab": {
          "base_uri": "https://localhost:8080/",
          "height": 0
        },
        "outputId": "1e509ce9-8df8-4cb6-b458-f08bc942a28b"
      },
      "source": [
        "wf.head(2)"
      ],
      "execution_count": 16,
      "outputs": [
        {
          "output_type": "execute_result",
          "data": {
            "text/html": [
              "<div>\n",
              "<style scoped>\n",
              "    .dataframe tbody tr th:only-of-type {\n",
              "        vertical-align: middle;\n",
              "    }\n",
              "\n",
              "    .dataframe tbody tr th {\n",
              "        vertical-align: top;\n",
              "    }\n",
              "\n",
              "    .dataframe thead th {\n",
              "        text-align: right;\n",
              "    }\n",
              "</style>\n",
              "<table border=\"1\" class=\"dataframe\">\n",
              "  <thead>\n",
              "    <tr style=\"text-align: right;\">\n",
              "      <th></th>\n",
              "      <th>Day of the Week</th>\n",
              "      <th>datetime</th>\n",
              "      <th>High Wind Dir baldy summit</th>\n",
              "      <th>Dominant Wind Dir baldy summit</th>\n",
              "      <th>High Wind Dir baldy draw</th>\n",
              "      <th>Dominant Wind Dir baldy draw</th>\n",
              "      <th>High Wind Dir sanfoin bench</th>\n",
              "      <th>Dominant Wind Dir sanfoin bench</th>\n",
              "      <th>High Wind Dir south baldy</th>\n",
              "      <th>Dominant Wind Dir south baldy</th>\n",
              "      <th>High Wind Dir orchard house</th>\n",
              "      <th>Dominant Wind Dir orchard house</th>\n",
              "      <th>High Wind Dir indian ridge</th>\n",
              "      <th>Dominant Wind Dir indian ridge</th>\n",
              "    </tr>\n",
              "  </thead>\n",
              "  <tbody>\n",
              "    <tr>\n",
              "      <th>0</th>\n",
              "      <td>Tue</td>\n",
              "      <td>01-01-2013 00:00:00</td>\n",
              "      <td>W</td>\n",
              "      <td>W</td>\n",
              "      <td>E</td>\n",
              "      <td>E</td>\n",
              "      <td>ENE</td>\n",
              "      <td>ENE</td>\n",
              "      <td>NNE</td>\n",
              "      <td>NE</td>\n",
              "      <td>NaN</td>\n",
              "      <td>NaN</td>\n",
              "      <td>NE</td>\n",
              "      <td>NE</td>\n",
              "    </tr>\n",
              "    <tr>\n",
              "      <th>1</th>\n",
              "      <td>Tue</td>\n",
              "      <td>01-01-2013 00:05:00</td>\n",
              "      <td>W</td>\n",
              "      <td>W</td>\n",
              "      <td>E</td>\n",
              "      <td>E</td>\n",
              "      <td>ENE</td>\n",
              "      <td>ENE</td>\n",
              "      <td>NE</td>\n",
              "      <td>NE</td>\n",
              "      <td>NaN</td>\n",
              "      <td>NaN</td>\n",
              "      <td>NNE</td>\n",
              "      <td>NNE</td>\n",
              "    </tr>\n",
              "  </tbody>\n",
              "</table>\n",
              "</div>"
            ],
            "text/plain": [
              "  Day of the Week   ... Dominant Wind Dir indian ridge\n",
              "0              Tue  ...                             NE\n",
              "1              Tue  ...                            NNE\n",
              "\n",
              "[2 rows x 14 columns]"
            ]
          },
          "metadata": {
            "tags": []
          },
          "execution_count": 16
        }
      ]
    },
    {
      "cell_type": "markdown",
      "metadata": {
        "id": "G6YW0p1FP0GD",
        "colab_type": "text"
      },
      "source": [
        "### Drop 'Day of the Week '"
      ]
    },
    {
      "cell_type": "code",
      "metadata": {
        "id": "pkF63dCgP5O5",
        "colab_type": "code",
        "colab": {}
      },
      "source": [
        "wf = wf.loc[:, wf.columns != 'Day of the Week ']"
      ],
      "execution_count": 0,
      "outputs": []
    },
    {
      "cell_type": "markdown",
      "metadata": {
        "id": "DrXNGlfqP6Am",
        "colab_type": "text"
      },
      "source": [
        "### Rename columns"
      ]
    },
    {
      "cell_type": "code",
      "metadata": {
        "id": "UmyHpum4MOQz",
        "colab_type": "code",
        "colab": {}
      },
      "source": [
        "# rename wind columns\n",
        "rename_wind_columns = ['datetime',\n",
        "'High Wind Dir baldy summit',\n",
        "'Dominant Wind Dir baldy summit',\n",
        "'High Wind Dir baldy draw',\n",
        "'Dominant Wind Dir baldy draw',\n",
        "'High Wind Dir sanfoin bench',\n",
        "'Dominant Wind Dir sanfoin bench',\n",
        "'High Wind Dir south baldy',\n",
        "'Dominant Wind Dir south baldy',\n",
        "'High Wind Dir orchard house',\n",
        "'Dominant Wind Dir orchard house',\n",
        "'High Wind Dir indian ridge',\n",
        "'Dominant Wind Dir indian ridge']"
      ],
      "execution_count": 0,
      "outputs": []
    },
    {
      "cell_type": "code",
      "metadata": {
        "id": "kk7hr0MCMn86",
        "colab_type": "code",
        "colab": {}
      },
      "source": [
        "wf.columns = rename_wind_columns"
      ],
      "execution_count": 0,
      "outputs": []
    },
    {
      "cell_type": "code",
      "metadata": {
        "id": "1iTBz_AvNulM",
        "colab_type": "code",
        "colab": {
          "base_uri": "https://localhost:8080/",
          "height": 0
        },
        "outputId": "a3f81c16-408f-44ba-c981-3f350ee902c1"
      },
      "source": [
        "wf.head(2)"
      ],
      "execution_count": 20,
      "outputs": [
        {
          "output_type": "execute_result",
          "data": {
            "text/html": [
              "<div>\n",
              "<style scoped>\n",
              "    .dataframe tbody tr th:only-of-type {\n",
              "        vertical-align: middle;\n",
              "    }\n",
              "\n",
              "    .dataframe tbody tr th {\n",
              "        vertical-align: top;\n",
              "    }\n",
              "\n",
              "    .dataframe thead th {\n",
              "        text-align: right;\n",
              "    }\n",
              "</style>\n",
              "<table border=\"1\" class=\"dataframe\">\n",
              "  <thead>\n",
              "    <tr style=\"text-align: right;\">\n",
              "      <th></th>\n",
              "      <th>datetime</th>\n",
              "      <th>High Wind Dir baldy summit</th>\n",
              "      <th>Dominant Wind Dir baldy summit</th>\n",
              "      <th>High Wind Dir baldy draw</th>\n",
              "      <th>Dominant Wind Dir baldy draw</th>\n",
              "      <th>High Wind Dir sanfoin bench</th>\n",
              "      <th>Dominant Wind Dir sanfoin bench</th>\n",
              "      <th>High Wind Dir south baldy</th>\n",
              "      <th>Dominant Wind Dir south baldy</th>\n",
              "      <th>High Wind Dir orchard house</th>\n",
              "      <th>Dominant Wind Dir orchard house</th>\n",
              "      <th>High Wind Dir indian ridge</th>\n",
              "      <th>Dominant Wind Dir indian ridge</th>\n",
              "    </tr>\n",
              "  </thead>\n",
              "  <tbody>\n",
              "    <tr>\n",
              "      <th>0</th>\n",
              "      <td>01-01-2013 00:00:00</td>\n",
              "      <td>W</td>\n",
              "      <td>W</td>\n",
              "      <td>E</td>\n",
              "      <td>E</td>\n",
              "      <td>ENE</td>\n",
              "      <td>ENE</td>\n",
              "      <td>NNE</td>\n",
              "      <td>NE</td>\n",
              "      <td>NaN</td>\n",
              "      <td>NaN</td>\n",
              "      <td>NE</td>\n",
              "      <td>NE</td>\n",
              "    </tr>\n",
              "    <tr>\n",
              "      <th>1</th>\n",
              "      <td>01-01-2013 00:05:00</td>\n",
              "      <td>W</td>\n",
              "      <td>W</td>\n",
              "      <td>E</td>\n",
              "      <td>E</td>\n",
              "      <td>ENE</td>\n",
              "      <td>ENE</td>\n",
              "      <td>NE</td>\n",
              "      <td>NE</td>\n",
              "      <td>NaN</td>\n",
              "      <td>NaN</td>\n",
              "      <td>NNE</td>\n",
              "      <td>NNE</td>\n",
              "    </tr>\n",
              "  </tbody>\n",
              "</table>\n",
              "</div>"
            ],
            "text/plain": [
              "               datetime  ... Dominant Wind Dir indian ridge\n",
              "0   01-01-2013 00:00:00  ...                             NE\n",
              "1   01-01-2013 00:05:00  ...                            NNE\n",
              "\n",
              "[2 rows x 13 columns]"
            ]
          },
          "metadata": {
            "tags": []
          },
          "execution_count": 20
        }
      ]
    },
    {
      "cell_type": "markdown",
      "metadata": {
        "id": "r62VKFOaQWyw",
        "colab_type": "text"
      },
      "source": [
        "### Wide to Long"
      ]
    },
    {
      "cell_type": "code",
      "metadata": {
        "id": "m0rRRVllPSdw",
        "colab_type": "code",
        "colab": {
          "base_uri": "https://localhost:8080/",
          "height": 0
        },
        "outputId": "759c0b3b-c4e1-4d12-d990-411de64aa446"
      },
      "source": [
        "xf = wf.melt(id_vars=['datetime'])\n",
        "xf.head(2)"
      ],
      "execution_count": 22,
      "outputs": [
        {
          "output_type": "execute_result",
          "data": {
            "text/html": [
              "<div>\n",
              "<style scoped>\n",
              "    .dataframe tbody tr th:only-of-type {\n",
              "        vertical-align: middle;\n",
              "    }\n",
              "\n",
              "    .dataframe tbody tr th {\n",
              "        vertical-align: top;\n",
              "    }\n",
              "\n",
              "    .dataframe thead th {\n",
              "        text-align: right;\n",
              "    }\n",
              "</style>\n",
              "<table border=\"1\" class=\"dataframe\">\n",
              "  <thead>\n",
              "    <tr style=\"text-align: right;\">\n",
              "      <th></th>\n",
              "      <th>datetime</th>\n",
              "      <th>variable</th>\n",
              "      <th>value</th>\n",
              "    </tr>\n",
              "  </thead>\n",
              "  <tbody>\n",
              "    <tr>\n",
              "      <th>0</th>\n",
              "      <td>01-01-2013 00:00:00</td>\n",
              "      <td>High Wind Dir baldy summit</td>\n",
              "      <td>W</td>\n",
              "    </tr>\n",
              "    <tr>\n",
              "      <th>1</th>\n",
              "      <td>01-01-2013 00:05:00</td>\n",
              "      <td>High Wind Dir baldy summit</td>\n",
              "      <td>W</td>\n",
              "    </tr>\n",
              "  </tbody>\n",
              "</table>\n",
              "</div>"
            ],
            "text/plain": [
              "               datetime                    variable value\n",
              "0   01-01-2013 00:00:00  High Wind Dir baldy summit     W\n",
              "1   01-01-2013 00:05:00  High Wind Dir baldy summit     W"
            ]
          },
          "metadata": {
            "tags": []
          },
          "execution_count": 22
        }
      ]
    },
    {
      "cell_type": "markdown",
      "metadata": {
        "id": "tpY0KmVHQl6f",
        "colab_type": "text"
      },
      "source": [
        "### Identify Stations"
      ]
    },
    {
      "cell_type": "code",
      "metadata": {
        "id": "U_pKGeS6QoiZ",
        "colab_type": "code",
        "colab": {}
      },
      "source": [
        "stations = ['baldy summit', 'baldy draw', 'sanfoin bench', 'south baldy', 'orchard house', 'indian ridge']\n",
        "for station in stations:\n",
        "  xf.loc[xf['variable'].str.contains(station), 'station'] = station"
      ],
      "execution_count": 0,
      "outputs": []
    },
    {
      "cell_type": "code",
      "metadata": {
        "id": "2mUUL0KfQrww",
        "colab_type": "code",
        "colab": {
          "base_uri": "https://localhost:8080/",
          "height": 0
        },
        "outputId": "51f5d62b-f638-417d-e135-92f875540506"
      },
      "source": [
        "xf.tail(2)"
      ],
      "execution_count": 26,
      "outputs": [
        {
          "output_type": "execute_result",
          "data": {
            "text/html": [
              "<div>\n",
              "<style scoped>\n",
              "    .dataframe tbody tr th:only-of-type {\n",
              "        vertical-align: middle;\n",
              "    }\n",
              "\n",
              "    .dataframe tbody tr th {\n",
              "        vertical-align: top;\n",
              "    }\n",
              "\n",
              "    .dataframe thead th {\n",
              "        text-align: right;\n",
              "    }\n",
              "</style>\n",
              "<table border=\"1\" class=\"dataframe\">\n",
              "  <thead>\n",
              "    <tr style=\"text-align: right;\">\n",
              "      <th></th>\n",
              "      <th>datetime</th>\n",
              "      <th>variable</th>\n",
              "      <th>value</th>\n",
              "      <th>station</th>\n",
              "    </tr>\n",
              "  </thead>\n",
              "  <tbody>\n",
              "    <tr>\n",
              "      <th>1896322</th>\n",
              "      <td>12-31-2019 23:00:00</td>\n",
              "      <td>Dominant Wind Dir indian ridge</td>\n",
              "      <td>NNW</td>\n",
              "      <td>indian ridge</td>\n",
              "    </tr>\n",
              "    <tr>\n",
              "      <th>1896323</th>\n",
              "      <td>12-31-2019 23:30:00</td>\n",
              "      <td>Dominant Wind Dir indian ridge</td>\n",
              "      <td>NNW</td>\n",
              "      <td>indian ridge</td>\n",
              "    </tr>\n",
              "  </tbody>\n",
              "</table>\n",
              "</div>"
            ],
            "text/plain": [
              "                     datetime  ...       station\n",
              "1896322   12-31-2019 23:00:00  ...  indian ridge\n",
              "1896323   12-31-2019 23:30:00  ...  indian ridge\n",
              "\n",
              "[2 rows x 4 columns]"
            ]
          },
          "metadata": {
            "tags": []
          },
          "execution_count": 26
        }
      ]
    },
    {
      "cell_type": "markdown",
      "metadata": {
        "id": "TbfKXLzRQzze",
        "colab_type": "text"
      },
      "source": [
        "### Identify Measurement"
      ]
    },
    {
      "cell_type": "code",
      "metadata": {
        "id": "vRfqrOn7RCe2",
        "colab_type": "code",
        "colab": {
          "base_uri": "https://localhost:8080/",
          "height": 0
        },
        "outputId": "5a799b58-6939-4939-dc18-6d1761bb3bcd"
      },
      "source": [
        "xf.variable.unique()"
      ],
      "execution_count": 27,
      "outputs": [
        {
          "output_type": "execute_result",
          "data": {
            "text/plain": [
              "array(['High Wind Dir baldy summit', 'Dominant Wind Dir baldy summit',\n",
              "       'High Wind Dir baldy draw', 'Dominant Wind Dir baldy draw',\n",
              "       'High Wind Dir sanfoin bench', 'Dominant Wind Dir sanfoin bench',\n",
              "       'High Wind Dir south baldy', 'Dominant Wind Dir south baldy',\n",
              "       'High Wind Dir orchard house', 'Dominant Wind Dir orchard house',\n",
              "       'High Wind Dir indian ridge', 'Dominant Wind Dir indian ridge'],\n",
              "      dtype=object)"
            ]
          },
          "metadata": {
            "tags": []
          },
          "execution_count": 27
        }
      ]
    },
    {
      "cell_type": "code",
      "metadata": {
        "id": "obNu1wHXQt-U",
        "colab_type": "code",
        "colab": {}
      },
      "source": [
        "measures = ['High Wind Dir', 'Dominant Wind Dir']\n",
        "for measure in measures:\n",
        "  xf.loc[xf['variable'].str.contains(measure), 'measure'] = measure"
      ],
      "execution_count": 0,
      "outputs": []
    },
    {
      "cell_type": "code",
      "metadata": {
        "id": "9Mbm3LLTRO7Q",
        "colab_type": "code",
        "colab": {
          "base_uri": "https://localhost:8080/",
          "height": 0
        },
        "outputId": "805da182-ac92-4d99-94d2-6ec494db9afa"
      },
      "source": [
        "xf.tail(2)"
      ],
      "execution_count": 31,
      "outputs": [
        {
          "output_type": "execute_result",
          "data": {
            "text/html": [
              "<div>\n",
              "<style scoped>\n",
              "    .dataframe tbody tr th:only-of-type {\n",
              "        vertical-align: middle;\n",
              "    }\n",
              "\n",
              "    .dataframe tbody tr th {\n",
              "        vertical-align: top;\n",
              "    }\n",
              "\n",
              "    .dataframe thead th {\n",
              "        text-align: right;\n",
              "    }\n",
              "</style>\n",
              "<table border=\"1\" class=\"dataframe\">\n",
              "  <thead>\n",
              "    <tr style=\"text-align: right;\">\n",
              "      <th></th>\n",
              "      <th>datetime</th>\n",
              "      <th>variable</th>\n",
              "      <th>value</th>\n",
              "      <th>station</th>\n",
              "      <th>measure</th>\n",
              "    </tr>\n",
              "  </thead>\n",
              "  <tbody>\n",
              "    <tr>\n",
              "      <th>1896322</th>\n",
              "      <td>12-31-2019 23:00:00</td>\n",
              "      <td>Dominant Wind Dir indian ridge</td>\n",
              "      <td>NNW</td>\n",
              "      <td>indian ridge</td>\n",
              "      <td>Dominant Wind Dir</td>\n",
              "    </tr>\n",
              "    <tr>\n",
              "      <th>1896323</th>\n",
              "      <td>12-31-2019 23:30:00</td>\n",
              "      <td>Dominant Wind Dir indian ridge</td>\n",
              "      <td>NNW</td>\n",
              "      <td>indian ridge</td>\n",
              "      <td>Dominant Wind Dir</td>\n",
              "    </tr>\n",
              "  </tbody>\n",
              "</table>\n",
              "</div>"
            ],
            "text/plain": [
              "                     datetime  ...            measure\n",
              "1896322   12-31-2019 23:00:00  ...  Dominant Wind Dir\n",
              "1896323   12-31-2019 23:30:00  ...  Dominant Wind Dir\n",
              "\n",
              "[2 rows x 5 columns]"
            ]
          },
          "metadata": {
            "tags": []
          },
          "execution_count": 31
        }
      ]
    },
    {
      "cell_type": "markdown",
      "metadata": {
        "id": "lkuDSnLmRaU8",
        "colab_type": "text"
      },
      "source": [
        "### Drop 'variable'"
      ]
    },
    {
      "cell_type": "code",
      "metadata": {
        "id": "vouO5mMmRQkU",
        "colab_type": "code",
        "colab": {}
      },
      "source": [
        "xf = xf.loc[:, xf.columns != 'variable']"
      ],
      "execution_count": 0,
      "outputs": []
    },
    {
      "cell_type": "code",
      "metadata": {
        "id": "TrRMsUDhRlOT",
        "colab_type": "code",
        "colab": {
          "base_uri": "https://localhost:8080/",
          "height": 204
        },
        "outputId": "4a9e8ba9-6723-4f7a-cb99-4b4e033b9d9f"
      },
      "source": [
        "xf.tail()"
      ],
      "execution_count": 33,
      "outputs": [
        {
          "output_type": "execute_result",
          "data": {
            "text/html": [
              "<div>\n",
              "<style scoped>\n",
              "    .dataframe tbody tr th:only-of-type {\n",
              "        vertical-align: middle;\n",
              "    }\n",
              "\n",
              "    .dataframe tbody tr th {\n",
              "        vertical-align: top;\n",
              "    }\n",
              "\n",
              "    .dataframe thead th {\n",
              "        text-align: right;\n",
              "    }\n",
              "</style>\n",
              "<table border=\"1\" class=\"dataframe\">\n",
              "  <thead>\n",
              "    <tr style=\"text-align: right;\">\n",
              "      <th></th>\n",
              "      <th>datetime</th>\n",
              "      <th>value</th>\n",
              "      <th>station</th>\n",
              "      <th>measure</th>\n",
              "    </tr>\n",
              "  </thead>\n",
              "  <tbody>\n",
              "    <tr>\n",
              "      <th>1896319</th>\n",
              "      <td>12-31-2019 21:30:00</td>\n",
              "      <td>WNW</td>\n",
              "      <td>indian ridge</td>\n",
              "      <td>Dominant Wind Dir</td>\n",
              "    </tr>\n",
              "    <tr>\n",
              "      <th>1896320</th>\n",
              "      <td>12-31-2019 22:00:00</td>\n",
              "      <td>NW</td>\n",
              "      <td>indian ridge</td>\n",
              "      <td>Dominant Wind Dir</td>\n",
              "    </tr>\n",
              "    <tr>\n",
              "      <th>1896321</th>\n",
              "      <td>12-31-2019 22:30:00</td>\n",
              "      <td>NW</td>\n",
              "      <td>indian ridge</td>\n",
              "      <td>Dominant Wind Dir</td>\n",
              "    </tr>\n",
              "    <tr>\n",
              "      <th>1896322</th>\n",
              "      <td>12-31-2019 23:00:00</td>\n",
              "      <td>NNW</td>\n",
              "      <td>indian ridge</td>\n",
              "      <td>Dominant Wind Dir</td>\n",
              "    </tr>\n",
              "    <tr>\n",
              "      <th>1896323</th>\n",
              "      <td>12-31-2019 23:30:00</td>\n",
              "      <td>NNW</td>\n",
              "      <td>indian ridge</td>\n",
              "      <td>Dominant Wind Dir</td>\n",
              "    </tr>\n",
              "  </tbody>\n",
              "</table>\n",
              "</div>"
            ],
            "text/plain": [
              "                     datetime value       station            measure\n",
              "1896319   12-31-2019 21:30:00   WNW  indian ridge  Dominant Wind Dir\n",
              "1896320   12-31-2019 22:00:00    NW  indian ridge  Dominant Wind Dir\n",
              "1896321   12-31-2019 22:30:00    NW  indian ridge  Dominant Wind Dir\n",
              "1896322   12-31-2019 23:00:00   NNW  indian ridge  Dominant Wind Dir\n",
              "1896323   12-31-2019 23:30:00   NNW  indian ridge  Dominant Wind Dir"
            ]
          },
          "metadata": {
            "tags": []
          },
          "execution_count": 33
        }
      ]
    },
    {
      "cell_type": "markdown",
      "metadata": {
        "id": "OGY1KOQITbmq",
        "colab_type": "text"
      },
      "source": [
        "# Add wind data"
      ]
    },
    {
      "cell_type": "markdown",
      "metadata": {
        "id": "c9F75M29UNmm",
        "colab_type": "text"
      },
      "source": [
        "'ef' represents a dataset collected from orchard house which includes a majority of the weather variables available.<br>\n",
        "'xf' represents wind data which was collecte from the orchard house machine.<br>\n",
        "***concatentate ef and xf here***"
      ]
    },
    {
      "cell_type": "code",
      "metadata": {
        "id": "8-7JNWinUCdR",
        "colab_type": "code",
        "colab": {
          "base_uri": "https://localhost:8080/",
          "height": 111
        },
        "outputId": "8a887ee9-eb01-43e7-b859-2b1c66be5c76"
      },
      "source": [
        "ef.tail(2)"
      ],
      "execution_count": 47,
      "outputs": [
        {
          "output_type": "execute_result",
          "data": {
            "text/html": [
              "<div>\n",
              "<style scoped>\n",
              "    .dataframe tbody tr th:only-of-type {\n",
              "        vertical-align: middle;\n",
              "    }\n",
              "\n",
              "    .dataframe tbody tr th {\n",
              "        vertical-align: top;\n",
              "    }\n",
              "\n",
              "    .dataframe thead th {\n",
              "        text-align: right;\n",
              "    }\n",
              "</style>\n",
              "<table border=\"1\" class=\"dataframe\">\n",
              "  <thead>\n",
              "    <tr style=\"text-align: right;\">\n",
              "      <th></th>\n",
              "      <th>datetime</th>\n",
              "      <th>value</th>\n",
              "      <th>station</th>\n",
              "      <th>measure</th>\n",
              "    </tr>\n",
              "  </thead>\n",
              "  <tbody>\n",
              "    <tr>\n",
              "      <th>8945746</th>\n",
              "      <td>2019-12-31 23:00:00</td>\n",
              "      <td>0.0</td>\n",
              "      <td>indian ridge</td>\n",
              "      <td>High Rain Rate</td>\n",
              "    </tr>\n",
              "    <tr>\n",
              "      <th>8945747</th>\n",
              "      <td>2019-12-31 23:30:00</td>\n",
              "      <td>0.0</td>\n",
              "      <td>indian ridge</td>\n",
              "      <td>High Rain Rate</td>\n",
              "    </tr>\n",
              "  </tbody>\n",
              "</table>\n",
              "</div>"
            ],
            "text/plain": [
              "                    datetime  value       station         measure\n",
              "8945746  2019-12-31 23:00:00    0.0  indian ridge  High Rain Rate\n",
              "8945747  2019-12-31 23:30:00    0.0  indian ridge  High Rain Rate"
            ]
          },
          "metadata": {
            "tags": []
          },
          "execution_count": 47
        }
      ]
    },
    {
      "cell_type": "code",
      "metadata": {
        "id": "wHUwpXK6UCkd",
        "colab_type": "code",
        "colab": {
          "base_uri": "https://localhost:8080/",
          "height": 111
        },
        "outputId": "46ff5a92-a47c-4ddd-f5c2-9e1c4e0089b3"
      },
      "source": [
        "xf.tail(2)"
      ],
      "execution_count": 48,
      "outputs": [
        {
          "output_type": "execute_result",
          "data": {
            "text/html": [
              "<div>\n",
              "<style scoped>\n",
              "    .dataframe tbody tr th:only-of-type {\n",
              "        vertical-align: middle;\n",
              "    }\n",
              "\n",
              "    .dataframe tbody tr th {\n",
              "        vertical-align: top;\n",
              "    }\n",
              "\n",
              "    .dataframe thead th {\n",
              "        text-align: right;\n",
              "    }\n",
              "</style>\n",
              "<table border=\"1\" class=\"dataframe\">\n",
              "  <thead>\n",
              "    <tr style=\"text-align: right;\">\n",
              "      <th></th>\n",
              "      <th>datetime</th>\n",
              "      <th>value</th>\n",
              "      <th>station</th>\n",
              "      <th>measure</th>\n",
              "    </tr>\n",
              "  </thead>\n",
              "  <tbody>\n",
              "    <tr>\n",
              "      <th>1896322</th>\n",
              "      <td>12-31-2019 23:00:00</td>\n",
              "      <td>NNW</td>\n",
              "      <td>indian ridge</td>\n",
              "      <td>Dominant Wind Dir</td>\n",
              "    </tr>\n",
              "    <tr>\n",
              "      <th>1896323</th>\n",
              "      <td>12-31-2019 23:30:00</td>\n",
              "      <td>NNW</td>\n",
              "      <td>indian ridge</td>\n",
              "      <td>Dominant Wind Dir</td>\n",
              "    </tr>\n",
              "  </tbody>\n",
              "</table>\n",
              "</div>"
            ],
            "text/plain": [
              "                     datetime value       station            measure\n",
              "1896322   12-31-2019 23:00:00   NNW  indian ridge  Dominant Wind Dir\n",
              "1896323   12-31-2019 23:30:00   NNW  indian ridge  Dominant Wind Dir"
            ]
          },
          "metadata": {
            "tags": []
          },
          "execution_count": 48
        }
      ]
    },
    {
      "cell_type": "code",
      "metadata": {
        "id": "aepuD4qPU9VJ",
        "colab_type": "code",
        "colab": {
          "base_uri": "https://localhost:8080/",
          "height": 170
        },
        "outputId": "b78e3841-eaad-4de5-89ac-14875788376a"
      },
      "source": [
        "ef.info()"
      ],
      "execution_count": 51,
      "outputs": [
        {
          "output_type": "stream",
          "text": [
            "<class 'pandas.core.frame.DataFrame'>\n",
            "RangeIndex: 8945748 entries, 0 to 8945747\n",
            "Data columns (total 4 columns):\n",
            "datetime    object\n",
            "value       float64\n",
            "station     object\n",
            "measure     object\n",
            "dtypes: float64(1), object(3)\n",
            "memory usage: 273.0+ MB\n"
          ],
          "name": "stdout"
        }
      ]
    },
    {
      "cell_type": "code",
      "metadata": {
        "id": "gMeFCR4bU9YB",
        "colab_type": "code",
        "colab": {
          "base_uri": "https://localhost:8080/",
          "height": 170
        },
        "outputId": "6e81d280-ea6a-4772-9f75-cd8e24b60a9d"
      },
      "source": [
        "xf.info()"
      ],
      "execution_count": 52,
      "outputs": [
        {
          "output_type": "stream",
          "text": [
            "<class 'pandas.core.frame.DataFrame'>\n",
            "RangeIndex: 1896324 entries, 0 to 1896323\n",
            "Data columns (total 4 columns):\n",
            "datetime    object\n",
            "value       object\n",
            "station     object\n",
            "measure     object\n",
            "dtypes: object(4)\n",
            "memory usage: 57.9+ MB\n"
          ],
          "name": "stdout"
        }
      ]
    },
    {
      "cell_type": "markdown",
      "metadata": {
        "id": "UKhjX67yVMO9",
        "colab_type": "text"
      },
      "source": [
        "The wind dataset begins in 2013 where the larger dataset starts in 2012.  The large descrepancy in rows is questionable."
      ]
    },
    {
      "cell_type": "code",
      "metadata": {
        "id": "tWS6jStIUCqv",
        "colab_type": "code",
        "colab": {}
      },
      "source": [
        "# zf is the data frame which contains all available weather variables\n",
        "frames = [ef, xf]\n",
        "zf = pd.concat(frames)"
      ],
      "execution_count": 0,
      "outputs": []
    },
    {
      "cell_type": "markdown",
      "metadata": {
        "id": "-RKNY1RkVyPA",
        "colab_type": "text"
      },
      "source": [
        "# Wrangle combined dataset"
      ]
    },
    {
      "cell_type": "markdown",
      "metadata": {
        "id": "T-wk56ndGcd8",
        "colab_type": "text"
      },
      "source": [
        "### Long to Wide"
      ]
    },
    {
      "cell_type": "code",
      "metadata": {
        "id": "A67aJaAhGhPV",
        "colab_type": "code",
        "colab": {}
      },
      "source": [
        "wf = zf.set_index(['datetime', 'station', 'measure'])"
      ],
      "execution_count": 0,
      "outputs": []
    },
    {
      "cell_type": "code",
      "metadata": {
        "id": "e7UBsILHG-BB",
        "colab_type": "code",
        "colab": {}
      },
      "source": [
        "wf = wf.unstack()"
      ],
      "execution_count": 0,
      "outputs": []
    },
    {
      "cell_type": "code",
      "metadata": {
        "id": "LPO8ZOtx5K4Q",
        "colab_type": "code",
        "outputId": "b035db96-fa23-4025-c376-7e35c12d7633",
        "colab": {
          "base_uri": "https://localhost:8080/",
          "height": 241
        }
      },
      "source": [
        "wf.tail(2)"
      ],
      "execution_count": 65,
      "outputs": [
        {
          "output_type": "execute_result",
          "data": {
            "text/html": [
              "<div>\n",
              "<style scoped>\n",
              "    .dataframe tbody tr th:only-of-type {\n",
              "        vertical-align: middle;\n",
              "    }\n",
              "\n",
              "    .dataframe tbody tr th {\n",
              "        vertical-align: top;\n",
              "    }\n",
              "\n",
              "    .dataframe thead tr th {\n",
              "        text-align: left;\n",
              "    }\n",
              "\n",
              "    .dataframe thead tr:last-of-type th {\n",
              "        text-align: right;\n",
              "    }\n",
              "</style>\n",
              "<table border=\"1\" class=\"dataframe\">\n",
              "  <thead>\n",
              "    <tr>\n",
              "      <th></th>\n",
              "      <th></th>\n",
              "      <th colspan=\"9\" halign=\"left\">value</th>\n",
              "    </tr>\n",
              "    <tr>\n",
              "      <th></th>\n",
              "      <th>measure</th>\n",
              "      <th>Dominant Wind Dir</th>\n",
              "      <th>High Outside Temperature</th>\n",
              "      <th>High Rain Rate</th>\n",
              "      <th>High Wind Dir</th>\n",
              "      <th>High Wind Speed</th>\n",
              "      <th>Low Outside Temperature</th>\n",
              "      <th>Outside Temperature</th>\n",
              "      <th>Rain Amount</th>\n",
              "      <th>Wind Speed</th>\n",
              "    </tr>\n",
              "    <tr>\n",
              "      <th>datetime</th>\n",
              "      <th>station</th>\n",
              "      <th></th>\n",
              "      <th></th>\n",
              "      <th></th>\n",
              "      <th></th>\n",
              "      <th></th>\n",
              "      <th></th>\n",
              "      <th></th>\n",
              "      <th></th>\n",
              "      <th></th>\n",
              "    </tr>\n",
              "  </thead>\n",
              "  <tbody>\n",
              "    <tr>\n",
              "      <th rowspan=\"2\" valign=\"top\">2019-12-31 23:30:00</th>\n",
              "      <th>sanfoin bench</th>\n",
              "      <td>NaN</td>\n",
              "      <td>41.7</td>\n",
              "      <td>0</td>\n",
              "      <td>NaN</td>\n",
              "      <td>21</td>\n",
              "      <td>41.5</td>\n",
              "      <td>41.7</td>\n",
              "      <td>0</td>\n",
              "      <td>5.9</td>\n",
              "    </tr>\n",
              "    <tr>\n",
              "      <th>south baldy</th>\n",
              "      <td>NaN</td>\n",
              "      <td>NaN</td>\n",
              "      <td>0</td>\n",
              "      <td>NaN</td>\n",
              "      <td>0</td>\n",
              "      <td>NaN</td>\n",
              "      <td>NaN</td>\n",
              "      <td>0</td>\n",
              "      <td>NaN</td>\n",
              "    </tr>\n",
              "  </tbody>\n",
              "</table>\n",
              "</div>"
            ],
            "text/plain": [
              "                                              value  ...           \n",
              "measure                           Dominant Wind Dir  ... Wind Speed\n",
              "datetime            station                          ...           \n",
              "2019-12-31 23:30:00 sanfoin bench               NaN  ...        5.9\n",
              "                    south baldy                 NaN  ...        NaN\n",
              "\n",
              "[2 rows x 9 columns]"
            ]
          },
          "metadata": {
            "tags": []
          },
          "execution_count": 65
        }
      ]
    },
    {
      "cell_type": "code",
      "metadata": {
        "id": "aoF77VpIGfxP",
        "colab_type": "code",
        "colab": {}
      },
      "source": [
        "wf = wf.reset_index()"
      ],
      "execution_count": 0,
      "outputs": []
    },
    {
      "cell_type": "code",
      "metadata": {
        "id": "9h29ke49Wjdp",
        "colab_type": "code",
        "colab": {
          "base_uri": "https://localhost:8080/",
          "height": 244
        },
        "outputId": "744e0811-ed69-4031-8b1c-4ea491de7eba"
      },
      "source": [
        "wf.tail(2)"
      ],
      "execution_count": 67,
      "outputs": [
        {
          "output_type": "execute_result",
          "data": {
            "text/html": [
              "<div>\n",
              "<style scoped>\n",
              "    .dataframe tbody tr th:only-of-type {\n",
              "        vertical-align: middle;\n",
              "    }\n",
              "\n",
              "    .dataframe tbody tr th {\n",
              "        vertical-align: top;\n",
              "    }\n",
              "\n",
              "    .dataframe thead tr th {\n",
              "        text-align: left;\n",
              "    }\n",
              "</style>\n",
              "<table border=\"1\" class=\"dataframe\">\n",
              "  <thead>\n",
              "    <tr>\n",
              "      <th></th>\n",
              "      <th>datetime</th>\n",
              "      <th>station</th>\n",
              "      <th colspan=\"9\" halign=\"left\">value</th>\n",
              "    </tr>\n",
              "    <tr>\n",
              "      <th>measure</th>\n",
              "      <th></th>\n",
              "      <th></th>\n",
              "      <th>Dominant Wind Dir</th>\n",
              "      <th>High Outside Temperature</th>\n",
              "      <th>High Rain Rate</th>\n",
              "      <th>High Wind Dir</th>\n",
              "      <th>High Wind Speed</th>\n",
              "      <th>Low Outside Temperature</th>\n",
              "      <th>Outside Temperature</th>\n",
              "      <th>Rain Amount</th>\n",
              "      <th>Wind Speed</th>\n",
              "    </tr>\n",
              "  </thead>\n",
              "  <tbody>\n",
              "    <tr>\n",
              "      <th>2226124</th>\n",
              "      <td>2019-12-31 23:30:00</td>\n",
              "      <td>sanfoin bench</td>\n",
              "      <td>NaN</td>\n",
              "      <td>41.7</td>\n",
              "      <td>0</td>\n",
              "      <td>NaN</td>\n",
              "      <td>21</td>\n",
              "      <td>41.5</td>\n",
              "      <td>41.7</td>\n",
              "      <td>0</td>\n",
              "      <td>5.9</td>\n",
              "    </tr>\n",
              "    <tr>\n",
              "      <th>2226125</th>\n",
              "      <td>2019-12-31 23:30:00</td>\n",
              "      <td>south baldy</td>\n",
              "      <td>NaN</td>\n",
              "      <td>NaN</td>\n",
              "      <td>0</td>\n",
              "      <td>NaN</td>\n",
              "      <td>0</td>\n",
              "      <td>NaN</td>\n",
              "      <td>NaN</td>\n",
              "      <td>0</td>\n",
              "      <td>NaN</td>\n",
              "    </tr>\n",
              "  </tbody>\n",
              "</table>\n",
              "</div>"
            ],
            "text/plain": [
              "                    datetime        station  ...       value           \n",
              "measure                                      ... Rain Amount Wind Speed\n",
              "2226124  2019-12-31 23:30:00  sanfoin bench  ...           0        5.9\n",
              "2226125  2019-12-31 23:30:00    south baldy  ...           0        NaN\n",
              "\n",
              "[2 rows x 11 columns]"
            ]
          },
          "metadata": {
            "tags": []
          },
          "execution_count": 67
        }
      ]
    },
    {
      "cell_type": "markdown",
      "metadata": {
        "id": "krkzVGaW6Pds",
        "colab_type": "text"
      },
      "source": [
        "### Rename Columns"
      ]
    },
    {
      "cell_type": "code",
      "metadata": {
        "id": "1F0ClQFbPVvS",
        "colab_type": "code",
        "colab": {}
      },
      "source": [
        "# rename columns\n",
        "wf.columns = ['datetime', 'station', 'dominant_wind_dir', 'high_temp_f', 'high_rain', 'high_wind_dir', 'high_wind_speed', 'low_temp_f', 'ave_temp_f', 'rain_amount', 'ave_wind_speed']"
      ],
      "execution_count": 0,
      "outputs": []
    },
    {
      "cell_type": "code",
      "metadata": {
        "id": "LhP8PXrHPsLO",
        "colab_type": "code",
        "outputId": "47b485cb-4e1c-4ac2-ca8e-e89b0baf41ec",
        "colab": {
          "base_uri": "https://localhost:8080/",
          "height": 199
        }
      },
      "source": [
        "wf.tail(2)"
      ],
      "execution_count": 73,
      "outputs": [
        {
          "output_type": "execute_result",
          "data": {
            "text/html": [
              "<div>\n",
              "<style scoped>\n",
              "    .dataframe tbody tr th:only-of-type {\n",
              "        vertical-align: middle;\n",
              "    }\n",
              "\n",
              "    .dataframe tbody tr th {\n",
              "        vertical-align: top;\n",
              "    }\n",
              "\n",
              "    .dataframe thead th {\n",
              "        text-align: right;\n",
              "    }\n",
              "</style>\n",
              "<table border=\"1\" class=\"dataframe\">\n",
              "  <thead>\n",
              "    <tr style=\"text-align: right;\">\n",
              "      <th></th>\n",
              "      <th>datetime</th>\n",
              "      <th>station</th>\n",
              "      <th>dominant_wind_dir</th>\n",
              "      <th>high_temp_f</th>\n",
              "      <th>high_rain</th>\n",
              "      <th>high_wind_dir</th>\n",
              "      <th>high_wind_speed</th>\n",
              "      <th>low_temp_f</th>\n",
              "      <th>ave_temp_f</th>\n",
              "      <th>rain_amount</th>\n",
              "      <th>ave_wind_speed</th>\n",
              "    </tr>\n",
              "  </thead>\n",
              "  <tbody>\n",
              "    <tr>\n",
              "      <th>2226124</th>\n",
              "      <td>2019-12-31 23:30:00</td>\n",
              "      <td>sanfoin bench</td>\n",
              "      <td>NaN</td>\n",
              "      <td>41.7</td>\n",
              "      <td>0</td>\n",
              "      <td>NaN</td>\n",
              "      <td>21</td>\n",
              "      <td>41.5</td>\n",
              "      <td>41.7</td>\n",
              "      <td>0</td>\n",
              "      <td>5.9</td>\n",
              "    </tr>\n",
              "    <tr>\n",
              "      <th>2226125</th>\n",
              "      <td>2019-12-31 23:30:00</td>\n",
              "      <td>south baldy</td>\n",
              "      <td>NaN</td>\n",
              "      <td>NaN</td>\n",
              "      <td>0</td>\n",
              "      <td>NaN</td>\n",
              "      <td>0</td>\n",
              "      <td>NaN</td>\n",
              "      <td>NaN</td>\n",
              "      <td>0</td>\n",
              "      <td>NaN</td>\n",
              "    </tr>\n",
              "  </tbody>\n",
              "</table>\n",
              "</div>"
            ],
            "text/plain": [
              "                    datetime        station  ... rain_amount ave_wind_speed\n",
              "2226124  2019-12-31 23:30:00  sanfoin bench  ...           0            5.9\n",
              "2226125  2019-12-31 23:30:00    south baldy  ...           0            NaN\n",
              "\n",
              "[2 rows x 11 columns]"
            ]
          },
          "metadata": {
            "tags": []
          },
          "execution_count": 73
        }
      ]
    },
    {
      "cell_type": "markdown",
      "metadata": {
        "id": "AKMGJsNb6gPX",
        "colab_type": "text"
      },
      "source": [
        "### Reorder Columns"
      ]
    },
    {
      "cell_type": "code",
      "metadata": {
        "id": "0DvyZXZ56hjI",
        "colab_type": "code",
        "colab": {}
      },
      "source": [
        "wf = wf[['datetime', 'station', 'high_temp_f', 'low_temp_f', 'ave_temp_f', 'rain_amount', 'high_rain', 'high_wind_dir', 'high_wind_speed', 'ave_wind_speed', 'dominant_wind_dir']]"
      ],
      "execution_count": 0,
      "outputs": []
    },
    {
      "cell_type": "code",
      "metadata": {
        "id": "YnCzFWZ18t02",
        "colab_type": "code",
        "colab": {}
      },
      "source": [
        "# set datetime data type\n",
        "wf['datetime'] = pd.to_datetime(wf['datetime'])"
      ],
      "execution_count": 0,
      "outputs": []
    },
    {
      "cell_type": "code",
      "metadata": {
        "id": "QiS4OUwO-qtQ",
        "colab_type": "code",
        "outputId": "1796c0f5-163a-4e82-da75-38958bea3769",
        "colab": {
          "base_uri": "https://localhost:8080/",
          "height": 289
        }
      },
      "source": [
        "wf.info()"
      ],
      "execution_count": 76,
      "outputs": [
        {
          "output_type": "stream",
          "text": [
            "<class 'pandas.core.frame.DataFrame'>\n",
            "RangeIndex: 2226126 entries, 0 to 2226125\n",
            "Data columns (total 11 columns):\n",
            "datetime             datetime64[ns]\n",
            "station              object\n",
            "high_temp_f          object\n",
            "low_temp_f           object\n",
            "ave_temp_f           object\n",
            "rain_amount          object\n",
            "high_rain            object\n",
            "high_wind_dir        object\n",
            "high_wind_speed      object\n",
            "ave_wind_speed       object\n",
            "dominant_wind_dir    object\n",
            "dtypes: datetime64[ns](1), object(10)\n",
            "memory usage: 186.8+ MB\n"
          ],
          "name": "stdout"
        }
      ]
    },
    {
      "cell_type": "code",
      "metadata": {
        "id": "OOrQjTjl-rAm",
        "colab_type": "code",
        "outputId": "df987956-d270-409e-a376-a52ee4532cc6",
        "colab": {
          "base_uri": "https://localhost:8080/",
          "height": 394
        }
      },
      "source": [
        "wf.tail()"
      ],
      "execution_count": 77,
      "outputs": [
        {
          "output_type": "execute_result",
          "data": {
            "text/html": [
              "<div>\n",
              "<style scoped>\n",
              "    .dataframe tbody tr th:only-of-type {\n",
              "        vertical-align: middle;\n",
              "    }\n",
              "\n",
              "    .dataframe tbody tr th {\n",
              "        vertical-align: top;\n",
              "    }\n",
              "\n",
              "    .dataframe thead th {\n",
              "        text-align: right;\n",
              "    }\n",
              "</style>\n",
              "<table border=\"1\" class=\"dataframe\">\n",
              "  <thead>\n",
              "    <tr style=\"text-align: right;\">\n",
              "      <th></th>\n",
              "      <th>datetime</th>\n",
              "      <th>station</th>\n",
              "      <th>high_temp_f</th>\n",
              "      <th>low_temp_f</th>\n",
              "      <th>ave_temp_f</th>\n",
              "      <th>rain_amount</th>\n",
              "      <th>high_rain</th>\n",
              "      <th>high_wind_dir</th>\n",
              "      <th>high_wind_speed</th>\n",
              "      <th>ave_wind_speed</th>\n",
              "      <th>dominant_wind_dir</th>\n",
              "    </tr>\n",
              "  </thead>\n",
              "  <tbody>\n",
              "    <tr>\n",
              "      <th>2226121</th>\n",
              "      <td>2019-12-31 23:30:00</td>\n",
              "      <td>baldy summit</td>\n",
              "      <td>NaN</td>\n",
              "      <td>NaN</td>\n",
              "      <td>NaN</td>\n",
              "      <td>0</td>\n",
              "      <td>0</td>\n",
              "      <td>NaN</td>\n",
              "      <td>0</td>\n",
              "      <td>NaN</td>\n",
              "      <td>NaN</td>\n",
              "    </tr>\n",
              "    <tr>\n",
              "      <th>2226122</th>\n",
              "      <td>2019-12-31 23:30:00</td>\n",
              "      <td>indian ridge</td>\n",
              "      <td>40.8</td>\n",
              "      <td>39.2</td>\n",
              "      <td>39.8</td>\n",
              "      <td>0</td>\n",
              "      <td>0</td>\n",
              "      <td>NaN</td>\n",
              "      <td>25</td>\n",
              "      <td>10.9</td>\n",
              "      <td>NaN</td>\n",
              "    </tr>\n",
              "    <tr>\n",
              "      <th>2226123</th>\n",
              "      <td>2019-12-31 23:30:00</td>\n",
              "      <td>orchard house</td>\n",
              "      <td>42.3</td>\n",
              "      <td>41.1</td>\n",
              "      <td>42.2</td>\n",
              "      <td>0</td>\n",
              "      <td>0</td>\n",
              "      <td>NaN</td>\n",
              "      <td>23</td>\n",
              "      <td>6.5</td>\n",
              "      <td>NaN</td>\n",
              "    </tr>\n",
              "    <tr>\n",
              "      <th>2226124</th>\n",
              "      <td>2019-12-31 23:30:00</td>\n",
              "      <td>sanfoin bench</td>\n",
              "      <td>41.7</td>\n",
              "      <td>41.5</td>\n",
              "      <td>41.7</td>\n",
              "      <td>0</td>\n",
              "      <td>0</td>\n",
              "      <td>NaN</td>\n",
              "      <td>21</td>\n",
              "      <td>5.9</td>\n",
              "      <td>NaN</td>\n",
              "    </tr>\n",
              "    <tr>\n",
              "      <th>2226125</th>\n",
              "      <td>2019-12-31 23:30:00</td>\n",
              "      <td>south baldy</td>\n",
              "      <td>NaN</td>\n",
              "      <td>NaN</td>\n",
              "      <td>NaN</td>\n",
              "      <td>0</td>\n",
              "      <td>0</td>\n",
              "      <td>NaN</td>\n",
              "      <td>0</td>\n",
              "      <td>NaN</td>\n",
              "      <td>NaN</td>\n",
              "    </tr>\n",
              "  </tbody>\n",
              "</table>\n",
              "</div>"
            ],
            "text/plain": [
              "                   datetime        station  ... ave_wind_speed dominant_wind_dir\n",
              "2226121 2019-12-31 23:30:00   baldy summit  ...            NaN               NaN\n",
              "2226122 2019-12-31 23:30:00   indian ridge  ...           10.9               NaN\n",
              "2226123 2019-12-31 23:30:00  orchard house  ...            6.5               NaN\n",
              "2226124 2019-12-31 23:30:00  sanfoin bench  ...            5.9               NaN\n",
              "2226125 2019-12-31 23:30:00    south baldy  ...            NaN               NaN\n",
              "\n",
              "[5 rows x 11 columns]"
            ]
          },
          "metadata": {
            "tags": []
          },
          "execution_count": 77
        }
      ]
    },
    {
      "cell_type": "markdown",
      "metadata": {
        "id": "eEbmPT7Pb18q",
        "colab_type": "text"
      },
      "source": [
        "# Output"
      ]
    },
    {
      "cell_type": "code",
      "metadata": {
        "id": "fdFpCWPQb3Ap",
        "colab_type": "code",
        "colab": {}
      },
      "source": [
        "# output includes all avaiable variables 2013 - 2019\n",
        "output = 'mpg_orchard-house_weather.csv'\n",
        "wf.to_csv(output, index=False)"
      ],
      "execution_count": 0,
      "outputs": []
    },
    {
      "cell_type": "markdown",
      "metadata": {
        "id": "GjzHK5TfZUfA",
        "colab_type": "text"
      },
      "source": [
        "Output Hosted \n",
        "* ~/Project Datasets/Weather/Orchard House/[mpg_orchard-house_weather.csv](https://drive.google.com/open?id=1NuAEDeyEy_bA0C5Q1PInIHX6mR7zUOon)"
      ]
    }
  ]
}