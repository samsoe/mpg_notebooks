{
  "nbformat": 4,
  "nbformat_minor": 0,
  "metadata": {
    "colab": {
      "name": "yvp_vegetation_cover-WRANGLE-2020.ipynb",
      "provenance": [],
      "collapsed_sections": [],
      "toc_visible": true,
      "include_colab_link": true
    },
    "kernelspec": {
      "name": "ir",
      "display_name": "R"
    }
  },
  "cells": [
    {
      "cell_type": "markdown",
      "metadata": {
        "id": "view-in-github",
        "colab_type": "text"
      },
      "source": [
        "<a href=\"https://colab.research.google.com/github/samsoe/mpg_notebooks/blob/master/yvp_vegetation_cover_WRANGLE_2020.ipynb\" target=\"_parent\"><img src=\"https://colab.research.google.com/assets/colab-badge.svg\" alt=\"Open In Colab\"/></a>"
      ]
    },
    {
      "cell_type": "markdown",
      "metadata": {
        "id": "sLoATLEdI-hh"
      },
      "source": [
        "*R Notebook*"
      ]
    },
    {
      "cell_type": "markdown",
      "metadata": {
        "id": "YZbGHbTzJQrV"
      },
      "source": [
        "# README"
      ]
    },
    {
      "cell_type": "markdown",
      "metadata": {
        "id": "G095KjDNJS6E"
      },
      "source": [
        "* [Copy of YVP - Vegetation Cover Data - Wrangle](https://colab.research.google.com/drive/1xsVJiE5Nl5SIFqjdAFvq58hcntVrn4Fw?usp=sharing)\n",
        "* [Readme fixed grid plot vegetation data](https://docs.google.com/document/d/16-Aq8u9Rudd78fSzfjvpCXyQgE-BstC-d2PjYfmLtcw/edit?usp=sharing)"
      ]
    },
    {
      "cell_type": "markdown",
      "metadata": {
        "id": "DTleZaOpPUo-"
      },
      "source": [
        "# Load Tools"
      ]
    },
    {
      "cell_type": "code",
      "metadata": {
        "id": "nQA2WSBCPXuD"
      },
      "source": [
        "# Package and library installation\n",
        "packages_needed = c(\"tidyverse\", \"gsheet\", \"lubridate\") # comma delimited vector of package names\n",
        "packages_installed = packages_needed %in% rownames(installed.packages())\n",
        "\n",
        "if (any(! packages_installed))\n",
        "  install.packages(packages_needed[! packages_installed])\n",
        "for (i in 1:length(packages_needed)) {\n",
        "  library(packages_needed[i], character.only = T)\n",
        "}"
      ],
      "execution_count": null,
      "outputs": []
    },
    {
      "cell_type": "markdown",
      "metadata": {
        "id": "RKBdNw56BzwD"
      },
      "source": [
        "# Source"
      ]
    },
    {
      "cell_type": "markdown",
      "metadata": {
        "id": "0IGE-XYCwmmJ"
      },
      "source": [
        "### vegetation cover"
      ]
    },
    {
      "cell_type": "code",
      "metadata": {
        "id": "X9t3Ks1oB3gG"
      },
      "source": [
        "# 2020-10-22_yvp_vegetation_cover_SOURCE.csv\n",
        "# https://drive.google.com/file/d/1PpCpyViLjC1_jNKLT4S7KWbduuwvQ23R/view?usp=sharing\n",
        "veg_src = 'https://drive.google.com/uc?id=1PpCpyViLjC1_jNKLT4S7KWbduuwvQ23R'"
      ],
      "execution_count": null,
      "outputs": []
    },
    {
      "cell_type": "code",
      "metadata": {
        "id": "fvU8xi8iB4SI"
      },
      "source": [
        "df_veg_initial <- read.csv(veg_src)"
      ],
      "execution_count": null,
      "outputs": []
    },
    {
      "cell_type": "code",
      "metadata": {
        "id": "YDY7IDdmB4PN",
        "outputId": "292be53c-d287-464f-f271-5998ac633a66",
        "colab": {
          "base_uri": "https://localhost:8080/"
        }
      },
      "source": [
        "df_veg_initial %>% glimpse()"
      ],
      "execution_count": null,
      "outputs": [
        {
          "output_type": "stream",
          "text": [
            "Rows: 9,150\n",
            "Columns: 7\n",
            "$ plot_num     \u001b[3m\u001b[90m<int>\u001b[39m\u001b[23m 7, 7, 7, 7, 7, 7, 7, 7, 7, 7, 7, 7, 7, 7, 7, 7, 7, 7, 7,…\n",
            "$ plot_code    \u001b[3m\u001b[90m<chr>\u001b[39m\u001b[23m \"YVP N7\", \"YVP N7\", \"YVP N7\", \"YVP N7\", \"YVP N7\", \"YVP N…\n",
            "$ date         \u001b[3m\u001b[90m<lgl>\u001b[39m\u001b[23m NA, NA, NA, NA, NA, NA, NA, NA, NA, NA, NA, NA, NA, NA, …\n",
            "$ subplot      \u001b[3m\u001b[90m<int>\u001b[39m\u001b[23m 1, 1, 1, 1, 1, 1, 1, 1, 1, 1, 1, 1, 1, 1, 1, 1, 1, 1, 2,…\n",
            "$ species_code \u001b[3m\u001b[90m<chr>\u001b[39m\u001b[23m \"ACHMIL\", \"ALYALY\", \"BROTEC\", \"CAMMIC\", \"CARE_SP\", \"COLL…\n",
            "$ cover_pct    \u001b[3m\u001b[90m<int>\u001b[39m\u001b[23m 10, 2, 10, 1, 1, 1, 1, 1, 5, 3, 15, 0, 1, 10, 4, 2, 15, …\n",
            "$ comments     \u001b[3m\u001b[90m<lgl>\u001b[39m\u001b[23m NA, NA, NA, NA, NA, NA, NA, NA, NA, NA, NA, NA, NA, NA, …\n"
          ],
          "name": "stdout"
        }
      ]
    },
    {
      "cell_type": "markdown",
      "metadata": {
        "id": "i_9gB8YYwpdS"
      },
      "source": [
        "## survey metadata"
      ]
    },
    {
      "cell_type": "code",
      "metadata": {
        "id": "en7hUGDmwrIg"
      },
      "source": [
        "# 2020-10-22_yvp_survey_metadata_SOURCE.csv\n",
        "# https://drive.google.com/file/d/19I0quIj8ALzP91VkxxIR-D1PWgXRZ_90/view?usp=sharing\n",
        "src_meta <- 'https://drive.google.com/uc?id=19I0quIj8ALzP91VkxxIR-D1PWgXRZ_90'"
      ],
      "execution_count": null,
      "outputs": []
    },
    {
      "cell_type": "code",
      "metadata": {
        "id": "a3YwKtYOxLJQ",
        "outputId": "50f1312d-4cce-4cc7-b1c8-386008512933",
        "colab": {
          "base_uri": "https://localhost:8080/"
        }
      },
      "source": [
        "df_meta_full <- read_csv(src_meta)"
      ],
      "execution_count": null,
      "outputs": [
        {
          "output_type": "stream",
          "text": [
            "\n",
            "\u001b[36m──\u001b[39m \u001b[1m\u001b[1mColumn specification\u001b[1m\u001b[22m \u001b[36m────────────────────────────────────────────────────────\u001b[39m\n",
            "cols(\n",
            "  Plot = \u001b[31mcol_character()\u001b[39m,\n",
            "  Date = \u001b[31mcol_character()\u001b[39m,\n",
            "  Initials = \u001b[31mcol_character()\u001b[39m,\n",
            "  `GPS Lat 1` = \u001b[32mcol_double()\u001b[39m,\n",
            "  `GPS Long 1` = \u001b[32mcol_double()\u001b[39m,\n",
            "  `GPS Lat 2` = \u001b[32mcol_double()\u001b[39m,\n",
            "  `GPS Long 2` = \u001b[32mcol_double()\u001b[39m,\n",
            "  Azimuth = \u001b[32mcol_double()\u001b[39m,\n",
            "  `comments 2020` = \u001b[31mcol_character()\u001b[39m,\n",
            "  `Comments 2019` = \u001b[31mcol_character()\u001b[39m,\n",
            "  `Comments 2018` = \u001b[31mcol_character()\u001b[39m,\n",
            "  `Comments 2017` = \u001b[31mcol_character()\u001b[39m\n",
            ")\n",
            "\n",
            "\n"
          ],
          "name": "stderr"
        }
      ]
    },
    {
      "cell_type": "code",
      "metadata": {
        "id": "J69QZOkKxOZA"
      },
      "source": [
        "# cast to date datatype\n",
        "df_meta_full$Date <- mdy(df_meta_full$Date)"
      ],
      "execution_count": null,
      "outputs": []
    },
    {
      "cell_type": "code",
      "metadata": {
        "id": "FnA1D3snxm2i",
        "outputId": "53d59fc9-8f2c-4bde-98ee-81a2d6318c8e",
        "colab": {
          "base_uri": "https://localhost:8080/"
        }
      },
      "source": [
        "df_meta <- df_meta_full %>%\n",
        "  filter(year(df_meta_full$Date) == 2020) %>%\n",
        "  select(Plot, Date) %>%\n",
        "  glimpse()"
      ],
      "execution_count": null,
      "outputs": [
        {
          "output_type": "stream",
          "text": [
            "Rows: 58\n",
            "Columns: 2\n",
            "$ Plot \u001b[3m\u001b[90m<chr>\u001b[39m\u001b[23m \"NA294\", \"NB294\", \"NC294\", \"N324\", \"N321\", \"NA292\", \"NB292\", \"14…\n",
            "$ Date \u001b[3m\u001b[90m<date>\u001b[39m\u001b[23m 2020-05-09, 2020-05-09, 2020-05-09, 2020-05-09, 2020-05-13, 202…\n"
          ],
          "name": "stdout"
        }
      ]
    },
    {
      "cell_type": "markdown",
      "metadata": {
        "id": "vWE7DkCs3lGY"
      },
      "source": [
        "## vegetation metadata"
      ]
    },
    {
      "cell_type": "code",
      "metadata": {
        "id": "8WuVRKO03oCr",
        "outputId": "4268ac9d-8f93-4df2-dc10-78cd5b8cd4fe",
        "colab": {
          "base_uri": "https://localhost:8080/"
        }
      },
      "source": [
        "install.packages(\"bigrquery\")\n",
        "library(bigrquery)"
      ],
      "execution_count": null,
      "outputs": [
        {
          "output_type": "stream",
          "text": [
            "Installing package into ‘/usr/local/lib/R/site-library’\n",
            "(as ‘lib’ is unspecified)\n",
            "\n",
            "also installing the dependencies ‘bit’, ‘bit64’, ‘gargle’, ‘rapidjsonr’\n",
            "\n",
            "\n"
          ],
          "name": "stderr"
        }
      ]
    },
    {
      "cell_type": "code",
      "metadata": {
        "id": "o2O10COF3rz_"
      },
      "source": [
        "# BigQuery API Key\n",
        "bq_auth(path = \"/content/mpg-data-warehouse-api_key-master.json\")\n",
        "Sys.setenv(BIGQUERY_TEST_PROJECT = \"mpg-data-warehouse\")\n",
        "billing <- bq_test_project()"
      ],
      "execution_count": null,
      "outputs": []
    },
    {
      "cell_type": "code",
      "metadata": {
        "id": "iL909iyH3uGw"
      },
      "source": [
        "sql_metaveg <- \n",
        "  \"\n",
        "  SELECT key_plant_species, key_plant_code\n",
        "  FROM `mpg-data-warehouse.vegetation_species_metadata.vegetation_species_metadata`\n",
        "  \""
      ],
      "execution_count": null,
      "outputs": []
    },
    {
      "cell_type": "code",
      "metadata": {
        "id": "6kMqTXE23zse",
        "outputId": "a72eaf18-bc43-419c-d4c7-de765c6f58cd",
        "colab": {
          "base_uri": "https://localhost:8080/"
        }
      },
      "source": [
        "bq_metaveg <- bq_project_query(billing, sql_metaveg)\n",
        "tb_metaveg <- bq_table_download(bq_metaveg)\n",
        "df_metaveg <- \n",
        "  as.data.frame(tb_metaveg) %>% glimpse()"
      ],
      "execution_count": null,
      "outputs": [
        {
          "output_type": "stream",
          "text": [
            "Rows: 754\n",
            "Columns: 2\n",
            "$ key_plant_species \u001b[3m\u001b[90m<int>\u001b[39m\u001b[23m 360, 13, 26, 53, 738, 75, 76, 746, 83, 88, 86, 87, …\n",
            "$ key_plant_code    \u001b[3m\u001b[90m<chr>\u001b[39m\u001b[23m \"NV\", \"AGRSCA\", \"ANDGER\", \"ARIPUR\", \"BOUCUR\", \"BOUG…\n"
          ],
          "name": "stdout"
        }
      ]
    },
    {
      "cell_type": "markdown",
      "metadata": {
        "id": "hH-_99bsKRVn"
      },
      "source": [
        "# Wrangle"
      ]
    },
    {
      "cell_type": "markdown",
      "metadata": {
        "id": "P_3Rq2-4OVsJ"
      },
      "source": [
        "## Structure columns"
      ]
    },
    {
      "cell_type": "markdown",
      "metadata": {
        "id": "v3OVKR2zFNXG"
      },
      "source": [
        "### Plot Code Transformation\n",
        "The plot code used in the source data is a complex string. It is needed to provide a unique key to each survey location, but because it is a string it is difficult to sort or filter plots. Further, the plot codes used here will be difficult to associate with the extensive grid point metadata stored elsewhere in the MPG Data Warehouse. \n",
        "\n",
        "Solution: paste the separate identifers from the plot code into separate fields, but retain the original character string for internal use."
      ]
    },
    {
      "cell_type": "markdown",
      "metadata": {
        "id": "801b78aYKc5B"
      },
      "source": [
        "#### plot_code"
      ]
    },
    {
      "cell_type": "code",
      "metadata": {
        "id": "ky8xiSEzKSCb",
        "outputId": "9402a6e0-c2ae-448e-ba6a-7cd40468eaba",
        "colab": {
          "base_uri": "https://localhost:8080/",
          "height": 34
        }
      },
      "source": [
        "typeof(df_veg_initial$plot_code)"
      ],
      "execution_count": null,
      "outputs": [
        {
          "output_type": "display_data",
          "data": {
            "text/plain": [
              "[1] \"character\""
            ],
            "text/latex": "'character'",
            "text/markdown": "'character'",
            "text/html": [
              "'character'"
            ]
          },
          "metadata": {
            "tags": []
          }
        }
      ]
    },
    {
      "cell_type": "markdown",
      "metadata": {
        "id": "L2yzHLKuP4oz"
      },
      "source": [
        "#### plot_ loc"
      ]
    },
    {
      "cell_type": "code",
      "metadata": {
        "id": "x42pThVsQeuS",
        "outputId": "2cc416d3-e785-45e8-dc56-507bd84509b6",
        "colab": {
          "base_uri": "https://localhost:8080/"
        }
      },
      "source": [
        "# detect \"N\" in 'plot_code' and write to new column 'plot_loc'\n",
        "# df <- \n",
        "df_loc <- df_veg_initial %>%\n",
        "  mutate(plot_loc = ifelse(str_detect(plot_code, \"N\"), \"N\", NA)) %>% \n",
        "  select(plot_code, plot_loc, plot_num, subplot, species_code, cover_pct) %>% glimpse()"
      ],
      "execution_count": null,
      "outputs": [
        {
          "output_type": "stream",
          "text": [
            "Rows: 9,150\n",
            "Columns: 6\n",
            "$ plot_code    \u001b[3m\u001b[90m<chr>\u001b[39m\u001b[23m \"YVP N7\", \"YVP N7\", \"YVP N7\", \"YVP N7\", \"YVP N7\", \"YVP N…\n",
            "$ plot_loc     \u001b[3m\u001b[90m<chr>\u001b[39m\u001b[23m \"N\", \"N\", \"N\", \"N\", \"N\", \"N\", \"N\", \"N\", \"N\", \"N\", \"N\", \"…\n",
            "$ plot_num     \u001b[3m\u001b[90m<int>\u001b[39m\u001b[23m 7, 7, 7, 7, 7, 7, 7, 7, 7, 7, 7, 7, 7, 7, 7, 7, 7, 7, 7,…\n",
            "$ subplot      \u001b[3m\u001b[90m<int>\u001b[39m\u001b[23m 1, 1, 1, 1, 1, 1, 1, 1, 1, 1, 1, 1, 1, 1, 1, 1, 1, 1, 2,…\n",
            "$ species_code \u001b[3m\u001b[90m<chr>\u001b[39m\u001b[23m \"ACHMIL\", \"ALYALY\", \"BROTEC\", \"CAMMIC\", \"CARE_SP\", \"COLL…\n",
            "$ cover_pct    \u001b[3m\u001b[90m<int>\u001b[39m\u001b[23m 10, 2, 10, 1, 1, 1, 1, 1, 5, 3, 15, 0, 1, 10, 4, 2, 15, …\n"
          ],
          "name": "stdout"
        }
      ]
    },
    {
      "cell_type": "markdown",
      "metadata": {
        "id": "0FWBUqUqWSNm"
      },
      "source": [
        "#### plot_rep"
      ]
    },
    {
      "cell_type": "code",
      "metadata": {
        "id": "qNVlve_WWY9a",
        "outputId": "e7809d89-6f69-4aac-af57-62f2429c7466",
        "colab": {
          "base_uri": "https://localhost:8080/"
        }
      },
      "source": [
        "# detect \"A\", \"B\", \"C\" characters in plot_code and if present write to 'plot_rep'\n",
        "df_rep <- df_loc %>%\n",
        "  mutate(plot_rep = case_when(str_detect(plot_code, \"A\")~\"A\",\n",
        "                              str_detect(plot_code, \"B\")~\"B\",\n",
        "                              str_detect(plot_code, \"C\")~\"C\")) %>%\n",
        "         select(plot_code, plot_loc, plot_rep, plot_num, subplot, species_code, cover_pct) %>% glimpse()"
      ],
      "execution_count": null,
      "outputs": [
        {
          "output_type": "stream",
          "text": [
            "Rows: 9,150\n",
            "Columns: 7\n",
            "$ plot_code    \u001b[3m\u001b[90m<chr>\u001b[39m\u001b[23m \"YVP N7\", \"YVP N7\", \"YVP N7\", \"YVP N7\", \"YVP N7\", \"YVP N…\n",
            "$ plot_loc     \u001b[3m\u001b[90m<chr>\u001b[39m\u001b[23m \"N\", \"N\", \"N\", \"N\", \"N\", \"N\", \"N\", \"N\", \"N\", \"N\", \"N\", \"…\n",
            "$ plot_rep     \u001b[3m\u001b[90m<chr>\u001b[39m\u001b[23m NA, NA, NA, NA, NA, NA, NA, NA, NA, NA, NA, NA, NA, NA, …\n",
            "$ plot_num     \u001b[3m\u001b[90m<int>\u001b[39m\u001b[23m 7, 7, 7, 7, 7, 7, 7, 7, 7, 7, 7, 7, 7, 7, 7, 7, 7, 7, 7,…\n",
            "$ subplot      \u001b[3m\u001b[90m<int>\u001b[39m\u001b[23m 1, 1, 1, 1, 1, 1, 1, 1, 1, 1, 1, 1, 1, 1, 1, 1, 1, 1, 2,…\n",
            "$ species_code \u001b[3m\u001b[90m<chr>\u001b[39m\u001b[23m \"ACHMIL\", \"ALYALY\", \"BROTEC\", \"CAMMIC\", \"CARE_SP\", \"COLL…\n",
            "$ cover_pct    \u001b[3m\u001b[90m<int>\u001b[39m\u001b[23m 10, 2, 10, 1, 1, 1, 1, 1, 5, 3, 15, 0, 1, 10, 4, 2, 15, …\n"
          ],
          "name": "stdout"
        }
      ]
    },
    {
      "cell_type": "markdown",
      "metadata": {
        "id": "R8DYL00Fb0Lu"
      },
      "source": [
        "#### grid_point"
      ]
    },
    {
      "cell_type": "code",
      "metadata": {
        "id": "GB_RxW35YO39",
        "outputId": "6b39ea2d-b5ab-4ee1-b0b6-36dce555b239",
        "colab": {
          "base_uri": "https://localhost:8080/"
        }
      },
      "source": [
        "# update variable name to grid_point\n",
        "df_grid <- df_rep %>% \n",
        "  rename(grid_point = plot_num) %>% glimpse()"
      ],
      "execution_count": null,
      "outputs": [
        {
          "output_type": "stream",
          "text": [
            "Rows: 9,150\n",
            "Columns: 7\n",
            "$ plot_code    \u001b[3m\u001b[90m<chr>\u001b[39m\u001b[23m \"YVP N7\", \"YVP N7\", \"YVP N7\", \"YVP N7\", \"YVP N7\", \"YVP N…\n",
            "$ plot_loc     \u001b[3m\u001b[90m<chr>\u001b[39m\u001b[23m \"N\", \"N\", \"N\", \"N\", \"N\", \"N\", \"N\", \"N\", \"N\", \"N\", \"N\", \"…\n",
            "$ plot_rep     \u001b[3m\u001b[90m<chr>\u001b[39m\u001b[23m NA, NA, NA, NA, NA, NA, NA, NA, NA, NA, NA, NA, NA, NA, …\n",
            "$ grid_point   \u001b[3m\u001b[90m<int>\u001b[39m\u001b[23m 7, 7, 7, 7, 7, 7, 7, 7, 7, 7, 7, 7, 7, 7, 7, 7, 7, 7, 7,…\n",
            "$ subplot      \u001b[3m\u001b[90m<int>\u001b[39m\u001b[23m 1, 1, 1, 1, 1, 1, 1, 1, 1, 1, 1, 1, 1, 1, 1, 1, 1, 1, 2,…\n",
            "$ species_code \u001b[3m\u001b[90m<chr>\u001b[39m\u001b[23m \"ACHMIL\", \"ALYALY\", \"BROTEC\", \"CAMMIC\", \"CARE_SP\", \"COLL…\n",
            "$ cover_pct    \u001b[3m\u001b[90m<int>\u001b[39m\u001b[23m 10, 2, 10, 1, 1, 1, 1, 1, 5, 3, 15, 0, 1, 10, 4, 2, 15, …\n"
          ],
          "name": "stdout"
        }
      ]
    },
    {
      "cell_type": "markdown",
      "metadata": {
        "id": "ULsKFbhjNZ3p"
      },
      "source": [
        "### date"
      ]
    },
    {
      "cell_type": "code",
      "metadata": {
        "id": "V6vmU8-ryxfD",
        "outputId": "2e8f46d2-8c8c-4b9c-a3ec-7e3b11c163cf",
        "colab": {
          "base_uri": "https://localhost:8080/"
        }
      },
      "source": [
        "# create Plot in df_grid_point to enable join\n",
        "df_join <- df_grid %>% \n",
        "  mutate(Plot = str_sub(plot_code, 5)) %>% glimpse()"
      ],
      "execution_count": null,
      "outputs": [
        {
          "output_type": "stream",
          "text": [
            "Rows: 9,150\n",
            "Columns: 8\n",
            "$ plot_code    \u001b[3m\u001b[90m<chr>\u001b[39m\u001b[23m \"YVP N7\", \"YVP N7\", \"YVP N7\", \"YVP N7\", \"YVP N7\", \"YVP N…\n",
            "$ plot_loc     \u001b[3m\u001b[90m<chr>\u001b[39m\u001b[23m \"N\", \"N\", \"N\", \"N\", \"N\", \"N\", \"N\", \"N\", \"N\", \"N\", \"N\", \"…\n",
            "$ plot_rep     \u001b[3m\u001b[90m<chr>\u001b[39m\u001b[23m NA, NA, NA, NA, NA, NA, NA, NA, NA, NA, NA, NA, NA, NA, …\n",
            "$ grid_point   \u001b[3m\u001b[90m<int>\u001b[39m\u001b[23m 7, 7, 7, 7, 7, 7, 7, 7, 7, 7, 7, 7, 7, 7, 7, 7, 7, 7, 7,…\n",
            "$ subplot      \u001b[3m\u001b[90m<int>\u001b[39m\u001b[23m 1, 1, 1, 1, 1, 1, 1, 1, 1, 1, 1, 1, 1, 1, 1, 1, 1, 1, 2,…\n",
            "$ species_code \u001b[3m\u001b[90m<chr>\u001b[39m\u001b[23m \"ACHMIL\", \"ALYALY\", \"BROTEC\", \"CAMMIC\", \"CARE_SP\", \"COLL…\n",
            "$ cover_pct    \u001b[3m\u001b[90m<int>\u001b[39m\u001b[23m 10, 2, 10, 1, 1, 1, 1, 1, 5, 3, 15, 0, 1, 10, 4, 2, 15, …\n",
            "$ Plot         \u001b[3m\u001b[90m<chr>\u001b[39m\u001b[23m \"N7\", \"N7\", \"N7\", \"N7\", \"N7\", \"N7\", \"N7\", \"N7\", \"N7\", \"N…\n"
          ],
          "name": "stdout"
        }
      ]
    },
    {
      "cell_type": "code",
      "metadata": {
        "id": "qJREtrbNNBro",
        "outputId": "14b76ce8-c3c6-47fe-e339-ea7c9ee6edf9",
        "colab": {
          "base_uri": "https://localhost:8080/"
        }
      },
      "source": [
        "# date:ISO\n",
        "# With 2020 data, create via join with survey_metadata\n",
        "df_date <- df_join %>% \n",
        "  left_join(df_meta, by = c(\"Plot\" = \"Plot\")) %>%\n",
        "  rename(date = Date) %>%\n",
        "  select(plot_code, plot_loc, plot_rep, grid_point, date, subplot, species_code, cover_pct) %>% glimpse()"
      ],
      "execution_count": null,
      "outputs": [
        {
          "output_type": "stream",
          "text": [
            "Rows: 9,150\n",
            "Columns: 8\n",
            "$ plot_code    \u001b[3m\u001b[90m<chr>\u001b[39m\u001b[23m \"YVP N7\", \"YVP N7\", \"YVP N7\", \"YVP N7\", \"YVP N7\", \"YVP N…\n",
            "$ plot_loc     \u001b[3m\u001b[90m<chr>\u001b[39m\u001b[23m \"N\", \"N\", \"N\", \"N\", \"N\", \"N\", \"N\", \"N\", \"N\", \"N\", \"N\", \"…\n",
            "$ plot_rep     \u001b[3m\u001b[90m<chr>\u001b[39m\u001b[23m NA, NA, NA, NA, NA, NA, NA, NA, NA, NA, NA, NA, NA, NA, …\n",
            "$ grid_point   \u001b[3m\u001b[90m<int>\u001b[39m\u001b[23m 7, 7, 7, 7, 7, 7, 7, 7, 7, 7, 7, 7, 7, 7, 7, 7, 7, 7, 7,…\n",
            "$ date         \u001b[3m\u001b[90m<date>\u001b[39m\u001b[23m 2020-05-31, 2020-05-31, 2020-05-31, 2020-05-31, 2020-05…\n",
            "$ subplot      \u001b[3m\u001b[90m<int>\u001b[39m\u001b[23m 1, 1, 1, 1, 1, 1, 1, 1, 1, 1, 1, 1, 1, 1, 1, 1, 1, 1, 2,…\n",
            "$ species_code \u001b[3m\u001b[90m<chr>\u001b[39m\u001b[23m \"ACHMIL\", \"ALYALY\", \"BROTEC\", \"CAMMIC\", \"CARE_SP\", \"COLL…\n",
            "$ cover_pct    \u001b[3m\u001b[90m<int>\u001b[39m\u001b[23m 10, 2, 10, 1, 1, 1, 1, 1, 5, 3, 15, 0, 1, 10, 4, 2, 15, …\n"
          ],
          "name": "stdout"
        }
      ]
    },
    {
      "cell_type": "markdown",
      "metadata": {
        "id": "uRiMTPiIpiFj"
      },
      "source": [
        "### subplot"
      ]
    },
    {
      "cell_type": "code",
      "metadata": {
        "id": "Dr40XXIQpje1",
        "outputId": "47d367df-8593-44b0-c1ea-11a33b2a6e3e",
        "colab": {
          "base_uri": "https://localhost:8080/",
          "height": 34
        }
      },
      "source": [
        "typeof(df_date$subplot)"
      ],
      "execution_count": null,
      "outputs": [
        {
          "output_type": "display_data",
          "data": {
            "text/plain": [
              "[1] \"integer\""
            ],
            "text/latex": "'integer'",
            "text/markdown": "'integer'",
            "text/html": [
              "'integer'"
            ]
          },
          "metadata": {
            "tags": []
          }
        }
      ]
    },
    {
      "cell_type": "markdown",
      "metadata": {
        "id": "H_G-7PpcpTP8"
      },
      "source": [
        "### key_plant_species"
      ]
    },
    {
      "cell_type": "markdown",
      "metadata": {
        "id": "4wgbJusKpZWd"
      },
      "source": [
        "This will be imported from the plant species metadata table, and we can use it to join and correct species codes in the future"
      ]
    },
    {
      "cell_type": "code",
      "metadata": {
        "id": "oCAMQhvj3-hh",
        "outputId": "cbc65b4f-86dd-43f0-b735-1aef8647e10d",
        "colab": {
          "base_uri": "https://localhost:8080/"
        }
      },
      "source": [
        "df_date %>% glimpse()"
      ],
      "execution_count": null,
      "outputs": [
        {
          "output_type": "stream",
          "text": [
            "Rows: 9,150\n",
            "Columns: 8\n",
            "$ plot_code    \u001b[3m\u001b[90m<chr>\u001b[39m\u001b[23m \"YVP N7\", \"YVP N7\", \"YVP N7\", \"YVP N7\", \"YVP N7\", \"YVP N…\n",
            "$ plot_loc     \u001b[3m\u001b[90m<chr>\u001b[39m\u001b[23m \"N\", \"N\", \"N\", \"N\", \"N\", \"N\", \"N\", \"N\", \"N\", \"N\", \"N\", \"…\n",
            "$ plot_rep     \u001b[3m\u001b[90m<chr>\u001b[39m\u001b[23m NA, NA, NA, NA, NA, NA, NA, NA, NA, NA, NA, NA, NA, NA, …\n",
            "$ grid_point   \u001b[3m\u001b[90m<int>\u001b[39m\u001b[23m 7, 7, 7, 7, 7, 7, 7, 7, 7, 7, 7, 7, 7, 7, 7, 7, 7, 7, 7,…\n",
            "$ date         \u001b[3m\u001b[90m<date>\u001b[39m\u001b[23m 2020-05-31, 2020-05-31, 2020-05-31, 2020-05-31, 2020-05…\n",
            "$ subplot      \u001b[3m\u001b[90m<int>\u001b[39m\u001b[23m 1, 1, 1, 1, 1, 1, 1, 1, 1, 1, 1, 1, 1, 1, 1, 1, 1, 1, 2,…\n",
            "$ species_code \u001b[3m\u001b[90m<chr>\u001b[39m\u001b[23m \"ACHMIL\", \"ALYALY\", \"BROTEC\", \"CAMMIC\", \"CARE_SP\", \"COLL…\n",
            "$ cover_pct    \u001b[3m\u001b[90m<int>\u001b[39m\u001b[23m 10, 2, 10, 1, 1, 1, 1, 1, 5, 3, 15, 0, 1, 10, 4, 2, 15, …\n"
          ],
          "name": "stdout"
        }
      ]
    },
    {
      "cell_type": "code",
      "metadata": {
        "id": "12tDCH1L4F4x",
        "outputId": "8fb1b26e-6820-4bde-b1f7-2de944f142e8",
        "colab": {
          "base_uri": "https://localhost:8080/"
        }
      },
      "source": [
        "df_metaveg %>% glimpse()"
      ],
      "execution_count": null,
      "outputs": [
        {
          "output_type": "stream",
          "text": [
            "Rows: 754\n",
            "Columns: 2\n",
            "$ key_plant_species \u001b[3m\u001b[90m<int>\u001b[39m\u001b[23m 360, 13, 26, 53, 738, 75, 76, 746, 83, 88, 86, 87, …\n",
            "$ key_plant_code    \u001b[3m\u001b[90m<chr>\u001b[39m\u001b[23m \"NV\", \"AGRSCA\", \"ANDGER\", \"ARIPUR\", \"BOUCUR\", \"BOUG…\n"
          ],
          "name": "stdout"
        }
      ]
    },
    {
      "cell_type": "code",
      "metadata": {
        "id": "F8VCLQma4IIZ",
        "outputId": "c19a8b0c-3828-4456-aa57-01dea12c0e68",
        "colab": {
          "base_uri": "https://localhost:8080/"
        }
      },
      "source": [
        "df_species <- df_date %>%\n",
        "  left_join(df_metaveg, by = c(\"species_code\" = \"key_plant_code\")) %>% \n",
        "  select(plot_code, plot_loc, plot_rep, grid_point, date, subplot, key_plant_species, species_code, cover_pct) %>% glimpse()"
      ],
      "execution_count": null,
      "outputs": [
        {
          "output_type": "stream",
          "text": [
            "Rows: 9,150\n",
            "Columns: 9\n",
            "$ plot_code         \u001b[3m\u001b[90m<chr>\u001b[39m\u001b[23m \"YVP N7\", \"YVP N7\", \"YVP N7\", \"YVP N7\", \"YVP N7\", \"…\n",
            "$ plot_loc          \u001b[3m\u001b[90m<chr>\u001b[39m\u001b[23m \"N\", \"N\", \"N\", \"N\", \"N\", \"N\", \"N\", \"N\", \"N\", \"N\", \"…\n",
            "$ plot_rep          \u001b[3m\u001b[90m<chr>\u001b[39m\u001b[23m NA, NA, NA, NA, NA, NA, NA, NA, NA, NA, NA, NA, NA,…\n",
            "$ grid_point        \u001b[3m\u001b[90m<int>\u001b[39m\u001b[23m 7, 7, 7, 7, 7, 7, 7, 7, 7, 7, 7, 7, 7, 7, 7, 7, 7, …\n",
            "$ date              \u001b[3m\u001b[90m<date>\u001b[39m\u001b[23m 2020-05-31, 2020-05-31, 2020-05-31, 2020-05-31, 20…\n",
            "$ subplot           \u001b[3m\u001b[90m<int>\u001b[39m\u001b[23m 1, 1, 1, 1, 1, 1, 1, 1, 1, 1, 1, 1, 1, 1, 1, 1, 1, …\n",
            "$ key_plant_species \u001b[3m\u001b[90m<int>\u001b[39m\u001b[23m 5, 20, 82, 90, 113, 153, 187, 202, 233, 266, 286, 3…\n",
            "$ species_code      \u001b[3m\u001b[90m<chr>\u001b[39m\u001b[23m \"ACHMIL\", \"ALYALY\", \"BROTEC\", \"CAMMIC\", \"CARE_SP\", …\n",
            "$ cover_pct         \u001b[3m\u001b[90m<int>\u001b[39m\u001b[23m 10, 2, 10, 1, 1, 1, 1, 1, 5, 3, 15, 0, 1, 10, 4, 2,…\n"
          ],
          "name": "stdout"
        }
      ]
    },
    {
      "cell_type": "code",
      "metadata": {
        "id": "P8pPXRJASru1",
        "outputId": "d3e0a825-b696-49d0-b16f-e2929ed52254",
        "colab": {
          "base_uri": "https://localhost:8080/",
          "height": 425
        }
      },
      "source": [
        "summary(df_species)"
      ],
      "execution_count": null,
      "outputs": [
        {
          "output_type": "display_data",
          "data": {
            "text/plain": [
              "  plot_code           plot_loc           plot_rep           grid_point   \n",
              " Length:9150        Length:9150        Length:9150        Min.   :  7.0  \n",
              " Class :character   Class :character   Class :character   1st Qu.: 64.0  \n",
              " Mode  :character   Mode  :character   Mode  :character   Median :209.0  \n",
              "                                                          Mean   :250.1  \n",
              "                                                          3rd Qu.:395.0  \n",
              "                                                          Max.   :571.0  \n",
              "                                                                         \n",
              "      date               subplot       key_plant_species species_code      \n",
              " Min.   :2020-05-09   Min.   : 1.000   Min.   :  3.0     Length:9150       \n",
              " 1st Qu.:2020-05-22   1st Qu.: 3.000   1st Qu.:153.0     Class :character  \n",
              " Median :2020-06-05   Median : 6.000   Median :286.0     Mode  :character  \n",
              " Mean   :2020-06-03   Mean   : 5.518   Mean   :280.7                       \n",
              " 3rd Qu.:2020-06-17   3rd Qu.: 8.000   3rd Qu.:411.0                       \n",
              " Max.   :2020-07-01   Max.   :10.000   Max.   :784.0                       \n",
              "                                       NA's   :2                           \n",
              "   cover_pct     \n",
              " Min.   : 0.000  \n",
              " 1st Qu.: 1.000  \n",
              " Median : 1.000  \n",
              " Mean   : 4.219  \n",
              " 3rd Qu.: 3.000  \n",
              " Max.   :80.000  \n",
              "                 "
            ]
          },
          "metadata": {
            "tags": []
          }
        }
      ]
    },
    {
      "cell_type": "code",
      "metadata": {
        "id": "TFqFVkLQS8rT",
        "outputId": "891e03d4-089e-4a0a-8671-d7d36484455f",
        "colab": {
          "base_uri": "https://localhost:8080/",
          "height": 120
        }
      },
      "source": [
        "# inspect NA key_plant_species\n",
        "df_species %>%\n",
        "  filter(is.na(key_plant_species))"
      ],
      "execution_count": null,
      "outputs": [
        {
          "output_type": "display_data",
          "data": {
            "text/plain": [
              "  plot_code plot_loc plot_rep grid_point date       subplot key_plant_species\n",
              "1 YVP NB294 N        B        294        2020-05-09 8       NA               \n",
              "2 YVP 468   NA       NA       468        2020-07-01 3       NA               \n",
              "  species_code cover_pct\n",
              "1 ARAB_SP      1        \n",
              "2 FESC_SP      2        "
            ],
            "text/latex": "A data.frame: 2 × 9\n\\begin{tabular}{lllllllll}\n plot\\_code & plot\\_loc & plot\\_rep & grid\\_point & date & subplot & key\\_plant\\_species & species\\_code & cover\\_pct\\\\\n <chr> & <chr> & <chr> & <int> & <date> & <int> & <int> & <chr> & <int>\\\\\n\\hline\n\t YVP NB294 & N  & B  & 294 & 2020-05-09 & 8 & NA & ARAB\\_SP & 1\\\\\n\t YVP 468   & NA & NA & 468 & 2020-07-01 & 3 & NA & FESC\\_SP & 2\\\\\n\\end{tabular}\n",
            "text/markdown": "\nA data.frame: 2 × 9\n\n| plot_code &lt;chr&gt; | plot_loc &lt;chr&gt; | plot_rep &lt;chr&gt; | grid_point &lt;int&gt; | date &lt;date&gt; | subplot &lt;int&gt; | key_plant_species &lt;int&gt; | species_code &lt;chr&gt; | cover_pct &lt;int&gt; |\n|---|---|---|---|---|---|---|---|---|\n| YVP NB294 | N  | B  | 294 | 2020-05-09 | 8 | NA | ARAB_SP | 1 |\n| YVP 468   | NA | NA | 468 | 2020-07-01 | 3 | NA | FESC_SP | 2 |\n\n",
            "text/html": [
              "<table>\n",
              "<caption>A data.frame: 2 × 9</caption>\n",
              "<thead>\n",
              "\t<tr><th scope=col>plot_code</th><th scope=col>plot_loc</th><th scope=col>plot_rep</th><th scope=col>grid_point</th><th scope=col>date</th><th scope=col>subplot</th><th scope=col>key_plant_species</th><th scope=col>species_code</th><th scope=col>cover_pct</th></tr>\n",
              "\t<tr><th scope=col>&lt;chr&gt;</th><th scope=col>&lt;chr&gt;</th><th scope=col>&lt;chr&gt;</th><th scope=col>&lt;int&gt;</th><th scope=col>&lt;date&gt;</th><th scope=col>&lt;int&gt;</th><th scope=col>&lt;int&gt;</th><th scope=col>&lt;chr&gt;</th><th scope=col>&lt;int&gt;</th></tr>\n",
              "</thead>\n",
              "<tbody>\n",
              "\t<tr><td>YVP NB294</td><td>N </td><td>B </td><td>294</td><td>2020-05-09</td><td>8</td><td>NA</td><td>ARAB_SP</td><td>1</td></tr>\n",
              "\t<tr><td>YVP 468  </td><td>NA</td><td>NA</td><td>468</td><td>2020-07-01</td><td>3</td><td>NA</td><td>FESC_SP</td><td>2</td></tr>\n",
              "</tbody>\n",
              "</table>\n"
            ]
          },
          "metadata": {
            "tags": []
          }
        }
      ]
    },
    {
      "cell_type": "markdown",
      "metadata": {
        "id": "d7RW6V3ZWGmg"
      },
      "source": [
        "### key_plant_code"
      ]
    },
    {
      "cell_type": "code",
      "metadata": {
        "id": "1CmtWg-EWIDc",
        "outputId": "96d60e4c-d4b3-44c5-aa60-bf23d70a4bcb",
        "colab": {
          "base_uri": "https://localhost:8080/"
        }
      },
      "source": [
        "# rename variable from species_code to key_plant_code\n",
        "df_code <- df_species %>%\n",
        "  rename(key_plant_code = species_code) %>% glimpse()"
      ],
      "execution_count": null,
      "outputs": [
        {
          "output_type": "stream",
          "text": [
            "Rows: 9,150\n",
            "Columns: 9\n",
            "$ plot_code         \u001b[3m\u001b[90m<chr>\u001b[39m\u001b[23m \"YVP N7\", \"YVP N7\", \"YVP N7\", \"YVP N7\", \"YVP N7\", \"…\n",
            "$ plot_loc          \u001b[3m\u001b[90m<chr>\u001b[39m\u001b[23m \"N\", \"N\", \"N\", \"N\", \"N\", \"N\", \"N\", \"N\", \"N\", \"N\", \"…\n",
            "$ plot_rep          \u001b[3m\u001b[90m<chr>\u001b[39m\u001b[23m NA, NA, NA, NA, NA, NA, NA, NA, NA, NA, NA, NA, NA,…\n",
            "$ grid_point        \u001b[3m\u001b[90m<int>\u001b[39m\u001b[23m 7, 7, 7, 7, 7, 7, 7, 7, 7, 7, 7, 7, 7, 7, 7, 7, 7, …\n",
            "$ date              \u001b[3m\u001b[90m<date>\u001b[39m\u001b[23m 2020-05-31, 2020-05-31, 2020-05-31, 2020-05-31, 20…\n",
            "$ subplot           \u001b[3m\u001b[90m<int>\u001b[39m\u001b[23m 1, 1, 1, 1, 1, 1, 1, 1, 1, 1, 1, 1, 1, 1, 1, 1, 1, …\n",
            "$ key_plant_species \u001b[3m\u001b[90m<int>\u001b[39m\u001b[23m 5, 20, 82, 90, 113, 153, 187, 202, 233, 266, 286, 3…\n",
            "$ key_plant_code    \u001b[3m\u001b[90m<chr>\u001b[39m\u001b[23m \"ACHMIL\", \"ALYALY\", \"BROTEC\", \"CAMMIC\", \"CARE_SP\", …\n",
            "$ cover_pct         \u001b[3m\u001b[90m<int>\u001b[39m\u001b[23m 10, 2, 10, 1, 1, 1, 1, 1, 5, 3, 15, 0, 1, 10, 4, 2,…\n"
          ],
          "name": "stdout"
        }
      ]
    },
    {
      "cell_type": "markdown",
      "metadata": {
        "id": "S5UZM86eOSi-"
      },
      "source": [
        "## Identify Double Counted Species\n",
        "In a few instances, a plant species is counted twice in the same survey subplot. This could inflate the cover reported for that species. In these cases, the desired end product is to have just one row for each. When the reported percent cover differs between repeated entries, we cannot tell which one is correct. We used the following algorithm to process these repeated or double counts:\n",
        "\n",
        "* If the cover_pct values are equal, simply delete one of the rows\n",
        "* If the cover_pct values are not equal, delete one of the rows and change cover_pct for the remaining one to NA"
      ]
    },
    {
      "cell_type": "code",
      "metadata": {
        "id": "S1zKtNFnjSp8",
        "outputId": "265ade35-d2a1-460f-e8ff-dbfbad6db1d5",
        "colab": {
          "base_uri": "https://localhost:8080/"
        }
      },
      "source": [
        "df_code %>% glimpse()"
      ],
      "execution_count": null,
      "outputs": [
        {
          "output_type": "stream",
          "text": [
            "Rows: 9,150\n",
            "Columns: 9\n",
            "$ plot_code         \u001b[3m\u001b[90m<chr>\u001b[39m\u001b[23m \"YVP N7\", \"YVP N7\", \"YVP N7\", \"YVP N7\", \"YVP N7\", \"…\n",
            "$ plot_loc          \u001b[3m\u001b[90m<chr>\u001b[39m\u001b[23m \"N\", \"N\", \"N\", \"N\", \"N\", \"N\", \"N\", \"N\", \"N\", \"N\", \"…\n",
            "$ plot_rep          \u001b[3m\u001b[90m<chr>\u001b[39m\u001b[23m NA, NA, NA, NA, NA, NA, NA, NA, NA, NA, NA, NA, NA,…\n",
            "$ grid_point        \u001b[3m\u001b[90m<int>\u001b[39m\u001b[23m 7, 7, 7, 7, 7, 7, 7, 7, 7, 7, 7, 7, 7, 7, 7, 7, 7, …\n",
            "$ date              \u001b[3m\u001b[90m<date>\u001b[39m\u001b[23m 2020-05-31, 2020-05-31, 2020-05-31, 2020-05-31, 20…\n",
            "$ subplot           \u001b[3m\u001b[90m<int>\u001b[39m\u001b[23m 1, 1, 1, 1, 1, 1, 1, 1, 1, 1, 1, 1, 1, 1, 1, 1, 1, …\n",
            "$ key_plant_species \u001b[3m\u001b[90m<int>\u001b[39m\u001b[23m 5, 20, 82, 90, 113, 153, 187, 202, 233, 266, 286, 3…\n",
            "$ key_plant_code    \u001b[3m\u001b[90m<chr>\u001b[39m\u001b[23m \"ACHMIL\", \"ALYALY\", \"BROTEC\", \"CAMMIC\", \"CARE_SP\", …\n",
            "$ cover_pct         \u001b[3m\u001b[90m<int>\u001b[39m\u001b[23m 10, 2, 10, 1, 1, 1, 1, 1, 5, 3, 15, 0, 1, 10, 4, 2,…\n"
          ],
          "name": "stdout"
        }
      ]
    },
    {
      "cell_type": "code",
      "metadata": {
        "id": "GBK_5LpzjdtP",
        "outputId": "d7dee0cf-39d3-47d8-99d2-1340236c917b",
        "colab": {
          "base_uri": "https://localhost:8080/",
          "height": 34
        }
      },
      "source": [
        "typeof(as.integer(year(df_code$date)))"
      ],
      "execution_count": null,
      "outputs": [
        {
          "output_type": "display_data",
          "data": {
            "text/plain": [
              "[1] \"integer\""
            ],
            "text/latex": "'integer'",
            "text/markdown": "'integer'",
            "text/html": [
              "'integer'"
            ]
          },
          "metadata": {
            "tags": []
          }
        }
      ]
    },
    {
      "cell_type": "code",
      "metadata": {
        "id": "r8QoSvBgUfnC",
        "outputId": "5365b1fe-4245-4e42-bc9f-9f06693f6e12",
        "colab": {
          "base_uri": "https://localhost:8080/"
        }
      },
      "source": [
        "# Find instances where a plant species is counted twice in the same year-plot-subplot combination\n",
        "dbl_counts <- df_code %>%\n",
        "  group_by(year = as.integer(year(df_code$date)), plot_code, subplot, key_plant_code) %>%\n",
        "  summarize(counted = n()) %>% \n",
        "  ungroup() %>%\n",
        "  arrange(year, plot_code, subplot, desc(counted)) %>%\n",
        "  filter(counted > 1) %>%\n",
        "  print(n=Inf)"
      ],
      "execution_count": null,
      "outputs": [
        {
          "output_type": "stream",
          "text": [
            "`summarise()` regrouping output by 'year', 'plot_code', 'subplot' (override with `.groups` argument)\n",
            "\n"
          ],
          "name": "stderr"
        },
        {
          "output_type": "stream",
          "text": [
            "\u001b[90m# A tibble: 12 x 5\u001b[39m\n",
            "    year plot_code subplot key_plant_code counted\n",
            "   \u001b[3m\u001b[90m<int>\u001b[39m\u001b[23m \u001b[3m\u001b[90m<chr>\u001b[39m\u001b[23m       \u001b[3m\u001b[90m<int>\u001b[39m\u001b[23m \u001b[3m\u001b[90m<chr>\u001b[39m\u001b[23m            \u001b[3m\u001b[90m<int>\u001b[39m\u001b[23m\n",
            "\u001b[90m 1\u001b[39m  \u001b[4m2\u001b[24m020 YVP 144        10 COLLIN               2\n",
            "\u001b[90m 2\u001b[39m  \u001b[4m2\u001b[24m020 YVP 181         9 ARANUT               2\n",
            "\u001b[90m 3\u001b[39m  \u001b[4m2\u001b[24m020 YVP 184         1 PLEMAC               2\n",
            "\u001b[90m 4\u001b[39m  \u001b[4m2\u001b[24m020 YVP 185         1 PRUVIR               2\n",
            "\u001b[90m 5\u001b[39m  \u001b[4m2\u001b[24m020 YVP 22         10 VERVER               2\n",
            "\u001b[90m 6\u001b[39m  \u001b[4m2\u001b[24m020 YVP 479         1 RANREP               2\n",
            "\u001b[90m 7\u001b[39m  \u001b[4m2\u001b[24m020 YVP 62          4 VERVER               2\n",
            "\u001b[90m 8\u001b[39m  \u001b[4m2\u001b[24m020 YVP N324        7 EUPESU               2\n",
            "\u001b[90m 9\u001b[39m  \u001b[4m2\u001b[24m020 YVP N348       10 CYNOFF               2\n",
            "\u001b[90m10\u001b[39m  \u001b[4m2\u001b[24m020 YVP N501        6 EPIBRA               2\n",
            "\u001b[90m11\u001b[39m  \u001b[4m2\u001b[24m020 YVP N7          1 ALYALY               2\n",
            "\u001b[90m12\u001b[39m  \u001b[4m2\u001b[24m020 YVP NB294       8 LUPSER               2\n"
          ],
          "name": "stdout"
        }
      ]
    },
    {
      "cell_type": "code",
      "metadata": {
        "id": "y0wKttne2T3V",
        "outputId": "bbc3aea0-e0b1-4780-d9bb-8eda25d89552",
        "colab": {
          "base_uri": "https://localhost:8080/"
        }
      },
      "source": [
        "view_doubles  <- dbl_counts %>%\n",
        "  left_join(df_code %>% mutate(year = as.integer(year(df_code$date))))"
      ],
      "execution_count": null,
      "outputs": [
        {
          "output_type": "stream",
          "text": [
            "Joining, by = c(\"year\", \"plot_code\", \"subplot\", \"key_plant_code\")\n",
            "\n"
          ],
          "name": "stderr"
        }
      ]
    },
    {
      "cell_type": "code",
      "metadata": {
        "id": "6-swjMioA9AE",
        "outputId": "bacfa8f5-45ed-4f9f-ce1a-fd9b739d6df7",
        "colab": {
          "base_uri": "https://localhost:8080/"
        }
      },
      "source": [
        "str(view_doubles)"
      ],
      "execution_count": null,
      "outputs": [
        {
          "output_type": "stream",
          "text": [
            "tibble [24 × 11] (S3: tbl_df/tbl/data.frame)\n",
            " $ year             : int [1:24] 2020 2020 2020 2020 2020 2020 2020 2020 2020 2020 ...\n",
            " $ plot_code        : chr [1:24] \"YVP 144\" \"YVP 144\" \"YVP 181\" \"YVP 181\" ...\n",
            " $ subplot          : int [1:24] 10 10 9 9 1 1 1 1 10 10 ...\n",
            " $ key_plant_code   : chr [1:24] \"COLLIN\" \"COLLIN\" \"ARANUT\" \"ARANUT\" ...\n",
            " $ counted          : int [1:24] 2 2 2 2 2 2 2 2 2 2 ...\n",
            " $ plot_loc         : chr [1:24] NA NA NA NA ...\n",
            " $ plot_rep         : chr [1:24] NA NA NA NA ...\n",
            " $ grid_point       : int [1:24] 144 144 181 181 184 184 185 185 22 22 ...\n",
            " $ date             : Date[1:24], format: \"2020-05-27\" \"2020-05-27\" ...\n",
            " $ key_plant_species: int [1:24] 153 153 46 46 404 404 433 433 562 562 ...\n",
            " $ cover_pct        : int [1:24] 1 1 0 1 2 0 1 0 0 0 ...\n"
          ],
          "name": "stdout"
        }
      ]
    },
    {
      "cell_type": "code",
      "metadata": {
        "id": "-tdGvvioDJWq",
        "outputId": "d5138c5c-c4f2-4f78-8601-50215e0631f7",
        "colab": {
          "base_uri": "https://localhost:8080/",
          "height": 330
        }
      },
      "source": [
        "view_doubles %>%\n",
        "  distinct(date, plot_code, key_plant_code, subplot) %>%\n",
        "  arrange(date, plot_code, key_plant_code)"
      ],
      "execution_count": null,
      "outputs": [
        {
          "output_type": "display_data",
          "data": {
            "text/plain": [
              "   plot_code subplot key_plant_code date      \n",
              "1  YVP N324   7      EUPESU         2020-05-09\n",
              "2  YVP NB294  8      LUPSER         2020-05-09\n",
              "3  YVP 184    1      PLEMAC         2020-05-16\n",
              "4  YVP 185    1      PRUVIR         2020-05-16\n",
              "5  YVP 144   10      COLLIN         2020-05-27\n",
              "6  YVP 181    9      ARANUT         2020-05-31\n",
              "7  YVP 62     4      VERVER         2020-05-31\n",
              "8  YVP N7     1      ALYALY         2020-05-31\n",
              "9  YVP N501   6      EPIBRA         2020-06-17\n",
              "10 YVP 22    10      VERVER         2020-06-27\n",
              "11 YVP 479    1      RANREP         2020-06-28\n",
              "12 YVP N348  10      CYNOFF         2020-07-01"
            ],
            "text/latex": "A tibble: 12 × 4\n\\begin{tabular}{llll}\n plot\\_code & subplot & key\\_plant\\_code & date\\\\\n <chr> & <int> & <chr> & <date>\\\\\n\\hline\n\t YVP N324  &  7 & EUPESU & 2020-05-09\\\\\n\t YVP NB294 &  8 & LUPSER & 2020-05-09\\\\\n\t YVP 184   &  1 & PLEMAC & 2020-05-16\\\\\n\t YVP 185   &  1 & PRUVIR & 2020-05-16\\\\\n\t YVP 144   & 10 & COLLIN & 2020-05-27\\\\\n\t YVP 181   &  9 & ARANUT & 2020-05-31\\\\\n\t YVP 62    &  4 & VERVER & 2020-05-31\\\\\n\t YVP N7    &  1 & ALYALY & 2020-05-31\\\\\n\t YVP N501  &  6 & EPIBRA & 2020-06-17\\\\\n\t YVP 22    & 10 & VERVER & 2020-06-27\\\\\n\t YVP 479   &  1 & RANREP & 2020-06-28\\\\\n\t YVP N348  & 10 & CYNOFF & 2020-07-01\\\\\n\\end{tabular}\n",
            "text/markdown": "\nA tibble: 12 × 4\n\n| plot_code &lt;chr&gt; | subplot &lt;int&gt; | key_plant_code &lt;chr&gt; | date &lt;date&gt; |\n|---|---|---|---|\n| YVP N324  |  7 | EUPESU | 2020-05-09 |\n| YVP NB294 |  8 | LUPSER | 2020-05-09 |\n| YVP 184   |  1 | PLEMAC | 2020-05-16 |\n| YVP 185   |  1 | PRUVIR | 2020-05-16 |\n| YVP 144   | 10 | COLLIN | 2020-05-27 |\n| YVP 181   |  9 | ARANUT | 2020-05-31 |\n| YVP 62    |  4 | VERVER | 2020-05-31 |\n| YVP N7    |  1 | ALYALY | 2020-05-31 |\n| YVP N501  |  6 | EPIBRA | 2020-06-17 |\n| YVP 22    | 10 | VERVER | 2020-06-27 |\n| YVP 479   |  1 | RANREP | 2020-06-28 |\n| YVP N348  | 10 | CYNOFF | 2020-07-01 |\n\n",
            "text/html": [
              "<table>\n",
              "<caption>A tibble: 12 × 4</caption>\n",
              "<thead>\n",
              "\t<tr><th scope=col>plot_code</th><th scope=col>subplot</th><th scope=col>key_plant_code</th><th scope=col>date</th></tr>\n",
              "\t<tr><th scope=col>&lt;chr&gt;</th><th scope=col>&lt;int&gt;</th><th scope=col>&lt;chr&gt;</th><th scope=col>&lt;date&gt;</th></tr>\n",
              "</thead>\n",
              "<tbody>\n",
              "\t<tr><td>YVP N324 </td><td> 7</td><td>EUPESU</td><td>2020-05-09</td></tr>\n",
              "\t<tr><td>YVP NB294</td><td> 8</td><td>LUPSER</td><td>2020-05-09</td></tr>\n",
              "\t<tr><td>YVP 184  </td><td> 1</td><td>PLEMAC</td><td>2020-05-16</td></tr>\n",
              "\t<tr><td>YVP 185  </td><td> 1</td><td>PRUVIR</td><td>2020-05-16</td></tr>\n",
              "\t<tr><td>YVP 144  </td><td>10</td><td>COLLIN</td><td>2020-05-27</td></tr>\n",
              "\t<tr><td>YVP 181  </td><td> 9</td><td>ARANUT</td><td>2020-05-31</td></tr>\n",
              "\t<tr><td>YVP 62   </td><td> 4</td><td>VERVER</td><td>2020-05-31</td></tr>\n",
              "\t<tr><td>YVP N7   </td><td> 1</td><td>ALYALY</td><td>2020-05-31</td></tr>\n",
              "\t<tr><td>YVP N501 </td><td> 6</td><td>EPIBRA</td><td>2020-06-17</td></tr>\n",
              "\t<tr><td>YVP 22   </td><td>10</td><td>VERVER</td><td>2020-06-27</td></tr>\n",
              "\t<tr><td>YVP 479  </td><td> 1</td><td>RANREP</td><td>2020-06-28</td></tr>\n",
              "\t<tr><td>YVP N348 </td><td>10</td><td>CYNOFF</td><td>2020-07-01</td></tr>\n",
              "</tbody>\n",
              "</table>\n"
            ]
          },
          "metadata": {
            "tags": []
          }
        }
      ]
    },
    {
      "cell_type": "code",
      "metadata": {
        "id": "E0WImCHS5CQE",
        "outputId": "abf75ef1-5cb3-4056-d401-1339e867987a",
        "colab": {
          "base_uri": "https://localhost:8080/",
          "height": 330
        }
      },
      "source": [
        "view_doubles %>%\n",
        "  distinct(date, plot_code, subplot, plot_loc) %>%\n",
        "  arrange(date, plot_code)"
      ],
      "execution_count": null,
      "outputs": [
        {
          "output_type": "display_data",
          "data": {
            "text/plain": [
              "   plot_code subplot plot_loc date      \n",
              "1  YVP N324   7      N        2020-05-09\n",
              "2  YVP NB294  8      N        2020-05-09\n",
              "3  YVP 184    1      NA       2020-05-16\n",
              "4  YVP 185    1      NA       2020-05-16\n",
              "5  YVP 144   10      NA       2020-05-27\n",
              "6  YVP 181    9      NA       2020-05-31\n",
              "7  YVP 62     4      NA       2020-05-31\n",
              "8  YVP N7     1      N        2020-05-31\n",
              "9  YVP N501   6      N        2020-06-17\n",
              "10 YVP 22    10      NA       2020-06-27\n",
              "11 YVP 479    1      NA       2020-06-28\n",
              "12 YVP N348  10      N        2020-07-01"
            ],
            "text/latex": "A tibble: 12 × 4\n\\begin{tabular}{llll}\n plot\\_code & subplot & plot\\_loc & date\\\\\n <chr> & <int> & <chr> & <date>\\\\\n\\hline\n\t YVP N324  &  7 & N  & 2020-05-09\\\\\n\t YVP NB294 &  8 & N  & 2020-05-09\\\\\n\t YVP 184   &  1 & NA & 2020-05-16\\\\\n\t YVP 185   &  1 & NA & 2020-05-16\\\\\n\t YVP 144   & 10 & NA & 2020-05-27\\\\\n\t YVP 181   &  9 & NA & 2020-05-31\\\\\n\t YVP 62    &  4 & NA & 2020-05-31\\\\\n\t YVP N7    &  1 & N  & 2020-05-31\\\\\n\t YVP N501  &  6 & N  & 2020-06-17\\\\\n\t YVP 22    & 10 & NA & 2020-06-27\\\\\n\t YVP 479   &  1 & NA & 2020-06-28\\\\\n\t YVP N348  & 10 & N  & 2020-07-01\\\\\n\\end{tabular}\n",
            "text/markdown": "\nA tibble: 12 × 4\n\n| plot_code &lt;chr&gt; | subplot &lt;int&gt; | plot_loc &lt;chr&gt; | date &lt;date&gt; |\n|---|---|---|---|\n| YVP N324  |  7 | N  | 2020-05-09 |\n| YVP NB294 |  8 | N  | 2020-05-09 |\n| YVP 184   |  1 | NA | 2020-05-16 |\n| YVP 185   |  1 | NA | 2020-05-16 |\n| YVP 144   | 10 | NA | 2020-05-27 |\n| YVP 181   |  9 | NA | 2020-05-31 |\n| YVP 62    |  4 | NA | 2020-05-31 |\n| YVP N7    |  1 | N  | 2020-05-31 |\n| YVP N501  |  6 | N  | 2020-06-17 |\n| YVP 22    | 10 | NA | 2020-06-27 |\n| YVP 479   |  1 | NA | 2020-06-28 |\n| YVP N348  | 10 | N  | 2020-07-01 |\n\n",
            "text/html": [
              "<table>\n",
              "<caption>A tibble: 12 × 4</caption>\n",
              "<thead>\n",
              "\t<tr><th scope=col>plot_code</th><th scope=col>subplot</th><th scope=col>plot_loc</th><th scope=col>date</th></tr>\n",
              "\t<tr><th scope=col>&lt;chr&gt;</th><th scope=col>&lt;int&gt;</th><th scope=col>&lt;chr&gt;</th><th scope=col>&lt;date&gt;</th></tr>\n",
              "</thead>\n",
              "<tbody>\n",
              "\t<tr><td>YVP N324 </td><td> 7</td><td>N </td><td>2020-05-09</td></tr>\n",
              "\t<tr><td>YVP NB294</td><td> 8</td><td>N </td><td>2020-05-09</td></tr>\n",
              "\t<tr><td>YVP 184  </td><td> 1</td><td>NA</td><td>2020-05-16</td></tr>\n",
              "\t<tr><td>YVP 185  </td><td> 1</td><td>NA</td><td>2020-05-16</td></tr>\n",
              "\t<tr><td>YVP 144  </td><td>10</td><td>NA</td><td>2020-05-27</td></tr>\n",
              "\t<tr><td>YVP 181  </td><td> 9</td><td>NA</td><td>2020-05-31</td></tr>\n",
              "\t<tr><td>YVP 62   </td><td> 4</td><td>NA</td><td>2020-05-31</td></tr>\n",
              "\t<tr><td>YVP N7   </td><td> 1</td><td>N </td><td>2020-05-31</td></tr>\n",
              "\t<tr><td>YVP N501 </td><td> 6</td><td>N </td><td>2020-06-17</td></tr>\n",
              "\t<tr><td>YVP 22   </td><td>10</td><td>NA</td><td>2020-06-27</td></tr>\n",
              "\t<tr><td>YVP 479  </td><td> 1</td><td>NA</td><td>2020-06-28</td></tr>\n",
              "\t<tr><td>YVP N348 </td><td>10</td><td>N </td><td>2020-07-01</td></tr>\n",
              "</tbody>\n",
              "</table>\n"
            ]
          },
          "metadata": {
            "tags": []
          }
        }
      ]
    },
    {
      "cell_type": "markdown",
      "metadata": {
        "id": "IbaHfAeS-9IR"
      },
      "source": [
        "### Resolve double counts"
      ]
    },
    {
      "cell_type": "markdown",
      "metadata": {
        "id": "0ZWFM4kp_HXL"
      },
      "source": [
        "* If the 'cover_pct' values are equal, delete one of the rows\n",
        "* If the 'cover_pct' values are not equal, delete one of the rows and change cover_pct for the remaining one to NA"
      ]
    },
    {
      "cell_type": "code",
      "metadata": {
        "id": "16kN6oA2j8Wv",
        "outputId": "4ae85c84-3d65-4f3f-9dbc-848f059ad882",
        "colab": {
          "base_uri": "https://localhost:8080/"
        }
      },
      "source": [
        "str(view_doubles)"
      ],
      "execution_count": null,
      "outputs": [
        {
          "output_type": "stream",
          "text": [
            "tibble [24 × 11] (S3: tbl_df/tbl/data.frame)\n",
            " $ year             : int [1:24] 2020 2020 2020 2020 2020 2020 2020 2020 2020 2020 ...\n",
            " $ plot_code        : chr [1:24] \"YVP 144\" \"YVP 144\" \"YVP 181\" \"YVP 181\" ...\n",
            " $ subplot          : int [1:24] 10 10 9 9 1 1 1 1 10 10 ...\n",
            " $ key_plant_code   : chr [1:24] \"COLLIN\" \"COLLIN\" \"ARANUT\" \"ARANUT\" ...\n",
            " $ counted          : int [1:24] 2 2 2 2 2 2 2 2 2 2 ...\n",
            " $ plot_loc         : chr [1:24] NA NA NA NA ...\n",
            " $ plot_rep         : chr [1:24] NA NA NA NA ...\n",
            " $ grid_point       : int [1:24] 144 144 181 181 184 184 185 185 22 22 ...\n",
            " $ date             : Date[1:24], format: \"2020-05-27\" \"2020-05-27\" ...\n",
            " $ key_plant_species: int [1:24] 153 153 46 46 404 404 433 433 562 562 ...\n",
            " $ cover_pct        : int [1:24] 1 1 0 1 2 0 1 0 0 0 ...\n"
          ],
          "name": "stdout"
        }
      ]
    },
    {
      "cell_type": "code",
      "metadata": {
        "id": "AIcOzMO05c6N"
      },
      "source": [
        "distinct_doubles <- view_doubles %>%\n",
        "  distinct(date, plot_code, subplot, key_plant_code) %>%\n",
        "  arrange(date, plot_code)"
      ],
      "execution_count": null,
      "outputs": []
    },
    {
      "cell_type": "code",
      "metadata": {
        "id": "TGN0N_GXjmaG",
        "outputId": "eea18fef-c982-43f0-884d-76b99f5d9349",
        "colab": {
          "base_uri": "https://localhost:8080/"
        }
      },
      "source": [
        "str(distinct_doubles)"
      ],
      "execution_count": null,
      "outputs": [
        {
          "output_type": "stream",
          "text": [
            "tibble [12 × 4] (S3: tbl_df/tbl/data.frame)\n",
            " $ plot_code     : chr [1:12] \"YVP N324\" \"YVP NB294\" \"YVP 184\" \"YVP 185\" ...\n",
            " $ subplot       : int [1:12] 7 8 1 1 10 9 4 1 6 10 ...\n",
            " $ key_plant_code: chr [1:12] \"EUPESU\" \"LUPSER\" \"PLEMAC\" \"PRUVIR\" ...\n",
            " $ date          : Date[1:12], format: \"2020-05-09\" \"2020-05-09\" ...\n"
          ],
          "name": "stdout"
        }
      ]
    },
    {
      "cell_type": "code",
      "metadata": {
        "id": "2smHqF1olcUm",
        "outputId": "f7617041-3fb0-4b0d-ce07-e38eb0133ae8",
        "colab": {
          "base_uri": "https://localhost:8080/",
          "height": 34
        }
      },
      "source": [
        "nrow(distinct_doubles)"
      ],
      "execution_count": null,
      "outputs": [
        {
          "output_type": "display_data",
          "data": {
            "text/plain": [
              "[1] 12"
            ],
            "text/latex": "12",
            "text/markdown": "12",
            "text/html": [
              "12"
            ]
          },
          "metadata": {
            "tags": []
          }
        }
      ]
    },
    {
      "cell_type": "code",
      "metadata": {
        "id": "KymT73qv9dwQ",
        "outputId": "c673e974-0f41-4fd5-ffb2-f4446f29f8a2",
        "colab": {
          "base_uri": "https://localhost:8080/"
        }
      },
      "source": [
        "for (row in 1:nrow(distinct_doubles)) {\n",
        "  dbl_ref <- distinct_doubles[row, ]\n",
        "  \n",
        "  # date, plot_code, species_code, subplot\n",
        "  selected_rows <- filter(df_code, date == dbl_ref$date &\n",
        "                        plot_code == dbl_ref$plot_code &\n",
        "                        key_plant_code == dbl_ref$key_plant_code &\n",
        "                        subplot == dbl_ref$subplot)\n",
        "                        \n",
        "  # identify indicies of duplicate observationos in original dataframe\n",
        "  selected_indices <- which(df_code$date == dbl_ref$date &\n",
        "                        df_code$plot_code == dbl_ref$plot_code &\n",
        "                        df_code$key_plant_code == dbl_ref$key_plant_code &\n",
        "                        df_code$subplot == dbl_ref$subplot)\n",
        "\n",
        "  # Display for Review\n",
        "  print(selected_rows)\n",
        "\n",
        "  # compare \"cover_pct\" observations for equality\n",
        "  if(var(selected_rows$cover_pct) == 0) {\n",
        "    print(\"EQUAL\")\n",
        "    # drop duplicate observation\n",
        "    df_code <- df_code[-c(last(selected_indices)), ]    \n",
        "  } else if (var(selected_rows$cover_pct) != 0) {\n",
        "    print(\"NOT EQUAL\")\n",
        "    # set first row \"cover_pct\" to NA\n",
        "    df_code[c(first(selected_indices)), ]$cover_pct = NA\n",
        "\n",
        "    # drop duplicate observation\n",
        "    df_post_drop <- df_code[-c(last(selected_indices)), ]\n",
        "  }\n",
        "}"
      ],
      "execution_count": null,
      "outputs": [
        {
          "output_type": "stream",
          "text": [
            "  plot_code plot_loc plot_rep grid_point       date subplot key_plant_species\n",
            "1  YVP N324        N     <NA>        324 2020-05-09       7               230\n",
            "2  YVP N324        N     <NA>        324 2020-05-09       7               230\n",
            "  key_plant_code cover_pct\n",
            "1         EUPESU         0\n",
            "2         EUPESU         1\n",
            "[1] \"NOT EQUAL\"\n",
            "  plot_code plot_loc plot_rep grid_point       date subplot key_plant_species\n",
            "1 YVP NB294        N        B        294 2020-05-09       8               320\n",
            "2 YVP NB294        N        B        294 2020-05-09       8               320\n",
            "  key_plant_code cover_pct\n",
            "1         LUPSER         3\n",
            "2         LUPSER         1\n",
            "[1] \"NOT EQUAL\"\n",
            "  plot_code plot_loc plot_rep grid_point       date subplot key_plant_species\n",
            "1   YVP 184     <NA>     <NA>        184 2020-05-16       1               404\n",
            "2   YVP 184     <NA>     <NA>        184 2020-05-16       1               404\n",
            "  key_plant_code cover_pct\n",
            "1         PLEMAC         2\n",
            "2         PLEMAC         0\n",
            "[1] \"NOT EQUAL\"\n",
            "  plot_code plot_loc plot_rep grid_point       date subplot key_plant_species\n",
            "1   YVP 185     <NA>     <NA>        185 2020-05-16       1               433\n",
            "2   YVP 185     <NA>     <NA>        185 2020-05-16       1               433\n",
            "  key_plant_code cover_pct\n",
            "1         PRUVIR         1\n",
            "2         PRUVIR         0\n",
            "[1] \"NOT EQUAL\"\n",
            "  plot_code plot_loc plot_rep grid_point       date subplot key_plant_species\n",
            "1   YVP 144     <NA>     <NA>        144 2020-05-27      10               153\n",
            "2   YVP 144     <NA>     <NA>        144 2020-05-27      10               153\n",
            "  key_plant_code cover_pct\n",
            "1         COLLIN         1\n",
            "2         COLLIN         1\n",
            "[1] \"EQUAL\"\n",
            "  plot_code plot_loc plot_rep grid_point       date subplot key_plant_species\n",
            "1   YVP 181     <NA>     <NA>        181 2020-05-31       9                46\n",
            "2   YVP 181     <NA>     <NA>        181 2020-05-31       9                46\n",
            "  key_plant_code cover_pct\n",
            "1         ARANUT         0\n",
            "2         ARANUT         1\n",
            "[1] \"NOT EQUAL\"\n",
            "  plot_code plot_loc plot_rep grid_point       date subplot key_plant_species\n",
            "1    YVP 62     <NA>     <NA>         62 2020-05-31       4               562\n",
            "2    YVP 62     <NA>     <NA>         62 2020-05-31       4               562\n",
            "  key_plant_code cover_pct\n",
            "1         VERVER         4\n",
            "2         VERVER         0\n",
            "[1] \"NOT EQUAL\"\n",
            "  plot_code plot_loc plot_rep grid_point       date subplot key_plant_species\n",
            "1    YVP N7        N     <NA>          7 2020-05-31       1                20\n",
            "2    YVP N7        N     <NA>          7 2020-05-31       1                20\n",
            "  key_plant_code cover_pct\n",
            "1         ALYALY         2\n",
            "2         ALYALY         3\n",
            "[1] \"NOT EQUAL\"\n",
            "  plot_code plot_loc plot_rep grid_point       date subplot key_plant_species\n",
            "1  YVP N501        N     <NA>        501 2020-06-17       6               202\n",
            "2  YVP N501        N     <NA>        501 2020-06-17       6               202\n",
            "  key_plant_code cover_pct\n",
            "1         EPIBRA         1\n",
            "2         EPIBRA         1\n",
            "[1] \"EQUAL\"\n",
            "  plot_code plot_loc plot_rep grid_point       date subplot key_plant_species\n",
            "1    YVP 22     <NA>     <NA>         22 2020-06-27      10               562\n",
            "2    YVP 22     <NA>     <NA>         22 2020-06-27      10               562\n",
            "  key_plant_code cover_pct\n",
            "1         VERVER         0\n",
            "2         VERVER         0\n",
            "[1] \"EQUAL\"\n",
            "  plot_code plot_loc plot_rep grid_point       date subplot key_plant_species\n",
            "1   YVP 479     <NA>     <NA>        479 2020-06-28       1               446\n",
            "2   YVP 479     <NA>     <NA>        479 2020-06-28       1               446\n",
            "  key_plant_code cover_pct\n",
            "1         RANREP         0\n",
            "2         RANREP         1\n",
            "[1] \"NOT EQUAL\"\n",
            "  plot_code plot_loc plot_rep grid_point       date subplot key_plant_species\n",
            "1  YVP N348        N     <NA>        348 2020-07-01      10               167\n",
            "2  YVP N348        N     <NA>        348 2020-07-01      10               167\n",
            "  key_plant_code cover_pct\n",
            "1         CYNOFF         1\n",
            "2         CYNOFF         2\n",
            "[1] \"NOT EQUAL\"\n"
          ],
          "name": "stdout"
        }
      ]
    },
    {
      "cell_type": "code",
      "metadata": {
        "id": "-kEiYsIkjKOQ",
        "outputId": "6ef3a72e-3933-4763-e822-11e4f70e4a50",
        "colab": {
          "base_uri": "https://localhost:8080/"
        }
      },
      "source": [
        "str(df_post_drop)"
      ],
      "execution_count": null,
      "outputs": [
        {
          "output_type": "stream",
          "text": [
            "'data.frame':\t9146 obs. of  9 variables:\n",
            " $ plot_code        : chr  \"YVP N7\" \"YVP N7\" \"YVP N7\" \"YVP N7\" ...\n",
            " $ plot_loc         : chr  \"N\" \"N\" \"N\" \"N\" ...\n",
            " $ plot_rep         : chr  NA NA NA NA ...\n",
            " $ grid_point       : int  7 7 7 7 7 7 7 7 7 7 ...\n",
            " $ date             : Date, format: \"2020-05-31\" \"2020-05-31\" ...\n",
            " $ subplot          : int  1 1 1 1 1 1 1 1 1 1 ...\n",
            " $ key_plant_species: int  5 20 82 90 113 153 187 202 233 266 ...\n",
            " $ key_plant_code   : chr  \"ACHMIL\" \"ALYALY\" \"BROTEC\" \"CAMMIC\" ...\n",
            " $ cover_pct        : int  10 NA 10 1 1 1 1 1 5 3 ...\n"
          ],
          "name": "stdout"
        }
      ]
    },
    {
      "cell_type": "code",
      "metadata": {
        "id": "gIQGGEI5izjG",
        "outputId": "c33694d5-e223-489b-eaf0-569f0f324ab6",
        "colab": {
          "base_uri": "https://localhost:8080/"
        }
      },
      "source": [
        "# rescan for double observations\n",
        "# Find instances where a plant species is counted twice in the same year-plot-subplot combination\n",
        "dbl_recount <- df_post_drop %>%\n",
        "  group_by(year = as.integer(year(df_post_drop$date)), plot_code, subplot, key_plant_code) %>%\n",
        "  summarize(counted = n()) %>% \n",
        "  ungroup() %>%\n",
        "  arrange(year, plot_code, subplot, desc(counted)) %>%\n",
        "  filter(counted > 1) %>%\n",
        "  print(n=Inf)"
      ],
      "execution_count": null,
      "outputs": [
        {
          "output_type": "stream",
          "text": [
            "`summarise()` regrouping output by 'year', 'plot_code', 'subplot' (override with `.groups` argument)\n",
            "\n"
          ],
          "name": "stderr"
        },
        {
          "output_type": "stream",
          "text": [
            "\u001b[90m# A tibble: 8 x 5\u001b[39m\n",
            "   year plot_code subplot key_plant_code counted\n",
            "  \u001b[3m\u001b[90m<int>\u001b[39m\u001b[23m \u001b[3m\u001b[90m<chr>\u001b[39m\u001b[23m       \u001b[3m\u001b[90m<int>\u001b[39m\u001b[23m \u001b[3m\u001b[90m<chr>\u001b[39m\u001b[23m            \u001b[3m\u001b[90m<int>\u001b[39m\u001b[23m\n",
            "\u001b[90m1\u001b[39m  \u001b[4m2\u001b[24m020 YVP 181         9 ARANUT               2\n",
            "\u001b[90m2\u001b[39m  \u001b[4m2\u001b[24m020 YVP 184         1 PLEMAC               2\n",
            "\u001b[90m3\u001b[39m  \u001b[4m2\u001b[24m020 YVP 185         1 PRUVIR               2\n",
            "\u001b[90m4\u001b[39m  \u001b[4m2\u001b[24m020 YVP 479         1 RANREP               2\n",
            "\u001b[90m5\u001b[39m  \u001b[4m2\u001b[24m020 YVP 62          4 VERVER               2\n",
            "\u001b[90m6\u001b[39m  \u001b[4m2\u001b[24m020 YVP N324        7 EUPESU               2\n",
            "\u001b[90m7\u001b[39m  \u001b[4m2\u001b[24m020 YVP N7          1 ALYALY               2\n",
            "\u001b[90m8\u001b[39m  \u001b[4m2\u001b[24m020 YVP NB294       8 LUPSER               2\n"
          ],
          "name": "stdout"
        }
      ]
    },
    {
      "cell_type": "code",
      "metadata": {
        "id": "QbJO0zRemgt0",
        "outputId": "717fcaa2-2249-485c-db6f-1a595e3f4b70",
        "colab": {
          "base_uri": "https://localhost:8080/"
        }
      },
      "source": [
        "# display previously duplicated plots for review\n",
        "for (row in 1:nrow(distinct_doubles)) {\n",
        "  dbl_ref <- distinct_doubles[row, ]\n",
        "\n",
        "  # date, plot_code, species_code, subplot\n",
        "  selected_rows <- filter(df_code, date == dbl_ref$date &\n",
        "                        plot_code == dbl_ref$plot_code &\n",
        "                        key_plant_code == dbl_ref$key_plant_code &\n",
        "                        subplot == dbl_ref$subplot)\n",
        "  print(selected_rows[,c(1,5,6,7,8)])\n",
        "}"
      ],
      "execution_count": null,
      "outputs": [
        {
          "output_type": "stream",
          "text": [
            "  plot_code       date subplot key_plant_species key_plant_code\n",
            "1  YVP N324 2020-05-09       7               230         EUPESU\n",
            "2  YVP N324 2020-05-09       7               230         EUPESU\n",
            "  plot_code       date subplot key_plant_species key_plant_code\n",
            "1 YVP NB294 2020-05-09       8               320         LUPSER\n",
            "2 YVP NB294 2020-05-09       8               320         LUPSER\n",
            "  plot_code       date subplot key_plant_species key_plant_code\n",
            "1   YVP 184 2020-05-16       1               404         PLEMAC\n",
            "2   YVP 184 2020-05-16       1               404         PLEMAC\n",
            "  plot_code       date subplot key_plant_species key_plant_code\n",
            "1   YVP 185 2020-05-16       1               433         PRUVIR\n",
            "2   YVP 185 2020-05-16       1               433         PRUVIR\n",
            "  plot_code       date subplot key_plant_species key_plant_code\n",
            "1   YVP 144 2020-05-27      10               153         COLLIN\n",
            "  plot_code       date subplot key_plant_species key_plant_code\n",
            "1   YVP 181 2020-05-31       9                46         ARANUT\n",
            "2   YVP 181 2020-05-31       9                46         ARANUT\n",
            "  plot_code       date subplot key_plant_species key_plant_code\n",
            "1    YVP 62 2020-05-31       4               562         VERVER\n",
            "2    YVP 62 2020-05-31       4               562         VERVER\n",
            "  plot_code       date subplot key_plant_species key_plant_code\n",
            "1    YVP N7 2020-05-31       1                20         ALYALY\n",
            "2    YVP N7 2020-05-31       1                20         ALYALY\n",
            "  plot_code       date subplot key_plant_species key_plant_code\n",
            "1  YVP N501 2020-06-17       6               202         EPIBRA\n",
            "  plot_code       date subplot key_plant_species key_plant_code\n",
            "1    YVP 22 2020-06-27      10               562         VERVER\n",
            "  plot_code       date subplot key_plant_species key_plant_code\n",
            "1   YVP 479 2020-06-28       1               446         RANREP\n",
            "2   YVP 479 2020-06-28       1               446         RANREP\n",
            "  plot_code       date subplot key_plant_species key_plant_code\n",
            "1  YVP N348 2020-07-01      10               167         CYNOFF\n",
            "2  YVP N348 2020-07-01      10               167         CYNOFF\n"
          ],
          "name": "stdout"
        }
      ]
    },
    {
      "cell_type": "markdown",
      "metadata": {
        "id": "DUlLTjDzKqDW"
      },
      "source": [
        "## Correct errors in species codes\n",
        "The species codes used in the source data contain numerous errors, and they also in some cases represent old taxonomy where species names have been revised. This can cause all sorts of problems, like artificially creating new species or making it impossible to join with available species metadata. Several steps must be accomplished here:\n",
        "\n",
        "1. Trim leading or trailing spaces from the code (this was done in excel before source CSV files were created)\n",
        "2. Read in master list of species metadata and query YVP species codes to identify which ones don't align\n",
        "3. Align the species codes, identify the ones that are wrong and correct them\n",
        "4. Import the numeric key from the species metadata so that future aligments are easier and errors are less common"
      ]
    },
    {
      "cell_type": "markdown",
      "metadata": {
        "id": "ww3eU-zc15kT"
      },
      "source": [
        "### Read in master list of species metadata and codes\n"
      ]
    },
    {
      "cell_type": "code",
      "metadata": {
        "id": "3lRWXJzFMPwA",
        "outputId": "98780160-aa31-4b10-e4a2-0ac93d97fb67",
        "colab": {
          "base_uri": "https://localhost:8080/"
        }
      },
      "source": [
        "# 2020-04-27_MPGR_plant_species_list\n",
        "spp = gsheet2tbl(\"https://docs.google.com/spreadsheets/d/1wPen7yeimXtY4qK5Nj4JPvlgHYamoogR0YJekaF7i9Y\") %>% \n",
        "as_tibble() %>% glimpse()"
      ],
      "execution_count": null,
      "outputs": [
        {
          "output_type": "stream",
          "text": [
            "Rows: 754\n",
            "Columns: 9\n",
            "$ key_PlantSpecies \u001b[3m\u001b[90m<dbl>\u001b[39m\u001b[23m 1, 2, 3, 743, 5, 661, 8, 694, 9, 10, 11, 744, 677, 1…\n",
            "$ key_PlantCode    \u001b[3m\u001b[90m<chr>\u001b[39m\u001b[23m \"ABIGRA\", \"ABILAS\", \"ACEGLA\", \"ACEPLA\", \"ACHMIL\", \"A…\n",
            "$ NameScientific   \u001b[3m\u001b[90m<chr>\u001b[39m\u001b[23m \"Abies grandis\", \"Abies lasiocarpa\", \"Acer glabrum\",…\n",
            "$ NameSynonym      \u001b[3m\u001b[90m<chr>\u001b[39m\u001b[23m NA, NA, NA, NA, NA, NA, NA, NA, NA, NA, NA, NA, NA, …\n",
            "$ NameCommon       \u001b[3m\u001b[90m<chr>\u001b[39m\u001b[23m \"grand fir\", \"subalpine fir\", \"Rocky Mountain maple\"…\n",
            "$ NameFamily       \u001b[3m\u001b[90m<chr>\u001b[39m\u001b[23m \"Pinaceae\", \"Pinaceae\", \"Aceraceae\", \"Aceraceae\", \"A…\n",
            "$ NativeStatus     \u001b[3m\u001b[90m<chr>\u001b[39m\u001b[23m \"native\", \"native\", \"native\", \"nonnative\", \"native\",…\n",
            "$ LifeCycle        \u001b[3m\u001b[90m<chr>\u001b[39m\u001b[23m \"perennial\", \"perennial\", \"perennial\", \"perennial\", …\n",
            "$ LifeForm         \u001b[3m\u001b[90m<chr>\u001b[39m\u001b[23m \"tree\", \"tree\", \"shrub\", \"tree\", \"forb\", \"forb\", \"fo…\n"
          ],
          "name": "stdout"
        }
      ]
    },
    {
      "cell_type": "markdown",
      "metadata": {
        "id": "LrDekiW92cuH"
      },
      "source": [
        "### Align species codes and identify mistakes\n"
      ]
    },
    {
      "cell_type": "code",
      "metadata": {
        "id": "pOFU9VmmXPA-",
        "outputId": "430cb0aa-0c85-49c4-f357-961831faa94f",
        "colab": {
          "base_uri": "https://localhost:8080/"
        }
      },
      "source": [
        "# Align the species codes \n",
        "# Produce df of codes that don't match the master list\n",
        "collisions_species_codes = \n",
        "df_code %>% \n",
        "anti_join(spp, by = c(\"key_plant_code\" = \"key_PlantCode\")) %>% \n",
        "group_by(key_plant_code) %>% \n",
        "distinct(key_plant_code) %>% \n",
        "arrange(key_plant_code) %>% \n",
        "print(n = Inf)"
      ],
      "execution_count": null,
      "outputs": [
        {
          "output_type": "stream",
          "text": [
            "\u001b[90m# A tibble: 2 x 1\u001b[39m\n",
            "\u001b[90m# Groups:   key_plant_code [2]\u001b[39m\n",
            "  key_plant_code\n",
            "  \u001b[3m\u001b[90m<chr>\u001b[39m\u001b[23m         \n",
            "\u001b[90m1\u001b[39m ARAB_SP       \n",
            "\u001b[90m2\u001b[39m FESC_SP       \n"
          ],
          "name": "stdout"
        }
      ]
    },
    {
      "cell_type": "markdown",
      "metadata": {
        "id": "izWcD-3x2pAX"
      },
      "source": [
        "### Create file that associates errors with corrections"
      ]
    },
    {
      "cell_type": "code",
      "metadata": {
        "id": "27wu7uQ4ht9S",
        "outputId": "ddf44628-ea05-43f7-bb09-c00e0077d48e",
        "colab": {
          "base_uri": "https://localhost:8080/"
        }
      },
      "source": [
        "# Produce file `collisions_species_codes` for work in spreadsheet outside of this environment\n",
        "# The file will save to the `content` folder in the drive tree\n",
        "# BL downloaded the file to his desktop to produce a new naming key file\n",
        "filename = \"collisions_species_codes.csv\"\n",
        "if (filename %in% list.files(getwd())) {\n",
        "  cat(\"file already exists in working directory: \", filename, \"\\n\", \"working directory: \", getwd(), \"\\n\")\n",
        "} else {\n",
        "  write.csv(collisions_species_codes, filename)\n",
        "  cat(filename, \" written to working directory \\n\", \"working directory: \", getwd(), \"\\n\")\n",
        "}\n"
      ],
      "execution_count": null,
      "outputs": [
        {
          "output_type": "stream",
          "text": [
            "collisions_species_codes.csv  written to working directory \n",
            " working directory:  /content \n"
          ],
          "name": "stdout"
        }
      ]
    },
    {
      "cell_type": "code",
      "metadata": {
        "id": "15DrHPYnzwfM",
        "outputId": "eeadc2a6-9415-445c-c668-f055d4520924",
        "colab": {
          "base_uri": "https://localhost:8080/"
        }
      },
      "source": [
        "# Import csv file with the updated codes \n",
        "# This file was produced by visually aligning the codes with a file that Rebecca Durham provided\n",
        "code_corrections <- read.csv(file = \"https://drive.google.com/uc?id=1D0j3U4Or2PviFS02F3rxTRXr1SpGOB0a\",\n",
        "  colClasses = c(\"character\", \"character\")) %>% \n",
        "glimpse()"
      ],
      "execution_count": null,
      "outputs": [
        {
          "output_type": "stream",
          "text": [
            "Rows: 60\n",
            "Columns: 2\n",
            "$ plantcode_incorrect \u001b[3m\u001b[90m<chr>\u001b[39m\u001b[23m \"AGOS SP\", \"ALOP SP\", \"ANDOCCUAL\", \"ARNCOR?\", \"AR…\n",
            "$ plantcode_corrected \u001b[3m\u001b[90m<chr>\u001b[39m\u001b[23m \"AGOS_SP\", \"ALOP_SP\", \"ANDOCC\", \"ARNCOR\", \"ARTDRA…\n"
          ],
          "name": "stdout"
        }
      ]
    },
    {
      "cell_type": "markdown",
      "metadata": {
        "id": "TM1FKHi32yCK"
      },
      "source": [
        "### Cascade changes through dataset\n"
      ]
    },
    {
      "cell_type": "code",
      "metadata": {
        "id": "Xg2cshWG23U5",
        "outputId": "b43a91ea-d5be-4c18-d0f4-9b44d8bccf28",
        "colab": {
          "base_uri": "https://localhost:8080/"
        }
      },
      "source": [
        "# Create new df to hold corrected information\n",
        "# Change species_code to character variable to avoid problems with levels later\n",
        "yvp_veg_cover_correct = df_code %>% mutate(key_plant_code = as.character(key_plant_code)) %>% glimpse()"
      ],
      "execution_count": null,
      "outputs": [
        {
          "output_type": "stream",
          "text": [
            "Rows: 9,147\n",
            "Columns: 9\n",
            "$ plot_code         \u001b[3m\u001b[90m<chr>\u001b[39m\u001b[23m \"YVP N7\", \"YVP N7\", \"YVP N7\", \"YVP N7\", \"YVP N7\", \"…\n",
            "$ plot_loc          \u001b[3m\u001b[90m<chr>\u001b[39m\u001b[23m \"N\", \"N\", \"N\", \"N\", \"N\", \"N\", \"N\", \"N\", \"N\", \"N\", \"…\n",
            "$ plot_rep          \u001b[3m\u001b[90m<chr>\u001b[39m\u001b[23m NA, NA, NA, NA, NA, NA, NA, NA, NA, NA, NA, NA, NA,…\n",
            "$ grid_point        \u001b[3m\u001b[90m<int>\u001b[39m\u001b[23m 7, 7, 7, 7, 7, 7, 7, 7, 7, 7, 7, 7, 7, 7, 7, 7, 7, …\n",
            "$ date              \u001b[3m\u001b[90m<date>\u001b[39m\u001b[23m 2020-05-31, 2020-05-31, 2020-05-31, 2020-05-31, 20…\n",
            "$ subplot           \u001b[3m\u001b[90m<int>\u001b[39m\u001b[23m 1, 1, 1, 1, 1, 1, 1, 1, 1, 1, 1, 1, 1, 1, 1, 1, 1, …\n",
            "$ key_plant_species \u001b[3m\u001b[90m<int>\u001b[39m\u001b[23m 5, 20, 82, 90, 113, 153, 187, 202, 233, 266, 286, 3…\n",
            "$ key_plant_code    \u001b[3m\u001b[90m<chr>\u001b[39m\u001b[23m \"ACHMIL\", \"ALYALY\", \"BROTEC\", \"CAMMIC\", \"CARE_SP\", …\n",
            "$ cover_pct         \u001b[3m\u001b[90m<int>\u001b[39m\u001b[23m 10, NA, 10, 1, 1, 1, 1, 1, 5, 3, 15, 0, 1, 10, 4, 2…\n"
          ],
          "name": "stdout"
        }
      ]
    },
    {
      "cell_type": "code",
      "metadata": {
        "id": "dY8lqL4aOWyJ",
        "outputId": "3e6ee2a7-de5b-4e01-e0f6-45b9e8ca7a8c",
        "colab": {
          "base_uri": "https://localhost:8080/"
        }
      },
      "source": [
        "# Loop operation used to update each instance of an incorrect code\n",
        "# Embed logic control to prevent errors if this loop is run on a df with corrected codes\n",
        "# Variable to track loop cycles\n",
        "cycles = 0\n",
        "\n",
        "for (i in 1:length(code_corrections[, 1])) {\n",
        "  index = which(yvp_veg_cover_correct$species_code == code_corrections$plantcode_incorrect[i])\n",
        "\n",
        "  if (length(index != 0)) {\n",
        "    cat(\"number of incorrect code entries: \", length(index), \"\\n\")\n",
        "    cat(\"incorrect code: \", code_corrections$plantcode_incorrect[i], \"\\n\")\n",
        "    yvp_veg_cover_correct[index, ]$species_code = code_corrections$plantcode_corrected[i]\n",
        "    print(yvp_veg_cover_correct[index, c(1,5,6,7,8)])\n",
        "    cycles = cycles + length(index)\n",
        "    cat(\"\\n\")\n",
        "  } else {\n",
        "    cat(\"no incorrect code entries were found \\n\")\n",
        "  }\n",
        "\n",
        "  cat(\"number of corrections made (cumulative): \", cycles, \"\\n\\n\\n\")\n",
        "\n",
        "}"
      ],
      "execution_count": null,
      "outputs": [
        {
          "output_type": "stream",
          "text": [
            "no incorrect code entries were found \n",
            "number of corrections made (cumulative):  0 \n",
            "\n",
            "\n",
            "no incorrect code entries were found \n",
            "number of corrections made (cumulative):  0 \n",
            "\n",
            "\n",
            "no incorrect code entries were found \n",
            "number of corrections made (cumulative):  0 \n",
            "\n",
            "\n",
            "no incorrect code entries were found \n",
            "number of corrections made (cumulative):  0 \n",
            "\n",
            "\n",
            "no incorrect code entries were found \n",
            "number of corrections made (cumulative):  0 \n",
            "\n",
            "\n",
            "no incorrect code entries were found \n",
            "number of corrections made (cumulative):  0 \n",
            "\n",
            "\n",
            "no incorrect code entries were found \n",
            "number of corrections made (cumulative):  0 \n",
            "\n",
            "\n",
            "no incorrect code entries were found \n",
            "number of corrections made (cumulative):  0 \n",
            "\n",
            "\n",
            "no incorrect code entries were found \n",
            "number of corrections made (cumulative):  0 \n",
            "\n",
            "\n",
            "no incorrect code entries were found \n",
            "number of corrections made (cumulative):  0 \n",
            "\n",
            "\n",
            "no incorrect code entries were found \n",
            "number of corrections made (cumulative):  0 \n",
            "\n",
            "\n",
            "no incorrect code entries were found \n",
            "number of corrections made (cumulative):  0 \n",
            "\n",
            "\n",
            "no incorrect code entries were found \n",
            "number of corrections made (cumulative):  0 \n",
            "\n",
            "\n",
            "no incorrect code entries were found \n",
            "number of corrections made (cumulative):  0 \n",
            "\n",
            "\n",
            "no incorrect code entries were found \n",
            "number of corrections made (cumulative):  0 \n",
            "\n",
            "\n",
            "no incorrect code entries were found \n",
            "number of corrections made (cumulative):  0 \n",
            "\n",
            "\n",
            "no incorrect code entries were found \n",
            "number of corrections made (cumulative):  0 \n",
            "\n",
            "\n",
            "no incorrect code entries were found \n",
            "number of corrections made (cumulative):  0 \n",
            "\n",
            "\n",
            "no incorrect code entries were found \n",
            "number of corrections made (cumulative):  0 \n",
            "\n",
            "\n",
            "no incorrect code entries were found \n",
            "number of corrections made (cumulative):  0 \n",
            "\n",
            "\n",
            "no incorrect code entries were found \n",
            "number of corrections made (cumulative):  0 \n",
            "\n",
            "\n",
            "no incorrect code entries were found \n",
            "number of corrections made (cumulative):  0 \n",
            "\n",
            "\n",
            "no incorrect code entries were found \n",
            "number of corrections made (cumulative):  0 \n",
            "\n",
            "\n",
            "no incorrect code entries were found \n",
            "number of corrections made (cumulative):  0 \n",
            "\n",
            "\n",
            "no incorrect code entries were found \n",
            "number of corrections made (cumulative):  0 \n",
            "\n",
            "\n",
            "no incorrect code entries were found \n",
            "number of corrections made (cumulative):  0 \n",
            "\n",
            "\n",
            "no incorrect code entries were found \n",
            "number of corrections made (cumulative):  0 \n",
            "\n",
            "\n",
            "no incorrect code entries were found \n",
            "number of corrections made (cumulative):  0 \n",
            "\n",
            "\n",
            "no incorrect code entries were found \n",
            "number of corrections made (cumulative):  0 \n",
            "\n",
            "\n",
            "no incorrect code entries were found \n",
            "number of corrections made (cumulative):  0 \n",
            "\n",
            "\n",
            "no incorrect code entries were found \n",
            "number of corrections made (cumulative):  0 \n",
            "\n",
            "\n",
            "no incorrect code entries were found \n",
            "number of corrections made (cumulative):  0 \n",
            "\n",
            "\n",
            "no incorrect code entries were found \n",
            "number of corrections made (cumulative):  0 \n",
            "\n",
            "\n",
            "no incorrect code entries were found \n",
            "number of corrections made (cumulative):  0 \n",
            "\n",
            "\n",
            "no incorrect code entries were found \n",
            "number of corrections made (cumulative):  0 \n",
            "\n",
            "\n",
            "no incorrect code entries were found \n",
            "number of corrections made (cumulative):  0 \n",
            "\n",
            "\n",
            "no incorrect code entries were found \n",
            "number of corrections made (cumulative):  0 \n",
            "\n",
            "\n",
            "no incorrect code entries were found \n",
            "number of corrections made (cumulative):  0 \n",
            "\n",
            "\n",
            "no incorrect code entries were found \n",
            "number of corrections made (cumulative):  0 \n",
            "\n",
            "\n",
            "no incorrect code entries were found \n",
            "number of corrections made (cumulative):  0 \n",
            "\n",
            "\n",
            "no incorrect code entries were found \n",
            "number of corrections made (cumulative):  0 \n",
            "\n",
            "\n",
            "no incorrect code entries were found \n",
            "number of corrections made (cumulative):  0 \n",
            "\n",
            "\n",
            "no incorrect code entries were found \n",
            "number of corrections made (cumulative):  0 \n",
            "\n",
            "\n",
            "no incorrect code entries were found \n",
            "number of corrections made (cumulative):  0 \n",
            "\n",
            "\n",
            "no incorrect code entries were found \n",
            "number of corrections made (cumulative):  0 \n",
            "\n",
            "\n",
            "no incorrect code entries were found \n",
            "number of corrections made (cumulative):  0 \n",
            "\n",
            "\n",
            "no incorrect code entries were found \n",
            "number of corrections made (cumulative):  0 \n",
            "\n",
            "\n",
            "no incorrect code entries were found \n",
            "number of corrections made (cumulative):  0 \n",
            "\n",
            "\n",
            "no incorrect code entries were found \n",
            "number of corrections made (cumulative):  0 \n",
            "\n",
            "\n",
            "no incorrect code entries were found \n",
            "number of corrections made (cumulative):  0 \n",
            "\n",
            "\n",
            "no incorrect code entries were found \n",
            "number of corrections made (cumulative):  0 \n",
            "\n",
            "\n",
            "no incorrect code entries were found \n",
            "number of corrections made (cumulative):  0 \n",
            "\n",
            "\n",
            "no incorrect code entries were found \n",
            "number of corrections made (cumulative):  0 \n",
            "\n",
            "\n",
            "no incorrect code entries were found \n",
            "number of corrections made (cumulative):  0 \n",
            "\n",
            "\n",
            "no incorrect code entries were found \n",
            "number of corrections made (cumulative):  0 \n",
            "\n",
            "\n",
            "no incorrect code entries were found \n",
            "number of corrections made (cumulative):  0 \n",
            "\n",
            "\n",
            "no incorrect code entries were found \n",
            "number of corrections made (cumulative):  0 \n",
            "\n",
            "\n",
            "no incorrect code entries were found \n",
            "number of corrections made (cumulative):  0 \n",
            "\n",
            "\n",
            "no incorrect code entries were found \n",
            "number of corrections made (cumulative):  0 \n",
            "\n",
            "\n",
            "no incorrect code entries were found \n",
            "number of corrections made (cumulative):  0 \n",
            "\n",
            "\n"
          ],
          "name": "stdout"
        }
      ]
    },
    {
      "cell_type": "code",
      "metadata": {
        "id": "Lx445iA3Lcx1",
        "outputId": "ef50a52a-bb26-4c98-8b6f-567e0c91df10",
        "colab": {
          "base_uri": "https://localhost:8080/",
          "height": 95
        }
      },
      "source": [
        "# Rescan for incorrect species codes\n",
        "yvp_veg_cover_correct %>% \n",
        "anti_join(spp, by = c(\"key_plant_code\" = \"key_PlantCode\")) %>% \n",
        "group_by(key_plant_code) %>% distinct(key_plant_code) %>% arrange(key_plant_code)"
      ],
      "execution_count": null,
      "outputs": [
        {
          "output_type": "display_data",
          "data": {
            "text/plain": [
              "     key_plant_code"
            ],
            "text/latex": "A grouped\\_df: 0 × 1\n\\begin{tabular}{l}\n key\\_plant\\_code\\\\\n <chr>\\\\\n\\hline\n\\end{tabular}\n",
            "text/markdown": "\nA grouped_df: 0 × 1\n\n| key_plant_code &lt;chr&gt; |\n|---|\n\n",
            "text/html": [
              "<table>\n",
              "<caption>A grouped_df: 0 × 1</caption>\n",
              "<thead>\n",
              "\t<tr><th scope=col>key_plant_code</th></tr>\n",
              "\t<tr><th scope=col>&lt;chr&gt;</th></tr>\n",
              "</thead>\n",
              "<tbody>\n",
              "</tbody>\n",
              "</table>\n"
            ]
          },
          "metadata": {
            "tags": []
          }
        }
      ]
    },
    {
      "cell_type": "code",
      "metadata": {
        "id": "EguA0hw4KH_0",
        "outputId": "147dc97a-2581-4e7f-8625-45d3f02417bf",
        "colab": {
          "base_uri": "https://localhost:8080/"
        }
      },
      "source": [
        "# Update key_plant_codes based on comments 2020-11-03\n",
        "# ARAB_SP = UNK_FORB\n",
        "# FESC_SP = UNK_GRAM\n",
        "yvp_veg_cover_correct <- yvp_veg_cover_correct %>%\n",
        "  mutate(key_plant_code = ifelse(str_detect(key_plant_code, \"ARAB_SP\"), \"UNK_FORB\", key_plant_code)) %>%\n",
        "  mutate(key_plant_code = ifelse(str_detect(key_plant_code, \"FESC_SP\"), \"UNK_GRAM\", key_plant_code)) %>% glimpse()"
      ],
      "execution_count": null,
      "outputs": [
        {
          "output_type": "stream",
          "text": [
            "Rows: 9,147\n",
            "Columns: 9\n",
            "$ plot_code         \u001b[3m\u001b[90m<chr>\u001b[39m\u001b[23m \"YVP N7\", \"YVP N7\", \"YVP N7\", \"YVP N7\", \"YVP N7\", \"…\n",
            "$ plot_loc          \u001b[3m\u001b[90m<chr>\u001b[39m\u001b[23m \"N\", \"N\", \"N\", \"N\", \"N\", \"N\", \"N\", \"N\", \"N\", \"N\", \"…\n",
            "$ plot_rep          \u001b[3m\u001b[90m<chr>\u001b[39m\u001b[23m NA, NA, NA, NA, NA, NA, NA, NA, NA, NA, NA, NA, NA,…\n",
            "$ grid_point        \u001b[3m\u001b[90m<int>\u001b[39m\u001b[23m 7, 7, 7, 7, 7, 7, 7, 7, 7, 7, 7, 7, 7, 7, 7, 7, 7, …\n",
            "$ date              \u001b[3m\u001b[90m<date>\u001b[39m\u001b[23m 2020-05-31, 2020-05-31, 2020-05-31, 2020-05-31, 20…\n",
            "$ subplot           \u001b[3m\u001b[90m<int>\u001b[39m\u001b[23m 1, 1, 1, 1, 1, 1, 1, 1, 1, 1, 1, 1, 1, 1, 1, 1, 1, …\n",
            "$ key_plant_species \u001b[3m\u001b[90m<int>\u001b[39m\u001b[23m 5, 20, 82, 90, 113, 153, 187, 202, 233, 266, 286, 3…\n",
            "$ key_plant_code    \u001b[3m\u001b[90m<chr>\u001b[39m\u001b[23m \"ACHMIL\", \"ALYALY\", \"BROTEC\", \"CAMMIC\", \"CARE_SP\", …\n",
            "$ cover_pct         \u001b[3m\u001b[90m<int>\u001b[39m\u001b[23m 10, NA, 10, 1, 1, 1, 1, 1, 5, 3, 15, 0, 1, 10, 4, 2…\n"
          ],
          "name": "stdout"
        }
      ]
    },
    {
      "cell_type": "code",
      "metadata": {
        "id": "Rj_9VO8sLkN3",
        "outputId": "67fcb3cb-fe28-41f4-bdad-ea0f37ad95fa",
        "colab": {
          "base_uri": "https://localhost:8080/",
          "height": 95
        }
      },
      "source": [
        "# Rescan for incorrect species codes\n",
        "yvp_veg_cover_correct %>% \n",
        "anti_join(spp, by = c(\"key_plant_code\" = \"key_PlantCode\")) %>% \n",
        "group_by(key_plant_code) %>% distinct(key_plant_code) %>% arrange(key_plant_code)"
      ],
      "execution_count": null,
      "outputs": [
        {
          "output_type": "display_data",
          "data": {
            "text/plain": [
              "     key_plant_code"
            ],
            "text/latex": "A grouped\\_df: 0 × 1\n\\begin{tabular}{l}\n key\\_plant\\_code\\\\\n <chr>\\\\\n\\hline\n\\end{tabular}\n",
            "text/markdown": "\nA grouped_df: 0 × 1\n\n| key_plant_code &lt;chr&gt; |\n|---|\n\n",
            "text/html": [
              "<table>\n",
              "<caption>A grouped_df: 0 × 1</caption>\n",
              "<thead>\n",
              "\t<tr><th scope=col>key_plant_code</th></tr>\n",
              "\t<tr><th scope=col>&lt;chr&gt;</th></tr>\n",
              "</thead>\n",
              "<tbody>\n",
              "</tbody>\n",
              "</table>\n"
            ]
          },
          "metadata": {
            "tags": []
          }
        }
      ]
    },
    {
      "cell_type": "code",
      "metadata": {
        "id": "yFVg7QK7MxRp",
        "outputId": "f2bae178-6744-4611-d6ea-9e27b796da22",
        "colab": {
          "base_uri": "https://localhost:8080/"
        }
      },
      "source": [
        "spp %>% glimpse()"
      ],
      "execution_count": null,
      "outputs": [
        {
          "output_type": "stream",
          "text": [
            "Rows: 754\n",
            "Columns: 9\n",
            "$ key_PlantSpecies \u001b[3m\u001b[90m<dbl>\u001b[39m\u001b[23m 1, 2, 3, 743, 5, 661, 8, 694, 9, 10, 11, 744, 677, 1…\n",
            "$ key_PlantCode    \u001b[3m\u001b[90m<chr>\u001b[39m\u001b[23m \"ABIGRA\", \"ABILAS\", \"ACEGLA\", \"ACEPLA\", \"ACHMIL\", \"A…\n",
            "$ NameScientific   \u001b[3m\u001b[90m<chr>\u001b[39m\u001b[23m \"Abies grandis\", \"Abies lasiocarpa\", \"Acer glabrum\",…\n",
            "$ NameSynonym      \u001b[3m\u001b[90m<chr>\u001b[39m\u001b[23m NA, NA, NA, NA, NA, NA, NA, NA, NA, NA, NA, NA, NA, …\n",
            "$ NameCommon       \u001b[3m\u001b[90m<chr>\u001b[39m\u001b[23m \"grand fir\", \"subalpine fir\", \"Rocky Mountain maple\"…\n",
            "$ NameFamily       \u001b[3m\u001b[90m<chr>\u001b[39m\u001b[23m \"Pinaceae\", \"Pinaceae\", \"Aceraceae\", \"Aceraceae\", \"A…\n",
            "$ NativeStatus     \u001b[3m\u001b[90m<chr>\u001b[39m\u001b[23m \"native\", \"native\", \"native\", \"nonnative\", \"native\",…\n",
            "$ LifeCycle        \u001b[3m\u001b[90m<chr>\u001b[39m\u001b[23m \"perennial\", \"perennial\", \"perennial\", \"perennial\", …\n",
            "$ LifeForm         \u001b[3m\u001b[90m<chr>\u001b[39m\u001b[23m \"tree\", \"tree\", \"shrub\", \"tree\", \"forb\", \"forb\", \"fo…\n"
          ],
          "name": "stdout"
        }
      ]
    },
    {
      "cell_type": "code",
      "metadata": {
        "id": "7XNL3E1KdR39",
        "outputId": "661a1e8b-ca39-4d24-8655-e0c3f49b1d2e",
        "colab": {
          "base_uri": "https://localhost:8080/"
        }
      },
      "source": [
        "# Incorporate serial key for species codes\n",
        "yvp_vegetation_cover_FINAL = \n",
        "yvp_veg_cover_correct %>% \n",
        "  left_join(spp %>% select(key_PlantSpecies, key_PlantCode), by = c(\"key_plant_code\" = \"key_PlantCode\")) %>% \n",
        "  # select(c(1,2,3,4,5,6,9,7,8)) %>% \n",
        "  select(plot_code, plot_loc, plot_rep, grid_point, date, subplot, key_PlantSpecies,\n",
        "         key_plant_code, cover_pct) %>%\n",
        "  rename(key_plant_species = key_PlantSpecies) %>% \n",
        "  glimpse()"
      ],
      "execution_count": null,
      "outputs": [
        {
          "output_type": "stream",
          "text": [
            "Rows: 9,147\n",
            "Columns: 9\n",
            "$ plot_code         \u001b[3m\u001b[90m<chr>\u001b[39m\u001b[23m \"YVP N7\", \"YVP N7\", \"YVP N7\", \"YVP N7\", \"YVP N7\", \"…\n",
            "$ plot_loc          \u001b[3m\u001b[90m<chr>\u001b[39m\u001b[23m \"N\", \"N\", \"N\", \"N\", \"N\", \"N\", \"N\", \"N\", \"N\", \"N\", \"…\n",
            "$ plot_rep          \u001b[3m\u001b[90m<chr>\u001b[39m\u001b[23m NA, NA, NA, NA, NA, NA, NA, NA, NA, NA, NA, NA, NA,…\n",
            "$ grid_point        \u001b[3m\u001b[90m<int>\u001b[39m\u001b[23m 7, 7, 7, 7, 7, 7, 7, 7, 7, 7, 7, 7, 7, 7, 7, 7, 7, …\n",
            "$ date              \u001b[3m\u001b[90m<date>\u001b[39m\u001b[23m 2020-05-31, 2020-05-31, 2020-05-31, 2020-05-31, 20…\n",
            "$ subplot           \u001b[3m\u001b[90m<int>\u001b[39m\u001b[23m 1, 1, 1, 1, 1, 1, 1, 1, 1, 1, 1, 1, 1, 1, 1, 1, 1, …\n",
            "$ key_plant_species \u001b[3m\u001b[90m<dbl>\u001b[39m\u001b[23m 5, 20, 82, 90, 113, 153, 187, 202, 233, 266, 286, 3…\n",
            "$ key_plant_code    \u001b[3m\u001b[90m<chr>\u001b[39m\u001b[23m \"ACHMIL\", \"ALYALY\", \"BROTEC\", \"CAMMIC\", \"CARE_SP\", …\n",
            "$ cover_pct         \u001b[3m\u001b[90m<int>\u001b[39m\u001b[23m 10, NA, 10, 1, 1, 1, 1, 1, 5, 3, 15, 0, 1, 10, 4, 2…\n"
          ],
          "name": "stdout"
        }
      ]
    },
    {
      "cell_type": "code",
      "metadata": {
        "id": "TUR0BSONNwCa",
        "outputId": "53c3a800-604c-49b5-fc89-ff89a9559df9",
        "colab": {
          "base_uri": "https://localhost:8080/",
          "height": 425
        }
      },
      "source": [
        "summary(yvp_vegetation_cover_FINAL)"
      ],
      "execution_count": null,
      "outputs": [
        {
          "output_type": "display_data",
          "data": {
            "text/plain": [
              "  plot_code           plot_loc           plot_rep           grid_point   \n",
              " Length:9147        Length:9147        Length:9147        Min.   :  7.0  \n",
              " Class :character   Class :character   Class :character   1st Qu.: 64.0  \n",
              " Mode  :character   Mode  :character   Mode  :character   Median :209.0  \n",
              "                                                          Mean   :250.1  \n",
              "                                                          3rd Qu.:395.0  \n",
              "                                                          Max.   :571.0  \n",
              "                                                                         \n",
              "      date               subplot       key_plant_species key_plant_code    \n",
              " Min.   :2020-05-09   Min.   : 1.000   Min.   :  3.0     Length:9147       \n",
              " 1st Qu.:2020-05-22   1st Qu.: 3.000   1st Qu.:153.0     Class :character  \n",
              " Median :2020-06-05   Median : 6.000   Median :286.0     Mode  :character  \n",
              " Mean   :2020-06-03   Mean   : 5.517   Mean   :280.8                       \n",
              " 3rd Qu.:2020-06-17   3rd Qu.: 8.000   3rd Qu.:411.0                       \n",
              " Max.   :2020-07-01   Max.   :10.000   Max.   :784.0                       \n",
              "                                                                           \n",
              "   cover_pct     \n",
              " Min.   : 0.000  \n",
              " 1st Qu.: 1.000  \n",
              " Median : 1.000  \n",
              " Mean   : 4.222  \n",
              " 3rd Qu.: 3.000  \n",
              " Max.   :80.000  \n",
              " NA's   :9       "
            ]
          },
          "metadata": {
            "tags": []
          }
        }
      ]
    },
    {
      "cell_type": "code",
      "metadata": {
        "id": "hvnMBWhtOk-v",
        "outputId": "d53eecc5-5907-490b-ea8b-11ae94d3161b",
        "colab": {
          "base_uri": "https://localhost:8080/",
          "height": 267
        }
      },
      "source": [
        "# show cover_pct NA's\n",
        "yvp_vegetation_cover_FINAL %>%\n",
        "  filter(is.na(cover_pct))"
      ],
      "execution_count": null,
      "outputs": [
        {
          "output_type": "display_data",
          "data": {
            "text/plain": [
              "  plot_code plot_loc plot_rep grid_point date       subplot key_plant_species\n",
              "1 YVP N7    N        NA         7        2020-05-31  1       20              \n",
              "2 YVP 62    NA       NA        62        2020-05-31  4      562              \n",
              "3 YVP 181   NA       NA       181        2020-05-31  9       46              \n",
              "4 YVP 184   NA       NA       184        2020-05-16  1      404              \n",
              "5 YVP 185   NA       NA       185        2020-05-16  1      433              \n",
              "6 YVP NB294 N        B        294        2020-05-09  8      320              \n",
              "7 YVP N324  N        NA       324        2020-05-09  7      230              \n",
              "8 YVP N348  N        NA       348        2020-07-01 10      167              \n",
              "9 YVP 479   NA       NA       479        2020-06-28  1      446              \n",
              "  key_plant_code cover_pct\n",
              "1 ALYALY         NA       \n",
              "2 VERVER         NA       \n",
              "3 ARANUT         NA       \n",
              "4 PLEMAC         NA       \n",
              "5 PRUVIR         NA       \n",
              "6 LUPSER         NA       \n",
              "7 EUPESU         NA       \n",
              "8 CYNOFF         NA       \n",
              "9 RANREP         NA       "
            ],
            "text/latex": "A data.frame: 9 × 9\n\\begin{tabular}{lllllllll}\n plot\\_code & plot\\_loc & plot\\_rep & grid\\_point & date & subplot & key\\_plant\\_species & key\\_plant\\_code & cover\\_pct\\\\\n <chr> & <chr> & <chr> & <int> & <date> & <int> & <dbl> & <chr> & <int>\\\\\n\\hline\n\t YVP N7    & N  & NA &   7 & 2020-05-31 &  1 &  20 & ALYALY & NA\\\\\n\t YVP 62    & NA & NA &  62 & 2020-05-31 &  4 & 562 & VERVER & NA\\\\\n\t YVP 181   & NA & NA & 181 & 2020-05-31 &  9 &  46 & ARANUT & NA\\\\\n\t YVP 184   & NA & NA & 184 & 2020-05-16 &  1 & 404 & PLEMAC & NA\\\\\n\t YVP 185   & NA & NA & 185 & 2020-05-16 &  1 & 433 & PRUVIR & NA\\\\\n\t YVP NB294 & N  & B  & 294 & 2020-05-09 &  8 & 320 & LUPSER & NA\\\\\n\t YVP N324  & N  & NA & 324 & 2020-05-09 &  7 & 230 & EUPESU & NA\\\\\n\t YVP N348  & N  & NA & 348 & 2020-07-01 & 10 & 167 & CYNOFF & NA\\\\\n\t YVP 479   & NA & NA & 479 & 2020-06-28 &  1 & 446 & RANREP & NA\\\\\n\\end{tabular}\n",
            "text/markdown": "\nA data.frame: 9 × 9\n\n| plot_code &lt;chr&gt; | plot_loc &lt;chr&gt; | plot_rep &lt;chr&gt; | grid_point &lt;int&gt; | date &lt;date&gt; | subplot &lt;int&gt; | key_plant_species &lt;dbl&gt; | key_plant_code &lt;chr&gt; | cover_pct &lt;int&gt; |\n|---|---|---|---|---|---|---|---|---|\n| YVP N7    | N  | NA |   7 | 2020-05-31 |  1 |  20 | ALYALY | NA |\n| YVP 62    | NA | NA |  62 | 2020-05-31 |  4 | 562 | VERVER | NA |\n| YVP 181   | NA | NA | 181 | 2020-05-31 |  9 |  46 | ARANUT | NA |\n| YVP 184   | NA | NA | 184 | 2020-05-16 |  1 | 404 | PLEMAC | NA |\n| YVP 185   | NA | NA | 185 | 2020-05-16 |  1 | 433 | PRUVIR | NA |\n| YVP NB294 | N  | B  | 294 | 2020-05-09 |  8 | 320 | LUPSER | NA |\n| YVP N324  | N  | NA | 324 | 2020-05-09 |  7 | 230 | EUPESU | NA |\n| YVP N348  | N  | NA | 348 | 2020-07-01 | 10 | 167 | CYNOFF | NA |\n| YVP 479   | NA | NA | 479 | 2020-06-28 |  1 | 446 | RANREP | NA |\n\n",
            "text/html": [
              "<table>\n",
              "<caption>A data.frame: 9 × 9</caption>\n",
              "<thead>\n",
              "\t<tr><th scope=col>plot_code</th><th scope=col>plot_loc</th><th scope=col>plot_rep</th><th scope=col>grid_point</th><th scope=col>date</th><th scope=col>subplot</th><th scope=col>key_plant_species</th><th scope=col>key_plant_code</th><th scope=col>cover_pct</th></tr>\n",
              "\t<tr><th scope=col>&lt;chr&gt;</th><th scope=col>&lt;chr&gt;</th><th scope=col>&lt;chr&gt;</th><th scope=col>&lt;int&gt;</th><th scope=col>&lt;date&gt;</th><th scope=col>&lt;int&gt;</th><th scope=col>&lt;dbl&gt;</th><th scope=col>&lt;chr&gt;</th><th scope=col>&lt;int&gt;</th></tr>\n",
              "</thead>\n",
              "<tbody>\n",
              "\t<tr><td>YVP N7   </td><td>N </td><td>NA</td><td>  7</td><td>2020-05-31</td><td> 1</td><td> 20</td><td>ALYALY</td><td>NA</td></tr>\n",
              "\t<tr><td>YVP 62   </td><td>NA</td><td>NA</td><td> 62</td><td>2020-05-31</td><td> 4</td><td>562</td><td>VERVER</td><td>NA</td></tr>\n",
              "\t<tr><td>YVP 181  </td><td>NA</td><td>NA</td><td>181</td><td>2020-05-31</td><td> 9</td><td> 46</td><td>ARANUT</td><td>NA</td></tr>\n",
              "\t<tr><td>YVP 184  </td><td>NA</td><td>NA</td><td>184</td><td>2020-05-16</td><td> 1</td><td>404</td><td>PLEMAC</td><td>NA</td></tr>\n",
              "\t<tr><td>YVP 185  </td><td>NA</td><td>NA</td><td>185</td><td>2020-05-16</td><td> 1</td><td>433</td><td>PRUVIR</td><td>NA</td></tr>\n",
              "\t<tr><td>YVP NB294</td><td>N </td><td>B </td><td>294</td><td>2020-05-09</td><td> 8</td><td>320</td><td>LUPSER</td><td>NA</td></tr>\n",
              "\t<tr><td>YVP N324 </td><td>N </td><td>NA</td><td>324</td><td>2020-05-09</td><td> 7</td><td>230</td><td>EUPESU</td><td>NA</td></tr>\n",
              "\t<tr><td>YVP N348 </td><td>N </td><td>NA</td><td>348</td><td>2020-07-01</td><td>10</td><td>167</td><td>CYNOFF</td><td>NA</td></tr>\n",
              "\t<tr><td>YVP 479  </td><td>NA</td><td>NA</td><td>479</td><td>2020-06-28</td><td> 1</td><td>446</td><td>RANREP</td><td>NA</td></tr>\n",
              "</tbody>\n",
              "</table>\n"
            ]
          },
          "metadata": {
            "tags": []
          }
        }
      ]
    },
    {
      "cell_type": "markdown",
      "metadata": {
        "id": "wqrk0hpb86zD"
      },
      "source": [
        "# Output"
      ]
    },
    {
      "cell_type": "markdown",
      "metadata": {
        "id": "wZedeWaU7qty"
      },
      "source": [
        "## Export Wrangled DataFrame to CSV \n",
        "Export the full data set so that we can push it to the BQ database\n",
        "\n",
        "\n"
      ]
    },
    {
      "cell_type": "code",
      "metadata": {
        "id": "FKRdVva67thP",
        "outputId": "bd951c67-8ecf-49d0-c5e9-bed1d43fb66a",
        "colab": {
          "base_uri": "https://localhost:8080/"
        }
      },
      "source": [
        "# Output 2020-11-03 ES\n",
        "filename_final = \"yvp_vegetation_cover_WRANGLE-2020.csv\"\n",
        "\n",
        "if (filename_final %in% list.files(getwd())) {\n",
        "  cat(\"file already exists in working directory:\", filename_final, \"\\n\", \"working directory:\", getwd(), \"\\n\")\n",
        "} else {\n",
        "  write.csv(yvp_vegetation_cover_FINAL, filename_final)\n",
        "  cat(filename_final, \"written to working directory \\n\", \"working directory:\", getwd(), \"\\n\")\n",
        "}"
      ],
      "execution_count": null,
      "outputs": [
        {
          "output_type": "stream",
          "text": [
            "yvp_vegetation_cover_WRANGLE-2020.csv written to working directory \n",
            " working directory: /content \n"
          ],
          "name": "stdout"
        }
      ]
    },
    {
      "cell_type": "markdown",
      "metadata": {
        "id": "e_gWG69yLdlF"
      },
      "source": [
        "## Push to BigQuery"
      ]
    },
    {
      "cell_type": "markdown",
      "metadata": {
        "id": "5w-bW-2YMgSI"
      },
      "source": [
        "\"yvp_vegetation_cover_FINAL.csv\" uploaded manually to BigQuery"
      ]
    },
    {
      "cell_type": "markdown",
      "metadata": {
        "id": "TxPBf5Rk8dOS"
      },
      "source": [
        "## Export field datasheet version\n",
        "Field datasheets need to have a complete, cumulative species list for each plot recorded in a table, with the cover_pct column set to 0. This allows field techs to change the 0 to some number if the species is found. The date column is blank so that field techs can fill in the appropriate date. Do not include columns that are needed for data analysis, like plot_loc, plot_rep, plot_num, and species_key. \n",
        "\n",
        "**Schema for field data sheet**\n",
        "\n",
        "* plot_num (helps for sorting and finding plots)\n",
        "* plot_code\n",
        "* date\n",
        "* species_code\n",
        "* cover_pct"
      ]
    },
    {
      "cell_type": "code",
      "metadata": {
        "id": "dBaIyvdz9JWU",
        "outputId": "e4089a56-c0e0-4378-88e5-8f8a09574644",
        "colab": {
          "base_uri": "https://localhost:8080/",
          "height": 170
        }
      },
      "source": [
        "field_datasheet = \n",
        "yvp_vegetation_cover_FINAL %>% \n",
        "select(plot_num, plot_code, subplot, species_code) %>% \n",
        "group_by(plot_num, plot_code, subplot) %>% \n",
        "distinct(species_code) %>% \n",
        "select(-species_code, species_code) %>% \n",
        "add_column(date = NA, .after = \"plot_code\") %>% \n",
        "add_column(cover_pct = 0) %>% \n",
        "arrange(plot_num, plot_code, subplot, species_code) %>% \n",
        "glimpse()"
      ],
      "execution_count": null,
      "outputs": [
        {
          "output_type": "stream",
          "text": [
            "Rows: 8,861\n",
            "Columns: 6\n",
            "Groups: plot_num, plot_code, subplot [580]\n",
            "$ plot_num     \u001b[3m\u001b[90m<int>\u001b[39m\u001b[23m 7, 7, 7, 7, 7, 7, 7, 7, 7, 7, 7, 7, 7, 7, 7, 7, 7, 7, 7,…\n",
            "$ plot_code    \u001b[3m\u001b[90m<chr>\u001b[39m\u001b[23m \"YVP N7\", \"YVP N7\", \"YVP N7\", \"YVP N7\", \"YVP N7\", \"YVP N…\n",
            "$ date         \u001b[3m\u001b[90m<lgl>\u001b[39m\u001b[23m NA, NA, NA, NA, NA, NA, NA, NA, NA, NA, NA, NA, NA, NA, …\n",
            "$ subplot      \u001b[3m\u001b[90m<int>\u001b[39m\u001b[23m 1, 1, 1, 1, 1, 1, 1, 1, 1, 1, 1, 1, 1, 1, 1, 1, 1, 2, 2,…\n",
            "$ species_code \u001b[3m\u001b[90m<chr>\u001b[39m\u001b[23m \"ACHMIL\", \"ALYALY\", \"BROTEC\", \"CAMMIC\", \"CARE_SP\", \"COLL…\n",
            "$ cover_pct    \u001b[3m\u001b[90m<dbl>\u001b[39m\u001b[23m 0, 0, 0, 0, 0, 0, 0, 0, 0, 0, 0, 0, 0, 0, 0, 0, 0, 0, 0,…\n"
          ],
          "name": "stdout"
        }
      ]
    },
    {
      "cell_type": "code",
      "metadata": {
        "id": "gvuDq6wgEGH5",
        "outputId": "5922cbd3-a65e-4817-b01c-43fcd6f52345",
        "colab": {
          "base_uri": "https://localhost:8080/",
          "height": 51
        }
      },
      "source": [
        "filename_field_datasheet = \"yvp_vegetation_cover_field_datasheet_FINAL.csv\"\n",
        "\n",
        "if (filename_field_datasheet %in% list.files(getwd())) {\n",
        "  cat(\"file already exists in working directory:\", filename_final, \"\\n\", \"working directory:\", getwd(), \"\\n\")\n",
        "} else {\n",
        "  write.csv(field_datasheet, filename_field_datasheet)\n",
        "  cat(filename_final, \"written to working directory \\n\", \"working directory:\", getwd(), \"\\n\")\n",
        "}"
      ],
      "execution_count": null,
      "outputs": [
        {
          "output_type": "stream",
          "text": [
            "yvp_vegetation_cover_FINAL.csv written to working directory \n",
            " working directory: /content \n"
          ],
          "name": "stdout"
        }
      ]
    }
  ]
}