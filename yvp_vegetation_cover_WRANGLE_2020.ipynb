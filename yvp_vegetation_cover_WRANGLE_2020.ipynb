{
  "nbformat": 4,
  "nbformat_minor": 0,
  "metadata": {
    "colab": {
      "name": "yvp_vegetation_cover-WRANGLE-2020.ipynb",
      "provenance": [],
      "collapsed_sections": [],
      "toc_visible": true,
      "include_colab_link": true
    },
    "kernelspec": {
      "name": "ir",
      "display_name": "R"
    }
  },
  "cells": [
    {
      "cell_type": "markdown",
      "metadata": {
        "id": "view-in-github",
        "colab_type": "text"
      },
      "source": [
        "<a href=\"https://colab.research.google.com/github/samsoe/mpg_notebooks/blob/master/yvp_vegetation_cover_WRANGLE_2020.ipynb\" target=\"_parent\"><img src=\"https://colab.research.google.com/assets/colab-badge.svg\" alt=\"Open In Colab\"/></a>"
      ]
    },
    {
      "cell_type": "markdown",
      "metadata": {
        "id": "sLoATLEdI-hh"
      },
      "source": [
        "*R Notebook*"
      ]
    },
    {
      "cell_type": "markdown",
      "metadata": {
        "id": "YZbGHbTzJQrV"
      },
      "source": [
        "# README"
      ]
    },
    {
      "cell_type": "markdown",
      "metadata": {
        "id": "G095KjDNJS6E"
      },
      "source": [
        "* [Copy of YVP - Vegetation Cover Data - Wrangle](https://colab.research.google.com/drive/1xsVJiE5Nl5SIFqjdAFvq58hcntVrn4Fw?usp=sharing)\n",
        "* [Readme fixed grid plot vegetation data](https://docs.google.com/document/d/16-Aq8u9Rudd78fSzfjvpCXyQgE-BstC-d2PjYfmLtcw/edit?usp=sharing)"
      ]
    },
    {
      "cell_type": "markdown",
      "metadata": {
        "id": "DTleZaOpPUo-"
      },
      "source": [
        "# Load Tools"
      ]
    },
    {
      "cell_type": "code",
      "metadata": {
        "id": "nQA2WSBCPXuD"
      },
      "source": [
        "# Package and library installation\n",
        "packages_needed = c(\"tidyverse\", \"gsheet\", \"lubridate\", \"knitr\") # comma delimited vector of package names\n",
        "packages_installed = packages_needed %in% rownames(installed.packages())\n",
        "\n",
        "if (any(! packages_installed))\n",
        "  install.packages(packages_needed[! packages_installed])\n",
        "for (i in 1:length(packages_needed)) {\n",
        "  library(packages_needed[i], character.only = T)\n",
        "}"
      ],
      "execution_count": null,
      "outputs": []
    },
    {
      "cell_type": "markdown",
      "metadata": {
        "id": "RKBdNw56BzwD"
      },
      "source": [
        "# Source"
      ]
    },
    {
      "cell_type": "markdown",
      "metadata": {
        "id": "0IGE-XYCwmmJ"
      },
      "source": [
        "### vegetation cover"
      ]
    },
    {
      "cell_type": "code",
      "metadata": {
        "id": "X9t3Ks1oB3gG"
      },
      "source": [
        "# 2020-10-22_yvp_vegetation_cover_SOURCE.csv\n",
        "# https://drive.google.com/file/d/1PpCpyViLjC1_jNKLT4S7KWbduuwvQ23R/view?usp=sharing\n",
        "veg_src = 'https://drive.google.com/uc?id=1PpCpyViLjC1_jNKLT4S7KWbduuwvQ23R'"
      ],
      "execution_count": null,
      "outputs": []
    },
    {
      "cell_type": "code",
      "metadata": {
        "id": "fvU8xi8iB4SI"
      },
      "source": [
        "df_veg_initial <- read.csv(veg_src)"
      ],
      "execution_count": null,
      "outputs": []
    },
    {
      "cell_type": "code",
      "metadata": {
        "id": "YDY7IDdmB4PN",
        "outputId": "33373316-58b2-44a8-883c-f0a47098e552",
        "colab": {
          "base_uri": "https://localhost:8080/"
        }
      },
      "source": [
        "df_veg_initial %>% glimpse()"
      ],
      "execution_count": null,
      "outputs": [
        {
          "output_type": "stream",
          "text": [
            "Rows: 9,150\n",
            "Columns: 7\n",
            "$ plot_num     \u001b[3m\u001b[90m<int>\u001b[39m\u001b[23m 7, 7, 7, 7, 7, 7, 7, 7, 7, 7, 7, 7, 7, 7, 7, 7, 7, 7, 7,…\n",
            "$ plot_code    \u001b[3m\u001b[90m<chr>\u001b[39m\u001b[23m \"YVP N7\", \"YVP N7\", \"YVP N7\", \"YVP N7\", \"YVP N7\", \"YVP N…\n",
            "$ date         \u001b[3m\u001b[90m<lgl>\u001b[39m\u001b[23m NA, NA, NA, NA, NA, NA, NA, NA, NA, NA, NA, NA, NA, NA, …\n",
            "$ subplot      \u001b[3m\u001b[90m<int>\u001b[39m\u001b[23m 1, 1, 1, 1, 1, 1, 1, 1, 1, 1, 1, 1, 1, 1, 1, 1, 1, 1, 2,…\n",
            "$ species_code \u001b[3m\u001b[90m<chr>\u001b[39m\u001b[23m \"ACHMIL\", \"ALYALY\", \"BROTEC\", \"CAMMIC\", \"CARE_SP\", \"COLL…\n",
            "$ cover_pct    \u001b[3m\u001b[90m<int>\u001b[39m\u001b[23m 10, 2, 10, 1, 1, 1, 1, 1, 5, 3, 15, 0, 1, 10, 4, 2, 15, …\n",
            "$ comments     \u001b[3m\u001b[90m<lgl>\u001b[39m\u001b[23m NA, NA, NA, NA, NA, NA, NA, NA, NA, NA, NA, NA, NA, NA, …\n"
          ],
          "name": "stdout"
        }
      ]
    },
    {
      "cell_type": "markdown",
      "metadata": {
        "id": "i_9gB8YYwpdS"
      },
      "source": [
        "## survey metadata"
      ]
    },
    {
      "cell_type": "code",
      "metadata": {
        "id": "en7hUGDmwrIg"
      },
      "source": [
        "# 2020-10-22_yvp_survey_metadata_SOURCE.csv\n",
        "# https://drive.google.com/file/d/19I0quIj8ALzP91VkxxIR-D1PWgXRZ_90/view?usp=sharing\n",
        "src_meta <- 'https://drive.google.com/uc?id=19I0quIj8ALzP91VkxxIR-D1PWgXRZ_90'"
      ],
      "execution_count": null,
      "outputs": []
    },
    {
      "cell_type": "code",
      "metadata": {
        "id": "a3YwKtYOxLJQ",
        "outputId": "d3adb2f7-8f67-4ef3-cc54-cc203cd347c6",
        "colab": {
          "base_uri": "https://localhost:8080/"
        }
      },
      "source": [
        "df_meta_full <- read_csv(src_meta)"
      ],
      "execution_count": null,
      "outputs": [
        {
          "output_type": "stream",
          "text": [
            "\n",
            "\u001b[36m──\u001b[39m \u001b[1m\u001b[1mColumn specification\u001b[1m\u001b[22m \u001b[36m────────────────────────────────────────────────────────\u001b[39m\n",
            "cols(\n",
            "  Plot = \u001b[31mcol_character()\u001b[39m,\n",
            "  Date = \u001b[31mcol_character()\u001b[39m,\n",
            "  Initials = \u001b[31mcol_character()\u001b[39m,\n",
            "  `GPS Lat 1` = \u001b[32mcol_double()\u001b[39m,\n",
            "  `GPS Long 1` = \u001b[32mcol_double()\u001b[39m,\n",
            "  `GPS Lat 2` = \u001b[32mcol_double()\u001b[39m,\n",
            "  `GPS Long 2` = \u001b[32mcol_double()\u001b[39m,\n",
            "  Azimuth = \u001b[32mcol_double()\u001b[39m,\n",
            "  `comments 2020` = \u001b[31mcol_character()\u001b[39m,\n",
            "  `Comments 2019` = \u001b[31mcol_character()\u001b[39m,\n",
            "  `Comments 2018` = \u001b[31mcol_character()\u001b[39m,\n",
            "  `Comments 2017` = \u001b[31mcol_character()\u001b[39m\n",
            ")\n",
            "\n",
            "\n"
          ],
          "name": "stderr"
        }
      ]
    },
    {
      "cell_type": "code",
      "metadata": {
        "id": "J69QZOkKxOZA"
      },
      "source": [
        "# cast to date datatype\n",
        "df_meta_full$Date <- mdy(df_meta_full$Date)"
      ],
      "execution_count": null,
      "outputs": []
    },
    {
      "cell_type": "code",
      "metadata": {
        "id": "FnA1D3snxm2i",
        "outputId": "ea2601a9-4ee2-4776-a4db-721ea7d90228",
        "colab": {
          "base_uri": "https://localhost:8080/"
        }
      },
      "source": [
        "df_meta <- df_meta_full %>%\n",
        "  filter(year(df_meta_full$Date) == 2020) %>%\n",
        "  select(Plot, Date) %>%\n",
        "  glimpse()"
      ],
      "execution_count": null,
      "outputs": [
        {
          "output_type": "stream",
          "text": [
            "Rows: 58\n",
            "Columns: 2\n",
            "$ Plot \u001b[3m\u001b[90m<chr>\u001b[39m\u001b[23m \"NA294\", \"NB294\", \"NC294\", \"N324\", \"N321\", \"NA292\", \"NB292\", \"14…\n",
            "$ Date \u001b[3m\u001b[90m<date>\u001b[39m\u001b[23m 2020-05-09, 2020-05-09, 2020-05-09, 2020-05-09, 2020-05-13, 202…\n"
          ],
          "name": "stdout"
        }
      ]
    },
    {
      "cell_type": "markdown",
      "metadata": {
        "id": "vWE7DkCs3lGY"
      },
      "source": [
        "## vegetation metadata"
      ]
    },
    {
      "cell_type": "code",
      "metadata": {
        "id": "8WuVRKO03oCr",
        "outputId": "9daf5193-a0d3-4579-f072-d5a239b160a1",
        "colab": {
          "base_uri": "https://localhost:8080/"
        }
      },
      "source": [
        "install.packages(\"bigrquery\")\n",
        "library(bigrquery)"
      ],
      "execution_count": null,
      "outputs": [
        {
          "output_type": "stream",
          "text": [
            "Installing package into ‘/usr/local/lib/R/site-library’\n",
            "(as ‘lib’ is unspecified)\n",
            "\n"
          ],
          "name": "stderr"
        }
      ]
    },
    {
      "cell_type": "code",
      "metadata": {
        "id": "o2O10COF3rz_"
      },
      "source": [
        "# BigQuery API Key\n",
        "bq_auth(path = \"/content/mpg-data-warehouse-api_key-master.json\")\n",
        "Sys.setenv(BIGQUERY_TEST_PROJECT = \"mpg-data-warehouse\")\n",
        "billing <- bq_test_project()"
      ],
      "execution_count": null,
      "outputs": []
    },
    {
      "cell_type": "code",
      "metadata": {
        "id": "iL909iyH3uGw"
      },
      "source": [
        "sql_metaveg <- \n",
        "  \"\n",
        "  SELECT key_plant_species, key_plant_code\n",
        "  FROM `mpg-data-warehouse.vegetation_species_metadata.vegetation_species_metadata`\n",
        "  \""
      ],
      "execution_count": null,
      "outputs": []
    },
    {
      "cell_type": "code",
      "metadata": {
        "id": "6kMqTXE23zse",
        "outputId": "4b6cd999-2249-412f-cc27-22a27bc4ab43",
        "colab": {
          "base_uri": "https://localhost:8080/"
        }
      },
      "source": [
        "bq_metaveg <- bq_project_query(billing, sql_metaveg)\n",
        "tb_metaveg <- bq_table_download(bq_metaveg)\n",
        "df_metaveg <- \n",
        "  as.data.frame(tb_metaveg) %>% glimpse()"
      ],
      "execution_count": null,
      "outputs": [
        {
          "output_type": "stream",
          "text": [
            "Rows: 754\n",
            "Columns: 2\n",
            "$ key_plant_species \u001b[3m\u001b[90m<int>\u001b[39m\u001b[23m 360, 13, 26, 53, 738, 75, 76, 746, 83, 88, 86, 87, …\n",
            "$ key_plant_code    \u001b[3m\u001b[90m<chr>\u001b[39m\u001b[23m \"NV\", \"AGRSCA\", \"ANDGER\", \"ARIPUR\", \"BOUCUR\", \"BOUG…\n"
          ],
          "name": "stdout"
        }
      ]
    },
    {
      "cell_type": "markdown",
      "metadata": {
        "id": "hH-_99bsKRVn"
      },
      "source": [
        "# Wrangle"
      ]
    },
    {
      "cell_type": "markdown",
      "metadata": {
        "id": "P_3Rq2-4OVsJ"
      },
      "source": [
        "## Structure columns"
      ]
    },
    {
      "cell_type": "markdown",
      "metadata": {
        "id": "v3OVKR2zFNXG"
      },
      "source": [
        "### Plot Code Transformation\n",
        "The plot code used in the source data is a complex string. It is needed to provide a unique key to each survey location, but because it is a string it is difficult to sort or filter plots. Further, the plot codes used here will be difficult to associate with the extensive grid point metadata stored elsewhere in the MPG Data Warehouse. \n",
        "\n",
        "Solution: paste the separate identifers from the plot code into separate fields, but retain the original character string for internal use."
      ]
    },
    {
      "cell_type": "markdown",
      "metadata": {
        "id": "801b78aYKc5B"
      },
      "source": [
        "#### plot_code"
      ]
    },
    {
      "cell_type": "code",
      "metadata": {
        "id": "ky8xiSEzKSCb",
        "outputId": "44b2965f-2917-42d7-850b-3de052ee39f3",
        "colab": {
          "base_uri": "https://localhost:8080/",
          "height": 34
        }
      },
      "source": [
        "typeof(df_veg_initial$plot_code)"
      ],
      "execution_count": null,
      "outputs": [
        {
          "output_type": "display_data",
          "data": {
            "text/plain": [
              "[1] \"character\""
            ],
            "text/latex": "'character'",
            "text/markdown": "'character'",
            "text/html": [
              "'character'"
            ]
          },
          "metadata": {
            "tags": []
          }
        }
      ]
    },
    {
      "cell_type": "markdown",
      "metadata": {
        "id": "L2yzHLKuP4oz"
      },
      "source": [
        "#### plot_ loc"
      ]
    },
    {
      "cell_type": "code",
      "metadata": {
        "id": "x42pThVsQeuS",
        "outputId": "e123c377-cb80-42f4-c974-d5c1dc7fe3dd",
        "colab": {
          "base_uri": "https://localhost:8080/"
        }
      },
      "source": [
        "# detect \"N\" in 'plot_code' and write to new column 'plot_loc'\n",
        "# df <- \n",
        "df_loc <- df_veg_initial %>%\n",
        "  mutate(plot_loc = ifelse(str_detect(plot_code, \"N\"), \"N\", NA)) %>% \n",
        "  select(plot_code, plot_loc, plot_num, subplot, species_code, cover_pct) %>% glimpse()"
      ],
      "execution_count": null,
      "outputs": [
        {
          "output_type": "stream",
          "text": [
            "Rows: 9,150\n",
            "Columns: 6\n",
            "$ plot_code    \u001b[3m\u001b[90m<chr>\u001b[39m\u001b[23m \"YVP N7\", \"YVP N7\", \"YVP N7\", \"YVP N7\", \"YVP N7\", \"YVP N…\n",
            "$ plot_loc     \u001b[3m\u001b[90m<chr>\u001b[39m\u001b[23m \"N\", \"N\", \"N\", \"N\", \"N\", \"N\", \"N\", \"N\", \"N\", \"N\", \"N\", \"…\n",
            "$ plot_num     \u001b[3m\u001b[90m<int>\u001b[39m\u001b[23m 7, 7, 7, 7, 7, 7, 7, 7, 7, 7, 7, 7, 7, 7, 7, 7, 7, 7, 7,…\n",
            "$ subplot      \u001b[3m\u001b[90m<int>\u001b[39m\u001b[23m 1, 1, 1, 1, 1, 1, 1, 1, 1, 1, 1, 1, 1, 1, 1, 1, 1, 1, 2,…\n",
            "$ species_code \u001b[3m\u001b[90m<chr>\u001b[39m\u001b[23m \"ACHMIL\", \"ALYALY\", \"BROTEC\", \"CAMMIC\", \"CARE_SP\", \"COLL…\n",
            "$ cover_pct    \u001b[3m\u001b[90m<int>\u001b[39m\u001b[23m 10, 2, 10, 1, 1, 1, 1, 1, 5, 3, 15, 0, 1, 10, 4, 2, 15, …\n"
          ],
          "name": "stdout"
        }
      ]
    },
    {
      "cell_type": "markdown",
      "metadata": {
        "id": "0FWBUqUqWSNm"
      },
      "source": [
        "#### plot_rep"
      ]
    },
    {
      "cell_type": "code",
      "metadata": {
        "id": "qNVlve_WWY9a",
        "outputId": "60d52cc9-fcf4-450a-b5dd-285638fb7e67",
        "colab": {
          "base_uri": "https://localhost:8080/"
        }
      },
      "source": [
        "# detect \"A\", \"B\", \"C\" characters in plot_code and if present write to 'plot_rep'\n",
        "df_rep <- df_loc %>%\n",
        "  mutate(plot_rep = case_when(str_detect(plot_code, \"A\")~\"A\",\n",
        "                              str_detect(plot_code, \"B\")~\"B\",\n",
        "                              str_detect(plot_code, \"C\")~\"C\")) %>%\n",
        "         select(plot_code, plot_loc, plot_rep, plot_num, subplot, species_code, cover_pct) %>% glimpse()"
      ],
      "execution_count": null,
      "outputs": [
        {
          "output_type": "stream",
          "text": [
            "Rows: 9,150\n",
            "Columns: 7\n",
            "$ plot_code    \u001b[3m\u001b[90m<chr>\u001b[39m\u001b[23m \"YVP N7\", \"YVP N7\", \"YVP N7\", \"YVP N7\", \"YVP N7\", \"YVP N…\n",
            "$ plot_loc     \u001b[3m\u001b[90m<chr>\u001b[39m\u001b[23m \"N\", \"N\", \"N\", \"N\", \"N\", \"N\", \"N\", \"N\", \"N\", \"N\", \"N\", \"…\n",
            "$ plot_rep     \u001b[3m\u001b[90m<chr>\u001b[39m\u001b[23m NA, NA, NA, NA, NA, NA, NA, NA, NA, NA, NA, NA, NA, NA, …\n",
            "$ plot_num     \u001b[3m\u001b[90m<int>\u001b[39m\u001b[23m 7, 7, 7, 7, 7, 7, 7, 7, 7, 7, 7, 7, 7, 7, 7, 7, 7, 7, 7,…\n",
            "$ subplot      \u001b[3m\u001b[90m<int>\u001b[39m\u001b[23m 1, 1, 1, 1, 1, 1, 1, 1, 1, 1, 1, 1, 1, 1, 1, 1, 1, 1, 2,…\n",
            "$ species_code \u001b[3m\u001b[90m<chr>\u001b[39m\u001b[23m \"ACHMIL\", \"ALYALY\", \"BROTEC\", \"CAMMIC\", \"CARE_SP\", \"COLL…\n",
            "$ cover_pct    \u001b[3m\u001b[90m<int>\u001b[39m\u001b[23m 10, 2, 10, 1, 1, 1, 1, 1, 5, 3, 15, 0, 1, 10, 4, 2, 15, …\n"
          ],
          "name": "stdout"
        }
      ]
    },
    {
      "cell_type": "markdown",
      "metadata": {
        "id": "R8DYL00Fb0Lu"
      },
      "source": [
        "#### grid_point"
      ]
    },
    {
      "cell_type": "code",
      "metadata": {
        "id": "GB_RxW35YO39",
        "outputId": "edcdba0a-4e8e-4ec0-98bd-49ced16b04c8",
        "colab": {
          "base_uri": "https://localhost:8080/"
        }
      },
      "source": [
        "# update variable name to grid_point\n",
        "df_grid <- df_rep %>% \n",
        "  rename(grid_point = plot_num) %>% glimpse()"
      ],
      "execution_count": null,
      "outputs": [
        {
          "output_type": "stream",
          "text": [
            "Rows: 9,150\n",
            "Columns: 7\n",
            "$ plot_code    \u001b[3m\u001b[90m<chr>\u001b[39m\u001b[23m \"YVP N7\", \"YVP N7\", \"YVP N7\", \"YVP N7\", \"YVP N7\", \"YVP N…\n",
            "$ plot_loc     \u001b[3m\u001b[90m<chr>\u001b[39m\u001b[23m \"N\", \"N\", \"N\", \"N\", \"N\", \"N\", \"N\", \"N\", \"N\", \"N\", \"N\", \"…\n",
            "$ plot_rep     \u001b[3m\u001b[90m<chr>\u001b[39m\u001b[23m NA, NA, NA, NA, NA, NA, NA, NA, NA, NA, NA, NA, NA, NA, …\n",
            "$ grid_point   \u001b[3m\u001b[90m<int>\u001b[39m\u001b[23m 7, 7, 7, 7, 7, 7, 7, 7, 7, 7, 7, 7, 7, 7, 7, 7, 7, 7, 7,…\n",
            "$ subplot      \u001b[3m\u001b[90m<int>\u001b[39m\u001b[23m 1, 1, 1, 1, 1, 1, 1, 1, 1, 1, 1, 1, 1, 1, 1, 1, 1, 1, 2,…\n",
            "$ species_code \u001b[3m\u001b[90m<chr>\u001b[39m\u001b[23m \"ACHMIL\", \"ALYALY\", \"BROTEC\", \"CAMMIC\", \"CARE_SP\", \"COLL…\n",
            "$ cover_pct    \u001b[3m\u001b[90m<int>\u001b[39m\u001b[23m 10, 2, 10, 1, 1, 1, 1, 1, 5, 3, 15, 0, 1, 10, 4, 2, 15, …\n"
          ],
          "name": "stdout"
        }
      ]
    },
    {
      "cell_type": "markdown",
      "metadata": {
        "id": "ULsKFbhjNZ3p"
      },
      "source": [
        "### date"
      ]
    },
    {
      "cell_type": "code",
      "metadata": {
        "id": "V6vmU8-ryxfD",
        "outputId": "058ac038-0bc4-4174-f695-fe442e51b0a0",
        "colab": {
          "base_uri": "https://localhost:8080/"
        }
      },
      "source": [
        "# create Plot in df_grid_point to enable join\n",
        "df_join <- df_grid %>% \n",
        "  mutate(Plot = str_sub(plot_code, 5)) %>% glimpse()"
      ],
      "execution_count": null,
      "outputs": [
        {
          "output_type": "stream",
          "text": [
            "Rows: 9,150\n",
            "Columns: 8\n",
            "$ plot_code    \u001b[3m\u001b[90m<chr>\u001b[39m\u001b[23m \"YVP N7\", \"YVP N7\", \"YVP N7\", \"YVP N7\", \"YVP N7\", \"YVP N…\n",
            "$ plot_loc     \u001b[3m\u001b[90m<chr>\u001b[39m\u001b[23m \"N\", \"N\", \"N\", \"N\", \"N\", \"N\", \"N\", \"N\", \"N\", \"N\", \"N\", \"…\n",
            "$ plot_rep     \u001b[3m\u001b[90m<chr>\u001b[39m\u001b[23m NA, NA, NA, NA, NA, NA, NA, NA, NA, NA, NA, NA, NA, NA, …\n",
            "$ grid_point   \u001b[3m\u001b[90m<int>\u001b[39m\u001b[23m 7, 7, 7, 7, 7, 7, 7, 7, 7, 7, 7, 7, 7, 7, 7, 7, 7, 7, 7,…\n",
            "$ subplot      \u001b[3m\u001b[90m<int>\u001b[39m\u001b[23m 1, 1, 1, 1, 1, 1, 1, 1, 1, 1, 1, 1, 1, 1, 1, 1, 1, 1, 2,…\n",
            "$ species_code \u001b[3m\u001b[90m<chr>\u001b[39m\u001b[23m \"ACHMIL\", \"ALYALY\", \"BROTEC\", \"CAMMIC\", \"CARE_SP\", \"COLL…\n",
            "$ cover_pct    \u001b[3m\u001b[90m<int>\u001b[39m\u001b[23m 10, 2, 10, 1, 1, 1, 1, 1, 5, 3, 15, 0, 1, 10, 4, 2, 15, …\n",
            "$ Plot         \u001b[3m\u001b[90m<chr>\u001b[39m\u001b[23m \"N7\", \"N7\", \"N7\", \"N7\", \"N7\", \"N7\", \"N7\", \"N7\", \"N7\", \"N…\n"
          ],
          "name": "stdout"
        }
      ]
    },
    {
      "cell_type": "code",
      "metadata": {
        "id": "qJREtrbNNBro",
        "outputId": "52064d16-94ba-48eb-cd7b-455a1047e8d5",
        "colab": {
          "base_uri": "https://localhost:8080/"
        }
      },
      "source": [
        "# date:ISO\n",
        "# With 2020 data, create via join with survey_metadata\n",
        "df_date <- df_join %>% \n",
        "  left_join(df_meta, by = c(\"Plot\" = \"Plot\")) %>%\n",
        "  rename(date = Date) %>%\n",
        "  select(plot_code, plot_loc, plot_rep, grid_point, date, subplot, species_code, cover_pct) %>% glimpse()"
      ],
      "execution_count": null,
      "outputs": [
        {
          "output_type": "stream",
          "text": [
            "Rows: 9,150\n",
            "Columns: 8\n",
            "$ plot_code    \u001b[3m\u001b[90m<chr>\u001b[39m\u001b[23m \"YVP N7\", \"YVP N7\", \"YVP N7\", \"YVP N7\", \"YVP N7\", \"YVP N…\n",
            "$ plot_loc     \u001b[3m\u001b[90m<chr>\u001b[39m\u001b[23m \"N\", \"N\", \"N\", \"N\", \"N\", \"N\", \"N\", \"N\", \"N\", \"N\", \"N\", \"…\n",
            "$ plot_rep     \u001b[3m\u001b[90m<chr>\u001b[39m\u001b[23m NA, NA, NA, NA, NA, NA, NA, NA, NA, NA, NA, NA, NA, NA, …\n",
            "$ grid_point   \u001b[3m\u001b[90m<int>\u001b[39m\u001b[23m 7, 7, 7, 7, 7, 7, 7, 7, 7, 7, 7, 7, 7, 7, 7, 7, 7, 7, 7,…\n",
            "$ date         \u001b[3m\u001b[90m<date>\u001b[39m\u001b[23m 2020-05-31, 2020-05-31, 2020-05-31, 2020-05-31, 2020-05…\n",
            "$ subplot      \u001b[3m\u001b[90m<int>\u001b[39m\u001b[23m 1, 1, 1, 1, 1, 1, 1, 1, 1, 1, 1, 1, 1, 1, 1, 1, 1, 1, 2,…\n",
            "$ species_code \u001b[3m\u001b[90m<chr>\u001b[39m\u001b[23m \"ACHMIL\", \"ALYALY\", \"BROTEC\", \"CAMMIC\", \"CARE_SP\", \"COLL…\n",
            "$ cover_pct    \u001b[3m\u001b[90m<int>\u001b[39m\u001b[23m 10, 2, 10, 1, 1, 1, 1, 1, 5, 3, 15, 0, 1, 10, 4, 2, 15, …\n"
          ],
          "name": "stdout"
        }
      ]
    },
    {
      "cell_type": "markdown",
      "metadata": {
        "id": "uRiMTPiIpiFj"
      },
      "source": [
        "### subplot"
      ]
    },
    {
      "cell_type": "code",
      "metadata": {
        "id": "Dr40XXIQpje1",
        "outputId": "e436e09e-f6a3-477c-f9e6-9005e9e36799",
        "colab": {
          "base_uri": "https://localhost:8080/",
          "height": 34
        }
      },
      "source": [
        "typeof(df_date$subplot)"
      ],
      "execution_count": null,
      "outputs": [
        {
          "output_type": "display_data",
          "data": {
            "text/plain": [
              "[1] \"integer\""
            ],
            "text/latex": "'integer'",
            "text/markdown": "'integer'",
            "text/html": [
              "'integer'"
            ]
          },
          "metadata": {
            "tags": []
          }
        }
      ]
    },
    {
      "cell_type": "markdown",
      "metadata": {
        "id": "d7RW6V3ZWGmg"
      },
      "source": [
        "### key_plant_code"
      ]
    },
    {
      "cell_type": "code",
      "metadata": {
        "id": "1CmtWg-EWIDc",
        "outputId": "126edabf-39e1-4dd6-e069-1c2f0d93be75",
        "colab": {
          "base_uri": "https://localhost:8080/"
        }
      },
      "source": [
        "# rename variable from species_code to key_plant_code\n",
        "df_code <- df_date %>%\n",
        "  rename(key_plant_code = species_code) %>% glimpse()"
      ],
      "execution_count": null,
      "outputs": [
        {
          "output_type": "stream",
          "text": [
            "Rows: 9,150\n",
            "Columns: 8\n",
            "$ plot_code      \u001b[3m\u001b[90m<chr>\u001b[39m\u001b[23m \"YVP N7\", \"YVP N7\", \"YVP N7\", \"YVP N7\", \"YVP N7\", \"YVP…\n",
            "$ plot_loc       \u001b[3m\u001b[90m<chr>\u001b[39m\u001b[23m \"N\", \"N\", \"N\", \"N\", \"N\", \"N\", \"N\", \"N\", \"N\", \"N\", \"N\",…\n",
            "$ plot_rep       \u001b[3m\u001b[90m<chr>\u001b[39m\u001b[23m NA, NA, NA, NA, NA, NA, NA, NA, NA, NA, NA, NA, NA, NA…\n",
            "$ grid_point     \u001b[3m\u001b[90m<int>\u001b[39m\u001b[23m 7, 7, 7, 7, 7, 7, 7, 7, 7, 7, 7, 7, 7, 7, 7, 7, 7, 7, …\n",
            "$ date           \u001b[3m\u001b[90m<date>\u001b[39m\u001b[23m 2020-05-31, 2020-05-31, 2020-05-31, 2020-05-31, 2020-…\n",
            "$ subplot        \u001b[3m\u001b[90m<int>\u001b[39m\u001b[23m 1, 1, 1, 1, 1, 1, 1, 1, 1, 1, 1, 1, 1, 1, 1, 1, 1, 1, …\n",
            "$ key_plant_code \u001b[3m\u001b[90m<chr>\u001b[39m\u001b[23m \"ACHMIL\", \"ALYALY\", \"BROTEC\", \"CAMMIC\", \"CARE_SP\", \"CO…\n",
            "$ cover_pct      \u001b[3m\u001b[90m<int>\u001b[39m\u001b[23m 10, 2, 10, 1, 1, 1, 1, 1, 5, 3, 15, 0, 1, 10, 4, 2, 15…\n"
          ],
          "name": "stdout"
        }
      ]
    },
    {
      "cell_type": "markdown",
      "metadata": {
        "id": "S5UZM86eOSi-"
      },
      "source": [
        "## Identify Double Counted Species\n",
        "In a few instances, a plant species is counted twice in the same survey subplot. This could inflate the cover reported for that species. In these cases, the desired end product is to have just one row for each. Because there is no way to know which value of the two is correct, we will average the two values, treating them empirically as independent, legitimate cover estimates. "
      ]
    },
    {
      "cell_type": "code",
      "metadata": {
        "id": "S1zKtNFnjSp8",
        "outputId": "57785070-5bcc-4d78-8ca9-18e1f0e9b53d",
        "colab": {
          "base_uri": "https://localhost:8080/",
          "height": 255
        }
      },
      "source": [
        "df_code %>% summary()"
      ],
      "execution_count": null,
      "outputs": [
        {
          "output_type": "display_data",
          "data": {
            "text/plain": [
              "  plot_code           plot_loc           plot_rep           grid_point   \n",
              " Length:9150        Length:9150        Length:9150        Min.   :  7.0  \n",
              " Class :character   Class :character   Class :character   1st Qu.: 64.0  \n",
              " Mode  :character   Mode  :character   Mode  :character   Median :209.0  \n",
              "                                                          Mean   :250.1  \n",
              "                                                          3rd Qu.:395.0  \n",
              "                                                          Max.   :571.0  \n",
              "      date               subplot       key_plant_code       cover_pct     \n",
              " Min.   :2020-05-09   Min.   : 1.000   Length:9150        Min.   : 0.000  \n",
              " 1st Qu.:2020-05-22   1st Qu.: 3.000   Class :character   1st Qu.: 1.000  \n",
              " Median :2020-06-05   Median : 6.000   Mode  :character   Median : 1.000  \n",
              " Mean   :2020-06-03   Mean   : 5.518                      Mean   : 4.219  \n",
              " 3rd Qu.:2020-06-17   3rd Qu.: 8.000                      3rd Qu.: 3.000  \n",
              " Max.   :2020-07-01   Max.   :10.000                      Max.   :80.000  "
            ]
          },
          "metadata": {
            "tags": []
          }
        }
      ]
    },
    {
      "cell_type": "markdown",
      "metadata": {
        "id": "O7K6Nufz47Jj"
      },
      "source": [
        "No NA values in any of the numeric variables"
      ]
    },
    {
      "cell_type": "code",
      "metadata": {
        "id": "GBK_5LpzjdtP",
        "outputId": "a2e552a1-2c67-4ad2-d524-9e96213d1f34",
        "colab": {
          "base_uri": "https://localhost:8080/",
          "height": 34
        }
      },
      "source": [
        "typeof(as.integer(year(df_code$date)))"
      ],
      "execution_count": null,
      "outputs": [
        {
          "output_type": "display_data",
          "data": {
            "text/plain": [
              "[1] \"integer\""
            ],
            "text/latex": "'integer'",
            "text/markdown": "'integer'",
            "text/html": [
              "'integer'"
            ]
          },
          "metadata": {
            "tags": []
          }
        }
      ]
    },
    {
      "cell_type": "code",
      "metadata": {
        "id": "r8QoSvBgUfnC",
        "outputId": "e51e8424-0e34-4aab-d3f7-289f7ad60340",
        "colab": {
          "base_uri": "https://localhost:8080/"
        }
      },
      "source": [
        "# Find instances where a plant species is counted twice in the same year-plot-subplot combination\n",
        "df_code %>%\n",
        "group_by(year = as.integer(year(df_code$date)), plot_code, subplot, key_plant_code) %>%\n",
        "summarize(counted = n()) %>% \n",
        "ungroup() %>%\n",
        "arrange(year, plot_code, subplot, desc(counted)) %>%\n",
        "filter(counted > 1) %>%\n",
        "print(n=Inf)"
      ],
      "execution_count": null,
      "outputs": [
        {
          "output_type": "stream",
          "text": [
            "`summarise()` regrouping output by 'year', 'plot_code', 'subplot' (override with `.groups` argument)\n",
            "\n"
          ],
          "name": "stderr"
        },
        {
          "output_type": "stream",
          "text": [
            "\u001b[90m# A tibble: 12 x 5\u001b[39m\n",
            "    year plot_code subplot key_plant_code counted\n",
            "   \u001b[3m\u001b[90m<int>\u001b[39m\u001b[23m \u001b[3m\u001b[90m<chr>\u001b[39m\u001b[23m       \u001b[3m\u001b[90m<int>\u001b[39m\u001b[23m \u001b[3m\u001b[90m<chr>\u001b[39m\u001b[23m            \u001b[3m\u001b[90m<int>\u001b[39m\u001b[23m\n",
            "\u001b[90m 1\u001b[39m  \u001b[4m2\u001b[24m020 YVP 144        10 COLLIN               2\n",
            "\u001b[90m 2\u001b[39m  \u001b[4m2\u001b[24m020 YVP 181         9 ARANUT               2\n",
            "\u001b[90m 3\u001b[39m  \u001b[4m2\u001b[24m020 YVP 184         1 PLEMAC               2\n",
            "\u001b[90m 4\u001b[39m  \u001b[4m2\u001b[24m020 YVP 185         1 PRUVIR               2\n",
            "\u001b[90m 5\u001b[39m  \u001b[4m2\u001b[24m020 YVP 22         10 VERVER               2\n",
            "\u001b[90m 6\u001b[39m  \u001b[4m2\u001b[24m020 YVP 479         1 RANREP               2\n",
            "\u001b[90m 7\u001b[39m  \u001b[4m2\u001b[24m020 YVP 62          4 VERVER               2\n",
            "\u001b[90m 8\u001b[39m  \u001b[4m2\u001b[24m020 YVP N324        7 EUPESU               2\n",
            "\u001b[90m 9\u001b[39m  \u001b[4m2\u001b[24m020 YVP N348       10 CYNOFF               2\n",
            "\u001b[90m10\u001b[39m  \u001b[4m2\u001b[24m020 YVP N501        6 EPIBRA               2\n",
            "\u001b[90m11\u001b[39m  \u001b[4m2\u001b[24m020 YVP N7          1 ALYALY               2\n",
            "\u001b[90m12\u001b[39m  \u001b[4m2\u001b[24m020 YVP NB294       8 LUPSER               2\n"
          ],
          "name": "stdout"
        }
      ]
    },
    {
      "cell_type": "markdown",
      "metadata": {
        "id": "_6zit0xG6F4l"
      },
      "source": [
        "## Resolve double counted species\n",
        "Twelve species were counted twice in the same subplot. The dataframe has 9150 records now; after resolving the double counts it should have 9138. "
      ]
    },
    {
      "cell_type": "code",
      "metadata": {
        "id": "lHNGrXcy6lNN",
        "outputId": "3dba37fc-af08-4fa5-b447-2c00b6fbed09",
        "colab": {
          "base_uri": "https://localhost:8080/"
        }
      },
      "source": [
        "df_resolve <-\n",
        "  df_code %>%\n",
        "  group_by(plot_code, plot_loc, plot_rep, grid_point, date, subplot, key_plant_code) %>%\n",
        "  summarize(cover_pct = mean(cover_pct)) %>% \n",
        "  ungroup() %>% glimpse()"
      ],
      "execution_count": null,
      "outputs": [
        {
          "output_type": "stream",
          "text": [
            "`summarise()` regrouping output by 'plot_code', 'plot_loc', 'plot_rep', 'grid_point', 'date', 'subplot' (override with `.groups` argument)\n",
            "\n"
          ],
          "name": "stderr"
        },
        {
          "output_type": "stream",
          "text": [
            "Rows: 9,138\n",
            "Columns: 8\n",
            "$ plot_code      \u001b[3m\u001b[90m<chr>\u001b[39m\u001b[23m \"YVP 10\", \"YVP 10\", \"YVP 10\", \"YVP 10\", \"YVP 10\", \"YVP…\n",
            "$ plot_loc       \u001b[3m\u001b[90m<chr>\u001b[39m\u001b[23m NA, NA, NA, NA, NA, NA, NA, NA, NA, NA, NA, NA, NA, NA…\n",
            "$ plot_rep       \u001b[3m\u001b[90m<chr>\u001b[39m\u001b[23m NA, NA, NA, NA, NA, NA, NA, NA, NA, NA, NA, NA, NA, NA…\n",
            "$ grid_point     \u001b[3m\u001b[90m<int>\u001b[39m\u001b[23m 10, 10, 10, 10, 10, 10, 10, 10, 10, 10, 10, 10, 10, 10…\n",
            "$ date           \u001b[3m\u001b[90m<date>\u001b[39m\u001b[23m 2020-06-27, 2020-06-27, 2020-06-27, 2020-06-27, 2020-…\n",
            "$ subplot        \u001b[3m\u001b[90m<int>\u001b[39m\u001b[23m 1, 1, 1, 1, 1, 1, 1, 1, 1, 1, 1, 1, 1, 1, 1, 1, 1, 2, …\n",
            "$ key_plant_code \u001b[3m\u001b[90m<chr>\u001b[39m\u001b[23m \"ALLCER\", \"ANTE_SP\", \"BOEC_SP\", \"BROTEC\", \"CREINT\", \"E…\n",
            "$ cover_pct      \u001b[3m\u001b[90m<dbl>\u001b[39m\u001b[23m 1, 1, 1, 0, 0, 2, 10, 30, 5, 1, 0, 1, 2, 1, 20, 2, 0, …\n"
          ],
          "name": "stdout"
        }
      ]
    },
    {
      "cell_type": "markdown",
      "metadata": {
        "id": "3xXwJ5Bo8fBi"
      },
      "source": [
        "And the result shows the expected number of records. Diagnostics were run on `cover_pct` and they are not shown here, but the quantitative data behaved as expected. Here is the diagnostic code for future reference:\n",
        "\n",
        "> Histograms show that distributions of cover_pct did not change\n",
        "```\n",
        "df_code %>% ggplot(aes(x = cover_pct)) + geom_histogram()\n",
        "df_resolve %>% ggplot(aes(x = cover_pct)) + geom_histogram()\n",
        "```\n",
        "> A correlation of before and after averaging show that cover_pct lines up, and the very few slight deviations produced by averaging are visible\n",
        "```\n",
        "one <- df_code %>% group_by(grid_point) %>% summarize(m = mean(cover_pct)) \n",
        "two <- df_resolve %>% group_by(grid_point) %>% summarize(m = mean(cover_pct)) \n",
        "plot(one$m, two$m)\n",
        "```"
      ]
    },
    {
      "cell_type": "code",
      "metadata": {
        "id": "y0wKttne2T3V",
        "outputId": "4515e88a-ae4f-4d67-80fc-b115f39a8483",
        "colab": {
          "base_uri": "https://localhost:8080/",
          "height": 527
        }
      },
      "source": [
        "print(\"original data\")\n",
        "summary(df_code)\n",
        "print(\"transformed data\")\n",
        "summary(df_resolve)"
      ],
      "execution_count": null,
      "outputs": [
        {
          "output_type": "stream",
          "text": [
            "[1] \"original data\"\n"
          ],
          "name": "stdout"
        },
        {
          "output_type": "display_data",
          "data": {
            "text/plain": [
              "  plot_code           plot_loc           plot_rep           grid_point   \n",
              " Length:9150        Length:9150        Length:9150        Min.   :  7.0  \n",
              " Class :character   Class :character   Class :character   1st Qu.: 64.0  \n",
              " Mode  :character   Mode  :character   Mode  :character   Median :209.0  \n",
              "                                                          Mean   :250.1  \n",
              "                                                          3rd Qu.:395.0  \n",
              "                                                          Max.   :571.0  \n",
              "      date               subplot       key_plant_code       cover_pct     \n",
              " Min.   :2020-05-09   Min.   : 1.000   Length:9150        Min.   : 0.000  \n",
              " 1st Qu.:2020-05-22   1st Qu.: 3.000   Class :character   1st Qu.: 1.000  \n",
              " Median :2020-06-05   Median : 6.000   Mode  :character   Median : 1.000  \n",
              " Mean   :2020-06-03   Mean   : 5.518                      Mean   : 4.219  \n",
              " 3rd Qu.:2020-06-17   3rd Qu.: 8.000                      3rd Qu.: 3.000  \n",
              " Max.   :2020-07-01   Max.   :10.000                      Max.   :80.000  "
            ]
          },
          "metadata": {
            "tags": []
          }
        },
        {
          "output_type": "stream",
          "text": [
            "[1] \"transformed data\"\n"
          ],
          "name": "stdout"
        },
        {
          "output_type": "display_data",
          "data": {
            "text/plain": [
              "  plot_code           plot_loc           plot_rep           grid_point   \n",
              " Length:9138        Length:9138        Length:9138        Min.   :  7.0  \n",
              " Class :character   Class :character   Class :character   1st Qu.: 64.0  \n",
              " Mode  :character   Mode  :character   Mode  :character   Median :209.0  \n",
              "                                                          Mean   :250.1  \n",
              "                                                          3rd Qu.:395.0  \n",
              "                                                          Max.   :571.0  \n",
              "      date               subplot       key_plant_code       cover_pct     \n",
              " Min.   :2020-05-09   Min.   : 1.000   Length:9138        Min.   : 0.000  \n",
              " 1st Qu.:2020-05-22   1st Qu.: 3.000   Class :character   1st Qu.: 1.000  \n",
              " Median :2020-06-05   Median : 6.000   Mode  :character   Median : 1.000  \n",
              " Mean   :2020-06-03   Mean   : 5.518                      Mean   : 4.223  \n",
              " 3rd Qu.:2020-06-17   3rd Qu.: 8.000                      3rd Qu.: 3.000  \n",
              " Max.   :2020-07-01   Max.   :10.000                      Max.   :80.000  "
            ]
          },
          "metadata": {
            "tags": []
          }
        }
      ]
    },
    {
      "cell_type": "markdown",
      "metadata": {
        "id": "4_xQ-_Zz9llZ"
      },
      "source": [
        "The mean of cover_pct changed slightly, as expected"
      ]
    },
    {
      "cell_type": "code",
      "metadata": {
        "id": "gIQGGEI5izjG",
        "outputId": "43500dd1-8372-4182-ee26-72326e2d275f",
        "colab": {
          "base_uri": "https://localhost:8080/"
        }
      },
      "source": [
        "# rescan for double observations\n",
        "df_resolve %>%\n",
        "group_by(year = as.integer(year(df_resolve$date)), plot_code, subplot, key_plant_code) %>%\n",
        "summarize(counted = n()) %>% \n",
        "ungroup() %>%\n",
        "arrange(year, plot_code, subplot, desc(counted)) %>%\n",
        "filter(counted > 1) %>%\n",
        "print(n=Inf)"
      ],
      "execution_count": null,
      "outputs": [
        {
          "output_type": "stream",
          "text": [
            "`summarise()` regrouping output by 'year', 'plot_code', 'subplot' (override with `.groups` argument)\n",
            "\n"
          ],
          "name": "stderr"
        },
        {
          "output_type": "stream",
          "text": [
            "\u001b[90m# A tibble: 0 x 5\u001b[39m\n",
            "\u001b[90m# … with 5 variables: year \u001b[3m\u001b[90m<int>\u001b[90m\u001b[23m, plot_code \u001b[3m\u001b[90m<chr>\u001b[90m\u001b[23m, subplot \u001b[3m\u001b[90m<int>\u001b[90m\u001b[23m,\u001b[39m\n",
            "\u001b[90m#   key_plant_code \u001b[3m\u001b[90m<chr>\u001b[90m\u001b[23m, counted \u001b[3m\u001b[90m<int>\u001b[90m\u001b[23m\u001b[39m\n"
          ],
          "name": "stdout"
        }
      ]
    },
    {
      "cell_type": "markdown",
      "metadata": {
        "id": "DUlLTjDzKqDW"
      },
      "source": [
        "## Correct errors in species codes\n",
        "The species codes used in the source data contain numerous errors, and they also in some cases represent old taxonomy where species names have been revised. This can cause all sorts of problems, like artificially creating new species or making it impossible to join with available species metadata. Several steps must be accomplished here:\n",
        "\n",
        "1. Trim leading or trailing spaces from the code (this was done in excel before source CSV files were created)\n",
        "2. Read in master list of species metadata and query YVP species codes to identify which ones don't align\n",
        "3. Align the species codes, identify the ones that are wrong and correct them\n",
        "4. Import the numeric key from the species metadata so that future aligments are easier and errors are less common"
      ]
    },
    {
      "cell_type": "code",
      "metadata": {
        "id": "3lRWXJzFMPwA",
        "outputId": "0474c74d-7be5-4e22-b879-e46577b4b6b6",
        "colab": {
          "base_uri": "https://localhost:8080/"
        }
      },
      "source": [
        "df_metaveg %>% glimpse()"
      ],
      "execution_count": null,
      "outputs": [
        {
          "output_type": "stream",
          "text": [
            "Rows: 754\n",
            "Columns: 2\n",
            "$ key_plant_species \u001b[3m\u001b[90m<int>\u001b[39m\u001b[23m 360, 13, 26, 53, 738, 75, 76, 746, 83, 88, 86, 87, …\n",
            "$ key_plant_code    \u001b[3m\u001b[90m<chr>\u001b[39m\u001b[23m \"NV\", \"AGRSCA\", \"ANDGER\", \"ARIPUR\", \"BOUCUR\", \"BOUG…\n"
          ],
          "name": "stdout"
        }
      ]
    },
    {
      "cell_type": "markdown",
      "metadata": {
        "id": "LrDekiW92cuH"
      },
      "source": [
        "### Align species codes and identify mistakes\n"
      ]
    },
    {
      "cell_type": "code",
      "metadata": {
        "id": "pOFU9VmmXPA-",
        "outputId": "3508a51f-654e-4e63-cb40-44634d7ef637",
        "colab": {
          "base_uri": "https://localhost:8080/",
          "height": 153
        }
      },
      "source": [
        "df_resolve %>% \n",
        "anti_join(df_metaveg, by = c(\"key_plant_code\" = \"key_plant_code\")) %>% \n",
        "group_by(key_plant_code) %>% \n",
        "summarize(n_incorrect = n()) %>% \n",
        "kable(format = \"pandoc\")"
      ],
      "execution_count": null,
      "outputs": [
        {
          "output_type": "stream",
          "text": [
            "`summarise()` ungrouping output (override with `.groups` argument)\n",
            "\n"
          ],
          "name": "stderr"
        },
        {
          "output_type": "display_data",
          "data": {
            "text/plain": [
              "\n",
              "\n",
              "key_plant_code    n_incorrect\n",
              "---------------  ------------\n",
              "ARAB_SP                     1\n",
              "FESC_SP                     1"
            ]
          },
          "metadata": {
            "tags": []
          }
        }
      ]
    },
    {
      "cell_type": "code",
      "metadata": {
        "id": "EguA0hw4KH_0",
        "outputId": "01706acc-320b-4f21-b934-282429a014cc",
        "colab": {
          "base_uri": "https://localhost:8080/"
        }
      },
      "source": [
        "# Update key_plant_codes based on comments 2020-11-03\n",
        "# ARAB_SP = UNK_FORB\n",
        "# FESC_SP = UNK_GRAM\n",
        "df_species <- \n",
        "  df_resolve %>%\n",
        "  mutate(key_plant_code = ifelse(str_detect(key_plant_code, \"ARAB_SP\"), \"UNK_FORB\", key_plant_code)) %>%\n",
        "  mutate(key_plant_code = ifelse(str_detect(key_plant_code, \"FESC_SP\"), \"UNK_GRAM\", key_plant_code)) %>% glimpse()"
      ],
      "execution_count": null,
      "outputs": [
        {
          "output_type": "stream",
          "text": [
            "Rows: 9,138\n",
            "Columns: 8\n",
            "$ plot_code      \u001b[3m\u001b[90m<chr>\u001b[39m\u001b[23m \"YVP 10\", \"YVP 10\", \"YVP 10\", \"YVP 10\", \"YVP 10\", \"YVP…\n",
            "$ plot_loc       \u001b[3m\u001b[90m<chr>\u001b[39m\u001b[23m NA, NA, NA, NA, NA, NA, NA, NA, NA, NA, NA, NA, NA, NA…\n",
            "$ plot_rep       \u001b[3m\u001b[90m<chr>\u001b[39m\u001b[23m NA, NA, NA, NA, NA, NA, NA, NA, NA, NA, NA, NA, NA, NA…\n",
            "$ grid_point     \u001b[3m\u001b[90m<int>\u001b[39m\u001b[23m 10, 10, 10, 10, 10, 10, 10, 10, 10, 10, 10, 10, 10, 10…\n",
            "$ date           \u001b[3m\u001b[90m<date>\u001b[39m\u001b[23m 2020-06-27, 2020-06-27, 2020-06-27, 2020-06-27, 2020-…\n",
            "$ subplot        \u001b[3m\u001b[90m<int>\u001b[39m\u001b[23m 1, 1, 1, 1, 1, 1, 1, 1, 1, 1, 1, 1, 1, 1, 1, 1, 1, 2, …\n",
            "$ key_plant_code \u001b[3m\u001b[90m<chr>\u001b[39m\u001b[23m \"ALLCER\", \"ANTE_SP\", \"BOEC_SP\", \"BROTEC\", \"CREINT\", \"E…\n",
            "$ cover_pct      \u001b[3m\u001b[90m<dbl>\u001b[39m\u001b[23m 1, 1, 1, 0, 0, 2, 10, 30, 5, 1, 0, 1, 2, 1, 20, 2, 0, …\n"
          ],
          "name": "stdout"
        }
      ]
    },
    {
      "cell_type": "code",
      "metadata": {
        "id": "Rj_9VO8sLkN3",
        "outputId": "97819049-2bf5-43be-8a0e-1d4cd8f3609b",
        "colab": {
          "base_uri": "https://localhost:8080/",
          "height": 95
        }
      },
      "source": [
        "# Rescan for incorrect species codes\n",
        "df_species %>% \n",
        "anti_join(df_metaveg, by = c(\"key_plant_code\" = \"key_plant_code\")) %>% \n",
        "group_by(key_plant_code) %>% distinct(key_plant_code) %>% arrange(key_plant_code)"
      ],
      "execution_count": null,
      "outputs": [
        {
          "output_type": "display_data",
          "data": {
            "text/plain": [
              "     key_plant_code"
            ],
            "text/latex": "A grouped\\_df: 0 × 1\n\\begin{tabular}{l}\n key\\_plant\\_code\\\\\n <chr>\\\\\n\\hline\n\\end{tabular}\n",
            "text/markdown": "\nA grouped_df: 0 × 1\n\n| key_plant_code &lt;chr&gt; |\n|---|\n\n",
            "text/html": [
              "<table>\n",
              "<caption>A grouped_df: 0 × 1</caption>\n",
              "<thead>\n",
              "\t<tr><th scope=col>key_plant_code</th></tr>\n",
              "\t<tr><th scope=col>&lt;chr&gt;</th></tr>\n",
              "</thead>\n",
              "<tbody>\n",
              "</tbody>\n",
              "</table>\n"
            ]
          },
          "metadata": {
            "tags": []
          }
        }
      ]
    },
    {
      "cell_type": "markdown",
      "metadata": {
        "id": "_jczSS4W6O_T"
      },
      "source": [
        "## Incorporate serial key for species codes"
      ]
    },
    {
      "cell_type": "code",
      "metadata": {
        "id": "7XNL3E1KdR39",
        "outputId": "ea14ad30-d715-4994-e260-5367bf09c3f5",
        "colab": {
          "base_uri": "https://localhost:8080/"
        }
      },
      "source": [
        "df_final <-\n",
        "  df_species %>% \n",
        "  left_join(df_metaveg, by = c(\"key_plant_code\" = \"key_plant_code\")) %>% \n",
        "  select(plot_code, plot_loc, plot_rep, grid_point, date, subplot, key_plant_species,\n",
        "         key_plant_code, cover_pct) %>%\n",
        "  glimpse()"
      ],
      "execution_count": null,
      "outputs": [
        {
          "output_type": "stream",
          "text": [
            "Rows: 9,138\n",
            "Columns: 9\n",
            "$ plot_code         \u001b[3m\u001b[90m<chr>\u001b[39m\u001b[23m \"YVP 10\", \"YVP 10\", \"YVP 10\", \"YVP 10\", \"YVP 10\", \"…\n",
            "$ plot_loc          \u001b[3m\u001b[90m<chr>\u001b[39m\u001b[23m NA, NA, NA, NA, NA, NA, NA, NA, NA, NA, NA, NA, NA,…\n",
            "$ plot_rep          \u001b[3m\u001b[90m<chr>\u001b[39m\u001b[23m NA, NA, NA, NA, NA, NA, NA, NA, NA, NA, NA, NA, NA,…\n",
            "$ grid_point        \u001b[3m\u001b[90m<int>\u001b[39m\u001b[23m 10, 10, 10, 10, 10, 10, 10, 10, 10, 10, 10, 10, 10,…\n",
            "$ date              \u001b[3m\u001b[90m<date>\u001b[39m\u001b[23m 2020-06-27, 2020-06-27, 2020-06-27, 2020-06-27, 20…\n",
            "$ subplot           \u001b[3m\u001b[90m<int>\u001b[39m\u001b[23m 1, 1, 1, 1, 1, 1, 1, 1, 1, 1, 1, 1, 1, 1, 1, 1, 1, …\n",
            "$ key_plant_species \u001b[3m\u001b[90m<int>\u001b[39m\u001b[23m 16, 37, 780, 82, 163, 230, 232, 233, 250, 274, 84, …\n",
            "$ key_plant_code    \u001b[3m\u001b[90m<chr>\u001b[39m\u001b[23m \"ALLCER\", \"ANTE_SP\", \"BOEC_SP\", \"BROTEC\", \"CREINT\",…\n",
            "$ cover_pct         \u001b[3m\u001b[90m<dbl>\u001b[39m\u001b[23m 1, 1, 1, 0, 0, 2, 10, 30, 5, 1, 0, 1, 2, 1, 20, 2, …\n"
          ],
          "name": "stdout"
        }
      ]
    },
    {
      "cell_type": "code",
      "metadata": {
        "id": "TUR0BSONNwCa",
        "outputId": "be666053-662a-45d4-a8c3-46cad473f3c9",
        "colab": {
          "base_uri": "https://localhost:8080/",
          "height": 374
        }
      },
      "source": [
        "summary(df_final)"
      ],
      "execution_count": null,
      "outputs": [
        {
          "output_type": "display_data",
          "data": {
            "text/plain": [
              "  plot_code           plot_loc           plot_rep           grid_point   \n",
              " Length:9138        Length:9138        Length:9138        Min.   :  7.0  \n",
              " Class :character   Class :character   Class :character   1st Qu.: 64.0  \n",
              " Mode  :character   Mode  :character   Mode  :character   Median :209.0  \n",
              "                                                          Mean   :250.1  \n",
              "                                                          3rd Qu.:395.0  \n",
              "                                                          Max.   :571.0  \n",
              "      date               subplot       key_plant_species key_plant_code    \n",
              " Min.   :2020-05-09   Min.   : 1.000   Min.   :  3.0     Length:9138       \n",
              " 1st Qu.:2020-05-22   1st Qu.: 3.000   1st Qu.:153.0     Class :character  \n",
              " Median :2020-06-05   Median : 6.000   Median :286.0     Mode  :character  \n",
              " Mean   :2020-06-03   Mean   : 5.518   Mean   :280.7                       \n",
              " 3rd Qu.:2020-06-17   3rd Qu.: 8.000   3rd Qu.:411.0                       \n",
              " Max.   :2020-07-01   Max.   :10.000   Max.   :784.0                       \n",
              "   cover_pct     \n",
              " Min.   : 0.000  \n",
              " 1st Qu.: 1.000  \n",
              " Median : 1.000  \n",
              " Mean   : 4.223  \n",
              " 3rd Qu.: 3.000  \n",
              " Max.   :80.000  "
            ]
          },
          "metadata": {
            "tags": []
          }
        }
      ]
    },
    {
      "cell_type": "markdown",
      "metadata": {
        "id": "wqrk0hpb86zD"
      },
      "source": [
        "# Output"
      ]
    },
    {
      "cell_type": "markdown",
      "metadata": {
        "id": "wZedeWaU7qty"
      },
      "source": [
        "## Export Wrangled DataFrame to CSV \n",
        "Export the full data set so that we can push it to the BQ database\n",
        "\n",
        "\n"
      ]
    },
    {
      "cell_type": "code",
      "metadata": {
        "id": "FKRdVva67thP",
        "outputId": "1939f18e-9fdd-49fa-f48c-0c37ef49e7fe",
        "colab": {
          "base_uri": "https://localhost:8080/"
        }
      },
      "source": [
        "# Output 2020-11-03 ES\n",
        "filename_final = \"yvp_vegetation_cover_WRANGLE-2020.csv\"\n",
        "\n",
        "if (filename_final %in% list.files(getwd())) {\n",
        "  cat(\"file already exists in working directory:\", filename_final, \"\\n\", \"working directory:\", getwd(), \"\\n\")\n",
        "} else {\n",
        "  write.csv(df_final, filename_final, row.names = FALSE)\n",
        "  cat(filename_final, \"written to working directory \\n\", \"working directory:\", getwd(), \"\\n\")\n",
        "}"
      ],
      "execution_count": null,
      "outputs": [
        {
          "output_type": "stream",
          "text": [
            "yvp_vegetation_cover_WRANGLE-2020.csv written to working directory \n",
            " working directory: /content \n"
          ],
          "name": "stdout"
        }
      ]
    },
    {
      "cell_type": "markdown",
      "metadata": {
        "id": "e_gWG69yLdlF"
      },
      "source": [
        "## Push to BigQuery"
      ]
    },
    {
      "cell_type": "markdown",
      "metadata": {
        "id": "5w-bW-2YMgSI"
      },
      "source": [
        "\"yvp_vegetation_cover_FINAL.csv\" uploaded manually to BigQuery"
      ]
    },
    {
      "cell_type": "markdown",
      "metadata": {
        "id": "TxPBf5Rk8dOS"
      },
      "source": [
        "## Export field datasheet version\n",
        "Field datasheets need to have a complete, cumulative species list for each plot recorded in a table, with the cover_pct column set to 0. This allows field techs to change the 0 to some number if the species is found. The date column is blank so that field techs can fill in the appropriate date. Do not include columns that are needed for data analysis, like plot_loc, plot_rep, plot_num, and species_key. \n",
        "\n",
        "**Schema for field data sheet**\n",
        "\n",
        "* plot_num (helps for sorting and finding plots)\n",
        "* plot_code\n",
        "* date\n",
        "* species_code\n",
        "* cover_pct"
      ]
    },
    {
      "cell_type": "code",
      "metadata": {
        "id": "dBaIyvdz9JWU",
        "outputId": "e4089a56-c0e0-4378-88e5-8f8a09574644",
        "colab": {
          "base_uri": "https://localhost:8080/",
          "height": 170
        }
      },
      "source": [
        "field_datasheet = \n",
        "yvp_vegetation_cover_FINAL %>% \n",
        "select(plot_num, plot_code, subplot, species_code) %>% \n",
        "group_by(plot_num, plot_code, subplot) %>% \n",
        "distinct(species_code) %>% \n",
        "select(-species_code, species_code) %>% \n",
        "add_column(date = NA, .after = \"plot_code\") %>% \n",
        "add_column(cover_pct = 0) %>% \n",
        "arrange(plot_num, plot_code, subplot, species_code) %>% \n",
        "glimpse()"
      ],
      "execution_count": null,
      "outputs": [
        {
          "output_type": "stream",
          "text": [
            "Rows: 8,861\n",
            "Columns: 6\n",
            "Groups: plot_num, plot_code, subplot [580]\n",
            "$ plot_num     \u001b[3m\u001b[90m<int>\u001b[39m\u001b[23m 7, 7, 7, 7, 7, 7, 7, 7, 7, 7, 7, 7, 7, 7, 7, 7, 7, 7, 7,…\n",
            "$ plot_code    \u001b[3m\u001b[90m<chr>\u001b[39m\u001b[23m \"YVP N7\", \"YVP N7\", \"YVP N7\", \"YVP N7\", \"YVP N7\", \"YVP N…\n",
            "$ date         \u001b[3m\u001b[90m<lgl>\u001b[39m\u001b[23m NA, NA, NA, NA, NA, NA, NA, NA, NA, NA, NA, NA, NA, NA, …\n",
            "$ subplot      \u001b[3m\u001b[90m<int>\u001b[39m\u001b[23m 1, 1, 1, 1, 1, 1, 1, 1, 1, 1, 1, 1, 1, 1, 1, 1, 1, 2, 2,…\n",
            "$ species_code \u001b[3m\u001b[90m<chr>\u001b[39m\u001b[23m \"ACHMIL\", \"ALYALY\", \"BROTEC\", \"CAMMIC\", \"CARE_SP\", \"COLL…\n",
            "$ cover_pct    \u001b[3m\u001b[90m<dbl>\u001b[39m\u001b[23m 0, 0, 0, 0, 0, 0, 0, 0, 0, 0, 0, 0, 0, 0, 0, 0, 0, 0, 0,…\n"
          ],
          "name": "stdout"
        }
      ]
    },
    {
      "cell_type": "code",
      "metadata": {
        "id": "gvuDq6wgEGH5",
        "outputId": "5922cbd3-a65e-4817-b01c-43fcd6f52345",
        "colab": {
          "base_uri": "https://localhost:8080/",
          "height": 51
        }
      },
      "source": [
        "filename_field_datasheet = \"yvp_vegetation_cover_field_datasheet_FINAL.csv\"\n",
        "\n",
        "if (filename_field_datasheet %in% list.files(getwd())) {\n",
        "  cat(\"file already exists in working directory:\", filename_final, \"\\n\", \"working directory:\", getwd(), \"\\n\")\n",
        "} else {\n",
        "  write.csv(field_datasheet, filename_field_datasheet)\n",
        "  cat(filename_final, \"written to working directory \\n\", \"working directory:\", getwd(), \"\\n\")\n",
        "}"
      ],
      "execution_count": null,
      "outputs": [
        {
          "output_type": "stream",
          "text": [
            "yvp_vegetation_cover_FINAL.csv written to working directory \n",
            " working directory: /content \n"
          ],
          "name": "stdout"
        }
      ]
    }
  ]
}