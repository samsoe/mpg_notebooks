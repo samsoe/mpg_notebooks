{
  "nbformat": 4,
  "nbformat_minor": 0,
  "metadata": {
    "colab": {
      "name": "Vegetation Biomass - Grass Forb Pooled - Wrangle.ipynb",
      "provenance": [],
      "collapsed_sections": [
        "oWuS7F0ZknkD"
      ],
      "toc_visible": true,
      "include_colab_link": true
    },
    "kernelspec": {
      "name": "python3",
      "display_name": "Python 3"
    }
  },
  "cells": [
    {
      "cell_type": "markdown",
      "metadata": {
        "id": "view-in-github",
        "colab_type": "text"
      },
      "source": [
        "<a href=\"https://colab.research.google.com/github/samsoe/mpg_notebooks/blob/master/Vegetation_Biomass_Grass_Forb_Pooled_Wrangle.ipynb\" target=\"_parent\"><img src=\"https://colab.research.google.com/assets/colab-badge.svg\" alt=\"Open In Colab\"/></a>"
      ]
    },
    {
      "cell_type": "markdown",
      "metadata": {
        "id": "mzd1FYAxH3ur",
        "colab_type": "text"
      },
      "source": [
        "# README\n",
        "* [Readme vegetation biomass](https://docs.google.com/document/d/1AF8qh7YRqEJ_5DjX0GrA3Z52RfGp2f22Jc2uLonGa2I/edit?usp=sharing)\n",
        "* [Readme vegetation biomass CARTO STAMEN](https://docs.google.com/document/d/1DIsO1yvobDKynRgoSvQ22HI4f8XYy5TPipa2vokGydQ/edit)"
      ]
    },
    {
      "cell_type": "markdown",
      "metadata": {
        "id": "1XhH8Zr-I1QY",
        "colab_type": "text"
      },
      "source": [
        "# Proposed Schema"
      ]
    },
    {
      "cell_type": "markdown",
      "metadata": {
        "id": "-BmnfuwcI4WQ",
        "colab_type": "text"
      },
      "source": [
        "* grid_point:INT\n",
        "* date:DATE (ISO)\n",
        "* year:DATE (“yyyy”)\n",
        "* season:STRING (“spring”, “fall”)\n",
        "  * Derived from DATE\n",
        "* Headers for biomass of known vegetation types:\n",
        "  * grass_g:NUMERIC\n",
        "* In data from 2016-2018\n",
        "  * forb_g:NUMERIC\n",
        "* In data from 2016-2018\n",
        "  * pooled_g:NUMERIC\n",
        "  * Pooled is the amount for years when the vegetation types were not weighed separately. It is NOT the same as a sum of the biomass in vegetation categories.\n",
        "Vegetation were pooled in 2010-2015, and again in 2019\n",
        "* add other vegetation types in the future as needed, for example `exotic_forb_g`, `native_grass_g`\n",
        "Note that we can produce sums of all vegetation biomass, or biomass in categories (forb, grass, native, exotic) in queries, views, or local environments. \n"
      ]
    },
    {
      "cell_type": "markdown",
      "metadata": {
        "id": "Xyx7r556KAHe",
        "colab_type": "text"
      },
      "source": [
        "# Import Tools"
      ]
    },
    {
      "cell_type": "code",
      "metadata": {
        "id": "vSuPe7urKGAt",
        "colab_type": "code",
        "colab": {}
      },
      "source": [
        "# load pandas package for dataframes\n",
        "import pandas as pd\n",
        "import numpy as np"
      ],
      "execution_count": 0,
      "outputs": []
    },
    {
      "cell_type": "markdown",
      "metadata": {
        "id": "e5KcS0jjJLhn",
        "colab_type": "text"
      },
      "source": [
        "# Source Data"
      ]
    },
    {
      "cell_type": "code",
      "metadata": {
        "id": "cDWg7oXsSL7W",
        "colab_type": "code",
        "colab": {}
      },
      "source": [
        "## 2020 Spring\n",
        "# '2020-04-21_spring_biomass_data'\n",
        "#src_2020_spring = 'https://drive.google.com/open?id=1zof71gBRqVLudM8e1SnLMCQZ7RK3FWSoFBEs-EWFRiM'\n",
        "# '2020-04-21_spring_biomass_data - Sheet1.csv'\n",
        "src_2020_spring = 'https://drive.google.com/uc?id=1Q1SvzROHySWxIjG7qSFYK9luwJB6RIJ0'\n",
        "\n",
        "## 2019 \n",
        "# '2019 Biomass Data.xlsx'\n",
        "src_2019 = 'https://drive.google.com/uc?id=1dd5F8R-mD6l7H2morac1r9ongf80xpff'\n",
        "\n",
        "## 2018\n",
        "# MPG vegetation biomass 2010-2018 - 2018 Spring.csv\n",
        "src_2018_spring = 'https://drive.google.com/uc?id=1Ple5R852yoJVA9WfDNS8TWVdQ1kxqFrr'\n",
        "\n",
        "# MPG vegetation biomass 2010-2018 - 2018 Fall.csv\n",
        "src_2018_fall = 'https://drive.google.com/uc?id=1kLyoAx0WR_hmHa4tgJbaj4lpdOILhFcj'\n",
        "\n",
        "## 2017\n",
        "# MPG vegetation biomass 2010-2018 - 2017 Spring.csv\n",
        "src_2017_spring = 'https://drive.google.com/uc?id=1YVVc60cXFc9BBSF391TXyTFvXM4KJkcO'\n",
        "\n",
        "# MPG vegetation biomass 2010-2018 - 2017 Fall.csv\n",
        "src_2017_fall = 'https://drive.google.com/uc?id=1cZfqSDf_geURgzF6v1vO7n1QeWvJM1z4'\n",
        "\n",
        "## 2016\n",
        "# MPG vegetation biomass 2010-2018 - 2016 Spring.csv\n",
        "src_2016_spring = 'https://drive.google.com/uc?id=1SovIlvFKY2FsOK_ibmm6UMQAsBk7hKEQ'\n",
        "\n",
        "# MPG vegetation biomass 2010-2018 - 2016 Fall.csv\n",
        "src_2016_fall = 'https://drive.google.com/uc?id=17W9h7rdUAhsk_vckpoZ8kGIwxSPPxpQl'\n",
        "\n",
        "## 2010 - 2015\n",
        "# MPG vegetation biomass 2010-2018 - 2010-2015.csv\n",
        "# this doesn't look like it contains grass/forb\n",
        "src_2010_15 = 'https://drive.google.com/uc?id=1Jxj71lx0Wm_uaJmnQTvBE5KNLMlyH4CO'"
      ],
      "execution_count": 0,
      "outputs": []
    },
    {
      "cell_type": "markdown",
      "metadata": {
        "id": "foF3d2WOT7el",
        "colab_type": "text"
      },
      "source": [
        "# Load and Wrangle Data by Year"
      ]
    },
    {
      "cell_type": "markdown",
      "metadata": {
        "id": "00Erm9YSRml0",
        "colab_type": "text"
      },
      "source": [
        "## 2020"
      ]
    },
    {
      "cell_type": "markdown",
      "metadata": {
        "id": "Pv-RTTO4Rp3Z",
        "colab_type": "text"
      },
      "source": [
        "### Spring"
      ]
    },
    {
      "cell_type": "code",
      "metadata": {
        "id": "_yykM0CqRrfl",
        "colab_type": "code",
        "colab": {}
      },
      "source": [
        "df_2020_spring = pd.read_csv(src_2020_spring)"
      ],
      "execution_count": 0,
      "outputs": []
    },
    {
      "cell_type": "code",
      "metadata": {
        "id": "GCQgjpjoUODQ",
        "colab_type": "code",
        "outputId": "b4b9436b-d533-4979-b63a-9491e3b13809",
        "colab": {
          "base_uri": "https://localhost:8080/",
          "height": 357
        }
      },
      "source": [
        "df_2020_spring.info()"
      ],
      "execution_count": 0,
      "outputs": [
        {
          "output_type": "stream",
          "text": [
            "<class 'pandas.core.frame.DataFrame'>\n",
            "RangeIndex: 162 entries, 0 to 161\n",
            "Data columns (total 13 columns):\n",
            " #   Column         Non-Null Count  Dtype  \n",
            "---  ------         --------------  -----  \n",
            " 0   Plot           162 non-null    int64  \n",
            " 1   year           162 non-null    int64  \n",
            " 2   season         162 non-null    object \n",
            " 3   biomass_100_g  162 non-null    float64\n",
            " 4   biomass_245_g  162 non-null    float64\n",
            " 5   biomass_300_g  162 non-null    float64\n",
            " 6   robel_N        162 non-null    int64  \n",
            " 7   robel_E        162 non-null    int64  \n",
            " 8   robel_S        162 non-null    int64  \n",
            " 9   robel_W        162 non-null    int64  \n",
            " 10  pellets_Deer   162 non-null    int64  \n",
            " 11  pellets_Elk    162 non-null    int64  \n",
            " 12  pellets_Horse  162 non-null    int64  \n",
            "dtypes: float64(3), int64(9), object(1)\n",
            "memory usage: 16.6+ KB\n"
          ],
          "name": "stdout"
        }
      ]
    },
    {
      "cell_type": "code",
      "metadata": {
        "id": "wxELcNxqUQOC",
        "colab_type": "code",
        "colab": {}
      },
      "source": [
        "# select columns pertinent to biomass\n",
        "df_2020_spring = df_2020_spring.loc[:, ['Plot', 'biomass_100_g', 'biomass_245_g', 'biomass_300_g']]"
      ],
      "execution_count": 0,
      "outputs": []
    },
    {
      "cell_type": "code",
      "metadata": {
        "id": "byt-kIcSVAjb",
        "colab_type": "code",
        "colab": {}
      },
      "source": [
        "# average biomass columns\n",
        "df_2020_spring['mean'] = df_2020_spring.loc[:, ['biomass_100_g', 'biomass_245_g', 'biomass_300_g']].mean(axis=1)"
      ],
      "execution_count": 0,
      "outputs": []
    },
    {
      "cell_type": "code",
      "metadata": {
        "id": "Z3VFJHf1VXlK",
        "colab_type": "code",
        "outputId": "0fc7fca9-5688-40a9-de2d-8a07fee9caea",
        "colab": {
          "base_uri": "https://localhost:8080/",
          "height": 111
        }
      },
      "source": [
        "df_2020_spring.head(2)"
      ],
      "execution_count": 0,
      "outputs": [
        {
          "output_type": "execute_result",
          "data": {
            "text/html": [
              "<div>\n",
              "<style scoped>\n",
              "    .dataframe tbody tr th:only-of-type {\n",
              "        vertical-align: middle;\n",
              "    }\n",
              "\n",
              "    .dataframe tbody tr th {\n",
              "        vertical-align: top;\n",
              "    }\n",
              "\n",
              "    .dataframe thead th {\n",
              "        text-align: right;\n",
              "    }\n",
              "</style>\n",
              "<table border=\"1\" class=\"dataframe\">\n",
              "  <thead>\n",
              "    <tr style=\"text-align: right;\">\n",
              "      <th></th>\n",
              "      <th>Plot</th>\n",
              "      <th>biomass_100_g</th>\n",
              "      <th>biomass_245_g</th>\n",
              "      <th>biomass_300_g</th>\n",
              "      <th>mean</th>\n",
              "    </tr>\n",
              "  </thead>\n",
              "  <tbody>\n",
              "    <tr>\n",
              "      <th>0</th>\n",
              "      <td>9</td>\n",
              "      <td>0.76</td>\n",
              "      <td>4.32</td>\n",
              "      <td>10.11</td>\n",
              "      <td>5.063333</td>\n",
              "    </tr>\n",
              "    <tr>\n",
              "      <th>1</th>\n",
              "      <td>10</td>\n",
              "      <td>5.22</td>\n",
              "      <td>1.83</td>\n",
              "      <td>1.56</td>\n",
              "      <td>2.870000</td>\n",
              "    </tr>\n",
              "  </tbody>\n",
              "</table>\n",
              "</div>"
            ],
            "text/plain": [
              "   Plot  biomass_100_g  biomass_245_g  biomass_300_g      mean\n",
              "0     9           0.76           4.32          10.11  5.063333\n",
              "1    10           5.22           1.83           1.56  2.870000"
            ]
          },
          "metadata": {
            "tags": []
          },
          "execution_count": 8
        }
      ]
    },
    {
      "cell_type": "code",
      "metadata": {
        "id": "OmnNgvl0VtGY",
        "colab_type": "code",
        "colab": {}
      },
      "source": [
        "# select only grid_point and average columns\n",
        "df_2020_spring = df_2020_spring.loc[:, ['Plot', 'mean']]"
      ],
      "execution_count": 0,
      "outputs": []
    },
    {
      "cell_type": "code",
      "metadata": {
        "id": "ajqQ1AA7WX22",
        "colab_type": "code",
        "colab": {}
      },
      "source": [
        "# rename columns\n",
        "df_2020_spring.columns = ['grid_point', 'pooled_g']"
      ],
      "execution_count": 0,
      "outputs": []
    },
    {
      "cell_type": "code",
      "metadata": {
        "id": "He2b66KYW9X3",
        "colab_type": "code",
        "colab": {}
      },
      "source": [
        "# insert NaT values for missing dates\n",
        "df_2020_spring['date'] = np.nan"
      ],
      "execution_count": 0,
      "outputs": []
    },
    {
      "cell_type": "code",
      "metadata": {
        "id": "HXxNvvZZW9Ur",
        "colab_type": "code",
        "colab": {}
      },
      "source": [
        "# set year variable\n",
        "df_2020_spring['year'] = 2020"
      ],
      "execution_count": 0,
      "outputs": []
    },
    {
      "cell_type": "code",
      "metadata": {
        "id": "EqPYceniW9PB",
        "colab_type": "code",
        "colab": {}
      },
      "source": [
        "# set season variable\n",
        "df_2020_spring['season'] = 'spring'"
      ],
      "execution_count": 0,
      "outputs": []
    },
    {
      "cell_type": "code",
      "metadata": {
        "id": "UwQniUMrXq0I",
        "colab_type": "code",
        "colab": {}
      },
      "source": [
        "# set grass biomass\n",
        "df_2020_spring['grass_g'] = 0\n",
        "\n",
        "# set forb biomass\n",
        "df_2020_spring['forb_g'] = 0"
      ],
      "execution_count": 0,
      "outputs": []
    },
    {
      "cell_type": "code",
      "metadata": {
        "id": "UsbIOL5CYBHk",
        "colab_type": "code",
        "colab": {}
      },
      "source": [
        "# reorder columns\n",
        "df_2020_spring = df_2020_spring.loc[:, ['grid_point', 'date', 'year', 'season', 'grass_g', 'forb_g', 'pooled_g']]"
      ],
      "execution_count": 0,
      "outputs": []
    },
    {
      "cell_type": "code",
      "metadata": {
        "id": "vdrX034AYsYh",
        "colab_type": "code",
        "outputId": "aa73ccfc-6a2a-405a-e5d6-79cd94d65bde",
        "colab": {
          "base_uri": "https://localhost:8080/",
          "height": 111
        }
      },
      "source": [
        "df_2020_spring.head(2)"
      ],
      "execution_count": 0,
      "outputs": [
        {
          "output_type": "execute_result",
          "data": {
            "text/html": [
              "<div>\n",
              "<style scoped>\n",
              "    .dataframe tbody tr th:only-of-type {\n",
              "        vertical-align: middle;\n",
              "    }\n",
              "\n",
              "    .dataframe tbody tr th {\n",
              "        vertical-align: top;\n",
              "    }\n",
              "\n",
              "    .dataframe thead th {\n",
              "        text-align: right;\n",
              "    }\n",
              "</style>\n",
              "<table border=\"1\" class=\"dataframe\">\n",
              "  <thead>\n",
              "    <tr style=\"text-align: right;\">\n",
              "      <th></th>\n",
              "      <th>grid_point</th>\n",
              "      <th>date</th>\n",
              "      <th>year</th>\n",
              "      <th>season</th>\n",
              "      <th>grass_g</th>\n",
              "      <th>forb_g</th>\n",
              "      <th>pooled_g</th>\n",
              "    </tr>\n",
              "  </thead>\n",
              "  <tbody>\n",
              "    <tr>\n",
              "      <th>0</th>\n",
              "      <td>9</td>\n",
              "      <td>NaN</td>\n",
              "      <td>2020</td>\n",
              "      <td>spring</td>\n",
              "      <td>0</td>\n",
              "      <td>0</td>\n",
              "      <td>5.063333</td>\n",
              "    </tr>\n",
              "    <tr>\n",
              "      <th>1</th>\n",
              "      <td>10</td>\n",
              "      <td>NaN</td>\n",
              "      <td>2020</td>\n",
              "      <td>spring</td>\n",
              "      <td>0</td>\n",
              "      <td>0</td>\n",
              "      <td>2.870000</td>\n",
              "    </tr>\n",
              "  </tbody>\n",
              "</table>\n",
              "</div>"
            ],
            "text/plain": [
              "   grid_point  date  year  season  grass_g  forb_g  pooled_g\n",
              "0           9   NaN  2020  spring        0       0  5.063333\n",
              "1          10   NaN  2020  spring        0       0  2.870000"
            ]
          },
          "metadata": {
            "tags": []
          },
          "execution_count": 16
        }
      ]
    },
    {
      "cell_type": "markdown",
      "metadata": {
        "id": "-SI_xMNdAg_K",
        "colab_type": "text"
      },
      "source": [
        "## 2019"
      ]
    },
    {
      "cell_type": "code",
      "metadata": {
        "id": "oITUOo8GAiZl",
        "colab_type": "code",
        "colab": {}
      },
      "source": [
        "df_2019 = pd.read_excel(src_2019, sheet_name='All Data - redone')"
      ],
      "execution_count": 0,
      "outputs": []
    },
    {
      "cell_type": "code",
      "metadata": {
        "id": "w93L8Mo0AjWz",
        "colab_type": "code",
        "outputId": "9977f540-5e7e-45d9-807c-a4b75d3019d3",
        "colab": {
          "base_uri": "https://localhost:8080/",
          "height": 425
        }
      },
      "source": [
        "df_2019.info()"
      ],
      "execution_count": 0,
      "outputs": [
        {
          "output_type": "stream",
          "text": [
            "<class 'pandas.core.frame.DataFrame'>\n",
            "RangeIndex: 347 entries, 0 to 346\n",
            "Data columns (total 17 columns):\n",
            " #   Column                                               Non-Null Count  Dtype         \n",
            "---  ------                                               --------------  -----         \n",
            " 0   Plot                                                 347 non-null    int64         \n",
            " 1   Date                                                 325 non-null    datetime64[ns]\n",
            " 2   Robel Reading                                        319 non-null    float64       \n",
            " 3   Unnamed: 3                                           319 non-null    float64       \n",
            " 4   Unnamed: 4                                           319 non-null    float64       \n",
            " 5   Unnamed: 5                                           318 non-null    float64       \n",
            " 6      Biomass Weight (g-spring)(pennyweight for fall)   297 non-null    float64       \n",
            " 7   Unnamed: 7                                           296 non-null    float64       \n",
            " 8   Unnamed: 8                                           295 non-null    float64       \n",
            " 9   Deer                                                 319 non-null    float64       \n",
            " 10  Elk                                                  319 non-null    float64       \n",
            " 11  Horse                                                319 non-null    float64       \n",
            " 12  Biomass                                              309 non-null    float64       \n",
            " 13  Unnamed: 13                                          327 non-null    float64       \n",
            " 14  Robel                                                319 non-null    float64       \n",
            " 15  Unnamed: 15                                          0 non-null      float64       \n",
            " 16  Unnamed: 16                                          2 non-null      float64       \n",
            "dtypes: datetime64[ns](1), float64(15), int64(1)\n",
            "memory usage: 46.2 KB\n"
          ],
          "name": "stdout"
        }
      ]
    },
    {
      "cell_type": "code",
      "metadata": {
        "id": "sI79isrTAjUr",
        "colab_type": "code",
        "outputId": "a1b7a069-f41d-4d84-f9b2-4b1b6203023c",
        "colab": {
          "base_uri": "https://localhost:8080/",
          "height": 233
        }
      },
      "source": [
        "df_2019.head(2)"
      ],
      "execution_count": 0,
      "outputs": [
        {
          "output_type": "execute_result",
          "data": {
            "text/html": [
              "<div>\n",
              "<style scoped>\n",
              "    .dataframe tbody tr th:only-of-type {\n",
              "        vertical-align: middle;\n",
              "    }\n",
              "\n",
              "    .dataframe tbody tr th {\n",
              "        vertical-align: top;\n",
              "    }\n",
              "\n",
              "    .dataframe thead th {\n",
              "        text-align: right;\n",
              "    }\n",
              "</style>\n",
              "<table border=\"1\" class=\"dataframe\">\n",
              "  <thead>\n",
              "    <tr style=\"text-align: right;\">\n",
              "      <th></th>\n",
              "      <th>Plot</th>\n",
              "      <th>Date</th>\n",
              "      <th>Robel Reading</th>\n",
              "      <th>Unnamed: 3</th>\n",
              "      <th>Unnamed: 4</th>\n",
              "      <th>Unnamed: 5</th>\n",
              "      <th>Biomass Weight (g-spring)(pennyweight for fall)</th>\n",
              "      <th>Unnamed: 7</th>\n",
              "      <th>Unnamed: 8</th>\n",
              "      <th>Deer</th>\n",
              "      <th>Elk</th>\n",
              "      <th>Horse</th>\n",
              "      <th>Biomass</th>\n",
              "      <th>Unnamed: 13</th>\n",
              "      <th>Robel</th>\n",
              "      <th>Unnamed: 15</th>\n",
              "      <th>Unnamed: 16</th>\n",
              "    </tr>\n",
              "  </thead>\n",
              "  <tbody>\n",
              "    <tr>\n",
              "      <th>0</th>\n",
              "      <td>9</td>\n",
              "      <td>2019-09-24</td>\n",
              "      <td>4.0</td>\n",
              "      <td>8.0</td>\n",
              "      <td>6.0</td>\n",
              "      <td>14.0</td>\n",
              "      <td>6.82</td>\n",
              "      <td>5.78</td>\n",
              "      <td>4.98</td>\n",
              "      <td>2.0</td>\n",
              "      <td>3.0</td>\n",
              "      <td>2.0</td>\n",
              "      <td>23.440000</td>\n",
              "      <td>36.451544</td>\n",
              "      <td>8.0</td>\n",
              "      <td>NaN</td>\n",
              "      <td>23.44</td>\n",
              "    </tr>\n",
              "    <tr>\n",
              "      <th>1</th>\n",
              "      <td>10</td>\n",
              "      <td>2019-09-24</td>\n",
              "      <td>6.0</td>\n",
              "      <td>4.0</td>\n",
              "      <td>2.0</td>\n",
              "      <td>4.0</td>\n",
              "      <td>15.95</td>\n",
              "      <td>1.36</td>\n",
              "      <td>17.30</td>\n",
              "      <td>0.0</td>\n",
              "      <td>1.0</td>\n",
              "      <td>2.0</td>\n",
              "      <td>46.146667</td>\n",
              "      <td>71.762681</td>\n",
              "      <td>4.0</td>\n",
              "      <td>NaN</td>\n",
              "      <td>93.76</td>\n",
              "    </tr>\n",
              "  </tbody>\n",
              "</table>\n",
              "</div>"
            ],
            "text/plain": [
              "   Plot       Date  Robel Reading  ...  Robel  Unnamed: 15  Unnamed: 16\n",
              "0     9 2019-09-24            4.0  ...    8.0          NaN        23.44\n",
              "1    10 2019-09-24            6.0  ...    4.0          NaN        93.76\n",
              "\n",
              "[2 rows x 17 columns]"
            ]
          },
          "metadata": {
            "tags": []
          },
          "execution_count": 19
        }
      ]
    },
    {
      "cell_type": "code",
      "metadata": {
        "id": "BZpByjgxFC_S",
        "colab_type": "code",
        "outputId": "6053bbe3-3dd0-4bc3-f9ab-7ca664c51844",
        "colab": {
          "base_uri": "https://localhost:8080/",
          "height": 102
        }
      },
      "source": [
        "df_2019.columns"
      ],
      "execution_count": 0,
      "outputs": [
        {
          "output_type": "execute_result",
          "data": {
            "text/plain": [
              "Index(['Plot', 'Date', 'Robel Reading', 'Unnamed: 3', 'Unnamed: 4',\n",
              "       'Unnamed: 5', '   Biomass Weight (g-spring)(pennyweight for fall) ',\n",
              "       'Unnamed: 7', 'Unnamed: 8', 'Deer', 'Elk', 'Horse', 'Biomass',\n",
              "       'Unnamed: 13', 'Robel', 'Unnamed: 15', 'Unnamed: 16'],\n",
              "      dtype='object')"
            ]
          },
          "metadata": {
            "tags": []
          },
          "execution_count": 20
        }
      ]
    },
    {
      "cell_type": "code",
      "metadata": {
        "id": "5fhfV4jmEO3p",
        "colab_type": "code",
        "colab": {}
      },
      "source": [
        "# Select Biomass columns\n",
        "df_2019 = df_2019.loc[:, [\"Plot\", \"Date\", \"   Biomass Weight (g-spring)(pennyweight for fall) \", \"Unnamed: 7\", \"Unnamed: 8\"]]"
      ],
      "execution_count": 0,
      "outputs": []
    },
    {
      "cell_type": "code",
      "metadata": {
        "id": "aHYCC4ryAjQZ",
        "colab_type": "code",
        "outputId": "0df1b1e1-3f46-4fb1-f766-9650279458a6",
        "colab": {
          "base_uri": "https://localhost:8080/",
          "height": 85
        }
      },
      "source": [
        "# Display Sample Dates\n",
        "df_2019.Date.unique()"
      ],
      "execution_count": 0,
      "outputs": [
        {
          "output_type": "execute_result",
          "data": {
            "text/plain": [
              "array(['2019-09-24T00:00:00.000000000',                           'NaT',\n",
              "       '2019-04-25T00:00:00.000000000', '2019-04-29T00:00:00.000000000',\n",
              "       '2019-04-18T00:00:00.000000000', '2019-04-30T00:00:00.000000000'],\n",
              "      dtype='datetime64[ns]')"
            ]
          },
          "metadata": {
            "tags": []
          },
          "execution_count": 22
        }
      ]
    },
    {
      "cell_type": "code",
      "metadata": {
        "id": "lIl5mnyCAjNs",
        "colab_type": "code",
        "outputId": "fae09d9c-6914-45bf-bca4-9f1f923cea97",
        "colab": {
          "base_uri": "https://localhost:8080/",
          "height": 731
        }
      },
      "source": [
        "# Look for row with valid Biomass figures and NaT date\n",
        "df_2019[df_2019.Date.isnull()]"
      ],
      "execution_count": 0,
      "outputs": [
        {
          "output_type": "execute_result",
          "data": {
            "text/html": [
              "<div>\n",
              "<style scoped>\n",
              "    .dataframe tbody tr th:only-of-type {\n",
              "        vertical-align: middle;\n",
              "    }\n",
              "\n",
              "    .dataframe tbody tr th {\n",
              "        vertical-align: top;\n",
              "    }\n",
              "\n",
              "    .dataframe thead th {\n",
              "        text-align: right;\n",
              "    }\n",
              "</style>\n",
              "<table border=\"1\" class=\"dataframe\">\n",
              "  <thead>\n",
              "    <tr style=\"text-align: right;\">\n",
              "      <th></th>\n",
              "      <th>Plot</th>\n",
              "      <th>Date</th>\n",
              "      <th>Biomass Weight (g-spring)(pennyweight for fall)</th>\n",
              "      <th>Unnamed: 7</th>\n",
              "      <th>Unnamed: 8</th>\n",
              "    </tr>\n",
              "  </thead>\n",
              "  <tbody>\n",
              "    <tr>\n",
              "      <th>25</th>\n",
              "      <td>72</td>\n",
              "      <td>NaT</td>\n",
              "      <td>NaN</td>\n",
              "      <td>NaN</td>\n",
              "      <td>NaN</td>\n",
              "    </tr>\n",
              "    <tr>\n",
              "      <th>26</th>\n",
              "      <td>72</td>\n",
              "      <td>NaT</td>\n",
              "      <td>NaN</td>\n",
              "      <td>NaN</td>\n",
              "      <td>NaN</td>\n",
              "    </tr>\n",
              "    <tr>\n",
              "      <th>48</th>\n",
              "      <td>103</td>\n",
              "      <td>NaT</td>\n",
              "      <td>NaN</td>\n",
              "      <td>NaN</td>\n",
              "      <td>NaN</td>\n",
              "    </tr>\n",
              "    <tr>\n",
              "      <th>49</th>\n",
              "      <td>103</td>\n",
              "      <td>NaT</td>\n",
              "      <td>NaN</td>\n",
              "      <td>NaN</td>\n",
              "      <td>NaN</td>\n",
              "    </tr>\n",
              "    <tr>\n",
              "      <th>102</th>\n",
              "      <td>197</td>\n",
              "      <td>NaT</td>\n",
              "      <td>29.22</td>\n",
              "      <td>26.35</td>\n",
              "      <td>29.56</td>\n",
              "    </tr>\n",
              "    <tr>\n",
              "      <th>148</th>\n",
              "      <td>347</td>\n",
              "      <td>NaT</td>\n",
              "      <td>NaN</td>\n",
              "      <td>NaN</td>\n",
              "      <td>NaN</td>\n",
              "    </tr>\n",
              "    <tr>\n",
              "      <th>150</th>\n",
              "      <td>348</td>\n",
              "      <td>NaT</td>\n",
              "      <td>NaN</td>\n",
              "      <td>NaN</td>\n",
              "      <td>NaN</td>\n",
              "    </tr>\n",
              "    <tr>\n",
              "      <th>154</th>\n",
              "      <td>353</td>\n",
              "      <td>NaT</td>\n",
              "      <td>NaN</td>\n",
              "      <td>NaN</td>\n",
              "      <td>NaN</td>\n",
              "    </tr>\n",
              "    <tr>\n",
              "      <th>156</th>\n",
              "      <td>354</td>\n",
              "      <td>NaT</td>\n",
              "      <td>NaN</td>\n",
              "      <td>NaN</td>\n",
              "      <td>NaN</td>\n",
              "    </tr>\n",
              "    <tr>\n",
              "      <th>187</th>\n",
              "      <td>31</td>\n",
              "      <td>NaT</td>\n",
              "      <td>NaN</td>\n",
              "      <td>NaN</td>\n",
              "      <td>NaN</td>\n",
              "    </tr>\n",
              "    <tr>\n",
              "      <th>211</th>\n",
              "      <td>85</td>\n",
              "      <td>NaT</td>\n",
              "      <td>NaN</td>\n",
              "      <td>NaN</td>\n",
              "      <td>NaN</td>\n",
              "    </tr>\n",
              "    <tr>\n",
              "      <th>249</th>\n",
              "      <td>145</td>\n",
              "      <td>NaT</td>\n",
              "      <td>NaN</td>\n",
              "      <td>NaN</td>\n",
              "      <td>NaN</td>\n",
              "    </tr>\n",
              "    <tr>\n",
              "      <th>256</th>\n",
              "      <td>154</td>\n",
              "      <td>NaT</td>\n",
              "      <td>NaN</td>\n",
              "      <td>NaN</td>\n",
              "      <td>NaN</td>\n",
              "    </tr>\n",
              "    <tr>\n",
              "      <th>257</th>\n",
              "      <td>154</td>\n",
              "      <td>NaT</td>\n",
              "      <td>NaN</td>\n",
              "      <td>NaN</td>\n",
              "      <td>NaN</td>\n",
              "    </tr>\n",
              "    <tr>\n",
              "      <th>259</th>\n",
              "      <td>155</td>\n",
              "      <td>NaT</td>\n",
              "      <td>NaN</td>\n",
              "      <td>NaN</td>\n",
              "      <td>NaN</td>\n",
              "    </tr>\n",
              "    <tr>\n",
              "      <th>260</th>\n",
              "      <td>155</td>\n",
              "      <td>NaT</td>\n",
              "      <td>NaN</td>\n",
              "      <td>NaN</td>\n",
              "      <td>NaN</td>\n",
              "    </tr>\n",
              "    <tr>\n",
              "      <th>315</th>\n",
              "      <td>338</td>\n",
              "      <td>NaT</td>\n",
              "      <td>NaN</td>\n",
              "      <td>NaN</td>\n",
              "      <td>NaN</td>\n",
              "    </tr>\n",
              "    <tr>\n",
              "      <th>316</th>\n",
              "      <td>338</td>\n",
              "      <td>NaT</td>\n",
              "      <td>NaN</td>\n",
              "      <td>NaN</td>\n",
              "      <td>NaN</td>\n",
              "    </tr>\n",
              "    <tr>\n",
              "      <th>323</th>\n",
              "      <td>348</td>\n",
              "      <td>NaT</td>\n",
              "      <td>NaN</td>\n",
              "      <td>NaN</td>\n",
              "      <td>NaN</td>\n",
              "    </tr>\n",
              "    <tr>\n",
              "      <th>335</th>\n",
              "      <td>550</td>\n",
              "      <td>NaT</td>\n",
              "      <td>NaN</td>\n",
              "      <td>NaN</td>\n",
              "      <td>NaN</td>\n",
              "    </tr>\n",
              "    <tr>\n",
              "      <th>338</th>\n",
              "      <td>556</td>\n",
              "      <td>NaT</td>\n",
              "      <td>NaN</td>\n",
              "      <td>NaN</td>\n",
              "      <td>NaN</td>\n",
              "    </tr>\n",
              "    <tr>\n",
              "      <th>339</th>\n",
              "      <td>556</td>\n",
              "      <td>NaT</td>\n",
              "      <td>NaN</td>\n",
              "      <td>NaN</td>\n",
              "      <td>NaN</td>\n",
              "    </tr>\n",
              "  </tbody>\n",
              "</table>\n",
              "</div>"
            ],
            "text/plain": [
              "     Plot Date  ...  Unnamed: 7  Unnamed: 8\n",
              "25     72  NaT  ...         NaN         NaN\n",
              "26     72  NaT  ...         NaN         NaN\n",
              "48    103  NaT  ...         NaN         NaN\n",
              "49    103  NaT  ...         NaN         NaN\n",
              "102   197  NaT  ...       26.35       29.56\n",
              "148   347  NaT  ...         NaN         NaN\n",
              "150   348  NaT  ...         NaN         NaN\n",
              "154   353  NaT  ...         NaN         NaN\n",
              "156   354  NaT  ...         NaN         NaN\n",
              "187    31  NaT  ...         NaN         NaN\n",
              "211    85  NaT  ...         NaN         NaN\n",
              "249   145  NaT  ...         NaN         NaN\n",
              "256   154  NaT  ...         NaN         NaN\n",
              "257   154  NaT  ...         NaN         NaN\n",
              "259   155  NaT  ...         NaN         NaN\n",
              "260   155  NaT  ...         NaN         NaN\n",
              "315   338  NaT  ...         NaN         NaN\n",
              "316   338  NaT  ...         NaN         NaN\n",
              "323   348  NaT  ...         NaN         NaN\n",
              "335   550  NaT  ...         NaN         NaN\n",
              "338   556  NaT  ...         NaN         NaN\n",
              "339   556  NaT  ...         NaN         NaN\n",
              "\n",
              "[22 rows x 5 columns]"
            ]
          },
          "metadata": {
            "tags": []
          },
          "execution_count": 23
        }
      ]
    },
    {
      "cell_type": "code",
      "metadata": {
        "id": "cGNxjIl5AjJ9",
        "colab_type": "code",
        "colab": {}
      },
      "source": [
        "# set date found from data source spreadsheet\n",
        "df_2019.loc[102, \"Date\"] = pd.Timestamp('2019-04-29')"
      ],
      "execution_count": 0,
      "outputs": []
    },
    {
      "cell_type": "code",
      "metadata": {
        "id": "GY2ShHwxAjGh",
        "colab_type": "code",
        "outputId": "76afaa22-6d46-4c94-e638-2f382b29ab9e",
        "colab": {
          "base_uri": "https://localhost:8080/",
          "height": 68
        }
      },
      "source": [
        "df_2019.columns"
      ],
      "execution_count": 0,
      "outputs": [
        {
          "output_type": "execute_result",
          "data": {
            "text/plain": [
              "Index(['Plot', 'Date', '   Biomass Weight (g-spring)(pennyweight for fall) ',\n",
              "       'Unnamed: 7', 'Unnamed: 8'],\n",
              "      dtype='object')"
            ]
          },
          "metadata": {
            "tags": []
          },
          "execution_count": 25
        }
      ]
    },
    {
      "cell_type": "code",
      "metadata": {
        "id": "499ia61BGG0o",
        "colab_type": "code",
        "colab": {}
      },
      "source": [
        "# rename biomass measurement columns for mean calculation\n",
        "df_2019.columns = ['grid_point', 'date', 'measurement_1', 'measurement_2', 'measurement_3']"
      ],
      "execution_count": 0,
      "outputs": []
    },
    {
      "cell_type": "code",
      "metadata": {
        "id": "-pSlXMrWGeDz",
        "colab_type": "code",
        "outputId": "adac75ae-aee8-4556-f15c-b8be806154b6",
        "colab": {
          "base_uri": "https://localhost:8080/",
          "height": 111
        }
      },
      "source": [
        "df_2019.head(2)"
      ],
      "execution_count": 0,
      "outputs": [
        {
          "output_type": "execute_result",
          "data": {
            "text/html": [
              "<div>\n",
              "<style scoped>\n",
              "    .dataframe tbody tr th:only-of-type {\n",
              "        vertical-align: middle;\n",
              "    }\n",
              "\n",
              "    .dataframe tbody tr th {\n",
              "        vertical-align: top;\n",
              "    }\n",
              "\n",
              "    .dataframe thead th {\n",
              "        text-align: right;\n",
              "    }\n",
              "</style>\n",
              "<table border=\"1\" class=\"dataframe\">\n",
              "  <thead>\n",
              "    <tr style=\"text-align: right;\">\n",
              "      <th></th>\n",
              "      <th>grid_point</th>\n",
              "      <th>date</th>\n",
              "      <th>measurement_1</th>\n",
              "      <th>measurement_2</th>\n",
              "      <th>measurement_3</th>\n",
              "    </tr>\n",
              "  </thead>\n",
              "  <tbody>\n",
              "    <tr>\n",
              "      <th>0</th>\n",
              "      <td>9</td>\n",
              "      <td>2019-09-24</td>\n",
              "      <td>6.82</td>\n",
              "      <td>5.78</td>\n",
              "      <td>4.98</td>\n",
              "    </tr>\n",
              "    <tr>\n",
              "      <th>1</th>\n",
              "      <td>10</td>\n",
              "      <td>2019-09-24</td>\n",
              "      <td>15.95</td>\n",
              "      <td>1.36</td>\n",
              "      <td>17.30</td>\n",
              "    </tr>\n",
              "  </tbody>\n",
              "</table>\n",
              "</div>"
            ],
            "text/plain": [
              "   grid_point       date  measurement_1  measurement_2  measurement_3\n",
              "0           9 2019-09-24           6.82           5.78           4.98\n",
              "1          10 2019-09-24          15.95           1.36          17.30"
            ]
          },
          "metadata": {
            "tags": []
          },
          "execution_count": 27
        }
      ]
    },
    {
      "cell_type": "code",
      "metadata": {
        "id": "tnqyphLdGmm1",
        "colab_type": "code",
        "colab": {}
      },
      "source": [
        "# average measurement values\n",
        "df_2019['mean'] = df_2019.loc[:, ['measurement_1', 'measurement_2', 'measurement_3']].mean(axis=1)"
      ],
      "execution_count": 0,
      "outputs": []
    },
    {
      "cell_type": "code",
      "metadata": {
        "id": "Q7P7e_DXGmgm",
        "colab_type": "code",
        "outputId": "866cbac1-d83a-4b9c-e086-cca0822a03b5",
        "colab": {
          "base_uri": "https://localhost:8080/",
          "height": 111
        }
      },
      "source": [
        "df_2019.head(2)"
      ],
      "execution_count": 0,
      "outputs": [
        {
          "output_type": "execute_result",
          "data": {
            "text/html": [
              "<div>\n",
              "<style scoped>\n",
              "    .dataframe tbody tr th:only-of-type {\n",
              "        vertical-align: middle;\n",
              "    }\n",
              "\n",
              "    .dataframe tbody tr th {\n",
              "        vertical-align: top;\n",
              "    }\n",
              "\n",
              "    .dataframe thead th {\n",
              "        text-align: right;\n",
              "    }\n",
              "</style>\n",
              "<table border=\"1\" class=\"dataframe\">\n",
              "  <thead>\n",
              "    <tr style=\"text-align: right;\">\n",
              "      <th></th>\n",
              "      <th>grid_point</th>\n",
              "      <th>date</th>\n",
              "      <th>measurement_1</th>\n",
              "      <th>measurement_2</th>\n",
              "      <th>measurement_3</th>\n",
              "      <th>mean</th>\n",
              "    </tr>\n",
              "  </thead>\n",
              "  <tbody>\n",
              "    <tr>\n",
              "      <th>0</th>\n",
              "      <td>9</td>\n",
              "      <td>2019-09-24</td>\n",
              "      <td>6.82</td>\n",
              "      <td>5.78</td>\n",
              "      <td>4.98</td>\n",
              "      <td>5.860000</td>\n",
              "    </tr>\n",
              "    <tr>\n",
              "      <th>1</th>\n",
              "      <td>10</td>\n",
              "      <td>2019-09-24</td>\n",
              "      <td>15.95</td>\n",
              "      <td>1.36</td>\n",
              "      <td>17.30</td>\n",
              "      <td>11.536667</td>\n",
              "    </tr>\n",
              "  </tbody>\n",
              "</table>\n",
              "</div>"
            ],
            "text/plain": [
              "   grid_point       date  ...  measurement_3       mean\n",
              "0           9 2019-09-24  ...           4.98   5.860000\n",
              "1          10 2019-09-24  ...          17.30  11.536667\n",
              "\n",
              "[2 rows x 6 columns]"
            ]
          },
          "metadata": {
            "tags": []
          },
          "execution_count": 29
        }
      ]
    },
    {
      "cell_type": "code",
      "metadata": {
        "id": "x8n6uDftGman",
        "colab_type": "code",
        "colab": {}
      },
      "source": [
        "# drop individual measurement values\n",
        "df_2019 = df_2019.loc[:, [\"grid_point\", \"date\", \"mean\"]]"
      ],
      "execution_count": 0,
      "outputs": []
    },
    {
      "cell_type": "code",
      "metadata": {
        "id": "vzVk7nFmGmTE",
        "colab_type": "code",
        "outputId": "45efcc49-9c3a-4620-cbc0-0ff73ae88acb",
        "colab": {
          "base_uri": "https://localhost:8080/",
          "height": 111
        }
      },
      "source": [
        "df_2019.head(2)"
      ],
      "execution_count": 0,
      "outputs": [
        {
          "output_type": "execute_result",
          "data": {
            "text/html": [
              "<div>\n",
              "<style scoped>\n",
              "    .dataframe tbody tr th:only-of-type {\n",
              "        vertical-align: middle;\n",
              "    }\n",
              "\n",
              "    .dataframe tbody tr th {\n",
              "        vertical-align: top;\n",
              "    }\n",
              "\n",
              "    .dataframe thead th {\n",
              "        text-align: right;\n",
              "    }\n",
              "</style>\n",
              "<table border=\"1\" class=\"dataframe\">\n",
              "  <thead>\n",
              "    <tr style=\"text-align: right;\">\n",
              "      <th></th>\n",
              "      <th>grid_point</th>\n",
              "      <th>date</th>\n",
              "      <th>mean</th>\n",
              "    </tr>\n",
              "  </thead>\n",
              "  <tbody>\n",
              "    <tr>\n",
              "      <th>0</th>\n",
              "      <td>9</td>\n",
              "      <td>2019-09-24</td>\n",
              "      <td>5.860000</td>\n",
              "    </tr>\n",
              "    <tr>\n",
              "      <th>1</th>\n",
              "      <td>10</td>\n",
              "      <td>2019-09-24</td>\n",
              "      <td>11.536667</td>\n",
              "    </tr>\n",
              "  </tbody>\n",
              "</table>\n",
              "</div>"
            ],
            "text/plain": [
              "   grid_point       date       mean\n",
              "0           9 2019-09-24   5.860000\n",
              "1          10 2019-09-24  11.536667"
            ]
          },
          "metadata": {
            "tags": []
          },
          "execution_count": 31
        }
      ]
    },
    {
      "cell_type": "code",
      "metadata": {
        "id": "iLIt-YzsJAj2",
        "colab_type": "code",
        "colab": {}
      },
      "source": [
        "# rename mean to pooled\n",
        "df_2019.columns = ['grid_point', 'date', 'pooled']"
      ],
      "execution_count": 0,
      "outputs": []
    },
    {
      "cell_type": "code",
      "metadata": {
        "id": "coIHY18LK4P8",
        "colab_type": "code",
        "colab": {}
      },
      "source": [
        "# set year\n",
        "df_2019['year'] = 2019"
      ],
      "execution_count": 0,
      "outputs": []
    },
    {
      "cell_type": "markdown",
      "metadata": {
        "id": "zJxU-8GyJLiM",
        "colab_type": "text"
      },
      "source": [
        "### Spring"
      ]
    },
    {
      "cell_type": "code",
      "metadata": {
        "id": "wjMt7OiLJAf2",
        "colab_type": "code",
        "outputId": "c3e5880e-b40a-41b4-a834-afdd126aa4d9",
        "colab": {
          "base_uri": "https://localhost:8080/",
          "height": 111
        }
      },
      "source": [
        "df_2019.head(2)"
      ],
      "execution_count": 0,
      "outputs": [
        {
          "output_type": "execute_result",
          "data": {
            "text/html": [
              "<div>\n",
              "<style scoped>\n",
              "    .dataframe tbody tr th:only-of-type {\n",
              "        vertical-align: middle;\n",
              "    }\n",
              "\n",
              "    .dataframe tbody tr th {\n",
              "        vertical-align: top;\n",
              "    }\n",
              "\n",
              "    .dataframe thead th {\n",
              "        text-align: right;\n",
              "    }\n",
              "</style>\n",
              "<table border=\"1\" class=\"dataframe\">\n",
              "  <thead>\n",
              "    <tr style=\"text-align: right;\">\n",
              "      <th></th>\n",
              "      <th>grid_point</th>\n",
              "      <th>date</th>\n",
              "      <th>pooled</th>\n",
              "      <th>year</th>\n",
              "    </tr>\n",
              "  </thead>\n",
              "  <tbody>\n",
              "    <tr>\n",
              "      <th>0</th>\n",
              "      <td>9</td>\n",
              "      <td>2019-09-24</td>\n",
              "      <td>5.860000</td>\n",
              "      <td>2019</td>\n",
              "    </tr>\n",
              "    <tr>\n",
              "      <th>1</th>\n",
              "      <td>10</td>\n",
              "      <td>2019-09-24</td>\n",
              "      <td>11.536667</td>\n",
              "      <td>2019</td>\n",
              "    </tr>\n",
              "  </tbody>\n",
              "</table>\n",
              "</div>"
            ],
            "text/plain": [
              "   grid_point       date     pooled  year\n",
              "0           9 2019-09-24   5.860000  2019\n",
              "1          10 2019-09-24  11.536667  2019"
            ]
          },
          "metadata": {
            "tags": []
          },
          "execution_count": 34
        }
      ]
    },
    {
      "cell_type": "code",
      "metadata": {
        "id": "_BTbxGgBJV-0",
        "colab_type": "code",
        "colab": {}
      },
      "source": [
        "# set season column to spring\n",
        "df_2019.loc[df_2019.date < '2019-06', 'season'] = 'spring'"
      ],
      "execution_count": 0,
      "outputs": []
    },
    {
      "cell_type": "code",
      "metadata": {
        "id": "7Xjvoq03JV6V",
        "colab_type": "code",
        "outputId": "5b90e94d-6966-419c-a4d9-1f638746e36f",
        "colab": {
          "base_uri": "https://localhost:8080/",
          "height": 111
        }
      },
      "source": [
        "df_2019.loc[df_2019.season == 'spring'].head(2)"
      ],
      "execution_count": 0,
      "outputs": [
        {
          "output_type": "execute_result",
          "data": {
            "text/html": [
              "<div>\n",
              "<style scoped>\n",
              "    .dataframe tbody tr th:only-of-type {\n",
              "        vertical-align: middle;\n",
              "    }\n",
              "\n",
              "    .dataframe tbody tr th {\n",
              "        vertical-align: top;\n",
              "    }\n",
              "\n",
              "    .dataframe thead th {\n",
              "        text-align: right;\n",
              "    }\n",
              "</style>\n",
              "<table border=\"1\" class=\"dataframe\">\n",
              "  <thead>\n",
              "    <tr style=\"text-align: right;\">\n",
              "      <th></th>\n",
              "      <th>grid_point</th>\n",
              "      <th>date</th>\n",
              "      <th>pooled</th>\n",
              "      <th>year</th>\n",
              "      <th>season</th>\n",
              "    </tr>\n",
              "  </thead>\n",
              "  <tbody>\n",
              "    <tr>\n",
              "      <th>102</th>\n",
              "      <td>197</td>\n",
              "      <td>2019-04-29</td>\n",
              "      <td>28.376667</td>\n",
              "      <td>2019</td>\n",
              "      <td>spring</td>\n",
              "    </tr>\n",
              "    <tr>\n",
              "      <th>174</th>\n",
              "      <td>9</td>\n",
              "      <td>2019-04-25</td>\n",
              "      <td>NaN</td>\n",
              "      <td>2019</td>\n",
              "      <td>spring</td>\n",
              "    </tr>\n",
              "  </tbody>\n",
              "</table>\n",
              "</div>"
            ],
            "text/plain": [
              "     grid_point       date     pooled  year  season\n",
              "102         197 2019-04-29  28.376667  2019  spring\n",
              "174           9 2019-04-25        NaN  2019  spring"
            ]
          },
          "metadata": {
            "tags": []
          },
          "execution_count": 36
        }
      ]
    },
    {
      "cell_type": "markdown",
      "metadata": {
        "id": "U2EiGWJ4Lu4z",
        "colab_type": "text"
      },
      "source": [
        "### Fall"
      ]
    },
    {
      "cell_type": "code",
      "metadata": {
        "id": "-92HRLlMJV16",
        "colab_type": "code",
        "colab": {}
      },
      "source": [
        "# set season column to fall\n",
        "df_2019.loc[df_2019.date > '2019-06', 'season'] = 'fall'"
      ],
      "execution_count": 0,
      "outputs": []
    },
    {
      "cell_type": "code",
      "metadata": {
        "id": "pygA5FuyJVx1",
        "colab_type": "code",
        "outputId": "fbb42d97-75ef-4ab6-a2ff-9228b4a7e324",
        "colab": {
          "base_uri": "https://localhost:8080/",
          "height": 111
        }
      },
      "source": [
        "df_2019.head(2)"
      ],
      "execution_count": 0,
      "outputs": [
        {
          "output_type": "execute_result",
          "data": {
            "text/html": [
              "<div>\n",
              "<style scoped>\n",
              "    .dataframe tbody tr th:only-of-type {\n",
              "        vertical-align: middle;\n",
              "    }\n",
              "\n",
              "    .dataframe tbody tr th {\n",
              "        vertical-align: top;\n",
              "    }\n",
              "\n",
              "    .dataframe thead th {\n",
              "        text-align: right;\n",
              "    }\n",
              "</style>\n",
              "<table border=\"1\" class=\"dataframe\">\n",
              "  <thead>\n",
              "    <tr style=\"text-align: right;\">\n",
              "      <th></th>\n",
              "      <th>grid_point</th>\n",
              "      <th>date</th>\n",
              "      <th>pooled</th>\n",
              "      <th>year</th>\n",
              "      <th>season</th>\n",
              "    </tr>\n",
              "  </thead>\n",
              "  <tbody>\n",
              "    <tr>\n",
              "      <th>0</th>\n",
              "      <td>9</td>\n",
              "      <td>2019-09-24</td>\n",
              "      <td>5.860000</td>\n",
              "      <td>2019</td>\n",
              "      <td>fall</td>\n",
              "    </tr>\n",
              "    <tr>\n",
              "      <th>1</th>\n",
              "      <td>10</td>\n",
              "      <td>2019-09-24</td>\n",
              "      <td>11.536667</td>\n",
              "      <td>2019</td>\n",
              "      <td>fall</td>\n",
              "    </tr>\n",
              "  </tbody>\n",
              "</table>\n",
              "</div>"
            ],
            "text/plain": [
              "   grid_point       date     pooled  year season\n",
              "0           9 2019-09-24   5.860000  2019   fall\n",
              "1          10 2019-09-24  11.536667  2019   fall"
            ]
          },
          "metadata": {
            "tags": []
          },
          "execution_count": 38
        }
      ]
    },
    {
      "cell_type": "code",
      "metadata": {
        "id": "7SRf9TLrGmKA",
        "colab_type": "code",
        "colab": {}
      },
      "source": [
        "# convert fall values from pennyweight to grams (pennyweight*1.55517) = grams\n",
        "df_2019.loc[df_2019.season == 'fall', 'pooled'] = df_2019.loc[df_2019.season == 'fall', 'pooled'] * 1.55517"
      ],
      "execution_count": 0,
      "outputs": []
    },
    {
      "cell_type": "code",
      "metadata": {
        "id": "iwihHUlYOXgB",
        "colab_type": "code",
        "colab": {}
      },
      "source": [
        "# update pooled column name to pooled_g post pennyweight to grams conversion\n",
        "df_2019.columns = ['grid_point', 'date', 'pooled_g', 'year', 'season']"
      ],
      "execution_count": 0,
      "outputs": []
    },
    {
      "cell_type": "code",
      "metadata": {
        "id": "MuL0GjK0Glq9",
        "colab_type": "code",
        "outputId": "6f0c67e7-c3f7-4d10-ad36-98b4971de5c0",
        "colab": {
          "base_uri": "https://localhost:8080/",
          "height": 111
        }
      },
      "source": [
        "df_2019.head(2)"
      ],
      "execution_count": 0,
      "outputs": [
        {
          "output_type": "execute_result",
          "data": {
            "text/html": [
              "<div>\n",
              "<style scoped>\n",
              "    .dataframe tbody tr th:only-of-type {\n",
              "        vertical-align: middle;\n",
              "    }\n",
              "\n",
              "    .dataframe tbody tr th {\n",
              "        vertical-align: top;\n",
              "    }\n",
              "\n",
              "    .dataframe thead th {\n",
              "        text-align: right;\n",
              "    }\n",
              "</style>\n",
              "<table border=\"1\" class=\"dataframe\">\n",
              "  <thead>\n",
              "    <tr style=\"text-align: right;\">\n",
              "      <th></th>\n",
              "      <th>grid_point</th>\n",
              "      <th>date</th>\n",
              "      <th>pooled_g</th>\n",
              "      <th>year</th>\n",
              "      <th>season</th>\n",
              "    </tr>\n",
              "  </thead>\n",
              "  <tbody>\n",
              "    <tr>\n",
              "      <th>0</th>\n",
              "      <td>9</td>\n",
              "      <td>2019-09-24</td>\n",
              "      <td>9.113296</td>\n",
              "      <td>2019</td>\n",
              "      <td>fall</td>\n",
              "    </tr>\n",
              "    <tr>\n",
              "      <th>1</th>\n",
              "      <td>10</td>\n",
              "      <td>2019-09-24</td>\n",
              "      <td>17.941478</td>\n",
              "      <td>2019</td>\n",
              "      <td>fall</td>\n",
              "    </tr>\n",
              "  </tbody>\n",
              "</table>\n",
              "</div>"
            ],
            "text/plain": [
              "   grid_point       date   pooled_g  year season\n",
              "0           9 2019-09-24   9.113296  2019   fall\n",
              "1          10 2019-09-24  17.941478  2019   fall"
            ]
          },
          "metadata": {
            "tags": []
          },
          "execution_count": 41
        }
      ]
    },
    {
      "cell_type": "markdown",
      "metadata": {
        "id": "VGSa0w5ANV1o",
        "colab_type": "text"
      },
      "source": [
        "### Full Year"
      ]
    },
    {
      "cell_type": "code",
      "metadata": {
        "id": "NMtqowF1NFlZ",
        "colab_type": "code",
        "outputId": "b5f04096-0ecc-4329-deda-4b4b6f318787",
        "colab": {
          "base_uri": "https://localhost:8080/",
          "height": 111
        }
      },
      "source": [
        "df_2019.head(2)"
      ],
      "execution_count": 0,
      "outputs": [
        {
          "output_type": "execute_result",
          "data": {
            "text/html": [
              "<div>\n",
              "<style scoped>\n",
              "    .dataframe tbody tr th:only-of-type {\n",
              "        vertical-align: middle;\n",
              "    }\n",
              "\n",
              "    .dataframe tbody tr th {\n",
              "        vertical-align: top;\n",
              "    }\n",
              "\n",
              "    .dataframe thead th {\n",
              "        text-align: right;\n",
              "    }\n",
              "</style>\n",
              "<table border=\"1\" class=\"dataframe\">\n",
              "  <thead>\n",
              "    <tr style=\"text-align: right;\">\n",
              "      <th></th>\n",
              "      <th>grid_point</th>\n",
              "      <th>date</th>\n",
              "      <th>pooled_g</th>\n",
              "      <th>year</th>\n",
              "      <th>season</th>\n",
              "    </tr>\n",
              "  </thead>\n",
              "  <tbody>\n",
              "    <tr>\n",
              "      <th>0</th>\n",
              "      <td>9</td>\n",
              "      <td>2019-09-24</td>\n",
              "      <td>9.113296</td>\n",
              "      <td>2019</td>\n",
              "      <td>fall</td>\n",
              "    </tr>\n",
              "    <tr>\n",
              "      <th>1</th>\n",
              "      <td>10</td>\n",
              "      <td>2019-09-24</td>\n",
              "      <td>17.941478</td>\n",
              "      <td>2019</td>\n",
              "      <td>fall</td>\n",
              "    </tr>\n",
              "  </tbody>\n",
              "</table>\n",
              "</div>"
            ],
            "text/plain": [
              "   grid_point       date   pooled_g  year season\n",
              "0           9 2019-09-24   9.113296  2019   fall\n",
              "1          10 2019-09-24  17.941478  2019   fall"
            ]
          },
          "metadata": {
            "tags": []
          },
          "execution_count": 42
        }
      ]
    },
    {
      "cell_type": "markdown",
      "metadata": {
        "id": "x4vUYRxVa_7_",
        "colab_type": "text"
      },
      "source": [
        "## 2018"
      ]
    },
    {
      "cell_type": "markdown",
      "metadata": {
        "id": "ODu3bnypkytx",
        "colab_type": "text"
      },
      "source": [
        "### Spring"
      ]
    },
    {
      "cell_type": "code",
      "metadata": {
        "id": "9acmrS4Vk1Mq",
        "colab_type": "code",
        "colab": {}
      },
      "source": [
        "# load data\n",
        "df_2018_spring = pd.read_csv(src_2018_spring)"
      ],
      "execution_count": 0,
      "outputs": []
    },
    {
      "cell_type": "code",
      "metadata": {
        "id": "PGd8VR5Mk1Pd",
        "colab_type": "code",
        "outputId": "39d5cc8e-02f0-4cdb-8cdc-2b1cc21d4b1b",
        "colab": {
          "base_uri": "https://localhost:8080/",
          "height": 119
        }
      },
      "source": [
        "# retrieve top level column names\n",
        "df_2018_spring.columns"
      ],
      "execution_count": 0,
      "outputs": [
        {
          "output_type": "execute_result",
          "data": {
            "text/plain": [
              "Index(['Unnamed: 0', 'Unnamed: 1', 'Robel', 'Unnamed: 3', 'Unnamed: 4',\n",
              "       'Unnamed: 5', 'Biomass', 'Unnamed: 7', 'Unnamed: 8', 'Woody plants',\n",
              "       'Unnamed: 10', 'Unnamed: 11', 'Scat', 'Unnamed: 13', 'Unnamed: 14',\n",
              "       '60G', '60F', '180G', '180F', '330G', '330F', 'Unnamed: 21',\n",
              "       'Unnamed: 22', 'Unnamed: 23', 'Unnamed: 24', 'Unnamed: 25'],\n",
              "      dtype='object')"
            ]
          },
          "metadata": {
            "tags": []
          },
          "execution_count": 44
        }
      ]
    },
    {
      "cell_type": "code",
      "metadata": {
        "id": "pRW_d__hk1SW",
        "colab_type": "code",
        "colab": {}
      },
      "source": [
        "# reload data skipping first row\n",
        "df_2018_spring = pd.read_csv(src_2018_spring, skiprows=1)"
      ],
      "execution_count": 0,
      "outputs": []
    },
    {
      "cell_type": "code",
      "metadata": {
        "id": "bkVqqhjjk1VT",
        "colab_type": "code",
        "outputId": "2897e5db-785c-467b-e62e-b37e5b2251a3",
        "colab": {
          "base_uri": "https://localhost:8080/",
          "height": 148
        }
      },
      "source": [
        "df_2018_spring.head(2)"
      ],
      "execution_count": 0,
      "outputs": [
        {
          "output_type": "execute_result",
          "data": {
            "text/html": [
              "<div>\n",
              "<style scoped>\n",
              "    .dataframe tbody tr th:only-of-type {\n",
              "        vertical-align: middle;\n",
              "    }\n",
              "\n",
              "    .dataframe tbody tr th {\n",
              "        vertical-align: top;\n",
              "    }\n",
              "\n",
              "    .dataframe thead th {\n",
              "        text-align: right;\n",
              "    }\n",
              "</style>\n",
              "<table border=\"1\" class=\"dataframe\">\n",
              "  <thead>\n",
              "    <tr style=\"text-align: right;\">\n",
              "      <th></th>\n",
              "      <th>Plot</th>\n",
              "      <th>Date</th>\n",
              "      <th>N</th>\n",
              "      <th>E</th>\n",
              "      <th>S</th>\n",
              "      <th>W</th>\n",
              "      <th>60</th>\n",
              "      <th>180</th>\n",
              "      <th>330</th>\n",
              "      <th>Plot.1</th>\n",
              "      <th>Species</th>\n",
              "      <th>% cover</th>\n",
              "      <th>Deer</th>\n",
              "      <th>Elk</th>\n",
              "      <th>Horse</th>\n",
              "      <th>grams</th>\n",
              "      <th>grams.1</th>\n",
              "      <th>grams.2</th>\n",
              "      <th>grams.3</th>\n",
              "      <th>grams.4</th>\n",
              "      <th>grams.5</th>\n",
              "      <th>Unnamed: 21</th>\n",
              "      <th>Unnamed: 22</th>\n",
              "      <th>Unnamed: 23</th>\n",
              "      <th>Unnamed: 24</th>\n",
              "      <th>Unnamed: 25</th>\n",
              "    </tr>\n",
              "  </thead>\n",
              "  <tbody>\n",
              "    <tr>\n",
              "      <th>0</th>\n",
              "      <td>3</td>\n",
              "      <td>4/10/2018</td>\n",
              "      <td>2.0</td>\n",
              "      <td>4.0</td>\n",
              "      <td>2.0</td>\n",
              "      <td>2.0</td>\n",
              "      <td>G</td>\n",
              "      <td>G</td>\n",
              "      <td>G</td>\n",
              "      <td>NaN</td>\n",
              "      <td>NaN</td>\n",
              "      <td>NaN</td>\n",
              "      <td>2.0</td>\n",
              "      <td>0.0</td>\n",
              "      <td>1.0</td>\n",
              "      <td>9.33</td>\n",
              "      <td>0.0</td>\n",
              "      <td>20.55</td>\n",
              "      <td>0.0</td>\n",
              "      <td>10.44</td>\n",
              "      <td>0.0</td>\n",
              "      <td>NaN</td>\n",
              "      <td>NaN</td>\n",
              "      <td>NaN</td>\n",
              "      <td>NaN</td>\n",
              "      <td></td>\n",
              "    </tr>\n",
              "    <tr>\n",
              "      <th>1</th>\n",
              "      <td>4</td>\n",
              "      <td>4/10/2018</td>\n",
              "      <td>2.0</td>\n",
              "      <td>2.0</td>\n",
              "      <td>4.0</td>\n",
              "      <td>2.0</td>\n",
              "      <td>G</td>\n",
              "      <td>G</td>\n",
              "      <td>G</td>\n",
              "      <td>NaN</td>\n",
              "      <td>NaN</td>\n",
              "      <td>NaN</td>\n",
              "      <td>2.0</td>\n",
              "      <td>6.0</td>\n",
              "      <td>0.0</td>\n",
              "      <td>2.31</td>\n",
              "      <td>0.0</td>\n",
              "      <td>3.44</td>\n",
              "      <td>0.0</td>\n",
              "      <td>12.21</td>\n",
              "      <td>0.0</td>\n",
              "      <td>NaN</td>\n",
              "      <td>NaN</td>\n",
              "      <td>NaN</td>\n",
              "      <td>NaN</td>\n",
              "      <td>NaN</td>\n",
              "    </tr>\n",
              "  </tbody>\n",
              "</table>\n",
              "</div>"
            ],
            "text/plain": [
              "   Plot       Date    N    E  ...  Unnamed: 22  Unnamed: 23 Unnamed: 24 Unnamed: 25\n",
              "0     3  4/10/2018  2.0  4.0  ...          NaN          NaN         NaN            \n",
              "1     4  4/10/2018  2.0  2.0  ...          NaN          NaN         NaN         NaN\n",
              "\n",
              "[2 rows x 26 columns]"
            ]
          },
          "metadata": {
            "tags": []
          },
          "execution_count": 46
        }
      ]
    },
    {
      "cell_type": "code",
      "metadata": {
        "id": "VU6QIYm1k1YK",
        "colab_type": "code",
        "colab": {}
      },
      "source": [
        "# select columns to keep\n",
        "df_2018_spring = df_2018_spring[['Plot', 'Date', 'grams', 'grams.1', 'grams.2', 'grams.3', 'grams.4', 'grams.5']]"
      ],
      "execution_count": 0,
      "outputs": []
    },
    {
      "cell_type": "code",
      "metadata": {
        "id": "7LBSdWEVk1b4",
        "colab_type": "code",
        "colab": {}
      },
      "source": [
        "# rename columns\n",
        "df_2018_spring.columns = ['grid_point', 'date', '60grass', '60forb', '180grass', '180forb', '330grass', '330forb']"
      ],
      "execution_count": 0,
      "outputs": []
    },
    {
      "cell_type": "code",
      "metadata": {
        "id": "kj7q8qxwk1eC",
        "colab_type": "code",
        "outputId": "bd90c80c-8104-456e-c629-8d9033b6da14",
        "colab": {
          "base_uri": "https://localhost:8080/",
          "height": 111
        }
      },
      "source": [
        "df_2018_spring.tail(2)"
      ],
      "execution_count": 0,
      "outputs": [
        {
          "output_type": "execute_result",
          "data": {
            "text/html": [
              "<div>\n",
              "<style scoped>\n",
              "    .dataframe tbody tr th:only-of-type {\n",
              "        vertical-align: middle;\n",
              "    }\n",
              "\n",
              "    .dataframe tbody tr th {\n",
              "        vertical-align: top;\n",
              "    }\n",
              "\n",
              "    .dataframe thead th {\n",
              "        text-align: right;\n",
              "    }\n",
              "</style>\n",
              "<table border=\"1\" class=\"dataframe\">\n",
              "  <thead>\n",
              "    <tr style=\"text-align: right;\">\n",
              "      <th></th>\n",
              "      <th>grid_point</th>\n",
              "      <th>date</th>\n",
              "      <th>60grass</th>\n",
              "      <th>60forb</th>\n",
              "      <th>180grass</th>\n",
              "      <th>180forb</th>\n",
              "      <th>330grass</th>\n",
              "      <th>330forb</th>\n",
              "    </tr>\n",
              "  </thead>\n",
              "  <tbody>\n",
              "    <tr>\n",
              "      <th>112</th>\n",
              "      <td>484</td>\n",
              "      <td>4/9/2018</td>\n",
              "      <td>0.60</td>\n",
              "      <td>0.61</td>\n",
              "      <td>10.54</td>\n",
              "      <td>2.92</td>\n",
              "      <td>8.45</td>\n",
              "      <td>0.00</td>\n",
              "    </tr>\n",
              "    <tr>\n",
              "      <th>113</th>\n",
              "      <td>571</td>\n",
              "      <td>4/9/2018</td>\n",
              "      <td>5.37</td>\n",
              "      <td>0.00</td>\n",
              "      <td>1.86</td>\n",
              "      <td>1.36</td>\n",
              "      <td>2.25</td>\n",
              "      <td>2.25</td>\n",
              "    </tr>\n",
              "  </tbody>\n",
              "</table>\n",
              "</div>"
            ],
            "text/plain": [
              "     grid_point      date  60grass  ...  180forb  330grass  330forb\n",
              "112         484  4/9/2018     0.60  ...     2.92      8.45     0.00\n",
              "113         571  4/9/2018     5.37  ...     1.36      2.25     2.25\n",
              "\n",
              "[2 rows x 8 columns]"
            ]
          },
          "metadata": {
            "tags": []
          },
          "execution_count": 49
        }
      ]
    },
    {
      "cell_type": "code",
      "metadata": {
        "id": "55wsKFnuk1hD",
        "colab_type": "code",
        "colab": {}
      },
      "source": [
        "# average grass\n",
        "df_2018_spring['grass'] = df_2018_spring[['60grass', '180grass', '330grass']].mean(axis=1)"
      ],
      "execution_count": 0,
      "outputs": []
    },
    {
      "cell_type": "code",
      "metadata": {
        "id": "UTqPz9Y0polj",
        "colab_type": "code",
        "colab": {}
      },
      "source": [
        "# average forb\n",
        "df_2018_spring['forb'] = df_2018_spring[['60forb', '180forb', '330forb']].mean(axis=1)"
      ],
      "execution_count": 0,
      "outputs": []
    },
    {
      "cell_type": "code",
      "metadata": {
        "id": "BC7GF6c7pooo",
        "colab_type": "code",
        "outputId": "c3f86496-6430-49a6-bd70-797bd249f586",
        "colab": {
          "base_uri": "https://localhost:8080/",
          "height": 111
        }
      },
      "source": [
        "df_2018_spring.tail(2)"
      ],
      "execution_count": 0,
      "outputs": [
        {
          "output_type": "execute_result",
          "data": {
            "text/html": [
              "<div>\n",
              "<style scoped>\n",
              "    .dataframe tbody tr th:only-of-type {\n",
              "        vertical-align: middle;\n",
              "    }\n",
              "\n",
              "    .dataframe tbody tr th {\n",
              "        vertical-align: top;\n",
              "    }\n",
              "\n",
              "    .dataframe thead th {\n",
              "        text-align: right;\n",
              "    }\n",
              "</style>\n",
              "<table border=\"1\" class=\"dataframe\">\n",
              "  <thead>\n",
              "    <tr style=\"text-align: right;\">\n",
              "      <th></th>\n",
              "      <th>grid_point</th>\n",
              "      <th>date</th>\n",
              "      <th>60grass</th>\n",
              "      <th>60forb</th>\n",
              "      <th>180grass</th>\n",
              "      <th>180forb</th>\n",
              "      <th>330grass</th>\n",
              "      <th>330forb</th>\n",
              "      <th>grass</th>\n",
              "      <th>forb</th>\n",
              "    </tr>\n",
              "  </thead>\n",
              "  <tbody>\n",
              "    <tr>\n",
              "      <th>112</th>\n",
              "      <td>484</td>\n",
              "      <td>4/9/2018</td>\n",
              "      <td>0.60</td>\n",
              "      <td>0.61</td>\n",
              "      <td>10.54</td>\n",
              "      <td>2.92</td>\n",
              "      <td>8.45</td>\n",
              "      <td>0.00</td>\n",
              "      <td>6.53</td>\n",
              "      <td>1.176667</td>\n",
              "    </tr>\n",
              "    <tr>\n",
              "      <th>113</th>\n",
              "      <td>571</td>\n",
              "      <td>4/9/2018</td>\n",
              "      <td>5.37</td>\n",
              "      <td>0.00</td>\n",
              "      <td>1.86</td>\n",
              "      <td>1.36</td>\n",
              "      <td>2.25</td>\n",
              "      <td>2.25</td>\n",
              "      <td>3.16</td>\n",
              "      <td>1.203333</td>\n",
              "    </tr>\n",
              "  </tbody>\n",
              "</table>\n",
              "</div>"
            ],
            "text/plain": [
              "     grid_point      date  60grass  60forb  ...  330grass  330forb  grass      forb\n",
              "112         484  4/9/2018     0.60    0.61  ...      8.45     0.00   6.53  1.176667\n",
              "113         571  4/9/2018     5.37    0.00  ...      2.25     2.25   3.16  1.203333\n",
              "\n",
              "[2 rows x 10 columns]"
            ]
          },
          "metadata": {
            "tags": []
          },
          "execution_count": 52
        }
      ]
    },
    {
      "cell_type": "code",
      "metadata": {
        "id": "leL4HWrKporp",
        "colab_type": "code",
        "colab": {}
      },
      "source": [
        "# pare DataFrame down to grass, forb averages\n",
        "df_2018_spring = df_2018_spring[['grid_point', 'date', 'grass', 'forb']]"
      ],
      "execution_count": 0,
      "outputs": []
    },
    {
      "cell_type": "code",
      "metadata": {
        "id": "xAW4t-_npouf",
        "colab_type": "code",
        "colab": {}
      },
      "source": [
        "# coerce 'date' to datetime object\n",
        "df_2018_spring['date'] = pd.to_datetime(df_2018_spring['date'])"
      ],
      "execution_count": 0,
      "outputs": []
    },
    {
      "cell_type": "code",
      "metadata": {
        "id": "DGuGt0Wdk1j_",
        "colab_type": "code",
        "colab": {}
      },
      "source": [
        "# set 'year' column to 2018\n",
        "df_2018_spring['year'] = 2018"
      ],
      "execution_count": 0,
      "outputs": []
    },
    {
      "cell_type": "code",
      "metadata": {
        "id": "tx5luFvasVs7",
        "colab_type": "code",
        "colab": {}
      },
      "source": [
        "# set 'season' to spring\n",
        "df_2018_spring['season'] = 'spring'"
      ],
      "execution_count": 0,
      "outputs": []
    },
    {
      "cell_type": "code",
      "metadata": {
        "id": "HQcWZqJRk1m5",
        "colab_type": "code",
        "outputId": "fa489d52-05b0-493d-9a6a-95514a18c996",
        "colab": {
          "base_uri": "https://localhost:8080/",
          "height": 111
        }
      },
      "source": [
        "df_2018_spring.head(2)"
      ],
      "execution_count": 0,
      "outputs": [
        {
          "output_type": "execute_result",
          "data": {
            "text/html": [
              "<div>\n",
              "<style scoped>\n",
              "    .dataframe tbody tr th:only-of-type {\n",
              "        vertical-align: middle;\n",
              "    }\n",
              "\n",
              "    .dataframe tbody tr th {\n",
              "        vertical-align: top;\n",
              "    }\n",
              "\n",
              "    .dataframe thead th {\n",
              "        text-align: right;\n",
              "    }\n",
              "</style>\n",
              "<table border=\"1\" class=\"dataframe\">\n",
              "  <thead>\n",
              "    <tr style=\"text-align: right;\">\n",
              "      <th></th>\n",
              "      <th>grid_point</th>\n",
              "      <th>date</th>\n",
              "      <th>grass</th>\n",
              "      <th>forb</th>\n",
              "      <th>year</th>\n",
              "      <th>season</th>\n",
              "    </tr>\n",
              "  </thead>\n",
              "  <tbody>\n",
              "    <tr>\n",
              "      <th>0</th>\n",
              "      <td>3</td>\n",
              "      <td>2018-04-10</td>\n",
              "      <td>13.440000</td>\n",
              "      <td>0.0</td>\n",
              "      <td>2018</td>\n",
              "      <td>spring</td>\n",
              "    </tr>\n",
              "    <tr>\n",
              "      <th>1</th>\n",
              "      <td>4</td>\n",
              "      <td>2018-04-10</td>\n",
              "      <td>5.986667</td>\n",
              "      <td>0.0</td>\n",
              "      <td>2018</td>\n",
              "      <td>spring</td>\n",
              "    </tr>\n",
              "  </tbody>\n",
              "</table>\n",
              "</div>"
            ],
            "text/plain": [
              "   grid_point       date      grass  forb  year  season\n",
              "0           3 2018-04-10  13.440000   0.0  2018  spring\n",
              "1           4 2018-04-10   5.986667   0.0  2018  spring"
            ]
          },
          "metadata": {
            "tags": []
          },
          "execution_count": 57
        }
      ]
    },
    {
      "cell_type": "code",
      "metadata": {
        "id": "SyeODlo_scbU",
        "colab_type": "code",
        "colab": {}
      },
      "source": [
        "# reorder columns\n",
        "df_2018_spring = df_2018_spring[['grid_point', 'date', 'year', 'season', 'grass', 'forb']]"
      ],
      "execution_count": 0,
      "outputs": []
    },
    {
      "cell_type": "code",
      "metadata": {
        "id": "x1FG76h1scfh",
        "colab_type": "code",
        "outputId": "5ebe2a59-c381-477e-e943-caa03fc5e192",
        "colab": {
          "base_uri": "https://localhost:8080/",
          "height": 111
        }
      },
      "source": [
        "df_2018_spring.head(2)"
      ],
      "execution_count": 0,
      "outputs": [
        {
          "output_type": "execute_result",
          "data": {
            "text/html": [
              "<div>\n",
              "<style scoped>\n",
              "    .dataframe tbody tr th:only-of-type {\n",
              "        vertical-align: middle;\n",
              "    }\n",
              "\n",
              "    .dataframe tbody tr th {\n",
              "        vertical-align: top;\n",
              "    }\n",
              "\n",
              "    .dataframe thead th {\n",
              "        text-align: right;\n",
              "    }\n",
              "</style>\n",
              "<table border=\"1\" class=\"dataframe\">\n",
              "  <thead>\n",
              "    <tr style=\"text-align: right;\">\n",
              "      <th></th>\n",
              "      <th>grid_point</th>\n",
              "      <th>date</th>\n",
              "      <th>year</th>\n",
              "      <th>season</th>\n",
              "      <th>grass</th>\n",
              "      <th>forb</th>\n",
              "    </tr>\n",
              "  </thead>\n",
              "  <tbody>\n",
              "    <tr>\n",
              "      <th>0</th>\n",
              "      <td>3</td>\n",
              "      <td>2018-04-10</td>\n",
              "      <td>2018</td>\n",
              "      <td>spring</td>\n",
              "      <td>13.440000</td>\n",
              "      <td>0.0</td>\n",
              "    </tr>\n",
              "    <tr>\n",
              "      <th>1</th>\n",
              "      <td>4</td>\n",
              "      <td>2018-04-10</td>\n",
              "      <td>2018</td>\n",
              "      <td>spring</td>\n",
              "      <td>5.986667</td>\n",
              "      <td>0.0</td>\n",
              "    </tr>\n",
              "  </tbody>\n",
              "</table>\n",
              "</div>"
            ],
            "text/plain": [
              "   grid_point       date  year  season      grass  forb\n",
              "0           3 2018-04-10  2018  spring  13.440000   0.0\n",
              "1           4 2018-04-10  2018  spring   5.986667   0.0"
            ]
          },
          "metadata": {
            "tags": []
          },
          "execution_count": 59
        }
      ]
    },
    {
      "cell_type": "code",
      "metadata": {
        "id": "Qj0c7NmaQjBG",
        "colab_type": "code",
        "outputId": "76b8e15b-706f-4bfd-b7c9-027888d83ead",
        "colab": {
          "base_uri": "https://localhost:8080/",
          "height": 238
        }
      },
      "source": [
        "df_2018_spring.info()"
      ],
      "execution_count": 0,
      "outputs": [
        {
          "output_type": "stream",
          "text": [
            "<class 'pandas.core.frame.DataFrame'>\n",
            "RangeIndex: 114 entries, 0 to 113\n",
            "Data columns (total 6 columns):\n",
            " #   Column      Non-Null Count  Dtype         \n",
            "---  ------      --------------  -----         \n",
            " 0   grid_point  114 non-null    int64         \n",
            " 1   date        113 non-null    datetime64[ns]\n",
            " 2   year        114 non-null    int64         \n",
            " 3   season      114 non-null    object        \n",
            " 4   grass       114 non-null    float64       \n",
            " 5   forb        114 non-null    float64       \n",
            "dtypes: datetime64[ns](1), float64(2), int64(2), object(1)\n",
            "memory usage: 5.5+ KB\n"
          ],
          "name": "stdout"
        }
      ]
    },
    {
      "cell_type": "markdown",
      "metadata": {
        "id": "n0K7WBnkgAYL",
        "colab_type": "text"
      },
      "source": [
        "### Fall"
      ]
    },
    {
      "cell_type": "code",
      "metadata": {
        "id": "dEugPcFGa1SH",
        "colab_type": "code",
        "colab": {}
      },
      "source": [
        "# load data\n",
        "df_2018_fall = pd.read_csv(src_2018_fall)"
      ],
      "execution_count": 0,
      "outputs": []
    },
    {
      "cell_type": "code",
      "metadata": {
        "id": "TY5MJcRRbCzp",
        "colab_type": "code",
        "outputId": "db317b71-be80-49d9-e041-37780fa98489",
        "colab": {
          "base_uri": "https://localhost:8080/",
          "height": 102
        }
      },
      "source": [
        "# retrieve top level column names\n",
        "df_2018_fall.columns"
      ],
      "execution_count": 0,
      "outputs": [
        {
          "output_type": "execute_result",
          "data": {
            "text/plain": [
              "Index(['Unnamed: 0', 'Unnamed: 1', 'Robel', 'Unnamed: 3', 'Unnamed: 4',\n",
              "       'Unnamed: 5', 'Biomass', 'Unnamed: 7', 'Unnamed: 8', 'Woody plants',\n",
              "       'Unnamed: 10', 'Unnamed: 11', 'Scat', 'Unnamed: 13', 'Unnamed: 14',\n",
              "       '110G', '110F', '250G', '250F', '350G', '350F', 'Unnamed: 21'],\n",
              "      dtype='object')"
            ]
          },
          "metadata": {
            "tags": []
          },
          "execution_count": 62
        }
      ]
    },
    {
      "cell_type": "code",
      "metadata": {
        "id": "OkeoI8EjbC2l",
        "colab_type": "code",
        "colab": {}
      },
      "source": [
        "# reload data skipping first row\n",
        "df_2018_fall = pd.read_csv(src_2018_fall, skiprows=1)"
      ],
      "execution_count": 0,
      "outputs": []
    },
    {
      "cell_type": "code",
      "metadata": {
        "id": "QJa9Om4VbC5V",
        "colab_type": "code",
        "outputId": "1136d92d-6555-47d8-973a-fe9e3d4459e7",
        "colab": {
          "base_uri": "https://localhost:8080/",
          "height": 148
        }
      },
      "source": [
        "df_2018_fall.head(2)"
      ],
      "execution_count": 0,
      "outputs": [
        {
          "output_type": "execute_result",
          "data": {
            "text/html": [
              "<div>\n",
              "<style scoped>\n",
              "    .dataframe tbody tr th:only-of-type {\n",
              "        vertical-align: middle;\n",
              "    }\n",
              "\n",
              "    .dataframe tbody tr th {\n",
              "        vertical-align: top;\n",
              "    }\n",
              "\n",
              "    .dataframe thead th {\n",
              "        text-align: right;\n",
              "    }\n",
              "</style>\n",
              "<table border=\"1\" class=\"dataframe\">\n",
              "  <thead>\n",
              "    <tr style=\"text-align: right;\">\n",
              "      <th></th>\n",
              "      <th>Plot</th>\n",
              "      <th>Date</th>\n",
              "      <th>N</th>\n",
              "      <th>E</th>\n",
              "      <th>S</th>\n",
              "      <th>W</th>\n",
              "      <th>110</th>\n",
              "      <th>250</th>\n",
              "      <th>350</th>\n",
              "      <th>Plot.1</th>\n",
              "      <th>Species</th>\n",
              "      <th>% cover</th>\n",
              "      <th>Deer</th>\n",
              "      <th>Elk</th>\n",
              "      <th>Horse</th>\n",
              "      <th>grams</th>\n",
              "      <th>grams.1</th>\n",
              "      <th>grams.2</th>\n",
              "      <th>grams.3</th>\n",
              "      <th>grams.4</th>\n",
              "      <th>grams.5</th>\n",
              "      <th>Unnamed: 21</th>\n",
              "    </tr>\n",
              "  </thead>\n",
              "  <tbody>\n",
              "    <tr>\n",
              "      <th>0</th>\n",
              "      <td>70</td>\n",
              "      <td>10/15/2018</td>\n",
              "      <td>14</td>\n",
              "      <td>7</td>\n",
              "      <td>8</td>\n",
              "      <td>3</td>\n",
              "      <td>F/G</td>\n",
              "      <td>G</td>\n",
              "      <td>F/G</td>\n",
              "      <td>0</td>\n",
              "      <td>0</td>\n",
              "      <td>0</td>\n",
              "      <td>6</td>\n",
              "      <td>8</td>\n",
              "      <td>0</td>\n",
              "      <td>18.23</td>\n",
              "      <td>7.05</td>\n",
              "      <td>35.37</td>\n",
              "      <td>0.00</td>\n",
              "      <td>6.70</td>\n",
              "      <td>6.48</td>\n",
              "      <td>NaN</td>\n",
              "    </tr>\n",
              "    <tr>\n",
              "      <th>1</th>\n",
              "      <td>71</td>\n",
              "      <td>10/15/2018</td>\n",
              "      <td>1</td>\n",
              "      <td>1</td>\n",
              "      <td>1</td>\n",
              "      <td>2</td>\n",
              "      <td>F/G</td>\n",
              "      <td>F/G</td>\n",
              "      <td>F/G</td>\n",
              "      <td>0</td>\n",
              "      <td>0</td>\n",
              "      <td>0</td>\n",
              "      <td>1</td>\n",
              "      <td>6</td>\n",
              "      <td>0</td>\n",
              "      <td>3.18</td>\n",
              "      <td>5.35</td>\n",
              "      <td>3.56</td>\n",
              "      <td>10.93</td>\n",
              "      <td>1.04</td>\n",
              "      <td>7.52</td>\n",
              "      <td>NaN</td>\n",
              "    </tr>\n",
              "  </tbody>\n",
              "</table>\n",
              "</div>"
            ],
            "text/plain": [
              "   Plot        Date   N  E  S  ... grams.2 grams.3 grams.4 grams.5 Unnamed: 21\n",
              "0    70  10/15/2018  14  7  8  ...   35.37    0.00    6.70    6.48         NaN\n",
              "1    71  10/15/2018   1  1  1  ...    3.56   10.93    1.04    7.52         NaN\n",
              "\n",
              "[2 rows x 22 columns]"
            ]
          },
          "metadata": {
            "tags": []
          },
          "execution_count": 64
        }
      ]
    },
    {
      "cell_type": "code",
      "metadata": {
        "id": "F3QJ8VNmcT4G",
        "colab_type": "code",
        "colab": {}
      },
      "source": [
        "# select columns to keep\n",
        "df_2018_fall = df_2018_fall.loc[:, ['Plot', 'Date', 'grams', 'grams.1', 'grams.2', 'grams.3', 'grams.4', 'grams.5']]"
      ],
      "execution_count": 0,
      "outputs": []
    },
    {
      "cell_type": "code",
      "metadata": {
        "id": "oVV07OwUbC8S",
        "colab_type": "code",
        "colab": {}
      },
      "source": [
        "# rename columns\n",
        "df_2018_fall.columns = ['grid_point', 'date', '110grass', '110forb', '250grass', '250forb', '350grass', '350forb']"
      ],
      "execution_count": 0,
      "outputs": []
    },
    {
      "cell_type": "code",
      "metadata": {
        "id": "hEMz4OY_bC_R",
        "colab_type": "code",
        "outputId": "7b353603-ed92-4cb7-b204-005484ef0bb6",
        "colab": {
          "base_uri": "https://localhost:8080/",
          "height": 111
        }
      },
      "source": [
        "df_2018_fall.head(2)"
      ],
      "execution_count": 0,
      "outputs": [
        {
          "output_type": "execute_result",
          "data": {
            "text/html": [
              "<div>\n",
              "<style scoped>\n",
              "    .dataframe tbody tr th:only-of-type {\n",
              "        vertical-align: middle;\n",
              "    }\n",
              "\n",
              "    .dataframe tbody tr th {\n",
              "        vertical-align: top;\n",
              "    }\n",
              "\n",
              "    .dataframe thead th {\n",
              "        text-align: right;\n",
              "    }\n",
              "</style>\n",
              "<table border=\"1\" class=\"dataframe\">\n",
              "  <thead>\n",
              "    <tr style=\"text-align: right;\">\n",
              "      <th></th>\n",
              "      <th>grid_point</th>\n",
              "      <th>date</th>\n",
              "      <th>110grass</th>\n",
              "      <th>110forb</th>\n",
              "      <th>250grass</th>\n",
              "      <th>250forb</th>\n",
              "      <th>350grass</th>\n",
              "      <th>350forb</th>\n",
              "    </tr>\n",
              "  </thead>\n",
              "  <tbody>\n",
              "    <tr>\n",
              "      <th>0</th>\n",
              "      <td>70</td>\n",
              "      <td>10/15/2018</td>\n",
              "      <td>18.23</td>\n",
              "      <td>7.05</td>\n",
              "      <td>35.37</td>\n",
              "      <td>0.00</td>\n",
              "      <td>6.70</td>\n",
              "      <td>6.48</td>\n",
              "    </tr>\n",
              "    <tr>\n",
              "      <th>1</th>\n",
              "      <td>71</td>\n",
              "      <td>10/15/2018</td>\n",
              "      <td>3.18</td>\n",
              "      <td>5.35</td>\n",
              "      <td>3.56</td>\n",
              "      <td>10.93</td>\n",
              "      <td>1.04</td>\n",
              "      <td>7.52</td>\n",
              "    </tr>\n",
              "  </tbody>\n",
              "</table>\n",
              "</div>"
            ],
            "text/plain": [
              "   grid_point        date  110grass  ...  250forb  350grass  350forb\n",
              "0          70  10/15/2018     18.23  ...     0.00      6.70     6.48\n",
              "1          71  10/15/2018      3.18  ...    10.93      1.04     7.52\n",
              "\n",
              "[2 rows x 8 columns]"
            ]
          },
          "metadata": {
            "tags": []
          },
          "execution_count": 67
        }
      ]
    },
    {
      "cell_type": "code",
      "metadata": {
        "id": "twawaVZhd4ai",
        "colab_type": "code",
        "colab": {}
      },
      "source": [
        "# average grass\n",
        "df_2018_fall['grass'] = df_2018_fall[['110grass', '250grass', '350grass']].mean(axis=1)"
      ],
      "execution_count": 0,
      "outputs": []
    },
    {
      "cell_type": "code",
      "metadata": {
        "id": "P-iBBXhwfG-q",
        "colab_type": "code",
        "colab": {}
      },
      "source": [
        "# average forb\n",
        "df_2018_fall['forb'] = df_2018_fall[['110forb', '250forb', '350forb']].mean(axis=1)"
      ],
      "execution_count": 0,
      "outputs": []
    },
    {
      "cell_type": "code",
      "metadata": {
        "id": "3QEkTlQgevnM",
        "colab_type": "code",
        "colab": {}
      },
      "source": [
        "# pare DataFrame down to grass, forb averages\n",
        "df_2018_fall = df_2018_fall[['grid_point', 'date', 'grass', 'forb']]"
      ],
      "execution_count": 0,
      "outputs": []
    },
    {
      "cell_type": "code",
      "metadata": {
        "id": "lt6DUhi9evqH",
        "colab_type": "code",
        "outputId": "e48f9077-a95c-4918-d87e-e5456250ac8d",
        "colab": {
          "base_uri": "https://localhost:8080/",
          "height": 111
        }
      },
      "source": [
        "df_2018_fall.head(2)"
      ],
      "execution_count": 0,
      "outputs": [
        {
          "output_type": "execute_result",
          "data": {
            "text/html": [
              "<div>\n",
              "<style scoped>\n",
              "    .dataframe tbody tr th:only-of-type {\n",
              "        vertical-align: middle;\n",
              "    }\n",
              "\n",
              "    .dataframe tbody tr th {\n",
              "        vertical-align: top;\n",
              "    }\n",
              "\n",
              "    .dataframe thead th {\n",
              "        text-align: right;\n",
              "    }\n",
              "</style>\n",
              "<table border=\"1\" class=\"dataframe\">\n",
              "  <thead>\n",
              "    <tr style=\"text-align: right;\">\n",
              "      <th></th>\n",
              "      <th>grid_point</th>\n",
              "      <th>date</th>\n",
              "      <th>grass</th>\n",
              "      <th>forb</th>\n",
              "    </tr>\n",
              "  </thead>\n",
              "  <tbody>\n",
              "    <tr>\n",
              "      <th>0</th>\n",
              "      <td>70</td>\n",
              "      <td>10/15/2018</td>\n",
              "      <td>20.100000</td>\n",
              "      <td>4.510000</td>\n",
              "    </tr>\n",
              "    <tr>\n",
              "      <th>1</th>\n",
              "      <td>71</td>\n",
              "      <td>10/15/2018</td>\n",
              "      <td>2.593333</td>\n",
              "      <td>7.933333</td>\n",
              "    </tr>\n",
              "  </tbody>\n",
              "</table>\n",
              "</div>"
            ],
            "text/plain": [
              "   grid_point        date      grass      forb\n",
              "0          70  10/15/2018  20.100000  4.510000\n",
              "1          71  10/15/2018   2.593333  7.933333"
            ]
          },
          "metadata": {
            "tags": []
          },
          "execution_count": 71
        }
      ]
    },
    {
      "cell_type": "code",
      "metadata": {
        "id": "Mk0zlZ-YevtI",
        "colab_type": "code",
        "colab": {}
      },
      "source": [
        "# coerce 'date' to datetime object\n",
        "df_2018_fall['date'] = pd.to_datetime(df_2018_fall['date'])"
      ],
      "execution_count": 0,
      "outputs": []
    },
    {
      "cell_type": "code",
      "metadata": {
        "id": "1XlatmlMevv0",
        "colab_type": "code",
        "colab": {}
      },
      "source": [
        "# select year from 'date' to make 'year' column\n",
        "df_2018_fall['year'] = df_2018_fall.date.dt.year"
      ],
      "execution_count": 0,
      "outputs": []
    },
    {
      "cell_type": "code",
      "metadata": {
        "id": "-YbbGMGDjpUk",
        "colab_type": "code",
        "colab": {}
      },
      "source": [
        "# set season in 'season' column\n",
        "df_2018_fall['season'] = 'fall'"
      ],
      "execution_count": 0,
      "outputs": []
    },
    {
      "cell_type": "code",
      "metadata": {
        "id": "Ek1n2IqDjpXV",
        "colab_type": "code",
        "colab": {}
      },
      "source": [
        "# reorder columns\n",
        "df_2018_fall = df_2018_fall[['grid_point', 'date', 'year', 'season', 'grass', 'forb']]"
      ],
      "execution_count": 0,
      "outputs": []
    },
    {
      "cell_type": "code",
      "metadata": {
        "id": "IizXSSKvjpa8",
        "colab_type": "code",
        "outputId": "b0d43e15-f4bb-4ac8-e27a-6e923579a878",
        "colab": {
          "base_uri": "https://localhost:8080/",
          "height": 111
        }
      },
      "source": [
        "df_2018_fall.head(2)"
      ],
      "execution_count": 0,
      "outputs": [
        {
          "output_type": "execute_result",
          "data": {
            "text/html": [
              "<div>\n",
              "<style scoped>\n",
              "    .dataframe tbody tr th:only-of-type {\n",
              "        vertical-align: middle;\n",
              "    }\n",
              "\n",
              "    .dataframe tbody tr th {\n",
              "        vertical-align: top;\n",
              "    }\n",
              "\n",
              "    .dataframe thead th {\n",
              "        text-align: right;\n",
              "    }\n",
              "</style>\n",
              "<table border=\"1\" class=\"dataframe\">\n",
              "  <thead>\n",
              "    <tr style=\"text-align: right;\">\n",
              "      <th></th>\n",
              "      <th>grid_point</th>\n",
              "      <th>date</th>\n",
              "      <th>year</th>\n",
              "      <th>season</th>\n",
              "      <th>grass</th>\n",
              "      <th>forb</th>\n",
              "    </tr>\n",
              "  </thead>\n",
              "  <tbody>\n",
              "    <tr>\n",
              "      <th>0</th>\n",
              "      <td>70</td>\n",
              "      <td>2018-10-15</td>\n",
              "      <td>2018</td>\n",
              "      <td>fall</td>\n",
              "      <td>20.100000</td>\n",
              "      <td>4.510000</td>\n",
              "    </tr>\n",
              "    <tr>\n",
              "      <th>1</th>\n",
              "      <td>71</td>\n",
              "      <td>2018-10-15</td>\n",
              "      <td>2018</td>\n",
              "      <td>fall</td>\n",
              "      <td>2.593333</td>\n",
              "      <td>7.933333</td>\n",
              "    </tr>\n",
              "  </tbody>\n",
              "</table>\n",
              "</div>"
            ],
            "text/plain": [
              "   grid_point       date  year season      grass      forb\n",
              "0          70 2018-10-15  2018   fall  20.100000  4.510000\n",
              "1          71 2018-10-15  2018   fall   2.593333  7.933333"
            ]
          },
          "metadata": {
            "tags": []
          },
          "execution_count": 76
        }
      ]
    },
    {
      "cell_type": "code",
      "metadata": {
        "id": "rX7plyKpuXgM",
        "colab_type": "code",
        "outputId": "8e36aafd-8d4f-4e70-c8b1-c76eede99359",
        "colab": {
          "base_uri": "https://localhost:8080/",
          "height": 238
        }
      },
      "source": [
        "df_2018_fall.info()"
      ],
      "execution_count": 0,
      "outputs": [
        {
          "output_type": "stream",
          "text": [
            "<class 'pandas.core.frame.DataFrame'>\n",
            "RangeIndex: 47 entries, 0 to 46\n",
            "Data columns (total 6 columns):\n",
            " #   Column      Non-Null Count  Dtype         \n",
            "---  ------      --------------  -----         \n",
            " 0   grid_point  47 non-null     int64         \n",
            " 1   date        47 non-null     datetime64[ns]\n",
            " 2   year        47 non-null     int64         \n",
            " 3   season      47 non-null     object        \n",
            " 4   grass       47 non-null     float64       \n",
            " 5   forb        47 non-null     float64       \n",
            "dtypes: datetime64[ns](1), float64(2), int64(2), object(1)\n",
            "memory usage: 2.3+ KB\n"
          ],
          "name": "stdout"
        }
      ]
    },
    {
      "cell_type": "markdown",
      "metadata": {
        "id": "oWuS7F0ZknkD",
        "colab_type": "text"
      },
      "source": [
        "### Full Year"
      ]
    },
    {
      "cell_type": "code",
      "metadata": {
        "id": "wojQyBpDjpdU",
        "colab_type": "code",
        "colab": {}
      },
      "source": [
        "# concatenate spring and fall dataframes\n",
        "df_2018_full_year = pd.concat([df_2018_spring, df_2018_fall], ignore_index=True, sort=False)"
      ],
      "execution_count": 0,
      "outputs": []
    },
    {
      "cell_type": "code",
      "metadata": {
        "id": "WLfdpApejpgO",
        "colab_type": "code",
        "outputId": "488d5c74-08d5-4bd4-80fd-3af18042dce5",
        "colab": {
          "base_uri": "https://localhost:8080/",
          "height": 238
        }
      },
      "source": [
        "df_2018_full_year.info()"
      ],
      "execution_count": 0,
      "outputs": [
        {
          "output_type": "stream",
          "text": [
            "<class 'pandas.core.frame.DataFrame'>\n",
            "RangeIndex: 161 entries, 0 to 160\n",
            "Data columns (total 6 columns):\n",
            " #   Column      Non-Null Count  Dtype         \n",
            "---  ------      --------------  -----         \n",
            " 0   grid_point  161 non-null    int64         \n",
            " 1   date        160 non-null    datetime64[ns]\n",
            " 2   year        161 non-null    int64         \n",
            " 3   season      161 non-null    object        \n",
            " 4   grass       161 non-null    float64       \n",
            " 5   forb        161 non-null    float64       \n",
            "dtypes: datetime64[ns](1), float64(2), int64(2), object(1)\n",
            "memory usage: 7.7+ KB\n"
          ],
          "name": "stdout"
        }
      ]
    },
    {
      "cell_type": "markdown",
      "metadata": {
        "id": "I4I0oPJlOF94",
        "colab_type": "text"
      },
      "source": [
        "## 2017"
      ]
    },
    {
      "cell_type": "markdown",
      "metadata": {
        "id": "uI6npuhNON9O",
        "colab_type": "text"
      },
      "source": [
        "### Spring"
      ]
    },
    {
      "cell_type": "code",
      "metadata": {
        "id": "HQsiQOOVOPHn",
        "colab_type": "code",
        "colab": {}
      },
      "source": [
        "# load data\n",
        "df_2017_spring = pd.read_csv(src_2017_spring)"
      ],
      "execution_count": 0,
      "outputs": []
    },
    {
      "cell_type": "code",
      "metadata": {
        "id": "kRXT8cRBOPKc",
        "colab_type": "code",
        "outputId": "e1894d1b-046b-45d5-ed06-aba2a11b766a",
        "colab": {
          "base_uri": "https://localhost:8080/",
          "height": 102
        }
      },
      "source": [
        "# retrieve top level column names\n",
        "df_2017_spring.columns"
      ],
      "execution_count": 0,
      "outputs": [
        {
          "output_type": "execute_result",
          "data": {
            "text/plain": [
              "Index(['Unnamed: 0', 'Unnamed: 1', 'Robel', 'Unnamed: 3', 'Unnamed: 4',\n",
              "       'Unnamed: 5', 'Biomass', 'Unnamed: 7', 'Unnamed: 8', 'Woody plants',\n",
              "       'Unnamed: 10', 'Unnamed: 11', 'Scat', 'Unnamed: 13', 'Unnamed: 14',\n",
              "       '90 G', '90 F', '200 G', '200 F', '280 G', '280 F'],\n",
              "      dtype='object')"
            ]
          },
          "metadata": {
            "tags": []
          },
          "execution_count": 81
        }
      ]
    },
    {
      "cell_type": "code",
      "metadata": {
        "id": "YToI4tVUOPNn",
        "colab_type": "code",
        "outputId": "2aa43c3d-785f-410b-b03d-a307a699064b",
        "colab": {
          "base_uri": "https://localhost:8080/",
          "height": 148
        }
      },
      "source": [
        "df_2017_spring.head(2)"
      ],
      "execution_count": 0,
      "outputs": [
        {
          "output_type": "execute_result",
          "data": {
            "text/html": [
              "<div>\n",
              "<style scoped>\n",
              "    .dataframe tbody tr th:only-of-type {\n",
              "        vertical-align: middle;\n",
              "    }\n",
              "\n",
              "    .dataframe tbody tr th {\n",
              "        vertical-align: top;\n",
              "    }\n",
              "\n",
              "    .dataframe thead th {\n",
              "        text-align: right;\n",
              "    }\n",
              "</style>\n",
              "<table border=\"1\" class=\"dataframe\">\n",
              "  <thead>\n",
              "    <tr style=\"text-align: right;\">\n",
              "      <th></th>\n",
              "      <th>Unnamed: 0</th>\n",
              "      <th>Unnamed: 1</th>\n",
              "      <th>Robel</th>\n",
              "      <th>Unnamed: 3</th>\n",
              "      <th>Unnamed: 4</th>\n",
              "      <th>Unnamed: 5</th>\n",
              "      <th>Biomass</th>\n",
              "      <th>Unnamed: 7</th>\n",
              "      <th>Unnamed: 8</th>\n",
              "      <th>Woody plants</th>\n",
              "      <th>Unnamed: 10</th>\n",
              "      <th>Unnamed: 11</th>\n",
              "      <th>Scat</th>\n",
              "      <th>Unnamed: 13</th>\n",
              "      <th>Unnamed: 14</th>\n",
              "      <th>90 G</th>\n",
              "      <th>90 F</th>\n",
              "      <th>200 G</th>\n",
              "      <th>200 F</th>\n",
              "      <th>280 G</th>\n",
              "      <th>280 F</th>\n",
              "    </tr>\n",
              "  </thead>\n",
              "  <tbody>\n",
              "    <tr>\n",
              "      <th>0</th>\n",
              "      <td>Plot</td>\n",
              "      <td>Date</td>\n",
              "      <td>N</td>\n",
              "      <td>E</td>\n",
              "      <td>S</td>\n",
              "      <td>W</td>\n",
              "      <td>90</td>\n",
              "      <td>200</td>\n",
              "      <td>280</td>\n",
              "      <td>Plot</td>\n",
              "      <td>Species</td>\n",
              "      <td>% cover</td>\n",
              "      <td>Deer</td>\n",
              "      <td>Elk</td>\n",
              "      <td>Horse</td>\n",
              "      <td>NaN</td>\n",
              "      <td>NaN</td>\n",
              "      <td>NaN</td>\n",
              "      <td>NaN</td>\n",
              "      <td>NaN</td>\n",
              "      <td>NaN</td>\n",
              "    </tr>\n",
              "    <tr>\n",
              "      <th>1</th>\n",
              "      <td>2</td>\n",
              "      <td>5-Apr</td>\n",
              "      <td>2</td>\n",
              "      <td>1</td>\n",
              "      <td>1</td>\n",
              "      <td>1</td>\n",
              "      <td>F/G</td>\n",
              "      <td>F/G</td>\n",
              "      <td>F/G</td>\n",
              "      <td>NaN</td>\n",
              "      <td>NaN</td>\n",
              "      <td>NaN</td>\n",
              "      <td>2</td>\n",
              "      <td>4</td>\n",
              "      <td>2</td>\n",
              "      <td>1.16</td>\n",
              "      <td>0.96</td>\n",
              "      <td>0.65</td>\n",
              "      <td>1.26</td>\n",
              "      <td>3.33</td>\n",
              "      <td>2.62</td>\n",
              "    </tr>\n",
              "  </tbody>\n",
              "</table>\n",
              "</div>"
            ],
            "text/plain": [
              "  Unnamed: 0 Unnamed: 1 Robel Unnamed: 3  ... 200 G 200 F 280 G 280 F\n",
              "0       Plot       Date     N          E  ...   NaN   NaN   NaN   NaN\n",
              "1          2      5-Apr     2          1  ...  0.65  1.26  3.33  2.62\n",
              "\n",
              "[2 rows x 21 columns]"
            ]
          },
          "metadata": {
            "tags": []
          },
          "execution_count": 82
        }
      ]
    },
    {
      "cell_type": "code",
      "metadata": {
        "id": "5oPM8Cz5OPQi",
        "colab_type": "code",
        "colab": {}
      },
      "source": [
        "# reload data skipping first row\n",
        "df_2017_spring = pd.read_csv(src_2017_spring, skiprows=1)"
      ],
      "execution_count": 0,
      "outputs": []
    },
    {
      "cell_type": "code",
      "metadata": {
        "id": "NXIVGXDGOPTi",
        "colab_type": "code",
        "outputId": "dee463f7-2b99-498d-f733-67e24cc9531c",
        "colab": {
          "base_uri": "https://localhost:8080/",
          "height": 182
        }
      },
      "source": [
        "df_2017_spring.head(2)"
      ],
      "execution_count": 0,
      "outputs": [
        {
          "output_type": "execute_result",
          "data": {
            "text/html": [
              "<div>\n",
              "<style scoped>\n",
              "    .dataframe tbody tr th:only-of-type {\n",
              "        vertical-align: middle;\n",
              "    }\n",
              "\n",
              "    .dataframe tbody tr th {\n",
              "        vertical-align: top;\n",
              "    }\n",
              "\n",
              "    .dataframe thead th {\n",
              "        text-align: right;\n",
              "    }\n",
              "</style>\n",
              "<table border=\"1\" class=\"dataframe\">\n",
              "  <thead>\n",
              "    <tr style=\"text-align: right;\">\n",
              "      <th></th>\n",
              "      <th>Plot</th>\n",
              "      <th>Date</th>\n",
              "      <th>N</th>\n",
              "      <th>E</th>\n",
              "      <th>S</th>\n",
              "      <th>W</th>\n",
              "      <th>90</th>\n",
              "      <th>200</th>\n",
              "      <th>280</th>\n",
              "      <th>Plot.1</th>\n",
              "      <th>Species</th>\n",
              "      <th>% cover</th>\n",
              "      <th>Deer</th>\n",
              "      <th>Elk</th>\n",
              "      <th>Horse</th>\n",
              "      <th>Unnamed: 15</th>\n",
              "      <th>Unnamed: 16</th>\n",
              "      <th>Unnamed: 17</th>\n",
              "      <th>Unnamed: 18</th>\n",
              "      <th>Unnamed: 19</th>\n",
              "      <th>Unnamed: 20</th>\n",
              "    </tr>\n",
              "  </thead>\n",
              "  <tbody>\n",
              "    <tr>\n",
              "      <th>0</th>\n",
              "      <td>2</td>\n",
              "      <td>5-Apr</td>\n",
              "      <td>2.0</td>\n",
              "      <td>1.0</td>\n",
              "      <td>1.0</td>\n",
              "      <td>1.0</td>\n",
              "      <td>F/G</td>\n",
              "      <td>F/G</td>\n",
              "      <td>F/G</td>\n",
              "      <td>NaN</td>\n",
              "      <td>NaN</td>\n",
              "      <td>NaN</td>\n",
              "      <td>2.0</td>\n",
              "      <td>4.0</td>\n",
              "      <td>2.0</td>\n",
              "      <td>1.16</td>\n",
              "      <td>0.96</td>\n",
              "      <td>0.65</td>\n",
              "      <td>1.26</td>\n",
              "      <td>3.33</td>\n",
              "      <td>2.62</td>\n",
              "    </tr>\n",
              "    <tr>\n",
              "      <th>1</th>\n",
              "      <td>3</td>\n",
              "      <td>5-Apr</td>\n",
              "      <td>2.0</td>\n",
              "      <td>3.0</td>\n",
              "      <td>2.0</td>\n",
              "      <td>16.0</td>\n",
              "      <td>G</td>\n",
              "      <td>F/G</td>\n",
              "      <td>F/G</td>\n",
              "      <td>3-?</td>\n",
              "      <td>SAGE</td>\n",
              "      <td>40.0</td>\n",
              "      <td>0.0</td>\n",
              "      <td>3.0</td>\n",
              "      <td>1.0</td>\n",
              "      <td>2.84</td>\n",
              "      <td>0.00</td>\n",
              "      <td>6.21</td>\n",
              "      <td>12.78</td>\n",
              "      <td>4.26</td>\n",
              "      <td>0.25</td>\n",
              "    </tr>\n",
              "  </tbody>\n",
              "</table>\n",
              "</div>"
            ],
            "text/plain": [
              "   Plot   Date    N    E  ...  Unnamed: 17  Unnamed: 18 Unnamed: 19 Unnamed: 20\n",
              "0     2  5-Apr  2.0  1.0  ...         0.65         1.26        3.33        2.62\n",
              "1     3  5-Apr  2.0  3.0  ...         6.21        12.78        4.26        0.25\n",
              "\n",
              "[2 rows x 21 columns]"
            ]
          },
          "metadata": {
            "tags": []
          },
          "execution_count": 84
        }
      ]
    },
    {
      "cell_type": "code",
      "metadata": {
        "id": "8e19_IK_OPcz",
        "colab_type": "code",
        "colab": {}
      },
      "source": [
        "# select columns to keep\n",
        "df_2017_spring = df_2017_spring[['Plot', 'Date', 'Unnamed: 15', 'Unnamed: 16', 'Unnamed: 17', 'Unnamed: 18', 'Unnamed: 19', 'Unnamed: 20']]"
      ],
      "execution_count": 0,
      "outputs": []
    },
    {
      "cell_type": "code",
      "metadata": {
        "id": "Lol_SQheOPkC",
        "colab_type": "code",
        "colab": {}
      },
      "source": [
        "# rename columns\n",
        "df_2017_spring.columns = ['grid_point', 'date', '90grass', '90forb', '200grass', '200forb', '280grass', '280forb']"
      ],
      "execution_count": 0,
      "outputs": []
    },
    {
      "cell_type": "code",
      "metadata": {
        "id": "0nsNrWBGR-8y",
        "colab_type": "code",
        "outputId": "529ec81b-5a64-495a-d512-047d63e8e0fd",
        "colab": {
          "base_uri": "https://localhost:8080/",
          "height": 111
        }
      },
      "source": [
        "df_2017_spring.head(2)"
      ],
      "execution_count": 0,
      "outputs": [
        {
          "output_type": "execute_result",
          "data": {
            "text/html": [
              "<div>\n",
              "<style scoped>\n",
              "    .dataframe tbody tr th:only-of-type {\n",
              "        vertical-align: middle;\n",
              "    }\n",
              "\n",
              "    .dataframe tbody tr th {\n",
              "        vertical-align: top;\n",
              "    }\n",
              "\n",
              "    .dataframe thead th {\n",
              "        text-align: right;\n",
              "    }\n",
              "</style>\n",
              "<table border=\"1\" class=\"dataframe\">\n",
              "  <thead>\n",
              "    <tr style=\"text-align: right;\">\n",
              "      <th></th>\n",
              "      <th>grid_point</th>\n",
              "      <th>date</th>\n",
              "      <th>90grass</th>\n",
              "      <th>90forb</th>\n",
              "      <th>200grass</th>\n",
              "      <th>200forb</th>\n",
              "      <th>280grass</th>\n",
              "      <th>280forb</th>\n",
              "    </tr>\n",
              "  </thead>\n",
              "  <tbody>\n",
              "    <tr>\n",
              "      <th>0</th>\n",
              "      <td>2</td>\n",
              "      <td>5-Apr</td>\n",
              "      <td>1.16</td>\n",
              "      <td>0.96</td>\n",
              "      <td>0.65</td>\n",
              "      <td>1.26</td>\n",
              "      <td>3.33</td>\n",
              "      <td>2.62</td>\n",
              "    </tr>\n",
              "    <tr>\n",
              "      <th>1</th>\n",
              "      <td>3</td>\n",
              "      <td>5-Apr</td>\n",
              "      <td>2.84</td>\n",
              "      <td>0.00</td>\n",
              "      <td>6.21</td>\n",
              "      <td>12.78</td>\n",
              "      <td>4.26</td>\n",
              "      <td>0.25</td>\n",
              "    </tr>\n",
              "  </tbody>\n",
              "</table>\n",
              "</div>"
            ],
            "text/plain": [
              "   grid_point   date  90grass  90forb  200grass  200forb  280grass  280forb\n",
              "0           2  5-Apr     1.16    0.96      0.65     1.26      3.33     2.62\n",
              "1           3  5-Apr     2.84    0.00      6.21    12.78      4.26     0.25"
            ]
          },
          "metadata": {
            "tags": []
          },
          "execution_count": 87
        }
      ]
    },
    {
      "cell_type": "code",
      "metadata": {
        "id": "2Smt8RjrR-_a",
        "colab_type": "code",
        "colab": {}
      },
      "source": [
        "# average grass\n",
        "df_2017_spring['grass'] = df_2017_spring[['90grass', '200grass', '280grass']].mean(axis=1)"
      ],
      "execution_count": 0,
      "outputs": []
    },
    {
      "cell_type": "code",
      "metadata": {
        "id": "f8AaN5cyR_CS",
        "colab_type": "code",
        "colab": {}
      },
      "source": [
        "# average forb\n",
        "df_2017_spring['forb'] = df_2017_spring[['90forb', '200forb', '280forb']].mean(axis=1)"
      ],
      "execution_count": 0,
      "outputs": []
    },
    {
      "cell_type": "code",
      "metadata": {
        "id": "E8jv4mtFR_FJ",
        "colab_type": "code",
        "colab": {}
      },
      "source": [
        "# pare DataFrame down to grass, forb averages\n",
        "df_2017_spring = df_2017_spring[['grid_point', 'date', 'grass', 'forb']]"
      ],
      "execution_count": 0,
      "outputs": []
    },
    {
      "cell_type": "code",
      "metadata": {
        "id": "2UQbhu1GR_IC",
        "colab_type": "code",
        "outputId": "349bbdcc-5b3f-4ee8-eb88-e59de0036e7b",
        "colab": {
          "base_uri": "https://localhost:8080/",
          "height": 111
        }
      },
      "source": [
        "df_2017_spring.head(2)"
      ],
      "execution_count": 0,
      "outputs": [
        {
          "output_type": "execute_result",
          "data": {
            "text/html": [
              "<div>\n",
              "<style scoped>\n",
              "    .dataframe tbody tr th:only-of-type {\n",
              "        vertical-align: middle;\n",
              "    }\n",
              "\n",
              "    .dataframe tbody tr th {\n",
              "        vertical-align: top;\n",
              "    }\n",
              "\n",
              "    .dataframe thead th {\n",
              "        text-align: right;\n",
              "    }\n",
              "</style>\n",
              "<table border=\"1\" class=\"dataframe\">\n",
              "  <thead>\n",
              "    <tr style=\"text-align: right;\">\n",
              "      <th></th>\n",
              "      <th>grid_point</th>\n",
              "      <th>date</th>\n",
              "      <th>grass</th>\n",
              "      <th>forb</th>\n",
              "    </tr>\n",
              "  </thead>\n",
              "  <tbody>\n",
              "    <tr>\n",
              "      <th>0</th>\n",
              "      <td>2</td>\n",
              "      <td>5-Apr</td>\n",
              "      <td>1.713333</td>\n",
              "      <td>1.613333</td>\n",
              "    </tr>\n",
              "    <tr>\n",
              "      <th>1</th>\n",
              "      <td>3</td>\n",
              "      <td>5-Apr</td>\n",
              "      <td>4.436667</td>\n",
              "      <td>4.343333</td>\n",
              "    </tr>\n",
              "  </tbody>\n",
              "</table>\n",
              "</div>"
            ],
            "text/plain": [
              "   grid_point   date     grass      forb\n",
              "0           2  5-Apr  1.713333  1.613333\n",
              "1           3  5-Apr  4.436667  4.343333"
            ]
          },
          "metadata": {
            "tags": []
          },
          "execution_count": 91
        }
      ]
    },
    {
      "cell_type": "code",
      "metadata": {
        "id": "ySVAHkdDR_LB",
        "colab_type": "code",
        "colab": {}
      },
      "source": [
        "# set value for 'year' column\n",
        "df_2017_spring['year'] = 2017"
      ],
      "execution_count": 0,
      "outputs": []
    },
    {
      "cell_type": "code",
      "metadata": {
        "id": "_qg6HyFpR_N4",
        "colab_type": "code",
        "colab": {}
      },
      "source": [
        "# set value for 'season' column\n",
        "df_2017_spring['season'] = 'spring'"
      ],
      "execution_count": 0,
      "outputs": []
    },
    {
      "cell_type": "code",
      "metadata": {
        "id": "ZImLwt9UVhMq",
        "colab_type": "code",
        "outputId": "ed0e5478-5a7a-4ca2-ac37-bbeadc467511",
        "colab": {
          "base_uri": "https://localhost:8080/",
          "height": 111
        }
      },
      "source": [
        "df_2017_spring.head(2)"
      ],
      "execution_count": 0,
      "outputs": [
        {
          "output_type": "execute_result",
          "data": {
            "text/html": [
              "<div>\n",
              "<style scoped>\n",
              "    .dataframe tbody tr th:only-of-type {\n",
              "        vertical-align: middle;\n",
              "    }\n",
              "\n",
              "    .dataframe tbody tr th {\n",
              "        vertical-align: top;\n",
              "    }\n",
              "\n",
              "    .dataframe thead th {\n",
              "        text-align: right;\n",
              "    }\n",
              "</style>\n",
              "<table border=\"1\" class=\"dataframe\">\n",
              "  <thead>\n",
              "    <tr style=\"text-align: right;\">\n",
              "      <th></th>\n",
              "      <th>grid_point</th>\n",
              "      <th>date</th>\n",
              "      <th>grass</th>\n",
              "      <th>forb</th>\n",
              "      <th>year</th>\n",
              "      <th>season</th>\n",
              "    </tr>\n",
              "  </thead>\n",
              "  <tbody>\n",
              "    <tr>\n",
              "      <th>0</th>\n",
              "      <td>2</td>\n",
              "      <td>5-Apr</td>\n",
              "      <td>1.713333</td>\n",
              "      <td>1.613333</td>\n",
              "      <td>2017</td>\n",
              "      <td>spring</td>\n",
              "    </tr>\n",
              "    <tr>\n",
              "      <th>1</th>\n",
              "      <td>3</td>\n",
              "      <td>5-Apr</td>\n",
              "      <td>4.436667</td>\n",
              "      <td>4.343333</td>\n",
              "      <td>2017</td>\n",
              "      <td>spring</td>\n",
              "    </tr>\n",
              "  </tbody>\n",
              "</table>\n",
              "</div>"
            ],
            "text/plain": [
              "   grid_point   date     grass      forb  year  season\n",
              "0           2  5-Apr  1.713333  1.613333  2017  spring\n",
              "1           3  5-Apr  4.436667  4.343333  2017  spring"
            ]
          },
          "metadata": {
            "tags": []
          },
          "execution_count": 94
        }
      ]
    },
    {
      "cell_type": "code",
      "metadata": {
        "id": "Xx7lhCGBVhPv",
        "colab_type": "code",
        "colab": {}
      },
      "source": [
        "# restructure date format\n",
        "df_2017_spring['date'] = pd.to_datetime(df_2017_spring.date + '-2017')"
      ],
      "execution_count": 0,
      "outputs": []
    },
    {
      "cell_type": "code",
      "metadata": {
        "id": "NgsgL0IWVhS9",
        "colab_type": "code",
        "outputId": "a63547ee-721b-4b51-ff6d-85ff797ae884",
        "colab": {
          "base_uri": "https://localhost:8080/",
          "height": 111
        }
      },
      "source": [
        "df_2017_spring.head(2)"
      ],
      "execution_count": 0,
      "outputs": [
        {
          "output_type": "execute_result",
          "data": {
            "text/html": [
              "<div>\n",
              "<style scoped>\n",
              "    .dataframe tbody tr th:only-of-type {\n",
              "        vertical-align: middle;\n",
              "    }\n",
              "\n",
              "    .dataframe tbody tr th {\n",
              "        vertical-align: top;\n",
              "    }\n",
              "\n",
              "    .dataframe thead th {\n",
              "        text-align: right;\n",
              "    }\n",
              "</style>\n",
              "<table border=\"1\" class=\"dataframe\">\n",
              "  <thead>\n",
              "    <tr style=\"text-align: right;\">\n",
              "      <th></th>\n",
              "      <th>grid_point</th>\n",
              "      <th>date</th>\n",
              "      <th>grass</th>\n",
              "      <th>forb</th>\n",
              "      <th>year</th>\n",
              "      <th>season</th>\n",
              "    </tr>\n",
              "  </thead>\n",
              "  <tbody>\n",
              "    <tr>\n",
              "      <th>0</th>\n",
              "      <td>2</td>\n",
              "      <td>2017-04-05</td>\n",
              "      <td>1.713333</td>\n",
              "      <td>1.613333</td>\n",
              "      <td>2017</td>\n",
              "      <td>spring</td>\n",
              "    </tr>\n",
              "    <tr>\n",
              "      <th>1</th>\n",
              "      <td>3</td>\n",
              "      <td>2017-04-05</td>\n",
              "      <td>4.436667</td>\n",
              "      <td>4.343333</td>\n",
              "      <td>2017</td>\n",
              "      <td>spring</td>\n",
              "    </tr>\n",
              "  </tbody>\n",
              "</table>\n",
              "</div>"
            ],
            "text/plain": [
              "   grid_point       date     grass      forb  year  season\n",
              "0           2 2017-04-05  1.713333  1.613333  2017  spring\n",
              "1           3 2017-04-05  4.436667  4.343333  2017  spring"
            ]
          },
          "metadata": {
            "tags": []
          },
          "execution_count": 96
        }
      ]
    },
    {
      "cell_type": "code",
      "metadata": {
        "id": "LjGVrjQoVhWD",
        "colab_type": "code",
        "colab": {}
      },
      "source": [
        "# reorder columns\n",
        "df_2017_spring = df_2017_spring[['grid_point', 'date', 'year', 'season', 'grass', 'forb']]"
      ],
      "execution_count": 0,
      "outputs": []
    },
    {
      "cell_type": "code",
      "metadata": {
        "id": "iHEtVGTeVhaq",
        "colab_type": "code",
        "outputId": "4b2d79ee-8ba8-4530-832a-3f13993dfb61",
        "colab": {
          "base_uri": "https://localhost:8080/",
          "height": 111
        }
      },
      "source": [
        "df_2017_spring.head(2)"
      ],
      "execution_count": 0,
      "outputs": [
        {
          "output_type": "execute_result",
          "data": {
            "text/html": [
              "<div>\n",
              "<style scoped>\n",
              "    .dataframe tbody tr th:only-of-type {\n",
              "        vertical-align: middle;\n",
              "    }\n",
              "\n",
              "    .dataframe tbody tr th {\n",
              "        vertical-align: top;\n",
              "    }\n",
              "\n",
              "    .dataframe thead th {\n",
              "        text-align: right;\n",
              "    }\n",
              "</style>\n",
              "<table border=\"1\" class=\"dataframe\">\n",
              "  <thead>\n",
              "    <tr style=\"text-align: right;\">\n",
              "      <th></th>\n",
              "      <th>grid_point</th>\n",
              "      <th>date</th>\n",
              "      <th>year</th>\n",
              "      <th>season</th>\n",
              "      <th>grass</th>\n",
              "      <th>forb</th>\n",
              "    </tr>\n",
              "  </thead>\n",
              "  <tbody>\n",
              "    <tr>\n",
              "      <th>0</th>\n",
              "      <td>2</td>\n",
              "      <td>2017-04-05</td>\n",
              "      <td>2017</td>\n",
              "      <td>spring</td>\n",
              "      <td>1.713333</td>\n",
              "      <td>1.613333</td>\n",
              "    </tr>\n",
              "    <tr>\n",
              "      <th>1</th>\n",
              "      <td>3</td>\n",
              "      <td>2017-04-05</td>\n",
              "      <td>2017</td>\n",
              "      <td>spring</td>\n",
              "      <td>4.436667</td>\n",
              "      <td>4.343333</td>\n",
              "    </tr>\n",
              "  </tbody>\n",
              "</table>\n",
              "</div>"
            ],
            "text/plain": [
              "   grid_point       date  year  season     grass      forb\n",
              "0           2 2017-04-05  2017  spring  1.713333  1.613333\n",
              "1           3 2017-04-05  2017  spring  4.436667  4.343333"
            ]
          },
          "metadata": {
            "tags": []
          },
          "execution_count": 98
        }
      ]
    },
    {
      "cell_type": "code",
      "metadata": {
        "id": "vEkCVh2HR_RD",
        "colab_type": "code",
        "outputId": "d865963f-365f-4589-e9ca-d1dc9c64c47c",
        "colab": {
          "base_uri": "https://localhost:8080/",
          "height": 238
        }
      },
      "source": [
        "df_2017_spring.info()"
      ],
      "execution_count": 0,
      "outputs": [
        {
          "output_type": "stream",
          "text": [
            "<class 'pandas.core.frame.DataFrame'>\n",
            "RangeIndex: 135 entries, 0 to 134\n",
            "Data columns (total 6 columns):\n",
            " #   Column      Non-Null Count  Dtype         \n",
            "---  ------      --------------  -----         \n",
            " 0   grid_point  135 non-null    int64         \n",
            " 1   date        133 non-null    datetime64[ns]\n",
            " 2   year        135 non-null    int64         \n",
            " 3   season      135 non-null    object        \n",
            " 4   grass       135 non-null    float64       \n",
            " 5   forb        135 non-null    float64       \n",
            "dtypes: datetime64[ns](1), float64(2), int64(2), object(1)\n",
            "memory usage: 6.5+ KB\n"
          ],
          "name": "stdout"
        }
      ]
    },
    {
      "cell_type": "markdown",
      "metadata": {
        "id": "jCTJGdpaaO-G",
        "colab_type": "text"
      },
      "source": [
        "### Fall"
      ]
    },
    {
      "cell_type": "code",
      "metadata": {
        "id": "hn2arDqJaQtb",
        "colab_type": "code",
        "colab": {}
      },
      "source": [
        "# reload data skipping first row\n",
        "df_2017_fall = pd.read_csv(src_2017_fall, skiprows=1)"
      ],
      "execution_count": 0,
      "outputs": []
    },
    {
      "cell_type": "code",
      "metadata": {
        "id": "qO-o6DvMaQkh",
        "colab_type": "code",
        "outputId": "72ac22eb-c2f2-4c5e-f926-b492e3956553",
        "colab": {
          "base_uri": "https://localhost:8080/",
          "height": 85
        }
      },
      "source": [
        "# retrieve top level column names\n",
        "df_2017_fall.columns"
      ],
      "execution_count": 0,
      "outputs": [
        {
          "output_type": "execute_result",
          "data": {
            "text/plain": [
              "Index(['Plot', 'Date', 'N', 'E', 'S', 'W', '0', '170', '270', 'Plot.1',\n",
              "       'Species', '% cover', 'Deer', 'Elk', 'Horse', 'grams', 'grams.1',\n",
              "       'grams.2', 'grams.3', 'grams.4', 'grams.5'],\n",
              "      dtype='object')"
            ]
          },
          "metadata": {
            "tags": []
          },
          "execution_count": 101
        }
      ]
    },
    {
      "cell_type": "code",
      "metadata": {
        "id": "pJZIYylnaQq1",
        "colab_type": "code",
        "outputId": "6a7f2286-1bda-4831-d183-56f502c8d443",
        "colab": {
          "base_uri": "https://localhost:8080/",
          "height": 111
        }
      },
      "source": [
        "df_2017_fall.head(2)"
      ],
      "execution_count": 0,
      "outputs": [
        {
          "output_type": "execute_result",
          "data": {
            "text/html": [
              "<div>\n",
              "<style scoped>\n",
              "    .dataframe tbody tr th:only-of-type {\n",
              "        vertical-align: middle;\n",
              "    }\n",
              "\n",
              "    .dataframe tbody tr th {\n",
              "        vertical-align: top;\n",
              "    }\n",
              "\n",
              "    .dataframe thead th {\n",
              "        text-align: right;\n",
              "    }\n",
              "</style>\n",
              "<table border=\"1\" class=\"dataframe\">\n",
              "  <thead>\n",
              "    <tr style=\"text-align: right;\">\n",
              "      <th></th>\n",
              "      <th>Plot</th>\n",
              "      <th>Date</th>\n",
              "      <th>N</th>\n",
              "      <th>E</th>\n",
              "      <th>S</th>\n",
              "      <th>W</th>\n",
              "      <th>0</th>\n",
              "      <th>170</th>\n",
              "      <th>270</th>\n",
              "      <th>Plot.1</th>\n",
              "      <th>Species</th>\n",
              "      <th>% cover</th>\n",
              "      <th>Deer</th>\n",
              "      <th>Elk</th>\n",
              "      <th>Horse</th>\n",
              "      <th>grams</th>\n",
              "      <th>grams.1</th>\n",
              "      <th>grams.2</th>\n",
              "      <th>grams.3</th>\n",
              "      <th>grams.4</th>\n",
              "      <th>grams.5</th>\n",
              "    </tr>\n",
              "  </thead>\n",
              "  <tbody>\n",
              "    <tr>\n",
              "      <th>0</th>\n",
              "      <td>3</td>\n",
              "      <td>9-Oct</td>\n",
              "      <td>4.0</td>\n",
              "      <td>2.0</td>\n",
              "      <td>2.0</td>\n",
              "      <td>2.0</td>\n",
              "      <td>G</td>\n",
              "      <td>G</td>\n",
              "      <td>G</td>\n",
              "      <td>NaN</td>\n",
              "      <td>NaN</td>\n",
              "      <td>NaN</td>\n",
              "      <td>1.0</td>\n",
              "      <td>2.0</td>\n",
              "      <td>0.0</td>\n",
              "      <td>2.90</td>\n",
              "      <td>0</td>\n",
              "      <td>NaN</td>\n",
              "      <td>0.00</td>\n",
              "      <td>NaN</td>\n",
              "      <td>0.0</td>\n",
              "    </tr>\n",
              "    <tr>\n",
              "      <th>1</th>\n",
              "      <td>4</td>\n",
              "      <td>9-Oct</td>\n",
              "      <td>6.0</td>\n",
              "      <td>3.0</td>\n",
              "      <td>2.0</td>\n",
              "      <td>4.0</td>\n",
              "      <td>FG</td>\n",
              "      <td>FG</td>\n",
              "      <td>G</td>\n",
              "      <td>NaN</td>\n",
              "      <td>NaN</td>\n",
              "      <td>NaN</td>\n",
              "      <td>7.0</td>\n",
              "      <td>0.0</td>\n",
              "      <td>0.0</td>\n",
              "      <td>5.92</td>\n",
              "      <td>0.57</td>\n",
              "      <td>10.56</td>\n",
              "      <td>0.01</td>\n",
              "      <td>9.39</td>\n",
              "      <td>0.0</td>\n",
              "    </tr>\n",
              "  </tbody>\n",
              "</table>\n",
              "</div>"
            ],
            "text/plain": [
              "   Plot   Date    N    E    S  ...  grams.1 grams.2 grams.3 grams.4 grams.5\n",
              "0     3  9-Oct  4.0  2.0  2.0  ...        0     NaN    0.00     NaN     0.0\n",
              "1     4  9-Oct  6.0  3.0  2.0  ...     0.57   10.56    0.01    9.39     0.0\n",
              "\n",
              "[2 rows x 21 columns]"
            ]
          },
          "metadata": {
            "tags": []
          },
          "execution_count": 102
        }
      ]
    },
    {
      "cell_type": "code",
      "metadata": {
        "id": "JbUfZCtEaQzb",
        "colab_type": "code",
        "colab": {}
      },
      "source": [
        "# select columns to keep\n",
        "df_2017_fall = df_2017_fall[['Plot', 'Date', 'grams', 'grams.1', 'grams.2', 'grams.3', 'grams.4', 'grams.5']]"
      ],
      "execution_count": 0,
      "outputs": []
    },
    {
      "cell_type": "code",
      "metadata": {
        "id": "KrdnM2MfaQ2X",
        "colab_type": "code",
        "colab": {}
      },
      "source": [
        "# rename columns\n",
        "df_2017_fall.columns = ['grid_point', 'date', '0grass', '0forb', '170grass', '170forb', '270grass', '270forb']"
      ],
      "execution_count": 0,
      "outputs": []
    },
    {
      "cell_type": "code",
      "metadata": {
        "id": "6eDT2r_EaQ5d",
        "colab_type": "code",
        "outputId": "961ecb2e-a5bb-4f44-9d4a-92f8aee38ccc",
        "colab": {
          "base_uri": "https://localhost:8080/",
          "height": 111
        }
      },
      "source": [
        "df_2017_fall.head(2)"
      ],
      "execution_count": 0,
      "outputs": [
        {
          "output_type": "execute_result",
          "data": {
            "text/html": [
              "<div>\n",
              "<style scoped>\n",
              "    .dataframe tbody tr th:only-of-type {\n",
              "        vertical-align: middle;\n",
              "    }\n",
              "\n",
              "    .dataframe tbody tr th {\n",
              "        vertical-align: top;\n",
              "    }\n",
              "\n",
              "    .dataframe thead th {\n",
              "        text-align: right;\n",
              "    }\n",
              "</style>\n",
              "<table border=\"1\" class=\"dataframe\">\n",
              "  <thead>\n",
              "    <tr style=\"text-align: right;\">\n",
              "      <th></th>\n",
              "      <th>grid_point</th>\n",
              "      <th>date</th>\n",
              "      <th>0grass</th>\n",
              "      <th>0forb</th>\n",
              "      <th>170grass</th>\n",
              "      <th>170forb</th>\n",
              "      <th>270grass</th>\n",
              "      <th>270forb</th>\n",
              "    </tr>\n",
              "  </thead>\n",
              "  <tbody>\n",
              "    <tr>\n",
              "      <th>0</th>\n",
              "      <td>3</td>\n",
              "      <td>9-Oct</td>\n",
              "      <td>2.90</td>\n",
              "      <td>0</td>\n",
              "      <td>NaN</td>\n",
              "      <td>0.00</td>\n",
              "      <td>NaN</td>\n",
              "      <td>0.0</td>\n",
              "    </tr>\n",
              "    <tr>\n",
              "      <th>1</th>\n",
              "      <td>4</td>\n",
              "      <td>9-Oct</td>\n",
              "      <td>5.92</td>\n",
              "      <td>0.57</td>\n",
              "      <td>10.56</td>\n",
              "      <td>0.01</td>\n",
              "      <td>9.39</td>\n",
              "      <td>0.0</td>\n",
              "    </tr>\n",
              "  </tbody>\n",
              "</table>\n",
              "</div>"
            ],
            "text/plain": [
              "   grid_point   date  0grass 0forb  170grass  170forb  270grass  270forb\n",
              "0           3  9-Oct    2.90     0       NaN     0.00       NaN      0.0\n",
              "1           4  9-Oct    5.92  0.57     10.56     0.01      9.39      0.0"
            ]
          },
          "metadata": {
            "tags": []
          },
          "execution_count": 105
        }
      ]
    },
    {
      "cell_type": "code",
      "metadata": {
        "id": "yC90nppmaQ8l",
        "colab_type": "code",
        "colab": {}
      },
      "source": [
        "# average grass\n",
        "df_2017_fall['grass'] = df_2017_fall[['0grass', '170grass', '270grass']].mean(axis=1)"
      ],
      "execution_count": 0,
      "outputs": []
    },
    {
      "cell_type": "code",
      "metadata": {
        "id": "WpwNhPlSaQ_u",
        "colab_type": "code",
        "colab": {}
      },
      "source": [
        "# average forb\n",
        "df_2017_fall['forb'] = df_2017_fall[['0forb', '170forb', '270forb']].mean(axis=1)"
      ],
      "execution_count": 0,
      "outputs": []
    },
    {
      "cell_type": "code",
      "metadata": {
        "id": "b0st1fOGaRC9",
        "colab_type": "code",
        "outputId": "8eaa79e5-43a5-4955-e1c5-6d0e0d456fae",
        "colab": {
          "base_uri": "https://localhost:8080/",
          "height": 111
        }
      },
      "source": [
        "df_2017_fall.head(2)"
      ],
      "execution_count": 0,
      "outputs": [
        {
          "output_type": "execute_result",
          "data": {
            "text/html": [
              "<div>\n",
              "<style scoped>\n",
              "    .dataframe tbody tr th:only-of-type {\n",
              "        vertical-align: middle;\n",
              "    }\n",
              "\n",
              "    .dataframe tbody tr th {\n",
              "        vertical-align: top;\n",
              "    }\n",
              "\n",
              "    .dataframe thead th {\n",
              "        text-align: right;\n",
              "    }\n",
              "</style>\n",
              "<table border=\"1\" class=\"dataframe\">\n",
              "  <thead>\n",
              "    <tr style=\"text-align: right;\">\n",
              "      <th></th>\n",
              "      <th>grid_point</th>\n",
              "      <th>date</th>\n",
              "      <th>0grass</th>\n",
              "      <th>0forb</th>\n",
              "      <th>170grass</th>\n",
              "      <th>170forb</th>\n",
              "      <th>270grass</th>\n",
              "      <th>270forb</th>\n",
              "      <th>grass</th>\n",
              "      <th>forb</th>\n",
              "    </tr>\n",
              "  </thead>\n",
              "  <tbody>\n",
              "    <tr>\n",
              "      <th>0</th>\n",
              "      <td>3</td>\n",
              "      <td>9-Oct</td>\n",
              "      <td>2.90</td>\n",
              "      <td>0</td>\n",
              "      <td>NaN</td>\n",
              "      <td>0.00</td>\n",
              "      <td>NaN</td>\n",
              "      <td>0.0</td>\n",
              "      <td>2.900000</td>\n",
              "      <td>0.000</td>\n",
              "    </tr>\n",
              "    <tr>\n",
              "      <th>1</th>\n",
              "      <td>4</td>\n",
              "      <td>9-Oct</td>\n",
              "      <td>5.92</td>\n",
              "      <td>0.57</td>\n",
              "      <td>10.56</td>\n",
              "      <td>0.01</td>\n",
              "      <td>9.39</td>\n",
              "      <td>0.0</td>\n",
              "      <td>8.623333</td>\n",
              "      <td>0.005</td>\n",
              "    </tr>\n",
              "  </tbody>\n",
              "</table>\n",
              "</div>"
            ],
            "text/plain": [
              "   grid_point   date  0grass 0forb  ...  270grass  270forb     grass   forb\n",
              "0           3  9-Oct    2.90     0  ...       NaN      0.0  2.900000  0.000\n",
              "1           4  9-Oct    5.92  0.57  ...      9.39      0.0  8.623333  0.005\n",
              "\n",
              "[2 rows x 10 columns]"
            ]
          },
          "metadata": {
            "tags": []
          },
          "execution_count": 108
        }
      ]
    },
    {
      "cell_type": "code",
      "metadata": {
        "id": "n9tRAeKraRKu",
        "colab_type": "code",
        "colab": {}
      },
      "source": [
        "# pare DataFrame down to grass, forb averages\n",
        "df_2017_fall = df_2017_fall[['grid_point', 'date', 'grass', 'forb']]"
      ],
      "execution_count": 0,
      "outputs": []
    },
    {
      "cell_type": "code",
      "metadata": {
        "id": "cuTRr8gJbsx8",
        "colab_type": "code",
        "colab": {}
      },
      "source": [
        "# set value for 'year'\n",
        "df_2017_fall['year'] = 2017"
      ],
      "execution_count": 0,
      "outputs": []
    },
    {
      "cell_type": "code",
      "metadata": {
        "id": "DONuEELkbs1K",
        "colab_type": "code",
        "colab": {}
      },
      "source": [
        "# set value for 'season'\n",
        "df_2017_fall['season'] = 'fall'"
      ],
      "execution_count": 0,
      "outputs": []
    },
    {
      "cell_type": "code",
      "metadata": {
        "id": "_8RmVF6Qbs6o",
        "colab_type": "code",
        "colab": {}
      },
      "source": [
        "# restructure 'date' format\n",
        "df_2017_fall['date'] = pd.to_datetime(df_2017_fall.date + '-2017')"
      ],
      "execution_count": 0,
      "outputs": []
    },
    {
      "cell_type": "code",
      "metadata": {
        "id": "_fAFBn6Mbs4b",
        "colab_type": "code",
        "outputId": "ee549b80-5b95-4226-d336-a3baa0f42605",
        "colab": {
          "base_uri": "https://localhost:8080/",
          "height": 111
        }
      },
      "source": [
        "df_2017_fall.head(2)"
      ],
      "execution_count": 0,
      "outputs": [
        {
          "output_type": "execute_result",
          "data": {
            "text/html": [
              "<div>\n",
              "<style scoped>\n",
              "    .dataframe tbody tr th:only-of-type {\n",
              "        vertical-align: middle;\n",
              "    }\n",
              "\n",
              "    .dataframe tbody tr th {\n",
              "        vertical-align: top;\n",
              "    }\n",
              "\n",
              "    .dataframe thead th {\n",
              "        text-align: right;\n",
              "    }\n",
              "</style>\n",
              "<table border=\"1\" class=\"dataframe\">\n",
              "  <thead>\n",
              "    <tr style=\"text-align: right;\">\n",
              "      <th></th>\n",
              "      <th>grid_point</th>\n",
              "      <th>date</th>\n",
              "      <th>grass</th>\n",
              "      <th>forb</th>\n",
              "      <th>year</th>\n",
              "      <th>season</th>\n",
              "    </tr>\n",
              "  </thead>\n",
              "  <tbody>\n",
              "    <tr>\n",
              "      <th>0</th>\n",
              "      <td>3</td>\n",
              "      <td>2017-10-09</td>\n",
              "      <td>2.900000</td>\n",
              "      <td>0.000</td>\n",
              "      <td>2017</td>\n",
              "      <td>fall</td>\n",
              "    </tr>\n",
              "    <tr>\n",
              "      <th>1</th>\n",
              "      <td>4</td>\n",
              "      <td>2017-10-09</td>\n",
              "      <td>8.623333</td>\n",
              "      <td>0.005</td>\n",
              "      <td>2017</td>\n",
              "      <td>fall</td>\n",
              "    </tr>\n",
              "  </tbody>\n",
              "</table>\n",
              "</div>"
            ],
            "text/plain": [
              "   grid_point       date     grass   forb  year season\n",
              "0           3 2017-10-09  2.900000  0.000  2017   fall\n",
              "1           4 2017-10-09  8.623333  0.005  2017   fall"
            ]
          },
          "metadata": {
            "tags": []
          },
          "execution_count": 113
        }
      ]
    },
    {
      "cell_type": "code",
      "metadata": {
        "id": "_nVFNkvbaQnn",
        "colab_type": "code",
        "colab": {}
      },
      "source": [
        "# reorder columns\n",
        "df_2017_fall = df_2017_fall[['grid_point', 'date', 'year', 'season', 'grass', 'forb']]"
      ],
      "execution_count": 0,
      "outputs": []
    },
    {
      "cell_type": "code",
      "metadata": {
        "id": "eXov-i14UADX",
        "colab_type": "code",
        "outputId": "ac651e1e-4e25-4340-a49c-339e36f1b785",
        "colab": {
          "base_uri": "https://localhost:8080/",
          "height": 111
        }
      },
      "source": [
        "df_2017_fall.head(2)"
      ],
      "execution_count": 0,
      "outputs": [
        {
          "output_type": "execute_result",
          "data": {
            "text/html": [
              "<div>\n",
              "<style scoped>\n",
              "    .dataframe tbody tr th:only-of-type {\n",
              "        vertical-align: middle;\n",
              "    }\n",
              "\n",
              "    .dataframe tbody tr th {\n",
              "        vertical-align: top;\n",
              "    }\n",
              "\n",
              "    .dataframe thead th {\n",
              "        text-align: right;\n",
              "    }\n",
              "</style>\n",
              "<table border=\"1\" class=\"dataframe\">\n",
              "  <thead>\n",
              "    <tr style=\"text-align: right;\">\n",
              "      <th></th>\n",
              "      <th>grid_point</th>\n",
              "      <th>date</th>\n",
              "      <th>year</th>\n",
              "      <th>season</th>\n",
              "      <th>grass</th>\n",
              "      <th>forb</th>\n",
              "    </tr>\n",
              "  </thead>\n",
              "  <tbody>\n",
              "    <tr>\n",
              "      <th>0</th>\n",
              "      <td>3</td>\n",
              "      <td>2017-10-09</td>\n",
              "      <td>2017</td>\n",
              "      <td>fall</td>\n",
              "      <td>2.900000</td>\n",
              "      <td>0.000</td>\n",
              "    </tr>\n",
              "    <tr>\n",
              "      <th>1</th>\n",
              "      <td>4</td>\n",
              "      <td>2017-10-09</td>\n",
              "      <td>2017</td>\n",
              "      <td>fall</td>\n",
              "      <td>8.623333</td>\n",
              "      <td>0.005</td>\n",
              "    </tr>\n",
              "  </tbody>\n",
              "</table>\n",
              "</div>"
            ],
            "text/plain": [
              "   grid_point       date  year season     grass   forb\n",
              "0           3 2017-10-09  2017   fall  2.900000  0.000\n",
              "1           4 2017-10-09  2017   fall  8.623333  0.005"
            ]
          },
          "metadata": {
            "tags": []
          },
          "execution_count": 115
        }
      ]
    },
    {
      "cell_type": "code",
      "metadata": {
        "id": "I4lEmdAuUASd",
        "colab_type": "code",
        "outputId": "b30b35e8-8cab-4790-e53b-d74eaecb288c",
        "colab": {
          "base_uri": "https://localhost:8080/",
          "height": 238
        }
      },
      "source": [
        "df_2017_fall.info()"
      ],
      "execution_count": 0,
      "outputs": [
        {
          "output_type": "stream",
          "text": [
            "<class 'pandas.core.frame.DataFrame'>\n",
            "RangeIndex: 114 entries, 0 to 113\n",
            "Data columns (total 6 columns):\n",
            " #   Column      Non-Null Count  Dtype         \n",
            "---  ------      --------------  -----         \n",
            " 0   grid_point  114 non-null    int64         \n",
            " 1   date        114 non-null    datetime64[ns]\n",
            " 2   year        114 non-null    int64         \n",
            " 3   season      114 non-null    object        \n",
            " 4   grass       113 non-null    float64       \n",
            " 5   forb        112 non-null    float64       \n",
            "dtypes: datetime64[ns](1), float64(2), int64(2), object(1)\n",
            "memory usage: 5.5+ KB\n"
          ],
          "name": "stdout"
        }
      ]
    },
    {
      "cell_type": "markdown",
      "metadata": {
        "id": "CVKGOkZVUW-o",
        "colab_type": "text"
      },
      "source": [
        "### Full Year"
      ]
    },
    {
      "cell_type": "code",
      "metadata": {
        "id": "WGJ8MZmdUAMK",
        "colab_type": "code",
        "colab": {}
      },
      "source": [
        "df_2017_full_year = pd.concat([df_2017_spring, df_2017_fall], ignore_index=True, sort=False)"
      ],
      "execution_count": 0,
      "outputs": []
    },
    {
      "cell_type": "code",
      "metadata": {
        "id": "v6CmTFG5UAJA",
        "colab_type": "code",
        "outputId": "f9636003-a14e-4f02-b684-9c5eae51cf59",
        "colab": {
          "base_uri": "https://localhost:8080/",
          "height": 238
        }
      },
      "source": [
        "df_2017_full_year.info()"
      ],
      "execution_count": 0,
      "outputs": [
        {
          "output_type": "stream",
          "text": [
            "<class 'pandas.core.frame.DataFrame'>\n",
            "RangeIndex: 249 entries, 0 to 248\n",
            "Data columns (total 6 columns):\n",
            " #   Column      Non-Null Count  Dtype         \n",
            "---  ------      --------------  -----         \n",
            " 0   grid_point  249 non-null    int64         \n",
            " 1   date        247 non-null    datetime64[ns]\n",
            " 2   year        249 non-null    int64         \n",
            " 3   season      249 non-null    object        \n",
            " 4   grass       248 non-null    float64       \n",
            " 5   forb        247 non-null    float64       \n",
            "dtypes: datetime64[ns](1), float64(2), int64(2), object(1)\n",
            "memory usage: 11.8+ KB\n"
          ],
          "name": "stdout"
        }
      ]
    },
    {
      "cell_type": "markdown",
      "metadata": {
        "id": "DTaqjDubUuTx",
        "colab_type": "text"
      },
      "source": [
        "## 2016"
      ]
    },
    {
      "cell_type": "markdown",
      "metadata": {
        "id": "9R7s3i0XVI8P",
        "colab_type": "text"
      },
      "source": [
        "### Spring"
      ]
    },
    {
      "cell_type": "code",
      "metadata": {
        "id": "JGjoE6KxU_pe",
        "colab_type": "code",
        "colab": {}
      },
      "source": [
        "# load data\n",
        "df_2016_spring = pd.read_csv(src_2016_spring)"
      ],
      "execution_count": 0,
      "outputs": []
    },
    {
      "cell_type": "code",
      "metadata": {
        "id": "dW4AqoiUU_5y",
        "colab_type": "code",
        "outputId": "1c35b688-fa75-42bc-9268-68e3196eb5bb",
        "colab": {
          "base_uri": "https://localhost:8080/",
          "height": 111
        }
      },
      "source": [
        "df_2016_spring.head(2)"
      ],
      "execution_count": 0,
      "outputs": [
        {
          "output_type": "execute_result",
          "data": {
            "text/html": [
              "<div>\n",
              "<style scoped>\n",
              "    .dataframe tbody tr th:only-of-type {\n",
              "        vertical-align: middle;\n",
              "    }\n",
              "\n",
              "    .dataframe tbody tr th {\n",
              "        vertical-align: top;\n",
              "    }\n",
              "\n",
              "    .dataframe thead th {\n",
              "        text-align: right;\n",
              "    }\n",
              "</style>\n",
              "<table border=\"1\" class=\"dataframe\">\n",
              "  <thead>\n",
              "    <tr style=\"text-align: right;\">\n",
              "      <th></th>\n",
              "      <th>Date</th>\n",
              "      <th>Plot</th>\n",
              "      <th>Degrees</th>\n",
              "      <th>Type</th>\n",
              "      <th>Weight</th>\n",
              "      <th>Notes</th>\n",
              "    </tr>\n",
              "  </thead>\n",
              "  <tbody>\n",
              "    <tr>\n",
              "      <th>0</th>\n",
              "      <td>3/28/2016</td>\n",
              "      <td>2</td>\n",
              "      <td>50</td>\n",
              "      <td>forb</td>\n",
              "      <td>0.00</td>\n",
              "      <td>NaN</td>\n",
              "    </tr>\n",
              "    <tr>\n",
              "      <th>1</th>\n",
              "      <td>3/28/2016</td>\n",
              "      <td>2</td>\n",
              "      <td>50</td>\n",
              "      <td>grass</td>\n",
              "      <td>2.58</td>\n",
              "      <td>NaN</td>\n",
              "    </tr>\n",
              "  </tbody>\n",
              "</table>\n",
              "</div>"
            ],
            "text/plain": [
              "        Date  Plot  Degrees   Type  Weight  Notes\n",
              "0  3/28/2016     2       50   forb    0.00    NaN\n",
              "1  3/28/2016     2       50  grass    2.58    NaN"
            ]
          },
          "metadata": {
            "tags": []
          },
          "execution_count": 120
        }
      ]
    },
    {
      "cell_type": "code",
      "metadata": {
        "id": "6Vp1coc7U_2Z",
        "colab_type": "code",
        "outputId": "973add13-38ff-403d-f4c5-b9991248d6e6",
        "colab": {
          "base_uri": "https://localhost:8080/",
          "height": 34
        }
      },
      "source": [
        "df_2016_spring.Degrees.unique()"
      ],
      "execution_count": 0,
      "outputs": [
        {
          "output_type": "execute_result",
          "data": {
            "text/plain": [
              "array([ 50, 140, 260])"
            ]
          },
          "metadata": {
            "tags": []
          },
          "execution_count": 121
        }
      ]
    },
    {
      "cell_type": "code",
      "metadata": {
        "id": "43qqTGR4U_zC",
        "colab_type": "code",
        "colab": {}
      },
      "source": [
        "# remove 'Notes' column\n",
        "df_2016_spring = df_2016_spring[['Date', 'Plot', 'Degrees', 'Type', 'Weight']]"
      ],
      "execution_count": 0,
      "outputs": []
    },
    {
      "cell_type": "code",
      "metadata": {
        "id": "8yZDbOzlYMyA",
        "colab_type": "code",
        "outputId": "c568b991-fc83-4b87-ad84-86ed97312dfa",
        "colab": {
          "base_uri": "https://localhost:8080/",
          "height": 111
        }
      },
      "source": [
        "df_2016_spring.head(2)"
      ],
      "execution_count": 0,
      "outputs": [
        {
          "output_type": "execute_result",
          "data": {
            "text/html": [
              "<div>\n",
              "<style scoped>\n",
              "    .dataframe tbody tr th:only-of-type {\n",
              "        vertical-align: middle;\n",
              "    }\n",
              "\n",
              "    .dataframe tbody tr th {\n",
              "        vertical-align: top;\n",
              "    }\n",
              "\n",
              "    .dataframe thead th {\n",
              "        text-align: right;\n",
              "    }\n",
              "</style>\n",
              "<table border=\"1\" class=\"dataframe\">\n",
              "  <thead>\n",
              "    <tr style=\"text-align: right;\">\n",
              "      <th></th>\n",
              "      <th>Date</th>\n",
              "      <th>Plot</th>\n",
              "      <th>Degrees</th>\n",
              "      <th>Type</th>\n",
              "      <th>Weight</th>\n",
              "    </tr>\n",
              "  </thead>\n",
              "  <tbody>\n",
              "    <tr>\n",
              "      <th>0</th>\n",
              "      <td>3/28/2016</td>\n",
              "      <td>2</td>\n",
              "      <td>50</td>\n",
              "      <td>forb</td>\n",
              "      <td>0.00</td>\n",
              "    </tr>\n",
              "    <tr>\n",
              "      <th>1</th>\n",
              "      <td>3/28/2016</td>\n",
              "      <td>2</td>\n",
              "      <td>50</td>\n",
              "      <td>grass</td>\n",
              "      <td>2.58</td>\n",
              "    </tr>\n",
              "  </tbody>\n",
              "</table>\n",
              "</div>"
            ],
            "text/plain": [
              "        Date  Plot  Degrees   Type  Weight\n",
              "0  3/28/2016     2       50   forb    0.00\n",
              "1  3/28/2016     2       50  grass    2.58"
            ]
          },
          "metadata": {
            "tags": []
          },
          "execution_count": 123
        }
      ]
    },
    {
      "cell_type": "code",
      "metadata": {
        "id": "yrq_2JxjZ2E0",
        "colab_type": "code",
        "colab": {}
      },
      "source": [
        "# average sample Degrees for each plot and date\n",
        "# restructure to wide DataFrame\n",
        "df_2016_spring = df_2016_spring.groupby(['Date', 'Plot', 'Type'])['Weight'].mean().unstack('Type').reset_index()"
      ],
      "execution_count": 0,
      "outputs": []
    },
    {
      "cell_type": "code",
      "metadata": {
        "id": "RyRh6KGSZGOe",
        "colab_type": "code",
        "outputId": "acfb2413-7091-4b6a-bd2f-eff278043da4",
        "colab": {
          "base_uri": "https://localhost:8080/",
          "height": 111
        }
      },
      "source": [
        "df_2016_spring.head(2)"
      ],
      "execution_count": 0,
      "outputs": [
        {
          "output_type": "execute_result",
          "data": {
            "text/html": [
              "<div>\n",
              "<style scoped>\n",
              "    .dataframe tbody tr th:only-of-type {\n",
              "        vertical-align: middle;\n",
              "    }\n",
              "\n",
              "    .dataframe tbody tr th {\n",
              "        vertical-align: top;\n",
              "    }\n",
              "\n",
              "    .dataframe thead th {\n",
              "        text-align: right;\n",
              "    }\n",
              "</style>\n",
              "<table border=\"1\" class=\"dataframe\">\n",
              "  <thead>\n",
              "    <tr style=\"text-align: right;\">\n",
              "      <th>Type</th>\n",
              "      <th>Date</th>\n",
              "      <th>Plot</th>\n",
              "      <th>forb</th>\n",
              "      <th>grass</th>\n",
              "    </tr>\n",
              "  </thead>\n",
              "  <tbody>\n",
              "    <tr>\n",
              "      <th>0</th>\n",
              "      <td>3/28/2016</td>\n",
              "      <td>2</td>\n",
              "      <td>0.220000</td>\n",
              "      <td>2.560000</td>\n",
              "    </tr>\n",
              "    <tr>\n",
              "      <th>1</th>\n",
              "      <td>3/28/2016</td>\n",
              "      <td>3</td>\n",
              "      <td>0.683333</td>\n",
              "      <td>3.323333</td>\n",
              "    </tr>\n",
              "  </tbody>\n",
              "</table>\n",
              "</div>"
            ],
            "text/plain": [
              "Type       Date  Plot      forb     grass\n",
              "0     3/28/2016     2  0.220000  2.560000\n",
              "1     3/28/2016     3  0.683333  3.323333"
            ]
          },
          "metadata": {
            "tags": []
          },
          "execution_count": 125
        }
      ]
    },
    {
      "cell_type": "code",
      "metadata": {
        "id": "DV3wcFLCU_vs",
        "colab_type": "code",
        "colab": {}
      },
      "source": [
        "# set 'year' column\n",
        "df_2016_spring['year'] = 2016\n",
        "\n",
        "# set 'season' column\n",
        "df_2016_spring['season'] = 'spring'"
      ],
      "execution_count": 0,
      "outputs": []
    },
    {
      "cell_type": "code",
      "metadata": {
        "id": "Vfdv4PAdU_tM",
        "colab_type": "code",
        "outputId": "1732abf6-d0a1-4407-bdbc-3f4109cc34dd",
        "colab": {
          "base_uri": "https://localhost:8080/",
          "height": 111
        }
      },
      "source": [
        "df_2016_spring.head(2)"
      ],
      "execution_count": 0,
      "outputs": [
        {
          "output_type": "execute_result",
          "data": {
            "text/html": [
              "<div>\n",
              "<style scoped>\n",
              "    .dataframe tbody tr th:only-of-type {\n",
              "        vertical-align: middle;\n",
              "    }\n",
              "\n",
              "    .dataframe tbody tr th {\n",
              "        vertical-align: top;\n",
              "    }\n",
              "\n",
              "    .dataframe thead th {\n",
              "        text-align: right;\n",
              "    }\n",
              "</style>\n",
              "<table border=\"1\" class=\"dataframe\">\n",
              "  <thead>\n",
              "    <tr style=\"text-align: right;\">\n",
              "      <th>Type</th>\n",
              "      <th>Date</th>\n",
              "      <th>Plot</th>\n",
              "      <th>forb</th>\n",
              "      <th>grass</th>\n",
              "      <th>year</th>\n",
              "      <th>season</th>\n",
              "    </tr>\n",
              "  </thead>\n",
              "  <tbody>\n",
              "    <tr>\n",
              "      <th>0</th>\n",
              "      <td>3/28/2016</td>\n",
              "      <td>2</td>\n",
              "      <td>0.220000</td>\n",
              "      <td>2.560000</td>\n",
              "      <td>2016</td>\n",
              "      <td>spring</td>\n",
              "    </tr>\n",
              "    <tr>\n",
              "      <th>1</th>\n",
              "      <td>3/28/2016</td>\n",
              "      <td>3</td>\n",
              "      <td>0.683333</td>\n",
              "      <td>3.323333</td>\n",
              "      <td>2016</td>\n",
              "      <td>spring</td>\n",
              "    </tr>\n",
              "  </tbody>\n",
              "</table>\n",
              "</div>"
            ],
            "text/plain": [
              "Type       Date  Plot      forb     grass  year  season\n",
              "0     3/28/2016     2  0.220000  2.560000  2016  spring\n",
              "1     3/28/2016     3  0.683333  3.323333  2016  spring"
            ]
          },
          "metadata": {
            "tags": []
          },
          "execution_count": 127
        }
      ]
    },
    {
      "cell_type": "code",
      "metadata": {
        "id": "h78mh0Opb1M8",
        "colab_type": "code",
        "colab": {}
      },
      "source": [
        "# coerce 'date' to datetime object\n",
        "df_2016_spring['Date'] = pd.to_datetime(df_2016_spring['Date'])"
      ],
      "execution_count": 0,
      "outputs": []
    },
    {
      "cell_type": "code",
      "metadata": {
        "id": "SOEArdUBb1Vx",
        "colab_type": "code",
        "colab": {}
      },
      "source": [
        "# rename columns\n",
        "df_2016_spring.columns = ['date', 'grid_point', 'forb', 'grass', 'year', 'season']"
      ],
      "execution_count": 0,
      "outputs": []
    },
    {
      "cell_type": "code",
      "metadata": {
        "id": "aXooZD1wb1cG",
        "colab_type": "code",
        "colab": {}
      },
      "source": [
        "# reorder columns\n",
        "df_2016_spring = df_2016_spring[['grid_point', 'date', 'year', 'season', 'grass', 'forb']]"
      ],
      "execution_count": 0,
      "outputs": []
    },
    {
      "cell_type": "code",
      "metadata": {
        "id": "9xdQX4wqb1JM",
        "colab_type": "code",
        "outputId": "576e087b-c511-4c60-91e9-49981b041571",
        "colab": {
          "base_uri": "https://localhost:8080/",
          "height": 111
        }
      },
      "source": [
        "df_2016_spring.head(2)"
      ],
      "execution_count": 0,
      "outputs": [
        {
          "output_type": "execute_result",
          "data": {
            "text/html": [
              "<div>\n",
              "<style scoped>\n",
              "    .dataframe tbody tr th:only-of-type {\n",
              "        vertical-align: middle;\n",
              "    }\n",
              "\n",
              "    .dataframe tbody tr th {\n",
              "        vertical-align: top;\n",
              "    }\n",
              "\n",
              "    .dataframe thead th {\n",
              "        text-align: right;\n",
              "    }\n",
              "</style>\n",
              "<table border=\"1\" class=\"dataframe\">\n",
              "  <thead>\n",
              "    <tr style=\"text-align: right;\">\n",
              "      <th></th>\n",
              "      <th>grid_point</th>\n",
              "      <th>date</th>\n",
              "      <th>year</th>\n",
              "      <th>season</th>\n",
              "      <th>grass</th>\n",
              "      <th>forb</th>\n",
              "    </tr>\n",
              "  </thead>\n",
              "  <tbody>\n",
              "    <tr>\n",
              "      <th>0</th>\n",
              "      <td>2</td>\n",
              "      <td>2016-03-28</td>\n",
              "      <td>2016</td>\n",
              "      <td>spring</td>\n",
              "      <td>2.560000</td>\n",
              "      <td>0.220000</td>\n",
              "    </tr>\n",
              "    <tr>\n",
              "      <th>1</th>\n",
              "      <td>3</td>\n",
              "      <td>2016-03-28</td>\n",
              "      <td>2016</td>\n",
              "      <td>spring</td>\n",
              "      <td>3.323333</td>\n",
              "      <td>0.683333</td>\n",
              "    </tr>\n",
              "  </tbody>\n",
              "</table>\n",
              "</div>"
            ],
            "text/plain": [
              "   grid_point       date  year  season     grass      forb\n",
              "0           2 2016-03-28  2016  spring  2.560000  0.220000\n",
              "1           3 2016-03-28  2016  spring  3.323333  0.683333"
            ]
          },
          "metadata": {
            "tags": []
          },
          "execution_count": 131
        }
      ]
    },
    {
      "cell_type": "code",
      "metadata": {
        "id": "OQPz9A3bb1FN",
        "colab_type": "code",
        "outputId": "164cafb3-b7e6-4d3f-b94a-318e8142cf03",
        "colab": {
          "base_uri": "https://localhost:8080/",
          "height": 238
        }
      },
      "source": [
        "df_2016_spring.info()"
      ],
      "execution_count": 0,
      "outputs": [
        {
          "output_type": "stream",
          "text": [
            "<class 'pandas.core.frame.DataFrame'>\n",
            "RangeIndex: 134 entries, 0 to 133\n",
            "Data columns (total 6 columns):\n",
            " #   Column      Non-Null Count  Dtype         \n",
            "---  ------      --------------  -----         \n",
            " 0   grid_point  134 non-null    int64         \n",
            " 1   date        134 non-null    datetime64[ns]\n",
            " 2   year        134 non-null    int64         \n",
            " 3   season      134 non-null    object        \n",
            " 4   grass       131 non-null    float64       \n",
            " 5   forb        133 non-null    float64       \n",
            "dtypes: datetime64[ns](1), float64(2), int64(2), object(1)\n",
            "memory usage: 6.4+ KB\n"
          ],
          "name": "stdout"
        }
      ]
    },
    {
      "cell_type": "markdown",
      "metadata": {
        "id": "EZGztD-6f-wz",
        "colab_type": "text"
      },
      "source": [
        "### Fall"
      ]
    },
    {
      "cell_type": "code",
      "metadata": {
        "id": "J1m8a_YFb1Bm",
        "colab_type": "code",
        "colab": {}
      },
      "source": [
        "df_2016_fall = pd.read_csv(src_2016_fall)"
      ],
      "execution_count": 0,
      "outputs": []
    },
    {
      "cell_type": "code",
      "metadata": {
        "id": "aijZ8IZCgBRK",
        "colab_type": "code",
        "outputId": "ddc2920d-f203-45da-9984-d459d41c3aa1",
        "colab": {
          "base_uri": "https://localhost:8080/",
          "height": 111
        }
      },
      "source": [
        "df_2016_fall.head(2)"
      ],
      "execution_count": 0,
      "outputs": [
        {
          "output_type": "execute_result",
          "data": {
            "text/html": [
              "<div>\n",
              "<style scoped>\n",
              "    .dataframe tbody tr th:only-of-type {\n",
              "        vertical-align: middle;\n",
              "    }\n",
              "\n",
              "    .dataframe tbody tr th {\n",
              "        vertical-align: top;\n",
              "    }\n",
              "\n",
              "    .dataframe thead th {\n",
              "        text-align: right;\n",
              "    }\n",
              "</style>\n",
              "<table border=\"1\" class=\"dataframe\">\n",
              "  <thead>\n",
              "    <tr style=\"text-align: right;\">\n",
              "      <th></th>\n",
              "      <th>Date</th>\n",
              "      <th>Plot</th>\n",
              "      <th>Degrees</th>\n",
              "      <th>Type</th>\n",
              "      <th>Weight</th>\n",
              "    </tr>\n",
              "  </thead>\n",
              "  <tbody>\n",
              "    <tr>\n",
              "      <th>0</th>\n",
              "      <td>10/11/2016</td>\n",
              "      <td>2</td>\n",
              "      <td>10</td>\n",
              "      <td>forb</td>\n",
              "      <td>1.14</td>\n",
              "    </tr>\n",
              "    <tr>\n",
              "      <th>1</th>\n",
              "      <td>10/11/2016</td>\n",
              "      <td>2</td>\n",
              "      <td>10</td>\n",
              "      <td>grass</td>\n",
              "      <td>7.75</td>\n",
              "    </tr>\n",
              "  </tbody>\n",
              "</table>\n",
              "</div>"
            ],
            "text/plain": [
              "         Date  Plot  Degrees   Type  Weight\n",
              "0  10/11/2016     2       10   forb    1.14\n",
              "1  10/11/2016     2       10  grass    7.75"
            ]
          },
          "metadata": {
            "tags": []
          },
          "execution_count": 134
        }
      ]
    },
    {
      "cell_type": "code",
      "metadata": {
        "id": "VAPXHCeSgBNL",
        "colab_type": "code",
        "colab": {}
      },
      "source": [
        "# average sample Degrees for each plot and date\n",
        "# restructure to wide DataFrame\n",
        "df_2016_fall = df_2016_fall.groupby(['Date', 'Plot', 'Type'])['Weight'].mean().unstack('Type').reset_index()"
      ],
      "execution_count": 0,
      "outputs": []
    },
    {
      "cell_type": "code",
      "metadata": {
        "id": "wgXMsh3agBJI",
        "colab_type": "code",
        "outputId": "d7e6f127-b784-48ed-910e-f2dfbda62347",
        "colab": {
          "base_uri": "https://localhost:8080/",
          "height": 111
        }
      },
      "source": [
        "df_2016_fall.head(2)"
      ],
      "execution_count": 0,
      "outputs": [
        {
          "output_type": "execute_result",
          "data": {
            "text/html": [
              "<div>\n",
              "<style scoped>\n",
              "    .dataframe tbody tr th:only-of-type {\n",
              "        vertical-align: middle;\n",
              "    }\n",
              "\n",
              "    .dataframe tbody tr th {\n",
              "        vertical-align: top;\n",
              "    }\n",
              "\n",
              "    .dataframe thead th {\n",
              "        text-align: right;\n",
              "    }\n",
              "</style>\n",
              "<table border=\"1\" class=\"dataframe\">\n",
              "  <thead>\n",
              "    <tr style=\"text-align: right;\">\n",
              "      <th>Type</th>\n",
              "      <th>Date</th>\n",
              "      <th>Plot</th>\n",
              "      <th>forb</th>\n",
              "      <th>grass</th>\n",
              "    </tr>\n",
              "  </thead>\n",
              "  <tbody>\n",
              "    <tr>\n",
              "      <th>0</th>\n",
              "      <td>10/10/2016</td>\n",
              "      <td>87</td>\n",
              "      <td>3.996667</td>\n",
              "      <td>7.046667</td>\n",
              "    </tr>\n",
              "    <tr>\n",
              "      <th>1</th>\n",
              "      <td>10/10/2016</td>\n",
              "      <td>98</td>\n",
              "      <td>0.000000</td>\n",
              "      <td>9.086667</td>\n",
              "    </tr>\n",
              "  </tbody>\n",
              "</table>\n",
              "</div>"
            ],
            "text/plain": [
              "Type        Date  Plot      forb     grass\n",
              "0     10/10/2016    87  3.996667  7.046667\n",
              "1     10/10/2016    98  0.000000  9.086667"
            ]
          },
          "metadata": {
            "tags": []
          },
          "execution_count": 136
        }
      ]
    },
    {
      "cell_type": "code",
      "metadata": {
        "id": "n4aIm9GwgBEu",
        "colab_type": "code",
        "colab": {}
      },
      "source": [
        "# coerce 'Date' to datetime object\n",
        "df_2016_fall['Date'] = pd.to_datetime(df_2016_fall['Date'])"
      ],
      "execution_count": 0,
      "outputs": []
    },
    {
      "cell_type": "code",
      "metadata": {
        "id": "bZMb-W30gBAm",
        "colab_type": "code",
        "colab": {}
      },
      "source": [
        "# set 'year' column\n",
        "df_2016_fall['year'] = 2016"
      ],
      "execution_count": 0,
      "outputs": []
    },
    {
      "cell_type": "code",
      "metadata": {
        "id": "lbpkIyKlgA8d",
        "colab_type": "code",
        "colab": {}
      },
      "source": [
        "# set 'season' column\n",
        "df_2016_fall['season'] = 'fall'"
      ],
      "execution_count": 0,
      "outputs": []
    },
    {
      "cell_type": "code",
      "metadata": {
        "id": "92curKNPgA3o",
        "colab_type": "code",
        "outputId": "b04a7e19-5453-4c63-f10a-08d3b4553929",
        "colab": {
          "base_uri": "https://localhost:8080/",
          "height": 111
        }
      },
      "source": [
        "df_2016_fall.head(2)"
      ],
      "execution_count": 0,
      "outputs": [
        {
          "output_type": "execute_result",
          "data": {
            "text/html": [
              "<div>\n",
              "<style scoped>\n",
              "    .dataframe tbody tr th:only-of-type {\n",
              "        vertical-align: middle;\n",
              "    }\n",
              "\n",
              "    .dataframe tbody tr th {\n",
              "        vertical-align: top;\n",
              "    }\n",
              "\n",
              "    .dataframe thead th {\n",
              "        text-align: right;\n",
              "    }\n",
              "</style>\n",
              "<table border=\"1\" class=\"dataframe\">\n",
              "  <thead>\n",
              "    <tr style=\"text-align: right;\">\n",
              "      <th>Type</th>\n",
              "      <th>Date</th>\n",
              "      <th>Plot</th>\n",
              "      <th>forb</th>\n",
              "      <th>grass</th>\n",
              "      <th>year</th>\n",
              "      <th>season</th>\n",
              "    </tr>\n",
              "  </thead>\n",
              "  <tbody>\n",
              "    <tr>\n",
              "      <th>0</th>\n",
              "      <td>2016-10-10</td>\n",
              "      <td>87</td>\n",
              "      <td>3.996667</td>\n",
              "      <td>7.046667</td>\n",
              "      <td>2016</td>\n",
              "      <td>fall</td>\n",
              "    </tr>\n",
              "    <tr>\n",
              "      <th>1</th>\n",
              "      <td>2016-10-10</td>\n",
              "      <td>98</td>\n",
              "      <td>0.000000</td>\n",
              "      <td>9.086667</td>\n",
              "      <td>2016</td>\n",
              "      <td>fall</td>\n",
              "    </tr>\n",
              "  </tbody>\n",
              "</table>\n",
              "</div>"
            ],
            "text/plain": [
              "Type       Date  Plot      forb     grass  year season\n",
              "0    2016-10-10    87  3.996667  7.046667  2016   fall\n",
              "1    2016-10-10    98  0.000000  9.086667  2016   fall"
            ]
          },
          "metadata": {
            "tags": []
          },
          "execution_count": 140
        }
      ]
    },
    {
      "cell_type": "code",
      "metadata": {
        "id": "gqOd0aVzgAy0",
        "colab_type": "code",
        "colab": {}
      },
      "source": [
        "# rename columns\n",
        "df_2016_fall.columns = ['date', 'grid_point', 'forb', 'grass', 'year', 'season']"
      ],
      "execution_count": 0,
      "outputs": []
    },
    {
      "cell_type": "code",
      "metadata": {
        "id": "3qjwUdalhooe",
        "colab_type": "code",
        "colab": {}
      },
      "source": [
        "df_2016_fall = df_2016_fall[['grid_point', 'date', 'year', 'season', 'grass', 'forb']]"
      ],
      "execution_count": 0,
      "outputs": []
    },
    {
      "cell_type": "code",
      "metadata": {
        "id": "hvq7mExJb09c",
        "colab_type": "code",
        "outputId": "0c8c8fc7-67ca-4060-a758-a56732e8920d",
        "colab": {
          "base_uri": "https://localhost:8080/",
          "height": 111
        }
      },
      "source": [
        "df_2016_fall.head(2)"
      ],
      "execution_count": 0,
      "outputs": [
        {
          "output_type": "execute_result",
          "data": {
            "text/html": [
              "<div>\n",
              "<style scoped>\n",
              "    .dataframe tbody tr th:only-of-type {\n",
              "        vertical-align: middle;\n",
              "    }\n",
              "\n",
              "    .dataframe tbody tr th {\n",
              "        vertical-align: top;\n",
              "    }\n",
              "\n",
              "    .dataframe thead th {\n",
              "        text-align: right;\n",
              "    }\n",
              "</style>\n",
              "<table border=\"1\" class=\"dataframe\">\n",
              "  <thead>\n",
              "    <tr style=\"text-align: right;\">\n",
              "      <th></th>\n",
              "      <th>grid_point</th>\n",
              "      <th>date</th>\n",
              "      <th>year</th>\n",
              "      <th>season</th>\n",
              "      <th>grass</th>\n",
              "      <th>forb</th>\n",
              "    </tr>\n",
              "  </thead>\n",
              "  <tbody>\n",
              "    <tr>\n",
              "      <th>0</th>\n",
              "      <td>87</td>\n",
              "      <td>2016-10-10</td>\n",
              "      <td>2016</td>\n",
              "      <td>fall</td>\n",
              "      <td>7.046667</td>\n",
              "      <td>3.996667</td>\n",
              "    </tr>\n",
              "    <tr>\n",
              "      <th>1</th>\n",
              "      <td>98</td>\n",
              "      <td>2016-10-10</td>\n",
              "      <td>2016</td>\n",
              "      <td>fall</td>\n",
              "      <td>9.086667</td>\n",
              "      <td>0.000000</td>\n",
              "    </tr>\n",
              "  </tbody>\n",
              "</table>\n",
              "</div>"
            ],
            "text/plain": [
              "   grid_point       date  year season     grass      forb\n",
              "0          87 2016-10-10  2016   fall  7.046667  3.996667\n",
              "1          98 2016-10-10  2016   fall  9.086667  0.000000"
            ]
          },
          "metadata": {
            "tags": []
          },
          "execution_count": 143
        }
      ]
    },
    {
      "cell_type": "markdown",
      "metadata": {
        "id": "1exiIM6Qh33w",
        "colab_type": "text"
      },
      "source": [
        "### Full Year "
      ]
    },
    {
      "cell_type": "code",
      "metadata": {
        "id": "08b1so-7b05g",
        "colab_type": "code",
        "outputId": "436dc8f7-f9f3-4003-ff4e-c2baea4263fe",
        "colab": {
          "base_uri": "https://localhost:8080/",
          "height": 111
        }
      },
      "source": [
        "df_2016_spring.head(2)"
      ],
      "execution_count": 0,
      "outputs": [
        {
          "output_type": "execute_result",
          "data": {
            "text/html": [
              "<div>\n",
              "<style scoped>\n",
              "    .dataframe tbody tr th:only-of-type {\n",
              "        vertical-align: middle;\n",
              "    }\n",
              "\n",
              "    .dataframe tbody tr th {\n",
              "        vertical-align: top;\n",
              "    }\n",
              "\n",
              "    .dataframe thead th {\n",
              "        text-align: right;\n",
              "    }\n",
              "</style>\n",
              "<table border=\"1\" class=\"dataframe\">\n",
              "  <thead>\n",
              "    <tr style=\"text-align: right;\">\n",
              "      <th></th>\n",
              "      <th>grid_point</th>\n",
              "      <th>date</th>\n",
              "      <th>year</th>\n",
              "      <th>season</th>\n",
              "      <th>grass</th>\n",
              "      <th>forb</th>\n",
              "    </tr>\n",
              "  </thead>\n",
              "  <tbody>\n",
              "    <tr>\n",
              "      <th>0</th>\n",
              "      <td>2</td>\n",
              "      <td>2016-03-28</td>\n",
              "      <td>2016</td>\n",
              "      <td>spring</td>\n",
              "      <td>2.560000</td>\n",
              "      <td>0.220000</td>\n",
              "    </tr>\n",
              "    <tr>\n",
              "      <th>1</th>\n",
              "      <td>3</td>\n",
              "      <td>2016-03-28</td>\n",
              "      <td>2016</td>\n",
              "      <td>spring</td>\n",
              "      <td>3.323333</td>\n",
              "      <td>0.683333</td>\n",
              "    </tr>\n",
              "  </tbody>\n",
              "</table>\n",
              "</div>"
            ],
            "text/plain": [
              "   grid_point       date  year  season     grass      forb\n",
              "0           2 2016-03-28  2016  spring  2.560000  0.220000\n",
              "1           3 2016-03-28  2016  spring  3.323333  0.683333"
            ]
          },
          "metadata": {
            "tags": []
          },
          "execution_count": 144
        }
      ]
    },
    {
      "cell_type": "code",
      "metadata": {
        "id": "k68T-uElinP2",
        "colab_type": "code",
        "outputId": "5648fdd6-5d24-4ae2-e4d9-486873ea7737",
        "colab": {
          "base_uri": "https://localhost:8080/",
          "height": 111
        }
      },
      "source": [
        "df_2016_fall.head(2)"
      ],
      "execution_count": 0,
      "outputs": [
        {
          "output_type": "execute_result",
          "data": {
            "text/html": [
              "<div>\n",
              "<style scoped>\n",
              "    .dataframe tbody tr th:only-of-type {\n",
              "        vertical-align: middle;\n",
              "    }\n",
              "\n",
              "    .dataframe tbody tr th {\n",
              "        vertical-align: top;\n",
              "    }\n",
              "\n",
              "    .dataframe thead th {\n",
              "        text-align: right;\n",
              "    }\n",
              "</style>\n",
              "<table border=\"1\" class=\"dataframe\">\n",
              "  <thead>\n",
              "    <tr style=\"text-align: right;\">\n",
              "      <th></th>\n",
              "      <th>grid_point</th>\n",
              "      <th>date</th>\n",
              "      <th>year</th>\n",
              "      <th>season</th>\n",
              "      <th>grass</th>\n",
              "      <th>forb</th>\n",
              "    </tr>\n",
              "  </thead>\n",
              "  <tbody>\n",
              "    <tr>\n",
              "      <th>0</th>\n",
              "      <td>87</td>\n",
              "      <td>2016-10-10</td>\n",
              "      <td>2016</td>\n",
              "      <td>fall</td>\n",
              "      <td>7.046667</td>\n",
              "      <td>3.996667</td>\n",
              "    </tr>\n",
              "    <tr>\n",
              "      <th>1</th>\n",
              "      <td>98</td>\n",
              "      <td>2016-10-10</td>\n",
              "      <td>2016</td>\n",
              "      <td>fall</td>\n",
              "      <td>9.086667</td>\n",
              "      <td>0.000000</td>\n",
              "    </tr>\n",
              "  </tbody>\n",
              "</table>\n",
              "</div>"
            ],
            "text/plain": [
              "   grid_point       date  year season     grass      forb\n",
              "0          87 2016-10-10  2016   fall  7.046667  3.996667\n",
              "1          98 2016-10-10  2016   fall  9.086667  0.000000"
            ]
          },
          "metadata": {
            "tags": []
          },
          "execution_count": 145
        }
      ]
    },
    {
      "cell_type": "code",
      "metadata": {
        "id": "Z2GIj7kXinqM",
        "colab_type": "code",
        "colab": {}
      },
      "source": [
        "df_2016_full_year = pd.concat([df_2016_spring, df_2016_fall], ignore_index=True, sort=False)"
      ],
      "execution_count": 0,
      "outputs": []
    },
    {
      "cell_type": "code",
      "metadata": {
        "id": "3mAvRUzyioAB",
        "colab_type": "code",
        "outputId": "f47a2e3a-9f91-4c76-8349-3982e07534b3",
        "colab": {
          "base_uri": "https://localhost:8080/",
          "height": 238
        }
      },
      "source": [
        "df_2016_full_year.info()"
      ],
      "execution_count": 0,
      "outputs": [
        {
          "output_type": "stream",
          "text": [
            "<class 'pandas.core.frame.DataFrame'>\n",
            "RangeIndex: 273 entries, 0 to 272\n",
            "Data columns (total 6 columns):\n",
            " #   Column      Non-Null Count  Dtype         \n",
            "---  ------      --------------  -----         \n",
            " 0   grid_point  273 non-null    int64         \n",
            " 1   date        273 non-null    datetime64[ns]\n",
            " 2   year        273 non-null    int64         \n",
            " 3   season      273 non-null    object        \n",
            " 4   grass       265 non-null    float64       \n",
            " 5   forb        269 non-null    float64       \n",
            "dtypes: datetime64[ns](1), float64(2), int64(2), object(1)\n",
            "memory usage: 12.9+ KB\n"
          ],
          "name": "stdout"
        }
      ]
    },
    {
      "cell_type": "markdown",
      "metadata": {
        "id": "yaZ5V-N9g6qK",
        "colab_type": "text"
      },
      "source": [
        "## 2015"
      ]
    },
    {
      "cell_type": "code",
      "metadata": {
        "id": "QF1S9kTNVqKL",
        "colab_type": "code",
        "colab": {}
      },
      "source": [
        "df_2010_15 = pd.read_csv(src_2010_15)"
      ],
      "execution_count": 0,
      "outputs": []
    },
    {
      "cell_type": "markdown",
      "metadata": {
        "id": "V7vpFlGPg9pJ",
        "colab_type": "text"
      },
      "source": [
        "### Spring"
      ]
    },
    {
      "cell_type": "code",
      "metadata": {
        "id": "0lcrLjz5dYb9",
        "colab_type": "code",
        "outputId": "05f6e870-89c0-4a45-fe58-218062d09c13",
        "colab": {
          "base_uri": "https://localhost:8080/",
          "height": 119
        }
      },
      "source": [
        "df_2010_15.columns"
      ],
      "execution_count": 0,
      "outputs": [
        {
          "output_type": "execute_result",
          "data": {
            "text/plain": [
              "Index(['GridPt', 'F10_1', 'F10_2', 'F10_3', 'F10_4', 'S11_1', 'S11_2', 'S11_3',\n",
              "       'F11_1', 'F11_2', 'F11_3', 'S12_1', 'S12_2', 'S12_3', 'F12_1', 'F12_2',\n",
              "       'F12_3', 'S13_1', 'S13_2', 'S13_3', 'F13_1', 'F13_2', 'F13_3', 'S14_1',\n",
              "       'S14_2', 'S14_3', 'F14_1', 'F14_2', 'F14_3', 'S15_1', 'S15_2', 'S15_3',\n",
              "       'F15_1', 'F15_2', 'F15_3'],\n",
              "      dtype='object')"
            ]
          },
          "metadata": {
            "tags": []
          },
          "execution_count": 149
        }
      ]
    },
    {
      "cell_type": "code",
      "metadata": {
        "id": "WcQRwdRfdYTw",
        "colab_type": "code",
        "colab": {}
      },
      "source": [
        "df_2015_spring = df_2010_15.loc[:, ['GridPt', 'S15_1', 'S15_2', 'S15_3']]"
      ],
      "execution_count": 0,
      "outputs": []
    },
    {
      "cell_type": "code",
      "metadata": {
        "id": "fDgg-FkziHgu",
        "colab_type": "code",
        "outputId": "51fe1098-a54b-4070-dc52-ecab21f141a3",
        "colab": {
          "base_uri": "https://localhost:8080/",
          "height": 204
        }
      },
      "source": [
        "df_2015_spring.info()"
      ],
      "execution_count": 0,
      "outputs": [
        {
          "output_type": "stream",
          "text": [
            "<class 'pandas.core.frame.DataFrame'>\n",
            "RangeIndex: 298 entries, 0 to 297\n",
            "Data columns (total 4 columns):\n",
            " #   Column  Non-Null Count  Dtype  \n",
            "---  ------  --------------  -----  \n",
            " 0   GridPt  298 non-null    int64  \n",
            " 1   S15_1   114 non-null    float64\n",
            " 2   S15_2   114 non-null    float64\n",
            " 3   S15_3   114 non-null    float64\n",
            "dtypes: float64(3), int64(1)\n",
            "memory usage: 9.4 KB\n"
          ],
          "name": "stdout"
        }
      ]
    },
    {
      "cell_type": "code",
      "metadata": {
        "id": "dmqb-CHdiHdM",
        "colab_type": "code",
        "colab": {}
      },
      "source": [
        "df_2015_spring['mean'] = df_2015_spring.loc[:, ['S15_1', 'S15_2', 'S15_3']].mean(axis=1)"
      ],
      "execution_count": 0,
      "outputs": []
    },
    {
      "cell_type": "code",
      "metadata": {
        "id": "3a7N9SeocmOr",
        "colab_type": "code",
        "colab": {}
      },
      "source": [
        "# set season\n",
        "df_2015_spring['season'] = 'spring'"
      ],
      "execution_count": 0,
      "outputs": []
    },
    {
      "cell_type": "code",
      "metadata": {
        "id": "QIT7vg6Tdp4W",
        "colab_type": "code",
        "colab": {}
      },
      "source": [
        "# slice out individual measurements\n",
        "df_2015_spring = df_2015_spring.loc[:, ['GridPt', 'mean', 'season']]"
      ],
      "execution_count": 0,
      "outputs": []
    },
    {
      "cell_type": "code",
      "metadata": {
        "id": "xD-smCdoiHSk",
        "colab_type": "code",
        "outputId": "8163b7c2-d152-4955-b5b0-1af8057c6699",
        "colab": {
          "base_uri": "https://localhost:8080/",
          "height": 111
        }
      },
      "source": [
        "df_2015_spring.head(2)"
      ],
      "execution_count": 0,
      "outputs": [
        {
          "output_type": "execute_result",
          "data": {
            "text/html": [
              "<div>\n",
              "<style scoped>\n",
              "    .dataframe tbody tr th:only-of-type {\n",
              "        vertical-align: middle;\n",
              "    }\n",
              "\n",
              "    .dataframe tbody tr th {\n",
              "        vertical-align: top;\n",
              "    }\n",
              "\n",
              "    .dataframe thead th {\n",
              "        text-align: right;\n",
              "    }\n",
              "</style>\n",
              "<table border=\"1\" class=\"dataframe\">\n",
              "  <thead>\n",
              "    <tr style=\"text-align: right;\">\n",
              "      <th></th>\n",
              "      <th>GridPt</th>\n",
              "      <th>mean</th>\n",
              "      <th>season</th>\n",
              "    </tr>\n",
              "  </thead>\n",
              "  <tbody>\n",
              "    <tr>\n",
              "      <th>0</th>\n",
              "      <td>2</td>\n",
              "      <td>1.903333</td>\n",
              "      <td>spring</td>\n",
              "    </tr>\n",
              "    <tr>\n",
              "      <th>1</th>\n",
              "      <td>3</td>\n",
              "      <td>1.083333</td>\n",
              "      <td>spring</td>\n",
              "    </tr>\n",
              "  </tbody>\n",
              "</table>\n",
              "</div>"
            ],
            "text/plain": [
              "   GridPt      mean  season\n",
              "0       2  1.903333  spring\n",
              "1       3  1.083333  spring"
            ]
          },
          "metadata": {
            "tags": []
          },
          "execution_count": 155
        }
      ]
    },
    {
      "cell_type": "markdown",
      "metadata": {
        "id": "RR_lS-9Oicnm",
        "colab_type": "text"
      },
      "source": [
        "### Fall"
      ]
    },
    {
      "cell_type": "code",
      "metadata": {
        "id": "SElZm8HZiaAJ",
        "colab_type": "code",
        "outputId": "ba0ef642-26cd-4244-b2d5-58de810a6d1e",
        "colab": {
          "base_uri": "https://localhost:8080/",
          "height": 119
        }
      },
      "source": [
        "df_2010_15.columns"
      ],
      "execution_count": 0,
      "outputs": [
        {
          "output_type": "execute_result",
          "data": {
            "text/plain": [
              "Index(['GridPt', 'F10_1', 'F10_2', 'F10_3', 'F10_4', 'S11_1', 'S11_2', 'S11_3',\n",
              "       'F11_1', 'F11_2', 'F11_3', 'S12_1', 'S12_2', 'S12_3', 'F12_1', 'F12_2',\n",
              "       'F12_3', 'S13_1', 'S13_2', 'S13_3', 'F13_1', 'F13_2', 'F13_3', 'S14_1',\n",
              "       'S14_2', 'S14_3', 'F14_1', 'F14_2', 'F14_3', 'S15_1', 'S15_2', 'S15_3',\n",
              "       'F15_1', 'F15_2', 'F15_3'],\n",
              "      dtype='object')"
            ]
          },
          "metadata": {
            "tags": []
          },
          "execution_count": 156
        }
      ]
    },
    {
      "cell_type": "code",
      "metadata": {
        "id": "C7IWd68djbd5",
        "colab_type": "code",
        "colab": {}
      },
      "source": [
        "df_2015_fall = df_2010_15.loc[:, ['GridPt', 'F15_1', 'F15_2', 'F15_3']]"
      ],
      "execution_count": 0,
      "outputs": []
    },
    {
      "cell_type": "code",
      "metadata": {
        "id": "ClyyFY0gjbUM",
        "colab_type": "code",
        "outputId": "b3ce93cf-3d66-49bc-e701-310bba5f96a5",
        "colab": {
          "base_uri": "https://localhost:8080/",
          "height": 204
        }
      },
      "source": [
        "df_2015_fall.info()"
      ],
      "execution_count": 0,
      "outputs": [
        {
          "output_type": "stream",
          "text": [
            "<class 'pandas.core.frame.DataFrame'>\n",
            "RangeIndex: 298 entries, 0 to 297\n",
            "Data columns (total 4 columns):\n",
            " #   Column  Non-Null Count  Dtype  \n",
            "---  ------  --------------  -----  \n",
            " 0   GridPt  298 non-null    int64  \n",
            " 1   F15_1   119 non-null    float64\n",
            " 2   F15_2   119 non-null    float64\n",
            " 3   F15_3   116 non-null    float64\n",
            "dtypes: float64(3), int64(1)\n",
            "memory usage: 9.4 KB\n"
          ],
          "name": "stdout"
        }
      ]
    },
    {
      "cell_type": "code",
      "metadata": {
        "id": "LNgB0xCtjbG4",
        "colab_type": "code",
        "colab": {}
      },
      "source": [
        "# average grid_point measurement values\n",
        "df_2015_fall['mean'] = df_2015_fall.loc[:, ['F15_1', 'F15_2', 'F15_3']].mean(axis=1)"
      ],
      "execution_count": 0,
      "outputs": []
    },
    {
      "cell_type": "code",
      "metadata": {
        "id": "wo5g2cBCcUta",
        "colab_type": "code",
        "colab": {}
      },
      "source": [
        "# set season\n",
        "df_2015_fall['season'] = 'fall'"
      ],
      "execution_count": 0,
      "outputs": []
    },
    {
      "cell_type": "code",
      "metadata": {
        "id": "ovbzsq3sdbm7",
        "colab_type": "code",
        "colab": {}
      },
      "source": [
        "# slice out individual measurements\n",
        "df_2015_fall = df_2015_fall.loc[:, ['GridPt', 'mean', 'season']]"
      ],
      "execution_count": 0,
      "outputs": []
    },
    {
      "cell_type": "code",
      "metadata": {
        "id": "uoHqEG5gjnkI",
        "colab_type": "code",
        "outputId": "9366e7f3-3272-4601-f0d8-3966dce38cb1",
        "colab": {
          "base_uri": "https://localhost:8080/",
          "height": 111
        }
      },
      "source": [
        "df_2015_fall.head(2)"
      ],
      "execution_count": 0,
      "outputs": [
        {
          "output_type": "execute_result",
          "data": {
            "text/html": [
              "<div>\n",
              "<style scoped>\n",
              "    .dataframe tbody tr th:only-of-type {\n",
              "        vertical-align: middle;\n",
              "    }\n",
              "\n",
              "    .dataframe tbody tr th {\n",
              "        vertical-align: top;\n",
              "    }\n",
              "\n",
              "    .dataframe thead th {\n",
              "        text-align: right;\n",
              "    }\n",
              "</style>\n",
              "<table border=\"1\" class=\"dataframe\">\n",
              "  <thead>\n",
              "    <tr style=\"text-align: right;\">\n",
              "      <th></th>\n",
              "      <th>GridPt</th>\n",
              "      <th>mean</th>\n",
              "      <th>season</th>\n",
              "    </tr>\n",
              "  </thead>\n",
              "  <tbody>\n",
              "    <tr>\n",
              "      <th>0</th>\n",
              "      <td>2</td>\n",
              "      <td>6.873333</td>\n",
              "      <td>fall</td>\n",
              "    </tr>\n",
              "    <tr>\n",
              "      <th>1</th>\n",
              "      <td>3</td>\n",
              "      <td>5.910000</td>\n",
              "      <td>fall</td>\n",
              "    </tr>\n",
              "  </tbody>\n",
              "</table>\n",
              "</div>"
            ],
            "text/plain": [
              "   GridPt      mean season\n",
              "0       2  6.873333   fall\n",
              "1       3  5.910000   fall"
            ]
          },
          "metadata": {
            "tags": []
          },
          "execution_count": 162
        }
      ]
    },
    {
      "cell_type": "markdown",
      "metadata": {
        "id": "NjSMfDYRbfeY",
        "colab_type": "text"
      },
      "source": [
        "### Full Year"
      ]
    },
    {
      "cell_type": "code",
      "metadata": {
        "id": "guVNO2jvbhQt",
        "colab_type": "code",
        "outputId": "cb7ace38-8038-4a85-f292-14c907f4a3a9",
        "colab": {
          "base_uri": "https://localhost:8080/",
          "height": 111
        }
      },
      "source": [
        "df_2015_spring.head(2)"
      ],
      "execution_count": 0,
      "outputs": [
        {
          "output_type": "execute_result",
          "data": {
            "text/html": [
              "<div>\n",
              "<style scoped>\n",
              "    .dataframe tbody tr th:only-of-type {\n",
              "        vertical-align: middle;\n",
              "    }\n",
              "\n",
              "    .dataframe tbody tr th {\n",
              "        vertical-align: top;\n",
              "    }\n",
              "\n",
              "    .dataframe thead th {\n",
              "        text-align: right;\n",
              "    }\n",
              "</style>\n",
              "<table border=\"1\" class=\"dataframe\">\n",
              "  <thead>\n",
              "    <tr style=\"text-align: right;\">\n",
              "      <th></th>\n",
              "      <th>GridPt</th>\n",
              "      <th>mean</th>\n",
              "      <th>season</th>\n",
              "    </tr>\n",
              "  </thead>\n",
              "  <tbody>\n",
              "    <tr>\n",
              "      <th>0</th>\n",
              "      <td>2</td>\n",
              "      <td>1.903333</td>\n",
              "      <td>spring</td>\n",
              "    </tr>\n",
              "    <tr>\n",
              "      <th>1</th>\n",
              "      <td>3</td>\n",
              "      <td>1.083333</td>\n",
              "      <td>spring</td>\n",
              "    </tr>\n",
              "  </tbody>\n",
              "</table>\n",
              "</div>"
            ],
            "text/plain": [
              "   GridPt      mean  season\n",
              "0       2  1.903333  spring\n",
              "1       3  1.083333  spring"
            ]
          },
          "metadata": {
            "tags": []
          },
          "execution_count": 163
        }
      ]
    },
    {
      "cell_type": "code",
      "metadata": {
        "id": "1hbIPPIiblSa",
        "colab_type": "code",
        "outputId": "89bbb7f8-62af-447c-b662-b14da472f7c2",
        "colab": {
          "base_uri": "https://localhost:8080/",
          "height": 111
        }
      },
      "source": [
        "df_2015_fall.head(2)\n"
      ],
      "execution_count": 0,
      "outputs": [
        {
          "output_type": "execute_result",
          "data": {
            "text/html": [
              "<div>\n",
              "<style scoped>\n",
              "    .dataframe tbody tr th:only-of-type {\n",
              "        vertical-align: middle;\n",
              "    }\n",
              "\n",
              "    .dataframe tbody tr th {\n",
              "        vertical-align: top;\n",
              "    }\n",
              "\n",
              "    .dataframe thead th {\n",
              "        text-align: right;\n",
              "    }\n",
              "</style>\n",
              "<table border=\"1\" class=\"dataframe\">\n",
              "  <thead>\n",
              "    <tr style=\"text-align: right;\">\n",
              "      <th></th>\n",
              "      <th>GridPt</th>\n",
              "      <th>mean</th>\n",
              "      <th>season</th>\n",
              "    </tr>\n",
              "  </thead>\n",
              "  <tbody>\n",
              "    <tr>\n",
              "      <th>0</th>\n",
              "      <td>2</td>\n",
              "      <td>6.873333</td>\n",
              "      <td>fall</td>\n",
              "    </tr>\n",
              "    <tr>\n",
              "      <th>1</th>\n",
              "      <td>3</td>\n",
              "      <td>5.910000</td>\n",
              "      <td>fall</td>\n",
              "    </tr>\n",
              "  </tbody>\n",
              "</table>\n",
              "</div>"
            ],
            "text/plain": [
              "   GridPt      mean season\n",
              "0       2  6.873333   fall\n",
              "1       3  5.910000   fall"
            ]
          },
          "metadata": {
            "tags": []
          },
          "execution_count": 164
        }
      ]
    },
    {
      "cell_type": "code",
      "metadata": {
        "id": "RnYd5GeUblMy",
        "colab_type": "code",
        "colab": {}
      },
      "source": [
        "# combine fall and spring dataframes\n",
        "df_2015 = pd.concat([df_2015_spring, df_2015_fall], ignore_index=True, sort=False)"
      ],
      "execution_count": 0,
      "outputs": []
    },
    {
      "cell_type": "code",
      "metadata": {
        "id": "zCZBTjsWblJC",
        "colab_type": "code",
        "colab": {}
      },
      "source": [
        "# set 'date' to NaT\n",
        "df_2015['date'] = pd.NaT\n",
        "\n",
        "# set 'year'\n",
        "df_2015['year'] = 2015"
      ],
      "execution_count": 0,
      "outputs": []
    },
    {
      "cell_type": "code",
      "metadata": {
        "id": "AzGeiNOXblGD",
        "colab_type": "code",
        "outputId": "984200f9-91d2-40a9-b8c1-0ca008c193c3",
        "colab": {
          "base_uri": "https://localhost:8080/",
          "height": 204
        }
      },
      "source": [
        "df_2015.head()"
      ],
      "execution_count": 0,
      "outputs": [
        {
          "output_type": "execute_result",
          "data": {
            "text/html": [
              "<div>\n",
              "<style scoped>\n",
              "    .dataframe tbody tr th:only-of-type {\n",
              "        vertical-align: middle;\n",
              "    }\n",
              "\n",
              "    .dataframe tbody tr th {\n",
              "        vertical-align: top;\n",
              "    }\n",
              "\n",
              "    .dataframe thead th {\n",
              "        text-align: right;\n",
              "    }\n",
              "</style>\n",
              "<table border=\"1\" class=\"dataframe\">\n",
              "  <thead>\n",
              "    <tr style=\"text-align: right;\">\n",
              "      <th></th>\n",
              "      <th>GridPt</th>\n",
              "      <th>mean</th>\n",
              "      <th>season</th>\n",
              "      <th>date</th>\n",
              "      <th>year</th>\n",
              "    </tr>\n",
              "  </thead>\n",
              "  <tbody>\n",
              "    <tr>\n",
              "      <th>0</th>\n",
              "      <td>2</td>\n",
              "      <td>1.903333</td>\n",
              "      <td>spring</td>\n",
              "      <td>NaT</td>\n",
              "      <td>2015</td>\n",
              "    </tr>\n",
              "    <tr>\n",
              "      <th>1</th>\n",
              "      <td>3</td>\n",
              "      <td>1.083333</td>\n",
              "      <td>spring</td>\n",
              "      <td>NaT</td>\n",
              "      <td>2015</td>\n",
              "    </tr>\n",
              "    <tr>\n",
              "      <th>2</th>\n",
              "      <td>4</td>\n",
              "      <td>1.106667</td>\n",
              "      <td>spring</td>\n",
              "      <td>NaT</td>\n",
              "      <td>2015</td>\n",
              "    </tr>\n",
              "    <tr>\n",
              "      <th>3</th>\n",
              "      <td>5</td>\n",
              "      <td>2.426667</td>\n",
              "      <td>spring</td>\n",
              "      <td>NaT</td>\n",
              "      <td>2015</td>\n",
              "    </tr>\n",
              "    <tr>\n",
              "      <th>4</th>\n",
              "      <td>6</td>\n",
              "      <td>4.586667</td>\n",
              "      <td>spring</td>\n",
              "      <td>NaT</td>\n",
              "      <td>2015</td>\n",
              "    </tr>\n",
              "  </tbody>\n",
              "</table>\n",
              "</div>"
            ],
            "text/plain": [
              "   GridPt      mean  season date  year\n",
              "0       2  1.903333  spring  NaT  2015\n",
              "1       3  1.083333  spring  NaT  2015\n",
              "2       4  1.106667  spring  NaT  2015\n",
              "3       5  2.426667  spring  NaT  2015\n",
              "4       6  4.586667  spring  NaT  2015"
            ]
          },
          "metadata": {
            "tags": []
          },
          "execution_count": 167
        }
      ]
    },
    {
      "cell_type": "markdown",
      "metadata": {
        "id": "YQw1cHR4bC-L",
        "colab_type": "text"
      },
      "source": [
        "## 2014"
      ]
    },
    {
      "cell_type": "markdown",
      "metadata": {
        "id": "qiPGcHIBbE7U",
        "colab_type": "text"
      },
      "source": [
        "### Spring"
      ]
    },
    {
      "cell_type": "code",
      "metadata": {
        "id": "ptI39F_8bHqD",
        "colab_type": "code",
        "colab": {}
      },
      "source": [
        "df_2014_spring = df_2010_15.loc[:, ['GridPt', 'S14_1', 'S14_2', 'S14_3']]"
      ],
      "execution_count": 0,
      "outputs": []
    },
    {
      "cell_type": "code",
      "metadata": {
        "id": "YdoZZMksbHkk",
        "colab_type": "code",
        "outputId": "83827f68-b04c-4fa8-e92d-37e368f15069",
        "colab": {
          "base_uri": "https://localhost:8080/",
          "height": 204
        }
      },
      "source": [
        "df_2014_spring.info()"
      ],
      "execution_count": 0,
      "outputs": [
        {
          "output_type": "stream",
          "text": [
            "<class 'pandas.core.frame.DataFrame'>\n",
            "RangeIndex: 298 entries, 0 to 297\n",
            "Data columns (total 4 columns):\n",
            " #   Column  Non-Null Count  Dtype  \n",
            "---  ------  --------------  -----  \n",
            " 0   GridPt  298 non-null    int64  \n",
            " 1   S14_1   32 non-null     float64\n",
            " 2   S14_2   32 non-null     float64\n",
            " 3   S14_3   32 non-null     float64\n",
            "dtypes: float64(3), int64(1)\n",
            "memory usage: 9.4 KB\n"
          ],
          "name": "stdout"
        }
      ]
    },
    {
      "cell_type": "code",
      "metadata": {
        "id": "Yhc2mEvLbHbB",
        "colab_type": "code",
        "colab": {}
      },
      "source": [
        "# average individual measurements\n",
        "df_2014_spring['mean'] = df_2014_spring.loc[:, ['S14_1', 'S14_2', 'S14_3']].mean(axis=1)"
      ],
      "execution_count": 0,
      "outputs": []
    },
    {
      "cell_type": "code",
      "metadata": {
        "id": "d47Bzegies5g",
        "colab_type": "code",
        "colab": {}
      },
      "source": [
        "# slice out individual measurements\n",
        "df_2014_spring = df_2014_spring.loc[:, ['GridPt', 'mean']]"
      ],
      "execution_count": 0,
      "outputs": []
    },
    {
      "cell_type": "code",
      "metadata": {
        "id": "4Kmxl9LCe6IA",
        "colab_type": "code",
        "colab": {}
      },
      "source": [
        "# set season\n",
        "df_2014_spring['season'] = 'spring'"
      ],
      "execution_count": 0,
      "outputs": []
    },
    {
      "cell_type": "code",
      "metadata": {
        "id": "bivAStSKbHOj",
        "colab_type": "code",
        "outputId": "f39374cb-2d1a-4154-b5ff-b87a9bfbe6c2",
        "colab": {
          "base_uri": "https://localhost:8080/",
          "height": 111
        }
      },
      "source": [
        "df_2014_spring.dropna().head(2)"
      ],
      "execution_count": 0,
      "outputs": [
        {
          "output_type": "execute_result",
          "data": {
            "text/html": [
              "<div>\n",
              "<style scoped>\n",
              "    .dataframe tbody tr th:only-of-type {\n",
              "        vertical-align: middle;\n",
              "    }\n",
              "\n",
              "    .dataframe tbody tr th {\n",
              "        vertical-align: top;\n",
              "    }\n",
              "\n",
              "    .dataframe thead th {\n",
              "        text-align: right;\n",
              "    }\n",
              "</style>\n",
              "<table border=\"1\" class=\"dataframe\">\n",
              "  <thead>\n",
              "    <tr style=\"text-align: right;\">\n",
              "      <th></th>\n",
              "      <th>GridPt</th>\n",
              "      <th>mean</th>\n",
              "      <th>season</th>\n",
              "    </tr>\n",
              "  </thead>\n",
              "  <tbody>\n",
              "    <tr>\n",
              "      <th>0</th>\n",
              "      <td>2</td>\n",
              "      <td>1.590000</td>\n",
              "      <td>spring</td>\n",
              "    </tr>\n",
              "    <tr>\n",
              "      <th>5</th>\n",
              "      <td>7</td>\n",
              "      <td>4.866667</td>\n",
              "      <td>spring</td>\n",
              "    </tr>\n",
              "  </tbody>\n",
              "</table>\n",
              "</div>"
            ],
            "text/plain": [
              "   GridPt      mean  season\n",
              "0       2  1.590000  spring\n",
              "5       7  4.866667  spring"
            ]
          },
          "metadata": {
            "tags": []
          },
          "execution_count": 173
        }
      ]
    },
    {
      "cell_type": "markdown",
      "metadata": {
        "id": "-rGxIng4dWOf",
        "colab_type": "text"
      },
      "source": [
        "### Fall"
      ]
    },
    {
      "cell_type": "code",
      "metadata": {
        "id": "mEjZyCuRdYvf",
        "colab_type": "code",
        "colab": {}
      },
      "source": [
        "df_2014_fall = df_2010_15.loc[:, ['GridPt', 'F14_1', 'F14_2', 'F14_3']]"
      ],
      "execution_count": 0,
      "outputs": []
    },
    {
      "cell_type": "code",
      "metadata": {
        "id": "YmLFexYgdYsh",
        "colab_type": "code",
        "outputId": "399228d4-0bfd-48d0-e7a8-7199d35b0e79",
        "colab": {
          "base_uri": "https://localhost:8080/",
          "height": 204
        }
      },
      "source": [
        "df_2014_fall.info()"
      ],
      "execution_count": 0,
      "outputs": [
        {
          "output_type": "stream",
          "text": [
            "<class 'pandas.core.frame.DataFrame'>\n",
            "RangeIndex: 298 entries, 0 to 297\n",
            "Data columns (total 4 columns):\n",
            " #   Column  Non-Null Count  Dtype  \n",
            "---  ------  --------------  -----  \n",
            " 0   GridPt  298 non-null    int64  \n",
            " 1   F14_1   63 non-null     float64\n",
            " 2   F14_2   63 non-null     float64\n",
            " 3   F14_3   63 non-null     float64\n",
            "dtypes: float64(3), int64(1)\n",
            "memory usage: 9.4 KB\n"
          ],
          "name": "stdout"
        }
      ]
    },
    {
      "cell_type": "code",
      "metadata": {
        "id": "T7BgM3UbdYoX",
        "colab_type": "code",
        "colab": {}
      },
      "source": [
        "# average individual measurements\n",
        "df_2014_fall['mean'] = df_2014_fall.loc[:, ['F14_1', 'F14_2', 'F14_3']].mean(axis=1)"
      ],
      "execution_count": 0,
      "outputs": []
    },
    {
      "cell_type": "code",
      "metadata": {
        "id": "HdCQ9Zy8fDiQ",
        "colab_type": "code",
        "colab": {}
      },
      "source": [
        "# slice to keep desired columns\n",
        "df_2014_fall = df_2014_fall.loc[:, ['GridPt', 'mean']]"
      ],
      "execution_count": 0,
      "outputs": []
    },
    {
      "cell_type": "code",
      "metadata": {
        "id": "41RW9crvfMsk",
        "colab_type": "code",
        "colab": {}
      },
      "source": [
        "# set season\n",
        "df_2014_fall['season'] = 'fall'"
      ],
      "execution_count": 0,
      "outputs": []
    },
    {
      "cell_type": "code",
      "metadata": {
        "id": "I2dInUSTdYlr",
        "colab_type": "code",
        "outputId": "4cc2a1b7-df5a-4157-8880-060300b8965f",
        "colab": {
          "base_uri": "https://localhost:8080/",
          "height": 111
        }
      },
      "source": [
        "df_2014_fall.dropna().head(2)"
      ],
      "execution_count": 0,
      "outputs": [
        {
          "output_type": "execute_result",
          "data": {
            "text/html": [
              "<div>\n",
              "<style scoped>\n",
              "    .dataframe tbody tr th:only-of-type {\n",
              "        vertical-align: middle;\n",
              "    }\n",
              "\n",
              "    .dataframe tbody tr th {\n",
              "        vertical-align: top;\n",
              "    }\n",
              "\n",
              "    .dataframe thead th {\n",
              "        text-align: right;\n",
              "    }\n",
              "</style>\n",
              "<table border=\"1\" class=\"dataframe\">\n",
              "  <thead>\n",
              "    <tr style=\"text-align: right;\">\n",
              "      <th></th>\n",
              "      <th>GridPt</th>\n",
              "      <th>mean</th>\n",
              "      <th>season</th>\n",
              "    </tr>\n",
              "  </thead>\n",
              "  <tbody>\n",
              "    <tr>\n",
              "      <th>0</th>\n",
              "      <td>2</td>\n",
              "      <td>7.003333</td>\n",
              "      <td>fall</td>\n",
              "    </tr>\n",
              "    <tr>\n",
              "      <th>5</th>\n",
              "      <td>7</td>\n",
              "      <td>23.860000</td>\n",
              "      <td>fall</td>\n",
              "    </tr>\n",
              "  </tbody>\n",
              "</table>\n",
              "</div>"
            ],
            "text/plain": [
              "   GridPt       mean season\n",
              "0       2   7.003333   fall\n",
              "5       7  23.860000   fall"
            ]
          },
          "metadata": {
            "tags": []
          },
          "execution_count": 179
        }
      ]
    },
    {
      "cell_type": "markdown",
      "metadata": {
        "id": "poYS6c04fSa1",
        "colab_type": "text"
      },
      "source": [
        "### Full Year"
      ]
    },
    {
      "cell_type": "code",
      "metadata": {
        "id": "xRvLjmwmfUKw",
        "colab_type": "code",
        "outputId": "0fae7558-cc27-4a2a-8043-7e0785002740",
        "colab": {
          "base_uri": "https://localhost:8080/",
          "height": 111
        }
      },
      "source": [
        "df_2014_fall.head(2)"
      ],
      "execution_count": 0,
      "outputs": [
        {
          "output_type": "execute_result",
          "data": {
            "text/html": [
              "<div>\n",
              "<style scoped>\n",
              "    .dataframe tbody tr th:only-of-type {\n",
              "        vertical-align: middle;\n",
              "    }\n",
              "\n",
              "    .dataframe tbody tr th {\n",
              "        vertical-align: top;\n",
              "    }\n",
              "\n",
              "    .dataframe thead th {\n",
              "        text-align: right;\n",
              "    }\n",
              "</style>\n",
              "<table border=\"1\" class=\"dataframe\">\n",
              "  <thead>\n",
              "    <tr style=\"text-align: right;\">\n",
              "      <th></th>\n",
              "      <th>GridPt</th>\n",
              "      <th>mean</th>\n",
              "      <th>season</th>\n",
              "    </tr>\n",
              "  </thead>\n",
              "  <tbody>\n",
              "    <tr>\n",
              "      <th>0</th>\n",
              "      <td>2</td>\n",
              "      <td>7.003333</td>\n",
              "      <td>fall</td>\n",
              "    </tr>\n",
              "    <tr>\n",
              "      <th>1</th>\n",
              "      <td>3</td>\n",
              "      <td>NaN</td>\n",
              "      <td>fall</td>\n",
              "    </tr>\n",
              "  </tbody>\n",
              "</table>\n",
              "</div>"
            ],
            "text/plain": [
              "   GridPt      mean season\n",
              "0       2  7.003333   fall\n",
              "1       3       NaN   fall"
            ]
          },
          "metadata": {
            "tags": []
          },
          "execution_count": 180
        }
      ]
    },
    {
      "cell_type": "code",
      "metadata": {
        "id": "dQY44fd0fVPz",
        "colab_type": "code",
        "outputId": "ea42b5b6-11d5-4a90-fffc-f16437f523e3",
        "colab": {
          "base_uri": "https://localhost:8080/",
          "height": 111
        }
      },
      "source": [
        "df_2014_spring.head(2)"
      ],
      "execution_count": 0,
      "outputs": [
        {
          "output_type": "execute_result",
          "data": {
            "text/html": [
              "<div>\n",
              "<style scoped>\n",
              "    .dataframe tbody tr th:only-of-type {\n",
              "        vertical-align: middle;\n",
              "    }\n",
              "\n",
              "    .dataframe tbody tr th {\n",
              "        vertical-align: top;\n",
              "    }\n",
              "\n",
              "    .dataframe thead th {\n",
              "        text-align: right;\n",
              "    }\n",
              "</style>\n",
              "<table border=\"1\" class=\"dataframe\">\n",
              "  <thead>\n",
              "    <tr style=\"text-align: right;\">\n",
              "      <th></th>\n",
              "      <th>GridPt</th>\n",
              "      <th>mean</th>\n",
              "      <th>season</th>\n",
              "    </tr>\n",
              "  </thead>\n",
              "  <tbody>\n",
              "    <tr>\n",
              "      <th>0</th>\n",
              "      <td>2</td>\n",
              "      <td>1.59</td>\n",
              "      <td>spring</td>\n",
              "    </tr>\n",
              "    <tr>\n",
              "      <th>1</th>\n",
              "      <td>3</td>\n",
              "      <td>NaN</td>\n",
              "      <td>spring</td>\n",
              "    </tr>\n",
              "  </tbody>\n",
              "</table>\n",
              "</div>"
            ],
            "text/plain": [
              "   GridPt  mean  season\n",
              "0       2  1.59  spring\n",
              "1       3   NaN  spring"
            ]
          },
          "metadata": {
            "tags": []
          },
          "execution_count": 181
        }
      ]
    },
    {
      "cell_type": "code",
      "metadata": {
        "id": "Q1An13LgfVJ4",
        "colab_type": "code",
        "colab": {}
      },
      "source": [
        "# combine fall and spring dataframes\n",
        "df_2014 = pd.concat([df_2014_spring, df_2014_fall], ignore_index=True, sort=False)"
      ],
      "execution_count": 0,
      "outputs": []
    },
    {
      "cell_type": "code",
      "metadata": {
        "id": "zA-pEP_wfVC1",
        "colab_type": "code",
        "colab": {}
      },
      "source": [
        "# set 'date'\n",
        "df_2014['date'] = pd.NaT\n",
        "\n",
        "# set 'year'\n",
        "df_2014['year'] = 2014"
      ],
      "execution_count": 0,
      "outputs": []
    },
    {
      "cell_type": "code",
      "metadata": {
        "id": "Zd0skMfgfU72",
        "colab_type": "code",
        "outputId": "5d97f369-a305-4acc-cb60-6e3d60223221",
        "colab": {
          "base_uri": "https://localhost:8080/",
          "height": 111
        }
      },
      "source": [
        "df_2014.dropna(subset=['mean']).head(2)"
      ],
      "execution_count": 0,
      "outputs": [
        {
          "output_type": "execute_result",
          "data": {
            "text/html": [
              "<div>\n",
              "<style scoped>\n",
              "    .dataframe tbody tr th:only-of-type {\n",
              "        vertical-align: middle;\n",
              "    }\n",
              "\n",
              "    .dataframe tbody tr th {\n",
              "        vertical-align: top;\n",
              "    }\n",
              "\n",
              "    .dataframe thead th {\n",
              "        text-align: right;\n",
              "    }\n",
              "</style>\n",
              "<table border=\"1\" class=\"dataframe\">\n",
              "  <thead>\n",
              "    <tr style=\"text-align: right;\">\n",
              "      <th></th>\n",
              "      <th>GridPt</th>\n",
              "      <th>mean</th>\n",
              "      <th>season</th>\n",
              "      <th>date</th>\n",
              "      <th>year</th>\n",
              "    </tr>\n",
              "  </thead>\n",
              "  <tbody>\n",
              "    <tr>\n",
              "      <th>0</th>\n",
              "      <td>2</td>\n",
              "      <td>1.590000</td>\n",
              "      <td>spring</td>\n",
              "      <td>NaT</td>\n",
              "      <td>2014</td>\n",
              "    </tr>\n",
              "    <tr>\n",
              "      <th>5</th>\n",
              "      <td>7</td>\n",
              "      <td>4.866667</td>\n",
              "      <td>spring</td>\n",
              "      <td>NaT</td>\n",
              "      <td>2014</td>\n",
              "    </tr>\n",
              "  </tbody>\n",
              "</table>\n",
              "</div>"
            ],
            "text/plain": [
              "   GridPt      mean  season date  year\n",
              "0       2  1.590000  spring  NaT  2014\n",
              "5       7  4.866667  spring  NaT  2014"
            ]
          },
          "metadata": {
            "tags": []
          },
          "execution_count": 184
        }
      ]
    },
    {
      "cell_type": "markdown",
      "metadata": {
        "id": "gBIMgVmlZWBl",
        "colab_type": "text"
      },
      "source": [
        "## 2013"
      ]
    },
    {
      "cell_type": "markdown",
      "metadata": {
        "id": "c-u84nYbZ3e3",
        "colab_type": "text"
      },
      "source": [
        "### Spring"
      ]
    },
    {
      "cell_type": "code",
      "metadata": {
        "id": "0B0rvJ0vZeAt",
        "colab_type": "code",
        "colab": {}
      },
      "source": [
        "df_2013_spring = df_2010_15.loc[:, ['GridPt', 'S13_1', 'S13_2', 'S13_3']]"
      ],
      "execution_count": 0,
      "outputs": []
    },
    {
      "cell_type": "code",
      "metadata": {
        "id": "hcyZkehSZd4N",
        "colab_type": "code",
        "outputId": "630474de-056f-49b2-e77c-29bf555d6b08",
        "colab": {
          "base_uri": "https://localhost:8080/",
          "height": 204
        }
      },
      "source": [
        "df_2013_spring.info()"
      ],
      "execution_count": 0,
      "outputs": [
        {
          "output_type": "stream",
          "text": [
            "<class 'pandas.core.frame.DataFrame'>\n",
            "RangeIndex: 298 entries, 0 to 297\n",
            "Data columns (total 4 columns):\n",
            " #   Column  Non-Null Count  Dtype  \n",
            "---  ------  --------------  -----  \n",
            " 0   GridPt  298 non-null    int64  \n",
            " 1   S13_1   126 non-null    float64\n",
            " 2   S13_2   128 non-null    float64\n",
            " 3   S13_3   128 non-null    float64\n",
            "dtypes: float64(3), int64(1)\n",
            "memory usage: 9.4 KB\n"
          ],
          "name": "stdout"
        }
      ]
    },
    {
      "cell_type": "code",
      "metadata": {
        "id": "FVWAbI0KZdvo",
        "colab_type": "code",
        "colab": {}
      },
      "source": [
        "df_2013_spring['mean'] = df_2013_spring.loc[:, ['S13_1', 'S13_2', 'S13_3']].mean(axis=1)"
      ],
      "execution_count": 0,
      "outputs": []
    },
    {
      "cell_type": "code",
      "metadata": {
        "id": "mGtsUNUMgjeU",
        "colab_type": "code",
        "colab": {}
      },
      "source": [
        "# subselect to remove individual measurements\n",
        "df_2013_spring = df_2013_spring.loc[:, ['GridPt', 'mean']]"
      ],
      "execution_count": 0,
      "outputs": []
    },
    {
      "cell_type": "code",
      "metadata": {
        "id": "NPD8ja1vgp5g",
        "colab_type": "code",
        "colab": {}
      },
      "source": [
        "# set season\n",
        "df_2013_spring['season'] = 'spring'"
      ],
      "execution_count": 0,
      "outputs": []
    },
    {
      "cell_type": "code",
      "metadata": {
        "id": "aRqAecZmZcyI",
        "colab_type": "code",
        "outputId": "37e94911-0914-43fd-87a1-9fabea02bb7e",
        "colab": {
          "base_uri": "https://localhost:8080/",
          "height": 111
        }
      },
      "source": [
        "df_2013_spring.head(2)"
      ],
      "execution_count": 0,
      "outputs": [
        {
          "output_type": "execute_result",
          "data": {
            "text/html": [
              "<div>\n",
              "<style scoped>\n",
              "    .dataframe tbody tr th:only-of-type {\n",
              "        vertical-align: middle;\n",
              "    }\n",
              "\n",
              "    .dataframe tbody tr th {\n",
              "        vertical-align: top;\n",
              "    }\n",
              "\n",
              "    .dataframe thead th {\n",
              "        text-align: right;\n",
              "    }\n",
              "</style>\n",
              "<table border=\"1\" class=\"dataframe\">\n",
              "  <thead>\n",
              "    <tr style=\"text-align: right;\">\n",
              "      <th></th>\n",
              "      <th>GridPt</th>\n",
              "      <th>mean</th>\n",
              "      <th>season</th>\n",
              "    </tr>\n",
              "  </thead>\n",
              "  <tbody>\n",
              "    <tr>\n",
              "      <th>0</th>\n",
              "      <td>2</td>\n",
              "      <td>1.913333</td>\n",
              "      <td>spring</td>\n",
              "    </tr>\n",
              "    <tr>\n",
              "      <th>1</th>\n",
              "      <td>3</td>\n",
              "      <td>2.020000</td>\n",
              "      <td>spring</td>\n",
              "    </tr>\n",
              "  </tbody>\n",
              "</table>\n",
              "</div>"
            ],
            "text/plain": [
              "   GridPt      mean  season\n",
              "0       2  1.913333  spring\n",
              "1       3  2.020000  spring"
            ]
          },
          "metadata": {
            "tags": []
          },
          "execution_count": 190
        }
      ]
    },
    {
      "cell_type": "markdown",
      "metadata": {
        "id": "miTpC7r8aZPn",
        "colab_type": "text"
      },
      "source": [
        "### Fall"
      ]
    },
    {
      "cell_type": "code",
      "metadata": {
        "id": "kcwd8fKZacTf",
        "colab_type": "code",
        "colab": {}
      },
      "source": [
        "df_2013_fall = df_2010_15.loc[:, ['GridPt', 'F13_1', 'F13_2', 'F13_3']]"
      ],
      "execution_count": 0,
      "outputs": []
    },
    {
      "cell_type": "code",
      "metadata": {
        "id": "uFDUO50-acK3",
        "colab_type": "code",
        "outputId": "e35ce7ac-6221-4e18-f1ac-85d5fa238e3f",
        "colab": {
          "base_uri": "https://localhost:8080/",
          "height": 204
        }
      },
      "source": [
        "df_2013_fall.info()"
      ],
      "execution_count": 0,
      "outputs": [
        {
          "output_type": "stream",
          "text": [
            "<class 'pandas.core.frame.DataFrame'>\n",
            "RangeIndex: 298 entries, 0 to 297\n",
            "Data columns (total 4 columns):\n",
            " #   Column  Non-Null Count  Dtype  \n",
            "---  ------  --------------  -----  \n",
            " 0   GridPt  298 non-null    int64  \n",
            " 1   F13_1   132 non-null    float64\n",
            " 2   F13_2   129 non-null    float64\n",
            " 3   F13_3   131 non-null    float64\n",
            "dtypes: float64(3), int64(1)\n",
            "memory usage: 9.4 KB\n"
          ],
          "name": "stdout"
        }
      ]
    },
    {
      "cell_type": "code",
      "metadata": {
        "id": "uocsRttmacDA",
        "colab_type": "code",
        "colab": {}
      },
      "source": [
        "df_2013_fall['mean'] = df_2013_fall.loc[:, ['F13_1', 'F13_2', 'F13_3']].mean(axis=1)"
      ],
      "execution_count": 0,
      "outputs": []
    },
    {
      "cell_type": "code",
      "metadata": {
        "id": "DW-r5TS6g38s",
        "colab_type": "code",
        "colab": {}
      },
      "source": [
        "df_2013_fall = df_2013_fall.loc[:, ['GridPt', 'mean']]"
      ],
      "execution_count": 0,
      "outputs": []
    },
    {
      "cell_type": "code",
      "metadata": {
        "id": "srvljT2ahB1l",
        "colab_type": "code",
        "colab": {}
      },
      "source": [
        "# set 'season'\n",
        "df_2013_fall['season'] = 'fall'"
      ],
      "execution_count": 0,
      "outputs": []
    },
    {
      "cell_type": "code",
      "metadata": {
        "id": "QEzDCJaLab6B",
        "colab_type": "code",
        "outputId": "5b12acd4-b322-4ede-88fc-bdb9605850b6",
        "colab": {
          "base_uri": "https://localhost:8080/",
          "height": 111
        }
      },
      "source": [
        "df_2013_fall.head(2)"
      ],
      "execution_count": 0,
      "outputs": [
        {
          "output_type": "execute_result",
          "data": {
            "text/html": [
              "<div>\n",
              "<style scoped>\n",
              "    .dataframe tbody tr th:only-of-type {\n",
              "        vertical-align: middle;\n",
              "    }\n",
              "\n",
              "    .dataframe tbody tr th {\n",
              "        vertical-align: top;\n",
              "    }\n",
              "\n",
              "    .dataframe thead th {\n",
              "        text-align: right;\n",
              "    }\n",
              "</style>\n",
              "<table border=\"1\" class=\"dataframe\">\n",
              "  <thead>\n",
              "    <tr style=\"text-align: right;\">\n",
              "      <th></th>\n",
              "      <th>GridPt</th>\n",
              "      <th>mean</th>\n",
              "      <th>season</th>\n",
              "    </tr>\n",
              "  </thead>\n",
              "  <tbody>\n",
              "    <tr>\n",
              "      <th>0</th>\n",
              "      <td>2</td>\n",
              "      <td>6.176667</td>\n",
              "      <td>fall</td>\n",
              "    </tr>\n",
              "    <tr>\n",
              "      <th>1</th>\n",
              "      <td>3</td>\n",
              "      <td>21.676667</td>\n",
              "      <td>fall</td>\n",
              "    </tr>\n",
              "  </tbody>\n",
              "</table>\n",
              "</div>"
            ],
            "text/plain": [
              "   GridPt       mean season\n",
              "0       2   6.176667   fall\n",
              "1       3  21.676667   fall"
            ]
          },
          "metadata": {
            "tags": []
          },
          "execution_count": 196
        }
      ]
    },
    {
      "cell_type": "markdown",
      "metadata": {
        "id": "rb07BUCQhGEo",
        "colab_type": "text"
      },
      "source": [
        "### Full Year"
      ]
    },
    {
      "cell_type": "code",
      "metadata": {
        "id": "95xpYR4zhH78",
        "colab_type": "code",
        "outputId": "87c31b30-9ef7-476f-f6d7-f2684e163fef",
        "colab": {
          "base_uri": "https://localhost:8080/",
          "height": 111
        }
      },
      "source": [
        "df_2013_fall.head(2)"
      ],
      "execution_count": 0,
      "outputs": [
        {
          "output_type": "execute_result",
          "data": {
            "text/html": [
              "<div>\n",
              "<style scoped>\n",
              "    .dataframe tbody tr th:only-of-type {\n",
              "        vertical-align: middle;\n",
              "    }\n",
              "\n",
              "    .dataframe tbody tr th {\n",
              "        vertical-align: top;\n",
              "    }\n",
              "\n",
              "    .dataframe thead th {\n",
              "        text-align: right;\n",
              "    }\n",
              "</style>\n",
              "<table border=\"1\" class=\"dataframe\">\n",
              "  <thead>\n",
              "    <tr style=\"text-align: right;\">\n",
              "      <th></th>\n",
              "      <th>GridPt</th>\n",
              "      <th>mean</th>\n",
              "      <th>season</th>\n",
              "    </tr>\n",
              "  </thead>\n",
              "  <tbody>\n",
              "    <tr>\n",
              "      <th>0</th>\n",
              "      <td>2</td>\n",
              "      <td>6.176667</td>\n",
              "      <td>fall</td>\n",
              "    </tr>\n",
              "    <tr>\n",
              "      <th>1</th>\n",
              "      <td>3</td>\n",
              "      <td>21.676667</td>\n",
              "      <td>fall</td>\n",
              "    </tr>\n",
              "  </tbody>\n",
              "</table>\n",
              "</div>"
            ],
            "text/plain": [
              "   GridPt       mean season\n",
              "0       2   6.176667   fall\n",
              "1       3  21.676667   fall"
            ]
          },
          "metadata": {
            "tags": []
          },
          "execution_count": 197
        }
      ]
    },
    {
      "cell_type": "code",
      "metadata": {
        "id": "wqBbqt4KhIwa",
        "colab_type": "code",
        "outputId": "1db57ee7-dbfd-4177-eed7-c602f109b668",
        "colab": {
          "base_uri": "https://localhost:8080/",
          "height": 111
        }
      },
      "source": [
        "df_2013_spring.head(2)"
      ],
      "execution_count": 0,
      "outputs": [
        {
          "output_type": "execute_result",
          "data": {
            "text/html": [
              "<div>\n",
              "<style scoped>\n",
              "    .dataframe tbody tr th:only-of-type {\n",
              "        vertical-align: middle;\n",
              "    }\n",
              "\n",
              "    .dataframe tbody tr th {\n",
              "        vertical-align: top;\n",
              "    }\n",
              "\n",
              "    .dataframe thead th {\n",
              "        text-align: right;\n",
              "    }\n",
              "</style>\n",
              "<table border=\"1\" class=\"dataframe\">\n",
              "  <thead>\n",
              "    <tr style=\"text-align: right;\">\n",
              "      <th></th>\n",
              "      <th>GridPt</th>\n",
              "      <th>mean</th>\n",
              "      <th>season</th>\n",
              "    </tr>\n",
              "  </thead>\n",
              "  <tbody>\n",
              "    <tr>\n",
              "      <th>0</th>\n",
              "      <td>2</td>\n",
              "      <td>1.913333</td>\n",
              "      <td>spring</td>\n",
              "    </tr>\n",
              "    <tr>\n",
              "      <th>1</th>\n",
              "      <td>3</td>\n",
              "      <td>2.020000</td>\n",
              "      <td>spring</td>\n",
              "    </tr>\n",
              "  </tbody>\n",
              "</table>\n",
              "</div>"
            ],
            "text/plain": [
              "   GridPt      mean  season\n",
              "0       2  1.913333  spring\n",
              "1       3  2.020000  spring"
            ]
          },
          "metadata": {
            "tags": []
          },
          "execution_count": 198
        }
      ]
    },
    {
      "cell_type": "code",
      "metadata": {
        "id": "Hg9SsnT-hIni",
        "colab_type": "code",
        "colab": {}
      },
      "source": [
        "# combine fall and spring dataframes\n",
        "df_2013 = pd.concat([df_2013_spring, df_2013_fall], ignore_index=True, sort=False)"
      ],
      "execution_count": 0,
      "outputs": []
    },
    {
      "cell_type": "code",
      "metadata": {
        "id": "41Xdlg7shP9C",
        "colab_type": "code",
        "outputId": "de20c878-3306-40df-ae31-eb56184926ad",
        "colab": {
          "base_uri": "https://localhost:8080/",
          "height": 187
        }
      },
      "source": [
        "df_2013.info()"
      ],
      "execution_count": 0,
      "outputs": [
        {
          "output_type": "stream",
          "text": [
            "<class 'pandas.core.frame.DataFrame'>\n",
            "RangeIndex: 596 entries, 0 to 595\n",
            "Data columns (total 3 columns):\n",
            " #   Column  Non-Null Count  Dtype  \n",
            "---  ------  --------------  -----  \n",
            " 0   GridPt  596 non-null    int64  \n",
            " 1   mean    261 non-null    float64\n",
            " 2   season  596 non-null    object \n",
            "dtypes: float64(1), int64(1), object(1)\n",
            "memory usage: 14.1+ KB\n"
          ],
          "name": "stdout"
        }
      ]
    },
    {
      "cell_type": "code",
      "metadata": {
        "id": "6XqdIOePhP6g",
        "colab_type": "code",
        "colab": {}
      },
      "source": [
        "# set 'date'\n",
        "df_2013['date'] = pd.NaT\n",
        "\n",
        "# set 'year'\n",
        "df_2013['year'] = 2013"
      ],
      "execution_count": 0,
      "outputs": []
    },
    {
      "cell_type": "code",
      "metadata": {
        "id": "nV0otx23hPy2",
        "colab_type": "code",
        "outputId": "e95b7f70-a1c1-439a-e4d4-a7eeac98c060",
        "colab": {
          "base_uri": "https://localhost:8080/",
          "height": 111
        }
      },
      "source": [
        "df_2013.head(2)"
      ],
      "execution_count": 0,
      "outputs": [
        {
          "output_type": "execute_result",
          "data": {
            "text/html": [
              "<div>\n",
              "<style scoped>\n",
              "    .dataframe tbody tr th:only-of-type {\n",
              "        vertical-align: middle;\n",
              "    }\n",
              "\n",
              "    .dataframe tbody tr th {\n",
              "        vertical-align: top;\n",
              "    }\n",
              "\n",
              "    .dataframe thead th {\n",
              "        text-align: right;\n",
              "    }\n",
              "</style>\n",
              "<table border=\"1\" class=\"dataframe\">\n",
              "  <thead>\n",
              "    <tr style=\"text-align: right;\">\n",
              "      <th></th>\n",
              "      <th>GridPt</th>\n",
              "      <th>mean</th>\n",
              "      <th>season</th>\n",
              "      <th>date</th>\n",
              "      <th>year</th>\n",
              "    </tr>\n",
              "  </thead>\n",
              "  <tbody>\n",
              "    <tr>\n",
              "      <th>0</th>\n",
              "      <td>2</td>\n",
              "      <td>1.913333</td>\n",
              "      <td>spring</td>\n",
              "      <td>NaT</td>\n",
              "      <td>2013</td>\n",
              "    </tr>\n",
              "    <tr>\n",
              "      <th>1</th>\n",
              "      <td>3</td>\n",
              "      <td>2.020000</td>\n",
              "      <td>spring</td>\n",
              "      <td>NaT</td>\n",
              "      <td>2013</td>\n",
              "    </tr>\n",
              "  </tbody>\n",
              "</table>\n",
              "</div>"
            ],
            "text/plain": [
              "   GridPt      mean  season date  year\n",
              "0       2  1.913333  spring  NaT  2013\n",
              "1       3  2.020000  spring  NaT  2013"
            ]
          },
          "metadata": {
            "tags": []
          },
          "execution_count": 202
        }
      ]
    },
    {
      "cell_type": "markdown",
      "metadata": {
        "id": "wZ2QSXqdTYLs",
        "colab_type": "text"
      },
      "source": [
        "## 2012"
      ]
    },
    {
      "cell_type": "markdown",
      "metadata": {
        "id": "p3ByTOhwUTdY",
        "colab_type": "text"
      },
      "source": [
        "### Spring"
      ]
    },
    {
      "cell_type": "code",
      "metadata": {
        "id": "ZhmLmrQ3S8_X",
        "colab_type": "code",
        "colab": {}
      },
      "source": [
        "df_2012_spring = df_2010_15.loc[:, ['GridPt', 'S12_1', 'S12_2', 'S12_3']]"
      ],
      "execution_count": 0,
      "outputs": []
    },
    {
      "cell_type": "code",
      "metadata": {
        "colab_type": "code",
        "outputId": "27bba8c4-395d-4019-a535-48ae6a09ee48",
        "id": "TZeiEt-IVzHO",
        "colab": {
          "base_uri": "https://localhost:8080/",
          "height": 204
        }
      },
      "source": [
        "# this show that 'S12_3' did not read in as a float datatype\n",
        "df_2012_spring.info()"
      ],
      "execution_count": 0,
      "outputs": [
        {
          "output_type": "stream",
          "text": [
            "<class 'pandas.core.frame.DataFrame'>\n",
            "RangeIndex: 298 entries, 0 to 297\n",
            "Data columns (total 4 columns):\n",
            " #   Column  Non-Null Count  Dtype  \n",
            "---  ------  --------------  -----  \n",
            " 0   GridPt  298 non-null    int64  \n",
            " 1   S12_1   148 non-null    float64\n",
            " 2   S12_2   148 non-null    float64\n",
            " 3   S12_3   147 non-null    object \n",
            "dtypes: float64(2), int64(1), object(1)\n",
            "memory usage: 9.4+ KB\n"
          ],
          "name": "stdout"
        }
      ]
    },
    {
      "cell_type": "code",
      "metadata": {
        "colab_type": "code",
        "outputId": "f733a4b6-ac4d-4c6e-b9fe-35022bb7bc6d",
        "id": "ZyjlHJ_CVycV",
        "colab": {
          "base_uri": "https://localhost:8080/",
          "height": 289
        }
      },
      "source": [
        "# this reveals a string '  -'\n",
        "df_2012_spring.S12_3.unique()"
      ],
      "execution_count": 0,
      "outputs": [
        {
          "output_type": "execute_result",
          "data": {
            "text/plain": [
              "array([nan, '7.30', '0.61', '0.00', '10.78', '3.54', '1.86', '4.66',\n",
              "       '6.45', '0.90', '5.92', '2.14', '0.53', '2.72', '2.27', '2.10',\n",
              "       '9.03', '7.29', '4.12', '1.16', '0.81', '4.23', '1.94', '1.88',\n",
              "       '7.41', '1.29', '3.85', '20.26', '5.52', '7.42', '2.12', '2.22',\n",
              "       '0.44', '0.75', '0.66', '6.27', '1.39', '6.77', '10.27', '10.48',\n",
              "       '7.09', '14.22', '3.06', '7.25', '0.14', '3.95', '4.11', '6.59',\n",
              "       '3.83', '1.45', '22.97', '2.16', '2.60', '5.90', '11.75', '5.29',\n",
              "       '4.20', '9.99', '2.59', '6.31', '1.08', '4.73', '20.19', '2.54',\n",
              "       '10.40', '4.42', '0.54', '20.57', '3.20', '8.90', '7.02', '13.87',\n",
              "       '  -', '8.57', '22.71', '12.96', '2.25', '5.24', '1.96', '8.05',\n",
              "       '0.56', '2.68', '7.11', '13.09', '6.25', '7.23', '4.39', '0.67',\n",
              "       '2.55', '10.04', '4.75', '8.39', '1.40', '2.01', '2.11', '3.13',\n",
              "       '9.10', '0.89', '1.84', '5.11', '1.63', '8.30', '17.29', '0.52',\n",
              "       '0.70', '18.43', '12.11', '16.81', '12.29', '3.33', '27.45',\n",
              "       '1.20', '12.77', '17.11', '5.59', '3.51', '21.88', '5.72', '2.20',\n",
              "       '31.73', '5.62'], dtype=object)"
            ]
          },
          "metadata": {
            "tags": []
          },
          "execution_count": 205
        }
      ]
    },
    {
      "cell_type": "code",
      "metadata": {
        "id": "fewcmx7BU-a0",
        "colab_type": "code",
        "outputId": "e9d0d243-6b04-4b38-9f04-84bc97226ddb",
        "colab": {
          "base_uri": "https://localhost:8080/",
          "height": 80
        }
      },
      "source": [
        "# find the row with ' -'\n",
        "df_2012_spring[df_2012_spring.S12_3 == '  -']"
      ],
      "execution_count": 0,
      "outputs": [
        {
          "output_type": "execute_result",
          "data": {
            "text/html": [
              "<div>\n",
              "<style scoped>\n",
              "    .dataframe tbody tr th:only-of-type {\n",
              "        vertical-align: middle;\n",
              "    }\n",
              "\n",
              "    .dataframe tbody tr th {\n",
              "        vertical-align: top;\n",
              "    }\n",
              "\n",
              "    .dataframe thead th {\n",
              "        text-align: right;\n",
              "    }\n",
              "</style>\n",
              "<table border=\"1\" class=\"dataframe\">\n",
              "  <thead>\n",
              "    <tr style=\"text-align: right;\">\n",
              "      <th></th>\n",
              "      <th>GridPt</th>\n",
              "      <th>S12_1</th>\n",
              "      <th>S12_2</th>\n",
              "      <th>S12_3</th>\n",
              "    </tr>\n",
              "  </thead>\n",
              "  <tbody>\n",
              "    <tr>\n",
              "      <th>165</th>\n",
              "      <td>211</td>\n",
              "      <td>2.99</td>\n",
              "      <td>2.85</td>\n",
              "      <td>-</td>\n",
              "    </tr>\n",
              "  </tbody>\n",
              "</table>\n",
              "</div>"
            ],
            "text/plain": [
              "     GridPt  S12_1  S12_2 S12_3\n",
              "165     211   2.99   2.85     -"
            ]
          },
          "metadata": {
            "tags": []
          },
          "execution_count": 206
        }
      ]
    },
    {
      "cell_type": "code",
      "metadata": {
        "id": "8cwJ8jtMU-XM",
        "colab_type": "code",
        "colab": {}
      },
      "source": [
        "# replace the ' -' in the row above with NaN\n",
        "df_2012_spring.loc[165, 'S12_3'] = np.nan"
      ],
      "execution_count": 0,
      "outputs": []
    },
    {
      "cell_type": "code",
      "metadata": {
        "id": "bGbgsjDaU-Uu",
        "colab_type": "code",
        "colab": {}
      },
      "source": [
        "# Update datatype to float from object\n",
        "df_2012_spring = df_2012_spring.astype({'S12_3': 'float'})"
      ],
      "execution_count": 0,
      "outputs": []
    },
    {
      "cell_type": "code",
      "metadata": {
        "id": "jsJmwd72WpKC",
        "colab_type": "code",
        "outputId": "babe2704-a586-4a09-cfb4-fc48bad54e1f",
        "colab": {
          "base_uri": "https://localhost:8080/",
          "height": 204
        }
      },
      "source": [
        "# Now the data types look right\n",
        "df_2012_spring.info()"
      ],
      "execution_count": 0,
      "outputs": [
        {
          "output_type": "stream",
          "text": [
            "<class 'pandas.core.frame.DataFrame'>\n",
            "RangeIndex: 298 entries, 0 to 297\n",
            "Data columns (total 4 columns):\n",
            " #   Column  Non-Null Count  Dtype  \n",
            "---  ------  --------------  -----  \n",
            " 0   GridPt  298 non-null    int64  \n",
            " 1   S12_1   148 non-null    float64\n",
            " 2   S12_2   148 non-null    float64\n",
            " 3   S12_3   146 non-null    float64\n",
            "dtypes: float64(3), int64(1)\n",
            "memory usage: 9.4 KB\n"
          ],
          "name": "stdout"
        }
      ]
    },
    {
      "cell_type": "code",
      "metadata": {
        "id": "WSc44FEEWpHM",
        "colab_type": "code",
        "colab": {}
      },
      "source": [
        "df_2012_spring['mean'] = df_2012_spring[['S12_1', 'S12_2', 'S12_3']].mean(axis=1)"
      ],
      "execution_count": 0,
      "outputs": []
    },
    {
      "cell_type": "code",
      "metadata": {
        "id": "2x5pyZ7Yh3Tp",
        "colab_type": "code",
        "colab": {}
      },
      "source": [
        "df_2012_spring = df_2012_spring.loc[:, ['GridPt', 'mean']]"
      ],
      "execution_count": 0,
      "outputs": []
    },
    {
      "cell_type": "code",
      "metadata": {
        "id": "RIjwkA4ziBOb",
        "colab_type": "code",
        "colab": {}
      },
      "source": [
        "# set 'season' to spring\n",
        "df_2012_spring['season'] = 'spring'"
      ],
      "execution_count": 0,
      "outputs": []
    },
    {
      "cell_type": "code",
      "metadata": {
        "id": "kOiAHXWVWpDh",
        "colab_type": "code",
        "outputId": "9a05977f-763f-4d44-8f87-22ab92d09672",
        "colab": {
          "base_uri": "https://localhost:8080/",
          "height": 111
        }
      },
      "source": [
        "df_2012_spring.head(2)"
      ],
      "execution_count": 0,
      "outputs": [
        {
          "output_type": "execute_result",
          "data": {
            "text/html": [
              "<div>\n",
              "<style scoped>\n",
              "    .dataframe tbody tr th:only-of-type {\n",
              "        vertical-align: middle;\n",
              "    }\n",
              "\n",
              "    .dataframe tbody tr th {\n",
              "        vertical-align: top;\n",
              "    }\n",
              "\n",
              "    .dataframe thead th {\n",
              "        text-align: right;\n",
              "    }\n",
              "</style>\n",
              "<table border=\"1\" class=\"dataframe\">\n",
              "  <thead>\n",
              "    <tr style=\"text-align: right;\">\n",
              "      <th></th>\n",
              "      <th>GridPt</th>\n",
              "      <th>mean</th>\n",
              "      <th>season</th>\n",
              "    </tr>\n",
              "  </thead>\n",
              "  <tbody>\n",
              "    <tr>\n",
              "      <th>0</th>\n",
              "      <td>2</td>\n",
              "      <td>7.875000</td>\n",
              "      <td>spring</td>\n",
              "    </tr>\n",
              "    <tr>\n",
              "      <th>1</th>\n",
              "      <td>3</td>\n",
              "      <td>4.726667</td>\n",
              "      <td>spring</td>\n",
              "    </tr>\n",
              "  </tbody>\n",
              "</table>\n",
              "</div>"
            ],
            "text/plain": [
              "   GridPt      mean  season\n",
              "0       2  7.875000  spring\n",
              "1       3  4.726667  spring"
            ]
          },
          "metadata": {
            "tags": []
          },
          "execution_count": 213
        }
      ]
    },
    {
      "cell_type": "markdown",
      "metadata": {
        "id": "sDIZtLo9YTJq",
        "colab_type": "text"
      },
      "source": [
        "### Fall"
      ]
    },
    {
      "cell_type": "code",
      "metadata": {
        "id": "XjuBIM-cYWW5",
        "colab_type": "code",
        "colab": {}
      },
      "source": [
        "df_2012_fall = df_2010_15[['GridPt', 'F12_1', 'F12_2', 'F12_3']]"
      ],
      "execution_count": 0,
      "outputs": []
    },
    {
      "cell_type": "code",
      "metadata": {
        "id": "K15FSv05YWMS",
        "colab_type": "code",
        "outputId": "58e0c92e-6fb1-4d08-b9bf-0f3b3eac41a3",
        "colab": {
          "base_uri": "https://localhost:8080/",
          "height": 204
        }
      },
      "source": [
        "df_2012_fall.info()"
      ],
      "execution_count": 0,
      "outputs": [
        {
          "output_type": "stream",
          "text": [
            "<class 'pandas.core.frame.DataFrame'>\n",
            "RangeIndex: 298 entries, 0 to 297\n",
            "Data columns (total 4 columns):\n",
            " #   Column  Non-Null Count  Dtype  \n",
            "---  ------  --------------  -----  \n",
            " 0   GridPt  298 non-null    int64  \n",
            " 1   F12_1   148 non-null    float64\n",
            " 2   F12_2   148 non-null    float64\n",
            " 3   F12_3   148 non-null    float64\n",
            "dtypes: float64(3), int64(1)\n",
            "memory usage: 9.4 KB\n"
          ],
          "name": "stdout"
        }
      ]
    },
    {
      "cell_type": "code",
      "metadata": {
        "id": "iNZjnzemYWEi",
        "colab_type": "code",
        "outputId": "dd9efc2c-842c-4946-e61e-a07e727bf8a8",
        "colab": {
          "base_uri": "https://localhost:8080/",
          "height": 119
        }
      },
      "source": [
        "df_2012_fall['mean'] = df_2012_fall.loc[:, ['F12_1', 'F12_2', 'F12_3']].mean(axis=1)"
      ],
      "execution_count": 0,
      "outputs": [
        {
          "output_type": "stream",
          "text": [
            "/usr/local/lib/python3.6/dist-packages/ipykernel_launcher.py:1: SettingWithCopyWarning: \n",
            "A value is trying to be set on a copy of a slice from a DataFrame.\n",
            "Try using .loc[row_indexer,col_indexer] = value instead\n",
            "\n",
            "See the caveats in the documentation: https://pandas.pydata.org/pandas-docs/stable/user_guide/indexing.html#returning-a-view-versus-a-copy\n",
            "  \"\"\"Entry point for launching an IPython kernel.\n"
          ],
          "name": "stderr"
        }
      ]
    },
    {
      "cell_type": "code",
      "metadata": {
        "id": "V50zt9Y_iRKw",
        "colab_type": "code",
        "colab": {}
      },
      "source": [
        "df_2012_fall = df_2012_fall.loc[:, ['GridPt', 'mean']]"
      ],
      "execution_count": 0,
      "outputs": []
    },
    {
      "cell_type": "code",
      "metadata": {
        "id": "YL2TwWY_i2Up",
        "colab_type": "code",
        "colab": {}
      },
      "source": [
        "# set 'season' to fall\n",
        "df_2012_fall['season'] = 'fall'"
      ],
      "execution_count": 0,
      "outputs": []
    },
    {
      "cell_type": "code",
      "metadata": {
        "id": "umcew-qgYV7b",
        "colab_type": "code",
        "outputId": "e5385570-e70d-4125-f25b-53cdcb5eaf20",
        "colab": {
          "base_uri": "https://localhost:8080/",
          "height": 111
        }
      },
      "source": [
        "df_2012_fall.head(2)"
      ],
      "execution_count": 0,
      "outputs": [
        {
          "output_type": "execute_result",
          "data": {
            "text/html": [
              "<div>\n",
              "<style scoped>\n",
              "    .dataframe tbody tr th:only-of-type {\n",
              "        vertical-align: middle;\n",
              "    }\n",
              "\n",
              "    .dataframe tbody tr th {\n",
              "        vertical-align: top;\n",
              "    }\n",
              "\n",
              "    .dataframe thead th {\n",
              "        text-align: right;\n",
              "    }\n",
              "</style>\n",
              "<table border=\"1\" class=\"dataframe\">\n",
              "  <thead>\n",
              "    <tr style=\"text-align: right;\">\n",
              "      <th></th>\n",
              "      <th>GridPt</th>\n",
              "      <th>mean</th>\n",
              "      <th>season</th>\n",
              "    </tr>\n",
              "  </thead>\n",
              "  <tbody>\n",
              "    <tr>\n",
              "      <th>0</th>\n",
              "      <td>2</td>\n",
              "      <td>13.003333</td>\n",
              "      <td>fall</td>\n",
              "    </tr>\n",
              "    <tr>\n",
              "      <th>1</th>\n",
              "      <td>3</td>\n",
              "      <td>11.276667</td>\n",
              "      <td>fall</td>\n",
              "    </tr>\n",
              "  </tbody>\n",
              "</table>\n",
              "</div>"
            ],
            "text/plain": [
              "   GridPt       mean season\n",
              "0       2  13.003333   fall\n",
              "1       3  11.276667   fall"
            ]
          },
          "metadata": {
            "tags": []
          },
          "execution_count": 219
        }
      ]
    },
    {
      "cell_type": "markdown",
      "metadata": {
        "id": "cA2QMBjni9X4",
        "colab_type": "text"
      },
      "source": [
        "### Full Year"
      ]
    },
    {
      "cell_type": "code",
      "metadata": {
        "id": "6q3sA5_Di_jV",
        "colab_type": "code",
        "outputId": "dde5a260-547e-4560-82d5-892fccfd3267",
        "colab": {
          "base_uri": "https://localhost:8080/",
          "height": 111
        }
      },
      "source": [
        "df_2012_spring.head(2)"
      ],
      "execution_count": 0,
      "outputs": [
        {
          "output_type": "execute_result",
          "data": {
            "text/html": [
              "<div>\n",
              "<style scoped>\n",
              "    .dataframe tbody tr th:only-of-type {\n",
              "        vertical-align: middle;\n",
              "    }\n",
              "\n",
              "    .dataframe tbody tr th {\n",
              "        vertical-align: top;\n",
              "    }\n",
              "\n",
              "    .dataframe thead th {\n",
              "        text-align: right;\n",
              "    }\n",
              "</style>\n",
              "<table border=\"1\" class=\"dataframe\">\n",
              "  <thead>\n",
              "    <tr style=\"text-align: right;\">\n",
              "      <th></th>\n",
              "      <th>GridPt</th>\n",
              "      <th>mean</th>\n",
              "      <th>season</th>\n",
              "    </tr>\n",
              "  </thead>\n",
              "  <tbody>\n",
              "    <tr>\n",
              "      <th>0</th>\n",
              "      <td>2</td>\n",
              "      <td>7.875000</td>\n",
              "      <td>spring</td>\n",
              "    </tr>\n",
              "    <tr>\n",
              "      <th>1</th>\n",
              "      <td>3</td>\n",
              "      <td>4.726667</td>\n",
              "      <td>spring</td>\n",
              "    </tr>\n",
              "  </tbody>\n",
              "</table>\n",
              "</div>"
            ],
            "text/plain": [
              "   GridPt      mean  season\n",
              "0       2  7.875000  spring\n",
              "1       3  4.726667  spring"
            ]
          },
          "metadata": {
            "tags": []
          },
          "execution_count": 220
        }
      ]
    },
    {
      "cell_type": "code",
      "metadata": {
        "id": "D7lfZZ8tjDqJ",
        "colab_type": "code",
        "outputId": "714029e7-8188-4d9b-b63b-3b2f6f5554be",
        "colab": {
          "base_uri": "https://localhost:8080/",
          "height": 111
        }
      },
      "source": [
        "df_2012_fall.head(2)"
      ],
      "execution_count": 0,
      "outputs": [
        {
          "output_type": "execute_result",
          "data": {
            "text/html": [
              "<div>\n",
              "<style scoped>\n",
              "    .dataframe tbody tr th:only-of-type {\n",
              "        vertical-align: middle;\n",
              "    }\n",
              "\n",
              "    .dataframe tbody tr th {\n",
              "        vertical-align: top;\n",
              "    }\n",
              "\n",
              "    .dataframe thead th {\n",
              "        text-align: right;\n",
              "    }\n",
              "</style>\n",
              "<table border=\"1\" class=\"dataframe\">\n",
              "  <thead>\n",
              "    <tr style=\"text-align: right;\">\n",
              "      <th></th>\n",
              "      <th>GridPt</th>\n",
              "      <th>mean</th>\n",
              "      <th>season</th>\n",
              "    </tr>\n",
              "  </thead>\n",
              "  <tbody>\n",
              "    <tr>\n",
              "      <th>0</th>\n",
              "      <td>2</td>\n",
              "      <td>13.003333</td>\n",
              "      <td>fall</td>\n",
              "    </tr>\n",
              "    <tr>\n",
              "      <th>1</th>\n",
              "      <td>3</td>\n",
              "      <td>11.276667</td>\n",
              "      <td>fall</td>\n",
              "    </tr>\n",
              "  </tbody>\n",
              "</table>\n",
              "</div>"
            ],
            "text/plain": [
              "   GridPt       mean season\n",
              "0       2  13.003333   fall\n",
              "1       3  11.276667   fall"
            ]
          },
          "metadata": {
            "tags": []
          },
          "execution_count": 221
        }
      ]
    },
    {
      "cell_type": "code",
      "metadata": {
        "id": "tzlgu8N7jDlS",
        "colab_type": "code",
        "colab": {}
      },
      "source": [
        "df_2012 = pd.concat([df_2012_spring, df_2012_fall], ignore_index=True, sort=False)"
      ],
      "execution_count": 0,
      "outputs": []
    },
    {
      "cell_type": "code",
      "metadata": {
        "id": "CaBKy7v0jDh2",
        "colab_type": "code",
        "colab": {}
      },
      "source": [
        "# set 'date'\n",
        "df_2012['date'] = pd.NaT\n",
        "\n",
        "# set 'year'\n",
        "df_2012['year'] = 2012"
      ],
      "execution_count": 0,
      "outputs": []
    },
    {
      "cell_type": "code",
      "metadata": {
        "id": "VQm08WqmjDah",
        "colab_type": "code",
        "outputId": "003bcebb-81cb-4c87-b09a-f64d606521b8",
        "colab": {
          "base_uri": "https://localhost:8080/",
          "height": 111
        }
      },
      "source": [
        "df_2012.head(2)"
      ],
      "execution_count": 0,
      "outputs": [
        {
          "output_type": "execute_result",
          "data": {
            "text/html": [
              "<div>\n",
              "<style scoped>\n",
              "    .dataframe tbody tr th:only-of-type {\n",
              "        vertical-align: middle;\n",
              "    }\n",
              "\n",
              "    .dataframe tbody tr th {\n",
              "        vertical-align: top;\n",
              "    }\n",
              "\n",
              "    .dataframe thead th {\n",
              "        text-align: right;\n",
              "    }\n",
              "</style>\n",
              "<table border=\"1\" class=\"dataframe\">\n",
              "  <thead>\n",
              "    <tr style=\"text-align: right;\">\n",
              "      <th></th>\n",
              "      <th>GridPt</th>\n",
              "      <th>mean</th>\n",
              "      <th>season</th>\n",
              "      <th>date</th>\n",
              "      <th>year</th>\n",
              "    </tr>\n",
              "  </thead>\n",
              "  <tbody>\n",
              "    <tr>\n",
              "      <th>0</th>\n",
              "      <td>2</td>\n",
              "      <td>7.875000</td>\n",
              "      <td>spring</td>\n",
              "      <td>NaT</td>\n",
              "      <td>2012</td>\n",
              "    </tr>\n",
              "    <tr>\n",
              "      <th>1</th>\n",
              "      <td>3</td>\n",
              "      <td>4.726667</td>\n",
              "      <td>spring</td>\n",
              "      <td>NaT</td>\n",
              "      <td>2012</td>\n",
              "    </tr>\n",
              "  </tbody>\n",
              "</table>\n",
              "</div>"
            ],
            "text/plain": [
              "   GridPt      mean  season date  year\n",
              "0       2  7.875000  spring  NaT  2012\n",
              "1       3  4.726667  spring  NaT  2012"
            ]
          },
          "metadata": {
            "tags": []
          },
          "execution_count": 224
        }
      ]
    },
    {
      "cell_type": "markdown",
      "metadata": {
        "id": "F3hvUNBirqeZ",
        "colab_type": "text"
      },
      "source": [
        "## 2011"
      ]
    },
    {
      "cell_type": "markdown",
      "metadata": {
        "id": "guXW9Rm_rs0x",
        "colab_type": "text"
      },
      "source": [
        "### Spring"
      ]
    },
    {
      "cell_type": "code",
      "metadata": {
        "id": "kmIOVhJ4i2mx",
        "colab_type": "code",
        "colab": {}
      },
      "source": [
        "df_2011_spring = df_2010_15.loc[:, ['GridPt', 'S11_1', 'S11_2', 'S11_3']]"
      ],
      "execution_count": 0,
      "outputs": []
    },
    {
      "cell_type": "code",
      "metadata": {
        "id": "kX5Y11uE3mYo",
        "colab_type": "code",
        "outputId": "c4ec9b74-2466-477d-b094-72bda3875ed9",
        "colab": {
          "base_uri": "https://localhost:8080/",
          "height": 204
        }
      },
      "source": [
        "# this shows that S11_3 is typed as an object\n",
        "# further inspection shows a string value in \"S11_3\" of \"BB\"\n",
        "df_2011_spring.info()"
      ],
      "execution_count": 0,
      "outputs": [
        {
          "output_type": "stream",
          "text": [
            "<class 'pandas.core.frame.DataFrame'>\n",
            "RangeIndex: 298 entries, 0 to 297\n",
            "Data columns (total 4 columns):\n",
            " #   Column  Non-Null Count  Dtype  \n",
            "---  ------  --------------  -----  \n",
            " 0   GridPt  298 non-null    int64  \n",
            " 1   S11_1   69 non-null     float64\n",
            " 2   S11_2   69 non-null     float64\n",
            " 3   S11_3   69 non-null     object \n",
            "dtypes: float64(2), int64(1), object(1)\n",
            "memory usage: 9.4+ KB\n"
          ],
          "name": "stdout"
        }
      ]
    },
    {
      "cell_type": "code",
      "metadata": {
        "id": "4F8i9QSx2Mi9",
        "colab_type": "code",
        "colab": {}
      },
      "source": [
        "# The row with \"BB\"\n",
        "df_2011_spring.loc[227, \"S11_3\"] = np.nan"
      ],
      "execution_count": 0,
      "outputs": []
    },
    {
      "cell_type": "code",
      "metadata": {
        "id": "ZcIqN0udQ9Nt",
        "colab_type": "code",
        "colab": {}
      },
      "source": [
        "# Update datatype to float from object\n",
        "df_2011_spring = df_2011_spring.astype({'S11_3': 'float'})"
      ],
      "execution_count": 0,
      "outputs": []
    },
    {
      "cell_type": "code",
      "metadata": {
        "id": "8qOtYSbuSFq-",
        "colab_type": "code",
        "outputId": "151c8569-5eb8-445c-baa8-c42e2c5b6074",
        "colab": {
          "base_uri": "https://localhost:8080/",
          "height": 204
        }
      },
      "source": [
        "df_2011_spring.info()"
      ],
      "execution_count": 0,
      "outputs": [
        {
          "output_type": "stream",
          "text": [
            "<class 'pandas.core.frame.DataFrame'>\n",
            "RangeIndex: 298 entries, 0 to 297\n",
            "Data columns (total 4 columns):\n",
            " #   Column  Non-Null Count  Dtype  \n",
            "---  ------  --------------  -----  \n",
            " 0   GridPt  298 non-null    int64  \n",
            " 1   S11_1   69 non-null     float64\n",
            " 2   S11_2   69 non-null     float64\n",
            " 3   S11_3   68 non-null     float64\n",
            "dtypes: float64(3), int64(1)\n",
            "memory usage: 9.4 KB\n"
          ],
          "name": "stdout"
        }
      ]
    },
    {
      "cell_type": "code",
      "metadata": {
        "id": "3Ps_zgFLi2ki",
        "colab_type": "code",
        "colab": {}
      },
      "source": [
        "df_2011_spring['mean'] = df_2011_spring[['S11_1', 'S11_2', 'S11_3']].mean(axis=1)"
      ],
      "execution_count": 0,
      "outputs": []
    },
    {
      "cell_type": "code",
      "metadata": {
        "id": "DujTTrxAjgbB",
        "colab_type": "code",
        "colab": {}
      },
      "source": [
        "df_2011_spring = df_2011_spring.loc[:, ['GridPt', 'mean']]"
      ],
      "execution_count": 0,
      "outputs": []
    },
    {
      "cell_type": "code",
      "metadata": {
        "id": "QBOCkoedjgXw",
        "colab_type": "code",
        "colab": {}
      },
      "source": [
        "# set 'season' to spring\n",
        "df_2011_spring['season'] = 'spring'"
      ],
      "execution_count": 0,
      "outputs": []
    },
    {
      "cell_type": "code",
      "metadata": {
        "id": "K17dYh5Bi2hR",
        "colab_type": "code",
        "outputId": "d98c2335-f25a-4b70-ecec-a41dabce977b",
        "colab": {
          "base_uri": "https://localhost:8080/",
          "height": 111
        }
      },
      "source": [
        "df_2011_spring.head(2)"
      ],
      "execution_count": 0,
      "outputs": [
        {
          "output_type": "execute_result",
          "data": {
            "text/html": [
              "<div>\n",
              "<style scoped>\n",
              "    .dataframe tbody tr th:only-of-type {\n",
              "        vertical-align: middle;\n",
              "    }\n",
              "\n",
              "    .dataframe tbody tr th {\n",
              "        vertical-align: top;\n",
              "    }\n",
              "\n",
              "    .dataframe thead th {\n",
              "        text-align: right;\n",
              "    }\n",
              "</style>\n",
              "<table border=\"1\" class=\"dataframe\">\n",
              "  <thead>\n",
              "    <tr style=\"text-align: right;\">\n",
              "      <th></th>\n",
              "      <th>GridPt</th>\n",
              "      <th>mean</th>\n",
              "      <th>season</th>\n",
              "    </tr>\n",
              "  </thead>\n",
              "  <tbody>\n",
              "    <tr>\n",
              "      <th>0</th>\n",
              "      <td>2</td>\n",
              "      <td>7.096667</td>\n",
              "      <td>spring</td>\n",
              "    </tr>\n",
              "    <tr>\n",
              "      <th>1</th>\n",
              "      <td>3</td>\n",
              "      <td>3.836667</td>\n",
              "      <td>spring</td>\n",
              "    </tr>\n",
              "  </tbody>\n",
              "</table>\n",
              "</div>"
            ],
            "text/plain": [
              "   GridPt      mean  season\n",
              "0       2  7.096667  spring\n",
              "1       3  3.836667  spring"
            ]
          },
          "metadata": {
            "tags": []
          },
          "execution_count": 233
        }
      ]
    },
    {
      "cell_type": "markdown",
      "metadata": {
        "id": "-PaG0OcXStXs",
        "colab_type": "text"
      },
      "source": [
        "### Fall"
      ]
    },
    {
      "cell_type": "code",
      "metadata": {
        "id": "85KqWDmrSu1R",
        "colab_type": "code",
        "colab": {}
      },
      "source": [
        "df_2011_fall = df_2010_15.loc[:, ['GridPt', 'F11_1', 'F11_2', 'F11_3']]"
      ],
      "execution_count": 0,
      "outputs": []
    },
    {
      "cell_type": "code",
      "metadata": {
        "id": "Bd_IZnS0S9PZ",
        "colab_type": "code",
        "colab": {}
      },
      "source": [
        "df_2011_fall['mean'] = df_2011_fall[['F11_1', 'F11_2', 'F11_3']].mean(axis=1)"
      ],
      "execution_count": 0,
      "outputs": []
    },
    {
      "cell_type": "code",
      "metadata": {
        "id": "cnDQBhmujxH5",
        "colab_type": "code",
        "colab": {}
      },
      "source": [
        "df_2011_fall = df_2011_fall.loc[:, ['GridPt', 'mean']]"
      ],
      "execution_count": 0,
      "outputs": []
    },
    {
      "cell_type": "code",
      "metadata": {
        "id": "lTiIHR-njwkk",
        "colab_type": "code",
        "colab": {}
      },
      "source": [
        "df_2011_fall['season'] = 'fall'"
      ],
      "execution_count": 0,
      "outputs": []
    },
    {
      "cell_type": "code",
      "metadata": {
        "id": "Wo2SMngdS9La",
        "colab_type": "code",
        "outputId": "15a18217-f750-40e8-9fcf-459ff5863900",
        "colab": {
          "base_uri": "https://localhost:8080/",
          "height": 111
        }
      },
      "source": [
        "df_2011_fall.head(2)"
      ],
      "execution_count": 0,
      "outputs": [
        {
          "output_type": "execute_result",
          "data": {
            "text/html": [
              "<div>\n",
              "<style scoped>\n",
              "    .dataframe tbody tr th:only-of-type {\n",
              "        vertical-align: middle;\n",
              "    }\n",
              "\n",
              "    .dataframe tbody tr th {\n",
              "        vertical-align: top;\n",
              "    }\n",
              "\n",
              "    .dataframe thead th {\n",
              "        text-align: right;\n",
              "    }\n",
              "</style>\n",
              "<table border=\"1\" class=\"dataframe\">\n",
              "  <thead>\n",
              "    <tr style=\"text-align: right;\">\n",
              "      <th></th>\n",
              "      <th>GridPt</th>\n",
              "      <th>mean</th>\n",
              "      <th>season</th>\n",
              "    </tr>\n",
              "  </thead>\n",
              "  <tbody>\n",
              "    <tr>\n",
              "      <th>0</th>\n",
              "      <td>2</td>\n",
              "      <td>8.990000</td>\n",
              "      <td>fall</td>\n",
              "    </tr>\n",
              "    <tr>\n",
              "      <th>1</th>\n",
              "      <td>3</td>\n",
              "      <td>7.823333</td>\n",
              "      <td>fall</td>\n",
              "    </tr>\n",
              "  </tbody>\n",
              "</table>\n",
              "</div>"
            ],
            "text/plain": [
              "   GridPt      mean season\n",
              "0       2  8.990000   fall\n",
              "1       3  7.823333   fall"
            ]
          },
          "metadata": {
            "tags": []
          },
          "execution_count": 238
        }
      ]
    },
    {
      "cell_type": "markdown",
      "metadata": {
        "id": "MpREos3Sj6gK",
        "colab_type": "text"
      },
      "source": [
        "### Full Year"
      ]
    },
    {
      "cell_type": "code",
      "metadata": {
        "id": "RFEOpiOrj8Pq",
        "colab_type": "code",
        "outputId": "08791df2-a659-4ead-a326-536e896d7005",
        "colab": {
          "base_uri": "https://localhost:8080/",
          "height": 111
        }
      },
      "source": [
        "df_2011_spring.head(2)"
      ],
      "execution_count": 0,
      "outputs": [
        {
          "output_type": "execute_result",
          "data": {
            "text/html": [
              "<div>\n",
              "<style scoped>\n",
              "    .dataframe tbody tr th:only-of-type {\n",
              "        vertical-align: middle;\n",
              "    }\n",
              "\n",
              "    .dataframe tbody tr th {\n",
              "        vertical-align: top;\n",
              "    }\n",
              "\n",
              "    .dataframe thead th {\n",
              "        text-align: right;\n",
              "    }\n",
              "</style>\n",
              "<table border=\"1\" class=\"dataframe\">\n",
              "  <thead>\n",
              "    <tr style=\"text-align: right;\">\n",
              "      <th></th>\n",
              "      <th>GridPt</th>\n",
              "      <th>mean</th>\n",
              "      <th>season</th>\n",
              "    </tr>\n",
              "  </thead>\n",
              "  <tbody>\n",
              "    <tr>\n",
              "      <th>0</th>\n",
              "      <td>2</td>\n",
              "      <td>7.096667</td>\n",
              "      <td>spring</td>\n",
              "    </tr>\n",
              "    <tr>\n",
              "      <th>1</th>\n",
              "      <td>3</td>\n",
              "      <td>3.836667</td>\n",
              "      <td>spring</td>\n",
              "    </tr>\n",
              "  </tbody>\n",
              "</table>\n",
              "</div>"
            ],
            "text/plain": [
              "   GridPt      mean  season\n",
              "0       2  7.096667  spring\n",
              "1       3  3.836667  spring"
            ]
          },
          "metadata": {
            "tags": []
          },
          "execution_count": 239
        }
      ]
    },
    {
      "cell_type": "code",
      "metadata": {
        "id": "cgdVm9sKj9Tk",
        "colab_type": "code",
        "outputId": "42ae0ffb-a8a5-4d78-b094-e220db1129c3",
        "colab": {
          "base_uri": "https://localhost:8080/",
          "height": 111
        }
      },
      "source": [
        "df_2011_fall.head(2)"
      ],
      "execution_count": 0,
      "outputs": [
        {
          "output_type": "execute_result",
          "data": {
            "text/html": [
              "<div>\n",
              "<style scoped>\n",
              "    .dataframe tbody tr th:only-of-type {\n",
              "        vertical-align: middle;\n",
              "    }\n",
              "\n",
              "    .dataframe tbody tr th {\n",
              "        vertical-align: top;\n",
              "    }\n",
              "\n",
              "    .dataframe thead th {\n",
              "        text-align: right;\n",
              "    }\n",
              "</style>\n",
              "<table border=\"1\" class=\"dataframe\">\n",
              "  <thead>\n",
              "    <tr style=\"text-align: right;\">\n",
              "      <th></th>\n",
              "      <th>GridPt</th>\n",
              "      <th>mean</th>\n",
              "      <th>season</th>\n",
              "    </tr>\n",
              "  </thead>\n",
              "  <tbody>\n",
              "    <tr>\n",
              "      <th>0</th>\n",
              "      <td>2</td>\n",
              "      <td>8.990000</td>\n",
              "      <td>fall</td>\n",
              "    </tr>\n",
              "    <tr>\n",
              "      <th>1</th>\n",
              "      <td>3</td>\n",
              "      <td>7.823333</td>\n",
              "      <td>fall</td>\n",
              "    </tr>\n",
              "  </tbody>\n",
              "</table>\n",
              "</div>"
            ],
            "text/plain": [
              "   GridPt      mean season\n",
              "0       2  8.990000   fall\n",
              "1       3  7.823333   fall"
            ]
          },
          "metadata": {
            "tags": []
          },
          "execution_count": 240
        }
      ]
    },
    {
      "cell_type": "code",
      "metadata": {
        "id": "sKwv7DXRj9P1",
        "colab_type": "code",
        "colab": {}
      },
      "source": [
        "df_2011 = pd.concat([df_2011_spring, df_2011_fall], ignore_index=True, sort=False)"
      ],
      "execution_count": 0,
      "outputs": []
    },
    {
      "cell_type": "code",
      "metadata": {
        "id": "AUqrxKEKj9Ih",
        "colab_type": "code",
        "colab": {}
      },
      "source": [
        "# set 'date'\n",
        "df_2011['date'] = pd.NaT\n",
        "\n",
        "# set 'year'\n",
        "df_2011['year'] = 2011"
      ],
      "execution_count": 0,
      "outputs": []
    },
    {
      "cell_type": "code",
      "metadata": {
        "id": "i6HsEODlj89t",
        "colab_type": "code",
        "outputId": "94ac2795-5402-4c31-d172-9a807e89272b",
        "colab": {
          "base_uri": "https://localhost:8080/",
          "height": 111
        }
      },
      "source": [
        "df_2011.head(2)"
      ],
      "execution_count": 0,
      "outputs": [
        {
          "output_type": "execute_result",
          "data": {
            "text/html": [
              "<div>\n",
              "<style scoped>\n",
              "    .dataframe tbody tr th:only-of-type {\n",
              "        vertical-align: middle;\n",
              "    }\n",
              "\n",
              "    .dataframe tbody tr th {\n",
              "        vertical-align: top;\n",
              "    }\n",
              "\n",
              "    .dataframe thead th {\n",
              "        text-align: right;\n",
              "    }\n",
              "</style>\n",
              "<table border=\"1\" class=\"dataframe\">\n",
              "  <thead>\n",
              "    <tr style=\"text-align: right;\">\n",
              "      <th></th>\n",
              "      <th>GridPt</th>\n",
              "      <th>mean</th>\n",
              "      <th>season</th>\n",
              "      <th>date</th>\n",
              "      <th>year</th>\n",
              "    </tr>\n",
              "  </thead>\n",
              "  <tbody>\n",
              "    <tr>\n",
              "      <th>0</th>\n",
              "      <td>2</td>\n",
              "      <td>7.096667</td>\n",
              "      <td>spring</td>\n",
              "      <td>NaT</td>\n",
              "      <td>2011</td>\n",
              "    </tr>\n",
              "    <tr>\n",
              "      <th>1</th>\n",
              "      <td>3</td>\n",
              "      <td>3.836667</td>\n",
              "      <td>spring</td>\n",
              "      <td>NaT</td>\n",
              "      <td>2011</td>\n",
              "    </tr>\n",
              "  </tbody>\n",
              "</table>\n",
              "</div>"
            ],
            "text/plain": [
              "   GridPt      mean  season date  year\n",
              "0       2  7.096667  spring  NaT  2011\n",
              "1       3  3.836667  spring  NaT  2011"
            ]
          },
          "metadata": {
            "tags": []
          },
          "execution_count": 243
        }
      ]
    },
    {
      "cell_type": "markdown",
      "metadata": {
        "id": "x9ypFwQaiipm",
        "colab_type": "text"
      },
      "source": [
        "## 2010"
      ]
    },
    {
      "cell_type": "markdown",
      "metadata": {
        "id": "Aw5ModJKir2K",
        "colab_type": "text"
      },
      "source": [
        "### Fall"
      ]
    },
    {
      "cell_type": "code",
      "metadata": {
        "id": "kQXA6lnghbAH",
        "colab_type": "code",
        "colab": {}
      },
      "source": [
        "# df_2010 - Fall\n",
        "df_2010_fall = df_2010_15.loc[:, ['GridPt', 'F10_1', 'F10_2', 'F10_3', 'F10_4']]"
      ],
      "execution_count": 0,
      "outputs": []
    },
    {
      "cell_type": "code",
      "metadata": {
        "id": "h5huMyjoi0Yg",
        "colab_type": "code",
        "colab": {}
      },
      "source": [
        "# df_2010_fall['mean']\n",
        "df_2010_fall['mean'] = df_2010_fall[['F10_1', 'F10_2', 'F10_3', 'F10_4']].mean(axis=1)"
      ],
      "execution_count": 0,
      "outputs": []
    },
    {
      "cell_type": "code",
      "metadata": {
        "id": "gtJIryFWoHO-",
        "colab_type": "code",
        "colab": {}
      },
      "source": [
        "df_2010_fall = df_2010_fall.loc[:, ['GridPt', 'mean']]"
      ],
      "execution_count": 0,
      "outputs": []
    },
    {
      "cell_type": "code",
      "metadata": {
        "id": "Tcw34M-ZprNU",
        "colab_type": "code",
        "colab": {}
      },
      "source": [
        "# set 'season' to fall\n",
        "df_2010_fall['season'] = 'fall'"
      ],
      "execution_count": 0,
      "outputs": []
    },
    {
      "cell_type": "code",
      "metadata": {
        "id": "_rVfdRRempqk",
        "colab_type": "code",
        "outputId": "fd2c22d7-91e9-4871-c5ca-77ed37e98baf",
        "colab": {
          "base_uri": "https://localhost:8080/",
          "height": 111
        }
      },
      "source": [
        "df_2010_fall.head(2)"
      ],
      "execution_count": 0,
      "outputs": [
        {
          "output_type": "execute_result",
          "data": {
            "text/html": [
              "<div>\n",
              "<style scoped>\n",
              "    .dataframe tbody tr th:only-of-type {\n",
              "        vertical-align: middle;\n",
              "    }\n",
              "\n",
              "    .dataframe tbody tr th {\n",
              "        vertical-align: top;\n",
              "    }\n",
              "\n",
              "    .dataframe thead th {\n",
              "        text-align: right;\n",
              "    }\n",
              "</style>\n",
              "<table border=\"1\" class=\"dataframe\">\n",
              "  <thead>\n",
              "    <tr style=\"text-align: right;\">\n",
              "      <th></th>\n",
              "      <th>GridPt</th>\n",
              "      <th>mean</th>\n",
              "      <th>season</th>\n",
              "    </tr>\n",
              "  </thead>\n",
              "  <tbody>\n",
              "    <tr>\n",
              "      <th>0</th>\n",
              "      <td>2</td>\n",
              "      <td>NaN</td>\n",
              "      <td>fall</td>\n",
              "    </tr>\n",
              "    <tr>\n",
              "      <th>1</th>\n",
              "      <td>3</td>\n",
              "      <td>7.305</td>\n",
              "      <td>fall</td>\n",
              "    </tr>\n",
              "  </tbody>\n",
              "</table>\n",
              "</div>"
            ],
            "text/plain": [
              "   GridPt   mean season\n",
              "0       2    NaN   fall\n",
              "1       3  7.305   fall"
            ]
          },
          "metadata": {
            "tags": []
          },
          "execution_count": 248
        }
      ]
    },
    {
      "cell_type": "markdown",
      "metadata": {
        "id": "QQkYMwnHoN7Q",
        "colab_type": "text"
      },
      "source": [
        "### Full Year\n",
        "* 2010 limited to Fall measurements"
      ]
    },
    {
      "cell_type": "code",
      "metadata": {
        "id": "_LMwWY41oWy3",
        "colab_type": "code",
        "colab": {}
      },
      "source": [
        "df_2010 = df_2010_fall.loc[:]"
      ],
      "execution_count": 0,
      "outputs": []
    },
    {
      "cell_type": "code",
      "metadata": {
        "id": "EWjO3RQFoXZJ",
        "colab_type": "code",
        "colab": {}
      },
      "source": [
        "# set 'date'\n",
        "df_2010['date'] = pd.NaT\n",
        "\n",
        "# set 'year'\n",
        "df_2010['year'] = 2010"
      ],
      "execution_count": 0,
      "outputs": []
    },
    {
      "cell_type": "code",
      "metadata": {
        "id": "VJJ4qoBHp76x",
        "colab_type": "code",
        "outputId": "1b27a055-f9b1-4652-fcdb-407fc856fccb",
        "colab": {
          "base_uri": "https://localhost:8080/",
          "height": 111
        }
      },
      "source": [
        "df_2010.head(2)"
      ],
      "execution_count": 0,
      "outputs": [
        {
          "output_type": "execute_result",
          "data": {
            "text/html": [
              "<div>\n",
              "<style scoped>\n",
              "    .dataframe tbody tr th:only-of-type {\n",
              "        vertical-align: middle;\n",
              "    }\n",
              "\n",
              "    .dataframe tbody tr th {\n",
              "        vertical-align: top;\n",
              "    }\n",
              "\n",
              "    .dataframe thead th {\n",
              "        text-align: right;\n",
              "    }\n",
              "</style>\n",
              "<table border=\"1\" class=\"dataframe\">\n",
              "  <thead>\n",
              "    <tr style=\"text-align: right;\">\n",
              "      <th></th>\n",
              "      <th>GridPt</th>\n",
              "      <th>mean</th>\n",
              "      <th>season</th>\n",
              "      <th>date</th>\n",
              "      <th>year</th>\n",
              "    </tr>\n",
              "  </thead>\n",
              "  <tbody>\n",
              "    <tr>\n",
              "      <th>0</th>\n",
              "      <td>2</td>\n",
              "      <td>NaN</td>\n",
              "      <td>fall</td>\n",
              "      <td>NaT</td>\n",
              "      <td>2010</td>\n",
              "    </tr>\n",
              "    <tr>\n",
              "      <th>1</th>\n",
              "      <td>3</td>\n",
              "      <td>7.305</td>\n",
              "      <td>fall</td>\n",
              "      <td>NaT</td>\n",
              "      <td>2010</td>\n",
              "    </tr>\n",
              "  </tbody>\n",
              "</table>\n",
              "</div>"
            ],
            "text/plain": [
              "   GridPt   mean season date  year\n",
              "0       2    NaN   fall  NaT  2010\n",
              "1       3  7.305   fall  NaT  2010"
            ]
          },
          "metadata": {
            "tags": []
          },
          "execution_count": 251
        }
      ]
    },
    {
      "cell_type": "markdown",
      "metadata": {
        "id": "YY26ygnh-z5O",
        "colab_type": "text"
      },
      "source": [
        "# Concatenate Date Ranges"
      ]
    },
    {
      "cell_type": "markdown",
      "metadata": {
        "id": "EE2QGFLD_CqV",
        "colab_type": "text"
      },
      "source": [
        "## 2019"
      ]
    },
    {
      "cell_type": "code",
      "metadata": {
        "id": "4OamQtxkSMwJ",
        "colab_type": "code",
        "outputId": "b4f78210-0c05-4262-9516-c84bb11e37ed",
        "colab": {
          "base_uri": "https://localhost:8080/",
          "height": 111
        }
      },
      "source": [
        "df_2019.head(2)"
      ],
      "execution_count": 0,
      "outputs": [
        {
          "output_type": "execute_result",
          "data": {
            "text/html": [
              "<div>\n",
              "<style scoped>\n",
              "    .dataframe tbody tr th:only-of-type {\n",
              "        vertical-align: middle;\n",
              "    }\n",
              "\n",
              "    .dataframe tbody tr th {\n",
              "        vertical-align: top;\n",
              "    }\n",
              "\n",
              "    .dataframe thead th {\n",
              "        text-align: right;\n",
              "    }\n",
              "</style>\n",
              "<table border=\"1\" class=\"dataframe\">\n",
              "  <thead>\n",
              "    <tr style=\"text-align: right;\">\n",
              "      <th></th>\n",
              "      <th>grid_point</th>\n",
              "      <th>date</th>\n",
              "      <th>pooled_g</th>\n",
              "      <th>year</th>\n",
              "      <th>season</th>\n",
              "    </tr>\n",
              "  </thead>\n",
              "  <tbody>\n",
              "    <tr>\n",
              "      <th>0</th>\n",
              "      <td>9</td>\n",
              "      <td>2019-09-24</td>\n",
              "      <td>9.113296</td>\n",
              "      <td>2019</td>\n",
              "      <td>fall</td>\n",
              "    </tr>\n",
              "    <tr>\n",
              "      <th>1</th>\n",
              "      <td>10</td>\n",
              "      <td>2019-09-24</td>\n",
              "      <td>17.941478</td>\n",
              "      <td>2019</td>\n",
              "      <td>fall</td>\n",
              "    </tr>\n",
              "  </tbody>\n",
              "</table>\n",
              "</div>"
            ],
            "text/plain": [
              "   grid_point       date   pooled_g  year season\n",
              "0           9 2019-09-24   9.113296  2019   fall\n",
              "1          10 2019-09-24  17.941478  2019   fall"
            ]
          },
          "metadata": {
            "tags": []
          },
          "execution_count": 252
        }
      ]
    },
    {
      "cell_type": "code",
      "metadata": {
        "id": "UaBesczmSSFf",
        "colab_type": "code",
        "colab": {}
      },
      "source": [
        "# set grass and forb to NaN\n",
        "df_2019['grass'] = np.nan\n",
        "df_2019['forb'] = np.nan"
      ],
      "execution_count": 0,
      "outputs": []
    },
    {
      "cell_type": "code",
      "metadata": {
        "id": "pKA7iVrUThav",
        "colab_type": "code",
        "colab": {}
      },
      "source": [
        "# reorder columns to match specification\n",
        "df_2019 = df_2019.loc[:, ['grid_point', 'date', 'year', 'season', 'grass', 'forb', 'pooled_g']]"
      ],
      "execution_count": 0,
      "outputs": []
    },
    {
      "cell_type": "code",
      "metadata": {
        "id": "wafoe9iRy7sL",
        "colab_type": "code",
        "colab": {}
      },
      "source": [
        "# remove rows with nan in 'pooled_g'\n",
        "df_2019 = df_2019.loc[df_2019.pooled_g.notnull()]"
      ],
      "execution_count": 0,
      "outputs": []
    },
    {
      "cell_type": "code",
      "metadata": {
        "id": "PyYZvahsad7x",
        "colab_type": "code",
        "colab": {}
      },
      "source": [
        "# update column names\n",
        "df_2019.columns = ['grid_point', 'date', 'year', 'season', 'grass_g', 'forb_g', 'pooled_g']"
      ],
      "execution_count": 0,
      "outputs": []
    },
    {
      "cell_type": "code",
      "metadata": {
        "id": "dJydI715TKtH",
        "colab_type": "code",
        "outputId": "7853f24a-8910-421c-9457-612ed0055379",
        "colab": {
          "base_uri": "https://localhost:8080/",
          "height": 111
        }
      },
      "source": [
        "df_2019.head(2)"
      ],
      "execution_count": 0,
      "outputs": [
        {
          "output_type": "execute_result",
          "data": {
            "text/html": [
              "<div>\n",
              "<style scoped>\n",
              "    .dataframe tbody tr th:only-of-type {\n",
              "        vertical-align: middle;\n",
              "    }\n",
              "\n",
              "    .dataframe tbody tr th {\n",
              "        vertical-align: top;\n",
              "    }\n",
              "\n",
              "    .dataframe thead th {\n",
              "        text-align: right;\n",
              "    }\n",
              "</style>\n",
              "<table border=\"1\" class=\"dataframe\">\n",
              "  <thead>\n",
              "    <tr style=\"text-align: right;\">\n",
              "      <th></th>\n",
              "      <th>grid_point</th>\n",
              "      <th>date</th>\n",
              "      <th>year</th>\n",
              "      <th>season</th>\n",
              "      <th>grass_g</th>\n",
              "      <th>forb_g</th>\n",
              "      <th>pooled_g</th>\n",
              "    </tr>\n",
              "  </thead>\n",
              "  <tbody>\n",
              "    <tr>\n",
              "      <th>0</th>\n",
              "      <td>9</td>\n",
              "      <td>2019-09-24</td>\n",
              "      <td>2019</td>\n",
              "      <td>fall</td>\n",
              "      <td>NaN</td>\n",
              "      <td>NaN</td>\n",
              "      <td>9.113296</td>\n",
              "    </tr>\n",
              "    <tr>\n",
              "      <th>1</th>\n",
              "      <td>10</td>\n",
              "      <td>2019-09-24</td>\n",
              "      <td>2019</td>\n",
              "      <td>fall</td>\n",
              "      <td>NaN</td>\n",
              "      <td>NaN</td>\n",
              "      <td>17.941478</td>\n",
              "    </tr>\n",
              "  </tbody>\n",
              "</table>\n",
              "</div>"
            ],
            "text/plain": [
              "   grid_point       date  year season  grass_g  forb_g   pooled_g\n",
              "0           9 2019-09-24  2019   fall      NaN     NaN   9.113296\n",
              "1          10 2019-09-24  2019   fall      NaN     NaN  17.941478"
            ]
          },
          "metadata": {
            "tags": []
          },
          "execution_count": 291
        }
      ]
    },
    {
      "cell_type": "markdown",
      "metadata": {
        "id": "8Dz2bFgyvEhm",
        "colab_type": "text"
      },
      "source": [
        "## 2016 - 2018"
      ]
    },
    {
      "cell_type": "code",
      "metadata": {
        "id": "yAMjih3lvJlE",
        "colab_type": "code",
        "outputId": "c2d4a782-5532-4ceb-b353-79d21786a720",
        "colab": {
          "base_uri": "https://localhost:8080/",
          "height": 111
        }
      },
      "source": [
        "df_2018_full_year.head(2)"
      ],
      "execution_count": 0,
      "outputs": [
        {
          "output_type": "execute_result",
          "data": {
            "text/html": [
              "<div>\n",
              "<style scoped>\n",
              "    .dataframe tbody tr th:only-of-type {\n",
              "        vertical-align: middle;\n",
              "    }\n",
              "\n",
              "    .dataframe tbody tr th {\n",
              "        vertical-align: top;\n",
              "    }\n",
              "\n",
              "    .dataframe thead th {\n",
              "        text-align: right;\n",
              "    }\n",
              "</style>\n",
              "<table border=\"1\" class=\"dataframe\">\n",
              "  <thead>\n",
              "    <tr style=\"text-align: right;\">\n",
              "      <th></th>\n",
              "      <th>grid_point</th>\n",
              "      <th>date</th>\n",
              "      <th>year</th>\n",
              "      <th>season</th>\n",
              "      <th>grass</th>\n",
              "      <th>forb</th>\n",
              "    </tr>\n",
              "  </thead>\n",
              "  <tbody>\n",
              "    <tr>\n",
              "      <th>0</th>\n",
              "      <td>3</td>\n",
              "      <td>2018-04-10</td>\n",
              "      <td>2018</td>\n",
              "      <td>spring</td>\n",
              "      <td>13.440000</td>\n",
              "      <td>0.0</td>\n",
              "    </tr>\n",
              "    <tr>\n",
              "      <th>1</th>\n",
              "      <td>4</td>\n",
              "      <td>2018-04-10</td>\n",
              "      <td>2018</td>\n",
              "      <td>spring</td>\n",
              "      <td>5.986667</td>\n",
              "      <td>0.0</td>\n",
              "    </tr>\n",
              "  </tbody>\n",
              "</table>\n",
              "</div>"
            ],
            "text/plain": [
              "   grid_point       date  year  season      grass  forb\n",
              "0           3 2018-04-10  2018  spring  13.440000   0.0\n",
              "1           4 2018-04-10  2018  spring   5.986667   0.0"
            ]
          },
          "metadata": {
            "tags": []
          },
          "execution_count": 292
        }
      ]
    },
    {
      "cell_type": "code",
      "metadata": {
        "id": "xAo-k5CyvJgg",
        "colab_type": "code",
        "outputId": "8c4ff084-5465-4a6e-a85e-6abad40e4a99",
        "colab": {
          "base_uri": "https://localhost:8080/",
          "height": 111
        }
      },
      "source": [
        "df_2017_full_year.head(2)"
      ],
      "execution_count": 0,
      "outputs": [
        {
          "output_type": "execute_result",
          "data": {
            "text/html": [
              "<div>\n",
              "<style scoped>\n",
              "    .dataframe tbody tr th:only-of-type {\n",
              "        vertical-align: middle;\n",
              "    }\n",
              "\n",
              "    .dataframe tbody tr th {\n",
              "        vertical-align: top;\n",
              "    }\n",
              "\n",
              "    .dataframe thead th {\n",
              "        text-align: right;\n",
              "    }\n",
              "</style>\n",
              "<table border=\"1\" class=\"dataframe\">\n",
              "  <thead>\n",
              "    <tr style=\"text-align: right;\">\n",
              "      <th></th>\n",
              "      <th>grid_point</th>\n",
              "      <th>date</th>\n",
              "      <th>year</th>\n",
              "      <th>season</th>\n",
              "      <th>grass</th>\n",
              "      <th>forb</th>\n",
              "    </tr>\n",
              "  </thead>\n",
              "  <tbody>\n",
              "    <tr>\n",
              "      <th>0</th>\n",
              "      <td>2</td>\n",
              "      <td>2017-04-05</td>\n",
              "      <td>2017</td>\n",
              "      <td>spring</td>\n",
              "      <td>1.713333</td>\n",
              "      <td>1.613333</td>\n",
              "    </tr>\n",
              "    <tr>\n",
              "      <th>1</th>\n",
              "      <td>3</td>\n",
              "      <td>2017-04-05</td>\n",
              "      <td>2017</td>\n",
              "      <td>spring</td>\n",
              "      <td>4.436667</td>\n",
              "      <td>4.343333</td>\n",
              "    </tr>\n",
              "  </tbody>\n",
              "</table>\n",
              "</div>"
            ],
            "text/plain": [
              "   grid_point       date  year  season     grass      forb\n",
              "0           2 2017-04-05  2017  spring  1.713333  1.613333\n",
              "1           3 2017-04-05  2017  spring  4.436667  4.343333"
            ]
          },
          "metadata": {
            "tags": []
          },
          "execution_count": 258
        }
      ]
    },
    {
      "cell_type": "code",
      "metadata": {
        "id": "fewGYP0LvJcK",
        "colab_type": "code",
        "outputId": "bd5abb07-08e0-4540-dd77-8d058e05e5e6",
        "colab": {
          "base_uri": "https://localhost:8080/",
          "height": 111
        }
      },
      "source": [
        "df_2016_full_year.head(2)"
      ],
      "execution_count": 0,
      "outputs": [
        {
          "output_type": "execute_result",
          "data": {
            "text/html": [
              "<div>\n",
              "<style scoped>\n",
              "    .dataframe tbody tr th:only-of-type {\n",
              "        vertical-align: middle;\n",
              "    }\n",
              "\n",
              "    .dataframe tbody tr th {\n",
              "        vertical-align: top;\n",
              "    }\n",
              "\n",
              "    .dataframe thead th {\n",
              "        text-align: right;\n",
              "    }\n",
              "</style>\n",
              "<table border=\"1\" class=\"dataframe\">\n",
              "  <thead>\n",
              "    <tr style=\"text-align: right;\">\n",
              "      <th></th>\n",
              "      <th>grid_point</th>\n",
              "      <th>date</th>\n",
              "      <th>year</th>\n",
              "      <th>season</th>\n",
              "      <th>grass</th>\n",
              "      <th>forb</th>\n",
              "    </tr>\n",
              "  </thead>\n",
              "  <tbody>\n",
              "    <tr>\n",
              "      <th>0</th>\n",
              "      <td>2</td>\n",
              "      <td>2016-03-28</td>\n",
              "      <td>2016</td>\n",
              "      <td>spring</td>\n",
              "      <td>2.560000</td>\n",
              "      <td>0.220000</td>\n",
              "    </tr>\n",
              "    <tr>\n",
              "      <th>1</th>\n",
              "      <td>3</td>\n",
              "      <td>2016-03-28</td>\n",
              "      <td>2016</td>\n",
              "      <td>spring</td>\n",
              "      <td>3.323333</td>\n",
              "      <td>0.683333</td>\n",
              "    </tr>\n",
              "  </tbody>\n",
              "</table>\n",
              "</div>"
            ],
            "text/plain": [
              "   grid_point       date  year  season     grass      forb\n",
              "0           2 2016-03-28  2016  spring  2.560000  0.220000\n",
              "1           3 2016-03-28  2016  spring  3.323333  0.683333"
            ]
          },
          "metadata": {
            "tags": []
          },
          "execution_count": 259
        }
      ]
    },
    {
      "cell_type": "code",
      "metadata": {
        "id": "TliFnlwBvJW-",
        "colab_type": "code",
        "colab": {}
      },
      "source": [
        "# combine annual DataFrames\n",
        "df_2016_2018 = pd.concat([df_2018_full_year, df_2017_full_year, df_2016_full_year], ignore_index=True, sort=False)"
      ],
      "execution_count": 0,
      "outputs": []
    },
    {
      "cell_type": "code",
      "metadata": {
        "id": "r1Q9Ou06U0bx",
        "colab_type": "code",
        "colab": {}
      },
      "source": [
        "# expand to include pooled_g column and set to NaN\n",
        "df_2016_2018['pooled_g'] = np.nan"
      ],
      "execution_count": 0,
      "outputs": []
    },
    {
      "cell_type": "code",
      "metadata": {
        "id": "WaRiAV44aAtY",
        "colab_type": "code",
        "colab": {}
      },
      "source": [
        "# update column names\n",
        "df_2016_2018.columns = ['grid_point', 'date', 'year', 'season', 'grass_g', 'forb_g', 'pooled_g']"
      ],
      "execution_count": 0,
      "outputs": []
    },
    {
      "cell_type": "code",
      "metadata": {
        "id": "MJ9BX-7NU8LM",
        "colab_type": "code",
        "outputId": "318bf18c-7fb7-4b36-c155-c276d4cb919f",
        "colab": {
          "base_uri": "https://localhost:8080/",
          "height": 111
        }
      },
      "source": [
        "df_2016_2018.head(2)"
      ],
      "execution_count": 0,
      "outputs": [
        {
          "output_type": "execute_result",
          "data": {
            "text/html": [
              "<div>\n",
              "<style scoped>\n",
              "    .dataframe tbody tr th:only-of-type {\n",
              "        vertical-align: middle;\n",
              "    }\n",
              "\n",
              "    .dataframe tbody tr th {\n",
              "        vertical-align: top;\n",
              "    }\n",
              "\n",
              "    .dataframe thead th {\n",
              "        text-align: right;\n",
              "    }\n",
              "</style>\n",
              "<table border=\"1\" class=\"dataframe\">\n",
              "  <thead>\n",
              "    <tr style=\"text-align: right;\">\n",
              "      <th></th>\n",
              "      <th>grid_point</th>\n",
              "      <th>date</th>\n",
              "      <th>year</th>\n",
              "      <th>season</th>\n",
              "      <th>grass_g</th>\n",
              "      <th>forb_g</th>\n",
              "      <th>pooled_g</th>\n",
              "    </tr>\n",
              "  </thead>\n",
              "  <tbody>\n",
              "    <tr>\n",
              "      <th>0</th>\n",
              "      <td>3</td>\n",
              "      <td>2018-04-10</td>\n",
              "      <td>2018</td>\n",
              "      <td>spring</td>\n",
              "      <td>13.440000</td>\n",
              "      <td>0.0</td>\n",
              "      <td>NaN</td>\n",
              "    </tr>\n",
              "    <tr>\n",
              "      <th>1</th>\n",
              "      <td>4</td>\n",
              "      <td>2018-04-10</td>\n",
              "      <td>2018</td>\n",
              "      <td>spring</td>\n",
              "      <td>5.986667</td>\n",
              "      <td>0.0</td>\n",
              "      <td>NaN</td>\n",
              "    </tr>\n",
              "  </tbody>\n",
              "</table>\n",
              "</div>"
            ],
            "text/plain": [
              "   grid_point       date  year  season    grass_g  forb_g  pooled_g\n",
              "0           3 2018-04-10  2018  spring  13.440000     0.0       NaN\n",
              "1           4 2018-04-10  2018  spring   5.986667     0.0       NaN"
            ]
          },
          "metadata": {
            "tags": []
          },
          "execution_count": 293
        }
      ]
    },
    {
      "cell_type": "code",
      "metadata": {
        "id": "LOiwKoFE5iBH",
        "colab_type": "code",
        "outputId": "ac0654c5-4016-4e70-f254-5c3e1772069b",
        "colab": {
          "base_uri": "https://localhost:8080/",
          "height": 255
        }
      },
      "source": [
        "df_2016_2018.info()"
      ],
      "execution_count": 0,
      "outputs": [
        {
          "output_type": "stream",
          "text": [
            "<class 'pandas.core.frame.DataFrame'>\n",
            "RangeIndex: 683 entries, 0 to 682\n",
            "Data columns (total 7 columns):\n",
            " #   Column      Non-Null Count  Dtype         \n",
            "---  ------      --------------  -----         \n",
            " 0   grid_point  683 non-null    int64         \n",
            " 1   date        680 non-null    datetime64[ns]\n",
            " 2   year        683 non-null    int64         \n",
            " 3   season      683 non-null    object        \n",
            " 4   grass_g     674 non-null    float64       \n",
            " 5   forb_g      677 non-null    float64       \n",
            " 6   pooled_g    0 non-null      float64       \n",
            "dtypes: datetime64[ns](1), float64(3), int64(2), object(1)\n",
            "memory usage: 37.5+ KB\n"
          ],
          "name": "stdout"
        }
      ]
    },
    {
      "cell_type": "markdown",
      "metadata": {
        "id": "H-uvnLf6ruzU",
        "colab_type": "text"
      },
      "source": [
        "## 2010 - 2015"
      ]
    },
    {
      "cell_type": "code",
      "metadata": {
        "id": "U_u_gwyBinLB",
        "colab_type": "code",
        "colab": {}
      },
      "source": [
        "df_2010_2015 = pd.concat([df_2010, df_2011, df_2012, df_2013, df_2014, df_2015], ignore_index=True, sort=False)"
      ],
      "execution_count": 0,
      "outputs": []
    },
    {
      "cell_type": "code",
      "metadata": {
        "id": "DMpWq7UUsiiX",
        "colab_type": "code",
        "colab": {}
      },
      "source": [
        "# rename 'mean' to 'pooled_g'\n",
        "df_2010_2015.columns = ['grid_point', 'pooled_g', 'season', 'date', 'year']"
      ],
      "execution_count": 0,
      "outputs": []
    },
    {
      "cell_type": "code",
      "metadata": {
        "id": "owiRVahwsidG",
        "colab_type": "code",
        "colab": {}
      },
      "source": [
        "# set grass to NaN\n",
        "df_2010_2015['grass'] = np.nan\n",
        "\n",
        "# set forb to Nan\n",
        "df_2010_2015['forb'] = np.nan"
      ],
      "execution_count": 0,
      "outputs": []
    },
    {
      "cell_type": "code",
      "metadata": {
        "id": "2MzGTd-psiTm",
        "colab_type": "code",
        "colab": {}
      },
      "source": [
        "# reorder columns to match template schema\n",
        "df_2010_2015 = df_2010_2015[['grid_point', 'date', 'year', 'season', 'grass', 'forb', 'pooled_g']]"
      ],
      "execution_count": 0,
      "outputs": []
    },
    {
      "cell_type": "code",
      "metadata": {
        "id": "A9IUF5_l550I",
        "colab_type": "code",
        "colab": {}
      },
      "source": [
        "# remove rows with 'pooled_g' NaN\n",
        "df_2010_2015 = df_2010_2015.loc[df_2010_2015.pooled_g.notnull()]"
      ],
      "execution_count": 0,
      "outputs": []
    },
    {
      "cell_type": "code",
      "metadata": {
        "id": "qkgMkZAnaOB5",
        "colab_type": "code",
        "colab": {}
      },
      "source": [
        "df_2010_2015.columns = ['grid_point', 'date', 'year', 'season', 'grass_g', 'forb_g', 'pooled_g']"
      ],
      "execution_count": 0,
      "outputs": []
    },
    {
      "cell_type": "code",
      "metadata": {
        "id": "fxT52jq9q4z9",
        "colab_type": "code",
        "outputId": "cc5adc7d-1d31-4eb8-9552-94acb907eb9d",
        "colab": {
          "base_uri": "https://localhost:8080/",
          "height": 111
        }
      },
      "source": [
        "df_2010_2015.head(2)"
      ],
      "execution_count": 0,
      "outputs": [
        {
          "output_type": "execute_result",
          "data": {
            "text/html": [
              "<div>\n",
              "<style scoped>\n",
              "    .dataframe tbody tr th:only-of-type {\n",
              "        vertical-align: middle;\n",
              "    }\n",
              "\n",
              "    .dataframe tbody tr th {\n",
              "        vertical-align: top;\n",
              "    }\n",
              "\n",
              "    .dataframe thead th {\n",
              "        text-align: right;\n",
              "    }\n",
              "</style>\n",
              "<table border=\"1\" class=\"dataframe\">\n",
              "  <thead>\n",
              "    <tr style=\"text-align: right;\">\n",
              "      <th></th>\n",
              "      <th>grid_point</th>\n",
              "      <th>date</th>\n",
              "      <th>year</th>\n",
              "      <th>season</th>\n",
              "      <th>grass_g</th>\n",
              "      <th>forb_g</th>\n",
              "      <th>pooled_g</th>\n",
              "    </tr>\n",
              "  </thead>\n",
              "  <tbody>\n",
              "    <tr>\n",
              "      <th>1</th>\n",
              "      <td>3</td>\n",
              "      <td>NaT</td>\n",
              "      <td>2010</td>\n",
              "      <td>fall</td>\n",
              "      <td>NaN</td>\n",
              "      <td>NaN</td>\n",
              "      <td>7.3050</td>\n",
              "    </tr>\n",
              "    <tr>\n",
              "      <th>2</th>\n",
              "      <td>4</td>\n",
              "      <td>NaT</td>\n",
              "      <td>2010</td>\n",
              "      <td>fall</td>\n",
              "      <td>NaN</td>\n",
              "      <td>NaN</td>\n",
              "      <td>1.5125</td>\n",
              "    </tr>\n",
              "  </tbody>\n",
              "</table>\n",
              "</div>"
            ],
            "text/plain": [
              "   grid_point date  year season  grass_g  forb_g  pooled_g\n",
              "1           3  NaT  2010   fall      NaN     NaN    7.3050\n",
              "2           4  NaT  2010   fall      NaN     NaN    1.5125"
            ]
          },
          "metadata": {
            "tags": []
          },
          "execution_count": 294
        }
      ]
    },
    {
      "cell_type": "markdown",
      "metadata": {
        "id": "4UT70fdouIdQ",
        "colab_type": "text"
      },
      "source": [
        "# 2010 - 2020"
      ]
    },
    {
      "cell_type": "code",
      "metadata": {
        "id": "CbIVFm3IyOFY",
        "colab_type": "code",
        "colab": {}
      },
      "source": [
        "df_2010_2020 = pd.concat([df_2020_spring, df_2019, df_2016_2018, df_2010_2015], ignore_index=True, sort=False)"
      ],
      "execution_count": 0,
      "outputs": []
    },
    {
      "cell_type": "code",
      "metadata": {
        "id": "O8RcXcNaZoyb",
        "colab_type": "code",
        "outputId": "b269e980-4141-477a-d24e-f2f69aa8b004",
        "colab": {
          "base_uri": "https://localhost:8080/",
          "height": 204
        }
      },
      "source": [
        "df_2010_2020.head()"
      ],
      "execution_count": 0,
      "outputs": [
        {
          "output_type": "execute_result",
          "data": {
            "text/html": [
              "<div>\n",
              "<style scoped>\n",
              "    .dataframe tbody tr th:only-of-type {\n",
              "        vertical-align: middle;\n",
              "    }\n",
              "\n",
              "    .dataframe tbody tr th {\n",
              "        vertical-align: top;\n",
              "    }\n",
              "\n",
              "    .dataframe thead th {\n",
              "        text-align: right;\n",
              "    }\n",
              "</style>\n",
              "<table border=\"1\" class=\"dataframe\">\n",
              "  <thead>\n",
              "    <tr style=\"text-align: right;\">\n",
              "      <th></th>\n",
              "      <th>grid_point</th>\n",
              "      <th>date</th>\n",
              "      <th>year</th>\n",
              "      <th>season</th>\n",
              "      <th>grass_g</th>\n",
              "      <th>forb_g</th>\n",
              "      <th>pooled_g</th>\n",
              "    </tr>\n",
              "  </thead>\n",
              "  <tbody>\n",
              "    <tr>\n",
              "      <th>0</th>\n",
              "      <td>9</td>\n",
              "      <td>NaN</td>\n",
              "      <td>2020</td>\n",
              "      <td>spring</td>\n",
              "      <td>0.0</td>\n",
              "      <td>0.0</td>\n",
              "      <td>5.063333</td>\n",
              "    </tr>\n",
              "    <tr>\n",
              "      <th>1</th>\n",
              "      <td>10</td>\n",
              "      <td>NaN</td>\n",
              "      <td>2020</td>\n",
              "      <td>spring</td>\n",
              "      <td>0.0</td>\n",
              "      <td>0.0</td>\n",
              "      <td>2.870000</td>\n",
              "    </tr>\n",
              "    <tr>\n",
              "      <th>2</th>\n",
              "      <td>11</td>\n",
              "      <td>NaN</td>\n",
              "      <td>2020</td>\n",
              "      <td>spring</td>\n",
              "      <td>0.0</td>\n",
              "      <td>0.0</td>\n",
              "      <td>5.806667</td>\n",
              "    </tr>\n",
              "    <tr>\n",
              "      <th>3</th>\n",
              "      <td>12</td>\n",
              "      <td>NaN</td>\n",
              "      <td>2020</td>\n",
              "      <td>spring</td>\n",
              "      <td>0.0</td>\n",
              "      <td>0.0</td>\n",
              "      <td>7.173333</td>\n",
              "    </tr>\n",
              "    <tr>\n",
              "      <th>4</th>\n",
              "      <td>19</td>\n",
              "      <td>NaN</td>\n",
              "      <td>2020</td>\n",
              "      <td>spring</td>\n",
              "      <td>0.0</td>\n",
              "      <td>0.0</td>\n",
              "      <td>5.350000</td>\n",
              "    </tr>\n",
              "  </tbody>\n",
              "</table>\n",
              "</div>"
            ],
            "text/plain": [
              "   grid_point date  year  season  grass_g  forb_g  pooled_g\n",
              "0           9  NaN  2020  spring      0.0     0.0  5.063333\n",
              "1          10  NaN  2020  spring      0.0     0.0  2.870000\n",
              "2          11  NaN  2020  spring      0.0     0.0  5.806667\n",
              "3          12  NaN  2020  spring      0.0     0.0  7.173333\n",
              "4          19  NaN  2020  spring      0.0     0.0  5.350000"
            ]
          },
          "metadata": {
            "tags": []
          },
          "execution_count": 296
        }
      ]
    },
    {
      "cell_type": "code",
      "metadata": {
        "id": "gmpup57iyN_a",
        "colab_type": "code",
        "outputId": "6a84cf90-dfca-4460-8cd7-4aaa23257963",
        "colab": {
          "base_uri": "https://localhost:8080/",
          "height": 255
        }
      },
      "source": [
        "df_2010_2020.info()"
      ],
      "execution_count": 0,
      "outputs": [
        {
          "output_type": "stream",
          "text": [
            "<class 'pandas.core.frame.DataFrame'>\n",
            "RangeIndex: 2458 entries, 0 to 2457\n",
            "Data columns (total 7 columns):\n",
            " #   Column      Non-Null Count  Dtype  \n",
            "---  ------      --------------  -----  \n",
            " 0   grid_point  2458 non-null   int64  \n",
            " 1   date        989 non-null    object \n",
            " 2   year        2458 non-null   int64  \n",
            " 3   season      2458 non-null   object \n",
            " 4   grass_g     836 non-null    float64\n",
            " 5   forb_g      839 non-null    float64\n",
            " 6   pooled_g    1775 non-null   float64\n",
            "dtypes: float64(3), int64(2), object(2)\n",
            "memory usage: 134.5+ KB\n"
          ],
          "name": "stdout"
        }
      ]
    },
    {
      "cell_type": "markdown",
      "metadata": {
        "id": "nnViD6pq6jke",
        "colab_type": "text"
      },
      "source": [
        "# Push to BigQuery"
      ]
    },
    {
      "cell_type": "markdown",
      "metadata": {
        "id": "1K2xXYxa7eAB",
        "colab_type": "text"
      },
      "source": [
        "[Documentation](https://pandas.pydata.org/pandas-docs/stable/reference/api/pandas.DataFrame.to_gbq.html)"
      ]
    },
    {
      "cell_type": "code",
      "metadata": {
        "id": "tZIMUvSe7dPU",
        "colab_type": "code",
        "outputId": "bf60f020-6cf6-4ffe-e4b4-65adf1c8ef12",
        "colab": {
          "base_uri": "https://localhost:8080/",
          "height": 34
        }
      },
      "source": [
        "# BE CAREFUL RUNNING THIS CELL\n",
        "# df_2010_2020.to_gbq('vegetation_biomass.vegetation_biomass', 'mpg-data-warehouse', if_exists='replace')"
      ],
      "execution_count": 0,
      "outputs": [
        {
          "output_type": "stream",
          "text": [
            "1it [00:10, 10.36s/it]\n"
          ],
          "name": "stderr"
        }
      ]
    }
  ]
}