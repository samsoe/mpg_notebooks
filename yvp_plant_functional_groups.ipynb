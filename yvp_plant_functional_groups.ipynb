{
  "nbformat": 4,
  "nbformat_minor": 0,
  "metadata": {
    "colab": {
      "name": "yvp_plant_functional_groups.ipynb",
      "provenance": [],
      "collapsed_sections": [],
      "toc_visible": true,
      "include_colab_link": true
    },
    "language_info": {
      "codemirror_mode": "r",
      "file_extension": ".r",
      "mimetype": "text/x-r-source",
      "name": "R",
      "pygments_lexer": "r",
      "version": "3.3.1"
    },
    "kernelspec": {
      "display_name": "R",
      "language": "R",
      "name": "ir"
    }
  },
  "cells": [
    {
      "cell_type": "markdown",
      "metadata": {
        "id": "view-in-github",
        "colab_type": "text"
      },
      "source": [
        "<a href=\"https://colab.research.google.com/github/samsoe/mpg_notebooks/blob/master/yvp_plant_functional_groups.ipynb\" target=\"_parent\"><img src=\"https://colab.research.google.com/assets/colab-badge.svg\" alt=\"Open In Colab\"/></a>"
      ]
    },
    {
      "cell_type": "markdown",
      "metadata": {
        "id": "dn0f3TzegBcl",
        "colab_type": "text"
      },
      "source": [
        "# Documentation"
      ]
    },
    {
      "cell_type": "markdown",
      "metadata": {
        "id": "atjSKaTvgFap",
        "colab_type": "text"
      },
      "source": [
        ""
      ]
    },
    {
      "cell_type": "markdown",
      "metadata": {
        "id": "BhOI1uU2Koum",
        "colab_type": "text"
      },
      "source": [
        "# Security"
      ]
    },
    {
      "cell_type": "markdown",
      "metadata": {
        "id": "hgB3r3wvA9Pn",
        "colab_type": "text"
      },
      "source": [
        "* The user must load a `json` file containing the BigQuery API key into the local directory `/content/...`\n",
        "* The user must have a Google Maps API key to enable mapping. \n",
        "   * CAUTION make sure the key is deleted from the current instance of the notebook before sharing"
      ]
    },
    {
      "cell_type": "markdown",
      "metadata": {
        "id": "MnG0ah7OA59c",
        "colab_type": "text"
      },
      "source": [
        "# Tools"
      ]
    },
    {
      "cell_type": "code",
      "metadata": {
        "id": "Y6y4EWeYpVBJ",
        "colab_type": "code",
        "colab": {}
      },
      "source": [
        "library(tidyverse)"
      ],
      "execution_count": 2,
      "outputs": []
    },
    {
      "cell_type": "markdown",
      "metadata": {
        "id": "eUw-It3JBBrQ",
        "colab_type": "text"
      },
      "source": [
        "* Remember that the file containing authorization keys for Big Query must be loaded into the virutual envrionment manually."
      ]
    },
    {
      "cell_type": "code",
      "metadata": {
        "id": "VxYkYhQTKouo",
        "colab_type": "code",
        "colab": {
          "base_uri": "https://localhost:8080/",
          "height": 119
        },
        "outputId": "8f4182f4-9991-411b-bf12-518c7623b070"
      },
      "source": [
        "install.packages(\"bigrquery\")\n",
        "library(bigrquery)"
      ],
      "execution_count": 6,
      "outputs": [
        {
          "output_type": "stream",
          "text": [
            "Installing package into ‘/usr/local/lib/R/site-library’\n",
            "(as ‘lib’ is unspecified)\n",
            "\n",
            "also installing the dependencies ‘bit’, ‘bit64’, ‘gargle’, ‘rapidjsonr’\n",
            "\n",
            "\n"
          ],
          "name": "stderr"
        }
      ]
    },
    {
      "cell_type": "markdown",
      "metadata": {
        "id": "H1I9aQ_SBH3n",
        "colab_type": "text"
      },
      "source": [
        "# Source"
      ]
    },
    {
      "cell_type": "markdown",
      "metadata": {
        "id": "Bfb7MHpGBJMO",
        "colab_type": "text"
      },
      "source": [
        "## Database Connection"
      ]
    },
    {
      "cell_type": "code",
      "metadata": {
        "id": "ihI70_BPKouq",
        "colab_type": "code",
        "colab": {}
      },
      "source": [
        "# BigQuery API Key\n",
        "bq_auth(path = \"/content/mpg-data-warehouse-api_key-master.json\")"
      ],
      "execution_count": 7,
      "outputs": []
    },
    {
      "cell_type": "code",
      "metadata": {
        "id": "8YxL8wHoBNxV",
        "colab_type": "code",
        "colab": {}
      },
      "source": [
        "Sys.setenv(BIGQUERY_TEST_PROJECT = \"mpg-data-warehouse\")"
      ],
      "execution_count": 8,
      "outputs": []
    },
    {
      "cell_type": "code",
      "metadata": {
        "id": "yevfizb5BQXm",
        "colab_type": "code",
        "colab": {}
      },
      "source": [
        "billing <- bq_test_project()"
      ],
      "execution_count": 9,
      "outputs": []
    },
    {
      "cell_type": "markdown",
      "metadata": {
        "id": "ERudBSncbzYR",
        "colab_type": "text"
      },
      "source": [
        "## Database Query"
      ]
    },
    {
      "cell_type": "markdown",
      "metadata": {
        "id": "JN4Z34yRp2-k",
        "colab_type": "text"
      },
      "source": [
        "### yvp_vegetation_cover\n"
      ]
    },
    {
      "cell_type": "code",
      "metadata": {
        "id": "26UqASAoB2p0",
        "colab_type": "code",
        "colab": {}
      },
      "source": [
        "sql_functional_groups <- \"SELECT *\n",
        "               FROM `mpg-data-warehouse.vegetation_fixed_plot_yvp.yvp_vegetation_cover`\""
      ],
      "execution_count": 10,
      "outputs": []
    },
    {
      "cell_type": "code",
      "metadata": {
        "id": "VSXOoJkcB3dn",
        "colab_type": "code",
        "colab": {}
      },
      "source": [
        "bq_functional_groups <- bq_project_query(billing, sql_functional_groups)"
      ],
      "execution_count": 11,
      "outputs": []
    },
    {
      "cell_type": "code",
      "metadata": {
        "id": "KpZnymzzB5Ms",
        "colab_type": "code",
        "colab": {}
      },
      "source": [
        "tb_functional_groups <- bq_table_download(bq_functional_groups)"
      ],
      "execution_count": 12,
      "outputs": []
    },
    {
      "cell_type": "code",
      "metadata": {
        "id": "VcoNMCO1B6gY",
        "colab_type": "code",
        "colab": {}
      },
      "source": [
        "df_functional_groups <- as.data.frame(tb_functional_groups)"
      ],
      "execution_count": 13,
      "outputs": []
    },
    {
      "cell_type": "markdown",
      "metadata": {
        "id": "hwJ952Y2b8cN",
        "colab_type": "text"
      },
      "source": [
        "### vegetation_species_metadata"
      ]
    },
    {
      "cell_type": "code",
      "metadata": {
        "id": "FduLB8ijcBxf",
        "colab_type": "code",
        "colab": {}
      },
      "source": [
        "sql_species_metadata <- \"SELECT *\n",
        "                         FROM `mpg-data-warehouse.vegetation_species_metadata.vegetation_species_metadata`\""
      ],
      "execution_count": 14,
      "outputs": []
    },
    {
      "cell_type": "code",
      "metadata": {
        "id": "auKASEcKcSsO",
        "colab_type": "code",
        "colab": {}
      },
      "source": [
        "bq_species_metadata <- bq_project_query(billing, sql_species_metadata)"
      ],
      "execution_count": 15,
      "outputs": []
    },
    {
      "cell_type": "code",
      "metadata": {
        "id": "-31MHcnwcbty",
        "colab_type": "code",
        "colab": {}
      },
      "source": [
        "tb_species_metadata <- bq_table_download(bq_species_metadata)"
      ],
      "execution_count": 16,
      "outputs": []
    },
    {
      "cell_type": "code",
      "metadata": {
        "id": "9j9fCzwycbk1",
        "colab_type": "code",
        "colab": {}
      },
      "source": [
        "df_species_metadata <- as.data.frame(tb_species_metadata)"
      ],
      "execution_count": 17,
      "outputs": []
    },
    {
      "cell_type": "markdown",
      "metadata": {
        "id": "dZaBmigXX963",
        "colab_type": "text"
      },
      "source": [
        "# Wrangle"
      ]
    },
    {
      "cell_type": "markdown",
      "metadata": {
        "id": "EXkNi6CtdtjH",
        "colab_type": "text"
      },
      "source": [
        "## Filter"
      ]
    },
    {
      "cell_type": "code",
      "metadata": {
        "id": "9ys_bQIjdsu7",
        "colab_type": "code",
        "colab": {}
      },
      "source": [
        "# remove \"NV\"\n",
        "df_species_metadata <- df_species_metadata %>%\n",
        "  filter(key_plant_code != \"NV\")"
      ],
      "execution_count": 18,
      "outputs": []
    },
    {
      "cell_type": "code",
      "metadata": {
        "id": "11mbVN_beet7",
        "colab_type": "code",
        "colab": {}
      },
      "source": [
        "# remove single \"unknown\" row\n",
        "df_species_metadata <- df_species_metadata %>%\n",
        "  filter(plant_life_form != \"unknown\")"
      ],
      "execution_count": 19,
      "outputs": []
    },
    {
      "cell_type": "markdown",
      "metadata": {
        "id": "sOGt3baOa5Vh",
        "colab_type": "text"
      },
      "source": [
        "## Recode"
      ]
    },
    {
      "cell_type": "code",
      "metadata": {
        "id": "1ArMTQ4XbHjW",
        "colab_type": "code",
        "colab": {
          "base_uri": "https://localhost:8080/",
          "height": 246
        },
        "outputId": "cc11f020-1664-4226-9f0a-43fecdb9b6b6"
      },
      "source": [
        "df_species_metadata %>% distinct(plant_life_cycle)"
      ],
      "execution_count": 20,
      "outputs": [
        {
          "output_type": "display_data",
          "data": {
            "text/plain": [
              "  plant_life_cycle         \n",
              "1 perennial                \n",
              "2 annual perennial         \n",
              "3 annual                   \n",
              "4 unknown                  \n",
              "5 annual biennial          \n",
              "6 annual biennial perennial\n",
              "7 biennial perennial       \n",
              "8 biennial                 "
            ],
            "text/latex": "A data.frame: 8 × 1\n\\begin{tabular}{l}\n plant\\_life\\_cycle\\\\\n <chr>\\\\\n\\hline\n\t perennial                \\\\\n\t annual perennial         \\\\\n\t annual                   \\\\\n\t unknown                  \\\\\n\t annual biennial          \\\\\n\t annual biennial perennial\\\\\n\t biennial perennial       \\\\\n\t biennial                 \\\\\n\\end{tabular}\n",
            "text/markdown": "\nA data.frame: 8 × 1\n\n| plant_life_cycle &lt;chr&gt; |\n|---|\n| perennial                 |\n| annual perennial          |\n| annual                    |\n| unknown                   |\n| annual biennial           |\n| annual biennial perennial |\n| biennial perennial        |\n| biennial                  |\n\n",
            "text/html": [
              "<table>\n",
              "<caption>A data.frame: 8 × 1</caption>\n",
              "<thead>\n",
              "\t<tr><th scope=col>plant_life_cycle</th></tr>\n",
              "\t<tr><th scope=col>&lt;chr&gt;</th></tr>\n",
              "</thead>\n",
              "<tbody>\n",
              "\t<tr><td>perennial                </td></tr>\n",
              "\t<tr><td>annual perennial         </td></tr>\n",
              "\t<tr><td>annual                   </td></tr>\n",
              "\t<tr><td>unknown                  </td></tr>\n",
              "\t<tr><td>annual biennial          </td></tr>\n",
              "\t<tr><td>annual biennial perennial</td></tr>\n",
              "\t<tr><td>biennial perennial       </td></tr>\n",
              "\t<tr><td>biennial                 </td></tr>\n",
              "</tbody>\n",
              "</table>\n"
            ]
          },
          "metadata": {
            "tags": []
          }
        }
      ]
    },
    {
      "cell_type": "code",
      "metadata": {
        "id": "3U5r2EMQXE5g",
        "colab_type": "code",
        "colab": {}
      },
      "source": [
        "df_species_metadata <- df_species_metadata %>%\n",
        "  mutate(plant_life_cycle = ifelse(plant_life_cycle == \"biennial perennial\" |\n",
        "                                   plant_life_cycle == \"annual perennial\" |\n",
        "                                   plant_life_cycle == \"annual biennial perennial\" |\n",
        "                                   plant_life_cycle == \"annual biennial\"\n",
        "                                   , \"multiple\", plant_life_cycle))"
      ],
      "execution_count": 21,
      "outputs": []
    },
    {
      "cell_type": "code",
      "metadata": {
        "id": "HzF0m6BBdIfo",
        "colab_type": "code",
        "colab": {
          "base_uri": "https://localhost:8080/",
          "height": 200
        },
        "outputId": "046b3e5a-6284-403b-a305-2c11f2485dc6"
      },
      "source": [
        "df_species_metadata %>% distinct(plant_life_form)"
      ],
      "execution_count": 22,
      "outputs": [
        {
          "output_type": "display_data",
          "data": {
            "text/plain": [
              "  plant_life_form\n",
              "1 graminoid      \n",
              "2 forb           \n",
              "3 tree           \n",
              "4 shrub          \n",
              "5 vine           "
            ],
            "text/latex": "A data.frame: 5 × 1\n\\begin{tabular}{l}\n plant\\_life\\_form\\\\\n <chr>\\\\\n\\hline\n\t graminoid\\\\\n\t forb     \\\\\n\t tree     \\\\\n\t shrub    \\\\\n\t vine     \\\\\n\\end{tabular}\n",
            "text/markdown": "\nA data.frame: 5 × 1\n\n| plant_life_form &lt;chr&gt; |\n|---|\n| graminoid |\n| forb      |\n| tree      |\n| shrub     |\n| vine      |\n\n",
            "text/html": [
              "<table>\n",
              "<caption>A data.frame: 5 × 1</caption>\n",
              "<thead>\n",
              "\t<tr><th scope=col>plant_life_form</th></tr>\n",
              "\t<tr><th scope=col>&lt;chr&gt;</th></tr>\n",
              "</thead>\n",
              "<tbody>\n",
              "\t<tr><td>graminoid</td></tr>\n",
              "\t<tr><td>forb     </td></tr>\n",
              "\t<tr><td>tree     </td></tr>\n",
              "\t<tr><td>shrub    </td></tr>\n",
              "\t<tr><td>vine     </td></tr>\n",
              "</tbody>\n",
              "</table>\n"
            ]
          },
          "metadata": {
            "tags": []
          }
        }
      ]
    },
    {
      "cell_type": "code",
      "metadata": {
        "id": "4QFeZ8vvhNZq",
        "colab_type": "code",
        "colab": {}
      },
      "source": [
        ""
      ],
      "execution_count": null,
      "outputs": []
    }
  ]
}