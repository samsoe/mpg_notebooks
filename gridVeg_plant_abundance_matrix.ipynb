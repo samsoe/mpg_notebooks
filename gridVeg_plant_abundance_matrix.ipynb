{
  "nbformat": 4,
  "nbformat_minor": 0,
  "metadata": {
    "colab": {
      "name": "gridVeg_plant_abundance_matrix.ipynb",
      "provenance": [],
      "collapsed_sections": [],
      "toc_visible": true,
      "include_colab_link": true
    },
    "language_info": {
      "codemirror_mode": "r",
      "file_extension": ".r",
      "mimetype": "text/x-r-source",
      "name": "R",
      "pygments_lexer": "r",
      "version": "3.3.1"
    },
    "kernelspec": {
      "display_name": "R",
      "language": "R",
      "name": "ir"
    }
  },
  "cells": [
    {
      "cell_type": "markdown",
      "metadata": {
        "id": "view-in-github",
        "colab_type": "text"
      },
      "source": [
        "<a href=\"https://colab.research.google.com/github/samsoe/mpg_notebooks/blob/master/gridVeg_plant_abundance_matrix.ipynb\" target=\"_parent\"><img src=\"https://colab.research.google.com/assets/colab-badge.svg\" alt=\"Open In Colab\"/></a>"
      ]
    },
    {
      "cell_type": "markdown",
      "metadata": {
        "id": "BhOI1uU2Koum",
        "colab_type": "text"
      },
      "source": [
        "# Security"
      ]
    },
    {
      "cell_type": "markdown",
      "metadata": {
        "id": "hgB3r3wvA9Pn",
        "colab_type": "text"
      },
      "source": [
        "* The user must load a `json` file containing the BigQuery API key into the local directory `/content/...`\n",
        "* The user must have a Google Maps API key to enable mapping. \n",
        "   * CAUTION make sure the key is deleted from the current instance of the notebook before sharing"
      ]
    },
    {
      "cell_type": "markdown",
      "metadata": {
        "id": "MnG0ah7OA59c",
        "colab_type": "text"
      },
      "source": [
        "# Tools"
      ]
    },
    {
      "cell_type": "markdown",
      "metadata": {
        "id": "eUw-It3JBBrQ",
        "colab_type": "text"
      },
      "source": [
        "* Remember that the file containing authorization keys for Big Query must be loaded into the virutual envrionment manually."
      ]
    },
    {
      "cell_type": "code",
      "metadata": {
        "id": "VxYkYhQTKouo",
        "colab_type": "code",
        "colab": {
          "base_uri": "https://localhost:8080/",
          "height": 68
        },
        "outputId": "348a07b6-bb11-4dc2-fce0-80f33f395ba3"
      },
      "source": [
        "install.packages(\"bigrquery\")\n",
        "library(bigrquery)"
      ],
      "execution_count": null,
      "outputs": [
        {
          "output_type": "stream",
          "text": [
            "Installing package into ‘/usr/local/lib/R/site-library’\n",
            "(as ‘lib’ is unspecified)\n",
            "\n"
          ],
          "name": "stderr"
        }
      ]
    },
    {
      "cell_type": "code",
      "metadata": {
        "id": "l9DyHONLhREv",
        "colab_type": "code",
        "colab": {}
      },
      "source": [
        "library(tidyverse)"
      ],
      "execution_count": null,
      "outputs": []
    },
    {
      "cell_type": "markdown",
      "metadata": {
        "id": "H1I9aQ_SBH3n",
        "colab_type": "text"
      },
      "source": [
        "# Source"
      ]
    },
    {
      "cell_type": "markdown",
      "metadata": {
        "id": "Bfb7MHpGBJMO",
        "colab_type": "text"
      },
      "source": [
        "## Database Connection"
      ]
    },
    {
      "cell_type": "code",
      "metadata": {
        "id": "ihI70_BPKouq",
        "colab_type": "code",
        "colab": {}
      },
      "source": [
        "# BigQuery API Key\n",
        "bq_auth(path = \"/content/mpg-data-warehouse-api_key-master.json\")"
      ],
      "execution_count": null,
      "outputs": []
    },
    {
      "cell_type": "code",
      "metadata": {
        "id": "8YxL8wHoBNxV",
        "colab_type": "code",
        "colab": {}
      },
      "source": [
        "Sys.setenv(BIGQUERY_TEST_PROJECT = \"mpg-data-warehouse\")"
      ],
      "execution_count": null,
      "outputs": []
    },
    {
      "cell_type": "code",
      "metadata": {
        "id": "yevfizb5BQXm",
        "colab_type": "code",
        "colab": {}
      },
      "source": [
        "billing <- bq_test_project()"
      ],
      "execution_count": null,
      "outputs": []
    },
    {
      "cell_type": "markdown",
      "metadata": {
        "id": "NqQgp3zylv23",
        "colab_type": "text"
      },
      "source": [
        "### Survey Effort"
      ]
    },
    {
      "cell_type": "code",
      "metadata": {
        "id": "mKsvG7zTBXl3",
        "colab_type": "code",
        "colab": {}
      },
      "source": [
        "con_survey_effort <- dbConnect(\n",
        "  bigrquery::bigquery(),\n",
        "  project = \"mpg-data-warehouse\",\n",
        "  dataset = \"vegetation_gridVeg_summaries\",\n",
        "  billing = billing\n",
        ")"
      ],
      "execution_count": null,
      "outputs": []
    },
    {
      "cell_type": "code",
      "metadata": {
        "id": "64HvPjFbBZem",
        "colab_type": "code",
        "colab": {
          "base_uri": "https://localhost:8080/",
          "height": 34
        },
        "outputId": "0fd3520d-b6b9-4b1d-d1f6-10c67b96a302"
      },
      "source": [
        "dbListTables(con_survey_effort)"
      ],
      "execution_count": null,
      "outputs": [
        {
          "output_type": "display_data",
          "data": {
            "text/plain": [
              "[1] \"gridVeg_groundCover_intercepts\" \"gridVeg_plant_intercepts\"      \n",
              "[3] \"gridVeg_species_richness\"       \"gridVeg_survey_effort\"         "
            ],
            "text/latex": "\\begin{enumerate*}\n\\item 'gridVeg\\_groundCover\\_intercepts'\n\\item 'gridVeg\\_plant\\_intercepts'\n\\item 'gridVeg\\_species\\_richness'\n\\item 'gridVeg\\_survey\\_effort'\n\\end{enumerate*}\n",
            "text/markdown": "1. 'gridVeg_groundCover_intercepts'\n2. 'gridVeg_plant_intercepts'\n3. 'gridVeg_species_richness'\n4. 'gridVeg_survey_effort'\n\n\n",
            "text/html": [
              "<style>\n",
              ".list-inline {list-style: none; margin:0; padding: 0}\n",
              ".list-inline>li {display: inline-block}\n",
              ".list-inline>li:not(:last-child)::after {content: \"\\00b7\"; padding: 0 .5ex}\n",
              "</style>\n",
              "<ol class=list-inline><li>'gridVeg_groundCover_intercepts'</li><li>'gridVeg_plant_intercepts'</li><li>'gridVeg_species_richness'</li><li>'gridVeg_survey_effort'</li></ol>\n"
            ]
          },
          "metadata": {
            "tags": []
          }
        }
      ]
    },
    {
      "cell_type": "code",
      "metadata": {
        "id": "26UqASAoB2p0",
        "colab_type": "code",
        "colab": {}
      },
      "source": [
        "intercepts_sql <- \"SELECT survey_ID, grid_point, key_plant_code, intercepts_pct\n",
        "                   FROM `mpg-data-warehouse.vegetation_gridVeg_summaries.gridVeg_plant_intercepts`\""
      ],
      "execution_count": null,
      "outputs": []
    },
    {
      "cell_type": "code",
      "metadata": {
        "id": "VSXOoJkcB3dn",
        "colab_type": "code",
        "colab": {}
      },
      "source": [
        "bq_intercepts <- bq_project_query(billing, intercepts_sql)"
      ],
      "execution_count": null,
      "outputs": []
    },
    {
      "cell_type": "code",
      "metadata": {
        "id": "KpZnymzzB5Ms",
        "colab_type": "code",
        "colab": {}
      },
      "source": [
        "tb_intercepts <- bq_table_download(bq_intercepts)"
      ],
      "execution_count": null,
      "outputs": []
    },
    {
      "cell_type": "code",
      "metadata": {
        "id": "VcoNMCO1B6gY",
        "colab_type": "code",
        "colab": {}
      },
      "source": [
        "df_intercepts <- as.data.frame(tb_intercepts)"
      ],
      "execution_count": null,
      "outputs": []
    },
    {
      "cell_type": "code",
      "metadata": {
        "id": "QCtGJFkHhDNS",
        "colab_type": "code",
        "colab": {
          "base_uri": "https://localhost:8080/",
          "height": 119
        },
        "outputId": "9c1eea58-c898-45a8-b5c2-9f04f512c833"
      },
      "source": [
        "glimpse(df_intercepts)"
      ],
      "execution_count": null,
      "outputs": [
        {
          "output_type": "stream",
          "text": [
            "Rows: 25,089\n",
            "Columns: 4\n",
            "$ survey_ID      \u001b[3m\u001b[90m<chr>\u001b[39m\u001b[23m \"436\", \"436\", \"436\", \"436\", \"436\", \"436\", \"436\", \"436\"…\n",
            "$ grid_point     \u001b[3m\u001b[90m<int>\u001b[39m\u001b[23m 1, 1, 1, 1, 1, 1, 1, 1, 1, 1, 1, 1, 1, 1, 1, 1, 1, 1, …\n",
            "$ key_plant_code \u001b[3m\u001b[90m<chr>\u001b[39m\u001b[23m \"HEUCYL\", \"ALLCER\", \"GEUTRI\", \"ERIG_SP\", \"ARESER\", \"GA…\n",
            "$ intercepts_pct \u001b[3m\u001b[90m<dbl>\u001b[39m\u001b[23m 2.5, 0.5, 1.0, 0.5, 1.0, 1.5, 1.0, 2.5, 0.5, 1.0, 14.5…\n"
          ],
          "name": "stdout"
        }
      ]
    },
    {
      "cell_type": "markdown",
      "metadata": {
        "id": "QT11OHZMl0N9",
        "colab_type": "text"
      },
      "source": [
        "### Survey Metadata"
      ]
    },
    {
      "cell_type": "code",
      "metadata": {
        "id": "rWy5_vcgl3sX",
        "colab_type": "code",
        "colab": {}
      },
      "source": [
        "con_survey_meta <- dbConnect(\n",
        "  bigrquery::bigquery(),\n",
        "  project = \"mpg-data-warehouse\",\n",
        "  dataset = \"vegetation_point_intercept_gridVeg\",\n",
        "  billing = billing\n",
        ")"
      ],
      "execution_count": null,
      "outputs": []
    },
    {
      "cell_type": "code",
      "metadata": {
        "id": "HrGNMfM1l_vA",
        "colab_type": "code",
        "colab": {
          "base_uri": "https://localhost:8080/",
          "height": 51
        },
        "outputId": "26f127cc-b6ab-4a62-a68f-bd468bf6ccb5"
      },
      "source": [
        "dbListTables(con_survey_meta)"
      ],
      "execution_count": null,
      "outputs": [
        {
          "output_type": "display_data",
          "data": {
            "text/plain": [
              "[1] \"gridVeg_additional_species\"         \"gridVeg_ground_cover_metadata\"     \n",
              "[3] \"gridVeg_image_metadata\"             \"gridVeg_point_intercept_ground\"    \n",
              "[5] \"gridVeg_point_intercept_vegetation\" \"gridVeg_shrub_tree\"                \n",
              "[7] \"gridVeg_survey_metadata\"           "
            ],
            "text/latex": "\\begin{enumerate*}\n\\item 'gridVeg\\_additional\\_species'\n\\item 'gridVeg\\_ground\\_cover\\_metadata'\n\\item 'gridVeg\\_image\\_metadata'\n\\item 'gridVeg\\_point\\_intercept\\_ground'\n\\item 'gridVeg\\_point\\_intercept\\_vegetation'\n\\item 'gridVeg\\_shrub\\_tree'\n\\item 'gridVeg\\_survey\\_metadata'\n\\end{enumerate*}\n",
            "text/markdown": "1. 'gridVeg_additional_species'\n2. 'gridVeg_ground_cover_metadata'\n3. 'gridVeg_image_metadata'\n4. 'gridVeg_point_intercept_ground'\n5. 'gridVeg_point_intercept_vegetation'\n6. 'gridVeg_shrub_tree'\n7. 'gridVeg_survey_metadata'\n\n\n",
            "text/html": [
              "<style>\n",
              ".list-inline {list-style: none; margin:0; padding: 0}\n",
              ".list-inline>li {display: inline-block}\n",
              ".list-inline>li:not(:last-child)::after {content: \"\\00b7\"; padding: 0 .5ex}\n",
              "</style>\n",
              "<ol class=list-inline><li>'gridVeg_additional_species'</li><li>'gridVeg_ground_cover_metadata'</li><li>'gridVeg_image_metadata'</li><li>'gridVeg_point_intercept_ground'</li><li>'gridVeg_point_intercept_vegetation'</li><li>'gridVeg_shrub_tree'</li><li>'gridVeg_survey_metadata'</li></ol>\n"
            ]
          },
          "metadata": {
            "tags": []
          }
        }
      ]
    },
    {
      "cell_type": "code",
      "metadata": {
        "id": "lSJe_KgLmZNu",
        "colab_type": "code",
        "colab": {}
      },
      "source": [
        "meta_sql <- \"SELECT survey_ID, year, survey_sequence FROM `mpg-data-warehouse.vegetation_point_intercept_gridVeg.gridVeg_survey_metadata`\""
      ],
      "execution_count": null,
      "outputs": []
    },
    {
      "cell_type": "code",
      "metadata": {
        "id": "1LBi1faumtmF",
        "colab_type": "code",
        "colab": {}
      },
      "source": [
        "bq_meta <- bq_project_query(billing, meta_sql)"
      ],
      "execution_count": null,
      "outputs": []
    },
    {
      "cell_type": "code",
      "metadata": {
        "id": "3prItf79m786",
        "colab_type": "code",
        "colab": {}
      },
      "source": [
        "tb_meta <- bq_table_download(bq_meta)"
      ],
      "execution_count": null,
      "outputs": []
    },
    {
      "cell_type": "code",
      "metadata": {
        "id": "SeBOfCeEnAqo",
        "colab_type": "code",
        "colab": {}
      },
      "source": [
        "df_meta <- as.data.frame(tb_meta)"
      ],
      "execution_count": null,
      "outputs": []
    },
    {
      "cell_type": "code",
      "metadata": {
        "id": "DxpB2s3pp5Y1",
        "colab_type": "code",
        "colab": {
          "base_uri": "https://localhost:8080/",
          "height": 102
        },
        "outputId": "af0b1a89-3429-4567-8d4b-f71fdf13a740"
      },
      "source": [
        "glimpse(df_meta)"
      ],
      "execution_count": null,
      "outputs": [
        {
          "output_type": "stream",
          "text": [
            "Rows: 1,472\n",
            "Columns: 3\n",
            "$ survey_ID       \u001b[3m\u001b[90m<chr>\u001b[39m\u001b[23m \"F31C56A8-912D-410C-A17D-4C2DD75F71A4\", \"A19E87E6-A89…\n",
            "$ year            \u001b[3m\u001b[90m<int>\u001b[39m\u001b[23m 2016, 2016, 2016, 2016, 2016, 2016, 2016, 2016, 2016,…\n",
            "$ survey_sequence \u001b[3m\u001b[90m<chr>\u001b[39m\u001b[23m \"2016\", \"2016\", \"2016\", \"2016\", \"2016\", \"2016\", \"2016…\n"
          ],
          "name": "stdout"
        }
      ]
    },
    {
      "cell_type": "markdown",
      "metadata": {
        "id": "CoReX6UTnK0q",
        "colab_type": "text"
      },
      "source": [
        "### Position Classification"
      ]
    },
    {
      "cell_type": "code",
      "metadata": {
        "id": "S-384xnKnSd-",
        "colab_type": "code",
        "colab": {}
      },
      "source": [
        "con_position_class <- dbConnect(\n",
        "  bigrquery::bigquery(),\n",
        "  project = \"mpg-data-warehouse\",\n",
        "  dataset = \"grid_point_summaries\",\n",
        "  billing = billing\n",
        ")"
      ],
      "execution_count": null,
      "outputs": []
    },
    {
      "cell_type": "code",
      "metadata": {
        "id": "QmEH45ITndcv",
        "colab_type": "code",
        "colab": {
          "base_uri": "https://localhost:8080/",
          "height": 34
        },
        "outputId": "7ad80357-d6d7-497c-d9ec-787aadcca4d1"
      },
      "source": [
        "dbListTables(con_position_class)"
      ],
      "execution_count": null,
      "outputs": [
        {
          "output_type": "display_data",
          "data": {
            "text/plain": [
              "[1] \"location\"                         \"location_position\"               \n",
              "[3] \"location_position_classification\""
            ],
            "text/latex": "\\begin{enumerate*}\n\\item 'location'\n\\item 'location\\_position'\n\\item 'location\\_position\\_classification'\n\\end{enumerate*}\n",
            "text/markdown": "1. 'location'\n2. 'location_position'\n3. 'location_position_classification'\n\n\n",
            "text/html": [
              "<style>\n",
              ".list-inline {list-style: none; margin:0; padding: 0}\n",
              ".list-inline>li {display: inline-block}\n",
              ".list-inline>li:not(:last-child)::after {content: \"\\00b7\"; padding: 0 .5ex}\n",
              "</style>\n",
              "<ol class=list-inline><li>'location'</li><li>'location_position'</li><li>'location_position_classification'</li></ol>\n"
            ]
          },
          "metadata": {
            "tags": []
          }
        }
      ]
    },
    {
      "cell_type": "code",
      "metadata": {
        "id": "HwX3L3IOniEa",
        "colab_type": "code",
        "colab": {}
      },
      "source": [
        "position_sql <- \"SELECT \n",
        "                grid_point, aspect_mean_deg, elevation_mean_m, slope_mean_deg, \n",
        "                cover_type_2016_gridVeg, type3_vegetation_indicators, type4_indicators_history\n",
        "             FROM `mpg-data-warehouse.grid_point_summaries.location_position_classification`\""
      ],
      "execution_count": null,
      "outputs": []
    },
    {
      "cell_type": "code",
      "metadata": {
        "id": "aEacWG6Un9_-",
        "colab_type": "code",
        "colab": {}
      },
      "source": [
        "bq_position <- bq_project_query(billing, position_sql)"
      ],
      "execution_count": null,
      "outputs": []
    },
    {
      "cell_type": "code",
      "metadata": {
        "id": "WyhdeEK5oFj5",
        "colab_type": "code",
        "colab": {}
      },
      "source": [
        "tb_position <- bq_table_download(bq_position)"
      ],
      "execution_count": null,
      "outputs": []
    },
    {
      "cell_type": "code",
      "metadata": {
        "id": "4R9W-hPNoMlf",
        "colab_type": "code",
        "colab": {}
      },
      "source": [
        "df_position <- as.data.frame(tb_position)"
      ],
      "execution_count": null,
      "outputs": []
    },
    {
      "cell_type": "code",
      "metadata": {
        "id": "eYoP4Q-ioQ0g",
        "colab_type": "code",
        "colab": {
          "base_uri": "https://localhost:8080/",
          "height": 170
        },
        "outputId": "5ba64562-ec57-429d-aee3-581a564c9f75"
      },
      "source": [
        "glimpse(df_position)"
      ],
      "execution_count": null,
      "outputs": [
        {
          "output_type": "stream",
          "text": [
            "Rows: 582\n",
            "Columns: 7\n",
            "$ grid_point                  \u001b[3m\u001b[90m<int>\u001b[39m\u001b[23m 1, 2, 3, 4, 5, 6, 7, 8, 9, 10, 11, 12, 13…\n",
            "$ aspect_mean_deg             \u001b[3m\u001b[90m<dbl>\u001b[39m\u001b[23m 334.7050, 45.3030, 221.3340, 290.4890, 28…\n",
            "$ elevation_mean_m            \u001b[3m\u001b[90m<dbl>\u001b[39m\u001b[23m 1395.64, 1456.09, 1126.90, 1166.33, 1179.…\n",
            "$ slope_mean_deg              \u001b[3m\u001b[90m<dbl>\u001b[39m\u001b[23m 28.44230, 12.22630, 4.25130, 2.68361, 4.2…\n",
            "$ cover_type_2016_gridVeg     \u001b[3m\u001b[90m<chr>\u001b[39m\u001b[23m \"woodland/forest\", \"non-irrigated grassla…\n",
            "$ type3_vegetation_indicators \u001b[3m\u001b[90m<chr>\u001b[39m\u001b[23m \"mixed canopy conifer\", \"uncultivated gra…\n",
            "$ type4_indicators_history    \u001b[3m\u001b[90m<chr>\u001b[39m\u001b[23m \"mixed canopy conifer\", \"uncultivated gra…\n"
          ],
          "name": "stdout"
        }
      ]
    },
    {
      "cell_type": "markdown",
      "metadata": {
        "id": "yhvJcX7bhYpL",
        "colab_type": "text"
      },
      "source": [
        "# Wrangle"
      ]
    },
    {
      "cell_type": "markdown",
      "metadata": {
        "id": "ZF6FnL1roZpA",
        "colab_type": "text"
      },
      "source": [
        "## Reshape Intercepts/Effort"
      ]
    },
    {
      "cell_type": "code",
      "metadata": {
        "id": "TZmRWHrkhNdL",
        "colab_type": "code",
        "colab": {}
      },
      "source": [
        "df_intercepts <- df_intercepts %>%\n",
        "  spread(key_plant_code, intercepts_pct, fill = 0)"
      ],
      "execution_count": null,
      "outputs": []
    },
    {
      "cell_type": "markdown",
      "metadata": {
        "id": "QTosAk_yooLA",
        "colab_type": "text"
      },
      "source": [
        "## Join Tables"
      ]
    },
    {
      "cell_type": "code",
      "metadata": {
        "id": "YxxChsstopL5",
        "colab_type": "code",
        "colab": {
          "base_uri": "https://localhost:8080/",
          "height": 51
        },
        "outputId": "a8aab908-a522-419e-a09d-70e780309910"
      },
      "source": [
        "df_abundance_matrix <- df_intercepts %>%\n",
        "  left_join(df_meta)"
      ],
      "execution_count": null,
      "outputs": [
        {
          "output_type": "stream",
          "text": [
            "Joining, by = \"survey_ID\"\n",
            "\n"
          ],
          "name": "stderr"
        }
      ]
    },
    {
      "cell_type": "code",
      "metadata": {
        "id": "iNAhiEuZsQ8G",
        "colab_type": "code",
        "colab": {
          "base_uri": "https://localhost:8080/",
          "height": 51
        },
        "outputId": "76108553-3689-490a-d0cf-7e41b243137f"
      },
      "source": [
        "df_abundance_matrix <- df_abundance_matrix %>%\n",
        "  left_join(df_position)"
      ],
      "execution_count": null,
      "outputs": [
        {
          "output_type": "stream",
          "text": [
            "Joining, by = \"grid_point\"\n",
            "\n"
          ],
          "name": "stderr"
        }
      ]
    },
    {
      "cell_type": "markdown",
      "metadata": {
        "id": "VdSIve1b2iOc",
        "colab_type": "text"
      },
      "source": [
        "## Reorder Columns"
      ]
    },
    {
      "cell_type": "code",
      "metadata": {
        "id": "_v5UNLcW6C_u",
        "colab_type": "code",
        "colab": {
          "base_uri": "https://localhost:8080/",
          "height": 369
        },
        "outputId": "53c65585-cd03-48d3-9682-a09c5fb0b6c0"
      },
      "source": [
        "head(df_abundance_matrix, n=4)"
      ],
      "execution_count": null,
      "outputs": [
        {
          "output_type": "display_data",
          "data": {
            "text/plain": [
              "  survey_ID                            grid_point ABIGRA ABILAS ACEGLA ACHMIL\n",
              "1 012C5FAD-2451-41B0-9E2F-432D1ECEB55C 285        0      0      0      0.0   \n",
              "2 0133805F-8237-4190-B125-14E883158664 505        0      0      8      0.0   \n",
              "3 0155DA4F-B744-4B92-BAE3-326ABC3C586F 401        0      0      0      6.5   \n",
              "4 0159CEF8-3C0B-42D1-B961-03DA47A2C274  23        0      0      0      0.0   \n",
              "  ACTRUB AGAURT AGOAUR AGOGLA ⋯ XERTEN ZEAMAY year survey_sequence\n",
              "1 0      0      0      0      ⋯ 0      0      2016 2016           \n",
              "2 0      0      0      0      ⋯ 0      0      2016 2016           \n",
              "3 0      0      0      0      ⋯ 0      0      2017 2017           \n",
              "4 0      0      0      0      ⋯ 0      0      2016 2016           \n",
              "  aspect_mean_deg elevation_mean_m slope_mean_deg cover_type_2016_gridVeg\n",
              "1 138.749         1352.10          24.51410       shrubland              \n",
              "2 319.161         1194.89          16.50500       woody draw             \n",
              "3 178.871         1588.60           8.31327       woodland/forest        \n",
              "4 264.245         1224.44           9.72424       shrubland              \n",
              "  type3_vegetation_indicators type4_indicators_history  \n",
              "1 mixed sage and bitterbrush  mixed sage and bitterbrush\n",
              "2 wooded draw                 wooded draw               \n",
              "3 open canopy conifer         open canopy conifer       \n",
              "4 bitterbrush                 bitterbrush               "
            ],
            "text/latex": "A data.frame: 4 × 499\n\\begin{tabular}{r|lllllllllllllllllllll}\n  & survey\\_ID & grid\\_point & ABIGRA & ABILAS & ACEGLA & ACHMIL & ACTRUB & AGAURT & AGOAUR & AGOGLA & ⋯ & XERTEN & ZEAMAY & year & survey\\_sequence & aspect\\_mean\\_deg & elevation\\_mean\\_m & slope\\_mean\\_deg & cover\\_type\\_2016\\_gridVeg & type3\\_vegetation\\_indicators & type4\\_indicators\\_history\\\\\n  & <chr> & <int> & <dbl> & <dbl> & <dbl> & <dbl> & <dbl> & <dbl> & <dbl> & <dbl> & ⋯ & <dbl> & <dbl> & <int> & <chr> & <dbl> & <dbl> & <dbl> & <chr> & <chr> & <chr>\\\\\n\\hline\n\t1 & 012C5FAD-2451-41B0-9E2F-432D1ECEB55C & 285 & 0 & 0 & 0 & 0.0 & 0 & 0 & 0 & 0 & ⋯ & 0 & 0 & 2016 & 2016 & 138.749 & 1352.10 & 24.51410 & shrubland       & mixed sage and bitterbrush & mixed sage and bitterbrush\\\\\n\t2 & 0133805F-8237-4190-B125-14E883158664 & 505 & 0 & 0 & 8 & 0.0 & 0 & 0 & 0 & 0 & ⋯ & 0 & 0 & 2016 & 2016 & 319.161 & 1194.89 & 16.50500 & woody draw      & wooded draw                & wooded draw               \\\\\n\t3 & 0155DA4F-B744-4B92-BAE3-326ABC3C586F & 401 & 0 & 0 & 0 & 6.5 & 0 & 0 & 0 & 0 & ⋯ & 0 & 0 & 2017 & 2017 & 178.871 & 1588.60 &  8.31327 & woodland/forest & open canopy conifer        & open canopy conifer       \\\\\n\t4 & 0159CEF8-3C0B-42D1-B961-03DA47A2C274 &  23 & 0 & 0 & 0 & 0.0 & 0 & 0 & 0 & 0 & ⋯ & 0 & 0 & 2016 & 2016 & 264.245 & 1224.44 &  9.72424 & shrubland       & bitterbrush                & bitterbrush               \\\\\n\\end{tabular}\n",
            "text/markdown": "\nA data.frame: 4 × 499\n\n| <!--/--> | survey_ID &lt;chr&gt; | grid_point &lt;int&gt; | ABIGRA &lt;dbl&gt; | ABILAS &lt;dbl&gt; | ACEGLA &lt;dbl&gt; | ACHMIL &lt;dbl&gt; | ACTRUB &lt;dbl&gt; | AGAURT &lt;dbl&gt; | AGOAUR &lt;dbl&gt; | AGOGLA &lt;dbl&gt; | ⋯ ⋯ | XERTEN &lt;dbl&gt; | ZEAMAY &lt;dbl&gt; | year &lt;int&gt; | survey_sequence &lt;chr&gt; | aspect_mean_deg &lt;dbl&gt; | elevation_mean_m &lt;dbl&gt; | slope_mean_deg &lt;dbl&gt; | cover_type_2016_gridVeg &lt;chr&gt; | type3_vegetation_indicators &lt;chr&gt; | type4_indicators_history &lt;chr&gt; |\n|---|---|---|---|---|---|---|---|---|---|---|---|---|---|---|---|---|---|---|---|---|---|\n| 1 | 012C5FAD-2451-41B0-9E2F-432D1ECEB55C | 285 | 0 | 0 | 0 | 0.0 | 0 | 0 | 0 | 0 | ⋯ | 0 | 0 | 2016 | 2016 | 138.749 | 1352.10 | 24.51410 | shrubland       | mixed sage and bitterbrush | mixed sage and bitterbrush |\n| 2 | 0133805F-8237-4190-B125-14E883158664 | 505 | 0 | 0 | 8 | 0.0 | 0 | 0 | 0 | 0 | ⋯ | 0 | 0 | 2016 | 2016 | 319.161 | 1194.89 | 16.50500 | woody draw      | wooded draw                | wooded draw                |\n| 3 | 0155DA4F-B744-4B92-BAE3-326ABC3C586F | 401 | 0 | 0 | 0 | 6.5 | 0 | 0 | 0 | 0 | ⋯ | 0 | 0 | 2017 | 2017 | 178.871 | 1588.60 |  8.31327 | woodland/forest | open canopy conifer        | open canopy conifer        |\n| 4 | 0159CEF8-3C0B-42D1-B961-03DA47A2C274 |  23 | 0 | 0 | 0 | 0.0 | 0 | 0 | 0 | 0 | ⋯ | 0 | 0 | 2016 | 2016 | 264.245 | 1224.44 |  9.72424 | shrubland       | bitterbrush                | bitterbrush                |\n\n",
            "text/html": [
              "<table>\n",
              "<caption>A data.frame: 4 × 499</caption>\n",
              "<thead>\n",
              "\t<tr><th></th><th scope=col>survey_ID</th><th scope=col>grid_point</th><th scope=col>ABIGRA</th><th scope=col>ABILAS</th><th scope=col>ACEGLA</th><th scope=col>ACHMIL</th><th scope=col>ACTRUB</th><th scope=col>AGAURT</th><th scope=col>AGOAUR</th><th scope=col>AGOGLA</th><th scope=col>⋯</th><th scope=col>XERTEN</th><th scope=col>ZEAMAY</th><th scope=col>year</th><th scope=col>survey_sequence</th><th scope=col>aspect_mean_deg</th><th scope=col>elevation_mean_m</th><th scope=col>slope_mean_deg</th><th scope=col>cover_type_2016_gridVeg</th><th scope=col>type3_vegetation_indicators</th><th scope=col>type4_indicators_history</th></tr>\n",
              "\t<tr><th></th><th scope=col>&lt;chr&gt;</th><th scope=col>&lt;int&gt;</th><th scope=col>&lt;dbl&gt;</th><th scope=col>&lt;dbl&gt;</th><th scope=col>&lt;dbl&gt;</th><th scope=col>&lt;dbl&gt;</th><th scope=col>&lt;dbl&gt;</th><th scope=col>&lt;dbl&gt;</th><th scope=col>&lt;dbl&gt;</th><th scope=col>&lt;dbl&gt;</th><th scope=col>⋯</th><th scope=col>&lt;dbl&gt;</th><th scope=col>&lt;dbl&gt;</th><th scope=col>&lt;int&gt;</th><th scope=col>&lt;chr&gt;</th><th scope=col>&lt;dbl&gt;</th><th scope=col>&lt;dbl&gt;</th><th scope=col>&lt;dbl&gt;</th><th scope=col>&lt;chr&gt;</th><th scope=col>&lt;chr&gt;</th><th scope=col>&lt;chr&gt;</th></tr>\n",
              "</thead>\n",
              "<tbody>\n",
              "\t<tr><th scope=row>1</th><td>012C5FAD-2451-41B0-9E2F-432D1ECEB55C</td><td>285</td><td>0</td><td>0</td><td>0</td><td>0.0</td><td>0</td><td>0</td><td>0</td><td>0</td><td>⋯</td><td>0</td><td>0</td><td>2016</td><td>2016</td><td>138.749</td><td>1352.10</td><td>24.51410</td><td>shrubland      </td><td>mixed sage and bitterbrush</td><td>mixed sage and bitterbrush</td></tr>\n",
              "\t<tr><th scope=row>2</th><td>0133805F-8237-4190-B125-14E883158664</td><td>505</td><td>0</td><td>0</td><td>8</td><td>0.0</td><td>0</td><td>0</td><td>0</td><td>0</td><td>⋯</td><td>0</td><td>0</td><td>2016</td><td>2016</td><td>319.161</td><td>1194.89</td><td>16.50500</td><td>woody draw     </td><td>wooded draw               </td><td>wooded draw               </td></tr>\n",
              "\t<tr><th scope=row>3</th><td>0155DA4F-B744-4B92-BAE3-326ABC3C586F</td><td>401</td><td>0</td><td>0</td><td>0</td><td>6.5</td><td>0</td><td>0</td><td>0</td><td>0</td><td>⋯</td><td>0</td><td>0</td><td>2017</td><td>2017</td><td>178.871</td><td>1588.60</td><td> 8.31327</td><td>woodland/forest</td><td>open canopy conifer       </td><td>open canopy conifer       </td></tr>\n",
              "\t<tr><th scope=row>4</th><td>0159CEF8-3C0B-42D1-B961-03DA47A2C274</td><td> 23</td><td>0</td><td>0</td><td>0</td><td>0.0</td><td>0</td><td>0</td><td>0</td><td>0</td><td>⋯</td><td>0</td><td>0</td><td>2016</td><td>2016</td><td>264.245</td><td>1224.44</td><td> 9.72424</td><td>shrubland      </td><td>bitterbrush               </td><td>bitterbrush               </td></tr>\n",
              "</tbody>\n",
              "</table>\n"
            ]
          },
          "metadata": {
            "tags": []
          }
        }
      ]
    },
    {
      "cell_type": "code",
      "metadata": {
        "id": "J19hPp2b5ycF",
        "colab_type": "code",
        "colab": {}
      },
      "source": [
        "df_abundance_matrix <- df_abundance_matrix[,c(1,492,493,2,494:ncol(df_abundance_matrix),3:491)]"
      ],
      "execution_count": null,
      "outputs": []
    },
    {
      "cell_type": "code",
      "metadata": {
        "id": "1zMKt0hI4qwL",
        "colab_type": "code",
        "colab": {
          "base_uri": "https://localhost:8080/",
          "height": 369
        },
        "outputId": "0beeb834-b580-4ef5-d12e-c52971fc3364"
      },
      "source": [
        "head(df_abundance_matrix, n=4)"
      ],
      "execution_count": null,
      "outputs": [
        {
          "output_type": "display_data",
          "data": {
            "text/plain": [
              "  survey_ID                            year survey_sequence grid_point\n",
              "1 012C5FAD-2451-41B0-9E2F-432D1ECEB55C 2016 2016            285       \n",
              "2 0133805F-8237-4190-B125-14E883158664 2016 2016            505       \n",
              "3 0155DA4F-B744-4B92-BAE3-326ABC3C586F 2017 2017            401       \n",
              "4 0159CEF8-3C0B-42D1-B961-03DA47A2C274 2016 2016             23       \n",
              "  aspect_mean_deg elevation_mean_m slope_mean_deg cover_type_2016_gridVeg\n",
              "1 138.749         1352.10          24.51410       shrubland              \n",
              "2 319.161         1194.89          16.50500       woody draw             \n",
              "3 178.871         1588.60           8.31327       woodland/forest        \n",
              "4 264.245         1224.44           9.72424       shrubland              \n",
              "  type3_vegetation_indicators type4_indicators_history   ⋯ VERVIR VICAME VICSAT\n",
              "1 mixed sage and bitterbrush  mixed sage and bitterbrush ⋯ 0      0      0     \n",
              "2 wooded draw                 wooded draw                ⋯ 0      0      0     \n",
              "3 open canopy conifer         open canopy conifer        ⋯ 0      0      0     \n",
              "4 bitterbrush                 bitterbrush                ⋯ 0      0      0     \n",
              "  VIOCAN VIOL_SP VIONUT VULOCT WOOORE XERTEN ZEAMAY\n",
              "1 0      0       0      0      0      0      0     \n",
              "2 0      0       0      0      0      0      0     \n",
              "3 0      0       0      0      0      0      0     \n",
              "4 0      0       0      0      0      0      0     "
            ],
            "text/latex": "A data.frame: 4 × 499\n\\begin{tabular}{r|lllllllllllllllllllll}\n  & survey\\_ID & year & survey\\_sequence & grid\\_point & aspect\\_mean\\_deg & elevation\\_mean\\_m & slope\\_mean\\_deg & cover\\_type\\_2016\\_gridVeg & type3\\_vegetation\\_indicators & type4\\_indicators\\_history & ⋯ & VERVIR & VICAME & VICSAT & VIOCAN & VIOL\\_SP & VIONUT & VULOCT & WOOORE & XERTEN & ZEAMAY\\\\\n  & <chr> & <int> & <chr> & <int> & <dbl> & <dbl> & <dbl> & <chr> & <chr> & <chr> & ⋯ & <dbl> & <dbl> & <dbl> & <dbl> & <dbl> & <dbl> & <dbl> & <dbl> & <dbl> & <dbl>\\\\\n\\hline\n\t1 & 012C5FAD-2451-41B0-9E2F-432D1ECEB55C & 2016 & 2016 & 285 & 138.749 & 1352.10 & 24.51410 & shrubland       & mixed sage and bitterbrush & mixed sage and bitterbrush & ⋯ & 0 & 0 & 0 & 0 & 0 & 0 & 0 & 0 & 0 & 0\\\\\n\t2 & 0133805F-8237-4190-B125-14E883158664 & 2016 & 2016 & 505 & 319.161 & 1194.89 & 16.50500 & woody draw      & wooded draw                & wooded draw                & ⋯ & 0 & 0 & 0 & 0 & 0 & 0 & 0 & 0 & 0 & 0\\\\\n\t3 & 0155DA4F-B744-4B92-BAE3-326ABC3C586F & 2017 & 2017 & 401 & 178.871 & 1588.60 &  8.31327 & woodland/forest & open canopy conifer        & open canopy conifer        & ⋯ & 0 & 0 & 0 & 0 & 0 & 0 & 0 & 0 & 0 & 0\\\\\n\t4 & 0159CEF8-3C0B-42D1-B961-03DA47A2C274 & 2016 & 2016 &  23 & 264.245 & 1224.44 &  9.72424 & shrubland       & bitterbrush                & bitterbrush                & ⋯ & 0 & 0 & 0 & 0 & 0 & 0 & 0 & 0 & 0 & 0\\\\\n\\end{tabular}\n",
            "text/markdown": "\nA data.frame: 4 × 499\n\n| <!--/--> | survey_ID &lt;chr&gt; | year &lt;int&gt; | survey_sequence &lt;chr&gt; | grid_point &lt;int&gt; | aspect_mean_deg &lt;dbl&gt; | elevation_mean_m &lt;dbl&gt; | slope_mean_deg &lt;dbl&gt; | cover_type_2016_gridVeg &lt;chr&gt; | type3_vegetation_indicators &lt;chr&gt; | type4_indicators_history &lt;chr&gt; | ⋯ ⋯ | VERVIR &lt;dbl&gt; | VICAME &lt;dbl&gt; | VICSAT &lt;dbl&gt; | VIOCAN &lt;dbl&gt; | VIOL_SP &lt;dbl&gt; | VIONUT &lt;dbl&gt; | VULOCT &lt;dbl&gt; | WOOORE &lt;dbl&gt; | XERTEN &lt;dbl&gt; | ZEAMAY &lt;dbl&gt; |\n|---|---|---|---|---|---|---|---|---|---|---|---|---|---|---|---|---|---|---|---|---|---|\n| 1 | 012C5FAD-2451-41B0-9E2F-432D1ECEB55C | 2016 | 2016 | 285 | 138.749 | 1352.10 | 24.51410 | shrubland       | mixed sage and bitterbrush | mixed sage and bitterbrush | ⋯ | 0 | 0 | 0 | 0 | 0 | 0 | 0 | 0 | 0 | 0 |\n| 2 | 0133805F-8237-4190-B125-14E883158664 | 2016 | 2016 | 505 | 319.161 | 1194.89 | 16.50500 | woody draw      | wooded draw                | wooded draw                | ⋯ | 0 | 0 | 0 | 0 | 0 | 0 | 0 | 0 | 0 | 0 |\n| 3 | 0155DA4F-B744-4B92-BAE3-326ABC3C586F | 2017 | 2017 | 401 | 178.871 | 1588.60 |  8.31327 | woodland/forest | open canopy conifer        | open canopy conifer        | ⋯ | 0 | 0 | 0 | 0 | 0 | 0 | 0 | 0 | 0 | 0 |\n| 4 | 0159CEF8-3C0B-42D1-B961-03DA47A2C274 | 2016 | 2016 |  23 | 264.245 | 1224.44 |  9.72424 | shrubland       | bitterbrush                | bitterbrush                | ⋯ | 0 | 0 | 0 | 0 | 0 | 0 | 0 | 0 | 0 | 0 |\n\n",
            "text/html": [
              "<table>\n",
              "<caption>A data.frame: 4 × 499</caption>\n",
              "<thead>\n",
              "\t<tr><th></th><th scope=col>survey_ID</th><th scope=col>year</th><th scope=col>survey_sequence</th><th scope=col>grid_point</th><th scope=col>aspect_mean_deg</th><th scope=col>elevation_mean_m</th><th scope=col>slope_mean_deg</th><th scope=col>cover_type_2016_gridVeg</th><th scope=col>type3_vegetation_indicators</th><th scope=col>type4_indicators_history</th><th scope=col>⋯</th><th scope=col>VERVIR</th><th scope=col>VICAME</th><th scope=col>VICSAT</th><th scope=col>VIOCAN</th><th scope=col>VIOL_SP</th><th scope=col>VIONUT</th><th scope=col>VULOCT</th><th scope=col>WOOORE</th><th scope=col>XERTEN</th><th scope=col>ZEAMAY</th></tr>\n",
              "\t<tr><th></th><th scope=col>&lt;chr&gt;</th><th scope=col>&lt;int&gt;</th><th scope=col>&lt;chr&gt;</th><th scope=col>&lt;int&gt;</th><th scope=col>&lt;dbl&gt;</th><th scope=col>&lt;dbl&gt;</th><th scope=col>&lt;dbl&gt;</th><th scope=col>&lt;chr&gt;</th><th scope=col>&lt;chr&gt;</th><th scope=col>&lt;chr&gt;</th><th scope=col>⋯</th><th scope=col>&lt;dbl&gt;</th><th scope=col>&lt;dbl&gt;</th><th scope=col>&lt;dbl&gt;</th><th scope=col>&lt;dbl&gt;</th><th scope=col>&lt;dbl&gt;</th><th scope=col>&lt;dbl&gt;</th><th scope=col>&lt;dbl&gt;</th><th scope=col>&lt;dbl&gt;</th><th scope=col>&lt;dbl&gt;</th><th scope=col>&lt;dbl&gt;</th></tr>\n",
              "</thead>\n",
              "<tbody>\n",
              "\t<tr><th scope=row>1</th><td>012C5FAD-2451-41B0-9E2F-432D1ECEB55C</td><td>2016</td><td>2016</td><td>285</td><td>138.749</td><td>1352.10</td><td>24.51410</td><td>shrubland      </td><td>mixed sage and bitterbrush</td><td>mixed sage and bitterbrush</td><td>⋯</td><td>0</td><td>0</td><td>0</td><td>0</td><td>0</td><td>0</td><td>0</td><td>0</td><td>0</td><td>0</td></tr>\n",
              "\t<tr><th scope=row>2</th><td>0133805F-8237-4190-B125-14E883158664</td><td>2016</td><td>2016</td><td>505</td><td>319.161</td><td>1194.89</td><td>16.50500</td><td>woody draw     </td><td>wooded draw               </td><td>wooded draw               </td><td>⋯</td><td>0</td><td>0</td><td>0</td><td>0</td><td>0</td><td>0</td><td>0</td><td>0</td><td>0</td><td>0</td></tr>\n",
              "\t<tr><th scope=row>3</th><td>0155DA4F-B744-4B92-BAE3-326ABC3C586F</td><td>2017</td><td>2017</td><td>401</td><td>178.871</td><td>1588.60</td><td> 8.31327</td><td>woodland/forest</td><td>open canopy conifer       </td><td>open canopy conifer       </td><td>⋯</td><td>0</td><td>0</td><td>0</td><td>0</td><td>0</td><td>0</td><td>0</td><td>0</td><td>0</td><td>0</td></tr>\n",
              "\t<tr><th scope=row>4</th><td>0159CEF8-3C0B-42D1-B961-03DA47A2C274</td><td>2016</td><td>2016</td><td> 23</td><td>264.245</td><td>1224.44</td><td> 9.72424</td><td>shrubland      </td><td>bitterbrush               </td><td>bitterbrush               </td><td>⋯</td><td>0</td><td>0</td><td>0</td><td>0</td><td>0</td><td>0</td><td>0</td><td>0</td><td>0</td><td>0</td></tr>\n",
              "</tbody>\n",
              "</table>\n"
            ]
          },
          "metadata": {
            "tags": []
          }
        }
      ]
    },
    {
      "cell_type": "markdown",
      "metadata": {
        "id": "1tqy5XTT-Ung",
        "colab_type": "text"
      },
      "source": [
        "# Output"
      ]
    },
    {
      "cell_type": "code",
      "metadata": {
        "id": "osJY-wN1fLre",
        "colab_type": "code",
        "colab": {}
      },
      "source": [
        "write_csv(df_abundance_matrix, path = \"gridVeg_plant_abundance_matrix_WRANGLE.csv\")"
      ],
      "execution_count": null,
      "outputs": []
    }
  ]
}