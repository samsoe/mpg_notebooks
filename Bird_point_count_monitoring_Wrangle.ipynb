{
  "nbformat": 4,
  "nbformat_minor": 0,
  "metadata": {
    "colab": {
      "name": "Bird point count monitoring - Wrangle.ipynb",
      "provenance": [],
      "collapsed_sections": [
        "TLobp50F2E-A"
      ],
      "toc_visible": true,
      "include_colab_link": true
    },
    "language_info": {
      "codemirror_mode": "r",
      "file_extension": ".r",
      "mimetype": "text/x-r-source",
      "name": "R",
      "pygments_lexer": "r",
      "version": "3.3.1"
    },
    "kernelspec": {
      "display_name": "R",
      "language": "R",
      "name": "ir"
    }
  },
  "cells": [
    {
      "cell_type": "markdown",
      "metadata": {
        "id": "view-in-github",
        "colab_type": "text"
      },
      "source": [
        "<a href=\"https://colab.research.google.com/github/samsoe/mpg_notebooks/blob/master/Bird_point_count_monitoring_Wrangle.ipynb\" target=\"_parent\"><img src=\"https://colab.research.google.com/assets/colab-badge.svg\" alt=\"Open In Colab\"/></a>"
      ]
    },
    {
      "cell_type": "markdown",
      "metadata": {
        "id": "BhOI1uU2Koum",
        "colab_type": "text"
      },
      "source": [
        "Documentation: [Readme bird point count monitoring](https://drive.google.com/open?id=1PRryJzGOUtfr-fKXzb3tbr48xiaTuAMVk18XFXlvxcM)"
      ]
    },
    {
      "cell_type": "markdown",
      "metadata": {
        "id": "TLobp50F2E-A",
        "colab_type": "text"
      },
      "source": [
        "# Tools"
      ]
    },
    {
      "cell_type": "code",
      "metadata": {
        "id": "KPYncmNT2F02",
        "colab_type": "code",
        "colab": {
          "base_uri": "https://localhost:8080/",
          "height": 442
        },
        "outputId": "71d4bd1c-19bd-46e5-8156-72c063e8addb"
      },
      "source": [
        "library(tidyverse)\n",
        "library(lubridate)"
      ],
      "execution_count": 1,
      "outputs": [
        {
          "output_type": "stream",
          "text": [
            "── \u001b[1mAttaching packages\u001b[22m ─────────────────────────────────────── tidyverse 1.3.0 ──\n",
            "\n",
            "\u001b[32m✔\u001b[39m \u001b[34mggplot2\u001b[39m 3.3.0     \u001b[32m✔\u001b[39m \u001b[34mpurrr  \u001b[39m 0.3.4\n",
            "\u001b[32m✔\u001b[39m \u001b[34mtibble \u001b[39m 3.0.1     \u001b[32m✔\u001b[39m \u001b[34mdplyr  \u001b[39m 0.8.5\n",
            "\u001b[32m✔\u001b[39m \u001b[34mtidyr  \u001b[39m 1.0.3     \u001b[32m✔\u001b[39m \u001b[34mstringr\u001b[39m 1.4.0\n",
            "\u001b[32m✔\u001b[39m \u001b[34mreadr  \u001b[39m 1.3.1     \u001b[32m✔\u001b[39m \u001b[34mforcats\u001b[39m 0.5.0\n",
            "\n",
            "── \u001b[1mConflicts\u001b[22m ────────────────────────────────────────── tidyverse_conflicts() ──\n",
            "\u001b[31m✖\u001b[39m \u001b[34mdplyr\u001b[39m::\u001b[32mfilter()\u001b[39m masks \u001b[34mstats\u001b[39m::filter()\n",
            "\u001b[31m✖\u001b[39m \u001b[34mdplyr\u001b[39m::\u001b[32mlag()\u001b[39m    masks \u001b[34mstats\u001b[39m::lag()\n",
            "\n",
            "\n",
            "Attaching package: ‘lubridate’\n",
            "\n",
            "\n",
            "The following objects are masked from ‘package:dplyr’:\n",
            "\n",
            "    intersect, setdiff, union\n",
            "\n",
            "\n",
            "The following objects are masked from ‘package:base’:\n",
            "\n",
            "    date, intersect, setdiff, union\n",
            "\n",
            "\n"
          ],
          "name": "stderr"
        }
      ]
    },
    {
      "cell_type": "code",
      "metadata": {
        "id": "izwy-knBjxUZ",
        "colab_type": "code",
        "colab": {
          "base_uri": "https://localhost:8080/",
          "height": 119
        },
        "outputId": "f060209b-5a10-4067-d35f-8fac7ca57739"
      },
      "source": [
        "# utilitize replace_with_na function\n",
        "install.packages(\"naniar\")\n",
        "library(naniar)"
      ],
      "execution_count": 2,
      "outputs": [
        {
          "output_type": "stream",
          "text": [
            "Installing package into ‘/usr/local/lib/R/site-library’\n",
            "(as ‘lib’ is unspecified)\n",
            "\n",
            "also installing the dependencies ‘gridExtra’, ‘visdat’, ‘viridis’, ‘UpSetR’\n",
            "\n",
            "\n"
          ],
          "name": "stderr"
        }
      ]
    },
    {
      "cell_type": "markdown",
      "metadata": {
        "id": "3EWaAwvC128N",
        "colab_type": "text"
      },
      "source": [
        "# Source"
      ]
    },
    {
      "cell_type": "code",
      "metadata": {
        "id": "11ka8_2DrwQm",
        "colab_type": "code",
        "colab": {}
      },
      "source": [
        "# 2020-05-15_bird_surveyInfo_records_function.csv\n",
        "src = \"https://drive.google.com/uc?id=1Cmo8e2H0Td2pWXrB4-_YHwdmUJP2Isnj\""
      ],
      "execution_count": 0,
      "outputs": []
    },
    {
      "cell_type": "code",
      "metadata": {
        "id": "OL9Qk56c2AcF",
        "colab_type": "code",
        "colab": {}
      },
      "source": [
        "df <- read.csv(src, stringsAsFactors = FALSE)"
      ],
      "execution_count": 0,
      "outputs": []
    },
    {
      "cell_type": "markdown",
      "metadata": {
        "id": "xH3mV9-pRwYE",
        "colab_type": "text"
      },
      "source": [
        "# Rename Columns"
      ]
    },
    {
      "cell_type": "markdown",
      "metadata": {
        "id": "uNyXXJd5R2QB",
        "colab_type": "text"
      },
      "source": [
        "Update column values to [DB Schema](https://docs.google.com/document/d/1PRryJzGOUtfr-fKXzb3tbr48xiaTuAMVk18XFXlvxcM/edit#heading=h.5inr0hjz4m4m) "
      ]
    },
    {
      "cell_type": "code",
      "metadata": {
        "id": "MB0AH2w0T2Lw",
        "colab_type": "code",
        "colab": {}
      },
      "source": [
        "new_names <- c('survey_ID', 'survey_date', 'survey_time_start_MDT', 'survey_time_end_MDT', 'survey_visit', \n",
        "              'survey_grid_point', 'survey_observer', 'survey_wind_code', 'survey_sky_code',\n",
        "              'survey_noise_code', 'survey_temperature_F', 'records_ID', 'records_spe_code', \n",
        "              'records_abundance', 'records_sex', 'records_detect_song', 'records_detect_call', \n",
        "              'records_detect_visual', 'records_detect_other', 'records_detect_distance_min_meters', \n",
        "              'records_interval', 'records_location_code', 'habitat_location_description', \n",
        "              'function_spe_name_common', 'function_habitat_preference', 'function_food_preference', \n",
        "              'function_nesting_behavior', 'function_feeding_behavior', \n",
        "              'function_taxa_order', 'function_taxa_family')\n",
        "\n",
        "df <- setNames(df, new_names)"
      ],
      "execution_count": 0,
      "outputs": []
    },
    {
      "cell_type": "markdown",
      "metadata": {
        "id": "cegvbANK2dSq",
        "colab_type": "text"
      },
      "source": [
        "# Clean"
      ]
    },
    {
      "cell_type": "code",
      "metadata": {
        "id": "DnPebpZt2KuZ",
        "colab_type": "code",
        "colab": {
          "base_uri": "https://localhost:8080/",
          "height": 564
        },
        "outputId": "c96ebee4-c7a9-4d13-8df5-38cbdc431c7c"
      },
      "source": [
        "str(df)"
      ],
      "execution_count": 6,
      "outputs": [
        {
          "output_type": "stream",
          "text": [
            "'data.frame':\t117911 obs. of  30 variables:\n",
            " $ survey_ID                         : int  1 1 1 1 1 1 1 1 1 1 ...\n",
            " $ survey_date                       : chr  \"2010-05-31\" \"2010-05-31\" \"2010-05-31\" \"2010-05-31\" ...\n",
            " $ survey_time_start_MDT             : int  709 709 709 709 709 709 709 709 709 709 ...\n",
            " $ survey_time_end_MDT               : int  719 719 719 719 719 719 719 719 719 719 ...\n",
            " $ survey_visit                      : int  1 1 1 1 1 1 1 1 1 1 ...\n",
            " $ survey_grid_point                 : int  476 476 476 476 476 476 476 476 476 476 ...\n",
            " $ survey_observer                   : chr  \"Eric Rasmussen\" \"Eric Rasmussen\" \"Eric Rasmussen\" \"Eric Rasmussen\" ...\n",
            " $ survey_wind_code                  : int  1 1 1 1 1 1 1 1 1 1 ...\n",
            " $ survey_sky_code                   : int  2 2 2 2 2 2 2 2 2 2 ...\n",
            " $ survey_noise_code                 : int  2 2 2 2 2 2 2 2 2 2 ...\n",
            " $ survey_temperature_F              : int  50 50 50 50 50 50 50 50 50 50 ...\n",
            " $ records_ID                        : int  1 2 3 4 5 6 7 8 9 10 ...\n",
            " $ records_spe_code                  : chr  \"TRES\" \"BAEA\" \"LEFL\" \"SPSA\" ...\n",
            " $ records_abundance                 : int  4 1 1 2 1 1 1 1 1 1 ...\n",
            " $ records_sex                       : chr  \"Unknown\" \"Unknown\" \"Male\" \"Unknown\" ...\n",
            " $ records_detect_song               : int  0 0 1 0 1 1 1 1 1 1 ...\n",
            " $ records_detect_call               : int  1 0 0 1 0 0 0 0 0 0 ...\n",
            " $ records_detect_visual             : int  1 0 0 0 0 0 0 0 0 0 ...\n",
            " $ records_detect_other              : chr  \"\" \"\" \"\" \"\" ...\n",
            " $ records_detect_distance_min_meters: int  10 150 50 75 45 100 80 125 400 70 ...\n",
            " $ records_interval                  : chr  \"1\" \"1\" \"1\" \"1\" ...\n",
            " $ records_location_code             : chr  \"0\" \"0\" \"0\" \"0\" ...\n",
            " $ habitat_location_description      : chr  \"River-bottom forest\" \"River-bottom forest\" \"River-bottom forest\" \"River-bottom forest\" ...\n",
            " $ function_spe_name_common          : chr  \"Tree Swallow\" \"Bald Eagle\" \"Least Flycatcher\" \"Spotted Sandpiper\" ...\n",
            " $ function_habitat_preference       : chr  \"Lake/Pond\" \"Forest\" \"Forest\" \"Shoreline\" ...\n",
            " $ function_food_preference          : chr  \"Insects\" \"Fish\" \"Insects\" \"Small Animals\" ...\n",
            " $ function_nesting_behavior         : chr  \"Cavity\" \"Tree\" \"Tree\" \"Ground\" ...\n",
            " $ function_feeding_behavior         : chr  \"Aerial Forager\" \"Soaring\" \"Flycatching\" \"Probing\" ...\n",
            " $ function_taxa_order               : chr  \"Passeriformes\" \"Accipitriformes\" \"Passeriformes\" \"Charadriiformes\" ...\n",
            " $ function_taxa_family              : chr  \"Hirundinidae\" \"Accipitridae\" \"Tyrannidae\" \"Scolopacidae\" ...\n"
          ],
          "name": "stdout"
        }
      ]
    },
    {
      "cell_type": "markdown",
      "metadata": {
        "id": "2Ope5kK04MAW",
        "colab_type": "text"
      },
      "source": [
        "## records_sex"
      ]
    },
    {
      "cell_type": "markdown",
      "metadata": {
        "id": "1gsPtiKi4WFf",
        "colab_type": "text"
      },
      "source": [
        "In variable `sex`, limit data to c(\"Female\", \"Male\", \"Unknown\"). Correct typo and capitalization errors."
      ]
    },
    {
      "cell_type": "code",
      "metadata": {
        "id": "OESZYtEg34NQ",
        "colab_type": "code",
        "colab": {
          "base_uri": "https://localhost:8080/",
          "height": 267
        },
        "outputId": "8a9d2608-35e9-4f08-f26d-e4ecd14ede7b"
      },
      "source": [
        "# Show unique values\n",
        "fct_count(df$records_sex)"
      ],
      "execution_count": 7,
      "outputs": [
        {
          "output_type": "display_data",
          "data": {
            "text/plain": [
              "  f       n    \n",
              "1             1\n",
              "2 1           2\n",
              "3 Female   1869\n",
              "4 M           1\n",
              "5 male        5\n",
              "6 Male    80968\n",
              "7 MaMe        1\n",
              "8 unknown     5\n",
              "9 Unknown 35059"
            ],
            "text/latex": "A tibble: 9 × 2\n\\begin{tabular}{ll}\n f & n\\\\\n <fct> & <int>\\\\\n\\hline\n\t         &     1\\\\\n\t 1       &     2\\\\\n\t Female  &  1869\\\\\n\t M       &     1\\\\\n\t male    &     5\\\\\n\t Male    & 80968\\\\\n\t MaMe    &     1\\\\\n\t unknown &     5\\\\\n\t Unknown & 35059\\\\\n\\end{tabular}\n",
            "text/markdown": "\nA tibble: 9 × 2\n\n| f &lt;fct&gt; | n &lt;int&gt; |\n|---|---|\n| <!----> |     1 |\n| 1       |     2 |\n| Female  |  1869 |\n| M       |     1 |\n| male    |     5 |\n| Male    | 80968 |\n| MaMe    |     1 |\n| unknown |     5 |\n| Unknown | 35059 |\n\n",
            "text/html": [
              "<table>\n",
              "<caption>A tibble: 9 × 2</caption>\n",
              "<thead>\n",
              "\t<tr><th scope=col>f</th><th scope=col>n</th></tr>\n",
              "\t<tr><th scope=col>&lt;fct&gt;</th><th scope=col>&lt;int&gt;</th></tr>\n",
              "</thead>\n",
              "<tbody>\n",
              "\t<tr><td>       </td><td>    1</td></tr>\n",
              "\t<tr><td>1      </td><td>    2</td></tr>\n",
              "\t<tr><td>Female </td><td> 1869</td></tr>\n",
              "\t<tr><td>M      </td><td>    1</td></tr>\n",
              "\t<tr><td>male   </td><td>    5</td></tr>\n",
              "\t<tr><td>Male   </td><td>80968</td></tr>\n",
              "\t<tr><td>MaMe   </td><td>    1</td></tr>\n",
              "\t<tr><td>unknown</td><td>    5</td></tr>\n",
              "\t<tr><td>Unknown</td><td>35059</td></tr>\n",
              "</tbody>\n",
              "</table>\n"
            ]
          },
          "metadata": {
            "tags": []
          }
        }
      ]
    },
    {
      "cell_type": "code",
      "metadata": {
        "id": "r4Y8fuEE7SZr",
        "colab_type": "code",
        "colab": {
          "base_uri": "https://localhost:8080/",
          "height": 393
        },
        "outputId": "a1ecbd6a-8d27-4625-de94-dfbabb33b90d"
      },
      "source": [
        "# Display deviants\n",
        "df %>%\n",
        "  select(survey_date, records_sex) %>%\n",
        "  filter(records_sex != \"Female\" & \n",
        "         records_sex != \"Male\" & \n",
        "         records_sex != \"Unknown\")"
      ],
      "execution_count": 8,
      "outputs": [
        {
          "output_type": "display_data",
          "data": {
            "text/plain": [
              "   survey_date records_sex\n",
              "1  2010-06-25  unknown    \n",
              "2  2011-07-01  unknown    \n",
              "3  2012-07-11  male       \n",
              "4  2013-06-17  unknown    \n",
              "5  2013-06-18  unknown    \n",
              "6  2013-05-22  male       \n",
              "7  2013-05-17  male       \n",
              "8  2014-05-16  male       \n",
              "9  2014-06-14  MaMe       \n",
              "10 2015-05-21  unknown    \n",
              "11 2016-06-10  1          \n",
              "12 2016-06-30  1          \n",
              "13 2016-07-07             \n",
              "14 2019-06-20  male       \n",
              "15 2019-06-25  M          "
            ],
            "text/latex": "A data.frame: 15 × 2\n\\begin{tabular}{ll}\n survey\\_date & records\\_sex\\\\\n <chr> & <chr>\\\\\n\\hline\n\t 2010-06-25 & unknown\\\\\n\t 2011-07-01 & unknown\\\\\n\t 2012-07-11 & male   \\\\\n\t 2013-06-17 & unknown\\\\\n\t 2013-06-18 & unknown\\\\\n\t 2013-05-22 & male   \\\\\n\t 2013-05-17 & male   \\\\\n\t 2014-05-16 & male   \\\\\n\t 2014-06-14 & MaMe   \\\\\n\t 2015-05-21 & unknown\\\\\n\t 2016-06-10 & 1      \\\\\n\t 2016-06-30 & 1      \\\\\n\t 2016-07-07 &        \\\\\n\t 2019-06-20 & male   \\\\\n\t 2019-06-25 & M      \\\\\n\\end{tabular}\n",
            "text/markdown": "\nA data.frame: 15 × 2\n\n| survey_date &lt;chr&gt; | records_sex &lt;chr&gt; |\n|---|---|\n| 2010-06-25 | unknown |\n| 2011-07-01 | unknown |\n| 2012-07-11 | male    |\n| 2013-06-17 | unknown |\n| 2013-06-18 | unknown |\n| 2013-05-22 | male    |\n| 2013-05-17 | male    |\n| 2014-05-16 | male    |\n| 2014-06-14 | MaMe    |\n| 2015-05-21 | unknown |\n| 2016-06-10 | 1       |\n| 2016-06-30 | 1       |\n| 2016-07-07 | <!----> |\n| 2019-06-20 | male    |\n| 2019-06-25 | M       |\n\n",
            "text/html": [
              "<table>\n",
              "<caption>A data.frame: 15 × 2</caption>\n",
              "<thead>\n",
              "\t<tr><th scope=col>survey_date</th><th scope=col>records_sex</th></tr>\n",
              "\t<tr><th scope=col>&lt;chr&gt;</th><th scope=col>&lt;chr&gt;</th></tr>\n",
              "</thead>\n",
              "<tbody>\n",
              "\t<tr><td>2010-06-25</td><td>unknown</td></tr>\n",
              "\t<tr><td>2011-07-01</td><td>unknown</td></tr>\n",
              "\t<tr><td>2012-07-11</td><td>male   </td></tr>\n",
              "\t<tr><td>2013-06-17</td><td>unknown</td></tr>\n",
              "\t<tr><td>2013-06-18</td><td>unknown</td></tr>\n",
              "\t<tr><td>2013-05-22</td><td>male   </td></tr>\n",
              "\t<tr><td>2013-05-17</td><td>male   </td></tr>\n",
              "\t<tr><td>2014-05-16</td><td>male   </td></tr>\n",
              "\t<tr><td>2014-06-14</td><td>MaMe   </td></tr>\n",
              "\t<tr><td>2015-05-21</td><td>unknown</td></tr>\n",
              "\t<tr><td>2016-06-10</td><td>1      </td></tr>\n",
              "\t<tr><td>2016-06-30</td><td>1      </td></tr>\n",
              "\t<tr><td>2016-07-07</td><td>       </td></tr>\n",
              "\t<tr><td>2019-06-20</td><td>male   </td></tr>\n",
              "\t<tr><td>2019-06-25</td><td>M      </td></tr>\n",
              "</tbody>\n",
              "</table>\n"
            ]
          },
          "metadata": {
            "tags": []
          }
        }
      ]
    },
    {
      "cell_type": "code",
      "metadata": {
        "id": "xdu3antL2TcL",
        "colab_type": "code",
        "colab": {
          "base_uri": "https://localhost:8080/",
          "height": 225
        },
        "outputId": "561d3d01-e14f-4484-a6d0-4e021803bfdc"
      },
      "source": [
        "# Capitalize all values\n",
        "df <- df %>%\n",
        "  mutate(records_sex = str_to_title(records_sex))\n",
        "\n",
        "fct_count(df$records_sex)"
      ],
      "execution_count": 9,
      "outputs": [
        {
          "output_type": "display_data",
          "data": {
            "text/plain": [
              "  f       n    \n",
              "1             1\n",
              "2 1           2\n",
              "3 Female   1869\n",
              "4 M           1\n",
              "5 Male    80973\n",
              "6 Mame        1\n",
              "7 Unknown 35064"
            ],
            "text/latex": "A tibble: 7 × 2\n\\begin{tabular}{ll}\n f & n\\\\\n <fct> & <int>\\\\\n\\hline\n\t         &     1\\\\\n\t 1       &     2\\\\\n\t Female  &  1869\\\\\n\t M       &     1\\\\\n\t Male    & 80973\\\\\n\t Mame    &     1\\\\\n\t Unknown & 35064\\\\\n\\end{tabular}\n",
            "text/markdown": "\nA tibble: 7 × 2\n\n| f &lt;fct&gt; | n &lt;int&gt; |\n|---|---|\n| <!----> |     1 |\n| 1       |     2 |\n| Female  |  1869 |\n| M       |     1 |\n| Male    | 80973 |\n| Mame    |     1 |\n| Unknown | 35064 |\n\n",
            "text/html": [
              "<table>\n",
              "<caption>A tibble: 7 × 2</caption>\n",
              "<thead>\n",
              "\t<tr><th scope=col>f</th><th scope=col>n</th></tr>\n",
              "\t<tr><th scope=col>&lt;fct&gt;</th><th scope=col>&lt;int&gt;</th></tr>\n",
              "</thead>\n",
              "<tbody>\n",
              "\t<tr><td>       </td><td>    1</td></tr>\n",
              "\t<tr><td>1      </td><td>    2</td></tr>\n",
              "\t<tr><td>Female </td><td> 1869</td></tr>\n",
              "\t<tr><td>M      </td><td>    1</td></tr>\n",
              "\t<tr><td>Male   </td><td>80973</td></tr>\n",
              "\t<tr><td>Mame   </td><td>    1</td></tr>\n",
              "\t<tr><td>Unknown</td><td>35064</td></tr>\n",
              "</tbody>\n",
              "</table>\n"
            ]
          },
          "metadata": {
            "tags": []
          }
        }
      ]
    },
    {
      "cell_type": "code",
      "metadata": {
        "id": "i026UoV8-9Ui",
        "colab_type": "code",
        "colab": {}
      },
      "source": [
        "df <- df %>%\n",
        "  mutate(records_sex = ifelse(records_sex == \"M\", \"Male\",\n",
        "               ifelse(records_sex == \"Mame\", \"Male\",\n",
        "               ifelse(records_sex == 1, \"Unknown\",\n",
        "               ifelse(records_sex == \"\", \"Unknown\", records_sex)))))"
      ],
      "execution_count": 0,
      "outputs": []
    },
    {
      "cell_type": "code",
      "metadata": {
        "id": "kY_Y-1O4SC9X",
        "colab_type": "code",
        "colab": {
          "base_uri": "https://localhost:8080/",
          "height": 141
        },
        "outputId": "5308ad16-6511-4d1c-d9fa-7ed7943df09d"
      },
      "source": [
        "fct_count(df$records_sex)"
      ],
      "execution_count": 11,
      "outputs": [
        {
          "output_type": "display_data",
          "data": {
            "text/plain": [
              "  f       n    \n",
              "1 Female   1869\n",
              "2 Male    80975\n",
              "3 Unknown 35067"
            ],
            "text/latex": "A tibble: 3 × 2\n\\begin{tabular}{ll}\n f & n\\\\\n <fct> & <int>\\\\\n\\hline\n\t Female  &  1869\\\\\n\t Male    & 80975\\\\\n\t Unknown & 35067\\\\\n\\end{tabular}\n",
            "text/markdown": "\nA tibble: 3 × 2\n\n| f &lt;fct&gt; | n &lt;int&gt; |\n|---|---|\n| Female  |  1869 |\n| Male    | 80975 |\n| Unknown | 35067 |\n\n",
            "text/html": [
              "<table>\n",
              "<caption>A tibble: 3 × 2</caption>\n",
              "<thead>\n",
              "\t<tr><th scope=col>f</th><th scope=col>n</th></tr>\n",
              "\t<tr><th scope=col>&lt;fct&gt;</th><th scope=col>&lt;int&gt;</th></tr>\n",
              "</thead>\n",
              "<tbody>\n",
              "\t<tr><td>Female </td><td> 1869</td></tr>\n",
              "\t<tr><td>Male   </td><td>80975</td></tr>\n",
              "\t<tr><td>Unknown</td><td>35067</td></tr>\n",
              "</tbody>\n",
              "</table>\n"
            ]
          },
          "metadata": {
            "tags": []
          }
        }
      ]
    },
    {
      "cell_type": "markdown",
      "metadata": {
        "id": "XRj7RhPoEPqG",
        "colab_type": "text"
      },
      "source": [
        "## records_location_code"
      ]
    },
    {
      "cell_type": "markdown",
      "metadata": {
        "id": "yJ-0hUGNFDXv",
        "colab_type": "text"
      },
      "source": [
        "In variable `location_code`, capitalize instances of \"f\" and \"u\"."
      ]
    },
    {
      "cell_type": "code",
      "metadata": {
        "id": "A0Ol7vEDET2m",
        "colab_type": "code",
        "colab": {
          "base_uri": "https://localhost:8080/",
          "height": 578
        },
        "outputId": "e02173a8-aebe-4e5d-8879-fb002e3a3528"
      },
      "source": [
        "fct_count(df$records_location_code)"
      ],
      "execution_count": 12,
      "outputs": [
        {
          "output_type": "display_data",
          "data": {
            "text/plain": [
              "   f  n    \n",
              "1  0  11959\n",
              "2  1  18433\n",
              "3  10   141\n",
              "4  11  1452\n",
              "5  12   860\n",
              "6  13   783\n",
              "7  14   256\n",
              "8  15  5448\n",
              "9  16  8384\n",
              "10 17  1694\n",
              "11 18   133\n",
              "12 2   1216\n",
              "13 3   7345\n",
              "14 4  10066\n",
              "15 5  14013\n",
              "16 6   5218\n",
              "17 7   4506\n",
              "18 8   3793\n",
              "19 9   9372\n",
              "20 f      3\n",
              "21 F   4893\n",
              "22 u      2\n",
              "23 U   7941"
            ],
            "text/latex": "A tibble: 23 × 2\n\\begin{tabular}{ll}\n f & n\\\\\n <fct> & <int>\\\\\n\\hline\n\t 0  & 11959\\\\\n\t 1  & 18433\\\\\n\t 10 &   141\\\\\n\t 11 &  1452\\\\\n\t 12 &   860\\\\\n\t 13 &   783\\\\\n\t 14 &   256\\\\\n\t 15 &  5448\\\\\n\t 16 &  8384\\\\\n\t 17 &  1694\\\\\n\t 18 &   133\\\\\n\t 2  &  1216\\\\\n\t 3  &  7345\\\\\n\t 4  & 10066\\\\\n\t 5  & 14013\\\\\n\t 6  &  5218\\\\\n\t 7  &  4506\\\\\n\t 8  &  3793\\\\\n\t 9  &  9372\\\\\n\t f  &     3\\\\\n\t F  &  4893\\\\\n\t u  &     2\\\\\n\t U  &  7941\\\\\n\\end{tabular}\n",
            "text/markdown": "\nA tibble: 23 × 2\n\n| f &lt;fct&gt; | n &lt;int&gt; |\n|---|---|\n| 0  | 11959 |\n| 1  | 18433 |\n| 10 |   141 |\n| 11 |  1452 |\n| 12 |   860 |\n| 13 |   783 |\n| 14 |   256 |\n| 15 |  5448 |\n| 16 |  8384 |\n| 17 |  1694 |\n| 18 |   133 |\n| 2  |  1216 |\n| 3  |  7345 |\n| 4  | 10066 |\n| 5  | 14013 |\n| 6  |  5218 |\n| 7  |  4506 |\n| 8  |  3793 |\n| 9  |  9372 |\n| f  |     3 |\n| F  |  4893 |\n| u  |     2 |\n| U  |  7941 |\n\n",
            "text/html": [
              "<table>\n",
              "<caption>A tibble: 23 × 2</caption>\n",
              "<thead>\n",
              "\t<tr><th scope=col>f</th><th scope=col>n</th></tr>\n",
              "\t<tr><th scope=col>&lt;fct&gt;</th><th scope=col>&lt;int&gt;</th></tr>\n",
              "</thead>\n",
              "<tbody>\n",
              "\t<tr><td>0 </td><td>11959</td></tr>\n",
              "\t<tr><td>1 </td><td>18433</td></tr>\n",
              "\t<tr><td>10</td><td>  141</td></tr>\n",
              "\t<tr><td>11</td><td> 1452</td></tr>\n",
              "\t<tr><td>12</td><td>  860</td></tr>\n",
              "\t<tr><td>13</td><td>  783</td></tr>\n",
              "\t<tr><td>14</td><td>  256</td></tr>\n",
              "\t<tr><td>15</td><td> 5448</td></tr>\n",
              "\t<tr><td>16</td><td> 8384</td></tr>\n",
              "\t<tr><td>17</td><td> 1694</td></tr>\n",
              "\t<tr><td>18</td><td>  133</td></tr>\n",
              "\t<tr><td>2 </td><td> 1216</td></tr>\n",
              "\t<tr><td>3 </td><td> 7345</td></tr>\n",
              "\t<tr><td>4 </td><td>10066</td></tr>\n",
              "\t<tr><td>5 </td><td>14013</td></tr>\n",
              "\t<tr><td>6 </td><td> 5218</td></tr>\n",
              "\t<tr><td>7 </td><td> 4506</td></tr>\n",
              "\t<tr><td>8 </td><td> 3793</td></tr>\n",
              "\t<tr><td>9 </td><td> 9372</td></tr>\n",
              "\t<tr><td>f </td><td>    3</td></tr>\n",
              "\t<tr><td>F </td><td> 4893</td></tr>\n",
              "\t<tr><td>u </td><td>    2</td></tr>\n",
              "\t<tr><td>U </td><td> 7941</td></tr>\n",
              "</tbody>\n",
              "</table>\n"
            ]
          },
          "metadata": {
            "tags": []
          }
        }
      ]
    },
    {
      "cell_type": "code",
      "metadata": {
        "id": "wzDSpQu0Hbk_",
        "colab_type": "code",
        "colab": {}
      },
      "source": [
        "# Capitalize \"f\",\"u\"\n",
        "df <- df %>%\n",
        "  mutate(records_location_code = str_to_title(records_location_code))"
      ],
      "execution_count": 0,
      "outputs": []
    },
    {
      "cell_type": "code",
      "metadata": {
        "id": "tg6KQ929H-RR",
        "colab_type": "code",
        "colab": {
          "base_uri": "https://localhost:8080/",
          "height": 536
        },
        "outputId": "9dd7c260-5688-4cbb-94b4-880113a52bc7"
      },
      "source": [
        "fct_count(df$records_location_code)"
      ],
      "execution_count": 14,
      "outputs": [
        {
          "output_type": "display_data",
          "data": {
            "text/plain": [
              "   f  n    \n",
              "1  0  11959\n",
              "2  1  18433\n",
              "3  10   141\n",
              "4  11  1452\n",
              "5  12   860\n",
              "6  13   783\n",
              "7  14   256\n",
              "8  15  5448\n",
              "9  16  8384\n",
              "10 17  1694\n",
              "11 18   133\n",
              "12 2   1216\n",
              "13 3   7345\n",
              "14 4  10066\n",
              "15 5  14013\n",
              "16 6   5218\n",
              "17 7   4506\n",
              "18 8   3793\n",
              "19 9   9372\n",
              "20 F   4896\n",
              "21 U   7943"
            ],
            "text/latex": "A tibble: 21 × 2\n\\begin{tabular}{ll}\n f & n\\\\\n <fct> & <int>\\\\\n\\hline\n\t 0  & 11959\\\\\n\t 1  & 18433\\\\\n\t 10 &   141\\\\\n\t 11 &  1452\\\\\n\t 12 &   860\\\\\n\t 13 &   783\\\\\n\t 14 &   256\\\\\n\t 15 &  5448\\\\\n\t 16 &  8384\\\\\n\t 17 &  1694\\\\\n\t 18 &   133\\\\\n\t 2  &  1216\\\\\n\t 3  &  7345\\\\\n\t 4  & 10066\\\\\n\t 5  & 14013\\\\\n\t 6  &  5218\\\\\n\t 7  &  4506\\\\\n\t 8  &  3793\\\\\n\t 9  &  9372\\\\\n\t F  &  4896\\\\\n\t U  &  7943\\\\\n\\end{tabular}\n",
            "text/markdown": "\nA tibble: 21 × 2\n\n| f &lt;fct&gt; | n &lt;int&gt; |\n|---|---|\n| 0  | 11959 |\n| 1  | 18433 |\n| 10 |   141 |\n| 11 |  1452 |\n| 12 |   860 |\n| 13 |   783 |\n| 14 |   256 |\n| 15 |  5448 |\n| 16 |  8384 |\n| 17 |  1694 |\n| 18 |   133 |\n| 2  |  1216 |\n| 3  |  7345 |\n| 4  | 10066 |\n| 5  | 14013 |\n| 6  |  5218 |\n| 7  |  4506 |\n| 8  |  3793 |\n| 9  |  9372 |\n| F  |  4896 |\n| U  |  7943 |\n\n",
            "text/html": [
              "<table>\n",
              "<caption>A tibble: 21 × 2</caption>\n",
              "<thead>\n",
              "\t<tr><th scope=col>f</th><th scope=col>n</th></tr>\n",
              "\t<tr><th scope=col>&lt;fct&gt;</th><th scope=col>&lt;int&gt;</th></tr>\n",
              "</thead>\n",
              "<tbody>\n",
              "\t<tr><td>0 </td><td>11959</td></tr>\n",
              "\t<tr><td>1 </td><td>18433</td></tr>\n",
              "\t<tr><td>10</td><td>  141</td></tr>\n",
              "\t<tr><td>11</td><td> 1452</td></tr>\n",
              "\t<tr><td>12</td><td>  860</td></tr>\n",
              "\t<tr><td>13</td><td>  783</td></tr>\n",
              "\t<tr><td>14</td><td>  256</td></tr>\n",
              "\t<tr><td>15</td><td> 5448</td></tr>\n",
              "\t<tr><td>16</td><td> 8384</td></tr>\n",
              "\t<tr><td>17</td><td> 1694</td></tr>\n",
              "\t<tr><td>18</td><td>  133</td></tr>\n",
              "\t<tr><td>2 </td><td> 1216</td></tr>\n",
              "\t<tr><td>3 </td><td> 7345</td></tr>\n",
              "\t<tr><td>4 </td><td>10066</td></tr>\n",
              "\t<tr><td>5 </td><td>14013</td></tr>\n",
              "\t<tr><td>6 </td><td> 5218</td></tr>\n",
              "\t<tr><td>7 </td><td> 4506</td></tr>\n",
              "\t<tr><td>8 </td><td> 3793</td></tr>\n",
              "\t<tr><td>9 </td><td> 9372</td></tr>\n",
              "\t<tr><td>F </td><td> 4896</td></tr>\n",
              "\t<tr><td>U </td><td> 7943</td></tr>\n",
              "</tbody>\n",
              "</table>\n"
            ]
          },
          "metadata": {
            "tags": []
          }
        }
      ]
    },
    {
      "cell_type": "markdown",
      "metadata": {
        "id": "fdFaM4HbsSAE",
        "colab_type": "text"
      },
      "source": [
        "## survey_observer"
      ]
    },
    {
      "cell_type": "code",
      "metadata": {
        "id": "i08d8mMqr2th",
        "colab_type": "code",
        "colab": {
          "base_uri": "https://localhost:8080/",
          "height": 34
        },
        "outputId": "92d9b2ac-77aa-4bf3-9474-88fc3d41055f"
      },
      "source": [
        "unique(sort(df$survey_observer))"
      ],
      "execution_count": 15,
      "outputs": [
        {
          "output_type": "display_data",
          "data": {
            "text/plain": [
              "[1] \"Amy Seaman\"      \"Barb Pitman\"     \"Deb Goslin\"      \"Debbie Leick\"   \n",
              "[5] \"Eric Rasmussen\"  \"John Csoka\"      \"Katharine Stone\" \"n\"              "
            ],
            "text/latex": "\\begin{enumerate*}\n\\item 'Amy Seaman'\n\\item 'Barb Pitman'\n\\item 'Deb Goslin'\n\\item 'Debbie Leick'\n\\item 'Eric Rasmussen'\n\\item 'John Csoka'\n\\item 'Katharine Stone'\n\\item 'n'\n\\end{enumerate*}\n",
            "text/markdown": "1. 'Amy Seaman'\n2. 'Barb Pitman'\n3. 'Deb Goslin'\n4. 'Debbie Leick'\n5. 'Eric Rasmussen'\n6. 'John Csoka'\n7. 'Katharine Stone'\n8. 'n'\n\n\n",
            "text/html": [
              "<style>\n",
              ".list-inline {list-style: none; margin:0; padding: 0}\n",
              ".list-inline>li {display: inline-block}\n",
              ".list-inline>li:not(:last-child)::after {content: \"\\00b7\"; padding: 0 .5ex}\n",
              "</style>\n",
              "<ol class=list-inline><li>'Amy Seaman'</li><li>'Barb Pitman'</li><li>'Deb Goslin'</li><li>'Debbie Leick'</li><li>'Eric Rasmussen'</li><li>'John Csoka'</li><li>'Katharine Stone'</li><li>'n'</li></ol>\n"
            ]
          },
          "metadata": {
            "tags": []
          }
        }
      ]
    },
    {
      "cell_type": "code",
      "metadata": {
        "id": "TEHxVcE2sUga",
        "colab_type": "code",
        "colab": {
          "base_uri": "https://localhost:8080/",
          "height": 34
        },
        "outputId": "bbcff287-409f-4e67-9fc6-9e0ecb464fda"
      },
      "source": [
        "df <- df %>%\n",
        "  mutate(survey_observer = ifelse(survey_observer == \"n\", \n",
        "                                         \"unknown\", \n",
        "                                         survey_observer))\n",
        "\n",
        "unique(df$survey_observer)"
      ],
      "execution_count": 16,
      "outputs": [
        {
          "output_type": "display_data",
          "data": {
            "text/plain": [
              "[1] \"Eric Rasmussen\"  \"Katharine Stone\" \"Debbie Leick\"    \"unknown\"        \n",
              "[5] \"Amy Seaman\"      \"John Csoka\"      \"Barb Pitman\"     \"Deb Goslin\"     "
            ],
            "text/latex": "\\begin{enumerate*}\n\\item 'Eric Rasmussen'\n\\item 'Katharine Stone'\n\\item 'Debbie Leick'\n\\item 'unknown'\n\\item 'Amy Seaman'\n\\item 'John Csoka'\n\\item 'Barb Pitman'\n\\item 'Deb Goslin'\n\\end{enumerate*}\n",
            "text/markdown": "1. 'Eric Rasmussen'\n2. 'Katharine Stone'\n3. 'Debbie Leick'\n4. 'unknown'\n5. 'Amy Seaman'\n6. 'John Csoka'\n7. 'Barb Pitman'\n8. 'Deb Goslin'\n\n\n",
            "text/html": [
              "<style>\n",
              ".list-inline {list-style: none; margin:0; padding: 0}\n",
              ".list-inline>li {display: inline-block}\n",
              ".list-inline>li:not(:last-child)::after {content: \"\\00b7\"; padding: 0 .5ex}\n",
              "</style>\n",
              "<ol class=list-inline><li>'Eric Rasmussen'</li><li>'Katharine Stone'</li><li>'Debbie Leick'</li><li>'unknown'</li><li>'Amy Seaman'</li><li>'John Csoka'</li><li>'Barb Pitman'</li><li>'Deb Goslin'</li></ol>\n"
            ]
          },
          "metadata": {
            "tags": []
          }
        }
      ]
    },
    {
      "cell_type": "markdown",
      "metadata": {
        "id": "CpobLsyzw8yo",
        "colab_type": "text"
      },
      "source": [
        "## records_detect_other\n"
      ]
    },
    {
      "cell_type": "markdown",
      "metadata": {
        "id": "tIfqwotUQnEx",
        "colab_type": "text"
      },
      "source": [
        "Leave values as is for the forseeable future "
      ]
    },
    {
      "cell_type": "code",
      "metadata": {
        "id": "_FPF4u6Mw9Rr",
        "colab_type": "code",
        "colab": {
          "base_uri": "https://localhost:8080/",
          "height": 1000
        },
        "outputId": "c8d78b16-ab64-4d15-8233-9a1472b7ce27"
      },
      "source": [
        "fct_count(df$records_detect_other)"
      ],
      "execution_count": 17,
      "outputs": [
        {
          "output_type": "display_data",
          "data": {
            "text/plain": [
              "   f                    n     \n",
              "1                       117196\n",
              "2  125                       1\n",
              "3  36                        1\n",
              "4  64                        1\n",
              "5  70                        1\n",
              "6  80                        1\n",
              "7  air sac pulse             1\n",
              "8  Boom                      7\n",
              "9  Boom & Wing noise         1\n",
              "10 booming                   1\n",
              "11 Cluck                     1\n",
              "12 D                        28\n",
              "13 Display                   2\n",
              "14 dive dispay               1\n",
              "15 drum                     50\n",
              "16 Drum                     95\n",
              "17 DRUM                      4\n",
              "18 drum on tree              2\n",
              "19 drummin                   1\n",
              "20 Drummin                   1\n",
              "21 drumming                119\n",
              "22 Drumming                 55\n",
              "23 drummng                   1\n",
              "24 flight dislay             1\n",
              "25 flight display            3\n",
              "26 flight display noise      1\n",
              "27 gobble                    1\n",
              "28 hoo                       4\n",
              "29 hoot                      1\n",
              "30 Hoot                     26\n",
              "31 Hoot call                 5\n",
              "32 low soft hoots            1\n",
              "33 Mew                       1\n",
              "34 Tapping                   1\n",
              "35 wing boom                 4\n",
              "36 wing buzz                 1\n",
              "37 wing flapping             1\n",
              "38 wing noise               87\n",
              "39 Wing noise               53\n",
              "40 Wing Noise                2\n",
              "41 Wing sound                1\n",
              "42 Wing thing                1\n",
              "43 wing whir                91\n",
              "44 Wing whir                38\n",
              "45 Wing Whir                 1\n",
              "46 Wing whir/noise           1\n",
              "47 wing whirr                4\n",
              "48 wingbeat                  1\n",
              "49 wings                     2\n",
              "50 Wings                     5\n",
              "51 wingwhir                  1\n",
              "52 winnowing                 1"
            ],
            "text/latex": "A tibble: 52 × 2\n\\begin{tabular}{ll}\n f & n\\\\\n <fct> & <int>\\\\\n\\hline\n\t                      & 117196\\\\\n\t 125                  &      1\\\\\n\t 36                   &      1\\\\\n\t 64                   &      1\\\\\n\t 70                   &      1\\\\\n\t 80                   &      1\\\\\n\t air sac pulse        &      1\\\\\n\t Boom                 &      7\\\\\n\t Boom \\& Wing noise    &      1\\\\\n\t booming              &      1\\\\\n\t Cluck                &      1\\\\\n\t D                    &     28\\\\\n\t Display              &      2\\\\\n\t dive dispay          &      1\\\\\n\t drum                 &     50\\\\\n\t Drum                 &     95\\\\\n\t DRUM                 &      4\\\\\n\t drum on tree         &      2\\\\\n\t drummin              &      1\\\\\n\t Drummin              &      1\\\\\n\t drumming             &    119\\\\\n\t Drumming             &     55\\\\\n\t drummng              &      1\\\\\n\t flight dislay        &      1\\\\\n\t flight display       &      3\\\\\n\t flight display noise &      1\\\\\n\t gobble               &      1\\\\\n\t hoo                  &      4\\\\\n\t hoot                 &      1\\\\\n\t Hoot                 &     26\\\\\n\t Hoot call            &      5\\\\\n\t low soft hoots       &      1\\\\\n\t Mew                  &      1\\\\\n\t Tapping              &      1\\\\\n\t wing boom            &      4\\\\\n\t wing buzz            &      1\\\\\n\t wing flapping        &      1\\\\\n\t wing noise           &     87\\\\\n\t Wing noise           &     53\\\\\n\t Wing Noise           &      2\\\\\n\t Wing sound           &      1\\\\\n\t Wing thing           &      1\\\\\n\t wing whir            &     91\\\\\n\t Wing whir            &     38\\\\\n\t Wing Whir            &      1\\\\\n\t Wing whir/noise      &      1\\\\\n\t wing whirr           &      4\\\\\n\t wingbeat             &      1\\\\\n\t wings                &      2\\\\\n\t Wings                &      5\\\\\n\t wingwhir             &      1\\\\\n\t winnowing            &      1\\\\\n\\end{tabular}\n",
            "text/markdown": "\nA tibble: 52 × 2\n\n| f &lt;fct&gt; | n &lt;int&gt; |\n|---|---|\n| <!----> | 117196 |\n| 125                  |      1 |\n| 36                   |      1 |\n| 64                   |      1 |\n| 70                   |      1 |\n| 80                   |      1 |\n| air sac pulse        |      1 |\n| Boom                 |      7 |\n| Boom &amp; Wing noise    |      1 |\n| booming              |      1 |\n| Cluck                |      1 |\n| D                    |     28 |\n| Display              |      2 |\n| dive dispay          |      1 |\n| drum                 |     50 |\n| Drum                 |     95 |\n| DRUM                 |      4 |\n| drum on tree         |      2 |\n| drummin              |      1 |\n| Drummin              |      1 |\n| drumming             |    119 |\n| Drumming             |     55 |\n| drummng              |      1 |\n| flight dislay        |      1 |\n| flight display       |      3 |\n| flight display noise |      1 |\n| gobble               |      1 |\n| hoo                  |      4 |\n| hoot                 |      1 |\n| Hoot                 |     26 |\n| Hoot call            |      5 |\n| low soft hoots       |      1 |\n| Mew                  |      1 |\n| Tapping              |      1 |\n| wing boom            |      4 |\n| wing buzz            |      1 |\n| wing flapping        |      1 |\n| wing noise           |     87 |\n| Wing noise           |     53 |\n| Wing Noise           |      2 |\n| Wing sound           |      1 |\n| Wing thing           |      1 |\n| wing whir            |     91 |\n| Wing whir            |     38 |\n| Wing Whir            |      1 |\n| Wing whir/noise      |      1 |\n| wing whirr           |      4 |\n| wingbeat             |      1 |\n| wings                |      2 |\n| Wings                |      5 |\n| wingwhir             |      1 |\n| winnowing            |      1 |\n\n",
            "text/html": [
              "<table>\n",
              "<caption>A tibble: 52 × 2</caption>\n",
              "<thead>\n",
              "\t<tr><th scope=col>f</th><th scope=col>n</th></tr>\n",
              "\t<tr><th scope=col>&lt;fct&gt;</th><th scope=col>&lt;int&gt;</th></tr>\n",
              "</thead>\n",
              "<tbody>\n",
              "\t<tr><td>                    </td><td>117196</td></tr>\n",
              "\t<tr><td>125                 </td><td>     1</td></tr>\n",
              "\t<tr><td>36                  </td><td>     1</td></tr>\n",
              "\t<tr><td>64                  </td><td>     1</td></tr>\n",
              "\t<tr><td>70                  </td><td>     1</td></tr>\n",
              "\t<tr><td>80                  </td><td>     1</td></tr>\n",
              "\t<tr><td>air sac pulse       </td><td>     1</td></tr>\n",
              "\t<tr><td>Boom                </td><td>     7</td></tr>\n",
              "\t<tr><td><span style=white-space:pre-wrap>Boom &amp; Wing noise   </span></td><td><span style=white-space:pre-wrap>     1</span></td></tr>\n",
              "\t<tr><td>booming             </td><td>     1</td></tr>\n",
              "\t<tr><td>Cluck               </td><td>     1</td></tr>\n",
              "\t<tr><td>D                   </td><td>    28</td></tr>\n",
              "\t<tr><td>Display             </td><td>     2</td></tr>\n",
              "\t<tr><td>dive dispay         </td><td>     1</td></tr>\n",
              "\t<tr><td>drum                </td><td>    50</td></tr>\n",
              "\t<tr><td>Drum                </td><td>    95</td></tr>\n",
              "\t<tr><td>DRUM                </td><td>     4</td></tr>\n",
              "\t<tr><td>drum on tree        </td><td>     2</td></tr>\n",
              "\t<tr><td>drummin             </td><td>     1</td></tr>\n",
              "\t<tr><td>Drummin             </td><td>     1</td></tr>\n",
              "\t<tr><td>drumming            </td><td>   119</td></tr>\n",
              "\t<tr><td>Drumming            </td><td>    55</td></tr>\n",
              "\t<tr><td>drummng             </td><td>     1</td></tr>\n",
              "\t<tr><td>flight dislay       </td><td>     1</td></tr>\n",
              "\t<tr><td>flight display      </td><td>     3</td></tr>\n",
              "\t<tr><td>flight display noise</td><td>     1</td></tr>\n",
              "\t<tr><td>gobble              </td><td>     1</td></tr>\n",
              "\t<tr><td>hoo                 </td><td>     4</td></tr>\n",
              "\t<tr><td>hoot                </td><td>     1</td></tr>\n",
              "\t<tr><td>Hoot                </td><td>    26</td></tr>\n",
              "\t<tr><td>Hoot call           </td><td>     5</td></tr>\n",
              "\t<tr><td>low soft hoots      </td><td>     1</td></tr>\n",
              "\t<tr><td>Mew                 </td><td>     1</td></tr>\n",
              "\t<tr><td>Tapping             </td><td>     1</td></tr>\n",
              "\t<tr><td>wing boom           </td><td>     4</td></tr>\n",
              "\t<tr><td>wing buzz           </td><td>     1</td></tr>\n",
              "\t<tr><td>wing flapping       </td><td>     1</td></tr>\n",
              "\t<tr><td>wing noise          </td><td>    87</td></tr>\n",
              "\t<tr><td>Wing noise          </td><td>    53</td></tr>\n",
              "\t<tr><td>Wing Noise          </td><td>     2</td></tr>\n",
              "\t<tr><td>Wing sound          </td><td>     1</td></tr>\n",
              "\t<tr><td>Wing thing          </td><td>     1</td></tr>\n",
              "\t<tr><td>wing whir           </td><td>    91</td></tr>\n",
              "\t<tr><td>Wing whir           </td><td>    38</td></tr>\n",
              "\t<tr><td>Wing Whir           </td><td>     1</td></tr>\n",
              "\t<tr><td>Wing whir/noise     </td><td>     1</td></tr>\n",
              "\t<tr><td>wing whirr          </td><td>     4</td></tr>\n",
              "\t<tr><td>wingbeat            </td><td>     1</td></tr>\n",
              "\t<tr><td>wings               </td><td>     2</td></tr>\n",
              "\t<tr><td>Wings               </td><td>     5</td></tr>\n",
              "\t<tr><td>wingwhir            </td><td>     1</td></tr>\n",
              "\t<tr><td>winnowing           </td><td>     1</td></tr>\n",
              "</tbody>\n",
              "</table>\n"
            ]
          },
          "metadata": {
            "tags": []
          }
        }
      ]
    },
    {
      "cell_type": "markdown",
      "metadata": {
        "id": "M44U8Qcwzb3z",
        "colab_type": "text"
      },
      "source": [
        "## records_interval"
      ]
    },
    {
      "cell_type": "code",
      "metadata": {
        "id": "noMaVSuNxPge",
        "colab_type": "code",
        "colab": {
          "base_uri": "https://localhost:8080/",
          "height": 225
        },
        "outputId": "978fc2be-9287-4907-e6ea-f4824d280c75"
      },
      "source": [
        "fct_count(df$records_interval)"
      ],
      "execution_count": 18,
      "outputs": [
        {
          "output_type": "display_data",
          "data": {
            "text/plain": [
              "  f             n    \n",
              "1                 281\n",
              "2 1             85175\n",
              "3 1`                1\n",
              "4 2             29592\n",
              "5 After survey   1838\n",
              "6 Before survey  1023\n",
              "7 U                 1"
            ],
            "text/latex": "A tibble: 7 × 2\n\\begin{tabular}{ll}\n f & n\\\\\n <fct> & <int>\\\\\n\\hline\n\t               &   281\\\\\n\t 1             & 85175\\\\\n\t 1`            &     1\\\\\n\t 2             & 29592\\\\\n\t After survey  &  1838\\\\\n\t Before survey &  1023\\\\\n\t U             &     1\\\\\n\\end{tabular}\n",
            "text/markdown": "\nA tibble: 7 × 2\n\n| f &lt;fct&gt; | n &lt;int&gt; |\n|---|---|\n| <!----> |   281 |\n| 1             | 85175 |\n| 1`            |     1 |\n| 2             | 29592 |\n| After survey  |  1838 |\n| Before survey |  1023 |\n| U             |     1 |\n\n",
            "text/html": [
              "<table>\n",
              "<caption>A tibble: 7 × 2</caption>\n",
              "<thead>\n",
              "\t<tr><th scope=col>f</th><th scope=col>n</th></tr>\n",
              "\t<tr><th scope=col>&lt;fct&gt;</th><th scope=col>&lt;int&gt;</th></tr>\n",
              "</thead>\n",
              "<tbody>\n",
              "\t<tr><td>             </td><td>  281</td></tr>\n",
              "\t<tr><td>1            </td><td>85175</td></tr>\n",
              "\t<tr><td>1`           </td><td>    1</td></tr>\n",
              "\t<tr><td>2            </td><td>29592</td></tr>\n",
              "\t<tr><td>After survey </td><td> 1838</td></tr>\n",
              "\t<tr><td>Before survey</td><td> 1023</td></tr>\n",
              "\t<tr><td>U            </td><td>    1</td></tr>\n",
              "</tbody>\n",
              "</table>\n"
            ]
          },
          "metadata": {
            "tags": []
          }
        }
      ]
    },
    {
      "cell_type": "code",
      "metadata": {
        "id": "QqiJpbfgl5R8",
        "colab_type": "code",
        "colab": {
          "base_uri": "https://localhost:8080/",
          "height": 204
        },
        "outputId": "26cac7e3-d9bf-49f3-ab48-b27684d21574"
      },
      "source": [
        "df <- df %>%\n",
        "  mutate(records_interval = ifelse(records_interval == '1`', '1', \n",
        "                            ifelse(records_interval == '', NA, records_interval)))\n",
        "\n",
        "fct_count(df$records_interval)"
      ],
      "execution_count": 19,
      "outputs": [
        {
          "output_type": "display_data",
          "data": {
            "text/plain": [
              "  f             n    \n",
              "1 1             85176\n",
              "2 2             29592\n",
              "3 After survey   1838\n",
              "4 Before survey  1023\n",
              "5 U                 1\n",
              "6 NA              281"
            ],
            "text/latex": "A tibble: 6 × 2\n\\begin{tabular}{ll}\n f & n\\\\\n <fct> & <int>\\\\\n\\hline\n\t 1             & 85176\\\\\n\t 2             & 29592\\\\\n\t After survey  &  1838\\\\\n\t Before survey &  1023\\\\\n\t U             &     1\\\\\n\t NA            &   281\\\\\n\\end{tabular}\n",
            "text/markdown": "\nA tibble: 6 × 2\n\n| f &lt;fct&gt; | n &lt;int&gt; |\n|---|---|\n| 1             | 85176 |\n| 2             | 29592 |\n| After survey  |  1838 |\n| Before survey |  1023 |\n| U             |     1 |\n| NA            |   281 |\n\n",
            "text/html": [
              "<table>\n",
              "<caption>A tibble: 6 × 2</caption>\n",
              "<thead>\n",
              "\t<tr><th scope=col>f</th><th scope=col>n</th></tr>\n",
              "\t<tr><th scope=col>&lt;fct&gt;</th><th scope=col>&lt;int&gt;</th></tr>\n",
              "</thead>\n",
              "<tbody>\n",
              "\t<tr><td>1            </td><td>85176</td></tr>\n",
              "\t<tr><td>2            </td><td>29592</td></tr>\n",
              "\t<tr><td>After survey </td><td> 1838</td></tr>\n",
              "\t<tr><td>Before survey</td><td> 1023</td></tr>\n",
              "\t<tr><td>U            </td><td>    1</td></tr>\n",
              "\t<tr><td>NA           </td><td>  281</td></tr>\n",
              "</tbody>\n",
              "</table>\n"
            ]
          },
          "metadata": {
            "tags": []
          }
        }
      ]
    },
    {
      "cell_type": "markdown",
      "metadata": {
        "id": "y1mUoKWUJcea",
        "colab_type": "text"
      },
      "source": [
        "## resolve \"na\" and \"\""
      ]
    },
    {
      "cell_type": "markdown",
      "metadata": {
        "id": "zwchBTNqJgsz",
        "colab_type": "text"
      },
      "source": [
        "['Habitat', 'Food', 'Nesting', 'Behavior', 'Order', 'Family'] all have 2 \"na\" values and 451 \"\" values.  Update these cells to NA"
      ]
    },
    {
      "cell_type": "code",
      "metadata": {
        "id": "GV8L-MFpRBei",
        "colab_type": "code",
        "colab": {
          "base_uri": "https://localhost:8080/",
          "height": 330
        },
        "outputId": "2eae5fa5-9719-4682-b912-b6b83f757d0c"
      },
      "source": [
        "fct_count(df$function_habitat_preference)"
      ],
      "execution_count": 20,
      "outputs": [
        {
          "output_type": "display_data",
          "data": {
            "text/plain": [
              "   f             n    \n",
              "1                  451\n",
              "2  Forest        19233\n",
              "3  Grassland     41108\n",
              "4  Lake/Pond      2380\n",
              "5  Marsh          1344\n",
              "6  Mountains      1353\n",
              "7  na                2\n",
              "8  Open Woodland 42342\n",
              "9  River/Stream    201\n",
              "10 Scrub          6067\n",
              "11 Shoreline       506\n",
              "12 Town           2924"
            ],
            "text/latex": "A tibble: 12 × 2\n\\begin{tabular}{ll}\n f & n\\\\\n <fct> & <int>\\\\\n\\hline\n\t               &   451\\\\\n\t Forest        & 19233\\\\\n\t Grassland     & 41108\\\\\n\t Lake/Pond     &  2380\\\\\n\t Marsh         &  1344\\\\\n\t Mountains     &  1353\\\\\n\t na            &     2\\\\\n\t Open Woodland & 42342\\\\\n\t River/Stream  &   201\\\\\n\t Scrub         &  6067\\\\\n\t Shoreline     &   506\\\\\n\t Town          &  2924\\\\\n\\end{tabular}\n",
            "text/markdown": "\nA tibble: 12 × 2\n\n| f &lt;fct&gt; | n &lt;int&gt; |\n|---|---|\n| <!----> |   451 |\n| Forest        | 19233 |\n| Grassland     | 41108 |\n| Lake/Pond     |  2380 |\n| Marsh         |  1344 |\n| Mountains     |  1353 |\n| na            |     2 |\n| Open Woodland | 42342 |\n| River/Stream  |   201 |\n| Scrub         |  6067 |\n| Shoreline     |   506 |\n| Town          |  2924 |\n\n",
            "text/html": [
              "<table>\n",
              "<caption>A tibble: 12 × 2</caption>\n",
              "<thead>\n",
              "\t<tr><th scope=col>f</th><th scope=col>n</th></tr>\n",
              "\t<tr><th scope=col>&lt;fct&gt;</th><th scope=col>&lt;int&gt;</th></tr>\n",
              "</thead>\n",
              "<tbody>\n",
              "\t<tr><td>             </td><td>  451</td></tr>\n",
              "\t<tr><td>Forest       </td><td>19233</td></tr>\n",
              "\t<tr><td>Grassland    </td><td>41108</td></tr>\n",
              "\t<tr><td>Lake/Pond    </td><td> 2380</td></tr>\n",
              "\t<tr><td>Marsh        </td><td> 1344</td></tr>\n",
              "\t<tr><td>Mountains    </td><td> 1353</td></tr>\n",
              "\t<tr><td>na           </td><td>    2</td></tr>\n",
              "\t<tr><td>Open Woodland</td><td>42342</td></tr>\n",
              "\t<tr><td>River/Stream </td><td>  201</td></tr>\n",
              "\t<tr><td>Scrub        </td><td> 6067</td></tr>\n",
              "\t<tr><td>Shoreline    </td><td>  506</td></tr>\n",
              "\t<tr><td>Town         </td><td> 2924</td></tr>\n",
              "</tbody>\n",
              "</table>\n"
            ]
          },
          "metadata": {
            "tags": []
          }
        }
      ]
    },
    {
      "cell_type": "code",
      "metadata": {
        "id": "-5SsJOpgLAve",
        "colab_type": "code",
        "colab": {
          "base_uri": "https://localhost:8080/",
          "height": 309
        },
        "outputId": "166742a9-20d5-4cf2-ca1a-92b3c2cf48c6"
      },
      "source": [
        "df <- df %>%\n",
        "  mutate_if(is.character, list(~ na_if(., \"na\"))) %>%\n",
        "  # would be nice to mutate \"na\" and \"\" in a single line\n",
        "  mutate_if(is.character, list(~ na_if(., \"\"))) %>%\n",
        "  # remove \"na\" and \"\" factor levels\n",
        "  droplevels()\n",
        "\n",
        "fct_count(df$function_habitat_preference)"
      ],
      "execution_count": 21,
      "outputs": [
        {
          "output_type": "display_data",
          "data": {
            "text/plain": [
              "   f             n    \n",
              "1  Forest        19233\n",
              "2  Grassland     41108\n",
              "3  Lake/Pond      2380\n",
              "4  Marsh          1344\n",
              "5  Mountains      1353\n",
              "6  Open Woodland 42342\n",
              "7  River/Stream    201\n",
              "8  Scrub          6067\n",
              "9  Shoreline       506\n",
              "10 Town           2924\n",
              "11 NA              453"
            ],
            "text/latex": "A tibble: 11 × 2\n\\begin{tabular}{ll}\n f & n\\\\\n <fct> & <int>\\\\\n\\hline\n\t Forest        & 19233\\\\\n\t Grassland     & 41108\\\\\n\t Lake/Pond     &  2380\\\\\n\t Marsh         &  1344\\\\\n\t Mountains     &  1353\\\\\n\t Open Woodland & 42342\\\\\n\t River/Stream  &   201\\\\\n\t Scrub         &  6067\\\\\n\t Shoreline     &   506\\\\\n\t Town          &  2924\\\\\n\t NA            &   453\\\\\n\\end{tabular}\n",
            "text/markdown": "\nA tibble: 11 × 2\n\n| f &lt;fct&gt; | n &lt;int&gt; |\n|---|---|\n| Forest        | 19233 |\n| Grassland     | 41108 |\n| Lake/Pond     |  2380 |\n| Marsh         |  1344 |\n| Mountains     |  1353 |\n| Open Woodland | 42342 |\n| River/Stream  |   201 |\n| Scrub         |  6067 |\n| Shoreline     |   506 |\n| Town          |  2924 |\n| NA            |   453 |\n\n",
            "text/html": [
              "<table>\n",
              "<caption>A tibble: 11 × 2</caption>\n",
              "<thead>\n",
              "\t<tr><th scope=col>f</th><th scope=col>n</th></tr>\n",
              "\t<tr><th scope=col>&lt;fct&gt;</th><th scope=col>&lt;int&gt;</th></tr>\n",
              "</thead>\n",
              "<tbody>\n",
              "\t<tr><td>Forest       </td><td>19233</td></tr>\n",
              "\t<tr><td>Grassland    </td><td>41108</td></tr>\n",
              "\t<tr><td>Lake/Pond    </td><td> 2380</td></tr>\n",
              "\t<tr><td>Marsh        </td><td> 1344</td></tr>\n",
              "\t<tr><td>Mountains    </td><td> 1353</td></tr>\n",
              "\t<tr><td>Open Woodland</td><td>42342</td></tr>\n",
              "\t<tr><td>River/Stream </td><td>  201</td></tr>\n",
              "\t<tr><td>Scrub        </td><td> 6067</td></tr>\n",
              "\t<tr><td>Shoreline    </td><td>  506</td></tr>\n",
              "\t<tr><td>Town         </td><td> 2924</td></tr>\n",
              "\t<tr><td>NA           </td><td>  453</td></tr>\n",
              "</tbody>\n",
              "</table>\n"
            ]
          },
          "metadata": {
            "tags": []
          }
        }
      ]
    },
    {
      "cell_type": "markdown",
      "metadata": {
        "id": "18Q7FSIQmexO",
        "colab_type": "text"
      },
      "source": [
        "## time"
      ]
    },
    {
      "cell_type": "markdown",
      "metadata": {
        "id": "zK1Ajbxqq4QC",
        "colab_type": "text"
      },
      "source": [
        "### survey_time_start"
      ]
    },
    {
      "cell_type": "code",
      "metadata": {
        "id": "FWVcrJ3WquJd",
        "colab_type": "code",
        "colab": {
          "base_uri": "https://localhost:8080/",
          "height": 238
        },
        "outputId": "d77dde72-e06a-458d-ed18-16f60aec4759"
      },
      "source": [
        "sort(unique(df$survey_time_start_MDT))"
      ],
      "execution_count": 22,
      "outputs": [
        {
          "output_type": "display_data",
          "data": {
            "text/plain": [
              "  [1]    0    1   50   98  540  543  544  545  546  547  548  550  551  552  553\n",
              " [16]  554  555  556  557  558  559  580  600  601  602  603  604  605  606  607\n",
              " [31]  608  609  610  611  612  613  614  615  616  617  618  619  620  621  622\n",
              " [46]  623  624  625  626  627  628  629  630  631  632  633  634  635  636  637\n",
              " [61]  638  639  640  641  642  643  644  645  646  647  648  649  650  651  652\n",
              " [76]  653  654  655  656  657  658  659  700  701  702  703  704  705  706  707\n",
              " [91]  708  709  710  711  712  713  714  715  716  717  718  719  720  721  722\n",
              "[106]  723  724  725  726  727  728  729  730  731  732  733  734  735  736  737\n",
              "[121]  738  739  740  741  742  743  744  745  746  747  748  749  750  751  752\n",
              "[136]  753  754  755  756  757  758  759  763  800  801  802  803  804  805  806\n",
              "[151]  807  808  809  810  811  812  813  814  815  816  817  818  819  820  821\n",
              "[166]  822  823  824  825  826  827  828  829  830  831  832  833  834  835  836\n",
              "[181]  837  838  839  840  841  842  843  844  845  846  847  848  849  850  851\n",
              "[196]  852  853  854  855  856  857  858  859  900  901  902  903  904  905  906\n",
              "[211]  907  908  909  910  911  912  913  914  915  916  917  918  919  920  921\n",
              "[226]  922  923  924  925  926  927  928  929  930  931  932  933  934  935  936\n",
              "[241]  937  938  939  940  941  942  943  944  945  946  947  948  949  950  951\n",
              "[256]  952  953  954  955  956  957  958  959 1000 1001 1002 1003 1004 1005 1006\n",
              "[271] 1007 1008 1009 1010 1011 1012 1013 1014 1015 1016 1017 1018 1019 1020 1021\n",
              "[286] 1022 1023 1024 1025 1026 1027 1028 1029 1030 1031 1032 1033 1034 1035 1036\n",
              "[301] 1037 1038 1039 1040 1041 1042 1043 1044 1045 1046 1047 1048 1049 1050 1051\n",
              "[316] 1052 1053 1054 1055 1056 1057 1058 1059 1100 1101 1102 1103 1104 1105 1107\n",
              "[331] 1108 1112 1115"
            ],
            "text/latex": "\\begin{enumerate*}\n\\item 0\n\\item 1\n\\item 50\n\\item 98\n\\item 540\n\\item 543\n\\item 544\n\\item 545\n\\item 546\n\\item 547\n\\item 548\n\\item 550\n\\item 551\n\\item 552\n\\item 553\n\\item 554\n\\item 555\n\\item 556\n\\item 557\n\\item 558\n\\item 559\n\\item 580\n\\item 600\n\\item 601\n\\item 602\n\\item 603\n\\item 604\n\\item 605\n\\item 606\n\\item 607\n\\item 608\n\\item 609\n\\item 610\n\\item 611\n\\item 612\n\\item 613\n\\item 614\n\\item 615\n\\item 616\n\\item 617\n\\item 618\n\\item 619\n\\item 620\n\\item 621\n\\item 622\n\\item 623\n\\item 624\n\\item 625\n\\item 626\n\\item 627\n\\item 628\n\\item 629\n\\item 630\n\\item 631\n\\item 632\n\\item 633\n\\item 634\n\\item 635\n\\item 636\n\\item 637\n\\item 638\n\\item 639\n\\item 640\n\\item 641\n\\item 642\n\\item 643\n\\item 644\n\\item 645\n\\item 646\n\\item 647\n\\item 648\n\\item 649\n\\item 650\n\\item 651\n\\item 652\n\\item 653\n\\item 654\n\\item 655\n\\item 656\n\\item 657\n\\item 658\n\\item 659\n\\item 700\n\\item 701\n\\item 702\n\\item 703\n\\item 704\n\\item 705\n\\item 706\n\\item 707\n\\item 708\n\\item 709\n\\item 710\n\\item 711\n\\item 712\n\\item 713\n\\item 714\n\\item 715\n\\item 716\n\\item 717\n\\item 718\n\\item 719\n\\item 720\n\\item 721\n\\item 722\n\\item 723\n\\item 724\n\\item 725\n\\item 726\n\\item 727\n\\item 728\n\\item 729\n\\item 730\n\\item 731\n\\item 732\n\\item 733\n\\item 734\n\\item 735\n\\item 736\n\\item 737\n\\item 738\n\\item 739\n\\item 740\n\\item 741\n\\item 742\n\\item 743\n\\item 744\n\\item 745\n\\item 746\n\\item 747\n\\item 748\n\\item 749\n\\item 750\n\\item 751\n\\item 752\n\\item 753\n\\item 754\n\\item 755\n\\item 756\n\\item 757\n\\item 758\n\\item 759\n\\item 763\n\\item 800\n\\item 801\n\\item 802\n\\item 803\n\\item 804\n\\item 805\n\\item 806\n\\item 807\n\\item 808\n\\item 809\n\\item 810\n\\item 811\n\\item 812\n\\item 813\n\\item 814\n\\item 815\n\\item 816\n\\item 817\n\\item 818\n\\item 819\n\\item 820\n\\item 821\n\\item 822\n\\item 823\n\\item 824\n\\item 825\n\\item 826\n\\item 827\n\\item 828\n\\item 829\n\\item 830\n\\item 831\n\\item 832\n\\item 833\n\\item 834\n\\item 835\n\\item 836\n\\item 837\n\\item 838\n\\item 839\n\\item 840\n\\item 841\n\\item 842\n\\item 843\n\\item 844\n\\item 845\n\\item 846\n\\item 847\n\\item 848\n\\item 849\n\\item 850\n\\item 851\n\\item 852\n\\item 853\n\\item 854\n\\item 855\n\\item 856\n\\item 857\n\\item 858\n\\item 859\n\\item 900\n\\item 901\n\\item 902\n\\item 903\n\\item 904\n\\item 905\n\\item 906\n\\item 907\n\\item 908\n\\item 909\n\\item 910\n\\item 911\n\\item 912\n\\item 913\n\\item 914\n\\item 915\n\\item 916\n\\item 917\n\\item 918\n\\item 919\n\\item 920\n\\item 921\n\\item 922\n\\item 923\n\\item 924\n\\item 925\n\\item 926\n\\item 927\n\\item 928\n\\item 929\n\\item 930\n\\item 931\n\\item 932\n\\item 933\n\\item 934\n\\item 935\n\\item 936\n\\item 937\n\\item 938\n\\item 939\n\\item 940\n\\item 941\n\\item 942\n\\item 943\n\\item 944\n\\item 945\n\\item 946\n\\item 947\n\\item 948\n\\item 949\n\\item 950\n\\item 951\n\\item 952\n\\item 953\n\\item 954\n\\item 955\n\\item 956\n\\item 957\n\\item 958\n\\item 959\n\\item 1000\n\\item 1001\n\\item 1002\n\\item 1003\n\\item 1004\n\\item 1005\n\\item 1006\n\\item 1007\n\\item 1008\n\\item 1009\n\\item 1010\n\\item 1011\n\\item 1012\n\\item 1013\n\\item 1014\n\\item 1015\n\\item 1016\n\\item 1017\n\\item 1018\n\\item 1019\n\\item 1020\n\\item 1021\n\\item 1022\n\\item 1023\n\\item 1024\n\\item 1025\n\\item 1026\n\\item 1027\n\\item 1028\n\\item 1029\n\\item 1030\n\\item 1031\n\\item 1032\n\\item 1033\n\\item 1034\n\\item 1035\n\\item 1036\n\\item 1037\n\\item 1038\n\\item 1039\n\\item 1040\n\\item 1041\n\\item 1042\n\\item 1043\n\\item 1044\n\\item 1045\n\\item 1046\n\\item 1047\n\\item 1048\n\\item 1049\n\\item 1050\n\\item 1051\n\\item 1052\n\\item 1053\n\\item 1054\n\\item 1055\n\\item 1056\n\\item 1057\n\\item 1058\n\\item 1059\n\\item 1100\n\\item 1101\n\\item 1102\n\\item 1103\n\\item 1104\n\\item 1105\n\\item 1107\n\\item 1108\n\\item 1112\n\\item 1115\n\\end{enumerate*}\n",
            "text/markdown": "1. 0\n2. 1\n3. 50\n4. 98\n5. 540\n6. 543\n7. 544\n8. 545\n9. 546\n10. 547\n11. 548\n12. 550\n13. 551\n14. 552\n15. 553\n16. 554\n17. 555\n18. 556\n19. 557\n20. 558\n21. 559\n22. 580\n23. 600\n24. 601\n25. 602\n26. 603\n27. 604\n28. 605\n29. 606\n30. 607\n31. 608\n32. 609\n33. 610\n34. 611\n35. 612\n36. 613\n37. 614\n38. 615\n39. 616\n40. 617\n41. 618\n42. 619\n43. 620\n44. 621\n45. 622\n46. 623\n47. 624\n48. 625\n49. 626\n50. 627\n51. 628\n52. 629\n53. 630\n54. 631\n55. 632\n56. 633\n57. 634\n58. 635\n59. 636\n60. 637\n61. 638\n62. 639\n63. 640\n64. 641\n65. 642\n66. 643\n67. 644\n68. 645\n69. 646\n70. 647\n71. 648\n72. 649\n73. 650\n74. 651\n75. 652\n76. 653\n77. 654\n78. 655\n79. 656\n80. 657\n81. 658\n82. 659\n83. 700\n84. 701\n85. 702\n86. 703\n87. 704\n88. 705\n89. 706\n90. 707\n91. 708\n92. 709\n93. 710\n94. 711\n95. 712\n96. 713\n97. 714\n98. 715\n99. 716\n100. 717\n101. 718\n102. 719\n103. 720\n104. 721\n105. 722\n106. 723\n107. 724\n108. 725\n109. 726\n110. 727\n111. 728\n112. 729\n113. 730\n114. 731\n115. 732\n116. 733\n117. 734\n118. 735\n119. 736\n120. 737\n121. 738\n122. 739\n123. 740\n124. 741\n125. 742\n126. 743\n127. 744\n128. 745\n129. 746\n130. 747\n131. 748\n132. 749\n133. 750\n134. 751\n135. 752\n136. 753\n137. 754\n138. 755\n139. 756\n140. 757\n141. 758\n142. 759\n143. 763\n144. 800\n145. 801\n146. 802\n147. 803\n148. 804\n149. 805\n150. 806\n151. 807\n152. 808\n153. 809\n154. 810\n155. 811\n156. 812\n157. 813\n158. 814\n159. 815\n160. 816\n161. 817\n162. 818\n163. 819\n164. 820\n165. 821\n166. 822\n167. 823\n168. 824\n169. 825\n170. 826\n171. 827\n172. 828\n173. 829\n174. 830\n175. 831\n176. 832\n177. 833\n178. 834\n179. 835\n180. 836\n181. 837\n182. 838\n183. 839\n184. 840\n185. 841\n186. 842\n187. 843\n188. 844\n189. 845\n190. 846\n191. 847\n192. 848\n193. 849\n194. 850\n195. 851\n196. 852\n197. 853\n198. 854\n199. 855\n200. 856\n201. 857\n202. 858\n203. 859\n204. 900\n205. 901\n206. 902\n207. 903\n208. 904\n209. 905\n210. 906\n211. 907\n212. 908\n213. 909\n214. 910\n215. 911\n216. 912\n217. 913\n218. 914\n219. 915\n220. 916\n221. 917\n222. 918\n223. 919\n224. 920\n225. 921\n226. 922\n227. 923\n228. 924\n229. 925\n230. 926\n231. 927\n232. 928\n233. 929\n234. 930\n235. 931\n236. 932\n237. 933\n238. 934\n239. 935\n240. 936\n241. 937\n242. 938\n243. 939\n244. 940\n245. 941\n246. 942\n247. 943\n248. 944\n249. 945\n250. 946\n251. 947\n252. 948\n253. 949\n254. 950\n255. 951\n256. 952\n257. 953\n258. 954\n259. 955\n260. 956\n261. 957\n262. 958\n263. 959\n264. 1000\n265. 1001\n266. 1002\n267. 1003\n268. 1004\n269. 1005\n270. 1006\n271. 1007\n272. 1008\n273. 1009\n274. 1010\n275. 1011\n276. 1012\n277. 1013\n278. 1014\n279. 1015\n280. 1016\n281. 1017\n282. 1018\n283. 1019\n284. 1020\n285. 1021\n286. 1022\n287. 1023\n288. 1024\n289. 1025\n290. 1026\n291. 1027\n292. 1028\n293. 1029\n294. 1030\n295. 1031\n296. 1032\n297. 1033\n298. 1034\n299. 1035\n300. 1036\n301. 1037\n302. 1038\n303. 1039\n304. 1040\n305. 1041\n306. 1042\n307. 1043\n308. 1044\n309. 1045\n310. 1046\n311. 1047\n312. 1048\n313. 1049\n314. 1050\n315. 1051\n316. 1052\n317. 1053\n318. 1054\n319. 1055\n320. 1056\n321. 1057\n322. 1058\n323. 1059\n324. 1100\n325. 1101\n326. 1102\n327. 1103\n328. 1104\n329. 1105\n330. 1107\n331. 1108\n332. 1112\n333. 1115\n\n\n",
            "text/html": [
              "<style>\n",
              ".list-inline {list-style: none; margin:0; padding: 0}\n",
              ".list-inline>li {display: inline-block}\n",
              ".list-inline>li:not(:last-child)::after {content: \"\\00b7\"; padding: 0 .5ex}\n",
              "</style>\n",
              "<ol class=list-inline><li>0</li><li>1</li><li>50</li><li>98</li><li>540</li><li>543</li><li>544</li><li>545</li><li>546</li><li>547</li><li>548</li><li>550</li><li>551</li><li>552</li><li>553</li><li>554</li><li>555</li><li>556</li><li>557</li><li>558</li><li>559</li><li>580</li><li>600</li><li>601</li><li>602</li><li>603</li><li>604</li><li>605</li><li>606</li><li>607</li><li>608</li><li>609</li><li>610</li><li>611</li><li>612</li><li>613</li><li>614</li><li>615</li><li>616</li><li>617</li><li>618</li><li>619</li><li>620</li><li>621</li><li>622</li><li>623</li><li>624</li><li>625</li><li>626</li><li>627</li><li>628</li><li>629</li><li>630</li><li>631</li><li>632</li><li>633</li><li>634</li><li>635</li><li>636</li><li>637</li><li>638</li><li>639</li><li>640</li><li>641</li><li>642</li><li>643</li><li>644</li><li>645</li><li>646</li><li>647</li><li>648</li><li>649</li><li>650</li><li>651</li><li>652</li><li>653</li><li>654</li><li>655</li><li>656</li><li>657</li><li>658</li><li>659</li><li>700</li><li>701</li><li>702</li><li>703</li><li>704</li><li>705</li><li>706</li><li>707</li><li>708</li><li>709</li><li>710</li><li>711</li><li>712</li><li>713</li><li>714</li><li>715</li><li>716</li><li>717</li><li>718</li><li>719</li><li>720</li><li>721</li><li>722</li><li>723</li><li>724</li><li>725</li><li>726</li><li>727</li><li>728</li><li>729</li><li>730</li><li>731</li><li>732</li><li>733</li><li>734</li><li>735</li><li>736</li><li>737</li><li>738</li><li>739</li><li>740</li><li>741</li><li>742</li><li>743</li><li>744</li><li>745</li><li>746</li><li>747</li><li>748</li><li>749</li><li>750</li><li>751</li><li>752</li><li>753</li><li>754</li><li>755</li><li>756</li><li>757</li><li>758</li><li>759</li><li>763</li><li>800</li><li>801</li><li>802</li><li>803</li><li>804</li><li>805</li><li>806</li><li>807</li><li>808</li><li>809</li><li>810</li><li>811</li><li>812</li><li>813</li><li>814</li><li>815</li><li>816</li><li>817</li><li>818</li><li>819</li><li>820</li><li>821</li><li>822</li><li>823</li><li>824</li><li>825</li><li>826</li><li>827</li><li>828</li><li>829</li><li>830</li><li>831</li><li>832</li><li>833</li><li>834</li><li>835</li><li>836</li><li>837</li><li>838</li><li>839</li><li>840</li><li>841</li><li>842</li><li>843</li><li>844</li><li>845</li><li>846</li><li>847</li><li>848</li><li>849</li><li>850</li><li>851</li><li>852</li><li>853</li><li>854</li><li>855</li><li>856</li><li>857</li><li>858</li><li>859</li><li>900</li><li>901</li><li>902</li><li>903</li><li>904</li><li>905</li><li>906</li><li>907</li><li>908</li><li>909</li><li>910</li><li>911</li><li>912</li><li>913</li><li>914</li><li>915</li><li>916</li><li>917</li><li>918</li><li>919</li><li>920</li><li>921</li><li>922</li><li>923</li><li>924</li><li>925</li><li>926</li><li>927</li><li>928</li><li>929</li><li>930</li><li>931</li><li>932</li><li>933</li><li>934</li><li>935</li><li>936</li><li>937</li><li>938</li><li>939</li><li>940</li><li>941</li><li>942</li><li>943</li><li>944</li><li>945</li><li>946</li><li>947</li><li>948</li><li>949</li><li>950</li><li>951</li><li>952</li><li>953</li><li>954</li><li>955</li><li>956</li><li>957</li><li>958</li><li>959</li><li>1000</li><li>1001</li><li>1002</li><li>1003</li><li>1004</li><li>1005</li><li>1006</li><li>1007</li><li>1008</li><li>1009</li><li>1010</li><li>1011</li><li>1012</li><li>1013</li><li>1014</li><li>1015</li><li>1016</li><li>1017</li><li>1018</li><li>1019</li><li>1020</li><li>1021</li><li>1022</li><li>1023</li><li>1024</li><li>1025</li><li>1026</li><li>1027</li><li>1028</li><li>1029</li><li>1030</li><li>1031</li><li>1032</li><li>1033</li><li>1034</li><li>1035</li><li>1036</li><li>1037</li><li>1038</li><li>1039</li><li>1040</li><li>1041</li><li>1042</li><li>1043</li><li>1044</li><li>1045</li><li>1046</li><li>1047</li><li>1048</li><li>1049</li><li>1050</li><li>1051</li><li>1052</li><li>1053</li><li>1054</li><li>1055</li><li>1056</li><li>1057</li><li>1058</li><li>1059</li><li>1100</li><li>1101</li><li>1102</li><li>1103</li><li>1104</li><li>1105</li><li>1107</li><li>1108</li><li>1112</li><li>1115</li></ol>\n"
            ]
          },
          "metadata": {
            "tags": []
          }
        }
      ]
    },
    {
      "cell_type": "code",
      "metadata": {
        "id": "YqTfj-Yeq3IG",
        "colab_type": "code",
        "colab": {}
      },
      "source": [
        "# replace_with_na function is from naniar\n",
        "df <- df %>%\n",
        "  replace_with_na(replace = list(survey_time_start_MDT = c(0, 1, 50, 98)))"
      ],
      "execution_count": 0,
      "outputs": []
    },
    {
      "cell_type": "markdown",
      "metadata": {
        "id": "I1dO1gYCq6Zv",
        "colab_type": "text"
      },
      "source": [
        "### survey_time_end"
      ]
    },
    {
      "cell_type": "code",
      "metadata": {
        "id": "Qs1MCEU2jceJ",
        "colab_type": "code",
        "colab": {
          "base_uri": "https://localhost:8080/",
          "height": 238
        },
        "outputId": "ccabc90b-72a6-4552-d54c-01c386d74c07"
      },
      "source": [
        "sort(unique(df$survey_time_end))"
      ],
      "execution_count": 24,
      "outputs": [
        {
          "output_type": "display_data",
          "data": {
            "text/plain": [
              "  [1]    1    2   85  107  507  550  553  554  555  556  557  558  600  601  602\n",
              " [16]  603  604  605  606  607  608  609  610  611  612  613  614  615  616  617\n",
              " [31]  618  619  620  621  622  623  624  625  626  627  628  629  630  631  632\n",
              " [46]  633  634  635  636  637  638  639  640  641  642  643  644  645  646  647\n",
              " [61]  648  649  650  651  652  653  654  655  656  657  658  659  700  701  702\n",
              " [76]  703  704  705  706  707  708  709  710  711  712  713  714  715  716  717\n",
              " [91]  718  719  720  721  722  723  724  725  726  727  728  729  730  731  732\n",
              "[106]  733  734  735  736  737  738  739  740  741  742  743  744  745  746  747\n",
              "[121]  748  749  750  751  752  753  754  755  756  757  758  759  800  801  802\n",
              "[136]  803  804  805  806  807  808  809  810  811  812  813  814  815  816  817\n",
              "[151]  818  819  820  821  822  823  824  825  826  827  828  829  830  831  832\n",
              "[166]  833  834  835  836  837  838  839  840  841  842  843  844  845  846  847\n",
              "[181]  848  849  850  851  852  853  854  855  856  857  858  859  900  901  902\n",
              "[196]  903  904  905  906  907  908  909  910  911  912  913  914  915  916  917\n",
              "[211]  918  919  920  921  922  923  924  925  926  927  928  929  930  931  932\n",
              "[226]  933  934  935  936  937  938  939  940  941  942  943  944  945  946  947\n",
              "[241]  948  949  950  951  952  953  954  955  956  957  958  959 1000 1001 1002\n",
              "[256] 1003 1004 1005 1006 1007 1008 1009 1010 1011 1012 1013 1014 1015 1016 1017\n",
              "[271] 1018 1019 1020 1021 1022 1023 1024 1025 1026 1027 1028 1029 1030 1031 1032\n",
              "[286] 1033 1034 1035 1036 1037 1038 1039 1040 1041 1042 1043 1044 1045 1046 1047\n",
              "[301] 1048 1049 1050 1051 1052 1053 1054 1055 1056 1057 1058 1059 1100 1101 1102\n",
              "[316] 1103 1104 1105 1106 1107 1108 1109 1110 1111 1112 1113 1114 1115 1117 1119\n",
              "[331] 1122 1125 1146 6658"
            ],
            "text/latex": "\\begin{enumerate*}\n\\item 1\n\\item 2\n\\item 85\n\\item 107\n\\item 507\n\\item 550\n\\item 553\n\\item 554\n\\item 555\n\\item 556\n\\item 557\n\\item 558\n\\item 600\n\\item 601\n\\item 602\n\\item 603\n\\item 604\n\\item 605\n\\item 606\n\\item 607\n\\item 608\n\\item 609\n\\item 610\n\\item 611\n\\item 612\n\\item 613\n\\item 614\n\\item 615\n\\item 616\n\\item 617\n\\item 618\n\\item 619\n\\item 620\n\\item 621\n\\item 622\n\\item 623\n\\item 624\n\\item 625\n\\item 626\n\\item 627\n\\item 628\n\\item 629\n\\item 630\n\\item 631\n\\item 632\n\\item 633\n\\item 634\n\\item 635\n\\item 636\n\\item 637\n\\item 638\n\\item 639\n\\item 640\n\\item 641\n\\item 642\n\\item 643\n\\item 644\n\\item 645\n\\item 646\n\\item 647\n\\item 648\n\\item 649\n\\item 650\n\\item 651\n\\item 652\n\\item 653\n\\item 654\n\\item 655\n\\item 656\n\\item 657\n\\item 658\n\\item 659\n\\item 700\n\\item 701\n\\item 702\n\\item 703\n\\item 704\n\\item 705\n\\item 706\n\\item 707\n\\item 708\n\\item 709\n\\item 710\n\\item 711\n\\item 712\n\\item 713\n\\item 714\n\\item 715\n\\item 716\n\\item 717\n\\item 718\n\\item 719\n\\item 720\n\\item 721\n\\item 722\n\\item 723\n\\item 724\n\\item 725\n\\item 726\n\\item 727\n\\item 728\n\\item 729\n\\item 730\n\\item 731\n\\item 732\n\\item 733\n\\item 734\n\\item 735\n\\item 736\n\\item 737\n\\item 738\n\\item 739\n\\item 740\n\\item 741\n\\item 742\n\\item 743\n\\item 744\n\\item 745\n\\item 746\n\\item 747\n\\item 748\n\\item 749\n\\item 750\n\\item 751\n\\item 752\n\\item 753\n\\item 754\n\\item 755\n\\item 756\n\\item 757\n\\item 758\n\\item 759\n\\item 800\n\\item 801\n\\item 802\n\\item 803\n\\item 804\n\\item 805\n\\item 806\n\\item 807\n\\item 808\n\\item 809\n\\item 810\n\\item 811\n\\item 812\n\\item 813\n\\item 814\n\\item 815\n\\item 816\n\\item 817\n\\item 818\n\\item 819\n\\item 820\n\\item 821\n\\item 822\n\\item 823\n\\item 824\n\\item 825\n\\item 826\n\\item 827\n\\item 828\n\\item 829\n\\item 830\n\\item 831\n\\item 832\n\\item 833\n\\item 834\n\\item 835\n\\item 836\n\\item 837\n\\item 838\n\\item 839\n\\item 840\n\\item 841\n\\item 842\n\\item 843\n\\item 844\n\\item 845\n\\item 846\n\\item 847\n\\item 848\n\\item 849\n\\item 850\n\\item 851\n\\item 852\n\\item 853\n\\item 854\n\\item 855\n\\item 856\n\\item 857\n\\item 858\n\\item 859\n\\item 900\n\\item 901\n\\item 902\n\\item 903\n\\item 904\n\\item 905\n\\item 906\n\\item 907\n\\item 908\n\\item 909\n\\item 910\n\\item 911\n\\item 912\n\\item 913\n\\item 914\n\\item 915\n\\item 916\n\\item 917\n\\item 918\n\\item 919\n\\item 920\n\\item 921\n\\item 922\n\\item 923\n\\item 924\n\\item 925\n\\item 926\n\\item 927\n\\item 928\n\\item 929\n\\item 930\n\\item 931\n\\item 932\n\\item 933\n\\item 934\n\\item 935\n\\item 936\n\\item 937\n\\item 938\n\\item 939\n\\item 940\n\\item 941\n\\item 942\n\\item 943\n\\item 944\n\\item 945\n\\item 946\n\\item 947\n\\item 948\n\\item 949\n\\item 950\n\\item 951\n\\item 952\n\\item 953\n\\item 954\n\\item 955\n\\item 956\n\\item 957\n\\item 958\n\\item 959\n\\item 1000\n\\item 1001\n\\item 1002\n\\item 1003\n\\item 1004\n\\item 1005\n\\item 1006\n\\item 1007\n\\item 1008\n\\item 1009\n\\item 1010\n\\item 1011\n\\item 1012\n\\item 1013\n\\item 1014\n\\item 1015\n\\item 1016\n\\item 1017\n\\item 1018\n\\item 1019\n\\item 1020\n\\item 1021\n\\item 1022\n\\item 1023\n\\item 1024\n\\item 1025\n\\item 1026\n\\item 1027\n\\item 1028\n\\item 1029\n\\item 1030\n\\item 1031\n\\item 1032\n\\item 1033\n\\item 1034\n\\item 1035\n\\item 1036\n\\item 1037\n\\item 1038\n\\item 1039\n\\item 1040\n\\item 1041\n\\item 1042\n\\item 1043\n\\item 1044\n\\item 1045\n\\item 1046\n\\item 1047\n\\item 1048\n\\item 1049\n\\item 1050\n\\item 1051\n\\item 1052\n\\item 1053\n\\item 1054\n\\item 1055\n\\item 1056\n\\item 1057\n\\item 1058\n\\item 1059\n\\item 1100\n\\item 1101\n\\item 1102\n\\item 1103\n\\item 1104\n\\item 1105\n\\item 1106\n\\item 1107\n\\item 1108\n\\item 1109\n\\item 1110\n\\item 1111\n\\item 1112\n\\item 1113\n\\item 1114\n\\item 1115\n\\item 1117\n\\item 1119\n\\item 1122\n\\item 1125\n\\item 1146\n\\item 6658\n\\end{enumerate*}\n",
            "text/markdown": "1. 1\n2. 2\n3. 85\n4. 107\n5. 507\n6. 550\n7. 553\n8. 554\n9. 555\n10. 556\n11. 557\n12. 558\n13. 600\n14. 601\n15. 602\n16. 603\n17. 604\n18. 605\n19. 606\n20. 607\n21. 608\n22. 609\n23. 610\n24. 611\n25. 612\n26. 613\n27. 614\n28. 615\n29. 616\n30. 617\n31. 618\n32. 619\n33. 620\n34. 621\n35. 622\n36. 623\n37. 624\n38. 625\n39. 626\n40. 627\n41. 628\n42. 629\n43. 630\n44. 631\n45. 632\n46. 633\n47. 634\n48. 635\n49. 636\n50. 637\n51. 638\n52. 639\n53. 640\n54. 641\n55. 642\n56. 643\n57. 644\n58. 645\n59. 646\n60. 647\n61. 648\n62. 649\n63. 650\n64. 651\n65. 652\n66. 653\n67. 654\n68. 655\n69. 656\n70. 657\n71. 658\n72. 659\n73. 700\n74. 701\n75. 702\n76. 703\n77. 704\n78. 705\n79. 706\n80. 707\n81. 708\n82. 709\n83. 710\n84. 711\n85. 712\n86. 713\n87. 714\n88. 715\n89. 716\n90. 717\n91. 718\n92. 719\n93. 720\n94. 721\n95. 722\n96. 723\n97. 724\n98. 725\n99. 726\n100. 727\n101. 728\n102. 729\n103. 730\n104. 731\n105. 732\n106. 733\n107. 734\n108. 735\n109. 736\n110. 737\n111. 738\n112. 739\n113. 740\n114. 741\n115. 742\n116. 743\n117. 744\n118. 745\n119. 746\n120. 747\n121. 748\n122. 749\n123. 750\n124. 751\n125. 752\n126. 753\n127. 754\n128. 755\n129. 756\n130. 757\n131. 758\n132. 759\n133. 800\n134. 801\n135. 802\n136. 803\n137. 804\n138. 805\n139. 806\n140. 807\n141. 808\n142. 809\n143. 810\n144. 811\n145. 812\n146. 813\n147. 814\n148. 815\n149. 816\n150. 817\n151. 818\n152. 819\n153. 820\n154. 821\n155. 822\n156. 823\n157. 824\n158. 825\n159. 826\n160. 827\n161. 828\n162. 829\n163. 830\n164. 831\n165. 832\n166. 833\n167. 834\n168. 835\n169. 836\n170. 837\n171. 838\n172. 839\n173. 840\n174. 841\n175. 842\n176. 843\n177. 844\n178. 845\n179. 846\n180. 847\n181. 848\n182. 849\n183. 850\n184. 851\n185. 852\n186. 853\n187. 854\n188. 855\n189. 856\n190. 857\n191. 858\n192. 859\n193. 900\n194. 901\n195. 902\n196. 903\n197. 904\n198. 905\n199. 906\n200. 907\n201. 908\n202. 909\n203. 910\n204. 911\n205. 912\n206. 913\n207. 914\n208. 915\n209. 916\n210. 917\n211. 918\n212. 919\n213. 920\n214. 921\n215. 922\n216. 923\n217. 924\n218. 925\n219. 926\n220. 927\n221. 928\n222. 929\n223. 930\n224. 931\n225. 932\n226. 933\n227. 934\n228. 935\n229. 936\n230. 937\n231. 938\n232. 939\n233. 940\n234. 941\n235. 942\n236. 943\n237. 944\n238. 945\n239. 946\n240. 947\n241. 948\n242. 949\n243. 950\n244. 951\n245. 952\n246. 953\n247. 954\n248. 955\n249. 956\n250. 957\n251. 958\n252. 959\n253. 1000\n254. 1001\n255. 1002\n256. 1003\n257. 1004\n258. 1005\n259. 1006\n260. 1007\n261. 1008\n262. 1009\n263. 1010\n264. 1011\n265. 1012\n266. 1013\n267. 1014\n268. 1015\n269. 1016\n270. 1017\n271. 1018\n272. 1019\n273. 1020\n274. 1021\n275. 1022\n276. 1023\n277. 1024\n278. 1025\n279. 1026\n280. 1027\n281. 1028\n282. 1029\n283. 1030\n284. 1031\n285. 1032\n286. 1033\n287. 1034\n288. 1035\n289. 1036\n290. 1037\n291. 1038\n292. 1039\n293. 1040\n294. 1041\n295. 1042\n296. 1043\n297. 1044\n298. 1045\n299. 1046\n300. 1047\n301. 1048\n302. 1049\n303. 1050\n304. 1051\n305. 1052\n306. 1053\n307. 1054\n308. 1055\n309. 1056\n310. 1057\n311. 1058\n312. 1059\n313. 1100\n314. 1101\n315. 1102\n316. 1103\n317. 1104\n318. 1105\n319. 1106\n320. 1107\n321. 1108\n322. 1109\n323. 1110\n324. 1111\n325. 1112\n326. 1113\n327. 1114\n328. 1115\n329. 1117\n330. 1119\n331. 1122\n332. 1125\n333. 1146\n334. 6658\n\n\n",
            "text/html": [
              "<style>\n",
              ".list-inline {list-style: none; margin:0; padding: 0}\n",
              ".list-inline>li {display: inline-block}\n",
              ".list-inline>li:not(:last-child)::after {content: \"\\00b7\"; padding: 0 .5ex}\n",
              "</style>\n",
              "<ol class=list-inline><li>1</li><li>2</li><li>85</li><li>107</li><li>507</li><li>550</li><li>553</li><li>554</li><li>555</li><li>556</li><li>557</li><li>558</li><li>600</li><li>601</li><li>602</li><li>603</li><li>604</li><li>605</li><li>606</li><li>607</li><li>608</li><li>609</li><li>610</li><li>611</li><li>612</li><li>613</li><li>614</li><li>615</li><li>616</li><li>617</li><li>618</li><li>619</li><li>620</li><li>621</li><li>622</li><li>623</li><li>624</li><li>625</li><li>626</li><li>627</li><li>628</li><li>629</li><li>630</li><li>631</li><li>632</li><li>633</li><li>634</li><li>635</li><li>636</li><li>637</li><li>638</li><li>639</li><li>640</li><li>641</li><li>642</li><li>643</li><li>644</li><li>645</li><li>646</li><li>647</li><li>648</li><li>649</li><li>650</li><li>651</li><li>652</li><li>653</li><li>654</li><li>655</li><li>656</li><li>657</li><li>658</li><li>659</li><li>700</li><li>701</li><li>702</li><li>703</li><li>704</li><li>705</li><li>706</li><li>707</li><li>708</li><li>709</li><li>710</li><li>711</li><li>712</li><li>713</li><li>714</li><li>715</li><li>716</li><li>717</li><li>718</li><li>719</li><li>720</li><li>721</li><li>722</li><li>723</li><li>724</li><li>725</li><li>726</li><li>727</li><li>728</li><li>729</li><li>730</li><li>731</li><li>732</li><li>733</li><li>734</li><li>735</li><li>736</li><li>737</li><li>738</li><li>739</li><li>740</li><li>741</li><li>742</li><li>743</li><li>744</li><li>745</li><li>746</li><li>747</li><li>748</li><li>749</li><li>750</li><li>751</li><li>752</li><li>753</li><li>754</li><li>755</li><li>756</li><li>757</li><li>758</li><li>759</li><li>800</li><li>801</li><li>802</li><li>803</li><li>804</li><li>805</li><li>806</li><li>807</li><li>808</li><li>809</li><li>810</li><li>811</li><li>812</li><li>813</li><li>814</li><li>815</li><li>816</li><li>817</li><li>818</li><li>819</li><li>820</li><li>821</li><li>822</li><li>823</li><li>824</li><li>825</li><li>826</li><li>827</li><li>828</li><li>829</li><li>830</li><li>831</li><li>832</li><li>833</li><li>834</li><li>835</li><li>836</li><li>837</li><li>838</li><li>839</li><li>840</li><li>841</li><li>842</li><li>843</li><li>844</li><li>845</li><li>846</li><li>847</li><li>848</li><li>849</li><li>850</li><li>851</li><li>852</li><li>853</li><li>854</li><li>855</li><li>856</li><li>857</li><li>858</li><li>859</li><li>900</li><li>901</li><li>902</li><li>903</li><li>904</li><li>905</li><li>906</li><li>907</li><li>908</li><li>909</li><li>910</li><li>911</li><li>912</li><li>913</li><li>914</li><li>915</li><li>916</li><li>917</li><li>918</li><li>919</li><li>920</li><li>921</li><li>922</li><li>923</li><li>924</li><li>925</li><li>926</li><li>927</li><li>928</li><li>929</li><li>930</li><li>931</li><li>932</li><li>933</li><li>934</li><li>935</li><li>936</li><li>937</li><li>938</li><li>939</li><li>940</li><li>941</li><li>942</li><li>943</li><li>944</li><li>945</li><li>946</li><li>947</li><li>948</li><li>949</li><li>950</li><li>951</li><li>952</li><li>953</li><li>954</li><li>955</li><li>956</li><li>957</li><li>958</li><li>959</li><li>1000</li><li>1001</li><li>1002</li><li>1003</li><li>1004</li><li>1005</li><li>1006</li><li>1007</li><li>1008</li><li>1009</li><li>1010</li><li>1011</li><li>1012</li><li>1013</li><li>1014</li><li>1015</li><li>1016</li><li>1017</li><li>1018</li><li>1019</li><li>1020</li><li>1021</li><li>1022</li><li>1023</li><li>1024</li><li>1025</li><li>1026</li><li>1027</li><li>1028</li><li>1029</li><li>1030</li><li>1031</li><li>1032</li><li>1033</li><li>1034</li><li>1035</li><li>1036</li><li>1037</li><li>1038</li><li>1039</li><li>1040</li><li>1041</li><li>1042</li><li>1043</li><li>1044</li><li>1045</li><li>1046</li><li>1047</li><li>1048</li><li>1049</li><li>1050</li><li>1051</li><li>1052</li><li>1053</li><li>1054</li><li>1055</li><li>1056</li><li>1057</li><li>1058</li><li>1059</li><li>1100</li><li>1101</li><li>1102</li><li>1103</li><li>1104</li><li>1105</li><li>1106</li><li>1107</li><li>1108</li><li>1109</li><li>1110</li><li>1111</li><li>1112</li><li>1113</li><li>1114</li><li>1115</li><li>1117</li><li>1119</li><li>1122</li><li>1125</li><li>1146</li><li>6658</li></ol>\n"
            ]
          },
          "metadata": {
            "tags": []
          }
        }
      ]
    },
    {
      "cell_type": "code",
      "metadata": {
        "id": "R7dsEyvemdpT",
        "colab_type": "code",
        "colab": {}
      },
      "source": [
        "# replace_with_na function is from naniar\n",
        "df <- df %>%\n",
        "  replace_with_na(replace = list(survey_time_end_MDT = c(6658, 1, 2, 85, 107)))"
      ],
      "execution_count": 0,
      "outputs": []
    },
    {
      "cell_type": "markdown",
      "metadata": {
        "id": "zgc6cep2W8RA",
        "colab_type": "text"
      },
      "source": [
        "# Set DataTypes"
      ]
    },
    {
      "cell_type": "code",
      "metadata": {
        "id": "eihygEPtouVt",
        "colab_type": "code",
        "colab": {
          "base_uri": "https://localhost:8080/",
          "height": 564
        },
        "outputId": "adae54db-5bfe-44b7-8ee1-1fe7988a0934"
      },
      "source": [
        "str(df)"
      ],
      "execution_count": 26,
      "outputs": [
        {
          "output_type": "stream",
          "text": [
            "'data.frame':\t117911 obs. of  30 variables:\n",
            " $ survey_ID                         : int  1 1 1 1 1 1 1 1 1 1 ...\n",
            " $ survey_date                       : chr  \"2010-05-31\" \"2010-05-31\" \"2010-05-31\" \"2010-05-31\" ...\n",
            " $ survey_time_start_MDT             : int  709 709 709 709 709 709 709 709 709 709 ...\n",
            " $ survey_time_end_MDT               : int  719 719 719 719 719 719 719 719 719 719 ...\n",
            " $ survey_visit                      : int  1 1 1 1 1 1 1 1 1 1 ...\n",
            " $ survey_grid_point                 : int  476 476 476 476 476 476 476 476 476 476 ...\n",
            " $ survey_observer                   : chr  \"Eric Rasmussen\" \"Eric Rasmussen\" \"Eric Rasmussen\" \"Eric Rasmussen\" ...\n",
            " $ survey_wind_code                  : int  1 1 1 1 1 1 1 1 1 1 ...\n",
            " $ survey_sky_code                   : int  2 2 2 2 2 2 2 2 2 2 ...\n",
            " $ survey_noise_code                 : int  2 2 2 2 2 2 2 2 2 2 ...\n",
            " $ survey_temperature_F              : int  50 50 50 50 50 50 50 50 50 50 ...\n",
            " $ records_ID                        : int  1 2 3 4 5 6 7 8 9 10 ...\n",
            " $ records_spe_code                  : chr  \"TRES\" \"BAEA\" \"LEFL\" \"SPSA\" ...\n",
            " $ records_abundance                 : int  4 1 1 2 1 1 1 1 1 1 ...\n",
            " $ records_sex                       : chr  \"Unknown\" \"Unknown\" \"Male\" \"Unknown\" ...\n",
            " $ records_detect_song               : int  0 0 1 0 1 1 1 1 1 1 ...\n",
            " $ records_detect_call               : int  1 0 0 1 0 0 0 0 0 0 ...\n",
            " $ records_detect_visual             : int  1 0 0 0 0 0 0 0 0 0 ...\n",
            " $ records_detect_other              : chr  NA NA NA NA ...\n",
            " $ records_detect_distance_min_meters: int  10 150 50 75 45 100 80 125 400 70 ...\n",
            " $ records_interval                  : chr  \"1\" \"1\" \"1\" \"1\" ...\n",
            " $ records_location_code             : chr  \"0\" \"0\" \"0\" \"0\" ...\n",
            " $ habitat_location_description      : chr  \"River-bottom forest\" \"River-bottom forest\" \"River-bottom forest\" \"River-bottom forest\" ...\n",
            " $ function_spe_name_common          : chr  \"Tree Swallow\" \"Bald Eagle\" \"Least Flycatcher\" \"Spotted Sandpiper\" ...\n",
            " $ function_habitat_preference       : chr  \"Lake/Pond\" \"Forest\" \"Forest\" \"Shoreline\" ...\n",
            " $ function_food_preference          : chr  \"Insects\" \"Fish\" \"Insects\" \"Small Animals\" ...\n",
            " $ function_nesting_behavior         : chr  \"Cavity\" \"Tree\" \"Tree\" \"Ground\" ...\n",
            " $ function_feeding_behavior         : chr  \"Aerial Forager\" \"Soaring\" \"Flycatching\" \"Probing\" ...\n",
            " $ function_taxa_order               : chr  \"Passeriformes\" \"Accipitriformes\" \"Passeriformes\" \"Charadriiformes\" ...\n",
            " $ function_taxa_family              : chr  \"Hirundinidae\" \"Accipitridae\" \"Tyrannidae\" \"Scolopacidae\" ...\n"
          ],
          "name": "stdout"
        }
      ]
    },
    {
      "cell_type": "markdown",
      "metadata": {
        "id": "aEkQ64rjmgXq",
        "colab_type": "text"
      },
      "source": [
        "## survey_date"
      ]
    },
    {
      "cell_type": "code",
      "metadata": {
        "id": "grNoO6oCXC11",
        "colab_type": "code",
        "colab": {}
      },
      "source": [
        "df$survey_date <- as_date(df$survey_date)"
      ],
      "execution_count": 0,
      "outputs": []
    },
    {
      "cell_type": "markdown",
      "metadata": {
        "id": "m-fX_Ih6okn8",
        "colab_type": "text"
      },
      "source": [
        "## survey_time_*"
      ]
    },
    {
      "cell_type": "code",
      "metadata": {
        "id": "GVc90lL1paMl",
        "colab_type": "code",
        "colab": {
          "base_uri": "https://localhost:8080/",
          "height": 51
        },
        "outputId": "014e7737-15df-4dbf-efaa-2a427899a46e"
      },
      "source": [
        "df$survey_time_start_MDT <- hms::as_hms(parse_date_time(df$survey_time_start_MDT, \"HM\"))\n",
        "df$survey_time_end_MDT <- hms::as_hms(parse_date_time(df$survey_time_end_MDT, \"HM\"))"
      ],
      "execution_count": 28,
      "outputs": [
        {
          "output_type": "stream",
          "text": [
            "Warning message:\n",
            "“ 29 failed to parse.”\n"
          ],
          "name": "stderr"
        }
      ]
    },
    {
      "cell_type": "markdown",
      "metadata": {
        "id": "CdUMl7nDup56",
        "colab_type": "text"
      },
      "source": [
        "## records_detect_*"
      ]
    },
    {
      "cell_type": "code",
      "metadata": {
        "id": "ohwJerqCuuc0",
        "colab_type": "code",
        "colab": {}
      },
      "source": [
        "df <- df %>%\n",
        "  mutate_at(vars(16:18), as.logical)"
      ],
      "execution_count": 0,
      "outputs": []
    },
    {
      "cell_type": "markdown",
      "metadata": {
        "id": "2fV7OAyhwr3N",
        "colab_type": "text"
      },
      "source": [
        "## records_location_code"
      ]
    },
    {
      "cell_type": "code",
      "metadata": {
        "id": "y87xZqPIwuju",
        "colab_type": "code",
        "colab": {
          "base_uri": "https://localhost:8080/",
          "height": 536
        },
        "outputId": "74cb60c9-eb26-4223-ba71-5a6564011941"
      },
      "source": [
        "fct_count(df$records_location_code)"
      ],
      "execution_count": 30,
      "outputs": [
        {
          "output_type": "display_data",
          "data": {
            "text/plain": [
              "   f  n    \n",
              "1  0  11959\n",
              "2  1  18433\n",
              "3  10   141\n",
              "4  11  1452\n",
              "5  12   860\n",
              "6  13   783\n",
              "7  14   256\n",
              "8  15  5448\n",
              "9  16  8384\n",
              "10 17  1694\n",
              "11 18   133\n",
              "12 2   1216\n",
              "13 3   7345\n",
              "14 4  10066\n",
              "15 5  14013\n",
              "16 6   5218\n",
              "17 7   4506\n",
              "18 8   3793\n",
              "19 9   9372\n",
              "20 F   4896\n",
              "21 U   7943"
            ],
            "text/latex": "A tibble: 21 × 2\n\\begin{tabular}{ll}\n f & n\\\\\n <fct> & <int>\\\\\n\\hline\n\t 0  & 11959\\\\\n\t 1  & 18433\\\\\n\t 10 &   141\\\\\n\t 11 &  1452\\\\\n\t 12 &   860\\\\\n\t 13 &   783\\\\\n\t 14 &   256\\\\\n\t 15 &  5448\\\\\n\t 16 &  8384\\\\\n\t 17 &  1694\\\\\n\t 18 &   133\\\\\n\t 2  &  1216\\\\\n\t 3  &  7345\\\\\n\t 4  & 10066\\\\\n\t 5  & 14013\\\\\n\t 6  &  5218\\\\\n\t 7  &  4506\\\\\n\t 8  &  3793\\\\\n\t 9  &  9372\\\\\n\t F  &  4896\\\\\n\t U  &  7943\\\\\n\\end{tabular}\n",
            "text/markdown": "\nA tibble: 21 × 2\n\n| f &lt;fct&gt; | n &lt;int&gt; |\n|---|---|\n| 0  | 11959 |\n| 1  | 18433 |\n| 10 |   141 |\n| 11 |  1452 |\n| 12 |   860 |\n| 13 |   783 |\n| 14 |   256 |\n| 15 |  5448 |\n| 16 |  8384 |\n| 17 |  1694 |\n| 18 |   133 |\n| 2  |  1216 |\n| 3  |  7345 |\n| 4  | 10066 |\n| 5  | 14013 |\n| 6  |  5218 |\n| 7  |  4506 |\n| 8  |  3793 |\n| 9  |  9372 |\n| F  |  4896 |\n| U  |  7943 |\n\n",
            "text/html": [
              "<table>\n",
              "<caption>A tibble: 21 × 2</caption>\n",
              "<thead>\n",
              "\t<tr><th scope=col>f</th><th scope=col>n</th></tr>\n",
              "\t<tr><th scope=col>&lt;fct&gt;</th><th scope=col>&lt;int&gt;</th></tr>\n",
              "</thead>\n",
              "<tbody>\n",
              "\t<tr><td>0 </td><td>11959</td></tr>\n",
              "\t<tr><td>1 </td><td>18433</td></tr>\n",
              "\t<tr><td>10</td><td>  141</td></tr>\n",
              "\t<tr><td>11</td><td> 1452</td></tr>\n",
              "\t<tr><td>12</td><td>  860</td></tr>\n",
              "\t<tr><td>13</td><td>  783</td></tr>\n",
              "\t<tr><td>14</td><td>  256</td></tr>\n",
              "\t<tr><td>15</td><td> 5448</td></tr>\n",
              "\t<tr><td>16</td><td> 8384</td></tr>\n",
              "\t<tr><td>17</td><td> 1694</td></tr>\n",
              "\t<tr><td>18</td><td>  133</td></tr>\n",
              "\t<tr><td>2 </td><td> 1216</td></tr>\n",
              "\t<tr><td>3 </td><td> 7345</td></tr>\n",
              "\t<tr><td>4 </td><td>10066</td></tr>\n",
              "\t<tr><td>5 </td><td>14013</td></tr>\n",
              "\t<tr><td>6 </td><td> 5218</td></tr>\n",
              "\t<tr><td>7 </td><td> 4506</td></tr>\n",
              "\t<tr><td>8 </td><td> 3793</td></tr>\n",
              "\t<tr><td>9 </td><td> 9372</td></tr>\n",
              "\t<tr><td>F </td><td> 4896</td></tr>\n",
              "\t<tr><td>U </td><td> 7943</td></tr>\n",
              "</tbody>\n",
              "</table>\n"
            ]
          },
          "metadata": {
            "tags": []
          }
        }
      ]
    },
    {
      "cell_type": "code",
      "metadata": {
        "id": "q2F8hNOywlDR",
        "colab_type": "code",
        "colab": {
          "base_uri": "https://localhost:8080/",
          "height": 598
        },
        "outputId": "2c5e1f09-585d-46a5-92c2-bda30e99e1f9"
      },
      "source": [
        "str(df)"
      ],
      "execution_count": 31,
      "outputs": [
        {
          "output_type": "stream",
          "text": [
            "'data.frame':\t117911 obs. of  30 variables:\n",
            " $ survey_ID                         : int  1 1 1 1 1 1 1 1 1 1 ...\n",
            " $ survey_date                       : Date, format: \"2010-05-31\" \"2010-05-31\" ...\n",
            " $ survey_time_start_MDT             : 'hms' num  07:09:00 07:09:00 07:09:00 07:09:00 ...\n",
            "  ..- attr(*, \"units\")= chr \"secs\"\n",
            " $ survey_time_end_MDT               : 'hms' num  07:19:00 07:19:00 07:19:00 07:19:00 ...\n",
            "  ..- attr(*, \"units\")= chr \"secs\"\n",
            " $ survey_visit                      : int  1 1 1 1 1 1 1 1 1 1 ...\n",
            " $ survey_grid_point                 : int  476 476 476 476 476 476 476 476 476 476 ...\n",
            " $ survey_observer                   : chr  \"Eric Rasmussen\" \"Eric Rasmussen\" \"Eric Rasmussen\" \"Eric Rasmussen\" ...\n",
            " $ survey_wind_code                  : int  1 1 1 1 1 1 1 1 1 1 ...\n",
            " $ survey_sky_code                   : int  2 2 2 2 2 2 2 2 2 2 ...\n",
            " $ survey_noise_code                 : int  2 2 2 2 2 2 2 2 2 2 ...\n",
            " $ survey_temperature_F              : int  50 50 50 50 50 50 50 50 50 50 ...\n",
            " $ records_ID                        : int  1 2 3 4 5 6 7 8 9 10 ...\n",
            " $ records_spe_code                  : chr  \"TRES\" \"BAEA\" \"LEFL\" \"SPSA\" ...\n",
            " $ records_abundance                 : int  4 1 1 2 1 1 1 1 1 1 ...\n",
            " $ records_sex                       : chr  \"Unknown\" \"Unknown\" \"Male\" \"Unknown\" ...\n",
            " $ records_detect_song               : logi  FALSE FALSE TRUE FALSE TRUE TRUE ...\n",
            " $ records_detect_call               : logi  TRUE FALSE FALSE TRUE FALSE FALSE ...\n",
            " $ records_detect_visual             : logi  TRUE FALSE FALSE FALSE FALSE FALSE ...\n",
            " $ records_detect_other              : chr  NA NA NA NA ...\n",
            " $ records_detect_distance_min_meters: int  10 150 50 75 45 100 80 125 400 70 ...\n",
            " $ records_interval                  : chr  \"1\" \"1\" \"1\" \"1\" ...\n",
            " $ records_location_code             : chr  \"0\" \"0\" \"0\" \"0\" ...\n",
            " $ habitat_location_description      : chr  \"River-bottom forest\" \"River-bottom forest\" \"River-bottom forest\" \"River-bottom forest\" ...\n",
            " $ function_spe_name_common          : chr  \"Tree Swallow\" \"Bald Eagle\" \"Least Flycatcher\" \"Spotted Sandpiper\" ...\n",
            " $ function_habitat_preference       : chr  \"Lake/Pond\" \"Forest\" \"Forest\" \"Shoreline\" ...\n",
            " $ function_food_preference          : chr  \"Insects\" \"Fish\" \"Insects\" \"Small Animals\" ...\n",
            " $ function_nesting_behavior         : chr  \"Cavity\" \"Tree\" \"Tree\" \"Ground\" ...\n",
            " $ function_feeding_behavior         : chr  \"Aerial Forager\" \"Soaring\" \"Flycatching\" \"Probing\" ...\n",
            " $ function_taxa_order               : chr  \"Passeriformes\" \"Accipitriformes\" \"Passeriformes\" \"Charadriiformes\" ...\n",
            " $ function_taxa_family              : chr  \"Hirundinidae\" \"Accipitridae\" \"Tyrannidae\" \"Scolopacidae\" ...\n"
          ],
          "name": "stdout"
        }
      ]
    },
    {
      "cell_type": "code",
      "metadata": {
        "id": "HVWOnVC-OhCa",
        "colab_type": "code",
        "colab": {
          "base_uri": "https://localhost:8080/",
          "height": 242
        },
        "outputId": "736eeb88-c13e-4ee6-9794-628eaf78910a"
      },
      "source": [
        "fct_count(as.factor(df$survey_wind_code))"
      ],
      "execution_count": 34,
      "outputs": [
        {
          "output_type": "display_data",
          "data": {
            "text/plain": [
              "  f  n    \n",
              "1 0  26461\n",
              "2 1  48833\n",
              "3 2  32971\n",
              "4 3   7891\n",
              "5 4   1472\n",
              "6 5    155\n",
              "7 NA   128"
            ],
            "text/latex": "A tibble: 7 × 2\n\\begin{tabular}{ll}\n f & n\\\\\n <fct> & <int>\\\\\n\\hline\n\t 0  & 26461\\\\\n\t 1  & 48833\\\\\n\t 2  & 32971\\\\\n\t 3  &  7891\\\\\n\t 4  &  1472\\\\\n\t 5  &   155\\\\\n\t NA &   128\\\\\n\\end{tabular}\n",
            "text/markdown": "\nA tibble: 7 × 2\n\n| f &lt;fct&gt; | n &lt;int&gt; |\n|---|---|\n| 0  | 26461 |\n| 1  | 48833 |\n| 2  | 32971 |\n| 3  |  7891 |\n| 4  |  1472 |\n| 5  |   155 |\n| NA |   128 |\n\n",
            "text/html": [
              "<table>\n",
              "<caption>A tibble: 7 × 2</caption>\n",
              "<thead>\n",
              "\t<tr><th scope=col>f</th><th scope=col>n</th></tr>\n",
              "\t<tr><th scope=col>&lt;fct&gt;</th><th scope=col>&lt;int&gt;</th></tr>\n",
              "</thead>\n",
              "<tbody>\n",
              "\t<tr><td>0 </td><td>26461</td></tr>\n",
              "\t<tr><td>1 </td><td>48833</td></tr>\n",
              "\t<tr><td>2 </td><td>32971</td></tr>\n",
              "\t<tr><td>3 </td><td> 7891</td></tr>\n",
              "\t<tr><td>4 </td><td> 1472</td></tr>\n",
              "\t<tr><td>5 </td><td>  155</td></tr>\n",
              "\t<tr><td>NA</td><td>  128</td></tr>\n",
              "</tbody>\n",
              "</table>\n"
            ]
          },
          "metadata": {
            "tags": []
          }
        }
      ]
    },
    {
      "cell_type": "code",
      "metadata": {
        "id": "IM9IIZtkPN1N",
        "colab_type": "code",
        "colab": {
          "base_uri": "https://localhost:8080/",
          "height": 1000
        },
        "outputId": "3d348fc9-3ac3-4006-a7d4-232075d52ba9"
      },
      "source": [
        "df %>%\n",
        "  filter(is.na(survey_wind_code))"
      ],
      "execution_count": 44,
      "outputs": [
        {
          "output_type": "display_data",
          "data": {
            "text/plain": [
              "    survey_ID survey_date survey_time_start_MDT survey_time_end_MDT\n",
              "1   1397      2011-05-31  08:45:00              08:55:00           \n",
              "2   1397      2011-05-31  08:45:00              08:55:00           \n",
              "3   1397      2011-05-31  08:45:00              08:55:00           \n",
              "4   1397      2011-05-31  08:45:00              08:55:00           \n",
              "5   1397      2011-05-31  08:45:00              08:55:00           \n",
              "6   1397      2011-05-31  08:45:00              08:55:00           \n",
              "7   1397      2011-05-31  08:45:00              08:55:00           \n",
              "8   1397      2011-05-31  08:45:00              08:55:00           \n",
              "9   1397      2011-05-31  08:45:00              08:55:00           \n",
              "10  1397      2011-05-31  08:45:00              08:55:00           \n",
              "11  1397      2011-05-31  08:45:00              08:55:00           \n",
              "12  1397      2011-05-31  08:45:00              08:55:00           \n",
              "13  1397      2011-05-31  08:45:00              08:55:00           \n",
              "14  1397      2011-05-31  08:45:00              08:55:00           \n",
              "15  1397      2011-05-31  08:45:00              08:55:00           \n",
              "16  1397      2011-05-31  08:45:00              08:55:00           \n",
              "17  1397      2011-05-31  08:45:00              08:55:00           \n",
              "18  1397      2011-05-31  08:45:00              08:55:00           \n",
              "19  1397      2011-05-31  08:45:00              08:55:00           \n",
              "20  1397      2011-05-31  08:45:00              08:55:00           \n",
              "21  1397      2011-05-31  08:45:00              08:55:00           \n",
              "22  1413      2011-06-05  10:03:00              10:13:00           \n",
              "23  1413      2011-06-05  10:03:00              10:13:00           \n",
              "24  1413      2011-06-05  10:03:00              10:13:00           \n",
              "25  1413      2011-06-05  10:03:00              10:13:00           \n",
              "26  1413      2011-06-05  10:03:00              10:13:00           \n",
              "27  1413      2011-06-05  10:03:00              10:13:00           \n",
              "28  1413      2011-06-05  10:03:00              10:13:00           \n",
              "29  1413      2011-06-05  10:03:00              10:13:00           \n",
              "30  1413      2011-06-05  10:03:00              10:13:00           \n",
              "⋮   ⋮         ⋮           ⋮                     ⋮                  \n",
              "99   5742     2014-06-11  09:34:00              09:44:00           \n",
              "100  5742     2014-06-11  09:34:00              09:44:00           \n",
              "101  9227     2015-07-06        NA                    NA           \n",
              "102  9227     2015-07-06        NA                    NA           \n",
              "103  9227     2015-07-06        NA                    NA           \n",
              "104  9227     2015-07-06        NA                    NA           \n",
              "105  9227     2015-07-06        NA                    NA           \n",
              "106  9227     2015-07-06        NA                    NA           \n",
              "107  9227     2015-07-06        NA                    NA           \n",
              "108  9227     2015-07-06        NA                    NA           \n",
              "109  9227     2015-07-06        NA                    NA           \n",
              "110  9227     2015-07-06        NA                    NA           \n",
              "111  9227     2015-07-06        NA                    NA           \n",
              "112  9227     2015-07-06        NA                    NA           \n",
              "113  9227     2015-07-06        NA                    NA           \n",
              "114  9227     2015-07-06        NA                    NA           \n",
              "115  9227     2015-07-06        NA                    NA           \n",
              "116  9227     2015-07-06        NA                    NA           \n",
              "117  9227     2015-07-06        NA                    NA           \n",
              "118  9227     2015-07-06        NA                    NA           \n",
              "119  9227     2015-07-06        NA                    NA           \n",
              "120  9227     2015-07-06        NA                    NA           \n",
              "121  9227     2015-07-06        NA                    NA           \n",
              "122 20798     2016-06-30  08:28:00              08:39:00           \n",
              "123 20798     2016-06-30  08:28:00              08:39:00           \n",
              "124 20798     2016-06-30  08:28:00              08:39:00           \n",
              "125 20798     2016-06-30  08:28:00              08:39:00           \n",
              "126 20798     2016-06-30  08:28:00              08:39:00           \n",
              "127 20798     2016-06-30  08:28:00              08:39:00           \n",
              "128 20798     2016-06-30  08:28:00              08:39:00           \n",
              "    survey_visit survey_grid_point survey_observer survey_wind_code\n",
              "1   NA           355               Katharine Stone NA              \n",
              "2   NA           355               Katharine Stone NA              \n",
              "3   NA           355               Katharine Stone NA              \n",
              "4   NA           355               Katharine Stone NA              \n",
              "5   NA           355               Katharine Stone NA              \n",
              "6   NA           355               Katharine Stone NA              \n",
              "7   NA           355               Katharine Stone NA              \n",
              "8   NA           355               Katharine Stone NA              \n",
              "9   NA           355               Katharine Stone NA              \n",
              "10  NA           355               Katharine Stone NA              \n",
              "11  NA           355               Katharine Stone NA              \n",
              "12  NA           355               Katharine Stone NA              \n",
              "13  NA           355               Katharine Stone NA              \n",
              "14  NA           355               Katharine Stone NA              \n",
              "15  NA           355               Katharine Stone NA              \n",
              "16  NA           355               Katharine Stone NA              \n",
              "17  NA           355               Katharine Stone NA              \n",
              "18  NA           355               Katharine Stone NA              \n",
              "19  NA           355               Katharine Stone NA              \n",
              "20  NA           355               Katharine Stone NA              \n",
              "21  NA           355               Katharine Stone NA              \n",
              "22  NA            23               Debbie Leick    NA              \n",
              "23  NA            23               Debbie Leick    NA              \n",
              "24  NA            23               Debbie Leick    NA              \n",
              "25  NA            23               Debbie Leick    NA              \n",
              "26  NA            23               Debbie Leick    NA              \n",
              "27  NA            23               Debbie Leick    NA              \n",
              "28  NA            23               Debbie Leick    NA              \n",
              "29  NA            23               Debbie Leick    NA              \n",
              "30  NA            23               Debbie Leick    NA              \n",
              "⋮   ⋮            ⋮                 ⋮               ⋮               \n",
              "99   1           224               Katharine Stone NA              \n",
              "100  1           224               Katharine Stone NA              \n",
              "101 NA            10               Amy Seaman      NA              \n",
              "102 NA            10               Amy Seaman      NA              \n",
              "103 NA            10               Amy Seaman      NA              \n",
              "104 NA            10               Amy Seaman      NA              \n",
              "105 NA            10               Amy Seaman      NA              \n",
              "106 NA            10               Amy Seaman      NA              \n",
              "107 NA            10               Amy Seaman      NA              \n",
              "108 NA            10               Amy Seaman      NA              \n",
              "109 NA            10               Amy Seaman      NA              \n",
              "110 NA            10               Amy Seaman      NA              \n",
              "111 NA            10               Amy Seaman      NA              \n",
              "112 NA            10               Amy Seaman      NA              \n",
              "113 NA            10               Amy Seaman      NA              \n",
              "114 NA            10               Amy Seaman      NA              \n",
              "115 NA            10               Amy Seaman      NA              \n",
              "116 NA            10               Amy Seaman      NA              \n",
              "117 NA            10               Amy Seaman      NA              \n",
              "118 NA            10               Amy Seaman      NA              \n",
              "119 NA            10               Amy Seaman      NA              \n",
              "120 NA            10               Amy Seaman      NA              \n",
              "121 NA            10               Amy Seaman      NA              \n",
              "122  2           205               Deb Goslin      NA              \n",
              "123  2           205               Deb Goslin      NA              \n",
              "124  2           205               Deb Goslin      NA              \n",
              "125  2           205               Deb Goslin      NA              \n",
              "126  2           205               Deb Goslin      NA              \n",
              "127  2           205               Deb Goslin      NA              \n",
              "128  2           205               Deb Goslin      NA              \n",
              "    survey_sky_code survey_noise_code ⋯ records_interval records_location_code\n",
              "1   NA              NA                ⋯ 1                7                    \n",
              "2   NA              NA                ⋯ 1                7                    \n",
              "3   NA              NA                ⋯ 1                7                    \n",
              "4   NA              NA                ⋯ 1                1                    \n",
              "5   NA              NA                ⋯ 1                1                    \n",
              "6   NA              NA                ⋯ 1                1                    \n",
              "7   NA              NA                ⋯ 1                1                    \n",
              "8   NA              NA                ⋯ 1                1                    \n",
              "9   NA              NA                ⋯ 1                1                    \n",
              "10  NA              NA                ⋯ 1                8                    \n",
              "11  NA              NA                ⋯ 1                1                    \n",
              "12  NA              NA                ⋯ 1                7                    \n",
              "13  NA              NA                ⋯ 1                7                    \n",
              "14  NA              NA                ⋯ 2                3                    \n",
              "15  NA              NA                ⋯ 2                U                    \n",
              "16  NA              NA                ⋯ 2                7                    \n",
              "17  NA              NA                ⋯ 2                1                    \n",
              "18  NA              NA                ⋯ 2                3                    \n",
              "19  NA              NA                ⋯ 2                8                    \n",
              "20  NA              NA                ⋯ 2                3                    \n",
              "21  NA              NA                ⋯ After survey     F                    \n",
              "22  NA              NA                ⋯ 1                9                    \n",
              "23  NA              NA                ⋯ 1                U                    \n",
              "24  NA              NA                ⋯ 1                8                    \n",
              "25  NA              NA                ⋯ 1                1                    \n",
              "26  NA              NA                ⋯ 1                1                    \n",
              "27  NA              NA                ⋯ 1                9                    \n",
              "28  NA              NA                ⋯ 1                F                    \n",
              "29  NA              NA                ⋯ 1                8                    \n",
              "30  NA              NA                ⋯ 1                U                    \n",
              "⋮   ⋮               ⋮                 ⋱ ⋮                ⋮                    \n",
              "99  NA              NA                ⋯ Before survey    9                    \n",
              "100 NA              NA                ⋯ Before survey    U                    \n",
              "101 NA              NA                ⋯ 1                8                    \n",
              "102 NA              NA                ⋯ 1                U                    \n",
              "103 NA              NA                ⋯ 1                8                    \n",
              "104 NA              NA                ⋯ 1                8                    \n",
              "105 NA              NA                ⋯ 1                17                   \n",
              "106 NA              NA                ⋯ 1                8                    \n",
              "107 NA              NA                ⋯ 1                8                    \n",
              "108 NA              NA                ⋯ 1                8                    \n",
              "109 NA              NA                ⋯ 1                8                    \n",
              "110 NA              NA                ⋯ 1                8                    \n",
              "111 NA              NA                ⋯ 1                8                    \n",
              "112 NA              NA                ⋯ 1                17                   \n",
              "113 NA              NA                ⋯ 1                4                    \n",
              "114 NA              NA                ⋯ 1                8                    \n",
              "115 NA              NA                ⋯ 1                8                    \n",
              "116 NA              NA                ⋯ 1                8                    \n",
              "117 NA              NA                ⋯ 1                4                    \n",
              "118 NA              NA                ⋯ 2                8                    \n",
              "119 NA              NA                ⋯ 2                F                    \n",
              "120 NA              NA                ⋯ 2                U                    \n",
              "121 NA              NA                ⋯ 2                U                    \n",
              "122  1               1                ⋯ 1                1                    \n",
              "123  1               1                ⋯ 1                1                    \n",
              "124  1               1                ⋯ 1                1                    \n",
              "125  1               1                ⋯ 1                1                    \n",
              "126  1               1                ⋯ 1                1                    \n",
              "127  1               1                ⋯ 1                1                    \n",
              "128  1               1                ⋯ 2                1                    \n",
              "    habitat_location_description function_spe_name_common\n",
              "1   Draw (Populus canopy)        American Kestrel        \n",
              "2   Draw (Populus canopy)        American Kestrel        \n",
              "3   Draw (Populus canopy)        Mourning Dove           \n",
              "4   Open grassland               Bank Swallow            \n",
              "5   Open grassland               Cliff Swallow           \n",
              "6   Open grassland               Western Meadowlark      \n",
              "7   Open grassland               Western Meadowlark      \n",
              "8   Open grassland               Western Meadowlark      \n",
              "9   Open grassland               Vesper Sparrow          \n",
              "10  Draw (conifer canopy)        Lazuli Bunting          \n",
              "11  Open grassland               Vesper Sparrow          \n",
              "12  Draw (Populus canopy)        Brown-headed Cowbird    \n",
              "13  Draw (Populus canopy)        Red-tailed Hawk         \n",
              "14  Sagebrush                    Vesper Sparrow          \n",
              "15  Unknown                      Canada Goose            \n",
              "16  Draw (Populus canopy)        European Starling       \n",
              "17  Open grassland               Barn Swallow            \n",
              "18  Sagebrush                    Western Meadowlark      \n",
              "19  Draw (conifer canopy)        American Goldfinch      \n",
              "20  Sagebrush                    Chipping Sparrow        \n",
              "21  Flyover                      Evening Grosbeak        \n",
              "22  Draw (shrubs)                Dusky Flycatcher        \n",
              "23  Unknown                      Western Meadowlark      \n",
              "24  Draw (conifer canopy)        Western Tanager         \n",
              "25  Open grassland               Vesper Sparrow          \n",
              "26  Open grassland               Vesper Sparrow          \n",
              "27  Draw (shrubs)                Orange-crowned Warbler  \n",
              "28  Flyover                      Brown-headed Cowbird    \n",
              "29  Draw (conifer canopy)        Northern Flicker        \n",
              "30  Unknown                      Western Meadowlark      \n",
              "⋮   ⋮                            ⋮                       \n",
              "99  Draw (shrubs)                American Kestrel        \n",
              "100 Unknown                      Black-billed Magpie     \n",
              "101 Draw (conifer canopy)        Black-capped Chickadee  \n",
              "102 Unknown                      Vesper Sparrow          \n",
              "103 Draw (conifer canopy)        Spotted Towhee          \n",
              "104 Draw (conifer canopy)        Red-breasted Nuthatch   \n",
              "105 Deciduous Shrub              Lazuli Bunting          \n",
              "106 Draw (conifer canopy)        Black-capped Chickadee  \n",
              "107 Draw (conifer canopy)        Western Tanager         \n",
              "108 Draw (conifer canopy)        Northern Flicker        \n",
              "109 Draw (conifer canopy)        Brown-headed Cowbird    \n",
              "110 Draw (conifer canopy)        Mourning Dove           \n",
              "111 Draw (conifer canopy)        House Wren              \n",
              "112 Deciduous Shrub              Dusky Flycatcher        \n",
              "113 Bitterbrush                  Vesper Sparrow          \n",
              "114 Draw (conifer canopy)        Downy Woodpecker        \n",
              "115 Draw (conifer canopy)        Red-breasted Nuthatch   \n",
              "116 Draw (conifer canopy)        Lazuli Bunting          \n",
              "117 Bitterbrush                  Vesper Sparrow          \n",
              "118 Draw (conifer canopy)        American Robin          \n",
              "119 Flyover                      Mourning Dove           \n",
              "120 Unknown                      Spotted Towhee          \n",
              "121 Unknown                      Black-capped Chickadee  \n",
              "122 Open grassland               Vesper Sparrow          \n",
              "123 Open grassland               Western Meadowlark      \n",
              "124 Open grassland               Unknown Hummingbird     \n",
              "125 Open grassland               Western Meadowlark      \n",
              "126 Open grassland               Western Meadowlark      \n",
              "127 Open grassland               Vesper Sparrow          \n",
              "128 Open grassland               Vesper Sparrow          \n",
              "    function_habitat_preference function_food_preference\n",
              "1   Open Woodland               Insects                 \n",
              "2   Open Woodland               Insects                 \n",
              "3   Open Woodland               Seeds                   \n",
              "4   Lake/Pond                   Insects                 \n",
              "5   Lake/Pond                   Insects                 \n",
              "6   Grassland                   Insects                 \n",
              "7   Grassland                   Insects                 \n",
              "8   Grassland                   Insects                 \n",
              "9   Grassland                   Insects                 \n",
              "10  Open Woodland               Insects                 \n",
              "11  Grassland                   Insects                 \n",
              "12  Grassland                   Seeds                   \n",
              "13  Open Woodland               Small Animals           \n",
              "14  Grassland                   Insects                 \n",
              "15  Marsh                       Seeds                   \n",
              "16  Town                        Insects                 \n",
              "17  Grassland                   Insects                 \n",
              "18  Grassland                   Insects                 \n",
              "19  Open Woodland               Seeds                   \n",
              "20  Open Woodland               Seeds                   \n",
              "21  Forest                      Seeds                   \n",
              "22  Open Woodland               Insects                 \n",
              "23  Grassland                   Insects                 \n",
              "24  Forest                      Insects                 \n",
              "25  Grassland                   Insects                 \n",
              "26  Grassland                   Insects                 \n",
              "27  Forest                      Insects                 \n",
              "28  Grassland                   Seeds                   \n",
              "29  Open Woodland               Insects                 \n",
              "30  Grassland                   Insects                 \n",
              "⋮   ⋮                           ⋮                       \n",
              "99  Open Woodland               Insects                 \n",
              "100 Open Woodland               Omnivore                \n",
              "101 Forest                      Insects                 \n",
              "102 Grassland                   Insects                 \n",
              "103 Scrub                       Omnivore                \n",
              "104 Forest                      Insects                 \n",
              "105 Open Woodland               Insects                 \n",
              "106 Forest                      Insects                 \n",
              "107 Forest                      Insects                 \n",
              "108 Open Woodland               Insects                 \n",
              "109 Grassland                   Seeds                   \n",
              "110 Open Woodland               Seeds                   \n",
              "111 Open Woodland               Insects                 \n",
              "112 Open Woodland               Insects                 \n",
              "113 Grassland                   Insects                 \n",
              "114 Forest                      Insects                 \n",
              "115 Forest                      Insects                 \n",
              "116 Open Woodland               Insects                 \n",
              "117 Grassland                   Insects                 \n",
              "118 Open Woodland               Insects                 \n",
              "119 Open Woodland               Seeds                   \n",
              "120 Scrub                       Omnivore                \n",
              "121 Forest                      Insects                 \n",
              "122 Grassland                   Insects                 \n",
              "123 Grassland                   Insects                 \n",
              "124 NA                          NA                      \n",
              "125 Grassland                   Insects                 \n",
              "126 Grassland                   Insects                 \n",
              "127 Grassland                   Insects                 \n",
              "128 Grassland                   Insects                 \n",
              "    function_nesting_behavior function_feeding_behavior function_taxa_order\n",
              "1   Cavity                    Soaring                   Falconiformes      \n",
              "2   Cavity                    Soaring                   Falconiformes      \n",
              "3   Tree                      Ground Forager            Columbiformes      \n",
              "4   Burrow                    Aerial Forager            Passeriformes      \n",
              "5   Cliff                     Aerial Forager            Passeriformes      \n",
              "6   Ground                    Ground Forager            Passeriformes      \n",
              "7   Ground                    Ground Forager            Passeriformes      \n",
              "8   Ground                    Ground Forager            Passeriformes      \n",
              "9   Ground                    Ground Forager            Passeriformes      \n",
              "10  Shrub                     Foliage Gleaner           Passeriformes      \n",
              "11  Ground                    Ground Forager            Passeriformes      \n",
              "12  Tree                      Ground Forager            Passeriformes      \n",
              "13  Tree                      Soaring                   Accipitriformes    \n",
              "14  Ground                    Ground Forager            Passeriformes      \n",
              "15  Ground                    Ground Forager            Anseriformes       \n",
              "16  Cavity                    Ground Forager            Passeriformes      \n",
              "17  Building                  Aerial Forager            Passeriformes      \n",
              "18  Ground                    Ground Forager            Passeriformes      \n",
              "19  Shrub                     Foliage Gleaner           Passeriformes      \n",
              "20  Shrub                     Ground Forager            Passeriformes      \n",
              "21  Tree                      Ground Forager            Passeriformes      \n",
              "22  Shrub                     Flycatching               Passeriformes      \n",
              "23  Ground                    Ground Forager            Passeriformes      \n",
              "24  Tree                      Foliage Gleaner           Passeriformes      \n",
              "25  Ground                    Ground Forager            Passeriformes      \n",
              "26  Ground                    Ground Forager            Passeriformes      \n",
              "27  Ground                    Foliage Gleaner           Passeriformes      \n",
              "28  Tree                      Ground Forager            Passeriformes      \n",
              "29  Cavity                    Ground Forager            Piciformes         \n",
              "30  Ground                    Ground Forager            Passeriformes      \n",
              "⋮   ⋮                         ⋮                         ⋮                  \n",
              "99  Cavity                    Soaring                   Falconiformes      \n",
              "100 Tree                      Ground Forager            Passeriformes      \n",
              "101 Cavity                    Foliage Gleaner           Passeriformes      \n",
              "102 Ground                    Ground Forager            Passeriformes      \n",
              "103 Ground                    Ground Forager            Passeriformes      \n",
              "104 Cavity                    Bark Forager              Passeriformes      \n",
              "105 Shrub                     Foliage Gleaner           Passeriformes      \n",
              "106 Cavity                    Foliage Gleaner           Passeriformes      \n",
              "107 Tree                      Foliage Gleaner           Passeriformes      \n",
              "108 Cavity                    Ground Forager            Piciformes         \n",
              "109 Tree                      Ground Forager            Passeriformes      \n",
              "110 Tree                      Ground Forager            Columbiformes      \n",
              "111 Cavity                    Foliage Gleaner           Passeriformes      \n",
              "112 Shrub                     Flycatching               Passeriformes      \n",
              "113 Ground                    Ground Forager            Passeriformes      \n",
              "114 Cavity                    Bark Forager              Piciformes         \n",
              "115 Cavity                    Bark Forager              Passeriformes      \n",
              "116 Shrub                     Foliage Gleaner           Passeriformes      \n",
              "117 Ground                    Ground Forager            Passeriformes      \n",
              "118 Tree                      Ground Forager            Passeriformes      \n",
              "119 Tree                      Ground Forager            Columbiformes      \n",
              "120 Ground                    Ground Forager            Passeriformes      \n",
              "121 Cavity                    Foliage Gleaner           Passeriformes      \n",
              "122 Ground                    Ground Forager            Passeriformes      \n",
              "123 Ground                    Ground Forager            Passeriformes      \n",
              "124 NA                        NA                        NA                 \n",
              "125 Ground                    Ground Forager            Passeriformes      \n",
              "126 Ground                    Ground Forager            Passeriformes      \n",
              "127 Ground                    Ground Forager            Passeriformes      \n",
              "128 Ground                    Ground Forager            Passeriformes      \n",
              "    function_taxa_family\n",
              "1   Falconidae          \n",
              "2   Falconidae          \n",
              "3   Columbidae          \n",
              "4   Hirundinidae        \n",
              "5   Hirundinidae        \n",
              "6   Icteridae           \n",
              "7   Icteridae           \n",
              "8   Icteridae           \n",
              "9   Emberizidae         \n",
              "10  Cardinalidae        \n",
              "11  Emberizidae         \n",
              "12  Icteridae           \n",
              "13  Accipitridae        \n",
              "14  Emberizidae         \n",
              "15  Anatidae            \n",
              "16  Sturnidae           \n",
              "17  Hirundinidae        \n",
              "18  Icteridae           \n",
              "19  Fringillidae        \n",
              "20  Emberizidae         \n",
              "21  Fringillidae        \n",
              "22  Tyrannidae          \n",
              "23  Icteridae           \n",
              "24  Cardinalidae        \n",
              "25  Emberizidae         \n",
              "26  Emberizidae         \n",
              "27  Parulidae           \n",
              "28  Icteridae           \n",
              "29  Picidae             \n",
              "30  Icteridae           \n",
              "⋮   ⋮                   \n",
              "99  Falconidae          \n",
              "100 Corvidae            \n",
              "101 Paridae             \n",
              "102 Emberizidae         \n",
              "103 Emberizidae         \n",
              "104 Sittidae            \n",
              "105 Cardinalidae        \n",
              "106 Paridae             \n",
              "107 Cardinalidae        \n",
              "108 Picidae             \n",
              "109 Icteridae           \n",
              "110 Columbidae          \n",
              "111 Troglodytidae       \n",
              "112 Tyrannidae          \n",
              "113 Emberizidae         \n",
              "114 Picidae             \n",
              "115 Sittidae            \n",
              "116 Cardinalidae        \n",
              "117 Emberizidae         \n",
              "118 Turdidae            \n",
              "119 Columbidae          \n",
              "120 Emberizidae         \n",
              "121 Paridae             \n",
              "122 Emberizidae         \n",
              "123 Icteridae           \n",
              "124 NA                  \n",
              "125 Icteridae           \n",
              "126 Icteridae           \n",
              "127 Emberizidae         \n",
              "128 Emberizidae         "
            ],
            "text/latex": "A data.frame: 128 × 30\n\\begin{tabular}{lllllllllllllllllllll}\n survey\\_ID & survey\\_date & survey\\_time\\_start\\_MDT & survey\\_time\\_end\\_MDT & survey\\_visit & survey\\_grid\\_point & survey\\_observer & survey\\_wind\\_code & survey\\_sky\\_code & survey\\_noise\\_code & ⋯ & records\\_interval & records\\_location\\_code & habitat\\_location\\_description & function\\_spe\\_name\\_common & function\\_habitat\\_preference & function\\_food\\_preference & function\\_nesting\\_behavior & function\\_feeding\\_behavior & function\\_taxa\\_order & function\\_taxa\\_family\\\\\n <int> & <date> & <time> & <time> & <int> & <int> & <chr> & <int> & <int> & <int> & ⋯ & <chr> & <chr> & <chr> & <chr> & <chr> & <chr> & <chr> & <chr> & <chr> & <chr>\\\\\n\\hline\n\t 1397 & 2011-05-31 & 08:45:00 & 08:55:00 & NA & 355 & Katharine Stone & NA & NA & NA & ⋯ & 1            & 7 & Draw (Populus canopy) & American Kestrel       & Open Woodland & Insects       & Cavity   & Soaring         & Falconiformes   & Falconidae  \\\\\n\t 1397 & 2011-05-31 & 08:45:00 & 08:55:00 & NA & 355 & Katharine Stone & NA & NA & NA & ⋯ & 1            & 7 & Draw (Populus canopy) & American Kestrel       & Open Woodland & Insects       & Cavity   & Soaring         & Falconiformes   & Falconidae  \\\\\n\t 1397 & 2011-05-31 & 08:45:00 & 08:55:00 & NA & 355 & Katharine Stone & NA & NA & NA & ⋯ & 1            & 7 & Draw (Populus canopy) & Mourning Dove          & Open Woodland & Seeds         & Tree     & Ground Forager  & Columbiformes   & Columbidae  \\\\\n\t 1397 & 2011-05-31 & 08:45:00 & 08:55:00 & NA & 355 & Katharine Stone & NA & NA & NA & ⋯ & 1            & 1 & Open grassland        & Bank Swallow           & Lake/Pond     & Insects       & Burrow   & Aerial Forager  & Passeriformes   & Hirundinidae\\\\\n\t 1397 & 2011-05-31 & 08:45:00 & 08:55:00 & NA & 355 & Katharine Stone & NA & NA & NA & ⋯ & 1            & 1 & Open grassland        & Cliff Swallow          & Lake/Pond     & Insects       & Cliff    & Aerial Forager  & Passeriformes   & Hirundinidae\\\\\n\t 1397 & 2011-05-31 & 08:45:00 & 08:55:00 & NA & 355 & Katharine Stone & NA & NA & NA & ⋯ & 1            & 1 & Open grassland        & Western Meadowlark     & Grassland     & Insects       & Ground   & Ground Forager  & Passeriformes   & Icteridae   \\\\\n\t 1397 & 2011-05-31 & 08:45:00 & 08:55:00 & NA & 355 & Katharine Stone & NA & NA & NA & ⋯ & 1            & 1 & Open grassland        & Western Meadowlark     & Grassland     & Insects       & Ground   & Ground Forager  & Passeriformes   & Icteridae   \\\\\n\t 1397 & 2011-05-31 & 08:45:00 & 08:55:00 & NA & 355 & Katharine Stone & NA & NA & NA & ⋯ & 1            & 1 & Open grassland        & Western Meadowlark     & Grassland     & Insects       & Ground   & Ground Forager  & Passeriformes   & Icteridae   \\\\\n\t 1397 & 2011-05-31 & 08:45:00 & 08:55:00 & NA & 355 & Katharine Stone & NA & NA & NA & ⋯ & 1            & 1 & Open grassland        & Vesper Sparrow         & Grassland     & Insects       & Ground   & Ground Forager  & Passeriformes   & Emberizidae \\\\\n\t 1397 & 2011-05-31 & 08:45:00 & 08:55:00 & NA & 355 & Katharine Stone & NA & NA & NA & ⋯ & 1            & 8 & Draw (conifer canopy) & Lazuli Bunting         & Open Woodland & Insects       & Shrub    & Foliage Gleaner & Passeriformes   & Cardinalidae\\\\\n\t 1397 & 2011-05-31 & 08:45:00 & 08:55:00 & NA & 355 & Katharine Stone & NA & NA & NA & ⋯ & 1            & 1 & Open grassland        & Vesper Sparrow         & Grassland     & Insects       & Ground   & Ground Forager  & Passeriformes   & Emberizidae \\\\\n\t 1397 & 2011-05-31 & 08:45:00 & 08:55:00 & NA & 355 & Katharine Stone & NA & NA & NA & ⋯ & 1            & 7 & Draw (Populus canopy) & Brown-headed Cowbird   & Grassland     & Seeds         & Tree     & Ground Forager  & Passeriformes   & Icteridae   \\\\\n\t 1397 & 2011-05-31 & 08:45:00 & 08:55:00 & NA & 355 & Katharine Stone & NA & NA & NA & ⋯ & 1            & 7 & Draw (Populus canopy) & Red-tailed Hawk        & Open Woodland & Small Animals & Tree     & Soaring         & Accipitriformes & Accipitridae\\\\\n\t 1397 & 2011-05-31 & 08:45:00 & 08:55:00 & NA & 355 & Katharine Stone & NA & NA & NA & ⋯ & 2            & 3 & Sagebrush             & Vesper Sparrow         & Grassland     & Insects       & Ground   & Ground Forager  & Passeriformes   & Emberizidae \\\\\n\t 1397 & 2011-05-31 & 08:45:00 & 08:55:00 & NA & 355 & Katharine Stone & NA & NA & NA & ⋯ & 2            & U & Unknown               & Canada Goose           & Marsh         & Seeds         & Ground   & Ground Forager  & Anseriformes    & Anatidae    \\\\\n\t 1397 & 2011-05-31 & 08:45:00 & 08:55:00 & NA & 355 & Katharine Stone & NA & NA & NA & ⋯ & 2            & 7 & Draw (Populus canopy) & European Starling      & Town          & Insects       & Cavity   & Ground Forager  & Passeriformes   & Sturnidae   \\\\\n\t 1397 & 2011-05-31 & 08:45:00 & 08:55:00 & NA & 355 & Katharine Stone & NA & NA & NA & ⋯ & 2            & 1 & Open grassland        & Barn Swallow           & Grassland     & Insects       & Building & Aerial Forager  & Passeriformes   & Hirundinidae\\\\\n\t 1397 & 2011-05-31 & 08:45:00 & 08:55:00 & NA & 355 & Katharine Stone & NA & NA & NA & ⋯ & 2            & 3 & Sagebrush             & Western Meadowlark     & Grassland     & Insects       & Ground   & Ground Forager  & Passeriformes   & Icteridae   \\\\\n\t 1397 & 2011-05-31 & 08:45:00 & 08:55:00 & NA & 355 & Katharine Stone & NA & NA & NA & ⋯ & 2            & 8 & Draw (conifer canopy) & American Goldfinch     & Open Woodland & Seeds         & Shrub    & Foliage Gleaner & Passeriformes   & Fringillidae\\\\\n\t 1397 & 2011-05-31 & 08:45:00 & 08:55:00 & NA & 355 & Katharine Stone & NA & NA & NA & ⋯ & 2            & 3 & Sagebrush             & Chipping Sparrow       & Open Woodland & Seeds         & Shrub    & Ground Forager  & Passeriformes   & Emberizidae \\\\\n\t 1397 & 2011-05-31 & 08:45:00 & 08:55:00 & NA & 355 & Katharine Stone & NA & NA & NA & ⋯ & After survey & F & Flyover               & Evening Grosbeak       & Forest        & Seeds         & Tree     & Ground Forager  & Passeriformes   & Fringillidae\\\\\n\t 1413 & 2011-06-05 & 10:03:00 & 10:13:00 & NA &  23 & Debbie Leick    & NA & NA & NA & ⋯ & 1            & 9 & Draw (shrubs)         & Dusky Flycatcher       & Open Woodland & Insects       & Shrub    & Flycatching     & Passeriformes   & Tyrannidae  \\\\\n\t 1413 & 2011-06-05 & 10:03:00 & 10:13:00 & NA &  23 & Debbie Leick    & NA & NA & NA & ⋯ & 1            & U & Unknown               & Western Meadowlark     & Grassland     & Insects       & Ground   & Ground Forager  & Passeriformes   & Icteridae   \\\\\n\t 1413 & 2011-06-05 & 10:03:00 & 10:13:00 & NA &  23 & Debbie Leick    & NA & NA & NA & ⋯ & 1            & 8 & Draw (conifer canopy) & Western Tanager        & Forest        & Insects       & Tree     & Foliage Gleaner & Passeriformes   & Cardinalidae\\\\\n\t 1413 & 2011-06-05 & 10:03:00 & 10:13:00 & NA &  23 & Debbie Leick    & NA & NA & NA & ⋯ & 1            & 1 & Open grassland        & Vesper Sparrow         & Grassland     & Insects       & Ground   & Ground Forager  & Passeriformes   & Emberizidae \\\\\n\t 1413 & 2011-06-05 & 10:03:00 & 10:13:00 & NA &  23 & Debbie Leick    & NA & NA & NA & ⋯ & 1            & 1 & Open grassland        & Vesper Sparrow         & Grassland     & Insects       & Ground   & Ground Forager  & Passeriformes   & Emberizidae \\\\\n\t 1413 & 2011-06-05 & 10:03:00 & 10:13:00 & NA &  23 & Debbie Leick    & NA & NA & NA & ⋯ & 1            & 9 & Draw (shrubs)         & Orange-crowned Warbler & Forest        & Insects       & Ground   & Foliage Gleaner & Passeriformes   & Parulidae   \\\\\n\t 1413 & 2011-06-05 & 10:03:00 & 10:13:00 & NA &  23 & Debbie Leick    & NA & NA & NA & ⋯ & 1            & F & Flyover               & Brown-headed Cowbird   & Grassland     & Seeds         & Tree     & Ground Forager  & Passeriformes   & Icteridae   \\\\\n\t 1413 & 2011-06-05 & 10:03:00 & 10:13:00 & NA &  23 & Debbie Leick    & NA & NA & NA & ⋯ & 1            & 8 & Draw (conifer canopy) & Northern Flicker       & Open Woodland & Insects       & Cavity   & Ground Forager  & Piciformes      & Picidae     \\\\\n\t 1413 & 2011-06-05 & 10:03:00 & 10:13:00 & NA &  23 & Debbie Leick    & NA & NA & NA & ⋯ & 1            & U & Unknown               & Western Meadowlark     & Grassland     & Insects       & Ground   & Ground Forager  & Passeriformes   & Icteridae   \\\\\n\t ⋮ & ⋮ & ⋮ & ⋮ & ⋮ & ⋮ & ⋮ & ⋮ & ⋮ & ⋮ & ⋱ & ⋮ & ⋮ & ⋮ & ⋮ & ⋮ & ⋮ & ⋮ & ⋮ & ⋮ & ⋮\\\\\n\t  5742 & 2014-06-11 & 09:34:00 & 09:44:00 &  1 & 224 & Katharine Stone & NA & NA & NA & ⋯ & Before survey & 9  & Draw (shrubs)         & American Kestrel       & Open Woodland & Insects  & Cavity & Soaring         & Falconiformes & Falconidae   \\\\\n\t  5742 & 2014-06-11 & 09:34:00 & 09:44:00 &  1 & 224 & Katharine Stone & NA & NA & NA & ⋯ & Before survey & U  & Unknown               & Black-billed Magpie    & Open Woodland & Omnivore & Tree   & Ground Forager  & Passeriformes & Corvidae     \\\\\n\t  9227 & 2015-07-06 &       NA &       NA & NA &  10 & Amy Seaman      & NA & NA & NA & ⋯ & 1             & 8  & Draw (conifer canopy) & Black-capped Chickadee & Forest        & Insects  & Cavity & Foliage Gleaner & Passeriformes & Paridae      \\\\\n\t  9227 & 2015-07-06 &       NA &       NA & NA &  10 & Amy Seaman      & NA & NA & NA & ⋯ & 1             & U  & Unknown               & Vesper Sparrow         & Grassland     & Insects  & Ground & Ground Forager  & Passeriformes & Emberizidae  \\\\\n\t  9227 & 2015-07-06 &       NA &       NA & NA &  10 & Amy Seaman      & NA & NA & NA & ⋯ & 1             & 8  & Draw (conifer canopy) & Spotted Towhee         & Scrub         & Omnivore & Ground & Ground Forager  & Passeriformes & Emberizidae  \\\\\n\t  9227 & 2015-07-06 &       NA &       NA & NA &  10 & Amy Seaman      & NA & NA & NA & ⋯ & 1             & 8  & Draw (conifer canopy) & Red-breasted Nuthatch  & Forest        & Insects  & Cavity & Bark Forager    & Passeriformes & Sittidae     \\\\\n\t  9227 & 2015-07-06 &       NA &       NA & NA &  10 & Amy Seaman      & NA & NA & NA & ⋯ & 1             & 17 & Deciduous Shrub       & Lazuli Bunting         & Open Woodland & Insects  & Shrub  & Foliage Gleaner & Passeriformes & Cardinalidae \\\\\n\t  9227 & 2015-07-06 &       NA &       NA & NA &  10 & Amy Seaman      & NA & NA & NA & ⋯ & 1             & 8  & Draw (conifer canopy) & Black-capped Chickadee & Forest        & Insects  & Cavity & Foliage Gleaner & Passeriformes & Paridae      \\\\\n\t  9227 & 2015-07-06 &       NA &       NA & NA &  10 & Amy Seaman      & NA & NA & NA & ⋯ & 1             & 8  & Draw (conifer canopy) & Western Tanager        & Forest        & Insects  & Tree   & Foliage Gleaner & Passeriformes & Cardinalidae \\\\\n\t  9227 & 2015-07-06 &       NA &       NA & NA &  10 & Amy Seaman      & NA & NA & NA & ⋯ & 1             & 8  & Draw (conifer canopy) & Northern Flicker       & Open Woodland & Insects  & Cavity & Ground Forager  & Piciformes    & Picidae      \\\\\n\t  9227 & 2015-07-06 &       NA &       NA & NA &  10 & Amy Seaman      & NA & NA & NA & ⋯ & 1             & 8  & Draw (conifer canopy) & Brown-headed Cowbird   & Grassland     & Seeds    & Tree   & Ground Forager  & Passeriformes & Icteridae    \\\\\n\t  9227 & 2015-07-06 &       NA &       NA & NA &  10 & Amy Seaman      & NA & NA & NA & ⋯ & 1             & 8  & Draw (conifer canopy) & Mourning Dove          & Open Woodland & Seeds    & Tree   & Ground Forager  & Columbiformes & Columbidae   \\\\\n\t  9227 & 2015-07-06 &       NA &       NA & NA &  10 & Amy Seaman      & NA & NA & NA & ⋯ & 1             & 8  & Draw (conifer canopy) & House Wren             & Open Woodland & Insects  & Cavity & Foliage Gleaner & Passeriformes & Troglodytidae\\\\\n\t  9227 & 2015-07-06 &       NA &       NA & NA &  10 & Amy Seaman      & NA & NA & NA & ⋯ & 1             & 17 & Deciduous Shrub       & Dusky Flycatcher       & Open Woodland & Insects  & Shrub  & Flycatching     & Passeriformes & Tyrannidae   \\\\\n\t  9227 & 2015-07-06 &       NA &       NA & NA &  10 & Amy Seaman      & NA & NA & NA & ⋯ & 1             & 4  & Bitterbrush           & Vesper Sparrow         & Grassland     & Insects  & Ground & Ground Forager  & Passeriformes & Emberizidae  \\\\\n\t  9227 & 2015-07-06 &       NA &       NA & NA &  10 & Amy Seaman      & NA & NA & NA & ⋯ & 1             & 8  & Draw (conifer canopy) & Downy Woodpecker       & Forest        & Insects  & Cavity & Bark Forager    & Piciformes    & Picidae      \\\\\n\t  9227 & 2015-07-06 &       NA &       NA & NA &  10 & Amy Seaman      & NA & NA & NA & ⋯ & 1             & 8  & Draw (conifer canopy) & Red-breasted Nuthatch  & Forest        & Insects  & Cavity & Bark Forager    & Passeriformes & Sittidae     \\\\\n\t  9227 & 2015-07-06 &       NA &       NA & NA &  10 & Amy Seaman      & NA & NA & NA & ⋯ & 1             & 8  & Draw (conifer canopy) & Lazuli Bunting         & Open Woodland & Insects  & Shrub  & Foliage Gleaner & Passeriformes & Cardinalidae \\\\\n\t  9227 & 2015-07-06 &       NA &       NA & NA &  10 & Amy Seaman      & NA & NA & NA & ⋯ & 1             & 4  & Bitterbrush           & Vesper Sparrow         & Grassland     & Insects  & Ground & Ground Forager  & Passeriformes & Emberizidae  \\\\\n\t  9227 & 2015-07-06 &       NA &       NA & NA &  10 & Amy Seaman      & NA & NA & NA & ⋯ & 2             & 8  & Draw (conifer canopy) & American Robin         & Open Woodland & Insects  & Tree   & Ground Forager  & Passeriformes & Turdidae     \\\\\n\t  9227 & 2015-07-06 &       NA &       NA & NA &  10 & Amy Seaman      & NA & NA & NA & ⋯ & 2             & F  & Flyover               & Mourning Dove          & Open Woodland & Seeds    & Tree   & Ground Forager  & Columbiformes & Columbidae   \\\\\n\t  9227 & 2015-07-06 &       NA &       NA & NA &  10 & Amy Seaman      & NA & NA & NA & ⋯ & 2             & U  & Unknown               & Spotted Towhee         & Scrub         & Omnivore & Ground & Ground Forager  & Passeriformes & Emberizidae  \\\\\n\t  9227 & 2015-07-06 &       NA &       NA & NA &  10 & Amy Seaman      & NA & NA & NA & ⋯ & 2             & U  & Unknown               & Black-capped Chickadee & Forest        & Insects  & Cavity & Foliage Gleaner & Passeriformes & Paridae      \\\\\n\t 20798 & 2016-06-30 & 08:28:00 & 08:39:00 &  2 & 205 & Deb Goslin      & NA &  1 &  1 & ⋯ & 1             & 1  & Open grassland        & Vesper Sparrow         & Grassland     & Insects  & Ground & Ground Forager  & Passeriformes & Emberizidae  \\\\\n\t 20798 & 2016-06-30 & 08:28:00 & 08:39:00 &  2 & 205 & Deb Goslin      & NA &  1 &  1 & ⋯ & 1             & 1  & Open grassland        & Western Meadowlark     & Grassland     & Insects  & Ground & Ground Forager  & Passeriformes & Icteridae    \\\\\n\t 20798 & 2016-06-30 & 08:28:00 & 08:39:00 &  2 & 205 & Deb Goslin      & NA &  1 &  1 & ⋯ & 1             & 1  & Open grassland        & Unknown Hummingbird    & NA            & NA       & NA     & NA              & NA            & NA           \\\\\n\t 20798 & 2016-06-30 & 08:28:00 & 08:39:00 &  2 & 205 & Deb Goslin      & NA &  1 &  1 & ⋯ & 1             & 1  & Open grassland        & Western Meadowlark     & Grassland     & Insects  & Ground & Ground Forager  & Passeriformes & Icteridae    \\\\\n\t 20798 & 2016-06-30 & 08:28:00 & 08:39:00 &  2 & 205 & Deb Goslin      & NA &  1 &  1 & ⋯ & 1             & 1  & Open grassland        & Western Meadowlark     & Grassland     & Insects  & Ground & Ground Forager  & Passeriformes & Icteridae    \\\\\n\t 20798 & 2016-06-30 & 08:28:00 & 08:39:00 &  2 & 205 & Deb Goslin      & NA &  1 &  1 & ⋯ & 1             & 1  & Open grassland        & Vesper Sparrow         & Grassland     & Insects  & Ground & Ground Forager  & Passeriformes & Emberizidae  \\\\\n\t 20798 & 2016-06-30 & 08:28:00 & 08:39:00 &  2 & 205 & Deb Goslin      & NA &  1 &  1 & ⋯ & 2             & 1  & Open grassland        & Vesper Sparrow         & Grassland     & Insects  & Ground & Ground Forager  & Passeriformes & Emberizidae  \\\\\n\\end{tabular}\n",
            "text/markdown": "\nA data.frame: 128 × 30\n\n| survey_ID &lt;int&gt; | survey_date &lt;date&gt; | survey_time_start_MDT &lt;time&gt; | survey_time_end_MDT &lt;time&gt; | survey_visit &lt;int&gt; | survey_grid_point &lt;int&gt; | survey_observer &lt;chr&gt; | survey_wind_code &lt;int&gt; | survey_sky_code &lt;int&gt; | survey_noise_code &lt;int&gt; | ⋯ ⋯ | records_interval &lt;chr&gt; | records_location_code &lt;chr&gt; | habitat_location_description &lt;chr&gt; | function_spe_name_common &lt;chr&gt; | function_habitat_preference &lt;chr&gt; | function_food_preference &lt;chr&gt; | function_nesting_behavior &lt;chr&gt; | function_feeding_behavior &lt;chr&gt; | function_taxa_order &lt;chr&gt; | function_taxa_family &lt;chr&gt; |\n|---|---|---|---|---|---|---|---|---|---|---|---|---|---|---|---|---|---|---|---|---|\n| 1397 | 2011-05-31 | 08:45:00 | 08:55:00 | NA | 355 | Katharine Stone | NA | NA | NA | ⋯ | 1            | 7 | Draw (Populus canopy) | American Kestrel       | Open Woodland | Insects       | Cavity   | Soaring         | Falconiformes   | Falconidae   |\n| 1397 | 2011-05-31 | 08:45:00 | 08:55:00 | NA | 355 | Katharine Stone | NA | NA | NA | ⋯ | 1            | 7 | Draw (Populus canopy) | American Kestrel       | Open Woodland | Insects       | Cavity   | Soaring         | Falconiformes   | Falconidae   |\n| 1397 | 2011-05-31 | 08:45:00 | 08:55:00 | NA | 355 | Katharine Stone | NA | NA | NA | ⋯ | 1            | 7 | Draw (Populus canopy) | Mourning Dove          | Open Woodland | Seeds         | Tree     | Ground Forager  | Columbiformes   | Columbidae   |\n| 1397 | 2011-05-31 | 08:45:00 | 08:55:00 | NA | 355 | Katharine Stone | NA | NA | NA | ⋯ | 1            | 1 | Open grassland        | Bank Swallow           | Lake/Pond     | Insects       | Burrow   | Aerial Forager  | Passeriformes   | Hirundinidae |\n| 1397 | 2011-05-31 | 08:45:00 | 08:55:00 | NA | 355 | Katharine Stone | NA | NA | NA | ⋯ | 1            | 1 | Open grassland        | Cliff Swallow          | Lake/Pond     | Insects       | Cliff    | Aerial Forager  | Passeriformes   | Hirundinidae |\n| 1397 | 2011-05-31 | 08:45:00 | 08:55:00 | NA | 355 | Katharine Stone | NA | NA | NA | ⋯ | 1            | 1 | Open grassland        | Western Meadowlark     | Grassland     | Insects       | Ground   | Ground Forager  | Passeriformes   | Icteridae    |\n| 1397 | 2011-05-31 | 08:45:00 | 08:55:00 | NA | 355 | Katharine Stone | NA | NA | NA | ⋯ | 1            | 1 | Open grassland        | Western Meadowlark     | Grassland     | Insects       | Ground   | Ground Forager  | Passeriformes   | Icteridae    |\n| 1397 | 2011-05-31 | 08:45:00 | 08:55:00 | NA | 355 | Katharine Stone | NA | NA | NA | ⋯ | 1            | 1 | Open grassland        | Western Meadowlark     | Grassland     | Insects       | Ground   | Ground Forager  | Passeriformes   | Icteridae    |\n| 1397 | 2011-05-31 | 08:45:00 | 08:55:00 | NA | 355 | Katharine Stone | NA | NA | NA | ⋯ | 1            | 1 | Open grassland        | Vesper Sparrow         | Grassland     | Insects       | Ground   | Ground Forager  | Passeriformes   | Emberizidae  |\n| 1397 | 2011-05-31 | 08:45:00 | 08:55:00 | NA | 355 | Katharine Stone | NA | NA | NA | ⋯ | 1            | 8 | Draw (conifer canopy) | Lazuli Bunting         | Open Woodland | Insects       | Shrub    | Foliage Gleaner | Passeriformes   | Cardinalidae |\n| 1397 | 2011-05-31 | 08:45:00 | 08:55:00 | NA | 355 | Katharine Stone | NA | NA | NA | ⋯ | 1            | 1 | Open grassland        | Vesper Sparrow         | Grassland     | Insects       | Ground   | Ground Forager  | Passeriformes   | Emberizidae  |\n| 1397 | 2011-05-31 | 08:45:00 | 08:55:00 | NA | 355 | Katharine Stone | NA | NA | NA | ⋯ | 1            | 7 | Draw (Populus canopy) | Brown-headed Cowbird   | Grassland     | Seeds         | Tree     | Ground Forager  | Passeriformes   | Icteridae    |\n| 1397 | 2011-05-31 | 08:45:00 | 08:55:00 | NA | 355 | Katharine Stone | NA | NA | NA | ⋯ | 1            | 7 | Draw (Populus canopy) | Red-tailed Hawk        | Open Woodland | Small Animals | Tree     | Soaring         | Accipitriformes | Accipitridae |\n| 1397 | 2011-05-31 | 08:45:00 | 08:55:00 | NA | 355 | Katharine Stone | NA | NA | NA | ⋯ | 2            | 3 | Sagebrush             | Vesper Sparrow         | Grassland     | Insects       | Ground   | Ground Forager  | Passeriformes   | Emberizidae  |\n| 1397 | 2011-05-31 | 08:45:00 | 08:55:00 | NA | 355 | Katharine Stone | NA | NA | NA | ⋯ | 2            | U | Unknown               | Canada Goose           | Marsh         | Seeds         | Ground   | Ground Forager  | Anseriformes    | Anatidae     |\n| 1397 | 2011-05-31 | 08:45:00 | 08:55:00 | NA | 355 | Katharine Stone | NA | NA | NA | ⋯ | 2            | 7 | Draw (Populus canopy) | European Starling      | Town          | Insects       | Cavity   | Ground Forager  | Passeriformes   | Sturnidae    |\n| 1397 | 2011-05-31 | 08:45:00 | 08:55:00 | NA | 355 | Katharine Stone | NA | NA | NA | ⋯ | 2            | 1 | Open grassland        | Barn Swallow           | Grassland     | Insects       | Building | Aerial Forager  | Passeriformes   | Hirundinidae |\n| 1397 | 2011-05-31 | 08:45:00 | 08:55:00 | NA | 355 | Katharine Stone | NA | NA | NA | ⋯ | 2            | 3 | Sagebrush             | Western Meadowlark     | Grassland     | Insects       | Ground   | Ground Forager  | Passeriformes   | Icteridae    |\n| 1397 | 2011-05-31 | 08:45:00 | 08:55:00 | NA | 355 | Katharine Stone | NA | NA | NA | ⋯ | 2            | 8 | Draw (conifer canopy) | American Goldfinch     | Open Woodland | Seeds         | Shrub    | Foliage Gleaner | Passeriformes   | Fringillidae |\n| 1397 | 2011-05-31 | 08:45:00 | 08:55:00 | NA | 355 | Katharine Stone | NA | NA | NA | ⋯ | 2            | 3 | Sagebrush             | Chipping Sparrow       | Open Woodland | Seeds         | Shrub    | Ground Forager  | Passeriformes   | Emberizidae  |\n| 1397 | 2011-05-31 | 08:45:00 | 08:55:00 | NA | 355 | Katharine Stone | NA | NA | NA | ⋯ | After survey | F | Flyover               | Evening Grosbeak       | Forest        | Seeds         | Tree     | Ground Forager  | Passeriformes   | Fringillidae |\n| 1413 | 2011-06-05 | 10:03:00 | 10:13:00 | NA |  23 | Debbie Leick    | NA | NA | NA | ⋯ | 1            | 9 | Draw (shrubs)         | Dusky Flycatcher       | Open Woodland | Insects       | Shrub    | Flycatching     | Passeriformes   | Tyrannidae   |\n| 1413 | 2011-06-05 | 10:03:00 | 10:13:00 | NA |  23 | Debbie Leick    | NA | NA | NA | ⋯ | 1            | U | Unknown               | Western Meadowlark     | Grassland     | Insects       | Ground   | Ground Forager  | Passeriformes   | Icteridae    |\n| 1413 | 2011-06-05 | 10:03:00 | 10:13:00 | NA |  23 | Debbie Leick    | NA | NA | NA | ⋯ | 1            | 8 | Draw (conifer canopy) | Western Tanager        | Forest        | Insects       | Tree     | Foliage Gleaner | Passeriformes   | Cardinalidae |\n| 1413 | 2011-06-05 | 10:03:00 | 10:13:00 | NA |  23 | Debbie Leick    | NA | NA | NA | ⋯ | 1            | 1 | Open grassland        | Vesper Sparrow         | Grassland     | Insects       | Ground   | Ground Forager  | Passeriformes   | Emberizidae  |\n| 1413 | 2011-06-05 | 10:03:00 | 10:13:00 | NA |  23 | Debbie Leick    | NA | NA | NA | ⋯ | 1            | 1 | Open grassland        | Vesper Sparrow         | Grassland     | Insects       | Ground   | Ground Forager  | Passeriformes   | Emberizidae  |\n| 1413 | 2011-06-05 | 10:03:00 | 10:13:00 | NA |  23 | Debbie Leick    | NA | NA | NA | ⋯ | 1            | 9 | Draw (shrubs)         | Orange-crowned Warbler | Forest        | Insects       | Ground   | Foliage Gleaner | Passeriformes   | Parulidae    |\n| 1413 | 2011-06-05 | 10:03:00 | 10:13:00 | NA |  23 | Debbie Leick    | NA | NA | NA | ⋯ | 1            | F | Flyover               | Brown-headed Cowbird   | Grassland     | Seeds         | Tree     | Ground Forager  | Passeriformes   | Icteridae    |\n| 1413 | 2011-06-05 | 10:03:00 | 10:13:00 | NA |  23 | Debbie Leick    | NA | NA | NA | ⋯ | 1            | 8 | Draw (conifer canopy) | Northern Flicker       | Open Woodland | Insects       | Cavity   | Ground Forager  | Piciformes      | Picidae      |\n| 1413 | 2011-06-05 | 10:03:00 | 10:13:00 | NA |  23 | Debbie Leick    | NA | NA | NA | ⋯ | 1            | U | Unknown               | Western Meadowlark     | Grassland     | Insects       | Ground   | Ground Forager  | Passeriformes   | Icteridae    |\n| ⋮ | ⋮ | ⋮ | ⋮ | ⋮ | ⋮ | ⋮ | ⋮ | ⋮ | ⋮ | ⋱ | ⋮ | ⋮ | ⋮ | ⋮ | ⋮ | ⋮ | ⋮ | ⋮ | ⋮ | ⋮ |\n|  5742 | 2014-06-11 | 09:34:00 | 09:44:00 |  1 | 224 | Katharine Stone | NA | NA | NA | ⋯ | Before survey | 9  | Draw (shrubs)         | American Kestrel       | Open Woodland | Insects  | Cavity | Soaring         | Falconiformes | Falconidae    |\n|  5742 | 2014-06-11 | 09:34:00 | 09:44:00 |  1 | 224 | Katharine Stone | NA | NA | NA | ⋯ | Before survey | U  | Unknown               | Black-billed Magpie    | Open Woodland | Omnivore | Tree   | Ground Forager  | Passeriformes | Corvidae      |\n|  9227 | 2015-07-06 |       NA |       NA | NA |  10 | Amy Seaman      | NA | NA | NA | ⋯ | 1             | 8  | Draw (conifer canopy) | Black-capped Chickadee | Forest        | Insects  | Cavity | Foliage Gleaner | Passeriformes | Paridae       |\n|  9227 | 2015-07-06 |       NA |       NA | NA |  10 | Amy Seaman      | NA | NA | NA | ⋯ | 1             | U  | Unknown               | Vesper Sparrow         | Grassland     | Insects  | Ground | Ground Forager  | Passeriformes | Emberizidae   |\n|  9227 | 2015-07-06 |       NA |       NA | NA |  10 | Amy Seaman      | NA | NA | NA | ⋯ | 1             | 8  | Draw (conifer canopy) | Spotted Towhee         | Scrub         | Omnivore | Ground | Ground Forager  | Passeriformes | Emberizidae   |\n|  9227 | 2015-07-06 |       NA |       NA | NA |  10 | Amy Seaman      | NA | NA | NA | ⋯ | 1             | 8  | Draw (conifer canopy) | Red-breasted Nuthatch  | Forest        | Insects  | Cavity | Bark Forager    | Passeriformes | Sittidae      |\n|  9227 | 2015-07-06 |       NA |       NA | NA |  10 | Amy Seaman      | NA | NA | NA | ⋯ | 1             | 17 | Deciduous Shrub       | Lazuli Bunting         | Open Woodland | Insects  | Shrub  | Foliage Gleaner | Passeriformes | Cardinalidae  |\n|  9227 | 2015-07-06 |       NA |       NA | NA |  10 | Amy Seaman      | NA | NA | NA | ⋯ | 1             | 8  | Draw (conifer canopy) | Black-capped Chickadee | Forest        | Insects  | Cavity | Foliage Gleaner | Passeriformes | Paridae       |\n|  9227 | 2015-07-06 |       NA |       NA | NA |  10 | Amy Seaman      | NA | NA | NA | ⋯ | 1             | 8  | Draw (conifer canopy) | Western Tanager        | Forest        | Insects  | Tree   | Foliage Gleaner | Passeriformes | Cardinalidae  |\n|  9227 | 2015-07-06 |       NA |       NA | NA |  10 | Amy Seaman      | NA | NA | NA | ⋯ | 1             | 8  | Draw (conifer canopy) | Northern Flicker       | Open Woodland | Insects  | Cavity | Ground Forager  | Piciformes    | Picidae       |\n|  9227 | 2015-07-06 |       NA |       NA | NA |  10 | Amy Seaman      | NA | NA | NA | ⋯ | 1             | 8  | Draw (conifer canopy) | Brown-headed Cowbird   | Grassland     | Seeds    | Tree   | Ground Forager  | Passeriformes | Icteridae     |\n|  9227 | 2015-07-06 |       NA |       NA | NA |  10 | Amy Seaman      | NA | NA | NA | ⋯ | 1             | 8  | Draw (conifer canopy) | Mourning Dove          | Open Woodland | Seeds    | Tree   | Ground Forager  | Columbiformes | Columbidae    |\n|  9227 | 2015-07-06 |       NA |       NA | NA |  10 | Amy Seaman      | NA | NA | NA | ⋯ | 1             | 8  | Draw (conifer canopy) | House Wren             | Open Woodland | Insects  | Cavity | Foliage Gleaner | Passeriformes | Troglodytidae |\n|  9227 | 2015-07-06 |       NA |       NA | NA |  10 | Amy Seaman      | NA | NA | NA | ⋯ | 1             | 17 | Deciduous Shrub       | Dusky Flycatcher       | Open Woodland | Insects  | Shrub  | Flycatching     | Passeriformes | Tyrannidae    |\n|  9227 | 2015-07-06 |       NA |       NA | NA |  10 | Amy Seaman      | NA | NA | NA | ⋯ | 1             | 4  | Bitterbrush           | Vesper Sparrow         | Grassland     | Insects  | Ground | Ground Forager  | Passeriformes | Emberizidae   |\n|  9227 | 2015-07-06 |       NA |       NA | NA |  10 | Amy Seaman      | NA | NA | NA | ⋯ | 1             | 8  | Draw (conifer canopy) | Downy Woodpecker       | Forest        | Insects  | Cavity | Bark Forager    | Piciformes    | Picidae       |\n|  9227 | 2015-07-06 |       NA |       NA | NA |  10 | Amy Seaman      | NA | NA | NA | ⋯ | 1             | 8  | Draw (conifer canopy) | Red-breasted Nuthatch  | Forest        | Insects  | Cavity | Bark Forager    | Passeriformes | Sittidae      |\n|  9227 | 2015-07-06 |       NA |       NA | NA |  10 | Amy Seaman      | NA | NA | NA | ⋯ | 1             | 8  | Draw (conifer canopy) | Lazuli Bunting         | Open Woodland | Insects  | Shrub  | Foliage Gleaner | Passeriformes | Cardinalidae  |\n|  9227 | 2015-07-06 |       NA |       NA | NA |  10 | Amy Seaman      | NA | NA | NA | ⋯ | 1             | 4  | Bitterbrush           | Vesper Sparrow         | Grassland     | Insects  | Ground | Ground Forager  | Passeriformes | Emberizidae   |\n|  9227 | 2015-07-06 |       NA |       NA | NA |  10 | Amy Seaman      | NA | NA | NA | ⋯ | 2             | 8  | Draw (conifer canopy) | American Robin         | Open Woodland | Insects  | Tree   | Ground Forager  | Passeriformes | Turdidae      |\n|  9227 | 2015-07-06 |       NA |       NA | NA |  10 | Amy Seaman      | NA | NA | NA | ⋯ | 2             | F  | Flyover               | Mourning Dove          | Open Woodland | Seeds    | Tree   | Ground Forager  | Columbiformes | Columbidae    |\n|  9227 | 2015-07-06 |       NA |       NA | NA |  10 | Amy Seaman      | NA | NA | NA | ⋯ | 2             | U  | Unknown               | Spotted Towhee         | Scrub         | Omnivore | Ground | Ground Forager  | Passeriformes | Emberizidae   |\n|  9227 | 2015-07-06 |       NA |       NA | NA |  10 | Amy Seaman      | NA | NA | NA | ⋯ | 2             | U  | Unknown               | Black-capped Chickadee | Forest        | Insects  | Cavity | Foliage Gleaner | Passeriformes | Paridae       |\n| 20798 | 2016-06-30 | 08:28:00 | 08:39:00 |  2 | 205 | Deb Goslin      | NA |  1 |  1 | ⋯ | 1             | 1  | Open grassland        | Vesper Sparrow         | Grassland     | Insects  | Ground | Ground Forager  | Passeriformes | Emberizidae   |\n| 20798 | 2016-06-30 | 08:28:00 | 08:39:00 |  2 | 205 | Deb Goslin      | NA |  1 |  1 | ⋯ | 1             | 1  | Open grassland        | Western Meadowlark     | Grassland     | Insects  | Ground | Ground Forager  | Passeriformes | Icteridae     |\n| 20798 | 2016-06-30 | 08:28:00 | 08:39:00 |  2 | 205 | Deb Goslin      | NA |  1 |  1 | ⋯ | 1             | 1  | Open grassland        | Unknown Hummingbird    | NA            | NA       | NA     | NA              | NA            | NA            |\n| 20798 | 2016-06-30 | 08:28:00 | 08:39:00 |  2 | 205 | Deb Goslin      | NA |  1 |  1 | ⋯ | 1             | 1  | Open grassland        | Western Meadowlark     | Grassland     | Insects  | Ground | Ground Forager  | Passeriformes | Icteridae     |\n| 20798 | 2016-06-30 | 08:28:00 | 08:39:00 |  2 | 205 | Deb Goslin      | NA |  1 |  1 | ⋯ | 1             | 1  | Open grassland        | Western Meadowlark     | Grassland     | Insects  | Ground | Ground Forager  | Passeriformes | Icteridae     |\n| 20798 | 2016-06-30 | 08:28:00 | 08:39:00 |  2 | 205 | Deb Goslin      | NA |  1 |  1 | ⋯ | 1             | 1  | Open grassland        | Vesper Sparrow         | Grassland     | Insects  | Ground | Ground Forager  | Passeriformes | Emberizidae   |\n| 20798 | 2016-06-30 | 08:28:00 | 08:39:00 |  2 | 205 | Deb Goslin      | NA |  1 |  1 | ⋯ | 2             | 1  | Open grassland        | Vesper Sparrow         | Grassland     | Insects  | Ground | Ground Forager  | Passeriformes | Emberizidae   |\n\n",
            "text/html": [
              "<table>\n",
              "<caption>A data.frame: 128 × 30</caption>\n",
              "<thead>\n",
              "\t<tr><th scope=col>survey_ID</th><th scope=col>survey_date</th><th scope=col>survey_time_start_MDT</th><th scope=col>survey_time_end_MDT</th><th scope=col>survey_visit</th><th scope=col>survey_grid_point</th><th scope=col>survey_observer</th><th scope=col>survey_wind_code</th><th scope=col>survey_sky_code</th><th scope=col>survey_noise_code</th><th scope=col>⋯</th><th scope=col>records_interval</th><th scope=col>records_location_code</th><th scope=col>habitat_location_description</th><th scope=col>function_spe_name_common</th><th scope=col>function_habitat_preference</th><th scope=col>function_food_preference</th><th scope=col>function_nesting_behavior</th><th scope=col>function_feeding_behavior</th><th scope=col>function_taxa_order</th><th scope=col>function_taxa_family</th></tr>\n",
              "\t<tr><th scope=col>&lt;int&gt;</th><th scope=col>&lt;date&gt;</th><th scope=col>&lt;time&gt;</th><th scope=col>&lt;time&gt;</th><th scope=col>&lt;int&gt;</th><th scope=col>&lt;int&gt;</th><th scope=col>&lt;chr&gt;</th><th scope=col>&lt;int&gt;</th><th scope=col>&lt;int&gt;</th><th scope=col>&lt;int&gt;</th><th scope=col>⋯</th><th scope=col>&lt;chr&gt;</th><th scope=col>&lt;chr&gt;</th><th scope=col>&lt;chr&gt;</th><th scope=col>&lt;chr&gt;</th><th scope=col>&lt;chr&gt;</th><th scope=col>&lt;chr&gt;</th><th scope=col>&lt;chr&gt;</th><th scope=col>&lt;chr&gt;</th><th scope=col>&lt;chr&gt;</th><th scope=col>&lt;chr&gt;</th></tr>\n",
              "</thead>\n",
              "<tbody>\n",
              "\t<tr><td>1397</td><td>2011-05-31</td><td>08:45:00</td><td>08:55:00</td><td>NA</td><td>355</td><td>Katharine Stone</td><td>NA</td><td>NA</td><td>NA</td><td>⋯</td><td>1           </td><td>7</td><td>Draw (Populus canopy)</td><td>American Kestrel      </td><td>Open Woodland</td><td>Insects      </td><td>Cavity  </td><td>Soaring        </td><td>Falconiformes  </td><td>Falconidae  </td></tr>\n",
              "\t<tr><td>1397</td><td>2011-05-31</td><td>08:45:00</td><td>08:55:00</td><td>NA</td><td>355</td><td>Katharine Stone</td><td>NA</td><td>NA</td><td>NA</td><td>⋯</td><td>1           </td><td>7</td><td>Draw (Populus canopy)</td><td>American Kestrel      </td><td>Open Woodland</td><td>Insects      </td><td>Cavity  </td><td>Soaring        </td><td>Falconiformes  </td><td>Falconidae  </td></tr>\n",
              "\t<tr><td>1397</td><td>2011-05-31</td><td>08:45:00</td><td>08:55:00</td><td>NA</td><td>355</td><td>Katharine Stone</td><td>NA</td><td>NA</td><td>NA</td><td>⋯</td><td>1           </td><td>7</td><td>Draw (Populus canopy)</td><td>Mourning Dove         </td><td>Open Woodland</td><td>Seeds        </td><td>Tree    </td><td>Ground Forager </td><td>Columbiformes  </td><td>Columbidae  </td></tr>\n",
              "\t<tr><td>1397</td><td>2011-05-31</td><td>08:45:00</td><td>08:55:00</td><td>NA</td><td>355</td><td>Katharine Stone</td><td>NA</td><td>NA</td><td>NA</td><td>⋯</td><td>1           </td><td>1</td><td>Open grassland       </td><td>Bank Swallow          </td><td>Lake/Pond    </td><td>Insects      </td><td>Burrow  </td><td>Aerial Forager </td><td>Passeriformes  </td><td>Hirundinidae</td></tr>\n",
              "\t<tr><td>1397</td><td>2011-05-31</td><td>08:45:00</td><td>08:55:00</td><td>NA</td><td>355</td><td>Katharine Stone</td><td>NA</td><td>NA</td><td>NA</td><td>⋯</td><td>1           </td><td>1</td><td>Open grassland       </td><td>Cliff Swallow         </td><td>Lake/Pond    </td><td>Insects      </td><td>Cliff   </td><td>Aerial Forager </td><td>Passeriformes  </td><td>Hirundinidae</td></tr>\n",
              "\t<tr><td>1397</td><td>2011-05-31</td><td>08:45:00</td><td>08:55:00</td><td>NA</td><td>355</td><td>Katharine Stone</td><td>NA</td><td>NA</td><td>NA</td><td>⋯</td><td>1           </td><td>1</td><td>Open grassland       </td><td>Western Meadowlark    </td><td>Grassland    </td><td>Insects      </td><td>Ground  </td><td>Ground Forager </td><td>Passeriformes  </td><td>Icteridae   </td></tr>\n",
              "\t<tr><td>1397</td><td>2011-05-31</td><td>08:45:00</td><td>08:55:00</td><td>NA</td><td>355</td><td>Katharine Stone</td><td>NA</td><td>NA</td><td>NA</td><td>⋯</td><td>1           </td><td>1</td><td>Open grassland       </td><td>Western Meadowlark    </td><td>Grassland    </td><td>Insects      </td><td>Ground  </td><td>Ground Forager </td><td>Passeriformes  </td><td>Icteridae   </td></tr>\n",
              "\t<tr><td>1397</td><td>2011-05-31</td><td>08:45:00</td><td>08:55:00</td><td>NA</td><td>355</td><td>Katharine Stone</td><td>NA</td><td>NA</td><td>NA</td><td>⋯</td><td>1           </td><td>1</td><td>Open grassland       </td><td>Western Meadowlark    </td><td>Grassland    </td><td>Insects      </td><td>Ground  </td><td>Ground Forager </td><td>Passeriformes  </td><td>Icteridae   </td></tr>\n",
              "\t<tr><td>1397</td><td>2011-05-31</td><td>08:45:00</td><td>08:55:00</td><td>NA</td><td>355</td><td>Katharine Stone</td><td>NA</td><td>NA</td><td>NA</td><td>⋯</td><td>1           </td><td>1</td><td>Open grassland       </td><td>Vesper Sparrow        </td><td>Grassland    </td><td>Insects      </td><td>Ground  </td><td>Ground Forager </td><td>Passeriformes  </td><td>Emberizidae </td></tr>\n",
              "\t<tr><td>1397</td><td>2011-05-31</td><td>08:45:00</td><td>08:55:00</td><td>NA</td><td>355</td><td>Katharine Stone</td><td>NA</td><td>NA</td><td>NA</td><td>⋯</td><td>1           </td><td>8</td><td>Draw (conifer canopy)</td><td>Lazuli Bunting        </td><td>Open Woodland</td><td>Insects      </td><td>Shrub   </td><td>Foliage Gleaner</td><td>Passeriformes  </td><td>Cardinalidae</td></tr>\n",
              "\t<tr><td>1397</td><td>2011-05-31</td><td>08:45:00</td><td>08:55:00</td><td>NA</td><td>355</td><td>Katharine Stone</td><td>NA</td><td>NA</td><td>NA</td><td>⋯</td><td>1           </td><td>1</td><td>Open grassland       </td><td>Vesper Sparrow        </td><td>Grassland    </td><td>Insects      </td><td>Ground  </td><td>Ground Forager </td><td>Passeriformes  </td><td>Emberizidae </td></tr>\n",
              "\t<tr><td>1397</td><td>2011-05-31</td><td>08:45:00</td><td>08:55:00</td><td>NA</td><td>355</td><td>Katharine Stone</td><td>NA</td><td>NA</td><td>NA</td><td>⋯</td><td>1           </td><td>7</td><td>Draw (Populus canopy)</td><td>Brown-headed Cowbird  </td><td>Grassland    </td><td>Seeds        </td><td>Tree    </td><td>Ground Forager </td><td>Passeriformes  </td><td>Icteridae   </td></tr>\n",
              "\t<tr><td>1397</td><td>2011-05-31</td><td>08:45:00</td><td>08:55:00</td><td>NA</td><td>355</td><td>Katharine Stone</td><td>NA</td><td>NA</td><td>NA</td><td>⋯</td><td>1           </td><td>7</td><td>Draw (Populus canopy)</td><td>Red-tailed Hawk       </td><td>Open Woodland</td><td>Small Animals</td><td>Tree    </td><td>Soaring        </td><td>Accipitriformes</td><td>Accipitridae</td></tr>\n",
              "\t<tr><td>1397</td><td>2011-05-31</td><td>08:45:00</td><td>08:55:00</td><td>NA</td><td>355</td><td>Katharine Stone</td><td>NA</td><td>NA</td><td>NA</td><td>⋯</td><td>2           </td><td>3</td><td>Sagebrush            </td><td>Vesper Sparrow        </td><td>Grassland    </td><td>Insects      </td><td>Ground  </td><td>Ground Forager </td><td>Passeriformes  </td><td>Emberizidae </td></tr>\n",
              "\t<tr><td>1397</td><td>2011-05-31</td><td>08:45:00</td><td>08:55:00</td><td>NA</td><td>355</td><td>Katharine Stone</td><td>NA</td><td>NA</td><td>NA</td><td>⋯</td><td>2           </td><td>U</td><td>Unknown              </td><td>Canada Goose          </td><td>Marsh        </td><td>Seeds        </td><td>Ground  </td><td>Ground Forager </td><td>Anseriformes   </td><td>Anatidae    </td></tr>\n",
              "\t<tr><td>1397</td><td>2011-05-31</td><td>08:45:00</td><td>08:55:00</td><td>NA</td><td>355</td><td>Katharine Stone</td><td>NA</td><td>NA</td><td>NA</td><td>⋯</td><td>2           </td><td>7</td><td>Draw (Populus canopy)</td><td>European Starling     </td><td>Town         </td><td>Insects      </td><td>Cavity  </td><td>Ground Forager </td><td>Passeriformes  </td><td>Sturnidae   </td></tr>\n",
              "\t<tr><td>1397</td><td>2011-05-31</td><td>08:45:00</td><td>08:55:00</td><td>NA</td><td>355</td><td>Katharine Stone</td><td>NA</td><td>NA</td><td>NA</td><td>⋯</td><td>2           </td><td>1</td><td>Open grassland       </td><td>Barn Swallow          </td><td>Grassland    </td><td>Insects      </td><td>Building</td><td>Aerial Forager </td><td>Passeriformes  </td><td>Hirundinidae</td></tr>\n",
              "\t<tr><td>1397</td><td>2011-05-31</td><td>08:45:00</td><td>08:55:00</td><td>NA</td><td>355</td><td>Katharine Stone</td><td>NA</td><td>NA</td><td>NA</td><td>⋯</td><td>2           </td><td>3</td><td>Sagebrush            </td><td>Western Meadowlark    </td><td>Grassland    </td><td>Insects      </td><td>Ground  </td><td>Ground Forager </td><td>Passeriformes  </td><td>Icteridae   </td></tr>\n",
              "\t<tr><td>1397</td><td>2011-05-31</td><td>08:45:00</td><td>08:55:00</td><td>NA</td><td>355</td><td>Katharine Stone</td><td>NA</td><td>NA</td><td>NA</td><td>⋯</td><td>2           </td><td>8</td><td>Draw (conifer canopy)</td><td>American Goldfinch    </td><td>Open Woodland</td><td>Seeds        </td><td>Shrub   </td><td>Foliage Gleaner</td><td>Passeriformes  </td><td>Fringillidae</td></tr>\n",
              "\t<tr><td>1397</td><td>2011-05-31</td><td>08:45:00</td><td>08:55:00</td><td>NA</td><td>355</td><td>Katharine Stone</td><td>NA</td><td>NA</td><td>NA</td><td>⋯</td><td>2           </td><td>3</td><td>Sagebrush            </td><td>Chipping Sparrow      </td><td>Open Woodland</td><td>Seeds        </td><td>Shrub   </td><td>Ground Forager </td><td>Passeriformes  </td><td>Emberizidae </td></tr>\n",
              "\t<tr><td>1397</td><td>2011-05-31</td><td>08:45:00</td><td>08:55:00</td><td>NA</td><td>355</td><td>Katharine Stone</td><td>NA</td><td>NA</td><td>NA</td><td>⋯</td><td>After survey</td><td>F</td><td>Flyover              </td><td>Evening Grosbeak      </td><td>Forest       </td><td>Seeds        </td><td>Tree    </td><td>Ground Forager </td><td>Passeriformes  </td><td>Fringillidae</td></tr>\n",
              "\t<tr><td>1413</td><td>2011-06-05</td><td>10:03:00</td><td>10:13:00</td><td>NA</td><td> 23</td><td>Debbie Leick   </td><td>NA</td><td>NA</td><td>NA</td><td>⋯</td><td>1           </td><td>9</td><td>Draw (shrubs)        </td><td>Dusky Flycatcher      </td><td>Open Woodland</td><td>Insects      </td><td>Shrub   </td><td>Flycatching    </td><td>Passeriformes  </td><td>Tyrannidae  </td></tr>\n",
              "\t<tr><td>1413</td><td>2011-06-05</td><td>10:03:00</td><td>10:13:00</td><td>NA</td><td> 23</td><td>Debbie Leick   </td><td>NA</td><td>NA</td><td>NA</td><td>⋯</td><td>1           </td><td>U</td><td>Unknown              </td><td>Western Meadowlark    </td><td>Grassland    </td><td>Insects      </td><td>Ground  </td><td>Ground Forager </td><td>Passeriformes  </td><td>Icteridae   </td></tr>\n",
              "\t<tr><td>1413</td><td>2011-06-05</td><td>10:03:00</td><td>10:13:00</td><td>NA</td><td> 23</td><td>Debbie Leick   </td><td>NA</td><td>NA</td><td>NA</td><td>⋯</td><td>1           </td><td>8</td><td>Draw (conifer canopy)</td><td>Western Tanager       </td><td>Forest       </td><td>Insects      </td><td>Tree    </td><td>Foliage Gleaner</td><td>Passeriformes  </td><td>Cardinalidae</td></tr>\n",
              "\t<tr><td>1413</td><td>2011-06-05</td><td>10:03:00</td><td>10:13:00</td><td>NA</td><td> 23</td><td>Debbie Leick   </td><td>NA</td><td>NA</td><td>NA</td><td>⋯</td><td>1           </td><td>1</td><td>Open grassland       </td><td>Vesper Sparrow        </td><td>Grassland    </td><td>Insects      </td><td>Ground  </td><td>Ground Forager </td><td>Passeriformes  </td><td>Emberizidae </td></tr>\n",
              "\t<tr><td>1413</td><td>2011-06-05</td><td>10:03:00</td><td>10:13:00</td><td>NA</td><td> 23</td><td>Debbie Leick   </td><td>NA</td><td>NA</td><td>NA</td><td>⋯</td><td>1           </td><td>1</td><td>Open grassland       </td><td>Vesper Sparrow        </td><td>Grassland    </td><td>Insects      </td><td>Ground  </td><td>Ground Forager </td><td>Passeriformes  </td><td>Emberizidae </td></tr>\n",
              "\t<tr><td>1413</td><td>2011-06-05</td><td>10:03:00</td><td>10:13:00</td><td>NA</td><td> 23</td><td>Debbie Leick   </td><td>NA</td><td>NA</td><td>NA</td><td>⋯</td><td>1           </td><td>9</td><td>Draw (shrubs)        </td><td>Orange-crowned Warbler</td><td>Forest       </td><td>Insects      </td><td>Ground  </td><td>Foliage Gleaner</td><td>Passeriformes  </td><td>Parulidae   </td></tr>\n",
              "\t<tr><td>1413</td><td>2011-06-05</td><td>10:03:00</td><td>10:13:00</td><td>NA</td><td> 23</td><td>Debbie Leick   </td><td>NA</td><td>NA</td><td>NA</td><td>⋯</td><td>1           </td><td>F</td><td>Flyover              </td><td>Brown-headed Cowbird  </td><td>Grassland    </td><td>Seeds        </td><td>Tree    </td><td>Ground Forager </td><td>Passeriformes  </td><td>Icteridae   </td></tr>\n",
              "\t<tr><td>1413</td><td>2011-06-05</td><td>10:03:00</td><td>10:13:00</td><td>NA</td><td> 23</td><td>Debbie Leick   </td><td>NA</td><td>NA</td><td>NA</td><td>⋯</td><td>1           </td><td>8</td><td>Draw (conifer canopy)</td><td>Northern Flicker      </td><td>Open Woodland</td><td>Insects      </td><td>Cavity  </td><td>Ground Forager </td><td>Piciformes     </td><td>Picidae     </td></tr>\n",
              "\t<tr><td>1413</td><td>2011-06-05</td><td>10:03:00</td><td>10:13:00</td><td>NA</td><td> 23</td><td>Debbie Leick   </td><td>NA</td><td>NA</td><td>NA</td><td>⋯</td><td>1           </td><td>U</td><td>Unknown              </td><td>Western Meadowlark    </td><td>Grassland    </td><td>Insects      </td><td>Ground  </td><td>Ground Forager </td><td>Passeriformes  </td><td>Icteridae   </td></tr>\n",
              "\t<tr><td>⋮</td><td>⋮</td><td>⋮</td><td>⋮</td><td>⋮</td><td>⋮</td><td>⋮</td><td>⋮</td><td>⋮</td><td>⋮</td><td>⋱</td><td>⋮</td><td>⋮</td><td>⋮</td><td>⋮</td><td>⋮</td><td>⋮</td><td>⋮</td><td>⋮</td><td>⋮</td><td>⋮</td></tr>\n",
              "\t<tr><td> 5742</td><td>2014-06-11</td><td>09:34:00</td><td>09:44:00</td><td> 1</td><td>224</td><td>Katharine Stone</td><td>NA</td><td>NA</td><td>NA</td><td>⋯</td><td>Before survey</td><td>9 </td><td>Draw (shrubs)        </td><td>American Kestrel      </td><td>Open Woodland</td><td>Insects </td><td>Cavity</td><td>Soaring        </td><td>Falconiformes</td><td>Falconidae   </td></tr>\n",
              "\t<tr><td> 5742</td><td>2014-06-11</td><td>09:34:00</td><td>09:44:00</td><td> 1</td><td>224</td><td>Katharine Stone</td><td>NA</td><td>NA</td><td>NA</td><td>⋯</td><td>Before survey</td><td>U </td><td>Unknown              </td><td>Black-billed Magpie   </td><td>Open Woodland</td><td>Omnivore</td><td>Tree  </td><td>Ground Forager </td><td>Passeriformes</td><td>Corvidae     </td></tr>\n",
              "\t<tr><td> 9227</td><td>2015-07-06</td><td>      NA</td><td>      NA</td><td>NA</td><td> 10</td><td>Amy Seaman     </td><td>NA</td><td>NA</td><td>NA</td><td>⋯</td><td>1            </td><td>8 </td><td>Draw (conifer canopy)</td><td>Black-capped Chickadee</td><td>Forest       </td><td>Insects </td><td>Cavity</td><td>Foliage Gleaner</td><td>Passeriformes</td><td>Paridae      </td></tr>\n",
              "\t<tr><td> 9227</td><td>2015-07-06</td><td>      NA</td><td>      NA</td><td>NA</td><td> 10</td><td>Amy Seaman     </td><td>NA</td><td>NA</td><td>NA</td><td>⋯</td><td>1            </td><td>U </td><td>Unknown              </td><td>Vesper Sparrow        </td><td>Grassland    </td><td>Insects </td><td>Ground</td><td>Ground Forager </td><td>Passeriformes</td><td>Emberizidae  </td></tr>\n",
              "\t<tr><td> 9227</td><td>2015-07-06</td><td>      NA</td><td>      NA</td><td>NA</td><td> 10</td><td>Amy Seaman     </td><td>NA</td><td>NA</td><td>NA</td><td>⋯</td><td>1            </td><td>8 </td><td>Draw (conifer canopy)</td><td>Spotted Towhee        </td><td>Scrub        </td><td>Omnivore</td><td>Ground</td><td>Ground Forager </td><td>Passeriformes</td><td>Emberizidae  </td></tr>\n",
              "\t<tr><td> 9227</td><td>2015-07-06</td><td>      NA</td><td>      NA</td><td>NA</td><td> 10</td><td>Amy Seaman     </td><td>NA</td><td>NA</td><td>NA</td><td>⋯</td><td>1            </td><td>8 </td><td>Draw (conifer canopy)</td><td>Red-breasted Nuthatch </td><td>Forest       </td><td>Insects </td><td>Cavity</td><td>Bark Forager   </td><td>Passeriformes</td><td>Sittidae     </td></tr>\n",
              "\t<tr><td> 9227</td><td>2015-07-06</td><td>      NA</td><td>      NA</td><td>NA</td><td> 10</td><td>Amy Seaman     </td><td>NA</td><td>NA</td><td>NA</td><td>⋯</td><td>1            </td><td>17</td><td>Deciduous Shrub      </td><td>Lazuli Bunting        </td><td>Open Woodland</td><td>Insects </td><td>Shrub </td><td>Foliage Gleaner</td><td>Passeriformes</td><td>Cardinalidae </td></tr>\n",
              "\t<tr><td> 9227</td><td>2015-07-06</td><td>      NA</td><td>      NA</td><td>NA</td><td> 10</td><td>Amy Seaman     </td><td>NA</td><td>NA</td><td>NA</td><td>⋯</td><td>1            </td><td>8 </td><td>Draw (conifer canopy)</td><td>Black-capped Chickadee</td><td>Forest       </td><td>Insects </td><td>Cavity</td><td>Foliage Gleaner</td><td>Passeriformes</td><td>Paridae      </td></tr>\n",
              "\t<tr><td> 9227</td><td>2015-07-06</td><td>      NA</td><td>      NA</td><td>NA</td><td> 10</td><td>Amy Seaman     </td><td>NA</td><td>NA</td><td>NA</td><td>⋯</td><td>1            </td><td>8 </td><td>Draw (conifer canopy)</td><td>Western Tanager       </td><td>Forest       </td><td>Insects </td><td>Tree  </td><td>Foliage Gleaner</td><td>Passeriformes</td><td>Cardinalidae </td></tr>\n",
              "\t<tr><td> 9227</td><td>2015-07-06</td><td>      NA</td><td>      NA</td><td>NA</td><td> 10</td><td>Amy Seaman     </td><td>NA</td><td>NA</td><td>NA</td><td>⋯</td><td>1            </td><td>8 </td><td>Draw (conifer canopy)</td><td>Northern Flicker      </td><td>Open Woodland</td><td>Insects </td><td>Cavity</td><td>Ground Forager </td><td>Piciformes   </td><td>Picidae      </td></tr>\n",
              "\t<tr><td> 9227</td><td>2015-07-06</td><td>      NA</td><td>      NA</td><td>NA</td><td> 10</td><td>Amy Seaman     </td><td>NA</td><td>NA</td><td>NA</td><td>⋯</td><td>1            </td><td>8 </td><td>Draw (conifer canopy)</td><td>Brown-headed Cowbird  </td><td>Grassland    </td><td>Seeds   </td><td>Tree  </td><td>Ground Forager </td><td>Passeriformes</td><td>Icteridae    </td></tr>\n",
              "\t<tr><td> 9227</td><td>2015-07-06</td><td>      NA</td><td>      NA</td><td>NA</td><td> 10</td><td>Amy Seaman     </td><td>NA</td><td>NA</td><td>NA</td><td>⋯</td><td>1            </td><td>8 </td><td>Draw (conifer canopy)</td><td>Mourning Dove         </td><td>Open Woodland</td><td>Seeds   </td><td>Tree  </td><td>Ground Forager </td><td>Columbiformes</td><td>Columbidae   </td></tr>\n",
              "\t<tr><td> 9227</td><td>2015-07-06</td><td>      NA</td><td>      NA</td><td>NA</td><td> 10</td><td>Amy Seaman     </td><td>NA</td><td>NA</td><td>NA</td><td>⋯</td><td>1            </td><td>8 </td><td>Draw (conifer canopy)</td><td>House Wren            </td><td>Open Woodland</td><td>Insects </td><td>Cavity</td><td>Foliage Gleaner</td><td>Passeriformes</td><td>Troglodytidae</td></tr>\n",
              "\t<tr><td> 9227</td><td>2015-07-06</td><td>      NA</td><td>      NA</td><td>NA</td><td> 10</td><td>Amy Seaman     </td><td>NA</td><td>NA</td><td>NA</td><td>⋯</td><td>1            </td><td>17</td><td>Deciduous Shrub      </td><td>Dusky Flycatcher      </td><td>Open Woodland</td><td>Insects </td><td>Shrub </td><td>Flycatching    </td><td>Passeriformes</td><td>Tyrannidae   </td></tr>\n",
              "\t<tr><td> 9227</td><td>2015-07-06</td><td>      NA</td><td>      NA</td><td>NA</td><td> 10</td><td>Amy Seaman     </td><td>NA</td><td>NA</td><td>NA</td><td>⋯</td><td>1            </td><td>4 </td><td>Bitterbrush          </td><td>Vesper Sparrow        </td><td>Grassland    </td><td>Insects </td><td>Ground</td><td>Ground Forager </td><td>Passeriformes</td><td>Emberizidae  </td></tr>\n",
              "\t<tr><td> 9227</td><td>2015-07-06</td><td>      NA</td><td>      NA</td><td>NA</td><td> 10</td><td>Amy Seaman     </td><td>NA</td><td>NA</td><td>NA</td><td>⋯</td><td>1            </td><td>8 </td><td>Draw (conifer canopy)</td><td>Downy Woodpecker      </td><td>Forest       </td><td>Insects </td><td>Cavity</td><td>Bark Forager   </td><td>Piciformes   </td><td>Picidae      </td></tr>\n",
              "\t<tr><td> 9227</td><td>2015-07-06</td><td>      NA</td><td>      NA</td><td>NA</td><td> 10</td><td>Amy Seaman     </td><td>NA</td><td>NA</td><td>NA</td><td>⋯</td><td>1            </td><td>8 </td><td>Draw (conifer canopy)</td><td>Red-breasted Nuthatch </td><td>Forest       </td><td>Insects </td><td>Cavity</td><td>Bark Forager   </td><td>Passeriformes</td><td>Sittidae     </td></tr>\n",
              "\t<tr><td> 9227</td><td>2015-07-06</td><td>      NA</td><td>      NA</td><td>NA</td><td> 10</td><td>Amy Seaman     </td><td>NA</td><td>NA</td><td>NA</td><td>⋯</td><td>1            </td><td>8 </td><td>Draw (conifer canopy)</td><td>Lazuli Bunting        </td><td>Open Woodland</td><td>Insects </td><td>Shrub </td><td>Foliage Gleaner</td><td>Passeriformes</td><td>Cardinalidae </td></tr>\n",
              "\t<tr><td> 9227</td><td>2015-07-06</td><td>      NA</td><td>      NA</td><td>NA</td><td> 10</td><td>Amy Seaman     </td><td>NA</td><td>NA</td><td>NA</td><td>⋯</td><td>1            </td><td>4 </td><td>Bitterbrush          </td><td>Vesper Sparrow        </td><td>Grassland    </td><td>Insects </td><td>Ground</td><td>Ground Forager </td><td>Passeriformes</td><td>Emberizidae  </td></tr>\n",
              "\t<tr><td> 9227</td><td>2015-07-06</td><td>      NA</td><td>      NA</td><td>NA</td><td> 10</td><td>Amy Seaman     </td><td>NA</td><td>NA</td><td>NA</td><td>⋯</td><td>2            </td><td>8 </td><td>Draw (conifer canopy)</td><td>American Robin        </td><td>Open Woodland</td><td>Insects </td><td>Tree  </td><td>Ground Forager </td><td>Passeriformes</td><td>Turdidae     </td></tr>\n",
              "\t<tr><td> 9227</td><td>2015-07-06</td><td>      NA</td><td>      NA</td><td>NA</td><td> 10</td><td>Amy Seaman     </td><td>NA</td><td>NA</td><td>NA</td><td>⋯</td><td>2            </td><td>F </td><td>Flyover              </td><td>Mourning Dove         </td><td>Open Woodland</td><td>Seeds   </td><td>Tree  </td><td>Ground Forager </td><td>Columbiformes</td><td>Columbidae   </td></tr>\n",
              "\t<tr><td> 9227</td><td>2015-07-06</td><td>      NA</td><td>      NA</td><td>NA</td><td> 10</td><td>Amy Seaman     </td><td>NA</td><td>NA</td><td>NA</td><td>⋯</td><td>2            </td><td>U </td><td>Unknown              </td><td>Spotted Towhee        </td><td>Scrub        </td><td>Omnivore</td><td>Ground</td><td>Ground Forager </td><td>Passeriformes</td><td>Emberizidae  </td></tr>\n",
              "\t<tr><td> 9227</td><td>2015-07-06</td><td>      NA</td><td>      NA</td><td>NA</td><td> 10</td><td>Amy Seaman     </td><td>NA</td><td>NA</td><td>NA</td><td>⋯</td><td>2            </td><td>U </td><td>Unknown              </td><td>Black-capped Chickadee</td><td>Forest       </td><td>Insects </td><td>Cavity</td><td>Foliage Gleaner</td><td>Passeriformes</td><td>Paridae      </td></tr>\n",
              "\t<tr><td>20798</td><td>2016-06-30</td><td>08:28:00</td><td>08:39:00</td><td> 2</td><td>205</td><td>Deb Goslin     </td><td>NA</td><td> 1</td><td> 1</td><td>⋯</td><td>1            </td><td>1 </td><td>Open grassland       </td><td>Vesper Sparrow        </td><td>Grassland    </td><td>Insects </td><td>Ground</td><td>Ground Forager </td><td>Passeriformes</td><td>Emberizidae  </td></tr>\n",
              "\t<tr><td>20798</td><td>2016-06-30</td><td>08:28:00</td><td>08:39:00</td><td> 2</td><td>205</td><td>Deb Goslin     </td><td>NA</td><td> 1</td><td> 1</td><td>⋯</td><td>1            </td><td>1 </td><td>Open grassland       </td><td>Western Meadowlark    </td><td>Grassland    </td><td>Insects </td><td>Ground</td><td>Ground Forager </td><td>Passeriformes</td><td>Icteridae    </td></tr>\n",
              "\t<tr><td>20798</td><td>2016-06-30</td><td>08:28:00</td><td>08:39:00</td><td> 2</td><td>205</td><td>Deb Goslin     </td><td>NA</td><td> 1</td><td> 1</td><td>⋯</td><td>1            </td><td>1 </td><td>Open grassland       </td><td>Unknown Hummingbird   </td><td>NA           </td><td>NA      </td><td>NA    </td><td>NA             </td><td>NA           </td><td>NA           </td></tr>\n",
              "\t<tr><td>20798</td><td>2016-06-30</td><td>08:28:00</td><td>08:39:00</td><td> 2</td><td>205</td><td>Deb Goslin     </td><td>NA</td><td> 1</td><td> 1</td><td>⋯</td><td>1            </td><td>1 </td><td>Open grassland       </td><td>Western Meadowlark    </td><td>Grassland    </td><td>Insects </td><td>Ground</td><td>Ground Forager </td><td>Passeriformes</td><td>Icteridae    </td></tr>\n",
              "\t<tr><td>20798</td><td>2016-06-30</td><td>08:28:00</td><td>08:39:00</td><td> 2</td><td>205</td><td>Deb Goslin     </td><td>NA</td><td> 1</td><td> 1</td><td>⋯</td><td>1            </td><td>1 </td><td>Open grassland       </td><td>Western Meadowlark    </td><td>Grassland    </td><td>Insects </td><td>Ground</td><td>Ground Forager </td><td>Passeriformes</td><td>Icteridae    </td></tr>\n",
              "\t<tr><td>20798</td><td>2016-06-30</td><td>08:28:00</td><td>08:39:00</td><td> 2</td><td>205</td><td>Deb Goslin     </td><td>NA</td><td> 1</td><td> 1</td><td>⋯</td><td>1            </td><td>1 </td><td>Open grassland       </td><td>Vesper Sparrow        </td><td>Grassland    </td><td>Insects </td><td>Ground</td><td>Ground Forager </td><td>Passeriformes</td><td>Emberizidae  </td></tr>\n",
              "\t<tr><td>20798</td><td>2016-06-30</td><td>08:28:00</td><td>08:39:00</td><td> 2</td><td>205</td><td>Deb Goslin     </td><td>NA</td><td> 1</td><td> 1</td><td>⋯</td><td>2            </td><td>1 </td><td>Open grassland       </td><td>Vesper Sparrow        </td><td>Grassland    </td><td>Insects </td><td>Ground</td><td>Ground Forager </td><td>Passeriformes</td><td>Emberizidae  </td></tr>\n",
              "</tbody>\n",
              "</table>\n"
            ]
          },
          "metadata": {
            "tags": []
          }
        }
      ]
    },
    {
      "cell_type": "markdown",
      "metadata": {
        "id": "4XdK7m5Id_25",
        "colab_type": "text"
      },
      "source": [
        "# Output"
      ]
    },
    {
      "cell_type": "code",
      "metadata": {
        "id": "aqi52aiweBBM",
        "colab_type": "code",
        "colab": {}
      },
      "source": [
        "# last output 2020-05-19 by esamsoe\n",
        "# output = 'bird_surveyInfo_records_function.csv'\n",
        "# write_csv(df, path = output)"
      ],
      "execution_count": 0,
      "outputs": []
    },
    {
      "cell_type": "markdown",
      "metadata": {
        "id": "FpK_WTpcRDqY",
        "colab_type": "text"
      },
      "source": [
        "# Notes"
      ]
    },
    {
      "cell_type": "markdown",
      "metadata": {
        "id": "ZJw0924pRFqC",
        "colab_type": "text"
      },
      "source": [
        "Attempting to upload this CSV into BigQuery results in \n",
        "* \"Error executing job\" \n",
        "* \"Error while reading data, error message: CSV table encountered too many errors, giving up. Rows: 12912; errors: 1. Please look into the errors[] collection for more details.\"\n",
        "* \"Error while reading data, error message: Could not parse 'NA' as INT64 for field survey_wind_code (position 7) starting at location 2652793\""
      ]
    },
    {
      "cell_type": "markdown",
      "metadata": {
        "id": "mk8tGzXlRtfu",
        "colab_type": "text"
      },
      "source": [
        "To parse the CSV correctly refer to [bq load syntax](https://docs.google.com/document/d/1nCl_sbl2Eac9Qb3bZymdRJl3voXC4lPUqBeyLZRlwow/edit?usp=sharing)"
      ]
    }
  ]
}