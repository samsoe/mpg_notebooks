{
  "nbformat": 4,
  "nbformat_minor": 0,
  "metadata": {
    "colab": {
      "name": "Bird point count monitoring - Wrangle.ipynb",
      "provenance": [],
      "collapsed_sections": [
        "TLobp50F2E-A"
      ],
      "toc_visible": true,
      "include_colab_link": true
    },
    "language_info": {
      "codemirror_mode": "r",
      "file_extension": ".r",
      "mimetype": "text/x-r-source",
      "name": "R",
      "pygments_lexer": "r",
      "version": "3.3.1"
    },
    "kernelspec": {
      "display_name": "R",
      "language": "R",
      "name": "ir"
    }
  },
  "cells": [
    {
      "cell_type": "markdown",
      "metadata": {
        "id": "view-in-github",
        "colab_type": "text"
      },
      "source": [
        "<a href=\"https://colab.research.google.com/github/samsoe/mpg_notebooks/blob/master/Bird_point_count_monitoring_Wrangle.ipynb\" target=\"_parent\"><img src=\"https://colab.research.google.com/assets/colab-badge.svg\" alt=\"Open In Colab\"/></a>"
      ]
    },
    {
      "cell_type": "markdown",
      "metadata": {
        "id": "BhOI1uU2Koum",
        "colab_type": "text"
      },
      "source": [
        "Documentation: [Readme bird point count monitoring](https://drive.google.com/open?id=1PRryJzGOUtfr-fKXzb3tbr48xiaTuAMVk18XFXlvxcM)"
      ]
    },
    {
      "cell_type": "markdown",
      "metadata": {
        "id": "TLobp50F2E-A",
        "colab_type": "text"
      },
      "source": [
        "# Tools"
      ]
    },
    {
      "cell_type": "code",
      "metadata": {
        "id": "KPYncmNT2F02",
        "colab_type": "code",
        "colab": {}
      },
      "source": [
        "library(tidyverse)\n",
        "library(lubridate)"
      ],
      "execution_count": 0,
      "outputs": []
    },
    {
      "cell_type": "code",
      "metadata": {
        "id": "izwy-knBjxUZ",
        "colab_type": "code",
        "colab": {}
      },
      "source": [
        "# utilitize replace_with_na function\n",
        "install.packages(\"naniar\")\n",
        "library(naniar)"
      ],
      "execution_count": 0,
      "outputs": []
    },
    {
      "cell_type": "markdown",
      "metadata": {
        "id": "3EWaAwvC128N",
        "colab_type": "text"
      },
      "source": [
        "# Source"
      ]
    },
    {
      "cell_type": "code",
      "metadata": {
        "id": "11ka8_2DrwQm",
        "colab_type": "code",
        "colab": {}
      },
      "source": [
        "# 2020-05-15_bird_surveyInfo_records_function.csv\n",
        "src = \"https://drive.google.com/uc?id=1Cmo8e2H0Td2pWXrB4-_YHwdmUJP2Isnj\""
      ],
      "execution_count": 0,
      "outputs": []
    },
    {
      "cell_type": "code",
      "metadata": {
        "id": "OL9Qk56c2AcF",
        "colab_type": "code",
        "colab": {}
      },
      "source": [
        "df <- read.csv(src, stringsAsFactors = FALSE)"
      ],
      "execution_count": 0,
      "outputs": []
    },
    {
      "cell_type": "markdown",
      "metadata": {
        "id": "xH3mV9-pRwYE",
        "colab_type": "text"
      },
      "source": [
        "# Rename Columns"
      ]
    },
    {
      "cell_type": "markdown",
      "metadata": {
        "id": "uNyXXJd5R2QB",
        "colab_type": "text"
      },
      "source": [
        "Update column values to [DB Schema](https://docs.google.com/document/d/1PRryJzGOUtfr-fKXzb3tbr48xiaTuAMVk18XFXlvxcM/edit#heading=h.5inr0hjz4m4m) "
      ]
    },
    {
      "cell_type": "code",
      "metadata": {
        "id": "MB0AH2w0T2Lw",
        "colab_type": "code",
        "colab": {}
      },
      "source": [
        "new_names <- c('survey_ID', 'survey_date', 'survey_time_start_MDT', 'survey_time_end_MDT', 'survey_visit', \n",
        "              'survey_grid_point', 'survey_observer', 'survey_wind_code', 'survey_sky_code',\n",
        "              'survey_noise_code', 'survey_temperature_F', 'records_ID', 'records_spe_code', \n",
        "              'records_abundance', 'records_sex', 'records_detect_song', 'records_detect_call', \n",
        "              'records_detect_visual', 'records_detect_other', 'records_detect_distance_min_meters', \n",
        "              'records_interval', 'records_location_code', 'habitat_location_description', \n",
        "              'function_spe_name_common', 'function_habitat_preference', 'function_food_preference', \n",
        "              'function_nesting_behavior', 'function_feeding_behavior', \n",
        "              'function_taxa_order', 'function_taxa_family')\n",
        "\n",
        "df <- setNames(df, new_names)"
      ],
      "execution_count": 0,
      "outputs": []
    },
    {
      "cell_type": "markdown",
      "metadata": {
        "id": "cegvbANK2dSq",
        "colab_type": "text"
      },
      "source": [
        "# Clean"
      ]
    },
    {
      "cell_type": "code",
      "metadata": {
        "id": "DnPebpZt2KuZ",
        "colab_type": "code",
        "colab": {
          "base_uri": "https://localhost:8080/",
          "height": 564
        },
        "outputId": "df9c539c-934c-4c77-f681-0327d141c9a2"
      },
      "source": [
        "str(df)"
      ],
      "execution_count": 30,
      "outputs": [
        {
          "output_type": "stream",
          "text": [
            "'data.frame':\t117911 obs. of  30 variables:\n",
            " $ survey_ID                         : int  1 1 1 1 1 1 1 1 1 1 ...\n",
            " $ survey_date                       : chr  \"2010-05-31\" \"2010-05-31\" \"2010-05-31\" \"2010-05-31\" ...\n",
            " $ survey_time_start_MDT             : int  709 709 709 709 709 709 709 709 709 709 ...\n",
            " $ survey_time_end_MDT               : int  719 719 719 719 719 719 719 719 719 719 ...\n",
            " $ survey_visit                      : int  1 1 1 1 1 1 1 1 1 1 ...\n",
            " $ survey_grid_point                 : int  476 476 476 476 476 476 476 476 476 476 ...\n",
            " $ survey_observer                   : chr  \"Eric Rasmussen\" \"Eric Rasmussen\" \"Eric Rasmussen\" \"Eric Rasmussen\" ...\n",
            " $ survey_wind_code                  : int  1 1 1 1 1 1 1 1 1 1 ...\n",
            " $ survey_sky_code                   : int  2 2 2 2 2 2 2 2 2 2 ...\n",
            " $ survey_noise_code                 : int  2 2 2 2 2 2 2 2 2 2 ...\n",
            " $ survey_temperature_F              : int  50 50 50 50 50 50 50 50 50 50 ...\n",
            " $ records_ID                        : int  1 2 3 4 5 6 7 8 9 10 ...\n",
            " $ records_spe_code                  : chr  \"TRES\" \"BAEA\" \"LEFL\" \"SPSA\" ...\n",
            " $ records_abundance                 : int  4 1 1 2 1 1 1 1 1 1 ...\n",
            " $ records_sex                       : chr  \"Unknown\" \"Unknown\" \"Male\" \"Unknown\" ...\n",
            " $ records_detect_song               : int  0 0 1 0 1 1 1 1 1 1 ...\n",
            " $ records_detect_call               : int  1 0 0 1 0 0 0 0 0 0 ...\n",
            " $ records_detect_visual             : int  1 0 0 0 0 0 0 0 0 0 ...\n",
            " $ records_detect_other              : chr  \"\" \"\" \"\" \"\" ...\n",
            " $ records_detect_distance_min_meters: int  10 150 50 75 45 100 80 125 400 70 ...\n",
            " $ records_interval                  : chr  \"1\" \"1\" \"1\" \"1\" ...\n",
            " $ records_location_code             : chr  \"0\" \"0\" \"0\" \"0\" ...\n",
            " $ habitat_location_description      : chr  \"River-bottom forest\" \"River-bottom forest\" \"River-bottom forest\" \"River-bottom forest\" ...\n",
            " $ function_spe_name_common          : chr  \"Tree Swallow\" \"Bald Eagle\" \"Least Flycatcher\" \"Spotted Sandpiper\" ...\n",
            " $ function_habitat_preference       : chr  \"Lake/Pond\" \"Forest\" \"Forest\" \"Shoreline\" ...\n",
            " $ function_food_preference          : chr  \"Insects\" \"Fish\" \"Insects\" \"Small Animals\" ...\n",
            " $ function_nesting_behavior         : chr  \"Cavity\" \"Tree\" \"Tree\" \"Ground\" ...\n",
            " $ function_feeding_behavior         : chr  \"Aerial Forager\" \"Soaring\" \"Flycatching\" \"Probing\" ...\n",
            " $ function_taxa_order               : chr  \"Passeriformes\" \"Accipitriformes\" \"Passeriformes\" \"Charadriiformes\" ...\n",
            " $ function_taxa_family              : chr  \"Hirundinidae\" \"Accipitridae\" \"Tyrannidae\" \"Scolopacidae\" ...\n"
          ],
          "name": "stdout"
        }
      ]
    },
    {
      "cell_type": "markdown",
      "metadata": {
        "id": "2Ope5kK04MAW",
        "colab_type": "text"
      },
      "source": [
        "## records_sex"
      ]
    },
    {
      "cell_type": "markdown",
      "metadata": {
        "id": "1gsPtiKi4WFf",
        "colab_type": "text"
      },
      "source": [
        "In variable `sex`, limit data to c(\"Female\", \"Male\", \"Unknown\"). Correct typo and capitalization errors."
      ]
    },
    {
      "cell_type": "code",
      "metadata": {
        "id": "OESZYtEg34NQ",
        "colab_type": "code",
        "colab": {
          "base_uri": "https://localhost:8080/",
          "height": 267
        },
        "outputId": "16ca6cfc-91b2-41b5-a423-f99f02c4fba1"
      },
      "source": [
        "# Show unique values\n",
        "fct_count(df$records_sex)"
      ],
      "execution_count": 31,
      "outputs": [
        {
          "output_type": "display_data",
          "data": {
            "text/plain": [
              "  f       n    \n",
              "1             1\n",
              "2 1           2\n",
              "3 Female   1869\n",
              "4 M           1\n",
              "5 male        5\n",
              "6 Male    80968\n",
              "7 MaMe        1\n",
              "8 unknown     5\n",
              "9 Unknown 35059"
            ],
            "text/latex": "A tibble: 9 × 2\n\\begin{tabular}{ll}\n f & n\\\\\n <fct> & <int>\\\\\n\\hline\n\t         &     1\\\\\n\t 1       &     2\\\\\n\t Female  &  1869\\\\\n\t M       &     1\\\\\n\t male    &     5\\\\\n\t Male    & 80968\\\\\n\t MaMe    &     1\\\\\n\t unknown &     5\\\\\n\t Unknown & 35059\\\\\n\\end{tabular}\n",
            "text/markdown": "\nA tibble: 9 × 2\n\n| f &lt;fct&gt; | n &lt;int&gt; |\n|---|---|\n| <!----> |     1 |\n| 1       |     2 |\n| Female  |  1869 |\n| M       |     1 |\n| male    |     5 |\n| Male    | 80968 |\n| MaMe    |     1 |\n| unknown |     5 |\n| Unknown | 35059 |\n\n",
            "text/html": [
              "<table>\n",
              "<caption>A tibble: 9 × 2</caption>\n",
              "<thead>\n",
              "\t<tr><th scope=col>f</th><th scope=col>n</th></tr>\n",
              "\t<tr><th scope=col>&lt;fct&gt;</th><th scope=col>&lt;int&gt;</th></tr>\n",
              "</thead>\n",
              "<tbody>\n",
              "\t<tr><td>       </td><td>    1</td></tr>\n",
              "\t<tr><td>1      </td><td>    2</td></tr>\n",
              "\t<tr><td>Female </td><td> 1869</td></tr>\n",
              "\t<tr><td>M      </td><td>    1</td></tr>\n",
              "\t<tr><td>male   </td><td>    5</td></tr>\n",
              "\t<tr><td>Male   </td><td>80968</td></tr>\n",
              "\t<tr><td>MaMe   </td><td>    1</td></tr>\n",
              "\t<tr><td>unknown</td><td>    5</td></tr>\n",
              "\t<tr><td>Unknown</td><td>35059</td></tr>\n",
              "</tbody>\n",
              "</table>\n"
            ]
          },
          "metadata": {
            "tags": []
          }
        }
      ]
    },
    {
      "cell_type": "code",
      "metadata": {
        "id": "r4Y8fuEE7SZr",
        "colab_type": "code",
        "colab": {
          "base_uri": "https://localhost:8080/",
          "height": 393
        },
        "outputId": "af0a1937-90ad-4dd9-996e-9175249b9174"
      },
      "source": [
        "# Display deviants\n",
        "df %>%\n",
        "  select(survey_date, records_sex) %>%\n",
        "  filter(records_sex != \"Female\" & \n",
        "         records_sex != \"Male\" & \n",
        "         records_sex != \"Unknown\")"
      ],
      "execution_count": 32,
      "outputs": [
        {
          "output_type": "display_data",
          "data": {
            "text/plain": [
              "   survey_date records_sex\n",
              "1  2010-06-25  unknown    \n",
              "2  2011-07-01  unknown    \n",
              "3  2012-07-11  male       \n",
              "4  2013-06-17  unknown    \n",
              "5  2013-06-18  unknown    \n",
              "6  2013-05-22  male       \n",
              "7  2013-05-17  male       \n",
              "8  2014-05-16  male       \n",
              "9  2014-06-14  MaMe       \n",
              "10 2015-05-21  unknown    \n",
              "11 2016-06-10  1          \n",
              "12 2016-06-30  1          \n",
              "13 2016-07-07             \n",
              "14 2019-06-20  male       \n",
              "15 2019-06-25  M          "
            ],
            "text/latex": "A data.frame: 15 × 2\n\\begin{tabular}{ll}\n survey\\_date & records\\_sex\\\\\n <chr> & <chr>\\\\\n\\hline\n\t 2010-06-25 & unknown\\\\\n\t 2011-07-01 & unknown\\\\\n\t 2012-07-11 & male   \\\\\n\t 2013-06-17 & unknown\\\\\n\t 2013-06-18 & unknown\\\\\n\t 2013-05-22 & male   \\\\\n\t 2013-05-17 & male   \\\\\n\t 2014-05-16 & male   \\\\\n\t 2014-06-14 & MaMe   \\\\\n\t 2015-05-21 & unknown\\\\\n\t 2016-06-10 & 1      \\\\\n\t 2016-06-30 & 1      \\\\\n\t 2016-07-07 &        \\\\\n\t 2019-06-20 & male   \\\\\n\t 2019-06-25 & M      \\\\\n\\end{tabular}\n",
            "text/markdown": "\nA data.frame: 15 × 2\n\n| survey_date &lt;chr&gt; | records_sex &lt;chr&gt; |\n|---|---|\n| 2010-06-25 | unknown |\n| 2011-07-01 | unknown |\n| 2012-07-11 | male    |\n| 2013-06-17 | unknown |\n| 2013-06-18 | unknown |\n| 2013-05-22 | male    |\n| 2013-05-17 | male    |\n| 2014-05-16 | male    |\n| 2014-06-14 | MaMe    |\n| 2015-05-21 | unknown |\n| 2016-06-10 | 1       |\n| 2016-06-30 | 1       |\n| 2016-07-07 | <!----> |\n| 2019-06-20 | male    |\n| 2019-06-25 | M       |\n\n",
            "text/html": [
              "<table>\n",
              "<caption>A data.frame: 15 × 2</caption>\n",
              "<thead>\n",
              "\t<tr><th scope=col>survey_date</th><th scope=col>records_sex</th></tr>\n",
              "\t<tr><th scope=col>&lt;chr&gt;</th><th scope=col>&lt;chr&gt;</th></tr>\n",
              "</thead>\n",
              "<tbody>\n",
              "\t<tr><td>2010-06-25</td><td>unknown</td></tr>\n",
              "\t<tr><td>2011-07-01</td><td>unknown</td></tr>\n",
              "\t<tr><td>2012-07-11</td><td>male   </td></tr>\n",
              "\t<tr><td>2013-06-17</td><td>unknown</td></tr>\n",
              "\t<tr><td>2013-06-18</td><td>unknown</td></tr>\n",
              "\t<tr><td>2013-05-22</td><td>male   </td></tr>\n",
              "\t<tr><td>2013-05-17</td><td>male   </td></tr>\n",
              "\t<tr><td>2014-05-16</td><td>male   </td></tr>\n",
              "\t<tr><td>2014-06-14</td><td>MaMe   </td></tr>\n",
              "\t<tr><td>2015-05-21</td><td>unknown</td></tr>\n",
              "\t<tr><td>2016-06-10</td><td>1      </td></tr>\n",
              "\t<tr><td>2016-06-30</td><td>1      </td></tr>\n",
              "\t<tr><td>2016-07-07</td><td>       </td></tr>\n",
              "\t<tr><td>2019-06-20</td><td>male   </td></tr>\n",
              "\t<tr><td>2019-06-25</td><td>M      </td></tr>\n",
              "</tbody>\n",
              "</table>\n"
            ]
          },
          "metadata": {
            "tags": []
          }
        }
      ]
    },
    {
      "cell_type": "code",
      "metadata": {
        "id": "xdu3antL2TcL",
        "colab_type": "code",
        "colab": {
          "base_uri": "https://localhost:8080/",
          "height": 225
        },
        "outputId": "756879d8-0406-48c3-873b-b11cc41bef7d"
      },
      "source": [
        "# Capitalize all values\n",
        "df <- df %>%\n",
        "  mutate(records_sex = str_to_title(records_sex))\n",
        "\n",
        "fct_count(df$records_sex)"
      ],
      "execution_count": 33,
      "outputs": [
        {
          "output_type": "display_data",
          "data": {
            "text/plain": [
              "  f       n    \n",
              "1             1\n",
              "2 1           2\n",
              "3 Female   1869\n",
              "4 M           1\n",
              "5 Male    80973\n",
              "6 Mame        1\n",
              "7 Unknown 35064"
            ],
            "text/latex": "A tibble: 7 × 2\n\\begin{tabular}{ll}\n f & n\\\\\n <fct> & <int>\\\\\n\\hline\n\t         &     1\\\\\n\t 1       &     2\\\\\n\t Female  &  1869\\\\\n\t M       &     1\\\\\n\t Male    & 80973\\\\\n\t Mame    &     1\\\\\n\t Unknown & 35064\\\\\n\\end{tabular}\n",
            "text/markdown": "\nA tibble: 7 × 2\n\n| f &lt;fct&gt; | n &lt;int&gt; |\n|---|---|\n| <!----> |     1 |\n| 1       |     2 |\n| Female  |  1869 |\n| M       |     1 |\n| Male    | 80973 |\n| Mame    |     1 |\n| Unknown | 35064 |\n\n",
            "text/html": [
              "<table>\n",
              "<caption>A tibble: 7 × 2</caption>\n",
              "<thead>\n",
              "\t<tr><th scope=col>f</th><th scope=col>n</th></tr>\n",
              "\t<tr><th scope=col>&lt;fct&gt;</th><th scope=col>&lt;int&gt;</th></tr>\n",
              "</thead>\n",
              "<tbody>\n",
              "\t<tr><td>       </td><td>    1</td></tr>\n",
              "\t<tr><td>1      </td><td>    2</td></tr>\n",
              "\t<tr><td>Female </td><td> 1869</td></tr>\n",
              "\t<tr><td>M      </td><td>    1</td></tr>\n",
              "\t<tr><td>Male   </td><td>80973</td></tr>\n",
              "\t<tr><td>Mame   </td><td>    1</td></tr>\n",
              "\t<tr><td>Unknown</td><td>35064</td></tr>\n",
              "</tbody>\n",
              "</table>\n"
            ]
          },
          "metadata": {
            "tags": []
          }
        }
      ]
    },
    {
      "cell_type": "code",
      "metadata": {
        "id": "i026UoV8-9Ui",
        "colab_type": "code",
        "colab": {}
      },
      "source": [
        "df <- df %>%\n",
        "  mutate(records_sex = ifelse(records_sex == \"M\", \"Male\",\n",
        "               ifelse(records_sex == \"Mame\", \"Male\",\n",
        "               ifelse(records_sex == 1, \"Unknown\",\n",
        "               ifelse(records_sex == \"\", \"Unknown\", records_sex)))))"
      ],
      "execution_count": 0,
      "outputs": []
    },
    {
      "cell_type": "code",
      "metadata": {
        "id": "kY_Y-1O4SC9X",
        "colab_type": "code",
        "colab": {
          "base_uri": "https://localhost:8080/",
          "height": 141
        },
        "outputId": "a121d73b-3478-4c23-d0a8-735a34ccd525"
      },
      "source": [
        "fct_count(df$records_sex)"
      ],
      "execution_count": 35,
      "outputs": [
        {
          "output_type": "display_data",
          "data": {
            "text/plain": [
              "  f       n    \n",
              "1 Female   1869\n",
              "2 Male    80975\n",
              "3 Unknown 35067"
            ],
            "text/latex": "A tibble: 3 × 2\n\\begin{tabular}{ll}\n f & n\\\\\n <fct> & <int>\\\\\n\\hline\n\t Female  &  1869\\\\\n\t Male    & 80975\\\\\n\t Unknown & 35067\\\\\n\\end{tabular}\n",
            "text/markdown": "\nA tibble: 3 × 2\n\n| f &lt;fct&gt; | n &lt;int&gt; |\n|---|---|\n| Female  |  1869 |\n| Male    | 80975 |\n| Unknown | 35067 |\n\n",
            "text/html": [
              "<table>\n",
              "<caption>A tibble: 3 × 2</caption>\n",
              "<thead>\n",
              "\t<tr><th scope=col>f</th><th scope=col>n</th></tr>\n",
              "\t<tr><th scope=col>&lt;fct&gt;</th><th scope=col>&lt;int&gt;</th></tr>\n",
              "</thead>\n",
              "<tbody>\n",
              "\t<tr><td>Female </td><td> 1869</td></tr>\n",
              "\t<tr><td>Male   </td><td>80975</td></tr>\n",
              "\t<tr><td>Unknown</td><td>35067</td></tr>\n",
              "</tbody>\n",
              "</table>\n"
            ]
          },
          "metadata": {
            "tags": []
          }
        }
      ]
    },
    {
      "cell_type": "markdown",
      "metadata": {
        "id": "XRj7RhPoEPqG",
        "colab_type": "text"
      },
      "source": [
        "## records_location_code"
      ]
    },
    {
      "cell_type": "markdown",
      "metadata": {
        "id": "yJ-0hUGNFDXv",
        "colab_type": "text"
      },
      "source": [
        "In variable `location_code`, capitalize instances of \"f\" and \"u\"."
      ]
    },
    {
      "cell_type": "code",
      "metadata": {
        "id": "A0Ol7vEDET2m",
        "colab_type": "code",
        "colab": {
          "base_uri": "https://localhost:8080/",
          "height": 578
        },
        "outputId": "e84b0d25-58eb-4553-a9e5-8c085e63277b"
      },
      "source": [
        "fct_count(df$records_location_code)"
      ],
      "execution_count": 36,
      "outputs": [
        {
          "output_type": "display_data",
          "data": {
            "text/plain": [
              "   f  n    \n",
              "1  0  11959\n",
              "2  1  18433\n",
              "3  10   141\n",
              "4  11  1452\n",
              "5  12   860\n",
              "6  13   783\n",
              "7  14   256\n",
              "8  15  5448\n",
              "9  16  8384\n",
              "10 17  1694\n",
              "11 18   133\n",
              "12 2   1216\n",
              "13 3   7345\n",
              "14 4  10066\n",
              "15 5  14013\n",
              "16 6   5218\n",
              "17 7   4506\n",
              "18 8   3793\n",
              "19 9   9372\n",
              "20 f      3\n",
              "21 F   4893\n",
              "22 u      2\n",
              "23 U   7941"
            ],
            "text/latex": "A tibble: 23 × 2\n\\begin{tabular}{ll}\n f & n\\\\\n <fct> & <int>\\\\\n\\hline\n\t 0  & 11959\\\\\n\t 1  & 18433\\\\\n\t 10 &   141\\\\\n\t 11 &  1452\\\\\n\t 12 &   860\\\\\n\t 13 &   783\\\\\n\t 14 &   256\\\\\n\t 15 &  5448\\\\\n\t 16 &  8384\\\\\n\t 17 &  1694\\\\\n\t 18 &   133\\\\\n\t 2  &  1216\\\\\n\t 3  &  7345\\\\\n\t 4  & 10066\\\\\n\t 5  & 14013\\\\\n\t 6  &  5218\\\\\n\t 7  &  4506\\\\\n\t 8  &  3793\\\\\n\t 9  &  9372\\\\\n\t f  &     3\\\\\n\t F  &  4893\\\\\n\t u  &     2\\\\\n\t U  &  7941\\\\\n\\end{tabular}\n",
            "text/markdown": "\nA tibble: 23 × 2\n\n| f &lt;fct&gt; | n &lt;int&gt; |\n|---|---|\n| 0  | 11959 |\n| 1  | 18433 |\n| 10 |   141 |\n| 11 |  1452 |\n| 12 |   860 |\n| 13 |   783 |\n| 14 |   256 |\n| 15 |  5448 |\n| 16 |  8384 |\n| 17 |  1694 |\n| 18 |   133 |\n| 2  |  1216 |\n| 3  |  7345 |\n| 4  | 10066 |\n| 5  | 14013 |\n| 6  |  5218 |\n| 7  |  4506 |\n| 8  |  3793 |\n| 9  |  9372 |\n| f  |     3 |\n| F  |  4893 |\n| u  |     2 |\n| U  |  7941 |\n\n",
            "text/html": [
              "<table>\n",
              "<caption>A tibble: 23 × 2</caption>\n",
              "<thead>\n",
              "\t<tr><th scope=col>f</th><th scope=col>n</th></tr>\n",
              "\t<tr><th scope=col>&lt;fct&gt;</th><th scope=col>&lt;int&gt;</th></tr>\n",
              "</thead>\n",
              "<tbody>\n",
              "\t<tr><td>0 </td><td>11959</td></tr>\n",
              "\t<tr><td>1 </td><td>18433</td></tr>\n",
              "\t<tr><td>10</td><td>  141</td></tr>\n",
              "\t<tr><td>11</td><td> 1452</td></tr>\n",
              "\t<tr><td>12</td><td>  860</td></tr>\n",
              "\t<tr><td>13</td><td>  783</td></tr>\n",
              "\t<tr><td>14</td><td>  256</td></tr>\n",
              "\t<tr><td>15</td><td> 5448</td></tr>\n",
              "\t<tr><td>16</td><td> 8384</td></tr>\n",
              "\t<tr><td>17</td><td> 1694</td></tr>\n",
              "\t<tr><td>18</td><td>  133</td></tr>\n",
              "\t<tr><td>2 </td><td> 1216</td></tr>\n",
              "\t<tr><td>3 </td><td> 7345</td></tr>\n",
              "\t<tr><td>4 </td><td>10066</td></tr>\n",
              "\t<tr><td>5 </td><td>14013</td></tr>\n",
              "\t<tr><td>6 </td><td> 5218</td></tr>\n",
              "\t<tr><td>7 </td><td> 4506</td></tr>\n",
              "\t<tr><td>8 </td><td> 3793</td></tr>\n",
              "\t<tr><td>9 </td><td> 9372</td></tr>\n",
              "\t<tr><td>f </td><td>    3</td></tr>\n",
              "\t<tr><td>F </td><td> 4893</td></tr>\n",
              "\t<tr><td>u </td><td>    2</td></tr>\n",
              "\t<tr><td>U </td><td> 7941</td></tr>\n",
              "</tbody>\n",
              "</table>\n"
            ]
          },
          "metadata": {
            "tags": []
          }
        }
      ]
    },
    {
      "cell_type": "code",
      "metadata": {
        "id": "wzDSpQu0Hbk_",
        "colab_type": "code",
        "colab": {}
      },
      "source": [
        "# Capitalize \"f\",\"u\"\n",
        "df <- df %>%\n",
        "  mutate(records_location_code = str_to_title(records_location_code))"
      ],
      "execution_count": 0,
      "outputs": []
    },
    {
      "cell_type": "code",
      "metadata": {
        "id": "tg6KQ929H-RR",
        "colab_type": "code",
        "colab": {
          "base_uri": "https://localhost:8080/",
          "height": 536
        },
        "outputId": "6864dc6b-3331-46cf-8e3a-41884d77452d"
      },
      "source": [
        "fct_count(df$records_location_code)"
      ],
      "execution_count": 38,
      "outputs": [
        {
          "output_type": "display_data",
          "data": {
            "text/plain": [
              "   f  n    \n",
              "1  0  11959\n",
              "2  1  18433\n",
              "3  10   141\n",
              "4  11  1452\n",
              "5  12   860\n",
              "6  13   783\n",
              "7  14   256\n",
              "8  15  5448\n",
              "9  16  8384\n",
              "10 17  1694\n",
              "11 18   133\n",
              "12 2   1216\n",
              "13 3   7345\n",
              "14 4  10066\n",
              "15 5  14013\n",
              "16 6   5218\n",
              "17 7   4506\n",
              "18 8   3793\n",
              "19 9   9372\n",
              "20 F   4896\n",
              "21 U   7943"
            ],
            "text/latex": "A tibble: 21 × 2\n\\begin{tabular}{ll}\n f & n\\\\\n <fct> & <int>\\\\\n\\hline\n\t 0  & 11959\\\\\n\t 1  & 18433\\\\\n\t 10 &   141\\\\\n\t 11 &  1452\\\\\n\t 12 &   860\\\\\n\t 13 &   783\\\\\n\t 14 &   256\\\\\n\t 15 &  5448\\\\\n\t 16 &  8384\\\\\n\t 17 &  1694\\\\\n\t 18 &   133\\\\\n\t 2  &  1216\\\\\n\t 3  &  7345\\\\\n\t 4  & 10066\\\\\n\t 5  & 14013\\\\\n\t 6  &  5218\\\\\n\t 7  &  4506\\\\\n\t 8  &  3793\\\\\n\t 9  &  9372\\\\\n\t F  &  4896\\\\\n\t U  &  7943\\\\\n\\end{tabular}\n",
            "text/markdown": "\nA tibble: 21 × 2\n\n| f &lt;fct&gt; | n &lt;int&gt; |\n|---|---|\n| 0  | 11959 |\n| 1  | 18433 |\n| 10 |   141 |\n| 11 |  1452 |\n| 12 |   860 |\n| 13 |   783 |\n| 14 |   256 |\n| 15 |  5448 |\n| 16 |  8384 |\n| 17 |  1694 |\n| 18 |   133 |\n| 2  |  1216 |\n| 3  |  7345 |\n| 4  | 10066 |\n| 5  | 14013 |\n| 6  |  5218 |\n| 7  |  4506 |\n| 8  |  3793 |\n| 9  |  9372 |\n| F  |  4896 |\n| U  |  7943 |\n\n",
            "text/html": [
              "<table>\n",
              "<caption>A tibble: 21 × 2</caption>\n",
              "<thead>\n",
              "\t<tr><th scope=col>f</th><th scope=col>n</th></tr>\n",
              "\t<tr><th scope=col>&lt;fct&gt;</th><th scope=col>&lt;int&gt;</th></tr>\n",
              "</thead>\n",
              "<tbody>\n",
              "\t<tr><td>0 </td><td>11959</td></tr>\n",
              "\t<tr><td>1 </td><td>18433</td></tr>\n",
              "\t<tr><td>10</td><td>  141</td></tr>\n",
              "\t<tr><td>11</td><td> 1452</td></tr>\n",
              "\t<tr><td>12</td><td>  860</td></tr>\n",
              "\t<tr><td>13</td><td>  783</td></tr>\n",
              "\t<tr><td>14</td><td>  256</td></tr>\n",
              "\t<tr><td>15</td><td> 5448</td></tr>\n",
              "\t<tr><td>16</td><td> 8384</td></tr>\n",
              "\t<tr><td>17</td><td> 1694</td></tr>\n",
              "\t<tr><td>18</td><td>  133</td></tr>\n",
              "\t<tr><td>2 </td><td> 1216</td></tr>\n",
              "\t<tr><td>3 </td><td> 7345</td></tr>\n",
              "\t<tr><td>4 </td><td>10066</td></tr>\n",
              "\t<tr><td>5 </td><td>14013</td></tr>\n",
              "\t<tr><td>6 </td><td> 5218</td></tr>\n",
              "\t<tr><td>7 </td><td> 4506</td></tr>\n",
              "\t<tr><td>8 </td><td> 3793</td></tr>\n",
              "\t<tr><td>9 </td><td> 9372</td></tr>\n",
              "\t<tr><td>F </td><td> 4896</td></tr>\n",
              "\t<tr><td>U </td><td> 7943</td></tr>\n",
              "</tbody>\n",
              "</table>\n"
            ]
          },
          "metadata": {
            "tags": []
          }
        }
      ]
    },
    {
      "cell_type": "markdown",
      "metadata": {
        "id": "fdFaM4HbsSAE",
        "colab_type": "text"
      },
      "source": [
        "## survey_observer"
      ]
    },
    {
      "cell_type": "code",
      "metadata": {
        "id": "i08d8mMqr2th",
        "colab_type": "code",
        "colab": {
          "base_uri": "https://localhost:8080/",
          "height": 34
        },
        "outputId": "9ca51e7b-b0b8-4a9a-934e-c9bbd13fc213"
      },
      "source": [
        "unique(sort(df$survey_observer))"
      ],
      "execution_count": 39,
      "outputs": [
        {
          "output_type": "display_data",
          "data": {
            "text/plain": [
              "[1] \"Amy Seaman\"      \"Barb Pitman\"     \"Deb Goslin\"      \"Debbie Leick\"   \n",
              "[5] \"Eric Rasmussen\"  \"John Csoka\"      \"Katharine Stone\" \"n\"              "
            ],
            "text/latex": "\\begin{enumerate*}\n\\item 'Amy Seaman'\n\\item 'Barb Pitman'\n\\item 'Deb Goslin'\n\\item 'Debbie Leick'\n\\item 'Eric Rasmussen'\n\\item 'John Csoka'\n\\item 'Katharine Stone'\n\\item 'n'\n\\end{enumerate*}\n",
            "text/markdown": "1. 'Amy Seaman'\n2. 'Barb Pitman'\n3. 'Deb Goslin'\n4. 'Debbie Leick'\n5. 'Eric Rasmussen'\n6. 'John Csoka'\n7. 'Katharine Stone'\n8. 'n'\n\n\n",
            "text/html": [
              "<style>\n",
              ".list-inline {list-style: none; margin:0; padding: 0}\n",
              ".list-inline>li {display: inline-block}\n",
              ".list-inline>li:not(:last-child)::after {content: \"\\00b7\"; padding: 0 .5ex}\n",
              "</style>\n",
              "<ol class=list-inline><li>'Amy Seaman'</li><li>'Barb Pitman'</li><li>'Deb Goslin'</li><li>'Debbie Leick'</li><li>'Eric Rasmussen'</li><li>'John Csoka'</li><li>'Katharine Stone'</li><li>'n'</li></ol>\n"
            ]
          },
          "metadata": {
            "tags": []
          }
        }
      ]
    },
    {
      "cell_type": "code",
      "metadata": {
        "id": "TEHxVcE2sUga",
        "colab_type": "code",
        "colab": {
          "base_uri": "https://localhost:8080/",
          "height": 34
        },
        "outputId": "f1466c06-4119-4a5f-8861-8937b6ae0bd1"
      },
      "source": [
        "df <- df %>%\n",
        "  mutate(survey_observer = ifelse(survey_observer == \"n\", \n",
        "                                         \"unknown\", \n",
        "                                         survey_observer))\n",
        "\n",
        "unique(df$survey_observer)"
      ],
      "execution_count": 40,
      "outputs": [
        {
          "output_type": "display_data",
          "data": {
            "text/plain": [
              "[1] \"Eric Rasmussen\"  \"Katharine Stone\" \"Debbie Leick\"    \"unknown\"        \n",
              "[5] \"Amy Seaman\"      \"John Csoka\"      \"Barb Pitman\"     \"Deb Goslin\"     "
            ],
            "text/latex": "\\begin{enumerate*}\n\\item 'Eric Rasmussen'\n\\item 'Katharine Stone'\n\\item 'Debbie Leick'\n\\item 'unknown'\n\\item 'Amy Seaman'\n\\item 'John Csoka'\n\\item 'Barb Pitman'\n\\item 'Deb Goslin'\n\\end{enumerate*}\n",
            "text/markdown": "1. 'Eric Rasmussen'\n2. 'Katharine Stone'\n3. 'Debbie Leick'\n4. 'unknown'\n5. 'Amy Seaman'\n6. 'John Csoka'\n7. 'Barb Pitman'\n8. 'Deb Goslin'\n\n\n",
            "text/html": [
              "<style>\n",
              ".list-inline {list-style: none; margin:0; padding: 0}\n",
              ".list-inline>li {display: inline-block}\n",
              ".list-inline>li:not(:last-child)::after {content: \"\\00b7\"; padding: 0 .5ex}\n",
              "</style>\n",
              "<ol class=list-inline><li>'Eric Rasmussen'</li><li>'Katharine Stone'</li><li>'Debbie Leick'</li><li>'unknown'</li><li>'Amy Seaman'</li><li>'John Csoka'</li><li>'Barb Pitman'</li><li>'Deb Goslin'</li></ol>\n"
            ]
          },
          "metadata": {
            "tags": []
          }
        }
      ]
    },
    {
      "cell_type": "markdown",
      "metadata": {
        "id": "CpobLsyzw8yo",
        "colab_type": "text"
      },
      "source": [
        "## records_detect_other\n"
      ]
    },
    {
      "cell_type": "markdown",
      "metadata": {
        "id": "tIfqwotUQnEx",
        "colab_type": "text"
      },
      "source": [
        "Leave values as is for the forseeable future "
      ]
    },
    {
      "cell_type": "code",
      "metadata": {
        "id": "_FPF4u6Mw9Rr",
        "colab_type": "code",
        "colab": {}
      },
      "source": [
        "fct_count(df$records_detect_other)"
      ],
      "execution_count": 0,
      "outputs": []
    },
    {
      "cell_type": "markdown",
      "metadata": {
        "id": "M44U8Qcwzb3z",
        "colab_type": "text"
      },
      "source": [
        "## records_interval"
      ]
    },
    {
      "cell_type": "code",
      "metadata": {
        "id": "noMaVSuNxPge",
        "colab_type": "code",
        "colab": {
          "base_uri": "https://localhost:8080/",
          "height": 225
        },
        "outputId": "7ea2b9f1-1783-4c67-ed51-ac2fab1e372d"
      },
      "source": [
        "fct_count(df$records_interval)"
      ],
      "execution_count": 42,
      "outputs": [
        {
          "output_type": "display_data",
          "data": {
            "text/plain": [
              "  f             n    \n",
              "1                 281\n",
              "2 1             85175\n",
              "3 1`                1\n",
              "4 2             29592\n",
              "5 After survey   1838\n",
              "6 Before survey  1023\n",
              "7 U                 1"
            ],
            "text/latex": "A tibble: 7 × 2\n\\begin{tabular}{ll}\n f & n\\\\\n <fct> & <int>\\\\\n\\hline\n\t               &   281\\\\\n\t 1             & 85175\\\\\n\t 1`            &     1\\\\\n\t 2             & 29592\\\\\n\t After survey  &  1838\\\\\n\t Before survey &  1023\\\\\n\t U             &     1\\\\\n\\end{tabular}\n",
            "text/markdown": "\nA tibble: 7 × 2\n\n| f &lt;fct&gt; | n &lt;int&gt; |\n|---|---|\n| <!----> |   281 |\n| 1             | 85175 |\n| 1`            |     1 |\n| 2             | 29592 |\n| After survey  |  1838 |\n| Before survey |  1023 |\n| U             |     1 |\n\n",
            "text/html": [
              "<table>\n",
              "<caption>A tibble: 7 × 2</caption>\n",
              "<thead>\n",
              "\t<tr><th scope=col>f</th><th scope=col>n</th></tr>\n",
              "\t<tr><th scope=col>&lt;fct&gt;</th><th scope=col>&lt;int&gt;</th></tr>\n",
              "</thead>\n",
              "<tbody>\n",
              "\t<tr><td>             </td><td>  281</td></tr>\n",
              "\t<tr><td>1            </td><td>85175</td></tr>\n",
              "\t<tr><td>1`           </td><td>    1</td></tr>\n",
              "\t<tr><td>2            </td><td>29592</td></tr>\n",
              "\t<tr><td>After survey </td><td> 1838</td></tr>\n",
              "\t<tr><td>Before survey</td><td> 1023</td></tr>\n",
              "\t<tr><td>U            </td><td>    1</td></tr>\n",
              "</tbody>\n",
              "</table>\n"
            ]
          },
          "metadata": {
            "tags": []
          }
        }
      ]
    },
    {
      "cell_type": "code",
      "metadata": {
        "id": "QqiJpbfgl5R8",
        "colab_type": "code",
        "colab": {
          "base_uri": "https://localhost:8080/",
          "height": 204
        },
        "outputId": "57a4ea77-9581-4ab4-ffdf-4c785224ef2c"
      },
      "source": [
        "df <- df %>%\n",
        "  mutate(records_interval = ifelse(records_interval == '1`', '1', \n",
        "                            ifelse(records_interval == '', is.na, records_interval)))\n",
        "\n",
        "fct_count(df$records_interval)"
      ],
      "execution_count": 117,
      "outputs": [
        {
          "output_type": "display_data",
          "data": {
            "text/plain": [
              "  f             n    \n",
              "1 1             85176\n",
              "2 2             29592\n",
              "3 After survey   1838\n",
              "4 Before survey  1023\n",
              "5 U                 1\n",
              "6 NA              281"
            ],
            "text/latex": "A tibble: 6 × 2\n\\begin{tabular}{ll}\n f & n\\\\\n <fct> & <int>\\\\\n\\hline\n\t 1             & 85176\\\\\n\t 2             & 29592\\\\\n\t After survey  &  1838\\\\\n\t Before survey &  1023\\\\\n\t U             &     1\\\\\n\t NA            &   281\\\\\n\\end{tabular}\n",
            "text/markdown": "\nA tibble: 6 × 2\n\n| f &lt;fct&gt; | n &lt;int&gt; |\n|---|---|\n| 1             | 85176 |\n| 2             | 29592 |\n| After survey  |  1838 |\n| Before survey |  1023 |\n| U             |     1 |\n| NA            |   281 |\n\n",
            "text/html": [
              "<table>\n",
              "<caption>A tibble: 6 × 2</caption>\n",
              "<thead>\n",
              "\t<tr><th scope=col>f</th><th scope=col>n</th></tr>\n",
              "\t<tr><th scope=col>&lt;fct&gt;</th><th scope=col>&lt;int&gt;</th></tr>\n",
              "</thead>\n",
              "<tbody>\n",
              "\t<tr><td>1            </td><td>85176</td></tr>\n",
              "\t<tr><td>2            </td><td>29592</td></tr>\n",
              "\t<tr><td>After survey </td><td> 1838</td></tr>\n",
              "\t<tr><td>Before survey</td><td> 1023</td></tr>\n",
              "\t<tr><td>U            </td><td>    1</td></tr>\n",
              "\t<tr><td>NA           </td><td>  281</td></tr>\n",
              "</tbody>\n",
              "</table>\n"
            ]
          },
          "metadata": {
            "tags": []
          }
        }
      ]
    },
    {
      "cell_type": "markdown",
      "metadata": {
        "id": "y1mUoKWUJcea",
        "colab_type": "text"
      },
      "source": [
        "## Resolve \"na\" and \"\""
      ]
    },
    {
      "cell_type": "markdown",
      "metadata": {
        "id": "zwchBTNqJgsz",
        "colab_type": "text"
      },
      "source": [
        "['Habitat', 'Food', 'Nesting', 'Behavior', 'Order', 'Family'] all have 2 \"na\" values and 451 \"\" values.  Update these cells to NA"
      ]
    },
    {
      "cell_type": "code",
      "metadata": {
        "id": "GV8L-MFpRBei",
        "colab_type": "code",
        "colab": {
          "base_uri": "https://localhost:8080/",
          "height": 330
        },
        "outputId": "fbae7918-2864-460a-d8bd-c6e30c08f767"
      },
      "source": [
        "fct_count(df$function_habitat_preference)"
      ],
      "execution_count": 46,
      "outputs": [
        {
          "output_type": "display_data",
          "data": {
            "text/plain": [
              "   f             n    \n",
              "1                  451\n",
              "2  Forest        19233\n",
              "3  Grassland     41108\n",
              "4  Lake/Pond      2380\n",
              "5  Marsh          1344\n",
              "6  Mountains      1353\n",
              "7  na                2\n",
              "8  Open Woodland 42342\n",
              "9  River/Stream    201\n",
              "10 Scrub          6067\n",
              "11 Shoreline       506\n",
              "12 Town           2924"
            ],
            "text/latex": "A tibble: 12 × 2\n\\begin{tabular}{ll}\n f & n\\\\\n <fct> & <int>\\\\\n\\hline\n\t               &   451\\\\\n\t Forest        & 19233\\\\\n\t Grassland     & 41108\\\\\n\t Lake/Pond     &  2380\\\\\n\t Marsh         &  1344\\\\\n\t Mountains     &  1353\\\\\n\t na            &     2\\\\\n\t Open Woodland & 42342\\\\\n\t River/Stream  &   201\\\\\n\t Scrub         &  6067\\\\\n\t Shoreline     &   506\\\\\n\t Town          &  2924\\\\\n\\end{tabular}\n",
            "text/markdown": "\nA tibble: 12 × 2\n\n| f &lt;fct&gt; | n &lt;int&gt; |\n|---|---|\n| <!----> |   451 |\n| Forest        | 19233 |\n| Grassland     | 41108 |\n| Lake/Pond     |  2380 |\n| Marsh         |  1344 |\n| Mountains     |  1353 |\n| na            |     2 |\n| Open Woodland | 42342 |\n| River/Stream  |   201 |\n| Scrub         |  6067 |\n| Shoreline     |   506 |\n| Town          |  2924 |\n\n",
            "text/html": [
              "<table>\n",
              "<caption>A tibble: 12 × 2</caption>\n",
              "<thead>\n",
              "\t<tr><th scope=col>f</th><th scope=col>n</th></tr>\n",
              "\t<tr><th scope=col>&lt;fct&gt;</th><th scope=col>&lt;int&gt;</th></tr>\n",
              "</thead>\n",
              "<tbody>\n",
              "\t<tr><td>             </td><td>  451</td></tr>\n",
              "\t<tr><td>Forest       </td><td>19233</td></tr>\n",
              "\t<tr><td>Grassland    </td><td>41108</td></tr>\n",
              "\t<tr><td>Lake/Pond    </td><td> 2380</td></tr>\n",
              "\t<tr><td>Marsh        </td><td> 1344</td></tr>\n",
              "\t<tr><td>Mountains    </td><td> 1353</td></tr>\n",
              "\t<tr><td>na           </td><td>    2</td></tr>\n",
              "\t<tr><td>Open Woodland</td><td>42342</td></tr>\n",
              "\t<tr><td>River/Stream </td><td>  201</td></tr>\n",
              "\t<tr><td>Scrub        </td><td> 6067</td></tr>\n",
              "\t<tr><td>Shoreline    </td><td>  506</td></tr>\n",
              "\t<tr><td>Town         </td><td> 2924</td></tr>\n",
              "</tbody>\n",
              "</table>\n"
            ]
          },
          "metadata": {
            "tags": []
          }
        }
      ]
    },
    {
      "cell_type": "code",
      "metadata": {
        "id": "-5SsJOpgLAve",
        "colab_type": "code",
        "colab": {
          "base_uri": "https://localhost:8080/",
          "height": 309
        },
        "outputId": "86c1f61d-4df2-4ada-bc89-c923dc18803f"
      },
      "source": [
        "df <- df %>%\n",
        "  mutate_if(is.character, list(~ na_if(., \"na\"))) %>%\n",
        "  # would be nice to mutate \"na\" and \"\" in a single line\n",
        "  mutate_if(is.character, list(~ na_if(., \"\"))) %>%\n",
        "  # remove \"na\" and \"\" factor levels\n",
        "  droplevels()\n",
        "\n",
        "fct_count(df$function_habitat_preference)"
      ],
      "execution_count": 47,
      "outputs": [
        {
          "output_type": "display_data",
          "data": {
            "text/plain": [
              "   f             n    \n",
              "1  Forest        19233\n",
              "2  Grassland     41108\n",
              "3  Lake/Pond      2380\n",
              "4  Marsh          1344\n",
              "5  Mountains      1353\n",
              "6  Open Woodland 42342\n",
              "7  River/Stream    201\n",
              "8  Scrub          6067\n",
              "9  Shoreline       506\n",
              "10 Town           2924\n",
              "11 NA              453"
            ],
            "text/latex": "A tibble: 11 × 2\n\\begin{tabular}{ll}\n f & n\\\\\n <fct> & <int>\\\\\n\\hline\n\t Forest        & 19233\\\\\n\t Grassland     & 41108\\\\\n\t Lake/Pond     &  2380\\\\\n\t Marsh         &  1344\\\\\n\t Mountains     &  1353\\\\\n\t Open Woodland & 42342\\\\\n\t River/Stream  &   201\\\\\n\t Scrub         &  6067\\\\\n\t Shoreline     &   506\\\\\n\t Town          &  2924\\\\\n\t NA            &   453\\\\\n\\end{tabular}\n",
            "text/markdown": "\nA tibble: 11 × 2\n\n| f &lt;fct&gt; | n &lt;int&gt; |\n|---|---|\n| Forest        | 19233 |\n| Grassland     | 41108 |\n| Lake/Pond     |  2380 |\n| Marsh         |  1344 |\n| Mountains     |  1353 |\n| Open Woodland | 42342 |\n| River/Stream  |   201 |\n| Scrub         |  6067 |\n| Shoreline     |   506 |\n| Town          |  2924 |\n| NA            |   453 |\n\n",
            "text/html": [
              "<table>\n",
              "<caption>A tibble: 11 × 2</caption>\n",
              "<thead>\n",
              "\t<tr><th scope=col>f</th><th scope=col>n</th></tr>\n",
              "\t<tr><th scope=col>&lt;fct&gt;</th><th scope=col>&lt;int&gt;</th></tr>\n",
              "</thead>\n",
              "<tbody>\n",
              "\t<tr><td>Forest       </td><td>19233</td></tr>\n",
              "\t<tr><td>Grassland    </td><td>41108</td></tr>\n",
              "\t<tr><td>Lake/Pond    </td><td> 2380</td></tr>\n",
              "\t<tr><td>Marsh        </td><td> 1344</td></tr>\n",
              "\t<tr><td>Mountains    </td><td> 1353</td></tr>\n",
              "\t<tr><td>Open Woodland</td><td>42342</td></tr>\n",
              "\t<tr><td>River/Stream </td><td>  201</td></tr>\n",
              "\t<tr><td>Scrub        </td><td> 6067</td></tr>\n",
              "\t<tr><td>Shoreline    </td><td>  506</td></tr>\n",
              "\t<tr><td>Town         </td><td> 2924</td></tr>\n",
              "\t<tr><td>NA           </td><td>  453</td></tr>\n",
              "</tbody>\n",
              "</table>\n"
            ]
          },
          "metadata": {
            "tags": []
          }
        }
      ]
    },
    {
      "cell_type": "markdown",
      "metadata": {
        "id": "18Q7FSIQmexO",
        "colab_type": "text"
      },
      "source": [
        "## Time"
      ]
    },
    {
      "cell_type": "markdown",
      "metadata": {
        "id": "zK1Ajbxqq4QC",
        "colab_type": "text"
      },
      "source": [
        "### survey_time_start"
      ]
    },
    {
      "cell_type": "code",
      "metadata": {
        "id": "FWVcrJ3WquJd",
        "colab_type": "code",
        "colab": {
          "base_uri": "https://localhost:8080/",
          "height": 238
        },
        "outputId": "cf1c8c6f-0a26-41c8-94f8-2193c1b39d7e"
      },
      "source": [
        "sort(unique(df$survey_time_start_MDT))"
      ],
      "execution_count": 50,
      "outputs": [
        {
          "output_type": "display_data",
          "data": {
            "text/plain": [
              "  [1]    0    1   50   98  540  543  544  545  546  547  548  550  551  552  553\n",
              " [16]  554  555  556  557  558  559  580  600  601  602  603  604  605  606  607\n",
              " [31]  608  609  610  611  612  613  614  615  616  617  618  619  620  621  622\n",
              " [46]  623  624  625  626  627  628  629  630  631  632  633  634  635  636  637\n",
              " [61]  638  639  640  641  642  643  644  645  646  647  648  649  650  651  652\n",
              " [76]  653  654  655  656  657  658  659  700  701  702  703  704  705  706  707\n",
              " [91]  708  709  710  711  712  713  714  715  716  717  718  719  720  721  722\n",
              "[106]  723  724  725  726  727  728  729  730  731  732  733  734  735  736  737\n",
              "[121]  738  739  740  741  742  743  744  745  746  747  748  749  750  751  752\n",
              "[136]  753  754  755  756  757  758  759  763  800  801  802  803  804  805  806\n",
              "[151]  807  808  809  810  811  812  813  814  815  816  817  818  819  820  821\n",
              "[166]  822  823  824  825  826  827  828  829  830  831  832  833  834  835  836\n",
              "[181]  837  838  839  840  841  842  843  844  845  846  847  848  849  850  851\n",
              "[196]  852  853  854  855  856  857  858  859  900  901  902  903  904  905  906\n",
              "[211]  907  908  909  910  911  912  913  914  915  916  917  918  919  920  921\n",
              "[226]  922  923  924  925  926  927  928  929  930  931  932  933  934  935  936\n",
              "[241]  937  938  939  940  941  942  943  944  945  946  947  948  949  950  951\n",
              "[256]  952  953  954  955  956  957  958  959 1000 1001 1002 1003 1004 1005 1006\n",
              "[271] 1007 1008 1009 1010 1011 1012 1013 1014 1015 1016 1017 1018 1019 1020 1021\n",
              "[286] 1022 1023 1024 1025 1026 1027 1028 1029 1030 1031 1032 1033 1034 1035 1036\n",
              "[301] 1037 1038 1039 1040 1041 1042 1043 1044 1045 1046 1047 1048 1049 1050 1051\n",
              "[316] 1052 1053 1054 1055 1056 1057 1058 1059 1100 1101 1102 1103 1104 1105 1107\n",
              "[331] 1108 1112 1115"
            ],
            "text/latex": "\\begin{enumerate*}\n\\item 0\n\\item 1\n\\item 50\n\\item 98\n\\item 540\n\\item 543\n\\item 544\n\\item 545\n\\item 546\n\\item 547\n\\item 548\n\\item 550\n\\item 551\n\\item 552\n\\item 553\n\\item 554\n\\item 555\n\\item 556\n\\item 557\n\\item 558\n\\item 559\n\\item 580\n\\item 600\n\\item 601\n\\item 602\n\\item 603\n\\item 604\n\\item 605\n\\item 606\n\\item 607\n\\item 608\n\\item 609\n\\item 610\n\\item 611\n\\item 612\n\\item 613\n\\item 614\n\\item 615\n\\item 616\n\\item 617\n\\item 618\n\\item 619\n\\item 620\n\\item 621\n\\item 622\n\\item 623\n\\item 624\n\\item 625\n\\item 626\n\\item 627\n\\item 628\n\\item 629\n\\item 630\n\\item 631\n\\item 632\n\\item 633\n\\item 634\n\\item 635\n\\item 636\n\\item 637\n\\item 638\n\\item 639\n\\item 640\n\\item 641\n\\item 642\n\\item 643\n\\item 644\n\\item 645\n\\item 646\n\\item 647\n\\item 648\n\\item 649\n\\item 650\n\\item 651\n\\item 652\n\\item 653\n\\item 654\n\\item 655\n\\item 656\n\\item 657\n\\item 658\n\\item 659\n\\item 700\n\\item 701\n\\item 702\n\\item 703\n\\item 704\n\\item 705\n\\item 706\n\\item 707\n\\item 708\n\\item 709\n\\item 710\n\\item 711\n\\item 712\n\\item 713\n\\item 714\n\\item 715\n\\item 716\n\\item 717\n\\item 718\n\\item 719\n\\item 720\n\\item 721\n\\item 722\n\\item 723\n\\item 724\n\\item 725\n\\item 726\n\\item 727\n\\item 728\n\\item 729\n\\item 730\n\\item 731\n\\item 732\n\\item 733\n\\item 734\n\\item 735\n\\item 736\n\\item 737\n\\item 738\n\\item 739\n\\item 740\n\\item 741\n\\item 742\n\\item 743\n\\item 744\n\\item 745\n\\item 746\n\\item 747\n\\item 748\n\\item 749\n\\item 750\n\\item 751\n\\item 752\n\\item 753\n\\item 754\n\\item 755\n\\item 756\n\\item 757\n\\item 758\n\\item 759\n\\item 763\n\\item 800\n\\item 801\n\\item 802\n\\item 803\n\\item 804\n\\item 805\n\\item 806\n\\item 807\n\\item 808\n\\item 809\n\\item 810\n\\item 811\n\\item 812\n\\item 813\n\\item 814\n\\item 815\n\\item 816\n\\item 817\n\\item 818\n\\item 819\n\\item 820\n\\item 821\n\\item 822\n\\item 823\n\\item 824\n\\item 825\n\\item 826\n\\item 827\n\\item 828\n\\item 829\n\\item 830\n\\item 831\n\\item 832\n\\item 833\n\\item 834\n\\item 835\n\\item 836\n\\item 837\n\\item 838\n\\item 839\n\\item 840\n\\item 841\n\\item 842\n\\item 843\n\\item 844\n\\item 845\n\\item 846\n\\item 847\n\\item 848\n\\item 849\n\\item 850\n\\item 851\n\\item 852\n\\item 853\n\\item 854\n\\item 855\n\\item 856\n\\item 857\n\\item 858\n\\item 859\n\\item 900\n\\item 901\n\\item 902\n\\item 903\n\\item 904\n\\item 905\n\\item 906\n\\item 907\n\\item 908\n\\item 909\n\\item 910\n\\item 911\n\\item 912\n\\item 913\n\\item 914\n\\item 915\n\\item 916\n\\item 917\n\\item 918\n\\item 919\n\\item 920\n\\item 921\n\\item 922\n\\item 923\n\\item 924\n\\item 925\n\\item 926\n\\item 927\n\\item 928\n\\item 929\n\\item 930\n\\item 931\n\\item 932\n\\item 933\n\\item 934\n\\item 935\n\\item 936\n\\item 937\n\\item 938\n\\item 939\n\\item 940\n\\item 941\n\\item 942\n\\item 943\n\\item 944\n\\item 945\n\\item 946\n\\item 947\n\\item 948\n\\item 949\n\\item 950\n\\item 951\n\\item 952\n\\item 953\n\\item 954\n\\item 955\n\\item 956\n\\item 957\n\\item 958\n\\item 959\n\\item 1000\n\\item 1001\n\\item 1002\n\\item 1003\n\\item 1004\n\\item 1005\n\\item 1006\n\\item 1007\n\\item 1008\n\\item 1009\n\\item 1010\n\\item 1011\n\\item 1012\n\\item 1013\n\\item 1014\n\\item 1015\n\\item 1016\n\\item 1017\n\\item 1018\n\\item 1019\n\\item 1020\n\\item 1021\n\\item 1022\n\\item 1023\n\\item 1024\n\\item 1025\n\\item 1026\n\\item 1027\n\\item 1028\n\\item 1029\n\\item 1030\n\\item 1031\n\\item 1032\n\\item 1033\n\\item 1034\n\\item 1035\n\\item 1036\n\\item 1037\n\\item 1038\n\\item 1039\n\\item 1040\n\\item 1041\n\\item 1042\n\\item 1043\n\\item 1044\n\\item 1045\n\\item 1046\n\\item 1047\n\\item 1048\n\\item 1049\n\\item 1050\n\\item 1051\n\\item 1052\n\\item 1053\n\\item 1054\n\\item 1055\n\\item 1056\n\\item 1057\n\\item 1058\n\\item 1059\n\\item 1100\n\\item 1101\n\\item 1102\n\\item 1103\n\\item 1104\n\\item 1105\n\\item 1107\n\\item 1108\n\\item 1112\n\\item 1115\n\\end{enumerate*}\n",
            "text/markdown": "1. 0\n2. 1\n3. 50\n4. 98\n5. 540\n6. 543\n7. 544\n8. 545\n9. 546\n10. 547\n11. 548\n12. 550\n13. 551\n14. 552\n15. 553\n16. 554\n17. 555\n18. 556\n19. 557\n20. 558\n21. 559\n22. 580\n23. 600\n24. 601\n25. 602\n26. 603\n27. 604\n28. 605\n29. 606\n30. 607\n31. 608\n32. 609\n33. 610\n34. 611\n35. 612\n36. 613\n37. 614\n38. 615\n39. 616\n40. 617\n41. 618\n42. 619\n43. 620\n44. 621\n45. 622\n46. 623\n47. 624\n48. 625\n49. 626\n50. 627\n51. 628\n52. 629\n53. 630\n54. 631\n55. 632\n56. 633\n57. 634\n58. 635\n59. 636\n60. 637\n61. 638\n62. 639\n63. 640\n64. 641\n65. 642\n66. 643\n67. 644\n68. 645\n69. 646\n70. 647\n71. 648\n72. 649\n73. 650\n74. 651\n75. 652\n76. 653\n77. 654\n78. 655\n79. 656\n80. 657\n81. 658\n82. 659\n83. 700\n84. 701\n85. 702\n86. 703\n87. 704\n88. 705\n89. 706\n90. 707\n91. 708\n92. 709\n93. 710\n94. 711\n95. 712\n96. 713\n97. 714\n98. 715\n99. 716\n100. 717\n101. 718\n102. 719\n103. 720\n104. 721\n105. 722\n106. 723\n107. 724\n108. 725\n109. 726\n110. 727\n111. 728\n112. 729\n113. 730\n114. 731\n115. 732\n116. 733\n117. 734\n118. 735\n119. 736\n120. 737\n121. 738\n122. 739\n123. 740\n124. 741\n125. 742\n126. 743\n127. 744\n128. 745\n129. 746\n130. 747\n131. 748\n132. 749\n133. 750\n134. 751\n135. 752\n136. 753\n137. 754\n138. 755\n139. 756\n140. 757\n141. 758\n142. 759\n143. 763\n144. 800\n145. 801\n146. 802\n147. 803\n148. 804\n149. 805\n150. 806\n151. 807\n152. 808\n153. 809\n154. 810\n155. 811\n156. 812\n157. 813\n158. 814\n159. 815\n160. 816\n161. 817\n162. 818\n163. 819\n164. 820\n165. 821\n166. 822\n167. 823\n168. 824\n169. 825\n170. 826\n171. 827\n172. 828\n173. 829\n174. 830\n175. 831\n176. 832\n177. 833\n178. 834\n179. 835\n180. 836\n181. 837\n182. 838\n183. 839\n184. 840\n185. 841\n186. 842\n187. 843\n188. 844\n189. 845\n190. 846\n191. 847\n192. 848\n193. 849\n194. 850\n195. 851\n196. 852\n197. 853\n198. 854\n199. 855\n200. 856\n201. 857\n202. 858\n203. 859\n204. 900\n205. 901\n206. 902\n207. 903\n208. 904\n209. 905\n210. 906\n211. 907\n212. 908\n213. 909\n214. 910\n215. 911\n216. 912\n217. 913\n218. 914\n219. 915\n220. 916\n221. 917\n222. 918\n223. 919\n224. 920\n225. 921\n226. 922\n227. 923\n228. 924\n229. 925\n230. 926\n231. 927\n232. 928\n233. 929\n234. 930\n235. 931\n236. 932\n237. 933\n238. 934\n239. 935\n240. 936\n241. 937\n242. 938\n243. 939\n244. 940\n245. 941\n246. 942\n247. 943\n248. 944\n249. 945\n250. 946\n251. 947\n252. 948\n253. 949\n254. 950\n255. 951\n256. 952\n257. 953\n258. 954\n259. 955\n260. 956\n261. 957\n262. 958\n263. 959\n264. 1000\n265. 1001\n266. 1002\n267. 1003\n268. 1004\n269. 1005\n270. 1006\n271. 1007\n272. 1008\n273. 1009\n274. 1010\n275. 1011\n276. 1012\n277. 1013\n278. 1014\n279. 1015\n280. 1016\n281. 1017\n282. 1018\n283. 1019\n284. 1020\n285. 1021\n286. 1022\n287. 1023\n288. 1024\n289. 1025\n290. 1026\n291. 1027\n292. 1028\n293. 1029\n294. 1030\n295. 1031\n296. 1032\n297. 1033\n298. 1034\n299. 1035\n300. 1036\n301. 1037\n302. 1038\n303. 1039\n304. 1040\n305. 1041\n306. 1042\n307. 1043\n308. 1044\n309. 1045\n310. 1046\n311. 1047\n312. 1048\n313. 1049\n314. 1050\n315. 1051\n316. 1052\n317. 1053\n318. 1054\n319. 1055\n320. 1056\n321. 1057\n322. 1058\n323. 1059\n324. 1100\n325. 1101\n326. 1102\n327. 1103\n328. 1104\n329. 1105\n330. 1107\n331. 1108\n332. 1112\n333. 1115\n\n\n",
            "text/html": [
              "<style>\n",
              ".list-inline {list-style: none; margin:0; padding: 0}\n",
              ".list-inline>li {display: inline-block}\n",
              ".list-inline>li:not(:last-child)::after {content: \"\\00b7\"; padding: 0 .5ex}\n",
              "</style>\n",
              "<ol class=list-inline><li>0</li><li>1</li><li>50</li><li>98</li><li>540</li><li>543</li><li>544</li><li>545</li><li>546</li><li>547</li><li>548</li><li>550</li><li>551</li><li>552</li><li>553</li><li>554</li><li>555</li><li>556</li><li>557</li><li>558</li><li>559</li><li>580</li><li>600</li><li>601</li><li>602</li><li>603</li><li>604</li><li>605</li><li>606</li><li>607</li><li>608</li><li>609</li><li>610</li><li>611</li><li>612</li><li>613</li><li>614</li><li>615</li><li>616</li><li>617</li><li>618</li><li>619</li><li>620</li><li>621</li><li>622</li><li>623</li><li>624</li><li>625</li><li>626</li><li>627</li><li>628</li><li>629</li><li>630</li><li>631</li><li>632</li><li>633</li><li>634</li><li>635</li><li>636</li><li>637</li><li>638</li><li>639</li><li>640</li><li>641</li><li>642</li><li>643</li><li>644</li><li>645</li><li>646</li><li>647</li><li>648</li><li>649</li><li>650</li><li>651</li><li>652</li><li>653</li><li>654</li><li>655</li><li>656</li><li>657</li><li>658</li><li>659</li><li>700</li><li>701</li><li>702</li><li>703</li><li>704</li><li>705</li><li>706</li><li>707</li><li>708</li><li>709</li><li>710</li><li>711</li><li>712</li><li>713</li><li>714</li><li>715</li><li>716</li><li>717</li><li>718</li><li>719</li><li>720</li><li>721</li><li>722</li><li>723</li><li>724</li><li>725</li><li>726</li><li>727</li><li>728</li><li>729</li><li>730</li><li>731</li><li>732</li><li>733</li><li>734</li><li>735</li><li>736</li><li>737</li><li>738</li><li>739</li><li>740</li><li>741</li><li>742</li><li>743</li><li>744</li><li>745</li><li>746</li><li>747</li><li>748</li><li>749</li><li>750</li><li>751</li><li>752</li><li>753</li><li>754</li><li>755</li><li>756</li><li>757</li><li>758</li><li>759</li><li>763</li><li>800</li><li>801</li><li>802</li><li>803</li><li>804</li><li>805</li><li>806</li><li>807</li><li>808</li><li>809</li><li>810</li><li>811</li><li>812</li><li>813</li><li>814</li><li>815</li><li>816</li><li>817</li><li>818</li><li>819</li><li>820</li><li>821</li><li>822</li><li>823</li><li>824</li><li>825</li><li>826</li><li>827</li><li>828</li><li>829</li><li>830</li><li>831</li><li>832</li><li>833</li><li>834</li><li>835</li><li>836</li><li>837</li><li>838</li><li>839</li><li>840</li><li>841</li><li>842</li><li>843</li><li>844</li><li>845</li><li>846</li><li>847</li><li>848</li><li>849</li><li>850</li><li>851</li><li>852</li><li>853</li><li>854</li><li>855</li><li>856</li><li>857</li><li>858</li><li>859</li><li>900</li><li>901</li><li>902</li><li>903</li><li>904</li><li>905</li><li>906</li><li>907</li><li>908</li><li>909</li><li>910</li><li>911</li><li>912</li><li>913</li><li>914</li><li>915</li><li>916</li><li>917</li><li>918</li><li>919</li><li>920</li><li>921</li><li>922</li><li>923</li><li>924</li><li>925</li><li>926</li><li>927</li><li>928</li><li>929</li><li>930</li><li>931</li><li>932</li><li>933</li><li>934</li><li>935</li><li>936</li><li>937</li><li>938</li><li>939</li><li>940</li><li>941</li><li>942</li><li>943</li><li>944</li><li>945</li><li>946</li><li>947</li><li>948</li><li>949</li><li>950</li><li>951</li><li>952</li><li>953</li><li>954</li><li>955</li><li>956</li><li>957</li><li>958</li><li>959</li><li>1000</li><li>1001</li><li>1002</li><li>1003</li><li>1004</li><li>1005</li><li>1006</li><li>1007</li><li>1008</li><li>1009</li><li>1010</li><li>1011</li><li>1012</li><li>1013</li><li>1014</li><li>1015</li><li>1016</li><li>1017</li><li>1018</li><li>1019</li><li>1020</li><li>1021</li><li>1022</li><li>1023</li><li>1024</li><li>1025</li><li>1026</li><li>1027</li><li>1028</li><li>1029</li><li>1030</li><li>1031</li><li>1032</li><li>1033</li><li>1034</li><li>1035</li><li>1036</li><li>1037</li><li>1038</li><li>1039</li><li>1040</li><li>1041</li><li>1042</li><li>1043</li><li>1044</li><li>1045</li><li>1046</li><li>1047</li><li>1048</li><li>1049</li><li>1050</li><li>1051</li><li>1052</li><li>1053</li><li>1054</li><li>1055</li><li>1056</li><li>1057</li><li>1058</li><li>1059</li><li>1100</li><li>1101</li><li>1102</li><li>1103</li><li>1104</li><li>1105</li><li>1107</li><li>1108</li><li>1112</li><li>1115</li></ol>\n"
            ]
          },
          "metadata": {
            "tags": []
          }
        }
      ]
    },
    {
      "cell_type": "code",
      "metadata": {
        "id": "YqTfj-Yeq3IG",
        "colab_type": "code",
        "colab": {}
      },
      "source": [
        "# replace_with_na function is from naniar\n",
        "df <- df %>%\n",
        "  replace_with_na(replace = list(survey_time_start_MDT = c(0, 1, 50, 98)))"
      ],
      "execution_count": 0,
      "outputs": []
    },
    {
      "cell_type": "markdown",
      "metadata": {
        "id": "I1dO1gYCq6Zv",
        "colab_type": "text"
      },
      "source": [
        "### survey_time_end"
      ]
    },
    {
      "cell_type": "code",
      "metadata": {
        "id": "Qs1MCEU2jceJ",
        "colab_type": "code",
        "colab": {
          "base_uri": "https://localhost:8080/",
          "height": 238
        },
        "outputId": "ef38e172-0412-4d7e-fac7-af5b5edd1eda"
      },
      "source": [
        "sort(unique(df$survey_time_end))"
      ],
      "execution_count": 118,
      "outputs": [
        {
          "output_type": "display_data",
          "data": {
            "text/plain": [
              "  [1]    1    2   85  107  507  550  553  554  555  556  557  558  600  601  602\n",
              " [16]  603  604  605  606  607  608  609  610  611  612  613  614  615  616  617\n",
              " [31]  618  619  620  621  622  623  624  625  626  627  628  629  630  631  632\n",
              " [46]  633  634  635  636  637  638  639  640  641  642  643  644  645  646  647\n",
              " [61]  648  649  650  651  652  653  654  655  656  657  658  659  700  701  702\n",
              " [76]  703  704  705  706  707  708  709  710  711  712  713  714  715  716  717\n",
              " [91]  718  719  720  721  722  723  724  725  726  727  728  729  730  731  732\n",
              "[106]  733  734  735  736  737  738  739  740  741  742  743  744  745  746  747\n",
              "[121]  748  749  750  751  752  753  754  755  756  757  758  759  800  801  802\n",
              "[136]  803  804  805  806  807  808  809  810  811  812  813  814  815  816  817\n",
              "[151]  818  819  820  821  822  823  824  825  826  827  828  829  830  831  832\n",
              "[166]  833  834  835  836  837  838  839  840  841  842  843  844  845  846  847\n",
              "[181]  848  849  850  851  852  853  854  855  856  857  858  859  900  901  902\n",
              "[196]  903  904  905  906  907  908  909  910  911  912  913  914  915  916  917\n",
              "[211]  918  919  920  921  922  923  924  925  926  927  928  929  930  931  932\n",
              "[226]  933  934  935  936  937  938  939  940  941  942  943  944  945  946  947\n",
              "[241]  948  949  950  951  952  953  954  955  956  957  958  959 1000 1001 1002\n",
              "[256] 1003 1004 1005 1006 1007 1008 1009 1010 1011 1012 1013 1014 1015 1016 1017\n",
              "[271] 1018 1019 1020 1021 1022 1023 1024 1025 1026 1027 1028 1029 1030 1031 1032\n",
              "[286] 1033 1034 1035 1036 1037 1038 1039 1040 1041 1042 1043 1044 1045 1046 1047\n",
              "[301] 1048 1049 1050 1051 1052 1053 1054 1055 1056 1057 1058 1059 1100 1101 1102\n",
              "[316] 1103 1104 1105 1106 1107 1108 1109 1110 1111 1112 1113 1114 1115 1117 1119\n",
              "[331] 1122 1125 1146 6658"
            ],
            "text/latex": "\\begin{enumerate*}\n\\item 1\n\\item 2\n\\item 85\n\\item 107\n\\item 507\n\\item 550\n\\item 553\n\\item 554\n\\item 555\n\\item 556\n\\item 557\n\\item 558\n\\item 600\n\\item 601\n\\item 602\n\\item 603\n\\item 604\n\\item 605\n\\item 606\n\\item 607\n\\item 608\n\\item 609\n\\item 610\n\\item 611\n\\item 612\n\\item 613\n\\item 614\n\\item 615\n\\item 616\n\\item 617\n\\item 618\n\\item 619\n\\item 620\n\\item 621\n\\item 622\n\\item 623\n\\item 624\n\\item 625\n\\item 626\n\\item 627\n\\item 628\n\\item 629\n\\item 630\n\\item 631\n\\item 632\n\\item 633\n\\item 634\n\\item 635\n\\item 636\n\\item 637\n\\item 638\n\\item 639\n\\item 640\n\\item 641\n\\item 642\n\\item 643\n\\item 644\n\\item 645\n\\item 646\n\\item 647\n\\item 648\n\\item 649\n\\item 650\n\\item 651\n\\item 652\n\\item 653\n\\item 654\n\\item 655\n\\item 656\n\\item 657\n\\item 658\n\\item 659\n\\item 700\n\\item 701\n\\item 702\n\\item 703\n\\item 704\n\\item 705\n\\item 706\n\\item 707\n\\item 708\n\\item 709\n\\item 710\n\\item 711\n\\item 712\n\\item 713\n\\item 714\n\\item 715\n\\item 716\n\\item 717\n\\item 718\n\\item 719\n\\item 720\n\\item 721\n\\item 722\n\\item 723\n\\item 724\n\\item 725\n\\item 726\n\\item 727\n\\item 728\n\\item 729\n\\item 730\n\\item 731\n\\item 732\n\\item 733\n\\item 734\n\\item 735\n\\item 736\n\\item 737\n\\item 738\n\\item 739\n\\item 740\n\\item 741\n\\item 742\n\\item 743\n\\item 744\n\\item 745\n\\item 746\n\\item 747\n\\item 748\n\\item 749\n\\item 750\n\\item 751\n\\item 752\n\\item 753\n\\item 754\n\\item 755\n\\item 756\n\\item 757\n\\item 758\n\\item 759\n\\item 800\n\\item 801\n\\item 802\n\\item 803\n\\item 804\n\\item 805\n\\item 806\n\\item 807\n\\item 808\n\\item 809\n\\item 810\n\\item 811\n\\item 812\n\\item 813\n\\item 814\n\\item 815\n\\item 816\n\\item 817\n\\item 818\n\\item 819\n\\item 820\n\\item 821\n\\item 822\n\\item 823\n\\item 824\n\\item 825\n\\item 826\n\\item 827\n\\item 828\n\\item 829\n\\item 830\n\\item 831\n\\item 832\n\\item 833\n\\item 834\n\\item 835\n\\item 836\n\\item 837\n\\item 838\n\\item 839\n\\item 840\n\\item 841\n\\item 842\n\\item 843\n\\item 844\n\\item 845\n\\item 846\n\\item 847\n\\item 848\n\\item 849\n\\item 850\n\\item 851\n\\item 852\n\\item 853\n\\item 854\n\\item 855\n\\item 856\n\\item 857\n\\item 858\n\\item 859\n\\item 900\n\\item 901\n\\item 902\n\\item 903\n\\item 904\n\\item 905\n\\item 906\n\\item 907\n\\item 908\n\\item 909\n\\item 910\n\\item 911\n\\item 912\n\\item 913\n\\item 914\n\\item 915\n\\item 916\n\\item 917\n\\item 918\n\\item 919\n\\item 920\n\\item 921\n\\item 922\n\\item 923\n\\item 924\n\\item 925\n\\item 926\n\\item 927\n\\item 928\n\\item 929\n\\item 930\n\\item 931\n\\item 932\n\\item 933\n\\item 934\n\\item 935\n\\item 936\n\\item 937\n\\item 938\n\\item 939\n\\item 940\n\\item 941\n\\item 942\n\\item 943\n\\item 944\n\\item 945\n\\item 946\n\\item 947\n\\item 948\n\\item 949\n\\item 950\n\\item 951\n\\item 952\n\\item 953\n\\item 954\n\\item 955\n\\item 956\n\\item 957\n\\item 958\n\\item 959\n\\item 1000\n\\item 1001\n\\item 1002\n\\item 1003\n\\item 1004\n\\item 1005\n\\item 1006\n\\item 1007\n\\item 1008\n\\item 1009\n\\item 1010\n\\item 1011\n\\item 1012\n\\item 1013\n\\item 1014\n\\item 1015\n\\item 1016\n\\item 1017\n\\item 1018\n\\item 1019\n\\item 1020\n\\item 1021\n\\item 1022\n\\item 1023\n\\item 1024\n\\item 1025\n\\item 1026\n\\item 1027\n\\item 1028\n\\item 1029\n\\item 1030\n\\item 1031\n\\item 1032\n\\item 1033\n\\item 1034\n\\item 1035\n\\item 1036\n\\item 1037\n\\item 1038\n\\item 1039\n\\item 1040\n\\item 1041\n\\item 1042\n\\item 1043\n\\item 1044\n\\item 1045\n\\item 1046\n\\item 1047\n\\item 1048\n\\item 1049\n\\item 1050\n\\item 1051\n\\item 1052\n\\item 1053\n\\item 1054\n\\item 1055\n\\item 1056\n\\item 1057\n\\item 1058\n\\item 1059\n\\item 1100\n\\item 1101\n\\item 1102\n\\item 1103\n\\item 1104\n\\item 1105\n\\item 1106\n\\item 1107\n\\item 1108\n\\item 1109\n\\item 1110\n\\item 1111\n\\item 1112\n\\item 1113\n\\item 1114\n\\item 1115\n\\item 1117\n\\item 1119\n\\item 1122\n\\item 1125\n\\item 1146\n\\item 6658\n\\end{enumerate*}\n",
            "text/markdown": "1. 1\n2. 2\n3. 85\n4. 107\n5. 507\n6. 550\n7. 553\n8. 554\n9. 555\n10. 556\n11. 557\n12. 558\n13. 600\n14. 601\n15. 602\n16. 603\n17. 604\n18. 605\n19. 606\n20. 607\n21. 608\n22. 609\n23. 610\n24. 611\n25. 612\n26. 613\n27. 614\n28. 615\n29. 616\n30. 617\n31. 618\n32. 619\n33. 620\n34. 621\n35. 622\n36. 623\n37. 624\n38. 625\n39. 626\n40. 627\n41. 628\n42. 629\n43. 630\n44. 631\n45. 632\n46. 633\n47. 634\n48. 635\n49. 636\n50. 637\n51. 638\n52. 639\n53. 640\n54. 641\n55. 642\n56. 643\n57. 644\n58. 645\n59. 646\n60. 647\n61. 648\n62. 649\n63. 650\n64. 651\n65. 652\n66. 653\n67. 654\n68. 655\n69. 656\n70. 657\n71. 658\n72. 659\n73. 700\n74. 701\n75. 702\n76. 703\n77. 704\n78. 705\n79. 706\n80. 707\n81. 708\n82. 709\n83. 710\n84. 711\n85. 712\n86. 713\n87. 714\n88. 715\n89. 716\n90. 717\n91. 718\n92. 719\n93. 720\n94. 721\n95. 722\n96. 723\n97. 724\n98. 725\n99. 726\n100. 727\n101. 728\n102. 729\n103. 730\n104. 731\n105. 732\n106. 733\n107. 734\n108. 735\n109. 736\n110. 737\n111. 738\n112. 739\n113. 740\n114. 741\n115. 742\n116. 743\n117. 744\n118. 745\n119. 746\n120. 747\n121. 748\n122. 749\n123. 750\n124. 751\n125. 752\n126. 753\n127. 754\n128. 755\n129. 756\n130. 757\n131. 758\n132. 759\n133. 800\n134. 801\n135. 802\n136. 803\n137. 804\n138. 805\n139. 806\n140. 807\n141. 808\n142. 809\n143. 810\n144. 811\n145. 812\n146. 813\n147. 814\n148. 815\n149. 816\n150. 817\n151. 818\n152. 819\n153. 820\n154. 821\n155. 822\n156. 823\n157. 824\n158. 825\n159. 826\n160. 827\n161. 828\n162. 829\n163. 830\n164. 831\n165. 832\n166. 833\n167. 834\n168. 835\n169. 836\n170. 837\n171. 838\n172. 839\n173. 840\n174. 841\n175. 842\n176. 843\n177. 844\n178. 845\n179. 846\n180. 847\n181. 848\n182. 849\n183. 850\n184. 851\n185. 852\n186. 853\n187. 854\n188. 855\n189. 856\n190. 857\n191. 858\n192. 859\n193. 900\n194. 901\n195. 902\n196. 903\n197. 904\n198. 905\n199. 906\n200. 907\n201. 908\n202. 909\n203. 910\n204. 911\n205. 912\n206. 913\n207. 914\n208. 915\n209. 916\n210. 917\n211. 918\n212. 919\n213. 920\n214. 921\n215. 922\n216. 923\n217. 924\n218. 925\n219. 926\n220. 927\n221. 928\n222. 929\n223. 930\n224. 931\n225. 932\n226. 933\n227. 934\n228. 935\n229. 936\n230. 937\n231. 938\n232. 939\n233. 940\n234. 941\n235. 942\n236. 943\n237. 944\n238. 945\n239. 946\n240. 947\n241. 948\n242. 949\n243. 950\n244. 951\n245. 952\n246. 953\n247. 954\n248. 955\n249. 956\n250. 957\n251. 958\n252. 959\n253. 1000\n254. 1001\n255. 1002\n256. 1003\n257. 1004\n258. 1005\n259. 1006\n260. 1007\n261. 1008\n262. 1009\n263. 1010\n264. 1011\n265. 1012\n266. 1013\n267. 1014\n268. 1015\n269. 1016\n270. 1017\n271. 1018\n272. 1019\n273. 1020\n274. 1021\n275. 1022\n276. 1023\n277. 1024\n278. 1025\n279. 1026\n280. 1027\n281. 1028\n282. 1029\n283. 1030\n284. 1031\n285. 1032\n286. 1033\n287. 1034\n288. 1035\n289. 1036\n290. 1037\n291. 1038\n292. 1039\n293. 1040\n294. 1041\n295. 1042\n296. 1043\n297. 1044\n298. 1045\n299. 1046\n300. 1047\n301. 1048\n302. 1049\n303. 1050\n304. 1051\n305. 1052\n306. 1053\n307. 1054\n308. 1055\n309. 1056\n310. 1057\n311. 1058\n312. 1059\n313. 1100\n314. 1101\n315. 1102\n316. 1103\n317. 1104\n318. 1105\n319. 1106\n320. 1107\n321. 1108\n322. 1109\n323. 1110\n324. 1111\n325. 1112\n326. 1113\n327. 1114\n328. 1115\n329. 1117\n330. 1119\n331. 1122\n332. 1125\n333. 1146\n334. 6658\n\n\n",
            "text/html": [
              "<style>\n",
              ".list-inline {list-style: none; margin:0; padding: 0}\n",
              ".list-inline>li {display: inline-block}\n",
              ".list-inline>li:not(:last-child)::after {content: \"\\00b7\"; padding: 0 .5ex}\n",
              "</style>\n",
              "<ol class=list-inline><li>1</li><li>2</li><li>85</li><li>107</li><li>507</li><li>550</li><li>553</li><li>554</li><li>555</li><li>556</li><li>557</li><li>558</li><li>600</li><li>601</li><li>602</li><li>603</li><li>604</li><li>605</li><li>606</li><li>607</li><li>608</li><li>609</li><li>610</li><li>611</li><li>612</li><li>613</li><li>614</li><li>615</li><li>616</li><li>617</li><li>618</li><li>619</li><li>620</li><li>621</li><li>622</li><li>623</li><li>624</li><li>625</li><li>626</li><li>627</li><li>628</li><li>629</li><li>630</li><li>631</li><li>632</li><li>633</li><li>634</li><li>635</li><li>636</li><li>637</li><li>638</li><li>639</li><li>640</li><li>641</li><li>642</li><li>643</li><li>644</li><li>645</li><li>646</li><li>647</li><li>648</li><li>649</li><li>650</li><li>651</li><li>652</li><li>653</li><li>654</li><li>655</li><li>656</li><li>657</li><li>658</li><li>659</li><li>700</li><li>701</li><li>702</li><li>703</li><li>704</li><li>705</li><li>706</li><li>707</li><li>708</li><li>709</li><li>710</li><li>711</li><li>712</li><li>713</li><li>714</li><li>715</li><li>716</li><li>717</li><li>718</li><li>719</li><li>720</li><li>721</li><li>722</li><li>723</li><li>724</li><li>725</li><li>726</li><li>727</li><li>728</li><li>729</li><li>730</li><li>731</li><li>732</li><li>733</li><li>734</li><li>735</li><li>736</li><li>737</li><li>738</li><li>739</li><li>740</li><li>741</li><li>742</li><li>743</li><li>744</li><li>745</li><li>746</li><li>747</li><li>748</li><li>749</li><li>750</li><li>751</li><li>752</li><li>753</li><li>754</li><li>755</li><li>756</li><li>757</li><li>758</li><li>759</li><li>800</li><li>801</li><li>802</li><li>803</li><li>804</li><li>805</li><li>806</li><li>807</li><li>808</li><li>809</li><li>810</li><li>811</li><li>812</li><li>813</li><li>814</li><li>815</li><li>816</li><li>817</li><li>818</li><li>819</li><li>820</li><li>821</li><li>822</li><li>823</li><li>824</li><li>825</li><li>826</li><li>827</li><li>828</li><li>829</li><li>830</li><li>831</li><li>832</li><li>833</li><li>834</li><li>835</li><li>836</li><li>837</li><li>838</li><li>839</li><li>840</li><li>841</li><li>842</li><li>843</li><li>844</li><li>845</li><li>846</li><li>847</li><li>848</li><li>849</li><li>850</li><li>851</li><li>852</li><li>853</li><li>854</li><li>855</li><li>856</li><li>857</li><li>858</li><li>859</li><li>900</li><li>901</li><li>902</li><li>903</li><li>904</li><li>905</li><li>906</li><li>907</li><li>908</li><li>909</li><li>910</li><li>911</li><li>912</li><li>913</li><li>914</li><li>915</li><li>916</li><li>917</li><li>918</li><li>919</li><li>920</li><li>921</li><li>922</li><li>923</li><li>924</li><li>925</li><li>926</li><li>927</li><li>928</li><li>929</li><li>930</li><li>931</li><li>932</li><li>933</li><li>934</li><li>935</li><li>936</li><li>937</li><li>938</li><li>939</li><li>940</li><li>941</li><li>942</li><li>943</li><li>944</li><li>945</li><li>946</li><li>947</li><li>948</li><li>949</li><li>950</li><li>951</li><li>952</li><li>953</li><li>954</li><li>955</li><li>956</li><li>957</li><li>958</li><li>959</li><li>1000</li><li>1001</li><li>1002</li><li>1003</li><li>1004</li><li>1005</li><li>1006</li><li>1007</li><li>1008</li><li>1009</li><li>1010</li><li>1011</li><li>1012</li><li>1013</li><li>1014</li><li>1015</li><li>1016</li><li>1017</li><li>1018</li><li>1019</li><li>1020</li><li>1021</li><li>1022</li><li>1023</li><li>1024</li><li>1025</li><li>1026</li><li>1027</li><li>1028</li><li>1029</li><li>1030</li><li>1031</li><li>1032</li><li>1033</li><li>1034</li><li>1035</li><li>1036</li><li>1037</li><li>1038</li><li>1039</li><li>1040</li><li>1041</li><li>1042</li><li>1043</li><li>1044</li><li>1045</li><li>1046</li><li>1047</li><li>1048</li><li>1049</li><li>1050</li><li>1051</li><li>1052</li><li>1053</li><li>1054</li><li>1055</li><li>1056</li><li>1057</li><li>1058</li><li>1059</li><li>1100</li><li>1101</li><li>1102</li><li>1103</li><li>1104</li><li>1105</li><li>1106</li><li>1107</li><li>1108</li><li>1109</li><li>1110</li><li>1111</li><li>1112</li><li>1113</li><li>1114</li><li>1115</li><li>1117</li><li>1119</li><li>1122</li><li>1125</li><li>1146</li><li>6658</li></ol>\n"
            ]
          },
          "metadata": {
            "tags": []
          }
        }
      ]
    },
    {
      "cell_type": "code",
      "metadata": {
        "id": "R7dsEyvemdpT",
        "colab_type": "code",
        "colab": {}
      },
      "source": [
        "# replace_with_na function is from naniar\n",
        "df <- df %>%\n",
        "  replace_with_na(replace = list(survey_time_end_MDT = c(6658, 1, 2, 85, 107)))"
      ],
      "execution_count": 0,
      "outputs": []
    },
    {
      "cell_type": "markdown",
      "metadata": {
        "id": "zgc6cep2W8RA",
        "colab_type": "text"
      },
      "source": [
        "# Set DataTypes"
      ]
    },
    {
      "cell_type": "code",
      "metadata": {
        "id": "eihygEPtouVt",
        "colab_type": "code",
        "colab": {
          "base_uri": "https://localhost:8080/",
          "height": 564
        },
        "outputId": "3135bc5f-495a-486b-9bf6-c1f6fda5aadc"
      },
      "source": [
        "str(df)"
      ],
      "execution_count": 72,
      "outputs": [
        {
          "output_type": "stream",
          "text": [
            "'data.frame':\t117911 obs. of  30 variables:\n",
            " $ survey_ID                         : int  1 1 1 1 1 1 1 1 1 1 ...\n",
            " $ survey_date                       : Date, format: \"2010-05-31\" \"2010-05-31\" ...\n",
            " $ survey_time_start_MDT             : int  709 709 709 709 709 709 709 709 709 709 ...\n",
            " $ survey_time_end_MDT               : int  719 719 719 719 719 719 719 719 719 719 ...\n",
            " $ survey_visit                      : int  1 1 1 1 1 1 1 1 1 1 ...\n",
            " $ survey_grid_point                 : int  476 476 476 476 476 476 476 476 476 476 ...\n",
            " $ survey_observer                   : chr  \"Eric Rasmussen\" \"Eric Rasmussen\" \"Eric Rasmussen\" \"Eric Rasmussen\" ...\n",
            " $ survey_wind_code                  : int  1 1 1 1 1 1 1 1 1 1 ...\n",
            " $ survey_sky_code                   : int  2 2 2 2 2 2 2 2 2 2 ...\n",
            " $ survey_noise_code                 : int  2 2 2 2 2 2 2 2 2 2 ...\n",
            " $ survey_temperature_F              : int  50 50 50 50 50 50 50 50 50 50 ...\n",
            " $ records_ID                        : int  1 2 3 4 5 6 7 8 9 10 ...\n",
            " $ records_spe_code                  : chr  \"TRES\" \"BAEA\" \"LEFL\" \"SPSA\" ...\n",
            " $ records_abundance                 : int  4 1 1 2 1 1 1 1 1 1 ...\n",
            " $ records_sex                       : chr  \"Unknown\" \"Unknown\" \"Male\" \"Unknown\" ...\n",
            " $ records_detect_song               : int  0 0 1 0 1 1 1 1 1 1 ...\n",
            " $ records_detect_call               : int  1 0 0 1 0 0 0 0 0 0 ...\n",
            " $ records_detect_visual             : int  1 0 0 0 0 0 0 0 0 0 ...\n",
            " $ records_detect_other              : chr  NA NA NA NA ...\n",
            " $ records_detect_distance_min_meters: int  10 150 50 75 45 100 80 125 400 70 ...\n",
            " $ records_interval                  : chr  \"1\" \"1\" \"1\" \"1\" ...\n",
            " $ records_location_code             : chr  \"0\" \"0\" \"0\" \"0\" ...\n",
            " $ habitat_location_description      : chr  \"River-bottom forest\" \"River-bottom forest\" \"River-bottom forest\" \"River-bottom forest\" ...\n",
            " $ function_spe_name_common          : chr  \"Tree Swallow\" \"Bald Eagle\" \"Least Flycatcher\" \"Spotted Sandpiper\" ...\n",
            " $ function_habitat_preference       : chr  \"Lake/Pond\" \"Forest\" \"Forest\" \"Shoreline\" ...\n",
            " $ function_food_preference          : chr  \"Insects\" \"Fish\" \"Insects\" \"Small Animals\" ...\n",
            " $ function_nesting_behavior         : chr  \"Cavity\" \"Tree\" \"Tree\" \"Ground\" ...\n",
            " $ function_feeding_behavior         : chr  \"Aerial Forager\" \"Soaring\" \"Flycatching\" \"Probing\" ...\n",
            " $ function_taxa_order               : chr  \"Passeriformes\" \"Accipitriformes\" \"Passeriformes\" \"Charadriiformes\" ...\n",
            " $ function_taxa_family              : chr  \"Hirundinidae\" \"Accipitridae\" \"Tyrannidae\" \"Scolopacidae\" ...\n"
          ],
          "name": "stdout"
        }
      ]
    },
    {
      "cell_type": "markdown",
      "metadata": {
        "id": "aEkQ64rjmgXq",
        "colab_type": "text"
      },
      "source": [
        "## survey_date"
      ]
    },
    {
      "cell_type": "code",
      "metadata": {
        "id": "grNoO6oCXC11",
        "colab_type": "code",
        "colab": {}
      },
      "source": [
        "df$survey_date <- as_date(df$survey_date)"
      ],
      "execution_count": 0,
      "outputs": []
    },
    {
      "cell_type": "markdown",
      "metadata": {
        "id": "m-fX_Ih6okn8",
        "colab_type": "text"
      },
      "source": [
        "## survey_time_*"
      ]
    },
    {
      "cell_type": "code",
      "metadata": {
        "id": "GVc90lL1paMl",
        "colab_type": "code",
        "colab": {}
      },
      "source": [
        "df$survey_time_start_MDT <- hms::as.hms(parse_date_time(df$survey_time_start_MDT, \"HM\"))\n",
        "df$survey_time_end_MDT <- hms::as.hms(parse_date_time(df$survey_time_end_MDT, \"HM\"))"
      ],
      "execution_count": 0,
      "outputs": []
    },
    {
      "cell_type": "markdown",
      "metadata": {
        "id": "CdUMl7nDup56",
        "colab_type": "text"
      },
      "source": [
        "## records_detect_*"
      ]
    },
    {
      "cell_type": "code",
      "metadata": {
        "id": "ohwJerqCuuc0",
        "colab_type": "code",
        "colab": {}
      },
      "source": [
        "df <- df %>%\n",
        "  mutate_at(vars(16:18), as.logical)"
      ],
      "execution_count": 0,
      "outputs": []
    },
    {
      "cell_type": "markdown",
      "metadata": {
        "id": "2fV7OAyhwr3N",
        "colab_type": "text"
      },
      "source": [
        "## records_location_code"
      ]
    },
    {
      "cell_type": "code",
      "metadata": {
        "id": "y87xZqPIwuju",
        "colab_type": "code",
        "colab": {
          "base_uri": "https://localhost:8080/",
          "height": 536
        },
        "outputId": "24262477-d29b-44f2-92d5-28cb861ee072"
      },
      "source": [
        "fct_count(df$records_location_code)"
      ],
      "execution_count": 115,
      "outputs": [
        {
          "output_type": "display_data",
          "data": {
            "text/plain": [
              "   f  n    \n",
              "1  0  11959\n",
              "2  1  18433\n",
              "3  10   141\n",
              "4  11  1452\n",
              "5  12   860\n",
              "6  13   783\n",
              "7  14   256\n",
              "8  15  5448\n",
              "9  16  8384\n",
              "10 17  1694\n",
              "11 18   133\n",
              "12 2   1216\n",
              "13 3   7345\n",
              "14 4  10066\n",
              "15 5  14013\n",
              "16 6   5218\n",
              "17 7   4506\n",
              "18 8   3793\n",
              "19 9   9372\n",
              "20 F   4896\n",
              "21 U   7943"
            ],
            "text/latex": "A tibble: 21 × 2\n\\begin{tabular}{ll}\n f & n\\\\\n <fct> & <int>\\\\\n\\hline\n\t 0  & 11959\\\\\n\t 1  & 18433\\\\\n\t 10 &   141\\\\\n\t 11 &  1452\\\\\n\t 12 &   860\\\\\n\t 13 &   783\\\\\n\t 14 &   256\\\\\n\t 15 &  5448\\\\\n\t 16 &  8384\\\\\n\t 17 &  1694\\\\\n\t 18 &   133\\\\\n\t 2  &  1216\\\\\n\t 3  &  7345\\\\\n\t 4  & 10066\\\\\n\t 5  & 14013\\\\\n\t 6  &  5218\\\\\n\t 7  &  4506\\\\\n\t 8  &  3793\\\\\n\t 9  &  9372\\\\\n\t F  &  4896\\\\\n\t U  &  7943\\\\\n\\end{tabular}\n",
            "text/markdown": "\nA tibble: 21 × 2\n\n| f &lt;fct&gt; | n &lt;int&gt; |\n|---|---|\n| 0  | 11959 |\n| 1  | 18433 |\n| 10 |   141 |\n| 11 |  1452 |\n| 12 |   860 |\n| 13 |   783 |\n| 14 |   256 |\n| 15 |  5448 |\n| 16 |  8384 |\n| 17 |  1694 |\n| 18 |   133 |\n| 2  |  1216 |\n| 3  |  7345 |\n| 4  | 10066 |\n| 5  | 14013 |\n| 6  |  5218 |\n| 7  |  4506 |\n| 8  |  3793 |\n| 9  |  9372 |\n| F  |  4896 |\n| U  |  7943 |\n\n",
            "text/html": [
              "<table>\n",
              "<caption>A tibble: 21 × 2</caption>\n",
              "<thead>\n",
              "\t<tr><th scope=col>f</th><th scope=col>n</th></tr>\n",
              "\t<tr><th scope=col>&lt;fct&gt;</th><th scope=col>&lt;int&gt;</th></tr>\n",
              "</thead>\n",
              "<tbody>\n",
              "\t<tr><td>0 </td><td>11959</td></tr>\n",
              "\t<tr><td>1 </td><td>18433</td></tr>\n",
              "\t<tr><td>10</td><td>  141</td></tr>\n",
              "\t<tr><td>11</td><td> 1452</td></tr>\n",
              "\t<tr><td>12</td><td>  860</td></tr>\n",
              "\t<tr><td>13</td><td>  783</td></tr>\n",
              "\t<tr><td>14</td><td>  256</td></tr>\n",
              "\t<tr><td>15</td><td> 5448</td></tr>\n",
              "\t<tr><td>16</td><td> 8384</td></tr>\n",
              "\t<tr><td>17</td><td> 1694</td></tr>\n",
              "\t<tr><td>18</td><td>  133</td></tr>\n",
              "\t<tr><td>2 </td><td> 1216</td></tr>\n",
              "\t<tr><td>3 </td><td> 7345</td></tr>\n",
              "\t<tr><td>4 </td><td>10066</td></tr>\n",
              "\t<tr><td>5 </td><td>14013</td></tr>\n",
              "\t<tr><td>6 </td><td> 5218</td></tr>\n",
              "\t<tr><td>7 </td><td> 4506</td></tr>\n",
              "\t<tr><td>8 </td><td> 3793</td></tr>\n",
              "\t<tr><td>9 </td><td> 9372</td></tr>\n",
              "\t<tr><td>F </td><td> 4896</td></tr>\n",
              "\t<tr><td>U </td><td> 7943</td></tr>\n",
              "</tbody>\n",
              "</table>\n"
            ]
          },
          "metadata": {
            "tags": []
          }
        }
      ]
    },
    {
      "cell_type": "code",
      "metadata": {
        "id": "q2F8hNOywlDR",
        "colab_type": "code",
        "colab": {
          "base_uri": "https://localhost:8080/",
          "height": 598
        },
        "outputId": "c7def056-6535-48fc-a444-d1a062d8d182"
      },
      "source": [
        "str(df)"
      ],
      "execution_count": 119,
      "outputs": [
        {
          "output_type": "stream",
          "text": [
            "'data.frame':\t117911 obs. of  30 variables:\n",
            " $ survey_ID                         : int  1 1 1 1 1 1 1 1 1 1 ...\n",
            " $ survey_date                       : Date, format: \"2010-05-31\" \"2010-05-31\" ...\n",
            " $ survey_time_start_MDT             : 'hms' num  07:09:00 07:09:00 07:09:00 07:09:00 ...\n",
            "  ..- attr(*, \"units\")= chr \"secs\"\n",
            " $ survey_time_end_MDT               : 'hms' num  07:19:00 07:19:00 07:19:00 07:19:00 ...\n",
            "  ..- attr(*, \"units\")= chr \"secs\"\n",
            " $ survey_visit                      : int  1 1 1 1 1 1 1 1 1 1 ...\n",
            " $ survey_grid_point                 : int  476 476 476 476 476 476 476 476 476 476 ...\n",
            " $ survey_observer                   : chr  \"Eric Rasmussen\" \"Eric Rasmussen\" \"Eric Rasmussen\" \"Eric Rasmussen\" ...\n",
            " $ survey_wind_code                  : int  1 1 1 1 1 1 1 1 1 1 ...\n",
            " $ survey_sky_code                   : int  2 2 2 2 2 2 2 2 2 2 ...\n",
            " $ survey_noise_code                 : int  2 2 2 2 2 2 2 2 2 2 ...\n",
            " $ survey_temperature_F              : int  50 50 50 50 50 50 50 50 50 50 ...\n",
            " $ records_ID                        : int  1 2 3 4 5 6 7 8 9 10 ...\n",
            " $ records_spe_code                  : chr  \"TRES\" \"BAEA\" \"LEFL\" \"SPSA\" ...\n",
            " $ records_abundance                 : int  4 1 1 2 1 1 1 1 1 1 ...\n",
            " $ records_sex                       : chr  \"Unknown\" \"Unknown\" \"Male\" \"Unknown\" ...\n",
            " $ records_detect_song               : logi  FALSE FALSE TRUE FALSE TRUE TRUE ...\n",
            " $ records_detect_call               : logi  TRUE FALSE FALSE TRUE FALSE FALSE ...\n",
            " $ records_detect_visual             : logi  TRUE FALSE FALSE FALSE FALSE FALSE ...\n",
            " $ records_detect_other              : chr  NA NA NA NA ...\n",
            " $ records_detect_distance_min_meters: int  10 150 50 75 45 100 80 125 400 70 ...\n",
            " $ records_interval                  : chr  \"1\" \"1\" \"1\" \"1\" ...\n",
            " $ records_location_code             : chr  \"0\" \"0\" \"0\" \"0\" ...\n",
            " $ habitat_location_description      : chr  \"River-bottom forest\" \"River-bottom forest\" \"River-bottom forest\" \"River-bottom forest\" ...\n",
            " $ function_spe_name_common          : chr  \"Tree Swallow\" \"Bald Eagle\" \"Least Flycatcher\" \"Spotted Sandpiper\" ...\n",
            " $ function_habitat_preference       : chr  \"Lake/Pond\" \"Forest\" \"Forest\" \"Shoreline\" ...\n",
            " $ function_food_preference          : chr  \"Insects\" \"Fish\" \"Insects\" \"Small Animals\" ...\n",
            " $ function_nesting_behavior         : chr  \"Cavity\" \"Tree\" \"Tree\" \"Ground\" ...\n",
            " $ function_feeding_behavior         : chr  \"Aerial Forager\" \"Soaring\" \"Flycatching\" \"Probing\" ...\n",
            " $ function_taxa_order               : chr  \"Passeriformes\" \"Accipitriformes\" \"Passeriformes\" \"Charadriiformes\" ...\n",
            " $ function_taxa_family              : chr  \"Hirundinidae\" \"Accipitridae\" \"Tyrannidae\" \"Scolopacidae\" ...\n"
          ],
          "name": "stdout"
        }
      ]
    },
    {
      "cell_type": "markdown",
      "metadata": {
        "id": "YaeYrMdw0n-u",
        "colab_type": "text"
      },
      "source": [
        "# Push to BigQuery"
      ]
    },
    {
      "cell_type": "markdown",
      "metadata": {
        "id": "8M-AYbllQ7ly",
        "colab_type": "text"
      },
      "source": [
        "Based on my understanding the push to BQ from bigrquery is still convoluted.  I was able to push to a table in BQ but the column order was not preserved."
      ]
    },
    {
      "cell_type": "markdown",
      "metadata": {
        "id": "HeRugl8P2rd5",
        "colab_type": "text"
      },
      "source": [
        "## API Key"
      ]
    },
    {
      "cell_type": "code",
      "metadata": {
        "id": "YqiTh-pH2PZs",
        "colab_type": "code",
        "colab": {}
      },
      "source": [
        "bq_auth(path = \"/content/mpg-data-warehouse-34434e1a9914.json\")"
      ],
      "execution_count": 0,
      "outputs": []
    },
    {
      "cell_type": "markdown",
      "metadata": {
        "id": "SdCD3Wh22wPd",
        "colab_type": "text"
      },
      "source": [
        "## Connection"
      ]
    },
    {
      "cell_type": "code",
      "metadata": {
        "id": "zkAel-_O2YFn",
        "colab_type": "code",
        "colab": {}
      },
      "source": [
        "Sys.setenv(BIGQUERY_TEST_PROJECT = \"mpg-data-warehouse\")\n",
        "billing <- bq_test_project()"
      ],
      "execution_count": 0,
      "outputs": []
    },
    {
      "cell_type": "code",
      "metadata": {
        "id": "oRpVMY0v2o8e",
        "colab_type": "code",
        "colab": {}
      },
      "source": [
        "con <- dbConnect(\n",
        "  bigrquery::bigquery(),\n",
        "  project = \"mpg-data-warehouse\",\n",
        "  dataset = \"bird_point_counts\",\n",
        "  billing = billing\n",
        ")"
      ],
      "execution_count": 0,
      "outputs": []
    },
    {
      "cell_type": "code",
      "metadata": {
        "id": "Y-B-dTcl3VUE",
        "colab_type": "code",
        "outputId": "f1305ee9-7b93-441e-afb2-ff27f4a905de",
        "colab": {
          "base_uri": "https://localhost:8080/",
          "height": 68
        }
      },
      "source": [
        "con"
      ],
      "execution_count": 0,
      "outputs": [
        {
          "output_type": "display_data",
          "data": {
            "text/plain": [
              "<BigQueryConnection>\n",
              "  Dataset: mpg-data-warehouse.bird_point_counts\n",
              "  Billing: mpg-data-warehouse"
            ]
          },
          "metadata": {
            "tags": []
          }
        }
      ]
    },
    {
      "cell_type": "code",
      "metadata": {
        "id": "RTOz82do3gxz",
        "colab_type": "code",
        "outputId": "f398fdbf-3fe6-4018-8cd9-fb487de19c32",
        "colab": {
          "base_uri": "https://localhost:8080/",
          "height": 34
        }
      },
      "source": [
        "dbListTables(con)"
      ],
      "execution_count": 0,
      "outputs": [
        {
          "output_type": "display_data",
          "data": {
            "text/plain": [
              "[1] \"bird_surveyInfo_records_function\""
            ],
            "text/latex": "'bird\\_surveyInfo\\_records\\_function'",
            "text/markdown": "'bird_surveyInfo_records_function'",
            "text/html": [
              "'bird_surveyInfo_records_function'"
            ]
          },
          "metadata": {
            "tags": []
          }
        }
      ]
    },
    {
      "cell_type": "code",
      "metadata": {
        "id": "Z3lbkKb36Ev0",
        "colab_type": "code",
        "colab": {}
      },
      "source": [
        ""
      ],
      "execution_count": 0,
      "outputs": []
    },
    {
      "cell_type": "markdown",
      "metadata": {
        "id": "mnWxwz533tsW",
        "colab_type": "text"
      },
      "source": [
        "## Push"
      ]
    },
    {
      "cell_type": "markdown",
      "metadata": {
        "id": "2r0w4eBy7Ajl",
        "colab_type": "text"
      },
      "source": [
        "### testing\n"
      ]
    },
    {
      "cell_type": "code",
      "metadata": {
        "id": "ehPhovCc8elB",
        "colab_type": "code",
        "colab": {}
      },
      "source": [
        "ds <- bq_dataset(\"mpg-data-warehouse\", \"bird_point_counts\")"
      ],
      "execution_count": 0,
      "outputs": []
    },
    {
      "cell_type": "code",
      "metadata": {
        "id": "u9N0g3IS8kWv",
        "colab_type": "code",
        "outputId": "dc7a3977-de89-4e2e-bd5f-83d4953750b8",
        "colab": {
          "base_uri": "https://localhost:8080/",
          "height": 34
        }
      },
      "source": [
        "ds"
      ],
      "execution_count": 0,
      "outputs": [
        {
          "output_type": "display_data",
          "data": {
            "text/plain": [
              "<bq_dataset> mpg-data-warehouse.bird_point_counts"
            ]
          },
          "metadata": {
            "tags": []
          }
        }
      ]
    },
    {
      "cell_type": "code",
      "metadata": {
        "id": "-YnDI4lw9il5",
        "colab_type": "code",
        "colab": {}
      },
      "source": [
        "bq_test <- bq_table(ds, \"testing\")"
      ],
      "execution_count": 0,
      "outputs": []
    },
    {
      "cell_type": "code",
      "metadata": {
        "id": "IJQBhR6A8qwt",
        "colab_type": "code",
        "colab": {
          "base_uri": "https://localhost:8080/",
          "height": 34
        },
        "outputId": "65ff9e01-45d0-400d-8f33-29c1f7f7319f"
      },
      "source": [
        "bq_table_exists(bq_table(ds, \"bird_surveyInfo_records_function\"))"
      ],
      "execution_count": 216,
      "outputs": [
        {
          "output_type": "display_data",
          "data": {
            "text/plain": [
              "[1] TRUE"
            ],
            "text/latex": "TRUE",
            "text/markdown": "TRUE",
            "text/html": [
              "TRUE"
            ]
          },
          "metadata": {
            "tags": []
          }
        }
      ]
    },
    {
      "cell_type": "code",
      "metadata": {
        "id": "VRqJ-cje9Szi",
        "colab_type": "code",
        "colab": {}
      },
      "source": [
        "bq_table_upload(bq_test, df)"
      ],
      "execution_count": 0,
      "outputs": []
    },
    {
      "cell_type": "code",
      "metadata": {
        "id": "0VE548Fg3vMF",
        "colab_type": "code",
        "colab": {
          "base_uri": "https://localhost:8080/",
          "height": 167
        },
        "outputId": "73acb00d-e263-4d5b-dc98-513d32046686"
      },
      "source": [
        "\n",
        "\n",
        "bq_x <- bq_table_create(\n",
        "  ds, \"bird_point_counts\"),\n",
        "  \"some_x\"\n",
        ")"
      ],
      "execution_count": 206,
      "outputs": [
        {
          "output_type": "error",
          "ename": "ERROR",
          "evalue": "ignored",
          "traceback": [
            "Error in UseMethod(\"as_bq_table\"): no applicable method for 'as_bq_table' applied to an object of class \"data.frame\"\nTraceback:\n",
            "1. bq_table_create(df, \"some_x\")",
            "2. as_bq_table(x)"
          ]
        }
      ]
    },
    {
      "cell_type": "code",
      "metadata": {
        "id": "Ppz012sn7IbP",
        "colab_type": "code",
        "colab": {}
      },
      "source": [
        "help(bq_table_upload)"
      ],
      "execution_count": 0,
      "outputs": []
    },
    {
      "cell_type": "code",
      "metadata": {
        "id": "SEPyRibA_rrB",
        "colab_type": "code",
        "colab": {}
      },
      "source": [
        ""
      ],
      "execution_count": 0,
      "outputs": []
    },
    {
      "cell_type": "markdown",
      "metadata": {
        "id": "yxfitN4W_uKA",
        "colab_type": "text"
      },
      "source": [
        "### odbc"
      ]
    },
    {
      "cell_type": "code",
      "metadata": {
        "id": "dHN2BSyS79PU",
        "colab_type": "code",
        "colab": {
          "base_uri": "https://localhost:8080/",
          "height": 34
        },
        "outputId": "8846cd25-a0f2-4f98-cbcc-1baa6be1d996"
      },
      "source": [
        "con <- DBI::dbConnect(odbc::odbc(),\n",
        "                      Driver         = \"[your driver's name]\",\n",
        "                      Catalog        = \"[BigQuery project name]\",\n",
        "                      Email          = \"[Google service account email]\",\n",
        "                      KeyFilePath    = \"[Full path to key file]\",\n",
        "                      OAuthMechanism = 0)"
      ],
      "execution_count": 209,
      "outputs": [
        {
          "output_type": "display_data",
          "data": {
            "text/plain": [
              "<bq_dataset> mpg-data-warehouse.bird_point_counts"
            ]
          },
          "metadata": {
            "tags": []
          }
        }
      ]
    },
    {
      "cell_type": "code",
      "metadata": {
        "id": "R3I7Njjqo9Dc",
        "colab_type": "code",
        "colab": {
          "base_uri": "https://localhost:8080/",
          "height": 564
        },
        "outputId": "1b6c78d2-a6f2-4ff7-c674-ca99a09a5767"
      },
      "source": [
        "str(df)"
      ],
      "execution_count": 72,
      "outputs": [
        {
          "output_type": "stream",
          "text": [
            "'data.frame':\t117911 obs. of  30 variables:\n",
            " $ survey_ID                         : int  1 1 1 1 1 1 1 1 1 1 ...\n",
            " $ survey_date                       : Date, format: \"2010-05-31\" \"2010-05-31\" ...\n",
            " $ survey_time_start_MDT             : int  709 709 709 709 709 709 709 709 709 709 ...\n",
            " $ survey_time_end_MDT               : int  719 719 719 719 719 719 719 719 719 719 ...\n",
            " $ survey_visit                      : int  1 1 1 1 1 1 1 1 1 1 ...\n",
            " $ survey_grid_point                 : int  476 476 476 476 476 476 476 476 476 476 ...\n",
            " $ survey_observer                   : chr  \"Eric Rasmussen\" \"Eric Rasmussen\" \"Eric Rasmussen\" \"Eric Rasmussen\" ...\n",
            " $ survey_wind_code                  : int  1 1 1 1 1 1 1 1 1 1 ...\n",
            " $ survey_sky_code                   : int  2 2 2 2 2 2 2 2 2 2 ...\n",
            " $ survey_noise_code                 : int  2 2 2 2 2 2 2 2 2 2 ...\n",
            " $ survey_temperature_F              : int  50 50 50 50 50 50 50 50 50 50 ...\n",
            " $ records_ID                        : int  1 2 3 4 5 6 7 8 9 10 ...\n",
            " $ records_spe_code                  : chr  \"TRES\" \"BAEA\" \"LEFL\" \"SPSA\" ...\n",
            " $ records_abundance                 : int  4 1 1 2 1 1 1 1 1 1 ...\n",
            " $ records_sex                       : chr  \"Unknown\" \"Unknown\" \"Male\" \"Unknown\" ...\n",
            " $ records_detect_song               : int  0 0 1 0 1 1 1 1 1 1 ...\n",
            " $ records_detect_call               : int  1 0 0 1 0 0 0 0 0 0 ...\n",
            " $ records_detect_visual             : int  1 0 0 0 0 0 0 0 0 0 ...\n",
            " $ records_detect_other              : chr  \"\" \"\" \"\" \"\" ...\n",
            " $ records_detect_distance_min_meters: int  10 150 50 75 45 100 80 125 400 70 ...\n",
            " $ records_interval                  : chr  \"1\" \"1\" \"1\" \"1\" ...\n",
            " $ records_location_code             : chr  \"0\" \"0\" \"0\" \"0\" ...\n",
            " $ habitat_location_description      : chr  \"River-bottom forest\" \"River-bottom forest\" \"River-bottom forest\" \"River-bottom forest\" ...\n",
            " $ function_spe_name_common          : chr  \"Tree Swallow\" \"Bald Eagle\" \"Least Flycatcher\" \"Spotted Sandpiper\" ...\n",
            " $ function_habitat_preference       : chr  \"Lake/Pond\" \"Forest\" \"Forest\" \"Shoreline\" ...\n",
            " $ function_food_preference          : chr  \"Insects\" \"Fish\" \"Insects\" \"Small Animals\" ...\n",
            " $ function_nesting_behavior         : chr  \"Cavity\" \"Tree\" \"Tree\" \"Ground\" ...\n",
            " $ function_feeding_behavior         : chr  \"Aerial Forager\" \"Soaring\" \"Flycatching\" \"Probing\" ...\n",
            " $ function_taxa_order               : chr  \"Passeriformes\" \"Accipitriformes\" \"Passeriformes\" \"Charadriiformes\" ...\n",
            " $ function_taxa_family              : chr  \"Hirundinidae\" \"Accipitridae\" \"Tyrannidae\" \"Scolopacidae\" ...\n"
          ],
          "name": "stdout"
        }
      ]
    }
  ]
}