{
  "nbformat": 4,
  "nbformat_minor": 0,
  "metadata": {
    "colab": {
      "name": "abundance_order_habitat-wrangle.ipynb",
      "provenance": [],
      "collapsed_sections": [],
      "toc_visible": true
    },
    "language_info": {
      "codemirror_mode": "r",
      "file_extension": ".r",
      "mimetype": "text/x-r-source",
      "name": "R",
      "pygments_lexer": "r",
      "version": "3.3.1"
    },
    "kernelspec": {
      "display_name": "R",
      "language": "R",
      "name": "ir"
    }
  },
  "cells": [
    {
      "cell_type": "markdown",
      "metadata": {
        "id": "M1pzdtoOrN_U",
        "colab_type": "text"
      },
      "source": [
        "# View: abundance_order_habitat\n",
        "Project:Dataset in BQ: **mpg-data-warehouse:bird_point_count_summaries**\n",
        "\n",
        "This view will allow us to analyze basic trends in bird abundance among habitats at MPG. Initially, such summaries are necessary for the MPG Matrix. To produce the view, the bird data must first be summarized to obtain abundances by taxonomic order at each grid point. There will be several steps to consider how to account for the number of technician visits per year and the number of points visited per year. Then, the summarized bird data will be joined to a habitat classification from grid point metadata.\n",
        "\n",
        "* Documentation: [Readme bird point count monitoring](https://docs.google.com/document/d/1PRryJzGOUtfr-fKXzb3tbr48xiaTuAMVk18XFXlvxcM/edit?usp=sharing)\n",
        "\n",
        "## Updates will be necessary\n",
        "* **2020-05-22**. Right now, this file must pull data from a csv in GD, rather than a view in BQ as intended. This is due to an [OAuth issue](https://colab.research.google.com/drive/1NkqB9RXRpMl2m4fwTy3H5rz1SDwCA_DE#scrollTo=EIn9rVWbwOMo&line=1&uniqifier=1) that we are looking into. Make sure that we evenually circle back and confirm that this notebook is pulling data from BQ, whether we have to flatten the source files, or if we learn how to manage GD OAuth.\n",
        "* **2020-05-22**. Right now, abundance summaries for the MPG Matrix are processed in this notebook. Once we are able to solve the issue from (1), move the abundance summaires to a new notebook located in the Matrix directory. "
      ]
    },
    {
      "cell_type": "markdown",
      "metadata": {
        "id": "BhOI1uU2Koum",
        "colab_type": "text"
      },
      "source": [
        "# Tools"
      ]
    },
    {
      "cell_type": "code",
      "metadata": {
        "id": "VxYkYhQTKouo",
        "colab_type": "code",
        "colab": {}
      },
      "source": [
        "library(tidyverse)"
      ],
      "execution_count": 0,
      "outputs": []
    },
    {
      "cell_type": "code",
      "metadata": {
        "id": "7fGGjRHPr0iy",
        "colab_type": "code",
        "outputId": "38894142-c013-4a7a-b4ff-b9436866e1f2",
        "colab": {
          "base_uri": "https://localhost:8080/",
          "height": 119
        }
      },
      "source": [
        "install.packages(\"bigrquery\")\n",
        "library(bigrquery)"
      ],
      "execution_count": 0,
      "outputs": [
        {
          "output_type": "stream",
          "text": [
            "Installing package into ‘/usr/local/lib/R/site-library’\n",
            "(as ‘lib’ is unspecified)\n",
            "\n",
            "also installing the dependencies ‘bit’, ‘bit64’, ‘gargle’, ‘rapidjsonr’\n",
            "\n",
            "\n"
          ],
          "name": "stderr"
        }
      ]
    },
    {
      "cell_type": "markdown",
      "metadata": {
        "id": "dJumZg8Drpho",
        "colab_type": "text"
      },
      "source": [
        "# Source"
      ]
    },
    {
      "cell_type": "markdown",
      "metadata": {
        "id": "1ka0lsjIrsrw",
        "colab_type": "text"
      },
      "source": [
        "## BigQuery"
      ]
    },
    {
      "cell_type": "markdown",
      "metadata": {
        "id": "ATiFrHRlsWUT",
        "colab_type": "text"
      },
      "source": [
        "### Database Connection"
      ]
    },
    {
      "cell_type": "code",
      "metadata": {
        "id": "ihI70_BPKouq",
        "colab_type": "code",
        "colab": {}
      },
      "source": [
        "# BigQuery API Key\n",
        "bq_auth(path = \"/content/mpg-data-warehouse-api_key-master.json\")"
      ],
      "execution_count": 0,
      "outputs": []
    },
    {
      "cell_type": "code",
      "metadata": {
        "id": "3jr5y-z-sfQv",
        "colab_type": "code",
        "colab": {}
      },
      "source": [
        "Sys.setenv(BIGQUERY_TEST_PROJECT = \"mpg-data-warehouse\")"
      ],
      "execution_count": 0,
      "outputs": []
    },
    {
      "cell_type": "code",
      "metadata": {
        "id": "ZIce0n7Usy8m",
        "colab_type": "code",
        "colab": {}
      },
      "source": [
        "billing <- bq_test_project()"
      ],
      "execution_count": 0,
      "outputs": []
    },
    {
      "cell_type": "code",
      "metadata": {
        "id": "302TXcepsmr4",
        "colab_type": "code",
        "colab": {}
      },
      "source": [
        "con_bird_point_counts <- dbConnect(\n",
        "  bigrquery::bigquery(),\n",
        "  project = \"mpg-data-warehouse\",\n",
        "  dataset = \"bird_point_counts\",\n",
        "  billing = billing\n",
        ")"
      ],
      "execution_count": 0,
      "outputs": []
    },
    {
      "cell_type": "code",
      "metadata": {
        "id": "xtap3SJGtkjG",
        "colab_type": "code",
        "colab": {}
      },
      "source": [
        "con_location_position_classification <- dbConnect(\n",
        "    bigrquery::bigquery(),\n",
        "  project = \"mpg-data-warehouse\",\n",
        "  dataset = \"grid_point_summaries\",\n",
        "  billing = billing\n",
        ")"
      ],
      "execution_count": 0,
      "outputs": []
    },
    {
      "cell_type": "code",
      "metadata": {
        "id": "0UmdYQnvsvLu",
        "colab_type": "code",
        "outputId": "87a8fc0f-1530-4ef4-d576-73089aed64bf",
        "colab": {
          "base_uri": "https://localhost:8080/",
          "height": 34
        }
      },
      "source": [
        "dbListTables(con_bird_point_counts)"
      ],
      "execution_count": 0,
      "outputs": [
        {
          "output_type": "display_data",
          "data": {
            "text/plain": [
              "[1] \"bird_surveyInfo_records_function\" \"bird_survey_noise\"               \n",
              "[3] \"bird_survey_sky\"                  \"bird_survey_wind\"                "
            ],
            "text/latex": "\\begin{enumerate*}\n\\item 'bird\\_surveyInfo\\_records\\_function'\n\\item 'bird\\_survey\\_noise'\n\\item 'bird\\_survey\\_sky'\n\\item 'bird\\_survey\\_wind'\n\\end{enumerate*}\n",
            "text/markdown": "1. 'bird_surveyInfo_records_function'\n2. 'bird_survey_noise'\n3. 'bird_survey_sky'\n4. 'bird_survey_wind'\n\n\n",
            "text/html": [
              "<style>\n",
              ".list-inline {list-style: none; margin:0; padding: 0}\n",
              ".list-inline>li {display: inline-block}\n",
              ".list-inline>li:not(:last-child)::after {content: \"\\00b7\"; padding: 0 .5ex}\n",
              "</style>\n",
              "<ol class=list-inline><li>'bird_surveyInfo_records_function'</li><li>'bird_survey_noise'</li><li>'bird_survey_sky'</li><li>'bird_survey_wind'</li></ol>\n"
            ]
          },
          "metadata": {
            "tags": []
          }
        }
      ]
    },
    {
      "cell_type": "code",
      "metadata": {
        "id": "7eFOHf1lttCy",
        "colab_type": "code",
        "outputId": "6de18cbc-b039-4c77-b755-c92471248e3c",
        "colab": {
          "base_uri": "https://localhost:8080/",
          "height": 34
        }
      },
      "source": [
        "dbListTables(con_location_position_classification)"
      ],
      "execution_count": 0,
      "outputs": [
        {
          "output_type": "display_data",
          "data": {
            "text/plain": [
              "[1] \"location\"                         \"location_position_classification\"\n",
              "[3] \"point_location_position\"         "
            ],
            "text/latex": "\\begin{enumerate*}\n\\item 'location'\n\\item 'location\\_position\\_classification'\n\\item 'point\\_location\\_position'\n\\end{enumerate*}\n",
            "text/markdown": "1. 'location'\n2. 'location_position_classification'\n3. 'point_location_position'\n\n\n",
            "text/html": [
              "<style>\n",
              ".list-inline {list-style: none; margin:0; padding: 0}\n",
              ".list-inline>li {display: inline-block}\n",
              ".list-inline>li:not(:last-child)::after {content: \"\\00b7\"; padding: 0 .5ex}\n",
              "</style>\n",
              "<ol class=list-inline><li>'location'</li><li>'location_position_classification'</li><li>'point_location_position'</li></ol>\n"
            ]
          },
          "metadata": {
            "tags": []
          }
        }
      ]
    },
    {
      "cell_type": "markdown",
      "metadata": {
        "id": "kYbcQ4cFs3Xx",
        "colab_type": "text"
      },
      "source": [
        "### Query Database"
      ]
    },
    {
      "cell_type": "markdown",
      "metadata": {
        "id": "E1-JOAd0u8fo",
        "colab_type": "text"
      },
      "source": [
        "#### bird_point_counts"
      ]
    },
    {
      "cell_type": "code",
      "metadata": {
        "id": "xdxNyh-5s5By",
        "colab_type": "code",
        "colab": {}
      },
      "source": [
        "bird_sql <- \"SELECT *\n",
        "             FROM `mpg-data-warehouse.bird_point_counts.bird_surveyInfo_records_function`\""
      ],
      "execution_count": 0,
      "outputs": []
    },
    {
      "cell_type": "code",
      "metadata": {
        "id": "0QZEyXBHu6gT",
        "colab_type": "code",
        "colab": {}
      },
      "source": [
        "# result bird table\n",
        "bq_bird <- bq_project_query(billing, bird_sql)"
      ],
      "execution_count": 0,
      "outputs": []
    },
    {
      "cell_type": "code",
      "metadata": {
        "id": "cOPc7dOAvShp",
        "colab_type": "code",
        "colab": {}
      },
      "source": [
        "tb_bird = bq_table_download(bq_bird)"
      ],
      "execution_count": 0,
      "outputs": []
    },
    {
      "cell_type": "code",
      "metadata": {
        "id": "IdQurVCGvuOE",
        "colab_type": "code",
        "outputId": "164319d2-162e-4a4c-cc7e-a39fe985ba42",
        "colab": {
          "base_uri": "https://localhost:8080/",
          "height": 34
        }
      },
      "source": [
        "class(tb_bird)"
      ],
      "execution_count": 0,
      "outputs": [
        {
          "output_type": "display_data",
          "data": {
            "text/plain": [
              "[1] \"tbl_df\"     \"tbl\"        \"data.frame\""
            ],
            "text/latex": "\\begin{enumerate*}\n\\item 'tbl\\_df'\n\\item 'tbl'\n\\item 'data.frame'\n\\end{enumerate*}\n",
            "text/markdown": "1. 'tbl_df'\n2. 'tbl'\n3. 'data.frame'\n\n\n",
            "text/html": [
              "<style>\n",
              ".list-inline {list-style: none; margin:0; padding: 0}\n",
              ".list-inline>li {display: inline-block}\n",
              ".list-inline>li:not(:last-child)::after {content: \"\\00b7\"; padding: 0 .5ex}\n",
              "</style>\n",
              "<ol class=list-inline><li>'tbl_df'</li><li>'tbl'</li><li>'data.frame'</li></ol>\n"
            ]
          },
          "metadata": {
            "tags": []
          }
        }
      ]
    },
    {
      "cell_type": "code",
      "metadata": {
        "id": "sDxkGO-Jyv0b",
        "colab_type": "code",
        "colab": {}
      },
      "source": [
        "df_bird <- as.data.frame(tb_bird)"
      ],
      "execution_count": 0,
      "outputs": []
    },
    {
      "cell_type": "code",
      "metadata": {
        "id": "ofNHLKXOy0uc",
        "colab_type": "code",
        "outputId": "0a10a8aa-81e9-4d3b-ec58-980888baa43f",
        "colab": {
          "base_uri": "https://localhost:8080/",
          "height": 615
        }
      },
      "source": [
        "str(df_bird)"
      ],
      "execution_count": 0,
      "outputs": [
        {
          "output_type": "stream",
          "text": [
            "'data.frame':\t117810 obs. of  31 variables:\n",
            " $ survey_ID                         : int  4915 4915 4915 4915 4915 4915 4915 4915 4915 4915 ...\n",
            " $ survey_year                       : int  2013 2013 2013 2013 2013 2013 2013 2013 2013 2013 ...\n",
            " $ survey_date                       : Date, format: \"2013-06-17\" \"2013-06-17\" ...\n",
            " $ survey_visit_calc                 : int  2 2 2 2 2 2 2 2 2 2 ...\n",
            " $ survey_time_start_MDT             : 'hms' num  08:27:00 08:27:00 08:27:00 08:27:00 ...\n",
            "  ..- attr(*, \"units\")= chr \"secs\"\n",
            " $ survey_time_end_MDT               : 'hms' num  08:37:00 08:37:00 08:37:00 08:37:00 ...\n",
            "  ..- attr(*, \"units\")= chr \"secs\"\n",
            " $ survey_grid_point                 : int  179 179 179 179 179 179 179 179 179 179 ...\n",
            " $ survey_observer                   : chr  \"Katharine Stone\" \"Katharine Stone\" \"Katharine Stone\" \"Katharine Stone\" ...\n",
            " $ survey_wind_code                  : int  3 3 3 3 3 3 3 3 3 3 ...\n",
            " $ survey_sky_code                   : int  0 0 0 0 0 0 0 0 0 0 ...\n",
            " $ survey_noise_code                 : int  0 0 0 0 0 0 0 0 0 0 ...\n",
            " $ survey_temperature_F              : int  55 55 55 55 55 55 55 55 55 55 ...\n",
            " $ records_ID                        : int  53644 53639 53646 53638 53645 53640 53637 53641 53647 53643 ...\n",
            " $ records_spe_code                  : chr  \"BBMA\" \"VESP\" \"HOWR\" \"VESP\" ...\n",
            " $ records_abundance                 : int  1 1 1 1 1 1 1 1 1 1 ...\n",
            " $ records_sex                       : chr  \"Unknown\" \"Male\" \"Male\" \"Male\" ...\n",
            " $ records_detect_song               : logi  FALSE TRUE TRUE TRUE FALSE FALSE ...\n",
            " $ records_detect_call               : logi  TRUE FALSE FALSE FALSE TRUE TRUE ...\n",
            " $ records_detect_visual             : logi  FALSE FALSE FALSE FALSE FALSE TRUE ...\n",
            " $ records_detect_other              : chr  NA NA NA NA ...\n",
            " $ records_detect_distance_min_meters: int  263 159 305 64 190 300 138 75 154 275 ...\n",
            " $ records_interval                  : chr  \"1\" \"1\" \"2\" \"1\" ...\n",
            " $ records_location_code             : chr  \"9\" \"1\" \"7\" \"1\" ...\n",
            " $ habitat_location_description      : chr  \"Draw (shrubs)\" \"Open grassland\" \"Draw (Populus canopy)\" \"Open grassland\" ...\n",
            " $ function_spe_name_common          : chr  \"Black-billed Magpie\" \"Vesper Sparrow\" \"House Wren\" \"Vesper Sparrow\" ...\n",
            " $ function_habitat_preference       : chr  \"Open Woodland\" \"Grassland\" \"Open Woodland\" \"Grassland\" ...\n",
            " $ function_food_preference          : chr  \"Omnivore\" \"Insects\" \"Insects\" \"Insects\" ...\n",
            " $ function_nesting_behavior         : chr  \"Tree\" \"Ground\" \"Cavity\" \"Ground\" ...\n",
            " $ function_feeding_behavior         : chr  \"Ground Forager\" \"Ground Forager\" \"Foliage Gleaner\" \"Ground Forager\" ...\n",
            " $ function_taxa_order               : chr  \"Passeriformes\" \"Passeriformes\" \"Passeriformes\" \"Passeriformes\" ...\n",
            " $ function_taxa_family              : chr  \"Corvidae\" \"Emberizidae\" \"Troglodytidae\" \"Emberizidae\" ...\n"
          ],
          "name": "stdout"
        }
      ]
    },
    {
      "cell_type": "markdown",
      "metadata": {
        "id": "lsv5ylUrwAbk",
        "colab_type": "text"
      },
      "source": [
        "#### location_position_classification"
      ]
    },
    {
      "cell_type": "code",
      "metadata": {
        "id": "3_N3RatxwEq4",
        "colab_type": "code",
        "colab": {}
      },
      "source": [
        "location_sql <- \"SELECT *\n",
        "                 FROM `mpg-data-warehouse.grid_point_summaries.location_position_classification`\""
      ],
      "execution_count": 0,
      "outputs": []
    },
    {
      "cell_type": "markdown",
      "metadata": {
        "id": "9cZRdjgcwm4k",
        "colab_type": "text"
      },
      "source": [
        "Leave the following error for now.  To move forward in the present output csv from table `mpg-data-warehouse.grid_point_summaries.location_position_classification`"
      ]
    },
    {
      "cell_type": "code",
      "metadata": {
        "id": "EIn9rVWbwOMo",
        "colab_type": "code",
        "outputId": "27799d3c-d4e6-486f-818d-01f2951fb164",
        "colab": {
          "base_uri": "https://localhost:8080/",
          "height": 235
        }
      },
      "source": [
        "bq_location <- bq_project_query(billing, location_sql)"
      ],
      "execution_count": 0,
      "outputs": [
        {
          "output_type": "error",
          "ename": "ERROR",
          "evalue": "ignored",
          "traceback": [
            "Error: Job 'mpg-data-warehouse.job_uD_2cRHYiz9xZTJVB4jDh0j2gWb9.US' failed\n\u001b[31m✖\u001b[39m Error while reading table: mpg-data-warehouse.grid_point_metadata.casper_habitat_classifications, error message: Failed to read the spreadsheet. Errors: No OAuth token with Google Drive scope was found. [invalid]\nTraceback:\n",
            "1. bq_project_query(billing, location_sql)",
            "2. bq_job_wait(job, quiet = quiet)",
            "3. rlang::abort(c(paste0(\"Job '\", if (!isTRUE(quiet)) x, \"' failed\"), \n .     bullets))",
            "4. signal_abort(cnd)"
          ]
        }
      ]
    },
    {
      "cell_type": "markdown",
      "metadata": {
        "id": "gxJ_l47Tw3MJ",
        "colab_type": "text"
      },
      "source": [
        "## CSV"
      ]
    },
    {
      "cell_type": "markdown",
      "metadata": {
        "id": "aWO0iUanw9HX",
        "colab_type": "text"
      },
      "source": [
        "### location_position_classification"
      ]
    },
    {
      "cell_type": "code",
      "metadata": {
        "id": "ifmRjsA-w7NG",
        "colab_type": "code",
        "outputId": "4f40aeef-3582-4ff6-e599-e0d9ad23e626",
        "colab": {
          "base_uri": "https://localhost:8080/",
          "height": 289
        }
      },
      "source": [
        "# MPG Ranch Datasets > Bird point count monitoring > Data - Processed > location_position_classification.csv\n",
        "src_location = \"https://drive.google.com/uc?id=1z1nFdsk0vZXhw78rB3ijrFcLX2mF4VBQ\"\n",
        "df_location <- read_csv(src_location)"
      ],
      "execution_count": 0,
      "outputs": [
        {
          "output_type": "stream",
          "text": [
            "Parsed with column specification:\n",
            "cols(\n",
            "  grid_point = \u001b[32mcol_double()\u001b[39m,\n",
            "  lat = \u001b[32mcol_double()\u001b[39m,\n",
            "  long = \u001b[32mcol_double()\u001b[39m,\n",
            "  aspect_mean_deg = \u001b[32mcol_double()\u001b[39m,\n",
            "  elevation_mean_m = \u001b[32mcol_double()\u001b[39m,\n",
            "  slope_mean_deg = \u001b[32mcol_double()\u001b[39m,\n",
            "  cover_type_2016_gridVeg = \u001b[31mcol_character()\u001b[39m,\n",
            "  biomass_habitat_type = \u001b[31mcol_character()\u001b[39m,\n",
            "  type1_biome = \u001b[31mcol_character()\u001b[39m,\n",
            "  type2_vegetation_community = \u001b[31mcol_character()\u001b[39m,\n",
            "  type3_vegetation_indicators = \u001b[31mcol_character()\u001b[39m,\n",
            "  type4_indicators_history = \u001b[31mcol_character()\u001b[39m\n",
            ")\n",
            "\n"
          ],
          "name": "stderr"
        }
      ]
    },
    {
      "cell_type": "markdown",
      "metadata": {
        "id": "ZSiZe9PJy9eu",
        "colab_type": "text"
      },
      "source": [
        "# Structure"
      ]
    },
    {
      "cell_type": "markdown",
      "metadata": {
        "id": "OIhs8BXCzA4c",
        "colab_type": "text"
      },
      "source": [
        "## bird_point_counts\n",
        "\n",
        "* There are 218 missing records in `function_taxa_order` that result from the bird records summary below. They result from the various \"unknown bird\" designations possible in the species list, and are acceptable to disregard. \n",
        "* There are 21 missing records in `records_abundance`, but these are eliminated using the sum() function in the first summary. "
      ]
    },
    {
      "cell_type": "code",
      "metadata": {
        "id": "W35oYfiEy_jF",
        "colab_type": "code",
        "outputId": "370f10b0-706c-4f6e-b911-ba20b49e9b51",
        "colab": {
          "base_uri": "https://localhost:8080/",
          "height": 119
        }
      },
      "source": [
        "bird_abundance <- df_bird %>%\n",
        "  filter(records_detect_distance_min_meters <= 100,\n",
        "         records_interval %in% c(1, 2)) %>%\n",
        "  group_by(survey_year, survey_visit_calc, survey_grid_point, function_taxa_order) %>%\n",
        "  summarize(bird_abundance = sum(records_abundance)) %>%\n",
        "  group_by(survey_year, survey_grid_point, function_taxa_order) %>%\n",
        "  summarize(bird_abundance_avg = mean(bird_abundance)) %>% \n",
        "  ungroup() %>% \n",
        "  drop_na() %>% \n",
        "  glimpse()"
      ],
      "execution_count": 0,
      "outputs": [
        {
          "output_type": "stream",
          "text": [
            "Rows: 7,064\n",
            "Columns: 4\n",
            "$ survey_year         \u001b[3m\u001b[90m<int>\u001b[39m\u001b[23m 2010, 2010, 2010, 2010, 2010, 2010, 2010, 2010, 2…\n",
            "$ survey_grid_point   \u001b[3m\u001b[90m<int>\u001b[39m\u001b[23m 1, 1, 1, 2, 2, 3, 3, 4, 4, 6, 7, 7, 7, 8, 8, 9, 9…\n",
            "$ function_taxa_order \u001b[3m\u001b[90m<chr>\u001b[39m\u001b[23m \"Accipitriformes\", \"Galliformes\", \"Passeriformes\"…\n",
            "$ bird_abundance_avg  \u001b[3m\u001b[90m<dbl>\u001b[39m\u001b[23m 1.0, 1.0, 17.0, 1.0, 7.0, 1.0, 8.0, 1.0, 5.5, 7.5…\n"
          ],
          "name": "stdout"
        }
      ]
    },
    {
      "cell_type": "code",
      "metadata": {
        "id": "2v4S8-4MPEcM",
        "colab_type": "code",
        "outputId": "44864c83-a232-4c9d-8176-6035bd783e4a",
        "colab": {
          "base_uri": "https://localhost:8080/",
          "height": 288
        }
      },
      "source": [
        "bird_abundance %>% filter(survey_grid_point == 300)"
      ],
      "execution_count": 0,
      "outputs": [
        {
          "output_type": "display_data",
          "data": {
            "text/plain": [
              "   survey_year survey_grid_point function_taxa_order bird_abundance_avg\n",
              "1  2011        300               Galliformes          1.0              \n",
              "2  2011        300               Passeriformes       11.0              \n",
              "3  2012        300               Passeriformes        7.0              \n",
              "4  2013        300               Passeriformes        3.5              \n",
              "5  2014        300               Passeriformes        4.5              \n",
              "6  2015        300               Falconiformes        1.0              \n",
              "7  2015        300               Passeriformes        9.0              \n",
              "8  2015        300               Piciformes           1.0              \n",
              "9  2016        300               Columbiformes        2.0              \n",
              "10 2016        300               Passeriformes        7.5              "
            ],
            "text/latex": "A tibble: 10 × 4\n\\begin{tabular}{llll}\n survey\\_year & survey\\_grid\\_point & function\\_taxa\\_order & bird\\_abundance\\_avg\\\\\n <int> & <int> & <chr> & <dbl>\\\\\n\\hline\n\t 2011 & 300 & Galliformes   &  1.0\\\\\n\t 2011 & 300 & Passeriformes & 11.0\\\\\n\t 2012 & 300 & Passeriformes &  7.0\\\\\n\t 2013 & 300 & Passeriformes &  3.5\\\\\n\t 2014 & 300 & Passeriformes &  4.5\\\\\n\t 2015 & 300 & Falconiformes &  1.0\\\\\n\t 2015 & 300 & Passeriformes &  9.0\\\\\n\t 2015 & 300 & Piciformes    &  1.0\\\\\n\t 2016 & 300 & Columbiformes &  2.0\\\\\n\t 2016 & 300 & Passeriformes &  7.5\\\\\n\\end{tabular}\n",
            "text/markdown": "\nA tibble: 10 × 4\n\n| survey_year &lt;int&gt; | survey_grid_point &lt;int&gt; | function_taxa_order &lt;chr&gt; | bird_abundance_avg &lt;dbl&gt; |\n|---|---|---|---|\n| 2011 | 300 | Galliformes   |  1.0 |\n| 2011 | 300 | Passeriformes | 11.0 |\n| 2012 | 300 | Passeriformes |  7.0 |\n| 2013 | 300 | Passeriformes |  3.5 |\n| 2014 | 300 | Passeriformes |  4.5 |\n| 2015 | 300 | Falconiformes |  1.0 |\n| 2015 | 300 | Passeriformes |  9.0 |\n| 2015 | 300 | Piciformes    |  1.0 |\n| 2016 | 300 | Columbiformes |  2.0 |\n| 2016 | 300 | Passeriformes |  7.5 |\n\n",
            "text/html": [
              "<table>\n",
              "<caption>A tibble: 10 × 4</caption>\n",
              "<thead>\n",
              "\t<tr><th scope=col>survey_year</th><th scope=col>survey_grid_point</th><th scope=col>function_taxa_order</th><th scope=col>bird_abundance_avg</th></tr>\n",
              "\t<tr><th scope=col>&lt;int&gt;</th><th scope=col>&lt;int&gt;</th><th scope=col>&lt;chr&gt;</th><th scope=col>&lt;dbl&gt;</th></tr>\n",
              "</thead>\n",
              "<tbody>\n",
              "\t<tr><td>2011</td><td>300</td><td>Galliformes  </td><td> 1.0</td></tr>\n",
              "\t<tr><td>2011</td><td>300</td><td>Passeriformes</td><td>11.0</td></tr>\n",
              "\t<tr><td>2012</td><td>300</td><td>Passeriformes</td><td> 7.0</td></tr>\n",
              "\t<tr><td>2013</td><td>300</td><td>Passeriformes</td><td> 3.5</td></tr>\n",
              "\t<tr><td>2014</td><td>300</td><td>Passeriformes</td><td> 4.5</td></tr>\n",
              "\t<tr><td>2015</td><td>300</td><td>Falconiformes</td><td> 1.0</td></tr>\n",
              "\t<tr><td>2015</td><td>300</td><td>Passeriformes</td><td> 9.0</td></tr>\n",
              "\t<tr><td>2015</td><td>300</td><td>Piciformes   </td><td> 1.0</td></tr>\n",
              "\t<tr><td>2016</td><td>300</td><td>Columbiformes</td><td> 2.0</td></tr>\n",
              "\t<tr><td>2016</td><td>300</td><td>Passeriformes</td><td> 7.5</td></tr>\n",
              "</tbody>\n",
              "</table>\n"
            ]
          },
          "metadata": {
            "tags": []
          }
        }
      ]
    },
    {
      "cell_type": "code",
      "metadata": {
        "id": "8-I1EL5IP16W",
        "colab_type": "code",
        "outputId": "f009fdd2-66ce-4698-c3d2-ef1bb69c5ceb",
        "colab": {
          "base_uri": "https://localhost:8080/",
          "height": 471
        }
      },
      "source": [
        "bird_abundance %>% \n",
        "ggplot(aes(x = bird_abundance_avg)) +\n",
        "geom_histogram() +\n",
        "facet_grid(cols = vars(survey_year), rows = vars(function_taxa_order))"
      ],
      "execution_count": 0,
      "outputs": [
        {
          "output_type": "stream",
          "text": [
            "`stat_bin()` using `bins = 30`. Pick better value with `binwidth`.\n",
            "\n"
          ],
          "name": "stderr"
        },
        {
          "output_type": "display_data",
          "data": {
            "image/png": "[encoded data removed]",
            "text/plain": [
              "plot without title"
            ]
          },
          "metadata": {
            "tags": [],
            "image/png": {
              "width": 420,
              "height": 420
            },
            "text/plain": {
              "width": 420,
              "height": 420
            }
          }
        }
      ]
    },
    {
      "cell_type": "markdown",
      "metadata": {
        "id": "ZX8kfJtt0UNx",
        "colab_type": "text"
      },
      "source": [
        "# Join tables\n",
        "Join **grid point metadata** and **bird records** with selected columns to produce the desired view.\n",
        "\n",
        "* 2020-05-22 BL initial diagnostics on this look good\n",
        "\n",
        "\n"
      ]
    },
    {
      "cell_type": "code",
      "metadata": {
        "id": "Lpas5-L72x-E",
        "colab_type": "code",
        "outputId": "bb970a1c-ad8c-4242-ad88-f61e4d734612",
        "colab": {
          "base_uri": "https://localhost:8080/",
          "height": 34
        }
      },
      "source": [
        "names(bird_abundance)"
      ],
      "execution_count": 0,
      "outputs": [
        {
          "output_type": "display_data",
          "data": {
            "text/plain": [
              "[1] \"survey_year\"         \"survey_grid_point\"   \"function_taxa_order\"\n",
              "[4] \"bird_abundance_avg\" "
            ],
            "text/latex": "\\begin{enumerate*}\n\\item 'survey\\_year'\n\\item 'survey\\_grid\\_point'\n\\item 'function\\_taxa\\_order'\n\\item 'bird\\_abundance\\_avg'\n\\end{enumerate*}\n",
            "text/markdown": "1. 'survey_year'\n2. 'survey_grid_point'\n3. 'function_taxa_order'\n4. 'bird_abundance_avg'\n\n\n",
            "text/html": [
              "<style>\n",
              ".list-inline {list-style: none; margin:0; padding: 0}\n",
              ".list-inline>li {display: inline-block}\n",
              ".list-inline>li:not(:last-child)::after {content: \"\\00b7\"; padding: 0 .5ex}\n",
              "</style>\n",
              "<ol class=list-inline><li>'survey_year'</li><li>'survey_grid_point'</li><li>'function_taxa_order'</li><li>'bird_abundance_avg'</li></ol>\n"
            ]
          },
          "metadata": {
            "tags": []
          }
        }
      ]
    },
    {
      "cell_type": "code",
      "metadata": {
        "id": "U9OEai-T25Gc",
        "colab_type": "code",
        "outputId": "52be542c-f04c-47a9-e043-856e863c4f7d",
        "colab": {
          "base_uri": "https://localhost:8080/",
          "height": 51
        }
      },
      "source": [
        "names(df_location)"
      ],
      "execution_count": 0,
      "outputs": [
        {
          "output_type": "display_data",
          "data": {
            "text/plain": [
              " [1] \"grid_point\"                  \"lat\"                        \n",
              " [3] \"long\"                        \"aspect_mean_deg\"            \n",
              " [5] \"elevation_mean_m\"            \"slope_mean_deg\"             \n",
              " [7] \"cover_type_2016_gridVeg\"     \"biomass_habitat_type\"       \n",
              " [9] \"type1_biome\"                 \"type2_vegetation_community\" \n",
              "[11] \"type3_vegetation_indicators\" \"type4_indicators_history\"   "
            ],
            "text/latex": "\\begin{enumerate*}\n\\item 'grid\\_point'\n\\item 'lat'\n\\item 'long'\n\\item 'aspect\\_mean\\_deg'\n\\item 'elevation\\_mean\\_m'\n\\item 'slope\\_mean\\_deg'\n\\item 'cover\\_type\\_2016\\_gridVeg'\n\\item 'biomass\\_habitat\\_type'\n\\item 'type1\\_biome'\n\\item 'type2\\_vegetation\\_community'\n\\item 'type3\\_vegetation\\_indicators'\n\\item 'type4\\_indicators\\_history'\n\\end{enumerate*}\n",
            "text/markdown": "1. 'grid_point'\n2. 'lat'\n3. 'long'\n4. 'aspect_mean_deg'\n5. 'elevation_mean_m'\n6. 'slope_mean_deg'\n7. 'cover_type_2016_gridVeg'\n8. 'biomass_habitat_type'\n9. 'type1_biome'\n10. 'type2_vegetation_community'\n11. 'type3_vegetation_indicators'\n12. 'type4_indicators_history'\n\n\n",
            "text/html": [
              "<style>\n",
              ".list-inline {list-style: none; margin:0; padding: 0}\n",
              ".list-inline>li {display: inline-block}\n",
              ".list-inline>li:not(:last-child)::after {content: \"\\00b7\"; padding: 0 .5ex}\n",
              "</style>\n",
              "<ol class=list-inline><li>'grid_point'</li><li>'lat'</li><li>'long'</li><li>'aspect_mean_deg'</li><li>'elevation_mean_m'</li><li>'slope_mean_deg'</li><li>'cover_type_2016_gridVeg'</li><li>'biomass_habitat_type'</li><li>'type1_biome'</li><li>'type2_vegetation_community'</li><li>'type3_vegetation_indicators'</li><li>'type4_indicators_history'</li></ol>\n"
            ]
          },
          "metadata": {
            "tags": []
          }
        }
      ]
    },
    {
      "cell_type": "code",
      "metadata": {
        "id": "gl2rsLm_0VAz",
        "colab_type": "code",
        "outputId": "d9609364-d0d9-4bf0-a680-ab7c0ca6db5f",
        "colab": {
          "base_uri": "https://localhost:8080/",
          "height": 221
        }
      },
      "source": [
        "bird_abundance %>% \n",
        "  left_join(df_location %>% select(grid_point, starts_with(\"cover\"), starts_with(\"biomass\"), starts_with(\"type\")), \n",
        "            by = c(\"survey_grid_point\" = \"grid_point\")) %>%\n",
        "  glimpse()"
      ],
      "execution_count": 0,
      "outputs": [
        {
          "output_type": "stream",
          "text": [
            "Rows: 7,286\n",
            "Columns: 10\n",
            "$ survey_year                 \u001b[3m\u001b[90m<int>\u001b[39m\u001b[23m 2010, 2010, 2010, 2010, 2010, 2010, 2010,…\n",
            "$ survey_grid_point           \u001b[3m\u001b[90m<dbl>\u001b[39m\u001b[23m 1, 1, 1, 2, 2, 3, 3, 4, 4, 6, 7, 7, 7, 8,…\n",
            "$ function_taxa_order         \u001b[3m\u001b[90m<chr>\u001b[39m\u001b[23m \"Accipitriformes\", \"Galliformes\", \"Passer…\n",
            "$ bird_abundance_avg          \u001b[3m\u001b[90m<dbl>\u001b[39m\u001b[23m 1.0, 1.0, 17.0, 1.0, 7.0, 1.0, 8.0, 1.0, …\n",
            "$ cover_type_2016_gridVeg     \u001b[3m\u001b[90m<chr>\u001b[39m\u001b[23m \"woodland/forest\", \"woodland/forest\", \"wo…\n",
            "$ biomass_habitat_type        \u001b[3m\u001b[90m<chr>\u001b[39m\u001b[23m NA, NA, NA, \"Range\", \"Range\", \"Range\", \"R…\n",
            "$ type1_biome                 \u001b[3m\u001b[90m<chr>\u001b[39m\u001b[23m \"forest\", \"forest\", \"forest\", \"rangeland\"…\n",
            "$ type2_vegetation_community  \u001b[3m\u001b[90m<chr>\u001b[39m\u001b[23m \"upland\", \"upland\", \"upland\", \"grassland\"…\n",
            "$ type3_vegetation_indicators \u001b[3m\u001b[90m<chr>\u001b[39m\u001b[23m \"mixed canopy conifer\", \"mixed canopy con…\n",
            "$ type4_indicators_history    \u001b[3m\u001b[90m<chr>\u001b[39m\u001b[23m \"mixed canopy conifer\", \"mixed canopy con…\n"
          ],
          "name": "stdout"
        }
      ]
    },
    {
      "cell_type": "markdown",
      "metadata": {
        "id": "uaknP8cKKm5u",
        "colab_type": "text"
      },
      "source": [
        "# Matrix"
      ]
    },
    {
      "cell_type": "code",
      "metadata": {
        "id": "bV5ezbEHKoUE",
        "colab_type": "code",
        "colab": {}
      },
      "source": [
        ""
      ],
      "execution_count": 0,
      "outputs": []
    }
  ]
}