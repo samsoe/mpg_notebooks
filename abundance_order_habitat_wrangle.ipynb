{
  "nbformat": 4,
  "nbformat_minor": 0,
  "metadata": {
    "colab": {
      "name": "abundance_order_habitat-wrangle.ipynb",
      "provenance": [],
      "collapsed_sections": [],
      "toc_visible": true,
      "include_colab_link": true
    },
    "language_info": {
      "codemirror_mode": "r",
      "file_extension": ".r",
      "mimetype": "text/x-r-source",
      "name": "R",
      "pygments_lexer": "r",
      "version": "3.3.1"
    },
    "kernelspec": {
      "display_name": "R",
      "language": "R",
      "name": "ir"
    },
    "accelerator": "GPU"
  },
  "cells": [
    {
      "cell_type": "markdown",
      "metadata": {
        "id": "view-in-github",
        "colab_type": "text"
      },
      "source": [
        "<a href=\"https://colab.research.google.com/github/samsoe/mpg_notebooks/blob/master/abundance_order_habitat_wrangle.ipynb\" target=\"_parent\"><img src=\"https://colab.research.google.com/assets/colab-badge.svg\" alt=\"Open In Colab\"/></a>"
      ]
    },
    {
      "cell_type": "markdown",
      "metadata": {
        "id": "M1pzdtoOrN_U",
        "colab_type": "text"
      },
      "source": [
        "Documentation: [Readme bird point count monitoring](https://docs.google.com/document/d/1PRryJzGOUtfr-fKXzb3tbr48xiaTuAMVk18XFXlvxcM/edit?usp=sharing)"
      ]
    },
    {
      "cell_type": "markdown",
      "metadata": {
        "id": "BhOI1uU2Koum",
        "colab_type": "text"
      },
      "source": [
        "# Tools"
      ]
    },
    {
      "cell_type": "code",
      "metadata": {
        "id": "VxYkYhQTKouo",
        "colab_type": "code",
        "colab": {}
      },
      "source": [
        "library(tidyverse)"
      ],
      "execution_count": 0,
      "outputs": []
    },
    {
      "cell_type": "code",
      "metadata": {
        "id": "7fGGjRHPr0iy",
        "colab_type": "code",
        "colab": {}
      },
      "source": [
        "install.packages(\"bigrquery\")\n",
        "library(bigrquery)"
      ],
      "execution_count": 0,
      "outputs": []
    },
    {
      "cell_type": "markdown",
      "metadata": {
        "id": "dJumZg8Drpho",
        "colab_type": "text"
      },
      "source": [
        "# Source"
      ]
    },
    {
      "cell_type": "markdown",
      "metadata": {
        "id": "1ka0lsjIrsrw",
        "colab_type": "text"
      },
      "source": [
        "## BigQuery"
      ]
    },
    {
      "cell_type": "markdown",
      "metadata": {
        "id": "ATiFrHRlsWUT",
        "colab_type": "text"
      },
      "source": [
        "### Database Connection"
      ]
    },
    {
      "cell_type": "code",
      "metadata": {
        "id": "ihI70_BPKouq",
        "colab_type": "code",
        "colab": {}
      },
      "source": [
        "# BigQuery API Key\n",
        "bq_auth(path = \"/content/mpg-data-warehouse-34434e1a9914.json\")"
      ],
      "execution_count": 0,
      "outputs": []
    },
    {
      "cell_type": "code",
      "metadata": {
        "id": "3jr5y-z-sfQv",
        "colab_type": "code",
        "colab": {}
      },
      "source": [
        "Sys.setenv(BIGQUERY_TEST_PROJECT = \"mpg-data-warehouse\")"
      ],
      "execution_count": 0,
      "outputs": []
    },
    {
      "cell_type": "code",
      "metadata": {
        "id": "ZIce0n7Usy8m",
        "colab_type": "code",
        "colab": {}
      },
      "source": [
        "billing <- bq_test_project()"
      ],
      "execution_count": 0,
      "outputs": []
    },
    {
      "cell_type": "code",
      "metadata": {
        "id": "302TXcepsmr4",
        "colab_type": "code",
        "colab": {}
      },
      "source": [
        "con_bird_point_counts <- dbConnect(\n",
        "  bigrquery::bigquery(),\n",
        "  project = \"mpg-data-warehouse\",\n",
        "  dataset = \"bird_point_counts\",\n",
        "  billing = billing\n",
        ")"
      ],
      "execution_count": 0,
      "outputs": []
    },
    {
      "cell_type": "code",
      "metadata": {
        "id": "xtap3SJGtkjG",
        "colab_type": "code",
        "colab": {}
      },
      "source": [
        "con_location_position_classification <- dbConnect(\n",
        "    bigrquery::bigquery(),\n",
        "  project = \"mpg-data-warehouse\",\n",
        "  dataset = \"grid_point_summaries\",\n",
        "  billing = billing\n",
        ")"
      ],
      "execution_count": 0,
      "outputs": []
    },
    {
      "cell_type": "code",
      "metadata": {
        "id": "0UmdYQnvsvLu",
        "colab_type": "code",
        "colab": {
          "base_uri": "https://localhost:8080/",
          "height": 34
        },
        "outputId": "c5f2f414-8666-4b00-b793-8051028d34a3"
      },
      "source": [
        "dbListTables(con_bird_point_counts)"
      ],
      "execution_count": 11,
      "outputs": [
        {
          "output_type": "display_data",
          "data": {
            "text/plain": [
              "[1] \"bird_surveyInfo_records_function\" \"bird_survey_noise\"               \n",
              "[3] \"bird_survey_sky\"                  \"bird_survey_wind\"                "
            ],
            "text/latex": "\\begin{enumerate*}\n\\item 'bird\\_surveyInfo\\_records\\_function'\n\\item 'bird\\_survey\\_noise'\n\\item 'bird\\_survey\\_sky'\n\\item 'bird\\_survey\\_wind'\n\\end{enumerate*}\n",
            "text/markdown": "1. 'bird_surveyInfo_records_function'\n2. 'bird_survey_noise'\n3. 'bird_survey_sky'\n4. 'bird_survey_wind'\n\n\n",
            "text/html": [
              "<style>\n",
              ".list-inline {list-style: none; margin:0; padding: 0}\n",
              ".list-inline>li {display: inline-block}\n",
              ".list-inline>li:not(:last-child)::after {content: \"\\00b7\"; padding: 0 .5ex}\n",
              "</style>\n",
              "<ol class=list-inline><li>'bird_surveyInfo_records_function'</li><li>'bird_survey_noise'</li><li>'bird_survey_sky'</li><li>'bird_survey_wind'</li></ol>\n"
            ]
          },
          "metadata": {
            "tags": []
          }
        }
      ]
    },
    {
      "cell_type": "code",
      "metadata": {
        "id": "7eFOHf1lttCy",
        "colab_type": "code",
        "colab": {
          "base_uri": "https://localhost:8080/",
          "height": 34
        },
        "outputId": "454d256a-72c6-4f1d-ead4-3c79be153bcf"
      },
      "source": [
        "dbListTables(con_location_position_classification)"
      ],
      "execution_count": 15,
      "outputs": [
        {
          "output_type": "display_data",
          "data": {
            "text/plain": [
              "[1] \"location\"                         \"location_position_classification\"\n",
              "[3] \"point_location_position\"         "
            ],
            "text/latex": "\\begin{enumerate*}\n\\item 'location'\n\\item 'location\\_position\\_classification'\n\\item 'point\\_location\\_position'\n\\end{enumerate*}\n",
            "text/markdown": "1. 'location'\n2. 'location_position_classification'\n3. 'point_location_position'\n\n\n",
            "text/html": [
              "<style>\n",
              ".list-inline {list-style: none; margin:0; padding: 0}\n",
              ".list-inline>li {display: inline-block}\n",
              ".list-inline>li:not(:last-child)::after {content: \"\\00b7\"; padding: 0 .5ex}\n",
              "</style>\n",
              "<ol class=list-inline><li>'location'</li><li>'location_position_classification'</li><li>'point_location_position'</li></ol>\n"
            ]
          },
          "metadata": {
            "tags": []
          }
        }
      ]
    },
    {
      "cell_type": "markdown",
      "metadata": {
        "id": "kYbcQ4cFs3Xx",
        "colab_type": "text"
      },
      "source": [
        "### Query Database"
      ]
    },
    {
      "cell_type": "markdown",
      "metadata": {
        "id": "E1-JOAd0u8fo",
        "colab_type": "text"
      },
      "source": [
        "#### bird_point_counts"
      ]
    },
    {
      "cell_type": "code",
      "metadata": {
        "id": "xdxNyh-5s5By",
        "colab_type": "code",
        "colab": {}
      },
      "source": [
        "bird_sql <- \"SELECT *\n",
        "             FROM `mpg-data-warehouse.bird_point_counts.bird_surveyInfo_records_function`\""
      ],
      "execution_count": 0,
      "outputs": []
    },
    {
      "cell_type": "code",
      "metadata": {
        "id": "0QZEyXBHu6gT",
        "colab_type": "code",
        "colab": {}
      },
      "source": [
        "# result bird table\n",
        "bq_bird <- bq_project_query(billing, bird_sql)"
      ],
      "execution_count": 0,
      "outputs": []
    },
    {
      "cell_type": "code",
      "metadata": {
        "id": "cOPc7dOAvShp",
        "colab_type": "code",
        "colab": {}
      },
      "source": [
        "tb_bird = bq_table_download(bq_bird)"
      ],
      "execution_count": 0,
      "outputs": []
    },
    {
      "cell_type": "code",
      "metadata": {
        "id": "IdQurVCGvuOE",
        "colab_type": "code",
        "colab": {
          "base_uri": "https://localhost:8080/",
          "height": 34
        },
        "outputId": "ee2a4f02-8364-4cbc-923a-07f2f5bf7060"
      },
      "source": [
        "class(tb_bird)"
      ],
      "execution_count": 25,
      "outputs": [
        {
          "output_type": "display_data",
          "data": {
            "text/plain": [
              "[1] \"tbl_df\"     \"tbl\"        \"data.frame\""
            ],
            "text/latex": "\\begin{enumerate*}\n\\item 'tbl\\_df'\n\\item 'tbl'\n\\item 'data.frame'\n\\end{enumerate*}\n",
            "text/markdown": "1. 'tbl_df'\n2. 'tbl'\n3. 'data.frame'\n\n\n",
            "text/html": [
              "<style>\n",
              ".list-inline {list-style: none; margin:0; padding: 0}\n",
              ".list-inline>li {display: inline-block}\n",
              ".list-inline>li:not(:last-child)::after {content: \"\\00b7\"; padding: 0 .5ex}\n",
              "</style>\n",
              "<ol class=list-inline><li>'tbl_df'</li><li>'tbl'</li><li>'data.frame'</li></ol>\n"
            ]
          },
          "metadata": {
            "tags": []
          }
        }
      ]
    },
    {
      "cell_type": "code",
      "metadata": {
        "id": "sDxkGO-Jyv0b",
        "colab_type": "code",
        "colab": {}
      },
      "source": [
        "df_bird <- as.data.frame(tb_bird)"
      ],
      "execution_count": 0,
      "outputs": []
    },
    {
      "cell_type": "code",
      "metadata": {
        "id": "ofNHLKXOy0uc",
        "colab_type": "code",
        "colab": {
          "base_uri": "https://localhost:8080/",
          "height": 595
        },
        "outputId": "e169772f-454f-4176-87d7-1d8abe49801f"
      },
      "source": [
        "str(df_bird)"
      ],
      "execution_count": 33,
      "outputs": [
        {
          "output_type": "stream",
          "text": [
            "'data.frame':\t117810 obs. of  31 variables:\n",
            " $ survey_ID                         : int  5195 8598 8599 4294 4295 4296 4297 4302 10 22 ...\n",
            " $ survey_year                       : int  2013 2015 2015 2013 2013 2013 2013 2013 2010 2010 ...\n",
            " $ survey_date                       : Date, format: \"2013-05-29\" \"2015-06-09\" ...\n",
            " $ survey_visit_calc                 : int  1 1 1 1 1 1 1 1 1 1 ...\n",
            " $ survey_time_start_MDT             : 'hms' num  09:38:00 06:43:00 07:02:00 06:13:00 ...\n",
            "  ..- attr(*, \"units\")= chr \"secs\"\n",
            " $ survey_time_end_MDT               : 'hms' num  09:48:00 06:53:00 07:12:00 06:23:00 ...\n",
            "  ..- attr(*, \"units\")= chr \"secs\"\n",
            " $ survey_grid_point                 : int  163 482 480 193 194 195 181 166 477 484 ...\n",
            " $ survey_observer                   : chr  \"Katharine Stone\" \"Eric Rasmussen\" \"Eric Rasmussen\" \"Eric Rasmussen\" ...\n",
            " $ survey_wind_code                  : int  2 1 0 1 2 1 1 2 1 2 ...\n",
            " $ survey_sky_code                   : int  1 0 0 0 0 0 0 1 2 2 ...\n",
            " $ survey_noise_code                 : int  0 0 0 0 0 0 0 0 0 0 ...\n",
            " $ survey_temperature_F              : int  50 55 57 37 38 38 39 43 50 50 ...\n",
            " $ records_ID                        : int  58465 87151 87170 45787 45810 45818 45832 45890 174 444 ...\n",
            " $ records_spe_code                  : chr  \"SORA\" \"SORA\" \"SORA\" \"CHUK\" ...\n",
            " $ records_abundance                 : int  1 1 1 1 1 1 1 1 1 1 ...\n",
            " $ records_sex                       : chr  \"Male\" \"Unknown\" \"Unknown\" \"Unknown\" ...\n",
            " $ records_detect_song               : logi  TRUE FALSE FALSE FALSE FALSE FALSE ...\n",
            " $ records_detect_call               : logi  FALSE TRUE TRUE TRUE TRUE TRUE ...\n",
            " $ records_detect_visual             : logi  FALSE FALSE FALSE FALSE FALSE FALSE ...\n",
            " $ records_detect_other              : chr  NA NA NA NA ...\n",
            " $ records_detect_distance_min_meters: chr  \"150\" \"85\" \"120\" \"150\" ...\n",
            " $ records_interval                  : chr  \"2\" \"2\" \"1\" \"1\" ...\n",
            " $ records_location_code             : chr  \"0\" \"18\" \"18\" \"1\" ...\n",
            " $ habitat_location_description      : chr  \"River-bottom forest\" \"Pond/Slough\" \"Pond/Slough\" \"Open grassland\" ...\n",
            " $ function_spe_name_common          : chr  \"Sora\" \"Sora\" \"Sora\" \"Chukar\" ...\n",
            " $ function_habitat_preference       : chr  \"Marsh\" \"Marsh\" \"Marsh\" \"Mountains\" ...\n",
            " $ function_food_preference          : chr  \"Seeds\" \"Seeds\" \"Seeds\" \"Seeds\" ...\n",
            " $ function_nesting_behavior         : chr  \"Floating\" \"Floating\" \"Floating\" \"Ground\" ...\n",
            " $ function_feeding_behavior         : chr  \"Ground Forager\" \"Ground Forager\" \"Ground Forager\" \"Ground Forager\" ...\n",
            " $ function_taxa_order               : chr  \"Gruiformes\" \"Gruiformes\" \"Gruiformes\" \"Galliformes\" ...\n",
            " $ function_taxa_family              : chr  \"Rallidae\" \"Rallidae\" \"Rallidae\" \"Phasianidae\" ...\n"
          ],
          "name": "stdout"
        }
      ]
    },
    {
      "cell_type": "markdown",
      "metadata": {
        "id": "lsv5ylUrwAbk",
        "colab_type": "text"
      },
      "source": [
        "#### location_position_classification"
      ]
    },
    {
      "cell_type": "code",
      "metadata": {
        "id": "3_N3RatxwEq4",
        "colab_type": "code",
        "colab": {}
      },
      "source": [
        "location_sql <- \"SELECT *\n",
        "                 FROM `mpg-data-warehouse.grid_point_summaries.location_position_classification`\""
      ],
      "execution_count": 0,
      "outputs": []
    },
    {
      "cell_type": "markdown",
      "metadata": {
        "id": "9cZRdjgcwm4k",
        "colab_type": "text"
      },
      "source": [
        "Leave the following error for now.  To move forward in the present output csv from table output csv from `mpg-data-warehouse.grid_point_summaries.location_position_classification`"
      ]
    },
    {
      "cell_type": "code",
      "metadata": {
        "id": "EIn9rVWbwOMo",
        "colab_type": "code",
        "colab": {
          "base_uri": "https://localhost:8080/",
          "height": 235
        },
        "outputId": "3edcdd76-894a-4b59-a32f-81577377d0b0"
      },
      "source": [
        "bq_location <- bq_project_query(billing, location_sql)"
      ],
      "execution_count": 29,
      "outputs": [
        {
          "output_type": "error",
          "ename": "ERROR",
          "evalue": "ignored",
          "traceback": [
            "Error: Job 'mpg-data-warehouse.job_qNKGVRzQQLljWOPfi28QskOTfZh9.US' failed\n\u001b[31m✖\u001b[39m Error while reading table: mpg-data-warehouse.grid_point_metadata.casper_habitat_classifications, error message: Failed to read the spreadsheet. Errors: No OAuth token with Google Drive scope was found. [invalid]\nTraceback:\n",
            "1. bq_project_query(billing, location_sql)",
            "2. bq_job_wait(job, quiet = quiet)",
            "3. rlang::abort(c(paste0(\"Job '\", if (!isTRUE(quiet)) x, \"' failed\"), \n .     bullets))",
            "4. signal_abort(cnd)"
          ]
        }
      ]
    },
    {
      "cell_type": "markdown",
      "metadata": {
        "id": "gxJ_l47Tw3MJ",
        "colab_type": "text"
      },
      "source": [
        "## CSV"
      ]
    },
    {
      "cell_type": "markdown",
      "metadata": {
        "id": "aWO0iUanw9HX",
        "colab_type": "text"
      },
      "source": [
        "### location_position_classification"
      ]
    },
    {
      "cell_type": "code",
      "metadata": {
        "id": "ifmRjsA-w7NG",
        "colab_type": "code",
        "colab": {
          "base_uri": "https://localhost:8080/",
          "height": 289
        },
        "outputId": "df809e24-dc53-444e-826b-f562a5742569"
      },
      "source": [
        "# MPG Ranch Datasets > Bird point count monitoring > Data - Processed > location_position_classification.csv\n",
        "src_location = \"https://drive.google.com/uc?id=1z1nFdsk0vZXhw78rB3ijrFcLX2mF4VBQ\"\n",
        "df_location <- read_csv(src_location)"
      ],
      "execution_count": 30,
      "outputs": [
        {
          "output_type": "stream",
          "text": [
            "Parsed with column specification:\n",
            "cols(\n",
            "  grid_point = \u001b[32mcol_double()\u001b[39m,\n",
            "  lat = \u001b[32mcol_double()\u001b[39m,\n",
            "  long = \u001b[32mcol_double()\u001b[39m,\n",
            "  aspect_mean_deg = \u001b[32mcol_double()\u001b[39m,\n",
            "  elevation_mean_m = \u001b[32mcol_double()\u001b[39m,\n",
            "  slope_mean_deg = \u001b[32mcol_double()\u001b[39m,\n",
            "  cover_type_2016_gridVeg = \u001b[31mcol_character()\u001b[39m,\n",
            "  biomass_habitat_type = \u001b[31mcol_character()\u001b[39m,\n",
            "  type1_biome = \u001b[31mcol_character()\u001b[39m,\n",
            "  type2_vegetation_community = \u001b[31mcol_character()\u001b[39m,\n",
            "  type3_vegetation_indicators = \u001b[31mcol_character()\u001b[39m,\n",
            "  type4_indicators_history = \u001b[31mcol_character()\u001b[39m\n",
            ")\n",
            "\n"
          ],
          "name": "stderr"
        }
      ]
    },
    {
      "cell_type": "code",
      "metadata": {
        "id": "w_ni6mEByhlX",
        "colab_type": "code",
        "colab": {}
      },
      "source": [
        ""
      ],
      "execution_count": 0,
      "outputs": []
    },
    {
      "cell_type": "markdown",
      "metadata": {
        "id": "ZSiZe9PJy9eu",
        "colab_type": "text"
      },
      "source": [
        "# Structure"
      ]
    },
    {
      "cell_type": "markdown",
      "metadata": {
        "id": "OIhs8BXCzA4c",
        "colab_type": "text"
      },
      "source": [
        "## bird_point_counts"
      ]
    },
    {
      "cell_type": "code",
      "metadata": {
        "id": "W35oYfiEy_jF",
        "colab_type": "code",
        "colab": {}
      },
      "source": [
        "bird_abundance <- df_bird %>%\n",
        "  group_by(survey_year, survey_visit_calc, survey_grid_point, function_taxa_order) %>%\n",
        "  filter(records_detect_distance_min_meters <= 100,\n",
        "         records_interval %in% c(1, 2)) %>%\n",
        "  summarize(bird_abundance = sum(records_abundance)) %>%\n",
        "  group_by(survey_year, survey_grid_point, function_taxa_order) %>%\n",
        "  summarize(bird_abundance_avg = mean(bird_abundance))"
      ],
      "execution_count": 0,
      "outputs": []
    },
    {
      "cell_type": "markdown",
      "metadata": {
        "id": "ZX8kfJtt0UNx",
        "colab_type": "text"
      },
      "source": [
        "# Join"
      ]
    },
    {
      "cell_type": "code",
      "metadata": {
        "id": "Lpas5-L72x-E",
        "colab_type": "code",
        "colab": {
          "base_uri": "https://localhost:8080/",
          "height": 34
        },
        "outputId": "14983c24-6e27-4832-b794-521783145b78"
      },
      "source": [
        "names(bird_abundance)"
      ],
      "execution_count": 51,
      "outputs": [
        {
          "output_type": "display_data",
          "data": {
            "text/plain": [
              "[1] \"survey_year\"         \"survey_grid_point\"   \"function_taxa_order\"\n",
              "[4] \"bird_abundance_avg\" "
            ],
            "text/latex": "\\begin{enumerate*}\n\\item 'survey\\_year'\n\\item 'survey\\_grid\\_point'\n\\item 'function\\_taxa\\_order'\n\\item 'bird\\_abundance\\_avg'\n\\end{enumerate*}\n",
            "text/markdown": "1. 'survey_year'\n2. 'survey_grid_point'\n3. 'function_taxa_order'\n4. 'bird_abundance_avg'\n\n\n",
            "text/html": [
              "<style>\n",
              ".list-inline {list-style: none; margin:0; padding: 0}\n",
              ".list-inline>li {display: inline-block}\n",
              ".list-inline>li:not(:last-child)::after {content: \"\\00b7\"; padding: 0 .5ex}\n",
              "</style>\n",
              "<ol class=list-inline><li>'survey_year'</li><li>'survey_grid_point'</li><li>'function_taxa_order'</li><li>'bird_abundance_avg'</li></ol>\n"
            ]
          },
          "metadata": {
            "tags": []
          }
        }
      ]
    },
    {
      "cell_type": "code",
      "metadata": {
        "id": "U9OEai-T25Gc",
        "colab_type": "code",
        "colab": {
          "base_uri": "https://localhost:8080/",
          "height": 51
        },
        "outputId": "bf3078a1-2668-4d1e-eadf-f416651b78bf"
      },
      "source": [
        "names(df_location)"
      ],
      "execution_count": 52,
      "outputs": [
        {
          "output_type": "display_data",
          "data": {
            "text/plain": [
              " [1] \"grid_point\"                  \"lat\"                        \n",
              " [3] \"long\"                        \"aspect_mean_deg\"            \n",
              " [5] \"elevation_mean_m\"            \"slope_mean_deg\"             \n",
              " [7] \"cover_type_2016_gridVeg\"     \"biomass_habitat_type\"       \n",
              " [9] \"type1_biome\"                 \"type2_vegetation_community\" \n",
              "[11] \"type3_vegetation_indicators\" \"type4_indicators_history\"   "
            ],
            "text/latex": "\\begin{enumerate*}\n\\item 'grid\\_point'\n\\item 'lat'\n\\item 'long'\n\\item 'aspect\\_mean\\_deg'\n\\item 'elevation\\_mean\\_m'\n\\item 'slope\\_mean\\_deg'\n\\item 'cover\\_type\\_2016\\_gridVeg'\n\\item 'biomass\\_habitat\\_type'\n\\item 'type1\\_biome'\n\\item 'type2\\_vegetation\\_community'\n\\item 'type3\\_vegetation\\_indicators'\n\\item 'type4\\_indicators\\_history'\n\\end{enumerate*}\n",
            "text/markdown": "1. 'grid_point'\n2. 'lat'\n3. 'long'\n4. 'aspect_mean_deg'\n5. 'elevation_mean_m'\n6. 'slope_mean_deg'\n7. 'cover_type_2016_gridVeg'\n8. 'biomass_habitat_type'\n9. 'type1_biome'\n10. 'type2_vegetation_community'\n11. 'type3_vegetation_indicators'\n12. 'type4_indicators_history'\n\n\n",
            "text/html": [
              "<style>\n",
              ".list-inline {list-style: none; margin:0; padding: 0}\n",
              ".list-inline>li {display: inline-block}\n",
              ".list-inline>li:not(:last-child)::after {content: \"\\00b7\"; padding: 0 .5ex}\n",
              "</style>\n",
              "<ol class=list-inline><li>'grid_point'</li><li>'lat'</li><li>'long'</li><li>'aspect_mean_deg'</li><li>'elevation_mean_m'</li><li>'slope_mean_deg'</li><li>'cover_type_2016_gridVeg'</li><li>'biomass_habitat_type'</li><li>'type1_biome'</li><li>'type2_vegetation_community'</li><li>'type3_vegetation_indicators'</li><li>'type4_indicators_history'</li></ol>\n"
            ]
          },
          "metadata": {
            "tags": []
          }
        }
      ]
    },
    {
      "cell_type": "code",
      "metadata": {
        "id": "gl2rsLm_0VAz",
        "colab_type": "code",
        "colab": {
          "base_uri": "https://localhost:8080/",
          "height": 309
        },
        "outputId": "f073bf88-3b15-4fb2-e08a-4c47e1980a0e"
      },
      "source": [
        "bird_abundance %>% \n",
        "  left_join(df_location, by = c(\"survey_grid_point\" = \"grid_point\")) %>%\n",
        "  head()"
      ],
      "execution_count": 56,
      "outputs": [
        {
          "output_type": "display_data",
          "data": {
            "text/plain": [
              "  survey_year survey_grid_point function_taxa_order bird_abundance_avg lat     \n",
              "1 2010        1                 Passeriformes       1.0                46.73193\n",
              "2 2010        2                 Passeriformes       1.0                46.72972\n",
              "3 2010        3                 Passeriformes       1.0                46.72443\n",
              "4 2010        4                 Passeriformes       1.0                46.72487\n",
              "5 2010        7                 Accipitriformes     1.0                46.72707\n",
              "6 2010        7                 Passeriformes       1.5                46.72707\n",
              "  long      aspect_mean_deg elevation_mean_m slope_mean_deg\n",
              "1 -114.0017 334.705         1395.64          28.44230      \n",
              "2 -114.0010  45.303         1456.09          12.22630      \n",
              "3 -114.0227 221.334         1126.90           4.25130      \n",
              "4 -114.0195 290.489         1166.33           2.68361      \n",
              "5 -114.0036 302.818         1387.80          26.17570      \n",
              "6 -114.0036 302.818         1387.80          26.17570      \n",
              "  cover_type_2016_gridVeg  biomass_habitat_type type1_biome\n",
              "1 woodland/forest          NA                   forest     \n",
              "2 non-irrigated grasslands Range                rangeland  \n",
              "3 shrubland                Range                rangeland  \n",
              "4 shrubland                Range                rangeland  \n",
              "5 non-irrigated grasslands Range                rangeland  \n",
              "6 non-irrigated grasslands Range                rangeland  \n",
              "  type2_vegetation_community type3_vegetation_indicators              \n",
              "1 upland                     mixed canopy conifer                     \n",
              "2 grassland                  uncultivated grassland native or degraded\n",
              "3 grassland                  uncultivated grassland native or degraded\n",
              "4 grassland                  uncultivated grassland native or degraded\n",
              "5 grassland                  uncultivated grassland native or degraded\n",
              "6 grassland                  uncultivated grassland native or degraded\n",
              "  type4_indicators_history                 \n",
              "1 mixed canopy conifer                     \n",
              "2 uncultivated grassland native or degraded\n",
              "3 uncultivated grassland native or degraded\n",
              "4 uncultivated grassland native or degraded\n",
              "5 uncultivated grassland native or degraded\n",
              "6 uncultivated grassland native or degraded"
            ],
            "text/latex": "A grouped\\_df: 6 × 15\n\\begin{tabular}{lllllllllllllll}\n survey\\_year & survey\\_grid\\_point & function\\_taxa\\_order & bird\\_abundance\\_avg & lat & long & aspect\\_mean\\_deg & elevation\\_mean\\_m & slope\\_mean\\_deg & cover\\_type\\_2016\\_gridVeg & biomass\\_habitat\\_type & type1\\_biome & type2\\_vegetation\\_community & type3\\_vegetation\\_indicators & type4\\_indicators\\_history\\\\\n <int> & <dbl> & <chr> & <dbl> & <dbl> & <dbl> & <dbl> & <dbl> & <dbl> & <chr> & <chr> & <chr> & <chr> & <chr> & <chr>\\\\\n\\hline\n\t 2010 & 1 & Passeriformes   & 1.0 & 46.73193 & -114.0017 & 334.705 & 1395.64 & 28.44230 & woodland/forest          & NA    & forest    & upland    & mixed canopy conifer                      & mixed canopy conifer                     \\\\\n\t 2010 & 2 & Passeriformes   & 1.0 & 46.72972 & -114.0010 &  45.303 & 1456.09 & 12.22630 & non-irrigated grasslands & Range & rangeland & grassland & uncultivated grassland native or degraded & uncultivated grassland native or degraded\\\\\n\t 2010 & 3 & Passeriformes   & 1.0 & 46.72443 & -114.0227 & 221.334 & 1126.90 &  4.25130 & shrubland                & Range & rangeland & grassland & uncultivated grassland native or degraded & uncultivated grassland native or degraded\\\\\n\t 2010 & 4 & Passeriformes   & 1.0 & 46.72487 & -114.0195 & 290.489 & 1166.33 &  2.68361 & shrubland                & Range & rangeland & grassland & uncultivated grassland native or degraded & uncultivated grassland native or degraded\\\\\n\t 2010 & 7 & Accipitriformes & 1.0 & 46.72707 & -114.0036 & 302.818 & 1387.80 & 26.17570 & non-irrigated grasslands & Range & rangeland & grassland & uncultivated grassland native or degraded & uncultivated grassland native or degraded\\\\\n\t 2010 & 7 & Passeriformes   & 1.5 & 46.72707 & -114.0036 & 302.818 & 1387.80 & 26.17570 & non-irrigated grasslands & Range & rangeland & grassland & uncultivated grassland native or degraded & uncultivated grassland native or degraded\\\\\n\\end{tabular}\n",
            "text/markdown": "\nA grouped_df: 6 × 15\n\n| survey_year &lt;int&gt; | survey_grid_point &lt;dbl&gt; | function_taxa_order &lt;chr&gt; | bird_abundance_avg &lt;dbl&gt; | lat &lt;dbl&gt; | long &lt;dbl&gt; | aspect_mean_deg &lt;dbl&gt; | elevation_mean_m &lt;dbl&gt; | slope_mean_deg &lt;dbl&gt; | cover_type_2016_gridVeg &lt;chr&gt; | biomass_habitat_type &lt;chr&gt; | type1_biome &lt;chr&gt; | type2_vegetation_community &lt;chr&gt; | type3_vegetation_indicators &lt;chr&gt; | type4_indicators_history &lt;chr&gt; |\n|---|---|---|---|---|---|---|---|---|---|---|---|---|---|---|\n| 2010 | 1 | Passeriformes   | 1.0 | 46.73193 | -114.0017 | 334.705 | 1395.64 | 28.44230 | woodland/forest          | NA    | forest    | upland    | mixed canopy conifer                      | mixed canopy conifer                      |\n| 2010 | 2 | Passeriformes   | 1.0 | 46.72972 | -114.0010 |  45.303 | 1456.09 | 12.22630 | non-irrigated grasslands | Range | rangeland | grassland | uncultivated grassland native or degraded | uncultivated grassland native or degraded |\n| 2010 | 3 | Passeriformes   | 1.0 | 46.72443 | -114.0227 | 221.334 | 1126.90 |  4.25130 | shrubland                | Range | rangeland | grassland | uncultivated grassland native or degraded | uncultivated grassland native or degraded |\n| 2010 | 4 | Passeriformes   | 1.0 | 46.72487 | -114.0195 | 290.489 | 1166.33 |  2.68361 | shrubland                | Range | rangeland | grassland | uncultivated grassland native or degraded | uncultivated grassland native or degraded |\n| 2010 | 7 | Accipitriformes | 1.0 | 46.72707 | -114.0036 | 302.818 | 1387.80 | 26.17570 | non-irrigated grasslands | Range | rangeland | grassland | uncultivated grassland native or degraded | uncultivated grassland native or degraded |\n| 2010 | 7 | Passeriformes   | 1.5 | 46.72707 | -114.0036 | 302.818 | 1387.80 | 26.17570 | non-irrigated grasslands | Range | rangeland | grassland | uncultivated grassland native or degraded | uncultivated grassland native or degraded |\n\n",
            "text/html": [
              "<table>\n",
              "<caption>A grouped_df: 6 × 15</caption>\n",
              "<thead>\n",
              "\t<tr><th scope=col>survey_year</th><th scope=col>survey_grid_point</th><th scope=col>function_taxa_order</th><th scope=col>bird_abundance_avg</th><th scope=col>lat</th><th scope=col>long</th><th scope=col>aspect_mean_deg</th><th scope=col>elevation_mean_m</th><th scope=col>slope_mean_deg</th><th scope=col>cover_type_2016_gridVeg</th><th scope=col>biomass_habitat_type</th><th scope=col>type1_biome</th><th scope=col>type2_vegetation_community</th><th scope=col>type3_vegetation_indicators</th><th scope=col>type4_indicators_history</th></tr>\n",
              "\t<tr><th scope=col>&lt;int&gt;</th><th scope=col>&lt;dbl&gt;</th><th scope=col>&lt;chr&gt;</th><th scope=col>&lt;dbl&gt;</th><th scope=col>&lt;dbl&gt;</th><th scope=col>&lt;dbl&gt;</th><th scope=col>&lt;dbl&gt;</th><th scope=col>&lt;dbl&gt;</th><th scope=col>&lt;dbl&gt;</th><th scope=col>&lt;chr&gt;</th><th scope=col>&lt;chr&gt;</th><th scope=col>&lt;chr&gt;</th><th scope=col>&lt;chr&gt;</th><th scope=col>&lt;chr&gt;</th><th scope=col>&lt;chr&gt;</th></tr>\n",
              "</thead>\n",
              "<tbody>\n",
              "\t<tr><td>2010</td><td>1</td><td>Passeriformes  </td><td>1.0</td><td>46.73193</td><td>-114.0017</td><td>334.705</td><td>1395.64</td><td>28.44230</td><td>woodland/forest         </td><td>NA   </td><td>forest   </td><td>upland   </td><td>mixed canopy conifer                     </td><td>mixed canopy conifer                     </td></tr>\n",
              "\t<tr><td>2010</td><td>2</td><td>Passeriformes  </td><td>1.0</td><td>46.72972</td><td>-114.0010</td><td> 45.303</td><td>1456.09</td><td>12.22630</td><td>non-irrigated grasslands</td><td>Range</td><td>rangeland</td><td>grassland</td><td>uncultivated grassland native or degraded</td><td>uncultivated grassland native or degraded</td></tr>\n",
              "\t<tr><td>2010</td><td>3</td><td>Passeriformes  </td><td>1.0</td><td>46.72443</td><td>-114.0227</td><td>221.334</td><td>1126.90</td><td> 4.25130</td><td>shrubland               </td><td>Range</td><td>rangeland</td><td>grassland</td><td>uncultivated grassland native or degraded</td><td>uncultivated grassland native or degraded</td></tr>\n",
              "\t<tr><td>2010</td><td>4</td><td>Passeriformes  </td><td>1.0</td><td>46.72487</td><td>-114.0195</td><td>290.489</td><td>1166.33</td><td> 2.68361</td><td>shrubland               </td><td>Range</td><td>rangeland</td><td>grassland</td><td>uncultivated grassland native or degraded</td><td>uncultivated grassland native or degraded</td></tr>\n",
              "\t<tr><td>2010</td><td>7</td><td>Accipitriformes</td><td>1.0</td><td>46.72707</td><td>-114.0036</td><td>302.818</td><td>1387.80</td><td>26.17570</td><td>non-irrigated grasslands</td><td>Range</td><td>rangeland</td><td>grassland</td><td>uncultivated grassland native or degraded</td><td>uncultivated grassland native or degraded</td></tr>\n",
              "\t<tr><td>2010</td><td>7</td><td>Passeriformes  </td><td>1.5</td><td>46.72707</td><td>-114.0036</td><td>302.818</td><td>1387.80</td><td>26.17570</td><td>non-irrigated grasslands</td><td>Range</td><td>rangeland</td><td>grassland</td><td>uncultivated grassland native or degraded</td><td>uncultivated grassland native or degraded</td></tr>\n",
              "</tbody>\n",
              "</table>\n"
            ]
          },
          "metadata": {
            "tags": []
          }
        }
      ]
    }
  ]
}