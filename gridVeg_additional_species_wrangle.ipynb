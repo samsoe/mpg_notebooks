{
  "nbformat": 4,
  "nbformat_minor": 0,
  "metadata": {
    "colab": {
      "name": "gridVeg_additional_species-wrangle.ipynb",
      "provenance": [],
      "collapsed_sections": [],
      "toc_visible": true,
      "include_colab_link": true
    },
    "language_info": {
      "codemirror_mode": "r",
      "file_extension": ".r",
      "mimetype": "text/x-r-source",
      "name": "R",
      "pygments_lexer": "r",
      "version": "3.3.1"
    },
    "kernelspec": {
      "display_name": "R",
      "language": "R",
      "name": "ir"
    }
  },
  "cells": [
    {
      "cell_type": "markdown",
      "metadata": {
        "id": "view-in-github",
        "colab_type": "text"
      },
      "source": [
        "<a href=\"https://colab.research.google.com/github/samsoe/mpg_notebooks/blob/master/gridVeg_additional_species_wrangle.ipynb\" target=\"_parent\"><img src=\"https://colab.research.google.com/assets/colab-badge.svg\" alt=\"Open In Colab\"/></a>"
      ]
    },
    {
      "cell_type": "markdown",
      "metadata": {
        "id": "b58wQ5TpguiF",
        "colab_type": "text"
      },
      "source": [
        "# Documentation"
      ]
    },
    {
      "cell_type": "markdown",
      "metadata": {
        "id": "zc4on0LLgy7g",
        "colab_type": "text"
      },
      "source": [
        "[Readme - vegetation point transect survey](https://docs.google.com/document/d/1JWnhxNjeSQZkSnGhtHP68i_l1mDj4vPFMBdUvGqN0TA/edit#heading=h.n8y3092qejll)"
      ]
    },
    {
      "cell_type": "markdown",
      "metadata": {
        "id": "BhOI1uU2Koum",
        "colab_type": "text"
      },
      "source": [
        "# Tools"
      ]
    },
    {
      "cell_type": "code",
      "metadata": {
        "id": "VxYkYhQTKouo",
        "colab_type": "code",
        "colab": {}
      },
      "source": [
        "library(tidyverse)"
      ],
      "execution_count": 19,
      "outputs": []
    },
    {
      "cell_type": "markdown",
      "metadata": {
        "id": "ZLBZnVGNdDzu",
        "colab_type": "text"
      },
      "source": [
        "# Source"
      ]
    },
    {
      "cell_type": "code",
      "metadata": {
        "id": "ihI70_BPKouq",
        "colab_type": "code",
        "colab": {}
      },
      "source": [
        "# 2020-06-15_gridVeg_additional_species_SOURCE.csv\n",
        "src <- \"https://drive.google.com/uc?export=download&id=1QyAgNea0yMEJU4N2FHdAUM-ZhIID2MMi\"\n",
        "df_addsp <- read_csv(src, col_types = cols(\"Survey Data::__kp_Survey\" = col_character()))"
      ],
      "execution_count": 20,
      "outputs": []
    },
    {
      "cell_type": "code",
      "metadata": {
        "id": "gBa6AmG_dcwE",
        "colab_type": "code",
        "colab": {
          "base_uri": "https://localhost:8080/",
          "height": 204
        },
        "outputId": "13240f8f-f471-4345-b180-fd70b7b54044"
      },
      "source": [
        "head(df_addsp)"
      ],
      "execution_count": 21,
      "outputs": [
        {
          "output_type": "display_data",
          "data": {
            "text/plain": [
              "  Survey Data::__kp_Survey Survey Data::_kf_Site Survey Data::SurveyDate\n",
              "1 436                      1                     7/26/11                \n",
              "2 436                      1                     7/26/11                \n",
              "3 436                      1                     7/26/11                \n",
              "4 436                      1                     7/26/11                \n",
              "5 436                      1                     7/26/11                \n",
              "6 436                      1                     7/26/11                \n",
              "  Survey Data::SurveyYear _kf_Species_serial _kf_PlantCode\n",
              "1 2011                     37                ANTE_SP      \n",
              "2 2011                     51                ARECON       \n",
              "3 2011                     91                CAMROT       \n",
              "4 2011                    153                COLLIN       \n",
              "5 2011                    174                DELBIC       \n",
              "6 2011                    426                DRYGLA       "
            ],
            "text/latex": "A tibble: 6 × 6\n\\begin{tabular}{llllll}\n Survey Data::\\_\\_kp\\_Survey & Survey Data::\\_kf\\_Site & Survey Data::SurveyDate & Survey Data::SurveyYear & \\_kf\\_Species\\_serial & \\_kf\\_PlantCode\\\\\n <chr> & <dbl> & <chr> & <dbl> & <dbl> & <chr>\\\\\n\\hline\n\t 436 & 1 & 7/26/11 & 2011 &  37 & ANTE\\_SP\\\\\n\t 436 & 1 & 7/26/11 & 2011 &  51 & ARECON \\\\\n\t 436 & 1 & 7/26/11 & 2011 &  91 & CAMROT \\\\\n\t 436 & 1 & 7/26/11 & 2011 & 153 & COLLIN \\\\\n\t 436 & 1 & 7/26/11 & 2011 & 174 & DELBIC \\\\\n\t 436 & 1 & 7/26/11 & 2011 & 426 & DRYGLA \\\\\n\\end{tabular}\n",
            "text/markdown": "\nA tibble: 6 × 6\n\n| Survey Data::__kp_Survey &lt;chr&gt; | Survey Data::_kf_Site &lt;dbl&gt; | Survey Data::SurveyDate &lt;chr&gt; | Survey Data::SurveyYear &lt;dbl&gt; | _kf_Species_serial &lt;dbl&gt; | _kf_PlantCode &lt;chr&gt; |\n|---|---|---|---|---|---|\n| 436 | 1 | 7/26/11 | 2011 |  37 | ANTE_SP |\n| 436 | 1 | 7/26/11 | 2011 |  51 | ARECON  |\n| 436 | 1 | 7/26/11 | 2011 |  91 | CAMROT  |\n| 436 | 1 | 7/26/11 | 2011 | 153 | COLLIN  |\n| 436 | 1 | 7/26/11 | 2011 | 174 | DELBIC  |\n| 436 | 1 | 7/26/11 | 2011 | 426 | DRYGLA  |\n\n",
            "text/html": [
              "<table>\n",
              "<caption>A tibble: 6 × 6</caption>\n",
              "<thead>\n",
              "\t<tr><th scope=col>Survey Data::__kp_Survey</th><th scope=col>Survey Data::_kf_Site</th><th scope=col>Survey Data::SurveyDate</th><th scope=col>Survey Data::SurveyYear</th><th scope=col>_kf_Species_serial</th><th scope=col>_kf_PlantCode</th></tr>\n",
              "\t<tr><th scope=col>&lt;chr&gt;</th><th scope=col>&lt;dbl&gt;</th><th scope=col>&lt;chr&gt;</th><th scope=col>&lt;dbl&gt;</th><th scope=col>&lt;dbl&gt;</th><th scope=col>&lt;chr&gt;</th></tr>\n",
              "</thead>\n",
              "<tbody>\n",
              "\t<tr><td>436</td><td>1</td><td>7/26/11</td><td>2011</td><td> 37</td><td>ANTE_SP</td></tr>\n",
              "\t<tr><td>436</td><td>1</td><td>7/26/11</td><td>2011</td><td> 51</td><td>ARECON </td></tr>\n",
              "\t<tr><td>436</td><td>1</td><td>7/26/11</td><td>2011</td><td> 91</td><td>CAMROT </td></tr>\n",
              "\t<tr><td>436</td><td>1</td><td>7/26/11</td><td>2011</td><td>153</td><td>COLLIN </td></tr>\n",
              "\t<tr><td>436</td><td>1</td><td>7/26/11</td><td>2011</td><td>174</td><td>DELBIC </td></tr>\n",
              "\t<tr><td>436</td><td>1</td><td>7/26/11</td><td>2011</td><td>426</td><td>DRYGLA </td></tr>\n",
              "</tbody>\n",
              "</table>\n"
            ]
          },
          "metadata": {
            "tags": []
          }
        }
      ]
    },
    {
      "cell_type": "markdown",
      "metadata": {
        "id": "6QQ2hi_fd9nB",
        "colab_type": "text"
      },
      "source": [
        "# Wrangle"
      ]
    },
    {
      "cell_type": "markdown",
      "metadata": {
        "id": "-O_kR_2JjRsr",
        "colab_type": "text"
      },
      "source": [
        "## Drop column"
      ]
    },
    {
      "cell_type": "code",
      "metadata": {
        "id": "SsOts8ZljRXs",
        "colab_type": "code",
        "colab": {}
      },
      "source": [
        "# remove _kf_PlantCode column\n",
        "df_addsp <- df_addsp %>%\n",
        "  select(!('_kf_PlantCode'))"
      ],
      "execution_count": 22,
      "outputs": []
    },
    {
      "cell_type": "markdown",
      "metadata": {
        "id": "ClDHe9VHij8y",
        "colab_type": "text"
      },
      "source": [
        "## Rename"
      ]
    },
    {
      "cell_type": "code",
      "metadata": {
        "id": "SDIGsJAHixI2",
        "colab_type": "code",
        "colab": {
          "base_uri": "https://localhost:8080/",
          "height": 34
        },
        "outputId": "ef20fcda-ba14-48e5-9c06-c87315831048"
      },
      "source": [
        "names(df_addsp)"
      ],
      "execution_count": 23,
      "outputs": [
        {
          "output_type": "display_data",
          "data": {
            "text/plain": [
              "[1] \"Survey Data::__kp_Survey\" \"Survey Data::_kf_Site\"   \n",
              "[3] \"Survey Data::SurveyDate\"  \"Survey Data::SurveyYear\" \n",
              "[5] \"_kf_Species_serial\"      "
            ],
            "text/latex": "\\begin{enumerate*}\n\\item 'Survey Data::\\_\\_kp\\_Survey'\n\\item 'Survey Data::\\_kf\\_Site'\n\\item 'Survey Data::SurveyDate'\n\\item 'Survey Data::SurveyYear'\n\\item '\\_kf\\_Species\\_serial'\n\\end{enumerate*}\n",
            "text/markdown": "1. 'Survey Data::__kp_Survey'\n2. 'Survey Data::_kf_Site'\n3. 'Survey Data::SurveyDate'\n4. 'Survey Data::SurveyYear'\n5. '_kf_Species_serial'\n\n\n",
            "text/html": [
              "<style>\n",
              ".list-inline {list-style: none; margin:0; padding: 0}\n",
              ".list-inline>li {display: inline-block}\n",
              ".list-inline>li:not(:last-child)::after {content: \"\\00b7\"; padding: 0 .5ex}\n",
              "</style>\n",
              "<ol class=list-inline><li>'Survey Data::__kp_Survey'</li><li>'Survey Data::_kf_Site'</li><li>'Survey Data::SurveyDate'</li><li>'Survey Data::SurveyYear'</li><li>'_kf_Species_serial'</li></ol>\n"
            ]
          },
          "metadata": {
            "tags": []
          }
        }
      ]
    },
    {
      "cell_type": "code",
      "metadata": {
        "id": "eGNNHRAvijXz",
        "colab_type": "code",
        "colab": {}
      },
      "source": [
        "oldnames = c('Survey Data::__kp_Survey', 'Survey Data::_kf_Site', 'Survey Data::SurveyDate', \n",
        "             'Survey Data::SurveyYear', '_kf_Species_serial')\n",
        "newnames = c('survey_ID', 'grid_point', 'date', 'year', 'key_plant_species')\n",
        "\n",
        "# df_pt %>% rename_at(vars(all_of(oldnames)), ~ newnames)\n",
        "df_addsp <- df_addsp %>% \n",
        "  rename_at(vars(all_of(oldnames)), ~ newnames)"
      ],
      "execution_count": 24,
      "outputs": []
    },
    {
      "cell_type": "markdown",
      "metadata": {
        "id": "X7wv1YPRk-bt",
        "colab_type": "text"
      },
      "source": [
        "## Set DataType"
      ]
    },
    {
      "cell_type": "code",
      "metadata": {
        "id": "8mV2d2zClAjv",
        "colab_type": "code",
        "colab": {
          "base_uri": "https://localhost:8080/",
          "height": 136
        },
        "outputId": "c4529d02-b3f6-4f66-8a3e-17db263eed0a"
      },
      "source": [
        "glimpse(df_addsp)"
      ],
      "execution_count": 25,
      "outputs": [
        {
          "output_type": "stream",
          "text": [
            "Rows: 11,429\n",
            "Columns: 5\n",
            "$ survey_ID         \u001b[3m\u001b[90m<chr>\u001b[39m\u001b[23m \"436\", \"436\", \"436\", \"436\", \"436\", \"436\", \"436\", \"4…\n",
            "$ grid_point        \u001b[3m\u001b[90m<dbl>\u001b[39m\u001b[23m 1, 1, 1, 1, 1, 1, 1, 1, 1, 1, 1, 1, 1, 1, 2, 2, 2, …\n",
            "$ date              \u001b[3m\u001b[90m<chr>\u001b[39m\u001b[23m \"7/26/11\", \"7/26/11\", \"7/26/11\", \"7/26/11\", \"7/26/1…\n",
            "$ year              \u001b[3m\u001b[90m<dbl>\u001b[39m\u001b[23m 2011, 2011, 2011, 2011, 2011, 2011, 2011, 2011, 201…\n",
            "$ key_plant_species \u001b[3m\u001b[90m<dbl>\u001b[39m\u001b[23m 37, 51, 91, 153, 174, 426, 270, 343, 384, 427, 484,…\n"
          ],
          "name": "stdout"
        }
      ]
    },
    {
      "cell_type": "code",
      "metadata": {
        "id": "4MHtNT7Z5jTE",
        "colab_type": "code",
        "colab": {}
      },
      "source": [
        "df_addsp$grid_point <- as.integer(df_addsp$grid_point)\n",
        "df_addsp$date <- as.Date(df_addsp$date, \"%m/%d/%Y\")\n",
        "df_addsp$year <- as.integer(df_addsp$year)\n",
        "df_addsp$key_plant_species <- as.integer(df_addsp$key_plant_species)"
      ],
      "execution_count": 27,
      "outputs": []
    },
    {
      "cell_type": "code",
      "metadata": {
        "id": "_G7pmJ6Z9ase",
        "colab_type": "code",
        "colab": {
          "base_uri": "https://localhost:8080/",
          "height": 136
        },
        "outputId": "b618207c-88d2-484e-c305-ef7edc75ebcd"
      },
      "source": [
        "glimpse(df_addsp)"
      ],
      "execution_count": 28,
      "outputs": [
        {
          "output_type": "stream",
          "text": [
            "Rows: 11,429\n",
            "Columns: 5\n",
            "$ survey_ID         \u001b[3m\u001b[90m<chr>\u001b[39m\u001b[23m \"436\", \"436\", \"436\", \"436\", \"436\", \"436\", \"436\", \"4…\n",
            "$ grid_point        \u001b[3m\u001b[90m<int>\u001b[39m\u001b[23m 1, 1, 1, 1, 1, 1, 1, 1, 1, 1, 1, 1, 1, 1, 2, 2, 2, …\n",
            "$ date              \u001b[3m\u001b[90m<date>\u001b[39m\u001b[23m 11-07-26, 11-07-26, 11-07-26, 11-07-26, 11-07-26, …\n",
            "$ year              \u001b[3m\u001b[90m<int>\u001b[39m\u001b[23m 2011, 2011, 2011, 2011, 2011, 2011, 2011, 2011, 201…\n",
            "$ key_plant_species \u001b[3m\u001b[90m<int>\u001b[39m\u001b[23m 37, 51, 91, 153, 174, 426, 270, 343, 384, 427, 484,…\n"
          ],
          "name": "stdout"
        }
      ]
    },
    {
      "cell_type": "markdown",
      "metadata": {
        "id": "7qHOZhF7kvQJ",
        "colab_type": "text"
      },
      "source": [
        "# Explore"
      ]
    },
    {
      "cell_type": "code",
      "metadata": {
        "id": "065grWxEd-Sr",
        "colab_type": "code",
        "colab": {}
      },
      "source": [
        "df_addsp %>%\n",
        "  distinct(key_plant_species) %>%\n",
        "  arrange(key_plant_species)"
      ],
      "execution_count": null,
      "outputs": []
    },
    {
      "cell_type": "markdown",
      "metadata": {
        "id": "cm-nPvhk9ol8",
        "colab_type": "text"
      },
      "source": [
        "# Output"
      ]
    },
    {
      "cell_type": "code",
      "metadata": {
        "id": "MOyUHuVj9pt1",
        "colab_type": "code",
        "colab": {}
      },
      "source": [
        "write_csv(df_addsp, path = \"gridVeg_additional_species_WRANGLE.csv\")"
      ],
      "execution_count": 32,
      "outputs": []
    }
  ]
}