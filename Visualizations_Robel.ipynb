{
  "nbformat": 4,
  "nbformat_minor": 0,
  "metadata": {
    "colab": {
      "name": "Visualizations - Robel",
      "provenance": [],
      "toc_visible": true,
      "authorship_tag": "ABX9TyMp+o9l8KC6g1a1uHCtwI4+",
      "include_colab_link": true
    },
    "kernelspec": {
      "name": "ir",
      "display_name": "R"
    },
    "accelerator": "GPU"
  },
  "cells": [
    {
      "cell_type": "markdown",
      "metadata": {
        "id": "view-in-github",
        "colab_type": "text"
      },
      "source": [
        "<a href=\"https://colab.research.google.com/github/samsoe/mpg_notebooks/blob/master/Visualizations_Robel.ipynb\" target=\"_parent\"><img src=\"https://colab.research.google.com/assets/colab-badge.svg\" alt=\"Open In Colab\"/></a>"
      ]
    },
    {
      "cell_type": "markdown",
      "metadata": {
        "id": "eNsz2cqfWBuB",
        "colab_type": "text"
      },
      "source": [
        "bigrquery [Documentation](https://www.rdocumentation.org/packages/bigrquery/versions/1.2.0)\n",
        "* billing [documentation](https://github.com/r-dbi/bigrquery/issues/366)"
      ]
    },
    {
      "cell_type": "markdown",
      "metadata": {
        "id": "Cq2Ghrnq4OaF",
        "colab_type": "text"
      },
      "source": [
        "This is an R Notebook.  An API key needs to be generated externally and uploaded for reasons."
      ]
    },
    {
      "cell_type": "markdown",
      "metadata": {
        "id": "QnsZ7WkjFadJ",
        "colab_type": "text"
      },
      "source": [
        "# Gather Tools"
      ]
    },
    {
      "cell_type": "code",
      "metadata": {
        "id": "_zlPNKS1Pprr",
        "colab_type": "code",
        "outputId": "ee49de45-b50a-4fab-d580-e3d15d155790",
        "colab": {
          "base_uri": "https://localhost:8080/",
          "height": 170
        }
      },
      "source": [
        "# bigquery api access\n",
        "install.packages(\"bigrquery\")\n",
        "install.packages(\"httpuv\")\n",
        "install.packages(\"googleAuthR\")"
      ],
      "execution_count": 1,
      "outputs": [
        {
          "output_type": "stream",
          "text": [
            "Installing package into ‘/usr/local/lib/R/site-library’\n",
            "(as ‘lib’ is unspecified)\n",
            "\n",
            "Installing package into ‘/usr/local/lib/R/site-library’\n",
            "(as ‘lib’ is unspecified)\n",
            "\n",
            "Installing package into ‘/usr/local/lib/R/site-library’\n",
            "(as ‘lib’ is unspecified)\n",
            "\n"
          ],
          "name": "stderr"
        }
      ]
    },
    {
      "cell_type": "code",
      "metadata": {
        "id": "5j51mLbKS_UX",
        "colab_type": "code",
        "colab": {}
      },
      "source": [
        "library(bigrquery)\n",
        "library(httpuv)\n",
        "library(tidyr)\n",
        "library(ggplot2)\n",
        "library(dplyr)"
      ],
      "execution_count": 0,
      "outputs": []
    },
    {
      "cell_type": "markdown",
      "metadata": {
        "id": "hvU4eSoeFeq1",
        "colab_type": "text"
      },
      "source": [
        "# Database Connection"
      ]
    },
    {
      "cell_type": "code",
      "metadata": {
        "id": "0xg2GBARfMEJ",
        "colab_type": "code",
        "colab": {}
      },
      "source": [
        "# BigQuery API Key\n",
        "bq_auth(path = \"/content/mpg-data-warehouse-34434e1a9914.json\")"
      ],
      "execution_count": 0,
      "outputs": []
    },
    {
      "cell_type": "code",
      "metadata": {
        "id": "sLzd7hNSsodn",
        "colab_type": "code",
        "colab": {}
      },
      "source": [
        "Sys.setenv(BIGQUERY_TEST_PROJECT = \"mpg-data-warehouse\")"
      ],
      "execution_count": 0,
      "outputs": []
    },
    {
      "cell_type": "code",
      "metadata": {
        "id": "M2tWFYLyrxjw",
        "colab_type": "code",
        "colab": {}
      },
      "source": [
        "billing <- bq_test_project()"
      ],
      "execution_count": 0,
      "outputs": []
    },
    {
      "cell_type": "code",
      "metadata": {
        "id": "7bHxCqj1TI00",
        "colab_type": "code",
        "colab": {}
      },
      "source": [
        "con <- dbConnect(\n",
        "  bigrquery::bigquery(),\n",
        "  project = \"mpg-data-warehouse\",\n",
        "  dataset = \"horizontal_cover_robel\",\n",
        "  billing = billing\n",
        ")"
      ],
      "execution_count": 0,
      "outputs": []
    },
    {
      "cell_type": "code",
      "metadata": {
        "id": "Ru_HOMBEqUUf",
        "colab_type": "code",
        "outputId": "872c6027-95b9-4fb6-e88e-f1c41e5ef579",
        "colab": {
          "base_uri": "https://localhost:8080/",
          "height": 68
        }
      },
      "source": [
        "con"
      ],
      "execution_count": 19,
      "outputs": [
        {
          "output_type": "display_data",
          "data": {
            "text/plain": [
              "<BigQueryConnection>\n",
              "  Dataset: mpg-data-warehouse.horizontal_cover_robel\n",
              "  Billing: mpg-data-warehouse"
            ]
          },
          "metadata": {
            "tags": []
          }
        }
      ]
    },
    {
      "cell_type": "code",
      "metadata": {
        "id": "kwc9ZaYLr9tm",
        "colab_type": "code",
        "colab": {}
      },
      "source": [
        "dbListTables(con)"
      ],
      "execution_count": 0,
      "outputs": []
    },
    {
      "cell_type": "markdown",
      "metadata": {
        "id": "O1yrTU6EO91c",
        "colab_type": "text"
      },
      "source": [
        "# Combined"
      ]
    },
    {
      "cell_type": "markdown",
      "metadata": {
        "id": "G_wXhcVQH9dm",
        "colab_type": "text"
      },
      "source": [
        "## Query Database"
      ]
    },
    {
      "cell_type": "code",
      "metadata": {
        "id": "RrSHNP1RNin2",
        "colab_type": "code",
        "colab": {}
      },
      "source": [
        "sql <- \"SELECT \n",
        "           *\n",
        "        FROM \n",
        "          `mpg-data-warehouse.vegetation_biomass.horizontal_cover_robel`\""
      ],
      "execution_count": 0,
      "outputs": []
    },
    {
      "cell_type": "code",
      "metadata": {
        "id": "VCS3vdw-NrPs",
        "colab_type": "code",
        "colab": {}
      },
      "source": [
        "tb <- bq_project_query(billing, sql)"
      ],
      "execution_count": 0,
      "outputs": []
    },
    {
      "cell_type": "code",
      "metadata": {
        "id": "ICDrRddYNySf",
        "colab_type": "code",
        "colab": {}
      },
      "source": [
        "robel = bq_table_download(tb)"
      ],
      "execution_count": 0,
      "outputs": []
    },
    {
      "cell_type": "code",
      "metadata": {
        "id": "DuvhjBzjO3eS",
        "colab_type": "code",
        "outputId": "98d4f66c-966d-4da0-8156-e30275efcad7",
        "colab": {
          "base_uri": "https://localhost:8080/",
          "height": 34
        }
      },
      "source": [
        "class(robel)"
      ],
      "execution_count": 12,
      "outputs": [
        {
          "output_type": "display_data",
          "data": {
            "text/plain": [
              "[1] \"tbl_df\"     \"tbl\"        \"data.frame\""
            ],
            "text/latex": "\\begin{enumerate*}\n\\item 'tbl\\_df'\n\\item 'tbl'\n\\item 'data.frame'\n\\end{enumerate*}\n",
            "text/markdown": "1. 'tbl_df'\n2. 'tbl'\n3. 'data.frame'\n\n\n",
            "text/html": [
              "<style>\n",
              ".list-inline {list-style: none; margin:0; padding: 0}\n",
              ".list-inline>li {display: inline-block}\n",
              ".list-inline>li:not(:last-child)::after {content: \"\\00b7\"; padding: 0 .5ex}\n",
              "</style>\n",
              "<ol class=list-inline><li>'tbl_df'</li><li>'tbl'</li><li>'data.frame'</li></ol>\n"
            ]
          },
          "metadata": {
            "tags": []
          }
        }
      ]
    },
    {
      "cell_type": "markdown",
      "metadata": {
        "id": "q43CktoJIBJL",
        "colab_type": "text"
      },
      "source": [
        "## Format"
      ]
    },
    {
      "cell_type": "code",
      "metadata": {
        "id": "x__SxQLHP0x3",
        "colab_type": "code",
        "colab": {}
      },
      "source": [
        "# convert to data frame\n",
        "robel <- as.data.frame(robel)"
      ],
      "execution_count": 0,
      "outputs": []
    },
    {
      "cell_type": "code",
      "metadata": {
        "id": "NlXNhJ33QEe5",
        "colab_type": "code",
        "colab": {}
      },
      "source": [
        "robel$year <- as.factor(robel$year)"
      ],
      "execution_count": 0,
      "outputs": []
    },
    {
      "cell_type": "code",
      "metadata": {
        "id": "NEw-kk1fQXgj",
        "colab_type": "code",
        "colab": {}
      },
      "source": [
        "robel$season <- as.factor(robel$season)"
      ],
      "execution_count": 0,
      "outputs": []
    },
    {
      "cell_type": "code",
      "metadata": {
        "id": "8cpzj8IgQQaY",
        "colab_type": "code",
        "outputId": "8df66e29-4ff2-446b-8041-05d2098c63c8",
        "colab": {
          "base_uri": "https://localhost:8080/",
          "height": 204
        }
      },
      "source": [
        "head(robel)"
      ],
      "execution_count": 16,
      "outputs": [
        {
          "output_type": "display_data",
          "data": {
            "text/plain": [
              "  grid_point date year season robel_avg\n",
              "1  10        <NA> 2020 spring  7.75    \n",
              "2 104        <NA> 2020 spring  4.25    \n",
              "3 348        <NA> 2020 spring 19.50    \n",
              "4 352        <NA> 2020 spring  4.25    \n",
              "5 550        <NA> 2020 spring 10.25    \n",
              "6  36        <NA> 2016 spring 12.50    "
            ],
            "text/latex": "A data.frame: 6 × 5\n\\begin{tabular}{r|lllll}\n  & grid\\_point & date & year & season & robel\\_avg\\\\\n  & <int> & <dttm> & <fct> & <fct> & <dbl>\\\\\n\\hline\n\t1 &  10 & NA & 2020 & spring &  7.75\\\\\n\t2 & 104 & NA & 2020 & spring &  4.25\\\\\n\t3 & 348 & NA & 2020 & spring & 19.50\\\\\n\t4 & 352 & NA & 2020 & spring &  4.25\\\\\n\t5 & 550 & NA & 2020 & spring & 10.25\\\\\n\t6 &  36 & NA & 2016 & spring & 12.50\\\\\n\\end{tabular}\n",
            "text/markdown": "\nA data.frame: 6 × 5\n\n| <!--/--> | grid_point &lt;int&gt; | date &lt;dttm&gt; | year &lt;fct&gt; | season &lt;fct&gt; | robel_avg &lt;dbl&gt; |\n|---|---|---|---|---|---|\n| 1 |  10 | NA | 2020 | spring |  7.75 |\n| 2 | 104 | NA | 2020 | spring |  4.25 |\n| 3 | 348 | NA | 2020 | spring | 19.50 |\n| 4 | 352 | NA | 2020 | spring |  4.25 |\n| 5 | 550 | NA | 2020 | spring | 10.25 |\n| 6 |  36 | NA | 2016 | spring | 12.50 |\n\n",
            "text/html": [
              "<table>\n",
              "<caption>A data.frame: 6 × 5</caption>\n",
              "<thead>\n",
              "\t<tr><th></th><th scope=col>grid_point</th><th scope=col>date</th><th scope=col>year</th><th scope=col>season</th><th scope=col>robel_avg</th></tr>\n",
              "\t<tr><th></th><th scope=col>&lt;int&gt;</th><th scope=col>&lt;dttm&gt;</th><th scope=col>&lt;fct&gt;</th><th scope=col>&lt;fct&gt;</th><th scope=col>&lt;dbl&gt;</th></tr>\n",
              "</thead>\n",
              "<tbody>\n",
              "\t<tr><th scope=row>1</th><td> 10</td><td>NA</td><td>2020</td><td>spring</td><td> 7.75</td></tr>\n",
              "\t<tr><th scope=row>2</th><td>104</td><td>NA</td><td>2020</td><td>spring</td><td> 4.25</td></tr>\n",
              "\t<tr><th scope=row>3</th><td>348</td><td>NA</td><td>2020</td><td>spring</td><td>19.50</td></tr>\n",
              "\t<tr><th scope=row>4</th><td>352</td><td>NA</td><td>2020</td><td>spring</td><td> 4.25</td></tr>\n",
              "\t<tr><th scope=row>5</th><td>550</td><td>NA</td><td>2020</td><td>spring</td><td>10.25</td></tr>\n",
              "\t<tr><th scope=row>6</th><td> 36</td><td>NA</td><td>2016</td><td>spring</td><td>12.50</td></tr>\n",
              "</tbody>\n",
              "</table>\n"
            ]
          },
          "metadata": {
            "tags": []
          }
        }
      ]
    },
    {
      "cell_type": "markdown",
      "metadata": {
        "id": "F2k61Y8CIEMV",
        "colab_type": "text"
      },
      "source": [
        "## Display"
      ]
    },
    {
      "cell_type": "markdown",
      "metadata": {
        "id": "WQMWeqDxKEYb",
        "colab_type": "text"
      },
      "source": [
        "### Spring"
      ]
    },
    {
      "cell_type": "code",
      "metadata": {
        "id": "ywsNxCdeQI8w",
        "colab_type": "code",
        "outputId": "17602c2f-eea8-4ab5-9bce-3740eeae1d8b",
        "colab": {
          "base_uri": "https://localhost:8080/",
          "height": 437
        }
      },
      "source": [
        "p <- ggplot(data = filter(robel, season == \"spring\")) +\n",
        "  geom_boxplot(aes(x=year, y=robel_avg), na.rm=TRUE)\n",
        "\n",
        "p +\n",
        "  scale_y_continuous(name=\"Spring Robel\", limits=c(0,25)) +\n",
        "  theme_gray(base_size=23) +\n",
        "  facet_wrap(~ season)"
      ],
      "execution_count": 17,
      "outputs": [
        {
          "output_type": "display_data",
          "data": {
            "image/png": "[encoded data removed]",
            "text/plain": [
              "plot without title"
            ]
          },
          "metadata": {
            "tags": [],
            "image/png": {
              "width": 420,
              "height": 420
            },
            "text/plain": {
              "width": 420,
              "height": 420
            }
          }
        }
      ]
    },
    {
      "cell_type": "markdown",
      "metadata": {
        "id": "a21Dn5t4KMY0",
        "colab_type": "text"
      },
      "source": [
        "### Fall"
      ]
    },
    {
      "cell_type": "code",
      "metadata": {
        "id": "-dPX8bwkKKpG",
        "colab_type": "code",
        "outputId": "7e71f1f9-5ffc-40c6-f10d-fcd0b682c231",
        "colab": {
          "base_uri": "https://localhost:8080/",
          "height": 437
        }
      },
      "source": [
        "p <- ggplot(data = filter(robel, season == \"fall\")) +\n",
        "  geom_boxplot(aes(x=year, y=robel_avg), na.rm=TRUE)\n",
        "\n",
        "p +\n",
        "  scale_y_continuous(name=\"Fall Robel\", limits=c(0,30)) +\n",
        "  theme_gray(base_size=23) +\n",
        "  facet_wrap(~ season)"
      ],
      "execution_count": 18,
      "outputs": [
        {
          "output_type": "display_data",
          "data": {
            "image/png": "[encoded data removed]",
            "text/plain": [
              "plot without title"
            ]
          },
          "metadata": {
            "tags": [],
            "image/png": {
              "width": 420,
              "height": 420
            },
            "text/plain": {
              "width": 420,
              "height": 420
            }
          }
        }
      ]
    }
  ]
}