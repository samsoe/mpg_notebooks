{
  "nbformat": 4,
  "nbformat_minor": 0,
  "metadata": {
    "colab": {
      "name": "gridVeg_plant_binary_matrix.ipynb",
      "provenance": [],
      "collapsed_sections": [],
      "toc_visible": true,
      "include_colab_link": true
    },
    "language_info": {
      "codemirror_mode": "r",
      "file_extension": ".r",
      "mimetype": "text/x-r-source",
      "name": "R",
      "pygments_lexer": "r",
      "version": "3.3.1"
    },
    "kernelspec": {
      "display_name": "R",
      "language": "R",
      "name": "ir"
    }
  },
  "cells": [
    {
      "cell_type": "markdown",
      "metadata": {
        "id": "view-in-github",
        "colab_type": "text"
      },
      "source": [
        "<a href=\"https://colab.research.google.com/github/samsoe/mpg_notebooks/blob/master/gridVeg_plant_binary_matrix.ipynb\" target=\"_parent\"><img src=\"https://colab.research.google.com/assets/colab-badge.svg\" alt=\"Open In Colab\"/></a>"
      ]
    },
    {
      "cell_type": "markdown",
      "metadata": {
        "id": "nWeqYEsLBQ6V",
        "colab_type": "text"
      },
      "source": [
        "# Documentation\n",
        "* [Readme - vegetation point transect survey](https://docs.google.com/document/d/1JWnhxNjeSQZkSnGhtHP68i_l1mDj4vPFMBdUvGqN0TA/edit?usp=sharing): View: gridVeg_plant_binary_matrix"
      ]
    },
    {
      "cell_type": "markdown",
      "metadata": {
        "id": "BhOI1uU2Koum",
        "colab_type": "text"
      },
      "source": [
        "# Security"
      ]
    },
    {
      "cell_type": "markdown",
      "metadata": {
        "id": "hgB3r3wvA9Pn",
        "colab_type": "text"
      },
      "source": [
        "* The user must load a `json` file containing the BigQuery API key into the local directory `/content/...`\n",
        "* The user must have a Google Maps API key to enable mapping. \n",
        "   * CAUTION make sure the key is deleted from the current instance of the notebook before sharing"
      ]
    },
    {
      "cell_type": "markdown",
      "metadata": {
        "id": "MnG0ah7OA59c",
        "colab_type": "text"
      },
      "source": [
        "# Tools"
      ]
    },
    {
      "cell_type": "code",
      "metadata": {
        "id": "Y6y4EWeYpVBJ",
        "colab_type": "code",
        "colab": {}
      },
      "source": [
        "library(tidyverse)"
      ],
      "execution_count": 58,
      "outputs": []
    },
    {
      "cell_type": "markdown",
      "metadata": {
        "id": "eUw-It3JBBrQ",
        "colab_type": "text"
      },
      "source": [
        "* Remember that the file containing authorization keys for Big Query must be loaded into the virutual envrionment manually."
      ]
    },
    {
      "cell_type": "code",
      "metadata": {
        "id": "VxYkYhQTKouo",
        "colab_type": "code",
        "colab": {
          "base_uri": "https://localhost:8080/",
          "height": 68
        },
        "outputId": "7bf13f65-776e-42d9-fd67-33dfd8c57dea"
      },
      "source": [
        "install.packages(\"bigrquery\")\n",
        "library(bigrquery)"
      ],
      "execution_count": 59,
      "outputs": [
        {
          "output_type": "stream",
          "text": [
            "Installing package into ‘/usr/local/lib/R/site-library’\n",
            "(as ‘lib’ is unspecified)\n",
            "\n"
          ],
          "name": "stderr"
        }
      ]
    },
    {
      "cell_type": "markdown",
      "metadata": {
        "id": "H1I9aQ_SBH3n",
        "colab_type": "text"
      },
      "source": [
        "# Source"
      ]
    },
    {
      "cell_type": "markdown",
      "metadata": {
        "id": "Bfb7MHpGBJMO",
        "colab_type": "text"
      },
      "source": [
        "## Database Connection"
      ]
    },
    {
      "cell_type": "code",
      "metadata": {
        "id": "ihI70_BPKouq",
        "colab_type": "code",
        "colab": {}
      },
      "source": [
        "# BigQuery API Key\n",
        "bq_auth(path = \"/content/mpg-data-warehouse-api_key-master.json\")"
      ],
      "execution_count": 60,
      "outputs": []
    },
    {
      "cell_type": "code",
      "metadata": {
        "id": "8YxL8wHoBNxV",
        "colab_type": "code",
        "colab": {}
      },
      "source": [
        "Sys.setenv(BIGQUERY_TEST_PROJECT = \"mpg-data-warehouse\")"
      ],
      "execution_count": 61,
      "outputs": []
    },
    {
      "cell_type": "code",
      "metadata": {
        "id": "yevfizb5BQXm",
        "colab_type": "code",
        "colab": {}
      },
      "source": [
        "billing <- bq_test_project()"
      ],
      "execution_count": 62,
      "outputs": []
    },
    {
      "cell_type": "markdown",
      "metadata": {
        "id": "JN4Z34yRp2-k",
        "colab_type": "text"
      },
      "source": [
        "### vegetation_point_intercept_gridVeg"
      ]
    },
    {
      "cell_type": "code",
      "metadata": {
        "id": "mKsvG7zTBXl3",
        "colab_type": "code",
        "colab": {}
      },
      "source": [
        "# con_point_intercept <- dbConnect(\n",
        "#   bigrquery::bigquery(),\n",
        "#   project = \"mpg-data-warehouse\",\n",
        "#   dataset = \"vegetation_point_intercept_gridVeg\",\n",
        "#   billing = billing\n",
        "# )"
      ],
      "execution_count": null,
      "outputs": []
    },
    {
      "cell_type": "code",
      "metadata": {
        "id": "64HvPjFbBZem",
        "colab_type": "code",
        "colab": {
          "base_uri": "https://localhost:8080/",
          "height": 34
        },
        "outputId": "2903f601-25c1-4a3c-b67e-9d7e8a7768d2"
      },
      "source": [
        "# dbListTables(con_survey_effort)"
      ],
      "execution_count": null,
      "outputs": [
        {
          "output_type": "display_data",
          "data": {
            "text/plain": [
              "[1] \"gridVeg_groundCover_intercepts\" \"gridVeg_plant_intercepts\"      \n",
              "[3] \"gridVeg_species_richness\"       \"gridVeg_survey_effort\"         "
            ],
            "text/latex": "\\begin{enumerate*}\n\\item 'gridVeg\\_groundCover\\_intercepts'\n\\item 'gridVeg\\_plant\\_intercepts'\n\\item 'gridVeg\\_species\\_richness'\n\\item 'gridVeg\\_survey\\_effort'\n\\end{enumerate*}\n",
            "text/markdown": "1. 'gridVeg_groundCover_intercepts'\n2. 'gridVeg_plant_intercepts'\n3. 'gridVeg_species_richness'\n4. 'gridVeg_survey_effort'\n\n\n",
            "text/html": [
              "<style>\n",
              ".list-inline {list-style: none; margin:0; padding: 0}\n",
              ".list-inline>li {display: inline-block}\n",
              ".list-inline>li:not(:last-child)::after {content: \"\\00b7\"; padding: 0 .5ex}\n",
              "</style>\n",
              "<ol class=list-inline><li>'gridVeg_groundCover_intercepts'</li><li>'gridVeg_plant_intercepts'</li><li>'gridVeg_species_richness'</li><li>'gridVeg_survey_effort'</li></ol>\n"
            ]
          },
          "metadata": {
            "tags": []
          }
        }
      ]
    },
    {
      "cell_type": "code",
      "metadata": {
        "id": "26UqASAoB2p0",
        "colab_type": "code",
        "colab": {}
      },
      "source": [
        "sql_species_richness <- \n",
        "\"\n",
        "  SELECT\n",
        "    survey_ID,\n",
        "    grid_point,\n",
        "    key_plant_code\n",
        "  FROM\n",
        "    `mpg-data-warehouse.vegetation_gridVeg_summaries.gridVeg_species_richness`\n",
        "  GROUP BY\n",
        "    survey_ID,\n",
        "    grid_point,\n",
        "    key_plant_code\n",
        "  ORDER BY\n",
        "    grid_point\n",
        "\""
      ],
      "execution_count": 63,
      "outputs": []
    },
    {
      "cell_type": "code",
      "metadata": {
        "id": "VSXOoJkcB3dn",
        "colab_type": "code",
        "colab": {}
      },
      "source": [
        "bq_species_richness <- bq_project_query(billing, sql_species_richness)"
      ],
      "execution_count": 64,
      "outputs": []
    },
    {
      "cell_type": "code",
      "metadata": {
        "id": "KpZnymzzB5Ms",
        "colab_type": "code",
        "colab": {}
      },
      "source": [
        "tb_species_richness <- bq_table_download(bq_species_richness)"
      ],
      "execution_count": 65,
      "outputs": []
    },
    {
      "cell_type": "code",
      "metadata": {
        "id": "VcoNMCO1B6gY",
        "colab_type": "code",
        "colab": {}
      },
      "source": [
        "df_species_richness <- as.data.frame(tb_species_richness)"
      ],
      "execution_count": 66,
      "outputs": []
    },
    {
      "cell_type": "code",
      "metadata": {
        "id": "TswlkIRJSMAw",
        "colab_type": "code",
        "colab": {
          "base_uri": "https://localhost:8080/",
          "height": 162
        },
        "outputId": "65d63eec-c554-48a7-aca0-bbb164d05861"
      },
      "source": [
        "head(df_species_richness, n=4)"
      ],
      "execution_count": 75,
      "outputs": [
        {
          "output_type": "display_data",
          "data": {
            "text/plain": [
              "  survey_ID grid_point key_plant_code\n",
              "1 436       1          ANTE_SP       \n",
              "2 436       1          ARECON        \n",
              "3 436       1          CAMROT        \n",
              "4 436       1          COLLIN        "
            ],
            "text/latex": "A data.frame: 4 × 3\n\\begin{tabular}{r|lll}\n  & survey\\_ID & grid\\_point & key\\_plant\\_code\\\\\n  & <chr> & <int> & <chr>\\\\\n\\hline\n\t1 & 436 & 1 & ANTE\\_SP\\\\\n\t2 & 436 & 1 & ARECON \\\\\n\t3 & 436 & 1 & CAMROT \\\\\n\t4 & 436 & 1 & COLLIN \\\\\n\\end{tabular}\n",
            "text/markdown": "\nA data.frame: 4 × 3\n\n| <!--/--> | survey_ID &lt;chr&gt; | grid_point &lt;int&gt; | key_plant_code &lt;chr&gt; |\n|---|---|---|---|\n| 1 | 436 | 1 | ANTE_SP |\n| 2 | 436 | 1 | ARECON  |\n| 3 | 436 | 1 | CAMROT  |\n| 4 | 436 | 1 | COLLIN  |\n\n",
            "text/html": [
              "<table>\n",
              "<caption>A data.frame: 4 × 3</caption>\n",
              "<thead>\n",
              "\t<tr><th></th><th scope=col>survey_ID</th><th scope=col>grid_point</th><th scope=col>key_plant_code</th></tr>\n",
              "\t<tr><th></th><th scope=col>&lt;chr&gt;</th><th scope=col>&lt;int&gt;</th><th scope=col>&lt;chr&gt;</th></tr>\n",
              "</thead>\n",
              "<tbody>\n",
              "\t<tr><th scope=row>1</th><td>436</td><td>1</td><td>ANTE_SP</td></tr>\n",
              "\t<tr><th scope=row>2</th><td>436</td><td>1</td><td>ARECON </td></tr>\n",
              "\t<tr><th scope=row>3</th><td>436</td><td>1</td><td>CAMROT </td></tr>\n",
              "\t<tr><th scope=row>4</th><td>436</td><td>1</td><td>COLLIN </td></tr>\n",
              "</tbody>\n",
              "</table>\n"
            ]
          },
          "metadata": {
            "tags": []
          }
        }
      ]
    },
    {
      "cell_type": "code",
      "metadata": {
        "id": "_DbQ_okVR2t6",
        "colab_type": "code",
        "colab": {
          "base_uri": "https://localhost:8080/",
          "height": 34
        },
        "outputId": "b28060b2-0a2b-4d10-8b41-cabe5ab3a3b9"
      },
      "source": [
        "dim(df_species_richness)"
      ],
      "execution_count": 68,
      "outputs": [
        {
          "output_type": "display_data",
          "data": {
            "text/plain": [
              "[1] 35428     3"
            ],
            "text/latex": "\\begin{enumerate*}\n\\item 35428\n\\item 3\n\\end{enumerate*}\n",
            "text/markdown": "1. 35428\n2. 3\n\n\n",
            "text/html": [
              "<style>\n",
              ".list-inline {list-style: none; margin:0; padding: 0}\n",
              ".list-inline>li {display: inline-block}\n",
              ".list-inline>li:not(:last-child)::after {content: \"\\00b7\"; padding: 0 .5ex}\n",
              "</style>\n",
              "<ol class=list-inline><li>35428</li><li>3</li></ol>\n"
            ]
          },
          "metadata": {
            "tags": []
          }
        }
      ]
    },
    {
      "cell_type": "code",
      "metadata": {
        "id": "FdgA8C4uRi9M",
        "colab_type": "code",
        "colab": {
          "base_uri": "https://localhost:8080/",
          "height": 133
        },
        "outputId": "4624fcf9-23c0-4caa-c172-862c9ff0b945"
      },
      "source": [
        "df_species_richness %>%\n",
        "  distinct(key_plant_code) %>%\n",
        "  count()"
      ],
      "execution_count": 69,
      "outputs": [
        {
          "output_type": "display_data",
          "data": {
            "text/plain": [
              "  n  \n",
              "1 553"
            ],
            "text/latex": "A data.frame: 1 × 1\n\\begin{tabular}{l}\n n\\\\\n <int>\\\\\n\\hline\n\t 553\\\\\n\\end{tabular}\n",
            "text/markdown": "\nA data.frame: 1 × 1\n\n| n &lt;int&gt; |\n|---|\n| 553 |\n\n",
            "text/html": [
              "<table>\n",
              "<caption>A data.frame: 1 × 1</caption>\n",
              "<thead>\n",
              "\t<tr><th scope=col>n</th></tr>\n",
              "\t<tr><th scope=col>&lt;int&gt;</th></tr>\n",
              "</thead>\n",
              "<tbody>\n",
              "\t<tr><td>553</td></tr>\n",
              "</tbody>\n",
              "</table>\n"
            ]
          },
          "metadata": {
            "tags": []
          }
        }
      ]
    },
    {
      "cell_type": "markdown",
      "metadata": {
        "id": "W7W7rZiEbwZA",
        "colab_type": "text"
      },
      "source": [
        "### gridVeg_survey_metadata"
      ]
    },
    {
      "cell_type": "code",
      "metadata": {
        "id": "qrvXC8Zdb5c6",
        "colab_type": "code",
        "colab": {}
      },
      "source": [
        "sql_survey_metadata <- \n",
        "\"\n",
        "  SELECT\n",
        "    survey_ID,\n",
        "    year,\n",
        "    survey_sequence\n",
        "  FROM\n",
        "    `mpg-data-warehouse.vegetation_point_intercept_gridVeg.gridVeg_survey_metadata`\n",
        "\""
      ],
      "execution_count": 70,
      "outputs": []
    },
    {
      "cell_type": "code",
      "metadata": {
        "id": "RjNzgF7KcEVs",
        "colab_type": "code",
        "colab": {}
      },
      "source": [
        "bq_survey_metadata <- bq_project_query(billing, sql_survey_metadata)"
      ],
      "execution_count": 71,
      "outputs": []
    },
    {
      "cell_type": "code",
      "metadata": {
        "id": "PQ_E7qr1cPLt",
        "colab_type": "code",
        "colab": {}
      },
      "source": [
        "tb_survey_metadata <- bq_table_download(bq_survey_metadata)"
      ],
      "execution_count": 72,
      "outputs": []
    },
    {
      "cell_type": "code",
      "metadata": {
        "id": "nfMNvofrcUSi",
        "colab_type": "code",
        "colab": {}
      },
      "source": [
        "df_survey_metadata <- as.data.frame(tb_survey_metadata)"
      ],
      "execution_count": 73,
      "outputs": []
    },
    {
      "cell_type": "code",
      "metadata": {
        "id": "en5Zw8xlccJq",
        "colab_type": "code",
        "colab": {
          "base_uri": "https://localhost:8080/",
          "height": 162
        },
        "outputId": "dc71e72c-f665-4fd2-beec-a6452ddf6fdd"
      },
      "source": [
        "head(df_survey_metadata, n=4)"
      ],
      "execution_count": 74,
      "outputs": [
        {
          "output_type": "display_data",
          "data": {
            "text/plain": [
              "  survey_ID                            year survey_sequence\n",
              "1 F31C56A8-912D-410C-A17D-4C2DD75F71A4 2016 2016           \n",
              "2 A19E87E6-A89C-4993-B550-802226730D54 2016 2016           \n",
              "3 6F1D71D3-9F87-4C93-B179-A12C8938D18D 2016 2016           \n",
              "4 9C67C9F1-1E89-4FD2-ADC0-0390E0022D62 2016 2016           "
            ],
            "text/latex": "A data.frame: 4 × 3\n\\begin{tabular}{r|lll}\n  & survey\\_ID & year & survey\\_sequence\\\\\n  & <chr> & <int> & <chr>\\\\\n\\hline\n\t1 & F31C56A8-912D-410C-A17D-4C2DD75F71A4 & 2016 & 2016\\\\\n\t2 & A19E87E6-A89C-4993-B550-802226730D54 & 2016 & 2016\\\\\n\t3 & 6F1D71D3-9F87-4C93-B179-A12C8938D18D & 2016 & 2016\\\\\n\t4 & 9C67C9F1-1E89-4FD2-ADC0-0390E0022D62 & 2016 & 2016\\\\\n\\end{tabular}\n",
            "text/markdown": "\nA data.frame: 4 × 3\n\n| <!--/--> | survey_ID &lt;chr&gt; | year &lt;int&gt; | survey_sequence &lt;chr&gt; |\n|---|---|---|---|\n| 1 | F31C56A8-912D-410C-A17D-4C2DD75F71A4 | 2016 | 2016 |\n| 2 | A19E87E6-A89C-4993-B550-802226730D54 | 2016 | 2016 |\n| 3 | 6F1D71D3-9F87-4C93-B179-A12C8938D18D | 2016 | 2016 |\n| 4 | 9C67C9F1-1E89-4FD2-ADC0-0390E0022D62 | 2016 | 2016 |\n\n",
            "text/html": [
              "<table>\n",
              "<caption>A data.frame: 4 × 3</caption>\n",
              "<thead>\n",
              "\t<tr><th></th><th scope=col>survey_ID</th><th scope=col>year</th><th scope=col>survey_sequence</th></tr>\n",
              "\t<tr><th></th><th scope=col>&lt;chr&gt;</th><th scope=col>&lt;int&gt;</th><th scope=col>&lt;chr&gt;</th></tr>\n",
              "</thead>\n",
              "<tbody>\n",
              "\t<tr><th scope=row>1</th><td>F31C56A8-912D-410C-A17D-4C2DD75F71A4</td><td>2016</td><td>2016</td></tr>\n",
              "\t<tr><th scope=row>2</th><td>A19E87E6-A89C-4993-B550-802226730D54</td><td>2016</td><td>2016</td></tr>\n",
              "\t<tr><th scope=row>3</th><td>6F1D71D3-9F87-4C93-B179-A12C8938D18D</td><td>2016</td><td>2016</td></tr>\n",
              "\t<tr><th scope=row>4</th><td>9C67C9F1-1E89-4FD2-ADC0-0390E0022D62</td><td>2016</td><td>2016</td></tr>\n",
              "</tbody>\n",
              "</table>\n"
            ]
          },
          "metadata": {
            "tags": []
          }
        }
      ]
    },
    {
      "cell_type": "markdown",
      "metadata": {
        "id": "MQi2S6xJ7Fqj",
        "colab_type": "text"
      },
      "source": [
        "### location_position_classification"
      ]
    },
    {
      "cell_type": "code",
      "metadata": {
        "id": "iF5P7FHl7InC",
        "colab_type": "code",
        "colab": {}
      },
      "source": [
        "sql_position_class <- \n",
        "\"\n",
        "  SELECT\n",
        "    grid_point,\n",
        "    aspect_mean_deg,\n",
        "    elevation_mean_m,\n",
        "    slope_mean_deg,\n",
        "    cover_type_2016_gridVeg,\n",
        "    type3_vegetation_indicators,\n",
        "    type4_indicators_history\n",
        "  FROM\n",
        "    `mpg-data-warehouse.grid_point_summaries.location_position_classification`\n",
        "\""
      ],
      "execution_count": 76,
      "outputs": []
    },
    {
      "cell_type": "code",
      "metadata": {
        "id": "ps7kARoJ7k3r",
        "colab_type": "code",
        "colab": {}
      },
      "source": [
        "bq_position_class <- bq_project_query(billing, sql_position_class)"
      ],
      "execution_count": 77,
      "outputs": []
    },
    {
      "cell_type": "code",
      "metadata": {
        "id": "iZmIL8GJ76mC",
        "colab_type": "code",
        "colab": {}
      },
      "source": [
        "tb_position_class <- bq_table_download(bq_position_class)"
      ],
      "execution_count": 78,
      "outputs": []
    },
    {
      "cell_type": "code",
      "metadata": {
        "id": "9T5qPAos8ADQ",
        "colab_type": "code",
        "colab": {}
      },
      "source": [
        "df_position_class <- as.data.frame(tb_position_class)"
      ],
      "execution_count": 79,
      "outputs": []
    },
    {
      "cell_type": "code",
      "metadata": {
        "id": "IFQ_Tf5b8EIK",
        "colab_type": "code",
        "colab": {
          "base_uri": "https://localhost:8080/",
          "height": 233
        },
        "outputId": "d384663b-a365-4eee-976a-9725b1771756"
      },
      "source": [
        "head(df_position_class, n=4)"
      ],
      "execution_count": 81,
      "outputs": [
        {
          "output_type": "display_data",
          "data": {
            "text/plain": [
              "  grid_point aspect_mean_deg elevation_mean_m slope_mean_deg\n",
              "1 1          334.705         1395.64          28.44230      \n",
              "2 2           45.303         1456.09          12.22630      \n",
              "3 3          221.334         1126.90           4.25130      \n",
              "4 4          290.489         1166.33           2.68361      \n",
              "  cover_type_2016_gridVeg  type3_vegetation_indicators              \n",
              "1 woodland/forest          mixed canopy conifer                     \n",
              "2 non-irrigated grasslands uncultivated grassland native or degraded\n",
              "3 shrubland                uncultivated grassland native or degraded\n",
              "4 shrubland                uncultivated grassland native or degraded\n",
              "  type4_indicators_history                 \n",
              "1 mixed canopy conifer                     \n",
              "2 uncultivated grassland native or degraded\n",
              "3 uncultivated grassland native or degraded\n",
              "4 uncultivated grassland native or degraded"
            ],
            "text/latex": "A data.frame: 4 × 7\n\\begin{tabular}{r|lllllll}\n  & grid\\_point & aspect\\_mean\\_deg & elevation\\_mean\\_m & slope\\_mean\\_deg & cover\\_type\\_2016\\_gridVeg & type3\\_vegetation\\_indicators & type4\\_indicators\\_history\\\\\n  & <int> & <dbl> & <dbl> & <dbl> & <chr> & <chr> & <chr>\\\\\n\\hline\n\t1 & 1 & 334.705 & 1395.64 & 28.44230 & woodland/forest          & mixed canopy conifer                      & mixed canopy conifer                     \\\\\n\t2 & 2 &  45.303 & 1456.09 & 12.22630 & non-irrigated grasslands & uncultivated grassland native or degraded & uncultivated grassland native or degraded\\\\\n\t3 & 3 & 221.334 & 1126.90 &  4.25130 & shrubland                & uncultivated grassland native or degraded & uncultivated grassland native or degraded\\\\\n\t4 & 4 & 290.489 & 1166.33 &  2.68361 & shrubland                & uncultivated grassland native or degraded & uncultivated grassland native or degraded\\\\\n\\end{tabular}\n",
            "text/markdown": "\nA data.frame: 4 × 7\n\n| <!--/--> | grid_point &lt;int&gt; | aspect_mean_deg &lt;dbl&gt; | elevation_mean_m &lt;dbl&gt; | slope_mean_deg &lt;dbl&gt; | cover_type_2016_gridVeg &lt;chr&gt; | type3_vegetation_indicators &lt;chr&gt; | type4_indicators_history &lt;chr&gt; |\n|---|---|---|---|---|---|---|---|\n| 1 | 1 | 334.705 | 1395.64 | 28.44230 | woodland/forest          | mixed canopy conifer                      | mixed canopy conifer                      |\n| 2 | 2 |  45.303 | 1456.09 | 12.22630 | non-irrigated grasslands | uncultivated grassland native or degraded | uncultivated grassland native or degraded |\n| 3 | 3 | 221.334 | 1126.90 |  4.25130 | shrubland                | uncultivated grassland native or degraded | uncultivated grassland native or degraded |\n| 4 | 4 | 290.489 | 1166.33 |  2.68361 | shrubland                | uncultivated grassland native or degraded | uncultivated grassland native or degraded |\n\n",
            "text/html": [
              "<table>\n",
              "<caption>A data.frame: 4 × 7</caption>\n",
              "<thead>\n",
              "\t<tr><th></th><th scope=col>grid_point</th><th scope=col>aspect_mean_deg</th><th scope=col>elevation_mean_m</th><th scope=col>slope_mean_deg</th><th scope=col>cover_type_2016_gridVeg</th><th scope=col>type3_vegetation_indicators</th><th scope=col>type4_indicators_history</th></tr>\n",
              "\t<tr><th></th><th scope=col>&lt;int&gt;</th><th scope=col>&lt;dbl&gt;</th><th scope=col>&lt;dbl&gt;</th><th scope=col>&lt;dbl&gt;</th><th scope=col>&lt;chr&gt;</th><th scope=col>&lt;chr&gt;</th><th scope=col>&lt;chr&gt;</th></tr>\n",
              "</thead>\n",
              "<tbody>\n",
              "\t<tr><th scope=row>1</th><td>1</td><td>334.705</td><td>1395.64</td><td>28.44230</td><td>woodland/forest         </td><td>mixed canopy conifer                     </td><td>mixed canopy conifer                     </td></tr>\n",
              "\t<tr><th scope=row>2</th><td>2</td><td> 45.303</td><td>1456.09</td><td>12.22630</td><td>non-irrigated grasslands</td><td>uncultivated grassland native or degraded</td><td>uncultivated grassland native or degraded</td></tr>\n",
              "\t<tr><th scope=row>3</th><td>3</td><td>221.334</td><td>1126.90</td><td> 4.25130</td><td>shrubland               </td><td>uncultivated grassland native or degraded</td><td>uncultivated grassland native or degraded</td></tr>\n",
              "\t<tr><th scope=row>4</th><td>4</td><td>290.489</td><td>1166.33</td><td> 2.68361</td><td>shrubland               </td><td>uncultivated grassland native or degraded</td><td>uncultivated grassland native or degraded</td></tr>\n",
              "</tbody>\n",
              "</table>\n"
            ]
          },
          "metadata": {
            "tags": []
          }
        }
      ]
    },
    {
      "cell_type": "markdown",
      "metadata": {
        "id": "MI_FbPb-Snxt",
        "colab_type": "text"
      },
      "source": [
        "# Wrangle"
      ]
    },
    {
      "cell_type": "markdown",
      "metadata": {
        "id": "GeMRC6_2SpQr",
        "colab_type": "text"
      },
      "source": [
        "## species_richness"
      ]
    },
    {
      "cell_type": "markdown",
      "metadata": {
        "id": "AdqYupI5Z1Fs",
        "colab_type": "text"
      },
      "source": [
        "Producing the view is generally similar to the abundance matrix. Begin with two fields from the gridVeg_species_richness view: survey_ID and key_plant_code. These two form the key-value pair for pivoting the table to a wide, matrix format. The result of this step will be a table with one row for each survey_ID (1244 rows as of 2020) and one column for each plant species (764 are possible but not all are included in the point-intercept data; there were 489 in the abundance matrix and could be more here). Fill cells where species were detected during a particular survey with 1. Because most species are not found at any grid point, most of the cells in this table will contain no data. By convention, these cells are filled with zeroes. \n",
        "\n",
        "We use key_plant_code instead of key_plant_species here because now the species names are column headers, and in this form are not relatable to plant_species_metadata. So we use the taxonomic code to make the data more interpretable. A consequence of this is that we cannot update species codes via relationship with plant_species_metadata, so this view must be manually refreshed if any of the species codes are changed.\n"
      ]
    },
    {
      "cell_type": "code",
      "metadata": {
        "id": "mFzdptLGRjtm",
        "colab_type": "code",
        "colab": {}
      },
      "source": [
        "df_plant_binary_matrix <- df_species_richness %>%\n",
        "  mutate(selected = 1) %>%\n",
        "  pivot_wider(names_from = key_plant_code, values_from = selected, values_fill = 0)"
      ],
      "execution_count": 50,
      "outputs": []
    },
    {
      "cell_type": "markdown",
      "metadata": {
        "id": "qqMRgF80aC6A",
        "colab_type": "text"
      },
      "source": [
        "## Join "
      ]
    },
    {
      "cell_type": "markdown",
      "metadata": {
        "id": "FWBeKc-6aIoE",
        "colab_type": "text"
      },
      "source": [
        "### gridVeg_survey_metadata"
      ]
    },
    {
      "cell_type": "code",
      "metadata": {
        "id": "otJ6jXjVaHyU",
        "colab_type": "code",
        "colab": {
          "base_uri": "https://localhost:8080/",
          "height": 51
        },
        "outputId": "4c3b2942-acb5-4013-f44d-e46cb724c36c"
      },
      "source": [
        "df_plant_binary_matrix <- df_plant_binary_matrix %>%\n",
        "  left_join(df_survey_metadata)"
      ],
      "execution_count": 52,
      "outputs": [
        {
          "output_type": "stream",
          "text": [
            "Joining, by = \"survey_ID\"\n",
            "\n"
          ],
          "name": "stderr"
        }
      ]
    },
    {
      "cell_type": "markdown",
      "metadata": {
        "id": "KeI4EgMPaMAY",
        "colab_type": "text"
      },
      "source": [
        "### location_position_classification"
      ]
    },
    {
      "cell_type": "code",
      "metadata": {
        "id": "Km66m5FUaMyQ",
        "colab_type": "code",
        "colab": {
          "base_uri": "https://localhost:8080/",
          "height": 51
        },
        "outputId": "817206cb-4e56-48dd-d8c7-87968138b3bd"
      },
      "source": [
        "df_plant_binary_matrix <- df_plant_binary_matrix %>%\n",
        "  left_join(df_position_class)"
      ],
      "execution_count": 83,
      "outputs": [
        {
          "output_type": "stream",
          "text": [
            "Joining, by = \"grid_point\"\n",
            "\n"
          ],
          "name": "stderr"
        }
      ]
    },
    {
      "cell_type": "markdown",
      "metadata": {
        "id": "vwE5Q3Kt9cNw",
        "colab_type": "text"
      },
      "source": [
        "## Order Columns"
      ]
    },
    {
      "cell_type": "code",
      "metadata": {
        "id": "HKJN1jlyBFNY",
        "colab_type": "code",
        "colab": {}
      },
      "source": [
        "df_plant_binary_matrix <- df_plant_binary_matrix[,c(1, 556:557, 2, 558:ncol(df_plant_binary_matrix), 3:555)]"
      ],
      "execution_count": 104,
      "outputs": []
    },
    {
      "cell_type": "code",
      "metadata": {
        "id": "irCm_kKg9es2",
        "colab_type": "code",
        "colab": {
          "base_uri": "https://localhost:8080/",
          "height": 34
        },
        "outputId": "ec93b763-678d-41f8-d256-e21625ea0450"
      },
      "source": [
        "dim(df_plant_binary_matrix)"
      ],
      "execution_count": 105,
      "outputs": [
        {
          "output_type": "display_data",
          "data": {
            "text/plain": [
              "[1] 1244  563"
            ],
            "text/latex": "\\begin{enumerate*}\n\\item 1244\n\\item 563\n\\end{enumerate*}\n",
            "text/markdown": "1. 1244\n2. 563\n\n\n",
            "text/html": [
              "<style>\n",
              ".list-inline {list-style: none; margin:0; padding: 0}\n",
              ".list-inline>li {display: inline-block}\n",
              ".list-inline>li:not(:last-child)::after {content: \"\\00b7\"; padding: 0 .5ex}\n",
              "</style>\n",
              "<ol class=list-inline><li>1244</li><li>563</li></ol>\n"
            ]
          },
          "metadata": {
            "tags": []
          }
        }
      ]
    },
    {
      "cell_type": "code",
      "metadata": {
        "id": "RWPTf60ZBABT",
        "colab_type": "code",
        "colab": {
          "base_uri": "https://localhost:8080/",
          "height": 301
        },
        "outputId": "03331913-2f85-4c12-ab43-699e19f6496a"
      },
      "source": [
        "head(df_plant_binary_matrix, n=4)"
      ],
      "execution_count": 106,
      "outputs": [
        {
          "output_type": "display_data",
          "data": {
            "text/plain": [
              "  survey_ID                            year survey_sequence grid_point\n",
              "1 436                                  2011 2011-12         1         \n",
              "2 E7CBF688-32B4-4AC1-A888-DE83B00B2302 2016 2016            1         \n",
              "3 437                                  2011 2011-12         2         \n",
              "4 83C90DAA-88FF-4256-9ACC-4BAC0F9EF456 2016 2016            2         \n",
              "  aspect_mean_deg elevation_mean_m slope_mean_deg cover_type_2016_gridVeg \n",
              "1 334.705         1395.64          28.4423        woodland/forest         \n",
              "2 334.705         1395.64          28.4423        woodland/forest         \n",
              "3  45.303         1456.09          12.2263        non-irrigated grasslands\n",
              "4  45.303         1456.09          12.2263        non-irrigated grasslands\n",
              "  type3_vegetation_indicators              \n",
              "1 mixed canopy conifer                     \n",
              "2 mixed canopy conifer                     \n",
              "3 uncultivated grassland native or degraded\n",
              "4 uncultivated grassland native or degraded\n",
              "  type4_indicators_history                  ⋯ GLYGRA MONFIS AGOS_SP MERCIL\n",
              "1 mixed canopy conifer                      ⋯ 0      0      0       0     \n",
              "2 mixed canopy conifer                      ⋯ 0      0      0       0     \n",
              "3 uncultivated grassland native or degraded ⋯ 0      0      0       0     \n",
              "4 uncultivated grassland native or degraded ⋯ 0      0      0       0     \n",
              "  ACOCOL TRICAN SENSER VERBA_SP GAUCOC LAPOCC\n",
              "1 0      0      0      0        0      0     \n",
              "2 0      0      0      0        0      0     \n",
              "3 0      0      0      0        0      0     \n",
              "4 0      0      0      0        0      0     "
            ],
            "text/latex": "A tibble: 4 × 563\n\\begin{tabular}{lllllllllllllllllllll}\n survey\\_ID & year & survey\\_sequence & grid\\_point & aspect\\_mean\\_deg & elevation\\_mean\\_m & slope\\_mean\\_deg & cover\\_type\\_2016\\_gridVeg & type3\\_vegetation\\_indicators & type4\\_indicators\\_history & ⋯ & GLYGRA & MONFIS & AGOS\\_SP & MERCIL & ACOCOL & TRICAN & SENSER & VERBA\\_SP & GAUCOC & LAPOCC\\\\\n <chr> & <int> & <chr> & <int> & <dbl> & <dbl> & <dbl> & <chr> & <chr> & <chr> & ⋯ & <dbl> & <dbl> & <dbl> & <dbl> & <dbl> & <dbl> & <dbl> & <dbl> & <dbl> & <dbl>\\\\\n\\hline\n\t 436                                  & 2011 & 2011-12 & 1 & 334.705 & 1395.64 & 28.4423 & woodland/forest          & mixed canopy conifer                      & mixed canopy conifer                      & ⋯ & 0 & 0 & 0 & 0 & 0 & 0 & 0 & 0 & 0 & 0\\\\\n\t E7CBF688-32B4-4AC1-A888-DE83B00B2302 & 2016 & 2016    & 1 & 334.705 & 1395.64 & 28.4423 & woodland/forest          & mixed canopy conifer                      & mixed canopy conifer                      & ⋯ & 0 & 0 & 0 & 0 & 0 & 0 & 0 & 0 & 0 & 0\\\\\n\t 437                                  & 2011 & 2011-12 & 2 &  45.303 & 1456.09 & 12.2263 & non-irrigated grasslands & uncultivated grassland native or degraded & uncultivated grassland native or degraded & ⋯ & 0 & 0 & 0 & 0 & 0 & 0 & 0 & 0 & 0 & 0\\\\\n\t 83C90DAA-88FF-4256-9ACC-4BAC0F9EF456 & 2016 & 2016    & 2 &  45.303 & 1456.09 & 12.2263 & non-irrigated grasslands & uncultivated grassland native or degraded & uncultivated grassland native or degraded & ⋯ & 0 & 0 & 0 & 0 & 0 & 0 & 0 & 0 & 0 & 0\\\\\n\\end{tabular}\n",
            "text/markdown": "\nA tibble: 4 × 563\n\n| survey_ID &lt;chr&gt; | year &lt;int&gt; | survey_sequence &lt;chr&gt; | grid_point &lt;int&gt; | aspect_mean_deg &lt;dbl&gt; | elevation_mean_m &lt;dbl&gt; | slope_mean_deg &lt;dbl&gt; | cover_type_2016_gridVeg &lt;chr&gt; | type3_vegetation_indicators &lt;chr&gt; | type4_indicators_history &lt;chr&gt; | ⋯ ⋯ | GLYGRA &lt;dbl&gt; | MONFIS &lt;dbl&gt; | AGOS_SP &lt;dbl&gt; | MERCIL &lt;dbl&gt; | ACOCOL &lt;dbl&gt; | TRICAN &lt;dbl&gt; | SENSER &lt;dbl&gt; | VERBA_SP &lt;dbl&gt; | GAUCOC &lt;dbl&gt; | LAPOCC &lt;dbl&gt; |\n|---|---|---|---|---|---|---|---|---|---|---|---|---|---|---|---|---|---|---|---|---|\n| 436                                  | 2011 | 2011-12 | 1 | 334.705 | 1395.64 | 28.4423 | woodland/forest          | mixed canopy conifer                      | mixed canopy conifer                      | ⋯ | 0 | 0 | 0 | 0 | 0 | 0 | 0 | 0 | 0 | 0 |\n| E7CBF688-32B4-4AC1-A888-DE83B00B2302 | 2016 | 2016    | 1 | 334.705 | 1395.64 | 28.4423 | woodland/forest          | mixed canopy conifer                      | mixed canopy conifer                      | ⋯ | 0 | 0 | 0 | 0 | 0 | 0 | 0 | 0 | 0 | 0 |\n| 437                                  | 2011 | 2011-12 | 2 |  45.303 | 1456.09 | 12.2263 | non-irrigated grasslands | uncultivated grassland native or degraded | uncultivated grassland native or degraded | ⋯ | 0 | 0 | 0 | 0 | 0 | 0 | 0 | 0 | 0 | 0 |\n| 83C90DAA-88FF-4256-9ACC-4BAC0F9EF456 | 2016 | 2016    | 2 |  45.303 | 1456.09 | 12.2263 | non-irrigated grasslands | uncultivated grassland native or degraded | uncultivated grassland native or degraded | ⋯ | 0 | 0 | 0 | 0 | 0 | 0 | 0 | 0 | 0 | 0 |\n\n",
            "text/html": [
              "<table>\n",
              "<caption>A tibble: 4 × 563</caption>\n",
              "<thead>\n",
              "\t<tr><th scope=col>survey_ID</th><th scope=col>year</th><th scope=col>survey_sequence</th><th scope=col>grid_point</th><th scope=col>aspect_mean_deg</th><th scope=col>elevation_mean_m</th><th scope=col>slope_mean_deg</th><th scope=col>cover_type_2016_gridVeg</th><th scope=col>type3_vegetation_indicators</th><th scope=col>type4_indicators_history</th><th scope=col>⋯</th><th scope=col>GLYGRA</th><th scope=col>MONFIS</th><th scope=col>AGOS_SP</th><th scope=col>MERCIL</th><th scope=col>ACOCOL</th><th scope=col>TRICAN</th><th scope=col>SENSER</th><th scope=col>VERBA_SP</th><th scope=col>GAUCOC</th><th scope=col>LAPOCC</th></tr>\n",
              "\t<tr><th scope=col>&lt;chr&gt;</th><th scope=col>&lt;int&gt;</th><th scope=col>&lt;chr&gt;</th><th scope=col>&lt;int&gt;</th><th scope=col>&lt;dbl&gt;</th><th scope=col>&lt;dbl&gt;</th><th scope=col>&lt;dbl&gt;</th><th scope=col>&lt;chr&gt;</th><th scope=col>&lt;chr&gt;</th><th scope=col>&lt;chr&gt;</th><th scope=col>⋯</th><th scope=col>&lt;dbl&gt;</th><th scope=col>&lt;dbl&gt;</th><th scope=col>&lt;dbl&gt;</th><th scope=col>&lt;dbl&gt;</th><th scope=col>&lt;dbl&gt;</th><th scope=col>&lt;dbl&gt;</th><th scope=col>&lt;dbl&gt;</th><th scope=col>&lt;dbl&gt;</th><th scope=col>&lt;dbl&gt;</th><th scope=col>&lt;dbl&gt;</th></tr>\n",
              "</thead>\n",
              "<tbody>\n",
              "\t<tr><td>436                                 </td><td>2011</td><td>2011-12</td><td>1</td><td>334.705</td><td>1395.64</td><td>28.4423</td><td>woodland/forest         </td><td>mixed canopy conifer                     </td><td>mixed canopy conifer                     </td><td>⋯</td><td>0</td><td>0</td><td>0</td><td>0</td><td>0</td><td>0</td><td>0</td><td>0</td><td>0</td><td>0</td></tr>\n",
              "\t<tr><td>E7CBF688-32B4-4AC1-A888-DE83B00B2302</td><td>2016</td><td>2016   </td><td>1</td><td>334.705</td><td>1395.64</td><td>28.4423</td><td>woodland/forest         </td><td>mixed canopy conifer                     </td><td>mixed canopy conifer                     </td><td>⋯</td><td>0</td><td>0</td><td>0</td><td>0</td><td>0</td><td>0</td><td>0</td><td>0</td><td>0</td><td>0</td></tr>\n",
              "\t<tr><td>437                                 </td><td>2011</td><td>2011-12</td><td>2</td><td> 45.303</td><td>1456.09</td><td>12.2263</td><td>non-irrigated grasslands</td><td>uncultivated grassland native or degraded</td><td>uncultivated grassland native or degraded</td><td>⋯</td><td>0</td><td>0</td><td>0</td><td>0</td><td>0</td><td>0</td><td>0</td><td>0</td><td>0</td><td>0</td></tr>\n",
              "\t<tr><td>83C90DAA-88FF-4256-9ACC-4BAC0F9EF456</td><td>2016</td><td>2016   </td><td>2</td><td> 45.303</td><td>1456.09</td><td>12.2263</td><td>non-irrigated grasslands</td><td>uncultivated grassland native or degraded</td><td>uncultivated grassland native or degraded</td><td>⋯</td><td>0</td><td>0</td><td>0</td><td>0</td><td>0</td><td>0</td><td>0</td><td>0</td><td>0</td><td>0</td></tr>\n",
              "</tbody>\n",
              "</table>\n"
            ]
          },
          "metadata": {
            "tags": []
          }
        }
      ]
    },
    {
      "cell_type": "markdown",
      "metadata": {
        "id": "CbZWhqOX8X0r",
        "colab_type": "text"
      },
      "source": [
        "# Output"
      ]
    },
    {
      "cell_type": "code",
      "metadata": {
        "id": "hSbFPFrg8YuW",
        "colab_type": "code",
        "colab": {}
      },
      "source": [
        "write_csv(df_plant_binary_matrix, path = \"gridVeg_plant_binary_matrix-WRANGLE.csv\")"
      ],
      "execution_count": 107,
      "outputs": []
    }
  ]
}