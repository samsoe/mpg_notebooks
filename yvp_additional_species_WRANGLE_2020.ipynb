{
  "nbformat": 4,
  "nbformat_minor": 0,
  "metadata": {
    "colab": {
      "name": "yvp_additional_species-WRANGLE-2020.ipynb",
      "provenance": [],
      "collapsed_sections": [],
      "include_colab_link": true
    },
    "kernelspec": {
      "name": "ir",
      "display_name": "R"
    }
  },
  "cells": [
    {
      "cell_type": "markdown",
      "metadata": {
        "id": "view-in-github",
        "colab_type": "text"
      },
      "source": [
        "<a href=\"https://colab.research.google.com/github/samsoe/mpg_notebooks/blob/master/yvp_additional_species_WRANGLE_2020.ipynb\" target=\"_parent\"><img src=\"https://colab.research.google.com/assets/colab-badge.svg\" alt=\"Open In Colab\"/></a>"
      ]
    },
    {
      "cell_type": "markdown",
      "metadata": {
        "id": "dY-V9Dd3rj8o"
      },
      "source": [
        "*R Notebook*"
      ]
    },
    {
      "cell_type": "markdown",
      "metadata": {
        "id": "RKBdNw56BzwD"
      },
      "source": [
        "# README"
      ]
    },
    {
      "cell_type": "markdown",
      "metadata": {
        "id": "1ASQ4BJUrqBe"
      },
      "source": [
        "* Readme fixed plot vegetation data - [Additional Species Data](https://docs.google.com/document/d/16-Aq8u9Rudd78fSzfjvpCXyQgE-BstC-d2PjYfmLtcw/edit#heading=h.t9gebon1aetd)"
      ]
    },
    {
      "cell_type": "markdown",
      "metadata": {
        "id": "uHFtKHHfCDHX"
      },
      "source": [
        "# Load Tools"
      ]
    },
    {
      "cell_type": "code",
      "metadata": {
        "id": "SmQYga2dsDO_"
      },
      "source": [
        "# Package and library installation\n",
        "packages_needed = c(\"tidyverse\", \"lubridate\", \"gsheet\") # comma delimited vector of package names\n",
        "packages_installed = packages_needed %in% rownames(installed.packages())\n",
        "\n",
        "if (any(! packages_installed))\n",
        "  install.packages(packages_needed[! packages_installed])\n",
        "for (i in 1:length(packages_needed)) {\n",
        "  library(packages_needed[i], character.only = T)\n",
        "}"
      ],
      "execution_count": null,
      "outputs": []
    },
    {
      "cell_type": "markdown",
      "metadata": {
        "id": "lZtXwe94Cext"
      },
      "source": [
        "# Source"
      ]
    },
    {
      "cell_type": "markdown",
      "metadata": {
        "id": "ewUASPDm-LwS"
      },
      "source": [
        "### additional_species"
      ]
    },
    {
      "cell_type": "code",
      "metadata": {
        "id": "X9t3Ks1oB3gG"
      },
      "source": [
        "# 2020-10-22_yvp_additional_species_SOURCE.csv\n",
        "# https://drive.google.com/file/d/1mHjQQBeoxvRC3CF05CBAv9OP87YoWfx6/view?usp=sharing\n",
        "src_addsp = 'https://drive.google.com/uc?id=1mHjQQBeoxvRC3CF05CBAv9OP87YoWfx6'"
      ],
      "execution_count": null,
      "outputs": []
    },
    {
      "cell_type": "code",
      "metadata": {
        "id": "fvU8xi8iB4SI",
        "outputId": "2aef0d04-9e5f-4b3b-8909-a7ffaf98588e",
        "colab": {
          "base_uri": "https://localhost:8080/"
        }
      },
      "source": [
        "df_addsp <- read_csv(src_addsp) %>% \n",
        "  # drop date and comments, date will be joined in later comments are not used\n",
        "  select(, -c(date, comments)) %>% glimpse()"
      ],
      "execution_count": null,
      "outputs": [
        {
          "output_type": "stream",
          "text": [
            "\n",
            "\u001b[36m──\u001b[39m \u001b[1m\u001b[1mColumn specification\u001b[1m\u001b[22m \u001b[36m────────────────────────────────────────────────────────\u001b[39m\n",
            "cols(\n",
            "  plot_num = \u001b[32mcol_double()\u001b[39m,\n",
            "  plot_code = \u001b[31mcol_character()\u001b[39m,\n",
            "  date = \u001b[33mcol_logical()\u001b[39m,\n",
            "  species_code = \u001b[31mcol_character()\u001b[39m,\n",
            "  cover_pct = \u001b[32mcol_double()\u001b[39m,\n",
            "  comments = \u001b[31mcol_character()\u001b[39m\n",
            ")\n",
            "\n",
            "\n"
          ],
          "name": "stderr"
        },
        {
          "output_type": "stream",
          "text": [
            "Rows: 710\n",
            "Columns: 4\n",
            "$ plot_num     \u001b[3m\u001b[90m<dbl>\u001b[39m\u001b[23m 7, 7, 7, 7, 7, 7, 7, 7, 7, 7, 7, 7, 7, 7, 7, 7, 7, 7, 7,…\n",
            "$ plot_code    \u001b[3m\u001b[90m<chr>\u001b[39m\u001b[23m \"YVP N7\", \"YVP N7\", \"YVP N7\", \"YVP N7\", \"YVP N7\", \"YVP N…\n",
            "$ species_code \u001b[3m\u001b[90m<chr>\u001b[39m\u001b[23m \"ALLCER\", \"ANTE_SP\", \"ARECON\", \"ARTDRA\", \"CHRVIS\", \"CLAP…\n",
            "$ cover_pct    \u001b[3m\u001b[90m<dbl>\u001b[39m\u001b[23m 1, 1, 2, 1, 3, 1, 1, 0, 0, 1, 0, 0, 0, 0, 0, 0, 0, 0, 0,…\n"
          ],
          "name": "stdout"
        }
      ]
    },
    {
      "cell_type": "markdown",
      "metadata": {
        "id": "cbLO7NvP-Ufz"
      },
      "source": [
        "### survey metadata"
      ]
    },
    {
      "cell_type": "code",
      "metadata": {
        "id": "YDY7IDdmB4PN"
      },
      "source": [
        "# 2020-10-22_yvp_survey_metadata_SOURCE.csv\n",
        "# https://drive.google.com/file/d/19I0quIj8ALzP91VkxxIR-D1PWgXRZ_90/view?usp=sharing\n",
        "src_meta <- 'https://drive.google.com/uc?id=19I0quIj8ALzP91VkxxIR-D1PWgXRZ_90'"
      ],
      "execution_count": null,
      "outputs": []
    },
    {
      "cell_type": "code",
      "metadata": {
        "id": "rEN0h4g1-f-I",
        "outputId": "4152efe0-8977-476b-e7df-f1b1f3aded7e",
        "colab": {
          "base_uri": "https://localhost:8080/"
        }
      },
      "source": [
        "df_meta_full <- read_csv(src_meta)"
      ],
      "execution_count": null,
      "outputs": [
        {
          "output_type": "stream",
          "text": [
            "\n",
            "\u001b[36m──\u001b[39m \u001b[1m\u001b[1mColumn specification\u001b[1m\u001b[22m \u001b[36m────────────────────────────────────────────────────────\u001b[39m\n",
            "cols(\n",
            "  Plot = \u001b[31mcol_character()\u001b[39m,\n",
            "  Date = \u001b[31mcol_character()\u001b[39m,\n",
            "  Initials = \u001b[31mcol_character()\u001b[39m,\n",
            "  `GPS Lat 1` = \u001b[32mcol_double()\u001b[39m,\n",
            "  `GPS Long 1` = \u001b[32mcol_double()\u001b[39m,\n",
            "  `GPS Lat 2` = \u001b[32mcol_double()\u001b[39m,\n",
            "  `GPS Long 2` = \u001b[32mcol_double()\u001b[39m,\n",
            "  Azimuth = \u001b[32mcol_double()\u001b[39m,\n",
            "  `comments 2020` = \u001b[31mcol_character()\u001b[39m,\n",
            "  `Comments 2019` = \u001b[31mcol_character()\u001b[39m,\n",
            "  `Comments 2018` = \u001b[31mcol_character()\u001b[39m,\n",
            "  `Comments 2017` = \u001b[31mcol_character()\u001b[39m\n",
            ")\n",
            "\n",
            "\n"
          ],
          "name": "stderr"
        }
      ]
    },
    {
      "cell_type": "code",
      "metadata": {
        "id": "EsBr1_sU_M6K"
      },
      "source": [
        "# cast to date datatype\n",
        "df_meta_full$Date <- mdy(df_meta_full$Date)"
      ],
      "execution_count": null,
      "outputs": []
    },
    {
      "cell_type": "code",
      "metadata": {
        "id": "3agVuTLc_Pnf",
        "outputId": "0205a506-437b-42f8-98a2-d14775433c41",
        "colab": {
          "base_uri": "https://localhost:8080/"
        }
      },
      "source": [
        "df_meta <- df_meta_full %>%\n",
        "  filter(year(df_meta_full$Date) == 2020) %>%\n",
        "  glimpse()"
      ],
      "execution_count": null,
      "outputs": [
        {
          "output_type": "stream",
          "text": [
            "Rows: 58\n",
            "Columns: 12\n",
            "$ Plot            \u001b[3m\u001b[90m<chr>\u001b[39m\u001b[23m \"NA294\", \"NB294\", \"NC294\", \"N324\", \"N321\", \"NA292\", \"…\n",
            "$ Date            \u001b[3m\u001b[90m<date>\u001b[39m\u001b[23m 2020-05-09, 2020-05-09, 2020-05-09, 2020-05-09, 2020…\n",
            "$ Initials        \u001b[3m\u001b[90m<chr>\u001b[39m\u001b[23m \"MED\", \"MED\", \"MED\", \"MED\", \"MED\", \"MED\", \"MED\", \"MED…\n",
            "$ `GPS Lat 1`     \u001b[3m\u001b[90m<dbl>\u001b[39m\u001b[23m 46.67863, 46.67960, 46.68005, 46.67728, 46.67698, 46.…\n",
            "$ `GPS Long 1`    \u001b[3m\u001b[90m<dbl>\u001b[39m\u001b[23m -113.9934, -113.9935, 113.9933, -113.9933, -114.0028,…\n",
            "$ `GPS Lat 2`     \u001b[3m\u001b[90m<dbl>\u001b[39m\u001b[23m 46.67869, 46.67915, 46.68049, 46.67702, 46.67738, 46.…\n",
            "$ `GPS Long 2`    \u001b[3m\u001b[90m<dbl>\u001b[39m\u001b[23m -113.9928, -113.9936, -113.9932, -113.9938, -114.0026…\n",
            "$ Azimuth         \u001b[3m\u001b[90m<dbl>\u001b[39m\u001b[23m 118, 189, 13, 234, 21, 25, 287, 212, 101, 193, 162, 3…\n",
            "$ `comments 2020` \u001b[3m\u001b[90m<chr>\u001b[39m\u001b[23m NA, NA, NA, NA, NA, NA, NA, \"Sagebrush in this plot h…\n",
            "$ `Comments 2019` \u001b[3m\u001b[90m<chr>\u001b[39m\u001b[23m \"5/14/2019 MK\", \"5/13/2019 MK Still has barbed wire. …\n",
            "$ `Comments 2018` \u001b[3m\u001b[90m<chr>\u001b[39m\u001b[23m \"Line reset in 2018. Pull tape taut between end point…\n",
            "$ `Comments 2017` \u001b[3m\u001b[90m<chr>\u001b[39m\u001b[23m \"line curves around slope, stay contour to slope azim…\n"
          ],
          "name": "stdout"
        }
      ]
    },
    {
      "cell_type": "code",
      "metadata": {
        "id": "kFFiGQdJLg1j",
        "outputId": "4a0d735c-4fbe-4858-ed91-30db25fd0d68",
        "colab": {
          "base_uri": "https://localhost:8080/",
          "height": 1000
        }
      },
      "source": [
        "df_meta %>%\n",
        "  # \n",
        "  # distinct(Plot) %>%\n",
        "  select(Plot) %>% \n",
        "  arrange(Plot)"
      ],
      "execution_count": null,
      "outputs": [
        {
          "output_type": "display_data",
          "data": {
            "text/plain": [
              "   Plot \n",
              "1  10   \n",
              "2  112  \n",
              "3  113  \n",
              "4  12   \n",
              "5  144  \n",
              "6  180  \n",
              "7  181  \n",
              "8  184  \n",
              "9  185  \n",
              "10 20   \n",
              "11 202  \n",
              "12 203  \n",
              "13 205  \n",
              "14 209  \n",
              "15 212  \n",
              "16 213  \n",
              "17 22   \n",
              "18 246  \n",
              "19 247  \n",
              "20 355  \n",
              "21 395  \n",
              "22 412  \n",
              "23 44   \n",
              "24 46   \n",
              "25 468  \n",
              "26 47   \n",
              "27 479  \n",
              "28 481  \n",
              "29 485  \n",
              "30 56   \n",
              "31 62   \n",
              "32 64   \n",
              "33 N110 \n",
              "34 N111 \n",
              "35 N158 \n",
              "36 N278 \n",
              "37 N321 \n",
              "38 N324 \n",
              "39 N348 \n",
              "40 N386 \n",
              "41 N402 \n",
              "42 N48  \n",
              "43 N501 \n",
              "44 N522 \n",
              "45 N550 \n",
              "46 N552 \n",
              "47 N556 \n",
              "48 N558 \n",
              "49 N57  \n",
              "50 N570 \n",
              "51 N571 \n",
              "52 N58  \n",
              "53 N7   \n",
              "54 NA292\n",
              "55 NA294\n",
              "56 NB292\n",
              "57 NB294\n",
              "58 NC294"
            ],
            "text/latex": "A tibble: 58 × 1\n\\begin{tabular}{l}\n Plot\\\\\n <chr>\\\\\n\\hline\n\t 10   \\\\\n\t 112  \\\\\n\t 113  \\\\\n\t 12   \\\\\n\t 144  \\\\\n\t 180  \\\\\n\t 181  \\\\\n\t 184  \\\\\n\t 185  \\\\\n\t 20   \\\\\n\t 202  \\\\\n\t 203  \\\\\n\t 205  \\\\\n\t 209  \\\\\n\t 212  \\\\\n\t 213  \\\\\n\t 22   \\\\\n\t 246  \\\\\n\t 247  \\\\\n\t 355  \\\\\n\t 395  \\\\\n\t 412  \\\\\n\t 44   \\\\\n\t 46   \\\\\n\t 468  \\\\\n\t 47   \\\\\n\t 479  \\\\\n\t 481  \\\\\n\t 485  \\\\\n\t 56   \\\\\n\t 62   \\\\\n\t 64   \\\\\n\t N110 \\\\\n\t N111 \\\\\n\t N158 \\\\\n\t N278 \\\\\n\t N321 \\\\\n\t N324 \\\\\n\t N348 \\\\\n\t N386 \\\\\n\t N402 \\\\\n\t N48  \\\\\n\t N501 \\\\\n\t N522 \\\\\n\t N550 \\\\\n\t N552 \\\\\n\t N556 \\\\\n\t N558 \\\\\n\t N57  \\\\\n\t N570 \\\\\n\t N571 \\\\\n\t N58  \\\\\n\t N7   \\\\\n\t NA292\\\\\n\t NA294\\\\\n\t NB292\\\\\n\t NB294\\\\\n\t NC294\\\\\n\\end{tabular}\n",
            "text/markdown": "\nA tibble: 58 × 1\n\n| Plot &lt;chr&gt; |\n|---|\n| 10    |\n| 112   |\n| 113   |\n| 12    |\n| 144   |\n| 180   |\n| 181   |\n| 184   |\n| 185   |\n| 20    |\n| 202   |\n| 203   |\n| 205   |\n| 209   |\n| 212   |\n| 213   |\n| 22    |\n| 246   |\n| 247   |\n| 355   |\n| 395   |\n| 412   |\n| 44    |\n| 46    |\n| 468   |\n| 47    |\n| 479   |\n| 481   |\n| 485   |\n| 56    |\n| 62    |\n| 64    |\n| N110  |\n| N111  |\n| N158  |\n| N278  |\n| N321  |\n| N324  |\n| N348  |\n| N386  |\n| N402  |\n| N48   |\n| N501  |\n| N522  |\n| N550  |\n| N552  |\n| N556  |\n| N558  |\n| N57   |\n| N570  |\n| N571  |\n| N58   |\n| N7    |\n| NA292 |\n| NA294 |\n| NB292 |\n| NB294 |\n| NC294 |\n\n",
            "text/html": [
              "<table>\n",
              "<caption>A tibble: 58 × 1</caption>\n",
              "<thead>\n",
              "\t<tr><th scope=col>Plot</th></tr>\n",
              "\t<tr><th scope=col>&lt;chr&gt;</th></tr>\n",
              "</thead>\n",
              "<tbody>\n",
              "\t<tr><td>10   </td></tr>\n",
              "\t<tr><td>112  </td></tr>\n",
              "\t<tr><td>113  </td></tr>\n",
              "\t<tr><td>12   </td></tr>\n",
              "\t<tr><td>144  </td></tr>\n",
              "\t<tr><td>180  </td></tr>\n",
              "\t<tr><td>181  </td></tr>\n",
              "\t<tr><td>184  </td></tr>\n",
              "\t<tr><td>185  </td></tr>\n",
              "\t<tr><td>20   </td></tr>\n",
              "\t<tr><td>202  </td></tr>\n",
              "\t<tr><td>203  </td></tr>\n",
              "\t<tr><td>205  </td></tr>\n",
              "\t<tr><td>209  </td></tr>\n",
              "\t<tr><td>212  </td></tr>\n",
              "\t<tr><td>213  </td></tr>\n",
              "\t<tr><td>22   </td></tr>\n",
              "\t<tr><td>246  </td></tr>\n",
              "\t<tr><td>247  </td></tr>\n",
              "\t<tr><td>355  </td></tr>\n",
              "\t<tr><td>395  </td></tr>\n",
              "\t<tr><td>412  </td></tr>\n",
              "\t<tr><td>44   </td></tr>\n",
              "\t<tr><td>46   </td></tr>\n",
              "\t<tr><td>468  </td></tr>\n",
              "\t<tr><td>47   </td></tr>\n",
              "\t<tr><td>479  </td></tr>\n",
              "\t<tr><td>481  </td></tr>\n",
              "\t<tr><td>485  </td></tr>\n",
              "\t<tr><td>56   </td></tr>\n",
              "\t<tr><td>62   </td></tr>\n",
              "\t<tr><td>64   </td></tr>\n",
              "\t<tr><td>N110 </td></tr>\n",
              "\t<tr><td>N111 </td></tr>\n",
              "\t<tr><td>N158 </td></tr>\n",
              "\t<tr><td>N278 </td></tr>\n",
              "\t<tr><td>N321 </td></tr>\n",
              "\t<tr><td>N324 </td></tr>\n",
              "\t<tr><td>N348 </td></tr>\n",
              "\t<tr><td>N386 </td></tr>\n",
              "\t<tr><td>N402 </td></tr>\n",
              "\t<tr><td>N48  </td></tr>\n",
              "\t<tr><td>N501 </td></tr>\n",
              "\t<tr><td>N522 </td></tr>\n",
              "\t<tr><td>N550 </td></tr>\n",
              "\t<tr><td>N552 </td></tr>\n",
              "\t<tr><td>N556 </td></tr>\n",
              "\t<tr><td>N558 </td></tr>\n",
              "\t<tr><td>N57  </td></tr>\n",
              "\t<tr><td>N570 </td></tr>\n",
              "\t<tr><td>N571 </td></tr>\n",
              "\t<tr><td>N58  </td></tr>\n",
              "\t<tr><td>N7   </td></tr>\n",
              "\t<tr><td>NA292</td></tr>\n",
              "\t<tr><td>NA294</td></tr>\n",
              "\t<tr><td>NB292</td></tr>\n",
              "\t<tr><td>NB294</td></tr>\n",
              "\t<tr><td>NC294</td></tr>\n",
              "</tbody>\n",
              "</table>\n"
            ]
          },
          "metadata": {
            "tags": []
          }
        }
      ]
    },
    {
      "cell_type": "markdown",
      "metadata": {
        "id": "pDnBkI3iu1zp"
      },
      "source": [
        "### vegetation metadata"
      ]
    },
    {
      "cell_type": "code",
      "metadata": {
        "id": "bfXTOJTpu34h",
        "outputId": "da4d1431-8424-49dc-97a8-5349c3a240d6",
        "colab": {
          "base_uri": "https://localhost:8080/"
        }
      },
      "source": [
        "install.packages(\"bigrquery\")\n",
        "library(bigrquery)"
      ],
      "execution_count": null,
      "outputs": [
        {
          "output_type": "stream",
          "text": [
            "Installing package into ‘/usr/local/lib/R/site-library’\n",
            "(as ‘lib’ is unspecified)\n",
            "\n"
          ],
          "name": "stderr"
        }
      ]
    },
    {
      "cell_type": "code",
      "metadata": {
        "id": "K6AJ6gWTu7C7"
      },
      "source": [
        "# BigQuery API Key\n",
        "bq_auth(path = \"/content/mpg-data-warehouse-api_key-master.json\")\n",
        "Sys.setenv(BIGQUERY_TEST_PROJECT = \"mpg-data-warehouse\")\n",
        "billing <- bq_test_project()"
      ],
      "execution_count": null,
      "outputs": []
    },
    {
      "cell_type": "code",
      "metadata": {
        "id": "0UDuZ-ypvANn"
      },
      "source": [
        "# The date field is not included because it is all NA (legacy problem)\n",
        "sql_metaveg <- \n",
        "  \"\n",
        "  SELECT key_plant_species, key_plant_code\n",
        "  FROM `mpg-data-warehouse.vegetation_species_metadata.vegetation_species_metadata`\n",
        "  \""
      ],
      "execution_count": null,
      "outputs": []
    },
    {
      "cell_type": "code",
      "metadata": {
        "id": "mDNDg6HTvAJs",
        "outputId": "052c2cbc-59e4-4804-9cfa-75d7b5ba2193",
        "colab": {
          "base_uri": "https://localhost:8080/"
        }
      },
      "source": [
        "bq_metaveg <- bq_project_query(billing, sql_metaveg)\n",
        "tb_metaveg <- bq_table_download(bq_metaveg)\n",
        "df_metaveg <- \n",
        "  as.data.frame(tb_metaveg) %>% glimpse()"
      ],
      "execution_count": null,
      "outputs": [
        {
          "output_type": "stream",
          "text": [
            "Rows: 754\n",
            "Columns: 2\n",
            "$ key_plant_species \u001b[3m\u001b[90m<int>\u001b[39m\u001b[23m 360, 13, 26, 53, 738, 75, 76, 746, 83, 88, 86, 87, …\n",
            "$ key_plant_code    \u001b[3m\u001b[90m<chr>\u001b[39m\u001b[23m \"NV\", \"AGRSCA\", \"ANDGER\", \"ARIPUR\", \"BOUCUR\", \"BOUG…\n"
          ],
          "name": "stdout"
        }
      ]
    },
    {
      "cell_type": "markdown",
      "metadata": {
        "id": "BViuChRIscI_"
      },
      "source": [
        "# Wrangle"
      ]
    },
    {
      "cell_type": "markdown",
      "metadata": {
        "id": "7hKgmN49_dYS"
      },
      "source": [
        "### Update YVP 402"
      ]
    },
    {
      "cell_type": "code",
      "metadata": {
        "id": "AuJmoJbk_lyT",
        "outputId": "cc8f9f6b-175a-44d4-e252-ff98548bda18",
        "colab": {
          "base_uri": "https://localhost:8080/"
        }
      },
      "source": [
        "df_402update <- df_addsp %>% \n",
        "  mutate(plot_code = ifelse(str_detect(plot_code, \"YVP 402\"), \"YVP N402\", plot_code)) %>%\n",
        "  glimpse()"
      ],
      "execution_count": null,
      "outputs": [
        {
          "output_type": "stream",
          "text": [
            "Rows: 710\n",
            "Columns: 4\n",
            "$ plot_num     \u001b[3m\u001b[90m<dbl>\u001b[39m\u001b[23m 7, 7, 7, 7, 7, 7, 7, 7, 7, 7, 7, 7, 7, 7, 7, 7, 7, 7, 7,…\n",
            "$ plot_code    \u001b[3m\u001b[90m<chr>\u001b[39m\u001b[23m \"YVP N7\", \"YVP N7\", \"YVP N7\", \"YVP N7\", \"YVP N7\", \"YVP N…\n",
            "$ species_code \u001b[3m\u001b[90m<chr>\u001b[39m\u001b[23m \"ALLCER\", \"ANTE_SP\", \"ARECON\", \"ARTDRA\", \"CHRVIS\", \"CLAP…\n",
            "$ cover_pct    \u001b[3m\u001b[90m<dbl>\u001b[39m\u001b[23m 1, 1, 2, 1, 3, 1, 1, 0, 0, 1, 0, 0, 0, 0, 0, 0, 0, 0, 0,…\n"
          ],
          "name": "stdout"
        }
      ]
    },
    {
      "cell_type": "markdown",
      "metadata": {
        "id": "jc2j13rl97z-"
      },
      "source": [
        "### grid_point"
      ]
    },
    {
      "cell_type": "code",
      "metadata": {
        "id": "EHu59dv67JBr",
        "outputId": "22d5e5df-c107-497d-e430-dfff18b5c0de",
        "colab": {
          "base_uri": "https://localhost:8080/"
        }
      },
      "source": [
        "# rename plot_num\n",
        "df_grid <- df_402update %>%\n",
        "  rename(grid_point = plot_num) %>% glimpse()"
      ],
      "execution_count": null,
      "outputs": [
        {
          "output_type": "stream",
          "text": [
            "Rows: 710\n",
            "Columns: 4\n",
            "$ grid_point   \u001b[3m\u001b[90m<dbl>\u001b[39m\u001b[23m 7, 7, 7, 7, 7, 7, 7, 7, 7, 7, 7, 7, 7, 7, 7, 7, 7, 7, 7,…\n",
            "$ plot_code    \u001b[3m\u001b[90m<chr>\u001b[39m\u001b[23m \"YVP N7\", \"YVP N7\", \"YVP N7\", \"YVP N7\", \"YVP N7\", \"YVP N…\n",
            "$ species_code \u001b[3m\u001b[90m<chr>\u001b[39m\u001b[23m \"ALLCER\", \"ANTE_SP\", \"ARECON\", \"ARTDRA\", \"CHRVIS\", \"CLAP…\n",
            "$ cover_pct    \u001b[3m\u001b[90m<dbl>\u001b[39m\u001b[23m 1, 1, 2, 1, 3, 1, 1, 0, 0, 1, 0, 0, 0, 0, 0, 0, 0, 0, 0,…\n"
          ],
          "name": "stdout"
        }
      ]
    },
    {
      "cell_type": "markdown",
      "metadata": {
        "id": "V58WdOO2CnFw"
      },
      "source": [
        "### plot_code"
      ]
    },
    {
      "cell_type": "markdown",
      "metadata": {
        "id": "4kZnDukxCooD"
      },
      "source": [
        "Free from change"
      ]
    },
    {
      "cell_type": "markdown",
      "metadata": {
        "id": "iDUWAOa37cqq"
      },
      "source": [
        "### plot_loc"
      ]
    },
    {
      "cell_type": "code",
      "metadata": {
        "id": "NwVFZ1b-7Jak",
        "outputId": "56b8745d-f5d3-49da-8f29-720d590664e3",
        "colab": {
          "base_uri": "https://localhost:8080/"
        }
      },
      "source": [
        "# detect \"N\" in 'plot_code' and write to new column 'plot_loc'\n",
        "df_loc <- df_grid %>%\n",
        "  mutate(plot_loc = ifelse(str_detect(plot_code, \"N\"), \"N\", NA)) %>% \n",
        "  select(grid_point, plot_code, plot_loc, species_code, cover_pct) %>%glimpse()"
      ],
      "execution_count": null,
      "outputs": [
        {
          "output_type": "stream",
          "text": [
            "Rows: 710\n",
            "Columns: 5\n",
            "$ grid_point   \u001b[3m\u001b[90m<dbl>\u001b[39m\u001b[23m 7, 7, 7, 7, 7, 7, 7, 7, 7, 7, 7, 7, 7, 7, 7, 7, 7, 7, 7,…\n",
            "$ plot_code    \u001b[3m\u001b[90m<chr>\u001b[39m\u001b[23m \"YVP N7\", \"YVP N7\", \"YVP N7\", \"YVP N7\", \"YVP N7\", \"YVP N…\n",
            "$ plot_loc     \u001b[3m\u001b[90m<chr>\u001b[39m\u001b[23m \"N\", \"N\", \"N\", \"N\", \"N\", \"N\", \"N\", \"N\", \"N\", \"N\", \"N\", \"…\n",
            "$ species_code \u001b[3m\u001b[90m<chr>\u001b[39m\u001b[23m \"ALLCER\", \"ANTE_SP\", \"ARECON\", \"ARTDRA\", \"CHRVIS\", \"CLAP…\n",
            "$ cover_pct    \u001b[3m\u001b[90m<dbl>\u001b[39m\u001b[23m 1, 1, 2, 1, 3, 1, 1, 0, 0, 1, 0, 0, 0, 0, 0, 0, 0, 0, 0,…\n"
          ],
          "name": "stdout"
        }
      ]
    },
    {
      "cell_type": "markdown",
      "metadata": {
        "id": "gbAUDppQ9Edt"
      },
      "source": [
        "### plot_rep"
      ]
    },
    {
      "cell_type": "code",
      "metadata": {
        "id": "Unxc5snt7JOc",
        "outputId": "12f000ae-d5b5-4e32-86b6-aa64143a3e76",
        "colab": {
          "base_uri": "https://localhost:8080/"
        }
      },
      "source": [
        "# detect \"A\", \"B\", \"C\" characters in plot_code and if present write to 'plot_rep'\n",
        "df_rep <- df_loc %>%\n",
        "  mutate(plot_rep = case_when(str_detect(plot_code, \"A\")~\"A\",\n",
        "                              str_detect(plot_code, \"B\")~\"B\",\n",
        "                              str_detect(plot_code, \"C\")~\"C\")) %>% \n",
        "  select(grid_point, plot_code, plot_loc, plot_rep, species_code, cover_pct) %>% glimpse()"
      ],
      "execution_count": null,
      "outputs": [
        {
          "output_type": "stream",
          "text": [
            "Rows: 710\n",
            "Columns: 6\n",
            "$ grid_point   \u001b[3m\u001b[90m<dbl>\u001b[39m\u001b[23m 7, 7, 7, 7, 7, 7, 7, 7, 7, 7, 7, 7, 7, 7, 7, 7, 7, 7, 7,…\n",
            "$ plot_code    \u001b[3m\u001b[90m<chr>\u001b[39m\u001b[23m \"YVP N7\", \"YVP N7\", \"YVP N7\", \"YVP N7\", \"YVP N7\", \"YVP N…\n",
            "$ plot_loc     \u001b[3m\u001b[90m<chr>\u001b[39m\u001b[23m \"N\", \"N\", \"N\", \"N\", \"N\", \"N\", \"N\", \"N\", \"N\", \"N\", \"N\", \"…\n",
            "$ plot_rep     \u001b[3m\u001b[90m<chr>\u001b[39m\u001b[23m NA, NA, NA, NA, NA, NA, NA, NA, NA, NA, NA, NA, NA, NA, …\n",
            "$ species_code \u001b[3m\u001b[90m<chr>\u001b[39m\u001b[23m \"ALLCER\", \"ANTE_SP\", \"ARECON\", \"ARTDRA\", \"CHRVIS\", \"CLAP…\n",
            "$ cover_pct    \u001b[3m\u001b[90m<dbl>\u001b[39m\u001b[23m 1, 1, 2, 1, 3, 1, 1, 0, 0, 1, 0, 0, 0, 0, 0, 0, 0, 0, 0,…\n"
          ],
          "name": "stdout"
        }
      ]
    },
    {
      "cell_type": "markdown",
      "metadata": {
        "id": "EDgJzFmqDhog"
      },
      "source": [
        "### date"
      ]
    },
    {
      "cell_type": "code",
      "metadata": {
        "id": "1iLa2eyCDi-8",
        "outputId": "5fbed3bd-bad4-4e4a-feee-2ebb0897993d",
        "colab": {
          "base_uri": "https://localhost:8080/"
        }
      },
      "source": [
        "# create Plot variable for join with metadata\n",
        "df_join <- df_rep %>%\n",
        "  mutate(Plot = str_sub(plot_code, 5)) %>% glimpse()"
      ],
      "execution_count": null,
      "outputs": [
        {
          "output_type": "stream",
          "text": [
            "Rows: 710\n",
            "Columns: 7\n",
            "$ grid_point   \u001b[3m\u001b[90m<dbl>\u001b[39m\u001b[23m 7, 7, 7, 7, 7, 7, 7, 7, 7, 7, 7, 7, 7, 7, 7, 7, 7, 7, 7,…\n",
            "$ plot_code    \u001b[3m\u001b[90m<chr>\u001b[39m\u001b[23m \"YVP N7\", \"YVP N7\", \"YVP N7\", \"YVP N7\", \"YVP N7\", \"YVP N…\n",
            "$ plot_loc     \u001b[3m\u001b[90m<chr>\u001b[39m\u001b[23m \"N\", \"N\", \"N\", \"N\", \"N\", \"N\", \"N\", \"N\", \"N\", \"N\", \"N\", \"…\n",
            "$ plot_rep     \u001b[3m\u001b[90m<chr>\u001b[39m\u001b[23m NA, NA, NA, NA, NA, NA, NA, NA, NA, NA, NA, NA, NA, NA, …\n",
            "$ species_code \u001b[3m\u001b[90m<chr>\u001b[39m\u001b[23m \"ALLCER\", \"ANTE_SP\", \"ARECON\", \"ARTDRA\", \"CHRVIS\", \"CLAP…\n",
            "$ cover_pct    \u001b[3m\u001b[90m<dbl>\u001b[39m\u001b[23m 1, 1, 2, 1, 3, 1, 1, 0, 0, 1, 0, 0, 0, 0, 0, 0, 0, 0, 0,…\n",
            "$ Plot         \u001b[3m\u001b[90m<chr>\u001b[39m\u001b[23m \"N7\", \"N7\", \"N7\", \"N7\", \"N7\", \"N7\", \"N7\", \"N7\", \"N7\", \"N…\n"
          ],
          "name": "stdout"
        }
      ]
    },
    {
      "cell_type": "code",
      "metadata": {
        "id": "ZQ872v2KD-bZ",
        "outputId": "9b86902b-0f2b-4212-d8aa-b8ee461115b5",
        "colab": {
          "base_uri": "https://localhost:8080/"
        }
      },
      "source": [
        "df_date <- df_join %>%\n",
        "  left_join(df_meta %>% select(Plot, Date), by = c(\"Plot\" = \"Plot\")) %>% \n",
        "  rename(date = Date) %>%\n",
        "  select(grid_point, plot_code, plot_loc, plot_rep, date, species_code, cover_pct) %>% glimpse()"
      ],
      "execution_count": null,
      "outputs": [
        {
          "output_type": "stream",
          "text": [
            "Rows: 710\n",
            "Columns: 7\n",
            "$ grid_point   \u001b[3m\u001b[90m<dbl>\u001b[39m\u001b[23m 7, 7, 7, 7, 7, 7, 7, 7, 7, 7, 7, 7, 7, 7, 7, 7, 7, 7, 7,…\n",
            "$ plot_code    \u001b[3m\u001b[90m<chr>\u001b[39m\u001b[23m \"YVP N7\", \"YVP N7\", \"YVP N7\", \"YVP N7\", \"YVP N7\", \"YVP N…\n",
            "$ plot_loc     \u001b[3m\u001b[90m<chr>\u001b[39m\u001b[23m \"N\", \"N\", \"N\", \"N\", \"N\", \"N\", \"N\", \"N\", \"N\", \"N\", \"N\", \"…\n",
            "$ plot_rep     \u001b[3m\u001b[90m<chr>\u001b[39m\u001b[23m NA, NA, NA, NA, NA, NA, NA, NA, NA, NA, NA, NA, NA, NA, …\n",
            "$ date         \u001b[3m\u001b[90m<date>\u001b[39m\u001b[23m 2020-05-31, 2020-05-31, 2020-05-31, 2020-05-31, 2020-05…\n",
            "$ species_code \u001b[3m\u001b[90m<chr>\u001b[39m\u001b[23m \"ALLCER\", \"ANTE_SP\", \"ARECON\", \"ARTDRA\", \"CHRVIS\", \"CLAP…\n",
            "$ cover_pct    \u001b[3m\u001b[90m<dbl>\u001b[39m\u001b[23m 1, 1, 2, 1, 3, 1, 1, 0, 0, 1, 0, 0, 0, 0, 0, 0, 0, 0, 0,…\n"
          ],
          "name": "stdout"
        }
      ]
    },
    {
      "cell_type": "markdown",
      "metadata": {
        "id": "_qijroiQ-8Lk"
      },
      "source": [
        "### key_plant_species"
      ]
    },
    {
      "cell_type": "markdown",
      "metadata": {
        "id": "VKfO9qiA_DYm"
      },
      "source": [
        "key_plant_species:INT (unique values)\n",
        "This will be imported from the plant species metadata table, and we can use it to join and correct species codes in the future"
      ]
    },
    {
      "cell_type": "code",
      "metadata": {
        "id": "gxWqqS-SvsAX",
        "outputId": "53dcd88e-55bf-4205-d6bb-57dd394fcb8d",
        "colab": {
          "base_uri": "https://localhost:8080/"
        }
      },
      "source": [
        "df_date %>% glimpse()"
      ],
      "execution_count": null,
      "outputs": [
        {
          "output_type": "stream",
          "text": [
            "Rows: 710\n",
            "Columns: 7\n",
            "$ grid_point   \u001b[3m\u001b[90m<dbl>\u001b[39m\u001b[23m 7, 7, 7, 7, 7, 7, 7, 7, 7, 7, 7, 7, 7, 7, 7, 7, 7, 7, 7,…\n",
            "$ plot_code    \u001b[3m\u001b[90m<chr>\u001b[39m\u001b[23m \"YVP N7\", \"YVP N7\", \"YVP N7\", \"YVP N7\", \"YVP N7\", \"YVP N…\n",
            "$ plot_loc     \u001b[3m\u001b[90m<chr>\u001b[39m\u001b[23m \"N\", \"N\", \"N\", \"N\", \"N\", \"N\", \"N\", \"N\", \"N\", \"N\", \"N\", \"…\n",
            "$ plot_rep     \u001b[3m\u001b[90m<chr>\u001b[39m\u001b[23m NA, NA, NA, NA, NA, NA, NA, NA, NA, NA, NA, NA, NA, NA, …\n",
            "$ date         \u001b[3m\u001b[90m<date>\u001b[39m\u001b[23m 2020-05-31, 2020-05-31, 2020-05-31, 2020-05-31, 2020-05…\n",
            "$ species_code \u001b[3m\u001b[90m<chr>\u001b[39m\u001b[23m \"ALLCER\", \"ANTE_SP\", \"ARECON\", \"ARTDRA\", \"CHRVIS\", \"CLAP…\n",
            "$ cover_pct    \u001b[3m\u001b[90m<dbl>\u001b[39m\u001b[23m 1, 1, 2, 1, 3, 1, 1, 0, 0, 1, 0, 0, 0, 0, 0, 0, 0, 0, 0,…\n"
          ],
          "name": "stdout"
        }
      ]
    },
    {
      "cell_type": "code",
      "metadata": {
        "id": "DkM1a7YHvvnK",
        "outputId": "94892ce0-7836-40f5-9869-a93aae1f6101",
        "colab": {
          "base_uri": "https://localhost:8080/"
        }
      },
      "source": [
        "df_metaveg %>% glimpse()"
      ],
      "execution_count": null,
      "outputs": [
        {
          "output_type": "stream",
          "text": [
            "Rows: 754\n",
            "Columns: 2\n",
            "$ key_plant_species \u001b[3m\u001b[90m<int>\u001b[39m\u001b[23m 360, 13, 26, 53, 738, 75, 76, 746, 83, 88, 86, 87, …\n",
            "$ key_plant_code    \u001b[3m\u001b[90m<chr>\u001b[39m\u001b[23m \"NV\", \"AGRSCA\", \"ANDGER\", \"ARIPUR\", \"BOUCUR\", \"BOUG…\n"
          ],
          "name": "stdout"
        }
      ]
    },
    {
      "cell_type": "code",
      "metadata": {
        "id": "Nyo5zPUdv2Bk",
        "outputId": "29d280ea-9bc8-4df4-e76f-2c38bce339ae",
        "colab": {
          "base_uri": "https://localhost:8080/"
        }
      },
      "source": [
        "df_species <- df_date %>%\n",
        "  left_join(df_metaveg, by = c(\"species_code\" = \"key_plant_code\")) %>%\n",
        "  select(grid_point, plot_code, plot_loc, plot_rep, date, key_plant_species, species_code, cover_pct) %>% glimpse()"
      ],
      "execution_count": null,
      "outputs": [
        {
          "output_type": "stream",
          "text": [
            "Rows: 710\n",
            "Columns: 8\n",
            "$ grid_point        \u001b[3m\u001b[90m<dbl>\u001b[39m\u001b[23m 7, 7, 7, 7, 7, 7, 7, 7, 7, 7, 7, 7, 7, 7, 7, 7, 7, …\n",
            "$ plot_code         \u001b[3m\u001b[90m<chr>\u001b[39m\u001b[23m \"YVP N7\", \"YVP N7\", \"YVP N7\", \"YVP N7\", \"YVP N7\", \"…\n",
            "$ plot_loc          \u001b[3m\u001b[90m<chr>\u001b[39m\u001b[23m \"N\", \"N\", \"N\", \"N\", \"N\", \"N\", \"N\", \"N\", \"N\", \"N\", \"…\n",
            "$ plot_rep          \u001b[3m\u001b[90m<chr>\u001b[39m\u001b[23m NA, NA, NA, NA, NA, NA, NA, NA, NA, NA, NA, NA, NA,…\n",
            "$ date              \u001b[3m\u001b[90m<date>\u001b[39m\u001b[23m 2020-05-31, 2020-05-31, 2020-05-31, 2020-05-31, 20…\n",
            "$ key_plant_species \u001b[3m\u001b[90m<int>\u001b[39m\u001b[23m 16, 37, 51, 60, 135, 146, 218, 224, 240, 250, 266, …\n",
            "$ species_code      \u001b[3m\u001b[90m<chr>\u001b[39m\u001b[23m \"ALLCER\", \"ANTE_SP\", \"ARECON\", \"ARTDRA\", \"CHRVIS\", …\n",
            "$ cover_pct         \u001b[3m\u001b[90m<dbl>\u001b[39m\u001b[23m 1, 1, 2, 1, 3, 1, 1, 0, 0, 1, 0, 0, 0, 0, 0, 0, 0, …\n"
          ],
          "name": "stdout"
        }
      ]
    },
    {
      "cell_type": "markdown",
      "metadata": {
        "id": "RvqjIedPxFzA"
      },
      "source": [
        "### species_code"
      ]
    },
    {
      "cell_type": "code",
      "metadata": {
        "id": "APHsuGAQxI5r",
        "outputId": "50fcc319-f032-4240-be59-771217442fbc",
        "colab": {
          "base_uri": "https://localhost:8080/"
        }
      },
      "source": [
        "# rename species code to key_plant_code\n",
        "df_code <- df_species %>%\n",
        "  rename(key_plant_code = species_code) %>% glimpse()"
      ],
      "execution_count": null,
      "outputs": [
        {
          "output_type": "stream",
          "text": [
            "Rows: 710\n",
            "Columns: 8\n",
            "$ grid_point        \u001b[3m\u001b[90m<dbl>\u001b[39m\u001b[23m 7, 7, 7, 7, 7, 7, 7, 7, 7, 7, 7, 7, 7, 7, 7, 7, 7, …\n",
            "$ plot_code         \u001b[3m\u001b[90m<chr>\u001b[39m\u001b[23m \"YVP N7\", \"YVP N7\", \"YVP N7\", \"YVP N7\", \"YVP N7\", \"…\n",
            "$ plot_loc          \u001b[3m\u001b[90m<chr>\u001b[39m\u001b[23m \"N\", \"N\", \"N\", \"N\", \"N\", \"N\", \"N\", \"N\", \"N\", \"N\", \"…\n",
            "$ plot_rep          \u001b[3m\u001b[90m<chr>\u001b[39m\u001b[23m NA, NA, NA, NA, NA, NA, NA, NA, NA, NA, NA, NA, NA,…\n",
            "$ date              \u001b[3m\u001b[90m<date>\u001b[39m\u001b[23m 2020-05-31, 2020-05-31, 2020-05-31, 2020-05-31, 20…\n",
            "$ key_plant_species \u001b[3m\u001b[90m<int>\u001b[39m\u001b[23m 16, 37, 51, 60, 135, 146, 218, 224, 240, 250, 266, …\n",
            "$ key_plant_code    \u001b[3m\u001b[90m<chr>\u001b[39m\u001b[23m \"ALLCER\", \"ANTE_SP\", \"ARECON\", \"ARTDRA\", \"CHRVIS\", …\n",
            "$ cover_pct         \u001b[3m\u001b[90m<dbl>\u001b[39m\u001b[23m 1, 1, 2, 1, 3, 1, 1, 0, 0, 1, 0, 0, 0, 0, 0, 0, 0, …\n"
          ],
          "name": "stdout"
        }
      ]
    },
    {
      "cell_type": "markdown",
      "metadata": {
        "id": "yOxo-5-g_njM"
      },
      "source": [
        "### cover_pct"
      ]
    },
    {
      "cell_type": "code",
      "metadata": {
        "id": "Me1DTfmI_p2G"
      },
      "source": [
        "# convert from initial double datatype to integer\n",
        "df_code$cover_pct <- as.integer(df_code$cover_pct)"
      ],
      "execution_count": null,
      "outputs": []
    },
    {
      "cell_type": "code",
      "metadata": {
        "id": "AdjYOuM7-7gh",
        "outputId": "5e4657e9-7e74-4f93-ab79-da2320cd265b",
        "colab": {
          "base_uri": "https://localhost:8080/"
        }
      },
      "source": [
        "df_code %>% glimpse()"
      ],
      "execution_count": null,
      "outputs": [
        {
          "output_type": "stream",
          "text": [
            "Rows: 710\n",
            "Columns: 8\n",
            "$ grid_point        \u001b[3m\u001b[90m<dbl>\u001b[39m\u001b[23m 7, 7, 7, 7, 7, 7, 7, 7, 7, 7, 7, 7, 7, 7, 7, 7, 7, …\n",
            "$ plot_code         \u001b[3m\u001b[90m<chr>\u001b[39m\u001b[23m \"YVP N7\", \"YVP N7\", \"YVP N7\", \"YVP N7\", \"YVP N7\", \"…\n",
            "$ plot_loc          \u001b[3m\u001b[90m<chr>\u001b[39m\u001b[23m \"N\", \"N\", \"N\", \"N\", \"N\", \"N\", \"N\", \"N\", \"N\", \"N\", \"…\n",
            "$ plot_rep          \u001b[3m\u001b[90m<chr>\u001b[39m\u001b[23m NA, NA, NA, NA, NA, NA, NA, NA, NA, NA, NA, NA, NA,…\n",
            "$ date              \u001b[3m\u001b[90m<date>\u001b[39m\u001b[23m 2020-05-31, 2020-05-31, 2020-05-31, 2020-05-31, 20…\n",
            "$ key_plant_species \u001b[3m\u001b[90m<int>\u001b[39m\u001b[23m 16, 37, 51, 60, 135, 146, 218, 224, 240, 250, 266, …\n",
            "$ key_plant_code    \u001b[3m\u001b[90m<chr>\u001b[39m\u001b[23m \"ALLCER\", \"ANTE_SP\", \"ARECON\", \"ARTDRA\", \"CHRVIS\", …\n",
            "$ cover_pct         \u001b[3m\u001b[90m<int>\u001b[39m\u001b[23m 1, 1, 2, 1, 3, 1, 1, 0, 0, 1, 0, 0, 0, 0, 0, 0, 0, …\n"
          ],
          "name": "stdout"
        }
      ]
    },
    {
      "cell_type": "markdown",
      "metadata": {
        "id": "zaFLjC5gcVBH"
      },
      "source": [
        "# Correct errors in species codes\n",
        "The species codes used in the source data contain numerous errors, and they also in some cases represent old taxonomy where species names have been revised. This can cause all sorts of problems, like artificially creating new species or making it impossible to join with available species metadata. Several steps must be accomplished here:\n",
        "\n",
        "1. Trim leading or trailing spaces from the code (this was done in excel before source CSV files were created)\n",
        "2. Read in master list of species metadata and query YVP species codes to identify which ones don't align\n",
        "3. Align the species codes, identify the ones that are wrong and correct them\n",
        "4. Import the numeric key from the species metadata so that future aligments are easier and errors are less common"
      ]
    },
    {
      "cell_type": "markdown",
      "metadata": {
        "id": "ow74P7COc7Aw"
      },
      "source": [
        "### Read in master list of species metadata and codes"
      ]
    },
    {
      "cell_type": "code",
      "metadata": {
        "id": "jBZUWtPOc7wu",
        "outputId": "ab471952-aa05-4c36-81e4-f7ae65c3a3e1",
        "colab": {
          "base_uri": "https://localhost:8080/"
        }
      },
      "source": [
        "# 2020-04-27_MPGR_plant_species_list\n",
        "spp = gsheet2tbl(\"https://docs.google.com/spreadsheets/d/1wPen7yeimXtY4qK5Nj4JPvlgHYamoogR0YJekaF7i9Y\") %>% \n",
        "as_tibble() %>% glimpse()"
      ],
      "execution_count": null,
      "outputs": [
        {
          "output_type": "stream",
          "text": [
            "Rows: 754\n",
            "Columns: 9\n",
            "$ key_PlantSpecies \u001b[3m\u001b[90m<dbl>\u001b[39m\u001b[23m 1, 2, 3, 743, 5, 661, 8, 694, 9, 10, 11, 744, 677, 1…\n",
            "$ key_PlantCode    \u001b[3m\u001b[90m<chr>\u001b[39m\u001b[23m \"ABIGRA\", \"ABILAS\", \"ACEGLA\", \"ACEPLA\", \"ACHMIL\", \"A…\n",
            "$ NameScientific   \u001b[3m\u001b[90m<chr>\u001b[39m\u001b[23m \"Abies grandis\", \"Abies lasiocarpa\", \"Acer glabrum\",…\n",
            "$ NameSynonym      \u001b[3m\u001b[90m<chr>\u001b[39m\u001b[23m NA, NA, NA, NA, NA, NA, NA, NA, NA, NA, NA, NA, NA, …\n",
            "$ NameCommon       \u001b[3m\u001b[90m<chr>\u001b[39m\u001b[23m \"grand fir\", \"subalpine fir\", \"Rocky Mountain maple\"…\n",
            "$ NameFamily       \u001b[3m\u001b[90m<chr>\u001b[39m\u001b[23m \"Pinaceae\", \"Pinaceae\", \"Aceraceae\", \"Aceraceae\", \"A…\n",
            "$ NativeStatus     \u001b[3m\u001b[90m<chr>\u001b[39m\u001b[23m \"native\", \"native\", \"native\", \"nonnative\", \"native\",…\n",
            "$ LifeCycle        \u001b[3m\u001b[90m<chr>\u001b[39m\u001b[23m \"perennial\", \"perennial\", \"perennial\", \"perennial\", …\n",
            "$ LifeForm         \u001b[3m\u001b[90m<chr>\u001b[39m\u001b[23m \"tree\", \"tree\", \"shrub\", \"tree\", \"forb\", \"forb\", \"fo…\n"
          ],
          "name": "stdout"
        }
      ]
    },
    {
      "cell_type": "markdown",
      "metadata": {
        "id": "9OxD489QdYYX"
      },
      "source": [
        "### Align species codes and identify mistakes\n"
      ]
    },
    {
      "cell_type": "code",
      "metadata": {
        "id": "tnQGAfWIdZYA",
        "outputId": "6337205e-4f83-4d1d-e80d-b08abb7162b8",
        "colab": {
          "base_uri": "https://localhost:8080/"
        }
      },
      "source": [
        "# Align the species codes \n",
        "# Produce df of codes that don't match the master list\n",
        "collisions_species_codes = \n",
        "df_code %>% \n",
        "anti_join(spp, by = c(\"key_plant_code\" = \"key_PlantCode\")) %>% \n",
        "group_by(key_plant_code) %>% \n",
        "distinct(key_plant_code) %>% \n",
        "arrange(key_plant_code) %>% \n",
        "print(n = Inf)"
      ],
      "execution_count": null,
      "outputs": [
        {
          "output_type": "stream",
          "text": [
            "\u001b[90m# A tibble: 0 x 1\u001b[39m\n",
            "\u001b[90m# Groups:   key_plant_code [0]\u001b[39m\n",
            "\u001b[90m# … with 1 variable: key_plant_code \u001b[3m\u001b[90m<chr>\u001b[90m\u001b[23m\u001b[39m\n"
          ],
          "name": "stdout"
        }
      ]
    },
    {
      "cell_type": "markdown",
      "metadata": {
        "id": "ZkNsAchNd-FJ"
      },
      "source": [
        "### Create file that associates errors with corrections"
      ]
    },
    {
      "cell_type": "markdown",
      "metadata": {
        "id": "gq7vUmHu5eH2"
      },
      "source": [
        "In the cell above, there were no codes \"that don't match the master list\" so this section is not executed for 2020"
      ]
    },
    {
      "cell_type": "code",
      "metadata": {
        "id": "ruUQuZvdd-re",
        "outputId": "5f77939e-69dc-4a30-da61-d3fb2f1841f8",
        "colab": {
          "base_uri": "https://localhost:8080/"
        }
      },
      "source": [
        "# Produce file `collisions_species_codes` for work in spreadsheet outside of this environment\n",
        "# The file will save to the `content` folder in the drive tree\n",
        "# BL downloaded the file to his desktop to produce a new naming key file\n",
        "filename = \"collisions_species_codes.csv\"\n",
        "if (filename %in% list.files(getwd())) {\n",
        "  cat(\"file already exists in working directory: \", filename, \"\\n\", \"working directory: \", getwd(), \"\\n\")\n",
        "} else {\n",
        "  write.csv(collisions_species_codes, filename)\n",
        "  cat(filename, \" written to working directory \\n\", \"working directory: \", getwd(), \"\\n\")\n",
        "}"
      ],
      "execution_count": null,
      "outputs": [
        {
          "output_type": "stream",
          "text": [
            "collisions_species_codes.csv  written to working directory \n",
            " working directory:  /content \n"
          ],
          "name": "stdout"
        }
      ]
    },
    {
      "cell_type": "code",
      "metadata": {
        "id": "QCBgoKpej3NT",
        "outputId": "22e42992-4e92-4d70-e2e2-72ce6fd87e80",
        "colab": {
          "base_uri": "https://localhost:8080/"
        }
      },
      "source": [
        "# Import csv file with the updated codes \n",
        "# This file was produced by visually aligning the codes with a file that Rebecca Durham provided\n",
        "code_corrections <- read.csv(file = \"https://drive.google.com/uc?id=11Eo8DKXp0GR5qLXiRoAwBg9MPCpX1AXq\",\n",
        "  colClasses = c(\"character\", \"character\")) %>% \n",
        "glimpse()"
      ],
      "execution_count": null,
      "outputs": [
        {
          "output_type": "stream",
          "text": [
            "Rows: 29\n",
            "Columns: 2\n",
            "$ plantcode_incorrect \u001b[3m\u001b[90m<chr>\u001b[39m\u001b[23m \"ANTE SP\", \"ANTSPP\", \"ANTSPP2\", \"ARTSPP\", \"ASTMIN…\n",
            "$ plantcode_corrected \u001b[3m\u001b[90m<chr>\u001b[39m\u001b[23m \"ANTE_SP\", \"ANTE_SP\", \"ANTE_SP\", \"ARTE_SP\", \"ASTM…\n"
          ],
          "name": "stdout"
        }
      ]
    },
    {
      "cell_type": "markdown",
      "metadata": {
        "id": "FY95BuhZkHpd"
      },
      "source": [
        "### Cascade changes through dataset\n"
      ]
    },
    {
      "cell_type": "code",
      "metadata": {
        "id": "azpVoEDWkIxZ",
        "outputId": "2790664c-db72-4cdf-943f-36d413105bd4",
        "colab": {
          "base_uri": "https://localhost:8080/"
        }
      },
      "source": [
        "# Create new df to hold corrected information\n",
        "# Change species_code to character variable to avoid problems with levels later\n",
        "yvp_addtl_spp_correct = df_code %>% mutate(key_plant_code = as.character(key_plant_code)) %>% glimpse()"
      ],
      "execution_count": null,
      "outputs": [
        {
          "output_type": "stream",
          "text": [
            "Rows: 710\n",
            "Columns: 8\n",
            "$ grid_point        \u001b[3m\u001b[90m<dbl>\u001b[39m\u001b[23m 7, 7, 7, 7, 7, 7, 7, 7, 7, 7, 7, 7, 7, 7, 7, 7, 7, …\n",
            "$ plot_code         \u001b[3m\u001b[90m<chr>\u001b[39m\u001b[23m \"YVP N7\", \"YVP N7\", \"YVP N7\", \"YVP N7\", \"YVP N7\", \"…\n",
            "$ plot_loc          \u001b[3m\u001b[90m<chr>\u001b[39m\u001b[23m \"N\", \"N\", \"N\", \"N\", \"N\", \"N\", \"N\", \"N\", \"N\", \"N\", \"…\n",
            "$ plot_rep          \u001b[3m\u001b[90m<chr>\u001b[39m\u001b[23m NA, NA, NA, NA, NA, NA, NA, NA, NA, NA, NA, NA, NA,…\n",
            "$ date              \u001b[3m\u001b[90m<date>\u001b[39m\u001b[23m 2020-05-31, 2020-05-31, 2020-05-31, 2020-05-31, 20…\n",
            "$ key_plant_species \u001b[3m\u001b[90m<int>\u001b[39m\u001b[23m 16, 37, 51, 60, 135, 146, 218, 224, 240, 250, 266, …\n",
            "$ key_plant_code    \u001b[3m\u001b[90m<chr>\u001b[39m\u001b[23m \"ALLCER\", \"ANTE_SP\", \"ARECON\", \"ARTDRA\", \"CHRVIS\", …\n",
            "$ cover_pct         \u001b[3m\u001b[90m<int>\u001b[39m\u001b[23m 1, 1, 2, 1, 3, 1, 1, 0, 0, 1, 0, 0, 0, 0, 0, 0, 0, …\n"
          ],
          "name": "stdout"
        }
      ]
    },
    {
      "cell_type": "code",
      "metadata": {
        "id": "Givt0xeBkWAK",
        "outputId": "637e0299-3bdc-439f-d338-ff75e3815c02",
        "colab": {
          "base_uri": "https://localhost:8080/"
        }
      },
      "source": [
        "# Loop operation used to update each instance of an incorrect code\n",
        "# Embed logic control to prevent errors if this loop is run on a df with corrected codes\n",
        "# Variable to track loop cycles\n",
        "cycles = 0\n",
        "\n",
        "for (i in 1:length(code_corrections[, 1])) {\n",
        "  index = which(yvp_addtl_spp_correct$key_plant_code == code_corrections$plantcode_incorrect[i])\n",
        "\n",
        "  if (length(index != 0)) {\n",
        "    cat(\"number of incorrect code entries: \", length(index), \"\\n\")\n",
        "    cat(\"incorrect code: \", code_corrections$plantcode_incorrect[i], \"\\n\")\n",
        "    yvp_addtl_spp_correct[index, ]$species_code = code_corrections$plantcode_corrected[i]\n",
        "    print(yvp_addtl_spp_correct[index, c(1,5,6,7)])\n",
        "    cycles = cycles + length(index)\n",
        "    cat(\"\\n\")\n",
        "  } else {\n",
        "    cat(\"no incorrect code entries were found \\n\")\n",
        "  }\n",
        "\n",
        "  cat(\"number of corrections made (cumulative): \", cycles, \"\\n\\n\\n\")\n",
        "\n",
        "}"
      ],
      "execution_count": null,
      "outputs": [
        {
          "output_type": "stream",
          "text": [
            "no incorrect code entries were found \n",
            "number of corrections made (cumulative):  0 \n",
            "\n",
            "\n",
            "no incorrect code entries were found \n",
            "number of corrections made (cumulative):  0 \n",
            "\n",
            "\n",
            "no incorrect code entries were found \n",
            "number of corrections made (cumulative):  0 \n",
            "\n",
            "\n",
            "no incorrect code entries were found \n",
            "number of corrections made (cumulative):  0 \n",
            "\n",
            "\n",
            "no incorrect code entries were found \n",
            "number of corrections made (cumulative):  0 \n",
            "\n",
            "\n",
            "no incorrect code entries were found \n",
            "number of corrections made (cumulative):  0 \n",
            "\n",
            "\n",
            "no incorrect code entries were found \n",
            "number of corrections made (cumulative):  0 \n",
            "\n",
            "\n",
            "no incorrect code entries were found \n",
            "number of corrections made (cumulative):  0 \n",
            "\n",
            "\n",
            "no incorrect code entries were found \n",
            "number of corrections made (cumulative):  0 \n",
            "\n",
            "\n",
            "no incorrect code entries were found \n",
            "number of corrections made (cumulative):  0 \n",
            "\n",
            "\n",
            "no incorrect code entries were found \n",
            "number of corrections made (cumulative):  0 \n",
            "\n",
            "\n",
            "no incorrect code entries were found \n",
            "number of corrections made (cumulative):  0 \n",
            "\n",
            "\n",
            "no incorrect code entries were found \n",
            "number of corrections made (cumulative):  0 \n",
            "\n",
            "\n",
            "no incorrect code entries were found \n",
            "number of corrections made (cumulative):  0 \n",
            "\n",
            "\n",
            "no incorrect code entries were found \n",
            "number of corrections made (cumulative):  0 \n",
            "\n",
            "\n",
            "no incorrect code entries were found \n",
            "number of corrections made (cumulative):  0 \n",
            "\n",
            "\n",
            "no incorrect code entries were found \n",
            "number of corrections made (cumulative):  0 \n",
            "\n",
            "\n",
            "no incorrect code entries were found \n",
            "number of corrections made (cumulative):  0 \n",
            "\n",
            "\n",
            "no incorrect code entries were found \n",
            "number of corrections made (cumulative):  0 \n",
            "\n",
            "\n",
            "no incorrect code entries were found \n",
            "number of corrections made (cumulative):  0 \n",
            "\n",
            "\n",
            "no incorrect code entries were found \n",
            "number of corrections made (cumulative):  0 \n",
            "\n",
            "\n",
            "no incorrect code entries were found \n",
            "number of corrections made (cumulative):  0 \n",
            "\n",
            "\n",
            "no incorrect code entries were found \n",
            "number of corrections made (cumulative):  0 \n",
            "\n",
            "\n",
            "no incorrect code entries were found \n",
            "number of corrections made (cumulative):  0 \n",
            "\n",
            "\n",
            "no incorrect code entries were found \n",
            "number of corrections made (cumulative):  0 \n",
            "\n",
            "\n",
            "no incorrect code entries were found \n",
            "number of corrections made (cumulative):  0 \n",
            "\n",
            "\n",
            "no incorrect code entries were found \n",
            "number of corrections made (cumulative):  0 \n",
            "\n",
            "\n",
            "no incorrect code entries were found \n",
            "number of corrections made (cumulative):  0 \n",
            "\n",
            "\n",
            "no incorrect code entries were found \n",
            "number of corrections made (cumulative):  0 \n",
            "\n",
            "\n"
          ],
          "name": "stdout"
        }
      ]
    },
    {
      "cell_type": "code",
      "metadata": {
        "id": "e76vVZDBkzdQ",
        "outputId": "17505af0-f68e-4b5f-b876-3e35a34c425d",
        "colab": {
          "base_uri": "https://localhost:8080/",
          "height": 95
        }
      },
      "source": [
        "# Rescan for incorrect species codes\n",
        "yvp_addtl_spp_correct %>% \n",
        "anti_join(spp, by = c(\"key_plant_code\" = \"key_PlantCode\")) %>% \n",
        "group_by(key_plant_code) %>% distinct(key_plant_code) %>% arrange(key_plant_code)"
      ],
      "execution_count": null,
      "outputs": [
        {
          "output_type": "display_data",
          "data": {
            "text/plain": [
              "     key_plant_code"
            ],
            "text/latex": "A grouped\\_df: 0 × 1\n\\begin{tabular}{l}\n key\\_plant\\_code\\\\\n <chr>\\\\\n\\hline\n\\end{tabular}\n",
            "text/markdown": "\nA grouped_df: 0 × 1\n\n| key_plant_code &lt;chr&gt; |\n|---|\n\n",
            "text/html": [
              "<table>\n",
              "<caption>A grouped_df: 0 × 1</caption>\n",
              "<thead>\n",
              "\t<tr><th scope=col>key_plant_code</th></tr>\n",
              "\t<tr><th scope=col>&lt;chr&gt;</th></tr>\n",
              "</thead>\n",
              "<tbody>\n",
              "</tbody>\n",
              "</table>\n"
            ]
          },
          "metadata": {
            "tags": []
          }
        }
      ]
    },
    {
      "cell_type": "markdown",
      "metadata": {
        "id": "uMMjGJ3i1CO2"
      },
      "source": [
        "**Align column order to schema**\n",
        "* plot_code\n",
        "* plot_loc\n",
        "* plot_rep\n",
        "* plot_num\n",
        "* date\n",
        "* species_key\n",
        "* species_code\n",
        "* cover_pct"
      ]
    },
    {
      "cell_type": "code",
      "metadata": {
        "id": "ELqSNUQFAYoq",
        "outputId": "6092f851-b22e-4d0b-8d6a-208cac504100",
        "colab": {
          "base_uri": "https://localhost:8080/"
        }
      },
      "source": [
        "yvp_addtl_spp_correct %>% glimpse()"
      ],
      "execution_count": null,
      "outputs": [
        {
          "output_type": "stream",
          "text": [
            "Rows: 710\n",
            "Columns: 8\n",
            "$ grid_point        \u001b[3m\u001b[90m<dbl>\u001b[39m\u001b[23m 7, 7, 7, 7, 7, 7, 7, 7, 7, 7, 7, 7, 7, 7, 7, 7, 7, …\n",
            "$ plot_code         \u001b[3m\u001b[90m<chr>\u001b[39m\u001b[23m \"YVP N7\", \"YVP N7\", \"YVP N7\", \"YVP N7\", \"YVP N7\", \"…\n",
            "$ plot_loc          \u001b[3m\u001b[90m<chr>\u001b[39m\u001b[23m \"N\", \"N\", \"N\", \"N\", \"N\", \"N\", \"N\", \"N\", \"N\", \"N\", \"…\n",
            "$ plot_rep          \u001b[3m\u001b[90m<chr>\u001b[39m\u001b[23m NA, NA, NA, NA, NA, NA, NA, NA, NA, NA, NA, NA, NA,…\n",
            "$ date              \u001b[3m\u001b[90m<date>\u001b[39m\u001b[23m 2020-05-31, 2020-05-31, 2020-05-31, 2020-05-31, 20…\n",
            "$ key_plant_species \u001b[3m\u001b[90m<int>\u001b[39m\u001b[23m 16, 37, 51, 60, 135, 146, 218, 224, 240, 250, 266, …\n",
            "$ key_plant_code    \u001b[3m\u001b[90m<chr>\u001b[39m\u001b[23m \"ALLCER\", \"ANTE_SP\", \"ARECON\", \"ARTDRA\", \"CHRVIS\", …\n",
            "$ cover_pct         \u001b[3m\u001b[90m<int>\u001b[39m\u001b[23m 1, 1, 2, 1, 3, 1, 1, 0, 0, 1, 0, 0, 0, 0, 0, 0, 0, …\n"
          ],
          "name": "stdout"
        }
      ]
    },
    {
      "cell_type": "code",
      "metadata": {
        "id": "TJusBmcUk5G1",
        "outputId": "9283fcf5-b40d-40b8-c7d7-7fca6822d577",
        "colab": {
          "base_uri": "https://localhost:8080/"
        }
      },
      "source": [
        "# Incorporate serial key for species codes\n",
        "yvp_addtl_spp_FINAL = \n",
        "yvp_addtl_spp_correct %>% \n",
        "left_join(spp %>% select(key_PlantSpecies, key_PlantCode), by = c(\"key_plant_code\" = \"key_PlantCode\")) %>% \n",
        "rename(species_key = key_PlantSpecies) %>% \n",
        "select(plot_code, plot_loc, plot_rep, grid_point, date, key_plant_species, key_plant_code, cover_pct) %>% \n",
        "glimpse()"
      ],
      "execution_count": null,
      "outputs": [
        {
          "output_type": "stream",
          "text": [
            "Rows: 710\n",
            "Columns: 8\n",
            "$ plot_code         \u001b[3m\u001b[90m<chr>\u001b[39m\u001b[23m \"YVP N7\", \"YVP N7\", \"YVP N7\", \"YVP N7\", \"YVP N7\", \"…\n",
            "$ plot_loc          \u001b[3m\u001b[90m<chr>\u001b[39m\u001b[23m \"N\", \"N\", \"N\", \"N\", \"N\", \"N\", \"N\", \"N\", \"N\", \"N\", \"…\n",
            "$ plot_rep          \u001b[3m\u001b[90m<chr>\u001b[39m\u001b[23m NA, NA, NA, NA, NA, NA, NA, NA, NA, NA, NA, NA, NA,…\n",
            "$ grid_point        \u001b[3m\u001b[90m<dbl>\u001b[39m\u001b[23m 7, 7, 7, 7, 7, 7, 7, 7, 7, 7, 7, 7, 7, 7, 7, 7, 7, …\n",
            "$ date              \u001b[3m\u001b[90m<date>\u001b[39m\u001b[23m 2020-05-31, 2020-05-31, 2020-05-31, 2020-05-31, 20…\n",
            "$ key_plant_species \u001b[3m\u001b[90m<int>\u001b[39m\u001b[23m 16, 37, 51, 60, 135, 146, 218, 224, 240, 250, 266, …\n",
            "$ key_plant_code    \u001b[3m\u001b[90m<chr>\u001b[39m\u001b[23m \"ALLCER\", \"ANTE_SP\", \"ARECON\", \"ARTDRA\", \"CHRVIS\", …\n",
            "$ cover_pct         \u001b[3m\u001b[90m<int>\u001b[39m\u001b[23m 1, 1, 2, 1, 3, 1, 1, 0, 0, 1, 0, 0, 0, 0, 0, 0, 0, …\n"
          ],
          "name": "stdout"
        }
      ]
    },
    {
      "cell_type": "code",
      "metadata": {
        "id": "OUonxlHYlTDf",
        "outputId": "1f9e6c9f-5518-47f9-eaae-e93596d608e1",
        "colab": {
          "base_uri": "https://localhost:8080/",
          "height": 255
        }
      },
      "source": [
        "summary(yvp_addtl_spp_FINAL)"
      ],
      "execution_count": null,
      "outputs": [
        {
          "output_type": "display_data",
          "data": {
            "text/plain": [
              "  plot_code           plot_loc           plot_rep           grid_point   \n",
              " Length:710         Length:710         Length:710         Min.   :  7.0  \n",
              " Class :character   Class :character   Class :character   1st Qu.:110.0  \n",
              " Mode  :character   Mode  :character   Mode  :character   Median :212.0  \n",
              "                                                          Mean   :254.4  \n",
              "                                                          3rd Qu.:395.0  \n",
              "                                                          Max.   :571.0  \n",
              "      date            key_plant_species key_plant_code       cover_pct     \n",
              " Min.   :2020-05-09   Min.   :  3.0     Length:710         Min.   : 0.000  \n",
              " 1st Qu.:2020-05-22   1st Qu.:108.0     Class :character   1st Qu.: 0.000  \n",
              " Median :2020-06-05   Median :240.0     Mode  :character   Median : 1.000  \n",
              " Mean   :2020-06-02   Mean   :261.1                        Mean   : 1.099  \n",
              " 3rd Qu.:2020-06-17   3rd Qu.:405.0                        3rd Qu.: 1.000  \n",
              " Max.   :2020-07-01   Max.   :784.0                        Max.   :70.000  "
            ]
          },
          "metadata": {
            "tags": []
          }
        }
      ]
    },
    {
      "cell_type": "markdown",
      "metadata": {
        "id": "698tSPqtlZdi"
      },
      "source": [
        "# Output\n",
        "## Export wrangled dataframe to csv\n",
        "Export the full dataset so we can push it to the BQ database"
      ]
    },
    {
      "cell_type": "code",
      "metadata": {
        "id": "shKd_udQ1pwz"
      },
      "source": [
        "# Executed 2020-11-02 ES\n",
        "write_csv(yvp_addtl_spp_FINAL, \"yvp_additional_species_WRANGLE-2020.csv\")"
      ],
      "execution_count": null,
      "outputs": []
    },
    {
      "cell_type": "code",
      "metadata": {
        "id": "AiwEcZgFlkbR",
        "outputId": "77d12da4-f860-4486-f94f-e5a6d8b1ea0c",
        "colab": {
          "base_uri": "https://localhost:8080/",
          "height": 51
        }
      },
      "source": [
        "# has not been executed for 2020\n",
        "filename_final = \"yvp_additional_species-2020.csv\"\n",
        "\n",
        "if (filename_final %in% list.files(getwd())) {\n",
        "  cat(\"file already exists in working directory:\", filename_final, \"\\n\", \"working directory:\", getwd(), \"\\n\")\n",
        "} else {\n",
        "  write.csv(yvp_addtl_spp_FINAL, filename_final)\n",
        "  cat(filename_final, \"written to working directory \\n\", \"working directory:\", getwd(), \"\\n\")\n",
        "}"
      ],
      "execution_count": null,
      "outputs": [
        {
          "output_type": "stream",
          "text": [
            "yvp_additional_species_FINAL.csv written to working directory \n",
            " working directory: /content \n"
          ],
          "name": "stdout"
        }
      ]
    },
    {
      "cell_type": "markdown",
      "metadata": {
        "id": "aCzfg4p2l48Z"
      },
      "source": [
        "## Export field datasheet version\n",
        "Field datasheets need to have a complete, cumulative species list for each plot recorded in a table, with the cover_pct column set to 0. This allows field techs to change the 0 to some number if the species is found. The date column is blank so that field techs can fill in the appropriate date. Do not include columns that are needed for data analysis, like plot_loc, plot_rep, plot_num, and species_key. \n",
        "\n",
        "**Schema for field data sheet**\n",
        "\n",
        "* plot_num (helps for sorting and finding plots)\n",
        "* plot_code\n",
        "* date\n",
        "* species_code\n",
        "* cover_pct"
      ]
    },
    {
      "cell_type": "code",
      "metadata": {
        "id": "-L0cRC8il5qg",
        "outputId": "eed97e2f-6d4c-4b1a-ca2f-7502af937ce5",
        "colab": {
          "base_uri": "https://localhost:8080/",
          "height": 153
        }
      },
      "source": [
        "field_datasheet = \n",
        "yvp_addtl_spp_FINAL %>% \n",
        "select(plot_num, plot_code, species_code) %>% \n",
        "group_by(plot_num, plot_code) %>% \n",
        "distinct(species_code) %>% \n",
        "select(-species_code, species_code) %>% \n",
        "add_column(date = NA, .after = \"plot_code\") %>% \n",
        "add_column(cover_pct = 0) %>% \n",
        "arrange(plot_num, plot_code, species_code) %>% \n",
        "glimpse()"
      ],
      "execution_count": null,
      "outputs": [
        {
          "output_type": "stream",
          "text": [
            "Rows: 702\n",
            "Columns: 5\n",
            "Groups: plot_num, plot_code [64]\n",
            "$ plot_num     \u001b[3m\u001b[90m<int>\u001b[39m\u001b[23m 7, 7, 7, 7, 7, 7, 7, 7, 7, 7, 7, 7, 7, 7, 7, 7, 7, 7, 7,…\n",
            "$ plot_code    \u001b[3m\u001b[90m<chr>\u001b[39m\u001b[23m \"YVP 7\", \"YVP 7\", \"YVP 7\", \"YVP 7\", \"YVP 7\", \"YVP 7\", \"Y…\n",
            "$ date         \u001b[3m\u001b[90m<lgl>\u001b[39m\u001b[23m NA, NA, NA, NA, NA, NA, NA, NA, NA, NA, NA, NA, NA, NA, …\n",
            "$ species_code \u001b[3m\u001b[90m<chr>\u001b[39m\u001b[23m \"ALLCER\", \"ANTE_SP\", \"ARECON\", \"ARTDRA\", \"CHRVIS\", \"CLAP…\n",
            "$ cover_pct    \u001b[3m\u001b[90m<dbl>\u001b[39m\u001b[23m 0, 0, 0, 0, 0, 0, 0, 0, 0, 0, 0, 0, 0, 0, 0, 0, 0, 0, 0,…\n"
          ],
          "name": "stdout"
        }
      ]
    },
    {
      "cell_type": "code",
      "metadata": {
        "id": "jDes2Nv9Ftxz",
        "outputId": "097d72c4-7466-49b1-e287-da88522f140c",
        "colab": {
          "base_uri": "https://localhost:8080/",
          "height": 51
        }
      },
      "source": [
        "filename_field_datasheet = \"yvp_additional_species_field_datasheet_FINAL.csv\"\n",
        "\n",
        "if (filename_field_datasheet %in% list.files(getwd())) {\n",
        "  cat(\"file already exists in working directory:\", filename_final, \"\\n\", \"working directory:\", getwd(), \"\\n\")\n",
        "} else {\n",
        "  write.csv(field_datasheet, filename_field_datasheet)\n",
        "  cat(filename_final, \"written to working directory \\n\", \"working directory:\", getwd(), \"\\n\")\n",
        "}"
      ],
      "execution_count": null,
      "outputs": [
        {
          "output_type": "stream",
          "text": [
            "yvp_additional_species_FINAL.csv written to working directory \n",
            " working directory: /content \n"
          ],
          "name": "stdout"
        }
      ]
    }
  ]
}