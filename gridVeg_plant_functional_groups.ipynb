{
  "nbformat": 4,
  "nbformat_minor": 0,
  "metadata": {
    "colab": {
      "name": "gridVeg_plant_functional_groups.ipynb",
      "provenance": [],
      "collapsed_sections": [],
      "include_colab_link": true
    },
    "language_info": {
      "codemirror_mode": "r",
      "file_extension": ".r",
      "mimetype": "text/x-r-source",
      "name": "R",
      "pygments_lexer": "r",
      "version": "3.3.1"
    },
    "kernelspec": {
      "display_name": "R",
      "language": "R",
      "name": "ir"
    }
  },
  "cells": [
    {
      "cell_type": "markdown",
      "metadata": {
        "id": "view-in-github",
        "colab_type": "text"
      },
      "source": [
        "<a href=\"https://colab.research.google.com/github/samsoe/mpg_notebooks/blob/master/gridVeg_plant_functional_groups.ipynb\" target=\"_parent\"><img src=\"https://colab.research.google.com/assets/colab-badge.svg\" alt=\"Open In Colab\"/></a>"
      ]
    },
    {
      "cell_type": "markdown",
      "metadata": {
        "id": "BhOI1uU2Koum",
        "colab_type": "text"
      },
      "source": [
        "# Security"
      ]
    },
    {
      "cell_type": "markdown",
      "metadata": {
        "id": "hgB3r3wvA9Pn",
        "colab_type": "text"
      },
      "source": [
        "* The user must load a `json` file containing the BigQuery API key into the local directory `/content/...`\n",
        "* The user must have a Google Maps API key to enable mapping. \n",
        "   * CAUTION make sure the key is deleted from the current instance of the notebook before sharing"
      ]
    },
    {
      "cell_type": "markdown",
      "metadata": {
        "id": "MnG0ah7OA59c",
        "colab_type": "text"
      },
      "source": [
        "# Tools"
      ]
    },
    {
      "cell_type": "code",
      "metadata": {
        "id": "Y6y4EWeYpVBJ",
        "colab_type": "code",
        "colab": {}
      },
      "source": [
        "library(tidyverse)"
      ],
      "execution_count": 79,
      "outputs": []
    },
    {
      "cell_type": "markdown",
      "metadata": {
        "id": "eUw-It3JBBrQ",
        "colab_type": "text"
      },
      "source": [
        "* Remember that the file containing authorization keys for Big Query must be loaded into the virutual envrionment manually."
      ]
    },
    {
      "cell_type": "code",
      "metadata": {
        "id": "VxYkYhQTKouo",
        "colab_type": "code",
        "colab": {
          "base_uri": "https://localhost:8080/",
          "height": 68
        },
        "outputId": "dd12adaa-5edc-4b2e-b115-9983e7d14606"
      },
      "source": [
        "install.packages(\"bigrquery\")\n",
        "library(bigrquery)"
      ],
      "execution_count": 80,
      "outputs": [
        {
          "output_type": "stream",
          "text": [
            "Installing package into ‘/usr/local/lib/R/site-library’\n",
            "(as ‘lib’ is unspecified)\n",
            "\n"
          ],
          "name": "stderr"
        }
      ]
    },
    {
      "cell_type": "markdown",
      "metadata": {
        "id": "H1I9aQ_SBH3n",
        "colab_type": "text"
      },
      "source": [
        "# Source"
      ]
    },
    {
      "cell_type": "markdown",
      "metadata": {
        "id": "Bfb7MHpGBJMO",
        "colab_type": "text"
      },
      "source": [
        "## Database Connection"
      ]
    },
    {
      "cell_type": "code",
      "metadata": {
        "id": "ihI70_BPKouq",
        "colab_type": "code",
        "colab": {}
      },
      "source": [
        "# BigQuery API Key\n",
        "bq_auth(path = \"/content/mpg-data-warehouse-api_key-master.json\")"
      ],
      "execution_count": 83,
      "outputs": []
    },
    {
      "cell_type": "code",
      "metadata": {
        "id": "8YxL8wHoBNxV",
        "colab_type": "code",
        "colab": {}
      },
      "source": [
        "Sys.setenv(BIGQUERY_TEST_PROJECT = \"mpg-data-warehouse\")"
      ],
      "execution_count": 84,
      "outputs": []
    },
    {
      "cell_type": "code",
      "metadata": {
        "id": "yevfizb5BQXm",
        "colab_type": "code",
        "colab": {}
      },
      "source": [
        "billing <- bq_test_project()"
      ],
      "execution_count": 85,
      "outputs": []
    },
    {
      "cell_type": "markdown",
      "metadata": {
        "id": "JN4Z34yRp2-k",
        "colab_type": "text"
      },
      "source": [
        "### gridVeg_plant_intercepts"
      ]
    },
    {
      "cell_type": "code",
      "metadata": {
        "id": "26UqASAoB2p0",
        "colab_type": "code",
        "colab": {}
      },
      "source": [
        "sql_plant_intercepts <- \n",
        "\"\n",
        "  SELECT \n",
        "    survey_ID,\n",
        "    grid_point,\n",
        "    key_plant_code,\n",
        "    plant_native_status,\n",
        "    plant_life_cycle,\n",
        "    plant_life_form,\n",
        "    intercepts_pct\n",
        "  FROM \n",
        "    `mpg-data-warehouse.vegetation_gridVeg_summaries.gridVeg_plant_intercepts`\n",
        "\""
      ],
      "execution_count": 86,
      "outputs": []
    },
    {
      "cell_type": "code",
      "metadata": {
        "id": "VSXOoJkcB3dn",
        "colab_type": "code",
        "colab": {}
      },
      "source": [
        "bq_plant_intercepts <- bq_project_query(billing, sql_plant_intercepts)"
      ],
      "execution_count": 90,
      "outputs": []
    },
    {
      "cell_type": "code",
      "metadata": {
        "id": "KpZnymzzB5Ms",
        "colab_type": "code",
        "colab": {}
      },
      "source": [
        "tb_plant_intercepts <- bq_table_download(bq_plant_intercepts)"
      ],
      "execution_count": 91,
      "outputs": []
    },
    {
      "cell_type": "code",
      "metadata": {
        "id": "VcoNMCO1B6gY",
        "colab_type": "code",
        "colab": {}
      },
      "source": [
        "df_plant_intercepts <- as.data.frame(tb_plant_intercepts)"
      ],
      "execution_count": 92,
      "outputs": []
    },
    {
      "cell_type": "code",
      "metadata": {
        "id": "hr8IOWZGDOpv",
        "colab_type": "code",
        "colab": {
          "base_uri": "https://localhost:8080/",
          "height": 162
        },
        "outputId": "880f1ec9-efa6-47f8-d840-58ed9baf7903"
      },
      "source": [
        "head(df_plant_intercepts, n=4)"
      ],
      "execution_count": 93,
      "outputs": [
        {
          "output_type": "display_data",
          "data": {
            "text/plain": [
              "  survey_ID grid_point key_plant_code plant_native_status plant_life_cycle\n",
              "1 436       1          HEUCYL         native              perennial       \n",
              "2 436       1          ALLCER         native              perennial       \n",
              "3 436       1          GEUTRI         native              perennial       \n",
              "4 436       1          ERIG_SP        native              unknown         \n",
              "  plant_life_form intercepts_pct\n",
              "1 forb            2.5           \n",
              "2 forb            0.5           \n",
              "3 forb            1.0           \n",
              "4 forb            0.5           "
            ],
            "text/latex": "A data.frame: 4 × 7\n\\begin{tabular}{r|lllllll}\n  & survey\\_ID & grid\\_point & key\\_plant\\_code & plant\\_native\\_status & plant\\_life\\_cycle & plant\\_life\\_form & intercepts\\_pct\\\\\n  & <chr> & <int> & <chr> & <chr> & <chr> & <chr> & <dbl>\\\\\n\\hline\n\t1 & 436 & 1 & HEUCYL  & native & perennial & forb & 2.5\\\\\n\t2 & 436 & 1 & ALLCER  & native & perennial & forb & 0.5\\\\\n\t3 & 436 & 1 & GEUTRI  & native & perennial & forb & 1.0\\\\\n\t4 & 436 & 1 & ERIG\\_SP & native & unknown   & forb & 0.5\\\\\n\\end{tabular}\n",
            "text/markdown": "\nA data.frame: 4 × 7\n\n| <!--/--> | survey_ID &lt;chr&gt; | grid_point &lt;int&gt; | key_plant_code &lt;chr&gt; | plant_native_status &lt;chr&gt; | plant_life_cycle &lt;chr&gt; | plant_life_form &lt;chr&gt; | intercepts_pct &lt;dbl&gt; |\n|---|---|---|---|---|---|---|---|\n| 1 | 436 | 1 | HEUCYL  | native | perennial | forb | 2.5 |\n| 2 | 436 | 1 | ALLCER  | native | perennial | forb | 0.5 |\n| 3 | 436 | 1 | GEUTRI  | native | perennial | forb | 1.0 |\n| 4 | 436 | 1 | ERIG_SP | native | unknown   | forb | 0.5 |\n\n",
            "text/html": [
              "<table>\n",
              "<caption>A data.frame: 4 × 7</caption>\n",
              "<thead>\n",
              "\t<tr><th></th><th scope=col>survey_ID</th><th scope=col>grid_point</th><th scope=col>key_plant_code</th><th scope=col>plant_native_status</th><th scope=col>plant_life_cycle</th><th scope=col>plant_life_form</th><th scope=col>intercepts_pct</th></tr>\n",
              "\t<tr><th></th><th scope=col>&lt;chr&gt;</th><th scope=col>&lt;int&gt;</th><th scope=col>&lt;chr&gt;</th><th scope=col>&lt;chr&gt;</th><th scope=col>&lt;chr&gt;</th><th scope=col>&lt;chr&gt;</th><th scope=col>&lt;dbl&gt;</th></tr>\n",
              "</thead>\n",
              "<tbody>\n",
              "\t<tr><th scope=row>1</th><td>436</td><td>1</td><td>HEUCYL </td><td>native</td><td>perennial</td><td>forb</td><td>2.5</td></tr>\n",
              "\t<tr><th scope=row>2</th><td>436</td><td>1</td><td>ALLCER </td><td>native</td><td>perennial</td><td>forb</td><td>0.5</td></tr>\n",
              "\t<tr><th scope=row>3</th><td>436</td><td>1</td><td>GEUTRI </td><td>native</td><td>perennial</td><td>forb</td><td>1.0</td></tr>\n",
              "\t<tr><th scope=row>4</th><td>436</td><td>1</td><td>ERIG_SP</td><td>native</td><td>unknown  </td><td>forb</td><td>0.5</td></tr>\n",
              "</tbody>\n",
              "</table>\n"
            ]
          },
          "metadata": {
            "tags": []
          }
        }
      ]
    },
    {
      "cell_type": "markdown",
      "metadata": {
        "id": "vwHjDqfcEL_5",
        "colab_type": "text"
      },
      "source": [
        "# Wrangle"
      ]
    },
    {
      "cell_type": "markdown",
      "metadata": {
        "id": "KCzN4z6fHk8l",
        "colab_type": "text"
      },
      "source": [
        "Start with the view vegetation_gridVeg_summaries:gridVeg_plant_intercepts. Remove records where key_plant_code = “NV” (corresponds with key_plant_species = 360)."
      ]
    },
    {
      "cell_type": "code",
      "metadata": {
        "id": "vDf_PdMVDOmx",
        "colab_type": "code",
        "colab": {}
      },
      "source": [
        "df_plant_functional_groups <- df_plant_intercepts %>%\n",
        "  filter(key_plant_code != \"NV\")"
      ],
      "execution_count": 143,
      "outputs": []
    },
    {
      "cell_type": "markdown",
      "metadata": {
        "id": "rFFq-L3VIC_l",
        "colab_type": "text"
      },
      "source": [
        "Recode the levels of plant_life_cycle to simplify them (re-coded values are supplied in the Readme).\n"
      ]
    },
    {
      "cell_type": "code",
      "metadata": {
        "id": "d3LVjH6jDOj-",
        "colab_type": "code",
        "colab": {}
      },
      "source": [
        "df_plant_functional_groups <- df_plant_functional_groups %>%\n",
        "  mutate(plant_life_cycle = ifelse(plant_life_cycle == \"biennial perennial\" |\n",
        "                                   plant_life_cycle == \"annual perennial\" |\n",
        "                                   plant_life_cycle == \"annual biennial perennial\" |\n",
        "                                   plant_life_cycle == \"annual biennial\"\n",
        "                                   , \"multiple\", plant_life_cycle))"
      ],
      "execution_count": 144,
      "outputs": []
    },
    {
      "cell_type": "markdown",
      "metadata": {
        "id": "pS1oSpDXIQ6r",
        "colab_type": "text"
      },
      "source": [
        "Group the data on {survey_ID, plant_native_status, plant_life_cycle, plant_life_form}. Sum the intercepts_pct within each group, and divide the sums by 4 to obtain the detection_rate per 100 intercepts possible. "
      ]
    },
    {
      "cell_type": "code",
      "metadata": {
        "id": "xyylEVh1Ky-y",
        "colab_type": "code",
        "colab": {
          "base_uri": "https://localhost:8080/",
          "height": 204
        },
        "outputId": "7cf5f343-f934-4766-d15b-e948d43f23e3"
      },
      "source": [
        "df_plant_functional_groups %>%\n",
        "  group_by(survey_ID, plant_native_status, plant_life_cycle, plant_life_form) %>%\n",
        "  mutate(detection_rate = sum(intercepts_pct)/4) %>%\n",
        "  head()"
      ],
      "execution_count": 145,
      "outputs": [
        {
          "output_type": "display_data",
          "data": {
            "text/plain": [
              "  survey_ID grid_point key_plant_code plant_native_status plant_life_cycle\n",
              "1 436       1          HEUCYL         native              perennial       \n",
              "2 436       1          ALLCER         native              perennial       \n",
              "3 436       1          GEUTRI         native              perennial       \n",
              "4 436       1          ERIG_SP        native              unknown         \n",
              "5 436       1          ARESER         nonnative           annual          \n",
              "6 436       1          GALAPA         native              annual          \n",
              "  plant_life_form intercepts_pct detection_rate\n",
              "1 forb            2.5            2.125         \n",
              "2 forb            0.5            2.125         \n",
              "3 forb            1.0            2.125         \n",
              "4 forb            0.5            0.125         \n",
              "5 forb            1.0            0.375         \n",
              "6 forb            1.5            0.875         "
            ],
            "text/latex": "A grouped\\_df: 6 × 8\n\\begin{tabular}{llllllll}\n survey\\_ID & grid\\_point & key\\_plant\\_code & plant\\_native\\_status & plant\\_life\\_cycle & plant\\_life\\_form & intercepts\\_pct & detection\\_rate\\\\\n <chr> & <int> & <chr> & <chr> & <chr> & <chr> & <dbl> & <dbl>\\\\\n\\hline\n\t 436 & 1 & HEUCYL  & native    & perennial & forb & 2.5 & 2.125\\\\\n\t 436 & 1 & ALLCER  & native    & perennial & forb & 0.5 & 2.125\\\\\n\t 436 & 1 & GEUTRI  & native    & perennial & forb & 1.0 & 2.125\\\\\n\t 436 & 1 & ERIG\\_SP & native    & unknown   & forb & 0.5 & 0.125\\\\\n\t 436 & 1 & ARESER  & nonnative & annual    & forb & 1.0 & 0.375\\\\\n\t 436 & 1 & GALAPA  & native    & annual    & forb & 1.5 & 0.875\\\\\n\\end{tabular}\n",
            "text/markdown": "\nA grouped_df: 6 × 8\n\n| survey_ID &lt;chr&gt; | grid_point &lt;int&gt; | key_plant_code &lt;chr&gt; | plant_native_status &lt;chr&gt; | plant_life_cycle &lt;chr&gt; | plant_life_form &lt;chr&gt; | intercepts_pct &lt;dbl&gt; | detection_rate &lt;dbl&gt; |\n|---|---|---|---|---|---|---|---|\n| 436 | 1 | HEUCYL  | native    | perennial | forb | 2.5 | 2.125 |\n| 436 | 1 | ALLCER  | native    | perennial | forb | 0.5 | 2.125 |\n| 436 | 1 | GEUTRI  | native    | perennial | forb | 1.0 | 2.125 |\n| 436 | 1 | ERIG_SP | native    | unknown   | forb | 0.5 | 0.125 |\n| 436 | 1 | ARESER  | nonnative | annual    | forb | 1.0 | 0.375 |\n| 436 | 1 | GALAPA  | native    | annual    | forb | 1.5 | 0.875 |\n\n",
            "text/html": [
              "<table>\n",
              "<caption>A grouped_df: 6 × 8</caption>\n",
              "<thead>\n",
              "\t<tr><th scope=col>survey_ID</th><th scope=col>grid_point</th><th scope=col>key_plant_code</th><th scope=col>plant_native_status</th><th scope=col>plant_life_cycle</th><th scope=col>plant_life_form</th><th scope=col>intercepts_pct</th><th scope=col>detection_rate</th></tr>\n",
              "\t<tr><th scope=col>&lt;chr&gt;</th><th scope=col>&lt;int&gt;</th><th scope=col>&lt;chr&gt;</th><th scope=col>&lt;chr&gt;</th><th scope=col>&lt;chr&gt;</th><th scope=col>&lt;chr&gt;</th><th scope=col>&lt;dbl&gt;</th><th scope=col>&lt;dbl&gt;</th></tr>\n",
              "</thead>\n",
              "<tbody>\n",
              "\t<tr><td>436</td><td>1</td><td>HEUCYL </td><td>native   </td><td>perennial</td><td>forb</td><td>2.5</td><td>2.125</td></tr>\n",
              "\t<tr><td>436</td><td>1</td><td>ALLCER </td><td>native   </td><td>perennial</td><td>forb</td><td>0.5</td><td>2.125</td></tr>\n",
              "\t<tr><td>436</td><td>1</td><td>GEUTRI </td><td>native   </td><td>perennial</td><td>forb</td><td>1.0</td><td>2.125</td></tr>\n",
              "\t<tr><td>436</td><td>1</td><td>ERIG_SP</td><td>native   </td><td>unknown  </td><td>forb</td><td>0.5</td><td>0.125</td></tr>\n",
              "\t<tr><td>436</td><td>1</td><td>ARESER </td><td>nonnative</td><td>annual   </td><td>forb</td><td>1.0</td><td>0.375</td></tr>\n",
              "\t<tr><td>436</td><td>1</td><td>GALAPA </td><td>native   </td><td>annual   </td><td>forb</td><td>1.5</td><td>0.875</td></tr>\n",
              "</tbody>\n",
              "</table>\n"
            ]
          },
          "metadata": {
            "tags": []
          }
        }
      ]
    },
    {
      "cell_type": "code",
      "metadata": {
        "id": "YdiUSefAW90P",
        "colab_type": "code",
        "colab": {}
      },
      "source": [
        "df_plant_functional_groups <- df_plant_functional_groups %>%\n",
        "  group_by(survey_ID, plant_native_status, plant_life_cycle, plant_life_form) %>%\n",
        "  mutate(detection_rate = sum(intercepts_pct)/4)"
      ],
      "execution_count": 146,
      "outputs": []
    },
    {
      "cell_type": "markdown",
      "metadata": {
        "id": "PtqafdxaYSYu",
        "colab_type": "text"
      },
      "source": [
        "Then, make sure all combinations of functional groups that are found in the data are represented in each survey_ID. For those groups which were not detected at a survey_ID, fill the detection_rate with 0. The following tables show the categories of functional groups and the full list of all possible combinations."
      ]
    },
    {
      "cell_type": "code",
      "metadata": {
        "id": "bG0J2nMVYF7n",
        "colab_type": "code",
        "colab": {}
      },
      "source": [
        "df_plant_functional_groups <- df_plant_functional_groups %>%\n",
        "  ungroup() %>%\n",
        "  complete(survey_ID, \n",
        "           nesting(plant_native_status, plant_life_cycle, plant_life_form), \n",
        "           fill = list(intercepts_pct = 0, detection_rate = 0))"
      ],
      "execution_count": 147,
      "outputs": []
    },
    {
      "cell_type": "code",
      "metadata": {
        "id": "YSu3Uj-jUkMN",
        "colab_type": "code",
        "colab": {}
      },
      "source": [
        "# create reference matrix to refresh grid_points\n",
        "df_grid_point_ref <- df_plant_intercepts %>%\n",
        "  select(survey_ID, grid_point) %>%\n",
        "  distinct(survey_ID, grid_point)"
      ],
      "execution_count": 158,
      "outputs": []
    },
    {
      "cell_type": "code",
      "metadata": {
        "id": "m2Ak1stHUBT6",
        "colab_type": "code",
        "colab": {
          "base_uri": "https://localhost:8080/",
          "height": 51
        },
        "outputId": "f38d687a-6508-4f69-be7b-b9b618cef3cd"
      },
      "source": [
        "# remove incomplete grid_point and rejoin\n",
        "df_plant_functional_groups <- df_plant_functional_groups %>%\n",
        "  select(!grid_point) %>%\n",
        "  inner_join(df_grid_point_ref)"
      ],
      "execution_count": 142,
      "outputs": [
        {
          "output_type": "stream",
          "text": [
            "Joining, by = \"survey_ID\"\n",
            "\n"
          ],
          "name": "stderr"
        }
      ]
    },
    {
      "cell_type": "code",
      "metadata": {
        "id": "GegMoeCPWoSK",
        "colab_type": "code",
        "colab": {
          "base_uri": "https://localhost:8080/",
          "height": 51
        },
        "outputId": "5be431ea-9973-490b-e9d7-5b234dfff672"
      },
      "source": [
        "df_plant_functional_groups <- df_plant_functional_groups %>%\n",
        "  select(!grid_point) %>%\n",
        "  left_join(df_grid_point_ref)"
      ],
      "execution_count": 161,
      "outputs": [
        {
          "output_type": "stream",
          "text": [
            "Joining, by = \"survey_ID\"\n",
            "\n"
          ],
          "name": "stderr"
        }
      ]
    },
    {
      "cell_type": "code",
      "metadata": {
        "id": "-ejVwEPDiD6s",
        "colab_type": "code",
        "colab": {
          "base_uri": "https://localhost:8080/",
          "height": 133
        },
        "outputId": "737e9d47-bc32-4e44-9f7b-0044e8c397ca"
      },
      "source": [
        "df_plant_functional_groups %>%\n",
        "  select(plant_native_status, plant_life_cycle, plant_life_form) %>%\n",
        "  distinct(plant_native_status, plant_life_cycle, plant_life_form) %>%\n",
        "  count()"
      ],
      "execution_count": 197,
      "outputs": [
        {
          "output_type": "display_data",
          "data": {
            "text/plain": [
              "  n \n",
              "1 25"
            ],
            "text/latex": "A tibble: 1 × 1\n\\begin{tabular}{l}\n n\\\\\n <int>\\\\\n\\hline\n\t 25\\\\\n\\end{tabular}\n",
            "text/markdown": "\nA tibble: 1 × 1\n\n| n &lt;int&gt; |\n|---|\n| 25 |\n\n",
            "text/html": [
              "<table>\n",
              "<caption>A tibble: 1 × 1</caption>\n",
              "<thead>\n",
              "\t<tr><th scope=col>n</th></tr>\n",
              "\t<tr><th scope=col>&lt;int&gt;</th></tr>\n",
              "</thead>\n",
              "<tbody>\n",
              "\t<tr><td>25</td></tr>\n",
              "</tbody>\n",
              "</table>\n"
            ]
          },
          "metadata": {
            "tags": []
          }
        }
      ]
    },
    {
      "cell_type": "code",
      "metadata": {
        "id": "uVnsoyeuKy72",
        "colab_type": "code",
        "colab": {
          "base_uri": "https://localhost:8080/",
          "height": 133
        },
        "outputId": "1a8f9872-b02d-4f74-94ec-c04faeb593e0"
      },
      "source": [
        "df_plant_functional_groups %>%\n",
        "  filter(survey_ID == \"833\") %>%\n",
        "  select(survey_ID, plant_native_status, plant_life_cycle, plant_life_form) %>%\n",
        "  distinct(survey_ID, plant_native_status, plant_life_cycle, plant_life_form) %>%\n",
        "  count()"
      ],
      "execution_count": 196,
      "outputs": [
        {
          "output_type": "display_data",
          "data": {
            "text/plain": [
              "  n \n",
              "1 25"
            ],
            "text/latex": "A tibble: 1 × 1\n\\begin{tabular}{l}\n n\\\\\n <int>\\\\\n\\hline\n\t 25\\\\\n\\end{tabular}\n",
            "text/markdown": "\nA tibble: 1 × 1\n\n| n &lt;int&gt; |\n|---|\n| 25 |\n\n",
            "text/html": [
              "<table>\n",
              "<caption>A tibble: 1 × 1</caption>\n",
              "<thead>\n",
              "\t<tr><th scope=col>n</th></tr>\n",
              "\t<tr><th scope=col>&lt;int&gt;</th></tr>\n",
              "</thead>\n",
              "<tbody>\n",
              "\t<tr><td>25</td></tr>\n",
              "</tbody>\n",
              "</table>\n"
            ]
          },
          "metadata": {
            "tags": []
          }
        }
      ]
    },
    {
      "cell_type": "code",
      "metadata": {
        "id": "jlpM9UNhKy5G",
        "colab_type": "code",
        "colab": {
          "base_uri": "https://localhost:8080/",
          "height": 133
        },
        "outputId": "80d990df-54d7-4307-dd9b-12982984d29d"
      },
      "source": [
        "df_plant_functional_groups %>%\n",
        "  distinct(survey_ID) %>%\n",
        "  count()"
      ],
      "execution_count": 192,
      "outputs": [
        {
          "output_type": "display_data",
          "data": {
            "text/plain": [
              "  n   \n",
              "1 1242"
            ],
            "text/latex": "A tibble: 1 × 1\n\\begin{tabular}{l}\n n\\\\\n <int>\\\\\n\\hline\n\t 1242\\\\\n\\end{tabular}\n",
            "text/markdown": "\nA tibble: 1 × 1\n\n| n &lt;int&gt; |\n|---|\n| 1242 |\n\n",
            "text/html": [
              "<table>\n",
              "<caption>A tibble: 1 × 1</caption>\n",
              "<thead>\n",
              "\t<tr><th scope=col>n</th></tr>\n",
              "\t<tr><th scope=col>&lt;int&gt;</th></tr>\n",
              "</thead>\n",
              "<tbody>\n",
              "\t<tr><td>1242</td></tr>\n",
              "</tbody>\n",
              "</table>\n"
            ]
          },
          "metadata": {
            "tags": []
          }
        }
      ]
    }
  ]
}