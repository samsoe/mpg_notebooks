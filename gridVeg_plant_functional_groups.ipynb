{
  "nbformat": 4,
  "nbformat_minor": 0,
  "metadata": {
    "colab": {
      "name": "gridVeg_plant_functional_groups.ipynb",
      "provenance": [],
      "collapsed_sections": [],
      "include_colab_link": true
    },
    "language_info": {
      "codemirror_mode": "r",
      "file_extension": ".r",
      "mimetype": "text/x-r-source",
      "name": "R",
      "pygments_lexer": "r",
      "version": "3.3.1"
    },
    "kernelspec": {
      "display_name": "R",
      "language": "R",
      "name": "ir"
    }
  },
  "cells": [
    {
      "cell_type": "markdown",
      "metadata": {
        "id": "view-in-github",
        "colab_type": "text"
      },
      "source": [
        "<a href=\"https://colab.research.google.com/github/samsoe/mpg_notebooks/blob/master/gridVeg_plant_functional_groups.ipynb\" target=\"_parent\"><img src=\"https://colab.research.google.com/assets/colab-badge.svg\" alt=\"Open In Colab\"/></a>"
      ]
    },
    {
      "cell_type": "markdown",
      "metadata": {
        "id": "BhOI1uU2Koum",
        "colab_type": "text"
      },
      "source": [
        "# Security"
      ]
    },
    {
      "cell_type": "markdown",
      "metadata": {
        "id": "hgB3r3wvA9Pn",
        "colab_type": "text"
      },
      "source": [
        "* The user must load a `json` file containing the BigQuery API key into the local directory `/content/...`\n",
        "* The user must have a Google Maps API key to enable mapping. \n",
        "   * CAUTION make sure the key is deleted from the current instance of the notebook before sharing"
      ]
    },
    {
      "cell_type": "markdown",
      "metadata": {
        "id": "MnG0ah7OA59c",
        "colab_type": "text"
      },
      "source": [
        "# Tools"
      ]
    },
    {
      "cell_type": "code",
      "metadata": {
        "id": "Y6y4EWeYpVBJ",
        "colab_type": "code",
        "colab": {
          "base_uri": "https://localhost:8080/",
          "height": 224
        },
        "outputId": "50739a87-fbc4-4f8c-9442-ee64fe259d38"
      },
      "source": [
        "library(tidyverse)"
      ],
      "execution_count": 19,
      "outputs": [
        {
          "output_type": "stream",
          "text": [
            "── \u001b[1mAttaching packages\u001b[22m ─────────────────────────────────────── tidyverse 1.3.0 ──\n",
            "\n",
            "\u001b[32m✔\u001b[39m \u001b[34mggplot2\u001b[39m 3.3.2     \u001b[32m✔\u001b[39m \u001b[34mpurrr  \u001b[39m 0.3.4\n",
            "\u001b[32m✔\u001b[39m \u001b[34mtibble \u001b[39m 3.0.1     \u001b[32m✔\u001b[39m \u001b[34mdplyr  \u001b[39m 1.0.0\n",
            "\u001b[32m✔\u001b[39m \u001b[34mtidyr  \u001b[39m 1.1.0     \u001b[32m✔\u001b[39m \u001b[34mstringr\u001b[39m 1.4.0\n",
            "\u001b[32m✔\u001b[39m \u001b[34mreadr  \u001b[39m 1.3.1     \u001b[32m✔\u001b[39m \u001b[34mforcats\u001b[39m 0.5.0\n",
            "\n",
            "── \u001b[1mConflicts\u001b[22m ────────────────────────────────────────── tidyverse_conflicts() ──\n",
            "\u001b[31m✖\u001b[39m \u001b[34mdplyr\u001b[39m::\u001b[32mfilter()\u001b[39m masks \u001b[34mstats\u001b[39m::filter()\n",
            "\u001b[31m✖\u001b[39m \u001b[34mdplyr\u001b[39m::\u001b[32mlag()\u001b[39m    masks \u001b[34mstats\u001b[39m::lag()\n",
            "\n"
          ],
          "name": "stderr"
        }
      ]
    },
    {
      "cell_type": "markdown",
      "metadata": {
        "id": "eUw-It3JBBrQ",
        "colab_type": "text"
      },
      "source": [
        "* Remember that the file containing authorization keys for Big Query must be loaded into the virutual envrionment manually."
      ]
    },
    {
      "cell_type": "code",
      "metadata": {
        "id": "VxYkYhQTKouo",
        "colab_type": "code",
        "colab": {
          "base_uri": "https://localhost:8080/",
          "height": 68
        },
        "outputId": "dd12adaa-5edc-4b2e-b115-9983e7d14606"
      },
      "source": [
        "install.packages(\"bigrquery\")\n",
        "library(bigrquery)"
      ],
      "execution_count": 80,
      "outputs": [
        {
          "output_type": "stream",
          "text": [
            "Installing package into ‘/usr/local/lib/R/site-library’\n",
            "(as ‘lib’ is unspecified)\n",
            "\n"
          ],
          "name": "stderr"
        }
      ]
    },
    {
      "cell_type": "markdown",
      "metadata": {
        "id": "H1I9aQ_SBH3n",
        "colab_type": "text"
      },
      "source": [
        "# Source"
      ]
    },
    {
      "cell_type": "markdown",
      "metadata": {
        "id": "Bfb7MHpGBJMO",
        "colab_type": "text"
      },
      "source": [
        "## Database Connection"
      ]
    },
    {
      "cell_type": "code",
      "metadata": {
        "id": "ihI70_BPKouq",
        "colab_type": "code",
        "colab": {}
      },
      "source": [
        "# BigQuery API Key\n",
        "bq_auth(path = \"/content/mpg-data-warehouse-api_key-master.json\")"
      ],
      "execution_count": 83,
      "outputs": []
    },
    {
      "cell_type": "code",
      "metadata": {
        "id": "8YxL8wHoBNxV",
        "colab_type": "code",
        "colab": {}
      },
      "source": [
        "Sys.setenv(BIGQUERY_TEST_PROJECT = \"mpg-data-warehouse\")"
      ],
      "execution_count": 84,
      "outputs": []
    },
    {
      "cell_type": "code",
      "metadata": {
        "id": "yevfizb5BQXm",
        "colab_type": "code",
        "colab": {}
      },
      "source": [
        "billing <- bq_test_project()"
      ],
      "execution_count": 85,
      "outputs": []
    },
    {
      "cell_type": "markdown",
      "metadata": {
        "id": "JN4Z34yRp2-k",
        "colab_type": "text"
      },
      "source": [
        "### gridVeg_plant_intercepts"
      ]
    },
    {
      "cell_type": "code",
      "metadata": {
        "id": "26UqASAoB2p0",
        "colab_type": "code",
        "colab": {}
      },
      "source": [
        "sql_plant_intercepts <- \n",
        "\"\n",
        "  SELECT \n",
        "    survey_ID,\n",
        "    grid_point,\n",
        "    key_plant_code,\n",
        "    plant_native_status,\n",
        "    plant_life_cycle,\n",
        "    plant_life_form,\n",
        "    intercepts_pct\n",
        "  FROM \n",
        "    `mpg-data-warehouse.vegetation_gridVeg_summaries.gridVeg_plant_intercepts`\n",
        "\""
      ],
      "execution_count": 86,
      "outputs": []
    },
    {
      "cell_type": "code",
      "metadata": {
        "id": "VSXOoJkcB3dn",
        "colab_type": "code",
        "colab": {}
      },
      "source": [
        "bq_plant_intercepts <- bq_project_query(billing, sql_plant_intercepts)"
      ],
      "execution_count": 90,
      "outputs": []
    },
    {
      "cell_type": "code",
      "metadata": {
        "id": "KpZnymzzB5Ms",
        "colab_type": "code",
        "colab": {}
      },
      "source": [
        "tb_plant_intercepts <- bq_table_download(bq_plant_intercepts)"
      ],
      "execution_count": 91,
      "outputs": []
    },
    {
      "cell_type": "code",
      "metadata": {
        "id": "VcoNMCO1B6gY",
        "colab_type": "code",
        "colab": {}
      },
      "source": [
        "df_plant_intercepts <- as.data.frame(tb_plant_intercepts)"
      ],
      "execution_count": 92,
      "outputs": []
    },
    {
      "cell_type": "code",
      "metadata": {
        "id": "hr8IOWZGDOpv",
        "colab_type": "code",
        "colab": {
          "base_uri": "https://localhost:8080/",
          "height": 182
        },
        "outputId": "880f1ec9-efa6-47f8-d840-58ed9baf7903"
      },
      "source": [
        "head(df_plant_intercepts, n=4)"
      ],
      "execution_count": 93,
      "outputs": [
        {
          "output_type": "display_data",
          "data": {
            "text/plain": [
              "  survey_ID grid_point key_plant_code plant_native_status plant_life_cycle\n",
              "1 436       1          HEUCYL         native              perennial       \n",
              "2 436       1          ALLCER         native              perennial       \n",
              "3 436       1          GEUTRI         native              perennial       \n",
              "4 436       1          ERIG_SP        native              unknown         \n",
              "  plant_life_form intercepts_pct\n",
              "1 forb            2.5           \n",
              "2 forb            0.5           \n",
              "3 forb            1.0           \n",
              "4 forb            0.5           "
            ],
            "text/latex": "A data.frame: 4 × 7\n\\begin{tabular}{r|lllllll}\n  & survey\\_ID & grid\\_point & key\\_plant\\_code & plant\\_native\\_status & plant\\_life\\_cycle & plant\\_life\\_form & intercepts\\_pct\\\\\n  & <chr> & <int> & <chr> & <chr> & <chr> & <chr> & <dbl>\\\\\n\\hline\n\t1 & 436 & 1 & HEUCYL  & native & perennial & forb & 2.5\\\\\n\t2 & 436 & 1 & ALLCER  & native & perennial & forb & 0.5\\\\\n\t3 & 436 & 1 & GEUTRI  & native & perennial & forb & 1.0\\\\\n\t4 & 436 & 1 & ERIG\\_SP & native & unknown   & forb & 0.5\\\\\n\\end{tabular}\n",
            "text/markdown": "\nA data.frame: 4 × 7\n\n| <!--/--> | survey_ID &lt;chr&gt; | grid_point &lt;int&gt; | key_plant_code &lt;chr&gt; | plant_native_status &lt;chr&gt; | plant_life_cycle &lt;chr&gt; | plant_life_form &lt;chr&gt; | intercepts_pct &lt;dbl&gt; |\n|---|---|---|---|---|---|---|---|\n| 1 | 436 | 1 | HEUCYL  | native | perennial | forb | 2.5 |\n| 2 | 436 | 1 | ALLCER  | native | perennial | forb | 0.5 |\n| 3 | 436 | 1 | GEUTRI  | native | perennial | forb | 1.0 |\n| 4 | 436 | 1 | ERIG_SP | native | unknown   | forb | 0.5 |\n\n",
            "text/html": [
              "<table>\n",
              "<caption>A data.frame: 4 × 7</caption>\n",
              "<thead>\n",
              "\t<tr><th></th><th scope=col>survey_ID</th><th scope=col>grid_point</th><th scope=col>key_plant_code</th><th scope=col>plant_native_status</th><th scope=col>plant_life_cycle</th><th scope=col>plant_life_form</th><th scope=col>intercepts_pct</th></tr>\n",
              "\t<tr><th></th><th scope=col>&lt;chr&gt;</th><th scope=col>&lt;int&gt;</th><th scope=col>&lt;chr&gt;</th><th scope=col>&lt;chr&gt;</th><th scope=col>&lt;chr&gt;</th><th scope=col>&lt;chr&gt;</th><th scope=col>&lt;dbl&gt;</th></tr>\n",
              "</thead>\n",
              "<tbody>\n",
              "\t<tr><th scope=row>1</th><td>436</td><td>1</td><td>HEUCYL </td><td>native</td><td>perennial</td><td>forb</td><td>2.5</td></tr>\n",
              "\t<tr><th scope=row>2</th><td>436</td><td>1</td><td>ALLCER </td><td>native</td><td>perennial</td><td>forb</td><td>0.5</td></tr>\n",
              "\t<tr><th scope=row>3</th><td>436</td><td>1</td><td>GEUTRI </td><td>native</td><td>perennial</td><td>forb</td><td>1.0</td></tr>\n",
              "\t<tr><th scope=row>4</th><td>436</td><td>1</td><td>ERIG_SP</td><td>native</td><td>unknown  </td><td>forb</td><td>0.5</td></tr>\n",
              "</tbody>\n",
              "</table>\n"
            ]
          },
          "metadata": {
            "tags": []
          }
        }
      ]
    },
    {
      "cell_type": "markdown",
      "metadata": {
        "id": "vwHjDqfcEL_5",
        "colab_type": "text"
      },
      "source": [
        "# Wrangle"
      ]
    },
    {
      "cell_type": "markdown",
      "metadata": {
        "id": "KCzN4z6fHk8l",
        "colab_type": "text"
      },
      "source": [
        "Start with the view vegetation_gridVeg_summaries:gridVeg_plant_intercepts. Remove records where key_plant_code = “NV” (corresponds with key_plant_species = 360)."
      ]
    },
    {
      "cell_type": "code",
      "metadata": {
        "id": "vDf_PdMVDOmx",
        "colab_type": "code",
        "colab": {}
      },
      "source": [
        "df_plant_functional_groups <- df_plant_intercepts %>%\n",
        "  filter(key_plant_code != \"NV\")"
      ],
      "execution_count": 143,
      "outputs": []
    },
    {
      "cell_type": "markdown",
      "metadata": {
        "id": "rFFq-L3VIC_l",
        "colab_type": "text"
      },
      "source": [
        "Recode the levels of plant_life_cycle to simplify them (re-coded values are supplied in the Readme).\n"
      ]
    },
    {
      "cell_type": "code",
      "metadata": {
        "id": "d3LVjH6jDOj-",
        "colab_type": "code",
        "colab": {}
      },
      "source": [
        "df_plant_functional_groups <- df_plant_functional_groups %>%\n",
        "  mutate(plant_life_cycle = ifelse(plant_life_cycle == \"biennial perennial\" |\n",
        "                                   plant_life_cycle == \"annual perennial\" |\n",
        "                                   plant_life_cycle == \"annual biennial perennial\" |\n",
        "                                   plant_life_cycle == \"annual biennial\"\n",
        "                                   , \"multiple\", plant_life_cycle))"
      ],
      "execution_count": 144,
      "outputs": []
    },
    {
      "cell_type": "markdown",
      "metadata": {
        "id": "pS1oSpDXIQ6r",
        "colab_type": "text"
      },
      "source": [
        "Group the data on {survey_ID, plant_native_status, plant_life_cycle, plant_life_form}. Sum the intercepts_pct within each group, and divide the sums by 4 to obtain the detection_rate per 100 intercepts possible. "
      ]
    },
    {
      "cell_type": "code",
      "metadata": {
        "id": "xyylEVh1Ky-y",
        "colab_type": "code",
        "colab": {
          "base_uri": "https://localhost:8080/",
          "height": 204
        },
        "outputId": "7cf5f343-f934-4766-d15b-e948d43f23e3"
      },
      "source": [
        "df_plant_functional_groups %>%\n",
        "  group_by(survey_ID, plant_native_status, plant_life_cycle, plant_life_form) %>%\n",
        "  mutate(detection_rate = sum(intercepts_pct)/4) %>%\n",
        "  head()"
      ],
      "execution_count": 145,
      "outputs": [
        {
          "output_type": "display_data",
          "data": {
            "text/plain": [
              "  survey_ID grid_point key_plant_code plant_native_status plant_life_cycle\n",
              "1 436       1          HEUCYL         native              perennial       \n",
              "2 436       1          ALLCER         native              perennial       \n",
              "3 436       1          GEUTRI         native              perennial       \n",
              "4 436       1          ERIG_SP        native              unknown         \n",
              "5 436       1          ARESER         nonnative           annual          \n",
              "6 436       1          GALAPA         native              annual          \n",
              "  plant_life_form intercepts_pct detection_rate\n",
              "1 forb            2.5            2.125         \n",
              "2 forb            0.5            2.125         \n",
              "3 forb            1.0            2.125         \n",
              "4 forb            0.5            0.125         \n",
              "5 forb            1.0            0.375         \n",
              "6 forb            1.5            0.875         "
            ],
            "text/latex": "A grouped\\_df: 6 × 8\n\\begin{tabular}{llllllll}\n survey\\_ID & grid\\_point & key\\_plant\\_code & plant\\_native\\_status & plant\\_life\\_cycle & plant\\_life\\_form & intercepts\\_pct & detection\\_rate\\\\\n <chr> & <int> & <chr> & <chr> & <chr> & <chr> & <dbl> & <dbl>\\\\\n\\hline\n\t 436 & 1 & HEUCYL  & native    & perennial & forb & 2.5 & 2.125\\\\\n\t 436 & 1 & ALLCER  & native    & perennial & forb & 0.5 & 2.125\\\\\n\t 436 & 1 & GEUTRI  & native    & perennial & forb & 1.0 & 2.125\\\\\n\t 436 & 1 & ERIG\\_SP & native    & unknown   & forb & 0.5 & 0.125\\\\\n\t 436 & 1 & ARESER  & nonnative & annual    & forb & 1.0 & 0.375\\\\\n\t 436 & 1 & GALAPA  & native    & annual    & forb & 1.5 & 0.875\\\\\n\\end{tabular}\n",
            "text/markdown": "\nA grouped_df: 6 × 8\n\n| survey_ID &lt;chr&gt; | grid_point &lt;int&gt; | key_plant_code &lt;chr&gt; | plant_native_status &lt;chr&gt; | plant_life_cycle &lt;chr&gt; | plant_life_form &lt;chr&gt; | intercepts_pct &lt;dbl&gt; | detection_rate &lt;dbl&gt; |\n|---|---|---|---|---|---|---|---|\n| 436 | 1 | HEUCYL  | native    | perennial | forb | 2.5 | 2.125 |\n| 436 | 1 | ALLCER  | native    | perennial | forb | 0.5 | 2.125 |\n| 436 | 1 | GEUTRI  | native    | perennial | forb | 1.0 | 2.125 |\n| 436 | 1 | ERIG_SP | native    | unknown   | forb | 0.5 | 0.125 |\n| 436 | 1 | ARESER  | nonnative | annual    | forb | 1.0 | 0.375 |\n| 436 | 1 | GALAPA  | native    | annual    | forb | 1.5 | 0.875 |\n\n",
            "text/html": [
              "<table>\n",
              "<caption>A grouped_df: 6 × 8</caption>\n",
              "<thead>\n",
              "\t<tr><th scope=col>survey_ID</th><th scope=col>grid_point</th><th scope=col>key_plant_code</th><th scope=col>plant_native_status</th><th scope=col>plant_life_cycle</th><th scope=col>plant_life_form</th><th scope=col>intercepts_pct</th><th scope=col>detection_rate</th></tr>\n",
              "\t<tr><th scope=col>&lt;chr&gt;</th><th scope=col>&lt;int&gt;</th><th scope=col>&lt;chr&gt;</th><th scope=col>&lt;chr&gt;</th><th scope=col>&lt;chr&gt;</th><th scope=col>&lt;chr&gt;</th><th scope=col>&lt;dbl&gt;</th><th scope=col>&lt;dbl&gt;</th></tr>\n",
              "</thead>\n",
              "<tbody>\n",
              "\t<tr><td>436</td><td>1</td><td>HEUCYL </td><td>native   </td><td>perennial</td><td>forb</td><td>2.5</td><td>2.125</td></tr>\n",
              "\t<tr><td>436</td><td>1</td><td>ALLCER </td><td>native   </td><td>perennial</td><td>forb</td><td>0.5</td><td>2.125</td></tr>\n",
              "\t<tr><td>436</td><td>1</td><td>GEUTRI </td><td>native   </td><td>perennial</td><td>forb</td><td>1.0</td><td>2.125</td></tr>\n",
              "\t<tr><td>436</td><td>1</td><td>ERIG_SP</td><td>native   </td><td>unknown  </td><td>forb</td><td>0.5</td><td>0.125</td></tr>\n",
              "\t<tr><td>436</td><td>1</td><td>ARESER </td><td>nonnative</td><td>annual   </td><td>forb</td><td>1.0</td><td>0.375</td></tr>\n",
              "\t<tr><td>436</td><td>1</td><td>GALAPA </td><td>native   </td><td>annual   </td><td>forb</td><td>1.5</td><td>0.875</td></tr>\n",
              "</tbody>\n",
              "</table>\n"
            ]
          },
          "metadata": {
            "tags": []
          }
        }
      ]
    },
    {
      "cell_type": "code",
      "metadata": {
        "id": "YdiUSefAW90P",
        "colab_type": "code",
        "colab": {}
      },
      "source": [
        "df_plant_functional_groups <- df_plant_functional_groups %>%\n",
        "  group_by(survey_ID, plant_native_status, plant_life_cycle, plant_life_form) %>%\n",
        "  mutate(detection_rate = sum(intercepts_pct)/4)"
      ],
      "execution_count": 146,
      "outputs": []
    },
    {
      "cell_type": "markdown",
      "metadata": {
        "id": "PtqafdxaYSYu",
        "colab_type": "text"
      },
      "source": [
        "Then, make sure all combinations of functional groups that are found in the data are represented in each survey_ID. For those groups which were not detected at a survey_ID, fill the detection_rate with 0. The following tables show the categories of functional groups and the full list of all possible combinations."
      ]
    },
    {
      "cell_type": "markdown",
      "metadata": {
        "id": "sarS3aaO9Jh9",
        "colab_type": "text"
      },
      "source": [
        "### Template Survey"
      ]
    },
    {
      "cell_type": "code",
      "metadata": {
        "id": "1_vhoZRQ9QlN",
        "colab_type": "code",
        "colab": {}
      },
      "source": [
        "survey_ID <- c('xxx-xxx', 'xxx-xxx', 'xxx-xxx', 'xxx-xxx', 'xxx-xxx', 'xxx-xxx', 'xxx-xxx', 'xxx-xxx', 'xxx-xxx', 'xxx-xxx', 'xxx-xxx', 'xxx-xxx', 'xxx-xxx', 'xxx-xxx', 'xxx-xxx', 'xxx-xxx', 'xxx-xxx', 'xxx-xxx', 'xxx-xxx', 'xxx-xxx', 'xxx-xxx', 'xxx-xxx', 'xxx-xxx', 'xxx-xxx', 'xxx-xxx', 'xxx-xxx', 'xxx-xxx', 'xxx-xxx', 'xxx-xxx', 'xxx-xxx')\n",
        "grid_point <- c(01234, 01234, 01234, 01234, 01234, 01234, 01234, 01234, 01234, 01234, 01234, 01234, 01234, 01234, 01234, 01234, 01234, 01234, 01234, 01234, 01234, 01234, 01234, 01234, 01234, 01234, 01234, 01234, 01234, 01234)\n",
        "key_plant_code <- c('NA', 'NA', 'NA', 'NA', 'NA', 'NA', 'NA', 'NA', 'NA', 'NA', 'NA', 'NA', 'NA', 'NA', 'NA', 'NA', 'NA', 'NA', 'NA', 'NA', 'NA', 'NA', 'NA', 'NA', 'NA', 'NA', 'NA', 'NA', 'NA', 'NA')\n",
        "plant_native_status <- c('native', 'native', 'native', 'native', 'native', 'native', 'native', 'native', 'native', 'native', 'native', \n",
        "                         'nonnative', 'nonnative', 'nonnative', 'nonnative', 'nonnative', 'nonnative', 'nonnative', 'nonnative', 'nonnative', 'nonnative', 'nonnative', \n",
        "                         'unknown', 'unknown', 'unknown', 'unknown', 'unknown', 'unknown', 'unknown', 'unknown')\n",
        "plant_life_cycle <- c('annual', 'annual', 'biennial', 'multiple', 'multiple', 'perennial', 'perennial', 'perennial', 'perennial', 'perennial', 'unknown', 'annual', 'annual', 'biennial', 'multiple', 'perennial', 'perennial', 'perennial', 'perennial', 'perennial', 'unknown', 'unknown', 'annual', 'perennial', 'perennial', 'unknown', 'unknown', 'unknown', 'unknown', 'unknown')\n",
        "plant_life_form <- c('forb', \n",
        "                     'graminoid', \n",
        "                     'forb', \n",
        "                     'forb', \n",
        "                     'graminoid', \n",
        "                     'forb', \n",
        "                     'graminoid', \n",
        "                     'shrub',\n",
        "                     'tree',\n",
        "                     'vine',\n",
        "                     'forb',\n",
        "                     'forb',\n",
        "                     'graminoid',\n",
        "                     'forb',\n",
        "                     'forb',\n",
        "                     'forb',\n",
        "                     'graminoid',\n",
        "                     'shrub',\n",
        "                     'tree',\n",
        "                     'vine',\n",
        "                     'forb',\n",
        "                     'graminoid',\n",
        "                     'forb',\n",
        "                     'forb',\n",
        "                     'graminoid',\n",
        "                     'forb',\n",
        "                     'graminoid',\n",
        "                     'shrub',\n",
        "                     'tree',\n",
        "                     'unknown')\n",
        "\n",
        "template_survey <- data.frame(survey_ID, grid_point, plant_native_status, plant_life_cycle, plant_life_form)\n",
        "template_survey$intercepts_pct <- 0\n",
        "template_survey$detection_rate <- 0"
      ],
      "execution_count": 28,
      "outputs": []
    },
    {
      "cell_type": "code",
      "metadata": {
        "id": "E_bZbdBM9Qg5",
        "colab_type": "code",
        "colab": {
          "base_uri": "https://localhost:8080/",
          "height": 708
        },
        "outputId": "4c9f7fe3-6aff-4730-8486-348d2747b30a"
      },
      "source": [
        "template_survey"
      ],
      "execution_count": 29,
      "outputs": [
        {
          "output_type": "display_data",
          "data": {
            "text/plain": [
              "   survey_ID grid_point plant_native_status plant_life_cycle plant_life_form\n",
              "1  xxx-xxx   1234       native              annual           forb           \n",
              "2  xxx-xxx   1234       native              annual           graminoid      \n",
              "3  xxx-xxx   1234       native              biennial         forb           \n",
              "4  xxx-xxx   1234       native              multiple         forb           \n",
              "5  xxx-xxx   1234       native              multiple         graminoid      \n",
              "6  xxx-xxx   1234       native              perennial        forb           \n",
              "7  xxx-xxx   1234       native              perennial        graminoid      \n",
              "8  xxx-xxx   1234       native              perennial        shrub          \n",
              "9  xxx-xxx   1234       native              perennial        tree           \n",
              "10 xxx-xxx   1234       native              perennial        vine           \n",
              "11 xxx-xxx   1234       native              unknown          forb           \n",
              "12 xxx-xxx   1234       nonnative           annual           forb           \n",
              "13 xxx-xxx   1234       nonnative           annual           graminoid      \n",
              "14 xxx-xxx   1234       nonnative           biennial         forb           \n",
              "15 xxx-xxx   1234       nonnative           multiple         forb           \n",
              "16 xxx-xxx   1234       nonnative           perennial        forb           \n",
              "17 xxx-xxx   1234       nonnative           perennial        graminoid      \n",
              "18 xxx-xxx   1234       nonnative           perennial        shrub          \n",
              "19 xxx-xxx   1234       nonnative           perennial        tree           \n",
              "20 xxx-xxx   1234       nonnative           perennial        vine           \n",
              "21 xxx-xxx   1234       nonnative           unknown          forb           \n",
              "22 xxx-xxx   1234       nonnative           unknown          graminoid      \n",
              "23 xxx-xxx   1234       unknown             annual           forb           \n",
              "24 xxx-xxx   1234       unknown             perennial        forb           \n",
              "25 xxx-xxx   1234       unknown             perennial        graminoid      \n",
              "26 xxx-xxx   1234       unknown             unknown          forb           \n",
              "27 xxx-xxx   1234       unknown             unknown          graminoid      \n",
              "28 xxx-xxx   1234       unknown             unknown          shrub          \n",
              "29 xxx-xxx   1234       unknown             unknown          tree           \n",
              "30 xxx-xxx   1234       unknown             unknown          unknown        \n",
              "   intercepts_pct detection_rate\n",
              "1  0              0             \n",
              "2  0              0             \n",
              "3  0              0             \n",
              "4  0              0             \n",
              "5  0              0             \n",
              "6  0              0             \n",
              "7  0              0             \n",
              "8  0              0             \n",
              "9  0              0             \n",
              "10 0              0             \n",
              "11 0              0             \n",
              "12 0              0             \n",
              "13 0              0             \n",
              "14 0              0             \n",
              "15 0              0             \n",
              "16 0              0             \n",
              "17 0              0             \n",
              "18 0              0             \n",
              "19 0              0             \n",
              "20 0              0             \n",
              "21 0              0             \n",
              "22 0              0             \n",
              "23 0              0             \n",
              "24 0              0             \n",
              "25 0              0             \n",
              "26 0              0             \n",
              "27 0              0             \n",
              "28 0              0             \n",
              "29 0              0             \n",
              "30 0              0             "
            ],
            "text/latex": "A data.frame: 30 × 7\n\\begin{tabular}{lllllll}\n survey\\_ID & grid\\_point & plant\\_native\\_status & plant\\_life\\_cycle & plant\\_life\\_form & intercepts\\_pct & detection\\_rate\\\\\n <fct> & <dbl> & <fct> & <fct> & <fct> & <dbl> & <dbl>\\\\\n\\hline\n\t xxx-xxx & 1234 & native    & annual    & forb      & 0 & 0\\\\\n\t xxx-xxx & 1234 & native    & annual    & graminoid & 0 & 0\\\\\n\t xxx-xxx & 1234 & native    & biennial  & forb      & 0 & 0\\\\\n\t xxx-xxx & 1234 & native    & multiple  & forb      & 0 & 0\\\\\n\t xxx-xxx & 1234 & native    & multiple  & graminoid & 0 & 0\\\\\n\t xxx-xxx & 1234 & native    & perennial & forb      & 0 & 0\\\\\n\t xxx-xxx & 1234 & native    & perennial & graminoid & 0 & 0\\\\\n\t xxx-xxx & 1234 & native    & perennial & shrub     & 0 & 0\\\\\n\t xxx-xxx & 1234 & native    & perennial & tree      & 0 & 0\\\\\n\t xxx-xxx & 1234 & native    & perennial & vine      & 0 & 0\\\\\n\t xxx-xxx & 1234 & native    & unknown   & forb      & 0 & 0\\\\\n\t xxx-xxx & 1234 & nonnative & annual    & forb      & 0 & 0\\\\\n\t xxx-xxx & 1234 & nonnative & annual    & graminoid & 0 & 0\\\\\n\t xxx-xxx & 1234 & nonnative & biennial  & forb      & 0 & 0\\\\\n\t xxx-xxx & 1234 & nonnative & multiple  & forb      & 0 & 0\\\\\n\t xxx-xxx & 1234 & nonnative & perennial & forb      & 0 & 0\\\\\n\t xxx-xxx & 1234 & nonnative & perennial & graminoid & 0 & 0\\\\\n\t xxx-xxx & 1234 & nonnative & perennial & shrub     & 0 & 0\\\\\n\t xxx-xxx & 1234 & nonnative & perennial & tree      & 0 & 0\\\\\n\t xxx-xxx & 1234 & nonnative & perennial & vine      & 0 & 0\\\\\n\t xxx-xxx & 1234 & nonnative & unknown   & forb      & 0 & 0\\\\\n\t xxx-xxx & 1234 & nonnative & unknown   & graminoid & 0 & 0\\\\\n\t xxx-xxx & 1234 & unknown   & annual    & forb      & 0 & 0\\\\\n\t xxx-xxx & 1234 & unknown   & perennial & forb      & 0 & 0\\\\\n\t xxx-xxx & 1234 & unknown   & perennial & graminoid & 0 & 0\\\\\n\t xxx-xxx & 1234 & unknown   & unknown   & forb      & 0 & 0\\\\\n\t xxx-xxx & 1234 & unknown   & unknown   & graminoid & 0 & 0\\\\\n\t xxx-xxx & 1234 & unknown   & unknown   & shrub     & 0 & 0\\\\\n\t xxx-xxx & 1234 & unknown   & unknown   & tree      & 0 & 0\\\\\n\t xxx-xxx & 1234 & unknown   & unknown   & unknown   & 0 & 0\\\\\n\\end{tabular}\n",
            "text/markdown": "\nA data.frame: 30 × 7\n\n| survey_ID &lt;fct&gt; | grid_point &lt;dbl&gt; | plant_native_status &lt;fct&gt; | plant_life_cycle &lt;fct&gt; | plant_life_form &lt;fct&gt; | intercepts_pct &lt;dbl&gt; | detection_rate &lt;dbl&gt; |\n|---|---|---|---|---|---|---|\n| xxx-xxx | 1234 | native    | annual    | forb      | 0 | 0 |\n| xxx-xxx | 1234 | native    | annual    | graminoid | 0 | 0 |\n| xxx-xxx | 1234 | native    | biennial  | forb      | 0 | 0 |\n| xxx-xxx | 1234 | native    | multiple  | forb      | 0 | 0 |\n| xxx-xxx | 1234 | native    | multiple  | graminoid | 0 | 0 |\n| xxx-xxx | 1234 | native    | perennial | forb      | 0 | 0 |\n| xxx-xxx | 1234 | native    | perennial | graminoid | 0 | 0 |\n| xxx-xxx | 1234 | native    | perennial | shrub     | 0 | 0 |\n| xxx-xxx | 1234 | native    | perennial | tree      | 0 | 0 |\n| xxx-xxx | 1234 | native    | perennial | vine      | 0 | 0 |\n| xxx-xxx | 1234 | native    | unknown   | forb      | 0 | 0 |\n| xxx-xxx | 1234 | nonnative | annual    | forb      | 0 | 0 |\n| xxx-xxx | 1234 | nonnative | annual    | graminoid | 0 | 0 |\n| xxx-xxx | 1234 | nonnative | biennial  | forb      | 0 | 0 |\n| xxx-xxx | 1234 | nonnative | multiple  | forb      | 0 | 0 |\n| xxx-xxx | 1234 | nonnative | perennial | forb      | 0 | 0 |\n| xxx-xxx | 1234 | nonnative | perennial | graminoid | 0 | 0 |\n| xxx-xxx | 1234 | nonnative | perennial | shrub     | 0 | 0 |\n| xxx-xxx | 1234 | nonnative | perennial | tree      | 0 | 0 |\n| xxx-xxx | 1234 | nonnative | perennial | vine      | 0 | 0 |\n| xxx-xxx | 1234 | nonnative | unknown   | forb      | 0 | 0 |\n| xxx-xxx | 1234 | nonnative | unknown   | graminoid | 0 | 0 |\n| xxx-xxx | 1234 | unknown   | annual    | forb      | 0 | 0 |\n| xxx-xxx | 1234 | unknown   | perennial | forb      | 0 | 0 |\n| xxx-xxx | 1234 | unknown   | perennial | graminoid | 0 | 0 |\n| xxx-xxx | 1234 | unknown   | unknown   | forb      | 0 | 0 |\n| xxx-xxx | 1234 | unknown   | unknown   | graminoid | 0 | 0 |\n| xxx-xxx | 1234 | unknown   | unknown   | shrub     | 0 | 0 |\n| xxx-xxx | 1234 | unknown   | unknown   | tree      | 0 | 0 |\n| xxx-xxx | 1234 | unknown   | unknown   | unknown   | 0 | 0 |\n\n",
            "text/html": [
              "<table>\n",
              "<caption>A data.frame: 30 × 7</caption>\n",
              "<thead>\n",
              "\t<tr><th scope=col>survey_ID</th><th scope=col>grid_point</th><th scope=col>plant_native_status</th><th scope=col>plant_life_cycle</th><th scope=col>plant_life_form</th><th scope=col>intercepts_pct</th><th scope=col>detection_rate</th></tr>\n",
              "\t<tr><th scope=col>&lt;fct&gt;</th><th scope=col>&lt;dbl&gt;</th><th scope=col>&lt;fct&gt;</th><th scope=col>&lt;fct&gt;</th><th scope=col>&lt;fct&gt;</th><th scope=col>&lt;dbl&gt;</th><th scope=col>&lt;dbl&gt;</th></tr>\n",
              "</thead>\n",
              "<tbody>\n",
              "\t<tr><td>xxx-xxx</td><td>1234</td><td>native   </td><td>annual   </td><td>forb     </td><td>0</td><td>0</td></tr>\n",
              "\t<tr><td>xxx-xxx</td><td>1234</td><td>native   </td><td>annual   </td><td>graminoid</td><td>0</td><td>0</td></tr>\n",
              "\t<tr><td>xxx-xxx</td><td>1234</td><td>native   </td><td>biennial </td><td>forb     </td><td>0</td><td>0</td></tr>\n",
              "\t<tr><td>xxx-xxx</td><td>1234</td><td>native   </td><td>multiple </td><td>forb     </td><td>0</td><td>0</td></tr>\n",
              "\t<tr><td>xxx-xxx</td><td>1234</td><td>native   </td><td>multiple </td><td>graminoid</td><td>0</td><td>0</td></tr>\n",
              "\t<tr><td>xxx-xxx</td><td>1234</td><td>native   </td><td>perennial</td><td>forb     </td><td>0</td><td>0</td></tr>\n",
              "\t<tr><td>xxx-xxx</td><td>1234</td><td>native   </td><td>perennial</td><td>graminoid</td><td>0</td><td>0</td></tr>\n",
              "\t<tr><td>xxx-xxx</td><td>1234</td><td>native   </td><td>perennial</td><td>shrub    </td><td>0</td><td>0</td></tr>\n",
              "\t<tr><td>xxx-xxx</td><td>1234</td><td>native   </td><td>perennial</td><td>tree     </td><td>0</td><td>0</td></tr>\n",
              "\t<tr><td>xxx-xxx</td><td>1234</td><td>native   </td><td>perennial</td><td>vine     </td><td>0</td><td>0</td></tr>\n",
              "\t<tr><td>xxx-xxx</td><td>1234</td><td>native   </td><td>unknown  </td><td>forb     </td><td>0</td><td>0</td></tr>\n",
              "\t<tr><td>xxx-xxx</td><td>1234</td><td>nonnative</td><td>annual   </td><td>forb     </td><td>0</td><td>0</td></tr>\n",
              "\t<tr><td>xxx-xxx</td><td>1234</td><td>nonnative</td><td>annual   </td><td>graminoid</td><td>0</td><td>0</td></tr>\n",
              "\t<tr><td>xxx-xxx</td><td>1234</td><td>nonnative</td><td>biennial </td><td>forb     </td><td>0</td><td>0</td></tr>\n",
              "\t<tr><td>xxx-xxx</td><td>1234</td><td>nonnative</td><td>multiple </td><td>forb     </td><td>0</td><td>0</td></tr>\n",
              "\t<tr><td>xxx-xxx</td><td>1234</td><td>nonnative</td><td>perennial</td><td>forb     </td><td>0</td><td>0</td></tr>\n",
              "\t<tr><td>xxx-xxx</td><td>1234</td><td>nonnative</td><td>perennial</td><td>graminoid</td><td>0</td><td>0</td></tr>\n",
              "\t<tr><td>xxx-xxx</td><td>1234</td><td>nonnative</td><td>perennial</td><td>shrub    </td><td>0</td><td>0</td></tr>\n",
              "\t<tr><td>xxx-xxx</td><td>1234</td><td>nonnative</td><td>perennial</td><td>tree     </td><td>0</td><td>0</td></tr>\n",
              "\t<tr><td>xxx-xxx</td><td>1234</td><td>nonnative</td><td>perennial</td><td>vine     </td><td>0</td><td>0</td></tr>\n",
              "\t<tr><td>xxx-xxx</td><td>1234</td><td>nonnative</td><td>unknown  </td><td>forb     </td><td>0</td><td>0</td></tr>\n",
              "\t<tr><td>xxx-xxx</td><td>1234</td><td>nonnative</td><td>unknown  </td><td>graminoid</td><td>0</td><td>0</td></tr>\n",
              "\t<tr><td>xxx-xxx</td><td>1234</td><td>unknown  </td><td>annual   </td><td>forb     </td><td>0</td><td>0</td></tr>\n",
              "\t<tr><td>xxx-xxx</td><td>1234</td><td>unknown  </td><td>perennial</td><td>forb     </td><td>0</td><td>0</td></tr>\n",
              "\t<tr><td>xxx-xxx</td><td>1234</td><td>unknown  </td><td>perennial</td><td>graminoid</td><td>0</td><td>0</td></tr>\n",
              "\t<tr><td>xxx-xxx</td><td>1234</td><td>unknown  </td><td>unknown  </td><td>forb     </td><td>0</td><td>0</td></tr>\n",
              "\t<tr><td>xxx-xxx</td><td>1234</td><td>unknown  </td><td>unknown  </td><td>graminoid</td><td>0</td><td>0</td></tr>\n",
              "\t<tr><td>xxx-xxx</td><td>1234</td><td>unknown  </td><td>unknown  </td><td>shrub    </td><td>0</td><td>0</td></tr>\n",
              "\t<tr><td>xxx-xxx</td><td>1234</td><td>unknown  </td><td>unknown  </td><td>tree     </td><td>0</td><td>0</td></tr>\n",
              "\t<tr><td>xxx-xxx</td><td>1234</td><td>unknown  </td><td>unknown  </td><td>unknown  </td><td>0</td><td>0</td></tr>\n",
              "</tbody>\n",
              "</table>\n"
            ]
          },
          "metadata": {
            "tags": []
          }
        }
      ]
    },
    {
      "cell_type": "markdown",
      "metadata": {
        "id": "uF8wGLU39Ruo",
        "colab_type": "text"
      },
      "source": [
        "## Group Fill"
      ]
    },
    {
      "cell_type": "code",
      "metadata": {
        "id": "bG0J2nMVYF7n",
        "colab_type": "code",
        "colab": {}
      },
      "source": [
        "df_plant_functional_groups <- df_plant_functional_groups %>%\n",
        "  ungroup() %>%\n",
        "  complete(survey_ID, \n",
        "           nesting(plant_native_status, plant_life_cycle, plant_life_form), \n",
        "           fill = list(intercepts_pct = 0, detection_rate = 0))"
      ],
      "execution_count": 147,
      "outputs": []
    },
    {
      "cell_type": "code",
      "metadata": {
        "id": "-jn-qiJ-KOV5",
        "colab_type": "code",
        "colab": {}
      },
      "source": [
        ""
      ],
      "execution_count": null,
      "outputs": []
    },
    {
      "cell_type": "code",
      "metadata": {
        "id": "YSu3Uj-jUkMN",
        "colab_type": "code",
        "colab": {}
      },
      "source": [
        "# create reference matrix to refresh grid_points\n",
        "df_grid_point_ref <- df_plant_intercepts %>%\n",
        "  select(survey_ID, grid_point) %>%\n",
        "  distinct(survey_ID, grid_point)"
      ],
      "execution_count": 158,
      "outputs": []
    },
    {
      "cell_type": "code",
      "metadata": {
        "id": "m2Ak1stHUBT6",
        "colab_type": "code",
        "colab": {
          "base_uri": "https://localhost:8080/",
          "height": 51
        },
        "outputId": "f38d687a-6508-4f69-be7b-b9b618cef3cd"
      },
      "source": [
        "# grid_point column now contains NAs remove it\n",
        "df_plant_functional_groups <- df_plant_functional_groups %>%\n",
        "  select(!grid_point) \n",
        "  # %>%\n",
        "  # inner_join(df_grid_point_ref)"
      ],
      "execution_count": 142,
      "outputs": [
        {
          "output_type": "stream",
          "text": [
            "Joining, by = \"survey_ID\"\n",
            "\n"
          ],
          "name": "stderr"
        }
      ]
    },
    {
      "cell_type": "code",
      "metadata": {
        "id": "GegMoeCPWoSK",
        "colab_type": "code",
        "colab": {
          "base_uri": "https://localhost:8080/",
          "height": 51
        },
        "outputId": "5be431ea-9973-490b-e9d7-5b234dfff672"
      },
      "source": [
        "df_plant_functional_groups <- df_plant_functional_groups %>%\n",
        "  select(!grid_point) %>%\n",
        "  left_join(df_grid_point_ref)"
      ],
      "execution_count": 161,
      "outputs": [
        {
          "output_type": "stream",
          "text": [
            "Joining, by = \"survey_ID\"\n",
            "\n"
          ],
          "name": "stderr"
        }
      ]
    },
    {
      "cell_type": "code",
      "metadata": {
        "id": "kQJi9FoXoJXM",
        "colab_type": "code",
        "colab": {
          "base_uri": "https://localhost:8080/",
          "height": 603
        },
        "outputId": "66a5ecab-f5cb-41a1-de43-6cfb05e95593"
      },
      "source": [
        "df_plant_functional_groups %>%\n",
        "  select(plant_native_status, plant_life_cycle, plant_life_form) %>%\n",
        "  distinct(plant_native_status, plant_life_cycle, plant_life_form)"
      ],
      "execution_count": 198,
      "outputs": [
        {
          "output_type": "display_data",
          "data": {
            "text/plain": [
              "   plant_native_status plant_life_cycle plant_life_form\n",
              "1  native              annual           forb           \n",
              "2  native              annual           graminoid      \n",
              "3  native              biennial         forb           \n",
              "4  native              multiple         forb           \n",
              "5  native              multiple         graminoid      \n",
              "6  native              perennial        forb           \n",
              "7  native              perennial        graminoid      \n",
              "8  native              perennial        shrub          \n",
              "9  native              perennial        tree           \n",
              "10 native              perennial        vine           \n",
              "11 native              unknown          forb           \n",
              "12 nonnative           annual           forb           \n",
              "13 nonnative           annual           graminoid      \n",
              "14 nonnative           biennial         forb           \n",
              "15 nonnative           multiple         forb           \n",
              "16 nonnative           perennial        forb           \n",
              "17 nonnative           perennial        graminoid      \n",
              "18 nonnative           perennial        shrub          \n",
              "19 nonnative           perennial        vine           \n",
              "20 nonnative           unknown          forb           \n",
              "21 nonnative           unknown          graminoid      \n",
              "22 unknown             annual           forb           \n",
              "23 unknown             perennial        forb           \n",
              "24 unknown             unknown          forb           \n",
              "25 unknown             unknown          graminoid      "
            ],
            "text/latex": "A tibble: 25 × 3\n\\begin{tabular}{lll}\n plant\\_native\\_status & plant\\_life\\_cycle & plant\\_life\\_form\\\\\n <chr> & <chr> & <chr>\\\\\n\\hline\n\t native    & annual    & forb     \\\\\n\t native    & annual    & graminoid\\\\\n\t native    & biennial  & forb     \\\\\n\t native    & multiple  & forb     \\\\\n\t native    & multiple  & graminoid\\\\\n\t native    & perennial & forb     \\\\\n\t native    & perennial & graminoid\\\\\n\t native    & perennial & shrub    \\\\\n\t native    & perennial & tree     \\\\\n\t native    & perennial & vine     \\\\\n\t native    & unknown   & forb     \\\\\n\t nonnative & annual    & forb     \\\\\n\t nonnative & annual    & graminoid\\\\\n\t nonnative & biennial  & forb     \\\\\n\t nonnative & multiple  & forb     \\\\\n\t nonnative & perennial & forb     \\\\\n\t nonnative & perennial & graminoid\\\\\n\t nonnative & perennial & shrub    \\\\\n\t nonnative & perennial & vine     \\\\\n\t nonnative & unknown   & forb     \\\\\n\t nonnative & unknown   & graminoid\\\\\n\t unknown   & annual    & forb     \\\\\n\t unknown   & perennial & forb     \\\\\n\t unknown   & unknown   & forb     \\\\\n\t unknown   & unknown   & graminoid\\\\\n\\end{tabular}\n",
            "text/markdown": "\nA tibble: 25 × 3\n\n| plant_native_status &lt;chr&gt; | plant_life_cycle &lt;chr&gt; | plant_life_form &lt;chr&gt; |\n|---|---|---|\n| native    | annual    | forb      |\n| native    | annual    | graminoid |\n| native    | biennial  | forb      |\n| native    | multiple  | forb      |\n| native    | multiple  | graminoid |\n| native    | perennial | forb      |\n| native    | perennial | graminoid |\n| native    | perennial | shrub     |\n| native    | perennial | tree      |\n| native    | perennial | vine      |\n| native    | unknown   | forb      |\n| nonnative | annual    | forb      |\n| nonnative | annual    | graminoid |\n| nonnative | biennial  | forb      |\n| nonnative | multiple  | forb      |\n| nonnative | perennial | forb      |\n| nonnative | perennial | graminoid |\n| nonnative | perennial | shrub     |\n| nonnative | perennial | vine      |\n| nonnative | unknown   | forb      |\n| nonnative | unknown   | graminoid |\n| unknown   | annual    | forb      |\n| unknown   | perennial | forb      |\n| unknown   | unknown   | forb      |\n| unknown   | unknown   | graminoid |\n\n",
            "text/html": [
              "<table>\n",
              "<caption>A tibble: 25 × 3</caption>\n",
              "<thead>\n",
              "\t<tr><th scope=col>plant_native_status</th><th scope=col>plant_life_cycle</th><th scope=col>plant_life_form</th></tr>\n",
              "\t<tr><th scope=col>&lt;chr&gt;</th><th scope=col>&lt;chr&gt;</th><th scope=col>&lt;chr&gt;</th></tr>\n",
              "</thead>\n",
              "<tbody>\n",
              "\t<tr><td>native   </td><td>annual   </td><td>forb     </td></tr>\n",
              "\t<tr><td>native   </td><td>annual   </td><td>graminoid</td></tr>\n",
              "\t<tr><td>native   </td><td>biennial </td><td>forb     </td></tr>\n",
              "\t<tr><td>native   </td><td>multiple </td><td>forb     </td></tr>\n",
              "\t<tr><td>native   </td><td>multiple </td><td>graminoid</td></tr>\n",
              "\t<tr><td>native   </td><td>perennial</td><td>forb     </td></tr>\n",
              "\t<tr><td>native   </td><td>perennial</td><td>graminoid</td></tr>\n",
              "\t<tr><td>native   </td><td>perennial</td><td>shrub    </td></tr>\n",
              "\t<tr><td>native   </td><td>perennial</td><td>tree     </td></tr>\n",
              "\t<tr><td>native   </td><td>perennial</td><td>vine     </td></tr>\n",
              "\t<tr><td>native   </td><td>unknown  </td><td>forb     </td></tr>\n",
              "\t<tr><td>nonnative</td><td>annual   </td><td>forb     </td></tr>\n",
              "\t<tr><td>nonnative</td><td>annual   </td><td>graminoid</td></tr>\n",
              "\t<tr><td>nonnative</td><td>biennial </td><td>forb     </td></tr>\n",
              "\t<tr><td>nonnative</td><td>multiple </td><td>forb     </td></tr>\n",
              "\t<tr><td>nonnative</td><td>perennial</td><td>forb     </td></tr>\n",
              "\t<tr><td>nonnative</td><td>perennial</td><td>graminoid</td></tr>\n",
              "\t<tr><td>nonnative</td><td>perennial</td><td>shrub    </td></tr>\n",
              "\t<tr><td>nonnative</td><td>perennial</td><td>vine     </td></tr>\n",
              "\t<tr><td>nonnative</td><td>unknown  </td><td>forb     </td></tr>\n",
              "\t<tr><td>nonnative</td><td>unknown  </td><td>graminoid</td></tr>\n",
              "\t<tr><td>unknown  </td><td>annual   </td><td>forb     </td></tr>\n",
              "\t<tr><td>unknown  </td><td>perennial</td><td>forb     </td></tr>\n",
              "\t<tr><td>unknown  </td><td>unknown  </td><td>forb     </td></tr>\n",
              "\t<tr><td>unknown  </td><td>unknown  </td><td>graminoid</td></tr>\n",
              "</tbody>\n",
              "</table>\n"
            ]
          },
          "metadata": {
            "tags": []
          }
        }
      ]
    },
    {
      "cell_type": "code",
      "metadata": {
        "id": "-ejVwEPDiD6s",
        "colab_type": "code",
        "colab": {
          "base_uri": "https://localhost:8080/",
          "height": 133
        },
        "outputId": "737e9d47-bc32-4e44-9f7b-0044e8c397ca"
      },
      "source": [
        "df_plant_functional_groups %>%\n",
        "  select(plant_native_status, plant_life_cycle, plant_life_form) %>%\n",
        "  distinct(plant_native_status, plant_life_cycle, plant_life_form) %>%\n",
        "  count()"
      ],
      "execution_count": 197,
      "outputs": [
        {
          "output_type": "display_data",
          "data": {
            "text/plain": [
              "  n \n",
              "1 25"
            ],
            "text/latex": "A tibble: 1 × 1\n\\begin{tabular}{l}\n n\\\\\n <int>\\\\\n\\hline\n\t 25\\\\\n\\end{tabular}\n",
            "text/markdown": "\nA tibble: 1 × 1\n\n| n &lt;int&gt; |\n|---|\n| 25 |\n\n",
            "text/html": [
              "<table>\n",
              "<caption>A tibble: 1 × 1</caption>\n",
              "<thead>\n",
              "\t<tr><th scope=col>n</th></tr>\n",
              "\t<tr><th scope=col>&lt;int&gt;</th></tr>\n",
              "</thead>\n",
              "<tbody>\n",
              "\t<tr><td>25</td></tr>\n",
              "</tbody>\n",
              "</table>\n"
            ]
          },
          "metadata": {
            "tags": []
          }
        }
      ]
    },
    {
      "cell_type": "code",
      "metadata": {
        "id": "uVnsoyeuKy72",
        "colab_type": "code",
        "colab": {
          "base_uri": "https://localhost:8080/",
          "height": 133
        },
        "outputId": "1a8f9872-b02d-4f74-94ec-c04faeb593e0"
      },
      "source": [
        "df_plant_functional_groups %>%\n",
        "  filter(survey_ID == \"833\") %>%\n",
        "  select(survey_ID, plant_native_status, plant_life_cycle, plant_life_form) %>%\n",
        "  distinct(survey_ID, plant_native_status, plant_life_cycle, plant_life_form) %>%\n",
        "  count()"
      ],
      "execution_count": 196,
      "outputs": [
        {
          "output_type": "display_data",
          "data": {
            "text/plain": [
              "  n \n",
              "1 25"
            ],
            "text/latex": "A tibble: 1 × 1\n\\begin{tabular}{l}\n n\\\\\n <int>\\\\\n\\hline\n\t 25\\\\\n\\end{tabular}\n",
            "text/markdown": "\nA tibble: 1 × 1\n\n| n &lt;int&gt; |\n|---|\n| 25 |\n\n",
            "text/html": [
              "<table>\n",
              "<caption>A tibble: 1 × 1</caption>\n",
              "<thead>\n",
              "\t<tr><th scope=col>n</th></tr>\n",
              "\t<tr><th scope=col>&lt;int&gt;</th></tr>\n",
              "</thead>\n",
              "<tbody>\n",
              "\t<tr><td>25</td></tr>\n",
              "</tbody>\n",
              "</table>\n"
            ]
          },
          "metadata": {
            "tags": []
          }
        }
      ]
    },
    {
      "cell_type": "code",
      "metadata": {
        "id": "jlpM9UNhKy5G",
        "colab_type": "code",
        "colab": {
          "base_uri": "https://localhost:8080/",
          "height": 133
        },
        "outputId": "80d990df-54d7-4307-dd9b-12982984d29d"
      },
      "source": [
        "df_plant_functional_groups %>%\n",
        "  distinct(survey_ID) %>%\n",
        "  count()"
      ],
      "execution_count": 192,
      "outputs": [
        {
          "output_type": "display_data",
          "data": {
            "text/plain": [
              "  n   \n",
              "1 1242"
            ],
            "text/latex": "A tibble: 1 × 1\n\\begin{tabular}{l}\n n\\\\\n <int>\\\\\n\\hline\n\t 1242\\\\\n\\end{tabular}\n",
            "text/markdown": "\nA tibble: 1 × 1\n\n| n &lt;int&gt; |\n|---|\n| 1242 |\n\n",
            "text/html": [
              "<table>\n",
              "<caption>A tibble: 1 × 1</caption>\n",
              "<thead>\n",
              "\t<tr><th scope=col>n</th></tr>\n",
              "\t<tr><th scope=col>&lt;int&gt;</th></tr>\n",
              "</thead>\n",
              "<tbody>\n",
              "\t<tr><td>1242</td></tr>\n",
              "</tbody>\n",
              "</table>\n"
            ]
          },
          "metadata": {
            "tags": []
          }
        }
      ]
    }
  ]
}