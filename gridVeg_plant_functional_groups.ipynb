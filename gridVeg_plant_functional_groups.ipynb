{
  "nbformat": 4,
  "nbformat_minor": 0,
  "metadata": {
    "colab": {
      "name": "gridVeg_plant_functional_groups.ipynb",
      "provenance": [],
      "collapsed_sections": [],
      "toc_visible": true,
      "include_colab_link": true
    },
    "language_info": {
      "codemirror_mode": "r",
      "file_extension": ".r",
      "mimetype": "text/x-r-source",
      "name": "R",
      "pygments_lexer": "r",
      "version": "3.3.1"
    },
    "kernelspec": {
      "display_name": "R",
      "language": "R",
      "name": "ir"
    }
  },
  "cells": [
    {
      "cell_type": "markdown",
      "metadata": {
        "id": "view-in-github",
        "colab_type": "text"
      },
      "source": [
        "<a href=\"https://colab.research.google.com/github/samsoe/mpg_notebooks/blob/master/gridVeg_plant_functional_groups.ipynb\" target=\"_parent\"><img src=\"https://colab.research.google.com/assets/colab-badge.svg\" alt=\"Open In Colab\"/></a>"
      ]
    },
    {
      "cell_type": "markdown",
      "metadata": {
        "id": "BhOI1uU2Koum",
        "colab_type": "text"
      },
      "source": [
        "# Security"
      ]
    },
    {
      "cell_type": "markdown",
      "metadata": {
        "id": "hgB3r3wvA9Pn",
        "colab_type": "text"
      },
      "source": [
        "* The user must load a `json` file containing the BigQuery API key into the local directory `/content/...`\n",
        "* The user must have a Google Maps API key to enable mapping. \n",
        "   * CAUTION make sure the key is deleted from the current instance of the notebook before sharing"
      ]
    },
    {
      "cell_type": "markdown",
      "metadata": {
        "id": "MnG0ah7OA59c",
        "colab_type": "text"
      },
      "source": [
        "# Tools"
      ]
    },
    {
      "cell_type": "code",
      "metadata": {
        "id": "Y6y4EWeYpVBJ",
        "colab_type": "code",
        "colab": {}
      },
      "source": [
        "library(tidyverse)"
      ],
      "execution_count": null,
      "outputs": []
    },
    {
      "cell_type": "markdown",
      "metadata": {
        "id": "eUw-It3JBBrQ",
        "colab_type": "text"
      },
      "source": [
        "* Remember that the file containing authorization keys for Big Query must be loaded into the virutual envrionment manually."
      ]
    },
    {
      "cell_type": "code",
      "metadata": {
        "id": "VxYkYhQTKouo",
        "colab_type": "code",
        "colab": {}
      },
      "source": [
        "install.packages(\"bigrquery\")\n",
        "library(bigrquery)"
      ],
      "execution_count": null,
      "outputs": []
    },
    {
      "cell_type": "markdown",
      "metadata": {
        "id": "H1I9aQ_SBH3n",
        "colab_type": "text"
      },
      "source": [
        "# Source"
      ]
    },
    {
      "cell_type": "markdown",
      "metadata": {
        "id": "Bfb7MHpGBJMO",
        "colab_type": "text"
      },
      "source": [
        "## Database Connection"
      ]
    },
    {
      "cell_type": "code",
      "metadata": {
        "id": "ihI70_BPKouq",
        "colab_type": "code",
        "colab": {}
      },
      "source": [
        "# BigQuery API Key\n",
        "bq_auth(path = \"/content/mpg-data-warehouse-api_key-master.json\")"
      ],
      "execution_count": null,
      "outputs": []
    },
    {
      "cell_type": "code",
      "metadata": {
        "id": "8YxL8wHoBNxV",
        "colab_type": "code",
        "colab": {}
      },
      "source": [
        "Sys.setenv(BIGQUERY_TEST_PROJECT = \"mpg-data-warehouse\")"
      ],
      "execution_count": null,
      "outputs": []
    },
    {
      "cell_type": "code",
      "metadata": {
        "id": "yevfizb5BQXm",
        "colab_type": "code",
        "colab": {}
      },
      "source": [
        "billing <- bq_test_project()"
      ],
      "execution_count": null,
      "outputs": []
    },
    {
      "cell_type": "markdown",
      "metadata": {
        "id": "JN4Z34yRp2-k",
        "colab_type": "text"
      },
      "source": [
        "### gridVeg_plant_intercepts"
      ]
    },
    {
      "cell_type": "code",
      "metadata": {
        "id": "26UqASAoB2p0",
        "colab_type": "code",
        "colab": {}
      },
      "source": [
        "sql_plant_intercepts <- \n",
        "\"\n",
        "  SELECT \n",
        "    survey_ID,\n",
        "    grid_point,\n",
        "    key_plant_code,\n",
        "    plant_native_status,\n",
        "    plant_life_cycle,\n",
        "    plant_life_form,\n",
        "    intercepts_pct\n",
        "  FROM \n",
        "    `mpg-data-warehouse.vegetation_gridVeg_summaries.gridVeg_plant_intercepts`\n",
        "\""
      ],
      "execution_count": null,
      "outputs": []
    },
    {
      "cell_type": "code",
      "metadata": {
        "id": "VSXOoJkcB3dn",
        "colab_type": "code",
        "colab": {}
      },
      "source": [
        "bq_plant_intercepts <- bq_project_query(billing, sql_plant_intercepts)"
      ],
      "execution_count": null,
      "outputs": []
    },
    {
      "cell_type": "code",
      "metadata": {
        "id": "KpZnymzzB5Ms",
        "colab_type": "code",
        "colab": {}
      },
      "source": [
        "tb_plant_intercepts <- bq_table_download(bq_plant_intercepts)"
      ],
      "execution_count": null,
      "outputs": []
    },
    {
      "cell_type": "code",
      "metadata": {
        "id": "VcoNMCO1B6gY",
        "colab_type": "code",
        "colab": {}
      },
      "source": [
        "df_plant_intercepts <- as.data.frame(tb_plant_intercepts)"
      ],
      "execution_count": null,
      "outputs": []
    },
    {
      "cell_type": "code",
      "metadata": {
        "id": "hr8IOWZGDOpv",
        "colab_type": "code",
        "colab": {
          "base_uri": "https://localhost:8080/",
          "height": 162
        },
        "outputId": "bec5b2fe-765f-400f-8852-6cff5bd790d6"
      },
      "source": [
        "head(df_plant_intercepts, n=4)"
      ],
      "execution_count": null,
      "outputs": [
        {
          "output_type": "display_data",
          "data": {
            "text/plain": [
              "  survey_ID grid_point key_plant_code plant_native_status plant_life_cycle\n",
              "1 436       1          HEUCYL         native              perennial       \n",
              "2 436       1          ALLCER         native              perennial       \n",
              "3 436       1          GEUTRI         native              perennial       \n",
              "4 436       1          ERIG_SP        native              unknown         \n",
              "  plant_life_form intercepts_pct\n",
              "1 forb            2.5           \n",
              "2 forb            0.5           \n",
              "3 forb            1.0           \n",
              "4 forb            0.5           "
            ],
            "text/latex": "A data.frame: 4 × 7\n\\begin{tabular}{r|lllllll}\n  & survey\\_ID & grid\\_point & key\\_plant\\_code & plant\\_native\\_status & plant\\_life\\_cycle & plant\\_life\\_form & intercepts\\_pct\\\\\n  & <chr> & <int> & <chr> & <chr> & <chr> & <chr> & <dbl>\\\\\n\\hline\n\t1 & 436 & 1 & HEUCYL  & native & perennial & forb & 2.5\\\\\n\t2 & 436 & 1 & ALLCER  & native & perennial & forb & 0.5\\\\\n\t3 & 436 & 1 & GEUTRI  & native & perennial & forb & 1.0\\\\\n\t4 & 436 & 1 & ERIG\\_SP & native & unknown   & forb & 0.5\\\\\n\\end{tabular}\n",
            "text/markdown": "\nA data.frame: 4 × 7\n\n| <!--/--> | survey_ID &lt;chr&gt; | grid_point &lt;int&gt; | key_plant_code &lt;chr&gt; | plant_native_status &lt;chr&gt; | plant_life_cycle &lt;chr&gt; | plant_life_form &lt;chr&gt; | intercepts_pct &lt;dbl&gt; |\n|---|---|---|---|---|---|---|---|\n| 1 | 436 | 1 | HEUCYL  | native | perennial | forb | 2.5 |\n| 2 | 436 | 1 | ALLCER  | native | perennial | forb | 0.5 |\n| 3 | 436 | 1 | GEUTRI  | native | perennial | forb | 1.0 |\n| 4 | 436 | 1 | ERIG_SP | native | unknown   | forb | 0.5 |\n\n",
            "text/html": [
              "<table>\n",
              "<caption>A data.frame: 4 × 7</caption>\n",
              "<thead>\n",
              "\t<tr><th></th><th scope=col>survey_ID</th><th scope=col>grid_point</th><th scope=col>key_plant_code</th><th scope=col>plant_native_status</th><th scope=col>plant_life_cycle</th><th scope=col>plant_life_form</th><th scope=col>intercepts_pct</th></tr>\n",
              "\t<tr><th></th><th scope=col>&lt;chr&gt;</th><th scope=col>&lt;int&gt;</th><th scope=col>&lt;chr&gt;</th><th scope=col>&lt;chr&gt;</th><th scope=col>&lt;chr&gt;</th><th scope=col>&lt;chr&gt;</th><th scope=col>&lt;dbl&gt;</th></tr>\n",
              "</thead>\n",
              "<tbody>\n",
              "\t<tr><th scope=row>1</th><td>436</td><td>1</td><td>HEUCYL </td><td>native</td><td>perennial</td><td>forb</td><td>2.5</td></tr>\n",
              "\t<tr><th scope=row>2</th><td>436</td><td>1</td><td>ALLCER </td><td>native</td><td>perennial</td><td>forb</td><td>0.5</td></tr>\n",
              "\t<tr><th scope=row>3</th><td>436</td><td>1</td><td>GEUTRI </td><td>native</td><td>perennial</td><td>forb</td><td>1.0</td></tr>\n",
              "\t<tr><th scope=row>4</th><td>436</td><td>1</td><td>ERIG_SP</td><td>native</td><td>unknown  </td><td>forb</td><td>0.5</td></tr>\n",
              "</tbody>\n",
              "</table>\n"
            ]
          },
          "metadata": {
            "tags": []
          }
        }
      ]
    },
    {
      "cell_type": "code",
      "metadata": {
        "id": "tOozlLDbuC9U",
        "colab_type": "code",
        "colab": {
          "base_uri": "https://localhost:8080/",
          "height": 133
        },
        "outputId": "01a6f83c-a6a3-4a63-ee3e-6de73a9a9f5f"
      },
      "source": [
        "df_plant_intercepts %>%\n",
        "  distinct(survey_ID) %>%\n",
        "  count()"
      ],
      "execution_count": null,
      "outputs": [
        {
          "output_type": "display_data",
          "data": {
            "text/plain": [
              "  n   \n",
              "1 1244"
            ],
            "text/latex": "A data.frame: 1 × 1\n\\begin{tabular}{l}\n n\\\\\n <int>\\\\\n\\hline\n\t 1244\\\\\n\\end{tabular}\n",
            "text/markdown": "\nA data.frame: 1 × 1\n\n| n &lt;int&gt; |\n|---|\n| 1244 |\n\n",
            "text/html": [
              "<table>\n",
              "<caption>A data.frame: 1 × 1</caption>\n",
              "<thead>\n",
              "\t<tr><th scope=col>n</th></tr>\n",
              "\t<tr><th scope=col>&lt;int&gt;</th></tr>\n",
              "</thead>\n",
              "<tbody>\n",
              "\t<tr><td>1244</td></tr>\n",
              "</tbody>\n",
              "</table>\n"
            ]
          },
          "metadata": {
            "tags": []
          }
        }
      ]
    },
    {
      "cell_type": "markdown",
      "metadata": {
        "id": "vwHjDqfcEL_5",
        "colab_type": "text"
      },
      "source": [
        "# Wrangle"
      ]
    },
    {
      "cell_type": "markdown",
      "metadata": {
        "id": "KCzN4z6fHk8l",
        "colab_type": "text"
      },
      "source": [
        "Start with the view vegetation_gridVeg_summaries:gridVeg_plant_intercepts. Remove records where key_plant_code = “NV” (corresponds with key_plant_species = 360)."
      ]
    },
    {
      "cell_type": "code",
      "metadata": {
        "id": "vDf_PdMVDOmx",
        "colab_type": "code",
        "colab": {}
      },
      "source": [
        "df_plant_functional_groups <- df_plant_intercepts %>%\n",
        "  filter(key_plant_code != \"NV\")"
      ],
      "execution_count": null,
      "outputs": []
    },
    {
      "cell_type": "code",
      "metadata": {
        "id": "FCBLKCkBu7Ve",
        "colab_type": "code",
        "colab": {}
      },
      "source": [
        "df_plant_intercepts %>%\n",
        "  filter(key_plant_code == \"NV\")"
      ],
      "execution_count": null,
      "outputs": []
    },
    {
      "cell_type": "code",
      "metadata": {
        "id": "1k1_4tMTuMI5",
        "colab_type": "code",
        "colab": {
          "base_uri": "https://localhost:8080/",
          "height": 133
        },
        "outputId": "483d2f5d-17e2-4d50-c056-8e78baa3f9da"
      },
      "source": [
        "# check unique survey IDs\n",
        "df_plant_functional_groups %>%\n",
        "  distinct(survey_ID) %>%\n",
        "  count()"
      ],
      "execution_count": null,
      "outputs": [
        {
          "output_type": "display_data",
          "data": {
            "text/plain": [
              "  n   \n",
              "1 1242"
            ],
            "text/latex": "A data.frame: 1 × 1\n\\begin{tabular}{l}\n n\\\\\n <int>\\\\\n\\hline\n\t 1242\\\\\n\\end{tabular}\n",
            "text/markdown": "\nA data.frame: 1 × 1\n\n| n &lt;int&gt; |\n|---|\n| 1242 |\n\n",
            "text/html": [
              "<table>\n",
              "<caption>A data.frame: 1 × 1</caption>\n",
              "<thead>\n",
              "\t<tr><th scope=col>n</th></tr>\n",
              "\t<tr><th scope=col>&lt;int&gt;</th></tr>\n",
              "</thead>\n",
              "<tbody>\n",
              "\t<tr><td>1242</td></tr>\n",
              "</tbody>\n",
              "</table>\n"
            ]
          },
          "metadata": {
            "tags": []
          }
        }
      ]
    },
    {
      "cell_type": "markdown",
      "metadata": {
        "id": "rFFq-L3VIC_l",
        "colab_type": "text"
      },
      "source": [
        "Recode the levels of plant_life_cycle to simplify them (re-coded values are supplied in the Readme).\n"
      ]
    },
    {
      "cell_type": "code",
      "metadata": {
        "id": "d3LVjH6jDOj-",
        "colab_type": "code",
        "colab": {}
      },
      "source": [
        "df_plant_functional_groups <- df_plant_functional_groups %>%\n",
        "  mutate(plant_life_cycle = ifelse(plant_life_cycle == \"biennial perennial\" |\n",
        "                                   plant_life_cycle == \"annual perennial\" |\n",
        "                                   plant_life_cycle == \"annual biennial perennial\" |\n",
        "                                   plant_life_cycle == \"annual biennial\"\n",
        "                                   , \"multiple\", plant_life_cycle))"
      ],
      "execution_count": null,
      "outputs": []
    },
    {
      "cell_type": "markdown",
      "metadata": {
        "id": "pS1oSpDXIQ6r",
        "colab_type": "text"
      },
      "source": [
        "Group the data on {survey_ID, plant_native_status, plant_life_cycle, plant_life_form}. Sum the intercepts_pct within each group, and divide the sums by 4 to obtain the detection_rate per 100 intercepts possible. "
      ]
    },
    {
      "cell_type": "code",
      "metadata": {
        "id": "xyylEVh1Ky-y",
        "colab_type": "code",
        "colab": {
          "base_uri": "https://localhost:8080/",
          "height": 363
        },
        "outputId": "cb786192-b527-471a-ff8c-f4d132c9a6fe"
      },
      "source": [
        "df_plant_functional_groups %>%\n",
        "  group_by(survey_ID, plant_native_status, plant_life_cycle, plant_life_form) %>%\n",
        "  summarise(intercepts_pct_sum = sum(intercepts_pct), detection_rate = sum(intercepts_pct)/4) %>%\n",
        "  filter(survey_ID == \"436\")"
      ],
      "execution_count": null,
      "outputs": [
        {
          "output_type": "stream",
          "text": [
            "`summarise()` regrouping output by 'survey_ID', 'plant_native_status', 'plant_life_cycle' (override with `.groups` argument)\n",
            "\n"
          ],
          "name": "stderr"
        },
        {
          "output_type": "display_data",
          "data": {
            "text/plain": [
              "   survey_ID plant_native_status plant_life_cycle plant_life_form\n",
              "1  436       native              annual           forb           \n",
              "2  436       native              multiple         forb           \n",
              "3  436       native              perennial        forb           \n",
              "4  436       native              perennial        graminoid      \n",
              "5  436       native              perennial        shrub          \n",
              "6  436       native              perennial        tree           \n",
              "7  436       native              unknown          forb           \n",
              "8  436       nonnative           annual           forb           \n",
              "9  436       nonnative           annual           graminoid      \n",
              "10 436       nonnative           multiple         forb           \n",
              "11 436       nonnative           perennial        forb           \n",
              "   intercepts_pct_sum detection_rate\n",
              "1   3.5                0.875        \n",
              "2   1.0                0.250        \n",
              "3   8.5                2.125        \n",
              "4  44.5               11.125        \n",
              "5  10.5                2.625        \n",
              "6   2.0                0.500        \n",
              "7   0.5                0.125        \n",
              "8   1.5                0.375        \n",
              "9   5.5                1.375        \n",
              "10  1.0                0.250        \n",
              "11  0.5                0.125        "
            ],
            "text/latex": "A grouped\\_df: 11 × 6\n\\begin{tabular}{llllll}\n survey\\_ID & plant\\_native\\_status & plant\\_life\\_cycle & plant\\_life\\_form & intercepts\\_pct\\_sum & detection\\_rate\\\\\n <chr> & <chr> & <chr> & <chr> & <dbl> & <dbl>\\\\\n\\hline\n\t 436 & native    & annual    & forb      &  3.5 &  0.875\\\\\n\t 436 & native    & multiple  & forb      &  1.0 &  0.250\\\\\n\t 436 & native    & perennial & forb      &  8.5 &  2.125\\\\\n\t 436 & native    & perennial & graminoid & 44.5 & 11.125\\\\\n\t 436 & native    & perennial & shrub     & 10.5 &  2.625\\\\\n\t 436 & native    & perennial & tree      &  2.0 &  0.500\\\\\n\t 436 & native    & unknown   & forb      &  0.5 &  0.125\\\\\n\t 436 & nonnative & annual    & forb      &  1.5 &  0.375\\\\\n\t 436 & nonnative & annual    & graminoid &  5.5 &  1.375\\\\\n\t 436 & nonnative & multiple  & forb      &  1.0 &  0.250\\\\\n\t 436 & nonnative & perennial & forb      &  0.5 &  0.125\\\\\n\\end{tabular}\n",
            "text/markdown": "\nA grouped_df: 11 × 6\n\n| survey_ID &lt;chr&gt; | plant_native_status &lt;chr&gt; | plant_life_cycle &lt;chr&gt; | plant_life_form &lt;chr&gt; | intercepts_pct_sum &lt;dbl&gt; | detection_rate &lt;dbl&gt; |\n|---|---|---|---|---|---|\n| 436 | native    | annual    | forb      |  3.5 |  0.875 |\n| 436 | native    | multiple  | forb      |  1.0 |  0.250 |\n| 436 | native    | perennial | forb      |  8.5 |  2.125 |\n| 436 | native    | perennial | graminoid | 44.5 | 11.125 |\n| 436 | native    | perennial | shrub     | 10.5 |  2.625 |\n| 436 | native    | perennial | tree      |  2.0 |  0.500 |\n| 436 | native    | unknown   | forb      |  0.5 |  0.125 |\n| 436 | nonnative | annual    | forb      |  1.5 |  0.375 |\n| 436 | nonnative | annual    | graminoid |  5.5 |  1.375 |\n| 436 | nonnative | multiple  | forb      |  1.0 |  0.250 |\n| 436 | nonnative | perennial | forb      |  0.5 |  0.125 |\n\n",
            "text/html": [
              "<table>\n",
              "<caption>A grouped_df: 11 × 6</caption>\n",
              "<thead>\n",
              "\t<tr><th scope=col>survey_ID</th><th scope=col>plant_native_status</th><th scope=col>plant_life_cycle</th><th scope=col>plant_life_form</th><th scope=col>intercepts_pct_sum</th><th scope=col>detection_rate</th></tr>\n",
              "\t<tr><th scope=col>&lt;chr&gt;</th><th scope=col>&lt;chr&gt;</th><th scope=col>&lt;chr&gt;</th><th scope=col>&lt;chr&gt;</th><th scope=col>&lt;dbl&gt;</th><th scope=col>&lt;dbl&gt;</th></tr>\n",
              "</thead>\n",
              "<tbody>\n",
              "\t<tr><td>436</td><td>native   </td><td>annual   </td><td>forb     </td><td> 3.5</td><td> 0.875</td></tr>\n",
              "\t<tr><td>436</td><td>native   </td><td>multiple </td><td>forb     </td><td> 1.0</td><td> 0.250</td></tr>\n",
              "\t<tr><td>436</td><td>native   </td><td>perennial</td><td>forb     </td><td> 8.5</td><td> 2.125</td></tr>\n",
              "\t<tr><td>436</td><td>native   </td><td>perennial</td><td>graminoid</td><td>44.5</td><td>11.125</td></tr>\n",
              "\t<tr><td>436</td><td>native   </td><td>perennial</td><td>shrub    </td><td>10.5</td><td> 2.625</td></tr>\n",
              "\t<tr><td>436</td><td>native   </td><td>perennial</td><td>tree     </td><td> 2.0</td><td> 0.500</td></tr>\n",
              "\t<tr><td>436</td><td>native   </td><td>unknown  </td><td>forb     </td><td> 0.5</td><td> 0.125</td></tr>\n",
              "\t<tr><td>436</td><td>nonnative</td><td>annual   </td><td>forb     </td><td> 1.5</td><td> 0.375</td></tr>\n",
              "\t<tr><td>436</td><td>nonnative</td><td>annual   </td><td>graminoid</td><td> 5.5</td><td> 1.375</td></tr>\n",
              "\t<tr><td>436</td><td>nonnative</td><td>multiple </td><td>forb     </td><td> 1.0</td><td> 0.250</td></tr>\n",
              "\t<tr><td>436</td><td>nonnative</td><td>perennial</td><td>forb     </td><td> 0.5</td><td> 0.125</td></tr>\n",
              "</tbody>\n",
              "</table>\n"
            ]
          },
          "metadata": {
            "tags": []
          }
        }
      ]
    },
    {
      "cell_type": "code",
      "metadata": {
        "id": "YdiUSefAW90P",
        "colab_type": "code",
        "colab": {}
      },
      "source": [
        "df_plant_functional_groups <- df_plant_functional_groups %>%\n",
        "  group_by(survey_ID, plant_native_status, plant_life_cycle, plant_life_form) %>%\n",
        "  summarise(intercepts_pct_sum = sum(intercepts_pct), detection_rate = sum(intercepts_pct)/4)"
      ],
      "execution_count": null,
      "outputs": []
    },
    {
      "cell_type": "code",
      "metadata": {
        "id": "ipPZuZf1zqaL",
        "colab_type": "code",
        "colab": {
          "base_uri": "https://localhost:8080/",
          "height": 170
        },
        "outputId": "6b743b09-7598-4ed8-eb39-a6588175ddba"
      },
      "source": [
        "df_plant_functional_groups %>% glimpse()"
      ],
      "execution_count": null,
      "outputs": [
        {
          "output_type": "stream",
          "text": [
            "Rows: 9,015\n",
            "Columns: 6\n",
            "Groups: survey_ID, plant_native_status, plant_life_cycle [5,560]\n",
            "$ survey_ID           \u001b[3m\u001b[90m<chr>\u001b[39m\u001b[23m \"012C5FAD-2451-41B0-9E2F-432D1ECEB55C\", \"012C5FAD…\n",
            "$ plant_native_status \u001b[3m\u001b[90m<chr>\u001b[39m\u001b[23m \"native\", \"native\", \"native\", \"native\", \"native\",…\n",
            "$ plant_life_cycle    \u001b[3m\u001b[90m<chr>\u001b[39m\u001b[23m \"annual\", \"multiple\", \"perennial\", \"perennial\", \"…\n",
            "$ plant_life_form     \u001b[3m\u001b[90m<chr>\u001b[39m\u001b[23m \"forb\", \"forb\", \"forb\", \"graminoid\", \"shrub\", \"fo…\n",
            "$ intercepts_pct_sum  \u001b[3m\u001b[90m<dbl>\u001b[39m\u001b[23m 6.5, 1.0, 14.5, 5.0, 8.5, 5.0, 46.0, 15.0, 25.0, …\n",
            "$ detection_rate      \u001b[3m\u001b[90m<dbl>\u001b[39m\u001b[23m 1.625, 0.250, 3.625, 1.250, 2.125, 1.250, 11.500,…\n"
          ],
          "name": "stdout"
        }
      ]
    },
    {
      "cell_type": "markdown",
      "metadata": {
        "id": "PtqafdxaYSYu",
        "colab_type": "text"
      },
      "source": [
        "Then, make sure all combinations of functional groups that are found in the data are represented in each survey_ID. For those groups which were not detected at a survey_ID, fill the detection_rate with 0. The following tables show the categories of functional groups and the full list of all possible combinations."
      ]
    },
    {
      "cell_type": "markdown",
      "metadata": {
        "id": "sarS3aaO9Jh9",
        "colab_type": "text"
      },
      "source": [
        "### Template Survey"
      ]
    },
    {
      "cell_type": "code",
      "metadata": {
        "id": "1_vhoZRQ9QlN",
        "colab_type": "code",
        "colab": {}
      },
      "source": [
        "survey_ID <- c('xxx-xxx', 'xxx-xxx', 'xxx-xxx', 'xxx-xxx', 'xxx-xxx', 'xxx-xxx', 'xxx-xxx', 'xxx-xxx', 'xxx-xxx', 'xxx-xxx', 'xxx-xxx', 'xxx-xxx', 'xxx-xxx', 'xxx-xxx', 'xxx-xxx', 'xxx-xxx', 'xxx-xxx', 'xxx-xxx', 'xxx-xxx', 'xxx-xxx', 'xxx-xxx', 'xxx-xxx', 'xxx-xxx', 'xxx-xxx', 'xxx-xxx', 'xxx-xxx', 'xxx-xxx', 'xxx-xxx', 'xxx-xxx', 'xxx-xxx')\n",
        "grid_point <- c(01234, 01234, 01234, 01234, 01234, 01234, 01234, 01234, 01234, 01234, 01234, 01234, 01234, 01234, 01234, 01234, 01234, 01234, 01234, 01234, 01234, 01234, 01234, 01234, 01234, 01234, 01234, 01234, 01234, 01234)\n",
        "key_plant_code <- c('NA', 'NA', 'NA', 'NA', 'NA', 'NA', 'NA', 'NA', 'NA', 'NA', 'NA', 'NA', 'NA', 'NA', 'NA', 'NA', 'NA', 'NA', 'NA', 'NA', 'NA', 'NA', 'NA', 'NA', 'NA', 'NA', 'NA', 'NA', 'NA', 'NA')\n",
        "plant_native_status <- c('native', 'native', 'native', 'native', 'native', 'native', 'native', 'native', 'native', 'native', 'native', \n",
        "                         'nonnative', 'nonnative', 'nonnative', 'nonnative', 'nonnative', 'nonnative', 'nonnative', 'nonnative', 'nonnative', 'nonnative', 'nonnative', \n",
        "                         'unknown', 'unknown', 'unknown', 'unknown', 'unknown', 'unknown', 'unknown', 'unknown')\n",
        "plant_life_cycle <- c('annual', 'annual', 'biennial', 'multiple', 'multiple', 'perennial', 'perennial', 'perennial', 'perennial', 'perennial', 'unknown', 'annual', 'annual', 'biennial', 'multiple', 'perennial', 'perennial', 'perennial', 'perennial', 'perennial', 'unknown', 'unknown', 'annual', 'perennial', 'perennial', 'unknown', 'unknown', 'unknown', 'unknown', 'unknown')\n",
        "plant_life_form <- c('forb', \n",
        "                     'graminoid', \n",
        "                     'forb', \n",
        "                     'forb', \n",
        "                     'graminoid', \n",
        "                     'forb', \n",
        "                     'graminoid', \n",
        "                     'shrub',\n",
        "                     'tree',\n",
        "                     'vine',\n",
        "                     'forb',\n",
        "                     'forb',\n",
        "                     'graminoid',\n",
        "                     'forb',\n",
        "                     'forb',\n",
        "                     'forb',\n",
        "                     'graminoid',\n",
        "                     'shrub',\n",
        "                     'tree',\n",
        "                     'vine',\n",
        "                     'forb',\n",
        "                     'graminoid',\n",
        "                     'forb',\n",
        "                     'forb',\n",
        "                     'graminoid',\n",
        "                     'forb',\n",
        "                     'graminoid',\n",
        "                     'shrub',\n",
        "                     'tree',\n",
        "                     'unknown')\n",
        "\n",
        "template_survey <- data.frame(survey_ID, grid_point, plant_native_status, plant_life_cycle, plant_life_form)\n",
        "template_survey$intercepts_pct <- 0\n",
        "template_survey$detection_rate <- 0"
      ],
      "execution_count": null,
      "outputs": []
    },
    {
      "cell_type": "code",
      "metadata": {
        "id": "E_bZbdBM9Qg5",
        "colab_type": "code",
        "colab": {
          "base_uri": "https://localhost:8080/",
          "height": 708
        },
        "outputId": "a6bb1bae-9b31-485d-a3ce-703497f7d6ff"
      },
      "source": [
        "template_survey"
      ],
      "execution_count": null,
      "outputs": [
        {
          "output_type": "display_data",
          "data": {
            "text/plain": [
              "   survey_ID grid_point plant_native_status plant_life_cycle plant_life_form\n",
              "1  xxx-xxx   1234       native              annual           forb           \n",
              "2  xxx-xxx   1234       native              annual           graminoid      \n",
              "3  xxx-xxx   1234       native              biennial         forb           \n",
              "4  xxx-xxx   1234       native              multiple         forb           \n",
              "5  xxx-xxx   1234       native              multiple         graminoid      \n",
              "6  xxx-xxx   1234       native              perennial        forb           \n",
              "7  xxx-xxx   1234       native              perennial        graminoid      \n",
              "8  xxx-xxx   1234       native              perennial        shrub          \n",
              "9  xxx-xxx   1234       native              perennial        tree           \n",
              "10 xxx-xxx   1234       native              perennial        vine           \n",
              "11 xxx-xxx   1234       native              unknown          forb           \n",
              "12 xxx-xxx   1234       nonnative           annual           forb           \n",
              "13 xxx-xxx   1234       nonnative           annual           graminoid      \n",
              "14 xxx-xxx   1234       nonnative           biennial         forb           \n",
              "15 xxx-xxx   1234       nonnative           multiple         forb           \n",
              "16 xxx-xxx   1234       nonnative           perennial        forb           \n",
              "17 xxx-xxx   1234       nonnative           perennial        graminoid      \n",
              "18 xxx-xxx   1234       nonnative           perennial        shrub          \n",
              "19 xxx-xxx   1234       nonnative           perennial        tree           \n",
              "20 xxx-xxx   1234       nonnative           perennial        vine           \n",
              "21 xxx-xxx   1234       nonnative           unknown          forb           \n",
              "22 xxx-xxx   1234       nonnative           unknown          graminoid      \n",
              "23 xxx-xxx   1234       unknown             annual           forb           \n",
              "24 xxx-xxx   1234       unknown             perennial        forb           \n",
              "25 xxx-xxx   1234       unknown             perennial        graminoid      \n",
              "26 xxx-xxx   1234       unknown             unknown          forb           \n",
              "27 xxx-xxx   1234       unknown             unknown          graminoid      \n",
              "28 xxx-xxx   1234       unknown             unknown          shrub          \n",
              "29 xxx-xxx   1234       unknown             unknown          tree           \n",
              "30 xxx-xxx   1234       unknown             unknown          unknown        \n",
              "   intercepts_pct detection_rate\n",
              "1  0              0             \n",
              "2  0              0             \n",
              "3  0              0             \n",
              "4  0              0             \n",
              "5  0              0             \n",
              "6  0              0             \n",
              "7  0              0             \n",
              "8  0              0             \n",
              "9  0              0             \n",
              "10 0              0             \n",
              "11 0              0             \n",
              "12 0              0             \n",
              "13 0              0             \n",
              "14 0              0             \n",
              "15 0              0             \n",
              "16 0              0             \n",
              "17 0              0             \n",
              "18 0              0             \n",
              "19 0              0             \n",
              "20 0              0             \n",
              "21 0              0             \n",
              "22 0              0             \n",
              "23 0              0             \n",
              "24 0              0             \n",
              "25 0              0             \n",
              "26 0              0             \n",
              "27 0              0             \n",
              "28 0              0             \n",
              "29 0              0             \n",
              "30 0              0             "
            ],
            "text/latex": "A data.frame: 30 × 7\n\\begin{tabular}{lllllll}\n survey\\_ID & grid\\_point & plant\\_native\\_status & plant\\_life\\_cycle & plant\\_life\\_form & intercepts\\_pct & detection\\_rate\\\\\n <fct> & <dbl> & <fct> & <fct> & <fct> & <dbl> & <dbl>\\\\\n\\hline\n\t xxx-xxx & 1234 & native    & annual    & forb      & 0 & 0\\\\\n\t xxx-xxx & 1234 & native    & annual    & graminoid & 0 & 0\\\\\n\t xxx-xxx & 1234 & native    & biennial  & forb      & 0 & 0\\\\\n\t xxx-xxx & 1234 & native    & multiple  & forb      & 0 & 0\\\\\n\t xxx-xxx & 1234 & native    & multiple  & graminoid & 0 & 0\\\\\n\t xxx-xxx & 1234 & native    & perennial & forb      & 0 & 0\\\\\n\t xxx-xxx & 1234 & native    & perennial & graminoid & 0 & 0\\\\\n\t xxx-xxx & 1234 & native    & perennial & shrub     & 0 & 0\\\\\n\t xxx-xxx & 1234 & native    & perennial & tree      & 0 & 0\\\\\n\t xxx-xxx & 1234 & native    & perennial & vine      & 0 & 0\\\\\n\t xxx-xxx & 1234 & native    & unknown   & forb      & 0 & 0\\\\\n\t xxx-xxx & 1234 & nonnative & annual    & forb      & 0 & 0\\\\\n\t xxx-xxx & 1234 & nonnative & annual    & graminoid & 0 & 0\\\\\n\t xxx-xxx & 1234 & nonnative & biennial  & forb      & 0 & 0\\\\\n\t xxx-xxx & 1234 & nonnative & multiple  & forb      & 0 & 0\\\\\n\t xxx-xxx & 1234 & nonnative & perennial & forb      & 0 & 0\\\\\n\t xxx-xxx & 1234 & nonnative & perennial & graminoid & 0 & 0\\\\\n\t xxx-xxx & 1234 & nonnative & perennial & shrub     & 0 & 0\\\\\n\t xxx-xxx & 1234 & nonnative & perennial & tree      & 0 & 0\\\\\n\t xxx-xxx & 1234 & nonnative & perennial & vine      & 0 & 0\\\\\n\t xxx-xxx & 1234 & nonnative & unknown   & forb      & 0 & 0\\\\\n\t xxx-xxx & 1234 & nonnative & unknown   & graminoid & 0 & 0\\\\\n\t xxx-xxx & 1234 & unknown   & annual    & forb      & 0 & 0\\\\\n\t xxx-xxx & 1234 & unknown   & perennial & forb      & 0 & 0\\\\\n\t xxx-xxx & 1234 & unknown   & perennial & graminoid & 0 & 0\\\\\n\t xxx-xxx & 1234 & unknown   & unknown   & forb      & 0 & 0\\\\\n\t xxx-xxx & 1234 & unknown   & unknown   & graminoid & 0 & 0\\\\\n\t xxx-xxx & 1234 & unknown   & unknown   & shrub     & 0 & 0\\\\\n\t xxx-xxx & 1234 & unknown   & unknown   & tree      & 0 & 0\\\\\n\t xxx-xxx & 1234 & unknown   & unknown   & unknown   & 0 & 0\\\\\n\\end{tabular}\n",
            "text/markdown": "\nA data.frame: 30 × 7\n\n| survey_ID &lt;fct&gt; | grid_point &lt;dbl&gt; | plant_native_status &lt;fct&gt; | plant_life_cycle &lt;fct&gt; | plant_life_form &lt;fct&gt; | intercepts_pct &lt;dbl&gt; | detection_rate &lt;dbl&gt; |\n|---|---|---|---|---|---|---|\n| xxx-xxx | 1234 | native    | annual    | forb      | 0 | 0 |\n| xxx-xxx | 1234 | native    | annual    | graminoid | 0 | 0 |\n| xxx-xxx | 1234 | native    | biennial  | forb      | 0 | 0 |\n| xxx-xxx | 1234 | native    | multiple  | forb      | 0 | 0 |\n| xxx-xxx | 1234 | native    | multiple  | graminoid | 0 | 0 |\n| xxx-xxx | 1234 | native    | perennial | forb      | 0 | 0 |\n| xxx-xxx | 1234 | native    | perennial | graminoid | 0 | 0 |\n| xxx-xxx | 1234 | native    | perennial | shrub     | 0 | 0 |\n| xxx-xxx | 1234 | native    | perennial | tree      | 0 | 0 |\n| xxx-xxx | 1234 | native    | perennial | vine      | 0 | 0 |\n| xxx-xxx | 1234 | native    | unknown   | forb      | 0 | 0 |\n| xxx-xxx | 1234 | nonnative | annual    | forb      | 0 | 0 |\n| xxx-xxx | 1234 | nonnative | annual    | graminoid | 0 | 0 |\n| xxx-xxx | 1234 | nonnative | biennial  | forb      | 0 | 0 |\n| xxx-xxx | 1234 | nonnative | multiple  | forb      | 0 | 0 |\n| xxx-xxx | 1234 | nonnative | perennial | forb      | 0 | 0 |\n| xxx-xxx | 1234 | nonnative | perennial | graminoid | 0 | 0 |\n| xxx-xxx | 1234 | nonnative | perennial | shrub     | 0 | 0 |\n| xxx-xxx | 1234 | nonnative | perennial | tree      | 0 | 0 |\n| xxx-xxx | 1234 | nonnative | perennial | vine      | 0 | 0 |\n| xxx-xxx | 1234 | nonnative | unknown   | forb      | 0 | 0 |\n| xxx-xxx | 1234 | nonnative | unknown   | graminoid | 0 | 0 |\n| xxx-xxx | 1234 | unknown   | annual    | forb      | 0 | 0 |\n| xxx-xxx | 1234 | unknown   | perennial | forb      | 0 | 0 |\n| xxx-xxx | 1234 | unknown   | perennial | graminoid | 0 | 0 |\n| xxx-xxx | 1234 | unknown   | unknown   | forb      | 0 | 0 |\n| xxx-xxx | 1234 | unknown   | unknown   | graminoid | 0 | 0 |\n| xxx-xxx | 1234 | unknown   | unknown   | shrub     | 0 | 0 |\n| xxx-xxx | 1234 | unknown   | unknown   | tree      | 0 | 0 |\n| xxx-xxx | 1234 | unknown   | unknown   | unknown   | 0 | 0 |\n\n",
            "text/html": [
              "<table>\n",
              "<caption>A data.frame: 30 × 7</caption>\n",
              "<thead>\n",
              "\t<tr><th scope=col>survey_ID</th><th scope=col>grid_point</th><th scope=col>plant_native_status</th><th scope=col>plant_life_cycle</th><th scope=col>plant_life_form</th><th scope=col>intercepts_pct</th><th scope=col>detection_rate</th></tr>\n",
              "\t<tr><th scope=col>&lt;fct&gt;</th><th scope=col>&lt;dbl&gt;</th><th scope=col>&lt;fct&gt;</th><th scope=col>&lt;fct&gt;</th><th scope=col>&lt;fct&gt;</th><th scope=col>&lt;dbl&gt;</th><th scope=col>&lt;dbl&gt;</th></tr>\n",
              "</thead>\n",
              "<tbody>\n",
              "\t<tr><td>xxx-xxx</td><td>1234</td><td>native   </td><td>annual   </td><td>forb     </td><td>0</td><td>0</td></tr>\n",
              "\t<tr><td>xxx-xxx</td><td>1234</td><td>native   </td><td>annual   </td><td>graminoid</td><td>0</td><td>0</td></tr>\n",
              "\t<tr><td>xxx-xxx</td><td>1234</td><td>native   </td><td>biennial </td><td>forb     </td><td>0</td><td>0</td></tr>\n",
              "\t<tr><td>xxx-xxx</td><td>1234</td><td>native   </td><td>multiple </td><td>forb     </td><td>0</td><td>0</td></tr>\n",
              "\t<tr><td>xxx-xxx</td><td>1234</td><td>native   </td><td>multiple </td><td>graminoid</td><td>0</td><td>0</td></tr>\n",
              "\t<tr><td>xxx-xxx</td><td>1234</td><td>native   </td><td>perennial</td><td>forb     </td><td>0</td><td>0</td></tr>\n",
              "\t<tr><td>xxx-xxx</td><td>1234</td><td>native   </td><td>perennial</td><td>graminoid</td><td>0</td><td>0</td></tr>\n",
              "\t<tr><td>xxx-xxx</td><td>1234</td><td>native   </td><td>perennial</td><td>shrub    </td><td>0</td><td>0</td></tr>\n",
              "\t<tr><td>xxx-xxx</td><td>1234</td><td>native   </td><td>perennial</td><td>tree     </td><td>0</td><td>0</td></tr>\n",
              "\t<tr><td>xxx-xxx</td><td>1234</td><td>native   </td><td>perennial</td><td>vine     </td><td>0</td><td>0</td></tr>\n",
              "\t<tr><td>xxx-xxx</td><td>1234</td><td>native   </td><td>unknown  </td><td>forb     </td><td>0</td><td>0</td></tr>\n",
              "\t<tr><td>xxx-xxx</td><td>1234</td><td>nonnative</td><td>annual   </td><td>forb     </td><td>0</td><td>0</td></tr>\n",
              "\t<tr><td>xxx-xxx</td><td>1234</td><td>nonnative</td><td>annual   </td><td>graminoid</td><td>0</td><td>0</td></tr>\n",
              "\t<tr><td>xxx-xxx</td><td>1234</td><td>nonnative</td><td>biennial </td><td>forb     </td><td>0</td><td>0</td></tr>\n",
              "\t<tr><td>xxx-xxx</td><td>1234</td><td>nonnative</td><td>multiple </td><td>forb     </td><td>0</td><td>0</td></tr>\n",
              "\t<tr><td>xxx-xxx</td><td>1234</td><td>nonnative</td><td>perennial</td><td>forb     </td><td>0</td><td>0</td></tr>\n",
              "\t<tr><td>xxx-xxx</td><td>1234</td><td>nonnative</td><td>perennial</td><td>graminoid</td><td>0</td><td>0</td></tr>\n",
              "\t<tr><td>xxx-xxx</td><td>1234</td><td>nonnative</td><td>perennial</td><td>shrub    </td><td>0</td><td>0</td></tr>\n",
              "\t<tr><td>xxx-xxx</td><td>1234</td><td>nonnative</td><td>perennial</td><td>tree     </td><td>0</td><td>0</td></tr>\n",
              "\t<tr><td>xxx-xxx</td><td>1234</td><td>nonnative</td><td>perennial</td><td>vine     </td><td>0</td><td>0</td></tr>\n",
              "\t<tr><td>xxx-xxx</td><td>1234</td><td>nonnative</td><td>unknown  </td><td>forb     </td><td>0</td><td>0</td></tr>\n",
              "\t<tr><td>xxx-xxx</td><td>1234</td><td>nonnative</td><td>unknown  </td><td>graminoid</td><td>0</td><td>0</td></tr>\n",
              "\t<tr><td>xxx-xxx</td><td>1234</td><td>unknown  </td><td>annual   </td><td>forb     </td><td>0</td><td>0</td></tr>\n",
              "\t<tr><td>xxx-xxx</td><td>1234</td><td>unknown  </td><td>perennial</td><td>forb     </td><td>0</td><td>0</td></tr>\n",
              "\t<tr><td>xxx-xxx</td><td>1234</td><td>unknown  </td><td>perennial</td><td>graminoid</td><td>0</td><td>0</td></tr>\n",
              "\t<tr><td>xxx-xxx</td><td>1234</td><td>unknown  </td><td>unknown  </td><td>forb     </td><td>0</td><td>0</td></tr>\n",
              "\t<tr><td>xxx-xxx</td><td>1234</td><td>unknown  </td><td>unknown  </td><td>graminoid</td><td>0</td><td>0</td></tr>\n",
              "\t<tr><td>xxx-xxx</td><td>1234</td><td>unknown  </td><td>unknown  </td><td>shrub    </td><td>0</td><td>0</td></tr>\n",
              "\t<tr><td>xxx-xxx</td><td>1234</td><td>unknown  </td><td>unknown  </td><td>tree     </td><td>0</td><td>0</td></tr>\n",
              "\t<tr><td>xxx-xxx</td><td>1234</td><td>unknown  </td><td>unknown  </td><td>unknown  </td><td>0</td><td>0</td></tr>\n",
              "</tbody>\n",
              "</table>\n"
            ]
          },
          "metadata": {
            "tags": []
          }
        }
      ]
    },
    {
      "cell_type": "markdown",
      "metadata": {
        "id": "uF8wGLU39Ruo",
        "colab_type": "text"
      },
      "source": [
        "## Group Fill"
      ]
    },
    {
      "cell_type": "code",
      "metadata": {
        "id": "bG0J2nMVYF7n",
        "colab_type": "code",
        "colab": {}
      },
      "source": [
        "df_plant_functional_groups <- df_plant_functional_groups %>%\n",
        "  ungroup() %>%\n",
        "  complete(survey_ID, \n",
        "           nesting(plant_native_status, plant_life_cycle, plant_life_form), \n",
        "           fill = list(intercepts_pct = 0, detection_rate = 0))"
      ],
      "execution_count": null,
      "outputs": []
    },
    {
      "cell_type": "code",
      "metadata": {
        "id": "YSu3Uj-jUkMN",
        "colab_type": "code",
        "colab": {}
      },
      "source": [
        "# create reference matrix to refresh grid_points\n",
        "df_grid_point_ref <- df_plant_intercepts %>%\n",
        "  select(survey_ID, grid_point) %>%\n",
        "  distinct(survey_ID, grid_point)"
      ],
      "execution_count": null,
      "outputs": []
    },
    {
      "cell_type": "code",
      "metadata": {
        "id": "kQJi9FoXoJXM",
        "colab_type": "code",
        "colab": {}
      },
      "source": [
        "# df_plant_functional_groups %>%\n",
        "#   select(plant_native_status, plant_life_cycle, plant_life_form) %>%\n",
        "#   distinct(plant_native_status, plant_life_cycle, plant_life_form)"
      ],
      "execution_count": null,
      "outputs": []
    },
    {
      "cell_type": "code",
      "metadata": {
        "id": "GegMoeCPWoSK",
        "colab_type": "code",
        "colab": {
          "base_uri": "https://localhost:8080/",
          "height": 674
        },
        "outputId": "b1fc4eb7-15f6-44f6-bdbd-7c0ab8ed78a2"
      },
      "source": [
        "df_plant_functional_groups <- df_plant_functional_groups %>%\n",
        "  select(!grid_point) %>%\n",
        "  left_join(df_grid_point_ref)"
      ],
      "execution_count": null,
      "outputs": [
        {
          "output_type": "stream",
          "text": [
            "Note: Using an external vector in selections is ambiguous.\n",
            "\u001b[34mℹ\u001b[39m Use `all_of(grid_point)` instead of `grid_point` to silence this message.\n",
            "\u001b[34mℹ\u001b[39m See <https://tidyselect.r-lib.org/reference/faq-external-vector.html>.\n",
            "\u001b[90mThis message is displayed once per session.\u001b[39m\n",
            "\n"
          ],
          "name": "stderr"
        },
        {
          "output_type": "error",
          "ename": "ERROR",
          "evalue": "ignored",
          "traceback": [
            "Error: Can't subset columns that don't exist.\n\u001b[31m✖\u001b[39m Locations 1234, 1234, 1234, 1234, 1234, etc. don't exist.\n\u001b[34mℹ\u001b[39m There are only 6 columns.\nTraceback:\n",
            "1. df_plant_functional_groups %>% select(!grid_point) %>% left_join(df_grid_point_ref)",
            "2. withVisible(eval(quote(`_fseq`(`_lhs`)), env, env))",
            "3. eval(quote(`_fseq`(`_lhs`)), env, env)",
            "4. eval(quote(`_fseq`(`_lhs`)), env, env)",
            "5. `_fseq`(`_lhs`)",
            "6. freduce(value, `_function_list`)",
            "7. function_list[[i]](value)",
            "8. select(., !grid_point)",
            "9. select.data.frame(., !grid_point)",
            "10. tidyselect::eval_select(expr(c(...)), .data)",
            "11. eval_select_impl(data, names(data), as_quosure(expr, env), include = include, \n  .     exclude = exclude, strict = strict, name_spec = name_spec, \n  .     allow_rename = allow_rename)",
            "12. with_subscript_errors(vars_select_eval(vars, expr, strict, data = x, \n  .     name_spec = name_spec, uniquely_named = uniquely_named, allow_rename = allow_rename, \n  .     type = type), type = type)",
            "13. tryCatch(instrument_base_errors(expr), vctrs_error_subscript = function(cnd) {\n  .     cnd$subscript_action <- subscript_action(type)\n  .     cnd$subscript_elt <- \"column\"\n  .     cnd_signal(cnd)\n  . })",
            "14. tryCatchList(expr, classes, parentenv, handlers)",
            "15. tryCatchOne(expr, names, parentenv, handlers[[1L]])",
            "16. value[[3L]](cond)",
            "17. cnd_signal(cnd)",
            "18. rlang:::signal_abort(x)"
          ]
        }
      ]
    },
    {
      "cell_type": "code",
      "metadata": {
        "id": "-ejVwEPDiD6s",
        "colab_type": "code",
        "colab": {
          "base_uri": "https://localhost:8080/",
          "height": 133
        },
        "outputId": "737e9d47-bc32-4e44-9f7b-0044e8c397ca"
      },
      "source": [
        "df_plant_functional_groups %>%\n",
        "  select(plant_native_status, plant_life_cycle, plant_life_form) %>%\n",
        "  distinct(plant_native_status, plant_life_cycle, plant_life_form) %>%\n",
        "  count()"
      ],
      "execution_count": null,
      "outputs": [
        {
          "output_type": "display_data",
          "data": {
            "text/plain": [
              "  n \n",
              "1 25"
            ],
            "text/latex": "A tibble: 1 × 1\n\\begin{tabular}{l}\n n\\\\\n <int>\\\\\n\\hline\n\t 25\\\\\n\\end{tabular}\n",
            "text/markdown": "\nA tibble: 1 × 1\n\n| n &lt;int&gt; |\n|---|\n| 25 |\n\n",
            "text/html": [
              "<table>\n",
              "<caption>A tibble: 1 × 1</caption>\n",
              "<thead>\n",
              "\t<tr><th scope=col>n</th></tr>\n",
              "\t<tr><th scope=col>&lt;int&gt;</th></tr>\n",
              "</thead>\n",
              "<tbody>\n",
              "\t<tr><td>25</td></tr>\n",
              "</tbody>\n",
              "</table>\n"
            ]
          },
          "metadata": {
            "tags": []
          }
        }
      ]
    },
    {
      "cell_type": "code",
      "metadata": {
        "id": "uVnsoyeuKy72",
        "colab_type": "code",
        "colab": {
          "base_uri": "https://localhost:8080/",
          "height": 133
        },
        "outputId": "1a8f9872-b02d-4f74-94ec-c04faeb593e0"
      },
      "source": [
        "df_plant_functional_groups %>%\n",
        "  filter(survey_ID == \"833\") %>%\n",
        "  select(survey_ID, plant_native_status, plant_life_cycle, plant_life_form) %>%\n",
        "  distinct(survey_ID, plant_native_status, plant_life_cycle, plant_life_form) %>%\n",
        "  count()"
      ],
      "execution_count": null,
      "outputs": [
        {
          "output_type": "display_data",
          "data": {
            "text/plain": [
              "  n \n",
              "1 25"
            ],
            "text/latex": "A tibble: 1 × 1\n\\begin{tabular}{l}\n n\\\\\n <int>\\\\\n\\hline\n\t 25\\\\\n\\end{tabular}\n",
            "text/markdown": "\nA tibble: 1 × 1\n\n| n &lt;int&gt; |\n|---|\n| 25 |\n\n",
            "text/html": [
              "<table>\n",
              "<caption>A tibble: 1 × 1</caption>\n",
              "<thead>\n",
              "\t<tr><th scope=col>n</th></tr>\n",
              "\t<tr><th scope=col>&lt;int&gt;</th></tr>\n",
              "</thead>\n",
              "<tbody>\n",
              "\t<tr><td>25</td></tr>\n",
              "</tbody>\n",
              "</table>\n"
            ]
          },
          "metadata": {
            "tags": []
          }
        }
      ]
    },
    {
      "cell_type": "code",
      "metadata": {
        "id": "jlpM9UNhKy5G",
        "colab_type": "code",
        "colab": {
          "base_uri": "https://localhost:8080/",
          "height": 133
        },
        "outputId": "80d990df-54d7-4307-dd9b-12982984d29d"
      },
      "source": [
        "df_plant_functional_groups %>%\n",
        "  distinct(survey_ID) %>%\n",
        "  count()"
      ],
      "execution_count": null,
      "outputs": [
        {
          "output_type": "display_data",
          "data": {
            "text/plain": [
              "  n   \n",
              "1 1242"
            ],
            "text/latex": "A tibble: 1 × 1\n\\begin{tabular}{l}\n n\\\\\n <int>\\\\\n\\hline\n\t 1242\\\\\n\\end{tabular}\n",
            "text/markdown": "\nA tibble: 1 × 1\n\n| n &lt;int&gt; |\n|---|\n| 1242 |\n\n",
            "text/html": [
              "<table>\n",
              "<caption>A tibble: 1 × 1</caption>\n",
              "<thead>\n",
              "\t<tr><th scope=col>n</th></tr>\n",
              "\t<tr><th scope=col>&lt;int&gt;</th></tr>\n",
              "</thead>\n",
              "<tbody>\n",
              "\t<tr><td>1242</td></tr>\n",
              "</tbody>\n",
              "</table>\n"
            ]
          },
          "metadata": {
            "tags": []
          }
        }
      ]
    },
    {
      "cell_type": "markdown",
      "metadata": {
        "id": "99TdhYBVxNb2",
        "colab_type": "text"
      },
      "source": [
        "ultimately multiply number of functional groups by survey should equal rows"
      ]
    }
  ]
}